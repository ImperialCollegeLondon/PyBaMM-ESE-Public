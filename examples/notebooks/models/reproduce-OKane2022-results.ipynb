{
 "cells": [
  {
   "cell_type": "code",
   "execution_count": 1,
   "id": "72f8f813",
   "metadata": {},
   "outputs": [],
   "source": [
    "#import os\n",
    "import matplotlib.pyplot as plt\n",
    "import numpy as np\n",
    "import pybamm\n",
    "import pandas as pd\n",
    "import timeit\n",
    "start = timeit.default_timer()\n",
    "#os.chdir(pybamm.__path__[0]+'/..')\n",
    "# pybamm.set_logging_level(\"INFO\")"
   ]
  },
  {
   "cell_type": "code",
   "execution_count": 2,
   "id": "7d053c74",
   "metadata": {},
   "outputs": [],
   "source": [
    "model = pybamm.lithium_ion.DFN(\n",
    "    options={\n",
    "        \"particle\": \"Fickian diffusion\", \n",
    "        \"SEI\": \"solvent-diffusion limited\",\n",
    "        \"SEI on cracks\": \"true\",\n",
    "        \"SEI film resistance\": \"distributed\", \n",
    "        \"SEI porosity change\": \"true\",\n",
    "        \"particle mechanics\": (\"swelling and cracking\", \"swelling only\"),\n",
    "        \"loss of active material\": \"stress-driven\",\n",
    "        \"lithium plating\": \"partially reversible\"\n",
    "    }\n",
    ")"
   ]
  },
  {
   "cell_type": "code",
   "execution_count": 3,
   "id": "a29d2eec",
   "metadata": {},
   "outputs": [],
   "source": [
    "chemistry = pybamm.parameter_sets.OKane2022\n",
    "param = pybamm.ParameterValues(chemistry=chemistry)\n",
    "param.update({\"Upper voltage cut-off [V]\": 4.21})\n",
    "param.update({\"Lower voltage cut-off [V]\": 2.49})"
   ]
  },
  {
   "cell_type": "code",
   "execution_count": 4,
   "id": "943156ae",
   "metadata": {},
   "outputs": [],
   "source": [
    "total_cycles=10\n",
    "exp = pybamm.Experiment(\n",
    "    [\"Hold at 4.2V until C/100\",\"Rest for 4 hours (5 minute period)\",\"Discharge at C/10 until 2.5V (5 minute period)\", \n",
    "    \"Charge at 0.3C until 4.2V (5 minute period)\",\"Hold at 4.2V until C/100 (5 minute period)\"] + [(\n",
    "    \"Discharge at 1C until 2.5V\",\"Charge at 0.3C until 4.2V (5 minute period)\",\"Hold at 4.2V until C/100 (5 minute period)\",\n",
    "    ),] * total_cycles + [\"Discharge at C/10 until 2.5V (5 minute period)\"]\n",
    ")"
   ]
  },
  {
   "cell_type": "code",
   "execution_count": 5,
   "id": "0b12298f",
   "metadata": {},
   "outputs": [],
   "source": [
    "# set mesh\n",
    "submesh_types = model.default_submesh_types\n",
    "particle_mesh = pybamm.MeshGenerator(pybamm.Exponential1DSubMesh, submesh_params={\"side\": \"right\", \"stretch\": 2.3})\n",
    "submesh_types[\"negative particle\"] = particle_mesh\n",
    "submesh_types[\"positive particle\"] = particle_mesh"
   ]
  },
  {
   "cell_type": "code",
   "execution_count": 6,
   "id": "e07b49f1",
   "metadata": {},
   "outputs": [
    {
     "name": "stdout",
     "output_type": "stream",
     "text": [
      "running time: 86.61677140000393s\n"
     ]
    }
   ],
   "source": [
    "sim1 = pybamm.Simulation(\n",
    "    model, \n",
    "    experiment=exp,\n",
    "    parameter_values=param,\n",
    "    solver=pybamm.CasadiSolver(),\n",
    "    submesh_types = submesh_types,\n",
    ")\n",
    "solution1 = sim1.solve(calc_esoh=False)\n",
    "\n",
    "stop = timeit.default_timer()\n",
    "print('running time: ' + str(stop - start) +'s')"
   ]
  },
  {
   "cell_type": "code",
   "execution_count": null,
   "id": "0a0d36e6",
   "metadata": {},
   "outputs": [],
   "source": []
  }
 ],
 "metadata": {
  "kernelspec": {
   "display_name": "Python 3 (ipykernel)",
   "language": "python",
   "name": "python3"
  },
  "language_info": {
   "codemirror_mode": {
    "name": "ipython",
    "version": 3
   },
   "file_extension": ".py",
   "mimetype": "text/x-python",
   "name": "python",
   "nbconvert_exporter": "python",
   "pygments_lexer": "ipython3",
   "version": "3.8.10"
  }
 },
 "nbformat": 4,
 "nbformat_minor": 5
}
