{
 "cells": [
  {
   "cell_type": "markdown",
   "id": "c06618dc",
   "metadata": {},
   "source": [
    "This is an example notebook and is not designed to reproduce any particular result. Feel free to adapt it for your own use."
   ]
  },
  {
   "cell_type": "code",
   "execution_count": 1,
   "id": "72f8f813",
   "metadata": {},
   "outputs": [],
   "source": [
    "#import os\n",
    "import matplotlib.pyplot as plt\n",
    "import numpy as np\n",
    "import pybamm\n",
    "import pandas as pd\n",
    "import timeit\n",
    "start = timeit.default_timer()\n",
    "#os.chdir(pybamm.__path__[0]+'/..')\n",
    "# pybamm.set_logging_level(\"INFO\")"
   ]
  },
  {
   "cell_type": "code",
   "execution_count": 2,
   "id": "7d053c74",
   "metadata": {},
   "outputs": [],
   "source": [
    "model = pybamm.lithium_ion.DFN(\n",
    "    options={\n",
    "        \"open circuit potential\": \"current sigmoid\",\n",
    "        \"thermal\": \"lumped\",\n",
    "        \"SEI\": \"interstitial-diffusion limited\",\n",
    "        \"SEI on cracks\": \"true\",\n",
    "        \"SEI film resistance\": \"distributed\", \n",
    "        \"SEI porosity change\": \"true\",\n",
    "        \"particle mechanics\": (\"swelling and cracking\", \"swelling only\"),\n",
    "        \"loss of active material\": \"stress-driven\",\n",
    "        \"lithium plating\": \"partially reversible\"\n",
    "    }\n",
    ")"
   ]
  },
  {
   "cell_type": "code",
   "execution_count": 3,
   "id": "a29d2eec",
   "metadata": {},
   "outputs": [],
   "source": [
    "param = pybamm.ParameterValues(\"OKane2023\")\n",
    "# Adjust SEI parameters\n",
    "param.update({\"Inner SEI lithium interstitial diffusivity [m2.s-1]\": 3e-19})\n",
    "# Override SEI thickness dependence of lithium plating\n",
    "param.update({\"Dead lithium decay rate [s-1]\": 1e-6})\n",
    "param.update({\"Lithium plating kinetic rate constant [m.s-1]\": 1e-10})\n",
    "# Adjust mechanical degradation parameters\n",
    "param.update({\"Negative electrode cracking rate\": 1e-22})\n",
    "param.update({\"Negative electrode LAM constant proportional term [s-1]\": 1e-9})\n",
    "param.update({\"Positive electrode LAM constant proportional term [s-1]\": 1e-9})"
   ]
  },
  {
   "cell_type": "code",
   "execution_count": 4,
   "id": "943156ae",
   "metadata": {},
   "outputs": [],
   "source": [
    "# C/10 discharge/charge run at start and after every 78 ageing cycles \n",
    "exp = pybamm.Experiment(\n",
    "    [(\"Hold at 4.2V until C/100\", \"Rest for 4 hours (5 minute period)\"),] +  # Formation \"cycle\" run once only\n",
    "    [(\"Discharge at C/10 until 2.5V (5 minute period)\", \"Charge at 0.1C until 4.2V (5 minute period)\", \"Hold at 4.2V until C/100 (5 minute period)\"),] +\n",
    "    [(\"Discharge at 1C until 2.5V\", \"Charge at 0.3C until 4.2V (5 minute period)\", \"Hold at 4.2V until C/100 (5 minute period)\"),] * 78 +\n",
    "    [(\"Discharge at C/10 until 2.5V (5 minute period)\", \"Charge at 0.1C until 4.2V (5 minute period)\", \"Hold at 4.2V until C/100 (5 minute period)\"),] +\n",
    "    [(\"Discharge at 1C until 2.5V\", \"Charge at 0.3C until 4.2V (5 minute period)\", \"Hold at 4.2V until C/100 (5 minute period)\"),] * 78 +\n",
    "    [(\"Discharge at C/10 until 2.5V (5 minute period)\", \"Charge at 0.1C until 4.2V (5 minute period)\", \"Hold at 4.2V until C/100 (5 minute period)\"),] +\n",
    "    [(\"Discharge at 1C until 2.5V\", \"Charge at 0.3C until 4.2V (5 minute period)\", \"Hold at 4.2V until C/100 (5 minute period)\"),] * 78 +\n",
    "    [(\"Discharge at C/10 until 2.5V (5 minute period)\", \"Charge at 0.1C until 4.2V (5 minute period)\", \"Hold at 4.2V until C/100 (5 minute period)\"),] +\n",
    "    [(\"Discharge at 1C until 2.5V\", \"Charge at 0.3C until 4.2V (5 minute period)\", \"Hold at 4.2V until C/100 (5 minute period)\"),] * 78 +\n",
    "    [(\"Discharge at C/10 until 2.5V (5 minute period)\", \"Charge at 0.1C until 4.2V (5 minute period)\", \"Hold at 4.2V until C/100 (5 minute period)\"),] +\n",
    "    [(\"Discharge at 1C until 2.5V\", \"Charge at 0.3C until 4.2V (5 minute period)\", \"Hold at 4.2V until C/100 (5 minute period)\"),] * 78 +\n",
    "    [(\"Discharge at C/10 until 2.5V (5 minute period)\", \"Charge at 0.1C until 4.2V (5 minute period)\", \"Hold at 4.2V until C/100 (5 minute period)\"),] +\n",
    "    [(\"Discharge at 1C until 2.5V\", \"Charge at 0.3C until 4.2V (5 minute period)\", \"Hold at 4.2V until C/100 (5 minute period)\"),] * 78 +\n",
    "    [(\"Discharge at C/10 until 2.5V (5 minute period)\", \"Charge at 0.1C until 4.2V (5 minute period)\", \"Hold at 4.2V until C/100 (5 minute period)\"),] +\n",
    "    [(\"Discharge at 1C until 2.5V\", \"Charge at 0.3C until 4.2V (5 minute period)\", \"Hold at 4.2V until C/100 (5 minute period)\"),] * 78 +\n",
    "    [(\"Discharge at C/10 until 2.5V (5 minute period)\", \"Charge at 0.1C until 4.2V (5 minute period)\", \"Hold at 4.2V until C/100 (5 minute period)\"),] +\n",
    "    [(\"Discharge at 1C until 2.5V\", \"Charge at 0.3C until 4.2V (5 minute period)\", \"Hold at 4.2V until C/100 (5 minute period)\"),] * 78 +\n",
    "    [(\"Discharge at C/10 until 2.5V (5 minute period)\", \"Charge at 0.1C until 4.2V (5 minute period)\", \"Hold at 4.2V until C/100 (5 minute period)\"),] +\n",
    "    [(\"Discharge at 1C until 2.5V\", \"Charge at 0.3C until 4.2V (5 minute period)\", \"Hold at 4.2V until C/100 (5 minute period)\"),] * 78 +\n",
    "    [(\"Discharge at C/10 until 2.5V (5 minute period)\", \"Charge at 0.1C until 4.2V (5 minute period)\", \"Hold at 4.2V until C/100 (5 minute period)\"),] +\n",
    "    [(\"Discharge at 1C until 2.5V\", \"Charge at 0.3C until 4.2V (5 minute period)\", \"Hold at 4.2V until C/100 (5 minute period)\"),] * 78 +\n",
    "    [(\"Discharge at C/10 until 2.5V (5 minute period)\", \"Charge at 0.1C until 4.2V (5 minute period)\", \"Hold at 4.2V until C/100 (5 minute period)\"),] +\n",
    "    [(\"Discharge at 1C until 2.5V\", \"Charge at 0.3C until 4.2V (5 minute period)\", \"Hold at 4.2V until C/100 (5 minute period)\"),] * 78 +\n",
    "    [(\"Discharge at C/10 until 2.5V (5 minute period)\", \"Charge at 0.1C until 4.2V (5 minute period)\", \"Hold at 4.2V until C/100 (5 minute period)\"),] +\n",
    "    [(\"Discharge at 1C until 2.5V\", \"Charge at 0.3C until 4.2V (5 minute period)\", \"Hold at 4.2V until C/100 (5 minute period)\"),] * 78 +\n",
    "    [(\"Discharge at C/10 until 2.5V (5 minute period)\", \"Charge at 0.1C until 4.2V (5 minute period)\", \"Hold at 4.2V until C/100 (5 minute period)\"),] +\n",
    "    [(\"Discharge at 1C until 2.5V\", \"Charge at 0.3C until 4.2V (5 minute period)\", \"Hold at 4.2V until C/100 (5 minute period)\"),] * 78 +\n",
    "    [(\"Discharge at C/10 until 2.5V (5 minute period)\", \"Charge at 0.1C until 4.2V (5 minute period)\", \"Hold at 4.2V until C/100 (5 minute period)\"),] +\n",
    "    [(\"Discharge at 1C until 2.5V\", \"Charge at 0.3C until 4.2V (5 minute period)\", \"Hold at 4.2V until C/100 (5 minute period)\"),] * 78 +\n",
    "    [(\"Discharge at C/10 until 2.5V (5 minute period)\", \"Charge at 0.1C until 4.2V (5 minute period)\", \"Hold at 4.2V until C/100 (5 minute period)\"),] +\n",
    "    [(\"Discharge at 1C until 2.5V\", \"Charge at 0.3C until 4.2V (5 minute period)\", \"Hold at 4.2V until C/100 (5 minute period)\"),] * 78 +\n",
    "    [(\"Discharge at C/10 until 2.5V (5 minute period)\", \"Charge at 0.1C until 4.2V (5 minute period)\", \"Hold at 4.2V until C/100 (5 minute period)\"),]\n",
    ")"
   ]
  },
  {
   "cell_type": "code",
   "execution_count": 5,
   "id": "ea962813",
   "metadata": {},
   "outputs": [],
   "source": [
    "var_pts = {\n",
    "    \"x_n\": 5,  # negative electrode\n",
    "    \"x_s\": 5,  # separator \n",
    "    \"x_p\": 5,  # positive electrode\n",
    "    \"r_n\": 30,  # negative particle\n",
    "    \"r_p\": 20,  # positive particle\n",
    "}"
   ]
  },
  {
   "cell_type": "code",
   "execution_count": null,
   "id": "e07b49f1",
   "metadata": {},
   "outputs": [
    {
     "name": "stderr",
     "output_type": "stream",
     "text": [
      "res failed: KeyboardInterrupt\n",
      "At t = 1.11757e-05, the residual function failed unrecoverably.\n"
     ]
    }
   ],
   "source": [
    "sim1 = pybamm.Simulation(\n",
    "    model, \n",
    "    experiment=exp,\n",
    "    parameter_values=param,\n",
    "    solver=pybamm.CasadiSolver(),\n",
    "    var_pts=var_pts,\n",
    ")\n",
    "solution1 = sim1.solve(\n",
    "    save_at_cycles=[1,2,81,160,239,318,397,476,555,634,713,792,871,950,1029,1108,1187]  # Only save C/10 evaluation cycles to save RAM\n",
    ")\n",
    "\n",
    "stop = timeit.default_timer()\n",
    "print('running time: ' + str(stop - start) +'s')"
   ]
  },
  {
   "cell_type": "code",
   "execution_count": null,
   "id": "0a0d36e6",
   "metadata": {},
   "outputs": [],
   "source": [
    "path = '/mnt/c/Users/sokane/pybamm_data/OKane2023_prelim/'\n",
    "solution1.save(path+'coupled_degradation_prelim.pkl')"
   ]
  },
  {
   "cell_type": "code",
   "execution_count": null,
   "id": "91bf1fbb",
   "metadata": {},
   "outputs": [],
   "source": [
    "N_cycles = solution1.summary_variables[\"Cycle number\"]\n",
    "Q_sei = solution1.summary_variables[\"Loss of capacity to SEI [A.h]\"]\n",
    "Q_sei_cracks = solution1.summary_variables[\"Loss of capacity to SEI on cracks [A.h]\"]\n",
    "Q_plating = solution1.summary_variables[\"Loss of capacity to lithium plating [A.h]\"]\n",
    "Q_side = solution1.summary_variables[\"Total capacity lost to side reactions [A.h]\"]\n",
    "LAM_neg = solution1.summary_variables[\"Loss of active material in negative electrode [%]\"]\n",
    "LAM_pos = solution1.summary_variables[\"Loss of active material in positive electrode [%]\"]"
   ]
  },
  {
   "cell_type": "code",
   "execution_count": null,
   "id": "912713ba",
   "metadata": {},
   "outputs": [],
   "source": [
    "N_cycles_RPT = []\n",
    "N_cycles_RPT.append(2)\n",
    "Q_throughput_RPT = []\n",
    "Q_dis_RPT = []\n",
    "Qdis = solution1.cycles[1].steps[0][\"Discharge capacity [A.h]\"].entries\n",
    "Qdis_delta = Qdis[-1] - Qdis[0]\n",
    "Q_dis_RPT.append(Qdis_delta)\n",
    "Qt = solution1.cycles[1].steps[0][\"Throughput capacity [A.h]\"].entries\n",
    "Q_throughput_RPT.append(Qt[-1])\n",
    "for i in range(15):\n",
    "    Qdis = solution1.cycles[79*i+80].steps[0][\"Discharge capacity [A.h]\"].entries\n",
    "    Qdis_delta = Qdis[-1] - Qdis[0]\n",
    "    Q_dis_RPT.append(Qdis_delta)\n",
    "    Qt = solution1.cycles[79*i+80].steps[0][\"Throughput capacity [A.h]\"].entries\n",
    "    Q_throughput_RPT.append(Qt[-1])\n",
    "    N_cycles_RPT.append(79*i+80)\n",
    "plt.figure()\n",
    "plt.plot(N_cycles, Q_dis_RPT[0]-Q_sei, label=\"loss of Li to SEI\", linestyle=\"dashdot\")\n",
    "plt.plot(N_cycles, Q_dis_RPT[0]-Q_sei_cracks, label=\"loss of Li to SEI-cracks\", linestyle=\"dashed\")\n",
    "plt.plot(N_cycles, Q_dis_RPT[0]-Q_plating, label=\"loss of Li to plating\", linestyle=\"dotted\")\n",
    "plt.plot(N_cycles, Q_dis_RPT[0]-Q_side, label=\"loss of Li to side reactions\")\n",
    "plt.plot(N_cycles_RPT, Q_dis_RPT, label=\"cyclable capacity\", marker=\"x\")\n",
    "plt.xlabel(\"Cycle number\")\n",
    "plt.ylabel(\"Discharge capacity [A.h]\")\n",
    "plt.legend()\n",
    "filename = path+'Nonlinear_diffusion_v4.pdf'\n",
    "plt.savefig(filename,bbox_inches='tight')\n",
    "plt.show()"
   ]
  },
  {
   "cell_type": "code",
   "execution_count": null,
   "id": "a6532e17",
   "metadata": {},
   "outputs": [],
   "source": [
    "#check the crack doesn't go all the way into the centre!\n",
    "l_cr = []\n",
    "lcr = solution1.cycles[1][\"Negative particle crack length\"].entries[-1,-1]\n",
    "l_cr.append(lcr)\n",
    "for i in range(15):\n",
    "    lcr = solution1.cycles[79*i+80][\"Negative particle crack length\"].entries[-1,-1]\n",
    "    l_cr.append(lcr)\n",
    "plt.figure()\n",
    "plt.plot(N_cycles_RPT,l_cr,marker=\"x\")\n",
    "plt.xlabel(\"Cycle number\")\n",
    "plt.ylabel(\"Negative particle crack length at separator\")\n",
    "plt.show()"
   ]
  }
 ],
 "metadata": {
  "kernelspec": {
   "display_name": "Python 3 (ipykernel)",
   "language": "python",
   "name": "python3"
  },
  "language_info": {
   "codemirror_mode": {
    "name": "ipython",
    "version": 3
   },
   "file_extension": ".py",
   "mimetype": "text/x-python",
   "name": "python",
   "nbconvert_exporter": "python",
   "pygments_lexer": "ipython3",
   "version": "3.8.10"
  }
 },
 "nbformat": 4,
 "nbformat_minor": 5
}
