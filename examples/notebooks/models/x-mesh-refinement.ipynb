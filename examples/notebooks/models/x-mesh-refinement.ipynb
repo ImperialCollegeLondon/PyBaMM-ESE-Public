{
 "cells": [
  {
   "cell_type": "code",
   "execution_count": null,
   "id": "2b88746a",
   "metadata": {},
   "outputs": [],
   "source": [
    "import pybamm\n",
    "import os\n",
    "import numpy as np\n",
    "import matplotlib.pyplot as plt\n",
    "os.chdir(pybamm.__path__[0]+'/..')"
   ]
  },
  {
   "cell_type": "code",
   "execution_count": null,
   "id": "4df223cd",
   "metadata": {},
   "outputs": [],
   "source": [
    "model = pybamm.lithium_ion.DFN(options={\"thermal\": \"lumped\"})\n",
    "param = pybamm.ParameterValues(\"ORegan2022_adjusted\")\n",
    "param.update({\"Ambient temperature [K]\": 278.15})\n",
    "param.update({\"Initial temperature [K]\": 278.15})\n",
    "param.update({\"Maximum concentration in negative electrode [mol.m-3]\": 32544})\n",
    "param.update({\"Maximum concentration in positive electrode [mol.m-3]\": 56598})\n",
    "param.update({\"Initial concentration in negative electrode [mol.m-3]\": 28162})\n",
    "param.update({\"Initial concentration in positive electrode [mol.m-3]\": 15281})\n",
    "exp = pybamm.Experiment([\"Discharge at 1C until 2.5 V\", \"Charge at 0.3C until 4.2 V\", \"Hold at 4.2 V until C/100\"])\n",
    "\n",
    "pts30 = {\n",
    "    \"x_n\": 30,  # negative electrode\n",
    "    \"x_s\": 30,  # separator \n",
    "    \"x_p\": 30,  # positive electrode\n",
    "    \"r_n\": 60,  # negative particle\n",
    "    \"r_p\": 30,  # positive particle\n",
    "}\n",
    "\n",
    "sim30 = pybamm.Simulation(model, parameter_values=param, experiment=exp, var_pts=pts30)\n",
    "solution30 = sim30.solve(calc_esoh=False)\n",
    "\n",
    "pts20 = {\n",
    "    \"x_n\": 20,  # negative electrode\n",
    "    \"x_s\": 20,  # separator \n",
    "    \"x_p\": 20,  # positive electrode\n",
    "    \"r_n\": 60,  # negative particle\n",
    "    \"r_p\": 30,  # positive particle\n",
    "}\n",
    "\n",
    "sim20 = pybamm.Simulation(model, parameter_values=param, experiment=exp, var_pts=pts20)\n",
    "solution20 = sim20.solve(calc_esoh=False)\n",
    "\n",
    "pts10 = {\n",
    "    \"x_n\": 10,  # negative electrode\n",
    "    \"x_s\": 10,  # separator \n",
    "    \"x_p\": 10,  # positive electrode\n",
    "    \"r_n\": 60,  # negative particle\n",
    "    \"r_p\": 30,  # positive particle\n",
    "}\n",
    "\n",
    "sim10 = pybamm.Simulation(model, parameter_values=param, experiment=exp, var_pts=pts10)\n",
    "solution10 = sim10.solve(calc_esoh=False)\n",
    "\n",
    "pts5 = {\n",
    "    \"x_n\": 5,  # negative electrode\n",
    "    \"x_s\": 5,  # separator \n",
    "    \"x_p\": 5,  # positive electrode\n",
    "    \"r_n\": 60,  # negative particle\n",
    "    \"r_p\": 30,  # positive particle\n",
    "}\n",
    "\n",
    "sim5 = pybamm.Simulation(model, parameter_values=param, experiment=exp, var_pts=pts5)\n",
    "solution5 = sim5.solve(calc_esoh=False)"
   ]
  },
  {
   "cell_type": "code",
   "execution_count": null,
   "id": "e606bdd3",
   "metadata": {},
   "outputs": [],
   "source": [
    "t30 = solution30[\"Time [s]\"].entries\n",
    "t20 = solution20[\"Time [s]\"].entries\n",
    "t10 = solution10[\"Time [s]\"].entries\n",
    "t5 = solution5[\"Time [s]\"].entries"
   ]
  },
  {
   "cell_type": "code",
   "execution_count": null,
   "id": "003435d3",
   "metadata": {},
   "outputs": [],
   "source": [
    "Q30 = solution30[\"Discharge capacity [A.h]\"].entries\n",
    "V30 = solution30[\"Terminal voltage [V]\"].entries\n",
    "Q20 = solution20[\"Discharge capacity [A.h]\"].entries\n",
    "V20 = solution20[\"Terminal voltage [V]\"].entries\n",
    "Q10 = solution10[\"Discharge capacity [A.h]\"].entries\n",
    "V10 = solution10[\"Terminal voltage [V]\"].entries\n",
    "Q5 = solution5[\"Discharge capacity [A.h]\"].entries\n",
    "V5 = solution5[\"Terminal voltage [V]\"].entries"
   ]
  },
  {
   "cell_type": "code",
   "execution_count": null,
   "id": "e614c5b9",
   "metadata": {},
   "outputs": [],
   "source": [
    "fig, ax = plt.subplots()\n",
    "ax.plot(t30,V30,label=\"30 points\")\n",
    "ax.plot(t20,V20,label=\"20 points\")\n",
    "ax.plot(t10,V10,label=\"10 points\")\n",
    "ax.plot(t5,V5,label=\"5 points\")\n",
    "ax.set_xlabel(\"Time [s]\")\n",
    "ax.set_ylabel(\"Terminal voltage [V]\")\n",
    "ax.legend()\n",
    "#plt.savefig(\"/mnt/c/Users/sokane/pybamm_data/mesh_refinement/uniform_1C_discharge_0point3C_charge_278K.pdf\")\n",
    "plt.show()"
   ]
  },
  {
   "cell_type": "code",
   "execution_count": null,
   "id": "184c0f6f",
   "metadata": {},
   "outputs": [],
   "source": [
    "T30 = solution30[\"Volume-averaged cell temperature [K]\"].entries\n",
    "T20 = solution20[\"Volume-averaged cell temperature [K]\"].entries\n",
    "T10 = solution10[\"Volume-averaged cell temperature [K]\"].entries\n",
    "T5 = solution5[\"Volume-averaged cell temperature [K]\"].entries\n",
    "fig, ax = plt.subplots()\n",
    "ax.plot(t30,T30,label=\"30 points\")\n",
    "ax.plot(t20,T20,label=\"20 points\")\n",
    "ax.plot(t10,T10,label=\"10 points\")\n",
    "ax.plot(t5,T5,label=\"5 points\")\n",
    "ax.set_xlabel(\"Time [s]\")\n",
    "ax.set_ylabel(\"Cell temperature [K]\")\n",
    "ax.legend()\n",
    "plt.show()"
   ]
  },
  {
   "cell_type": "code",
   "execution_count": null,
   "id": "59520950",
   "metadata": {},
   "outputs": [],
   "source": []
  }
 ],
 "metadata": {
  "kernelspec": {
   "display_name": "Python 3 (ipykernel)",
   "language": "python",
   "name": "python3"
  },
  "language_info": {
   "codemirror_mode": {
    "name": "ipython",
    "version": 3
   },
   "file_extension": ".py",
   "mimetype": "text/x-python",
   "name": "python",
   "nbconvert_exporter": "python",
   "pygments_lexer": "ipython3",
   "version": "3.8.10"
  }
 },
 "nbformat": 4,
 "nbformat_minor": 5
}
