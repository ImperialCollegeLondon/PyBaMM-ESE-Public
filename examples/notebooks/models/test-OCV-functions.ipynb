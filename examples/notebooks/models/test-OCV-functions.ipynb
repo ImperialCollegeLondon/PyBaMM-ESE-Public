{
 "cells": [
  {
   "cell_type": "code",
   "execution_count": 1,
   "id": "449f1887",
   "metadata": {},
   "outputs": [],
   "source": [
    "import pybamm\n",
    "import os\n",
    "import pandas as pd\n",
    "import numpy as np\n",
    "import matplotlib.pyplot as plt\n",
    "os.chdir(pybamm.__path__[0]+'/..')"
   ]
  },
  {
   "cell_type": "code",
   "execution_count": null,
   "id": "af5d894d",
   "metadata": {},
   "outputs": [],
   "source": [
    "OCP_data = pd.read_csv(\n",
    "    \"/mnt/c/Users/sokane/U_neg_integrated.csv\", header=None\n",
    ").to_numpy()\n",
    "np.shape(OCP_data)"
   ]
  },
  {
   "cell_type": "code",
   "execution_count": null,
   "id": "bc436e2f",
   "metadata": {},
   "outputs": [],
   "source": [
    "def graphite_ocp_Ecker2015_function(sto):\n",
    "    # Graphite negative electrode from Ecker, Kabitz, Laresgoiti et al.\n",
    "    # Analytical fit (WebPlotDigitizer + gnuplot)\n",
    "    a = 0.716502\n",
    "    b = 369.028\n",
    "    c = 0.12193\n",
    "    d = 35.6478\n",
    "    e = 0.0530947\n",
    "    g = 0.0169644\n",
    "    h = 27.1365\n",
    "    i = 0.312832\n",
    "    j = 0.0199313\n",
    "    k = 28.5697\n",
    "    m = 0.614221\n",
    "    n = 0.931153\n",
    "    o = 36.328\n",
    "    p = 1.10743\n",
    "    q = 0.140031\n",
    "    r = 0.0189193\n",
    "    s = 21.1967\n",
    "    t = 0.196176\n",
    "\n",
    "    u_eq = (\n",
    "        a * np.exp(-b * sto)\n",
    "        + c * np.exp(-d * (sto - e))\n",
    "        - r * np.tanh(s * (sto - t))\n",
    "        - g * np.tanh(h * (sto - i))\n",
    "        - j * np.tanh(k * (sto - m))\n",
    "        - n * np.exp(o * (sto - p))\n",
    "        + q\n",
    "    )\n",
    "\n",
    "    return u_eq"
   ]
  },
  {
   "cell_type": "code",
   "execution_count": null,
   "id": "2b4895b8",
   "metadata": {},
   "outputs": [],
   "source": [
    "sto = OCP_data[:,0]\n",
    "U_neg_data = OCP_data[:,1]\n",
    "U_neg_function = np.zeros((48,1))\n",
    "for i in range(48):\n",
    "    U_neg_function[i] = graphite_ocp_Ecker2015_function(sto[i])"
   ]
  },
  {
   "cell_type": "code",
   "execution_count": null,
   "id": "27ddbeff",
   "metadata": {},
   "outputs": [],
   "source": [
    "fig, ax = plt.subplots()\n",
    "ax.plot(sto,U_neg_data,linestyle='none',marker='x')\n",
    "ax.plot(sto,U_neg_function)\n",
    "plt.show()"
   ]
  },
  {
   "cell_type": "code",
   "execution_count": null,
   "id": "c5124d3a",
   "metadata": {},
   "outputs": [],
   "source": [
    "OCP_data = pd.read_csv(\n",
    "    \"/mnt/c/Users/sokane/U_pos_integrated.csv\", header=None\n",
    ").to_numpy()\n",
    "np.shape(OCP_data)"
   ]
  },
  {
   "cell_type": "code",
   "execution_count": null,
   "id": "b85bfbbb",
   "metadata": {},
   "outputs": [],
   "source": [
    "def nco_ocp_Ecker2015_function_old(sto):\n",
    "\n",
    "    # LiNiCo from Ecker, Kabitz, Laresgoiti et al.\n",
    "    # Analytical fit (WebPlotDigitizer + gnuplot)\n",
    "    a = -2.35211\n",
    "    c = 0.0747061\n",
    "    d = 31.886\n",
    "    e = 0.0219921\n",
    "    g = 0.640243\n",
    "    h = 5.48623\n",
    "    i = 0.439245\n",
    "    j = 3.82383\n",
    "    k = 4.12167\n",
    "    m = 0.176187\n",
    "    n = 0.0542123\n",
    "    o = 18.2919\n",
    "    p = 0.762272\n",
    "    q = 4.23285\n",
    "    r = -6.34984\n",
    "    s = 2.66395\n",
    "    t = 0.174352\n",
    "\n",
    "    u_eq = (\n",
    "        a * sto\n",
    "        - c * np.tanh(d * (sto - e))\n",
    "        - r * np.tanh(s * (sto - t))\n",
    "        - g * np.tanh(h * (sto - i))\n",
    "        - j * np.tanh(k * (sto - m))\n",
    "        - n * np.tanh(o * (sto - p))\n",
    "        + q\n",
    "    )\n",
    "    return u_eq"
   ]
  },
  {
   "cell_type": "code",
   "execution_count": null,
   "id": "38f3b6e2",
   "metadata": {},
   "outputs": [],
   "source": [
    "def nco_ocp_Ecker2015_function_new(sto):\n",
    "\n",
    "    # LiNiCo from Ecker, Kabitz, Laresgoiti et al.\n",
    "    # Analytical fit (WebPlotDigitizer + gnuplot)\n",
    "    a = -2.35211\n",
    "    c = 0.0747061\n",
    "    d = 31.886\n",
    "    e = 0.0219921\n",
    "    g = 0.640243\n",
    "    h = 5.48623\n",
    "    i = 0.439245\n",
    "    j = 3.82383\n",
    "    k = 4.12167\n",
    "    m = 0.177447\n",
    "    n = 0.0542123\n",
    "    o = 18.2919\n",
    "    p = 0.762272\n",
    "    q = 4.23285\n",
    "    r = -6.34984\n",
    "    s = 2.66395\n",
    "    t = 0.174352\n",
    "\n",
    "    u_eq = (\n",
    "        a * sto\n",
    "        - c * np.tanh(d * (sto - e))\n",
    "        - r * np.tanh(s * (sto - t))\n",
    "        - g * np.tanh(h * (sto - i))\n",
    "        - j * np.tanh(k * (sto - m))\n",
    "        - n * np.tanh(o * (sto - p))\n",
    "        + q\n",
    "    )\n",
    "    return u_eq"
   ]
  },
  {
   "cell_type": "code",
   "execution_count": null,
   "id": "e05b7b05",
   "metadata": {},
   "outputs": [],
   "source": [
    "sto = OCP_data[:,0]\n",
    "U_pos_data = OCP_data[:,1]\n",
    "U_pos_function_old = np.zeros((42,1))\n",
    "U_pos_function_new = np.zeros((42,1))\n",
    "for i in range(42):\n",
    "    U_pos_function_old[i] = nco_ocp_Ecker2015_function_old(sto[i])\n",
    "    U_pos_function_new[i] = nco_ocp_Ecker2015_function_new(sto[i])"
   ]
  },
  {
   "cell_type": "code",
   "execution_count": null,
   "id": "18c2a6f3",
   "metadata": {},
   "outputs": [],
   "source": [
    "fig, ax = plt.subplots()\n",
    "ax.plot(sto,U_pos_data,linestyle='none',marker='x',label='data')\n",
    "ax.plot(sto,U_pos_function_old,label='old function')\n",
    "ax.plot(sto,U_pos_function_new,label='new function')\n",
    "ax.legend()\n",
    "plt.show()"
   ]
  },
  {
   "cell_type": "code",
   "execution_count": null,
   "id": "0049487e",
   "metadata": {},
   "outputs": [],
   "source": [
    "RSS = 0\n",
    "TSS = 0\n",
    "mean = np.mean(U_pos_data)\n",
    "for i in range(42):\n",
    "    RSS = RSS + (U_pos_data[i] - U_pos_function_new[i]) ** 2\n",
    "    TSS = TSS + (U_pos_data[i] - mean) ** 2\n",
    "R_squared = 1 - RSS / TSS\n",
    "print(R_squared)"
   ]
  },
  {
   "cell_type": "code",
   "execution_count": null,
   "id": "488de607",
   "metadata": {},
   "outputs": [],
   "source": [
    "OCP_data_pybamm = pd.read_csv(\n",
    "    \"pybamm/input/parameters/lithium_ion/negative_electrodes/graphite_Chen2020/graphite_LGM50_ocp_Chen2020.csv\", header=None, comment='#'\n",
    ").to_numpy()\n",
    "np.shape(OCP_data_pybamm)\n",
    "OCP_data_half = pd.read_csv(\n",
    "    \"/mnt/c/Users/sokane/pybamm_data/validation_data/LGM50_SiGr_NE_delithiation_OCV.csv\", header=0\n",
    ").to_numpy()\n",
    "np.shape(OCP_data_half)"
   ]
  },
  {
   "cell_type": "code",
   "execution_count": null,
   "id": "b5e1bec3",
   "metadata": {},
   "outputs": [],
   "source": [
    "def graphite_LGM50_ocp_Chen2020(sto):\n",
    "\n",
    "    U = (\n",
    "        1.9793 * np.exp(-39.3631 * sto)\n",
    "        + 0.15561\n",
    "        - 0.0909 * np.tanh(29.8538 * (sto - 0.1234))\n",
    "        - 0.04478 * np.tanh(14.9159 * (sto - 0.2769))\n",
    "        - 0.0205 * np.tanh(30.4444 * (sto - 0.6103))\n",
    "        - 0.09259 * np.tanh(17.08 * (sto - 1))\n",
    "    )\n",
    "\n",
    "    return U"
   ]
  },
  {
   "cell_type": "code",
   "execution_count": null,
   "id": "d4fc7a95",
   "metadata": {},
   "outputs": [],
   "source": [
    "sto_pybamm = OCP_data_pybamm[:,0]\n",
    "U_neg_pybamm = OCP_data_pybamm[:,1]\n",
    "sto_half = OCP_data_half[:,1]\n",
    "U_neg_half = OCP_data_half[:,2]\n",
    "U_neg_function = np.zeros((3551,1))\n",
    "for i in range(3551):\n",
    "    U_neg_function[i] = graphite_LGM50_ocp_Chen2020(sto_half[i])\n",
    "np.shape(U_neg_function)"
   ]
  },
  {
   "cell_type": "code",
   "execution_count": null,
   "id": "ec28d005",
   "metadata": {},
   "outputs": [],
   "source": [
    "fig, ax = plt.subplots()\n",
    "ax.plot(sto_half,U_neg_half,linestyle='none',marker='x')\n",
    "ax.plot(sto_half,U_neg_function)\n",
    "plt.show()"
   ]
  },
  {
   "cell_type": "code",
   "execution_count": null,
   "id": "6c2c3cae",
   "metadata": {},
   "outputs": [],
   "source": [
    "graphite_LGM50_ocp_Chen2020(0.01502)"
   ]
  },
  {
   "cell_type": "code",
   "execution_count": 3,
   "id": "6a3c2ade",
   "metadata": {},
   "outputs": [],
   "source": [
    "def nmc_LGM50_ocp_Chen2020(sto):\n",
    "\n",
    "    U = (\n",
    "        -0.809 * sto\n",
    "        + 4.4875\n",
    "        - 0.0428 * np.tanh(18.5138 * (sto - 0.5542))\n",
    "        - 17.7326 * np.tanh(15.789 * (sto - 0.3117))\n",
    "        + 17.5842 * np.tanh(15.9308 * (sto - 0.312))\n",
    "    )\n",
    "\n",
    "    return U"
   ]
  },
  {
   "cell_type": "code",
   "execution_count": 41,
   "id": "17c5c658",
   "metadata": {},
   "outputs": [
    {
     "data": {
      "text/plain": [
       "4.3471084744141475"
      ]
     },
     "execution_count": 41,
     "metadata": {},
     "output_type": "execute_result"
    }
   ],
   "source": [
    "nmc_LGM50_ocp_Chen2020(0.246709)"
   ]
  },
  {
   "cell_type": "code",
   "execution_count": null,
   "id": "a01b1aa2",
   "metadata": {},
   "outputs": [],
   "source": [
    "OCP_data_pybamm = pd.read_csv(\n",
    "    \"pybamm/input/parameters/lithium_ion/positive_electrodes/nmc_Chen2020/nmc_LGM50_ocp_Chen2020.csv\", header=None, comment='#'\n",
    ").to_numpy()\n",
    "OCP_data_half = pd.read_csv(\n",
    "    \"/mnt/c/Users/sokane/pybamm_data/validation_data/LGM50_NMC_PE_lithiation_OCV_v2.csv\", header=0\n",
    ").to_numpy()\n",
    "np.shape(OCP_data_pybamm)\n",
    "np.shape(OCP_data_half)"
   ]
  },
  {
   "cell_type": "code",
   "execution_count": null,
   "id": "840740f7",
   "metadata": {},
   "outputs": [],
   "source": [
    "sto_pybamm = OCP_data_pybamm[:,0]\n",
    "U_pos_pybamm = OCP_data_pybamm[:,1]\n",
    "z_half = OCP_data_half[:,1]\n",
    "sto_half = 1 - 0.7433 * z_half\n",
    "U_pos_half = OCP_data_half[:,2]\n",
    "U_pos_function = np.zeros((238,1))\n",
    "for i in range(238):\n",
    "    U_pos_function[i] = nmc_LGM50_ocp_Chen2020(sto_pybamm[i])\n",
    "np.shape(U_pos_function)"
   ]
  },
  {
   "cell_type": "code",
   "execution_count": null,
   "id": "6486c750",
   "metadata": {},
   "outputs": [],
   "source": [
    "fig, ax = plt.subplots()\n",
    "ax.plot(sto_half,U_pos_half,linestyle='none',marker='x')\n",
    "ax.plot(sto_pybamm,U_pos_function)\n",
    "plt.show()"
   ]
  },
  {
   "cell_type": "code",
   "execution_count": null,
   "id": "54393a2a",
   "metadata": {},
   "outputs": [],
   "source": []
  }
 ],
 "metadata": {
  "kernelspec": {
   "display_name": "Python 3 (ipykernel)",
   "language": "python",
   "name": "python3"
  },
  "language_info": {
   "codemirror_mode": {
    "name": "ipython",
    "version": 3
   },
   "file_extension": ".py",
   "mimetype": "text/x-python",
   "name": "python",
   "nbconvert_exporter": "python",
   "pygments_lexer": "ipython3",
   "version": "3.8.10"
  }
 },
 "nbformat": 4,
 "nbformat_minor": 5
}
