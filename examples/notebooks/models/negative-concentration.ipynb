{
 "cells": [
  {
   "cell_type": "code",
   "execution_count": 1,
   "id": "00913b1e",
   "metadata": {},
   "outputs": [],
   "source": [
    "import pybamm\n",
    "import os\n",
    "import numpy as np\n",
    "import matplotlib.pyplot as plt\n",
    "os.chdir(pybamm.__path__[0]+'/..')"
   ]
  },
  {
   "cell_type": "code",
   "execution_count": 2,
   "id": "33657bc0",
   "metadata": {},
   "outputs": [],
   "source": [
    "model = pybamm.lithium_ion.DFN()\n",
    "chemistry = pybamm.parameter_sets.Chen2020\n",
    "param = pybamm.ParameterValues(chemistry=chemistry)\n",
    "exp = pybamm.Experiment([\"Discharge at 3C until 2.5 V\"])\n",
    "sim = pybamm.Simulation(model, parameter_values=param, experiment=exp)\n",
    "solution = sim.solve(calc_esoh=False)"
   ]
  },
  {
   "cell_type": "code",
   "execution_count": 3,
   "id": "d4d5dcd8",
   "metadata": {},
   "outputs": [
    {
     "data": {
      "application/vnd.jupyter.widget-view+json": {
       "model_id": "1bfbea2cb62a4fd388b03aeedf343c6a",
       "version_major": 2,
       "version_minor": 0
      },
      "text/plain": [
       "interactive(children=(FloatSlider(value=0.0, description='t', max=575.722093201824, step=5.75722093201824), Ou…"
      ]
     },
     "metadata": {},
     "output_type": "display_data"
    },
    {
     "data": {
      "text/plain": [
       "<pybamm.plotting.quick_plot.QuickPlot at 0x7fb2ec9ec250>"
      ]
     },
     "execution_count": 3,
     "metadata": {},
     "output_type": "execute_result"
    }
   ],
   "source": [
    "sim.plot()"
   ]
  },
  {
   "cell_type": "code",
   "execution_count": 4,
   "id": "76ea0512",
   "metadata": {},
   "outputs": [
    {
     "data": {
      "text/plain": [
       "-76.80755185950179"
      ]
     },
     "execution_count": 4,
     "metadata": {},
     "output_type": "execute_result"
    }
   ],
   "source": [
    "x = solution[\"x [m]\"].entries\n",
    "c = solution[\"Electrolyte concentration [mol.m-3]\"].entries[:,-1]\n",
    "c[-1]"
   ]
  },
  {
   "cell_type": "code",
   "execution_count": null,
   "id": "526ad57d",
   "metadata": {},
   "outputs": [],
   "source": []
  }
 ],
 "metadata": {
  "kernelspec": {
   "display_name": "Python 3 (ipykernel)",
   "language": "python",
   "name": "python3"
  },
  "language_info": {
   "codemirror_mode": {
    "name": "ipython",
    "version": 3
   },
   "file_extension": ".py",
   "mimetype": "text/x-python",
   "name": "python",
   "nbconvert_exporter": "python",
   "pygments_lexer": "ipython3",
   "version": "3.8.10"
  }
 },
 "nbformat": 4,
 "nbformat_minor": 5
}
