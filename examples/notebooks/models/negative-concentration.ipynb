{
 "cells": [
  {
   "cell_type": "code",
   "execution_count": 1,
   "id": "00913b1e",
   "metadata": {},
   "outputs": [],
   "source": [
    "import pybamm\n",
    "import os\n",
    "import numpy as np\n",
    "import matplotlib.pyplot as plt\n",
    "os.chdir(pybamm.__path__[0]+'/..')"
   ]
  },
  {
   "cell_type": "code",
   "execution_count": 2,
   "id": "909f5367",
   "metadata": {},
   "outputs": [],
   "source": [
    "def electrolyte_diffusivity_Valoen2005(c_e, T):\n",
    "    c_e = c_e / 1000\n",
    "    T_g = 229 + 5 * c_e\n",
    "    D_0 = -4.43 - 54 / (T - T_g)\n",
    "    D_1 = -0.22\n",
    "    return (10 ** (D_0 + D_1 * c_e)) * 1e-4\n",
    "\n",
    "def electrolyte_conductivity_Valoen2005(c_e, T):\n",
    "    c_e = c_e / 1000\n",
    "    return (1e-3 / 1e-2) * (\n",
    "        c_e\n",
    "        * (\n",
    "            (-10.5 + 0.0740 * T - 6.96e-5 * T**2)\n",
    "            + c_e * (0.668 - 0.0178 * T + 2.80e-5 * T**2)\n",
    "            + c_e**2 * (0.494 - 8.86e-4 * T)\n",
    "        )\n",
    "        ** 2\n",
    "    )"
   ]
  },
  {
   "cell_type": "code",
   "execution_count": 3,
   "id": "d4d5dcd8",
   "metadata": {},
   "outputs": [
    {
     "data": {
      "application/vnd.jupyter.widget-view+json": {
       "model_id": "5b2608ab52734a5886c2e8638d294603",
       "version_major": 2,
       "version_minor": 0
      },
      "text/plain": [
       "interactive(children=(FloatSlider(value=0.0, description='t', max=1055.450002556713, step=10.55450002556713), …"
      ]
     },
     "metadata": {},
     "output_type": "display_data"
    },
    {
     "data": {
      "text/plain": [
       "<pybamm.plotting.quick_plot.QuickPlot at 0x7f1a81ccfeb0>"
      ]
     },
     "execution_count": 3,
     "metadata": {},
     "output_type": "execute_result"
    }
   ],
   "source": [
    "model = pybamm.lithium_ion.DFN()\n",
    "chemistry = pybamm.parameter_sets.Chen2020\n",
    "param = pybamm.ParameterValues(chemistry=chemistry)\n",
    "#param.update({\"Electrolyte conductivity [S.m-1]\": electrolyte_conductivity_Valoen2005})\n",
    "#param.update({\"Electrolyte diffusivity [m2.s-1]\": electrolyte_diffusivity_Valoen2005})\n",
    "#param.update({\"Cation transference number\": 0.38})\n",
    "exp = pybamm.Experiment([\"Discharge at 2.5C until 2.5 V\"])\n",
    "sim = pybamm.Simulation(model, parameter_values=param, experiment=exp)\n",
    "solution = sim.solve(calc_esoh=False)\n",
    "sim.plot()"
   ]
  },
  {
   "cell_type": "code",
   "execution_count": 4,
   "id": "76ea0512",
   "metadata": {},
   "outputs": [
    {
     "data": {
      "text/plain": [
       "-27.63915535841703"
      ]
     },
     "execution_count": 4,
     "metadata": {},
     "output_type": "execute_result"
    }
   ],
   "source": [
    "x = solution[\"x [m]\"].entries\n",
    "c = solution[\"Electrolyte concentration [mol.m-3]\"].entries[:,-1]\n",
    "c[-1]"
   ]
  },
  {
   "cell_type": "code",
   "execution_count": null,
   "id": "526ad57d",
   "metadata": {},
   "outputs": [],
   "source": []
  }
 ],
 "metadata": {
  "kernelspec": {
   "display_name": "Python 3 (ipykernel)",
   "language": "python",
   "name": "python3"
  },
  "language_info": {
   "codemirror_mode": {
    "name": "ipython",
    "version": 3
   },
   "file_extension": ".py",
   "mimetype": "text/x-python",
   "name": "python",
   "nbconvert_exporter": "python",
   "pygments_lexer": "ipython3",
   "version": "3.8.10"
  }
 },
 "nbformat": 4,
 "nbformat_minor": 5
}
