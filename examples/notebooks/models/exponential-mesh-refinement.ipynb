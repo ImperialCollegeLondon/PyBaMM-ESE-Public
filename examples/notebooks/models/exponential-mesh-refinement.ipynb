{
 "cells": [
  {
   "cell_type": "code",
   "execution_count": 1,
   "id": "2b88746a",
   "metadata": {},
   "outputs": [],
   "source": [
    "import pybamm\n",
    "import os\n",
    "import numpy as np\n",
    "import matplotlib.pyplot as plt\n",
    "os.chdir(pybamm.__path__[0]+'/..')"
   ]
  },
  {
   "cell_type": "code",
   "execution_count": 4,
   "id": "4df223cd",
   "metadata": {},
   "outputs": [
    {
     "name": "stderr",
     "output_type": "stream",
     "text": [
      "At t = 0.00173217 and h = 8.06662e-18, the corrector convergence failed repeatedly or with |h| = hmin.\n",
      "At t = 0.00173217 and h = 9.06355e-18, the corrector convergence failed repeatedly or with |h| = hmin.\n",
      "At t = 0.00173217 and h = 7.64084e-22, the corrector convergence failed repeatedly or with |h| = hmin.\n",
      "At t = 0.000482168 and h = 4.97252e-18, the corrector convergence failed repeatedly or with |h| = hmin.\n",
      "At t = 0.000482168 and h = 1.79094e-19, the corrector convergence failed repeatedly or with |h| = hmin.\n",
      "At t = 0.00172485 and h = 8.90871e-18, the corrector convergence failed repeatedly or with |h| = hmin.\n",
      "At t = 0.00172485 and h = 4.98503e-21, the corrector convergence failed repeatedly or with |h| = hmin.\n",
      "At t = 0.00172485 and h = 2.07302e-17, the corrector convergence failed repeatedly or with |h| = hmin.\n",
      "At t = 0.000474849, , mxstep steps taken before reaching tout.\n",
      "At t = 0.000474849, , mxstep steps taken before reaching tout.\n",
      "At t = 0.000162349, , mxstep steps taken before reaching tout.\n",
      "At t = 0.00169589, , mxstep steps taken before reaching tout.\n",
      "At t = 0.00169589, , mxstep steps taken before reaching tout.\n",
      "At t = 0.00169589, , mxstep steps taken before reaching tout.\n",
      "At t = 0.000445889, , mxstep steps taken before reaching tout.\n",
      "At t = 0.00044589, , mxstep steps taken before reaching tout.\n",
      "At t = 0.00013339, , mxstep steps taken before reaching tout.\n",
      "At t = 0.000133389 and h = 1.20957e-17, the corrector convergence failed repeatedly or with |h| = hmin.\n",
      "At t = 5.52644e-05, , mxstep steps taken before reaching tout.\n",
      "At t = 1.62019e-05, , mxstep steps taken before reaching tout.\n",
      "At t = 1.62019e-05 and h = 7.00146e-19, the corrector convergence failed repeatedly or with |h| = hmin.\n",
      "At t = 6.43635e-06, , mxstep steps taken before reaching tout.\n"
     ]
    }
   ],
   "source": [
    "model = pybamm.lithium_ion.DFN()\n",
    "chemistry = pybamm.parameter_sets.ORegan2022\n",
    "param = pybamm.ParameterValues(chemistry=chemistry)\n",
    "exp = pybamm.Experiment([\"Discharge at 2C until 2.5 V\"])\n",
    "\n",
    "# Define a mesh with exponentially distributed points in the particles and uniformly distribued points in the x dimension.\n",
    "# The higher the \"stretch\" parameter, the more non-uniform the exponential mesh is.\n",
    "submesh_types = model.default_submesh_types\n",
    "particle_mesh = pybamm.MeshGenerator(pybamm.Exponential1DSubMesh, submesh_params={\"side\": \"right\", \"stretch\": 2.3})\n",
    "submesh_types[\"negative particle\"] = particle_mesh\n",
    "submesh_types[\"positive particle\"] = particle_mesh\n",
    "\n",
    "pts200 = {\n",
    "    \"x_n\": 20,  # negative electrode\n",
    "    \"x_s\": 10,  # separator \n",
    "    \"x_p\": 20,  # positive electrode\n",
    "    \"r_n\": 200,  # negative particle\n",
    "    \"r_p\": 200,  # positive particle\n",
    "}\n",
    "\n",
    "sim200 = pybamm.Simulation(model, parameter_values=param, experiment=exp, var_pts=pts200, submesh_types=submesh_types)\n",
    "solution200 = sim200.solve(calc_esoh=False)\n",
    "\n",
    "pts100 = {\n",
    "    \"x_n\": 20,  # negative electrode\n",
    "    \"x_s\": 10,  # separator \n",
    "    \"x_p\": 20,  # positive electrode\n",
    "    \"r_n\": 100,  # negative particle\n",
    "    \"r_p\": 100,  # positive particle\n",
    "}\n",
    "\n",
    "sim100 = pybamm.Simulation(model, parameter_values=param, experiment=exp, var_pts=pts100, submesh_types=submesh_types)\n",
    "solution100 = sim100.solve(calc_esoh=False)\n",
    "\n",
    "pts50 = {\n",
    "    \"x_n\": 20,  # negative electrode\n",
    "    \"x_s\": 10,  # separator \n",
    "    \"x_p\": 20,  # positive electrode\n",
    "    \"r_n\": 50,  # negative particle\n",
    "    \"r_p\": 50,  # positive particle\n",
    "}\n",
    "\n",
    "sim50 = pybamm.Simulation(model, parameter_values=param, experiment=exp, var_pts=pts50, submesh_types=submesh_types)\n",
    "solution50 = sim50.solve(calc_esoh=False)"
   ]
  },
  {
   "cell_type": "code",
   "execution_count": 5,
   "id": "e606bdd3",
   "metadata": {},
   "outputs": [
    {
     "name": "stdout",
     "output_type": "stream",
     "text": [
      "With 200 points, discharge lasts 1454.338475695453 seconds.\n",
      "With 100 points, discharge lasts 1457.1653204865763 seconds.\n",
      "With 50 points, discharge lasts 1457.1611931167085 seconds.\n"
     ]
    }
   ],
   "source": [
    "t200 = solution200[\"Time [s]\"].entries\n",
    "print(f\"With 200 points, discharge lasts {np.max(t200)} seconds.\")\n",
    "t100 = solution100[\"Time [s]\"].entries\n",
    "print(f\"With 100 points, discharge lasts {np.max(t100)} seconds.\")\n",
    "t50 = solution50[\"Time [s]\"].entries\n",
    "print(f\"With 50 points, discharge lasts {np.max(t50)} seconds.\")"
   ]
  },
  {
   "cell_type": "code",
   "execution_count": null,
   "id": "003435d3",
   "metadata": {},
   "outputs": [],
   "source": []
  }
 ],
 "metadata": {
  "kernelspec": {
   "display_name": "Python 3 (ipykernel)",
   "language": "python",
   "name": "python3"
  },
  "language_info": {
   "codemirror_mode": {
    "name": "ipython",
    "version": 3
   },
   "file_extension": ".py",
   "mimetype": "text/x-python",
   "name": "python",
   "nbconvert_exporter": "python",
   "pygments_lexer": "ipython3",
   "version": "3.8.10"
  }
 },
 "nbformat": 4,
 "nbformat_minor": 5
}
