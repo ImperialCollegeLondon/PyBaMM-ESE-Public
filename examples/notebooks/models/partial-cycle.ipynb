{
 "cells": [
  {
   "cell_type": "code",
   "execution_count": 1,
   "id": "c37e9d5f",
   "metadata": {},
   "outputs": [],
   "source": [
    "import pybamm\n",
    "import os\n",
    "import numpy as np\n",
    "import matplotlib.pyplot as plt\n",
    "os.chdir(pybamm.__path__[0]+'/..')"
   ]
  },
  {
   "cell_type": "code",
   "execution_count": 4,
   "id": "f7caf5fa",
   "metadata": {},
   "outputs": [
    {
     "ename": "ModelError",
     "evalue": "\n                    No key set for variable 'Discharge capacity [A.h]'. Make sure it is included in either\n                    model.rhs or model.algebraic in an unmodified form\n                    (e.g. not Broadcasted)\n                    ",
     "output_type": "error",
     "traceback": [
      "\u001b[0;31m---------------------------------------------------------------------------\u001b[0m",
      "\u001b[0;31mKeyError\u001b[0m                                  Traceback (most recent call last)",
      "File \u001b[0;32m~/PyBaMM-GEM/pybamm/discretisations/discretisation.py:719\u001b[0m, in \u001b[0;36mDiscretisation.process_symbol\u001b[0;34m(self, symbol)\u001b[0m\n\u001b[1;32m    718\u001b[0m \u001b[38;5;28;01mtry\u001b[39;00m:\n\u001b[0;32m--> 719\u001b[0m     \u001b[38;5;28;01mreturn\u001b[39;00m \u001b[38;5;28;43mself\u001b[39;49m\u001b[38;5;241;43m.\u001b[39;49m\u001b[43m_discretised_symbols\u001b[49m\u001b[43m[\u001b[49m\u001b[43msymbol\u001b[49m\u001b[43m]\u001b[49m\n\u001b[1;32m    720\u001b[0m \u001b[38;5;28;01mexcept\u001b[39;00m \u001b[38;5;167;01mKeyError\u001b[39;00m:\n",
      "\u001b[0;31mKeyError\u001b[0m: Subtraction(0x383a1a5f82c9e392, -, children=['Discharge capacity cut-off [A.h]', 'Discharge capacity [A.h]'], domains={})",
      "\nDuring handling of the above exception, another exception occurred:\n",
      "\u001b[0;31mKeyError\u001b[0m                                  Traceback (most recent call last)",
      "File \u001b[0;32m~/PyBaMM-GEM/pybamm/discretisations/discretisation.py:719\u001b[0m, in \u001b[0;36mDiscretisation.process_symbol\u001b[0;34m(self, symbol)\u001b[0m\n\u001b[1;32m    718\u001b[0m \u001b[38;5;28;01mtry\u001b[39;00m:\n\u001b[0;32m--> 719\u001b[0m     \u001b[38;5;28;01mreturn\u001b[39;00m \u001b[38;5;28;43mself\u001b[39;49m\u001b[38;5;241;43m.\u001b[39;49m\u001b[43m_discretised_symbols\u001b[49m\u001b[43m[\u001b[49m\u001b[43msymbol\u001b[49m\u001b[43m]\u001b[49m\n\u001b[1;32m    720\u001b[0m \u001b[38;5;28;01mexcept\u001b[39;00m \u001b[38;5;167;01mKeyError\u001b[39;00m:\n",
      "\u001b[0;31mKeyError\u001b[0m: Variable(0x19e0f19df6d51985, Discharge capacity [A.h], children=[], domains={})",
      "\nDuring handling of the above exception, another exception occurred:\n",
      "\u001b[0;31mKeyError\u001b[0m                                  Traceback (most recent call last)",
      "File \u001b[0;32m~/PyBaMM-GEM/pybamm/discretisations/discretisation.py:887\u001b[0m, in \u001b[0;36mDiscretisation._process_symbol\u001b[0;34m(self, symbol)\u001b[0m\n\u001b[1;32m    886\u001b[0m \u001b[38;5;28;01mtry\u001b[39;00m:\n\u001b[0;32m--> 887\u001b[0m     y_slices \u001b[38;5;241m=\u001b[39m \u001b[38;5;28;43mself\u001b[39;49m\u001b[38;5;241;43m.\u001b[39;49m\u001b[43my_slices\u001b[49m\u001b[43m[\u001b[49m\u001b[43msymbol\u001b[49m\u001b[43m]\u001b[49m\n\u001b[1;32m    888\u001b[0m \u001b[38;5;28;01mexcept\u001b[39;00m \u001b[38;5;167;01mKeyError\u001b[39;00m:\n",
      "\u001b[0;31mKeyError\u001b[0m: Variable(0x19e0f19df6d51985, Discharge capacity [A.h], children=[], domains={})",
      "\nDuring handling of the above exception, another exception occurred:\n",
      "\u001b[0;31mModelError\u001b[0m                                Traceback (most recent call last)",
      "Cell \u001b[0;32mIn [4], line 16\u001b[0m\n\u001b[1;32m      7\u001b[0m var_pts \u001b[38;5;241m=\u001b[39m {\n\u001b[1;32m      8\u001b[0m     \u001b[38;5;124m\"\u001b[39m\u001b[38;5;124mx_n\u001b[39m\u001b[38;5;124m\"\u001b[39m: \u001b[38;5;241m5\u001b[39m,  \u001b[38;5;66;03m# negative electrode\u001b[39;00m\n\u001b[1;32m      9\u001b[0m     \u001b[38;5;124m\"\u001b[39m\u001b[38;5;124mx_s\u001b[39m\u001b[38;5;124m\"\u001b[39m: \u001b[38;5;241m5\u001b[39m,  \u001b[38;5;66;03m# separator \u001b[39;00m\n\u001b[0;32m   (...)\u001b[0m\n\u001b[1;32m     12\u001b[0m     \u001b[38;5;124m\"\u001b[39m\u001b[38;5;124mr_p\u001b[39m\u001b[38;5;124m\"\u001b[39m: \u001b[38;5;241m30\u001b[39m,  \u001b[38;5;66;03m# positive particle\u001b[39;00m\n\u001b[1;32m     13\u001b[0m }\n\u001b[1;32m     15\u001b[0m sim \u001b[38;5;241m=\u001b[39m pybamm\u001b[38;5;241m.\u001b[39mSimulation(model, parameter_values\u001b[38;5;241m=\u001b[39mparam, experiment\u001b[38;5;241m=\u001b[39mexp, var_pts\u001b[38;5;241m=\u001b[39mvar_pts)\n\u001b[0;32m---> 16\u001b[0m solution \u001b[38;5;241m=\u001b[39m sim\u001b[38;5;241m.\u001b[39msolve(calc_esoh\u001b[38;5;241m=\u001b[39m\u001b[38;5;28;01mFalse\u001b[39;00m)\n",
      "File \u001b[0;32m~/PyBaMM-GEM/pybamm/simulation.py:644\u001b[0m, in \u001b[0;36mSimulation.solve\u001b[0;34m(self, t_eval, solver, check_model, save_at_cycles, calc_esoh, starting_solution, initial_soc, callbacks, **kwargs)\u001b[0m\n\u001b[1;32m    642\u001b[0m \u001b[38;5;28;01melif\u001b[39;00m \u001b[38;5;28mself\u001b[39m\u001b[38;5;241m.\u001b[39moperating_mode \u001b[38;5;241m==\u001b[39m \u001b[38;5;124m\"\u001b[39m\u001b[38;5;124mwith experiment\u001b[39m\u001b[38;5;124m\"\u001b[39m:\n\u001b[1;32m    643\u001b[0m     callbacks\u001b[38;5;241m.\u001b[39mon_experiment_start(logs)\n\u001b[0;32m--> 644\u001b[0m     \u001b[38;5;28;43mself\u001b[39;49m\u001b[38;5;241;43m.\u001b[39;49m\u001b[43mbuild_for_experiment\u001b[49m\u001b[43m(\u001b[49m\u001b[43mcheck_model\u001b[49m\u001b[38;5;241;43m=\u001b[39;49m\u001b[43mcheck_model\u001b[49m\u001b[43m,\u001b[49m\u001b[43m \u001b[49m\u001b[43minitial_soc\u001b[49m\u001b[38;5;241;43m=\u001b[39;49m\u001b[43minitial_soc\u001b[49m\u001b[43m)\u001b[49m\n\u001b[1;32m    645\u001b[0m     \u001b[38;5;28;01mif\u001b[39;00m t_eval \u001b[38;5;129;01mis\u001b[39;00m \u001b[38;5;129;01mnot\u001b[39;00m \u001b[38;5;28;01mNone\u001b[39;00m:\n\u001b[1;32m    646\u001b[0m         pybamm\u001b[38;5;241m.\u001b[39mlogger\u001b[38;5;241m.\u001b[39mwarning(\n\u001b[1;32m    647\u001b[0m             \u001b[38;5;124m\"\u001b[39m\u001b[38;5;124mIgnoring t_eval as solution times are specified by the experiment\u001b[39m\u001b[38;5;124m\"\u001b[39m\n\u001b[1;32m    648\u001b[0m         )\n",
      "File \u001b[0;32m~/PyBaMM-GEM/pybamm/simulation.py:493\u001b[0m, in \u001b[0;36mSimulation.build_for_experiment\u001b[0;34m(self, check_model, initial_soc)\u001b[0m\n\u001b[1;32m    489\u001b[0m \u001b[38;5;28mself\u001b[39m\u001b[38;5;241m.\u001b[39mop_conds_to_built_solvers \u001b[38;5;241m=\u001b[39m {}\n\u001b[1;32m    490\u001b[0m \u001b[38;5;28;01mfor\u001b[39;00m op_cond, model_with_set_params \u001b[38;5;129;01min\u001b[39;00m \u001b[38;5;28mself\u001b[39m\u001b[38;5;241m.\u001b[39mop_string_to_model\u001b[38;5;241m.\u001b[39mitems():\n\u001b[1;32m    491\u001b[0m     \u001b[38;5;66;03m# It's ok to modify the model with set parameters in place as it's\u001b[39;00m\n\u001b[1;32m    492\u001b[0m     \u001b[38;5;66;03m# not returned anywhere\u001b[39;00m\n\u001b[0;32m--> 493\u001b[0m     built_model \u001b[38;5;241m=\u001b[39m \u001b[38;5;28;43mself\u001b[39;49m\u001b[38;5;241;43m.\u001b[39;49m\u001b[43m_disc\u001b[49m\u001b[38;5;241;43m.\u001b[39;49m\u001b[43mprocess_model\u001b[49m\u001b[43m(\u001b[49m\n\u001b[1;32m    494\u001b[0m \u001b[43m        \u001b[49m\u001b[43mmodel_with_set_params\u001b[49m\u001b[43m,\u001b[49m\u001b[43m \u001b[49m\u001b[43minplace\u001b[49m\u001b[38;5;241;43m=\u001b[39;49m\u001b[38;5;28;43;01mTrue\u001b[39;49;00m\u001b[43m,\u001b[49m\u001b[43m \u001b[49m\u001b[43mcheck_model\u001b[49m\u001b[38;5;241;43m=\u001b[39;49m\u001b[43mcheck_model\u001b[49m\n\u001b[1;32m    495\u001b[0m \u001b[43m    \u001b[49m\u001b[43m)\u001b[49m\n\u001b[1;32m    496\u001b[0m     solver \u001b[38;5;241m=\u001b[39m \u001b[38;5;28mself\u001b[39m\u001b[38;5;241m.\u001b[39msolver\u001b[38;5;241m.\u001b[39mcopy()\n\u001b[1;32m    497\u001b[0m     \u001b[38;5;28mself\u001b[39m\u001b[38;5;241m.\u001b[39mop_conds_to_built_solvers[op_cond] \u001b[38;5;241m=\u001b[39m solver\n",
      "File \u001b[0;32m~/PyBaMM-GEM/pybamm/discretisations/discretisation.py:234\u001b[0m, in \u001b[0;36mDiscretisation.process_model\u001b[0;34m(self, model, inplace, check_model, remove_independent_variables_from_rhs)\u001b[0m\n\u001b[1;32m    231\u001b[0m \u001b[38;5;28;01mfor\u001b[39;00m event \u001b[38;5;129;01min\u001b[39;00m model\u001b[38;5;241m.\u001b[39mevents:\n\u001b[1;32m    232\u001b[0m     pybamm\u001b[38;5;241m.\u001b[39mlogger\u001b[38;5;241m.\u001b[39mdebug(\u001b[38;5;124m\"\u001b[39m\u001b[38;5;124mDiscretise event \u001b[39m\u001b[38;5;124m'\u001b[39m\u001b[38;5;132;01m{}\u001b[39;00m\u001b[38;5;124m'\u001b[39m\u001b[38;5;124m\"\u001b[39m\u001b[38;5;241m.\u001b[39mformat(event\u001b[38;5;241m.\u001b[39mname))\n\u001b[1;32m    233\u001b[0m     processed_event \u001b[38;5;241m=\u001b[39m pybamm\u001b[38;5;241m.\u001b[39mEvent(\n\u001b[0;32m--> 234\u001b[0m         event\u001b[38;5;241m.\u001b[39mname, \u001b[38;5;28;43mself\u001b[39;49m\u001b[38;5;241;43m.\u001b[39;49m\u001b[43mprocess_symbol\u001b[49m\u001b[43m(\u001b[49m\u001b[43mevent\u001b[49m\u001b[38;5;241;43m.\u001b[39;49m\u001b[43mexpression\u001b[49m\u001b[43m)\u001b[49m, event\u001b[38;5;241m.\u001b[39mevent_type\n\u001b[1;32m    235\u001b[0m     )\n\u001b[1;32m    236\u001b[0m     processed_events\u001b[38;5;241m.\u001b[39mappend(processed_event)\n\u001b[1;32m    237\u001b[0m model_disc\u001b[38;5;241m.\u001b[39mevents \u001b[38;5;241m=\u001b[39m processed_events\n",
      "File \u001b[0;32m~/PyBaMM-GEM/pybamm/discretisations/discretisation.py:721\u001b[0m, in \u001b[0;36mDiscretisation.process_symbol\u001b[0;34m(self, symbol)\u001b[0m\n\u001b[1;32m    719\u001b[0m     \u001b[38;5;28;01mreturn\u001b[39;00m \u001b[38;5;28mself\u001b[39m\u001b[38;5;241m.\u001b[39m_discretised_symbols[symbol]\n\u001b[1;32m    720\u001b[0m \u001b[38;5;28;01mexcept\u001b[39;00m \u001b[38;5;167;01mKeyError\u001b[39;00m:\n\u001b[0;32m--> 721\u001b[0m     discretised_symbol \u001b[38;5;241m=\u001b[39m \u001b[38;5;28;43mself\u001b[39;49m\u001b[38;5;241;43m.\u001b[39;49m\u001b[43m_process_symbol\u001b[49m\u001b[43m(\u001b[49m\u001b[43msymbol\u001b[49m\u001b[43m)\u001b[49m\n\u001b[1;32m    722\u001b[0m     \u001b[38;5;28mself\u001b[39m\u001b[38;5;241m.\u001b[39m_discretised_symbols[symbol] \u001b[38;5;241m=\u001b[39m discretised_symbol\n\u001b[1;32m    723\u001b[0m     discretised_symbol\u001b[38;5;241m.\u001b[39mtest_shape()\n",
      "File \u001b[0;32m~/PyBaMM-GEM/pybamm/discretisations/discretisation.py:757\u001b[0m, in \u001b[0;36mDiscretisation._process_symbol\u001b[0;34m(self, symbol)\u001b[0m\n\u001b[1;32m    755\u001b[0m left, right \u001b[38;5;241m=\u001b[39m symbol\u001b[38;5;241m.\u001b[39mchildren\n\u001b[1;32m    756\u001b[0m disc_left \u001b[38;5;241m=\u001b[39m \u001b[38;5;28mself\u001b[39m\u001b[38;5;241m.\u001b[39mprocess_symbol(left)\n\u001b[0;32m--> 757\u001b[0m disc_right \u001b[38;5;241m=\u001b[39m \u001b[38;5;28;43mself\u001b[39;49m\u001b[38;5;241;43m.\u001b[39;49m\u001b[43mprocess_symbol\u001b[49m\u001b[43m(\u001b[49m\u001b[43mright\u001b[49m\u001b[43m)\u001b[49m\n\u001b[1;32m    758\u001b[0m \u001b[38;5;28;01mif\u001b[39;00m symbol\u001b[38;5;241m.\u001b[39mdomain \u001b[38;5;241m==\u001b[39m []:\n\u001b[1;32m    759\u001b[0m     \u001b[38;5;28;01mreturn\u001b[39;00m pybamm\u001b[38;5;241m.\u001b[39msimplify_if_constant(\n\u001b[1;32m    760\u001b[0m         symbol\u001b[38;5;241m.\u001b[39m_binary_new_copy(disc_left, disc_right)\n\u001b[1;32m    761\u001b[0m     )\n",
      "File \u001b[0;32m~/PyBaMM-GEM/pybamm/discretisations/discretisation.py:721\u001b[0m, in \u001b[0;36mDiscretisation.process_symbol\u001b[0;34m(self, symbol)\u001b[0m\n\u001b[1;32m    719\u001b[0m     \u001b[38;5;28;01mreturn\u001b[39;00m \u001b[38;5;28mself\u001b[39m\u001b[38;5;241m.\u001b[39m_discretised_symbols[symbol]\n\u001b[1;32m    720\u001b[0m \u001b[38;5;28;01mexcept\u001b[39;00m \u001b[38;5;167;01mKeyError\u001b[39;00m:\n\u001b[0;32m--> 721\u001b[0m     discretised_symbol \u001b[38;5;241m=\u001b[39m \u001b[38;5;28;43mself\u001b[39;49m\u001b[38;5;241;43m.\u001b[39;49m\u001b[43m_process_symbol\u001b[49m\u001b[43m(\u001b[49m\u001b[43msymbol\u001b[49m\u001b[43m)\u001b[49m\n\u001b[1;32m    722\u001b[0m     \u001b[38;5;28mself\u001b[39m\u001b[38;5;241m.\u001b[39m_discretised_symbols[symbol] \u001b[38;5;241m=\u001b[39m discretised_symbol\n\u001b[1;32m    723\u001b[0m     discretised_symbol\u001b[38;5;241m.\u001b[39mtest_shape()\n",
      "File \u001b[0;32m~/PyBaMM-GEM/pybamm/discretisations/discretisation.py:889\u001b[0m, in \u001b[0;36mDiscretisation._process_symbol\u001b[0;34m(self, symbol)\u001b[0m\n\u001b[1;32m    887\u001b[0m     y_slices \u001b[38;5;241m=\u001b[39m \u001b[38;5;28mself\u001b[39m\u001b[38;5;241m.\u001b[39my_slices[symbol]\n\u001b[1;32m    888\u001b[0m \u001b[38;5;28;01mexcept\u001b[39;00m \u001b[38;5;167;01mKeyError\u001b[39;00m:\n\u001b[0;32m--> 889\u001b[0m     \u001b[38;5;28;01mraise\u001b[39;00m pybamm\u001b[38;5;241m.\u001b[39mModelError(\n\u001b[1;32m    890\u001b[0m         \u001b[38;5;124;03m\"\"\"\u001b[39;00m\n\u001b[1;32m    891\u001b[0m \u001b[38;5;124;03m        No key set for variable '{}'. Make sure it is included in either\u001b[39;00m\n\u001b[1;32m    892\u001b[0m \u001b[38;5;124;03m        model.rhs or model.algebraic in an unmodified form\u001b[39;00m\n\u001b[1;32m    893\u001b[0m \u001b[38;5;124;03m        (e.g. not Broadcasted)\u001b[39;00m\n\u001b[1;32m    894\u001b[0m \u001b[38;5;124;03m        \"\"\"\u001b[39;00m\u001b[38;5;241m.\u001b[39mformat(\n\u001b[1;32m    895\u001b[0m             symbol\u001b[38;5;241m.\u001b[39mname\n\u001b[1;32m    896\u001b[0m         )\n\u001b[1;32m    897\u001b[0m     )\n\u001b[1;32m    898\u001b[0m \u001b[38;5;66;03m# Add symbol's reference and multiply by the symbol's scale\u001b[39;00m\n\u001b[1;32m    899\u001b[0m \u001b[38;5;66;03m# so that the state vector is of order 1\u001b[39;00m\n\u001b[1;32m    900\u001b[0m \u001b[38;5;28;01mreturn\u001b[39;00m symbol\u001b[38;5;241m.\u001b[39mreference \u001b[38;5;241m+\u001b[39m symbol\u001b[38;5;241m.\u001b[39mscale \u001b[38;5;241m*\u001b[39m pybamm\u001b[38;5;241m.\u001b[39mStateVector(\n\u001b[1;32m    901\u001b[0m     \u001b[38;5;241m*\u001b[39my_slices, domains\u001b[38;5;241m=\u001b[39msymbol\u001b[38;5;241m.\u001b[39mdomains\n\u001b[1;32m    902\u001b[0m )\n",
      "\u001b[0;31mModelError\u001b[0m: \n                    No key set for variable 'Discharge capacity [A.h]'. Make sure it is included in either\n                    model.rhs or model.algebraic in an unmodified form\n                    (e.g. not Broadcasted)\n                    "
     ]
    }
   ],
   "source": [
    "model = pybamm.lithium_ion.DFN(options={\"thermal\": \"lumped\"})\n",
    "param = pybamm.ParameterValues(\"OKane2023\")\n",
    "exp = pybamm.Experiment(\n",
    "    [(\"Discharge at 5 A for 9 minutes\", \"Charge at 1.5 A until 4.2 V then hold at 4.2 V until 0.75 Ah\")] * 10\n",
    ")\n",
    "\n",
    "var_pts = {\n",
    "    \"x_n\": 5,  # negative electrode\n",
    "    \"x_s\": 5,  # separator \n",
    "    \"x_p\": 5,  # positive electrode\n",
    "    \"r_n\": 100,  # negative particle\n",
    "    \"r_p\": 30,  # positive particle\n",
    "}\n",
    "\n",
    "sim = pybamm.Simulation(model, parameter_values=param, experiment=exp, var_pts=var_pts)\n",
    "solution = sim.solve(calc_esoh=False)"
   ]
  },
  {
   "cell_type": "code",
   "execution_count": null,
   "id": "43b5d4d8",
   "metadata": {},
   "outputs": [],
   "source": [
    "t = solution.cycles[2][\"Time [s]\"].entries\n",
    "phis_CC = solution.cycles[2][\"Negative electrode potential [V]\"].entries[0,:]\n",
    "phis_sep = solution.cycles[2][\"Negative electrode potential [V]\"].entries[-1,:]\n",
    "phie_CC = solution.cycles[2][\"Negative electrolyte potential [V]\"].entries[0,:]\n",
    "phie_sep = solution.cycles[2][\"Negative electrolyte potential [V]\"].entries[-1,:]"
   ]
  },
  {
   "cell_type": "code",
   "execution_count": null,
   "id": "e080d9a4",
   "metadata": {},
   "outputs": [],
   "source": [
    "fig, (ax1, ax2) = plt.subplots(1,2,figsize=(13,5))\n",
    "ax1.plot(t-t[0],phis_CC-phie_CC)\n",
    "ax1.set_xlabel(\"Charge time [s]\")\n",
    "ax1.set_ylabel(\"Potential difference at current collector [V]\")\n",
    "ax2.plot(t-t[0],phis_sep-phie_sep)\n",
    "ax2.set_xlabel(\"Charge time [s]\")\n",
    "ax2.set_ylabel(\"Potential difference at separator [V]\")\n",
    "plt.show()"
   ]
  },
  {
   "cell_type": "code",
   "execution_count": null,
   "id": "94297d5f",
   "metadata": {},
   "outputs": [],
   "source": [
    "phis_sep[-1]-phie_sep[-1]"
   ]
  },
  {
   "cell_type": "code",
   "execution_count": null,
   "id": "6e82ea35",
   "metadata": {},
   "outputs": [],
   "source": []
  }
 ],
 "metadata": {
  "kernelspec": {
   "display_name": "Python 3 (ipykernel)",
   "language": "python",
   "name": "python3"
  },
  "language_info": {
   "codemirror_mode": {
    "name": "ipython",
    "version": 3
   },
   "file_extension": ".py",
   "mimetype": "text/x-python",
   "name": "python",
   "nbconvert_exporter": "python",
   "pygments_lexer": "ipython3",
   "version": "3.8.10"
  }
 },
 "nbformat": 4,
 "nbformat_minor": 5
}
