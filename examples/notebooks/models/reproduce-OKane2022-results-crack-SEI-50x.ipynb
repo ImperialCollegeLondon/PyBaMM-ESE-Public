{
 "cells": [
  {
   "cell_type": "code",
   "execution_count": 1,
   "id": "72f8f813",
   "metadata": {},
   "outputs": [],
   "source": [
    "#import os\n",
    "import matplotlib.pyplot as plt\n",
    "import numpy as np\n",
    "import pybamm\n",
    "import pandas as pd\n",
    "import timeit\n",
    "start = timeit.default_timer()\n",
    "#os.chdir(pybamm.__path__[0]+'/..')\n",
    "# pybamm.set_logging_level(\"INFO\")"
   ]
  },
  {
   "cell_type": "code",
   "execution_count": 2,
   "id": "7d053c74",
   "metadata": {},
   "outputs": [],
   "source": [
    "model = pybamm.lithium_ion.DFN(\n",
    "    options={\n",
    "        \"particle\": \"Fickian diffusion\",\n",
    "        \"SEI\": \"solvent-diffusion limited\",\n",
    "        \"SEI on cracks\": \"true\",\n",
    "        \"SEI film resistance\": \"distributed\",\n",
    "        \"SEI porosity change\": \"true\",\n",
    "        \"particle mechanics\": (\"swelling and cracking\", \"none\"),\n",
    "    }\n",
    ")"
   ]
  },
  {
   "cell_type": "code",
   "execution_count": 3,
   "id": "a29d2eec",
   "metadata": {},
   "outputs": [],
   "source": [
    "chemistry = pybamm.parameter_sets.OKane2022\n",
    "param = pybamm.ParameterValues(chemistry=chemistry)\n",
    "param.update({\"Upper voltage cut-off [V]\": 4.21})\n",
    "param.update({\"Lower voltage cut-off [V]\": 2.49})\n",
    "param.update({\"Negative electrode cracking rate\": 1.95e-18})"
   ]
  },
  {
   "cell_type": "code",
   "execution_count": 4,
   "id": "943156ae",
   "metadata": {},
   "outputs": [],
   "source": [
    "total_cycles=1000\n",
    "exp = pybamm.Experiment([\n",
    "    \"Hold at 4.2V until C/100\", \"Rest for 4 hours (5 minute period)\", \"Discharge at C/10 until 2.5V (5 minute period)\", \n",
    "    \"Charge at 0.3C until 4.2V (5 minute period)\", \"Hold at 4.2V until C/100 (5 minute period)\"] + [(\n",
    "    \"Discharge at 1C until 2.5V\", \"Charge at 0.3C until 4.2V (5 minute period)\", \"Hold at 4.2V until C/100 (5 minute period)\",\n",
    "),]*total_cycles + [\"Discharge at C/10 until 2.5V (5 minute period)\"])"
   ]
  },
  {
   "cell_type": "code",
   "execution_count": 5,
   "id": "d8c05bd9",
   "metadata": {},
   "outputs": [],
   "source": [
    "var_pts = {\n",
    "    \"x_n\": 20,  # negative electrode\n",
    "    \"x_s\": 20,  # separator \n",
    "    \"x_p\": 20,  # positive electrode\n",
    "    \"r_n\": 30,  # negative particle\n",
    "    \"r_p\": 30,  # positive particle\n",
    "}"
   ]
  },
  {
   "cell_type": "code",
   "execution_count": 6,
   "id": "e07b49f1",
   "metadata": {},
   "outputs": [
    {
     "name": "stderr",
     "output_type": "stream",
     "text": [
      "At t = 0.0211036 and h = 3.20696e-11, the corrector convergence failed repeatedly or with |h| = hmin.\n",
      "At t = 0.0076555 and h = 3.55263e-11, the corrector convergence failed repeatedly or with |h| = hmin.\n",
      "At t = 0.025441 and h = 1.92225e-11, the corrector convergence failed repeatedly or with |h| = hmin.\n",
      "At t = 0.012282 and h = 3.39617e-11, the corrector convergence failed repeatedly or with |h| = hmin.\n",
      "At t = 0.00563815 and h = 5.26252e-11, the corrector convergence failed repeatedly or with |h| = hmin.\n",
      "At t = 0.00224594 and h = 4.69625e-11, the corrector convergence failed repeatedly or with |h| = hmin.\n",
      "2022-08-26 12:28:04.054 - [ERROR] callbacks.on_experiment_error(226): Simulation error: .../casadi/interfaces/sundials/idas_interface.cpp:591: IDASolve returned \"IDA_CONV_FAIL\". Consult IDAS documentation.\n"
     ]
    },
    {
     "name": "stdout",
     "output_type": "stream",
     "text": [
      "running time: 4774.86457440001s\n"
     ]
    }
   ],
   "source": [
    "sim1 = pybamm.Simulation(\n",
    "    model, \n",
    "    experiment=exp,\n",
    "    parameter_values=param,\n",
    "    solver=pybamm.CasadiSolver(),\n",
    "    var_pts=var_pts\n",
    ")\n",
    "solution1 = sim1.solve(calc_esoh=False)\n",
    "\n",
    "stop = timeit.default_timer()\n",
    "print('running time: ' + str(stop - start) +'s')"
   ]
  },
  {
   "cell_type": "code",
   "execution_count": 9,
   "id": "0a0d36e6",
   "metadata": {},
   "outputs": [],
   "source": [
    "path = '/mnt/c/Users/sokane/pybamm_data/OKane2022_verification/'"
   ]
  },
  {
   "cell_type": "code",
   "execution_count": 17,
   "id": "912713ba",
   "metadata": {},
   "outputs": [],
   "source": [
    "total_cycles=659\n",
    "Q_previous = []\n",
    "Q0 = solution1.cycles[0][\"Discharge capacity [A.h]\"].entries\n",
    "Q0_delta = np.absolute(Q0[-1]-Q0[0])\n",
    "Q2 = solution1.cycles[2][\"Discharge capacity [A.h]\"].entries\n",
    "Q2_delta = np.absolute(Q2[-1]-Q2[0])\n",
    "Q3 = solution1.cycles[3][\"Discharge capacity [A.h]\"].entries\n",
    "Q3_delta = np.absolute(Q3[-1]-Q3[0])\n",
    "Q4 = solution1.cycles[4][\"Discharge capacity [A.h]\"].entries\n",
    "Q4_delta = np.absolute(Q4[-1]-Q4[0])\n",
    "Q_previous.append(Q0_delta+Q2_delta+Q3_delta+Q4_delta)\n",
    "Q_throughput = []\n",
    "Qdis_cycles = []\n",
    "Qsei = []\n",
    "Qsei_cracks = []\n",
    "roughness_avg = []\n",
    "roughness_sep = []\n",
    "roughness_CC = []\n",
    "porosity_avg = []\n",
    "porosity_sep = []\n",
    "porosity_CC = []\n",
    "cs_neg_avg = []\n",
    "cs_neg_sep = []\n",
    "cs_neg_CC = []\n",
    "cs_pos_avg = []\n",
    "cs_pos_sep = []\n",
    "cs_pos_CC = []\n",
    "U_neg_avg = []\n",
    "U_neg_sep = []\n",
    "U_neg_CC = []\n",
    "U_pos_avg = []\n",
    "U_pos_sep = []\n",
    "U_pos_CC = []\n",
    "eta_SEI_avg = []\n",
    "eta_SEI_sep = []\n",
    "eta_SEI_CC = []\n",
    "Lsei_avg = []\n",
    "Lsei_sep = []\n",
    "Lsei_CC = []\n",
    "Lsei_cracks_avg = []\n",
    "Lsei_cracks_sep = []\n",
    "Lsei_cracks_CC = []\n",
    "for i in range(total_cycles):\n",
    "    Qdis = solution1.cycles[i+5].steps[0][\"Discharge capacity [A.h]\"].entries\n",
    "    Qdis_delta = Qdis[-1] - Qdis[0]\n",
    "    Qdis_cycles.append(Qdis_delta)\n",
    "    Q_throughput.append(Q_previous[i]+Qdis_delta)\n",
    "    Q_CC = solution1.cycles[i+5].steps[1][\"Discharge capacity [A.h]\"].entries\n",
    "    Q_CC_delta = np.absolute(Q_CC[-1]-Q_CC[0])\n",
    "    Q_CV = solution1.cycles[i+5].steps[2][\"Discharge capacity [A.h]\"].entries\n",
    "    Q_CV_delta = np.absolute(Q_CV[-1]-Q_CV[0])\n",
    "    Q_previous.append(Q_previous[i]+Qdis_delta+Q_CC_delta+Q_CV_delta)\n",
    "    Qsei_loc=solution1.cycles[i+5].steps[0][\"Loss of lithium to SEI [mol]\"].entries\n",
    "    Qsei.append(Qsei_loc[-1] * 96485.3/3600)  #[Ah]\n",
    "    Qsei_cracks_loc=solution1.cycles[i+5].steps[0][\"Loss of lithium to SEI on cracks [mol]\"].entries\n",
    "    Qsei_cracks.append(Qsei_cracks_loc[-1] * 96485.3/3600)  #[Ah]\n",
    "    roughness_avg_temp = solution1.cycles[i+5].steps[0][\"X-averaged negative electrode roughness ratio\"].entries\n",
    "    roughness_avg.append(roughness_avg_temp[-1])\n",
    "    roughness_sep_temp = solution1.cycles[i+5].steps[0][\"Negative electrode roughness ratio\"].entries[-1,-1]\n",
    "    roughness_sep.append(roughness_sep_temp)\n",
    "    roughness_CC_temp = solution1.cycles[i+5].steps[0][\"Negative electrode roughness ratio\"].entries[0,-1]\n",
    "    roughness_CC.append(roughness_CC_temp)\n",
    "    poro_avg_temp = solution1.cycles[i+5].steps[0][\"X-averaged negative electrode porosity\"].entries\n",
    "    porosity_avg.append(poro_avg_temp[-1])\n",
    "    poro_sep_temp = solution1.cycles[i+5].steps[0][\"Negative electrode porosity\"].entries[-1,-1]\n",
    "    porosity_sep.append(poro_sep_temp)\n",
    "    poro_CC_temp = solution1.cycles[i+5].steps[0][\"Negative electrode porosity\"].entries[0,-1]\n",
    "    porosity_CC.append(poro_CC_temp)\n",
    "    cs_neg_avg_temp = solution1.cycles[i+5].steps[0][\"X-averaged negative particle surface concentration\"].entries\n",
    "    cs_neg_avg.append(cs_neg_avg_temp[-1])\n",
    "    cs_neg_sep_temp = solution1.cycles[i+5].steps[0][\"Negative particle surface concentration\"].entries[-1,-1]\n",
    "    cs_neg_sep.append(cs_neg_sep_temp)\n",
    "    cs_neg_CC_temp = solution1.cycles[i+5].steps[0][\"Negative particle surface concentration\"].entries[0,-1]\n",
    "    cs_neg_CC.append(cs_neg_CC_temp)\n",
    "    cs_pos_avg_temp = solution1.cycles[i+5].steps[0][\"X-averaged positive particle surface concentration\"].entries\n",
    "    cs_pos_avg.append(cs_pos_avg_temp[-1])\n",
    "    cs_pos_sep_temp = solution1.cycles[i+5].steps[0][\"Positive particle surface concentration\"].entries[0,-1]\n",
    "    cs_pos_sep.append(cs_pos_sep_temp)\n",
    "    cs_pos_CC_temp = solution1.cycles[i+5].steps[0][\"Positive particle surface concentration\"].entries[-1,-1]\n",
    "    cs_pos_CC.append(cs_pos_CC_temp)\n",
    "    U_neg_avg_temp = solution1.cycles[i+5].steps[0][\"X-averaged negative electrode open circuit potential [V]\"].entries\n",
    "    U_neg_avg.append(U_neg_avg_temp[-1])\n",
    "    U_neg_sep_temp = solution1.cycles[i+5].steps[0][\"Negative electrode open circuit potential [V]\"].entries[-1,-1]\n",
    "    U_neg_sep.append(U_neg_sep_temp)\n",
    "    U_neg_CC_temp = solution1.cycles[i+5].steps[0][\"Negative electrode open circuit potential [V]\"].entries[0,-1]\n",
    "    U_neg_CC.append(U_neg_CC_temp)\n",
    "    U_pos_avg_temp = solution1.cycles[i+5].steps[0][\"X-averaged positive electrode open circuit potential [V]\"].entries\n",
    "    U_pos_avg.append(U_pos_avg_temp[-1])\n",
    "    U_pos_sep_temp = solution1.cycles[i+5].steps[0][\"Positive electrode open circuit potential [V]\"].entries[0,-1]\n",
    "    U_pos_sep.append(U_pos_sep_temp)\n",
    "    U_pos_CC_temp = solution1.cycles[i+5].steps[0][\"Positive electrode open circuit potential [V]\"].entries[-1,-1]\n",
    "    U_pos_CC.append(U_pos_CC_temp)\n",
    "    eta_SEI_temp = solution1.cycles[i+5].steps[0][\"X-averaged SEI film overpotential [V]\"].entries\n",
    "    eta_SEI_avg.append(eta_SEI_temp[-1])\n",
    "    eta_SEI_sep_temp = solution1.cycles[i+5].steps[0][\"SEI film overpotential [V]\"].entries[-1,-1]\n",
    "    eta_SEI_sep.append(eta_SEI_sep_temp)\n",
    "    eta_SEI_CC_temp = solution1.cycles[i+5].steps[0][\"SEI film overpotential [V]\"].entries[0,-1]\n",
    "    eta_SEI_CC.append(eta_SEI_CC_temp)\n",
    "    Lsei_temp = solution1.cycles[i+5].steps[0][\"X-averaged total SEI thickness [m]\"].entries\n",
    "    Lsei_avg.append(Lsei_temp[-1])\n",
    "    Lsei_sep_temp = solution1.cycles[i+5].steps[0][\"Total SEI thickness [m]\"].entries[-1,-1]\n",
    "    Lsei_sep.append(Lsei_sep_temp)\n",
    "    Lsei_CC_temp = solution1.cycles[i+5].steps[0][\"Total SEI thickness [m]\"].entries[0,-1]\n",
    "    Lsei_CC.append(Lsei_CC_temp)\n",
    "    Lcr_temp = solution1.cycles[i+5].steps[0][\"X-averaged total SEI on cracks thickness [m]\"].entries\n",
    "    Lsei_cracks_avg.append(Lcr_temp[-1])\n",
    "    Lcr_sep_temp = solution1.cycles[i+5].steps[0][\"Total SEI on cracks thickness [m]\"].entries[-1,-1]\n",
    "    Lsei_cracks_sep.append(Lcr_sep_temp)\n",
    "    Lcr_CC_temp = solution1.cycles[i+5].steps[0][\"Total SEI on cracks thickness [m]\"].entries[0,-1]\n",
    "    Lsei_cracks_CC.append(Lcr_CC_temp)\n",
    "M_cycles = np.array([Q_throughput,Qdis_cycles,Qsei,Qsei_cracks,\n",
    "                     cs_neg_avg,cs_neg_sep,cs_neg_CC,cs_pos_avg,cs_pos_sep,cs_pos_CC,\n",
    "                     U_neg_avg,U_neg_sep,U_neg_CC,U_pos_avg,U_pos_sep,U_pos_CC,\n",
    "                     porosity_avg,porosity_sep,porosity_CC,\n",
    "                     Lsei_avg,Lsei_sep,Lsei_CC,eta_SEI_avg,eta_SEI_sep,eta_SEI_CC,\n",
    "                     Lsei_cracks_avg,Lsei_cracks_sep,Lsei_cracks_CC,roughness_avg,roughness_sep,roughness_CC,\n",
    "                     \n",
    "    ])\n",
    "filename_cycles = path+'crack-SEI_50x_cycles.txt'\n",
    "np.savetxt(filename_cycles,M_cycles,delimiter=\",\")"
   ]
  },
  {
   "cell_type": "code",
   "execution_count": 15,
   "id": "ec9bd583",
   "metadata": {},
   "outputs": [
    {
     "data": {
      "text/plain": [
       "(664,)"
      ]
     },
     "execution_count": 15,
     "metadata": {},
     "output_type": "execute_result"
    }
   ],
   "source": [
    "np.shape(Q_throughput)"
   ]
  },
  {
   "cell_type": "code",
   "execution_count": null,
   "id": "717ee977",
   "metadata": {},
   "outputs": [],
   "source": [
    "Qdis1 = solution1.cycles[1].steps[0][\"Discharge capacity [A.h]\"].entries\n",
    "Vdis1 = solution1.cycles[1].steps[0][\"Terminal voltage [V]\"].entries\n",
    "Qdis10 = solution1.cycles[10].steps[0][\"Discharge capacity [A.h]\"].entries\n",
    "Vdis10 = solution1.cycles[10].steps[0][\"Terminal voltage [V]\"].entries\n",
    "fig, ax = plt.subplots()\n",
    "ax.plot(Qdis1,Vdis1)\n",
    "ax.plot(Qdis10,Vdis10)\n",
    "ax.set_xlabel(\"Discharge capacity [A.h]\")\n",
    "ax.set_ylabel(\"Terminal voltage [V]\")\n",
    "plt.show()"
   ]
  },
  {
   "cell_type": "code",
   "execution_count": null,
   "id": "7dc44296",
   "metadata": {},
   "outputs": [],
   "source": [
    "Q_CC1 = solution1.cycles[1].steps[1][\"Discharge capacity [A.h]\"].entries\n",
    "V_CC1 = solution1.cycles[1].steps[1][\"Terminal voltage [V]\"].entries\n",
    "Q_CC10 = solution1.cycles[10].steps[1][\"Discharge capacity [A.h]\"].entries\n",
    "V_CC10 = solution1.cycles[10].steps[1][\"Terminal voltage [V]\"].entries\n",
    "fig, ax = plt.subplots()\n",
    "ax.plot(Q_CC1,V_CC1)\n",
    "ax.plot(Q_CC10,V_CC10)\n",
    "ax.set_xlabel(\"Discharge capacity [A.h]\")\n",
    "ax.set_ylabel(\"Terminal voltage [V]\")\n",
    "plt.show()"
   ]
  },
  {
   "cell_type": "code",
   "execution_count": null,
   "id": "c04fff04",
   "metadata": {},
   "outputs": [],
   "source": [
    "t_CV1 = solution1.cycles[1].steps[2][\"Time [h]\"].entries\n",
    "I_CV1 = solution1.cycles[1].steps[2][\"Current [A]\"].entries\n",
    "Q_CV1 = solution1.cycles[1].steps[2][\"Discharge capacity [A.h]\"].entries\n",
    "V_CV1 = solution1.cycles[1].steps[2][\"Terminal voltage [V]\"].entries\n",
    "t_CV10 = solution1.cycles[10].steps[2][\"Time [h]\"].entries\n",
    "I_CV10 = solution1.cycles[10].steps[2][\"Current [A]\"].entries\n",
    "Q_CV10 = solution1.cycles[10].steps[2][\"Discharge capacity [A.h]\"].entries\n",
    "V_CV10 = solution1.cycles[10].steps[2][\"Terminal voltage [V]\"].entries\n",
    "fig, ax = plt.subplots()\n",
    "ax.plot(Q_CV1,I_CV1)\n",
    "ax.plot(Q_CV10,I_CV10)\n",
    "ax.set_xlabel(\"Discharge capacity [A.h]\")\n",
    "ax.set_ylabel(\"Current [A]\")\n",
    "plt.show()"
   ]
  },
  {
   "cell_type": "code",
   "execution_count": null,
   "id": "abe84456",
   "metadata": {},
   "outputs": [],
   "source": [
    "fig, ax = plt.subplots()\n",
    "ax.plot(t_CV1,V_CV1)\n",
    "ax.plot(t_CV10,V_CV10)\n",
    "ax.set_xlabel(\"Time [h]\")\n",
    "ax.set_ylabel(\"Terminal voltage [V]\")\n",
    "plt.show()"
   ]
  },
  {
   "cell_type": "code",
   "execution_count": null,
   "id": "ed77958c",
   "metadata": {},
   "outputs": [],
   "source": [
    "plt.figure()\n",
    "plt.plot(Q_throughput, AM_neg_avg)\n",
    "plt.xlabel(\"Thoughput capacity [A.h]\")\n",
    "plt.ylabel(\"Negative active material fraction\")\n",
    "plt.show()"
   ]
  },
  {
   "cell_type": "code",
   "execution_count": null,
   "id": "b18d5ddc",
   "metadata": {},
   "outputs": [],
   "source": [
    " pybamm.Experiment([\n",
    "    (f\"Discharge at 1C until 2V\",\n",
    "     \"Rest for 1 hour\",\n",
    "    )\n",
    "]).operating_conditions_cycles"
   ]
  },
  {
   "cell_type": "code",
   "execution_count": null,
   "id": "f9b345a9",
   "metadata": {},
   "outputs": [],
   "source": [
    "exp.operating_conditions_cycles"
   ]
  },
  {
   "cell_type": "code",
   "execution_count": null,
   "id": "231ab594",
   "metadata": {},
   "outputs": [],
   "source": [
    "exp_test.operating_conditions_cycles"
   ]
  },
  {
   "cell_type": "code",
   "execution_count": null,
   "id": "462d3a03",
   "metadata": {},
   "outputs": [],
   "source": [
    "exp_test = pybamm.Experiment(\n",
    "    [\"Hold at 4.2V until C/100\",\"Rest for 4 hours (5 minute period)\",] + [(\"Discharge at C/10 until 2.5V (5 minute period)\", \n",
    "    \"Charge at 0.3C until 4.2V (5 minute period)\",\"Hold at 4.2V until C/100 (5 minute period)\")] + [(\n",
    "    \"Discharge at 1C until 2.5V\",\"Charge at 0.3C until 4.2V (5 minute period)\",\"Hold at 4.2V until C/100 (5 minute period)\",\n",
    "    ),] * total_cycles + [\"Discharge at C/10 until 2.5V (5 minute period)\"]\n",
    ")\n",
    "pybamm.Simulation(\n",
    "    model, \n",
    "    experiment=exp,\n",
    "    parameter_values=param,\n",
    "    solver=pybamm.CasadiSolver(),\n",
    "    submesh_types = submesh_types,\n",
    ").experiment.operating_conditions_cycles"
   ]
  },
  {
   "cell_type": "code",
   "execution_count": null,
   "id": "7ffc1ebc",
   "metadata": {},
   "outputs": [],
   "source": []
  }
 ],
 "metadata": {
  "kernelspec": {
   "display_name": "Python 3 (ipykernel)",
   "language": "python",
   "name": "python3"
  },
  "language_info": {
   "codemirror_mode": {
    "name": "ipython",
    "version": 3
   },
   "file_extension": ".py",
   "mimetype": "text/x-python",
   "name": "python",
   "nbconvert_exporter": "python",
   "pygments_lexer": "ipython3",
   "version": "3.8.10"
  }
 },
 "nbformat": 4,
 "nbformat_minor": 5
}
