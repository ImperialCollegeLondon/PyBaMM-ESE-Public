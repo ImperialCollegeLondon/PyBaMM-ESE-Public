{
 "cells": [
  {
   "cell_type": "code",
   "execution_count": 1,
   "id": "2b88746a",
   "metadata": {},
   "outputs": [],
   "source": [
    "import pybamm\n",
    "import os\n",
    "import numpy as np\n",
    "import matplotlib.pyplot as plt\n",
    "os.chdir(pybamm.__path__[0]+'/..')"
   ]
  },
  {
   "cell_type": "code",
   "execution_count": 2,
   "id": "4df223cd",
   "metadata": {},
   "outputs": [
    {
     "name": "stderr",
     "output_type": "stream",
     "text": [
      "At t = 0.00160559 and h = 2.39331e-17, the corrector convergence failed repeatedly or with |h| = hmin.\n",
      "At t = 0.00160559, , mxstep steps taken before reaching tout.\n",
      "At t = 0.00160559, , mxstep steps taken before reaching tout.\n",
      "At t = 0.00160096 and h = 1.32457e-18, the corrector convergence failed repeatedly or with |h| = hmin.\n",
      "At t = 0.00160096 and h = 3.28184e-17, the corrector convergence failed repeatedly or with |h| = hmin.\n",
      "At t = 0.00160096 and h = 5.37444e-17, the corrector convergence failed repeatedly or with |h| = hmin.\n",
      "At t = 0.00159614 and h = 2.79952e-18, the corrector convergence failed repeatedly or with |h| = hmin.\n",
      "At t = 0.00159614 and h = 3.16706e-17, the corrector convergence failed repeatedly or with |h| = hmin.\n",
      "At t = 0.00159614 and h = 4.21467e-17, the corrector convergence failed repeatedly or with |h| = hmin.\n",
      "At t = 0.00158993, , mxstep steps taken before reaching tout.\n",
      "At t = 0.00158993 and h = 4.2062e-17, the corrector convergence failed repeatedly or with |h| = hmin.\n",
      "At t = 0.00158993 and h = 1.28816e-18, the corrector convergence failed repeatedly or with |h| = hmin.\n",
      "At t = 0.00158233, , mxstep steps taken before reaching tout.\n",
      "At t = 0.00158233 and h = 1.13942e-17, the corrector convergence failed repeatedly or with |h| = hmin.\n",
      "At t = 0.00158233 and h = 8.0127e-22, the corrector convergence failed repeatedly or with |h| = hmin.\n"
     ]
    }
   ],
   "source": [
    "model = pybamm.lithium_ion.DFN()\n",
    "chemistry = pybamm.parameter_sets.ORegan2022_adjusted\n",
    "param = pybamm.ParameterValues(chemistry=chemistry)\n",
    "param.update({\"Ambient temperature [K]\": 283.15})\n",
    "exp = pybamm.Experiment([\"Discharge at 1C until 2.5 V\"])\n",
    "\n",
    "pts400 = {\n",
    "    \"x_n\": 20,  # negative electrode\n",
    "    \"x_s\": 20,  # separator \n",
    "    \"x_p\": 20,  # positive electrode\n",
    "    \"r_n\": 400,  # negative particle\n",
    "    \"r_p\": 400,  # positive particle\n",
    "}\n",
    "\n",
    "sim400 = pybamm.Simulation(model, parameter_values=param, experiment=exp, var_pts=pts400)\n",
    "solution400 = sim400.solve(calc_esoh=False)\n",
    "\n",
    "pts200 = {\n",
    "    \"x_n\": 20,  # negative electrode\n",
    "    \"x_s\": 20,  # separator \n",
    "    \"x_p\": 20,  # positive electrode\n",
    "    \"r_n\": 200,  # negative particle\n",
    "    \"r_p\": 200,  # positive particle\n",
    "}\n",
    "\n",
    "sim200 = pybamm.Simulation(model, parameter_values=param, experiment=exp, var_pts=pts200)\n",
    "solution200 = sim200.solve(calc_esoh=False)\n",
    "\n",
    "pts150 = {\n",
    "    \"x_n\": 20,  # negative electrode\n",
    "    \"x_s\": 20,  # separator \n",
    "    \"x_p\": 20,  # positive electrode\n",
    "    \"r_n\": 150,  # negative particle\n",
    "    \"r_p\": 150,  # positive particle\n",
    "}\n",
    "\n",
    "sim150 = pybamm.Simulation(model, parameter_values=param, experiment=exp, var_pts=pts150)\n",
    "solution150 = sim150.solve(calc_esoh=False)\n",
    "\n",
    "pts120 = {\n",
    "    \"x_n\": 20,  # negative electrode\n",
    "    \"x_s\": 20,  # separator \n",
    "    \"x_p\": 20,  # positive electrode\n",
    "    \"r_n\": 120,  # negative particle\n",
    "    \"r_p\": 120,  # positive particle\n",
    "}\n",
    "\n",
    "sim120 = pybamm.Simulation(model, parameter_values=param, experiment=exp, var_pts=pts120)\n",
    "solution120 = sim120.solve(calc_esoh=False)\n",
    "\n",
    "pts100 = {\n",
    "    \"x_n\": 20,  # negative electrode\n",
    "    \"x_s\": 20,  # separator \n",
    "    \"x_p\": 20,  # positive electrode\n",
    "    \"r_n\": 100,  # negative particle\n",
    "    \"r_p\": 100,  # positive particle\n",
    "}\n",
    "\n",
    "sim100 = pybamm.Simulation(model, parameter_values=param, experiment=exp, var_pts=pts100)\n",
    "solution100 = sim100.solve(calc_esoh=False)\n",
    "\n",
    "pts60 = {\n",
    "    \"x_n\": 20,  # negative electrode\n",
    "    \"x_s\": 20,  # separator \n",
    "    \"x_p\": 20,  # positive electrode\n",
    "    \"r_n\": 60,  # negative particle\n",
    "    \"r_p\": 60,  # positive particle\n",
    "}\n",
    "\n",
    "sim60 = pybamm.Simulation(model, parameter_values=param, experiment=exp, var_pts=pts60)\n",
    "solution60 = sim60.solve(calc_esoh=False)\n",
    "\n",
    "pts30 = {\n",
    "    \"x_n\": 20,  # negative electrode\n",
    "    \"x_s\": 20,  # separator \n",
    "    \"x_p\": 20,  # positive electrode\n",
    "    \"r_n\": 30,  # negative particle\n",
    "    \"r_p\": 30,  # positive particle\n",
    "}\n",
    "\n",
    "sim30 = pybamm.Simulation(model, parameter_values=param, experiment=exp, var_pts=pts30)\n",
    "solution30 = sim30.solve(calc_esoh=False)"
   ]
  },
  {
   "cell_type": "code",
   "execution_count": null,
   "id": "e606bdd3",
   "metadata": {},
   "outputs": [],
   "source": [
    "t400 = solution400[\"Time [s]\"].entries\n",
    "print(f\"With 400 points, discharge lasts {np.max(t400)} seconds.\")\n",
    "t200 = solution200[\"Time [s]\"].entries\n",
    "print(f\"With 200 points, discharge lasts {np.max(t200)} seconds.\")\n",
    "t150 = solution150[\"Time [s]\"].entries\n",
    "print(f\"With 150 points, discharge lasts {np.max(t150)} seconds.\")\n",
    "t120 = solution120[\"Time [s]\"].entries\n",
    "print(f\"With 120 points, discharge lasts {np.max(t120)} seconds.\")\n",
    "t100 = solution100[\"Time [s]\"].entries\n",
    "print(f\"With 100 points, discharge lasts {np.max(t100)} seconds.\")"
   ]
  },
  {
   "cell_type": "code",
   "execution_count": 4,
   "id": "003435d3",
   "metadata": {},
   "outputs": [
    {
     "name": "stdout",
     "output_type": "stream",
     "text": [
      "With 400 points, discharge capacity is 4.421815947402732 Ah.\n",
      "With 200 points, discharge capacity is 4.421209606601711 Ah.\n",
      "With 150 points, discharge capacity is 4.420384893015126 Ah.\n",
      "With 120 points, discharge capacity is 4.41898925046937 Ah.\n",
      "With 100 points, discharge capacity is 4.416747447368054 Ah.\n",
      "With 60 points, discharge capacity is 4.391109867360736 Ah.\n",
      "With 30 points, discharge capacity is 3.997723375913361 Ah.\n"
     ]
    }
   ],
   "source": [
    "Q400 = solution400[\"Discharge capacity [A.h]\"].entries\n",
    "V400 = solution400[\"Terminal voltage [V]\"].entries\n",
    "Q200 = solution200[\"Discharge capacity [A.h]\"].entries\n",
    "V200 = solution200[\"Terminal voltage [V]\"].entries\n",
    "Q150 = solution150[\"Discharge capacity [A.h]\"].entries\n",
    "V150 = solution150[\"Terminal voltage [V]\"].entries\n",
    "Q120 = solution120[\"Discharge capacity [A.h]\"].entries\n",
    "V120 = solution120[\"Terminal voltage [V]\"].entries\n",
    "Q100 = solution100[\"Discharge capacity [A.h]\"].entries\n",
    "V100 = solution100[\"Terminal voltage [V]\"].entries\n",
    "Q60 = solution60[\"Discharge capacity [A.h]\"].entries\n",
    "V60 = solution60[\"Terminal voltage [V]\"].entries\n",
    "Q30 = solution30[\"Discharge capacity [A.h]\"].entries\n",
    "V30 = solution30[\"Terminal voltage [V]\"].entries\n",
    "print(f\"With 400 points, discharge capacity is {np.max(Q400)} Ah.\")\n",
    "print(f\"With 200 points, discharge capacity is {np.max(Q200)} Ah.\")\n",
    "print(f\"With 150 points, discharge capacity is {np.max(Q150)} Ah.\")\n",
    "print(f\"With 120 points, discharge capacity is {np.max(Q120)} Ah.\")\n",
    "print(f\"With 100 points, discharge capacity is {np.max(Q100)} Ah.\")\n",
    "print(f\"With 60 points, discharge capacity is {np.max(Q60)} Ah.\")\n",
    "print(f\"With 30 points, discharge capacity is {np.max(Q30)} Ah.\")"
   ]
  },
  {
   "cell_type": "code",
   "execution_count": 5,
   "id": "e614c5b9",
   "metadata": {},
   "outputs": [
    {
     "data": {
      "image/png": "[encoded data removed]",
      "text/plain": [
       "<Figure size 432x288 with 1 Axes>"
      ]
     },
     "metadata": {
      "needs_background": "light"
     },
     "output_type": "display_data"
    }
   ],
   "source": [
    "fig, ax = plt.subplots()\n",
    "ax.plot(Q400,V400,label=\"400 points\")\n",
    "ax.plot(Q200,V200,label=\"200 points\")\n",
    "ax.plot(Q150,V150,label=\"150 points\")\n",
    "ax.plot(Q120,V120,label=\"120 points\")\n",
    "ax.plot(Q100,V100,label=\"100 points\")\n",
    "ax.plot(Q60,V60,label=\"60 points\")\n",
    "ax.plot(Q30,V30,label=\"30 points\")\n",
    "ax.set_xlabel(\"Discharge capacity [A.h]\")\n",
    "ax.set_ylabel(\"Terminal voltage [V]\")\n",
    "ax.legend()\n",
    "plt.savefig(\"/mnt/c/Users/sokane/pybamm_data/mesh_refinement/uniform_1C_discharge_283K.pdf\")\n",
    "plt.show()"
   ]
  },
  {
   "cell_type": "code",
   "execution_count": null,
   "id": "d98e506d",
   "metadata": {},
   "outputs": [],
   "source": [
    "(3.0585-3.0167)/3.0639"
   ]
  },
  {
   "cell_type": "code",
   "execution_count": null,
   "id": "947a130b",
   "metadata": {},
   "outputs": [],
   "source": []
  }
 ],
 "metadata": {
  "kernelspec": {
   "display_name": "Python 3 (ipykernel)",
   "language": "python",
   "name": "python3"
  },
  "language_info": {
   "codemirror_mode": {
    "name": "ipython",
    "version": 3
   },
   "file_extension": ".py",
   "mimetype": "text/x-python",
   "name": "python",
   "nbconvert_exporter": "python",
   "pygments_lexer": "ipython3",
   "version": "3.8.10"
  }
 },
 "nbformat": 4,
 "nbformat_minor": 5
}
