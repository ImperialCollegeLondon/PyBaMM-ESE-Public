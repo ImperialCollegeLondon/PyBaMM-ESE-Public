{
 "cells": [
  {
   "cell_type": "code",
   "execution_count": 1,
   "id": "2b88746a",
   "metadata": {},
   "outputs": [],
   "source": [
    "import pybamm\n",
    "import os\n",
    "import numpy as np\n",
    "import matplotlib.pyplot as plt\n",
    "os.chdir(pybamm.__path__[0]+'/..')"
   ]
  },
  {
   "cell_type": "code",
   "execution_count": 2,
   "id": "4df223cd",
   "metadata": {},
   "outputs": [],
   "source": [
    "model = pybamm.lithium_ion.DFN(options={\"thermal\": \"lumped\"})\n",
    "param = pybamm.ParameterValues(\"ORegan2022_adjusted\")\n",
    "param.update({\"Ambient temperature [K]\": 278.15})\n",
    "param.update({\"Initial temperature [K]\": 278.15})\n",
    "param.update({\"Maximum concentration in negative electrode [mol.m-3]\": 32544})\n",
    "param.update({\"Maximum concentration in positive electrode [mol.m-3]\": 56598})\n",
    "param.update({\"Initial concentration in negative electrode [mol.m-3]\": 28162})\n",
    "param.update({\"Initial concentration in positive electrode [mol.m-3]\": 15281})\n",
    "exp = pybamm.Experiment([\"Discharge at 1C until 2.5 V\", \"Charge at 0.3C until 4.2 V\", \"Hold at 4.2 V until C/100\"])\n",
    "\n",
    "\"\"\"\n",
    "pts200 = {\n",
    "    \"x_n\": 20,  # negative electrode\n",
    "    \"x_s\": 20,  # separator \n",
    "    \"x_p\": 20,  # positive electrode\n",
    "    \"r_n\": 200,  # negative particle\n",
    "    \"r_p\": 200,  # positive particle\n",
    "}\n",
    "\n",
    "sim200 = pybamm.Simulation(model, parameter_values=param, experiment=exp, var_pts=pts200)\n",
    "solution200 = sim200.solve(calc_esoh=False)\n",
    "\n",
    "pts150 = {\n",
    "    \"x_n\": 20,  # negative electrode\n",
    "    \"x_s\": 20,  # separator \n",
    "    \"x_p\": 20,  # positive electrode\n",
    "    \"r_n\": 150,  # negative particle\n",
    "    \"r_p\": 150,  # positive particle\n",
    "}\n",
    "\n",
    "sim150 = pybamm.Simulation(model, parameter_values=param, experiment=exp, var_pts=pts150)\n",
    "solution150 = sim150.solve(calc_esoh=False)\n",
    "\n",
    "pts120 = {\n",
    "    \"x_n\": 20,  # negative electrode\n",
    "    \"x_s\": 20,  # separator \n",
    "    \"x_p\": 20,  # positive electrode\n",
    "    \"r_n\": 120,  # negative particle\n",
    "    \"r_p\": 120,  # positive particle\n",
    "}\n",
    "\n",
    "sim120 = pybamm.Simulation(model, parameter_values=param, experiment=exp, var_pts=pts120)\n",
    "solution120 = sim120.solve(calc_esoh=False)\n",
    "\"\"\"\n",
    "\n",
    "pts100 = {\n",
    "    \"x_n\": 20,  # negative electrode\n",
    "    \"x_s\": 20,  # separator \n",
    "    \"x_p\": 20,  # positive electrode\n",
    "    \"r_n\": 100,  # negative particle\n",
    "    \"r_p\": 100,  # positive particle\n",
    "}\n",
    "\n",
    "sim100 = pybamm.Simulation(model, parameter_values=param, experiment=exp, var_pts=pts100)\n",
    "solution100 = sim100.solve(calc_esoh=False)\n",
    "\n",
    "pts60 = {\n",
    "    \"x_n\": 20,  # negative electrode\n",
    "    \"x_s\": 20,  # separator \n",
    "    \"x_p\": 20,  # positive electrode\n",
    "    \"r_n\": 60,  # negative particle\n",
    "    \"r_p\": 60,  # positive particle\n",
    "}\n",
    "\n",
    "sim60 = pybamm.Simulation(model, parameter_values=param, experiment=exp, var_pts=pts60)\n",
    "solution60 = sim60.solve(calc_esoh=False)\n",
    "\n",
    "pts40 = {\n",
    "    \"x_n\": 20,  # negative electrode\n",
    "    \"x_s\": 20,  # separator \n",
    "    \"x_p\": 20,  # positive electrode\n",
    "    \"r_n\": 40,  # negative particle\n",
    "    \"r_p\": 40,  # positive particle\n",
    "}\n",
    "\n",
    "sim40 = pybamm.Simulation(model, parameter_values=param, experiment=exp, var_pts=pts40)\n",
    "solution40 = sim40.solve(calc_esoh=False)"
   ]
  },
  {
   "cell_type": "code",
   "execution_count": 3,
   "id": "e606bdd3",
   "metadata": {},
   "outputs": [],
   "source": [
    "#t200 = solution200[\"Time [s]\"].entries\n",
    "#t150 = solution150[\"Time [s]\"].entries\n",
    "#t120 = solution120[\"Time [s]\"].entries\n",
    "t100 = solution100[\"Time [s]\"].entries\n",
    "t60 = solution60[\"Time [s]\"].entries\n",
    "t40 = solution40[\"Time [s]\"].entries"
   ]
  },
  {
   "cell_type": "code",
   "execution_count": 4,
   "id": "003435d3",
   "metadata": {},
   "outputs": [
    {
     "data": {
      "text/plain": [
       "'\\nprint(f\"With 200 points, discharge capacity is {np.max(Q200)} Ah.\")\\nprint(f\"With 150 points, discharge capacity is {np.max(Q150)} Ah.\")\\nprint(f\"With 120 points, discharge capacity is {np.max(Q120)} Ah.\")\\nprint(f\"With 100 points, discharge capacity is {np.max(Q100)} Ah.\")\\nprint(f\"With 60 points, discharge capacity is {np.max(Q60)} Ah.\")\\nprint(f\"With 30 points, discharge capacity is {np.max(Q30)} Ah.\")\\n'"
      ]
     },
     "execution_count": 4,
     "metadata": {},
     "output_type": "execute_result"
    }
   ],
   "source": [
    "#Q200 = solution200[\"Discharge capacity [A.h]\"].entries\n",
    "#V200 = solution200[\"Terminal voltage [V]\"].entries\n",
    "#Q150 = solution150[\"Discharge capacity [A.h]\"].entries\n",
    "#V150 = solution150[\"Terminal voltage [V]\"].entries\n",
    "#Q120 = solution120[\"Discharge capacity [A.h]\"].entries\n",
    "#V120 = solution120[\"Terminal voltage [V]\"].entries\n",
    "Q100 = solution100[\"Discharge capacity [A.h]\"].entries\n",
    "V100 = solution100[\"Terminal voltage [V]\"].entries\n",
    "Q60 = solution60[\"Discharge capacity [A.h]\"].entries\n",
    "V60 = solution60[\"Terminal voltage [V]\"].entries\n",
    "Q40 = solution40[\"Discharge capacity [A.h]\"].entries\n",
    "V40 = solution40[\"Terminal voltage [V]\"].entries\n",
    "\"\"\"\n",
    "print(f\"With 200 points, discharge capacity is {np.max(Q200)} Ah.\")\n",
    "print(f\"With 150 points, discharge capacity is {np.max(Q150)} Ah.\")\n",
    "print(f\"With 120 points, discharge capacity is {np.max(Q120)} Ah.\")\n",
    "print(f\"With 100 points, discharge capacity is {np.max(Q100)} Ah.\")\n",
    "print(f\"With 60 points, discharge capacity is {np.max(Q60)} Ah.\")\n",
    "print(f\"With 30 points, discharge capacity is {np.max(Q30)} Ah.\")\n",
    "\"\"\""
   ]
  },
  {
   "cell_type": "code",
   "execution_count": 6,
   "id": "e614c5b9",
   "metadata": {},
   "outputs": [
    {
     "data": {
      "image/png": "[encoded data removed]",
      "text/plain": [
       "<Figure size 640x480 with 1 Axes>"
      ]
     },
     "metadata": {},
     "output_type": "display_data"
    }
   ],
   "source": [
    "fig, ax = plt.subplots()\n",
    "#ax.plot(t200,V200,label=\"200 points\")\n",
    "#ax.plot(t150,V150,label=\"150 points\")\n",
    "#ax.plot(t120,V120,label=\"120 points\")\n",
    "ax.plot(t100,V100,label=\"100 points\")\n",
    "ax.plot(t60,V60,label=\"60 points\")\n",
    "#ax.plot(t40,V40,label=\"40 points\")\n",
    "ax.set_xlabel(\"Time [s]\")\n",
    "ax.set_ylabel(\"Terminal voltage [V]\")\n",
    "ax.legend()\n",
    "#plt.savefig(\"/mnt/c/Users/sokane/pybamm_data/mesh_refinement/uniform_1C_discharge_0point3C_charge_278K.pdf\")\n",
    "plt.show()"
   ]
  },
  {
   "cell_type": "code",
   "execution_count": null,
   "id": "d98e506d",
   "metadata": {},
   "outputs": [],
   "source": [
    "#t200_CV = solution200.cycles[2][\"Time [s]\"].entries\n",
    "#t150_CV = solution150.cycles[2][\"Time [s]\"].entries\n",
    "#t120_CV = solution120.cycles[2][\"Time [s]\"].entries\n",
    "t100_CV = solution100.cycles[2][\"Time [s]\"].entries\n",
    "t60_CV = solution60.cycles[2][\"Time [s]\"].entries\n",
    "t30_CV = solution30.cycles[2][\"Time [s]\"].entries\n",
    "#I200 = solution200.cycles[2][\"Current [A]\"].entries\n",
    "#I150 = solution150.cycles[2][\"Current [A]\"].entries\n",
    "#I120 = solution120.cycles[2][\"Current [A]\"].entries\n",
    "I100 = solution100.cycles[2][\"Current [A]\"].entries\n",
    "I60 = solution60.cycles[2][\"Current [A]\"].entries\n",
    "I30 = solution30.cycles[2][\"Current [A]\"].entries\n",
    "#Delta_t_CV_120 = t120_CV[-1]-t120_CV[0]\n",
    "#Delta_t_CV_100 = t100_CV[-1]-t100_CV[0]\n",
    "#print(f\"For 120 points, CV phase lasts experiment ends at {Delta_t_CV_120} seconds.\")\n",
    "#print(f\"For 100 points, CV phase lasts experiment ends at {Delta_t_CV_100} seconds.\")"
   ]
  },
  {
   "cell_type": "code",
   "execution_count": null,
   "id": "947a130b",
   "metadata": {},
   "outputs": [],
   "source": [
    "fig, ax = plt.subplots()\n",
    "#ax.plot(t200_CV,I200,label=\"200 points\")\n",
    "#ax.plot(t150_CV,I150,label=\"150 points\")\n",
    "#ax.plot(t120_CV,I120,label=\"120 points\")\n",
    "ax.plot(t100_CV,I100,label=\"100 points\")\n",
    "ax.plot(t60_CV,I60,label=\"60 points\")\n",
    "#ax.plot(t30_CV,I30,label=\"30 points\")\n",
    "ax.set_xlabel(\"Time [s]\")\n",
    "ax.set_ylabel(\"Current [A]\")\n",
    "ax.legend()\n",
    "plt.show()"
   ]
  },
  {
   "cell_type": "code",
   "execution_count": null,
   "id": "184c0f6f",
   "metadata": {},
   "outputs": [],
   "source": []
  }
 ],
 "metadata": {
  "kernelspec": {
   "display_name": "Python 3 (ipykernel)",
   "language": "python",
   "name": "python3"
  },
  "language_info": {
   "codemirror_mode": {
    "name": "ipython",
    "version": 3
   },
   "file_extension": ".py",
   "mimetype": "text/x-python",
   "name": "python",
   "nbconvert_exporter": "python",
   "pygments_lexer": "ipython3",
   "version": "3.8.10"
  }
 },
 "nbformat": 4,
 "nbformat_minor": 5
}
