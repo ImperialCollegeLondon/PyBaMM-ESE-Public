{
 "cells": [
  {
   "cell_type": "code",
   "execution_count": 1,
   "id": "2b88746a",
   "metadata": {},
   "outputs": [],
   "source": [
    "import pybamm\n",
    "import os\n",
    "import numpy as np\n",
    "import matplotlib.pyplot as plt\n",
    "os.chdir(pybamm.__path__[0]+'/..')"
   ]
  },
  {
   "cell_type": "code",
   "execution_count": null,
   "id": "14edfd08",
   "metadata": {},
   "outputs": [],
   "source": [
    "2e-8*1.5e-8*3.18e15+1"
   ]
  },
  {
   "cell_type": "code",
   "execution_count": null,
   "id": "751092d2",
   "metadata": {},
   "outputs": [],
   "source": [
    "9.585e-5*5.86e-6*3600*0.13509/(9*96485.3*1.58*0.065*8.52e-5*(2e-8*1.5e-8*3.18e15+1))"
   ]
  },
  {
   "cell_type": "code",
   "execution_count": null,
   "id": "4df223cd",
   "metadata": {},
   "outputs": [
    {
     "name": "stderr",
     "output_type": "stream",
     "text": [
      "At t = 0.00357782 and h = 5.36778e-19, the corrector convergence failed repeatedly or with |h| = hmin.\n",
      "At t = 0.00357782, , mxstep steps taken before reaching tout.\n",
      "At t = 0.00364808, , mxstep steps taken before reaching tout.\n",
      "At t = 0.00364808 and h = 2.19725e-18, the corrector convergence failed repeatedly or with |h| = hmin.\n",
      "At t = 0.0037677, , mxstep steps taken before reaching tout.\n",
      "At t = 0.0037677, , mxstep steps taken before reaching tout.\n"
     ]
    }
   ],
   "source": [
    "model = pybamm.lithium_ion.DFN(options={\"thermal\": \"lumped\", \"particle mechanics\": \"swelling only\", \"SEI\": \"constant\"})\n",
    "param = pybamm.ParameterValues(\"OKane2023\")\n",
    "param.update({\"Ambient temperature [K]\": 283.15})\n",
    "param.update({\"Initial temperature [K]\": 283.15})\n",
    "param.update({\"Initial inner SEI thickness [m]\": 1.8398E-8})\n",
    "param.update({\"Initial outer SEI thickness [m]\": 1.8398E-8})\n",
    "param.update({\"Negative electrode porosity\": 0.22239})\n",
    "exp = pybamm.Experiment(\n",
    "    [\"Discharge at 1C until 2.5 V\", \"Charge at 0.3C until 4.2 V\", \"Hold at 4.2 V until C/100\"]\n",
    ")\n",
    "\n",
    "pts200 = {\n",
    "    \"x_n\": 5,  # negative electrode\n",
    "    \"x_s\": 5,  # separator \n",
    "    \"x_p\": 5,  # positive electrode\n",
    "    \"r_n\": 200,  # negative particle\n",
    "    \"r_p\": 20,  # positive particle\n",
    "}\n",
    "\n",
    "sim200 = pybamm.Simulation(model, parameter_values=param, experiment=exp, var_pts=pts200)\n",
    "solution200 = sim200.solve(calc_esoh=False)\n",
    "\n",
    "pts100 = {\n",
    "    \"x_n\": 5,  # negative electrode\n",
    "    \"x_s\": 5,  # separator \n",
    "    \"x_p\": 5,  # positive electrode\n",
    "    \"r_n\": 100,  # negative particle\n",
    "    \"r_p\": 20,  # positive particle\n",
    "}\n",
    "\n",
    "sim100 = pybamm.Simulation(model, parameter_values=param, experiment=exp, var_pts=pts100)\n",
    "solution100 = sim100.solve(calc_esoh=False)\n",
    "\n",
    "pts60 = {\n",
    "    \"x_n\": 5,  # negative electrode\n",
    "    \"x_s\": 5,  # separator \n",
    "    \"x_p\": 5,  # positive electrode\n",
    "    \"r_n\": 60,  # negative particle\n",
    "    \"r_p\": 20,  # positive particle\n",
    "}\n",
    "\n",
    "sim60 = pybamm.Simulation(model, parameter_values=param, experiment=exp, var_pts=pts60)\n",
    "solution60 = sim60.solve(calc_esoh=False)\n",
    "\n",
    "pts50 = {\n",
    "    \"x_n\": 5,  # negative electrode\n",
    "    \"x_s\": 5,  # separator \n",
    "    \"x_p\": 5,  # positive electrode\n",
    "    \"r_n\": 50,  # negative particle\n",
    "    \"r_p\": 20,  # positive particle\n",
    "}\n",
    "\n",
    "sim50 = pybamm.Simulation(model, parameter_values=param, experiment=exp, var_pts=pts50)\n",
    "solution50 = sim50.solve(calc_esoh=False)\n",
    "\n",
    "pts40 = {\n",
    "    \"x_n\": 5,  # negative electrode\n",
    "    \"x_s\": 5,  # separator \n",
    "    \"x_p\": 5,  # positive electrode\n",
    "    \"r_n\": 40,  # negative particle\n",
    "    \"r_p\": 20,  # positive particle\n",
    "}\n",
    "\n",
    "sim40 = pybamm.Simulation(model, parameter_values=param, experiment=exp, var_pts=pts40)\n",
    "solution40 = sim40.solve(calc_esoh=False)\n",
    "\n",
    "pts30 = {\n",
    "    \"x_n\": 5,  # negative electrode\n",
    "    \"x_s\": 5,  # separator \n",
    "    \"x_p\": 5,  # positive electrode\n",
    "    \"r_n\": 30,  # negative particle\n",
    "    \"r_p\": 20,  # positive particle\n",
    "}\n",
    "\n",
    "sim30 = pybamm.Simulation(model, parameter_values=param, experiment=exp, var_pts=pts30)\n",
    "solution30 = sim30.solve(calc_esoh=False)"
   ]
  },
  {
   "cell_type": "code",
   "execution_count": null,
   "id": "e606bdd3",
   "metadata": {},
   "outputs": [],
   "source": [
    "t200 = solution200[\"Time [s]\"].entries\n",
    "t100 = solution100[\"Time [s]\"].entries\n",
    "t60 = solution60[\"Time [s]\"].entries\n",
    "t50 = solution50[\"Time [s]\"].entries\n",
    "t40 = solution40[\"Time [s]\"].entries\n",
    "t30 = solution30[\"Time [s]\"].entries\n",
    "T200 = solution200[\"Volume-averaged cell temperature [K]\"].entries\n",
    "T100 = solution100[\"Volume-averaged cell temperature [K]\"].entries\n",
    "T60 = solution60[\"Volume-averaged cell temperature [K]\"].entries\n",
    "T50 = solution50[\"Volume-averaged cell temperature [K]\"].entries\n",
    "T40 = solution40[\"Volume-averaged cell temperature [K]\"].entries\n",
    "T30 = solution30[\"Volume-averaged cell temperature [K]\"].entries\n",
    "print(f\"With 200 points, average temperature over cycle is {np.average(T200)-273.15} degrees.\")\n",
    "print(f\"With 100 points, average temperature over cycle is {np.average(T100)-273.15} degrees.\")\n",
    "print(f\"With 60 points, average temperature over cycle is {np.average(T60)-273.15} degrees.\")\n",
    "print(f\"With 50 points, average temperature over cycle is {np.average(T50)-273.15} degrees.\")\n",
    "print(f\"With 40 points, average temperature over cycle is {np.average(T40)-273.15} degrees.\")\n",
    "print(f\"With 30 points, average temperature over cycle is {np.average(T30)-273.15} degrees.\")"
   ]
  },
  {
   "cell_type": "code",
   "execution_count": null,
   "id": "003435d3",
   "metadata": {},
   "outputs": [],
   "source": [
    "Q200 = solution200[\"Discharge capacity [A.h]\"].entries\n",
    "Q200_max = np.max(Q200)\n",
    "V200 = solution200[\"Terminal voltage [V]\"].entries\n",
    "Q100 = solution100[\"Discharge capacity [A.h]\"].entries\n",
    "Q100_max = np.max(Q100)\n",
    "V100 = solution100[\"Terminal voltage [V]\"].entries\n",
    "Q60 = solution60[\"Discharge capacity [A.h]\"].entries\n",
    "Q60_max = np.max(Q60)\n",
    "V60 = solution60[\"Terminal voltage [V]\"].entries\n",
    "Q50 = solution50[\"Discharge capacity [A.h]\"].entries\n",
    "Q50_max = np.max(Q50)\n",
    "V50 = solution50[\"Terminal voltage [V]\"].entries\n",
    "Q40 = solution40[\"Discharge capacity [A.h]\"].entries\n",
    "Q40_max = np.max(Q40)\n",
    "V40 = solution40[\"Terminal voltage [V]\"].entries\n",
    "Q30 = solution30[\"Discharge capacity [A.h]\"].entries\n",
    "Q30_max = np.max(Q30)\n",
    "V30 = solution30[\"Terminal voltage [V]\"].entries\n",
    "print(f\"With 200 points, end of discharge capacity is {Q200_max} Ah and end of charge capacity is {Q200_max-Q200[-1]} Ah.\")\n",
    "print(f\"With 100 points, end of discharge capacity is {Q100_max} Ah and end of charge capacity is {Q100_max-Q100[-1]} Ah.\")\n",
    "print(f\"With 60 points, end of discharge capacity is {Q60_max} and end of charge capacity is {Q60_max-Q60[-1]} Ah.\")\n",
    "print(f\"With 50 points, end of discharge capacity is {Q50_max} and end of charge capacity is {Q50_max-Q50[-1]} Ah.\")\n",
    "print(f\"With 40 points, end of discharge capacity is {Q40_max} and end of charge capacity is {Q40_max-Q40[-1]} Ah.\")\n",
    "print(f\"With 30 points, end of discharge capacity is {Q30_max} and end of charge capacity is {Q30_max-Q30[-1]} Ah.\")"
   ]
  },
  {
   "cell_type": "code",
   "execution_count": null,
   "id": "e614c5b9",
   "metadata": {},
   "outputs": [],
   "source": [
    "fig, (ax1, ax2) = plt.subplots(1,2,figsize=(13,5))\n",
    "ax1.plot(t200,V200,label=\"200 points\")\n",
    "ax1.plot(t100,V100,label=\"100 points\")\n",
    "ax1.plot(t60,V60,label=\"60 points\")\n",
    "ax1.plot(t50,V50,label=\"50 points\")\n",
    "ax1.plot(t40,V40,label=\"40 points\")\n",
    "ax1.plot(t30,V30,label=\"30 points\")\n",
    "ax1.set_xlabel(\"Time [s]\")\n",
    "ax1.set_ylabel(\"Terminal voltage [V]\")\n",
    "ax1.legend()\n",
    "ax2.plot(t200,T200,label=\"200 points\")\n",
    "ax2.plot(t100,T100,label=\"100 points\")\n",
    "ax2.plot(t60,T60,label=\"60 points\")\n",
    "ax2.plot(t50,T50,label=\"50 points\")\n",
    "ax2.plot(t40,T40,label=\"40 points\")\n",
    "ax2.plot(t30,T30,label=\"30 points\")\n",
    "ax2.set_xlabel(\"Time [s]\")\n",
    "ax2.set_ylabel(\"Cell temperature [K]\")\n",
    "ax2.legend()\n",
    "plt.savefig(\"/mnt/c/Users/sokane/pybamm_data/mesh_refinement/stress_induced_1C_discharge_318K.png\")\n",
    "plt.show()"
   ]
  },
  {
   "cell_type": "code",
   "execution_count": null,
   "id": "6373d891",
   "metadata": {},
   "outputs": [],
   "source": [
    "np.max(t30)"
   ]
  },
  {
   "cell_type": "code",
   "execution_count": null,
   "id": "90fecc1a",
   "metadata": {},
   "outputs": [],
   "source": [
    "path = '/mnt/c/Users/sokane/pybamm_data/mesh_refinement/'\n",
    "solution60.save(path+'uniform60_1C_discharge_283K.pkl')"
   ]
  },
  {
   "cell_type": "code",
   "execution_count": null,
   "id": "d98e506d",
   "metadata": {},
   "outputs": [],
   "source": [
    "#t200_CV = solution200.cycles[2][\"Time [s]\"].entries\n",
    "#t150_CV = solution150.cycles[2][\"Time [s]\"].entries\n",
    "#t120_CV = solution120.cycles[2][\"Time [s]\"].entries\n",
    "t100_CV = solution100.cycles[2][\"Time [s]\"].entries\n",
    "t60_CV = solution60.cycles[2][\"Time [s]\"].entries\n",
    "t30_CV = solution30.cycles[2][\"Time [s]\"].entries\n",
    "#I200 = solution200.cycles[2][\"Current [A]\"].entries\n",
    "#I150 = solution150.cycles[2][\"Current [A]\"].entries\n",
    "#I120 = solution120.cycles[2][\"Current [A]\"].entries\n",
    "I100 = solution100.cycles[2][\"Current [A]\"].entries\n",
    "I60 = solution60.cycles[2][\"Current [A]\"].entries\n",
    "I30 = solution30.cycles[2][\"Current [A]\"].entries\n",
    "#Delta_t_CV_120 = t120_CV[-1]-t120_CV[0]\n",
    "#Delta_t_CV_100 = t100_CV[-1]-t100_CV[0]\n",
    "#print(f\"For 120 points, CV phase lasts experiment ends at {Delta_t_CV_120} seconds.\")\n",
    "#print(f\"For 100 points, CV phase lasts experiment ends at {Delta_t_CV_100} seconds.\")"
   ]
  },
  {
   "cell_type": "code",
   "execution_count": null,
   "id": "947a130b",
   "metadata": {},
   "outputs": [],
   "source": [
    "fig, ax = plt.subplots()\n",
    "#ax.plot(t200_CV,I200,label=\"200 points\")\n",
    "#ax.plot(t150_CV,I150,label=\"150 points\")\n",
    "#ax.plot(t120_CV,I120,label=\"120 points\")\n",
    "ax.plot(t100_CV,I100,label=\"100 points\")\n",
    "ax.plot(t60_CV,I60,label=\"60 points\")\n",
    "#ax.plot(t30_CV,I30,label=\"30 points\")\n",
    "ax.set_xlabel(\"Time [s]\")\n",
    "ax.set_ylabel(\"Current [A]\")\n",
    "ax.legend()\n",
    "plt.show()"
   ]
  },
  {
   "cell_type": "code",
   "execution_count": null,
   "id": "184c0f6f",
   "metadata": {},
   "outputs": [],
   "source": []
  }
 ],
 "metadata": {
  "kernelspec": {
   "display_name": "Python 3 (ipykernel)",
   "language": "python",
   "name": "python3"
  },
  "language_info": {
   "codemirror_mode": {
    "name": "ipython",
    "version": 3
   },
   "file_extension": ".py",
   "mimetype": "text/x-python",
   "name": "python",
   "nbconvert_exporter": "python",
   "pygments_lexer": "ipython3",
   "version": "3.8.10"
  }
 },
 "nbformat": 4,
 "nbformat_minor": 5
}
