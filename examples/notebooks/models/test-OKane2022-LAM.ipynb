{
 "cells": [
  {
   "cell_type": "code",
   "execution_count": 1,
   "id": "72f8f813",
   "metadata": {},
   "outputs": [],
   "source": [
    "#import os\n",
    "import matplotlib.pyplot as plt\n",
    "import numpy as np\n",
    "import pybamm\n",
    "import pandas as pd\n",
    "import timeit\n",
    "start = timeit.default_timer()\n",
    "#os.chdir(pybamm.__path__[0]+'/..')\n",
    "# pybamm.set_logging_level(\"INFO\")"
   ]
  },
  {
   "cell_type": "code",
   "execution_count": 2,
   "id": "7d053c74",
   "metadata": {},
   "outputs": [],
   "source": [
    "model = pybamm.lithium_ion.DFN(\n",
    "    options={\n",
    "        \"particle\": \"Fickian diffusion\", \n",
    "        #\"SEI\": \"solvent-diffusion limited\",\n",
    "        #\"SEI on cracks\": \"true\",\n",
    "        #\"SEI film resistance\": \"distributed\", \n",
    "        #\"SEI porosity change\": \"true\",\n",
    "        #\"particle mechanics\": (\"swelling and cracking\", \"swelling only\"),\n",
    "        \"loss of active material\": \"stress-driven\",\n",
    "        #\"lithium plating\": \"partially reversible\"\n",
    "    }\n",
    ")"
   ]
  },
  {
   "cell_type": "code",
   "execution_count": 3,
   "id": "a29d2eec",
   "metadata": {},
   "outputs": [],
   "source": [
    "chemistry = pybamm.parameter_sets.OKane2022\n",
    "param = pybamm.ParameterValues(chemistry=chemistry)\n",
    "#param.update({\"Ambient temperature [K]\": 298.15})\n",
    "param.update({\"Upper voltage cut-off [V]\": 4.21})\n",
    "param.update({\"Lower voltage cut-off [V]\": 2.49})"
   ]
  },
  {
   "cell_type": "code",
   "execution_count": 4,
   "id": "943156ae",
   "metadata": {},
   "outputs": [],
   "source": [
    "total_cycles=10\n",
    "exp = pybamm.Experiment(\n",
    "    [\"Hold at 4.2V until C/100\", \"Rest for 4 hours (5 minute period)\", \"Discharge at C/20 until 2.5V (5 minute period)\",\n",
    "    \"Charge at 0.3C until 4.2 V (5 minute period)\", \"Hold at 4.2V until C/100 (5 minute period)\"] + \n",
    "    [(\"Discharge at 1C until 2.5V\", \"Charge at 0.3C until 4.2V (5 minute period)\", \n",
    "    \"Hold at 4.2V until C/100 (5 minute period)\",),] * total_cycles + [\"Discharge at C/20 until 2.5V (5 minute period)\"]\n",
    ")"
   ]
  },
  {
   "cell_type": "code",
   "execution_count": 5,
   "id": "d8c05bd9",
   "metadata": {},
   "outputs": [],
   "source": [
    "var_pts = {\n",
    "    \"x_n\": 20,  # negative electrode\n",
    "    \"x_s\": 20,  # separator \n",
    "    \"x_p\": 20,  # positive electrode\n",
    "    \"r_n\": 30,  # negative particle\n",
    "    \"r_p\": 30,  # positive particle\n",
    "}"
   ]
  },
  {
   "cell_type": "code",
   "execution_count": null,
   "id": "0b12298f",
   "metadata": {},
   "outputs": [],
   "source": [
    "# set mesh\n",
    "submesh_types = model.default_submesh_types\n",
    "particle_mesh = pybamm.MeshGenerator(pybamm.Exponential1DSubMesh, submesh_params={\"side\": \"right\", \"stretch\": 2.3})\n",
    "submesh_types[\"negative particle\"] = particle_mesh\n",
    "submesh_types[\"positive particle\"] = particle_mesh"
   ]
  },
  {
   "cell_type": "code",
   "execution_count": null,
   "id": "02185b9f",
   "metadata": {},
   "outputs": [],
   "source": [
    "cycle_list = [\n",
    "    3,4,14,24,34,44,54,64,74,84,94,104,114,124,134,144,154,164,174,184,194,204,214,224,234,244,254,264,274,284,294,\n",
    "    304,314,324,334,344,354,364,374,384,394,404,414,424,434,444,454,464,474,484,494,504,514,524,534,544,554,564,574,584,594,\n",
    "    604,614,624,634,644,654,664,674,684,694,704,714,724,734,744,754,764,774,784,794,804,814,824,834,844,854,864,874,884,894,\n",
    "    904,914,924,934,944,954,964,974,984,994,1003,1004\n",
    "]"
   ]
  },
  {
   "cell_type": "code",
   "execution_count": 6,
   "id": "e07b49f1",
   "metadata": {},
   "outputs": [
    {
     "name": "stdout",
     "output_type": "stream",
     "text": [
      "running time: 125.56623869999748s\n"
     ]
    }
   ],
   "source": [
    "sim1 = pybamm.Simulation(\n",
    "    model, \n",
    "    experiment=exp,\n",
    "    parameter_values=param,\n",
    "    solver=pybamm.CasadiSolver(),\n",
    "    var_pts=var_pts\n",
    ")\n",
    "solution1 = sim1.solve(calc_esoh=False)\n",
    "\n",
    "stop = timeit.default_timer()\n",
    "print('running time: ' + str(stop - start) +'s')"
   ]
  },
  {
   "cell_type": "code",
   "execution_count": 7,
   "id": "0a0d36e6",
   "metadata": {},
   "outputs": [],
   "source": [
    "path = '/mnt/c/Users/sokane/pybamm_data/OKane2022_verification/'"
   ]
  },
  {
   "cell_type": "code",
   "execution_count": 8,
   "id": "912713ba",
   "metadata": {},
   "outputs": [
    {
     "data": {
      "image/png": "[encoded data removed]",
      "text/plain": [
       "<Figure size 432x288 with 1 Axes>"
      ]
     },
     "metadata": {
      "needs_background": "light"
     },
     "output_type": "display_data"
    },
    {
     "data": {
      "text/plain": [
       "'\\nM_cycles = np.array([Q_throughput,Qdis_cycles,Qsei,Qsei_cracks,Q_plating,\\n                     cs_neg_avg,cs_neg_sep,cs_neg_CC,cs_pos_avg,cs_pos_sep,cs_pos_CC,\\n                     U_neg_avg,U_neg_sep,U_neg_CC,U_pos_avg,U_pos_sep,U_pos_CC,\\n                     AM_neg_avg,AM_neg_sep,AM_neg_CC,AM_pos_avg,AM_pos_sep,AM_pos_CC,\\n                     porosity_avg,porosity_sep,porosity_CC,\\n                     Lsei_avg,Lsei_sep,Lsei_CC,eta_SEI_avg,eta_SEI_sep,eta_SEI_CC,\\n                     Lsei_cracks_avg,Lsei_cracks_sep,Lsei_cracks_CC,roughness_avg,roughness_sep,roughness_CC,\\n                     c_plat_avg,c_plat_sep,c_plat_CC,c_dead_avg,c_dead_sep,c_dead_CC\\n                     \\n    ])\\nfilename_cycles = path+\\'FullyCoupled_reference_cycles.txt\\'\\nnp.savetxt(filename_cycles,M_cycles,delimiter=\",\")\\n'"
      ]
     },
     "execution_count": 8,
     "metadata": {},
     "output_type": "execute_result"
    }
   ],
   "source": [
    "Q_previous = []\n",
    "Q0 = solution1.cycles[0][\"Discharge capacity [A.h]\"].entries\n",
    "Q0_delta = np.absolute(Q0[-1]-Q0[0])\n",
    "Q2 = solution1.cycles[2][\"Discharge capacity [A.h]\"].entries\n",
    "Q2_delta = np.absolute(Q2[-1]-Q2[0])\n",
    "Q3 = solution1.cycles[3][\"Discharge capacity [A.h]\"].entries\n",
    "Q3_delta = np.absolute(Q3[-1]-Q3[0])\n",
    "Q4 = solution1.cycles[4][\"Discharge capacity [A.h]\"].entries\n",
    "Q4_delta = np.absolute(Q4[-1]-Q4[0])\n",
    "Q_previous.append(Q0_delta+Q2_delta+Q3_delta+Q4_delta)\n",
    "Q_throughput = []\n",
    "Qdis_cycles = []\n",
    "\"\"\"\n",
    "Qsei = []\n",
    "Qsei_cracks = []\n",
    "Q_plating = []\n",
    "Q_LLI = []\n",
    "total_Li = []\n",
    "roughness_avg = []\n",
    "roughness_sep = []\n",
    "roughness_CC = []\n",
    "porosity_avg = []\n",
    "porosity_sep = []\n",
    "porosity_CC = []\n",
    "\"\"\"\n",
    "cs_neg_avg = []\n",
    "cs_neg_sep = []\n",
    "cs_neg_CC = []\n",
    "cs_pos_avg = []\n",
    "cs_pos_sep = []\n",
    "cs_pos_CC = []\n",
    "U_neg_avg = []\n",
    "U_neg_sep = []\n",
    "U_neg_CC = []\n",
    "U_pos_avg = []\n",
    "U_pos_sep = []\n",
    "U_pos_CC = []\n",
    "\"\"\"\n",
    "eta_SEI_avg = []\n",
    "eta_SEI_sep = []\n",
    "eta_SEI_CC = []\n",
    "Lsei_avg = []\n",
    "Lsei_sep = []\n",
    "Lsei_CC = []\n",
    "Lsei_cracks_avg = []\n",
    "Lsei_cracks_sep = []\n",
    "Lsei_cracks_CC = []\n",
    "c_plat_avg = []\n",
    "c_plat_sep = []\n",
    "c_plat_CC = []\n",
    "c_dead_avg = []\n",
    "c_dead_sep = []\n",
    "c_dead_CC = []\n",
    "\"\"\"\n",
    "AM_neg_avg = []\n",
    "AM_neg_sep = []\n",
    "AM_neg_CC = []\n",
    "AM_pos_avg = []\n",
    "AM_pos_sep = []\n",
    "AM_pos_CC = []\n",
    "for i in range(total_cycles):\n",
    "    Qdis = solution1.cycles[i+5].steps[0][\"Discharge capacity [A.h]\"].entries\n",
    "    Qdis_delta = Qdis[-1] - Qdis[0]\n",
    "    Qdis_cycles.append(Qdis_delta)\n",
    "    Q_throughput.append(Q_previous[i]+Qdis_delta)\n",
    "    Q_CC = solution1.cycles[i+5].steps[1][\"Discharge capacity [A.h]\"].entries\n",
    "    Q_CC_delta = np.absolute(Q_CC[-1]-Q_CC[0])\n",
    "    Q_CV = solution1.cycles[i+5].steps[2][\"Discharge capacity [A.h]\"].entries\n",
    "    Q_CV_delta = np.absolute(Q_CV[-1]-Q_CV[0])\n",
    "    Q_previous.append(Q_previous[i]+Qdis_delta+Q_CC_delta+Q_CV_delta)\n",
    "    \"\"\"\n",
    "    Qsei_loc=solution1.cycles[i+5].steps[0][\"Loss of lithium to SEI [mol]\"].entries\n",
    "    Qsei.append(Qsei_loc[-1] * 96485.3/3600)  #[Ah]\n",
    "    Qsei_cracks_loc=solution1.cycles[i+5].steps[0][\"Loss of lithium to SEI on cracks [mol]\"].entries\n",
    "    Qsei_cracks.append(Qsei_cracks_loc[-1] * 96485.3/3600)  #[Ah]\n",
    "    Q_pl_loc=solution1.cycles[i+5].steps[0][\"Loss of lithium to lithium plating [mol]\"].entries\n",
    "    Q_plating.append(Q_pl_loc[-1] * 96485.3/3600)  #[Ah]\n",
    "    Q_LLI.append((Qsei_loc[-1]+Q_pl_loc[-1]+Qsei_cracks_loc[-1]) * 96485.3/3600)  #[Ah]\n",
    "    Li_total_neg_temp = solution1.cycles[i+5].steps[0][\"Total lithium in negative electrode [mol]\"].entries\n",
    "    Li_total_pos_temp = solution1.cycles[i+5].steps[0][\"Total lithium in positive electrode [mol]\"].entries\n",
    "    #Li_total_elec_temp = solution1.cycles[i+5].steps[0][\"Total lithium in electrolyte [mol]\"].entries\n",
    "    total_Li.append(Li_total_neg_temp[-1]+Li_total_pos_temp[-1])\n",
    "    roughness_avg_temp = solution1.cycles[i+5].steps[0][\"X-averaged negative electrode roughness ratio\"].entries\n",
    "    roughness_avg.append(roughness_avg_temp[-1])\n",
    "    roughness_sep_temp = solution1.cycles[i+5].steps[0][\"Negative electrode roughness ratio\"].entries[-1,-1]\n",
    "    roughness_sep.append(roughness_sep_temp)\n",
    "    roughness_CC_temp = solution1.cycles[i+5].steps[0][\"Negative electrode roughness ratio\"].entries[0,-1]\n",
    "    roughness_CC.append(roughness_CC_temp)\n",
    "    poro_avg_temp = solution1.cycles[i+5].steps[0][\"X-averaged negative electrode porosity\"].entries\n",
    "    porosity_avg.append(poro_avg_temp[-1])\n",
    "    poro_sep_temp = solution1.cycles[i+5].steps[0][\"Negative electrode porosity\"].entries[-1,-1]\n",
    "    porosity_sep.append(poro_sep_temp)\n",
    "    poro_CC_temp = solution1.cycles[i+5].steps[0][\"Negative electrode porosity\"].entries[0,-1]\n",
    "    porosity_CC.append(poro_CC_temp)\n",
    "    \"\"\"\n",
    "    cs_neg_avg_temp = solution1.cycles[i+5].steps[0][\"X-averaged negative particle surface concentration\"].entries\n",
    "    cs_neg_avg.append(cs_neg_avg_temp[-1])\n",
    "    cs_neg_sep_temp = solution1.cycles[i+5].steps[0][\"Negative particle surface concentration\"].entries[-1,-1]\n",
    "    cs_neg_sep.append(cs_neg_sep_temp)\n",
    "    cs_neg_CC_temp = solution1.cycles[i+5].steps[0][\"Negative particle surface concentration\"].entries[0,-1]\n",
    "    cs_neg_CC.append(cs_neg_CC_temp)\n",
    "    cs_pos_avg_temp = solution1.cycles[i+5].steps[0][\"X-averaged positive particle surface concentration\"].entries\n",
    "    cs_pos_avg.append(cs_pos_avg_temp[-1])\n",
    "    cs_pos_sep_temp = solution1.cycles[i+5].steps[0][\"Positive particle surface concentration\"].entries[0,-1]\n",
    "    cs_pos_sep.append(cs_pos_sep_temp)\n",
    "    cs_pos_CC_temp = solution1.cycles[i+5].steps[0][\"Positive particle surface concentration\"].entries[-1,-1]\n",
    "    cs_pos_CC.append(cs_pos_CC_temp)\n",
    "    U_neg_avg_temp = solution1.cycles[i+5].steps[0][\"X-averaged negative electrode open circuit potential [V]\"].entries\n",
    "    U_neg_avg.append(U_neg_avg_temp[-1])\n",
    "    U_neg_sep_temp = solution1.cycles[i+5].steps[0][\"Negative electrode open circuit potential [V]\"].entries[-1,-1]\n",
    "    U_neg_sep.append(U_neg_sep_temp)\n",
    "    U_neg_CC_temp = solution1.cycles[i+5].steps[0][\"Negative electrode open circuit potential [V]\"].entries[0,-1]\n",
    "    U_neg_CC.append(U_neg_CC_temp)\n",
    "    U_pos_avg_temp = solution1.cycles[i+5].steps[0][\"X-averaged positive electrode open circuit potential [V]\"].entries\n",
    "    U_pos_avg.append(U_pos_avg_temp[-1])\n",
    "    U_pos_sep_temp = solution1.cycles[i+5].steps[0][\"Positive electrode open circuit potential [V]\"].entries[0,-1]\n",
    "    U_pos_sep.append(U_pos_sep_temp)\n",
    "    U_pos_CC_temp = solution1.cycles[i+5].steps[0][\"Positive electrode open circuit potential [V]\"].entries[-1,-1]\n",
    "    U_pos_CC.append(U_pos_CC_temp)\n",
    "    \"\"\"\n",
    "    eta_SEI_temp = solution1.cycles[i+5].steps[0][\"X-averaged SEI film overpotential [V]\"].entries\n",
    "    eta_SEI_avg.append(eta_SEI_temp[-1])\n",
    "    eta_SEI_sep_temp = solution1.cycles[i+5].steps[0][\"SEI film overpotential [V]\"].entries[-1,-1]\n",
    "    eta_SEI_sep.append(eta_SEI_sep_temp)\n",
    "    eta_SEI_CC_temp = solution1.cycles[i+5].steps[0][\"SEI film overpotential [V]\"].entries[0,-1]\n",
    "    eta_SEI_CC.append(eta_SEI_CC_temp)\n",
    "    Lsei_temp = solution1.cycles[i+5].steps[0][\"X-averaged total SEI thickness [m]\"].entries\n",
    "    Lsei_avg.append(Lsei_temp[-1])\n",
    "    Lsei_sep_temp = solution1.cycles[i+5].steps[0][\"Total SEI thickness [m]\"].entries[-1,-1]\n",
    "    Lsei_sep.append(Lsei_sep_temp)\n",
    "    Lsei_CC_temp = solution1.cycles[i+5].steps[0][\"Total SEI thickness [m]\"].entries[0,-1]\n",
    "    Lsei_CC.append(Lsei_CC_temp)\n",
    "    Lcr_temp = solution1.cycles[i+5].steps[0][\"X-averaged total SEI on cracks thickness [m]\"].entries\n",
    "    Lsei_cracks_avg.append(Lcr_temp[-1])\n",
    "    Lcr_sep_temp = solution1.cycles[i+5].steps[0][\"Total SEI on cracks thickness [m]\"].entries[-1,-1]\n",
    "    Lsei_cracks_sep.append(Lcr_sep_temp)\n",
    "    Lcr_CC_temp = solution1.cycles[i+5].steps[0][\"Total SEI on cracks thickness [m]\"].entries[0,-1]\n",
    "    Lsei_cracks_CC.append(Lcr_CC_temp)\n",
    "    c_plat_avg_temp = solution1.cycles[i+5].steps[0][\"X-averaged lithium plating concentration [mol.m-3]\"].entries\n",
    "    c_plat_avg.append(c_plat_avg_temp[-1])\n",
    "    c_plat_sep_temp = solution1.cycles[i+5].steps[0][\"Lithium plating concentration [mol.m-3]\"].entries[-1,-1]\n",
    "    c_plat_sep.append(c_plat_sep_temp)\n",
    "    c_plat_CC_temp = solution1.cycles[i+5].steps[0][\"Lithium plating concentration [mol.m-3]\"].entries[0,-1]\n",
    "    c_plat_CC.append(c_plat_CC_temp)\n",
    "    c_dead_avg_temp = solution1.cycles[i+5].steps[0][\"X-averaged dead lithium concentration [mol.m-3]\"].entries\n",
    "    c_dead_avg.append(c_dead_avg_temp[-1])\n",
    "    c_dead_sep_temp = solution1.cycles[i+5].steps[0][\"Dead lithium concentration [mol.m-3]\"].entries[-1,-1]\n",
    "    c_dead_sep.append(c_dead_sep_temp)\n",
    "    c_dead_CC_temp = solution1.cycles[i+5].steps[0][\"Dead lithium concentration [mol.m-3]\"].entries[0,-1]\n",
    "    c_dead_CC.append(c_dead_CC_temp)\n",
    "    \"\"\"\n",
    "    AM_temp = solution1.cycles[i+5].steps[0][\"X-averaged negative electrode active material volume fraction\"].entries\n",
    "    AM_neg_avg.append(AM_temp[-1])\n",
    "    AM_sep_temp = solution1.cycles[i+5].steps[0][\"Negative electrode active material volume fraction\"].entries[-1,-1]\n",
    "    AM_neg_sep.append(AM_sep_temp)\n",
    "    AM_CC_temp = solution1.cycles[i+5].steps[0][\"Negative electrode active material volume fraction\"].entries[0,-1]\n",
    "    AM_neg_CC.append(AM_CC_temp)\n",
    "    AM_temp = solution1.cycles[i+5].steps[0][\"X-averaged positive electrode active material volume fraction\"].entries\n",
    "    AM_pos_avg.append(AM_temp[-1])\n",
    "    AM_sep_temp = solution1.cycles[i+5].steps[0][\"Positive electrode active material volume fraction\"].entries[0,-1]\n",
    "    AM_pos_sep.append(AM_sep_temp)\n",
    "    AM_CC_temp = solution1.cycles[i+5].steps[0][\"Positive electrode active material volume fraction\"].entries[-1,-1]\n",
    "    AM_pos_CC.append(AM_CC_temp)\n",
    "plt.figure()\n",
    "plt.plot(Q_throughput, Qdis_cycles, label='cyclable capacity')\n",
    "#plt.plot(Q_throughput, Qdis_cycles[0]-Qsei+Qsei[0], label=\"loss of Li to SEI\", linestyle=\"dashdot\")\n",
    "#plt.plot(Q_throughput, Qdis_cycles[0]-Qsei_cracks+Qsei_cracks[0], label=\"loss of Li to SEI-cracks\", linestyle=\"dashed\")\n",
    "#plt.plot(Q_throughput, Qdis_cycles[0]-Q_plating+Q_plating[0], label=\"loss of Li to plating\", linestyle=\"dotted\")\n",
    "#plt.plot(Q_throughput, Qdis_cycles[0]-Q_LLI+Q_LLI[0], label=\"total loss of Li inventory\")\n",
    "plt.xlabel(\"Thoughput capacity [A.h]\")\n",
    "plt.ylabel(\"Discharge capacity [A.h]\")\n",
    "plt.legend()\n",
    "filename = path+'FullyCoupled_reference.pdf'\n",
    "#plt.savefig(filename,bbox_inches='tight')\n",
    "plt.show()\n",
    "\"\"\"\n",
    "M_cycles = np.array([Q_throughput,Qdis_cycles,Qsei,Qsei_cracks,Q_plating,\n",
    "                     cs_neg_avg,cs_neg_sep,cs_neg_CC,cs_pos_avg,cs_pos_sep,cs_pos_CC,\n",
    "                     U_neg_avg,U_neg_sep,U_neg_CC,U_pos_avg,U_pos_sep,U_pos_CC,\n",
    "                     AM_neg_avg,AM_neg_sep,AM_neg_CC,AM_pos_avg,AM_pos_sep,AM_pos_CC,\n",
    "                     porosity_avg,porosity_sep,porosity_CC,\n",
    "                     Lsei_avg,Lsei_sep,Lsei_CC,eta_SEI_avg,eta_SEI_sep,eta_SEI_CC,\n",
    "                     Lsei_cracks_avg,Lsei_cracks_sep,Lsei_cracks_CC,roughness_avg,roughness_sep,roughness_CC,\n",
    "                     c_plat_avg,c_plat_sep,c_plat_CC,c_dead_avg,c_dead_sep,c_dead_CC\n",
    "                     \n",
    "    ])\n",
    "filename_cycles = path+'FullyCoupled_reference_cycles.txt'\n",
    "np.savetxt(filename_cycles,M_cycles,delimiter=\",\")\n",
    "\"\"\""
   ]
  },
  {
   "cell_type": "code",
   "execution_count": null,
   "id": "ec9bd583",
   "metadata": {},
   "outputs": [],
   "source": [
    "plt.figure()\n",
    "plt.plot(Q_throughput, total_Li)\n",
    "plt.plot(Q_throughput, total_Li[0]-(Q_LLI-Q_LLI[0])*3600/96485.3, linestyle=\"dotted\")\n",
    "plt.show()"
   ]
  },
  {
   "cell_type": "code",
   "execution_count": null,
   "id": "717ee977",
   "metadata": {},
   "outputs": [],
   "source": [
    "Qdis1 = solution1.cycles[1].steps[0][\"Discharge capacity [A.h]\"].entries\n",
    "Vdis1 = solution1.cycles[1].steps[0][\"Terminal voltage [V]\"].entries\n",
    "Qdis10 = solution1.cycles[10].steps[0][\"Discharge capacity [A.h]\"].entries\n",
    "Vdis10 = solution1.cycles[10].steps[0][\"Terminal voltage [V]\"].entries\n",
    "fig, ax = plt.subplots()\n",
    "ax.plot(Qdis1,Vdis1)\n",
    "ax.plot(Qdis10,Vdis10)\n",
    "ax.set_xlabel(\"Discharge capacity [A.h]\")\n",
    "ax.set_ylabel(\"Terminal voltage [V]\")\n",
    "plt.show()"
   ]
  },
  {
   "cell_type": "code",
   "execution_count": null,
   "id": "7dc44296",
   "metadata": {},
   "outputs": [],
   "source": [
    "Q_CC1 = solution1.cycles[1].steps[1][\"Discharge capacity [A.h]\"].entries\n",
    "V_CC1 = solution1.cycles[1].steps[1][\"Terminal voltage [V]\"].entries\n",
    "Q_CC10 = solution1.cycles[10].steps[1][\"Discharge capacity [A.h]\"].entries\n",
    "V_CC10 = solution1.cycles[10].steps[1][\"Terminal voltage [V]\"].entries\n",
    "fig, ax = plt.subplots()\n",
    "ax.plot(Q_CC1,V_CC1)\n",
    "ax.plot(Q_CC10,V_CC10)\n",
    "ax.set_xlabel(\"Discharge capacity [A.h]\")\n",
    "ax.set_ylabel(\"Terminal voltage [V]\")\n",
    "plt.show()"
   ]
  },
  {
   "cell_type": "code",
   "execution_count": null,
   "id": "c04fff04",
   "metadata": {},
   "outputs": [],
   "source": [
    "t_CV1 = solution1.cycles[1].steps[2][\"Time [h]\"].entries\n",
    "I_CV1 = solution1.cycles[1].steps[2][\"Current [A]\"].entries\n",
    "Q_CV1 = solution1.cycles[1].steps[2][\"Discharge capacity [A.h]\"].entries\n",
    "V_CV1 = solution1.cycles[1].steps[2][\"Terminal voltage [V]\"].entries\n",
    "t_CV10 = solution1.cycles[10].steps[2][\"Time [h]\"].entries\n",
    "I_CV10 = solution1.cycles[10].steps[2][\"Current [A]\"].entries\n",
    "Q_CV10 = solution1.cycles[10].steps[2][\"Discharge capacity [A.h]\"].entries\n",
    "V_CV10 = solution1.cycles[10].steps[2][\"Terminal voltage [V]\"].entries\n",
    "fig, ax = plt.subplots()\n",
    "ax.plot(Q_CV1,I_CV1)\n",
    "ax.plot(Q_CV10,I_CV10)\n",
    "ax.set_xlabel(\"Discharge capacity [A.h]\")\n",
    "ax.set_ylabel(\"Current [A]\")\n",
    "plt.show()"
   ]
  },
  {
   "cell_type": "code",
   "execution_count": null,
   "id": "abe84456",
   "metadata": {},
   "outputs": [],
   "source": [
    "fig, ax = plt.subplots()\n",
    "ax.plot(t_CV1,V_CV1)\n",
    "ax.plot(t_CV10,V_CV10)\n",
    "ax.set_xlabel(\"Time [h]\")\n",
    "ax.set_ylabel(\"Terminal voltage [V]\")\n",
    "plt.show()"
   ]
  },
  {
   "cell_type": "code",
   "execution_count": null,
   "id": "ed77958c",
   "metadata": {},
   "outputs": [],
   "source": [
    "plt.figure()\n",
    "plt.plot(Q_throughput, AM_neg_avg)\n",
    "plt.xlabel(\"Thoughput capacity [A.h]\")\n",
    "plt.ylabel(\"Negative active material fraction\")\n",
    "plt.show()"
   ]
  },
  {
   "cell_type": "code",
   "execution_count": null,
   "id": "b18d5ddc",
   "metadata": {},
   "outputs": [],
   "source": [
    " pybamm.Experiment([\n",
    "    (f\"Discharge at 1C until 2V\",\n",
    "     \"Rest for 1 hour\",\n",
    "    )\n",
    "]).operating_conditions_cycles"
   ]
  },
  {
   "cell_type": "code",
   "execution_count": null,
   "id": "f9b345a9",
   "metadata": {},
   "outputs": [],
   "source": [
    "exp.operating_conditions_cycles"
   ]
  },
  {
   "cell_type": "code",
   "execution_count": null,
   "id": "231ab594",
   "metadata": {},
   "outputs": [],
   "source": [
    "exp_test.operating_conditions_cycles"
   ]
  },
  {
   "cell_type": "code",
   "execution_count": null,
   "id": "462d3a03",
   "metadata": {},
   "outputs": [],
   "source": [
    "exp_test = pybamm.Experiment(\n",
    "    [\"Hold at 4.2V until C/100\",\"Rest for 4 hours (5 minute period)\",] + [(\"Discharge at C/10 until 2.5V (5 minute period)\", \n",
    "    \"Charge at 0.3C until 4.2V (5 minute period)\",\"Hold at 4.2V until C/100 (5 minute period)\")] + [(\n",
    "    \"Discharge at 1C until 2.5V\",\"Charge at 0.3C until 4.2V (5 minute period)\",\"Hold at 4.2V until C/100 (5 minute period)\",\n",
    "    ),] * total_cycles + [\"Discharge at C/10 until 2.5V (5 minute period)\"]\n",
    ")\n",
    "pybamm.Simulation(\n",
    "    model, \n",
    "    experiment=exp,\n",
    "    parameter_values=param,\n",
    "    solver=pybamm.CasadiSolver(),\n",
    "    submesh_types = submesh_types,\n",
    ").experiment.operating_conditions_cycles"
   ]
  },
  {
   "cell_type": "code",
   "execution_count": null,
   "id": "7ffc1ebc",
   "metadata": {},
   "outputs": [],
   "source": []
  }
 ],
 "metadata": {
  "kernelspec": {
   "display_name": "Python 3 (ipykernel)",
   "language": "python",
   "name": "python3"
  },
  "language_info": {
   "codemirror_mode": {
    "name": "ipython",
    "version": 3
   },
   "file_extension": ".py",
   "mimetype": "text/x-python",
   "name": "python",
   "nbconvert_exporter": "python",
   "pygments_lexer": "ipython3",
   "version": "3.8.10"
  }
 },
 "nbformat": 4,
 "nbformat_minor": 5
}
