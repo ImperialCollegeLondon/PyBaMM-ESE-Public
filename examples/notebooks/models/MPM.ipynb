{
 "cells": [
  {
   "cell_type": "markdown",
   "metadata": {},
   "source": [
    "# Many Particle Model (MPM) "
   ]
  },
  {
   "cell_type": "markdown",
   "metadata": {},
   "source": [
    "The Many Paticle Model (MPM) of a lithium-ion battery is an extension of the Single Particle Model to account for a continuous distribution of active particle sizes in each electrode $\\text{k}=\\text{n},\\text{p}$. Therefore, many of the same model assumptions hold, e.g., the transport in the electrolyte is instantaneous and hence the through-cell variation (in $x$) is neglected. The full set of assumptions and description of the particle size geometry is given in [[4]](#References). Note that the MPM in [[4]](#References) is for a half cell and the version implemented in PyBaMM is for a full cell and uses the notation and scaling given in [[5]](#References).\n",
    "\n",
    "\n",
    "## Particle size geometry\n",
    "\n",
    "In this notebook we state the dimensional model first, and the dimensionless version at the end. In each electrode $\\text{k}=\\text{n},\\text{p}$, there are spherical particles of each radius $R_\\text{k}$ in the range $R_\\text{k,min}<R_\\text{k}<R_\\text{k,max}$, with the fraction of all particles of a given radius $R_\\text{k}$ given by the particle-size distribution (base on number)\n",
    "$f_\\text{k,num}(R_\\text{k})$. However, it is more convenient to deal with the fraction\n",
    "of _surface area_ contributed by particles of radius $R_\\text{k}$, which we denote $f_{\\text{k},a}(R_\\text{k})$ and refer to as the _area-weighted_ particle-size distribution. The area and number-based distributions are related via\n",
    "$$\n",
    "f_{\\text{k},a}(R_\\text{k}) = \\frac{4\\pi R_\\text{k}^2 f_\\text{k,num}(R_\\text{k})}{\\int_{R_\\text{k,min}}^{R_\\text{k,max}} 4\\pi R_\\text{k}^2 f_\\text{k,num}(R_\\text{k})\\,\\text{d}R_\\text{k}}\n",
    "$$\n",
    "The total amount of surface area (per unit volume) $a_\\text{k,tot}$ accounting for all particles is expressed in terms of the active material volume fraction $\\epsilon_{s,\\text{k}}$, similar to the other models in PyBaMM (SPM, DFN):\n",
    "$$\n",
    "\\epsilon_{s,\\text{k}}= \\int \\frac{1}{3} R_\\text{k} \\underbrace{a_\\text{k,tot}f_{\\text{k},a}(R_\\text{k})}_{\\text{area }a_\\text{k}(R_\\text{k})\\text{ of particles size }R_\\text{k}}\\,\\text{d}R_\\text{k}\n",
    "$$\n",
    "Rearranging and defining $\\bar{R}_{\\text{k},a}=\\int  R_\\text{k} f_{\\text{k},a}(R_\\text{k})\\,\\text{d}R_\\text{k}$ as the mean of the area-weighted distribution, we find\n",
    "$$\n",
    "a_\\text{k,tot}=\\frac{3\\epsilon_{s,\\text{k}}}{\\int  R_\\text{k} f_{\\text{k},a}(R_\\text{k})\\,\\text{d}R_\\text{k}} = \\frac{3\\epsilon_{s,\\text{k}}}{\\bar{R}_{\\text{k},a}}.\n",
    "$$\n",
    "Then $a_\\text{k,tot}$ is the aggregate surface area of the particle population and analogous to the variables `\"X-averaged negative electrode surface area to volume ratio [m-1]\"`, etc. in the SPM, SPMe, and DFN models, and can be calculated in a similar way as shown above using the _area-weighted mean radius_ $\\bar{R}_{\\text{k},a}$ (other mean radii do not have this property). See [[4]](#References) for more details on the different types of distribution and mean radii. \n",
    "\n",
    "Another common way to express the size distribution is via particle volume. The fraction of volume contributed by the particles of radius $R_\\text{k}$, denoted the _volume-weighted_ particle-size distribution is related to the number and area ones via\n",
    "$$\n",
    "f_{\\text{k},v}(R_\\text{k}) = \\frac{\\frac{1}{3} R_\\text{k} f_{\\text{k},a}(R_\\text{k})}{\\int_{R_\\text{k,min}}^{R_\\text{k,max}} \\frac{1}{3} R_\\text{k} f_{\\text{k},a}(R_\\text{k})\\,\\text{d}R_\\text{k}} =\\frac{\\frac{4}{3}\\pi R_\\text{k}^3 f_\\text{k,num}(R_\\text{k})}{\\int_{R_\\text{k,min}}^{R_\\text{k,max}} \\frac{4}{3}\\pi R_\\text{k}^3 f_\\text{k,num}(R_\\text{k})\\,\\text{d}R_\\text{k}}\n",
    "$$\n",
    "\n",
    "It is sufficient to specify $f_{\\text{k},a}(R_\\text{k})$, which is present requirement in the MPM."
   ]
  },
  {
   "cell_type": "markdown",
   "metadata": {},
   "source": [
    "## Model equations\n",
    "\n",
    "In each electrode, only one representative particle of each size $R_\\text{k}$ needs to be modelled. The concentration of lithium in the solid particles is denoted $c_{\\text{s,k}}(t,R_\\text{k}, r_\\text{k})$, which varies with time, particle radius $R_\\text{k}$, and the radial coordinate $r_{\\text{k}} \\in[0,R_{\\text{k}}]$ within the spherical particle. The potential is uniform across all particles in the electrode, $\\phi_{\\text{s,k}}(t)$. \n",
    "\n",
    "The equations for molar conservation of lithium ($c_{\\text{s,k}}$) are then: \n",
    "$$\n",
    "\\frac{\\partial c_{\\text{s,k}}}{\\partial t} = -\\frac{1}{r_{\\text{k}}^2} \\frac{\\partial}{\\partial r_{\\text{k}}} \\left(r_{\\text{k}}^2 N_{\\text{s,k}}\\right), \\\\\n",
    "N_{\\text{s,k}} = -D_{\\text{s,k}}(c_{\\text{s,k}}) \\frac{\\partial c_{\\text{s,k}}}{\\partial r_{\\text{k}}}, \\quad \\text{k} \\in \\text{n, p}, \n",
    "$$\n",
    "$$\n",
    "N_{\\text{s,k}}\\big|_{r_{\\text{k}}=0} = 0,  \\ \\  N_{\\text{s,k}}\\big|_{r_{\\text{k}}=R_{\\text{k}}} = \n",
    "\\frac{j_{\\text{k}}}{F} \\quad \\text{k} \\in \\text{n, p}, \\quad\\\\\n",
    "c_{\\text{s,k}}(0,R_\\text{k},r_{\\text{k}}) = c_{\\text{s,k,0}}, \\quad \\text{k} \\in \\text{n, p},$$\n",
    "where $D_{\\text{s,k}}$ is the diffusion coefficient in the solid, $N_{\\text{s,k}}$ denotes the flux of lithium ions in the solid particle, $F$ is Faraday's constant. The interfacial current density is given by $j_\\text{k}$, which also varies with particle size.\n",
    "\n",
    "### Algebraic equations for the potentials\n",
    "The potentials $\\phi_{\\text{s,k}}(t)$ are determined via the integral constraint that the total current flowing across the electrode interface must equal (up to a minus sign) the through-cell current density $i$. Writing this in terms of the potential differences $\\Delta \\phi_{\\text{s,k}} = \\phi_{\\text{s,k}} - \\phi_{\\text{e}}$,\n",
    "$$\n",
    "L_\\text{k}a_\\text{k,tot}\\int_{R_\\text{k,min}}^{R_\\text{k,max}} f_{\\text{k},a}(R_\\text{k})j_\\text{k}\\,\\text{d}R_\\text{k} = \\begin{cases}\n",
    "i,\\quad \\text{k}=\\text{n}\\\\\n",
    "-i,\\quad \\text{k}=\\text{p}\n",
    "\\end{cases}\n",
    "$$\n",
    "with Butler-Volmer kinetics\n",
    "$$\n",
    "j_\\text{k}=j_{\\text{0,k}} \\sinh\\left[\\frac{F}{2R_g T}(\\Delta \\phi_{\\text{s,k}}-U_{\\text{k}}(c_{\\text{s},\\text{k}}))\\right], \\ \\ j_{\\text{0,k}} =  m_{\\text{k}}(c_{\\text{e}}c_{\\text{s,k}})^{1/2}(c_\\text{k,max}-c_{\\text{s,k}})^{1/2}.\n",
    "$$\n",
    "This gives an integral (or algebraic once discretized) equation for $\\Delta \\phi_{\\text{s,k}}$ which is coupled to the concentration equations above.\n",
    "The terminal voltage is then obtained from\n",
    "$$\n",
    "V = \\Delta \\phi_{\\text{s,p}} - \\Delta \\phi_{\\text{s,n}}\n",
    "$$\n",
    "\n",
    "### Dimensionless equations\n",
    "The dimensionless scheme can be found in the appendix of [[5]](#References), giving similar dimensionless variables and parameters to those in the SPM."
   ]
  },
  {
   "cell_type": "markdown",
   "metadata": {},
   "source": [
    "## Example solving MPM\n"
   ]
  },
  {
   "cell_type": "code",
   "execution_count": 1,
   "metadata": {},
   "outputs": [
    {
     "name": "stdout",
     "output_type": "stream",
     "text": [
      "\u001b[33mWARNING: You are using pip version 21.1.2; however, version 21.1.3 is available.\n",
      "You should consider upgrading via the '/home/user/PyBaMM/.tox/dev/bin/python -m pip install --upgrade pip' command.\u001b[0m\n",
      "Note: you may need to restart the kernel to use updated packages.\n"
     ]
    }
   ],
   "source": [
    "%pip install pybamm -q    # install PyBaMM if it is not installed\n",
    "import pybamm\n",
    "import numpy as np\n",
    "import matplotlib.pyplot as plt"
   ]
  },
  {
   "cell_type": "markdown",
   "metadata": {},
   "source": [
    "Create an instance of the model"
   ]
  },
  {
   "cell_type": "code",
   "execution_count": 2,
   "metadata": {},
   "outputs": [],
   "source": [
    "model = pybamm.lithium_ion.MPM()"
   ]
  },
  {
   "cell_type": "markdown",
   "metadata": {},
   "source": [
    "First, let's inspect some variables (e.g. the lithium concentration and interfacial current densities) that depend on particle size $R_\\text{k}$. The variables of interest are `X-averaged` versions as there is no dependence on $x$."
   ]
  },
  {
   "cell_type": "code",
   "execution_count": 3,
   "metadata": {},
   "outputs": [
    {
     "name": "stdout",
     "output_type": "stream",
     "text": [
      "X-averaged negative particle concentration\n",
      "X-averaged negative particle concentration [mol.m-3]\n",
      "X-averaged negative particle concentration distribution\n",
      "X-averaged negative particle concentration distribution [mol.m-3]\n"
     ]
    }
   ],
   "source": [
    "model.variables.search(\"X-averaged negative particle concentration\")"
   ]
  },
  {
   "cell_type": "markdown",
   "metadata": {},
   "source": [
    "The concentration that is being solved for in the MPM, and which varies with particle size is the one ending in `\"distribution\"`. "
   ]
  },
  {
   "cell_type": "code",
   "execution_count": 4,
   "metadata": {},
   "outputs": [
    {
     "data": {
      "text/plain": [
       "{'primary': ['negative particle'],\n",
       " 'secondary': ['negative particle size'],\n",
       " 'tertiary': ['current collector']}"
      ]
     },
     "execution_count": 4,
     "metadata": {},
     "output_type": "execute_result"
    }
   ],
   "source": [
    "c_n_R_dependent = model.variables[\"X-averaged negative particle concentration distribution [mol.m-3]\"]\n",
    "c_n_R_dependent.domains"
   ]
  },
  {
   "cell_type": "markdown",
   "metadata": {},
   "source": [
    "Notice that the secondary domain is `'negative particle size'`, which is treated as another (microscale) domain in PyBaMM.\n",
    "\n",
    "The variable without the `\"distribution\"` has been \"size averaged\" and can be compared to the variable with the same name from the other lithium-ion models in PyBaMM with only a single particle size. The concentration within the particles is a volume-based quantity and is thus averaged by volume (to preserve the total amount of lithium):\n",
    "$$\n",
    "\\left<c_{\\text{s,k}}\\right>_v = \\int_{R_\\text{k,min}}^{R_\\text{k,max}} f_{\\text{k},v}(R_\\text{k})c_{\\text{s,k}}(t,R_\\text{k}, r_\\text{k})\\,\\text{d}R_\\text{k}\n",
    "$$\n",
    "\n",
    "In particular, if the variance of the particle-size distribution $f_{\\text{k},a}$ is shrunk to zero and all particles become concentrated at its mean radius $\\bar{R}_{\\text{k},a}$, the variable `\"X-averaged negative particle concentration [mol.m-3]\"` will coincide with the same variable from an SPM with particle radius $R_\\text{k}=\\bar{R}_{\\text{k},a}$. However, `\"X-averaged negative particle concentration distribution [mol.m-3]\"` will remain \"particle-size dependent\"."
   ]
  },
  {
   "cell_type": "markdown",
   "metadata": {},
   "source": [
    "The convention of adding `\"distribution\"` to the end of a variable name to indicate particle-size dependence has been used for other variables, such as the interfacial current density:"
   ]
  },
  {
   "cell_type": "code",
   "execution_count": 5,
   "metadata": {},
   "outputs": [
    {
     "name": "stdout",
     "output_type": "stream",
     "text": [
      "X-averaged negative electrode interfacial current density\n",
      "X-averaged negative electrode interfacial current density [A.m-2]\n",
      "X-averaged negative electrode interfacial current density distribution\n",
      "X-averaged negative electrode interfacial current density distribution [A.m-2]\n",
      "X-averaged negative electrode interfacial current density per volume [A.m-3]\n"
     ]
    }
   ],
   "source": [
    "model.variables.search(\"X-averaged negative electrode interfacial current density\")"
   ]
  },
  {
   "cell_type": "markdown",
   "metadata": {},
   "source": [
    "As the interfacial current density is a flux per unit area on the particle surface, the \"size averaging\" is done by area (to preserve the total flux of lithium):\n",
    "$$\n",
    "\\left<j_{\\text{k}}\\right>_a = \\int_{R_\\text{k,min}}^{R_\\text{k,max}} f_{\\text{k},a}(R_\\text{k})j_{\\text{k}}(t,R_\\text{k})\\,\\text{d}R_\\text{k}\n",
    "$$\n",
    "The averaging is merely done to allow comparison to variables from other models with only a single size, and are not necessarily used within the MPM itself, or are physically meaningful.\n",
    "\n",
    "Note: not all variables have a \"distribution\" version, such as the potentials or temperature variables, as they do not vary with particle size in the MPM as implemented here."
   ]
  },
  {
   "cell_type": "markdown",
   "metadata": {},
   "source": [
    "### Mesh points\n",
    " By default, the size domain is discretized into 30 grid points on a uniform 1D mesh."
   ]
  },
  {
   "cell_type": "code",
   "execution_count": 6,
   "metadata": {},
   "outputs": [
    {
     "name": "stdout",
     "output_type": "stream",
     "text": [
      "negative electrode is of type Generator for Uniform1DSubMesh\n",
      "separator is of type Generator for Uniform1DSubMesh\n",
      "positive electrode is of type Generator for Uniform1DSubMesh\n",
      "negative particle is of type Generator for Uniform1DSubMesh\n",
      "positive particle is of type Generator for Uniform1DSubMesh\n",
      "negative particle size is of type Generator for Uniform1DSubMesh\n",
      "positive particle size is of type Generator for Uniform1DSubMesh\n",
      "current collector is of type Generator for SubMesh0D\n",
      "x_n has 20 mesh points\n",
      "x_s has 20 mesh points\n",
      "x_p has 20 mesh points\n",
      "r_n has 30 mesh points\n",
      "r_p has 30 mesh points\n",
      "y has 10 mesh points\n",
      "z has 10 mesh points\n",
      "R_n has 30 mesh points\n",
      "R_p has 30 mesh points\n"
     ]
    }
   ],
   "source": [
    "for k, t in model.default_submesh_types.items():\n",
    "    print(k,'is of type',t.__repr__())\n",
    "for var, npts in model.default_var_pts.items():\n",
    "    print(var,'has',npts,'mesh points')"
   ]
  },
  {
   "cell_type": "markdown",
   "metadata": {},
   "source": [
    "## Solve\n",
    "Now solve the MPM with the default parameters and size distributions."
   ]
  },
  {
   "cell_type": "code",
   "execution_count": 7,
   "metadata": {},
   "outputs": [
    {
     "data": {
      "application/vnd.jupyter.widget-view+json": {
       "model_id": "b66ea72826fe48e69565e67441ebc889",
       "version_major": 2,
       "version_minor": 0
      },
      "text/plain": [
       "interactive(children=(FloatSlider(value=0.0, description='t', max=3580.9687331142236, step=35.809687331142236)…"
      ]
     },
     "metadata": {},
     "output_type": "display_data"
    },
    {
     "data": {
      "text/plain": [
       "<pybamm.plotting.quick_plot.QuickPlot at 0x7fd1e0c47fd0>"
      ]
     },
     "execution_count": 7,
     "metadata": {},
     "output_type": "execute_result"
    }
   ],
   "source": [
    "sim = pybamm.Simulation(model)\n",
    "sim.solve(t_eval=[0, 3600])\n",
    "\n",
    "# plot some variables that depend on R\n",
    "output_variables = [\n",
    "    \"X-averaged negative particle surface concentration distribution\",\n",
    "    \"X-averaged positive particle surface concentration distribution\",\n",
    "    \"X-averaged positive electrode interfacial current density distribution\",\n",
    "    \"X-averaged negative area-weighted particle-size distribution\",\n",
    "    \"X-averaged positive area-weighted particle-size distribution\",\n",
    "    \"Terminal voltage [V]\",\n",
    "]\n",
    "\n",
    "sim.plot(output_variables=output_variables)"
   ]
  },
  {
   "cell_type": "markdown",
   "metadata": {},
   "source": [
    "We can also visualise the concentration within the particles. Note that we use the dimensionless radial coordinate $r_\\text{k}/R_\\text{k}$ which always lies in the range $0<r_\\text{k}/R_\\text{k}<1$, rather than $r_\\text{k}$ itself, whose range changes with $R_\\text{k}$. "
   ]
  },
  {
   "cell_type": "code",
   "execution_count": 8,
   "metadata": {},
   "outputs": [
    {
     "data": {
      "image/png": "[encoded data removed]",
      "text/plain": [
       "<Figure size 720x216 with 4 Axes>"
      ]
     },
     "metadata": {
      "needs_background": "light"
     },
     "output_type": "display_data"
    }
   ],
   "source": [
    "# Concentrations as a function of t, r and R\n",
    "c_s_n = sim.solution[\"X-averaged negative particle concentration distribution\"]\n",
    "c_s_p = sim.solution[\"X-averaged positive particle concentration distribution\"]\n",
    "\n",
    "# dimensionless r_n, r_p\n",
    "r_n = sim.solution[\"r_n\"].entries[:,0,0]\n",
    "r_p = sim.solution[\"r_p\"].entries[:,0,0]\n",
    "# dimensional R_n, R_p\n",
    "R_n = sim.solution[\"Negative particle sizes [m]\"].entries[:,0]\n",
    "R_p = sim.solution[\"Positive particle sizes [m]\"].entries[:,0]\n",
    "t = sim.solution[\"Time [s]\"].entries\n",
    "\n",
    "\n",
    "\n",
    "def plot_concentrations(t):\n",
    "    f, axs = plt.subplots(1, 2 ,figsize=(10,3))    \n",
    "    plot_c_n = axs[0].pcolormesh(\n",
    "        R_n, r_n, c_s_n(r=r_n, R=R_n, t=t), vmin=0.15, vmax=0.8\n",
    "    )\n",
    "    plot_c_p = axs[1].pcolormesh(\n",
    "        R_p, r_p, c_s_p(r=r_p, R=R_p, t=t), vmin=0.6, vmax=0.95\n",
    "    )\n",
    "    axs[0].set_xlabel(r'$R_n$ [$\\mu$m]')\n",
    "    axs[1].set_xlabel(r'$R_p$ [$\\mu$m]')\n",
    "    axs[0].set_ylabel(r'$r_n / R_n$')\n",
    "    axs[1].set_ylabel(r'$r_p / R_p$')\n",
    "    axs[0].set_title('Concentration in negative particles')\n",
    "    axs[1].set_title('Concentration in positive particles')\n",
    "    plt.colorbar(plot_c_n, ax=axs[0])\n",
    "    plt.colorbar(plot_c_p, ax=axs[1])\n",
    "    \n",
    "    plt.show()\n",
    "    \n",
    "    \n",
    "# initial time\n",
    "plot_concentrations(t[0])"
   ]
  },
  {
   "cell_type": "code",
   "execution_count": 9,
   "metadata": {},
   "outputs": [
    {
     "data": {
      "image/png": "[encoded data removed]",
      "text/plain": [
       "<Figure size 720x216 with 4 Axes>"
      ]
     },
     "metadata": {
      "needs_background": "light"
     },
     "output_type": "display_data"
    }
   ],
   "source": [
    "# final time\n",
    "plot_concentrations(t[-1])"
   ]
  },
  {
   "cell_type": "markdown",
   "metadata": {},
   "source": [
    "## Input custom particle-size distributions"
   ]
  },
  {
   "cell_type": "markdown",
   "metadata": {},
   "source": [
    "In order to solve the MPM, one must input the area-weighted particle-size distribution $f_{\\text{k},a}$ for each electrode $\\text{k}=\\text{n,p}$ and the minimum and maximum radius limits $R_\\text{k,min}$, $R_\\text{k,max}$. The default distributions $f_{\\text{k},a}$, usable with the Marquis et al. [[6]](#References) parameter set, are lognormals with means equal to the `\"Negative particle radius [m]\"` and `\"Positive particle radius [m]\"` values, and standard deviations equal to 0.3 times the mean.\n",
    "\n",
    "You can input any size distribution $f_{\\text{k},a}(R_\\text{k})$ as a function of $R_\\text{k}$, which we will now demonstrate.\n",
    "\n",
    "Note: $f_{\\text{k},a}(R_\\text{k})$ should ideally integrate to 1 over the specified $R_\\text{k}$ range, although it is automatically normalized within PyBaMM anyway. A distribution such as a lognormal, once restricted to $[R_\\text{k,min},R_\\text{k,max}]$, discretized, and then renormalized, strictly will not integrate to 1 or have the originally desired mean or variance. The mean and variance of the final discretized distribution can be checked as output variables (see below). Having a sufficient number of mesh points in $R_\\text{k}$ or a sufficiently wide interval $[R_\\text{k,min},R_\\text{k,max}]$ should alleviate this issue, however."
   ]
  },
  {
   "cell_type": "code",
   "execution_count": 10,
   "metadata": {},
   "outputs": [],
   "source": [
    "# Parameter set (no distribution parameters by default)\n",
    "params = pybamm.ParameterValues(chemistry=pybamm.parameter_sets.Marquis2019)\n",
    "\n",
    "# Extract the radii values. We will choose these to be the means of our area-weighted distributions\n",
    "R_a_n_dim = params[\"Negative particle radius [m]\"]\n",
    "R_a_p_dim = params[\"Positive particle radius [m]\"]\n",
    "\n",
    "# Standard deviations (dimensional)\n",
    "sd_a_n_dim = 0.2 * R_a_n_dim \n",
    "sd_a_p_dim = 0.6 * R_a_p_dim\n",
    "\n",
    "# Minimum and maximum particle sizes (dimensional)\n",
    "R_min_n = 0\n",
    "R_min_p = 0\n",
    "R_max_n = 2 * R_a_n_dim\n",
    "R_max_p = 3 * R_a_p_dim\n",
    "\n",
    "# Set the area-weighted particle-size distributions.\n",
    "# Choose a lognormal (but any pybamm function could be used)\n",
    "def f_a_dist_n_dim(R):\n",
    "    return pybamm.lognormal(R, R_a_n_dim, sd_a_n_dim)\n",
    "\n",
    "\n",
    "def f_a_dist_p_dim(R):\n",
    "    return pybamm.lognormal(R, R_a_p_dim, sd_a_p_dim)\n",
    "\n",
    "# Note: the only argument must be the particle size R\n"
   ]
  },
  {
   "cell_type": "code",
   "execution_count": 11,
   "metadata": {},
   "outputs": [],
   "source": [
    "# input distribution params to the dictionary\n",
    "distribution_params = {\n",
    "    \"Negative minimum particle radius [m]\": R_min_n,\n",
    "    \"Positive minimum particle radius [m]\": R_min_p,\n",
    "    \"Negative maximum particle radius [m]\": R_max_n,\n",
    "    \"Positive maximum particle radius [m]\": R_max_p,\n",
    "    \"Negative area-weighted \"\n",
    "    + \"particle-size distribution [m-1]\": f_a_dist_n_dim,\n",
    "    \"Positive area-weighted \"\n",
    "    + \"particle-size distribution [m-1]\": f_a_dist_p_dim,\n",
    "}\n",
    "params.update(distribution_params, check_already_exists=False)\n"
   ]
  },
  {
   "cell_type": "code",
   "execution_count": 12,
   "metadata": {},
   "outputs": [
    {
     "data": {
      "application/vnd.jupyter.widget-view+json": {
       "model_id": "8b545ec433484ec1b738983bb0d90b80",
       "version_major": 2,
       "version_minor": 0
      },
      "text/plain": [
       "interactive(children=(FloatSlider(value=0.0, description='t', max=3511.0164027810006, step=35.11016402781001),…"
      ]
     },
     "metadata": {},
     "output_type": "display_data"
    },
    {
     "data": {
      "text/plain": [
       "<pybamm.plotting.quick_plot.QuickPlot at 0x7fd1dfe1cf28>"
      ]
     },
     "execution_count": 12,
     "metadata": {},
     "output_type": "execute_result"
    }
   ],
   "source": [
    "sim = pybamm.Simulation(model, parameter_values=params)\n",
    "sim.solve(t_eval=[0, 3600])\n",
    "\n",
    "sim.plot(output_variables=output_variables)"
   ]
  },
  {
   "cell_type": "markdown",
   "metadata": {},
   "source": [
    "The discretized size distributions can be plotted as histograms. Only the area-weighted distribution has been input, but the corresponding number and volume-weighted ones are also given as output variables."
   ]
  },
  {
   "cell_type": "code",
   "execution_count": 13,
   "metadata": {},
   "outputs": [
    {
     "data": {
      "image/png": "[encoded data removed]",
      "text/plain": [
       "<Figure size 432x288 with 1 Axes>"
      ]
     },
     "metadata": {
      "needs_background": "light"
     },
     "output_type": "display_data"
    }
   ],
   "source": [
    "\n",
    "# The discrete sizes or \"bins\" used, and the distributions\n",
    "R_p = sim.solution[\"Positive particle sizes [m]\"].entries[:,0] # const in the current collector direction\n",
    "# The distributions\n",
    "f_a_p = sim.solution[\"X-averaged positive area-weighted particle-size distribution [m-1]\"].entries[:,0]\n",
    "f_num_p = sim.solution[\"X-averaged positive number-based particle-size distribution [m-1]\"].entries[:,0]\n",
    "f_v_p = sim.solution[\"X-averaged positive volume-weighted particle-size distribution [m-1]\"].entries[:,0]\n",
    "\n",
    "\n",
    "# plot\n",
    "width_p = (R_p[-1] - R_p[-2])/ 1e-6\n",
    "plt.bar(R_p / 1e-6, f_a_p * 1e-6, width=width_p, alpha=0.3, color=\"tab:blue\",\n",
    "           label=\"area-weighted\")\n",
    "plt.bar(R_p / 1e-6, f_num_p * 1e-6, width=width_p, alpha=0.3, color=\"tab:red\",\n",
    "           label=\"number-weighted\")\n",
    "plt.bar(R_p / 1e-6, f_v_p * 1e-6, width=width_p, alpha=0.3, color=\"tab:green\",\n",
    "           label=\"volume-weighted\")\n",
    "plt.xlim((0,30))\n",
    "plt.xlabel(\"Particle size $R_{\\mathrm{p}}$ [$\\mu$m]\", fontsize=12)\n",
    "plt.ylabel(\"[$\\mu$m$^{-1}$]\", fontsize=12)\n",
    "plt.legend(fontsize=10)\n",
    "plt.title(\"Discretized distributions (histograms) in positive electrode\")\n",
    "plt.show()"
   ]
  },
  {
   "cell_type": "markdown",
   "metadata": {},
   "source": [
    "### Vary standard deviation as an input parameter\n",
    "You may define the standard deviation (or other distribution parameters except for the min or max radii) of the distribution as a pybamm \"input\" parameter, to quickly change the distribution at the solve stage."
   ]
  },
  {
   "cell_type": "code",
   "execution_count": 14,
   "metadata": {},
   "outputs": [],
   "source": [
    "# Define standard deviation in negative electrode to vary\n",
    "sd_a_p_dim = pybamm.Parameter(\"Positive electrode area-weighted particle-size standard deviation [m]\")\n",
    "\n",
    "# Set the area-weighted particle-size distribution\n",
    "def f_a_dist_p_dim(R):\n",
    "    return pybamm.lognormal(R, R_a_p_dim, sd_a_p_dim)\n",
    "\n",
    "# input to param dictionary\n",
    "distribution_params = {\n",
    "    \"Positive electrode area-weighted particle-size \"\n",
    "    + \"standard deviation [m]\": \"[input]\",\n",
    "    \"Positive area-weighted \"\n",
    "    + \"particle-size distribution [m-1]\": f_a_dist_p_dim,\n",
    "}\n",
    "params.update(distribution_params, check_already_exists=False)"
   ]
  },
  {
   "cell_type": "code",
   "execution_count": 15,
   "metadata": {},
   "outputs": [
    {
     "data": {
      "application/vnd.jupyter.widget-view+json": {
       "model_id": "9e0887e23c884591bdd97caac3e670d5",
       "version_major": 2,
       "version_minor": 0
      },
      "text/plain": [
       "interactive(children=(FloatSlider(value=0.0, description='t', max=1.9444444444444444, step=0.01944444444444444…"
      ]
     },
     "metadata": {},
     "output_type": "display_data"
    },
    {
     "data": {
      "text/plain": [
       "<pybamm.plotting.quick_plot.QuickPlot at 0x7fd1dfe74c18>"
      ]
     },
     "execution_count": 15,
     "metadata": {},
     "output_type": "execute_result"
    }
   ],
   "source": [
    "# Experiment with a relaxation period, to see the effect of distribution width\n",
    "experiment = pybamm.Experiment([\"Discharge at 1 C for 3400 s\", \"Rest for 1 hours\"])\n",
    "\n",
    "sim = pybamm.Simulation(model, parameter_values=params, experiment=experiment)\n",
    "solutions = []\n",
    "for sd_a_p in [0.4, 0.6, 0.8]: \n",
    "    solution = sim.solve(\n",
    "        inputs={\n",
    "            \"Positive electrode area-weighted particle-size \"\n",
    "            + \"standard deviation [m]\": sd_a_p * R_a_p_dim\n",
    "        }\n",
    "    )\n",
    "    solutions.append(solution)\n",
    "\n",
    "\n",
    "pybamm.dynamic_plot(\n",
    "    solutions,\n",
    "    output_variables=output_variables,\n",
    "    labels=[\"MPM, sd_a_p=0.4\", \"MPM, sd_a_p=0.6\", \"MPM, sd_a_p=0.8\"]\n",
    ")"
   ]
  },
  {
   "cell_type": "markdown",
   "metadata": {},
   "source": [
    "## Check the distribution statistics\n",
    "The mean and standard deviations of the final discretized distributions can be investigated using the output variables `\"Negative area-weighted mean particle radius\"` and `\"Negative area-weighted particle-size standard deviation\"`, etc."
   ]
  },
  {
   "cell_type": "code",
   "execution_count": 16,
   "metadata": {},
   "outputs": [
    {
     "name": "stdout",
     "output_type": "stream",
     "text": [
      "The mean of the input lognormal was: 1e-05\n",
      "The means of discretized distributions are:\n",
      "Positive area-weighted mean particle radius [m] 9.972515783613799e-06\n",
      "Positive area-weighted mean particle radius [m] 9.673853099212895e-06\n",
      "Positive area-weighted mean particle radius [m] 9.124186918191047e-06\n"
     ]
    }
   ],
   "source": [
    "print(\"The mean of the input lognormal was:\", R_a_p_dim)\n",
    "print(\"The means of discretized distributions are:\") \n",
    "for solution in solutions:\n",
    "    R = solution[\"Positive area-weighted mean particle radius [m]\"]\n",
    "    print(\"Positive area-weighted mean particle radius [m]\", R.entries[0])"
   ]
  },
  {
   "cell_type": "code",
   "execution_count": 17,
   "metadata": {},
   "outputs": [
    {
     "name": "stdout",
     "output_type": "stream",
     "text": [
      "The standard deviations of the input lognormal were:\n",
      "4.000000000000001e-06\n",
      "6e-06\n",
      "8.000000000000001e-06\n",
      "The standard deviations of discretized distributions are:\n",
      "Positive area-weighted particle-size standard deviation [m] 3.918218937679725e-06\n",
      "Positive area-weighted particle-size standard deviation [m] 5.180362201055076e-06\n",
      "Positive area-weighted particle-size standard deviation [m] 5.815728559306213e-06\n"
     ]
    }
   ],
   "source": [
    "print(\"The standard deviations of the input lognormal were:\")\n",
    "print(0.4 * R_a_p_dim)\n",
    "print(0.6 * R_a_p_dim)\n",
    "print(0.8 * R_a_p_dim)\n",
    "print(\"The standard deviations of discretized distributions are:\") \n",
    "for solution in solutions:\n",
    "    sd = solution[\"Positive area-weighted particle-size standard deviation [m]\"]\n",
    "    print(\"Positive area-weighted particle-size standard deviation [m]\", sd.entries[0])"
   ]
  },
  {
   "cell_type": "markdown",
   "metadata": {},
   "source": [
    "## Compare to SPM and DFN\n",
    "The MPM can also be easily compared to PyBaMM models with a single particle size. The standard output variables are computed in the MPM, averaging over the particle size domain."
   ]
  },
  {
   "cell_type": "code",
   "execution_count": 18,
   "metadata": {},
   "outputs": [
    {
     "data": {
      "application/vnd.jupyter.widget-view+json": {
       "model_id": "ca33360fe25f423fbae0fe20bad989e1",
       "version_major": 2,
       "version_minor": 0
      },
      "text/plain": [
       "interactive(children=(FloatSlider(value=0.0, description='t', max=3500.0, step=35.0), Output()), _dom_classes=…"
      ]
     },
     "metadata": {},
     "output_type": "display_data"
    },
    {
     "data": {
      "text/plain": [
       "<pybamm.plotting.quick_plot.QuickPlot at 0x7fd1e18b4550>"
      ]
     },
     "execution_count": 18,
     "metadata": {},
     "output_type": "execute_result"
    }
   ],
   "source": [
    "models = [\n",
    "    pybamm.lithium_ion.SPM(),\n",
    "    pybamm.lithium_ion.MPM(),\n",
    "    pybamm.lithium_ion.DFN()\n",
    "]\n",
    "\n",
    "# solve\n",
    "sims = []\n",
    "for model in models:\n",
    "    sim = pybamm.Simulation(model)\n",
    "    sim.solve(t_eval=[0, 3500])\n",
    "    sims.append(sim)\n",
    "\n",
    "# plot\n",
    "pybamm.dynamic_plot(sims)"
   ]
  },
  {
   "cell_type": "markdown",
   "metadata": {},
   "source": [
    "## Model options\n",
    "The MPM is compatible with the current collector and thermal models (except the \"x-full\" thermal option). Currently, the MPM is not compatible with the various degradation submodels in PyBaMM (i.e. SEI models, particle cracking/swelling, or lithium plating)."
   ]
  },
  {
   "cell_type": "markdown",
   "metadata": {},
   "source": [
    "### Fickian diffusion vs Uniform profile\n",
    "One can choose from Fickian diffusion or a uniform concentration profile within the particles. Teh default is \"Fickian diffusion\"."
   ]
  },
  {
   "cell_type": "code",
   "execution_count": 19,
   "metadata": {},
   "outputs": [
    {
     "data": {
      "application/vnd.jupyter.widget-view+json": {
       "model_id": "4cfa09f7cdac41cfac0c38ab4be1cf38",
       "version_major": 2,
       "version_minor": 0
      },
      "text/plain": [
       "interactive(children=(FloatSlider(value=0.0, description='t', max=3500.0, step=35.0), Output()), _dom_classes=…"
      ]
     },
     "metadata": {},
     "output_type": "display_data"
    },
    {
     "data": {
      "text/plain": [
       "<pybamm.plotting.quick_plot.QuickPlot at 0x7fd1d48c5550>"
      ]
     },
     "execution_count": 19,
     "metadata": {},
     "output_type": "execute_result"
    }
   ],
   "source": [
    "model_Fickian = pybamm.lithium_ion.MPM(name=\"MPM Fickian\")\n",
    "model_Uniform = pybamm.lithium_ion.MPM(\n",
    "    name=\"MPM Uniform\",\n",
    "    options={\"particle\": \"uniform profile\"}\n",
    ")\n",
    "\n",
    "sim_Fickian = pybamm.Simulation(model_Fickian)\n",
    "sim_Uniform = pybamm.Simulation(model_Uniform)\n",
    "\n",
    "sim_Fickian.solve(t_eval=[0, 3500])\n",
    "sim_Uniform.solve(t_eval=[0, 3500])\n",
    "\n",
    "pybamm.dynamic_plot([sim_Fickian, sim_Uniform], output_variables=output_variables)"
   ]
  },
  {
   "cell_type": "markdown",
   "metadata": {},
   "source": [
    "### 1D current collector model\n",
    "Add another macroscale dimension \"z\", employing the \"potential pair\" option solving for the potential in the current collectors."
   ]
  },
  {
   "cell_type": "code",
   "execution_count": 20,
   "metadata": {},
   "outputs": [
    {
     "data": {
      "application/vnd.jupyter.widget-view+json": {
       "model_id": "462351065ca445868719ac5a85a66cf7",
       "version_major": 2,
       "version_minor": 0
      },
      "text/plain": [
       "interactive(children=(FloatSlider(value=0.0, description='t', max=1.0, step=0.01), Output()), _dom_classes=('w…"
      ]
     },
     "metadata": {},
     "output_type": "display_data"
    },
    {
     "data": {
      "text/plain": [
       "<pybamm.plotting.quick_plot.QuickPlot at 0x7fd1cd3f6438>"
      ]
     },
     "execution_count": 20,
     "metadata": {},
     "output_type": "execute_result"
    }
   ],
   "source": [
    "# choose model options\n",
    "model_cc = pybamm.lithium_ion.MPM(\n",
    "    options={\n",
    "        \"current collector\": \"potential pair\",\n",
    "        \"dimensionality\": 1,\n",
    "        \"particle\": \"uniform profile\", # to reduce computation time\n",
    "    }\n",
    ")\n",
    "\n",
    "# solve\n",
    "sim_cc = pybamm.Simulation(model_cc)\n",
    "sim_cc.solve(t_eval=[0, 3600])\n",
    "\n",
    "# variables to plot\n",
    "output_variables = [\n",
    "    \"X-averaged negative particle surface concentration distribution\",\n",
    "    \"X-averaged positive particle surface concentration distribution\",\n",
    "    \"X-averaged positive electrode interfacial current density distribution\",\n",
    "    \"Negative current collector potential [V]\",\n",
    "    \"Positive current collector potential [V]\",\n",
    "    \"Terminal voltage [V]\",\n",
    "]\n",
    "pybamm.dynamic_plot(sim_cc, output_variables=output_variables)"
   ]
  },
  {
   "cell_type": "markdown",
   "metadata": {},
   "source": [
    "## References\n",
    "\n",
    "The relevant papers for this notebook are:"
   ]
  },
  {
   "cell_type": "code",
   "execution_count": 21,
   "metadata": {},
   "outputs": [
    {
     "name": "stdout",
     "output_type": "stream",
     "text": [
      "[1] Joel A. E. Andersson, Joris Gillis, Greg Horn, James B. Rawlings, and Moritz Diehl. CasADi – A software framework for nonlinear optimization and optimal control. Mathematical Programming Computation, 11(1):1–36, 2019. doi:10.1007/s12532-018-0139-4.\n",
      "[2] Marc Doyle, Thomas F. Fuller, and John Newman. Modeling of galvanostatic charge and discharge of the lithium/polymer/insertion cell. Journal of the Electrochemical society, 140(6):1526–1533, 1993. doi:10.1149/1.2221597.\n",
      "[3] Charles R. Harris, K. Jarrod Millman, Stéfan J. van der Walt, Ralf Gommers, Pauli Virtanen, David Cournapeau, Eric Wieser, Julian Taylor, Sebastian Berg, Nathaniel J. Smith, and others. Array programming with NumPy. Nature, 585(7825):357–362, 2020. doi:10.1038/s41586-020-2649-2.\n",
      "[4] Toby L. Kirk, Jack Evans, Colin P. Please, and S. Jonathan Chapman. Modelling electrode heterogeneity in lithium-ion batteries: unimodal and bimodal particle-size distributions. arXiv:2006.12208, 2020. URL: https://arxiv.org/abs/2006.12208, arXiv:2006.12208.\n",
      "[5] Toby L. Kirk, Colin P. Please, and S. Jon Chapman. Physical modelling of the slow voltage relaxation phenomenon in lithium-ion batteries. Journal of The Electrochemical Society, 168(6):060554, jun 2021. URL: https://doi.org/10.1149/1945-7111/ac0bf7, doi:10.1149/1945-7111/ac0bf7.\n",
      "[6] Scott G. Marquis, Valentin Sulzer, Robert Timms, Colin P. Please, and S. Jon Chapman. An asymptotic derivation of a single particle model with electrolyte. Journal of The Electrochemical Society, 166(15):A3693–A3706, 2019. doi:10.1149/2.0341915jes.\n",
      "[7] Peyman Mohtat, Suhak Lee, Jason B Siegel, and Anna G Stefanopoulou. Towards better estimability of electrode-specific state of health: decoding the cell expansion. Journal of Power Sources, 427:101–111, 2019.\n",
      "[8] Valentin Sulzer, Scott G. Marquis, Robert Timms, Martin Robinson, and S. Jon Chapman. Python Battery Mathematical Modelling (PyBaMM). ECSarXiv. February, 2020. doi:10.1149/osf.io/67ckj.\n",
      "[9] Robert Timms, Scott G. Marquis, Valentin Sulzer, Colin P. Please, and S. Jon Chapman. Asymptotic Reduction of a Lithium-ion Pouch Cell Model. Submitted for publication, 2020. arXiv:2005.05127.\n",
      "[10] Pauli Virtanen, Ralf Gommers, Travis E. Oliphant, Matt Haberland, Tyler Reddy, David Cournapeau, Evgeni Burovski, Pearu Peterson, Warren Weckesser, Jonathan Bright, and others. SciPy 1.0: fundamental algorithms for scientific computing in Python. Nature Methods, 17(3):261–272, 2020. doi:10.1038/s41592-019-0686-2.\n",
      "\n"
     ]
    }
   ],
   "source": [
    "pybamm.print_citations()"
   ]
  },
  {
   "cell_type": "code",
   "execution_count": null,
   "metadata": {},
   "outputs": [],
   "source": []
  }
 ],
 "metadata": {
  "kernelspec": {
   "display_name": "Python 3",
   "language": "python",
   "name": "python3"
  },
  "language_info": {
   "codemirror_mode": {
    "name": "ipython",
    "version": 3
   },
   "file_extension": ".py",
   "mimetype": "text/x-python",
   "name": "python",
   "nbconvert_exporter": "python",
   "pygments_lexer": "ipython3",
   "version": "3.6.9"
  }
 },
 "nbformat": 4,
 "nbformat_minor": 2
}
