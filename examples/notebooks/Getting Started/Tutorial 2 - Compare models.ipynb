{
 "cells": [
  {
   "cell_type": "markdown",
   "metadata": {},
   "source": [
    "# Tutorial 2 - Compare models"
   ]
  },
  {
   "cell_type": "markdown",
   "metadata": {},
   "source": [
    "In [Tutorial 1](./Tutorial%201%20-%20How%20to%20run%20a%20model.ipynb), we saw how to run a PyBaMM simulation of the DFN model. However, PyBaMM includes other standard electrochemical models such as the Single Particle Model (SPM) and the Single Particle Model with electrolyte (SPMe). In this tutorial, we will see how to simulate and compare these three models. \n",
    "\n",
    "Again, the first step is to import the pybamm library into the notebook:"
   ]
  },
  {
   "cell_type": "code",
   "execution_count": 1,
   "metadata": {},
   "outputs": [],
   "source": [
    "#%pip install pybamm -q    # install PyBaMM if it is not installed\n",
    "import pybamm"
   ]
  },
  {
   "cell_type": "markdown",
   "metadata": {},
   "source": [
    "We start creating a list of all the models we wish to solve"
   ]
  },
  {
   "cell_type": "code",
   "execution_count": 2,
   "metadata": {},
   "outputs": [
    {
     "ename": "AttributeError",
     "evalue": "'LithiumIonParameters' object has no attribute 'rho_cr'",
     "output_type": "error",
     "traceback": [
      "\u001b[1;31m---------------------------------------------------------------------------\u001b[0m",
      "\u001b[1;31mAttributeError\u001b[0m                            Traceback (most recent call last)",
      "\u001b[1;32md:\\GitPyBaMM\\LRH_409\\LRH_409\\envPBGEM\\PyBaMM-GEM\\examples\\notebooks\\Getting Started\\Tutorial 2 - Compare models.ipynb Cell 5\u001b[0m in \u001b[0;36m<cell line: 2>\u001b[1;34m()\u001b[0m\n\u001b[0;32m      <a href='vscode-notebook-cell:/d%3A/GitPyBaMM/LRH_409/LRH_409/envPBGEM/PyBaMM-GEM/examples/notebooks/Getting%20Started/Tutorial%202%20-%20Compare%20models.ipynb#W4sZmlsZQ%3D%3D?line=0'>1</a>\u001b[0m models \u001b[39m=\u001b[39m [\n\u001b[1;32m----> <a href='vscode-notebook-cell:/d%3A/GitPyBaMM/LRH_409/LRH_409/envPBGEM/PyBaMM-GEM/examples/notebooks/Getting%20Started/Tutorial%202%20-%20Compare%20models.ipynb#W4sZmlsZQ%3D%3D?line=1'>2</a>\u001b[0m     pybamm\u001b[39m.\u001b[39;49mlithium_ion\u001b[39m.\u001b[39;49mSPM(),\n\u001b[0;32m      <a href='vscode-notebook-cell:/d%3A/GitPyBaMM/LRH_409/LRH_409/envPBGEM/PyBaMM-GEM/examples/notebooks/Getting%20Started/Tutorial%202%20-%20Compare%20models.ipynb#W4sZmlsZQ%3D%3D?line=2'>3</a>\u001b[0m     pybamm\u001b[39m.\u001b[39mlithium_ion\u001b[39m.\u001b[39mSPMe(),\n\u001b[0;32m      <a href='vscode-notebook-cell:/d%3A/GitPyBaMM/LRH_409/LRH_409/envPBGEM/PyBaMM-GEM/examples/notebooks/Getting%20Started/Tutorial%202%20-%20Compare%20models.ipynb#W4sZmlsZQ%3D%3D?line=3'>4</a>\u001b[0m     pybamm\u001b[39m.\u001b[39mlithium_ion\u001b[39m.\u001b[39mDFN(),\n\u001b[0;32m      <a href='vscode-notebook-cell:/d%3A/GitPyBaMM/LRH_409/LRH_409/envPBGEM/PyBaMM-GEM/examples/notebooks/Getting%20Started/Tutorial%202%20-%20Compare%20models.ipynb#W4sZmlsZQ%3D%3D?line=4'>5</a>\u001b[0m ]\n",
      "File \u001b[1;32md:\\gitpybamm\\lrh_409\\lrh_409\\envpbgem\\pybamm-gem\\pybamm\\models\\full_battery_models\\lithium_ion\\spm.py:51\u001b[0m, in \u001b[0;36mSPM.__init__\u001b[1;34m(self, options, name, build)\u001b[0m\n\u001b[0;32m     47\u001b[0m     options[\u001b[39m\"\u001b[39m\u001b[39mx-average side reactions\u001b[39m\u001b[39m\"\u001b[39m] \u001b[39m=\u001b[39m \u001b[39m\"\u001b[39m\u001b[39mtrue\u001b[39m\u001b[39m\"\u001b[39m\n\u001b[0;32m     49\u001b[0m \u001b[39msuper\u001b[39m()\u001b[39m.\u001b[39m\u001b[39m__init__\u001b[39m(options, name)\n\u001b[1;32m---> 51\u001b[0m \u001b[39mself\u001b[39;49m\u001b[39m.\u001b[39;49mset_submodels(build)\n\u001b[0;32m     53\u001b[0m \u001b[39mif\u001b[39;00m \u001b[39mself\u001b[39m\u001b[39m.\u001b[39m\u001b[39m__class__\u001b[39m \u001b[39m!=\u001b[39m \u001b[39m\"\u001b[39m\u001b[39mMPM\u001b[39m\u001b[39m\"\u001b[39m:\n\u001b[0;32m     54\u001b[0m     pybamm\u001b[39m.\u001b[39mcitations\u001b[39m.\u001b[39mregister(\u001b[39m\"\u001b[39m\u001b[39mMarquis2019\u001b[39m\u001b[39m\"\u001b[39m)\n",
      "File \u001b[1;32md:\\gitpybamm\\lrh_409\\lrh_409\\envpbgem\\pybamm-gem\\pybamm\\models\\full_battery_models\\lithium_ion\\base_lithium_ion_model.py:91\u001b[0m, in \u001b[0;36mBaseModel.set_submodels\u001b[1;34m(self, build)\u001b[0m\n\u001b[0;32m     88\u001b[0m \u001b[39mself\u001b[39m\u001b[39m.\u001b[39mset_total_interface_submodel()\n\u001b[0;32m     90\u001b[0m \u001b[39mif\u001b[39;00m build:\n\u001b[1;32m---> 91\u001b[0m     \u001b[39mself\u001b[39;49m\u001b[39m.\u001b[39;49mbuild_model()\n",
      "File \u001b[1;32md:\\gitpybamm\\lrh_409\\lrh_409\\envpbgem\\pybamm-gem\\pybamm\\models\\full_battery_models\\base_battery_model.py:961\u001b[0m, in \u001b[0;36mBaseBatteryModel.build_model\u001b[1;34m(self)\u001b[0m\n\u001b[0;32m    959\u001b[0m \u001b[39mdef\u001b[39;00m \u001b[39mbuild_model\u001b[39m(\u001b[39mself\u001b[39m):\n\u001b[0;32m    960\u001b[0m     \u001b[39m# Build model variables and equations\u001b[39;00m\n\u001b[1;32m--> 961\u001b[0m     \u001b[39mself\u001b[39;49m\u001b[39m.\u001b[39;49m_build_model()\n\u001b[0;32m    963\u001b[0m     \u001b[39m# Set battery specific variables\u001b[39;00m\n\u001b[0;32m    964\u001b[0m     pybamm\u001b[39m.\u001b[39mlogger\u001b[39m.\u001b[39mdebug(\u001b[39m\"\u001b[39m\u001b[39mSetting voltage variables (\u001b[39m\u001b[39m{}\u001b[39;00m\u001b[39m)\u001b[39m\u001b[39m\"\u001b[39m\u001b[39m.\u001b[39mformat(\u001b[39mself\u001b[39m\u001b[39m.\u001b[39mname))\n",
      "File \u001b[1;32md:\\gitpybamm\\lrh_409\\lrh_409\\envpbgem\\pybamm-gem\\pybamm\\models\\base_model.py:555\u001b[0m, in \u001b[0;36mBaseModel._build_model\u001b[1;34m(self)\u001b[0m\n\u001b[0;32m    552\u001b[0m \u001b[39mif\u001b[39;00m \u001b[39mself\u001b[39m\u001b[39m.\u001b[39m_built_fundamental \u001b[39mis\u001b[39;00m \u001b[39mFalse\u001b[39;00m:\n\u001b[0;32m    553\u001b[0m     \u001b[39mself\u001b[39m\u001b[39m.\u001b[39mbuild_fundamental()\n\u001b[1;32m--> 555\u001b[0m \u001b[39mself\u001b[39;49m\u001b[39m.\u001b[39;49mbuild_coupled_variables()\n\u001b[0;32m    557\u001b[0m \u001b[39mself\u001b[39m\u001b[39m.\u001b[39mbuild_model_equations()\n",
      "File \u001b[1;32md:\\gitpybamm\\lrh_409\\lrh_409\\envpbgem\\pybamm-gem\\pybamm\\models\\base_model.py:479\u001b[0m, in \u001b[0;36mBaseModel.build_coupled_variables\u001b[1;34m(self)\u001b[0m\n\u001b[0;32m    472\u001b[0m pybamm\u001b[39m.\u001b[39mlogger\u001b[39m.\u001b[39mdebug(\n\u001b[0;32m    473\u001b[0m     \u001b[39m\"\u001b[39m\u001b[39mGetting coupled variables for \u001b[39m\u001b[39m{}\u001b[39;00m\u001b[39m submodel (\u001b[39m\u001b[39m{}\u001b[39;00m\u001b[39m)\u001b[39m\u001b[39m\"\u001b[39m\u001b[39m.\u001b[39mformat(\n\u001b[0;32m    474\u001b[0m         submodel_name, \u001b[39mself\u001b[39m\u001b[39m.\u001b[39mname\n\u001b[0;32m    475\u001b[0m     )\n\u001b[0;32m    476\u001b[0m )\n\u001b[0;32m    477\u001b[0m \u001b[39mtry\u001b[39;00m:\n\u001b[0;32m    478\u001b[0m     \u001b[39mself\u001b[39m\u001b[39m.\u001b[39mvariables\u001b[39m.\u001b[39mupdate(\n\u001b[1;32m--> 479\u001b[0m         submodel\u001b[39m.\u001b[39;49mget_coupled_variables(\u001b[39mself\u001b[39;49m\u001b[39m.\u001b[39;49mvariables)\n\u001b[0;32m    480\u001b[0m     )\n\u001b[0;32m    481\u001b[0m     submodels\u001b[39m.\u001b[39mremove(submodel_name)\n\u001b[0;32m    482\u001b[0m \u001b[39mexcept\u001b[39;00m \u001b[39mKeyError\u001b[39;00m \u001b[39mas\u001b[39;00m key:\n",
      "File \u001b[1;32md:\\gitpybamm\\lrh_409\\lrh_409\\envpbgem\\pybamm-gem\\pybamm\\models\\submodels\\interface\\sei\\no_sei.py:45\u001b[0m, in \u001b[0;36mNoSEI.get_coupled_variables\u001b[1;34m(self, variables)\u001b[0m\n\u001b[0;32m     44\u001b[0m \u001b[39mdef\u001b[39;00m \u001b[39mget_coupled_variables\u001b[39m(\u001b[39mself\u001b[39m, variables):\n\u001b[1;32m---> 45\u001b[0m     variables\u001b[39m.\u001b[39mupdate(\u001b[39mself\u001b[39;49m\u001b[39m.\u001b[39;49m_get_standard_concentration_variables(variables))\n\u001b[0;32m     46\u001b[0m     \u001b[39m# Update whole cell variables, which also updates the \"sum of\" variables\u001b[39;00m\n\u001b[0;32m     47\u001b[0m     variables\u001b[39m.\u001b[39mupdate(\u001b[39msuper\u001b[39m()\u001b[39m.\u001b[39mget_coupled_variables(variables))\n",
      "File \u001b[1;32md:\\gitpybamm\\lrh_409\\lrh_409\\envpbgem\\pybamm-gem\\pybamm\\models\\submodels\\interface\\sei\\base_sei.py:278\u001b[0m, in \u001b[0;36mBaseModel._get_standard_concentration_variables\u001b[1;34m(self, variables)\u001b[0m\n\u001b[0;32m    275\u001b[0m n_SEI_cr_av \u001b[39m=\u001b[39m pybamm\u001b[39m.\u001b[39myz_average(n_SEI_cr_xav)\n\u001b[0;32m    277\u001b[0m \u001b[39m# Calculate change in SEI cracks concentration\u001b[39;00m\n\u001b[1;32m--> 278\u001b[0m roughness_init \u001b[39m=\u001b[39m \u001b[39m2\u001b[39m \u001b[39m*\u001b[39m \u001b[39mself\u001b[39;49m\u001b[39m.\u001b[39;49mparam\u001b[39m.\u001b[39;49mrho_cr \u001b[39m+\u001b[39m \u001b[39m1\u001b[39m\n\u001b[0;32m    279\u001b[0m n_SEI_cr_init \u001b[39m=\u001b[39m (L_inner_crack_0 \u001b[39m+\u001b[39m L_outer_crack_0 \u001b[39m/\u001b[39m v_bar) \u001b[39m*\u001b[39m (\n\u001b[0;32m    280\u001b[0m     roughness_init \u001b[39m-\u001b[39m \u001b[39m1\u001b[39m\n\u001b[0;32m    281\u001b[0m )\n\u001b[0;32m    282\u001b[0m delta_n_SEI_cr \u001b[39m=\u001b[39m n_SEI_cr_av \u001b[39m-\u001b[39m n_SEI_cr_init\n",
      "File \u001b[1;32md:\\gitpybamm\\lrh_409\\lrh_409\\envpbgem\\pybamm-gem\\pybamm\\parameters\\base_parameters.py:47\u001b[0m, in \u001b[0;36mBaseParameters.__getattribute__\u001b[1;34m(self, name)\u001b[0m\n\u001b[0;32m     45\u001b[0m         \u001b[39melse\u001b[39;00m:\n\u001b[0;32m     46\u001b[0m             \u001b[39mraise\u001b[39;00m e\n\u001b[1;32m---> 47\u001b[0m \u001b[39mraise\u001b[39;00m e\n",
      "File \u001b[1;32md:\\gitpybamm\\lrh_409\\lrh_409\\envpbgem\\pybamm-gem\\pybamm\\parameters\\base_parameters.py:19\u001b[0m, in \u001b[0;36mBaseParameters.__getattribute__\u001b[1;34m(self, name)\u001b[0m\n\u001b[0;32m     14\u001b[0m \u001b[39m\"\"\"\u001b[39;00m\n\u001b[0;32m     15\u001b[0m \u001b[39mRaise more informative error to users when they try to access a\u001b[39;00m\n\u001b[0;32m     16\u001b[0m \u001b[39mnon-existent attribute, which may have recently changed name\u001b[39;00m\n\u001b[0;32m     17\u001b[0m \u001b[39m\"\"\"\u001b[39;00m\n\u001b[0;32m     18\u001b[0m \u001b[39mtry\u001b[39;00m:\n\u001b[1;32m---> 19\u001b[0m     \u001b[39mreturn\u001b[39;00m \u001b[39msuper\u001b[39;49m()\u001b[39m.\u001b[39;49m\u001b[39m__getattribute__\u001b[39;49m(name)\n\u001b[0;32m     20\u001b[0m \u001b[39mexcept\u001b[39;00m \u001b[39mAttributeError\u001b[39;00m \u001b[39mas\u001b[39;00m e:\n\u001b[0;32m     21\u001b[0m     \u001b[39mif\u001b[39;00m name \u001b[39m==\u001b[39m \u001b[39m\"\u001b[39m\u001b[39mcap_init\u001b[39m\u001b[39m\"\u001b[39m:\n",
      "\u001b[1;31mAttributeError\u001b[0m: 'LithiumIonParameters' object has no attribute 'rho_cr'"
     ]
    }
   ],
   "source": [
    "models = [\n",
    "    pybamm.lithium_ion.SPM(),\n",
    "    pybamm.lithium_ion.SPMe(),\n",
    "    pybamm.lithium_ion.DFN(),\n",
    "]"
   ]
  },
  {
   "cell_type": "markdown",
   "metadata": {},
   "source": [
    "and now we can loop over the list, creating and solving simulations as we go. The solved simulations are stored in the list `sims`"
   ]
  },
  {
   "cell_type": "code",
   "execution_count": 3,
   "metadata": {},
   "outputs": [],
   "source": [
    "sims = []\n",
    "for model in models:\n",
    "    sim = pybamm.Simulation(model)\n",
    "    sim.solve([0, 3600])\n",
    "    sims.append(sim)"
   ]
  },
  {
   "cell_type": "markdown",
   "metadata": {},
   "source": [
    "We can now pass our list of simulations to the dynamic plot method, which will plot the different outputs in the same figure"
   ]
  },
  {
   "cell_type": "code",
   "execution_count": 4,
   "metadata": {},
   "outputs": [
    {
     "data": {
      "application/vnd.jupyter.widget-view+json": {
       "model_id": "19839e41f05645e0b1b5a0e4ba8671d6",
       "version_major": 2,
       "version_minor": 0
      },
      "text/plain": [
       "interactive(children=(FloatSlider(value=0.0, description='t', max=3600.0, step=36.0), Output()), _dom_classes=…"
      ]
     },
     "metadata": {},
     "output_type": "display_data"
    },
    {
     "data": {
      "text/plain": [
       "<pybamm.plotting.quick_plot.QuickPlot at 0x7fd97116fdc0>"
      ]
     },
     "execution_count": 4,
     "metadata": {},
     "output_type": "execute_result"
    }
   ],
   "source": [
    "pybamm.dynamic_plot(sims, time_unit=\"seconds\")"
   ]
  },
  {
   "cell_type": "markdown",
   "metadata": {},
   "source": [
    "In this tutorial we have seen how easy it is to run and compare different electrochemical models. In [Tutorial 3](./Tutorial%203%20-%20Basic%20plotting.ipynb) we show how to create different plots using PyBaMM's built-in plotting capability."
   ]
  },
  {
   "cell_type": "markdown",
   "metadata": {},
   "source": [
    "## References\n",
    "\n",
    "The relevant papers for this notebook are:"
   ]
  },
  {
   "cell_type": "code",
   "execution_count": 5,
   "metadata": {
    "scrolled": true
   },
   "outputs": [
    {
     "name": "stdout",
     "output_type": "stream",
     "text": [
      "[1] Weilong Ai, Ludwig Kraft, Johannes Sturm, Andreas Jossen, and Billy Wu. Electrochemical thermal-mechanical modelling of stress inhomogeneity in lithium-ion pouch cells. Journal of The Electrochemical Society, 167(1):013512, 2019. doi:10.1149/2.0122001JES.\n",
      "[2] Joel A. E. Andersson, Joris Gillis, Greg Horn, James B. Rawlings, and Moritz Diehl. CasADi – A software framework for nonlinear optimization and optimal control. Mathematical Programming Computation, 11(1):1–36, 2019. doi:10.1007/s12532-018-0139-4.\n",
      "[3] Rutooj Deshpande, Mark Verbrugge, Yang-Tse Cheng, John Wang, and Ping Liu. Battery cycle life prediction with coupled chemical degradation and fatigue mechanics. Journal of the Electrochemical Society, 159(10):A1730, 2012. doi:10.1149/2.049210jes.\n",
      "[4] Marc Doyle, Thomas F. Fuller, and John Newman. Modeling of galvanostatic charge and discharge of the lithium/polymer/insertion cell. Journal of the Electrochemical society, 140(6):1526–1533, 1993. doi:10.1149/1.2221597.\n",
      "[5] Charles R. Harris, K. Jarrod Millman, Stéfan J. van der Walt, Ralf Gommers, Pauli Virtanen, David Cournapeau, Eric Wieser, Julian Taylor, Sebastian Berg, Nathaniel J. Smith, and others. Array programming with NumPy. Nature, 585(7825):357–362, 2020. doi:10.1038/s41586-020-2649-2.\n",
      "[6] Scott G. Marquis, Valentin Sulzer, Robert Timms, Colin P. Please, and S. Jon Chapman. An asymptotic derivation of a single particle model with electrolyte. Journal of The Electrochemical Society, 166(15):A3693–A3706, 2019. doi:10.1149/2.0341915jes.\n",
      "[7] Valentin Sulzer, Scott G. Marquis, Robert Timms, Martin Robinson, and S. Jon Chapman. Python Battery Mathematical Modelling (PyBaMM). Journal of Open Research Software, 9(1):14, 2021. doi:10.5334/jors.309.\n",
      "\n"
     ]
    }
   ],
   "source": [
    "pybamm.print_citations()"
   ]
  },
  {
   "cell_type": "code",
   "execution_count": null,
   "metadata": {},
   "outputs": [],
   "source": []
  }
 ],
 "metadata": {
  "kernelspec": {
   "display_name": "Python 3 (ipykernel)",
   "language": "python",
   "name": "python3"
  },
  "language_info": {
   "codemirror_mode": {
    "name": "ipython",
    "version": 3
   },
   "file_extension": ".py",
   "mimetype": "text/x-python",
   "name": "python",
   "nbconvert_exporter": "python",
   "pygments_lexer": "ipython3",
   "version": "3.9.6"
  }
 },
 "nbformat": 4,
 "nbformat_minor": 2
}
