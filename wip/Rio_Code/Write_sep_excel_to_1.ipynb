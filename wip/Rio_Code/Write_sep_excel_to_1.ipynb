{
 "cells": [
  {
   "cell_type": "code",
   "execution_count": 2,
   "metadata": {},
   "outputs": [],
   "source": [
    "import pybamm as pb;import pandas as pd   ;import numpy as np;import os;import matplotlib.pyplot as plt;import os;#import imageio\n",
    "from scipy.io import savemat,loadmat;from pybamm import constants,exp;import matplotlib as mpl; fs=17; # or we can set import matplotlib.pyplot as plt then say 'mpl.rc...'\n",
    "import openpyxl\n",
    "import traceback\n",
    "import multiprocessing\n",
    "import scipy.optimize\n",
    "import random;import time, signal\n",
    "fs=17;\n",
    "font = {'family' : 'DejaVu Sans','size'   : fs}\n",
    "mpl.rc('font', **font)\n",
    "\n",
    "import sys  \n",
    "str_path_0 = os.path.abspath(os.path.join(pb.__path__[0],'..'))\n",
    "str_path_1 = os.path.abspath(os.path.join(str_path_0,\"wip\\Rio_Code\\Fun_P2\"))\n",
    "sys.path.append(str_path_1) \n",
    "from Fun_P2_Patrick import (\n",
    "    recursive_scan,\n",
    "    write_excel_xlsx,\n",
    "    Run_P2_till_Fail,\n",
    ")"
   ]
  },
  {
   "cell_type": "code",
   "execution_count": 4,
   "metadata": {},
   "outputs": [],
   "source": [
    "BasicPath = 'D:/OneDrive - Imperial College London/SimDataSave/P2R7'; \n",
    "#BasicPath=os.getcwd()\n",
    "Target  = '/d2_int_dry/'\n",
    "if not os.path.exists(BasicPath + Target):\n",
    "   os.mkdir(BasicPath + Target);\n",
    "book_name_xlsx = 'd2_int_dry.xlsx';\n",
    "sheet_name_xlsx = 'Results';\n",
    "index_list = np.arange(1,8+1,1)"
   ]
  },
  {
   "cell_type": "code",
   "execution_count": 5,
   "metadata": {},
   "outputs": [
    {
     "name": "stderr",
     "output_type": "stream",
     "text": [
      "C:\\Users\\rl1120\\AppData\\Local\\Temp\\ipykernel_3888\\2571707290.py:10: DeprecationWarning: Call to deprecated function get_sheet_by_name (Use wb[sheetname]).\n",
      "  table_old = data_old.get_sheet_by_name(str(index_list_i))\n",
      "C:\\Users\\rl1120\\AppData\\Local\\Temp\\ipykernel_3888\\2571707290.py:15: DeprecationWarning: Call to deprecated function get_sheet_by_name (Use wb[sheetname]).\n",
      "  table_tar = data_tar.get_sheet_by_name(sheet_name_xlsx)\n"
     ]
    },
    {
     "name": "stdout",
     "output_type": "stream",
     "text": [
      "Successfuly write results for Scan 1!\n",
      "Successfuly write results for Scan 2!\n",
      "Successfuly write results for Scan 3!\n",
      "Successfuly write results for Scan 4!\n",
      "Successfuly write results for Scan 5!\n",
      "Successfuly write results for Scan 6!\n",
      "Successfuly write results for Scan 7!\n",
      "Successfuly write results for Scan 8!\n"
     ]
    }
   ],
   "source": [
    "for index_list_i in index_list:\n",
    "    #print(index_list_i)\n",
    "    try:\n",
    "        old_book = str(index_list_i) + '_' + book_name_xlsx\n",
    "        #print(old_book)\n",
    "        #open excel:\n",
    "        data_old = openpyxl.load_workbook(BasicPath + Target + old_book)   \n",
    "        data_tar = openpyxl.load_workbook(BasicPath + Target + book_name_xlsx) \n",
    "\n",
    "        table_old = data_old.get_sheet_by_name(str(index_list_i))\n",
    "        nrows_old = table_old.max_row  # 获得行数\n",
    "        ncolumns_old = table_old.max_column  # 获得列数\n",
    "\n",
    "\n",
    "        table_tar = data_tar.get_sheet_by_name(sheet_name_xlsx)\n",
    "        nrows_tar = table_tar.max_row  # 获得行数\n",
    "        ncolumns_old = table_old.max_column  # 获得列数\n",
    "        list_old = [];\n",
    "        #print(nrows_old,nrows_tar)\n",
    "        for i in range(1,nrows_old+1):\n",
    "            for j in range(1,ncolumns_old+1):\n",
    "                list_old.append(table_old.cell(row=i,column=j).value)\n",
    "        \n",
    "        list_old = [list_old,]\n",
    "        for i in range(1, len(list_old)+1):\n",
    "                for j in range(1, len(list_old[i-1])+1):\n",
    "                    #print(i,j,list_old[i-1][j-1]    )\n",
    "                    table_tar.cell(nrows_tar+i, j).value = list_old[i-1][j-1]     \n",
    "        data_tar.save(BasicPath + Target + book_name_xlsx) \n",
    "        data_tar.close()\n",
    "    except:\n",
    "        print(f\"Something goes wrong for Scan {index_list_i}!\")\n",
    "    else:\n",
    "        print(f\"Successfuly write results for Scan {index_list_i}!\") \n"
   ]
  },
  {
   "cell_type": "code",
   "execution_count": 11,
   "metadata": {},
   "outputs": [
    {
     "name": "stdout",
     "output_type": "stream",
     "text": [
      "Total scan case is 1\n"
     ]
    }
   ],
   "source": [
    "Para_dict_All = {\n",
    "   \"Total ageing cycles\":[1170,],\n",
    "   \"Ageing cycles between RPT\":[78,],\n",
    "   \"Update cycles for ageing\":[13,],\n",
    "   \"Cycles within RPT\":[2,],\n",
    "   \"Ageing temperature\":[25,],\n",
    "   \"RPT temperature\":[25,],\n",
    "   \"Particle mesh points\":[30,],   # Simon uses 30\n",
    "   #\"Exponential mesh stretch\":[1.0],\n",
    "   \"Para_Set\":[ \"Li2023_Coupled\",],\n",
    "   \"Model option\":[\n",
    "         {\n",
    "            \"calculate discharge energy\":\"true\",\n",
    "            \"particle\": \"Fickian diffusion\",          \n",
    "            \"SEI\":\"interstitial-diffusion limited\",   \n",
    "            \"SEI on cracks\":\"true\",  \n",
    "            \"SEI film resistance\":\"distributed\",          \n",
    "            \"SEI porosity change\":\"true\",      \n",
    "            \"particle mechanics\":(\"swelling and cracking\", \"swelling only\"), \n",
    "            \"loss of active material\":\"stress-driven\", \n",
    "            \"lithium plating\":\"partially reversible\"      },\n",
    "         ],\n",
    "   \"Inner SEI reaction proportion\":[0.5,],\n",
    "   \"Ratio of lithium moles to SEI moles\":[2,], # I have always been using 1 for solvent consumption model\n",
    "   \"Initial inner SEI thickness [m]\":[2.5E-9,],\n",
    "   \"Initial outer SEI thickness [m]\":[2.5E-9,],\n",
    "   \"SEI growth activation energy [J.mol-1]\":[38000,],\n",
    "   # Solvent consumption sub-model\n",
    "   \"Initial electrolyte excessive amount ratio\":[ 2], # set to <1 for DryOut=Off \n",
    "   \"Current solvent concentration in the reservoir [mol.m-3]\":[4541.0,],\n",
    "   \"Current electrolyte concentration in the reservoir [mol.m-3]\":[1000,],\n",
    "   \"Ratio of Li-ion concentration change in electrolyte consider solvent consumption\":[1.0,],\n",
    "   # DFN parameter\n",
    "   \"Upper voltage cut-off [V]\":[4.21,],\n",
    "   \"Lower voltage cut-off [V]\":[2.49,],\n",
    "\n",
    "   # interstitial-diffusion limited\n",
    "   'Inner SEI lithium interstitial diffusivity [m2.s-1]':[1e-22],    \n",
    "   'Lithium interstitial reference concentration [mol.m-3]':[15,],\n",
    "   # ec-reaction limited\n",
    "   'EC diffusivity [m2.s-1]':[1e-22,],\n",
    "   'SEI kinetic rate constant [m.s-1]':[1e-12,], \n",
    "   'EC initial concentration in electrolyte [mol.m-3]':[4541.0,],\n",
    "   'Typical EC concentration in electrolyte [mol.m-3]':[4541.0,], # Mark Ruihe change, act as an initial value here\n",
    "   # LiP and coupling with SEI:\n",
    "   \"Dead lithium decay constant [s-1]\":[ 1e-6,],            # default: 1e-6\n",
    "   'Lithium plating kinetic rate constant [m.s-1]':[1E-12], # default: 1e-9\n",
    "   # Crack model\n",
    "   \"Negative electrode LAM constant proportional term [s-1]\":[ 2.7778e-10,], # default: 2.7778e-07\n",
    "   \"Positive electrode LAM constant proportional term [s-1]\":[ 2.7778e-10,], # default: 2.7778e-07\n",
    "   # make it simple for now,], but may want to have T dependency in the future\n",
    "   \"Negative electrode cracking rate\":[ 3.9e-22],   # default: function, ~3.9e-20\n",
    "   \"Positive electrode cracking rate\":[ 3.9e-19,],   # default: function, ~3.9e-20\n",
    "   \"Negative electrode volume change\":[ 0.0,],\n",
    "   \"Positive electrode volume change\":[ 0.0,],\n",
    "   \"Initial Neg SOC\":[0.850],    # list(np.linspace(0.84,0.90,6)),\n",
    "   \"Initial Pos SOC\":[0.2705],   # list(np.linspace(0.22,0.27,6)),\n",
    "}\n",
    "Para_dict_list = []\n",
    "recursive_scan(Para_dict_list,Para_dict_All, list(Para_dict_All.keys()), {})\n",
    "print(f\"Total scan case is {len(Para_dict_list)}\")"
   ]
  }
 ],
 "metadata": {
  "kernelspec": {
   "display_name": "Python 3.9.6 ('envPBGEM')",
   "language": "python",
   "name": "python3"
  },
  "language_info": {
   "codemirror_mode": {
    "name": "ipython",
    "version": 3
   },
   "file_extension": ".py",
   "mimetype": "text/x-python",
   "name": "python",
   "nbconvert_exporter": "python",
   "pygments_lexer": "ipython3",
   "version": "3.9.6"
  },
  "orig_nbformat": 4,
  "vscode": {
   "interpreter": {
    "hash": "83fab7fbb3a8fe7b5910804f702478ef63e2cc6a08d85072a5d68865ed0fd8c7"
   }
  }
 },
 "nbformat": 4,
 "nbformat_minor": 2
}
