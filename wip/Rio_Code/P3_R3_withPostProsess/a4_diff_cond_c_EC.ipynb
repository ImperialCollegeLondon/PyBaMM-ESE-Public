{
 "cells": [
  {
   "cell_type": "markdown",
   "metadata": {},
   "source": [
    "# add c_EC as one of the inputs for diffusivity and conductivity"
   ]
  },
  {
   "cell_type": "code",
   "execution_count": 31,
   "metadata": {},
   "outputs": [],
   "source": [
    "import pybamm\n",
    "import numpy as np\n",
    "import matplotlib.pyplot as plt\n",
    "import pandas as pd   ;import numpy as np;import os;import matplotlib.pyplot as plt;import os;\n",
    "from scipy.io import savemat,loadmat;from pybamm import constants,exp;import matplotlib as mpl; fs=17; # or we can set import matplotlib.pyplot as plt then say 'mpl.rc...'\n",
    "for k in range(0,1):\n",
    "    mpl.rcParams[\"axes.labelsize\"] = fs\n",
    "    mpl.rcParams[\"axes.titlesize\"] = fs\n",
    "    mpl.rcParams[\"xtick.labelsize\"] =  fs\n",
    "    mpl.rcParams[\"ytick.labelsize\"] =  fs\n",
    "    mpl.rcParams[\"legend.fontsize\"] =  fs\n",
    "    mpl.rcParams['font.sans-serif'] = ['Times New Roman']\n",
    "    mpl.rcParams['font.serif'] = ['Times New Roman']\n",
    "    mpl.rcParams['axes.unicode_minus'] = False"
   ]
  },
  {
   "cell_type": "code",
   "execution_count": 32,
   "metadata": {},
   "outputs": [],
   "source": [
    "# define function:\n",
    "def electrolyte_conductivity_Nyman2008_wEC(c_e,c_EC, T):\n",
    "    x = c_EC / c_e\n",
    "    \"\"\" index = np.piecewise(\n",
    "        x, \n",
    "        [x < 0, ((x >= 0) & (x < 4.541)), x >= 4.541], \n",
    "        [lambda x : 0, lambda x : 1/4.541*x, lambda x : 1]) \"\"\"\n",
    "    sigma_e = (\n",
    "        (c_EC <= 4541) * (1/4.541*x) * (\n",
    "        0.1297 * (c_e / 1000) ** 3 - 2.51 * (c_e / 1000) ** 1.5 + 3.329 * (c_e / 1000)) \n",
    "        + (c_EC > 4541) * (\n",
    "        0.1297 * (c_e / 1000) ** 3 - 2.51 * (c_e / 1000) ** 1.5 + 3.329 * (c_e / 1000))\n",
    "    )\n",
    "    return sigma_e\n",
    "def electrolyte_diffusivity_Nyman2008_wEC(c_e, c_EC,T):\n",
    "    x = c_EC / c_e\n",
    "    \"\"\" index = np.piecewise(\n",
    "        x, \n",
    "        [x < 0, ((x >= 0) & (x < 4.541)), x >= 4.541], \n",
    "        [lambda x : 0, lambda x : 1/4.541*x, lambda x : 1]) \"\"\"\n",
    "    D_c_e = (\n",
    "        (c_EC <= 4541) * (1/4.541*x) * (\n",
    "        8.794e-11 * (c_e / 1000) ** 2 - 3.972e-10 * (c_e / 1000) + 4.862e-10) \n",
    "        +  (c_EC > 4541) *  (\n",
    "        8.794e-11 * (c_e / 1000) ** 2 - 3.972e-10 * (c_e / 1000) + 4.862e-10)\n",
    "    )\n",
    "    return D_c_e\n"
   ]
  },
  {
   "cell_type": "code",
   "execution_count": 33,
   "metadata": {},
   "outputs": [],
   "source": [
    "V_max = 4.2;        V_min = 2.5;\n",
    "Diff_SEI = 1.7e-20;    R_SEI = 2E5;   Bulk_Sol_Con = 4541.0;\n",
    "Experiment_Long   = pybamm.Experiment( [ (\n",
    "    f\"Discharge at 1 C until {V_min} V\", \n",
    "    f\"Charge at 0.3 C until {V_max} V\", \n",
    "    f\"Hold at {V_max} V until C/5\")    ] * 1 )  "
   ]
  },
  {
   "cell_type": "code",
   "execution_count": 34,
   "metadata": {},
   "outputs": [
    {
     "name": "stdout",
     "output_type": "stream",
     "text": [
      "turn source term due to Li+ migration anymore\n",
      "have you come here?\n"
     ]
    }
   ],
   "source": [
    "Model_ddiff = pybamm.lithium_ion.DFN(     \n",
    "    options={\"solvent diffusion\": \"EC\"     } )\n",
    "Model_sdiff = pybamm.lithium_ion.DFN(     \n",
    "    options={\"solvent diffusion\": \"none\"     } )\n",
    "ChemistryChen=pybamm.parameter_sets.Chen2020 \n",
    "ChemistryChen[\"electrolyte\"] = \"lipf6_EMC_FEC_19_1_Landesfeind2019\";\n",
    "Para_0=pybamm.ParameterValues(chemistry=ChemistryChen);\n",
    "Para_0.update({'Outer SEI solvent diffusivity [m2.s-1]':8e-19})\n",
    "\n",
    "Para_0['EC Lithium ion cross diffusivity [m2.s-1]'] = 1.5e-9/1e2;\n",
    "Para_0['Typical EC Lithium ion cross diffusivity [m2.s-1]'] =   1.5e-9/1e2\n",
    "Para_0['EC transference number'] =    -1.4\n",
    "Para_0['EC diffusivity in electrolyte [m2.s-1]'] =  5E-12;\n",
    "Para_0.update(\n",
    "    {'Electrolyte diffusivity [m2.s-1]':\n",
    "    electrolyte_diffusivity_Nyman2008_wEC})\n",
    "Para_0.update(\n",
    "    {'Electrolyte conductivity [S.m-1]':\n",
    "    electrolyte_conductivity_Nyman2008_wEC})"
   ]
  },
  {
   "cell_type": "code",
   "execution_count": 35,
   "metadata": {},
   "outputs": [
    {
     "name": "stderr",
     "output_type": "stream",
     "text": [
      "At t = 0.00196464, , mxstep steps taken before reaching tout.\n",
      "At t = 0.000646409, , mxstep steps taken before reaching tout.\n",
      "At t = 0.000557417, , mxstep steps taken before reaching tout.\n",
      "At t = 0.000557417, , mxstep steps taken before reaching tout.\n",
      "At t = 0.000557417, , mxstep steps taken before reaching tout.\n",
      "At t = 0.000217127, , mxstep steps taken before reaching tout.\n",
      "At t = 4.87853e-005, , mxstep steps taken before reaching tout.\n",
      "At t = 4.87853e-005, , mxstep steps taken before reaching tout.\n",
      "At t = 9.72306e-006, , mxstep steps taken before reaching tout.\n",
      "At t = 9.72449e-006, , mxstep steps taken before reaching tout.\n",
      "At t = 9.72477e-006, , mxstep steps taken before reaching tout.\n",
      "At t = 4.84061e-006, , mxstep steps taken before reaching tout.\n",
      "At t = 2.3996e-006, , mxstep steps taken before reaching tout.\n",
      "At t = 1.17838e-006, , mxstep steps taken before reaching tout.\n",
      "At t = 5.68342e-007, , mxstep steps taken before reaching tout.\n",
      "At t = 2.63337e-007, , mxstep steps taken before reaching tout.\n",
      "At t = 1.11036e-007, , mxstep steps taken before reaching tout.\n",
      "At t = 3.46337e-008, , mxstep steps taken before reaching tout.\n",
      "At t = 3.46303e-008, , mxstep steps taken before reaching tout.\n",
      "At t = 1.5513e-008, , mxstep steps taken before reaching tout.\n",
      "At t = 6.02479e-009, , mxstep steps taken before reaching tout.\n",
      "At t = 1.30769e-009, , mxstep steps taken before reaching tout.\n",
      "At t = 1.30925e-009, , mxstep steps taken before reaching tout.\n",
      "At t = 1.33527e-010, , mxstep steps taken before reaching tout.\n"
     ]
    },
    {
     "ename": "KeyboardInterrupt",
     "evalue": "",
     "output_type": "error",
     "traceback": [
      "\u001b[1;31m---------------------------------------------------------------------------\u001b[0m",
      "\u001b[1;31mKeyboardInterrupt\u001b[0m                         Traceback (most recent call last)",
      "\u001b[1;32md:\\GitPyBaMM\\LRH_409\\LRH_409\\envPBGEM\\PyBaMM-GEM\\wip\\Rio_Code\\P3_R3_withPostProsess\\a4_diff_cond_c_EC.ipynb Cell 6\u001b[0m in \u001b[0;36m<cell line: 9>\u001b[1;34m()\u001b[0m\n\u001b[0;32m      <a href='vscode-notebook-cell:/d%3A/GitPyBaMM/LRH_409/LRH_409/envPBGEM/PyBaMM-GEM/wip/Rio_Code/P3_R3_withPostProsess/a4_diff_cond_c_EC.ipynb#W4sZmlsZQ%3D%3D?line=0'>1</a>\u001b[0m Sim_Landes_ddiff    \u001b[39m=\u001b[39m pybamm\u001b[39m.\u001b[39mSimulation(\n\u001b[0;32m      <a href='vscode-notebook-cell:/d%3A/GitPyBaMM/LRH_409/LRH_409/envPBGEM/PyBaMM-GEM/wip/Rio_Code/P3_R3_withPostProsess/a4_diff_cond_c_EC.ipynb#W4sZmlsZQ%3D%3D?line=1'>2</a>\u001b[0m     Model_ddiff, experiment \u001b[39m=\u001b[39m Experiment_Long,\n\u001b[0;32m      <a href='vscode-notebook-cell:/d%3A/GitPyBaMM/LRH_409/LRH_409/envPBGEM/PyBaMM-GEM/wip/Rio_Code/P3_R3_withPostProsess/a4_diff_cond_c_EC.ipynb#W4sZmlsZQ%3D%3D?line=2'>3</a>\u001b[0m     parameter_values \u001b[39m=\u001b[39m Para_0,\n\u001b[0;32m      <a href='vscode-notebook-cell:/d%3A/GitPyBaMM/LRH_409/LRH_409/envPBGEM/PyBaMM-GEM/wip/Rio_Code/P3_R3_withPostProsess/a4_diff_cond_c_EC.ipynb#W4sZmlsZQ%3D%3D?line=3'>4</a>\u001b[0m     solver \u001b[39m=\u001b[39m pybamm\u001b[39m.\u001b[39mCasadiSolver(),)   \n\u001b[0;32m      <a href='vscode-notebook-cell:/d%3A/GitPyBaMM/LRH_409/LRH_409/envPBGEM/PyBaMM-GEM/wip/Rio_Code/P3_R3_withPostProsess/a4_diff_cond_c_EC.ipynb#W4sZmlsZQ%3D%3D?line=4'>5</a>\u001b[0m Sim_Landes_sdiff    \u001b[39m=\u001b[39m pybamm\u001b[39m.\u001b[39mSimulation(\n\u001b[0;32m      <a href='vscode-notebook-cell:/d%3A/GitPyBaMM/LRH_409/LRH_409/envPBGEM/PyBaMM-GEM/wip/Rio_Code/P3_R3_withPostProsess/a4_diff_cond_c_EC.ipynb#W4sZmlsZQ%3D%3D?line=5'>6</a>\u001b[0m     Model_sdiff, experiment \u001b[39m=\u001b[39m Experiment_Long,\n\u001b[0;32m      <a href='vscode-notebook-cell:/d%3A/GitPyBaMM/LRH_409/LRH_409/envPBGEM/PyBaMM-GEM/wip/Rio_Code/P3_R3_withPostProsess/a4_diff_cond_c_EC.ipynb#W4sZmlsZQ%3D%3D?line=6'>7</a>\u001b[0m     parameter_values \u001b[39m=\u001b[39m Para_0,\n\u001b[0;32m      <a href='vscode-notebook-cell:/d%3A/GitPyBaMM/LRH_409/LRH_409/envPBGEM/PyBaMM-GEM/wip/Rio_Code/P3_R3_withPostProsess/a4_diff_cond_c_EC.ipynb#W4sZmlsZQ%3D%3D?line=7'>8</a>\u001b[0m     solver \u001b[39m=\u001b[39m pybamm\u001b[39m.\u001b[39mCasadiSolver(),)  \n\u001b[1;32m----> <a href='vscode-notebook-cell:/d%3A/GitPyBaMM/LRH_409/LRH_409/envPBGEM/PyBaMM-GEM/wip/Rio_Code/P3_R3_withPostProsess/a4_diff_cond_c_EC.ipynb#W4sZmlsZQ%3D%3D?line=8'>9</a>\u001b[0m Sol_Landes_ddiff    \u001b[39m=\u001b[39m Sim_Landes_ddiff\u001b[39m.\u001b[39;49msolve();\n\u001b[0;32m     <a href='vscode-notebook-cell:/d%3A/GitPyBaMM/LRH_409/LRH_409/envPBGEM/PyBaMM-GEM/wip/Rio_Code/P3_R3_withPostProsess/a4_diff_cond_c_EC.ipynb#W4sZmlsZQ%3D%3D?line=9'>10</a>\u001b[0m Sol_Landes_sdiff    \u001b[39m=\u001b[39m Sim_Landes_sdiff\u001b[39m.\u001b[39msolve()\n",
      "File \u001b[1;32md:\\gitpybamm\\lrh_409\\lrh_409\\envpbgem\\pybamm-gem\\pybamm\\simulation.py:829\u001b[0m, in \u001b[0;36mSimulation.solve\u001b[1;34m(self, t_eval, solver, check_model, save_at_cycles, calc_esoh, starting_solution, initial_soc, callbacks, **kwargs)\u001b[0m\n\u001b[0;32m    827\u001b[0m npts \u001b[39m=\u001b[39m \u001b[39mmax\u001b[39m(\u001b[39mint\u001b[39m(\u001b[39mround\u001b[39m(dt \u001b[39m/\u001b[39m exp_inputs[\u001b[39m\"\u001b[39m\u001b[39mperiod\u001b[39m\u001b[39m\"\u001b[39m])) \u001b[39m+\u001b[39m \u001b[39m1\u001b[39m, \u001b[39m2\u001b[39m)\n\u001b[0;32m    828\u001b[0m \u001b[39mtry\u001b[39;00m:\n\u001b[1;32m--> 829\u001b[0m     step_solution \u001b[39m=\u001b[39m solver\u001b[39m.\u001b[39mstep(\n\u001b[0;32m    830\u001b[0m         current_solution,\n\u001b[0;32m    831\u001b[0m         model,\n\u001b[0;32m    832\u001b[0m         dt,\n\u001b[0;32m    833\u001b[0m         npts\u001b[39m=\u001b[39mnpts,\n\u001b[0;32m    834\u001b[0m         save\u001b[39m=\u001b[39m\u001b[39mFalse\u001b[39;00m,\n\u001b[0;32m    835\u001b[0m         \u001b[39m*\u001b[39m\u001b[39m*\u001b[39mkwargs,\n\u001b[0;32m    836\u001b[0m     )\n\u001b[0;32m    837\u001b[0m \u001b[39mexcept\u001b[39;00m pybamm\u001b[39m.\u001b[39mSolverError \u001b[39mas\u001b[39;00m e:\n\u001b[0;32m    838\u001b[0m     logs[\u001b[39m\"\u001b[39m\u001b[39merror\u001b[39m\u001b[39m\"\u001b[39m] \u001b[39m=\u001b[39m e\n",
      "File \u001b[1;32md:\\gitpybamm\\lrh_409\\lrh_409\\envpbgem\\pybamm-gem\\pybamm\\solvers\\base_solver.py:1322\u001b[0m, in \u001b[0;36mBaseSolver.step\u001b[1;34m(self, old_solution, model, dt, npts, external_variables, inputs, save)\u001b[0m\n\u001b[0;32m   1315\u001b[0m pybamm\u001b[39m.\u001b[39mlogger\u001b[39m.\u001b[39mverbose(\n\u001b[0;32m   1316\u001b[0m     \u001b[39m\"\u001b[39m\u001b[39mStepping for \u001b[39m\u001b[39m{:.0f}\u001b[39;00m\u001b[39m < t < \u001b[39m\u001b[39m{:.0f}\u001b[39;00m\u001b[39m\"\u001b[39m\u001b[39m.\u001b[39mformat(\n\u001b[0;32m   1317\u001b[0m         t \u001b[39m*\u001b[39m model\u001b[39m.\u001b[39mtimescale_eval,\n\u001b[0;32m   1318\u001b[0m         (t \u001b[39m+\u001b[39m dt_dimensionless) \u001b[39m*\u001b[39m model\u001b[39m.\u001b[39mtimescale_eval,\n\u001b[0;32m   1319\u001b[0m     )\n\u001b[0;32m   1320\u001b[0m )\n\u001b[0;32m   1321\u001b[0m timer\u001b[39m.\u001b[39mreset()\n\u001b[1;32m-> 1322\u001b[0m solution \u001b[39m=\u001b[39m \u001b[39mself\u001b[39;49m\u001b[39m.\u001b[39;49m_integrate(model, t_eval, ext_and_inputs)\n\u001b[0;32m   1323\u001b[0m solution\u001b[39m.\u001b[39msolve_time \u001b[39m=\u001b[39m timer\u001b[39m.\u001b[39mtime()\n\u001b[0;32m   1325\u001b[0m \u001b[39m# Check if extrapolation occurred\u001b[39;00m\n",
      "File \u001b[1;32md:\\gitpybamm\\lrh_409\\lrh_409\\envpbgem\\pybamm-gem\\pybamm\\solvers\\casadi_solver.py:281\u001b[0m, in \u001b[0;36mCasadiSolver._integrate\u001b[1;34m(self, model, t_eval, inputs_dict)\u001b[0m\n\u001b[0;32m    279\u001b[0m \u001b[39m# append solution from the current step to solution\u001b[39;00m\n\u001b[0;32m    280\u001b[0m solution \u001b[39m=\u001b[39m solution \u001b[39m+\u001b[39m current_step_sol\n\u001b[1;32m--> 281\u001b[0m \u001b[39mif\u001b[39;00m current_step_sol\u001b[39m.\u001b[39;49mtermination \u001b[39m==\u001b[39m \u001b[39m\"\u001b[39m\u001b[39mevent\u001b[39m\u001b[39m\"\u001b[39m:\n\u001b[0;32m    282\u001b[0m     \u001b[39mbreak\u001b[39;00m\n\u001b[0;32m    283\u001b[0m \u001b[39melse\u001b[39;00m:\n\u001b[0;32m    284\u001b[0m     \u001b[39m# update time\u001b[39;00m\n",
      "File \u001b[1;32md:\\gitpybamm\\lrh_409\\lrh_409\\envpbgem\\pybamm-gem\\pybamm\\solvers\\solution.py:374\u001b[0m, in \u001b[0;36mSolution.termination\u001b[1;34m(self)\u001b[0m\n\u001b[0;32m    371\u001b[0m \u001b[39m@property\u001b[39m\n\u001b[0;32m    372\u001b[0m \u001b[39mdef\u001b[39;00m \u001b[39mtermination\u001b[39m(\u001b[39mself\u001b[39m):\n\u001b[0;32m    373\u001b[0m     \u001b[39m\"\"\"Reason for termination\"\"\"\u001b[39;00m\n\u001b[1;32m--> 374\u001b[0m     \u001b[39mreturn\u001b[39;00m \u001b[39mself\u001b[39;49m\u001b[39m.\u001b[39;49m_termination\n",
      "\u001b[1;31mKeyboardInterrupt\u001b[0m: "
     ]
    }
   ],
   "source": [
    "Sim_Landes_ddiff    = pybamm.Simulation(\n",
    "    Model_ddiff, experiment = Experiment_Long,\n",
    "    parameter_values = Para_0,\n",
    "    solver = pybamm.CasadiSolver(),)   \n",
    "Sim_Landes_sdiff    = pybamm.Simulation(\n",
    "    Model_sdiff, experiment = Experiment_Long,\n",
    "    parameter_values = Para_0,\n",
    "    solver = pybamm.CasadiSolver(),)  \n",
    "Sol_Landes_ddiff    = Sim_Landes_ddiff.solve();\n",
    "Sol_Landes_sdiff    = Sim_Landes_sdiff.solve();"
   ]
  },
  {
   "cell_type": "code",
   "execution_count": null,
   "metadata": {},
   "outputs": [],
   "source": []
  },
  {
   "cell_type": "code",
   "execution_count": null,
   "metadata": {},
   "outputs": [],
   "source": []
  }
 ],
 "metadata": {
  "kernelspec": {
   "display_name": "Python 3.9.6 ('envPBGEM')",
   "language": "python",
   "name": "python3"
  },
  "language_info": {
   "codemirror_mode": {
    "name": "ipython",
    "version": 3
   },
   "file_extension": ".py",
   "mimetype": "text/x-python",
   "name": "python",
   "nbconvert_exporter": "python",
   "pygments_lexer": "ipython3",
   "version": "3.9.6"
  },
  "orig_nbformat": 4,
  "vscode": {
   "interpreter": {
    "hash": "83fab7fbb3a8fe7b5910804f702478ef63e2cc6a08d85072a5d68865ed0fd8c7"
   }
  }
 },
 "nbformat": 4,
 "nbformat_minor": 2
}
