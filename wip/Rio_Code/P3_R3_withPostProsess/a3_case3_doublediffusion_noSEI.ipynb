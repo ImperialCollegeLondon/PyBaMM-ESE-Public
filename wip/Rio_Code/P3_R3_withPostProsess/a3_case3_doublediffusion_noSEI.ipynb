{
 "cells": [
  {
   "cell_type": "code",
   "execution_count": 1,
   "metadata": {},
   "outputs": [],
   "source": [
    "# check whether Li+ is increased in electrolyte with replenishment "
   ]
  },
  {
   "cell_type": "code",
   "execution_count": 2,
   "metadata": {},
   "outputs": [],
   "source": [
    "import pybamm as pybamm;import pandas as pd   ;import numpy as np;import os;import matplotlib.pyplot as plt;import os; #import imageio\n",
    "from scipy.io import savemat,loadmat;from pybamm import constants,exp;import matplotlib as mpl; fs=17; # or we can set import matplotlib.pyplot as plt then say 'mpl.rc...'\n",
    "for k in range(0,1):\n",
    "    mpl.rcParams[\"axes.labelsize\"] = fs\n",
    "    mpl.rcParams[\"axes.titlesize\"] = fs\n",
    "    mpl.rcParams[\"xtick.labelsize\"] =  fs\n",
    "    mpl.rcParams[\"ytick.labelsize\"] =  fs\n",
    "    mpl.rcParams[\"legend.fontsize\"] =  fs\n",
    "    mpl.rcParams['font.sans-serif'] = ['Times New Roman']\n",
    "    mpl.rcParams['font.serif'] = ['Times New Roman']\n",
    "    mpl.rcParams['axes.unicode_minus'] = False"
   ]
  },
  {
   "cell_type": "code",
   "execution_count": 3,
   "metadata": {},
   "outputs": [],
   "source": [
    "from pybamm import constants, Parameter\n",
    "\n",
    "def t_plus_tanh( c_e,c_EC, T  ):\n",
    "    ratio = c_EC / c_e\n",
    "    coff = 0.3\n",
    "    return coff/2 + coff/2 *  pybamm.tanh((ratio-2.7705)*2)\n"
   ]
  },
  {
   "cell_type": "code",
   "execution_count": 4,
   "metadata": {},
   "outputs": [],
   "source": [
    "V_max = 4.2;        V_min = 2.5;\n",
    "Diff_SEI = 1.700000000000002e-20;    R_SEI = 2E5;   Bulk_Sol_Con = 4541.0;\n",
    "Experiment_Long   = pybamm.Experiment( [ (\n",
    "    f\"Discharge at 1 C until {V_min} V\", \n",
    "    f\"Charge at 0.3 C until {V_max} V\", \n",
    "    f\"Hold at {V_max} V until C/5\")    ] * 1 )  "
   ]
  },
  {
   "cell_type": "code",
   "execution_count": 5,
   "metadata": {},
   "outputs": [
    {
     "name": "stdout",
     "output_type": "stream",
     "text": [
      "turn source term due to Li+ migration anymore\n",
      "have you come here?\n"
     ]
    }
   ],
   "source": [
    "Model_ddiff = pybamm.lithium_ion.DFN(     \n",
    "    options={\"solvent diffusion\": \"EC\"     } )\n",
    "Model_sdiff = pybamm.lithium_ion.DFN(     \n",
    "    options={\"solvent diffusion\": \"none\"     } )\n",
    "ChemistryChen=pybamm.parameter_sets.Chen2020 \n",
    "ChemistryChen[\"electrolyte\"] = \"lipf6_EMC_FEC_19_1_Landesfeind2019\";\n",
    "Para_0=pybamm.ParameterValues(chemistry=ChemistryChen);\n",
    "Para_0.update({'Outer SEI solvent diffusivity [m2.s-1]':8e-19})\n",
    "\n",
    "Para_0['EC Lithium ion cross diffusivity [m2.s-1]'] = 1.5e-9/1e2;\n",
    "Para_0['Typical EC Lithium ion cross diffusivity [m2.s-1]'] =   1.5e-9/1e2\n",
    "Para_0['EC transference number'] =    -1.4\n",
    "Para_0['EC diffusivity in electrolyte [m2.s-1]'] =  5E-12;\n",
    "Para_0['Electrolyte diffusivity [m2.s-1]'] =   3E-10;"
   ]
  },
  {
   "cell_type": "markdown",
   "metadata": {},
   "source": [
    "Para_0.search(\"diffusivity\")\n",
    "gamma_e_ec_Rio = Para_0.evaluate(Model_ddiff.param.gamma_e_ec_Rio)  \n",
    "print(gamma_e_ec_Rio)"
   ]
  },
  {
   "cell_type": "code",
   "execution_count": 6,
   "metadata": {},
   "outputs": [],
   "source": [
    "Sim_Landes_ddiff    = pybamm.Simulation(\n",
    "    Model_ddiff, experiment = Experiment_Long,\n",
    "    parameter_values = Para_0,\n",
    "    solver = pybamm.CasadiSolver(),)   \n",
    "Sim_Landes_sdiff    = pybamm.Simulation(\n",
    "    Model_sdiff, experiment = Experiment_Long,\n",
    "    parameter_values = Para_0,\n",
    "    solver = pybamm.CasadiSolver(),)  \n",
    "Sol_Landes_ddiff    = Sim_Landes_ddiff.solve();\n",
    "Sol_Landes_sdiff    = Sim_Landes_sdiff.solve();\n"
   ]
  },
  {
   "cell_type": "code",
   "execution_count": 9,
   "metadata": {},
   "outputs": [],
   "source": [
    "Para_0.update({'Cation transference number':t_plus_tanh})\n",
    "Experiment_s   = pybamm.Experiment( [ (\n",
    "    f\"Discharge at 1 C for 1740 s\",  ) ] * 1 )  \n",
    "Sim_tanh_ddiff    = pybamm.Simulation(\n",
    "    Model_ddiff, experiment = Experiment_s,\n",
    "    parameter_values = Para_0,\n",
    "    solver = pybamm.CasadiSolver(),)  \n",
    "Sim_tanh_sdiff    = pybamm.Simulation(\n",
    "    Model_sdiff, experiment = Experiment_s,\n",
    "    parameter_values = Para_0,\n",
    "    solver = pybamm.CasadiSolver(),)  \n",
    "Sol_tanh_ddiff    = Sim_tanh_ddiff.solve();\n",
    "Sol_tanh_sdiff    = Sim_tanh_sdiff.solve();\n"
   ]
  },
  {
   "cell_type": "code",
   "execution_count": 8,
   "metadata": {},
   "outputs": [],
   "source": [
    "Para_0.update({'Cation transference number':0.3})\n",
    "Sim_0p3_ddiff    = pybamm.Simulation(\n",
    "    Model_ddiff, experiment = Experiment_Long,\n",
    "    parameter_values = Para_0,\n",
    "    solver = pybamm.CasadiSolver(),)  \n",
    "Sim_0p3_sdiff    = pybamm.Simulation(\n",
    "    Model_sdiff, experiment = Experiment_Long,\n",
    "    parameter_values = Para_0,\n",
    "    solver = pybamm.CasadiSolver(),)  \n",
    "Sol_0p3_ddiff    = Sim_0p3_ddiff.solve();\n",
    "Sol_0p3_sdiff    = Sim_0p3_sdiff.solve();"
   ]
  },
  {
   "cell_type": "code",
   "execution_count": 15,
   "metadata": {},
   "outputs": [],
   "source": [
    "Para_0.update({'Cation transference number':3e-4})\n",
    "Sim_3e_4_ddiff    = pybamm.Simulation(\n",
    "    Model_ddiff, experiment = Experiment_Long,\n",
    "    parameter_values = Para_0,\n",
    "    solver = pybamm.CasadiSolver(),)  \n",
    "Sim_3e_4_sdiff    = pybamm.Simulation(\n",
    "    Model_sdiff, experiment = Experiment_Long,\n",
    "    parameter_values = Para_0,\n",
    "    solver = pybamm.CasadiSolver(),)  \n",
    "Sol_3e_4_ddiff    = Sim_3e_4_ddiff.solve();\n",
    "Sol_3e_4_sdiff    = Sim_3e_4_sdiff.solve();"
   ]
  },
  {
   "cell_type": "code",
   "execution_count": null,
   "metadata": {},
   "outputs": [
    {
     "name": "stdout",
     "output_type": "stream",
     "text": [
      "Current collector current density\n",
      "Current collector current density [A.m-2]\n",
      "Current density variable\n",
      "Electrode current density\n",
      "Electrolyte current density\n",
      "Electrolyte current density [A.m-2]\n",
      "Exchange current density\n",
      "Exchange current density [A.m-2]\n",
      "Inner SEI interfacial current density\n",
      "Inner SEI interfacial current density [A.m-2]\n",
      "Inner SEI on cracks interfacial current density\n",
      "Inner SEI on cracks interfacial current density [A.m-2]\n",
      "Interfacial current density\n",
      "Interfacial current density [A.m-2]\n",
      "Leading-order current collector current density\n",
      "Lithium plating interfacial current density\n",
      "Lithium plating interfacial current density [A.m-2]\n",
      "Negative electrode SEI interfacial current density\n",
      "Negative electrode SEI interfacial current density [A.m-2]\n",
      "Negative electrode SEI on cracks interfacial current density\n",
      "Negative electrode SEI on cracks interfacial current density [A.m-2]\n",
      "Negative electrode SEI on cracks volumetric interfacial current density\n",
      "Negative electrode SEI on cracks volumetric interfacial current density [A.m-3]\n",
      "Negative electrode SEI volumetric interfacial current density\n",
      "Negative electrode SEI volumetric interfacial current density [A.m-3]\n",
      "Negative electrode current density\n",
      "Negative electrode current density [A.m-2]\n",
      "Negative electrode exchange current density\n",
      "Negative electrode exchange current density [A.m-2]\n",
      "Negative electrode interfacial current density\n",
      "Negative electrode interfacial current density [A.m-2]\n",
      "Negative electrode lithium plating interfacial current density\n",
      "Negative electrode lithium plating interfacial current density [A.m-2]\n",
      "Negative electrode lithium plating volumetric interfacial current density\n",
      "Negative electrode lithium plating volumetric interfacial current density [A.m-3]\n",
      "Negative electrode volumetric interfacial current density\n",
      "Negative electrode volumetric interfacial current density [A.m-3]\n",
      "Outer SEI interfacial current density\n",
      "Outer SEI interfacial current density [A.m-2]\n",
      "Outer SEI on cracks interfacial current density\n",
      "Outer SEI on cracks interfacial current density [A.m-2]\n",
      "Positive electrode SEI interfacial current density\n",
      "Positive electrode SEI interfacial current density [A.m-2]\n",
      "Positive electrode SEI on cracks interfacial current density\n",
      "Positive electrode SEI on cracks interfacial current density [A.m-2]\n",
      "Positive electrode SEI on cracks volumetric interfacial current density\n",
      "Positive electrode SEI volumetric interfacial current density\n",
      "Positive electrode current density\n",
      "Positive electrode current density [A.m-2]\n",
      "Positive electrode exchange current density\n",
      "Positive electrode exchange current density [A.m-2]\n",
      "Positive electrode interfacial current density\n",
      "Positive electrode interfacial current density [A.m-2]\n",
      "Positive electrode lithium plating interfacial current density\n",
      "Positive electrode lithium plating interfacial current density [A.m-2]\n",
      "Positive electrode lithium plating volumetric interfacial current density\n",
      "Positive electrode volumetric interfacial current density\n",
      "Positive electrode volumetric interfacial current density [A.m-3]\n",
      "SEI interfacial current density\n",
      "SEI interfacial current density [A.m-2]\n",
      "SEI on cracks interfacial current density\n",
      "SEI on cracks interfacial current density [A.m-2]\n",
      "Total current density\n",
      "Total current density [A.m-2]\n",
      "X-averaged SEI interfacial current density\n",
      "X-averaged SEI interfacial current density [A.m-2]\n",
      "X-averaged SEI on cracks interfacial current density\n",
      "X-averaged SEI on cracks interfacial current density [A.m-2]\n",
      "X-averaged inner SEI interfacial current density\n",
      "X-averaged inner SEI interfacial current density [A.m-2]\n",
      "X-averaged inner SEI on cracks interfacial current density\n",
      "X-averaged inner SEI on cracks interfacial current density [A.m-2]\n",
      "X-averaged lithium plating interfacial current density\n",
      "X-averaged lithium plating interfacial current density [A.m-2]\n",
      "X-averaged negative electrode SEI interfacial current density\n",
      "X-averaged negative electrode SEI on cracks interfacial current density\n",
      "X-averaged negative electrode SEI on cracks volumetric interfacial current density\n",
      "X-averaged negative electrode SEI on cracks volumetric interfacial current density [A.m-3]\n",
      "X-averaged negative electrode SEI volumetric interfacial current density\n",
      "X-averaged negative electrode SEI volumetric interfacial current density [A.m-3]\n",
      "X-averaged negative electrode exchange current density\n",
      "X-averaged negative electrode exchange current density [A.m-2]\n",
      "X-averaged negative electrode interfacial current density\n",
      "X-averaged negative electrode interfacial current density [A.m-2]\n",
      "X-averaged negative electrode lithium plating interfacial current density\n",
      "X-averaged negative electrode lithium plating volumetric interfacial current density\n",
      "X-averaged negative electrode lithium plating volumetric interfacial current density [A.m-3]\n",
      "X-averaged negative electrode total interfacial current density\n",
      "X-averaged negative electrode total interfacial current density [A.m-2]\n",
      "X-averaged negative electrode volumetric interfacial current density\n",
      "X-averaged negative electrode volumetric interfacial current density [A.m-3]\n",
      "X-averaged outer SEI interfacial current density\n",
      "X-averaged outer SEI interfacial current density [A.m-2]\n",
      "X-averaged outer SEI on cracks interfacial current density\n",
      "X-averaged outer SEI on cracks interfacial current density [A.m-2]\n",
      "X-averaged positive electrode SEI interfacial current density\n",
      "X-averaged positive electrode SEI on cracks interfacial current density\n",
      "X-averaged positive electrode SEI on cracks volumetric interfacial current density\n",
      "X-averaged positive electrode SEI volumetric interfacial current density\n",
      "X-averaged positive electrode exchange current density\n",
      "X-averaged positive electrode exchange current density [A.m-2]\n",
      "X-averaged positive electrode interfacial current density\n",
      "X-averaged positive electrode interfacial current density [A.m-2]\n",
      "X-averaged positive electrode lithium plating interfacial current density\n",
      "X-averaged positive electrode lithium plating volumetric interfacial current density\n",
      "X-averaged positive electrode total interfacial current density\n",
      "X-averaged positive electrode total interfacial current density [A.m-2]\n",
      "X-averaged positive electrode volumetric interfacial current density\n",
      "X-averaged positive electrode volumetric interfacial current density [A.m-3]\n"
     ]
    }
   ],
   "source": [
    "Model_ddiff.variables.search('current density')"
   ]
  },
  {
   "cell_type": "code",
   "execution_count": 25,
   "metadata": {},
   "outputs": [],
   "source": [
    "Li_eley_Landes_ddiff = Sol_Landes_ddiff[\"Total lithium in electrolyte [mol]\"].entries\n",
    "Li_part_Landes_ddiff = Sol_Landes_ddiff[\"Total lithium in particles [mol]\"].entries\n",
    "Li_tota_Landes_ddiff = Sol_Landes_ddiff[\"Total lithium [mol]\"].entries\n",
    "EC_eleySEI_Landes_ddiff = Sol_Landes_ddiff[\"Total EC in electrolyte and SEI [mol]\"].entries\n",
    "t_Landes_ddiff = Sol_Landes_ddiff[\"Time [h]\"].entries\n",
    "\n",
    "Li_eley_Landes_sdiff = Sol_Landes_sdiff[\"Total lithium in electrolyte [mol]\"].entries\n",
    "Li_part_Landes_sdiff = Sol_Landes_sdiff[\"Total lithium in particles [mol]\"].entries\n",
    "Li_tota_Landes_sdiff = Sol_Landes_sdiff[\"Total lithium [mol]\"].entries\n",
    "EC_eleySEI_Landes_sdiff = Sol_Landes_sdiff[\"Total EC in electrolyte and SEI [mol]\"].entries\n",
    "t_Landes_sdiff = Sol_Landes_sdiff[\"Time [h]\"].entries\n",
    "\n",
    "Li_eley_tanh_ddiff = Sol_tanh_ddiff[\"Total lithium in electrolyte [mol]\"].entries\n",
    "Li_part_tanh_ddiff = Sol_tanh_ddiff[\"Total lithium in particles [mol]\"].entries\n",
    "Li_tota_tanh_ddiff = Sol_tanh_ddiff[\"Total lithium [mol]\"].entries\n",
    "EC_eleySEI_tanh_ddiff = Sol_tanh_ddiff[\"Total EC in electrolyte and SEI [mol]\"].entries\n",
    "t_tanh_ddiff = Sol_tanh_ddiff[\"Time [h]\"].entries\n",
    "\n",
    "Li_eley_tanh_sdiff = Sol_tanh_sdiff[\"Total lithium in electrolyte [mol]\"].entries\n",
    "Li_part_tanh_sdiff = Sol_tanh_sdiff[\"Total lithium in particles [mol]\"].entries\n",
    "Li_tota_tanh_sdiff = Sol_tanh_sdiff[\"Total lithium [mol]\"].entries\n",
    "EC_eleySEI_tanh_sdiff = Sol_tanh_sdiff[\"Total EC in electrolyte and SEI [mol]\"].entries\n",
    "t_tanh_sdiff = Sol_tanh_sdiff[\"Time [h]\"].entries\n",
    "\n",
    "Li_eley_0p3_ddiff = Sol_0p3_ddiff[\"Total lithium in electrolyte [mol]\"].entries\n",
    "Li_part_0p3_ddiff = Sol_0p3_ddiff[\"Total lithium in particles [mol]\"].entries\n",
    "Li_tota_0p3_ddiff = Sol_0p3_ddiff[\"Total lithium [mol]\"].entries\n",
    "EC_eleySEI_0p3_ddiff = Sol_0p3_ddiff[\"Total EC in electrolyte and SEI [mol]\"].entries\n",
    "t_0p3_ddiff = Sol_0p3_ddiff[\"Time [h]\"].entries\n",
    "\n",
    "Li_eley_0p3_sdiff = Sol_0p3_sdiff[\"Total lithium in electrolyte [mol]\"].entries\n",
    "Li_part_0p3_sdiff = Sol_0p3_sdiff[\"Total lithium in particles [mol]\"].entries\n",
    "Li_tota_0p3_sdiff = Sol_0p3_sdiff[\"Total lithium [mol]\"].entries\n",
    "EC_eleySEI_0p3_sdiff = Sol_0p3_sdiff[\"Total EC in electrolyte and SEI [mol]\"].entries\n",
    "t_0p3_sdiff = Sol_0p3_sdiff[\"Time [h]\"].entries\n",
    "\n",
    "Li_eley_3e_4_sdiff = Sol_3e_4_sdiff[\"Total lithium in electrolyte [mol]\"].entries\n",
    "Li_part_3e_4_sdiff = Sol_3e_4_sdiff[\"Total lithium in particles [mol]\"].entries\n",
    "Li_tota_3e_4_sdiff = Sol_3e_4_sdiff[\"Total lithium [mol]\"].entries\n",
    "EC_eleySEI_3e_4_sdiff = Sol_3e_4_sdiff[\"Total EC in electrolyte and SEI [mol]\"].entries\n",
    "t_3e_4_sdiff = Sol_3e_4_sdiff[\"Time [h]\"].entries\n",
    "\n",
    "Li_eley_3e_4_ddiff = Sol_3e_4_ddiff[\"Total lithium in electrolyte [mol]\"].entries\n",
    "Li_part_3e_4_ddiff = Sol_3e_4_ddiff[\"Total lithium in particles [mol]\"].entries\n",
    "Li_tota_3e_4_ddiff = Sol_3e_4_ddiff[\"Total lithium [mol]\"].entries\n",
    "EC_eleySEI_3e_4_ddiff = Sol_3e_4_ddiff[\"Total EC in electrolyte and SEI [mol]\"].entries\n",
    "t_3e_4_ddiff = Sol_3e_4_ddiff[\"Time [h]\"].entries"
   ]
  },
  {
   "cell_type": "code",
   "execution_count": 35,
   "metadata": {},
   "outputs": [
    {
     "data": {
      "text/plain": [
       "<matplotlib.legend.Legend at 0x269f5100a30>"
      ]
     },
     "execution_count": 35,
     "metadata": {},
     "output_type": "execute_result"
    },
    {
     "data": {
      "image/png": "[encoded data removed]",
      "text/plain": [
       "<Figure size 864x691.2 with 4 Axes>"
      ]
     },
     "metadata": {
      "needs_background": "light"
     },
     "output_type": "display_data"
    }
   ],
   "source": [
    "fig, axs = plt.subplots(2,2, figsize=(12,9.6),tight_layout=True)\n",
    "axs[0,0].plot(t_Landes_ddiff, Li_eley_Landes_ddiff,'-',label=\"Landes_d\")\n",
    "axs[0,0].plot(t_tanh_ddiff, Li_eley_tanh_ddiff,'-',label=\"tanh_d\")\n",
    "axs[0,0].plot(t_0p3_ddiff, Li_eley_0p3_ddiff,'-',label=\"0p3_d\")\n",
    "axs[0,0].plot(t_3e_4_ddiff, Li_eley_3e_4_ddiff,'-',label=\"3e_4_d\")\n",
    "axs[0,0].plot(t_Landes_sdiff, Li_eley_Landes_sdiff,'--',label=\"Landes_s\")\n",
    "axs[0,0].plot(t_tanh_ddiff, Li_eley_tanh_sdiff,'-',label=\"tanh_s\")\n",
    "axs[0,0].plot(t_0p3_sdiff, Li_eley_0p3_sdiff,'--',label=\"0p3_s\")\n",
    "axs[0,0].plot(t_3e_4_sdiff, Li_eley_3e_4_sdiff,'--',label=\"3e_4_s\")\n",
    "\n",
    "axs[1,0].plot(t_Landes_ddiff, Li_part_Landes_ddiff,'-',label=\"Landes_d\")\n",
    "axs[1,0].plot(t_tanh_ddiff, Li_part_tanh_ddiff,'-',label=\"tanh_d\")\n",
    "axs[1,0].plot(t_0p3_ddiff, Li_part_0p3_ddiff,'-',label=\"0p3_d\")\n",
    "axs[1,0].plot(t_3e_4_ddiff, Li_part_3e_4_ddiff,'-',label=\"3e_4_d\")\n",
    "axs[1,0].plot(t_Landes_sdiff, Li_part_Landes_sdiff,'--',label=\"Landes_s\")\n",
    "axs[1,0].plot(t_tanh_sdiff, Li_part_tanh_sdiff,'--',label=\"tanh_s\")\n",
    "axs[1,0].plot(t_0p3_sdiff, Li_part_0p3_sdiff,'-',label=\"0p3_s\")\n",
    "axs[1,0].plot(t_3e_4_sdiff, Li_part_3e_4_sdiff,'--',label=\"3e_4_s\")\n",
    "\n",
    "Min_plt = min(Li_part_3e_4_ddiff); Max_plt = max(Li_part_3e_4_ddiff);\n",
    "axs[1,0].set_ylim(Min_plt*0.95,Max_plt*1.05)\n",
    "\n",
    "axs[0,1].plot(t_Landes_ddiff, Li_tota_Landes_ddiff,'-',label=\"Landes_d\")\n",
    "axs[0,1].plot(t_tanh_ddiff, Li_tota_tanh_ddiff,'-',label=\"tanh_d\")\n",
    "axs[0,1].plot(t_0p3_ddiff, Li_tota_0p3_ddiff,'-',label=\"0p3_d\")\n",
    "axs[0,1].plot(t_3e_4_ddiff, Li_tota_3e_4_ddiff,'-',label=\"3e_4_d\")\n",
    "axs[0,1].plot(t_Landes_sdiff, Li_tota_Landes_sdiff,'--',label=\"Landes_s\")\n",
    "axs[0,1].plot(t_tanh_sdiff, Li_tota_tanh_sdiff,'--',label=\"tanh_s\")\n",
    "axs[0,1].plot(t_0p3_sdiff, Li_tota_0p3_sdiff,'--',label=\"0p3_s\")\n",
    "axs[0,1].plot(t_3e_4_sdiff, Li_tota_3e_4_sdiff,'--',label=\"3e_4_s\")\n",
    "\n",
    "axs[1,1].plot(t_Landes_ddiff, EC_eleySEI_Landes_ddiff,'-',label=\"Landes_d\")\n",
    "axs[1,1].plot(t_tanh_ddiff, EC_eleySEI_tanh_ddiff,'-',label=\"tanh_d\")\n",
    "axs[1,1].plot(t_0p3_ddiff, EC_eleySEI_0p3_ddiff,'-',label=\"0p3_d\")\n",
    "axs[1,1].plot(t_3e_4_ddiff, EC_eleySEI_3e_4_ddiff,'-',label=\"3e_4_d\")\n",
    "axs[1,1].plot(t_Landes_sdiff, EC_eleySEI_Landes_sdiff,'--',label=\"Landes_s\")\n",
    "axs[1,1].plot(t_tanh_sdiff, EC_eleySEI_tanh_sdiff,'--',label=\"tanh_s\")\n",
    "axs[1,1].plot(t_0p3_sdiff, EC_eleySEI_0p3_sdiff,'--',label=\"0p3_s\")\n",
    "axs[1,1].plot(t_3e_4_sdiff, EC_eleySEI_3e_4_sdiff,'--',label=\"3e_4_s\")\n",
    "Min_plt = min(EC_eleySEI_0p3_sdiff); Max_plt = max(EC_eleySEI_0p3_sdiff);\n",
    "axs[1,1].set_ylim(Min_plt*0.95,Max_plt*1.05)\n",
    "\n",
    "axs[0,0].set_title(\"Total lithium in electrolyte\",   fontdict={'family':'DejaVu Sans','size':fs})\n",
    "axs[1,0].set_title(\"Total lithium in particles\",   fontdict={'family':'DejaVu Sans','size':fs})\n",
    "axs[0,1].set_title(\"Total lithium in cell\",   fontdict={'family':'DejaVu Sans','size':fs})\n",
    "axs[1,1].set_title(\"Total EC in electrolyte\",   fontdict={'family':'DejaVu Sans','size':fs})\n",
    "for i in range(0,2):\n",
    "    for j in range(0,2):\n",
    "        axs[i,j].set_xlabel(\"Time [h]\",   fontdict={'family':'DejaVu Sans','size':fs})\n",
    "        axs[i,j].set_ylabel(\"Amount [mol]\",   fontdict={'family':'DejaVu Sans','size':fs})\n",
    "        labels = axs[i,j].get_xticklabels() + axs[i,j].get_yticklabels(); [label.set_fontname('DejaVu Sans') for label in labels]\n",
    "        axs[i,j].tick_params(labelcolor='k', labelsize=fs, width=1) ;  del labels;\n",
    "\n",
    "axs[1,1].legend(prop={'family':'DejaVu Sans','size':fs},loc='best',ncol=2,frameon=False,\n",
    "    markerscale=1,borderpad=0.2,handlelength=1.5,columnspacing=1)    \n"
   ]
  },
  {
   "cell_type": "code",
   "execution_count": 37,
   "metadata": {},
   "outputs": [
    {
     "data": {
      "application/vnd.jupyter.widget-view+json": {
       "model_id": "f19ef6a44d0e4c4d8001004a36a8c47e",
       "version_major": 2,
       "version_minor": 0
      },
      "text/plain": [
       "interactive(children=(FloatSlider(value=0.0, description='t', max=1740.0, step=17.4), Output()), _dom_classes=…"
      ]
     },
     "metadata": {},
     "output_type": "display_data"
    }
   ],
   "source": [
    "label = [\"double diffusion\",\"single diffusion\",] \n",
    "output_variables3 = [\n",
    "    \"Terminal voltage [V]\",   \n",
    "    \"EC concentration [mol.m-3]\",\n",
    "    \"Electrolyte concentration [mol.m-3]\",\n",
    "    #\"Total EC in electrolyte [mol]\",\n",
    "    \"Negative electrode SEI interfacial current density [A.m-2]\",\n",
    "    #\"Loss of capacity to SEI [A.h]\",\n",
    "    #\"Loss of lithium to SEI [mol]\",\n",
    "            \n",
    "]\n",
    "quick_plot = pybamm.QuickPlot([Sol_tanh_ddiff,Sol_tanh_sdiff], output_variables3,label,) #     variable_limits='tight'\n",
    "quick_plot.dynamic_plot();"
   ]
  },
  {
   "cell_type": "code",
   "execution_count": 18,
   "metadata": {},
   "outputs": [
    {
     "data": {
      "application/vnd.jupyter.widget-view+json": {
       "model_id": "b20f74e23ee14b278f7eb12ebcf09f78",
       "version_major": 2,
       "version_minor": 0
      },
      "text/plain": [
       "interactive(children=(FloatSlider(value=0.0, description='t', max=1740.0, step=17.4), Output()), _dom_classes=…"
      ]
     },
     "metadata": {},
     "output_type": "display_data"
    }
   ],
   "source": [
    "label = [\"double diffusion\",\"single diffusion\",] \n",
    "output_variables3 = [\n",
    "    \"Terminal voltage [V]\",   \n",
    "    \"EC concentration [mol.m-3]\",\n",
    "    \"Electrolyte concentration [mol.m-3]\",\n",
    "    #\"Total EC in electrolyte [mol]\",\n",
    "    \"Negative electrode SEI interfacial current density [A.m-2]\",\n",
    "    #\"Loss of capacity to SEI [A.h]\",\n",
    "    #\"Loss of lithium to SEI [mol]\",\n",
    "            \n",
    "]\n",
    "quick_plot = pybamm.QuickPlot([Sol_tanh_ddiff,Sol_tanh_sdiff], output_variables3,label,) #     variable_limits='tight'\n",
    "quick_plot.dynamic_plot();"
   ]
  },
  {
   "cell_type": "code",
   "execution_count": null,
   "metadata": {},
   "outputs": [],
   "source": [
    "label = [\"SEI + double diffusion\",\"SEI + single diffusion\",] \n",
    "output_variables3 = [\n",
    "    \"Terminal voltage [V]\",   \n",
    "    \"Negative electrode SEI interfacial current density [A.m-2]\",\n",
    "    \"Loss of capacity to SEI [A.h]\",\n",
    "    \"Loss of lithium to SEI [mol]\",\n",
    "]\n",
    "quick_plot = pybamm.QuickPlot([Sol_0,Sol_1], output_variables3,label,) #     variable_limits='tight'\n",
    "quick_plot.dynamic_plot();"
   ]
  },
  {
   "cell_type": "code",
   "execution_count": null,
   "metadata": {},
   "outputs": [],
   "source": [
    "label = [\"SEI + double diffusion\",\"SEI + single diffusion\",] \n",
    "output_variables3 = [\n",
    "    \"Total lithium in electrolyte [mol]\",   \n",
    "    \"Total lithium lost from electrolyte [mol]\",\n",
    "    \"Total lithium [mol]\",\n",
    "]\n",
    "quick_plot = pybamm.QuickPlot([Sol_0,Sol_1], output_variables3,label,) #     variable_limits='tight'\n",
    "quick_plot.dynamic_plot();\n"
   ]
  }
 ],
 "metadata": {
  "kernelspec": {
   "display_name": "Python 3.9.6 ('envPBGEM')",
   "language": "python",
   "name": "python3"
  },
  "language_info": {
   "codemirror_mode": {
    "name": "ipython",
    "version": 3
   },
   "file_extension": ".py",
   "mimetype": "text/x-python",
   "name": "python",
   "nbconvert_exporter": "python",
   "pygments_lexer": "ipython3",
   "version": "3.9.6"
  },
  "orig_nbformat": 4,
  "vscode": {
   "interpreter": {
    "hash": "83fab7fbb3a8fe7b5910804f702478ef63e2cc6a08d85072a5d68865ed0fd8c7"
   }
  }
 },
 "nbformat": 4,
 "nbformat_minor": 2
}
