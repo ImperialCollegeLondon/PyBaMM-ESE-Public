{
 "cells": [
  {
   "cell_type": "code",
   "execution_count": null,
   "metadata": {},
   "outputs": [],
   "source": [
    "# check whether Li+ is increased in electrolyte with replenishment "
   ]
  },
  {
   "cell_type": "code",
   "execution_count": null,
   "metadata": {},
   "outputs": [],
   "source": [
    "import pybamm as pybamm;import pandas as pd   ;import numpy as np;import os;import matplotlib.pyplot as plt;import os; #import imageio\n",
    "from scipy.io import savemat,loadmat;from pybamm import constants,exp;import matplotlib as mpl; fs=17; # or we can set import matplotlib.pyplot as plt then say 'mpl.rc...'\n",
    "for k in range(0,1):\n",
    "    mpl.rcParams[\"axes.labelsize\"] = fs\n",
    "    mpl.rcParams[\"axes.titlesize\"] = fs\n",
    "    mpl.rcParams[\"xtick.labelsize\"] =  fs\n",
    "    mpl.rcParams[\"ytick.labelsize\"] =  fs\n",
    "    mpl.rcParams[\"legend.fontsize\"] =  fs\n",
    "    mpl.rcParams['font.sans-serif'] = ['Times New Roman']\n",
    "    mpl.rcParams['font.serif'] = ['Times New Roman']\n",
    "    mpl.rcParams['axes.unicode_minus'] = False"
   ]
  },
  {
   "cell_type": "code",
   "execution_count": null,
   "metadata": {},
   "outputs": [],
   "source": [
    "from pybamm import constants, Parameter\n",
    "\n",
    "def t_plus_tanh( c_e,c_EC, T  ):\n",
    "    ratio = c_EC / c_e\n",
    "    coff = 0.3\n",
    "    return coff/2 + coff/2 *  pybamm.tanh((ratio-2.7705)*2)\n"
   ]
  },
  {
   "cell_type": "code",
   "execution_count": null,
   "metadata": {},
   "outputs": [],
   "source": [
    "V_max = 4.2;        V_min = 2.5;\n",
    "Diff_SEI = 1.7e-20;    R_SEI = 2E5;   Bulk_Sol_Con = 4541.0;\n",
    "Experiment_Long   = pybamm.Experiment( [ (\n",
    "    f\"Discharge at 1 C until {V_min} V\", \n",
    "    f\"Charge at 0.3 C until {V_max} V\", \n",
    "    f\"Hold at {V_max} V until C/5\")    ] * 1 )  "
   ]
  },
  {
   "cell_type": "code",
   "execution_count": null,
   "metadata": {},
   "outputs": [],
   "source": [
    "Model_ddiff = pybamm.lithium_ion.DFN(     \n",
    "    options={\"solvent diffusion\": \"EC\"     } )\n",
    "Model_sdiff = pybamm.lithium_ion.DFN(     \n",
    "    options={\"solvent diffusion\": \"none\"     } )\n",
    "\n",
    "\n",
    "ChemistryChen=pybamm.parameter_sets.Chen2020 \n",
    "ChemistryChen[\"electrolyte\"] = \"lipf6_EMC_FEC_19_1_Landesfeind2019\";\n",
    "Para_0=pybamm.ParameterValues(chemistry=ChemistryChen);\n",
    "Para_0.update({'Outer SEI solvent diffusivity [m2.s-1]':8e-19})\n",
    "\n",
    "Para_0['EC Lithium ion cross diffusivity [m2.s-1]'] = 1.5e-9/1e2;\n",
    "Para_0['Typical EC Lithium ion cross diffusivity [m2.s-1]'] =   1.5e-9/1e2\n",
    "Para_0['EC transference number'] =    -1.4\n",
    "Para_0['EC diffusivity in electrolyte [m2.s-1]'] =  5E-12;\n",
    "Para_0['Electrolyte diffusivity [m2.s-1]'] =   3E-10;\n",
    "\n",
    "\n",
    "c_e_ddiff = Model_ddiff.variables[\"Electrolyte concentration [mol.m-3]\"]\n",
    "T_ddiff = Model_ddiff.variables[\"Cell temperature [K]\"]\n",
    "c_EC_ddiff = Model_ddiff.variables[\"EC concentration [mol.m-3]\"]\n",
    "Model_ddiff.variables[\"Cation transference number tanh\"] = t_plus_tanh(\n",
    "    c_e_ddiff,c_EC_ddiff, T_ddiff)\n",
    "\n",
    "\n",
    "c_e_sdiff = Model_sdiff.variables[\"Electrolyte concentration [mol.m-3]\"]\n",
    "T_sdiff = Model_sdiff.variables[\"Cell temperature [K]\"]\n",
    "c_EC_sdiff = Model_sdiff.variables[\"EC concentration [mol.m-3]\"]\n",
    "Model_sdiff.variables[\"Cation transference number tanh\"] = t_plus_tanh(\n",
    "    c_e_sdiff ,c_EC_sdiff , T_sdiff )\n",
    "\n",
    "t_plus_Landes = Para_0[\"Cation transference number\"]\n",
    "Model_ddiff.variables[\"Cation transference number tanh Landes\"] = t_plus_Landes(\n",
    "    c_e_ddiff,c_EC_ddiff, T_ddiff)\n",
    "Model_sdiff.variables[\"Cation transference number tanh Landes\"] = t_plus_Landes(\n",
    "    c_e_sdiff,c_EC_sdiff, T_sdiff)\n"
   ]
  },
  {
   "cell_type": "markdown",
   "metadata": {},
   "source": [
    "Para_0.search(\"diffusivity\")\n",
    "gamma_e_ec_Rio = Para_0.evaluate(Model_ddiff.param.gamma_e_ec_Rio)  \n",
    "print(gamma_e_ec_Rio)"
   ]
  },
  {
   "cell_type": "code",
   "execution_count": null,
   "metadata": {},
   "outputs": [],
   "source": [
    "Sim_Landes_ddiff    = pybamm.Simulation(\n",
    "    Model_ddiff, experiment = Experiment_Long,\n",
    "    parameter_values = Para_0,\n",
    "    solver = pybamm.CasadiSolver(),)   \n",
    "Sim_Landes_sdiff    = pybamm.Simulation(\n",
    "    Model_sdiff, experiment = Experiment_Long,\n",
    "    parameter_values = Para_0,\n",
    "    solver = pybamm.CasadiSolver(),)  \n",
    "Sol_Landes_ddiff    = Sim_Landes_ddiff.solve();\n",
    "Sol_Landes_sdiff    = Sim_Landes_sdiff.solve();\n"
   ]
  },
  {
   "cell_type": "code",
   "execution_count": null,
   "metadata": {},
   "outputs": [],
   "source": [
    "Para_0.update({'Cation transference number':t_plus_tanh})\n",
    "Experiment_s   = pybamm.Experiment( [ (\n",
    "    f\"Discharge at 1 C for 1740 s\",  ) ] * 1 )  \n",
    "Sim_tanh_ddiff    = pybamm.Simulation(\n",
    "    Model_ddiff, experiment = Experiment_s,\n",
    "    parameter_values = Para_0,\n",
    "    solver = pybamm.CasadiSolver(),)  \n",
    "Sim_tanh_sdiff    = pybamm.Simulation(\n",
    "    Model_sdiff, experiment = Experiment_s,\n",
    "    parameter_values = Para_0,\n",
    "    solver = pybamm.CasadiSolver(),)  \n",
    "Sol_tanh_ddiff    = Sim_tanh_ddiff.solve();\n",
    "Sol_tanh_sdiff    = Sim_tanh_sdiff.solve();\n"
   ]
  },
  {
   "cell_type": "code",
   "execution_count": null,
   "metadata": {},
   "outputs": [],
   "source": [
    "Para_0.update({'Cation transference number':0.3})\n",
    "Sim_0p3_ddiff    = pybamm.Simulation(\n",
    "    Model_ddiff, experiment = Experiment_Long,\n",
    "    parameter_values = Para_0,\n",
    "    solver = pybamm.CasadiSolver(),)  \n",
    "Sim_0p3_sdiff    = pybamm.Simulation(\n",
    "    Model_sdiff, experiment = Experiment_Long,\n",
    "    parameter_values = Para_0,\n",
    "    solver = pybamm.CasadiSolver(),)  \n",
    "Sol_0p3_ddiff    = Sim_0p3_ddiff.solve();\n",
    "Sol_0p3_sdiff    = Sim_0p3_sdiff.solve();"
   ]
  },
  {
   "cell_type": "code",
   "execution_count": null,
   "metadata": {},
   "outputs": [],
   "source": [
    "Para_0.update({'Cation transference number':3e-4})\n",
    "Sim_3e_4_ddiff    = pybamm.Simulation(\n",
    "    Model_ddiff, experiment = Experiment_Long,\n",
    "    parameter_values = Para_0,\n",
    "    solver = pybamm.CasadiSolver(),)  \n",
    "Sim_3e_4_sdiff    = pybamm.Simulation(\n",
    "    Model_sdiff, experiment = Experiment_Long,\n",
    "    parameter_values = Para_0,\n",
    "    solver = pybamm.CasadiSolver(),)  \n",
    "Sol_3e_4_ddiff    = Sim_3e_4_ddiff.solve();\n",
    "Sol_3e_4_sdiff    = Sim_3e_4_sdiff.solve();"
   ]
  },
  {
   "cell_type": "code",
   "execution_count": null,
   "metadata": {},
   "outputs": [],
   "source": [
    "Model_ddiff.variables.search('current density')"
   ]
  },
  {
   "cell_type": "code",
   "execution_count": null,
   "metadata": {},
   "outputs": [],
   "source": [
    "Li_eley_Landes_ddiff = Sol_Landes_ddiff[\"Total lithium in electrolyte [mol]\"].entries\n",
    "Li_part_Landes_ddiff = Sol_Landes_ddiff[\"Total lithium in particles [mol]\"].entries\n",
    "Li_tota_Landes_ddiff = Sol_Landes_ddiff[\"Total lithium [mol]\"].entries\n",
    "EC_eleySEI_Landes_ddiff = Sol_Landes_ddiff[\"Total EC in electrolyte and SEI [mol]\"].entries\n",
    "t_Landes_ddiff = Sol_Landes_ddiff[\"Time [h]\"].entries\n",
    "\n",
    "Li_eley_Landes_sdiff = Sol_Landes_sdiff[\"Total lithium in electrolyte [mol]\"].entries\n",
    "Li_part_Landes_sdiff = Sol_Landes_sdiff[\"Total lithium in particles [mol]\"].entries\n",
    "Li_tota_Landes_sdiff = Sol_Landes_sdiff[\"Total lithium [mol]\"].entries\n",
    "EC_eleySEI_Landes_sdiff = Sol_Landes_sdiff[\"Total EC in electrolyte and SEI [mol]\"].entries\n",
    "t_Landes_sdiff = Sol_Landes_sdiff[\"Time [h]\"].entries\n",
    "\n",
    "Li_eley_tanh_ddiff = Sol_tanh_ddiff[\"Total lithium in electrolyte [mol]\"].entries\n",
    "Li_part_tanh_ddiff = Sol_tanh_ddiff[\"Total lithium in particles [mol]\"].entries\n",
    "Li_tota_tanh_ddiff = Sol_tanh_ddiff[\"Total lithium [mol]\"].entries\n",
    "EC_eleySEI_tanh_ddiff = Sol_tanh_ddiff[\"Total EC in electrolyte and SEI [mol]\"].entries\n",
    "t_tanh_ddiff = Sol_tanh_ddiff[\"Time [h]\"].entries\n",
    "\n",
    "Li_eley_tanh_sdiff = Sol_tanh_sdiff[\"Total lithium in electrolyte [mol]\"].entries\n",
    "Li_part_tanh_sdiff = Sol_tanh_sdiff[\"Total lithium in particles [mol]\"].entries\n",
    "Li_tota_tanh_sdiff = Sol_tanh_sdiff[\"Total lithium [mol]\"].entries\n",
    "EC_eleySEI_tanh_sdiff = Sol_tanh_sdiff[\"Total EC in electrolyte and SEI [mol]\"].entries\n",
    "t_tanh_sdiff = Sol_tanh_sdiff[\"Time [h]\"].entries\n",
    "\n",
    "Li_eley_0p3_ddiff = Sol_0p3_ddiff[\"Total lithium in electrolyte [mol]\"].entries\n",
    "Li_part_0p3_ddiff = Sol_0p3_ddiff[\"Total lithium in particles [mol]\"].entries\n",
    "Li_tota_0p3_ddiff = Sol_0p3_ddiff[\"Total lithium [mol]\"].entries\n",
    "EC_eleySEI_0p3_ddiff = Sol_0p3_ddiff[\"Total EC in electrolyte and SEI [mol]\"].entries\n",
    "t_0p3_ddiff = Sol_0p3_ddiff[\"Time [h]\"].entries\n",
    "\n",
    "Li_eley_0p3_sdiff = Sol_0p3_sdiff[\"Total lithium in electrolyte [mol]\"].entries\n",
    "Li_part_0p3_sdiff = Sol_0p3_sdiff[\"Total lithium in particles [mol]\"].entries\n",
    "Li_tota_0p3_sdiff = Sol_0p3_sdiff[\"Total lithium [mol]\"].entries\n",
    "EC_eleySEI_0p3_sdiff = Sol_0p3_sdiff[\"Total EC in electrolyte and SEI [mol]\"].entries\n",
    "t_0p3_sdiff = Sol_0p3_sdiff[\"Time [h]\"].entries\n",
    "\n",
    "Li_eley_3e_4_sdiff = Sol_3e_4_sdiff[\"Total lithium in electrolyte [mol]\"].entries\n",
    "Li_part_3e_4_sdiff = Sol_3e_4_sdiff[\"Total lithium in particles [mol]\"].entries\n",
    "Li_tota_3e_4_sdiff = Sol_3e_4_sdiff[\"Total lithium [mol]\"].entries\n",
    "EC_eleySEI_3e_4_sdiff = Sol_3e_4_sdiff[\"Total EC in electrolyte and SEI [mol]\"].entries\n",
    "t_3e_4_sdiff = Sol_3e_4_sdiff[\"Time [h]\"].entries\n",
    "\n",
    "Li_eley_3e_4_ddiff = Sol_3e_4_ddiff[\"Total lithium in electrolyte [mol]\"].entries\n",
    "Li_part_3e_4_ddiff = Sol_3e_4_ddiff[\"Total lithium in particles [mol]\"].entries\n",
    "Li_tota_3e_4_ddiff = Sol_3e_4_ddiff[\"Total lithium [mol]\"].entries\n",
    "EC_eleySEI_3e_4_ddiff = Sol_3e_4_ddiff[\"Total EC in electrolyte and SEI [mol]\"].entries\n",
    "t_3e_4_ddiff = Sol_3e_4_ddiff[\"Time [h]\"].entries"
   ]
  },
  {
   "cell_type": "code",
   "execution_count": null,
   "metadata": {},
   "outputs": [],
   "source": [
    "fig, axs = plt.subplots(2,2, figsize=(12,9.6),tight_layout=True)\n",
    "axs[0,0].plot(t_Landes_ddiff, Li_eley_Landes_ddiff,'-',label=\"Landes_d\")\n",
    "axs[0,0].plot(t_tanh_ddiff, Li_eley_tanh_ddiff,'-',label=\"tanh_d\")\n",
    "axs[0,0].plot(t_0p3_ddiff, Li_eley_0p3_ddiff,'-',label=\"0p3_d\")\n",
    "axs[0,0].plot(t_3e_4_ddiff, Li_eley_3e_4_ddiff,'-',label=\"3e_4_d\")\n",
    "axs[0,0].plot(t_Landes_sdiff, Li_eley_Landes_sdiff,'--',label=\"Landes_s\")\n",
    "axs[0,0].plot(t_tanh_ddiff, Li_eley_tanh_sdiff,'-',label=\"tanh_s\")\n",
    "axs[0,0].plot(t_0p3_sdiff, Li_eley_0p3_sdiff,'--',label=\"0p3_s\")\n",
    "axs[0,0].plot(t_3e_4_sdiff, Li_eley_3e_4_sdiff,'--',label=\"3e_4_s\")\n",
    "\n",
    "axs[1,0].plot(t_Landes_ddiff, Li_part_Landes_ddiff,'-',label=\"Landes_d\")\n",
    "axs[1,0].plot(t_tanh_ddiff, Li_part_tanh_ddiff,'-',label=\"tanh_d\")\n",
    "axs[1,0].plot(t_0p3_ddiff, Li_part_0p3_ddiff,'-',label=\"0p3_d\")\n",
    "axs[1,0].plot(t_3e_4_ddiff, Li_part_3e_4_ddiff,'-',label=\"3e_4_d\")\n",
    "axs[1,0].plot(t_Landes_sdiff, Li_part_Landes_sdiff,'--',label=\"Landes_s\")\n",
    "axs[1,0].plot(t_tanh_sdiff, Li_part_tanh_sdiff,'--',label=\"tanh_s\")\n",
    "axs[1,0].plot(t_0p3_sdiff, Li_part_0p3_sdiff,'-',label=\"0p3_s\")\n",
    "axs[1,0].plot(t_3e_4_sdiff, Li_part_3e_4_sdiff,'--',label=\"3e_4_s\")\n",
    "\n",
    "Min_plt = min(Li_part_3e_4_ddiff); Max_plt = max(Li_part_3e_4_ddiff);\n",
    "axs[1,0].set_ylim(Min_plt*0.95,Max_plt*1.05)\n",
    "\n",
    "axs[0,1].plot(t_Landes_ddiff, Li_tota_Landes_ddiff,'-',label=\"Landes_d\")\n",
    "axs[0,1].plot(t_tanh_ddiff, Li_tota_tanh_ddiff,'-',label=\"tanh_d\")\n",
    "axs[0,1].plot(t_0p3_ddiff, Li_tota_0p3_ddiff,'-',label=\"0p3_d\")\n",
    "axs[0,1].plot(t_3e_4_ddiff, Li_tota_3e_4_ddiff,'-',label=\"3e_4_d\")\n",
    "axs[0,1].plot(t_Landes_sdiff, Li_tota_Landes_sdiff,'--',label=\"Landes_s\")\n",
    "axs[0,1].plot(t_tanh_sdiff, Li_tota_tanh_sdiff,'--',label=\"tanh_s\")\n",
    "axs[0,1].plot(t_0p3_sdiff, Li_tota_0p3_sdiff,'--',label=\"0p3_s\")\n",
    "axs[0,1].plot(t_3e_4_sdiff, Li_tota_3e_4_sdiff,'--',label=\"3e_4_s\")\n",
    "\n",
    "axs[1,1].plot(t_Landes_ddiff, EC_eleySEI_Landes_ddiff,'-',label=\"Landes_d\")\n",
    "axs[1,1].plot(t_tanh_ddiff, EC_eleySEI_tanh_ddiff,'-',label=\"tanh_d\")\n",
    "axs[1,1].plot(t_0p3_ddiff, EC_eleySEI_0p3_ddiff,'-',label=\"0p3_d\")\n",
    "axs[1,1].plot(t_3e_4_ddiff, EC_eleySEI_3e_4_ddiff,'-',label=\"3e_4_d\")\n",
    "axs[1,1].plot(t_Landes_sdiff, EC_eleySEI_Landes_sdiff,'--',label=\"Landes_s\")\n",
    "axs[1,1].plot(t_tanh_sdiff, EC_eleySEI_tanh_sdiff,'--',label=\"tanh_s\")\n",
    "axs[1,1].plot(t_0p3_sdiff, EC_eleySEI_0p3_sdiff,'--',label=\"0p3_s\")\n",
    "axs[1,1].plot(t_3e_4_sdiff, EC_eleySEI_3e_4_sdiff,'--',label=\"3e_4_s\")\n",
    "Min_plt = min(EC_eleySEI_0p3_sdiff); Max_plt = max(EC_eleySEI_0p3_sdiff);\n",
    "axs[1,1].set_ylim(Min_plt*0.95,Max_plt*1.05)\n",
    "\n",
    "axs[0,0].set_title(\"Total lithium in electrolyte\",   fontdict={'family':'DejaVu Sans','size':fs})\n",
    "axs[1,0].set_title(\"Total lithium in particles\",   fontdict={'family':'DejaVu Sans','size':fs})\n",
    "axs[0,1].set_title(\"Total lithium in cell\",   fontdict={'family':'DejaVu Sans','size':fs})\n",
    "axs[1,1].set_title(\"Total EC in electrolyte\",   fontdict={'family':'DejaVu Sans','size':fs})\n",
    "for i in range(0,2):\n",
    "    for j in range(0,2):\n",
    "        axs[i,j].set_xlabel(\"Time [h]\",   fontdict={'family':'DejaVu Sans','size':fs})\n",
    "        axs[i,j].set_ylabel(\"Amount [mol]\",   fontdict={'family':'DejaVu Sans','size':fs})\n",
    "        labels = axs[i,j].get_xticklabels() + axs[i,j].get_yticklabels(); [label.set_fontname('DejaVu Sans') for label in labels]\n",
    "        axs[i,j].tick_params(labelcolor='k', labelsize=fs, width=1) ;  del labels;\n",
    "\n",
    "axs[1,1].legend(prop={'family':'DejaVu Sans','size':fs},loc='best',ncol=2,frameon=False,\n",
    "    markerscale=1,borderpad=0.2,handlelength=1.5,columnspacing=1)    \n"
   ]
  },
  {
   "cell_type": "code",
   "execution_count": null,
   "metadata": {},
   "outputs": [],
   "source": [
    "label = [\"Landes_d\",\"Landes_s\",\"tanh_d\",\"tanh_s\",] \n",
    "output_variables3 = [\n",
    "    \"Terminal voltage [V]\",   \n",
    "    \"Current [A]\",\n",
    "    \"EC concentration [mol.m-3]\",\n",
    "    \"Electrolyte concentration [mol.m-3]\",\n",
    "    #\"Loss of capacity to SEI [A.h]\",\n",
    "    \"Porosity times EC concentration\",\n",
    "    \"Porosity times concentration\",\n",
    "    \"Electrolyte diffusivity [m2.s-1]\",\n",
    "    \"Electrolyte conductivity [S.m-1]\"\n",
    "\n",
    "]\n",
    "quick_plot = pybamm.QuickPlot([\n",
    "    Sol_Landes_ddiff,Sol_Landes_sdiff,Sol_tanh_ddiff,Sol_tanh_sdiff\n",
    "    ], output_variables3,label,) #     variable_limits='tight'\n",
    "quick_plot.dynamic_plot();"
   ]
  },
  {
   "cell_type": "code",
   "execution_count": null,
   "metadata": {},
   "outputs": [],
   "source": [
    "label = [\"double diffusion\",\"single diffusion\",] \n",
    "output_variables3 = [\n",
    "    \"Terminal voltage [V]\",   \n",
    "    \"EC concentration [mol.m-3]\",\n",
    "    \"Electrolyte concentration [mol.m-3]\",\n",
    "    #\"Total EC in electrolyte [mol]\",\n",
    "    \"Negative electrode SEI interfacial current density [A.m-2]\",\n",
    "    #\"Loss of capacity to SEI [A.h]\",\n",
    "    #\"Loss of lithium to SEI [mol]\",\n",
    "            \n",
    "]\n",
    "quick_plot = pybamm.QuickPlot([Sol_tanh_ddiff,Sol_tanh_sdiff], output_variables3,label,) #     variable_limits='tight'\n",
    "quick_plot.dynamic_plot();"
   ]
  },
  {
   "cell_type": "code",
   "execution_count": null,
   "metadata": {},
   "outputs": [],
   "source": [
    "label = [\"SEI + double diffusion\",\"SEI + single diffusion\",] \n",
    "output_variables3 = [\n",
    "    \"Terminal voltage [V]\",   \n",
    "    \"Negative electrode SEI interfacial current density [A.m-2]\",\n",
    "    \"Loss of capacity to SEI [A.h]\",\n",
    "    \"Loss of lithium to SEI [mol]\",\n",
    "]\n",
    "quick_plot = pybamm.QuickPlot([Sol_0,Sol_1], output_variables3,label,) #     variable_limits='tight'\n",
    "quick_plot.dynamic_plot();"
   ]
  },
  {
   "cell_type": "code",
   "execution_count": null,
   "metadata": {},
   "outputs": [],
   "source": [
    "label = [\"SEI + double diffusion\",\"SEI + single diffusion\",] \n",
    "output_variables3 = [\n",
    "    \"Total lithium in electrolyte [mol]\",   \n",
    "    \"Total lithium lost from electrolyte [mol]\",\n",
    "    \"Total lithium [mol]\",\n",
    "]\n",
    "quick_plot = pybamm.QuickPlot([Sol_0,Sol_1], output_variables3,label,) #     variable_limits='tight'\n",
    "quick_plot.dynamic_plot();\n"
   ]
  }
 ],
 "metadata": {
  "kernelspec": {
   "display_name": "Python 3.9.4 ('envECdrag')",
   "language": "python",
   "name": "python3"
  },
  "language_info": {
   "codemirror_mode": {
    "name": "ipython",
    "version": 3
   },
   "file_extension": ".py",
   "mimetype": "text/x-python",
   "name": "python",
   "nbconvert_exporter": "python",
   "pygments_lexer": "ipython3",
   "version": "3.9.4"
  },
  "orig_nbformat": 4,
  "vscode": {
   "interpreter": {
    "hash": "bbe477dd22b81d67e8c3659d09e8d8645a2b2109ce812123ab4a99fd937a7135"
   }
  }
 },
 "nbformat": 4,
 "nbformat_minor": 2
}
