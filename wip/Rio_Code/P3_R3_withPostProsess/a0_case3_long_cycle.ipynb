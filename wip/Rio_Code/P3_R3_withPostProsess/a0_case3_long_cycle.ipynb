{
 "cells": [
  {
   "cell_type": "code",
   "execution_count": 1,
   "metadata": {},
   "outputs": [],
   "source": [
    "# start to let c_EC affect j_SEI - start from solvent diffusion limited\n",
    "# how?  \n",
    "# 1. change: elif self.options[\"SEI\"] == \"solvent-diffusion limited\": in sei_growth.py\n",
    "# 2. change: self.C_sei_solvent in lithium_ion_parameters.py\n",
    "# 3. now have long term cycling "
   ]
  },
  {
   "cell_type": "code",
   "execution_count": 2,
   "metadata": {},
   "outputs": [],
   "source": [
    "import pybamm as pybamm;import pandas as pd   ;import numpy as np;import os;import matplotlib.pyplot as plt;import os; #import imageio\n",
    "from scipy.io import savemat,loadmat;from pybamm import constants,exp;import matplotlib as mpl; fs=17; # or we can set import matplotlib.pyplot as plt then say 'mpl.rc...'\n",
    "for k in range(0,1):\n",
    "    mpl.rcParams[\"axes.labelsize\"] = fs\n",
    "    mpl.rcParams[\"axes.titlesize\"] = fs\n",
    "    mpl.rcParams[\"xtick.labelsize\"] =  fs\n",
    "    mpl.rcParams[\"ytick.labelsize\"] =  fs\n",
    "    mpl.rcParams[\"legend.fontsize\"] =  fs\n",
    "    mpl.rcParams['font.sans-serif'] = ['Times New Roman']\n",
    "    mpl.rcParams['font.serif'] = ['Times New Roman']\n",
    "    mpl.rcParams['axes.unicode_minus'] = False"
   ]
  },
  {
   "cell_type": "code",
   "execution_count": 3,
   "metadata": {},
   "outputs": [],
   "source": [
    "V_max = 4.2;        V_min = 2.5;\n",
    "Diff_SEI = 1.700000000000002e-20;    R_SEI = 2E5;   Bulk_Sol_Con = 4541.0;\n",
    "Experiment_Long   = pybamm.Experiment( [ (\n",
    "    f\"Discharge at 1 C until {V_min} V\", \n",
    "    f\"Charge at 0.3 C until {V_max} V\", \n",
    "    f\"Hold at {V_max} V until C/5\")    ] * 1000 )  \n",
    "save_at_cycles= 100"
   ]
  },
  {
   "cell_type": "code",
   "execution_count": 4,
   "metadata": {},
   "outputs": [
    {
     "name": "stdout",
     "output_type": "stream",
     "text": [
      "Confirm: using solvent-diffusion limited\n",
      "have you come here?\n",
      "Confirm: using solvent-diffusion limited\n"
     ]
    }
   ],
   "source": [
    "Model_0 = pybamm.lithium_ion.DFN(     \n",
    "    options={\n",
    "        \"SEI\":\"solvent-diffusion limited\",          \n",
    "        \"SEI film resistance\":\"distributed\",          \n",
    "        \"SEI porosity change\":\"true\",               \n",
    "        \"solvent diffusion\": \"EC\"     } )\n",
    "Model_1 = pybamm.lithium_ion.DFN(     \n",
    "    options={      \n",
    "        \"SEI\":\"solvent-diffusion limited\",          \n",
    "        \"SEI film resistance\":\"distributed\",          \n",
    "        \"SEI porosity change\":\"true\",   \n",
    "        \"solvent diffusion\": \"none\"     } )\n",
    "ChemistryChen=pybamm.parameter_sets.Chen2020 \n",
    "ChemistryChen[\"electrolyte\"] = \"lipf6_Nyman2008_rio\";\n",
    "Para_0=pybamm.ParameterValues(chemistry=ChemistryChen);\n",
    "\n",
    "Para_0.update({'EC transference number':-1.4})\n",
    "Para_0.update({'EC Lithium ion cross diffusivity [m2.s-1]':1.5e-9/1e2})\n",
    "Para_0.update({'Typical EC Lithium ion cross diffusivity [m2.s-1]':1.5e-9/1e2})\n",
    "Para_0.update({'EC diffusivity in electrolyte [m2.s-1]':3E-10})\n",
    "Para_0.update({'Electrolyte diffusivity [m2.s-1]':3e-10})"
   ]
  },
  {
   "cell_type": "code",
   "execution_count": 5,
   "metadata": {},
   "outputs": [],
   "source": [
    "# control SEI rate\n",
    "Para_0.update({'Outer SEI solvent diffusivity [m2.s-1]':4e-19})"
   ]
  },
  {
   "cell_type": "markdown",
   "metadata": {},
   "source": [
    "Para_0.search(\"diffusivity\")\n",
    "gamma_e_ec_Rio = Para_0.evaluate(Model_0.param.gamma_e_ec_Rio)  \n",
    "print(gamma_e_ec_Rio)"
   ]
  },
  {
   "cell_type": "code",
   "execution_count": 6,
   "metadata": {},
   "outputs": [],
   "source": [
    "Sim_0    = pybamm.Simulation(\n",
    "    Model_0, experiment = Experiment_Long,\n",
    "    parameter_values = Para_0,\n",
    "    solver = pybamm.CasadiSolver(),)       \n",
    "Sol_0    = Sim_0.solve(save_at_cycles=save_at_cycles,);\n",
    "Sim_1    = pybamm.Simulation(\n",
    "    Model_1, experiment = Experiment_Long,\n",
    "    parameter_values = Para_0,\n",
    "    solver = pybamm.CasadiSolver(),)       \n",
    "Sol_1    = Sim_1.solve(save_at_cycles=save_at_cycles,);"
   ]
  },
  {
   "cell_type": "code",
   "execution_count": 7,
   "metadata": {},
   "outputs": [
    {
     "name": "stdout",
     "output_type": "stream",
     "text": [
      "Loss of active material in negative electrode [%]\n",
      "Loss of active material in positive electrode [%]\n",
      "Loss of capacity to SEI [A.h]\n",
      "Loss of capacity to SEI on cracks [A.h]\n",
      "Loss of capacity to lithium plating [A.h]\n",
      "Loss of lithium inventory [%]\n",
      "Loss of lithium inventory, including electrolyte [%]\n",
      "Loss of lithium to SEI [mol]\n",
      "Loss of lithium to SEI on cracks [mol]\n",
      "Loss of lithium to lithium plating [mol]\n"
     ]
    }
   ],
   "source": [
    "Model_0.variables.search('loss of')"
   ]
  },
  {
   "cell_type": "code",
   "execution_count": 8,
   "metadata": {},
   "outputs": [
    {
     "name": "stdout",
     "output_type": "stream",
     "text": [
      "[4541. 4541. 4541. 4541. 4541. 4541. 4541. 4541. 4541. 4541. 4541. 4541.\n",
      " 4541. 4541. 4541. 4541. 4541. 4541. 4541. 4541. 4541. 4541. 4541. 4541.\n",
      " 4541. 4541. 4541. 4541. 4541. 4541. 4541. 4541. 4541. 4541. 4541. 4541.\n",
      " 4541. 4541. 4541. 4541. 4541. 4541. 4541. 4541. 4541. 4541. 4541. 4541.\n",
      " 4541. 4541. 4541. 4541. 4541. 4541. 4541. 4541. 4541. 4541. 4541. 4541.]\n",
      "[4541. 4541. 4541. 4541. 4541. 4541. 4541. 4541. 4541. 4541. 4541. 4541.\n",
      " 4541. 4541. 4541. 4541. 4541. 4541. 4541. 4541. 4541. 4541. 4541. 4541.\n",
      " 4541. 4541. 4541. 4541. 4541. 4541. 4541. 4541. 4541. 4541. 4541. 4541.\n",
      " 4541. 4541. 4541. 4541. 4541. 4541. 4541. 4541. 4541. 4541. 4541. 4541.\n",
      " 4541. 4541. 4541. 4541. 4541. 4541. 4541. 4541. 4541. 4541. 4541. 4541.]\n"
     ]
    }
   ],
   "source": [
    "print(Sol_1.cycles[-1][\"EC concentration [mol.m-3]\"].entries[:,-1])\n",
    "print(Sol_1.cycles[0][\"EC concentration [mol.m-3]\"].entries[:,-1])"
   ]
  },
  {
   "cell_type": "code",
   "execution_count": 11,
   "metadata": {},
   "outputs": [
    {
     "data": {
      "application/vnd.jupyter.widget-view+json": {
       "model_id": "87edc97fd4424c6d83936f06755fb566",
       "version_major": 2,
       "version_minor": 0
      },
      "text/plain": [
       "interactive(children=(FloatSlider(value=0.0, description='t', max=76.28450366357507, step=0.7628450366357507),…"
      ]
     },
     "metadata": {},
     "output_type": "display_data"
    }
   ],
   "source": [
    "label = [\"SEI + double diffusion\",\"SEI + single diffusion\",] \n",
    "output_variables3 = [\n",
    "    \"Terminal voltage [V]\",   \n",
    "    \"EC concentration [mol.m-3]\",\n",
    "    \"Electrolyte concentration [mol.m-3]\",\n",
    "    \"Total EC in electrolyte [mol]\",\n",
    "    #\"Total lithium in electrolyte [mol]\",\n",
    "    \"Loss of capacity to SEI [A.h]\",\n",
    "    #\"Discharge capacity [A.h]\",\n",
    "    \"Total EC in electrolyte and SEI [mol]\",\n",
    "]\n",
    "quick_plot = pybamm.QuickPlot([Sol_0,Sol_1], output_variables3,label,) #     variable_limits='tight'\n",
    "quick_plot.dynamic_plot();"
   ]
  },
  {
   "cell_type": "code",
   "execution_count": 12,
   "metadata": {},
   "outputs": [
    {
     "data": {
      "application/vnd.jupyter.widget-view+json": {
       "model_id": "b944c660d0b34bdaa884cd573017d5ff",
       "version_major": 2,
       "version_minor": 0
      },
      "text/plain": [
       "interactive(children=(FloatSlider(value=0.0, description='t', max=76.28450366357507, step=0.7628450366357507),…"
      ]
     },
     "metadata": {},
     "output_type": "display_data"
    }
   ],
   "source": [
    "label = [\"SEI + double diffusion\",\"SEI + single diffusion\",] \n",
    "output_variables3 = [\n",
    "    #\"Terminal voltage [V]\",   \n",
    "    \"Negative electrode SEI interfacial current density [A.m-2]\",\n",
    "]\n",
    "quick_plot = pybamm.QuickPlot([Sol_0,Sol_1], output_variables3,label,) #     variable_limits='tight'\n",
    "quick_plot.dynamic_plot();"
   ]
  },
  {
   "cell_type": "code",
   "execution_count": null,
   "metadata": {},
   "outputs": [],
   "source": []
  }
 ],
 "metadata": {
  "kernelspec": {
   "display_name": "Python 3.9.4 ('envECdrag')",
   "language": "python",
   "name": "python3"
  },
  "language_info": {
   "codemirror_mode": {
    "name": "ipython",
    "version": 3
   },
   "file_extension": ".py",
   "mimetype": "text/x-python",
   "name": "python",
   "nbconvert_exporter": "python",
   "pygments_lexer": "ipython3",
   "version": "3.9.4"
  },
  "orig_nbformat": 4,
  "vscode": {
   "interpreter": {
    "hash": "bbe477dd22b81d67e8c3659d09e8d8645a2b2109ce812123ab4a99fd937a7135"
   }
  }
 },
 "nbformat": 4,
 "nbformat_minor": 2
}
