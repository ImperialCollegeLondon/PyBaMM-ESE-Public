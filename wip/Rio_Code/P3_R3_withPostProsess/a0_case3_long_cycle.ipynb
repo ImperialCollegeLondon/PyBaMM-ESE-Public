{
 "cells": [
  {
   "cell_type": "code",
   "execution_count": 1,
   "metadata": {},
   "outputs": [],
   "source": [
    "# start to let c_EC affect j_SEI - start from solvent diffusion limited\n",
    "# how?  \n",
    "# 1. change: elif self.options[\"SEI\"] == \"solvent-diffusion limited\": in sei_growth.py\n",
    "# 2. change: self.C_sei_solvent in lithium_ion_parameters.py\n",
    "# 3. now have long term cycling "
   ]
  },
  {
   "cell_type": "code",
   "execution_count": 2,
   "metadata": {},
   "outputs": [],
   "source": [
    "import pybamm as pybamm;import pandas as pd   ;import numpy as np;import os;import matplotlib.pyplot as plt;import os; #import imageio\n",
    "from scipy.io import savemat,loadmat;from pybamm import constants,exp;import matplotlib as mpl; fs=17; # or we can set import matplotlib.pyplot as plt then say 'mpl.rc...'\n",
    "for k in range(0,1):\n",
    "    mpl.rcParams[\"axes.labelsize\"] = fs\n",
    "    mpl.rcParams[\"axes.titlesize\"] = fs\n",
    "    mpl.rcParams[\"xtick.labelsize\"] =  fs\n",
    "    mpl.rcParams[\"ytick.labelsize\"] =  fs\n",
    "    mpl.rcParams[\"legend.fontsize\"] =  fs\n",
    "    mpl.rcParams['font.sans-serif'] = ['Times New Roman']\n",
    "    mpl.rcParams['font.serif'] = ['Times New Roman']\n",
    "    mpl.rcParams['axes.unicode_minus'] = False"
   ]
  },
  {
   "cell_type": "code",
   "execution_count": 3,
   "metadata": {},
   "outputs": [],
   "source": [
    "V_max = 4.2;        V_min = 2.5;\n",
    "Diff_SEI = 1.700000000000002e-20;    R_SEI = 2E5;   Bulk_Sol_Con = 4541.0;\n",
    "Experiment_Long   = pybamm.Experiment( [ (\n",
    "    f\"Discharge at 1 C until {V_min} V\", \n",
    "    f\"Charge at 0.3 C until {V_max} V\", \n",
    "    f\"Hold at {V_max} V until C/5\")    ] * 1000 )  \n",
    "save_at_cycles= 100"
   ]
  },
  {
   "cell_type": "code",
   "execution_count": 4,
   "metadata": {},
   "outputs": [
    {
     "name": "stdout",
     "output_type": "stream",
     "text": [
      "Confirm: using solvent-diffusion limited\n",
      "have you come here?\n",
      "Confirm: using solvent-diffusion limited\n"
     ]
    }
   ],
   "source": [
    "Model_0 = pybamm.lithium_ion.DFN(     \n",
    "    options={\n",
    "        \"SEI\":\"solvent-diffusion limited\",          \n",
    "        \"SEI film resistance\":\"distributed\",          \n",
    "        \"SEI porosity change\":\"true\",               \n",
    "        \"solvent diffusion\": \"EC\"     } )\n",
    "Model_1 = pybamm.lithium_ion.DFN(     \n",
    "    options={      \n",
    "        \"SEI\":\"solvent-diffusion limited\",          \n",
    "        \"SEI film resistance\":\"distributed\",          \n",
    "        \"SEI porosity change\":\"true\",   \n",
    "        \"solvent diffusion\": \"none\"     } )\n",
    "ChemistryChen=pybamm.parameter_sets.Chen2020 \n",
    "ChemistryChen[\"electrolyte\"] = \"lipf6_Nyman2008_rio\";\n",
    "Para_0=pybamm.ParameterValues(chemistry=ChemistryChen);\n",
    "\n",
    "Para_0.update({'EC transference number':-1.4})\n",
    "Para_0.update({'EC Lithium ion cross diffusivity [m2.s-1]':1.5e-9/1e2})\n",
    "Para_0.update({'Typical EC Lithium ion cross diffusivity [m2.s-1]':1.5e-9/1e2})\n",
    "Para_0.update({'EC diffusivity in electrolyte [m2.s-1]':3E-10})\n",
    "Para_0.update({'Electrolyte diffusivity [m2.s-1]':3e-10})\n",
    "Para_0.update({'Outer SEI solvent diffusivity [m2.s-1]':1.7e-20})\n"
   ]
  },
  {
   "cell_type": "code",
   "execution_count": 5,
   "metadata": {},
   "outputs": [],
   "source": [
    "# control SEI rate\n",
    "Para_0.update({'Outer SEI solvent diffusivity [m2.s-1]':4e-19})"
   ]
  },
  {
   "cell_type": "markdown",
   "metadata": {},
   "source": [
    "Para_0.search(\"diffusivity\")\n",
    "gamma_e_ec_Rio = Para_0.evaluate(Model_0.param.gamma_e_ec_Rio)  \n",
    "print(gamma_e_ec_Rio)"
   ]
  },
  {
   "cell_type": "code",
   "execution_count": 28,
   "metadata": {},
   "outputs": [],
   "source": [
    "\n",
    "def t_plus_tanh( c_e,c_EC, T  ):\n",
    "    ratio = c_EC / c_e\n",
    "    coff = 0.3\n",
    "    return coff/2 + coff/2 *  pybamm.tanh((ratio-2.7705)*2)\n",
    "Para_0.update({'Cation transference number':t_plus_tanh})"
   ]
  },
  {
   "cell_type": "code",
   "execution_count": 29,
   "metadata": {},
   "outputs": [
    {
     "name": "stderr",
     "output_type": "stream",
     "text": [
      "The linesearch algorithm failed with too small a step.\n",
      "The linesearch algorithm failed with too small a step.\n",
      "The linesearch algorithm failed with too small a step.\n",
      "The linesearch algorithm failed with too small a step.\n",
      "The linesearch algorithm failed with too small a step.\n",
      "The linesearch algorithm failed with too small a step.\n",
      "The linesearch algorithm failed with too small a step.\n",
      "The linesearch algorithm failed with too small a step.\n",
      "The linesearch algorithm failed with too small a step.\n",
      "The linesearch algorithm failed with too small a step.\n",
      "The linesearch algorithm failed with too small a step.\n",
      "The linesearch algorithm failed with too small a step.\n",
      "At t = 0.00155557, , mxstep steps taken before reaching tout.\n",
      "At t = 0.00155547, , mxstep steps taken before reaching tout.\n",
      "At t = 0.00155563, , mxstep steps taken before reaching tout.\n",
      "At t = 0.00030565, , mxstep steps taken before reaching tout.\n",
      "At t = 0.000305298, , mxstep steps taken before reaching tout.\n",
      "At t = 0.000305966, , mxstep steps taken before reaching tout.\n",
      "At t = 0.000149498, , mxstep steps taken before reaching tout.\n",
      "At t = 7.12362e-005, , mxstep steps taken before reaching tout.\n",
      "At t = 3.17807e-005, , mxstep steps taken before reaching tout.\n",
      "At t = 1.2499e-005, , mxstep steps taken before reaching tout.\n",
      "At t = 7.11881e-006, , mxstep steps taken before reaching tout.\n",
      "At t = 3.76612e-006, , mxstep steps taken before reaching tout.\n",
      "At t = 0.00136335, , mxstep steps taken before reaching tout.\n",
      "At t = 0.00136119, , mxstep steps taken before reaching tout.\n",
      "At t = 0.00136367, , mxstep steps taken before reaching tout.\n",
      "At t = 0.000112388, , mxstep steps taken before reaching tout.\n",
      "At t = 0.000111526, , mxstep steps taken before reaching tout.\n",
      "At t = 0.000113541, , mxstep steps taken before reaching tout.\n",
      "At t = 0.000112334, , mxstep steps taken before reaching tout.\n",
      "2022-09-19 01:58:29.883 - [ERROR] callbacks.on_experiment_error(226): Simulation error: Maximum number of decreased steps occurred at t=1029209.2426625836. Try solving the model up to this time only or reducing dt_max (currently, dt_max=0.8864541230972014) and/or reducing the size of the time steps or period of the experiment.\n"
     ]
    }
   ],
   "source": [
    "Sim_2    = pybamm.Simulation(\n",
    "    Model_1, experiment = Experiment_Long,\n",
    "    parameter_values = Para_0,\n",
    "    solver = pybamm.CasadiSolver(),)       \n",
    "Sol_2    = Sim_2.solve(save_at_cycles=save_at_cycles,);"
   ]
  },
  {
   "cell_type": "code",
   "execution_count": 6,
   "metadata": {},
   "outputs": [
    {
     "name": "stderr",
     "output_type": "stream",
     "text": [
      "The linesearch algorithm failed with too small a step.\n",
      "The linesearch algorithm failed with too small a step.\n",
      "The linesearch algorithm failed with too small a step.\n",
      "The linesearch algorithm failed with too small a step.\n",
      "At t = 0 and h = 8.54196e-014, the error test failed repeatedly or with |h| = hmin.\n",
      "The linesearch algorithm failed with too small a step.\n",
      "The linesearch algorithm failed with too small a step.\n",
      "The linesearch algorithm failed with too small a step.\n",
      "The linesearch algorithm failed with too small a step.\n",
      "The linesearch algorithm failed with too small a step.\n",
      "The linesearch algorithm failed with too small a step.\n",
      "The linesearch algorithm failed with too small a step.\n",
      "2022-09-18 02:49:54.934 - [ERROR] callbacks.on_experiment_error(226): Simulation error: Maximum number of decreased steps occurred at t=1038440.8915133826. Try solving the model up to this time only or reducing dt_max (currently, dt_max=7.091632984777611) and/or reducing the size of the time steps or period of the experiment.\n"
     ]
    }
   ],
   "source": [
    "Sim_0    = pybamm.Simulation(\n",
    "    Model_0, experiment = Experiment_Long,\n",
    "    parameter_values = Para_0,\n",
    "    solver = pybamm.CasadiSolver(),)       \n",
    "Sol_0    = Sim_0.solve(save_at_cycles=save_at_cycles,);\n",
    "Sim_1    = pybamm.Simulation(\n",
    "    Model_1, experiment = Experiment_Long,\n",
    "    parameter_values = Para_0,\n",
    "    solver = pybamm.CasadiSolver(),)       \n",
    "Sol_1    = Sim_1.solve(save_at_cycles=save_at_cycles,);"
   ]
  },
  {
   "cell_type": "code",
   "execution_count": 7,
   "metadata": {},
   "outputs": [
    {
     "name": "stdout",
     "output_type": "stream",
     "text": [
      "Loss of active material in negative electrode [%]\n",
      "Loss of active material in positive electrode [%]\n",
      "Loss of capacity to SEI [A.h]\n",
      "Loss of capacity to SEI on cracks [A.h]\n",
      "Loss of capacity to lithium plating [A.h]\n",
      "Loss of lithium inventory [%]\n",
      "Loss of lithium inventory, including electrolyte [%]\n",
      "Loss of lithium to SEI [mol]\n",
      "Loss of lithium to SEI on cracks [mol]\n",
      "Loss of lithium to lithium plating [mol]\n"
     ]
    }
   ],
   "source": [
    "Model_0.variables.search('loss of')"
   ]
  },
  {
   "cell_type": "code",
   "execution_count": 9,
   "metadata": {},
   "outputs": [
    {
     "name": "stdout",
     "output_type": "stream",
     "text": [
      "[ 240.23312898  238.96091797  236.41523966  232.59358586  227.49222125\n",
      "  221.10622155  213.42952617  204.45500726  194.17455688  182.57919522\n",
      "  169.65920305  155.40428269  139.80375279  122.84678399  104.52268447\n",
      "   84.82124714   63.73317399   41.25059785   17.36772836   -7.918342\n",
      "  -21.73556606  -22.68127735  -23.62696899  -24.57263936  -25.51828682\n",
      "  -26.46390974  -27.40950649  -28.35507542  -29.30061492  -30.24612334\n",
      "  -31.19159905  -32.13704041  -33.08244581  -34.02781359  -34.97314214\n",
      "  -35.91842981  -36.86367498  -37.808876    -38.75403126  -39.69913911\n",
      "  -45.1187489   -54.53955824  -63.4807703   -71.93673839  -79.90244298\n",
      "  -87.37351568  -94.34625945 -100.81766482 -106.78542245 -112.24793194\n",
      " -117.20430703 -121.6543773  -125.59868629 -129.03848605 -131.97572818\n",
      " -134.41305127 -136.35376457 -137.80182802 -138.76182839 -139.23895169]\n",
      "[3208.83519039 3207.86144747 3205.91343016 3202.99008499 3199.08986408\n",
      " 3194.21076742 3188.35040037 3181.50604775 3173.6747658  3164.85349392\n",
      " 3155.03918827 3144.22898018 3132.42036254 3119.61140852 3105.80102786\n",
      " 3090.98926711 3075.17766229 3058.36965375 3040.57107598 3021.79073773\n",
      " 3011.44761176 3010.51089803 3009.57410849 3008.63724494 3007.70030917\n",
      " 3006.763303   3005.82622821 3004.88908662 3003.95188003 3003.01461024\n",
      " 3002.07727905 3001.13988827 3000.2024397  2999.26493514 2998.3273764\n",
      " 2997.38976526 2996.45210355 2995.51439306 2994.57663559 2993.63883294\n",
      " 2988.26058621 2978.91033442 2970.03486938 2961.63997719 2953.73081182\n",
      " 2946.31187179 2939.38698074 2932.95927176 2927.03117542 2921.60441135\n",
      " 2916.67998334 2912.25817786 2908.33856598 2904.92000866 2902.00066551\n",
      " 2899.5780069  2897.64882973 2896.20927669 2895.25485923 2894.78048421]\n"
     ]
    }
   ],
   "source": [
    "print(Sol_0.cycles[-1][\"EC concentration [mol.m-3]\"].entries[:,-1])\n",
    "print(Sol_0.cycles[0][\"EC concentration [mol.m-3]\"].entries[:,-1])"
   ]
  },
  {
   "cell_type": "code",
   "execution_count": 17,
   "metadata": {},
   "outputs": [
    {
     "data": {
      "text/plain": [
       "[<matplotlib.lines.Line2D at 0x21c42489a00>]"
      ]
     },
     "execution_count": 17,
     "metadata": {},
     "output_type": "execute_result"
    },
    {
     "data": {
      "image/png": "[encoded data removed]",
      "text/plain": [
       "<Figure size 432x288 with 1 Axes>"
      ]
     },
     "metadata": {
      "needs_background": "light"
     },
     "output_type": "display_data"
    }
   ],
   "source": [
    "time_1st = Sol_0.cycles[0][\"Time [h]\"].entries-Sol_0.cycles[0][\"Time [h]\"].entries[0]\n",
    "time_1000th = Sol_0.cycles[-1][\"Time [h]\"].entries-Sol_0.cycles[-1][\"Time [h]\"].entries[0]\n",
    "cap_1st = Sol_0.cycles[0][\"Discharge capacity [A.h]\"].entries-Sol_0.cycles[0][\"Discharge capacity [A.h]\"].entries[0]\n",
    "cap_1000th = Sol_0.cycles[-1][\"Discharge capacity [A.h]\"].entries-Sol_0.cycles[-1][\"Discharge capacity [A.h]\"].entries[0]\n",
    "vol_1st = Sol_0.cycles[0][\"Terminal voltage [V]\"].entries\n",
    "vol_1000th = Sol_0.cycles[-1][\"Terminal voltage [V]\"].entries\n",
    "\n",
    "\n",
    "\n",
    "plt.plot(time_1st,vol_1st)\n",
    "plt.plot(time_1000th,vol_1000th)"
   ]
  },
  {
   "cell_type": "code",
   "execution_count": 24,
   "metadata": {},
   "outputs": [
    {
     "data": {
      "application/vnd.jupyter.widget-view+json": {
       "model_id": "4e0ad03dbb204cf491251b78006dd72a",
       "version_major": 2,
       "version_minor": 0
      },
      "text/plain": [
       "interactive(children=(FloatSlider(value=760.8797196205948, description='t', max=764.6949178681907, min=760.879…"
      ]
     },
     "metadata": {},
     "output_type": "display_data"
    }
   ],
   "source": [
    "label = [\"1000th cycle\"] \n",
    "output_variables3 = [\n",
    "    \"Terminal voltage [V]\",   \n",
    "    \"EC concentration [mol.m-3]\",\n",
    "    \"Electrolyte concentration [mol.m-3]\",\n",
    "    \"Total EC in electrolyte [mol]\",\n",
    "    #\"Total lithium in electrolyte [mol]\",\n",
    "    \"Loss of capacity to SEI [A.h]\",\n",
    "    \"Discharge capacity [A.h]\",\n",
    "    \"Negative electrode porosity\",\n",
    "    \"SEI interfacial current density\",\n",
    "]\n",
    "quick_plot = pybamm.QuickPlot([Sol_0.cycles[199]], output_variables3,label,) #     variable_limits='tight'\n",
    "quick_plot.dynamic_plot();"
   ]
  },
  {
   "cell_type": "code",
   "execution_count": null,
   "metadata": {},
   "outputs": [
    {
     "data": {
      "application/vnd.jupyter.widget-view+json": {
       "model_id": "87edc97fd4424c6d83936f06755fb566",
       "version_major": 2,
       "version_minor": 0
      },
      "text/plain": [
       "interactive(children=(FloatSlider(value=0.0, description='t', max=76.28450366357507, step=0.7628450366357507),…"
      ]
     },
     "metadata": {},
     "output_type": "display_data"
    }
   ],
   "source": [
    "label = [\"SEI + double diffusion\",\"SEI + single diffusion\",] \n",
    "output_variables3 = [\n",
    "    \"Terminal voltage [V]\",   \n",
    "    \"EC concentration [mol.m-3]\",\n",
    "    \"Electrolyte concentration [mol.m-3]\",\n",
    "    \"Total EC in electrolyte [mol]\",\n",
    "    #\"Total lithium in electrolyte [mol]\",\n",
    "    \"Loss of capacity to SEI [A.h]\",\n",
    "    #\"Discharge capacity [A.h]\",\n",
    "    \"Total EC in electrolyte and SEI [mol]\",\n",
    "]\n",
    "quick_plot = pybamm.QuickPlot([Sol_0,Sol_1], output_variables3,label,) #     variable_limits='tight'\n",
    "quick_plot.dynamic_plot();"
   ]
  },
  {
   "cell_type": "code",
   "execution_count": null,
   "metadata": {},
   "outputs": [
    {
     "data": {
      "application/vnd.jupyter.widget-view+json": {
       "model_id": "b944c660d0b34bdaa884cd573017d5ff",
       "version_major": 2,
       "version_minor": 0
      },
      "text/plain": [
       "interactive(children=(FloatSlider(value=0.0, description='t', max=76.28450366357507, step=0.7628450366357507),…"
      ]
     },
     "metadata": {},
     "output_type": "display_data"
    }
   ],
   "source": [
    "label = [\"SEI + double diffusion\",\"SEI + single diffusion\",] \n",
    "output_variables3 = [\n",
    "    #\"Terminal voltage [V]\",   \n",
    "    \"Negative electrode SEI interfacial current density [A.m-2]\",\n",
    "]\n",
    "quick_plot = pybamm.QuickPlot([Sol_0,Sol_1], output_variables3,label,) #     variable_limits='tight'\n",
    "quick_plot.dynamic_plot();"
   ]
  },
  {
   "cell_type": "code",
   "execution_count": null,
   "metadata": {},
   "outputs": [],
   "source": []
  }
 ],
 "metadata": {
  "kernelspec": {
   "display_name": "Python 3.9.6 ('envPBGEM')",
   "language": "python",
   "name": "python3"
  },
  "language_info": {
   "codemirror_mode": {
    "name": "ipython",
    "version": 3
   },
   "file_extension": ".py",
   "mimetype": "text/x-python",
   "name": "python",
   "nbconvert_exporter": "python",
   "pygments_lexer": "ipython3",
   "version": "3.9.6"
  },
  "orig_nbformat": 4,
  "vscode": {
   "interpreter": {
    "hash": "83fab7fbb3a8fe7b5910804f702478ef63e2cc6a08d85072a5d68865ed0fd8c7"
   }
  }
 },
 "nbformat": 4,
 "nbformat_minor": 2
}
