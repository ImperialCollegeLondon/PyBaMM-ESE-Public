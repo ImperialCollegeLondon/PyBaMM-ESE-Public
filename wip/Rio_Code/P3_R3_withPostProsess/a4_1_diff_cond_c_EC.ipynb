{
 "cells": [
  {
   "cell_type": "markdown",
   "metadata": {},
   "source": [
    "# add c_EC as one of the inputs for diffusivity and conductivity"
   ]
  },
  {
   "cell_type": "code",
   "execution_count": 1,
   "metadata": {},
   "outputs": [],
   "source": [
    "import pybamm\n",
    "import numpy as np\n",
    "import matplotlib.pyplot as plt\n",
    "import pandas as pd   ;import numpy as np;import os;import matplotlib.pyplot as plt;import os;\n",
    "from scipy.io import savemat,loadmat;from pybamm import constants,exp;import matplotlib as mpl; fs=17; # or we can set import matplotlib.pyplot as plt then say 'mpl.rc...'\n",
    "for k in range(0,1):\n",
    "    mpl.rcParams[\"axes.labelsize\"] = fs\n",
    "    mpl.rcParams[\"axes.titlesize\"] = fs\n",
    "    mpl.rcParams[\"xtick.labelsize\"] =  fs\n",
    "    mpl.rcParams[\"ytick.labelsize\"] =  fs\n",
    "    mpl.rcParams[\"legend.fontsize\"] =  fs\n",
    "    mpl.rcParams['font.sans-serif'] = ['Times New Roman']\n",
    "    mpl.rcParams['font.serif'] = ['Times New Roman']\n",
    "    mpl.rcParams['axes.unicode_minus'] = False"
   ]
  },
  {
   "cell_type": "code",
   "execution_count": 2,
   "metadata": {},
   "outputs": [],
   "source": [
    "# define function:\n",
    "def electrolyte_conductivity_Nyman2008_wEC(c_e,c_EC, T):\n",
    "    x = c_EC / c_e\n",
    "    \"\"\" index = np.piecewise(\n",
    "        x, \n",
    "        [x < 0, ((x >= 0) & (x < 4.541)), x >= 4.541], \n",
    "        [lambda x : 0, lambda x : 1/4.541*x, lambda x : 1]) \"\"\"\n",
    "    sigma_e = (\n",
    "        (c_EC <= 4541) * (1/4.541*x) * (\n",
    "        0.1297 * (c_e / 1000) ** 3 - 2.51 * (c_e / 1000) ** 1.5 + 3.329 * (c_e / 1000)) \n",
    "        + (c_EC > 4541) * (\n",
    "        0.1297 * (c_e / 1000) ** 3 - 2.51 * (c_e / 1000) ** 1.5 + 3.329 * (c_e / 1000))\n",
    "    )\n",
    "    return sigma_e\n",
    "def electrolyte_diffusivity_Nyman2008_wEC(c_e, c_EC,T):\n",
    "    x = c_EC / c_e\n",
    "    \"\"\" index = np.piecewise(\n",
    "        x, \n",
    "        [x < 0, ((x >= 0) & (x < 4.541)), x >= 4.541], \n",
    "        [lambda x : 0, lambda x : 1/4.541*x, lambda x : 1]) \"\"\"\n",
    "    D_c_e = (\n",
    "        (c_EC <= 4541) * (1/4.541*x) * (\n",
    "        8.794e-11 * (c_e / 1000) ** 2 - 3.972e-10 * (c_e / 1000) + 4.862e-10) \n",
    "        +  (c_EC > 4541) *  (\n",
    "        8.794e-11 * (c_e / 1000) ** 2 - 3.972e-10 * (c_e / 1000) + 4.862e-10)\n",
    "    )\n",
    "    return D_c_e\n"
   ]
  },
  {
   "cell_type": "code",
   "execution_count": 3,
   "metadata": {},
   "outputs": [],
   "source": [
    "V_max = 4.2;        V_min = 2.5;\n",
    "Diff_SEI = 1.7e-20;    R_SEI = 2E5;   Bulk_Sol_Con = 4541.0;\n",
    "Experiment_Long   = pybamm.Experiment( [ (\n",
    "    \"Discharge at 1 C for 130 s\", )    ] * 1 )  "
   ]
  },
  {
   "cell_type": "code",
   "execution_count": 4,
   "metadata": {},
   "outputs": [
    {
     "name": "stdout",
     "output_type": "stream",
     "text": [
      "turn source term due to Li+ migration anymore\n",
      "have you come here?\n"
     ]
    }
   ],
   "source": [
    "Model_ddiff = pybamm.lithium_ion.DFN(     \n",
    "    options={\"solvent diffusion\": \"EC\"     } )\n",
    "Model_sdiff = pybamm.lithium_ion.DFN(     \n",
    "    options={\"solvent diffusion\": \"none\"     } )\n",
    "ChemistryChen=pybamm.parameter_sets.Chen2020 \n",
    "ChemistryChen[\"electrolyte\"] = \"lipf6_Nyman2008_rio\";\n",
    "Para_0=pybamm.ParameterValues(chemistry=ChemistryChen);\n",
    "Para_0.update({'Outer SEI solvent diffusivity [m2.s-1]':8e-19})\n",
    "\n",
    "Para_0['EC Lithium ion cross diffusivity [m2.s-1]'] = 1.5e-9/1e2;\n",
    "Para_0['Typical EC Lithium ion cross diffusivity [m2.s-1]'] =   1.5e-9/1e2\n",
    "Para_0['EC transference number'] =    -1.4\n",
    "Para_0['EC diffusivity in electrolyte [m2.s-1]'] =  5E-12;\n",
    "Para_0.update(\n",
    "    {'Electrolyte diffusivity [m2.s-1]':\n",
    "    electrolyte_diffusivity_Nyman2008_wEC})\n",
    "Para_0.update(\n",
    "    {'Electrolyte conductivity [S.m-1]':\n",
    "    electrolyte_conductivity_Nyman2008_wEC})\n",
    "\n",
    "c_e = Model_ddiff.variables[\"Electrolyte concentration [mol.m-3]\"]\n",
    "T = Model_ddiff.variables[\"Cell temperature [K]\"]\n",
    "c_EC = Model_ddiff.variables[\"EC concentration [mol.m-3]\"]\n",
    "D_e =  Para_0['Electrolyte diffusivity [m2.s-1]'] # Para_0.D_e_dimensional #\n",
    "sigma_e = Para_0['Electrolyte conductivity [S.m-1]']\n",
    "Model_ddiff.variables[\"Electrolyte diffusivity [m2.s-1]\"] = D_e(c_e,c_EC, T)\n",
    "Model_ddiff.variables[\"Electrolyte conductivity [S.m-1]\"] = sigma_e(c_e,c_EC, T)"
   ]
  },
  {
   "cell_type": "code",
   "execution_count": 5,
   "metadata": {},
   "outputs": [
    {
     "name": "stderr",
     "output_type": "stream",
     "text": [
      "At t = 0.00311049, , mxstep steps taken before reaching tout.\n",
      "At t = 0.00360209, , mxstep steps taken before reaching tout.\n",
      "At t = 0.00110208, , mxstep steps taken before reaching tout.\n",
      "At t = 0.00110178, , mxstep steps taken before reaching tout.\n"
     ]
    }
   ],
   "source": [
    "Sim_Landes_ddiff    = pybamm.Simulation(\n",
    "    Model_ddiff, experiment = Experiment_Long,\n",
    "    parameter_values = Para_0,\n",
    "    solver = pybamm.CasadiSolver(),)   \n",
    "\n",
    "Sol_Landes_ddiff    = Sim_Landes_ddiff.solve();\n"
   ]
  },
  {
   "cell_type": "code",
   "execution_count": 10,
   "metadata": {},
   "outputs": [
    {
     "data": {
      "application/vnd.jupyter.widget-view+json": {
       "model_id": "b1178a750342456d92fa739e3869b027",
       "version_major": 2,
       "version_minor": 0
      },
      "text/plain": [
       "interactive(children=(FloatSlider(value=0.0, description='t', max=130.0, step=1.3), Output()), _dom_classes=('…"
      ]
     },
     "metadata": {},
     "output_type": "display_data"
    }
   ],
   "source": [
    "label = [\"constant t_0+\"] \n",
    "output_variables3 = [\n",
    "    \"Terminal voltage [V]\",   \n",
    "    \"Current [A]\",\n",
    "    \"EC concentration [mol.m-3]\",\n",
    "    \"Electrolyte concentration [mol.m-3]\",\n",
    "    #\"Loss of capacity to SEI [A.h]\",\n",
    "    \"Porosity times EC concentration\",\n",
    "    \"Porosity times concentration\",\n",
    "    \"Electrolyte diffusivity [m2.s-1]\",\n",
    "    \"Electrolyte conductivity [S.m-1]\"\n",
    "\n",
    "]\n",
    "quick_plot = pybamm.QuickPlot([Sol_Landes_ddiff,], output_variables3,label,) #     variable_limits='tight'\n",
    "quick_plot.dynamic_plot();"
   ]
  },
  {
   "cell_type": "code",
   "execution_count": 7,
   "metadata": {},
   "outputs": [
    {
     "data": {
      "application/vnd.jupyter.widget-view+json": {
       "model_id": "a974819a6ce34cbaba8239b4041b901d",
       "version_major": 2,
       "version_minor": 0
      },
      "text/plain": [
       "interactive(children=(FloatSlider(value=0.0, description='t', max=130.0, step=1.3), Output()), _dom_classes=('…"
      ]
     },
     "metadata": {},
     "output_type": "display_data"
    }
   ],
   "source": [
    "label = [\"constant t_0+\"] \n",
    "output_variables3 = [\n",
    "    \"Total EC in electrolyte [mol]\",\n",
    "    \"Total EC in electrolyte and SEI [mol]\",\n",
    "    \"Total lithium in electrolyte [mol]\",\n",
    "]\n",
    "quick_plot = pybamm.QuickPlot([Sol_Landes_ddiff,], output_variables3,label,) #     variable_limits='tight'\n",
    "quick_plot.dynamic_plot();"
   ]
  },
  {
   "cell_type": "code",
   "execution_count": 8,
   "metadata": {},
   "outputs": [
    {
     "ename": "ModelError",
     "evalue": "initial condition is outside of variable bounds (0, inf) for variable 'Porosity times ec concentration(Negative electrode porosity times EC concentration, Separator porosity times EC concentration, Positive electrode porosity times EC concentration)'.",
     "output_type": "error",
     "traceback": [
      "\u001b[1;31m---------------------------------------------------------------------------\u001b[0m",
      "\u001b[1;31mModelError\u001b[0m                                Traceback (most recent call last)",
      "\u001b[1;32md:\\PhD model acer\\envECdrag\\PyBaMM-GEM\\wip\\Rio_Code\\P3_R3_withPostProsess\\a4_1_diff_cond_c_EC.ipynb Cell 9\u001b[0m in \u001b[0;36m<cell line: 10>\u001b[1;34m()\u001b[0m\n\u001b[0;32m      <a href='vscode-notebook-cell:/d%3A/PhD%20model%20acer/envECdrag/PyBaMM-GEM/wip/Rio_Code/P3_R3_withPostProsess/a4_1_diff_cond_c_EC.ipynb#X11sZmlsZQ%3D%3D?line=2'>3</a>\u001b[0m Experiment_s   \u001b[39m=\u001b[39m pybamm\u001b[39m.\u001b[39mExperiment( [ (\n\u001b[0;32m      <a href='vscode-notebook-cell:/d%3A/PhD%20model%20acer/envECdrag/PyBaMM-GEM/wip/Rio_Code/P3_R3_withPostProsess/a4_1_diff_cond_c_EC.ipynb#X11sZmlsZQ%3D%3D?line=3'>4</a>\u001b[0m     \u001b[39m\"\u001b[39m\u001b[39mDischarge at 1 C for 1 s\u001b[39m\u001b[39m\"\u001b[39m, )    ] \u001b[39m*\u001b[39m \u001b[39m1\u001b[39m )  \n\u001b[0;32m      <a href='vscode-notebook-cell:/d%3A/PhD%20model%20acer/envECdrag/PyBaMM-GEM/wip/Rio_Code/P3_R3_withPostProsess/a4_1_diff_cond_c_EC.ipynb#X11sZmlsZQ%3D%3D?line=4'>5</a>\u001b[0m Sim_new    \u001b[39m=\u001b[39m pybamm\u001b[39m.\u001b[39mSimulation(\n\u001b[0;32m      <a href='vscode-notebook-cell:/d%3A/PhD%20model%20acer/envECdrag/PyBaMM-GEM/wip/Rio_Code/P3_R3_withPostProsess/a4_1_diff_cond_c_EC.ipynb#X11sZmlsZQ%3D%3D?line=5'>6</a>\u001b[0m     Model_new, experiment \u001b[39m=\u001b[39m Experiment_s,\n\u001b[0;32m      <a href='vscode-notebook-cell:/d%3A/PhD%20model%20acer/envECdrag/PyBaMM-GEM/wip/Rio_Code/P3_R3_withPostProsess/a4_1_diff_cond_c_EC.ipynb#X11sZmlsZQ%3D%3D?line=6'>7</a>\u001b[0m     parameter_values \u001b[39m=\u001b[39m Para_0,\n\u001b[0;32m      <a href='vscode-notebook-cell:/d%3A/PhD%20model%20acer/envECdrag/PyBaMM-GEM/wip/Rio_Code/P3_R3_withPostProsess/a4_1_diff_cond_c_EC.ipynb#X11sZmlsZQ%3D%3D?line=7'>8</a>\u001b[0m     solver \u001b[39m=\u001b[39m pybamm\u001b[39m.\u001b[39mCasadiSolver(),)   \n\u001b[1;32m---> <a href='vscode-notebook-cell:/d%3A/PhD%20model%20acer/envECdrag/PyBaMM-GEM/wip/Rio_Code/P3_R3_withPostProsess/a4_1_diff_cond_c_EC.ipynb#X11sZmlsZQ%3D%3D?line=9'>10</a>\u001b[0m Sol_new    \u001b[39m=\u001b[39m Sim_new\u001b[39m.\u001b[39;49msolve()\n",
      "File \u001b[1;32md:\\phd model acer\\envecdrag\\pybamm-gem\\pybamm\\simulation.py:723\u001b[0m, in \u001b[0;36mSimulation.solve\u001b[1;34m(self, t_eval, solver, check_model, save_at_cycles, calc_esoh, starting_solution, initial_soc, callbacks, **kwargs)\u001b[0m\n\u001b[0;32m    721\u001b[0m \u001b[39melif\u001b[39;00m \u001b[39mself\u001b[39m\u001b[39m.\u001b[39moperating_mode \u001b[39m==\u001b[39m \u001b[39m\"\u001b[39m\u001b[39mwith experiment\u001b[39m\u001b[39m\"\u001b[39m:\n\u001b[0;32m    722\u001b[0m     callbacks\u001b[39m.\u001b[39mon_experiment_start(logs)\n\u001b[1;32m--> 723\u001b[0m     \u001b[39mself\u001b[39;49m\u001b[39m.\u001b[39;49mbuild_for_experiment(check_model\u001b[39m=\u001b[39;49mcheck_model)\n\u001b[0;32m    724\u001b[0m     \u001b[39mif\u001b[39;00m t_eval \u001b[39mis\u001b[39;00m \u001b[39mnot\u001b[39;00m \u001b[39mNone\u001b[39;00m:\n\u001b[0;32m    725\u001b[0m         pybamm\u001b[39m.\u001b[39mlogger\u001b[39m.\u001b[39mwarning(\n\u001b[0;32m    726\u001b[0m             \u001b[39m\"\u001b[39m\u001b[39mIgnoring t_eval as solution times are specified by the experiment\u001b[39m\u001b[39m\"\u001b[39m\n\u001b[0;32m    727\u001b[0m         )\n",
      "File \u001b[1;32md:\\phd model acer\\envecdrag\\pybamm-gem\\pybamm\\simulation.py:527\u001b[0m, in \u001b[0;36mSimulation.build_for_experiment\u001b[1;34m(self, check_model)\u001b[0m\n\u001b[0;32m    522\u001b[0m model_with_set_params \u001b[39m=\u001b[39m parameter_values\u001b[39m.\u001b[39mprocess_model(\n\u001b[0;32m    523\u001b[0m     unbuilt_model, inplace\u001b[39m=\u001b[39m\u001b[39mFalse\u001b[39;00m\n\u001b[0;32m    524\u001b[0m )\n\u001b[0;32m    525\u001b[0m \u001b[39m# It's ok to modify the model with set parameters in place as it's\u001b[39;00m\n\u001b[0;32m    526\u001b[0m \u001b[39m# not returned anywhere\u001b[39;00m\n\u001b[1;32m--> 527\u001b[0m built_model \u001b[39m=\u001b[39m \u001b[39mself\u001b[39;49m\u001b[39m.\u001b[39;49m_disc\u001b[39m.\u001b[39;49mprocess_model(\n\u001b[0;32m    528\u001b[0m     model_with_set_params, inplace\u001b[39m=\u001b[39;49m\u001b[39mTrue\u001b[39;49;00m, check_model\u001b[39m=\u001b[39;49mcheck_model\n\u001b[0;32m    529\u001b[0m )\n\u001b[0;32m    531\u001b[0m processed_models[unbuilt_model] \u001b[39m=\u001b[39m built_model\n\u001b[0;32m    532\u001b[0m \u001b[39mself\u001b[39m\u001b[39m.\u001b[39mop_conds_to_built_models[op_cond] \u001b[39m=\u001b[39m built_model\n",
      "File \u001b[1;32md:\\phd model acer\\envecdrag\\pybamm-gem\\pybamm\\discretisations\\discretisation.py:252\u001b[0m, in \u001b[0;36mDiscretisation.process_model\u001b[1;34m(self, model, inplace, check_model)\u001b[0m\n\u001b[0;32m    250\u001b[0m \u001b[39mif\u001b[39;00m check_model:\n\u001b[0;32m    251\u001b[0m     pybamm\u001b[39m.\u001b[39mlogger\u001b[39m.\u001b[39mverbose(\u001b[39m\"\u001b[39m\u001b[39mPerforming model checks for \u001b[39m\u001b[39m{}\u001b[39;00m\u001b[39m\"\u001b[39m\u001b[39m.\u001b[39mformat(model\u001b[39m.\u001b[39mname))\n\u001b[1;32m--> 252\u001b[0m     \u001b[39mself\u001b[39;49m\u001b[39m.\u001b[39;49mcheck_model(model_disc)\n\u001b[0;32m    254\u001b[0m pybamm\u001b[39m.\u001b[39mlogger\u001b[39m.\u001b[39minfo(\u001b[39m\"\u001b[39m\u001b[39mFinish discretising \u001b[39m\u001b[39m{}\u001b[39;00m\u001b[39m\"\u001b[39m\u001b[39m.\u001b[39mformat(model\u001b[39m.\u001b[39mname))\n\u001b[0;32m    256\u001b[0m \u001b[39m# Record that the model has been discretised\u001b[39;00m\n",
      "File \u001b[1;32md:\\phd model acer\\envecdrag\\pybamm-gem\\pybamm\\discretisations\\discretisation.py:1116\u001b[0m, in \u001b[0;36mDiscretisation.check_model\u001b[1;34m(self, model)\u001b[0m\n\u001b[0;32m   1114\u001b[0m \u001b[39mdef\u001b[39;00m \u001b[39mcheck_model\u001b[39m(\u001b[39mself\u001b[39m, model):\n\u001b[0;32m   1115\u001b[0m     \u001b[39m\"\"\"Perform some basic checks to make sure the discretised model makes sense.\"\"\"\u001b[39;00m\n\u001b[1;32m-> 1116\u001b[0m     \u001b[39mself\u001b[39;49m\u001b[39m.\u001b[39;49mcheck_initial_conditions(model)\n\u001b[0;32m   1117\u001b[0m     \u001b[39mself\u001b[39m\u001b[39m.\u001b[39mcheck_variables(model)\n",
      "File \u001b[1;32md:\\phd model acer\\envecdrag\\pybamm-gem\\pybamm\\discretisations\\discretisation.py:1137\u001b[0m, in \u001b[0;36mDiscretisation.check_initial_conditions\u001b[1;34m(self, model)\u001b[0m\n\u001b[0;32m   1133\u001b[0m     bounds \u001b[39m=\u001b[39m var\u001b[39m.\u001b[39mbounds\n\u001b[0;32m   1134\u001b[0m     \u001b[39mif\u001b[39;00m \u001b[39mnot\u001b[39;00m eqn\u001b[39m.\u001b[39mhas_symbol_of_classes(pybamm\u001b[39m.\u001b[39mInputParameter) \u001b[39mand\u001b[39;00m \u001b[39mnot\u001b[39;00m (\n\u001b[0;32m   1135\u001b[0m         \u001b[39mall\u001b[39m(bounds[\u001b[39m0\u001b[39m] \u001b[39m<\u001b[39m\u001b[39m=\u001b[39m ic_eval) \u001b[39mand\u001b[39;00m \u001b[39mall\u001b[39m(ic_eval \u001b[39m<\u001b[39m\u001b[39m=\u001b[39m bounds[\u001b[39m1\u001b[39m])\n\u001b[0;32m   1136\u001b[0m     ):\n\u001b[1;32m-> 1137\u001b[0m         \u001b[39mraise\u001b[39;00m pybamm\u001b[39m.\u001b[39mModelError(\n\u001b[0;32m   1138\u001b[0m             \u001b[39m\"\u001b[39m\u001b[39minitial condition is outside of variable bounds \u001b[39m\u001b[39m\"\u001b[39m\n\u001b[0;32m   1139\u001b[0m             \u001b[39m\"\u001b[39m\u001b[39m{}\u001b[39;00m\u001b[39m for variable \u001b[39m\u001b[39m'\u001b[39m\u001b[39m{}\u001b[39;00m\u001b[39m'\u001b[39m\u001b[39m.\u001b[39m\u001b[39m\"\u001b[39m\u001b[39m.\u001b[39mformat(bounds, var)\n\u001b[0;32m   1140\u001b[0m         )\n\u001b[0;32m   1142\u001b[0m \u001b[39m# Check initial conditions and model equations have the same shape\u001b[39;00m\n\u001b[0;32m   1143\u001b[0m \u001b[39m# Individual\u001b[39;00m\n\u001b[0;32m   1144\u001b[0m \u001b[39mfor\u001b[39;00m var \u001b[39min\u001b[39;00m model\u001b[39m.\u001b[39mrhs\u001b[39m.\u001b[39mkeys():\n",
      "\u001b[1;31mModelError\u001b[0m: initial condition is outside of variable bounds (0, inf) for variable 'Porosity times ec concentration(Negative electrode porosity times EC concentration, Separator porosity times EC concentration, Positive electrode porosity times EC concentration)'."
     ]
    }
   ],
   "source": [
    "Model_new = Model_ddiff.set_initial_conditions_from(\n",
    "    Sol_Landes_ddiff, inplace=False)\n",
    "Experiment_s   = pybamm.Experiment( [ (\n",
    "    \"Discharge at 1 C for 1 s\", )    ] * 1 )  \n",
    "Sim_new    = pybamm.Simulation(\n",
    "    Model_new, experiment = Experiment_s,\n",
    "    parameter_values = Para_0,\n",
    "    solver = pybamm.CasadiSolver(),)   \n",
    "\n",
    "Sol_new    = Sim_new.solve();"
   ]
  },
  {
   "cell_type": "code",
   "execution_count": null,
   "metadata": {},
   "outputs": [],
   "source": []
  }
 ],
 "metadata": {
  "kernelspec": {
   "display_name": "Python 3.9.6 ('envPBGEM')",
   "language": "python",
   "name": "python3"
  },
  "language_info": {
   "codemirror_mode": {
    "name": "ipython",
    "version": 3
   },
   "file_extension": ".py",
   "mimetype": "text/x-python",
   "name": "python",
   "nbconvert_exporter": "python",
   "pygments_lexer": "ipython3",
   "version": "3.9.6"
  },
  "orig_nbformat": 4,
  "vscode": {
   "interpreter": {
    "hash": "83fab7fbb3a8fe7b5910804f702478ef63e2cc6a08d85072a5d68865ed0fd8c7"
   }
  }
 },
 "nbformat": 4,
 "nbformat_minor": 2
}
