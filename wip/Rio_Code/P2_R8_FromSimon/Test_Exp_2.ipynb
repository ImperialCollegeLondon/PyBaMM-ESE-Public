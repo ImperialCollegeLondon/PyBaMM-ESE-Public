{
 "cells": [
  {
   "cell_type": "code",
   "execution_count": 1,
   "metadata": {},
   "outputs": [],
   "source": [
    "import matplotlib.pyplot as plt\n",
    "import numpy as np\n",
    "import pybamm\n",
    "import pandas as pd\n",
    "import timeit\n",
    "start = timeit.default_timer()\n",
    "# pybamm.set_logging_level(\"INFO\")\n",
    "import sys; import os\n",
    "str_path_0 = os.path.abspath(os.path.join(pybamm.__path__[0],'..'))\n",
    "str_path_1 = os.path.abspath(os.path.join(str_path_0,\"wip\\Rio_Code\\Fun_P2\"))\n",
    "sys.path.append(str_path_1) \n",
    "from Fun_P2 import * "
   ]
  },
  {
   "cell_type": "code",
   "execution_count": 2,
   "metadata": {},
   "outputs": [],
   "source": [
    "model = pybamm.lithium_ion.DFN(\n",
    "    options={\n",
    "        \"thermal\": \"lumped\",\n",
    "        \"SEI\": \"interstitial-diffusion limited\",\n",
    "        \"SEI on cracks\": \"true\",\n",
    "        \"SEI film resistance\": \"distributed\", \n",
    "        \"SEI porosity change\": \"true\",\n",
    "        \"particle mechanics\": (\"swelling and cracking\", \"swelling only\"),\n",
    "        \"loss of active material\": \"stress-driven\",\n",
    "        \"lithium plating\": \"partially reversible\"\n",
    "    }\n",
    ")\n",
    "param = pybamm.ParameterValues(\"OKane2023\")\n",
    "param.update({\"Negative electrode porosity\": 0.1})\n",
    "# Adjust SEI parameters\n",
    "param.update({\"Inner SEI lithium interstitial diffusivity [m2.s-1]\": 3e-19})\n",
    "# Override SEI thickness dependence of lithium plating\n",
    "param.update({\"Dead lithium decay rate [s-1]\": 1e-6})\n",
    "param.update({\"Lithium plating kinetic rate constant [m.s-1]\": 1e-10})\n",
    "# Adjust mechanical degradation parameters\n",
    "param.update({\"Negative electrode cracking rate\": 1e-22})\n",
    "param.update({\"Negative electrode LAM constant proportional term [s-1]\": 1e-9})\n",
    "param.update({\"Positive electrode LAM constant proportional term [s-1]\": 1e-9})\n",
    "param.update({\"Electrolyte conductivity [S.m-1]\": electrolyte_conductivity_EC_EMC_3_7_Landesfeind2019_Constant})\n",
    "param.update({\"Electrolyte diffusivity [m2.s-1]\": electrolyte_diffusivity_EC_EMC_3_7_Landesfeind2019_Constant})\n",
    "param.update({\"1 + dlnf/dlnc\": electrolyte_TDF_EC_EMC_3_7_Landesfeind2019_Constant})\n",
    "param.update({\"Cation transference number\": electrolyte_transference_number_EC_EMC_3_7_Landesfeind2019_Constant})\n"
   ]
  },
  {
   "cell_type": "code",
   "execution_count": 3,
   "metadata": {},
   "outputs": [],
   "source": [
    "# Exp-2\n",
    "V_max = 4.2;        V_min = 2.5; \n",
    "discharge_time_mins = 0.15* 60 * 4.86491/5\n",
    "charge_time_mins = 0.5* 60 * 4.86491/5\n",
    "exp_AGE_text = [(\n",
    "    f\"Discharge at 1C for {discharge_time_mins} minutes or until {V_min}V\", \n",
    "    f\"Charge at 0.3C for {charge_time_mins} minutes or until {V_max}V\",\n",
    "    ),  ]  # *  514\n",
    "# step index for ageing\n",
    "step_AGE_CD =0;   step_AGE_CC =1;   step_AGE_CV =2;\n",
    "\n",
    "exp_RPT_text = [ ( \n",
    "    f\"Charge at 0.3C until {V_max} V\",  \n",
    "    f\"Hold at {V_max}V until C/100\",\n",
    "    \"Rest for 1 hours (5 minute period)\",  \n",
    "    f\"Discharge at 0.1C until {V_min} V (5 minute period)\",  \n",
    "    \"Rest for 1 hours (5 minute period)\",  \n",
    "    f\"Charge at 0.1C until {V_max} V (5 minute period)\",\n",
    "    f\"Hold at {V_max} V until C/100\",\n",
    "    \"Rest for 1 hours (5 minute period)\",\n",
    "    f\"Discharge at 1C for {discharge_time_mins} minutes or until {V_min}V\", \n",
    "    \"Rest for 3 hours (15 minute period)\",\n",
    "    ) ]\n",
    "# step index for RPT\n",
    "step_RPT_CD = 3;  step_RPT_RE =4;   step_RPT_CC = 5;  \n",
    " \n",
    "Experiment_RPT    = pybamm.Experiment( exp_RPT_text * 1     ) \n",
    "Experiment_Breakin= pybamm.Experiment( exp_RPT_text * 1     )\n"
   ]
  },
  {
   "cell_type": "code",
   "execution_count": 4,
   "metadata": {},
   "outputs": [],
   "source": [
    "var_pts = {\n",
    "    \"x_n\": 8,  # negative electrode\n",
    "    \"x_s\": 5,  # separator \n",
    "    \"x_p\": 8,  # positive electrode\n",
    "    \"r_n\": 30,  # negative particle\n",
    "    \"r_p\": 20,  # positive particle\n",
    "}"
   ]
  },
  {
   "cell_type": "code",
   "execution_count": 5,
   "metadata": {},
   "outputs": [
    {
     "name": "stdout",
     "output_type": "stream",
     "text": [
      "running time: 216.00046510000175s\n"
     ]
    }
   ],
   "source": [
    "sim1 = pybamm.Simulation(\n",
    "    model, \n",
    "    experiment=Experiment_Breakin,\n",
    "    parameter_values=param,\n",
    "    solver=pybamm.CasadiSolver(),\n",
    "    var_pts=var_pts,\n",
    ")\n",
    "solution1 = sim1.solve(\n",
    "    save_at_cycles=1\n",
    ")\n",
    "\n",
    "stop = timeit.default_timer()\n",
    "print('running time: ' + str(stop - start) +'s')"
   ]
  },
  {
   "cell_type": "code",
   "execution_count": 6,
   "metadata": {},
   "outputs": [],
   "source": [
    "Experiment_Long= pybamm.Experiment( exp_AGE_text * 10     )\n",
    "model_2 = model.set_initial_conditions_from(solution1, inplace=False)\n",
    "sim2 = pybamm.Simulation(\n",
    "    model_2, \n",
    "    experiment=Experiment_Long,\n",
    "    parameter_values=param,\n",
    "    solver=pybamm.CasadiSolver(),\n",
    "    var_pts=var_pts,\n",
    ")\n",
    "solution2 = sim2.solve(\n",
    "    save_at_cycles=[1,5,10] \n",
    ")"
   ]
  },
  {
   "cell_type": "code",
   "execution_count": 7,
   "metadata": {},
   "outputs": [],
   "source": [
    "# plot SOH, LAM, LII\n",
    "# SOH must be defined ourselves? "
   ]
  },
  {
   "cell_type": "code",
   "execution_count": 8,
   "metadata": {},
   "outputs": [
    {
     "data": {
      "application/vnd.jupyter.widget-view+json": {
       "model_id": "61a259ad5bd04642b4f65f52ce42de78",
       "version_major": 2,
       "version_minor": 0
      },
      "text/plain": [
       "interactive(children=(FloatSlider(value=0.0, description='t', max=26.23541972033023, step=0.26235419720330233)…"
      ]
     },
     "metadata": {},
     "output_type": "display_data"
    }
   ],
   "source": [
    "label = [\"Initial solution\",\"Second solution\"] \n",
    "var = [\n",
    "    \"Loss of lithium inventory, including electrolyte [%]\",\n",
    "    \"LAM_ne [%]\",\n",
    "    \"Loss of active material in negative electrode [%]\",\n",
    "    \"LAM_pe [%]\",\n",
    "    \"Loss of active material in positive electrode [%]\",\n",
    "    'LLI [%]', \n",
    "    'Throughput capacity [A.h]',\n",
    "    \"Discharge capacity [A.h]\"\n",
    "]\n",
    "quick_plot = pybamm.QuickPlot(\n",
    "    [solution1,solution2], var,label,variable_limits='tight') #     \n",
    "quick_plot.dynamic_plot();"
   ]
  },
  {
   "cell_type": "code",
   "execution_count": 9,
   "metadata": {},
   "outputs": [
    {
     "name": "stdout",
     "output_type": "stream",
     "text": [
      "18.854461971551682\n",
      "0.7297364999999998\n",
      "[0.         0.02516333 0.05032666 0.07548998 0.10065331 0.12581664\n",
      " 0.15097997 0.17614329 0.20130662 0.22646995 0.25163328 0.2767966\n",
      " 0.30195993 0.32712326 0.35228659 0.37744991 0.40261324 0.42777657\n",
      " 0.4529399  0.47810322 0.50326655 0.52842988 0.55359321 0.57875653\n",
      " 0.60391986 0.62908319 0.65424652 0.67940984 0.70457317 0.7297365 ]\n"
     ]
    }
   ],
   "source": [
    "print(solution2['Throughput capacity [A.h]'].entries[-1])\n",
    "print(solution2.cycles[-1].steps[-1]['Throughput capacity [A.h]'].entries[-1])\n",
    "print(solution2.cycles[-1].steps[1]['Throughput capacity [A.h]'].entries)"
   ]
  },
  {
   "cell_type": "markdown",
   "metadata": {},
   "source": [
    "for step in solution2.cycles[-1].steps:\n",
    "    step['Throughput capacity [A.h]'].entries += solution1['Throughput capacity [A.h]'].entries[-1]"
   ]
  },
  {
   "cell_type": "code",
   "execution_count": 10,
   "metadata": {},
   "outputs": [
    {
     "data": {
      "text/plain": [
       "('Throughput energy [W.h]',)"
      ]
     },
     "execution_count": 10,
     "metadata": {},
     "output_type": "execute_result"
    }
   ],
   "source": [
    "# need to do this every time next solution is got:\n",
    "solution2['Throughput capacity [A.h]'].entries += solution1['Throughput capacity [A.h]'].entries[-1]\n",
    "\"Throughput energy [W.h]\","
   ]
  },
  {
   "cell_type": "code",
   "execution_count": 11,
   "metadata": {},
   "outputs": [
    {
     "data": {
      "text/plain": [
       "[<matplotlib.lines.Line2D at 0x2777ea50df0>]"
      ]
     },
     "execution_count": 11,
     "metadata": {},
     "output_type": "execute_result"
    },
    {
     "data": {
      "image/png": "[encoded data removed]",
      "text/plain": [
       "<Figure size 640x480 with 1 Axes>"
      ]
     },
     "metadata": {},
     "output_type": "display_data"
    }
   ],
   "source": [
    "plt.plot(solution1['Throughput capacity [A.h]'].entries)\n",
    "plt.plot(solution2['Throughput capacity [A.h]'].entries)"
   ]
  },
  {
   "cell_type": "code",
   "execution_count": 12,
   "metadata": {},
   "outputs": [
    {
     "data": {
      "text/plain": [
       "[<matplotlib.lines.Line2D at 0x2777eab95d0>,\n",
       " <matplotlib.lines.Line2D at 0x2777eab9630>,\n",
       " <matplotlib.lines.Line2D at 0x2777eab9660>,\n",
       " <matplotlib.lines.Line2D at 0x2777eab9750>,\n",
       " <matplotlib.lines.Line2D at 0x2777eab9840>,\n",
       " <matplotlib.lines.Line2D at 0x2777eab9930>,\n",
       " <matplotlib.lines.Line2D at 0x2777eab84f0>,\n",
       " <matplotlib.lines.Line2D at 0x2777eab99f0>,\n",
       " <matplotlib.lines.Line2D at 0x2777eab9ae0>,\n",
       " <matplotlib.lines.Line2D at 0x2777eab9bd0>,\n",
       " <matplotlib.lines.Line2D at 0x2777eab9cc0>,\n",
       " <matplotlib.lines.Line2D at 0x2777eab9600>,\n",
       " <matplotlib.lines.Line2D at 0x2777eab9db0>,\n",
       " <matplotlib.lines.Line2D at 0x2777eab9f60>,\n",
       " <matplotlib.lines.Line2D at 0x2777eaba050>,\n",
       " <matplotlib.lines.Line2D at 0x2777eaba140>,\n",
       " <matplotlib.lines.Line2D at 0x2777eaba230>,\n",
       " <matplotlib.lines.Line2D at 0x2777eaba320>,\n",
       " <matplotlib.lines.Line2D at 0x2777eaba410>,\n",
       " <matplotlib.lines.Line2D at 0x2777eaba500>,\n",
       " <matplotlib.lines.Line2D at 0x2777eaba5f0>,\n",
       " <matplotlib.lines.Line2D at 0x2777eaba6e0>,\n",
       " <matplotlib.lines.Line2D at 0x2777eaba7d0>,\n",
       " <matplotlib.lines.Line2D at 0x2777eaba8c0>,\n",
       " <matplotlib.lines.Line2D at 0x2777eaba9b0>,\n",
       " <matplotlib.lines.Line2D at 0x2777eabaaa0>,\n",
       " <matplotlib.lines.Line2D at 0x2777eabab90>,\n",
       " <matplotlib.lines.Line2D at 0x2777eabac80>,\n",
       " <matplotlib.lines.Line2D at 0x2777eabad70>,\n",
       " <matplotlib.lines.Line2D at 0x2777eabae60>,\n",
       " <matplotlib.lines.Line2D at 0x2777eabaf50>,\n",
       " <matplotlib.lines.Line2D at 0x2777eabb040>,\n",
       " <matplotlib.lines.Line2D at 0x2777eabb130>,\n",
       " <matplotlib.lines.Line2D at 0x2777eabb220>,\n",
       " <matplotlib.lines.Line2D at 0x2777eabb310>,\n",
       " <matplotlib.lines.Line2D at 0x2777eabb400>,\n",
       " <matplotlib.lines.Line2D at 0x2777eabb4f0>,\n",
       " <matplotlib.lines.Line2D at 0x2777eabb5e0>,\n",
       " <matplotlib.lines.Line2D at 0x2777eabb6d0>,\n",
       " <matplotlib.lines.Line2D at 0x2777eabb7c0>,\n",
       " <matplotlib.lines.Line2D at 0x2777eabb8b0>,\n",
       " <matplotlib.lines.Line2D at 0x2777eabb9a0>,\n",
       " <matplotlib.lines.Line2D at 0x2777eabba90>,\n",
       " <matplotlib.lines.Line2D at 0x2777eabbb80>,\n",
       " <matplotlib.lines.Line2D at 0x2777eabbc70>,\n",
       " <matplotlib.lines.Line2D at 0x2777eabbd60>,\n",
       " <matplotlib.lines.Line2D at 0x2777eabbe50>,\n",
       " <matplotlib.lines.Line2D at 0x2777eabbf40>,\n",
       " <matplotlib.lines.Line2D at 0x2777eae4070>,\n",
       " <matplotlib.lines.Line2D at 0x2777eae4160>,\n",
       " <matplotlib.lines.Line2D at 0x2777eae4250>,\n",
       " <matplotlib.lines.Line2D at 0x2777eae4340>,\n",
       " <matplotlib.lines.Line2D at 0x2777eae4430>,\n",
       " <matplotlib.lines.Line2D at 0x2777eae4520>,\n",
       " <matplotlib.lines.Line2D at 0x2777eae4610>,\n",
       " <matplotlib.lines.Line2D at 0x2777eae4700>,\n",
       " <matplotlib.lines.Line2D at 0x2777eae47f0>,\n",
       " <matplotlib.lines.Line2D at 0x2777eae48e0>,\n",
       " <matplotlib.lines.Line2D at 0x2777eae49d0>,\n",
       " <matplotlib.lines.Line2D at 0x2777eae4ac0>,\n",
       " <matplotlib.lines.Line2D at 0x2777eae4bb0>,\n",
       " <matplotlib.lines.Line2D at 0x2777eae4ca0>,\n",
       " <matplotlib.lines.Line2D at 0x2777eae4d90>,\n",
       " <matplotlib.lines.Line2D at 0x2777eae4e80>,\n",
       " <matplotlib.lines.Line2D at 0x2777eae4f70>,\n",
       " <matplotlib.lines.Line2D at 0x2777eae5060>,\n",
       " <matplotlib.lines.Line2D at 0x2777eae5150>,\n",
       " <matplotlib.lines.Line2D at 0x2777eae5240>,\n",
       " <matplotlib.lines.Line2D at 0x2777eae5330>,\n",
       " <matplotlib.lines.Line2D at 0x2777eae5420>,\n",
       " <matplotlib.lines.Line2D at 0x2777eae5510>,\n",
       " <matplotlib.lines.Line2D at 0x2777eae5600>,\n",
       " <matplotlib.lines.Line2D at 0x2777eae56f0>,\n",
       " <matplotlib.lines.Line2D at 0x2777eae57e0>,\n",
       " <matplotlib.lines.Line2D at 0x2777eae58d0>,\n",
       " <matplotlib.lines.Line2D at 0x2777eae59c0>,\n",
       " <matplotlib.lines.Line2D at 0x2777eae5ab0>,\n",
       " <matplotlib.lines.Line2D at 0x2777eae5ba0>,\n",
       " <matplotlib.lines.Line2D at 0x2777eae5c90>,\n",
       " <matplotlib.lines.Line2D at 0x2777eae5d80>,\n",
       " <matplotlib.lines.Line2D at 0x2777eae5e70>,\n",
       " <matplotlib.lines.Line2D at 0x2777eae5f60>,\n",
       " <matplotlib.lines.Line2D at 0x2777eae6050>,\n",
       " <matplotlib.lines.Line2D at 0x2777eae6140>,\n",
       " <matplotlib.lines.Line2D at 0x2777eae6230>,\n",
       " <matplotlib.lines.Line2D at 0x2777eae6320>,\n",
       " <matplotlib.lines.Line2D at 0x2777eae6410>,\n",
       " <matplotlib.lines.Line2D at 0x2777eae6500>,\n",
       " <matplotlib.lines.Line2D at 0x2777eae65f0>,\n",
       " <matplotlib.lines.Line2D at 0x2777eae66e0>,\n",
       " <matplotlib.lines.Line2D at 0x2777eae67d0>,\n",
       " <matplotlib.lines.Line2D at 0x2777eae68c0>,\n",
       " <matplotlib.lines.Line2D at 0x2777eae69b0>,\n",
       " <matplotlib.lines.Line2D at 0x2777eae6aa0>,\n",
       " <matplotlib.lines.Line2D at 0x2777eae6b90>,\n",
       " <matplotlib.lines.Line2D at 0x2777eae6c80>,\n",
       " <matplotlib.lines.Line2D at 0x2777eae6d70>,\n",
       " <matplotlib.lines.Line2D at 0x2777eae6e60>,\n",
       " <matplotlib.lines.Line2D at 0x2777eae6f50>,\n",
       " <matplotlib.lines.Line2D at 0x2777eae7040>,\n",
       " <matplotlib.lines.Line2D at 0x2777eae7130>,\n",
       " <matplotlib.lines.Line2D at 0x2777eae7220>,\n",
       " <matplotlib.lines.Line2D at 0x2777eae7310>,\n",
       " <matplotlib.lines.Line2D at 0x2777eae7400>,\n",
       " <matplotlib.lines.Line2D at 0x2777eae74f0>,\n",
       " <matplotlib.lines.Line2D at 0x2777eae75e0>,\n",
       " <matplotlib.lines.Line2D at 0x2777eae76d0>,\n",
       " <matplotlib.lines.Line2D at 0x2777eae77c0>,\n",
       " <matplotlib.lines.Line2D at 0x2777eae78b0>,\n",
       " <matplotlib.lines.Line2D at 0x2777eae79a0>,\n",
       " <matplotlib.lines.Line2D at 0x2777eae7a90>,\n",
       " <matplotlib.lines.Line2D at 0x2777eae7b80>,\n",
       " <matplotlib.lines.Line2D at 0x2777eae7c70>,\n",
       " <matplotlib.lines.Line2D at 0x2777eae7d60>,\n",
       " <matplotlib.lines.Line2D at 0x2777eae7e50>,\n",
       " <matplotlib.lines.Line2D at 0x2777eae7f40>,\n",
       " <matplotlib.lines.Line2D at 0x2777eafc070>]"
      ]
     },
     "execution_count": 12,
     "metadata": {},
     "output_type": "execute_result"
    },
    {
     "data": {
      "image/png": "[encoded data removed]",
      "text/plain": [
       "<Figure size 640x480 with 1 Axes>"
      ]
     },
     "metadata": {},
     "output_type": "display_data"
    }
   ],
   "source": [
    "plt.plot(solution2['Cell temperature [K]'].entries )"
   ]
  },
  {
   "cell_type": "code",
   "execution_count": 13,
   "metadata": {},
   "outputs": [
    {
     "data": {
      "text/plain": [
       "array([[25.00043178, 25.94631341, 27.36272063, ..., 29.6292932 ,\n",
       "        29.53091864, 29.43968748],\n",
       "       [25.00043178, 25.94631341, 27.36272063, ..., 29.6292932 ,\n",
       "        29.53091864, 29.43968748],\n",
       "       [25.00043178, 25.94631341, 27.36272063, ..., 29.6292932 ,\n",
       "        29.53091864, 29.43968748],\n",
       "       ...,\n",
       "       [25.00043178, 25.94631341, 27.36272063, ..., 29.6292932 ,\n",
       "        29.53091864, 29.43968748],\n",
       "       [25.00043178, 25.94631341, 27.36272063, ..., 29.6292932 ,\n",
       "        29.53091864, 29.43968748],\n",
       "       [25.00043178, 25.94631341, 27.36272063, ..., 29.6292932 ,\n",
       "        29.53091864, 29.43968748]])"
      ]
     },
     "execution_count": 13,
     "metadata": {},
     "output_type": "execute_result"
    }
   ],
   "source": [
    "solution2['Cell temperature [C]'].entries "
   ]
  }
 ],
 "metadata": {
  "kernelspec": {
   "display_name": "envPBpublic",
   "language": "python",
   "name": "python3"
  },
  "language_info": {
   "codemirror_mode": {
    "name": "ipython",
    "version": 3
   },
   "file_extension": ".py",
   "mimetype": "text/x-python",
   "name": "python",
   "nbconvert_exporter": "python",
   "pygments_lexer": "ipython3",
   "version": "3.10.10"
  },
  "orig_nbformat": 4,
  "vscode": {
   "interpreter": {
    "hash": "67421545f68ed51676f11d33623f5bfe7fd6cf9e8d95914baad5cd6f61ac5d03"
   }
  }
 },
 "nbformat": 4,
 "nbformat_minor": 2
}
