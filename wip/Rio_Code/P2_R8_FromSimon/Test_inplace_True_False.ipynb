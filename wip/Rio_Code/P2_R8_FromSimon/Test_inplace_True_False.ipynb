{
 "cells": [
  {
   "cell_type": "code",
   "execution_count": 11,
   "metadata": {},
   "outputs": [],
   "source": [
    "# Ruihe's preference: set inplace=False; to have multiple models, but few solutions\n",
    "# Simon's preference: set inplace=True, to have many solutions but only one model"
   ]
  },
  {
   "cell_type": "code",
   "execution_count": 12,
   "metadata": {},
   "outputs": [],
   "source": [
    "import matplotlib.pyplot as plt\n",
    "import numpy as np\n",
    "import pybamm\n",
    "import pandas as pd\n",
    "import timeit\n",
    "# pybamm.set_logging_level(\"INFO\")"
   ]
  },
  {
   "cell_type": "code",
   "execution_count": 13,
   "metadata": {},
   "outputs": [
    {
     "name": "stdout",
     "output_type": "stream",
     "text": [
      "running time: 348.1350201999999s\n"
     ]
    }
   ],
   "source": [
    "start = timeit.default_timer()\n",
    "model = pybamm.lithium_ion.DFN()\n",
    "param = pybamm.ParameterValues(\"OKane2023\")\n",
    "V_max = 4.2;        V_min = 2.5; \n",
    "exp_RPT_text = [ ( f\"Discharge at 1 C for 20 minute\", ) ]\n",
    "Experiment_Breakin= pybamm.Experiment( exp_RPT_text * 1     )\n",
    "var_pts = {\n",
    "    \"x_n\": 100,  # negative electrode\n",
    "    \"x_s\": 100,  # separator \n",
    "    \"x_p\": 100,  # positive electrode\n",
    "    \"r_n\": 1000,  # negative particle\n",
    "    \"r_p\": 1000,  # positive particle\n",
    "}\n",
    "sim1 = pybamm.Simulation(\n",
    "    model, \n",
    "    experiment=Experiment_Breakin,\n",
    "    parameter_values=param,\n",
    "    solver=pybamm.CasadiSolver(return_solution_if_failed_early=True),\n",
    "    var_pts=var_pts,\n",
    ")\n",
    "solution1 = sim1.solve()\n",
    "\n",
    "stop = timeit.default_timer()\n",
    "print('running time: ' + str(stop - start) +'s')"
   ]
  },
  {
   "cell_type": "code",
   "execution_count": 14,
   "metadata": {},
   "outputs": [
    {
     "name": "stdout",
     "output_type": "stream",
     "text": [
      "running time: 3261.0516525s\n"
     ]
    }
   ],
   "source": [
    "start = timeit.default_timer()\n",
    "model_2 = model.set_initial_conditions_from(solution1, inplace=False)\n",
    "sim2 = pybamm.Simulation(\n",
    "    model_2, \n",
    "    experiment=Experiment_Breakin,\n",
    "    parameter_values=param,\n",
    "    solver=pybamm.CasadiSolver(return_solution_if_failed_early=True),\n",
    "    var_pts=var_pts,\n",
    ")\n",
    "solution2 = sim2.solve(\n",
    "\n",
    ")\n",
    "stop = timeit.default_timer()\n",
    "print('running time: ' + str(stop - start) +'s')"
   ]
  },
  {
   "cell_type": "code",
   "execution_count": 15,
   "metadata": {},
   "outputs": [
    {
     "data": {
      "application/vnd.jupyter.widget-view+json": {
       "model_id": "0cbafe4404a941668ce7abea5dc5da68",
       "version_major": 2,
       "version_minor": 0
      },
      "text/plain": [
       "interactive(children=(FloatSlider(value=0.0, description='t', max=1200.0, step=12.0), Output()), _dom_classes=…"
      ]
     },
     "metadata": {},
     "output_type": "display_data"
    }
   ],
   "source": [
    "label = [\"Sol-1\",\"Sol-2\"] \n",
    "var = [\n",
    "    \"Terminal voltage [V]\",\n",
    "    \"Electrolyte concentration [mol.m-3]\",\n",
    "]\n",
    "quick_plot = pybamm.QuickPlot(\n",
    "    [\n",
    "    solution1,\n",
    "    solution2,\n",
    "    ], var,label,variable_limits='tight') #     \n",
    "quick_plot.dynamic_plot();"
   ]
  },
  {
   "cell_type": "code",
   "execution_count": null,
   "metadata": {},
   "outputs": [],
   "source": []
  }
 ],
 "metadata": {
  "kernelspec": {
   "display_name": "envPBGEM",
   "language": "python",
   "name": "python3"
  },
  "language_info": {
   "codemirror_mode": {
    "name": "ipython",
    "version": 3
   },
   "file_extension": ".py",
   "mimetype": "text/x-python",
   "name": "python",
   "nbconvert_exporter": "python",
   "pygments_lexer": "ipython3",
   "version": "3.9.6"
  },
  "orig_nbformat": 4,
  "vscode": {
   "interpreter": {
    "hash": "83fab7fbb3a8fe7b5910804f702478ef63e2cc6a08d85072a5d68865ed0fd8c7"
   }
  }
 },
 "nbformat": 4,
 "nbformat_minor": 2
}
