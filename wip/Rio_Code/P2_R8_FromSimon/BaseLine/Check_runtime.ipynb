{
 "cells": [
  {
   "cell_type": "code",
   "execution_count": 11,
   "metadata": {},
   "outputs": [],
   "source": [
    "import pybamm as pb;import pandas as pd   ;import numpy as np;import os;import matplotlib.pyplot as plt;import os;#import imageio\n",
    "from scipy.io import savemat,loadmat;from pybamm import constants,exp;import matplotlib as mpl; fs=17; # or we can set import matplotlib.pyplot as plt then say 'mpl.rc...'\n",
    "import openpyxl\n",
    "import traceback\n",
    "import timeit\n",
    "import multiprocessing\n",
    "import scipy.optimize\n",
    "import random;import time, signal\n",
    "import sys  \n",
    "str_path_0 = os.path.abspath(os.path.join(pb.__path__[0],'..'))\n",
    "str_path_1 = os.path.abspath(os.path.join(str_path_0,\"wip\\Rio_Code\\Fun_P2\"))\n",
    "sys.path.append(str_path_1) \n",
    "from Fun_P2 import * "
   ]
  },
  {
   "cell_type": "code",
   "execution_count": 12,
   "metadata": {},
   "outputs": [],
   "source": [
    "model = pb.lithium_ion.DFN()\n",
    "param = pb.ParameterValues(\"OKane2023\")\n",
    "# Adjust SEI parameters\n",
    "param.update({\"Inner SEI lithium interstitial diffusivity [m2.s-1]\": 5e-19})\n",
    "# Override SEI thickness dependence of lithium plating\n",
    "param.update({\"Dead lithium decay rate [s-1]\": 1e-6})\n",
    "param.update({\"Lithium plating kinetic rate constant [m.s-1]\": 1e-10})\n",
    "# Adjust mechanical degradation parameters\n",
    "param.update({\"Negative electrode cracking rate\": 1e-22})\n",
    "param.update({\"Negative electrode LAM constant proportional term [s-1]\": 5e-8})\n",
    "param.update({\"Positive electrode LAM constant proportional term [s-1]\": 1e-8})\n",
    "param.update({\"Electrolyte conductivity [S.m-1]\": electrolyte_conductivity_EC_EMC_3_7_Landesfeind2019_Constant})\n",
    "param.update({\"Electrolyte diffusivity [m2.s-1]\": electrolyte_diffusivity_EC_EMC_3_7_Landesfeind2019_Constant})\n",
    "param.update({\"1 + dlnf/dlnc\": electrolyte_TDF_EC_EMC_3_7_Landesfeind2019_Constant})\n",
    "param.update({\"Cation transference number\": electrolyte_transference_number_EC_EMC_3_7_Landesfeind2019_Constant})\n"
   ]
  },
  {
   "cell_type": "code",
   "execution_count": 14,
   "metadata": {},
   "outputs": [],
   "source": [
    "# define experiment\n",
    "V_max = 4.2;        V_min = 2.5; \n",
    "discharge_time_mins = 0.15* 60 * 4.86491/5\n",
    "charge_time_mins = 0.5* 60 * 4.86491/5\n",
    "exp_RPT_0p1C_text = [ ( \n",
    "    f\"Charge at 0.3C until {V_max} V\",  \n",
    "    f\"Hold at {V_max}V until C/100\",\n",
    "    \"Rest for 1 hours (5 minute period)\",  \n",
    "    f\"Discharge at 0.1C until {V_min} V (10 minute period)\",  \n",
    "    \"Rest for 1 hours (5 minute period)\",  \n",
    "    f\"Charge at 0.1C until {V_max} V (10 minute period)\",\n",
    "    ) ] # *1\n",
    "exp_RPT_refill_text = [ (\n",
    "    f\"Charge at 0.3C until {V_max} V\",  \n",
    "    f\"Hold at {V_max}V until C/100\",\n",
    "    \"Rest for 1 hours (5 minute period)\",  \n",
    "    ) ] # * 1\n",
    "exp_RPT_GITT_text = [ (\n",
    "    \"Rest for 58 seconds (29 second period)\",  \n",
    "    \"Rest for 2 seconds (0.1 second period)\",  \n",
    "    f\"Discharge at C/2 for 2 seconds or until {V_min}V (0.1 second period)\",\n",
    "    f\"Discharge at C/2 for 286 seconds or until {V_min}V\",\n",
    "    \"Rest for 1 hour (5 minute period)\",  \n",
    "    ) ] # * 24\n",
    "exp_preAge_text = [ (    \n",
    "    f\"Discharge at 1C for {discharge_time_mins} minutes or until {V_min}V\", \n",
    "    \"Rest for 3 hours (15 minute period)\",\n",
    "    ) ] # * 1\n",
    "Experiment_0p1C = pb.Experiment( exp_RPT_0p1C_text * 1     )\n",
    "Experiment_refill = pb.Experiment( exp_RPT_refill_text * 1     )\n",
    "Experiment_GITT = pb.Experiment( exp_RPT_GITT_text * 24     )\n",
    "Experiment_preAge = pb.Experiment( exp_preAge_text * 1     )\n",
    "Exps = [Experiment_0p1C,Experiment_refill,Experiment_GITT,Experiment_preAge]\n",
    "Texts = [\"0.1C\",\"Refill\",\"GITT\",\"Pre Age\"]"
   ]
  },
  {
   "cell_type": "code",
   "execution_count": 15,
   "metadata": {},
   "outputs": [],
   "source": [
    "var_pts = {\n",
    "    \"x_n\": 5,  # negative electrode\n",
    "    \"x_s\": 5,  # separator \n",
    "    \"x_p\": 5,  # positive electrode\n",
    "    \"r_n\": 30,  # negative particle\n",
    "    \"r_p\": 20,  # positive particle\n",
    "}"
   ]
  },
  {
   "cell_type": "code",
   "execution_count": 19,
   "metadata": {},
   "outputs": [
    {
     "name": "stdout",
     "output_type": "stream",
     "text": [
      "running time: for Exp 0.1C is 8.003 s\n",
      "running time: for Exp Refill is 2.700 s\n",
      "running time: for Exp GITT is 12.767 s\n",
      "running time: for Exp Pre Age is 2.297 s\n",
      "running time: for All is 25.768 s\n"
     ]
    }
   ],
   "source": [
    "# the following scripts show that if solve independetly, it is very quick! (25s )\n",
    "Sols = []\n",
    "TotTimeer = pb.Timer() \n",
    "for exp,text in zip(Exps,Texts):\n",
    "    start_1 = pb.Timer()   # timeit.default_timer()\n",
    "    sim1 = pb.Simulation(\n",
    "        model, \n",
    "        experiment=exp,\n",
    "        parameter_values=param,\n",
    "        solver=pb.CasadiSolver(),\n",
    "        var_pts=var_pts,\n",
    "    )\n",
    "    Sols.append(sim1.solve())\n",
    "\n",
    "    # stop_1 = timeit.default_timer()\n",
    "    print(f'running time: for Exp {text} is {start_1.time()}')\n",
    "print(f'running time: for All is {TotTimeer.time()}')"
   ]
  },
  {
   "cell_type": "code",
   "execution_count": 17,
   "metadata": {},
   "outputs": [
    {
     "name": "stdout",
     "output_type": "stream",
     "text": [
      "running time: for Exp 0.1C is 7.171382499999936 s\n",
      "running time: for Exp Refill is 2.4498528999999962 s\n",
      "running time: for Exp GITT is 13.01265669999998 s\n"
     ]
    },
    {
     "name": "stderr",
     "output_type": "stream",
     "text": [
      "At t = 0.00371461 and h = 2.98094e-019, the corrector convergence failed repeatedly or with |h| = hmin.\n",
      "At t = 0.00371461 and h = 4.81095e-019, the corrector convergence failed repeatedly or with |h| = hmin.\n"
     ]
    },
    {
     "name": "stdout",
     "output_type": "stream",
     "text": [
      "running time: for Exp Pre Age is 2.3340688000000682 s\n"
     ]
    }
   ],
   "source": [
    "# then what if need to build based on previous solution? - still pretty quick!\n",
    "\n",
    "Sols = []; Models = [];\n",
    "for i in range(4):  #  in zip(Exps,Texts):\n",
    "    if i==0:\n",
    "        start_1 = timeit.default_timer()\n",
    "        model = pb.lithium_ion.DFN()\n",
    "        sim1 = pb.Simulation(\n",
    "            model, \n",
    "            experiment=Exps[i],\n",
    "            parameter_values=param,\n",
    "            solver=pb.CasadiSolver(),\n",
    "            var_pts=var_pts,\n",
    "        )\n",
    "        Sols.append(sim1.solve())\n",
    "        Models.append(model)\n",
    "        stop_1 = timeit.default_timer()\n",
    "        print(f'running time: for Exp {Texts[i]} is {str(stop_1 - start_1)} s')\n",
    "    else:\n",
    "        start_1 = timeit.default_timer()\n",
    "        Model_new = Models[-1].set_initial_conditions_from(Sols[-1], inplace=False)\n",
    "        sim1 = pb.Simulation(\n",
    "            Model_new, \n",
    "            experiment=Exps[i],\n",
    "            parameter_values=param,\n",
    "            solver=pb.CasadiSolver(),\n",
    "            var_pts=var_pts,\n",
    "        )\n",
    "        Sols.append(sim1.solve())\n",
    "        Models.append(Model_new)\n",
    "\n",
    "        stop_1 = timeit.default_timer()\n",
    "        print(f'running time: for Exp {Texts[i]} is {str(stop_1 - start_1)} s')\n"
   ]
  },
  {
   "cell_type": "code",
   "execution_count": 18,
   "metadata": {},
   "outputs": [
    {
     "name": "stdout",
     "output_type": "stream",
     "text": [
      "running time: for Exp 0.1C is 7.895964399999912 s\n",
      "running time: for Exp Refill is 2.7453550999998697 s\n",
      "running time: for Exp GITT is 13.26060069999994 s\n"
     ]
    },
    {
     "name": "stderr",
     "output_type": "stream",
     "text": [
      "At t = 0.00382587 and h = 4.80267e-016, the corrector convergence failed repeatedly or with |h| = hmin.\n",
      "At t = 0.00382587 and h = 2.46462e-016, the corrector convergence failed repeatedly or with |h| = hmin.\n"
     ]
    },
    {
     "name": "stdout",
     "output_type": "stream",
     "text": [
      "running time: for Exp Pre Age is 2.3426165000000765 s\n"
     ]
    }
   ],
   "source": [
    "# add a bit ageing?\n",
    "# then what if need to build based on previous solution? - still pretty quick!\n",
    "\n",
    "Sols = []; Models = [];\n",
    "for i in range(4):  #  in zip(Exps,Texts):\n",
    "    if i==0:\n",
    "        start_1 = timeit.default_timer()\n",
    "        model = pb.lithium_ion.DFN(options={\n",
    "            \"lithium plating\": \"partially reversible\",\n",
    "            \"contact resistance\": \"true\",\n",
    "            })\n",
    "        sim1 = pb.Simulation(\n",
    "            model, \n",
    "            experiment=Exps[i],\n",
    "            parameter_values=param,\n",
    "            solver=pb.CasadiSolver(),\n",
    "            var_pts=var_pts,\n",
    "        )\n",
    "        Sols.append(sim1.solve())\n",
    "        Models.append(model)\n",
    "        stop_1 = timeit.default_timer()\n",
    "        print(f'running time: for Exp {Texts[i]} is {str(stop_1 - start_1)} s')\n",
    "    else:\n",
    "        start_1 = timeit.default_timer()\n",
    "        Model_new = Models[-1].set_initial_conditions_from(Sols[-1], inplace=False)\n",
    "        sim1 = pb.Simulation(\n",
    "            Model_new, \n",
    "            experiment=Exps[i],\n",
    "            parameter_values=param,\n",
    "            solver=pb.CasadiSolver(),\n",
    "            var_pts=var_pts,\n",
    "        )\n",
    "        Sols.append(sim1.solve())\n",
    "        Models.append(Model_new)\n",
    "\n",
    "        stop_1 = timeit.default_timer()\n",
    "        print(f'running time: for Exp {Texts[i]} is {str(stop_1 - start_1)} s')\n"
   ]
  }
 ],
 "metadata": {
  "kernelspec": {
   "display_name": "envPBpublic",
   "language": "python",
   "name": "python3"
  },
  "language_info": {
   "codemirror_mode": {
    "name": "ipython",
    "version": 3
   },
   "file_extension": ".py",
   "mimetype": "text/x-python",
   "name": "python",
   "nbconvert_exporter": "python",
   "pygments_lexer": "ipython3",
   "version": "3.9.6"
  },
  "orig_nbformat": 4,
  "vscode": {
   "interpreter": {
    "hash": "67421545f68ed51676f11d33623f5bfe7fd6cf9e8d95914baad5cd6f61ac5d03"
   }
  }
 },
 "nbformat": 4,
 "nbformat_minor": 2
}
