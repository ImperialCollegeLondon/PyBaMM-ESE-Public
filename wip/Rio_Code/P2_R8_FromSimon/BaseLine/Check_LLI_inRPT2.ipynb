{
 "cells": [
  {
   "cell_type": "code",
   "execution_count": 1,
   "metadata": {},
   "outputs": [],
   "source": [
    "import pybamm as pb;\n",
    "import matplotlib as mpl; \n",
    "font = {'family' : 'DejaVu Sans','size'   : 15}\n",
    "mpl.rc('font', **font)"
   ]
  },
  {
   "cell_type": "code",
   "execution_count": 3,
   "metadata": {},
   "outputs": [],
   "source": [
    "model = pb.lithium_ion.DFN()\n",
    "model_2 = pb.lithium_ion.DFN(options={\n",
    "    \"thermal\": \"lumped\",\n",
    "    \"particle\": \"Fickian diffusion\",          \n",
    "    \"SEI\":\"interstitial-diffusion limited\",   \n",
    "    \"SEI on cracks\":\"true\",  \n",
    "    \"SEI film resistance\":\"distributed\",          \n",
    "    \"SEI porosity change\":\"true\",      \n",
    "    \"particle mechanics\":(\"swelling and cracking\", \"swelling only\"), \n",
    "    \"loss of active material\":\"stress-driven\", \n",
    "    \"lithium plating\":\"partially reversible\"\n",
    "    },)\n",
    "param = pb.ParameterValues(\"OKane2023\")\n",
    "# Adjust SEI parameters\n",
    "param.update({\"Inner SEI lithium interstitial diffusivity [m2.s-1]\": 5e-19})\n",
    "# Override SEI thickness dependence of lithium plating\n",
    "param.update({\"Dead lithium decay rate [s-1]\": 1e-6})\n",
    "param.update({\"Lithium plating kinetic rate constant [m.s-1]\": 1e-10})\n",
    "# Adjust mechanical degradation parameters\n",
    "param.update({\"Negative electrode cracking rate\": 1e-22})\n",
    "param.update({\"Negative electrode LAM constant proportional term [s-1]\": 5e-8})\n",
    "param.update({\"Positive electrode LAM constant proportional term [s-1]\": 1e-8})\n"
   ]
  },
  {
   "cell_type": "code",
   "execution_count": 5,
   "metadata": {},
   "outputs": [],
   "source": [
    "# define experiment\n",
    "V_max = 4.2;        V_min = 2.5; \n",
    "exp_RPT_text = [ ( \n",
    "    f\"Charge at 0.3C until {V_max} V\",  \n",
    "    f\"Hold at {V_max}V until C/100\",\n",
    "    \"Rest for 1 hours (5 minute period)\",  \n",
    "    f\"Discharge at 0.1C until {V_min} V (5 minute period)\",  \n",
    "    \"Rest for 1 hours (5 minute period)\",  \n",
    "    f\"Charge at 0.1C until {V_max} V (5 minute period)\",\n",
    "    f\"Hold at {V_max} V until C/100\",\n",
    "    \"Rest for 1 hours (5 minute period)\",\n",
    "    f\"Discharge at 1C until {V_min}V\", \n",
    "    \"Rest for 3 hours (15 minute period)\",\n",
    "    ) ]\n",
    "Experiment_Breakin= pb.Experiment( exp_RPT_text * 1     )\n"
   ]
  },
  {
   "cell_type": "code",
   "execution_count": 6,
   "metadata": {},
   "outputs": [],
   "source": [
    "var_pts = {\n",
    "    \"x_n\": 5,  # negative electrode\n",
    "    \"x_s\": 5,  # separator \n",
    "    \"x_p\": 5,  # positive electrode\n",
    "    \"r_n\": 30,  # negative particle\n",
    "    \"r_p\": 20,  # positive particle\n",
    "}"
   ]
  },
  {
   "cell_type": "code",
   "execution_count": 7,
   "metadata": {},
   "outputs": [],
   "source": [
    "sim1 = pb.Simulation(\n",
    "    model, \n",
    "    experiment=Experiment_Breakin,\n",
    "    parameter_values=param,\n",
    "    solver=pb.CasadiSolver(),\n",
    "    var_pts=var_pts,\n",
    ")\n",
    "solution1 = sim1.solve(\n",
    "    #save_at_cycles=1\n",
    ")\n",
    "\n",
    "#stop = timeit.default_timer()\n",
    "#print('running time: ' + str(stop - start) +'s')"
   ]
  },
  {
   "cell_type": "code",
   "execution_count": 8,
   "metadata": {},
   "outputs": [],
   "source": [
    "sim2 = pb.Simulation(\n",
    "    model_2, \n",
    "    experiment=Experiment_Breakin,\n",
    "    parameter_values=param,\n",
    "    solver=pb.CasadiSolver(),\n",
    "    var_pts=var_pts,\n",
    ")\n",
    "solution2 = sim2.solve(\n",
    "    #save_at_cycles=1\n",
    ")"
   ]
  },
  {
   "cell_type": "code",
   "execution_count": 9,
   "metadata": {},
   "outputs": [
    {
     "name": "stdout",
     "output_type": "stream",
     "text": [
      "[0.25 0.25 0.25 0.25 0.25] [0.20891532 0.20891532 0.20891532 0.20891532 0.20891532]\n"
     ]
    }
   ],
   "source": [
    "param[\"Negative electrode porosity\"]\n",
    "print(\n",
    "    solution1['Negative electrode porosity'].entries[:,0],\n",
    "    solution2['Negative electrode porosity'].entries[:,0],)"
   ]
  },
  {
   "cell_type": "code",
   "execution_count": 10,
   "metadata": {},
   "outputs": [
    {
     "name": "stdout",
     "output_type": "stream",
     "text": [
      "0.25 0.25\n"
     ]
    }
   ],
   "source": [
    "print(\n",
    "    solution1.cycles[0]['X-averaged negative electrode porosity'].entries[-1],\n",
    "    solution1.cycles[0]['X-averaged negative electrode porosity'].entries[0],)"
   ]
  },
  {
   "cell_type": "code",
   "execution_count": 11,
   "metadata": {},
   "outputs": [
    {
     "name": "stdout",
     "output_type": "stream",
     "text": [
      "0.0\n",
      "0.0012225361408754604\n"
     ]
    }
   ],
   "source": [
    "# plot SOH, LAM, LII\n",
    "# SOH must be defined ourselves? \n",
    "print(solution1.cycles[0]['Loss of capacity to SEI [A.h]'].entries[-1])\n",
    "print(solution2.cycles[-1]['Loss of capacity to SEI [A.h]'].entries[-1]-solution2.cycles[0]['Loss of capacity to SEI [A.h]'].entries[0])"
   ]
  },
  {
   "cell_type": "code",
   "execution_count": 14,
   "metadata": {},
   "outputs": [
    {
     "data": {
      "application/vnd.jupyter.widget-view+json": {
       "model_id": "1782696affbf47e5a56442aa24dcb82b",
       "version_major": 2,
       "version_minor": 0
      },
      "text/plain": [
       "interactive(children=(FloatSlider(value=0.0, description='t', max=26.759424835105833, step=0.26759424835105833…"
      ]
     },
     "metadata": {},
     "output_type": "display_data"
    }
   ],
   "source": [
    "label = [\"Blank DFN\",\"All ageing on\"] \n",
    "var = [\n",
    "    \"Discharge capacity [A.h]\",\n",
    "    \"Terminal voltage [V]\",\n",
    "    \"Negative electrode porosity\",\n",
    "    \"LAM_ne [%]\",\n",
    "    'LLI [%]', \n",
    "    'X-averaged negative electrode porosity'\n",
    "]\n",
    "quick_plot = pb.QuickPlot(\n",
    "    [solution1,solution2], var,label,variable_limits='tight') #     \n",
    "quick_plot.dynamic_plot();"
   ]
  }
 ],
 "metadata": {
  "kernelspec": {
   "display_name": "envPBpublic",
   "language": "python",
   "name": "python3"
  },
  "language_info": {
   "codemirror_mode": {
    "name": "ipython",
    "version": 3
   },
   "file_extension": ".py",
   "mimetype": "text/x-python",
   "name": "python",
   "nbconvert_exporter": "python",
   "pygments_lexer": "ipython3",
   "version": "3.9.6"
  },
  "orig_nbformat": 4,
  "vscode": {
   "interpreter": {
    "hash": "67421545f68ed51676f11d33623f5bfe7fd6cf9e8d95914baad5cd6f61ac5d03"
   }
  }
 },
 "nbformat": 4,
 "nbformat_minor": 2
}
