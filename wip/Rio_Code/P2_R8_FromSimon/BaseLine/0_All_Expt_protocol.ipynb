{
 "cells": [
  {
   "attachments": {},
   "cell_type": "markdown",
   "metadata": {},
   "source": [
    "# This file contains all experiments that Niall does, together with RPT experiments"
   ]
  },
  {
   "cell_type": "code",
   "execution_count": null,
   "metadata": {},
   "outputs": [],
   "source": [
    "# based on the discussion with Simon on 17/05/2023, \n",
    "# we will do C/10 and C/2 for all scanning, use C/2 to calculate R_50%SOC \n",
    "# and compare with Niall's RPT "
   ]
  },
  {
   "cell_type": "code",
   "execution_count": null,
   "metadata": {},
   "outputs": [],
   "source": [
    "import pybamm"
   ]
  },
  {
   "cell_type": "code",
   "execution_count": null,
   "metadata": {},
   "outputs": [],
   "source": [
    "# Exp-1\n",
    "V_max = 4.2;        V_min = 2.5; \n",
    "charge_time_mins = 60 * 5 /5 # \n",
    "# double check here:\n",
    "# according to https://wiki.imperial.ac.uk/display/EESE/LOCKDOWN+EDITION%3A+Test+Plan+-+LG+M50+Degradation+Testing+-+Lockdown+Edition\n",
    "# and D:\\Niall\\NDK01\\LG M50 Degradation Tests\\Degradation Settings Files\\Experiment 1 - Si deg - low SOC cycling (0-30pc) at 0,3C and 1D.mps\n",
    "# the nominal capacity here is 5 rather than 4.86491\n",
    "# but still need to check with Niall later\n",
    "# ageing temperature in the wiki link is 15, 25, 35 but actually it is 10, 25, 40\n",
    "exp_AGE_text = [(\n",
    "    f\"Discharge at 1 C until {V_min} V\", \n",
    "    f\"Charge at 0.3 C for {charge_time_mins} minutes\",\n",
    "    ),  ]  # *257, same on cycler and wiki \n",
    "# step index for ageing\n",
    "step_AGE_CD =0;   step_AGE_CC =1;   step_AGE_CV =2;\n",
    "\n",
    "exp_RPT_text = [ (\n",
    "    # refill\n",
    "    f\"Hold at {V_max}V until C/100\",\n",
    "    \"Rest for 1 hours (20 minute period)\", \n",
    "    # 0.1C cycle \n",
    "    f\"Discharge at 0.1C until {V_min} V (30 minute period)\",  \n",
    "    \"Rest for 3 hours (20 minute period)\",  \n",
    "    f\"Charge at 0.1C until {V_max} V (30 minute period)\",\n",
    "    f\"Hold at {V_max}V until C/100\",\n",
    "    \"Rest for 1 hours (20 minute period)\",\n",
    "    # 0.5C cycle \n",
    "    f\"Discharge at 0.5C until {V_min} V (6 minute period)\",  \n",
    "    \"Rest for 3 hours (20 minute period)\",\n",
    "    f\"Charge at 0.5C until {V_max} V (6 minute period)\",\n",
    "    f\"Hold at {V_max}V until C/100\",\n",
    "    \"Rest for 3 hours (20 minute period)\",  \n",
    "    ) ] * 1\n",
    "# step index for RPT\n",
    "step_0p1C_CD = 2;  step_0p1C_RE =3;   \n",
    "step_0p5C_CD = 7;  \n"
   ]
  },
  {
   "cell_type": "code",
   "execution_count": 2,
   "metadata": {},
   "outputs": [
    {
     "data": {
      "text/plain": [
       "8.0"
      ]
     },
     "execution_count": 2,
     "metadata": {},
     "output_type": "execute_result"
    }
   ],
   "source": [
    "# Exp-2\n",
    "V_max = 4.2;        V_min = 2.5; \n",
    "discharge_time_mins = 0.15* 60 * 4.86491/5\n",
    "charge_time_mins = 0.5* 60 * 4.86491/5\n",
    "exp_AGE_text = [(\n",
    "    f\"Discharge at 1C for {discharge_time_mins} minutes or until {V_min}V\", \n",
    "    f\"Charge at 0.3C for {charge_time_mins} minutes or until {V_max}V\",\n",
    "    ),  ]  # *  setting on cycler is 516, rather than 514 in wiki\n",
    "# step index for ageing\n",
    "step_AGE_CD =0;   step_AGE_CC =1;   step_AGE_CV =2;\n",
    "\n",
    "exp_RPT_text = [ (\n",
    "    # refill\n",
    "    f\"Hold at {V_max}V until C/100\",\n",
    "    \"Rest for 1 hours (20 minute period)\", \n",
    "    # 0.1C cycle \n",
    "    f\"Discharge at 0.1C until {V_min} V (30 minute period)\",  \n",
    "    \"Rest for 3 hours (20 minute period)\",  \n",
    "    f\"Charge at 0.1C until {V_max} V (30 minute period)\",\n",
    "    f\"Hold at {V_max}V until C/100\",\n",
    "    \"Rest for 1 hours (20 minute period)\",\n",
    "    # 0.5C cycle \n",
    "    f\"Discharge at 0.5C until {V_min} V (6 minute period)\",  \n",
    "    \"Rest for 3 hours (20 minute period)\",\n",
    "    f\"Charge at 0.5C until {V_max} V (6 minute period)\",\n",
    "    f\"Hold at {V_max}V until C/100\",\n",
    "    \"Rest for 3 hours (20 minute period)\",  \n",
    "    ) ] * 1\n",
    "# step index for RPT\n",
    "step_0p1C_CD = 2;  step_0p1C_RE =3;   \n",
    "step_0p5C_CD = 7;  "
   ]
  },
  {
   "cell_type": "code",
   "execution_count": null,
   "metadata": {},
   "outputs": [],
   "source": [
    "# Exp-3\n",
    "V_max = 4.2;        V_min = 2.5; \n",
    "discharge_time_mins = 0.15* 60 * 4.86491/5\n",
    "charge_time_mins = 0.5* 60 * 4.86491/5\n",
    "exp_AGE_text = [(\n",
    "    f\"Discharge at 1C for {discharge_time_mins} minutes or until {V_min}V\", \n",
    "    f\"Charge at 0.3C until {V_max}V\",\n",
    "    f\"Hold at {V_max} V until C/100\",\n",
    "    ),  ]   # *  setting on cycler is 515, rather than 514 in wiki\n",
    "# step index for ageing\n",
    "step_AGE_CD =0;   step_AGE_CC =1;   step_AGE_CV =2;\n",
    "\n",
    "exp_RPT_text = [ (\n",
    "    # refill\n",
    "    f\"Hold at {V_max}V until C/100\",\n",
    "    \"Rest for 1 hours (20 minute period)\", \n",
    "    # 0.1C cycle \n",
    "    f\"Discharge at 0.1C until {V_min} V (30 minute period)\",  \n",
    "    \"Rest for 3 hours (20 minute period)\",  \n",
    "    f\"Charge at 0.1C until {V_max} V (30 minute period)\",\n",
    "    f\"Hold at {V_max}V until C/100\",\n",
    "    \"Rest for 1 hours (20 minute period)\",\n",
    "    # 0.5C cycle \n",
    "    f\"Discharge at 0.5C until {V_min} V (6 minute period)\",  \n",
    "    \"Rest for 3 hours (20 minute period)\",\n",
    "    f\"Charge at 0.5C until {V_max} V (6 minute period)\",\n",
    "    f\"Hold at {V_max}V until C/100\",\n",
    "    \"Rest for 3 hours (20 minute period)\",  \n",
    "    ) ] * 1\n",
    "# step index for RPT\n",
    "step_0p1C_CD = 2;  step_0p1C_RE =3;   \n",
    "step_0p5C_CD = 7;  "
   ]
  },
  {
   "cell_type": "code",
   "execution_count": null,
   "metadata": {},
   "outputs": [],
   "source": [
    "# Exp-5\n",
    "V_max = 4.2;        V_min = 2.5; \n",
    "exp_AGE_text = [(\n",
    "    f\"Discharge at 1C until {V_min}V\", \n",
    "    f\"Charge at 0.3C until {V_max}V\",\n",
    "    f\"Hold at {V_max} V until C/100\",\n",
    "    ),  ]  # *  78\n",
    "# step index for ageing\n",
    "step_AGE_CD =0;   step_AGE_CC =1;   step_AGE_CV =2;\n",
    "\n",
    "exp_RPT_text = [ (\n",
    "    # refill\n",
    "    f\"Hold at {V_max}V until C/100\",\n",
    "    \"Rest for 1 hours (20 minute period)\", \n",
    "    # 0.1C cycle \n",
    "    f\"Discharge at 0.1C until {V_min} V (30 minute period)\",  \n",
    "    \"Rest for 3 hours (20 minute period)\",  \n",
    "    f\"Charge at 0.1C until {V_max} V (30 minute period)\",\n",
    "    f\"Hold at {V_max}V until C/100\",\n",
    "    \"Rest for 1 hours (20 minute period)\",\n",
    "    # 0.5C cycle \n",
    "    f\"Discharge at 0.5C until {V_min} V (6 minute period)\",  \n",
    "    \"Rest for 3 hours (20 minute period)\",\n",
    "    f\"Charge at 0.5C until {V_max} V (6 minute period)\",\n",
    "    f\"Hold at {V_max}V until C/100\",\n",
    "    \"Rest for 3 hours (20 minute period)\",  \n",
    "    ) ] * 1\n",
    "# step index for RPT\n",
    "step_0p1C_CD = 2;  step_0p1C_RE =3;   \n",
    "step_0p5C_CD = 7;  "
   ]
  },
  {
   "cell_type": "code",
   "execution_count": null,
   "metadata": {},
   "outputs": [],
   "source": [
    "discharge_time_mins = 9 * 4.86491/5\n",
    "exp_Niall_3 = pybamm.Experiment(\n",
    "    [...] \n",
    "    + \n",
    "    [(\n",
    "        f\"Discharge at 1C for {discharge_time_mins} minutes\", \n",
    "        \"Charge at 0.3C until 4.2 V\", \n",
    "        \"Hold at 4.2 V until C/100\"\n",
    "        )] * 514 + [...])"
   ]
  },
  {
   "cell_type": "code",
   "execution_count": 1,
   "metadata": {},
   "outputs": [],
   "source": [
    "class TaskConfig:\n",
    "    def __init__(self,index_xlsx):  # = true or false\n",
    "\n",
    "        self.Scan_i = int(index_xlsx)\n",
    "        self.callback=[]"
   ]
  },
  {
   "cell_type": "code",
   "execution_count": 8,
   "metadata": {},
   "outputs": [
    {
     "name": "stdout",
     "output_type": "stream",
     "text": [
      "2\n"
     ]
    }
   ],
   "source": [
    "def add_a(a):\n",
    "    a = a+1\n",
    "    return a\n",
    "\n",
    "a=1\n",
    "a=add_a(a)\n",
    "print(a)"
   ]
  },
  {
   "cell_type": "code",
   "execution_count": 9,
   "metadata": {},
   "outputs": [
    {
     "name": "stdout",
     "output_type": "stream",
     "text": [
      "3\n"
     ]
    }
   ],
   "source": [
    "a=add_a(a)\n",
    "print(a)"
   ]
  }
 ],
 "metadata": {
  "kernelspec": {
   "display_name": "envPBGEM",
   "language": "python",
   "name": "python3"
  },
  "language_info": {
   "codemirror_mode": {
    "name": "ipython",
    "version": 3
   },
   "file_extension": ".py",
   "mimetype": "text/x-python",
   "name": "python",
   "nbconvert_exporter": "python",
   "pygments_lexer": "ipython3",
   "version": "3.9.6"
  },
  "orig_nbformat": 4,
  "vscode": {
   "interpreter": {
    "hash": "83fab7fbb3a8fe7b5910804f702478ef63e2cc6a08d85072a5d68865ed0fd8c7"
   }
  }
 },
 "nbformat": 4,
 "nbformat_minor": 2
}
