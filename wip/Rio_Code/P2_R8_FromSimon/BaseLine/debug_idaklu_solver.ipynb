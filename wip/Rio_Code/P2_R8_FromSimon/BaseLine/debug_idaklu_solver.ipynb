{
 "cells": [
  {
   "attachments": {},
   "cell_type": "markdown",
   "metadata": {},
   "source": [
    "# Test: open all ageing; GITT; contact resistance; hystries etc. "
   ]
  },
  {
   "cell_type": "code",
   "execution_count": 1,
   "metadata": {},
   "outputs": [],
   "source": [
    "# magic lines that avoid re-start \n",
    "%load_ext autoreload\n",
    "%autoreload 2"
   ]
  },
  {
   "cell_type": "code",
   "execution_count": 2,
   "metadata": {},
   "outputs": [],
   "source": [
    "import pybamm as pb;import pandas as pd   ;import numpy as np;import os;import matplotlib.pyplot as plt;import os;#import imageio\n",
    "from scipy.io import savemat,loadmat;from pybamm import constants,exp;import matplotlib as mpl; # or we can set import matplotlib.pyplot as plt then say 'mpl.rc...'\n",
    "import openpyxl\n",
    "import traceback\n",
    "import multiprocessing\n",
    "import scipy.optimize\n",
    "import random;import time, signal\n",
    "fs=10;\n",
    "font = {'family' : 'DejaVu Sans','size'   : fs}\n",
    "mpl.rc('font', **font)\n",
    "\n",
    "import sys  \n",
    "str_path_0 = os.path.abspath(os.path.join(pb.__path__[0],'..'))\n",
    "str_path_1 = os.path.abspath(os.path.join(str_path_0,\"wip\\Rio_Code\\Fun_P2\"))\n",
    "sys.path.append(str_path_1) \n",
    "from Fun_P2 import * \n",
    "# pb.set_logging_level(\"INFO\")"
   ]
  },
  {
   "cell_type": "code",
   "execution_count": 3,
   "metadata": {},
   "outputs": [
    {
     "name": "stdout",
     "output_type": "stream",
     "text": [
      "d:\\gitpybamm\\lrh_409\\lrh_409\\envpbgem\\Lib\\site-packages\\klu\n"
     ]
    }
   ],
   "source": [
    "str_path_3 = os.path.abspath(os.path.join(pb.__path__[0],'..\\..'))\n",
    "str_path_4 = os.path.abspath(os.path.join(str_path_3,\"Lib\\site-packages\\klu\"))\n",
    "print(str_path_4)\n",
    "import klu"
   ]
  },
  {
   "cell_type": "code",
   "execution_count": 4,
   "metadata": {},
   "outputs": [
    {
     "name": "stdout",
     "output_type": "stream",
     "text": [
      "ModuleSpec(name='pybamm.solvers.casadi_solver', loader=<_frozen_importlib_external.SourceFileLoader object at 0x00000220B6105550>, origin='d:\\\\gitpybamm\\\\lrh_409\\\\lrh_409\\\\envpbgem\\\\pybamm-gem\\\\pybamm\\\\solvers\\\\casadi_solver.py')\n"
     ]
    }
   ],
   "source": [
    "import importlib\n",
    "idaklu_spec = importlib.util.find_spec(\"pybamm.solvers.casadi_solver\")\n",
    "print(idaklu_spec)"
   ]
  },
  {
   "cell_type": "code",
   "execution_count": null,
   "metadata": {},
   "outputs": [],
   "source": [
    "import importlib\n",
    "idaklu_spec = importlib.util.find_spec(\"pybamm.solvers.casadi\")\n",
    "print(idaklu_spec)\n",
    "sim2 = pb.Simulation(\n",
    "    model, \n",
    "    experiment=Experiment_Breakin,\n",
    "    parameter_values=param,\n",
    "    #solver=pb.CasadiSolver(return_solution_if_failed_early=True),\n",
    "    solver=pb.IDAKLUSolver(),\n",
    "    var_pts=var_pts,\n",
    ")\n",
    "sol_0 = sim2.solve()"
   ]
  },
  {
   "cell_type": "code",
   "execution_count": null,
   "metadata": {},
   "outputs": [],
   "source": [
    "sys.path.remove(\"d:\\softwarelrh\\python\",)\n",
    "sys.path.remove(\"d:\\softwarelrh\\python\\lib\",)\n",
    "sys.path.remove(\"d:\\softwarelrh\\python\\DLLs\",)\n",
    "sys.path.remove(\"d:\\softwarelrh\\python\\python39.zip\",)"
   ]
  },
  {
   "cell_type": "code",
   "execution_count": null,
   "metadata": {},
   "outputs": [],
   "source": [
    "#print(sys.path[0])\n",
    "for i in range(len(sys.path)):\n",
    "    print(sys.path[i])"
   ]
  },
  {
   "cell_type": "code",
   "execution_count": null,
   "metadata": {},
   "outputs": [],
   "source": [
    "model = pb.lithium_ion.DFN(\n",
    "    options={\n",
    "    \"thermal\": \"lumped\",\n",
    "    \"SEI\": \"interstitial-diffusion limited\",\n",
    "    \"SEI on cracks\": \"true\",\n",
    "    \"SEI film resistance\": \"distributed\", \n",
    "    \"SEI porosity change\": \"true\",\n",
    "    \"particle mechanics\": (\"swelling and cracking\", \"swelling only\"),\n",
    "    \"loss of active material\": \"stress-driven\",\n",
    "    \"lithium plating\": \"partially reversible\",\n",
    "    \"contact resistance\": \"true\",\n",
    "    \"open-circuit potential\": \"current sigmoid\",\n",
    "} \n",
    ")\n",
    "param = pb.ParameterValues(\"OKane2023\")\n",
    "# param.update({\"Negative electrode porosity\": 0.1})\n",
    "# Adjust SEI parameters\n",
    "param.update({\"Inner SEI lithium interstitial diffusivity [m2.s-1]\": 3e-19})\n",
    "# Override SEI thickness dependence of lithium plating\n",
    "param.update({\"Dead lithium decay rate [s-1]\": 1e-8})\n",
    "param.update({\"Lithium plating kinetic rate constant [m.s-1]\": 1e-12})\n",
    "# Adjust mechanical degradation parameters\n",
    "param.update({\"Negative electrode cracking rate\": 1e-32})\n",
    "param.update({\"Negative electrode LAM constant proportional term [s-1]\": 1e-19})\n",
    "param.update({\"Positive electrode LAM constant proportional term [s-1]\": 1e-19})\n",
    "\n",
    "c_e = model.variables[\"Electrolyte concentration [mol.m-3]\"]\n",
    "T = model.variables[\"Cell temperature [K]\"]\n",
    "D_e = model.param.D_e\n",
    "kappa_e = model.param.kappa_e\n",
    "model.variables[\"Electrolyte diffusivity [m2.s-1]\"] = D_e(c_e, T)\n",
    "model.variables[\"Electrolyte conductivity [S.m-1]\"] = kappa_e(c_e, T)\n",
    "# use electrolyte\n",
    "V_max = 4.2;        V_min = 2.5; \n",
    "exp_RPT_0p1C_text = [ (\n",
    "    f\"Discharge at 1 C until {V_min} V (1 minute period)\", #  (1 minute period)  \n",
    "    \"Rest for 1 hours (5 minute period)\",  \n",
    "    f\"Charge at 1 C until {V_max} V (1 minute period)\",\n",
    "    \"Rest for 1 hours (5 minute period)\",\n",
    "    ) ]\n",
    "exp_RPT_refill_text = [ (\n",
    "    f\"Charge at 0.3C until {V_max} V\",  \n",
    "    f\"Hold at {V_max}V until C/100\",\n",
    "    \"Rest for 1 hours (5 minute period)\",  \n",
    "    ) ]\n",
    "exp_RPT_GITT_text = [ (\n",
    "    \"Rest for 60 seconds (0.1 second period)\",  \n",
    "    f\"Discharge at C/2 for 4.8 minutes or until {V_min}V (0.1 second period)\",\n",
    "    \"Rest for 1 hour (5 minute period)\",  \n",
    "    ) ]\n",
    "# how to get 0.1s Resistance: voltage: mean of rest step [-10:-1] data points; don't include the last data points of rest step!;\n",
    "# should also get OCV and SOC \n",
    "Experiment_Breakin= pb.Experiment( exp_RPT_0p1C_text * 1  ) # +  exp_RPT_refill_text*1 +   exp_RPT_GITT_text*24\n",
    "var_pts = {\n",
    "    \"x_n\": 5,  # negative electrode\n",
    "    \"x_s\": 5,  # separator \n",
    "    \"x_p\": 5,  # positive electrode\n",
    "    \"r_n\": 60,  # negative particle\n",
    "    \"r_p\": 30,  # positive particle\n",
    "}\n"
   ]
  },
  {
   "cell_type": "code",
   "execution_count": null,
   "metadata": {},
   "outputs": [],
   "source": [
    "# CasadiSolver\n",
    "param.update({\"Electrolyte conductivity [S.m-1]\": electrolyte_conductivity_EC_EMC_3_7_Landesfeind2019_Constant})\n",
    "param.update({\"Electrolyte diffusivity [m2.s-1]\": electrolyte_diffusivity_EC_EMC_3_7_Landesfeind2019_Constant})\n",
    "param.update({\"Thermodynamic factor\": electrolyte_TDF_EC_EMC_3_7_Landesfeind2019_Constant})\n",
    "param.update({\"Cation transference number\": electrolyte_transference_number_EC_EMC_3_7_Landesfeind2019_Constant})\n",
    "sim2 = pb.Simulation(\n",
    "    model, \n",
    "    experiment=Experiment_Breakin,\n",
    "    parameter_values=param,\n",
    "    solver=pb.CasadiSolver(return_solution_if_failed_early=True),\n",
    "    var_pts=var_pts,\n",
    ")\n",
    "sol_0 = sim2.solve()"
   ]
  },
  {
   "attachments": {},
   "cell_type": "markdown",
   "metadata": {},
   "source": [
    "# try IDAKLUSolver\n",
    "sim3 = pb.Simulation(\n",
    "    model, \n",
    "    experiment=Experiment_Breakin,\n",
    "    parameter_values=param,\n",
    "    solver=pb.IDAKLUSolver(),\n",
    "    var_pts=var_pts,\n",
    ")\n",
    "sol_1 = sim3.solve()"
   ]
  },
  {
   "cell_type": "code",
   "execution_count": null,
   "metadata": {},
   "outputs": [],
   "source": [
    "model.variables.search(\"LAM\")"
   ]
  },
  {
   "cell_type": "code",
   "execution_count": null,
   "metadata": {},
   "outputs": [],
   "source": [
    "#model.variables.search(\"SEI\")\n",
    "label = [\"Casadi\",\"IDAKLU\"] \n",
    "output_variables3 = [\n",
    "    \"Electrolyte potential [V]\",\n",
    "    \"Loss of capacity to SEI on cracks [A.h]\",\n",
    "    \"Current [A]\", \n",
    "    \"Terminal voltage [V]\", \n",
    "    \"Loss of capacity to SEI [A.h]\",\n",
    "    \"LAM_ne [%]\",+\n",
    "    \"LAM_pe [%]\",\n",
    "]\n",
    "quick_plot = pb.QuickPlot(\n",
    "    [sol_0,sol_1], output_variables3,label,variable_limits='fixed',\n",
    "    time_unit='hours',n_rows=2) #figsize = (18,12),\n",
    "quick_plot.dynamic_plot()"
   ]
  },
  {
   "cell_type": "code",
   "execution_count": null,
   "metadata": {},
   "outputs": [],
   "source": [
    "# write a function to get the discharge capacity and resistance\n",
    "def Get_0p1s_R0(sol_RPT,Index,cap_full):\n",
    "    Res_0p1s = []; SOC = [100,];\n",
    "    for i,index in enumerate(Index):\n",
    "        cycle = sol_RPT.cycles[index]\n",
    "        Res_0p1s.append(   (\n",
    "            np.mean(cycle.steps[0][\"Terminal voltage [V]\"].entries[-10:-1])\n",
    "            - cycle.steps[1][\"Terminal voltage [V]\"].entries[0]\n",
    "        ) / cycle.steps[1][\"Current [A]\"].entries[0] * 1000)\n",
    "        if i > 0:\n",
    "            Dis_Cap = abs(\n",
    "                cycle.steps[1][\"Discharge capacity [A.h]\"].entries[0] \n",
    "                - cycle.steps[1][\"Discharge capacity [A.h]\"].entries[-1] )\n",
    "            SOC.append(SOC[-1]-Dis_Cap/cap_full*100)\n",
    "    return np.mean(Res_0p1s),Res_0p1s,SOC\n",
    "cap_full = 5;\n",
    "Index = np.arange(2,26,1) # index = 2:25\n",
    "Mean_Res_0p1s,Res_0p1s,SOC = Get_0p1s_R0(sol_0,Index,cap_full)\n",
    "\n",
    "fs=14;\n",
    "font = {'family' : 'DejaVu Sans','size'   : fs}\n",
    "mpl.rc('font', **font)\n",
    "\n",
    "fig, ax = plt.subplots( figsize=(5,4),tight_layout=True)\n",
    "ax.plot(SOC,Res_0p1s,\"-o\")\n",
    "ax.set_xlabel(\"SOC %\")\n",
    "ax.set_ylabel(r'Mean 0.1s R (m$\\Omega$)')\n",
    "print(SOC[-1],Mean_Res_0p1s)"
   ]
  },
  {
   "cell_type": "code",
   "execution_count": null,
   "metadata": {},
   "outputs": [],
   "source": [
    "label = [\n",
    "    \"Step-0\",\n",
    "    \"Step-1\",\n",
    "    \"Step-2\",] \n",
    "var = [\n",
    "    \"Terminal voltage [V]\",\n",
    "    \"Current [A]\",\n",
    "    \"Electrolyte concentration [mol.m-3]\",\n",
    "    \"Electrolyte diffusivity [m2.s-1]\",\n",
    "    \"Electrolyte conductivity [S.m-1]\",\n",
    "    \"X-averaged SEI interfacial current density [A.m-2]\",\n",
    "]\n",
    "quick_plot = pb.QuickPlot(\n",
    "    [\n",
    "    sol_0.cycles[0],\n",
    "    sol_0.cycles[1],\n",
    "    sol_0.cycles[2],\n",
    "    ], var,label,variable_limits='tight') #     \n",
    "quick_plot.dynamic_plot();"
   ]
  },
  {
   "cell_type": "code",
   "execution_count": null,
   "metadata": {},
   "outputs": [],
   "source": [
    "len(sol_0.cycles)"
   ]
  },
  {
   "cell_type": "code",
   "execution_count": null,
   "metadata": {},
   "outputs": [],
   "source": [
    "\n",
    "var = [\n",
    "    \"Terminal voltage [V]\",\n",
    "    \"Current [A]\",\n",
    "    \"Electrolyte concentration [mol.m-3]\",\n",
    "    \"Electrolyte diffusivity [m2.s-1]\",\n",
    "    \"Electrolyte conductivity [S.m-1]\",\n",
    "    \"X-averaged SEI interfacial current density [A.m-2]\",\n",
    "]\n",
    "quick_plot = pb.QuickPlot(\n",
    "    [cycle for cycle in sol_0.cycles[2:-1]],\n",
    "    var,variable_limits='tight') #     \n",
    "quick_plot.dynamic_plot();"
   ]
  },
  {
   "cell_type": "code",
   "execution_count": null,
   "metadata": {},
   "outputs": [],
   "source": []
  }
 ],
 "metadata": {
  "kernelspec": {
   "display_name": "envPBGEM",
   "language": "python",
   "name": "python3"
  },
  "language_info": {
   "codemirror_mode": {
    "name": "ipython",
    "version": 3
   },
   "file_extension": ".py",
   "mimetype": "text/x-python",
   "name": "python",
   "nbconvert_exporter": "python",
   "pygments_lexer": "ipython3",
   "version": "3.9.6"
  },
  "orig_nbformat": 4,
  "vscode": {
   "interpreter": {
    "hash": "83fab7fbb3a8fe7b5910804f702478ef63e2cc6a08d85072a5d68865ed0fd8c7"
   }
  }
 },
 "nbformat": 4,
 "nbformat_minor": 2
}
