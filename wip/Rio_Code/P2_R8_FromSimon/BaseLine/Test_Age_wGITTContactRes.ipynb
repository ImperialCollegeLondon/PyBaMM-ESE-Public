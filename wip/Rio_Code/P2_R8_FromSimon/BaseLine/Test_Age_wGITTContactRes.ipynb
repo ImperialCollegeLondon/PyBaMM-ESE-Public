{
 "cells": [
  {
   "attachments": {},
   "cell_type": "markdown",
   "metadata": {},
   "source": [
    "# Test: open all ageing; GITT; contact resistance; hystries etc. "
   ]
  },
  {
   "cell_type": "code",
   "execution_count": 17,
   "metadata": {},
   "outputs": [
    {
     "name": "stdout",
     "output_type": "stream",
     "text": [
      "The autoreload extension is already loaded. To reload it, use:\n",
      "  %reload_ext autoreload\n"
     ]
    }
   ],
   "source": [
    "# magic lines that avoid re-start\n",
    "%load_ext autoreload\n",
    "%autoreload 2"
   ]
  },
  {
   "cell_type": "code",
   "execution_count": 18,
   "metadata": {},
   "outputs": [],
   "source": [
    "import pybamm as pb;import pandas as pd   ;import numpy as np;import os;import matplotlib.pyplot as plt;import os;#import imageio\n",
    "from scipy.io import savemat,loadmat;from pybamm import constants,exp;import matplotlib as mpl; # or we can set import matplotlib.pyplot as plt then say 'mpl.rc...'\n",
    "import openpyxl\n",
    "import traceback\n",
    "import multiprocessing\n",
    "import scipy.optimize\n",
    "import random;import time, signal\n",
    "fs=10;\n",
    "font = {'family' : 'DejaVu Sans','size'   : fs}\n",
    "mpl.rc('font', **font)\n",
    "\n",
    "import sys  \n",
    "str_path_0 = os.path.abspath(os.path.join(pb.__path__[0],'..'))\n",
    "str_path_1 = os.path.abspath(os.path.join(str_path_0,\"wip\\Rio_Code\\Fun_P2\"))\n",
    "sys.path.append(str_path_1) \n",
    "from Fun_P2 import * \n",
    "# pb.set_logging_level(\"INFO\")"
   ]
  },
  {
   "attachments": {},
   "cell_type": "markdown",
   "metadata": {},
   "source": [
    "    options={\n",
    "        \"thermal\": \"lumped\",\n",
    "        \"SEI\": \"interstitial-diffusion limited\",\n",
    "        \"SEI on cracks\": \"true\",\n",
    "        \"SEI film resistance\": \"distributed\", \n",
    "        \"SEI porosity change\": \"true\",\n",
    "        \"particle mechanics\": (\"swelling and cracking\", \"swelling only\"),\n",
    "        \"loss of active material\": \"stress-driven\",\n",
    "        \"lithium plating\": \"partially reversible\",\n",
    "        \"contact resistance\": \"true\",\n",
    "        \"open-circuit potential\": \"current sigmoid\",\n",
    "    }"
   ]
  },
  {
   "cell_type": "code",
   "execution_count": 19,
   "metadata": {},
   "outputs": [],
   "source": [
    "model = pb.lithium_ion.DFN()\n",
    "param = pb.ParameterValues(\"OKane2023\")\n",
    "# param.update({\"Negative electrode porosity\": 0.1})\n",
    "# Adjust SEI parameters\n",
    "param.update({\"Inner SEI lithium interstitial diffusivity [m2.s-1]\": 3e-19})\n",
    "# Override SEI thickness dependence of lithium plating\n",
    "param.update({\"Dead lithium decay rate [s-1]\": 1e-6})\n",
    "param.update({\"Lithium plating kinetic rate constant [m.s-1]\": 1e-10})\n",
    "# Adjust mechanical degradation parameters\n",
    "param.update({\"Negative electrode cracking rate\": 1e-22})\n",
    "param.update({\"Negative electrode LAM constant proportional term [s-1]\": 1e-9})\n",
    "param.update({\"Positive electrode LAM constant proportional term [s-1]\": 1e-9})\n",
    "\n",
    "c_e = model.variables[\"Electrolyte concentration [mol.m-3]\"]\n",
    "T = model.variables[\"Cell temperature [K]\"]\n",
    "D_e = model.param.D_e\n",
    "kappa_e = model.param.kappa_e\n",
    "model.variables[\"Electrolyte diffusivity [m2.s-1]\"] = D_e(c_e, T)\n",
    "model.variables[\"Electrolyte conductivity [S.m-1]\"] = kappa_e(c_e, T)\n",
    "# use electrolyte\n",
    "V_max = 4.2;        V_min = 2.5; \n",
    "exp_RPT_0p1C_text = [ (\n",
    "    f\"Discharge at 1 C until {V_min} V (1 minute period)\", #  (1 minute period)  \n",
    "    \"Rest for 1 hours (5 minute period)\",  \n",
    "    f\"Charge at 1 C until {V_max} V (1 minute period)\",\n",
    "    \"Rest for 1 hours (5 minute period)\",\n",
    "    ) ]\n",
    "exp_RPT_refill_text = [ (\n",
    "    f\"Charge at 0.3C until {V_max} V\",  \n",
    "    f\"Hold at {V_max}V until C/100\",\n",
    "    \"Rest for 1 hours (5 minute period)\",  \n",
    "    ) ]\n",
    "exp_RPT_GITT_text = [ (\n",
    "    \"Rest for 60 seconds (0.1 second period)\",  \n",
    "    f\"Discharge at C/2 for 4.8 minutes or until {V_min}V (0.1 second period)\",\n",
    "    \"Rest for 1 hour (5 minute period)\",  \n",
    "    ) ]\n",
    "# how to get 0.1s Resistance: voltage: mean of rest step [-10:-1] data points; don't include the last data points of rest step!;\n",
    "# should also get OCV and SOC \n",
    "Experiment_Breakin= pb.Experiment( exp_RPT_0p1C_text * 1  ) # +  exp_RPT_refill_text*1 +   exp_RPT_GITT_text*24\n",
    "var_pts = {\n",
    "    \"x_n\": 5,  # negative electrode\n",
    "    \"x_s\": 5,  # separator \n",
    "    \"x_p\": 5,  # positive electrode\n",
    "    \"r_n\": 30,  # negative particle\n",
    "    \"r_p\": 20,  # positive particle\n",
    "}\n"
   ]
  },
  {
   "cell_type": "code",
   "execution_count": 20,
   "metadata": {},
   "outputs": [
    {
     "name": "stderr",
     "output_type": "stream",
     "text": [
      "At t = 66.8993 and h = 4.44464e-15, the corrector convergence failed repeatedly or with |h| = hmin.\n",
      "At t = 66.8993 and h = 7.96008e-15, the corrector convergence failed repeatedly or with |h| = hmin.\n",
      "At t = 66.8993 and h = 1.19519e-14, the corrector convergence failed repeatedly or with |h| = hmin.\n",
      "At t = 44.0682 and h = 5.58339e-15, the corrector convergence failed repeatedly or with |h| = hmin.\n",
      "At t = 44.0682 and h = 2.66316e-14, the corrector convergence failed repeatedly or with |h| = hmin.\n",
      "At t = 44.0682 and h = 9.86764e-14, the corrector convergence failed repeatedly or with |h| = hmin.\n",
      "At t = 44.068 and h = 5.08097e-14, the corrector convergence failed repeatedly or with |h| = hmin.\n",
      "At t = 6.56822 and h = 2.52908e-14, the corrector convergence failed repeatedly or with |h| = hmin.\n",
      "At t = 6.56822 and h = 4.1065e-14, the corrector convergence failed repeatedly or with |h| = hmin.\n",
      "At t = 6.56822 and h = 1.38793e-14, the corrector convergence failed repeatedly or with |h| = hmin.\n",
      "At t = 1.88075 and h = 2.78512e-19, the corrector convergence failed repeatedly or with |h| = hmin.\n",
      "At t = 1.88075 and h = 5.35446e-19, the corrector convergence failed repeatedly or with |h| = hmin.\n",
      "At t = 0.708853 and h = 3.33078e-16, the corrector convergence failed repeatedly or with |h| = hmin.\n",
      "At t = 0.122915 and h = 8.03888e-16, the corrector convergence failed repeatedly or with |h| = hmin.\n",
      "At t = 0.122909 and h = 3.04295e-13, the corrector convergence failed repeatedly or with |h| = hmin.\n",
      "At t = 0.122916 and h = 5.70349e-19, the corrector convergence failed repeatedly or with |h| = hmin.\n"
     ]
    }
   ],
   "source": [
    "# now go for Landes constant:\n",
    "param.update({\"Electrolyte conductivity [S.m-1]\": electrolyte_conductivity_EC_EMC_3_7_Landesfeind2019_Constant})\n",
    "param.update({\"Electrolyte diffusivity [m2.s-1]\": electrolyte_diffusivity_EC_EMC_3_7_Landesfeind2019_Constant})\n",
    "param.update({\"Thermodynamic factor\": electrolyte_TDF_EC_EMC_3_7_Landesfeind2019_Constant})\n",
    "param.update({\"Cation transference number\": electrolyte_transference_number_EC_EMC_3_7_Landesfeind2019_Constant})\n",
    "sim2 = pb.Simulation(\n",
    "    model, \n",
    "    experiment=Experiment_Breakin,\n",
    "    parameter_values=param,\n",
    "    solver=pb.CasadiSolver(return_solution_if_failed_early=True),\n",
    "    var_pts=var_pts,\n",
    ")\n",
    "solution_Landes_constant = sim2.solve()"
   ]
  },
  {
   "cell_type": "code",
   "execution_count": 24,
   "metadata": {},
   "outputs": [
    {
     "data": {
      "application/vnd.jupyter.widget-view+json": {
       "model_id": "0a1a986cb2ea4d7b98f04784732df663",
       "version_major": 2,
       "version_minor": 0
      },
      "text/plain": [
       "interactive(children=(FloatSlider(value=0.0, description='t', max=3.3810927077065633, step=0.03381092707706563…"
      ]
     },
     "metadata": {},
     "output_type": "display_data"
    }
   ],
   "source": [
    "#model.variables.search(\"SEI\")\n",
    "label = [\"0\",] \n",
    "output_variables3 = [\n",
    "    \"Electrolyte potential [V]\",\n",
    "    \"Positive electrode potential [V]\",\n",
    "    \"Negative electrode potential [V]\",\n",
    "    \"Current [A]\", \n",
    "    \"Terminal voltage [V]\", \n",
    "]\n",
    "quick_plot = pb.QuickPlot(\n",
    "    [solution_Landes_constant,], output_variables3,label,variable_limits='fixed',\n",
    "    time_unit='hours',n_rows=2) #figsize = (18,12),\n",
    "quick_plot.dynamic_plot()"
   ]
  },
  {
   "cell_type": "code",
   "execution_count": 22,
   "metadata": {},
   "outputs": [
    {
     "ename": "IndexError",
     "evalue": "list index out of range",
     "output_type": "error",
     "traceback": [
      "\u001b[1;31m---------------------------------------------------------------------------\u001b[0m",
      "\u001b[1;31mIndexError\u001b[0m                                Traceback (most recent call last)",
      "\u001b[1;32md:\\GitPyBaMM\\LRH_409\\LRH_409\\envPBGEM\\PyBaMM-GEM\\wip\\Rio_Code\\P2_R8_FromSimon\\BaseLine\\Test_Age_wGITTContactRes.ipynb Cell 8\u001b[0m in \u001b[0;36m<cell line: 18>\u001b[1;34m()\u001b[0m\n\u001b[0;32m     <a href='vscode-notebook-cell:/d%3A/GitPyBaMM/LRH_409/LRH_409/envPBGEM/PyBaMM-GEM/wip/Rio_Code/P2_R8_FromSimon/BaseLine/Test_Age_wGITTContactRes.ipynb#W5sZmlsZQ%3D%3D?line=15'>16</a>\u001b[0m cap_full \u001b[39m=\u001b[39m \u001b[39m5\u001b[39m;\n\u001b[0;32m     <a href='vscode-notebook-cell:/d%3A/GitPyBaMM/LRH_409/LRH_409/envPBGEM/PyBaMM-GEM/wip/Rio_Code/P2_R8_FromSimon/BaseLine/Test_Age_wGITTContactRes.ipynb#W5sZmlsZQ%3D%3D?line=16'>17</a>\u001b[0m Index \u001b[39m=\u001b[39m np\u001b[39m.\u001b[39marange(\u001b[39m2\u001b[39m,\u001b[39m26\u001b[39m,\u001b[39m1\u001b[39m) \u001b[39m# index = 2:25\u001b[39;00m\n\u001b[1;32m---> <a href='vscode-notebook-cell:/d%3A/GitPyBaMM/LRH_409/LRH_409/envPBGEM/PyBaMM-GEM/wip/Rio_Code/P2_R8_FromSimon/BaseLine/Test_Age_wGITTContactRes.ipynb#W5sZmlsZQ%3D%3D?line=17'>18</a>\u001b[0m Mean_Res_0p1s,Res_0p1s,SOC \u001b[39m=\u001b[39m Get_0p1s_R0(solution_Landes_constant,Index,cap_full)\n\u001b[0;32m     <a href='vscode-notebook-cell:/d%3A/GitPyBaMM/LRH_409/LRH_409/envPBGEM/PyBaMM-GEM/wip/Rio_Code/P2_R8_FromSimon/BaseLine/Test_Age_wGITTContactRes.ipynb#W5sZmlsZQ%3D%3D?line=19'>20</a>\u001b[0m fs\u001b[39m=\u001b[39m\u001b[39m14\u001b[39m;\n\u001b[0;32m     <a href='vscode-notebook-cell:/d%3A/GitPyBaMM/LRH_409/LRH_409/envPBGEM/PyBaMM-GEM/wip/Rio_Code/P2_R8_FromSimon/BaseLine/Test_Age_wGITTContactRes.ipynb#W5sZmlsZQ%3D%3D?line=20'>21</a>\u001b[0m font \u001b[39m=\u001b[39m {\u001b[39m'\u001b[39m\u001b[39mfamily\u001b[39m\u001b[39m'\u001b[39m : \u001b[39m'\u001b[39m\u001b[39mDejaVu Sans\u001b[39m\u001b[39m'\u001b[39m,\u001b[39m'\u001b[39m\u001b[39msize\u001b[39m\u001b[39m'\u001b[39m   : fs}\n",
      "\u001b[1;32md:\\GitPyBaMM\\LRH_409\\LRH_409\\envPBGEM\\PyBaMM-GEM\\wip\\Rio_Code\\P2_R8_FromSimon\\BaseLine\\Test_Age_wGITTContactRes.ipynb Cell 8\u001b[0m in \u001b[0;36mGet_0p1s_R0\u001b[1;34m(sol_RPT, Index, cap_full)\u001b[0m\n\u001b[0;32m      <a href='vscode-notebook-cell:/d%3A/GitPyBaMM/LRH_409/LRH_409/envPBGEM/PyBaMM-GEM/wip/Rio_Code/P2_R8_FromSimon/BaseLine/Test_Age_wGITTContactRes.ipynb#W5sZmlsZQ%3D%3D?line=2'>3</a>\u001b[0m Res_0p1s \u001b[39m=\u001b[39m []; SOC \u001b[39m=\u001b[39m [\u001b[39m100\u001b[39m,];\n\u001b[0;32m      <a href='vscode-notebook-cell:/d%3A/GitPyBaMM/LRH_409/LRH_409/envPBGEM/PyBaMM-GEM/wip/Rio_Code/P2_R8_FromSimon/BaseLine/Test_Age_wGITTContactRes.ipynb#W5sZmlsZQ%3D%3D?line=3'>4</a>\u001b[0m \u001b[39mfor\u001b[39;00m i,index \u001b[39min\u001b[39;00m \u001b[39menumerate\u001b[39m(Index):\n\u001b[1;32m----> <a href='vscode-notebook-cell:/d%3A/GitPyBaMM/LRH_409/LRH_409/envPBGEM/PyBaMM-GEM/wip/Rio_Code/P2_R8_FromSimon/BaseLine/Test_Age_wGITTContactRes.ipynb#W5sZmlsZQ%3D%3D?line=4'>5</a>\u001b[0m     cycle \u001b[39m=\u001b[39m sol_RPT\u001b[39m.\u001b[39;49mcycles[index]\n\u001b[0;32m      <a href='vscode-notebook-cell:/d%3A/GitPyBaMM/LRH_409/LRH_409/envPBGEM/PyBaMM-GEM/wip/Rio_Code/P2_R8_FromSimon/BaseLine/Test_Age_wGITTContactRes.ipynb#W5sZmlsZQ%3D%3D?line=5'>6</a>\u001b[0m     Res_0p1s\u001b[39m.\u001b[39mappend(   (\n\u001b[0;32m      <a href='vscode-notebook-cell:/d%3A/GitPyBaMM/LRH_409/LRH_409/envPBGEM/PyBaMM-GEM/wip/Rio_Code/P2_R8_FromSimon/BaseLine/Test_Age_wGITTContactRes.ipynb#W5sZmlsZQ%3D%3D?line=6'>7</a>\u001b[0m         np\u001b[39m.\u001b[39mmean(cycle\u001b[39m.\u001b[39msteps[\u001b[39m0\u001b[39m][\u001b[39m\"\u001b[39m\u001b[39mTerminal voltage [V]\u001b[39m\u001b[39m\"\u001b[39m]\u001b[39m.\u001b[39mentries[\u001b[39m-\u001b[39m\u001b[39m10\u001b[39m:\u001b[39m-\u001b[39m\u001b[39m1\u001b[39m])\n\u001b[0;32m      <a href='vscode-notebook-cell:/d%3A/GitPyBaMM/LRH_409/LRH_409/envPBGEM/PyBaMM-GEM/wip/Rio_Code/P2_R8_FromSimon/BaseLine/Test_Age_wGITTContactRes.ipynb#W5sZmlsZQ%3D%3D?line=7'>8</a>\u001b[0m         \u001b[39m-\u001b[39m cycle\u001b[39m.\u001b[39msteps[\u001b[39m1\u001b[39m][\u001b[39m\"\u001b[39m\u001b[39mTerminal voltage [V]\u001b[39m\u001b[39m\"\u001b[39m]\u001b[39m.\u001b[39mentries[\u001b[39m0\u001b[39m]\n\u001b[0;32m      <a href='vscode-notebook-cell:/d%3A/GitPyBaMM/LRH_409/LRH_409/envPBGEM/PyBaMM-GEM/wip/Rio_Code/P2_R8_FromSimon/BaseLine/Test_Age_wGITTContactRes.ipynb#W5sZmlsZQ%3D%3D?line=8'>9</a>\u001b[0m     ) \u001b[39m/\u001b[39m cycle\u001b[39m.\u001b[39msteps[\u001b[39m1\u001b[39m][\u001b[39m\"\u001b[39m\u001b[39mCurrent [A]\u001b[39m\u001b[39m\"\u001b[39m]\u001b[39m.\u001b[39mentries[\u001b[39m0\u001b[39m] \u001b[39m*\u001b[39m \u001b[39m1000\u001b[39m)\n\u001b[0;32m     <a href='vscode-notebook-cell:/d%3A/GitPyBaMM/LRH_409/LRH_409/envPBGEM/PyBaMM-GEM/wip/Rio_Code/P2_R8_FromSimon/BaseLine/Test_Age_wGITTContactRes.ipynb#W5sZmlsZQ%3D%3D?line=9'>10</a>\u001b[0m     \u001b[39mif\u001b[39;00m i \u001b[39m>\u001b[39m \u001b[39m0\u001b[39m:\n",
      "\u001b[1;31mIndexError\u001b[0m: list index out of range"
     ]
    }
   ],
   "source": [
    "# write a function to get the discharge capacity and resistance\n",
    "def Get_0p1s_R0(sol_RPT,Index,cap_full):\n",
    "    Res_0p1s = []; SOC = [100,];\n",
    "    for i,index in enumerate(Index):\n",
    "        cycle = sol_RPT.cycles[index]\n",
    "        Res_0p1s.append(   (\n",
    "            np.mean(cycle.steps[0][\"Terminal voltage [V]\"].entries[-10:-1])\n",
    "            - cycle.steps[1][\"Terminal voltage [V]\"].entries[0]\n",
    "        ) / cycle.steps[1][\"Current [A]\"].entries[0] * 1000)\n",
    "        if i > 0:\n",
    "            Dis_Cap = abs(\n",
    "                cycle.steps[1][\"Discharge capacity [A.h]\"].entries[0] \n",
    "                - cycle.steps[1][\"Discharge capacity [A.h]\"].entries[-1] )\n",
    "            SOC.append(SOC[-1]-Dis_Cap/cap_full*100)\n",
    "    return np.mean(Res_0p1s),Res_0p1s,SOC\n",
    "cap_full = 5;\n",
    "Index = np.arange(2,26,1) # index = 2:25\n",
    "Mean_Res_0p1s,Res_0p1s,SOC = Get_0p1s_R0(solution_Landes_constant,Index,cap_full)\n",
    "\n",
    "fs=14;\n",
    "font = {'family' : 'DejaVu Sans','size'   : fs}\n",
    "mpl.rc('font', **font)\n",
    "\n",
    "fig, ax = plt.subplots( figsize=(5,4),tight_layout=True)\n",
    "ax.plot(SOC,Res_0p1s,\"-o\")\n",
    "ax.set_xlabel(\"SOC %\")\n",
    "ax.set_ylabel(r'Mean 0.1s R (m$\\Omega$)')\n",
    "print(SOC[-1],Mean_Res_0p1s)"
   ]
  },
  {
   "cell_type": "code",
   "execution_count": null,
   "metadata": {},
   "outputs": [],
   "source": [
    "label = [\n",
    "    \"Step-0\",\n",
    "    \"Step-1\",\n",
    "    \"Step-2\",] \n",
    "var = [\n",
    "    \"Terminal voltage [V]\",\n",
    "    \"Current [A]\",\n",
    "    \"Electrolyte concentration [mol.m-3]\",\n",
    "    \"Electrolyte diffusivity [m2.s-1]\",\n",
    "    \"Electrolyte conductivity [S.m-1]\",\n",
    "    \"X-averaged SEI interfacial current density [A.m-2]\",\n",
    "]\n",
    "quick_plot = pb.QuickPlot(\n",
    "    [\n",
    "    solution_Landes_constant.cycles[0],\n",
    "    solution_Landes_constant.cycles[1],\n",
    "    solution_Landes_constant.cycles[2],\n",
    "    ], var,label,variable_limits='tight') #     \n",
    "quick_plot.dynamic_plot();"
   ]
  },
  {
   "cell_type": "code",
   "execution_count": null,
   "metadata": {},
   "outputs": [],
   "source": [
    "len(solution_Landes_constant.cycles)"
   ]
  },
  {
   "cell_type": "code",
   "execution_count": null,
   "metadata": {},
   "outputs": [],
   "source": [
    "\n",
    "var = [\n",
    "    \"Terminal voltage [V]\",\n",
    "    \"Current [A]\",\n",
    "    \"Electrolyte concentration [mol.m-3]\",\n",
    "    \"Electrolyte diffusivity [m2.s-1]\",\n",
    "    \"Electrolyte conductivity [S.m-1]\",\n",
    "    \"X-averaged SEI interfacial current density [A.m-2]\",\n",
    "]\n",
    "quick_plot = pb.QuickPlot(\n",
    "    [cycle for cycle in solution_Landes_constant.cycles[2:-1]],\n",
    "    var,variable_limits='tight') #     \n",
    "quick_plot.dynamic_plot();"
   ]
  },
  {
   "cell_type": "code",
   "execution_count": null,
   "metadata": {},
   "outputs": [],
   "source": []
  }
 ],
 "metadata": {
  "kernelspec": {
   "display_name": "envPBGEM",
   "language": "python",
   "name": "python3"
  },
  "language_info": {
   "codemirror_mode": {
    "name": "ipython",
    "version": 3
   },
   "file_extension": ".py",
   "mimetype": "text/x-python",
   "name": "python",
   "nbconvert_exporter": "python",
   "pygments_lexer": "ipython3",
   "version": "3.9.6"
  },
  "orig_nbformat": 4,
  "vscode": {
   "interpreter": {
    "hash": "83fab7fbb3a8fe7b5910804f702478ef63e2cc6a08d85072a5d68865ed0fd8c7"
   }
  }
 },
 "nbformat": 4,
 "nbformat_minor": 2
}
