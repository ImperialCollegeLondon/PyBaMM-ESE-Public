{
 "cells": [
  {
   "cell_type": "code",
   "execution_count": 1,
   "metadata": {},
   "outputs": [],
   "source": [
    "import pybamm as pb;import pandas as pd   ;import numpy as np;import os;import matplotlib.pyplot as plt;import os;#import imageio\n",
    "from scipy.io import savemat,loadmat;from pybamm import constants,exp;import matplotlib as mpl; fs=17; # or we can set import matplotlib.pyplot as plt then say 'mpl.rc...'\n",
    "import openpyxl\n",
    "import traceback\n",
    "import multiprocessing\n",
    "import scipy.optimize\n",
    "import random;import time, signal\n",
    "import sys  \n",
    "str_path_0 = os.path.abspath(os.path.join(pb.__path__[0],'..'))\n",
    "str_path_1 = os.path.abspath(os.path.join(str_path_0,\"wip\\Rio_Code\\Fun_P2\"))\n",
    "sys.path.append(str_path_1) \n",
    "from Fun_P2 import * "
   ]
  },
  {
   "cell_type": "code",
   "execution_count": 3,
   "metadata": {},
   "outputs": [],
   "source": [
    "model = pb.lithium_ion.DFN(options={\n",
    "    \"thermal\": \"lumped\",\n",
    "    \"particle\": \"Fickian diffusion\",          \n",
    "    \"SEI\":\"interstitial-diffusion limited\",   \n",
    "    \"SEI on cracks\":\"true\",  \n",
    "    \"SEI film resistance\":\"distributed\",          \n",
    "    \"SEI porosity change\":\"true\",      \n",
    "    \"particle mechanics\":(\"swelling and cracking\", \"swelling only\"), \n",
    "    \"loss of active material\":\"stress-driven\", \n",
    "    \"lithium plating\":\"partially reversible\"\n",
    "    },)\n",
    "param = pb.ParameterValues(\"OKane2023\")\n",
    "# Adjust SEI parameters\n",
    "param.update({\"Inner SEI lithium interstitial diffusivity [m2.s-1]\": 5e-19})\n",
    "# Override SEI thickness dependence of lithium plating\n",
    "param.update({\"Dead lithium decay rate [s-1]\": 1e-6})\n",
    "param.update({\"Lithium plating kinetic rate constant [m.s-1]\": 1e-10})\n",
    "# Adjust mechanical degradation parameters\n",
    "param.update({\"Negative electrode cracking rate\": 1e-22})\n",
    "param.update({\"Negative electrode LAM constant proportional term [s-1]\": 5e-8})\n",
    "param.update({\"Positive electrode LAM constant proportional term [s-1]\": 1e-8})\n",
    "param.update({\"Electrolyte conductivity [S.m-1]\": electrolyte_conductivity_EC_EMC_3_7_Landesfeind2019_Constant})\n",
    "param.update({\"Electrolyte diffusivity [m2.s-1]\": electrolyte_diffusivity_EC_EMC_3_7_Landesfeind2019_Constant})\n",
    "param.update({\"1 + dlnf/dlnc\": electrolyte_TDF_EC_EMC_3_7_Landesfeind2019_Constant})\n",
    "param.update({\"Cation transference number\": electrolyte_transference_number_EC_EMC_3_7_Landesfeind2019_Constant})\n"
   ]
  },
  {
   "cell_type": "code",
   "execution_count": 4,
   "metadata": {},
   "outputs": [],
   "source": [
    "# define experiment\n",
    "V_max = 4.2;        V_min = 2.5; \n",
    "discharge_time_mins = 0.15* 60 * 4.86491/5\n",
    "charge_time_mins = 0.5* 60 * 4.86491/5\n",
    "exp_AGE_text = [(\n",
    "    f\"Discharge at 1C for {discharge_time_mins} minutes or until {V_min}V\", \n",
    "    f\"Charge at 0.3C for {charge_time_mins} minutes or until {V_max}V\",\n",
    "    ),  ]  # *  514\n",
    "# step index for ageing\n",
    "step_AGE_CD =0;   step_AGE_CC =1;   step_AGE_CV =2;\n",
    "\n",
    "exp_RPT_text = [ ( \n",
    "    f\"Charge at 0.3C until {V_max} V\",  \n",
    "    f\"Hold at {V_max}V until C/100\",\n",
    "    \"Rest for 1 hours (5 minute period)\",  \n",
    "    f\"Discharge at 0.1C until {V_min} V (5 minute period)\",  \n",
    "    \"Rest for 1 hours (5 minute period)\",  \n",
    "    f\"Charge at 0.1C until {V_max} V (5 minute period)\",\n",
    "    f\"Hold at {V_max} V until C/100\",\n",
    "    \"Rest for 1 hours (5 minute period)\",\n",
    "    f\"Discharge at 1C for {discharge_time_mins} minutes or until {V_min}V\", \n",
    "    \"Rest for 3 hours (15 minute period)\",\n",
    "    ) ]\n",
    "# step index for RPT\n",
    "step_RPT_CD = 3;  step_RPT_RE =4;   step_RPT_CC = 5;  \n",
    "Update_Cycles = 514; RPT_Cycles = 1\n",
    "Experiment_Long   = pb.Experiment( exp_AGE_text * Update_Cycles  )  \n",
    "Experiment_RPT    = pb.Experiment( exp_RPT_text * RPT_Cycles     ) \n",
    "Experiment_Breakin= pb.Experiment( exp_RPT_text * RPT_Cycles     )\n"
   ]
  },
  {
   "cell_type": "code",
   "execution_count": 5,
   "metadata": {},
   "outputs": [],
   "source": [
    "var_pts = {\n",
    "    \"x_n\": 5,  # negative electrode\n",
    "    \"x_s\": 5,  # separator \n",
    "    \"x_p\": 5,  # positive electrode\n",
    "    \"r_n\": 30,  # negative particle\n",
    "    \"r_p\": 20,  # positive particle\n",
    "}"
   ]
  },
  {
   "cell_type": "code",
   "execution_count": null,
   "metadata": {},
   "outputs": [],
   "source": [
    "sim1 = pb.Simulation(\n",
    "    model, \n",
    "    experiment=Experiment_Breakin,\n",
    "    parameter_values=param,\n",
    "    solver=pb.CasadiSolver(),\n",
    "    var_pts=var_pts,\n",
    ")\n",
    "solution1 = sim1.solve(\n",
    "    save_at_cycles=1\n",
    ")\n",
    "\n",
    "#stop = timeit.default_timer()\n",
    "#print('running time: ' + str(stop - start) +'s')"
   ]
  },
  {
   "cell_type": "code",
   "execution_count": 7,
   "metadata": {},
   "outputs": [],
   "source": [
    "model_2 = model.set_initial_conditions_from(solution1, inplace=False)\n",
    "sim2 = pb.Simulation(\n",
    "    model_2, \n",
    "    experiment=Experiment_Long,\n",
    "    parameter_values=param,\n",
    "    solver=pb.CasadiSolver(),\n",
    "    var_pts=var_pts,\n",
    ")\n",
    "solution2 = sim2.solve(\n",
    "    save_at_cycles=[1,514] \n",
    ")"
   ]
  },
  {
   "cell_type": "code",
   "execution_count": 24,
   "metadata": {},
   "outputs": [
    {
     "name": "stdout",
     "output_type": "stream",
     "text": [
      "[[0.20891532 0.20891456 0.20890936 0.20890447 0.20889978 0.20889524\n",
      "  0.20889081 0.20888647 0.2088822  0.20887799 0.20887463 0.2088545\n",
      "  0.20883494 0.2088159  0.20879738 0.20877934 0.20876178 0.20874467\n",
      "  0.208728   0.20871173 0.20869585 0.20868035 0.20866522 0.20865362\n",
      "  0.2086426  0.20863206 0.20862193 0.20861216 0.20860276 0.20859376\n",
      "  0.20858518 0.20857702 0.20856926 0.2085619  0.20855491 0.20854829\n",
      "  0.20854203 0.20853614 0.20853061 0.20852546 0.20852071 0.20851638\n",
      "  0.20851254 0.20850926 0.20850663 0.20850468 0.2085034  0.20850274\n",
      "  0.20850261 0.20850295 0.20850367 0.20850474 0.20850612 0.20850777\n",
      "  0.20850969 0.20851187 0.20851431 0.20851705 0.20852017 0.20852364\n",
      "  0.20852742 0.20853148 0.20853578 0.20854031 0.208545   0.20854977\n",
      "  0.20855453 0.20855921 0.20856371 0.20856797 0.20857197 0.20857569\n",
      "  0.20857913 0.20858232 0.20858527 0.20858799 0.2085905  0.20859283\n",
      "  0.20859498 0.20859698 0.20859884 0.20860057 0.20860219 0.20860372\n",
      "  0.20860517 0.20860655 0.20860788 0.20860917 0.20861043 0.20861169\n",
      "  0.20861294 0.20861421 0.20861552 0.20861688 0.20861829 0.20861978\n",
      "  0.20862135 0.20862302 0.20862478 0.20862666 0.20862866 0.20863079\n",
      "  0.20863304 0.2086354  0.20863782 0.20864026 0.20864268 0.20864502\n",
      "  0.20864723 0.20864929 0.20865116 0.20865284 0.20865434 0.20865571\n",
      "  0.20865696 0.20865805 0.20865891 0.2086596  0.20866013 0.20866056\n",
      "  0.20866091 0.20866122 0.20866151 0.20866179 0.20866204 0.20866224\n",
      "  0.20866236 0.20866241 0.20866243 0.20866243 0.20866243 0.20866244\n",
      "  0.20866244 0.20866244 0.20866244 0.20866244 0.20866244 0.20866245\n",
      "  0.20866245 0.20866246 0.20866247 0.20866247 0.20866247 0.20866247\n",
      "  0.20866247 0.20866247 0.20866247 0.20866247 0.20866247 0.20866247\n",
      "  0.20866247 0.20866247 0.20866247 0.20866247 0.20866247 0.20866247\n",
      "  0.20866247 0.20866247 0.20866247 0.20866247 0.20866247 0.20866246\n",
      "  0.20866246 0.20866246 0.20866245 0.20866244 0.20866241 0.20866236\n",
      "  0.20866227 0.20866214 0.20866195 0.2086617  0.20866141 0.20866107\n",
      "  0.20866065 0.2086602  0.20865975 0.20865932 0.20865891 0.2086585\n",
      "  0.20865808 0.20865763 0.20865711 0.20865651 0.2086558  0.20865494\n",
      "  0.2086539  0.20865265 0.20865116 0.20864939 0.20864732 0.20864492\n",
      "  0.20864218 0.20863912 0.20863575 0.20863209 0.2086282  0.20862411\n",
      "  0.20861988 0.20861557 0.20861121 0.20860688 0.20860259 0.2085984\n",
      "  0.20859431 0.20859028 0.20858629 0.20858234 0.20857847 0.20857468\n",
      "  0.20857095 0.20856726 0.20856363 0.20856004 0.20855648 0.20855294\n",
      "  0.20854941 0.20854589 0.20854234 0.20853876 0.20853513 0.20853141\n",
      "  0.20852755 0.20852347 0.20851915 0.20851464 0.20850993 0.20850497\n",
      "  0.20849969 0.20849403 0.20848791 0.20848112 0.20847337 0.20846407\n",
      "  0.20845231 0.20843748 0.20842036 0.20840234 0.20838417 0.20836615\n",
      "  0.20834836 0.20833087 0.20831367 0.20829676 0.20828013 0.20826378\n",
      "  0.20824768 0.20823185 0.20821627 0.20820092 0.2081858  0.20817089\n",
      "  0.20815618 0.20814166 0.20812731 0.20811313 0.20809908 0.20808516\n",
      "  0.20807134 0.20805761 0.20804392 0.20803025 0.20801651 0.20800258\n",
      "  0.20798815 0.20797305 0.20795741 0.20794143 0.20792527 0.20791475\n",
      "  0.20791166 0.20790884 0.20790623 0.20790379 0.2079015  0.20789932\n",
      "  0.20789724 0.20789525 0.20789332 0.20789244 0.20788403 0.20787623\n",
      "  0.20786877 0.20786156 0.20785451 0.20784758 0.20784076 0.20783401\n",
      "  0.20782732 0.20782068 0.20781408 0.20780752 0.20781117 0.20781629\n",
      "  0.20782393 0.20783222 0.20783981 0.2078474  0.2078551  0.20786362\n",
      "  0.2078719  0.20786063 0.20783532 0.20781054 0.20778651 0.20776308\n",
      "  0.20774014 0.20771761 0.20769545 0.2076736  0.20765203 0.20763071\n",
      "  0.20760962]] [0.20891532 0.20891452 0.20890993 0.20890563 0.20890136 0.20889713\n",
      " 0.20889292 0.20888874 0.20888459 0.20888046 0.20887715 0.20885698\n",
      " 0.20883737 0.20881828 0.20879971 0.20878163 0.20876402 0.20874687\n",
      " 0.20873015 0.20871384 0.20869793 0.20868239 0.20866722 0.20865286\n",
      " 0.20863877 0.20862503 0.20861164 0.20859858 0.20858585 0.20857345\n",
      " 0.20856137 0.20854961 0.20853818 0.20852705 0.20851624 0.20850575\n",
      " 0.20849557 0.20848572 0.20847623 0.20846712 0.20845845 0.2084503\n",
      " 0.20844282 0.2084362  0.20843061 0.20842614 0.20842276 0.20842035\n",
      " 0.20841877 0.20841789 0.20841759 0.20841781 0.20841847 0.20841953\n",
      " 0.20842094 0.20842269 0.20842477 0.20842717 0.20842993 0.20843307\n",
      " 0.20843662 0.2084406  0.20844505 0.20845004 0.20845557 0.20846144\n",
      " 0.20846741 0.2084733  0.208479   0.20848441 0.20848949 0.20849424\n",
      " 0.20849866 0.20850277 0.2085066  0.20851017 0.20851349 0.20851659\n",
      " 0.20851949 0.20852219 0.20852472 0.20852708 0.20852931 0.2085314\n",
      " 0.20853338 0.20853526 0.20853705 0.20853877 0.20854044 0.20854207\n",
      " 0.20854368 0.20854529 0.20854692 0.20854859 0.20855032 0.20855214\n",
      " 0.20855407 0.20855614 0.20855837 0.20856079 0.20856344 0.20856632\n",
      " 0.20856944 0.20857277 0.20857624 0.20857979 0.20858332 0.20858676\n",
      " 0.20859005 0.20859312 0.20859594 0.20859849 0.20860077 0.20860283\n",
      " 0.20860474 0.20860644 0.20860784 0.20860895 0.20860983 0.20861053\n",
      " 0.20861111 0.2086116  0.20861206 0.2086125  0.20861291 0.20861322\n",
      " 0.20861342 0.20861351 0.20861355 0.20861356 0.20861356 0.20861356\n",
      " 0.20861356 0.20861356 0.20861356 0.20861357 0.20861357 0.20861357\n",
      " 0.20861358 0.20861359 0.20861359 0.20861359 0.20861359 0.20861359\n",
      " 0.20861359 0.20861359 0.20861359 0.20861359 0.20861359 0.20861359\n",
      " 0.20861359 0.20861359 0.20861359 0.20861359 0.20861359 0.20861359\n",
      " 0.20861359 0.20861359 0.20861359 0.20861359 0.20861359 0.20861359\n",
      " 0.20861359 0.20861359 0.20861358 0.20861357 0.20861355 0.20861351\n",
      " 0.20861344 0.20861334 0.20861318 0.20861299 0.20861276 0.20861249\n",
      " 0.20861217 0.2086118  0.20861144 0.20861109 0.20861076 0.20861045\n",
      " 0.20861013 0.2086098  0.20860943 0.208609   0.20860847 0.20860782\n",
      " 0.20860702 0.20860605 0.20860487 0.20860348 0.20860184 0.20859993\n",
      " 0.20859775 0.20859531 0.20859261 0.20858968 0.20858654 0.20858324\n",
      " 0.20857981 0.2085763  0.20857273 0.20856915 0.20856559 0.20856206\n",
      " 0.20855859 0.20855519 0.20855185 0.20854858 0.20854539 0.20854228\n",
      " 0.20853925 0.20853628 0.20853339 0.20853056 0.20852778 0.20852505\n",
      " 0.20852234 0.20851964 0.20851693 0.20851422 0.2085115  0.20850877\n",
      " 0.20850602 0.20850322 0.20850037 0.20849745 0.20849445 0.20849132\n",
      " 0.20848804 0.20848453 0.20848073 0.20847644 0.20847137 0.20846488\n",
      " 0.20845604 0.20844425 0.2084301  0.20841475 0.20839899 0.20838315\n",
      " 0.20836742 0.20835186 0.20833653 0.20832144 0.20830661 0.20829204\n",
      " 0.20827773 0.20826367 0.20824987 0.20823631 0.20822299 0.2082099\n",
      " 0.20819703 0.20818437 0.20817192 0.20815967 0.2081476  0.20813571\n",
      " 0.20812398 0.20811241 0.20810099 0.20808971 0.20807855 0.20806748\n",
      " 0.20805648 0.20804552 0.2080346  0.20802374 0.20801294 0.20800597\n",
      " 0.20800387 0.2080018  0.20799977 0.20799775 0.20799576 0.20799379\n",
      " 0.20799183 0.20798989 0.20798796 0.20798706 0.20797767 0.20796846\n",
      " 0.20795942 0.20795052 0.20794174 0.20793307 0.20792451 0.20791604\n",
      " 0.20790767 0.20789938 0.20789116 0.20788302 0.20788277 0.20788181\n",
      " 0.2078815  0.20788262 0.20788449 0.20788679 0.20788915 0.20789126\n",
      " 0.20789329 0.20787572 0.20784997 0.20782516 0.20780119 0.20777786\n",
      " 0.20775502 0.20773259 0.20771052 0.20768875 0.20766726 0.20764601\n",
      " 0.20762497]\n"
     ]
    }
   ],
   "source": [
    "param[\"Negative electrode porosity\"]\n",
    "print(\n",
    "    solution1.cycles[0]['Negative electrode porosity'].entries[-1:,],\n",
    "    solution1.cycles[0]['Negative electrode porosity'].entries[0,:],)"
   ]
  },
  {
   "cell_type": "code",
   "execution_count": 23,
   "metadata": {},
   "outputs": [
    {
     "name": "stdout",
     "output_type": "stream",
     "text": [
      "0.20762212881721284 0.2089153194539249\n"
     ]
    }
   ],
   "source": [
    "print(\n",
    "    solution1.cycles[0]['X-averaged negative electrode porosity'].entries[-1],\n",
    "    solution1.cycles[0]['X-averaged negative electrode porosity'].entries[0],)"
   ]
  },
  {
   "cell_type": "code",
   "execution_count": 16,
   "metadata": {},
   "outputs": [
    {
     "name": "stdout",
     "output_type": "stream",
     "text": [
      "0.0016062629395163647\n",
      "0.042424638180240865\n"
     ]
    }
   ],
   "source": [
    "# plot SOH, LAM, LII\n",
    "# SOH must be defined ourselves? \n",
    "print(solution1.cycles[0]['Loss of capacity to SEI [A.h]'].entries[-1])\n",
    "print(solution2.cycles[-1]['Loss of capacity to SEI [A.h]'].entries[-1]-solution2.cycles[0]['Loss of capacity to SEI [A.h]'].entries[0])"
   ]
  },
  {
   "cell_type": "code",
   "execution_count": 25,
   "metadata": {},
   "outputs": [
    {
     "data": {
      "application/vnd.jupyter.widget-view+json": {
       "model_id": "80ce581438244c30b5f1ea5020c3bd54",
       "version_major": 2,
       "version_minor": 0
      },
      "text/plain": [
       "interactive(children=(FloatSlider(value=0.0, description='t', max=25.95985062437705, step=0.2595985062437705),…"
      ]
     },
     "metadata": {},
     "output_type": "display_data"
    }
   ],
   "source": [
    "label = [\"Initial solution\"] \n",
    "var = [\n",
    "    \"Loss of lithium inventory, including electrolyte [%]\",\n",
    "    \"LAM_ne [%]\",\n",
    "    \"LAM_pe [%]\",\n",
    "    'LLI [%]', \n",
    "    \"Discharge capacity [A.h]\",\n",
    "    \"Negative electrode porosity\"\n",
    "]\n",
    "quick_plot = pb.QuickPlot(\n",
    "    [solution1], var,label,variable_limits='tight') #     \n",
    "quick_plot.dynamic_plot();"
   ]
  },
  {
   "cell_type": "code",
   "execution_count": null,
   "metadata": {},
   "outputs": [],
   "source": [
    "label = [\"Initial solution\",\"Second solution\"] \n",
    "var = [\n",
    "    \"Loss of lithium inventory, including electrolyte [%]\",\n",
    "    \"LAM_ne [%]\",\n",
    "    \"Loss of active material in negative electrode [%]\",\n",
    "    \"LAM_pe [%]\",\n",
    "    \"Loss of active material in positive electrode [%]\",\n",
    "    'LLI [%]', \n",
    "    'Throughput capacity [A.h]',\n",
    "    \"Discharge capacity [A.h]\"\n",
    "]\n",
    "quick_plot = pb.QuickPlot(\n",
    "    [solution1,solution2], var,label,variable_limits='tight') #     \n",
    "quick_plot.dynamic_plot();"
   ]
  },
  {
   "cell_type": "code",
   "execution_count": null,
   "metadata": {},
   "outputs": [],
   "source": [
    "print(solution2['Throughput capacity [A.h]'].entries[-1])\n",
    "print(solution2.cycles[-1].steps[-1]['Throughput capacity [A.h]'].entries[-1])\n",
    "print(solution2.cycles[-1].steps[1]['Throughput capacity [A.h]'].entries)"
   ]
  },
  {
   "cell_type": "markdown",
   "metadata": {},
   "source": [
    "for step in solution2.cycles[-1].steps:\n",
    "    step['Throughput capacity [A.h]'].entries += solution1['Throughput capacity [A.h]'].entries[-1]"
   ]
  },
  {
   "cell_type": "code",
   "execution_count": null,
   "metadata": {},
   "outputs": [],
   "source": [
    "# need to do this every time next solution is got:\n",
    "solution2['Throughput capacity [A.h]'].entries += solution1['Throughput capacity [A.h]'].entries[-1]\n",
    "\"Throughput energy [W.h]\","
   ]
  },
  {
   "cell_type": "code",
   "execution_count": null,
   "metadata": {},
   "outputs": [],
   "source": [
    "plt.plot(solution1['Throughput capacity [A.h]'].entries)\n",
    "plt.plot(solution2['Throughput capacity [A.h]'].entries)"
   ]
  },
  {
   "cell_type": "code",
   "execution_count": null,
   "metadata": {},
   "outputs": [],
   "source": [
    "plt.plot(solution2['Cell temperature [K]'].entries )"
   ]
  },
  {
   "cell_type": "code",
   "execution_count": null,
   "metadata": {},
   "outputs": [],
   "source": [
    "solution2['Cell temperature [C]'].entries "
   ]
  }
 ],
 "metadata": {
  "kernelspec": {
   "display_name": "envPBpublic",
   "language": "python",
   "name": "python3"
  },
  "language_info": {
   "codemirror_mode": {
    "name": "ipython",
    "version": 3
   },
   "file_extension": ".py",
   "mimetype": "text/x-python",
   "name": "python",
   "nbconvert_exporter": "python",
   "pygments_lexer": "ipython3",
   "version": "3.9.6"
  },
  "orig_nbformat": 4,
  "vscode": {
   "interpreter": {
    "hash": "67421545f68ed51676f11d33623f5bfe7fd6cf9e8d95914baad5cd6f61ac5d03"
   }
  }
 },
 "nbformat": 4,
 "nbformat_minor": 2
}
