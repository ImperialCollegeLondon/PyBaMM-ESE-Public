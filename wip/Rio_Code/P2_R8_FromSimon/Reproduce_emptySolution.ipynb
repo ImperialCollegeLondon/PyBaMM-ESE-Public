{
 "cells": [
  {
   "cell_type": "code",
   "execution_count": 44,
   "metadata": {},
   "outputs": [],
   "source": [
    "import matplotlib.pyplot as plt\n",
    "import numpy as np\n",
    "import pybamm\n",
    "import pandas as pd\n",
    "import timeit\n",
    "start = timeit.default_timer()"
   ]
  },
  {
   "cell_type": "code",
   "execution_count": 45,
   "metadata": {},
   "outputs": [],
   "source": [
    "model = pybamm.lithium_ion.DFN()\n",
    "param = pybamm.ParameterValues(\"OKane2023\")"
   ]
  },
  {
   "cell_type": "code",
   "execution_count": 46,
   "metadata": {},
   "outputs": [],
   "source": [
    "# C/10 discharge/charge run at start and after every 78 ageing cycles \n",
    "    # define experiment\n",
    "V_max = 4.2;        \n",
    "V_min = 2.5; \n",
    "charge_time_mins = 60 * 4.86491/5\n",
    "\"\"\" exp_AGE_text = [(\n",
    "    f\"Discharge at 1 C until {V_min} V\", \n",
    "    f\"Charge at 0.3 C for {charge_time_mins} minutes\",\n",
    "    ),  ] \"\"\"\n",
    "exp_AGE_text = [(\n",
    "    f\"Discharge at 1 C for 2 minutes\", \n",
    "    f\"Charge at 0.3 C for 2 minutes\",\n",
    "    ),  ]\n",
    "# step index for ageing\n",
    "step_AGE_CD =0;   step_AGE_CC =1;   step_AGE_CV =2;\n",
    "\n",
    "exp_RPT_text = [ (\n",
    "    f\"Hold at {V_max}V until C/100\",\n",
    "    f\"Discharge at 0.1C until {V_min} V\",  \n",
    "    \"Rest for 1 hours\",  \n",
    "    f\"Charge at 0.1C until {V_max} V\",\n",
    "    \"Rest for 1 hours\",\n",
    "    f\"Discharge at 1C until {V_min} V\",  \n",
    "    f\"Hold at {V_min} V until C/100\",\n",
    "    ) ]\n",
    "# step index for RPT\n",
    "step_RPT_CD = 1;  step_RPT_RE =2;   step_RPT_CC = 3;  \n",
    "Update_Cycles = 3; RPT_Cycles = 1\n",
    "Experiment_Long   = pybamm.Experiment( exp_AGE_text * Update_Cycles  )  \n",
    "Experiment_RPT    = pybamm.Experiment( exp_RPT_text * RPT_Cycles     ) \n",
    "Experiment_Breakin= pybamm.Experiment( exp_RPT_text * RPT_Cycles     )\n"
   ]
  },
  {
   "cell_type": "code",
   "execution_count": 47,
   "metadata": {},
   "outputs": [],
   "source": [
    "var_pts = {\n",
    "    \"x_n\": 5,  # negative electrode\n",
    "    \"x_s\": 5,  # separator \n",
    "    \"x_p\": 5,  # positive electrode\n",
    "    \"r_n\": 20,  # negative particle\n",
    "    \"r_p\": 20,  # positive particle\n",
    "}"
   ]
  },
  {
   "cell_type": "code",
   "execution_count": 48,
   "metadata": {},
   "outputs": [
    {
     "name": "stdout",
     "output_type": "stream",
     "text": [
      "running time: 30.200252099999943s\n"
     ]
    }
   ],
   "source": [
    "sim1 = pybamm.Simulation(\n",
    "    model, \n",
    "    experiment=Experiment_Breakin,\n",
    "    parameter_values=param,\n",
    "    solver=pybamm.CasadiSolver(),\n",
    "    var_pts=var_pts,\n",
    ")\n",
    "solution1 = sim1.solve(\n",
    "    save_at_cycles=1\n",
    ")\n",
    "\n",
    "stop = timeit.default_timer()\n",
    "print('running time: ' + str(stop - start) +'s')"
   ]
  },
  {
   "cell_type": "code",
   "execution_count": 49,
   "metadata": {},
   "outputs": [
    {
     "name": "stderr",
     "output_type": "stream",
     "text": [
      "2023-02-20 23:40:16.012 - [ERROR] callbacks.on_experiment_error(226): Simulation error: Events ['Minimum voltage'] are non-positive at initial conditions\n"
     ]
    },
    {
     "ename": "SolverError",
     "evalue": "Events ['Minimum voltage'] are non-positive at initial conditions",
     "output_type": "error",
     "traceback": [
      "\u001b[1;31m---------------------------------------------------------------------------\u001b[0m",
      "\u001b[1;31mSolverError\u001b[0m                               Traceback (most recent call last)",
      "\u001b[1;32md:\\GitPyBaMM\\LRH_409\\LRH_409\\envPBGEM\\PyBaMM-GEM\\wip\\Rio_Code\\P2_R8_FromSimon\\Reproduce_emptySolution.ipynb Cell 6\u001b[0m in \u001b[0;36m<cell line: 29>\u001b[1;34m()\u001b[0m\n\u001b[0;32m     <a href='vscode-notebook-cell:/d%3A/GitPyBaMM/LRH_409/LRH_409/envPBGEM/PyBaMM-GEM/wip/Rio_Code/P2_R8_FromSimon/Reproduce_emptySolution.ipynb#X10sZmlsZQ%3D%3D?line=20'>21</a>\u001b[0m model_2 \u001b[39m=\u001b[39m model\u001b[39m.\u001b[39mset_initial_conditions_from(dict_short, inplace\u001b[39m=\u001b[39m\u001b[39mFalse\u001b[39;00m)\n\u001b[0;32m     <a href='vscode-notebook-cell:/d%3A/GitPyBaMM/LRH_409/LRH_409/envPBGEM/PyBaMM-GEM/wip/Rio_Code/P2_R8_FromSimon/Reproduce_emptySolution.ipynb#X10sZmlsZQ%3D%3D?line=21'>22</a>\u001b[0m sim2 \u001b[39m=\u001b[39m pybamm\u001b[39m.\u001b[39mSimulation(\n\u001b[0;32m     <a href='vscode-notebook-cell:/d%3A/GitPyBaMM/LRH_409/LRH_409/envPBGEM/PyBaMM-GEM/wip/Rio_Code/P2_R8_FromSimon/Reproduce_emptySolution.ipynb#X10sZmlsZQ%3D%3D?line=22'>23</a>\u001b[0m     model_2, \n\u001b[0;32m     <a href='vscode-notebook-cell:/d%3A/GitPyBaMM/LRH_409/LRH_409/envPBGEM/PyBaMM-GEM/wip/Rio_Code/P2_R8_FromSimon/Reproduce_emptySolution.ipynb#X10sZmlsZQ%3D%3D?line=23'>24</a>\u001b[0m     experiment\u001b[39m=\u001b[39mExperiment_Long,\n\u001b[1;32m   (...)\u001b[0m\n\u001b[0;32m     <a href='vscode-notebook-cell:/d%3A/GitPyBaMM/LRH_409/LRH_409/envPBGEM/PyBaMM-GEM/wip/Rio_Code/P2_R8_FromSimon/Reproduce_emptySolution.ipynb#X10sZmlsZQ%3D%3D?line=26'>27</a>\u001b[0m     var_pts\u001b[39m=\u001b[39mvar_pts,\n\u001b[0;32m     <a href='vscode-notebook-cell:/d%3A/GitPyBaMM/LRH_409/LRH_409/envPBGEM/PyBaMM-GEM/wip/Rio_Code/P2_R8_FromSimon/Reproduce_emptySolution.ipynb#X10sZmlsZQ%3D%3D?line=27'>28</a>\u001b[0m )\n\u001b[1;32m---> <a href='vscode-notebook-cell:/d%3A/GitPyBaMM/LRH_409/LRH_409/envPBGEM/PyBaMM-GEM/wip/Rio_Code/P2_R8_FromSimon/Reproduce_emptySolution.ipynb#X10sZmlsZQ%3D%3D?line=28'>29</a>\u001b[0m solution2 \u001b[39m=\u001b[39m sim2\u001b[39m.\u001b[39;49msolve(\n\u001b[0;32m     <a href='vscode-notebook-cell:/d%3A/GitPyBaMM/LRH_409/LRH_409/envPBGEM/PyBaMM-GEM/wip/Rio_Code/P2_R8_FromSimon/Reproduce_emptySolution.ipynb#X10sZmlsZQ%3D%3D?line=29'>30</a>\u001b[0m     calc_esoh\u001b[39m=\u001b[39;49m\u001b[39mFalse\u001b[39;49;00m,\n\u001b[0;32m     <a href='vscode-notebook-cell:/d%3A/GitPyBaMM/LRH_409/LRH_409/envPBGEM/PyBaMM-GEM/wip/Rio_Code/P2_R8_FromSimon/Reproduce_emptySolution.ipynb#X10sZmlsZQ%3D%3D?line=30'>31</a>\u001b[0m     save_at_cycles\u001b[39m=\u001b[39;49m\u001b[39m1\u001b[39;49m \n\u001b[0;32m     <a href='vscode-notebook-cell:/d%3A/GitPyBaMM/LRH_409/LRH_409/envPBGEM/PyBaMM-GEM/wip/Rio_Code/P2_R8_FromSimon/Reproduce_emptySolution.ipynb#X10sZmlsZQ%3D%3D?line=31'>32</a>\u001b[0m )\n",
      "File \u001b[1;32md:\\gitpybamm\\lrh_409\\lrh_409\\envpbgem\\pybamm-gem\\pybamm\\simulation.py:771\u001b[0m, in \u001b[0;36mSimulation.solve\u001b[1;34m(self, t_eval, solver, check_model, save_at_cycles, calc_esoh, starting_solution, initial_soc, callbacks, **kwargs)\u001b[0m\n\u001b[0;32m    769\u001b[0m \u001b[39m# If none of the cycles worked, raise an error\u001b[39;00m\n\u001b[0;32m    770\u001b[0m \u001b[39mif\u001b[39;00m cycle_num \u001b[39m==\u001b[39m \u001b[39m1\u001b[39m \u001b[39mand\u001b[39;00m step_num \u001b[39m==\u001b[39m \u001b[39m1\u001b[39m:\n\u001b[1;32m--> 771\u001b[0m     \u001b[39mraise\u001b[39;00m error\n\u001b[0;32m    772\u001b[0m \u001b[39m# Otherwise, just stop this cycle\u001b[39;00m\n\u001b[0;32m    773\u001b[0m \u001b[39mbreak\u001b[39;00m\n",
      "File \u001b[1;32md:\\gitpybamm\\lrh_409\\lrh_409\\envpbgem\\pybamm-gem\\pybamm\\simulation.py:749\u001b[0m, in \u001b[0;36mSimulation.solve\u001b[1;34m(self, t_eval, solver, check_model, save_at_cycles, calc_esoh, starting_solution, initial_soc, callbacks, **kwargs)\u001b[0m\n\u001b[0;32m    747\u001b[0m npts \u001b[39m=\u001b[39m \u001b[39mmax\u001b[39m(\u001b[39mint\u001b[39m(\u001b[39mround\u001b[39m(dt \u001b[39m/\u001b[39m op_conds[\u001b[39m\"\u001b[39m\u001b[39mperiod\u001b[39m\u001b[39m\"\u001b[39m])) \u001b[39m+\u001b[39m \u001b[39m1\u001b[39m, \u001b[39m2\u001b[39m)\n\u001b[0;32m    748\u001b[0m \u001b[39mtry\u001b[39;00m:\n\u001b[1;32m--> 749\u001b[0m     step_solution \u001b[39m=\u001b[39m solver\u001b[39m.\u001b[39mstep(\n\u001b[0;32m    750\u001b[0m         current_solution,\n\u001b[0;32m    751\u001b[0m         model,\n\u001b[0;32m    752\u001b[0m         dt,\n\u001b[0;32m    753\u001b[0m         npts\u001b[39m=\u001b[39mnpts,\n\u001b[0;32m    754\u001b[0m         save\u001b[39m=\u001b[39m\u001b[39mFalse\u001b[39;00m,\n\u001b[0;32m    755\u001b[0m         \u001b[39m*\u001b[39m\u001b[39m*\u001b[39mkwargs,\n\u001b[0;32m    756\u001b[0m     )\n\u001b[0;32m    757\u001b[0m \u001b[39mexcept\u001b[39;00m pybamm\u001b[39m.\u001b[39mSolverError \u001b[39mas\u001b[39;00m error:\n\u001b[0;32m    758\u001b[0m     \u001b[39mif\u001b[39;00m (\n\u001b[0;32m    759\u001b[0m         \u001b[39m\"\u001b[39m\u001b[39mnon-positive at initial conditions\u001b[39m\u001b[39m\"\u001b[39m \u001b[39min\u001b[39;00m error\u001b[39m.\u001b[39mmessage\n\u001b[0;32m    760\u001b[0m         \u001b[39mand\u001b[39;00m \u001b[39m\"\u001b[39m\u001b[39m[experiment]\u001b[39m\u001b[39m\"\u001b[39m \u001b[39min\u001b[39;00m error\u001b[39m.\u001b[39mmessage\n\u001b[0;32m    761\u001b[0m     ):\n",
      "File \u001b[1;32md:\\gitpybamm\\lrh_409\\lrh_409\\envpbgem\\pybamm-gem\\pybamm\\solvers\\base_solver.py:1190\u001b[0m, in \u001b[0;36mBaseSolver.step\u001b[1;34m(self, old_solution, model, dt, npts, inputs, save)\u001b[0m\n\u001b[0;32m   1187\u001b[0m t_eval \u001b[39m=\u001b[39m np\u001b[39m.\u001b[39mlinspace(t, t \u001b[39m+\u001b[39m dt_dimensionless, npts)\n\u001b[0;32m   1189\u001b[0m \u001b[39m# Check initial conditions don't violate events\u001b[39;00m\n\u001b[1;32m-> 1190\u001b[0m \u001b[39mself\u001b[39;49m\u001b[39m.\u001b[39;49m_check_events_with_initial_conditions(t_eval, model, model_inputs)\n\u001b[0;32m   1192\u001b[0m \u001b[39m# Step\u001b[39;00m\n\u001b[0;32m   1193\u001b[0m pybamm\u001b[39m.\u001b[39mlogger\u001b[39m.\u001b[39mverbose(\n\u001b[0;32m   1194\u001b[0m     \u001b[39m\"\u001b[39m\u001b[39mStepping for \u001b[39m\u001b[39m{:.0f}\u001b[39;00m\u001b[39m < t < \u001b[39m\u001b[39m{:.0f}\u001b[39;00m\u001b[39m\"\u001b[39m\u001b[39m.\u001b[39mformat(\n\u001b[0;32m   1195\u001b[0m         t \u001b[39m*\u001b[39m model\u001b[39m.\u001b[39mtimescale_eval,\n\u001b[0;32m   1196\u001b[0m         (t \u001b[39m+\u001b[39m dt_dimensionless) \u001b[39m*\u001b[39m model\u001b[39m.\u001b[39mtimescale_eval,\n\u001b[0;32m   1197\u001b[0m     )\n\u001b[0;32m   1198\u001b[0m )\n",
      "File \u001b[1;32md:\\gitpybamm\\lrh_409\\lrh_409\\envpbgem\\pybamm-gem\\pybamm\\solvers\\base_solver.py:1065\u001b[0m, in \u001b[0;36mBaseSolver._check_events_with_initial_conditions\u001b[1;34m(self, t_eval, model, inputs_dict)\u001b[0m\n\u001b[0;32m   1063\u001b[0m idxs \u001b[39m=\u001b[39m np\u001b[39m.\u001b[39mwhere(events_eval \u001b[39m<\u001b[39m \u001b[39m0\u001b[39m)[\u001b[39m0\u001b[39m]\n\u001b[0;32m   1064\u001b[0m event_names \u001b[39m=\u001b[39m [termination_events[idx]\u001b[39m.\u001b[39mname \u001b[39mfor\u001b[39;00m idx \u001b[39min\u001b[39;00m idxs]\n\u001b[1;32m-> 1065\u001b[0m \u001b[39mraise\u001b[39;00m pybamm\u001b[39m.\u001b[39mSolverError(\n\u001b[0;32m   1066\u001b[0m     \u001b[39mf\u001b[39m\u001b[39m\"\u001b[39m\u001b[39mEvents \u001b[39m\u001b[39m{\u001b[39;00mevent_names\u001b[39m}\u001b[39;00m\u001b[39m are non-positive at initial conditions\u001b[39m\u001b[39m\"\u001b[39m\n\u001b[0;32m   1067\u001b[0m )\n",
      "\u001b[1;31mSolverError\u001b[0m: Events ['Minimum voltage'] are non-positive at initial conditions"
     ]
    }
   ],
   "source": [
    "dict_short = {}; \n",
    "list_short = []\n",
    "# update 220808 to satisfy random model option:\n",
    "for var, equation in model.initial_conditions.items():\n",
    "    #print(var._name)\n",
    "    list_short.append(var._name)\n",
    "# delete Porosity times concentration and Electrolyte potential then add back\n",
    "list_short.remove(\"Porosity times concentration\");\n",
    "list_short.remove(\"Electrolyte potential\");\n",
    "list_short.extend(\n",
    "    (\"Negative electrode porosity times concentration\",\n",
    "    \"Separator porosity times concentration\",\n",
    "    \"Positive electrode porosity times concentration\",   \n",
    "\n",
    "    \"Negative electrolyte potential\",\n",
    "    \"Separator electrolyte potential\",\n",
    "    \"Positive electrolyte potential\",))\n",
    "for list_short_i in list_short:\n",
    "    dict_short.update( { list_short_i : solution1.last_state[list_short_i].data  }  )\n",
    "\n",
    "model_2 = model.set_initial_conditions_from(dict_short, inplace=False)\n",
    "sim2 = pybamm.Simulation(\n",
    "    model_2, \n",
    "    experiment=Experiment_Long,\n",
    "    parameter_values=param,\n",
    "    solver=pybamm.CasadiSolver(),\n",
    "    var_pts=var_pts,\n",
    ")\n",
    "solution2 = sim2.solve(\n",
    "    calc_esoh=False,\n",
    "    save_at_cycles=1 \n",
    ")"
   ]
  },
  {
   "cell_type": "code",
   "execution_count": null,
   "metadata": {},
   "outputs": [
    {
     "data": {
      "text/plain": [
       "array([-1.5, -1.5, -1.5, -1.5, -1.5, -1.5, -1.5, -1.5, -1.5, -1.5, -1.5,\n",
       "       -1.5, -1.5, -1.5, -1.5, -1.5, -1.5, -1.5, -1.5, -1.5, -1.5, -1.5,\n",
       "       -1.5, -1.5, -1.5, -1.5, -1.5, -1.5, -1.5, -1.5, -1.5, -1.5, -1.5,\n",
       "       -1.5, -1.5, -1.5, -1.5, -1.5, -1.5, -1.5, -1.5, -1.5, -1.5, -1.5,\n",
       "       -1.5, -1.5, -1.5, -1.5, -1.5, -1.5, -1.5, -1.5, -1.5, -1.5, -1.5,\n",
       "       -1.5, -1.5, -1.5, -1.5])"
      ]
     },
     "execution_count": 42,
     "metadata": {},
     "output_type": "execute_result"
    }
   ],
   "source": [
    "solution2.cycles[0]['Current [A]'].entries"
   ]
  },
  {
   "cell_type": "code",
   "execution_count": null,
   "metadata": {},
   "outputs": [
    {
     "ename": "TypeError",
     "evalue": "'EmptySolution' object is not subscriptable",
     "output_type": "error",
     "traceback": [
      "\u001b[1;31m---------------------------------------------------------------------------\u001b[0m",
      "\u001b[1;31mTypeError\u001b[0m                                 Traceback (most recent call last)",
      "\u001b[1;32md:\\GitPyBaMM\\LRH_409\\LRH_409\\envPBGEM\\PyBaMM-GEM\\wip\\Rio_Code\\P2_R8_FromSimon\\Reproduce_emptySolution.ipynb Cell 8\u001b[0m in \u001b[0;36m<cell line: 1>\u001b[1;34m()\u001b[0m\n\u001b[1;32m----> <a href='vscode-notebook-cell:/d%3A/GitPyBaMM/LRH_409/LRH_409/envPBGEM/PyBaMM-GEM/wip/Rio_Code/P2_R8_FromSimon/Reproduce_emptySolution.ipynb#W6sZmlsZQ%3D%3D?line=0'>1</a>\u001b[0m solution2\u001b[39m.\u001b[39;49mcycles[\u001b[39m0\u001b[39;49m]\u001b[39m.\u001b[39;49msteps[\u001b[39m0\u001b[39;49m][\u001b[39m'\u001b[39;49m\u001b[39mCurrent [A]\u001b[39;49m\u001b[39m'\u001b[39;49m]\u001b[39m.\u001b[39mentries\n",
      "\u001b[1;31mTypeError\u001b[0m: 'EmptySolution' object is not subscriptable"
     ]
    }
   ],
   "source": [
    "solution2.cycles[0].steps[0]['Current [A]'].entries"
   ]
  }
 ],
 "metadata": {
  "kernelspec": {
   "display_name": "envPBGEM",
   "language": "python",
   "name": "python3"
  },
  "language_info": {
   "codemirror_mode": {
    "name": "ipython",
    "version": 3
   },
   "file_extension": ".py",
   "mimetype": "text/x-python",
   "name": "python",
   "nbconvert_exporter": "python",
   "pygments_lexer": "ipython3",
   "version": "3.9.6"
  },
  "orig_nbformat": 4,
  "vscode": {
   "interpreter": {
    "hash": "83fab7fbb3a8fe7b5910804f702478ef63e2cc6a08d85072a5d68865ed0fd8c7"
   }
  }
 },
 "nbformat": 4,
 "nbformat_minor": 2
}
