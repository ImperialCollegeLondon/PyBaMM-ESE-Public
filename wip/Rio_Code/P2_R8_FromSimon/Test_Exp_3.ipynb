{
 "cells": [
  {
   "cell_type": "code",
   "execution_count": 1,
   "metadata": {},
   "outputs": [],
   "source": [
    "import matplotlib.pyplot as plt\n",
    "import numpy as np\n",
    "import pybamm\n",
    "import pandas as pd\n",
    "import timeit\n",
    "start = timeit.default_timer()\n",
    "# pybamm.set_logging_level(\"INFO\")\n",
    "import sys; import os\n",
    "str_path_0 = os.path.abspath(os.path.join(pybamm.__path__[0],'..'))\n",
    "str_path_1 = os.path.abspath(os.path.join(str_path_0,\"wip\\Rio_Code\\Fun_P2\"))\n",
    "sys.path.append(str_path_1) \n",
    "from Fun_P2 import * "
   ]
  },
  {
   "cell_type": "code",
   "execution_count": 2,
   "metadata": {},
   "outputs": [],
   "source": [
    "model = pybamm.lithium_ion.DFN(\n",
    "    options={\n",
    "        \"thermal\": \"lumped\",\n",
    "        \"SEI\": \"interstitial-diffusion limited\",\n",
    "        \"SEI on cracks\": \"true\",\n",
    "        \"SEI film resistance\": \"distributed\", \n",
    "        \"SEI porosity change\": \"true\",\n",
    "        \"particle mechanics\": (\"swelling and cracking\", \"swelling only\"),\n",
    "        \"loss of active material\": \"stress-driven\",\n",
    "        \"lithium plating\": \"partially reversible\"\n",
    "    }\n",
    ")\n",
    "param = pybamm.ParameterValues(\"OKane2023\")\n",
    "param.update({\"Negative electrode porosity\": 0.1})\n",
    "# Adjust SEI parameters\n",
    "param.update({\"Inner SEI lithium interstitial diffusivity [m2.s-1]\": 3e-19})\n",
    "# Override SEI thickness dependence of lithium plating\n",
    "param.update({\"Dead lithium decay rate [s-1]\": 1e-6})\n",
    "param.update({\"Lithium plating kinetic rate constant [m.s-1]\": 1e-10})\n",
    "# Adjust mechanical degradation parameters\n",
    "param.update({\"Negative electrode cracking rate\": 1e-22})\n",
    "param.update({\"Negative electrode LAM constant proportional term [s-1]\": 1e-9})\n",
    "param.update({\"Positive electrode LAM constant proportional term [s-1]\": 1e-9})\n",
    "param.update({\"Electrolyte conductivity [S.m-1]\": electrolyte_conductivity_EC_EMC_3_7_Landesfeind2019_Constant})\n",
    "param.update({\"Electrolyte diffusivity [m2.s-1]\": electrolyte_diffusivity_EC_EMC_3_7_Landesfeind2019_Constant})\n",
    "param.update({\"1 + dlnf/dlnc\": electrolyte_TDF_EC_EMC_3_7_Landesfeind2019_Constant})\n",
    "param.update({\"Cation transference number\": electrolyte_transference_number_EC_EMC_3_7_Landesfeind2019_Constant})\n"
   ]
  },
  {
   "cell_type": "code",
   "execution_count": 3,
   "metadata": {},
   "outputs": [],
   "source": [
    "# Exp-3\n",
    "V_max = 4.2;        V_min = 2.5; \n",
    "discharge_time_mins = 0.15* 60 * 4.86491/5\n",
    "charge_time_mins = 0.5* 60 * 4.86491/5\n",
    "exp_AGE_text = [(\n",
    "    f\"Discharge at 1C for {discharge_time_mins} minutes or until {V_min}V\", \n",
    "    f\"Charge at 0.3C until {V_max}V\",\n",
    "    f\"Hold at {V_max} V until C/100\",\n",
    "    ),  ]  # *  514\n",
    "# step index for ageing\n",
    "step_AGE_CD =0;   step_AGE_CC =1;   step_AGE_CV =2;\n",
    "\n",
    "exp_RPT_text = [ ( \n",
    "    \"Rest for 3 hours (15 minute period)\",  \n",
    "    f\"Discharge at 0.1C until {V_min} V (5 minute period)\",  \n",
    "    \"Rest for 1 hours (5 minute period)\",  \n",
    "    f\"Charge at 0.1C until {V_max} V (5 minute period)\",\n",
    "    f\"Hold at {V_max} V until C/100\",\n",
    "    \"Rest for 4 hours (20 minute period)\",\n",
    "    ) ]\n",
    "# step index for RPT\n",
    "step_RPT_CD = 1;  step_RPT_RE =2;   step_RPT_CC = 3;  \n",
    " \n",
    "Experiment_RPT    = pybamm.Experiment( exp_RPT_text * 1     ) \n",
    "Experiment_Breakin= pybamm.Experiment( exp_RPT_text * 1     )\n"
   ]
  },
  {
   "cell_type": "code",
   "execution_count": 4,
   "metadata": {},
   "outputs": [],
   "source": [
    "var_pts = {\n",
    "    \"x_n\": 8,  # negative electrode\n",
    "    \"x_s\": 5,  # separator \n",
    "    \"x_p\": 8,  # positive electrode\n",
    "    \"r_n\": 30,  # negative particle\n",
    "    \"r_p\": 20,  # positive particle\n",
    "}"
   ]
  },
  {
   "cell_type": "code",
   "execution_count": 5,
   "metadata": {},
   "outputs": [
    {
     "name": "stdout",
     "output_type": "stream",
     "text": [
      "running time: 68.01170799999818s\n"
     ]
    }
   ],
   "source": [
    "sim1 = pybamm.Simulation(\n",
    "    model, \n",
    "    experiment=Experiment_Breakin,\n",
    "    parameter_values=param,\n",
    "    solver=pybamm.CasadiSolver(),\n",
    "    var_pts=var_pts,\n",
    ")\n",
    "solution1 = sim1.solve(\n",
    "    save_at_cycles=1\n",
    ")\n",
    "\n",
    "stop = timeit.default_timer()\n",
    "print('running time: ' + str(stop - start) +'s')"
   ]
  },
  {
   "cell_type": "code",
   "execution_count": 6,
   "metadata": {},
   "outputs": [],
   "source": [
    "Experiment_Long= pybamm.Experiment( exp_AGE_text * 10     )\n",
    "model_2 = model.set_initial_conditions_from(solution1, inplace=False)\n",
    "sim2 = pybamm.Simulation(\n",
    "    model_2, \n",
    "    experiment=Experiment_Long,\n",
    "    parameter_values=param,\n",
    "    solver=pybamm.CasadiSolver(),\n",
    "    var_pts=var_pts,\n",
    ")\n",
    "solution2 = sim2.solve(\n",
    "    save_at_cycles=[1,5,10] \n",
    ")"
   ]
  },
  {
   "cell_type": "code",
   "execution_count": 7,
   "metadata": {},
   "outputs": [],
   "source": [
    "# plot SOH, LAM, LII\n",
    "# SOH must be defined ourselves? "
   ]
  },
  {
   "cell_type": "code",
   "execution_count": 14,
   "metadata": {},
   "outputs": [
    {
     "data": {
      "application/vnd.jupyter.widget-view+json": {
       "model_id": "3d96422709a44e318853c200e4499026",
       "version_major": 2,
       "version_minor": 0
      },
      "text/plain": [
       "interactive(children=(FloatSlider(value=0.0, description='t', max=27.802547744366066, step=0.2780254774436607)…"
      ]
     },
     "metadata": {},
     "output_type": "display_data"
    }
   ],
   "source": [
    "label = [\"Initial solution\",\"Second solution\"] \n",
    "var = [\n",
    "    \"Loss of lithium inventory, including electrolyte [%]\",\n",
    "    \"LAM_ne [%]\",\n",
    "    \"Loss of active material in negative electrode [%]\",\n",
    "    \"LAM_pe [%]\",\n",
    "    \"Loss of active material in positive electrode [%]\",\n",
    "    'LLI [%]', \n",
    "    'Throughput capacity [A.h]',\n",
    "    \"Discharge capacity [A.h]\"\n",
    "]\n",
    "quick_plot = pybamm.QuickPlot(\n",
    "    [solution1,solution2], var,label,variable_limits='tight') #     \n",
    "quick_plot.dynamic_plot();"
   ]
  },
  {
   "cell_type": "code",
   "execution_count": 9,
   "metadata": {},
   "outputs": [
    {
     "name": "stdout",
     "output_type": "stream",
     "text": [
      "20.644109044421604\n",
      "0.15272494049839042\n",
      "[0.         0.025      0.05       0.075      0.1        0.125\n",
      " 0.15       0.175      0.2        0.225      0.25       0.275\n",
      " 0.3        0.325      0.35       0.375      0.4        0.425\n",
      " 0.45       0.475      0.5        0.525      0.55       0.575\n",
      " 0.57752628]\n"
     ]
    }
   ],
   "source": [
    "print(solution2['Throughput capacity [A.h]'].entries[-1])\n",
    "print(solution2.cycles[-1].steps[-1]['Throughput capacity [A.h]'].entries[-1])\n",
    "print(solution2.cycles[-1].steps[1]['Throughput capacity [A.h]'].entries)"
   ]
  },
  {
   "cell_type": "markdown",
   "metadata": {},
   "source": [
    "for step in solution2.cycles[-1].steps:\n",
    "    step['Throughput capacity [A.h]'].entries += solution1['Throughput capacity [A.h]'].entries[-1]"
   ]
  },
  {
   "cell_type": "code",
   "execution_count": 10,
   "metadata": {},
   "outputs": [
    {
     "data": {
      "text/plain": [
       "('Throughput energy [W.h]',)"
      ]
     },
     "execution_count": 10,
     "metadata": {},
     "output_type": "execute_result"
    }
   ],
   "source": [
    "# need to do this every time next solution is got:\n",
    "solution2['Throughput capacity [A.h]'].entries += solution1['Throughput capacity [A.h]'].entries[-1]\n",
    "\"Throughput energy [W.h]\","
   ]
  },
  {
   "cell_type": "code",
   "execution_count": 11,
   "metadata": {},
   "outputs": [
    {
     "data": {
      "text/plain": [
       "[<matplotlib.lines.Line2D at 0x2c63d658a90>]"
      ]
     },
     "execution_count": 11,
     "metadata": {},
     "output_type": "execute_result"
    },
    {
     "data": {
      "image/png": "[encoded data removed]",
      "text/plain": [
       "<Figure size 640x480 with 1 Axes>"
      ]
     },
     "metadata": {},
     "output_type": "display_data"
    }
   ],
   "source": [
    "plt.plot(solution1['Throughput capacity [A.h]'].entries)\n",
    "plt.plot(solution2['Throughput capacity [A.h]'].entries)"
   ]
  },
  {
   "cell_type": "code",
   "execution_count": 12,
   "metadata": {},
   "outputs": [
    {
     "data": {
      "text/plain": [
       "[<matplotlib.lines.Line2D at 0x2c63d6b2ef0>,\n",
       " <matplotlib.lines.Line2D at 0x2c63d6b2f50>,\n",
       " <matplotlib.lines.Line2D at 0x2c63d6b2f80>,\n",
       " <matplotlib.lines.Line2D at 0x2c63d6b3070>,\n",
       " <matplotlib.lines.Line2D at 0x2c63d6b3160>,\n",
       " <matplotlib.lines.Line2D at 0x2c63d6b3250>,\n",
       " <matplotlib.lines.Line2D at 0x2c63d6b3340>,\n",
       " <matplotlib.lines.Line2D at 0x2c63d6b3430>,\n",
       " <matplotlib.lines.Line2D at 0x2c63d6b3520>,\n",
       " <matplotlib.lines.Line2D at 0x2c63d6b3610>,\n",
       " <matplotlib.lines.Line2D at 0x2c63d6b3700>,\n",
       " <matplotlib.lines.Line2D at 0x2c63d6b2f20>,\n",
       " <matplotlib.lines.Line2D at 0x2c63d6b37f0>,\n",
       " <matplotlib.lines.Line2D at 0x2c63d6b39a0>,\n",
       " <matplotlib.lines.Line2D at 0x2c63d6b3a90>,\n",
       " <matplotlib.lines.Line2D at 0x2c63d6b3b80>,\n",
       " <matplotlib.lines.Line2D at 0x2c63d6b3c70>,\n",
       " <matplotlib.lines.Line2D at 0x2c63d6b3d60>,\n",
       " <matplotlib.lines.Line2D at 0x2c63d6b3e50>,\n",
       " <matplotlib.lines.Line2D at 0x2c63d6b3f40>,\n",
       " <matplotlib.lines.Line2D at 0x2c63d6e0070>,\n",
       " <matplotlib.lines.Line2D at 0x2c63d6e0160>,\n",
       " <matplotlib.lines.Line2D at 0x2c63d6e0250>,\n",
       " <matplotlib.lines.Line2D at 0x2c63d6e0340>,\n",
       " <matplotlib.lines.Line2D at 0x2c63d6e0430>,\n",
       " <matplotlib.lines.Line2D at 0x2c63d6e0520>,\n",
       " <matplotlib.lines.Line2D at 0x2c63d6e0610>,\n",
       " <matplotlib.lines.Line2D at 0x2c63d6e0700>,\n",
       " <matplotlib.lines.Line2D at 0x2c63d6e07f0>,\n",
       " <matplotlib.lines.Line2D at 0x2c63d6e08e0>,\n",
       " <matplotlib.lines.Line2D at 0x2c63d6e09d0>,\n",
       " <matplotlib.lines.Line2D at 0x2c63d6e0ac0>,\n",
       " <matplotlib.lines.Line2D at 0x2c63d6e0bb0>,\n",
       " <matplotlib.lines.Line2D at 0x2c63d6e0ca0>,\n",
       " <matplotlib.lines.Line2D at 0x2c63d6e0d90>,\n",
       " <matplotlib.lines.Line2D at 0x2c63d6e0e80>,\n",
       " <matplotlib.lines.Line2D at 0x2c63d6e0f70>,\n",
       " <matplotlib.lines.Line2D at 0x2c63d6e1060>,\n",
       " <matplotlib.lines.Line2D at 0x2c63d6e1150>,\n",
       " <matplotlib.lines.Line2D at 0x2c63d6e1240>,\n",
       " <matplotlib.lines.Line2D at 0x2c63d6e1330>,\n",
       " <matplotlib.lines.Line2D at 0x2c63d6e1420>,\n",
       " <matplotlib.lines.Line2D at 0x2c63d6e1510>,\n",
       " <matplotlib.lines.Line2D at 0x2c63d6e1600>,\n",
       " <matplotlib.lines.Line2D at 0x2c63d6e16f0>,\n",
       " <matplotlib.lines.Line2D at 0x2c63d6e17e0>,\n",
       " <matplotlib.lines.Line2D at 0x2c63d6e18d0>,\n",
       " <matplotlib.lines.Line2D at 0x2c63d6e19c0>,\n",
       " <matplotlib.lines.Line2D at 0x2c63d6e1ab0>,\n",
       " <matplotlib.lines.Line2D at 0x2c63d6e1ba0>,\n",
       " <matplotlib.lines.Line2D at 0x2c63d6e1c90>,\n",
       " <matplotlib.lines.Line2D at 0x2c63d6e1d80>,\n",
       " <matplotlib.lines.Line2D at 0x2c63d6e1e70>,\n",
       " <matplotlib.lines.Line2D at 0x2c63d6e1f60>,\n",
       " <matplotlib.lines.Line2D at 0x2c63d6e2050>,\n",
       " <matplotlib.lines.Line2D at 0x2c63d6e2140>,\n",
       " <matplotlib.lines.Line2D at 0x2c63d6e2230>,\n",
       " <matplotlib.lines.Line2D at 0x2c63d6e2320>,\n",
       " <matplotlib.lines.Line2D at 0x2c63d6e2410>,\n",
       " <matplotlib.lines.Line2D at 0x2c63d6e2500>,\n",
       " <matplotlib.lines.Line2D at 0x2c63d6e25f0>,\n",
       " <matplotlib.lines.Line2D at 0x2c63d6e26e0>,\n",
       " <matplotlib.lines.Line2D at 0x2c63d6e27d0>,\n",
       " <matplotlib.lines.Line2D at 0x2c63d6e28c0>,\n",
       " <matplotlib.lines.Line2D at 0x2c63d6e29b0>,\n",
       " <matplotlib.lines.Line2D at 0x2c63d6e2aa0>,\n",
       " <matplotlib.lines.Line2D at 0x2c63d6e2b90>,\n",
       " <matplotlib.lines.Line2D at 0x2c63d6e2c80>,\n",
       " <matplotlib.lines.Line2D at 0x2c63d6e2d70>,\n",
       " <matplotlib.lines.Line2D at 0x2c63d6e2e60>,\n",
       " <matplotlib.lines.Line2D at 0x2c63d6e2f50>,\n",
       " <matplotlib.lines.Line2D at 0x2c63d6e3040>,\n",
       " <matplotlib.lines.Line2D at 0x2c63d6e3130>,\n",
       " <matplotlib.lines.Line2D at 0x2c63d6e3220>,\n",
       " <matplotlib.lines.Line2D at 0x2c63d6e3310>,\n",
       " <matplotlib.lines.Line2D at 0x2c63d6e3400>,\n",
       " <matplotlib.lines.Line2D at 0x2c63d6e34f0>,\n",
       " <matplotlib.lines.Line2D at 0x2c63d6e35e0>,\n",
       " <matplotlib.lines.Line2D at 0x2c63d6e36d0>,\n",
       " <matplotlib.lines.Line2D at 0x2c63d6e37c0>,\n",
       " <matplotlib.lines.Line2D at 0x2c63d6e38b0>,\n",
       " <matplotlib.lines.Line2D at 0x2c63d6e39a0>,\n",
       " <matplotlib.lines.Line2D at 0x2c63d6e3a90>,\n",
       " <matplotlib.lines.Line2D at 0x2c63d6e3b80>,\n",
       " <matplotlib.lines.Line2D at 0x2c63d6e3c70>,\n",
       " <matplotlib.lines.Line2D at 0x2c63d6e3d60>,\n",
       " <matplotlib.lines.Line2D at 0x2c63d6e3e50>,\n",
       " <matplotlib.lines.Line2D at 0x2c63d6e3f40>,\n",
       " <matplotlib.lines.Line2D at 0x2c63d700070>,\n",
       " <matplotlib.lines.Line2D at 0x2c63d700160>,\n",
       " <matplotlib.lines.Line2D at 0x2c63d700250>,\n",
       " <matplotlib.lines.Line2D at 0x2c63d700340>,\n",
       " <matplotlib.lines.Line2D at 0x2c63d700430>,\n",
       " <matplotlib.lines.Line2D at 0x2c63d700520>,\n",
       " <matplotlib.lines.Line2D at 0x2c63d700610>,\n",
       " <matplotlib.lines.Line2D at 0x2c63d700700>,\n",
       " <matplotlib.lines.Line2D at 0x2c63d7007f0>,\n",
       " <matplotlib.lines.Line2D at 0x2c63d7008e0>,\n",
       " <matplotlib.lines.Line2D at 0x2c63d7009d0>,\n",
       " <matplotlib.lines.Line2D at 0x2c63d700ac0>,\n",
       " <matplotlib.lines.Line2D at 0x2c63d700bb0>,\n",
       " <matplotlib.lines.Line2D at 0x2c63d700ca0>,\n",
       " <matplotlib.lines.Line2D at 0x2c63d700d90>,\n",
       " <matplotlib.lines.Line2D at 0x2c63d700e80>,\n",
       " <matplotlib.lines.Line2D at 0x2c63d700f70>,\n",
       " <matplotlib.lines.Line2D at 0x2c63d701060>,\n",
       " <matplotlib.lines.Line2D at 0x2c63d701150>,\n",
       " <matplotlib.lines.Line2D at 0x2c63d701240>,\n",
       " <matplotlib.lines.Line2D at 0x2c63d701330>,\n",
       " <matplotlib.lines.Line2D at 0x2c63d701420>,\n",
       " <matplotlib.lines.Line2D at 0x2c63d701510>,\n",
       " <matplotlib.lines.Line2D at 0x2c63d701600>,\n",
       " <matplotlib.lines.Line2D at 0x2c63d7016f0>,\n",
       " <matplotlib.lines.Line2D at 0x2c63d7017e0>,\n",
       " <matplotlib.lines.Line2D at 0x2c63d7018d0>,\n",
       " <matplotlib.lines.Line2D at 0x2c63d7019c0>,\n",
       " <matplotlib.lines.Line2D at 0x2c63d701ab0>,\n",
       " <matplotlib.lines.Line2D at 0x2c63d701ba0>,\n",
       " <matplotlib.lines.Line2D at 0x2c63d701c90>,\n",
       " <matplotlib.lines.Line2D at 0x2c63d701d80>,\n",
       " <matplotlib.lines.Line2D at 0x2c63d701e70>,\n",
       " <matplotlib.lines.Line2D at 0x2c63d701f60>,\n",
       " <matplotlib.lines.Line2D at 0x2c63d702050>,\n",
       " <matplotlib.lines.Line2D at 0x2c63d702140>,\n",
       " <matplotlib.lines.Line2D at 0x2c63d702230>,\n",
       " <matplotlib.lines.Line2D at 0x2c63d702320>,\n",
       " <matplotlib.lines.Line2D at 0x2c63d702410>,\n",
       " <matplotlib.lines.Line2D at 0x2c63d702500>,\n",
       " <matplotlib.lines.Line2D at 0x2c63d7025f0>,\n",
       " <matplotlib.lines.Line2D at 0x2c63d7026e0>,\n",
       " <matplotlib.lines.Line2D at 0x2c63d7027d0>,\n",
       " <matplotlib.lines.Line2D at 0x2c63d7028c0>,\n",
       " <matplotlib.lines.Line2D at 0x2c63d7029b0>,\n",
       " <matplotlib.lines.Line2D at 0x2c63d702aa0>,\n",
       " <matplotlib.lines.Line2D at 0x2c63d702b90>,\n",
       " <matplotlib.lines.Line2D at 0x2c63d702c80>,\n",
       " <matplotlib.lines.Line2D at 0x2c63d702d70>,\n",
       " <matplotlib.lines.Line2D at 0x2c63d702e60>,\n",
       " <matplotlib.lines.Line2D at 0x2c63d702f50>,\n",
       " <matplotlib.lines.Line2D at 0x2c63d703040>,\n",
       " <matplotlib.lines.Line2D at 0x2c63d703130>,\n",
       " <matplotlib.lines.Line2D at 0x2c63d703220>,\n",
       " <matplotlib.lines.Line2D at 0x2c63d703310>,\n",
       " <matplotlib.lines.Line2D at 0x2c63d703400>,\n",
       " <matplotlib.lines.Line2D at 0x2c63d7034f0>,\n",
       " <matplotlib.lines.Line2D at 0x2c63d7035e0>,\n",
       " <matplotlib.lines.Line2D at 0x2c63d7036d0>,\n",
       " <matplotlib.lines.Line2D at 0x2c63d7037c0>,\n",
       " <matplotlib.lines.Line2D at 0x2c63d7038b0>,\n",
       " <matplotlib.lines.Line2D at 0x2c63d7039a0>,\n",
       " <matplotlib.lines.Line2D at 0x2c63d703a90>,\n",
       " <matplotlib.lines.Line2D at 0x2c63d703b80>,\n",
       " <matplotlib.lines.Line2D at 0x2c63d703c70>,\n",
       " <matplotlib.lines.Line2D at 0x2c63d703d60>,\n",
       " <matplotlib.lines.Line2D at 0x2c63d703e50>,\n",
       " <matplotlib.lines.Line2D at 0x2c63d703f40>,\n",
       " <matplotlib.lines.Line2D at 0x2c63d720070>,\n",
       " <matplotlib.lines.Line2D at 0x2c63d720160>,\n",
       " <matplotlib.lines.Line2D at 0x2c63d720250>,\n",
       " <matplotlib.lines.Line2D at 0x2c63d720340>,\n",
       " <matplotlib.lines.Line2D at 0x2c63d720430>,\n",
       " <matplotlib.lines.Line2D at 0x2c63d720520>,\n",
       " <matplotlib.lines.Line2D at 0x2c63d720610>,\n",
       " <matplotlib.lines.Line2D at 0x2c63d720700>,\n",
       " <matplotlib.lines.Line2D at 0x2c63d7207f0>,\n",
       " <matplotlib.lines.Line2D at 0x2c63d7208e0>,\n",
       " <matplotlib.lines.Line2D at 0x2c63d7209d0>,\n",
       " <matplotlib.lines.Line2D at 0x2c63d720ac0>,\n",
       " <matplotlib.lines.Line2D at 0x2c63d720bb0>,\n",
       " <matplotlib.lines.Line2D at 0x2c63d720ca0>,\n",
       " <matplotlib.lines.Line2D at 0x2c63d720d90>,\n",
       " <matplotlib.lines.Line2D at 0x2c63d720e80>]"
      ]
     },
     "execution_count": 12,
     "metadata": {},
     "output_type": "execute_result"
    },
    {
     "data": {
      "image/png": "[encoded data removed]",
      "text/plain": [
       "<Figure size 640x480 with 1 Axes>"
      ]
     },
     "metadata": {},
     "output_type": "display_data"
    }
   ],
   "source": [
    "plt.plot(solution2['Cell temperature [K]'].entries )"
   ]
  },
  {
   "cell_type": "code",
   "execution_count": 13,
   "metadata": {},
   "outputs": [
    {
     "data": {
      "text/plain": [
       "array([[24.99915854, 25.85621252, 27.02923388, ..., 26.99713668,\n",
       "        26.8997349 , 26.82826042],\n",
       "       [24.99915854, 25.85621252, 27.02923388, ..., 26.99713668,\n",
       "        26.8997349 , 26.82826042],\n",
       "       [24.99915854, 25.85621252, 27.02923388, ..., 26.99713668,\n",
       "        26.8997349 , 26.82826042],\n",
       "       ...,\n",
       "       [24.99915854, 25.85621252, 27.02923388, ..., 26.99713668,\n",
       "        26.8997349 , 26.82826042],\n",
       "       [24.99915854, 25.85621252, 27.02923388, ..., 26.99713668,\n",
       "        26.8997349 , 26.82826042],\n",
       "       [24.99915854, 25.85621252, 27.02923388, ..., 26.99713668,\n",
       "        26.8997349 , 26.82826042]])"
      ]
     },
     "execution_count": 13,
     "metadata": {},
     "output_type": "execute_result"
    }
   ],
   "source": [
    "solution2['Cell temperature [C]'].entries "
   ]
  }
 ],
 "metadata": {
  "kernelspec": {
   "display_name": "envPBpublic",
   "language": "python",
   "name": "python3"
  },
  "language_info": {
   "codemirror_mode": {
    "name": "ipython",
    "version": 3
   },
   "file_extension": ".py",
   "mimetype": "text/x-python",
   "name": "python",
   "nbconvert_exporter": "python",
   "pygments_lexer": "ipython3",
   "version": "3.10.10"
  },
  "orig_nbformat": 4,
  "vscode": {
   "interpreter": {
    "hash": "67421545f68ed51676f11d33623f5bfe7fd6cf9e8d95914baad5cd6f61ac5d03"
   }
  }
 },
 "nbformat": 4,
 "nbformat_minor": 2
}
