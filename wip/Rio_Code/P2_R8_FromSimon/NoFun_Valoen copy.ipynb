{
 "cells": [
  {
   "cell_type": "code",
   "execution_count": 1,
   "metadata": {},
   "outputs": [],
   "source": [
    "import matplotlib.pyplot as plt\n",
    "import numpy as np\n",
    "import pybamm\n",
    "import pandas as pd\n",
    "import timeit\n",
    "start = timeit.default_timer()\n",
    "pybamm.set_logging_level(\"INFO\")"
   ]
  },
  {
   "cell_type": "code",
   "execution_count": 2,
   "metadata": {},
   "outputs": [
    {
     "name": "stderr",
     "output_type": "stream",
     "text": [
      "2023-03-09 16:52:31.756 - [INFO] base_model._build_model(550): Start building Doyle-Fuller-Newman model\n"
     ]
    },
    {
     "ename": "AttributeError",
     "evalue": "'LithiumIonParameters' object has no attribute 'rho_cr'",
     "output_type": "error",
     "traceback": [
      "\u001b[1;31m---------------------------------------------------------------------------\u001b[0m",
      "\u001b[1;31mAttributeError\u001b[0m                            Traceback (most recent call last)",
      "\u001b[1;32md:\\GitPyBaMM\\LRH_409\\LRH_409\\envPBGEM\\PyBaMM-GEM\\wip\\Rio_Code\\P2_R8_FromSimon\\NoFun_Valoen copy.ipynb Cell 2\u001b[0m in \u001b[0;36m<cell line: 1>\u001b[1;34m()\u001b[0m\n\u001b[1;32m----> <a href='vscode-notebook-cell:/d%3A/GitPyBaMM/LRH_409/LRH_409/envPBGEM/PyBaMM-GEM/wip/Rio_Code/P2_R8_FromSimon/NoFun_Valoen%20copy.ipynb#W1sZmlsZQ%3D%3D?line=0'>1</a>\u001b[0m model \u001b[39m=\u001b[39m pybamm\u001b[39m.\u001b[39;49mlithium_ion\u001b[39m.\u001b[39;49mDFN()\n\u001b[0;32m      <a href='vscode-notebook-cell:/d%3A/GitPyBaMM/LRH_409/LRH_409/envPBGEM/PyBaMM-GEM/wip/Rio_Code/P2_R8_FromSimon/NoFun_Valoen%20copy.ipynb#W1sZmlsZQ%3D%3D?line=2'>3</a>\u001b[0m param \u001b[39m=\u001b[39m pybamm\u001b[39m.\u001b[39mParameterValues(\u001b[39m\"\u001b[39m\u001b[39mOKane2023\u001b[39m\u001b[39m\"\u001b[39m)\n\u001b[0;32m      <a href='vscode-notebook-cell:/d%3A/GitPyBaMM/LRH_409/LRH_409/envPBGEM/PyBaMM-GEM/wip/Rio_Code/P2_R8_FromSimon/NoFun_Valoen%20copy.ipynb#W1sZmlsZQ%3D%3D?line=4'>5</a>\u001b[0m param\u001b[39m.\u001b[39mupdate({\u001b[39m\"\u001b[39m\u001b[39mUpper voltage cut-off [V]\u001b[39m\u001b[39m\"\u001b[39m: \u001b[39m4.5\u001b[39m})\n",
      "File \u001b[1;32md:\\gitpybamm\\lrh_409\\lrh_409\\envpbgem\\pybamm-gem\\pybamm\\models\\full_battery_models\\lithium_ion\\dfn.py:35\u001b[0m, in \u001b[0;36mDFN.__init__\u001b[1;34m(self, options, name, build)\u001b[0m\n\u001b[0;32m     32\u001b[0m \u001b[39mself\u001b[39m\u001b[39m.\u001b[39mx_average \u001b[39m=\u001b[39m \u001b[39mFalse\u001b[39;00m\n\u001b[0;32m     33\u001b[0m \u001b[39msuper\u001b[39m()\u001b[39m.\u001b[39m\u001b[39m__init__\u001b[39m(options, name)\n\u001b[1;32m---> 35\u001b[0m \u001b[39mself\u001b[39;49m\u001b[39m.\u001b[39;49mset_submodels(build)\n\u001b[0;32m     37\u001b[0m pybamm\u001b[39m.\u001b[39mcitations\u001b[39m.\u001b[39mregister(\u001b[39m\"\u001b[39m\u001b[39mDoyle1993\u001b[39m\u001b[39m\"\u001b[39m)\n",
      "File \u001b[1;32md:\\gitpybamm\\lrh_409\\lrh_409\\envpbgem\\pybamm-gem\\pybamm\\models\\full_battery_models\\lithium_ion\\base_lithium_ion_model.py:91\u001b[0m, in \u001b[0;36mBaseModel.set_submodels\u001b[1;34m(self, build)\u001b[0m\n\u001b[0;32m     88\u001b[0m \u001b[39mself\u001b[39m\u001b[39m.\u001b[39mset_total_interface_submodel()\n\u001b[0;32m     90\u001b[0m \u001b[39mif\u001b[39;00m build:\n\u001b[1;32m---> 91\u001b[0m     \u001b[39mself\u001b[39;49m\u001b[39m.\u001b[39;49mbuild_model()\n",
      "File \u001b[1;32md:\\gitpybamm\\lrh_409\\lrh_409\\envpbgem\\pybamm-gem\\pybamm\\models\\full_battery_models\\base_battery_model.py:961\u001b[0m, in \u001b[0;36mBaseBatteryModel.build_model\u001b[1;34m(self)\u001b[0m\n\u001b[0;32m    959\u001b[0m \u001b[39mdef\u001b[39;00m \u001b[39mbuild_model\u001b[39m(\u001b[39mself\u001b[39m):\n\u001b[0;32m    960\u001b[0m     \u001b[39m# Build model variables and equations\u001b[39;00m\n\u001b[1;32m--> 961\u001b[0m     \u001b[39mself\u001b[39;49m\u001b[39m.\u001b[39;49m_build_model()\n\u001b[0;32m    963\u001b[0m     \u001b[39m# Set battery specific variables\u001b[39;00m\n\u001b[0;32m    964\u001b[0m     pybamm\u001b[39m.\u001b[39mlogger\u001b[39m.\u001b[39mdebug(\u001b[39m\"\u001b[39m\u001b[39mSetting voltage variables (\u001b[39m\u001b[39m{}\u001b[39;00m\u001b[39m)\u001b[39m\u001b[39m\"\u001b[39m\u001b[39m.\u001b[39mformat(\u001b[39mself\u001b[39m\u001b[39m.\u001b[39mname))\n",
      "File \u001b[1;32md:\\gitpybamm\\lrh_409\\lrh_409\\envpbgem\\pybamm-gem\\pybamm\\models\\base_model.py:555\u001b[0m, in \u001b[0;36mBaseModel._build_model\u001b[1;34m(self)\u001b[0m\n\u001b[0;32m    552\u001b[0m \u001b[39mif\u001b[39;00m \u001b[39mself\u001b[39m\u001b[39m.\u001b[39m_built_fundamental \u001b[39mis\u001b[39;00m \u001b[39mFalse\u001b[39;00m:\n\u001b[0;32m    553\u001b[0m     \u001b[39mself\u001b[39m\u001b[39m.\u001b[39mbuild_fundamental()\n\u001b[1;32m--> 555\u001b[0m \u001b[39mself\u001b[39;49m\u001b[39m.\u001b[39;49mbuild_coupled_variables()\n\u001b[0;32m    557\u001b[0m \u001b[39mself\u001b[39m\u001b[39m.\u001b[39mbuild_model_equations()\n",
      "File \u001b[1;32md:\\gitpybamm\\lrh_409\\lrh_409\\envpbgem\\pybamm-gem\\pybamm\\models\\base_model.py:479\u001b[0m, in \u001b[0;36mBaseModel.build_coupled_variables\u001b[1;34m(self)\u001b[0m\n\u001b[0;32m    472\u001b[0m pybamm\u001b[39m.\u001b[39mlogger\u001b[39m.\u001b[39mdebug(\n\u001b[0;32m    473\u001b[0m     \u001b[39m\"\u001b[39m\u001b[39mGetting coupled variables for \u001b[39m\u001b[39m{}\u001b[39;00m\u001b[39m submodel (\u001b[39m\u001b[39m{}\u001b[39;00m\u001b[39m)\u001b[39m\u001b[39m\"\u001b[39m\u001b[39m.\u001b[39mformat(\n\u001b[0;32m    474\u001b[0m         submodel_name, \u001b[39mself\u001b[39m\u001b[39m.\u001b[39mname\n\u001b[0;32m    475\u001b[0m     )\n\u001b[0;32m    476\u001b[0m )\n\u001b[0;32m    477\u001b[0m \u001b[39mtry\u001b[39;00m:\n\u001b[0;32m    478\u001b[0m     \u001b[39mself\u001b[39m\u001b[39m.\u001b[39mvariables\u001b[39m.\u001b[39mupdate(\n\u001b[1;32m--> 479\u001b[0m         submodel\u001b[39m.\u001b[39;49mget_coupled_variables(\u001b[39mself\u001b[39;49m\u001b[39m.\u001b[39;49mvariables)\n\u001b[0;32m    480\u001b[0m     )\n\u001b[0;32m    481\u001b[0m     submodels\u001b[39m.\u001b[39mremove(submodel_name)\n\u001b[0;32m    482\u001b[0m \u001b[39mexcept\u001b[39;00m \u001b[39mKeyError\u001b[39;00m \u001b[39mas\u001b[39;00m key:\n",
      "File \u001b[1;32md:\\gitpybamm\\lrh_409\\lrh_409\\envpbgem\\pybamm-gem\\pybamm\\models\\submodels\\interface\\sei\\no_sei.py:45\u001b[0m, in \u001b[0;36mNoSEI.get_coupled_variables\u001b[1;34m(self, variables)\u001b[0m\n\u001b[0;32m     44\u001b[0m \u001b[39mdef\u001b[39;00m \u001b[39mget_coupled_variables\u001b[39m(\u001b[39mself\u001b[39m, variables):\n\u001b[1;32m---> 45\u001b[0m     variables\u001b[39m.\u001b[39mupdate(\u001b[39mself\u001b[39;49m\u001b[39m.\u001b[39;49m_get_standard_concentration_variables(variables))\n\u001b[0;32m     46\u001b[0m     \u001b[39m# Update whole cell variables, which also updates the \"sum of\" variables\u001b[39;00m\n\u001b[0;32m     47\u001b[0m     variables\u001b[39m.\u001b[39mupdate(\u001b[39msuper\u001b[39m()\u001b[39m.\u001b[39mget_coupled_variables(variables))\n",
      "File \u001b[1;32md:\\gitpybamm\\lrh_409\\lrh_409\\envpbgem\\pybamm-gem\\pybamm\\models\\submodels\\interface\\sei\\base_sei.py:278\u001b[0m, in \u001b[0;36mBaseModel._get_standard_concentration_variables\u001b[1;34m(self, variables)\u001b[0m\n\u001b[0;32m    275\u001b[0m n_SEI_cr_av \u001b[39m=\u001b[39m pybamm\u001b[39m.\u001b[39myz_average(n_SEI_cr_xav)\n\u001b[0;32m    277\u001b[0m \u001b[39m# Calculate change in SEI cracks concentration\u001b[39;00m\n\u001b[1;32m--> 278\u001b[0m roughness_init \u001b[39m=\u001b[39m \u001b[39m2\u001b[39m \u001b[39m*\u001b[39m \u001b[39mself\u001b[39;49m\u001b[39m.\u001b[39;49mparam\u001b[39m.\u001b[39;49mrho_cr \u001b[39m+\u001b[39m \u001b[39m1\u001b[39m\n\u001b[0;32m    279\u001b[0m n_SEI_cr_init \u001b[39m=\u001b[39m (L_inner_crack_0 \u001b[39m+\u001b[39m L_outer_crack_0 \u001b[39m/\u001b[39m v_bar) \u001b[39m*\u001b[39m (\n\u001b[0;32m    280\u001b[0m     roughness_init \u001b[39m-\u001b[39m \u001b[39m1\u001b[39m\n\u001b[0;32m    281\u001b[0m )\n\u001b[0;32m    282\u001b[0m delta_n_SEI_cr \u001b[39m=\u001b[39m n_SEI_cr_av \u001b[39m-\u001b[39m n_SEI_cr_init\n",
      "File \u001b[1;32md:\\gitpybamm\\lrh_409\\lrh_409\\envpbgem\\pybamm-gem\\pybamm\\parameters\\base_parameters.py:47\u001b[0m, in \u001b[0;36mBaseParameters.__getattribute__\u001b[1;34m(self, name)\u001b[0m\n\u001b[0;32m     45\u001b[0m         \u001b[39melse\u001b[39;00m:\n\u001b[0;32m     46\u001b[0m             \u001b[39mraise\u001b[39;00m e\n\u001b[1;32m---> 47\u001b[0m \u001b[39mraise\u001b[39;00m e\n",
      "File \u001b[1;32md:\\gitpybamm\\lrh_409\\lrh_409\\envpbgem\\pybamm-gem\\pybamm\\parameters\\base_parameters.py:19\u001b[0m, in \u001b[0;36mBaseParameters.__getattribute__\u001b[1;34m(self, name)\u001b[0m\n\u001b[0;32m     14\u001b[0m \u001b[39m\"\"\"\u001b[39;00m\n\u001b[0;32m     15\u001b[0m \u001b[39mRaise more informative error to users when they try to access a\u001b[39;00m\n\u001b[0;32m     16\u001b[0m \u001b[39mnon-existent attribute, which may have recently changed name\u001b[39;00m\n\u001b[0;32m     17\u001b[0m \u001b[39m\"\"\"\u001b[39;00m\n\u001b[0;32m     18\u001b[0m \u001b[39mtry\u001b[39;00m:\n\u001b[1;32m---> 19\u001b[0m     \u001b[39mreturn\u001b[39;00m \u001b[39msuper\u001b[39;49m()\u001b[39m.\u001b[39;49m\u001b[39m__getattribute__\u001b[39;49m(name)\n\u001b[0;32m     20\u001b[0m \u001b[39mexcept\u001b[39;00m \u001b[39mAttributeError\u001b[39;00m \u001b[39mas\u001b[39;00m e:\n\u001b[0;32m     21\u001b[0m     \u001b[39mif\u001b[39;00m name \u001b[39m==\u001b[39m \u001b[39m\"\u001b[39m\u001b[39mcap_init\u001b[39m\u001b[39m\"\u001b[39m:\n",
      "\u001b[1;31mAttributeError\u001b[0m: 'LithiumIonParameters' object has no attribute 'rho_cr'"
     ]
    }
   ],
   "source": [
    "model = pybamm.lithium_ion.DFN()\n",
    "\n",
    "param = pybamm.ParameterValues(\"OKane2023\")\n",
    "\n",
    "param.update({\"Upper voltage cut-off [V]\": 4.5})\n",
    "param.update({\"Lower voltage cut-off [V]\": 2.4})\n",
    "Cycles = 10\n",
    "experiment = pybamm.Experiment(\n",
    "    [\n",
    "        (\n",
    "            \"Discharge at 1C until 2.5V\",\n",
    "            \"Charge at 0.3C until 4.2V (3 minute period)\",\n",
    "            \"Hold at 4.2V until C/100 (3 minute period)\"\n",
    "        )\n",
    "    ]\n",
    "    * Cycles,\n",
    ")\n",
    "\n",
    "# define the simulation\n",
    "sim = pybamm.Simulation(\n",
    "    model,\n",
    "    experiment=experiment,\n",
    "    parameter_values=param,\n",
    "    solver=pybamm.CasadiSolver()\n",
    "    #solver=pybamm.CasadiSolver(\"fast with events\")\n",
    ")\n",
    "\n",
    "solution = sim.solve(calc_esoh=False)\n",
    "stop = timeit.default_timer()\n",
    "print(\"running time: \" + str(stop - start) + \"s\")\n",
    "# plot\n",
    "\n",
    "V = solution[\"Terminal voltage [V]\"].entries\n",
    "t_all = solution[\"Time [h]\"].entries\n",
    "dis_cap = solution[\"Discharge capacity [A.h]\"].entries\n",
    "#Cap_thro = solution[\"Throughput capacity [A.h]\"].entries\n",
    "\n",
    "plt.plot(t_all, dis_cap, 'b-', label=\"\", linewidth=4)\n",
    "plt.xlabel(\"Charge throughput [Ah]\")\n",
    "plt.ylabel(\"Discharge capacity [Ah]\")\n",
    "# plt.xticks(np.arange(0, 150, 10))\n",
    "# plt.yticks(np.arange(0.0, 5.1, 1))\n",
    "# plt.xlim([0, 150])\n",
    "# plt.ylim([0.0, 5.1])\n",
    "plt.legend(facecolor='white', framealpha=0)\n",
    "plt.show()"
   ]
  },
  {
   "cell_type": "code",
   "execution_count": null,
   "metadata": {},
   "outputs": [],
   "source": [
    "model = pybamm.lithium_ion.DFN()\n",
    "param = pybamm.ParameterValues(\"Chen2020\")\n",
    "# Adjust SEI parameters\n",
    "param.update({\"Inner SEI lithium interstitial diffusivity [m2.s-1]\": 3e-19})\n",
    "# Override SEI thickness dependence of lithium plating\n",
    "param.update({\"Dead lithium decay rate [s-1]\": 1e-6})\n",
    "param.update({\"Lithium plating kinetic rate constant [m.s-1]\": 1e-10})\n",
    "# Adjust mechanical degradation parameters\n",
    "param.update({\"Negative electrode cracking rate\": 1e-22})\n",
    "param.update({\"Negative electrode LAM constant proportional term [s-1]\": 1e-9})\n",
    "param.update({\"Positive electrode LAM constant proportional term [s-1]\": 1e-9})\n",
    "param.update({\"Electrolyte conductivity [S.m-1]\": electrolyte_conductivity_Valoen2005})\n",
    "param.update({\"Electrolyte diffusivity [m2.s-1]\": electrolyte_diffusivity_Valoen2005})"
   ]
  },
  {
   "cell_type": "code",
   "execution_count": null,
   "metadata": {},
   "outputs": [],
   "source": [
    "# define experiment\n",
    "V_max = 4.2;        V_min = 2.5; \n",
    "Update_Cycles = 10; RPT_Cycles = 1;\n",
    "charge_time_mins = 60 * 4.86491/5\n",
    "exp_AGE_text = [(\n",
    "    f\"Charge at 5 C for {charge_time_mins} minutes\",\n",
    "    f\"Discharge at 1 C until {V_min} V\", \n",
    "    ),  ]\n",
    "# step index for ageing\n",
    "step_AGE_CD =0;   step_AGE_CC =1;   step_AGE_CV =2;\n",
    "\n",
    "exp_RPT_text = [ (\n",
    "    f\"Charge at 1C until {V_max} V\",  \n",
    "    f\"Hold at {V_max}V until C/100\",\n",
    "    f\"Discharge at 0.1C until {V_min} V (5 minute period)\",  \n",
    "    \"Rest for 1 hours (5 minute period)\",  \n",
    "    f\"Charge at 0.1C until {V_max} V (5 minute period)\",\n",
    "    \"Rest for 1 hours (5 minute period)\",\n",
    "    f\"Discharge at 1C until {V_min} V\",  \n",
    "    f\"Hold at {V_min} V until C/100\",\n",
    "    ) ]\n",
    "# step index for RPT\n",
    "step_RPT_CD = 2;  step_RPT_RE =3;   step_RPT_CC = 4;  \n",
    "Experiment_Long   = pybamm.Experiment( exp_AGE_text * Update_Cycles  )  \n",
    "Experiment_RPT    = pybamm.Experiment( exp_RPT_text * RPT_Cycles     ) \n",
    "Experiment_Breakin= pybamm.Experiment( exp_RPT_text * RPT_Cycles     )\n"
   ]
  },
  {
   "cell_type": "code",
   "execution_count": null,
   "metadata": {},
   "outputs": [],
   "source": [
    "var_pts = {\n",
    "    \"x_n\": 5,  # negative electrode\n",
    "    \"x_s\": 5,  # separator \n",
    "    \"x_p\": 5,  # positive electrode\n",
    "    \"r_n\": 60,  # negative particle\n",
    "    \"r_p\": 20,  # positive particle\n",
    "}"
   ]
  },
  {
   "cell_type": "code",
   "execution_count": null,
   "metadata": {},
   "outputs": [],
   "source": [
    "sim1 = pybamm.Simulation(\n",
    "    model, \n",
    "    experiment=Experiment_Breakin,\n",
    "    parameter_values=param,\n",
    "    solver=pybamm.CasadiSolver(),\n",
    "    var_pts=var_pts,\n",
    ")\n",
    "solution1 = sim1.solve(\n",
    "    save_at_cycles=1\n",
    ")\n",
    "\n",
    "stop = timeit.default_timer()\n",
    "print('running time: ' + str(stop - start) +'s')"
   ]
  },
  {
   "cell_type": "code",
   "execution_count": null,
   "metadata": {},
   "outputs": [],
   "source": [
    "model_2 = model.set_initial_conditions_from(solution1, inplace=False)\n",
    "sim2 = pybamm.Simulation(\n",
    "    model_2, \n",
    "    experiment=Experiment_Long,\n",
    "    parameter_values=param,\n",
    "    solver=pybamm.CasadiSolver(),\n",
    "    var_pts=var_pts,\n",
    ")\n",
    "solution2 = sim2.solve(\n",
    "    save_at_cycles=[1,5,10] \n",
    ")"
   ]
  },
  {
   "cell_type": "code",
   "execution_count": null,
   "metadata": {},
   "outputs": [],
   "source": [
    "# plot SOH, LAM, LII\n",
    "# SOH must be defined ourselves? "
   ]
  },
  {
   "cell_type": "code",
   "execution_count": null,
   "metadata": {},
   "outputs": [],
   "source": [
    "label = [\"Initial solution\",\"Second solution\"] \n",
    "var = [\n",
    "    \"Loss of lithium inventory, including electrolyte [%]\",\n",
    "    \"LAM_ne [%]\",\n",
    "    \"Loss of active material in negative electrode [%]\",\n",
    "    \"LAM_pe [%]\",\n",
    "    \"Loss of active material in positive electrode [%]\",\n",
    "    'LLI [%]', \n",
    "    'Throughput capacity [A.h]',\n",
    "    \"Discharge capacity [A.h]\"\n",
    "]\n",
    "quick_plot = pybamm.QuickPlot(\n",
    "    [solution1,solution2], var,label,variable_limits='tight') #     \n",
    "quick_plot.dynamic_plot();"
   ]
  },
  {
   "cell_type": "code",
   "execution_count": null,
   "metadata": {},
   "outputs": [],
   "source": [
    "print(solution2['Throughput capacity [A.h]'].entries[-1])\n",
    "print(solution2.cycles[-1].steps[-1]['Throughput capacity [A.h]'].entries[-1])\n",
    "print(solution2.cycles[-1].steps[1]['Throughput capacity [A.h]'].entries)"
   ]
  },
  {
   "cell_type": "markdown",
   "metadata": {},
   "source": [
    "for step in solution2.cycles[-1].steps:\n",
    "    step['Throughput capacity [A.h]'].entries += solution1['Throughput capacity [A.h]'].entries[-1]"
   ]
  },
  {
   "cell_type": "code",
   "execution_count": null,
   "metadata": {},
   "outputs": [],
   "source": [
    "# need to do this every time next solution is got:\n",
    "solution2['Throughput capacity [A.h]'].entries += solution1['Throughput capacity [A.h]'].entries[-1]\n",
    "\"Throughput energy [W.h]\","
   ]
  },
  {
   "cell_type": "code",
   "execution_count": null,
   "metadata": {},
   "outputs": [],
   "source": [
    "plt.plot(solution1['Throughput capacity [A.h]'].entries)\n",
    "plt.plot(solution2['Throughput capacity [A.h]'].entries)"
   ]
  },
  {
   "cell_type": "code",
   "execution_count": null,
   "metadata": {},
   "outputs": [],
   "source": [
    "plt.plot(solution2['Cell temperature [K]'].entries )"
   ]
  },
  {
   "cell_type": "code",
   "execution_count": null,
   "metadata": {},
   "outputs": [],
   "source": [
    "solution2['Cell temperature [C]'].entries "
   ]
  }
 ],
 "metadata": {
  "kernelspec": {
   "display_name": "envPBpublic",
   "language": "python",
   "name": "python3"
  },
  "language_info": {
   "codemirror_mode": {
    "name": "ipython",
    "version": 3
   },
   "file_extension": ".py",
   "mimetype": "text/x-python",
   "name": "python",
   "nbconvert_exporter": "python",
   "pygments_lexer": "ipython3",
   "version": "3.9.6"
  },
  "orig_nbformat": 4,
  "vscode": {
   "interpreter": {
    "hash": "67421545f68ed51676f11d33623f5bfe7fd6cf9e8d95914baad5cd6f61ac5d03"
   }
  }
 },
 "nbformat": 4,
 "nbformat_minor": 2
}
