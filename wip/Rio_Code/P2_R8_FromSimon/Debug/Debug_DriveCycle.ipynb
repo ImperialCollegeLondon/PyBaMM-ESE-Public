{
 "cells": [
  {
   "cell_type": "code",
   "execution_count": 1,
   "metadata": {},
   "outputs": [
    {
     "data": {
      "application/vnd.jupyter.widget-view+json": {
       "model_id": "88ce31e98d9d4edaacef2bd16b4b8872",
       "version_major": 2,
       "version_minor": 0
      },
      "text/plain": [
       "interactive(children=(FloatSlider(value=0.0, description='t', max=1.4691423480380155, step=0.01469142348038015…"
      ]
     },
     "metadata": {},
     "output_type": "display_data"
    },
    {
     "data": {
      "text/plain": [
       "<pybamm.plotting.quick_plot.QuickPlot at 0x247af030c70>"
      ]
     },
     "execution_count": 1,
     "metadata": {},
     "output_type": "execute_result"
    }
   ],
   "source": [
    "#\n",
    "# Constant-current constant-voltage charge with US06 Drive Cycle using Experiment Class.\n",
    "#\n",
    "import pybamm\n",
    "import pandas as pd\n",
    "import os\n",
    "\n",
    "os.chdir(pybamm.__path__[0] + \"/..\")\n",
    "\n",
    "#pybamm.set_logging_level(\"INFO\")\n",
    "\n",
    "# import drive cycle from file\n",
    "drive_cycle_current = pd.read_csv(\n",
    "    \"pybamm/input/drive_cycles/US06.csv\", comment=\"#\", header=None\n",
    ").to_numpy()\n",
    "\n",
    "experiment = pybamm.Experiment(\n",
    "    [\n",
    "        (\n",
    "            \"Charge at 1 A until 4.0 V\",\n",
    "            \"Hold at 4.0 V until 50 mA\",\n",
    "            \"Rest for 30 minutes\",\n",
    "            \"Run US06_A (A)\",\n",
    "            \"Rest for 30 minutes\",\n",
    "        ),\n",
    "    ],\n",
    "    drive_cycles={\n",
    "        \"US06_A\": drive_cycle_current,\n",
    "    },\n",
    ")\n",
    "\n",
    "model = pybamm.lithium_ion.DFN()\n",
    "sim = pybamm.Simulation(model, experiment=experiment, solver=pybamm.CasadiSolver())\n",
    "sim.solve()\n",
    "\n",
    "# Show all plots\n",
    "sim.plot()\n"
   ]
  },
  {
   "cell_type": "code",
   "execution_count": 2,
   "metadata": {},
   "outputs": [
    {
     "name": "stdout",
     "output_type": "stream",
     "text": [
      "599.999999999\n"
     ]
    }
   ],
   "source": [
    "sim.solution.cycles[0].steps[3][\"Time [s]\"].entries[0]\n",
    "print(\n",
    "sim.solution.cycles[0].steps[3][\"Time [s]\"].entries[-1]\n",
    "-sim.solution.cycles[0].steps[3][\"Time [s]\"].entries[0]\n",
    ")"
   ]
  },
  {
   "cell_type": "code",
   "execution_count": 3,
   "metadata": {},
   "outputs": [],
   "source": [
    "import pybamm\n",
    "import pandas as pd\n",
    "import os\n",
    "\n",
    "# Path_NiallDMA = \"InputData/\" # for HPC\n",
    "Path_InputBasic = \"D:/OneDrive - Imperial College London/SimDataSave/InputData/\"\n",
    "Path_Expt4 = \"Expt 4 - Drive Cycle Aging (Control)/\"\n",
    "drive_cycle_current_2 = pd.read_csv(\n",
    "    Path_InputBasic+Path_Expt4+\"Expt_4_DriveCycle.csv\", \n",
    "    comment=\"#\", header=None).to_numpy()"
   ]
  },
  {
   "cell_type": "code",
   "execution_count": 6,
   "metadata": {},
   "outputs": [
    {
     "name": "stdout",
     "output_type": "stream",
     "text": [
      "[4.00000000e+02 1.89874197e-01]\n",
      "18005\n"
     ]
    }
   ],
   "source": [
    "print(drive_cycle_current_2[400])\n",
    "print(len(drive_cycle_current_2))"
   ]
  },
  {
   "cell_type": "code",
   "execution_count": 7,
   "metadata": {},
   "outputs": [
    {
     "name": "stderr",
     "output_type": "stream",
     "text": [
      "At t = 360.795, , mxstep steps taken before reaching tout.\n",
      "At t = 61.796, , mxstep steps taken before reaching tout.\n",
      "At t = 61.7967, , mxstep steps taken before reaching tout.\n",
      "At t = 61.7954, , mxstep steps taken before reaching tout.\n",
      "At t = 24.7969 and h = 5.43759e-15, the corrector convergence failed repeatedly or with |h| = hmin.\n",
      "2023-05-17 23:26:50.369 - [WARNING] callbacks.on_experiment_infeasible(231): \n",
      "\n",
      "\tExperiment is infeasible: 'event: Minimum voltage [V]' was triggered during 'Run Expt_4 (A) until 2.5V'. The returned solution only contains up to step 2 of cycle 1. \n"
     ]
    },
    {
     "data": {
      "application/vnd.jupyter.widget-view+json": {
       "model_id": "f0d6676b9c1e414596c949aa4539ef7b",
       "version_major": 2,
       "version_minor": 0
      },
      "text/plain": [
       "interactive(children=(FloatSlider(value=0.0, description='t', max=3514.1849189386644, step=35.14184918938665),…"
      ]
     },
     "metadata": {},
     "output_type": "display_data"
    },
    {
     "data": {
      "text/plain": [
       "<pybamm.plotting.quick_plot.QuickPlot at 0x247af1bbe20>"
      ]
     },
     "execution_count": 7,
     "metadata": {},
     "output_type": "execute_result"
    }
   ],
   "source": [
    "V_max = 4.2;        V_min = 2.5; \n",
    "Exp_Age_4 = pybamm.Experiment(\n",
    "    [\n",
    "        (\n",
    "            \"Discharge at 1C for 3 minutes\",\n",
    "            \"Run Expt_4 (A) until 2.5V\",\n",
    "            f\"Charge at 0.3C until {V_max} V\",  \n",
    "            f\"Hold at {V_max}V until C/100\",\n",
    "        ),\n",
    "    ]  ,\n",
    "    drive_cycles={\n",
    "        \"Expt_4\": drive_cycle_current_2,\n",
    "    },\n",
    ")\n",
    "\n",
    "model = pybamm.lithium_ion.DFN()\n",
    "sim2 = pybamm.Simulation(model, experiment=Exp_Age_4, solver=pybamm.CasadiSolver())\n",
    "sol2 = sim2.solve()\n",
    "\n",
    "# Show all plots\n",
    "sim2.plot()\n"
   ]
  },
  {
   "cell_type": "code",
   "execution_count": 8,
   "metadata": {},
   "outputs": [
    {
     "name": "stdout",
     "output_type": "stream",
     "text": [
      "3334.1849189376644\n"
     ]
    }
   ],
   "source": [
    "print(\n",
    "sim2.solution.cycles[0].steps[1][\"Time [s]\"].entries[-1]\n",
    "-sim2.solution.cycles[0].steps[1][\"Time [s]\"].entries[0]\n",
    ")"
   ]
  },
  {
   "cell_type": "code",
   "execution_count": 9,
   "metadata": {},
   "outputs": [
    {
     "name": "stdout",
     "output_type": "stream",
     "text": [
      "Discharge capacity [A.h]\n"
     ]
    },
    {
     "data": {
      "text/plain": [
       "[<matplotlib.lines.Line2D at 0x247be4dd9a0>]"
      ]
     },
     "execution_count": 9,
     "metadata": {},
     "output_type": "execute_result"
    },
    {
     "data": {
      "image/png": "[encoded data removed]",
      "text/plain": [
       "<Figure size 640x480 with 1 Axes>"
      ]
     },
     "metadata": {},
     "output_type": "display_data"
    }
   ],
   "source": [
    "model.variables.search(\"Discharge capacity [A.h]\")\n",
    "import matplotlib.pyplot as plt\n",
    "plt.plot(\n",
    "    sim2.solution[\"Time [h]\"].entries,\n",
    "    sim2.solution[\"Discharge capacity [A.h]\"].entries)"
   ]
  }
 ],
 "metadata": {
  "kernelspec": {
   "display_name": "envPBGEM",
   "language": "python",
   "name": "python3"
  },
  "language_info": {
   "codemirror_mode": {
    "name": "ipython",
    "version": 3
   },
   "file_extension": ".py",
   "mimetype": "text/x-python",
   "name": "python",
   "nbconvert_exporter": "python",
   "pygments_lexer": "ipython3",
   "version": "3.9.6"
  },
  "orig_nbformat": 4
 },
 "nbformat": 4,
 "nbformat_minor": 2
}
