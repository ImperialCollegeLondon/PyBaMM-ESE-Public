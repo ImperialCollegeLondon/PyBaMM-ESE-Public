{
 "cells": [
  {
   "cell_type": "code",
   "execution_count": 1,
   "metadata": {},
   "outputs": [],
   "source": [
    "import pybamm;import pandas as pd   ;import numpy as np;import os;import matplotlib.pyplot as plt;import os;#import imageio\n",
    "from scipy.io import savemat,loadmat;from pybamm import constants,exp,sqrt;\n",
    "import matplotlib as mpl; \n",
    "fs=17; # or we can set import matplotlib.pyplot as plt then say 'mpl.rc...'\n",
    "import openpyxl\n",
    "import traceback\n",
    "import multiprocessing\n",
    "font = {'family' : 'DejaVu Sans','size'   : fs}\n",
    "mpl.rc('font', **font)"
   ]
  },
  {
   "cell_type": "code",
   "execution_count": 2,
   "metadata": {},
   "outputs": [],
   "source": [
    "V_max = 4.2;        V_min = 2.5;\n",
    "exp  = pybamm.Experiment(\n",
    "    [ \n",
    "        (f\"Discharge at 1 C until {V_min} V\", \n",
    "        f\"Charge at 1 C until {V_max} V\",  # (5 minute period)\n",
    "        f\"Hold at {V_max} V until C/20\"),] * 1 )  "
   ]
  },
  {
   "cell_type": "code",
   "execution_count": 3,
   "metadata": {},
   "outputs": [],
   "source": [
    "model  = pybamm.lithium_ion.DFN(options={\n",
    "    \"SEI\":\"interstitial-diffusion limited\",            \n",
    "    \"SEI film resistance\":\"distributed\",          \n",
    "    \"SEI porosity change\":\"true\",   \n",
    "    \"electrolyte conductivity\": \"full\"  ,}) "
   ]
  },
  {
   "cell_type": "code",
   "execution_count": 4,
   "metadata": {},
   "outputs": [],
   "source": [
    "para=pybamm.ParameterValues(\"Chen2020\")\n",
    "para.update({'Inner SEI lithium interstitial diffusivity [m2.s-1]':3e-19})"
   ]
  },
  {
   "cell_type": "code",
   "execution_count": 5,
   "metadata": {},
   "outputs": [
    {
     "ename": "KeyError",
     "evalue": "\"'EC concentration [mol.m-3]' not found. Best matches are ['SEI concentration [mol.m-3]', 'Outer SEI concentration [mol.m-3]', 'Inner SEI concentration [mol.m-3]']\"",
     "output_type": "error",
     "traceback": [
      "\u001b[1;31m---------------------------------------------------------------------------\u001b[0m",
      "\u001b[1;31mKeyError\u001b[0m                                  Traceback (most recent call last)",
      "File \u001b[1;32md:\\gitpybamm\\lrh_409\\lrh_409\\envpbgem\\pybamm-gem\\pybamm\\util.py:58\u001b[0m, in \u001b[0;36mFuzzyDict.__getitem__\u001b[1;34m(self, key)\u001b[0m\n\u001b[0;32m     57\u001b[0m \u001b[39mtry\u001b[39;00m:\n\u001b[1;32m---> 58\u001b[0m     \u001b[39mreturn\u001b[39;00m \u001b[39msuper\u001b[39;49m()\u001b[39m.\u001b[39;49m\u001b[39m__getitem__\u001b[39;49m(key)\n\u001b[0;32m     59\u001b[0m \u001b[39mexcept\u001b[39;00m \u001b[39mKeyError\u001b[39;00m:\n",
      "\u001b[1;31mKeyError\u001b[0m: 'EC concentration [mol.m-3]'",
      "\nDuring handling of the above exception, another exception occurred:\n",
      "\u001b[1;31mKeyError\u001b[0m                                  Traceback (most recent call last)",
      "\u001b[1;32md:\\GitPyBaMM\\LRH_409\\LRH_409\\envPBGEM\\PyBaMM-GEM\\wip\\Rio_Code\\P2_R8_FromSimon\\test_dfn.ipynb Cell 5\u001b[0m in \u001b[0;36m<cell line: 2>\u001b[1;34m()\u001b[0m\n\u001b[0;32m      <a href='vscode-notebook-cell:/d%3A/GitPyBaMM/LRH_409/LRH_409/envPBGEM/PyBaMM-GEM/wip/Rio_Code/P2_R8_FromSimon/test_dfn.ipynb#W1sZmlsZQ%3D%3D?line=0'>1</a>\u001b[0m c_e \u001b[39m=\u001b[39m model\u001b[39m.\u001b[39mvariables[\u001b[39m\"\u001b[39m\u001b[39mElectrolyte concentration [mol.m-3]\u001b[39m\u001b[39m\"\u001b[39m]\n\u001b[1;32m----> <a href='vscode-notebook-cell:/d%3A/GitPyBaMM/LRH_409/LRH_409/envPBGEM/PyBaMM-GEM/wip/Rio_Code/P2_R8_FromSimon/test_dfn.ipynb#W1sZmlsZQ%3D%3D?line=1'>2</a>\u001b[0m c_EC\u001b[39m=\u001b[39m model\u001b[39m.\u001b[39;49mvariables[\u001b[39m\"\u001b[39;49m\u001b[39mEC concentration [mol.m-3]\u001b[39;49m\u001b[39m\"\u001b[39;49m]\n\u001b[0;32m      <a href='vscode-notebook-cell:/d%3A/GitPyBaMM/LRH_409/LRH_409/envPBGEM/PyBaMM-GEM/wip/Rio_Code/P2_R8_FromSimon/test_dfn.ipynb#W1sZmlsZQ%3D%3D?line=2'>3</a>\u001b[0m T \u001b[39m=\u001b[39m model\u001b[39m.\u001b[39mvariables[\u001b[39m\"\u001b[39m\u001b[39mCell temperature [K]\u001b[39m\u001b[39m\"\u001b[39m]\n\u001b[0;32m      <a href='vscode-notebook-cell:/d%3A/GitPyBaMM/LRH_409/LRH_409/envPBGEM/PyBaMM-GEM/wip/Rio_Code/P2_R8_FromSimon/test_dfn.ipynb#W1sZmlsZQ%3D%3D?line=3'>4</a>\u001b[0m D_e \u001b[39m=\u001b[39m para[\u001b[39m\"\u001b[39m\u001b[39mElectrolyte diffusivity [m2.s-1]\u001b[39m\u001b[39m\"\u001b[39m]\n",
      "File \u001b[1;32md:\\gitpybamm\\lrh_409\\lrh_409\\envpbgem\\pybamm-gem\\pybamm\\util.py:68\u001b[0m, in \u001b[0;36mFuzzyDict.__getitem__\u001b[1;34m(self, key)\u001b[0m\n\u001b[0;32m     62\u001b[0m     \u001b[39mraise\u001b[39;00m \u001b[39mKeyError\u001b[39;00m(\n\u001b[0;32m     63\u001b[0m         \u001b[39mf\u001b[39m\u001b[39m\"\u001b[39m\u001b[39mVariable \u001b[39m\u001b[39m'\u001b[39m\u001b[39m{\u001b[39;00mdomain\u001b[39m}\u001b[39;00m\u001b[39m electrode SOC\u001b[39m\u001b[39m'\u001b[39m\u001b[39m has been renamed to \u001b[39m\u001b[39m\"\u001b[39m\n\u001b[0;32m     64\u001b[0m         \u001b[39mf\u001b[39m\u001b[39m\"\u001b[39m\u001b[39m'\u001b[39m\u001b[39m{\u001b[39;00mdomain\u001b[39m}\u001b[39;00m\u001b[39m electrode stoichiometry\u001b[39m\u001b[39m'\u001b[39m\u001b[39m to avoid confusion \u001b[39m\u001b[39m\"\u001b[39m\n\u001b[0;32m     65\u001b[0m         \u001b[39m\"\u001b[39m\u001b[39mwith cell SOC\u001b[39m\u001b[39m\"\u001b[39m\n\u001b[0;32m     66\u001b[0m     )\n\u001b[0;32m     67\u001b[0m best_matches \u001b[39m=\u001b[39m \u001b[39mself\u001b[39m\u001b[39m.\u001b[39mget_best_matches(key)\n\u001b[1;32m---> 68\u001b[0m \u001b[39mraise\u001b[39;00m \u001b[39mKeyError\u001b[39;00m(\u001b[39mf\u001b[39m\u001b[39m\"\u001b[39m\u001b[39m'\u001b[39m\u001b[39m{\u001b[39;00mkey\u001b[39m}\u001b[39;00m\u001b[39m'\u001b[39m\u001b[39m not found. Best matches are \u001b[39m\u001b[39m{\u001b[39;00mbest_matches\u001b[39m}\u001b[39;00m\u001b[39m\"\u001b[39m)\n",
      "\u001b[1;31mKeyError\u001b[0m: \"'EC concentration [mol.m-3]' not found. Best matches are ['SEI concentration [mol.m-3]', 'Outer SEI concentration [mol.m-3]', 'Inner SEI concentration [mol.m-3]']\""
     ]
    }
   ],
   "source": [
    "var_pts = {\n",
    "    \"x_n\": 10,  # negative electrode\n",
    "    \"x_s\": 5,  # separator \n",
    "    \"x_p\": 10,  # positive electrode\n",
    "    \"r_n\": 30,  # negative particle\n",
    "    \"r_p\": 20,  # positive particle\n",
    "}\n",
    "\n",
    "sim    = pybamm.Simulation(\n",
    "    model, experiment = exp,\n",
    "    parameter_values = para,\n",
    "    solver = pybamm.CasadiSolver(return_solution_if_failed_early=True),\n",
    "    var_pts=var_pts,)       \n",
    "sol = sim.solve()"
   ]
  },
  {
   "cell_type": "code",
   "execution_count": null,
   "metadata": {},
   "outputs": [],
   "source": [
    "# compare int - Dec\n",
    "Str = [\"Int-Single-H_Dec\",]\n",
    "font = {'family' : 'DejaVu Sans','size'   : 12}\n",
    "mpl.rc('font', **font)\n",
    "var_elely = [\n",
    "    \"Terminal voltage [V]\",\n",
    "    \"Negative electrode surface potential difference [V]\",\n",
    "    \"Negative electrode potential [V]\",\n",
    "    \"Negative electrolyte potential [V]\",\n",
    "]\n",
    "quick_plot = pybamm.QuickPlot(\n",
    "    sol, var_elely,\n",
    "    Str,variable_limits='tight',\n",
    "    time_unit='hours',\n",
    "    spatial_unit='mm',     #  (“m”, “mm”, or “um”)\n",
    "    n_rows=2) #figsize = (18,12),\n",
    "quick_plot.dynamic_plot()"
   ]
  }
 ],
 "metadata": {
  "kernelspec": {
   "display_name": "envPBGEM",
   "language": "python",
   "name": "python3"
  },
  "language_info": {
   "codemirror_mode": {
    "name": "ipython",
    "version": 3
   },
   "file_extension": ".py",
   "mimetype": "text/x-python",
   "name": "python",
   "nbconvert_exporter": "python",
   "pygments_lexer": "ipython3",
   "version": "3.9.6"
  },
  "orig_nbformat": 4
 },
 "nbformat": 4,
 "nbformat_minor": 2
}
