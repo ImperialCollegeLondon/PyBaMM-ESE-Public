{
 "cells": [
  {
   "cell_type": "code",
   "execution_count": 1,
   "metadata": {},
   "outputs": [],
   "source": [
    "import matplotlib.pyplot as plt\n",
    "import numpy as np\n",
    "import pybamm\n",
    "import pandas as pd\n",
    "import timeit\n",
    "start = timeit.default_timer()\n",
    "# pybamm.set_logging_level(\"INFO\")"
   ]
  },
  {
   "cell_type": "code",
   "execution_count": 2,
   "metadata": {},
   "outputs": [],
   "source": [
    "def electrolyte_conductivity_Valoen2005(c_e, T):\n",
    "    # T = T + 273.15\n",
    "    # mol/m3 to molar\n",
    "    c_e = c_e / 1000\n",
    "    # mS/cm to S/m\n",
    "    return (1e-3 / 1e-2) * (\n",
    "        c_e\n",
    "        * (\n",
    "            (-10.5 + 0.0740 * T - 6.96e-5 * T ** 2)\n",
    "            + c_e * (0.668 - 0.0178 * T + 2.80e-5 * T ** 2)\n",
    "            + c_e ** 2 * (0.494 - 8.86e-4 * T)\n",
    "        )\n",
    "        ** 2\n",
    "    )\n",
    "def electrolyte_diffusivity_Valoen2005(c_e, T):\n",
    "    # T = T + 273.15\n",
    "    # mol/m3 to molar\n",
    "    c_e = c_e / 1000\n",
    "\n",
    "    T_g = 229 + 5 * c_e\n",
    "    D_0 = -4.43 - 54 / (T - T_g)\n",
    "    D_1 = -0.22\n",
    "\n",
    "    # cm2/s to m2/s\n",
    "    # note, in the Valoen paper, ln means log10, so its inverse is 10^x\n",
    "    return (10 ** (D_0 + D_1 * c_e)) * 1e-4"
   ]
  },
  {
   "cell_type": "code",
   "execution_count": 3,
   "metadata": {},
   "outputs": [
    {
     "name": "stdout",
     "output_type": "stream",
     "text": [
      "two-step\n",
      "two-step\n",
      "running time: 5.059748200001195s\n"
     ]
    }
   ],
   "source": [
    "model = pybamm.lithium_ion.DFN()\n",
    "param = pybamm.ParameterValues(\"Chen2020\")\n",
    "c_e = model.variables[\"Electrolyte concentration [mol.m-3]\"]\n",
    "T = model.variables[\"Cell temperature [K]\"]\n",
    "D_e = model.param.D_e_dimensional\n",
    "kappa_e = model.param.kappa_e_dimensional\n",
    "model.variables[\"Electrolyte diffusivity [m2.s-1]\"] = D_e(c_e, T)\n",
    "model.variables[\"Electrolyte conductivity [S.m-1]\"] = kappa_e(c_e, T)\n",
    "# use electrolyte Nyman_polynomial\n",
    "V_max = 4.2;        V_min = 2.5; \n",
    "exp_RPT_text = [ (\n",
    "    f\"Discharge at 1 C until {V_min} V\", #  (1 minute period)  \n",
    "    \"Rest for 1 hours (5 minute period)\",  \n",
    "    f\"Charge at 1 C until {V_max} V\",\n",
    "    \"Rest for 1 hours (5 minute period)\",\n",
    "    ) ]\n",
    "Experiment_Breakin= pybamm.Experiment( exp_RPT_text * 1     )\n",
    "sim1 = pybamm.Simulation(\n",
    "    model, \n",
    "    experiment=Experiment_Breakin,\n",
    "    parameter_values=param,\n",
    "    solver=pybamm.CasadiSolver(),\n",
    "    #var_pts=var_pts,\n",
    ")\n",
    "solution1 = sim1.solve()\n",
    "\n",
    "stop = timeit.default_timer()\n",
    "print('running time: ' + str(stop - start) +'s')"
   ]
  },
  {
   "cell_type": "code",
   "execution_count": 4,
   "metadata": {},
   "outputs": [
    {
     "name": "stdout",
     "output_type": "stream",
     "text": [
      "two-step\n"
     ]
    }
   ],
   "source": [
    "# now go for Valoen:\n",
    "param.update({\"Electrolyte conductivity [S.m-1]\": electrolyte_conductivity_Valoen2005})\n",
    "param.update({\"Electrolyte diffusivity [m2.s-1]\": electrolyte_diffusivity_Valoen2005})\n",
    "sim2 = pybamm.Simulation(\n",
    "    model, \n",
    "    experiment=Experiment_Breakin,\n",
    "    parameter_values=param,\n",
    "    solver=pybamm.CasadiSolver(return_solution_if_failed_early=True),\n",
    "    #var_pts=var_pts,\n",
    ")\n",
    "solution_Valoen = sim2.solve()"
   ]
  },
  {
   "cell_type": "code",
   "execution_count": 5,
   "metadata": {},
   "outputs": [
    {
     "name": "stdout",
     "output_type": "stream",
     "text": [
      "two-step\n"
     ]
    }
   ],
   "source": [
    "# now go for Landesfied 3:7:\n",
    "def electrolyte_conductivity_base_Landesfeind2019(c_e, T, coeffs):\n",
    "    c = c_e / 1000  # mol.m-3 -> mol.l\n",
    "    p1, p2, p3, p4, p5, p6 = coeffs\n",
    "    A = p1 * (1 + (T - p2))\n",
    "    B = 1 + p3 * pybamm.sqrt(c) + p4 * (1 + p5 * pybamm.exp(1000 / T)) * c\n",
    "    C = 1 + c**4 * (p6 * pybamm.exp(1000 / T))\n",
    "    sigma_e = A * c * B / C  # mS.cm-1\n",
    "\n",
    "    return sigma_e / 10\n",
    "\n",
    "def electrolyte_diffusivity_base_Landesfeind2019(c_e, T, coeffs):\n",
    "    c = c_e / 1000  # mol.m-3 -> mol.l\n",
    "    p1, p2, p3, p4 = coeffs\n",
    "    A = p1 * pybamm.exp(p2 * c)\n",
    "    B = pybamm.exp(p3 / T)\n",
    "    C = pybamm.exp(p4 * c / T)\n",
    "    D_e = A * B * C * 1e-10  # m2/s\n",
    "\n",
    "    return D_e\n",
    "def electrolyte_diffusivity_EC_EMC_3_7_Landesfeind2019(c_e, T):\n",
    "    coeffs = np.array([1.01e3, 1.01, -1.56e3, -4.87e2])\n",
    "\n",
    "    return electrolyte_diffusivity_base_Landesfeind2019(c_e, T, coeffs)\n",
    "\n",
    "def electrolyte_conductivity_EC_EMC_3_7_Landesfeind2019(c_e, T):\n",
    "    coeffs = np.array([5.21e-1, 2.28e2, -1.06, 3.53e-1, -3.59e-3, 1.48e-3])\n",
    "\n",
    "    return electrolyte_conductivity_base_Landesfeind2019(c_e, T, coeffs)\n",
    "\n",
    "param.update({\"Electrolyte conductivity [S.m-1]\": electrolyte_conductivity_EC_EMC_3_7_Landesfeind2019})\n",
    "param.update({\"Electrolyte diffusivity [m2.s-1]\": electrolyte_diffusivity_EC_EMC_3_7_Landesfeind2019})\n",
    "sim3 = pybamm.Simulation(\n",
    "    model, \n",
    "    experiment=Experiment_Breakin,\n",
    "    parameter_values=param,\n",
    "    solver=pybamm.CasadiSolver(return_solution_if_failed_early=True),\n",
    "    #var_pts=var_pts,\n",
    ")\n",
    "solution_Landes = sim3.solve()"
   ]
  },
  {
   "cell_type": "code",
   "execution_count": 6,
   "metadata": {},
   "outputs": [
    {
     "name": "stdout",
     "output_type": "stream",
     "text": [
      "two-step\n"
     ]
    }
   ],
   "source": [
    "# now go for constant:\n",
    "param.update({\"Electrolyte conductivity [S.m-1]\": 0.7})\n",
    "param.update({\"Electrolyte diffusivity [m2.s-1]\": 3e-10})\n",
    "sim4 = pybamm.Simulation(\n",
    "    model, \n",
    "    experiment=Experiment_Breakin,\n",
    "    parameter_values=param,\n",
    "    solver=pybamm.CasadiSolver(return_solution_if_failed_early=True),\n",
    "    #var_pts=var_pts,\n",
    ")\n",
    "solution_Constant= sim4.solve()"
   ]
  },
  {
   "cell_type": "code",
   "execution_count": 7,
   "metadata": {},
   "outputs": [
    {
     "data": {
      "application/vnd.jupyter.widget-view+json": {
       "model_id": "d9c844424f7a4fae9cfaa4c37da52fc9",
       "version_major": 2,
       "version_minor": 0
      },
      "text/plain": [
       "interactive(children=(FloatSlider(value=0.0, description='t', max=3560.24089793284, step=35.6024089793284), Ou…"
      ]
     },
     "metadata": {},
     "output_type": "display_data"
    }
   ],
   "source": [
    "label = [\"Nyman Poly\",\"Landes Exp\",\"Constant\",\"Valoen Poly\"] \n",
    "var = [\n",
    "    \"Terminal voltage [V]\",\n",
    "    \"Electrolyte concentration [mol.m-3]\",\n",
    "    \"Electrolyte diffusivity [m2.s-1]\",\n",
    "    \"Electrolyte conductivity [S.m-1]\"\n",
    "]\n",
    "quick_plot = pybamm.QuickPlot(\n",
    "    [\n",
    "    solution1.cycles[0].steps[0],\n",
    "    solution_Landes.cycles[0].steps[0],\n",
    "    solution_Constant.cycles[0].steps[0],\n",
    "    solution_Valoen.cycles[0].steps[0],\n",
    "    ], var,label,variable_limits='tight') #     \n",
    "quick_plot.dynamic_plot();"
   ]
  },
  {
   "cell_type": "code",
   "execution_count": null,
   "metadata": {},
   "outputs": [],
   "source": []
  }
 ],
 "metadata": {
  "kernelspec": {
   "display_name": "envPBpublic",
   "language": "python",
   "name": "python3"
  },
  "language_info": {
   "codemirror_mode": {
    "name": "ipython",
    "version": 3
   },
   "file_extension": ".py",
   "mimetype": "text/x-python",
   "name": "python",
   "nbconvert_exporter": "python",
   "pygments_lexer": "ipython3",
   "version": "3.10.10"
  },
  "orig_nbformat": 4,
  "vscode": {
   "interpreter": {
    "hash": "67421545f68ed51676f11d33623f5bfe7fd6cf9e8d95914baad5cd6f61ac5d03"
   }
  }
 },
 "nbformat": 4,
 "nbformat_minor": 2
}
