{
 "cells": [
  {
   "cell_type": "code",
   "execution_count": 1,
   "metadata": {},
   "outputs": [],
   "source": [
    "import matplotlib.pyplot as plt\n",
    "import numpy as np\n",
    "import pybamm\n",
    "import pandas as pd\n",
    "import timeit\n",
    "start = timeit.default_timer()"
   ]
  },
  {
   "cell_type": "code",
   "execution_count": 2,
   "metadata": {},
   "outputs": [],
   "source": [
    "model = pybamm.lithium_ion.DFN(\n",
    "    options={\n",
    "        \"thermal\": \"lumped\",\n",
    "        \"SEI\": \"interstitial-diffusion limited\",\n",
    "        \"SEI on cracks\": \"true\",\n",
    "        \"SEI film resistance\": \"distributed\", \n",
    "        \"SEI porosity change\": \"true\",\n",
    "        \"particle mechanics\": (\"swelling and cracking\", \"swelling only\"),\n",
    "        \"loss of active material\": \"stress-driven\",\n",
    "        \"lithium plating\": \"partially reversible\"\n",
    "    }\n",
    ")\n",
    "param = pybamm.ParameterValues(\"OKane2023\")\n",
    "# Adjust SEI parameters\n",
    "param.update({\"Inner SEI lithium interstitial diffusivity [m2.s-1]\": 3e-19})\n",
    "# Override SEI thickness dependence of lithium plating\n",
    "param.update({\"Dead lithium decay rate [s-1]\": 1e-6})\n",
    "param.update({\"Lithium plating kinetic rate constant [m.s-1]\": 1e-10})\n",
    "# Adjust mechanical degradation parameters\n",
    "param.update({\"Negative electrode cracking rate\": 1e-22})\n",
    "param.update({\"Negative electrode LAM constant proportional term [s-1]\": 1e-9})\n",
    "param.update({\"Positive electrode LAM constant proportional term [s-1]\": 1e-9})"
   ]
  },
  {
   "cell_type": "code",
   "execution_count": 3,
   "metadata": {},
   "outputs": [],
   "source": [
    "# define experiment\n",
    "V_max = 4.2;        V_min = 2.5; \n",
    "Update_Cycles = 10; RPT_Cycles = 1;\n",
    "charge_time_mins = 60 * 4.86491/5\n",
    "exp_AGE_text = [(\n",
    "    f\"Charge at 0.3 C for {charge_time_mins} minutes\",\n",
    "    f\"Discharge at 1 C until {V_min} V\", \n",
    "    ),  ]\n",
    "# step index for ageing\n",
    "step_AGE_CD =0;   step_AGE_CC =1;   step_AGE_CV =2;\n",
    "\n",
    "exp_RPT_text = [ (\n",
    "    f\"Charge at 1C until {V_max} V\",  \n",
    "    f\"Hold at {V_max}V until C/100\",\n",
    "    f\"Discharge at 0.1C until {V_min} V (5 minute period)\",  \n",
    "    \"Rest for 1 hours (5 minute period)\",  \n",
    "    f\"Charge at 0.1C until {V_max} V (5 minute period)\",\n",
    "    \"Rest for 1 hours (5 minute period)\",\n",
    "    f\"Discharge at 1C until {V_min} V\",  \n",
    "    f\"Hold at {V_min} V until C/100\",\n",
    "    ) ]\n",
    "# step index for RPT\n",
    "step_RPT_CD = 2;  step_RPT_RE =3;   step_RPT_CC = 4;  \n",
    "Experiment_Long   = pybamm.Experiment( exp_AGE_text * Update_Cycles  )  \n",
    "Experiment_RPT    = pybamm.Experiment( exp_RPT_text * RPT_Cycles     ) \n",
    "Experiment_Breakin= pybamm.Experiment( exp_RPT_text * RPT_Cycles     )\n"
   ]
  },
  {
   "cell_type": "code",
   "execution_count": 4,
   "metadata": {},
   "outputs": [],
   "source": [
    "var_pts = {\n",
    "    \"x_n\": 5,  # negative electrode\n",
    "    \"x_s\": 5,  # separator \n",
    "    \"x_p\": 5,  # positive electrode\n",
    "    \"r_n\": 60,  # negative particle\n",
    "    \"r_p\": 20,  # positive particle\n",
    "}"
   ]
  },
  {
   "cell_type": "code",
   "execution_count": 5,
   "metadata": {},
   "outputs": [
    {
     "name": "stdout",
     "output_type": "stream",
     "text": [
      "running time: 75.97295170000001s\n"
     ]
    }
   ],
   "source": [
    "sim1 = pybamm.Simulation(\n",
    "    model, \n",
    "    experiment=Experiment_Breakin,\n",
    "    parameter_values=param,\n",
    "    solver=pybamm.CasadiSolver(),\n",
    "    var_pts=var_pts,\n",
    ")\n",
    "solution1 = sim1.solve(\n",
    "    save_at_cycles=1\n",
    ")\n",
    "\n",
    "stop = timeit.default_timer()\n",
    "print('running time: ' + str(stop - start) +'s')"
   ]
  },
  {
   "cell_type": "code",
   "execution_count": 6,
   "metadata": {},
   "outputs": [],
   "source": [
    "model_2 = model.set_initial_conditions_from(solution1, inplace=False)\n",
    "sim2 = pybamm.Simulation(\n",
    "    model_2, \n",
    "    experiment=Experiment_Long,\n",
    "    parameter_values=param,\n",
    "    solver=pybamm.CasadiSolver(),\n",
    "    var_pts=var_pts,\n",
    ")\n",
    "solution2 = sim2.solve(\n",
    "    save_at_cycles=[1,5,10] \n",
    ")"
   ]
  },
  {
   "cell_type": "code",
   "execution_count": null,
   "metadata": {},
   "outputs": [],
   "source": [
    "# plot SOH, LAM, LII\n",
    "# SOH must be defined ourselves? "
   ]
  },
  {
   "cell_type": "code",
   "execution_count": 39,
   "metadata": {},
   "outputs": [
    {
     "data": {
      "application/vnd.jupyter.widget-view+json": {
       "model_id": "ab3b93b342c342868287f83c0942b148",
       "version_major": 2,
       "version_minor": 0
      },
      "text/plain": [
       "interactive(children=(FloatSlider(value=0.0, description='t', max=23.175622941368083, step=0.23175622941368082…"
      ]
     },
     "metadata": {},
     "output_type": "display_data"
    }
   ],
   "source": [
    "label = [\"Initial solution\",\"Second solution\"] \n",
    "var = [\n",
    "    \"Loss of lithium inventory, including electrolyte [%]\",\n",
    "    \"LAM_ne [%]\",\n",
    "    \"Loss of active material in negative electrode [%]\",\n",
    "    \"LAM_pe [%]\",\n",
    "    \"Loss of active material in positive electrode [%]\",\n",
    "    'LLI [%]', \n",
    "    'Throughput capacity [A.h]',\n",
    "    \"Discharge capacity [A.h]\"\n",
    "]\n",
    "quick_plot = pybamm.QuickPlot(\n",
    "    [solution1,solution2], var,label,variable_limits='tight') #     \n",
    "quick_plot.dynamic_plot();"
   ]
  },
  {
   "cell_type": "code",
   "execution_count": 35,
   "metadata": {},
   "outputs": [
    {
     "data": {
      "text/plain": [
       "14.701643754935972"
      ]
     },
     "execution_count": 35,
     "metadata": {},
     "output_type": "execute_result"
    }
   ],
   "source": [
    "solution2['Throughput capacity [A.h]'].entries[0]"
   ]
  },
  {
   "cell_type": "code",
   "execution_count": 30,
   "metadata": {},
   "outputs": [],
   "source": [
    "# need to do this every time next solution is got:\n",
    "solution2['Throughput capacity [A.h]'].entries += solution1['Throughput capacity [A.h]'].entries[-1]\n",
    "\"Throughput energy [W.h]\","
   ]
  },
  {
   "cell_type": "code",
   "execution_count": null,
   "metadata": {},
   "outputs": [],
   "source": [
    "plt.plot(solution2['Cell temperature [K]'].entries )"
   ]
  },
  {
   "cell_type": "code",
   "execution_count": 44,
   "metadata": {},
   "outputs": [
    {
     "data": {
      "text/plain": [
       "array([[27.81351622, 27.67506053, 27.50454386, ..., 37.00377221,\n",
       "        37.75469088, 38.0990555 ],\n",
       "       [27.81351622, 27.67506053, 27.50454386, ..., 37.00377221,\n",
       "        37.75469088, 38.0990555 ],\n",
       "       [27.81351622, 27.67506053, 27.50454386, ..., 37.00377221,\n",
       "        37.75469088, 38.0990555 ],\n",
       "       ...,\n",
       "       [27.81351622, 27.67506053, 27.50454386, ..., 37.00377221,\n",
       "        37.75469088, 38.0990555 ],\n",
       "       [27.81351622, 27.67506053, 27.50454386, ..., 37.00377221,\n",
       "        37.75469088, 38.0990555 ],\n",
       "       [27.81351622, 27.67506053, 27.50454386, ..., 37.00377221,\n",
       "        37.75469088, 38.0990555 ]])"
      ]
     },
     "execution_count": 44,
     "metadata": {},
     "output_type": "execute_result"
    }
   ],
   "source": [
    "solution2['Cell temperature [C]'].entries "
   ]
  }
 ],
 "metadata": {
  "kernelspec": {
   "display_name": "envPBGEM",
   "language": "python",
   "name": "python3"
  },
  "language_info": {
   "codemirror_mode": {
    "name": "ipython",
    "version": 3
   },
   "file_extension": ".py",
   "mimetype": "text/x-python",
   "name": "python",
   "nbconvert_exporter": "python",
   "pygments_lexer": "ipython3",
   "version": "3.9.6"
  },
  "orig_nbformat": 4,
  "vscode": {
   "interpreter": {
    "hash": "83fab7fbb3a8fe7b5910804f702478ef63e2cc6a08d85072a5d68865ed0fd8c7"
   }
  }
 },
 "nbformat": 4,
 "nbformat_minor": 2
}
