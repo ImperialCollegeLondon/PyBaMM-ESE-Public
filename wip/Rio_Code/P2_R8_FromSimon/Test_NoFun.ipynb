{
 "cells": [
  {
   "cell_type": "code",
   "execution_count": 1,
   "metadata": {},
   "outputs": [],
   "source": [
    "import matplotlib.pyplot as plt\n",
    "import numpy as np\n",
    "import pybamm\n",
    "import pandas as pd\n",
    "import timeit\n",
    "start = timeit.default_timer()\n",
    "pybamm.set_logging_level(\"INFO\")"
   ]
  },
  {
   "cell_type": "code",
   "execution_count": 2,
   "metadata": {},
   "outputs": [],
   "source": [
    "model = pybamm.lithium_ion.DFN(\n",
    "    options={\n",
    "        \"thermal\": \"lumped\",\n",
    "        \"SEI\": \"interstitial-diffusion limited\",\n",
    "        \"SEI on cracks\": \"true\",\n",
    "        \"SEI film resistance\": \"distributed\", \n",
    "        \"SEI porosity change\": \"true\",\n",
    "        \"particle mechanics\": (\"swelling and cracking\", \"swelling only\"),\n",
    "        \"loss of active material\": \"stress-driven\",\n",
    "        \"lithium plating\": \"partially reversible\"\n",
    "    }\n",
    ")\n",
    "param = pybamm.ParameterValues(\"OKane2023\")\n",
    "# Adjust SEI parameters\n",
    "param.update({\"Inner SEI lithium interstitial diffusivity [m2.s-1]\": 3e-19})\n",
    "# Override SEI thickness dependence of lithium plating\n",
    "param.update({\"Dead lithium decay rate [s-1]\": 1e-6})\n",
    "param.update({\"Lithium plating kinetic rate constant [m.s-1]\": 1e-10})\n",
    "# Adjust mechanical degradation parameters\n",
    "param.update({\"Negative electrode cracking rate\": 1e-22})\n",
    "param.update({\"Negative electrode LAM constant proportional term [s-1]\": 1e-9})\n",
    "param.update({\"Positive electrode LAM constant proportional term [s-1]\": 1e-9})"
   ]
  },
  {
   "cell_type": "code",
   "execution_count": 3,
   "metadata": {},
   "outputs": [],
   "source": [
    "# define experiment\n",
    "V_max = 4.2;        V_min = 2.5; \n",
    "Update_Cycles = 10; RPT_Cycles = 1;\n",
    "charge_time_mins = 60 * 4.86491/5\n",
    "exp_AGE_text = [(\n",
    "    f\"Charge at 0.3 C for {charge_time_mins} minutes\",\n",
    "    f\"Discharge at 1 C until {V_min} V\", \n",
    "    ),  ]\n",
    "# step index for ageing\n",
    "step_AGE_CD =0;   step_AGE_CC =1;   step_AGE_CV =2;\n",
    "\n",
    "exp_RPT_text = [ (\n",
    "    f\"Charge at 1C until {V_max} V\",  \n",
    "    f\"Hold at {V_max}V until C/100\",\n",
    "    f\"Discharge at 0.1C until {V_min} V (5 minute period)\",  \n",
    "    \"Rest for 1 hours (5 minute period)\",  \n",
    "    f\"Charge at 0.1C until {V_max} V (5 minute period)\",\n",
    "    \"Rest for 1 hours (5 minute period)\",\n",
    "    f\"Discharge at 1C until {V_min} V\",  \n",
    "    f\"Hold at {V_min} V until C/100\",\n",
    "    ) ]\n",
    "# step index for RPT\n",
    "step_RPT_CD = 2;  step_RPT_RE =3;   step_RPT_CC = 4;  \n",
    "Experiment_Long   = pybamm.Experiment( exp_AGE_text * Update_Cycles  )  \n",
    "Experiment_RPT    = pybamm.Experiment( exp_RPT_text * RPT_Cycles     ) \n",
    "Experiment_Breakin= pybamm.Experiment( exp_RPT_text * RPT_Cycles     )\n"
   ]
  },
  {
   "cell_type": "code",
   "execution_count": 4,
   "metadata": {},
   "outputs": [],
   "source": [
    "var_pts = {\n",
    "    \"x_n\": 5,  # negative electrode\n",
    "    \"x_s\": 5,  # separator \n",
    "    \"x_p\": 5,  # positive electrode\n",
    "    \"r_n\": 60,  # negative particle\n",
    "    \"r_p\": 20,  # positive particle\n",
    "}"
   ]
  },
  {
   "cell_type": "code",
   "execution_count": 5,
   "metadata": {},
   "outputs": [
    {
     "name": "stdout",
     "output_type": "stream",
     "text": [
      "running time: 72.6977837s\n"
     ]
    }
   ],
   "source": [
    "sim1 = pybamm.Simulation(\n",
    "    model, \n",
    "    experiment=Experiment_Breakin,\n",
    "    parameter_values=param,\n",
    "    solver=pybamm.CasadiSolver(),\n",
    "    var_pts=var_pts,\n",
    ")\n",
    "solution1 = sim1.solve(\n",
    "    save_at_cycles=1\n",
    ")\n",
    "\n",
    "stop = timeit.default_timer()\n",
    "print('running time: ' + str(stop - start) +'s')"
   ]
  },
  {
   "cell_type": "code",
   "execution_count": 6,
   "metadata": {},
   "outputs": [],
   "source": [
    "model_2 = model.set_initial_conditions_from(solution1, inplace=False)\n",
    "sim2 = pybamm.Simulation(\n",
    "    model_2, \n",
    "    experiment=Experiment_Long,\n",
    "    parameter_values=param,\n",
    "    solver=pybamm.CasadiSolver(),\n",
    "    var_pts=var_pts,\n",
    ")\n",
    "solution2 = sim2.solve(\n",
    "    save_at_cycles=[1,5,10] \n",
    ")"
   ]
  },
  {
   "cell_type": "code",
   "execution_count": 7,
   "metadata": {},
   "outputs": [],
   "source": [
    "# plot SOH, LAM, LII\n",
    "# SOH must be defined ourselves? "
   ]
  },
  {
   "cell_type": "code",
   "execution_count": 8,
   "metadata": {},
   "outputs": [
    {
     "data": {
      "application/vnd.jupyter.widget-view+json": {
       "model_id": "e310af12c7184fbcaeb95089e096d661",
       "version_major": 2,
       "version_minor": 0
      },
      "text/plain": [
       "interactive(children=(FloatSlider(value=0.0, description='t', max=23.17562294137274, step=0.2317562294137274),…"
      ]
     },
     "metadata": {},
     "output_type": "display_data"
    }
   ],
   "source": [
    "label = [\"Initial solution\",\"Second solution\"] \n",
    "var = [\n",
    "    \"Loss of lithium inventory, including electrolyte [%]\",\n",
    "    \"LAM_ne [%]\",\n",
    "    \"Loss of active material in negative electrode [%]\",\n",
    "    \"LAM_pe [%]\",\n",
    "    \"Loss of active material in positive electrode [%]\",\n",
    "    'LLI [%]', \n",
    "    'Throughput capacity [A.h]',\n",
    "    \"Discharge capacity [A.h]\"\n",
    "]\n",
    "quick_plot = pybamm.QuickPlot(\n",
    "    [solution1,solution2], var,label,variable_limits='tight') #     \n",
    "quick_plot.dynamic_plot();"
   ]
  },
  {
   "cell_type": "code",
   "execution_count": 9,
   "metadata": {},
   "outputs": [
    {
     "name": "stdout",
     "output_type": "stream",
     "text": [
      "37.13174860886047\n",
      "1.459424375173292\n",
      "[0.         0.08333333 0.16666667 0.25       0.33333333 0.41666667\n",
      " 0.5        0.58333333 0.66666667 0.75       0.83333333 0.91666667\n",
      " 1.         1.08333333 1.16666667 1.25       1.33333333 1.41666667\n",
      " 1.45942438]\n"
     ]
    }
   ],
   "source": [
    "print(solution2['Throughput capacity [A.h]'].entries[-1])\n",
    "print(solution2.cycles[-1].steps[-1]['Throughput capacity [A.h]'].entries[-1])\n",
    "print(solution2.cycles[-1].steps[1]['Throughput capacity [A.h]'].entries)"
   ]
  },
  {
   "cell_type": "markdown",
   "metadata": {},
   "source": [
    "for step in solution2.cycles[-1].steps:\n",
    "    step['Throughput capacity [A.h]'].entries += solution1['Throughput capacity [A.h]'].entries[-1]"
   ]
  },
  {
   "cell_type": "code",
   "execution_count": 10,
   "metadata": {},
   "outputs": [
    {
     "data": {
      "text/plain": [
       "('Throughput energy [W.h]',)"
      ]
     },
     "execution_count": 10,
     "metadata": {},
     "output_type": "execute_result"
    }
   ],
   "source": [
    "# need to do this every time next solution is got:\n",
    "solution2['Throughput capacity [A.h]'].entries += solution1['Throughput capacity [A.h]'].entries[-1]\n",
    "\"Throughput energy [W.h]\","
   ]
  },
  {
   "cell_type": "code",
   "execution_count": 13,
   "metadata": {},
   "outputs": [
    {
     "data": {
      "text/plain": [
       "[<matplotlib.lines.Line2D at 0x1edafe07520>]"
      ]
     },
     "execution_count": 13,
     "metadata": {},
     "output_type": "execute_result"
    },
    {
     "data": {
      "image/png": "[encoded data removed]",
      "text/plain": [
       "<Figure size 640x480 with 1 Axes>"
      ]
     },
     "metadata": {},
     "output_type": "display_data"
    }
   ],
   "source": [
    "plt.plot(solution1['Throughput capacity [A.h]'].entries)\n",
    "plt.plot(solution2['Throughput capacity [A.h]'].entries)"
   ]
  },
  {
   "cell_type": "code",
   "execution_count": 11,
   "metadata": {},
   "outputs": [
    {
     "data": {
      "text/plain": [
       "[<matplotlib.lines.Line2D at 0x1edafbb2ac0>,\n",
       " <matplotlib.lines.Line2D at 0x1edafbb2b20>,\n",
       " <matplotlib.lines.Line2D at 0x1edafbb2b50>,\n",
       " <matplotlib.lines.Line2D at 0x1edafbb2c40>,\n",
       " <matplotlib.lines.Line2D at 0x1edafbb2d30>,\n",
       " <matplotlib.lines.Line2D at 0x1edafbb2e20>,\n",
       " <matplotlib.lines.Line2D at 0x1edafbb2f10>,\n",
       " <matplotlib.lines.Line2D at 0x1edafbc2040>,\n",
       " <matplotlib.lines.Line2D at 0x1edafbc2130>,\n",
       " <matplotlib.lines.Line2D at 0x1edafbc2220>,\n",
       " <matplotlib.lines.Line2D at 0x1edafbb2af0>,\n",
       " <matplotlib.lines.Line2D at 0x1edafbc2310>,\n",
       " <matplotlib.lines.Line2D at 0x1edafbc2400>,\n",
       " <matplotlib.lines.Line2D at 0x1edafbc25b0>,\n",
       " <matplotlib.lines.Line2D at 0x1edafbc26a0>,\n",
       " <matplotlib.lines.Line2D at 0x1edafbc2790>,\n",
       " <matplotlib.lines.Line2D at 0x1edafbc2880>,\n",
       " <matplotlib.lines.Line2D at 0x1edafbc2970>,\n",
       " <matplotlib.lines.Line2D at 0x1edafbc2a60>,\n",
       " <matplotlib.lines.Line2D at 0x1edafbc2b50>,\n",
       " <matplotlib.lines.Line2D at 0x1edafbc2c40>,\n",
       " <matplotlib.lines.Line2D at 0x1edafbc2d30>,\n",
       " <matplotlib.lines.Line2D at 0x1edafbc2e20>,\n",
       " <matplotlib.lines.Line2D at 0x1edafbc2f10>,\n",
       " <matplotlib.lines.Line2D at 0x1edafbcb040>,\n",
       " <matplotlib.lines.Line2D at 0x1edafbcb160>,\n",
       " <matplotlib.lines.Line2D at 0x1edafbcb250>,\n",
       " <matplotlib.lines.Line2D at 0x1edafbcb340>,\n",
       " <matplotlib.lines.Line2D at 0x1edafbcb430>,\n",
       " <matplotlib.lines.Line2D at 0x1edafbcb520>,\n",
       " <matplotlib.lines.Line2D at 0x1edafbcb610>,\n",
       " <matplotlib.lines.Line2D at 0x1edafbcb700>,\n",
       " <matplotlib.lines.Line2D at 0x1edafbcb7f0>,\n",
       " <matplotlib.lines.Line2D at 0x1edafbcb8e0>,\n",
       " <matplotlib.lines.Line2D at 0x1edafbcb9d0>,\n",
       " <matplotlib.lines.Line2D at 0x1edafbcbac0>,\n",
       " <matplotlib.lines.Line2D at 0x1edafbcbbb0>,\n",
       " <matplotlib.lines.Line2D at 0x1edafbcbca0>,\n",
       " <matplotlib.lines.Line2D at 0x1edafbcbd90>,\n",
       " <matplotlib.lines.Line2D at 0x1edafbcbe80>,\n",
       " <matplotlib.lines.Line2D at 0x1edafbcbf70>,\n",
       " <matplotlib.lines.Line2D at 0x1edafbd30a0>,\n",
       " <matplotlib.lines.Line2D at 0x1edafbd3190>,\n",
       " <matplotlib.lines.Line2D at 0x1edafbd3280>,\n",
       " <matplotlib.lines.Line2D at 0x1edafbd3370>,\n",
       " <matplotlib.lines.Line2D at 0x1edafbd3460>,\n",
       " <matplotlib.lines.Line2D at 0x1edafbd3550>,\n",
       " <matplotlib.lines.Line2D at 0x1edafbd3640>,\n",
       " <matplotlib.lines.Line2D at 0x1edafbd3730>,\n",
       " <matplotlib.lines.Line2D at 0x1edafbd3820>,\n",
       " <matplotlib.lines.Line2D at 0x1edafbd3910>,\n",
       " <matplotlib.lines.Line2D at 0x1edafbd3a00>,\n",
       " <matplotlib.lines.Line2D at 0x1edafbd3af0>,\n",
       " <matplotlib.lines.Line2D at 0x1edafbd3be0>,\n",
       " <matplotlib.lines.Line2D at 0x1edafbd3cd0>,\n",
       " <matplotlib.lines.Line2D at 0x1edafbd3dc0>,\n",
       " <matplotlib.lines.Line2D at 0x1edafbd3eb0>,\n",
       " <matplotlib.lines.Line2D at 0x1edafbd3fa0>,\n",
       " <matplotlib.lines.Line2D at 0x1edafbdd0d0>,\n",
       " <matplotlib.lines.Line2D at 0x1edafbdd1c0>,\n",
       " <matplotlib.lines.Line2D at 0x1edafbdd2b0>,\n",
       " <matplotlib.lines.Line2D at 0x1edafbdd3a0>,\n",
       " <matplotlib.lines.Line2D at 0x1edafbdd490>,\n",
       " <matplotlib.lines.Line2D at 0x1edafbdd580>,\n",
       " <matplotlib.lines.Line2D at 0x1edafbdd670>,\n",
       " <matplotlib.lines.Line2D at 0x1edafbdd760>,\n",
       " <matplotlib.lines.Line2D at 0x1edafbdd850>,\n",
       " <matplotlib.lines.Line2D at 0x1edafbdd940>,\n",
       " <matplotlib.lines.Line2D at 0x1edafbdda30>,\n",
       " <matplotlib.lines.Line2D at 0x1edafbddb20>,\n",
       " <matplotlib.lines.Line2D at 0x1edafbddc10>,\n",
       " <matplotlib.lines.Line2D at 0x1edafbddd00>,\n",
       " <matplotlib.lines.Line2D at 0x1edafbdddf0>,\n",
       " <matplotlib.lines.Line2D at 0x1edafbddee0>,\n",
       " <matplotlib.lines.Line2D at 0x1edafbddfd0>,\n",
       " <matplotlib.lines.Line2D at 0x1edafbe6100>,\n",
       " <matplotlib.lines.Line2D at 0x1edafbe61f0>,\n",
       " <matplotlib.lines.Line2D at 0x1edafbe62e0>,\n",
       " <matplotlib.lines.Line2D at 0x1edafbe63d0>,\n",
       " <matplotlib.lines.Line2D at 0x1edafbe64c0>,\n",
       " <matplotlib.lines.Line2D at 0x1edafbe65b0>,\n",
       " <matplotlib.lines.Line2D at 0x1edafbe66a0>,\n",
       " <matplotlib.lines.Line2D at 0x1edafbe6790>,\n",
       " <matplotlib.lines.Line2D at 0x1edafbe6880>,\n",
       " <matplotlib.lines.Line2D at 0x1edafbe6970>,\n",
       " <matplotlib.lines.Line2D at 0x1edafbe6a60>,\n",
       " <matplotlib.lines.Line2D at 0x1edafbe6b50>,\n",
       " <matplotlib.lines.Line2D at 0x1edafbe6c40>,\n",
       " <matplotlib.lines.Line2D at 0x1edafbe6d30>,\n",
       " <matplotlib.lines.Line2D at 0x1edafbe6e20>,\n",
       " <matplotlib.lines.Line2D at 0x1edafbe6f10>,\n",
       " <matplotlib.lines.Line2D at 0x1edafbed040>,\n",
       " <matplotlib.lines.Line2D at 0x1edafbed130>,\n",
       " <matplotlib.lines.Line2D at 0x1edafbed220>,\n",
       " <matplotlib.lines.Line2D at 0x1edafbed310>,\n",
       " <matplotlib.lines.Line2D at 0x1edafbed400>,\n",
       " <matplotlib.lines.Line2D at 0x1edafbed4f0>,\n",
       " <matplotlib.lines.Line2D at 0x1edafbed5e0>,\n",
       " <matplotlib.lines.Line2D at 0x1edafbed6d0>,\n",
       " <matplotlib.lines.Line2D at 0x1edafbed7c0>,\n",
       " <matplotlib.lines.Line2D at 0x1edafbed8b0>,\n",
       " <matplotlib.lines.Line2D at 0x1edafbed9a0>,\n",
       " <matplotlib.lines.Line2D at 0x1edafbeda90>,\n",
       " <matplotlib.lines.Line2D at 0x1edafbedb80>,\n",
       " <matplotlib.lines.Line2D at 0x1edafbedc70>,\n",
       " <matplotlib.lines.Line2D at 0x1edafbedd60>,\n",
       " <matplotlib.lines.Line2D at 0x1edafbede50>,\n",
       " <matplotlib.lines.Line2D at 0x1edafbedf40>,\n",
       " <matplotlib.lines.Line2D at 0x1edafbf5070>,\n",
       " <matplotlib.lines.Line2D at 0x1edafbf5160>,\n",
       " <matplotlib.lines.Line2D at 0x1edafbf5250>,\n",
       " <matplotlib.lines.Line2D at 0x1edafbf5340>,\n",
       " <matplotlib.lines.Line2D at 0x1edafbf5430>,\n",
       " <matplotlib.lines.Line2D at 0x1edafbf5520>,\n",
       " <matplotlib.lines.Line2D at 0x1edafbf5610>,\n",
       " <matplotlib.lines.Line2D at 0x1edafbf5700>,\n",
       " <matplotlib.lines.Line2D at 0x1edafbf57f0>,\n",
       " <matplotlib.lines.Line2D at 0x1edafbf58e0>,\n",
       " <matplotlib.lines.Line2D at 0x1edafbf59d0>,\n",
       " <matplotlib.lines.Line2D at 0x1edafbf5ac0>,\n",
       " <matplotlib.lines.Line2D at 0x1edafbf5bb0>,\n",
       " <matplotlib.lines.Line2D at 0x1edafbf5ca0>,\n",
       " <matplotlib.lines.Line2D at 0x1edafbf5d90>,\n",
       " <matplotlib.lines.Line2D at 0x1edafbf5e80>,\n",
       " <matplotlib.lines.Line2D at 0x1edafbf5f70>,\n",
       " <matplotlib.lines.Line2D at 0x1edafbfd0a0>,\n",
       " <matplotlib.lines.Line2D at 0x1edafbfd190>,\n",
       " <matplotlib.lines.Line2D at 0x1edafbfd280>,\n",
       " <matplotlib.lines.Line2D at 0x1edafbfd370>,\n",
       " <matplotlib.lines.Line2D at 0x1edafbfd460>,\n",
       " <matplotlib.lines.Line2D at 0x1edafbfd550>,\n",
       " <matplotlib.lines.Line2D at 0x1edafbfd640>,\n",
       " <matplotlib.lines.Line2D at 0x1edafbfd730>,\n",
       " <matplotlib.lines.Line2D at 0x1edafbfd820>,\n",
       " <matplotlib.lines.Line2D at 0x1edafbfd910>,\n",
       " <matplotlib.lines.Line2D at 0x1edafbfda00>,\n",
       " <matplotlib.lines.Line2D at 0x1edafbfdaf0>,\n",
       " <matplotlib.lines.Line2D at 0x1edafbfdbe0>,\n",
       " <matplotlib.lines.Line2D at 0x1edafbfdcd0>,\n",
       " <matplotlib.lines.Line2D at 0x1edafbfddc0>,\n",
       " <matplotlib.lines.Line2D at 0x1edafbfdeb0>,\n",
       " <matplotlib.lines.Line2D at 0x1edafbfdfa0>,\n",
       " <matplotlib.lines.Line2D at 0x1edafc050d0>,\n",
       " <matplotlib.lines.Line2D at 0x1edafc051c0>,\n",
       " <matplotlib.lines.Line2D at 0x1edafc052b0>,\n",
       " <matplotlib.lines.Line2D at 0x1edafc053a0>,\n",
       " <matplotlib.lines.Line2D at 0x1edafc05490>,\n",
       " <matplotlib.lines.Line2D at 0x1edafc05580>,\n",
       " <matplotlib.lines.Line2D at 0x1edafc05670>,\n",
       " <matplotlib.lines.Line2D at 0x1edafc05760>,\n",
       " <matplotlib.lines.Line2D at 0x1edafc05850>,\n",
       " <matplotlib.lines.Line2D at 0x1edafc05940>,\n",
       " <matplotlib.lines.Line2D at 0x1edafc05a30>,\n",
       " <matplotlib.lines.Line2D at 0x1edafc05b20>,\n",
       " <matplotlib.lines.Line2D at 0x1edafc05c10>,\n",
       " <matplotlib.lines.Line2D at 0x1edafc05d00>,\n",
       " <matplotlib.lines.Line2D at 0x1edafc05df0>,\n",
       " <matplotlib.lines.Line2D at 0x1edafc05ee0>,\n",
       " <matplotlib.lines.Line2D at 0x1edafc05fd0>,\n",
       " <matplotlib.lines.Line2D at 0x1edafc0c100>,\n",
       " <matplotlib.lines.Line2D at 0x1edafc0c1f0>,\n",
       " <matplotlib.lines.Line2D at 0x1edafc0c2e0>,\n",
       " <matplotlib.lines.Line2D at 0x1edafc0c3d0>,\n",
       " <matplotlib.lines.Line2D at 0x1edafc0c4c0>,\n",
       " <matplotlib.lines.Line2D at 0x1edafc0c5b0>,\n",
       " <matplotlib.lines.Line2D at 0x1edafc0c6a0>,\n",
       " <matplotlib.lines.Line2D at 0x1edafc0c790>,\n",
       " <matplotlib.lines.Line2D at 0x1edafc0c880>,\n",
       " <matplotlib.lines.Line2D at 0x1edafc0c970>,\n",
       " <matplotlib.lines.Line2D at 0x1edafc0ca60>,\n",
       " <matplotlib.lines.Line2D at 0x1edafc0cb50>,\n",
       " <matplotlib.lines.Line2D at 0x1edafc0cc40>,\n",
       " <matplotlib.lines.Line2D at 0x1edafc0cd30>,\n",
       " <matplotlib.lines.Line2D at 0x1edafc0ce20>,\n",
       " <matplotlib.lines.Line2D at 0x1edafc0cf10>,\n",
       " <matplotlib.lines.Line2D at 0x1edafc15040>,\n",
       " <matplotlib.lines.Line2D at 0x1edafc15130>,\n",
       " <matplotlib.lines.Line2D at 0x1edafc15220>,\n",
       " <matplotlib.lines.Line2D at 0x1edafc15310>,\n",
       " <matplotlib.lines.Line2D at 0x1edafc15400>,\n",
       " <matplotlib.lines.Line2D at 0x1edafc154f0>,\n",
       " <matplotlib.lines.Line2D at 0x1edafc155e0>,\n",
       " <matplotlib.lines.Line2D at 0x1edafc156d0>,\n",
       " <matplotlib.lines.Line2D at 0x1edafc157c0>,\n",
       " <matplotlib.lines.Line2D at 0x1edafc158b0>,\n",
       " <matplotlib.lines.Line2D at 0x1edafc159a0>,\n",
       " <matplotlib.lines.Line2D at 0x1edafc15a90>,\n",
       " <matplotlib.lines.Line2D at 0x1edafc15b80>,\n",
       " <matplotlib.lines.Line2D at 0x1edafc15c70>,\n",
       " <matplotlib.lines.Line2D at 0x1edafc15d60>,\n",
       " <matplotlib.lines.Line2D at 0x1edafc15e50>,\n",
       " <matplotlib.lines.Line2D at 0x1edafc15f40>,\n",
       " <matplotlib.lines.Line2D at 0x1edafc1d070>,\n",
       " <matplotlib.lines.Line2D at 0x1edafc1d160>,\n",
       " <matplotlib.lines.Line2D at 0x1edafc1d250>,\n",
       " <matplotlib.lines.Line2D at 0x1edafc1d340>,\n",
       " <matplotlib.lines.Line2D at 0x1edafc1d430>,\n",
       " <matplotlib.lines.Line2D at 0x1edafc1d520>,\n",
       " <matplotlib.lines.Line2D at 0x1edafc1d610>,\n",
       " <matplotlib.lines.Line2D at 0x1edafc1d700>,\n",
       " <matplotlib.lines.Line2D at 0x1edafc1d7f0>,\n",
       " <matplotlib.lines.Line2D at 0x1edafc1d8e0>,\n",
       " <matplotlib.lines.Line2D at 0x1edafc1d9d0>,\n",
       " <matplotlib.lines.Line2D at 0x1edafc1dac0>,\n",
       " <matplotlib.lines.Line2D at 0x1edafc1dbb0>,\n",
       " <matplotlib.lines.Line2D at 0x1edafc1dca0>,\n",
       " <matplotlib.lines.Line2D at 0x1edafc1dd90>,\n",
       " <matplotlib.lines.Line2D at 0x1edafc1de80>,\n",
       " <matplotlib.lines.Line2D at 0x1edafc1df70>,\n",
       " <matplotlib.lines.Line2D at 0x1edafc250a0>,\n",
       " <matplotlib.lines.Line2D at 0x1edafc25190>,\n",
       " <matplotlib.lines.Line2D at 0x1edafc25280>,\n",
       " <matplotlib.lines.Line2D at 0x1edafc25370>,\n",
       " <matplotlib.lines.Line2D at 0x1edafc25460>,\n",
       " <matplotlib.lines.Line2D at 0x1edafc25550>,\n",
       " <matplotlib.lines.Line2D at 0x1edafc25640>,\n",
       " <matplotlib.lines.Line2D at 0x1edafc25730>,\n",
       " <matplotlib.lines.Line2D at 0x1edafc25820>,\n",
       " <matplotlib.lines.Line2D at 0x1edafc25910>,\n",
       " <matplotlib.lines.Line2D at 0x1edafc25a00>,\n",
       " <matplotlib.lines.Line2D at 0x1edafc25af0>,\n",
       " <matplotlib.lines.Line2D at 0x1edafc25be0>,\n",
       " <matplotlib.lines.Line2D at 0x1edafc25cd0>,\n",
       " <matplotlib.lines.Line2D at 0x1edafc25dc0>,\n",
       " <matplotlib.lines.Line2D at 0x1edafc25eb0>,\n",
       " <matplotlib.lines.Line2D at 0x1edafc25fa0>,\n",
       " <matplotlib.lines.Line2D at 0x1edafc2d0d0>]"
      ]
     },
     "execution_count": 11,
     "metadata": {},
     "output_type": "execute_result"
    },
    {
     "data": {
      "image/png": "[encoded data removed]",
      "text/plain": [
       "<Figure size 640x480 with 1 Axes>"
      ]
     },
     "metadata": {},
     "output_type": "display_data"
    }
   ],
   "source": [
    "plt.plot(solution2['Cell temperature [K]'].entries )"
   ]
  },
  {
   "cell_type": "code",
   "execution_count": 12,
   "metadata": {},
   "outputs": [
    {
     "data": {
      "text/plain": [
       "array([[27.81351622, 27.67506053, 27.50454386, ..., 37.00377221,\n",
       "        37.75469088, 38.0990555 ],\n",
       "       [27.81351622, 27.67506053, 27.50454386, ..., 37.00377221,\n",
       "        37.75469088, 38.0990555 ],\n",
       "       [27.81351622, 27.67506053, 27.50454386, ..., 37.00377221,\n",
       "        37.75469088, 38.0990555 ],\n",
       "       ...,\n",
       "       [27.81351622, 27.67506053, 27.50454386, ..., 37.00377221,\n",
       "        37.75469088, 38.0990555 ],\n",
       "       [27.81351622, 27.67506053, 27.50454386, ..., 37.00377221,\n",
       "        37.75469088, 38.0990555 ],\n",
       "       [27.81351622, 27.67506053, 27.50454386, ..., 37.00377221,\n",
       "        37.75469088, 38.0990555 ]])"
      ]
     },
     "execution_count": 12,
     "metadata": {},
     "output_type": "execute_result"
    }
   ],
   "source": [
    "solution2['Cell temperature [C]'].entries "
   ]
  }
 ],
 "metadata": {
  "kernelspec": {
   "display_name": "envPBGEM",
   "language": "python",
   "name": "python3"
  },
  "language_info": {
   "codemirror_mode": {
    "name": "ipython",
    "version": 3
   },
   "file_extension": ".py",
   "mimetype": "text/x-python",
   "name": "python",
   "nbconvert_exporter": "python",
   "pygments_lexer": "ipython3",
   "version": "3.9.6"
  },
  "orig_nbformat": 4,
  "vscode": {
   "interpreter": {
    "hash": "83fab7fbb3a8fe7b5910804f702478ef63e2cc6a08d85072a5d68865ed0fd8c7"
   }
  }
 },
 "nbformat": 4,
 "nbformat_minor": 2
}
