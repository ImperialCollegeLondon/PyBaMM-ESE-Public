{
 "cells": [
  {
   "cell_type": "code",
   "execution_count": null,
   "metadata": {},
   "outputs": [],
   "source": [
    "import pybamm"
   ]
  },
  {
   "cell_type": "code",
   "execution_count": null,
   "metadata": {},
   "outputs": [],
   "source": [
    "charge_time_mins = 60 * 4.86491/5\n",
    "exp_Niall_1 = pybamm.Experiment(\n",
    "    [...] \n",
    "    + \n",
    "    [(\n",
    "        \"Discharge at 1C until 2.5 V\", \n",
    "        f\"Charge at 0.3C for {charge_time_mins} minutes\"\n",
    "        )] * 257 + [...])"
   ]
  },
  {
   "cell_type": "code",
   "execution_count": null,
   "metadata": {},
   "outputs": [],
   "source": [
    "discharge_time_mins = 9 * 4.86491/5\n",
    "exp_Niall_3 = pybamm.Experiment(\n",
    "    [...] \n",
    "    + \n",
    "    [(\n",
    "        f\"Discharge at 1C for {discharge_time_mins} minutes\", \n",
    "        \"Charge at 0.3C until 4.2 V\", \n",
    "        \"Hold at 4.2 V until C/100\"\n",
    "        )] * 514 + [...])"
   ]
  }
 ],
 "metadata": {
  "kernelspec": {
   "display_name": "envPBGEM",
   "language": "python",
   "name": "python3"
  },
  "language_info": {
   "name": "python",
   "version": "3.9.6"
  },
  "orig_nbformat": 4,
  "vscode": {
   "interpreter": {
    "hash": "83fab7fbb3a8fe7b5910804f702478ef63e2cc6a08d85072a5d68865ed0fd8c7"
   }
  }
 },
 "nbformat": 4,
 "nbformat_minor": 2
}
