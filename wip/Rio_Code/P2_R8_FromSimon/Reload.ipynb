{
 "cells": [
  {
   "cell_type": "code",
   "execution_count": 1,
   "metadata": {},
   "outputs": [],
   "source": [
    "import pybamm as pb;import pandas as pd   ;import numpy as np;import os;import matplotlib.pyplot as plt;import os;#import imageio\n",
    "from scipy.io import savemat,loadmat;from pybamm import constants,exp;import matplotlib as mpl; fs=17; # or we can set import matplotlib.pyplot as plt then say 'mpl.rc...'\n",
    "import openpyxl\n",
    "import traceback\n",
    "import multiprocessing\n",
    "import scipy.optimize\n",
    "import random;import time, signal\n",
    "fs=17;\n",
    "font = {'family' : 'DejaVu Sans','size'   : fs}\n",
    "mpl.rc('font', **font)"
   ]
  },
  {
   "cell_type": "code",
   "execution_count": 2,
   "metadata": {},
   "outputs": [],
   "source": [
    "# Reload all scans in this round! \n",
    "BasicPath = 'D:/OneDrive - Imperial College London/SimDataSave/P2_R8_FromSimon/'; \n",
    "# Initialize the big dict:\n",
    "Targets = [\"Test_MultiTask_Long\"]\n",
    "Scan_Num = [2,]\n",
    "Test_MultiTask_Long = {}\n",
    "for target,scan_num in zip(Targets,Scan_Num):\n",
    "    Test_MultiTask_Long[target] = {}\n",
    "    Scans = np.arange(1,scan_num+1,1).tolist()\n",
    "    for scan in Scans:\n",
    "        Test_MultiTask_Long[target][str(scan)]={}\n",
    "        try:\n",
    "            Test_MultiTask_Long[target][str(scan)] = loadmat( \n",
    "            BasicPath  +   target+ \"/\" + str(scan) + \"/\" \n",
    "            + str(scan)+ \"-StructDara_for_Mat.mat\")\n",
    "        except:\n",
    "            print(f\"Nothing in {target}, Scan {scan}\")"
   ]
  },
  {
   "cell_type": "code",
   "execution_count": 13,
   "metadata": {},
   "outputs": [
    {
     "name": "stdout",
     "output_type": "stream",
     "text": [
      "[[100.          99.73647126  99.64591288  99.5712588   99.50581509\n",
      "   99.44666795  99.39220117  99.34140917  99.29360697  99.24829831\n",
      "   99.20512521]]\n",
      "[[4.89178657 4.8788953  4.87446538 4.87081346 4.86761209 4.86471874\n",
      "  4.86205434 4.85956971 4.85723133 4.85501492 4.85290299]]\n"
     ]
    }
   ],
   "source": [
    "print(Test_MultiTask_Long[\"Test_MultiTask_Long\"][\"1\"][\"CDend SOH [%]\"] )\n",
    "print(Test_MultiTask_Long[\"Test_MultiTask_Long\"][\"1\"][\"Discharge capacity [A.h]\"] )"
   ]
  },
  {
   "cell_type": "code",
   "execution_count": 12,
   "metadata": {},
   "outputs": [
    {
     "name": "stdout",
     "output_type": "stream",
     "text": [
      "[[0.00489179 0.0048789  0.00487447 0.00487081 0.00486761 0.00486472\n",
      "  0.00486205 0.00485957 0.00485723 0.00485501 0.0048529 ]]\n",
      "[[4.89178657 4.8788953  4.87446538 4.87081346 4.86761209 4.86471874\n",
      "  4.86205434 4.85956971 4.85723133 4.85501492 4.85290299]]\n",
      "[[  0  50  50 100 100 150 150 200 200 250 250 300 300 350 350 400 400 450\n",
      "  450 500 500]]\n"
     ]
    }
   ],
   "source": [
    "print(Test_MultiTask_Long[\"Test_MultiTask_Long\"][\"1\"]['CDend Throughput capacity [kA.h]'] ) # \n",
    "print(Test_MultiTask_Long[\"Test_MultiTask_Long\"][\"1\"]['CDend Throughput capacity [A.h]'] ) # \n",
    "print(Test_MultiTask_Long[\"Test_MultiTask_Long\"][\"1\"]['Cyc_Update_Index'] ) # "
   ]
  },
  {
   "cell_type": "code",
   "execution_count": 15,
   "metadata": {},
   "outputs": [
    {
     "name": "stdout",
     "output_type": "stream",
     "text": [
      "11\n",
      "11\n",
      "21\n"
     ]
    }
   ],
   "source": [
    "print(len(Test_MultiTask_Long[\"Test_MultiTask_Long\"][\"1\"]['CDend Throughput capacity [kA.h]'][0]) ) # \n",
    "print(len(Test_MultiTask_Long[\"Test_MultiTask_Long\"][\"1\"]['CDend Throughput capacity [A.h]'][0]) ) # \n",
    "print(len(Test_MultiTask_Long[\"Test_MultiTask_Long\"][\"1\"]['Cyc_Update_Index'][0]) ) # "
   ]
  }
 ],
 "metadata": {
  "kernelspec": {
   "display_name": "envPBGEM",
   "language": "python",
   "name": "python3"
  },
  "language_info": {
   "codemirror_mode": {
    "name": "ipython",
    "version": 3
   },
   "file_extension": ".py",
   "mimetype": "text/x-python",
   "name": "python",
   "nbconvert_exporter": "python",
   "pygments_lexer": "ipython3",
   "version": "3.9.6"
  },
  "orig_nbformat": 4,
  "vscode": {
   "interpreter": {
    "hash": "83fab7fbb3a8fe7b5910804f702478ef63e2cc6a08d85072a5d68865ed0fd8c7"
   }
  }
 },
 "nbformat": 4,
 "nbformat_minor": 2
}
