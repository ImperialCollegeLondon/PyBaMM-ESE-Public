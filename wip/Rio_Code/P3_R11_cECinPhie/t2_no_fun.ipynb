{
 "cells": [
  {
   "cell_type": "code",
   "execution_count": 1,
   "metadata": {},
   "outputs": [],
   "source": [
    "import pybamm;import pandas as pd   ;import numpy as np;import os;import matplotlib.pyplot as plt;import os;#import imageio\n",
    "from scipy.io import savemat,loadmat;from pybamm import constants,exp;\n",
    "import matplotlib as mpl; \n",
    "fs=17; # or we can set import matplotlib.pyplot as plt then say 'mpl.rc...'\n",
    "import openpyxl\n",
    "import traceback\n",
    "import multiprocessing\n",
    "font = {'family' : 'DejaVu Sans','size'   : fs}\n",
    "mpl.rc('font', **font)"
   ]
  },
  {
   "cell_type": "code",
   "execution_count": 2,
   "metadata": {},
   "outputs": [],
   "source": [
    "V_max = 4.2;        V_min = 2.5;\n",
    "exp  = pybamm.Experiment(\n",
    "    [ (\n",
    "        f\"Discharge at 1 C until {V_min} V\", \n",
    "        f\"Charge at 1 C until {V_max} V\", \n",
    "        f\"Hold at {V_max} V until C/5\")    ] * 1 )  \n",
    "Model_0  = pybamm.lithium_ion.DFN(options={\n",
    "    \"solvent diffusion\": \"double spatial consume w refill\",\n",
    "    \"electrolyte conductivity\": \"full\"  ,\n",
    "    }) \n",
    "Model_1  = pybamm.lithium_ion.DFN(options={\n",
    "    \"solvent diffusion\": \"double spatial consume w refill\",\n",
    "    \"electrolyte conductivity\": \"sol full\"  ,\n",
    "    }) "
   ]
  },
  {
   "cell_type": "code",
   "execution_count": 3,
   "metadata": {},
   "outputs": [],
   "source": [
    "# Run model without electrolyte dry out\n",
    "Para_0=pybamm.ParameterValues(\"Li2023_ECdrag\")\n",
    "Para_1=pybamm.ParameterValues(\"Li2023_ECdrag\")"
   ]
  },
  {
   "cell_type": "code",
   "execution_count": 4,
   "metadata": {},
   "outputs": [],
   "source": [
    "Sim_0    = pybamm.Simulation(\n",
    "    Model_0, experiment = exp,\n",
    "    parameter_values = Para_0,\n",
    "    solver = pybamm.CasadiSolver(),)       \n",
    "Sol_0    = Sim_0.solve()"
   ]
  },
  {
   "cell_type": "code",
   "execution_count": 5,
   "metadata": {},
   "outputs": [],
   "source": [
    "Sim_1    = pybamm.Simulation(\n",
    "    Model_1, experiment = exp,\n",
    "    parameter_values = Para_0,\n",
    "    solver = pybamm.CasadiSolver(),)       \n",
    "Sol_1    = Sim_1.solve()"
   ]
  },
  {
   "cell_type": "code",
   "execution_count": 6,
   "metadata": {},
   "outputs": [
    {
     "data": {
      "application/vnd.jupyter.widget-view+json": {
       "model_id": "271acbeb109d4a18b4431beb660e3787",
       "version_major": 2,
       "version_minor": 0
      },
      "text/plain": [
       "interactive(children=(FloatSlider(value=0.0, description='t', max=2.1768826497874665, step=0.02176882649787466…"
      ]
     },
     "metadata": {},
     "output_type": "display_data"
    }
   ],
   "source": [
    "label = [\"Sol NOT affect potential\",\"Sol affect potential\",] \n",
    "output_variables3 = [\n",
    "    \"Electrolyte potential [V]\",\n",
    "    \"Positive electrode potential [V]\",\n",
    "    \"Negative electrode potential [V]\",\n",
    "    \"Positive current collector potential [V]\", \n",
    "    \"Terminal voltage [V]\", \n",
    "]\n",
    "quick_plot = pybamm.QuickPlot(\n",
    "    [Sol_0,Sol_1], output_variables3,label,variable_limits='fixed',\n",
    "    time_unit='hours',\n",
    "    spatial_unit='mm',     #  (“m”, “mm”, or “um”)\n",
    "    n_rows=2) #figsize = (18,12),\n",
    "quick_plot.dynamic_plot()"
   ]
  },
  {
   "cell_type": "code",
   "execution_count": null,
   "metadata": {},
   "outputs": [],
   "source": []
  },
  {
   "cell_type": "code",
   "execution_count": null,
   "metadata": {},
   "outputs": [],
   "source": []
  },
  {
   "cell_type": "code",
   "execution_count": null,
   "metadata": {},
   "outputs": [],
   "source": []
  },
  {
   "cell_type": "code",
   "execution_count": null,
   "metadata": {},
   "outputs": [],
   "source": []
  },
  {
   "cell_type": "code",
   "execution_count": null,
   "metadata": {},
   "outputs": [],
   "source": []
  },
  {
   "cell_type": "code",
   "execution_count": null,
   "metadata": {},
   "outputs": [],
   "source": []
  },
  {
   "cell_type": "code",
   "execution_count": null,
   "metadata": {},
   "outputs": [],
   "source": []
  }
 ],
 "metadata": {
  "kernelspec": {
   "display_name": "Python 3.9.6 ('envSolCon')",
   "language": "python",
   "name": "python3"
  },
  "language_info": {
   "codemirror_mode": {
    "name": "ipython",
    "version": 3
   },
   "file_extension": ".py",
   "mimetype": "text/x-python",
   "name": "python",
   "nbconvert_exporter": "python",
   "pygments_lexer": "ipython3",
   "version": "3.9.6 (tags/v3.9.6:db3ff76, Jun 28 2021, 15:26:21) [MSC v.1929 64 bit (AMD64)]"
  },
  "orig_nbformat": 4,
  "vscode": {
   "interpreter": {
    "hash": "5ae0c684446e40f7574a1a9821257f2365ba43f34c15f5f2e3dcabca0bad9ab7"
   }
  }
 },
 "nbformat": 4,
 "nbformat_minor": 2
}
