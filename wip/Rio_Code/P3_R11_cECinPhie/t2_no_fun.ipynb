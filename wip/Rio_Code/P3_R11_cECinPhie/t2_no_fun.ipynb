{
 "cells": [
  {
   "cell_type": "code",
   "execution_count": 1,
   "metadata": {},
   "outputs": [],
   "source": [
    "import pybamm;import pandas as pd   ;import numpy as np;import os;import matplotlib.pyplot as plt;import os;#import imageio\n",
    "from scipy.io import savemat,loadmat;from pybamm import constants,exp;\n",
    "import matplotlib as mpl; \n",
    "fs=17; # or we can set import matplotlib.pyplot as plt then say 'mpl.rc...'\n",
    "import openpyxl\n",
    "import traceback\n",
    "import multiprocessing\n",
    "font = {'family' : 'DejaVu Sans','size'   : fs}\n",
    "mpl.rc('font', **font)"
   ]
  },
  {
   "cell_type": "code",
   "execution_count": 4,
   "metadata": {},
   "outputs": [],
   "source": [
    "V_max = 4.2;        V_min = 2.5;\n",
    "exp  = pybamm.Experiment(\n",
    "    [ (\n",
    "        f\"Discharge at 1 C until {V_min} V\", \n",
    "        f\"Charge at 1 C until {V_max} V\", \n",
    "        f\"Hold at {V_max} V until C/5\")    ] * 1 )  \n",
    "Model_0  = pybamm.lithium_ion.DFN(options={\n",
    "    \"solvent diffusion\": \"double spatial consume w refill\",\n",
    "    \"electrolyte conductivity\": \"full\"  ,\n",
    "    }) \n",
    "Model_1  = pybamm.lithium_ion.DFN(options={\n",
    "    \"solvent diffusion\": \"double spatial consume w refill\",\n",
    "    \"electrolyte conductivity\": \"sol full\"  ,\n",
    "    }) "
   ]
  },
  {
   "cell_type": "code",
   "execution_count": 6,
   "metadata": {},
   "outputs": [],
   "source": [
    "# Run model without electrolyte dry out\n",
    "Para_0=pybamm.ParameterValues(\"Li2023_ECdrag\")"
   ]
  },
  {
   "cell_type": "code",
   "execution_count": 7,
   "metadata": {},
   "outputs": [],
   "source": [
    "Sim_0    = pybamm.Simulation(\n",
    "    Model_0, experiment = exp,\n",
    "    parameter_values = Para_0,\n",
    "    solver = pybamm.CasadiSolver(),)       \n",
    "Sol_0    = Sim_0.solve()"
   ]
  },
  {
   "cell_type": "code",
   "execution_count": 8,
   "metadata": {},
   "outputs": [],
   "source": [
    "Sim_1    = pybamm.Simulation(\n",
    "    Model_1, experiment = exp,\n",
    "    parameter_values = Para_0,\n",
    "    solver = pybamm.CasadiSolver(),)       \n",
    "Sol_1    = Sim_1.solve()"
   ]
  },
  {
   "cell_type": "code",
   "execution_count": 10,
   "metadata": {},
   "outputs": [
    {
     "data": {
      "application/vnd.jupyter.widget-view+json": {
       "model_id": "83163cf95dc040a9b4cc6716b0fa9c08",
       "version_major": 2,
       "version_minor": 0
      },
      "text/plain": [
       "interactive(children=(FloatSlider(value=0.0, description='t', max=2.1787232685683717, step=0.02178723268568371…"
      ]
     },
     "metadata": {},
     "output_type": "display_data"
    }
   ],
   "source": [
    "label = [\"Sol NOT affect potential\",\"Sol affect potential\",] \n",
    "output_variables3 = [\n",
    "    \"Electrolyte potential [V]\",\n",
    "    \"Positive electrode potential [V]\",\n",
    "    \"Negative electrode potential [V]\",\n",
    "    \"Positive current collector potential [V]\", \n",
    "    \"Terminal voltage [V]\", \n",
    "]\n",
    "quick_plot = pybamm.QuickPlot(\n",
    "    [Sol_0,Sol_1], output_variables3,label,variable_limits='fixed',\n",
    "    time_unit='hours',\n",
    "    spatial_unit='mm',     #  (“m”, “mm”, or “um”)\n",
    "    n_rows=2) #figsize = (18,12),\n",
    "quick_plot.dynamic_plot()"
   ]
  },
  {
   "cell_type": "code",
   "execution_count": 14,
   "metadata": {},
   "outputs": [
    {
     "data": {
      "application/vnd.jupyter.widget-view+json": {
       "model_id": "b35f3ac8532f493cab3fc30217923eb7",
       "version_major": 2,
       "version_minor": 0
      },
      "text/plain": [
       "interactive(children=(FloatSlider(value=0.0, description='t', max=4.134631245347678, step=0.04134631245347678)…"
      ]
     },
     "metadata": {},
     "output_type": "display_data"
    }
   ],
   "source": [
    "quick_plot = pybamm.QuickPlot(Sol_0) #     \n",
    "quick_plot.dynamic_plot();\n"
   ]
  },
  {
   "cell_type": "code",
   "execution_count": 15,
   "metadata": {},
   "outputs": [
    {
     "ename": "AttributeError",
     "evalue": "'set' object has no attribute 'items'",
     "output_type": "error",
     "traceback": [
      "\u001b[1;31m---------------------------------------------------------------------------\u001b[0m",
      "\u001b[1;31mAttributeError\u001b[0m                            Traceback (most recent call last)",
      "\u001b[1;32md:\\PhD model acer\\envECdrag\\PyBaMM-GEM\\wip\\Rio_Code\\P3_R1\\EC_Drag_debug_0905.ipynb Cell 16\u001b[0m in \u001b[0;36m<cell line: 14>\u001b[1;34m()\u001b[0m\n\u001b[0;32m     <a href='vscode-notebook-cell:/d%3A/PhD%20model%20acer/envECdrag/PyBaMM-GEM/wip/Rio_Code/P3_R1/EC_Drag_debug_0905.ipynb#X20sZmlsZQ%3D%3D?line=16'>17</a>\u001b[0m     vars_in_eqns_dict \u001b[39m=\u001b[39m unpacker\u001b[39m.\u001b[39munpack_symbol(eqn)\n\u001b[0;32m     <a href='vscode-notebook-cell:/d%3A/PhD%20model%20acer/envECdrag/PyBaMM-GEM/wip/Rio_Code/P3_R1/EC_Drag_debug_0905.ipynb#X20sZmlsZQ%3D%3D?line=18'>19</a>\u001b[0m     \u001b[39m# Store ids only\u001b[39;00m\n\u001b[0;32m     <a href='vscode-notebook-cell:/d%3A/PhD%20model%20acer/envECdrag/PyBaMM-GEM/wip/Rio_Code/P3_R1/EC_Drag_debug_0905.ipynb#X20sZmlsZQ%3D%3D?line=19'>20</a>\u001b[0m     \u001b[39m# Look only for Variable (not VariableDot) in rhs keys\u001b[39;00m\n\u001b[0;32m     <a href='vscode-notebook-cell:/d%3A/PhD%20model%20acer/envECdrag/PyBaMM-GEM/wip/Rio_Code/P3_R1/EC_Drag_debug_0905.ipynb#X20sZmlsZQ%3D%3D?line=20'>21</a>\u001b[0m     vars_in_rhs_keys\u001b[39m.\u001b[39mupdate(\n\u001b[0;32m     <a href='vscode-notebook-cell:/d%3A/PhD%20model%20acer/envECdrag/PyBaMM-GEM/wip/Rio_Code/P3_R1/EC_Drag_debug_0905.ipynb#X20sZmlsZQ%3D%3D?line=21'>22</a>\u001b[0m         [\n\u001b[0;32m     <a href='vscode-notebook-cell:/d%3A/PhD%20model%20acer/envECdrag/PyBaMM-GEM/wip/Rio_Code/P3_R1/EC_Drag_debug_0905.ipynb#X20sZmlsZQ%3D%3D?line=22'>23</a>\u001b[0m             var_id\n\u001b[1;32m---> <a href='vscode-notebook-cell:/d%3A/PhD%20model%20acer/envECdrag/PyBaMM-GEM/wip/Rio_Code/P3_R1/EC_Drag_debug_0905.ipynb#X20sZmlsZQ%3D%3D?line=23'>24</a>\u001b[0m             \u001b[39mfor\u001b[39;00m var_id, var \u001b[39min\u001b[39;00m vars_in_rhs_keys_dict\u001b[39m.\u001b[39;49mitems()\n\u001b[0;32m     <a href='vscode-notebook-cell:/d%3A/PhD%20model%20acer/envECdrag/PyBaMM-GEM/wip/Rio_Code/P3_R1/EC_Drag_debug_0905.ipynb#X20sZmlsZQ%3D%3D?line=24'>25</a>\u001b[0m             \u001b[39mif\u001b[39;00m \u001b[39misinstance\u001b[39m(var, pybamm\u001b[39m.\u001b[39mVariable)\n\u001b[0;32m     <a href='vscode-notebook-cell:/d%3A/PhD%20model%20acer/envECdrag/PyBaMM-GEM/wip/Rio_Code/P3_R1/EC_Drag_debug_0905.ipynb#X20sZmlsZQ%3D%3D?line=25'>26</a>\u001b[0m         ]\n\u001b[0;32m     <a href='vscode-notebook-cell:/d%3A/PhD%20model%20acer/envECdrag/PyBaMM-GEM/wip/Rio_Code/P3_R1/EC_Drag_debug_0905.ipynb#X20sZmlsZQ%3D%3D?line=26'>27</a>\u001b[0m     )\n\u001b[0;32m     <a href='vscode-notebook-cell:/d%3A/PhD%20model%20acer/envECdrag/PyBaMM-GEM/wip/Rio_Code/P3_R1/EC_Drag_debug_0905.ipynb#X20sZmlsZQ%3D%3D?line=27'>28</a>\u001b[0m     vars_in_eqns\u001b[39m.\u001b[39mupdate(vars_in_eqns_dict\u001b[39m.\u001b[39mkeys())\n\u001b[0;32m     <a href='vscode-notebook-cell:/d%3A/PhD%20model%20acer/envECdrag/PyBaMM-GEM/wip/Rio_Code/P3_R1/EC_Drag_debug_0905.ipynb#X20sZmlsZQ%3D%3D?line=28'>29</a>\u001b[0m \u001b[39mfor\u001b[39;00m var, eqn \u001b[39min\u001b[39;00m Model_0\u001b[39m.\u001b[39malgebraic\u001b[39m.\u001b[39mitems():\n\u001b[0;32m     <a href='vscode-notebook-cell:/d%3A/PhD%20model%20acer/envECdrag/PyBaMM-GEM/wip/Rio_Code/P3_R1/EC_Drag_debug_0905.ipynb#X20sZmlsZQ%3D%3D?line=29'>30</a>\u001b[0m     \u001b[39m# Find all variables and variabledot objects\u001b[39;00m\n",
      "\u001b[1;31mAttributeError\u001b[0m: 'set' object has no attribute 'items'"
     ]
    }
   ],
   "source": [
    "\"\"\"Check that the model is not under- or over-determined.\"\"\"\n",
    "# Equations (differential and algebraic)\n",
    "# Get all the variables from differential and algebraic equations\n",
    "vars_in_rhs_keys = set()\n",
    "vars_in_algebraic_keys = set()\n",
    "vars_in_eqns = set()\n",
    "# Get all variables ids from rhs and algebraic keys and equations, and\n",
    "# from boundary conditions\n",
    "# For equations we look through the whole expression tree.\n",
    "# \"Variables\" can be Concatenations so we also have to look in the whole\n",
    "# expression tree\n",
    "unpacker = pybamm.SymbolUnpacker((pybamm.Variable, pybamm.VariableDot))\n",
    "\n",
    "for var, eqn in Model_0.rhs.items():\n",
    "    # Find all variables and variabledot objects\n",
    "    vars_in_rhs_keys_dict = unpacker.unpack_symbol(var)\n",
    "    vars_in_eqns_dict = unpacker.unpack_symbol(eqn)\n",
    "\n",
    "    # Store ids only\n",
    "    # Look only for Variable (not VariableDot) in rhs keys\n",
    "    vars_in_rhs_keys.update(\n",
    "        [\n",
    "            var_id\n",
    "            for var_id, var in vars_in_rhs_keys_dict.items()\n",
    "            if isinstance(var, pybamm.Variable)\n",
    "        ]\n",
    "    )\n",
    "    vars_in_eqns.update(vars_in_eqns_dict.keys())\n",
    "for var, eqn in Model_0.algebraic.items():\n",
    "    # Find all variables and variabledot objects\n",
    "    vars_in_algebraic_keys_dict = unpacker.unpack_symbol(var)\n",
    "    vars_in_eqns_dict = unpacker.unpack_symbol(eqn)\n",
    "\n",
    "    # Store ids only\n",
    "    # Look only for Variable (not VariableDot) in algebraic keys\n",
    "    vars_in_algebraic_keys.update(\n",
    "        [\n",
    "            var_id\n",
    "            for var_id, var in vars_in_algebraic_keys_dict.items()\n",
    "            if isinstance(var, pybamm.Variable)\n",
    "        ]\n",
    "    )\n",
    "    vars_in_eqns.update(vars_in_eqns_dict.keys())\n",
    "for var, side_eqn in Model_0.boundary_conditions.items():\n",
    "    for side, (eqn, typ) in side_eqn.items():\n",
    "        vars_in_eqns_dict = unpacker.unpack_symbol(eqn)\n",
    "        vars_in_eqns.update(vars_in_eqns_dict.keys())\n",
    "\n",
    "# If any keys are repeated between rhs and algebraic then the model is\n",
    "# overdetermined\n",
    "if not set(vars_in_rhs_keys).isdisjoint(vars_in_algebraic_keys):\n",
    "    print(\"model is overdetermined (repeated keys)\")\n",
    "# If any algebraic keys don't appear in the eqns (or bcs) then the model is\n",
    "# overdetermined (but rhs keys can be absent from the eqns, e.g. dcdt = -1 is\n",
    "# fine)\n",
    "# Skip this step after discretisation, as any variables in the equations will\n",
    "# have been discretised to slices but keys will still be variables\n",
    "extra_algebraic_keys = vars_in_algebraic_keys.difference(vars_in_eqns)\n",
    "# If any variables in the equations don't appear in the keys then the model is\n",
    "# underdetermined\n",
    "vars_in_keys = vars_in_rhs_keys.union(vars_in_algebraic_keys)\n",
    "extra_variables_in_equations = vars_in_eqns.difference(vars_in_keys)\n",
    "\n",
    "# get ids of external variables\n",
    "external_ids = {var.id for var in Model_0.external_variables}\n",
    "for var in Model_0.external_variables:\n",
    "    if isinstance(var, pybamm.Concatenation):\n",
    "        child_ids = {child.id for child in var.children}\n",
    "        external_ids = external_ids.union(child_ids)\n",
    "\n",
    "extra_variables = extra_variables_in_equations.difference(external_ids)\n",
    "\n",
    "if extra_variables:\n",
    "    print(\"model is underdetermined (too many variables)\")\n"
   ]
  },
  {
   "cell_type": "code",
   "execution_count": null,
   "metadata": {},
   "outputs": [],
   "source": [
    "for var, eqn in Model_0.rhs.items():\n",
    "    # Find all variables and variabledot objects\n",
    "    vars_in_rhs_keys_dict = unpacker.unpack_symbol(var)\n",
    "    vars_in_eqns_dict = unpacker.unpack_symbol(eqn)\n",
    "    print(vars_in_eqns_dict)\n",
    "    print(vars_in_rhs_keys_dict)\n",
    "    print('z')"
   ]
  },
  {
   "cell_type": "code",
   "execution_count": null,
   "metadata": {},
   "outputs": [],
   "source": [
    "for var in Model_0.external_variables:\n",
    "    print(var)"
   ]
  },
  {
   "cell_type": "code",
   "execution_count": null,
   "metadata": {},
   "outputs": [],
   "source": [
    "print(Model_0.variable_names)\n",
    "for key in Model_0._variables.keys():\n",
    "    print(key)"
   ]
  },
  {
   "cell_type": "code",
   "execution_count": null,
   "metadata": {},
   "outputs": [],
   "source": [
    "#print(Model_0.rhs.items())\n",
    "for var, eqn in Model_0.rhs.items():\n",
    "    print(var)\n",
    "    #print(eqn)\n"
   ]
  },
  {
   "cell_type": "code",
   "execution_count": null,
   "metadata": {},
   "outputs": [],
   "source": [
    "for var, eqn in Model_0.algebraic.items():\n",
    "    print(var)"
   ]
  },
  {
   "cell_type": "code",
   "execution_count": null,
   "metadata": {},
   "outputs": [],
   "source": [
    "print(extra_variables_in_equations)\n",
    "print(extra_variables)\n",
    "print(external_ids)"
   ]
  },
  {
   "cell_type": "code",
   "execution_count": null,
   "metadata": {},
   "outputs": [],
   "source": [
    "Model_0.submodels"
   ]
  }
 ],
 "metadata": {
  "kernelspec": {
   "display_name": "Python 3.9.6 ('envSolCon')",
   "language": "python",
   "name": "python3"
  },
  "language_info": {
   "codemirror_mode": {
    "name": "ipython",
    "version": 3
   },
   "file_extension": ".py",
   "mimetype": "text/x-python",
   "name": "python",
   "nbconvert_exporter": "python",
   "pygments_lexer": "ipython3",
   "version": "3.9.6"
  },
  "orig_nbformat": 4,
  "vscode": {
   "interpreter": {
    "hash": "5ae0c684446e40f7574a1a9821257f2365ba43f34c15f5f2e3dcabca0bad9ab7"
   }
  }
 },
 "nbformat": 4,
 "nbformat_minor": 2
}
