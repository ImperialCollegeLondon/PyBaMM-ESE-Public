{
 "cells": [
  {
   "cell_type": "code",
   "execution_count": 10,
   "metadata": {},
   "outputs": [],
   "source": [
    "import pybamm;import pandas as pd   ;import numpy as np;import os;import matplotlib.pyplot as plt;import os;#import imageio\n",
    "from scipy.io import savemat,loadmat;from pybamm import constants,exp;\n",
    "import matplotlib as mpl; \n",
    "fs=17; # or we can set import matplotlib.pyplot as plt then say 'mpl.rc...'\n",
    "import openpyxl\n",
    "import traceback\n",
    "import multiprocessing\n",
    "font = {'family' : 'DejaVu Sans','size'   : fs}\n",
    "mpl.rc('font', **font)"
   ]
  },
  {
   "cell_type": "code",
   "execution_count": 11,
   "metadata": {},
   "outputs": [],
   "source": [
    "V_max = 4.2;        V_min = 2.5;\n",
    "exp  = pybamm.Experiment(\n",
    "    [ (\n",
    "        f\"Discharge at 1 C until {V_min} V\", \n",
    "        f\"Charge at 1 C until {V_max} V\", \n",
    "        f\"Hold at {V_max} V until C/5\")    ] * 1 )  \n",
    "Model_0  = pybamm.lithium_ion.DFN(options={\n",
    "    \"solvent diffusion\": \"double spatial consume w refill\",\n",
    "    \"electrolyte conductivity\": \"sol full\"  ,\n",
    "    }) \n",
    "Model_1  = pybamm.lithium_ion.DFN(options={\n",
    "    \"solvent diffusion\": \"double spatial consume w refill\",\n",
    "    \"electrolyte conductivity\": \"sol full\"  ,\n",
    "    }) "
   ]
  },
  {
   "cell_type": "code",
   "execution_count": 12,
   "metadata": {},
   "outputs": [],
   "source": [
    "def EC_diffusivity_5E_5(c_e, c_EC , T):\n",
    "    D_ec_dim = (\n",
    "        (c_EC >= 0 ) * 5e-5 \n",
    "        +  (c_EC < 0 ) * 0 \n",
    "    )\n",
    "    return D_ec_dim\n",
    "def EC_transference_number_0p7(c_e,c_EC, T):# Mark Ruihe add update 221212\n",
    "    c_EC_0 = pybamm.Parameter(\"Typical EC concentration [mol.m-3]\")\n",
    "    Xi = ( \n",
    "        (c_EC < 0 ) * 0 \n",
    "        + \n",
    "        (c_EC <= c_EC_0) * (c_e >= 0) * (0.7 * c_EC / c_EC_0 )\n",
    "        +\n",
    "        (c_EC > c_EC_0 ) * 0.7  \n",
    "    )\n",
    "    return Xi\n",
    "Para_0=pybamm.ParameterValues(\"Li2023_ECdrag\")\n",
    "Para_0.update({'Negative electrode porosity':0.05})\n",
    "Para_0.update({\"EC Lithium ion cross diffusivity [m2.s-1]\":1.5e-12})\n",
    "c_e = Model_0.variables[\"Electrolyte concentration [mol.m-3]\"]\n",
    "c_EC= Model_0.variables[\"EC concentration [mol.m-3]\"]\n",
    "T = Model_0.variables[\"Cell temperature [K]\"]\n",
    "D_e = Para_0[\"Electrolyte diffusivity [m2.s-1]\"]\n",
    "sigma_e = Para_0[\"Electrolyte conductivity [S.m-1]\"]\n",
    "Xi = Para_0[\"EC transference number\"]\n",
    "Model_0.variables[\"Electrolyte diffusivity [m2.s-1]\"] = D_e(c_e,c_EC, T)\n",
    "Model_0.variables[\"Electrolyte conductivity [S.m-1]\"] = sigma_e(c_e,c_EC, T)\n",
    "Model_0.variables[\"EC transference number\"] = Xi(c_e,c_EC, T)\n",
    "\n",
    "Para_1=pybamm.ParameterValues(\"Li2023_ECdrag\")\n",
    "Para_1.update({'Negative electrode porosity':0.05})\n",
    "Para_1.update({\"EC Lithium ion cross diffusivity [m2.s-1]\":1.5e-12})\n",
    "Para_1.update({\"EC transference number\":EC_transference_number_0p7})\n",
    "c_e = Model_1.variables[\"Electrolyte concentration [mol.m-3]\"]\n",
    "c_EC= Model_1.variables[\"EC concentration [mol.m-3]\"]\n",
    "T = Model_1.variables[\"Cell temperature [K]\"]\n",
    "D_e = Para_1[\"Electrolyte diffusivity [m2.s-1]\"]\n",
    "sigma_e = Para_1[\"Electrolyte conductivity [S.m-1]\"]\n",
    "Xi = Para_1[\"EC transference number\"]\n",
    "Model_1.variables[\"Electrolyte diffusivity [m2.s-1]\"] = D_e(c_e,c_EC, T)\n",
    "Model_1.variables[\"Electrolyte conductivity [S.m-1]\"] = sigma_e(c_e,c_EC, T)\n",
    "Model_1.variables[\"EC transference number\"] = Xi(c_e,c_EC, T)"
   ]
  },
  {
   "cell_type": "code",
   "execution_count": 13,
   "metadata": {},
   "outputs": [],
   "source": [
    "Sim_0    = pybamm.Simulation(\n",
    "    Model_0, experiment = exp,\n",
    "    parameter_values = Para_0,\n",
    "    solver = pybamm.CasadiSolver(),)       \n",
    "Sol_0    = Sim_0.solve()"
   ]
  },
  {
   "cell_type": "code",
   "execution_count": 14,
   "metadata": {},
   "outputs": [],
   "source": [
    "Sim_1    = pybamm.Simulation(\n",
    "    Model_1, experiment = exp,\n",
    "    parameter_values = Para_1,\n",
    "    solver = pybamm.CasadiSolver(),)       \n",
    "Sol_1    = Sim_1.solve()"
   ]
  },
  {
   "cell_type": "code",
   "execution_count": 15,
   "metadata": {},
   "outputs": [
    {
     "data": {
      "application/vnd.jupyter.widget-view+json": {
       "model_id": "768f870f0d1f4b02bc0f5fbe5f5f274b",
       "version_major": 2,
       "version_minor": 0
      },
      "text/plain": [
       "interactive(children=(FloatSlider(value=0.0, description='t', max=1.2678828302160823, step=0.01267882830216082…"
      ]
     },
     "metadata": {},
     "output_type": "display_data"
    }
   ],
   "source": [
    "label = [\"DD Xi=0.85\",\"DD Xi=0.7\",] \n",
    "output_variables3 = [\n",
    "    \"Terminal voltage [V]\", \n",
    "    \"Electrolyte potential [V]\",\n",
    "    \"EC concentration [mol.m-3]\",\n",
    "    \"Electrolyte concentration [mol.m-3]\",\n",
    "    \"EC transference number\",\n",
    "    \"Electrolyte conductivity [S.m-1]\",\n",
    "    \"Electrolyte diffusivity [m2.s-1]\"\n",
    "]\n",
    "quick_plot = pybamm.QuickPlot(\n",
    "    [Sol_0,Sol_1], output_variables3,label,variable_limits='fixed',\n",
    "    time_unit='hours',\n",
    "    spatial_unit='mm',     #  (“m”, “mm”, or “um”)\n",
    "    n_rows=2) #figsize = (18,12),\n",
    "quick_plot.dynamic_plot()"
   ]
  }
 ],
 "metadata": {
  "kernelspec": {
   "display_name": "envSolCon",
   "language": "python",
   "name": "python3"
  },
  "language_info": {
   "codemirror_mode": {
    "name": "ipython",
    "version": 3
   },
   "file_extension": ".py",
   "mimetype": "text/x-python",
   "name": "python",
   "nbconvert_exporter": "python",
   "pygments_lexer": "ipython3",
   "version": "3.9.6"
  },
  "orig_nbformat": 4,
  "vscode": {
   "interpreter": {
    "hash": "5ae0c684446e40f7574a1a9821257f2365ba43f34c15f5f2e3dcabca0bad9ab7"
   }
  }
 },
 "nbformat": 4,
 "nbformat_minor": 2
}
