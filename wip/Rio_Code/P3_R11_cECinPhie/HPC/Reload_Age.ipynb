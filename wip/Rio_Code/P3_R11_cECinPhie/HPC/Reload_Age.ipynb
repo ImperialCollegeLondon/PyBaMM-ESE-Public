{
 "cells": [
  {
   "cell_type": "code",
   "execution_count": 1,
   "metadata": {},
   "outputs": [],
   "source": [
    "import pybamm as pb;import pandas as pd   ;import numpy as np;import os;import matplotlib.pyplot as plt;import os;#import imageio\n",
    "from scipy.io import savemat,loadmat;from pybamm import constants,exp;import matplotlib as mpl; fs=17; # or we can set import matplotlib.pyplot as plt then say 'mpl.rc...'\n",
    "import openpyxl\n",
    "import traceback\n",
    "import multiprocessing\n",
    "import scipy.optimize\n",
    "import random;import time, signal"
   ]
  },
  {
   "cell_type": "code",
   "execution_count": null,
   "metadata": {},
   "outputs": [],
   "source": [
    "fs=17;\n",
    "font = {'family' : 'DejaVu Sans','size'   : fs}\n",
    "mpl.rc('font', **font)"
   ]
  },
  {
   "cell_type": "code",
   "execution_count": null,
   "metadata": {},
   "outputs": [],
   "source": [
    "# Reload all scans in this round! \n",
    "# D:\\OneDrive - Imperial College London\\SimDataSave\\P3R11\\HPC_Age_230105\\\n",
    "BasicPath = 'D:/OneDrive - Imperial College London/SimDataSave/P3R11/HPC_Age_230105/'; \n",
    "# Initialize the big dict:\n",
    "Targets = [\n",
    "    \"Andrew_int=6e-19_2000_chi\",]\n",
    "Scan_Num = [36]\n",
    "HPC_Age_230105 = {}\n",
    "for target,scan_num in zip(Targets,Scan_Num):\n",
    "    HPC_Age_230105[target] = {}\n",
    "    Scans = np.arange(1,scan_num+1,1).tolist()\n",
    "    for scan in Scans:\n",
    "        HPC_Age_230105[target][str(scan)]={}\n",
    "        try:\n",
    "            HPC_Age_230105[target][str(scan)] = loadmat( \n",
    "            BasicPath  +   target+ \"/\" + str(scan) + \"/\" \n",
    "            + str(scan)+ \"-for_AGE_only.mat\")\n",
    "        except:\n",
    "            print(f\"Nothing in {target}, Scan {scan}\")"
   ]
  },
  {
   "cell_type": "code",
   "execution_count": null,
   "metadata": {},
   "outputs": [],
   "source": []
  },
  {
   "cell_type": "code",
   "execution_count": null,
   "metadata": {},
   "outputs": [],
   "source": []
  },
  {
   "cell_type": "code",
   "execution_count": null,
   "metadata": {},
   "outputs": [],
   "source": []
  }
 ],
 "metadata": {
  "kernelspec": {
   "display_name": "envSolCon",
   "language": "python",
   "name": "python3"
  },
  "language_info": {
   "codemirror_mode": {
    "name": "ipython",
    "version": 3
   },
   "file_extension": ".py",
   "mimetype": "text/x-python",
   "name": "python",
   "nbconvert_exporter": "python",
   "pygments_lexer": "ipython3",
   "version": "3.9.6"
  },
  "orig_nbformat": 4,
  "vscode": {
   "interpreter": {
    "hash": "5ae0c684446e40f7574a1a9821257f2365ba43f34c15f5f2e3dcabca0bad9ab7"
   }
  }
 },
 "nbformat": 4,
 "nbformat_minor": 2
}
