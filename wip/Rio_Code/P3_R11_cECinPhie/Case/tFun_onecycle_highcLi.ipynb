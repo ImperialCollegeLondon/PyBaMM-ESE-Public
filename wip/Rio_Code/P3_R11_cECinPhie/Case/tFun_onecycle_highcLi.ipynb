{
 "cells": [
  {
   "cell_type": "code",
   "execution_count": 1,
   "metadata": {},
   "outputs": [],
   "source": [
    "import pybamm;import pandas as pd   ;import numpy as np;import os;import matplotlib.pyplot as plt;import os;#import imageio\n",
    "from scipy.io import savemat,loadmat;from pybamm import constants,exp,sqrt;\n",
    "import matplotlib as mpl; \n",
    "fs=17; # or we can set import matplotlib.pyplot as plt then say 'mpl.rc...'\n",
    "import openpyxl\n",
    "import traceback\n",
    "import multiprocessing\n",
    "font = {'family' : 'DejaVu Sans','size'   : fs}\n",
    "mpl.rc('font', **font)"
   ]
  },
  {
   "cell_type": "code",
   "execution_count": 2,
   "metadata": {},
   "outputs": [],
   "source": [
    "import sys  \n",
    "str_path_0 = os.path.abspath(os.path.join(pybamm.__path__[0],'..'))\n",
    "str_path_1 = os.path.abspath(os.path.join(str_path_0,\"wip\\Rio_Code\\Fun_P3\"))\n",
    "sys.path.append(str_path_1) \n",
    "from Fun_P3 import *\n",
    "BasicPath = 'D:/OneDrive - Imperial College London/SimDataSave/P3R11/'; \n",
    "Target  = 'onecycle_highcLi/' \n",
    "if not os.path.exists(BasicPath + Target):\n",
    "   os.mkdir(BasicPath + Target)"
   ]
  },
  {
   "cell_type": "code",
   "execution_count": 3,
   "metadata": {},
   "outputs": [],
   "source": [
    "# Define 3 models: normal DFN, single transport by high Dec, double transport\n",
    "Model_DFN  = pybamm.lithium_ion.DFN(options={\n",
    "    \"solvent diffusion\": \"single no consume wo refill\",\n",
    "    \"electrolyte conductivity\": \"full\"  ,}) \n",
    "Model_SD  = pybamm.lithium_ion.DFN(options={\n",
    "    \"solvent diffusion\": \"double spatial consume w refill\",\n",
    "    \"electrolyte conductivity\": \"full\"  ,}) \n",
    "Model_DD  = pybamm.lithium_ion.DFN(options={\n",
    "    \"solvent diffusion\": \"double spatial consume w refill\",\n",
    "    \"electrolyte conductivity\": \"sol full\"  ,}) \n",
    "Model_All =[ Model_DFN,  Model_SD, Model_DD ]\n",
    "Str_model =[ 'Model_DFN',  'Model_SD', 'Model_DD' ]\n",
    "# 3 parameter set: Andrew, constant. Valoen\n",
    "Para_All = []\n",
    "for i in range(1,4):\n",
    "    para=pybamm.ParameterValues(\"Li2023_ECdrag\")\n",
    "    para.update({\"EC Lithium ion cross diffusivity [m2.s-1]\":1.5e-12})\n",
    "    para.update({\"EC initial concentration in electrolyte [mol.m-3]\":6250})\n",
    "    para.update({\"Initial concentration in electrolyte [mol.m-3]\":3000})\n",
    "    para.update({\"Cation transference number\":t_0plus_constant})\n",
    "    Para_All.append(para)\n",
    "Para_All[0].update({\"Electrolyte conductivity [S.m-1]\":electrolyte_conductivity_Andrew2022})\n",
    "Para_All[0].update({\"Electrolyte diffusivity [m2.s-1]\":electrolyte_diffusivity_Valoen2005Constant})\n",
    "Para_All[1].update({\"Electrolyte conductivity [S.m-1]\":cond_constant})\n",
    "Para_All[1].update({\"Electrolyte diffusivity [m2.s-1]\":diff_constant})\n",
    "Para_All[2].update({\"Electrolyte conductivity [S.m-1]\":electrolyte_conductivity_Valoen2005Constant})\n",
    "Para_All[2].update({\"Electrolyte diffusivity [m2.s-1]\":electrolyte_diffusivity_Valoen2005Constant})\n",
    "Str_para = ['Andrew', 'Constant', 'Valoen']"
   ]
  },
  {
   "cell_type": "code",
   "execution_count": 4,
   "metadata": {},
   "outputs": [
    {
     "name": "stderr",
     "output_type": "stream",
     "text": [
      "2022-12-23 00:15:18.936 - [ERROR] callbacks.on_experiment_error(226): Simulation error: Could not find consistent states: Could not find acceptable solution: .../casadi/core/linsol.cpp:173: Assertion \"m->is_nfact\" failed:\n",
      "Linear system has not been factorized\n"
     ]
    },
    {
     "name": "stdout",
     "output_type": "stream",
     "text": [
      "Unexpected exception formatting exception. Falling back to standard exception\n"
     ]
    },
    {
     "name": "stderr",
     "output_type": "stream",
     "text": [
      "Traceback (most recent call last):\n",
      "  File \"d:\\gitpybamm\\lrh_409\\lrh_409\\envsolcon\\pybamm-gem\\pybamm\\solvers\\base_solver.py\", line 641, in calculate_consistent_state\n",
      "    root_sol = self.root_method._integrate(model, np.array([time]), inputs)\n",
      "  File \"d:\\gitpybamm\\lrh_409\\lrh_409\\envsolcon\\pybamm-gem\\pybamm\\solvers\\casadi_algebraic_solver.py\", line 172, in _integrate\n",
      "    raise pybamm.SolverError(\n",
      "pybamm.expression_tree.exceptions.SolverError: Could not find acceptable solution: .../casadi/core/linsol.cpp:173: Assertion \"m->is_nfact\" failed:\n",
      "Linear system has not been factorized\n",
      "\n",
      "During handling of the above exception, another exception occurred:\n",
      "\n",
      "Traceback (most recent call last):\n",
      "  File \"d:\\GitPyBaMM\\LRH_409\\LRH_409\\envSolCon\\lib\\site-packages\\IPython\\core\\interactiveshell.py\", line 3398, in run_code\n",
      "    exec(code_obj, self.user_global_ns, self.user_ns)\n",
      "  File \"C:\\Users\\rl1120\\AppData\\Local\\Temp\\ipykernel_6824\\915933790.py\", line 6, in <cell line: 4>\n",
      "    Scan_Crate(Rate_Dis_All,Rate_Cha_All,model,para,str_model,str_para)\n",
      "  File \"d:\\gitpybamm\\lrh_409\\lrh_409\\envsolcon\\pybamm-gem\\wip\\Rio_Code\\Fun_P3\\Fun_P3.py\", line 844, in Scan_Crate\n",
      "    Run_P3_OneCycle(\n",
      "  File \"d:\\gitpybamm\\lrh_409\\lrh_409\\envsolcon\\pybamm-gem\\wip\\Rio_Code\\Fun_P3\\Fun_P3.py\", line 814, in Run_P3_OneCycle\n",
      "    sol    = sim.solve()\n",
      "  File \"d:\\gitpybamm\\lrh_409\\lrh_409\\envsolcon\\pybamm-gem\\pybamm\\simulation.py\", line 856, in solve\n",
      "    raise error\n",
      "  File \"d:\\gitpybamm\\lrh_409\\lrh_409\\envsolcon\\pybamm-gem\\pybamm\\simulation.py\", line 834, in solve\n",
      "    step_solution = solver.step(\n",
      "  File \"d:\\gitpybamm\\lrh_409\\lrh_409\\envsolcon\\pybamm-gem\\pybamm\\solvers\\base_solver.py\", line 1189, in step\n",
      "    self._set_initial_conditions(model, ext_and_inputs, update_rhs=False)\n",
      "  File \"d:\\gitpybamm\\lrh_409\\lrh_409\\envsolcon\\pybamm-gem\\pybamm\\solvers\\base_solver.py\", line 612, in _set_initial_conditions\n",
      "    y0 = self.calculate_consistent_state(model, 0, inputs_dict)\n",
      "  File \"d:\\gitpybamm\\lrh_409\\lrh_409\\envsolcon\\pybamm-gem\\pybamm\\solvers\\base_solver.py\", line 643, in calculate_consistent_state\n",
      "    raise pybamm.SolverError(\n",
      "pybamm.expression_tree.exceptions.SolverError: Could not find consistent states: Could not find acceptable solution: .../casadi/core/linsol.cpp:173: Assertion \"m->is_nfact\" failed:\n",
      "Linear system has not been factorized\n",
      "\n",
      "During handling of the above exception, another exception occurred:\n",
      "\n",
      "Traceback (most recent call last):\n",
      "  File \"d:\\GitPyBaMM\\LRH_409\\LRH_409\\envSolCon\\lib\\site-packages\\IPython\\core\\interactiveshell.py\", line 1993, in showtraceback\n",
      "    stb = self.InteractiveTB.structured_traceback(\n",
      "  File \"d:\\GitPyBaMM\\LRH_409\\LRH_409\\envSolCon\\lib\\site-packages\\IPython\\core\\ultratb.py\", line 1118, in structured_traceback\n",
      "    return FormattedTB.structured_traceback(\n",
      "  File \"d:\\GitPyBaMM\\LRH_409\\LRH_409\\envSolCon\\lib\\site-packages\\IPython\\core\\ultratb.py\", line 1012, in structured_traceback\n",
      "    return VerboseTB.structured_traceback(\n",
      "  File \"d:\\GitPyBaMM\\LRH_409\\LRH_409\\envSolCon\\lib\\site-packages\\IPython\\core\\ultratb.py\", line 865, in structured_traceback\n",
      "    formatted_exception = self.format_exception_as_a_whole(etype, evalue, etb, number_of_lines_of_context,\n",
      "  File \"d:\\GitPyBaMM\\LRH_409\\LRH_409\\envSolCon\\lib\\site-packages\\IPython\\core\\ultratb.py\", line 818, in format_exception_as_a_whole\n",
      "    frames.append(self.format_record(r))\n",
      "  File \"d:\\GitPyBaMM\\LRH_409\\LRH_409\\envSolCon\\lib\\site-packages\\IPython\\core\\ultratb.py\", line 736, in format_record\n",
      "    result += ''.join(_format_traceback_lines(frame_info.lines, Colors, self.has_colors, lvals))\n",
      "  File \"d:\\GitPyBaMM\\LRH_409\\LRH_409\\envSolCon\\lib\\site-packages\\stack_data\\utils.py\", line 145, in cached_property_wrapper\n",
      "    value = obj.__dict__[self.func.__name__] = self.func(obj)\n",
      "  File \"d:\\GitPyBaMM\\LRH_409\\LRH_409\\envSolCon\\lib\\site-packages\\stack_data\\core.py\", line 698, in lines\n",
      "    pieces = self.included_pieces\n",
      "  File \"d:\\GitPyBaMM\\LRH_409\\LRH_409\\envSolCon\\lib\\site-packages\\stack_data\\utils.py\", line 145, in cached_property_wrapper\n",
      "    value = obj.__dict__[self.func.__name__] = self.func(obj)\n",
      "  File \"d:\\GitPyBaMM\\LRH_409\\LRH_409\\envSolCon\\lib\\site-packages\\stack_data\\core.py\", line 645, in included_pieces\n",
      "    scope_pieces = self.scope_pieces\n",
      "  File \"d:\\GitPyBaMM\\LRH_409\\LRH_409\\envSolCon\\lib\\site-packages\\stack_data\\utils.py\", line 145, in cached_property_wrapper\n",
      "    value = obj.__dict__[self.func.__name__] = self.func(obj)\n",
      "  File \"d:\\GitPyBaMM\\LRH_409\\LRH_409\\envSolCon\\lib\\site-packages\\stack_data\\core.py\", line 585, in scope_pieces\n",
      "    for piece in self.source.pieces\n",
      "  File \"d:\\GitPyBaMM\\LRH_409\\LRH_409\\envSolCon\\lib\\site-packages\\stack_data\\utils.py\", line 145, in cached_property_wrapper\n",
      "    value = obj.__dict__[self.func.__name__] = self.func(obj)\n",
      "  File \"d:\\GitPyBaMM\\LRH_409\\LRH_409\\envSolCon\\lib\\site-packages\\stack_data\\core.py\", line 90, in pieces\n",
      "    return list(self._clean_pieces())\n",
      "  File \"d:\\GitPyBaMM\\LRH_409\\LRH_409\\envSolCon\\lib\\site-packages\\stack_data\\core.py\", line 114, in _clean_pieces\n",
      "    raise AssertionError(\"Pieces mismatches: %s\" % mismatches)\n",
      "AssertionError: Pieces mismatches: [{474, 475}]\n"
     ]
    }
   ],
   "source": [
    "Rate_Dis_All = [0.5,1,2,3,4,5,6,7,8,9,10];  Rate_Cha_All = [1,]\n",
    "# Str_para = ['Andrew', 'Constant', 'Valoen']\n",
    "Andrew_All = []; para = Para_All[0]; str_para = Str_para[0];\n",
    "for model,str_model in zip(Model_All,Str_model):\n",
    "    Andrew_All.append(\n",
    "        Scan_Crate(Rate_Dis_All,Rate_Cha_All,model,para,str_model,str_para)\n",
    "        )"
   ]
  },
  {
   "cell_type": "code",
   "execution_count": 5,
   "metadata": {},
   "outputs": [
    {
     "name": "stderr",
     "output_type": "stream",
     "text": [
      "At t = 0.00842566, , mxstep steps taken before reaching tout.\n",
      "At t = 0.0013751, , mxstep steps taken before reaching tout.\n",
      "At t = 0.0013751, , mxstep steps taken before reaching tout.\n",
      "At t = 0.000125102 and h = 4.59306e-019, the corrector convergence failed repeatedly or with |h| = hmin.\n",
      "At t = 0.000125101, , mxstep steps taken before reaching tout.\n",
      "At t = 0.000125102, , mxstep steps taken before reaching tout.\n",
      "At t = 0.000125102 and h = 1.00146e-019, the corrector convergence failed repeatedly or with |h| = hmin.\n",
      "At t = 4.69765e-005, , mxstep steps taken before reaching tout.\n",
      "At t = 0.00251255, , mxstep steps taken before reaching tout.\n",
      "At t = 0.00251255, , mxstep steps taken before reaching tout.\n",
      "At t = 0.000749914 and h = 1.89502e-018, the corrector convergence failed repeatedly or with |h| = hmin.\n",
      "At t = 0.000749914, , mxstep steps taken before reaching tout.\n",
      "At t = 0.000124914 and h = 1.01163e-018, the corrector convergence failed repeatedly or with |h| = hmin.\n",
      "At t = 0.000124914, , mxstep steps taken before reaching tout.\n",
      "At t = 0.000124914, , mxstep steps taken before reaching tout.\n",
      "At t = 4.67894e-005, , mxstep steps taken before reaching tout.\n",
      "At t = 7.72693e-006, , mxstep steps taken before reaching tout.\n",
      "At t = 7.7269e-006, , mxstep steps taken before reaching tout.\n",
      "At t = 7.7269e-006, , mxstep steps taken before reaching tout.\n",
      "At t = 2.84417e-006, , mxstep steps taken before reaching tout.\n",
      "At t = 0.00607126, , mxstep steps taken before reaching tout.\n",
      "At t = 0.00113587 and h = 6.7924e-019, the corrector convergence failed repeatedly or with |h| = hmin.\n",
      "At t = 0.00113587, , mxstep steps taken before reaching tout.\n",
      "At t = 0.00113587, , mxstep steps taken before reaching tout.\n",
      "At t = 0.000518948, , mxstep steps taken before reaching tout.\n",
      "At t = 0.000254552, , mxstep steps taken before reaching tout.\n",
      "At t = 7.82882e-005, , mxstep steps taken before reaching tout.\n",
      "The linesearch algorithm failed with too small a step.\n",
      "The linesearch algorithm failed with too small a step.\n",
      "At t = 0.00464153, , mxstep steps taken before reaching tout.\n",
      "At t = 0.00464153, , mxstep steps taken before reaching tout.\n",
      "At t = 0.00217383, , mxstep steps taken before reaching tout.\n",
      "At t = 0.00093999, , mxstep steps taken before reaching tout.\n",
      "At t = 0.000323066 and h = 1.52255e-018, the corrector convergence failed repeatedly or with |h| = hmin.\n",
      "At t = 5.867e-005, , mxstep steps taken before reaching tout.\n",
      "At t = 5.86701e-005, , mxstep steps taken before reaching tout.\n",
      "At t = 5.867e-005 and h = 3.69387e-019, the corrector convergence failed repeatedly or with |h| = hmin.\n",
      "At t = 1.96076e-005 and h = 2.32434e-018, the corrector convergence failed repeatedly or with |h| = hmin.\n",
      "The linesearch algorithm failed with too small a step.\n",
      "At t = 0.00702475, , mxstep steps taken before reaching tout.\n",
      "At t = 0.00208983, , mxstep steps taken before reaching tout.\n",
      "At t = 0.00208983, , mxstep steps taken before reaching tout.\n",
      "At t = 0.000856101 and h = 1.30345e-019, the corrector convergence failed repeatedly or with |h| = hmin.\n",
      "At t = 0.000239234, , mxstep steps taken before reaching tout.\n",
      "At t = 0.000239234, , mxstep steps taken before reaching tout.\n",
      "At t = 6.29861e-005, , mxstep steps taken before reaching tout.\n",
      "At t = 6.29862e-005, , mxstep steps taken before reaching tout.\n",
      "At t = 2.39236e-005, , mxstep steps taken before reaching tout.\n",
      "At t = 4.39239e-006, , mxstep steps taken before reaching tout.\n",
      "At t = 4.39242e-006 and h = 2.89856e-019, the corrector convergence failed repeatedly or with |h| = hmin.\n",
      "At t = 4.39237e-006, , mxstep steps taken before reaching tout.\n",
      "At t = 0.00172379, , mxstep steps taken before reaching tout.\n",
      "At t = 0.00172379, , mxstep steps taken before reaching tout.\n",
      "At t = 0.00172379, , mxstep steps taken before reaching tout.\n",
      "At t = 0.000489942, , mxstep steps taken before reaching tout.\n",
      "At t = 0.000489942, , mxstep steps taken before reaching tout.\n",
      "At t = 0.000225546 and h = 4.46704e-018, the corrector convergence failed repeatedly or with |h| = hmin.\n",
      "At t = 4.9282e-005 and h = 7.25656e-019, the corrector convergence failed repeatedly or with |h| = hmin.\n",
      "At t = 4.92821e-005, , mxstep steps taken before reaching tout.\n",
      "At t = 0.00783068, , mxstep steps taken before reaching tout.\n",
      "At t = 0.0028953, , mxstep steps taken before reaching tout.\n",
      "At t = 0.000427608, , mxstep steps taken before reaching tout.\n",
      "At t = 0.000427608 and h = 4.51441e-020, the corrector convergence failed repeatedly or with |h| = hmin.\n",
      "At t = 0.000427608, , mxstep steps taken before reaching tout.\n",
      "At t = 0.000163212, , mxstep steps taken before reaching tout.\n",
      "At t = 0.00494241, , mxstep steps taken before reaching tout.\n"
     ]
    },
    {
     "name": "stdout",
     "output_type": "stream",
     "text": [
      "Using EC_diffusivity_5E_5\n",
      "Using EC_diffusivity_5E_5\n",
      "Using EC_diffusivity_5E_5\n",
      "Using EC_diffusivity_5E_5\n"
     ]
    },
    {
     "name": "stderr",
     "output_type": "stream",
     "text": [
      "At t = 0.00842567 and h = 1.88574e-018, the corrector convergence failed repeatedly or with |h| = hmin.\n",
      "At t = 0.00137511, , mxstep steps taken before reaching tout.\n",
      "At t = 0.00137511, , mxstep steps taken before reaching tout.\n",
      "At t = 0.000125106 and h = 5.30599e-018, the corrector convergence failed repeatedly or with |h| = hmin.\n",
      "At t = 0.000125106, , mxstep steps taken before reaching tout.\n",
      "At t = 0.000125106 and h = 6.17438e-019, the corrector convergence failed repeatedly or with |h| = hmin.\n",
      "At t = 0.000125106 and h = 2.56081e-018, the corrector convergence failed repeatedly or with |h| = hmin.\n",
      "At t = 4.69812e-005, , mxstep steps taken before reaching tout.\n",
      "The linesearch algorithm failed with too small a step.\n"
     ]
    },
    {
     "name": "stdout",
     "output_type": "stream",
     "text": [
      "Using EC_diffusivity_5E_5\n"
     ]
    },
    {
     "name": "stderr",
     "output_type": "stream",
     "text": [
      "At t = 0.00251255, , mxstep steps taken before reaching tout.\n",
      "At t = 0.00251255, , mxstep steps taken before reaching tout.\n",
      "At t = 0.000749907, , mxstep steps taken before reaching tout.\n",
      "At t = 0.000749908, , mxstep steps taken before reaching tout.\n",
      "At t = 0.000124908, , mxstep steps taken before reaching tout.\n",
      "At t = 0.000124908, , mxstep steps taken before reaching tout.\n",
      "At t = 0.000124908, , mxstep steps taken before reaching tout.\n",
      "At t = 4.67829e-005, , mxstep steps taken before reaching tout.\n",
      "At t = 7.72047e-006, , mxstep steps taken before reaching tout.\n",
      "At t = 7.72036e-006 and h = 7.79363e-018, the corrector convergence failed repeatedly or with |h| = hmin.\n",
      "At t = 7.72038e-006, , mxstep steps taken before reaching tout.\n",
      "At t = 2.8376e-006 and h = 9.18825e-019, the corrector convergence failed repeatedly or with |h| = hmin.\n",
      "The linesearch algorithm failed with too small a step.\n",
      "The linesearch algorithm failed with too small a step.\n"
     ]
    },
    {
     "name": "stdout",
     "output_type": "stream",
     "text": [
      "Using EC_diffusivity_5E_5\n"
     ]
    },
    {
     "name": "stderr",
     "output_type": "stream",
     "text": [
      "At t = 0.00607127, , mxstep steps taken before reaching tout.\n",
      "At t = 0.00113588 and h = 7.36162e-019, the corrector convergence failed repeatedly or with |h| = hmin.\n",
      "At t = 0.00113588, , mxstep steps taken before reaching tout.\n",
      "At t = 0.00113588, , mxstep steps taken before reaching tout.\n",
      "At t = 0.000518953 and h = 6.16571e-018, the corrector convergence failed repeatedly or with |h| = hmin.\n",
      "At t = 0.000254557, , mxstep steps taken before reaching tout.\n",
      "At t = 7.82924e-005, , mxstep steps taken before reaching tout.\n",
      "The linesearch algorithm failed with too small a step.\n",
      "The linesearch algorithm failed with too small a step.\n"
     ]
    },
    {
     "name": "stdout",
     "output_type": "stream",
     "text": [
      "Using EC_diffusivity_5E_5\n"
     ]
    },
    {
     "name": "stderr",
     "output_type": "stream",
     "text": [
      "At t = 0.00464153, , mxstep steps taken before reaching tout.\n",
      "At t = 0.00464153 and h = 1.78567e-018, the corrector convergence failed repeatedly or with |h| = hmin.\n",
      "At t = 0.00217384, , mxstep steps taken before reaching tout.\n",
      "At t = 0.000939994, , mxstep steps taken before reaching tout.\n",
      "At t = 0.00032307, , mxstep steps taken before reaching tout.\n",
      "At t = 5.86741e-005, , mxstep steps taken before reaching tout.\n",
      "At t = 5.86741e-005, , mxstep steps taken before reaching tout.\n",
      "At t = 5.86741e-005, , mxstep steps taken before reaching tout.\n",
      "At t = 1.96115e-005 and h = 2.9075e-018, the corrector convergence failed repeatedly or with |h| = hmin.\n",
      "The linesearch algorithm failed with too small a step.\n"
     ]
    },
    {
     "name": "stdout",
     "output_type": "stream",
     "text": [
      "Using EC_diffusivity_5E_5\n"
     ]
    },
    {
     "name": "stderr",
     "output_type": "stream",
     "text": [
      "At t = 0.00702476 and h = 2.03455e-018, the corrector convergence failed repeatedly or with |h| = hmin.\n",
      "At t = 0.00208984, , mxstep steps taken before reaching tout.\n",
      "At t = 0.00208984, , mxstep steps taken before reaching tout.\n",
      "At t = 0.000856108, , mxstep steps taken before reaching tout.\n",
      "At t = 0.000239241, , mxstep steps taken before reaching tout.\n",
      "At t = 0.000239241, , mxstep steps taken before reaching tout.\n",
      "At t = 6.2993e-005 and h = 9.88277e-019, the corrector convergence failed repeatedly or with |h| = hmin.\n",
      "At t = 6.2993e-005, , mxstep steps taken before reaching tout.\n",
      "At t = 2.39305e-005 and h = 3.27371e-018, the corrector convergence failed repeatedly or with |h| = hmin.\n",
      "At t = 4.39928e-006, , mxstep steps taken before reaching tout.\n",
      "At t = 4.3993e-006, , mxstep steps taken before reaching tout.\n",
      "At t = 4.39928e-006, , mxstep steps taken before reaching tout.\n"
     ]
    },
    {
     "name": "stdout",
     "output_type": "stream",
     "text": [
      "Using EC_diffusivity_5E_5\n"
     ]
    },
    {
     "name": "stderr",
     "output_type": "stream",
     "text": [
      "At t = 0.00172379, , mxstep steps taken before reaching tout.\n",
      "At t = 0.00172379, , mxstep steps taken before reaching tout.\n",
      "At t = 0.00172379, , mxstep steps taken before reaching tout.\n",
      "At t = 0.000489947, , mxstep steps taken before reaching tout.\n",
      "At t = 0.000489947, , mxstep steps taken before reaching tout.\n",
      "At t = 0.000225551 and h = 1.45494e-019, the corrector convergence failed repeatedly or with |h| = hmin.\n",
      "At t = 4.92869e-005, , mxstep steps taken before reaching tout.\n",
      "At t = 4.92869e-005, , mxstep steps taken before reaching tout.\n"
     ]
    },
    {
     "name": "stdout",
     "output_type": "stream",
     "text": [
      "Using EC_diffusivity_5E_5\n"
     ]
    },
    {
     "name": "stderr",
     "output_type": "stream",
     "text": [
      "At t = 0.00783068 and h = 1.29176e-018, the corrector convergence failed repeatedly or with |h| = hmin.\n",
      "At t = 0.0028953, , mxstep steps taken before reaching tout.\n",
      "At t = 0.000427608, , mxstep steps taken before reaching tout.\n",
      "At t = 0.000427608, , mxstep steps taken before reaching tout.\n",
      "At t = 0.000427608, , mxstep steps taken before reaching tout.\n",
      "At t = 0.000163212, , mxstep steps taken before reaching tout.\n"
     ]
    },
    {
     "name": "stdout",
     "output_type": "stream",
     "text": [
      "Using EC_diffusivity_5E_5\n"
     ]
    },
    {
     "name": "stderr",
     "output_type": "stream",
     "text": [
      "At t = 0.00494242, , mxstep steps taken before reaching tout.\n",
      "At t = 0.0084278 and h = 4.94392e-018, the corrector convergence failed repeatedly or with |h| = hmin.\n",
      "At t = 0.00137724, , mxstep steps taken before reaching tout.\n",
      "At t = 0.00137724, , mxstep steps taken before reaching tout.\n",
      "At t = 0.000127239 and h = 5.17964e-018, the corrector convergence failed repeatedly or with |h| = hmin.\n",
      "At t = 0.000127239, , mxstep steps taken before reaching tout.\n",
      "At t = 0.000127239 and h = 2.4608e-018, the corrector convergence failed repeatedly or with |h| = hmin.\n",
      "At t = 0.00012724 and h = 7.22306e-018, the corrector convergence failed repeatedly or with |h| = hmin.\n",
      "At t = 4.91145e-005 and h = 4.27005e-018, the corrector convergence failed repeatedly or with |h| = hmin.\n",
      "At t = 0.00251409 and h = 7.61486e-019, the corrector convergence failed repeatedly or with |h| = hmin.\n",
      "At t = 0.00251409, , mxstep steps taken before reaching tout.\n",
      "At t = 0.000751447, , mxstep steps taken before reaching tout.\n",
      "At t = 0.000751448, , mxstep steps taken before reaching tout.\n",
      "At t = 0.000126448 and h = 5.61976e-019, the corrector convergence failed repeatedly or with |h| = hmin.\n",
      "At t = 0.000126448, , mxstep steps taken before reaching tout.\n",
      "At t = 0.000126448, , mxstep steps taken before reaching tout.\n",
      "At t = 4.8323e-005 and h = 6.64679e-019, the corrector convergence failed repeatedly or with |h| = hmin.\n",
      "At t = 9.26049e-006, , mxstep steps taken before reaching tout.\n",
      "At t = 9.2605e-006, , mxstep steps taken before reaching tout.\n",
      "At t = 9.2605e-006, , mxstep steps taken before reaching tout.\n",
      "At t = 4.3777e-006, , mxstep steps taken before reaching tout.\n",
      "At t = 1.93631e-006, , mxstep steps taken before reaching tout.\n",
      "At t = 0.00607242, , mxstep steps taken before reaching tout.\n",
      "At t = 0.00113703 and h = 1.49543e-018, the corrector convergence failed repeatedly or with |h| = hmin.\n",
      "At t = 0.00113703 and h = 1.95252e-018, the corrector convergence failed repeatedly or with |h| = hmin.\n",
      "At t = 0.00113703, , mxstep steps taken before reaching tout.\n",
      "At t = 0.000520111 and h = 1.16734e-018, the corrector convergence failed repeatedly or with |h| = hmin.\n",
      "At t = 0.000255715, , mxstep steps taken before reaching tout.\n",
      "At t = 7.94508e-005, , mxstep steps taken before reaching tout.\n",
      "At t = 1.32578e-006, , mxstep steps taken before reaching tout.\n",
      "At t = 1.3258e-006, , mxstep steps taken before reaching tout.\n",
      "At t = 1.32578e-006, , mxstep steps taken before reaching tout.\n",
      "At t = 1.32581e-006, , mxstep steps taken before reaching tout.\n",
      "At t = 1.32587e-006, , mxstep steps taken before reaching tout.\n",
      "At t = 1.32586e-006, , mxstep steps taken before reaching tout.\n",
      "The linesearch algorithm failed with too small a step.\n",
      "At t = 0.00464247 and h = 2.65131e-018, the corrector convergence failed repeatedly or with |h| = hmin.\n",
      "At t = 0.00464247, , mxstep steps taken before reaching tout.\n",
      "At t = 0.00217477, , mxstep steps taken before reaching tout.\n",
      "At t = 0.00094093, , mxstep steps taken before reaching tout.\n",
      "At t = 0.000324007, , mxstep steps taken before reaching tout.\n",
      "At t = 5.96105e-005, , mxstep steps taken before reaching tout.\n",
      "At t = 5.96105e-005, , mxstep steps taken before reaching tout.\n",
      "At t = 5.96105e-005, , mxstep steps taken before reaching tout.\n",
      "At t = 2.05479e-005 and h = 7.70959e-019, the corrector convergence failed repeatedly or with |h| = hmin.\n",
      "At t = 1.01676e-006, , mxstep steps taken before reaching tout.\n",
      "At t = 1.0168e-006, , mxstep steps taken before reaching tout.\n",
      "At t = 1.01674e-006, , mxstep steps taken before reaching tout.\n",
      "At t = 1.01673e-006, , mxstep steps taken before reaching tout.\n",
      "At t = 1.01675e-006, , mxstep steps taken before reaching tout.\n",
      "At t = 0.00702552, , mxstep steps taken before reaching tout.\n",
      "At t = 0.0020906, , mxstep steps taken before reaching tout.\n",
      "At t = 0.0020906 and h = 8.25777e-019, the corrector convergence failed repeatedly or with |h| = hmin.\n",
      "At t = 0.000856873 and h = 4.38039e-018, the corrector convergence failed repeatedly or with |h| = hmin.\n",
      "At t = 0.000240006, , mxstep steps taken before reaching tout.\n",
      "At t = 0.000240006, , mxstep steps taken before reaching tout.\n",
      "At t = 6.37583e-005, , mxstep steps taken before reaching tout.\n",
      "At t = 6.37583e-005, , mxstep steps taken before reaching tout.\n",
      "At t = 2.46958e-005, , mxstep steps taken before reaching tout.\n",
      "At t = 5.16455e-006 and h = 4.66753e-019, the corrector convergence failed repeatedly or with |h| = hmin.\n",
      "At t = 5.16452e-006 and h = 2.87821e-018, the corrector convergence failed repeatedly or with |h| = hmin.\n",
      "The linesearch algorithm failed with too small a step.\n",
      "At t = 0.00172442, , mxstep steps taken before reaching tout.\n",
      "At t = 0.00172442 and h = 5.99079e-019, the corrector convergence failed repeatedly or with |h| = hmin.\n",
      "At t = 0.00172442, , mxstep steps taken before reaching tout.\n",
      "At t = 0.000490567 and h = 6.99386e-019, the corrector convergence failed repeatedly or with |h| = hmin.\n",
      "At t = 0.000490567, , mxstep steps taken before reaching tout.\n",
      "At t = 0.000226171 and h = 1.03882e-018, the corrector convergence failed repeatedly or with |h| = hmin.\n",
      "At t = 4.9907e-005, , mxstep steps taken before reaching tout.\n",
      "At t = 4.9907e-005, , mxstep steps taken before reaching tout.\n",
      "At t = 1.08445e-005, , mxstep steps taken before reaching tout.\n",
      "At t = 1.08446e-005, , mxstep steps taken before reaching tout.\n",
      "At t = 0.00783122, , mxstep steps taken before reaching tout.\n",
      "At t = 0.00289584, , mxstep steps taken before reaching tout.\n",
      "At t = 0.000428147 and h = 1.72643e-018, the corrector convergence failed repeatedly or with |h| = hmin.\n",
      "At t = 0.000428147, , mxstep steps taken before reaching tout.\n",
      "At t = 0.000428147, , mxstep steps taken before reaching tout.\n",
      "At t = 0.000163752, , mxstep steps taken before reaching tout.\n",
      "At t = 7.56192e-005, , mxstep steps taken before reaching tout.\n",
      "At t = 7.56192e-005, , mxstep steps taken before reaching tout.\n",
      "At t = 3.65567e-005, , mxstep steps taken before reaching tout.\n",
      "At t = 1.70254e-005 and h = 1.99184e-018, the corrector convergence failed repeatedly or with |h| = hmin.\n",
      "At t = 0.00494287, , mxstep steps taken before reaching tout.\n"
     ]
    }
   ],
   "source": [
    "Constant_All = []; para = Para_All[1]; str_para = Str_para[1];\n",
    "for model,str_model in zip(Model_All,Str_model):\n",
    "    Constant_All.append(\n",
    "        Scan_Crate(Rate_Dis_All,Rate_Cha_All,model,para,str_model,str_para)\n",
    "        )"
   ]
  },
  {
   "cell_type": "code",
   "execution_count": 6,
   "metadata": {},
   "outputs": [
    {
     "name": "stderr",
     "output_type": "stream",
     "text": [
      "At t = 0.00842566, , mxstep steps taken before reaching tout.\n",
      "At t = 0.0013751, , mxstep steps taken before reaching tout.\n",
      "At t = 0.0013751, , mxstep steps taken before reaching tout.\n",
      "At t = 0.000125102, , mxstep steps taken before reaching tout.\n",
      "At t = 0.000125102, , mxstep steps taken before reaching tout.\n",
      "At t = 0.000125102 and h = 8.96386e-020, the corrector convergence failed repeatedly or with |h| = hmin.\n",
      "At t = 0.000125101, , mxstep steps taken before reaching tout.\n",
      "At t = 4.69764e-005 and h = 3.32891e-018, the corrector convergence failed repeatedly or with |h| = hmin.\n",
      "At t = 0.00251255, , mxstep steps taken before reaching tout.\n",
      "At t = 0.00251255, , mxstep steps taken before reaching tout.\n",
      "At t = 0.000749914, , mxstep steps taken before reaching tout.\n",
      "At t = 0.000749914 and h = 5.28502e-018, the corrector convergence failed repeatedly or with |h| = hmin.\n",
      "At t = 0.000124914, , mxstep steps taken before reaching tout.\n",
      "At t = 0.000124914, , mxstep steps taken before reaching tout.\n",
      "At t = 0.000124914 and h = 6.18329e-019, the corrector convergence failed repeatedly or with |h| = hmin.\n",
      "At t = 4.67895e-005 and h = 6.72331e-019, the corrector convergence failed repeatedly or with |h| = hmin.\n",
      "At t = 7.72695e-006, , mxstep steps taken before reaching tout.\n",
      "At t = 7.72692e-006, , mxstep steps taken before reaching tout.\n",
      "At t = 7.72698e-006 and h = 5.73514e-019, the corrector convergence failed repeatedly or with |h| = hmin.\n",
      "At t = 2.84412e-006 and h = 4.32131e-018, the corrector convergence failed repeatedly or with |h| = hmin.\n",
      "At t = 0.00607126 and h = 1.01069e-018, the corrector convergence failed repeatedly or with |h| = hmin.\n",
      "At t = 0.00113587 and h = 2.94384e-018, the corrector convergence failed repeatedly or with |h| = hmin.\n",
      "At t = 0.00113587, , mxstep steps taken before reaching tout.\n",
      "At t = 0.00113587, , mxstep steps taken before reaching tout.\n",
      "At t = 0.000518948, , mxstep steps taken before reaching tout.\n",
      "At t = 0.000254552, , mxstep steps taken before reaching tout.\n",
      "At t = 7.82881e-005, , mxstep steps taken before reaching tout.\n",
      "The linesearch algorithm failed with too small a step.\n",
      "At t = 0.00464153, , mxstep steps taken before reaching tout.\n",
      "At t = 0.00464153, , mxstep steps taken before reaching tout.\n",
      "At t = 0.00217383 and h = 7.55687e-019, the corrector convergence failed repeatedly or with |h| = hmin.\n",
      "At t = 0.00093999 and h = 8.43345e-018, the corrector convergence failed repeatedly or with |h| = hmin.\n",
      "At t = 0.000323066, , mxstep steps taken before reaching tout.\n",
      "At t = 5.867e-005, , mxstep steps taken before reaching tout.\n",
      "At t = 5.86701e-005, , mxstep steps taken before reaching tout.\n",
      "At t = 5.86701e-005, , mxstep steps taken before reaching tout.\n",
      "At t = 1.96076e-005 and h = 2.08026e-018, the corrector convergence failed repeatedly or with |h| = hmin.\n",
      "The linesearch algorithm failed with too small a step.\n",
      "At t = 0.00702475, , mxstep steps taken before reaching tout.\n",
      "At t = 0.00208983, , mxstep steps taken before reaching tout.\n",
      "At t = 0.00208983, , mxstep steps taken before reaching tout.\n",
      "At t = 0.000856101 and h = 1.75784e-018, the corrector convergence failed repeatedly or with |h| = hmin.\n",
      "At t = 0.000239234, , mxstep steps taken before reaching tout.\n",
      "At t = 0.000239234 and h = 8.95062e-019, the corrector convergence failed repeatedly or with |h| = hmin.\n",
      "At t = 6.29862e-005, , mxstep steps taken before reaching tout.\n",
      "At t = 6.29862e-005, , mxstep steps taken before reaching tout.\n",
      "At t = 2.39236e-005, , mxstep steps taken before reaching tout.\n",
      "At t = 4.39237e-006, , mxstep steps taken before reaching tout.\n",
      "At t = 4.39235e-006, , mxstep steps taken before reaching tout.\n",
      "At t = 4.39239e-006, , mxstep steps taken before reaching tout.\n",
      "At t = 0.00172379, , mxstep steps taken before reaching tout.\n",
      "At t = 0.00172379, , mxstep steps taken before reaching tout.\n",
      "At t = 0.00172379, , mxstep steps taken before reaching tout.\n",
      "At t = 0.000489942, , mxstep steps taken before reaching tout.\n",
      "At t = 0.000489942 and h = 7.23691e-019, the corrector convergence failed repeatedly or with |h| = hmin.\n",
      "At t = 0.000225546, , mxstep steps taken before reaching tout.\n",
      "At t = 4.9282e-005 and h = 2.79e-018, the corrector convergence failed repeatedly or with |h| = hmin.\n",
      "At t = 4.92821e-005 and h = 2.41692e-019, the corrector convergence failed repeatedly or with |h| = hmin.\n",
      "At t = 0.00783068, , mxstep steps taken before reaching tout.\n",
      "At t = 0.0028953, , mxstep steps taken before reaching tout.\n",
      "At t = 0.000427608, , mxstep steps taken before reaching tout.\n",
      "At t = 0.000427608, , mxstep steps taken before reaching tout.\n",
      "At t = 0.000427608, , mxstep steps taken before reaching tout.\n",
      "At t = 0.000163212, , mxstep steps taken before reaching tout.\n",
      "At t = 0.00494241 and h = 6.04462e-019, the corrector convergence failed repeatedly or with |h| = hmin.\n"
     ]
    },
    {
     "name": "stdout",
     "output_type": "stream",
     "text": [
      "Using EC_diffusivity_5E_5\n",
      "Using EC_diffusivity_5E_5\n",
      "Using EC_diffusivity_5E_5\n",
      "Using EC_diffusivity_5E_5\n"
     ]
    },
    {
     "name": "stderr",
     "output_type": "stream",
     "text": [
      "At t = 0.00842567, , mxstep steps taken before reaching tout.\n",
      "At t = 0.00137511, , mxstep steps taken before reaching tout.\n",
      "At t = 0.00137511 and h = 1.34322e-018, the corrector convergence failed repeatedly or with |h| = hmin.\n",
      "At t = 0.000125106, , mxstep steps taken before reaching tout.\n",
      "At t = 0.000125106, , mxstep steps taken before reaching tout.\n",
      "At t = 0.000125106, , mxstep steps taken before reaching tout.\n",
      "At t = 0.000125106, , mxstep steps taken before reaching tout.\n",
      "At t = 4.69813e-005, , mxstep steps taken before reaching tout.\n",
      "The linesearch algorithm failed with too small a step.\n"
     ]
    },
    {
     "name": "stdout",
     "output_type": "stream",
     "text": [
      "Using EC_diffusivity_5E_5\n"
     ]
    },
    {
     "name": "stderr",
     "output_type": "stream",
     "text": [
      "At t = 0.00251255, , mxstep steps taken before reaching tout.\n",
      "At t = 0.00251255 and h = 1.74134e-018, the corrector convergence failed repeatedly or with |h| = hmin.\n",
      "At t = 0.000749907, , mxstep steps taken before reaching tout.\n",
      "At t = 0.000749908, , mxstep steps taken before reaching tout.\n",
      "At t = 0.000124908 and h = 2.98827e-018, the corrector convergence failed repeatedly or with |h| = hmin.\n",
      "At t = 0.000124908, , mxstep steps taken before reaching tout.\n",
      "At t = 0.000124908, , mxstep steps taken before reaching tout.\n",
      "At t = 4.67829e-005, , mxstep steps taken before reaching tout.\n",
      "At t = 7.72038e-006, , mxstep steps taken before reaching tout.\n",
      "At t = 7.72041e-006, , mxstep steps taken before reaching tout.\n",
      "At t = 7.72036e-006, , mxstep steps taken before reaching tout.\n",
      "At t = 2.83756e-006, , mxstep steps taken before reaching tout.\n",
      "The linesearch algorithm failed with too small a step.\n",
      "The linesearch algorithm failed with too small a step.\n"
     ]
    },
    {
     "name": "stdout",
     "output_type": "stream",
     "text": [
      "Using EC_diffusivity_5E_5\n"
     ]
    },
    {
     "name": "stderr",
     "output_type": "stream",
     "text": [
      "At t = 0.00607127, , mxstep steps taken before reaching tout.\n",
      "At t = 0.00113588, , mxstep steps taken before reaching tout.\n",
      "At t = 0.00113588, , mxstep steps taken before reaching tout.\n",
      "At t = 0.00113588, , mxstep steps taken before reaching tout.\n",
      "At t = 0.000518953 and h = 1.92539e-018, the corrector convergence failed repeatedly or with |h| = hmin.\n",
      "At t = 0.000254557, , mxstep steps taken before reaching tout.\n",
      "At t = 7.82925e-005 and h = 2.55049e-018, the corrector convergence failed repeatedly or with |h| = hmin.\n",
      "The linesearch algorithm failed with too small a step.\n"
     ]
    },
    {
     "name": "stdout",
     "output_type": "stream",
     "text": [
      "Using EC_diffusivity_5E_5\n"
     ]
    },
    {
     "name": "stderr",
     "output_type": "stream",
     "text": [
      "At t = 0.00464153 and h = 7.19117e-019, the corrector convergence failed repeatedly or with |h| = hmin.\n",
      "At t = 0.00464153, , mxstep steps taken before reaching tout.\n",
      "At t = 0.00217384, , mxstep steps taken before reaching tout.\n",
      "At t = 0.000939994, , mxstep steps taken before reaching tout.\n",
      "At t = 0.00032307, , mxstep steps taken before reaching tout.\n",
      "At t = 5.86741e-005, , mxstep steps taken before reaching tout.\n",
      "At t = 5.86741e-005 and h = 2.44454e-018, the corrector convergence failed repeatedly or with |h| = hmin.\n",
      "At t = 5.86741e-005, , mxstep steps taken before reaching tout.\n",
      "At t = 1.96115e-005, , mxstep steps taken before reaching tout.\n",
      "The linesearch algorithm failed with too small a step.\n"
     ]
    },
    {
     "name": "stdout",
     "output_type": "stream",
     "text": [
      "Using EC_diffusivity_5E_5\n"
     ]
    },
    {
     "name": "stderr",
     "output_type": "stream",
     "text": [
      "At t = 0.00702476, , mxstep steps taken before reaching tout.\n",
      "At t = 0.00208984, , mxstep steps taken before reaching tout.\n",
      "At t = 0.00208984, , mxstep steps taken before reaching tout.\n",
      "At t = 0.000856108 and h = 3.76768e-018, the corrector convergence failed repeatedly or with |h| = hmin.\n",
      "At t = 0.000239241, , mxstep steps taken before reaching tout.\n",
      "At t = 0.000239241, , mxstep steps taken before reaching tout.\n",
      "At t = 6.2993e-005, , mxstep steps taken before reaching tout.\n",
      "At t = 6.2993e-005, , mxstep steps taken before reaching tout.\n",
      "At t = 2.39305e-005, , mxstep steps taken before reaching tout.\n",
      "At t = 4.3993e-006, , mxstep steps taken before reaching tout.\n",
      "At t = 4.39931e-006, , mxstep steps taken before reaching tout.\n",
      "At t = 4.3993e-006, , mxstep steps taken before reaching tout.\n"
     ]
    },
    {
     "name": "stdout",
     "output_type": "stream",
     "text": [
      "Using EC_diffusivity_5E_5\n"
     ]
    },
    {
     "name": "stderr",
     "output_type": "stream",
     "text": [
      "At t = 0.00172379, , mxstep steps taken before reaching tout.\n",
      "At t = 0.00172379 and h = 1.78358e-018, the corrector convergence failed repeatedly or with |h| = hmin.\n",
      "At t = 0.00172379, , mxstep steps taken before reaching tout.\n",
      "At t = 0.000489947 and h = 5.44794e-019, the corrector convergence failed repeatedly or with |h| = hmin.\n",
      "At t = 0.000489947, , mxstep steps taken before reaching tout.\n",
      "At t = 0.000225551, , mxstep steps taken before reaching tout.\n",
      "At t = 4.92869e-005, , mxstep steps taken before reaching tout.\n",
      "At t = 4.92869e-005, , mxstep steps taken before reaching tout.\n"
     ]
    },
    {
     "name": "stdout",
     "output_type": "stream",
     "text": [
      "Using EC_diffusivity_5E_5\n"
     ]
    },
    {
     "name": "stderr",
     "output_type": "stream",
     "text": [
      "At t = 0.00783068, , mxstep steps taken before reaching tout.\n",
      "At t = 0.0028953, , mxstep steps taken before reaching tout.\n",
      "At t = 0.000427608 and h = 1.4382e-019, the corrector convergence failed repeatedly or with |h| = hmin.\n",
      "At t = 0.000427608, , mxstep steps taken before reaching tout.\n",
      "At t = 0.000427608, , mxstep steps taken before reaching tout.\n",
      "At t = 0.000163212, , mxstep steps taken before reaching tout.\n"
     ]
    },
    {
     "name": "stdout",
     "output_type": "stream",
     "text": [
      "Using EC_diffusivity_5E_5\n"
     ]
    },
    {
     "name": "stderr",
     "output_type": "stream",
     "text": [
      "At t = 0.00494242, , mxstep steps taken before reaching tout.\n",
      "At t = 0.0084278, , mxstep steps taken before reaching tout.\n",
      "At t = 0.00137724 and h = 2.86459e-018, the corrector convergence failed repeatedly or with |h| = hmin.\n",
      "At t = 0.00137724, , mxstep steps taken before reaching tout.\n",
      "At t = 0.00012724, , mxstep steps taken before reaching tout.\n",
      "At t = 0.000127239 and h = 3.21835e-017, the corrector convergence failed repeatedly or with |h| = hmin.\n",
      "At t = 0.000127239, , mxstep steps taken before reaching tout.\n",
      "At t = 0.000127239 and h = 1.02715e-017, the corrector convergence failed repeatedly or with |h| = hmin.\n",
      "At t = 4.91145e-005, , mxstep steps taken before reaching tout.\n",
      "At t = 0.00251409 and h = 1.10706e-018, the corrector convergence failed repeatedly or with |h| = hmin.\n",
      "At t = 0.00251409, , mxstep steps taken before reaching tout.\n",
      "At t = 0.000751447, , mxstep steps taken before reaching tout.\n",
      "At t = 0.000751448, , mxstep steps taken before reaching tout.\n",
      "At t = 0.000126448, , mxstep steps taken before reaching tout.\n",
      "At t = 0.000126448, , mxstep steps taken before reaching tout.\n",
      "At t = 0.000126448 and h = 2.1167e-018, the corrector convergence failed repeatedly or with |h| = hmin.\n",
      "At t = 4.83231e-005 and h = 2.84451e-018, the corrector convergence failed repeatedly or with |h| = hmin.\n",
      "At t = 9.26051e-006, , mxstep steps taken before reaching tout.\n",
      "At t = 9.26048e-006, , mxstep steps taken before reaching tout.\n",
      "At t = 9.26054e-006, , mxstep steps taken before reaching tout.\n",
      "At t = 4.37776e-006 and h = 1.82471e-018, the corrector convergence failed repeatedly or with |h| = hmin.\n",
      "At t = 1.93629e-006, , mxstep steps taken before reaching tout.\n",
      "At t = 0.00607242 and h = 4.10669e-018, the corrector convergence failed repeatedly or with |h| = hmin.\n",
      "At t = 0.00113703 and h = 2.93894e-018, the corrector convergence failed repeatedly or with |h| = hmin.\n",
      "At t = 0.00113703, , mxstep steps taken before reaching tout.\n",
      "At t = 0.00113703, , mxstep steps taken before reaching tout.\n",
      "At t = 0.000520111, , mxstep steps taken before reaching tout.\n",
      "At t = 0.000255715 and h = 3.04433e-018, the corrector convergence failed repeatedly or with |h| = hmin.\n",
      "At t = 7.94508e-005, , mxstep steps taken before reaching tout.\n",
      "At t = 1.32571e-006, , mxstep steps taken before reaching tout.\n",
      "At t = 1.32572e-006, , mxstep steps taken before reaching tout.\n",
      "At t = 1.32573e-006, , mxstep steps taken before reaching tout.\n",
      "At t = 1.32573e-006, , mxstep steps taken before reaching tout.\n",
      "At t = 1.32574e-006, , mxstep steps taken before reaching tout.\n",
      "At t = 1.3257e-006 and h = 2.36718e-018, the corrector convergence failed repeatedly or with |h| = hmin.\n",
      "The linesearch algorithm failed with too small a step.\n",
      "At t = 0.00464247, , mxstep steps taken before reaching tout.\n",
      "At t = 0.00464247, , mxstep steps taken before reaching tout.\n",
      "At t = 0.00217477, , mxstep steps taken before reaching tout.\n",
      "At t = 0.00094093, , mxstep steps taken before reaching tout.\n",
      "At t = 0.000324007, , mxstep steps taken before reaching tout.\n",
      "At t = 5.96105e-005, , mxstep steps taken before reaching tout.\n",
      "At t = 5.96105e-005 and h = 1.93889e-018, the corrector convergence failed repeatedly or with |h| = hmin.\n",
      "At t = 5.96105e-005, , mxstep steps taken before reaching tout.\n",
      "At t = 2.0548e-005, , mxstep steps taken before reaching tout.\n",
      "At t = 1.01673e-006, , mxstep steps taken before reaching tout.\n",
      "At t = 1.01659e-006 and h = 7.88504e-018, the corrector convergence failed repeatedly or with |h| = hmin.\n",
      "At t = 1.01675e-006, , mxstep steps taken before reaching tout.\n",
      "At t = 1.01676e-006, , mxstep steps taken before reaching tout.\n",
      "At t = 1.01678e-006, , mxstep steps taken before reaching tout.\n",
      "At t = 0.00702552, , mxstep steps taken before reaching tout.\n",
      "At t = 0.0020906, , mxstep steps taken before reaching tout.\n",
      "At t = 0.0020906, , mxstep steps taken before reaching tout.\n",
      "At t = 0.000856873, , mxstep steps taken before reaching tout.\n",
      "At t = 0.000240006, , mxstep steps taken before reaching tout.\n",
      "At t = 0.000240006, , mxstep steps taken before reaching tout.\n",
      "At t = 6.37583e-005, , mxstep steps taken before reaching tout.\n",
      "At t = 6.37583e-005, , mxstep steps taken before reaching tout.\n",
      "At t = 2.46957e-005, , mxstep steps taken before reaching tout.\n",
      "At t = 5.16447e-006 and h = 2.63141e-018, the corrector convergence failed repeatedly or with |h| = hmin.\n",
      "At t = 5.16452e-006 and h = 8.97647e-019, the corrector convergence failed repeatedly or with |h| = hmin.\n",
      "The linesearch algorithm failed with too small a step.\n",
      "At t = 0.00172442, , mxstep steps taken before reaching tout.\n",
      "At t = 0.00172442, , mxstep steps taken before reaching tout.\n",
      "At t = 0.00172442, , mxstep steps taken before reaching tout.\n",
      "At t = 0.000490567 and h = 7.3874e-019, the corrector convergence failed repeatedly or with |h| = hmin.\n",
      "At t = 0.000490567 and h = 4.92662e-019, the corrector convergence failed repeatedly or with |h| = hmin.\n",
      "At t = 0.000226171, , mxstep steps taken before reaching tout.\n",
      "At t = 4.9907e-005, , mxstep steps taken before reaching tout.\n",
      "At t = 4.99071e-005, , mxstep steps taken before reaching tout.\n",
      "At t = 1.08446e-005, , mxstep steps taken before reaching tout.\n",
      "At t = 1.08446e-005, , mxstep steps taken before reaching tout.\n",
      "At t = 0.00783122, , mxstep steps taken before reaching tout.\n",
      "At t = 0.00289584, , mxstep steps taken before reaching tout.\n",
      "At t = 0.000428147 and h = 1.95056e-018, the corrector convergence failed repeatedly or with |h| = hmin.\n",
      "At t = 0.000428147, , mxstep steps taken before reaching tout.\n",
      "At t = 0.000428147, , mxstep steps taken before reaching tout.\n",
      "At t = 0.000163752, , mxstep steps taken before reaching tout.\n",
      "At t = 7.56192e-005, , mxstep steps taken before reaching tout.\n",
      "At t = 7.56192e-005, , mxstep steps taken before reaching tout.\n",
      "At t = 3.65567e-005, , mxstep steps taken before reaching tout.\n",
      "At t = 1.70255e-005, , mxstep steps taken before reaching tout.\n",
      "At t = 0.00494287, , mxstep steps taken before reaching tout.\n"
     ]
    }
   ],
   "source": [
    "Valoen_All = []; para = Para_All[1]; str_para = Str_para[1];\n",
    "for model,str_model in zip(Model_All,Str_model):\n",
    "    Valoen_All.append(\n",
    "        Scan_Crate(Rate_Dis_All,Rate_Cha_All,model,para,str_model,str_para)\n",
    "        )"
   ]
  },
  {
   "cell_type": "code",
   "execution_count": 10,
   "metadata": {},
   "outputs": [
    {
     "data": {
      "text/plain": [
       "3"
      ]
     },
     "execution_count": 10,
     "metadata": {},
     "output_type": "execute_result"
    }
   ],
   "source": [
    "len(Valoen_All)"
   ]
  },
  {
   "cell_type": "code",
   "execution_count": 13,
   "metadata": {},
   "outputs": [
    {
     "data": {
      "text/plain": [
       "Text(0.5, 1.0, '$D_e = Valoen, \\\\sigma_e=Valoen$')"
      ]
     },
     "execution_count": 13,
     "metadata": {},
     "output_type": "execute_result"
    },
    {
     "data": {
      "image/png": "[encoded data removed]",
      "text/plain": [
       "<Figure size 1080x288 with 3 Axes>"
      ]
     },
     "metadata": {
      "needs_background": "light"
     },
     "output_type": "display_data"
    }
   ],
   "source": [
    "font = {'family' : 'DejaVu Sans','size'   : 17}\n",
    "mpl.rc('font', **font)\n",
    "Str=[ 'DFN',  'Single trans', 'Double trans' ]\n",
    "fig, axs = plt.subplots(1,3,figsize=(5*3, 4), layout='constrained')\n",
    "Colors = ['b','k','r',];LS = ['-','--','-'];MS=['o','^','h']\n",
    "for i in range(0,3):\n",
    "    #axs[0].plot(Rate_Dis_All,Andrew_All[i]['Cap_Dis_All'],color=Colors[i],linestyle=LS[i],marker = MS[i],label=Str[i])\n",
    "    axs[1].plot(Rate_Dis_All,Constant_All[i]['Cap_Dis_All'],color=Colors[i],linestyle=LS[i],marker = MS[i],label=Str[i])\n",
    "    axs[2].plot(Rate_Dis_All,Valoen_All[i]['Cap_Dis_All'],color=Colors[i],linestyle=LS[i],marker = MS[i],label=Str[i])\n",
    "    axs[i].set_xlabel(\"Discharge rate\")\n",
    "    axs[i].set_ylabel(\"Capacity [A.h]\")\n",
    "\n",
    "axs[1].legend(loc='best',frameon=False,)\n",
    "axs[0].set_title(r'$D_e = Andrew, \\sigma_e=Valoen$',loc='center')\n",
    "axs[1].set_title(r'$D_e = 3E-10, \\sigma_e=0.7$',loc='center')\n",
    "axs[2].set_title(r'$D_e = Valoen, \\sigma_e=Valoen$',loc='center')"
   ]
  },
  {
   "cell_type": "code",
   "execution_count": null,
   "metadata": {},
   "outputs": [],
   "source": [
    "# All cases contains: 3 para * 3 models * 11 C rates = 99 solutions  # for ageing, woundn't be c rates change, so 9 models \n",
    "# ['Andrew', 'Constant', 'Valoen']\n",
    "# [ 'DFN',  'Single trans', 'Double trans' ]\n",
    "# [0.5,1,2,3,4,5,6,7,8,9,10];  Rate_Cha_All = [1,]\n",
    "\n",
    "# to access Andrew - DFN - 1C:\n",
    "type(Andrew_All[0]['MyDict_All'][1]['Solution'])\n",
    "# to access Andrew - 'Double trans' - 1C:\n",
    "type(Andrew_All[2]['MyDict_All'][1]['Solution'])\n",
    "# Andrew_All 5C\n"
   ]
  },
  {
   "cell_type": "code",
   "execution_count": 14,
   "metadata": {},
   "outputs": [
    {
     "data": {
      "application/vnd.jupyter.widget-view+json": {
       "model_id": "d497748d8ec64c419343550aeda5947f",
       "version_major": 2,
       "version_minor": 0
      },
      "text/plain": [
       "interactive(children=(FloatSlider(value=0.31350113239490135, description='t', max=0.4597989641109953, min=0.31…"
      ]
     },
     "metadata": {},
     "output_type": "display_data"
    },
    {
     "data": {
      "application/vnd.jupyter.widget-view+json": {
       "model_id": "4a5589bd845c440184f3567fb6d06924",
       "version_major": 2,
       "version_minor": 0
      },
      "text/plain": [
       "interactive(children=(FloatSlider(value=0.31350113239490135, description='t', max=0.4597989641109953, min=0.31…"
      ]
     },
     "metadata": {},
     "output_type": "display_data"
    }
   ],
   "source": [
    "Plot_quick(Valoen_All, 5, 10)"
   ]
  },
  {
   "cell_type": "code",
   "execution_count": 16,
   "metadata": {},
   "outputs": [
    {
     "data": {
      "application/vnd.jupyter.widget-view+json": {
       "model_id": "c253b245c9e44e498cead45155510de9",
       "version_major": 2,
       "version_minor": 0
      },
      "text/plain": [
       "interactive(children=(FloatSlider(value=0.31350113239441907, description='t', max=0.45979896411086163, min=0.3…"
      ]
     },
     "metadata": {},
     "output_type": "display_data"
    },
    {
     "data": {
      "application/vnd.jupyter.widget-view+json": {
       "model_id": "9a6931c510da43af9c85eb8fb8199159",
       "version_major": 2,
       "version_minor": 0
      },
      "text/plain": [
       "interactive(children=(FloatSlider(value=0.31350113239441907, description='t', max=0.45979896411086163, min=0.3…"
      ]
     },
     "metadata": {},
     "output_type": "display_data"
    }
   ],
   "source": [
    "Plot_quick(Constant_All, 5, 10)"
   ]
  },
  {
   "cell_type": "code",
   "execution_count": null,
   "metadata": {},
   "outputs": [],
   "source": [
    "Plot_quick(Andrew_All, 5, 10)"
   ]
  },
  {
   "cell_type": "code",
   "execution_count": null,
   "metadata": {},
   "outputs": [],
   "source": []
  },
  {
   "cell_type": "code",
   "execution_count": null,
   "metadata": {},
   "outputs": [],
   "source": []
  },
  {
   "cell_type": "code",
   "execution_count": null,
   "metadata": {},
   "outputs": [],
   "source": [
    "ind = 0\n",
    "OCV = Sol_All[ind].cycles[0].steps[0][\"X-averaged battery open circuit voltage [V]\"].entries\n",
    "V_CELL    = Sol_All[ind].cycles[0].steps[0][\"Battery voltage [V]\"].entries\n",
    "eta_react = Sol_All[ind].cycles[0].steps[0][\"X-averaged battery reaction overpotential [V]\"].entries\n",
    "eta_grad_cLi = Sol_All[ind].cycles[0].steps[0][\"X-averaged battery concentration overpotential [V]\"].entries\n",
    "eta_grad_cEC = Sol_All[ind].cycles[0].steps[0][\"X-averaged EC concentration overpotential [V]\"].entries\n",
    "eta_Ohmic_e = Sol_All[ind].cycles[0].steps[0][\"X-averaged battery electrolyte ohmic losses [V]\"].entries\n",
    "eta_Ohmic_s = Sol_All[ind].cycles[0].steps[0][\"X-averaged battery solid phase ohmic losses [V]\"].entries\n",
    "Sum_1_wo_EC = OCV+eta_react+eta_grad_cLi+eta_Ohmic_e+eta_Ohmic_s;\n",
    "Sum_2_w_EC  = Sum_1_wo_EC + eta_grad_cEC;\n",
    "Time_1 =  Sol_All[ind].cycles[0].steps[0][\"Time [h]\"].entries\n",
    "\n",
    "fig, ax = plt.subplots(figsize=(4, 2.7), layout='constrained')\n",
    "ax.plot(Time_1,V_CELL, label = 'Ternimal Voltage')\n",
    "ax.plot(Time_1,Sum_1_wo_EC,  label = 'Sum_1_wo_EC')\n",
    "ax.plot(Time_1,Sum_2_w_EC, '--', label = 'Sum_2_w_EC')\n",
    "ax.set_title(\"Check plot\",loc='center')\n",
    "ax.set_xlabel(\"Time [h]\")\n",
    "ax.set_ylabel(\"Potential [V]\")\n",
    "ax.legend()\n",
    "\n",
    "fig, ax = plt.subplots(figsize=(4, 2.7), layout='constrained')\n",
    "ax.plot(Time_1,V_CELL-Sum_1_wo_EC, label = 'ref')\n",
    "ax.plot(Time_1,eta_grad_cEC,  label = 'grad_cEC')\n",
    "ax.set_title(\"Check plot\",loc='center')\n",
    "ax.set_xlabel(\"Time [h]\")\n",
    "ax.set_ylabel(\"Potential [V]\")\n",
    "ax.legend()"
   ]
  },
  {
   "cell_type": "code",
   "execution_count": null,
   "metadata": {},
   "outputs": [],
   "source": [
    "#label = [\"Double transport wo Sol affect potential\",\"Double transport w Sol affect potential\",] \n",
    "label = [\"Normal DFN\"] \n",
    "output_variables3 = [\n",
    "    [\n",
    "        \"X-averaged battery open circuit voltage [V]\",\n",
    "        \n",
    "        \"Battery voltage [V]\",\n",
    "    ],\n",
    "    [\n",
    "        \"X-averaged battery reaction overpotential [V]\",\n",
    "        \"X-averaged battery electrolyte ohmic losses [V]\",\n",
    "        \"X-averaged battery solid phase ohmic losses [V]\",\n",
    "    ],\n",
    "    [\n",
    "        \"X-averaged battery concentration overpotential [V]\",\n",
    "        \"X-averaged EC concentration overpotential [V]\", # Mark Ruihe add\n",
    "    ],\n",
    "]\n",
    "quick_plot = pybamm.QuickPlot(\n",
    "    [\n",
    "        Andrew_All[i]['MyDict_All'][5]['Solution'].cycles[0].steps[1] for i in range(0,1)\n",
    "    ], \n",
    "    output_variables3,label,variable_limits='tight',\n",
    "    time_unit='hours',\n",
    "    spatial_unit='mm',   figsize = (18,6),  #  (“m”, “mm”, or “um”)\n",
    "    n_rows=1) #\n",
    "quick_plot.dynamic_plot()"
   ]
  },
  {
   "cell_type": "code",
   "execution_count": null,
   "metadata": {},
   "outputs": [],
   "source": [
    "font = {'family' : 'DejaVu Sans','size'   : 11}\n",
    "mpl.rc('font', **font)\n",
    "pybamm.plot_voltage_components(Sol_All[0].cycles[0].steps[0])\n",
    "pybamm.plot_voltage_components(Sol_All[1].cycles[0].steps[0])\n",
    "pybamm.plot_voltage_components(Sol_All[2].cycles[0].steps[0])"
   ]
  },
  {
   "cell_type": "code",
   "execution_count": null,
   "metadata": {},
   "outputs": [],
   "source": [
    "label = [\"Normal DFN\",\"Single transport\",\"Double transport\",] \n",
    "output_variables3 = [\n",
    "    \"EC concentration\",\n",
    "    \"c(EC) over c(Li+)\",\n",
    "    \"Minus div EC flux\",\n",
    "    \"Minus div EC flux by diffusion\",\n",
    "    \"Minus div EC flux by migration\",\n",
    "    \"Minus div EC flux by Li+\",\n",
    "]\n",
    "quick_plot = pybamm.QuickPlot(\n",
    "    [\n",
    "        sol.cycles[0].steps[0] for sol in Sol_All\n",
    "    ], \n",
    "    output_variables3,label,variable_limits='fixed',\n",
    "    time_unit='hours',\n",
    "    spatial_unit='mm',     #  (“m”, “mm”, or “um”)\n",
    "    n_rows=2) #figsize = (18,12),\n",
    "quick_plot.dynamic_plot()"
   ]
  },
  {
   "cell_type": "code",
   "execution_count": null,
   "metadata": {},
   "outputs": [],
   "source": [
    "label = [\"Normal DFN\",\"Single transport\",\"Double transport\",] \n",
    "output_variables3 = [\n",
    "    \"Electrolyte concentration\",\n",
    "    \"Minus div Li+ flux\",\n",
    "    \"Li+ source term\",\n",
    "    \"Minus div Li+ flux by diffusion\",\n",
    "    \"Minus div Li+ flux by migration\",\n",
    "    \"Minus div Li+ flux by solvent\",\n",
    "]\n",
    "quick_plot = pybamm.QuickPlot(\n",
    "    [\n",
    "        sol.cycles[0].steps[0] for sol in Sol_All\n",
    "    ],  output_variables3,label,variable_limits='fixed',\n",
    "    time_unit='hours',\n",
    "    spatial_unit='mm',     #  (“m”, “mm”, or “um”)\n",
    "    n_rows=2) #figsize = (18,12),\n",
    "quick_plot.dynamic_plot()"
   ]
  },
  {
   "cell_type": "code",
   "execution_count": null,
   "metadata": {},
   "outputs": [],
   "source": [
    "Plot_Last_Single_Step(Sol_2,0,0,BasicPath, Target,1,1,'False',\"cool\",17,200)"
   ]
  },
  {
   "cell_type": "code",
   "execution_count": null,
   "metadata": {},
   "outputs": [],
   "source": [
    "Plot_Last_Single_Step(Sol_1,0,0,BasicPath, Target,1,1,'False',\"cool\",17,200)"
   ]
  }
 ],
 "metadata": {
  "kernelspec": {
   "display_name": "envSolCon",
   "language": "python",
   "name": "python3"
  },
  "language_info": {
   "codemirror_mode": {
    "name": "ipython",
    "version": 3
   },
   "file_extension": ".py",
   "mimetype": "text/x-python",
   "name": "python",
   "nbconvert_exporter": "python",
   "pygments_lexer": "ipython3",
   "version": "3.9.6 (tags/v3.9.6:db3ff76, Jun 28 2021, 15:26:21) [MSC v.1929 64 bit (AMD64)]"
  },
  "orig_nbformat": 4,
  "vscode": {
   "interpreter": {
    "hash": "5ae0c684446e40f7574a1a9821257f2365ba43f34c15f5f2e3dcabca0bad9ab7"
   }
  }
 },
 "nbformat": 4,
 "nbformat_minor": 2
}
