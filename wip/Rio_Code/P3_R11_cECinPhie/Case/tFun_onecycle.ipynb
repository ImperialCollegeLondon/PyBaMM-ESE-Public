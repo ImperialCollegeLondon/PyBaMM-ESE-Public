{
 "cells": [
  {
   "cell_type": "code",
   "execution_count": 34,
   "metadata": {},
   "outputs": [],
   "source": [
    "import pybamm;import pandas as pd   ;import numpy as np;import os;import matplotlib.pyplot as plt;import os;#import imageio\n",
    "from scipy.io import savemat,loadmat;from pybamm import constants,exp,sqrt;\n",
    "import matplotlib as mpl; \n",
    "fs=17; # or we can set import matplotlib.pyplot as plt then say 'mpl.rc...'\n",
    "import openpyxl\n",
    "import traceback\n",
    "import multiprocessing\n",
    "font = {'family' : 'DejaVu Sans','size'   : fs}\n",
    "mpl.rc('font', **font)"
   ]
  },
  {
   "cell_type": "code",
   "execution_count": 35,
   "metadata": {},
   "outputs": [],
   "source": [
    "import sys  \n",
    "str_path_0 = os.path.abspath(os.path.join(pybamm.__path__[0],'..'))\n",
    "str_path_1 = os.path.abspath(os.path.join(str_path_0,\"wip\\Rio_Code\\Fun_P3\"))\n",
    "sys.path.append(str_path_1) \n",
    "from Fun_P3 import *\n",
    "BasicPath = 'D:/OneDrive - Imperial College London/SimDataSave/P3R11/'; \n",
    "Target  = 'CrateScan/' \n",
    "if not os.path.exists(BasicPath + Target):\n",
    "   os.mkdir(BasicPath + Target)"
   ]
  },
  {
   "cell_type": "code",
   "execution_count": 36,
   "metadata": {},
   "outputs": [],
   "source": [
    "# Define 3 models: normal DFN, single transport by high Dec, double transport\n",
    "Model_DFN  = pybamm.lithium_ion.DFN(options={\n",
    "    \"solvent diffusion\": \"single no consume wo refill\",\n",
    "    \"electrolyte conductivity\": \"full\"  ,}) \n",
    "Model_SD  = pybamm.lithium_ion.DFN(options={\n",
    "    \"solvent diffusion\": \"double spatial consume w refill\",\n",
    "    \"electrolyte conductivity\": \"full\"  ,}) \n",
    "Model_DD  = pybamm.lithium_ion.DFN(options={\n",
    "    \"solvent diffusion\": \"double spatial consume w refill\",\n",
    "    \"electrolyte conductivity\": \"sol full\"  ,}) \n",
    "Model_All =[ Model_DFN,  Model_SD, Model_DD ]\n",
    "Str_model =[ 'Model_DFN',  'Model_SD', 'Model_DD' ]\n",
    "# 3 parameter set: Andrew, constant. Valoen\n",
    "Para_All = []\n",
    "for i in range(1,4):\n",
    "    para=pybamm.ParameterValues(\"Li2023_ECdrag\")\n",
    "    para.update({\"EC Lithium ion cross diffusivity [m2.s-1]\":1.5e-12})\n",
    "    para.update({\"EC initial concentration in electrolyte [mol.m-3]\":6250})\n",
    "    para.update({\"Cation transference number\":t_0plus_constant})\n",
    "    Para_All.append(para)\n",
    "Para_All[0].update({\"Electrolyte conductivity [S.m-1]\":electrolyte_conductivity_Andrew2022})\n",
    "Para_All[0].update({\"Electrolyte diffusivity [m2.s-1]\":electrolyte_diffusivity_Valoen2005Constant})\n",
    "Para_All[1].update({\"Electrolyte conductivity [S.m-1]\":cond_constant})\n",
    "Para_All[1].update({\"Electrolyte diffusivity [m2.s-1]\":diff_constant})\n",
    "Para_All[2].update({\"Electrolyte conductivity [S.m-1]\":electrolyte_conductivity_Valoen2005Constant})\n",
    "Para_All[2].update({\"Electrolyte diffusivity [m2.s-1]\":electrolyte_diffusivity_Valoen2005Constant})\n",
    "Str_para = ['Andrew', 'Constant', 'Valoen']"
   ]
  },
  {
   "cell_type": "code",
   "execution_count": 66,
   "metadata": {},
   "outputs": [],
   "source": [
    "def Run_P3_OneCycle(Rate_Dis,Rate_Cha,model,para,str_model,str_para):\n",
    "    para_used = para.copy()\n",
    "    if (\n",
    "        model.options[\"solvent diffusion\"]==\"double spatial consume w refill\" \n",
    "        and \n",
    "        model.options[\"electrolyte conductivity\"]=='full'):\n",
    "        para_used.update({\"EC diffusivity in electrolyte [m2.s-1]\":EC_diffusivity_5E_5})\n",
    "        print('Using EC_diffusivity_5E_5')\n",
    "    V_max = 4.2;        V_min = 2.5\n",
    "    if Rate_Dis > 4:\n",
    "        ts_dis = 1\n",
    "    else: \n",
    "        ts_dis = 20\n",
    "    if Rate_Cha > 4:\n",
    "        ts_cha = 1\n",
    "    else:\n",
    "        ts_cha = 20\n",
    "    Exp_1  = pybamm.Experiment(\n",
    "    [ (\n",
    "        f\"Hold at {V_max} V until C/100\",\n",
    "        f\"Discharge at {Rate_Dis} C until {V_min} V ({ts_dis} second period)\", \n",
    "        f\"Charge at {Rate_Cha} C until {V_max} V ({ts_cha} second period)\", \n",
    "        f\"Hold at {V_max} V until C/100\")    ] * 1 )  \n",
    "\n",
    "    c_e = model.variables[\"Electrolyte concentration [mol.m-3]\"]\n",
    "    c_EC= model.variables[\"EC concentration [mol.m-3]\"]\n",
    "    T = model.variables[\"Cell temperature [K]\"]\n",
    "    D_e = para_used[\"Electrolyte diffusivity [m2.s-1]\"]\n",
    "    D_EC= para_used[\"EC diffusivity in electrolyte [m2.s-1]\"]\n",
    "    sigma_e = para_used[\"Electrolyte conductivity [S.m-1]\"]\n",
    "    Xi = para_used[\"EC transference number\"]\n",
    "    model.variables[\"Electrolyte diffusivity [m2.s-1]\"] = D_e(c_e,c_EC, T)\n",
    "    model.variables[\"EC diffusivity in electrolyte [m2.s-1]\"] = D_EC(c_e,c_EC, T)\n",
    "    model.variables[\"Electrolyte conductivity [S.m-1]\"] = sigma_e(c_e,c_EC, T)\n",
    "    model.variables[\"EC transference number\"] = Xi(c_e,c_EC, T)\n",
    "    model.variables[\"c(EC) over c(Li+)\"] = c_EC / c_e\n",
    "    t_0plus = para_used[\"Cation transference number\"]\n",
    "    model.variables[\"Cation transference number\"] = t_0plus(c_e,c_EC, T)\n",
    "    sim    = pybamm.Simulation(\n",
    "        model, experiment = Exp_1,\n",
    "        parameter_values = para_used,\n",
    "        solver = pybamm.CasadiSolver(return_solution_if_failed_early=True),)       \n",
    "    sol    = sim.solve()\n",
    "    MyDict = {}\n",
    "    try:\n",
    "        MyDict ['Discharge Capacity'] = abs(\n",
    "            sol.cycles[0].steps[1]['Discharge capacity [A.h]'].entries[0] - \n",
    "            sol.cycles[0].steps[1]['Discharge capacity [A.h]'].entries[-1] )\n",
    "    except:\n",
    "        MyDict ['Discharge Capacity'] = 0\n",
    "    else:\n",
    "        pass\n",
    "    try:\n",
    "        MyDict ['Charge Capacity'] = abs(\n",
    "            sol.cycles[0].steps[2]['Discharge capacity [A.h]'].entries[0] - \n",
    "            sol.cycles[0].steps[3]['Discharge capacity [A.h]'].entries[-1] )#\n",
    "    except:\n",
    "        MyDict ['Charge Capacity']    = 0\n",
    "    else:\n",
    "        pass\n",
    "    MyDict['Solution']  = sol\n",
    "    MyDict['Rate_Dis']  = Rate_Dis\n",
    "    MyDict['Rate_Cha']  = Rate_Cha\n",
    "    return MyDict\n",
    "    \n",
    "def Scan_Crate(Rate_Dis_All,Rate_Cha_All,model,para,str_model,str_para):   \n",
    "    Case_Dict = {}\n",
    "    MyDict_All =[]; Cap_Dis_All = []  ; Cap_Cha_All = []  \n",
    "    # scan C-rate\n",
    "    for Rate_Dis in Rate_Dis_All:\n",
    "        for Rate_Cha in Rate_Cha_All:\n",
    "            MyDict_All.append(\n",
    "                Run_P3_OneCycle(\n",
    "                    Rate_Dis,Rate_Cha,model,para,\n",
    "                    str_model,str_para))\n",
    "            Cap_Dis_All.append(MyDict_All[-1]['Discharge Capacity'])\n",
    "            Cap_Cha_All.append(MyDict_All[-1]['Charge Capacity'])\n",
    "    Case_Dict ['Cap_Dis_All'] = Cap_Dis_All\n",
    "    Case_Dict ['Cap_Cha_All'] = Cap_Cha_All\n",
    "    Case_Dict ['str_model'] = str_model\n",
    "    Case_Dict ['str_para']  = str_para\n",
    "    Case_Dict ['MyDict_All']  = MyDict_All\n",
    "    Case_Dict ['Rate_Dis_All']  = Rate_Dis_All\n",
    "    Case_Dict ['Rate_Cha_All']  = Rate_Cha_All\n",
    "    return Case_Dict\n",
    "\n",
    "def Plot_quick(Case_Para_All, Crate_i, fs):\n",
    "    font = {'family' : 'DejaVu Sans','size'   : fs}; mpl.rc('font', **font)\n",
    "    label = [\"Normal DFN\",\"Single transport\",\"Double transport\",] \n",
    "    output_variables3 = [\n",
    "        #\"X-averaged battery open circuit voltage [V]\",\n",
    "        \"Battery voltage [V]\",\n",
    "        \"X-averaged battery reaction overpotential [V]\",\n",
    "        \"X-averaged battery concentration overpotential [V]\",\n",
    "        \"X-averaged EC concentration overpotential [V]\", # Mark Ruihe add\n",
    "        \"X-averaged battery electrolyte ohmic losses [V]\",\n",
    "        \"X-averaged battery solid phase ohmic losses [V]\",\n",
    "    ]\n",
    "    quick_plot = pybamm.QuickPlot(\n",
    "        [\n",
    "            Case_Para_All[i]['MyDict_All'][Crate_i]['Solution'].cycles[0].steps[1] for i in range(0,3)\n",
    "        ], \n",
    "        output_variables3,label,variable_limits='tight',\n",
    "        time_unit='hours',\n",
    "        spatial_unit='mm', figsize = (9,7),    #  (“m”, “mm”, or “um”)\n",
    "        n_rows=2) #\n",
    "    quick_plot.dynamic_plot()\n",
    "\n",
    "    output_variables3 = [\n",
    "        \"Electrolyte potential [V]\",\n",
    "        \"EC concentration [mol.m-3]\",\n",
    "        \"Electrolyte concentration [mol.m-3]\",\n",
    "        \"EC transference number\",\n",
    "        \"Electrolyte conductivity [S.m-1]\",\n",
    "        \"Electrolyte diffusivity [m2.s-1]\",\n",
    "    ]\n",
    "    quick_plot = pybamm.QuickPlot(\n",
    "        [\n",
    "            Case_Para_All[i]['MyDict_All'][Crate_i]['Solution'].cycles[0].steps[1] for i in range(0,3)\n",
    "        ], \n",
    "        output_variables3,label,variable_limits='fixed',\n",
    "        time_unit='hours',\n",
    "        spatial_unit='mm', figsize = (9,7),     #  (“m”, “mm”, or “um”)\n",
    "        n_rows=2) #figsize = (18,12),\n",
    "    quick_plot.dynamic_plot()"
   ]
  },
  {
   "cell_type": "code",
   "execution_count": 26,
   "metadata": {},
   "outputs": [
    {
     "name": "stderr",
     "output_type": "stream",
     "text": [
      "At t = 0.00838047, , mxstep steps taken before reaching tout.\n",
      "psetup failed: .../casadi/interfaces/sundials/idas_interface.cpp:849: Calculating Jacobian failed\n",
      "psetup failed: .../casadi/interfaces/sundials/idas_interface.cpp:849: Calculating Jacobian failed\n",
      "At t = 0.00568533 and h = 5.00099e-025, the corrector convergence failed repeatedly or with |h| = hmin.\n",
      "At t = 0.00646761 and h = 3.38768e-019, the corrector convergence failed repeatedly or with |h| = hmin.\n",
      "At t = 0.00558381 and h = 7.37994e-020, the corrector convergence failed repeatedly or with |h| = hmin.\n",
      "At t = 0.00737611 and h = 1.16351e-019, the corrector convergence failed repeatedly or with |h| = hmin.\n",
      "At t = 0.00516548 and h = 2.3248e-020, the corrector convergence failed repeatedly or with |h| = hmin.\n"
     ]
    },
    {
     "name": "stdout",
     "output_type": "stream",
     "text": [
      "Using EC_diffusivity_5E_5\n",
      "Using EC_diffusivity_5E_5\n",
      "Using EC_diffusivity_5E_5\n",
      "Using EC_diffusivity_5E_5\n"
     ]
    },
    {
     "name": "stderr",
     "output_type": "stream",
     "text": [
      "At t = 0.00838048 and h = 3.88605e-019, the corrector convergence failed repeatedly or with |h| = hmin.\n"
     ]
    },
    {
     "name": "stdout",
     "output_type": "stream",
     "text": [
      "Using EC_diffusivity_5E_5\n"
     ]
    },
    {
     "name": "stderr",
     "output_type": "stream",
     "text": [
      "At t = 0.00568533 and h = 2.27066e-018, the corrector convergence failed repeatedly or with |h| = hmin.\n"
     ]
    },
    {
     "name": "stdout",
     "output_type": "stream",
     "text": [
      "Using EC_diffusivity_5E_5\n"
     ]
    },
    {
     "name": "stderr",
     "output_type": "stream",
     "text": [
      "At t = 0.00643002 and h = 7.30166e-020, the corrector convergence failed repeatedly or with |h| = hmin.\n"
     ]
    },
    {
     "name": "stdout",
     "output_type": "stream",
     "text": [
      "Using EC_diffusivity_5E_5\n",
      "Using EC_diffusivity_5E_5\n"
     ]
    },
    {
     "name": "stderr",
     "output_type": "stream",
     "text": [
      "psetup failed: .../casadi/interfaces/sundials/idas_interface.cpp:849: Calculating Jacobian failed\n",
      "At t = 0.00558384 and h = 7.35429e-023, the corrector convergence failed repeatedly or with |h| = hmin.\n",
      "psetup failed: .../casadi/interfaces/sundials/idas_interface.cpp:849: Calculating Jacobian failed\n"
     ]
    },
    {
     "name": "stdout",
     "output_type": "stream",
     "text": [
      "Using EC_diffusivity_5E_5\n",
      "Using EC_diffusivity_5E_5\n"
     ]
    },
    {
     "name": "stderr",
     "output_type": "stream",
     "text": [
      "psetup failed: .../casadi/interfaces/sundials/idas_interface.cpp:849: Calculating Jacobian failed\n",
      "psetup failed: .../casadi/interfaces/sundials/idas_interface.cpp:849: Calculating Jacobian failed\n",
      "At t = 0.00737612 and h = 8.87327e-023, the corrector convergence failed repeatedly or with |h| = hmin.\n",
      "The linesearch algorithm failed with too small a step.\n"
     ]
    },
    {
     "name": "stdout",
     "output_type": "stream",
     "text": [
      "Using EC_diffusivity_5E_5\n"
     ]
    },
    {
     "name": "stderr",
     "output_type": "stream",
     "text": [
      "At t = 0.00516548 and h = 3.45171e-020, the corrector convergence failed repeatedly or with |h| = hmin.\n",
      "The linesearch algorithm failed with too small a step.\n",
      "At t = 0.00838559, , mxstep steps taken before reaching tout.\n",
      "At t = 0.00663567 and h = 2.56837e-023, the corrector convergence failed repeatedly or with |h| = hmin.\n",
      "At t = 0.00709142 and h = 7.3321e-023, the corrector convergence failed repeatedly or with |h| = hmin.\n",
      "At t = 0.00565132 and h = 2.6265e-023, the corrector convergence failed repeatedly or with |h| = hmin.\n",
      "psetup failed: .../casadi/interfaces/sundials/idas_interface.cpp:849: Calculating Jacobian failed\n",
      "psetup failed: .../casadi/interfaces/sundials/idas_interface.cpp:849: Calculating Jacobian failed\n",
      "At t = 0.00738191 and h = 5.42574e-021, the corrector convergence failed repeatedly or with |h| = hmin.\n",
      "At t = 0.00514029 and h = 1.00239e-021, the corrector convergence failed repeatedly or with |h| = hmin.\n"
     ]
    }
   ],
   "source": [
    "Rate_Dis_All = [0.5,1,2,3,4,5,6,7,8,9,10];  Rate_Cha_All = [1,]\n",
    "# Str_para = ['Andrew', 'Constant', 'Valoen']\n",
    "Andrew_All = []; para = Para_All[0]; str_para = Str_para[0];\n",
    "for model,str_model in zip(Model_All,Str_model):\n",
    "    Andrew_All.append(\n",
    "        Scan_Crate(Rate_Dis_All,Rate_Cha_All,model,para,str_model,str_para)\n",
    "        )"
   ]
  },
  {
   "cell_type": "code",
   "execution_count": 27,
   "metadata": {},
   "outputs": [
    {
     "name": "stderr",
     "output_type": "stream",
     "text": [
      "At t = 0.00837673, , mxstep steps taken before reaching tout.\n",
      "The linesearch algorithm failed with too small a step.\n",
      "The linesearch algorithm failed with too small a step.\n",
      "The linesearch algorithm failed with too small a step.\n",
      "The linesearch algorithm failed with too small a step.\n",
      "psetup failed: .../casadi/interfaces/sundials/idas_interface.cpp:849: Calculating Jacobian failed\n",
      "psetup failed: .../casadi/interfaces/sundials/idas_interface.cpp:849: Calculating Jacobian failed\n",
      "psetup failed: .../casadi/interfaces/sundials/idas_interface.cpp:849: Calculating Jacobian failed\n",
      "The linesearch algorithm failed with too small a step.\n",
      "The linesearch algorithm failed with too small a step.\n",
      "The linesearch algorithm failed with too small a step.\n",
      "The linesearch algorithm failed with too small a step.\n",
      "The linesearch algorithm failed with too small a step.\n",
      "psetup failed: .../casadi/interfaces/sundials/idas_interface.cpp:849: Calculating Jacobian failed\n",
      "psetup failed: .../casadi/interfaces/sundials/idas_interface.cpp:849: Calculating Jacobian failed\n",
      "psetup failed: .../casadi/interfaces/sundials/idas_interface.cpp:849: Calculating Jacobian failed\n",
      "psetup failed: .../casadi/interfaces/sundials/idas_interface.cpp:849: Calculating Jacobian failed\n",
      "psetup failed: .../casadi/interfaces/sundials/idas_interface.cpp:849: Calculating Jacobian failed\n",
      "psetup failed: .../casadi/interfaces/sundials/idas_interface.cpp:849: Calculating Jacobian failed\n",
      "psetup failed: .../casadi/interfaces/sundials/idas_interface.cpp:849: Calculating Jacobian failed\n",
      "psetup failed: .../casadi/interfaces/sundials/idas_interface.cpp:849: Calculating Jacobian failed\n",
      "psetup failed: .../casadi/interfaces/sundials/idas_interface.cpp:849: Calculating Jacobian failed\n",
      "At t = 0.00260905 and h = 1.94734e-011, the corrector convergence failed repeatedly or with |h| = hmin.\n",
      "psetup failed: .../casadi/interfaces/sundials/idas_interface.cpp:849: Calculating Jacobian failed\n",
      "psetup failed: .../casadi/interfaces/sundials/idas_interface.cpp:849: Calculating Jacobian failed\n",
      "psetup failed: .../casadi/interfaces/sundials/idas_interface.cpp:849: Calculating Jacobian failed\n",
      "psetup failed: .../casadi/interfaces/sundials/idas_interface.cpp:849: Calculating Jacobian failed\n"
     ]
    },
    {
     "name": "stdout",
     "output_type": "stream",
     "text": [
      "Using EC_diffusivity_5E_5\n",
      "Using EC_diffusivity_5E_5\n",
      "Using EC_diffusivity_5E_5\n",
      "Using EC_diffusivity_5E_5\n"
     ]
    },
    {
     "name": "stderr",
     "output_type": "stream",
     "text": [
      "At t = 0.00837672 and h = 8.53022e-018, the corrector convergence failed repeatedly or with |h| = hmin.\n"
     ]
    },
    {
     "name": "stdout",
     "output_type": "stream",
     "text": [
      "Using EC_diffusivity_5E_5\n"
     ]
    },
    {
     "name": "stderr",
     "output_type": "stream",
     "text": [
      "The linesearch algorithm failed with too small a step.\n",
      "The linesearch algorithm failed with too small a step.\n"
     ]
    },
    {
     "name": "stdout",
     "output_type": "stream",
     "text": [
      "Using EC_diffusivity_5E_5\n"
     ]
    },
    {
     "name": "stderr",
     "output_type": "stream",
     "text": [
      "The linesearch algorithm failed with too small a step.\n",
      "The linesearch algorithm failed with too small a step.\n"
     ]
    },
    {
     "name": "stdout",
     "output_type": "stream",
     "text": [
      "Using EC_diffusivity_5E_5\n"
     ]
    },
    {
     "name": "stderr",
     "output_type": "stream",
     "text": [
      "psetup failed: .../casadi/interfaces/sundials/idas_interface.cpp:849: Calculating Jacobian failed\n",
      "psetup failed: .../casadi/interfaces/sundials/idas_interface.cpp:849: Calculating Jacobian failed\n",
      "psetup failed: .../casadi/interfaces/sundials/idas_interface.cpp:849: Calculating Jacobian failed\n"
     ]
    },
    {
     "name": "stdout",
     "output_type": "stream",
     "text": [
      "Using EC_diffusivity_5E_5\n"
     ]
    },
    {
     "name": "stderr",
     "output_type": "stream",
     "text": [
      "psetup failed: .../casadi/interfaces/sundials/idas_interface.cpp:849: Calculating Jacobian failed\n",
      "The linesearch algorithm failed with too small a step.\n",
      "The linesearch algorithm failed with too small a step.\n",
      "The linesearch algorithm failed with too small a step.\n",
      "The linesearch algorithm failed with too small a step.\n",
      "The linesearch algorithm failed with too small a step.\n"
     ]
    },
    {
     "name": "stdout",
     "output_type": "stream",
     "text": [
      "Using EC_diffusivity_5E_5\n"
     ]
    },
    {
     "name": "stderr",
     "output_type": "stream",
     "text": [
      "psetup failed: .../casadi/interfaces/sundials/idas_interface.cpp:849: Calculating Jacobian failed\n",
      "psetup failed: .../casadi/interfaces/sundials/idas_interface.cpp:849: Calculating Jacobian failed\n",
      "The linesearch algorithm failed with too small a step.\n",
      "The linesearch algorithm failed with too small a step.\n",
      "The linesearch algorithm failed with too small a step.\n",
      "The linesearch algorithm failed with too small a step.\n"
     ]
    },
    {
     "name": "stdout",
     "output_type": "stream",
     "text": [
      "Using EC_diffusivity_5E_5\n"
     ]
    },
    {
     "name": "stderr",
     "output_type": "stream",
     "text": [
      "psetup failed: .../casadi/interfaces/sundials/idas_interface.cpp:849: Calculating Jacobian failed\n",
      "psetup failed: .../casadi/interfaces/sundials/idas_interface.cpp:849: Calculating Jacobian failed\n",
      "psetup failed: .../casadi/interfaces/sundials/idas_interface.cpp:849: Calculating Jacobian failed\n",
      "psetup failed: .../casadi/interfaces/sundials/idas_interface.cpp:849: Calculating Jacobian failed\n",
      "psetup failed: .../casadi/interfaces/sundials/idas_interface.cpp:849: Calculating Jacobian failed\n",
      "psetup failed: .../casadi/interfaces/sundials/idas_interface.cpp:849: Calculating Jacobian failed\n",
      "psetup failed: .../casadi/interfaces/sundials/idas_interface.cpp:849: Calculating Jacobian failed\n",
      "psetup failed: .../casadi/interfaces/sundials/idas_interface.cpp:849: Calculating Jacobian failed\n",
      "psetup failed: .../casadi/interfaces/sundials/idas_interface.cpp:849: Calculating Jacobian failed\n",
      "psetup failed: .../casadi/interfaces/sundials/idas_interface.cpp:849: Calculating Jacobian failed\n",
      "psetup failed: .../casadi/interfaces/sundials/idas_interface.cpp:849: Calculating Jacobian failed\n",
      "At t = 0.00629695 and h = 4.45361e-011, the corrector convergence failed repeatedly or with |h| = hmin.\n",
      "psetup failed: .../casadi/interfaces/sundials/idas_interface.cpp:849: Calculating Jacobian failed\n",
      "psetup failed: .../casadi/interfaces/sundials/idas_interface.cpp:849: Calculating Jacobian failed\n",
      "psetup failed: .../casadi/interfaces/sundials/idas_interface.cpp:849: Calculating Jacobian failed\n",
      "psetup failed: .../casadi/interfaces/sundials/idas_interface.cpp:849: Calculating Jacobian failed\n",
      "psetup failed: .../casadi/interfaces/sundials/idas_interface.cpp:849: Calculating Jacobian failed\n",
      "psetup failed: .../casadi/interfaces/sundials/idas_interface.cpp:849: Calculating Jacobian failed\n",
      "psetup failed: .../casadi/interfaces/sundials/idas_interface.cpp:849: Calculating Jacobian failed\n",
      "psetup failed: .../casadi/interfaces/sundials/idas_interface.cpp:849: Calculating Jacobian failed\n",
      "psetup failed: .../casadi/interfaces/sundials/idas_interface.cpp:849: Calculating Jacobian failed\n",
      "psetup failed: .../casadi/interfaces/sundials/idas_interface.cpp:849: Calculating Jacobian failed\n",
      "At t = 0.00341183 and h = 1.52825e-011, the corrector convergence failed repeatedly or with |h| = hmin.\n",
      "psetup failed: .../casadi/interfaces/sundials/idas_interface.cpp:849: Calculating Jacobian failed\n",
      "psetup failed: .../casadi/interfaces/sundials/idas_interface.cpp:849: Calculating Jacobian failed\n",
      "psetup failed: .../casadi/interfaces/sundials/idas_interface.cpp:849: Calculating Jacobian failed\n",
      "psetup failed: .../casadi/interfaces/sundials/idas_interface.cpp:849: Calculating Jacobian failed\n",
      "psetup failed: .../casadi/interfaces/sundials/idas_interface.cpp:849: Calculating Jacobian failed\n",
      "psetup failed: .../casadi/interfaces/sundials/idas_interface.cpp:849: Calculating Jacobian failed\n",
      "psetup failed: .../casadi/interfaces/sundials/idas_interface.cpp:849: Calculating Jacobian failed\n",
      "At t = 0.00317685 and h = 1.42478e-013, the corrector convergence failed repeatedly or with |h| = hmin.\n",
      "psetup failed: .../casadi/interfaces/sundials/idas_interface.cpp:849: Calculating Jacobian failed\n",
      "psetup failed: .../casadi/interfaces/sundials/idas_interface.cpp:849: Calculating Jacobian failed\n",
      "psetup failed: .../casadi/interfaces/sundials/idas_interface.cpp:849: Calculating Jacobian failed\n",
      "psetup failed: .../casadi/interfaces/sundials/idas_interface.cpp:849: Calculating Jacobian failed\n",
      "psetup failed: .../casadi/interfaces/sundials/idas_interface.cpp:849: Calculating Jacobian failed\n",
      "psetup failed: .../casadi/interfaces/sundials/idas_interface.cpp:849: Calculating Jacobian failed\n",
      "psetup failed: .../casadi/interfaces/sundials/idas_interface.cpp:849: Calculating Jacobian failed\n",
      "psetup failed: .../casadi/interfaces/sundials/idas_interface.cpp:849: Calculating Jacobian failed\n",
      "psetup failed: .../casadi/interfaces/sundials/idas_interface.cpp:849: Calculating Jacobian failed\n",
      "psetup failed: .../casadi/interfaces/sundials/idas_interface.cpp:849: Calculating Jacobian failed\n",
      "At t = 0.00312815 and h = 1.39255e-011, the corrector convergence failed repeatedly or with |h| = hmin.\n",
      "psetup failed: .../casadi/interfaces/sundials/idas_interface.cpp:849: Calculating Jacobian failed\n",
      "At t = 0.00123669 and h = 4.86258e-012, the corrector convergence failed repeatedly or with |h| = hmin.\n",
      "psetup failed: .../casadi/interfaces/sundials/idas_interface.cpp:849: Calculating Jacobian failed\n"
     ]
    },
    {
     "name": "stdout",
     "output_type": "stream",
     "text": [
      "Using EC_diffusivity_5E_5\n"
     ]
    },
    {
     "name": "stderr",
     "output_type": "stream",
     "text": [
      "At t = 0.00260706 and h = 1.95752e-011, the corrector convergence failed repeatedly or with |h| = hmin.\n",
      "At t = 0.00261107 and h = 2.04753e-011, the corrector convergence failed repeatedly or with |h| = hmin.\n",
      "At t = 0.00838219 and h = 3.41818e-018, the corrector convergence failed repeatedly or with |h| = hmin.\n",
      "At t = 0.00133163, , mxstep steps taken before reaching tout.\n",
      "At t = 0.00133163, , mxstep steps taken before reaching tout.\n",
      "The linesearch algorithm failed with too small a step.\n",
      "psetup failed: .../casadi/interfaces/sundials/idas_interface.cpp:849: Calculating Jacobian failed\n",
      "psetup failed: .../casadi/interfaces/sundials/idas_interface.cpp:849: Calculating Jacobian failed\n",
      "psetup failed: .../casadi/interfaces/sundials/idas_interface.cpp:849: Calculating Jacobian failed\n",
      "psetup failed: .../casadi/interfaces/sundials/idas_interface.cpp:849: Calculating Jacobian failed\n",
      "psetup failed: .../casadi/interfaces/sundials/idas_interface.cpp:849: Calculating Jacobian failed\n",
      "psetup failed: .../casadi/interfaces/sundials/idas_interface.cpp:849: Calculating Jacobian failed\n",
      "psetup failed: .../casadi/interfaces/sundials/idas_interface.cpp:849: Calculating Jacobian failed\n",
      "psetup failed: .../casadi/interfaces/sundials/idas_interface.cpp:849: Calculating Jacobian failed\n",
      "psetup failed: .../casadi/interfaces/sundials/idas_interface.cpp:849: Calculating Jacobian failed\n",
      "psetup failed: .../casadi/interfaces/sundials/idas_interface.cpp:849: Calculating Jacobian failed\n",
      "psetup failed: .../casadi/interfaces/sundials/idas_interface.cpp:849: Calculating Jacobian failed\n",
      "psetup failed: .../casadi/interfaces/sundials/idas_interface.cpp:849: Calculating Jacobian failed\n",
      "psetup failed: .../casadi/interfaces/sundials/idas_interface.cpp:849: Calculating Jacobian failed\n",
      "At t = 0.00902402 and h = 1.07406e-010, the corrector convergence failed repeatedly or with |h| = hmin.\n",
      "psetup failed: .../casadi/interfaces/sundials/idas_interface.cpp:849: Calculating Jacobian failed\n",
      "psetup failed: .../casadi/interfaces/sundials/idas_interface.cpp:849: Calculating Jacobian failed\n",
      "psetup failed: .../casadi/interfaces/sundials/idas_interface.cpp:849: Calculating Jacobian failed\n",
      "psetup failed: .../casadi/interfaces/sundials/idas_interface.cpp:849: Calculating Jacobian failed\n",
      "psetup failed: .../casadi/interfaces/sundials/idas_interface.cpp:849: Calculating Jacobian failed\n",
      "psetup failed: .../casadi/interfaces/sundials/idas_interface.cpp:849: Calculating Jacobian failed\n",
      "psetup failed: .../casadi/interfaces/sundials/idas_interface.cpp:849: Calculating Jacobian failed\n",
      "psetup failed: .../casadi/interfaces/sundials/idas_interface.cpp:849: Calculating Jacobian failed\n",
      "psetup failed: .../casadi/interfaces/sundials/idas_interface.cpp:849: Calculating Jacobian failed\n",
      "psetup failed: .../casadi/interfaces/sundials/idas_interface.cpp:849: Calculating Jacobian failed\n",
      "At t = 0.00379936 and h = 1.31942e-010, the corrector convergence failed repeatedly or with |h| = hmin.\n",
      "psetup failed: .../casadi/interfaces/sundials/idas_interface.cpp:849: Calculating Jacobian failed\n",
      "psetup failed: .../casadi/interfaces/sundials/idas_interface.cpp:849: Calculating Jacobian failed\n",
      "psetup failed: .../casadi/interfaces/sundials/idas_interface.cpp:849: Calculating Jacobian failed\n",
      "The linesearch algorithm failed with too small a step.\n",
      "psetup failed: .../casadi/interfaces/sundials/idas_interface.cpp:849: Calculating Jacobian failed\n",
      "psetup failed: .../casadi/interfaces/sundials/idas_interface.cpp:849: Calculating Jacobian failed\n",
      "psetup failed: .../casadi/interfaces/sundials/idas_interface.cpp:849: Calculating Jacobian failed\n",
      "psetup failed: .../casadi/interfaces/sundials/idas_interface.cpp:849: Calculating Jacobian failed\n",
      "psetup failed: .../casadi/interfaces/sundials/idas_interface.cpp:849: Calculating Jacobian failed\n",
      "psetup failed: .../casadi/interfaces/sundials/idas_interface.cpp:849: Calculating Jacobian failed\n",
      "psetup failed: .../casadi/interfaces/sundials/idas_interface.cpp:849: Calculating Jacobian failed\n",
      "psetup failed: .../casadi/interfaces/sundials/idas_interface.cpp:849: Calculating Jacobian failed\n",
      "psetup failed: .../casadi/interfaces/sundials/idas_interface.cpp:849: Calculating Jacobian failed\n",
      "psetup failed: .../casadi/interfaces/sundials/idas_interface.cpp:849: Calculating Jacobian failed\n",
      "At t = 0.00571656 and h = 1.09766e-011, the corrector convergence failed repeatedly or with |h| = hmin.\n",
      "The linesearch algorithm failed with too small a step.\n",
      "The linesearch algorithm failed with too small a step.\n",
      "The linesearch algorithm failed with too small a step.\n",
      "The linesearch algorithm failed with too small a step.\n",
      "The linesearch algorithm failed with too small a step.\n",
      "The linesearch algorithm failed with too small a step.\n",
      "2022-12-22 23:39:06.817 - [ERROR] callbacks.on_experiment_error(226): Simulation error: Maximum number of decreased steps occurred at t=1278.1609574991357 (final SolverError: '.../casadi/interfaces/sundials/idas_interface.cpp:591: IDACalcIC returned \"IDA_LINESEARCH_FAIL\". Consult IDAS documentation.'). For a full solution try reducing dt_max (currently, dt_max=113.46612775644178) and/or reducing the size of the time steps or period of the experiment. Set `return_solution_if_failed_early=True` to return the solution object up to the point where failure occured.\n",
      "At t = 0.00473308 and h = 1.60897e-011, the corrector convergence failed repeatedly or with |h| = hmin.\n",
      "psetup failed: .../casadi/interfaces/sundials/idas_interface.cpp:849: Calculating Jacobian failed\n"
     ]
    }
   ],
   "source": [
    "Constant_All = []; para = Para_All[1]; str_para = Str_para[1];\n",
    "for model,str_model in zip(Model_All,Str_model):\n",
    "    Constant_All.append(\n",
    "        Scan_Crate(Rate_Dis_All,Rate_Cha_All,model,para,str_model,str_para)\n",
    "        )"
   ]
  },
  {
   "cell_type": "code",
   "execution_count": 56,
   "metadata": {},
   "outputs": [
    {
     "name": "stderr",
     "output_type": "stream",
     "text": [
      "At t = 0.00838275, , mxstep steps taken before reaching tout.\n",
      "At t = 0.00133219, , mxstep steps taken before reaching tout.\n",
      "At t = 0.00133219, , mxstep steps taken before reaching tout.\n",
      "psetup failed: .../casadi/interfaces/sundials/idas_interface.cpp:849: Calculating Jacobian failed\n",
      "psetup failed: .../casadi/interfaces/sundials/idas_interface.cpp:849: Calculating Jacobian failed\n",
      "At t = 0.00774026 and h = 4.41215e-011, the corrector convergence failed repeatedly or with |h| = hmin.\n",
      "psetup failed: .../casadi/interfaces/sundials/idas_interface.cpp:849: Calculating Jacobian failed\n",
      "At t = 0.00297353 and h = 2.51771e-011, the corrector convergence failed repeatedly or with |h| = hmin.\n",
      "psetup failed: .../casadi/interfaces/sundials/idas_interface.cpp:849: Calculating Jacobian failed\n",
      "psetup failed: .../casadi/interfaces/sundials/idas_interface.cpp:849: Calculating Jacobian failed\n",
      "psetup failed: .../casadi/interfaces/sundials/idas_interface.cpp:849: Calculating Jacobian failed\n",
      "psetup failed: .../casadi/interfaces/sundials/idas_interface.cpp:849: Calculating Jacobian failed\n",
      "psetup failed: .../casadi/interfaces/sundials/idas_interface.cpp:849: Calculating Jacobian failed\n",
      "psetup failed: .../casadi/interfaces/sundials/idas_interface.cpp:849: Calculating Jacobian failed\n",
      "psetup failed: .../casadi/interfaces/sundials/idas_interface.cpp:849: Calculating Jacobian failed\n",
      "At t = 0.00359405 and h = 3.28841e-012, the corrector convergence failed repeatedly or with |h| = hmin.\n",
      "psetup failed: .../casadi/interfaces/sundials/idas_interface.cpp:849: Calculating Jacobian failed\n",
      "At t = 0.0027464 and h = 1.86883e-012, the corrector convergence failed repeatedly or with |h| = hmin.\n"
     ]
    },
    {
     "name": "stdout",
     "output_type": "stream",
     "text": [
      "Using EC_diffusivity_5E_5\n",
      "Using EC_diffusivity_5E_5\n",
      "Using EC_diffusivity_5E_5\n",
      "Using EC_diffusivity_5E_5\n"
     ]
    },
    {
     "name": "stderr",
     "output_type": "stream",
     "text": [
      "At t = 0.00838276, , mxstep steps taken before reaching tout.\n",
      "At t = 0.0013322, , mxstep steps taken before reaching tout.\n",
      "At t = 0.0013322 and h = 7.26274e-019, the corrector convergence failed repeatedly or with |h| = hmin.\n"
     ]
    },
    {
     "name": "stdout",
     "output_type": "stream",
     "text": [
      "Using EC_diffusivity_5E_5\n",
      "Using EC_diffusivity_5E_5\n",
      "Using EC_diffusivity_5E_5\n"
     ]
    },
    {
     "name": "stderr",
     "output_type": "stream",
     "text": [
      "psetup failed: .../casadi/interfaces/sundials/idas_interface.cpp:849: Calculating Jacobian failed\n",
      "At t = 0.00814256 and h = 1.5189e-013, the corrector convergence failed repeatedly or with |h| = hmin.\n"
     ]
    },
    {
     "name": "stdout",
     "output_type": "stream",
     "text": [
      "Using EC_diffusivity_5E_5\n"
     ]
    },
    {
     "name": "stderr",
     "output_type": "stream",
     "text": [
      "psetup failed: .../casadi/interfaces/sundials/idas_interface.cpp:849: Calculating Jacobian failed\n",
      "At t = 0.00787979 and h = 2.37325e-011, the corrector convergence failed repeatedly or with |h| = hmin.\n",
      "psetup failed: .../casadi/interfaces/sundials/idas_interface.cpp:849: Calculating Jacobian failed\n",
      "psetup failed: .../casadi/interfaces/sundials/idas_interface.cpp:849: Calculating Jacobian failed\n"
     ]
    },
    {
     "name": "stdout",
     "output_type": "stream",
     "text": [
      "Using EC_diffusivity_5E_5\n"
     ]
    },
    {
     "name": "stderr",
     "output_type": "stream",
     "text": [
      "psetup failed: .../casadi/interfaces/sundials/idas_interface.cpp:849: Calculating Jacobian failed\n",
      "psetup failed: .../casadi/interfaces/sundials/idas_interface.cpp:849: Calculating Jacobian failed\n",
      "psetup failed: .../casadi/interfaces/sundials/idas_interface.cpp:849: Calculating Jacobian failed\n",
      "psetup failed: .../casadi/interfaces/sundials/idas_interface.cpp:849: Calculating Jacobian failed\n",
      "psetup failed: .../casadi/interfaces/sundials/idas_interface.cpp:849: Calculating Jacobian failed\n",
      "At t = 0.00486724 and h = 3.56678e-011, the corrector convergence failed repeatedly or with |h| = hmin.\n",
      "psetup failed: .../casadi/interfaces/sundials/idas_interface.cpp:849: Calculating Jacobian failed\n",
      "psetup failed: .../casadi/interfaces/sundials/idas_interface.cpp:849: Calculating Jacobian failed\n",
      "psetup failed: .../casadi/interfaces/sundials/idas_interface.cpp:849: Calculating Jacobian failed\n",
      "psetup failed: .../casadi/interfaces/sundials/idas_interface.cpp:849: Calculating Jacobian failed\n",
      "psetup failed: .../casadi/interfaces/sundials/idas_interface.cpp:849: Calculating Jacobian failed\n",
      "psetup failed: .../casadi/interfaces/sundials/idas_interface.cpp:849: Calculating Jacobian failed\n",
      "psetup failed: .../casadi/interfaces/sundials/idas_interface.cpp:849: Calculating Jacobian failed\n",
      "psetup failed: .../casadi/interfaces/sundials/idas_interface.cpp:849: Calculating Jacobian failed\n",
      "psetup failed: .../casadi/interfaces/sundials/idas_interface.cpp:849: Calculating Jacobian failed\n",
      "psetup failed: .../casadi/interfaces/sundials/idas_interface.cpp:849: Calculating Jacobian failed\n",
      "At t = 0.00478813 and h = 2.34738e-011, the corrector convergence failed repeatedly or with |h| = hmin.\n",
      "psetup failed: .../casadi/interfaces/sundials/idas_interface.cpp:849: Calculating Jacobian failed\n",
      "psetup failed: .../casadi/interfaces/sundials/idas_interface.cpp:849: Calculating Jacobian failed\n",
      "psetup failed: .../casadi/interfaces/sundials/idas_interface.cpp:849: Calculating Jacobian failed\n",
      "The linesearch algorithm failed with too small a step.\n",
      "The linesearch algorithm failed with too small a step.\n",
      "The linesearch algorithm failed with too small a step.\n",
      "The linesearch algorithm failed with too small a step.\n"
     ]
    },
    {
     "name": "stdout",
     "output_type": "stream",
     "text": [
      "Using EC_diffusivity_5E_5\n"
     ]
    },
    {
     "name": "stderr",
     "output_type": "stream",
     "text": [
      "psetup failed: .../casadi/interfaces/sundials/idas_interface.cpp:849: Calculating Jacobian failed\n",
      "psetup failed: .../casadi/interfaces/sundials/idas_interface.cpp:849: Calculating Jacobian failed\n",
      "At t = 0.008837 and h = 1.80143e-013, the corrector convergence failed repeatedly or with |h| = hmin.\n",
      "psetup failed: .../casadi/interfaces/sundials/idas_interface.cpp:849: Calculating Jacobian failed\n",
      "psetup failed: .../casadi/interfaces/sundials/idas_interface.cpp:849: Calculating Jacobian failed\n"
     ]
    },
    {
     "name": "stdout",
     "output_type": "stream",
     "text": [
      "Using EC_diffusivity_5E_5\n"
     ]
    },
    {
     "name": "stderr",
     "output_type": "stream",
     "text": [
      "psetup failed: .../casadi/interfaces/sundials/idas_interface.cpp:849: Calculating Jacobian failed\n",
      "At t = 0.00270385 and h = 1.57651e-011, the corrector convergence failed repeatedly or with |h| = hmin.\n",
      "psetup failed: .../casadi/interfaces/sundials/idas_interface.cpp:849: Calculating Jacobian failed\n",
      "At t = 0.00270608 and h = 5.42534e-013, the corrector convergence failed repeatedly or with |h| = hmin.\n",
      "At t = 0.00838787, , mxstep steps taken before reaching tout.\n",
      "At t = 0.00133731, , mxstep steps taken before reaching tout.\n",
      "At t = 0.00133731, , mxstep steps taken before reaching tout.\n",
      "At t = 8.73123e-005, , mxstep steps taken before reaching tout.\n",
      "At t = 8.73124e-005, , mxstep steps taken before reaching tout.\n",
      "At t = 8.73123e-005 and h = 1.51178e-018, the corrector convergence failed repeatedly or with |h| = hmin.\n",
      "At t = 8.73123e-005, , mxstep steps taken before reaching tout.\n",
      "The linesearch algorithm failed with too small a step.\n",
      "The linesearch algorithm failed with too small a step.\n",
      "At t = 0.00677595 and h = 1.75262e-011, the corrector convergence failed repeatedly or with |h| = hmin.\n",
      "psetup failed: .../casadi/interfaces/sundials/idas_interface.cpp:849: Calculating Jacobian failed\n",
      "psetup failed: .../casadi/interfaces/sundials/idas_interface.cpp:849: Calculating Jacobian failed\n",
      "At t = 0.00341177 and h = 1.98449e-011, the corrector convergence failed repeatedly or with |h| = hmin.\n",
      "psetup failed: .../casadi/interfaces/sundials/idas_interface.cpp:849: Calculating Jacobian failed\n",
      "psetup failed: .../casadi/interfaces/sundials/idas_interface.cpp:849: Calculating Jacobian failed\n",
      "At t = 0.00510797 and h = 1.01442e-012, the corrector convergence failed repeatedly or with |h| = hmin.\n",
      "psetup failed: .../casadi/interfaces/sundials/idas_interface.cpp:849: Calculating Jacobian failed\n",
      "At t = 0.00270581 and h = 7.16752e-013, the corrector convergence failed repeatedly or with |h| = hmin.\n"
     ]
    }
   ],
   "source": [
    "Valoen_All = []; para = Para_All[2]; str_para = Str_para[2];\n",
    "for model,str_model in zip(Model_All,Str_model):\n",
    "    Valoen_All.append(\n",
    "        Scan_Crate(Rate_Dis_All,Rate_Cha_All,model,para,str_model,str_para)\n",
    "        )"
   ]
  },
  {
   "cell_type": "code",
   "execution_count": 61,
   "metadata": {},
   "outputs": [
    {
     "data": {
      "text/plain": [
       "Text(0.5, 1.0, '$D_e = Valoen, \\\\sigma_e=Valoen$')"
      ]
     },
     "execution_count": 61,
     "metadata": {},
     "output_type": "execute_result"
    },
    {
     "data": {
      "image/png": "[encoded data removed]",
      "text/plain": [
       "<Figure size 1080x288 with 3 Axes>"
      ]
     },
     "metadata": {
      "needs_background": "light"
     },
     "output_type": "display_data"
    }
   ],
   "source": [
    "font = {'family' : 'DejaVu Sans','size'   : 17}\n",
    "mpl.rc('font', **font)\n",
    "Str=[ 'DFN',  'Single trans', 'Double trans' ]\n",
    "fig, axs = plt.subplots(1,3,figsize=(5*3, 4), layout='constrained')\n",
    "Colors = ['b','k','r',];LS = ['-','--','-'];MS=['o','^','h']\n",
    "for i in range(0,3):\n",
    "    axs[0].plot(Rate_Dis_All,Andrew_All[i]['Cap_Dis_All'],color=Colors[i],linestyle=LS[i],marker = MS[i],label=Str[i])\n",
    "    axs[1].plot(Rate_Dis_All,Constant_All[i]['Cap_Dis_All'],color=Colors[i],linestyle=LS[i],marker = MS[i],label=Str[i])\n",
    "    axs[2].plot(Rate_Dis_All,Valoen_All[i]['Cap_Dis_All'],color=Colors[i],linestyle=LS[i],marker = MS[i],label=Str[i])\n",
    "    axs[i].set_xlabel(\"Discharge rate\")\n",
    "    axs[i].set_ylabel(\"Capacity [A.h]\")\n",
    "\n",
    "axs[0].legend(loc='best',frameon=False,)\n",
    "axs[0].set_title(r'$D_e = Valoen, \\sigma_e=Andrew$',loc='center')\n",
    "axs[1].set_title(r'$D_e = 3E-10, \\sigma_e=0.7$',loc='center')\n",
    "axs[2].set_title(r'$D_e = Valoen, \\sigma_e=Valoen$',loc='center')"
   ]
  },
  {
   "cell_type": "code",
   "execution_count": 30,
   "metadata": {},
   "outputs": [
    {
     "data": {
      "text/plain": [
       "pybamm.solvers.solution.Solution"
      ]
     },
     "execution_count": 30,
     "metadata": {},
     "output_type": "execute_result"
    }
   ],
   "source": [
    "# All cases contains: 3 para * 3 models * 11 C rates = 99 solutions  # for ageing, woundn't be c rates change, so 9 models \n",
    "# ['Andrew', 'Constant', 'Valoen']\n",
    "# [ 'DFN',  'Single trans', 'Double trans' ]\n",
    "# [0.5,1,2,3,4,5,6,7,8,9,10];  Rate_Cha_All = [1,]\n",
    "\n",
    "# to access Andrew - DFN - 1C:\n",
    "type(Andrew_All[0]['MyDict_All'][1]['Solution'])\n",
    "# to access Andrew - 'Double trans' - 1C:\n",
    "type(Andrew_All[2]['MyDict_All'][1]['Solution'])\n",
    "# Andrew_All 5C\n"
   ]
  },
  {
   "cell_type": "code",
   "execution_count": 68,
   "metadata": {},
   "outputs": [
    {
     "data": {
      "application/vnd.jupyter.widget-view+json": {
       "model_id": "5c353d5a67a34b1c953b21dab01fb0a6",
       "version_major": 2,
       "version_minor": 0
      },
      "text/plain": [
       "interactive(children=(FloatSlider(value=0.33825947584270477, description='t', max=0.42357771432979247, min=0.3…"
      ]
     },
     "metadata": {},
     "output_type": "display_data"
    },
    {
     "data": {
      "application/vnd.jupyter.widget-view+json": {
       "model_id": "c6cfbc3909d0411d964b81627bada3ec",
       "version_major": 2,
       "version_minor": 0
      },
      "text/plain": [
       "interactive(children=(FloatSlider(value=0.33825947584270477, description='t', max=0.42357771432979247, min=0.3…"
      ]
     },
     "metadata": {},
     "output_type": "display_data"
    }
   ],
   "source": [
    "Plot_quick(Valoen_All, 5, 8)"
   ]
  },
  {
   "cell_type": "code",
   "execution_count": 69,
   "metadata": {},
   "outputs": [
    {
     "data": {
      "application/vnd.jupyter.widget-view+json": {
       "model_id": "3d58e678ae4449a4917a31b920b8fe52",
       "version_major": 2,
       "version_minor": 0
      },
      "text/plain": [
       "interactive(children=(FloatSlider(value=0.33944104678791664, description='t', max=0.4425640765106996, min=0.33…"
      ]
     },
     "metadata": {},
     "output_type": "display_data"
    },
    {
     "data": {
      "application/vnd.jupyter.widget-view+json": {
       "model_id": "6c4f239e3fbd41cca3a219fc6d7087b2",
       "version_major": 2,
       "version_minor": 0
      },
      "text/plain": [
       "interactive(children=(FloatSlider(value=0.33944104678791664, description='t', max=0.4425640765106996, min=0.33…"
      ]
     },
     "metadata": {},
     "output_type": "display_data"
    }
   ],
   "source": [
    "Plot_quick(Andrew_All, 5, 8)"
   ]
  },
  {
   "cell_type": "code",
   "execution_count": 70,
   "metadata": {},
   "outputs": [
    {
     "data": {
      "application/vnd.jupyter.widget-view+json": {
       "model_id": "04e9a28c82894ed0bbba0828ea371ca0",
       "version_major": 2,
       "version_minor": 0
      },
      "text/plain": [
       "interactive(children=(FloatSlider(value=0.3411676617059392, description='t', max=0.4151349923274096, min=0.341…"
      ]
     },
     "metadata": {},
     "output_type": "display_data"
    },
    {
     "data": {
      "application/vnd.jupyter.widget-view+json": {
       "model_id": "69f701781bba44b1bafc073cd34810de",
       "version_major": 2,
       "version_minor": 0
      },
      "text/plain": [
       "interactive(children=(FloatSlider(value=0.3411676617059392, description='t', max=0.4151349923274096, min=0.341…"
      ]
     },
     "metadata": {},
     "output_type": "display_data"
    }
   ],
   "source": [
    "Plot_quick(Constant_All, 5, 8)"
   ]
  },
  {
   "cell_type": "code",
   "execution_count": null,
   "metadata": {},
   "outputs": [],
   "source": []
  },
  {
   "cell_type": "code",
   "execution_count": null,
   "metadata": {},
   "outputs": [],
   "source": [
    "ind = 0\n",
    "OCV = Sol_All[ind].cycles[0].steps[0][\"X-averaged battery open circuit voltage [V]\"].entries\n",
    "V_CELL    = Sol_All[ind].cycles[0].steps[0][\"Battery voltage [V]\"].entries\n",
    "eta_react = Sol_All[ind].cycles[0].steps[0][\"X-averaged battery reaction overpotential [V]\"].entries\n",
    "eta_grad_cLi = Sol_All[ind].cycles[0].steps[0][\"X-averaged battery concentration overpotential [V]\"].entries\n",
    "eta_grad_cEC = Sol_All[ind].cycles[0].steps[0][\"X-averaged EC concentration overpotential [V]\"].entries\n",
    "eta_Ohmic_e = Sol_All[ind].cycles[0].steps[0][\"X-averaged battery electrolyte ohmic losses [V]\"].entries\n",
    "eta_Ohmic_s = Sol_All[ind].cycles[0].steps[0][\"X-averaged battery solid phase ohmic losses [V]\"].entries\n",
    "Sum_1_wo_EC = OCV+eta_react+eta_grad_cLi+eta_Ohmic_e+eta_Ohmic_s;\n",
    "Sum_2_w_EC  = Sum_1_wo_EC + eta_grad_cEC;\n",
    "Time_1 =  Sol_All[ind].cycles[0].steps[0][\"Time [h]\"].entries\n",
    "\n",
    "fig, ax = plt.subplots(figsize=(4, 2.7), layout='constrained')\n",
    "ax.plot(Time_1,V_CELL, label = 'Ternimal Voltage')\n",
    "ax.plot(Time_1,Sum_1_wo_EC,  label = 'Sum_1_wo_EC')\n",
    "ax.plot(Time_1,Sum_2_w_EC, '--', label = 'Sum_2_w_EC')\n",
    "ax.set_title(\"Check plot\",loc='center')\n",
    "ax.set_xlabel(\"Time [h]\")\n",
    "ax.set_ylabel(\"Potential [V]\")\n",
    "ax.legend()\n",
    "\n",
    "fig, ax = plt.subplots(figsize=(4, 2.7), layout='constrained')\n",
    "ax.plot(Time_1,V_CELL-Sum_1_wo_EC, label = 'ref')\n",
    "ax.plot(Time_1,eta_grad_cEC,  label = 'grad_cEC')\n",
    "ax.set_title(\"Check plot\",loc='center')\n",
    "ax.set_xlabel(\"Time [h]\")\n",
    "ax.set_ylabel(\"Potential [V]\")\n",
    "ax.legend()"
   ]
  },
  {
   "cell_type": "code",
   "execution_count": null,
   "metadata": {},
   "outputs": [],
   "source": [
    "#label = [\"Double transport wo Sol affect potential\",\"Double transport w Sol affect potential\",] \n",
    "label = [\"Normal DFN\"] \n",
    "output_variables3 = [\n",
    "    [\n",
    "        \"X-averaged battery open circuit voltage [V]\",\n",
    "        \n",
    "        \"Battery voltage [V]\",\n",
    "    ],\n",
    "    [\n",
    "        \"X-averaged battery reaction overpotential [V]\",\n",
    "        \"X-averaged battery electrolyte ohmic losses [V]\",\n",
    "        \"X-averaged battery solid phase ohmic losses [V]\",\n",
    "    ],\n",
    "    [\n",
    "        \"X-averaged battery concentration overpotential [V]\",\n",
    "        \"X-averaged EC concentration overpotential [V]\", # Mark Ruihe add\n",
    "    ],\n",
    "]\n",
    "quick_plot = pybamm.QuickPlot(\n",
    "    [\n",
    "        Andrew_All[i]['MyDict_All'][5]['Solution'].cycles[0].steps[1] for i in range(0,1)\n",
    "    ], \n",
    "    output_variables3,label,variable_limits='tight',\n",
    "    time_unit='hours',\n",
    "    spatial_unit='mm',   figsize = (18,6),  #  (“m”, “mm”, or “um”)\n",
    "    n_rows=1) #\n",
    "quick_plot.dynamic_plot()"
   ]
  },
  {
   "cell_type": "code",
   "execution_count": null,
   "metadata": {},
   "outputs": [],
   "source": [
    "font = {'family' : 'DejaVu Sans','size'   : 11}\n",
    "mpl.rc('font', **font)\n",
    "pybamm.plot_voltage_components(Sol_All[0].cycles[0].steps[0])\n",
    "pybamm.plot_voltage_components(Sol_All[1].cycles[0].steps[0])\n",
    "pybamm.plot_voltage_components(Sol_All[2].cycles[0].steps[0])"
   ]
  },
  {
   "cell_type": "code",
   "execution_count": null,
   "metadata": {},
   "outputs": [],
   "source": [
    "label = [\"Normal DFN\",\"Single transport\",\"Double transport\",] \n",
    "output_variables3 = [\n",
    "    \"EC concentration\",\n",
    "    \"c(EC) over c(Li+)\",\n",
    "    \"Minus div EC flux\",\n",
    "    \"Minus div EC flux by diffusion\",\n",
    "    \"Minus div EC flux by migration\",\n",
    "    \"Minus div EC flux by Li+\",\n",
    "]\n",
    "quick_plot = pybamm.QuickPlot(\n",
    "    [\n",
    "        sol.cycles[0].steps[0] for sol in Sol_All\n",
    "    ], \n",
    "    output_variables3,label,variable_limits='fixed',\n",
    "    time_unit='hours',\n",
    "    spatial_unit='mm',     #  (“m”, “mm”, or “um”)\n",
    "    n_rows=2) #figsize = (18,12),\n",
    "quick_plot.dynamic_plot()"
   ]
  },
  {
   "cell_type": "code",
   "execution_count": null,
   "metadata": {},
   "outputs": [],
   "source": [
    "label = [\"Normal DFN\",\"Single transport\",\"Double transport\",] \n",
    "output_variables3 = [\n",
    "    \"Electrolyte concentration\",\n",
    "    \"Minus div Li+ flux\",\n",
    "    \"Li+ source term\",\n",
    "    \"Minus div Li+ flux by diffusion\",\n",
    "    \"Minus div Li+ flux by migration\",\n",
    "    \"Minus div Li+ flux by solvent\",\n",
    "]\n",
    "quick_plot = pybamm.QuickPlot(\n",
    "    [\n",
    "        sol.cycles[0].steps[0] for sol in Sol_All\n",
    "    ],  output_variables3,label,variable_limits='fixed',\n",
    "    time_unit='hours',\n",
    "    spatial_unit='mm',     #  (“m”, “mm”, or “um”)\n",
    "    n_rows=2) #figsize = (18,12),\n",
    "quick_plot.dynamic_plot()"
   ]
  },
  {
   "cell_type": "code",
   "execution_count": null,
   "metadata": {},
   "outputs": [],
   "source": [
    "Plot_Last_Single_Step(Sol_2,0,0,BasicPath, Target,1,1,'False',\"cool\",17,200)"
   ]
  },
  {
   "cell_type": "code",
   "execution_count": null,
   "metadata": {},
   "outputs": [],
   "source": [
    "Plot_Last_Single_Step(Sol_1,0,0,BasicPath, Target,1,1,'False',\"cool\",17,200)"
   ]
  }
 ],
 "metadata": {
  "kernelspec": {
   "display_name": "envSolCon",
   "language": "python",
   "name": "python3"
  },
  "language_info": {
   "codemirror_mode": {
    "name": "ipython",
    "version": 3
   },
   "file_extension": ".py",
   "mimetype": "text/x-python",
   "name": "python",
   "nbconvert_exporter": "python",
   "pygments_lexer": "ipython3",
   "version": "3.9.6 (tags/v3.9.6:db3ff76, Jun 28 2021, 15:26:21) [MSC v.1929 64 bit (AMD64)]"
  },
  "orig_nbformat": 4,
  "vscode": {
   "interpreter": {
    "hash": "5ae0c684446e40f7574a1a9821257f2365ba43f34c15f5f2e3dcabca0bad9ab7"
   }
  }
 },
 "nbformat": 4,
 "nbformat_minor": 2
}
