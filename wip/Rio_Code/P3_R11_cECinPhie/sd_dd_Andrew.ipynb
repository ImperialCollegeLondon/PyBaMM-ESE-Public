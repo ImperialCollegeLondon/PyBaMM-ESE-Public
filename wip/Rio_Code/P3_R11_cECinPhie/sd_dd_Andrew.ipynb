{
 "cells": [
  {
   "cell_type": "code",
   "execution_count": 17,
   "metadata": {},
   "outputs": [],
   "source": [
    "import pybamm;import pandas as pd   ;import numpy as np;import os;import matplotlib.pyplot as plt;import os;#import imageio\n",
    "from scipy.io import savemat,loadmat;from pybamm import constants,exp,sqrt;\n",
    "import matplotlib as mpl; \n",
    "fs=17; # or we can set import matplotlib.pyplot as plt then say 'mpl.rc...'\n",
    "import openpyxl\n",
    "import traceback\n",
    "import multiprocessing\n",
    "font = {'family' : 'DejaVu Sans','size'   : fs}\n",
    "mpl.rc('font', **font)"
   ]
  },
  {
   "cell_type": "code",
   "execution_count": 18,
   "metadata": {},
   "outputs": [],
   "source": [
    "V_max = 4.2;        V_min = 2.5;\n",
    "Exp_1  = pybamm.Experiment(\n",
    "    [ (\n",
    "        f\"Discharge at 1 C until {V_min} V\", \n",
    "        f\"Charge at 1 C until {V_max} V\", \n",
    "        f\"Hold at {V_max} V until C/5\")    ] * 1 )  \n",
    "Model_0  = pybamm.lithium_ion.DFN(options={\n",
    "    \"solvent diffusion\": \"double spatial consume w refill\",\n",
    "    \"electrolyte conductivity\": \"full\"  ,\n",
    "    }) \n",
    "Model_1  = pybamm.lithium_ion.DFN(options={\n",
    "    \"solvent diffusion\": \"double spatial consume w refill\",\n",
    "    \"electrolyte conductivity\": \"sol full\"  ,\n",
    "    }) "
   ]
  },
  {
   "cell_type": "code",
   "execution_count": 19,
   "metadata": {},
   "outputs": [],
   "source": [
    "def EC_diffusivity_5E_5(c_e, c_EC , T):\n",
    "    D_ec_dim = (\n",
    "        (c_EC >= 0 ) * 5e-5 \n",
    "        +  (c_EC < 0 ) * 0 \n",
    "    )\n",
    "    return D_ec_dim\n",
    "def electrolyte_conductivity_Andrew2022(x,y, T):# x:Li+,y:ec\n",
    "    p00 =     -0.2524;\n",
    "    p10 =    0.001402;\n",
    "    p01 =   0.0001142 ;\n",
    "    p20 =  -5.379e-07  ;\n",
    "    p11 =  -1.399e-08 ;\n",
    "    p02 =  -8.137e-09  ;\n",
    "    kai  = (\n",
    "        (p00 + p10*x + p01*y + p20*x*x + p11*x*y + p02*y*y)\n",
    "    )\n",
    "    return kai\n",
    "def electrolyte_conductivity_Nyman2008Exp(c_e,c_EC, T):\n",
    "    sigma_e = (\n",
    "        0.1 * 0.06248 * (1+298.15-0.05559) * \n",
    "        (c_e/1e3) * (1 - 3.084 *sqrt(c_e/1e3) \n",
    "        + 1.33 *(1+ 0.03633 *(exp(1000/298.15))*c_e/1e3)   ) \n",
    "        / (1+(c_e/1e3)**4*( 0.00795 *exp(1000/298.15))) \n",
    "    )\n",
    "    return sigma_e\n",
    "def electrolyte_diffusivity_Nyman2008Exp(c_e,c_EC, T):\n",
    "    D_c_e = (\n",
    "        6 * exp( -1 *(c_e/1000)) \n",
    "        * exp(-5/298.15) \n",
    "        * exp(-95/298.15*(c_e/1000)) * 1e-10 \n",
    "    )\n",
    "    return D_c_e\n",
    "def electrolyte_conductivity_Nyman2008Constant(c_e,c_EC, T):\n",
    "    \n",
    "    sigma_e = (c_e <= 2000) * (\n",
    "        0.1297 * (c_e / 1000) ** 3 - 2.51 * (c_e / 1000) ** 1.5 + 3.329 * (c_e / 1000)\n",
    "    ) + (c_e > 2000) *  (\n",
    "        0.1297 * (2000 / 1000) ** 3 - 2.51 * (2000 / 1000) ** 1.5 + 3.329 * (2000 / 1000)\n",
    "    )\n",
    "    return sigma_e\n",
    "def electrolyte_diffusivity_Nyman2008Constant(c_e,c_EC, T):\n",
    "    D_c_e = (\n",
    "        (c_e <= 2000) * (\n",
    "            8.794e-11 * (c_e / 1000) ** 2 - 3.972e-10 * (c_e / 1000) + 4.862e-10) \n",
    "        + (c_e > 2000) * (\n",
    "        8.794e-11 * (2000 / 1000) ** 2 - 3.972e-10 * (2000 / 1000) + 4.862e-10)\n",
    "    )\n",
    "    return D_c_e"
   ]
  },
  {
   "cell_type": "code",
   "execution_count": 20,
   "metadata": {},
   "outputs": [],
   "source": [
    "Para_0=pybamm.ParameterValues(\"Li2023_ECdrag\")\n",
    "Para_0.update({'Negative electrode porosity':0.15})\n",
    "Para_0.update({\"EC diffusivity in electrolyte [m2.s-1]\":EC_diffusivity_5E_5})\n",
    "Para_0.update({\"Electrolyte conductivity [S.m-1]\":electrolyte_conductivity_Nyman2008Constant})\n",
    "Para_0.update({\"Electrolyte diffusivity [m2.s-1]\":electrolyte_diffusivity_Nyman2008Constant})\n",
    "Para_0.update({\"EC Lithium ion cross diffusivity [m2.s-1]\":1.5e-12})\n",
    "\n",
    "c_e = Model_0.variables[\"Electrolyte concentration [mol.m-3]\"]\n",
    "c_EC= Model_0.variables[\"EC concentration [mol.m-3]\"]\n",
    "T = Model_0.variables[\"Cell temperature [K]\"]\n",
    "D_e = Para_0[\"Electrolyte diffusivity [m2.s-1]\"]\n",
    "sigma_e = Para_0[\"Electrolyte conductivity [S.m-1]\"]\n",
    "Xi = Para_0[\"EC transference number\"]\n",
    "Model_0.variables[\"Electrolyte diffusivity [m2.s-1]\"] = D_e(c_e,c_EC, T)\n",
    "Model_0.variables[\"Electrolyte conductivity [S.m-1]\"] = sigma_e(c_e,c_EC, T)\n",
    "Model_0.variables[\"EC transference number\"] = Xi(c_e,c_EC, T)\n",
    "\n",
    "Para_1=pybamm.ParameterValues(\"Li2023_ECdrag\")\n",
    "Para_1.update({'Negative electrode porosity':0.15})\n",
    "# Para_1.update({\"EC diffusivity in electrolyte [m2.s-1]\":EC_diffusivity_5E_10})\n",
    "Para_1.update({\"Electrolyte conductivity [S.m-1]\":electrolyte_conductivity_Nyman2008Constant})\n",
    "Para_1.update({\"Electrolyte diffusivity [m2.s-1]\":electrolyte_conductivity_Nyman2008Constant})\n",
    "Para_1.update({\"EC Lithium ion cross diffusivity [m2.s-1]\":1.5e-12})\n",
    "c_e = Model_1.variables[\"Electrolyte concentration [mol.m-3]\"]\n",
    "c_EC= Model_1.variables[\"EC concentration [mol.m-3]\"]\n",
    "T = Model_1.variables[\"Cell temperature [K]\"]\n",
    "D_e = Para_1[\"Electrolyte diffusivity [m2.s-1]\"]\n",
    "sigma_e = Para_1[\"Electrolyte conductivity [S.m-1]\"]\n",
    "Xi = Para_1[\"EC transference number\"]\n",
    "Model_1.variables[\"Electrolyte diffusivity [m2.s-1]\"] = D_e(c_e,c_EC, T)\n",
    "Model_1.variables[\"Electrolyte conductivity [S.m-1]\"] = sigma_e(c_e,c_EC, T)\n",
    "Model_1.variables[\"EC transference number\"] = Xi(c_e,c_EC, T)"
   ]
  },
  {
   "cell_type": "code",
   "execution_count": 21,
   "metadata": {},
   "outputs": [],
   "source": [
    "Sim_0    = pybamm.Simulation(\n",
    "    Model_0, experiment = Exp_1,\n",
    "    parameter_values = Para_0,\n",
    "    solver = pybamm.CasadiSolver(),)       \n",
    "Sol_0    = Sim_0.solve()"
   ]
  },
  {
   "cell_type": "code",
   "execution_count": 22,
   "metadata": {},
   "outputs": [],
   "source": [
    "Sim_1    = pybamm.Simulation(\n",
    "    Model_1, experiment = Exp_1,\n",
    "    parameter_values = Para_1,\n",
    "    solver = pybamm.CasadiSolver(),)       \n",
    "Sol_1    = Sim_1.solve()"
   ]
  },
  {
   "cell_type": "code",
   "execution_count": 23,
   "metadata": {},
   "outputs": [
    {
     "data": {
      "application/vnd.jupyter.widget-view+json": {
       "model_id": "cc234b7a7a2e47eaa487fba1a9ee6b58",
       "version_major": 2,
       "version_minor": 0
      },
      "text/plain": [
       "interactive(children=(FloatSlider(value=0.0, description='t', max=2.2834031423898358, step=0.02283403142389836…"
      ]
     },
     "metadata": {},
     "output_type": "display_data"
    }
   ],
   "source": [
    "label = [\"Normal DFN\",\"Double transport + Sol affect potential\",] \n",
    "output_variables3 = [\n",
    "    \"Terminal voltage [V]\", \n",
    "    \"Electrolyte potential [V]\",\n",
    "    \"EC concentration [mol.m-3]\",\n",
    "    \"Electrolyte concentration [mol.m-3]\",\n",
    "    \"EC transference number\",\n",
    "    \"Electrolyte conductivity [S.m-1]\",\n",
    "    \"Electrolyte diffusivity [m2.s-1]\"\n",
    "]\n",
    "quick_plot = pybamm.QuickPlot(\n",
    "    [Sol_0,Sol_1], output_variables3,label,  #variable_limits='fixed',\n",
    "    time_unit='hours',\n",
    "    spatial_unit='mm',     #  (“m”, “mm”, or “um”)\n",
    "    n_rows=2) #figsize = (18,12),\n",
    "quick_plot.dynamic_plot()"
   ]
  }
 ],
 "metadata": {
  "kernelspec": {
   "display_name": "envSolCon",
   "language": "python",
   "name": "python3"
  },
  "language_info": {
   "codemirror_mode": {
    "name": "ipython",
    "version": 3
   },
   "file_extension": ".py",
   "mimetype": "text/x-python",
   "name": "python",
   "nbconvert_exporter": "python",
   "pygments_lexer": "ipython3",
   "version": "3.9.6"
  },
  "orig_nbformat": 4,
  "vscode": {
   "interpreter": {
    "hash": "5ae0c684446e40f7574a1a9821257f2365ba43f34c15f5f2e3dcabca0bad9ab7"
   }
  }
 },
 "nbformat": 4,
 "nbformat_minor": 2
}
