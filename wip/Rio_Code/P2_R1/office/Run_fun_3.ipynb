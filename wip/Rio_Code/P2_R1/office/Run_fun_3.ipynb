{
 "cells": [
  {
   "cell_type": "code",
   "execution_count": 1,
   "metadata": {},
   "outputs": [],
   "source": [
    "import pybamm as pb;import pandas as pd   ;import numpy as np;import os;import matplotlib.pyplot as plt;import os;#import imageio\n",
    "from scipy.io import savemat,loadmat;from pybamm import constants,exp;import matplotlib as mpl; fs=17; # or we can set import matplotlib.pyplot as plt then say 'mpl.rc...'\n",
    "for k in range(0,1):\n",
    "    mpl.rcParams[\"axes.labelsize\"] = fs\n",
    "    mpl.rcParams[\"axes.titlesize\"] = fs\n",
    "    mpl.rcParams[\"xtick.labelsize\"] =  fs\n",
    "    mpl.rcParams[\"ytick.labelsize\"] =  fs\n",
    "    mpl.rcParams[\"legend.fontsize\"] =  fs\n",
    "    mpl.rcParams['font.sans-serif'] = ['Times New Roman']\n",
    "    mpl.rcParams['font.serif'] = ['Times New Roman']\n",
    "    mpl.rcParams['axes.unicode_minus'] = False\n",
    "# Create GIF\n",
    "def create_gif(image_list, gif_name, ds):\n",
    "    frames = []\n",
    "    for image_name in image_list:\n",
    "        if image_name.endswith('.png'):\n",
    "            print(image_name)\n",
    "            frames.append(imageio.imread(image_name))\n",
    "    # Save them as frames into a gif\n",
    "    imageio.mimsave(gif_name, frames, 'GIF', duration = ds)\n",
    "    return\n",
    "import openpyxl\n"
   ]
  },
  {
   "cell_type": "code",
   "execution_count": 2,
   "metadata": {},
   "outputs": [],
   "source": [
    "from Fun_RioWholeModel import (GetScan,Run_model_w__dry_out ,Cal_new_con_Update,Run_Model_Base_On_Last_Solution,Run_Model_Base_On_Last_Solution_RPT,write_excel_xlsx,)\n"
   ]
  },
  {
   "cell_type": "code",
   "execution_count": 3,
   "metadata": {},
   "outputs": [],
   "source": [
    "# Get global setting:\n",
    "for i in range(0,1):  \n",
    "    Total_Cycles = 1170; Cycle_bt_RPT = 78; Update_Cycles = 26;  \n",
    "    CyclePack = [Total_Cycles,Cycle_bt_RPT,Update_Cycles];\n",
    "    # Key scan parameters:\n",
    "    Ratio_excess = [1.0,];\n",
    "    cs_Neg_Init = [28920,]; Diff_SEI = [1.700000000000002e-20,];    \n",
    "    R_SEI = [2E5,];   Bulk_Sol_Con =[ 4541.0,];\n",
    "    D_Li_inSEI = [1e-20];    # default: 1e-20 \n",
    "    c_Li_inte_ref = [15];    # default: 15\n",
    "    Couple_SEI_LiP = [3e-5]; # default: 1e-6\n",
    "    k_LiP = [1E-9,1e-7,];         # default: 1e-10\n",
    "    (TotalScan, DatePack_scan) = GetScan(Ratio_excess,cs_Neg_Init,Diff_SEI,R_SEI,Bulk_Sol_Con,D_Li_inSEI,c_Li_inte_ref,Couple_SEI_LiP,k_LiP);\n",
    "    BasicPath = 'D:/OneDrive - Imperial College London/SimDataSave/P2R2/'; # Need to change for Ruan PC\n",
    "    Target  = 'Couple_SEI_LiP=3e-5/'\n",
    "    if not os.path.exists(BasicPath + Target):\n",
    "        os.mkdir(BasicPath + Target);\n",
    "    book_name_xlsx = '1170 cycles.xlsx';\n",
    "\n",
    "    sheet_name_xlsx = 'Results'\n",
    "    value3 = [\n",
    "        [\"Index\", \"cs_Neg_Init\", \"Diff_SEI\", \"R_SEI\", \n",
    "        \"Bulk_Sol_Con\",\"D_Li_inSEI\", \"c_Li_inte_ref\",\n",
    "        \"Couple_SEI_LiP\",\"k_LiP\",\"Cap Loss\",\"LLI to LiP\",\n",
    "        \"LLI to SEI\",\"Vol_Elely_Tot Final\", \"Vol_Elely_JR Final\",\"Width Final\"],\n",
    "        ]\n",
    "    write_excel_xlsx(BasicPath + Target+book_name_xlsx, sheet_name_xlsx, value3)"
   ]
  },
  {
   "cell_type": "code",
   "execution_count": 4,
   "metadata": {},
   "outputs": [
    {
     "name": "stdout",
     "output_type": "stream",
     "text": [
      "Successfully create a excel file\n",
      "Initial electrolyte amount is  5.3677182000000006 mL\n"
     ]
    },
    {
     "name": "stderr",
     "output_type": "stream",
     "text": [
      "The linesearch algorithm failed with too small a step.\n",
      "The linesearch algorithm failed with too small a step.\n",
      "The linesearch algorithm failed with too small a step.\n",
      "The linesearch algorithm failed with too small a step.\n",
      "The linesearch algorithm failed with too small a step.\n",
      "The linesearch algorithm failed with too small a step.\n",
      "The linesearch algorithm failed with too small a step.\n",
      "The linesearch algorithm failed with too small a step.\n",
      "The linesearch algorithm failed with too small a step.\n",
      "The linesearch algorithm failed with too small a step.\n",
      "The linesearch algorithm failed with too small a step.\n",
      "The linesearch algorithm failed with too small a step.\n",
      "The linesearch algorithm failed with too small a step.\n",
      "The linesearch algorithm failed with too small a step.\n",
      "The linesearch algorithm failed with too small a step.\n",
      "The linesearch algorithm failed with too small a step.\n",
      "The linesearch algorithm failed with too small a step.\n",
      "The linesearch algorithm failed with too small a step.\n",
      "The linesearch algorithm failed with too small a step.\n",
      "The linesearch algorithm failed with too small a step.\n",
      "The linesearch algorithm failed with too small a step.\n",
      "The linesearch algorithm failed with too small a step.\n",
      "The linesearch algorithm failed with too small a step.\n",
      "The linesearch algorithm failed with too small a step.\n",
      "The linesearch algorithm failed with too small a step.\n",
      "The linesearch algorithm failed with too small a step.\n",
      "The linesearch algorithm failed with too small a step.\n",
      "The linesearch algorithm failed with too small a step.\n",
      "The linesearch algorithm failed with too small a step.\n",
      "The linesearch algorithm failed with too small a step.\n",
      "The linesearch algorithm failed with too small a step.\n",
      "The linesearch algorithm failed with too small a step.\n",
      "The linesearch algorithm failed with too small a step.\n",
      "The linesearch algorithm failed with too small a step.\n",
      "The linesearch algorithm failed with too small a step.\n",
      "The linesearch algorithm failed with too small a step.\n",
      "The linesearch algorithm failed with too small a step.\n",
      "The linesearch algorithm failed with too small a step.\n",
      "The linesearch algorithm failed with too small a step.\n",
      "The linesearch algorithm failed with too small a step.\n",
      "The linesearch algorithm failed with too small a step.\n",
      "The linesearch algorithm failed with too small a step.\n"
     ]
    },
    {
     "name": "stdout",
     "output_type": "stream",
     "text": [
      "Fail in 1 hour, 9 minutes, 56 seconds\n",
      "Successfully create a excel file\n"
     ]
    },
    {
     "name": "stderr",
     "output_type": "stream",
     "text": [
      "The linesearch algorithm failed with too small a step.\n",
      "The linesearch algorithm failed with too small a step.\n"
     ]
    },
    {
     "name": "stdout",
     "output_type": "stream",
     "text": [
      "Initial electrolyte amount is  5.3677182000000006 mL\n"
     ]
    },
    {
     "name": "stderr",
     "output_type": "stream",
     "text": [
      "The linesearch algorithm failed with too small a step.\n",
      "The linesearch algorithm failed with too small a step.\n",
      "The linesearch algorithm failed with too small a step.\n",
      "The linesearch algorithm failed with too small a step.\n",
      "The linesearch algorithm failed with too small a step.\n",
      "The linesearch algorithm failed with too small a step.\n",
      "The linesearch algorithm failed with too small a step.\n",
      "The linesearch algorithm failed with too small a step.\n",
      "The linesearch algorithm failed with too small a step.\n",
      "The linesearch algorithm failed with too small a step.\n",
      "The linesearch algorithm failed with too small a step.\n",
      "The linesearch algorithm failed with too small a step.\n",
      "The linesearch algorithm failed with too small a step.\n",
      "The linesearch algorithm failed with too small a step.\n",
      "The linesearch algorithm failed with too small a step.\n",
      "The linesearch algorithm failed with too small a step.\n",
      "The linesearch algorithm failed with too small a step.\n",
      "The linesearch algorithm failed with too small a step.\n",
      "The linesearch algorithm failed with too small a step.\n",
      "The linesearch algorithm failed with too small a step.\n",
      "The linesearch algorithm failed with too small a step.\n",
      "The linesearch algorithm failed with too small a step.\n",
      "The linesearch algorithm failed with too small a step.\n"
     ]
    },
    {
     "name": "stdout",
     "output_type": "stream",
     "text": [
      "Fail in 28 minutes, 5 seconds\n"
     ]
    }
   ],
   "source": [
    "# Call function to run model:    \n",
    "for jj in range(0,TotalScan):\n",
    "    count_i = jj + 1; \n",
    "    Run_model_w__dry_out(CyclePack , DatePack_scan[jj], count_i,BasicPath , Target, book_name_xlsx)"
   ]
  },
  {
   "cell_type": "code",
   "execution_count": null,
   "metadata": {},
   "outputs": [],
   "source": []
  }
 ],
 "metadata": {
  "interpreter": {
   "hash": "afef54dabd7c14db7c315aa66c2edd632ae80329986f62cb4ffc950d4fca2f61"
  },
  "kernelspec": {
   "display_name": "Python 3.9.6 64-bit",
   "language": "python",
   "name": "python3"
  },
  "language_info": {
   "codemirror_mode": {
    "name": "ipython",
    "version": 3
   },
   "file_extension": ".py",
   "mimetype": "text/x-python",
   "name": "python",
   "nbconvert_exporter": "python",
   "pygments_lexer": "ipython3",
   "version": "3.9.6"
  },
  "orig_nbformat": 4
 },
 "nbformat": 4,
 "nbformat_minor": 2
}
