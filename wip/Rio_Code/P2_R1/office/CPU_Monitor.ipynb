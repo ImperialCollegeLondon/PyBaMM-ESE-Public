{
 "cells": [
  {
   "cell_type": "code",
   "execution_count": 1,
   "metadata": {},
   "outputs": [],
   "source": [
    "import psutil\n",
    "import os\n",
    "import time"
   ]
  },
  {
   "cell_type": "code",
   "execution_count": 4,
   "metadata": {},
   "outputs": [],
   "source": [
    "BasicPath = 'C:/Users/rl1120/OneDrive - Imperial College London/SimDataSave/';\n",
    "# C:\\Users\\rl1120\\OneDrive - Imperial College London\\SimDataSave\n",
    "Target = 'CPU_Monitor_230228/';\n",
    "if not os.path.exists(BasicPath + Target):\n",
    "    os.mkdir(BasicPath + Target);"
   ]
  },
  {
   "cell_type": "code",
   "execution_count": 5,
   "metadata": {},
   "outputs": [],
   "source": [
    "\n",
    "with open(BasicPath + Target+\"Office_monitor_4\"  + \".csv\", \"a+\") as f:\n",
    "    f.write(\"time,cpu%,mem%\\n\") # titles\n",
    "    i = 0\n",
    "    while i<2:\n",
    "        current_time = time.strftime('%Y%m%d-%H%M%S',time.localtime(time.time()))\n",
    "        cpu_percent = psutil.cpu_percent()  # better set interval second to calculate like:  p.cpu_percent(interval=0.5)\n",
    "        phymem = psutil.virtual_memory()\n",
    "        usedmem = int(phymem.used / 1024 / 1024 )\n",
    "        totalmem = int(phymem.total / 1024 / 1024)\n",
    "        phymemPercent = \"{:.2f}\".format(float(usedmem/totalmem * 100))\n",
    "        mem_percent = phymemPercent\n",
    "        line = current_time + ',' + str(cpu_percent) + ',' + str(mem_percent)\n",
    "        f.write(line + \"\\n\")\n",
    "        time.sleep(5)\n",
    "        i = i+1;\n",
    "    while i<4:\n",
    "        current_time = time.strftime('%Y%m%d-%H%M%S',time.localtime(time.time()))\n",
    "        cpu_percent = psutil.cpu_percent()  # better set interval second to calculate like:  p.cpu_percent(interval=0.5)\n",
    "        phymem = psutil.virtual_memory()\n",
    "        usedmem = int(phymem.used / 1024 / 1024 )\n",
    "        totalmem = int(phymem.total / 1024 / 1024)\n",
    "        phymemPercent = \"{:.2f}\".format(float(usedmem/totalmem * 100))\n",
    "        mem_percent = phymemPercent\n",
    "        line = current_time + ',' + str(cpu_percent) + ',' + str(mem_percent)\n",
    "        f.write(line + \"\\n\")\n",
    "        time.sleep(10)\n",
    "        i = i+1;\n",
    "    "
   ]
  },
  {
   "cell_type": "code",
   "execution_count": null,
   "metadata": {},
   "outputs": [],
   "source": []
  }
 ],
 "metadata": {
  "kernelspec": {
   "display_name": "envPBpublic",
   "language": "python",
   "name": "python3"
  },
  "language_info": {
   "codemirror_mode": {
    "name": "ipython",
    "version": 3
   },
   "file_extension": ".py",
   "mimetype": "text/x-python",
   "name": "python",
   "nbconvert_exporter": "python",
   "pygments_lexer": "ipython3",
   "version": "3.10.10"
  },
  "orig_nbformat": 4,
  "vscode": {
   "interpreter": {
    "hash": "67421545f68ed51676f11d33623f5bfe7fd6cf9e8d95914baad5cd6f61ac5d03"
   }
  }
 },
 "nbformat": 4,
 "nbformat_minor": 2
}
