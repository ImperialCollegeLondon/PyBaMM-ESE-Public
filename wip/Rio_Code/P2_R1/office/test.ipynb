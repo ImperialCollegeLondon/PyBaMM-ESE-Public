{
 "cells": [
  {
   "cell_type": "code",
   "execution_count": 5,
   "metadata": {},
   "outputs": [],
   "source": [
    "import pandas as pd   ;import numpy as np;import os;import matplotlib.pyplot as plt;import os;#import imageio\n",
    "from scipy.io import savemat,loadmat;import matplotlib as mpl; fs=17; # or we can set import matplotlib.pyplot as plt then say 'mpl.rc...'\n"
   ]
  },
  {
   "cell_type": "code",
   "execution_count": 6,
   "metadata": {},
   "outputs": [],
   "source": [
    "import pybamm as pb"
   ]
  },
  {
   "cell_type": "code",
   "execution_count": 8,
   "metadata": {},
   "outputs": [],
   "source": [
    "V_min = 2.5; V_max= 4.2;\n",
    "Experiment_Breakin= pb.Experiment( [ ( f\"Discharge at 0.1C until {V_min} V\",  \"Rest for 6 hours\",  f\"Charge at 0.1C until {V_max} V\" )  ] *2 )\n",
    "\n",
    "\n",
    "ChemistryChen=pb.parameter_sets.Chen2020_coupled   \n",
    "Para_0=pb.ParameterValues(chemistry=ChemistryChen)\n",
    "Para_0.update({'SEI resistivity [Ohm.m]':2e5}) ;\n",
    "Para_0.update({'Outer SEI solvent diffusivity [m2.s-1]':1e-20});\n",
    "Para_0.update({'Bulk solvent concentration [mol.m-3]':4541});\n",
    "Para_0.update({'Initial concentration in negative electrode [mol.m-3]':28920 })\n",
    "Para_0.update({'Initial electrolyte excessive amount ratio':1.04})   # \n",
    "Para_0.update({'Inner SEI lithium interstitial diffusivity [m2.s-1]':3e-20})       \n",
    "Para_0.update({'Lithium interstitial reference concentration [mol.m-3]':15}) \n",
    "Para_0.update({\"SEI-plating coupling constant [s-1]\": 1e-7})     \n",
    "Para_0.update({'Lithium plating kinetic rate constant [m.s-1]':1e-10})                \n",
    "Para_0.update({'Current solvent concentration in the reservoir [mol.m-3]':4541})     \n",
    "Para_0.update({'Current electrolyte concentration in the reservoir [mol.m-3]':1000.0})           \n",
    "Para_0.update({'Ratio of Li-ion concentration change in electrolyte consider solvent consumption':  \n",
    "                1.0 })\n",
    "Model_0 = pb.lithium_ion.DFN(     \n",
    "options={\n",
    "    \"particle\": \"Fickian diffusion\",          \n",
    "    \"SEI\":\"interstitial-diffusion limited\",          \n",
    "    \"SEI film resistance\":\"distributed\",          \n",
    "    \"SEI porosity change\":\"true\",         \n",
    "    \"lithium plating\":\"partially reversible\"     } ) #\n",
    "ModelTimer = pb.Timer()\n",
    "mesh_neg = 100; mesh_pos = 100; \n",
    "\n",
    "var = pb.standard_spatial_vars  \n",
    "var_pts = {var.x_n: 20,  var.x_s: 10,  var.x_p: 20,  var.r_n: mesh_neg,  var.r_p: mesh_pos,  }\n",
    "\n",
    "Sim_0    = pb.Simulation(\n",
    "    Model_0,        experiment = Experiment_Breakin,\n",
    "    parameter_values = Para_0,\n",
    "    #solver = pb.CasadiSolver(),\n",
    "    var_pts=var_pts,\n",
    "    ) #mode=\"safe\"\n",
    "Sol_0    = Sim_0.solve()"
   ]
  },
  {
   "cell_type": "code",
   "execution_count": 13,
   "metadata": {},
   "outputs": [],
   "source": [
    "del str"
   ]
  },
  {
   "cell_type": "code",
   "execution_count": 15,
   "metadata": {},
   "outputs": [],
   "source": [
    "BasicPath = 'D:/OneDrive - Imperial College London/SimDataSave/P2R2/'; # Need to change for Ruan PC\n",
    "Target  = 'Test/'; count_i = 1\n",
    "if not os.path.exists(BasicPath + Target + str(count_i)):\n",
    "    os.mkdir(BasicPath + Target + str(count_i) );"
   ]
  }
 ],
 "metadata": {
  "kernelspec": {
   "display_name": "Python 3.9.6 64-bit",
   "language": "python",
   "name": "python3"
  },
  "language_info": {
   "codemirror_mode": {
    "name": "ipython",
    "version": 3
   },
   "file_extension": ".py",
   "mimetype": "text/x-python",
   "name": "python",
   "nbconvert_exporter": "python",
   "pygments_lexer": "ipython3",
   "version": "3.9.6"
  },
  "orig_nbformat": 4,
  "vscode": {
   "interpreter": {
    "hash": "afef54dabd7c14db7c315aa66c2edd632ae80329986f62cb4ffc950d4fca2f61"
   }
  }
 },
 "nbformat": 4,
 "nbformat_minor": 2
}
