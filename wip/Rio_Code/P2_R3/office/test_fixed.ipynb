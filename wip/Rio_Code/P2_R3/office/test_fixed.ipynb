{
 "cells": [
  {
   "cell_type": "code",
   "execution_count": 1,
   "metadata": {},
   "outputs": [],
   "source": [
    "import pybamm as pb;import pandas as pd   ;import numpy as np;import os;import matplotlib.pyplot as plt;import os;#import imageio\n",
    "from scipy.io import savemat,loadmat;from pybamm import constants,exp;import matplotlib as mpl; fs=17; # or we can set import matplotlib.pyplot as plt then say 'mpl.rc...'\n",
    "for k in range(0,1):\n",
    "    mpl.rcParams[\"axes.labelsize\"] = fs\n",
    "    mpl.rcParams[\"axes.titlesize\"] = fs\n",
    "    mpl.rcParams[\"xtick.labelsize\"] =  fs\n",
    "    mpl.rcParams[\"ytick.labelsize\"] =  fs\n",
    "    mpl.rcParams[\"legend.fontsize\"] =  fs\n",
    "    mpl.rcParams['font.sans-serif'] = ['Times New Roman']\n",
    "    mpl.rcParams['font.serif'] = ['Times New Roman']\n",
    "    mpl.rcParams['axes.unicode_minus'] = False\n",
    "\n",
    "import openpyxl"
   ]
  },
  {
   "cell_type": "code",
   "execution_count": null,
   "metadata": {},
   "outputs": [],
   "source": [
    "V_max = 4.2;        V_min = 2.5;   Temper_RPT = 25; \n",
    "\n",
    "#index \n",
    "ModelTimer = pb.Timer()\n",
    "Total_Cycles = 10; save_at_cycles = 1;  \n",
    "\n",
    "for i in range(0,1):  # Key scan parameters:\n",
    "    Ratio_excess_i = 1.04;\n",
    "    cs_Neg_Init_i = 29866 ; Diff_SEI_i = 1.7e-20; # Ruihe old: 28920   default:29866\n",
    "    R_SEI_i = 2E5;   Bulk_Sol_Con_i = 4541.0;\n",
    "    D_Li_inSEI_i = 1e-18;    # default: 1e-20 \n",
    "    c_Li_inte_ref_i = 15;    # default: 15\n",
    "    Couple_SEI_LiP_i = 1e-6; # default: 1e-6\n",
    "    k_LiP_i = 1E-10;         # default: 1e-10\n",
    "    Temper = 25;\n",
    "\n",
    "Experiment_Long   = pb.Experiment(  \n",
    "    [(\n",
    "        f\"Discharge at 1 C until {V_min} V\", \n",
    "        f\"Charge at 0.3 C until {V_max} V\", \n",
    "        f\"Hold at {V_max} V until C/100\"),  ] * Total_Cycles  )  \n",
    "        \n",
    "for i in range(0,1):    ######################   update parameter and run first RPT\n",
    "    ChemistryChen=pb.parameter_sets.Chen2020_coupled   \n",
    "    ChemistryChen[\"electrolyte\"] = \"lipf6_Valoen2005\"\n",
    "    Para_0=pb.ParameterValues(chemistry=ChemistryChen)\n",
    "    Para_0.update({\"Negative electrode diffusivity [m2.s-1]\": 2e-13})\n",
    "    Para_0.update({\"Positive electrode diffusivity [m2.s-1]\": 1e-13})\n",
    "    Para_0.update({\"Upper voltage cut-off [V]\": 4.21})\n",
    "    Para_0.update({\"Lower voltage cut-off [V]\": 2.49})\n",
    "    Para_0.update({'SEI resistivity [Ohm.m]':R_SEI_i}) ;\n",
    "    Para_0.update({'Outer SEI solvent diffusivity [m2.s-1]':Diff_SEI_i});\n",
    "    Para_0.update({'Bulk solvent concentration [mol.m-3]':Bulk_Sol_Con_i});\n",
    "    Para_0.update({'Initial electrolyte excessive amount ratio':Ratio_excess_i})   # \n",
    "    Para_0.update({'Inner SEI lithium interstitial diffusivity [m2.s-1]':D_Li_inSEI_i})       \n",
    "    Para_0.update({'Lithium interstitial reference concentration [mol.m-3]':c_Li_inte_ref_i}) \n",
    "    Para_0.update({\"SEI-plating coupling constant [s-1]\": Couple_SEI_LiP_i})     \n",
    "    Para_0.update({'Lithium plating kinetic rate constant [m.s-1]':k_LiP_i})                \n",
    "    Para_0.update({'Current solvent concentration in the reservoir [mol.m-3]':Bulk_Sol_Con_i})     \n",
    "    Para_0.update({'Current electrolyte concentration in the reservoir [mol.m-3]':1000.0})           \n",
    "    Para_0.update({'Ratio of Li-ion concentration change in electrolyte consider solvent consumption':  \n",
    "                    1.0 })\n",
    "    Model_0 = pb.lithium_ion.DFN(     \n",
    "    options={\n",
    "        \"particle\": \"Fickian diffusion\",          \n",
    "        \"SEI\":\"interstitial-diffusion limited\",          \n",
    "        \"SEI film resistance\":\"distributed\",          \n",
    "        \"SEI porosity change\":\"true\",         \n",
    "        \"lithium plating\":\"partially reversible\"     } ) #\n",
    "    ModelTimer = pb.Timer()\n",
    "    mesh_neg = 100; mesh_pos = 100; \n",
    "    var = pb.standard_spatial_vars  \n",
    "    var_pts = {var.x_n: 20,  var.x_s: 10,  var.x_p: 20,  var.r_n: mesh_neg,  var.r_p: mesh_pos,  }\n",
    "    Sim_0    = pb.Simulation(\n",
    "        Model_0,        experiment = Experiment_Long,\n",
    "        parameter_values = Para_0,\n",
    "        solver = pb.CasadiSolver(),\n",
    "        #var_pts=var_pts,\n",
    "        ) #mode=\"safe\"\n",
    "    Sol_0    = Sim_0.solve(save_at_cycles = save_at_cycles)"
   ]
  },
  {
   "cell_type": "code",
   "execution_count": null,
   "metadata": {},
   "outputs": [],
   "source": [
    "D_Li_inSEI_i = 1e-16;\n",
    "for i in range(0,1):    ######################   update parameter and run first RPT\n",
    "    ChemistryChen=pb.parameter_sets.Chen2020_coupled   \n",
    "    ChemistryChen[\"electrolyte\"] = \"lipf6_Valoen2005\"\n",
    "    Para_0=pb.ParameterValues(chemistry=ChemistryChen)\n",
    "    Para_0.update({\"Negative electrode diffusivity [m2.s-1]\": 2e-13})\n",
    "    Para_0.update({\"Positive electrode diffusivity [m2.s-1]\": 1e-13})\n",
    "    Para_0.update({\"Upper voltage cut-off [V]\": 4.21})\n",
    "    Para_0.update({\"Lower voltage cut-off [V]\": 2.49})\n",
    "    Para_0.update({'SEI resistivity [Ohm.m]':R_SEI_i}) ;\n",
    "    Para_0.update({'Outer SEI solvent diffusivity [m2.s-1]':Diff_SEI_i});\n",
    "    Para_0.update({'Bulk solvent concentration [mol.m-3]':Bulk_Sol_Con_i});\n",
    "    Para_0.update({'Initial electrolyte excessive amount ratio':Ratio_excess_i})   # \n",
    "    Para_0.update({'Inner SEI lithium interstitial diffusivity [m2.s-1]':D_Li_inSEI_i})       \n",
    "    Para_0.update({'Lithium interstitial reference concentration [mol.m-3]':c_Li_inte_ref_i}) \n",
    "    Para_0.update({\"SEI-plating coupling constant [s-1]\": Couple_SEI_LiP_i})     \n",
    "    Para_0.update({'Lithium plating kinetic rate constant [m.s-1]':k_LiP_i})                \n",
    "    Para_0.update({'Current solvent concentration in the reservoir [mol.m-3]':Bulk_Sol_Con_i})     \n",
    "    Para_0.update({'Current electrolyte concentration in the reservoir [mol.m-3]':1000.0})           \n",
    "    Para_0.update({'Ratio of Li-ion concentration change in electrolyte consider solvent consumption':  \n",
    "                    1.0 })\n",
    "    Model_0 = pb.lithium_ion.DFN(     \n",
    "    options={\n",
    "        \"particle\": \"Fickian diffusion\",          \n",
    "        \"SEI\":\"interstitial-diffusion limited\",          \n",
    "        \"SEI film resistance\":\"distributed\",          \n",
    "        \"SEI porosity change\":\"true\",         \n",
    "        \"lithium plating\":\"partially reversible\"     } ) #\n",
    "    ModelTimer = pb.Timer()\n",
    "    mesh_neg = 100; mesh_pos = 100; \n",
    "    var = pb.standard_spatial_vars  \n",
    "    var_pts = {var.x_n: 20,  var.x_s: 10,  var.x_p: 20,  var.r_n: mesh_neg,  var.r_p: mesh_pos,  }\n",
    "    Sim_1    = pb.Simulation(\n",
    "        Model_0,        experiment = Experiment_Long,\n",
    "        parameter_values = Para_0,\n",
    "        solver = pb.CasadiSolver(),\n",
    "        #var_pts=var_pts,\n",
    "        ) #mode=\"safe\"\n",
    "    Sol_1    = Sim_1.solve(save_at_cycles = save_at_cycles)"
   ]
  },
  {
   "cell_type": "code",
   "execution_count": null,
   "metadata": {},
   "outputs": [
    {
     "data": {
      "application/vnd.jupyter.widget-view+json": {
       "model_id": "c03f9d34d9bc4504a619eae444c1ca6f",
       "version_major": 2,
       "version_minor": 0
      },
      "text/plain": [
       "interactive(children=(FloatSlider(value=0.0, description='t', max=44.90826241506425, step=0.4490826241506425),…"
      ]
     },
     "metadata": {},
     "output_type": "display_data"
    }
   ],
   "source": [
    "label = [\"Diff_Li_SEI = 1e-18\",\"Diff_Li_SEI = 1e-16\"] \n",
    "output_variables3 = [\n",
    "                \"Discharge capacity [A.h]\", \n",
    "                \"Negative electrode SOC\",\n",
    "                \"Positive electrode SOC\",\n",
    "                \"Electrolyte potential [V]\",\n",
    "                \"Negative particle surface concentration [mol.m-3]\",\n",
    "                \"Terminal voltage [V]\",\n",
    "                \"SEI interfacial current density [A.m-2]\",\n",
    "                \"Porosity\"\n",
    "            ]\n",
    "quick_plot = pb.QuickPlot([Sol_0,Sol_1], output_variables3,label,variable_limits='tight') #     \n",
    "quick_plot.dynamic_plot();"
   ]
  },
  {
   "cell_type": "code",
   "execution_count": null,
   "metadata": {},
   "outputs": [
    {
     "data": {
      "application/vnd.jupyter.widget-view+json": {
       "model_id": "c03f9d34d9bc4504a619eae444c1ca6f",
       "version_major": 2,
       "version_minor": 0
      },
      "text/plain": [
       "interactive(children=(FloatSlider(value=0.0, description='t', max=44.90826241506425, step=0.4490826241506425),…"
      ]
     },
     "metadata": {},
     "output_type": "display_data"
    }
   ],
   "source": [
    "label = [\"Diff_Li_SEI = 1e-18\",\"Diff_Li_SEI = 1e-16\"] \n",
    "output_variables3 = [\n",
    "                \"Discharge capacity [A.h]\", \n",
    "                \"Negative electrode SOC\",\n",
    "                \"Positive electrode SOC\",\n",
    "                \"Electrolyte potential [V]\",\n",
    "                \"Negative particle surface concentration [mol.m-3]\",\n",
    "                \"Terminal voltage [V]\",\n",
    "                \"SEI interfacial current density [A.m-2]\",\n",
    "                \"Porosity\"\n",
    "            ]\n",
    "quick_plot = pb.QuickPlot([Sol_0,Sol_1], output_variables3,label,variable_limits='tight') #     \n",
    "quick_plot.dynamic_plot();"
   ]
  },
  {
   "cell_type": "code",
   "execution_count": null,
   "metadata": {},
   "outputs": [
    {
     "data": {
      "application/vnd.jupyter.widget-view+json": {
       "model_id": "a9401822d24d438b8c77f57202e54b39",
       "version_major": 2,
       "version_minor": 0
      },
      "text/plain": [
       "interactive(children=(FloatSlider(value=0.0, description='t', max=44.90826241506425, step=0.4490826241506425),…"
      ]
     },
     "metadata": {},
     "output_type": "display_data"
    }
   ],
   "source": [
    "label = [\"Diff_Li_SEI = 1e-18\",\"Diff_Li_SEI = 1e-16\"] \n",
    "output_variables3 = [\n",
    "                \"Loss of capacity to negative electrode lithium plating [A.h]\", \n",
    "                \"Loss of capacity to negative electrode SEI [A.h]\",\n",
    "                \"Negative electrode interfacial current density [A.m-2]\",\n",
    "            ]\n",
    "quick_plot = pb.QuickPlot([Sol_0,Sol_1], output_variables3,label,variable_limits='tight') #     \n",
    "quick_plot.dynamic_plot();"
   ]
  }
 ],
 "metadata": {
  "kernelspec": {
   "display_name": "Python 3.9.6 ('envPBGEM')",
   "language": "python",
   "name": "python3"
  },
  "language_info": {
   "codemirror_mode": {
    "name": "ipython",
    "version": 3
   },
   "file_extension": ".py",
   "mimetype": "text/x-python",
   "name": "python",
   "nbconvert_exporter": "python",
   "pygments_lexer": "ipython3",
   "version": "3.9.6"
  },
  "orig_nbformat": 4,
  "vscode": {
   "interpreter": {
    "hash": "83fab7fbb3a8fe7b5910804f702478ef63e2cc6a08d85072a5d68865ed0fd8c7"
   }
  }
 },
 "nbformat": 4,
 "nbformat_minor": 2
}
