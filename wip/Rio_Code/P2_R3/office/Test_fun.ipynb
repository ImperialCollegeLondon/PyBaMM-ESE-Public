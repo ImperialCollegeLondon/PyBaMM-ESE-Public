{
 "cells": [
  {
   "cell_type": "code",
   "execution_count": 1,
   "metadata": {},
   "outputs": [],
   "source": [
    "import pybamm as pb;import pandas as pd   ;import numpy as np;import os;import matplotlib.pyplot as plt;import os;#import imageio\n",
    "from scipy.io import savemat,loadmat;from pybamm import constants,exp;import matplotlib as mpl; fs=17; # or we can set import matplotlib.pyplot as plt then say 'mpl.rc...'\n",
    "for k in range(0,1):\n",
    "    mpl.rcParams[\"axes.labelsize\"] = fs\n",
    "    mpl.rcParams[\"axes.titlesize\"] = fs\n",
    "    mpl.rcParams[\"xtick.labelsize\"] =  fs\n",
    "    mpl.rcParams[\"ytick.labelsize\"] =  fs\n",
    "    mpl.rcParams[\"legend.fontsize\"] =  fs\n",
    "    mpl.rcParams['font.sans-serif'] = ['Times New Roman']\n",
    "    mpl.rcParams['font.serif'] = ['Times New Roman']\n",
    "    mpl.rcParams['axes.unicode_minus'] = False\n",
    "import openpyxl\n",
    "import traceback\n",
    "import multiprocessing"
   ]
  },
  {
   "cell_type": "code",
   "execution_count": 2,
   "metadata": {},
   "outputs": [],
   "source": [
    "# Add funtion to sys.path\n",
    "os.chdir(pb.__path__[0]+'/..')   \n",
    "# pb.__path__[0] allow us to location path without concerning different machine\n",
    "import sys  \n",
    "sys.path.append(os.path.join(os.getcwd(),'wip\\Rio_Code\\Fun_P2'))  \n",
    "from Fun_P2_Union import (GetScan,Run_model_w_dry_out ,Run_model_wo_Dry_out,Cal_new_con_Update,Run_Model_Base_On_Last_Solution,Run_Model_Base_On_Last_Solution_RPT,write_excel_xlsx,)"
   ]
  },
  {
   "cell_type": "code",
   "execution_count": 5,
   "metadata": {},
   "outputs": [
    {
     "name": "stdout",
     "output_type": "stream",
     "text": [
      "Successfully create a excel file\n"
     ]
    }
   ],
   "source": [
    "# Run model with dry-out:\n",
    "for i in range(0,1):  \n",
    "    Total_Cycles = 9; Cycle_bt_RPT = 3; Update_Cycles = 3;  \n",
    "    CyclePack = [Total_Cycles,Cycle_bt_RPT,Update_Cycles];\n",
    "    # Key scan parameters:\n",
    "    Ratio_excess = [2.00,];\n",
    "    cs_Neg_Init = [29866,]; Diff_SEI = [1.7e-20,];    # default: 29866\n",
    "    R_SEI = [2E5,];   Bulk_Sol_Con =[ 4541.0,];\n",
    "    D_Li_inSEI = [  1.0e-16,1.1e-16,1.2e-16,];    # default: 1e-20 \n",
    "    c_Li_inte_ref = [15,];    # default: 15\n",
    "    Couple_SEI_LiP = [1e-6,]; # default: 1e-6\n",
    "    k_LiP = [1E-10];         # default: 1e-10\n",
    "    Temper = [25,];\n",
    "    MESH_PAR = [30,];\n",
    "\n",
    "    (TotalScan, DatePack_scan) = GetScan(Ratio_excess,cs_Neg_Init,Diff_SEI,\n",
    "        R_SEI,Bulk_Sol_Con,D_Li_inSEI,c_Li_inte_ref,Couple_SEI_LiP,k_LiP,Temper,MESH_PAR);\n",
    "    BasicPath = 'D:/OneDrive - Imperial College London/SimDataSave/P2R3/'; \n",
    "    Target  = 'W_4a0excess_8/'\n",
    "    if not os.path.exists(BasicPath + Target):\n",
    "        os.mkdir(BasicPath + Target);\n",
    "    book_name_xlsx = 'Inte_SEI_9cycles_8.xlsx';\n",
    "\n",
    "    sheet_name_xlsx = 'Results'\n",
    "    value3 = [\n",
    "        [\"Index\", \"Ratio_ex\",\"cs_Neg_Init\", \"Diff_SEI\", \"R_SEI\", \n",
    "        \"Bulk_Sol_Con\",\"D_Li_inSEI\", \"c_Li_inte_ref\",\n",
    "        \"Couple_SEI_LiP\",\"k_LiP\",\"Temper_i\",\"mesh_par\",\n",
    "        \"Cap Loss\",\"LLI to LiP\",\n",
    "        \"LLI to SEI\",\"Vol_Elely_Tot Final\", \"Vol_Elely_JR Final\",\"Width Final\",\"Error\"],\n",
    "        ]\n",
    "    write_excel_xlsx(BasicPath + Target+book_name_xlsx, sheet_name_xlsx, value3)\n",
    "\n",
    "\"\"\" for DatePack_scan_jj in DatePack_scan:\n",
    "    Run_model_w_dry_out(\n",
    "            CyclePack , DatePack_scan_jj, BasicPath , Target, book_name_xlsx,\n",
    "        )  \"\"\"\n",
    "if __name__ == \"__main__\":\n",
    "    pool = multiprocessing.Pool(3)\n",
    "    processes = [pool.apply_async(\n",
    "        Run_model_w_dry_out, \n",
    "        args=(\n",
    "            CyclePack , DatePack_scan_jj, BasicPath , Target, book_name_xlsx,\n",
    "        )\n",
    "            ) \n",
    "            for DatePack_scan_jj in DatePack_scan]\n",
    "    result = [p.get() for p in processes]\n",
    "\n"
   ]
  },
  {
   "cell_type": "code",
   "execution_count": 4,
   "metadata": {},
   "outputs": [
    {
     "name": "stdout",
     "output_type": "stream",
     "text": [
      "Successfully create a excel file\n"
     ]
    }
   ],
   "source": [
    "# Run model without dry-out:\n",
    "for i in range(0,1):  \n",
    "    Total_Cycles = 9; Cycle_bt_RPT = 3; Update_Cycles = 3;  \n",
    "    CyclePack = [Total_Cycles,Cycle_bt_RPT,Update_Cycles];\n",
    "    # Key scan parameters:\n",
    "    Ratio_excess = [1.0,];\n",
    "    cs_Neg_Init = [29866,]; Diff_SEI = [1.7e-20,];    # default: 29866\n",
    "    R_SEI = [2E5,];   Bulk_Sol_Con =[ 4541.0,];\n",
    "    D_Li_inSEI = [  1.0e-16];    # default: 1e-20 \n",
    "    c_Li_inte_ref = [15,];    # default: 15\n",
    "    Couple_SEI_LiP = [1e-6,]; # default: 1e-6\n",
    "    k_LiP = [1E-10];         # default: 1e-10\n",
    "    Temper = [25,];\n",
    "    MESH_PAR = [30,];\n",
    "\n",
    "    (TotalScan, DatePack_scan) = GetScan(Ratio_excess,cs_Neg_Init,Diff_SEI,\n",
    "        R_SEI,Bulk_Sol_Con,D_Li_inSEI,c_Li_inte_ref,Couple_SEI_LiP,k_LiP,Temper,MESH_PAR);\n",
    "    BasicPath = 'D:/OneDrive - Imperial College London/SimDataSave/P2R3/'; \n",
    "    Target  = 'WoDryout_1/'\n",
    "    if not os.path.exists(BasicPath + Target):\n",
    "        os.mkdir(BasicPath + Target);\n",
    "    book_name_xlsx = 'Inte_SEI_9cycles_1.xlsx';\n",
    "\n",
    "    sheet_name_xlsx = 'Results'\n",
    "    value3 = [\n",
    "        [\"Index\", \"Ratio_ex\",\"cs_Neg_Init\", \"Diff_SEI\", \"R_SEI\", \n",
    "        \"Bulk_Sol_Con\",\"D_Li_inSEI\", \"c_Li_inte_ref\",\n",
    "        \"Couple_SEI_LiP\",\"k_LiP\",\"Temper_i\",\"mesh_par\",\n",
    "        \"Cap Loss\",\"LLI to LiP\",\n",
    "        \"LLI to SEI\",\"Vol_Elely_Tot Final\", \"Vol_Elely_JR Final\",\"Width Final\",\"Error\"],\n",
    "        ]\n",
    "    write_excel_xlsx(BasicPath + Target+book_name_xlsx, sheet_name_xlsx, value3)\n",
    "\n",
    "\"\"\" for DatePack_scan_jj in DatePack_scan:\n",
    "    Run_model_wo_Dry_out(\n",
    "            CyclePack , DatePack_scan_jj, BasicPath , Target, book_name_xlsx,\n",
    "        ) \n",
    " \"\"\"\n",
    "\n",
    "if __name__ == \"__main__\":\n",
    "    pool = multiprocessing.Pool(1)\n",
    "    processes = [pool.apply_async(\n",
    "        Run_model_wo_Dry_out, \n",
    "        args=(\n",
    "            CyclePack , DatePack_scan_jj, BasicPath , Target, book_name_xlsx,\n",
    "        )\n",
    "            ) \n",
    "            for DatePack_scan_jj in DatePack_scan]\n",
    "    result = [p.get() for p in processes]\n"
   ]
  },
  {
   "cell_type": "code",
   "execution_count": null,
   "metadata": {},
   "outputs": [],
   "source": [
    "print(DatePack_scan)"
   ]
  },
  {
   "cell_type": "code",
   "execution_count": null,
   "metadata": {},
   "outputs": [],
   "source": []
  },
  {
   "cell_type": "code",
   "execution_count": null,
   "metadata": {},
   "outputs": [],
   "source": []
  },
  {
   "cell_type": "code",
   "execution_count": null,
   "metadata": {},
   "outputs": [],
   "source": []
  },
  {
   "cell_type": "code",
   "execution_count": null,
   "metadata": {},
   "outputs": [],
   "source": []
  },
  {
   "cell_type": "code",
   "execution_count": null,
   "metadata": {},
   "outputs": [],
   "source": []
  },
  {
   "cell_type": "code",
   "execution_count": null,
   "metadata": {},
   "outputs": [],
   "source": []
  }
 ],
 "metadata": {
  "kernelspec": {
   "display_name": "Python 3.9.6 ('envPBGEM')",
   "language": "python",
   "name": "python3"
  },
  "language_info": {
   "codemirror_mode": {
    "name": "ipython",
    "version": 3
   },
   "file_extension": ".py",
   "mimetype": "text/x-python",
   "name": "python",
   "nbconvert_exporter": "python",
   "pygments_lexer": "ipython3",
   "version": "3.9.6"
  },
  "orig_nbformat": 4,
  "vscode": {
   "interpreter": {
    "hash": "83fab7fbb3a8fe7b5910804f702478ef63e2cc6a08d85072a5d68865ed0fd8c7"
   }
  }
 },
 "nbformat": 4,
 "nbformat_minor": 2
}
