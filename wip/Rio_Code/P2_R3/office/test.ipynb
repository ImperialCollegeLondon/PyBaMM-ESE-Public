{
 "cells": [
  {
   "cell_type": "code",
   "execution_count": 1,
   "metadata": {},
   "outputs": [],
   "source": [
    "import pybamm as pb;import pandas as pd   ;import numpy as np;import os;import matplotlib.pyplot as plt;import os;#import imageio\n",
    "from scipy.io import savemat,loadmat;from pybamm import constants,exp;import matplotlib as mpl; fs=17; # or we can set import matplotlib.pyplot as plt then say 'mpl.rc...'\n",
    "for k in range(0,1):\n",
    "    mpl.rcParams[\"axes.labelsize\"] = fs\n",
    "    mpl.rcParams[\"axes.titlesize\"] = fs\n",
    "    mpl.rcParams[\"xtick.labelsize\"] =  fs\n",
    "    mpl.rcParams[\"ytick.labelsize\"] =  fs\n",
    "    mpl.rcParams[\"legend.fontsize\"] =  fs\n",
    "    mpl.rcParams['font.sans-serif'] = ['Times New Roman']\n",
    "    mpl.rcParams['font.serif'] = ['Times New Roman']\n",
    "    mpl.rcParams['axes.unicode_minus'] = False\n",
    "\n",
    "import openpyxl"
   ]
  },
  {
   "cell_type": "code",
   "execution_count": 2,
   "metadata": {},
   "outputs": [],
   "source": [
    "# Add funtion to sys.path\n",
    "os.chdir(pb.__path__[0]+'/..')   \n",
    "# pb.__path__[0] allow us to location path without concerning different machine\n",
    "import sys  \n",
    "sys.path.append(os.path.join(os.getcwd(),'wip\\Rio_Code\\Fun_P2'))  \n",
    "from Fun_P2_Union import (GetScan,Run_model_w_dry_out ,Run_model_wo_Dry_out,Cal_new_con_Update,Run_Model_Base_On_Last_Solution,Run_Model_Base_On_Last_Solution_RPT,write_excel_xlsx,)\n"
   ]
  },
  {
   "cell_type": "code",
   "execution_count": 3,
   "metadata": {},
   "outputs": [],
   "source": [
    "from pybamm import exp, constants, Parameter\n",
    "def nmc_LGM50_electrolyte_exchange_current_density_ORegan2021_adjust(c_e, c_s_surf, T):\n",
    "    i_ref = 5.028  # (A/m2)\n",
    "    alpha = 0.43\n",
    "    E_r = 2.401e4\n",
    "    arrhenius = exp(E_r / constants.R * (1 / 298.15 - 1 / T))\n",
    "    c_p_max = Parameter(\"Maximum concentration in positive electrode [mol.m-3]\")\n",
    "    c_e_ref = Parameter(\"Typical electrolyte concentration [mol.m-3]\")\n",
    "    return (\n",
    "        i_ref\n",
    "        * arrhenius\n",
    "        * (c_e / c_e_ref) ** (1 - alpha)\n",
    "        * (c_s_surf / c_p_max) ** alpha\n",
    "        * (1 - c_s_surf / c_p_max) ** (1 - alpha))\n",
    "\n",
    "def nmc_LGM50_diffusivity_ORegan2021_adjust(sto, T):\n",
    "    a1 = -0.9231\n",
    "    a2 = -0.4066\n",
    "    a3 = -0.993\n",
    "    b1 = 0.3216\n",
    "    b2 = 0.4532\n",
    "    b3 = 0.8098\n",
    "    c0 = -13.96\n",
    "    c1 = 0.002534\n",
    "    c2 = 0.003926\n",
    "    c3 = 0.09924\n",
    "    d = 1449\n",
    "\n",
    "    D_ref = (\n",
    "        10\n",
    "        ** (\n",
    "            c0\n",
    "            + a1 * exp(-((sto - b1) ** 2) / c1)\n",
    "            + a2 * exp(-((sto - b2) ** 2) / c2)\n",
    "            + a3 * exp(-((sto - b3) ** 2) / c3)\n",
    "        )\n",
    "        * 10  # correcting factor (see O'Regan et al 2021), mark Ruihe change from 2.7 to 10\n",
    "    )\n",
    "\n",
    "    E_D_s = d * constants.R\n",
    "    arrhenius = exp(E_D_s / constants.R * (1 / 298.15 - 1 / T))\n",
    "\n",
    "    return D_ref * arrhenius\n",
    "\n",
    "def graphite_LGM50_diffusivity_ORegan2021_adjust(sto, T):\n",
    "    a0 = 11.17\n",
    "    a1 = -1.553\n",
    "    a2 = -6.136\n",
    "    a3 = -9.725\n",
    "    a4 = 1.85\n",
    "    b1 = 0.2031\n",
    "    b2 = 0.5375\n",
    "    b3 = 0.9144\n",
    "    b4 = 0.5953\n",
    "    c0 = -15.11\n",
    "    c1 = 0.0006091\n",
    "    c2 = 0.06438\n",
    "    c3 = 0.0578\n",
    "    c4 = 0.001356\n",
    "    d = 2092\n",
    "\n",
    "    D_ref = (\n",
    "        10\n",
    "        ** (\n",
    "            a0 * sto\n",
    "            + c0\n",
    "            + a1 * exp(-((sto - b1) ** 2) / c1)\n",
    "            + a2 * exp(-((sto - b2) ** 2) / c2)\n",
    "            + a3 * exp(-((sto - b3) ** 2) / c3)\n",
    "            + a4 * exp(-((sto - b4) ** 2) / c4)\n",
    "        )\n",
    "        * 20  # correcting factor (see O'Regan et al 2021) mark: Ruihe change from 3.0321 \n",
    "    )\n",
    "\n",
    "    E_D_s = d * constants.R\n",
    "    arrhenius = exp(E_D_s / constants.R * (1 / 298.15 - 1 / T))\n",
    "\n",
    "    return D_ref * arrhenius\n",
    "\n",
    "def graphite_LGM50_electrolyte_exchange_current_density_ORegan2021_adjust(c_e, c_s_surf, T):\n",
    "    i_ref = 12.4  # (A/m2) replaced with value from Schmalstieg et al. (2018), from 2.668 \n",
    "    alpha = 0.792\n",
    "    E_r = 4e4\n",
    "    arrhenius = exp(E_r / constants.R * (1 / 298.15 - 1 / T))\n",
    "\n",
    "    c_n_max = Parameter(\"Maximum concentration in negative electrode [mol.m-3]\")\n",
    "    c_e_ref = Parameter(\"Typical electrolyte concentration [mol.m-3]\")\n",
    "\n",
    "    return (\n",
    "        i_ref\n",
    "        * arrhenius\n",
    "        * (c_e / c_e_ref) ** (1 - alpha)\n",
    "        * (c_s_surf / c_n_max) ** alpha\n",
    "        * (1 - c_s_surf / c_n_max) ** (1 - alpha))\n",
    "\n",
    "def nmc_LGM50_electronic_conductivity_ORegan2021_adjust(T):\n",
    "    E_r = 3.5e3\n",
    "    arrhenius = exp(E_r / constants.R * (1 / 298.15 - 1 / T))\n",
    "\n",
    "    sigma = 0.8473 * arrhenius\n",
    "\n",
    "    return sigma\n"
   ]
  },
  {
   "cell_type": "code",
   "execution_count": null,
   "metadata": {},
   "outputs": [],
   "source": [
    "# ORegan2021:\n",
    "# Initial concentration in negative electrode [mol.m-3],28866,Chen 2020,\n",
    "# Initial concentration in positive electrode [mol.m-3],13975,Chen 2020,"
   ]
  },
  {
   "cell_type": "markdown",
   "metadata": {},
   "source": [
    "str = 'Chen2020_coupled';\n",
    "ChemistryChen=pb.parameter_sets.+str"
   ]
  },
  {
   "cell_type": "code",
   "execution_count": 4,
   "metadata": {},
   "outputs": [],
   "source": [
    "V_max = 4.2;        V_min = 2.5;   Temper_RPT = 25; \n",
    "\n",
    "#index \n",
    "ModelTimer = pb.Timer()\n",
    "Total_Cycles = 10; save_at_cycles = 1;  \n",
    "\n",
    "for i in range(0,1):  # Key scan parameters:\n",
    "    Ratio_excess_i = 1.04;\n",
    "    cs_Neg_Init_i = 29866 ; Diff_SEI_i = 1.7e-20; # Ruihe old: 28920   default:29866\n",
    "    R_SEI_i = 2E5;   Bulk_Sol_Con_i = 4541.0;\n",
    "    D_Li_inSEI_i = 1e-16;    # default: 1e-20 \n",
    "    c_Li_inte_ref_i = 15;    # default: 15\n",
    "    Couple_SEI_LiP_i = 1e-6; # default: 1e-6\n",
    "    k_LiP_i = 1E-10;         # default: 1e-10\n",
    "    Temper = 25;\n",
    "\n",
    "Experiment_Long   = pb.Experiment(  \n",
    "    [(\n",
    "        f\"Discharge at 1 C until {V_min} V\", \n",
    "        f\"Charge at 0.3 C until {V_max} V\", \n",
    "        f\"Hold at {V_max} V until C/100\"),  ] * Total_Cycles  )  \n",
    "        \n",
    "for i in range(0,1):    ######################   update parameter and run first RPT\n",
    "    ChemistryChen=pb.parameter_sets.Chen2020_coupled   \n",
    "    ChemistryChen[\"electrolyte\"] = \"lipf6_Valoen2005\"\n",
    "    Para_0=pb.ParameterValues(chemistry=ChemistryChen)\n",
    "    Para_0.update({\"Negative electrode diffusivity [m2.s-1]\": 2e-13})\n",
    "    Para_0.update({\"Positive electrode diffusivity [m2.s-1]\": 1e-13})\n",
    "    Para_0.update({\"Upper voltage cut-off [V]\": 4.21})\n",
    "    Para_0.update({\"Lower voltage cut-off [V]\": 2.49})\n",
    "    Para_0.update({'SEI resistivity [Ohm.m]':R_SEI_i}) ;\n",
    "    Para_0.update({'Outer SEI solvent diffusivity [m2.s-1]':Diff_SEI_i});\n",
    "    Para_0.update({'Bulk solvent concentration [mol.m-3]':Bulk_Sol_Con_i});\n",
    "    Para_0.update({'Initial electrolyte excessive amount ratio':Ratio_excess_i})   # \n",
    "    Para_0.update({'Inner SEI lithium interstitial diffusivity [m2.s-1]':D_Li_inSEI_i})       \n",
    "    Para_0.update({'Lithium interstitial reference concentration [mol.m-3]':c_Li_inte_ref_i}) \n",
    "    Para_0.update({\"SEI-plating coupling constant [s-1]\": Couple_SEI_LiP_i})     \n",
    "    Para_0.update({'Lithium plating kinetic rate constant [m.s-1]':k_LiP_i})                \n",
    "    Para_0.update({'Current solvent concentration in the reservoir [mol.m-3]':Bulk_Sol_Con_i})     \n",
    "    Para_0.update({'Current electrolyte concentration in the reservoir [mol.m-3]':1000.0})           \n",
    "    Para_0.update({'Ratio of Li-ion concentration change in electrolyte consider solvent consumption':  \n",
    "                    1.0 })\n",
    "    Model_0 = pb.lithium_ion.DFN(     \n",
    "    options={\n",
    "        \"particle\": \"Fickian diffusion\",          \n",
    "        \"SEI\":\"interstitial-diffusion limited\",          \n",
    "        \"SEI film resistance\":\"distributed\",          \n",
    "        \"SEI porosity change\":\"true\",         \n",
    "        \"lithium plating\":\"partially reversible\"     } ) #\n",
    "    ModelTimer = pb.Timer()\n",
    "    mesh_neg = 50; mesh_pos = 50; \n",
    "    var = pb.standard_spatial_vars  \n",
    "    var_pts = {var.x_n: 20,  var.x_s: 10,  var.x_p: 20,  var.r_n: mesh_neg,  var.r_p: mesh_pos,  }\n",
    "    Sim_0    = pb.Simulation(\n",
    "        Model_0,        experiment = Experiment_Long,\n",
    "        parameter_values = Para_0,\n",
    "        solver = pb.CasadiSolver(),\n",
    "        #var_pts=var_pts,\n",
    "        ) #mode=\"safe\"\n",
    "    Sol_0    = Sim_0.solve(save_at_cycles = save_at_cycles)"
   ]
  },
  {
   "cell_type": "code",
   "execution_count": null,
   "metadata": {},
   "outputs": [],
   "source": [
    "x_n = pb.standard_spatial_vars.x_n"
   ]
  },
  {
   "cell_type": "code",
   "execution_count": 5,
   "metadata": {},
   "outputs": [],
   "source": [
    "D_Li_inSEI_i = 1e-16;\n",
    "for i in range(0,1):    ######################   update parameter and run first RPT\n",
    "    ChemistryChen=pb.parameter_sets.Chen2020_coupled   \n",
    "    ChemistryChen[\"electrolyte\"] = \"lipf6_Valoen2005\"\n",
    "    Para_0=pb.ParameterValues(chemistry=ChemistryChen)\n",
    "    Para_0.update({\"Negative electrode diffusivity [m2.s-1]\": 2e-13})\n",
    "    Para_0.update({\"Positive electrode diffusivity [m2.s-1]\": 1e-13})\n",
    "    Para_0.update({\"Upper voltage cut-off [V]\": 4.21})\n",
    "    Para_0.update({\"Lower voltage cut-off [V]\": 2.49})\n",
    "    Para_0.update({'SEI resistivity [Ohm.m]':R_SEI_i}) ;\n",
    "    Para_0.update({'Outer SEI solvent diffusivity [m2.s-1]':Diff_SEI_i});\n",
    "    Para_0.update({'Bulk solvent concentration [mol.m-3]':Bulk_Sol_Con_i});\n",
    "    Para_0.update({'Initial electrolyte excessive amount ratio':Ratio_excess_i})   # \n",
    "    Para_0.update({'Inner SEI lithium interstitial diffusivity [m2.s-1]':D_Li_inSEI_i})       \n",
    "    Para_0.update({'Lithium interstitial reference concentration [mol.m-3]':c_Li_inte_ref_i}) \n",
    "    Para_0.update({\"SEI-plating coupling constant [s-1]\": Couple_SEI_LiP_i})     \n",
    "    Para_0.update({'Lithium plating kinetic rate constant [m.s-1]':k_LiP_i})                \n",
    "    Para_0.update({'Current solvent concentration in the reservoir [mol.m-3]':Bulk_Sol_Con_i})     \n",
    "    Para_0.update({'Current electrolyte concentration in the reservoir [mol.m-3]':1000.0})           \n",
    "    Para_0.update({'Ratio of Li-ion concentration change in electrolyte consider solvent consumption':  \n",
    "                    1.0 })\n",
    "    Model_0 = pb.lithium_ion.DFN(     \n",
    "    options={\n",
    "        \"particle\": \"Fickian diffusion\",          \n",
    "        \"SEI\":\"solvent-diffusion limited\",          \n",
    "        \"SEI film resistance\":\"distributed\",          \n",
    "        \"SEI porosity change\":\"true\",         \n",
    "        \"lithium plating\":\"partially reversible\"     } ) #\n",
    "    ModelTimer = pb.Timer()\n",
    "    mesh_neg = 100; mesh_pos = 100; \n",
    "    var = pb.standard_spatial_vars  \n",
    "    var_pts = {var.x_n: 20,  var.x_s: 10,  var.x_p: 20,  var.r_n: mesh_neg,  var.r_p: mesh_pos,  }\n",
    "    Sim_1    = pb.Simulation(\n",
    "        Model_0,        experiment = Experiment_Long,\n",
    "        parameter_values = Para_0,\n",
    "        solver = pb.CasadiSolver(),\n",
    "        #var_pts=var_pts,\n",
    "        ) #mode=\"safe\"\n",
    "    Sol_1    = Sim_1.solve(save_at_cycles = save_at_cycles)"
   ]
  },
  {
   "cell_type": "code",
   "execution_count": null,
   "metadata": {},
   "outputs": [],
   "source": [
    "# get maximum and mimunm solid/liquid concentration \n",
    "time_all = Sol_0[\"Time [h]\"].entries; \n",
    "x_n = Sol_0.cycles[0].steps[0][\"x_n [m]\"].entries[:,-1]; \n",
    "r_n = Sol_0.cycles[0].steps[0][\"r_n [m]\"].entries[:,-1]; \n",
    "x = Sol_0.cycles[0].steps[0][\"x [m]\"].entries[:,-1];  \n",
    "c_NegMaxSurf = Sol_0[\n",
    "    \"Maximum negative particle surface concentration\"].entries;  \n",
    "c_PosMaxSurf = Sol_0[\n",
    "    \"Maximum positive particle surface concentration\"].entries; \n",
    "SOC_Neg = Sol_0[\"Negative electrode SOC\"].entries; \n",
    "SOC_Pos = Sol_0[\"Positive electrode SOC\"].entries;     "
   ]
  },
  {
   "cell_type": "code",
   "execution_count": null,
   "metadata": {},
   "outputs": [],
   "source": [
    "# Plot SOC change\n",
    "Num_subplot = 2; fs=19\n",
    "fig, axs = plt.subplots(1,2, figsize=(14,5),tight_layout=True)\n",
    "axs[0].plot(time_all,c_NegMaxSurf, '-', label=\"Max Surf\" ) # first cycle\n",
    "axs[0].plot(time_all,SOC_Neg, '-',label=\"avg SOC\" ) # last cycle\n",
    "axs[1].plot(time_all,c_PosMaxSurf, '-',label=\"Max Surf\" ) # last cycle\n",
    "axs[1].plot(time_all,SOC_Pos, '-',label=\"avg SOC\" ) # last cycle\n",
    "for i in range(0,Num_subplot):    \n",
    "    axs[i].set_xlabel(\"Time [h]\",   fontdict={'family':'Times New Roman','size':fs})\n",
    "    axs[i].set_ylabel(\"SOC\",   fontdict={'family':'Times New Roman','size':fs})\n",
    "    labels = axs[i].get_xticklabels() + axs[i].get_yticklabels(); [label.set_fontname('Times New Roman') for label in labels]\n",
    "    axs[i].tick_params(labelcolor='k', labelsize=fs, width=1) ;  del labels;\n",
    "    axs[i].legend(prop={'family':'Times New Roman','size':fs},loc='best',frameon=False)  \n",
    "\n",
    "axs[0].set_title(f\"Neg\", fontdict={'family':'Times New Roman','size':fs+1})\n",
    "axs[1].set_title(f\"Pos\", fontdict={'family':'Times New Roman','size':fs+1})"
   ]
  },
  {
   "cell_type": "code",
   "execution_count": 16,
   "metadata": {},
   "outputs": [
    {
     "name": "stdout",
     "output_type": "stream",
     "text": [
      "Electrolyte concentration\n",
      "Electrolyte concentration [Molar]\n",
      "Electrolyte concentration [mol.m-3]\n",
      "Negative electrolyte concentration\n",
      "Negative electrolyte concentration [Molar]\n",
      "Negative electrolyte concentration [mol.m-3]\n",
      "Positive electrolyte concentration\n",
      "Positive electrolyte concentration [Molar]\n",
      "Positive electrolyte concentration [mol.m-3]\n",
      "Separator electrolyte concentration\n",
      "Separator electrolyte concentration [Molar]\n",
      "Separator electrolyte concentration [mol.m-3]\n",
      "X-averaged electrolyte concentration\n",
      "X-averaged electrolyte concentration [Molar]\n",
      "X-averaged electrolyte concentration [mol.m-3]\n",
      "X-averaged negative electrolyte concentration\n",
      "X-averaged negative electrolyte concentration [mol.m-3]\n",
      "X-averaged positive electrolyte concentration\n",
      "X-averaged positive electrolyte concentration [mol.m-3]\n",
      "X-averaged separator electrolyte concentration\n",
      "X-averaged separator electrolyte concentration [mol.m-3]\n"
     ]
    }
   ],
   "source": [
    "Model_0.variables.search('Electrolyte concentration')"
   ]
  },
  {
   "cell_type": "code",
   "execution_count": null,
   "metadata": {},
   "outputs": [],
   "source": [
    "print(len(r_n))\n",
    "print(len(x_n))\n",
    "print(len(x))"
   ]
  },
  {
   "cell_type": "code",
   "execution_count": null,
   "metadata": {},
   "outputs": [],
   "source": [
    "label = [\"Diff_Li_SEI = 1e-18\",\"Diff_Li_SEI = 1e-16\"] \n",
    "output_variables3 = [\n",
    "                \"Discharge capacity [A.h]\", \n",
    "                \"Negative electrode SOC\",\n",
    "                \"Positive electrode SOC\",\n",
    "                \"Electrolyte potential [V]\",\n",
    "                \"Maximum negative particle surface concentration\",\n",
    "                \"Maximum positive particle surface concentration\",\n",
    "            ]\n",
    "quick_plot = pb.QuickPlot([Sol_0,Sol_1], output_variables3,label,variable_limits='tight') #     \n",
    "quick_plot.dynamic_plot();"
   ]
  },
  {
   "cell_type": "code",
   "execution_count": null,
   "metadata": {},
   "outputs": [],
   "source": [
    "(0.05*3600/96485)  * 9.8e-5 * 1e6   # covert LLI to SEI (Ah)-0.05 into SEI volume (mL) \n",
    "#Para_0[\"Inner SEI partial molar volume [m3.mol-1]\"]"
   ]
  },
  {
   "cell_type": "code",
   "execution_count": 14,
   "metadata": {},
   "outputs": [
    {
     "data": {
      "text/plain": [
       "[<matplotlib.lines.Line2D at 0x156c3f42b80>]"
      ]
     },
     "execution_count": 14,
     "metadata": {},
     "output_type": "execute_result"
    },
    {
     "data": {
      "image/png": "[encoded data removed]",
      "text/plain": [
       "<Figure size 432x288 with 1 Axes>"
      ]
     },
     "metadata": {
      "needs_background": "light"
     },
     "output_type": "display_data"
    }
   ],
   "source": [
    "# check SEI growth and porosity decrease here:\n",
    "# X-average porosity vs LLI TO SEI in mol plus LiP\n",
    "L_p   =Para_0[\"Positive electrode thickness [m]\"]\n",
    "L_n   =Para_0[\"Negative electrode thickness [m]\"]\n",
    "L_s   =Para_0[\"Separator thickness [m]\"]\n",
    "L_y   =Para_0[\"Electrode width [m]\"]   \n",
    "L_z   =Para_0[\"Electrode height [m]\"]\n",
    "PoreVolNeg = Sol_0[\"X-averaged negative electrode porosity\"].entries*L_n*L_y*L_z;\n",
    "PoreVolSep = Sol_0[\"X-averaged separator porosity\"].entries*L_s*L_y*L_z;\n",
    "PoreVolPos = Sol_0[\"X-averaged positive electrode porosity\"].entries*L_p*L_y*L_z;\n",
    "\n",
    "LLINegSEI = (\n",
    "    Sol_0[\"Loss of lithium to negative electrode SEI [mol]\"].entries\n",
    "    - \n",
    "    Sol_0[\"Loss of lithium to negative electrode SEI [mol]\"].entries[0]\n",
    "    )\n",
    "LLINegLiP = (\n",
    "    Sol_0[\"Loss of lithium to negative electrode lithium plating [mol]\"].entries\n",
    "    - \n",
    "    Sol_0[\"Loss of lithium to negative electrode lithium plating [mol]\"].entries[0]\n",
    ")\n",
    "VmolSEI   = Para_0[\"Outer SEI partial molar volume [m3.mol-1]\"] # 9.8e-5,\n",
    "VmolLiP   = Para_0[\"Lithium metal partial molar volume [m3.mol-1]\"] # 1.3e-05\n",
    "Vol_SEILiP_increase = 1.0*(LLINegSEI * VmolSEI + LLINegLiP * VmolLiP) \n",
    "\n",
    "PoreVolNeg_dec = PoreVolNeg[0] - PoreVolNeg;\n",
    "# \n",
    "PoreVolNeg_1 = Sol_1[\"X-averaged negative electrode porosity\"].entries*L_n*L_y*L_z;\n",
    "PoreVolSep_1 = Sol_1[\"X-averaged separator porosity\"].entries*L_s*L_y*L_z;\n",
    "PoreVolPos_1 = Sol_1[\"X-averaged positive electrode porosity\"].entries*L_p*L_y*L_z;\n",
    "\n",
    "LLINegSEI_1 = (\n",
    "    Sol_1[\"Loss of lithium to negative electrode SEI [mol]\"].entries\n",
    "    - \n",
    "    Sol_1[\"Loss of lithium to negative electrode SEI [mol]\"].entries[0]\n",
    "    )\n",
    "LLINegLiP_1 = (\n",
    "    Sol_1[\"Loss of lithium to negative electrode lithium plating [mol]\"].entries\n",
    "    - \n",
    "    Sol_1[\"Loss of lithium to negative electrode lithium plating [mol]\"].entries[0]\n",
    ")\n",
    "VmolSEI   = Para_0[\"Outer SEI partial molar volume [m3.mol-1]\"] # 9.8e-5,\n",
    "VmolLiP   = Para_0[\"Lithium metal partial molar volume [m3.mol-1]\"] # 1.3e-05\n",
    "Vol_SEILiP_increase_1 = 1.0*(LLINegSEI_1 * VmolSEI + LLINegLiP_1 * VmolLiP) \n",
    "\n",
    "PoreVolNeg_dec_1 = PoreVolNeg_1[0] - PoreVolNeg_1;\n",
    "\n",
    "Time_1 =Sol_1[\"Time [h]\"].entries\n",
    "\n",
    "plt.plot(Time_1,Vol_SEILiP_increase_1,'-o')\n",
    "plt.plot(Time_1,PoreVolNeg_dec_1,'--')\n",
    "\n",
    "Time =Sol_0[\"Time [h]\"].entries\n",
    "\n",
    "plt.plot(Time,Vol_SEILiP_increase,'-o')\n",
    "plt.plot(Time,PoreVolNeg_dec,'--')"
   ]
  },
  {
   "cell_type": "code",
   "execution_count": 15,
   "metadata": {},
   "outputs": [
    {
     "data": {
      "text/plain": [
       "1.664916754162292"
      ]
     },
     "execution_count": 15,
     "metadata": {},
     "output_type": "execute_result"
    }
   ],
   "source": [
    "(9.8e-5 + 1.3e-05) / 6.667e-5"
   ]
  },
  {
   "cell_type": "code",
   "execution_count": 12,
   "metadata": {},
   "outputs": [
    {
     "data": {
      "text/plain": [
       "[<matplotlib.lines.Line2D at 0x156c3e88a00>]"
      ]
     },
     "execution_count": 12,
     "metadata": {},
     "output_type": "execute_result"
    },
    {
     "data": {
      "image/png": "[encoded data removed]",
      "text/plain": [
       "<Figure size 432x288 with 1 Axes>"
      ]
     },
     "metadata": {
      "needs_background": "light"
     },
     "output_type": "display_data"
    }
   ],
   "source": []
  },
  {
   "cell_type": "code",
   "execution_count": 11,
   "metadata": {},
   "outputs": [
    {
     "name": "stdout",
     "output_type": "stream",
     "text": [
      "-1.9457321609044982e-20\n",
      "0.0\n"
     ]
    }
   ],
   "source": [
    "print(Sol_0[\"Loss of lithium to negative electrode SEI [mol]\"].entries[0])\n",
    "print(Sol_0[\"Loss of lithium to negative electrode lithium plating [mol]\"].entries[0])"
   ]
  },
  {
   "cell_type": "code",
   "execution_count": null,
   "metadata": {},
   "outputs": [],
   "source": [
    "label = [\"Diff_Li_SEI = 1e-18\",\"Diff_Li_SEI = 1e-16\"] \n",
    "output_variables3 = [\n",
    "                \"Loss of capacity to negative electrode lithium plating [A.h]\",\n",
    "                \"Loss of capacity to positive electrode dead lithium plating [A.h]\",\n",
    "                \"Loss of capacity to negative electrode SEI [A.h]\",\n",
    "            ]\n",
    "quick_plot = pb.QuickPlot([Sol_0,Sol_1], output_variables3,label,variable_limits='tight') #     \n",
    "quick_plot.dynamic_plot();"
   ]
  },
  {
   "cell_type": "code",
   "execution_count": null,
   "metadata": {},
   "outputs": [],
   "source": [
    "label = [\"Diff_Li_SEI = 1e-18\",\"Diff_Li_SEI = 1e-16\"] \n",
    "output_variables3 = [\n",
    "                \"Discharge capacity [A.h]\", \n",
    "                \"Negative electrode SOC\",\n",
    "                \"Positive electrode SOC\",\n",
    "                \"Electrolyte potential [V]\",\n",
    "                \"Negative particle surface concentration [mol.m-3]\",\n",
    "                \"Terminal voltage [V]\",\n",
    "                \"SEI interfacial current density [A.m-2]\",\n",
    "                \"Porosity\"\n",
    "            ]\n",
    "quick_plot = pb.QuickPlot([Sol_0,Sol_1], output_variables3,label,variable_limits='tight') #     \n",
    "quick_plot.dynamic_plot();"
   ]
  },
  {
   "cell_type": "code",
   "execution_count": null,
   "metadata": {},
   "outputs": [],
   "source": [
    "label = [\"Diff_Li_SEI = 1e-18\",\"Diff_Li_SEI = 1e-16\" ]\n",
    "output_variables3 = [\n",
    "                \"Discharge capacity [A.h]\", \n",
    "                \"Loss of capacity to negative electrode SEI [A.h]\",\n",
    "                \"Loss of capacity to negative electrode lithium plating [A.h]\",         \n",
    "                \"Negative electrode interfacial current density [A.m-2]\",\n",
    "            ]\n",
    "quick_plot = pb.QuickPlot([Sol_0,Sol_1], output_variables3,label,variable_limits='tight') #     \n",
    "quick_plot.dynamic_plot();"
   ]
  },
  {
   "cell_type": "code",
   "execution_count": null,
   "metadata": {},
   "outputs": [],
   "source": [
    "\n",
    "Cap  =Sol_0[\"Discharge capacity [A.h]\"].entries\n",
    "\n",
    "Time =Sol_0[\"Time [h]\"].entries\n",
    "NegSoc=Sol_0[\"Negative electrode SOC\"].entries\n",
    "PosSoc=Sol_0[\"Positive electrode SOC\"].entries\n",
    "\n",
    "\n",
    "Num_subplot = 2; fs=19\n",
    "fig, axs = plt.subplots(1,2, figsize=(14,5),tight_layout=True)\n",
    "axs[0].plot(Time,Cap, '-', label=\"Cap\" ) # first cycle\n",
    "axs[1].plot(Time,NegSoc, '-',label=\"Neg\" ) # last cycle\n",
    "axs[1].plot(Time,PosSoc, '-',label=\"Pos\" ) # last cycle\n",
    "axs[0].set_ylabel(\"Discharge cap [A.h]\",   fontdict={'family':'Times New Roman','size':fs})\n",
    "axs[1].set_ylabel(\"SOC\",   fontdict={'family':'Times New Roman','size':fs})\n",
    "for i in range(0,Num_subplot):    \n",
    "    axs[i].set_xlabel(\"Time [h]\",   fontdict={'family':'Times New Roman','size':fs})\n",
    "    labels = axs[i].get_xticklabels() + axs[i].get_yticklabels(); [label.set_fontname('Times New Roman') for label in labels]\n",
    "    axs[i].tick_params(labelcolor='k', labelsize=fs, width=1) ;  del labels;\n",
    "    axs[i].legend(prop={'family':'Times New Roman','size':fs},loc='best',frameon=False)  \n",
    "\n",
    "axs[0].set_title(f\"Discharge capacity\", fontdict={'family':'Times New Roman','size':fs+1})\n",
    "axs[1].set_title(f\"Electrode SOC\", fontdict={'family':'Times New Roman','size':fs+1})"
   ]
  },
  {
   "cell_type": "code",
   "execution_count": null,
   "metadata": {},
   "outputs": [],
   "source": [
    "\n",
    "plt.plot(Time,NegSoc)\n",
    "plt.plot(Time,PosSoc)"
   ]
  },
  {
   "cell_type": "code",
   "execution_count": null,
   "metadata": {},
   "outputs": [],
   "source": [
    "Experiment_Long_1   = pb.Experiment(  \n",
    "    [(\n",
    "        f\"Discharge at 1 C until {V_min} V\", \n",
    "        f\"Charge at 0.3 C until {V_max} V\", \n",
    "        f\"Hold at {V_max} V until C/100\"),  ] * 6  )  \n",
    "Model_1= Model_0.set_initial_conditions_from(Sol_0, inplace=False)\n",
    "Sim_1    = pb.Simulation(\n",
    "    Model_1,        experiment = Experiment_Long_1,\n",
    "    parameter_values = Para_0,\n",
    "    solver = pb.CasadiSolver(),\n",
    "    var_pts=var_pts,\n",
    "    ) #mode=\"safe\"\n",
    "Sol_1    = Sim_1.solve()"
   ]
  },
  {
   "cell_type": "code",
   "execution_count": null,
   "metadata": {},
   "outputs": [],
   "source": [
    "V_max = 4.2;        V_min = 2.5;   Temper_RPT = 25; \n",
    "\n",
    "#index \n",
    "ModelTimer = pb.Timer()\n",
    "Total_Cycles = 16; save_at_cycles = 1;  \n",
    "\n",
    "# Key scan parameters:\n",
    "Ratio_excess_i = 1.04;\n",
    "cs_Neg_Init_i = 28866 ; Diff_SEI_i = 1.7e-20; # Ruihe old: 28920  \n",
    "R_SEI_i = 2E5;   Bulk_Sol_Con_i = 4541.0;\n",
    "D_Li_inSEI_i = 3e-21;    # default: 1e-20 \n",
    "c_Li_inte_ref_i = 15;    # default: 15\n",
    "Couple_SEI_LiP_i = 1e-6; # default: 1e-6\n",
    "k_LiP_i = 1E-10;         # default: 1e-10\n",
    "Temper = 25;\n",
    "\n",
    "Experiment_Long   = pb.Experiment(  \n",
    "    [(\n",
    "        f\"Discharge at 1 C until {V_min} V\", \n",
    "        f\"Charge at 0.3 C until {V_max} V\", \n",
    "        f\"Hold at {V_max} V until C/100\"),  ] * Total_Cycles  )  \n",
    "        \n",
    "for i in range(0,1):    ######################   update parameter and run first RPT\n",
    "    ChemistryChen=pb.parameter_sets.Chen2020_coupled   \n",
    "    ChemistryChen[\"electrolyte\"] = \"lipf6_Valoen2005\"\n",
    "    Para_0=pb.ParameterValues(chemistry=ChemistryChen)\n",
    "    Para_0.update({\"Negative electrode diffusivity [m2.s-1]\": graphite_LGM50_diffusivity_ORegan2021_adjust})\n",
    "    Para_0.update({\"Positive electrode diffusivity [m2.s-1]\": nmc_LGM50_diffusivity_ORegan2021_adjust})\n",
    "    Para_0.update({\"Negative electrode exchange-current density [A.m-2]\": \n",
    "        graphite_LGM50_electrolyte_exchange_current_density_ORegan2021_adjust})\n",
    "    Para_0.update({\"Positive electrode exchange-current density [A.m-2]\": \n",
    "        nmc_LGM50_electrolyte_exchange_current_density_ORegan2021_adjust})\n",
    "    Para_0.update({\"Positive electrode conductivity [S.m-1]\": \n",
    "        0.8473})\n",
    "    Para_0.update({\"Negative electrode Bruggeman coefficient (electrode)\": \n",
    "        0.0})\n",
    "    #Para_0.update({'Initial concentration in negative electrode [mol.m-3]':cs_Neg_Init_i })\n",
    "    #Para_0.update({'Initial concentration in positive electrode [mol.m-3]':13975 })  \n",
    "    Para_0.update({'SEI resistivity [Ohm.m]':R_SEI_i}) ;\n",
    "    Para_0.update({'Outer SEI solvent diffusivity [m2.s-1]':Diff_SEI_i});\n",
    "    Para_0.update({'Bulk solvent concentration [mol.m-3]':Bulk_Sol_Con_i});\n",
    "    Para_0.update({'Initial electrolyte excessive amount ratio':Ratio_excess_i})   # \n",
    "    Para_0.update({'Inner SEI lithium interstitial diffusivity [m2.s-1]':D_Li_inSEI_i})       \n",
    "    Para_0.update({'Lithium interstitial reference concentration [mol.m-3]':c_Li_inte_ref_i}) \n",
    "    Para_0.update({\"SEI-plating coupling constant [s-1]\": Couple_SEI_LiP_i})     \n",
    "    Para_0.update({'Lithium plating kinetic rate constant [m.s-1]':k_LiP_i})                \n",
    "    Para_0.update({'Current solvent concentration in the reservoir [mol.m-3]':Bulk_Sol_Con_i})     \n",
    "    Para_0.update({'Current electrolyte concentration in the reservoir [mol.m-3]':1000.0})           \n",
    "    Para_0.update({'Ratio of Li-ion concentration change in electrolyte consider solvent consumption':  \n",
    "                    1.0 })\n",
    "    Model_11 = pb.lithium_ion.DFN(     \n",
    "    options={\n",
    "        \"particle\": \"Fickian diffusion\",          \n",
    "        \"SEI\":\"solvent-diffusion limited\",          \n",
    "        \"SEI film resistance\":\"distributed\",          \n",
    "        \"SEI porosity change\":\"true\",         \n",
    "        \"lithium plating\":\"partially reversible\"     } ) #\n",
    "    ModelTimer = pb.Timer()\n",
    "    mesh_neg = 50; mesh_pos = 50; \n",
    "    var = pb.standard_spatial_vars  \n",
    "    var_pts = {var.x_n: 20,  var.x_s: 10,  var.x_p: 20,  var.r_n: mesh_neg,  var.r_p: mesh_pos,  }\n",
    "    Sim_11    = pb.Simulation(\n",
    "        Model_11,        experiment = Experiment_Long,\n",
    "        parameter_values = Para_0,\n",
    "        solver = pb.CasadiSolver(),\n",
    "        var_pts=var_pts,\n",
    "        ) #mode=\"safe\"\n",
    "    Sol_11    = Sim_11.solve()"
   ]
  },
  {
   "cell_type": "code",
   "execution_count": null,
   "metadata": {},
   "outputs": [],
   "source": [
    "Experiment_Long_6   = pb.Experiment(  \n",
    "    [(\n",
    "        f\"Discharge at 1 C for 3928 s\", ), ] * 1  ) \n",
    "Model_6= Model_0.set_initial_conditions_from(Sol_0, inplace=False)\n",
    "Sim_6 = pb.Simulation(\n",
    "        Model_6,\n",
    "        experiment = Experiment_Long_6, \n",
    "        parameter_values=Para_0, \n",
    "        solver = pb.CasadiSolver(),\n",
    "        #var_pts=var_pts,\n",
    "    )\n",
    "Sol_6 = Sim_6.solve() "
   ]
  },
  {
   "cell_type": "code",
   "execution_count": null,
   "metadata": {},
   "outputs": [],
   "source": [
    "Para_0.update({\"Negative electrode Bruggeman coefficient (electrode)\": \n",
    "        0.0})\n",
    "def nmc_LGM50_diffusivity_ORegan2021_adjust_2(sto, T):\n",
    "    a1 = -0.9231\n",
    "    a2 = -0.4066\n",
    "    a3 = -0.993\n",
    "    b1 = 0.3216\n",
    "    b2 = 0.4532\n",
    "    b3 = 0.8098\n",
    "    c0 = -13.96\n",
    "    c1 = 0.002534\n",
    "    c2 = 0.003926\n",
    "    c3 = 0.09924\n",
    "    d = 1449\n",
    "\n",
    "    D_ref = (\n",
    "        10\n",
    "        ** (\n",
    "            c0\n",
    "            + a1 * exp(-((sto - b1) ** 2) / c1)\n",
    "            + a2 * exp(-((sto - b2) ** 2) / c2)\n",
    "            + a3 * exp(-((sto - b3) ** 2) / c3)\n",
    "        )\n",
    "        * 10  # correcting factor (see O'Regan et al 2021)\n",
    "    )\n",
    "\n",
    "    E_D_s = d * constants.R\n",
    "    arrhenius = exp(E_D_s / constants.R * (1 / 298.15 - 1 / T))\n",
    "\n",
    "    return D_ref * arrhenius\n",
    "    \n",
    "Para_0.update({\"Positive electrode diffusivity [m2.s-1]\": \n",
    "        nmc_LGM50_diffusivity_ORegan2021_adjust_2})\n",
    "\n",
    "Experiment_Long_7   = pb.Experiment(  \n",
    "    [(\n",
    "        f\"Discharge at 1 C for 3929 s\", ), ] * 1  ) \n",
    "Model_7= Model_0.set_initial_conditions_from(Sol_0, inplace=False)\n",
    "Sim_7 = pb.Simulation(\n",
    "        Model_7,\n",
    "        experiment = Experiment_Long_7, \n",
    "        parameter_values=Para_0, \n",
    "        solver = pb.CasadiSolver(),\n",
    "        #var_pts=var_pts,\n",
    "    )\n",
    "Sol_7 = Sim_7.solve() "
   ]
  },
  {
   "cell_type": "code",
   "execution_count": null,
   "metadata": {},
   "outputs": [],
   "source": [
    "# Now we have: Sol_6 (dis 3928) Sol_5 (dis 3900) Sol_4 (dis 3928) Sol_0 (normal 5 cycles)"
   ]
  }
 ],
 "metadata": {
  "kernelspec": {
   "display_name": "Python 3.9.6 ('envPBGEM')",
   "language": "python",
   "name": "python3"
  },
  "language_info": {
   "codemirror_mode": {
    "name": "ipython",
    "version": 3
   },
   "file_extension": ".py",
   "mimetype": "text/x-python",
   "name": "python",
   "nbconvert_exporter": "python",
   "pygments_lexer": "ipython3",
   "version": "3.9.6"
  },
  "orig_nbformat": 4,
  "vscode": {
   "interpreter": {
    "hash": "83fab7fbb3a8fe7b5910804f702478ef63e2cc6a08d85072a5d68865ed0fd8c7"
   }
  }
 },
 "nbformat": 4,
 "nbformat_minor": 2
}
