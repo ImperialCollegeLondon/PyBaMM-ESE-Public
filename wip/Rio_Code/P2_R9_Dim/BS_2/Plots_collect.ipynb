{
 "cells": [
  {
   "cell_type": "code",
   "execution_count": 3,
   "metadata": {},
   "outputs": [],
   "source": [
    "import shutil,os\n",
    "def Copy_png(Root_Path,rows_per_file,Scan_end_end,purpose_i):\n",
    "    Path_purpose = os.path.join(Root_Path, purpose_i)\n",
    "    source_folders = []\n",
    "    for i_bundle in range(int(Scan_end_end/rows_per_file)):\n",
    "        Scan_start = (i_bundle)*rows_per_file+1;    \n",
    "        Scan_end   = min(Scan_start + rows_per_file-1, Scan_end_end)    \n",
    "        purpose = f\"{purpose_i}_Case_{Scan_start}_{Scan_end}\"\n",
    "        source_folders.append(purpose)\n",
    "        #print(purpose)\n",
    "\n",
    "    # Create the Plot_Collect folder if it doesn't exist\n",
    "    plot_collect_directory = os.path.join(Path_purpose, \"Post_Processing\")\n",
    "    os.makedirs(plot_collect_directory, exist_ok=True)\n",
    "\n",
    "    # Move the .png files to the Plot_Collect folder\n",
    "    for folder in source_folders:\n",
    "        plots_directory = os.path.join(Path_purpose, folder,\"Plots\" )\n",
    "        if os.path.exists(plots_directory):\n",
    "            for filename in os.listdir(plots_directory):\n",
    "                if filename.startswith(\"0_\") and filename.endswith(\"Summary.png\"):\n",
    "                    source_file = os.path.join(plots_directory, filename)\n",
    "                    destination_file = os.path.join(plot_collect_directory, filename)\n",
    "                    shutil.copy(source_file, destination_file)\n",
    "    return source_folders,plots_directory\n",
    "\n",
    "BasicPath = os.path.expanduser(\"~/EnvPBGEM_NC/SimSave/P2_R9_Dim/Run_On_NewBranch_NC/\") \n",
    "source_folders,plots_directory=Copy_png(BasicPath,1,12,\"Full_Exp1235_NC\")"
   ]
  },
  {
   "cell_type": "code",
   "execution_count": 4,
   "metadata": {},
   "outputs": [],
   "source": [
    "source_folders,plots_directory=Copy_png(BasicPath,1,12,\"SEI_Dry_Exp1235_NC\")\n",
    "source_folders,plots_directory=Copy_png(BasicPath,1,12,\"SEI_Exp1235_NC\")"
   ]
  },
  {
   "cell_type": "code",
   "execution_count": null,
   "metadata": {},
   "outputs": [],
   "source": []
  }
 ],
 "metadata": {
  "kernelspec": {
   "display_name": "EnvPBGEM_NC",
   "language": "python",
   "name": "python3"
  },
  "language_info": {
   "codemirror_mode": {
    "name": "ipython",
    "version": 3
   },
   "file_extension": ".py",
   "mimetype": "text/x-python",
   "name": "python",
   "nbconvert_exporter": "python",
   "pygments_lexer": "ipython3",
   "version": "3.10.12"
  }
 },
 "nbformat": 4,
 "nbformat_minor": 2
}
