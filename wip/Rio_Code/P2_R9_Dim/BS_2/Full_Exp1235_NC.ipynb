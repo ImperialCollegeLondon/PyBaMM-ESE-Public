{
 "cells": [
  {
   "cell_type": "code",
   "execution_count": 9,
   "metadata": {},
   "outputs": [],
   "source": [
    "\"\"\" \n",
    "This script is the baseline for main file to run functions from\n",
    "GEM-2_Ruihe \n",
    "\"\"\"\n",
    "# Load modules\n",
    "import pybamm as pb;import pandas as pd;import numpy as np;\n",
    "import os, json,openpyxl,traceback,multiprocessing,scipy.optimize,sys\n",
    "import matplotlib.pyplot as plt;\n",
    "import pickle,imageio,timeit,random,time, signal\n",
    "from scipy.io import savemat,loadmat;\n",
    "from pybamm import constants,exp;import matplotlib as mpl"
   ]
  },
  {
   "cell_type": "code",
   "execution_count": 10,
   "metadata": {},
   "outputs": [
    {
     "name": "stdout",
     "output_type": "stream",
     "text": [
      "Total scan case is 1\n"
     ]
    }
   ],
   "source": [
    "########################     Global settings!!!\n",
    "rows_per_file = 1;  Scan_end_end = 12  \n",
    "purpose_i = \"Full_Exp1235_NC\" \n",
    "\n",
    "\n",
    "# define options:\n",
    "On_HPC =  False;        Runshort=\"GEM-2\"; Add_Rest = False\n",
    "Plot_Exp=True;          Timeout=True;     Return_Sol=True;   \n",
    "Check_Small_Time=True;  R_from_GITT = True\n",
    "fs = 13; dpi = 100; Re_No =0\n",
    "Options = [ \n",
    "    On_HPC,Runshort,Add_Rest,\n",
    "    Plot_Exp,Timeout,Return_Sol,\n",
    "    Check_Small_Time,R_from_GITT,\n",
    "    dpi,fs]\n",
    "Timelimit = int(3600*48) # give 48 hours!\n",
    "\n",
    "\n",
    "if On_HPC:\n",
    "    i_bundle = int(os.environ[\"PBS_ARRAY_INDEX\"])\n",
    "else:\n",
    "    i_bundle = 7; \n",
    "Scan_start = (i_bundle-1)*rows_per_file+1;    \n",
    "Scan_end   = min(Scan_start + rows_per_file-1, Scan_end_end)    \n",
    "purpose = f\"{purpose_i}_Case_{Scan_start}_{Scan_end}\"\n",
    "Target  = f'/{purpose}/'\n",
    "# interpetation: Simnon suggested, with cracking activation, heat transfer\n",
    "para_csv = f\"Bundle_{i_bundle}.csv\"  # name of the random file to get parameters\n",
    "\n",
    "# Path setting:\n",
    "if On_HPC:                          # Run on HPC\n",
    "    Path_csv = f\"InputData/{purpose_i}/\" \n",
    "    Path_Input = \"InputData/\" \n",
    "    BasicPath=os.getcwd() \n",
    "    Para_file = Path_csv +  para_csv\n",
    "else:\n",
    "    # Add path to system to ensure Fun_P2 can be used\n",
    "    import sys  \n",
    "    str_path_0 = os.path.abspath(os.path.join(pb.__path__[0],'..'))\n",
    "    str_path_1 = os.path.abspath(\n",
    "        os.path.join(str_path_0,\"wip/Rio_Code/Fun_P2\"))\n",
    "    sys.path.append(str_path_1) \n",
    "    Path_Input = os.path.expanduser(\n",
    "        \"~/EnvPBGEM_NC/SimSave/InputData/\") # for Linux\n",
    "    BasicPath =  os.path.expanduser(\n",
    "        \"~/EnvPBGEM_NC/SimSave/P2_R9_Dim\")\n",
    "    Para_file = Path_Input+f'{purpose_i}/'+para_csv\n",
    "# import all functions \n",
    "from Fun_NC import * \n",
    "\n",
    "\n",
    "# Load input file\n",
    "Para_dict_list = load_combinations_from_csv(Para_file)\n",
    "pool_no = len(Para_dict_list) # do parallel computing if needed\n",
    "\n"
   ]
  },
  {
   "cell_type": "code",
   "execution_count": 11,
   "metadata": {},
   "outputs": [
    {
     "name": "stdout",
     "output_type": "stream",
     "text": [
      "Start Now! Scan 7 Re 0\n",
      "Finish reading Experiment!\n",
      "Aging T is 10degC\n",
      "Has Overwritten Initial outer SEI thickness [m] to be 9.23e-09 and Negative electrode porosity to be 0.235 to account for initial capacity loss of 0.135 Ah\n",
      "Scan 7 Re 0: DryOut = On\n",
      "Initial electrolyte amount is  5.236163896909271 mL\n",
      "Scan 7 Re 0: Spent 7.487 s on Initialization\n"
     ]
    },
    {
     "name": "stderr",
     "output_type": "stream",
     "text": [
      "At t = 313.978 and h = 2.54039e-11, the corrector convergence failed repeatedly or with |h| = hmin.\n",
      "At t = 304.917 and h = 2.66135e-12, the corrector convergence failed repeatedly or with |h| = hmin.\n",
      "At t = 226.239 and h = 3.16328e-11, the corrector convergence failed repeatedly or with |h| = hmin.\n",
      "At t = 226.239 and h = 2.90312e-11, the corrector convergence failed repeatedly or with |h| = hmin.\n",
      "At t = 76.2384 and h = 8.07009e-12, the corrector convergence failed repeatedly or with |h| = hmin.\n",
      "At t = 76.2384 and h = 2.17795e-11, the corrector convergence failed repeatedly or with |h| = hmin.\n",
      "At t = 76.2384 and h = 8.23371e-12, the corrector convergence failed repeatedly or with |h| = hmin.\n"
     ]
    },
    {
     "name": "stdout",
     "output_type": "stream",
     "text": [
      "\n",
      "Succeed to run break in for the 0th time with capacity increase of 0Ah and perturbation of 0.00e+00Ah\n",
      "\n",
      "Scan 7 Re 0: Finish break-in cycle within 13 minutes, 43 seconds\n",
      "Scan 7 Re 0: Finish post-process for break-in cycle within 48.146 s\n",
      "Electrolyte is being squeezed out, check plated lithium (active and dead)\n",
      "Succeed to run the ageing set for 514 cycles the 1th time\n",
      "Scan 7 Re 0: Finish for No.0 ageing cycles within 1 hour, 17 minutes, 31 seconds\n",
      "Scan 7 Re 0: Finish post-process for No.514 ageing cycles within 275.191 ms\n"
     ]
    },
    {
     "name": "stderr",
     "output_type": "stream",
     "text": [
      "At t = 191.522 and h = 3.61825e-11, the corrector convergence failed repeatedly or with |h| = hmin.\n",
      "At t = 191.521 and h = 1.30111e-14, the corrector convergence failed repeatedly or with |h| = hmin.\n",
      "At t = 182.575 and h = 9.1453e-12, the corrector convergence failed repeatedly or with |h| = hmin.\n",
      "At t = 182.575 and h = 1.96338e-11, the corrector convergence failed repeatedly or with |h| = hmin.\n",
      "At t = 136.756 and h = 1.21662e-14, the corrector convergence failed repeatedly or with |h| = hmin.\n",
      "At t = 136.761 and h = 2.37287e-11, the corrector convergence failed repeatedly or with |h| = hmin.\n",
      "At t = 136.761 and h = 2.05396e-11, the corrector convergence failed repeatedly or with |h| = hmin.\n"
     ]
    },
    {
     "name": "stdout",
     "output_type": "stream",
     "text": [
      "Succeed to run RPT for the 1th time\n",
      "Scan 7 Re 0: Finish for No.514 RPT cycles within 13 minutes, 29 seconds\n",
      "Scan 7 Re 0: Finish post-process for No.514 RPT cycles within 13.229 s\n",
      "Succeed to run the ageing set for 514 cycles the 1th time\n",
      "Scan 7 Re 0: Finish for No.514 ageing cycles within 1 hour, 19 minutes, 44 seconds\n",
      "Scan 7 Re 0: Finish post-process for No.1028 ageing cycles within 106.269 ms\n"
     ]
    },
    {
     "name": "stderr",
     "output_type": "stream",
     "text": [
      "At t = 270.653 and h = 8.44344e-14, the corrector convergence failed repeatedly or with |h| = hmin.\n",
      "At t = 270.655 and h = 2.86947e-11, the corrector convergence failed repeatedly or with |h| = hmin.\n",
      "At t = 120.655 and h = 1.05326e-11, the corrector convergence failed repeatedly or with |h| = hmin.\n",
      "At t = 120.655 and h = 3.13042e-11, the corrector convergence failed repeatedly or with |h| = hmin.\n",
      "At t = 120.655 and h = 1.78396e-11, the corrector convergence failed repeatedly or with |h| = hmin.\n",
      "At t = 123.911 and h = 1.42804e-11, the corrector convergence failed repeatedly or with |h| = hmin.\n",
      "At t = 123.911 and h = 1.84888e-11, the corrector convergence failed repeatedly or with |h| = hmin.\n",
      "At t = 123.911 and h = 1.61783e-11, the corrector convergence failed repeatedly or with |h| = hmin.\n"
     ]
    },
    {
     "name": "stdout",
     "output_type": "stream",
     "text": [
      "Succeed to run RPT for the 1th time\n",
      "Scan 7 Re 0: Finish for No.1028 RPT cycles within 13 minutes, 25 seconds\n",
      "Scan 7 Re 0: Finish post-process for No.1028 RPT cycles within 11.742 s\n",
      "Succeed to run the ageing set for 514 cycles the 1th time\n",
      "Scan 7 Re 0: Finish for No.1028 ageing cycles within 1 hour, 21 minutes, 41 seconds\n",
      "Scan 7 Re 0: Finish post-process for No.1542 ageing cycles within 100.403 ms\n"
     ]
    },
    {
     "name": "stderr",
     "output_type": "stream",
     "text": [
      "At t = 516.902 and h = 1.93521e-11, the corrector convergence failed repeatedly or with |h| = hmin.\n",
      "At t = 508.206 and h = 2.89572e-11, the corrector convergence failed repeatedly or with |h| = hmin.\n",
      "At t = 186.618 and h = 2.33547e-11, the corrector convergence failed repeatedly or with |h| = hmin.\n",
      "At t = 186.618 and h = 1.07403e-11, the corrector convergence failed repeatedly or with |h| = hmin.\n",
      "At t = 107.904 and h = 1.78611e-11, the corrector convergence failed repeatedly or with |h| = hmin.\n",
      "At t = 107.904 and h = 7.28755e-12, the corrector convergence failed repeatedly or with |h| = hmin.\n",
      "At t = 107.901 and h = 1.31375e-14, the corrector convergence failed repeatedly or with |h| = hmin.\n"
     ]
    },
    {
     "name": "stdout",
     "output_type": "stream",
     "text": [
      "Succeed to run RPT for the 1th time\n",
      "Scan 7 Re 0: Finish for No.1542 RPT cycles within 13 minutes, 6 seconds\n",
      "Scan 7 Re 0: Finish post-process for No.1542 RPT cycles within 12.883 s\n",
      "Succeed to run the ageing set for 514 cycles the 1th time\n",
      "Scan 7 Re 0: Finish for No.1542 ageing cycles within 1 hour, 28 minutes, 40 seconds\n",
      "Scan 7 Re 0: Finish post-process for No.2056 ageing cycles within 99.320 ms\n"
     ]
    },
    {
     "name": "stderr",
     "output_type": "stream",
     "text": [
      "At t = 422.709 and h = 4.60151e-14, the corrector convergence failed repeatedly or with |h| = hmin.\n",
      "At t = 182.714 and h = 1.59557e-11, the corrector convergence failed repeatedly or with |h| = hmin.\n",
      "At t = 414.155 and h = 2.89061e-11, the corrector convergence failed repeatedly or with |h| = hmin.\n",
      "At t = 174.155 and h = 2.81462e-11, the corrector convergence failed repeatedly or with |h| = hmin.\n",
      "At t = 127.475 and h = 1.97705e-11, the corrector convergence failed repeatedly or with |h| = hmin.\n",
      "At t = 127.475 and h = 2.02017e-11, the corrector convergence failed repeatedly or with |h| = hmin.\n",
      "At t = 127.473 and h = 4.62454e-15, the corrector convergence failed repeatedly or with |h| = hmin.\n",
      "At t = 88.2256 and h = 8.03362e-12, the corrector convergence failed repeatedly or with |h| = hmin.\n",
      "At t = 88.2254 and h = 9.7948e-12, the corrector convergence failed repeatedly or with |h| = hmin.\n",
      "At t = 88.2253 and h = 1.73312e-11, the corrector convergence failed repeatedly or with |h| = hmin.\n"
     ]
    },
    {
     "name": "stdout",
     "output_type": "stream",
     "text": [
      "Succeed to run RPT for the 1th time\n",
      "Scan 7 Re 0: Finish for No.2056 RPT cycles within 13 minutes, 27 seconds\n",
      "Scan 7 Re 0: Finish post-process for No.2056 RPT cycles within 12.559 s\n",
      "Succeed to run the ageing set for 514 cycles the 1th time\n",
      "Scan 7 Re 0: Finish for No.2056 ageing cycles within 1 hour, 30 minutes, 49 seconds\n",
      "Scan 7 Re 0: Finish post-process for No.2570 ageing cycles within 125.226 ms\n"
     ]
    },
    {
     "name": "stderr",
     "output_type": "stream",
     "text": [
      "At t = 334.789 and h = 1.58155e-11, the corrector convergence failed repeatedly or with |h| = hmin.\n",
      "At t = 94.7877 and h = 4.37735e-11, the corrector convergence failed repeatedly or with |h| = hmin.\n",
      "At t = 94.7881 and h = 2.14656e-11, the corrector convergence failed repeatedly or with |h| = hmin.\n",
      "At t = 326.358 and h = 2.76539e-11, the corrector convergence failed repeatedly or with |h| = hmin.\n",
      "At t = 86.3578 and h = 3.67504e-11, the corrector convergence failed repeatedly or with |h| = hmin.\n",
      "At t = 86.3577 and h = 2.64421e-11, the corrector convergence failed repeatedly or with |h| = hmin.\n",
      "At t = 273.44 and h = 2.5757e-11, the corrector convergence failed repeatedly or with |h| = hmin.\n",
      "At t = 273.44 and h = 1.21763e-11, the corrector convergence failed repeatedly or with |h| = hmin.\n",
      "At t = 123.44 and h = 1.43656e-11, the corrector convergence failed repeatedly or with |h| = hmin.\n",
      "At t = 123.44 and h = 6.07627e-12, the corrector convergence failed repeatedly or with |h| = hmin.\n",
      "At t = 123.439 and h = 4.61823e-12, the corrector convergence failed repeatedly or with |h| = hmin.\n",
      "At t = 120.705 and h = 2.04688e-11, the corrector convergence failed repeatedly or with |h| = hmin.\n",
      "At t = 120.705 and h = 1.85646e-11, the corrector convergence failed repeatedly or with |h| = hmin.\n",
      "At t = 120.701 and h = 1.29255e-14, the corrector convergence failed repeatedly or with |h| = hmin.\n",
      "At t = 84.9136 and h = 8.90657e-12, the corrector convergence failed repeatedly or with |h| = hmin.\n",
      "At t = 84.9135 and h = 1.88778e-11, the corrector convergence failed repeatedly or with |h| = hmin.\n",
      "At t = 84.9134 and h = 2.17218e-11, the corrector convergence failed repeatedly or with |h| = hmin.\n"
     ]
    },
    {
     "name": "stdout",
     "output_type": "stream",
     "text": [
      "Succeed to run RPT for the 1th time\n",
      "Scan 7 Re 0: Finish for No.2570 RPT cycles within 13 minutes, 59 seconds\n",
      "Scan 7 Re 0: Finish post-process for No.2570 RPT cycles within 12.945 s\n",
      "Succeed to run the ageing set for 514 cycles the 1th time\n",
      "Scan 7 Re 0: Finish for No.2570 ageing cycles within 1 hour, 32 minutes, 58 seconds\n",
      "Scan 7 Re 0: Finish post-process for No.3084 ageing cycles within 102.497 ms\n"
     ]
    },
    {
     "name": "stderr",
     "output_type": "stream",
     "text": [
      "At t = 494.916 and h = 1.98862e-10, the corrector convergence failed repeatedly or with |h| = hmin.\n",
      "At t = 251.992 and h = 8.95096e-12, the corrector convergence failed repeatedly or with |h| = hmin.\n",
      "At t = 243.637 and h = 1.64389e-11, the corrector convergence failed repeatedly or with |h| = hmin.\n",
      "At t = 203.285 and h = 2.28836e-11, the corrector convergence failed repeatedly or with |h| = hmin.\n",
      "At t = 203.284 and h = 1.10798e-14, the corrector convergence failed repeatedly or with |h| = hmin.\n",
      "At t = 109.183 and h = 2.00911e-11, the corrector convergence failed repeatedly or with |h| = hmin.\n",
      "At t = 109.183 and h = 8.5706e-12, the corrector convergence failed repeatedly or with |h| = hmin.\n",
      "At t = 109.183 and h = 2.13868e-11, the corrector convergence failed repeatedly or with |h| = hmin.\n",
      "At t = 79.4003 and h = 2.20971e-11, the corrector convergence failed repeatedly or with |h| = hmin.\n",
      "At t = 79.3996 and h = 4.46708e-14, the corrector convergence failed repeatedly or with |h| = hmin.\n",
      "At t = 79.4005 and h = 1.67035e-11, the corrector convergence failed repeatedly or with |h| = hmin.\n"
     ]
    },
    {
     "name": "stdout",
     "output_type": "stream",
     "text": [
      "Succeed to run RPT for the 1th time\n",
      "Scan 7 Re 0: Finish for No.3084 RPT cycles within 13 minutes, 54 seconds\n",
      "Scan 7 Re 0: Finish post-process for No.3084 RPT cycles within 12.648 s\n",
      "Succeed to run the ageing set for 514 cycles the 1th time\n",
      "Scan 7 Re 0: Finish for No.3084 ageing cycles within 1 hour, 32 minutes, 39 seconds\n",
      "Scan 7 Re 0: Finish post-process for No.3598 ageing cycles within 182.207 ms\n"
     ]
    },
    {
     "name": "stderr",
     "output_type": "stream",
     "text": [
      "At t = 173.509 and h = 1.84072e-11, the corrector convergence failed repeatedly or with |h| = hmin.\n",
      "At t = 173.509 and h = 4.92384e-12, the corrector convergence failed repeatedly or with |h| = hmin.\n",
      "At t = 165.2 and h = 1.80007e-11, the corrector convergence failed repeatedly or with |h| = hmin.\n",
      "At t = 165.198 and h = 1.469e-14, the corrector convergence failed repeatedly or with |h| = hmin.\n",
      "At t = 145.553 and h = 5.92111e-12, the corrector convergence failed repeatedly or with |h| = hmin.\n",
      "At t = 145.553 and h = 8.57717e-12, the corrector convergence failed repeatedly or with |h| = hmin.\n",
      "At t = 145.553 and h = 2.08009e-11, the corrector convergence failed repeatedly or with |h| = hmin.\n",
      "At t = 70.552 and h = 1.51601e-11, the corrector convergence failed repeatedly or with |h| = hmin.\n",
      "At t = 70.552 and h = 1.64529e-11, the corrector convergence failed repeatedly or with |h| = hmin.\n",
      "At t = 70.5517 and h = 2.55164e-11, the corrector convergence failed repeatedly or with |h| = hmin.\n",
      "At t = 70.5518 and h = 2.2476e-11, the corrector convergence failed repeatedly or with |h| = hmin.\n",
      "At t = 93.2043 and h = 2.27938e-14, the corrector convergence failed repeatedly or with |h| = hmin.\n",
      "At t = 93.205 and h = 2.42082e-11, the corrector convergence failed repeatedly or with |h| = hmin.\n",
      "At t = 93.2054 and h = 5.59251e-12, the corrector convergence failed repeatedly or with |h| = hmin.\n",
      "At t = 71.249 and h = 1.56669e-11, the corrector convergence failed repeatedly or with |h| = hmin.\n",
      "At t = 71.2489 and h = 1.76392e-11, the corrector convergence failed repeatedly or with |h| = hmin.\n",
      "At t = 71.2488 and h = 5.28425e-12, the corrector convergence failed repeatedly or with |h| = hmin.\n",
      "At t = 71.248 and h = 5.58313e-15, the corrector convergence failed repeatedly or with |h| = hmin.\n"
     ]
    },
    {
     "name": "stdout",
     "output_type": "stream",
     "text": [
      "Succeed to run RPT for the 1th time\n",
      "Scan 7 Re 0: Finish for No.3598 RPT cycles within 14 minutes, 54 seconds\n",
      "Scan 7 Re 0: Finish post-process for No.3598 RPT cycles within 12.633 s\n",
      "Succeed to run the ageing set for 514 cycles the 1th time\n",
      "Scan 7 Re 0: Finish for No.3598 ageing cycles within 1 hour, 34 minutes, 47 seconds\n",
      "Scan 7 Re 0: Finish post-process for No.4112 ageing cycles within 98.906 ms\n"
     ]
    },
    {
     "name": "stderr",
     "output_type": "stream",
     "text": [
      "At t = 98.7124 and h = 7.40816e-16, the corrector convergence failed repeatedly or with |h| = hmin.\n",
      "At t = 98.7143 and h = 1.86189e-11, the corrector convergence failed repeatedly or with |h| = hmin.\n",
      "At t = 98.7124 and h = 6.61245e-16, the corrector convergence failed repeatedly or with |h| = hmin.\n",
      "At t = 73.7373 and h = 1.61218e-09, the corrector convergence failed repeatedly or with |h| = hmin.\n",
      "At t = 73.8196 and h = 1.61434e-09, the corrector convergence failed repeatedly or with |h| = hmin.\n",
      "At t = 90.4642 and h = 2.77756e-11, the corrector convergence failed repeatedly or with |h| = hmin.\n",
      "At t = 121.256 and h = 8.69994e-15, the corrector convergence failed repeatedly or with |h| = hmin.\n",
      "At t = 121.258 and h = 1.49224e-11, the corrector convergence failed repeatedly or with |h| = hmin.\n",
      "At t = 121.258 and h = 1.7801e-11, the corrector convergence failed repeatedly or with |h| = hmin.\n",
      "At t = 83.7482 and h = 5.60573e-12, the corrector convergence failed repeatedly or with |h| = hmin.\n",
      "At t = 83.748 and h = 1.25738e-11, the corrector convergence failed repeatedly or with |h| = hmin.\n",
      "At t = 83.7474 and h = 6.13743e-15, the corrector convergence failed repeatedly or with |h| = hmin.\n",
      "At t = 65.8766 and h = 2.1261e-14, the corrector convergence failed repeatedly or with |h| = hmin.\n",
      "At t = 65.8789 and h = 2.15613e-11, the corrector convergence failed repeatedly or with |h| = hmin.\n",
      "At t = 65.8763 and h = 2.03553e-15, the corrector convergence failed repeatedly or with |h| = hmin.\n",
      "At t = 65.8785 and h = 1.10952e-11, the corrector convergence failed repeatedly or with |h| = hmin.\n"
     ]
    },
    {
     "name": "stdout",
     "output_type": "stream",
     "text": [
      "Succeed to run RPT for the 1th time\n",
      "Scan 7 Re 0: Finish for No.4112 RPT cycles within 13 minutes, 31 seconds\n",
      "Scan 7 Re 0: Finish post-process for No.4112 RPT cycles within 12.315 s\n",
      "Succeed to run the ageing set for 514 cycles the 1th time\n",
      "Scan 7 Re 0: Finish for No.4112 ageing cycles within 1 hour, 34 minutes, 42 seconds\n",
      "Scan 7 Re 0: Finish post-process for No.4626 ageing cycles within 118.790 ms\n"
     ]
    },
    {
     "name": "stderr",
     "output_type": "stream",
     "text": [
      "At t = 428.982 and h = 1.42979e-10, the corrector convergence failed repeatedly or with |h| = hmin.\n",
      "At t = 255.106 and h = 1.61649e-11, the corrector convergence failed repeatedly or with |h| = hmin.\n",
      "At t = 255.105 and h = 2.3037e-15, the corrector convergence failed repeatedly or with |h| = hmin.\n",
      "At t = 105.106 and h = 2.13737e-11, the corrector convergence failed repeatedly or with |h| = hmin.\n",
      "At t = 105.106 and h = 1.98932e-11, the corrector convergence failed repeatedly or with |h| = hmin.\n",
      "At t = 105.106 and h = 8.57913e-12, the corrector convergence failed repeatedly or with |h| = hmin.\n",
      "At t = 114.914 and h = 2.46772e-11, the corrector convergence failed repeatedly or with |h| = hmin.\n",
      "At t = 114.915 and h = 1.4279e-12, the corrector convergence failed repeatedly or with |h| = hmin.\n",
      "At t = 114.915 and h = 1.7521e-11, the corrector convergence failed repeatedly or with |h| = hmin.\n",
      "At t = 80.7026 and h = 1.82105e-11, the corrector convergence failed repeatedly or with |h| = hmin.\n",
      "At t = 80.7027 and h = 1.60026e-11, the corrector convergence failed repeatedly or with |h| = hmin.\n",
      "At t = 80.7018 and h = 4.88473e-15, the corrector convergence failed repeatedly or with |h| = hmin.\n",
      "At t = 63.9047 and h = 1.22545e-11, the corrector convergence failed repeatedly or with |h| = hmin.\n",
      "At t = 63.9047 and h = 4.75142e-12, the corrector convergence failed repeatedly or with |h| = hmin.\n",
      "At t = 63.9046 and h = 2.66014e-11, the corrector convergence failed repeatedly or with |h| = hmin.\n",
      "At t = 63.9046 and h = 1.061e-11, the corrector convergence failed repeatedly or with |h| = hmin.\n"
     ]
    },
    {
     "name": "stdout",
     "output_type": "stream",
     "text": [
      "Succeed to run RPT for the 1th time\n",
      "Scan 7 Re 0: Finish for No.4626 RPT cycles within 14 minutes, 31 seconds\n",
      "Scan 7 Re 0: Finish post-process for No.4626 RPT cycles within 12.745 s\n",
      "Succeed to run the ageing set for 514 cycles the 1th time\n",
      "Scan 7 Re 0: Finish for No.4626 ageing cycles within 1 hour, 32 minutes, 1 second\n",
      "Scan 7 Re 0: Finish post-process for No.5140 ageing cycles within 115.735 ms\n"
     ]
    },
    {
     "name": "stderr",
     "output_type": "stream",
     "text": [
      "At t = 498.356 and h = 3.78313e-12, the corrector convergence failed repeatedly or with |h| = hmin.\n",
      "At t = 490.301 and h = 6.41249e-12, the corrector convergence failed repeatedly or with |h| = hmin.\n",
      "At t = 197.503 and h = 1.48495e-11, the corrector convergence failed repeatedly or with |h| = hmin.\n",
      "At t = 197.5 and h = 1.72051e-14, the corrector convergence failed repeatedly or with |h| = hmin.\n",
      "At t = 105.134 and h = 1.35495e-11, the corrector convergence failed repeatedly or with |h| = hmin.\n",
      "At t = 105.134 and h = 9.78596e-12, the corrector convergence failed repeatedly or with |h| = hmin.\n",
      "At t = 105.133 and h = 1.7994e-11, the corrector convergence failed repeatedly or with |h| = hmin.\n",
      "At t = 76.0294 and h = 1.54805e-15, the corrector convergence failed repeatedly or with |h| = hmin.\n",
      "At t = 76.0306 and h = 6.53004e-12, the corrector convergence failed repeatedly or with |h| = hmin.\n",
      "At t = 76.03 and h = 5.16427e-14, the corrector convergence failed repeatedly or with |h| = hmin.\n",
      "At t = 60.9815 and h = 1.78258e-11, the corrector convergence failed repeatedly or with |h| = hmin.\n",
      "At t = 60.9814 and h = 1.10123e-11, the corrector convergence failed repeatedly or with |h| = hmin.\n",
      "At t = 60.9813 and h = 1.38431e-11, the corrector convergence failed repeatedly or with |h| = hmin.\n",
      "At t = 60.981 and h = 1.93886e-11, the corrector convergence failed repeatedly or with |h| = hmin.\n"
     ]
    },
    {
     "name": "stdout",
     "output_type": "stream",
     "text": [
      "Succeed to run RPT for the 1th time\n",
      "Scan 7 Re 0: Finish for No.5140 RPT cycles within 13 minutes, 56 seconds\n",
      "Scan 7 Re 0: Finish post-process for No.5140 RPT cycles within 11.538 s\n",
      "Succeed to run the ageing set for 514 cycles the 1th time\n",
      "Scan 7 Re 0: Finish for No.5140 ageing cycles within 1 hour, 28 minutes, 35 seconds\n",
      "Scan 7 Re 0: Finish post-process for No.5654 ageing cycles within 106.737 ms\n"
     ]
    },
    {
     "name": "stderr",
     "output_type": "stream",
     "text": [
      "At t = 432.105 and h = 1.79856e-14, the corrector convergence failed repeatedly or with |h| = hmin.\n",
      "At t = 192.11 and h = 1.37953e-11, the corrector convergence failed repeatedly or with |h| = hmin.\n",
      "At t = 72.1099 and h = 7.45303e-13, the corrector convergence failed repeatedly or with |h| = hmin.\n",
      "At t = 424.158 and h = 3.03275e-11, the corrector convergence failed repeatedly or with |h| = hmin.\n",
      "At t = 184.158 and h = 2.73684e-11, the corrector convergence failed repeatedly or with |h| = hmin.\n",
      "At t = 148.425 and h = 1.14855e-14, the corrector convergence failed repeatedly or with |h| = hmin.\n",
      "At t = 148.426 and h = 1.78481e-11, the corrector convergence failed repeatedly or with |h| = hmin.\n",
      "At t = 148.426 and h = 3.56566e-12, the corrector convergence failed repeatedly or with |h| = hmin.\n",
      "At t = 73.4227 and h = 1.64186e-14, the corrector convergence failed repeatedly or with |h| = hmin.\n",
      "At t = 73.4255 and h = 1.63496e-11, the corrector convergence failed repeatedly or with |h| = hmin.\n",
      "At t = 73.4255 and h = 2.35019e-11, the corrector convergence failed repeatedly or with |h| = hmin.\n",
      "At t = 73.4257 and h = 1.21131e-11, the corrector convergence failed repeatedly or with |h| = hmin.\n",
      "At t = 92.0843 and h = 7.36042e-12, the corrector convergence failed repeatedly or with |h| = hmin.\n",
      "At t = 92.0832 and h = 7.05284e-15, the corrector convergence failed repeatedly or with |h| = hmin.\n",
      "At t = 92.0837 and h = 8.54626e-12, the corrector convergence failed repeatedly or with |h| = hmin.\n",
      "At t = 69.4413 and h = 1.2085e-11, the corrector convergence failed repeatedly or with |h| = hmin.\n",
      "At t = 69.4412 and h = 7.34249e-12, the corrector convergence failed repeatedly or with |h| = hmin.\n",
      "At t = 69.4413 and h = 1.40049e-11, the corrector convergence failed repeatedly or with |h| = hmin.\n",
      "At t = 69.4385 and h = 2.0659e-14, the corrector convergence failed repeatedly or with |h| = hmin.\n",
      "At t = 56.8339 and h = 1.74725e-11, the corrector convergence failed repeatedly or with |h| = hmin.\n",
      "At t = 56.8331 and h = 9.83872e-12, the corrector convergence failed repeatedly or with |h| = hmin.\n",
      "At t = 56.8339 and h = 6.89214e-12, the corrector convergence failed repeatedly or with |h| = hmin.\n",
      "At t = 56.833 and h = 1.30977e-14, the corrector convergence failed repeatedly or with |h| = hmin.\n"
     ]
    },
    {
     "name": "stdout",
     "output_type": "stream",
     "text": [
      "Succeed to run RPT for the 1th time\n",
      "Scan 7 Re 0: Finish for No.5654 RPT cycles within 13 minutes, 21 seconds\n",
      "Scan 7 Re 0: Finish post-process for No.5654 RPT cycles within 12.756 s\n",
      "Succeed to run the ageing set for 514 cycles the 1th time\n",
      "Scan 7 Re 0: Finish for No.5654 ageing cycles within 1 hour, 42 minutes, 31 seconds\n",
      "Scan 7 Re 0: Finish post-process for No.6168 ageing cycles within 133.507 ms\n"
     ]
    },
    {
     "name": "stderr",
     "output_type": "stream",
     "text": [
      "At t = 494.776 and h = 1.93356e-10, the corrector convergence failed repeatedly or with |h| = hmin.\n",
      "At t = 368.123 and h = 2.78807e-12, the corrector convergence failed repeatedly or with |h| = hmin.\n",
      "At t = 128.123 and h = 1.6542e-11, the corrector convergence failed repeatedly or with |h| = hmin.\n",
      "At t = 360.273 and h = 2.69006e-11, the corrector convergence failed repeatedly or with |h| = hmin.\n",
      "At t = 120.274 and h = 2.53313e-11, the corrector convergence failed repeatedly or with |h| = hmin.\n",
      "At t = 118.152 and h = 1.77866e-11, the corrector convergence failed repeatedly or with |h| = hmin.\n",
      "At t = 118.151 and h = 2.50146e-11, the corrector convergence failed repeatedly or with |h| = hmin.\n",
      "At t = 118.151 and h = 6.13443e-12, the corrector convergence failed repeatedly or with |h| = hmin.\n",
      "At t = 80.9013 and h = 2.15609e-11, the corrector convergence failed repeatedly or with |h| = hmin.\n",
      "At t = 80.9012 and h = 1.9087e-11, the corrector convergence failed repeatedly or with |h| = hmin.\n",
      "At t = 80.9014 and h = 9.43286e-12, the corrector convergence failed repeatedly or with |h| = hmin.\n",
      "At t = 63.2717 and h = 1.51516e-11, the corrector convergence failed repeatedly or with |h| = hmin.\n",
      "At t = 63.2717 and h = 1.42831e-11, the corrector convergence failed repeatedly or with |h| = hmin.\n",
      "At t = 63.2717 and h = 1.29736e-11, the corrector convergence failed repeatedly or with |h| = hmin.\n",
      "At t = 63.2718 and h = 5.46641e-12, the corrector convergence failed repeatedly or with |h| = hmin.\n",
      "At t = 52.7908 and h = 2.32851e-11, the corrector convergence failed repeatedly or with |h| = hmin.\n",
      "At t = 52.7897 and h = 8.7429e-15, the corrector convergence failed repeatedly or with |h| = hmin.\n",
      "At t = 52.7902 and h = 9.05617e-15, the corrector convergence failed repeatedly or with |h| = hmin.\n",
      "At t = 52.7908 and h = 2.07737e-11, the corrector convergence failed repeatedly or with |h| = hmin.\n"
     ]
    },
    {
     "name": "stdout",
     "output_type": "stream",
     "text": [
      "Succeed to run RPT for the 1th time\n",
      "Scan 7 Re 0: Finish for No.6168 RPT cycles within 16 minutes, 32 seconds\n",
      "Scan 7 Re 0: Finish post-process for No.6168 RPT cycles within 15.247 s\n",
      "Scan 7 Re 0: Getting extra variables within 158.300 us\n",
      "Scan 7 Re 0: Finish all plots within 7.836 s\n",
      "Scan 7 Re 0: Successfully save mat file!\n",
      "Scan 7 Re 0: Try saving within 45.445 s\n",
      "Succeed doing something in 21 hours, 2 minutes, 50 seconds\n",
      "This is the end of No. 7 scan, Re 0\n"
     ]
    }
   ],
   "source": [
    "midc_merge_all = [];  Sol_RPT_all = [];  Sol_AGE_all = []\n",
    "Path_List = [BasicPath, Path_Input,Target,purpose] \n",
    "# Run the model\n",
    "if Re_No == 0:\n",
    "    midc_merge,Sol_RPT,Sol_AGE,DeBug_Lists = Run_P2_Excel (\n",
    "        Para_dict_list[0], Path_List, \n",
    "        Re_No, Timelimit, Options) \n",
    "elif Re_No > 0:\n",
    "    pass\n"
   ]
  }
 ],
 "metadata": {
  "kernelspec": {
   "display_name": "EnvPBGEM_NC",
   "language": "python",
   "name": "python3"
  },
  "language_info": {
   "codemirror_mode": {
    "name": "ipython",
    "version": 3
   },
   "file_extension": ".py",
   "mimetype": "text/x-python",
   "name": "python",
   "nbconvert_exporter": "python",
   "pygments_lexer": "ipython3",
   "version": "3.10.12"
  }
 },
 "nbformat": 4,
 "nbformat_minor": 2
}
