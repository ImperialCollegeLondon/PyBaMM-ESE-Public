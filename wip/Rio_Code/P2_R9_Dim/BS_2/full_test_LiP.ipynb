{
 "cells": [
  {
   "cell_type": "markdown",
   "metadata": {},
   "source": [
    "### use Full_Exp23_Paper_2_mesh to run a simple test to see T effect on lithium plating"
   ]
  },
  {
   "cell_type": "code",
   "execution_count": 3,
   "metadata": {},
   "outputs": [],
   "source": [
    "import pybamm as pb;import pandas as pd;import numpy as np;\n",
    "import os, json,openpyxl,traceback,multiprocessing,scipy.optimize\n",
    "import matplotlib.pyplot as plt;\n",
    "import imageio,timeit,random,time, signal\n",
    "from scipy.io import savemat,loadmat;\n",
    "from pybamm import constants,exp;import matplotlib as mpl; \n",
    "fs=17; font = {'family' : 'DejaVu Sans','size'   : fs}\n",
    "mpl.rc('font', **font)\n",
    "\n",
    "\n"
   ]
  },
  {
   "cell_type": "code",
   "execution_count": 5,
   "metadata": {},
   "outputs": [],
   "source": [
    "\n",
    "import sys  \n",
    "str_path_0 = os.path.abspath(os.path.join(pb.__path__[0],'..'))\n",
    "str_path_1 = os.path.abspath(\n",
    "    os.path.join(str_path_0,\"wip/Rio_Code/Fun_P2\"))\n",
    "sys.path.append(str_path_1) \n"
   ]
  },
  {
   "cell_type": "code",
   "execution_count": 6,
   "metadata": {},
   "outputs": [
    {
     "name": "stdout",
     "output_type": "stream",
     "text": [
      "Total scan case is 3\n",
      "Total scan case is 3\n",
      "Total scan case is 3\n"
     ]
    }
   ],
   "source": [
    "########################     Global settings!!!\n",
    "rows_per_file = 3;  Scan_end_end = 24;\n",
    "purpose_i = \"Full_Exp23_Paper_2_mesh\"\n",
    "\n",
    "On_HPC = False \n",
    "Runshort  =   False                    # a long run or a quick test\n",
    "\n",
    "# import all functions \n",
    "from Fun_P2 import * \n",
    "\n",
    "if On_HPC:\n",
    "    i_bundle = int(os.environ[\"PBS_ARRAY_INDEX\"])\n",
    "else:\n",
    "    i_bundle = 4; # manually specify\n",
    "\n",
    "def Get_Para_dict_list_i(i_bundle,index):\n",
    "    Scan_start = (i_bundle-1)*rows_per_file+1;    \n",
    "    Scan_end   = min(Scan_start + rows_per_file-1, Scan_end_end)    \n",
    "    purpose = f\"{purpose_i}_Case_{Scan_start}_{Scan_end}\"\n",
    "    # interpetation: Simnon suggested, with cracking activation, heat transfer\n",
    "    para_csv = f\"Bundle_{i_bundle}.csv\"  # name of the random file to get parameters\n",
    "\n",
    "    if On_HPC:                          # Run on HPC\n",
    "        Path_csv = f\"InputData/{purpose_i}/\" \n",
    "        Path_NiallDMA = \"InputData/\" \n",
    "        BasicPath=os.getcwd() \n",
    "        Para_file = Path_csv +  para_csv\n",
    "    else:\n",
    "        import sys  \n",
    "        str_path_0 = os.path.abspath(os.path.join(pb.__path__[0],'..'))\n",
    "        str_path_1 = os.path.abspath(\n",
    "            os.path.join(str_path_0,\"wip/Rio_Code/Fun_P2\"))\n",
    "        sys.path.append(str_path_1) \n",
    "        Path_NiallDMA = os.path.expanduser(\n",
    "            \"~/EnvPBGEM_Linux/SimSave/InputData/\") # for Linux\n",
    "        BasicPath =  os.path.expanduser(\n",
    "            \"~/EnvPBGEM_Linux/SimSave/P2_R9_Dim\")\n",
    "        Para_file = BasicPath+f'/Get_Random_sets/{purpose_i}/'+para_csv\n",
    "        \n",
    "    if not os.path.exists(BasicPath +\"/\"+ purpose):\n",
    "        os.mkdir(BasicPath +\"/\"+ purpose);\n",
    "\n",
    "\n",
    "    # Load the random file\n",
    "    parameter_names, combinations = load_combinations_from_csv(Para_file)\n",
    "\n",
    "\n",
    "    pool_no = len(combinations)\n",
    "    Indexs  = np.arange(Scan_start-1,Scan_end)\n",
    "    index_list = Indexs+1\n",
    "    \"\"\" para_dict_Same = {\n",
    "    \"Total ageing cycles\":int(tot_cyc), # \n",
    "    \"Ageing cycles between RPT\":int(cyc_age), # \n",
    "    \"Update cycles for ageing\": int(cyc_age),\n",
    "    } \"\"\"\n",
    "    # Get all para\n",
    "    Para_dict_list = []\n",
    "    # get all dictionaries\n",
    "    for combination in combinations:\n",
    "        input_dict = {}\n",
    "        for parameter_name,para_value in zip(parameter_names,combination ):\n",
    "            input_dict[parameter_name] = para_value\n",
    "        Para_dict_list.append(input_dict)\n",
    "    print(f\"Total scan case is {len(Para_dict_list)}\")\n",
    "    return Para_dict_list[index],purpose,pool_no,index_list,BasicPath,Path_NiallDMA\n",
    "\n",
    "Para_dict_list_i10,purpose,pool_no,index_list,BasicPath,Path_NiallDMA  = Get_Para_dict_list_i(1,2)\n",
    "Para_dict_list_i25,purpose,pool_no,index_list,BasicPath,Path_NiallDMA  = Get_Para_dict_list_i(3,1)\n",
    "Para_dict_list_i40,purpose,pool_no,index_list,BasicPath,Path_NiallDMA  = Get_Para_dict_list_i(4,2)"
   ]
  },
  {
   "cell_type": "code",
   "execution_count": 7,
   "metadata": {},
   "outputs": [
    {
     "name": "stdout",
     "output_type": "stream",
     "text": [
      "10.0\n",
      "[5,5,5,100,50]\n",
      "25.0\n",
      "[10,10,10,100,50]\n",
      "40.0\n",
      "[10,10,10,100,50]\n"
     ]
    }
   ],
   "source": [
    "Para_dict_list_3Ts = [\n",
    "    Para_dict_list_i10,Para_dict_list_i25,\n",
    "    Para_dict_list_i40]\n",
    "for i in range(3):\n",
    "    print(Para_dict_list_3Ts[i]['Ageing temperature'])\n",
    "    print(Para_dict_list_3Ts[i]['Mesh list'])\n"
   ]
  },
  {
   "cell_type": "code",
   "execution_count": 8,
   "metadata": {},
   "outputs": [],
   "source": [
    "# define global index and dict for all experiment data - prepare for read!\n",
    "Exp_Path = [\n",
    "    \"Expt 1 - Si-based Degradation/\",\n",
    "    \"Expt 2,2 - C-based Degradation 2/\",\n",
    "    \"Expt 3 - Cathode Degradation and Li-Plating/\",\n",
    "    \"Expt 4 - Drive Cycle Aging (Control)/\",\n",
    "    \"Expt 5 - Standard Cycle Aging (Control)/\",]\n",
    "Exp_head = [\n",
    "    \"Expt 1\",\n",
    "    \"Expt 2,2\",\n",
    "    \"Expt 3\",\n",
    "    \"Expt 4\",\n",
    "    \"Expt 5\",]\n",
    "Exp_1_Cell = [\"A\",\"B\",\"J\",\"D\",\"E\",\"F\",\"K\",\"L\",\"M\"];\n",
    "Exp_1_Temp = {\n",
    "    \"A\":\"10\",\"B\":\"10\",\"J\":\"10\",\n",
    "    \"D\":\"25\",\"E\":\"25\",\"F\":\"25\",\n",
    "    \"K\":\"40\",\"L\":\"40\",\"M\":\"40\",}\n",
    "Temp_Cell_Exp_1 = {\n",
    "    \"10\":[\"A\",\"B\",\"J\"],\n",
    "    \"25\":[\"D\",\"E\",\"F\"],\n",
    "    \"40\":[\"K\",\"L\",\"M\"],}\n",
    "Exp_2_Cell = [\"A\",\"B\",\"C\",\"D\",\"E\",\"F\"];\n",
    "Exp_2_Temp = {\n",
    "    \"A\":\"10\",\"B\":\"10\",\n",
    "    \"C\":\"25\",\"D\":\"25\",\n",
    "    \"E\":\"40\",\"F\":\"40\",}\n",
    "Temp_Cell_Exp_2 = {\n",
    "    \"10\":[\"A\",\"B\"],\n",
    "    \"25\":[\"C\",\"D\"],\n",
    "    \"40\":[\"E\",\"F\"],}\n",
    "Exp_3_Cell = [\"A\",\"B\",\"C\",\"D\",\"E\",\"F\",\"G\",\"H\",\"I\"];\n",
    "Exp_3_Temp = {\n",
    "    \"A\":\"10\",\"B\":\"10\",\"C\":\"10\",\n",
    "    \"D\":\"25\",\"E\":\"25\",\"F\":\"25\",\n",
    "    \"G\":\"40\",\"H\":\"40\",\"I\":\"40\"}\n",
    "Temp_Cell_Exp_3 = {\n",
    "    \"10\":[\"A\",\"B\",\"C\"],\n",
    "    \"25\":[\"D\",\"E\",\"F\"],\n",
    "    \"40\":[\"G\",\"H\",\"I\"],}\n",
    "Exp_4_Cell = [\"A\",\"B\",\"C\",\"D\",\"E\",\"F\",\"G\",\"H\"];\n",
    "Exp_4_Temp = {\n",
    "    \"A\":\"10\",\"B\":\"10\",\"C\":\"10\",\n",
    "    \"D\":\"25\",\"E\":\"25\",\n",
    "    \"F\":\"40\",\"G\":\"40\",\"H\":\"40\",}\n",
    "Temp_Cell_Exp_4 = {\n",
    "    \"10\":[\"A\",\"B\",\"C\"],\n",
    "    \"25\":[\"D\",\"E\",],\n",
    "    \"40\":[\"F\",\"G\",\"H\"],}\n",
    "Exp_5_Cell = [\"A\",\"B\",\"C\",\"D\",\"E\",\"F\",\"G\",\"H\"];\n",
    "Exp_5_Temp = {\n",
    "    \"A\":\"10\",\"B\":\"10\",\"C\":\"10\",\n",
    "    \"D\":\"25\",\"E\":\"25\",\n",
    "    \"F\":\"40\",\"G\":\"40\",\"H\":\"40\",}\n",
    "Temp_Cell_Exp_5 = {\n",
    "    \"10\":[\"A\",\"B\",\"C\"],\n",
    "    \"25\":[\"D\",\"E\",],\n",
    "    \"40\":[\"F\",\"G\",\"H\"],}\n",
    "Exp_All_Cell  = [Exp_1_Cell,Exp_2_Cell,Exp_3_Cell,Exp_4_Cell,Exp_5_Cell]\n",
    "Exp_Temp_Cell = [Exp_1_Temp,Exp_2_Temp,Exp_3_Temp,Exp_4_Temp,Exp_5_Temp]\n",
    "Temp_Cell_Exp_All = [Temp_Cell_Exp_1,Temp_Cell_Exp_2,Temp_Cell_Exp_3,Temp_Cell_Exp_4,Temp_Cell_Exp_5]\n",
    "Mark_Cell_All = [\n",
    "    {\n",
    "    \"A\":\"o\",\"B\":\">\",\"J\":\"v\",\n",
    "    \"D\":\"o\",\"E\":\">\",\"F\":\"v\",\n",
    "    \"K\":\"o\",\"L\":\">\",\"M\":\"v\",},\n",
    "    {\n",
    "    \"A\":\"10\",\"B\":\"10\",\n",
    "    \"C\":\"25\",\"D\":\"25\",\n",
    "    \"E\":\"40\",\"F\":\"40\",},\n",
    "    {\n",
    "    \"A\":\"o\",\"B\":\">\",\"C\":\"v\",\n",
    "    \"D\":\"o\",\"E\":\">\",\"F\":\"v\",\n",
    "    \"G\":\"o\",\"H\":\">\",\"I\":\"v\",},\n",
    "    {\n",
    "    \"A\":\"o\",\"B\":\">\",\"C\":\"v\",\n",
    "    \"D\":\"o\",\"E\":\">\",\n",
    "    \"F\":\"o\",\"G\":\">\",\"H\":\"v\",},\n",
    "    {\n",
    "    \"A\":\"o\",\"B\":\">\",\"C\":\"v\",\n",
    "    \"D\":\"o\",\"E\":\">\",\n",
    "    \"F\":\"o\",\"G\":\">\",\"H\":\"v\",}]\n",
    "Color_Cell_All = [\n",
    "    {\n",
    "    \"A\":[2/255, 3/255, 226/255,0.7],\"B\":[2/255, 3/255, 226/255,0.7],\"J\":[2/255, 3/255, 226/255,0.7],\n",
    "    \"D\":[0, 0, 0,0.7],\"E\":[0, 0, 0,0.7],\"F\":[0, 0, 0,0.7],\n",
    "    \"K\":[1,0,0,0.4],\"L\":[1,0,0,0.4],\"M\":[1,0,0,0.4],},\n",
    "    {\n",
    "    \"A\":[2/255, 3/255, 226/255,0.7],\"B\":[2/255, 3/255, 226/255,0.7],\n",
    "    \"D\":[0, 0, 0,0.7],\"C\":[0, 0, 0,0.7],\n",
    "    \"E\":[1,0,0,0.4],\"F\":[1,0,0,0.4],},\n",
    "    {\n",
    "    \"A\":[2/255, 3/255, 226/255,0.7],\"B\":[2/255, 3/255, 226/255,0.7],\"C\":[2/255, 3/255, 226/255,0.7],\n",
    "    \"D\":[0, 0, 0,0.7],\"E\":[0, 0, 0,0.7],\"F\":[0, 0, 0,0.7],\n",
    "    \"G\":[1,0,0,0.4],\"H\":[1,0,0,0.4],\"I\":[1,0,0,0.4],},\n",
    "    {\n",
    "    \"A\":[2/255, 3/255, 226/255,0.7],\"B\":[2/255, 3/255, 226/255,0.7],\"C\":[2/255, 3/255, 226/255,0.7],\n",
    "    \"D\":[0, 0, 0,0.7],\"E\":[0, 0, 0,0.7],\n",
    "    \"F\":[1,0,0,0.4],\"G\":[1,0,0,0.4],\"H\":[1,0,0,0.4],},\n",
    "    {\n",
    "    \"A\":[2/255, 3/255, 226/255,0.7],\"B\":[2/255, 3/255, 226/255,0.7],\"C\":[2/255, 3/255, 226/255,0.7],\n",
    "    \"D\":[0, 0, 0,0.7],\"E\":[0, 0, 0,0.7],\n",
    "    \"F\":[1,0,0,0.4],\"G\":[1,0,0,0.4],\"H\":[1,0,0,0.4],}]\n",
    "# Update 23-06-17 \n",
    "#   para=\"Total heat transfer coefficient [W.m-2.K-1]\";\n",
    "#   output=\"Volume-averaged cell temperature [C]\"\n",
    "########################  Output  ########################\n",
    "keys_loc_RPT = [ # MAY WANT TO SELECT AGEING CYCLE later\n",
    "    # Default output:\n",
    "    \"x [m]\",\n",
    "    \"x_n [m]\",\n",
    "    \"x_s [m]\",\n",
    "    \"x_p [m]\",\n",
    "    # default: end; \n",
    "    \"CCend Porosity\",\n",
    "    \"CCend Negative electrode interfacial current density [A.m-2]\",\n",
    "    \"CCend Electrolyte potential [V]\",\n",
    "    \"CCend Electrolyte concentration [mol.m-3]\",\n",
    "    \"CCend Negative electrode reaction overpotential [V]\",\n",
    "    \"CCend Negative particle surface concentration [mol.m-3]\",\n",
    "    #\"CCend Negative electrode roughness ratio\",\n",
    "    #\"CCend Total SEI on cracks thickness [m]\",\n",
    "\n",
    "    \"CDend Porosity\",\n",
    "    \"CDend Negative electrode interfacial current density [A.m-2]\",\n",
    "    \"CDend Electrolyte potential [V]\",\n",
    "    \"CDend Electrolyte concentration [mol.m-3]\",\n",
    "    \"CDend Negative electrode reaction overpotential [V]\",\n",
    "    \"CDend Negative particle surface concentration [mol.m-3]\",\n",
    "    #\"CDend Negative electrode roughness ratio\",\n",
    "    #\"CDend Total SEI on cracks thickness [m]\",\n",
    "    #\"REend Total SEI on cracks thickness [m]\",\n",
    "]\n",
    "keys_tim_RPT = [\n",
    "    # default: CD\n",
    "    \"CD Time [h]\",\n",
    "    \"CD Terminal voltage [V]\",\n",
    "    \"CD Anode potential [V]\",    # self defined\n",
    "    \"CD Cathode potential [V]\",  # self defined\n",
    "    \"CC Time [h]\",\n",
    "    \"CC Terminal voltage [V]\",\n",
    "    \"CC Anode potential [V]\",    # self defined\n",
    "    \"CC Cathode potential [V]\",  # self defined\n",
    "]\n",
    "keys_cyc_RPT = [   # default: CDend\n",
    "    \"Discharge capacity [A.h]\",\n",
    "    \"Throughput capacity [A.h]\",\n",
    "    \"CDend Total lithium capacity in particles [A.h]\",\n",
    "    \"CDend Loss of capacity to lithium plating [A.h]\",\n",
    "    \"CDend Loss of capacity to SEI [A.h]\",\n",
    "    \"CDend Loss of capacity to SEI on cracks [A.h]\",\n",
    "    #\"CDend X-averaged total SEI on cracks thickness [m]\",\n",
    "    #\"CDend X-averaged negative electrode roughness ratio\",\n",
    "    \"CDend Local ECM resistance [Ohm]\",\n",
    "    \"CDsta Negative electrode stoichiometry\", \n",
    "    \"CDend Negative electrode stoichiometry\",\n",
    "    \"CDsta Positive electrode stoichiometry\", \n",
    "    \"CDend Positive electrode stoichiometry\",\n",
    "    \"CDend Negative electrode capacity [A.h]\",\n",
    "    \"CDend Positive electrode capacity [A.h]\",\n",
    "]\n",
    "\n",
    "keys_loc_AGE = [ # MAY WANT TO SELECT AGEING CYCLE later\n",
    "    # Default output:\n",
    "    \"x [m]\",\n",
    "    \"x_n [m]\",\n",
    "    \"x_s [m]\",\n",
    "    \"x_p [m]\",\n",
    "    # default: end; \n",
    "    \"CCend Porosity\",\n",
    "    \"CCend Negative electrode interfacial current density [A.m-2]\",\n",
    "    \"CCend Electrolyte potential [V]\",\n",
    "    \"CCend Electrolyte concentration [mol.m-3]\",\n",
    "    \"CCend Negative electrode reaction overpotential [V]\",\n",
    "    \"CCend Negative particle surface concentration [mol.m-3]\",\n",
    "    #\"CCend Negative electrode roughness ratio\",\n",
    "    #\"CCend Total SEI on cracks thickness [m]\",\n",
    "\n",
    "    \"CDend Porosity\",\n",
    "    \"CDend Negative electrode interfacial current density [A.m-2]\",\n",
    "    \"CDend Electrolyte potential [V]\",\n",
    "    \"CDend Electrolyte concentration [mol.m-3]\",\n",
    "    \"CDend Negative electrode reaction overpotential [V]\",\n",
    "    \"CDend Negative particle surface concentration [mol.m-3]\",\n",
    "    #\"CDend Negative electrode roughness ratio\",\n",
    "    #\"CDend Total SEI on cracks thickness [m]\",\n",
    "    \"CDend Electrolyte diffusivity [m2.s-1]\",\n",
    "    \"CDend Electrolyte conductivity [S.m-1]\",\n",
    "]\n",
    "keys_tim_AGE = [\n",
    "    # default: CD\n",
    "    \"CD Time [h]\",\n",
    "    \"CD Terminal voltage [V]\",\n",
    "    \"CD Anode potential [V]\",    # self defined\n",
    "    \"CD Cathode potential [V]\",  # self defined\n",
    "    \n",
    "    \"CC Time [h]\",\n",
    "    \"CC Terminal voltage [V]\",\n",
    "    \"CC Anode potential [V]\",    # self defined\n",
    "    \"CC Cathode potential [V]\",  # self defined\n",
    "]\n",
    "keys_cyc_AGE = [];\n",
    "keys_all_RPT = [keys_loc_RPT,keys_tim_RPT,keys_cyc_RPT];\n",
    "keys_all_AGE = [keys_loc_AGE,keys_tim_AGE,keys_cyc_AGE];\n",
    "keys_all = [keys_all_RPT,keys_all_AGE];\n"
   ]
  },
  {
   "cell_type": "code",
   "execution_count": 9,
   "metadata": {},
   "outputs": [
    {
     "name": "stdout",
     "output_type": "stream",
     "text": [
      "Successfully create a excel file\n"
     ]
    }
   ],
   "source": [
    "# Write para - 1st round:\n",
    "Values_1 = []\n",
    "head_keys = list(Para_dict_list_i10.keys())\n",
    "head_pre = [\n",
    "    \"Scan No\",\"Exp No.\",\"Y or N\",\n",
    "    \"Error Tot%\",\"Error SOH %\",\"Error LLI %\",\n",
    "    \"Error LAM NE %\",\"Error LAM PE %\",\n",
    "    \"Error Res %\",\"Error ageT %\",\"Punish\",\n",
    "    \"Dry out\",]\n",
    "\n",
    "head_pos = [ \n",
    "    \"Total ageing cycles\",\"Ageing cycles between RPT\",\n",
    "    \"Update cycles for ageing\",\n",
    "    \"exp_AGE_text\", \"exp_RPT_text\",\n",
    "   \"Cap Loss\",\"LLI to LiP\",\n",
    "   \"LLI to SEI\",\"LLI to sei-on-cracks\",\n",
    "   \"LAM to Neg\",\"LAM to Pos\",\n",
    "   \"Vol_Elely_Tot Final\", \"Vol_Elely_JR Final\",\"Width Final\",\"Error\"]\n",
    "Values_1 .append([*head_pre,*head_keys,*head_pos])\n",
    "book_name_xlsx = f'Summary_{purpose}.xlsx';\n",
    "sheet_name_xlsx = 'Output'\n",
    "Target  = f'/{purpose}/'\n",
    "write_excel_xlsx(\n",
    "    BasicPath + Target + book_name_xlsx, \n",
    "    sheet_name_xlsx, Values_1)   \n",
    "Exp_pack = [\n",
    "    Exp_All_Cell,Temp_Cell_Exp_All,\n",
    "    Exp_Path,Exp_head,Exp_Temp_Cell,\n",
    "    book_name_xlsx,]  \n",
    "# remaining set-up for experiment and create folders\n",
    "\n",
    "if not os.path.exists(BasicPath +Target+\"Mats\"):\n",
    "    os.mkdir(BasicPath +Target +\"Mats\");\n",
    "if not os.path.exists(BasicPath +Target+\"Plots\"):\n",
    "    os.mkdir(BasicPath +Target+\"Plots\");\n",
    "if not os.path.exists(BasicPath +Target+\"Excel\"):\n",
    "    os.mkdir(BasicPath +Target+\"Excel\");\n",
    "# scan:\n",
    "fs = 13; dpi = 100;\n",
    "midc_merge_all = [];Sol_RPT_all = [];Sol_AGE_all = [];\n",
    "Plot_Exp=True;     Timeout=False;  \n",
    "Return_Sol=True;   Check_Small_Time=True;"
   ]
  },
  {
   "cell_type": "code",
   "execution_count": 10,
   "metadata": {},
   "outputs": [
    {
     "data": {
      "text/plain": [
       "10.0"
      ]
     },
     "execution_count": 10,
     "metadata": {},
     "output_type": "execute_result"
    }
   ],
   "source": [
    "(Para_dict_list_i10['Ageing temperature'])"
   ]
  },
  {
   "cell_type": "code",
   "execution_count": 11,
   "metadata": {},
   "outputs": [
    {
     "name": "stdout",
     "output_type": "stream",
     "text": [
      "Start Now! Scan 3.Start Now! Scan 8.Start Now! Scan 12.\n",
      "\n",
      "\n",
      "Read Exp-2 - Cell A RPT 0Read Exp-2 - Cell A RPT 0Read Exp-2 - Cell A RPT 0\n",
      "\n",
      "\n",
      "Read Exp-2 - Cell A RPT 1Read Exp-2 - Cell A RPT 1\n",
      "\n",
      "Read Exp-2 - Cell A RPT 1\n",
      "Read Exp-2 - Cell A RPT 2\n",
      "Read Exp-2 - Cell A RPT 2Read Exp-2 - Cell A RPT 2\n",
      "\n",
      "Read Exp-2 - Cell A RPT 3\n",
      "Read Exp-2 - Cell A RPT 3Read Exp-2 - Cell A RPT 3\n",
      "\n",
      "Read Exp-2 - Cell A RPT 4Read Exp-2 - Cell A RPT 4\n",
      "\n",
      "Read Exp-2 - Cell A RPT 4\n",
      "Read Exp-2 - Cell A RPT 5\n",
      "Read Exp-2 - Cell A RPT 5\n",
      "Read Exp-2 - Cell A RPT 5\n",
      "Read Exp-2 - Cell A RPT 6Read Exp-2 - Cell A RPT 6\n",
      "\n",
      "Read Exp-2 - Cell A RPT 6\n",
      "Read Exp-2 - Cell A RPT 7\n",
      "Read Exp-2 - Cell A RPT 7Read Exp-2 - Cell A RPT 7\n",
      "\n",
      "Read Exp-2 - Cell A RPT 8Read Exp-2 - Cell A RPT 8\n",
      "\n",
      "Read Exp-2 - Cell A RPT 8\n",
      "Read Exp-2 - Cell A RPT 9Read Exp-2 - Cell A RPT 9\n",
      "\n",
      "Read Exp-2 - Cell A RPT 9\n",
      "Read Exp-2 - Cell A RPT 10Read Exp-2 - Cell A RPT 10\n",
      "\n",
      "Read Exp-2 - Cell A RPT 10\n"
     ]
    },
    {
     "name": "stdout",
     "output_type": "stream",
     "text": [
      "Read Exp-2 - Cell A RPT 11\n",
      "Read Exp-2 - Cell A RPT 11Read Exp-2 - Cell A RPT 11\n",
      "\n",
      "Read Exp-2 - Cell A RPT 12Read Exp-2 - Cell A RPT 12\n",
      "Exp-2 - Cell A doesn't have RPT 13\n",
      "\n",
      "Read Exp-2 - Cell A RPT 12Exp-2 - Cell A doesn't have RPT 14Exp-2 - Cell A doesn't have RPT 13\n",
      "\n",
      "\n",
      "Exp-2 - Cell A doesn't have RPT 13Exp-2 - Cell A doesn't have RPT 14Exp-2 - Cell A doesn't have RPT 15\n",
      "\n",
      "Exp-2 - Cell A doesn't have RPT 14\n",
      "Exp-2 - Cell A doesn't have RPT 15\n",
      "Exp-2 - Cell A doesn't have RPT 15\n",
      "\n",
      "Read Exp-2 - Cell B RPT 0\n",
      "Read Exp-2 - Cell B RPT 0\n",
      "Read Exp-2 - Cell B RPT 0\n",
      "Read Exp-2 - Cell B RPT 1Read Exp-2 - Cell B RPT 1\n",
      "\n",
      "Read Exp-2 - Cell B RPT 1\n",
      "Read Exp-2 - Cell B RPT 2\n",
      "Read Exp-2 - Cell B RPT 2\n",
      "Read Exp-2 - Cell B RPT 2\n",
      "Read Exp-2 - Cell B RPT 3\n",
      "Read Exp-2 - Cell B RPT 3\n",
      "Read Exp-2 - Cell B RPT 3\n",
      "Read Exp-2 - Cell B RPT 4\n",
      "Read Exp-2 - Cell B RPT 4Read Exp-2 - Cell B RPT 4\n",
      "\n",
      "Read Exp-2 - Cell B RPT 5\n",
      "Read Exp-2 - Cell B RPT 5Read Exp-2 - Cell B RPT 5\n",
      "\n",
      "Read Exp-2 - Cell B RPT 6Read Exp-2 - Cell B RPT 6\n",
      "\n",
      "Read Exp-2 - Cell B RPT 6\n",
      "Read Exp-2 - Cell B RPT 7Read Exp-2 - Cell B RPT 7Read Exp-2 - Cell B RPT 7\n",
      "\n",
      "\n",
      "Read Exp-2 - Cell B RPT 8\n",
      "Read Exp-2 - Cell B RPT 8\n",
      "Read Exp-2 - Cell B RPT 8\n",
      "Read Exp-2 - Cell B RPT 9Read Exp-2 - Cell B RPT 9\n",
      "\n",
      "Read Exp-2 - Cell B RPT 9\n",
      "Read Exp-2 - Cell B RPT 10\n",
      "Read Exp-2 - Cell B RPT 10Read Exp-2 - Cell B RPT 10\n",
      "\n",
      "Read Exp-2 - Cell B RPT 11Read Exp-2 - Cell B RPT 11\n",
      "Read Exp-2 - Cell B RPT 11\n",
      "\n",
      "Read Exp-2 - Cell B RPT 12Read Exp-2 - Cell B RPT 12\n",
      "\n",
      "Exp-2 - Cell B doesn't have RPT 13\n",
      "Exp-2 - Cell B doesn't have RPT 13Read Exp-2 - Cell B RPT 12Exp-2 - Cell B doesn't have RPT 14\n",
      "\n",
      "\n",
      "Exp-2 - Cell B doesn't have RPT 13Exp-2 - Cell B doesn't have RPT 15Exp-2 - Cell B doesn't have RPT 14\n",
      "\n",
      "\n",
      "Exp-2 - Cell B doesn't have RPT 14Exp-2 - Cell B doesn't have RPT 15\n",
      "\n",
      "Exp-2 - Cell B doesn't have RPT 15\n",
      "Read Exp-2 - Cell C RPT 0Read Exp-2 - Cell C RPT 0Read Exp-2 - Cell C RPT 0\n",
      "\n",
      "\n",
      "Read Exp-2 - Cell C RPT 1Read Exp-2 - Cell C RPT 1\n",
      "\n",
      "Read Exp-2 - Cell C RPT 1\n",
      "Read Exp-2 - Cell C RPT 2\n",
      "Read Exp-2 - Cell C RPT 2Read Exp-2 - Cell C RPT 2\n",
      "\n",
      "Read Exp-2 - Cell C RPT 3Read Exp-2 - Cell C RPT 3Read Exp-2 - Cell C RPT 3\n",
      "\n",
      "\n",
      "Read Exp-2 - Cell C RPT 4\n",
      "Read Exp-2 - Cell C RPT 4Read Exp-2 - Cell C RPT 4\n",
      "\n",
      "Read Exp-2 - Cell C RPT 5\n",
      "Read Exp-2 - Cell C RPT 5Read Exp-2 - Cell C RPT 5\n",
      "\n",
      "Read Exp-2 - Cell C RPT 6\n",
      "Read Exp-2 - Cell C RPT 6\n",
      "Read Exp-2 - Cell C RPT 6\n",
      "Read Exp-2 - Cell C RPT 7\n",
      "Read Exp-2 - Cell C RPT 7Read Exp-2 - Cell C RPT 7\n",
      "\n",
      "Read Exp-2 - Cell C RPT 8\n",
      "Read Exp-2 - Cell C RPT 8\n",
      "Read Exp-2 - Cell C RPT 8\n",
      "Read Exp-2 - Cell C RPT 9\n",
      "Read Exp-2 - Cell C RPT 9Read Exp-2 - Cell C RPT 9\n",
      "\n",
      "Read Exp-2 - Cell C RPT 10\n",
      "Read Exp-2 - Cell C RPT 10\n",
      "Read Exp-2 - Cell C RPT 10\n",
      "Read Exp-2 - Cell C RPT 11Read Exp-2 - Cell C RPT 11Read Exp-2 - Cell C RPT 11\n",
      "\n",
      "\n",
      "Read Exp-2 - Cell C RPT 12Read Exp-2 - Cell C RPT 12\n",
      "\n",
      "Exp-2 - Cell C doesn't have RPT 13\n",
      "Exp-2 - Cell C doesn't have RPT 13Read Exp-2 - Cell C RPT 12\n",
      "\n",
      "Exp-2 - Cell C doesn't have RPT 14Exp-2 - Cell C doesn't have RPT 13\n",
      "Exp-2 - Cell C doesn't have RPT 14\n",
      "\n",
      "Exp-2 - Cell C doesn't have RPT 15Exp-2 - Cell C doesn't have RPT 14\n",
      "\n",
      "Exp-2 - Cell C doesn't have RPT 15Exp-2 - Cell C doesn't have RPT 15\n",
      "\n",
      "Read Exp-2 - Cell D RPT 0\n",
      "Read Exp-2 - Cell D RPT 0Read Exp-2 - Cell D RPT 0\n",
      "\n",
      "Read Exp-2 - Cell D RPT 1\n",
      "Read Exp-2 - Cell D RPT 1\n",
      "Read Exp-2 - Cell D RPT 1\n",
      "Read Exp-2 - Cell D RPT 2\n",
      "Read Exp-2 - Cell D RPT 2\n",
      "Read Exp-2 - Cell D RPT 2\n",
      "Read Exp-2 - Cell D RPT 3\n",
      "Read Exp-2 - Cell D RPT 3\n",
      "Read Exp-2 - Cell D RPT 3\n",
      "Read Exp-2 - Cell D RPT 4Read Exp-2 - Cell D RPT 4\n",
      "\n",
      "Read Exp-2 - Cell D RPT 4\n",
      "Read Exp-2 - Cell D RPT 5\n",
      "Read Exp-2 - Cell D RPT 5\n",
      "Read Exp-2 - Cell D RPT 5\n",
      "Read Exp-2 - Cell D RPT 6\n",
      "Read Exp-2 - Cell D RPT 6\n",
      "Read Exp-2 - Cell D RPT 6\n",
      "Read Exp-2 - Cell D RPT 7\n",
      "Read Exp-2 - Cell D RPT 7Read Exp-2 - Cell D RPT 7\n",
      "\n",
      "Read Exp-2 - Cell D RPT 8Read Exp-2 - Cell D RPT 8Read Exp-2 - Cell D RPT 8\n",
      "\n",
      "\n",
      "Read Exp-2 - Cell D RPT 9\n",
      "Read Exp-2 - Cell D RPT 9Read Exp-2 - Cell D RPT 9\n",
      "\n",
      "Read Exp-2 - Cell D RPT 10\n",
      "Read Exp-2 - Cell D RPT 10\n",
      "Read Exp-2 - Cell D RPT 10\n",
      "Read Exp-2 - Cell D RPT 11Read Exp-2 - Cell D RPT 11\n",
      "\n",
      "Read Exp-2 - Cell D RPT 11\n",
      "Read Exp-2 - Cell D RPT 12Read Exp-2 - Cell D RPT 12\n",
      "Read Exp-2 - Cell D RPT 12\n",
      "\n",
      "Exp-2 - Cell D doesn't have RPT 13Exp-2 - Cell D doesn't have RPT 13\n",
      "Exp-2 - Cell D doesn't have RPT 13\n",
      "Exp-2 - Cell D doesn't have RPT 14Exp-2 - Cell D doesn't have RPT 14\n",
      "\n",
      "\n",
      "Exp-2 - Cell D doesn't have RPT 15Exp-2 - Cell D doesn't have RPT 15Exp-2 - Cell D doesn't have RPT 14\n",
      "\n",
      "\n",
      "Exp-2 - Cell D doesn't have RPT 15\n",
      "Read Exp-2 - Cell E RPT 0Read Exp-2 - Cell E RPT 0\n",
      "\n",
      "Read Exp-2 - Cell E RPT 0\n",
      "Read Exp-2 - Cell E RPT 1\n",
      "Read Exp-2 - Cell E RPT 1Read Exp-2 - Cell E RPT 1\n",
      "\n",
      "Read Exp-2 - Cell E RPT 2\n",
      "Read Exp-2 - Cell E RPT 2\n",
      "Read Exp-2 - Cell E RPT 2\n",
      "Read Exp-2 - Cell E RPT 3\n",
      "Read Exp-2 - Cell E RPT 3\n",
      "Read Exp-2 - Cell E RPT 3\n",
      "Read Exp-2 - Cell E RPT 4\n",
      "Read Exp-2 - Cell E RPT 4Read Exp-2 - Cell E RPT 4\n",
      "\n",
      "Read Exp-2 - Cell E RPT 5Read Exp-2 - Cell E RPT 5Read Exp-2 - Cell E RPT 5\n",
      "\n",
      "\n",
      "Read Exp-2 - Cell E RPT 6\n",
      "Read Exp-2 - Cell E RPT 6\n",
      "Read Exp-2 - Cell E RPT 6\n",
      "Read Exp-2 - Cell E RPT 7\n",
      "Read Exp-2 - Cell E RPT 7\n",
      "Read Exp-2 - Cell E RPT 7\n",
      "Read Exp-2 - Cell E RPT 8\n",
      "Read Exp-2 - Cell E RPT 8\n",
      "Read Exp-2 - Cell E RPT 8\n",
      "Read Exp-2 - Cell E RPT 9\n",
      "Read Exp-2 - Cell E RPT 9\n",
      "Read Exp-2 - Cell E RPT 9\n",
      "Read Exp-2 - Cell E RPT 10Read Exp-2 - Cell E RPT 10\n",
      "\n",
      "Read Exp-2 - Cell E RPT 10\n",
      "Read Exp-2 - Cell E RPT 11Read Exp-2 - Cell E RPT 11\n",
      "\n",
      "Read Exp-2 - Cell E RPT 11\n",
      "Read Exp-2 - Cell E RPT 12\n",
      "Read Exp-2 - Cell E RPT 12Exp-2 - Cell E doesn't have RPT 13\n",
      "Exp-2 - Cell E doesn't have RPT 13\n",
      "\n",
      "Exp-2 - Cell E doesn't have RPT 14Exp-2 - Cell E doesn't have RPT 14\n",
      "\n",
      "Read Exp-2 - Cell E RPT 12Exp-2 - Cell E doesn't have RPT 15Exp-2 - Cell E doesn't have RPT 15\n",
      "\n",
      "\n",
      "Exp-2 - Cell E doesn't have RPT 13\n",
      "Exp-2 - Cell E doesn't have RPT 14\n",
      "Exp-2 - Cell E doesn't have RPT 15\n",
      "Read Exp-2 - Cell F RPT 0Read Exp-2 - Cell F RPT 0\n",
      "\n",
      "Read Exp-2 - Cell F RPT 0\n",
      "Read Exp-2 - Cell F RPT 1\n",
      "Read Exp-2 - Cell F RPT 1\n",
      "Read Exp-2 - Cell F RPT 1\n",
      "Read Exp-2 - Cell F RPT 2\n",
      "Read Exp-2 - Cell F RPT 2\n",
      "Read Exp-2 - Cell F RPT 2\n",
      "Read Exp-2 - Cell F RPT 3Read Exp-2 - Cell F RPT 3Read Exp-2 - Cell F RPT 3\n",
      "\n",
      "\n",
      "Read Exp-2 - Cell F RPT 4\n",
      "Read Exp-2 - Cell F RPT 4Read Exp-2 - Cell F RPT 4\n",
      "\n",
      "Read Exp-2 - Cell F RPT 5\n",
      "Read Exp-2 - Cell F RPT 5Read Exp-2 - Cell F RPT 5\n",
      "\n",
      "Read Exp-2 - Cell F RPT 6Read Exp-2 - Cell F RPT 6\n",
      "\n",
      "Read Exp-2 - Cell F RPT 6\n",
      "Read Exp-2 - Cell F RPT 7Read Exp-2 - Cell F RPT 7\n",
      "\n",
      "Read Exp-2 - Cell F RPT 7\n",
      "Read Exp-2 - Cell F RPT 8Read Exp-2 - Cell F RPT 8\n",
      "\n",
      "Read Exp-2 - Cell F RPT 8\n",
      "Read Exp-2 - Cell F RPT 9Read Exp-2 - Cell F RPT 9\n",
      "\n",
      "Read Exp-2 - Cell F RPT 9\n",
      "Read Exp-2 - Cell F RPT 10\n",
      "Read Exp-2 - Cell F RPT 10\n",
      "Read Exp-2 - Cell F RPT 10\n",
      "Read Exp-2 - Cell F RPT 11\n",
      "Read Exp-2 - Cell F RPT 11\n",
      "Read Exp-2 - Cell F RPT 11\n",
      "Read Exp-2 - Cell F RPT 12Read Exp-2 - Cell F RPT 12Read Exp-2 - Cell F RPT 12\n",
      "\n",
      "\n",
      "Exp-2 - Cell F doesn't have RPT 13Exp-2 - Cell F doesn't have RPT 13Exp-2 - Cell F doesn't have RPT 13\n",
      "\n",
      "\n",
      "Exp-2 - Cell F doesn't have RPT 14Exp-2 - Cell F doesn't have RPT 14Exp-2 - Cell F doesn't have RPT 14\n",
      "\n",
      "\n",
      "Exp-2 - Cell F doesn't have RPT 15Exp-2 - Cell F doesn't have RPT 15Exp-2 - Cell F doesn't have RPT 15\n",
      "Finish reading Experiment!\n",
      "\n",
      "Finish reading Experiment!\n",
      "\n",
      "Finish reading Experiment!\n",
      "Scan 3: DryOut = OnScan 12: DryOut = On\n",
      "\n",
      "Scan 8: DryOut = OnInitial electrolyte amount is Initial electrolyte amount is  5.1261558457200005  \n",
      "5.1261558457200005mL\n",
      "Initial electrolyte amount is  mLScan 3: Spent 3.863 s on Initialization \n",
      "\n",
      "Scan 12: Spent 3.867 s on Initialization5.1261558457200005\n",
      " mL\n",
      "Scan 8: Spent 3.872 s on Initialization\n",
      "Scan 3: Finish break-in cycle within 2 minutes, 40 seconds\n",
      "Scan 3: Finish post-process for break-in cycle within 1.762 s\n",
      "Electrolyte is being squeezed out, check plated lithium (active and dead)\n",
      "Scan 12: Finish break-in cycle within 7 minutes, 22 seconds\n",
      "Scan 12: Finish post-process for break-in cycle within 2.628 s\n",
      "Scan 8: Finish break-in cycle within 7 minutes, 25 seconds\n",
      "Electrolyte is being squeezed out, check plated lithium (active and dead)\n",
      "Scan 8: Finish post-process for break-in cycle within 2.828 s\n",
      "Electrolyte is being squeezed out, check plated lithium (active and dead)\n",
      "Scan 3: Finish for No.0 ageing cycles within 41 minutes, 31 seconds\n",
      "Scan 3: Finish post-process for No.516 ageing cycles within 130.705 ms\n"
     ]
    },
    {
     "name": "stderr",
     "output_type": "stream",
     "text": [
      "At t = 338.953 and h = 7.06019e-12, the corrector convergence failed repeatedly or with |h| = hmin.\n"
     ]
    },
    {
     "name": "stdout",
     "output_type": "stream",
     "text": [
      "Scan 3: Finish for No.516 RPT cycles within 2 minutes, 9 seconds\n",
      "Scan 3: Finish post-process for No.516 RPT cycles within 1.121 s\n",
      "Scan 12: Finish for No.0 ageing cycles within 58 minutes, 9 seconds\n",
      "Scan 12: Finish post-process for No.516 ageing cycles within 187.667 ms\n",
      "Scan 12: Finish for No.516 RPT cycles within 6 minutes, 37 seconds\n",
      "Scan 12: Finish post-process for No.516 RPT cycles within 1.940 s\n",
      "Scan 8: Finish for No.0 ageing cycles within 1 hour, 14 minutes, 25 seconds\n",
      "Scan 8: Finish post-process for No.516 ageing cycles within 196.581 ms\n",
      "Scan 8: Finish for No.516 RPT cycles within 6 minutes, 31 seconds\n",
      "Scan 8: Finish post-process for No.516 RPT cycles within 2.033 s\n",
      "Scan 3: Finish for No.516 ageing cycles within 43 minutes, 45 seconds\n",
      "Scan 3: Finish post-process for No.1032 ageing cycles within 85.587 ms\n"
     ]
    },
    {
     "name": "stderr",
     "output_type": "stream",
     "text": [
      "At t = 482.683 and h = 4.41131e-11, the corrector convergence failed repeatedly or with |h| = hmin.\n",
      "At t = 248.02 and h = 8.17571e-12, the corrector convergence failed repeatedly or with |h| = hmin.\n",
      "At t = 248.019 and h = 3.11871e-11, the corrector convergence failed repeatedly or with |h| = hmin.\n",
      "At t = 98.0188 and h = 3.17173e-11, the corrector convergence failed repeatedly or with |h| = hmin.\n"
     ]
    },
    {
     "name": "stdout",
     "output_type": "stream",
     "text": [
      "Scan 3: Finish for No.1032 RPT cycles within 2 minutes, 25 seconds\n",
      "Scan 3: Finish post-process for No.1032 RPT cycles within 1.123 s\n",
      "Scan 12: Finish for No.516 ageing cycles within 1 hour, 1 minute, 43 seconds\n",
      "Scan 12: Finish post-process for No.1032 ageing cycles within 139.983 ms\n",
      "Scan 3: Finish for No.1032 ageing cycles within 43 minutes, 13 seconds\n",
      "Scan 3: Finish post-process for No.1548 ageing cycles within 89.709 ms\n"
     ]
    },
    {
     "name": "stderr",
     "output_type": "stream",
     "text": [
      "At t = 160.562 and h = 2.69971e-14, the corrector convergence failed repeatedly or with |h| = hmin.\n",
      "At t = 160.564 and h = 2.19999e-11, the corrector convergence failed repeatedly or with |h| = hmin.\n",
      "At t = 310.923 and h = 7.33519e-13, the corrector convergence failed repeatedly or with |h| = hmin.\n"
     ]
    },
    {
     "name": "stdout",
     "output_type": "stream",
     "text": [
      "Scan 3: Finish for No.1548 RPT cycles within 2 minutes, 18 seconds\n",
      "Scan 3: Finish post-process for No.1548 RPT cycles within 1.239 s\n",
      "Scan 12: Finish for No.1032 RPT cycles within 6 minutes, 39 seconds\n",
      "Scan 12: Finish post-process for No.1032 RPT cycles within 1.949 s\n",
      "Scan 8: Finish for No.516 ageing cycles within 1 hour, 16 minutes, 38 seconds\n",
      "Scan 8: Finish post-process for No.1032 ageing cycles within 138.458 ms\n"
     ]
    },
    {
     "name": "stderr",
     "output_type": "stream",
     "text": [
      "At t = 311.667 and h = 2.41003e-11, the corrector convergence failed repeatedly or with |h| = hmin.\n"
     ]
    },
    {
     "name": "stdout",
     "output_type": "stream",
     "text": [
      "Scan 8: Finish for No.1032 RPT cycles within 6 minutes, 40 seconds\n",
      "Scan 8: Finish post-process for No.1032 RPT cycles within 1.841 s\n",
      "Scan 3: Finish for No.1548 ageing cycles within 42 minutes, 36 seconds\n",
      "Scan 3: Finish post-process for No.2064 ageing cycles within 82.775 ms\n",
      "Scan 3: Finish for No.2064 RPT cycles within 2 minutes, 12 seconds\n",
      "Scan 3: Finish post-process for No.2064 RPT cycles within 1.284 s\n",
      "Scan 12: Finish for No.1032 ageing cycles within 1 hour, 4 minutes, 8 seconds\n",
      "Scan 12: Finish post-process for No.1548 ageing cycles within 101.513 ms\n"
     ]
    },
    {
     "name": "stderr",
     "output_type": "stream",
     "text": [
      "At t = 527.442 and h = 8.57777e-11, the corrector convergence failed repeatedly or with |h| = hmin.\n",
      "At t = 253.437 and h = 1.49029e-11, the corrector convergence failed repeatedly or with |h| = hmin.\n",
      "At t = 253.436 and h = 9.35785e-12, the corrector convergence failed repeatedly or with |h| = hmin.\n",
      "At t = 103.436 and h = 2.30594e-11, the corrector convergence failed repeatedly or with |h| = hmin.\n"
     ]
    },
    {
     "name": "stdout",
     "output_type": "stream",
     "text": [
      "Scan 12: Finish for No.1548 RPT cycles within 7 minutes, 7 seconds\n",
      "Scan 12: Finish post-process for No.1548 RPT cycles within 1.937 s\n",
      "Scan 3: Finish for No.2064 ageing cycles within 43 minutes, 23 seconds\n",
      "Scan 3: Finish post-process for No.2580 ageing cycles within 104.931 ms\n"
     ]
    },
    {
     "name": "stderr",
     "output_type": "stream",
     "text": [
      "At t = 353.142 and h = 1.67995e-11, the corrector convergence failed repeatedly or with |h| = hmin.\n"
     ]
    },
    {
     "name": "stdout",
     "output_type": "stream",
     "text": [
      "Scan 3: Finish for No.2580 RPT cycles within 2 minutes, 12 seconds\n",
      "Scan 3: Finish post-process for No.2580 RPT cycles within 1.241 s\n",
      "Scan 8: Finish for No.1032 ageing cycles within 1 hour, 17 minutes, 35 seconds\n",
      "Scan 8: Finish post-process for No.1548 ageing cycles within 113.794 ms\n"
     ]
    },
    {
     "name": "stderr",
     "output_type": "stream",
     "text": [
      "At t = 527.748 and h = 8.85875e-11, the corrector convergence failed repeatedly or with |h| = hmin.\n",
      "At t = 254.408 and h = 4.45422e-11, the corrector convergence failed repeatedly or with |h| = hmin.\n",
      "At t = 254.408 and h = 2.11963e-11, the corrector convergence failed repeatedly or with |h| = hmin.\n",
      "At t = 104.408 and h = 8.19148e-12, the corrector convergence failed repeatedly or with |h| = hmin.\n"
     ]
    },
    {
     "name": "stdout",
     "output_type": "stream",
     "text": [
      "Scan 8: Finish for No.1548 RPT cycles within 7 minutes, 2 seconds\n",
      "Scan 8: Finish post-process for No.1548 RPT cycles within 1.799 s\n",
      "Scan 3: Finish for No.2580 ageing cycles within 44 minutes, 3 seconds\n",
      "Scan 3: Finish post-process for No.3096 ageing cycles within 89.240 ms\n"
     ]
    },
    {
     "name": "stderr",
     "output_type": "stream",
     "text": [
      "At t = 273.279 and h = 1.86737e-11, the corrector convergence failed repeatedly or with |h| = hmin.\n",
      "At t = 273.279 and h = 1.58374e-11, the corrector convergence failed repeatedly or with |h| = hmin.\n",
      "At t = 123.279 and h = 1.5264e-11, the corrector convergence failed repeatedly or with |h| = hmin.\n"
     ]
    },
    {
     "name": "stdout",
     "output_type": "stream",
     "text": [
      "Scan 3: Finish for No.3096 RPT cycles within 2 minutes, 21 seconds\n",
      "Scan 3: Finish post-process for No.3096 RPT cycles within 989.113 ms\n",
      "Scan 12: Finish for No.1548 ageing cycles within 1 hour, 4 minutes, 2 seconds\n",
      "Scan 12: Finish post-process for No.2064 ageing cycles within 97.461 ms\n"
     ]
    },
    {
     "name": "stderr",
     "output_type": "stream",
     "text": [
      "At t = 198.683 and h = 3.12638e-11, the corrector convergence failed repeatedly or with |h| = hmin.\n",
      "At t = 198.679 and h = 1.06134e-14, the corrector convergence failed repeatedly or with |h| = hmin.\n"
     ]
    },
    {
     "name": "stdout",
     "output_type": "stream",
     "text": [
      "Scan 12: Finish for No.2064 RPT cycles within 6 minutes, 18 seconds\n",
      "Scan 12: Finish post-process for No.2064 RPT cycles within 1.850 s\n",
      "Scan 3: Finish for No.3096 ageing cycles within 45 minutes, 27 seconds\n",
      "Scan 3: Finish post-process for No.3612 ageing cycles within 93.394 ms\n"
     ]
    },
    {
     "name": "stderr",
     "output_type": "stream",
     "text": [
      "At t = 195.748 and h = 1.95988e-11, the corrector convergence failed repeatedly or with |h| = hmin.\n",
      "At t = 195.748 and h = 3.05613e-11, the corrector convergence failed repeatedly or with |h| = hmin.\n"
     ]
    },
    {
     "name": "stdout",
     "output_type": "stream",
     "text": [
      "Scan 3: Finish for No.3612 RPT cycles within 2 minutes, 14 seconds\n",
      "Scan 3: Finish post-process for No.3612 RPT cycles within 1.118 s\n",
      "Scan 8: Finish for No.1548 ageing cycles within 1 hour, 17 minutes, 1 second\n",
      "Scan 8: Finish post-process for No.2064 ageing cycles within 107.910 ms\n"
     ]
    },
    {
     "name": "stderr",
     "output_type": "stream",
     "text": [
      "At t = 199.592 and h = 9.3295e-12, the corrector convergence failed repeatedly or with |h| = hmin.\n",
      "At t = 199.59 and h = 3.55702e-14, the corrector convergence failed repeatedly or with |h| = hmin.\n"
     ]
    },
    {
     "name": "stdout",
     "output_type": "stream",
     "text": [
      "Scan 8: Finish for No.2064 RPT cycles within 6 minutes, 18 seconds\n",
      "Scan 8: Finish post-process for No.2064 RPT cycles within 1.888 s\n",
      "Scan 12: Finish for No.2064 ageing cycles within 1 hour, 5 minutes, 4 seconds\n",
      "Scan 12: Finish post-process for No.2580 ageing cycles within 114.866 ms\n"
     ]
    },
    {
     "name": "stderr",
     "output_type": "stream",
     "text": [
      "At t = 524.575 and h = 6.92385e-11, the corrector convergence failed repeatedly or with |h| = hmin.\n",
      "At t = 146.348 and h = 1.32888e-11, the corrector convergence failed repeatedly or with |h| = hmin.\n",
      "At t = 146.348 and h = 1.26911e-11, the corrector convergence failed repeatedly or with |h| = hmin.\n",
      "At t = 146.348 and h = 1.85099e-11, the corrector convergence failed repeatedly or with |h| = hmin.\n"
     ]
    },
    {
     "name": "stdout",
     "output_type": "stream",
     "text": [
      "Scan 12: Finish for No.2580 RPT cycles within 6 minutes, 28 seconds\n",
      "Scan 12: Finish post-process for No.2580 RPT cycles within 1.864 s\n",
      "Scan 3: Finish for No.3612 ageing cycles within 44 minutes, 32 seconds\n",
      "Scan 3: Finish post-process for No.4128 ageing cycles within 81.192 ms\n"
     ]
    },
    {
     "name": "stderr",
     "output_type": "stream",
     "text": [
      "At t = 119.745 and h = 1.71189e-14, the corrector convergence failed repeatedly or with |h| = hmin.\n",
      "At t = 119.747 and h = 9.94806e-12, the corrector convergence failed repeatedly or with |h| = hmin.\n",
      "At t = 119.747 and h = 4.08276e-12, the corrector convergence failed repeatedly or with |h| = hmin.\n"
     ]
    },
    {
     "name": "stdout",
     "output_type": "stream",
     "text": [
      "Scan 3: Finish for No.4128 RPT cycles within 2 minutes, 21 seconds\n",
      "Scan 3: Finish post-process for No.4128 RPT cycles within 1.239 s\n",
      "Scan 3: Finish for No.4128 ageing cycles within 44 minutes, 18 seconds\n",
      "Scan 3: Finish post-process for No.4644 ageing cycles within 100.011 ms\n",
      "Scan 12: Finish for No.2580 ageing cycles within 1 hour, 1 minute, 55 seconds\n",
      "Scan 12: Finish post-process for No.3096 ageing cycles within 141.892 ms\n",
      "Scan 3: Finish for No.4644 RPT cycles within 2 minutes, 8 seconds\n",
      "Scan 3: Finish post-process for No.4644 RPT cycles within 1.217 s\n",
      "Scan 8: Finish for No.2064 ageing cycles within 1 hour, 18 minutes, 41 seconds\n",
      "Scan 8: Finish post-process for No.2580 ageing cycles within 106.846 ms\n"
     ]
    },
    {
     "name": "stderr",
     "output_type": "stream",
     "text": [
      "At t = 96.1715 and h = 2.03822e-11, the corrector convergence failed repeatedly or with |h| = hmin.\n",
      "At t = 96.1713 and h = 1.86573e-11, the corrector convergence failed repeatedly or with |h| = hmin.\n",
      "At t = 96.1714 and h = 1.69424e-11, the corrector convergence failed repeatedly or with |h| = hmin.\n",
      "At t = 521.88 and h = 6.17952e-11, the corrector convergence failed repeatedly or with |h| = hmin.\n"
     ]
    },
    {
     "name": "stdout",
     "output_type": "stream",
     "text": [
      "Scan 12: Finish for No.3096 RPT cycles within 6 minutes, 32 seconds\n",
      "Scan 12: Finish post-process for No.3096 RPT cycles within 1.943 s\n"
     ]
    },
    {
     "name": "stderr",
     "output_type": "stream",
     "text": [
      "At t = 146.976 and h = 1.48142e-11, the corrector convergence failed repeatedly or with |h| = hmin.\n",
      "At t = 146.976 and h = 8.75032e-13, the corrector convergence failed repeatedly or with |h| = hmin.\n",
      "At t = 146.976 and h = 9.44194e-12, the corrector convergence failed repeatedly or with |h| = hmin.\n"
     ]
    },
    {
     "name": "stdout",
     "output_type": "stream",
     "text": [
      "Scan 8: Finish for No.2580 RPT cycles within 6 minutes, 38 seconds\n",
      "Scan 8: Finish post-process for No.2580 RPT cycles within 1.911 s\n",
      "Scan 3: Finish for No.4644 ageing cycles within 43 minutes, 45 seconds\n",
      "Scan 3: Finish post-process for No.5160 ageing cycles within 115.900 ms\n"
     ]
    },
    {
     "name": "stderr",
     "output_type": "stream",
     "text": [
      "At t = 488.658 and h = 6.06867e-11, the corrector convergence failed repeatedly or with |h| = hmin.\n",
      "At t = 331.753 and h = 2.33412e-11, the corrector convergence failed repeatedly or with |h| = hmin.\n"
     ]
    },
    {
     "name": "stdout",
     "output_type": "stream",
     "text": [
      "Scan 3: Finish for No.5160 RPT cycles within 2 minutes, 20 seconds\n",
      "Scan 3: Finish post-process for No.5160 RPT cycles within 1.237 s\n",
      "Scan 12: Finish for No.3096 ageing cycles within 1 hour, 4 minutes, 3 seconds\n",
      "Scan 12: Finish post-process for No.3612 ageing cycles within 113.226 ms\n",
      "Scan 12: Finish for No.3612 RPT cycles within 6 minutes, 13 seconds\n",
      "Scan 12: Finish post-process for No.3612 RPT cycles within 1.860 s\n",
      "Scan 8: Finish for No.2580 ageing cycles within 1 hour, 19 minutes, 54 seconds\n",
      "Scan 8: Finish post-process for No.3096 ageing cycles within 108.047 ms\n",
      "Scan 3: Finish for No.5160 ageing cycles within 44 minutes, 26 seconds\n",
      "Scan 3: Finish post-process for No.5676 ageing cycles within 82.885 ms\n"
     ]
    },
    {
     "name": "stderr",
     "output_type": "stream",
     "text": [
      "At t = 259.82 and h = 1.0469e-14, the corrector convergence failed repeatedly or with |h| = hmin.\n",
      "At t = 259.822 and h = 8.29811e-12, the corrector convergence failed repeatedly or with |h| = hmin.\n",
      "At t = 109.82 and h = 4.92778e-14, the corrector convergence failed repeatedly or with |h| = hmin.\n",
      "At t = 96.3523 and h = 1.59446e-11, the corrector convergence failed repeatedly or with |h| = hmin.\n",
      "At t = 96.3523 and h = 2.73964e-11, the corrector convergence failed repeatedly or with |h| = hmin.\n"
     ]
    },
    {
     "name": "stdout",
     "output_type": "stream",
     "text": [
      "Scan 3: Finish for No.5676 RPT cycles within 2 minutes, 17 seconds\n",
      "Scan 3: Finish post-process for No.5676 RPT cycles within 1.010 s\n"
     ]
    },
    {
     "name": "stderr",
     "output_type": "stream",
     "text": [
      "At t = 96.3523 and h = 1.71219e-11, the corrector convergence failed repeatedly or with |h| = hmin.\n"
     ]
    },
    {
     "name": "stdout",
     "output_type": "stream",
     "text": [
      "Scan 8: Finish for No.3096 RPT cycles within 6 minutes, 32 seconds\n",
      "Scan 8: Finish post-process for No.3096 RPT cycles within 1.932 s\n",
      "Scan 3: Finish for No.5676 ageing cycles within 43 minutes, 18 seconds\n",
      "Scan 3: Finish post-process for No.6192 ageing cycles within 83.852 ms\n"
     ]
    },
    {
     "name": "stderr",
     "output_type": "stream",
     "text": [
      "At t = 189.437 and h = 5.48748e-14, the corrector convergence failed repeatedly or with |h| = hmin.\n",
      "At t = 189.44 and h = 1.45467e-11, the corrector convergence failed repeatedly or with |h| = hmin.\n"
     ]
    },
    {
     "name": "stdout",
     "output_type": "stream",
     "text": [
      "Scan 3: Finish for No.6192 RPT cycles within 2 minutes, 11 seconds\n",
      "Scan 3: Finish post-process for No.6192 RPT cycles within 1.028 s\n",
      "Scan 3: Getting extra variables within 104.500 us\n",
      "Scan 3: Finish all plots within 7.594 s\n",
      "Successfully create a excel file\n",
      "Scan 3: Successfully save json file!\n",
      "Scan 3: Successfully save mat file!\n",
      "Scan 3: Try saving within 34.531 ms\n",
      "Succeed doing something in 9 hours, 14 minutes, 34 seconds\n",
      "This is the end of No. 3  scan\n",
      "Scan 12: Finish for No.3612 ageing cycles within 1 hour, 5 minutes, 6 seconds\n",
      "\n",
      "Scan 12: Finish post-process for No.4128 ageing cycles within 97.658 msScan 12: Finish for No.4128 RPT cycles within 5 minutes, 42 seconds\n",
      "Scan 12: Finish post-process for No.4128 RPT cycles within 1.577 s\n",
      "Scan 8: Finish for No.3096 ageing cycles within 1 hour, 17 minutes, 24 seconds\n",
      "Scan 8: Finish post-process for No.3612 ageing cycles within 110.187 ms\n",
      "Scan 8: Finish for No.3612 RPT cycles within 5 minutes, 40 seconds\n",
      "Scan 8: Finish post-process for No.3612 RPT cycles within 1.641 s\n",
      "Scan 12: Finish for No.4128 ageing cycles within 57 minutes, 42 seconds\n",
      "Scan 12: Finish post-process for No.4644 ageing cycles within 103.809 ms\n"
     ]
    },
    {
     "name": "stderr",
     "output_type": "stream",
     "text": [
      "At t = 316.636 and h = 3.948e-12, the corrector convergence failed repeatedly or with |h| = hmin.\n"
     ]
    },
    {
     "name": "stdout",
     "output_type": "stream",
     "text": [
      "Scan 12: Finish for No.4644 RPT cycles within 5 minutes, 53 seconds\n",
      "Scan 12: Finish post-process for No.4644 RPT cycles within 1.720 s\n",
      "Scan 8: Finish for No.3612 ageing cycles within 1 hour, 14 minutes, 35 seconds\n",
      "Scan 8: Finish post-process for No.4128 ageing cycles within 118.138 ms\n",
      "Scan 8: Finish for No.4128 RPT cycles within 5 minutes, 46 seconds\n",
      "Scan 8: Finish post-process for No.4128 RPT cycles within 1.630 s\n",
      "Scan 12: Finish for No.4644 ageing cycles within 56 minutes, 7 seconds\n",
      "Scan 12: Finish post-process for No.5160 ageing cycles within 94.777 ms\n"
     ]
    },
    {
     "name": "stderr",
     "output_type": "stream",
     "text": [
      "At t = 273.273 and h = 1.87907e-11, the corrector convergence failed repeatedly or with |h| = hmin.\n",
      "At t = 273.273 and h = 1.08275e-12, the corrector convergence failed repeatedly or with |h| = hmin.\n",
      "At t = 123.272 and h = 6.76807e-12, the corrector convergence failed repeatedly or with |h| = hmin.\n"
     ]
    },
    {
     "name": "stdout",
     "output_type": "stream",
     "text": [
      "Scan 12: Finish for No.5160 RPT cycles within 5 minutes, 56 seconds\n",
      "Scan 12: Finish post-process for No.5160 RPT cycles within 1.807 s\n",
      "Scan 12: Finish for No.5160 ageing cycles within 55 minutes, 59 seconds\n",
      "Scan 12: Finish post-process for No.5676 ageing cycles within 113.633 ms\n"
     ]
    },
    {
     "name": "stderr",
     "output_type": "stream",
     "text": [
      "At t = 231.276 and h = 2.03382e-11, the corrector convergence failed repeatedly or with |h| = hmin.\n",
      "At t = 231.276 and h = 3.60527e-11, the corrector convergence failed repeatedly or with |h| = hmin.\n"
     ]
    },
    {
     "name": "stdout",
     "output_type": "stream",
     "text": [
      "Scan 8: Finish for No.4128 ageing cycles within 1 hour, 14 minutes, 39 seconds\n",
      "Scan 8: Finish post-process for No.4644 ageing cycles within 126.392 ms\n",
      "Scan 12: Finish for No.5676 RPT cycles within 5 minutes, 51 seconds\n",
      "Scan 12: Finish post-process for No.5676 RPT cycles within 1.599 s\n"
     ]
    },
    {
     "name": "stderr",
     "output_type": "stream",
     "text": [
      "At t = 314.785 and h = 1.12096e-11, the corrector convergence failed repeatedly or with |h| = hmin.\n"
     ]
    },
    {
     "name": "stdout",
     "output_type": "stream",
     "text": [
      "Scan 8: Finish for No.4644 RPT cycles within 6 minutes, 6 seconds\n",
      "Scan 8: Finish post-process for No.4644 RPT cycles within 1.842 s\n",
      "Scan 12: Finish for No.5676 ageing cycles within 59 minutes, 49 seconds\n",
      "Scan 12: Finish post-process for No.6192 ageing cycles within 102.879 ms\n"
     ]
    },
    {
     "name": "stderr",
     "output_type": "stream",
     "text": [
      "At t = 190.544 and h = 5.8434e-12, the corrector convergence failed repeatedly or with |h| = hmin.\n",
      "At t = 190.545 and h = 1.63554e-11, the corrector convergence failed repeatedly or with |h| = hmin.\n"
     ]
    },
    {
     "name": "stdout",
     "output_type": "stream",
     "text": [
      "Scan 12: Finish for No.6192 RPT cycles within 5 minutes, 45 seconds\n",
      "Scan 12: Finish post-process for No.6192 RPT cycles within 1.756 s\n",
      "Scan 12: Getting extra variables within 193.600 us\n",
      "Scan 12: Finish all plots within 6.727 s\n",
      "Successfully create a excel file\n",
      "Scan 12: Successfully save json file!\n",
      "Scan 12: Successfully save mat file!\n",
      "Scan 12: Try saving within 32.951 ms\n",
      "Succeed doing something in 13 hours, 36 minutes, 47 seconds\n",
      "This is the end of No. 12  scan\n",
      "Scan 8: Finish for No.4644 ageing cycles within 1 hour, 15 minutes, 56 seconds\n",
      "Scan 8: Finish post-process for No.5160 ageing cycles within 185.504 ms\n"
     ]
    },
    {
     "name": "stderr",
     "output_type": "stream",
     "text": [
      "At t = 270.586 and h = 1.83674e-11, the corrector convergence failed repeatedly or with |h| = hmin.\n",
      "At t = 270.587 and h = 9.28855e-12, the corrector convergence failed repeatedly or with |h| = hmin.\n",
      "At t = 120.586 and h = 3.16116e-12, the corrector convergence failed repeatedly or with |h| = hmin.\n"
     ]
    },
    {
     "name": "stdout",
     "output_type": "stream",
     "text": [
      "Scan 8: Finish for No.5160 RPT cycles within 6 minutes, 3 seconds\n",
      "Scan 8: Finish post-process for No.5160 RPT cycles within 1.576 s\n",
      "Scan 8: Finish for No.5160 ageing cycles within 1 hour, 10 minutes, 11 seconds\n",
      "Scan 8: Finish post-process for No.5676 ageing cycles within 96.534 ms\n"
     ]
    },
    {
     "name": "stderr",
     "output_type": "stream",
     "text": [
      "At t = 227.702 and h = 3.05531e-11, the corrector convergence failed repeatedly or with |h| = hmin.\n",
      "At t = 227.702 and h = 1.27677e-11, the corrector convergence failed repeatedly or with |h| = hmin.\n"
     ]
    },
    {
     "name": "stdout",
     "output_type": "stream",
     "text": [
      "Scan 8: Finish for No.5676 RPT cycles within 5 minutes, 14 seconds\n",
      "Scan 8: Finish post-process for No.5676 RPT cycles within 1.587 s\n",
      "Scan 8: Finish for No.5676 ageing cycles within 1 hour, 10 minutes, 38 seconds\n",
      "Scan 8: Finish post-process for No.6192 ageing cycles within 96.103 ms\n"
     ]
    },
    {
     "name": "stderr",
     "output_type": "stream",
     "text": [
      "At t = 510.062 and h = 2.20029e-10, the corrector convergence failed repeatedly or with |h| = hmin.\n",
      "At t = 186.037 and h = 2.5707e-11, the corrector convergence failed repeatedly or with |h| = hmin.\n",
      "At t = 186.034 and h = 1.87115e-14, the corrector convergence failed repeatedly or with |h| = hmin.\n"
     ]
    },
    {
     "name": "stdout",
     "output_type": "stream",
     "text": [
      "Scan 8: Finish for No.6192 RPT cycles within 5 minutes, 11 seconds\n",
      "Scan 8: Finish post-process for No.6192 RPT cycles within 1.526 s\n",
      "Scan 8: Getting extra variables within 199.700 us\n",
      "Scan 8: Finish all plots within 6.368 s\n",
      "Successfully create a excel file\n",
      "Scan 8: Successfully save json file!\n",
      "Scan 8: Successfully save mat file!\n",
      "Scan 8: Try saving within 38.263 ms\n",
      "Succeed doing something in 16 hours, 29 minutes, 21 seconds\n",
      "This is the end of No. 8  scan\n"
     ]
    }
   ],
   "source": [
    "\n",
    "if __name__ == \"__main__\":\n",
    "    pool = multiprocessing.Pool(int(pool_no))\n",
    "    processes = [\n",
    "    pool.apply_async(\n",
    "        Run_P2_Excel, \n",
    "        args=(\n",
    "            Para_dict_i,BasicPath, Path_NiallDMA, \n",
    "            purpose,    Exp_pack, keys_all,dpi,fs,\n",
    "            Runshort,   Plot_Exp,Timeout,Return_Sol,\n",
    "            Check_Small_Time\n",
    "        ) )\n",
    "        for Para_dict_i in Para_dict_list_3Ts]\n",
    "    Result = [p.get() for p in processes]"
   ]
  },
  {
   "cell_type": "code",
   "execution_count": null,
   "metadata": {},
   "outputs": [],
   "source": [
    "midc_merge_all = [];Sol_RPT_all = [];Sol_AGE_all = [];\n",
    "for result in Result:\n",
    "    midc_merge_all.append(result[0])\n",
    "    Sol_RPT_all.append(result[1])\n",
    "    Sol_AGE_all.append(result[2]) "
   ]
  },
  {
   "cell_type": "code",
   "execution_count": null,
   "metadata": {},
   "outputs": [
    {
     "data": {
      "text/plain": [
       "[]"
      ]
     },
     "execution_count": 45,
     "metadata": {},
     "output_type": "execute_result"
    }
   ],
   "source": [
    "Sol_AGE_all[1]"
   ]
  },
  {
   "cell_type": "code",
   "execution_count": null,
   "metadata": {},
   "outputs": [
    {
     "data": {
      "text/plain": [
       "<matplotlib.legend.Legend at 0x7f6b69573d30>"
      ]
     },
     "execution_count": 43,
     "metadata": {},
     "output_type": "execute_result"
    },
    {
     "data": {
      "image/png": "[encoded data removed]",
      "text/plain": [
       "<Figure size 640x480 with 1 Axes>"
      ]
     },
     "metadata": {},
     "output_type": "display_data"
    }
   ],
   "source": [
    "for i,T_deg in enumerate([10,25,40]):\n",
    "    plt.plot(\n",
    "        midc_merge_all[i]['Throughput capacity [kA.h]'], \n",
    "        midc_merge_all[i][\"CDend LLI lithium plating [%]\"],\n",
    "        '--o', label=str(T_deg))\n",
    "plt.legend()"
   ]
  }
 ],
 "metadata": {
  "kernelspec": {
   "display_name": "EnvPBGEM_Linux",
   "language": "python",
   "name": "python3"
  },
  "language_info": {
   "codemirror_mode": {
    "name": "ipython",
    "version": 3
   },
   "file_extension": ".py",
   "mimetype": "text/x-python",
   "name": "python",
   "nbconvert_exporter": "python",
   "pygments_lexer": "ipython3",
   "version": "3.10.6"
  },
  "orig_nbformat": 4
 },
 "nbformat": 4,
 "nbformat_minor": 2
}
