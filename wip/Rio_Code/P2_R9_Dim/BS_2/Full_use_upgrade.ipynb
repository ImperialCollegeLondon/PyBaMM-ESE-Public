{
 "cells": [
  {
   "cell_type": "markdown",
   "metadata": {},
   "source": [
    "## To use Fun_Upgrade.py, upgrade the script"
   ]
  },
  {
   "cell_type": "markdown",
   "metadata": {},
   "source": [
    "### Functions to achieve: \n",
    "1. reduce ram used; \n",
    "2. reduce code simplicity by building new class; (class: Controller; Path; )\n",
    "3. save more frequently\n",
    "4. reduce test time"
   ]
  },
  {
   "cell_type": "code",
   "execution_count": 1,
   "metadata": {},
   "outputs": [],
   "source": [
    "# magic lines that avoid re-start \n",
    "%load_ext autoreload\n",
    "%autoreload 2\n",
    "# Load modules\n",
    "import pybamm as pb;import pandas as pd;import numpy as np;\n",
    "import os, json,openpyxl,traceback,multiprocessing,scipy.optimize,sys\n",
    "import matplotlib.pyplot as plt;\n",
    "import pickle,imageio,timeit,random,time, signal\n",
    "from scipy.io import savemat,loadmat;\n",
    "from pybamm import constants,exp;import matplotlib as mpl"
   ]
  },
  {
   "cell_type": "code",
   "execution_count": 2,
   "metadata": {},
   "outputs": [
    {
     "name": "stdout",
     "output_type": "stream",
     "text": [
      "False 0 /home/ruihe_li/EnvPBGEM_NC/SimSave/InputData/Full_Exp1235_NC/Bundle_7.csv\n"
     ]
    }
   ],
   "source": [
    "# reduce variables that require define outside\n",
    "On_HPC = False\n",
    "if On_HPC:\n",
    "    case_no = int(os.environ[\"PBS_ARRAY_INDEX\"])\n",
    "    Path_Input = \"InputData/\" \n",
    "    BasicPath=os.getcwd() \n",
    "else:\n",
    "    str_path_0 = os.path.abspath(os.path.join(pb.__path__[0],'..'))\n",
    "    str_path_1 = os.path.abspath(\n",
    "        os.path.join(str_path_0,\"wip/Rio_Code/Fun_P2\"))\n",
    "    sys.path.append(str_path_1) \n",
    "    case_no = 7\n",
    "    Path_Input = os.path.expanduser(\n",
    "        \"~/EnvPBGEM_NC/SimSave/InputData/\") # for Linux\n",
    "    BasicPath =  os.path.expanduser(\n",
    "        \"~/EnvPBGEM_NC/SimSave/P2_R9_Dim\")\n",
    "    \n",
    "# import all functions \n",
    "from Fun_Upgrade import * \n",
    "\n",
    "# Initialize everything \n",
    "config = TaskConfig(On_HPC=On_HPC,case_no=case_no,Path_Input=Path_Input,BasicPath=BasicPath)\n",
    "print(\n",
    "    config.Options.On_HPC,\n",
    "    config.Re_No,\n",
    "    config.Paths.Para_file)"
   ]
  },
  {
   "cell_type": "code",
   "execution_count": 21,
   "metadata": {},
   "outputs": [
    {
     "name": "stdout",
     "output_type": "stream",
     "text": [
      "Total scan case is 1\n"
     ]
    }
   ],
   "source": [
    "\n",
    "# Load input file\n",
    "Para_dict_list = load_combinations_from_csv(config.Paths.Para_file)\n",
    "pool_no = len(Para_dict_list) # do parallel computing if needed"
   ]
  },
  {
   "cell_type": "code",
   "execution_count": null,
   "metadata": {},
   "outputs": [],
   "source": [
    "# Run the model, assuming only one case:\n",
    "if config.Re_No == 0:\n",
    "    TaskResult = Run_P2_Excel (Para_dict_list[0], config) \n",
    "elif config.Re_No > 0:\n",
    "    pass\n"
   ]
  }
 ],
 "metadata": {
  "kernelspec": {
   "display_name": "EnvPBGEM_NC",
   "language": "python",
   "name": "python3"
  },
  "language_info": {
   "codemirror_mode": {
    "name": "ipython",
    "version": 3
   },
   "file_extension": ".py",
   "mimetype": "text/x-python",
   "name": "python",
   "nbconvert_exporter": "python",
   "pygments_lexer": "ipython3",
   "version": "3.10.12"
  }
 },
 "nbformat": 4,
 "nbformat_minor": 2
}
