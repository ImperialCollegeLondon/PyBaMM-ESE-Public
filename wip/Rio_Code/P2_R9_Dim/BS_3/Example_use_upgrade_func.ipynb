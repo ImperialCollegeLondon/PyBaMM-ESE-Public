{
 "cells": [
  {
   "cell_type": "markdown",
   "metadata": {},
   "source": [
    "## <a id='toc1_1_'></a>[To use Fun_Upgrade.py, upgrade the script](#toc0_)"
   ]
  },
  {
   "cell_type": "markdown",
   "metadata": {},
   "source": [
    "### <a id='toc1_1_1_'></a>[Functions to achieve:](#toc0_)\n",
    "1. reduce ram used; \n",
    "2. reduce code simplicity by building new class; (class: Controller; Path; )\n",
    "3. save more frequently\n",
    "4. reduce test time"
   ]
  },
  {
   "cell_type": "code",
   "execution_count": 21,
   "metadata": {},
   "outputs": [
    {
     "name": "stdout",
     "output_type": "stream",
     "text": [
      "The autoreload extension is already loaded. To reload it, use:\n",
      "  %reload_ext autoreload\n"
     ]
    }
   ],
   "source": [
    "# magic lines that avoid re-start \n",
    "%load_ext autoreload\n",
    "%autoreload 2"
   ]
  },
  {
   "cell_type": "code",
   "execution_count": 22,
   "metadata": {},
   "outputs": [],
   "source": [
    "# Load modules\n",
    "import pybamm as pb;import pandas as pd;import numpy as np;\n",
    "import os, json,openpyxl,traceback,multiprocessing,scipy.optimize,sys,gc\n",
    "import matplotlib.pyplot as plt;\n",
    "import pickle,imageio,timeit,random,time, signal\n",
    "from scipy.io import savemat,loadmat;\n",
    "from pybamm import constants,exp;import matplotlib as mpl"
   ]
  },
  {
   "cell_type": "code",
   "execution_count": 23,
   "metadata": {},
   "outputs": [
    {
     "data": {
      "text/plain": [
       "'/home/ruihe_li/EnvPBGEM_NC/PyBaMM-GEM/wip/Rio_Code/Fun_Upgrade'"
      ]
     },
     "execution_count": 23,
     "metadata": {},
     "output_type": "execute_result"
    }
   ],
   "source": [
    "str_path_0 = os.path.abspath(os.path.join(pb.__path__[0],'..'))\n",
    "str_path_1 = os.path.abspath(\n",
    "    os.path.join(str_path_0,\"wip/Rio_Code/Fun_Upgrade\"))\n",
    "str_path_1"
   ]
  },
  {
   "cell_type": "code",
   "execution_count": 24,
   "metadata": {},
   "outputs": [],
   "source": [
    "# reduce variables that require define outside\n",
    "On_HPC = False\n",
    "if On_HPC:\n",
    "    case_no = int(os.environ[\"PBS_ARRAY_INDEX\"])\n",
    "    Path_Input = \"InputData/\" \n",
    "    BasicPath_Save=os.getcwd() \n",
    "else:\n",
    "    str_path_0 = os.path.abspath(os.path.join(pb.__path__[0],'..'))\n",
    "    str_path_1 = os.path.abspath(\n",
    "        os.path.join(str_path_0,\"wip/Rio_Code/Fun_Upgrade\"))\n",
    "    sys.path.append(str_path_1) \n",
    "    \n",
    "    case_no = 6\n",
    "    Path_Input = os.path.expanduser(\n",
    "        \"~/EnvPBGEM_NC/SimSave/InputData/\") # for Linux\n",
    "    BasicPath_Save =  os.path.expanduser(\n",
    "        \"~/EnvPBGEM_NC/SimSave/P2_R9_Dim\")\n",
    "# import all functions \n",
    "from Fun_Upgrade import Run_One_Case\n",
    "from Fun_Upgrade import *\n",
    "from TaskResult import *\n",
    "from TaskConfig import *\n",
    "from Get_input import *"
   ]
  },
  {
   "cell_type": "code",
   "execution_count": null,
   "metadata": {},
   "outputs": [],
   "source": []
  },
  {
   "cell_type": "code",
   "execution_count": 25,
   "metadata": {},
   "outputs": [
    {
     "name": "stdout",
     "output_type": "stream",
     "text": [
      "Total scan case is 1\n"
     ]
    }
   ],
   "source": [
    "# define class for all inputs and customized settings:\n",
    "# start to do configuration:\n",
    "path_config = Path_config(\n",
    "    On_HPC=On_HPC, Path_Input=Path_Input,\n",
    "    BasicPath_Save=BasicPath_Save,\n",
    "    purpose_i=\"Full_Exp1235_NC\", case_no=case_no,\n",
    "    rows_per_file= 1,Scan_end_end= 12,\n",
    "    )\n",
    "global_config = Global_config(\n",
    "    On_HPC=On_HPC, Runshort=True, \n",
    "    Plot_Exp=True, Timeout=True, Return_Sol=True, \n",
    "    Check_Short_Time=True, R_from_GITT=True,\n",
    "    fs=13, dpi=100, Re_No=0, Timelimit=int(3600*48),\n",
    "    Timeout_text = 'I timed out'   )\n",
    "\n",
    "exp_config = Exp_config()\n",
    "para_config = Para_config()\n",
    "model_config = Model_config()\n",
    "expData_config = ExpData_config(cap_0 = 4.86491)\n",
    "config = TaskConfig(\n",
    "    path_config=path_config, global_config=global_config, \n",
    "    exp_config=exp_config,para_config=para_config,\n",
    "    model_config=model_config,expData_config=expData_config)\n",
    "# Load input file\n",
    "\n",
    "# normal version\n",
    "# Para_dict_list = load_combinations_from_csv(config.path_config.Para_file) \n",
    "\n",
    "# ! For Dan to test:\n",
    "path_csv_special_for_test = str_path_1 + \"/Bundle_6.csv\"\n",
    "Para_dict_list = load_combinations_from_csv(path_csv_special_for_test) \n",
    "pool_no = len(Para_dict_list) # do parallel computing if needed"
   ]
  },
  {
   "cell_type": "code",
   "execution_count": 26,
   "metadata": {},
   "outputs": [
    {
     "data": {
      "text/plain": [
       "{'Scan No': 6,\n",
       " 'Exp No.': 2,\n",
       " 'Ageing temperature': 40,\n",
       " 'Mesh list': '[5,5,5,60,20]',\n",
       " 'Inner SEI lithium interstitial diffusivity [m2.s-1]': 9.81e-19,\n",
       " 'Dead lithium decay constant [s-1]': 1e-07,\n",
       " 'Lithium plating kinetic rate constant [m.s-1]': 1e-10,\n",
       " 'Negative electrode LAM constant proportional term [s-1]': 2.84e-09,\n",
       " 'Positive electrode LAM constant proportional term [s-1]': 2.98e-18,\n",
       " 'Negative electrode cracking rate': 5.29e-25,\n",
       " 'Outer SEI partial molar volume [m3.mol-1]': 5.22e-05,\n",
       " 'SEI growth activation energy [J.mol-1]': 5000.0,\n",
       " 'Negative cracking growth activation energy [J.mol-1]': 0.0,\n",
       " 'Negative electrode diffusivity activation energy [J.mol-1]': 20000.0,\n",
       " 'Positive electrode diffusivity activation energy [J.mol-1]': 12000.0,\n",
       " 'Initial electrolyte excessive amount ratio': 1.0,\n",
       " 'Cycles within RPT': 1,\n",
       " 'RPT temperature': 25,\n",
       " 'Para_Set': 'OKane2023',\n",
       " 'Model option': \"{'SEI': 'interstitial-diffusion limited', 'SEI on cracks': 'true', 'lithium plating': 'partially reversible', 'lithium plating porosity change': 'true', 'particle mechanics': ('swelling and cracking', 'swelling only'), 'loss of active material': 'stress-driven', 'contact resistance': 'true', 'open-circuit potential': 'current sigmoid', 'SEI film resistance': 'distributed', 'SEI porosity change': 'true', 'thermal': 'lumped'}\"}"
      ]
     },
     "execution_count": 26,
     "metadata": {},
     "output_type": "execute_result"
    }
   ],
   "source": [
    "Para_dict_list[0]['Mesh list'] = '[5,5,5,60,20]'\n",
    "Para_dict_list[0]"
   ]
  },
  {
   "cell_type": "code",
   "execution_count": 27,
   "metadata": {},
   "outputs": [
    {
     "name": "stdout",
     "output_type": "stream",
     "text": [
      "Aging T is 40degC\n",
      "Finish reading Experiment!\n"
     ]
    }
   ],
   "source": [
    "\n",
    "# Assuming we only do the first one:\n",
    "config.Get_Para_dict_i(Para_dict_list[0])\n",
    "\n",
    "# config.para_config.Para_dict_i['Exp No.'] = 8\n",
    "\n",
    "config.Get_Exp_config()\n",
    "config.Initialize_exp_text()\n",
    "config.Get_Exp_Pack()"
   ]
  },
  {
   "cell_type": "code",
   "execution_count": 28,
   "metadata": {},
   "outputs": [
    {
     "data": {
      "text/plain": [
       "{'Scan No': 6,\n",
       " 'Exp No.': 2,\n",
       " 'Ageing temperature': 40,\n",
       " 'Mesh list': '[5,5,5,60,20]',\n",
       " 'Inner SEI lithium interstitial diffusivity [m2.s-1]': 9.81e-19,\n",
       " 'Dead lithium decay constant [s-1]': 1e-07,\n",
       " 'Lithium plating kinetic rate constant [m.s-1]': 1e-10,\n",
       " 'Negative electrode LAM constant proportional term [s-1]': 2.84e-09,\n",
       " 'Positive electrode LAM constant proportional term [s-1]': 2.98e-18,\n",
       " 'Negative electrode cracking rate': 5.29e-25,\n",
       " 'Outer SEI partial molar volume [m3.mol-1]': 5.22e-05,\n",
       " 'SEI growth activation energy [J.mol-1]': 5000.0,\n",
       " 'Negative cracking growth activation energy [J.mol-1]': 0.0,\n",
       " 'Negative electrode diffusivity activation energy [J.mol-1]': 20000.0,\n",
       " 'Positive electrode diffusivity activation energy [J.mol-1]': 12000.0,\n",
       " 'Initial electrolyte excessive amount ratio': 1.0,\n",
       " 'Cycles within RPT': 1,\n",
       " 'RPT temperature': 25,\n",
       " 'Para_Set': 'OKane2023',\n",
       " 'Model option': \"{'SEI': 'interstitial-diffusion limited', 'SEI on cracks': 'true', 'lithium plating': 'partially reversible', 'lithium plating porosity change': 'true', 'particle mechanics': ('swelling and cracking', 'swelling only'), 'loss of active material': 'stress-driven', 'contact resistance': 'true', 'open-circuit potential': 'current sigmoid', 'SEI film resistance': 'distributed', 'SEI porosity change': 'true', 'thermal': 'lumped'}\"}"
      ]
     },
     "execution_count": 28,
     "metadata": {},
     "output_type": "execute_result"
    }
   ],
   "source": [
    "Para_dict_list[0]"
   ]
  },
  {
   "cell_type": "markdown",
   "metadata": {},
   "source": [
    "### Run the model"
   ]
  },
  {
   "cell_type": "code",
   "execution_count": 29,
   "metadata": {},
   "outputs": [
    {
     "name": "stdout",
     "output_type": "stream",
     "text": [
      "Start Now! Scan 6 Re 0\n",
      "Has Overwritten Initial outer SEI thickness [m] to be \n",
      "        9.23e-09 and Negative electrode \n",
      "        porosity to be 0.235 to account for initial \n",
      "        capacity loss of 0.135 Ah\n",
      "Initial electrolyte amount is  5.236163896909271 mL\n",
      "Scan 6 Re 0: Spent 1.210 ms on Initialization, DryOut = On\n"
     ]
    },
    {
     "name": "stdout",
     "output_type": "stream",
     "text": [
      "\n",
      "Succeed to run break in for the 0th time with perturbation of 0.00e+00Ah\n",
      "\n",
      "Scan 6 Re 0: Finish break-in cycle within 51.033 s\n",
      "Scan 6 Re 0: Finish post-process for break-in cycle within 991.951 ms\n",
      "Electrolyte is being squeezed out, check plated lithium (active and dead)\n",
      "Succeed to run the ageing set for 1 cycles the 1th time\n",
      "Scan 6 Re 0: Finish No.\n",
      "              0 \n",
      "              ageing cycles within 10.941 s\n",
      "Scan 6 Re 0: Finish post-process for \n",
      "              No. 1 \n",
      "              ageing cycles within 117.892 ms\n",
      "Electrolyte is being squeezed out, check plated lithium (active and dead)\n",
      "Succeed to run RPT for the 1th time\n",
      "Scan 6 Re 0: Finish No.\"\n",
      "            1\"\n",
      "            RPT cycles within 36.685 s\n",
      "Scan 6 Re 0: Finish post-process for No.\n",
      "            1 \n",
      "            RPT cycles within 2.020 s\n",
      "Scan 6 Re 0: Getting extra variables within 1.933 ms\n",
      "Scan 6 Re 0: Finish all plots within 7.113 s\n",
      "Electrolyte is being squeezed out, check plated lithium (active and dead)\n",
      "Scan 6 Re 0: Save Early for RPT 0 within 175.983 ms\n",
      "Succeed to run the ageing set for 1 cycles the 1th time\n",
      "Scan 6 Re 0: Finish No.\n",
      "              1 \n",
      "              ageing cycles within 9.524 s\n",
      "Scan 6 Re 0: Finish post-process for \n",
      "              No. 2 \n",
      "              ageing cycles within 82.969 ms\n",
      "Electrolyte is being squeezed out, check plated lithium (active and dead)\n",
      "Succeed to run RPT for the 1th time\n",
      "Scan 6 Re 0: Finish No.\"\n",
      "            2\"\n",
      "            RPT cycles within 34.105 s\n",
      "Scan 6 Re 0: Finish post-process for No.\n",
      "            2 \n",
      "            RPT cycles within 2.160 s\n",
      "Scan 6 Re 0: Getting extra variables within 1.390 ms\n",
      "Scan 6 Re 0: Finish all plots within 7.050 s\n",
      "Scan 6 Re 0: Save Early for RPT 1 within 170.752 ms\n",
      "Scan 6 Re 0: Finish all plots within 6.167 s\n",
      "Scan 6 Re 0: Try saving within 19.132 ms\n",
      "Succeed doing something in 2 minutes, 48 seconds\n",
      "This is the end of No. 6 scan, Re 0\n"
     ]
    }
   ],
   "source": [
    "# Run the model, assuming only one case:\n",
    "if config.global_config.Re_No == 0:\n",
    "    task_result, config = Run_One_Case(config) \n",
    "elif config.global_config.Re_No > 0:\n",
    "    pass\n"
   ]
  }
 ],
 "metadata": {
  "kernelspec": {
   "display_name": "EnvPBGEM_NC",
   "language": "python",
   "name": "python3"
  },
  "language_info": {
   "codemirror_mode": {
    "name": "ipython",
    "version": 3
   },
   "file_extension": ".py",
   "mimetype": "text/x-python",
   "name": "python",
   "nbconvert_exporter": "python",
   "pygments_lexer": "ipython3",
   "version": "3.10.12"
  }
 },
 "nbformat": 4,
 "nbformat_minor": 2
}
