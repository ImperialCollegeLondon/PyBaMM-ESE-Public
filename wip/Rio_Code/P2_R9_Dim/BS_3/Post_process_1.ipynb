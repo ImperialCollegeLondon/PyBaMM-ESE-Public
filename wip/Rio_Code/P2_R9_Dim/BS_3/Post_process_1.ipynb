{
 "cells": [
  {
   "cell_type": "markdown",
   "metadata": {},
   "source": [
    "## For post-processing after first-round tidy-up"
   ]
  },
  {
   "cell_type": "markdown",
   "metadata": {},
   "source": [
    "Functions to achieve:\n",
    "1. move images into folder\n",
    "2. find empty folder and mark it down\n",
    "3. ? producing figures for papers"
   ]
  },
  {
   "cell_type": "code",
   "execution_count": 40,
   "metadata": {},
   "outputs": [
    {
     "name": "stdout",
     "output_type": "stream",
     "text": [
      "The autoreload extension is already loaded. To reload it, use:\n",
      "  %reload_ext autoreload\n"
     ]
    }
   ],
   "source": [
    "# magic lines that avoid re-start \n",
    "%load_ext autoreload\n",
    "%autoreload 2"
   ]
  },
  {
   "cell_type": "code",
   "execution_count": 41,
   "metadata": {},
   "outputs": [],
   "source": [
    "import pybamm as pb;import pandas as pd   ;import numpy as np;\n",
    "import os; import seaborn as sns\n",
    "import matplotlib.pyplot as plt;import os\n",
    "import matplotlib as mpl; \n",
    "fs=17\n",
    "font = {'family' : 'DejaVu Sans',  'size'   : fs}\n",
    "mpl.rc('font', **font)"
   ]
  },
  {
   "cell_type": "code",
   "execution_count": 42,
   "metadata": {},
   "outputs": [],
   "source": [
    "from wip.Rio_Code.Fun_Upgrade.TaskResult import TaskResult\n",
    "from wip.Rio_Code.Fun_Upgrade.Plot import *\n",
    "from wip.Rio_Code.Fun_Upgrade.Run_model import *\n",
    "from wip.Rio_Code.Fun_Upgrade.Post_process import *"
   ]
  },
  {
   "cell_type": "code",
   "execution_count": 43,
   "metadata": {},
   "outputs": [
    {
     "name": "stdout",
     "output_type": "stream",
     "text": [
      "The directory SEI_Exp2_NC_SA_Case_2_2 is empty, case 2 fail\n",
      "The directory SEI_Exp2_NC_SA_Case_9_9 is empty, case 9 fail\n",
      "The directory SEI_Exp2_NC_SA_Case_11_11 is empty, case 11 fail\n",
      "The directory SEI_Exp2_NC_SA_Case_12_12 is empty, case 12 fail\n",
      "The directory SEI_Exp2_NC_SA_Case_16_16 is empty, case 16 fail\n",
      "The directory SEI_Exp2_NC_SA_Case_17_17 is empty, case 17 fail\n",
      "The directory SEI_Exp2_NC_SA_Case_83_83 is empty, case 83 fail\n"
     ]
    },
    {
     "data": {
      "text/html": [
       "<div>\n",
       "<style scoped>\n",
       "    .dataframe tbody tr th:only-of-type {\n",
       "        vertical-align: middle;\n",
       "    }\n",
       "\n",
       "    .dataframe tbody tr th {\n",
       "        vertical-align: top;\n",
       "    }\n",
       "\n",
       "    .dataframe thead th {\n",
       "        text-align: right;\n",
       "    }\n",
       "</style>\n",
       "<table border=\"1\" class=\"dataframe\">\n",
       "  <thead>\n",
       "    <tr style=\"text-align: right;\">\n",
       "      <th></th>\n",
       "      <th>Case</th>\n",
       "      <th>Succeed</th>\n",
       "    </tr>\n",
       "  </thead>\n",
       "  <tbody>\n",
       "    <tr>\n",
       "      <th>1</th>\n",
       "      <td>2</td>\n",
       "      <td>False</td>\n",
       "    </tr>\n",
       "    <tr>\n",
       "      <th>8</th>\n",
       "      <td>9</td>\n",
       "      <td>False</td>\n",
       "    </tr>\n",
       "    <tr>\n",
       "      <th>10</th>\n",
       "      <td>11</td>\n",
       "      <td>False</td>\n",
       "    </tr>\n",
       "    <tr>\n",
       "      <th>11</th>\n",
       "      <td>12</td>\n",
       "      <td>False</td>\n",
       "    </tr>\n",
       "    <tr>\n",
       "      <th>15</th>\n",
       "      <td>16</td>\n",
       "      <td>False</td>\n",
       "    </tr>\n",
       "    <tr>\n",
       "      <th>16</th>\n",
       "      <td>17</td>\n",
       "      <td>False</td>\n",
       "    </tr>\n",
       "    <tr>\n",
       "      <th>82</th>\n",
       "      <td>83</td>\n",
       "      <td>False</td>\n",
       "    </tr>\n",
       "  </tbody>\n",
       "</table>\n",
       "</div>"
      ],
      "text/plain": [
       "    Case  Succeed\n",
       "1      2    False\n",
       "8      9    False\n",
       "10    11    False\n",
       "11    12    False\n",
       "15    16    False\n",
       "16    17    False\n",
       "82    83    False"
      ]
     },
     "execution_count": 43,
     "metadata": {},
     "output_type": "execute_result"
    }
   ],
   "source": [
    "purpose_i = \"SEI_Exp2_NC_SA\"\n",
    "BasicPath = os.path.expanduser(\n",
    "    f\"~/EnvPBGEM_NC/SimSave/P2_R9_Dim/Run_On_NewBranch_NC/{purpose_i}/\") \n",
    "\n",
    "Path_Results = os.path.expanduser(\n",
    "    f\"~/EnvPBGEM_NC/SimSave/P2_R9_Dim/Run_On_NewBranch_NC/{purpose_i}/Results\") \n",
    "Path_Plot_Collect = os.path.expanduser(\n",
    "    f\"~/EnvPBGEM_NC/SimSave/P2_R9_Dim/Run_On_NewBranch_NC/{purpose_i}/Post_Processing/Plot_Collect\") \n",
    "df_succeed_SEI = Copy_png(\n",
    "    Path_Results, purpose_i, Path_Plot_Collect,\n",
    "    rows_per_file=1, Scan_end_end=120)\n",
    "\n",
    "df_fail_SEI = df_succeed_SEI[df_succeed_SEI[\"Succeed\"] == False]\n",
    "df_fail_SEI\n"
   ]
  },
  {
   "cell_type": "code",
   "execution_count": 44,
   "metadata": {},
   "outputs": [],
   "source": [
    "df_fail_SEI.to_csv(BasicPath + f\"{purpose_i}_Fail_case.csv\")"
   ]
  },
  {
   "cell_type": "code",
   "execution_count": 45,
   "metadata": {},
   "outputs": [
    {
     "name": "stdout",
     "output_type": "stream",
     "text": [
      "Number of failed cases for SEI_Exp2_NC_SA: 7\n"
     ]
    }
   ],
   "source": [
    "print(f\"Number of failed cases for {purpose_i}: {df_fail_SEI.shape[0]}\")"
   ]
  },
  {
   "cell_type": "code",
   "execution_count": 46,
   "metadata": {},
   "outputs": [
    {
     "name": "stdout",
     "output_type": "stream",
     "text": [
      "The directory SEI_Dry_Exp2_NC_SA_Case_4_4 is empty, case 4 fail\n",
      "The directory SEI_Dry_Exp2_NC_SA_Case_15_15 is empty, case 15 fail\n",
      "The directory SEI_Dry_Exp2_NC_SA_Case_24_24 is empty, case 24 fail\n",
      "The directory SEI_Dry_Exp2_NC_SA_Case_26_26 is empty, case 26 fail\n",
      "The directory SEI_Dry_Exp2_NC_SA_Case_29_29 is empty, case 29 fail\n",
      "The directory SEI_Dry_Exp2_NC_SA_Case_33_33 is empty, case 33 fail\n",
      "The directory SEI_Dry_Exp2_NC_SA_Case_39_39 is empty, case 39 fail\n",
      "The directory SEI_Dry_Exp2_NC_SA_Case_40_40 is empty, case 40 fail\n",
      "The directory SEI_Dry_Exp2_NC_SA_Case_41_41 is empty, case 41 fail\n",
      "The directory SEI_Dry_Exp2_NC_SA_Case_48_48 is empty, case 48 fail\n",
      "The directory SEI_Dry_Exp2_NC_SA_Case_49_49 is empty, case 49 fail\n",
      "The directory SEI_Dry_Exp2_NC_SA_Case_50_50 is empty, case 50 fail\n",
      "The directory SEI_Dry_Exp2_NC_SA_Case_64_64 is empty, case 64 fail\n",
      "The directory SEI_Dry_Exp2_NC_SA_Case_68_68 is empty, case 68 fail\n",
      "The directory SEI_Dry_Exp2_NC_SA_Case_69_69 is empty, case 69 fail\n",
      "The directory SEI_Dry_Exp2_NC_SA_Case_70_70 is empty, case 70 fail\n",
      "The directory SEI_Dry_Exp2_NC_SA_Case_72_72 is empty, case 72 fail\n",
      "The directory SEI_Dry_Exp2_NC_SA_Case_80_80 is empty, case 80 fail\n",
      "The directory SEI_Dry_Exp2_NC_SA_Case_88_88 is empty, case 88 fail\n",
      "The directory SEI_Dry_Exp2_NC_SA_Case_91_91 is empty, case 91 fail\n",
      "The directory SEI_Dry_Exp2_NC_SA_Case_92_92 is empty, case 92 fail\n",
      "The directory SEI_Dry_Exp2_NC_SA_Case_103_103 is empty, case 103 fail\n",
      "The directory SEI_Dry_Exp2_NC_SA_Case_111_111 is empty, case 111 fail\n",
      "The directory SEI_Dry_Exp2_NC_SA_Case_117_117 is empty, case 117 fail\n",
      "The directory SEI_Dry_Exp2_NC_SA_Case_119_119 is empty, case 119 fail\n"
     ]
    },
    {
     "data": {
      "text/html": [
       "<div>\n",
       "<style scoped>\n",
       "    .dataframe tbody tr th:only-of-type {\n",
       "        vertical-align: middle;\n",
       "    }\n",
       "\n",
       "    .dataframe tbody tr th {\n",
       "        vertical-align: top;\n",
       "    }\n",
       "\n",
       "    .dataframe thead th {\n",
       "        text-align: right;\n",
       "    }\n",
       "</style>\n",
       "<table border=\"1\" class=\"dataframe\">\n",
       "  <thead>\n",
       "    <tr style=\"text-align: right;\">\n",
       "      <th></th>\n",
       "      <th>Case</th>\n",
       "      <th>Succeed</th>\n",
       "    </tr>\n",
       "  </thead>\n",
       "  <tbody>\n",
       "    <tr>\n",
       "      <th>3</th>\n",
       "      <td>4</td>\n",
       "      <td>False</td>\n",
       "    </tr>\n",
       "    <tr>\n",
       "      <th>14</th>\n",
       "      <td>15</td>\n",
       "      <td>False</td>\n",
       "    </tr>\n",
       "    <tr>\n",
       "      <th>23</th>\n",
       "      <td>24</td>\n",
       "      <td>False</td>\n",
       "    </tr>\n",
       "    <tr>\n",
       "      <th>25</th>\n",
       "      <td>26</td>\n",
       "      <td>False</td>\n",
       "    </tr>\n",
       "    <tr>\n",
       "      <th>28</th>\n",
       "      <td>29</td>\n",
       "      <td>False</td>\n",
       "    </tr>\n",
       "    <tr>\n",
       "      <th>32</th>\n",
       "      <td>33</td>\n",
       "      <td>False</td>\n",
       "    </tr>\n",
       "    <tr>\n",
       "      <th>38</th>\n",
       "      <td>39</td>\n",
       "      <td>False</td>\n",
       "    </tr>\n",
       "    <tr>\n",
       "      <th>39</th>\n",
       "      <td>40</td>\n",
       "      <td>False</td>\n",
       "    </tr>\n",
       "    <tr>\n",
       "      <th>40</th>\n",
       "      <td>41</td>\n",
       "      <td>False</td>\n",
       "    </tr>\n",
       "    <tr>\n",
       "      <th>47</th>\n",
       "      <td>48</td>\n",
       "      <td>False</td>\n",
       "    </tr>\n",
       "    <tr>\n",
       "      <th>48</th>\n",
       "      <td>49</td>\n",
       "      <td>False</td>\n",
       "    </tr>\n",
       "    <tr>\n",
       "      <th>49</th>\n",
       "      <td>50</td>\n",
       "      <td>False</td>\n",
       "    </tr>\n",
       "    <tr>\n",
       "      <th>63</th>\n",
       "      <td>64</td>\n",
       "      <td>False</td>\n",
       "    </tr>\n",
       "    <tr>\n",
       "      <th>67</th>\n",
       "      <td>68</td>\n",
       "      <td>False</td>\n",
       "    </tr>\n",
       "    <tr>\n",
       "      <th>68</th>\n",
       "      <td>69</td>\n",
       "      <td>False</td>\n",
       "    </tr>\n",
       "    <tr>\n",
       "      <th>69</th>\n",
       "      <td>70</td>\n",
       "      <td>False</td>\n",
       "    </tr>\n",
       "    <tr>\n",
       "      <th>71</th>\n",
       "      <td>72</td>\n",
       "      <td>False</td>\n",
       "    </tr>\n",
       "    <tr>\n",
       "      <th>79</th>\n",
       "      <td>80</td>\n",
       "      <td>False</td>\n",
       "    </tr>\n",
       "    <tr>\n",
       "      <th>87</th>\n",
       "      <td>88</td>\n",
       "      <td>False</td>\n",
       "    </tr>\n",
       "    <tr>\n",
       "      <th>90</th>\n",
       "      <td>91</td>\n",
       "      <td>False</td>\n",
       "    </tr>\n",
       "    <tr>\n",
       "      <th>91</th>\n",
       "      <td>92</td>\n",
       "      <td>False</td>\n",
       "    </tr>\n",
       "    <tr>\n",
       "      <th>102</th>\n",
       "      <td>103</td>\n",
       "      <td>False</td>\n",
       "    </tr>\n",
       "    <tr>\n",
       "      <th>110</th>\n",
       "      <td>111</td>\n",
       "      <td>False</td>\n",
       "    </tr>\n",
       "    <tr>\n",
       "      <th>116</th>\n",
       "      <td>117</td>\n",
       "      <td>False</td>\n",
       "    </tr>\n",
       "    <tr>\n",
       "      <th>118</th>\n",
       "      <td>119</td>\n",
       "      <td>False</td>\n",
       "    </tr>\n",
       "  </tbody>\n",
       "</table>\n",
       "</div>"
      ],
      "text/plain": [
       "     Case  Succeed\n",
       "3       4    False\n",
       "14     15    False\n",
       "23     24    False\n",
       "25     26    False\n",
       "28     29    False\n",
       "32     33    False\n",
       "38     39    False\n",
       "39     40    False\n",
       "40     41    False\n",
       "47     48    False\n",
       "48     49    False\n",
       "49     50    False\n",
       "63     64    False\n",
       "67     68    False\n",
       "68     69    False\n",
       "69     70    False\n",
       "71     72    False\n",
       "79     80    False\n",
       "87     88    False\n",
       "90     91    False\n",
       "91     92    False\n",
       "102   103    False\n",
       "110   111    False\n",
       "116   117    False\n",
       "118   119    False"
      ]
     },
     "execution_count": 46,
     "metadata": {},
     "output_type": "execute_result"
    }
   ],
   "source": [
    "purpose_i = \"SEI_Dry_Exp2_NC_SA\"\n",
    "Path_Results = os.path.expanduser(\n",
    "    f\"~/EnvPBGEM_NC/SimSave/P2_R9_Dim/Run_On_NewBranch_NC/{purpose_i}/Results\") \n",
    "Path_Plot_Collect = os.path.expanduser(\n",
    "    f\"~/EnvPBGEM_NC/SimSave/P2_R9_Dim/Run_On_NewBranch_NC/{purpose_i}/Post_Processing/Plot_Collect\") \n",
    "df_succeed_SEI_Dry = Copy_png(Path_Results, purpose_i, Path_Plot_Collect,\n",
    "    rows_per_file=1, Scan_end_end=120)\n",
    "\n",
    "BasicPath = os.path.expanduser(\n",
    "    f\"~/EnvPBGEM_NC/SimSave/P2_R9_Dim/Run_On_NewBranch_NC/{purpose_i}/\") \n",
    "\n",
    "df_fail_SEI_Dry = df_succeed_SEI_Dry[df_succeed_SEI_Dry[\"Succeed\"] == False]\n",
    "df_fail_SEI_Dry"
   ]
  },
  {
   "cell_type": "code",
   "execution_count": 47,
   "metadata": {},
   "outputs": [],
   "source": [
    "df_fail_SEI_Dry.to_csv(BasicPath + f\"{purpose_i}_Fail_case.csv\")"
   ]
  },
  {
   "cell_type": "code",
   "execution_count": 48,
   "metadata": {},
   "outputs": [
    {
     "name": "stdout",
     "output_type": "stream",
     "text": [
      "Number of failed cases for SEI_Dry_Exp2_NC_SA: 25\n"
     ]
    }
   ],
   "source": [
    "print(f\"Number of failed cases for {purpose_i}: {df_fail_SEI_Dry.shape[0]}\")"
   ]
  },
  {
   "cell_type": "code",
   "execution_count": 49,
   "metadata": {},
   "outputs": [
    {
     "name": "stdout",
     "output_type": "stream",
     "text": [
      "The directory Full_Exp2_NC_SA_Case_10_10 is empty, case 10 fail\n",
      "The directory Full_Exp2_NC_SA_Case_220_220 is empty, case 220 fail\n",
      "The directory Full_Exp2_NC_SA_Case_264_264 is empty, case 264 fail\n"
     ]
    },
    {
     "data": {
      "text/html": [
       "<div>\n",
       "<style scoped>\n",
       "    .dataframe tbody tr th:only-of-type {\n",
       "        vertical-align: middle;\n",
       "    }\n",
       "\n",
       "    .dataframe tbody tr th {\n",
       "        vertical-align: top;\n",
       "    }\n",
       "\n",
       "    .dataframe thead th {\n",
       "        text-align: right;\n",
       "    }\n",
       "</style>\n",
       "<table border=\"1\" class=\"dataframe\">\n",
       "  <thead>\n",
       "    <tr style=\"text-align: right;\">\n",
       "      <th></th>\n",
       "      <th>Case</th>\n",
       "      <th>Succeed</th>\n",
       "    </tr>\n",
       "  </thead>\n",
       "  <tbody>\n",
       "    <tr>\n",
       "      <th>9</th>\n",
       "      <td>10</td>\n",
       "      <td>False</td>\n",
       "    </tr>\n",
       "    <tr>\n",
       "      <th>219</th>\n",
       "      <td>220</td>\n",
       "      <td>False</td>\n",
       "    </tr>\n",
       "    <tr>\n",
       "      <th>263</th>\n",
       "      <td>264</td>\n",
       "      <td>False</td>\n",
       "    </tr>\n",
       "  </tbody>\n",
       "</table>\n",
       "</div>"
      ],
      "text/plain": [
       "     Case  Succeed\n",
       "9      10    False\n",
       "219   220    False\n",
       "263   264    False"
      ]
     },
     "execution_count": 49,
     "metadata": {},
     "output_type": "execute_result"
    }
   ],
   "source": [
    "purpose_i = \"Full_Exp2_NC_SA\"\n",
    "Path_Results = os.path.expanduser(\n",
    "    f\"~/EnvPBGEM_NC/SimSave/P2_R9_Dim/Run_On_NewBranch_NC/{purpose_i}/Results\") \n",
    "Path_Plot_Collect = os.path.expanduser(\n",
    "    f\"~/EnvPBGEM_NC/SimSave/P2_R9_Dim/Run_On_NewBranch_NC/{purpose_i}/Post_Processing/Plot_Collect\") \n",
    "df_succeed_Full = Copy_png(Path_Results, purpose_i, Path_Plot_Collect,\n",
    "    rows_per_file=1, Scan_end_end=270)\n",
    "\n",
    "BasicPath = os.path.expanduser(\n",
    "    f\"~/EnvPBGEM_NC/SimSave/P2_R9_Dim/Run_On_NewBranch_NC/{purpose_i}/\") \n",
    "df_fail_Full = df_succeed_Full[df_succeed_Full[\"Succeed\"] == False]\n",
    "df_fail_Full"
   ]
  },
  {
   "cell_type": "code",
   "execution_count": 50,
   "metadata": {},
   "outputs": [],
   "source": [
    "df_fail_Full.to_csv(BasicPath + f\"{purpose_i}_Fail_case.csv\")"
   ]
  },
  {
   "cell_type": "code",
   "execution_count": 52,
   "metadata": {},
   "outputs": [
    {
     "name": "stdout",
     "output_type": "stream",
     "text": [
      "Number of failed cases for Full_Exp2_NC_SA: 3\n"
     ]
    }
   ],
   "source": [
    "print(f\"Number of failed cases for {purpose_i}: {df_fail_Full.shape[0]}\")"
   ]
  }
 ],
 "metadata": {
  "kernelspec": {
   "display_name": "EnvPBGEM_NC",
   "language": "python",
   "name": "python3"
  },
  "language_info": {
   "codemirror_mode": {
    "name": "ipython",
    "version": 3
   },
   "file_extension": ".py",
   "mimetype": "text/x-python",
   "name": "python",
   "nbconvert_exporter": "python",
   "pygments_lexer": "ipython3",
   "version": "3.10.12"
  }
 },
 "nbformat": 4,
 "nbformat_minor": 2
}
