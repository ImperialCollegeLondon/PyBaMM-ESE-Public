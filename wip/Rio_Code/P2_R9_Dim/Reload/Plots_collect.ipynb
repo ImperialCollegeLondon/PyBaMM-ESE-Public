{
 "cells": [
  {
   "cell_type": "code",
   "execution_count": 1,
   "metadata": {},
   "outputs": [],
   "source": [
    "# magic lines that avoid re-start \n",
    "%load_ext autoreload\n",
    "%autoreload 2"
   ]
  },
  {
   "cell_type": "code",
   "execution_count": 2,
   "metadata": {},
   "outputs": [],
   "source": [
    "import pybamm as pb;import pandas as pd   ;import numpy as np;\n",
    "import os; import seaborn as sns\n",
    "import matplotlib.pyplot as plt;import os;import imageio\n",
    "from scipy.io import savemat,loadmat;from pybamm import constants,exp;import matplotlib as mpl; fs=17; # or we can set import matplotlib.pyplot as plt then say 'mpl.rc...'\n",
    "import openpyxl\n",
    "import traceback\n",
    "import multiprocessing\n",
    "import scipy.optimize\n",
    "import timeit\n",
    "import random;import time, signal\n",
    "fs=17; # python -m ipykernel install --user --name=EnvPBGEM_Linux --display-name \"Python_Linux\"\n",
    "font = {'family' : 'DejaVu Sans','size'   : fs}\n",
    "mpl.rc('font', **font)"
   ]
  },
  {
   "cell_type": "code",
   "execution_count": 3,
   "metadata": {},
   "outputs": [],
   "source": [
    "import shutil\n",
    "def Move_png(BasicPath,rows_per_file,Scan_end_end,purpose_i):\n",
    "    source_folders = []\n",
    "    for i_bundle in range(int(Scan_end_end/rows_per_file)):\n",
    "        Scan_start = (i_bundle)*rows_per_file+1;    \n",
    "        Scan_end   = min(Scan_start + rows_per_file-1, Scan_end_end)    \n",
    "        purpose = f\"{purpose_i}_Case_{Scan_start}_{Scan_end}\"\n",
    "        source_folders.append(purpose)\n",
    "        #print(purpose)\n",
    "\n",
    "    # Create the Plot_Collect folder if it doesn't exist\n",
    "    plot_collect_directory = os.path.join(BasicPath, \"Plot_Collect\")\n",
    "    os.makedirs(plot_collect_directory, exist_ok=True)\n",
    "\n",
    "    # Move the .png files to the Plot_Collect folder\n",
    "    for folder in source_folders:\n",
    "        plots_directory = os.path.join(BasicPath, folder, \"Plots\")\n",
    "        if os.path.exists(plots_directory):\n",
    "            for filename in os.listdir(plots_directory):\n",
    "                if filename.startswith(\"0_\") and filename.endswith(\".png\"):\n",
    "                    source_file = os.path.join(plots_directory, filename)\n",
    "                    destination_file = os.path.join(plot_collect_directory, filename)\n",
    "                    shutil.move(source_file, destination_file)\n",
    "    return \n",
    "\n",
    "def Copy_png(BasicPath,Save_path,i_0,):\n",
    "    i_list = [i_0 + 108 * k for k in range(6)]\n",
    "\n",
    "    # Create the i_0 folder under Save_path\n",
    "    i_0_folder = os.path.join(Save_path, str(i_0))\n",
    "    os.makedirs(i_0_folder, exist_ok=True)\n",
    "\n",
    "    # Copy and paste the .png files into the i_0 folder\n",
    "    for i_j in i_list:\n",
    "        prefix = f\"0_Scan_{i_j}-\"\n",
    "        try:\n",
    "            source_files = [filename for filename in os.listdir(BasicPath) if filename.startswith(prefix) and filename.endswith(\".png\")]\n",
    "            for source_file in source_files:\n",
    "                source_path = os.path.join(BasicPath, source_file)\n",
    "                destination_path = os.path.join(i_0_folder, source_file)\n",
    "                shutil.copy(source_path, destination_path)\n",
    "        except FileNotFoundError:\n",
    "            pass\n",
    "        else:\n",
    "            print(\"Finish copying\")\n",
    "    "
   ]
  },
  {
   "cell_type": "code",
   "execution_count": 9,
   "metadata": {},
   "outputs": [],
   "source": [
    "BasicPath = os.path.expanduser(\"~/EnvPBGEM_Linux/SimSave/P2_R9_Dim/SEI_Dry_Exp23_Paper_2_mesh/\")\n",
    "rows_per_file = 3;  Scan_end_end = 24;\n",
    "purpose_i = \"SEI_Dry_Exp23_Paper_2_mesh\"\n",
    "Move_png(BasicPath,rows_per_file,Scan_end_end,purpose_i)"
   ]
  },
  {
   "cell_type": "code",
   "execution_count": 39,
   "metadata": {},
   "outputs": [],
   "source": [
    "BasicPath = os.path.expanduser(\"~/EnvPBGEM_Linux/SimSave/P2_R9_Dim/SEI/SEI_2_Exp23\")\n",
    "rows_per_file = 3;  Scan_end_end = 150;\n",
    "purpose_i = \"SEI_2_Exp23\"\n",
    "Move_png(BasicPath,rows_per_file,Scan_end_end,purpose_i)"
   ]
  },
  {
   "cell_type": "code",
   "execution_count": 38,
   "metadata": {},
   "outputs": [
    {
     "name": "stdout",
     "output_type": "stream",
     "text": [
      "Finish copying\n",
      "Finish copying\n",
      "Finish copying\n",
      "Finish copying\n",
      "Finish copying\n",
      "Finish copying\n"
     ]
    }
   ],
   "source": [
    "i_0 =41\n",
    "BasicPath = os.path.expanduser(\n",
    "    \"~/EnvPBGEM_Linux/SimSave/P2_R9_Dim/Full/Full_5_Exp23/Plot_Collect\")\n",
    "Save_path = os.path.expanduser(\n",
    "    \"~/EnvPBGEM_Linux/SimSave/P2_R9_Dim/Full/Full_5_Exp23/special\")\n",
    "Copy_png(BasicPath,Save_path,i_0,)\n"
   ]
  }
 ],
 "metadata": {
  "kernelspec": {
   "display_name": "envPBGEM",
   "language": "python",
   "name": "python3"
  },
  "language_info": {
   "codemirror_mode": {
    "name": "ipython",
    "version": 3
   },
   "file_extension": ".py",
   "mimetype": "text/x-python",
   "name": "python",
   "nbconvert_exporter": "python",
   "pygments_lexer": "ipython3",
   "version": "3.10.6"
  },
  "orig_nbformat": 4,
  "vscode": {
   "interpreter": {
    "hash": "83fab7fbb3a8fe7b5910804f702478ef63e2cc6a08d85072a5d68865ed0fd8c7"
   }
  }
 },
 "nbformat": 4,
 "nbformat_minor": 2
}
