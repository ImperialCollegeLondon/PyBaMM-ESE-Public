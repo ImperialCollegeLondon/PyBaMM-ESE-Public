{
 "cells": [
  {
   "cell_type": "code",
   "execution_count": 33,
   "metadata": {},
   "outputs": [],
   "source": [
    "Q_Loss = 5-4.86491\n",
    "F= 96485.33212\n",
    "z_sei = 2\n",
    "V_neg = 8.52e-5 * 1.58 * 0.065\n",
    "Sr = 2 * 2e-8*1.5e-8*3.18e15 + 1\n",
    "V_SEI_bar = 9.85e-5\n",
    "a_neg = 3*0.75/5.86e-06\n"
   ]
  },
  {
   "cell_type": "code",
   "execution_count": 54,
   "metadata": {},
   "outputs": [
    {
     "name": "stdout",
     "output_type": "stream",
     "text": [
      "{'Neg': 1}\n"
     ]
    }
   ],
   "source": [
    "aa = {}\n",
    "aa[\"Neg\"] = 1\n",
    "print(aa)"
   ]
  },
  {
   "cell_type": "code",
   "execution_count": 36,
   "metadata": {},
   "outputs": [
    {
     "name": "stdout",
     "output_type": "stream",
     "text": [
      "1.2704316446291918e-08\n",
      "5.15911499515315e-09\n"
     ]
    }
   ],
   "source": [
    "delta_SEI = (\n",
    "    3600*Q_Loss*V_SEI_bar\n",
    "    /\n",
    "    (\n",
    "        F*z_sei *   Sr*a_neg*V_neg\n",
    "    ) / 2\n",
    ")\n",
    "print(delta_SEI)\n",
    "# print(delta_SEI+2.5e-9)\n",
    "print(calculate_initial_SEI_thickness(4e-5))"
   ]
  },
  {
   "cell_type": "code",
   "execution_count": 55,
   "metadata": {},
   "outputs": [],
   "source": [
    "import pybamm as pb"
   ]
  },
  {
   "cell_type": "code",
   "execution_count": 70,
   "metadata": {},
   "outputs": [
    {
     "name": "stdout",
     "output_type": "stream",
     "text": [
      "1.23625e-08 0.21289519\n",
      "Has Overwritten Initial outer SEI thickness [m] to be 1.24e-08 and Negative electrode porosity to be 0.222 to account for initial capacity loss of 0.135 Ah\n"
     ]
    }
   ],
   "source": [
    "# Write a version to insert into Para_init:\n",
    "\n",
    "Para_0=pb.ParameterValues(\"OKane2023\" )\n",
    "print(Para_0[\"Initial outer SEI thickness [m]\"],Para_0[\"Negative electrode porosity\"] )\n",
    "def Overwrite_Initial_L_SEI_0_Neg_Porosity(Para_0,cap_loss):\n",
    "    \"\"\" \n",
    "    This is to overwrite the initial negative electrode porosity \n",
    "    and initial SEI thickness (inner, outer) to be consistent \n",
    "    with the initial capacity loss \n",
    "    \"\"\"\n",
    "    # cap_loss = 5 - 4.86491\n",
    "    delta_Q_SEI = cap_loss * 3600\n",
    "    V_SEI = Para_0[\"Outer SEI partial molar volume [m3.mol-1]\"] \n",
    "    # do this when finish updating\n",
    "    F = 96485.3\n",
    "    A = Para_0[\"Electrode width [m]\"] * Para_0[\"Electrode height [m]\"]\n",
    "    z_SEI = Para_0[\"Ratio of lithium moles to SEI moles\"] \n",
    "    L_neg = Para_0[\"Negative electrode thickness [m]\"] \n",
    "    eps_act_neg = Para_0[\"Negative electrode active material volume fraction\"]\n",
    "    R_neg =   Para_0[\"Negative particle radius [m]\"]\n",
    "    l_cr_init = Para_0[\"Negative electrode initial crack length [m]\"]\n",
    "    w_cr = Para_0[\"Negative electrode initial crack width [m]\"]\n",
    "    rho_cr = Para_0[\"Negative electrode number of cracks per unit area [m-2]\"]\n",
    "    a_neg = (3 * eps_act_neg / R_neg)\n",
    "    roughness = 1 + 2 * l_cr_init * w_cr * rho_cr\n",
    "    L_SEI_init = delta_Q_SEI  * V_SEI / (\n",
    "        z_SEI * F * A * L_neg * a_neg * roughness)\n",
    "\n",
    "    delta_epi = (L_SEI_init ) * roughness * a_neg\n",
    "    L_inner_init = L_SEI_init / 2\n",
    "    epi = 0.25 - delta_epi\n",
    "    # print(L_inner_init,epi)\n",
    "    # important: update here!\n",
    "    Para_0[\"Negative electrode porosity\"] = epi\n",
    "    Para_0[\"Initial outer SEI thickness [m]\"] = L_inner_init\n",
    "    Para_0[\"Initial inner SEI thickness [m]\"] = L_inner_init\n",
    "    print(f\"Has Overwritten Initial outer SEI thickness [m] to be {L_inner_init:.2e} and Negative electrode porosity to be {epi:.3f} to account for initial capacity loss of {cap_loss:.3f} Ah\")\n",
    "\n",
    "    return Para_0\n",
    "\n",
    "cap_loss = 5 - 4.86491\n",
    "Para_0 = Overwrite_Initial_L_SEI_0_Neg_Porosity(Para_0,cap_loss)"
   ]
  },
  {
   "cell_type": "code",
   "execution_count": 59,
   "metadata": {},
   "outputs": [
    {
     "name": "stdout",
     "output_type": "stream",
     "text": [
      "1.2362529307135732e-08 0.22239316407624946\n"
     ]
    }
   ],
   "source": [
    "# from Simon:\n",
    "def calculate_initial_SEI_thickness(V_SEI):\n",
    "    delta_Q_SEI = 3.6 * (5000 - 4864.91)\n",
    "    F = 96485.3\n",
    "    A = 1.58 * 0.065\n",
    "    z_SEI = 2\n",
    "    L_neg = 8.52e-5\n",
    "    eps_act_neg = 0.75\n",
    "    R_neg = 5.86e-6\n",
    "    l_cr_init = 2e-8\n",
    "    w_cr = 1.5e-8\n",
    "    rho_cr = 3.18e15\n",
    "    a_neg = (3 * eps_act_neg / R_neg)\n",
    "    roughness = 1 + 2 * l_cr_init * w_cr * rho_cr\n",
    "    L_SEI_init = delta_Q_SEI  * V_SEI / (\n",
    "        z_SEI * F * A * L_neg * a_neg * roughness\n",
    "    )\n",
    "    delta_epi = (L_SEI_init ) * roughness * a_neg\n",
    "    L_inner_init = L_SEI_init / 2\n",
    "    epi = 0.25 - delta_epi\n",
    "    return L_inner_init,epi\n",
    "L_inner_init,epi = calculate_initial_SEI_thickness(9.585e-5)\n",
    "print(L_inner_init,epi )"
   ]
  }
 ],
 "metadata": {
  "kernelspec": {
   "display_name": "EnvPBGEM_Linux",
   "language": "python",
   "name": "python3"
  },
  "language_info": {
   "codemirror_mode": {
    "name": "ipython",
    "version": 3
   },
   "file_extension": ".py",
   "mimetype": "text/x-python",
   "name": "python",
   "nbconvert_exporter": "python",
   "pygments_lexer": "ipython3",
   "version": "3.10.12"
  },
  "orig_nbformat": 4
 },
 "nbformat": 4,
 "nbformat_minor": 2
}
