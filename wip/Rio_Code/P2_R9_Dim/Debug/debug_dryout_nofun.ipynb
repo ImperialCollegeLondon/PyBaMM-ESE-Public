{
 "cells": [
  {
   "attachments": {},
   "cell_type": "markdown",
   "metadata": {},
   "source": [
    "# Due to one of the sweeping, found that electrolyte consumption just happen ridicously quick during RPT, even with very low V_EC, which I don't understand! So need to focous on RPT now. "
   ]
  },
  {
   "cell_type": "code",
   "execution_count": 15,
   "metadata": {},
   "outputs": [
    {
     "name": "stdout",
     "output_type": "stream",
     "text": [
      "The autoreload extension is already loaded. To reload it, use:\n",
      "  %reload_ext autoreload\n"
     ]
    }
   ],
   "source": [
    "# magic lines that avoid re-start and load module\n",
    "%load_ext autoreload\n",
    "%autoreload 2\n",
    "import pybamm as pb;import pandas as pd   ;import numpy as np;\n",
    "import os;\n",
    "import matplotlib.pyplot as plt;import os;#import imageio\n",
    "from scipy.io import savemat,loadmat;from pybamm import constants,exp;import matplotlib as mpl; fs=17; # or we can set import matplotlib.pyplot as plt then say 'mpl.rc...'\n",
    "import openpyxl\n",
    "import traceback\n",
    "import multiprocessing\n",
    "import scipy.optimize\n",
    "import timeit\n",
    "import random;import time, signal\n",
    "fs=17;\n",
    "font = {'family' : 'DejaVu Sans','size'   : fs}\n",
    "mpl.rc('font', **font)"
   ]
  },
  {
   "cell_type": "code",
   "execution_count": 16,
   "metadata": {},
   "outputs": [],
   "source": [
    "# Set Experiment : Exp-2\n",
    "#########  Actively sweep parameters  ##############\n",
    "Para_active = {\n",
    "   \"Ageing temperature\":[25,], # 25, 40 \n",
    "   \"Initial electrolyte excessive amount ratio\":[ 1.01], # set to <1 for DryOut=Off\n",
    "   # rate of dry-out:\n",
    "   \"EC partial molar volume [m3.mol-1]\":[4.8e-5,] ,\n",
    "   # interstitial-diffusion limited\n",
    "   'Inner SEI lithium interstitial diffusivity [m2.s-1]':[3e-20],    \n",
    "   # LiP and coupling with SEI:\n",
    "   \"Dead lithium decay constant [s-1]\":[ 1e-6,],            # default: 1e-6\n",
    "   'Lithium plating kinetic rate constant [m.s-1]':[1E-10], # default: 1e-9\n",
    "   # Crack model\n",
    "   \"Negative electrode LAM constant proportional term [s-1]\":[ 1e-8], # default: 2.7778e-07\n",
    "   \"Positive electrode LAM constant proportional term [s-1]\":[ 1e-16,], # default: 2.7778e-07\n",
    "   \"Negative electrode cracking rate\":[ 1e-20,],   # default: function, ~3.9e-20 \n",
    "}"
   ]
  },
  {
   "cell_type": "code",
   "execution_count": 17,
   "metadata": {},
   "outputs": [
    {
     "name": "stdout",
     "output_type": "stream",
     "text": [
      "Total scan case is 1\n"
     ]
    }
   ],
   "source": [
    "# Inactively sweep parameters\n",
    "Para_dict_Same = {\n",
    "   #\"Positive electrode cracking rate\":[ 1e-22,],   # default: function, ~3.9e-20 \n",
    "   \"Cycles within RPT\":[1,],\n",
    "   \"RPT temperature\":[25,],\n",
    "   \"Mesh list\":[[5,5,5,60,20],],   # Simon uses 30\n",
    "   \"Para_Set\":[ \"OKane2023\",], # Li2023_Coupled\n",
    "   \"Model option\":[\n",
    "      {\n",
    "         \"contact resistance\": \"true\",\n",
    "         \"open-circuit potential\": \"current sigmoid\",\n",
    "         \"thermal\": \"lumped\",\n",
    "         \"SEI\": \"interstitial-diffusion limited\",\n",
    "         \"SEI on cracks\": \"true\",\n",
    "         \"SEI film resistance\": \"distributed\", \n",
    "         \"SEI porosity change\": \"true\",\n",
    "         \"particle mechanics\": (\"swelling and cracking\", \"swelling only\"),\n",
    "         \"loss of active material\": \"stress-driven\",\n",
    "         \"lithium plating\": \"partially reversible\",\n",
    "      },\n",
    "      ],\n",
    "   \"Contact resistance [Ohm]\": [0.0105,],   \n",
    "   \"Current solvent concentration in the reservoir [mol.m-3]\":[4541.0,],\n",
    "   \"Current electrolyte concentration in the reservoir [mol.m-3]\":[1000,],\n",
    "   \"Ratio of Li-ion concentration change in electrolyte consider solvent consumption\":[1.0,],\n",
    "   'EC initial concentration in electrolyte [mol.m-3]':[4541.0,],\n",
    "   'Typical EC concentration in electrolyte [mol.m-3]':[4541.0,], # Mark Ruihe change, act as an initial value here\n",
    "}\n",
    "Para_dict_All = {**Para_dict_Same,**Para_active}\n",
    "Para_dict_list = []\n",
    "def recursive_scan(mylist,kvs, key_list, acc):\n",
    "    if len(key_list) == 0:\n",
    "        mylist.append(acc.copy())  \n",
    "        return mylist\n",
    "    k = key_list[0]\n",
    "    for v in kvs[k]:\n",
    "        acc[k] = v\n",
    "        # print(v)\n",
    "        recursive_scan(mylist,kvs, key_list[1:], acc)\n",
    "\n",
    "recursive_scan(Para_dict_list,Para_dict_All, list(Para_dict_All.keys()), {})\n",
    "print(f\"Total scan case is {len(Para_dict_list)}\")"
   ]
  },
  {
   "cell_type": "code",
   "execution_count": 18,
   "metadata": {},
   "outputs": [],
   "source": [
    "# define expeirment\n",
    "V_max = 4.2;        V_min = 2.5; \n",
    "exp_RPT_text = [ (\n",
    "    # refill\n",
    "    f\"Hold at {V_max}V until C/100\",\n",
    "    \"Rest for 1 hours (20 minute period)\", \n",
    "    # 0.1C cycle \n",
    "    f\"Discharge at 0.1C until {V_min} V (30 minute period)\",  \n",
    "    \"Rest for 3 hours (20 minute period)\",  \n",
    "    f\"Charge at 0.1C until {V_max} V (30 minute period)\",\n",
    "    f\"Hold at {V_max}V until C/100\",\n",
    "    \"Rest for 1 hours (20 minute period)\",\n",
    "    # 0.5C cycle \n",
    "    f\"Discharge at 0.5C until {V_min} V (6 minute period)\",  \n",
    "    \"Rest for 3 hours (20 minute period)\",\n",
    "    f\"Charge at 0.5C until {V_max} V (6 minute period)\",\n",
    "    f\"Hold at {V_max}V until C/100\",\n",
    "    \"Rest for 3 hours (20 minute period)\",  \n",
    "    ) ] * 1\n",
    "# step index for RPT\n",
    "step_0p1C_CD = 2; step_0p1C_CC = 4;   step_0p1C_RE =3;    \n",
    "step_0p5C_CD = 7;  "
   ]
  },
  {
   "cell_type": "code",
   "execution_count": 21,
   "metadata": {},
   "outputs": [
    {
     "name": "stderr",
     "output_type": "stream",
     "text": [
      "At t = 1311.32 and h = 8.76289e-11, the corrector convergence failed repeatedly or with |h| = hmin.\n"
     ]
    }
   ],
   "source": [
    "Experiment_RPT    = pb.Experiment( exp_RPT_text*1 ) \n",
    "Experiment_Breakin= Experiment_RPT\n",
    "Para_dict_i = Para_dict_list[0]\n",
    "Scan_i = 1\n",
    "def Para_init(Para_dict):\n",
    "    Para_dict_used = Para_dict.copy();\n",
    "    Para_0=pb.ParameterValues(Para_dict_used[\"Para_Set\"]  )\n",
    "    Para_dict_used.pop(\"Para_Set\")\n",
    "\n",
    "    if Para_dict_used.__contains__(\"Total ageing cycles\"):\n",
    "        Total_Cycles = Para_dict_used[\"Total ageing cycles\"]  \n",
    "        Para_dict_used.pop(\"Total ageing cycles\")\n",
    "    if Para_dict_used.__contains__(\"Ageing cycles between RPT\"):\n",
    "        Cycle_bt_RPT = Para_dict_used[\"Ageing cycles between RPT\"]  \n",
    "        Para_dict_used.pop(\"Ageing cycles between RPT\")\n",
    "    if Para_dict_used.__contains__(\"Update cycles for ageing\"):\n",
    "        Update_Cycles = Para_dict_used[\"Update cycles for ageing\"]  \n",
    "        Para_dict_used.pop(\"Update cycles for ageing\")\n",
    "    if Para_dict_used.__contains__(\"Cycles within RPT\"):\n",
    "        RPT_Cycles = Para_dict_used[\"Cycles within RPT\"]  \n",
    "        Para_dict_used.pop(\"Cycles within RPT\")\n",
    "    if Para_dict_used.__contains__(\"Ageing temperature\"):\n",
    "        Temper_i = Para_dict_used[\"Ageing temperature\"]  + 273.15 # update: change to K\n",
    "        Para_dict_used.pop(\"Ageing temperature\")\n",
    "    if Para_dict_used.__contains__(\"RPT temperature\"):\n",
    "        Temper_RPT = Para_dict_used[\"RPT temperature\"] + 273.15 # update: change to K \n",
    "        Para_dict_used.pop(\"RPT temperature\")\n",
    "    if Para_dict_used.__contains__(\"Mesh list\"):\n",
    "        mesh_list = Para_dict_used[\"Mesh list\"]  \n",
    "        Para_dict_used.pop(\"Mesh list\")\n",
    "    if Para_dict_used.__contains__(\"Exponential mesh stretch\"):\n",
    "        submesh_strech = Para_dict_used[\"Exponential mesh stretch\"]  \n",
    "        Para_dict_used.pop(\"Exponential mesh stretch\")\n",
    "    else:\n",
    "        submesh_strech = \"nan\";\n",
    "    if Para_dict_used.__contains__(\"Model option\"):\n",
    "        model_options = Para_dict_used[\"Model option\"]  \n",
    "        Para_dict_used.pop(\"Model option\")\n",
    "\n",
    "    if Para_dict_used.__contains__(\"Initial Neg SOC\"):\n",
    "        c_Neg1SOC_in = (\n",
    "            Para_0[\"Maximum concentration in negative electrode [mol.m-3]\"]\n",
    "            *Para_dict_used[\"Initial Neg SOC\"]  )\n",
    "        Para_0.update(\n",
    "            {\"Initial concentration in negative electrode [mol.m-3]\":\n",
    "            c_Neg1SOC_in})\n",
    "        Para_dict_used.pop(\"Initial Neg SOC\")\n",
    "    if Para_dict_used.__contains__(\"Initial Pos SOC\"):    \n",
    "        c_Pos1SOC_in = (\n",
    "            Para_0[\"Maximum concentration in positive electrode [mol.m-3]\"]\n",
    "            *Para_dict_used[\"Initial Pos SOC\"]  )\n",
    "        Para_0.update(\n",
    "            {\"Initial concentration in positive electrode [mol.m-3]\":\n",
    "            c_Pos1SOC_in})\n",
    "        Para_dict_used.pop(\"Initial Pos SOC\")\n",
    "\n",
    "    CyclePack = [ \n",
    "        Temper_i,Temper_RPT,mesh_list,submesh_strech,model_options];\n",
    "    # Mark Ruihe - updated 230222 - from P3\n",
    "    for key, value in Para_dict_used.items():\n",
    "        # risk: will update parameter that doesn't exist, \n",
    "        # so need to make sure the name is right \n",
    "        if isinstance(value, str):\n",
    "            Para_0.update({key: eval(value)})\n",
    "            #Para_dict_used.pop(key)\n",
    "        else:\n",
    "            Para_0.update({key: value},check_already_exists=False)\n",
    "\n",
    "    return CyclePack,Para_0\n",
    "\n",
    "CyclePack,Para_0 = Para_init(Para_dict_i)\n",
    "[\n",
    "    Temper_i,Temper_RPT,mesh_list,\n",
    "    submesh_strech,model_options] = CyclePack\n",
    "\n",
    "temp_Int_ElelyExces_Ratio =  Para_0[\n",
    "    \"Initial electrolyte excessive amount ratio\"] \n",
    "ce_EC_0 = Para_0['EC initial concentration in electrolyte [mol.m-3]'] \n",
    "\n",
    "Model_0 = pb.lithium_ion.DFN(options=model_options ) #\n",
    "var = pb.standard_spatial_vars  \n",
    "var_pts = {\n",
    "    var.x_n: int(mesh_list[0]),  \n",
    "    var.x_s: int(mesh_list[1]),  \n",
    "    var.x_p: int(mesh_list[2]),  \n",
    "    var.r_n: int(mesh_list[3]),  \n",
    "    var.r_p: int(mesh_list[4]),  }       \n",
    "Sim_0    = pb.Simulation(\n",
    "    Model_0,        experiment = Experiment_Breakin,\n",
    "    parameter_values = Para_0,\n",
    "    solver = pb.CasadiSolver(),\n",
    "    var_pts=var_pts,) \n",
    "Sol_0    = Sim_0.solve(calc_esoh=False)"
   ]
  },
  {
   "cell_type": "code",
   "execution_count": 22,
   "metadata": {},
   "outputs": [
    {
     "data": {
      "text/plain": [
       "[<matplotlib.lines.Line2D at 0x7fd1f2b1a290>]"
      ]
     },
     "execution_count": 22,
     "metadata": {},
     "output_type": "execute_result"
    },
    {
     "data": {
      "image/png": "[encoded data removed]",
      "text/plain": [
       "<Figure size 640x480 with 1 Axes>"
      ]
     },
     "metadata": {},
     "output_type": "display_data"
    }
   ],
   "source": [
    "plt.plot(Sol_0[\"Loss of capacity to SEI [A.h]\"].entries)"
   ]
  }
 ],
 "metadata": {
  "kernelspec": {
   "display_name": "envPBGEM",
   "language": "python",
   "name": "python3"
  },
  "language_info": {
   "codemirror_mode": {
    "name": "ipython",
    "version": 3
   },
   "file_extension": ".py",
   "mimetype": "text/x-python",
   "name": "python",
   "nbconvert_exporter": "python",
   "pygments_lexer": "ipython3",
   "version": "3.10.6"
  },
  "orig_nbformat": 4
 },
 "nbformat": 4,
 "nbformat_minor": 2
}
