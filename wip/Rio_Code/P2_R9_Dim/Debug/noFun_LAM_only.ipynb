{
 "cells": [
  {
   "attachments": {},
   "cell_type": "markdown",
   "metadata": {},
   "source": [
    "# if there is only stress-driven LAM, will LLI happen? - Yes! it will induce LLI from particle"
   ]
  },
  {
   "cell_type": "code",
   "execution_count": 36,
   "metadata": {},
   "outputs": [
    {
     "name": "stdout",
     "output_type": "stream",
     "text": [
      "The autoreload extension is already loaded. To reload it, use:\n",
      "  %reload_ext autoreload\n"
     ]
    }
   ],
   "source": [
    "# magic lines that avoid re-start \n",
    "%load_ext autoreload\n",
    "%autoreload 2"
   ]
  },
  {
   "cell_type": "code",
   "execution_count": 37,
   "metadata": {},
   "outputs": [],
   "source": [
    "import pybamm as pb;import pandas as pd   ;import numpy as np;import os;import matplotlib.pyplot as plt;import os;#import imageio\n",
    "from scipy.io import savemat,loadmat;from pybamm import constants,exp;import matplotlib as mpl; # or we can set import matplotlib.pyplot as plt then say 'mpl.rc...'\n",
    "import openpyxl\n",
    "import traceback\n",
    "import multiprocessing\n",
    "import scipy.optimize\n",
    "import random;import time, signal\n",
    "fs=10;\n",
    "font = {'family' : 'DejaVu Sans','size'   : fs}\n",
    "mpl.rc('font', **font)\n",
    "\n",
    "BasicPath =  os.path.expanduser(\"~/EnvPBGEM_Linux/SimSave/P2_R9_Dim\")\n",
    "import sys  \n",
    "str_path_0 = os.path.abspath(os.path.join(pb.__path__[0],'..'))\n",
    "str_path_1 = os.path.abspath(os.path.join(str_path_0,\"wip/Rio_Code/Fun_P2\"))\n",
    "sys.path.append(str_path_1) \n",
    "from Fun_P2 import * # directly do this for HPC"
   ]
  },
  {
   "cell_type": "code",
   "execution_count": 38,
   "metadata": {},
   "outputs": [],
   "source": [
    "model = pb.lithium_ion.DFN(\n",
    "    options={\n",
    "        \"contact resistance\": \"true\",\n",
    "        \"open-circuit potential\": \"current sigmoid\",\n",
    "        \"thermal\": \"lumped\",\n",
    "        \"particle mechanics\":  \"constant cracks\",\n",
    "        \"loss of active material\": \"stress-driven\",}, )\n",
    "T_All = [25,]\n",
    "Para_All = []\n",
    "for T in T_All:\n",
    "    param = pb.ParameterValues(\"OKane2023\")\n",
    "    para_dict = {\n",
    "        \"Positive electrode LAM constant proportional term [s-1]\": 4e-6,\n",
    "        'Negative electrode LAM constant proportional term [s-1]':1e-8,\n",
    "        'Total heat transfer coefficient [W.m-2.K-1]':15,\n",
    "        \"Negative electrode diffusivity activation energy [J.mol-1]\":1.7e4,\n",
    "        \"Positive electrode diffusivity activation energy [J.mol-1]\":1.2e4,\n",
    "    }\n",
    "    for key, value in para_dict.items():\n",
    "        param.update({key: value})\n",
    "    param.update({'Ambient temperature [K]': T+273.15})\n",
    "    Para_All.append(param)\n",
    "V_max = 4.2;        V_min = 2.5; Update_Cycles = 1\n",
    "discharge_time_mins = 0.15* 60 * 4.86491/5\n",
    "charge_time_mins = 0.5* 60 * 4.86491/5\n",
    "exp_AGE_text = [ (\n",
    "    f\"Discharge at 1C for {discharge_time_mins} minutes or until {V_min}V\", \n",
    "    f\"Charge at 0.3C for {charge_time_mins} minutes or until {V_max}V\", \n",
    "    ) ] \n",
    "Experiment_Long   = pb.Experiment( exp_AGE_text * Update_Cycles  )\n",
    "var_pts = {\n",
    "    \"x_n\": 5,  # negative electrode\n",
    "    \"x_s\": 5,  # separator \n",
    "    \"x_p\": 5,  # positive electrode\n",
    "    \"r_n\": 60,  # negative particle\n",
    "    \"r_p\": 20,  # positive particle\n",
    "}\n"
   ]
  },
  {
   "cell_type": "code",
   "execution_count": 39,
   "metadata": {},
   "outputs": [],
   "source": [
    "# CasadiSolver\n",
    "Sol = []\n",
    "for para in Para_All:\n",
    "    sim = pb.Simulation(\n",
    "        model, \n",
    "        experiment=Experiment_Long,\n",
    "        parameter_values=para,\n",
    "        solver=pb.CasadiSolver(return_solution_if_failed_early=True),\n",
    "        var_pts=var_pts,\n",
    "    )\n",
    "    sol = sim.solve(\n",
    "        calc_esoh=False,\n",
    "        save_at_cycles = Update_Cycles,\n",
    "    )\n",
    "    Sol.append(sol)"
   ]
  },
  {
   "cell_type": "code",
   "execution_count": 40,
   "metadata": {},
   "outputs": [
    {
     "name": "stdout",
     "output_type": "stream",
     "text": [
      "0.0017443694190006909\n",
      "0.00011450499481835408\n",
      "0.00010522820896774476\n"
     ]
    }
   ],
   "source": [
    "print(sol[\"Loss of lithium inventory, including electrolyte [%]\"].entries[-1])\n",
    "# \n",
    "print(\n",
    "    sol[\"Positive electrode capacity [A.h]\"].entries[0] - \n",
    "    sol[\"Positive electrode capacity [A.h]\"].entries[-1])\n",
    "print(\n",
    "    sol[\"Negative electrode capacity [A.h]\"].entries[0] - \n",
    "    sol[\"Negative electrode capacity [A.h]\"].entries[-1])"
   ]
  },
  {
   "cell_type": "code",
   "execution_count": 41,
   "metadata": {},
   "outputs": [
    {
     "name": "stdout",
     "output_type": "stream",
     "text": [
      "4.5016701509803525e-06\n",
      "4.5016701509803525e-06\n",
      "8.673617379884035e-19\n",
      "0.0015675621583994825\n",
      "0.001838362490687473\n",
      "0.0\n"
     ]
    }
   ],
   "source": [
    "print(sol[\"Total lithium lost [mol]\"].entries[-1])\n",
    "print(sol[\"Total lithium lost from particles [mol]\"].entries[-1])\n",
    "print(sol[\"Total lithium lost from electrolyte [mol]\"].entries[-1])\n",
    "print(sol[\"Loss of active material in positive electrode [%]\"].entries[-1])\n",
    "print(sol[\"Loss of active material in negative electrode [%]\"].entries[-1])\n",
    "print(sol[\"Total capacity lost to side reactions [A.h]\"].entries[-1])"
   ]
  },
  {
   "cell_type": "code",
   "execution_count": 42,
   "metadata": {},
   "outputs": [
    {
     "data": {
      "text/plain": [
       "Text(0, 0.5, 'Capacity loss [A.h]')"
      ]
     },
     "execution_count": 42,
     "metadata": {},
     "output_type": "execute_result"
    },
    {
     "data": {
      "image/png": "[encoded data removed]",
      "text/plain": [
       "<Figure size 600x400 with 1 Axes>"
      ]
     },
     "metadata": {},
     "output_type": "display_data"
    }
   ],
   "source": [
    "font = {'family' : 'DejaVu Sans','size'   : 14}\n",
    "mpl.rc('font', **font)\n",
    "fig, axs = plt.subplots(figsize=(6,4),tight_layout=True)\n",
    "for T,sol in zip(T_All,Sol):\n",
    "    axs.plot(\n",
    "        sol[\"Time [h]\"].entries-sol[\"Time [h]\"].entries[0],\n",
    "        sol[\"Total capacity lost to side reactions [A.h]\"].entries,\n",
    "        label = f\"T={T}degC\"\n",
    "        )\n",
    "axs.legend()\n",
    "axs.set_xlabel(\"Time [h]\")\n",
    "axs.set_ylabel(r'Capacity loss [A.h]')"
   ]
  }
 ],
 "metadata": {
  "kernelspec": {
   "display_name": "envPBGEM",
   "language": "python",
   "name": "python3"
  },
  "language_info": {
   "codemirror_mode": {
    "name": "ipython",
    "version": 3
   },
   "file_extension": ".py",
   "mimetype": "text/x-python",
   "name": "python",
   "nbconvert_exporter": "python",
   "pygments_lexer": "ipython3",
   "version": "3.10.6"
  },
  "orig_nbformat": 4,
  "vscode": {
   "interpreter": {
    "hash": "83fab7fbb3a8fe7b5910804f702478ef63e2cc6a08d85072a5d68865ed0fd8c7"
   }
  }
 },
 "nbformat": 4,
 "nbformat_minor": 2
}
