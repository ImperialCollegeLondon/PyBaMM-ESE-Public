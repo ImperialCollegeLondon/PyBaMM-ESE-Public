{
 "cells": [
  {
   "attachments": {},
   "cell_type": "markdown",
   "metadata": {},
   "source": [
    "# Check how activation energy of solid diffusivity change LiP"
   ]
  },
  {
   "cell_type": "code",
   "execution_count": 1,
   "metadata": {},
   "outputs": [],
   "source": [
    "# step-1: add activation energy of solid diffusivity\n",
    "# step-2: run model with only LiP and see what happen\n",
    "# step-3: add other mechanisms\n",
    "# step-4: run long cases"
   ]
  },
  {
   "cell_type": "code",
   "execution_count": 2,
   "metadata": {},
   "outputs": [],
   "source": [
    "# magic lines that avoid re-start \n",
    "%load_ext autoreload\n",
    "%autoreload 2"
   ]
  },
  {
   "cell_type": "code",
   "execution_count": 3,
   "metadata": {},
   "outputs": [],
   "source": [
    "import pybamm as pb;import pandas as pd   ;import numpy as np;import os;import matplotlib.pyplot as plt;import os;#import imageio\n",
    "from scipy.io import savemat,loadmat;from pybamm import constants,exp;import matplotlib as mpl; # or we can set import matplotlib.pyplot as plt then say 'mpl.rc...'\n",
    "import openpyxl\n",
    "import traceback\n",
    "import multiprocessing\n",
    "import scipy.optimize\n",
    "import random;import time, signal\n",
    "fs=10;\n",
    "font = {'family' : 'DejaVu Sans','size'   : fs}\n",
    "mpl.rc('font', **font)\n",
    "\n",
    "BasicPath =  os.path.expanduser(\"~/EnvPBGEM_Linux/SimSave/P2_R9_Dim\")\n",
    "import sys  \n",
    "str_path_0 = os.path.abspath(os.path.join(pb.__path__[0],'..'))\n",
    "str_path_1 = os.path.abspath(os.path.join(str_path_0,\"wip/Rio_Code/Fun_P2\"))\n",
    "sys.path.append(str_path_1) \n",
    "from Fun_P2 import * # directly do this for HPC"
   ]
  },
  {
   "cell_type": "code",
   "execution_count": 4,
   "metadata": {},
   "outputs": [],
   "source": [
    "model = pb.lithium_ion.DFN(\n",
    "    options={\n",
    "        \"contact resistance\": \"true\",\n",
    "        \"open-circuit potential\": \"current sigmoid\",\n",
    "        \"thermal\": \"lumped\",\n",
    "        \"SEI\": \"interstitial-diffusion limited\",\n",
    "        \"SEI on cracks\": \"true\",\n",
    "        \"SEI film resistance\": \"distributed\", \n",
    "        \"SEI porosity change\": \"true\",\n",
    "        \"particle mechanics\": \"constant cracks\",\n",
    "        \"loss of active material\": \"stress-driven\",\n",
    "        \"lithium plating\": \"partially reversible\",}, )\n",
    "T_All = [10,25,40]\n",
    "Para_All = []\n",
    "for T in T_All:\n",
    "    param = pb.ParameterValues(\"OKane2023\")\n",
    "    para_dict = {\n",
    "        \"Positive electrode LAM constant proportional term [s-1]\": 1e-16,\n",
    "        #\"Current solvent concentration in the reservoir [mol.m-3]\":4541.0,\n",
    "        #\"Current electrolyte concentration in the reservoir [mol.m-3]\":1000,\n",
    "        #\"Ratio of Li-ion concentration change in electrolyte consider solvent consumption\":1.0,\n",
    "        'EC initial concentration in electrolyte [mol.m-3]':4541.0,\n",
    "        #'Typical EC concentration in electrolyte [mol.m-3]':4541.0, \n",
    "\n",
    "        #'Initial electrolyte excessive amount ratio':1.0, \n",
    "        \"Ratio of lithium moles to SEI moles\":1.0,\n",
    "        \"Contact resistance [Ohm]\": 0.010,\n",
    "        'Inner SEI lithium interstitial diffusivity [m2.s-1]':3.E-20, \n",
    "        'Dead lithium decay constant [s-1]':1.0E-13,\n",
    "        'Lithium plating kinetic rate constant [m.s-1]':1E-14,\n",
    "        'Negative electrode LAM constant proportional term [s-1]':1E-9,\n",
    "        'Negative electrode cracking rate':1E-25,\n",
    "        'Outer SEI partial molar volume [m3.mol-1]':6.41E-05,\n",
    "        \"SEI growth activation energy [J.mol-1]\":2e4,\n",
    "        'Total heat transfer coefficient [W.m-2.K-1]':15,\n",
    "    }\n",
    "    for key, value in para_dict.items():\n",
    "        param.update({key: value})\n",
    "    param.update({'Ambient temperature [K]': T+273.15})\n",
    "    Para_All.append(param)\n",
    "V_max = 4.2;        V_min = 2.5; Update_Cycles = 1\n",
    "discharge_time_mins = 0.15* 60 * 4.86491/5\n",
    "charge_time_mins = 0.5* 60 * 4.86491/5\n",
    "exp_AGE_text = [ (\n",
    "    f\"Discharge at 1C for {discharge_time_mins} minutes or until {V_min}V\", \n",
    "    f\"Charge at 0.3C for {charge_time_mins} minutes or until {V_max}V\", \n",
    "    ) ] \n",
    "Experiment_Long   = pb.Experiment( exp_AGE_text * Update_Cycles  )\n",
    "var_pts = {\n",
    "    \"x_n\": 5,  # negative electrode\n",
    "    \"x_s\": 5,  # separator \n",
    "    \"x_p\": 5,  # positive electrode\n",
    "    \"r_n\": 60,  # negative particle\n",
    "    \"r_p\": 20,  # positive particle\n",
    "}\n"
   ]
  },
  {
   "cell_type": "code",
   "execution_count": 5,
   "metadata": {},
   "outputs": [
    {
     "name": "stderr",
     "output_type": "stream",
     "text": [
      "At t = 53.2448, , mxstep steps taken before reaching tout.\n",
      "At t = 53.2445, , mxstep steps taken before reaching tout.\n",
      "At t = 53.2435, , mxstep steps taken before reaching tout.\n",
      "At t = 53.2444, , mxstep steps taken before reaching tout.\n",
      "At t = 15.7427, , mxstep steps taken before reaching tout.\n",
      "At t = 15.7442, , mxstep steps taken before reaching tout.\n",
      "At t = 15.7427, , mxstep steps taken before reaching tout.\n",
      "At t = 15.7442, , mxstep steps taken before reaching tout.\n",
      "At t = 15.7443, , mxstep steps taken before reaching tout.\n",
      "At t = 15.7442, , mxstep steps taken before reaching tout.\n",
      "At t = 10.1254, , mxstep steps taken before reaching tout.\n",
      "At t = 10.1253, , mxstep steps taken before reaching tout.\n",
      "At t = 10.1253, , mxstep steps taken before reaching tout.\n",
      "At t = 10.1254, , mxstep steps taken before reaching tout.\n",
      "At t = 10.1253, , mxstep steps taken before reaching tout.\n",
      "At t = 10.1252, , mxstep steps taken before reaching tout.\n",
      "2023-06-30 23:55:11.028 - [ERROR] callbacks.on_experiment_error(224): Simulation error: Maximum number of decreased steps occurred at t=37.500000001 (final SolverError: 'Error in Function::call for 'F' [IdasInterface] at .../casadi/core/function.cpp:1401:\n",
      "Error in Function::call for 'F' [IdasInterface] at .../casadi/core/function.cpp:330:\n",
      ".../casadi/interfaces/sundials/idas_interface.cpp:596: IDASolve returned \"IDA_TOO_MUCH_WORK\". Consult IDAS documentation.'). For a full solution try reducing dt_max (currently, dt_max=600) and/or reducing the size of the time steps or period of the experiment. Set `return_solution_if_failed_early=True` to return the solution object up to the point where failure occured.\n",
      "At t = 52.22, , mxstep steps taken before reaching tout.\n",
      "At t = 52.22, , mxstep steps taken before reaching tout.\n",
      "At t = 52.2191, , mxstep steps taken before reaching tout.\n",
      "At t = 52.2202, , mxstep steps taken before reaching tout.\n",
      "At t = 14.7189, , mxstep steps taken before reaching tout.\n",
      "At t = 14.7189, , mxstep steps taken before reaching tout.\n",
      "At t = 14.7189, , mxstep steps taken before reaching tout.\n",
      "At t = 14.7189, , mxstep steps taken before reaching tout.\n",
      "At t = 14.7189, , mxstep steps taken before reaching tout.\n",
      "At t = 14.7189, , mxstep steps taken before reaching tout.\n",
      "At t = 9.56369, , mxstep steps taken before reaching tout.\n",
      "At t = 9.56368, , mxstep steps taken before reaching tout.\n",
      "At t = 9.56376, , mxstep steps taken before reaching tout.\n",
      "At t = 9.56365, , mxstep steps taken before reaching tout.\n",
      "At t = 9.56363, , mxstep steps taken before reaching tout.\n",
      "At t = 9.56367, , mxstep steps taken before reaching tout.\n",
      "2023-07-01 00:43:27.391 - [ERROR] callbacks.on_experiment_error(224): Simulation error: Maximum number of decreased steps occurred at t=37.500000001 (final SolverError: 'Error in Function::call for 'F' [IdasInterface] at .../casadi/core/function.cpp:1401:\n",
      "Error in Function::call for 'F' [IdasInterface] at .../casadi/core/function.cpp:330:\n",
      ".../casadi/interfaces/sundials/idas_interface.cpp:596: IDASolve returned \"IDA_TOO_MUCH_WORK\". Consult IDAS documentation.'). For a full solution try reducing dt_max (currently, dt_max=600) and/or reducing the size of the time steps or period of the experiment. Set `return_solution_if_failed_early=True` to return the solution object up to the point where failure occured.\n",
      "At t = 51.2319, , mxstep steps taken before reaching tout.\n",
      "At t = 51.2314, , mxstep steps taken before reaching tout.\n",
      "At t = 51.2314, , mxstep steps taken before reaching tout.\n",
      "At t = 51.2318, , mxstep steps taken before reaching tout.\n",
      "At t = 13.7314, , mxstep steps taken before reaching tout.\n",
      "At t = 13.7317, , mxstep steps taken before reaching tout.\n",
      "At t = 13.7316, , mxstep steps taken before reaching tout.\n",
      "At t = 13.7318, , mxstep steps taken before reaching tout.\n",
      "At t = 13.7317, , mxstep steps taken before reaching tout.\n",
      "At t = 13.7316, , mxstep steps taken before reaching tout.\n",
      "At t = 9.04973, , mxstep steps taken before reaching tout.\n",
      "At t = 9.04969, , mxstep steps taken before reaching tout.\n",
      "At t = 9.04964, , mxstep steps taken before reaching tout.\n",
      "At t = 9.04979, , mxstep steps taken before reaching tout.\n",
      "At t = 9.04961, , mxstep steps taken before reaching tout.\n",
      "At t = 9.04961, , mxstep steps taken before reaching tout.\n",
      "2023-07-01 01:29:26.369 - [ERROR] callbacks.on_experiment_error(224): Simulation error: Maximum number of decreased steps occurred at t=37.500000001 (final SolverError: 'Error in Function::call for 'F' [IdasInterface] at .../casadi/core/function.cpp:1401:\n",
      "Error in Function::call for 'F' [IdasInterface] at .../casadi/core/function.cpp:330:\n",
      ".../casadi/interfaces/sundials/idas_interface.cpp:596: IDASolve returned \"IDA_TOO_MUCH_WORK\". Consult IDAS documentation.'). For a full solution try reducing dt_max (currently, dt_max=600) and/or reducing the size of the time steps or period of the experiment. Set `return_solution_if_failed_early=True` to return the solution object up to the point where failure occured.\n"
     ]
    }
   ],
   "source": [
    "# CasadiSolver\n",
    "Sol = []\n",
    "for para in Para_All:\n",
    "    sim = pb.Simulation(\n",
    "        model, \n",
    "        experiment=Experiment_Long,\n",
    "        parameter_values=para,\n",
    "        solver=pb.CasadiSolver(return_solution_if_failed_early=True),\n",
    "        var_pts=var_pts,\n",
    "    )\n",
    "    sol = sim.solve(\n",
    "        calc_esoh=False,\n",
    "        save_at_cycles = Update_Cycles,\n",
    "    )\n",
    "    Sol.append(sol)"
   ]
  },
  {
   "cell_type": "code",
   "execution_count": 12,
   "metadata": {},
   "outputs": [
    {
     "name": "stdout",
     "output_type": "stream",
     "text": [
      "276.84720916540823\n",
      "276.85236010680336\n",
      "276.8582352839474\n"
     ]
    }
   ],
   "source": [
    "print(Sol[0].cycles[-1][\"Total capacity lost to side reactions [A.h]\"].entries[-1])\n",
    "print(Sol[1].cycles[-1][\"Total capacity lost to side reactions [A.h]\"].entries[-1])\n",
    "print(Sol[2].cycles[-1][\"Total capacity lost to side reactions [A.h]\"].entries[-1])"
   ]
  },
  {
   "cell_type": "code",
   "execution_count": 10,
   "metadata": {},
   "outputs": [
    {
     "data": {
      "text/plain": [
       "Text(0, 0.5, 'Capacity loss [A.h]')"
      ]
     },
     "execution_count": 10,
     "metadata": {},
     "output_type": "execute_result"
    },
    {
     "data": {
      "image/png": "[encoded data removed]",
      "text/plain": [
       "<Figure size 600x400 with 1 Axes>"
      ]
     },
     "metadata": {},
     "output_type": "display_data"
    }
   ],
   "source": [
    "font = {'family' : 'DejaVu Sans','size'   : 14}\n",
    "mpl.rc('font', **font)\n",
    "fig, axs = plt.subplots(figsize=(6,4),tight_layout=True)\n",
    "for T,sol in zip(T_All,Sol):\n",
    "    axs.plot(\n",
    "        sol[\"Time [h]\"].entries-sol[\"Time [h]\"].entries[0],\n",
    "        sol[\"Total capacity lost to side reactions [A.h]\"].entries,\n",
    "        label = f\"T={T}degC\"\n",
    "        )\n",
    "axs.legend()\n",
    "axs.set_xlabel(\"Time [h]\")\n",
    "axs.set_ylabel(r'Capacity loss [A.h]')"
   ]
  },
  {
   "cell_type": "code",
   "execution_count": 14,
   "metadata": {},
   "outputs": [
    {
     "name": "stdout",
     "output_type": "stream",
     "text": [
      "1.574846583799015e-11\n",
      "1.5875281064665966e-11\n",
      "1.6029465252778682e-11\n",
      "3.993021191472934e-13\n",
      "4.047318036271008e-13\n",
      "4.108796636259626e-13\n"
     ]
    }
   ],
   "source": [
    "print(Sol[0][\"Loss of capacity to lithium plating [A.h]\"].entries[-1])\n",
    "print(Sol[1][\"Loss of capacity to lithium plating [A.h]\"].entries[-1])\n",
    "print(Sol[2][\"Loss of capacity to lithium plating [A.h]\"].entries[-1])\n",
    "print(Sol[0][\"Loss of capacity to SEI [A.h]\"].entries[-1])\n",
    "print(Sol[1][\"Loss of capacity to SEI [A.h]\"].entries[-1])\n",
    "print(Sol[2][\"Loss of capacity to SEI [A.h]\"].entries[-1])"
   ]
  },
  {
   "cell_type": "code",
   "execution_count": 17,
   "metadata": {},
   "outputs": [
    {
     "name": "stdout",
     "output_type": "stream",
     "text": [
      "276.84720916539203\n",
      "276.8523601067871\n",
      "276.85823528393087\n",
      "276.466493385867\n",
      "276.466493385867\n",
      "276.466493385867\n"
     ]
    }
   ],
   "source": [
    "\"\"\" \"Negative electrode capacity [A.h]\",\n",
    "\"Loss of active material in negative electrode [%]\",\n",
    "\"Total lithium in negative electrode [mol]\",\n",
    "\"Loss of lithium to lithium plating [mol]\",\n",
    "\"Loss of capacity to lithium plating [A.h]\",\n",
    "\"Loss of lithium to SEI on cracks [mol]\",\n",
    "\"Loss of capacity to SEI on cracks [A.h]\", \"\"\"\n",
    "print(Sol[0][\"Loss of capacity to SEI on cracks [A.h]\"].entries[-1])\n",
    "print(Sol[1][\"Loss of capacity to SEI on cracks [A.h]\"].entries[-1])\n",
    "print(Sol[2][\"Loss of capacity to SEI on cracks [A.h]\"].entries[-1])\n",
    "print(Sol[0][\"Loss of capacity to SEI on cracks [A.h]\"].entries[0])\n",
    "print(Sol[1][\"Loss of capacity to SEI on cracks [A.h]\"].entries[0])\n",
    "print(Sol[2][\"Loss of capacity to SEI on cracks [A.h]\"].entries[0])"
   ]
  }
 ],
 "metadata": {
  "kernelspec": {
   "display_name": "envPBGEM",
   "language": "python",
   "name": "python3"
  },
  "language_info": {
   "codemirror_mode": {
    "name": "ipython",
    "version": 3
   },
   "file_extension": ".py",
   "mimetype": "text/x-python",
   "name": "python",
   "nbconvert_exporter": "python",
   "pygments_lexer": "ipython3",
   "version": "3.10.6"
  },
  "orig_nbformat": 4,
  "vscode": {
   "interpreter": {
    "hash": "83fab7fbb3a8fe7b5910804f702478ef63e2cc6a08d85072a5d68865ed0fd8c7"
   }
  }
 },
 "nbformat": 4,
 "nbformat_minor": 2
}
