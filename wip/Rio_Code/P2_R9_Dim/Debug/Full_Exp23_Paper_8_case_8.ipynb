{
 "cells": [
  {
   "cell_type": "code",
   "execution_count": 1,
   "metadata": {},
   "outputs": [],
   "source": [
    "\"\"\" \n",
    "The purpose of this script is to further generalize the script to \n",
    "adapt to different experiments and temperature at the same time\n",
    "\"\"\"\n",
    "import pybamm as pb;import pandas as pd;import numpy as np;\n",
    "import os, json,openpyxl,traceback,multiprocessing,scipy.optimize,sys\n",
    "import matplotlib.pyplot as plt;\n",
    "import imageio,timeit,random,time, signal\n",
    "from scipy.io import savemat,loadmat;\n",
    "from pybamm import constants,exp;import matplotlib as mpl"
   ]
  },
  {
   "cell_type": "code",
   "execution_count": 2,
   "metadata": {},
   "outputs": [
    {
     "name": "stdout",
     "output_type": "stream",
     "text": [
      "Total scan case is 3\n"
     ]
    }
   ],
   "source": [
    "########################     Global settings!!!\n",
    "rows_per_file = 3;  Scan_end_end = 12;\n",
    "purpose_i = \"Full_Exp23_Paper_8\"\n",
    "\n",
    "On_HPC =  False  \n",
    "Runshort  =   True                    # a long run or a quick test\n",
    "\n",
    "\n",
    "\n",
    "if On_HPC:\n",
    "    i_bundle = int(os.environ[\"PBS_ARRAY_INDEX\"])\n",
    "else:\n",
    "    i_bundle = 3; # manually specify\n",
    "Scan_start = (i_bundle-1)*rows_per_file+1;    \n",
    "Scan_end   = min(Scan_start + rows_per_file-1, Scan_end_end)    \n",
    "purpose = f\"{purpose_i}_Case_{Scan_start}_{Scan_end}\"\n",
    "# interpetation: Simnon suggested, with cracking activation, heat transfer\n",
    "para_csv = f\"Bundle_{i_bundle}.csv\"  # name of the random file to get parameters\n",
    "\n",
    "\n",
    "if On_HPC:                          # Run on HPC\n",
    "    Path_csv = f\"InputData/{purpose_i}/\" \n",
    "    Path_NiallDMA = \"InputData/\" \n",
    "    BasicPath=os.getcwd() \n",
    "    Para_file = Path_csv +  para_csv\n",
    "else:\n",
    "    import sys  \n",
    "    str_path_0 = os.path.abspath(os.path.join(pb.__path__[0],'..'))\n",
    "    str_path_1 = os.path.abspath(\n",
    "        os.path.join(str_path_0,\"wip/Rio_Code/Fun_P2\"))\n",
    "    sys.path.append(str_path_1) \n",
    "    Path_NiallDMA = os.path.expanduser(\n",
    "        \"~/EnvPBGEM_Linux/SimSave/InputData/\") # for Linux\n",
    "    BasicPath =  os.path.expanduser(\n",
    "        \"~/EnvPBGEM_Linux/SimSave/P2_R9_Dim\")\n",
    "    Para_file = BasicPath+f'/Get_Random_sets2/{purpose_i}/'+para_csv\n",
    "    \n",
    "if not os.path.exists(BasicPath +\"/\"+ purpose):\n",
    "    os.mkdir(BasicPath +\"/\"+ purpose);\n",
    "# import all functions \n",
    "from Fun_P2 import * \n",
    "\n",
    "# Load the random file\n",
    "parameter_names, combinations = load_combinations_from_csv(Para_file)\n",
    "\n",
    "\n",
    "pool_no = len(combinations)\n",
    "Indexs  = np.arange(Scan_start-1,Scan_end)\n",
    "index_list = Indexs+1\n",
    "\"\"\" para_dict_Same = {\n",
    "   \"Total ageing cycles\":int(tot_cyc), # \n",
    "   \"Ageing cycles between RPT\":int(cyc_age), # \n",
    "   \"Update cycles for ageing\": int(cyc_age),\n",
    "} \"\"\"\n",
    "# Get all para\n",
    "Para_dict_list = []\n",
    "# get all dictionaries\n",
    "for combination in combinations:\n",
    "    input_dict = {}\n",
    "    for parameter_name,para_value in zip(parameter_names,combination ):\n",
    "        input_dict[parameter_name] = para_value\n",
    "    Para_dict_list.append(input_dict)\n",
    "print(f\"Total scan case is {len(Para_dict_list)}\")"
   ]
  },
  {
   "cell_type": "code",
   "execution_count": 3,
   "metadata": {},
   "outputs": [
    {
     "name": "stdout",
     "output_type": "stream",
     "text": [
      "Successfully create a excel file\n"
     ]
    }
   ],
   "source": [
    "# define global index and dict for all experiment data - prepare for read!\n",
    "Exp_Path = [\n",
    "    \"Expt 1 - Si-based Degradation/\",\n",
    "    \"Expt 2,2 - C-based Degradation 2/\",\n",
    "    \"Expt 3 - Cathode Degradation and Li-Plating/\",\n",
    "    \"Expt 4 - Drive Cycle Aging (Control)/\",\n",
    "    \"Expt 5 - Standard Cycle Aging (Control)/\",]\n",
    "Exp_head = [\n",
    "    \"Expt 1\",\n",
    "    \"Expt 2,2\",\n",
    "    \"Expt 3\",\n",
    "    \"Expt 4\",\n",
    "    \"Expt 5\",]\n",
    "Exp_1_Cell = [\"A\",\"B\",\"J\",\"D\",\"E\",\"F\",\"K\",\"L\",\"M\"];\n",
    "Exp_1_Temp = {\n",
    "    \"A\":\"10\",\"B\":\"10\",\"J\":\"10\",\n",
    "    \"D\":\"25\",\"E\":\"25\",\"F\":\"25\",\n",
    "    \"K\":\"40\",\"L\":\"40\",\"M\":\"40\",}\n",
    "Temp_Cell_Exp_1 = {\n",
    "    \"10\":[\"A\",\"B\",\"J\"],\n",
    "    \"25\":[\"D\",\"E\",\"F\"],\n",
    "    \"40\":[\"K\",\"L\",\"M\"],}\n",
    "Exp_2_Cell = [\"A\",\"B\",\"C\",\"D\",\"E\",\"F\"];\n",
    "Exp_2_Temp = {\n",
    "    \"A\":\"10\",\"B\":\"10\",\n",
    "    \"C\":\"25\",\"D\":\"25\",\n",
    "    \"E\":\"40\",\"F\":\"40\",}\n",
    "Temp_Cell_Exp_2 = {\n",
    "    \"10\":[\"A\",\"B\"],\n",
    "    \"25\":[\"C\",\"D\"],\n",
    "    \"40\":[\"E\",\"F\"],}\n",
    "Exp_3_Cell = [\"A\",\"B\",\"C\",\"D\",\"E\",\"F\",\"G\",\"H\",\"I\"];\n",
    "Exp_3_Temp = {\n",
    "    \"A\":\"10\",\"B\":\"10\",\"C\":\"10\",\n",
    "    \"D\":\"25\",\"E\":\"25\",\"F\":\"25\",\n",
    "    \"G\":\"40\",\"H\":\"40\",\"I\":\"40\"}\n",
    "Temp_Cell_Exp_3 = {\n",
    "    \"10\":[\"A\",\"B\",\"C\"],\n",
    "    \"25\":[\"D\",\"E\",\"F\"],\n",
    "    \"40\":[\"G\",\"H\",\"I\"],}\n",
    "Exp_4_Cell = [\"A\",\"B\",\"C\",\"D\",\"E\",\"F\",\"G\",\"H\"];\n",
    "Exp_4_Temp = {\n",
    "    \"A\":\"10\",\"B\":\"10\",\"C\":\"10\",\n",
    "    \"D\":\"25\",\"E\":\"25\",\n",
    "    \"F\":\"40\",\"G\":\"40\",\"H\":\"40\",}\n",
    "Temp_Cell_Exp_4 = {\n",
    "    \"10\":[\"A\",\"B\",\"C\"],\n",
    "    \"25\":[\"D\",\"E\",],\n",
    "    \"40\":[\"F\",\"G\",\"H\"],}\n",
    "Exp_5_Cell = [\"A\",\"B\",\"C\",\"D\",\"E\",\"F\",\"G\",\"H\"];\n",
    "Exp_5_Temp = {\n",
    "    \"A\":\"10\",\"B\":\"10\",\"C\":\"10\",\n",
    "    \"D\":\"25\",\"E\":\"25\",\n",
    "    \"F\":\"40\",\"G\":\"40\",\"H\":\"40\",}\n",
    "Temp_Cell_Exp_5 = {\n",
    "    \"10\":[\"A\",\"B\",\"C\"],\n",
    "    \"25\":[\"D\",\"E\",],\n",
    "    \"40\":[\"F\",\"G\",\"H\"],}\n",
    "Exp_All_Cell  = [Exp_1_Cell,Exp_2_Cell,Exp_3_Cell,Exp_4_Cell,Exp_5_Cell]\n",
    "Exp_Temp_Cell = [Exp_1_Temp,Exp_2_Temp,Exp_3_Temp,Exp_4_Temp,Exp_5_Temp]\n",
    "Temp_Cell_Exp_All = [Temp_Cell_Exp_1,Temp_Cell_Exp_2,Temp_Cell_Exp_3,Temp_Cell_Exp_4,Temp_Cell_Exp_5]\n",
    "Mark_Cell_All = [\n",
    "    {\n",
    "    \"A\":\"o\",\"B\":\">\",\"J\":\"v\",\n",
    "    \"D\":\"o\",\"E\":\">\",\"F\":\"v\",\n",
    "    \"K\":\"o\",\"L\":\">\",\"M\":\"v\",},\n",
    "    {\n",
    "    \"A\":\"10\",\"B\":\"10\",\n",
    "    \"C\":\"25\",\"D\":\"25\",\n",
    "    \"E\":\"40\",\"F\":\"40\",},\n",
    "    {\n",
    "    \"A\":\"o\",\"B\":\">\",\"C\":\"v\",\n",
    "    \"D\":\"o\",\"E\":\">\",\"F\":\"v\",\n",
    "    \"G\":\"o\",\"H\":\">\",\"I\":\"v\",},\n",
    "    {\n",
    "    \"A\":\"o\",\"B\":\">\",\"C\":\"v\",\n",
    "    \"D\":\"o\",\"E\":\">\",\n",
    "    \"F\":\"o\",\"G\":\">\",\"H\":\"v\",},\n",
    "    {\n",
    "    \"A\":\"o\",\"B\":\">\",\"C\":\"v\",\n",
    "    \"D\":\"o\",\"E\":\">\",\n",
    "    \"F\":\"o\",\"G\":\">\",\"H\":\"v\",}]\n",
    "Color_Cell_All = [\n",
    "    {\n",
    "    \"A\":[2/255, 3/255, 226/255,0.7],\"B\":[2/255, 3/255, 226/255,0.7],\"J\":[2/255, 3/255, 226/255,0.7],\n",
    "    \"D\":[0, 0, 0,0.7],\"E\":[0, 0, 0,0.7],\"F\":[0, 0, 0,0.7],\n",
    "    \"K\":[1,0,0,0.4],\"L\":[1,0,0,0.4],\"M\":[1,0,0,0.4],},\n",
    "    {\n",
    "    \"A\":[2/255, 3/255, 226/255,0.7],\"B\":[2/255, 3/255, 226/255,0.7],\n",
    "    \"D\":[0, 0, 0,0.7],\"C\":[0, 0, 0,0.7],\n",
    "    \"E\":[1,0,0,0.4],\"F\":[1,0,0,0.4],},\n",
    "    {\n",
    "    \"A\":[2/255, 3/255, 226/255,0.7],\"B\":[2/255, 3/255, 226/255,0.7],\"C\":[2/255, 3/255, 226/255,0.7],\n",
    "    \"D\":[0, 0, 0,0.7],\"E\":[0, 0, 0,0.7],\"F\":[0, 0, 0,0.7],\n",
    "    \"G\":[1,0,0,0.4],\"H\":[1,0,0,0.4],\"I\":[1,0,0,0.4],},\n",
    "    {\n",
    "    \"A\":[2/255, 3/255, 226/255,0.7],\"B\":[2/255, 3/255, 226/255,0.7],\"C\":[2/255, 3/255, 226/255,0.7],\n",
    "    \"D\":[0, 0, 0,0.7],\"E\":[0, 0, 0,0.7],\n",
    "    \"F\":[1,0,0,0.4],\"G\":[1,0,0,0.4],\"H\":[1,0,0,0.4],},\n",
    "    {\n",
    "    \"A\":[2/255, 3/255, 226/255,0.7],\"B\":[2/255, 3/255, 226/255,0.7],\"C\":[2/255, 3/255, 226/255,0.7],\n",
    "    \"D\":[0, 0, 0,0.7],\"E\":[0, 0, 0,0.7],\n",
    "    \"F\":[1,0,0,0.4],\"G\":[1,0,0,0.4],\"H\":[1,0,0,0.4],}]\n",
    "# Update 23-06-17 \n",
    "#   para=\"Total heat transfer coefficient [W.m-2.K-1]\";\n",
    "#   output=\"Volume-averaged cell temperature [C]\"\n",
    "########################  Output  ########################\n",
    "keys_loc_RPT = [ # MAY WANT TO SELECT AGEING CYCLE later\n",
    "    # Default output:\n",
    "    \"x [m]\",\n",
    "    \"x_n [m]\",\n",
    "    \"x_s [m]\",\n",
    "    \"x_p [m]\",\n",
    "    # default: end; \n",
    "    \"CCend Porosity\",\n",
    "    \"CCend Negative electrode interfacial current density [A.m-2]\",\n",
    "    \"CCend Electrolyte potential [V]\",\n",
    "    \"CCend Electrolyte concentration [mol.m-3]\",\n",
    "    \"CCend Negative electrode reaction overpotential [V]\",\n",
    "    \"CCend Negative particle surface concentration [mol.m-3]\",\n",
    "    #\"CCend Negative electrode roughness ratio\",\n",
    "    #\"CCend Total SEI on cracks thickness [m]\",\n",
    "\n",
    "    \"CDend Porosity\",\n",
    "    \"CDend Negative electrode interfacial current density [A.m-2]\",\n",
    "    \"CDend Electrolyte potential [V]\",\n",
    "    \"CDend Electrolyte concentration [mol.m-3]\",\n",
    "    \"CDend Negative electrode reaction overpotential [V]\",\n",
    "    \"CDend Negative particle surface concentration [mol.m-3]\",\n",
    "    #\"CDend Negative electrode roughness ratio\",\n",
    "    #\"CDend Total SEI on cracks thickness [m]\",\n",
    "    #\"REend Total SEI on cracks thickness [m]\",\n",
    "]\n",
    "keys_tim_RPT = [\n",
    "    # default: CD\n",
    "    \"CD Time [h]\",\n",
    "    \"CD Terminal voltage [V]\",\n",
    "    \"CD Anode potential [V]\",    # self defined\n",
    "    \"CD Cathode potential [V]\",  # self defined\n",
    "    \"CC Time [h]\",\n",
    "    \"CC Terminal voltage [V]\",\n",
    "    \"CC Anode potential [V]\",    # self defined\n",
    "    \"CC Cathode potential [V]\",  # self defined\n",
    "]\n",
    "keys_cyc_RPT = [   # default: CDend\n",
    "    \"Discharge capacity [A.h]\",\n",
    "    \"Throughput capacity [A.h]\",\n",
    "    \"CDend Total lithium capacity in particles [A.h]\",\n",
    "    \"CDend Loss of capacity to lithium plating [A.h]\",\n",
    "    \"CDend Loss of capacity to SEI [A.h]\",\n",
    "    \"CDend Loss of capacity to SEI on cracks [A.h]\",\n",
    "    #\"CDend X-averaged total SEI on cracks thickness [m]\",\n",
    "    #\"CDend X-averaged negative electrode roughness ratio\",\n",
    "    \"CDend Local ECM resistance [Ohm]\",\n",
    "    \"CDsta Negative electrode stoichiometry\", \n",
    "    \"CDend Negative electrode stoichiometry\",\n",
    "    \"CDsta Positive electrode stoichiometry\", \n",
    "    \"CDend Positive electrode stoichiometry\",\n",
    "    \"CDend Negative electrode capacity [A.h]\",\n",
    "    \"CDend Positive electrode capacity [A.h]\",\n",
    "]\n",
    "\n",
    "keys_loc_AGE = [ # MAY WANT TO SELECT AGEING CYCLE later\n",
    "    # Default output:\n",
    "    \"x [m]\",\n",
    "    \"x_n [m]\",\n",
    "    \"x_s [m]\",\n",
    "    \"x_p [m]\",\n",
    "    # default: end; \n",
    "    \"CCend Porosity\",\n",
    "    \"CCend Negative electrode interfacial current density [A.m-2]\",\n",
    "    \"CCend Electrolyte potential [V]\",\n",
    "    \"CCend Electrolyte concentration [mol.m-3]\",\n",
    "    \"CCend Negative electrode reaction overpotential [V]\",\n",
    "    \"CCend Negative particle surface concentration [mol.m-3]\",\n",
    "    \"CCend Negative electrode surface potential difference [V]\",\n",
    "    \"CCend SEI film overpotential [V]\",\n",
    "    #\"CCend Negative electrode roughness ratio\",\n",
    "    #\"CCend Total SEI on cracks thickness [m]\",\n",
    "\n",
    "    \"CDend Porosity\",\n",
    "    \"CDend Negative electrode interfacial current density [A.m-2]\",\n",
    "    \"CDend Electrolyte potential [V]\",\n",
    "    \"CDend Electrolyte concentration [mol.m-3]\",\n",
    "    \"CDend Negative electrode reaction overpotential [V]\",\n",
    "    \"CDend Negative particle surface concentration [mol.m-3]\",\n",
    "    #\"CDend Negative electrode roughness ratio\",\n",
    "    #\"CDend Total SEI on cracks thickness [m]\",\n",
    "    \"CDend Negative electrode surface potential difference [V]\",\n",
    "    \"CDend SEI film overpotential [V]\",\n",
    "    \"CDend Electrolyte diffusivity [m2.s-1]\",\n",
    "    \"CDend Electrolyte conductivity [S.m-1]\",\n",
    "]\n",
    "keys_tim_AGE = [\n",
    "    # default: CD\n",
    "    \"CD Time [h]\",\n",
    "    \"CD Terminal voltage [V]\",\n",
    "    \"CD Anode potential [V]\",    # self defined\n",
    "    \"CD Cathode potential [V]\",  # self defined\n",
    "    \n",
    "    \"CC Time [h]\",\n",
    "    \"CC Terminal voltage [V]\",\n",
    "    \"CC Anode potential [V]\",    # self defined\n",
    "    \"CC Cathode potential [V]\",  # self defined\n",
    "]\n",
    "keys_cyc_AGE = [];\n",
    "keys_all_RPT = [keys_loc_RPT,keys_tim_RPT,keys_cyc_RPT];\n",
    "keys_all_AGE = [keys_loc_AGE,keys_tim_AGE,keys_cyc_AGE];\n",
    "keys_all = [keys_all_RPT,keys_all_AGE];\n",
    "\n",
    "\n",
    "# Write para - 1st round:\n",
    "Values_1 = []\n",
    "head_keys = list(Para_dict_list[0].keys())\n",
    "head_pre = [\n",
    "    \"Scan No\",\"Exp No.\",\"Y or N\",\n",
    "    \"Error Tot%\",\"Error SOH %\",\"Error LLI %\",\n",
    "    \"Error LAM NE %\",\"Error LAM PE %\",\n",
    "    \"Error Res %\",\"Error ageT %\",\"Punish\",\n",
    "    \"Dry out\",]\n",
    "\n",
    "head_pos = [ \n",
    "    \"Total ageing cycles\",\"Ageing cycles between RPT\",\n",
    "    \"Update cycles for ageing\",\n",
    "    \"exp_AGE_text\", \"exp_RPT_text\",\n",
    "   \"Cap Loss\",\"LLI to LiP\",\n",
    "   \"LLI to SEI\",\"LLI to sei-on-cracks\",\n",
    "   \"LAM to Neg\",\"LAM to Pos\",\n",
    "   \"Vol_Elely_Tot Final\", \"Vol_Elely_JR Final\",\"Width Final\",\"Error\"]\n",
    "Values_1 .append([*head_pre,*head_keys,*head_pos])\n",
    "book_name_xlsx = f'Summary_{purpose}.xlsx';\n",
    "sheet_name_xlsx = 'Output'\n",
    "Target  = f'/{purpose}/'\n",
    "write_excel_xlsx(\n",
    "    BasicPath + Target + book_name_xlsx, \n",
    "    sheet_name_xlsx, Values_1)   \n",
    "Exp_pack = [\n",
    "    Exp_All_Cell,Temp_Cell_Exp_All,\n",
    "    Exp_Path,Exp_head,Exp_Temp_Cell,\n",
    "    book_name_xlsx,]  \n",
    "# remaining set-up for experiment and create folders\n",
    "\n",
    "if not os.path.exists(BasicPath +Target+\"Mats\"):\n",
    "    os.mkdir(BasicPath +Target +\"Mats\");\n",
    "if not os.path.exists(BasicPath +Target+\"Plots\"):\n",
    "    os.mkdir(BasicPath +Target+\"Plots\");\n",
    "if not os.path.exists(BasicPath +Target+\"Excel\"):\n",
    "    os.mkdir(BasicPath +Target+\"Excel\");"
   ]
  },
  {
   "cell_type": "code",
   "execution_count": 4,
   "metadata": {},
   "outputs": [],
   "source": [
    "Para_dict_list[1]['Mesh list'] = '[5,5,5,60,20]'"
   ]
  },
  {
   "cell_type": "code",
   "execution_count": 5,
   "metadata": {},
   "outputs": [
    {
     "data": {
      "text/plain": [
       "{'Scan No': 8,\n",
       " 'Exp No.': 2,\n",
       " 'Ageing temperature': 10.0,\n",
       " 'Mesh list': '[5,5,5,60,20]',\n",
       " 'Inner SEI lithium interstitial diffusivity [m2.s-1]': 6.26e-19,\n",
       " 'Dead lithium decay constant [s-1]': 1e-06,\n",
       " 'Lithium plating kinetic rate constant [m.s-1]': 1e-10,\n",
       " 'Negative electrode LAM constant proportional term [s-1]': 1.1e-08,\n",
       " 'Positive electrode LAM constant proportional term [s-1]': 2.98e-18,\n",
       " 'Negative electrode cracking rate': 5.29e-25,\n",
       " 'Outer SEI partial molar volume [m3.mol-1]': 5.41e-05,\n",
       " 'SEI growth activation energy [J.mol-1]': 10000.0,\n",
       " 'Negative cracking growth activation energy [J.mol-1]': 0.0,\n",
       " 'Negative electrode diffusivity activation energy [J.mol-1]': 34000.0,\n",
       " 'Positive electrode diffusivity activation energy [J.mol-1]': 12000.0,\n",
       " 'Contact resistance [Ohm]': 0.01,\n",
       " 'Total heat transfer coefficient [W.m-2.K-1]': 20,\n",
       " 'Initial electrolyte excessive amount ratio': 1.0,\n",
       " 'Cycles within RPT': 1,\n",
       " 'RPT temperature': 25,\n",
       " 'Para_Set': 'OKane2023',\n",
       " 'Model option': \"{'SEI': 'interstitial-diffusion limited', 'SEI on cracks': 'true', 'lithium plating': 'partially reversible', 'lithium plating porosity change': 'true', 'particle mechanics': ('swelling and cracking', 'swelling only'), 'loss of active material': 'stress-driven', 'contact resistance': 'true', 'open-circuit potential': 'current sigmoid', 'SEI film resistance': 'distributed', 'SEI porosity change': 'true', 'thermal': 'lumped'}\",\n",
       " 'Current solvent concentration in the reservoir [mol.m-3]': 4541.0,\n",
       " 'Current electrolyte concentration in the reservoir [mol.m-3]': 1000,\n",
       " 'Ratio of Li-ion concentration change in electrolyte consider solvent consumption': 1.0,\n",
       " 'EC initial concentration in electrolyte [mol.m-3]': 4541.0,\n",
       " 'Typical EC concentration in electrolyte [mol.m-3]': 4541.0}"
      ]
     },
     "execution_count": 5,
     "metadata": {},
     "output_type": "execute_result"
    }
   ],
   "source": [
    "Para_dict_list[1]"
   ]
  },
  {
   "cell_type": "code",
   "execution_count": 6,
   "metadata": {},
   "outputs": [
    {
     "name": "stdout",
     "output_type": "stream",
     "text": [
      "Start Now! Scan 8.\n",
      "Read Exp-2 - Cell A RPT 0\n",
      "Read Exp-2 - Cell A RPT 1\n",
      "Read Exp-2 - Cell A RPT 2\n",
      "Read Exp-2 - Cell A RPT 3\n",
      "Read Exp-2 - Cell A RPT 4\n",
      "Read Exp-2 - Cell A RPT 5\n",
      "Read Exp-2 - Cell A RPT 6\n",
      "Read Exp-2 - Cell A RPT 7\n",
      "Read Exp-2 - Cell A RPT 8\n",
      "Read Exp-2 - Cell A RPT 9\n",
      "Read Exp-2 - Cell A RPT 10\n"
     ]
    },
    {
     "name": "stdout",
     "output_type": "stream",
     "text": [
      "Read Exp-2 - Cell A RPT 11\n",
      "Read Exp-2 - Cell A RPT 12\n",
      "Exp-2 - Cell A doesn't have RPT 13\n",
      "Exp-2 - Cell A doesn't have RPT 14\n",
      "Exp-2 - Cell A doesn't have RPT 15\n",
      "Read Exp-2 - Cell B RPT 0\n",
      "Read Exp-2 - Cell B RPT 1\n",
      "Read Exp-2 - Cell B RPT 2\n",
      "Read Exp-2 - Cell B RPT 3\n",
      "Read Exp-2 - Cell B RPT 4\n",
      "Read Exp-2 - Cell B RPT 5\n",
      "Read Exp-2 - Cell B RPT 6\n",
      "Read Exp-2 - Cell B RPT 7\n",
      "Read Exp-2 - Cell B RPT 8\n",
      "Read Exp-2 - Cell B RPT 9\n",
      "Read Exp-2 - Cell B RPT 10\n",
      "Read Exp-2 - Cell B RPT 11\n",
      "Read Exp-2 - Cell B RPT 12\n",
      "Exp-2 - Cell B doesn't have RPT 13\n",
      "Exp-2 - Cell B doesn't have RPT 14\n",
      "Exp-2 - Cell B doesn't have RPT 15\n",
      "Read Exp-2 - Cell C RPT 0\n",
      "Read Exp-2 - Cell C RPT 1\n",
      "Read Exp-2 - Cell C RPT 2\n",
      "Read Exp-2 - Cell C RPT 3\n",
      "Read Exp-2 - Cell C RPT 4\n",
      "Read Exp-2 - Cell C RPT 5\n",
      "Read Exp-2 - Cell C RPT 6\n",
      "Read Exp-2 - Cell C RPT 7\n",
      "Read Exp-2 - Cell C RPT 8\n",
      "Read Exp-2 - Cell C RPT 9\n",
      "Read Exp-2 - Cell C RPT 10\n",
      "Read Exp-2 - Cell C RPT 11\n",
      "Read Exp-2 - Cell C RPT 12\n",
      "Exp-2 - Cell C doesn't have RPT 13\n",
      "Exp-2 - Cell C doesn't have RPT 14\n",
      "Exp-2 - Cell C doesn't have RPT 15\n",
      "Read Exp-2 - Cell D RPT 0\n",
      "Read Exp-2 - Cell D RPT 1\n",
      "Read Exp-2 - Cell D RPT 2\n",
      "Read Exp-2 - Cell D RPT 3\n",
      "Read Exp-2 - Cell D RPT 4\n",
      "Read Exp-2 - Cell D RPT 5\n",
      "Read Exp-2 - Cell D RPT 6\n",
      "Read Exp-2 - Cell D RPT 7\n",
      "Read Exp-2 - Cell D RPT 8\n",
      "Read Exp-2 - Cell D RPT 9\n",
      "Read Exp-2 - Cell D RPT 10\n",
      "Read Exp-2 - Cell D RPT 11\n",
      "Read Exp-2 - Cell D RPT 12\n",
      "Exp-2 - Cell D doesn't have RPT 13\n",
      "Exp-2 - Cell D doesn't have RPT 14\n",
      "Exp-2 - Cell D doesn't have RPT 15\n",
      "Read Exp-2 - Cell E RPT 0\n",
      "Read Exp-2 - Cell E RPT 1\n",
      "Read Exp-2 - Cell E RPT 2\n",
      "Read Exp-2 - Cell E RPT 3\n",
      "Read Exp-2 - Cell E RPT 4\n",
      "Read Exp-2 - Cell E RPT 5\n",
      "Read Exp-2 - Cell E RPT 6\n",
      "Read Exp-2 - Cell E RPT 7\n",
      "Read Exp-2 - Cell E RPT 8\n",
      "Read Exp-2 - Cell E RPT 9\n",
      "Read Exp-2 - Cell E RPT 10\n",
      "Read Exp-2 - Cell E RPT 11\n",
      "Read Exp-2 - Cell E RPT 12\n",
      "Exp-2 - Cell E doesn't have RPT 13\n",
      "Exp-2 - Cell E doesn't have RPT 14\n",
      "Exp-2 - Cell E doesn't have RPT 15\n",
      "Read Exp-2 - Cell F RPT 0\n",
      "Read Exp-2 - Cell F RPT 1\n",
      "Read Exp-2 - Cell F RPT 2\n",
      "Read Exp-2 - Cell F RPT 3\n",
      "Read Exp-2 - Cell F RPT 4\n",
      "Read Exp-2 - Cell F RPT 5\n",
      "Read Exp-2 - Cell F RPT 6\n",
      "Read Exp-2 - Cell F RPT 7\n",
      "Read Exp-2 - Cell F RPT 8\n",
      "Read Exp-2 - Cell F RPT 9\n",
      "Read Exp-2 - Cell F RPT 10\n",
      "Read Exp-2 - Cell F RPT 11\n",
      "Read Exp-2 - Cell F RPT 12\n",
      "Exp-2 - Cell F doesn't have RPT 13\n",
      "Exp-2 - Cell F doesn't have RPT 14\n",
      "Exp-2 - Cell F doesn't have RPT 15\n",
      "Finish reading Experiment!\n",
      "Has Overwritten Initial outer SEI thickness [m] to be 6.98e-09 and Negative electrode porosity to be 0.234 to account for initial capacity loss of 0.135 Ah\n",
      "Scan 8: DryOut = On\n",
      "Initial electrolyte amount is  5.231375521892558 mL\n",
      "Scan 8: Spent 3.363 s on Initialization\n"
     ]
    },
    {
     "name": "stderr",
     "output_type": "stream",
     "text": [
      "At t = 232.379 and h = 5.45811e-15, the corrector convergence failed repeatedly or with |h| = hmin.\n",
      "At t = 232.38 and h = 5.37999e-12, the corrector convergence failed repeatedly or with |h| = hmin.\n",
      "At t = 82.3767 and h = 8.03106e-15, the corrector convergence failed repeatedly or with |h| = hmin.\n",
      "At t = 82.3807 and h = 1.21074e-11, the corrector convergence failed repeatedly or with |h| = hmin.\n",
      "At t = 82.3808 and h = 8.93567e-12, the corrector convergence failed repeatedly or with |h| = hmin.\n"
     ]
    },
    {
     "name": "stdout",
     "output_type": "stream",
     "text": [
      "Scan 8: Finish break-in cycle within 3 minutes, 26 seconds\n",
      "Scan 8: Finish post-process for break-in cycle within 26.888 s\n",
      "Electrolyte is being squeezed out, check plated lithium (active and dead)\n",
      "Scan 8: Finish for No.0 ageing cycles within 28.722 s\n",
      "Scan 8: Finish post-process for No.1 ageing cycles within 109.145 ms\n"
     ]
    },
    {
     "name": "stderr",
     "output_type": "stream",
     "text": [
      "At t = 228.886 and h = 1.79473e-11, the corrector convergence failed repeatedly or with |h| = hmin.\n",
      "At t = 228.886 and h = 2.82717e-12, the corrector convergence failed repeatedly or with |h| = hmin.\n",
      "At t = 78.8866 and h = 1.10086e-11, the corrector convergence failed repeatedly or with |h| = hmin.\n",
      "At t = 78.8867 and h = 8.42638e-12, the corrector convergence failed repeatedly or with |h| = hmin.\n",
      "At t = 78.8865 and h = 1.45751e-11, the corrector convergence failed repeatedly or with |h| = hmin.\n"
     ]
    },
    {
     "name": "stdout",
     "output_type": "stream",
     "text": [
      "Scan 8: Finish for No.1 RPT cycles within 3 minutes, 28 seconds\n",
      "Scan 8: Finish post-process for No.1 RPT cycles within 8.604 s\n",
      "Scan 8: Finish for No.1 ageing cycles within 32.807 s\n",
      "Scan 8: Finish post-process for No.2 ageing cycles within 82.362 ms\n"
     ]
    },
    {
     "name": "stderr",
     "output_type": "stream",
     "text": [
      "At t = 225.441 and h = 5.50287e-13, the corrector convergence failed repeatedly or with |h| = hmin.\n",
      "At t = 225.435 and h = 2.31118e-14, the corrector convergence failed repeatedly or with |h| = hmin.\n"
     ]
    },
    {
     "name": "stdout",
     "output_type": "stream",
     "text": [
      "Scan 8: Finish for No.2 RPT cycles within 3 minutes, 59 seconds\n",
      "Scan 8: Finish post-process for No.2 RPT cycles within 9.633 s\n",
      "Scan 8: Getting extra variables within 239.500 us\n",
      "Scan 8: Finish all plots within 8.730 s\n",
      "Successfully create a excel file\n",
      "Scan 8: Successfully save json file!\n",
      "Scan 8: Successfully save mat file!\n",
      "Scan 8: Try saving within 17.792 ms\n",
      "Succeed doing something in 12 minutes, 52 seconds\n",
      "This is the end of No. 8  scan\n"
     ]
    }
   ],
   "source": [
    "fs = 13; dpi = 100;\n",
    "midc_merge_all = [];Sol_RPT_all = [];Sol_AGE_all = [];\n",
    "Plot_Exp=True;     Timeout=False;  \n",
    "Return_Sol=True;   Check_Small_Time=True; R_from_GITT = True\n",
    "\n",
    "midc_merge,Sol_RPT,Call_1Cyc = Run_P2_Excel (\n",
    "    Para_dict_list[1],BasicPath, Path_NiallDMA, \n",
    "    purpose,    Exp_pack, keys_all,dpi,fs,\n",
    "    Runshort,   Plot_Exp,Timeout,Return_Sol,\n",
    "    Check_Small_Time, R_from_GITT\n",
    ") \n"
   ]
  },
  {
   "cell_type": "code",
   "execution_count": 7,
   "metadata": {},
   "outputs": [
    {
     "data": {
      "text/plain": [
       "[<matplotlib.lines.Line2D at 0x7f968396f3d0>]"
      ]
     },
     "execution_count": 7,
     "metadata": {},
     "output_type": "execute_result"
    },
    {
     "data": {
      "image/png": "[encoded data removed]",
      "text/plain": [
       "<Figure size 640x480 with 1 Axes>"
      ]
     },
     "metadata": {},
     "output_type": "display_data"
    }
   ],
   "source": [
    "plt.plot(\n",
    "    Sol_RPT[0][\"Time [h]\"].entries,\n",
    "    Sol_RPT[0][\"Terminal voltage [V]\"].entries)"
   ]
  },
  {
   "cell_type": "code",
   "execution_count": 8,
   "metadata": {},
   "outputs": [
    {
     "data": {
      "text/plain": [
       "26"
      ]
     },
     "execution_count": 8,
     "metadata": {},
     "output_type": "execute_result"
    }
   ],
   "source": [
    "len(Sol_RPT[1].cycles)"
   ]
  },
  {
   "cell_type": "code",
   "execution_count": 9,
   "metadata": {},
   "outputs": [
    {
     "data": {
      "text/plain": [
       "26"
      ]
     },
     "execution_count": 9,
     "metadata": {},
     "output_type": "execute_result"
    }
   ],
   "source": [
    "len(Sol_RPT[2].cycles)"
   ]
  },
  {
   "cell_type": "code",
   "execution_count": 10,
   "metadata": {},
   "outputs": [
    {
     "data": {
      "text/plain": [
       "[<matplotlib.lines.Line2D at 0x7f9683898670>]"
      ]
     },
     "execution_count": 10,
     "metadata": {},
     "output_type": "execute_result"
    },
    {
     "data": {
      "image/png": "[encoded data removed]",
      "text/plain": [
       "<Figure size 640x480 with 1 Axes>"
      ]
     },
     "metadata": {},
     "output_type": "display_data"
    }
   ],
   "source": [
    "plt.plot(\n",
    "    midc_merge[\"Throughput capacity [kA.h]\"],\n",
    "    midc_merge[\"Discharge capacity [A.h]\"])"
   ]
  },
  {
   "cell_type": "code",
   "execution_count": 11,
   "metadata": {},
   "outputs": [
    {
     "data": {
      "text/plain": [
       "[<pybamm.solvers.solution.Solution at 0x7f9681531840>,\n",
       " <pybamm.solvers.solution.Solution at 0x7f967ad094e0>,\n",
       " <pybamm.solvers.solution.Solution at 0x7f9676eeaef0>]"
      ]
     },
     "execution_count": 11,
     "metadata": {},
     "output_type": "execute_result"
    }
   ],
   "source": [
    "Sol_RPT"
   ]
  },
  {
   "cell_type": "code",
   "execution_count": 12,
   "metadata": {},
   "outputs": [
    {
     "data": {
      "text/plain": [
       "[100.0, 99.85823375229018, 99.7999104203024]"
      ]
     },
     "execution_count": 12,
     "metadata": {},
     "output_type": "execute_result"
    }
   ],
   "source": [
    "midc_merge['CDend SOH [%]']"
   ]
  },
  {
   "cell_type": "code",
   "execution_count": 13,
   "metadata": {},
   "outputs": [
    {
     "ename": "NameError",
     "evalue": "name 'Sol_0' is not defined",
     "output_type": "error",
     "traceback": [
      "\u001b[0;31m---------------------------------------------------------------------------\u001b[0m",
      "\u001b[0;31mNameError\u001b[0m                                 Traceback (most recent call last)",
      "\u001b[1;32m/home/ruihe_li/EnvPBGEM_Linux/PyBaMM-GEM/wip/Rio_Code/P2_R9_Dim/Debug/Full_Exp23_Paper_8_case_8.ipynb Cell 13\u001b[0m line \u001b[0;36m2\n\u001b[1;32m      <a href='vscode-notebook-cell://wsl%2Bubuntu-22.04/home/ruihe_li/EnvPBGEM_Linux/PyBaMM-GEM/wip/Rio_Code/P2_R9_Dim/Debug/Full_Exp23_Paper_8_case_8.ipynb#W6sdnNjb2RlLXJlbW90ZQ%3D%3D?line=0'>1</a>\u001b[0m pb\u001b[39m.\u001b[39mplot_voltage_components(\n\u001b[0;32m----> <a href='vscode-notebook-cell://wsl%2Bubuntu-22.04/home/ruihe_li/EnvPBGEM_Linux/PyBaMM-GEM/wip/Rio_Code/P2_R9_Dim/Debug/Full_Exp23_Paper_8_case_8.ipynb#W6sdnNjb2RlLXJlbW90ZQ%3D%3D?line=1'>2</a>\u001b[0m     Sol_0[\u001b[39m0\u001b[39m]\u001b[39m.\u001b[39mcycles[\u001b[39m0\u001b[39m]\u001b[39m.\u001b[39msteps[\u001b[39m0\u001b[39m])\n",
      "\u001b[0;31mNameError\u001b[0m: name 'Sol_0' is not defined"
     ]
    }
   ],
   "source": [
    "\n",
    "pb.plot_voltage_components(\n",
    "    Sol_0[0].cycles[0].steps[0])"
   ]
  },
  {
   "cell_type": "code",
   "execution_count": null,
   "metadata": {},
   "outputs": [],
   "source": [
    "# Sol_0[0].cycles[-1][\"Negative electrode stoichiometry\"].entries\n",
    "#label = [\"Diff_Li_SEI = 1e-18\",\"Diff_Li_SEI = 1e-16\"] \n",
    "vars = [\n",
    "    \"Negative electrode stoichiometry\",\n",
    "    \"Positive electrode stoichiometry\",\n",
    "    \"SEI interfacial current density [A.m-2]\",\n",
    "    \"Negative particle surface concentration [mol.m-3]\",\n",
    "    \n",
    "]\n",
    "quick_plot = pb.QuickPlot(\n",
    "    Sol_0[0].cycles[-1], \n",
    "    vars,variable_limits='tight') #     \n",
    "quick_plot.dynamic_plot();"
   ]
  },
  {
   "cell_type": "code",
   "execution_count": null,
   "metadata": {},
   "outputs": [],
   "source": [
    "Sol_0[-2].cycles"
   ]
  },
  {
   "cell_type": "code",
   "execution_count": null,
   "metadata": {},
   "outputs": [],
   "source": [
    "vars = [\n",
    "    \"Negative electrode stoichiometry\",\n",
    "    \"Positive electrode stoichiometry\",\n",
    "    \"SEI interfacial current density [A.m-2]\",\n",
    "    \"Negative particle surface concentration [mol.m-3]\",\n",
    "    \n",
    "]\n",
    "quick_plot = pb.QuickPlot(\n",
    "    Sol_0[-1].cycles[0], \n",
    "    vars,variable_limits='tight') #     \n",
    "quick_plot.dynamic_plot();"
   ]
  }
 ],
 "metadata": {
  "kernelspec": {
   "display_name": "EnvPB_Linux",
   "language": "python",
   "name": "python3"
  },
  "language_info": {
   "codemirror_mode": {
    "name": "ipython",
    "version": 3
   },
   "file_extension": ".py",
   "mimetype": "text/x-python",
   "name": "python",
   "nbconvert_exporter": "python",
   "pygments_lexer": "ipython3",
   "version": "3.10.6"
  },
  "orig_nbformat": 4
 },
 "nbformat": 4,
 "nbformat_minor": 2
}
