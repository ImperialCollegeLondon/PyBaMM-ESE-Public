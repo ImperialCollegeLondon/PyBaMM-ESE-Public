{
 "cells": [
  {
   "cell_type": "code",
   "execution_count": 9,
   "metadata": {},
   "outputs": [],
   "source": [
    "\"\"\" \n",
    "The purpose of this script is to further generalize the script to \n",
    "adapt to different experiments and temperature at the same time\n",
    "\"\"\"\n",
    "import pybamm as pb;import pandas as pd;import numpy as np;\n",
    "import os, json,openpyxl,traceback,multiprocessing,scipy.optimize,sys\n",
    "import matplotlib.pyplot as plt;\n",
    "import imageio,timeit,random,time, signal\n",
    "from scipy.io import savemat,loadmat;\n",
    "from pybamm import constants,exp;import matplotlib as mpl"
   ]
  },
  {
   "cell_type": "code",
   "execution_count": 10,
   "metadata": {},
   "outputs": [
    {
     "name": "stdout",
     "output_type": "stream",
     "text": [
      "Total scan case is 3\n"
     ]
    }
   ],
   "source": [
    "########################     Global settings!!!\n",
    "rows_per_file = 3;  Scan_end_end = 12;\n",
    "purpose_i = \"Full_Exp23_Paper_8_1\"\n",
    "\n",
    "On_HPC =  False  \n",
    "Runshort  =   False                    # a long run or a quick test\n",
    "\n",
    "\n",
    "\n",
    "if On_HPC:\n",
    "    i_bundle = int(os.environ[\"PBS_ARRAY_INDEX\"])\n",
    "else:\n",
    "    i_bundle = 1; # manually specify\n",
    "Scan_start = (i_bundle-1)*rows_per_file+1;    \n",
    "Scan_end   = min(Scan_start + rows_per_file-1, Scan_end_end)    \n",
    "purpose = f\"{purpose_i}_Case_{Scan_start}_{Scan_end}\"\n",
    "# interpetation: Simnon suggested, with cracking activation, heat transfer\n",
    "para_csv = f\"Bundle_{i_bundle}.csv\"  # name of the random file to get parameters\n",
    "\n",
    "\n",
    "if On_HPC:                          # Run on HPC\n",
    "    Path_csv = f\"InputData/{purpose_i}/\" \n",
    "    Path_NiallDMA = \"InputData/\" \n",
    "    BasicPath=os.getcwd() \n",
    "    Para_file = Path_csv +  para_csv\n",
    "else:\n",
    "    import sys  \n",
    "    str_path_0 = os.path.abspath(os.path.join(pb.__path__[0],'..'))\n",
    "    str_path_1 = os.path.abspath(\n",
    "        os.path.join(str_path_0,\"wip/Rio_Code/Fun_P2\"))\n",
    "    sys.path.append(str_path_1) \n",
    "    Path_NiallDMA = os.path.expanduser(\n",
    "        \"~/EnvPBGEM_Linux/SimSave/InputData/\") # for Linux\n",
    "    BasicPath =  os.path.expanduser(\n",
    "        \"~/EnvPBGEM_Linux/SimSave/P2_R9_Dim\")\n",
    "    Para_file = BasicPath+f'/Get_Random_sets2/{purpose_i}/'+para_csv\n",
    "    \n",
    "if not os.path.exists(BasicPath +\"/\"+ purpose):\n",
    "    os.mkdir(BasicPath +\"/\"+ purpose);\n",
    "# import all functions \n",
    "from Fun_P2 import * \n",
    "\n",
    "# Load the random file\n",
    "parameter_names, combinations = load_combinations_from_csv(Para_file)\n",
    "\n",
    "\n",
    "pool_no = len(combinations)\n",
    "Indexs  = np.arange(Scan_start-1,Scan_end)\n",
    "index_list = Indexs+1\n",
    "\"\"\" para_dict_Same = {\n",
    "   \"Total ageing cycles\":int(tot_cyc), # \n",
    "   \"Ageing cycles between RPT\":int(cyc_age), # \n",
    "   \"Update cycles for ageing\": int(cyc_age),\n",
    "} \"\"\"\n",
    "# Get all para\n",
    "Para_dict_list = []\n",
    "# get all dictionaries\n",
    "for combination in combinations:\n",
    "    input_dict = {}\n",
    "    for parameter_name,para_value in zip(parameter_names,combination ):\n",
    "        input_dict[parameter_name] = para_value\n",
    "    Para_dict_list.append(input_dict)\n",
    "print(f\"Total scan case is {len(Para_dict_list)}\")"
   ]
  },
  {
   "cell_type": "code",
   "execution_count": 11,
   "metadata": {},
   "outputs": [
    {
     "name": "stdout",
     "output_type": "stream",
     "text": [
      "Successfully create a excel file\n"
     ]
    }
   ],
   "source": [
    "# define global index and dict for all experiment data - prepare for read!\n",
    "Exp_Path = [\n",
    "    \"Expt 1 - Si-based Degradation/\",\n",
    "    \"Expt 2,2 - C-based Degradation 2/\",\n",
    "    \"Expt 3 - Cathode Degradation and Li-Plating/\",\n",
    "    \"Expt 4 - Drive Cycle Aging (Control)/\",\n",
    "    \"Expt 5 - Standard Cycle Aging (Control)/\",]\n",
    "Exp_head = [\n",
    "    \"Expt 1\",\n",
    "    \"Expt 2,2\",\n",
    "    \"Expt 3\",\n",
    "    \"Expt 4\",\n",
    "    \"Expt 5\",]\n",
    "Exp_1_Cell = [\"A\",\"B\",\"J\",\"D\",\"E\",\"F\",\"K\",\"L\",\"M\"];\n",
    "Exp_1_Temp = {\n",
    "    \"A\":\"10\",\"B\":\"10\",\"J\":\"10\",\n",
    "    \"D\":\"25\",\"E\":\"25\",\"F\":\"25\",\n",
    "    \"K\":\"40\",\"L\":\"40\",\"M\":\"40\",}\n",
    "Temp_Cell_Exp_1 = {\n",
    "    \"10\":[\"A\",\"B\",\"J\"],\n",
    "    \"25\":[\"D\",\"E\",\"F\"],\n",
    "    \"40\":[\"K\",\"L\",\"M\"],}\n",
    "Exp_2_Cell = [\"A\",\"B\",\"C\",\"D\",\"E\",\"F\"];\n",
    "Exp_2_Temp = {\n",
    "    \"A\":\"10\",\"B\":\"10\",\n",
    "    \"C\":\"25\",\"D\":\"25\",\n",
    "    \"E\":\"40\",\"F\":\"40\",}\n",
    "Temp_Cell_Exp_2 = {\n",
    "    \"10\":[\"A\",\"B\"],\n",
    "    \"25\":[\"C\",\"D\"],\n",
    "    \"40\":[\"E\",\"F\"],}\n",
    "Exp_3_Cell = [\"A\",\"B\",\"C\",\"D\",\"E\",\"F\",\"G\",\"H\",\"I\"];\n",
    "Exp_3_Temp = {\n",
    "    \"A\":\"10\",\"B\":\"10\",\"C\":\"10\",\n",
    "    \"D\":\"25\",\"E\":\"25\",\"F\":\"25\",\n",
    "    \"G\":\"40\",\"H\":\"40\",\"I\":\"40\"}\n",
    "Temp_Cell_Exp_3 = {\n",
    "    \"10\":[\"A\",\"B\",\"C\"],\n",
    "    \"25\":[\"D\",\"E\",\"F\"],\n",
    "    \"40\":[\"G\",\"H\",\"I\"],}\n",
    "Exp_4_Cell = [\"A\",\"B\",\"C\",\"D\",\"E\",\"F\",\"G\",\"H\"];\n",
    "Exp_4_Temp = {\n",
    "    \"A\":\"10\",\"B\":\"10\",\"C\":\"10\",\n",
    "    \"D\":\"25\",\"E\":\"25\",\n",
    "    \"F\":\"40\",\"G\":\"40\",\"H\":\"40\",}\n",
    "Temp_Cell_Exp_4 = {\n",
    "    \"10\":[\"A\",\"B\",\"C\"],\n",
    "    \"25\":[\"D\",\"E\",],\n",
    "    \"40\":[\"F\",\"G\",\"H\"],}\n",
    "Exp_5_Cell = [\"A\",\"B\",\"C\",\"D\",\"E\",\"F\",\"G\",\"H\"];\n",
    "Exp_5_Temp = {\n",
    "    \"A\":\"10\",\"B\":\"10\",\"C\":\"10\",\n",
    "    \"D\":\"25\",\"E\":\"25\",\n",
    "    \"F\":\"40\",\"G\":\"40\",\"H\":\"40\",}\n",
    "Temp_Cell_Exp_5 = {\n",
    "    \"10\":[\"A\",\"B\",\"C\"],\n",
    "    \"25\":[\"D\",\"E\",],\n",
    "    \"40\":[\"F\",\"G\",\"H\"],}\n",
    "Exp_All_Cell  = [Exp_1_Cell,Exp_2_Cell,Exp_3_Cell,Exp_4_Cell,Exp_5_Cell]\n",
    "Exp_Temp_Cell = [Exp_1_Temp,Exp_2_Temp,Exp_3_Temp,Exp_4_Temp,Exp_5_Temp]\n",
    "Temp_Cell_Exp_All = [Temp_Cell_Exp_1,Temp_Cell_Exp_2,Temp_Cell_Exp_3,Temp_Cell_Exp_4,Temp_Cell_Exp_5]\n",
    "Mark_Cell_All = [\n",
    "    {\n",
    "    \"A\":\"o\",\"B\":\">\",\"J\":\"v\",\n",
    "    \"D\":\"o\",\"E\":\">\",\"F\":\"v\",\n",
    "    \"K\":\"o\",\"L\":\">\",\"M\":\"v\",},\n",
    "    {\n",
    "    \"A\":\"10\",\"B\":\"10\",\n",
    "    \"C\":\"25\",\"D\":\"25\",\n",
    "    \"E\":\"40\",\"F\":\"40\",},\n",
    "    {\n",
    "    \"A\":\"o\",\"B\":\">\",\"C\":\"v\",\n",
    "    \"D\":\"o\",\"E\":\">\",\"F\":\"v\",\n",
    "    \"G\":\"o\",\"H\":\">\",\"I\":\"v\",},\n",
    "    {\n",
    "    \"A\":\"o\",\"B\":\">\",\"C\":\"v\",\n",
    "    \"D\":\"o\",\"E\":\">\",\n",
    "    \"F\":\"o\",\"G\":\">\",\"H\":\"v\",},\n",
    "    {\n",
    "    \"A\":\"o\",\"B\":\">\",\"C\":\"v\",\n",
    "    \"D\":\"o\",\"E\":\">\",\n",
    "    \"F\":\"o\",\"G\":\">\",\"H\":\"v\",}]\n",
    "Color_Cell_All = [\n",
    "    {\n",
    "    \"A\":[2/255, 3/255, 226/255,0.7],\"B\":[2/255, 3/255, 226/255,0.7],\"J\":[2/255, 3/255, 226/255,0.7],\n",
    "    \"D\":[0, 0, 0,0.7],\"E\":[0, 0, 0,0.7],\"F\":[0, 0, 0,0.7],\n",
    "    \"K\":[1,0,0,0.4],\"L\":[1,0,0,0.4],\"M\":[1,0,0,0.4],},\n",
    "    {\n",
    "    \"A\":[2/255, 3/255, 226/255,0.7],\"B\":[2/255, 3/255, 226/255,0.7],\n",
    "    \"D\":[0, 0, 0,0.7],\"C\":[0, 0, 0,0.7],\n",
    "    \"E\":[1,0,0,0.4],\"F\":[1,0,0,0.4],},\n",
    "    {\n",
    "    \"A\":[2/255, 3/255, 226/255,0.7],\"B\":[2/255, 3/255, 226/255,0.7],\"C\":[2/255, 3/255, 226/255,0.7],\n",
    "    \"D\":[0, 0, 0,0.7],\"E\":[0, 0, 0,0.7],\"F\":[0, 0, 0,0.7],\n",
    "    \"G\":[1,0,0,0.4],\"H\":[1,0,0,0.4],\"I\":[1,0,0,0.4],},\n",
    "    {\n",
    "    \"A\":[2/255, 3/255, 226/255,0.7],\"B\":[2/255, 3/255, 226/255,0.7],\"C\":[2/255, 3/255, 226/255,0.7],\n",
    "    \"D\":[0, 0, 0,0.7],\"E\":[0, 0, 0,0.7],\n",
    "    \"F\":[1,0,0,0.4],\"G\":[1,0,0,0.4],\"H\":[1,0,0,0.4],},\n",
    "    {\n",
    "    \"A\":[2/255, 3/255, 226/255,0.7],\"B\":[2/255, 3/255, 226/255,0.7],\"C\":[2/255, 3/255, 226/255,0.7],\n",
    "    \"D\":[0, 0, 0,0.7],\"E\":[0, 0, 0,0.7],\n",
    "    \"F\":[1,0,0,0.4],\"G\":[1,0,0,0.4],\"H\":[1,0,0,0.4],}]\n",
    "# Update 23-06-17 \n",
    "#   para=\"Total heat transfer coefficient [W.m-2.K-1]\";\n",
    "#   output=\"Volume-averaged cell temperature [C]\"\n",
    "########################  Output  ########################\n",
    "keys_loc_RPT = [ # MAY WANT TO SELECT AGEING CYCLE later\n",
    "    # Default output:\n",
    "    \"x [m]\",\n",
    "    \"x_n [m]\",\n",
    "    \"x_s [m]\",\n",
    "    \"x_p [m]\",\n",
    "    # default: end; \n",
    "    \"CCend Porosity\",\n",
    "    \"CCend Negative electrode interfacial current density [A.m-2]\",\n",
    "    \"CCend Electrolyte potential [V]\",\n",
    "    \"CCend Electrolyte concentration [mol.m-3]\",\n",
    "    \"CCend Negative electrode reaction overpotential [V]\",\n",
    "    \"CCend Negative particle surface concentration [mol.m-3]\",\n",
    "    #\"CCend Negative electrode roughness ratio\",\n",
    "    #\"CCend Total SEI on cracks thickness [m]\",\n",
    "\n",
    "    \"CDend Porosity\",\n",
    "    \"CDend Negative electrode interfacial current density [A.m-2]\",\n",
    "    \"CDend Electrolyte potential [V]\",\n",
    "    \"CDend Electrolyte concentration [mol.m-3]\",\n",
    "    \"CDend Negative electrode reaction overpotential [V]\",\n",
    "    \"CDend Negative particle surface concentration [mol.m-3]\",\n",
    "    #\"CDend Negative electrode roughness ratio\",\n",
    "    #\"CDend Total SEI on cracks thickness [m]\",\n",
    "    #\"REend Total SEI on cracks thickness [m]\",\n",
    "]\n",
    "keys_tim_RPT = [\n",
    "    # default: CD\n",
    "    \"CD Time [h]\",\n",
    "    \"CD Terminal voltage [V]\",\n",
    "    \"CD Anode potential [V]\",    # self defined\n",
    "    \"CD Cathode potential [V]\",  # self defined\n",
    "    \"CC Time [h]\",\n",
    "    \"CC Terminal voltage [V]\",\n",
    "    \"CC Anode potential [V]\",    # self defined\n",
    "    \"CC Cathode potential [V]\",  # self defined\n",
    "]\n",
    "keys_cyc_RPT = [   # default: CDend\n",
    "    \"Discharge capacity [A.h]\",\n",
    "    \"Throughput capacity [A.h]\",\n",
    "    \"CDend Total lithium capacity in particles [A.h]\",\n",
    "    \"CDend Loss of capacity to lithium plating [A.h]\",\n",
    "    \"CDend Loss of capacity to SEI [A.h]\",\n",
    "    \"CDend Loss of capacity to SEI on cracks [A.h]\",\n",
    "    #\"CDend X-averaged total SEI on cracks thickness [m]\",\n",
    "    #\"CDend X-averaged negative electrode roughness ratio\",\n",
    "    \"CDend Local ECM resistance [Ohm]\",\n",
    "    \"CDsta Negative electrode stoichiometry\", \n",
    "    \"CDend Negative electrode stoichiometry\",\n",
    "    \"CDsta Positive electrode stoichiometry\", \n",
    "    \"CDend Positive electrode stoichiometry\",\n",
    "    \"CDend Negative electrode capacity [A.h]\",\n",
    "    \"CDend Positive electrode capacity [A.h]\",\n",
    "]\n",
    "\n",
    "keys_loc_AGE = [ # MAY WANT TO SELECT AGEING CYCLE later\n",
    "    # Default output:\n",
    "    \"x [m]\",\n",
    "    \"x_n [m]\",\n",
    "    \"x_s [m]\",\n",
    "    \"x_p [m]\",\n",
    "    # default: end; \n",
    "    \"CCend Porosity\",\n",
    "    \"CCend Negative electrode interfacial current density [A.m-2]\",\n",
    "    \"CCend Electrolyte potential [V]\",\n",
    "    \"CCend Electrolyte concentration [mol.m-3]\",\n",
    "    \"CCend Negative electrode reaction overpotential [V]\",\n",
    "    \"CCend Negative particle surface concentration [mol.m-3]\",\n",
    "    \"CCend Negative electrode surface potential difference [V]\",\n",
    "    \"CCend SEI film overpotential [V]\",\n",
    "    #\"CCend Negative electrode roughness ratio\",\n",
    "    #\"CCend Total SEI on cracks thickness [m]\",\n",
    "\n",
    "    \"CDend Porosity\",\n",
    "    \"CDend Negative electrode interfacial current density [A.m-2]\",\n",
    "    \"CDend Electrolyte potential [V]\",\n",
    "    \"CDend Electrolyte concentration [mol.m-3]\",\n",
    "    \"CDend Negative electrode reaction overpotential [V]\",\n",
    "    \"CDend Negative particle surface concentration [mol.m-3]\",\n",
    "    #\"CDend Negative electrode roughness ratio\",\n",
    "    #\"CDend Total SEI on cracks thickness [m]\",\n",
    "    \"CDend Negative electrode surface potential difference [V]\",\n",
    "    \"CDend SEI film overpotential [V]\",\n",
    "    \"CDend Electrolyte diffusivity [m2.s-1]\",\n",
    "    \"CDend Electrolyte conductivity [S.m-1]\",\n",
    "]\n",
    "keys_tim_AGE = [\n",
    "    # default: CD\n",
    "    \"CD Time [h]\",\n",
    "    \"CD Terminal voltage [V]\",\n",
    "    \"CD Anode potential [V]\",    # self defined\n",
    "    \"CD Cathode potential [V]\",  # self defined\n",
    "    \n",
    "    \"CC Time [h]\",\n",
    "    \"CC Terminal voltage [V]\",\n",
    "    \"CC Anode potential [V]\",    # self defined\n",
    "    \"CC Cathode potential [V]\",  # self defined\n",
    "]\n",
    "keys_cyc_AGE = [];\n",
    "keys_all_RPT = [keys_loc_RPT,keys_tim_RPT,keys_cyc_RPT];\n",
    "keys_all_AGE = [keys_loc_AGE,keys_tim_AGE,keys_cyc_AGE];\n",
    "keys_all = [keys_all_RPT,keys_all_AGE];\n",
    "\n",
    "\n",
    "# Write para - 1st round:\n",
    "Values_1 = []\n",
    "head_keys = list(Para_dict_list[0].keys())\n",
    "head_pre = [\n",
    "    \"Scan No\",\"Exp No.\",\"Y or N\",\n",
    "    \"Error Tot%\",\"Error SOH %\",\"Error LLI %\",\n",
    "    \"Error LAM NE %\",\"Error LAM PE %\",\n",
    "    \"Error Res %\",\"Error ageT %\",\"Punish\",\n",
    "    \"Dry out\",]\n",
    "\n",
    "head_pos = [ \n",
    "    \"Total ageing cycles\",\"Ageing cycles between RPT\",\n",
    "    \"Update cycles for ageing\",\n",
    "    \"exp_AGE_text\", \"exp_RPT_text\",\n",
    "   \"Cap Loss\",\"LLI to LiP\",\n",
    "   \"LLI to SEI\",\"LLI to sei-on-cracks\",\n",
    "   \"LAM to Neg\",\"LAM to Pos\",\n",
    "   \"Vol_Elely_Tot Final\", \"Vol_Elely_JR Final\",\"Width Final\",\"Error\"]\n",
    "Values_1 .append([*head_pre,*head_keys,*head_pos])\n",
    "book_name_xlsx = f'Summary_{purpose}.xlsx';\n",
    "sheet_name_xlsx = 'Output'\n",
    "Target  = f'/{purpose}/'\n",
    "write_excel_xlsx(\n",
    "    BasicPath + Target + book_name_xlsx, \n",
    "    sheet_name_xlsx, Values_1)   \n",
    "Exp_pack = [\n",
    "    Exp_All_Cell,Temp_Cell_Exp_All,\n",
    "    Exp_Path,Exp_head,Exp_Temp_Cell,\n",
    "    book_name_xlsx,]  \n",
    "# remaining set-up for experiment and create folders\n",
    "\n",
    "if not os.path.exists(BasicPath +Target+\"Mats\"):\n",
    "    os.mkdir(BasicPath +Target +\"Mats\");\n",
    "if not os.path.exists(BasicPath +Target+\"Plots\"):\n",
    "    os.mkdir(BasicPath +Target+\"Plots\");\n",
    "if not os.path.exists(BasicPath +Target+\"Excel\"):\n",
    "    os.mkdir(BasicPath +Target+\"Excel\");"
   ]
  },
  {
   "cell_type": "code",
   "execution_count": 12,
   "metadata": {},
   "outputs": [
    {
     "data": {
      "text/plain": [
       "{'Scan No': 1,\n",
       " 'Exp No.': 2,\n",
       " 'Ageing temperature': 10.0,\n",
       " 'Mesh list': '[5,5,5,100,20]',\n",
       " 'Inner SEI lithium interstitial diffusivity [m2.s-1]': 6.26e-19,\n",
       " 'Dead lithium decay constant [s-1]': 1e-06,\n",
       " 'Lithium plating kinetic rate constant [m.s-1]': 1e-10,\n",
       " 'Negative electrode LAM constant proportional term [s-1]': 1.1e-08,\n",
       " 'Positive electrode LAM constant proportional term [s-1]': 2.98e-18,\n",
       " 'Negative electrode cracking rate': 5.29e-25,\n",
       " 'Outer SEI partial molar volume [m3.mol-1]': 5.41e-05,\n",
       " 'SEI growth activation energy [J.mol-1]': 10000.0,\n",
       " 'Negative cracking growth activation energy [J.mol-1]': 0.0,\n",
       " 'Negative electrode diffusivity activation energy [J.mol-1]': 34000.0,\n",
       " 'Positive electrode diffusivity activation energy [J.mol-1]': 12000.0,\n",
       " 'Contact resistance [Ohm]': 0.01,\n",
       " 'Total heat transfer coefficient [W.m-2.K-1]': 14,\n",
       " 'Initial electrolyte excessive amount ratio': 1.0,\n",
       " 'Cycles within RPT': 1,\n",
       " 'RPT temperature': 25,\n",
       " 'Para_Set': 'OKane2023',\n",
       " 'Model option': \"{'SEI': 'interstitial-diffusion limited', 'SEI on cracks': 'true', 'lithium plating': 'partially reversible', 'lithium plating porosity change': 'true', 'particle mechanics': ('swelling and cracking', 'swelling only'), 'loss of active material': 'stress-driven', 'contact resistance': 'true', 'open-circuit potential': 'current sigmoid', 'SEI film resistance': 'distributed', 'SEI porosity change': 'true', 'thermal': 'lumped'}\",\n",
       " 'Current solvent concentration in the reservoir [mol.m-3]': 4541.0,\n",
       " 'Current electrolyte concentration in the reservoir [mol.m-3]': 1000,\n",
       " 'Ratio of Li-ion concentration change in electrolyte consider solvent consumption': 1.0,\n",
       " 'EC initial concentration in electrolyte [mol.m-3]': 4541.0,\n",
       " 'Typical EC concentration in electrolyte [mol.m-3]': 4541.0}"
      ]
     },
     "execution_count": 12,
     "metadata": {},
     "output_type": "execute_result"
    }
   ],
   "source": [
    "Para_dict_list[0]"
   ]
  },
  {
   "cell_type": "code",
   "execution_count": 13,
   "metadata": {},
   "outputs": [
    {
     "name": "stdout",
     "output_type": "stream",
     "text": [
      "Start Now! Scan 1.\n",
      "Read Exp-2 - Cell A RPT 0\n",
      "Read Exp-2 - Cell A RPT 1\n",
      "Read Exp-2 - Cell A RPT 2\n",
      "Read Exp-2 - Cell A RPT 3\n",
      "Read Exp-2 - Cell A RPT 4\n",
      "Read Exp-2 - Cell A RPT 5\n",
      "Read Exp-2 - Cell A RPT 6\n",
      "Read Exp-2 - Cell A RPT 7\n",
      "Read Exp-2 - Cell A RPT 8\n",
      "Read Exp-2 - Cell A RPT 9\n",
      "Read Exp-2 - Cell A RPT 10\n",
      "Read Exp-2 - Cell A RPT 11\n",
      "Read Exp-2 - Cell A RPT 12\n",
      "Exp-2 - Cell A doesn't have RPT 13\n",
      "Exp-2 - Cell A doesn't have RPT 14\n",
      "Exp-2 - Cell A doesn't have RPT 15\n",
      "Read Exp-2 - Cell B RPT 0\n",
      "Read Exp-2 - Cell B RPT 1\n",
      "Read Exp-2 - Cell B RPT 2\n",
      "Read Exp-2 - Cell B RPT 3\n"
     ]
    },
    {
     "name": "stdout",
     "output_type": "stream",
     "text": [
      "Read Exp-2 - Cell B RPT 4\n",
      "Read Exp-2 - Cell B RPT 5\n",
      "Read Exp-2 - Cell B RPT 6\n",
      "Read Exp-2 - Cell B RPT 7\n",
      "Read Exp-2 - Cell B RPT 8\n",
      "Read Exp-2 - Cell B RPT 9\n",
      "Read Exp-2 - Cell B RPT 10\n",
      "Read Exp-2 - Cell B RPT 11\n",
      "Read Exp-2 - Cell B RPT 12\n",
      "Exp-2 - Cell B doesn't have RPT 13\n",
      "Exp-2 - Cell B doesn't have RPT 14\n",
      "Exp-2 - Cell B doesn't have RPT 15\n",
      "Read Exp-2 - Cell C RPT 0\n",
      "Read Exp-2 - Cell C RPT 1\n",
      "Read Exp-2 - Cell C RPT 2\n",
      "Read Exp-2 - Cell C RPT 3\n",
      "Read Exp-2 - Cell C RPT 4\n",
      "Read Exp-2 - Cell C RPT 5\n",
      "Read Exp-2 - Cell C RPT 6\n",
      "Read Exp-2 - Cell C RPT 7\n",
      "Read Exp-2 - Cell C RPT 8\n",
      "Read Exp-2 - Cell C RPT 9\n",
      "Read Exp-2 - Cell C RPT 10\n",
      "Read Exp-2 - Cell C RPT 11\n",
      "Read Exp-2 - Cell C RPT 12\n",
      "Exp-2 - Cell C doesn't have RPT 13\n",
      "Exp-2 - Cell C doesn't have RPT 14\n",
      "Exp-2 - Cell C doesn't have RPT 15\n",
      "Read Exp-2 - Cell D RPT 0\n",
      "Read Exp-2 - Cell D RPT 1\n",
      "Read Exp-2 - Cell D RPT 2\n",
      "Read Exp-2 - Cell D RPT 3\n",
      "Read Exp-2 - Cell D RPT 4\n",
      "Read Exp-2 - Cell D RPT 5\n",
      "Read Exp-2 - Cell D RPT 6\n",
      "Read Exp-2 - Cell D RPT 7\n",
      "Read Exp-2 - Cell D RPT 8\n",
      "Read Exp-2 - Cell D RPT 9\n",
      "Read Exp-2 - Cell D RPT 10\n",
      "Read Exp-2 - Cell D RPT 11\n",
      "Read Exp-2 - Cell D RPT 12\n",
      "Exp-2 - Cell D doesn't have RPT 13\n",
      "Exp-2 - Cell D doesn't have RPT 14\n",
      "Exp-2 - Cell D doesn't have RPT 15\n",
      "Read Exp-2 - Cell E RPT 0\n",
      "Read Exp-2 - Cell E RPT 1\n",
      "Read Exp-2 - Cell E RPT 2\n",
      "Read Exp-2 - Cell E RPT 3\n",
      "Read Exp-2 - Cell E RPT 4\n",
      "Read Exp-2 - Cell E RPT 5\n",
      "Read Exp-2 - Cell E RPT 6\n",
      "Read Exp-2 - Cell E RPT 7\n",
      "Read Exp-2 - Cell E RPT 8\n",
      "Read Exp-2 - Cell E RPT 9\n",
      "Read Exp-2 - Cell E RPT 10\n",
      "Read Exp-2 - Cell E RPT 11\n",
      "Read Exp-2 - Cell E RPT 12\n",
      "Exp-2 - Cell E doesn't have RPT 13\n",
      "Exp-2 - Cell E doesn't have RPT 14\n",
      "Exp-2 - Cell E doesn't have RPT 15\n",
      "Read Exp-2 - Cell F RPT 0\n",
      "Read Exp-2 - Cell F RPT 1\n",
      "Read Exp-2 - Cell F RPT 2\n",
      "Read Exp-2 - Cell F RPT 3\n",
      "Read Exp-2 - Cell F RPT 4\n",
      "Read Exp-2 - Cell F RPT 5\n",
      "Read Exp-2 - Cell F RPT 6\n",
      "Read Exp-2 - Cell F RPT 7\n",
      "Read Exp-2 - Cell F RPT 8\n",
      "Read Exp-2 - Cell F RPT 9\n",
      "Read Exp-2 - Cell F RPT 10\n",
      "Read Exp-2 - Cell F RPT 11\n",
      "Read Exp-2 - Cell F RPT 12\n",
      "Exp-2 - Cell F doesn't have RPT 13\n",
      "Exp-2 - Cell F doesn't have RPT 14\n",
      "Exp-2 - Cell F doesn't have RPT 15\n",
      "Finish reading Experiment!\n",
      "Has Overwritten Initial outer SEI thickness [m] to be 6.98e-09 and Negative electrode porosity to be 0.234 to account for initial capacity loss of 0.135 Ah\n",
      "Scan 1: DryOut = On\n",
      "Initial electrolyte amount is  5.231375521892558 mL\n",
      "Scan 1: Spent 2.546 s on Initialization\n"
     ]
    },
    {
     "name": "stderr",
     "output_type": "stream",
     "text": [
      "At t = 231.613 and h = 2.02222e-14, the corrector convergence failed repeatedly or with |h| = hmin.\n",
      "At t = 231.621 and h = 8.19941e-12, the corrector convergence failed repeatedly or with |h| = hmin.\n",
      "At t = 81.6202 and h = 9.06343e-12, the corrector convergence failed repeatedly or with |h| = hmin.\n",
      "At t = 81.6201 and h = 2.24943e-11, the corrector convergence failed repeatedly or with |h| = hmin.\n",
      "At t = 81.6206 and h = 7.10608e-12, the corrector convergence failed repeatedly or with |h| = hmin.\n"
     ]
    },
    {
     "name": "stdout",
     "output_type": "stream",
     "text": [
      "Scan 1: Finish break-in cycle within 4 minutes, 29 seconds\n",
      "Scan 1: Finish post-process for break-in cycle within 31.324 s\n"
     ]
    },
    {
     "name": "stderr",
     "output_type": "stream",
     "text": [
      "At t = 33.0396 and h = 5.08633e-12, the corrector convergence failed repeatedly or with |h| = hmin.\n",
      "At t = 33.0395 and h = 4.33648e-12, the corrector convergence failed repeatedly or with |h| = hmin.\n",
      "At t = 33.0395 and h = 5.36344e-12, the corrector convergence failed repeatedly or with |h| = hmin.\n",
      "At t = 33.0396 and h = 2.8846e-12, the corrector convergence failed repeatedly or with |h| = hmin.\n",
      "At t = 33.0395 and h = 6.89038e-13, the corrector convergence failed repeatedly or with |h| = hmin.\n",
      "At t = 410.574 and h = 5.85811e-12, the corrector convergence failed repeatedly or with |h| = hmin.\n",
      "At t = 118.679 and h = 4.15743e-12, the corrector convergence failed repeatedly or with |h| = hmin.\n",
      "At t = 118.679 and h = 3.47431e-12, the corrector convergence failed repeatedly or with |h| = hmin.\n"
     ]
    },
    {
     "name": "stdout",
     "output_type": "stream",
     "text": [
      "Scan 1: Finish for No.0 ageing cycles within 43 minutes, 34 seconds\n",
      "Scan 1: Finish post-process for No.516 ageing cycles within 153.117 ms\n"
     ]
    },
    {
     "name": "stderr",
     "output_type": "stream",
     "text": [
      "At t = 221.629 and h = 1.0564e-11, the corrector convergence failed repeatedly or with |h| = hmin.\n",
      "At t = 221.629 and h = 1.45652e-11, the corrector convergence failed repeatedly or with |h| = hmin.\n"
     ]
    },
    {
     "name": "stdout",
     "output_type": "stream",
     "text": [
      "Scan 1: Finish for No.516 RPT cycles within 5 minutes, 8 seconds\n",
      "Scan 1: Finish post-process for No.516 RPT cycles within 12.124 s\n"
     ]
    },
    {
     "name": "stderr",
     "output_type": "stream",
     "text": [
      "At t = 32.4536 and h = 3.34897e-12, the corrector convergence failed repeatedly or with |h| = hmin.\n",
      "At t = 32.4536 and h = 2.14607e-12, the corrector convergence failed repeatedly or with |h| = hmin.\n",
      "At t = 32.4536 and h = 3.11441e-12, the corrector convergence failed repeatedly or with |h| = hmin.\n",
      "At t = 32.4536 and h = 3.79155e-12, the corrector convergence failed repeatedly or with |h| = hmin.\n",
      "At t = 32.453 and h = 4.78765e-15, the corrector convergence failed repeatedly or with |h| = hmin.\n",
      "At t = 409.465 and h = 4.69816e-15, the corrector convergence failed repeatedly or with |h| = hmin.\n",
      "At t = 117.57 and h = 5.34518e-12, the corrector convergence failed repeatedly or with |h| = hmin.\n",
      "At t = 117.57 and h = 7.4052e-12, the corrector convergence failed repeatedly or with |h| = hmin.\n"
     ]
    },
    {
     "name": "stdout",
     "output_type": "stream",
     "text": [
      "Scan 1: Finish for No.516 ageing cycles within 39 minutes, 41 seconds\n",
      "Scan 1: Finish post-process for No.1032 ageing cycles within 93.503 ms\n"
     ]
    },
    {
     "name": "stderr",
     "output_type": "stream",
     "text": [
      "At t = 208.18 and h = 1.42847e-11, the corrector convergence failed repeatedly or with |h| = hmin.\n",
      "At t = 208.18 and h = 2.22908e-11, the corrector convergence failed repeatedly or with |h| = hmin.\n"
     ]
    },
    {
     "name": "stdout",
     "output_type": "stream",
     "text": [
      "Scan 1: Finish for No.1032 RPT cycles within 4 minutes, 32 seconds\n",
      "Scan 1: Finish post-process for No.1032 RPT cycles within 10.159 s\n"
     ]
    },
    {
     "name": "stderr",
     "output_type": "stream",
     "text": [
      "At t = 31.6514 and h = 8.5058e-12, the corrector convergence failed repeatedly or with |h| = hmin.\n",
      "At t = 31.6515 and h = 3.22981e-12, the corrector convergence failed repeatedly or with |h| = hmin.\n",
      "At t = 31.6515 and h = 4.79492e-12, the corrector convergence failed repeatedly or with |h| = hmin.\n",
      "At t = 31.6515 and h = 3.30319e-12, the corrector convergence failed repeatedly or with |h| = hmin.\n",
      "At t = 31.6515 and h = 2.6239e-12, the corrector convergence failed repeatedly or with |h| = hmin.\n",
      "At t = 407.751 and h = 1.12416e-11, the corrector convergence failed repeatedly or with |h| = hmin.\n",
      "At t = 115.855 and h = 4.45087e-15, the corrector convergence failed repeatedly or with |h| = hmin.\n",
      "At t = 115.855 and h = 5.23919e-15, the corrector convergence failed repeatedly or with |h| = hmin.\n",
      "At t = 115.856 and h = 3.75755e-12, the corrector convergence failed repeatedly or with |h| = hmin.\n",
      "At t = 57.4762 and h = 3.94622e-15, the corrector convergence failed repeatedly or with |h| = hmin.\n"
     ]
    },
    {
     "name": "stdout",
     "output_type": "stream",
     "text": [
      "Scan 1: Finish for No.1032 ageing cycles within 39 minutes, 55 seconds\n",
      "Scan 1: Finish post-process for No.1548 ageing cycles within 102.557 ms\n"
     ]
    },
    {
     "name": "stderr",
     "output_type": "stream",
     "text": [
      "At t = 195.701 and h = 1.28585e-11, the corrector convergence failed repeatedly or with |h| = hmin.\n",
      "At t = 195.7 and h = 4.56838e-11, the corrector convergence failed repeatedly or with |h| = hmin.\n"
     ]
    },
    {
     "name": "stdout",
     "output_type": "stream",
     "text": [
      "Scan 1: Finish for No.1548 RPT cycles within 5 minutes, 1 second\n",
      "Scan 1: Finish post-process for No.1548 RPT cycles within 11.435 s\n"
     ]
    },
    {
     "name": "stderr",
     "output_type": "stream",
     "text": [
      "At t = 30.8235 and h = 2.05423e-12, the corrector convergence failed repeatedly or with |h| = hmin.\n",
      "At t = 30.8235 and h = 5.06363e-12, the corrector convergence failed repeatedly or with |h| = hmin.\n",
      "At t = 30.8236 and h = 7.80345e-13, the corrector convergence failed repeatedly or with |h| = hmin.\n",
      "At t = 30.8235 and h = 4.02788e-12, the corrector convergence failed repeatedly or with |h| = hmin.\n",
      "At t = 30.8235 and h = 6.66547e-12, the corrector convergence failed repeatedly or with |h| = hmin.\n",
      "At t = 405.907 and h = 7.94906e-12, the corrector convergence failed repeatedly or with |h| = hmin.\n",
      "At t = 114.012 and h = 4.25446e-12, the corrector convergence failed repeatedly or with |h| = hmin.\n",
      "At t = 114.012 and h = 3.90182e-12, the corrector convergence failed repeatedly or with |h| = hmin.\n",
      "At t = 114.01 and h = 1.04012e-14, the corrector convergence failed repeatedly or with |h| = hmin.\n",
      "At t = 55.6333 and h = 2.83174e-13, the corrector convergence failed repeatedly or with |h| = hmin.\n"
     ]
    },
    {
     "name": "stdout",
     "output_type": "stream",
     "text": [
      "Scan 1: Finish for No.1548 ageing cycles within 42 minutes, 15 seconds\n",
      "Scan 1: Finish post-process for No.2064 ageing cycles within 97.534 ms\n"
     ]
    },
    {
     "name": "stderr",
     "output_type": "stream",
     "text": [
      "At t = 498.426 and h = 6.86975e-12, the corrector convergence failed repeatedly or with |h| = hmin.\n",
      "At t = 347.132 and h = 1.29708e-11, the corrector convergence failed repeatedly or with |h| = hmin.\n",
      "At t = 184.059 and h = 1.27233e-12, the corrector convergence failed repeatedly or with |h| = hmin.\n",
      "At t = 184.059 and h = 1.15623e-11, the corrector convergence failed repeatedly or with |h| = hmin.\n"
     ]
    },
    {
     "name": "stdout",
     "output_type": "stream",
     "text": [
      "Scan 1: Finish for No.2064 RPT cycles within 5 minutes, 14 seconds\n",
      "Scan 1: Finish post-process for No.2064 RPT cycles within 12.925 s\n"
     ]
    },
    {
     "name": "stderr",
     "output_type": "stream",
     "text": [
      "At t = 29.9714 and h = 4.83246e-16, the corrector convergence failed repeatedly or with |h| = hmin.\n",
      "At t = 29.9718 and h = 5.68449e-12, the corrector convergence failed repeatedly or with |h| = hmin.\n",
      "At t = 29.9693 and h = 1.06584e-13, the corrector convergence failed repeatedly or with |h| = hmin.\n",
      "At t = 29.9719 and h = 1.85237e-12, the corrector convergence failed repeatedly or with |h| = hmin.\n",
      "At t = 29.9712 and h = 2.53959e-15, the corrector convergence failed repeatedly or with |h| = hmin.\n",
      "At t = 403.935 and h = 8.93092e-12, the corrector convergence failed repeatedly or with |h| = hmin.\n",
      "At t = 112.041 and h = 1.88828e-12, the corrector convergence failed repeatedly or with |h| = hmin.\n",
      "At t = 112.041 and h = 4.81459e-12, the corrector convergence failed repeatedly or with |h| = hmin.\n",
      "At t = 112.04 and h = 3.97373e-15, the corrector convergence failed repeatedly or with |h| = hmin.\n",
      "At t = 53.6599 and h = 9.84493e-15, the corrector convergence failed repeatedly or with |h| = hmin.\n"
     ]
    },
    {
     "name": "stdout",
     "output_type": "stream",
     "text": [
      "Scan 1: Finish for No.2064 ageing cycles within 42 minutes, 39 seconds\n",
      "Scan 1: Finish post-process for No.2580 ageing cycles within 120.929 ms\n"
     ]
    },
    {
     "name": "stderr",
     "output_type": "stream",
     "text": [
      "At t = 332.63 and h = 1.08346e-11, the corrector convergence failed repeatedly or with |h| = hmin.\n",
      "At t = 173.152 and h = 4.1264e-13, the corrector convergence failed repeatedly or with |h| = hmin.\n",
      "At t = 173.152 and h = 1.26145e-11, the corrector convergence failed repeatedly or with |h| = hmin.\n"
     ]
    },
    {
     "name": "stdout",
     "output_type": "stream",
     "text": [
      "Scan 1: Finish for No.2580 RPT cycles within 5 minutes, 9 seconds\n",
      "Scan 1: Finish post-process for No.2580 RPT cycles within 12.025 s\n"
     ]
    },
    {
     "name": "stderr",
     "output_type": "stream",
     "text": [
      "At t = 29.1006 and h = 6.32598e-12, the corrector convergence failed repeatedly or with |h| = hmin.\n",
      "At t = 29.1007 and h = 3.17276e-12, the corrector convergence failed repeatedly or with |h| = hmin.\n",
      "At t = 29.0994 and h = 4.22155e-15, the corrector convergence failed repeatedly or with |h| = hmin.\n",
      "At t = 29.0993 and h = 4.3466e-15, the corrector convergence failed repeatedly or with |h| = hmin.\n",
      "At t = 29.1007 and h = 1.12361e-12, the corrector convergence failed repeatedly or with |h| = hmin.\n",
      "At t = 401.842 and h = 4.64967e-12, the corrector convergence failed repeatedly or with |h| = hmin.\n",
      "At t = 109.947 and h = 8.02074e-12, the corrector convergence failed repeatedly or with |h| = hmin.\n",
      "At t = 109.945 and h = 1.73435e-15, the corrector convergence failed repeatedly or with |h| = hmin.\n",
      "At t = 109.947 and h = 1.39086e-13, the corrector convergence failed repeatedly or with |h| = hmin.\n",
      "At t = 51.5676 and h = 6.61197e-12, the corrector convergence failed repeatedly or with |h| = hmin.\n"
     ]
    },
    {
     "name": "stdout",
     "output_type": "stream",
     "text": [
      "Scan 1: Finish for No.2580 ageing cycles within 39 minutes, 47 seconds\n",
      "Scan 1: Finish post-process for No.3096 ageing cycles within 94.426 ms\n"
     ]
    },
    {
     "name": "stderr",
     "output_type": "stream",
     "text": [
      "At t = 318.58 and h = 1.77565e-11, the corrector convergence failed repeatedly or with |h| = hmin.\n",
      "At t = 162.905 and h = 1.01362e-11, the corrector convergence failed repeatedly or with |h| = hmin.\n",
      "At t = 162.905 and h = 7.20108e-13, the corrector convergence failed repeatedly or with |h| = hmin.\n"
     ]
    },
    {
     "name": "stdout",
     "output_type": "stream",
     "text": [
      "Scan 1: Finish for No.3096 RPT cycles within 4 minutes, 36 seconds\n",
      "Scan 1: Finish post-process for No.3096 RPT cycles within 10.770 s\n"
     ]
    },
    {
     "name": "stderr",
     "output_type": "stream",
     "text": [
      "At t = 28.212 and h = 1.57753e-15, the corrector convergence failed repeatedly or with |h| = hmin.\n",
      "At t = 28.2123 and h = 4.19989e-12, the corrector convergence failed repeatedly or with |h| = hmin.\n",
      "At t = 28.2123 and h = 2.58606e-12, the corrector convergence failed repeatedly or with |h| = hmin.\n",
      "At t = 28.2123 and h = 4.92902e-12, the corrector convergence failed repeatedly or with |h| = hmin.\n",
      "At t = 28.2123 and h = 4.13089e-12, the corrector convergence failed repeatedly or with |h| = hmin.\n",
      "At t = 399.627 and h = 3.66147e-12, the corrector convergence failed repeatedly or with |h| = hmin.\n",
      "At t = 107.732 and h = 4.90478e-12, the corrector convergence failed repeatedly or with |h| = hmin.\n",
      "At t = 107.732 and h = 5.01474e-12, the corrector convergence failed repeatedly or with |h| = hmin.\n",
      "At t = 107.732 and h = 1.20095e-12, the corrector convergence failed repeatedly or with |h| = hmin.\n",
      "At t = 49.3529 and h = 4.54419e-12, the corrector convergence failed repeatedly or with |h| = hmin.\n"
     ]
    },
    {
     "name": "stdout",
     "output_type": "stream",
     "text": [
      "Scan 1: Finish for No.3096 ageing cycles within 38 minutes, 54 seconds\n",
      "Scan 1: Finish post-process for No.3612 ageing cycles within 125.420 ms\n"
     ]
    },
    {
     "name": "stderr",
     "output_type": "stream",
     "text": [
      "At t = 304.929 and h = 2.42925e-11, the corrector convergence failed repeatedly or with |h| = hmin.\n",
      "At t = 153.258 and h = 1.40968e-11, the corrector convergence failed repeatedly or with |h| = hmin.\n",
      "At t = 153.258 and h = 1.15247e-11, the corrector convergence failed repeatedly or with |h| = hmin.\n"
     ]
    },
    {
     "name": "stdout",
     "output_type": "stream",
     "text": [
      "Scan 1: Finish for No.3612 RPT cycles within 4 minutes, 43 seconds\n",
      "Scan 1: Finish post-process for No.3612 RPT cycles within 10.639 s\n"
     ]
    },
    {
     "name": "stderr",
     "output_type": "stream",
     "text": [
      "At t = 27.3096 and h = 5.35942e-12, the corrector convergence failed repeatedly or with |h| = hmin.\n",
      "At t = 27.3096 and h = 5.35711e-12, the corrector convergence failed repeatedly or with |h| = hmin.\n",
      "At t = 27.3097 and h = 3.89809e-12, the corrector convergence failed repeatedly or with |h| = hmin.\n",
      "At t = 27.3096 and h = 8.81035e-13, the corrector convergence failed repeatedly or with |h| = hmin.\n",
      "At t = 27.3096 and h = 5.44225e-12, the corrector convergence failed repeatedly or with |h| = hmin.\n",
      "At t = 397.292 and h = 3.43524e-12, the corrector convergence failed repeatedly or with |h| = hmin.\n",
      "At t = 105.398 and h = 8.70424e-12, the corrector convergence failed repeatedly or with |h| = hmin.\n",
      "At t = 105.398 and h = 6.44473e-12, the corrector convergence failed repeatedly or with |h| = hmin.\n",
      "At t = 105.398 and h = 5.87528e-12, the corrector convergence failed repeatedly or with |h| = hmin.\n",
      "At t = 47.0187 and h = 6.79694e-12, the corrector convergence failed repeatedly or with |h| = hmin.\n"
     ]
    },
    {
     "name": "stdout",
     "output_type": "stream",
     "text": [
      "Scan 1: Finish for No.3612 ageing cycles within 39 minutes, 49 seconds\n",
      "Scan 1: Finish post-process for No.4128 ageing cycles within 132.256 ms\n"
     ]
    },
    {
     "name": "stderr",
     "output_type": "stream",
     "text": [
      "At t = 291.632 and h = 3.81446e-12, the corrector convergence failed repeatedly or with |h| = hmin.\n",
      "At t = 291.632 and h = 1.05493e-11, the corrector convergence failed repeatedly or with |h| = hmin.\n",
      "At t = 141.63 and h = 6.79088e-14, the corrector convergence failed repeatedly or with |h| = hmin.\n",
      "At t = 144.154 and h = 8.97062e-13, the corrector convergence failed repeatedly or with |h| = hmin.\n",
      "At t = 144.155 and h = 1.63556e-11, the corrector convergence failed repeatedly or with |h| = hmin.\n",
      "At t = 144.155 and h = 3.0985e-12, the corrector convergence failed repeatedly or with |h| = hmin.\n",
      "At t = 69.1558 and h = 7.16369e-12, the corrector convergence failed repeatedly or with |h| = hmin.\n",
      "At t = 69.1554 and h = 1.82333e-11, the corrector convergence failed repeatedly or with |h| = hmin.\n",
      "At t = 69.1555 and h = 1.51035e-11, the corrector convergence failed repeatedly or with |h| = hmin.\n",
      "At t = 69.1556 and h = 1.43081e-11, the corrector convergence failed repeatedly or with |h| = hmin.\n"
     ]
    },
    {
     "name": "stdout",
     "output_type": "stream",
     "text": [
      "Scan 1: Finish for No.4128 RPT cycles within 5 minutes, 34 seconds\n",
      "Scan 1: Finish post-process for No.4128 RPT cycles within 12.108 s\n"
     ]
    },
    {
     "name": "stderr",
     "output_type": "stream",
     "text": [
      "At t = 26.3963 and h = 1.61306e-12, the corrector convergence failed repeatedly or with |h| = hmin.\n",
      "At t = 26.3962 and h = 6.86589e-12, the corrector convergence failed repeatedly or with |h| = hmin.\n",
      "At t = 26.3963 and h = 3.04584e-12, the corrector convergence failed repeatedly or with |h| = hmin.\n",
      "At t = 26.3963 and h = 3.43747e-12, the corrector convergence failed repeatedly or with |h| = hmin.\n",
      "At t = 26.3958 and h = 1.71081e-15, the corrector convergence failed repeatedly or with |h| = hmin.\n",
      "At t = 394.843 and h = 4.08417e-12, the corrector convergence failed repeatedly or with |h| = hmin.\n",
      "At t = 102.949 and h = 2.60827e-12, the corrector convergence failed repeatedly or with |h| = hmin.\n",
      "At t = 102.949 and h = 3.49886e-12, the corrector convergence failed repeatedly or with |h| = hmin.\n",
      "At t = 102.949 and h = 8.10953e-12, the corrector convergence failed repeatedly or with |h| = hmin.\n"
     ]
    },
    {
     "name": "stdout",
     "output_type": "stream",
     "text": [
      "Scan 1: Finish for No.4128 ageing cycles within 42 minutes, 48 seconds\n",
      "Scan 1: Finish post-process for No.4644 ageing cycles within 119.923 ms\n"
     ]
    },
    {
     "name": "stderr",
     "output_type": "stream",
     "text": [
      "At t = 278.65 and h = 6.14684e-14, the corrector convergence failed repeatedly or with |h| = hmin.\n",
      "At t = 278.65 and h = 6.14999e-14, the corrector convergence failed repeatedly or with |h| = hmin.\n",
      "At t = 128.653 and h = 7.55639e-15, the corrector convergence failed repeatedly or with |h| = hmin.\n",
      "At t = 135.557 and h = 1.50188e-11, the corrector convergence failed repeatedly or with |h| = hmin.\n",
      "At t = 135.557 and h = 9.11728e-12, the corrector convergence failed repeatedly or with |h| = hmin.\n",
      "At t = 135.557 and h = 1.29977e-11, the corrector convergence failed repeatedly or with |h| = hmin.\n"
     ]
    },
    {
     "name": "stdout",
     "output_type": "stream",
     "text": [
      "Scan 1: Finish for No.4644 RPT cycles within 4 minutes, 49 seconds\n",
      "Scan 1: Finish post-process for No.4644 RPT cycles within 10.603 s\n"
     ]
    },
    {
     "name": "stderr",
     "output_type": "stream",
     "text": [
      "At t = 25.4743 and h = 3.89319e-12, the corrector convergence failed repeatedly or with |h| = hmin.\n",
      "At t = 25.4743 and h = 4.69476e-12, the corrector convergence failed repeatedly or with |h| = hmin.\n",
      "At t = 25.4744 and h = 8.742e-13, the corrector convergence failed repeatedly or with |h| = hmin.\n",
      "At t = 25.4743 and h = 4.71552e-12, the corrector convergence failed repeatedly or with |h| = hmin.\n",
      "At t = 25.4743 and h = 4.66466e-12, the corrector convergence failed repeatedly or with |h| = hmin.\n",
      "At t = 392.278 and h = 6.74484e-15, the corrector convergence failed repeatedly or with |h| = hmin.\n",
      "At t = 100.385 and h = 5.22193e-12, the corrector convergence failed repeatedly or with |h| = hmin.\n",
      "At t = 100.385 and h = 5.71681e-12, the corrector convergence failed repeatedly or with |h| = hmin.\n",
      "At t = 100.385 and h = 5.56369e-12, the corrector convergence failed repeatedly or with |h| = hmin.\n"
     ]
    },
    {
     "name": "stdout",
     "output_type": "stream",
     "text": [
      "Scan 1: Finish for No.4644 ageing cycles within 39 minutes, 57 seconds\n",
      "Scan 1: Finish post-process for No.5160 ageing cycles within 107.981 ms\n"
     ]
    },
    {
     "name": "stderr",
     "output_type": "stream",
     "text": [
      "At t = 265.967 and h = 1.14642e-11, the corrector convergence failed repeatedly or with |h| = hmin.\n",
      "At t = 265.967 and h = 1.80774e-11, the corrector convergence failed repeatedly or with |h| = hmin.\n",
      "At t = 115.967 and h = 3.62978e-11, the corrector convergence failed repeatedly or with |h| = hmin.\n",
      "At t = 128.591 and h = 1.07948e-11, the corrector convergence failed repeatedly or with |h| = hmin.\n",
      "At t = 128.591 and h = 1.54631e-11, the corrector convergence failed repeatedly or with |h| = hmin.\n",
      "At t = 128.591 and h = 1.67474e-11, the corrector convergence failed repeatedly or with |h| = hmin.\n"
     ]
    },
    {
     "name": "stdout",
     "output_type": "stream",
     "text": [
      "Scan 1: Finish for No.5160 RPT cycles within 4 minutes, 52 seconds\n",
      "Scan 1: Finish post-process for No.5160 RPT cycles within 10.477 s\n"
     ]
    },
    {
     "name": "stderr",
     "output_type": "stream",
     "text": [
      "At t = 24.6791 and h = 2.09061e-12, the corrector convergence failed repeatedly or with |h| = hmin.\n",
      "At t = 24.6791 and h = 3.96033e-12, the corrector convergence failed repeatedly or with |h| = hmin.\n",
      "At t = 24.6789 and h = 1.6264e-15, the corrector convergence failed repeatedly or with |h| = hmin.\n",
      "At t = 24.6792 and h = 2.63936e-12, the corrector convergence failed repeatedly or with |h| = hmin.\n",
      "At t = 24.6791 and h = 5.60803e-12, the corrector convergence failed repeatedly or with |h| = hmin.\n",
      "At t = 390.039 and h = 3.796e-12, the corrector convergence failed repeatedly or with |h| = hmin.\n",
      "At t = 98.1441 and h = 5.50122e-12, the corrector convergence failed repeatedly or with |h| = hmin.\n",
      "At t = 98.1436 and h = 1.99866e-14, the corrector convergence failed repeatedly or with |h| = hmin.\n",
      "At t = 96.1516 and h = 1.14223e-11, the corrector convergence failed repeatedly or with |h| = hmin.\n"
     ]
    },
    {
     "name": "stdout",
     "output_type": "stream",
     "text": [
      "Scan 1: Finish for No.5160 ageing cycles within 42 minutes, 46 seconds\n",
      "Scan 1: Finish post-process for No.5676 ageing cycles within 134.443 ms\n"
     ]
    },
    {
     "name": "stderr",
     "output_type": "stream",
     "text": [
      "At t = 253.545 and h = 1.71306e-11, the corrector convergence failed repeatedly or with |h| = hmin.\n",
      "At t = 253.546 and h = 1.55553e-11, the corrector convergence failed repeatedly or with |h| = hmin.\n",
      "At t = 103.542 and h = 2.59228e-14, the corrector convergence failed repeatedly or with |h| = hmin.\n",
      "At t = 128.101 and h = 1.96774e-11, the corrector convergence failed repeatedly or with |h| = hmin.\n",
      "At t = 128.101 and h = 8.0365e-12, the corrector convergence failed repeatedly or with |h| = hmin.\n",
      "At t = 128.101 and h = 1.11518e-11, the corrector convergence failed repeatedly or with |h| = hmin.\n"
     ]
    },
    {
     "name": "stdout",
     "output_type": "stream",
     "text": [
      "Scan 1: Finish for No.5676 RPT cycles within 5 minutes, 15 seconds\n",
      "Scan 1: Finish post-process for No.5676 RPT cycles within 15.541 s\n"
     ]
    },
    {
     "name": "stderr",
     "output_type": "stream",
     "text": [
      "At t = 24.6022 and h = 2.79061e-12, the corrector convergence failed repeatedly or with |h| = hmin.\n",
      "At t = 24.6021 and h = 4.01504e-12, the corrector convergence failed repeatedly or with |h| = hmin.\n",
      "At t = 24.6022 and h = 3.54292e-12, the corrector convergence failed repeatedly or with |h| = hmin.\n",
      "At t = 24.6022 and h = 2.94621e-12, the corrector convergence failed repeatedly or with |h| = hmin.\n",
      "At t = 24.6022 and h = 2.8741e-12, the corrector convergence failed repeatedly or with |h| = hmin.\n",
      "At t = 390.113 and h = 2.66213e-12, the corrector convergence failed repeatedly or with |h| = hmin.\n",
      "At t = 98.2169 and h = 3.05012e-15, the corrector convergence failed repeatedly or with |h| = hmin.\n",
      "At t = 98.2179 and h = 1.97707e-12, the corrector convergence failed repeatedly or with |h| = hmin.\n",
      "At t = 98.2178 and h = 3.04752e-12, the corrector convergence failed repeatedly or with |h| = hmin.\n"
     ]
    },
    {
     "name": "stdout",
     "output_type": "stream",
     "text": [
      "Scan 1: Finish for No.5676 ageing cycles within 42 minutes, 15 seconds\n",
      "Scan 1: Finish post-process for No.6192 ageing cycles within 131.236 ms\n"
     ]
    },
    {
     "name": "stderr",
     "output_type": "stream",
     "text": [
      "At t = 499.941 and h = 6.27751e-11, the corrector convergence failed repeatedly or with |h| = hmin.\n",
      "At t = 241.37 and h = 5.31154e-12, the corrector convergence failed repeatedly or with |h| = hmin.\n",
      "At t = 241.37 and h = 1.41239e-11, the corrector convergence failed repeatedly or with |h| = hmin.\n",
      "At t = 91.3702 and h = 1.57692e-11, the corrector convergence failed repeatedly or with |h| = hmin.\n",
      "At t = 127.545 and h = 6.31731e-12, the corrector convergence failed repeatedly or with |h| = hmin.\n",
      "At t = 127.541 and h = 3.02177e-14, the corrector convergence failed repeatedly or with |h| = hmin.\n",
      "At t = 127.545 and h = 8.17488e-12, the corrector convergence failed repeatedly or with |h| = hmin.\n"
     ]
    },
    {
     "name": "stdout",
     "output_type": "stream",
     "text": [
      "Scan 1: Finish for No.6192 RPT cycles within 4 minutes, 59 seconds\n",
      "Scan 1: Finish post-process for No.6192 RPT cycles within 11.204 s\n",
      "Scan 1: Getting extra variables within 223.400 us\n",
      "Scan 1: Finish all plots within 7.608 s\n",
      "Successfully create a excel file\n",
      "Scan 1: Successfully save json file!\n",
      "Scan 1: Successfully save mat file!\n",
      "Scan 1: Try saving within 95.416 ms\n",
      "Succeed doing something in 9 hours, 21 minutes, 43 seconds\n",
      "This is the end of No. 1  scan\n"
     ]
    }
   ],
   "source": [
    "fs = 13; dpi = 100;\n",
    "midc_merge_all = [];Sol_RPT_all = [];Sol_AGE_all = [];\n",
    "Plot_Exp=True;     Timeout=False;  \n",
    "Return_Sol=False;   Check_Small_Time=True; R_from_GITT = True\n",
    "\n",
    "midc_merge,Sol_RPT,Call_1Cyc = Run_P2_Excel (\n",
    "    Para_dict_list[0],BasicPath, Path_NiallDMA, \n",
    "    purpose,    Exp_pack, keys_all,dpi,fs,\n",
    "    Runshort,   Plot_Exp,Timeout,Return_Sol,\n",
    "    Check_Small_Time, R_from_GITT\n",
    ") \n"
   ]
  },
  {
   "cell_type": "code",
   "execution_count": 14,
   "metadata": {},
   "outputs": [
    {
     "data": {
      "text/plain": [
       "[4.868379797783549,\n",
       " 4.845874119255121,\n",
       " 4.834537072234205,\n",
       " 4.8237168540174,\n",
       " 4.813325865401952,\n",
       " 4.803298397849961,\n",
       " 4.793586405843329,\n",
       " 4.7841510619037715,\n",
       " 4.774963384577858,\n",
       " 4.765998394038875,\n",
       " 4.757235357806855,\n",
       " 4.748656510556295,\n",
       " 4.740249599754433]"
      ]
     },
     "execution_count": 14,
     "metadata": {},
     "output_type": "execute_result"
    }
   ],
   "source": [
    "midc_merge[\"Discharge capacity [A.h]\"]"
   ]
  },
  {
   "cell_type": "code",
   "execution_count": 15,
   "metadata": {},
   "outputs": [
    {
     "data": {
      "text/plain": [
       "[100.0,\n",
       " 99.53771728042511,\n",
       " 99.30484623314001,\n",
       " 99.08259121881817,\n",
       " 98.8691528872365,\n",
       " 98.66318153807109,\n",
       " 98.46369028204678,\n",
       " 98.26988157501343,\n",
       " 98.08116011720736,\n",
       " 97.89701280513724,\n",
       " 97.71701377884906,\n",
       " 97.5407981258619,\n",
       " 97.3681141703971]"
      ]
     },
     "execution_count": 15,
     "metadata": {},
     "output_type": "execute_result"
    }
   ],
   "source": [
    "midc_merge['CDend SOH [%]']"
   ]
  },
  {
   "cell_type": "code",
   "execution_count": 16,
   "metadata": {},
   "outputs": [
    {
     "ename": "NameError",
     "evalue": "name 'Sol_0' is not defined",
     "output_type": "error",
     "traceback": [
      "\u001b[0;31m---------------------------------------------------------------------------\u001b[0m",
      "\u001b[0;31mNameError\u001b[0m                                 Traceback (most recent call last)",
      "\u001b[1;32m/home/ruihe_li/EnvPBGEM_Linux/PyBaMM-GEM/wip/Rio_Code/P2_R9_Dim/Debug/Full_Exp23_Paper_8_1_case_1.ipynb Cell 8\u001b[0m line \u001b[0;36m2\n\u001b[1;32m      <a href='vscode-notebook-cell://wsl%2Bubuntu-22.04/home/ruihe_li/EnvPBGEM_Linux/PyBaMM-GEM/wip/Rio_Code/P2_R9_Dim/Debug/Full_Exp23_Paper_8_1_case_1.ipynb#W6sdnNjb2RlLXJlbW90ZQ%3D%3D?line=0'>1</a>\u001b[0m pb\u001b[39m.\u001b[39mplot_voltage_components(\n\u001b[0;32m----> <a href='vscode-notebook-cell://wsl%2Bubuntu-22.04/home/ruihe_li/EnvPBGEM_Linux/PyBaMM-GEM/wip/Rio_Code/P2_R9_Dim/Debug/Full_Exp23_Paper_8_1_case_1.ipynb#W6sdnNjb2RlLXJlbW90ZQ%3D%3D?line=1'>2</a>\u001b[0m     Sol_0[\u001b[39m0\u001b[39m]\u001b[39m.\u001b[39mcycles[\u001b[39m0\u001b[39m]\u001b[39m.\u001b[39msteps[\u001b[39m0\u001b[39m])\n",
      "\u001b[0;31mNameError\u001b[0m: name 'Sol_0' is not defined"
     ]
    }
   ],
   "source": [
    "\n",
    "pb.plot_voltage_components(\n",
    "    Sol_0[0].cycles[0].steps[0])"
   ]
  },
  {
   "cell_type": "code",
   "execution_count": null,
   "metadata": {},
   "outputs": [],
   "source": [
    "# Sol_0[0].cycles[-1][\"Negative electrode stoichiometry\"].entries\n",
    "#label = [\"Diff_Li_SEI = 1e-18\",\"Diff_Li_SEI = 1e-16\"] \n",
    "vars = [\n",
    "    \"Negative electrode stoichiometry\",\n",
    "    \"Positive electrode stoichiometry\",\n",
    "    \"SEI interfacial current density [A.m-2]\",\n",
    "    \"Negative particle surface concentration [mol.m-3]\",\n",
    "    \n",
    "]\n",
    "quick_plot = pb.QuickPlot(\n",
    "    Sol_0[0].cycles[-1], \n",
    "    vars,variable_limits='tight') #     \n",
    "quick_plot.dynamic_plot();"
   ]
  },
  {
   "cell_type": "code",
   "execution_count": null,
   "metadata": {},
   "outputs": [],
   "source": [
    "Sol_0[-2].cycles"
   ]
  },
  {
   "cell_type": "code",
   "execution_count": null,
   "metadata": {},
   "outputs": [],
   "source": [
    "vars = [\n",
    "    \"Negative electrode stoichiometry\",\n",
    "    \"Positive electrode stoichiometry\",\n",
    "    \"SEI interfacial current density [A.m-2]\",\n",
    "    \"Negative particle surface concentration [mol.m-3]\",\n",
    "    \n",
    "]\n",
    "quick_plot = pb.QuickPlot(\n",
    "    Sol_0[-1].cycles[0], \n",
    "    vars,variable_limits='tight') #     \n",
    "quick_plot.dynamic_plot();"
   ]
  }
 ],
 "metadata": {
  "kernelspec": {
   "display_name": "EnvPB_Linux",
   "language": "python",
   "name": "python3"
  },
  "language_info": {
   "codemirror_mode": {
    "name": "ipython",
    "version": 3
   },
   "file_extension": ".py",
   "mimetype": "text/x-python",
   "name": "python",
   "nbconvert_exporter": "python",
   "pygments_lexer": "ipython3",
   "version": "3.10.6"
  },
  "orig_nbformat": 4
 },
 "nbformat": 4,
 "nbformat_minor": 2
}
