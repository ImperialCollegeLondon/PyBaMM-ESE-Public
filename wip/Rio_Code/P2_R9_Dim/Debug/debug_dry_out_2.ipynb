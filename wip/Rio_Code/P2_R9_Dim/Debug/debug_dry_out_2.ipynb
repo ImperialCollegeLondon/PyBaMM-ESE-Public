{
 "cells": [
  {
   "attachments": {},
   "cell_type": "markdown",
   "metadata": {},
   "source": [
    "# ensure SEI growth volume equals to porosity reduction: Test_V"
   ]
  },
  {
   "cell_type": "code",
   "execution_count": 4,
   "metadata": {},
   "outputs": [
    {
     "name": "stdout",
     "output_type": "stream",
     "text": [
      "The autoreload extension is already loaded. To reload it, use:\n",
      "  %reload_ext autoreload\n"
     ]
    }
   ],
   "source": [
    "# magic lines that avoid re-start \n",
    "%load_ext autoreload\n",
    "%autoreload 2\n",
    "import pybamm as pb;import pandas as pd;import numpy as np;\n",
    "import os, json,openpyxl,traceback,multiprocessing,scipy.optimize\n",
    "import matplotlib.pyplot as plt;\n",
    "import imageio,timeit,random,time, signal\n",
    "from scipy.io import savemat,loadmat;\n",
    "from pybamm import constants,exp;import matplotlib as mpl; \n",
    "fs=17; \n",
    "font = {'family' : 'DejaVu Sans','size'   : fs}\n",
    "mpl.rc('font', **font)"
   ]
  },
  {
   "cell_type": "code",
   "execution_count": 5,
   "metadata": {},
   "outputs": [],
   "source": [
    "Path_NiallDMA = os.path.expanduser(\n",
    "    \"~/EnvPBGEM_Linux/SimSave/InputData/\") # for Linux\n",
    "BasicPath =  os.path.expanduser(\n",
    "    \"~/EnvPBGEM_Linux/SimSave/P2_R9_Dim\")\n",
    "import sys  \n",
    "str_path_0 = os.path.abspath(os.path.join(pb.__path__[0],'..'))\n",
    "str_path_1 = os.path.abspath(\n",
    "    os.path.join(str_path_0,\"wip/Rio_Code/Fun_P2\"))\n",
    "sys.path.append(str_path_1) \n",
    "from Fun_P2 import * # directly do this for HPC\n",
    "\n",
    "# Set Experiment : Exp-2\n",
    "index_exp = 2 # index for experiment set, can now go for 2,3,5\n",
    "Scan_start = 5;    Scan_end = 6; \n",
    "Round_No = \"Debug_Exp2_SEI_Only\"  # index to identify different rounds of running \n",
    "pool_no = 8\n",
    "Runshort = True # True\n",
    "\n",
    "# specify cases\n",
    "\n",
    "Indexs =np.arange(Scan_start-1,Scan_end)\n",
    "index_list = Indexs+1\n",
    "if Runshort == False:\n",
    "    if index_exp == 2:\n",
    "        tot_cyc = 6192; cyc_age = 516; # should be 6192 but now run shorter to be faster\n",
    "    if index_exp == 3:\n",
    "        tot_cyc = 6180; cyc_age = 515;\n",
    "    if index_exp == 5:\n",
    "        tot_cyc = 1170; cyc_age = 78;\n",
    "else:\n",
    "    if index_exp == 2:\n",
    "        tot_cyc = 3; cyc_age = 1;\n",
    "    if index_exp == 3:\n",
    "        tot_cyc = 8; cyc_age = 2;\n",
    "    if index_exp == 5:\n",
    "        tot_cyc = 8; cyc_age = 2;\n",
    "\n",
    "para_dict_Same = {\n",
    "   \"Ageing temperature\":25, # 25, 40 \n",
    "   \"Total ageing cycles\":int(tot_cyc), # \n",
    "   \"Ageing cycles between RPT\":int(cyc_age), # \n",
    "   \"Update cycles for ageing\": int(cyc_age),\n",
    "   \"Cycles within RPT\":1,\n",
    "   \"RPT temperature\":25,\n",
    "   \"Mesh list\":[5,5,5,60,20],   # Simon uses 30\n",
    "   \"Para_Set\": \"OKane2023\", # Li2023_Coupled\n",
    "   \"Model option\":{\n",
    "        \"contact resistance\": \"true\",\n",
    "        \"open-circuit potential\": \"current sigmoid\",\n",
    "        \"thermal\": \"lumped\",\n",
    "        \"SEI\": \"interstitial-diffusion limited\",\n",
    "        \"SEI on cracks\": \"true\",\n",
    "        \"SEI film resistance\": \"distributed\", \n",
    "        \"SEI porosity change\": \"true\",\n",
    "        \"particle mechanics\": (\"swelling and cracking\", \"swelling only\"),\n",
    "        \"loss of active material\": (\"stress-driven\",\"none\"),\n",
    "        #\"lithium plating\": \"partially reversible\",\n",
    "        },\n",
    "    \"Positive electrode LAM constant proportional term [s-1]\": 1e-16,\n",
    "    \"Current solvent concentration in the reservoir [mol.m-3]\":4541.0,\n",
    "    \"Current electrolyte concentration in the reservoir [mol.m-3]\":1000,\n",
    "    \"Ratio of Li-ion concentration change in electrolyte consider solvent consumption\":1.0,\n",
    "    'EC initial concentration in electrolyte [mol.m-3]':4541.0,\n",
    "    'Typical EC concentration in electrolyte [mol.m-3]':4541.0, \n",
    "    # unchange now:\n",
    "    'Dead lithium decay constant [s-1]':1e-12, \n",
    "    'Lithium plating kinetic rate constant [m.s-1]':1e-14, \n",
    "    'Negative electrode LAM constant proportional term [s-1]':1e-16, \n",
    "    'Negative electrode cracking rate':1e-25, \n",
    "}\n",
    "Para_active=[\n",
    "    {\n",
    "        'Inner SEI lithium interstitial diffusivity [m2.s-1]':1e-18, \n",
    "        'Initial electrolyte excessive amount ratio':1, \n",
    "        'Outer SEI partial molar volume [m3.mol-1]':10e-5, \n",
    "        \"Ratio of lithium moles to SEI moles\": 2.0,\n",
    "    },\n",
    "    {\n",
    "        'Inner SEI lithium interstitial diffusivity [m2.s-1]':1e-18, \n",
    "        'Initial electrolyte excessive amount ratio':1, \n",
    "        'Outer SEI partial molar volume [m3.mol-1]':10e-5, \n",
    "        \"Ratio of lithium moles to SEI moles\": 1.0,\n",
    "    }\n",
    "]"
   ]
  },
  {
   "cell_type": "code",
   "execution_count": 6,
   "metadata": {},
   "outputs": [
    {
     "name": "stdout",
     "output_type": "stream",
     "text": [
      "Total scan case is 2\n"
     ]
    }
   ],
   "source": [
    "# Get all para - manual debug\n",
    "Para_dict_list = []\n",
    "for para_active in Para_active:\n",
    "    para_sum = {**para_active,**para_dict_Same}\n",
    "    Para_dict_list.append(para_sum)\n",
    "print(f\"Total scan case is {len(Para_dict_list)}\")"
   ]
  },
  {
   "cell_type": "code",
   "execution_count": 7,
   "metadata": {},
   "outputs": [],
   "source": [
    "# set up experiment\n",
    "Target  = f'/Exp{index_exp}_Round_{Round_No}/'\n",
    "book_name_xlsx = f'Exp{index_exp}_Round_{Round_No}.xlsx';\n",
    "V_max = 4.2;        V_min = 2.5; \n",
    "if index_exp ==2:\n",
    "    discharge_time_mins = 0.15* 60 * 4.86491/5\n",
    "    charge_time_mins = 0.5* 60 * 4.86491/5\n",
    "    exp_AGE_text = [(\n",
    "        f\"Discharge at 1C for {discharge_time_mins} minutes or until {V_min}V\", \n",
    "        f\"Charge at 0.3C for {charge_time_mins} minutes or until {V_max}V\",\n",
    "        ),  ]  # *  setting on cycler is 516, rather than 514 in wiki\n",
    "elif index_exp ==3:\n",
    "    discharge_time_mins = 0.15* 60 * 4.86491/5\n",
    "    charge_time_mins = 0.5* 60 * 4.86491/5\n",
    "    exp_AGE_text = [(\n",
    "        f\"Discharge at 1C for {discharge_time_mins} minutes or until {V_min}V\", \n",
    "        f\"Charge at 0.3C until {V_max}V\",\n",
    "        f\"Hold at {V_max} V until C/100\",\n",
    "        ),  ]   # *  setting on cycler is 515, rather than 514 in wiki\n",
    "elif index_exp ==5:\n",
    "    exp_AGE_text = [(\n",
    "        f\"Discharge at 1C until {V_min}V\", \n",
    "        f\"Charge at 0.3C until {V_max}V\",\n",
    "        f\"Hold at {V_max} V until C/100\",\n",
    "        ),  ]  # *  78\n",
    "else:\n",
    "    print(\"Not yet implemented!\")\n",
    "step_AGE_CD =0;   step_AGE_CC =1;   step_AGE_CV =2;"
   ]
  },
  {
   "cell_type": "code",
   "execution_count": 8,
   "metadata": {},
   "outputs": [],
   "source": [
    "# remaining set-up for experiment and create folders\n",
    "sheet_name_xlsx = 'Results';\n",
    "if not os.path.exists(BasicPath + Target):\n",
    "   os.mkdir(BasicPath + Target);\n",
    "if not os.path.exists(BasicPath + Target+\"Mats\"):\n",
    "   os.mkdir(BasicPath + Target+\"Mats\");\n",
    "if not os.path.exists(BasicPath + Target+\"Plots\"):\n",
    "   os.mkdir(BasicPath + Target+\"Plots\");\n",
    "if not os.path.exists(BasicPath + Target+\"Excel\"):\n",
    "   os.mkdir(BasicPath + Target+\"Excel\");\n",
    "\n",
    "Path_pack = [BasicPath,Target,book_name_xlsx,sheet_name_xlsx,]\n",
    "\n",
    "exp_RPT_text = [ (\n",
    "    # refill\n",
    "    f\"Hold at {V_max}V until C/100\",\n",
    "    \"Rest for 1 hours (20 minute period)\", \n",
    "    # 0.1C cycle \n",
    "    f\"Discharge at 0.1C until {V_min} V (30 minute period)\",  \n",
    "    \"Rest for 3 hours (20 minute period)\",  \n",
    "    f\"Charge at 0.1C until {V_max} V (30 minute period)\",\n",
    "    f\"Hold at {V_max}V until C/100\",\n",
    "    \"Rest for 1 hours (20 minute period)\",\n",
    "    # 0.5C cycle \n",
    "    f\"Discharge at 0.5C until {V_min} V (6 minute period)\",  \n",
    "    \"Rest for 3 hours (20 minute period)\",\n",
    "    f\"Charge at 0.5C until {V_max} V (6 minute period)\",\n",
    "    f\"Hold at {V_max}V until C/100\",\n",
    "    \"Rest for 3 hours (20 minute period)\",  \n",
    "    ) ] * 1\n",
    "# step index for RPT\n",
    "step_0p1C_CD = 2; step_0p1C_CC = 4;   step_0p1C_RE =3;    \n",
    "step_0p5C_CD = 7;  \n",
    "\n",
    "exp_text_list = [exp_AGE_text,  exp_RPT_text ];\n",
    "cycle_no = -1; \n",
    "exp_index_pack = [cycle_no,step_AGE_CD,step_AGE_CC,step_AGE_CV,\n",
    "   step_0p1C_CD, step_0p1C_CC,step_0p1C_RE , step_0p5C_CD ];\n"
   ]
  },
  {
   "cell_type": "code",
   "execution_count": 9,
   "metadata": {},
   "outputs": [],
   "source": [
    "# define global index and dict for all experiment data - prepare for read!\n",
    "Exp_Path = [\n",
    "    \"Expt 1 - Si-based Degradation/\",\n",
    "    \"Expt 2,2 - C-based Degradation 2/\",\n",
    "    \"Expt 3 - Cathode Degradation and Li-Plating/\",\n",
    "    \"Expt 4 - Drive Cycle Aging (Control)/\",\n",
    "    \"Expt 5 - Standard Cycle Aging (Control)/\",]\n",
    "Exp_head = [\n",
    "    \"Expt 1\",\n",
    "    \"Expt 2,2\",\n",
    "    \"Expt 3\",\n",
    "    \"Expt 4\",\n",
    "    \"Expt 5\",]\n",
    "Exp_1_Cell = [\"A\",\"B\",\"J\",\"D\",\"E\",\"F\",\"K\",\"L\",\"M\"];\n",
    "Exp_1_Temp = {\n",
    "    \"A\":\"10\",\"B\":\"10\",\"J\":\"10\",\n",
    "    \"D\":\"25\",\"E\":\"25\",\"F\":\"25\",\n",
    "    \"K\":\"40\",\"L\":\"40\",\"M\":\"40\",}\n",
    "Temp_Cell_Exp_1 = {\n",
    "    \"10\":[\"A\",\"B\",\"J\"],\n",
    "    \"25\":[\"D\",\"E\",\"F\"],\n",
    "    \"40\":[\"K\",\"L\",\"M\"],}\n",
    "Exp_2_Cell = [\"A\",\"B\",\"C\",\"D\",\"E\",\"F\"];\n",
    "Exp_2_Temp = {\n",
    "    \"A\":\"10\",\"B\":\"10\",\n",
    "    \"C\":\"25\",\"D\":\"25\",\n",
    "    \"E\":\"40\",\"F\":\"40\",}\n",
    "Temp_Cell_Exp_2 = {\n",
    "    \"10\":[\"A\",\"B\"],\n",
    "    \"25\":[\"C\",\"D\"],\n",
    "    \"40\":[\"E\",\"F\"],}\n",
    "Exp_3_Cell = [\"A\",\"B\",\"C\",\"D\",\"E\",\"F\",\"G\",\"H\",\"I\"];\n",
    "Exp_3_Temp = {\n",
    "    \"A\":\"10\",\"B\":\"10\",\"C\":\"10\",\n",
    "    \"D\":\"25\",\"E\":\"25\",\"F\":\"25\",\n",
    "    \"G\":\"40\",\"H\":\"40\",\"I\":\"40\"}\n",
    "Temp_Cell_Exp_3 = {\n",
    "    \"10\":[\"A\",\"B\",\"C\"],\n",
    "    \"25\":[\"D\",\"E\",\"F\"],\n",
    "    \"40\":[\"G\",\"H\",\"I\"],}\n",
    "Exp_4_Cell = [\"A\",\"B\",\"C\",\"D\",\"E\",\"F\",\"G\",\"H\"];\n",
    "Exp_4_Temp = {\n",
    "    \"A\":\"10\",\"B\":\"10\",\"C\":\"10\",\n",
    "    \"D\":\"25\",\"E\":\"25\",\n",
    "    \"F\":\"40\",\"G\":\"40\",\"H\":\"40\",}\n",
    "Temp_Cell_Exp_4 = {\n",
    "    \"10\":[\"A\",\"B\",\"C\"],\n",
    "    \"25\":[\"D\",\"E\",],\n",
    "    \"40\":[\"F\",\"G\",\"H\"],}\n",
    "Exp_5_Cell = [\"A\",\"B\",\"C\",\"D\",\"E\",\"F\",\"G\",\"H\"];\n",
    "Exp_5_Temp = {\n",
    "    \"A\":\"10\",\"B\":\"10\",\"C\":\"10\",\n",
    "    \"D\":\"25\",\"E\":\"25\",\n",
    "    \"F\":\"40\",\"G\":\"40\",\"H\":\"40\",}\n",
    "Temp_Cell_Exp_5 = {\n",
    "    \"10\":[\"A\",\"B\",\"C\"],\n",
    "    \"25\":[\"D\",\"E\",],\n",
    "    \"40\":[\"F\",\"G\",\"H\"],}\n",
    "Exp_All_Cell  = [Exp_1_Cell,Exp_2_Cell,Exp_3_Cell,Exp_4_Cell,Exp_5_Cell]\n",
    "Exp_Temp_Cell = [Exp_1_Temp,Exp_2_Temp,Exp_3_Temp,Exp_4_Temp,Exp_5_Temp]\n",
    "Temp_Cell_Exp_All = [Temp_Cell_Exp_1,Temp_Cell_Exp_2,Temp_Cell_Exp_3,Temp_Cell_Exp_4,Temp_Cell_Exp_5]\n",
    "Mark_Cell_All = [\n",
    "    {\n",
    "    \"A\":\"o\",\"B\":\">\",\"J\":\"v\",\n",
    "    \"D\":\"o\",\"E\":\">\",\"F\":\"v\",\n",
    "    \"K\":\"o\",\"L\":\">\",\"M\":\"v\",},\n",
    "    {\n",
    "    \"A\":\"10\",\"B\":\"10\",\n",
    "    \"C\":\"25\",\"D\":\"25\",\n",
    "    \"E\":\"40\",\"F\":\"40\",},\n",
    "    {\n",
    "    \"A\":\"o\",\"B\":\">\",\"C\":\"v\",\n",
    "    \"D\":\"o\",\"E\":\">\",\"F\":\"v\",\n",
    "    \"G\":\"o\",\"H\":\">\",\"I\":\"v\",},\n",
    "    {\n",
    "    \"A\":\"o\",\"B\":\">\",\"C\":\"v\",\n",
    "    \"D\":\"o\",\"E\":\">\",\n",
    "    \"F\":\"o\",\"G\":\">\",\"H\":\"v\",},\n",
    "    {\n",
    "    \"A\":\"o\",\"B\":\">\",\"C\":\"v\",\n",
    "    \"D\":\"o\",\"E\":\">\",\n",
    "    \"F\":\"o\",\"G\":\">\",\"H\":\"v\",}]\n",
    "Color_Cell_All = [\n",
    "    {\n",
    "    \"A\":[2/255, 3/255, 226/255,0.7],\"B\":[2/255, 3/255, 226/255,0.7],\"J\":[2/255, 3/255, 226/255,0.7],\n",
    "    \"D\":[0, 0, 0,0.7],\"E\":[0, 0, 0,0.7],\"F\":[0, 0, 0,0.7],\n",
    "    \"K\":[1,0,0,0.4],\"L\":[1,0,0,0.4],\"M\":[1,0,0,0.4],},\n",
    "    {\n",
    "    \"A\":[2/255, 3/255, 226/255,0.7],\"B\":[2/255, 3/255, 226/255,0.7],\n",
    "    \"D\":[0, 0, 0,0.7],\"C\":[0, 0, 0,0.7],\n",
    "    \"E\":[1,0,0,0.4],\"F\":[1,0,0,0.4],},\n",
    "    {\n",
    "    \"A\":[2/255, 3/255, 226/255,0.7],\"B\":[2/255, 3/255, 226/255,0.7],\"C\":[2/255, 3/255, 226/255,0.7],\n",
    "    \"D\":[0, 0, 0,0.7],\"E\":[0, 0, 0,0.7],\"F\":[0, 0, 0,0.7],\n",
    "    \"G\":[1,0,0,0.4],\"H\":[1,0,0,0.4],\"I\":[1,0,0,0.4],},\n",
    "    {\n",
    "    \"A\":[2/255, 3/255, 226/255,0.7],\"B\":[2/255, 3/255, 226/255,0.7],\"C\":[2/255, 3/255, 226/255,0.7],\n",
    "    \"D\":[0, 0, 0,0.7],\"E\":[0, 0, 0,0.7],\n",
    "    \"F\":[1,0,0,0.4],\"G\":[1,0,0,0.4],\"H\":[1,0,0,0.4],},\n",
    "    {\n",
    "    \"A\":[2/255, 3/255, 226/255,0.7],\"B\":[2/255, 3/255, 226/255,0.7],\"C\":[2/255, 3/255, 226/255,0.7],\n",
    "    \"D\":[0, 0, 0,0.7],\"E\":[0, 0, 0,0.7],\n",
    "    \"F\":[1,0,0,0.4],\"G\":[1,0,0,0.4],\"H\":[1,0,0,0.4],}]\n"
   ]
  },
  {
   "cell_type": "code",
   "execution_count": 10,
   "metadata": {},
   "outputs": [
    {
     "name": "stdout",
     "output_type": "stream",
     "text": [
      "Finish reading Experiment!\n"
     ]
    }
   ],
   "source": [
    "# Load Niall's data\n",
    "Temp_Cell_Exp = Temp_Cell_Exp_All[index_exp-1] \n",
    "Exp_Any_AllData = Read_Exp(\n",
    "    Path_NiallDMA,Exp_All_Cell[index_exp-1],\n",
    "    Exp_Path,Exp_head,Exp_Temp_Cell[index_exp-1],\n",
    "    index_exp-1)\n"
   ]
  },
  {
   "cell_type": "code",
   "execution_count": 11,
   "metadata": {},
   "outputs": [],
   "source": [
    "########################  Output  ########################\n",
    "keys_loc_RPT = [ # MAY WANT TO SELECT AGEING CYCLE later\n",
    "    # Default output:\n",
    "    \"x [m]\",\n",
    "    \"x_n [m]\",\n",
    "    \"x_s [m]\",\n",
    "    \"x_p [m]\",\n",
    "    # default: end; \n",
    "    \"CCend Porosity\",\n",
    "    \"CCend Negative electrode interfacial current density [A.m-2]\",\n",
    "    \"CCend Electrolyte potential [V]\",\n",
    "    \"CCend Electrolyte concentration [mol.m-3]\",\n",
    "    \"CCend Negative electrode reaction overpotential [V]\",\n",
    "    \"CCend Negative particle surface concentration [mol.m-3]\",\n",
    "    \"CCend Negative electrode roughness ratio\",\n",
    "    \"CCend Total SEI on cracks thickness [m]\",\n",
    "\n",
    "    \"CDend Porosity\",\n",
    "    \"CDend Negative electrode interfacial current density [A.m-2]\",\n",
    "    \"CDend Electrolyte potential [V]\",\n",
    "    \"CDend Electrolyte concentration [mol.m-3]\",\n",
    "    \"CDend Negative electrode reaction overpotential [V]\",\n",
    "    \"CDend Negative particle surface concentration [mol.m-3]\",\n",
    "    \"CDend Negative electrode roughness ratio\",\n",
    "    \"CDend Total SEI on cracks thickness [m]\",\n",
    "    #\"REend Total SEI on cracks thickness [m]\",\n",
    "]\n",
    "keys_tim_RPT = [\n",
    "    # default: CD\n",
    "    \"CD Time [h]\",\n",
    "    \"CD Terminal voltage [V]\",\n",
    "    #\"RE Terminal voltage [V]\",\n",
    "]\n",
    "keys_cyc_RPT = [   # default: CDend\n",
    "    \"Discharge capacity [A.h]\",\n",
    "    \"Throughput capacity [A.h]\",\n",
    "    \"CDend Total lithium capacity in particles [A.h]\",\n",
    "    \"CDend Loss of capacity to lithium plating [A.h]\",\n",
    "    \"CDend Loss of capacity to SEI [A.h]\",\n",
    "    \"CDend Loss of capacity to SEI on cracks [A.h]\",\n",
    "    \"CDend X-averaged total SEI on cracks thickness [m]\",\n",
    "    \"CDend X-averaged negative electrode roughness ratio\",\n",
    "    \"CDend Local ECM resistance [Ohm]\",\n",
    "    \"CDsta Negative electrode stoichiometry\", \n",
    "    \"CDend Negative electrode stoichiometry\",\n",
    "    \"CDsta Positive electrode stoichiometry\", \n",
    "    \"CDend Positive electrode stoichiometry\",\n",
    "    \"CDend Negative electrode capacity [A.h]\",\n",
    "    \"CDend Positive electrode capacity [A.h]\",\n",
    "]\n",
    "\n",
    "keys_loc_AGE = [ # MAY WANT TO SELECT AGEING CYCLE later\n",
    "    # Default output:\n",
    "    \"x [m]\",\n",
    "    \"x_n [m]\",\n",
    "    \"x_s [m]\",\n",
    "    \"x_p [m]\",\n",
    "    # default: end; \n",
    "    \"CCend Porosity\",\n",
    "    \"CCend Negative electrode interfacial current density [A.m-2]\",\n",
    "    \"CCend Electrolyte potential [V]\",\n",
    "    \"CCend Electrolyte concentration [mol.m-3]\",\n",
    "    \"CCend Negative electrode reaction overpotential [V]\",\n",
    "    \"CCend Negative particle surface concentration [mol.m-3]\",\n",
    "    \"CCend Negative electrode roughness ratio\",\n",
    "    \"CCend Total SEI on cracks thickness [m]\",\n",
    "\n",
    "    \"CDend Porosity\",\n",
    "    \"CDend Negative electrode interfacial current density [A.m-2]\",\n",
    "    \"CDend Electrolyte potential [V]\",\n",
    "    \"CDend Electrolyte concentration [mol.m-3]\",\n",
    "    \"CDend Negative electrode reaction overpotential [V]\",\n",
    "    \"CDend Negative particle surface concentration [mol.m-3]\",\n",
    "    \"CDend Negative electrode roughness ratio\",\n",
    "    \"CDend Total SEI on cracks thickness [m]\",\n",
    "    \"CDend Electrolyte diffusivity [m2.s-1]\",\n",
    "    \"CDend Electrolyte conductivity [S.m-1]\",\n",
    "]\n",
    "keys_tim_AGE = [];\n",
    "keys_cyc_AGE = [];\n",
    "keys_all_RPT = [keys_loc_RPT,keys_tim_RPT,keys_cyc_RPT];\n",
    "keys_all_AGE = [keys_loc_AGE,keys_tim_AGE,keys_cyc_AGE];\n",
    "keys_all = [keys_all_RPT,keys_all_AGE];\n"
   ]
  },
  {
   "cell_type": "code",
   "execution_count": 12,
   "metadata": {},
   "outputs": [
    {
     "name": "stdout",
     "output_type": "stream",
     "text": [
      "Successfully create a excel file\n"
     ]
    }
   ],
   "source": [
    "# Write para - 1st round:\n",
    "Values_1 = []\n",
    "head_keys = list(Para_dict_list[0].keys())\n",
    "head_pre = [\n",
    "    \"Scan No\",\"Exp No.\",\"Y or N\",\n",
    "    \"Error Tot%\",\"Error SOH %\",\"Error LLI %\",\n",
    "    \"Error LAM NE %\",\"Error LAM PE %\",\"Error Res %\",\n",
    "    \"Dry out\",]\n",
    "\n",
    "head_pos = [ \"exp_AGE_text\", \"exp_RPT_text\",\n",
    "   \"Cap Loss\",\"LLI to LiP\",\n",
    "   \"LLI to SEI\",\"LLI to sei-on-cracks\",\n",
    "   \"LAM to Neg\",\"LAM to Pos\",\n",
    "   \"Vol_Elely_Tot Final\", \"Vol_Elely_JR Final\",\"Width Final\",\"Error\"]\n",
    "Values_1 .append([*head_pre,*head_keys,*head_pos])\n",
    "\n",
    "for Scan_i,Para_dict_i in zip(index_list,Para_dict_list):\n",
    "    value_list_temp = list(Para_dict_i.values())\n",
    "    values_para = []\n",
    "    for value_list_temp_i in value_list_temp:\n",
    "        values_para.append(str(value_list_temp_i))\n",
    "    # sequence: scan no, exp, pass or fail, mpe, dry-out, \n",
    "    mpe_all = [\"Unknown\",\"Unknown\",\n",
    "        \"Unknown\",\"Unknown\", \n",
    "        \"Unknown\",\"Unknown\",]\n",
    "    Pass_Fail = \"Unknown\"\n",
    "    DryOut = \"Unknown\"\n",
    "    value_Pre = [str(Scan_i),index_exp,Pass_Fail,*mpe_all,DryOut,]\n",
    "    values = [*value_Pre,*values_para,]\n",
    "    Values_1.append(values)\n",
    "write_excel_xlsx(\n",
    "    BasicPath + Target+book_name_xlsx, \n",
    "    sheet_name_xlsx, Values_1)   \n"
   ]
  },
  {
   "cell_type": "code",
   "execution_count": 13,
   "metadata": {},
   "outputs": [
    {
     "name": "stdout",
     "output_type": "stream",
     "text": [
      "Start Now! Scan 5.\n",
      "Scan 5: DryOut = On\n",
      "Initial electrolyte amount is  5.0430496283076 mL\n",
      "Scan 5: Spent 3.402 ms on Initialization\n"
     ]
    },
    {
     "name": "stderr",
     "output_type": "stream",
     "text": [
      "At t = 1290.52, repeated recoverable residual errors.\n"
     ]
    },
    {
     "name": "stdout",
     "output_type": "stream",
     "text": [
      "Scan 5: Finish break-in cycle within 1 minute, 12 seconds\n",
      "Scan 5: Finish post-process for break-in cycle within 190.671 ms\n",
      "Scan 5: Finish for No.0 ageing cycles within 6.208 s\n",
      "Scan 5: Finish post-process for No.1 ageing cycles within 70.487 ms\n"
     ]
    },
    {
     "name": "stderr",
     "output_type": "stream",
     "text": [
      "At t = 1018.22, , mxstep steps taken before reaching tout.\n",
      "At t = 329.701, , mxstep steps taken before reaching tout.\n"
     ]
    },
    {
     "name": "stdout",
     "output_type": "stream",
     "text": [
      "Scan 5: Finish for No.1 RPT cycles within 4 minutes, 1 second\n",
      "Scan 5: Finish post-process for No.1 RPT cycles within 183.715 ms\n",
      "Scan 5: Finish for No.1 ageing cycles within 7.282 s\n",
      "Scan 5: Finish post-process for No.2 ageing cycles within 87.020 ms\n"
     ]
    },
    {
     "name": "stderr",
     "output_type": "stream",
     "text": [
      "At t = 903.581, , mxstep steps taken before reaching tout.\n",
      "At t = 903.581, , mxstep steps taken before reaching tout.\n",
      "At t = 307.758, , mxstep steps taken before reaching tout.\n"
     ]
    },
    {
     "name": "stdout",
     "output_type": "stream",
     "text": [
      "Scan 5: Finish for No.2 RPT cycles within 4 minutes, 18 seconds\n",
      "Scan 5: Finish post-process for No.2 RPT cycles within 135.125 ms\n",
      "Scan 5: Finish for No.2 ageing cycles within 5.744 s\n",
      "Scan 5: Finish post-process for No.3 ageing cycles within 68.569 ms\n"
     ]
    },
    {
     "name": "stderr",
     "output_type": "stream",
     "text": [
      "At t = 814.048 and h = 1.54624e-13, the corrector convergence failed repeatedly or with |h| = hmin.\n",
      "At t = 814.048 and h = 8.73402e-13, the corrector convergence failed repeatedly or with |h| = hmin.\n",
      "At t = 290.472, , mxstep steps taken before reaching tout.\n",
      "At t = 290.472 and h = 3.46429e-14, the corrector convergence failed repeatedly or with |h| = hmin.\n",
      "At t = 140.472, , mxstep steps taken before reaching tout.\n"
     ]
    },
    {
     "name": "stdout",
     "output_type": "stream",
     "text": [
      "Scan 5: Finish for No.3 RPT cycles within 2 minutes, 52 seconds\n",
      "Scan 5: Finish post-process for No.3 RPT cycles within 132.310 ms\n",
      "Scan 5: Getting extra variables within 186.000 us\n",
      "Scan 5: Finish all plots within 6.070 s\n",
      "Successfully create a excel file\n",
      "Scan 5: Successfully save json file!\n",
      "Scan 5: Successfully save mat file!\n",
      "Scan 5: Try saving within 9.304 ms\n",
      "Succeed doing something in 12 minutes, 50 seconds\n",
      "This is the end of No. 5  scan\n",
      "Start Now! Scan 6.\n",
      "Scan 6: DryOut = On\n",
      "Initial electrolyte amount is  5.0430496283076 mL\n",
      "Scan 6: Spent 408.700 us on Initialization\n"
     ]
    },
    {
     "name": "stderr",
     "output_type": "stream",
     "text": [
      "At t = 1297.94 and h = 2.04463e-13, the corrector convergence failed repeatedly or with |h| = hmin.\n"
     ]
    },
    {
     "name": "stdout",
     "output_type": "stream",
     "text": [
      "Scan 6: Finish break-in cycle within 58.314 s\n",
      "Scan 6: Finish post-process for break-in cycle within 178.878 ms\n",
      "Scan 6: Finish for No.0 ageing cycles within 5.005 s\n",
      "Scan 6: Finish post-process for No.1 ageing cycles within 66.749 ms\n"
     ]
    },
    {
     "name": "stderr",
     "output_type": "stream",
     "text": [
      "At t = 1182.68 and h = 3.76039e-13, the corrector convergence failed repeatedly or with |h| = hmin.\n"
     ]
    },
    {
     "name": "stdout",
     "output_type": "stream",
     "text": [
      "Scan 6: Finish for No.1 RPT cycles within 58.227 s\n",
      "Scan 6: Finish post-process for No.1 RPT cycles within 129.946 ms\n",
      "Scan 6: Finish for No.1 ageing cycles within 4.946 s\n",
      "Scan 6: Finish post-process for No.2 ageing cycles within 56.779 ms\n"
     ]
    },
    {
     "name": "stderr",
     "output_type": "stream",
     "text": [
      "At t = 1137.42 and h = 6.37178e-14, the corrector convergence failed repeatedly or with |h| = hmin.\n",
      "At t = 353.994, , mxstep steps taken before reaching tout.\n"
     ]
    },
    {
     "name": "stdout",
     "output_type": "stream",
     "text": [
      "Scan 6: Finish for No.2 RPT cycles within 3 minutes, 21 seconds\n",
      "Scan 6: Finish post-process for No.2 RPT cycles within 138.220 ms\n",
      "Scan 6: Finish for No.2 ageing cycles within 5.373 s\n",
      "Scan 6: Finish post-process for No.3 ageing cycles within 77.295 ms\n"
     ]
    },
    {
     "name": "stderr",
     "output_type": "stream",
     "text": [
      "At t = 1101.58 and h = 1.09976e-12, the corrector convergence failed repeatedly or with |h| = hmin.\n",
      "At t = 347.134, , mxstep steps taken before reaching tout.\n"
     ]
    },
    {
     "name": "stdout",
     "output_type": "stream",
     "text": [
      "Scan 6: Finish for No.3 RPT cycles within 3 minutes, 58 seconds\n",
      "Scan 6: Finish post-process for No.3 RPT cycles within 129.647 ms\n",
      "Scan 6: Getting extra variables within 53.900 us\n",
      "Scan 6: Finish all plots within 5.642 s\n",
      "Successfully create a excel file\n",
      "Scan 6: Successfully save json file!\n",
      "Scan 6: Successfully save mat file!\n",
      "Scan 6: Try saving within 11.038 ms\n",
      "Succeed doing something in 9 minutes, 37 seconds\n",
      "This is the end of No. 6  scan\n"
     ]
    },
    {
     "data": {
      "text/plain": [
       "' \\nif __name__ == \"__main__\":\\n    pool = multiprocessing.Pool(2)\\n    processes = [\\n    pool.apply_async(\\n        Run_P2_Opt_Timeout, \\n        args=(\\n            index_i    ,  index_exp,  Para_dict_i,   Path_pack, fs,\\n            keys_all,   exp_text_list, exp_index_pack,\\n            Exp_Any_AllData,Temp_Cell_Exp, dpi,\\n            True,False,True,True\\n        ) )\\n        for index_i, Para_dict_i in zip(index_list,Para_dict_list)]\\n    Result = [p.get() for p in processes]  \\nfor result in Result:\\n    midc_merge_all.append(result[0])\\n    Sol_RPT_all.append(result[1])\\n    Sol_AGE_all.append(result[2]) '"
      ]
     },
     "execution_count": 13,
     "metadata": {},
     "output_type": "execute_result"
    }
   ],
   "source": [
    "# scan:\n",
    "fs = 13; dpi = 100;\n",
    "midc_merge_all = [];Sol_RPT_all = [];Sol_AGE_all = [];\n",
    "for index_i, Para_dict_i in zip(index_list,Para_dict_list):\n",
    "    midc_merge,Sol_RPT,Sol_AGE = Run_P2_Opt_Timeout(\n",
    "        index_i    ,  index_exp,  Para_dict_i,   Path_pack, fs,\n",
    "        keys_all,   exp_text_list, exp_index_pack,\n",
    "        Exp_Any_AllData,Temp_Cell_Exp, dpi,\n",
    "        Plot_Exp=True,Timeout=False,Return_Sol=True,Check_Small_Time=True,)  \n",
    "    midc_merge_all.append(midc_merge)\n",
    "    Sol_RPT_all.append(Sol_RPT)\n",
    "    Sol_AGE_all.append(Sol_AGE) \n",
    "\"\"\" \n",
    "if __name__ == \"__main__\":\n",
    "    pool = multiprocessing.Pool(2)\n",
    "    processes = [\n",
    "    pool.apply_async(\n",
    "        Run_P2_Opt_Timeout, \n",
    "        args=(\n",
    "            index_i    ,  index_exp,  Para_dict_i,   Path_pack, fs,\n",
    "            keys_all,   exp_text_list, exp_index_pack,\n",
    "            Exp_Any_AllData,Temp_Cell_Exp, dpi,\n",
    "            True,False,True,True\n",
    "        ) )\n",
    "        for index_i, Para_dict_i in zip(index_list,Para_dict_list)]\n",
    "    Result = [p.get() for p in processes]  \n",
    "for result in Result:\n",
    "    midc_merge_all.append(result[0])\n",
    "    Sol_RPT_all.append(result[1])\n",
    "    Sol_AGE_all.append(result[2]) \"\"\""
   ]
  },
  {
   "attachments": {},
   "cell_type": "markdown",
   "metadata": {},
   "source": [
    "# for case-1: \"Ratio of lithium moles to SEI moles\": 1.0"
   ]
  },
  {
   "cell_type": "code",
   "execution_count": 35,
   "metadata": {},
   "outputs": [
    {
     "name": "stdout",
     "output_type": "stream",
     "text": [
      "Scan 6: DryOut = On\n",
      "Initial electrolyte amount is  5.0430496283076 mL\n"
     ]
    }
   ],
   "source": [
    "Para_dict_i = Para_dict_list[0]\n",
    "CyclePack,Para = Para_init(Para_dict_i)\n",
    "Sol = Sol_RPT_all[0][0]\n",
    "temp_Int_ElelyExces_Ratio = 1.0 #  Para[\"Initial electrolyte excessive amount ratio\"] \n",
    "ce_EC_0 = Para['EC initial concentration in electrolyte [mol.m-3]'] # used to calculate ce_EC_All\n",
    "if temp_Int_ElelyExces_Ratio < 1:\n",
    "    Int_ElelyExces_Ratio = -1;\n",
    "    DryOut = \"Off\";\n",
    "else:\n",
    "    Int_ElelyExces_Ratio = temp_Int_ElelyExces_Ratio;\n",
    "    DryOut = \"On\";\n",
    "print(f\"Scan {Scan_i}: DryOut = {DryOut}\")\n",
    "if DryOut == \"On\":  \n",
    "    mdic_dry,Para = Initialize_mdic_dry(\n",
    "        Para,Int_ElelyExces_Ratio)\n",
    "else:\n",
    "    mdic_dry ={}\n",
    "#\n",
    "L_p   =Para[\"Positive electrode thickness [m]\"]\n",
    "L_n   =Para[\"Negative electrode thickness [m]\"]\n",
    "L_s   =Para[\"Separator thickness [m]\"]\n",
    "L_y   =Para[\"Electrode width [m]\"]   # Also update to change A_cc and therefore Q\n",
    "L_z   =Para[\"Electrode height [m]\"]\n",
    "c_EC_r_old=Para[\"Current solvent concentration in the reservoir [mol.m-3]\"]   # add two new parameters for paper 2\n",
    "c_e_r_old =Para[\"Current electrolyte concentration in the reservoir [mol.m-3]\"]\n",
    "# Initial EC concentration in JR\n",
    "c_EC_JR_old =Para[\"Bulk solvent concentration [mol.m-3]\"]  # Be careful when multiplying with pore volume to get amount in mole. Because of electrolyte dry out, that will give more amount than real.   \n",
    "# LLI due to electrode,Ratio of EC and lithium is 1:1 -> EC amount consumed is LLINegSEI[-1]\n",
    "LLINegSEI = (\n",
    "    Sol[\"Loss of lithium to SEI [mol]\"].entries[-1] \n",
    "    - Sol[\"Loss of lithium to SEI [mol]\"].entries[0] )\n",
    "LLINegSEIcr = (\n",
    "    Sol[\"Loss of lithium to SEI on cracks [mol]\"].entries[-1]\n",
    "    - \n",
    "    Sol[\"Loss of lithium to SEI on cracks [mol]\"].entries[0]\n",
    "    )\n",
    "LLINegDeadLiP = (\n",
    "    Sol[\"Loss of lithium to dead lithium plating [mol]\"].entries[-1] \n",
    "    - Sol[\"Loss of lithium to dead lithium plating [mol]\"].entries[0])\n",
    "LLINegLiP = (\n",
    "    Sol[\"Loss of lithium to lithium plating [mol]\"].entries[-1] \n",
    "    - Sol[\"Loss of lithium to lithium plating [mol]\"].entries[0])\n",
    "cLi_Xavg  = Sol[\"X-averaged electrolyte concentration [mol.m-3]\"].entries[-1] \n",
    "# Pore volume change with time:\n",
    "PoreVolNeg_0 = Sol[\"X-averaged negative electrode porosity\"].entries[0]*L_n*L_y*L_z;\n",
    "PoreVolSep_0 = Sol[\"X-averaged separator porosity\"].entries[0]*L_s*L_y*L_z;\n",
    "PoreVolPos_0 = Sol[\"X-averaged positive electrode porosity\"].entries[0]*L_p*L_y*L_z;\n",
    "PoreVolNeg_1 = Sol[\"X-averaged negative electrode porosity\"].entries[-1]*L_n*L_y*L_z;\n",
    "PoreVolSep_1 = Sol[\"X-averaged separator porosity\"].entries[-1]*L_s*L_y*L_z;\n",
    "PoreVolPos_1 = Sol[\"X-averaged positive electrode porosity\"].entries[-1]*L_p*L_y*L_z;\n",
    "#############################################################################################################################  \n",
    "##### Step-2 Determine How much electrolyte is added (from the reservoir to JR) or squeezed out (from JR to reservoir) ######\n",
    "#######################   and finish electrolyte mixing     #################################################################  \n",
    "Vol_Elely_Tot_old = Para[\"Current total electrolyte volume in whole cell [m3]\"] \n",
    "Vol_Elely_JR_old  = Para[\"Current total electrolyte volume in jelly roll [m3]\"] \n",
    "if Vol_Elely_Tot_old - Vol_Elely_JR_old < 0:\n",
    "    print('Model error! Electrolyte in JR is larger than in the cell!')\n",
    "Vol_Pore_tot_old  = PoreVolNeg_0 + PoreVolSep_0 + PoreVolPos_0    # pore volume at start time of the run\n",
    "Vol_Pore_tot_new  = PoreVolNeg_1 + PoreVolSep_1 + PoreVolPos_1    # pore volume at end   time of the run, intrinsic variable \n",
    "Vol_Pore_decrease = Vol_Elely_JR_old  - Vol_Pore_tot_new # WHY Vol_Elely_JR_old not Vol_Pore_tot_old here? Because even the last state of the last solution (n-1) and the first state of the next solution (n) can be slightly different! \n",
    "# EC:lithium:SEI=2:1:1     for SEI=(CH2OCO2Li)2, but because of too many changes are required, change to 2:1:1 for now\n",
    "# Because inner and outer SEI partial molar volume is the same, just set one for whole SEI\n",
    "VmolSEI   = Para[\"Outer SEI partial molar volume [m3.mol-1]\"] # 9.8e-5,\n",
    "VmolLiP   = Para[\"Lithium metal partial molar volume [m3.mol-1]\"] # 1.3e-05\n",
    "VmolEC    = Para[\"EC partial molar volume [m3.mol-1]\"]\n",
    "#################   KEY EQUATION FOR DRY-OUT MODEL                   #################\n",
    "# UPDATE 230525: assume the formation of dead lithium doesn’t consumed EC\n",
    "Vol_EC_consumed  =  ( LLINegSEI + LLINegSEIcr   ) * 2 * VmolEC    # Mark: either with 2 or not, will decide how fast electrolyte being consumed!\n",
    "Vol_Elely_need   = Vol_EC_consumed - Vol_Pore_decrease\n",
    "Vol_SEILiP_increase = 1.0*(\n",
    "    (LLINegSEI+LLINegSEIcr) * VmolSEI \n",
    "    #+ LLINegLiP * VmolLiP\n",
    "    )    #  volume increase due to SEI+total LiP \n",
    "#################   KEY EQUATION FOR DRY-OUT MODEL                   #################\n",
    "\n",
    "Test_V = (Vol_SEILiP_increase - Vol_Pore_decrease)/Vol_Pore_decrease*100  # This value should always be zero, but now not, which becomes the source of error!\n",
    "Test_V2= (Vol_Pore_tot_old - Vol_Elely_JR_old) / Vol_Elely_JR_old * 100;  # Porosity errors due to first time step\n",
    "\n",
    "# Start from here, there are serveral variables to be determined:\n",
    "#   1) Vol_Elely_add, or Vol_Elely_squeezed; depends on conditions. easier for 'squeezed' condition\n",
    "#   2) Vol_Elely_Tot_new, should always equals to Vol_Elely_Tot_old -  Vol_EC_consumed;\n",
    "#   3) Vol_Elely_JR_new, for 'add' condition: see old code; for 'squeezed' condition, equals to pore volume in JR\n",
    "#   4) Ratio_Dryout, for 'add' condition: see old code; for 'squeezed' condition, equals to Vol_Elely_Tot_new/Vol_Pore_tot_new \n",
    "#   5) Ratio_CeEC_JR and Ratio_CeLi_JR: for 'add' condition: see old code; for 'squeezed' condition, equals to 1 (unchanged)\n",
    "#   6) c_e_r_new and c_EC_r_new: for 'add' condition: equals to old ones (unchanged); for 'squeezed' condition, need to carefully calculate     \n",
    "#   7) Width_new: for 'add' condition: see old code; for 'squeezed' condition, equals to L_y (unchanged)\n",
    "Vol_Elely_Tot_new = Vol_Elely_Tot_old - Vol_EC_consumed;"
   ]
  },
  {
   "cell_type": "code",
   "execution_count": 36,
   "metadata": {},
   "outputs": [
    {
     "name": "stdout",
     "output_type": "stream",
     "text": [
      "2\n",
      "Inner SEI thickness [m]\n",
      "Outer SEI thickness [m]\n",
      "Total SEI thickness [m]\n",
      "X-averaged SEI thickness [m]\n",
      "X-averaged inner SEI thickness [m]\n",
      "X-averaged outer SEI thickness [m]\n",
      "X-averaged total SEI thickness [m]\n"
     ]
    }
   ],
   "source": [
    "print(len(Sol_RPT_all))\n",
    "[Total_Cycles,Cycle_bt_RPT,Update_Cycles,RPT_Cycles,\n",
    "        Temper_i,Temper_RPT,mesh_list,submesh_strech,\n",
    "        model_options] = CyclePack\n",
    "Model_0 = pb.lithium_ion.DFN(options=model_options )\n",
    "Model_0.variables.search(\"SEI thickness [m]\")"
   ]
  },
  {
   "cell_type": "code",
   "execution_count": 37,
   "metadata": {},
   "outputs": [
    {
     "name": "stdout",
     "output_type": "stream",
     "text": [
      "2.0\n",
      "EC consume: 4.4206359227560005e-08\n",
      "Pore decrease: 1.657655588152048e-08\n",
      "SEI increase: 3.3153111765081753e-08\n",
      "SEI-porosity error: -50.00000000307783%\n",
      "LLI to SEI mol: 8.630293895243567e-06\n",
      "LLI to SEI-on-crack mol: 0.00032290082375557394\n",
      "1.6576555881521115e-08\n",
      "1.0943096878963287e-14\n"
     ]
    }
   ],
   "source": [
    "# check everything !\n",
    "print(Para[\"Ratio of lithium moles to SEI moles\"])\n",
    "print(f\"EC consume: {Vol_EC_consumed}\")\n",
    "print(f\"Pore decrease: {Vol_Pore_decrease}\")\n",
    "print(f\"SEI increase: {Vol_SEILiP_increase}\")\n",
    "print(\n",
    "    f\"SEI-porosity error: { (Vol_Pore_decrease-Vol_SEILiP_increase)/Vol_SEILiP_increase*100}%\")\n",
    "print(f\"LLI to SEI mol: {LLINegSEI}\")\n",
    "print(f\"LLI to SEI-on-crack mol: {LLINegSEIcr}\")\n",
    "print(PoreVolNeg_0-PoreVolNeg_1)\n",
    "print((\n",
    "    Sol[\"X-averaged total SEI thickness [m]\"].entries[-1]\n",
    "    -Sol[\"X-averaged total SEI thickness [m]\"].entries[0])*L_n)"
   ]
  },
  {
   "attachments": {},
   "cell_type": "markdown",
   "metadata": {},
   "source": [
    "# for case-2: \"Ratio of lithium moles to SEI moles\": 2.0"
   ]
  },
  {
   "cell_type": "code",
   "execution_count": 38,
   "metadata": {},
   "outputs": [
    {
     "name": "stdout",
     "output_type": "stream",
     "text": [
      "Scan 6: DryOut = On\n",
      "Initial electrolyte amount is  5.0430496283076 mL\n"
     ]
    }
   ],
   "source": [
    "Para_dict_i = Para_dict_list[1]\n",
    "CyclePack,Para = Para_init(Para_dict_i)\n",
    "Sol = Sol_RPT_all[1][0]\n",
    "temp_Int_ElelyExces_Ratio = 1.0 #  Para[\"Initial electrolyte excessive amount ratio\"] \n",
    "ce_EC_0 = Para['EC initial concentration in electrolyte [mol.m-3]'] # used to calculate ce_EC_All\n",
    "if temp_Int_ElelyExces_Ratio < 1:\n",
    "    Int_ElelyExces_Ratio = -1;\n",
    "    DryOut = \"Off\";\n",
    "else:\n",
    "    Int_ElelyExces_Ratio = temp_Int_ElelyExces_Ratio;\n",
    "    DryOut = \"On\";\n",
    "print(f\"Scan {Scan_i}: DryOut = {DryOut}\")\n",
    "if DryOut == \"On\":  \n",
    "    mdic_dry,Para = Initialize_mdic_dry(\n",
    "        Para,Int_ElelyExces_Ratio)\n",
    "else:\n",
    "    mdic_dry ={}\n",
    "#\n",
    "L_p   =Para[\"Positive electrode thickness [m]\"]\n",
    "L_n   =Para[\"Negative electrode thickness [m]\"]\n",
    "L_s   =Para[\"Separator thickness [m]\"]\n",
    "L_y   =Para[\"Electrode width [m]\"]   # Also update to change A_cc and therefore Q\n",
    "L_z   =Para[\"Electrode height [m]\"]\n",
    "c_EC_r_old=Para[\"Current solvent concentration in the reservoir [mol.m-3]\"]   # add two new parameters for paper 2\n",
    "c_e_r_old =Para[\"Current electrolyte concentration in the reservoir [mol.m-3]\"]\n",
    "# Initial EC concentration in JR\n",
    "c_EC_JR_old =Para[\"Bulk solvent concentration [mol.m-3]\"]  # Be careful when multiplying with pore volume to get amount in mole. Because of electrolyte dry out, that will give more amount than real.   \n",
    "# LLI due to electrode,Ratio of EC and lithium is 1:1 -> EC amount consumed is LLINegSEI[-1]\n",
    "LLINegSEI = (\n",
    "    Sol[\"Loss of lithium to SEI [mol]\"].entries[-1] \n",
    "    - Sol[\"Loss of lithium to SEI [mol]\"].entries[0] )\n",
    "LLINegSEIcr = (\n",
    "    Sol[\"Loss of lithium to SEI on cracks [mol]\"].entries[-1]\n",
    "    - \n",
    "    Sol[\"Loss of lithium to SEI on cracks [mol]\"].entries[0]\n",
    "    )\n",
    "LLINegDeadLiP = (\n",
    "    Sol[\"Loss of lithium to dead lithium plating [mol]\"].entries[-1] \n",
    "    - Sol[\"Loss of lithium to dead lithium plating [mol]\"].entries[0])\n",
    "LLINegLiP = (\n",
    "    Sol[\"Loss of lithium to lithium plating [mol]\"].entries[-1] \n",
    "    - Sol[\"Loss of lithium to lithium plating [mol]\"].entries[0])\n",
    "cLi_Xavg  = Sol[\"X-averaged electrolyte concentration [mol.m-3]\"].entries[-1] \n",
    "# Pore volume change with time:\n",
    "PoreVolNeg_0 = Sol[\"X-averaged negative electrode porosity\"].entries[0]*L_n*L_y*L_z;\n",
    "PoreVolSep_0 = Sol[\"X-averaged separator porosity\"].entries[0]*L_s*L_y*L_z;\n",
    "PoreVolPos_0 = Sol[\"X-averaged positive electrode porosity\"].entries[0]*L_p*L_y*L_z;\n",
    "PoreVolNeg_1 = Sol[\"X-averaged negative electrode porosity\"].entries[-1]*L_n*L_y*L_z;\n",
    "PoreVolSep_1 = Sol[\"X-averaged separator porosity\"].entries[-1]*L_s*L_y*L_z;\n",
    "PoreVolPos_1 = Sol[\"X-averaged positive electrode porosity\"].entries[-1]*L_p*L_y*L_z;\n",
    "#############################################################################################################################  \n",
    "##### Step-2 Determine How much electrolyte is added (from the reservoir to JR) or squeezed out (from JR to reservoir) ######\n",
    "#######################   and finish electrolyte mixing     #################################################################  \n",
    "Vol_Elely_Tot_old = Para[\"Current total electrolyte volume in whole cell [m3]\"] \n",
    "Vol_Elely_JR_old  = Para[\"Current total electrolyte volume in jelly roll [m3]\"] \n",
    "if Vol_Elely_Tot_old - Vol_Elely_JR_old < 0:\n",
    "    print('Model error! Electrolyte in JR is larger than in the cell!')\n",
    "Vol_Pore_tot_old  = PoreVolNeg_0 + PoreVolSep_0 + PoreVolPos_0    # pore volume at start time of the run\n",
    "Vol_Pore_tot_new  = PoreVolNeg_1 + PoreVolSep_1 + PoreVolPos_1    # pore volume at end   time of the run, intrinsic variable \n",
    "Vol_Pore_decrease = Vol_Elely_JR_old  - Vol_Pore_tot_new # WHY Vol_Elely_JR_old not Vol_Pore_tot_old here? Because even the last state of the last solution (n-1) and the first state of the next solution (n) can be slightly different! \n",
    "# EC:lithium:SEI=2:1:1     for SEI=(CH2OCO2Li)2, but because of too many changes are required, change to 2:1:1 for now\n",
    "# Because inner and outer SEI partial molar volume is the same, just set one for whole SEI\n",
    "VmolSEI   = Para[\"Outer SEI partial molar volume [m3.mol-1]\"] # 9.8e-5,\n",
    "VmolLiP   = Para[\"Lithium metal partial molar volume [m3.mol-1]\"] # 1.3e-05\n",
    "VmolEC    = Para[\"EC partial molar volume [m3.mol-1]\"]\n",
    "#################   KEY EQUATION FOR DRY-OUT MODEL                   #################\n",
    "# UPDATE 230525: assume the formation of dead lithium doesn’t consumed EC\n",
    "Vol_EC_consumed  =  ( LLINegSEI + LLINegSEIcr   ) * 2 * VmolEC    # Mark: either with 2 or not, will decide how fast electrolyte being consumed!\n",
    "Vol_Elely_need   = Vol_EC_consumed - Vol_Pore_decrease\n",
    "Vol_SEILiP_increase = 1.0*(\n",
    "    (LLINegSEI+LLINegSEIcr) * VmolSEI \n",
    "    #+ LLINegLiP * VmolLiP\n",
    "    )    #  volume increase due to SEI+total LiP \n",
    "#################   KEY EQUATION FOR DRY-OUT MODEL                   #################\n",
    "\n",
    "Test_V = (Vol_SEILiP_increase - Vol_Pore_decrease)/Vol_Pore_decrease*100  # This value should always be zero, but now not, which becomes the source of error!\n",
    "Test_V2= (Vol_Pore_tot_old - Vol_Elely_JR_old) / Vol_Elely_JR_old * 100;  # Porosity errors due to first time step\n",
    "\n",
    "# Start from here, there are serveral variables to be determined:\n",
    "#   1) Vol_Elely_add, or Vol_Elely_squeezed; depends on conditions. easier for 'squeezed' condition\n",
    "#   2) Vol_Elely_Tot_new, should always equals to Vol_Elely_Tot_old -  Vol_EC_consumed;\n",
    "#   3) Vol_Elely_JR_new, for 'add' condition: see old code; for 'squeezed' condition, equals to pore volume in JR\n",
    "#   4) Ratio_Dryout, for 'add' condition: see old code; for 'squeezed' condition, equals to Vol_Elely_Tot_new/Vol_Pore_tot_new \n",
    "#   5) Ratio_CeEC_JR and Ratio_CeLi_JR: for 'add' condition: see old code; for 'squeezed' condition, equals to 1 (unchanged)\n",
    "#   6) c_e_r_new and c_EC_r_new: for 'add' condition: equals to old ones (unchanged); for 'squeezed' condition, need to carefully calculate     \n",
    "#   7) Width_new: for 'add' condition: see old code; for 'squeezed' condition, equals to L_y (unchanged)\n",
    "Vol_Elely_Tot_new = Vol_Elely_Tot_old - Vol_EC_consumed;"
   ]
  },
  {
   "cell_type": "code",
   "execution_count": 39,
   "metadata": {},
   "outputs": [
    {
     "name": "stdout",
     "output_type": "stream",
     "text": [
      "1.0\n",
      "EC consume: 3.162060212619807e-08\n",
      "Pore decrease: 2.37142658803322e-08\n",
      "SEI increase: 2.371426588135449e-08\n",
      "SEI-porosity error: -4.310862343838852e-09%\n",
      "LLI to SEI mol: 8.618206903670579e-06\n",
      "LLI to SEI-on-crack mol: 0.0002285244519098743\n",
      "2.3714265880333047e-08\n",
      "2.185554147160442e-14\n"
     ]
    }
   ],
   "source": [
    "# check everything !\n",
    "print(Para[\"Ratio of lithium moles to SEI moles\"])\n",
    "print(f\"EC consume: {Vol_EC_consumed}\")\n",
    "print(f\"Pore decrease: {Vol_Pore_decrease}\")\n",
    "print(f\"SEI increase: {Vol_SEILiP_increase}\")\n",
    "print(\n",
    "    f\"SEI-porosity error: { (Vol_Pore_decrease-Vol_SEILiP_increase)/Vol_SEILiP_increase*100}%\")\n",
    "print(f\"LLI to SEI mol: {LLINegSEI}\")\n",
    "print(f\"LLI to SEI-on-crack mol: {LLINegSEIcr}\")\n",
    "print(PoreVolNeg_0-PoreVolNeg_1)\n",
    "print((\n",
    "    Sol[\"X-averaged total SEI thickness [m]\"].entries[-1]\n",
    "    -Sol[\"X-averaged total SEI thickness [m]\"].entries[0])*L_n)"
   ]
  }
 ],
 "metadata": {
  "kernelspec": {
   "display_name": "envPBGEM",
   "language": "python",
   "name": "python3"
  },
  "language_info": {
   "codemirror_mode": {
    "name": "ipython",
    "version": 3
   },
   "file_extension": ".py",
   "mimetype": "text/x-python",
   "name": "python",
   "nbconvert_exporter": "python",
   "pygments_lexer": "ipython3",
   "version": "3.10.6"
  },
  "orig_nbformat": 4
 },
 "nbformat": 4,
 "nbformat_minor": 2
}
