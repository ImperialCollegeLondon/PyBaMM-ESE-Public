{
 "cells": [
  {
   "cell_type": "code",
   "execution_count": 1,
   "metadata": {},
   "outputs": [],
   "source": [
    "# magic lines that avoid re-start \n",
    "%load_ext autoreload\n",
    "%autoreload 2\n",
    "import pybamm as pb;import pandas as pd   ;import numpy as np;\n",
    "import os;\n",
    "import matplotlib.pyplot as plt;import os;import imageio\n",
    "from scipy.io import savemat,loadmat;from pybamm import constants,exp;import matplotlib as mpl; fs=17; # or we can set import matplotlib.pyplot as plt then say 'mpl.rc...'\n",
    "import openpyxl\n",
    "import traceback\n",
    "import multiprocessing\n",
    "import scipy.optimize\n",
    "import timeit\n",
    "import random;import time, signal\n",
    "fs=17; # python -m ipykernel install --user --name=EnvPBGEM_Linux --display-name \"Python_Linux\"\n",
    "font = {'family' : 'DejaVu Sans','size'   : fs}\n",
    "mpl.rc('font', **font)"
   ]
  },
  {
   "cell_type": "code",
   "execution_count": 6,
   "metadata": {},
   "outputs": [],
   "source": [
    "# Reload all scans in this round! \n",
    "# BasicPath = 'D:/OneDrive - Imperial College London/SimDataSave/P2_R8_FromSimon/'; \n",
    "BasicPath = os.path.expanduser(\"~/EnvPBGEM_Linux/SimSave/P2_R9_Dim/\") # for Linux\n",
    "\n",
    "Targets = [\"Exp_3_HPC\"]\n",
    "Scan_Num = [3,]\n",
    "Test_MultiTask_Long = {}\n",
    "for target,scan_num in zip(Targets,Scan_Num):\n",
    "    Test_MultiTask_Long[target] = {}\n",
    "    Scans = np.arange(1,scan_num+1,1).tolist()\n",
    "    for scan in Scans:\n",
    "        Test_MultiTask_Long[target][str(scan)]={}\n",
    "        try:\n",
    "            Test_MultiTask_Long[target][str(scan)] = loadmat( \n",
    "            BasicPath  +   target+ \"/\" # +  str(scan) + \"/\" \n",
    "            + str(scan)+ \"-StructDara_for_Mat.mat\")\n",
    "        except:\n",
    "            print(f\"Nothing in {target}, Scan {scan}\")"
   ]
  },
  {
   "cell_type": "code",
   "execution_count": 17,
   "metadata": {},
   "outputs": [
    {
     "name": "stdout",
     "output_type": "stream",
     "text": [
      "Nothing in Exp_3_off, Scan 3\n"
     ]
    }
   ],
   "source": [
    "# Reload all scans in this round! \n",
    "# BasicPath = 'D:/OneDrive - Imperial College London/SimDataSave/P2_R8_FromSimon/'; \n",
    "BasicPath = os.path.expanduser(\"~/EnvPBGEM_Linux/SimSave/P2_R9_Dim/\") # for Linux\n",
    "\n",
    "Targets = [\"Exp_3_off\"]\n",
    "Scan_Num = [3,]\n",
    "Exp_3_off = {}\n",
    "for target,scan_num in zip(Targets,Scan_Num):\n",
    "    Exp_3_off[target] = {}\n",
    "    Scans = np.arange(1,scan_num+1,1).tolist()\n",
    "    for scan in Scans:\n",
    "        Exp_3_off[target][str(scan)]={}\n",
    "        try:\n",
    "            Exp_3_off[target][str(scan)] = loadmat( \n",
    "            BasicPath  +   target+ \"/\" # +  str(scan) + \"/\" \n",
    "            + str(scan)+ \"-StructDara_for_Mat.mat\")\n",
    "        except:\n",
    "            print(f\"Nothing in {target}, Scan {scan}\")"
   ]
  },
  {
   "cell_type": "code",
   "execution_count": 19,
   "metadata": {},
   "outputs": [
    {
     "name": "stdout",
     "output_type": "stream",
     "text": [
      "[[array([[4.17440177, 4.08721902, 4.06339   , 4.03417723, 3.98142341,\n",
      "          3.92894835, 3.88122315, 3.83324036, 3.78868878, 3.73769788,\n",
      "          3.68875236, 3.64877635, 3.61117359, 3.56728698, 3.51302846,\n",
      "          3.45985397, 3.41007834, 3.31300779, 3.16426501, 2.87174533,\n",
      "          2.50001   ]])\n",
      "  array([[4.17259121, 4.08550669, 4.06150837, 4.03136212, 3.97771046,\n",
      "          3.9246036 , 3.87555876, 3.82911938, 3.78436888, 3.73244575,\n",
      "          3.68374147, 3.64369463, 3.60462176, 3.55727918, 3.50213317,\n",
      "          3.44555631, 3.39730172, 3.26960815, 3.10823236, 2.64303639,\n",
      "          2.50001   ]])\n",
      "  array([[4.17247765, 4.08384861, 4.05974511, 4.02683553, 3.97132163,\n",
      "          3.91743607, 3.86774116, 3.82162332, 3.77506861, 3.7213288 ,\n",
      "          3.67329681, 3.63280706, 3.59041421, 3.53705508, 3.48224469,\n",
      "          3.42785199, 3.34880082, 3.19589598, 2.93393244, 2.56674393,\n",
      "          2.50001   ]])\n",
      "  array([[4.1722421 , 4.08089232, 4.05646224, 4.01882396, 3.96109432,\n",
      "          3.90521219, 3.85515775, 3.80986739, 3.7593072 , 3.70370469,\n",
      "          3.65663646, 3.61378818, 3.56369385, 3.50562935, 3.44658521,\n",
      "          3.38723782, 3.23587058, 3.01755536, 2.73348015, 2.50001   ]])\n",
      "  array([[4.17149082, 4.06882338, 4.0424288 , 3.99256761, 3.92785876,\n",
      "          3.87147307, 3.82222389, 3.77041823, 3.70842555, 3.65208046,\n",
      "          3.60145194, 3.54171386, 3.47796103, 3.41812275, 3.27416674,\n",
      "          3.05710412, 2.76918857, 2.50001   ]])\n",
      "  array([[4.17254782, 4.07066107, 4.04221894, 3.99068024, 3.92751582,\n",
      "          3.8675191 , 3.81768083, 3.76417931, 3.70100339, 3.64478953,\n",
      "          3.5927737 , 3.53078116, 3.46448915, 3.40139576, 3.23832703,\n",
      "          2.95898606, 2.50006479, 2.50001   ]])                      ]]\n"
     ]
    }
   ],
   "source": [
    "print(Exp_3_off[\"Exp_3_off\"][\"1\"][\"CD Terminal voltage [V]\"])"
   ]
  },
  {
   "cell_type": "code",
   "execution_count": 20,
   "metadata": {},
   "outputs": [
    {
     "ename": "KeyError",
     "evalue": "'CD Terminal voltage [V]'",
     "output_type": "error",
     "traceback": [
      "\u001b[0;31m---------------------------------------------------------------------------\u001b[0m",
      "\u001b[0;31mKeyError\u001b[0m                                  Traceback (most recent call last)",
      "Cell \u001b[0;32mIn[20], line 1\u001b[0m\n\u001b[0;32m----> 1\u001b[0m \u001b[39mprint\u001b[39m(Test_MultiTask_Long[\u001b[39m\"\u001b[39;49m\u001b[39mExp_3_HPC\u001b[39;49m\u001b[39m\"\u001b[39;49m][\u001b[39m\"\u001b[39;49m\u001b[39m1\u001b[39;49m\u001b[39m\"\u001b[39;49m][\u001b[39m\"\u001b[39;49m\u001b[39mCD Terminal voltage [V]\u001b[39;49m\u001b[39m\"\u001b[39;49m])\n",
      "\u001b[0;31mKeyError\u001b[0m: 'CD Terminal voltage [V]'"
     ]
    }
   ],
   "source": [
    "print(Test_MultiTask_Long[\"Exp_3_HPC\"][\"1\"][\"CD Terminal voltage [V]\"])"
   ]
  },
  {
   "cell_type": "code",
   "execution_count": 12,
   "metadata": {},
   "outputs": [
    {
     "name": "stdout",
     "output_type": "stream",
     "text": [
      "[[0.00489179 0.0048789  0.00487447 0.00487081 0.00486761 0.00486472\n",
      "  0.00486205 0.00485957 0.00485723 0.00485501 0.0048529 ]]\n",
      "[[4.89178657 4.8788953  4.87446538 4.87081346 4.86761209 4.86471874\n",
      "  4.86205434 4.85956971 4.85723133 4.85501492 4.85290299]]\n",
      "[[  0  50  50 100 100 150 150 200 200 250 250 300 300 350 350 400 400 450\n",
      "  450 500 500]]\n"
     ]
    }
   ],
   "source": [
    "print(Test_MultiTask_Long[\"Test_MultiTask_Long\"][\"1\"]['CDend Throughput capacity [kA.h]'] ) # \n",
    "print(Test_MultiTask_Long[\"Test_MultiTask_Long\"][\"1\"]['CDend Throughput capacity [A.h]'] ) # \n",
    "print(Test_MultiTask_Long[\"Test_MultiTask_Long\"][\"1\"]['Cyc_Update_Index'] ) # "
   ]
  },
  {
   "cell_type": "code",
   "execution_count": 15,
   "metadata": {},
   "outputs": [
    {
     "name": "stdout",
     "output_type": "stream",
     "text": [
      "11\n",
      "11\n",
      "21\n"
     ]
    }
   ],
   "source": [
    "print(len(Test_MultiTask_Long[\"Test_MultiTask_Long\"][\"1\"]['CDend Throughput capacity [kA.h]'][0]) ) # \n",
    "print(len(Test_MultiTask_Long[\"Test_MultiTask_Long\"][\"1\"]['CDend Throughput capacity [A.h]'][0]) ) # \n",
    "print(len(Test_MultiTask_Long[\"Test_MultiTask_Long\"][\"1\"]['Cyc_Update_Index'][0]) ) # "
   ]
  }
 ],
 "metadata": {
  "kernelspec": {
   "display_name": "envPBGEM",
   "language": "python",
   "name": "python3"
  },
  "language_info": {
   "codemirror_mode": {
    "name": "ipython",
    "version": 3
   },
   "file_extension": ".py",
   "mimetype": "text/x-python",
   "name": "python",
   "nbconvert_exporter": "python",
   "pygments_lexer": "ipython3",
   "version": "3.10.6"
  },
  "orig_nbformat": 4,
  "vscode": {
   "interpreter": {
    "hash": "83fab7fbb3a8fe7b5910804f702478ef63e2cc6a08d85072a5d68865ed0fd8c7"
   }
  }
 },
 "nbformat": 4,
 "nbformat_minor": 2
}
