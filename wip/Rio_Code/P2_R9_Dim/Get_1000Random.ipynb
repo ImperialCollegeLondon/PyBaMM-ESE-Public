{
 "cells": [
  {
   "attachments": {},
   "cell_type": "markdown",
   "metadata": {},
   "source": [
    "# This is to generate a random combination of serveral parameters within certain range + Latin Hypercube method"
   ]
  },
  {
   "cell_type": "code",
   "execution_count": 47,
   "metadata": {},
   "outputs": [
    {
     "name": "stdout",
     "output_type": "stream",
     "text": [
      "The autoreload extension is already loaded. To reload it, use:\n",
      "  %reload_ext autoreload\n"
     ]
    }
   ],
   "source": [
    "# magic lines that avoid re-start \n",
    "%load_ext autoreload\n",
    "%autoreload 2\n",
    "import csv, random, os\n",
    "import pybamm as pb;import pandas as pd;import numpy as np;\n",
    "import os, json,openpyxl,traceback,multiprocessing,scipy.optimize\n",
    "import matplotlib.pyplot as plt;\n",
    "import imageio,timeit,random,time, signal\n",
    "from scipy.io import savemat,loadmat;\n",
    "from pybamm import constants,exp;import matplotlib as mpl; \n",
    "fs=17; \n",
    "font = {'family' : 'DejaVu Sans','size'   : fs}\n",
    "mpl.rc('font', **font)"
   ]
  },
  {
   "cell_type": "code",
   "execution_count": 43,
   "metadata": {},
   "outputs": [],
   "source": [
    "# def functions\n",
    "def generate_combinations(Bounds, Num_tot):\n",
    "    lower_bounds = []\n",
    "    upper_bounds = []\n",
    "    for bound in Bounds:\n",
    "        lower_bounds.append(bound[0])\n",
    "        upper_bounds.append(bound[1])\n",
    "    combinations = []\n",
    "    for _ in range(Num_tot):\n",
    "        combination = []\n",
    "        for lower, upper in zip(lower_bounds, upper_bounds):\n",
    "            value = random.uniform(lower, upper)\n",
    "            combination.append(value)\n",
    "        combinations.append(combination)\n",
    "    return combinations\n",
    "\n",
    "def save_combinations_to_csv(combinations, parameter_names, filename):\n",
    "    with open(filename, 'w', newline='') as csvfile:\n",
    "        writer = csv.writer(csvfile)\n",
    "        writer.writerow(parameter_names)  # Write parameter names as the first row\n",
    "        for combination in combinations:\n",
    "            writer.writerow(combination)"
   ]
  },
  {
   "cell_type": "code",
   "execution_count": null,
   "metadata": {},
   "outputs": [],
   "source": [
    "BasicPath =  os.path.expanduser(\"~/EnvPBGEM_Linux/SimSave/P2_R9_Dim\")\n",
    "Target  = f'/Get_Random_sets/'\n",
    "if not os.path.exists(BasicPath + Target):\n",
    "   os.mkdir(BasicPath + Target)"
   ]
  },
  {
   "cell_type": "code",
   "execution_count": 37,
   "metadata": {},
   "outputs": [
    {
     "name": "stdout",
     "output_type": "stream",
     "text": [
      "Combinations saved to '200cases_for_SEI_ONLY.csv' file.\n"
     ]
    }
   ],
   "source": [
    "# 200 cases for dry-out only - 2023-6-4\n",
    "# Get candidates instead of random value - only for SEI\n",
    "# we still want other mechanisms to be open but will make them very small\n",
    "candidates_Dint = (np.exp(np.linspace(np.log(3e-20), np.log(3e-18), num=10))).tolist()\n",
    "candidates_elely_res = [0.999, 1.0]    # pick only 0.99 and 1.0\n",
    "candidates_V_SEI  = (np.linspace(4e-05, 15e-05, num=10)).tolist()\n",
    "Candidates = [\n",
    "    candidates_Dint, candidates_elely_res,\n",
    "    candidates_V_SEI]\n",
    "parameter_names = [\n",
    "    'Inner SEI lithium interstitial diffusivity [m2.s-1]', \n",
    "    'Initial electrolyte excessive amount ratio', \n",
    "    'Outer SEI partial molar volume [m3.mol-1]', \n",
    "]\n",
    "# Usage example:\n",
    "BasicPath =  os.path.expanduser(\"~/EnvPBGEM_Linux/SimSave/P2_R9_Dim\")\n",
    "Target  = f'/Get_Random_sets/'\n",
    "if not os.path.exists(BasicPath + Target):\n",
    "   os.mkdir(BasicPath + Target)\n",
    "combinations = []\n",
    "for Dint in candidates_Dint:\n",
    "    for elely_res in candidates_elely_res:\n",
    "        for V_SEI in candidates_V_SEI:\n",
    "            combinations.append([Dint,elely_res,V_SEI])\n",
    "filename = BasicPath+Target+'200cases_for_SEI_ONLY.csv'\n",
    "save_combinations_to_csv(combinations, parameter_names, filename)\n",
    "print(\"Combinations saved to '200cases_for_SEI_ONLY.csv' file.\")"
   ]
  },
  {
   "cell_type": "code",
   "execution_count": 45,
   "metadata": {},
   "outputs": [
    {
     "name": "stdout",
     "output_type": "stream",
     "text": [
      "Combinations saved to '20cases_for_Dry_out.csv' file.\n"
     ]
    }
   ],
   "source": [
    "# 10 cases for dry-out only - 2023-6-7\n",
    "Target_name = \"20cases_for_Dry_out\"\n",
    "candidates_Dint = [3.97e-19]\n",
    "candidates_elely_res = [ 1.0]    # pick only 0.99 and 1.0\n",
    "candidates_V_SEI  = (np.linspace(4e-05, 15e-05, num=20)).tolist()\n",
    "Candidates = [\n",
    "    candidates_Dint, candidates_elely_res,\n",
    "    candidates_V_SEI]\n",
    "parameter_names = [\n",
    "    'Inner SEI lithium interstitial diffusivity [m2.s-1]', \n",
    "    'Initial electrolyte excessive amount ratio', \n",
    "    'Outer SEI partial molar volume [m3.mol-1]', \n",
    "]\n",
    "# Usage example:\n",
    "combinations = []\n",
    "for Dint in candidates_Dint:\n",
    "    for elely_res in candidates_elely_res:\n",
    "        for V_SEI in candidates_V_SEI:\n",
    "            combinations.append([Dint,elely_res,V_SEI])\n",
    "filename = BasicPath+Target+f'{Target_name}.csv'\n",
    "save_combinations_to_csv(combinations, parameter_names, filename)\n",
    "print(f\"Combinations saved to '{Target_name}.csv' file.\")"
   ]
  },
  {
   "cell_type": "code",
   "execution_count": 54,
   "metadata": {},
   "outputs": [
    {
     "name": "stdout",
     "output_type": "stream",
     "text": [
      "Combinations saved to 'Latin_6para_200cases_wideRange.csv' file.\n"
     ]
    }
   ],
   "source": [
    "# Latin hypercube - 6 parameters, 200 cases, - 23-06-08 really big range for \n",
    "from pyDOE import lhs\n",
    "# Keep dry-out ratio=1; discard stress-driven LAM_Pe\n",
    "num = 200; \n",
    "cands_Dint = (\n",
    "    np.exp(np.linspace(np.log(3e-22), np.log(3e-16), num=num))).tolist()\n",
    "cands_Decay = (\n",
    "    np.exp(np.linspace(np.log(4e-10), np.log(4e-4), num=num))).tolist()\n",
    "cands_kLiP = (\n",
    "    np.exp(np.linspace(np.log(1e-14), np.log(1e-6), num=num))).tolist()\n",
    "cands_LAM_Nep = (\n",
    "    np.exp(np.linspace(np.log(1e-12), np.log(3e-5), num=num))).tolist()\n",
    "cands_k_Necr = (\n",
    "    np.exp(np.linspace(np.log(1e-25), np.log(1e-16), num=num))).tolist()\n",
    "cands_V_SEI = (\n",
    "    np.linspace(4e-5, 15e-5, num=num)).tolist()\n",
    "parameter_names = [\n",
    "    'Inner SEI lithium interstitial diffusivity [m2.s-1]', \n",
    "    'Dead lithium decay constant [s-1]',\n",
    "    'Lithium plating kinetic rate constant [m.s-1]',\n",
    "    'Negative electrode LAM constant proportional term [s-1]',\n",
    "    'Negative electrode cracking rate',\n",
    "    'Outer SEI partial molar volume [m3.mol-1]', ]\n",
    "# Combine the candidate lists\n",
    "candidate_lists = [\n",
    "    cands_Dint, cands_Decay, cands_kLiP, \n",
    "    cands_LAM_Nep, cands_k_Necr, cands_V_SEI]\n",
    "\n",
    "# Generate Latin hypercube samples\n",
    "samples = lhs(len(candidate_lists), samples=num)\n",
    "\n",
    "# Initialize the parameter combinations list\n",
    "combinations = []\n",
    "\n",
    "# Create the parameter combinations\n",
    "for sample in samples:\n",
    "    combination = []\n",
    "    for i, candidate_list in enumerate(candidate_lists):\n",
    "        index = int(sample[i] * num)\n",
    "        combination.append(candidate_list[index])\n",
    "    combinations.append(combination)\n",
    "\n",
    "Target_name = \"Latin_6para_200cases_wideRange\"\n",
    "filename = BasicPath+Target+f'{Target_name}.csv'\n",
    "save_combinations_to_csv(combinations, parameter_names, filename)\n",
    "print(f\"Combinations saved to '{Target_name}.csv' file.\")"
   ]
  },
  {
   "cell_type": "code",
   "execution_count": 55,
   "metadata": {},
   "outputs": [
    {
     "name": "stdout",
     "output_type": "stream",
     "text": [
      "Combinations saved to 'Latin_6para_200cases_narrow.csv' file.\n"
     ]
    }
   ],
   "source": [
    "# Latin hypercube - 6 parameters, 200 cases, - 23-06-10\n",
    "from pyDOE import lhs\n",
    "# Keep dry-out ratio=1; discard stress-driven LAM_Pe\n",
    "num = 200; \n",
    "cands_Dint = ( # IDEAL: 3.87E-19; \n",
    "    np.exp(np.linspace(np.log(3e-20), np.log(3e-18), num=num))).tolist()\n",
    "cands_Decay = (\n",
    "    np.exp(np.linspace(np.log(1e-13), np.log(1e-10), num=num))).tolist()\n",
    "cands_kLiP = (\n",
    "    np.exp(np.linspace(np.log(1e-15), np.log(1e-13), num=num))).tolist()\n",
    "cands_LAM_Nep = (\n",
    "    np.exp(np.linspace(np.log(1e-16), np.log(1e-14), num=num))).tolist()\n",
    "cands_k_Necr = (\n",
    "    np.exp(np.linspace(np.log(1e-25), np.log(1e-13), num=num))).tolist()\n",
    "cands_V_SEI = (\n",
    "    np.linspace(5.05e-5, 12e-5, num=num)).tolist()\n",
    "parameter_names = [\n",
    "    'Inner SEI lithium interstitial diffusivity [m2.s-1]', \n",
    "    'Dead lithium decay constant [s-1]',\n",
    "    'Lithium plating kinetic rate constant [m.s-1]',\n",
    "    'Negative electrode LAM constant proportional term [s-1]',\n",
    "    'Negative electrode cracking rate',\n",
    "    'Outer SEI partial molar volume [m3.mol-1]', ]\n",
    "# Combine the candidate lists\n",
    "candidate_lists = [\n",
    "    cands_Dint, cands_Decay, cands_kLiP, \n",
    "    cands_LAM_Nep, cands_k_Necr, cands_V_SEI]\n",
    "\n",
    "# Generate Latin hypercube samples\n",
    "samples = lhs(len(candidate_lists), samples=num)\n",
    "\n",
    "# Initialize the parameter combinations list\n",
    "combinations = []\n",
    "\n",
    "# Create the parameter combinations\n",
    "for sample in samples:\n",
    "    combination = []\n",
    "    for i, candidate_list in enumerate(candidate_lists):\n",
    "        index = int(sample[i] * num)\n",
    "        combination.append(candidate_list[index])\n",
    "    combinations.append(combination)\n",
    "\n",
    "Target_name = \"Latin_6para_200cases_narrow\"\n",
    "filename = BasicPath+Target+f'{Target_name}.csv'\n",
    "save_combinations_to_csv(combinations, parameter_names, filename)\n",
    "print(f\"Combinations saved to '{Target_name}.csv' file.\")"
   ]
  },
  {
   "cell_type": "code",
   "execution_count": 5,
   "metadata": {},
   "outputs": [
    {
     "name": "stdout",
     "output_type": "stream",
     "text": [
      "Combinations saved to 'Random_1000sets.csv' file.\n"
     ]
    }
   ],
   "source": [
    "# early - 2023--6-01\n",
    "# Scan for all cases - ONLY run once!  - \n",
    "# first, we need to define the bounds for all 8 parameters\n",
    "bounds_Dint = [3e-20,4e-19]\n",
    "bounds_Li_decay = [4e-7,2.5e-6 ]\n",
    "bounds_k_LiP = [1e-10, 1e-8]\n",
    "bounds_LAM_Nep = [1e-9, 3e-7]\n",
    "bounds_k_Necr = [1e-21, 9e-20]\n",
    "bounds_elely_res = [0.999, 1.4]\n",
    "bounds_V_EC  =  [4.8e-5, 6.67e-5]\n",
    "bounds_R_cont     = [0.0105, 0.02 ]\n",
    "Bounds = [\n",
    "    bounds_Dint,   bounds_Li_decay, bounds_k_LiP,\n",
    "    bounds_LAM_Nep,bounds_k_Necr,   bounds_elely_res,\n",
    "    bounds_V_EC,bounds_R_cont]\n",
    "parameter_names = [\n",
    "    'Inner SEI lithium interstitial diffusivity [m2.s-1]', \n",
    "    'Dead lithium decay constant [s-1]', \n",
    "    'Lithium plating kinetic rate constant [m.s-1]', \n",
    "    'Negative electrode LAM constant proportional term [s-1]', \n",
    "    'Negative electrode cracking rate', \n",
    "    'Initial electrolyte excessive amount ratio', \n",
    "    'EC partial molar volume [m3.mol-1]', \n",
    "    'Contact resistance [Ohm]'\n",
    "]\n",
    "\n",
    "\n",
    "# Usage example:\n",
    "BasicPath =  os.path.expanduser(\"~/EnvPBGEM_Linux/SimSave/P2_R9_Dim\")\n",
    "Target  = f'/Get_Random_sets/'\n",
    "if not os.path.exists(BasicPath + Target):\n",
    "   os.mkdir(BasicPath + Target)\n",
    "Random_1000 = generate_combinations(Bounds, Num_tot=1000)\n",
    "filename = BasicPath+Target+'Random_1000sets.csv'\n",
    "save_combinations_to_csv(Random_1000, parameter_names, filename)\n",
    "print(\"Combinations saved to 'Random_1000sets.csv' file.\")\n"
   ]
  },
  {
   "cell_type": "code",
   "execution_count": 38,
   "metadata": {},
   "outputs": [],
   "source": [
    "# reload\n",
    "def load_combinations_from_csv(filename):\n",
    "    dataframe = pd.read_csv(filename)\n",
    "    parameter_names = dataframe.columns.tolist()\n",
    "    combinations = dataframe.values.tolist()\n",
    "    return parameter_names, combinations\n",
    "\n",
    "# Usage example:\n",
    "filename = BasicPath+Target+'200cases_for_SEI_ONLY.csv'\n",
    "parameter_names, combinations = load_combinations_from_csv(filename)\n"
   ]
  },
  {
   "cell_type": "code",
   "execution_count": 39,
   "metadata": {},
   "outputs": [],
   "source": [
    "## Global setting: change with PC or HPC\n",
    "# Path_NiallDMA = \"InputData/\" # for HPC\n",
    "\n",
    "# Path_NiallDMA = \"D:/OneDrive - Imperial College London/SimDataSave/InputData/\" # for Windows\n",
    "Path_NiallDMA = os.path.expanduser(\"~/EnvPBGEM_Linux/SimSave/InputData/\") # for Linux\n",
    "# BasicPath=os.getcwd() # for HPC\n",
    "# path for windows's pybamm in office PC \n",
    "# BasicPath = 'D:/OneDrive - Imperial College London/SimDataSave/P2_R9_Dim/Test'  \n",
    "# for linux pybamm in office pc:\n",
    "BasicPath =  os.path.expanduser(\"~/EnvPBGEM_Linux/SimSave/P2_R9_Dim\")\n",
    "import sys  \n",
    "str_path_0 = os.path.abspath(os.path.join(pb.__path__[0],'..'))\n",
    "str_path_1 = os.path.abspath(os.path.join(str_path_0,\"wip/Rio_Code/Fun_P2\"))\n",
    "sys.path.append(str_path_1) \n",
    "from Fun_P2 import * # directly do this for HPC\n",
    "\n",
    "# Set Experiment : Exp-2\n",
    "index_exp = 2 # index for experiment set, can now go for 2,3,5\n",
    "Round_No = \"SEI_only\"  # index to identify different rounds of running \n",
    "pool_no = 8\n",
    "Runshort = True # True\n",
    "\n",
    "# specify case 1-10\n",
    "Scan_start = 1;    Scan_end = 3; \n",
    "Indexs =np.arange(Scan_start-1,Scan_end)\n",
    "\n",
    "if Runshort == False:\n",
    "    if index_exp == 2:\n",
    "        tot_cyc = 6192; cyc_age = 516; # should be 6192 but now run shorter to be faster\n",
    "    if index_exp == 3:\n",
    "        tot_cyc = 6180; cyc_age = 515;\n",
    "    if index_exp == 5:\n",
    "        tot_cyc = 1170; cyc_age = 78;\n",
    "else:\n",
    "    if index_exp == 2:\n",
    "        tot_cyc = 6; cyc_age = 1;\n",
    "    if index_exp == 3:\n",
    "        tot_cyc = 8; cyc_age = 2;\n",
    "    if index_exp == 5:\n",
    "        tot_cyc = 8; cyc_age = 2;\n",
    "\n",
    "para_dict_Same = {\n",
    "   \"Ageing temperature\":25, # 25, 40 \n",
    "   \"Total ageing cycles\":int(tot_cyc), # \n",
    "   \"Ageing cycles between RPT\":int(cyc_age), # \n",
    "   \"Update cycles for ageing\": int(cyc_age),\n",
    "   \"Cycles within RPT\":1,\n",
    "   \"RPT temperature\":25,\n",
    "   \"Mesh list\":[5,5,5,60,20],   # Simon uses 30\n",
    "   \"Para_Set\": \"OKane2023\", # Li2023_Coupled\n",
    "   \"Model option\":{\n",
    "        #\"contact resistance\": \"true\",\n",
    "        \"open-circuit potential\": \"current sigmoid\",\n",
    "        \"thermal\": \"lumped\",\n",
    "        \"SEI\": \"interstitial-diffusion limited\",\n",
    "        \"SEI on cracks\": \"true\",\n",
    "        \"SEI film resistance\": \"distributed\", \n",
    "        \"SEI porosity change\": \"true\",\n",
    "        \"particle mechanics\": (\"swelling and cracking\", \"swelling only\"),\n",
    "        \"loss of active material\": (\"stress-driven\",\"none\"),\n",
    "        \"lithium plating\": \"partially reversible\",},\n",
    "    \"Positive electrode LAM constant proportional term [s-1]\": 1e-16,\n",
    "    \"Current solvent concentration in the reservoir [mol.m-3]\":4541.0,\n",
    "    \"Current electrolyte concentration in the reservoir [mol.m-3]\":1000,\n",
    "    \"Ratio of Li-ion concentration change in electrolyte consider solvent consumption\":1.0,\n",
    "    'EC initial concentration in electrolyte [mol.m-3]':4541.0,\n",
    "    'Typical EC concentration in electrolyte [mol.m-3]':4541.0, \n",
    "    # unchange now:\n",
    "    'Dead lithium decay constant [s-1]':1e-12, \n",
    "    'Lithium plating kinetic rate constant [m.s-1]':1e-14, \n",
    "    'Negative electrode LAM constant proportional term [s-1]':1e-16, \n",
    "    'Negative electrode cracking rate':1e-25, \n",
    "}"
   ]
  },
  {
   "cell_type": "code",
   "execution_count": 40,
   "metadata": {},
   "outputs": [],
   "source": [
    "#Scan_start = 1;    Scan_end = 10; \n",
    "Indexs =np.arange(Scan_start-1,Scan_end)\n",
    "Para_dict_list = []\n",
    "\n",
    "def load_combinations_from_csv(filename):\n",
    "    dataframe = pd.read_csv(filename)\n",
    "    parameter_names = dataframe.columns.tolist()\n",
    "    combinations = dataframe.values.tolist()\n",
    "    return parameter_names, combinations\n",
    "\n",
    "# Usage example:\n",
    "filename = BasicPath+Target+'200cases_for_SEI_ONLY.csv'\n",
    "parameter_names, combinations = load_combinations_from_csv(filename)\n",
    "\n",
    "for index in Indexs:\n",
    "    para_active = {}\n",
    "    for parameter_name,para_value in zip(parameter_names,combinations[index] ):\n",
    "        para_active[parameter_name] = para_value\n",
    "    para_sum = {**para_active,**para_dict_Same}\n",
    "    Para_dict_list.append(para_sum)"
   ]
  },
  {
   "cell_type": "code",
   "execution_count": 41,
   "metadata": {},
   "outputs": [
    {
     "data": {
      "text/plain": [
       "{'Inner SEI lithium interstitial diffusivity [m2.s-1]': 3e-20,\n",
       " 'Initial electrolyte excessive amount ratio': 0.999,\n",
       " 'Outer SEI partial molar volume [m3.mol-1]': 9.5e-05,\n",
       " 'Ageing temperature': 25,\n",
       " 'Total ageing cycles': 6,\n",
       " 'Ageing cycles between RPT': 1,\n",
       " 'Update cycles for ageing': 1,\n",
       " 'Cycles within RPT': 1,\n",
       " 'RPT temperature': 25,\n",
       " 'Mesh list': [5, 5, 5, 60, 20],\n",
       " 'Para_Set': 'OKane2023',\n",
       " 'Model option': {'open-circuit potential': 'current sigmoid',\n",
       "  'thermal': 'lumped',\n",
       "  'SEI': 'interstitial-diffusion limited',\n",
       "  'SEI on cracks': 'true',\n",
       "  'SEI film resistance': 'distributed',\n",
       "  'SEI porosity change': 'true',\n",
       "  'particle mechanics': ('swelling and cracking', 'swelling only'),\n",
       "  'loss of active material': ('stress-driven', 'none'),\n",
       "  'lithium plating': 'partially reversible'},\n",
       " 'Positive electrode LAM constant proportional term [s-1]': 1e-16,\n",
       " 'Current solvent concentration in the reservoir [mol.m-3]': 4541.0,\n",
       " 'Current electrolyte concentration in the reservoir [mol.m-3]': 1000,\n",
       " 'Ratio of Li-ion concentration change in electrolyte consider solvent consumption': 1.0,\n",
       " 'EC initial concentration in electrolyte [mol.m-3]': 4541.0,\n",
       " 'Typical EC concentration in electrolyte [mol.m-3]': 4541.0,\n",
       " 'Dead lithium decay constant [s-1]': 1e-12,\n",
       " 'Lithium plating kinetic rate constant [m.s-1]': 1e-14,\n",
       " 'Negative electrode LAM constant proportional term [s-1]': 1e-16,\n",
       " 'Negative electrode cracking rate': 1e-25}"
      ]
     },
     "execution_count": 41,
     "metadata": {},
     "output_type": "execute_result"
    }
   ],
   "source": [
    "Para_dict_list[0]"
   ]
  }
 ],
 "metadata": {
  "kernelspec": {
   "display_name": "EnvPBGEM_Linux",
   "language": "python",
   "name": "python3"
  },
  "language_info": {
   "codemirror_mode": {
    "name": "ipython",
    "version": 3
   },
   "file_extension": ".py",
   "mimetype": "text/x-python",
   "name": "python",
   "nbconvert_exporter": "python",
   "pygments_lexer": "ipython3",
   "version": "3.10.6"
  },
  "orig_nbformat": 4
 },
 "nbformat": 4,
 "nbformat_minor": 2
}
