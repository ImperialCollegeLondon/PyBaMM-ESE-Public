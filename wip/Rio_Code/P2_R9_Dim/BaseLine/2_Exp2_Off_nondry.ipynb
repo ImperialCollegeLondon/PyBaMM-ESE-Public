{
 "cells": [
  {
   "cell_type": "code",
   "execution_count": 1,
   "metadata": {},
   "outputs": [],
   "source": [
    "# magic lines that avoid re-start \n",
    "%load_ext autoreload\n",
    "%autoreload 2\n",
    "import pybamm as pb;import pandas as pd   ;import numpy as np;\n",
    "import os;\n",
    "import matplotlib.pyplot as plt;import os;import imageio\n",
    "from scipy.io import savemat,loadmat;from pybamm import constants,exp;import matplotlib as mpl; fs=17; # or we can set import matplotlib.pyplot as plt then say 'mpl.rc...'\n",
    "import openpyxl\n",
    "import traceback\n",
    "import multiprocessing\n",
    "import scipy.optimize\n",
    "import timeit\n",
    "import random;import time, signal\n",
    "fs=17; # python -m ipykernel install --user --name=EnvPBGEM_Linux --display-name \"Python_Linux\"\n",
    "font = {'family' : 'DejaVu Sans','size'   : fs}\n",
    "mpl.rc('font', **font)"
   ]
  },
  {
   "cell_type": "code",
   "execution_count": 2,
   "metadata": {},
   "outputs": [],
   "source": [
    "## Global setting: change with PC or HPC\n",
    "# Path_NiallDMA = \"InputData/\" # for HPC\n",
    "\n",
    "# Path_NiallDMA = \"D:/OneDrive - Imperial College London/SimDataSave/InputData/\" # for Windows\n",
    "Path_NiallDMA = os.path.expanduser(\"~/EnvPBGEM_Linux/SimSave/InputData/\") # for Linux\n",
    "# BasicPath=os.getcwd() # for HPC\n",
    "# path for windows's pybamm in office PC \n",
    "# BasicPath = 'D:/OneDrive - Imperial College London/SimDataSave/P2_R9_Dim/Test'  \n",
    "# for linux pybamm in office pc:\n",
    "BasicPath =  os.path.expanduser(\"~/EnvPBGEM_Linux/SimSave/P2_R9_Dim\")\n",
    "import sys  \n",
    "str_path_0 = os.path.abspath(os.path.join(pb.__path__[0],'..'))\n",
    "str_path_1 = os.path.abspath(os.path.join(str_path_0,\"wip/Rio_Code/Fun_P2\"))\n",
    "sys.path.append(str_path_1) \n",
    "from Fun_P2 import * # directly do this for HPC\n",
    "\n",
    "# Set Experiment : Exp-2\n",
    "index_exp = 2 # index for experiment set, can now go for 2,3,5\n",
    "Round_No = \"debug_Dryout_nondry\"  # index to identify different rounds of running \n",
    "pool_no = 8\n",
    "Runshort = False # True\n",
    "\n",
    "if Runshort == False:\n",
    "    if index_exp == 2:\n",
    "        tot_cyc = 6192; cyc_age = 516;\n",
    "    if index_exp == 3:\n",
    "        tot_cyc = 6180; cyc_age = 515;\n",
    "    if index_exp == 5:\n",
    "        tot_cyc = 1170; cyc_age = 78;\n",
    "else:\n",
    "    if index_exp == 2:\n",
    "        tot_cyc = 8; cyc_age = 2;\n",
    "    if index_exp == 3:\n",
    "        tot_cyc = 8; cyc_age = 2;\n",
    "    if index_exp == 5:\n",
    "        tot_cyc = 8; cyc_age = 2;\n",
    "\n",
    "#########  Actively sweep parameters  ##############\n",
    "Para_active = {\n",
    "   \"Ageing temperature\":[25,], # 25, 40 \n",
    "   \"Total ageing cycles\":[int(tot_cyc),], # \n",
    "   \"Ageing cycles between RPT\":[int(cyc_age),], # \n",
    "   \"Update cycles for ageing\": [int(cyc_age),],\n",
    "   \"Initial electrolyte excessive amount ratio\":[ 0.9,], # set to <1 for DryOut=Off\n",
    "   # rate of dry-out:\n",
    "   \"EC partial molar volume [m3.mol-1]\":[5.0e-05,] ,\n",
    "   # interstitial-diffusion limited\n",
    "   'Inner SEI lithium interstitial diffusivity [m2.s-1]':[1e-20,9e-20,],    \n",
    "   # LiP and coupling with SEI:\n",
    "   \"Dead lithium decay constant [s-1]\":[ 1e-6,],            # default: 1e-6\n",
    "   'Lithium plating kinetic rate constant [m.s-1]':[1E-10], # default: 1e-9\n",
    "   # Crack model\n",
    "   \"Negative electrode LAM constant proportional term [s-1]\":[ 1e-9], # default: 2.7778e-07\n",
    "   \"Positive electrode LAM constant proportional term [s-1]\":[ 1e-16,], # default: 2.7778e-07\n",
    "   \"Negative electrode cracking rate\":[ 1e-20,],   # default: function, ~3.9e-20 \n",
    "}"
   ]
  },
  {
   "cell_type": "code",
   "execution_count": 3,
   "metadata": {},
   "outputs": [
    {
     "name": "stdout",
     "output_type": "stream",
     "text": [
      "Total scan case is 2\n"
     ]
    }
   ],
   "source": [
    "# Inactively sweep parameters\n",
    "Para_dict_Same = {\n",
    "   #\"Positive electrode cracking rate\":[ 1e-22,],   # default: function, ~3.9e-20 \n",
    "   \"Cycles within RPT\":[1,],\n",
    "   \"RPT temperature\":[25,],\n",
    "   \"Mesh list\":[[5,5,5,60,20],],   # Simon uses 30\n",
    "   \"Para_Set\":[ \"OKane2023\",], # Li2023_Coupled\n",
    "   \"Model option\":[\n",
    "      {\n",
    "        \"contact resistance\": \"true\",\n",
    "        \"open-circuit potential\": \"current sigmoid\",\n",
    "        \"thermal\": \"lumped\",\n",
    "        \"SEI\": \"interstitial-diffusion limited\",\n",
    "        \"SEI on cracks\": \"true\",\n",
    "        \"SEI film resistance\": \"distributed\", \n",
    "        \"SEI porosity change\": \"true\",\n",
    "        \"particle mechanics\": (\"swelling and cracking\", \"swelling only\"),\n",
    "        \"loss of active material\": (\"stress-driven\",\"none\"),\n",
    "        \"lithium plating\": \"partially reversible\",\n",
    "      },\n",
    "      ],\n",
    "   \"Contact resistance [Ohm]\": [0.0105,],   \n",
    "   \"Current solvent concentration in the reservoir [mol.m-3]\":[4541.0,],\n",
    "   \"Current electrolyte concentration in the reservoir [mol.m-3]\":[1000,],\n",
    "   \"Ratio of Li-ion concentration change in electrolyte consider solvent consumption\":[1.0,],\n",
    "   'EC initial concentration in electrolyte [mol.m-3]':[4541.0,],\n",
    "   'Typical EC concentration in electrolyte [mol.m-3]':[4541.0,], # Mark Ruihe change, act as an initial value here\n",
    "   \n",
    "   #\"Negative electrode volume change\":[ 0.0,],\n",
    "   #\"Positive electrode volume change\":[ 0.0,],\n",
    "   #\"Initial Neg SOC\":[0.850],    #list(np.linspace(0.84,0.90,6)),\n",
    "   #\"Initial Pos SOC\":[0.2705], # list(np.linspace(0.22,0.27,6)),\n",
    "}\n",
    "Para_dict_All = {**Para_dict_Same,**Para_active}\n",
    "Para_dict_list = []\n",
    "recursive_scan(Para_dict_list,Para_dict_All, list(Para_dict_All.keys()), {})\n",
    "print(f\"Total scan case is {len(Para_dict_list)}\")"
   ]
  },
  {
   "cell_type": "code",
   "execution_count": 4,
   "metadata": {},
   "outputs": [],
   "source": [
    "# set up experiment\n",
    "Target  = f'/Exp{index_exp}_Round_{Round_No}/'\n",
    "book_name_xlsx = f'Exp{index_exp}_Round_{Round_No}.xlsx';\n",
    "V_max = 4.2;        V_min = 2.5; \n",
    "if index_exp ==2:\n",
    "    discharge_time_mins = 0.15* 60 * 4.86491/5\n",
    "    charge_time_mins = 0.5* 60 * 4.86491/5\n",
    "    exp_AGE_text = [(\n",
    "        f\"Discharge at 1C for {discharge_time_mins} minutes or until {V_min}V\", \n",
    "        f\"Charge at 0.3C for {charge_time_mins} minutes or until {V_max}V\",\n",
    "        ),  ]  # *  setting on cycler is 516, rather than 514 in wiki\n",
    "elif index_exp ==3:\n",
    "    discharge_time_mins = 0.15* 60 * 4.86491/5\n",
    "    charge_time_mins = 0.5* 60 * 4.86491/5\n",
    "    exp_AGE_text = [(\n",
    "        f\"Discharge at 1C for {discharge_time_mins} minutes or until {V_min}V\", \n",
    "        f\"Charge at 0.3C until {V_max}V\",\n",
    "        f\"Hold at {V_max} V until C/100\",\n",
    "        ),  ]   # *  setting on cycler is 515, rather than 514 in wiki\n",
    "elif index_exp ==5:\n",
    "    exp_AGE_text = [(\n",
    "        f\"Discharge at 1C until {V_min}V\", \n",
    "        f\"Charge at 0.3C until {V_max}V\",\n",
    "        f\"Hold at {V_max} V until C/100\",\n",
    "        ),  ]  # *  78\n",
    "else:\n",
    "    print(\"Not yet implemented!\")\n",
    "step_AGE_CD =0;   step_AGE_CC =1;   step_AGE_CV =2;"
   ]
  },
  {
   "cell_type": "code",
   "execution_count": 5,
   "metadata": {},
   "outputs": [],
   "source": [
    "# remaining set-up for experiment and create folders\n",
    "sheet_name_xlsx = 'Results';\n",
    "if not os.path.exists(BasicPath + Target):\n",
    "   os.mkdir(BasicPath + Target);\n",
    "if not os.path.exists(BasicPath + Target+\"Mats\"):\n",
    "   os.mkdir(BasicPath + Target+\"Mats\");\n",
    "if not os.path.exists(BasicPath + Target+\"Plots\"):\n",
    "   os.mkdir(BasicPath + Target+\"Plots\");\n",
    "if not os.path.exists(BasicPath + Target+\"Excel\"):\n",
    "   os.mkdir(BasicPath + Target+\"Excel\");\n",
    "\n",
    "Path_pack = [BasicPath,Target,book_name_xlsx,sheet_name_xlsx,]\n",
    "\n",
    "exp_RPT_text = [ (\n",
    "    # refill\n",
    "    f\"Hold at {V_max}V until C/100\",\n",
    "    \"Rest for 1 hours (20 minute period)\", \n",
    "    # 0.1C cycle \n",
    "    f\"Discharge at 0.1C until {V_min} V (30 minute period)\",  \n",
    "    \"Rest for 3 hours (20 minute period)\",  \n",
    "    f\"Charge at 0.1C until {V_max} V (30 minute period)\",\n",
    "    f\"Hold at {V_max}V until C/100\",\n",
    "    \"Rest for 1 hours (20 minute period)\",\n",
    "    # 0.5C cycle \n",
    "    f\"Discharge at 0.5C until {V_min} V (6 minute period)\",  \n",
    "    \"Rest for 3 hours (20 minute period)\",\n",
    "    f\"Charge at 0.5C until {V_max} V (6 minute period)\",\n",
    "    f\"Hold at {V_max}V until C/100\",\n",
    "    \"Rest for 3 hours (20 minute period)\",  \n",
    "    ) ] * 1\n",
    "# step index for RPT\n",
    "step_0p1C_CD = 2; step_0p1C_CC = 4;   step_0p1C_RE =3;    \n",
    "step_0p5C_CD = 7;  \n",
    "\n",
    "exp_text_list = [exp_AGE_text,  exp_RPT_text ];\n",
    "cycle_no = -1; \n",
    "exp_index_pack = [cycle_no,step_AGE_CD,step_AGE_CC,step_AGE_CV,\n",
    "   step_0p1C_CD, step_0p1C_CC,step_0p1C_RE , step_0p5C_CD ];\n"
   ]
  },
  {
   "cell_type": "code",
   "execution_count": 6,
   "metadata": {},
   "outputs": [],
   "source": [
    "# define global index and dict for all experiment data - prepare for read!\n",
    "Exp_Path = [\n",
    "    \"Expt 1 - Si-based Degradation/\",\n",
    "    \"Expt 2,2 - C-based Degradation 2/\",\n",
    "    \"Expt 3 - Cathode Degradation and Li-Plating/\",\n",
    "    \"Expt 4 - Drive Cycle Aging (Control)/\",\n",
    "    \"Expt 5 - Standard Cycle Aging (Control)/\",]\n",
    "Exp_head = [\n",
    "    \"Expt 1\",\n",
    "    \"Expt 2,2\",\n",
    "    \"Expt 3\",\n",
    "    \"Expt 4\",\n",
    "    \"Expt 5\",]\n",
    "Exp_1_Cell = [\"A\",\"B\",\"J\",\"D\",\"E\",\"F\",\"K\",\"L\",\"M\"];\n",
    "Exp_1_Temp = {\n",
    "    \"A\":\"10\",\"B\":\"10\",\"J\":\"10\",\n",
    "    \"D\":\"25\",\"E\":\"25\",\"F\":\"25\",\n",
    "    \"K\":\"40\",\"L\":\"40\",\"M\":\"40\",}\n",
    "Temp_Cell_Exp_1 = {\n",
    "    \"10\":[\"A\",\"B\",\"J\"],\n",
    "    \"25\":[\"D\",\"E\",\"F\"],\n",
    "    \"40\":[\"K\",\"L\",\"M\"],}\n",
    "Exp_2_Cell = [\"A\",\"B\",\"C\",\"D\",\"E\",\"F\"];\n",
    "Exp_2_Temp = {\n",
    "    \"A\":\"10\",\"B\":\"10\",\n",
    "    \"C\":\"25\",\"D\":\"25\",\n",
    "    \"E\":\"40\",\"F\":\"40\",}\n",
    "Temp_Cell_Exp_2 = {\n",
    "    \"10\":[\"A\",\"B\"],\n",
    "    \"25\":[\"C\",\"D\"],\n",
    "    \"40\":[\"E\",\"F\"],}\n",
    "Exp_3_Cell = [\"A\",\"B\",\"C\",\"D\",\"E\",\"F\",\"G\",\"H\",\"I\"];\n",
    "Exp_3_Temp = {\n",
    "    \"A\":\"10\",\"B\":\"10\",\"C\":\"10\",\n",
    "    \"D\":\"25\",\"E\":\"25\",\"F\":\"25\",\n",
    "    \"G\":\"40\",\"H\":\"40\",\"I\":\"40\"}\n",
    "Temp_Cell_Exp_3 = {\n",
    "    \"10\":[\"A\",\"B\",\"C\"],\n",
    "    \"25\":[\"D\",\"E\",\"F\"],\n",
    "    \"40\":[\"G\",\"H\",\"I\"],}\n",
    "Exp_4_Cell = [\"A\",\"B\",\"C\",\"D\",\"E\",\"F\",\"G\",\"H\"];\n",
    "Exp_4_Temp = {\n",
    "    \"A\":\"10\",\"B\":\"10\",\"C\":\"10\",\n",
    "    \"D\":\"25\",\"E\":\"25\",\n",
    "    \"F\":\"40\",\"G\":\"40\",\"H\":\"40\",}\n",
    "Temp_Cell_Exp_4 = {\n",
    "    \"10\":[\"A\",\"B\",\"C\"],\n",
    "    \"25\":[\"D\",\"E\",],\n",
    "    \"40\":[\"F\",\"G\",\"H\"],}\n",
    "Exp_5_Cell = [\"A\",\"B\",\"C\",\"D\",\"E\",\"F\",\"G\",\"H\"];\n",
    "Exp_5_Temp = {\n",
    "    \"A\":\"10\",\"B\":\"10\",\"C\":\"10\",\n",
    "    \"D\":\"25\",\"E\":\"25\",\n",
    "    \"F\":\"40\",\"G\":\"40\",\"H\":\"40\",}\n",
    "Temp_Cell_Exp_5 = {\n",
    "    \"10\":[\"A\",\"B\",\"C\"],\n",
    "    \"25\":[\"D\",\"E\",],\n",
    "    \"40\":[\"F\",\"G\",\"H\"],}\n",
    "Exp_All_Cell  = [Exp_1_Cell,Exp_2_Cell,Exp_3_Cell,Exp_4_Cell,Exp_5_Cell]\n",
    "Exp_Temp_Cell = [Exp_1_Temp,Exp_2_Temp,Exp_3_Temp,Exp_4_Temp,Exp_5_Temp]\n",
    "Temp_Cell_Exp_All = [Temp_Cell_Exp_1,Temp_Cell_Exp_2,Temp_Cell_Exp_3,Temp_Cell_Exp_4,Temp_Cell_Exp_5]\n",
    "Mark_Cell_All = [\n",
    "    {\n",
    "    \"A\":\"o\",\"B\":\">\",\"J\":\"v\",\n",
    "    \"D\":\"o\",\"E\":\">\",\"F\":\"v\",\n",
    "    \"K\":\"o\",\"L\":\">\",\"M\":\"v\",},\n",
    "    {\n",
    "    \"A\":\"10\",\"B\":\"10\",\n",
    "    \"C\":\"25\",\"D\":\"25\",\n",
    "    \"E\":\"40\",\"F\":\"40\",},\n",
    "    {\n",
    "    \"A\":\"o\",\"B\":\">\",\"C\":\"v\",\n",
    "    \"D\":\"o\",\"E\":\">\",\"F\":\"v\",\n",
    "    \"G\":\"o\",\"H\":\">\",\"I\":\"v\",},\n",
    "    {\n",
    "    \"A\":\"o\",\"B\":\">\",\"C\":\"v\",\n",
    "    \"D\":\"o\",\"E\":\">\",\n",
    "    \"F\":\"o\",\"G\":\">\",\"H\":\"v\",},\n",
    "    {\n",
    "    \"A\":\"o\",\"B\":\">\",\"C\":\"v\",\n",
    "    \"D\":\"o\",\"E\":\">\",\n",
    "    \"F\":\"o\",\"G\":\">\",\"H\":\"v\",}]\n",
    "Color_Cell_All = [\n",
    "    {\n",
    "    \"A\":[2/255, 3/255, 226/255,0.7],\"B\":[2/255, 3/255, 226/255,0.7],\"J\":[2/255, 3/255, 226/255,0.7],\n",
    "    \"D\":[0, 0, 0,0.7],\"E\":[0, 0, 0,0.7],\"F\":[0, 0, 0,0.7],\n",
    "    \"K\":[1,0,0,0.4],\"L\":[1,0,0,0.4],\"M\":[1,0,0,0.4],},\n",
    "    {\n",
    "    \"A\":[2/255, 3/255, 226/255,0.7],\"B\":[2/255, 3/255, 226/255,0.7],\n",
    "    \"D\":[0, 0, 0,0.7],\"C\":[0, 0, 0,0.7],\n",
    "    \"E\":[1,0,0,0.4],\"F\":[1,0,0,0.4],},\n",
    "    {\n",
    "    \"A\":[2/255, 3/255, 226/255,0.7],\"B\":[2/255, 3/255, 226/255,0.7],\"C\":[2/255, 3/255, 226/255,0.7],\n",
    "    \"D\":[0, 0, 0,0.7],\"E\":[0, 0, 0,0.7],\"F\":[0, 0, 0,0.7],\n",
    "    \"G\":[1,0,0,0.4],\"H\":[1,0,0,0.4],\"I\":[1,0,0,0.4],},\n",
    "    {\n",
    "    \"A\":[2/255, 3/255, 226/255,0.7],\"B\":[2/255, 3/255, 226/255,0.7],\"C\":[2/255, 3/255, 226/255,0.7],\n",
    "    \"D\":[0, 0, 0,0.7],\"E\":[0, 0, 0,0.7],\n",
    "    \"F\":[1,0,0,0.4],\"G\":[1,0,0,0.4],\"H\":[1,0,0,0.4],},\n",
    "    {\n",
    "    \"A\":[2/255, 3/255, 226/255,0.7],\"B\":[2/255, 3/255, 226/255,0.7],\"C\":[2/255, 3/255, 226/255,0.7],\n",
    "    \"D\":[0, 0, 0,0.7],\"E\":[0, 0, 0,0.7],\n",
    "    \"F\":[1,0,0,0.4],\"G\":[1,0,0,0.4],\"H\":[1,0,0,0.4],}]\n"
   ]
  },
  {
   "cell_type": "code",
   "execution_count": 7,
   "metadata": {},
   "outputs": [
    {
     "name": "stdout",
     "output_type": "stream",
     "text": [
      "Finish reading Experiment!\n"
     ]
    }
   ],
   "source": [
    "# Load Niall's data\n",
    "Temp_Cell_Exp = Temp_Cell_Exp_All[index_exp-1] \n",
    "Exp_Any_AllData = Read_Exp(\n",
    "    Path_NiallDMA,Exp_All_Cell[index_exp-1],\n",
    "    Exp_Path,Exp_head,Exp_Temp_Cell[index_exp-1],\n",
    "    index_exp-1)\n"
   ]
  },
  {
   "cell_type": "code",
   "execution_count": 8,
   "metadata": {},
   "outputs": [],
   "source": [
    "########################  Output  ########################\n",
    "keys_loc_RPT = [ # MAY WANT TO SELECT AGEING CYCLE later\n",
    "    # Default output:\n",
    "    \"x [m]\",\n",
    "    \"x_n [m]\",\n",
    "    \"x_s [m]\",\n",
    "    \"x_p [m]\",\n",
    "    # default: end; \n",
    "    \"CCend Porosity\",\n",
    "    \"CCend Negative electrode interfacial current density [A.m-2]\",\n",
    "    \"CCend Electrolyte potential [V]\",\n",
    "    \"CCend Electrolyte concentration [mol.m-3]\",\n",
    "    \"CCend Negative electrode reaction overpotential [V]\",\n",
    "    \"CCend Negative particle surface concentration [mol.m-3]\",\n",
    "    \"CCend Negative electrode roughness ratio\",\n",
    "    \"CCend Total SEI on cracks thickness [m]\",\n",
    "\n",
    "    \"CDend Porosity\",\n",
    "    \"CDend Negative electrode interfacial current density [A.m-2]\",\n",
    "    \"CDend Electrolyte potential [V]\",\n",
    "    \"CDend Electrolyte concentration [mol.m-3]\",\n",
    "    \"CDend Negative electrode reaction overpotential [V]\",\n",
    "    \"CDend Negative particle surface concentration [mol.m-3]\",\n",
    "    \"CDend Negative electrode roughness ratio\",\n",
    "    \"CDend Total SEI on cracks thickness [m]\",\n",
    "    #\"REend Total SEI on cracks thickness [m]\",\n",
    "]\n",
    "keys_tim_RPT = [\n",
    "    # default: CD\n",
    "    \"CD Time [h]\",\n",
    "    \"CD Terminal voltage [V]\",\n",
    "    #\"RE Terminal voltage [V]\",\n",
    "]\n",
    "keys_cyc_RPT = [   # default: CDend\n",
    "    \"Discharge capacity [A.h]\",\n",
    "    \"Throughput capacity [A.h]\",\n",
    "    \"CDend Total lithium capacity in particles [A.h]\",\n",
    "    \"CDend Loss of capacity to lithium plating [A.h]\",\n",
    "    \"CDend Loss of capacity to SEI [A.h]\",\n",
    "    \"CDend Loss of capacity to SEI on cracks [A.h]\",\n",
    "    \"CDend X-averaged total SEI on cracks thickness [m]\",\n",
    "    \"CDend X-averaged negative electrode roughness ratio\",\n",
    "    \"CDend Local ECM resistance [Ohm]\",\n",
    "    \"CDsta Negative electrode stoichiometry\", \n",
    "    \"CDend Negative electrode stoichiometry\",\n",
    "    \"CDsta Positive electrode stoichiometry\", \n",
    "    \"CDend Positive electrode stoichiometry\",\n",
    "    \"CDend Negative electrode capacity [A.h]\",\n",
    "    \"CDend Positive electrode capacity [A.h]\",\n",
    "    \n",
    "]\n",
    "\n",
    "keys_loc_AGE = [ # MAY WANT TO SELECT AGEING CYCLE later\n",
    "    # Default output:\n",
    "    \"x [m]\",\n",
    "    \"x_n [m]\",\n",
    "    \"x_s [m]\",\n",
    "    \"x_p [m]\",\n",
    "    # default: end; \n",
    "    \"CCend Porosity\",\n",
    "    \"CCend Negative electrode interfacial current density [A.m-2]\",\n",
    "    \"CCend Electrolyte potential [V]\",\n",
    "    \"CCend Electrolyte concentration [mol.m-3]\",\n",
    "    \"CCend Negative electrode reaction overpotential [V]\",\n",
    "    \"CCend Negative particle surface concentration [mol.m-3]\",\n",
    "    \"CCend Negative electrode roughness ratio\",\n",
    "    \"CCend Total SEI on cracks thickness [m]\",\n",
    "\n",
    "    \"CDend Porosity\",\n",
    "    \"CDend Negative electrode interfacial current density [A.m-2]\",\n",
    "    \"CDend Electrolyte potential [V]\",\n",
    "    \"CDend Electrolyte concentration [mol.m-3]\",\n",
    "    \"CDend Negative electrode reaction overpotential [V]\",\n",
    "    \"CDend Negative particle surface concentration [mol.m-3]\",\n",
    "    \"CDend Negative electrode roughness ratio\",\n",
    "    \"CDend Total SEI on cracks thickness [m]\",\n",
    "    \"CDend Electrolyte diffusivity [m2.s-1]\",\n",
    "    \"CDend Electrolyte conductivity [S.m-1]\",\n",
    "]\n",
    "keys_tim_AGE = [];\n",
    "keys_cyc_AGE = [];\n",
    "keys_all_RPT = [keys_loc_RPT,keys_tim_RPT,keys_cyc_RPT];\n",
    "keys_all_AGE = [keys_loc_AGE,keys_tim_AGE,keys_cyc_AGE];\n",
    "keys_all = [keys_all_RPT,keys_all_AGE];\n"
   ]
  },
  {
   "cell_type": "code",
   "execution_count": 9,
   "metadata": {},
   "outputs": [
    {
     "name": "stdout",
     "output_type": "stream",
     "text": [
      "Successfully create a excel file\n"
     ]
    }
   ],
   "source": [
    "# Write para - 1st round:\n",
    "Values_1 = []\n",
    "head_keys = list(Para_dict_list[0].keys())\n",
    "head_pre = [\n",
    "    \"Scan No\",\"Exp No.\",\"Y or N\",\n",
    "    \"Error Tot%\",\"Error SOH %\",\"Error LLI %\",\n",
    "    \"Error LAM NE %\",\"Error LAM PE %\",\"Error Res %\",\"Dry out\"]\n",
    "\n",
    "head_pos = [ \"exp_AGE_text\", \"exp_RPT_text\",\n",
    "   \"Cap Loss\",\"LLI to LiP\",\n",
    "   \"LLI to SEI\",\"LLI to sei-on-cracks\",\n",
    "   \"LAM to Neg\",\"LAM to Pos\",\n",
    "   \"Vol_Elely_Tot Final\", \"Vol_Elely_JR Final\",\"Width Final\",\"Error\"]\n",
    "Values_1 .append([*head_pre,*head_keys,*head_pos])\n",
    "index_list = np.arange(1,len(Para_dict_list)+1,1)\n",
    "for Scan_i,Para_dict_i in zip(index_list,Para_dict_list):\n",
    "    value_list_temp = list(Para_dict_i.values())\n",
    "    values_para = []\n",
    "    for value_list_temp_i in value_list_temp:\n",
    "        values_para.append(str(value_list_temp_i))\n",
    "    # sequence: scan no, exp, pass or fail, mpe, dry-out, \n",
    "    mpe_all = [\"Unknown\",\"Unknown\",\n",
    "        \"Unknown\",\"Unknown\", \n",
    "        \"Unknown\",\"Unknown\",]\n",
    "    Pass_Fail = \"Unknown\"\n",
    "    DryOut = \"Unknown\"\n",
    "    value_Pre = [str(Scan_i),index_exp,Pass_Fail,*mpe_all,DryOut,]\n",
    "    values = [*value_Pre,*values_para,]\n",
    "    Values_1.append(values)\n",
    "write_excel_xlsx(\n",
    "    BasicPath + Target+book_name_xlsx, \n",
    "    sheet_name_xlsx, Values_1)   \n"
   ]
  },
  {
   "cell_type": "code",
   "execution_count": 10,
   "metadata": {},
   "outputs": [
    {
     "name": "stdout",
     "output_type": "stream",
     "text": [
      "Start Now! Scan 1.\n",
      "Start Now! Scan 2.\n",
      "Scan 2: DryOut = Off\n",
      "Scan 2: Spent 85.128 ms on Initialization\n",
      "Scan 1: DryOut = Off\n",
      "Scan 1: Spent 128.259 ms on Initialization\n"
     ]
    },
    {
     "name": "stderr",
     "output_type": "stream",
     "text": [
      "At t = 1309.91 and h = 2.66639e-10, the corrector convergence failed repeatedly or with |h| = hmin.\n",
      "At t = 1315.14 and h = 7.46133e-11, the corrector convergence failed repeatedly or with |h| = hmin.\n"
     ]
    },
    {
     "name": "stdout",
     "output_type": "stream",
     "text": [
      "Scan 2: Finish break-in cycle within 1 minute, 13 seconds\n",
      "Scan 1: Finish break-in cycle within 1 minute, 13 seconds\n",
      "Scan 2: Finish post-process for break-in cycle within 208.951 ms\n",
      "Scan 1: Finish post-process for break-in cycle within 255.563 ms\n",
      "Scan 1: Finish for No.0 ageing cycles within 18 minutes, 24 seconds\n",
      "Scan 1: Finish post-process for No.516 ageing cycles within 156.068 ms\n"
     ]
    },
    {
     "name": "stderr",
     "output_type": "stream",
     "text": [
      "At t = 1154.25 and h = 2.60315e-10, the corrector convergence failed repeatedly or with |h| = hmin.\n"
     ]
    },
    {
     "name": "stdout",
     "output_type": "stream",
     "text": [
      "Scan 2: Finish for No.0 ageing cycles within 18 minutes, 58 seconds\n",
      "Scan 2: Finish post-process for No.516 ageing cycles within 123.097 ms\n"
     ]
    },
    {
     "name": "stderr",
     "output_type": "stream",
     "text": [
      "At t = 359.984 and h = 1.77984e-11, the corrector convergence failed repeatedly or with |h| = hmin.\n",
      "At t = 1066.97 and h = 1.95841e-11, the corrector convergence failed repeatedly or with |h| = hmin.\n"
     ]
    },
    {
     "name": "stdout",
     "output_type": "stream",
     "text": [
      "Scan 1: Finish for No.516 RPT cycles within 1 minute, 13 seconds\n",
      "Scan 1: Finish post-process for No.516 RPT cycles within 151.942 ms\n"
     ]
    },
    {
     "name": "stderr",
     "output_type": "stream",
     "text": [
      "At t = 342.508 and h = 3.23576e-11, the corrector convergence failed repeatedly or with |h| = hmin.\n"
     ]
    },
    {
     "name": "stdout",
     "output_type": "stream",
     "text": [
      "Scan 2: Finish for No.516 RPT cycles within 1 minute, 14 seconds\n",
      "Scan 2: Finish post-process for No.516 RPT cycles within 144.775 ms\n",
      "Scan 1: Finish for No.516 ageing cycles within 18 minutes, 16 seconds\n",
      "Scan 1: Finish post-process for No.1032 ageing cycles within 76.759 ms\n"
     ]
    },
    {
     "name": "stderr",
     "output_type": "stream",
     "text": [
      "At t = 1038.58 and h = 2.25411e-11, the corrector convergence failed repeatedly or with |h| = hmin.\n",
      "At t = 337.089 and h = 2.88072e-11, the corrector convergence failed repeatedly or with |h| = hmin.\n"
     ]
    },
    {
     "name": "stdout",
     "output_type": "stream",
     "text": [
      "Scan 1: Finish for No.1032 RPT cycles within 1 minute, 14 seconds\n",
      "Scan 1: Finish post-process for No.1032 RPT cycles within 142.275 ms\n",
      "Scan 2: Finish for No.516 ageing cycles within 18 minutes, 59 seconds\n",
      "Scan 2: Finish post-process for No.1032 ageing cycles within 71.736 ms\n"
     ]
    },
    {
     "name": "stderr",
     "output_type": "stream",
     "text": [
      "At t = 893.793 and h = 1.20534e-10, the corrector convergence failed repeatedly or with |h| = hmin.\n",
      "At t = 893.792 and h = 2.46065e-10, the corrector convergence failed repeatedly or with |h| = hmin.\n",
      "At t = 308.193 and h = 1.98978e-11, the corrector convergence failed repeatedly or with |h| = hmin.\n"
     ]
    },
    {
     "name": "stdout",
     "output_type": "stream",
     "text": [
      "Scan 2: Finish for No.1032 RPT cycles within 1 minute, 13 seconds\n",
      "Scan 2: Finish post-process for No.1032 RPT cycles within 141.175 ms\n",
      "Scan 1: Finish for No.1032 ageing cycles within 19 minutes, 40 seconds\n",
      "Scan 1: Finish post-process for No.1548 ageing cycles within 68.208 ms\n"
     ]
    },
    {
     "name": "stderr",
     "output_type": "stream",
     "text": [
      "At t = 918.696 and h = 1.58461e-13, the corrector convergence failed repeatedly or with |h| = hmin.\n"
     ]
    },
    {
     "name": "stdout",
     "output_type": "stream",
     "text": [
      "Scan 2: Finish for No.1032 ageing cycles within 18 minutes, 50 seconds\n",
      "Scan 2: Finish post-process for No.1548 ageing cycles within 103.582 ms\n"
     ]
    },
    {
     "name": "stderr",
     "output_type": "stream",
     "text": [
      "At t = 313.349 and h = 3.20492e-11, the corrector convergence failed repeatedly or with |h| = hmin.\n",
      "At t = 709.956 and h = 3.83572e-14, the corrector convergence failed repeatedly or with |h| = hmin.\n",
      "At t = 709.965 and h = 2.42519e-10, the corrector convergence failed repeatedly or with |h| = hmin.\n"
     ]
    },
    {
     "name": "stdout",
     "output_type": "stream",
     "text": [
      "Scan 1: Finish for No.1548 RPT cycles within 1 minute, 8 seconds\n",
      "Scan 1: Finish post-process for No.1548 RPT cycles within 151.242 ms\n"
     ]
    },
    {
     "name": "stderr",
     "output_type": "stream",
     "text": [
      "At t = 271.724 and h = 3.43103e-11, the corrector convergence failed repeatedly or with |h| = hmin.\n",
      "At t = 271.722 and h = 4.21154e-14, the corrector convergence failed repeatedly or with |h| = hmin.\n",
      "At t = 121.724 and h = 3.16629e-11, the corrector convergence failed repeatedly or with |h| = hmin.\n"
     ]
    },
    {
     "name": "stdout",
     "output_type": "stream",
     "text": [
      "Scan 2: Finish for No.1548 RPT cycles within 1 minute, 13 seconds\n",
      "Scan 2: Finish post-process for No.1548 RPT cycles within 138.305 ms\n",
      "Scan 1: Finish for No.1548 ageing cycles within 19 minutes, 2 seconds\n",
      "Scan 1: Finish post-process for No.2064 ageing cycles within 63.063 ms\n",
      "Scan 2: Finish for No.1548 ageing cycles within 18 minutes, 32 seconds\n",
      "Scan 2: Finish post-process for No.2064 ageing cycles within 63.112 ms\n"
     ]
    },
    {
     "name": "stderr",
     "output_type": "stream",
     "text": [
      "At t = 790.534 and h = 9.34956e-13, the corrector convergence failed repeatedly or with |h| = hmin.\n",
      "At t = 790.574 and h = 9.85349e-11, the corrector convergence failed repeatedly or with |h| = hmin.\n",
      "At t = 505.122 and h = 2.39202e-12, the corrector convergence failed repeatedly or with |h| = hmin.\n",
      "At t = 505.208 and h = 1.59526e-10, the corrector convergence failed repeatedly or with |h| = hmin.\n",
      "At t = 287.955 and h = 1.51281e-11, the corrector convergence failed repeatedly or with |h| = hmin.\n",
      "At t = 231.071 and h = 5.65109e-14, the corrector convergence failed repeatedly or with |h| = hmin.\n",
      "At t = 287.95 and h = 3.11903e-14, the corrector convergence failed repeatedly or with |h| = hmin.\n",
      "At t = 137.952 and h = 1.34194e-14, the corrector convergence failed repeatedly or with |h| = hmin.\n",
      "At t = 231.073 and h = 3.43983e-12, the corrector convergence failed repeatedly or with |h| = hmin.\n"
     ]
    },
    {
     "name": "stdout",
     "output_type": "stream",
     "text": [
      "Scan 1: Finish for No.2064 RPT cycles within 1 minute, 13 seconds\n",
      "Scan 1: Finish post-process for No.2064 RPT cycles within 138.261 ms\n",
      "Scan 2: Finish for No.2064 RPT cycles within 1 minute, 13 seconds\n",
      "Scan 2: Finish post-process for No.2064 RPT cycles within 128.333 ms\n",
      "Scan 1: Finish for No.2064 ageing cycles within 17 minutes, 55 seconds\n",
      "Scan 1: Finish post-process for No.2580 ageing cycles within 114.628 ms\n"
     ]
    },
    {
     "name": "stderr",
     "output_type": "stream",
     "text": [
      "At t = 649.922 and h = 1.03336e-10, the corrector convergence failed repeatedly or with |h| = hmin.\n",
      "At t = 649.917 and h = 2.74738e-10, the corrector convergence failed repeatedly or with |h| = hmin.\n",
      "At t = 260.063 and h = 1.18887e-11, the corrector convergence failed repeatedly or with |h| = hmin.\n",
      "At t = 260.064 and h = 1.47818e-11, the corrector convergence failed repeatedly or with |h| = hmin.\n",
      "At t = 110.064 and h = 1.75542e-11, the corrector convergence failed repeatedly or with |h| = hmin.\n"
     ]
    },
    {
     "name": "stdout",
     "output_type": "stream",
     "text": [
      "Scan 2: Finish for No.2064 ageing cycles within 18 minutes, 55 seconds\n",
      "Scan 2: Finish post-process for No.2580 ageing cycles within 66.233 ms\n",
      "Scan 1: Finish for No.2580 RPT cycles within 1 minute, 24 seconds\n",
      "Scan 1: Finish post-process for No.2580 RPT cycles within 140.012 ms\n"
     ]
    },
    {
     "name": "stderr",
     "output_type": "stream",
     "text": [
      "At t = 184.42 and h = 1.92883e-11, the corrector convergence failed repeatedly or with |h| = hmin.\n",
      "At t = 184.42 and h = 2.8393e-11, the corrector convergence failed repeatedly or with |h| = hmin.\n"
     ]
    },
    {
     "name": "stdout",
     "output_type": "stream",
     "text": [
      "Scan 2: Finish for No.2580 RPT cycles within 1 minute, 16 seconds\n",
      "Scan 2: Finish post-process for No.2580 RPT cycles within 155.416 ms\n",
      "Scan 1: Finish for No.2580 ageing cycles within 19 minutes, 2 seconds\n",
      "Scan 1: Finish post-process for No.3096 ageing cycles within 81.603 ms\n"
     ]
    },
    {
     "name": "stderr",
     "output_type": "stream",
     "text": [
      "At t = 491.42 and h = 5.34732e-11, the corrector convergence failed repeatedly or with |h| = hmin.\n",
      "At t = 491.423 and h = 4.3062e-11, the corrector convergence failed repeatedly or with |h| = hmin.\n",
      "At t = 228.607 and h = 9.37572e-14, the corrector convergence failed repeatedly or with |h| = hmin.\n",
      "At t = 228.612 and h = 1.61535e-11, the corrector convergence failed repeatedly or with |h| = hmin.\n"
     ]
    },
    {
     "name": "stdout",
     "output_type": "stream",
     "text": [
      "Scan 1: Finish for No.3096 RPT cycles within 1 minute, 20 seconds\n",
      "Scan 1: Finish post-process for No.3096 RPT cycles within 212.186 ms\n",
      "Scan 2: Finish for No.2580 ageing cycles within 20 minutes, 1 second\n",
      "Scan 2: Finish post-process for No.3096 ageing cycles within 68.867 ms\n"
     ]
    },
    {
     "name": "stderr",
     "output_type": "stream",
     "text": [
      "At t = 1794.71 and h = 1.87779e-10, the corrector convergence failed repeatedly or with |h| = hmin.\n",
      "At t = 885.716 and h = 8.20053e-11, the corrector convergence failed repeatedly or with |h| = hmin.\n",
      "At t = 129.686 and h = 2.3862e-11, the corrector convergence failed repeatedly or with |h| = hmin.\n",
      "At t = 129.686 and h = 8.34879e-12, the corrector convergence failed repeatedly or with |h| = hmin.\n",
      "At t = 129.684 and h = 1.82675e-14, the corrector convergence failed repeatedly or with |h| = hmin.\n"
     ]
    },
    {
     "name": "stdout",
     "output_type": "stream",
     "text": [
      "Scan 2: Finish for No.3096 RPT cycles within 1 minute, 22 seconds\n",
      "Scan 2: Finish post-process for No.3096 RPT cycles within 158.296 ms\n",
      "Scan 1: Finish for No.3096 ageing cycles within 21 minutes, 0 seconds\n",
      "Scan 1: Finish post-process for No.3612 ageing cycles within 79.637 ms\n"
     ]
    },
    {
     "name": "stderr",
     "output_type": "stream",
     "text": [
      "At t = 192.194 and h = 2.40733e-11, the corrector convergence failed repeatedly or with |h| = hmin.\n",
      "At t = 192.194 and h = 3.52482e-11, the corrector convergence failed repeatedly or with |h| = hmin.\n"
     ]
    },
    {
     "name": "stdout",
     "output_type": "stream",
     "text": [
      "Scan 1: Finish for No.3612 RPT cycles within 1 minute, 15 seconds\n",
      "Scan 1: Finish post-process for No.3612 RPT cycles within 210.826 ms\n",
      "Scan 2: Finish for No.3096 ageing cycles within 21 minutes, 36 seconds\n",
      "Scan 2: Finish post-process for No.3612 ageing cycles within 79.148 ms\n"
     ]
    },
    {
     "name": "stderr",
     "output_type": "stream",
     "text": [
      "At t = 1461.58 and h = 3.79906e-10, the corrector convergence failed repeatedly or with |h| = hmin.\n",
      "At t = 552.577 and h = 1.03696e-10, the corrector convergence failed repeatedly or with |h| = hmin.\n"
     ]
    },
    {
     "name": "stdout",
     "output_type": "stream",
     "text": [
      "Scan 2: Finish for No.3612 RPT cycles within 1 minute, 27 seconds\n",
      "Scan 2: Finish post-process for No.3612 RPT cycles within 174.407 ms\n",
      "Scan 1: Finish for No.3612 ageing cycles within 22 minutes, 12 seconds\n",
      "Scan 1: Finish post-process for No.4128 ageing cycles within 105.788 ms\n"
     ]
    },
    {
     "name": "stderr",
     "output_type": "stream",
     "text": [
      "At t = 148.921 and h = 2.22363e-14, the corrector convergence failed repeatedly or with |h| = hmin.\n",
      "At t = 148.923 and h = 2.92291e-11, the corrector convergence failed repeatedly or with |h| = hmin.\n",
      "At t = 148.923 and h = 3.88024e-11, the corrector convergence failed repeatedly or with |h| = hmin.\n"
     ]
    },
    {
     "name": "stdout",
     "output_type": "stream",
     "text": [
      "Scan 1: Finish for No.4128 RPT cycles within 1 minute, 30 seconds\n",
      "Scan 1: Finish post-process for No.4128 RPT cycles within 196.571 ms\n",
      "Scan 2: Finish for No.3612 ageing cycles within 24 minutes, 18 seconds\n",
      "Scan 2: Finish post-process for No.4128 ageing cycles within 74.558 ms\n"
     ]
    },
    {
     "name": "stderr",
     "output_type": "stream",
     "text": [
      "At t = 1032 and h = 1.90902e-10, the corrector convergence failed repeatedly or with |h| = hmin.\n",
      "At t = 338.145 and h = 1.74781e-11, the corrector convergence failed repeatedly or with |h| = hmin.\n"
     ]
    },
    {
     "name": "stdout",
     "output_type": "stream",
     "text": [
      "Scan 2: Finish for No.4128 RPT cycles within 1 minute, 22 seconds\n",
      "Scan 2: Finish post-process for No.4128 RPT cycles within 158.790 ms\n",
      "Scan 1: Finish for No.4128 ageing cycles within 21 minutes, 13 seconds\n",
      "Scan 1: Finish post-process for No.4644 ageing cycles within 120.042 ms\n"
     ]
    },
    {
     "name": "stderr",
     "output_type": "stream",
     "text": [
      "At t = 1623.7 and h = 2.40223e-10, the corrector convergence failed repeatedly or with |h| = hmin.\n",
      "At t = 714.699 and h = 1.80608e-10, the corrector convergence failed repeatedly or with |h| = hmin.\n",
      "At t = 95.9931 and h = 1.26366e-11, the corrector convergence failed repeatedly or with |h| = hmin.\n",
      "At t = 95.9928 and h = 2.11009e-11, the corrector convergence failed repeatedly or with |h| = hmin.\n",
      "At t = 95.9922 and h = 1.99611e-12, the corrector convergence failed repeatedly or with |h| = hmin.\n"
     ]
    },
    {
     "name": "stdout",
     "output_type": "stream",
     "text": [
      "Scan 1: Finish for No.4644 RPT cycles within 1 minute, 24 seconds\n",
      "Scan 1: Finish post-process for No.4644 RPT cycles within 162.053 ms\n",
      "Scan 2: Finish for No.4128 ageing cycles within 25 minutes, 11 seconds\n",
      "Scan 2: Finish post-process for No.4644 ageing cycles within 95.383 ms\n"
     ]
    },
    {
     "name": "stderr",
     "output_type": "stream",
     "text": [
      "At t = 207.992 and h = 1.81844e-11, the corrector convergence failed repeatedly or with |h| = hmin.\n",
      "At t = 207.981 and h = 1.16398e-13, the corrector convergence failed repeatedly or with |h| = hmin.\n"
     ]
    },
    {
     "name": "stdout",
     "output_type": "stream",
     "text": [
      "Scan 2: Finish for No.4644 RPT cycles within 1 minute, 19 seconds\n",
      "Scan 2: Finish post-process for No.4644 RPT cycles within 151.843 ms\n"
     ]
    },
    {
     "name": "stderr",
     "output_type": "stream",
     "text": [
      "At t = 320.754 and h = 2.25704e-08, the corrector convergence failed repeatedly or with |h| = hmin.\n",
      "At t = 28.5867 and h = 1.49482e-08, the corrector convergence failed repeatedly or with |h| = hmin.\n",
      "At t = 28.9487 and h = 1.0996e-08, the corrector convergence failed repeatedly or with |h| = hmin.\n",
      "At t = 28.5731 and h = 1.15304e-08, the corrector convergence failed repeatedly or with |h| = hmin.\n",
      "At t = 28.5589 and h = 1.57074e-09, the corrector convergence failed repeatedly or with |h| = hmin.\n",
      "At t = 28.5952 and h = 6.52005e-09, the corrector convergence failed repeatedly or with |h| = hmin.\n",
      "At t = 10.089 and h = 1.85925e-08, the corrector convergence failed repeatedly or with |h| = hmin.\n",
      "At t = 0.671626 and h = 1.85731e-08, the corrector convergence failed repeatedly or with |h| = hmin.\n",
      "At t = 0.873655 and h = 1.95568e-08, the corrector convergence failed repeatedly or with |h| = hmin.\n",
      "At t = 0.759936 and h = 2.0394e-08, the corrector convergence failed repeatedly or with |h| = hmin.\n",
      "At t = 0.434151 and h = 1.56007e-09, the corrector convergence failed repeatedly or with |h| = hmin.\n",
      "At t = 0.58423 and h = 1.62813e-09, the corrector convergence failed repeatedly or with |h| = hmin.\n",
      "At t = 0.183426 and h = 7.5128e-09, the corrector convergence failed repeatedly or with |h| = hmin.\n",
      "At t = 0.143246 and h = 3.08819e-09, the corrector convergence failed repeatedly or with |h| = hmin.\n",
      "CasADi - 2023-05-25 10:21:30 WARNING(\"roots:g failed: Inf detected for output x, at (row 5, col 0).\") [.../casadi/core/oracle_function.cpp:326]\n",
      "CasADi - 2023-05-25 10:21:30 WARNING(\"roots:g failed: Inf detected for output x, at (row 5, col 0).\") [.../casadi/core/oracle_function.cpp:326]\n",
      "CasADi - 2023-05-25 10:21:30 WARNING(\"roots:g failed: Inf detected for output x, at (row 5, col 0).\") [.../casadi/core/oracle_function.cpp:326]\n",
      "CasADi - 2023-05-25 10:21:30 WARNING(\"roots:g failed: Inf detected for output x, at (row 5, col 0).\") [.../casadi/core/oracle_function.cpp:326]\n",
      "CasADi - 2023-05-25 10:21:30 WARNING(\"roots:g failed: Inf detected for output x, at (row 5, col 0).\") [.../casadi/core/oracle_function.cpp:326]\n",
      "CasADi - 2023-05-25 10:21:30 WARNING(\"roots:g failed: Inf detected for output x, at (row 5, col 0).\") [.../casadi/core/oracle_function.cpp:326]\n",
      "CasADi - 2023-05-25 10:21:30 WARNING(\"roots:g failed: Inf detected for output x, at (row 5, col 0).\") [.../casadi/core/oracle_function.cpp:326]\n",
      "CasADi - 2023-05-25 10:21:30 WARNING(\"roots:g failed: Inf detected for output x, at (row 5, col 0).\") [.../casadi/core/oracle_function.cpp:326]\n",
      "CasADi - 2023-05-25 10:21:30 WARNING(\"roots:g failed: Inf detected for output x, at (row 5, col 0).\") [.../casadi/core/oracle_function.cpp:326]\n",
      "CasADi - 2023-05-25 10:21:30 WARNING(\"roots:g failed: Inf detected for output x, at (row 5, col 0).\") [.../casadi/core/oracle_function.cpp:326]\n",
      "The linesearch algorithm failed with too small a step.\n",
      "The linesearch algorithm failed with too small a step.\n",
      "The linesearch algorithm failed with too small a step.\n",
      "The linesearch algorithm failed with too small a step.\n",
      "The linesearch algorithm failed with too small a step.\n",
      "The linesearch algorithm failed with too small a step.\n",
      "2023-05-25 10:21:31.756 - [ERROR] callbacks.on_experiment_error(224): Simulation error: Maximum number of decreased steps occurred at t=334425.2764445944 (final SolverError: 'Error in Function::call for 'F' [IdasInterface] at .../casadi/core/function.cpp:1401:\n",
      "Error in Function::call for 'F' [IdasInterface] at .../casadi/core/function.cpp:330:\n",
      ".../casadi/interfaces/sundials/idas_interface.cpp:596: IDACalcIC returned \"IDA_LINESEARCH_FAIL\". Consult IDAS documentation.'). For a full solution try reducing dt_max (currently, dt_max=600) and/or reducing the size of the time steps or period of the experiment. Set `return_solution_if_failed_early=True` to return the solution object up to the point where failure occured.\n"
     ]
    },
    {
     "name": "stdout",
     "output_type": "stream",
     "text": [
      "Fail due to Experiment error or infeasible\n",
      "Scan 2: Fail during No.4644 ageing cycles within 11 minutes, 16 seconds due to Experiment error or infeasible\n"
     ]
    },
    {
     "name": "stderr",
     "output_type": "stream",
     "text": [
      "At t = 203.102 and h = 4.45621e-11, the corrector convergence failed repeatedly or with |h| = hmin.\n",
      "At t = 203.101 and h = 5.91491e-14, the corrector convergence failed repeatedly or with |h| = hmin.\n"
     ]
    },
    {
     "name": "stdout",
     "output_type": "stream",
     "text": [
      "Scan 2: Finish for No.4644 RPT cycles within 1 minute, 26 seconds\n",
      "Scan 2: Finish post-process for No.4644 RPT cycles within 181.624 ms\n",
      "Scan 2: Getting extra variables within 259.400 us\n",
      "Scan 2: Finish all plots within 11.144 s\n",
      "Successfully create a excel file\n",
      "Scan 2: Finish saving mat and xlsx within 22.239 ms\n",
      "Scan 1: Finish for No.4644 ageing cycles within 22 minutes, 14 seconds\n",
      "Scan 1: Finish post-process for No.5160 ageing cycles within 71.897 ms\n"
     ]
    },
    {
     "name": "stderr",
     "output_type": "stream",
     "text": [
      "At t = 1279.48 and h = 2.13701e-10, the corrector convergence failed repeatedly or with |h| = hmin.\n"
     ]
    },
    {
     "name": "stdout",
     "output_type": "stream",
     "text": [
      "Scan 1: Finish for No.5160 RPT cycles within 1 minute, 14 seconds\n",
      "Scan 1: Finish post-process for No.5160 RPT cycles within 188.164 ms\n",
      "Scan 1: Finish for No.5160 ageing cycles within 22 minutes, 24 seconds\n",
      "Scan 1: Finish post-process for No.5676 ageing cycles within 59.393 ms\n"
     ]
    },
    {
     "name": "stderr",
     "output_type": "stream",
     "text": [
      "At t = 770.945 and h = 1.71432e-10, the corrector convergence failed repeatedly or with |h| = hmin.\n",
      "At t = 770.945 and h = 1.67972e-10, the corrector convergence failed repeatedly or with |h| = hmin.\n",
      "At t = 286.348 and h = 1.38678e-11, the corrector convergence failed repeatedly or with |h| = hmin.\n",
      "At t = 286.345 and h = 2.08622e-14, the corrector convergence failed repeatedly or with |h| = hmin.\n",
      "At t = 136.347 and h = 1.99511e-11, the corrector convergence failed repeatedly or with |h| = hmin.\n"
     ]
    },
    {
     "name": "stdout",
     "output_type": "stream",
     "text": [
      "Scan 1: Finish for No.5676 RPT cycles within 1 minute, 14 seconds\n",
      "Scan 1: Finish post-process for No.5676 RPT cycles within 116.045 ms\n"
     ]
    },
    {
     "name": "stderr",
     "output_type": "stream",
     "text": [
      "At t = 307.35 and h = 8.13542e-09, the corrector convergence failed repeatedly or with |h| = hmin.\n",
      "At t = 15.4407 and h = 1.08542e-08, the corrector convergence failed repeatedly or with |h| = hmin.\n",
      "At t = 15.3206 and h = 1.9323e-09, the corrector convergence failed repeatedly or with |h| = hmin.\n",
      "At t = 15.4122 and h = 6.11753e-09, the corrector convergence failed repeatedly or with |h| = hmin.\n",
      "At t = 15.4005 and h = 1.0387e-08, the corrector convergence failed repeatedly or with |h| = hmin.\n",
      "At t = 15.381 and h = 1.24188e-08, the corrector convergence failed repeatedly or with |h| = hmin.\n",
      "At t = 15.4101 and h = 6.18242e-09, the corrector convergence failed repeatedly or with |h| = hmin.\n",
      "2023-05-25 11:07:31.917 - [ERROR] callbacks.on_experiment_error(224): Simulation error: Maximum number of decreased steps occurred at t=773807.4602249076 (final SolverError: 'Error in Function::call for 'F' [IdasInterface] at .../casadi/core/function.cpp:1401:\n",
      "Error in Function::call for 'F' [IdasInterface] at .../casadi/core/function.cpp:330:\n",
      ".../casadi/interfaces/sundials/idas_interface.cpp:596: IDASolve returned \"IDA_CONV_FAIL\". Consult IDAS documentation.'). For a full solution try reducing dt_max (currently, dt_max=9.375) and/or reducing the size of the time steps or period of the experiment. Set `return_solution_if_failed_early=True` to return the solution object up to the point where failure occured.\n"
     ]
    },
    {
     "name": "stdout",
     "output_type": "stream",
     "text": [
      "Fail due to Experiment error or infeasible\n",
      "Scan 1: Fail during No.5676 ageing cycles within 18 minutes, 47 seconds due to Experiment error or infeasible\n"
     ]
    },
    {
     "name": "stderr",
     "output_type": "stream",
     "text": [
      "At t = 772.669 and h = 1.00605e-10, the corrector convergence failed repeatedly or with |h| = hmin.\n",
      "At t = 772.67 and h = 1.59436e-10, the corrector convergence failed repeatedly or with |h| = hmin.\n",
      "At t = 282.731 and h = 6.56908e-14, the corrector convergence failed repeatedly or with |h| = hmin.\n",
      "At t = 282.733 and h = 4.60031e-12, the corrector convergence failed repeatedly or with |h| = hmin.\n",
      "At t = 132.733 and h = 2.08352e-11, the corrector convergence failed repeatedly or with |h| = hmin.\n"
     ]
    },
    {
     "name": "stdout",
     "output_type": "stream",
     "text": [
      "Scan 1: Finish for No.5676 RPT cycles within 1 minute, 31 seconds\n",
      "Scan 1: Finish post-process for No.5676 RPT cycles within 138.584 ms\n",
      "Scan 1: Getting extra variables within 381.900 us\n",
      "Scan 1: Finish all plots within 7.174 s\n",
      "Successfully create a excel file\n",
      "Scan 1: Finish saving mat and xlsx within 23.028 ms\n"
     ]
    },
    {
     "ename": "ValueError",
     "evalue": "setting an array element with a sequence. The requested array has an inhomogeneous shape after 1 dimensions. The detected shape was (13,) + inhomogeneous part.",
     "output_type": "error",
     "traceback": [
      "\u001b[0;31m---------------------------------------------------------------------------\u001b[0m",
      "\u001b[0;31mRemoteTraceback\u001b[0m                           Traceback (most recent call last)",
      "\u001b[0;31mRemoteTraceback\u001b[0m: \n\"\"\"\nTraceback (most recent call last):\n  File \"/usr/lib/python3.10/multiprocessing/pool.py\", line 125, in worker\n    result = (True, func(*args, **kwds))\n  File \"/home/ruihe_li/EnvPBGEM_Linux/PyBaMM-GEM/wip/Rio_Code/Fun_P2/Fun_P2.py\", line 2164, in Run_P2_Opt_Timeout\n    print(f\"Scan {Scan_i}: Finish saving mat and xlsx within {SmallTimer.time()}\")\n  File \"/home/ruihe_li/EnvPBGEM_Linux/lib/python3.10/site-packages/scipy/io/matlab/_mio.py\", line 300, in savemat\n    MW.put_variables(mdict)\n  File \"/home/ruihe_li/EnvPBGEM_Linux/lib/python3.10/site-packages/scipy/io/matlab/_mio5.py\", line 892, in put_variables\n    self._matrix_writer.write_top(var, name.encode('latin1'), is_global)\n  File \"/home/ruihe_li/EnvPBGEM_Linux/lib/python3.10/site-packages/scipy/io/matlab/_mio5.py\", line 633, in write_top\n    self.write(arr)\n  File \"/home/ruihe_li/EnvPBGEM_Linux/lib/python3.10/site-packages/scipy/io/matlab/_mio5.py\", line 651, in write\n    narr = to_writeable(arr)\n  File \"/home/ruihe_li/EnvPBGEM_Linux/lib/python3.10/site-packages/scipy/io/matlab/_mio5.py\", line 493, in to_writeable\n    narr = np.asanyarray(source)\nValueError: setting an array element with a sequence. The requested array has an inhomogeneous shape after 1 dimensions. The detected shape was (13,) + inhomogeneous part.\n\"\"\"",
      "\nThe above exception was the direct cause of the following exception:\n",
      "\u001b[0;31mValueError\u001b[0m                                Traceback (most recent call last)",
      "Cell \u001b[0;32mIn[10], line 27\u001b[0m\n\u001b[1;32m     16\u001b[0m     pool \u001b[39m=\u001b[39m multiprocessing\u001b[39m.\u001b[39mPool(\u001b[39m2\u001b[39m)\n\u001b[1;32m     17\u001b[0m     processes \u001b[39m=\u001b[39m [\n\u001b[1;32m     18\u001b[0m     pool\u001b[39m.\u001b[39mapply_async(\n\u001b[1;32m     19\u001b[0m         Run_P2_Opt_Timeout, \n\u001b[0;32m   (...)\u001b[0m\n\u001b[1;32m     25\u001b[0m         ) )\n\u001b[1;32m     26\u001b[0m         \u001b[39mfor\u001b[39;00m index_i, Para_dict_i \u001b[39min\u001b[39;00m \u001b[39mzip\u001b[39m(index_list,Para_dict_list)]\n\u001b[0;32m---> 27\u001b[0m     Result \u001b[39m=\u001b[39m [p\u001b[39m.\u001b[39mget() \u001b[39mfor\u001b[39;00m p \u001b[39min\u001b[39;00m processes]  \n\u001b[1;32m     28\u001b[0m \u001b[39mfor\u001b[39;00m result \u001b[39min\u001b[39;00m Result:\n\u001b[1;32m     29\u001b[0m     midc_merge_all\u001b[39m.\u001b[39mappend(result[\u001b[39m0\u001b[39m])\n",
      "Cell \u001b[0;32mIn[10], line 27\u001b[0m, in \u001b[0;36m<listcomp>\u001b[0;34m(.0)\u001b[0m\n\u001b[1;32m     16\u001b[0m     pool \u001b[39m=\u001b[39m multiprocessing\u001b[39m.\u001b[39mPool(\u001b[39m2\u001b[39m)\n\u001b[1;32m     17\u001b[0m     processes \u001b[39m=\u001b[39m [\n\u001b[1;32m     18\u001b[0m     pool\u001b[39m.\u001b[39mapply_async(\n\u001b[1;32m     19\u001b[0m         Run_P2_Opt_Timeout, \n\u001b[0;32m   (...)\u001b[0m\n\u001b[1;32m     25\u001b[0m         ) )\n\u001b[1;32m     26\u001b[0m         \u001b[39mfor\u001b[39;00m index_i, Para_dict_i \u001b[39min\u001b[39;00m \u001b[39mzip\u001b[39m(index_list,Para_dict_list)]\n\u001b[0;32m---> 27\u001b[0m     Result \u001b[39m=\u001b[39m [p\u001b[39m.\u001b[39;49mget() \u001b[39mfor\u001b[39;00m p \u001b[39min\u001b[39;00m processes]  \n\u001b[1;32m     28\u001b[0m \u001b[39mfor\u001b[39;00m result \u001b[39min\u001b[39;00m Result:\n\u001b[1;32m     29\u001b[0m     midc_merge_all\u001b[39m.\u001b[39mappend(result[\u001b[39m0\u001b[39m])\n",
      "File \u001b[0;32m/usr/lib/python3.10/multiprocessing/pool.py:774\u001b[0m, in \u001b[0;36mApplyResult.get\u001b[0;34m(self, timeout)\u001b[0m\n\u001b[1;32m    772\u001b[0m     \u001b[39mreturn\u001b[39;00m \u001b[39mself\u001b[39m\u001b[39m.\u001b[39m_value\n\u001b[1;32m    773\u001b[0m \u001b[39melse\u001b[39;00m:\n\u001b[0;32m--> 774\u001b[0m     \u001b[39mraise\u001b[39;00m \u001b[39mself\u001b[39m\u001b[39m.\u001b[39m_value\n",
      "\u001b[0;31mValueError\u001b[0m: setting an array element with a sequence. The requested array has an inhomogeneous shape after 1 dimensions. The detected shape was (13,) + inhomogeneous part."
     ]
    }
   ],
   "source": [
    "# scan:\n",
    "fs = 13; dpi = 100;\n",
    "index_list = np.arange(1,len(Para_dict_list)+1,1)\n",
    "midc_merge_all = [];Sol_RPT_all = [];Sol_AGE_all = [];\n",
    "\"\"\" for index_i, Para_dict_i in zip(index_list,Para_dict_list):\n",
    "    midc_merge,Sol_RPT,Sol_AGE = Run_P2_Opt_Timeout(\n",
    "        index_i    ,  index_exp,  Para_dict_i,   Path_pack, fs,\n",
    "        keys_all,   exp_text_list, exp_index_pack,\n",
    "        Exp_Any_AllData,Temp_Cell_Exp, dpi,\n",
    "        Plot_Exp=True,Timeout=False,Return_Sol=True,Check_Small_Time=True,)  \n",
    "    midc_merge_all.append(midc_merge)\n",
    "    Sol_RPT_all.append(Sol_RPT)\n",
    "    Sol_AGE_all.append(Sol_AGE)  \"\"\"\n",
    "\n",
    "if __name__ == \"__main__\":\n",
    "    pool = multiprocessing.Pool(2)\n",
    "    processes = [\n",
    "    pool.apply_async(\n",
    "        Run_P2_Opt_Timeout, \n",
    "        args=(\n",
    "            index_i    ,  index_exp,  Para_dict_i,   Path_pack, fs,\n",
    "            keys_all,   exp_text_list, exp_index_pack,\n",
    "            Exp_Any_AllData,Temp_Cell_Exp, dpi,\n",
    "            True,False,True,True\n",
    "        ) )\n",
    "        for index_i, Para_dict_i in zip(index_list,Para_dict_list)]\n",
    "    Result = [p.get() for p in processes]  \n",
    "for result in Result:\n",
    "    midc_merge_all.append(result[0])\n",
    "    Sol_RPT_all.append(result[1])\n",
    "    Sol_AGE_all.append(result[2]) \n",
    "\n"
   ]
  },
  {
   "attachments": {},
   "cell_type": "markdown",
   "metadata": {},
   "source": [
    "i_try = 0\n",
    "while i_try<3:\n",
    "    try:\n",
    "        getSth = Sol_0[\"Throughput capacity [A.h]\"].entries[-1]\n",
    "    except:\n",
    "        i_try += 1\n",
    "        print(f\"Fail to read Throughput capacity for the {i_try}th time\")\n",
    "    else:\n",
    "        break\n",
    "print(getSth)"
   ]
  },
  {
   "cell_type": "code",
   "execution_count": 11,
   "metadata": {},
   "outputs": [
    {
     "ename": "IndexError",
     "evalue": "list index out of range",
     "output_type": "error",
     "traceback": [
      "\u001b[0;31m---------------------------------------------------------------------------\u001b[0m",
      "\u001b[0;31mIndexError\u001b[0m                                Traceback (most recent call last)",
      "Cell \u001b[0;32mIn[11], line 2\u001b[0m\n\u001b[1;32m      1\u001b[0m \u001b[39mprint\u001b[39m(\n\u001b[0;32m----> 2\u001b[0m     Sol_AGE_all[\u001b[39m0\u001b[39;49m][\u001b[39m0\u001b[39m][\u001b[39m\"\u001b[39m\u001b[39mLoss of capacity to SEI [A.h]\u001b[39m\u001b[39m\"\u001b[39m]\u001b[39m.\u001b[39mentries[\u001b[39m-\u001b[39m\u001b[39m1\u001b[39m]\n\u001b[1;32m      3\u001b[0m     \u001b[39m-\u001b[39m\n\u001b[1;32m      4\u001b[0m     Sol_AGE_all[\u001b[39m0\u001b[39m][\u001b[39m0\u001b[39m][\u001b[39m\"\u001b[39m\u001b[39mLoss of capacity to SEI [A.h]\u001b[39m\u001b[39m\"\u001b[39m]\u001b[39m.\u001b[39mentries[\u001b[39m0\u001b[39m])\n\u001b[1;32m      5\u001b[0m \u001b[39mprint\u001b[39m(\n\u001b[1;32m      6\u001b[0m     Sol_RPT_all[\u001b[39m0\u001b[39m][\u001b[39m1\u001b[39m][\u001b[39m\"\u001b[39m\u001b[39mLoss of capacity to SEI [A.h]\u001b[39m\u001b[39m\"\u001b[39m]\u001b[39m.\u001b[39mentries[\u001b[39m-\u001b[39m\u001b[39m1\u001b[39m]\n\u001b[1;32m      7\u001b[0m     \u001b[39m-\u001b[39m\n\u001b[1;32m      8\u001b[0m     Sol_RPT_all[\u001b[39m0\u001b[39m][\u001b[39m1\u001b[39m][\u001b[39m\"\u001b[39m\u001b[39mLoss of capacity to SEI [A.h]\u001b[39m\u001b[39m\"\u001b[39m]\u001b[39m.\u001b[39mentries[\u001b[39m0\u001b[39m])\n\u001b[1;32m      9\u001b[0m \u001b[39mprint\u001b[39m(\n\u001b[1;32m     10\u001b[0m     Sol_AGE_all[\u001b[39m0\u001b[39m][\u001b[39m0\u001b[39m][\u001b[39m\"\u001b[39m\u001b[39mLoss of capacity to SEI on cracks [A.h]\u001b[39m\u001b[39m\"\u001b[39m]\u001b[39m.\u001b[39mentries[\u001b[39m-\u001b[39m\u001b[39m1\u001b[39m]\n\u001b[1;32m     11\u001b[0m     \u001b[39m-\u001b[39m\n\u001b[1;32m     12\u001b[0m     Sol_AGE_all[\u001b[39m0\u001b[39m][\u001b[39m0\u001b[39m][\u001b[39m\"\u001b[39m\u001b[39mLoss of capacity to SEI on cracks [A.h]\u001b[39m\u001b[39m\"\u001b[39m]\u001b[39m.\u001b[39mentries[\u001b[39m0\u001b[39m])\n",
      "\u001b[0;31mIndexError\u001b[0m: list index out of range"
     ]
    }
   ],
   "source": [
    "print(\n",
    "    Sol_AGE_all[0][0][\"Loss of capacity to SEI [A.h]\"].entries[-1]\n",
    "    -\n",
    "    Sol_AGE_all[0][0][\"Loss of capacity to SEI [A.h]\"].entries[0])\n",
    "print(\n",
    "    Sol_RPT_all[0][1][\"Loss of capacity to SEI [A.h]\"].entries[-1]\n",
    "    -\n",
    "    Sol_RPT_all[0][1][\"Loss of capacity to SEI [A.h]\"].entries[0])\n",
    "print(\n",
    "    Sol_AGE_all[0][0][\"Loss of capacity to SEI on cracks [A.h]\"].entries[-1]\n",
    "    -\n",
    "    Sol_AGE_all[0][0][\"Loss of capacity to SEI on cracks [A.h]\"].entries[0])\n",
    "print(\n",
    "    Sol_RPT_all[0][1][\"Loss of capacity to SEI on cracks [A.h]\"].entries[-1]\n",
    "    -\n",
    "    Sol_RPT_all[0][1][\"Loss of capacity to SEI on cracks [A.h]\"].entries[0])\n",
    "Sol_AGE_all[0][0]"
   ]
  },
  {
   "cell_type": "code",
   "execution_count": 12,
   "metadata": {},
   "outputs": [
    {
     "data": {
      "image/png": "[encoded data removed]",
      "text/plain": [
       "<Figure size 1200x800 with 6 Axes>"
      ]
     },
     "metadata": {},
     "output_type": "display_data"
    }
   ],
   "source": [
    "# After finish scans, get summary of the errors of all cases:\n",
    "fs=17;\n",
    "font = {'family' : 'DejaVu Sans','size'   : fs}\n",
    "mpl.rc('font', **font)\n",
    "Caes_Index = np.arange(1,len(midc_merge_all)+1)\n",
    "Mpe_tot = []; Mpe_1 = [];Mpe_2 = []; Mpe_3 = [];Mpe_4 = []; Mpe_5 = [];\n",
    "for i in range(len(midc_merge_all)):\n",
    "    Mpe_tot.append(midc_merge_all[i][\"Error tot %\"])\n",
    "    Mpe_1.append(midc_merge_all[i][\"Error SOH %\"])\n",
    "    Mpe_2.append(midc_merge_all[i][\"Error LLI %\"])\n",
    "    Mpe_3.append(midc_merge_all[i][\"Error LAM NE %\"])\n",
    "    Mpe_4.append(midc_merge_all[i][\"Error LAM PE %\"])\n",
    "    Mpe_5.append(midc_merge_all[i][\"Error Res %\"])\n",
    "Mpe_All = [Mpe_tot,Mpe_1,Mpe_2,Mpe_3,Mpe_4,Mpe_5]\n",
    "Str_All = [\n",
    "    \"Error tot %\",\"Error SOH %\",\"Error LLI %\",\n",
    "    \"Error LAM NE %\",\"Error LAM PE %\",\"Error Res %\"]\n",
    "fig, axs = plt.subplots(2,3, figsize=(12,8),tight_layout=True)\n",
    "for i in range(6):\n",
    "    if i<=2: # 0,1,2\n",
    "        m=0; n = i\n",
    "    else:   # 3,4,5 \n",
    "        m=1; n = i-3\n",
    "    axs[m,n].plot( Caes_Index,  Mpe_All[i], '-o',  )\n",
    "    axs[m,n].set_ylabel(Str_All[i])\n",
    "    axs[1,n].set_xlabel(\"Case No.\")\n",
    "    fig.suptitle(\n",
    "        f\"Error Summary of all cases in this round\", \n",
    "        fontsize=fs+1)\n",
    "plt.savefig(\n",
    "    BasicPath + Target+\n",
    "    f\"0!_Error Summary of all cases in this round.png\", dpi=600)\n",
    "plt.savefig(\n",
    "    BasicPath + Target+\n",
    "    f\"0!_Error Summary of all cases in this round.svg\")"
   ]
  },
  {
   "cell_type": "code",
   "execution_count": 13,
   "metadata": {},
   "outputs": [
    {
     "name": "stdout",
     "output_type": "stream",
     "text": [
      "Successfuly write results for Scan 1!\n",
      "Successfuly write results for Scan 2!\n"
     ]
    }
   ],
   "source": [
    "Index_List_succeed = index_list\n",
    "for index_i in Index_List_succeed:\n",
    "    #print(index_i)\n",
    "    try:\n",
    "        old_book = str(index_i) + '_' + book_name_xlsx\n",
    "        #print(old_book)\n",
    "        #open excel:\n",
    "        data_old = openpyxl.load_workbook(\n",
    "            BasicPath + Target+ \"Excel/\" + old_book)   \n",
    "        data_tar = openpyxl.load_workbook(\n",
    "            BasicPath + Target + book_name_xlsx) \n",
    "\n",
    "        table_old = data_old[str(index_i)]\n",
    "        nrows_old = table_old.max_row  # 获得行数\n",
    "        ncolumns_old = table_old.max_column  # 获得列数\n",
    "\n",
    "        table_tar = data_tar[sheet_name_xlsx]\n",
    "        nrows_tar = index_i # Mark!!! Most important changes!\n",
    "        ncolumns_old = table_old.max_column  # 获得列数\n",
    "        list_old = [];\n",
    "        #print(nrows_old,nrows_tar)\n",
    "        for i in range(1,nrows_old+1):\n",
    "            for j in range(1,ncolumns_old+1):\n",
    "                list_old.append(table_old.cell(row=i,column=j).value)\n",
    "        \n",
    "        list_old = [list_old,]\n",
    "        for i in range(1, len(list_old)+1):\n",
    "                for j in range(1, len(list_old[i-1])+1):\n",
    "                    #print(i,j,list_old[i-1][j-1]    )\n",
    "                    table_tar.cell(nrows_tar+i, j).value = list_old[i-1][j-1]     \n",
    "        data_tar.save(BasicPath + Target + book_name_xlsx) \n",
    "        data_tar.close()\n",
    "    except:\n",
    "        print(f\"Something goes wrong for Scan {index_i}!\")\n",
    "    else:\n",
    "        print(f\"Successfuly write results for Scan {index_i}!\") \n"
   ]
  }
 ],
 "metadata": {
  "kernelspec": {
   "display_name": "envPBGEM",
   "language": "python",
   "name": "python3"
  },
  "language_info": {
   "codemirror_mode": {
    "name": "ipython",
    "version": 3
   },
   "file_extension": ".py",
   "mimetype": "text/x-python",
   "name": "python",
   "nbconvert_exporter": "python",
   "pygments_lexer": "ipython3",
   "version": "3.10.6"
  },
  "orig_nbformat": 4
 },
 "nbformat": 4,
 "nbformat_minor": 2
}
