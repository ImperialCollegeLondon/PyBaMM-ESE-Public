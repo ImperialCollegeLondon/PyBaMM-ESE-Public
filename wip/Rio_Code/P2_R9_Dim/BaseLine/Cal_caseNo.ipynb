{
 "cells": [
  {
   "cell_type": "code",
   "execution_count": 3,
   "metadata": {},
   "outputs": [
    {
     "name": "stdout",
     "output_type": "stream",
     "text": [
      "The autoreload extension is already loaded. To reload it, use:\n",
      "  %reload_ext autoreload\n"
     ]
    }
   ],
   "source": [
    "# magic lines that avoid re-start \n",
    "%load_ext autoreload\n",
    "%autoreload 2\n",
    "import pybamm as pb;import pandas as pd   ;import numpy as np;\n",
    "import os;\n",
    "import matplotlib.pyplot as plt;import os;#import imageio\n",
    "from scipy.io import savemat,loadmat;from pybamm import constants,exp;import matplotlib as mpl; fs=17; # or we can set import matplotlib.pyplot as plt then say 'mpl.rc...'\n",
    "import openpyxl\n",
    "import traceback\n",
    "import multiprocessing\n",
    "import scipy.optimize\n",
    "import timeit\n",
    "import random;import time, signal\n",
    "fs=17;\n",
    "font = {'family' : 'DejaVu Sans','size'   : fs}\n",
    "mpl.rc('font', **font)"
   ]
  },
  {
   "cell_type": "code",
   "execution_count": 5,
   "metadata": {},
   "outputs": [],
   "source": [
    "## Global setting: change with PC or HPC\n",
    "# Path_NiallDMA = \"InputData/\" # for HPC\n",
    "# Path_NiallDMA = \"D:/OneDrive - Imperial College London/SimDataSave/InputData/\"\n",
    "Path_NiallDMA = os.path.expanduser(\"~/EnvPBGEM_Linux/SimSave/InputData/\") # for Linux\n",
    "# BasicPath=os.getcwd() # for HPC\n",
    "# BasicPath = 'D:/OneDrive - Imperial College London/SimDataSave/P2_R9_Dim/Test' \n",
    "# for linux pybamm in office pc:\n",
    "BasicPath =  os.path.expanduser(\"~/EnvPBGEM_Linux/SimSave/P2_R9_Dim\")\n",
    "import sys  \n",
    "str_path_0 = os.path.abspath(os.path.join(pb.__path__[0],'..'))\n",
    "str_path_1 = os.path.abspath(os.path.join(str_path_0,\"wip/Rio_Code/Fun_P2\"))\n",
    "sys.path.append(str_path_1) \n",
    "from Fun_P2 import * # directly do this for HPC\n",
    "\n",
    "# Set Experiment : Exp-2\n",
    "index_exp = 2 # index for experiment set, can now go for 2,3,5\n",
    "Round_No = \"cal\"  # index to identify different rounds of running \n",
    "pool_no = 8\n",
    "\n",
    "if index_exp == 2:\n",
    "    tot_cyc = 6192; cyc_age = 516;\n",
    "if index_exp == 3:\n",
    "    tot_cyc = 6180; cyc_age = 515;\n",
    "if index_exp == 5:\n",
    "    tot_cyc = 1170; cyc_age = 78;\n",
    "\n",
    "#########  Actively sweep parameters  ##############\n",
    "Para_active = {\n",
    "   \"Ageing temperature\":[25,], # 25, 40 \n",
    "   \"Total ageing cycles\":[int(tot_cyc),], # \n",
    "   \"Ageing cycles between RPT\":[int(cyc_age),], # \n",
    "   \"Update cycles for ageing\": [int(cyc_age),],\n",
    "   \"Initial electrolyte excessive amount ratio\":[ 1.03,], # set to <1 for DryOut=Off\n",
    "   # rate of dry-out:\n",
    "   \"EC partial molar volume [m3.mol-1]\":[4.8e-5,5.0e-5,5.2e-05,] ,\n",
    "   # interstitial-diffusion limited\n",
    "   'Inner SEI lithium interstitial diffusivity [m2.s-1]':[3e-20,],    \n",
    "   # LiP and coupling with SEI:\n",
    "   \"Dead lithium decay constant [s-1]\":[ 1e-6,],            # default: 1e-6\n",
    "   'Lithium plating kinetic rate constant [m.s-1]':[1E-10], # default: 1e-9\n",
    "   # Crack model\n",
    "   \"Negative electrode LAM constant proportional term [s-1]\":[ 1e-8,1e-9], # default: 2.7778e-07\n",
    "   \"Positive electrode LAM constant proportional term [s-1]\":[ 1e-16,], # default: 2.7778e-07\n",
    "   \"Negative electrode cracking rate\":[ 1e-20,],   # default: function, ~3.9e-20 \n",
    "}\n"
   ]
  },
  {
   "cell_type": "code",
   "execution_count": 6,
   "metadata": {},
   "outputs": [
    {
     "name": "stdout",
     "output_type": "stream",
     "text": [
      "Total scan case is 6\n"
     ]
    }
   ],
   "source": [
    "# Inactively sweep parameters\n",
    "Para_dict_Same = {\n",
    "   #\"Positive electrode cracking rate\":[ 1e-22,],   # default: function, ~3.9e-20 \n",
    "   \"Cycles within RPT\":[1,],\n",
    "   \"RPT temperature\":[25,],\n",
    "   \"Mesh list\":[[5,5,5,60,20],],   # Simon uses 30\n",
    "   \"Para_Set\":[ \"OKane2023\",], # Li2023_Coupled\n",
    "   \"Model option\":[\n",
    "      {\n",
    "         \"contact resistance\": \"true\",\n",
    "         \"open-circuit potential\": \"current sigmoid\",\n",
    "         \"thermal\": \"lumped\",\n",
    "         \"SEI\": \"interstitial-diffusion limited\",\n",
    "         \"SEI on cracks\": \"true\",\n",
    "         \"SEI film resistance\": \"distributed\", \n",
    "         \"SEI porosity change\": \"true\",\n",
    "         \"particle mechanics\": (\"swelling and cracking\", \"swelling only\"),\n",
    "         \"loss of active material\": \"stress-driven\",\n",
    "         \"lithium plating\": \"partially reversible\",\n",
    "      },\n",
    "      ],\n",
    "   \"Contact resistance [Ohm]\": [0.0105,],   \n",
    "   \"Current solvent concentration in the reservoir [mol.m-3]\":[4541.0,],\n",
    "   \"Current electrolyte concentration in the reservoir [mol.m-3]\":[1000,],\n",
    "   \"Ratio of Li-ion concentration change in electrolyte consider solvent consumption\":[1.0,],\n",
    "   'EC initial concentration in electrolyte [mol.m-3]':[4541.0,],\n",
    "   'Typical EC concentration in electrolyte [mol.m-3]':[4541.0,], # Mark Ruihe change, act as an initial value here\n",
    "   \n",
    "   #\"Negative electrode volume change\":[ 0.0,],\n",
    "   #\"Positive electrode volume change\":[ 0.0,],\n",
    "   #\"Initial Neg SOC\":[0.850],    #list(np.linspace(0.84,0.90,6)),\n",
    "   #\"Initial Pos SOC\":[0.2705], # list(np.linspace(0.22,0.27,6)),\n",
    "}\n",
    "Para_dict_All = {**Para_dict_Same,**Para_active}\n",
    "Para_dict_list = []\n",
    "recursive_scan(Para_dict_list,Para_dict_All, list(Para_dict_All.keys()), {})\n",
    "print(f\"Total scan case is {len(Para_dict_list)}\")"
   ]
  }
 ],
 "metadata": {
  "kernelspec": {
   "display_name": "envPBGEM",
   "language": "python",
   "name": "python3"
  },
  "language_info": {
   "codemirror_mode": {
    "name": "ipython",
    "version": 3
   },
   "file_extension": ".py",
   "mimetype": "text/x-python",
   "name": "python",
   "nbconvert_exporter": "python",
   "pygments_lexer": "ipython3",
   "version": "3.10.6"
  },
  "orig_nbformat": 4
 },
 "nbformat": 4,
 "nbformat_minor": 2
}
