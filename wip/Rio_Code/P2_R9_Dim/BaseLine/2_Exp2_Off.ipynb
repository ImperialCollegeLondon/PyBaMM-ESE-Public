{
 "cells": [
  {
   "cell_type": "code",
   "execution_count": 1,
   "metadata": {},
   "outputs": [],
   "source": [
    "# magic lines that avoid re-start \n",
    "%load_ext autoreload\n",
    "%autoreload 2\n",
    "import pybamm as pb;import pandas as pd   ;import numpy as np;\n",
    "import os; import json\n",
    "import matplotlib.pyplot as plt;import os;import imageio\n",
    "from scipy.io import savemat,loadmat;from pybamm import constants,exp;import matplotlib as mpl; fs=17; # or we can set import matplotlib.pyplot as plt then say 'mpl.rc...'\n",
    "import openpyxl\n",
    "import traceback\n",
    "import multiprocessing\n",
    "import scipy.optimize\n",
    "import timeit\n",
    "import random;import time, signal\n",
    "fs=17; # python -m ipykernel install --user --name=EnvPBGEM_Linux --display-name \"Python_Linux\"\n",
    "font = {'family' : 'DejaVu Sans','size'   : fs}\n",
    "mpl.rc('font', **font)"
   ]
  },
  {
   "cell_type": "code",
   "execution_count": 2,
   "metadata": {},
   "outputs": [],
   "source": [
    "## Global setting: change with PC or HPC\n",
    "# Path_NiallDMA = \"InputData/\" # for HPC\n",
    "\n",
    "# Path_NiallDMA = \"D:/OneDrive - Imperial College London/SimDataSave/InputData/\" # for Windows\n",
    "Path_NiallDMA = os.path.expanduser(\"~/EnvPBGEM_Linux/SimSave/InputData/\") # for Linux\n",
    "# BasicPath=os.getcwd() # for HPC\n",
    "# path for windows's pybamm in office PC \n",
    "# BasicPath = 'D:/OneDrive - Imperial College London/SimDataSave/P2_R9_Dim/Test'  \n",
    "# for linux pybamm in office pc:\n",
    "BasicPath =  os.path.expanduser(\"~/EnvPBGEM_Linux/SimSave/P2_R9_Dim\")\n",
    "import sys  \n",
    "str_path_0 = os.path.abspath(os.path.join(pb.__path__[0],'..'))\n",
    "str_path_1 = os.path.abspath(os.path.join(str_path_0,\"wip/Rio_Code/Fun_P2\"))\n",
    "sys.path.append(str_path_1) \n",
    "from Fun_P2 import * # directly do this for HPC\n",
    "\n",
    "# Set Experiment : Exp-2\n",
    "index_exp = 2 # index for experiment set, can now go for 2,3,5\n",
    "Round_No = \"debug_savemat_Long\"  # index to identify different rounds of running \n",
    "pool_no = 8\n",
    "Runshort = False # True\n",
    "\n",
    "if Runshort == False:\n",
    "    if index_exp == 2:\n",
    "        tot_cyc = 6192; cyc_age = 516; # should be 6192 but now run shorter to be faster\n",
    "    if index_exp == 3:\n",
    "        tot_cyc = 6180; cyc_age = 515;\n",
    "    if index_exp == 5:\n",
    "        tot_cyc = 1170; cyc_age = 78;\n",
    "else:\n",
    "    if index_exp == 2:\n",
    "        tot_cyc = 2; cyc_age = 1;\n",
    "    if index_exp == 3:\n",
    "        tot_cyc = 8; cyc_age = 2;\n",
    "    if index_exp == 5:\n",
    "        tot_cyc = 8; cyc_age = 2;\n",
    "\n",
    "#########  Actively sweep parameters  ##############\n",
    "Para_active = {\n",
    "   \"Ageing temperature\":[25,], # 25, 40 \n",
    "   \"Total ageing cycles\":[int(tot_cyc),], # \n",
    "   \"Ageing cycles between RPT\":[int(cyc_age),], # \n",
    "   \"Update cycles for ageing\": [int(cyc_age),],\n",
    "   \"Initial electrolyte excessive amount ratio\":[ 1.01,], # set to <1 for DryOut=Off\n",
    "   # rate of dry-out:\n",
    "   \"EC partial molar volume [m3.mol-1]\":[4.8e-05,5.2e-05,] ,\n",
    "   # interstitial-diffusion limited\n",
    "   'Inner SEI lithium interstitial diffusivity [m2.s-1]':[9e-20,],    \n",
    "   # LiP and coupling with SEI:\n",
    "   \"Dead lithium decay constant [s-1]\":[ 1e-6,],            # default: 1e-6\n",
    "   'Lithium plating kinetic rate constant [m.s-1]':[1E-10], # default: 1e-9\n",
    "   # Crack model\n",
    "   \"Negative electrode LAM constant proportional term [s-1]\":[ 1e-9], # default: 2.7778e-07\n",
    "   \"Positive electrode LAM constant proportional term [s-1]\":[ 1e-16,], # default: 2.7778e-07\n",
    "   \"Negative electrode cracking rate\":[ 1e-20,],   # default: function, ~3.9e-20 \n",
    "}"
   ]
  },
  {
   "cell_type": "code",
   "execution_count": 3,
   "metadata": {},
   "outputs": [
    {
     "name": "stdout",
     "output_type": "stream",
     "text": [
      "Total scan case is 2\n"
     ]
    }
   ],
   "source": [
    "# Inactively sweep parameters\n",
    "Para_dict_Same = {\n",
    "   #\"Positive electrode cracking rate\":[ 1e-22,],   # default: function, ~3.9e-20 \n",
    "   \"Cycles within RPT\":[1,],\n",
    "   \"RPT temperature\":[25,],\n",
    "   \"Mesh list\":[[5,5,5,60,20],],   # Simon uses 30\n",
    "   \"Para_Set\":[ \"OKane2023\",], # Li2023_Coupled\n",
    "   \"Model option\":[\n",
    "      {\n",
    "        \"contact resistance\": \"true\",\n",
    "        \"open-circuit potential\": \"current sigmoid\",\n",
    "        \"thermal\": \"lumped\",\n",
    "        \"SEI\": \"interstitial-diffusion limited\",\n",
    "        \"SEI on cracks\": \"true\",\n",
    "        \"SEI film resistance\": \"distributed\", \n",
    "        \"SEI porosity change\": \"true\",\n",
    "        \"particle mechanics\": (\"swelling and cracking\", \"swelling only\"),\n",
    "        \"loss of active material\": (\"stress-driven\",\"none\"),\n",
    "        \"lithium plating\": \"partially reversible\",\n",
    "      },\n",
    "      ],\n",
    "   \"Contact resistance [Ohm]\": [0.0105,],   \n",
    "   \"Current solvent concentration in the reservoir [mol.m-3]\":[4541.0,],\n",
    "   \"Current electrolyte concentration in the reservoir [mol.m-3]\":[1000,],\n",
    "   \"Ratio of Li-ion concentration change in electrolyte consider solvent consumption\":[1.0,],\n",
    "   'EC initial concentration in electrolyte [mol.m-3]':[4541.0,],\n",
    "   'Typical EC concentration in electrolyte [mol.m-3]':[4541.0,], # Mark Ruihe change, act as an initial value here\n",
    "   \n",
    "   #\"Negative electrode volume change\":[ 0.0,],\n",
    "   #\"Positive electrode volume change\":[ 0.0,],\n",
    "   #\"Initial Neg SOC\":[0.850],    #list(np.linspace(0.84,0.90,6)),\n",
    "   #\"Initial Pos SOC\":[0.2705], # list(np.linspace(0.22,0.27,6)),\n",
    "}\n",
    "Para_dict_All = {**Para_dict_Same,**Para_active}\n",
    "Para_dict_list = []\n",
    "recursive_scan(Para_dict_list,Para_dict_All, list(Para_dict_All.keys()), {})\n",
    "print(f\"Total scan case is {len(Para_dict_list)}\")"
   ]
  },
  {
   "cell_type": "code",
   "execution_count": 4,
   "metadata": {},
   "outputs": [],
   "source": [
    "# set up experiment\n",
    "Target  = f'/Exp{index_exp}_Round_{Round_No}/'\n",
    "book_name_xlsx = f'Exp{index_exp}_Round_{Round_No}.xlsx';\n",
    "V_max = 4.2;        V_min = 2.5; \n",
    "if index_exp ==2:\n",
    "    discharge_time_mins = 0.15* 60 * 4.86491/5\n",
    "    charge_time_mins = 0.5* 60 * 4.86491/5\n",
    "    exp_AGE_text = [(\n",
    "        f\"Discharge at 1C for {discharge_time_mins} minutes or until {V_min}V\", \n",
    "        f\"Charge at 0.3C for {charge_time_mins} minutes or until {V_max}V\",\n",
    "        ),  ]  # *  setting on cycler is 516, rather than 514 in wiki\n",
    "elif index_exp ==3:\n",
    "    discharge_time_mins = 0.15* 60 * 4.86491/5\n",
    "    charge_time_mins = 0.5* 60 * 4.86491/5\n",
    "    exp_AGE_text = [(\n",
    "        f\"Discharge at 1C for {discharge_time_mins} minutes or until {V_min}V\", \n",
    "        f\"Charge at 0.3C until {V_max}V\",\n",
    "        f\"Hold at {V_max} V until C/100\",\n",
    "        ),  ]   # *  setting on cycler is 515, rather than 514 in wiki\n",
    "elif index_exp ==5:\n",
    "    exp_AGE_text = [(\n",
    "        f\"Discharge at 1C until {V_min}V\", \n",
    "        f\"Charge at 0.3C until {V_max}V\",\n",
    "        f\"Hold at {V_max} V until C/100\",\n",
    "        ),  ]  # *  78\n",
    "else:\n",
    "    print(\"Not yet implemented!\")\n",
    "step_AGE_CD =0;   step_AGE_CC =1;   step_AGE_CV =2;"
   ]
  },
  {
   "cell_type": "code",
   "execution_count": 5,
   "metadata": {},
   "outputs": [],
   "source": [
    "# remaining set-up for experiment and create folders\n",
    "sheet_name_xlsx = 'Results';\n",
    "if not os.path.exists(BasicPath + Target):\n",
    "   os.mkdir(BasicPath + Target);\n",
    "if not os.path.exists(BasicPath + Target+\"Mats\"):\n",
    "   os.mkdir(BasicPath + Target+\"Mats\");\n",
    "if not os.path.exists(BasicPath + Target+\"Plots\"):\n",
    "   os.mkdir(BasicPath + Target+\"Plots\");\n",
    "if not os.path.exists(BasicPath + Target+\"Excel\"):\n",
    "   os.mkdir(BasicPath + Target+\"Excel\");\n",
    "\n",
    "Path_pack = [BasicPath,Target,book_name_xlsx,sheet_name_xlsx,]\n",
    "\n",
    "exp_RPT_text = [ (\n",
    "    # refill\n",
    "    f\"Hold at {V_max}V until C/100\",\n",
    "    \"Rest for 1 hours (20 minute period)\", \n",
    "    # 0.1C cycle \n",
    "    f\"Discharge at 0.1C until {V_min} V (30 minute period)\",  \n",
    "    \"Rest for 3 hours (20 minute period)\",  \n",
    "    f\"Charge at 0.1C until {V_max} V (30 minute period)\",\n",
    "    f\"Hold at {V_max}V until C/100\",\n",
    "    \"Rest for 1 hours (20 minute period)\",\n",
    "    # 0.5C cycle \n",
    "    f\"Discharge at 0.5C until {V_min} V (6 minute period)\",  \n",
    "    \"Rest for 3 hours (20 minute period)\",\n",
    "    f\"Charge at 0.5C until {V_max} V (6 minute period)\",\n",
    "    f\"Hold at {V_max}V until C/100\",\n",
    "    \"Rest for 3 hours (20 minute period)\",  \n",
    "    ) ] * 1\n",
    "# step index for RPT\n",
    "step_0p1C_CD = 2; step_0p1C_CC = 4;   step_0p1C_RE =3;    \n",
    "step_0p5C_CD = 7;  \n",
    "\n",
    "exp_text_list = [exp_AGE_text,  exp_RPT_text ];\n",
    "cycle_no = -1; \n",
    "exp_index_pack = [cycle_no,step_AGE_CD,step_AGE_CC,step_AGE_CV,\n",
    "   step_0p1C_CD, step_0p1C_CC,step_0p1C_RE , step_0p5C_CD ];\n"
   ]
  },
  {
   "cell_type": "code",
   "execution_count": 6,
   "metadata": {},
   "outputs": [],
   "source": [
    "# define global index and dict for all experiment data - prepare for read!\n",
    "Exp_Path = [\n",
    "    \"Expt 1 - Si-based Degradation/\",\n",
    "    \"Expt 2,2 - C-based Degradation 2/\",\n",
    "    \"Expt 3 - Cathode Degradation and Li-Plating/\",\n",
    "    \"Expt 4 - Drive Cycle Aging (Control)/\",\n",
    "    \"Expt 5 - Standard Cycle Aging (Control)/\",]\n",
    "Exp_head = [\n",
    "    \"Expt 1\",\n",
    "    \"Expt 2,2\",\n",
    "    \"Expt 3\",\n",
    "    \"Expt 4\",\n",
    "    \"Expt 5\",]\n",
    "Exp_1_Cell = [\"A\",\"B\",\"J\",\"D\",\"E\",\"F\",\"K\",\"L\",\"M\"];\n",
    "Exp_1_Temp = {\n",
    "    \"A\":\"10\",\"B\":\"10\",\"J\":\"10\",\n",
    "    \"D\":\"25\",\"E\":\"25\",\"F\":\"25\",\n",
    "    \"K\":\"40\",\"L\":\"40\",\"M\":\"40\",}\n",
    "Temp_Cell_Exp_1 = {\n",
    "    \"10\":[\"A\",\"B\",\"J\"],\n",
    "    \"25\":[\"D\",\"E\",\"F\"],\n",
    "    \"40\":[\"K\",\"L\",\"M\"],}\n",
    "Exp_2_Cell = [\"A\",\"B\",\"C\",\"D\",\"E\",\"F\"];\n",
    "Exp_2_Temp = {\n",
    "    \"A\":\"10\",\"B\":\"10\",\n",
    "    \"C\":\"25\",\"D\":\"25\",\n",
    "    \"E\":\"40\",\"F\":\"40\",}\n",
    "Temp_Cell_Exp_2 = {\n",
    "    \"10\":[\"A\",\"B\"],\n",
    "    \"25\":[\"C\",\"D\"],\n",
    "    \"40\":[\"E\",\"F\"],}\n",
    "Exp_3_Cell = [\"A\",\"B\",\"C\",\"D\",\"E\",\"F\",\"G\",\"H\",\"I\"];\n",
    "Exp_3_Temp = {\n",
    "    \"A\":\"10\",\"B\":\"10\",\"C\":\"10\",\n",
    "    \"D\":\"25\",\"E\":\"25\",\"F\":\"25\",\n",
    "    \"G\":\"40\",\"H\":\"40\",\"I\":\"40\"}\n",
    "Temp_Cell_Exp_3 = {\n",
    "    \"10\":[\"A\",\"B\",\"C\"],\n",
    "    \"25\":[\"D\",\"E\",\"F\"],\n",
    "    \"40\":[\"G\",\"H\",\"I\"],}\n",
    "Exp_4_Cell = [\"A\",\"B\",\"C\",\"D\",\"E\",\"F\",\"G\",\"H\"];\n",
    "Exp_4_Temp = {\n",
    "    \"A\":\"10\",\"B\":\"10\",\"C\":\"10\",\n",
    "    \"D\":\"25\",\"E\":\"25\",\n",
    "    \"F\":\"40\",\"G\":\"40\",\"H\":\"40\",}\n",
    "Temp_Cell_Exp_4 = {\n",
    "    \"10\":[\"A\",\"B\",\"C\"],\n",
    "    \"25\":[\"D\",\"E\",],\n",
    "    \"40\":[\"F\",\"G\",\"H\"],}\n",
    "Exp_5_Cell = [\"A\",\"B\",\"C\",\"D\",\"E\",\"F\",\"G\",\"H\"];\n",
    "Exp_5_Temp = {\n",
    "    \"A\":\"10\",\"B\":\"10\",\"C\":\"10\",\n",
    "    \"D\":\"25\",\"E\":\"25\",\n",
    "    \"F\":\"40\",\"G\":\"40\",\"H\":\"40\",}\n",
    "Temp_Cell_Exp_5 = {\n",
    "    \"10\":[\"A\",\"B\",\"C\"],\n",
    "    \"25\":[\"D\",\"E\",],\n",
    "    \"40\":[\"F\",\"G\",\"H\"],}\n",
    "Exp_All_Cell  = [Exp_1_Cell,Exp_2_Cell,Exp_3_Cell,Exp_4_Cell,Exp_5_Cell]\n",
    "Exp_Temp_Cell = [Exp_1_Temp,Exp_2_Temp,Exp_3_Temp,Exp_4_Temp,Exp_5_Temp]\n",
    "Temp_Cell_Exp_All = [Temp_Cell_Exp_1,Temp_Cell_Exp_2,Temp_Cell_Exp_3,Temp_Cell_Exp_4,Temp_Cell_Exp_5]\n",
    "Mark_Cell_All = [\n",
    "    {\n",
    "    \"A\":\"o\",\"B\":\">\",\"J\":\"v\",\n",
    "    \"D\":\"o\",\"E\":\">\",\"F\":\"v\",\n",
    "    \"K\":\"o\",\"L\":\">\",\"M\":\"v\",},\n",
    "    {\n",
    "    \"A\":\"10\",\"B\":\"10\",\n",
    "    \"C\":\"25\",\"D\":\"25\",\n",
    "    \"E\":\"40\",\"F\":\"40\",},\n",
    "    {\n",
    "    \"A\":\"o\",\"B\":\">\",\"C\":\"v\",\n",
    "    \"D\":\"o\",\"E\":\">\",\"F\":\"v\",\n",
    "    \"G\":\"o\",\"H\":\">\",\"I\":\"v\",},\n",
    "    {\n",
    "    \"A\":\"o\",\"B\":\">\",\"C\":\"v\",\n",
    "    \"D\":\"o\",\"E\":\">\",\n",
    "    \"F\":\"o\",\"G\":\">\",\"H\":\"v\",},\n",
    "    {\n",
    "    \"A\":\"o\",\"B\":\">\",\"C\":\"v\",\n",
    "    \"D\":\"o\",\"E\":\">\",\n",
    "    \"F\":\"o\",\"G\":\">\",\"H\":\"v\",}]\n",
    "Color_Cell_All = [\n",
    "    {\n",
    "    \"A\":[2/255, 3/255, 226/255,0.7],\"B\":[2/255, 3/255, 226/255,0.7],\"J\":[2/255, 3/255, 226/255,0.7],\n",
    "    \"D\":[0, 0, 0,0.7],\"E\":[0, 0, 0,0.7],\"F\":[0, 0, 0,0.7],\n",
    "    \"K\":[1,0,0,0.4],\"L\":[1,0,0,0.4],\"M\":[1,0,0,0.4],},\n",
    "    {\n",
    "    \"A\":[2/255, 3/255, 226/255,0.7],\"B\":[2/255, 3/255, 226/255,0.7],\n",
    "    \"D\":[0, 0, 0,0.7],\"C\":[0, 0, 0,0.7],\n",
    "    \"E\":[1,0,0,0.4],\"F\":[1,0,0,0.4],},\n",
    "    {\n",
    "    \"A\":[2/255, 3/255, 226/255,0.7],\"B\":[2/255, 3/255, 226/255,0.7],\"C\":[2/255, 3/255, 226/255,0.7],\n",
    "    \"D\":[0, 0, 0,0.7],\"E\":[0, 0, 0,0.7],\"F\":[0, 0, 0,0.7],\n",
    "    \"G\":[1,0,0,0.4],\"H\":[1,0,0,0.4],\"I\":[1,0,0,0.4],},\n",
    "    {\n",
    "    \"A\":[2/255, 3/255, 226/255,0.7],\"B\":[2/255, 3/255, 226/255,0.7],\"C\":[2/255, 3/255, 226/255,0.7],\n",
    "    \"D\":[0, 0, 0,0.7],\"E\":[0, 0, 0,0.7],\n",
    "    \"F\":[1,0,0,0.4],\"G\":[1,0,0,0.4],\"H\":[1,0,0,0.4],},\n",
    "    {\n",
    "    \"A\":[2/255, 3/255, 226/255,0.7],\"B\":[2/255, 3/255, 226/255,0.7],\"C\":[2/255, 3/255, 226/255,0.7],\n",
    "    \"D\":[0, 0, 0,0.7],\"E\":[0, 0, 0,0.7],\n",
    "    \"F\":[1,0,0,0.4],\"G\":[1,0,0,0.4],\"H\":[1,0,0,0.4],}]\n"
   ]
  },
  {
   "cell_type": "code",
   "execution_count": 7,
   "metadata": {},
   "outputs": [
    {
     "name": "stdout",
     "output_type": "stream",
     "text": [
      "Finish reading Experiment!\n"
     ]
    }
   ],
   "source": [
    "# Load Niall's data\n",
    "Temp_Cell_Exp = Temp_Cell_Exp_All[index_exp-1] \n",
    "Exp_Any_AllData = Read_Exp(\n",
    "    Path_NiallDMA,Exp_All_Cell[index_exp-1],\n",
    "    Exp_Path,Exp_head,Exp_Temp_Cell[index_exp-1],\n",
    "    index_exp-1)\n"
   ]
  },
  {
   "cell_type": "code",
   "execution_count": 8,
   "metadata": {},
   "outputs": [],
   "source": [
    "########################  Output  ########################\n",
    "keys_loc_RPT = [ # MAY WANT TO SELECT AGEING CYCLE later\n",
    "    # Default output:\n",
    "    \"x [m]\",\n",
    "    \"x_n [m]\",\n",
    "    \"x_s [m]\",\n",
    "    \"x_p [m]\",\n",
    "    # default: end; \n",
    "    \"CCend Porosity\",\n",
    "    \"CCend Negative electrode interfacial current density [A.m-2]\",\n",
    "    \"CCend Electrolyte potential [V]\",\n",
    "    \"CCend Electrolyte concentration [mol.m-3]\",\n",
    "    \"CCend Negative electrode reaction overpotential [V]\",\n",
    "    \"CCend Negative particle surface concentration [mol.m-3]\",\n",
    "    \"CCend Negative electrode roughness ratio\",\n",
    "    \"CCend Total SEI on cracks thickness [m]\",\n",
    "\n",
    "    \"CDend Porosity\",\n",
    "    \"CDend Negative electrode interfacial current density [A.m-2]\",\n",
    "    \"CDend Electrolyte potential [V]\",\n",
    "    \"CDend Electrolyte concentration [mol.m-3]\",\n",
    "    \"CDend Negative electrode reaction overpotential [V]\",\n",
    "    \"CDend Negative particle surface concentration [mol.m-3]\",\n",
    "    \"CDend Negative electrode roughness ratio\",\n",
    "    \"CDend Total SEI on cracks thickness [m]\",\n",
    "    #\"REend Total SEI on cracks thickness [m]\",\n",
    "]\n",
    "keys_tim_RPT = [\n",
    "    # default: CD\n",
    "    \"CD Time [h]\",\n",
    "    \"CD Terminal voltage [V]\",\n",
    "    #\"RE Terminal voltage [V]\",\n",
    "]\n",
    "keys_cyc_RPT = [   # default: CDend\n",
    "    \"Discharge capacity [A.h]\",\n",
    "    \"Throughput capacity [A.h]\",\n",
    "    \"CDend Total lithium capacity in particles [A.h]\",\n",
    "    \"CDend Loss of capacity to lithium plating [A.h]\",\n",
    "    \"CDend Loss of capacity to SEI [A.h]\",\n",
    "    \"CDend Loss of capacity to SEI on cracks [A.h]\",\n",
    "    \"CDend X-averaged total SEI on cracks thickness [m]\",\n",
    "    \"CDend X-averaged negative electrode roughness ratio\",\n",
    "    \"CDend Local ECM resistance [Ohm]\",\n",
    "    \"CDsta Negative electrode stoichiometry\", \n",
    "    \"CDend Negative electrode stoichiometry\",\n",
    "    \"CDsta Positive electrode stoichiometry\", \n",
    "    \"CDend Positive electrode stoichiometry\",\n",
    "    \"CDend Negative electrode capacity [A.h]\",\n",
    "    \"CDend Positive electrode capacity [A.h]\",\n",
    "]\n",
    "\n",
    "keys_loc_AGE = [ # MAY WANT TO SELECT AGEING CYCLE later\n",
    "    # Default output:\n",
    "    \"x [m]\",\n",
    "    \"x_n [m]\",\n",
    "    \"x_s [m]\",\n",
    "    \"x_p [m]\",\n",
    "    # default: end; \n",
    "    \"CCend Porosity\",\n",
    "    \"CCend Negative electrode interfacial current density [A.m-2]\",\n",
    "    \"CCend Electrolyte potential [V]\",\n",
    "    \"CCend Electrolyte concentration [mol.m-3]\",\n",
    "    \"CCend Negative electrode reaction overpotential [V]\",\n",
    "    \"CCend Negative particle surface concentration [mol.m-3]\",\n",
    "    \"CCend Negative electrode roughness ratio\",\n",
    "    \"CCend Total SEI on cracks thickness [m]\",\n",
    "\n",
    "    \"CDend Porosity\",\n",
    "    \"CDend Negative electrode interfacial current density [A.m-2]\",\n",
    "    \"CDend Electrolyte potential [V]\",\n",
    "    \"CDend Electrolyte concentration [mol.m-3]\",\n",
    "    \"CDend Negative electrode reaction overpotential [V]\",\n",
    "    \"CDend Negative particle surface concentration [mol.m-3]\",\n",
    "    \"CDend Negative electrode roughness ratio\",\n",
    "    \"CDend Total SEI on cracks thickness [m]\",\n",
    "    \"CDend Electrolyte diffusivity [m2.s-1]\",\n",
    "    \"CDend Electrolyte conductivity [S.m-1]\",\n",
    "]\n",
    "keys_tim_AGE = [];\n",
    "keys_cyc_AGE = [];\n",
    "keys_all_RPT = [keys_loc_RPT,keys_tim_RPT,keys_cyc_RPT];\n",
    "keys_all_AGE = [keys_loc_AGE,keys_tim_AGE,keys_cyc_AGE];\n",
    "keys_all = [keys_all_RPT,keys_all_AGE];\n"
   ]
  },
  {
   "cell_type": "code",
   "execution_count": 9,
   "metadata": {},
   "outputs": [
    {
     "name": "stdout",
     "output_type": "stream",
     "text": [
      "Successfully create a excel file\n"
     ]
    }
   ],
   "source": [
    "# Write para - 1st round:\n",
    "Values_1 = []\n",
    "head_keys = list(Para_dict_list[0].keys())\n",
    "head_pre = [\n",
    "    \"Scan No\",\"Exp No.\",\"Y or N\",\n",
    "    \"Error Tot%\",\"Error SOH %\",\"Error LLI %\",\n",
    "    \"Error LAM NE %\",\"Error LAM PE %\",\"Error Res %\",\"Dry out\"]\n",
    "\n",
    "head_pos = [ \"exp_AGE_text\", \"exp_RPT_text\",\n",
    "   \"Cap Loss\",\"LLI to LiP\",\n",
    "   \"LLI to SEI\",\"LLI to sei-on-cracks\",\n",
    "   \"LAM to Neg\",\"LAM to Pos\",\n",
    "   \"Vol_Elely_Tot Final\", \"Vol_Elely_JR Final\",\"Width Final\",\"Error\"]\n",
    "Values_1 .append([*head_pre,*head_keys,*head_pos])\n",
    "index_list = np.arange(1,len(Para_dict_list)+1,1)\n",
    "for Scan_i,Para_dict_i in zip(index_list,Para_dict_list):\n",
    "    value_list_temp = list(Para_dict_i.values())\n",
    "    values_para = []\n",
    "    for value_list_temp_i in value_list_temp:\n",
    "        values_para.append(str(value_list_temp_i))\n",
    "    # sequence: scan no, exp, pass or fail, mpe, dry-out, \n",
    "    mpe_all = [\"Unknown\",\"Unknown\",\n",
    "        \"Unknown\",\"Unknown\", \n",
    "        \"Unknown\",\"Unknown\",]\n",
    "    Pass_Fail = \"Unknown\"\n",
    "    DryOut = \"Unknown\"\n",
    "    value_Pre = [str(Scan_i),index_exp,Pass_Fail,*mpe_all,DryOut,]\n",
    "    values = [*value_Pre,*values_para,]\n",
    "    Values_1.append(values)\n",
    "write_excel_xlsx(\n",
    "    BasicPath + Target+book_name_xlsx, \n",
    "    sheet_name_xlsx, Values_1)   \n"
   ]
  },
  {
   "cell_type": "code",
   "execution_count": 10,
   "metadata": {},
   "outputs": [
    {
     "name": "stdout",
     "output_type": "stream",
     "text": [
      "Start Now! Scan 1.Start Now! Scan 2.\n",
      "\n",
      "Scan 1: DryOut = On\n",
      "Initial electrolyte amount is  5.093480124590676 Scan 2: DryOut = OnmL\n",
      "Scan 1: Spent 76.685 ms on Initialization\n",
      "\n",
      "Initial electrolyte amount is  5.093480124590676 mL\n",
      "Scan 2: Spent 112.593 ms on Initialization\n"
     ]
    },
    {
     "name": "stderr",
     "output_type": "stream",
     "text": [
      "At t = 1309.92 and h = 2.58332e-10, the corrector convergence failed repeatedly or with |h| = hmin.\n",
      "At t = 1309.92 and h = 2.58332e-10, the corrector convergence failed repeatedly or with |h| = hmin.\n"
     ]
    },
    {
     "name": "stdout",
     "output_type": "stream",
     "text": [
      "Scan 1: Finish break-in cycle within 1 minute, 42 seconds\n",
      "Scan 2: Finish break-in cycle within 1 minute, 42 seconds\n",
      "Scan 1: Finish post-process for break-in cycle within 427.738 ms\n",
      "Scan 2: Finish post-process for break-in cycle within 389.675 ms\n",
      "Scan 1: Finish for No.0 ageing cycles within 22 minutes, 57 seconds\n",
      "Scan 1: Finish post-process for No.516 ageing cycles within 162.256 ms\n",
      "Scan 2: Finish for No.0 ageing cycles within 23 minutes, 12 seconds\n",
      "Scan 2: Finish post-process for No.516 ageing cycles within 165.631 ms\n"
     ]
    },
    {
     "name": "stderr",
     "output_type": "stream",
     "text": [
      "At t = 1066.94 and h = 1.30936e-10, the corrector convergence failed repeatedly or with |h| = hmin.\n",
      "At t = 1066.92 and h = 4.68612e-10, the corrector convergence failed repeatedly or with |h| = hmin.\n",
      "At t = 342.484 and h = 1.76521e-14, the corrector convergence failed repeatedly or with |h| = hmin.\n",
      "At t = 342.479 and h = 1.4538e-11, the corrector convergence failed repeatedly or with |h| = hmin.\n"
     ]
    },
    {
     "name": "stdout",
     "output_type": "stream",
     "text": [
      "Scan 1: Finish for No.516 RPT cycles within 1 minute, 22 seconds\n",
      "Scan 1: Finish post-process for No.516 RPT cycles within 177.337 ms\n",
      "Scan 2: Finish for No.516 RPT cycles within 1 minute, 24 seconds\n",
      "Scan 2: Finish post-process for No.516 RPT cycles within 217.619 ms\n",
      "Scan 1: Finish for No.516 ageing cycles within 21 minutes, 16 seconds\n",
      "Scan 1: Finish post-process for No.1032 ageing cycles within 88.530 ms\n",
      "Scan 2: Finish for No.516 ageing cycles within 21 minutes, 7 seconds\n",
      "Scan 2: Finish post-process for No.1032 ageing cycles within 83.894 ms\n"
     ]
    },
    {
     "name": "stderr",
     "output_type": "stream",
     "text": [
      "At t = 893.43 and h = 2.8096e-11, the corrector convergence failed repeatedly or with |h| = hmin.\n",
      "At t = 893.435 and h = 2.09433e-10, the corrector convergence failed repeatedly or with |h| = hmin.\n",
      "At t = 893.352 and h = 1.14542e-10, the corrector convergence failed repeatedly or with |h| = hmin.\n",
      "At t = 893.348 and h = 1.15151e-10, the corrector convergence failed repeatedly or with |h| = hmin.\n",
      "At t = 308.092 and h = 2.90256e-11, the corrector convergence failed repeatedly or with |h| = hmin.\n",
      "At t = 308.068 and h = 2.06228e-11, the corrector convergence failed repeatedly or with |h| = hmin.\n"
     ]
    },
    {
     "name": "stdout",
     "output_type": "stream",
     "text": [
      "Scan 1: Finish for No.1032 RPT cycles within 1 minute, 24 seconds\n",
      "Scan 1: Finish post-process for No.1032 RPT cycles within 156.243 ms\n",
      "Scan 2: Finish for No.1032 RPT cycles within 1 minute, 25 seconds\n",
      "Scan 2: Finish post-process for No.1032 RPT cycles within 172.079 ms\n",
      "Scan 1: Finish for No.1032 ageing cycles within 20 minutes, 0 seconds\n",
      "Scan 1: Finish post-process for No.1548 ageing cycles within 86.329 ms\n"
     ]
    },
    {
     "name": "stderr",
     "output_type": "stream",
     "text": [
      "At t = 627.035 and h = 1.82153e-10, the corrector convergence failed repeatedly or with |h| = hmin.\n"
     ]
    },
    {
     "name": "stdout",
     "output_type": "stream",
     "text": [
      "Scan 2: Finish for No.1032 ageing cycles within 20 minutes, 13 seconds\n",
      "Scan 2: Finish post-process for No.1548 ageing cycles within 90.347 ms\n"
     ]
    },
    {
     "name": "stderr",
     "output_type": "stream",
     "text": [
      "At t = 627.035 and h = 1.78907e-10, the corrector convergence failed repeatedly or with |h| = hmin.\n",
      "At t = 531.6 and h = 1.58029e-10, the corrector convergence failed repeatedly or with |h| = hmin.\n",
      "At t = 531.594 and h = 4.50641e-10, the corrector convergence failed repeatedly or with |h| = hmin.\n",
      "At t = 255.46 and h = 2.97458e-11, the corrector convergence failed repeatedly or with |h| = hmin.\n",
      "At t = 255.461 and h = 3.68939e-11, the corrector convergence failed repeatedly or with |h| = hmin.\n",
      "At t = 105.46 and h = 3.19476e-11, the corrector convergence failed repeatedly or with |h| = hmin.\n",
      "At t = 236.792 and h = 3.0417e-11, the corrector convergence failed repeatedly or with |h| = hmin.\n",
      "At t = 236.793 and h = 5.23508e-12, the corrector convergence failed repeatedly or with |h| = hmin.\n",
      "At t = 86.7921 and h = 3.37409e-11, the corrector convergence failed repeatedly or with |h| = hmin.\n"
     ]
    },
    {
     "name": "stdout",
     "output_type": "stream",
     "text": [
      "Scan 1: Finish for No.1548 RPT cycles within 1 minute, 24 seconds\n",
      "Scan 1: Finish post-process for No.1548 RPT cycles within 175.811 ms\n",
      "Scan 2: Finish for No.1548 RPT cycles within 1 minute, 22 seconds\n",
      "Scan 2: Finish post-process for No.1548 RPT cycles within 192.678 ms\n",
      "Scan 1: Finish for No.1548 ageing cycles within 19 minutes, 32 seconds\n",
      "Scan 1: Finish post-process for No.2064 ageing cycles within 77.394 ms\n",
      "Scan 2: Finish for No.1548 ageing cycles within 19 minutes, 26 seconds\n",
      "Scan 2: Finish post-process for No.2064 ageing cycles within 78.206 ms\n"
     ]
    },
    {
     "name": "stderr",
     "output_type": "stream",
     "text": [
      "At t = 177.83 and h = 2.88574e-11, the corrector convergence failed repeatedly or with |h| = hmin.\n",
      "At t = 177.83 and h = 2.14119e-11, the corrector convergence failed repeatedly or with |h| = hmin.\n",
      "At t = 152.056 and h = 1.17718e-11, the corrector convergence failed repeatedly or with |h| = hmin.\n",
      "At t = 152.056 and h = 1.57425e-11, the corrector convergence failed repeatedly or with |h| = hmin.\n"
     ]
    },
    {
     "name": "stdout",
     "output_type": "stream",
     "text": [
      "Scan 1: Finish for No.2064 RPT cycles within 1 minute, 19 seconds\n",
      "Scan 1: Finish post-process for No.2064 RPT cycles within 157.402 ms\n",
      "Scan 2: Finish for No.2064 RPT cycles within 1 minute, 18 seconds\n",
      "Scan 2: Finish post-process for No.2064 RPT cycles within 149.063 ms\n",
      "Scan 1: Finish for No.2064 ageing cycles within 19 minutes, 15 seconds\n",
      "Scan 1: Finish post-process for No.2580 ageing cycles within 95.228 ms\n",
      "Scan 2: Finish for No.2064 ageing cycles within 19 minutes, 25 seconds\n",
      "Scan 2: Finish post-process for No.2580 ageing cycles within 79.835 ms\n"
     ]
    },
    {
     "name": "stderr",
     "output_type": "stream",
     "text": [
      "At t = 1551.61 and h = 5.25365e-11, the corrector convergence failed repeatedly or with |h| = hmin.\n",
      "At t = 642.604 and h = 1.63977e-10, the corrector convergence failed repeatedly or with |h| = hmin.\n",
      "At t = 1373.81 and h = 1.90047e-10, the corrector convergence failed repeatedly or with |h| = hmin.\n",
      "At t = 464.817 and h = 9.18544e-11, the corrector convergence failed repeatedly or with |h| = hmin.\n",
      "At t = 82.9772 and h = 1.48523e-14, the corrector convergence failed repeatedly or with |h| = hmin.\n",
      "At t = 82.979 and h = 1.82086e-11, the corrector convergence failed repeatedly or with |h| = hmin.\n",
      "At t = 82.9786 and h = 3.89769e-11, the corrector convergence failed repeatedly or with |h| = hmin.\n"
     ]
    },
    {
     "name": "stdout",
     "output_type": "stream",
     "text": [
      "Scan 1: Finish for No.2580 RPT cycles within 1 minute, 21 seconds\n",
      "Scan 1: Finish post-process for No.2580 RPT cycles within 159.863 ms\n",
      "Scan 2: Finish for No.2580 RPT cycles within 1 minute, 14 seconds\n",
      "Scan 2: Finish post-process for No.2580 RPT cycles within 178.165 ms\n",
      "Scan 1: Finish for No.2580 ageing cycles within 22 minutes, 2 seconds\n",
      "Scan 1: Finish post-process for No.3096 ageing cycles within 109.391 ms\n",
      "Scan 2: Finish for No.2580 ageing cycles within 22 minutes, 2 seconds\n",
      "Scan 2: Finish post-process for No.3096 ageing cycles within 85.861 ms\n"
     ]
    },
    {
     "name": "stderr",
     "output_type": "stream",
     "text": [
      "At t = 948.01 and h = 9.92646e-11, the corrector convergence failed repeatedly or with |h| = hmin.\n",
      "At t = 708.498 and h = 1.71924e-10, the corrector convergence failed repeatedly or with |h| = hmin.\n",
      "At t = 708.466 and h = 5.07185e-14, the corrector convergence failed repeatedly or with |h| = hmin.\n",
      "At t = 324.206 and h = 3.17076e-11, the corrector convergence failed repeatedly or with |h| = hmin.\n",
      "At t = 277.42 and h = 5.41395e-11, the corrector convergence failed repeatedly or with |h| = hmin.\n",
      "At t = 277.42 and h = 2.72699e-12, the corrector convergence failed repeatedly or with |h| = hmin.\n",
      "At t = 127.421 and h = 2.67106e-11, the corrector convergence failed repeatedly or with |h| = hmin.\n"
     ]
    },
    {
     "name": "stdout",
     "output_type": "stream",
     "text": [
      "Scan 1: Finish for No.3096 RPT cycles within 1 minute, 21 seconds\n",
      "Scan 1: Finish post-process for No.3096 RPT cycles within 169.508 ms\n",
      "Scan 2: Finish for No.3096 RPT cycles within 1 minute, 27 seconds\n",
      "Scan 2: Finish post-process for No.3096 RPT cycles within 167.464 ms\n",
      "Scan 1: Finish for No.3096 ageing cycles within 20 minutes, 42 seconds\n",
      "Scan 1: Finish post-process for No.3612 ageing cycles within 90.934 ms\n",
      "Scan 2: Finish for No.3096 ageing cycles within 20 minutes, 46 seconds\n",
      "Scan 2: Finish post-process for No.3612 ageing cycles within 73.669 ms\n"
     ]
    },
    {
     "name": "stderr",
     "output_type": "stream",
     "text": [
      "At t = 167.239 and h = 7.22167e-15, the corrector convergence failed repeatedly or with |h| = hmin.\n",
      "At t = 167.241 and h = 1.61732e-11, the corrector convergence failed repeatedly or with |h| = hmin.\n",
      "At t = 1614.66 and h = 2.47231e-10, the corrector convergence failed repeatedly or with |h| = hmin.\n",
      "At t = 705.647 and h = 1.67511e-13, the corrector convergence failed repeatedly or with |h| = hmin.\n",
      "At t = 101.827 and h = 1.49291e-14, the corrector convergence failed repeatedly or with |h| = hmin.\n",
      "At t = 101.829 and h = 2.13941e-11, the corrector convergence failed repeatedly or with |h| = hmin.\n"
     ]
    },
    {
     "name": "stdout",
     "output_type": "stream",
     "text": [
      "Scan 1: Finish for No.3612 RPT cycles within 1 minute, 15 seconds\n",
      "Scan 1: Finish post-process for No.3612 RPT cycles within 154.293 ms\n"
     ]
    },
    {
     "name": "stderr",
     "output_type": "stream",
     "text": [
      "At t = 101.829 and h = 3.08335e-11, the corrector convergence failed repeatedly or with |h| = hmin.\n"
     ]
    },
    {
     "name": "stdout",
     "output_type": "stream",
     "text": [
      "Scan 2: Finish for No.3612 RPT cycles within 1 minute, 20 seconds\n",
      "Scan 2: Finish post-process for No.3612 RPT cycles within 159.871 ms\n",
      "Scan 2: Finish for No.3612 ageing cycles within 23 minutes, 4 seconds\n",
      "Scan 2: Finish post-process for No.4128 ageing cycles within 68.558 ms\n",
      "Scan 1: Finish for No.3612 ageing cycles within 23 minutes, 39 seconds\n",
      "Scan 1: Finish post-process for No.4128 ageing cycles within 71.256 ms\n"
     ]
    },
    {
     "name": "stderr",
     "output_type": "stream",
     "text": [
      "At t = 745.048 and h = 1.50016e-10, the corrector convergence failed repeatedly or with |h| = hmin.\n",
      "At t = 745.051 and h = 2.44971e-11, the corrector convergence failed repeatedly or with |h| = hmin.\n",
      "At t = 187.429 and h = 2.40259e-11, the corrector convergence failed repeatedly or with |h| = hmin.\n",
      "At t = 187.429 and h = 5.65242e-12, the corrector convergence failed repeatedly or with |h| = hmin.\n",
      "At t = 290.625 and h = 1.41091e-13, the corrector convergence failed repeatedly or with |h| = hmin.\n",
      "At t = 290.626 and h = 2.19693e-11, the corrector convergence failed repeatedly or with |h| = hmin.\n",
      "At t = 140.626 and h = 2.26146e-11, the corrector convergence failed repeatedly or with |h| = hmin.\n"
     ]
    },
    {
     "name": "stdout",
     "output_type": "stream",
     "text": [
      "Scan 2: Finish for No.4128 RPT cycles within 1 minute, 16 seconds\n",
      "Scan 2: Finish post-process for No.4128 RPT cycles within 183.597 ms\n",
      "Scan 1: Finish for No.4128 RPT cycles within 1 minute, 24 seconds\n",
      "Scan 1: Finish post-process for No.4128 RPT cycles within 173.596 ms\n"
     ]
    },
    {
     "name": "stderr",
     "output_type": "stream",
     "text": [
      "At t = 332.418 and h = 6.81408e-12, the corrector convergence failed repeatedly or with |h| = hmin.\n",
      "At t = 16.4613 and h = 5.91668e-09, the corrector convergence failed repeatedly or with |h| = hmin.\n",
      "At t = 16.5889 and h = 2.00491e-08, the corrector convergence failed repeatedly or with |h| = hmin.\n",
      "At t = 16.5322 and h = 1.96952e-09, the corrector convergence failed repeatedly or with |h| = hmin.\n",
      "At t = 16.4893 and h = 6.60761e-09, the corrector convergence failed repeatedly or with |h| = hmin.\n",
      "At t = 16.804 and h = 1.49021e-08, the corrector convergence failed repeatedly or with |h| = hmin.\n",
      "At t = 16.545 and h = 9.26547e-09, the corrector convergence failed repeatedly or with |h| = hmin.\n",
      "2023-05-25 19:57:38.983 - [ERROR] callbacks.on_experiment_error(224): Simulation error: Maximum number of decreased steps occurred at t=785186.4424835767 (final SolverError: 'Error in Function::call for 'F' [IdasInterface] at .../casadi/core/function.cpp:1401:\n",
      "Error in Function::call for 'F' [IdasInterface] at .../casadi/core/function.cpp:330:\n",
      ".../casadi/interfaces/sundials/idas_interface.cpp:596: IDASolve returned \"IDA_CONV_FAIL\". Consult IDAS documentation.'). For a full solution try reducing dt_max (currently, dt_max=9.375) and/or reducing the size of the time steps or period of the experiment. Set `return_solution_if_failed_early=True` to return the solution object up to the point where failure occured.\n"
     ]
    },
    {
     "name": "stdout",
     "output_type": "stream",
     "text": [
      "Fail due to Experiment error or infeasible\n",
      "Scan 2: Fail during No.4128 ageing cycles within 20 minutes, 54 seconds due to Experiment error or infeasible\n"
     ]
    },
    {
     "name": "stderr",
     "output_type": "stream",
     "text": [
      "At t = 166.162 and h = 1.8434e-11, the corrector convergence failed repeatedly or with |h| = hmin.\n",
      "At t = 166.162 and h = 2.85104e-11, the corrector convergence failed repeatedly or with |h| = hmin.\n"
     ]
    },
    {
     "name": "stdout",
     "output_type": "stream",
     "text": [
      "Scan 2: Finish for No.4128 RPT cycles within 1 minute, 20 seconds\n",
      "Scan 2: Finish post-process for No.4128 RPT cycles within 146.934 ms\n",
      "Scan 2: Getting extra variables within 225.000 us\n",
      "Scan 2: Finish all plots within 6.202 s\n",
      "Successfully create a excel file\n",
      "Scan 2: Successfully save json file!\n",
      "Scan 2: Encounter problems when saving mat file!\n",
      "Scan 2: Try saving within 38.306 ms\n",
      "Succeed doing something in 3 hours, 24 minutes, 7 seconds\n",
      "This is the end of No. 2  scan\n"
     ]
    },
    {
     "name": "stderr",
     "output_type": "stream",
     "text": [
      "At t = 310.568 and h = 5.39452e-09, the corrector convergence failed repeatedly or with |h| = hmin.\n",
      "At t = 18.6864 and h = 6.59084e-09, the corrector convergence failed repeatedly or with |h| = hmin.\n",
      "At t = 18.7415 and h = 2.38469e-08, the corrector convergence failed repeatedly or with |h| = hmin.\n",
      "At t = 18.8329 and h = 1.73596e-08, the corrector convergence failed repeatedly or with |h| = hmin.\n",
      "At t = 18.6451 and h = 5.38742e-09, the corrector convergence failed repeatedly or with |h| = hmin.\n",
      "At t = 18.8407 and h = 1.84673e-08, the corrector convergence failed repeatedly or with |h| = hmin.\n",
      "At t = 18.6859 and h = 6.56477e-09, the corrector convergence failed repeatedly or with |h| = hmin.\n",
      "2023-05-25 20:00:29.426 - [ERROR] callbacks.on_experiment_error(224): Simulation error: Error in Function::call for 'F' [IdasInterface] at .../casadi/core/function.cpp:1401:\n",
      "Error in Function::call for 'F' [IdasInterface] at .../casadi/core/function.cpp:330:\n",
      ".../casadi/interfaces/sundials/idas_interface.cpp:596: IDASolve returned \"IDA_CONV_FAIL\". Consult IDAS documentation.\n"
     ]
    },
    {
     "name": "stdout",
     "output_type": "stream",
     "text": [
      "Fail due to Experiment error or infeasible\n",
      "Scan 1: Fail during No.4128 ageing cycles within 23 minutes, 32 seconds due to Experiment error or infeasible\n"
     ]
    },
    {
     "name": "stderr",
     "output_type": "stream",
     "text": [
      "At t = 669.217 and h = 3.86237e-10, the corrector convergence failed repeatedly or with |h| = hmin.\n",
      "At t = 669.215 and h = 8.64561e-11, the corrector convergence failed repeatedly or with |h| = hmin.\n",
      "At t = 272.152 and h = 2.55119e-11, the corrector convergence failed repeatedly or with |h| = hmin.\n",
      "At t = 272.152 and h = 4.29525e-11, the corrector convergence failed repeatedly or with |h| = hmin.\n",
      "At t = 122.152 and h = 7.36217e-12, the corrector convergence failed repeatedly or with |h| = hmin.\n"
     ]
    },
    {
     "name": "stdout",
     "output_type": "stream",
     "text": [
      "Scan 1: Finish for No.4128 RPT cycles within 1 minute, 17 seconds\n",
      "Scan 1: Finish post-process for No.4128 RPT cycles within 138.215 ms\n",
      "Scan 1: Getting extra variables within 201.300 us\n",
      "Scan 1: Finish all plots within 5.394 s\n",
      "Successfully create a excel file\n",
      "Scan 1: Successfully save json file!\n",
      "Scan 1: Encounter problems when saving mat file!\n",
      "Scan 1: Try saving within 34.185 ms\n",
      "Succeed doing something in 3 hours, 26 minutes, 54 seconds\n",
      "This is the end of No. 1  scan\n"
     ]
    }
   ],
   "source": [
    "# scan:\n",
    "fs = 13; dpi = 100;\n",
    "index_list = np.arange(1,len(Para_dict_list)+1,1)\n",
    "midc_merge_all = [];Sol_RPT_all = [];Sol_AGE_all = [];\n",
    "\"\"\"for index_i, Para_dict_i in zip(index_list,Para_dict_list):\n",
    "    midc_merge,Sol_RPT,Sol_AGE = Run_P2_Opt_Timeout(\n",
    "        index_i    ,  index_exp,  Para_dict_i,   Path_pack, fs,\n",
    "        keys_all,   exp_text_list, exp_index_pack,\n",
    "        Exp_Any_AllData,Temp_Cell_Exp, dpi,\n",
    "        Plot_Exp=True,Timeout=False,Return_Sol=True,Check_Small_Time=True,)  \n",
    "    midc_merge_all.append(midc_merge)\n",
    "    Sol_RPT_all.append(Sol_RPT)\n",
    "    Sol_AGE_all.append(Sol_AGE) \n",
    "\"\"\" \n",
    "if __name__ == \"__main__\":\n",
    "    pool = multiprocessing.Pool(2)\n",
    "    processes = [\n",
    "    pool.apply_async(\n",
    "        Run_P2_Opt_Timeout, \n",
    "        args=(\n",
    "            index_i    ,  index_exp,  Para_dict_i,   Path_pack, fs,\n",
    "            keys_all,   exp_text_list, exp_index_pack,\n",
    "            Exp_Any_AllData,Temp_Cell_Exp, dpi,\n",
    "            True,False,True,True\n",
    "        ) )\n",
    "        for index_i, Para_dict_i in zip(index_list,Para_dict_list)]\n",
    "    Result = [p.get() for p in processes]  \n",
    "for result in Result:\n",
    "    midc_merge_all.append(result[0])\n",
    "    Sol_RPT_all.append(result[1])\n",
    "    Sol_AGE_all.append(result[2]) "
   ]
  },
  {
   "attachments": {},
   "cell_type": "markdown",
   "metadata": {},
   "source": [
    "i_try = 0\n",
    "while i_try<3:\n",
    "    try:\n",
    "        getSth = Sol_0[\"Throughput capacity [A.h]\"].entries[-1]\n",
    "    except:\n",
    "        i_try += 1\n",
    "        print(f\"Fail to read Throughput capacity for the {i_try}th time\")\n",
    "    else:\n",
    "        break\n",
    "print(getSth)"
   ]
  },
  {
   "attachments": {},
   "cell_type": "markdown",
   "metadata": {},
   "source": [
    "LLINegSEI_age = (\n",
    "    Sol_AGE_all[1][0][\"Loss of lithium to SEI [mol]\"].entries[-1]\n",
    "    -\n",
    "    Sol_AGE_all[1][0][\"Loss of lithium to SEI [mol]\"].entries[0])\n",
    "LLINegSEIcr_age = (\n",
    "    Sol_AGE_all[1][0][\"Loss of lithium to SEI on cracks [mol]\"].entries[-1]\n",
    "    -\n",
    "    Sol_AGE_all[1][0][\"Loss of lithium to SEI on cracks [mol]\"].entries[0])\n",
    "LLINegDeadLiP_age = (\n",
    "    Sol_AGE_all[1][0][\"Loss of lithium to dead lithium plating [mol]\"].entries[-1]\n",
    "    -\n",
    "    Sol_AGE_all[1][0][\"Loss of lithium to dead lithium plating [mol]\"].entries[0])\n",
    "print(LLINegSEI_age,LLINegSEIcr_age,LLINegDeadLiP_age,LLINegDeadLiP_age+LLINegSEIcr_age+LLINegSEI_age)\n",
    "\n",
    "LLINegSEI_rpt = (\n",
    "    Sol_RPT_all[1][0][\"Loss of lithium to SEI [mol]\"].entries[-1]\n",
    "    -\n",
    "    Sol_RPT_all[1][0][\"Loss of lithium to SEI [mol]\"].entries[0])\n",
    "LLINegSEIcr_rpt =(\n",
    "    Sol_RPT_all[1][0][\"Loss of lithium to SEI on cracks [mol]\"].entries[-1]\n",
    "    -\n",
    "    Sol_RPT_all[1][0][\"Loss of lithium to SEI on cracks [mol]\"].entries[0])\n",
    "LLINegDeadLiP_rpt = (\n",
    "    Sol_RPT_all[1][0][\"Loss of lithium to dead lithium plating [mol]\"].entries[-1]\n",
    "    -\n",
    "    Sol_RPT_all[1][0][\"Loss of lithium to dead lithium plating [mol]\"].entries[0])\n",
    "print(LLINegSEI_rpt,LLINegSEIcr_rpt,LLINegDeadLiP_rpt,LLINegDeadLiP_rpt+LLINegSEIcr_rpt+LLINegSEI_rpt)"
   ]
  },
  {
   "attachments": {},
   "cell_type": "markdown",
   "metadata": {},
   "source": [
    "VmolEC    = 5.0e-05\n",
    "Vol_EC_consumed  =  ( LLINegSEI_age + LLINegSEIcr_age + LLINegDeadLiP_age  ) * 2 * VmolEC\n",
    "print(Vol_EC_consumed*1e6)"
   ]
  },
  {
   "attachments": {},
   "cell_type": "markdown",
   "metadata": {},
   "source": [
    "print(midc_merge_all[1][\"Vol_EC_consumed_All\"][2]) # during 516 cycles mL\n",
    "print(midc_merge_all[1][\"Vol_EC_consumed_All\"][3])"
   ]
  },
  {
   "cell_type": "code",
   "execution_count": 11,
   "metadata": {},
   "outputs": [
    {
     "data": {
      "image/png": "[encoded data removed]",
      "text/plain": [
       "<Figure size 1200x800 with 6 Axes>"
      ]
     },
     "metadata": {},
     "output_type": "display_data"
    }
   ],
   "source": [
    "# After finish scans, get summary of the errors of all cases:\n",
    "fs=17;\n",
    "font = {'family' : 'DejaVu Sans','size'   : fs}\n",
    "mpl.rc('font', **font)\n",
    "Caes_Index = np.arange(1,len(midc_merge_all)+1)\n",
    "Mpe_tot = []; Mpe_1 = [];Mpe_2 = []; Mpe_3 = [];Mpe_4 = []; Mpe_5 = [];\n",
    "for i in range(len(midc_merge_all)):\n",
    "    Mpe_tot.append(midc_merge_all[i][\"Error tot %\"])\n",
    "    Mpe_1.append(midc_merge_all[i][\"Error SOH %\"])\n",
    "    Mpe_2.append(midc_merge_all[i][\"Error LLI %\"])\n",
    "    Mpe_3.append(midc_merge_all[i][\"Error LAM NE %\"])\n",
    "    Mpe_4.append(midc_merge_all[i][\"Error LAM PE %\"])\n",
    "    Mpe_5.append(midc_merge_all[i][\"Error Res %\"])\n",
    "Mpe_All = [Mpe_tot,Mpe_1,Mpe_2,Mpe_3,Mpe_4,Mpe_5]\n",
    "Str_All = [\n",
    "    \"Error tot %\",\"Error SOH %\",\"Error LLI %\",\n",
    "    \"Error LAM NE %\",\"Error LAM PE %\",\"Error Res %\"]\n",
    "fig, axs = plt.subplots(2,3, figsize=(12,8),tight_layout=True)\n",
    "for i in range(6):\n",
    "    if i<=2: # 0,1,2\n",
    "        m=0; n = i\n",
    "    else:   # 3,4,5 \n",
    "        m=1; n = i-3\n",
    "    axs[m,n].plot( Caes_Index,  Mpe_All[i], '-o',  )\n",
    "    axs[m,n].set_ylabel(Str_All[i])\n",
    "    axs[1,n].set_xlabel(\"Case No.\")\n",
    "    fig.suptitle(\n",
    "        f\"Error Summary of all cases in this round\", \n",
    "        fontsize=fs+1)\n",
    "plt.savefig(\n",
    "    BasicPath + Target+\n",
    "    f\"0!_Error Summary of all cases in this round.png\", dpi=600)\n",
    "plt.savefig(\n",
    "    BasicPath + Target+\n",
    "    f\"0!_Error Summary of all cases in this round.svg\")"
   ]
  },
  {
   "cell_type": "code",
   "execution_count": 12,
   "metadata": {},
   "outputs": [
    {
     "name": "stdout",
     "output_type": "stream",
     "text": [
      "Successfuly write results for Scan 1!\n",
      "Successfuly write results for Scan 2!\n"
     ]
    }
   ],
   "source": [
    "Index_List_succeed = index_list\n",
    "for index_i in Index_List_succeed:\n",
    "    #print(index_i)\n",
    "    try:\n",
    "        old_book = str(index_i) + '_' + book_name_xlsx\n",
    "        #print(old_book)\n",
    "        #open excel:\n",
    "        data_old = openpyxl.load_workbook(\n",
    "            BasicPath + Target+ \"Excel/\" + old_book)   \n",
    "        data_tar = openpyxl.load_workbook(\n",
    "            BasicPath + Target + book_name_xlsx) \n",
    "\n",
    "        table_old = data_old[str(index_i)]\n",
    "        nrows_old = table_old.max_row  # 获得行数\n",
    "        ncolumns_old = table_old.max_column  # 获得列数\n",
    "\n",
    "        table_tar = data_tar[sheet_name_xlsx]\n",
    "        nrows_tar = index_i # Mark!!! Most important changes!\n",
    "        ncolumns_old = table_old.max_column  # 获得列数\n",
    "        list_old = [];\n",
    "        #print(nrows_old,nrows_tar)\n",
    "        for i in range(1,nrows_old+1):\n",
    "            for j in range(1,ncolumns_old+1):\n",
    "                list_old.append(table_old.cell(row=i,column=j).value)\n",
    "        \n",
    "        list_old = [list_old,]\n",
    "        for i in range(1, len(list_old)+1):\n",
    "                for j in range(1, len(list_old[i-1])+1):\n",
    "                    #print(i,j,list_old[i-1][j-1]    )\n",
    "                    table_tar.cell(nrows_tar+i, j).value = list_old[i-1][j-1]     \n",
    "        data_tar.save(BasicPath + Target + book_name_xlsx) \n",
    "        data_tar.close()\n",
    "    except:\n",
    "        print(f\"Something goes wrong for Scan {index_i}!\")\n",
    "    else:\n",
    "        print(f\"Successfuly write results for Scan {index_i}!\") \n"
   ]
  }
 ],
 "metadata": {
  "kernelspec": {
   "display_name": "envPBGEM",
   "language": "python",
   "name": "python3"
  },
  "language_info": {
   "codemirror_mode": {
    "name": "ipython",
    "version": 3
   },
   "file_extension": ".py",
   "mimetype": "text/x-python",
   "name": "python",
   "nbconvert_exporter": "python",
   "pygments_lexer": "ipython3",
   "version": "3.10.6"
  },
  "orig_nbformat": 4
 },
 "nbformat": 4,
 "nbformat_minor": 2
}
