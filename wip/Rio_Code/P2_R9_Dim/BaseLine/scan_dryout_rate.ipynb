{
 "cells": [
  {
   "cell_type": "code",
   "execution_count": 1,
   "metadata": {},
   "outputs": [],
   "source": [
    "# magic lines that avoid re-start \n",
    "\n",
    "import pybamm as pb;import pandas as pd   ;import numpy as np;\n",
    "import os;\n",
    "import matplotlib.pyplot as plt;import os;#import imageio\n",
    "from scipy.io import savemat,loadmat;from pybamm import constants,exp;import matplotlib as mpl; fs=17; # or we can set import matplotlib.pyplot as plt then say 'mpl.rc...'\n",
    "import openpyxl\n",
    "import traceback\n",
    "import multiprocessing\n",
    "import scipy.optimize\n",
    "import timeit\n",
    "import random;import time, signal\n",
    "fs=17;\n",
    "font = {'family' : 'DejaVu Sans','size'   : fs}\n",
    "mpl.rc('font', **font)\n",
    "\n",
    "## Global setting: change with PC or HPC\n",
    "# Path_NiallDMA = \"InputData/\" # for HPC\n",
    "Path_NiallDMA = \"D:/OneDrive - Imperial College London/SimDataSave/InputData/\"\n",
    "# BasicPath=os.getcwd() # for HPC\n",
    "BasicPath = 'D:/OneDrive - Imperial College London/SimDataSave/P2_R9_Dim/Test' \n",
    "import sys  \n",
    "str_path_0 = os.path.abspath(os.path.join(pb.__path__[0],'..'))\n",
    "str_path_1 = os.path.abspath(os.path.join(str_path_0,\"wip\\Rio_Code\\Fun_P2\"))\n",
    "sys.path.append(str_path_1) \n",
    "from Fun_P2 import * # directly do this for HPC\n"
   ]
  },
  {
   "cell_type": "code",
   "execution_count": null,
   "metadata": {},
   "outputs": [],
   "source": [
    "# debug dry-out rate:\n",
    "def Dryout_Rate(VmolEC):\n",
    "    #VmolEC    = 6.667e-05\n",
    "    VmolSEI   = 9.585e-05\n",
    "    VmolLiP   = 1.3e-05\n",
    "    # for 1 mol LLI to SEI or something else:\n",
    "    LLINegSEI = 1; LLINegSEIcr = 1; LLINegDeadLiP = 0; LLINegLiP  = 0\n",
    "\n",
    "    Vol_EC_consumed  =  ( LLINegSEI + LLINegSEIcr + LLINegDeadLiP  ) * 2 * VmolEC    \n",
    "    # Mark: Ruihe add LLINegDeadLiP, either with 2 or not, \n",
    "    # will decide how fast electrolyte being consumed!\n",
    "\n",
    "    Vol_SEILiP_increase = 1.0*(\n",
    "        (LLINegSEI+LLINegSEIcr) * VmolSEI \n",
    "        + LLINegLiP * VmolLiP)    #  volume increase due to SEI+total LiP \n",
    "    # Test_V = Vol_SEILiP_increase - Vol_Pore_decrease \n",
    "    Vol_Elely_need   = Vol_EC_consumed - Vol_SEILiP_increase\n",
    "    #print(VmolEC,Vol_Elely_need)\n",
    "    # assumem 0.25Ah capacity loss, total pore volume is ~5mL\n",
    "    vol_pore_tot = 5 # mL\n",
    "    consum_percen = 0.25*1/26.801* (Vol_Elely_need*1E6) /2/vol_pore_tot*100\n",
    "    return Vol_Elely_need,consum_percen\n",
    "fs=14;\n",
    "font = {'family' : 'DejaVu Sans','size'   : fs}\n",
    "mpl.rc('font', **font)\n",
    "Vol_Elely_need_all = []; Consum_p = []\n",
    "VmolEC = np.arange(4.7925e-5,8e-05,5e-6)\n",
    "for VmolEC_i in VmolEC:\n",
    "    Vol_Elely_need_i,consum_percen = Dryout_Rate(VmolEC_i)\n",
    "    Vol_Elely_need_all.append(Vol_Elely_need_i)\n",
    "    Consum_p.append(consum_percen)\n",
    "fig, ax = plt.subplots(figsize=(6,4),tight_layout=True)\n",
    "ax.plot(VmolEC,Consum_p,\"-o\")\n",
    "import matplotlib.ticker as ticker\n",
    "ax.xaxis.set_major_formatter(ticker.ScalarFormatter(useMathText=True))\n",
    "ax.ticklabel_format(axis='x', style='sci', scilimits=(0,0))\n",
    "ax.set_xlabel('EC partial molar volume [m3.mol-1]')\n",
    "ax.set_ylabel('Elely need / tot pore %')"
   ]
  }
 ],
 "metadata": {
  "kernelspec": {
   "display_name": "envPBGEM",
   "language": "python",
   "name": "python3"
  },
  "language_info": {
   "codemirror_mode": {
    "name": "ipython",
    "version": 3
   },
   "file_extension": ".py",
   "mimetype": "text/x-python",
   "name": "python",
   "nbconvert_exporter": "python",
   "pygments_lexer": "ipython3",
   "version": "3.9.6"
  },
  "orig_nbformat": 4
 },
 "nbformat": 4,
 "nbformat_minor": 2
}
