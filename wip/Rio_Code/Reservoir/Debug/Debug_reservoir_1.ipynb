{
 "cells": [
  {
   "cell_type": "markdown",
   "metadata": {},
   "source": [
    "## Don't rename! Don't delete the output of the cells! This notebook is actually to debug whether the failure comes from the abrupt changes from discharge to charge, which it turns out that increasing mesh poitns doesn't help and Siomn cited from O'Regan paper that such voltage changes are within normal range and shouldn't be the problem!"
   ]
  },
  {
   "cell_type": "code",
   "execution_count": 12,
   "metadata": {},
   "outputs": [
    {
     "name": "stdout",
     "output_type": "stream",
     "text": [
      "The autoreload extension is already loaded. To reload it, use:\n",
      "  %reload_ext autoreload\n"
     ]
    }
   ],
   "source": [
    "# magic lines that avoid re-start \n",
    "%load_ext autoreload\n",
    "%autoreload 2\n",
    "import pybamm as pb;import pandas as pd;import numpy as np;\n",
    "import os, json,openpyxl,traceback,multiprocessing,scipy.optimize,sys\n",
    "import matplotlib.pyplot as plt;\n",
    "import imageio,timeit,random,time, signal\n",
    "from scipy.io import savemat,loadmat;\n",
    "from pybamm import constants,exp;import matplotlib as mpl"
   ]
  },
  {
   "cell_type": "code",
   "execution_count": 13,
   "metadata": {},
   "outputs": [
    {
     "name": "stdout",
     "output_type": "stream",
     "text": [
      "Total scan case is 1\n"
     ]
    }
   ],
   "source": [
    "########################     Global settings!!!\n",
    "rows_per_file = 1;  Scan_end_end = 6;\n",
    "purpose_i = \"Full_Exp_9_3Ts\"\n",
    "\n",
    "On_HPC =  False  \n",
    "Runshort  =   True                    # a long run or a quick test\n",
    "\n",
    "\n",
    "\n",
    "if On_HPC:\n",
    "    i_bundle = int(os.environ[\"PBS_ARRAY_INDEX\"])\n",
    "else:\n",
    "    i_bundle = 1; # manually specify\n",
    "Scan_start = (i_bundle-1)*rows_per_file+1;    \n",
    "Scan_end   = min(Scan_start + rows_per_file-1, Scan_end_end)    \n",
    "purpose = f\"{purpose_i}_Case_{Scan_start}_{Scan_end}\"\n",
    "# interpetation: Simnon suggested, with cracking activation, heat transfer\n",
    "para_csv = f\"Bundle_{i_bundle}.csv\"  # name of the random file to get parameters\n",
    "\n",
    "\n",
    "if On_HPC:                          # Run on HPC\n",
    "    Path_csv = f\"InputData/{purpose_i}/\" \n",
    "    Path_NiallDMA = \"InputData/\" \n",
    "    BasicPath=os.getcwd() \n",
    "    Para_file = Path_csv +  para_csv\n",
    "else:\n",
    "    import sys  \n",
    "    str_path_0 = os.path.abspath(os.path.join(pb.__path__[0],'..'))\n",
    "    str_path_1 = os.path.abspath(\n",
    "        os.path.join(str_path_0,\"wip/Rio_Code/Fun_P2\"))\n",
    "    sys.path.append(str_path_1) \n",
    "    Path_NiallDMA = os.path.expanduser(\n",
    "        \"~/EnvPBGEM_Linux/SimSave/InputData/\") # for Linux\n",
    "    BasicPath =  os.path.expanduser(\n",
    "        \"~/EnvPBGEM_Linux/SimSave/P2_R9_Dim\")\n",
    "    Para_file = BasicPath+f'/Get_Random_sets2/{purpose_i}/'+para_csv\n",
    "    \n",
    "if not os.path.exists(BasicPath +\"/\"+ purpose):\n",
    "    os.mkdir(BasicPath +\"/\"+ purpose);\n",
    "# import all functions \n",
    "from Fun_P2 import * \n",
    "\n",
    "# Load the random file\n",
    "parameter_names, combinations = load_combinations_from_csv(Para_file)\n",
    "\n",
    "\n",
    "pool_no = len(combinations)\n",
    "Indexs  = np.arange(Scan_start-1,Scan_end)\n",
    "index_list = Indexs+1\n",
    "\"\"\" para_dict_Same = {\n",
    "   \"Total ageing cycles\":int(tot_cyc), # \n",
    "   \"Ageing cycles between RPT\":int(cyc_age), # \n",
    "   \"Update cycles for ageing\": int(cyc_age),\n",
    "} \"\"\"\n",
    "# Get all para\n",
    "Para_dict_list = []\n",
    "# get all dictionaries\n",
    "for combination in combinations:\n",
    "    input_dict = {}\n",
    "    for parameter_name,para_value in zip(parameter_names,combination ):\n",
    "        input_dict[parameter_name] = para_value\n",
    "    Para_dict_list.append(input_dict)\n",
    "print(f\"Total scan case is {len(Para_dict_list)}\")"
   ]
  },
  {
   "cell_type": "code",
   "execution_count": 14,
   "metadata": {},
   "outputs": [
    {
     "name": "stdout",
     "output_type": "stream",
     "text": [
      "Successfully create a excel file\n"
     ]
    }
   ],
   "source": [
    "# define global index and dict for all experiment data - prepare for read!\n",
    "Exp_Path = [\n",
    "    \"Expt 1 - Si-based Degradation/\",\n",
    "    \"Expt 2,2 - C-based Degradation 2/\",\n",
    "    \"Expt 3 - Cathode Degradation and Li-Plating/\",\n",
    "    \"Expt 4 - Drive Cycle Aging (Control)/\",\n",
    "    \"Expt 5 - Standard Cycle Aging (Control)/\",]\n",
    "Exp_head = [\n",
    "    \"Expt 1\",\n",
    "    \"Expt 2,2\",\n",
    "    \"Expt 3\",\n",
    "    \"Expt 4\",\n",
    "    \"Expt 5\",]\n",
    "Exp_1_Cell = [\"A\",\"B\",\"J\",\"D\",\"E\",\"F\",\"K\",\"L\",\"M\"];\n",
    "Exp_1_Temp = {\n",
    "    \"A\":\"10\",\"B\":\"10\",\"J\":\"10\",\n",
    "    \"D\":\"25\",\"E\":\"25\",\"F\":\"25\",\n",
    "    \"K\":\"40\",\"L\":\"40\",\"M\":\"40\",}\n",
    "Temp_Cell_Exp_1 = {\n",
    "    \"10\":[\"A\",\"B\",\"J\"],\n",
    "    \"25\":[\"D\",\"E\",\"F\"],\n",
    "    \"40\":[\"K\",\"L\",\"M\"],}\n",
    "Exp_2_Cell = [\"A\",\"B\",\"C\",\"D\",\"E\",\"F\"];\n",
    "Exp_2_Temp = {\n",
    "    \"A\":\"10\",\"B\":\"10\",\n",
    "    \"C\":\"25\",\"D\":\"25\",\n",
    "    \"E\":\"40\",\"F\":\"40\",}\n",
    "Temp_Cell_Exp_2 = {\n",
    "    \"10\":[\"A\",\"B\"],\n",
    "    \"25\":[\"C\",\"D\"],\n",
    "    \"40\":[\"E\",\"F\"],}\n",
    "Exp_3_Cell = [\"A\",\"B\",\"C\",\"D\",\"E\",\"F\",\"G\",\"H\",\"I\"];\n",
    "Exp_3_Temp = {\n",
    "    \"A\":\"10\",\"B\":\"10\",\"C\":\"10\",\n",
    "    \"D\":\"25\",\"E\":\"25\",\"F\":\"25\",\n",
    "    \"G\":\"40\",\"H\":\"40\",\"I\":\"40\"}\n",
    "Temp_Cell_Exp_3 = {\n",
    "    \"10\":[\"A\",\"B\",\"C\"],\n",
    "    \"25\":[\"D\",\"E\",\"F\"],\n",
    "    \"40\":[\"G\",\"H\",\"I\"],}\n",
    "Exp_4_Cell = [\"A\",\"B\",\"C\",\"D\",\"E\",\"F\",\"G\",\"H\"];\n",
    "Exp_4_Temp = {\n",
    "    \"A\":\"10\",\"B\":\"10\",\"C\":\"10\",\n",
    "    \"D\":\"25\",\"E\":\"25\",\n",
    "    \"F\":\"40\",\"G\":\"40\",\"H\":\"40\",}\n",
    "Temp_Cell_Exp_4 = {\n",
    "    \"10\":[\"A\",\"B\",\"C\"],\n",
    "    \"25\":[\"D\",\"E\",],\n",
    "    \"40\":[\"F\",\"G\",\"H\"],}\n",
    "Exp_5_Cell = [\"A\",\"B\",\"C\",\"D\",\"E\",\"F\",\"G\",\"H\"];\n",
    "Exp_5_Temp = {\n",
    "    \"A\":\"10\",\"B\":\"10\",\"C\":\"10\",\n",
    "    \"D\":\"25\",\"E\":\"25\",\n",
    "    \"F\":\"40\",\"G\":\"40\",\"H\":\"40\",}\n",
    "Temp_Cell_Exp_5 = {\n",
    "    \"10\":[\"A\",\"B\",\"C\"],\n",
    "    \"25\":[\"D\",\"E\",],\n",
    "    \"40\":[\"F\",\"G\",\"H\"],}\n",
    "Exp_All_Cell  = [Exp_1_Cell,Exp_2_Cell,Exp_3_Cell,Exp_4_Cell,Exp_5_Cell]\n",
    "Exp_Temp_Cell = [Exp_1_Temp,Exp_2_Temp,Exp_3_Temp,Exp_4_Temp,Exp_5_Temp]\n",
    "Temp_Cell_Exp_All = [Temp_Cell_Exp_1,Temp_Cell_Exp_2,Temp_Cell_Exp_3,Temp_Cell_Exp_4,Temp_Cell_Exp_5]\n",
    "Mark_Cell_All = [\n",
    "    {\n",
    "    \"A\":\"o\",\"B\":\">\",\"J\":\"v\",\n",
    "    \"D\":\"o\",\"E\":\">\",\"F\":\"v\",\n",
    "    \"K\":\"o\",\"L\":\">\",\"M\":\"v\",},\n",
    "    {\n",
    "    \"A\":\"10\",\"B\":\"10\",\n",
    "    \"C\":\"25\",\"D\":\"25\",\n",
    "    \"E\":\"40\",\"F\":\"40\",},\n",
    "    {\n",
    "    \"A\":\"o\",\"B\":\">\",\"C\":\"v\",\n",
    "    \"D\":\"o\",\"E\":\">\",\"F\":\"v\",\n",
    "    \"G\":\"o\",\"H\":\">\",\"I\":\"v\",},\n",
    "    {\n",
    "    \"A\":\"o\",\"B\":\">\",\"C\":\"v\",\n",
    "    \"D\":\"o\",\"E\":\">\",\n",
    "    \"F\":\"o\",\"G\":\">\",\"H\":\"v\",},\n",
    "    {\n",
    "    \"A\":\"o\",\"B\":\">\",\"C\":\"v\",\n",
    "    \"D\":\"o\",\"E\":\">\",\n",
    "    \"F\":\"o\",\"G\":\">\",\"H\":\"v\",}]\n",
    "Color_Cell_All = [\n",
    "    {\n",
    "    \"A\":[2/255, 3/255, 226/255,0.7],\"B\":[2/255, 3/255, 226/255,0.7],\"J\":[2/255, 3/255, 226/255,0.7],\n",
    "    \"D\":[0, 0, 0,0.7],\"E\":[0, 0, 0,0.7],\"F\":[0, 0, 0,0.7],\n",
    "    \"K\":[1,0,0,0.4],\"L\":[1,0,0,0.4],\"M\":[1,0,0,0.4],},\n",
    "    {\n",
    "    \"A\":[2/255, 3/255, 226/255,0.7],\"B\":[2/255, 3/255, 226/255,0.7],\n",
    "    \"D\":[0, 0, 0,0.7],\"C\":[0, 0, 0,0.7],\n",
    "    \"E\":[1,0,0,0.4],\"F\":[1,0,0,0.4],},\n",
    "    {\n",
    "    \"A\":[2/255, 3/255, 226/255,0.7],\"B\":[2/255, 3/255, 226/255,0.7],\"C\":[2/255, 3/255, 226/255,0.7],\n",
    "    \"D\":[0, 0, 0,0.7],\"E\":[0, 0, 0,0.7],\"F\":[0, 0, 0,0.7],\n",
    "    \"G\":[1,0,0,0.4],\"H\":[1,0,0,0.4],\"I\":[1,0,0,0.4],},\n",
    "    {\n",
    "    \"A\":[2/255, 3/255, 226/255,0.7],\"B\":[2/255, 3/255, 226/255,0.7],\"C\":[2/255, 3/255, 226/255,0.7],\n",
    "    \"D\":[0, 0, 0,0.7],\"E\":[0, 0, 0,0.7],\n",
    "    \"F\":[1,0,0,0.4],\"G\":[1,0,0,0.4],\"H\":[1,0,0,0.4],},\n",
    "    {\n",
    "    \"A\":[2/255, 3/255, 226/255,0.7],\"B\":[2/255, 3/255, 226/255,0.7],\"C\":[2/255, 3/255, 226/255,0.7],\n",
    "    \"D\":[0, 0, 0,0.7],\"E\":[0, 0, 0,0.7],\n",
    "    \"F\":[1,0,0,0.4],\"G\":[1,0,0,0.4],\"H\":[1,0,0,0.4],}]\n",
    "# Update 23-06-17 \n",
    "#   para=\"Total heat transfer coefficient [W.m-2.K-1]\";\n",
    "#   output=\"Volume-averaged cell temperature [C]\"\n",
    "########################  Output  ########################\n",
    "keys_loc_RPT = [ # MAY WANT TO SELECT AGEING CYCLE later\n",
    "    # Default output:\n",
    "    \"x [m]\",\n",
    "    \"x_n [m]\",\n",
    "    \"x_s [m]\",\n",
    "    \"x_p [m]\",\n",
    "    # default: end; \n",
    "    \"CCend Porosity\",\n",
    "    \"CCend Negative electrode interfacial current density [A.m-2]\",\n",
    "    \"CCend Electrolyte potential [V]\",\n",
    "    \"CCend Electrolyte concentration [mol.m-3]\",\n",
    "    \"CCend Negative electrode reaction overpotential [V]\",\n",
    "    \"CCend Negative particle surface concentration [mol.m-3]\",\n",
    "    #\"CCend Negative electrode roughness ratio\",\n",
    "    #\"CCend Total SEI on cracks thickness [m]\",\n",
    "\n",
    "    \"CDend Porosity\",\n",
    "    \"CDend Negative electrode interfacial current density [A.m-2]\",\n",
    "    \"CDend Electrolyte potential [V]\",\n",
    "    \"CDend Electrolyte concentration [mol.m-3]\",\n",
    "    \"CDend Negative electrode reaction overpotential [V]\",\n",
    "    \"CDend Negative particle surface concentration [mol.m-3]\",\n",
    "    #\"CDend Negative electrode roughness ratio\",\n",
    "    #\"CDend Total SEI on cracks thickness [m]\",\n",
    "    #\"REend Total SEI on cracks thickness [m]\",\n",
    "]\n",
    "keys_tim_RPT = [\n",
    "    # default: CD\n",
    "    \"CD Time [h]\",\n",
    "    \"CD Terminal voltage [V]\",\n",
    "    \"CD Anode potential [V]\",    # self defined\n",
    "    \"CD Cathode potential [V]\",  # self defined\n",
    "    \"CC Time [h]\",\n",
    "    \"CC Terminal voltage [V]\",\n",
    "    \"CC Anode potential [V]\",    # self defined\n",
    "    \"CC Cathode potential [V]\",  # self defined\n",
    "]\n",
    "keys_cyc_RPT = [   # default: CDend\n",
    "    \"Discharge capacity [A.h]\",\n",
    "    \"Throughput capacity [A.h]\",\n",
    "    \"CDend Total lithium capacity in particles [A.h]\",\n",
    "    \"CDend Loss of capacity to lithium plating [A.h]\",\n",
    "    \"CDend Loss of capacity to SEI [A.h]\",\n",
    "    \"CDend Loss of capacity to SEI on cracks [A.h]\",\n",
    "    #\"CDend X-averaged total SEI on cracks thickness [m]\",\n",
    "    #\"CDend X-averaged negative electrode roughness ratio\",\n",
    "    \"CDend Local ECM resistance [Ohm]\",\n",
    "    \"CDsta Negative electrode stoichiometry\", \n",
    "    \"CDend Negative electrode stoichiometry\",\n",
    "    \"CDsta Positive electrode stoichiometry\", \n",
    "    \"CDend Positive electrode stoichiometry\",\n",
    "    \"CDend Negative electrode capacity [A.h]\",\n",
    "    \"CDend Positive electrode capacity [A.h]\",\n",
    "]\n",
    "\n",
    "keys_loc_AGE = [ # MAY WANT TO SELECT AGEING CYCLE later\n",
    "    # Default output:\n",
    "    \"x [m]\",\n",
    "    \"x_n [m]\",\n",
    "    \"x_s [m]\",\n",
    "    \"x_p [m]\",\n",
    "    # default: end; \n",
    "    \"CCend Porosity\",\n",
    "    \"CCend Negative electrode interfacial current density [A.m-2]\",\n",
    "    \"CCend Electrolyte potential [V]\",\n",
    "    \"CCend Electrolyte concentration [mol.m-3]\",\n",
    "    \"CCend Negative electrode reaction overpotential [V]\",\n",
    "    \"CCend Negative particle surface concentration [mol.m-3]\",\n",
    "    \"CCend Negative electrode surface potential difference [V]\",\n",
    "    \"CCend SEI film overpotential [V]\",\n",
    "    #\"CCend Negative electrode roughness ratio\",\n",
    "    #\"CCend Total SEI on cracks thickness [m]\",\n",
    "\n",
    "    \"CDend Porosity\",\n",
    "    \"CDend Negative electrode interfacial current density [A.m-2]\",\n",
    "    \"CDend Electrolyte potential [V]\",\n",
    "    \"CDend Electrolyte concentration [mol.m-3]\",\n",
    "    \"CDend Negative electrode reaction overpotential [V]\",\n",
    "    \"CDend Negative particle surface concentration [mol.m-3]\",\n",
    "    #\"CDend Negative electrode roughness ratio\",\n",
    "    #\"CDend Total SEI on cracks thickness [m]\",\n",
    "    \"CDend Negative electrode surface potential difference [V]\",\n",
    "    \"CDend SEI film overpotential [V]\",\n",
    "    \"CDend Electrolyte diffusivity [m2.s-1]\",\n",
    "    \"CDend Electrolyte conductivity [S.m-1]\",\n",
    "]\n",
    "keys_tim_AGE = [\n",
    "    # default: CD\n",
    "    \"CD Time [h]\",\n",
    "    \"CD Terminal voltage [V]\",\n",
    "    \"CD Anode potential [V]\",    # self defined\n",
    "    \"CD Cathode potential [V]\",  # self defined\n",
    "    \n",
    "    \"CC Time [h]\",\n",
    "    \"CC Terminal voltage [V]\",\n",
    "    \"CC Anode potential [V]\",    # self defined\n",
    "    \"CC Cathode potential [V]\",  # self defined\n",
    "]\n",
    "keys_cyc_AGE = [];\n",
    "keys_all_RPT = [keys_loc_RPT,keys_tim_RPT,keys_cyc_RPT];\n",
    "keys_all_AGE = [keys_loc_AGE,keys_tim_AGE,keys_cyc_AGE];\n",
    "keys_all = [keys_all_RPT,keys_all_AGE];\n",
    "\n",
    "\n",
    "# Write para - 1st round:\n",
    "Values_1 = []\n",
    "head_keys = list(Para_dict_list[0].keys())\n",
    "head_pre = [\n",
    "    \"Scan No\",\"Exp No.\",\"Y or N\",\n",
    "    \"Error Tot%\",\"Error SOH %\",\"Error LLI %\",\n",
    "    \"Error LAM NE %\",\"Error LAM PE %\",\n",
    "    \"Error Res %\",\"Error ageT %\",\"Punish\",\n",
    "    \"Dry out\",]\n",
    "\n",
    "head_pos = [ \n",
    "    \"Total ageing cycles\",\"Ageing cycles between RPT\",\n",
    "    \"Update cycles for ageing\",\n",
    "    \"exp_AGE_text\", \"exp_RPT_text\",\n",
    "   \"Cap Loss\",\"LLI to LiP\",\n",
    "   \"LLI to SEI\",\"LLI to sei-on-cracks\",\n",
    "   \"LAM to Neg\",\"LAM to Pos\",\n",
    "   \"Vol_Elely_Tot Final\", \"Vol_Elely_JR Final\",\"Width Final\",\"Error\"]\n",
    "Values_1 .append([*head_pre,*head_keys,*head_pos])\n",
    "book_name_xlsx = f'Summary_{purpose}.xlsx';\n",
    "sheet_name_xlsx = 'Output'\n",
    "Target  = f'/{purpose}/'\n",
    "write_excel_xlsx(\n",
    "    BasicPath + Target + book_name_xlsx, \n",
    "    sheet_name_xlsx, Values_1)   \n",
    "Exp_pack = [\n",
    "    Exp_All_Cell,Temp_Cell_Exp_All,\n",
    "    Exp_Path,Exp_head,Exp_Temp_Cell,\n",
    "    book_name_xlsx,]  \n",
    "# remaining set-up for experiment and create folders\n",
    "\n",
    "if not os.path.exists(BasicPath +Target+\"Mats\"):\n",
    "    os.mkdir(BasicPath +Target +\"Mats\");\n",
    "if not os.path.exists(BasicPath +Target+\"Plots\"):\n",
    "    os.mkdir(BasicPath +Target+\"Plots\");\n",
    "if not os.path.exists(BasicPath +Target+\"Excel\"):\n",
    "    os.mkdir(BasicPath +Target+\"Excel\");"
   ]
  },
  {
   "cell_type": "code",
   "execution_count": 15,
   "metadata": {},
   "outputs": [
    {
     "name": "stdout",
     "output_type": "stream",
     "text": [
      "{'Scan No': 4, 'Exp No.': 9, 'Ageing temperature': 25.0, 'Mesh list': '[5,5,5,60,20]', 'Inner SEI lithium interstitial diffusivity [m2.s-1]': 9.81e-18, 'Dead lithium decay constant [s-1]': 1e-07, 'Lithium plating kinetic rate constant [m.s-1]': 1e-10, 'Negative electrode LAM constant proportional term [s-1]': 2.84e-09, 'Positive electrode LAM constant proportional term [s-1]': 2.98e-18, 'Negative electrode cracking rate': 5.29e-25, 'Outer SEI partial molar volume [m3.mol-1]': 5.22e-05, 'SEI growth activation energy [J.mol-1]': 10000.0, 'Negative cracking growth activation energy [J.mol-1]': 0.0, 'Negative electrode diffusivity activation energy [J.mol-1]': 17000.0, 'Positive electrode diffusivity activation energy [J.mol-1]': 12000.0, 'Contact resistance [Ohm]': 0.0115, 'Total heat transfer coefficient [W.m-2.K-1]': 20, 'Initial electrolyte excessive amount ratio': 1.1, 'Cycles within RPT': 1, 'RPT temperature': 25, 'Para_Set': 'OKane2023', 'Model option': \"{'SEI': 'interstitial-diffusion limited', 'SEI on cracks': 'true', 'lithium plating': 'partially reversible', 'lithium plating porosity change': 'true', 'particle mechanics': ('swelling and cracking', 'swelling only'), 'loss of active material': 'stress-driven', 'contact resistance': 'true', 'open-circuit potential': 'current sigmoid', 'SEI film resistance': 'distributed', 'SEI porosity change': 'true', 'thermal': 'lumped'}\", 'Current solvent concentration in the reservoir [mol.m-3]': 4541.0, 'Current electrolyte concentration in the reservoir [mol.m-3]': 1000, 'Ratio of Li-ion concentration change in electrolyte consider solvent consumption': 1.0, 'EC initial concentration in electrolyte [mol.m-3]': 4541.0, 'Typical EC concentration in electrolyte [mol.m-3]': 4541.0}\n"
     ]
    }
   ],
   "source": [
    "print(Para_dict_list[0]) # initial mesh: [5,5,5,60,20]\n",
    "# Para_dict_list[0][ 'Mesh list'] = '[5,5,5,60,20]'\n",
    "# run record\n",
    "# 1-'[10,10,10,100,20]' - 1 hour every 26 ageing cycles"
   ]
  },
  {
   "cell_type": "code",
   "execution_count": 16,
   "metadata": {},
   "outputs": [
    {
     "name": "stdout",
     "output_type": "stream",
     "text": [
      "Start Now! Scan 4.\n",
      "Has Overwritten Initial outer SEI thickness [m] to be 6.73e-09 and Negative electrode porosity to be 0.235 to account for initial capacity loss of 0.135 Ah\n",
      "Scan 4: DryOut = On\n",
      "Initial electrolyte amount is  5.759780286600199 mL\n",
      "Scan 4: Spent 2.475 ms on Initialization\n"
     ]
    },
    {
     "name": "stderr",
     "output_type": "stream",
     "text": [
      "At t = 351.087 and h = 5.59983e-15, the corrector convergence failed repeatedly or with |h| = hmin.\n"
     ]
    },
    {
     "name": "stdout",
     "output_type": "stream",
     "text": [
      "Scan 4: Finish break-in cycle within 2 minutes, 22 seconds\n",
      "Fail to read Throughput capacity for the 1th time\n",
      "Scan 4: Finish post-process for break-in cycle within 1.376 s\n",
      "Electrolyte is being squeezed out, check plated lithium (active and dead)\n"
     ]
    },
    {
     "name": "stderr",
     "output_type": "stream",
     "text": [
      "At t = 124.215 and h = 4.28404e-12, the corrector convergence failed repeatedly or with |h| = hmin.\n",
      "At t = 124.214 and h = 6.80419e-15, the corrector convergence failed repeatedly or with |h| = hmin.\n"
     ]
    },
    {
     "name": "stdout",
     "output_type": "stream",
     "text": [
      "Scan 4: Finish for No.0 ageing cycles within 44.073 s\n",
      "Scan 4: Finish post-process for No.1 ageing cycles within 280.872 ms\n"
     ]
    },
    {
     "name": "stderr",
     "output_type": "stream",
     "text": [
      "At t = 358.43 and h = 1.43122e-11, the corrector convergence failed repeatedly or with |h| = hmin.\n",
      "At t = 347.122 and h = 1.91989e-11, the corrector convergence failed repeatedly or with |h| = hmin.\n"
     ]
    },
    {
     "name": "stdout",
     "output_type": "stream",
     "text": [
      "Fail to read Throughput capacity for the 1th time\n",
      "Scan 4: Finish for No.1 RPT cycles within 2 minutes, 3 seconds\n",
      "Scan 4: Finish post-process for No.1 RPT cycles within 943.462 ms\n"
     ]
    },
    {
     "name": "stderr",
     "output_type": "stream",
     "text": [
      "At t = 113.571 and h = 4.65448e-12, the corrector convergence failed repeatedly or with |h| = hmin.\n",
      "At t = 113.57 and h = 1.42335e-11, the corrector convergence failed repeatedly or with |h| = hmin.\n",
      "At t = 113.571 and h = 8.60819e-12, the corrector convergence failed repeatedly or with |h| = hmin.\n",
      "At t = 53.5706 and h = 5.20357e-12, the corrector convergence failed repeatedly or with |h| = hmin.\n"
     ]
    },
    {
     "name": "stdout",
     "output_type": "stream",
     "text": [
      "Scan 4: Finish for No.1 ageing cycles within 45.108 s\n",
      "Scan 4: Finish post-process for No.2 ageing cycles within 197.386 ms\n"
     ]
    },
    {
     "name": "stderr",
     "output_type": "stream",
     "text": [
      "At t = 354.5 and h = 1.12154e-11, the corrector convergence failed repeatedly or with |h| = hmin.\n",
      "At t = 343.242 and h = 3.23071e-11, the corrector convergence failed repeatedly or with |h| = hmin.\n"
     ]
    },
    {
     "name": "stdout",
     "output_type": "stream",
     "text": [
      "Fail to read Throughput capacity for the 1th time\n",
      "Scan 4: Finish for No.2 RPT cycles within 2 minutes, 11 seconds\n",
      "Scan 4: Finish post-process for No.2 RPT cycles within 762.723 ms\n",
      "Scan 4: Getting extra variables within 191.800 us\n",
      "Scan 4: Finish all plots within 6.029 s\n",
      "Successfully create a excel file\n",
      "Scan 4: Successfully save json file!\n",
      "Scan 4: Successfully save mat file!\n",
      "Scan 4: Try saving within 30.616 ms\n",
      "Succeed doing something in 8 minutes, 15 seconds\n",
      "This is the end of No. 4  scan\n"
     ]
    }
   ],
   "source": [
    "fs = 13; dpi = 100;\n",
    "midc_merge_all = [];Sol_RPT_all = [];Sol_AGE_all = [];\n",
    "Plot_Exp=True;     Timeout=True;     Timelimit = int(60*10)\n",
    "Return_Sol=True;   Check_Small_Time=True; R_from_GITT = False\n",
    "Runshort = True;   Add_Rest = True\n",
    "midc_merge,Sol_RPT,Sol_AGE,DeBug_Lists = Run_P2_Excel (\n",
    "    Para_dict_list[0],BasicPath, Path_NiallDMA, \n",
    "    purpose,    Exp_pack, keys_all,dpi,fs,\n",
    "    Runshort,   Plot_Exp,Timeout, Timelimit,\n",
    "    Return_Sol, Check_Small_Time, R_from_GITT,Add_Rest,\n",
    ") \n"
   ]
  },
  {
   "cell_type": "code",
   "execution_count": 27,
   "metadata": {},
   "outputs": [
    {
     "name": "stdout",
     "output_type": "stream",
     "text": [
      "Start Now! Scan 4.\n",
      "Has Overwritten Initial outer SEI thickness [m] to be 6.73e-09 and Negative electrode porosity to be 0.235 to account for initial capacity loss of 0.135 Ah\n",
      "Scan 4: DryOut = On\n",
      "Initial electrolyte amount is  5.759780286600199 mL\n",
      "Scan 4: Spent 1.033 ms on Initialization\n"
     ]
    },
    {
     "name": "stderr",
     "output_type": "stream",
     "text": [
      "At t = 349.509 and h = 2.5228e-11, the corrector convergence failed repeatedly or with |h| = hmin.\n"
     ]
    },
    {
     "name": "stdout",
     "output_type": "stream",
     "text": [
      "Scan 4: Finish break-in cycle within 3 minutes, 5 seconds\n",
      "Fail to read Throughput capacity for the 1th time\n",
      "Scan 4: Finish post-process for break-in cycle within 1.514 s\n",
      "Electrolyte is being squeezed out, check plated lithium (active and dead)\n"
     ]
    },
    {
     "name": "stderr",
     "output_type": "stream",
     "text": [
      "At t = 122.801 and h = 4.64777e-12, the corrector convergence failed repeatedly or with |h| = hmin.\n",
      "At t = 122.801 and h = 4.46416e-12, the corrector convergence failed repeatedly or with |h| = hmin.\n"
     ]
    },
    {
     "name": "stdout",
     "output_type": "stream",
     "text": [
      "Scan 4: Finish for No.0 ageing cycles within 1 minute, 3 seconds\n",
      "Scan 4: Finish post-process for No.1 ageing cycles within 346.312 ms\n"
     ]
    },
    {
     "name": "stderr",
     "output_type": "stream",
     "text": [
      "At t = 356.835 and h = 2.09405e-11, the corrector convergence failed repeatedly or with |h| = hmin.\n",
      "At t = 345.553 and h = 2.21455e-11, the corrector convergence failed repeatedly or with |h| = hmin.\n"
     ]
    },
    {
     "name": "stdout",
     "output_type": "stream",
     "text": [
      "Fail to read Throughput capacity for the 1th time\n",
      "Scan 4: Finish for No.1 RPT cycles within 2 minutes, 58 seconds\n",
      "Scan 4: Finish post-process for No.1 RPT cycles within 995.523 ms\n"
     ]
    },
    {
     "name": "stderr",
     "output_type": "stream",
     "text": [
      "At t = 112.176 and h = 4.06871e-12, the corrector convergence failed repeatedly or with |h| = hmin.\n",
      "At t = 112.176 and h = 5.00582e-16, the corrector convergence failed repeatedly or with |h| = hmin.\n",
      "At t = 112.176 and h = 4.75449e-12, the corrector convergence failed repeatedly or with |h| = hmin.\n",
      "At t = 52.1763 and h = 7.404e-12, the corrector convergence failed repeatedly or with |h| = hmin.\n"
     ]
    },
    {
     "name": "stdout",
     "output_type": "stream",
     "text": [
      "Scan 4: Finish for No.1 ageing cycles within 1 minute, 4 seconds\n",
      "Scan 4: Finish post-process for No.2 ageing cycles within 224.065 ms\n"
     ]
    },
    {
     "name": "stderr",
     "output_type": "stream",
     "text": [
      "At t = 352.916 and h = 1.59518e-11, the corrector convergence failed repeatedly or with |h| = hmin.\n",
      "At t = 341.684 and h = 1.71422e-11, the corrector convergence failed repeatedly or with |h| = hmin.\n"
     ]
    },
    {
     "name": "stdout",
     "output_type": "stream",
     "text": [
      "Fail to read Throughput capacity for the 1th time\n",
      "Scan 4: Finish for No.2 RPT cycles within 2 minutes, 56 seconds\n",
      "Scan 4: Finish post-process for No.2 RPT cycles within 981.328 ms\n",
      "Scan 4: Getting extra variables within 280.200 us\n",
      "Scan 4: Finish all plots within 6.775 s\n",
      "Successfully create a excel file\n",
      "Scan 4: Successfully save json file!\n",
      "Scan 4: Successfully save mat file!\n",
      "Scan 4: Try saving within 38.929 ms\n",
      "Succeed doing something in 11 minutes, 17 seconds\n",
      "This is the end of No. 4  scan\n"
     ]
    }
   ],
   "source": [
    "# try more mesh points in r_n\n",
    "Para_dict_list[0][ 'Mesh list'] = '[5,5,5,100,20]'\n",
    "midc_merge_rn100,Sol_RPT_rn100,Sol_AGE_rn100,DeBug_Lists_rn100 = Run_P2_Excel (\n",
    "    Para_dict_list[0],BasicPath, Path_NiallDMA, \n",
    "    purpose,    Exp_pack, keys_all,dpi,fs,\n",
    "    Runshort,   Plot_Exp,Timeout, Timelimit,\n",
    "    Return_Sol, Check_Small_Time, R_from_GITT,Add_Rest,\n",
    ") "
   ]
  },
  {
   "cell_type": "code",
   "execution_count": 32,
   "metadata": {},
   "outputs": [
    {
     "name": "stdout",
     "output_type": "stream",
     "text": [
      "Start Now! Scan 4.\n",
      "Has Overwritten Initial outer SEI thickness [m] to be 6.73e-09 and Negative electrode porosity to be 0.235 to account for initial capacity loss of 0.135 Ah\n",
      "Scan 4: DryOut = On\n",
      "Initial electrolyte amount is  5.759780286600199 mL\n",
      "Scan 4: Spent 986.700 us on Initialization\n"
     ]
    },
    {
     "name": "stderr",
     "output_type": "stream",
     "text": [
      "At t = 348.927 and h = 1.69803e-11, the corrector convergence failed repeatedly or with |h| = hmin.\n"
     ]
    },
    {
     "name": "stdout",
     "output_type": "stream",
     "text": [
      "Scan 4: Finish break-in cycle within 4 minutes, 43 seconds\n",
      "Fail to read Throughput capacity for the 1th time\n",
      "Scan 4: Finish post-process for break-in cycle within 2.101 s\n",
      "Electrolyte is being squeezed out, check plated lithium (active and dead)\n"
     ]
    },
    {
     "name": "stderr",
     "output_type": "stream",
     "text": [
      "At t = 122.243 and h = 9.82632e-12, the corrector convergence failed repeatedly or with |h| = hmin.\n",
      "At t = 122.243 and h = 2.8826e-15, the corrector convergence failed repeatedly or with |h| = hmin.\n"
     ]
    },
    {
     "name": "stdout",
     "output_type": "stream",
     "text": [
      "Scan 4: Finish for No.0 ageing cycles within 1 minute, 37 seconds\n",
      "Scan 4: Finish post-process for No.1 ageing cycles within 361.016 ms\n"
     ]
    },
    {
     "name": "stderr",
     "output_type": "stream",
     "text": [
      "At t = 356.247 and h = 2.20635e-11, the corrector convergence failed repeatedly or with |h| = hmin.\n",
      "At t = 344.974 and h = 6.51014e-12, the corrector convergence failed repeatedly or with |h| = hmin.\n"
     ]
    },
    {
     "name": "stdout",
     "output_type": "stream",
     "text": [
      "Fail to read Throughput capacity for the 1th time\n",
      "Scan 4: Finish for No.1 RPT cycles within 4 minutes, 41 seconds\n",
      "Scan 4: Finish post-process for No.1 RPT cycles within 1.275 s\n"
     ]
    },
    {
     "name": "stderr",
     "output_type": "stream",
     "text": [
      "At t = 111.623 and h = 1.53588e-14, the corrector convergence failed repeatedly or with |h| = hmin.\n",
      "At t = 111.624 and h = 1.07224e-11, the corrector convergence failed repeatedly or with |h| = hmin.\n",
      "At t = 111.623 and h = 1.15448e-11, the corrector convergence failed repeatedly or with |h| = hmin.\n",
      "At t = 51.6236 and h = 5.61797e-12, the corrector convergence failed repeatedly or with |h| = hmin.\n"
     ]
    },
    {
     "name": "stdout",
     "output_type": "stream",
     "text": [
      "Scan 4: Finish for No.1 ageing cycles within 1 minute, 44 seconds\n",
      "Scan 4: Finish post-process for No.2 ageing cycles within 337.690 ms\n"
     ]
    },
    {
     "name": "stderr",
     "output_type": "stream",
     "text": [
      "At t = 352.33 and h = 1.05182e-11, the corrector convergence failed repeatedly or with |h| = hmin.\n",
      "At t = 341.107 and h = 1.87964e-11, the corrector convergence failed repeatedly or with |h| = hmin.\n"
     ]
    },
    {
     "name": "stdout",
     "output_type": "stream",
     "text": [
      "Fail to read Throughput capacity for the 1th time\n",
      "Scan 4: Finish for No.2 RPT cycles within 4 minutes, 54 seconds\n",
      "Scan 4: Finish post-process for No.2 RPT cycles within 1.313 s\n",
      "Scan 4: Getting extra variables within 164.800 us\n",
      "Scan 4: Finish all plots within 7.214 s\n",
      "Successfully create a excel file\n",
      "Scan 4: Successfully save json file!\n",
      "Scan 4: Successfully save mat file!\n",
      "Scan 4: Try saving within 29.077 ms\n",
      "Succeed doing something in 17 minutes, 52 seconds\n",
      "This is the end of No. 4  scan\n"
     ]
    }
   ],
   "source": [
    "Para_dict_list[0][ 'Mesh list'] = '[5,5,5,150,20]'\n",
    "midc_merge_rn200,Sol_RPT_rn200,Sol_AGE_rn200,DeBug_Lists_rn200 = Run_P2_Excel (\n",
    "    Para_dict_list[0],BasicPath, Path_NiallDMA, \n",
    "    purpose,    Exp_pack, keys_all,dpi,fs,\n",
    "    Runshort,   Plot_Exp,Timeout, Timelimit,\n",
    "    Return_Sol, Check_Small_Time, R_from_GITT,Add_Rest,\n",
    ") "
   ]
  },
  {
   "cell_type": "markdown",
   "metadata": {},
   "source": [
    "### debug part"
   ]
  },
  {
   "cell_type": "code",
   "execution_count": 33,
   "metadata": {},
   "outputs": [
    {
     "data": {
      "image/png": "[encoded data removed]",
      "text/plain": [
       "<Figure size 1600x500 with 3 Axes>"
      ]
     },
     "metadata": {},
     "output_type": "display_data"
    },
    {
     "data": {
      "image/png": "[encoded data removed]",
      "text/plain": [
       "<Figure size 1600x500 with 3 Axes>"
      ]
     },
     "metadata": {},
     "output_type": "display_data"
    }
   ],
   "source": [
    "def Plot_compare_sols(Fig_title,key):\n",
    "    fig, Axs = plt.subplots(1,3, figsize=(16,5),tight_layout=True)\n",
    "    Titles = [\"r_n = 60\", \"r_n = 100\", \"r_n = 150\"]\n",
    "    for i in range(3):\n",
    "        axs = Axs[i]\n",
    "        axs.plot(\n",
    "            Sol_AGE[1].cycles[0][\"Time [h]\"].entries,\n",
    "            Sol_AGE[1].cycles[0][key].entries, \n",
    "            color='b',   linestyle='-',marker = 'o',\n",
    "            label=Titles[0])\n",
    "\n",
    "        axs.plot(\n",
    "            Sol_AGE_rn100[1].cycles[0][\"Time [h]\"].entries,\n",
    "            Sol_AGE_rn100[1].cycles[0][key].entries, \n",
    "            color='r',   linestyle='-',marker = '>',\n",
    "            label=Titles[1])\n",
    "        \n",
    "        axs.plot(\n",
    "            Sol_AGE_rn200[1].cycles[0][\"Time [h]\"].entries,\n",
    "            Sol_AGE_rn200[1].cycles[0][key].entries, \n",
    "            color='k',   linestyle='--',marker = '*',\n",
    "            label=Titles[2])\n",
    "        axs.set_xlabel(\"Time / h\")\n",
    "        \n",
    "    Axs[0].set_xlim(0,4)\n",
    "    Axs[1].set_xlim(0.8,1.15)\n",
    "    \n",
    "    Axs[2].set_xlim(0.9,0.95)\n",
    "    \n",
    "    Axs[0].legend(prop={'family':'DejaVu Sans','size':fs+4},\n",
    "            frameon=False,markerscale=1,borderpad=0.2,\n",
    "            handlelength=1.5,columnspacing=1)\n",
    "    #axs.set_ylim(2.45,3.7)\n",
    "    Axs[0].set_ylabel(\"Voltage / V\")\n",
    "    Axs[0].set_title(\"Big picture\")\n",
    "    Axs[1].set_title(\"Zoom in\")\n",
    "    Axs[2].set_title(\"Further zoom in\")\n",
    "    fig.suptitle(Fig_title, fontsize=fs+10)\n",
    "    #Axs[1].set_ylim(2.45,3.6)\n",
    "    #Axs[2].set_ylim(2.45,3.6)\n",
    "    return \n",
    "\n",
    "Plot_compare_sols(\n",
    "    \"Neg particle overpotential\"    ,\n",
    "    \"Battery negative particle concentration overpotential [V]\"      )\n",
    "Plot_compare_sols(\n",
    "    \"V_cell\"    ,\n",
    "    \"Terminal voltage [V]\"      )"
   ]
  },
  {
   "cell_type": "code",
   "execution_count": 17,
   "metadata": {},
   "outputs": [
    {
     "ename": "ValueError",
     "evalue": "not enough values to unpack (expected 16, got 5)",
     "output_type": "error",
     "traceback": [
      "\u001b[0;31m---------------------------------------------------------------------------\u001b[0m",
      "\u001b[0;31mValueError\u001b[0m                                Traceback (most recent call last)",
      "\u001b[1;32m/home/ruihe_li/EnvPBGEM_Linux/PyBaMM-GEM/wip/Rio_Code/Reservoir/Base_reservoir_1.ipynb Cell 9\u001b[0m line \u001b[0;36m2\n\u001b[1;32m      <a href='vscode-notebook-cell://wsl%2Bubuntu-22.04/home/ruihe_li/EnvPBGEM_Linux/PyBaMM-GEM/wip/Rio_Code/Reservoir/Base_reservoir_1.ipynb#X11sdnNjb2RlLXJlbW90ZQ%3D%3D?line=0'>1</a>\u001b[0m [DeBug_List_RPT,DeBug_List_AGE] \u001b[39m=\u001b[39m DeBug_Lists\n\u001b[0;32m----> <a href='vscode-notebook-cell://wsl%2Bubuntu-22.04/home/ruihe_li/EnvPBGEM_Linux/PyBaMM-GEM/wip/Rio_Code/Reservoir/Base_reservoir_1.ipynb#X11sdnNjb2RlLXJlbW90ZQ%3D%3D?line=1'>2</a>\u001b[0m [\n\u001b[1;32m      <a href='vscode-notebook-cell://wsl%2Bubuntu-22.04/home/ruihe_li/EnvPBGEM_Linux/PyBaMM-GEM/wip/Rio_Code/Reservoir/Base_reservoir_1.ipynb#X11sdnNjb2RlLXJlbW90ZQ%3D%3D?line=2'>3</a>\u001b[0m     Model, Model_new, Call_RPT, Simnew,   Sol , Sol_new, Para_update, ModelExperiment, \n\u001b[1;32m      <a href='vscode-notebook-cell://wsl%2Bubuntu-22.04/home/ruihe_li/EnvPBGEM_Linux/PyBaMM-GEM/wip/Rio_Code/Reservoir/Base_reservoir_1.ipynb#X11sdnNjb2RlLXJlbW90ZQ%3D%3D?line=3'>4</a>\u001b[0m     Update_Cycles,Temper_i ,mesh_list,submesh_strech, var_pts,\n\u001b[1;32m      <a href='vscode-notebook-cell://wsl%2Bubuntu-22.04/home/ruihe_li/EnvPBGEM_Linux/PyBaMM-GEM/wip/Rio_Code/Reservoir/Base_reservoir_1.ipynb#X11sdnNjb2RlLXJlbW90ZQ%3D%3D?line=4'>5</a>\u001b[0m     submesh_types,  list_short, dict_short, \n\u001b[1;32m      <a href='vscode-notebook-cell://wsl%2Bubuntu-22.04/home/ruihe_li/EnvPBGEM_Linux/PyBaMM-GEM/wip/Rio_Code/Reservoir/Base_reservoir_1.ipynb#X11sdnNjb2RlLXJlbW90ZQ%3D%3D?line=5'>6</a>\u001b[0m ] \u001b[39m=\u001b[39m DeBug_List_AGE\n",
      "\u001b[0;31mValueError\u001b[0m: not enough values to unpack (expected 16, got 5)"
     ]
    }
   ],
   "source": [
    "[DeBug_List_RPT,DeBug_List_AGE] = DeBug_Lists\n",
    "[\n",
    "    Model, Model_new, Call_RPT, Simnew,   Sol , Sol_new, Para_update, ModelExperiment, \n",
    "    Update_Cycles,Temper_i ,mesh_list,submesh_strech, var_pts,\n",
    "    submesh_types,  list_short, dict_short, \n",
    "] = DeBug_List_AGE"
   ]
  },
  {
   "cell_type": "code",
   "execution_count": null,
   "metadata": {},
   "outputs": [],
   "source": [
    "class RioCallback(pb.callbacks.Callback):\n",
    "    def __init__(self, logfile=None):\n",
    "        self.logfile = logfile\n",
    "        self.success  = True\n",
    "        if logfile is None:\n",
    "            # Use pybamm's logger, which prints to command line\n",
    "            self.logger = pb.logger\n",
    "        else:\n",
    "            # Use a custom logger, this will have its own level so set it to the same\n",
    "            # level as the pybamm logger (users can override this)\n",
    "            self.logger = pb.get_new_logger(__name__, logfile)\n",
    "            self.logger.setLevel(pb.logger.level)\n",
    "    \n",
    "    def on_experiment_error(self, logs):\n",
    "        self.success  = False\n",
    "    def on_experiment_infeasible(self, logs):\n",
    "        self.success  = False\n",
    "Call_Age = RioCallback()  \n",
    "Simnew_2 = pb.Simulation(\n",
    "    Model_new,\n",
    "    experiment = ModelExperiment, \n",
    "    parameter_values=Para_update, \n",
    "    solver = pb.CasadiSolver(return_solution_if_failed_early=True),\n",
    "    var_pts = var_pts,\n",
    "    submesh_types=submesh_types\n",
    ")\n",
    "Sol_new_2 = Simnew_2.solve(\n",
    "    calc_esoh=False,\n",
    "    save_at_cycles = Update_Cycles,\n",
    "    callbacks=Call_Age,)"
   ]
  },
  {
   "cell_type": "code",
   "execution_count": null,
   "metadata": {},
   "outputs": [],
   "source": [
    "exp_AGE_text_3 = [(\n",
    "    \"Discharge at 1C until 2.6V\", \n",
    "    \"Discharge at 1C until 2.5V (3 seconds period)\", \n",
    "    \"Charge at 0.3C until 3.3V (3 seconds period)\",\n",
    "    \"Charge at 0.3C until 4.2V\",\n",
    "    \"Hold at 4.2 V until C/100\",\n",
    "    ),  ]  # *  78\n",
    "Experiment_Long_3   = pb.Experiment( exp_AGE_text_3 * Update_Cycles  )  \n",
    "Simnew_3 = pb.Simulation(\n",
    "    Model_new,\n",
    "    experiment = Experiment_Long_3, \n",
    "    parameter_values=Para_update, \n",
    "    solver = pb.CasadiSolver(return_solution_if_failed_early=True),\n",
    "    var_pts = var_pts,\n",
    "    submesh_types=submesh_types\n",
    ")\n",
    "Sol_new_3 = Simnew_3.solve(\n",
    "    calc_esoh=False,\n",
    "    save_at_cycles = Update_Cycles,\n",
    "    callbacks=Call_Age,)"
   ]
  },
  {
   "cell_type": "code",
   "execution_count": null,
   "metadata": {},
   "outputs": [],
   "source": [
    "def Run_Model_Base_On_Last_Solution_part(Sol_new,Sol,Update_Cycles,Call_Age):\n",
    "    i_try = 0\n",
    "    while i_try<3:\n",
    "        try:\n",
    "            getSth2 = Sol_new['Throughput capacity [A.h]'].entries[-1]\n",
    "        except:\n",
    "            i_try += 1\n",
    "            print(f\"Fail to read Throughput capacity for the {i_try}th time\")\n",
    "        else:\n",
    "            break\n",
    "    i_try = 0\n",
    "    while i_try<3:\n",
    "        try:\n",
    "            getSth = Sol['Throughput capacity [A.h]'].entries[-1]\n",
    "        except:\n",
    "            i_try += 1\n",
    "            print(f\"Fail to read Throughput capacity for the {i_try}th time\")\n",
    "        else:\n",
    "            break\n",
    "    # update 23-11-16 change method to get throughput capacity:\n",
    "    # # (1) add old ones, as before; (2): change values of the last one\n",
    "    Sol_new['Throughput capacity [A.h]'].entries += getSth\n",
    "    if not Update_Cycles == 1: # the solution is imcomplete in this case\n",
    "        cyc_number = len(Sol_new.cycles)\n",
    "        thr_1st = np.trapz(\n",
    "            abs(Sol_new.cycles[0][\"Current [A]\"].entries), \n",
    "            Sol_new.cycles[0][\"Time [h]\"].entries) # in A.h\n",
    "        thr_end = np.trapz(\n",
    "            abs(Sol_new.cycles[-1][\"Current [A]\"].entries), \n",
    "            Sol_new.cycles[-1][\"Time [h]\"].entries) # in A.h\n",
    "        thr_tot = (thr_1st+thr_end) / 2 * cyc_number\n",
    "    else:\n",
    "        thr_tot = abs(\n",
    "            Sol_new['Throughput capacity [A.h]'].entries[-1] - \n",
    "            Sol_new['Throughput capacity [A.h]'].entries[0]  )\n",
    "    Sol_new['Throughput capacity [A.h]'].entries[-1] = getSth + thr_tot # only the last one is true\n",
    "    DeBug_List = \"Empty\"\n",
    "    Result_list = [Model_new, Sol_new,Call_Age,DeBug_List]\n",
    "    return Result_list\n",
    "Result_list_AGE_2 = Run_Model_Base_On_Last_Solution_part(Sol_new_2,Sol,Update_Cycles,Call_Age)\n",
    "[Model_Dry_2, Sol_Dry_2 , Call_Age_2,DeBug_List_AGE_2 ] = Result_list_AGE_2\n"
   ]
  },
  {
   "cell_type": "code",
   "execution_count": null,
   "metadata": {},
   "outputs": [],
   "source": [
    "cyc_stp = Sol_new_2.cycles[77]\n",
    "fig, axs = plt.subplots(1,3, figsize=(12,3.2),tight_layout=True)\n",
    "axs[0].plot(\n",
    "    cyc_stp[\"Time [h]\"].entries - cyc_stp[\"Time [h]\"].entries[0],\n",
    "    cyc_stp[\"Terminal voltage [V]\"].entries, \"-o\",\n",
    "    label=\"Vol\")\n",
    "axs[0].set_xlim(0.7,0.8)\n",
    "axs[0].set_ylim(2.45,3.5)\n",
    "axs[1].plot(\n",
    "    cyc_stp[\"x [m]\"].entries[:,-1],\n",
    "    cyc_stp[\"Porosity\"].entries[:,-1],\n",
    "    label=\"Por\")\n",
    "# \"SEI interfacial current density [A.m-2]\"\n",
    "axs[2].plot(\n",
    "    cyc_stp[\"x_n [m]\"].entries[:,-1],\n",
    "    cyc_stp[\"SEI interfacial current density [A.m-2]\"].entries[:,-1],\n",
    "    label=\"j_SEI\")\n",
    "for i in range(3):\n",
    "    axs[i].legend()"
   ]
  },
  {
   "cell_type": "code",
   "execution_count": null,
   "metadata": {},
   "outputs": [],
   "source": [
    "print(Sol_new_2.cycles[77].steps[0][\"Time [s]\"].entries[-2:])\n",
    "print(Sol_new_2.cycles[77].steps[0][\"Terminal voltage [V]\"].entries[-2:])\n",
    "\n",
    "print(Sol_new_2.cycles[77].steps[1][\"Time [s]\"].entries[0:2])\n",
    "print(Sol_new_2.cycles[77].steps[1][\"Terminal voltage [V]\"].entries[0:2])\n",
    "\n",
    "# \n",
    "print(\n",
    "    Sol_new_2.cycles[77].steps[1][\"Time [s]\"].entries[0] - \n",
    "    Sol_new_2.cycles[77].steps[0][\"Time [s]\"].entries[-1])\n",
    "print(\n",
    "    Sol_new_2.cycles[77].steps[1][\"Terminal voltage [V]\"].entries[0] - \n",
    "    Sol_new_2.cycles[77].steps[0][\"Terminal voltage [V]\"].entries[-1])"
   ]
  },
  {
   "cell_type": "code",
   "execution_count": null,
   "metadata": {},
   "outputs": [],
   "source": [
    "\n",
    "var3 = [\n",
    "    \"Porosity\",\n",
    "    \"Electrolyte concentration [mol.m-3]\",\n",
    "    \"SEI interfacial current density [A.m-2]\",\n",
    "    \"Negative particle surface concentration [mol.m-3]\",\n",
    "    \n",
    "]\n",
    "quick_plot = pb.QuickPlot(Sol_new_2.cycles[-1], var3,variable_limits='tight') #     \n",
    "quick_plot.dynamic_plot();"
   ]
  },
  {
   "cell_type": "code",
   "execution_count": null,
   "metadata": {},
   "outputs": [],
   "source": [
    "plt.plot(midc_merge[\"Discharge capacity [A.h]\"],\"-o\") # Cyc_Update_Index\n",
    "#midc_merge[\"Cyc_Update_Index\"] \n",
    "print(midc_merge[\"Discharge capacity [A.h]\"][-2]/midc_merge[\"Discharge capacity [A.h]\"][0]*100)"
   ]
  },
  {
   "cell_type": "code",
   "execution_count": null,
   "metadata": {},
   "outputs": [],
   "source": [
    "# index_exp should be 1~5:\n",
    "index_exp = 1; Plot_Exp = \"haha\"\n",
    "if not index_exp in list(np.arange(1,6)):\n",
    "    Plot_Exp = False\n",
    "print(Plot_Exp)"
   ]
  },
  {
   "cell_type": "code",
   "execution_count": null,
   "metadata": {},
   "outputs": [],
   "source": [
    "np.diff(np.array(midc_merge['Throughput capacity [kA.h]'])*1e3)"
   ]
  },
  {
   "cell_type": "code",
   "execution_count": null,
   "metadata": {},
   "outputs": [],
   "source": [
    "plt.plot(Sol_RPT[1]['Throughput capacity [A.h]'].entries)"
   ]
  },
  {
   "cell_type": "code",
   "execution_count": null,
   "metadata": {},
   "outputs": [],
   "source": [
    "print(Sol_RPT[1]['Throughput capacity [A.h]'].entries  - Sol_RPT[1]['Throughput capacity [A.h]'].entries[0] )\n",
    "print(Sol_RPT[0]['Throughput capacity [A.h]'].entries  - Sol_RPT[0]['Throughput capacity [A.h]'].entries[0] )"
   ]
  },
  {
   "cell_type": "code",
   "execution_count": null,
   "metadata": {},
   "outputs": [],
   "source": [
    "\n",
    "# note: this is only precise for Exp-2, for Exp-3 there might be bigger issue.\n",
    "def Get_Throughput_cap(sol,save_as_cycle): \n",
    "    if save_as_cycle==1:\n",
    "        thr_tot = (\n",
    "            sol['Throughput capacity [A.h]'].entries[-1]\n",
    "            -sol['Throughput capacity [A.h]'].entries[0]) \n",
    "    else:\n",
    "        # Get average of first and last:\n",
    "        cyc_number = len(sol.cycles)\n",
    "        thr_1st = np.trapz(\n",
    "            abs(sol.cycles[0][\"Current [A]\"].entries), \n",
    "            sol.cycles[0][\"Time [h]\"].entries) # in A.h\n",
    "        thr_end = np.trapz(\n",
    "            abs(sol.cycles[-1][\"Current [A]\"].entries), \n",
    "            sol.cycles[-1][\"Time [h]\"].entries) # in A.h\n",
    "        thr_tot = (thr_1st+thr_end) / 2 * cyc_number\n",
    "        # print(thr_1st,thr_end,thr_tot)\n",
    "    return thr_tot\n",
    "Get_Throughput_cap(Sol_AGE[-1],516)"
   ]
  },
  {
   "cell_type": "code",
   "execution_count": null,
   "metadata": {},
   "outputs": [],
   "source": [
    "Get_Throughput_cap(Sol_RPT[0],1)\n",
    "Sol_RPT[0]['Throughput capacity [A.h]'].entries"
   ]
  },
  {
   "cell_type": "code",
   "execution_count": null,
   "metadata": {},
   "outputs": [],
   "source": [
    "Sol_AGE[0]['Throughput capacity [A.h]'].entries[-1] \n",
    "Sol_AGE[0]['Throughput capacity [A.h]'].entries[-1]  = 100\n",
    "Sol_AGE[0]['Throughput capacity [A.h]'].entries[-1] "
   ]
  },
  {
   "cell_type": "code",
   "execution_count": null,
   "metadata": {},
   "outputs": [],
   "source": [
    "plt.plot(Sol_RPT[0][\"Time [h]\"].entries)"
   ]
  },
  {
   "cell_type": "code",
   "execution_count": null,
   "metadata": {},
   "outputs": [],
   "source": [
    "\n",
    "fig, axs = plt.subplots(3,1,figsize=(6,10),tight_layout=True) \n",
    "axs[0].plot(Sol_RPT[1][\"Time [h]\"].entries,Sol_RPT[1][\"Terminal voltage [V]\"].entries,'-o')\n",
    "axs[1].plot(Sol_RPT[1][\"Time [h]\"].entries,Sol_RPT[1][\"Current [A]\"].entries,'-o')\n",
    "axs[2].plot(Sol_RPT[1][\"Time [h]\"].entries,Sol_RPT[1][\"Throughput capacity [A.h]\"].entries-Sol_RPT[1][\"Throughput capacity [A.h]\"].entries[0],'-o')"
   ]
  },
  {
   "cell_type": "code",
   "execution_count": null,
   "metadata": {},
   "outputs": [],
   "source": [
    "plt.plot(Sol_AGE[1][\"Time [h]\"].entries,Sol_AGE[0][\"Terminal voltage [V]\"].entries,'-o')"
   ]
  },
  {
   "cell_type": "code",
   "execution_count": null,
   "metadata": {},
   "outputs": [],
   "source": [
    "(0.7297365+0.5339990778626663)*516\n",
    "0.7297365*2*518\n",
    "print(len(Sol_AGE),len(Sol_RPT),)"
   ]
  },
  {
   "cell_type": "code",
   "execution_count": null,
   "metadata": {},
   "outputs": [],
   "source": [
    "def Plot_sol(sol):\n",
    "    # step-1: get and plot discharge capacity vs throughput capacity \n",
    "    fig, axs = plt.subplots( figsize=(6,4),tight_layout=True) \n",
    "    axs.plot(sol[\"Time [h]\"].entries,sol[\"Discharge capacity [A.h]\"].entries,'-o')\n",
    "    axs.plot(sol[\"Time [h]\"].entries,sol[\"Throughput capacity [A.h]\"].entries-sol[\"Throughput capacity [A.h]\"].entries[0],'-o')\n",
    "    thr_cap_1 = sol[\"Throughput capacity [A.h]\"].entries[-1]-sol[\"Throughput capacity [A.h]\"].entries[0]\n",
    "    thr_cap_2 = np.trapz(abs(sol[\"Current [A]\"].entries), sol[\"Time [h]\"].entries) # in A.h\n",
    "    print(thr_cap_1,thr_cap_2)\n",
    "    return thr_cap_1,thr_cap_2\n",
    "cap_acc = 0\n",
    "for i in range(2):\n",
    "    thr_cap_1,thr_cap_2 = Plot_sol(Sol_AGE[i])\n",
    "    cap_acc +=  thr_cap_1\n",
    "for i in range(3):\n",
    "    thr_cap_1,thr_cap_2 = Plot_sol(Sol_RPT[i])\n",
    "    cap_acc +=  thr_cap_1\n",
    "print(cap_acc)"
   ]
  },
  {
   "cell_type": "code",
   "execution_count": null,
   "metadata": {},
   "outputs": [],
   "source": [
    "thr_cap_1,thr_cap_2 = Plot_sol(Sol_AGE[0].cycles[0])\n",
    "thr_cap_3,thr_cap_4 = Plot_sol(Sol_AGE[0].cycles[-1])\n",
    "print((thr_cap_1+thr_cap_3)/2*516)"
   ]
  },
  {
   "cell_type": "code",
   "execution_count": null,
   "metadata": {},
   "outputs": [],
   "source": [
    "plt.plot(Sol_RPT[0][\"Time [h]\"].entries,Sol_RPT[0][\"Discharge capacity [A.h]\"].entries,'-o')\n",
    "plt.plot(Sol_RPT[1][\"Time [h]\"].entries,Sol_RPT[1][\"Discharge capacity [A.h]\"].entries,'--')\n",
    "plt.plot(Sol_RPT[2][\"Time [h]\"].entries,Sol_RPT[2][\"Discharge capacity [A.h]\"].entries,'--')"
   ]
  },
  {
   "cell_type": "code",
   "execution_count": null,
   "metadata": {},
   "outputs": [],
   "source": [
    "plt.plot(Sol_AGE[1][\"Time [h]\"].entries,Sol_AGE[0][\"Throughput capacity [A.h]\"].entries,'-o')"
   ]
  },
  {
   "cell_type": "code",
   "execution_count": null,
   "metadata": {},
   "outputs": [],
   "source": [
    "# Sol_0[0].cycles[-1][\"Negative electrode stoichiometry\"].entries\n",
    "#label = [\"Diff_Li_SEI = 1e-18\",\"Diff_Li_SEI = 1e-16\"] \n",
    "vars = [\n",
    "    \"Negative electrode stoichiometry\",\n",
    "    \"Positive electrode stoichiometry\",\n",
    "    \"SEI interfacial current density [A.m-2]\",\n",
    "    \"Negative particle surface concentration [mol.m-3]\",\n",
    "    \n",
    "]\n",
    "quick_plot = pb.QuickPlot(\n",
    "    Sol_0[0].cycles[-1], \n",
    "    vars,variable_limits='tight') #     \n",
    "quick_plot.dynamic_plot();"
   ]
  },
  {
   "cell_type": "code",
   "execution_count": null,
   "metadata": {},
   "outputs": [],
   "source": [
    "Sol_0[-2].cycles"
   ]
  },
  {
   "cell_type": "code",
   "execution_count": null,
   "metadata": {},
   "outputs": [],
   "source": [
    "vars = [\n",
    "    \"Negative electrode stoichiometry\",\n",
    "    \"Positive electrode stoichiometry\",\n",
    "    \"SEI interfacial current density [A.m-2]\",\n",
    "    \"Negative particle surface concentration [mol.m-3]\",\n",
    "    \n",
    "]\n",
    "quick_plot = pb.QuickPlot(\n",
    "    Sol_0[-1].cycles[0], \n",
    "    vars,variable_limits='tight') #     \n",
    "quick_plot.dynamic_plot();"
   ]
  }
 ],
 "metadata": {
  "kernelspec": {
   "display_name": "EnvPB_Linux",
   "language": "python",
   "name": "python3"
  },
  "language_info": {
   "codemirror_mode": {
    "name": "ipython",
    "version": 3
   },
   "file_extension": ".py",
   "mimetype": "text/x-python",
   "name": "python",
   "nbconvert_exporter": "python",
   "pygments_lexer": "ipython3",
   "version": "3.10.6"
  },
  "orig_nbformat": 4
 },
 "nbformat": 4,
 "nbformat_minor": 2
}
