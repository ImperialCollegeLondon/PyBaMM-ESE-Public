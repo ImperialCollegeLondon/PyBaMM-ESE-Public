{
 "cells": [
  {
   "cell_type": "markdown",
   "metadata": {},
   "source": [
    "## Add: Run model for 3 times; save snapshot of the place where error occurs --> how big should the Debug_list and Debug_list.json be enough? --> see below, pickle save model will cause problems. figures out Even though pybamm can theoretically skip in-appropriate experimental steps, may sometimes cause experiment error, should avoid that whenever possible!"
   ]
  },
  {
   "cell_type": "markdown",
   "metadata": {},
   "source": [
    "## Don't rename! Don't delete the output of the cells! "
   ]
  },
  {
   "cell_type": "markdown",
   "metadata": {},
   "source": [
    "### 1st step: change initial capacity loss (to 1.5Ah) and therefore neg porosity"
   ]
  },
  {
   "cell_type": "code",
   "execution_count": 1,
   "metadata": {},
   "outputs": [],
   "source": [
    "# magic lines that avoid re-start \n",
    "%load_ext autoreload\n",
    "%autoreload 2\n",
    "import pybamm as pb;import pandas as pd;import numpy as np;\n",
    "import os, json,openpyxl,traceback,multiprocessing,scipy.optimize,sys\n",
    "import matplotlib.pyplot as plt;\n",
    "import imageio,timeit,random,time, signal\n",
    "from scipy.io import savemat,loadmat;\n",
    "from pybamm import constants,exp;import matplotlib as mpl"
   ]
  },
  {
   "cell_type": "code",
   "execution_count": 2,
   "metadata": {},
   "outputs": [
    {
     "name": "stdout",
     "output_type": "stream",
     "text": [
      "Total scan case is 1\n"
     ]
    }
   ],
   "source": [
    "########################     Global settings!!!\n",
    "rows_per_file = 1;  Scan_end_end = 6;\n",
    "purpose_i = \"Full_Exp_9_3Ts_wRest\" # don't overwrite Full_Exp_9_3Ts_2_Case_1_1 as another restart notebook need its output!\n",
    "\n",
    "On_HPC =  False  \n",
    "Runshort  =   True                    # a long run or a quick test\n",
    "Add_Rest = False\n",
    "\n",
    "\n",
    "if On_HPC:\n",
    "    i_bundle = int(os.environ[\"PBS_ARRAY_INDEX\"])\n",
    "else:\n",
    "    i_bundle = 1; # manually specify\n",
    "Scan_start = (i_bundle-1)*rows_per_file+1;    \n",
    "Scan_end   = min(Scan_start + rows_per_file-1, Scan_end_end)    \n",
    "purpose = f\"{purpose_i}_Case_{Scan_start}_{Scan_end}\"\n",
    "# interpetation: Simnon suggested, with cracking activation, heat transfer\n",
    "para_csv = f\"Bundle_{i_bundle}.csv\"  # name of the random file to get parameters\n",
    "\n",
    "\n",
    "if On_HPC:                          # Run on HPC\n",
    "    Path_csv = f\"InputData/{purpose_i}/\" \n",
    "    Path_NiallDMA = \"InputData/\" \n",
    "    BasicPath=os.getcwd() \n",
    "    Para_file = Path_csv +  para_csv\n",
    "else:\n",
    "    import sys  \n",
    "    str_path_0 = os.path.abspath(os.path.join(pb.__path__[0],'..'))\n",
    "    str_path_1 = os.path.abspath(\n",
    "        os.path.join(str_path_0,\"wip/Rio_Code/Fun_P2\"))\n",
    "    sys.path.append(str_path_1) \n",
    "    Path_NiallDMA = os.path.expanduser(\n",
    "        \"~/EnvPBGEM_Linux/SimSave/InputData/\") # for Linux\n",
    "    BasicPath =  os.path.expanduser(\n",
    "        \"~/EnvPBGEM_Linux/SimSave/P2_R9_Dim\")\n",
    "    Para_file = BasicPath+f'/Get_Random_sets2/{purpose_i}/'+para_csv\n",
    "    \n",
    "if not os.path.exists(BasicPath +\"/\"+ purpose):\n",
    "    os.mkdir(BasicPath +\"/\"+ purpose);\n",
    "# import all functions \n",
    "from Fun_P2 import * \n",
    "\n",
    "# Load the random file\n",
    "parameter_names, combinations = load_combinations_from_csv(Para_file)\n",
    "\n",
    "\n",
    "pool_no = len(combinations)\n",
    "Indexs  = np.arange(Scan_start-1,Scan_end)\n",
    "index_list = Indexs+1\n",
    "\"\"\" para_dict_Same = {\n",
    "   \"Total ageing cycles\":int(tot_cyc), # \n",
    "   \"Ageing cycles between RPT\":int(cyc_age), # \n",
    "   \"Update cycles for ageing\": int(cyc_age),\n",
    "} \"\"\"\n",
    "# Get all para\n",
    "Para_dict_list = []\n",
    "# get all dictionaries\n",
    "for combination in combinations:\n",
    "    input_dict = {}\n",
    "    for parameter_name,para_value in zip(parameter_names,combination ):\n",
    "        input_dict[parameter_name] = para_value\n",
    "    Para_dict_list.append(input_dict)\n",
    "print(f\"Total scan case is {len(Para_dict_list)}\")"
   ]
  },
  {
   "cell_type": "code",
   "execution_count": 3,
   "metadata": {},
   "outputs": [
    {
     "name": "stdout",
     "output_type": "stream",
     "text": [
      "Successfully create a excel file\n"
     ]
    }
   ],
   "source": [
    "# define global index and dict for all experiment data - prepare for read!\n",
    "Exp_Path = [\n",
    "    \"Expt 1 - Si-based Degradation/\",\n",
    "    \"Expt 2,2 - C-based Degradation 2/\",\n",
    "    \"Expt 3 - Cathode Degradation and Li-Plating/\",\n",
    "    \"Expt 4 - Drive Cycle Aging (Control)/\",\n",
    "    \"Expt 5 - Standard Cycle Aging (Control)/\",]\n",
    "Exp_head = [\n",
    "    \"Expt 1\",\n",
    "    \"Expt 2,2\",\n",
    "    \"Expt 3\",\n",
    "    \"Expt 4\",\n",
    "    \"Expt 5\",]\n",
    "Exp_1_Cell = [\"A\",\"B\",\"J\",\"D\",\"E\",\"F\",\"K\",\"L\",\"M\"];\n",
    "Exp_1_Temp = {\n",
    "    \"A\":\"10\",\"B\":\"10\",\"J\":\"10\",\n",
    "    \"D\":\"25\",\"E\":\"25\",\"F\":\"25\",\n",
    "    \"K\":\"40\",\"L\":\"40\",\"M\":\"40\",}\n",
    "Temp_Cell_Exp_1 = {\n",
    "    \"10\":[\"A\",\"B\",\"J\"],\n",
    "    \"25\":[\"D\",\"E\",\"F\"],\n",
    "    \"40\":[\"K\",\"L\",\"M\"],}\n",
    "Exp_2_Cell = [\"A\",\"B\",\"C\",\"D\",\"E\",\"F\"];\n",
    "Exp_2_Temp = {\n",
    "    \"A\":\"10\",\"B\":\"10\",\n",
    "    \"C\":\"25\",\"D\":\"25\",\n",
    "    \"E\":\"40\",\"F\":\"40\",}\n",
    "Temp_Cell_Exp_2 = {\n",
    "    \"10\":[\"A\",\"B\"],\n",
    "    \"25\":[\"C\",\"D\"],\n",
    "    \"40\":[\"E\",\"F\"],}\n",
    "Exp_3_Cell = [\"A\",\"B\",\"C\",\"D\",\"E\",\"F\",\"G\",\"H\",\"I\"];\n",
    "Exp_3_Temp = {\n",
    "    \"A\":\"10\",\"B\":\"10\",\"C\":\"10\",\n",
    "    \"D\":\"25\",\"E\":\"25\",\"F\":\"25\",\n",
    "    \"G\":\"40\",\"H\":\"40\",\"I\":\"40\"}\n",
    "Temp_Cell_Exp_3 = {\n",
    "    \"10\":[\"A\",\"B\",\"C\"],\n",
    "    \"25\":[\"D\",\"E\",\"F\"],\n",
    "    \"40\":[\"G\",\"H\",\"I\"],}\n",
    "Exp_4_Cell = [\"A\",\"B\",\"C\",\"D\",\"E\",\"F\",\"G\",\"H\"];\n",
    "Exp_4_Temp = {\n",
    "    \"A\":\"10\",\"B\":\"10\",\"C\":\"10\",\n",
    "    \"D\":\"25\",\"E\":\"25\",\n",
    "    \"F\":\"40\",\"G\":\"40\",\"H\":\"40\",}\n",
    "Temp_Cell_Exp_4 = {\n",
    "    \"10\":[\"A\",\"B\",\"C\"],\n",
    "    \"25\":[\"D\",\"E\",],\n",
    "    \"40\":[\"F\",\"G\",\"H\"],}\n",
    "Exp_5_Cell = [\"A\",\"B\",\"C\",\"D\",\"E\",\"F\",\"G\",\"H\"];\n",
    "Exp_5_Temp = {\n",
    "    \"A\":\"10\",\"B\":\"10\",\"C\":\"10\",\n",
    "    \"D\":\"25\",\"E\":\"25\",\n",
    "    \"F\":\"40\",\"G\":\"40\",\"H\":\"40\",}\n",
    "Temp_Cell_Exp_5 = {\n",
    "    \"10\":[\"A\",\"B\",\"C\"],\n",
    "    \"25\":[\"D\",\"E\",],\n",
    "    \"40\":[\"F\",\"G\",\"H\"],}\n",
    "Exp_All_Cell  = [Exp_1_Cell,Exp_2_Cell,Exp_3_Cell,Exp_4_Cell,Exp_5_Cell]\n",
    "Exp_Temp_Cell = [Exp_1_Temp,Exp_2_Temp,Exp_3_Temp,Exp_4_Temp,Exp_5_Temp]\n",
    "Temp_Cell_Exp_All = [Temp_Cell_Exp_1,Temp_Cell_Exp_2,Temp_Cell_Exp_3,Temp_Cell_Exp_4,Temp_Cell_Exp_5]\n",
    "Mark_Cell_All = [\n",
    "    {\n",
    "    \"A\":\"o\",\"B\":\">\",\"J\":\"v\",\n",
    "    \"D\":\"o\",\"E\":\">\",\"F\":\"v\",\n",
    "    \"K\":\"o\",\"L\":\">\",\"M\":\"v\",},\n",
    "    {\n",
    "    \"A\":\"10\",\"B\":\"10\",\n",
    "    \"C\":\"25\",\"D\":\"25\",\n",
    "    \"E\":\"40\",\"F\":\"40\",},\n",
    "    {\n",
    "    \"A\":\"o\",\"B\":\">\",\"C\":\"v\",\n",
    "    \"D\":\"o\",\"E\":\">\",\"F\":\"v\",\n",
    "    \"G\":\"o\",\"H\":\">\",\"I\":\"v\",},\n",
    "    {\n",
    "    \"A\":\"o\",\"B\":\">\",\"C\":\"v\",\n",
    "    \"D\":\"o\",\"E\":\">\",\n",
    "    \"F\":\"o\",\"G\":\">\",\"H\":\"v\",},\n",
    "    {\n",
    "    \"A\":\"o\",\"B\":\">\",\"C\":\"v\",\n",
    "    \"D\":\"o\",\"E\":\">\",\n",
    "    \"F\":\"o\",\"G\":\">\",\"H\":\"v\",}]\n",
    "Color_Cell_All = [\n",
    "    {\n",
    "    \"A\":[2/255, 3/255, 226/255,0.7],\"B\":[2/255, 3/255, 226/255,0.7],\"J\":[2/255, 3/255, 226/255,0.7],\n",
    "    \"D\":[0, 0, 0,0.7],\"E\":[0, 0, 0,0.7],\"F\":[0, 0, 0,0.7],\n",
    "    \"K\":[1,0,0,0.4],\"L\":[1,0,0,0.4],\"M\":[1,0,0,0.4],},\n",
    "    {\n",
    "    \"A\":[2/255, 3/255, 226/255,0.7],\"B\":[2/255, 3/255, 226/255,0.7],\n",
    "    \"D\":[0, 0, 0,0.7],\"C\":[0, 0, 0,0.7],\n",
    "    \"E\":[1,0,0,0.4],\"F\":[1,0,0,0.4],},\n",
    "    {\n",
    "    \"A\":[2/255, 3/255, 226/255,0.7],\"B\":[2/255, 3/255, 226/255,0.7],\"C\":[2/255, 3/255, 226/255,0.7],\n",
    "    \"D\":[0, 0, 0,0.7],\"E\":[0, 0, 0,0.7],\"F\":[0, 0, 0,0.7],\n",
    "    \"G\":[1,0,0,0.4],\"H\":[1,0,0,0.4],\"I\":[1,0,0,0.4],},\n",
    "    {\n",
    "    \"A\":[2/255, 3/255, 226/255,0.7],\"B\":[2/255, 3/255, 226/255,0.7],\"C\":[2/255, 3/255, 226/255,0.7],\n",
    "    \"D\":[0, 0, 0,0.7],\"E\":[0, 0, 0,0.7],\n",
    "    \"F\":[1,0,0,0.4],\"G\":[1,0,0,0.4],\"H\":[1,0,0,0.4],},\n",
    "    {\n",
    "    \"A\":[2/255, 3/255, 226/255,0.7],\"B\":[2/255, 3/255, 226/255,0.7],\"C\":[2/255, 3/255, 226/255,0.7],\n",
    "    \"D\":[0, 0, 0,0.7],\"E\":[0, 0, 0,0.7],\n",
    "    \"F\":[1,0,0,0.4],\"G\":[1,0,0,0.4],\"H\":[1,0,0,0.4],}]\n",
    "# Update 23-06-17 \n",
    "#   para=\"Total heat transfer coefficient [W.m-2.K-1]\";\n",
    "#   output=\"Volume-averaged cell temperature [C]\"\n",
    "########################  Output  ########################\n",
    "keys_loc_RPT = [ # MAY WANT TO SELECT AGEING CYCLE later\n",
    "    # Default output:\n",
    "    \"x [m]\",\n",
    "    \"x_n [m]\",\n",
    "    \"x_s [m]\",\n",
    "    \"x_p [m]\",\n",
    "    # default: end; \n",
    "    \"CCend Porosity\",\n",
    "    \"CCend Negative electrode interfacial current density [A.m-2]\",\n",
    "    \"CCend Electrolyte potential [V]\",\n",
    "    \"CCend Electrolyte concentration [mol.m-3]\",\n",
    "    \"CCend Negative electrode reaction overpotential [V]\",\n",
    "    \"CCend Negative particle surface concentration [mol.m-3]\",\n",
    "    #\"CCend Negative electrode roughness ratio\",\n",
    "    #\"CCend Total SEI on cracks thickness [m]\",\n",
    "\n",
    "    \"CDend Porosity\",\n",
    "    \"CDend Negative electrode interfacial current density [A.m-2]\",\n",
    "    \"CDend Electrolyte potential [V]\",\n",
    "    \"CDend Electrolyte concentration [mol.m-3]\",\n",
    "    \"CDend Negative electrode reaction overpotential [V]\",\n",
    "    \"CDend Negative particle surface concentration [mol.m-3]\",\n",
    "    #\"CDend Negative electrode roughness ratio\",\n",
    "    #\"CDend Total SEI on cracks thickness [m]\",\n",
    "    #\"REend Total SEI on cracks thickness [m]\",\n",
    "]\n",
    "keys_tim_RPT = [\n",
    "    # default: CD\n",
    "    \"CD Time [h]\",\n",
    "    \"CD Terminal voltage [V]\",\n",
    "    \"CD Anode potential [V]\",    # self defined\n",
    "    \"CD Cathode potential [V]\",  # self defined\n",
    "    \"CC Time [h]\",\n",
    "    \"CC Terminal voltage [V]\",\n",
    "    \"CC Anode potential [V]\",    # self defined\n",
    "    \"CC Cathode potential [V]\",  # self defined\n",
    "]\n",
    "keys_cyc_RPT = [   # default: CDend\n",
    "    \"Discharge capacity [A.h]\",\n",
    "    \"Throughput capacity [A.h]\",\n",
    "    \"CDend Total lithium capacity in particles [A.h]\",\n",
    "    \"CDend Loss of capacity to lithium plating [A.h]\",\n",
    "    \"CDend Loss of capacity to SEI [A.h]\",\n",
    "    \"CDend Loss of capacity to SEI on cracks [A.h]\",\n",
    "    #\"CDend X-averaged total SEI on cracks thickness [m]\",\n",
    "    #\"CDend X-averaged negative electrode roughness ratio\",\n",
    "    \"CDend Local ECM resistance [Ohm]\",\n",
    "    \"CDsta Negative electrode stoichiometry\", \n",
    "    \"CDend Negative electrode stoichiometry\",\n",
    "    \"CDsta Positive electrode stoichiometry\", \n",
    "    \"CDend Positive electrode stoichiometry\",\n",
    "    \"CDend Negative electrode capacity [A.h]\",\n",
    "    \"CDend Positive electrode capacity [A.h]\",\n",
    "]\n",
    "\n",
    "keys_loc_AGE = [ # MAY WANT TO SELECT AGEING CYCLE later\n",
    "    # Default output:\n",
    "    \"x [m]\",\n",
    "    \"x_n [m]\",\n",
    "    \"x_s [m]\",\n",
    "    \"x_p [m]\",\n",
    "    # default: end; \n",
    "    \"CCend Porosity\",\n",
    "    \"CCend Negative electrode interfacial current density [A.m-2]\",\n",
    "    \"CCend Electrolyte potential [V]\",\n",
    "    \"CCend Electrolyte concentration [mol.m-3]\",\n",
    "    \"CCend Negative electrode reaction overpotential [V]\",\n",
    "    \"CCend Negative particle surface concentration [mol.m-3]\",\n",
    "    \"CCend Negative electrode surface potential difference [V]\",\n",
    "    \"CCend SEI film overpotential [V]\",\n",
    "    #\"CCend Negative electrode roughness ratio\",\n",
    "    #\"CCend Total SEI on cracks thickness [m]\",\n",
    "\n",
    "    \"CDend Porosity\",\n",
    "    \"CDend Negative electrode interfacial current density [A.m-2]\",\n",
    "    \"CDend Electrolyte potential [V]\",\n",
    "    \"CDend Electrolyte concentration [mol.m-3]\",\n",
    "    \"CDend Negative electrode reaction overpotential [V]\",\n",
    "    \"CDend Negative particle surface concentration [mol.m-3]\",\n",
    "    #\"CDend Negative electrode roughness ratio\",\n",
    "    #\"CDend Total SEI on cracks thickness [m]\",\n",
    "    \"CDend Negative electrode surface potential difference [V]\",\n",
    "    \"CDend SEI film overpotential [V]\",\n",
    "    \"CDend Electrolyte diffusivity [m2.s-1]\",\n",
    "    \"CDend Electrolyte conductivity [S.m-1]\",\n",
    "]\n",
    "keys_tim_AGE = [\n",
    "    # default: CD\n",
    "    \"CD Time [h]\",\n",
    "    \"CD Terminal voltage [V]\",\n",
    "    \"CD Anode potential [V]\",    # self defined\n",
    "    \"CD Cathode potential [V]\",  # self defined\n",
    "    \n",
    "    \"CC Time [h]\",\n",
    "    \"CC Terminal voltage [V]\",\n",
    "    \"CC Anode potential [V]\",    # self defined\n",
    "    \"CC Cathode potential [V]\",  # self defined\n",
    "]\n",
    "keys_cyc_AGE = [];\n",
    "keys_all_RPT = [keys_loc_RPT,keys_tim_RPT,keys_cyc_RPT];\n",
    "keys_all_AGE = [keys_loc_AGE,keys_tim_AGE,keys_cyc_AGE];\n",
    "keys_all = [keys_all_RPT,keys_all_AGE];\n",
    "\n",
    "\n",
    "# Write para - 1st round:\n",
    "Values_1 = []\n",
    "head_keys = list(Para_dict_list[0].keys())\n",
    "head_pre = [\n",
    "    \"Scan No\",\"Exp No.\",\"Y or N\",\n",
    "    \"Error Tot%\",\"Error SOH %\",\"Error LLI %\",\n",
    "    \"Error LAM NE %\",\"Error LAM PE %\",\n",
    "    \"Error Res %\",\"Error ageT %\",\"Punish\",\n",
    "    \"Dry out\",]\n",
    "\n",
    "head_pos = [ \n",
    "    \"Total ageing cycles\",\"Ageing cycles between RPT\",\n",
    "    \"Update cycles for ageing\",\n",
    "    \"exp_AGE_text\", \"exp_RPT_text\",\n",
    "   \"Cap Loss\",\"LLI to LiP\",\n",
    "   \"LLI to SEI\",\"LLI to sei-on-cracks\",\n",
    "   \"LAM to Neg\",\"LAM to Pos\",\n",
    "   \"Vol_Elely_Tot Final\", \"Vol_Elely_JR Final\",\"Width Final\",\"Error\"]\n",
    "Values_1 .append([*head_pre,*head_keys,*head_pos])\n",
    "book_name_xlsx = f'Summary_{purpose}.xlsx';\n",
    "sheet_name_xlsx = 'Output'\n",
    "Target  = f'/{purpose}/'\n",
    "write_excel_xlsx(\n",
    "    BasicPath + Target + book_name_xlsx, \n",
    "    sheet_name_xlsx, Values_1)   \n",
    "Exp_pack = [\n",
    "    Exp_All_Cell,Temp_Cell_Exp_All,\n",
    "    Exp_Path,Exp_head,Exp_Temp_Cell,\n",
    "    book_name_xlsx,]  \n",
    "# remaining set-up for experiment and create folders\n",
    "\n",
    "if not os.path.exists(BasicPath +Target+\"Mats\"):\n",
    "    os.mkdir(BasicPath +Target +\"Mats\");\n",
    "if not os.path.exists(BasicPath +Target+\"Plots\"):\n",
    "    os.mkdir(BasicPath +Target+\"Plots\");\n",
    "if not os.path.exists(BasicPath +Target+\"Excel\"):\n",
    "    os.mkdir(BasicPath +Target+\"Excel\");"
   ]
  },
  {
   "cell_type": "markdown",
   "metadata": {},
   "source": [
    "### Kepp the following input! Finally reproduce a proper Experiment error or infeasible shortly during middle of cycling rather than t=0!"
   ]
  },
  {
   "cell_type": "code",
   "execution_count": 4,
   "metadata": {},
   "outputs": [
    {
     "name": "stdout",
     "output_type": "stream",
     "text": [
      "{'Scan No': 1, 'Exp No.': 9, 'Ageing temperature': 25, 'Mesh list': '[5,5,5,60,20]', 'Inner SEI lithium interstitial diffusivity [m2.s-1]': 9.81e-18, 'Dead lithium decay constant [s-1]': 1e-07, 'Lithium plating kinetic rate constant [m.s-1]': 1e-10, 'Negative electrode LAM constant proportional term [s-1]': 2.84e-09, 'Positive electrode LAM constant proportional term [s-1]': 2.98e-18, 'Negative electrode cracking rate': 5.29e-25, 'Outer SEI partial molar volume [m3.mol-1]': 5.22e-05, 'SEI growth activation energy [J.mol-1]': 10000, 'Negative cracking growth activation energy [J.mol-1]': 0, 'Negative electrode diffusivity activation energy [J.mol-1]': 17000, 'Positive electrode diffusivity activation energy [J.mol-1]': 12000, 'Contact resistance [Ohm]': 0.0115, 'Total heat transfer coefficient [W.m-2.K-1]': 20, 'Initial electrolyte excessive amount ratio': 1.1, 'Cycles within RPT': 1, 'RPT temperature': 25, 'Para_Set': 'OKane2023', 'Model option': \"{'SEI': 'interstitial-diffusion limited', 'SEI on cracks': 'true', 'lithium plating': 'partially reversible', 'lithium plating porosity change': 'true', 'particle mechanics': ('swelling and cracking', 'swelling only'), 'loss of active material': 'stress-driven', 'contact resistance': 'true', 'open-circuit potential': 'current sigmoid', 'SEI film resistance': 'distributed', 'SEI porosity change': 'true', 'thermal': 'lumped'}\", 'Current solvent concentration in the reservoir [mol.m-3]': 4541, 'Current electrolyte concentration in the reservoir [mol.m-3]': 1000, 'Ratio of Li-ion concentration change in electrolyte consider solvent consumption': 1, 'EC initial concentration in electrolyte [mol.m-3]': 4541, 'Typical EC concentration in electrolyte [mol.m-3]': 4541}\n"
     ]
    },
    {
     "data": {
      "text/plain": [
       "{'Scan No': 1,\n",
       " 'Exp No.': 9,\n",
       " 'Ageing temperature': 25,\n",
       " 'Mesh list': '[5,5,5,60,20]',\n",
       " 'Inner SEI lithium interstitial diffusivity [m2.s-1]': 8e-18,\n",
       " 'Dead lithium decay constant [s-1]': 1e-10,\n",
       " 'Lithium plating kinetic rate constant [m.s-1]': 1e-13,\n",
       " 'Negative electrode LAM constant proportional term [s-1]': 2.84e-09,\n",
       " 'Positive electrode LAM constant proportional term [s-1]': 2.98e-18,\n",
       " 'Negative electrode cracking rate': 5.29e-25,\n",
       " 'Outer SEI partial molar volume [m3.mol-1]': 5.22e-05,\n",
       " 'SEI growth activation energy [J.mol-1]': 10000,\n",
       " 'Negative cracking growth activation energy [J.mol-1]': 0,\n",
       " 'Negative electrode diffusivity activation energy [J.mol-1]': 17000,\n",
       " 'Positive electrode diffusivity activation energy [J.mol-1]': 12000,\n",
       " 'Contact resistance [Ohm]': 0.0115,\n",
       " 'Total heat transfer coefficient [W.m-2.K-1]': 20,\n",
       " 'Initial electrolyte excessive amount ratio': 1.1,\n",
       " 'Cycles within RPT': 1,\n",
       " 'RPT temperature': 25,\n",
       " 'Para_Set': 'OKane2023',\n",
       " 'Model option': \"{'SEI': 'interstitial-diffusion limited', 'SEI on cracks': 'true', 'lithium plating': 'partially reversible', 'lithium plating porosity change': 'true', 'particle mechanics': ('swelling and cracking', 'swelling only'), 'loss of active material': 'stress-driven', 'contact resistance': 'true', 'open-circuit potential': 'current sigmoid', 'SEI film resistance': 'distributed', 'SEI porosity change': 'true', 'thermal': 'lumped'}\",\n",
       " 'Current solvent concentration in the reservoir [mol.m-3]': 4541,\n",
       " 'Current electrolyte concentration in the reservoir [mol.m-3]': 1000,\n",
       " 'Ratio of Li-ion concentration change in electrolyte consider solvent consumption': 1,\n",
       " 'EC initial concentration in electrolyte [mol.m-3]': 4541,\n",
       " 'Typical EC concentration in electrolyte [mol.m-3]': 4541}"
      ]
     },
     "execution_count": 4,
     "metadata": {},
     "output_type": "execute_result"
    }
   ],
   "source": [
    "\n",
    "print(Para_dict_list[0]) # initial mesh: [5,5,5,60,20]\n",
    "Para_dict_list[0][ 'Inner SEI lithium interstitial diffusivity [m2.s-1]']  = 8e-18\n",
    "Para_dict_list[0][ 'Dead lithium decay constant [s-1]']  = 1e-10\n",
    "Para_dict_list[0][ 'Lithium plating kinetic rate constant [m.s-1]']  = 1e-13\n",
    "Para_dict_list[0]\n",
    "# Para_dict_list[0][ 'Inner SEI lithium interstitial diffusivity [m2.s-1]'] = 9.81e-18\n",
    "# run record\n",
    "# 1-'[10,10,10,100,20]' - 1 hour every 26 ageing cycles"
   ]
  },
  {
   "cell_type": "code",
   "execution_count": 5,
   "metadata": {},
   "outputs": [
    {
     "name": "stdout",
     "output_type": "stream",
     "text": [
      "Start Now! Scan 1.\n",
      "Has Overwritten Initial outer SEI thickness [m] to be 7.48e-08 and Negative electrode porosity to be 0.083 to account for initial capacity loss of 1.500 Ah\n",
      "Scan 1: DryOut = On\n",
      "Initial electrolyte amount is  4.297675303146761 mL\n",
      "Scan 1: Spent 3.557 ms on Initialization\n",
      "Scan 1: Finish break-in cycle within 2 minutes, 47 seconds\n",
      "Fail to read Throughput capacity for the 1th time\n",
      "Scan 1: Finish post-process for break-in cycle within 1.444 s\n",
      "Succeed to run the ageing set for the 0th time\n",
      "Scan 1: Finish for No.0 ageing cycles within 47.818 s\n",
      "Scan 1: Finish post-process for No.1 ageing cycles within 331.121 ms\n"
     ]
    },
    {
     "name": "stderr",
     "output_type": "stream",
     "text": [
      "2023-12-10 23:50:34.428 - [ERROR] callbacks.on_experiment_error(224): Simulation error: Could not find consistent states: Could not find acceptable solution: Error in Function::call for 'roots' [Newton] at .../casadi/core/function.cpp:330:\n",
      ".../casadi/core/rootfinder.cpp:277: rootfinder process failed. Set 'error_on_fail' option to false to ignore this error.\n"
     ]
    },
    {
     "name": "stdout",
     "output_type": "stream",
     "text": [
      "Fail to run RPT due to Model error or solver error for the 1th time\n"
     ]
    },
    {
     "name": "stderr",
     "output_type": "stream",
     "text": [
      "2023-12-10 23:52:41.561 - [ERROR] callbacks.on_experiment_error(224): Simulation error: Could not find consistent states: Could not find acceptable solution: Error in Function::call for 'roots' [Newton] at .../casadi/core/function.cpp:330:\n",
      ".../casadi/core/rootfinder.cpp:277: rootfinder process failed. Set 'error_on_fail' option to false to ignore this error.\n"
     ]
    },
    {
     "name": "stdout",
     "output_type": "stream",
     "text": [
      "Fail to run RPT due to Model error or solver error for the 2th time\n"
     ]
    },
    {
     "name": "stderr",
     "output_type": "stream",
     "text": [
      "2023-12-10 23:54:48.641 - [ERROR] callbacks.on_experiment_error(224): Simulation error: Could not find consistent states: Could not find acceptable solution: Error in Function::call for 'roots' [Newton] at .../casadi/core/function.cpp:330:\n",
      ".../casadi/core/rootfinder.cpp:277: rootfinder process failed. Set 'error_on_fail' option to false to ignore this error.\n"
     ]
    },
    {
     "name": "stdout",
     "output_type": "stream",
     "text": [
      "Fail to run RPT due to Model error or solver error for the 3th time\n",
      "Fail due to Experiment error or infeasible\n",
      "Scan 1: Fail during No.1 RPT cycles within 6 minutes, 48 seconds, due to Experiment error or infeasible\n",
      "Scan 1: Getting extra variables within 872.600 us\n",
      "Scan 1: Finish all plots within 6.951 s\n",
      "Successfully create a excel file\n",
      "Scan 1: Successfully save json file!\n",
      "Scan 1: Successfully save mat file!\n",
      "Scan 1: Try saving within 16.284 ms\n",
      "Succeed doing something in 10 minutes, 32 seconds\n",
      "This is the end of No. 1  scan\n"
     ]
    }
   ],
   "source": [
    "fs = 13; dpi = 100;\n",
    "midc_merge_all = [];Sol_RPT_all = [];Sol_AGE_all = [];\n",
    "Plot_Exp=True;     Timeout=True;     Timelimit = int(3600*2)\n",
    "Return_Sol=True;   Check_Small_Time=True; R_from_GITT = False\n",
    "midc_merge,Sol_RPT,Sol_AGE,DeBug_Lists = Run_P2_Excel (\n",
    "    Para_dict_list[0],BasicPath, Path_NiallDMA, \n",
    "    purpose,    Exp_pack, keys_all,dpi,fs,\n",
    "    Runshort,   Plot_Exp,Timeout, Timelimit,\n",
    "    Return_Sol, Check_Small_Time, R_from_GITT,Add_Rest,\n",
    ") \n"
   ]
  },
  {
   "cell_type": "code",
   "execution_count": 6,
   "metadata": {},
   "outputs": [
    {
     "data": {
      "text/plain": [
       "[<pybamm.solvers.solution.Solution at 0x7fbc3880fd60>]"
      ]
     },
     "execution_count": 6,
     "metadata": {},
     "output_type": "execute_result"
    }
   ],
   "source": [
    "Sol_RPT\n",
    "Sol_AGE"
   ]
  },
  {
   "cell_type": "markdown",
   "metadata": {},
   "source": [
    "### Save DeBug_Lists in HPC and re-start"
   ]
  },
  {
   "cell_type": "code",
   "execution_count": 7,
   "metadata": {},
   "outputs": [
    {
     "data": {
      "text/plain": [
       "'Empty'"
      ]
     },
     "execution_count": 7,
     "metadata": {},
     "output_type": "execute_result"
    }
   ],
   "source": [
    "[DeBug_List_RPT,DeBug_List_AGE] = DeBug_Lists\n",
    "DeBug_List_AGE"
   ]
  },
  {
   "cell_type": "code",
   "execution_count": null,
   "metadata": {},
   "outputs": [],
   "source": [
    "# the only thing needs to be saved, try to save it and reload, and see how big it is ! \n",
    "DeBug_List_RPT_save = [\n",
    "    Para_update, \n",
    "    Update_Cycles, \n",
    "    dict_short, \n",
    "] \n"
   ]
  },
  {
   "cell_type": "code",
   "execution_count": null,
   "metadata": {},
   "outputs": [],
   "source": [
    "\n",
    "import pickle\n",
    "with open(BasicPath + Target+\"Mats/\" + str(Scan_i)+ '-DeBug_List_RPT_save.pkl', 'wb') as file:\n",
    "    pickle.dump(DeBug_List_RPT_save, file)"
   ]
  },
  {
   "cell_type": "code",
   "execution_count": null,
   "metadata": {},
   "outputs": [],
   "source": [
    "# RPT Model\n",
    "import ast,json\n",
    "\n",
    "\n",
    "model_options = Para_dict_list[0][\"Model option\"] \n",
    "# careful: need to change str to dict \n",
    "model_options = ast.literal_eval(model_options)\n",
    "mesh_list = Para_dict_list[0][\"Mesh list\"]\n",
    "mesh_list = json.loads(mesh_list)  \n",
    "Call_RPT = RioCallback()   # \n",
    "\n",
    "Temper_i = Para_dict_list[0]['RPT temperature']\n",
    "index_exp = int(Para_dict_list[0]['Exp No.'])\n",
    "V_max=4.2; V_min = 2.5\n",
    "Pack_return = Initialize_exp_text( index_exp, V_max, V_min, Add_Rest)\n",
    "[\n",
    "    exp_AGE_text, step_AGE_CD, step_AGE_CC, step_AGE_CV,\n",
    "    exp_RPT_text, exp_RPT_GITT_text, exp_adjust_before_age,\n",
    "    step_0p1C_CD, step_0p1C_CC, step_0p1C_RE, step_0p5C_CD\n",
    "    ]   = Pack_return\n",
    "ModelExperiment    = pb.Experiment( exp_RPT_text*1 + exp_adjust_before_age*1 ) \n",
    "Model = pb.lithium_ion.DFN(options=model_options)\n",
    "Model_new = Model.set_initial_conditions_from(dict_short, inplace=False)\n",
    "submesh_types = Model.default_submesh_types\n",
    "var = pb.standard_spatial_vars  \n",
    "var_pts = {\n",
    "    var.x_n: int(mesh_list[0]),  \n",
    "    var.x_s: int(mesh_list[1]),  \n",
    "    var.x_p: int(mesh_list[2]),  \n",
    "    var.r_n: int(mesh_list[3]),  \n",
    "    var.r_p: int(mesh_list[4]),  \n",
    "    }\n",
    "\n",
    "\n",
    "Simnew = pb.Simulation(\n",
    "    Model_new,\n",
    "    experiment = ModelExperiment, \n",
    "    parameter_values=Para_update, \n",
    "    solver = pb.CasadiSolver(),\n",
    "    var_pts = var_pts,\n",
    "    submesh_types=submesh_types\n",
    ")\n",
    "Sol_new = Simnew.solve(\n",
    "    calc_esoh=False,\n",
    "    # save_at_cycles = Update_Cycles,\n",
    "    callbacks=Call_RPT) "
   ]
  },
  {
   "cell_type": "code",
   "execution_count": 19,
   "metadata": {},
   "outputs": [
    {
     "name": "stdout",
     "output_type": "stream",
     "text": [
      "[4.17921524 4.17921523 4.17921523 ... 4.17759024 4.17747703 4.17738684]\n"
     ]
    },
    {
     "data": {
      "image/png": "[encoded data removed]",
      "text/plain": [
       "<Figure size 640x480 with 1 Axes>"
      ]
     },
     "metadata": {},
     "output_type": "display_data"
    }
   ],
   "source": [
    "plt.plot(Sol_RPT[0].cycles[0][\"Terminal voltage [V]\"].entries)\n",
    "print(Sol_RPT[0].cycles[0][\"Terminal voltage [V]\"].entries)"
   ]
  },
  {
   "cell_type": "code",
   "execution_count": 14,
   "metadata": {},
   "outputs": [
    {
     "ename": "InvalidIndexError",
     "evalue": "Reindexing only valid with uniquely valued Index objects",
     "output_type": "error",
     "traceback": [
      "\u001b[0;31m---------------------------------------------------------------------------\u001b[0m",
      "\u001b[0;31mInvalidIndexError\u001b[0m                         Traceback (most recent call last)",
      "\u001b[1;32m/home/ruihe_li/EnvPBGEM_Linux/PyBaMM-GEM/wip/Rio_Code/Reservoir/Debug/Debug_reservoir_3.ipynb Cell 17\u001b[0m line \u001b[0;36m6\n\u001b[1;32m      <a href='vscode-notebook-cell://wsl%2Bubuntu-22.04/home/ruihe_li/EnvPBGEM_Linux/PyBaMM-GEM/wip/Rio_Code/Reservoir/Debug/Debug_reservoir_3.ipynb#X21sdnNjb2RlLXJlbW90ZQ%3D%3D?line=0'>1</a>\u001b[0m \u001b[39mvars\u001b[39m \u001b[39m=\u001b[39m [\n\u001b[1;32m      <a href='vscode-notebook-cell://wsl%2Bubuntu-22.04/home/ruihe_li/EnvPBGEM_Linux/PyBaMM-GEM/wip/Rio_Code/Reservoir/Debug/Debug_reservoir_3.ipynb#X21sdnNjb2RlLXJlbW90ZQ%3D%3D?line=1'>2</a>\u001b[0m     \u001b[39m\"\u001b[39m\u001b[39mElectrolyte potential [V]\u001b[39m\u001b[39m\"\u001b[39m,\n\u001b[1;32m      <a href='vscode-notebook-cell://wsl%2Bubuntu-22.04/home/ruihe_li/EnvPBGEM_Linux/PyBaMM-GEM/wip/Rio_Code/Reservoir/Debug/Debug_reservoir_3.ipynb#X21sdnNjb2RlLXJlbW90ZQ%3D%3D?line=2'>3</a>\u001b[0m     \u001b[39m\"\u001b[39m\u001b[39mTerminal voltage [V]\u001b[39m\u001b[39m\"\u001b[39m, \n\u001b[1;32m      <a href='vscode-notebook-cell://wsl%2Bubuntu-22.04/home/ruihe_li/EnvPBGEM_Linux/PyBaMM-GEM/wip/Rio_Code/Reservoir/Debug/Debug_reservoir_3.ipynb#X21sdnNjb2RlLXJlbW90ZQ%3D%3D?line=3'>4</a>\u001b[0m     \u001b[39m\"\u001b[39m\u001b[39mNegative electrode porosity\u001b[39m\u001b[39m\"\u001b[39m,\n\u001b[1;32m      <a href='vscode-notebook-cell://wsl%2Bubuntu-22.04/home/ruihe_li/EnvPBGEM_Linux/PyBaMM-GEM/wip/Rio_Code/Reservoir/Debug/Debug_reservoir_3.ipynb#X21sdnNjb2RlLXJlbW90ZQ%3D%3D?line=4'>5</a>\u001b[0m ]\n\u001b[0;32m----> <a href='vscode-notebook-cell://wsl%2Bubuntu-22.04/home/ruihe_li/EnvPBGEM_Linux/PyBaMM-GEM/wip/Rio_Code/Reservoir/Debug/Debug_reservoir_3.ipynb#X21sdnNjb2RlLXJlbW90ZQ%3D%3D?line=5'>6</a>\u001b[0m quick_plot \u001b[39m=\u001b[39m pb\u001b[39m.\u001b[39;49mQuickPlot(\n\u001b[1;32m      <a href='vscode-notebook-cell://wsl%2Bubuntu-22.04/home/ruihe_li/EnvPBGEM_Linux/PyBaMM-GEM/wip/Rio_Code/Reservoir/Debug/Debug_reservoir_3.ipynb#X21sdnNjb2RlLXJlbW90ZQ%3D%3D?line=6'>7</a>\u001b[0m     Sol_RPT[\u001b[39m0\u001b[39;49m], \u001b[39mvars\u001b[39;49m,\n\u001b[1;32m      <a href='vscode-notebook-cell://wsl%2Bubuntu-22.04/home/ruihe_li/EnvPBGEM_Linux/PyBaMM-GEM/wip/Rio_Code/Reservoir/Debug/Debug_reservoir_3.ipynb#X21sdnNjb2RlLXJlbW90ZQ%3D%3D?line=7'>8</a>\u001b[0m     time_unit\u001b[39m=\u001b[39;49m\u001b[39m'\u001b[39;49m\u001b[39mhours\u001b[39;49m\u001b[39m'\u001b[39;49m,n_rows\u001b[39m=\u001b[39;49m\u001b[39m2\u001b[39;49m) \u001b[39m#figsize = (18,12),\u001b[39;00m\n\u001b[1;32m      <a href='vscode-notebook-cell://wsl%2Bubuntu-22.04/home/ruihe_li/EnvPBGEM_Linux/PyBaMM-GEM/wip/Rio_Code/Reservoir/Debug/Debug_reservoir_3.ipynb#X21sdnNjb2RlLXJlbW90ZQ%3D%3D?line=8'>9</a>\u001b[0m quick_plot\u001b[39m.\u001b[39mdynamic_plot()\n",
      "File \u001b[0;32m~/EnvPBGEM_Linux/PyBaMM-GEM/pybamm/plotting/quick_plot.py:239\u001b[0m, in \u001b[0;36mQuickPlot.__init__\u001b[0;34m(self, solutions, output_variables, labels, colors, linestyles, figsize, n_rows, time_unit, spatial_unit, variable_limits)\u001b[0m\n\u001b[1;32m    234\u001b[0m             \u001b[39mraise\u001b[39;00m \u001b[39mTypeError\u001b[39;00m(\n\u001b[1;32m    235\u001b[0m                 \u001b[39m\"\u001b[39m\u001b[39mvariable_limits must be \u001b[39m\u001b[39m'\u001b[39m\u001b[39mfixed\u001b[39m\u001b[39m'\u001b[39m\u001b[39m, \u001b[39m\u001b[39m'\u001b[39m\u001b[39mtight\u001b[39m\u001b[39m'\u001b[39m\u001b[39m, or a dict\u001b[39m\u001b[39m\"\u001b[39m\n\u001b[1;32m    236\u001b[0m             )\n\u001b[1;32m    238\u001b[0m \u001b[39mself\u001b[39m\u001b[39m.\u001b[39mset_output_variables(output_variable_tuples, solutions)\n\u001b[0;32m--> 239\u001b[0m \u001b[39mself\u001b[39;49m\u001b[39m.\u001b[39;49mreset_axis()\n",
      "File \u001b[0;32m~/EnvPBGEM_Linux/PyBaMM-GEM/pybamm/plotting/quick_plot.py:408\u001b[0m, in \u001b[0;36mQuickPlot.reset_axis\u001b[0;34m(self)\u001b[0m\n\u001b[1;32m    404\u001b[0m \u001b[39mif\u001b[39;00m \u001b[39mself\u001b[39m\u001b[39m.\u001b[39mvariable_limits[key] \u001b[39m==\u001b[39m \u001b[39m\"\u001b[39m\u001b[39mfixed\u001b[39m\u001b[39m\"\u001b[39m:\n\u001b[1;32m    405\u001b[0m     \u001b[39m# fixed variable limits: calculate \"globlal\" min and max\u001b[39;00m\n\u001b[1;32m    406\u001b[0m     spatial_vars \u001b[39m=\u001b[39m \u001b[39mself\u001b[39m\u001b[39m.\u001b[39mspatial_variable_dict[key]\n\u001b[1;32m    407\u001b[0m     var_min \u001b[39m=\u001b[39m np\u001b[39m.\u001b[39mmin(\n\u001b[0;32m--> 408\u001b[0m         [\n\u001b[1;32m    409\u001b[0m             ax_min(var(\u001b[39mself\u001b[39m\u001b[39m.\u001b[39mts_seconds[i], \u001b[39m*\u001b[39m\u001b[39m*\u001b[39mspatial_vars, warn\u001b[39m=\u001b[39m\u001b[39mFalse\u001b[39;00m))\n\u001b[1;32m    410\u001b[0m             \u001b[39mfor\u001b[39;00m i, variable_list \u001b[39min\u001b[39;00m \u001b[39menumerate\u001b[39m(variable_lists)\n\u001b[1;32m    411\u001b[0m             \u001b[39mfor\u001b[39;00m var \u001b[39min\u001b[39;00m variable_list\n\u001b[1;32m    412\u001b[0m         ]\n\u001b[1;32m    413\u001b[0m     )\n\u001b[1;32m    414\u001b[0m     var_max \u001b[39m=\u001b[39m np\u001b[39m.\u001b[39mmax(\n\u001b[1;32m    415\u001b[0m         [\n\u001b[1;32m    416\u001b[0m             ax_max(var(\u001b[39mself\u001b[39m\u001b[39m.\u001b[39mts_seconds[i], \u001b[39m*\u001b[39m\u001b[39m*\u001b[39mspatial_vars, warn\u001b[39m=\u001b[39m\u001b[39mFalse\u001b[39;00m))\n\u001b[0;32m   (...)\u001b[0m\n\u001b[1;32m    419\u001b[0m         ]\n\u001b[1;32m    420\u001b[0m     )\n\u001b[1;32m    421\u001b[0m     \u001b[39mif\u001b[39;00m np\u001b[39m.\u001b[39misnan(var_min) \u001b[39mor\u001b[39;00m np\u001b[39m.\u001b[39misnan(var_max):\n",
      "File \u001b[0;32m~/EnvPBGEM_Linux/PyBaMM-GEM/pybamm/plotting/quick_plot.py:409\u001b[0m, in \u001b[0;36m<listcomp>\u001b[0;34m(.0)\u001b[0m\n\u001b[1;32m    404\u001b[0m \u001b[39mif\u001b[39;00m \u001b[39mself\u001b[39m\u001b[39m.\u001b[39mvariable_limits[key] \u001b[39m==\u001b[39m \u001b[39m\"\u001b[39m\u001b[39mfixed\u001b[39m\u001b[39m\"\u001b[39m:\n\u001b[1;32m    405\u001b[0m     \u001b[39m# fixed variable limits: calculate \"globlal\" min and max\u001b[39;00m\n\u001b[1;32m    406\u001b[0m     spatial_vars \u001b[39m=\u001b[39m \u001b[39mself\u001b[39m\u001b[39m.\u001b[39mspatial_variable_dict[key]\n\u001b[1;32m    407\u001b[0m     var_min \u001b[39m=\u001b[39m np\u001b[39m.\u001b[39mmin(\n\u001b[1;32m    408\u001b[0m         [\n\u001b[0;32m--> 409\u001b[0m             ax_min(var(\u001b[39mself\u001b[39;49m\u001b[39m.\u001b[39;49mts_seconds[i], \u001b[39m*\u001b[39;49m\u001b[39m*\u001b[39;49mspatial_vars, warn\u001b[39m=\u001b[39;49m\u001b[39mFalse\u001b[39;49;00m))\n\u001b[1;32m    410\u001b[0m             \u001b[39mfor\u001b[39;00m i, variable_list \u001b[39min\u001b[39;00m \u001b[39menumerate\u001b[39m(variable_lists)\n\u001b[1;32m    411\u001b[0m             \u001b[39mfor\u001b[39;00m var \u001b[39min\u001b[39;00m variable_list\n\u001b[1;32m    412\u001b[0m         ]\n\u001b[1;32m    413\u001b[0m     )\n\u001b[1;32m    414\u001b[0m     var_max \u001b[39m=\u001b[39m np\u001b[39m.\u001b[39mmax(\n\u001b[1;32m    415\u001b[0m         [\n\u001b[1;32m    416\u001b[0m             ax_max(var(\u001b[39mself\u001b[39m\u001b[39m.\u001b[39mts_seconds[i], \u001b[39m*\u001b[39m\u001b[39m*\u001b[39mspatial_vars, warn\u001b[39m=\u001b[39m\u001b[39mFalse\u001b[39;00m))\n\u001b[0;32m   (...)\u001b[0m\n\u001b[1;32m    419\u001b[0m         ]\n\u001b[1;32m    420\u001b[0m     )\n\u001b[1;32m    421\u001b[0m     \u001b[39mif\u001b[39;00m np\u001b[39m.\u001b[39misnan(var_min) \u001b[39mor\u001b[39;00m np\u001b[39m.\u001b[39misnan(var_max):\n",
      "File \u001b[0;32m~/EnvPBGEM_Linux/PyBaMM-GEM/pybamm/solvers/processed_variable.py:398\u001b[0m, in \u001b[0;36mProcessedVariable.__call__\u001b[0;34m(self, t, x, r, y, z, R, warn)\u001b[0m\n\u001b[1;32m    396\u001b[0m kwargs \u001b[39m=\u001b[39m {key: value \u001b[39mfor\u001b[39;00m key, value \u001b[39min\u001b[39;00m kwargs\u001b[39m.\u001b[39mitems() \u001b[39mif\u001b[39;00m value \u001b[39mis\u001b[39;00m \u001b[39mnot\u001b[39;00m \u001b[39mNone\u001b[39;00m}\n\u001b[1;32m    397\u001b[0m \u001b[39m# Use xarray interpolation, return numpy array\u001b[39;00m\n\u001b[0;32m--> 398\u001b[0m \u001b[39mreturn\u001b[39;00m \u001b[39mself\u001b[39;49m\u001b[39m.\u001b[39;49m_xr_data_array\u001b[39m.\u001b[39;49minterp(\u001b[39m*\u001b[39;49m\u001b[39m*\u001b[39;49mkwargs)\u001b[39m.\u001b[39mvalues\n",
      "File \u001b[0;32m~/EnvPBGEM_Linux/lib/python3.10/site-packages/xarray/core/dataarray.py:2203\u001b[0m, in \u001b[0;36mDataArray.interp\u001b[0;34m(self, coords, method, assume_sorted, kwargs, **coords_kwargs)\u001b[0m\n\u001b[1;32m   2198\u001b[0m \u001b[39mif\u001b[39;00m \u001b[39mself\u001b[39m\u001b[39m.\u001b[39mdtype\u001b[39m.\u001b[39mkind \u001b[39mnot\u001b[39;00m \u001b[39min\u001b[39;00m \u001b[39m\"\u001b[39m\u001b[39muifc\u001b[39m\u001b[39m\"\u001b[39m:\n\u001b[1;32m   2199\u001b[0m     \u001b[39mraise\u001b[39;00m \u001b[39mTypeError\u001b[39;00m(\n\u001b[1;32m   2200\u001b[0m         \u001b[39m\"\u001b[39m\u001b[39minterp only works for a numeric type array. \u001b[39m\u001b[39m\"\u001b[39m\n\u001b[1;32m   2201\u001b[0m         \u001b[39m\"\u001b[39m\u001b[39mGiven \u001b[39m\u001b[39m{}\u001b[39;00m\u001b[39m.\u001b[39m\u001b[39m\"\u001b[39m\u001b[39m.\u001b[39mformat(\u001b[39mself\u001b[39m\u001b[39m.\u001b[39mdtype)\n\u001b[1;32m   2202\u001b[0m     )\n\u001b[0;32m-> 2203\u001b[0m ds \u001b[39m=\u001b[39m \u001b[39mself\u001b[39;49m\u001b[39m.\u001b[39;49m_to_temp_dataset()\u001b[39m.\u001b[39;49minterp(\n\u001b[1;32m   2204\u001b[0m     coords,\n\u001b[1;32m   2205\u001b[0m     method\u001b[39m=\u001b[39;49mmethod,\n\u001b[1;32m   2206\u001b[0m     kwargs\u001b[39m=\u001b[39;49mkwargs,\n\u001b[1;32m   2207\u001b[0m     assume_sorted\u001b[39m=\u001b[39;49massume_sorted,\n\u001b[1;32m   2208\u001b[0m     \u001b[39m*\u001b[39;49m\u001b[39m*\u001b[39;49mcoords_kwargs,\n\u001b[1;32m   2209\u001b[0m )\n\u001b[1;32m   2210\u001b[0m \u001b[39mreturn\u001b[39;00m \u001b[39mself\u001b[39m\u001b[39m.\u001b[39m_from_temp_dataset(ds)\n",
      "File \u001b[0;32m~/EnvPBGEM_Linux/lib/python3.10/site-packages/xarray/core/dataset.py:3428\u001b[0m, in \u001b[0;36mDataset.interp\u001b[0;34m(self, coords, method, assume_sorted, kwargs, method_non_numeric, **coords_kwargs)\u001b[0m\n\u001b[1;32m   3426\u001b[0m \u001b[39mif\u001b[39;00m method \u001b[39min\u001b[39;00m [\u001b[39m\"\u001b[39m\u001b[39mlinear\u001b[39m\u001b[39m\"\u001b[39m, \u001b[39m\"\u001b[39m\u001b[39mnearest\u001b[39m\u001b[39m\"\u001b[39m]:\n\u001b[1;32m   3427\u001b[0m     \u001b[39mfor\u001b[39;00m k, v \u001b[39min\u001b[39;00m validated_indexers\u001b[39m.\u001b[39mitems():\n\u001b[0;32m-> 3428\u001b[0m         obj, newidx \u001b[39m=\u001b[39m missing\u001b[39m.\u001b[39;49m_localize(obj, {k: v})\n\u001b[1;32m   3429\u001b[0m         validated_indexers[k] \u001b[39m=\u001b[39m newidx[k]\n\u001b[1;32m   3431\u001b[0m \u001b[39m# optimization: create dask coordinate arrays once per Dataset\u001b[39;00m\n\u001b[1;32m   3432\u001b[0m \u001b[39m# rather than once per Variable when dask.array.unify_chunks is called later\u001b[39;00m\n\u001b[1;32m   3433\u001b[0m \u001b[39m# GH4739\u001b[39;00m\n",
      "File \u001b[0;32m~/EnvPBGEM_Linux/lib/python3.10/site-packages/xarray/core/missing.py:565\u001b[0m, in \u001b[0;36m_localize\u001b[0;34m(var, indexes_coords)\u001b[0m\n\u001b[1;32m    563\u001b[0m maxval \u001b[39m=\u001b[39m np\u001b[39m.\u001b[39mnanmax(new_x\u001b[39m.\u001b[39mvalues)\n\u001b[1;32m    564\u001b[0m index \u001b[39m=\u001b[39m x\u001b[39m.\u001b[39mto_index()\n\u001b[0;32m--> 565\u001b[0m imin \u001b[39m=\u001b[39m index\u001b[39m.\u001b[39;49mget_indexer([minval], method\u001b[39m=\u001b[39;49m\u001b[39m\"\u001b[39;49m\u001b[39mnearest\u001b[39;49m\u001b[39m\"\u001b[39;49m)\u001b[39m.\u001b[39mitem()\n\u001b[1;32m    566\u001b[0m imax \u001b[39m=\u001b[39m index\u001b[39m.\u001b[39mget_indexer([maxval], method\u001b[39m=\u001b[39m\u001b[39m\"\u001b[39m\u001b[39mnearest\u001b[39m\u001b[39m\"\u001b[39m)\u001b[39m.\u001b[39mitem()\n\u001b[1;32m    567\u001b[0m indexes[dim] \u001b[39m=\u001b[39m \u001b[39mslice\u001b[39m(\u001b[39mmax\u001b[39m(imin \u001b[39m-\u001b[39m \u001b[39m2\u001b[39m, \u001b[39m0\u001b[39m), imax \u001b[39m+\u001b[39m \u001b[39m2\u001b[39m)\n",
      "File \u001b[0;32m~/EnvPBGEM_Linux/lib/python3.10/site-packages/pandas/core/indexes/base.py:3731\u001b[0m, in \u001b[0;36mIndex.get_indexer\u001b[0;34m(self, target, method, limit, tolerance)\u001b[0m\n\u001b[1;32m   3728\u001b[0m \u001b[39mself\u001b[39m\u001b[39m.\u001b[39m_check_indexing_method(method, limit, tolerance)\n\u001b[1;32m   3730\u001b[0m \u001b[39mif\u001b[39;00m \u001b[39mnot\u001b[39;00m \u001b[39mself\u001b[39m\u001b[39m.\u001b[39m_index_as_unique:\n\u001b[0;32m-> 3731\u001b[0m     \u001b[39mraise\u001b[39;00m InvalidIndexError(\u001b[39mself\u001b[39m\u001b[39m.\u001b[39m_requires_unique_msg)\n\u001b[1;32m   3733\u001b[0m \u001b[39mif\u001b[39;00m \u001b[39mlen\u001b[39m(target) \u001b[39m==\u001b[39m \u001b[39m0\u001b[39m:\n\u001b[1;32m   3734\u001b[0m     \u001b[39mreturn\u001b[39;00m np\u001b[39m.\u001b[39marray([], dtype\u001b[39m=\u001b[39mnp\u001b[39m.\u001b[39mintp)\n",
      "\u001b[0;31mInvalidIndexError\u001b[0m: Reindexing only valid with uniquely valued Index objects"
     ]
    }
   ],
   "source": [
    " \n",
    "vars = [\n",
    "    \"Electrolyte potential [V]\",\n",
    "    \"Terminal voltage [V]\", \n",
    "    \"Negative electrode porosity\",\n",
    "]\n",
    "quick_plot = pb.QuickPlot(\n",
    "    Sol_RPT[0], vars,\n",
    "    time_unit='hours',n_rows=2) #figsize = (18,12),\n",
    "quick_plot.dynamic_plot()"
   ]
  },
  {
   "cell_type": "code",
   "execution_count": null,
   "metadata": {},
   "outputs": [],
   "source": [
    "midc_merge[\"Discharge capacity [A.h]\"]"
   ]
  }
 ],
 "metadata": {
  "kernelspec": {
   "display_name": "EnvPB_Linux",
   "language": "python",
   "name": "python3"
  },
  "language_info": {
   "codemirror_mode": {
    "name": "ipython",
    "version": 3
   },
   "file_extension": ".py",
   "mimetype": "text/x-python",
   "name": "python",
   "nbconvert_exporter": "python",
   "pygments_lexer": "ipython3",
   "version": "3.10.6"
  },
  "orig_nbformat": 4
 },
 "nbformat": 4,
 "nbformat_minor": 2
}
