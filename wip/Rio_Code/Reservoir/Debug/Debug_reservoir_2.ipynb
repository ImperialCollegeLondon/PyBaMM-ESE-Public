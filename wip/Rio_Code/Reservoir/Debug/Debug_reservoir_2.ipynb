{
 "cells": [
  {
   "cell_type": "markdown",
   "metadata": {},
   "source": [
    "## Run Full_Exp_9_3Ts_wRest to debug the following error in HPC:"
   ]
  },
  {
   "cell_type": "markdown",
   "metadata": {},
   "source": [
    "## Don't rename! Don't delete the output of the cells! Later I figure out that the error is due to the elements of output when Timeout is triggered, in the except in class TimeoutFunc(object), is only 3, but now my Run_Model_Base_On_Last_Solution and Run_Model_Base_On_Last_Solution_RPT have 4 outputs!"
   ]
  },
  {
   "cell_type": "code",
   "execution_count": 1,
   "metadata": {},
   "outputs": [
    {
     "data": {
      "text/plain": [
       "' \\nTraceback (most recent call last):\\n  File \"/rds/general/user/rl1120/home/P2_R9_Dim/Exp2_AAT/Reservoir_woRest.py\", line 332, in <module>\\n    midc_merge,Sol_RPT,Sol_AGE,DeBug_Lists = Run_P2_Excel (\\n  File \"/rds/general/user/rl1120/home/P2_R9_Dim/Exp2_AAT/Fun_P2.py\", line 2445, in Run_P2_Excel\\n    [Model_Dry_i, Sol_Dry_i , Call_Age,DeBug_List_AGE ] = Result_list_AGE\\nValueError: not enough values to unpack (expected 4, got 3)\\n '"
      ]
     },
     "execution_count": 1,
     "metadata": {},
     "output_type": "execute_result"
    }
   ],
   "source": [
    "\"\"\" \n",
    "Traceback (most recent call last):\n",
    "  File \"/rds/general/user/rl1120/home/P2_R9_Dim/Exp2_AAT/Reservoir_woRest.py\", line 332, in <module>\n",
    "    midc_merge,Sol_RPT,Sol_AGE,DeBug_Lists = Run_P2_Excel (\n",
    "  File \"/rds/general/user/rl1120/home/P2_R9_Dim/Exp2_AAT/Fun_P2.py\", line 2445, in Run_P2_Excel\n",
    "    [Model_Dry_i, Sol_Dry_i , Call_Age,DeBug_List_AGE ] = Result_list_AGE\n",
    "ValueError: not enough values to unpack (expected 4, got 3)\n",
    " \"\"\""
   ]
  },
  {
   "cell_type": "code",
   "execution_count": 2,
   "metadata": {},
   "outputs": [],
   "source": [
    "# magic lines that avoid re-start \n",
    "%load_ext autoreload\n",
    "%autoreload 2\n",
    "import pybamm as pb;import pandas as pd;import numpy as np;\n",
    "import os, json,openpyxl,traceback,multiprocessing,scipy.optimize,sys\n",
    "import matplotlib.pyplot as plt;\n",
    "import imageio,timeit,random,time, signal\n",
    "from scipy.io import savemat,loadmat;\n",
    "from pybamm import constants,exp;import matplotlib as mpl"
   ]
  },
  {
   "cell_type": "code",
   "execution_count": 3,
   "metadata": {},
   "outputs": [
    {
     "name": "stdout",
     "output_type": "stream",
     "text": [
      "Total scan case is 1\n"
     ]
    }
   ],
   "source": [
    "########################     Global settings!!!\n",
    "rows_per_file = 1;  Scan_end_end = 6;\n",
    "purpose_i = \"Full_Exp_9_3Ts_wRest\"\n",
    "\n",
    "On_HPC =  False  \n",
    "Runshort  =   True                    # a long run or a quick test\n",
    "Add_Rest = True\n",
    "\n",
    "\n",
    "if On_HPC:\n",
    "    i_bundle = int(os.environ[\"PBS_ARRAY_INDEX\"])\n",
    "else:\n",
    "    i_bundle = 1; # manually specify\n",
    "Scan_start = (i_bundle-1)*rows_per_file+1;    \n",
    "Scan_end   = min(Scan_start + rows_per_file-1, Scan_end_end)    \n",
    "purpose = f\"{purpose_i}_Case_{Scan_start}_{Scan_end}\"\n",
    "# interpetation: Simnon suggested, with cracking activation, heat transfer\n",
    "para_csv = f\"Bundle_{i_bundle}.csv\"  # name of the random file to get parameters\n",
    "\n",
    "\n",
    "if On_HPC:                          # Run on HPC\n",
    "    Path_csv = f\"InputData/{purpose_i}/\" \n",
    "    Path_NiallDMA = \"InputData/\" \n",
    "    BasicPath=os.getcwd() \n",
    "    Para_file = Path_csv +  para_csv\n",
    "else:\n",
    "    import sys  \n",
    "    str_path_0 = os.path.abspath(os.path.join(pb.__path__[0],'..'))\n",
    "    str_path_1 = os.path.abspath(\n",
    "        os.path.join(str_path_0,\"wip/Rio_Code/Fun_P2\"))\n",
    "    sys.path.append(str_path_1) \n",
    "    Path_NiallDMA = os.path.expanduser(\n",
    "        \"~/EnvPBGEM_Linux/SimSave/InputData/\") # for Linux\n",
    "    BasicPath =  os.path.expanduser(\n",
    "        \"~/EnvPBGEM_Linux/SimSave/P2_R9_Dim\")\n",
    "    Para_file = BasicPath+f'/Get_Random_sets2/{purpose_i}/'+para_csv\n",
    "    \n",
    "if not os.path.exists(BasicPath +\"/\"+ purpose):\n",
    "    os.mkdir(BasicPath +\"/\"+ purpose);\n",
    "# import all functions \n",
    "from Fun_P2 import * \n",
    "\n",
    "# Load the random file\n",
    "parameter_names, combinations = load_combinations_from_csv(Para_file)\n",
    "\n",
    "\n",
    "pool_no = len(combinations)\n",
    "Indexs  = np.arange(Scan_start-1,Scan_end)\n",
    "index_list = Indexs+1\n",
    "\"\"\" para_dict_Same = {\n",
    "   \"Total ageing cycles\":int(tot_cyc), # \n",
    "   \"Ageing cycles between RPT\":int(cyc_age), # \n",
    "   \"Update cycles for ageing\": int(cyc_age),\n",
    "} \"\"\"\n",
    "# Get all para\n",
    "Para_dict_list = []\n",
    "# get all dictionaries\n",
    "for combination in combinations:\n",
    "    input_dict = {}\n",
    "    for parameter_name,para_value in zip(parameter_names,combination ):\n",
    "        input_dict[parameter_name] = para_value\n",
    "    Para_dict_list.append(input_dict)\n",
    "print(f\"Total scan case is {len(Para_dict_list)}\")"
   ]
  },
  {
   "cell_type": "code",
   "execution_count": 4,
   "metadata": {},
   "outputs": [
    {
     "name": "stdout",
     "output_type": "stream",
     "text": [
      "Successfully create a excel file\n"
     ]
    }
   ],
   "source": [
    "# define global index and dict for all experiment data - prepare for read!\n",
    "Exp_Path = [\n",
    "    \"Expt 1 - Si-based Degradation/\",\n",
    "    \"Expt 2,2 - C-based Degradation 2/\",\n",
    "    \"Expt 3 - Cathode Degradation and Li-Plating/\",\n",
    "    \"Expt 4 - Drive Cycle Aging (Control)/\",\n",
    "    \"Expt 5 - Standard Cycle Aging (Control)/\",]\n",
    "Exp_head = [\n",
    "    \"Expt 1\",\n",
    "    \"Expt 2,2\",\n",
    "    \"Expt 3\",\n",
    "    \"Expt 4\",\n",
    "    \"Expt 5\",]\n",
    "Exp_1_Cell = [\"A\",\"B\",\"J\",\"D\",\"E\",\"F\",\"K\",\"L\",\"M\"];\n",
    "Exp_1_Temp = {\n",
    "    \"A\":\"10\",\"B\":\"10\",\"J\":\"10\",\n",
    "    \"D\":\"25\",\"E\":\"25\",\"F\":\"25\",\n",
    "    \"K\":\"40\",\"L\":\"40\",\"M\":\"40\",}\n",
    "Temp_Cell_Exp_1 = {\n",
    "    \"10\":[\"A\",\"B\",\"J\"],\n",
    "    \"25\":[\"D\",\"E\",\"F\"],\n",
    "    \"40\":[\"K\",\"L\",\"M\"],}\n",
    "Exp_2_Cell = [\"A\",\"B\",\"C\",\"D\",\"E\",\"F\"];\n",
    "Exp_2_Temp = {\n",
    "    \"A\":\"10\",\"B\":\"10\",\n",
    "    \"C\":\"25\",\"D\":\"25\",\n",
    "    \"E\":\"40\",\"F\":\"40\",}\n",
    "Temp_Cell_Exp_2 = {\n",
    "    \"10\":[\"A\",\"B\"],\n",
    "    \"25\":[\"C\",\"D\"],\n",
    "    \"40\":[\"E\",\"F\"],}\n",
    "Exp_3_Cell = [\"A\",\"B\",\"C\",\"D\",\"E\",\"F\",\"G\",\"H\",\"I\"];\n",
    "Exp_3_Temp = {\n",
    "    \"A\":\"10\",\"B\":\"10\",\"C\":\"10\",\n",
    "    \"D\":\"25\",\"E\":\"25\",\"F\":\"25\",\n",
    "    \"G\":\"40\",\"H\":\"40\",\"I\":\"40\"}\n",
    "Temp_Cell_Exp_3 = {\n",
    "    \"10\":[\"A\",\"B\",\"C\"],\n",
    "    \"25\":[\"D\",\"E\",\"F\"],\n",
    "    \"40\":[\"G\",\"H\",\"I\"],}\n",
    "Exp_4_Cell = [\"A\",\"B\",\"C\",\"D\",\"E\",\"F\",\"G\",\"H\"];\n",
    "Exp_4_Temp = {\n",
    "    \"A\":\"10\",\"B\":\"10\",\"C\":\"10\",\n",
    "    \"D\":\"25\",\"E\":\"25\",\n",
    "    \"F\":\"40\",\"G\":\"40\",\"H\":\"40\",}\n",
    "Temp_Cell_Exp_4 = {\n",
    "    \"10\":[\"A\",\"B\",\"C\"],\n",
    "    \"25\":[\"D\",\"E\",],\n",
    "    \"40\":[\"F\",\"G\",\"H\"],}\n",
    "Exp_5_Cell = [\"A\",\"B\",\"C\",\"D\",\"E\",\"F\",\"G\",\"H\"];\n",
    "Exp_5_Temp = {\n",
    "    \"A\":\"10\",\"B\":\"10\",\"C\":\"10\",\n",
    "    \"D\":\"25\",\"E\":\"25\",\n",
    "    \"F\":\"40\",\"G\":\"40\",\"H\":\"40\",}\n",
    "Temp_Cell_Exp_5 = {\n",
    "    \"10\":[\"A\",\"B\",\"C\"],\n",
    "    \"25\":[\"D\",\"E\",],\n",
    "    \"40\":[\"F\",\"G\",\"H\"],}\n",
    "Exp_All_Cell  = [Exp_1_Cell,Exp_2_Cell,Exp_3_Cell,Exp_4_Cell,Exp_5_Cell]\n",
    "Exp_Temp_Cell = [Exp_1_Temp,Exp_2_Temp,Exp_3_Temp,Exp_4_Temp,Exp_5_Temp]\n",
    "Temp_Cell_Exp_All = [Temp_Cell_Exp_1,Temp_Cell_Exp_2,Temp_Cell_Exp_3,Temp_Cell_Exp_4,Temp_Cell_Exp_5]\n",
    "Mark_Cell_All = [\n",
    "    {\n",
    "    \"A\":\"o\",\"B\":\">\",\"J\":\"v\",\n",
    "    \"D\":\"o\",\"E\":\">\",\"F\":\"v\",\n",
    "    \"K\":\"o\",\"L\":\">\",\"M\":\"v\",},\n",
    "    {\n",
    "    \"A\":\"10\",\"B\":\"10\",\n",
    "    \"C\":\"25\",\"D\":\"25\",\n",
    "    \"E\":\"40\",\"F\":\"40\",},\n",
    "    {\n",
    "    \"A\":\"o\",\"B\":\">\",\"C\":\"v\",\n",
    "    \"D\":\"o\",\"E\":\">\",\"F\":\"v\",\n",
    "    \"G\":\"o\",\"H\":\">\",\"I\":\"v\",},\n",
    "    {\n",
    "    \"A\":\"o\",\"B\":\">\",\"C\":\"v\",\n",
    "    \"D\":\"o\",\"E\":\">\",\n",
    "    \"F\":\"o\",\"G\":\">\",\"H\":\"v\",},\n",
    "    {\n",
    "    \"A\":\"o\",\"B\":\">\",\"C\":\"v\",\n",
    "    \"D\":\"o\",\"E\":\">\",\n",
    "    \"F\":\"o\",\"G\":\">\",\"H\":\"v\",}]\n",
    "Color_Cell_All = [\n",
    "    {\n",
    "    \"A\":[2/255, 3/255, 226/255,0.7],\"B\":[2/255, 3/255, 226/255,0.7],\"J\":[2/255, 3/255, 226/255,0.7],\n",
    "    \"D\":[0, 0, 0,0.7],\"E\":[0, 0, 0,0.7],\"F\":[0, 0, 0,0.7],\n",
    "    \"K\":[1,0,0,0.4],\"L\":[1,0,0,0.4],\"M\":[1,0,0,0.4],},\n",
    "    {\n",
    "    \"A\":[2/255, 3/255, 226/255,0.7],\"B\":[2/255, 3/255, 226/255,0.7],\n",
    "    \"D\":[0, 0, 0,0.7],\"C\":[0, 0, 0,0.7],\n",
    "    \"E\":[1,0,0,0.4],\"F\":[1,0,0,0.4],},\n",
    "    {\n",
    "    \"A\":[2/255, 3/255, 226/255,0.7],\"B\":[2/255, 3/255, 226/255,0.7],\"C\":[2/255, 3/255, 226/255,0.7],\n",
    "    \"D\":[0, 0, 0,0.7],\"E\":[0, 0, 0,0.7],\"F\":[0, 0, 0,0.7],\n",
    "    \"G\":[1,0,0,0.4],\"H\":[1,0,0,0.4],\"I\":[1,0,0,0.4],},\n",
    "    {\n",
    "    \"A\":[2/255, 3/255, 226/255,0.7],\"B\":[2/255, 3/255, 226/255,0.7],\"C\":[2/255, 3/255, 226/255,0.7],\n",
    "    \"D\":[0, 0, 0,0.7],\"E\":[0, 0, 0,0.7],\n",
    "    \"F\":[1,0,0,0.4],\"G\":[1,0,0,0.4],\"H\":[1,0,0,0.4],},\n",
    "    {\n",
    "    \"A\":[2/255, 3/255, 226/255,0.7],\"B\":[2/255, 3/255, 226/255,0.7],\"C\":[2/255, 3/255, 226/255,0.7],\n",
    "    \"D\":[0, 0, 0,0.7],\"E\":[0, 0, 0,0.7],\n",
    "    \"F\":[1,0,0,0.4],\"G\":[1,0,0,0.4],\"H\":[1,0,0,0.4],}]\n",
    "# Update 23-06-17 \n",
    "#   para=\"Total heat transfer coefficient [W.m-2.K-1]\";\n",
    "#   output=\"Volume-averaged cell temperature [C]\"\n",
    "########################  Output  ########################\n",
    "keys_loc_RPT = [ # MAY WANT TO SELECT AGEING CYCLE later\n",
    "    # Default output:\n",
    "    \"x [m]\",\n",
    "    \"x_n [m]\",\n",
    "    \"x_s [m]\",\n",
    "    \"x_p [m]\",\n",
    "    # default: end; \n",
    "    \"CCend Porosity\",\n",
    "    \"CCend Negative electrode interfacial current density [A.m-2]\",\n",
    "    \"CCend Electrolyte potential [V]\",\n",
    "    \"CCend Electrolyte concentration [mol.m-3]\",\n",
    "    \"CCend Negative electrode reaction overpotential [V]\",\n",
    "    \"CCend Negative particle surface concentration [mol.m-3]\",\n",
    "    #\"CCend Negative electrode roughness ratio\",\n",
    "    #\"CCend Total SEI on cracks thickness [m]\",\n",
    "\n",
    "    \"CDend Porosity\",\n",
    "    \"CDend Negative electrode interfacial current density [A.m-2]\",\n",
    "    \"CDend Electrolyte potential [V]\",\n",
    "    \"CDend Electrolyte concentration [mol.m-3]\",\n",
    "    \"CDend Negative electrode reaction overpotential [V]\",\n",
    "    \"CDend Negative particle surface concentration [mol.m-3]\",\n",
    "    #\"CDend Negative electrode roughness ratio\",\n",
    "    #\"CDend Total SEI on cracks thickness [m]\",\n",
    "    #\"REend Total SEI on cracks thickness [m]\",\n",
    "]\n",
    "keys_tim_RPT = [\n",
    "    # default: CD\n",
    "    \"CD Time [h]\",\n",
    "    \"CD Terminal voltage [V]\",\n",
    "    \"CD Anode potential [V]\",    # self defined\n",
    "    \"CD Cathode potential [V]\",  # self defined\n",
    "    \"CC Time [h]\",\n",
    "    \"CC Terminal voltage [V]\",\n",
    "    \"CC Anode potential [V]\",    # self defined\n",
    "    \"CC Cathode potential [V]\",  # self defined\n",
    "]\n",
    "keys_cyc_RPT = [   # default: CDend\n",
    "    \"Discharge capacity [A.h]\",\n",
    "    \"Throughput capacity [A.h]\",\n",
    "    \"CDend Total lithium capacity in particles [A.h]\",\n",
    "    \"CDend Loss of capacity to lithium plating [A.h]\",\n",
    "    \"CDend Loss of capacity to SEI [A.h]\",\n",
    "    \"CDend Loss of capacity to SEI on cracks [A.h]\",\n",
    "    #\"CDend X-averaged total SEI on cracks thickness [m]\",\n",
    "    #\"CDend X-averaged negative electrode roughness ratio\",\n",
    "    \"CDend Local ECM resistance [Ohm]\",\n",
    "    \"CDsta Negative electrode stoichiometry\", \n",
    "    \"CDend Negative electrode stoichiometry\",\n",
    "    \"CDsta Positive electrode stoichiometry\", \n",
    "    \"CDend Positive electrode stoichiometry\",\n",
    "    \"CDend Negative electrode capacity [A.h]\",\n",
    "    \"CDend Positive electrode capacity [A.h]\",\n",
    "]\n",
    "\n",
    "keys_loc_AGE = [ # MAY WANT TO SELECT AGEING CYCLE later\n",
    "    # Default output:\n",
    "    \"x [m]\",\n",
    "    \"x_n [m]\",\n",
    "    \"x_s [m]\",\n",
    "    \"x_p [m]\",\n",
    "    # default: end; \n",
    "    \"CCend Porosity\",\n",
    "    \"CCend Negative electrode interfacial current density [A.m-2]\",\n",
    "    \"CCend Electrolyte potential [V]\",\n",
    "    \"CCend Electrolyte concentration [mol.m-3]\",\n",
    "    \"CCend Negative electrode reaction overpotential [V]\",\n",
    "    \"CCend Negative particle surface concentration [mol.m-3]\",\n",
    "    \"CCend Negative electrode surface potential difference [V]\",\n",
    "    \"CCend SEI film overpotential [V]\",\n",
    "    #\"CCend Negative electrode roughness ratio\",\n",
    "    #\"CCend Total SEI on cracks thickness [m]\",\n",
    "\n",
    "    \"CDend Porosity\",\n",
    "    \"CDend Negative electrode interfacial current density [A.m-2]\",\n",
    "    \"CDend Electrolyte potential [V]\",\n",
    "    \"CDend Electrolyte concentration [mol.m-3]\",\n",
    "    \"CDend Negative electrode reaction overpotential [V]\",\n",
    "    \"CDend Negative particle surface concentration [mol.m-3]\",\n",
    "    #\"CDend Negative electrode roughness ratio\",\n",
    "    #\"CDend Total SEI on cracks thickness [m]\",\n",
    "    \"CDend Negative electrode surface potential difference [V]\",\n",
    "    \"CDend SEI film overpotential [V]\",\n",
    "    \"CDend Electrolyte diffusivity [m2.s-1]\",\n",
    "    \"CDend Electrolyte conductivity [S.m-1]\",\n",
    "]\n",
    "keys_tim_AGE = [\n",
    "    # default: CD\n",
    "    \"CD Time [h]\",\n",
    "    \"CD Terminal voltage [V]\",\n",
    "    \"CD Anode potential [V]\",    # self defined\n",
    "    \"CD Cathode potential [V]\",  # self defined\n",
    "    \n",
    "    \"CC Time [h]\",\n",
    "    \"CC Terminal voltage [V]\",\n",
    "    \"CC Anode potential [V]\",    # self defined\n",
    "    \"CC Cathode potential [V]\",  # self defined\n",
    "]\n",
    "keys_cyc_AGE = [];\n",
    "keys_all_RPT = [keys_loc_RPT,keys_tim_RPT,keys_cyc_RPT];\n",
    "keys_all_AGE = [keys_loc_AGE,keys_tim_AGE,keys_cyc_AGE];\n",
    "keys_all = [keys_all_RPT,keys_all_AGE];\n",
    "\n",
    "\n",
    "# Write para - 1st round:\n",
    "Values_1 = []\n",
    "head_keys = list(Para_dict_list[0].keys())\n",
    "head_pre = [\n",
    "    \"Scan No\",\"Exp No.\",\"Y or N\",\n",
    "    \"Error Tot%\",\"Error SOH %\",\"Error LLI %\",\n",
    "    \"Error LAM NE %\",\"Error LAM PE %\",\n",
    "    \"Error Res %\",\"Error ageT %\",\"Punish\",\n",
    "    \"Dry out\",]\n",
    "\n",
    "head_pos = [ \n",
    "    \"Total ageing cycles\",\"Ageing cycles between RPT\",\n",
    "    \"Update cycles for ageing\",\n",
    "    \"exp_AGE_text\", \"exp_RPT_text\",\n",
    "   \"Cap Loss\",\"LLI to LiP\",\n",
    "   \"LLI to SEI\",\"LLI to sei-on-cracks\",\n",
    "   \"LAM to Neg\",\"LAM to Pos\",\n",
    "   \"Vol_Elely_Tot Final\", \"Vol_Elely_JR Final\",\"Width Final\",\"Error\"]\n",
    "Values_1 .append([*head_pre,*head_keys,*head_pos])\n",
    "book_name_xlsx = f'Summary_{purpose}.xlsx';\n",
    "sheet_name_xlsx = 'Output'\n",
    "Target  = f'/{purpose}/'\n",
    "write_excel_xlsx(\n",
    "    BasicPath + Target + book_name_xlsx, \n",
    "    sheet_name_xlsx, Values_1)   \n",
    "Exp_pack = [\n",
    "    Exp_All_Cell,Temp_Cell_Exp_All,\n",
    "    Exp_Path,Exp_head,Exp_Temp_Cell,\n",
    "    book_name_xlsx,]  \n",
    "# remaining set-up for experiment and create folders\n",
    "\n",
    "if not os.path.exists(BasicPath +Target+\"Mats\"):\n",
    "    os.mkdir(BasicPath +Target +\"Mats\");\n",
    "if not os.path.exists(BasicPath +Target+\"Plots\"):\n",
    "    os.mkdir(BasicPath +Target+\"Plots\");\n",
    "if not os.path.exists(BasicPath +Target+\"Excel\"):\n",
    "    os.mkdir(BasicPath +Target+\"Excel\");"
   ]
  },
  {
   "cell_type": "code",
   "execution_count": 6,
   "metadata": {},
   "outputs": [
    {
     "name": "stdout",
     "output_type": "stream",
     "text": [
      "{'Scan No': 1, 'Exp No.': 9, 'Ageing temperature': 25, 'Mesh list': '[5,5,5,60,20]', 'Inner SEI lithium interstitial diffusivity [m2.s-1]': 2e-19, 'Dead lithium decay constant [s-1]': 1e-07, 'Lithium plating kinetic rate constant [m.s-1]': 1e-10, 'Negative electrode LAM constant proportional term [s-1]': 2.84e-09, 'Positive electrode LAM constant proportional term [s-1]': 2.98e-18, 'Negative electrode cracking rate': 5.29e-25, 'Outer SEI partial molar volume [m3.mol-1]': 5.22e-05, 'SEI growth activation energy [J.mol-1]': 10000, 'Negative cracking growth activation energy [J.mol-1]': 0, 'Negative electrode diffusivity activation energy [J.mol-1]': 17000, 'Positive electrode diffusivity activation energy [J.mol-1]': 12000, 'Contact resistance [Ohm]': 0.0115, 'Total heat transfer coefficient [W.m-2.K-1]': 20, 'Initial electrolyte excessive amount ratio': 1.1, 'Cycles within RPT': 1, 'RPT temperature': 25, 'Para_Set': 'OKane2023', 'Model option': \"{'SEI': 'interstitial-diffusion limited', 'SEI on cracks': 'true', 'lithium plating': 'partially reversible', 'lithium plating porosity change': 'true', 'particle mechanics': ('swelling and cracking', 'swelling only'), 'loss of active material': 'stress-driven', 'contact resistance': 'true', 'open-circuit potential': 'current sigmoid', 'SEI film resistance': 'distributed', 'SEI porosity change': 'true', 'thermal': 'lumped'}\", 'Current solvent concentration in the reservoir [mol.m-3]': 4541, 'Current electrolyte concentration in the reservoir [mol.m-3]': 1000, 'Ratio of Li-ion concentration change in electrolyte consider solvent consumption': 1, 'EC initial concentration in electrolyte [mol.m-3]': 4541, 'Typical EC concentration in electrolyte [mol.m-3]': 4541}\n"
     ]
    }
   ],
   "source": [
    "print(Para_dict_list[0]) # initial mesh: [5,5,5,60,20]\n",
    "Para_dict_list[0][ 'Inner SEI lithium interstitial diffusivity [m2.s-1]'] = 9.81e-18\n",
    "# run record\n",
    "# 1-'[10,10,10,100,20]' - 1 hour every 26 ageing cycles"
   ]
  },
  {
   "cell_type": "code",
   "execution_count": 7,
   "metadata": {},
   "outputs": [
    {
     "name": "stdout",
     "output_type": "stream",
     "text": [
      "Start Now! Scan 1.\n",
      "Has Overwritten Initial outer SEI thickness [m] to be 6.73e-09 and Negative electrode porosity to be 0.235 to account for initial capacity loss of 0.135 Ah\n",
      "Scan 1: DryOut = On\n",
      "Initial electrolyte amount is  5.759780286600199 mL\n",
      "Scan 1: Spent 2.941 ms on Initialization\n"
     ]
    },
    {
     "name": "stderr",
     "output_type": "stream",
     "text": [
      "At t = 351.089 and h = 2.34302e-11, the corrector convergence failed repeatedly or with |h| = hmin.\n"
     ]
    },
    {
     "name": "stdout",
     "output_type": "stream",
     "text": [
      "Scan 1: Finish break-in cycle within 2 minutes, 24 seconds\n",
      "Fail to read Throughput capacity for the 1th time\n",
      "Scan 1: Finish post-process for break-in cycle within 1.556 s\n",
      "Electrolyte is being squeezed out, check plated lithium (active and dead)\n"
     ]
    },
    {
     "name": "stderr",
     "output_type": "stream",
     "text": [
      "At t = 124.215 and h = 1.61623e-11, the corrector convergence failed repeatedly or with |h| = hmin.\n",
      "At t = 124.215 and h = 8.36066e-12, the corrector convergence failed repeatedly or with |h| = hmin.\n"
     ]
    },
    {
     "name": "stdout",
     "output_type": "stream",
     "text": [
      "Scan 1: Finish for No.0 ageing cycles within 48.727 s\n",
      "Scan 1: Finish post-process for No.1 ageing cycles within 409.548 ms\n"
     ]
    },
    {
     "name": "stderr",
     "output_type": "stream",
     "text": [
      "At t = 358.431 and h = 1.78828e-12, the corrector convergence failed repeatedly or with |h| = hmin.\n",
      "At t = 347.122 and h = 1.3575e-11, the corrector convergence failed repeatedly or with |h| = hmin.\n"
     ]
    },
    {
     "name": "stdout",
     "output_type": "stream",
     "text": [
      "Fail to read Throughput capacity for the 1th time\n",
      "Scan 1: Finish for No.1 RPT cycles within 2 minutes, 21 seconds\n",
      "Scan 1: Finish post-process for No.1 RPT cycles within 1.013 s\n"
     ]
    },
    {
     "name": "stderr",
     "output_type": "stream",
     "text": [
      "At t = 113.57 and h = 3.40597e-15, the corrector convergence failed repeatedly or with |h| = hmin.\n",
      "At t = 113.571 and h = 2.41703e-12, the corrector convergence failed repeatedly or with |h| = hmin.\n",
      "At t = 113.571 and h = 1.37123e-11, the corrector convergence failed repeatedly or with |h| = hmin.\n",
      "At t = 53.5707 and h = 5.88353e-12, the corrector convergence failed repeatedly or with |h| = hmin.\n"
     ]
    },
    {
     "name": "stdout",
     "output_type": "stream",
     "text": [
      "Scan 1: Finish for No.1 ageing cycles within 53.783 s\n",
      "Scan 1: Finish post-process for No.2 ageing cycles within 238.804 ms\n"
     ]
    },
    {
     "name": "stderr",
     "output_type": "stream",
     "text": [
      "At t = 354.5 and h = 1.72414e-11, the corrector convergence failed repeatedly or with |h| = hmin.\n",
      "At t = 343.242 and h = 2.11101e-12, the corrector convergence failed repeatedly or with |h| = hmin.\n"
     ]
    },
    {
     "name": "stdout",
     "output_type": "stream",
     "text": [
      "Fail to read Throughput capacity for the 1th time\n",
      "Scan 1: Finish for No.2 RPT cycles within 2 minutes, 14 seconds\n",
      "Scan 1: Finish post-process for No.2 RPT cycles within 873.710 ms\n",
      "Scan 1: Getting extra variables within 74.100 us\n",
      "Scan 1: Finish all plots within 6.654 s\n",
      "Successfully create a excel file\n",
      "Scan 1: Successfully save json file!\n",
      "Scan 1: Successfully save mat file!\n",
      "Scan 1: Try saving within 35.265 ms\n",
      "Succeed doing something in 8 minutes, 53 seconds\n",
      "This is the end of No. 1  scan\n"
     ]
    }
   ],
   "source": [
    "fs = 13; dpi = 100;\n",
    "midc_merge_all = [];Sol_RPT_all = [];Sol_AGE_all = [];\n",
    "Plot_Exp=True;     Timeout=True;     Timelimit = int(3600*2)\n",
    "Return_Sol=True;   Check_Small_Time=True; R_from_GITT = False\n",
    "midc_merge,Sol_RPT,Sol_AGE,DeBug_Lists = Run_P2_Excel (\n",
    "    Para_dict_list[0],BasicPath, Path_NiallDMA, \n",
    "    purpose,    Exp_pack, keys_all,dpi,fs,\n",
    "    Runshort,   Plot_Exp,Timeout, Timelimit,\n",
    "    Return_Sol, Check_Small_Time, R_from_GITT,Add_Rest,\n",
    ") \n"
   ]
  }
 ],
 "metadata": {
  "kernelspec": {
   "display_name": "EnvPB_Linux",
   "language": "python",
   "name": "python3"
  },
  "language_info": {
   "codemirror_mode": {
    "name": "ipython",
    "version": 3
   },
   "file_extension": ".py",
   "mimetype": "text/x-python",
   "name": "python",
   "nbconvert_exporter": "python",
   "pygments_lexer": "ipython3",
   "version": "3.10.6"
  },
  "orig_nbformat": 4
 },
 "nbformat": 4,
 "nbformat_minor": 2
}
