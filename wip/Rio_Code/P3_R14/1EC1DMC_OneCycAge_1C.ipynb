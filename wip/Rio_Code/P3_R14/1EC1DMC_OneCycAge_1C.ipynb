{
 "cells": [
  {
   "attachments": {},
   "cell_type": "markdown",
   "metadata": {},
   "source": [
    "# this is to show how double transport affect j_SEI, produce Fig. 7"
   ]
  },
  {
   "cell_type": "code",
   "execution_count": 7,
   "metadata": {},
   "outputs": [
    {
     "name": "stdout",
     "output_type": "stream",
     "text": [
      "The autoreload extension is already loaded. To reload it, use:\n",
      "  %reload_ext autoreload\n"
     ]
    }
   ],
   "source": [
    "# magic lines that avoid re-start\n",
    "%load_ext autoreload\n",
    "%autoreload 2\n",
    "import pybamm;import pandas as pd   ;import numpy as np;import os;import matplotlib.pyplot as plt;import os;#import imageio\n",
    "from scipy.io import savemat,loadmat;from pybamm import constants,exp,sqrt;\n",
    "import matplotlib as mpl; \n",
    "fs=17; # or we can set import matplotlib.pyplot as plt then say 'mpl.rc...'\n",
    "import openpyxl\n",
    "import traceback\n",
    "import multiprocessing\n",
    "font = {'family' : 'DejaVu Sans','size'   : fs}\n",
    "mpl.rc('font', **font)"
   ]
  },
  {
   "cell_type": "code",
   "execution_count": 8,
   "metadata": {},
   "outputs": [],
   "source": [
    "Crate = 1"
   ]
  },
  {
   "cell_type": "code",
   "execution_count": 9,
   "metadata": {},
   "outputs": [],
   "source": [
    "import sys  \n",
    "str_path_0 = os.path.abspath(os.path.join(pybamm.__path__[0],'..'))\n",
    "str_path_1 = os.path.abspath(os.path.join(str_path_0,\"wip/Rio_Code/Fun_P3\"))\n",
    "sys.path.append(str_path_1) \n",
    "from Fun_P3 import *\n",
    "BasicPath = os.path.expanduser(\"~/EnvPBGEM_ECDrag2/Double_SimSave/Double_Trans/\")\n",
    "Target  = 'OneCycAge_240319/'\n",
    "if not os.path.exists(BasicPath + Target):\n",
    "   os.mkdir(BasicPath + Target)\n",
    "Save_Fig = True"
   ]
  },
  {
   "cell_type": "code",
   "execution_count": 10,
   "metadata": {},
   "outputs": [
    {
     "name": "stdout",
     "output_type": "stream",
     "text": [
      "2 1\n"
     ]
    }
   ],
   "source": [
    "# define parameter of double and single \n",
    "Para_dict_Same = {\n",
    "   \"Mesh list\":[ [10,5,10,100,20], ],    # Simon uses 30\n",
    "   \"Para_Set\":[ \"Li2023_ECdrag\",],\n",
    "   \"Contact resistance [Ohm]\":[6e-3],\n",
    "   \"Initial Neg SOC\":[0.8841301667966484,],\n",
    "   \"Initial Pos SOC\":[0.23552755074598045,],}\n",
    "Para_dict_DD_ONLY = {\n",
    "   \"Model option\":[{\n",
    "      \"SEI\": \"constant\",\n",
    "      \"SEI film resistance\":\"distributed\",   \n",
    "      \"SEI porosity change\": \"true\",\n",
    "      \"solvent diffusion\": \"double spatial consume w refill\",\n",
    "      \"electrolyte conductivity\": \"sol full\"  ,\n",
    "     \"contact resistance\":\"true\",  },],\n",
    "   \"Lithium ion EC cross diffusivity [m2.s-1]\":[0,1e-11], #\n",
    "}\n",
    "Para_dict_SD_ONLY = {\n",
    "   \"Model option\":[{\n",
    "      \"SEI\": \"constant\",\n",
    "      \"SEI film resistance\":\"distributed\",   \n",
    "      \"SEI porosity change\": \"true\",\n",
    "      \"solvent diffusion\": \"single no consume wo refill\",\n",
    "      \"electrolyte conductivity\": \"full\"  ,\n",
    "      \"contact resistance\":\"true\",  },],\n",
    "}\n",
    "Para_dict_DD = {**Para_dict_Same,**Para_dict_DD_ONLY}\n",
    "Para_dict_SD = {**Para_dict_Same,**Para_dict_SD_ONLY}\n",
    "Para_DD = [];  Para_SD=[];\n",
    "recursive_scan(Para_DD,Para_dict_DD, list(Para_dict_DD.keys()), {})\n",
    "recursive_scan(Para_SD,Para_dict_SD, list(Para_dict_SD.keys()), {})\n",
    "print(len(Para_DD),len(Para_SD))\n",
    "\n",
    "Path_pack = [BasicPath,Target,]"
   ]
  },
  {
   "cell_type": "code",
   "execution_count": 11,
   "metadata": {},
   "outputs": [],
   "source": [
    "book_name_xlsx = 'Test.xlsx';sheet_name_xlsx = 'Results';\n",
    "Path_Exp_Crate =  os.path.expanduser(\n",
    "    \"~/EnvPBGEM_ECDrag2/Double_SimSave/Double_Trans/Ruihe_newLGM50_Crate/\")\n",
    "Path_pack = [BasicPath,Target,Path_Exp_Crate,book_name_xlsx,sheet_name_xlsx,];"
   ]
  },
  {
   "cell_type": "code",
   "execution_count": 12,
   "metadata": {},
   "outputs": [
    {
     "name": "stderr",
     "output_type": "stream",
     "text": [
      "CasADi - 2024-03-24 04:49:20 WARNING(\"The options 't0', 'tf', 'grid' and 'output_t0' have been deprecated.\n",
      "The same functionality is provided by providing additional input arguments to the 'integrator' function, in particular:\n",
      " * Call integrator(..., t0, tf, options) for a single output time, or\n",
      " * Call integrator(..., t0, grid, options) for multiple grid points.\n",
      "The legacy 'output_t0' option can be emulated by including or excluding 't0' in 'grid'.\n",
      "Backwards compatibility is provided in this release only.\") [.../casadi/core/integrator.cpp:515]\n"
     ]
    }
   ],
   "source": [
    "# Three set of solution:\n",
    "def Run_OneCycleAge_Dict(index_i, Para_dd_i, Path_pack,):\n",
    "    count_i = int(index_i);\n",
    "    [BasicPath,Target,Path_Exp_Crate,\n",
    "        book_name_xlsx,sheet_name_xlsx,] = Path_pack\n",
    "    ##### Initialise Para_0 and model \n",
    "    CyclePack,para_used = Para_init_Dict(Para_dd_i)\n",
    "    [Mesh_list,model_options] = CyclePack\n",
    "    model = pybamm.lithium_ion.DFN(options=model_options)\n",
    "    str_model_options = str(model_options)\n",
    "    V_max = 4.2;        V_min = 2.5\n",
    "    Exp_1  = pybamm.Experiment(\n",
    "    [ (\n",
    "        f\"Hold at {V_max} V until C/20\",\n",
    "        f\"Discharge at 1 C until {V_min} V\", \n",
    "        f\"Charge at {Crate} C until {V_max} V\",  # (5 minute period)\n",
    "        f\"Hold at {V_max} V until C/20\"),] * 1 )  \n",
    "    model = Add_var(para_used,model) # add extra variable to model\n",
    "    var_pts = {\n",
    "        \"x_n\": Mesh_list[0],  # negative electrode\n",
    "        \"x_s\": Mesh_list[1],  # separator \n",
    "        \"x_p\": Mesh_list[2],  # positive electrode\n",
    "        \"r_n\": Mesh_list[3],  # negative particle\n",
    "        \"r_p\": Mesh_list[4],  # positive particle\n",
    "    }\n",
    "    sim    = pybamm.Simulation(\n",
    "        model, experiment = Exp_1,\n",
    "        parameter_values = para_used,\n",
    "        solver = pybamm.CasadiSolver(return_solution_if_failed_early=True),\n",
    "        var_pts=var_pts,\n",
    "        )       \n",
    "    sol    = sim.solve()\n",
    "    return sol\n",
    " \n",
    "sol_DD_HDx = Run_OneCycleAge_Dict(1.0, Para_DD[1],Path_pack)\n",
    "sol_DD_LDx = Run_OneCycleAge_Dict(0.0, Para_DD[0],Path_pack)\n",
    "sol_SD     = Run_OneCycleAge_Dict(2.0, Para_SD[0],Path_pack)"
   ]
  },
  {
   "cell_type": "code",
   "execution_count": 13,
   "metadata": {},
   "outputs": [
    {
     "name": "stdout",
     "output_type": "stream",
     "text": [
      "[0.0, 60.0, 120.0, 180.0, 240.0, 300.0, 360.0, 419.99999999999955, 479.99999999999955, 539.9999999999995, 600.0000000000005, 660.0000000000005, 720.0000000000005, 780.0000000000005, 840.0000000000005, 900.0000000000005, 960.0000000000005, 1020.0000000000005, 1080.0000000000005, 1140.0000000000005, 1200.0000000000005, 1260.0000000000005, 1320.0000000000005, 1380.0000000000005, 1439.9999999999995, 1499.9999999999995, 1559.9999999999995, 1619.9999999999995, 1679.9999999999995, 1739.9999999999995, 1799.9999999999995, 1859.9999999999995, 1919.9999999999995, 1979.9999999999995, 2039.9999999999995, 2099.9999999999995, 2159.9999999999995, 2219.9999999999995, 2280.0000000000005, 2340.0000000000005, 2399.9999999999995, 2460.0000000000005, 2514.940891284505]\n",
      "[0.0, 60.0, 120.0, 180.0, 240.0, 300.0, 360.0, 420.0, 480.0, 540.0, 600.0000000000005, 660.0000000000005, 720.0000000000005, 780.0000000000005, 840.0000000000005, 900.0000000000005, 960.0000000000005, 1020.0000000000005, 1080.0000000000005, 1140.0000000000005, 1200.0000000000005, 1260.0000000000005, 1320.0000000000005, 1380.0000000000005, 1440.0000000000005, 1500.0000000000005, 1560.0000000000005, 1620.0000000000005, 1680.0000000000005, 1740.0000000000005, 1800.0000000000005, 1860.0000000000005, 1920.0000000000005, 1980.0000000000005, 2040.0000000000005, 2100.0000000000005, 2160.0000000000005, 2220.0000000000005, 2280.0000000000005, 2340.0000000000005, 2400.0000000000005, 2460.0000000000005, 2510.3492502927334]\n",
      "[0.0, 60.0, 120.0, 180.0, 240.0, 300.0, 360.0, 420.0, 480.0, 540.0, 600.0000000000005, 660.0000000000005, 720.0000000000005, 780.0000000000005, 840.0000000000005, 900.0000000000005, 960.0000000000005, 1020.0000000000005, 1080.0000000000005, 1140.0000000000005, 1200.0000000000005, 1260.0000000000005, 1320.0000000000005, 1380.0000000000005, 1440.0000000000005, 1500.0000000000005, 1560.0000000000005, 1619.9999999999995, 1679.9999999999995, 1739.9999999999995, 1799.9999999999995, 1859.9999999999995, 1919.9999999999995, 1979.9999999999995, 2039.9999999999995, 2099.9999999999995, 2159.9999999999995, 2219.9999999999995, 2280.0000000000005, 2340.0000000000014, 2399.9999999999995, 2460.0000000000005, 2505.225562511752]\n",
      "[41, 41, 41] 2460.0000000000005\n"
     ]
    },
    {
     "data": {
      "image/png": "[encoded data removed]",
      "text/plain": [
       "<Figure size 748.031x216.535 with 3 Axes>"
      ]
     },
     "metadata": {},
     "output_type": "display_data"
    }
   ],
   "source": [
    "# plot only things happen during 3C CC charge\n",
    "fs = 12; font = {'family' : 'DejaVu Sans','size'   : fs}\n",
    "mpl.rc('font', **font)\n",
    "def FindClose(time_DD,t_select): # Input must be a list\n",
    "    for i in range(0,len(time_DD)):\n",
    "        if abs(time_DD[i] - t_select)<1e-3:\n",
    "            break\n",
    "    return i\n",
    "Colors = ['#1f77b4','#ff7f0e',  '#d62728', ];\n",
    "LS = ['-','--','-','--',];MS=['s','^','h']; ms = 8\n",
    "Sol_plt = [sol_SD,sol_DD_LDx,sol_DD_HDx,];\n",
    "Str = [\"Single\",r\"Double low D$_\\times$\",r\"Double high D$_\\times$\"]\n",
    "\n",
    "t_int_all = []; Index_t_select = []; \n",
    "\n",
    "for i in range(3):\n",
    "    sol = Sol_plt[i]; step_CC =  sol.cycles[0].steps[2]\n",
    "    t_int_all.append((\n",
    "        step_CC['Time [s]'].entries\n",
    "        - step_CC['Time [s]'].entries[0]).tolist())\n",
    "    print(t_int_all[-1])\n",
    "t_select = min(t_int_all[0][-2],t_int_all[1][-2],t_int_all[2][-2])\n",
    "for i in range(3):\n",
    "    Index_t_select.append(FindClose(t_int_all[i],t_select))\n",
    "print(Index_t_select,t_select)\n",
    "\n",
    "fig, axs = plt.subplots(1,3, figsize=(19/2.54,5.5/2.54),tight_layout=True)\n",
    "for i in range(3):\n",
    "    sol = Sol_plt[i]; step_CC =  sol.cycles[0].steps[2]\n",
    "    x =   step_CC[\"x [m]\"].entries[:,0]\n",
    "    x_n =   step_CC[\"x_n [m]\"].entries[:,0]\n",
    "    c_EC =   step_CC[\"EC concentration [mol.m-3]\"].entries[:,Index_t_select[i]]\n",
    "    j_SEI =   step_CC[\"Negative electrode SEI interfacial current density [A.m-2]\"].entries[:,Index_t_select[i]]\n",
    "    phi_s_phi_e =   step_CC[\"Negative electrode surface potential difference [V]\"].entries[:,Index_t_select[i]]\n",
    "\n",
    "    axs[0].plot(x*1e6, c_EC/1e3, color=Colors[i],linestyle=LS[i],) # label=r\"Single-High $D_\\times$\" \n",
    "    axs[1].plot(x_n*1e6, phi_s_phi_e*1e3, color=Colors[i],linestyle=LS[i]) \n",
    "    axs[2].plot(x_n*1e6, abs(j_SEI)*1e3, color=Colors[i],linestyle=LS[i]) \n",
    "Y_0p = np.arange(-100,200,50)\n",
    "axs[0].plot( 85.2 * np.ones_like(Y_0p),Y_0p,\"k-\",linewidth=0.5,)\n",
    "axs[0].plot((85.2+12 )* np.ones_like(Y_0p),Y_0p, \"k-\",linewidth=0.5,)\n",
    "\n",
    "\n",
    "axs[0].set_xlabel(r\"$\\mathit{x}$ [$\\mu$m]\",   )\n",
    "axs[1].set_xlabel(r\"$\\mathit{x}_\\mathrm{n}$ [$\\mu$m]\",   )\n",
    "axs[2].set_xlabel(r\"$\\mathit{x}_\\mathrm{n}$ [$\\mu$m]\",   )\n",
    "axs[0].set_ylabel(\"$\\mathit{c}$ (EC) [M]\")\n",
    "axs[1].set_ylabel(\"$\\phi$$_\\mathrm{s}$ - $\\phi$$_\\mathrm{e}$ [mV]\")\n",
    "axs[2].set_ylabel(\"$\\mathit{j}_\\mathrm{SEI}$ [mA/m$^{-2}$]\")\n",
    "axs[0].ticklabel_format( \n",
    "    axis='x', style='sci',\n",
    "    scilimits=[-1e3,1e3], useOffset=None, \n",
    "    useLocale=None, useMathText=None)\n",
    "\n",
    "axs[0].set_ylim([5.6,7.0])\n",
    "#axs[1].set_ylim([-90,130])\n",
    "#axs[2].set_ylim([-0.1,75])\n",
    "fig.subplots_adjust(wspace=0, hspace=0)\n",
    "# 85.2 ; 12; 75.6\n",
    "\n",
    "plt.savefig(BasicPath +  Target+ \n",
    "    f\"Fig_6_{Crate}C_c_EC_j_SEI.png\", dpi=1000)\n",
    "plt.savefig(BasicPath +  Target+ \n",
    "    f\"Fig_6_{Crate}C_c_EC_j_SEI.svg\")   "
   ]
  },
  {
   "cell_type": "code",
   "execution_count": 14,
   "metadata": {},
   "outputs": [
    {
     "name": "stdout",
     "output_type": "stream",
     "text": [
      "For case Single\n",
      "End time of c(EC) mol/m3 - Neg-CC side is 6209.49, Pos-CC side is 6209.49\n",
      "End time of phi_s_phi_e mV - Neg-CC side is 68.52, Neg-Sep side is 33.08\n",
      "End time of j_SEI mA/m2 - Neg-CC side is 0.0000, Neg-Sep side is 0.0000\n",
      "End time of avg(j_SEI) mA/m2 is 0.0000\n",
      "For case Double low D$_\\times$\n",
      "End time of c(EC) mol/m3 - Neg-CC side is 6422.91, Pos-CC side is 6058.30\n",
      "End time of phi_s_phi_e mV - Neg-CC side is 68.76, Neg-Sep side is 32.48\n",
      "End time of j_SEI mA/m2 - Neg-CC side is 0.0000, Neg-Sep side is 0.0000\n",
      "End time of avg(j_SEI) mA/m2 is 0.0000\n",
      "For case Double high D$_\\times$\n",
      "End time of c(EC) mol/m3 - Neg-CC side is 6545.73, Pos-CC side is 5982.74\n",
      "End time of phi_s_phi_e mV - Neg-CC side is 69.08, Neg-Sep side is 31.64\n",
      "End time of j_SEI mA/m2 - Neg-CC side is 0.0000, Neg-Sep side is 0.0000\n",
      "End time of avg(j_SEI) mA/m2 is 0.0000\n"
     ]
    }
   ],
   "source": [
    "# Get values for paper:\n",
    "for i in range(3):\n",
    "    sol = Sol_plt[i]; step_CC =  sol.cycles[0].steps[2]\n",
    "    x =   step_CC[\"x [m]\"].entries[:,0]\n",
    "    x_n =   step_CC[\"x_n [m]\"].entries[:,0]\n",
    "    c_EC =   step_CC[\"EC concentration [mol.m-3]\"].entries[:,Index_t_select[i]]\n",
    "    j_SEI =   abs(step_CC[\n",
    "        \"Negative electrode SEI interfacial current density [A.m-2]\"].entries[:,Index_t_select[i]])*1e3\n",
    "    phi_s_phi_e =   step_CC[\n",
    "        \"Negative electrode surface potential difference [V]\"].entries[:,Index_t_select[i]]*1e3\n",
    "    # \n",
    "    print(f\"For case {Str[i]}\")\n",
    "    print(\"End time of c(EC) mol/m3 - Neg-CC \"\n",
    "      f\"side is {c_EC[0]:.2f}, Pos-CC side is {c_EC[-1]:.2f}\")\n",
    "    print(\"End time of phi_s_phi_e mV - Neg-CC \"\n",
    "      f\"side is {phi_s_phi_e[0]:.2f}, Neg-Sep side is {phi_s_phi_e[-1]:.2f}\")\n",
    "    print(\"End time of j_SEI mA/m2 - Neg-CC \"\n",
    "      f\"side is {j_SEI[0]:.4f}, Neg-Sep side is {j_SEI[-1]:.4f}\")\n",
    "    print(\"End time of avg(j_SEI) mA/m2\"\n",
    "      f\" is {np.mean(j_SEI):.4f}\")\n"
   ]
  }
 ],
 "metadata": {
  "kernelspec": {
   "display_name": "envSolCon",
   "language": "python",
   "name": "python3"
  },
  "language_info": {
   "codemirror_mode": {
    "name": "ipython",
    "version": 3
   },
   "file_extension": ".py",
   "mimetype": "text/x-python",
   "name": "python",
   "nbconvert_exporter": "python",
   "pygments_lexer": "ipython3",
   "version": "3.10.12"
  },
  "orig_nbformat": 4,
  "vscode": {
   "interpreter": {
    "hash": "5ae0c684446e40f7574a1a9821257f2365ba43f34c15f5f2e3dcabca0bad9ab7"
   }
  }
 },
 "nbformat": 4,
 "nbformat_minor": 2
}
