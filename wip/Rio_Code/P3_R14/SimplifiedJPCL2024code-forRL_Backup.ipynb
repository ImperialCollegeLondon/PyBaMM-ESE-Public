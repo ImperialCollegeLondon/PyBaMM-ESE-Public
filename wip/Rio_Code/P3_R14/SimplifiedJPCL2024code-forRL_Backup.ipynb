{
 "cells": [
  {
   "cell_type": "markdown",
   "id": "114f7e02",
   "metadata": {},
   "source": [
    "## This is the code kindly shared by J. Self, first author of the paper:\n",
    "#### Self, J.; Bergstrom, H. K. Hypoeutectic Liquid-Solid Phase Diagrams for Ternary Lithium-Ion Battery Electrolytes. Journal of Physical Chemistry Letters 2024, 15 (2), 416-421, Article. DOI: 10.1021/acs.jpclett.3c03169.\n"
   ]
  },
  {
   "cell_type": "code",
   "execution_count": 19,
   "id": "378d8a7c",
   "metadata": {},
   "outputs": [],
   "source": [
    "# Simplified code for JPCL paper (draft) for Ruihe Li - JS 2024-02-13\n",
    "import numpy as np, matplotlib.pyplot as plt, pandas as pd, scipy\n",
    "from scipy import stats,integrate\n",
    "# Where am I?\n",
    "#!pwd\n",
    "#!ls\n",
    "#\n",
    "plt.rc('font', size=12)\n",
    "import pandas"
   ]
  },
  {
   "cell_type": "code",
   "execution_count": 20,
   "id": "fafa9479",
   "metadata": {},
   "outputs": [],
   "source": [
    "###### 1) global variables ######\n",
    "#################################\n",
    "T0EC,T0EMC,R=273.15+38.05,273.15+-53.8,8.31\n",
    "MolarMassSolvent1,MolarMassSolvent2=0.088,0.104\n",
    "HfusEC,HfusEMC=13020,11240 # J/mol (ding) # J/mol (ding)\n",
    "#### Fitted ####\n",
    "C12global,C112global,C122global=[2.7936,-7.8747,1.7636] # model\n",
    "######numerical variables####\n",
    "nopoints=200000\n",
    "###### functions #########\n",
    "def diff_central(a, b):\n",
    "    xdc0,xdc1,xdc2 = a[:-2],a[1:-1],a[2:]\n",
    "    ydc0,ydc1,ydc2 = b[:-2],b[1:-1],b[2:]\n",
    "    fdc = (xdc2 - xdc1)/(xdc2 - xdc0)\n",
    "    return (1-fdc)*(ydc2 - ydc1)/(xdc2 - xdc1) + fdc*(ydc1 - ydc0)/(xdc1 - xdc0)\n",
    "#############"
   ]
  },
  {
   "cell_type": "code",
   "execution_count": 21,
   "id": "9c3b754a",
   "metadata": {},
   "outputs": [
    {
     "data": {
      "text/plain": [
       "<Figure size 640x480 with 0 Axes>"
      ]
     },
     "metadata": {},
     "output_type": "display_data"
    },
    {
     "data": {
      "text/plain": [
       "<Figure size 400x200 with 0 Axes>"
      ]
     },
     "metadata": {},
     "output_type": "display_data"
    }
   ],
   "source": [
    "######## 2) Activities of EC ##########################\n",
    "######################## EC - LiPF6 ###########################\n",
    "def a32(m2,C2=0,C22=  -0.2791617  ,C222= 0 ,C2222= -0.0191328):\n",
    "    temp=(1-(2*m2)/(2*m2+1/MolarMassSolvent1))*np.exp(C2*m2**1.5+C22*m2**2+C222*m2**2.5+C2222*m2**3)\n",
    "    return(temp)\n",
    "########################### EC - EMC ##########################\n",
    "def a31(X1,C1,C11,C111,C1111): # EC EMC\n",
    "    temp=(1-X1)*np.exp(C1*X1**2+C11*X1**3+C111*X1**4)\n",
    "    return(temp)\n",
    "########### 3)  Fitting Activities of EMC ###################\n",
    "####################### EMC - LiPF6 $########################\n",
    "plt.figure(1),plt.figure(figsize=(4, 2)) \n",
    "def a12(m2,C2=0.8262921,C22= -1.79133566 ,C222= 1.70109032 ,C2222= -0.63441192):\n",
    "    temp=(1-(2*m2)/(2*m2+1/MolarMassSolvent2))*np.exp(C2*m2**1.5+C22*m2**2+C222*m2**2.5+C2222*m2**3)\n",
    "    return(temp)\n",
    "################################## parametrized ##################################\n",
    "def a13(X1,C1,C11,C111,C1111): # EMC EC\n",
    "    temp=(1-X1)*np.exp(C1*X1**2+C11*X1**3+C111*X1**4) #three suffix Margules\n",
    "    return(temp)"
   ]
  },
  {
   "cell_type": "code",
   "execution_count": 22,
   "id": "12dfecfa",
   "metadata": {},
   "outputs": [],
   "source": [
    "################################################################\n",
    "########### 4) Establishing mixing rules #######################\n",
    "################################################################\n",
    "########### binary global parameters ###########################\n",
    "C1ECEMC,C11ECEMC,C111ECEMC,C1111ECEMC=-0.66992,4.2840,-2.5671,0\n",
    "C1EMCEC,C11EMCEC,C111EMCEC,C1111EMCEC=0.62190,2.5617,-2.5672,0\n",
    "C2ECLiPF6global,C22ECLiPF6global,C222ECLiPF6global,C2222ECLiPF6global=0.042895,-0.38832,0.066300,-0.017292 # EC-LiPF6 #\n",
    "C2EMCLiPF6global,C22EMCLiPF6global,C222EMCLiPF6global,C2222EMCLiPF6global=0.8262921,-1.79133566,1.70109032,-0.63441 #EMC-LiPF6#\n",
    "#########################################################################################\n",
    "def a3simplified(m2,X1,C12=C12global,C112=C112global,C122=C122global,X3=0,alpha=0): # aEC \n",
    "    X1solventratio=X1/(X1+X1*alpha)\n",
    "    X3test=X1*alpha\n",
    "    X2=1-X1-X3test\n",
    "    aitern=X3test\n",
    "    aitern*=a32(\n",
    "        m2,C2=C2ECLiPF6global,C22=C22ECLiPF6global,\n",
    "        C222=C222ECLiPF6global,C2222=C2222ECLiPF6global\n",
    "        )/(1-(2*m2)/(2*m2+1/MolarMassSolvent1))\n",
    "    aitern*=a31(\n",
    "        X1solventratio,C1ECEMC,C11ECEMC,\n",
    "        C111ECEMC,C1111ECEMC\n",
    "        )/(1-X1solventratio)\n",
    "    aitern*=np.exp(\n",
    "        C12*m2**1.5*X1solventratio**2\n",
    "        +C112*m2**1.5*X1solventratio**3\n",
    "        +C122*m2**2*X1solventratio**2)\n",
    "    return(aitern)#\n",
    "def a1simplified(m2,X3,alpha=0): # aEMC   # alpha = X_EC/X_EMC\n",
    "    # X3solventratio=X3*alpha/(X3*alpha+X3) # X3 here should be X_EC? initial version\n",
    "    X3solventratio=X3/(X3*alpha+X3) # X3 here should be X_EC? # Mark Ruihe\n",
    "    X1test=X3/(alpha+1E-16)               # X1test should be X_EMC here?\n",
    "    X2=1-X3-X1test\n",
    "    aitern=X1test\n",
    "    aitern*=a12(\n",
    "        m2,C2=C2EMCLiPF6global, C22=C22EMCLiPF6global, \n",
    "        C222=C222EMCLiPF6global, C2222=C2222EMCLiPF6global\n",
    "        )/(1-(2*m2)/(2*m2+1/MolarMassSolvent2))\n",
    "    aitern*=a13(\n",
    "        X3solventratio,C1EMCEC,C11EMCEC,\n",
    "        C111EMCEC,C1111EMCEC\n",
    "        )/(1-X3solventratio)\n",
    "    return(aitern)"
   ]
  },
  {
   "cell_type": "code",
   "execution_count": 23,
   "id": "dd2292cc",
   "metadata": {},
   "outputs": [],
   "source": [
    "####  TD Factor function (eq 10) ####\n",
    "def calculatedTDfactor(x,C12test,C112test,C122test,alpha=1):\n",
    "    nopoints=100000\n",
    "    xLiTest=np.linspace(0,0.1,nopoints)\n",
    "    mEC=1/(MolarMassSolvent1+MolarMassSolvent2/alpha)\n",
    "    mEMC=mEC/alpha\n",
    "    mLiTest=(mEC+mEMC)*xLiTest/(1-2*xLiTest) # mEC+mEMC\n",
    "    xEMCtest=mEMC/(mEMC+mEC+2*mLiTest)\n",
    "    xECtest=mEC/(mEC+mEMC+2*mLiTest)\n",
    "    aEC=a3simplified(mLiTest,xEMCtest,alpha=alpha)\n",
    "    aEMC=a1simplified(mLiTest,xECtest,alpha=alpha)\n",
    "    mU,m1=mEMC,mEC\n",
    "    tempGD=-mEMC*np.log(aEMC[:]/aEMC[0])-mEC*np.log(aEC[:]/(aEC[0]))\n",
    "    calculatedTDfactorRETURN=diff_central(mLiTest[4:],tempGD[:-4]/2)\n",
    "    return(mLiTest[2+4:],calculatedTDfactorRETURN)\n",
    "x11,yTDF11=calculatedTDfactor(0,0,0,0,alpha=1.18)\n",
    "x10,yTDF10=calculatedTDfactor(0,0,0,0,alpha=10000)\n",
    "x01,yTDF01=calculatedTDfactor(0,0,0,0,alpha=0.00001)"
   ]
  },
  {
   "cell_type": "code",
   "execution_count": 24,
   "id": "8d8589c9",
   "metadata": {},
   "outputs": [
    {
     "data": {
      "text/plain": [
       "<matplotlib.legend.Legend at 0x7f75e4bdda80>"
      ]
     },
     "execution_count": 24,
     "metadata": {},
     "output_type": "execute_result"
    },
    {
     "data": {
      "image/png": "[encoded data removed]",
      "text/plain": [
       "<Figure size 640x480 with 1 Axes>"
      ]
     },
     "metadata": {},
     "output_type": "display_data"
    }
   ],
   "source": [
    "plt.plot(np.sqrt(x10),yTDF10,label=\"neat EC\")\n",
    "plt.plot(np.sqrt(x10),yTDF01,label=\"neat EMC\")\n",
    "plt.plot(x11,yTDF11,'b',label=\"EC:EMC 6:5\")\n",
    "plt.xlabel(\"molality\")\n",
    "plt.ylabel(\"TDF\")\n",
    "plt.legend()"
   ]
  },
  {
   "cell_type": "code",
   "execution_count": null,
   "id": "e6e09339",
   "metadata": {},
   "outputs": [],
   "source": []
  }
 ],
 "metadata": {
  "kernelspec": {
   "display_name": "Python 3 (ipykernel)",
   "language": "python",
   "name": "python3"
  },
  "language_info": {
   "codemirror_mode": {
    "name": "ipython",
    "version": 3
   },
   "file_extension": ".py",
   "mimetype": "text/x-python",
   "name": "python",
   "nbconvert_exporter": "python",
   "pygments_lexer": "ipython3",
   "version": "3.10.12"
  }
 },
 "nbformat": 4,
 "nbformat_minor": 5
}
