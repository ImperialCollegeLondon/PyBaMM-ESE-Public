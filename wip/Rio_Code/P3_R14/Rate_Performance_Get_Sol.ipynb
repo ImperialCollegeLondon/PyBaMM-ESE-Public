{
 "cells": [
  {
   "attachments": {},
   "cell_type": "markdown",
   "metadata": {},
   "source": [
    "## Reproduce solvent segregation in Wang 2022 - Fig. 4\n",
    "### $ D_{\\text{e},\\text{EC}}^0 = 0, \\, 2.5 \\times 10^{-12}, \\, 2.5 \\times 10^{-11} \\, \\text{m}^2/\\text{s} $"
   ]
  },
  {
   "cell_type": "code",
   "execution_count": 1,
   "metadata": {},
   "outputs": [],
   "source": [
    "# magic lines that avoid re-start\n",
    "%load_ext autoreload\n",
    "%autoreload 2\n",
    "import pybamm;import pandas as pd   ;import numpy as np;import os;import matplotlib.pyplot as plt;import os;#import imageio\n",
    "from scipy.io import savemat,loadmat;from pybamm import constants,exp,sqrt;\n",
    "import matplotlib as mpl; \n",
    "fs=17; # or we can set import matplotlib.pyplot as plt then say 'mpl.rc...'\n",
    "import openpyxl\n",
    "import traceback\n",
    "import multiprocessing\n",
    "font = {'family' : 'DejaVu Sans','size'   : fs}\n",
    "mpl.rc('font', **font)"
   ]
  },
  {
   "cell_type": "code",
   "execution_count": 2,
   "metadata": {},
   "outputs": [],
   "source": [
    "import sys  \n",
    "str_path_0 = os.path.abspath(os.path.join(pybamm.__path__[0],'..'))\n",
    "str_path_1 = os.path.abspath(os.path.join(str_path_0,\"wip/Rio_Code/Fun_P3\"))\n",
    "sys.path.append(str_path_1) \n",
    "from Fun_P3 import *\n",
    "BasicPath = os.path.expanduser(\"~/EnvPBGEM_ECDrag2/Double_SimSave/Double_Trans/\")\n",
    "Target  = 'Rate_Performance/' \n",
    "if not os.path.exists(BasicPath + Target):\n",
    "   os.mkdir(BasicPath + Target)\n",
    "Save_Fig = True"
   ]
  },
  {
   "cell_type": "code",
   "execution_count": 3,
   "metadata": {},
   "outputs": [
    {
     "name": "stdout",
     "output_type": "stream",
     "text": [
      "3 1\n"
     ]
    }
   ],
   "source": [
    "# define parameter of double and single \n",
    "Para_dict_Same = {\n",
    "   \"Mesh list\":[ [20,10,20,100,20], ],   # Simon uses 30\n",
    "   \"Para_Set\":[ \"Li2023_ECdrag\",],\n",
    "   \"Contact resistance [Ohm]\":[12e-3],\n",
    "   \"Initial Neg SOC\":[0.8841301667966484,],\n",
    "   \"Initial Pos SOC\":[0.23552755074598045,],}\n",
    "Para_dict_DD_ONLY = {\n",
    "   \"Model option\":[{\n",
    "      \"SEI\": \"constant\",\n",
    "      \"SEI film resistance\":\"distributed\",   \n",
    "      \"SEI porosity change\": \"true\",\n",
    "      \"solvent diffusion\": \"double spatial consume w refill\",\n",
    "      \"electrolyte conductivity\": \"sol full\"  ,\n",
    "     \"contact resistance\":\"true\",  },],\n",
    "   \"Lithium ion EC cross diffusivity [m2.s-1]\":[0,2.5E-12,2.5e-11,], # \n",
    "}\n",
    "Para_dict_SD_ONLY = {\n",
    "   \"Model option\":[{\n",
    "      \"SEI\": \"constant\",\n",
    "      \"SEI film resistance\":\"distributed\",   \n",
    "      \"SEI porosity change\": \"true\",\n",
    "      \"solvent diffusion\": \"single no consume wo refill\",\n",
    "      \"electrolyte conductivity\": \"full\"  ,\n",
    "      \"contact resistance\":\"true\",  },],\n",
    "   \"Lithium ion EC cross diffusivity [m2.s-1]\":[0,], #  \n",
    "   \"Measured dLJP_dce\":[\"dLJP_1_Specie_dc_e_np\",]\n",
    "}\n",
    "Para_dict_DD = {**Para_dict_Same,**Para_dict_DD_ONLY}\n",
    "Para_dict_SD = {**Para_dict_Same,**Para_dict_SD_ONLY}\n",
    "Para_DD = [];  Para_SD=[];\n",
    "recursive_scan(Para_DD,Para_dict_DD, list(Para_dict_DD.keys()), {})\n",
    "recursive_scan(Para_SD,Para_dict_SD, list(Para_dict_SD.keys()), {})\n",
    "print(len(Para_DD),len(Para_SD))\n",
    "\n",
    "Path_pack = [BasicPath,Target,]"
   ]
  },
  {
   "cell_type": "markdown",
   "metadata": {},
   "source": [
    "#### 2.5e-11 + 2.6C takes 40+ minutes and has spikes; 1e-11 + 2.8C takes 44 minutes, -> both not good"
   ]
  },
  {
   "cell_type": "code",
   "execution_count": 4,
   "metadata": {},
   "outputs": [
    {
     "name": "stdout",
     "output_type": "stream",
     "text": [
      "[1, 1.5, 2, 2.5, 2.525, 2.55, 2.575, 2.6] 8\n"
     ]
    }
   ],
   "source": [
    "Rate_Dis_All = [1,1.5,2,2.5,2.525,2.55,2.575,2.6]     # np.arange(1,2.5+0.5,0.5) # np.arange(3.8,4.5+0.175,0.175)\n",
    "print(Rate_Dis_All,len(Rate_Dis_All))"
   ]
  },
  {
   "cell_type": "code",
   "execution_count": 5,
   "metadata": {},
   "outputs": [
    {
     "name": "stdout",
     "output_type": "stream",
     "text": [
      "Start Now! C rate: 1\n"
     ]
    },
    {
     "name": "stderr",
     "output_type": "stream",
     "text": [
      "CasADi - 2024-01-31 10:19:52 WARNING(\"The options 't0', 'tf', 'grid' and 'output_t0' have been deprecated.\n",
      "The same functionality is provided by providing additional input arguments to the 'integrator' function, in particular:\n",
      " * Call integrator(..., t0, tf, options) for a single output time, or\n",
      " * Call integrator(..., t0, grid, options) for multiple grid points.\n",
      "The legacy 'output_t0' option can be emulated by including or excluding 't0' in 'grid'.\n",
      "Backwards compatibility is provided in this release only.\") [.../casadi/core/integrator.cpp:515]\n"
     ]
    },
    {
     "name": "stdout",
     "output_type": "stream",
     "text": [
      "Finish Double_D_e_EC_cross=0_Rate=1C with Spent 53.499 s\n",
      "Start Now! C rate: 1.5\n",
      "Finish Double_D_e_EC_cross=0_Rate=1.5C with Spent 1 minute, 38 seconds\n",
      "Start Now! C rate: 2\n"
     ]
    },
    {
     "name": "stderr",
     "output_type": "stream",
     "text": [
      "At t = 0.00886996, , mxstep steps taken before reaching tout.\n"
     ]
    },
    {
     "name": "stdout",
     "output_type": "stream",
     "text": [
      "Finish Double_D_e_EC_cross=0_Rate=2C with Spent 2 minutes, 51 seconds\n",
      "Start Now! C rate: 2.5\n",
      "Finish Double_D_e_EC_cross=0_Rate=2.5C with Spent 1 minute, 9 seconds\n",
      "Start Now! C rate: 2.525\n",
      "Finish Double_D_e_EC_cross=0_Rate=2.525C with Spent 1 minute, 8 seconds\n",
      "Start Now! C rate: 2.55\n",
      "Finish Double_D_e_EC_cross=0_Rate=2.55C with Spent 1 minute, 9 seconds\n",
      "Start Now! C rate: 2.575\n",
      "Finish Double_D_e_EC_cross=0_Rate=2.575C with Spent 1 minute, 20 seconds\n",
      "Start Now! C rate: 2.6\n"
     ]
    },
    {
     "name": "stderr",
     "output_type": "stream",
     "text": [
      "At t = 0.00897638, , mxstep steps taken before reaching tout.\n"
     ]
    },
    {
     "name": "stdout",
     "output_type": "stream",
     "text": [
      "Finish Double_D_e_EC_cross=0_Rate=2.6C with Spent 2 minutes, 50 seconds\n",
      "Start Now! C rate: 1\n",
      "Finish Double_D_e_EC_cross=2.5e-12_Rate=1C with Spent 59.204 s\n",
      "Start Now! C rate: 1.5\n",
      "Finish Double_D_e_EC_cross=2.5e-12_Rate=1.5C with Spent 1 minute, 43 seconds\n",
      "Start Now! C rate: 2\n"
     ]
    },
    {
     "name": "stderr",
     "output_type": "stream",
     "text": [
      "At t = 0.00886622, , mxstep steps taken before reaching tout.\n"
     ]
    },
    {
     "name": "stdout",
     "output_type": "stream",
     "text": [
      "Finish Double_D_e_EC_cross=2.5e-12_Rate=2C with Spent 3 minutes, 3 seconds\n",
      "Start Now! C rate: 2.5\n",
      "Finish Double_D_e_EC_cross=2.5e-12_Rate=2.5C with Spent 1 minute, 10 seconds\n",
      "Start Now! C rate: 2.525\n",
      "Finish Double_D_e_EC_cross=2.5e-12_Rate=2.525C with Spent 1 minute, 15 seconds\n",
      "Start Now! C rate: 2.55\n",
      "Finish Double_D_e_EC_cross=2.5e-12_Rate=2.55C with Spent 1 minute, 10 seconds\n",
      "Start Now! C rate: 2.575\n",
      "Finish Double_D_e_EC_cross=2.5e-12_Rate=2.575C with Spent 1 minute, 12 seconds\n",
      "Start Now! C rate: 2.6\n"
     ]
    },
    {
     "name": "stderr",
     "output_type": "stream",
     "text": [
      "At t = 0.00897367, , mxstep steps taken before reaching tout.\n"
     ]
    },
    {
     "name": "stdout",
     "output_type": "stream",
     "text": [
      "Finish Double_D_e_EC_cross=2.5e-12_Rate=2.6C with Spent 1 minute, 15 seconds\n",
      "Start Now! C rate: 1\n"
     ]
    },
    {
     "name": "stderr",
     "output_type": "stream",
     "text": [
      "At t = 0.0015622, , mxstep steps taken before reaching tout.\n",
      "At t = 0.0015622, , mxstep steps taken before reaching tout.\n",
      "At t = 0.0015622, , mxstep steps taken before reaching tout.\n",
      "At t = 0.000485581, , mxstep steps taken before reaching tout.\n",
      "At t = 7.738e-05, , mxstep steps taken before reaching tout.\n",
      "At t = 0.000485747, , mxstep steps taken before reaching tout.\n",
      "At t = 0.000485587, , mxstep steps taken before reaching tout.\n",
      "At t = 0.000486388, , mxstep steps taken before reaching tout.\n",
      "At t = 7.74445e-05, , mxstep steps taken before reaching tout.\n"
     ]
    },
    {
     "name": "stdout",
     "output_type": "stream",
     "text": [
      "Finish Double_D_e_EC_cross=2.5e-11_Rate=1C with Spent 15 minutes, 1 second\n",
      "Start Now! C rate: 1.5\n"
     ]
    },
    {
     "name": "stderr",
     "output_type": "stream",
     "text": [
      "At t = 0.00100656, , mxstep steps taken before reaching tout.\n",
      "At t = 0.00100654, , mxstep steps taken before reaching tout.\n",
      "At t = 0.00100657, , mxstep steps taken before reaching tout.\n",
      "At t = 0.00100654, , mxstep steps taken before reaching tout.\n",
      "At t = 8.56083e-05, , mxstep steps taken before reaching tout.\n",
      "At t = 8.56087e-05, , mxstep steps taken before reaching tout.\n",
      "At t = 8.56216e-05, , mxstep steps taken before reaching tout.\n",
      "At t = 8.56066e-05, , mxstep steps taken before reaching tout.\n",
      "At t = 8.56066e-05, , mxstep steps taken before reaching tout.\n",
      "At t = 8.56065e-05, , mxstep steps taken before reaching tout.\n"
     ]
    },
    {
     "name": "stdout",
     "output_type": "stream",
     "text": [
      "Finish Double_D_e_EC_cross=2.5e-11_Rate=1.5C with Spent 17 minutes, 2 seconds\n",
      "Start Now! C rate: 2\n"
     ]
    },
    {
     "name": "stderr",
     "output_type": "stream",
     "text": [
      "At t = 0.0005668, , mxstep steps taken before reaching tout.\n",
      "At t = 0.000566799, , mxstep steps taken before reaching tout.\n",
      "At t = 0.000566802, , mxstep steps taken before reaching tout.\n",
      "At t = 0.000566799, , mxstep steps taken before reaching tout.\n",
      "At t = 0.000566799, , mxstep steps taken before reaching tout.\n",
      "At t = 0.00026166, , mxstep steps taken before reaching tout.\n",
      "At t = 0.00026166, , mxstep steps taken before reaching tout.\n",
      "At t = 0.00026166, , mxstep steps taken before reaching tout.\n",
      "At t = 0.000261662, , mxstep steps taken before reaching tout.\n",
      "At t = 0.00026166, , mxstep steps taken before reaching tout.\n",
      "At t = 0.000261663, , mxstep steps taken before reaching tout.\n"
     ]
    },
    {
     "name": "stdout",
     "output_type": "stream",
     "text": [
      "Finish Double_D_e_EC_cross=2.5e-11_Rate=2C with Spent 18 minutes, 11 seconds\n",
      "Start Now! C rate: 2.5\n"
     ]
    },
    {
     "name": "stderr",
     "output_type": "stream",
     "text": [
      "At t = 0.000596554, , mxstep steps taken before reaching tout.\n",
      "At t = 0.000596595, , mxstep steps taken before reaching tout.\n",
      "At t = 0.000596951, , mxstep steps taken before reaching tout.\n",
      "At t = 0.000596668, , mxstep steps taken before reaching tout.\n",
      "At t = 0.000596568, , mxstep steps taken before reaching tout.\n",
      "At t = 0.0002915, , mxstep steps taken before reaching tout.\n",
      "At t = 0.000291499, , mxstep steps taken before reaching tout.\n",
      "At t = 0.000291499, , mxstep steps taken before reaching tout.\n",
      "At t = 0.000291499, , mxstep steps taken before reaching tout.\n",
      "At t = 0.000291499, , mxstep steps taken before reaching tout.\n",
      "At t = 0.0002915, , mxstep steps taken before reaching tout.\n"
     ]
    },
    {
     "name": "stdout",
     "output_type": "stream",
     "text": [
      "Finish Double_D_e_EC_cross=2.5e-11_Rate=2.5C with Spent 17 minutes, 51 seconds\n",
      "Start Now! C rate: 2.525\n"
     ]
    },
    {
     "name": "stderr",
     "output_type": "stream",
     "text": [
      "At t = 0.000583806, , mxstep steps taken before reaching tout.\n",
      "At t = 0.000583812, , mxstep steps taken before reaching tout.\n",
      "At t = 0.000583807, , mxstep steps taken before reaching tout.\n",
      "At t = 0.000583806, , mxstep steps taken before reaching tout.\n",
      "At t = 0.000583806, , mxstep steps taken before reaching tout.\n",
      "At t = 0.000278662, , mxstep steps taken before reaching tout.\n",
      "At t = 0.000278663, , mxstep steps taken before reaching tout.\n",
      "At t = 0.000278663, , mxstep steps taken before reaching tout.\n",
      "At t = 0.000278662, , mxstep steps taken before reaching tout.\n",
      "At t = 0.000278663, , mxstep steps taken before reaching tout.\n",
      "At t = 0.000278662, , mxstep steps taken before reaching tout.\n"
     ]
    },
    {
     "name": "stdout",
     "output_type": "stream",
     "text": [
      "Finish Double_D_e_EC_cross=2.5e-11_Rate=2.525C with Spent 17 minutes, 14 seconds\n",
      "Start Now! C rate: 2.55\n"
     ]
    },
    {
     "name": "stderr",
     "output_type": "stream",
     "text": [
      "At t = 0.000571361, , mxstep steps taken before reaching tout.\n",
      "At t = 0.000571363, , mxstep steps taken before reaching tout.\n",
      "At t = 0.000571361, , mxstep steps taken before reaching tout.\n",
      "At t = 0.000571361, , mxstep steps taken before reaching tout.\n",
      "At t = 0.000571361, , mxstep steps taken before reaching tout.\n",
      "At t = 0.000266268, , mxstep steps taken before reaching tout.\n",
      "At t = 0.000266269, , mxstep steps taken before reaching tout.\n",
      "At t = 0.000266268, , mxstep steps taken before reaching tout.\n",
      "At t = 0.000266268, , mxstep steps taken before reaching tout.\n",
      "At t = 0.000266268, , mxstep steps taken before reaching tout.\n",
      "At t = 0.000266269, , mxstep steps taken before reaching tout.\n"
     ]
    },
    {
     "name": "stdout",
     "output_type": "stream",
     "text": [
      "Finish Double_D_e_EC_cross=2.5e-11_Rate=2.55C with Spent 18 minutes, 29 seconds\n",
      "Start Now! C rate: 2.575\n"
     ]
    },
    {
     "name": "stderr",
     "output_type": "stream",
     "text": [
      "At t = 0.000559398, , mxstep steps taken before reaching tout.\n",
      "At t = 0.000559398, , mxstep steps taken before reaching tout.\n",
      "At t = 0.000559398, , mxstep steps taken before reaching tout.\n",
      "At t = 0.000559398, , mxstep steps taken before reaching tout.\n",
      "At t = 0.000559398, , mxstep steps taken before reaching tout.\n",
      "At t = 0.000254389, , mxstep steps taken before reaching tout.\n",
      "At t = 0.000254382, , mxstep steps taken before reaching tout.\n",
      "At t = 0.000254381, , mxstep steps taken before reaching tout.\n",
      "At t = 0.00025438, , mxstep steps taken before reaching tout.\n",
      "At t = 0.000254358, , mxstep steps taken before reaching tout.\n",
      "At t = 0.000254358, , mxstep steps taken before reaching tout.\n"
     ]
    },
    {
     "name": "stdout",
     "output_type": "stream",
     "text": [
      "Finish Double_D_e_EC_cross=2.5e-11_Rate=2.575C with Spent 19 minutes, 38 seconds\n",
      "Start Now! C rate: 2.6\n"
     ]
    },
    {
     "name": "stderr",
     "output_type": "stream",
     "text": [
      "At t = 0.00317959, , mxstep steps taken before reaching tout.\n",
      "At t = 0.00317959, , mxstep steps taken before reaching tout.\n",
      "At t = 0.000666973, , mxstep steps taken before reaching tout.\n",
      "At t = 0.000666973, , mxstep steps taken before reaching tout.\n",
      "At t = 0.000666973, , mxstep steps taken before reaching tout.\n",
      "At t = 0.000666973, , mxstep steps taken before reaching tout.\n",
      "At t = 4.42745e-05, , mxstep steps taken before reaching tout.\n",
      "At t = 4.42739e-05, , mxstep steps taken before reaching tout.\n",
      "At t = 4.4274e-05, , mxstep steps taken before reaching tout.\n",
      "At t = 4.4274e-05, , mxstep steps taken before reaching tout.\n",
      "At t = 7.45762e-06, , mxstep steps taken before reaching tout.\n",
      "At t = 7.45803e-06, , mxstep steps taken before reaching tout.\n",
      "At t = 7.52818e-06, , mxstep steps taken before reaching tout.\n",
      "At t = 2.56295e-06, , mxstep steps taken before reaching tout.\n",
      "At t = 6.59828e-08, , mxstep steps taken before reaching tout.\n",
      "At t = 6.25387e-08, , mxstep steps taken before reaching tout.\n",
      "At t = 6.26212e-08, , mxstep steps taken before reaching tout.\n",
      "At t = 6.21262e-08, , mxstep steps taken before reaching tout.\n",
      "At t = 6.23028e-08, , mxstep steps taken before reaching tout.\n",
      "At t = 6.25529e-08, , mxstep steps taken before reaching tout.\n"
     ]
    },
    {
     "name": "stdout",
     "output_type": "stream",
     "text": [
      "Finish Double_D_e_EC_cross=2.5e-11_Rate=2.6C with Spent 36 minutes, 26 seconds\n"
     ]
    }
   ],
   "source": [
    "for i in range(len(Para_DD)):  \n",
    "    for Rate_Dis in Rate_Dis_All:\n",
    "        D_e_EC_cross = Para_DD[i][\"Lithium ion EC cross diffusivity [m2.s-1]\"]\n",
    "        str_pickle =  f\"Double_D_e_EC_cross={D_e_EC_cross}\"\n",
    "        sol_return = Run_P3_OneCycle_Dict(\n",
    "            i, Para_DD[i], Path_pack,Rate_Dis,str_pickle,\n",
    "            Return_sol=False,Save_sol=True)"
   ]
  },
  {
   "cell_type": "code",
   "execution_count": 6,
   "metadata": {},
   "outputs": [
    {
     "name": "stdout",
     "output_type": "stream",
     "text": [
      "Start Now! C rate: 1\n",
      "Finish Single_Rate=1C with Spent 58.906 s\n",
      "Start Now! C rate: 1.5\n",
      "Finish Single_Rate=1.5C with Spent 2 minutes, 23 seconds\n",
      "Start Now! C rate: 2\n"
     ]
    },
    {
     "name": "stderr",
     "output_type": "stream",
     "text": [
      "At t = 0.00886996, , mxstep steps taken before reaching tout.\n"
     ]
    },
    {
     "name": "stdout",
     "output_type": "stream",
     "text": [
      "Finish Single_Rate=2C with Spent 3 minutes, 26 seconds\n",
      "Start Now! C rate: 2.5\n",
      "Finish Single_Rate=2.5C with Spent 1 minute, 25 seconds\n",
      "Start Now! C rate: 2.525\n",
      "Finish Single_Rate=2.525C with Spent 1 minute, 26 seconds\n",
      "Start Now! C rate: 2.55\n",
      "Finish Single_Rate=2.55C with Spent 1 minute, 28 seconds\n",
      "Start Now! C rate: 2.575\n",
      "Finish Single_Rate=2.575C with Spent 1 minute, 26 seconds\n",
      "Start Now! C rate: 2.6\n"
     ]
    },
    {
     "name": "stderr",
     "output_type": "stream",
     "text": [
      "At t = 0.00897636, , mxstep steps taken before reaching tout.\n"
     ]
    },
    {
     "name": "stdout",
     "output_type": "stream",
     "text": [
      "Finish Single_Rate=2.6C with Spent 1 minute, 33 seconds\n"
     ]
    }
   ],
   "source": [
    "for i in range(len(Para_SD)):  \n",
    "    for Rate_Dis in Rate_Dis_All:\n",
    "        D_e_EC_cross = Para_SD[i][\"Lithium ion EC cross diffusivity [m2.s-1]\"]\n",
    "        str_pickle =  f\"Single\"\n",
    "        sol_return = Run_P3_OneCycle_Dict(\n",
    "            i, Para_DD[i], Path_pack,Rate_Dis,str_pickle,\n",
    "            Return_sol=False,Save_sol=True)"
   ]
  },
  {
   "cell_type": "code",
   "execution_count": null,
   "metadata": {},
   "outputs": [],
   "source": []
  },
  {
   "cell_type": "code",
   "execution_count": null,
   "metadata": {},
   "outputs": [],
   "source": []
  }
 ],
 "metadata": {
  "kernelspec": {
   "display_name": "envSolCon",
   "language": "python",
   "name": "python3"
  },
  "language_info": {
   "codemirror_mode": {
    "name": "ipython",
    "version": 3
   },
   "file_extension": ".py",
   "mimetype": "text/x-python",
   "name": "python",
   "nbconvert_exporter": "python",
   "pygments_lexer": "ipython3",
   "version": "3.10.12"
  },
  "orig_nbformat": 4,
  "vscode": {
   "interpreter": {
    "hash": "5ae0c684446e40f7574a1a9821257f2365ba43f34c15f5f2e3dcabca0bad9ab7"
   }
  }
 },
 "nbformat": 4,
 "nbformat_minor": 2
}
