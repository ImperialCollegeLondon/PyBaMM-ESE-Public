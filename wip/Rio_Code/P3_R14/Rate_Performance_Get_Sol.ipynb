{
 "cells": [
  {
   "attachments": {},
   "cell_type": "markdown",
   "metadata": {},
   "source": [
    "## Reproduce solvent segregation in Wang 2022 - Fig. 4\n",
    "### $ D_{\\text{e},\\text{EC}}^0 = 0, \\, 2.5 \\times 10^{-12}, \\, 2.5 \\times 10^{-11} \\, \\text{m}^2/\\text{s} $"
   ]
  },
  {
   "cell_type": "code",
   "execution_count": 7,
   "metadata": {},
   "outputs": [
    {
     "name": "stdout",
     "output_type": "stream",
     "text": [
      "The autoreload extension is already loaded. To reload it, use:\n",
      "  %reload_ext autoreload\n"
     ]
    }
   ],
   "source": [
    "# magic lines that avoid re-start\n",
    "%load_ext autoreload\n",
    "%autoreload 2\n",
    "import pybamm;import pandas as pd   ;import numpy as np;import os;import matplotlib.pyplot as plt;import os;#import imageio\n",
    "from scipy.io import savemat,loadmat;from pybamm import constants,exp,sqrt;\n",
    "import matplotlib as mpl; \n",
    "fs=17; # or we can set import matplotlib.pyplot as plt then say 'mpl.rc...'\n",
    "import openpyxl\n",
    "import traceback\n",
    "import multiprocessing\n",
    "font = {'family' : 'DejaVu Sans','size'   : fs}\n",
    "mpl.rc('font', **font)"
   ]
  },
  {
   "cell_type": "code",
   "execution_count": 8,
   "metadata": {},
   "outputs": [],
   "source": [
    "import sys  \n",
    "str_path_0 = os.path.abspath(os.path.join(pybamm.__path__[0],'..'))\n",
    "str_path_1 = os.path.abspath(os.path.join(str_path_0,\"wip/Rio_Code/Fun_P3\"))\n",
    "sys.path.append(str_path_1) \n",
    "from Fun_P3 import *\n",
    "BasicPath = os.path.expanduser(\"~/EnvPBGEM_ECDrag2/Double_SimSave/Double_Trans/\")\n",
    "Target  = 'Rate_Performance/' \n",
    "if not os.path.exists(BasicPath + Target):\n",
    "   os.mkdir(BasicPath + Target)\n",
    "Save_Fig = True"
   ]
  },
  {
   "cell_type": "code",
   "execution_count": 9,
   "metadata": {},
   "outputs": [
    {
     "name": "stdout",
     "output_type": "stream",
     "text": [
      "3 1\n"
     ]
    }
   ],
   "source": [
    "# define parameter of double and single \n",
    "Para_dict_Same = {\n",
    "   \"Mesh list\":[ [20,10,20,100,20], ],   # Simon uses 30\n",
    "   \"Para_Set\":[ \"Li2023_ECdrag\",],\n",
    "   \"Contact resistance [Ohm]\":[12e-3],\n",
    "   \"Initial Neg SOC\":[0.8841301667966484,],\n",
    "   \"Initial Pos SOC\":[0.23552755074598045,],}\n",
    "Para_dict_DD_ONLY = {\n",
    "   \"Model option\":[{\n",
    "      \"SEI\": \"constant\",\n",
    "      \"SEI film resistance\":\"distributed\",   \n",
    "      \"SEI porosity change\": \"true\",\n",
    "      \"solvent diffusion\": \"double spatial consume w refill\",\n",
    "      \"electrolyte conductivity\": \"sol full\"  ,\n",
    "     \"contact resistance\":\"true\",  },],\n",
    "   \"Lithium ion EC cross diffusivity [m2.s-1]\":[0,2.5E-12,2.5e-11,], # \n",
    "}\n",
    "Para_dict_SD_ONLY = {\n",
    "   \"Model option\":[{\n",
    "      \"SEI\": \"constant\",\n",
    "      \"SEI film resistance\":\"distributed\",   \n",
    "      \"SEI porosity change\": \"true\",\n",
    "      \"solvent diffusion\": \"single no consume wo refill\",\n",
    "      \"electrolyte conductivity\": \"full\"  ,\n",
    "      \"contact resistance\":\"true\",  },],\n",
    "   \"Lithium ion EC cross diffusivity [m2.s-1]\":[0,], #  \n",
    "   \"Measured dLJP_dce\":[\"dLJP_1_Specie_dc_e_np\",]\n",
    "}\n",
    "Para_dict_DD = {**Para_dict_Same,**Para_dict_DD_ONLY}\n",
    "Para_dict_SD = {**Para_dict_Same,**Para_dict_SD_ONLY}\n",
    "Para_DD = [];  Para_SD=[];\n",
    "recursive_scan(Para_DD,Para_dict_DD, list(Para_dict_DD.keys()), {})\n",
    "recursive_scan(Para_SD,Para_dict_SD, list(Para_dict_SD.keys()), {})\n",
    "print(len(Para_DD),len(Para_SD))\n",
    "\n",
    "Path_pack = [BasicPath,Target,]"
   ]
  },
  {
   "cell_type": "markdown",
   "metadata": {},
   "source": [
    "#### 2.5e-11 + 2.6C takes 40+ minutes and has spikes; 1e-11 + 2.8C takes 44 minutes, -> both not good"
   ]
  },
  {
   "cell_type": "code",
   "execution_count": 10,
   "metadata": {},
   "outputs": [
    {
     "name": "stdout",
     "output_type": "stream",
     "text": [
      "[1, 1.5, 2, 2.5, 2.525, 2.55, 2.575, 2.6] 8\n"
     ]
    }
   ],
   "source": [
    "Rate_Dis_All = [1,1.5,2,2.5,2.525,2.55,2.575,2.6]     # np.arange(1,2.5+0.5,0.5) # np.arange(3.8,4.5+0.175,0.175)\n",
    "print(Rate_Dis_All,len(Rate_Dis_All))"
   ]
  },
  {
   "cell_type": "code",
   "execution_count": 11,
   "metadata": {},
   "outputs": [
    {
     "name": "stdout",
     "output_type": "stream",
     "text": [
      "Start Now! C rate: 1\n"
     ]
    }
   ],
   "source": [
    "for i in range(len(Para_DD)):  \n",
    "    for Rate_Dis in Rate_Dis_All:\n",
    "        D_e_EC_cross = Para_DD[i][\"Lithium ion EC cross diffusivity [m2.s-1]\"]\n",
    "        str_pickle =  f\"Double_D_e_EC_cross={D_e_EC_cross}\"\n",
    "        sol_return = Run_P3_OneCycle_Dict(\n",
    "            i, Para_DD[i], Path_pack,Rate_Dis,str_pickle,\n",
    "            Return_sol=False,Save_sol=True)"
   ]
  },
  {
   "cell_type": "code",
   "execution_count": null,
   "metadata": {},
   "outputs": [],
   "source": [
    "for i in range(len(Para_SD)):  \n",
    "    for Rate_Dis in Rate_Dis_All:\n",
    "        D_e_EC_cross = Para_SD[i][\"Lithium ion EC cross diffusivity [m2.s-1]\"]\n",
    "        str_pickle =  f\"Single\"\n",
    "        sol_return = Run_P3_OneCycle_Dict(\n",
    "            i, Para_DD[i], Path_pack,Rate_Dis,str_pickle,\n",
    "            Return_sol=False,Save_sol=True)"
   ]
  },
  {
   "cell_type": "code",
   "execution_count": null,
   "metadata": {},
   "outputs": [],
   "source": []
  },
  {
   "cell_type": "code",
   "execution_count": null,
   "metadata": {},
   "outputs": [],
   "source": []
  }
 ],
 "metadata": {
  "kernelspec": {
   "display_name": "envSolCon",
   "language": "python",
   "name": "python3"
  },
  "language_info": {
   "codemirror_mode": {
    "name": "ipython",
    "version": 3
   },
   "file_extension": ".py",
   "mimetype": "text/x-python",
   "name": "python",
   "nbconvert_exporter": "python",
   "pygments_lexer": "ipython3",
   "version": "3.10.12"
  },
  "orig_nbformat": 4,
  "vscode": {
   "interpreter": {
    "hash": "5ae0c684446e40f7574a1a9821257f2365ba43f34c15f5f2e3dcabca0bad9ab7"
   }
  }
 },
 "nbformat": 4,
 "nbformat_minor": 2
}
