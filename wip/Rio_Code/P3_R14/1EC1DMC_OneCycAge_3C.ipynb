{
 "cells": [
  {
   "attachments": {},
   "cell_type": "markdown",
   "metadata": {},
   "source": [
    "# this is to show how double transport affect j_SEI, produce Fig. 7"
   ]
  },
  {
   "cell_type": "code",
   "execution_count": 1,
   "metadata": {},
   "outputs": [],
   "source": [
    "# magic lines that avoid re-start\n",
    "%load_ext autoreload\n",
    "%autoreload 2\n",
    "import pybamm;import pandas as pd   ;import numpy as np;import os;import matplotlib.pyplot as plt;import os;#import imageio\n",
    "from scipy.io import savemat,loadmat;from pybamm import constants,exp,sqrt;\n",
    "import matplotlib as mpl; \n",
    "fs=17; # or we can set import matplotlib.pyplot as plt then say 'mpl.rc...'\n",
    "import openpyxl\n",
    "import traceback\n",
    "import multiprocessing\n",
    "font = {'family' : 'Times New Roman','size'   : fs}\n",
    "mpl.rc('font', **font)"
   ]
  },
  {
   "cell_type": "code",
   "execution_count": 2,
   "metadata": {},
   "outputs": [],
   "source": [
    "import sys  \n",
    "str_path_0 = os.path.abspath(os.path.join(pybamm.__path__[0],'..'))\n",
    "str_path_1 = os.path.abspath(os.path.join(str_path_0,\"wip/Rio_Code/Fun_P3\"))\n",
    "sys.path.append(str_path_1) \n",
    "from Fun_P3 import *\n",
    "BasicPath = os.path.expanduser(\"~/EnvPBGEM_ECDrag2/Double_SimSave/Double_Trans/\")\n",
    "Target  = 'OneCycAge_240313/'\n",
    "if not os.path.exists(BasicPath + Target):\n",
    "   os.mkdir(BasicPath + Target)\n",
    "Save_Fig = True"
   ]
  },
  {
   "cell_type": "code",
   "execution_count": 3,
   "metadata": {},
   "outputs": [
    {
     "name": "stdout",
     "output_type": "stream",
     "text": [
      "2 1\n"
     ]
    }
   ],
   "source": [
    "# define parameter of double and single \n",
    "# define parameter of double and single \n",
    "Para_dict_Same = {\n",
    "   \"Mesh list\":[ [20,10,20,100,20], ],   # Simon uses 30\n",
    "   \"Para_Set\":[ \"Li2023_ECdrag\",],\n",
    "   \"Contact resistance [Ohm]\":[12e-3],\n",
    "   \"Initial Neg SOC\":[0.8841301667966484,],\n",
    "   \"Initial Pos SOC\":[0.23552755074598045,],\n",
    "   \"Inner SEI lithium interstitial diffusivity [m2.s-1]\":[5e-19,],\n",
    "}\n",
    "\n",
    "Para_dict_DD_ONLY = {\n",
    "   \"Model option\":[{\n",
    "      \"SEI\":\"interstitial-diffusion limited\",   \n",
    "      \"SEI film resistance\":\"distributed\",   \n",
    "      \"SEI porosity change\": \"true\",\n",
    "      \"solvent diffusion\": \"double spatial consume w refill\",\n",
    "      \"electrolyte conductivity\": \"sol full\"  ,\n",
    "     \"contact resistance\":\"true\",  },],\n",
    "   \"Lithium ion EC cross diffusivity [m2.s-1]\":[0,1.5e-11], # \n",
    "}\n",
    "Para_dict_SD_ONLY = {\n",
    "   \"Model option\":[{\n",
    "      \"SEI\":\"interstitial-diffusion limited\",   \n",
    "      \"SEI film resistance\":\"distributed\",   \n",
    "      \"SEI porosity change\": \"true\",\n",
    "      \"solvent diffusion\": \"single no consume wo refill\",\n",
    "      \"electrolyte conductivity\": \"full\"  ,\n",
    "      \"contact resistance\":\"true\",  },],\n",
    "   \"Lithium ion EC cross diffusivity [m2.s-1]\":[0,], #  \n",
    "   \"Measured dLJP_dce\":[\"dLJP_1_Specie_dc_e_np\",]\n",
    "}\n",
    "Para_dict_DD = {**Para_dict_Same,**Para_dict_DD_ONLY}\n",
    "Para_dict_SD = {**Para_dict_Same,**Para_dict_SD_ONLY}\n",
    "Para_DD = [];  Para_SD=[];\n",
    "recursive_scan(Para_DD,Para_dict_DD, list(Para_dict_DD.keys()), {})\n",
    "recursive_scan(Para_SD,Para_dict_SD, list(Para_dict_SD.keys()), {})\n",
    "print(len(Para_DD),len(Para_SD))\n"
   ]
  },
  {
   "cell_type": "code",
   "execution_count": 4,
   "metadata": {},
   "outputs": [],
   "source": [
    "book_name_xlsx = 'Test.xlsx';sheet_name_xlsx = 'Results';\n",
    "Path_Exp_Crate =  os.path.expanduser(\n",
    "    \"~/EnvPBGEM_ECDrag2/Double_SimSave/Double_Trans/Ruihe_newLGM50_Crate/\")\n",
    "Path_pack = [BasicPath,Target,Path_Exp_Crate,book_name_xlsx,sheet_name_xlsx,];"
   ]
  },
  {
   "cell_type": "code",
   "execution_count": 5,
   "metadata": {},
   "outputs": [
    {
     "name": "stdout",
     "output_type": "stream",
     "text": [
      "Confirm: using interstitial-diffusion limited\n"
     ]
    },
    {
     "name": "stderr",
     "output_type": "stream",
     "text": [
      "CasADi - 2024-03-13 11:18:41 WARNING(\"The options 't0', 'tf', 'grid' and 'output_t0' have been deprecated.\n",
      "The same functionality is provided by providing additional input arguments to the 'integrator' function, in particular:\n",
      " * Call integrator(..., t0, tf, options) for a single output time, or\n",
      " * Call integrator(..., t0, grid, options) for multiple grid points.\n",
      "The legacy 'output_t0' option can be emulated by including or excluding 't0' in 'grid'.\n",
      "Backwards compatibility is provided in this release only.\") [.../casadi/core/integrator.cpp:515]\n",
      "At t = 0.00257308, , mxstep steps taken before reaching tout.\n",
      "At t = 0.00257297, , mxstep steps taken before reaching tout.\n",
      "At t = 6.32918e-05, , mxstep steps taken before reaching tout.\n",
      "At t = 0.000240048, , mxstep steps taken before reaching tout.\n",
      "At t = 6.3338e-05, , mxstep steps taken before reaching tout.\n",
      "At t = 6.32944e-05, , mxstep steps taken before reaching tout.\n",
      "At t = 6.32712e-05, , mxstep steps taken before reaching tout.\n",
      "At t = 6.32755e-05, , mxstep steps taken before reaching tout.\n",
      "At t = 0.00023242 and h = 5.71603e-23, the corrector convergence failed repeatedly or with |h| = hmin.\n",
      "At t = 0.00023242, , mxstep steps taken before reaching tout.\n",
      "At t = 0.000134972, , mxstep steps taken before reaching tout.\n",
      "At t = 0.000134971, , mxstep steps taken before reaching tout.\n",
      "At t = 0.000598429 and h = 6.5818e-34, the corrector convergence failed repeatedly or with |h| = hmin.\n",
      "At t = 0.000134979, , mxstep steps taken before reaching tout.\n",
      "2024-03-13 11:52:38.511 - [ERROR] callbacks.on_experiment_error(226): Simulation error: Maximum number of decreased steps occurred at t=3301.406820855738 (final SolverError: 'Error in Function::call for 'F' [IdasInterface] at .../casadi/core/function.cpp:1401:\n",
      "Error in Function::call for 'F' [IdasInterface] at .../casadi/core/function.cpp:330:\n",
      ".../casadi/interfaces/sundials/idas_interface.cpp:596: IDASolve returned \"IDA_TOO_MUCH_WORK\". Consult IDAS documentation.'). For a full solution try reducing dt_max (currently, dt_max=111.44905869391971) and/or reducing the size of the time steps or period of the experiment. Set `return_solution_if_failed_early=True` to return the solution object up to the point where failure occured.\n"
     ]
    },
    {
     "name": "stdout",
     "output_type": "stream",
     "text": [
      "Confirm: using interstitial-diffusion limited\n",
      "Confirm: using interstitial-diffusion limited\n"
     ]
    }
   ],
   "source": [
    "# Three set of solution:\n",
    "def Run_OneCycleAge_Dict(index_i, Para_dd_i, Path_pack,):\n",
    "    count_i = int(index_i);\n",
    "    [BasicPath,Target,Path_Exp_Crate,\n",
    "        book_name_xlsx,sheet_name_xlsx,] = Path_pack\n",
    "    ##### Initialise Para_0 and model \n",
    "    CyclePack,para_used = Para_init_Dict(Para_dd_i)\n",
    "    [Mesh_list,model_options] = CyclePack\n",
    "    model = pybamm.lithium_ion.DFN(options=model_options)\n",
    "    str_model_options = str(model_options)\n",
    "    V_max = 4.2;        V_min = 2.5\n",
    "    Exp_1  = pybamm.Experiment(\n",
    "    [ (\n",
    "        f\"Hold at {V_max} V until C/20\",\n",
    "        f\"Discharge at 1 C until {V_min} V\", \n",
    "        f\"Charge at 2 C until {V_max} V (2 second period)\",  # (5 minute period)\n",
    "        f\"Hold at {V_max} V until C/20\"),] * 1 )  \n",
    "    model = Add_var(para_used,model) # add extra variable to model\n",
    "    var_pts = {\n",
    "        \"x_n\": Mesh_list[0],  # negative electrode\n",
    "        \"x_s\": Mesh_list[1],  # separator \n",
    "        \"x_p\": Mesh_list[2],  # positive electrode\n",
    "        \"r_n\": Mesh_list[3],  # negative particle\n",
    "        \"r_p\": Mesh_list[4],  # positive particle\n",
    "    }\n",
    "    sim    = pybamm.Simulation(\n",
    "        model, experiment = Exp_1,\n",
    "        parameter_values = para_used,\n",
    "        solver = pybamm.CasadiSolver(return_solution_if_failed_early=True),\n",
    "        var_pts=var_pts,\n",
    "        )       \n",
    "    sol    = sim.solve()\n",
    "    return sol\n",
    " \n",
    "sol_DD_HDx = Run_OneCycleAge_Dict(1.0, Para_DD[1],Path_pack)\n",
    "sol_DD_LDx = Run_OneCycleAge_Dict(0.0, Para_DD[0],Path_pack)\n",
    "sol_SD     = Run_OneCycleAge_Dict(2.0, Para_SD[0],Path_pack)"
   ]
  },
  {
   "cell_type": "code",
   "execution_count": 7,
   "metadata": {},
   "outputs": [
    {
     "name": "stdout",
     "output_type": "stream",
     "text": [
      "[0.0, 2.0, 4.0, 5.999999999999545, 7.999999999999545, 9.999999999999545, 12.0, 14.0, 15.999999999999545, 17.999999999999545, 19.999999999999545, 22.0, 24.0, 25.999999999999545, 27.999999999999545, 29.999999999999545, 32.0, 34.0, 35.999999999999545, 37.999999999999545, 39.999999999999545, 42.0, 44.0, 45.999999999999545, 47.999999999999545, 49.999999999999545, 52.0, 54.0, 55.999999999999545, 57.999999999999545, 59.999999999999545, 62.0, 64.0, 65.99999999999955, 67.99999999999955, 69.99999999999955, 72.0, 74.0, 75.99999999999955, 77.99999999999955, 79.99999999999955, 82.0, 84.0, 85.99999999999955, 87.99999999999955, 89.99999999999955, 92.0, 94.0, 95.99999999999955, 97.99999999999955, 99.99999999999955, 102.0, 104.0, 105.99999999999955, 107.99999999999955, 109.99999999999955, 112.0, 114.0, 115.99999999999955, 117.99999999999955, 119.99999999999955, 122.0, 124.0, 125.99999999999955, 127.99999999999955, 129.99999999999955, 132.0, 134.0, 135.99999999999955, 137.99999999999955, 139.99999999999955, 142.0, 144.0, 146.0, 147.99999999999955, 149.99999999999955, 152.0, 154.0, 155.99999999999955, 157.99999999999955, 159.99999999999955, 162.0, 164.0, 166.0, 167.99999999999955, 169.99999999999955, 172.0, 174.0, 175.99999999999955, 177.99999999999955, 179.99999999999955, 182.0, 184.0, 186.0, 187.99999999999955, 189.99999999999955, 192.0, 194.0, 195.99999999999955, 197.99999999999955, 199.99999999999955, 202.0, 204.0, 206.0, 207.99999999999955, 209.99999999999955, 212.0, 214.0, 216.0, 217.99999999999955, 219.99999999999955, 222.0, 224.0, 226.0, 227.99999999999955, 229.99999999999955, 232.0, 234.0, 236.0, 237.99999999999955, 239.99999999999955, 242.0, 244.0, 246.0, 247.99999999999955, 249.99999999999955, 252.0, 254.0, 256.0, 257.99999999999955, 259.99999999999955, 262.0, 264.0, 266.0, 267.99999999999955, 269.99999999999955, 272.0, 274.0, 276.0, 277.99999999999955, 279.99999999999955, 282.0, 284.0, 286.0, 287.99999999999955, 289.99999999999955, 292.0, 294.0, 296.0, 297.99999999999955, 299.99999999999955, 302.0, 304.0, 306.0, 307.99999999999955, 309.99999999999955, 311.99999999999955, 314.0, 316.0, 317.99999999999955, 319.99999999999955, 321.99999999999955, 324.0, 326.0, 327.99999999999955, 329.99999999999955, 331.99999999999955, 334.0, 336.0, 337.99999999999955, 339.99999999999955, 341.99999999999955, 344.0, 346.0, 347.99999999999955, 349.99999999999955, 351.99999999999955, 354.0, 356.0, 357.99999999999955, 359.99999999999955, 361.99999999999955, 364.0, 366.0, 367.99999999999955, 369.99999999999955, 371.99999999999955, 374.0, 376.0, 377.99999999999955, 379.99999999999955, 381.99999999999955, 384.0, 386.0, 388.0, 389.99999999999955, 391.99999999999955, 394.0, 394.9308141142951]\n",
      "[0.0, 2.0, 4.000000000000455, 6.0, 8.0, 10.0, 12.0, 14.000000000000455, 16.0, 18.0, 20.0, 22.0, 24.000000000000455, 26.0, 28.0, 30.0, 32.0, 34.000000000000455, 36.0, 38.0, 40.0, 42.0, 44.000000000000455, 46.0, 48.0, 50.0, 52.0, 54.000000000000455, 56.0, 58.0, 60.0, 62.0, 64.00000000000045, 66.0, 68.0, 70.0, 72.0, 74.00000000000045, 76.0, 78.0, 80.0, 82.0, 84.00000000000045, 86.0, 88.0, 90.0, 92.0, 94.00000000000045, 96.00000000000045, 98.0, 100.0, 102.0, 104.00000000000045, 105.99999999999955, 108.0, 110.0, 112.0, 114.00000000000045, 116.00000000000045, 118.0, 120.0, 122.0, 124.00000000000045, 125.99999999999955, 128.0, 130.0, 132.0, 134.00000000000045, 136.00000000000045, 138.0, 140.0, 142.0, 144.00000000000045, 146.00000000000045, 148.0, 150.0, 152.0, 154.00000000000045, 156.00000000000045, 158.0, 160.0, 162.0, 164.00000000000045, 166.00000000000045, 168.0, 170.0, 172.0, 174.00000000000045, 176.00000000000045, 178.0, 180.0, 182.0, 184.00000000000045, 186.00000000000045, 188.0, 190.0, 192.0, 194.00000000000045, 196.00000000000045, 198.0, 200.0, 202.0, 204.0, 206.00000000000045, 208.0, 210.0, 212.0, 214.0, 216.00000000000045, 218.0, 220.0, 222.0, 224.0, 226.00000000000045, 228.0, 230.0, 232.0, 234.0, 236.00000000000045, 238.0, 240.0, 242.0, 244.0, 246.00000000000045, 248.0, 250.0, 252.0, 254.0, 256.00000000000045, 258.0, 260.0, 262.0, 264.0, 266.00000000000045, 268.0, 270.0, 272.0, 274.0, 276.00000000000045, 278.0, 280.0, 282.0, 284.0, 286.00000000000045, 288.0, 290.0, 292.0, 294.0, 296.00000000000045, 298.0, 300.0, 302.0, 304.0, 306.00000000000045, 308.0, 310.0, 312.0, 314.0, 316.00000000000045, 318.00000000000045, 320.0, 322.0, 324.0, 326.00000000000045, 328.0, 330.0, 332.0, 334.0, 336.00000000000045, 338.00000000000045, 340.0, 342.0, 344.0, 346.00000000000045, 348.0, 350.0, 352.0, 354.0, 356.00000000000045, 358.00000000000045, 360.0, 362.0, 364.0, 366.00000000000045, 368.0, 370.0, 372.0, 374.0, 376.00000000000045, 378.00000000000045, 380.0, 382.0, 384.0, 386.00000000000045, 388.0, 390.0, 392.0, 394.0, 396.00000000000045, 398.00000000000045, 400.0, 401.7959473495539]\n",
      "[0.0, 2.0, 4.000000000000455, 6.0, 8.0, 10.0, 12.0, 14.000000000000455, 16.0, 18.0, 20.0, 22.0, 24.000000000000455, 26.0]\n",
      "[12, 12, 12] 24.000000000000455\n"
     ]
    },
    {
     "data": {
      "image/png": "[encoded data removed]",
      "text/plain": [
       "<Figure size 748.031x216.535 with 3 Axes>"
      ]
     },
     "metadata": {},
     "output_type": "display_data"
    }
   ],
   "source": [
    "# plot only things happen during 3C CC charge\n",
    "fs = 12; font = {'family' : 'DejaVu Sans','size'   : fs}\n",
    "mpl.rc('font', **font)\n",
    "def FindClose(time_DD,t_select): # Input must be a list\n",
    "    for i in range(0,len(time_DD)):\n",
    "        if abs(time_DD[i] - t_select)<1e-3:\n",
    "            break\n",
    "    return i\n",
    "Colors = ['#1f77b4','#ff7f0e',  '#d62728', ];\n",
    "LS = ['-','--','-','--',];MS=['s','^','h']; ms = 8\n",
    "Sol_plt = [sol_SD,sol_DD_LDx,sol_DD_HDx,];\n",
    "Str = [\"Single\",r\"Double low D$_\\times$\",r\"Double high D$_\\times$\"]\n",
    "\n",
    "t_int_all = []; Index_t_select = []; \n",
    "\n",
    "for i in range(3):\n",
    "    sol = Sol_plt[i]; step_CC =  sol.cycles[0].steps[2]\n",
    "    t_int_all.append((\n",
    "        step_CC['Time [s]'].entries\n",
    "        - step_CC['Time [s]'].entries[0]).tolist())\n",
    "    print(t_int_all[-1])\n",
    "t_select = min(t_int_all[0][-2],t_int_all[1][-2],t_int_all[2][-2])\n",
    "for i in range(3):\n",
    "    Index_t_select.append(FindClose(t_int_all[i],t_select))\n",
    "print(Index_t_select,t_select)\n",
    "\n",
    "fig, axs = plt.subplots(1,3, figsize=(19/2.54,5.5/2.54),tight_layout=True)\n",
    "for i in range(3):\n",
    "    sol = Sol_plt[i]; step_CC =  sol.cycles[0].steps[2]\n",
    "    x =   step_CC[\"x [m]\"].entries[:,0]\n",
    "    x_n =   step_CC[\"x_n [m]\"].entries[:,0]\n",
    "    c_EC =   step_CC[\"EC concentration [mol.m-3]\"].entries[:,Index_t_select[i]]\n",
    "    j_SEI =   step_CC[\"Negative electrode SEI interfacial current density [A.m-2]\"].entries[:,Index_t_select[i]]\n",
    "    phi_s_phi_e =   step_CC[\"Negative electrode surface potential difference [V]\"].entries[:,Index_t_select[i]]\n",
    "\n",
    "    axs[0].plot(x*1e6, c_EC/1e3, color=Colors[i],linestyle=LS[i],) # label=r\"Single-High $D_\\times$\" \n",
    "    axs[1].plot(x_n*1e6, phi_s_phi_e*1e3, color=Colors[i],linestyle=LS[i]) \n",
    "    axs[2].plot(x_n*1e6, abs(j_SEI)*1e3, color=Colors[i],linestyle=LS[i]) \n",
    "Y_0p = np.arange(-100,200,50)\n",
    "axs[0].plot( 85.2 * np.ones_like(Y_0p),Y_0p,\"k-\",linewidth=0.5,)\n",
    "axs[0].plot((85.2+12 )* np.ones_like(Y_0p),Y_0p, \"k-\",linewidth=0.5,)\n",
    "\n",
    "\n",
    "axs[0].set_xlabel(r\"$\\mathit{x}$ [$\\mu$m]\",   )\n",
    "axs[1].set_xlabel(r\"$\\mathit{x}_\\mathrm{n}$ [$\\mu$m]\",   )\n",
    "axs[2].set_xlabel(r\"$\\mathit{x}_\\mathrm{n}$ [$\\mu$m]\",   )\n",
    "axs[0].set_ylabel(\"$\\mathit{c}$ (EC) [M]\")\n",
    "axs[1].set_ylabel(\"$\\phi$$_\\mathrm{s}$ - $\\phi$$_\\mathrm{e}$ [mV]\")\n",
    "axs[2].set_ylabel(\"$\\mathit{j}_\\mathrm{SEI}$ [mA/m$^{-2}$]\")\n",
    "axs[0].ticklabel_format( \n",
    "    axis='x', style='sci',\n",
    "    scilimits=[-1e3,1e3], useOffset=None, \n",
    "    useLocale=None, useMathText=None)\n",
    "\n",
    "axs[0].set_ylim([5.8,6.8])\n",
    "#axs[1].set_ylim([-90,130])\n",
    "#axs[2].set_ylim([-0.1,75])\n",
    "fig.subplots_adjust(wspace=0, hspace=0)\n",
    "# 85.2 ; 12; 75.6\n",
    "\n",
    "plt.savefig(BasicPath +  Target+ \n",
    "    f\"Fig_6_2C_c_EC_j_SEI.png\", dpi=1000)\n",
    "plt.savefig(BasicPath +  Target+ \n",
    "    f\"Fig_6_2C_c_EC_j_SEI.svg\")   "
   ]
  }
 ],
 "metadata": {
  "kernelspec": {
   "display_name": "envSolCon",
   "language": "python",
   "name": "python3"
  },
  "language_info": {
   "codemirror_mode": {
    "name": "ipython",
    "version": 3
   },
   "file_extension": ".py",
   "mimetype": "text/x-python",
   "name": "python",
   "nbconvert_exporter": "python",
   "pygments_lexer": "ipython3",
   "version": "3.10.12"
  },
  "orig_nbformat": 4,
  "vscode": {
   "interpreter": {
    "hash": "5ae0c684446e40f7574a1a9821257f2365ba43f34c15f5f2e3dcabca0bad9ab7"
   }
  }
 },
 "nbformat": 4,
 "nbformat_minor": 2
}
