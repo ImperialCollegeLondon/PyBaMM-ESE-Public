{
 "cells": [
  {
   "attachments": {},
   "cell_type": "markdown",
   "metadata": {},
   "source": [
    "# this is to show how double transport affect j_SEI, produce Fig. 7"
   ]
  },
  {
   "cell_type": "code",
   "execution_count": 1,
   "metadata": {},
   "outputs": [],
   "source": [
    "# magic lines that avoid re-start\n",
    "%load_ext autoreload\n",
    "%autoreload 2\n",
    "import pybamm;import pandas as pd   ;import numpy as np;import os;import matplotlib.pyplot as plt;import os;#import imageio\n",
    "from scipy.io import savemat,loadmat;from pybamm import constants,exp,sqrt;\n",
    "import matplotlib as mpl; \n",
    "fs=17; # or we can set import matplotlib.pyplot as plt then say 'mpl.rc...'\n",
    "import openpyxl\n",
    "import traceback\n",
    "import multiprocessing\n",
    "font = {'family' : 'DejaVu Sans','size'   : fs}\n",
    "mpl.rc('font', **font)"
   ]
  },
  {
   "cell_type": "code",
   "execution_count": 2,
   "metadata": {},
   "outputs": [],
   "source": [
    "import sys  \n",
    "str_path_0 = os.path.abspath(os.path.join(pybamm.__path__[0],'..'))\n",
    "str_path_1 = os.path.abspath(os.path.join(str_path_0,\"wip/Rio_Code/Fun_P3\"))\n",
    "sys.path.append(str_path_1) \n",
    "from Fun_P3 import *\n",
    "BasicPath = os.path.expanduser(\"~/EnvPBGEM_ECDrag2/Double_SimSave/Double_Trans/\")\n",
    "Target  = 'OneCycAge_240319/'\n",
    "if not os.path.exists(BasicPath + Target):\n",
    "   os.mkdir(BasicPath + Target)\n",
    "Save_Fig = True"
   ]
  },
  {
   "cell_type": "code",
   "execution_count": 3,
   "metadata": {},
   "outputs": [
    {
     "name": "stdout",
     "output_type": "stream",
     "text": [
      "2 1\n"
     ]
    }
   ],
   "source": [
    "# define parameter of double and single \n",
    "# define parameter of double and single \n",
    "Para_dict_Same = {\n",
    "   \"Mesh list\":[ [20,10,20,100,20], ],   # Simon uses 30\n",
    "   \"Para_Set\":[ \"Li2023_ECdrag\",],\n",
    "   \"Contact resistance [Ohm]\":[6e-3],\n",
    "   \"Initial Neg SOC\":[0.8841301667966484,],\n",
    "   \"Initial Pos SOC\":[0.23552755074598045,],\n",
    "   \"Inner SEI lithium interstitial diffusivity [m2.s-1]\":[5e-19,],\n",
    "}\n",
    "\n",
    "Para_dict_DD_ONLY = {\n",
    "   \"Model option\":[{\n",
    "      \"SEI\":\"interstitial-diffusion limited\",   \n",
    "      \"SEI film resistance\":\"distributed\",   \n",
    "      \"SEI porosity change\": \"true\",\n",
    "      \"solvent diffusion\": \"double spatial consume w refill\",\n",
    "      \"electrolyte conductivity\": \"sol full\"  ,\n",
    "     \"contact resistance\":\"true\",  },],\n",
    "   \"Lithium ion EC cross diffusivity [m2.s-1]\":[0,1e-11], # \n",
    "}\n",
    "Para_dict_SD_ONLY = {\n",
    "   \"Model option\":[{\n",
    "      \"SEI\":\"interstitial-diffusion limited\",   \n",
    "      \"SEI film resistance\":\"distributed\",   \n",
    "      \"SEI porosity change\": \"true\",\n",
    "      \"solvent diffusion\": \"single no consume wo refill\",\n",
    "      \"electrolyte conductivity\": \"full\"  ,\n",
    "      \"contact resistance\":\"true\",  },],\n",
    "   \"Lithium ion EC cross diffusivity [m2.s-1]\":[0,], #  \n",
    "   \"Measured dLJP_dce\":[\"dLJP_1_Specie_dc_e_np\",]\n",
    "}\n",
    "Para_dict_DD = {**Para_dict_Same,**Para_dict_DD_ONLY}\n",
    "Para_dict_SD = {**Para_dict_Same,**Para_dict_SD_ONLY}\n",
    "Para_DD = [];  Para_SD=[];\n",
    "recursive_scan(Para_DD,Para_dict_DD, list(Para_dict_DD.keys()), {})\n",
    "recursive_scan(Para_SD,Para_dict_SD, list(Para_dict_SD.keys()), {})\n",
    "print(len(Para_DD),len(Para_SD))\n"
   ]
  },
  {
   "cell_type": "code",
   "execution_count": 4,
   "metadata": {},
   "outputs": [],
   "source": [
    "book_name_xlsx = 'Test.xlsx';sheet_name_xlsx = 'Results';\n",
    "Path_Exp_Crate =  os.path.expanduser(\n",
    "    \"~/EnvPBGEM_ECDrag2/Double_SimSave/Double_Trans/Ruihe_newLGM50_Crate/\")\n",
    "Path_pack = [BasicPath,Target,Path_Exp_Crate,book_name_xlsx,sheet_name_xlsx,];"
   ]
  },
  {
   "cell_type": "code",
   "execution_count": 5,
   "metadata": {},
   "outputs": [
    {
     "name": "stdout",
     "output_type": "stream",
     "text": [
      "Confirm: using interstitial-diffusion limited\n"
     ]
    },
    {
     "name": "stderr",
     "output_type": "stream",
     "text": [
      "CasADi - 2024-03-19 15:43:36 WARNING(\"The options 't0', 'tf', 'grid' and 'output_t0' have been deprecated.\n",
      "The same functionality is provided by providing additional input arguments to the 'integrator' function, in particular:\n",
      " * Call integrator(..., t0, tf, options) for a single output time, or\n",
      " * Call integrator(..., t0, grid, options) for multiple grid points.\n",
      "The legacy 'output_t0' option can be emulated by including or excluding 't0' in 'grid'.\n",
      "Backwards compatibility is provided in this release only.\") [.../casadi/core/integrator.cpp:515]\n",
      "At t = 0.00531681, , mxstep steps taken before reaching tout.\n",
      "At t = 3.21872e-05, , mxstep steps taken before reaching tout.\n",
      "At t = 3.21788e-05, , mxstep steps taken before reaching tout.\n",
      "At t = 3.21872e-05, , mxstep steps taken before reaching tout.\n",
      "At t = 3.21992e-05, , mxstep steps taken before reaching tout.\n",
      "At t = 3.21885e-05, , mxstep steps taken before reaching tout.\n",
      "At t = 3.2187e-05, , mxstep steps taken before reaching tout.\n",
      "At t = 0.00029274, , mxstep steps taken before reaching tout.\n",
      "At t = 0.000292737, , mxstep steps taken before reaching tout.\n",
      "At t = 0.00039919, , mxstep steps taken before reaching tout.\n",
      "At t = 0.000399245, , mxstep steps taken before reaching tout.\n",
      "At t = 5.26237e-05 and h = 8.6155e-24, the corrector convergence failed repeatedly or with |h| = hmin.\n",
      "At t = 5.26272e-05, , mxstep steps taken before reaching tout.\n",
      "At t = 5.2625e-05, , mxstep steps taken before reaching tout.\n",
      "At t = 5.2626e-05, , mxstep steps taken before reaching tout.\n",
      "At t = 5.25794e-05, , mxstep steps taken before reaching tout.\n",
      "At t = 5.26267e-05, , mxstep steps taken before reaching tout.\n"
     ]
    },
    {
     "name": "stdout",
     "output_type": "stream",
     "text": [
      "Confirm: using interstitial-diffusion limited\n",
      "Confirm: using interstitial-diffusion limited\n"
     ]
    }
   ],
   "source": [
    "# Three set of solution:\n",
    "def Run_OneCycleAge_Dict(index_i, Para_dd_i, Path_pack,):\n",
    "    count_i = int(index_i);\n",
    "    [BasicPath,Target,Path_Exp_Crate,\n",
    "        book_name_xlsx,sheet_name_xlsx,] = Path_pack\n",
    "    ##### Initialise Para_0 and model \n",
    "    CyclePack,para_used = Para_init_Dict(Para_dd_i)\n",
    "    [Mesh_list,model_options] = CyclePack\n",
    "    model = pybamm.lithium_ion.DFN(options=model_options)\n",
    "    str_model_options = str(model_options)\n",
    "    V_max = 4.2;        V_min = 2.5\n",
    "    Exp_1  = pybamm.Experiment(\n",
    "    [ (\n",
    "        f\"Hold at {V_max} V until C/20\",\n",
    "        f\"Discharge at 1 C until {V_min} V\", \n",
    "        f\"Charge at 2 C until {V_max} V (2 second period)\",  # (5 minute period)\n",
    "        f\"Hold at {V_max} V until C/20\"),] * 1 )  \n",
    "    model = Add_var(para_used,model) # add extra variable to model\n",
    "    var_pts = {\n",
    "        \"x_n\": Mesh_list[0],  # negative electrode\n",
    "        \"x_s\": Mesh_list[1],  # separator \n",
    "        \"x_p\": Mesh_list[2],  # positive electrode\n",
    "        \"r_n\": Mesh_list[3],  # negative particle\n",
    "        \"r_p\": Mesh_list[4],  # positive particle\n",
    "    }\n",
    "    sim    = pybamm.Simulation(\n",
    "        model, experiment = Exp_1,\n",
    "        parameter_values = para_used,\n",
    "        solver = pybamm.CasadiSolver(return_solution_if_failed_early=True),\n",
    "        var_pts=var_pts,\n",
    "        )       \n",
    "    sol    = sim.solve()\n",
    "    return sol\n",
    " \n",
    "sol_DD_HDx = Run_OneCycleAge_Dict(1.0, Para_DD[1],Path_pack)\n",
    "sol_DD_LDx = Run_OneCycleAge_Dict(0.0, Para_DD[0],Path_pack)\n",
    "sol_SD     = Run_OneCycleAge_Dict(2.0, Para_SD[0],Path_pack)"
   ]
  },
  {
   "cell_type": "code",
   "execution_count": 8,
   "metadata": {},
   "outputs": [
    {
     "name": "stdout",
     "output_type": "stream",
     "text": [
      "[0.0, 2.0, 4.000000000000455, 5.999999999999545, 8.0, 10.0, 12.0, 14.0, 15.999999999999545, 18.0, 20.0, 22.0, 24.0, 25.999999999999545, 28.0, 30.0, 32.0, 34.0, 35.999999999999545, 38.0, 40.0, 42.0, 44.0, 45.999999999999545, 48.0, 50.0, 52.0, 54.0, 55.999999999999545, 58.0, 60.0, 62.0, 64.0, 65.99999999999955, 68.0, 70.0, 72.0, 74.0, 75.99999999999955, 78.0, 80.0, 82.0, 84.0, 85.99999999999955, 88.0, 90.0, 92.0, 94.0, 95.99999999999955, 98.0, 100.0, 102.0, 104.0, 105.99999999999955, 108.0, 110.0, 112.0, 114.0, 115.99999999999955, 118.0, 120.0, 122.0, 124.0, 125.99999999999955, 128.0, 130.0, 132.0, 134.0, 136.00000000000045, 138.0, 140.0, 142.0, 144.0, 145.99999999999955, 148.0, 150.0, 152.0, 154.0, 156.00000000000045, 158.0, 160.0, 162.0, 164.0, 165.99999999999955, 168.0, 170.0, 172.0, 174.0, 176.00000000000045, 178.0, 180.0, 182.0, 184.0, 185.99999999999955, 188.0, 190.0, 192.0, 194.0, 196.00000000000045, 198.0, 200.0, 202.0, 204.0, 205.99999999999955, 208.0, 210.0, 212.0, 214.0, 216.00000000000045, 218.0, 220.0, 222.0, 224.0, 226.00000000000045, 227.99999999999955, 230.0, 232.0, 234.0, 236.00000000000045, 237.99999999999955, 240.0, 242.0, 244.0, 246.00000000000045, 247.99999999999955, 250.0, 252.0, 254.0, 256.00000000000045, 257.99999999999955, 260.0, 262.0, 264.0, 266.00000000000045, 267.99999999999955, 270.0, 272.0, 274.0, 276.00000000000045, 277.99999999999955, 280.0, 282.0, 284.0, 286.00000000000045, 287.99999999999955, 290.0, 292.0, 294.0, 296.00000000000045, 297.99999999999955, 300.0, 302.0, 304.0, 306.00000000000045, 307.99999999999955, 310.0, 312.0, 314.0, 316.00000000000045, 317.99999999999955, 320.0, 322.0, 324.0, 326.0, 327.99999999999955, 330.0, 332.0, 334.0, 336.0, 337.99999999999955, 340.0, 342.0, 344.0, 346.0, 347.99999999999955, 350.0, 352.0, 354.0, 356.0, 357.99999999999955, 360.0, 362.0, 364.0, 366.0, 367.99999999999955, 370.0, 372.0, 374.0, 376.0, 378.00000000000045, 380.0, 382.0, 384.0, 386.0, 387.99999999999955, 390.0, 392.0, 394.0, 396.0, 398.00000000000045, 400.0, 402.0, 404.0, 406.0, 407.99999999999955, 410.0, 412.0, 414.0, 416.0, 418.00000000000045, 420.0, 422.0, 424.0, 426.0, 427.99999999999955, 430.0, 432.0, 434.0, 436.0, 438.00000000000045, 440.0, 442.0, 444.0, 446.0, 447.99999999999955, 450.0, 452.0, 454.0, 456.0, 458.00000000000045, 460.0, 462.0, 464.0, 466.0, 467.99999999999955, 470.0, 472.0, 474.0, 476.0, 478.00000000000045, 480.0, 482.0, 484.0, 486.0, 487.99999999999955, 490.0, 492.0, 494.0, 496.0, 498.00000000000045, 500.0, 502.0, 504.0, 506.0, 507.99999999999955, 510.0, 512.0, 514.0, 516.0, 518.0000000000005, 520.0, 522.0, 524.0, 526.0, 527.9999999999995, 529.9999999999995, 532.0, 534.0, 536.0, 538.0000000000005, 539.9999999999995, 542.0, 544.0, 546.0, 547.9999999999995, 549.9999999999995, 552.0, 554.0, 556.0, 558.0000000000005, 559.9999999999995, 562.0, 564.0, 566.0, 567.9999999999995, 569.9999999999995, 572.0, 574.0, 576.0, 578.0000000000005, 579.9999999999995, 582.0, 584.0, 586.0, 588.0000000000005, 589.9999999999995, 592.0, 594.0, 596.0, 598.0000000000005, 599.9999999999995, 602.0, 604.0, 606.0, 608.0000000000005, 609.9999999999995, 612.0, 614.0, 616.0, 618.0000000000005, 619.9999999999995, 622.0, 624.0, 626.0, 628.0, 629.9999999999995, 632.0, 634.0, 635.6599098458555]\n",
      "[0.0, 2.0, 4.0, 5.999999999999545, 7.999999999999545, 10.0, 12.0, 14.0, 15.999999999999545, 17.999999999999545, 20.0, 22.0, 24.0, 25.999999999999545, 27.999999999999545, 30.0, 32.0, 34.0, 35.999999999999545, 37.999999999999545, 40.0, 42.0, 44.0, 45.999999999999545, 47.999999999999545, 50.0, 52.0, 54.0, 55.999999999999545, 57.999999999999545, 60.0, 62.0, 64.0, 65.99999999999955, 67.99999999999955, 70.0, 72.0, 74.0, 75.99999999999955, 77.99999999999955, 80.0, 82.0, 84.0, 85.99999999999955, 87.99999999999955, 90.0, 92.0, 94.0, 95.99999999999955, 97.99999999999955, 100.0, 102.0, 104.0, 105.99999999999955, 107.99999999999955, 110.0, 112.0, 114.0, 115.99999999999955, 117.99999999999955, 120.0, 122.0, 124.0, 125.99999999999955, 127.99999999999955, 130.0, 132.0, 134.0, 136.0, 137.99999999999955, 140.0, 142.0, 144.0, 145.99999999999955, 147.99999999999955, 150.0, 152.0, 154.0, 156.0, 157.99999999999955, 160.0, 162.0, 164.0, 165.99999999999955, 167.99999999999955, 170.0, 172.0, 174.0, 176.0, 177.99999999999955, 180.0, 182.0, 184.0, 185.99999999999955, 187.99999999999955, 190.0, 192.0, 194.0, 196.0, 197.99999999999955, 200.0, 202.0, 204.0, 205.99999999999955, 207.99999999999955, 210.0, 212.0, 214.0, 216.0, 217.99999999999955, 220.0, 222.0, 224.0, 226.0, 227.99999999999955, 230.0, 232.0, 234.0, 236.0, 237.99999999999955, 240.0, 242.0, 244.0, 246.0, 247.99999999999955, 250.0, 252.0, 254.0, 256.0, 257.99999999999955, 260.0, 262.0, 264.0, 266.0, 267.99999999999955, 269.99999999999955, 272.0, 274.0, 276.0, 277.99999999999955, 279.99999999999955, 282.0, 284.0, 286.0, 287.99999999999955, 289.99999999999955, 292.0, 294.0, 296.0, 297.99999999999955, 299.99999999999955, 302.0, 304.0, 306.0, 307.99999999999955, 309.99999999999955, 312.0, 314.0, 316.0, 317.99999999999955, 319.99999999999955, 322.0, 324.0, 326.0, 327.99999999999955, 329.99999999999955, 332.0, 334.0, 336.0, 337.99999999999955, 339.99999999999955, 342.0, 344.0, 346.0, 347.99999999999955, 349.99999999999955, 352.0, 354.0, 356.0, 357.99999999999955, 359.99999999999955, 362.0, 364.0, 366.0, 367.99999999999955, 369.99999999999955, 372.0, 374.0, 376.0, 378.0, 379.99999999999955, 382.0, 384.0, 386.0, 387.99999999999955, 389.99999999999955, 392.0, 394.0, 396.0, 398.0, 399.99999999999955, 402.0, 404.0, 406.0, 407.99999999999955, 409.99999999999955, 412.0, 414.0, 416.0, 418.0, 419.99999999999955, 422.0, 424.0, 426.0, 427.99999999999955, 429.99999999999955, 432.0, 434.0, 436.0, 438.0, 439.99999999999955, 442.0, 444.0, 446.0, 447.99999999999955, 449.99999999999955, 452.0, 454.0, 456.0, 458.0, 459.99999999999955, 462.0, 464.0, 466.0, 467.99999999999955, 469.99999999999955, 472.0, 474.0, 476.0, 478.0, 479.99999999999955, 482.0, 484.0, 486.0, 487.99999999999955, 489.99999999999955, 492.0, 494.0, 496.0, 498.0, 499.99999999999955, 502.0, 504.0, 506.0, 507.99999999999955, 509.99999999999955, 512.0, 514.0, 516.0, 518.0, 519.9999999999995, 522.0, 524.0, 526.0, 527.9999999999995, 529.9999999999995, 532.0, 534.0, 536.0, 538.0, 539.9999999999995, 542.0, 544.0, 546.0, 547.9999999999995, 549.9999999999995, 552.0, 554.0, 556.0, 558.0, 559.9999999999995, 562.0, 564.0, 566.0, 567.9999999999995, 569.9999999999995, 572.0, 574.0, 576.0, 578.0, 579.9999999999995, 581.9999999999995, 584.0, 586.0, 588.0, 589.9999999999995, 591.9999999999995, 594.0, 596.0, 598.0, 599.9999999999995, 601.9999999999995, 604.0, 606.0, 608.0, 609.9999999999995, 611.9999999999995, 614.0, 616.0, 618.0, 619.9999999999995, 621.9999999999995, 624.0, 626.0, 628.0, 629.9999999999995, 631.9999999999995, 634.0, 636.0, 638.0, 639.9999999999995, 641.9999999999995, 644.0, 646.0, 647.009654412986]\n",
      "[0.0, 2.0, 4.000000000000455, 6.0, 8.0, 10.0, 12.0, 14.000000000000455, 16.0, 18.0, 20.0, 22.0, 24.000000000000455, 26.0, 28.0, 30.0, 32.0, 34.000000000000455, 36.0, 38.0, 40.0, 42.0, 44.000000000000455, 46.0, 48.0, 50.0, 52.0, 54.000000000000455]\n",
      "[26, 26, 26] 52.0\n"
     ]
    },
    {
     "data": {
      "image/png": "[encoded data removed]",
      "text/plain": [
       "<Figure size 748.031x216.535 with 3 Axes>"
      ]
     },
     "metadata": {},
     "output_type": "display_data"
    }
   ],
   "source": [
    "# plot only things happen during 3C CC charge\n",
    "fs = 12; font = {'family' : 'DejaVu Sans','size'   : fs}\n",
    "mpl.rc('font', **font)\n",
    "def FindClose(time_DD,t_select): # Input must be a list\n",
    "    for i in range(0,len(time_DD)):\n",
    "        if abs(time_DD[i] - t_select)<1e-3:\n",
    "            break\n",
    "    return i\n",
    "Colors = ['#1f77b4','#ff7f0e',  '#d62728', ];\n",
    "LS = ['-','--','-','--',];MS=['s','^','h']; ms = 8\n",
    "Sol_plt = [sol_SD,sol_DD_LDx,sol_DD_HDx,];\n",
    "Str = [\"Single\",r\"Double low D$_\\times$\",r\"Double high D$_\\times$\"]\n",
    "\n",
    "t_int_all = []; Index_t_select = []; \n",
    "\n",
    "for i in range(3):\n",
    "    sol = Sol_plt[i]; step_CC =  sol.cycles[0].steps[2]\n",
    "    t_int_all.append((\n",
    "        step_CC['Time [s]'].entries\n",
    "        - step_CC['Time [s]'].entries[0]).tolist())\n",
    "    print(t_int_all[-1])\n",
    "t_select = min(t_int_all[0][-2],t_int_all[1][-2],t_int_all[2][-2])\n",
    "for i in range(3):\n",
    "    Index_t_select.append(FindClose(t_int_all[i],t_select))\n",
    "print(Index_t_select,t_select)\n",
    "\n",
    "fig, axs = plt.subplots(1,3, figsize=(19/2.54,5.5/2.54),tight_layout=True)\n",
    "for i in range(3):\n",
    "    sol = Sol_plt[i]; step_CC =  sol.cycles[0].steps[2]\n",
    "    x =   step_CC[\"x [m]\"].entries[:,0]\n",
    "    x_n =   step_CC[\"x_n [m]\"].entries[:,0]\n",
    "    c_EC =   step_CC[\"EC concentration [mol.m-3]\"].entries[:,Index_t_select[i]]\n",
    "    j_SEI =   step_CC[\"Negative electrode SEI interfacial current density [A.m-2]\"].entries[:,Index_t_select[i]]\n",
    "    phi_s_phi_e =   step_CC[\"Negative electrode surface potential difference [V]\"].entries[:,Index_t_select[i]]\n",
    "\n",
    "    axs[0].plot(x*1e6, c_EC/1e3, color=Colors[i],linestyle=LS[i],) # label=r\"Single-High $D_\\times$\" \n",
    "    axs[1].plot(x_n*1e6, phi_s_phi_e*1e3, color=Colors[i],linestyle=LS[i]) \n",
    "    axs[2].plot(x_n*1e6, abs(j_SEI)*1e3, color=Colors[i],linestyle=LS[i]) \n",
    "Y_0p = np.arange(-100,200,50)\n",
    "axs[0].plot( 85.2 * np.ones_like(Y_0p),Y_0p,\"k-\",linewidth=0.5,)\n",
    "axs[0].plot((85.2+12 )* np.ones_like(Y_0p),Y_0p, \"k-\",linewidth=0.5,)\n",
    "\n",
    "\n",
    "axs[0].set_xlabel(r\"$\\mathit{x}$ [$\\mu$m]\",   )\n",
    "axs[1].set_xlabel(r\"$\\mathit{x}_\\mathrm{n}$ [$\\mu$m]\",   )\n",
    "axs[2].set_xlabel(r\"$\\mathit{x}_\\mathrm{n}$ [$\\mu$m]\",   )\n",
    "axs[0].set_ylabel(\"$\\mathit{c}$ (EC) [M]\")\n",
    "axs[1].set_ylabel(\"$\\phi$$_\\mathrm{s}$ - $\\phi$$_\\mathrm{e}$ [mV]\")\n",
    "axs[2].set_ylabel(\"$\\mathit{j}_\\mathrm{SEI}$ [mA/m$^{-2}$]\")\n",
    "axs[0].ticklabel_format( \n",
    "    axis='x', style='sci',\n",
    "    scilimits=[-1e3,1e3], useOffset=None, \n",
    "    useLocale=None, useMathText=None)\n",
    "\n",
    "axs[0].set_ylim([5.6,7.0])\n",
    "#axs[1].set_ylim([-90,130])\n",
    "#axs[2].set_ylim([-0.1,75])\n",
    "fig.subplots_adjust(wspace=0, hspace=0)\n",
    "# 85.2 ; 12; 75.6\n",
    "\n",
    "plt.savefig(BasicPath +  Target+ \n",
    "    f\"Fig_6_2C_c_EC_j_SEI.png\", dpi=1000)\n",
    "plt.savefig(BasicPath +  Target+ \n",
    "    f\"Fig_6_2C_c_EC_j_SEI.svg\")   "
   ]
  },
  {
   "cell_type": "code",
   "execution_count": 11,
   "metadata": {},
   "outputs": [
    {
     "name": "stdout",
     "output_type": "stream",
     "text": [
      "For case Single\n",
      "End time of c(EC) mol/m3 - Neg-CC side is 6209.49, Pos-CC side is 6209.49\n",
      "End time of phi_s_phi_e mV - Neg-CC side is 272.56, Neg-Sep side is 79.98\n",
      "End time of j_SEI mA/m2 - Neg-CC side is 0.0001, Neg-Sep side is 0.1002\n",
      "End time of avg(j_SEI) mA/m2 is 0.0113\n",
      "For case Double low D$_\\times$\n",
      "End time of c(EC) mol/m3 - Neg-CC side is 6664.56, Pos-CC side is 5893.02\n",
      "End time of phi_s_phi_e mV - Neg-CC side is 274.16, Neg-Sep side is 81.14\n",
      "End time of j_SEI mA/m2 - Neg-CC side is 0.0001, Neg-Sep side is 0.0959\n",
      "End time of avg(j_SEI) mA/m2 is 0.0112\n",
      "For case Double high D$_\\times$\n",
      "End time of c(EC) mol/m3 - Neg-CC side is 6842.86, Pos-CC side is 5791.41\n",
      "End time of phi_s_phi_e mV - Neg-CC side is 277.10, Neg-Sep side is 77.94\n",
      "End time of j_SEI mA/m2 - Neg-CC side is 0.0001, Neg-Sep side is 0.1084\n",
      "End time of avg(j_SEI) mA/m2 is 0.0125\n"
     ]
    }
   ],
   "source": [
    "# Get values for paper:\n",
    "for i in range(3):\n",
    "    sol = Sol_plt[i]; step_CC =  sol.cycles[0].steps[2]\n",
    "    x =   step_CC[\"x [m]\"].entries[:,0]\n",
    "    x_n =   step_CC[\"x_n [m]\"].entries[:,0]\n",
    "    c_EC =   step_CC[\"EC concentration [mol.m-3]\"].entries[:,Index_t_select[i]]\n",
    "    j_SEI =   abs(step_CC[\n",
    "        \"Negative electrode SEI interfacial current density [A.m-2]\"].entries[:,Index_t_select[i]])*1e3\n",
    "    phi_s_phi_e =   step_CC[\n",
    "        \"Negative electrode surface potential difference [V]\"].entries[:,Index_t_select[i]]*1e3\n",
    "    # \n",
    "    print(f\"For case {Str[i]}\")\n",
    "    print(\"End time of c(EC) mol/m3 - Neg-CC \"\n",
    "      f\"side is {c_EC[0]:.2f}, Pos-CC side is {c_EC[-1]:.2f}\")\n",
    "    print(\"End time of phi_s_phi_e mV - Neg-CC \"\n",
    "      f\"side is {phi_s_phi_e[0]:.2f}, Neg-Sep side is {phi_s_phi_e[-1]:.2f}\")\n",
    "    print(\"End time of j_SEI mA/m2 - Neg-CC \"\n",
    "      f\"side is {j_SEI[0]:.4f}, Neg-Sep side is {j_SEI[-1]:.4f}\")\n",
    "    print(\"End time of avg(j_SEI) mA/m2\"\n",
    "      f\" is {np.mean(j_SEI):.4f}\")\n"
   ]
  }
 ],
 "metadata": {
  "kernelspec": {
   "display_name": "envSolCon",
   "language": "python",
   "name": "python3"
  },
  "language_info": {
   "codemirror_mode": {
    "name": "ipython",
    "version": 3
   },
   "file_extension": ".py",
   "mimetype": "text/x-python",
   "name": "python",
   "nbconvert_exporter": "python",
   "pygments_lexer": "ipython3",
   "version": "3.10.12"
  },
  "orig_nbformat": 4,
  "vscode": {
   "interpreter": {
    "hash": "5ae0c684446e40f7574a1a9821257f2365ba43f34c15f5f2e3dcabca0bad9ab7"
   }
  }
 },
 "nbformat": 4,
 "nbformat_minor": 2
}
