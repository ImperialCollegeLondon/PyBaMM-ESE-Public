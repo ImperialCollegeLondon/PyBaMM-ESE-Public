{
 "cells": [
  {
   "cell_type": "markdown",
   "id": "114f7e02",
   "metadata": {},
   "source": [
    "## This is the code kindly shared by J. Self, first author of the paper:\n",
    "#### Self, J.; Bergstrom, H. K. Hypoeutectic Liquid-Solid Phase Diagrams for Ternary Lithium-Ion Battery Electrolytes. Journal of Physical Chemistry Letters 2024, 15 (2), 416-421, Article. DOI: 10.1021/acs.jpclett.3c03169.\n"
   ]
  },
  {
   "cell_type": "code",
   "execution_count": 1,
   "id": "378d8a7c",
   "metadata": {},
   "outputs": [],
   "source": [
    "# Simplified code for JPCL paper (draft) for Ruihe Li - JS 2024-02-13\n",
    "import numpy as np, matplotlib.pyplot as plt, pandas as pd, scipy\n",
    "from scipy import stats,integrate\n",
    "# Where am I?\n",
    "#!pwd\n",
    "#!ls\n",
    "#\n",
    "plt.rc('font', size=12)\n",
    "import pandas"
   ]
  },
  {
   "cell_type": "code",
   "execution_count": 2,
   "id": "fafa9479",
   "metadata": {},
   "outputs": [],
   "source": [
    "###### 1) global variables ######\n",
    "#################################\n",
    "T0EC,T0EMC,R=273.15+38.05,273.15+-53.8,8.31\n",
    "m_bar_EC,m_bar_EMC=0.088,0.104\n",
    "HfusEC,HfusEMC=13020,11240 # J/mol (ding) # J/mol (ding)\n",
    "#### Fitted ####\n",
    "para_EC_EMC_salt = [2.7936, -7.8747, 1.7636] \n",
    "######numerical variables####\n",
    "nopoints=200000\n",
    "###### functions #########\n",
    "def diff_central(a, b):   # self defined function to do differential\n",
    "    xdc0,xdc1,xdc2 = a[:-2],a[1:-1],a[2:]\n",
    "    ydc0,ydc1,ydc2 = b[:-2],b[1:-1],b[2:]\n",
    "    fdc = (xdc2 - xdc1)/(xdc2 - xdc0)\n",
    "    return (1-fdc)*(ydc2 - ydc1)/(xdc2 - xdc1) + fdc*(ydc1 - ydc0)/(xdc1 - xdc0)\n",
    "#############"
   ]
  },
  {
   "cell_type": "code",
   "execution_count": 3,
   "id": "9c3b754a",
   "metadata": {},
   "outputs": [
    {
     "data": {
      "text/plain": [
       "<Figure size 640x480 with 0 Axes>"
      ]
     },
     "metadata": {},
     "output_type": "display_data"
    },
    {
     "data": {
      "text/plain": [
       "<Figure size 400x200 with 0 Axes>"
      ]
     },
     "metadata": {},
     "output_type": "display_data"
    }
   ],
   "source": [
    "######## 2) Activities of EC ##########################\n",
    "######################## EC - LiPF6 ###########################\n",
    "def a32(m_e, para_i_salt ): # Eq. (2)\n",
    "    [c_i_salt,d_i_salt,e_i_salt,f_i_salt] = para_i_salt\n",
    "    temp=(\n",
    "        (1-(2*m_e)/(2*m_e+1/m_bar_EC)) * \n",
    "        np.exp(\n",
    "            c_i_salt*m_e**1.5 + \n",
    "            d_i_salt*m_e**2  + \n",
    "            e_i_salt*m_e**2.5 + \n",
    "            f_i_salt*m_e**3))\n",
    "    return(temp)\n",
    "########################### EC - EMC ##########################\n",
    "def a31(X1,para_i_j): # i=EC, j=EMC     Eq. (3)\n",
    "    [c_i_j,d_i_j,e_i_j] = para_i_j\n",
    "    temp=(1-X1)*np.exp(\n",
    "        c_i_j*X1**2 + \n",
    "        d_i_j*X1**3 + \n",
    "        e_i_j*X1**4)\n",
    "    return(temp)\n",
    "\n",
    "########### 3)  Fitting Activities of EMC ###################\n",
    "####################### EMC - LiPF6 $########################\n",
    "plt.figure(1),plt.figure(figsize=(4, 2)) \n",
    "def a12(m_e,para_i_salt): # Eq. (2)\n",
    "    [c_i_salt,d_i_salt,e_i_salt,f_i_salt] = para_i_salt\n",
    "    temp=(\n",
    "        (1-(2*m_e)/(2*m_e+1/m_bar_EMC)) *\n",
    "        np.exp(\n",
    "            c_i_salt*m_e**1.5 + \n",
    "            d_i_salt*m_e**2  + \n",
    "            e_i_salt*m_e**2.5 + \n",
    "            f_i_salt*m_e**3))\n",
    "    return(temp)\n",
    "################################## parametrized ##################################\n",
    "def a13(X1,para_i_j): # i=EMC j=EC     Eq. (3)\n",
    "    [c_i_j,d_i_j,e_i_j] = para_i_j\n",
    "    temp=(1-X1)*np.exp(\n",
    "        c_i_j*X1**2  +  \n",
    "        d_i_j*X1**3  + \n",
    "        e_i_j*X1**4   ) #three suffix Margules\n",
    "    return(temp)"
   ]
  },
  {
   "cell_type": "code",
   "execution_count": 4,
   "id": "12dfecfa",
   "metadata": {},
   "outputs": [],
   "source": [
    "################################################################\n",
    "########### 4) Establishing mixing rules #######################\n",
    "################################################################\n",
    "########### binary global parameters ###########################\n",
    "para_EC_EMC  = [-0.66992, 4.2840,   -2.5671,   ]\n",
    "para_EMC_EC  = [0.62190, 2.5617,   -2.5672,    ]\n",
    "para_EC_salt = [0.042895, -0.38832, 0.0663, -0.017291]\n",
    "\n",
    "para_EMC_salt = [0.82629, -1.7913, 1.7011, -0.63441]\n",
    "\n",
    "###############   Eq. (7)  #############################\n",
    "def Fun_a_EC_simplified(m_e,X_EMC,para_i_j_salt,X3=0,alpha=0): # aEC \n",
    "    [c_i_j_salt,d_i_j_salt,e_i_j_salt] = para_i_j_salt\n",
    "    X_EMC_apo=X_EMC/(X_EMC+X_EMC*alpha)\n",
    "    X_EC_apo=X_EMC*alpha\n",
    "    # X2=1-X_EMC-X_EC_apo\n",
    "    first_term  =X_EC_apo\n",
    "    second_term =a32(m_e,para_EC_salt)/(1-(2*m_e)/(2*m_e+1/m_bar_EC))\n",
    "    third_term  =a31(X_EMC_apo,para_EC_EMC) / (1-X_EMC_apo)\n",
    "    fourth_term =np.exp(\n",
    "        c_i_j_salt*m_e**1.5*X_EMC_apo**2 + \n",
    "        d_i_j_salt*m_e**1.5*X_EMC_apo**3 + \n",
    "        e_i_j_salt*m_e**2*X_EMC_apo**2  )\n",
    "    ai_tern = first_term*second_term*third_term*fourth_term\n",
    "    return(ai_tern)#\n",
    "def Fun_a_EMC_simplified(m_e,X_EC,alpha=0): # aEMC \n",
    "    # X_EMC_apo=X_EC*alpha/(X_EC*alpha+X_EC) # Self version\n",
    "    X_EC_apo=X_EC/(X_EC*alpha+X_EC)   # actually it is X_EC_apo\n",
    "    # X_EMC_apo=X_EC/(alpha+1E-16)/(X_EC*alpha+X_EC)\n",
    "    X_EMC =X_EC/(alpha+1E-16)\n",
    "    # X2=1-X3-X1test\n",
    "    first_term=X_EMC\n",
    "    second_term = a13(X_EC_apo,para_EMC_EC)/(1-X_EC_apo) \n",
    "    third_term  = a12(m_e,para_EMC_salt) / (\n",
    "        1-  (2*m_e)/(2*m_e+1/m_bar_EMC))\n",
    "    ai_tern = first_term*second_term*third_term\n",
    "    return(ai_tern)"
   ]
  },
  {
   "cell_type": "code",
   "execution_count": 5,
   "id": "aba670bf",
   "metadata": {},
   "outputs": [],
   "source": [
    "# alpha is the mole ratio between EC:EMC  -> m_EC/m_EMC = alpha"
   ]
  },
  {
   "cell_type": "code",
   "execution_count": 6,
   "id": "dd2292cc",
   "metadata": {},
   "outputs": [],
   "source": [
    "####  TD Factor function (eq 10) ####\n",
    "def calculatedTDfactor(alpha=1):\n",
    "    nopoints=100000\n",
    "    xLiTest=np.linspace(0,0.1,nopoints)\n",
    "    mEC=1/(m_bar_EC+m_bar_EMC/alpha)\n",
    "    mEMC=mEC/alpha\n",
    "    mLiTest=(mEC+mEMC)*xLiTest/(1-2*xLiTest) # mEC+mEMC\n",
    "    X_EMC=mEMC/(mEMC+mEC+2*mLiTest)\n",
    "    X_EC=mEC/(mEC+mEMC+2*mLiTest)\n",
    "    aEC=Fun_a_EC_simplified(mLiTest,X_EMC,para_EC_EMC_salt,alpha=alpha)\n",
    "    aEMC=Fun_a_EMC_simplified(mLiTest,X_EC,alpha=alpha)\n",
    "    tempGD = (\n",
    "        - 0.5* mEMC * np.log(aEMC[:] / aEMC[0]) \n",
    "        - 0.5* mEC  * np.log(aEC[:]  / aEC[0] ) \n",
    "        )\n",
    "    calculatedTDfactorRETURN=diff_central(mLiTest[4:],tempGD[:-4])\n",
    "    return(mLiTest[2+4:],calculatedTDfactorRETURN,aEMC)\n",
    "x11,yTDF11,aEMC11=calculatedTDfactor(alpha=1.18)\n",
    "x10,yTDF10,aEMC10=calculatedTDfactor(alpha=1e4)\n",
    "x01,yTDF01,aEMC01=calculatedTDfactor(alpha=1e-4)"
   ]
  },
  {
   "cell_type": "code",
   "execution_count": 7,
   "id": "ca48720b",
   "metadata": {},
   "outputs": [
    {
     "data": {
      "text/plain": [
       "array([0.59757905, 0.59757787, 0.59757671, ..., 0.51773441, 0.51773171,\n",
       "       0.51772902])"
      ]
     },
     "execution_count": 7,
     "metadata": {},
     "output_type": "execute_result"
    }
   ],
   "source": [
    "# yTDF01\n",
    "#aEMC01\n",
    "aEMC11"
   ]
  },
  {
   "cell_type": "code",
   "execution_count": 8,
   "id": "8d8589c9",
   "metadata": {},
   "outputs": [
    {
     "data": {
      "text/plain": [
       "<matplotlib.legend.Legend at 0x7f4f26edfbb0>"
      ]
     },
     "execution_count": 8,
     "metadata": {},
     "output_type": "execute_result"
    },
    {
     "data": {
      "image/png": "[encoded data removed]",
      "text/plain": [
       "<Figure size 640x480 with 1 Axes>"
      ]
     },
     "metadata": {},
     "output_type": "display_data"
    }
   ],
   "source": [
    "plt.plot(np.sqrt(x10),yTDF10,label=\"neat EC\")\n",
    "plt.plot(np.sqrt(x10),yTDF01,label=\"neat EMC\")\n",
    "plt.plot(x11,yTDF11,'b',label=\"EC:EMC 6:5\")\n",
    "plt.xlabel(\"molality\")\n",
    "plt.ylabel(\"TDF\")\n",
    "plt.legend()"
   ]
  },
  {
   "cell_type": "code",
   "execution_count": null,
   "id": "e6e09339",
   "metadata": {},
   "outputs": [],
   "source": []
  }
 ],
 "metadata": {
  "kernelspec": {
   "display_name": "Python 3 (ipykernel)",
   "language": "python",
   "name": "python3"
  },
  "language_info": {
   "codemirror_mode": {
    "name": "ipython",
    "version": 3
   },
   "file_extension": ".py",
   "mimetype": "text/x-python",
   "name": "python",
   "nbconvert_exporter": "python",
   "pygments_lexer": "ipython3",
   "version": "3.10.12"
  }
 },
 "nbformat": 4,
 "nbformat_minor": 5
}
