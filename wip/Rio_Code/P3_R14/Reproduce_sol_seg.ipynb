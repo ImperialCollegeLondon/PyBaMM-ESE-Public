{
 "cells": [
  {
   "attachments": {},
   "cell_type": "markdown",
   "metadata": {},
   "source": [
    "## Reproduce solvent segregation in Wang 2022 - Fig. 4\n",
    "### $ D_{\\text{e},\\text{EC}}^0 = 0, \\, 1.5 \\times 10^{-11}  \\ \\text{m}^2/\\text{s} $ for 1M LiPF6 in EMC:EC 1:1 wt%"
   ]
  },
  {
   "cell_type": "code",
   "execution_count": 1,
   "metadata": {},
   "outputs": [],
   "source": [
    "# magic lines that avoid re-start\n",
    "%load_ext autoreload\n",
    "%autoreload 2\n",
    "import pybamm;import pandas as pd   ;import numpy as np;import os;import matplotlib.pyplot as plt;import os;#import imageio\n",
    "from scipy.io import savemat,loadmat;from pybamm import constants,exp,sqrt;\n",
    "import matplotlib as mpl; \n",
    "fs=17; # or we can set import matplotlib.pyplot as plt then say 'mpl.rc...'\n",
    "import openpyxl\n",
    "import traceback\n",
    "import multiprocessing\n",
    "font = {'family' : 'DejaVu Sans','size'   : fs}\n",
    "mpl.rc('font', **font)"
   ]
  },
  {
   "cell_type": "code",
   "execution_count": 2,
   "metadata": {},
   "outputs": [],
   "source": [
    "import sys  \n",
    "str_path_0 = os.path.abspath(os.path.join(pybamm.__path__[0],'..'))\n",
    "str_path_1 = os.path.abspath(os.path.join(str_path_0,\"wip/Rio_Code/Fun_P3\"))\n",
    "sys.path.append(str_path_1) \n",
    "from Fun_P3 import *\n",
    "BasicPath = os.path.expanduser(\"~/EnvPBGEM_ECDrag2/Double_SimSave/Double_Trans/\")\n",
    "Target  = 'Reproduce_Sol_Seg_240313/' \n",
    "if not os.path.exists(BasicPath + Target):\n",
    "   os.mkdir(BasicPath + Target)\n",
    "Save_Fig = True"
   ]
  },
  {
   "cell_type": "code",
   "execution_count": 3,
   "metadata": {},
   "outputs": [
    {
     "name": "stdout",
     "output_type": "stream",
     "text": [
      "1 1\n"
     ]
    }
   ],
   "source": [
    "# define parameter of double and single \n",
    "Para_dict_Same = {\n",
    "   \"Mesh list\":[ [20,10,20,100,20], ],   # Simon uses 30\n",
    "   \"Para_Set\":[ \"Li2023_ECdrag\",],\n",
    "   \"Contact resistance [Ohm]\":[6e-3],\n",
    "   \"Initial Neg SOC\":[0.8841301667966484,],\n",
    "   \"Initial Pos SOC\":[0.23552755074598045,],}\n",
    "Para_dict_DD_ONLY = {\n",
    "   \"Model option\":[{\n",
    "      \"SEI\": \"constant\",\n",
    "      \"SEI film resistance\":\"distributed\",   \n",
    "      \"SEI porosity change\": \"true\",\n",
    "      \"solvent diffusion\": \"double spatial consume w refill\",\n",
    "      \"electrolyte conductivity\": \"sol full\"  ,\n",
    "     \"contact resistance\":\"true\",  },],\n",
    "   \"Lithium ion EC cross diffusivity [m2.s-1]\":[1E-11], # \n",
    "   \"EC transference number\":[\"EC_transference_number_3\"],\n",
    "}\n",
    "Para_dict_SD_ONLY = {\n",
    "   \"Model option\":[{\n",
    "      \"SEI\": \"constant\",\n",
    "      \"SEI film resistance\":\"distributed\",   \n",
    "      \"SEI porosity change\": \"true\",\n",
    "      \"solvent diffusion\": \"single no consume wo refill\",\n",
    "      \"electrolyte conductivity\": \"full\"  ,\n",
    "      \"contact resistance\":\"true\",  },],\n",
    "   \"Lithium ion EC cross diffusivity [m2.s-1]\":[0,], #  \n",
    "   \"Measured dLJP_dce\":[\"dLJP_1_Specie_dc_e_np\",]\n",
    "}\n",
    "Para_dict_DD = {**Para_dict_Same,**Para_dict_DD_ONLY}\n",
    "Para_dict_SD = {**Para_dict_Same,**Para_dict_SD_ONLY}\n",
    "Para_DD = [];  Para_SD=[];\n",
    "recursive_scan(Para_DD,Para_dict_DD, list(Para_dict_DD.keys()), {})\n",
    "recursive_scan(Para_SD,Para_dict_SD, list(Para_dict_SD.keys()), {})\n",
    "print(len(Para_DD),len(Para_SD))"
   ]
  },
  {
   "cell_type": "markdown",
   "metadata": {},
   "source": [
    "##### 2.5e-11 + 2.5C finish within 16min!"
   ]
  },
  {
   "cell_type": "code",
   "execution_count": 4,
   "metadata": {},
   "outputs": [
    {
     "name": "stderr",
     "output_type": "stream",
     "text": [
      "CasADi - 2024-03-20 12:16:31 WARNING(\"The options 't0', 'tf', 'grid' and 'output_t0' have been deprecated.\n",
      "The same functionality is provided by providing additional input arguments to the 'integrator' function, in particular:\n",
      " * Call integrator(..., t0, tf, options) for a single output time, or\n",
      " * Call integrator(..., t0, grid, options) for multiple grid points.\n",
      "The legacy 'output_t0' option can be emulated by including or excluding 't0' in 'grid'.\n",
      "Backwards compatibility is provided in this release only.\") [.../casadi/core/integrator.cpp:515]\n",
      "At t = 0.000525429, , mxstep steps taken before reaching tout.\n",
      "At t = 0.000525431, , mxstep steps taken before reaching tout.\n",
      "At t = 0.000525429, , mxstep steps taken before reaching tout.\n",
      "At t = 0.000525431, , mxstep steps taken before reaching tout.\n",
      "At t = 0.000525431, , mxstep steps taken before reaching tout.\n",
      "At t = 7.58013e-05, , mxstep steps taken before reaching tout.\n",
      "At t = 7.58025e-05, , mxstep steps taken before reaching tout.\n",
      "At t = 3.11656e-05, , mxstep steps taken before reaching tout.\n",
      "At t = 3.07089e-05, , mxstep steps taken before reaching tout.\n",
      "At t = 1.1564e-05, , mxstep steps taken before reaching tout.\n",
      "At t = 1.91571e-06, , mxstep steps taken before reaching tout.\n",
      "At t = 1.85764e-06, , mxstep steps taken before reaching tout.\n",
      "At t = 1.85616e-06, , mxstep steps taken before reaching tout.\n",
      "At t = 2.57161e-07, , mxstep steps taken before reaching tout.\n",
      "At t = 2.57131e-07, , mxstep steps taken before reaching tout.\n",
      "At t = 2.6561e-07, , mxstep steps taken before reaching tout.\n",
      "At t = 9.52168e-08, , mxstep steps taken before reaching tout.\n",
      "At t = 1.86791e-08, , mxstep steps taken before reaching tout.\n",
      "At t = 1.91442e-08, , mxstep steps taken before reaching tout.\n",
      "At t = 1.52751e-08, , mxstep steps taken before reaching tout.\n",
      "At t = 8.05711e-09, , mxstep steps taken before reaching tout.\n",
      "At t = 2.48883e-09, , mxstep steps taken before reaching tout.\n",
      "At t = 2.26367e-09, , mxstep steps taken before reaching tout.\n",
      "psetup failed: KeyboardInterrupt\n",
      "At t = 7.51503e-10, the linear solver setup failed unrecoverably.\n"
     ]
    }
   ],
   "source": [
    "##### Initialise Para_0 and model\n",
    "def RunOne(Para_dd_i,Rate_Dis):\n",
    "    CyclePack,para_used = Para_init_Dict(Para_dd_i)\n",
    "    [Mesh_list,model_options] = CyclePack\n",
    "    model = pybamm.lithium_ion.DFN(options=model_options)\n",
    "    str_model_options = str(model_options)\n",
    "    V_max = 4.2;        V_min = 2.5; #Rate_Dis = 3\n",
    "    if Rate_Dis > 1:\n",
    "        ts_dis = 0.5\n",
    "    else: \n",
    "        ts_dis = 1\n",
    "    Exp_1  = pybamm.Experiment(\n",
    "    [ (\n",
    "        f\"Hold at {V_max} V until C/100\",\n",
    "        f\"Discharge at {Rate_Dis} C until {V_min} V ({ts_dis} second period)\", \n",
    "        )    ] * 1 )  \n",
    "    model = Add_var(para_used,model) # add extra variable to model\n",
    "    var_pts = {\n",
    "        \"x_n\": Mesh_list[0],  # negative electrode\n",
    "        \"x_s\": Mesh_list[1],  # separator \n",
    "        \"x_p\": Mesh_list[2],  # positive electrode\n",
    "        \"r_n\": Mesh_list[3],  # negative particle\n",
    "        \"r_p\": Mesh_list[4],  # positive particle\n",
    "    }\n",
    "    sim    = pybamm.Simulation(\n",
    "        model, experiment = Exp_1,\n",
    "        parameter_values = para_used,\n",
    "        solver = pybamm.CasadiSolver(return_solution_if_failed_early=True),\n",
    "        var_pts=var_pts,\n",
    "        )       \n",
    "    sol    = sim.solve()\n",
    "    return sol\n",
    "#  old:    2.5C, finish in 42s ; 2.7C, finish in 43s;  # 2.9C, stucked for 11 minutes; 2.8C finish with 8.5 minutes\n",
    "# for D_e,EC=1e-11, 1C finish in 44s; 1.75C - finish 1min; 1.9C-25min (mesh:[20,10,20,80,20], will get stcuk if mesh of 80 is 100)\n",
    "#     2C - cannot finish in 1h,\n",
    "#  for D_e,EC=0, finish 1.5C in 1 min; 1.8C -finish in 42s; \n",
    "Sol_DD = []; Rate_Dis = 1.9\n",
    "for i in range(len(Para_DD)):   # len(Para_DD)\n",
    "    Sol_DD.append(RunOne(Para_DD[i],Rate_Dis=Rate_Dis)) \n",
    "    para = Para_DD[i]\n",
    "    print(\"D_e,EC=\",para[\"Lithium ion EC cross diffusivity [m2.s-1]\"])\n"
   ]
  },
  {
   "cell_type": "code",
   "execution_count": null,
   "metadata": {},
   "outputs": [],
   "source": [
    "# save solution\n",
    "BasicPath = os.path.expanduser(\"~/EnvPBGEM_ECDrag2/Double_SimSave/Double_Trans/\")\n",
    "Target  = 'Rate_Performance_240318/' \n",
    "i=0; \n",
    "D_e_EC_cross = Para_DD[i][\"Lithium ion EC cross diffusivity [m2.s-1]\"]\n",
    "str_pickle =  f\"(Mesh r_n=80)_Double_D_e_EC_cross={D_e_EC_cross}\"\n",
    "import pickle\n",
    "with open(\n",
    "    BasicPath + Target\n",
    "    + f'{str_pickle}_Rate={Rate_Dis}C.pkl', 'wb') as file: # str =  f\"D_e_EC_cross={D_e_EC_cross}\"\n",
    "    pickle.dump(Sol_DD[i], file)"
   ]
  },
  {
   "cell_type": "markdown",
   "metadata": {},
   "source": [
    "CyclePack,para_used = Para_init_Dict(Para_DD[i])\n",
    "[Mesh_list,model_options] = CyclePack\n",
    "model = pybamm.lithium_ion.DFN(options=model_options)\n",
    "dLJP_dcEC = para_used[\"Measured dLJP_dcEC\"]\n",
    "dLJP_dce  = para_used[\"Measured dLJP_dce\"]   # (c_e,c_EC,T)\n",
    "\n",
    "CyclePack,para_used = Para_init_Dict(Para_SD[i])\n",
    "dLJP_dce_SD  = para_used[\"Measured dLJP_dce\"]   # (c_e,c_EC,T)\n",
    "print(\"dLJP_dce\")\n",
    "print(dLJP_dce_SD(1500,6209.49,298.15))\n",
    "print(dLJP_dce   (1500,6209.49,298.15))\n",
    "\n",
    "print(dLJP_dcEC(1500,6000,298.15))"
   ]
  },
  {
   "cell_type": "markdown",
   "metadata": {},
   "source": [
    "Sol_DD[0][\"Cell temperature [K]\"].entries"
   ]
  },
  {
   "cell_type": "code",
   "execution_count": null,
   "metadata": {},
   "outputs": [
    {
     "data": {
      "text/plain": [
       "' Sol_SD = []\\nfor i in range(len(Para_SD)):\\n    Sol_SD.append(RunOne(Para_SD[i],Rate_Dis=2.8)) \\n    para = Para_SD[i]\\n    #print(\"D_EC=\",para[\"EC diffusivity in electrolyte [m2.s-1]\"])\\n    print(\"D_e,EC=\",para[\"Lithium ion EC cross diffusivity [m2.s-1]\"]) '"
      ]
     },
     "execution_count": 5,
     "metadata": {},
     "output_type": "execute_result"
    }
   ],
   "source": [
    "\"\"\" Sol_SD = []\n",
    "for i in range(len(Para_SD)):\n",
    "    Sol_SD.append(RunOne(Para_SD[i],Rate_Dis=2.8)) \n",
    "    para = Para_SD[i]\n",
    "    #print(\"D_EC=\",para[\"EC diffusivity in electrolyte [m2.s-1]\"])\n",
    "    print(\"D_e,EC=\",para[\"Lithium ion EC cross diffusivity [m2.s-1]\"]) \"\"\""
   ]
  },
  {
   "cell_type": "code",
   "execution_count": null,
   "metadata": {},
   "outputs": [
    {
     "data": {
      "image/png": "[encoded data removed]",
      "text/plain": [
       "<Figure size 314.961x241.732 with 1 Axes>"
      ]
     },
     "metadata": {},
     "output_type": "display_data"
    }
   ],
   "source": [
    "fs = 11; font = {'family' : 'DejaVu Sans','size'   : fs}\n",
    "mpl.rc('font', **font)\n",
    "\n",
    "Colors = ['#1f77b4','#ff7f0e',  '#d62728', ];\n",
    "Labels = [\"0.6 M\",\"1.0 M\",\"1.6 M\"]\n",
    "\n",
    "def Plot_Sol_Seg(sol,Rate_Dis,Ylim,Save_Fig,fig_name):\n",
    "    step_i  =sol.cycles[0].steps[1]\n",
    "    Y_0p = np.arange(-1,10,0.1); X_0 = np.arange(0,172.8,0.1)\n",
    "    fig, axs = plt.subplots( figsize=(8/2.54,6.14/2.54), tight_layout=True) #\n",
    "    y_ini = step_i[\"EC:EMC wt%\"].entries[:,0]\n",
    "    axs.plot( X_0,  np.mean(y_ini[0:20])*np.ones_like(X_0),  Colors[0],label=\"Initial\")\n",
    "    t_i = (step_i['Time [s]'].entries-step_i['Time [s]'].entries[0]).tolist()\n",
    "    x =   step_i[\"x [m]\"].entries[:,0]\n",
    "    x_n =   step_i[\"x_n [m]\"].entries[:,0]\n",
    "    x_s =   step_i[\"x_p [m]\"].entries[:,0]\n",
    "    y =   step_i[\"EC:EMC wt%\"].entries[:,-1]\n",
    "    y_neg = np.mean(y[0:20]);\n",
    "    y_pos = np.mean(y[-20:]);\n",
    "    axs.plot(x*1e6,y,color=Colors[1],label=\"End\") \n",
    "    axs.plot(\n",
    "        x_n*1e6,y_neg* np.ones_like(x_n),\n",
    "        color=Colors[1],linestyle=\"--\",label=\"End (Avg)\") \n",
    "    axs.plot(\n",
    "        x_s*1e6,y_pos* np.ones_like(x_s),\n",
    "        color=Colors[1],linestyle=\"--\",) \n",
    "    axs.set_xlabel(r\"x / $\\mu$m\",fontdict={'family':'DejaVu Sans','size':fs})\n",
    "    #axs.set_title(Title_keys[i]) \n",
    "    axs.ticklabel_format( \n",
    "        axis='x', style='sci',\n",
    "        scilimits=[-1e3,1e3], useOffset=None, \n",
    "        useLocale=None, useMathText=None)\n",
    "\n",
    "    axs.set_ylabel(\"EC:EMC wt%\")\n",
    "    axs.plot( 85.2 * np.ones_like(Y_0p),Y_0p,\"k-\",linewidth=0.5,)\n",
    "    axs.plot((85.2+12 )* np.ones_like(Y_0p),Y_0p, \"k-\",linewidth=0.5,)\n",
    "    axs.legend(\n",
    "        prop={'family':'DejaVu Sans','size':fs},\n",
    "        markerscale=0.5,borderpad=0.0,\n",
    "        handlelength=1.0,loc='best',frameon=False)  \n",
    "    axs.set_ylim(Ylim)\n",
    "    # fig.suptitle(f\"3C Discharge, t={round(t_select)} s\", fontsize=fs+1)\n",
    "\n",
    "    if Save_Fig == True:\n",
    "        plt.savefig(BasicPath +  Target+ f\"{fig_name}.png\", dpi=600)\n",
    "        plt.savefig(BasicPath +  Target+ f\"{fig_name}.svg\")   \n",
    "    return\n",
    "Ylim = (0.9,1.1)\n",
    "for i in range(len(Para_DD)):\n",
    "    D_e_EC_cross = Para_DD[i][\"Lithium ion EC cross diffusivity [m2.s-1]\"]\n",
    "    Plot_Sol_Seg(\n",
    "        Sol_DD[i],Rate_Dis,Ylim,Save_Fig,\n",
    "        fig_name=f\"{Rate_Dis}C_1M_EC_EMC_wt%_D_e_EC_cross={D_e_EC_cross}\") \n",
    "\n"
   ]
  },
  {
   "cell_type": "code",
   "execution_count": null,
   "metadata": {},
   "outputs": [
    {
     "name": "stdout",
     "output_type": "stream",
     "text": [
      "End time of EC:EMC wt% - Neg-CC side is 0.91, Pos-CC side is 1.10\n",
      "End time of Avg EC:EMC wt% - Neg side is 0.93, Pos side is 1.06\n"
     ]
    }
   ],
   "source": [
    "# Get specific values to put into papers:\n",
    "sol = Sol_DD[0]   # only one case\n",
    "step_i  =sol.cycles[0].steps[1]\n",
    "y_final = step_i[\"EC:EMC wt%\"].entries[:,-1] # final\n",
    "print(\"End time of EC:EMC wt% - Neg-CC \"\n",
    "      f\"side is {y_final[0]:.2f}, Pos-CC side is {y_final[-1]:.2f}\")\n",
    "y_neg = np.mean(y_final[0:20])\n",
    "y_pos = np.mean(y_final[-20:])\n",
    "print(\"End time of Avg EC:EMC wt% - Neg \"\n",
    "      f\"side is {y_neg:.2f}, Pos side is {y_pos:.2f}\")"
   ]
  },
  {
   "cell_type": "code",
   "execution_count": null,
   "metadata": {},
   "outputs": [
    {
     "data": {
      "application/vnd.jupyter.widget-view+json": {
       "model_id": "e301695469574580a3218b35f9a03787",
       "version_major": 2,
       "version_minor": 0
      },
      "text/plain": [
       "interactive(children=(FloatSlider(value=0.0, description='t', max=0.40637133845167456, step=0.0040637133845167…"
      ]
     },
     "metadata": {},
     "output_type": "display_data"
    }
   ],
   "source": [
    "# Plot electrolyte properties plus concentration \n",
    "font = {'family' : 'DejaVu Sans','size'   : 13}\n",
    "mpl.rc('font', **font)\n",
    "label = [\"De,EC=0\",\"De,EC=2.5e-13\",\"De,EC=2.5e-12\",\"Single\"] \n",
    "var = [\n",
    "    \"EC concentration [mol.m-3]\",\n",
    "    \"Electrolyte concentration [mol.m-3]\",\n",
    "    \"c(EMC) [mol.m-3]\",\n",
    "    \"Total electrolyte concentration [mol.m-3]\",\n",
    "\n",
    "    \"EC Lithium ion cross diffusivity [m2.s-1]\",\n",
    "\n",
    "    \"Electrolyte conductivity [S.m-1]\",\n",
    "    \"dLJP_dcEC\",\n",
    "    \"dLJP_dce\",\n",
    "\n",
    "    \"Battery voltage [V]\",\n",
    "    \n",
    "    \n",
    "]\n",
    "quick_plot = pybamm.QuickPlot(\n",
    "    [\n",
    "        Sol_DD[0], # Sol_DD[1],Sol_DD[2],Sol_SD[0],\n",
    "        ], var,variable_limits='tight',    # label,\n",
    "    time_unit='hours',n_rows=4) #figsize = (18,12),\n",
    "quick_plot.dynamic_plot()\n",
    "#quick_plot.plot(0.19)"
   ]
  },
  {
   "cell_type": "code",
   "execution_count": null,
   "metadata": {},
   "outputs": [],
   "source": [
    "font = {'family' : 'DejaVu Sans','size'   : 15}\n",
    "mpl.rc('font', **font)"
   ]
  },
  {
   "cell_type": "code",
   "execution_count": null,
   "metadata": {},
   "outputs": [
    {
     "data": {
      "application/vnd.jupyter.widget-view+json": {
       "model_id": "7fc60d9885724da08014acaed4cf5fda",
       "version_major": 2,
       "version_minor": 0
      },
      "text/plain": [
       "interactive(children=(FloatSlider(value=0.0, description='t', max=0.40637133845167456, step=0.0040637133845167…"
      ]
     },
     "metadata": {},
     "output_type": "display_data"
    }
   ],
   "source": [
    "# Plot all kinds of potential \n",
    "label = [\"0\",\"2.5e-13\",\"2.5e-12\",\"Single\"] \n",
    "var = [\n",
    "    \"Battery voltage [V]\",\n",
    "    \"X-averaged battery reaction overpotential [V]\",\n",
    "    \"X-averaged battery concentration overpotential [V]\",\n",
    "    \"X-averaged EC concentration overpotential [V]\", # Mark Ruihe add\n",
    "    \"X-averaged battery electrolyte ohmic losses [V]\",\n",
    "    \"X-averaged battery solid phase ohmic losses [V]\",\n",
    "    \"EC concentration [mol.m-3]\",\n",
    "    \"Electrolyte concentration [mol.m-3]\",\n",
    "]\n",
    "quick_plot = pybamm.QuickPlot(\n",
    "    [\n",
    "        Sol_DD[0], # Sol_DD[1],Sol_DD[2],Sol_SD[0],\n",
    "        ], var,variable_limits='tight',\n",
    "    time_unit='hours',n_rows=2) #figsize = (18,12),\n",
    "quick_plot.dynamic_plot()\n",
    "#quick_plot.plot(0.14)"
   ]
  },
  {
   "cell_type": "code",
   "execution_count": null,
   "metadata": {},
   "outputs": [
    {
     "name": "stdout",
     "output_type": "stream",
     "text": [
      "[1.46670e+03 2.19465e-01 5.38350e-02]\n"
     ]
    },
    {
     "data": {
      "text/plain": [
       "0.780535"
      ]
     },
     "execution_count": 11,
     "metadata": {},
     "output_type": "execute_result"
    }
   ],
   "source": [
    "print(0.15*np.array([9778 , 1.4631, 0.3589]))\n",
    "1- 2.19465e-01"
   ]
  }
 ],
 "metadata": {
  "kernelspec": {
   "display_name": "envSolCon",
   "language": "python",
   "name": "python3"
  },
  "language_info": {
   "codemirror_mode": {
    "name": "ipython",
    "version": 3
   },
   "file_extension": ".py",
   "mimetype": "text/x-python",
   "name": "python",
   "nbconvert_exporter": "python",
   "pygments_lexer": "ipython3",
   "version": "3.10.12"
  },
  "orig_nbformat": 4,
  "vscode": {
   "interpreter": {
    "hash": "5ae0c684446e40f7574a1a9821257f2365ba43f34c15f5f2e3dcabca0bad9ab7"
   }
  }
 },
 "nbformat": 4,
 "nbformat_minor": 2
}
