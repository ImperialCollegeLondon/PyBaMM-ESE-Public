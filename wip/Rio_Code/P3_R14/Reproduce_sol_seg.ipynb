{
 "cells": [
  {
   "attachments": {},
   "cell_type": "markdown",
   "metadata": {},
   "source": [
    "# Will have 3 c_e_0: 0.6, 1.0, 1.6; with High Dx"
   ]
  },
  {
   "cell_type": "code",
   "execution_count": 37,
   "metadata": {},
   "outputs": [
    {
     "name": "stdout",
     "output_type": "stream",
     "text": [
      "The autoreload extension is already loaded. To reload it, use:\n",
      "  %reload_ext autoreload\n"
     ]
    }
   ],
   "source": [
    "# magic lines that avoid re-start\n",
    "%load_ext autoreload\n",
    "%autoreload 2\n",
    "import pybamm;import pandas as pd   ;import numpy as np;import os;import matplotlib.pyplot as plt;import os;#import imageio\n",
    "from scipy.io import savemat,loadmat;from pybamm import constants,exp,sqrt;\n",
    "import matplotlib as mpl; \n",
    "fs=17; # or we can set import matplotlib.pyplot as plt then say 'mpl.rc...'\n",
    "import openpyxl\n",
    "import traceback\n",
    "import multiprocessing\n",
    "font = {'family' : 'DejaVu Sans','size'   : fs}\n",
    "mpl.rc('font', **font)"
   ]
  },
  {
   "cell_type": "code",
   "execution_count": 38,
   "metadata": {},
   "outputs": [],
   "source": [
    "import sys  \n",
    "str_path_0 = os.path.abspath(os.path.join(pybamm.__path__[0],'..'))\n",
    "str_path_1 = os.path.abspath(os.path.join(str_path_0,\"wip/Rio_Code/Fun_P3\"))\n",
    "sys.path.append(str_path_1) \n",
    "from Fun_P3 import *\n",
    "BasicPath = os.path.expanduser(\"~/EnvPBGEM_ECDrag2/Double_SimSave/Double_Trans/\")\n",
    "Target  = 'Reproduce_Sol_Seg/' \n",
    "if not os.path.exists(BasicPath + Target):\n",
    "   os.mkdir(BasicPath + Target)"
   ]
  },
  {
   "cell_type": "code",
   "execution_count": 39,
   "metadata": {},
   "outputs": [
    {
     "name": "stdout",
     "output_type": "stream",
     "text": [
      "3\n"
     ]
    }
   ],
   "source": [
    "# define parameter of double and single \n",
    "Para_dict_Same = {\n",
    "   ################################# Same for single and double:\n",
    "   \"Mesh list\":[ [20,10,20,100,30], ],   # Simon uses 30\n",
    "   \"Para_Set\":[ \"Li2023_ECdrag\",],\n",
    "   \"Contact resistance [Ohm]\":[6e-3],\n",
    "   \"Model option\":[{\n",
    "      \"SEI\": \"constant\",\n",
    "      \"SEI film resistance\":\"distributed\",   \n",
    "      \"SEI porosity change\": \"true\",\n",
    "      \"solvent diffusion\": \"double spatial consume w refill\",\n",
    "      \"electrolyte conductivity\": \"sol full\"  ,\n",
    "     \"contact resistance\":\"true\",  \n",
    "      },],\n",
    "   \"Initial Neg SOC\":[0.8841301667966484,],\n",
    "   \"Initial Pos SOC\":[0.23552755074598045,],}\n",
    "Para_dict_ce_1M = {\n",
    "   # solvent diffusion parameters:\n",
    "   \"EC initial concentration in electrolyte [mol.m-3]\":[5622.86],\n",
    "   \"Initial concentration in electrolyte [mol.m-3]\":[1000],\n",
    "   \"EC diffusivity in electrolyte [m2.s-1]\":[\n",
    "      \"EC_diffusivity_5E_10\"],\n",
    "   \"Lithium ion EC cross diffusivity [m2.s-1]\":[0,2.5e-13, 2.5e-12], # \n",
    "}\n",
    "Para_dict_1p0M = {**Para_dict_Same,**Para_dict_ce_1M}\n",
    "Para_1p0M = []\n",
    "recursive_scan(Para_1p0M,Para_dict_1p0M, list(Para_dict_1p0M.keys()), {})\n",
    "print(len(Para_1p0M))"
   ]
  },
  {
   "cell_type": "code",
   "execution_count": 40,
   "metadata": {},
   "outputs": [
    {
     "name": "stdout",
     "output_type": "stream",
     "text": [
      "D_EC= EC_diffusivity_5E_10\n",
      "D_e,EC= 0\n",
      "D_EC= EC_diffusivity_5E_10\n",
      "D_e,EC= 2.5e-13\n",
      "D_EC= EC_diffusivity_5E_10\n",
      "D_e,EC= 2.5e-12\n"
     ]
    }
   ],
   "source": [
    "##### Initialise Para_0 and model\n",
    "def RunOne(Para_dd_i,Rate_Dis):\n",
    "    CyclePack,para_used = Para_init_Dict(Para_dd_i)\n",
    "    [Mesh_list,model_options] = CyclePack\n",
    "    model = pybamm.lithium_ion.DFN(options=model_options)\n",
    "    str_model_options = str(model_options)\n",
    "    V_max = 4.2;        V_min = 2.5; #Rate_Dis = 3\n",
    "    if Rate_Dis > 4:\n",
    "        ts_dis = 0.5\n",
    "    else: \n",
    "        ts_dis = 2\n",
    "    Exp_1  = pybamm.Experiment(\n",
    "    [ (\n",
    "        f\"Hold at {V_max} V until C/100\",\n",
    "        f\"Discharge at {Rate_Dis} C until {V_min} V ({ts_dis} second period)\", \n",
    "        )    ] * 1 )  \n",
    "\n",
    "    c_e = model.variables[\"Electrolyte concentration [mol.m-3]\"]\n",
    "    c_EC= model.variables[\"EC concentration [mol.m-3]\"]\n",
    "    T = model.variables[\"Cell temperature [K]\"]\n",
    "    D_e = para_used[\"Electrolyte diffusivity [m2.s-1]\"]\n",
    "    D_EC= para_used[\"EC diffusivity in electrolyte [m2.s-1]\"]\n",
    "    sigma_e = para_used[\"Electrolyte conductivity [S.m-1]\"]\n",
    "    dLJP_dcEC = para_used[\"Measured dLJP_dcEC\"] # dLJP_Two_Species_dco_Jung2023(x,y,T): # # ~~~~# x: ce; y: co \n",
    "    dLJP_dce  = para_used[\"Measured dLJP_dce\"]\n",
    "    Xi = para_used[\"EC transference number\"]\n",
    "    model.variables[\"Electrolyte diffusivity [m2.s-1]\"] = D_e(c_e,c_EC, T)\n",
    "    model.variables[\"EC diffusivity in electrolyte [m2.s-1]\"] = D_EC(c_e,c_EC, T)\n",
    "    model.variables[\"Electrolyte conductivity [S.m-1]\"] = sigma_e(c_e,c_EC, T)\n",
    "    model.variables[\"EC transference number\"] = Xi(c_e,c_EC, T)\n",
    "    model.variables[\"c(EC) over c(Li+)\"] = c_EC / c_e\n",
    "    model.variables[\"dLJP_dcEC\"] =  dLJP_dcEC(c_e,c_EC, T)\n",
    "    model.variables[\"dLJP_dce\"] =  dLJP_dce(c_e,c_EC, T)\n",
    "    # molar mass in Taeho's paper: unit: g/mol\n",
    "    M_EMC = 104.105; M_EC = 88.062; M_e = 151.905;\n",
    "    c_EMC = -0.631191*c_EC-0.49232*c_e+9664.2812\n",
    "    model.variables[\"c(EMC) [mol.m-3]\"] =  c_EMC\n",
    "    model.variables[\"EC:EMC wt%\"] =  (c_EC*M_EC) / (c_EMC*M_EMC) \n",
    "    model.variables[\"EC:EMC %\"] =  c_EC / c_EMC \n",
    "    t_0plus = para_used[\"Cation transference number\"]\n",
    "    model.variables[\"Cation transference number\"] = t_0plus(c_e,c_EC, T)\n",
    "    var_pts = {\n",
    "        \"x_n\": Mesh_list[0],  # negative electrode\n",
    "        \"x_s\": Mesh_list[1],  # separator \n",
    "        \"x_p\": Mesh_list[2],  # positive electrode\n",
    "        \"r_n\": Mesh_list[3],  # negative particle\n",
    "        \"r_p\": Mesh_list[4],  # positive particle\n",
    "    }\n",
    "    sim    = pybamm.Simulation(\n",
    "        model, experiment = Exp_1,\n",
    "        parameter_values = para_used,\n",
    "        solver = pybamm.CasadiSolver(return_solution_if_failed_early=True),\n",
    "        var_pts=var_pts,\n",
    "        )       \n",
    "    sol    = sim.solve()\n",
    "    return sol\n",
    "\n",
    "Sol_List = []\n",
    "for i in range(len(Para_1p0M)):\n",
    "    Sol_List.append(RunOne(Para_1p0M[i],Rate_Dis=2)) \n",
    "    para = Para_1p0M[i]\n",
    "    print(\"D_EC=\",para[\"EC diffusivity in electrolyte [m2.s-1]\"])\n",
    "    print(\"D_e,EC=\",para[\"Lithium ion EC cross diffusivity [m2.s-1]\"])\n"
   ]
  },
  {
   "cell_type": "code",
   "execution_count": 41,
   "metadata": {},
   "outputs": [
    {
     "data": {
      "image/png": "[encoded data removed]",
      "text/plain": [
       "<Figure size 314.961x241.732 with 1 Axes>"
      ]
     },
     "metadata": {},
     "output_type": "display_data"
    },
    {
     "data": {
      "image/png": "[encoded data removed]",
      "text/plain": [
       "<Figure size 314.961x241.732 with 1 Axes>"
      ]
     },
     "metadata": {},
     "output_type": "display_data"
    },
    {
     "data": {
      "image/png": "[encoded data removed]",
      "text/plain": [
       "<Figure size 314.961x241.732 with 1 Axes>"
      ]
     },
     "metadata": {},
     "output_type": "display_data"
    }
   ],
   "source": [
    "fs = 10; font = {'family' : 'DejaVu Sans','size'   : fs}\n",
    "mpl.rc('font', **font)\n",
    "SaveFig = False\n",
    "Colors = ['#1f77b4','#ff7f0e',  '#d62728', ];\n",
    "Labels = [\"0.6 M\",\"1.0 M\",\"1.6 M\"]\n",
    "def Plot_Sol_Seg(sol):\n",
    "    step_i  =sol.cycles[0].steps[1]\n",
    "    Y_0p = np.arange(-1,10,0.1); X_0 = np.arange(0,172.8,0.1)\n",
    "    fig, axs = plt.subplots( figsize=(8/2.54,6.14/2.54), tight_layout=True) #\n",
    "    y_ini = step_i[\"EC:EMC %\"].entries[:,0]\n",
    "    axs.plot( X_0,  np.mean(y_ini[0:20])*np.ones_like(X_0),  Colors[0],label=\"Initial\")\n",
    "    t_i = (step_i['Time [s]'].entries-step_i['Time [s]'].entries[0]).tolist()\n",
    "    x =   step_i[\"x [m]\"].entries[:,0]\n",
    "    x_n =   step_i[\"x_n [m]\"].entries[:,0]\n",
    "    x_s =   step_i[\"x_p [m]\"].entries[:,0]\n",
    "    y =   step_i[\"EC:EMC %\"].entries[:,-1]\n",
    "    y_neg = np.mean(y[0:20]);\n",
    "    y_pos = np.mean(y[-20:]);\n",
    "    axs.plot(x*1e6,y,color=Colors[1],label=\"End\") \n",
    "    axs.plot(\n",
    "        x_n*1e6,y_neg* np.ones_like(x_n),\n",
    "        color=Colors[1],linestyle=\"--\",label=\"End (Avg)\") \n",
    "    axs.plot(\n",
    "        x_s*1e6,y_pos* np.ones_like(x_s),\n",
    "        color=Colors[1],linestyle=\"--\",) \n",
    "    axs.set_xlabel(r\"x / $\\mu$m\",fontdict={'family':'DejaVu Sans','size':fs})\n",
    "    #axs.set_title(Title_keys[i]) \n",
    "    axs.ticklabel_format( \n",
    "        axis='x', style='sci',\n",
    "        scilimits=[-1e3,1e3], useOffset=None, \n",
    "        useLocale=None, useMathText=None)\n",
    "\n",
    "    axs.set_ylabel(\"EC:EMC\")\n",
    "    axs.plot( 85.2 * np.ones_like(Y_0p),Y_0p,\"k-\",linewidth=0.5,)\n",
    "    axs.plot((85.2+12 )* np.ones_like(Y_0p),Y_0p, \"k-\",linewidth=0.5,)\n",
    "    axs.legend(\n",
    "        prop={'family':'DejaVu Sans','size':fs},\n",
    "        markerscale=0.5,borderpad=0.0,\n",
    "        handlelength=1.0,loc='best',frameon=False)  \n",
    "    axs.set_ylim([0.95,1.05])\n",
    "    # fig.suptitle(f\"3C Discharge, t={round(t_select)} s\", fontsize=fs+1)\n",
    "\n",
    "    if SaveFig == True:\n",
    "        plt.savefig(BasicPath +  Target+ f\"2C_1M_EC_EMC_%.png\", dpi=600)\n",
    "        plt.savefig(BasicPath +  Target+ f\"2C_1M_EC_EMC_%.svg\")   \n",
    "    return\n",
    "\n",
    "Plot_Sol_Seg(Sol_List[0])\n",
    "Plot_Sol_Seg(Sol_List[1])\n",
    "Plot_Sol_Seg(Sol_List[2])\n"
   ]
  },
  {
   "cell_type": "code",
   "execution_count": null,
   "metadata": {},
   "outputs": [
    {
     "name": "stdout",
     "output_type": "stream",
     "text": [
      "0.6451567125647512 1.3649713240773473\n",
      "0.5302836335437592 1.5649595792147706\n"
     ]
    }
   ],
   "source": [
    "print(y_neg,y_pos)\n",
    "print(y[0],y[-1])"
   ]
  },
  {
   "cell_type": "code",
   "execution_count": null,
   "metadata": {},
   "outputs": [
    {
     "name": "stdout",
     "output_type": "stream",
     "text": [
      "[1.46670e+03 2.19465e-01 5.38350e-02]\n"
     ]
    },
    {
     "data": {
      "text/plain": [
       "0.780535"
      ]
     },
     "execution_count": 36,
     "metadata": {},
     "output_type": "execute_result"
    }
   ],
   "source": [
    "print(0.15*np.array([9778 , 1.4631, 0.3589]))\n",
    "1- 2.19465e-01"
   ]
  }
 ],
 "metadata": {
  "kernelspec": {
   "display_name": "envSolCon",
   "language": "python",
   "name": "python3"
  },
  "language_info": {
   "codemirror_mode": {
    "name": "ipython",
    "version": 3
   },
   "file_extension": ".py",
   "mimetype": "text/x-python",
   "name": "python",
   "nbconvert_exporter": "python",
   "pygments_lexer": "ipython3",
   "version": "3.10.12"
  },
  "orig_nbformat": 4,
  "vscode": {
   "interpreter": {
    "hash": "5ae0c684446e40f7574a1a9821257f2365ba43f34c15f5f2e3dcabca0bad9ab7"
   }
  }
 },
 "nbformat": 4,
 "nbformat_minor": 2
}
