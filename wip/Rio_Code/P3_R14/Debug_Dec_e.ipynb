{
 "cells": [
  {
   "attachments": {},
   "cell_type": "markdown",
   "metadata": {},
   "source": [
    "## Try to see if the model can be stable with $ D_{\\text{EC},\\text{e}}^0 = \\, 1.5 \\times 10^{-10} \\, \\text{m}^2/\\text{s} $\n",
    "### $ D_{\\text{e},\\text{EC}}^0 = 1.0 \\times 10^{-10} \\, \\text{m}^2/\\text{s} $ and also the single case "
   ]
  },
  {
   "cell_type": "markdown",
   "metadata": {},
   "source": [
    "### Conclusion: this notebook shows that by making $ D_{\\text{EC},\\text{e}}^0 = \\, 1.5 \\times 10^{-10} \\, \\text{m}^2/\\text{s} $, the model can do 2C discharge in 31 seconds, compared with making it \"thermodynamic consistent\" but the model struggle to do 1.85 discharge (takes 30 minutes, and terminal at 2.7 V instead of the preset 2.5V because the EC related flux goes crazy.) --> But if we do that, that will be the same as our previous version post in arXiv."
   ]
  },
  {
   "cell_type": "code",
   "execution_count": 1,
   "metadata": {},
   "outputs": [],
   "source": [
    "# magic lines that avoid re-start\n",
    "%load_ext autoreload\n",
    "%autoreload 2\n",
    "import pybamm;import pandas as pd   ;import numpy as np;import os;import matplotlib.pyplot as plt;import os;#import imageio\n",
    "from scipy.io import savemat,loadmat;from pybamm import constants,exp,sqrt;\n",
    "import matplotlib as mpl; \n",
    "fs=17; # or we can set import matplotlib.pyplot as plt then say 'mpl.rc...'\n",
    "import openpyxl\n",
    "import traceback\n",
    "import multiprocessing\n",
    "font = {'family' : 'DejaVu Sans','size'   : fs}\n",
    "mpl.rc('font', **font)"
   ]
  },
  {
   "cell_type": "code",
   "execution_count": 2,
   "metadata": {},
   "outputs": [],
   "source": [
    "import sys  \n",
    "str_path_0 = os.path.abspath(os.path.join(pybamm.__path__[0],'..'))\n",
    "str_path_1 = os.path.abspath(os.path.join(str_path_0,\"wip/Rio_Code/Fun_P3\"))\n",
    "sys.path.append(str_path_1) \n",
    "from Fun_P3 import *\n",
    "BasicPath = os.path.expanduser(\"~/EnvPBGEM_ECDrag2/Double_SimSave/Double_Trans/\")\n",
    "Target  = 'Rate_Performance_Debug_EC/' \n",
    "if not os.path.exists(BasicPath + Target):\n",
    "   os.mkdir(BasicPath + Target)\n",
    "Save_Fig = True"
   ]
  },
  {
   "cell_type": "code",
   "execution_count": 3,
   "metadata": {},
   "outputs": [
    {
     "name": "stdout",
     "output_type": "stream",
     "text": [
      "2 1\n"
     ]
    }
   ],
   "source": [
    "# define parameter of double and single \n",
    "Para_dict_Same = {\n",
    "   \"Mesh list\":[ [10,5,10,100,20], ],    # Simon uses 30\n",
    "   \"Para_Set\":[ \"Li2023_ECdrag\",],\n",
    "   \"Contact resistance [Ohm]\":[6e-3],\n",
    "   \"Initial Neg SOC\":[0.8841301667966484,],\n",
    "   \"Initial Pos SOC\":[0.23552755074598045,],}\n",
    "Para_dict_DD_ONLY = {\n",
    "   \"Model option\":[{\n",
    "      \"SEI\": \"constant\",\n",
    "      \"SEI film resistance\":\"distributed\",   \n",
    "      \"SEI porosity change\": \"true\",\n",
    "      \"solvent diffusion\": \"double spatial consume w refill\",\n",
    "      \"electrolyte conductivity\": \"sol full\"  ,\n",
    "     \"contact resistance\":\"true\",  },],\n",
    "   \"Lithium ion EC cross diffusivity [m2.s-1]\":[1e-11,1e-10], #\n",
    "   \"EC Lithium ion cross diffusivity [m2.s-1]\":[\"Cross_diffusivity_1p5E_10\"], #\n",
    "}\n",
    "Para_dict_SD_ONLY = {\n",
    "   \"Model option\":[{\n",
    "      \"SEI\": \"constant\",\n",
    "      \"SEI film resistance\":\"distributed\",   \n",
    "      \"SEI porosity change\": \"true\",\n",
    "      \"solvent diffusion\": \"single no consume wo refill\",\n",
    "      \"electrolyte conductivity\": \"full\"  ,\n",
    "      \"contact resistance\":\"true\",  },],\n",
    "}\n",
    "Para_dict_DD = {**Para_dict_Same,**Para_dict_DD_ONLY}\n",
    "Para_dict_SD = {**Para_dict_Same,**Para_dict_SD_ONLY}\n",
    "Para_DD = [];  Para_SD=[]\n",
    "recursive_scan(Para_DD,Para_dict_DD, list(Para_dict_DD.keys()), {})\n",
    "recursive_scan(Para_SD,Para_dict_SD, list(Para_dict_SD.keys()), {})\n",
    "print(len(Para_DD),len(Para_SD))\n",
    "\n",
    "Path_pack = [BasicPath,Target,]"
   ]
  },
  {
   "cell_type": "markdown",
   "metadata": {},
   "source": [
    "#### 2.5e-11 + 2.6C takes 40+ minutes and has spikes; 1e-11 + 2.8C takes 44 minutes, -> both not good"
   ]
  },
  {
   "cell_type": "code",
   "execution_count": 4,
   "metadata": {},
   "outputs": [
    {
     "data": {
      "text/plain": [
       "array([1. , 1.2, 1.4, 1.6, 1.8])"
      ]
     },
     "execution_count": 4,
     "metadata": {},
     "output_type": "execute_result"
    }
   ],
   "source": [
    "np.arange(1,1.8+0.2,0.2)"
   ]
  },
  {
   "cell_type": "code",
   "execution_count": 5,
   "metadata": {},
   "outputs": [
    {
     "name": "stdout",
     "output_type": "stream",
     "text": [
      "[2] 1\n"
     ]
    }
   ],
   "source": [
    "Rate_Dis_All = [2]\n",
    "print(Rate_Dis_All,len(Rate_Dis_All))"
   ]
  },
  {
   "cell_type": "code",
   "execution_count": 6,
   "metadata": {},
   "outputs": [
    {
     "name": "stdout",
     "output_type": "stream",
     "text": [
      "Start Now! C rate: 2\n"
     ]
    },
    {
     "name": "stderr",
     "output_type": "stream",
     "text": [
      "CasADi - 2024-03-24 13:21:29 WARNING(\"The options 't0', 'tf', 'grid' and 'output_t0' have been deprecated.\n",
      "The same functionality is provided by providing additional input arguments to the 'integrator' function, in particular:\n",
      " * Call integrator(..., t0, tf, options) for a single output time, or\n",
      " * Call integrator(..., t0, grid, options) for multiple grid points.\n",
      "The legacy 'output_t0' option can be emulated by including or excluding 't0' in 'grid'.\n",
      "Backwards compatibility is provided in this release only.\") [.../casadi/core/integrator.cpp:515]\n"
     ]
    },
    {
     "name": "stdout",
     "output_type": "stream",
     "text": [
      "Finish Double_D_e_EC_cross=1e-11_Rate=2C with Spent 31.860 s\n",
      "Start Now! C rate: 2\n",
      "Finish Double_D_e_EC_cross=1e-10_Rate=2C with Spent 31.772 s\n"
     ]
    }
   ],
   "source": [
    "Sol_LD = [] # For mesh [10,5,10,100,20], 1e-11, cannot finish 1.9C after 30min; cannot finish 1.88C after 80 min, 1.86C takes 14 min\n",
    "Sol_HD = [] \n",
    "i=0\n",
    "for Rate_Dis in Rate_Dis_All:\n",
    "    D_e_EC_cross = Para_DD[i][\"Lithium ion EC cross diffusivity [m2.s-1]\"]\n",
    "    str_pickle =  f\"Double_D_e_EC_cross={D_e_EC_cross}\"\n",
    "    sol_return,cap,Trise,t_dis,vol_dis = Run_P3_OneCycle_Dict(\n",
    "        i, Para_DD[i], Path_pack,Rate_Dis,str_pickle,\n",
    "        Return_sol=True,Save_sol=True)\n",
    "    Sol_LD.append(sol_return) \n",
    "i=1\n",
    "for Rate_Dis in Rate_Dis_All:\n",
    "    D_e_EC_cross = Para_DD[i][\"Lithium ion EC cross diffusivity [m2.s-1]\"]\n",
    "    str_pickle =  f\"Double_D_e_EC_cross={D_e_EC_cross}\"\n",
    "    sol_return,cap,Trise,t_dis,vol_dis = Run_P3_OneCycle_Dict(\n",
    "        i, Para_DD[i], Path_pack,Rate_Dis,str_pickle,\n",
    "        Return_sol=True,Save_sol=True)\n",
    "    Sol_HD.append(sol_return)"
   ]
  },
  {
   "cell_type": "code",
   "execution_count": 7,
   "metadata": {},
   "outputs": [
    {
     "data": {
      "text/plain": [
       "2.5000100000000005"
      ]
     },
     "execution_count": 7,
     "metadata": {},
     "output_type": "execute_result"
    }
   ],
   "source": [
    "Sol_HD[0].cycles[0].steps[1][\"Battery voltage [V]\"].entries[-1]\n",
    "#Get_cap(Sol_SD[0])"
   ]
  },
  {
   "cell_type": "code",
   "execution_count": 9,
   "metadata": {},
   "outputs": [
    {
     "name": "stdout",
     "output_type": "stream",
     "text": [
      "Case - Double-Low D_e,EC,  capacity under 2C discharge is 4.1405\n",
      "Case - Double-High D_e,EC,  capacity under 2C discharge is 4.0616\n"
     ]
    }
   ],
   "source": [
    "# Quickly check results:\n",
    "# capacity difference:\n",
    "def Get_cap(sol):\n",
    "    step_i = sol.cycles[0].steps[1]\n",
    "    cap = (\n",
    "        step_i[\"Discharge capacity [A.h]\"].entries[-1]\n",
    "        -step_i[\"Discharge capacity [A.h]\"].entries[0])\n",
    "    return cap\n",
    "def Get_vol(sol):\n",
    "    step_i = sol.cycles[0].steps[1]\n",
    "    vol = step_i[\"Terminal voltage [V]\"].entries[-1]\n",
    "    return vol\n",
    "Labels = [\"Single\",\"Double-Low D_e,EC\",\"Double-High D_e,EC\"]\n",
    "print(f\"Case - {Labels[1]},\", f\" capacity under {Rate_Dis_All[0]}C discharge is {Get_cap(Sol_LD[0]):.4f}\")\n",
    "print(f\"Case - {Labels[2]},\", f\" capacity under {Rate_Dis_All[0]}C discharge is {Get_cap(Sol_HD[0]):.4f}\")"
   ]
  },
  {
   "cell_type": "code",
   "execution_count": 19,
   "metadata": {},
   "outputs": [
    {
     "data": {
      "text/plain": [
       "<matplotlib.legend.Legend at 0x7f58326d5db0>"
      ]
     },
     "execution_count": 19,
     "metadata": {},
     "output_type": "execute_result"
    },
    {
     "data": {
      "image/png": "[encoded data removed]",
      "text/plain": [
       "<Figure size 474.308x236.22 with 2 Axes>"
      ]
     },
     "metadata": {},
     "output_type": "display_data"
    }
   ],
   "source": [
    "Cap_HD= []; Cap_LD = []; \n",
    "Vol_HD= []; Vol_LD = []; \n",
    "for i in [0]:#range(len(Rate_Dis_All)):\n",
    "    Cap_HD.append(Get_cap(Sol_HD[i]))\n",
    "    Cap_LD.append(Get_cap(Sol_LD[i]))\n",
    "    Vol_HD.append(Get_vol(Sol_HD[i]))\n",
    "    Vol_LD.append(Get_vol(Sol_LD[i]))\n",
    "fig, axs = plt.subplots(1,2, figsize=(12/2.53,6/2.54),tight_layout=True)\n",
    "axs[0].plot(Rate_Dis_All,Cap_HD,\"-\",marker = 'o',label=\"HD\")\n",
    "axs[0].plot(Rate_Dis_All,Cap_LD,\"--\",marker = '*',label=\"LD\")\n",
    "axs[1].plot(Rate_Dis_All,Vol_HD,\"-\",marker = 'o',label=\"HD\")\n",
    "axs[1].plot(Rate_Dis_All,Vol_LD,\"--\",marker = '*',label=\"LD\")\n",
    "axs[0].legend()"
   ]
  },
  {
   "cell_type": "markdown",
   "metadata": {},
   "source": [
    "### new electrolyte and dLJP_d_ce: 1.82, 1.84, 1.86, 1.88"
   ]
  },
  {
   "cell_type": "markdown",
   "metadata": {},
   "source": [
    "Case - Single, capacity under 1.8C discharge is 4.2047\n",
    "Case - Double-Low $D_\\times$,  capacity under 1.8C discharge is 4.2012\n",
    "Case - Double-High $D_\\times$,  capacity under 1.8C discharge is 4.1347"
   ]
  },
  {
   "cell_type": "code",
   "execution_count": 20,
   "metadata": {},
   "outputs": [],
   "source": [
    "font = {'family' : 'DejaVu Sans','size'   : 11}\n",
    "mpl.rc('font', **font)"
   ]
  },
  {
   "cell_type": "code",
   "execution_count": 21,
   "metadata": {},
   "outputs": [
    {
     "data": {
      "application/vnd.jupyter.widget-view+json": {
       "model_id": "3e94787a15144068a978af6f228fc372",
       "version_major": 2,
       "version_minor": 0
      },
      "text/plain": [
       "interactive(children=(FloatSlider(value=0.006990507323391031, description='t', max=0.42243446488742586, min=0.…"
      ]
     },
     "metadata": {},
     "output_type": "display_data"
    }
   ],
   "source": [
    "# Quick plot: - Concentration - elely properties - voltage\n",
    "Labels = [ r\"Double-Low $D_\\times$\",r\"Double-High $D_\\times$\"] #\n",
    "var = [\n",
    "    \"EC concentration [mol.m-3]\",\n",
    "    \"Electrolyte concentration [mol.m-3]\",\n",
    "    \"EC:EMC wt%\",\n",
    "\n",
    "    \"EC Lithium ion cross diffusivity [m2.s-1]\",\n",
    "    #\"EC transference number\",\n",
    "    \"Cation transference number\",\n",
    "    \"Electrolyte conductivity [S.m-1]\",\n",
    "    \"dLJP_dcEC\",\n",
    "    \"dLJP_dce\",\n",
    "    \n",
    "    \"Battery voltage [V]\",\n",
    "]\n",
    "quick_plot = pybamm.QuickPlot(\n",
    "    [\n",
    "        Sol_LD[-1].cycles[0].steps[1], \n",
    "        Sol_HD[-1].cycles[0].steps[1], \n",
    "        ], var,Labels,variable_limits='fixed',   \n",
    "    time_unit='hours',n_rows=4) #figsize = (18,12),\n",
    "quick_plot.dynamic_plot()"
   ]
  },
  {
   "cell_type": "code",
   "execution_count": 22,
   "metadata": {},
   "outputs": [
    {
     "data": {
      "application/vnd.jupyter.widget-view+json": {
       "model_id": "a3dd156912c843a2891de861cc71efad",
       "version_major": 2,
       "version_minor": 0
      },
      "text/plain": [
       "interactive(children=(FloatSlider(value=0.006990507323391031, description='t', max=0.42243446488742586, min=0.…"
      ]
     },
     "metadata": {},
     "output_type": "display_data"
    }
   ],
   "source": [
    "# Quick plot: - Voltage components\n",
    "key_EC = [\n",
    "    \"EC concentration [mol.m-3]\",\n",
    "    \"EC source term (SEI) [mol.m-3.s-1]\",\n",
    "    # \"y_EC\",\n",
    "    \"Minus div EC flux by diffusion [mol.m-3.s-1]\",\n",
    "    \"Minus div EC flux by migration [mol.m-3.s-1]\",\n",
    "    \"Minus div EC flux by Li+ [mol.m-3.s-1]\",\n",
    "]\n",
    "quick_plot = pybamm.QuickPlot(\n",
    "    [\n",
    "        Sol_LD[-1].cycles[0].steps[1], \n",
    "        Sol_HD[-1].cycles[0].steps[1], \n",
    "        ], key_EC,Labels,variable_limits='fixed',   \n",
    "    time_unit='hours',n_rows=2) #figsize = (18,12),\n",
    "quick_plot.dynamic_plot()"
   ]
  },
  {
   "cell_type": "code",
   "execution_count": 23,
   "metadata": {},
   "outputs": [
    {
     "data": {
      "application/vnd.jupyter.widget-view+json": {
       "model_id": "beb00b935d78465ca8f8c934b05fd08c",
       "version_major": 2,
       "version_minor": 0
      },
      "text/plain": [
       "interactive(children=(FloatSlider(value=0.006990507323391031, description='t', max=0.42243446488742586, min=0.…"
      ]
     },
     "metadata": {},
     "output_type": "display_data"
    }
   ],
   "source": [
    "# Quick plot: - Voltage components\n",
    "Keys_t_var = [\n",
    "    \"Battery voltage [V]\",\n",
    "    \"X-averaged battery reaction overpotential [V]\",\n",
    "    \"X-averaged battery concentration overpotential [V]\",\n",
    "    \"X-averaged EC concentration overpotential [V]\", # Mark Ruihe add\n",
    "    \"X-averaged battery electrolyte ohmic losses [V]\",\n",
    "    \"X-averaged battery solid phase ohmic losses [V]\",\n",
    "]\n",
    "quick_plot = pybamm.QuickPlot(\n",
    "    [\n",
    "        Sol_LD[0].cycles[0].steps[1], \n",
    "        Sol_HD[0].cycles[0].steps[1], \n",
    "        ], Keys_t_var,Labels,variable_limits='tight',   \n",
    "    time_unit='hours',n_rows=2) #figsize = (18,12),\n",
    "quick_plot.dynamic_plot()"
   ]
  },
  {
   "cell_type": "code",
   "execution_count": null,
   "metadata": {},
   "outputs": [],
   "source": []
  },
  {
   "cell_type": "code",
   "execution_count": 26,
   "metadata": {},
   "outputs": [
    {
     "data": {
      "image/png": "[encoded data removed]",
      "text/plain": [
       "<Figure size 314.961x241.732 with 1 Axes>"
      ]
     },
     "metadata": {},
     "output_type": "display_data"
    }
   ],
   "source": [
    "# plot solvent seg\n",
    "fs=11\n",
    "def Plot_Sol_Seg(sol,Rate_Dis,Ylim,Save_Fig,fig_name):\n",
    "    Colors = ['#1f77b4','#ff7f0e',  '#d62728', ];\n",
    "    step_i  =sol.cycles[0].steps[1]\n",
    "    Y_0p = np.arange(-1,10,0.1); X_0 = np.arange(0,172.8,0.1)\n",
    "    fig, axs = plt.subplots( figsize=(8/2.54,6.14/2.54), tight_layout=True) #\n",
    "    y_ini = step_i[\"EC:EMC wt%\"].entries[:,0]\n",
    "    axs.plot( X_0,  np.mean(y_ini[0:20])*np.ones_like(X_0),  Colors[0],label=\"Initial\")\n",
    "    t_i = (step_i['Time [s]'].entries-step_i['Time [s]'].entries[0]).tolist()\n",
    "    x =   step_i[\"x [m]\"].entries[:,0]\n",
    "    x_n =   step_i[\"x_n [m]\"].entries[:,0]\n",
    "    x_s =   step_i[\"x_p [m]\"].entries[:,0]\n",
    "    y =   step_i[\"EC:EMC wt%\"].entries[:,-1]\n",
    "    y_neg = np.mean(y[0:20]);\n",
    "    y_pos = np.mean(y[-20:]);\n",
    "    axs.plot(x*1e6,y,color=Colors[1],label=\"End\") \n",
    "    axs.plot(\n",
    "        x_n*1e6,y_neg* np.ones_like(x_n),\n",
    "        color=Colors[1],linestyle=\"--\",label=\"End (Avg)\") \n",
    "    axs.plot(\n",
    "        x_s*1e6,y_pos* np.ones_like(x_s),\n",
    "        color=Colors[1],linestyle=\"--\",) \n",
    "    axs.set_xlabel(r\"x / $\\mu$m\",fontdict={'family':'DejaVu Sans','size':fs})\n",
    "    #axs.set_title(Title_keys[i]) \n",
    "    axs.ticklabel_format( \n",
    "        axis='x', style='sci',\n",
    "        scilimits=[-1e3,1e3], useOffset=None, \n",
    "        useLocale=None, useMathText=None)\n",
    "\n",
    "    axs.set_ylabel(\"EC:EMC wt%\")\n",
    "    axs.plot( 85.2 * np.ones_like(Y_0p),Y_0p,\"k-\",linewidth=0.5,)\n",
    "    axs.plot((85.2+12 )* np.ones_like(Y_0p),Y_0p, \"k-\",linewidth=0.5,)\n",
    "    axs.legend(\n",
    "        prop={'family':'DejaVu Sans','size':fs},\n",
    "        markerscale=0.5,borderpad=0.0,\n",
    "        handlelength=1.0,loc='best',frameon=False)  \n",
    "    axs.set_ylim(Ylim)\n",
    "    # fig.suptitle(f\"3C Discharge, t={round(t_select)} s\", fontsize=fs+1)\n",
    "\n",
    "    if Save_Fig == True:\n",
    "        plt.savefig(BasicPath +  Target+ f\"{fig_name}.png\", dpi=600)\n",
    "        plt.savefig(BasicPath +  Target+ f\"{fig_name}.svg\")   \n",
    "    return\n",
    "Ylim = (0.5,1.5)\n",
    "Rate_Dis = Rate_Dis_All[-1]\n",
    "for i in [-1]:\n",
    "    D_e_EC_cross = Para_DD[1][\"Lithium ion EC cross diffusivity [m2.s-1]\"]\n",
    "    Plot_Sol_Seg(\n",
    "        Sol_HD[i],Rate_Dis,Ylim,Save_Fig,\n",
    "        fig_name=f\"{Rate_Dis}C_1M_EC_EMC_wt%_D_e_EC_cross={D_e_EC_cross}\") \n"
   ]
  }
 ],
 "metadata": {
  "kernelspec": {
   "display_name": "envSolCon",
   "language": "python",
   "name": "python3"
  },
  "language_info": {
   "codemirror_mode": {
    "name": "ipython",
    "version": 3
   },
   "file_extension": ".py",
   "mimetype": "text/x-python",
   "name": "python",
   "nbconvert_exporter": "python",
   "pygments_lexer": "ipython3",
   "version": "3.10.12"
  },
  "orig_nbformat": 4,
  "vscode": {
   "interpreter": {
    "hash": "5ae0c684446e40f7574a1a9821257f2365ba43f34c15f5f2e3dcabca0bad9ab7"
   }
  }
 },
 "nbformat": 4,
 "nbformat_minor": 2
}
