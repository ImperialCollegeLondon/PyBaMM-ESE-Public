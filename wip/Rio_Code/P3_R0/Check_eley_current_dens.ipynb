{
 "cells": [
  {
   "cell_type": "code",
   "execution_count": 1,
   "metadata": {},
   "outputs": [
    {
     "data": {
      "application/vnd.jupyter.widget-view+json": {
       "model_id": "01d14ca0da9d45ca8ee4d061bd83fc10",
       "version_major": 2,
       "version_minor": 0
      },
      "text/plain": [
       "interactive(children=(FloatSlider(value=0.0, description='t', max=3554.1847186167884, step=35.541847186167885)…"
      ]
     },
     "metadata": {},
     "output_type": "display_data"
    },
    {
     "data": {
      "text/plain": [
       "<pybamm.plotting.quick_plot.QuickPlot at 0x1877f5e0b20>"
      ]
     },
     "execution_count": 1,
     "metadata": {},
     "output_type": "execute_result"
    }
   ],
   "source": [
    "import pybamm as pb\n",
    "Model_0 = pb.lithium_ion.DFN( )\n",
    "chemistry = pb.parameter_sets.Chen2020\n",
    "Para_0 = pb.ParameterValues(chemistry=chemistry)\n",
    "\n",
    "sim = pb.Simulation(Model_0, parameter_values=Para_0)\n",
    "sol = sim.solve([0, 3600])\n",
    "sim.plot()"
   ]
  },
  {
   "cell_type": "code",
   "execution_count": 14,
   "metadata": {},
   "outputs": [
    {
     "name": "stdout",
     "output_type": "stream",
     "text": [
      "Electrolyte flux\n",
      "Electrolyte flux [mol.m-2.s-1]\n",
      "Negative particle flux\n",
      "Positive particle flux\n",
      "48.685491723466406\n"
     ]
    }
   ],
   "source": [
    "#Para_0.search(\"[m]\")\n",
    "Model_0.variables.search(\"flux\")\n",
    "print(5/0.065/1.58)"
   ]
  },
  {
   "cell_type": "code",
   "execution_count": 12,
   "metadata": {},
   "outputs": [
    {
     "name": "stdout",
     "output_type": "stream",
     "text": [
      "[ 0.          2.61064833  5.21662924  7.81343622 10.3969503  12.96365535\n",
      " 15.51080503 18.03645989 20.53937491 23.01880846 25.47434027 27.90573809\n",
      " 30.3128715  32.69565861 35.05403291 37.3879218  39.69723178 41.98183713\n",
      " 44.24157057 46.47621447 48.68549173 48.68549173 48.68549173 48.68549173\n",
      " 48.68549173 48.68549173 48.68549173 48.68549173 48.68549173 48.68549173\n",
      " 48.68549173 48.68549173 48.68549173 48.68549173 48.68549173 48.68549173\n",
      " 48.68549173 48.68549173 48.68549173 48.68549173 48.68549173 46.2586025\n",
      " 43.82852294 41.39592052 38.96135807 36.52531217 34.08818822 31.65033285\n",
      " 29.21204469 26.77358387 24.3351807  21.8970439  19.45936856 17.02234412\n",
      " 14.58616235 12.15102576  9.71715622  7.28480421  4.85425867  2.42585765\n",
      "  0.        ]\n",
      "[ 0.          1.92277058  3.85304996  5.79837749  7.76621908  9.76394385\n",
      " 11.79881774 13.87802037 16.00868959 18.19799566 20.45324398 22.78200449\n",
      " 25.19226621 27.69261782 30.2924583  33.00224578 35.83379785 38.80066271\n",
      " 41.91858935 45.20613801 48.68549172 48.68549172 48.68549172 48.68549172\n",
      " 48.68549172 48.68549172 48.68549172 48.68549172 48.68549172 48.68549172\n",
      " 48.68549172 48.68549172 48.68549172 48.68549172 48.68549172 48.68549172\n",
      " 48.68549172 48.68549172 48.68549172 48.68549172 48.68549172 45.59754716\n",
      " 42.60555232 39.73516438 36.99809739 34.39188808 31.90429613 29.51821733\n",
      " 27.21508546 24.97663724 22.7855656  20.62556167 18.48106432 16.33688928\n",
      " 14.17782665 11.98826421  9.75190453  7.45169822  5.07021822  2.59082338\n",
      "  0.        ]\n",
      "[ 0.          2.17398908  4.35137175  6.53562753  8.73027713 10.93890388\n",
      " 13.16517605 15.41287032 17.68589672 19.98832548 22.32441614 24.69864942\n",
      " 27.1157624  29.5807877  32.09909725 34.67645168 37.3190563  40.03362482\n",
      " 42.82745256 45.70849576 48.68608077 48.68033167 48.68554696 48.68683967\n",
      " 48.68622205 48.68556473 48.68530934 48.68532322 48.68542057 48.68549927\n",
      " 48.68552373 48.68548635 48.68539392 48.68528867 48.68529299 48.68562243\n",
      " 48.6864106  48.68708242 48.68537558 48.67904664 48.68649067 46.1305412\n",
      " 43.7259547  41.44594699 39.26638368 37.16436614 35.11794588 33.10584628\n",
      " 31.10720191 29.1013078  27.06737257 24.98426949 22.83027946 20.58281912\n",
      " 18.21814665 15.71103599 13.03440796 10.15890347  7.05237956  3.67930208\n",
      "  0.        ]\n"
     ]
    }
   ],
   "source": [
    "print(sol[\"Electrolyte current density [A.m-2]\"].entries[:,-1])\n",
    "\n",
    "print(sol[\"Electrolyte current density [A.m-2]\"].entries[:,3])\n",
    "\n",
    "print(sol[\"Electrolyte current density [A.m-2]\"].entries[:,0])\n"
   ]
  },
  {
   "cell_type": "code",
   "execution_count": 16,
   "metadata": {},
   "outputs": [
    {
     "data": {
      "application/vnd.jupyter.widget-view+json": {
       "model_id": "dd5584ed7d97495a9e8e1ad20315092d",
       "version_major": 2,
       "version_minor": 0
      },
      "text/plain": [
       "interactive(children=(FloatSlider(value=0.0, description='t', max=3554.1847186167884, step=35.541847186167885)…"
      ]
     },
     "metadata": {},
     "output_type": "display_data"
    }
   ],
   "source": [
    "# Quick plot\n",
    "output_variables3 = [\n",
    "                \"Electrolyte current density [A.m-2]\",\n",
    "                \"Negative electrode interfacial current density [A.m-2]\",\n",
    "                \"Electrolyte flux [mol.m-2.s-1]\",\n",
    "                \"Electrolyte concentration [mol.m-3]\",\n",
    "            ]\n",
    "quick_plot = pb.QuickPlot(sol, output_variables3,variable_limits='tight') #     \n",
    "quick_plot.dynamic_plot();"
   ]
  }
 ],
 "metadata": {
  "kernelspec": {
   "display_name": "Python 3.9.6 ('envPBGEM')",
   "language": "python",
   "name": "python3"
  },
  "language_info": {
   "codemirror_mode": {
    "name": "ipython",
    "version": 3
   },
   "file_extension": ".py",
   "mimetype": "text/x-python",
   "name": "python",
   "nbconvert_exporter": "python",
   "pygments_lexer": "ipython3",
   "version": "3.9.6"
  },
  "orig_nbformat": 4,
  "vscode": {
   "interpreter": {
    "hash": "83fab7fbb3a8fe7b5910804f702478ef63e2cc6a08d85072a5d68865ed0fd8c7"
   }
  }
 },
 "nbformat": 4,
 "nbformat_minor": 2
}
