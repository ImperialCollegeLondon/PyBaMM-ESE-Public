{
 "cells": [
  {
   "cell_type": "code",
   "execution_count": 53,
   "metadata": {},
   "outputs": [],
   "source": [
    "import pybamm"
   ]
  },
  {
   "cell_type": "code",
   "execution_count": 54,
   "metadata": {},
   "outputs": [],
   "source": [
    "# Use only the derived coefficients\n",
    "# For Li+\n",
    "coffe1_n = pybamm.FullBroadcast(\n",
    "        pybamm.Scalar(3.75e-11), \"negative elOxtrode\", )\n",
    "coffe1_s = pybamm.FullBroadcast(\n",
    "        pybamm.Scalar(9.666472986565472e-11), \"separator\", )\n",
    "coffe1_p = pybamm.FullBroadcast(\n",
    "        pybamm.Scalar(5.816858043652089e-11), \"positive elOxtrode\", )\n",
    "coffe1 = pybamm.concatenation(coffe1_n, coffe1_s, coffe1_p )\n",
    "coffe2_n = pybamm.FullBroadcast(\n",
    "        pybamm.Scalar(-3.1249999999999995e-11), \"negative elOxtrode\", )\n",
    "coffe2_s = pybamm.FullBroadcast(\n",
    "        pybamm.Scalar(-8.055394155471226e-11), \"separator\", )\n",
    "coffe2_p = pybamm.FullBroadcast(\n",
    "        pybamm.Scalar(-4.847381703043407e-11), \"positive elOxtrode\", )\n",
    "coffe2 = pybamm.concatenation(coffe2_n, coffe2_s, coffe2_p )\n",
    "coffe3_n = pybamm.FullBroadcast(\n",
    "        pybamm.Scalar(1.9136951216600957), \"negative elOxtrode\", )\n",
    "coffe3_s = pybamm.FullBroadcast(\n",
    "        pybamm.Scalar(0), \"separator\", )\n",
    "coffe3_p = pybamm.FullBroadcast(\n",
    "        pybamm.Scalar(-2.3745495341343483), \"positive elOxtrode\", )\n",
    "coffe3 = pybamm.concatenation(coffe3_n, coffe3_s, coffe3_p )\n",
    "# For Ox\n",
    "coffOx1_n = pybamm.FullBroadcast(\n",
    "        pybamm.Scalar(-1.2499999999999998e-10), \"negative elOxtrode\", )\n",
    "coffOx1_s = pybamm.FullBroadcast(\n",
    "        pybamm.Scalar(-3.2221576621884903e-10), \"separator\", )\n",
    "coffOx1_p = pybamm.FullBroadcast(\n",
    "        pybamm.Scalar(-1.9389526812173628e-10), \"positive elOxtrode\", )\n",
    "coffOx1 = pybamm.concatenation(coffOx1_n, coffOx1_s, coffOx1_p )\n",
    "coffOx2_n = pybamm.FullBroadcast(\n",
    "        pybamm.Scalar(6.25e-11), \"negative elOxtrode\", )\n",
    "coffOx2_s = pybamm.FullBroadcast(\n",
    "        pybamm.Scalar(1.6110788310942454e-10), \"separator\", )\n",
    "coffOx2_p = pybamm.FullBroadcast(\n",
    "        pybamm.Scalar(9.694763406086815e-11), \"positive elOxtrode\", )\n",
    "coffOx2 = pybamm.concatenation(coffOx2_n, coffOx2_s, coffOx2_p )\n",
    "\n",
    "coffOx3_n = pybamm.FullBroadcast(\n",
    "        pybamm.Scalar(-4.045348278871794), \"negative elOxtrode\", )\n",
    "coffOx3_s = pybamm.FullBroadcast(\n",
    "        pybamm.Scalar(0), \"separator\", )\n",
    "coffOx3_p = pybamm.FullBroadcast(\n",
    "        pybamm.Scalar(0), \"positive elOxtrode\", )\n",
    "coffOx3 = pybamm.concatenation(coffOx3_n, coffOx3_s, coffOx3_p )"
   ]
  },
  {
   "cell_type": "code",
   "execution_count": null,
   "metadata": {},
   "outputs": [],
   "source": []
  },
  {
   "cell_type": "code",
   "execution_count": 55,
   "metadata": {},
   "outputs": [],
   "source": [
    "model = pybamm.BaseModel()\n",
    "c_e_n  = pybamm.Variable(\"Li+ concentration in negative elOxtrode\", domain=\"negative elOxtrode\")\n",
    "c_Ox_n = pybamm.Variable(\"Ox concentration in negative elOxtrode\", domain=\"negative elOxtrode\")\n",
    "\n",
    "c_e_s  = pybamm.Variable(\"Li+ concentration in separator\", domain=\"separator\")\n",
    "c_Ox_s = pybamm.Variable(\"Ox concentration in separator\", domain=\"separator\")\n",
    "\n",
    "c_e_p  = pybamm.Variable(\"Li+ concentration in positive elOxtrode\", domain=\"positive elOxtrode\")\n",
    "c_Ox_p = pybamm.Variable(\"Ox concentration in positive elOxtrode\", domain=\"positive elOxtrode\")\n",
    "\n",
    "c_Ox = pybamm.concatenation(c_Ox_n, c_Ox_s, c_Ox_p)\n",
    "c_e  = pybamm.concatenation(c_e_n, c_e_s, c_e_p)\n",
    "model.variables = {\n",
    "    \"Li+ concentration in negative elOxtrode\":c_e_n,\n",
    "    \"Li+ concentration in separator\":c_e_s,\n",
    "    \"Li+ concentration in positive elOxtrode\":c_e_p,\n",
    "    \"Ox concentration in negative elOxtrode\":c_Ox_n,\n",
    "    \"Ox concentration in separator\":c_Ox_s,\n",
    "    \"Ox concentration in positive elOxtrode\":c_Ox_p,\n",
    "}"
   ]
  },
  {
   "cell_type": "code",
   "execution_count": 56,
   "metadata": {},
   "outputs": [],
   "source": [
    "model.variables.update(\n",
    "    {\n",
    "        \"Li+ concentration\": c_e, \n",
    "        \"Ox concentration\": c_Ox,\n",
    "    }\n",
    ")"
   ]
  },
  {
   "cell_type": "code",
   "execution_count": 57,
   "metadata": {},
   "outputs": [
    {
     "name": "stdout",
     "output_type": "stream",
     "text": [
      "dict_keys(['Li+ concentration in negative elOxtrode', 'Li+ concentration in separator', 'Li+ concentration in positive elOxtrode', 'Ox concentration in negative elOxtrode', 'Ox concentration in separator', 'Ox concentration in positive elOxtrode', 'Li+ concentration', 'Ox concentration'])\n"
     ]
    }
   ],
   "source": [
    "print(model.variables.keys())"
   ]
  },
  {
   "cell_type": "code",
   "execution_count": 58,
   "metadata": {},
   "outputs": [],
   "source": [
    "model.length_scales = {\n",
    "    \"negative elOxtrode\": 8.52e-5,\n",
    "    \"separator\": 1.2e-5,\n",
    "    \"positive elOxtrode\": 7.56e-5,\n",
    "}\n",
    "D_e     = 3e-10;    # Li+ diffusivity in m2/s\n",
    "model.timescale = pybamm.Scalar(8.52e-5 ** 2 /  D_e) "
   ]
  },
  {
   "cell_type": "code",
   "execution_count": 59,
   "metadata": {},
   "outputs": [],
   "source": [
    "model.rhs = {\n",
    "    c_e: \n",
    "    coffe1  * pybamm.div(pybamm.grad(c_e))\n",
    "    +coffe2 * pybamm.div(pybamm.grad(c_Ox))\n",
    "    + coffe3,\n",
    "\n",
    "    c_Ox:\n",
    "    coffOx1   * pybamm.div(pybamm.grad(c_e))\n",
    "    + coffOx2 * pybamm.div(pybamm.grad(c_Ox))\n",
    "    + coffOx3,\n",
    "} "
   ]
  },
  {
   "cell_type": "code",
   "execution_count": 60,
   "metadata": {},
   "outputs": [
    {
     "name": "stdout",
     "output_type": "stream",
     "text": [
      "concatenation(broadcast(3.75e-11), broadcast(9.666472986565472e-11), broadcast(5.816858043652089e-11))\n"
     ]
    }
   ],
   "source": [
    "print(coffe1)"
   ]
  },
  {
   "cell_type": "code",
   "execution_count": 61,
   "metadata": {},
   "outputs": [],
   "source": [
    "model.initial_conditions = {c_e: pybamm.Scalar(1000),c_Ox: pybamm.Scalar(4000)}\n",
    "\n",
    "model.boundary_conditions = {\n",
    "    c_e: {\"left\": (pybamm.Scalar(0), \"Neumann\"),\"right\": (pybamm.Scalar(0), \"Neumann\")},  \n",
    "    c_Ox:{\"left\": (pybamm.Scalar(0), \"Neumann\"),\"right\": (pybamm.Scalar(0), \"Neumann\")} }\n",
    "# define geometry\n",
    "x_n = pybamm.SpatialVariable(\n",
    "    \"x_n\", \n",
    "    domain=[\"negative elOxtrode\"], \n",
    "    coord_sys=\"cartesian\"\n",
    ")\n",
    "x_s = pybamm.SpatialVariable(\n",
    "    \"x_s\", \n",
    "    domain=[\"separator\"], \n",
    "    coord_sys=\"cartesian\"\n",
    ")\n",
    "x_p = pybamm.SpatialVariable(\n",
    "    \"x_p\", \n",
    "    domain=[\"positive elOxtrode\"], \n",
    "    coord_sys=\"cartesian\"\n",
    ")\n",
    "geometry = {\n",
    "    \"negative elOxtrode\": {x_n: {\"min\": pybamm.Scalar(0), \"max\": pybamm.Scalar(8.52e-5)}},\n",
    "    \"separator\":          {x_s: {\"min\": pybamm.Scalar(8.52e-5), \"max\": pybamm.Scalar(9.72e-5)}},\n",
    "    \"positive elOxtrode\": {x_p: {\"min\": pybamm.Scalar(9.72e-5), \"max\": pybamm.Scalar(17.28e-5)}},\n",
    "}\n",
    "# mesh and discretise ,\"separator\",\"positive elOxtrode\"\n",
    "submesh_types = {\n",
    "    \"negative elOxtrode\": pybamm.MeshGenerator(pybamm.Uniform1DSubMesh),\n",
    "    \"separator\": pybamm.MeshGenerator(pybamm.Uniform1DSubMesh),\n",
    "    \"positive elOxtrode\": pybamm.MeshGenerator(pybamm.Uniform1DSubMesh),\n",
    "}\n",
    "var_pts = {x_n: 30, x_s: 21, x_p: 30}\n",
    "mesh = pybamm.Mesh(geometry, submesh_types, var_pts)\n",
    "spatial_methods = {\n",
    "    \"negative elOxtrode\": pybamm.FiniteVolume(),\n",
    "    \"separator\": pybamm.FiniteVolume(),\n",
    "    \"positive elOxtrode\": pybamm.FiniteVolume(),\n",
    "}\n",
    "disc = pybamm.Discretisation(mesh, spatial_methods)\n",
    "disc.process_model(model);"
   ]
  },
  {
   "cell_type": "code",
   "execution_count": 62,
   "metadata": {},
   "outputs": [],
   "source": [
    "# solve\n",
    "solver = pybamm.ScipySolver()\n",
    "solution = solver.solve(model, [0,1])\n"
   ]
  },
  {
   "cell_type": "code",
   "execution_count": 63,
   "metadata": {},
   "outputs": [
    {
     "data": {
      "application/vnd.jupyter.widget-view+json": {
       "model_id": "7bf9fbcbfe2b4a2db837dca5b34366f4",
       "version_major": 2,
       "version_minor": 0
      },
      "text/plain": [
       "interactive(children=(FloatSlider(value=0.0, description='t', max=1.0, step=0.01), Output()), _dom_classes=('w…"
      ]
     },
     "metadata": {},
     "output_type": "display_data"
    },
    {
     "data": {
      "text/plain": [
       "<pybamm.plotting.quick_plot.QuickPlot at 0x214f001aa90>"
      ]
     },
     "execution_count": 63,
     "metadata": {},
     "output_type": "execute_result"
    }
   ],
   "source": [
    "pybamm.dynamic_plot(\n",
    "    solution,\n",
    "    [\n",
    "        \"Li+ concentration\",\n",
    "        \"Ox concentration\",\n",
    "    ],\n",
    ")"
   ]
  },
  {
   "cell_type": "code",
   "execution_count": null,
   "metadata": {},
   "outputs": [],
   "source": []
  }
 ],
 "metadata": {
  "kernelspec": {
   "display_name": "Python 3.9.6 ('envPBGEM')",
   "language": "python",
   "name": "python3"
  },
  "language_info": {
   "codemirror_mode": {
    "name": "ipython",
    "version": 3
   },
   "file_extension": ".py",
   "mimetype": "text/x-python",
   "name": "python",
   "nbconvert_exporter": "python",
   "pygments_lexer": "ipython3",
   "version": "3.9.6"
  },
  "orig_nbformat": 4,
  "vscode": {
   "interpreter": {
    "hash": "83fab7fbb3a8fe7b5910804f702478ef63e2cc6a08d85072a5d68865ed0fd8c7"
   }
  }
 },
 "nbformat": 4,
 "nbformat_minor": 2
}
