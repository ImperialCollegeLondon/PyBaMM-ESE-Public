{
 "cells": [
  {
   "cell_type": "code",
   "execution_count": 5,
   "metadata": {},
   "outputs": [],
   "source": [
    "import pybamm\n",
    "import numpy as np\n",
    "import matplotlib.pyplot as plt\n",
    "import pandas as pd   ;import numpy as np;import os;import matplotlib.pyplot as plt;import os;\n",
    "from scipy.io import savemat,loadmat;from pybamm import constants,exp;import matplotlib as mpl; fs=17; # or we can set import matplotlib.pyplot as plt then say 'mpl.rc...'\n",
    "for k in range(0,1):\n",
    "    mpl.rcParams[\"axes.labelsize\"] = fs\n",
    "    mpl.rcParams[\"axes.titlesize\"] = fs\n",
    "    mpl.rcParams[\"xtick.labelsize\"] =  fs\n",
    "    mpl.rcParams[\"ytick.labelsize\"] =  fs\n",
    "    mpl.rcParams[\"legend.fontsize\"] =  fs\n",
    "    mpl.rcParams['font.sans-serif'] = ['Times New Roman']\n",
    "    mpl.rcParams['font.serif'] = ['Times New Roman']\n",
    "    mpl.rcParams['axes.unicode_minus'] = False"
   ]
  },
  {
   "cell_type": "markdown",
   "metadata": {},
   "source": [
    "# conclusion: only Neg, work well with constant source boundary, constant initial condition, Andrew's three Diffusivities"
   ]
  },
  {
   "cell_type": "code",
   "execution_count": 6,
   "metadata": {},
   "outputs": [],
   "source": [
    "# Reference parameter - dimensional \n",
    "D_e     = 3e-10;    # Li+ diffusivity in m2/s\n",
    "D_EC    = 5e-10;    # EC  diffusivity in m2/s\n",
    "D_cross = -1.5e-9;  # Cross diffusivity in m2/s\n",
    "L_n = 1; \n",
    "def RunAdd_D(D_e,D_EC,D_cross,L_n,t_scale):\n",
    "        model = pybamm.BaseModel()\n",
    "        c_e_n  = pybamm.Variable(\"Li+ concentration in negative electrode\", domain=\"negative electrode\")\n",
    "        c_EC_n = pybamm.Variable(\"EC concentration in negative electrode\", domain=\"negative electrode\")\n",
    "\n",
    "        model.variables = {\"Li+ concentration in negative electrode\":c_e_n,\n",
    "        \"EC concentration in negative electrode\":c_EC_n,}\n",
    "        model.length_scales = {\"negative electrode\":L_n}\n",
    "        model.timescale = pybamm.Scalar(t_scale) \n",
    "        model.rhs = {\n",
    "                c_e_n: \n",
    "                D_e*pybamm.div(pybamm.grad(c_e_n))\n",
    "                + D_cross*pybamm.div(pybamm.grad(c_EC_n)),\n",
    "                #+ a_n*(1-t_0plus)*j_tot_n\n",
    "                #- a_n*(j_SEI_n*V_bar_EC+j_tot_n*V_bar_Li-0.5*j_SEI_n*V_bar_SEI)*c_init/F ,\n",
    "\n",
    "                c_EC_n:\n",
    "                D_cross*pybamm.div(pybamm.grad(c_e_n))\n",
    "                + D_EC*pybamm.div(pybamm.grad(c_EC_n)),\n",
    "                #+ (\n",
    "                #    a_n*trans_i*j_tot_n/F\n",
    "                #    +a_n* (1+trans_i)*j_SEI_n/F\n",
    "                #    -a_n*(j_SEI_n*V_bar_EC+j_tot_n*V_bar_Li-0.5*j_SEI_n*V_bar_SEI)*c_EC_init/F\n",
    "                #)\n",
    "        } \n",
    "        model.boundary_conditions = {\n",
    "        c_e_n: {\n",
    "                \"left\": (pybamm.Scalar(4.5e-11), \"Neumann\"),\n",
    "                \"right\": (pybamm.Scalar(4.5e-11), \"Neumann\")},  \n",
    "        c_EC_n:{\n",
    "                \"left\": (pybamm.Scalar(1.4e5), \"Neumann\"),\n",
    "                \"right\": (pybamm.Scalar(1.4e5), \"Neumann\")} }\n",
    "        # define geometry\n",
    "        x_n = pybamm.SpatialVariable(\n",
    "        \"x_n\", \n",
    "        domain=[\"negative electrode\"], \n",
    "        coord_sys=\"cartesian\"\n",
    "        )\n",
    "        model.initial_conditions = {\n",
    "                c_e_n: pybamm.Scalar(1000),\n",
    "                c_EC_n: pybamm.Scalar(4000)}\n",
    "        geometry = {\n",
    "        \"negative electrode\": {x_n: {\"min\": pybamm.Scalar(0), \"max\": pybamm.Scalar(L_n)}},\n",
    "        }\n",
    "        # mesh and discretise ,\"separator\",\"positive electrode\"\n",
    "        submesh_types = {\n",
    "        \"negative electrode\": pybamm.MeshGenerator(pybamm.Uniform1DSubMesh),\n",
    "        }\n",
    "        var_pts = {x_n: 100}\n",
    "        mesh = pybamm.Mesh(geometry, submesh_types, var_pts)\n",
    "        spatial_methods = {\n",
    "        \"negative electrode\": pybamm.FiniteVolume(),\n",
    "        }\n",
    "        disc = pybamm.Discretisation(mesh, spatial_methods)\n",
    "        disc.process_model(model);\n",
    "\n",
    "        # solve\n",
    "        solver = pybamm.ScipySolver()\n",
    "        #t = np.linspace(0, 1e10, 100)\n",
    "        solution = solver.solve(model, [0,t_scale*10])\n",
    "        pybamm.dynamic_plot(solution,[\n",
    "                \"Li+ concentration in negative electrode\",\n",
    "                \"EC concentration in negative electrode\",],)\n",
    "        return"
   ]
  },
  {
   "cell_type": "code",
   "execution_count": 7,
   "metadata": {},
   "outputs": [
    {
     "data": {
      "application/vnd.jupyter.widget-view+json": {
       "model_id": "0d938fe2047f4256bfeb8719f1e64b7e",
       "version_major": 2,
       "version_minor": 0
      },
      "text/plain": [
       "interactive(children=(FloatSlider(value=0.0, description='t', max=1777.7777777777778, step=17.77777777777778),…"
      ]
     },
     "metadata": {},
     "output_type": "display_data"
    }
   ],
   "source": [
    "D_e     = 3e-10;    # Li+ diffusivity in m2/s\n",
    "D_EC    = 5e-10;    # EC  diffusivity in m2/s\n",
    "D_cross = -1.5e-9;  # Cross diffusivity in m2/s \n",
    "D=1E-10\n",
    "L_n=8e-3; t_scale = L_n**2/D\n",
    "RunAdd_D(D_e,D_EC,D_cross,L_n,t_scale)"
   ]
  },
  {
   "cell_type": "code",
   "execution_count": 8,
   "metadata": {},
   "outputs": [
    {
     "name": "stdout",
     "output_type": "stream",
     "text": [
      "17777.777777777777\n"
     ]
    }
   ],
   "source": [
    "print(t_scale*100/3600)"
   ]
  },
  {
   "cell_type": "code",
   "execution_count": null,
   "metadata": {},
   "outputs": [],
   "source": []
  }
 ],
 "metadata": {
  "kernelspec": {
   "display_name": "Python 3.9.6 ('envPBGEM')",
   "language": "python",
   "name": "python3"
  },
  "language_info": {
   "codemirror_mode": {
    "name": "ipython",
    "version": 3
   },
   "file_extension": ".py",
   "mimetype": "text/x-python",
   "name": "python",
   "nbconvert_exporter": "python",
   "pygments_lexer": "ipython3",
   "version": "3.9.6"
  },
  "orig_nbformat": 4,
  "vscode": {
   "interpreter": {
    "hash": "83fab7fbb3a8fe7b5910804f702478ef63e2cc6a08d85072a5d68865ed0fd8c7"
   }
  }
 },
 "nbformat": 4,
 "nbformat_minor": 2
}
