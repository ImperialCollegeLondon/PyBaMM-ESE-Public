{
 "cells": [
  {
   "cell_type": "code",
   "execution_count": null,
   "metadata": {},
   "outputs": [],
   "source": [
    "# This file aims to debug the newly created solvent diffusion model with EC drag (add one submodel variable for EC concentration)"
   ]
  },
  {
   "cell_type": "code",
   "execution_count": 2,
   "metadata": {},
   "outputs": [],
   "source": [
    "import pybamm as pybamm;import pandas as pd   ;import numpy as np;import os;import matplotlib.pyplot as plt;import os;import imageio\n",
    "from scipy.io import savemat,loadmat;from pybamm import constants,exp;import matplotlib as mpl; fs=17; # or we can set import matplotlib.pyplot as plt then say 'mpl.rc...'\n",
    "for k in range(0,1):\n",
    "    mpl.rcParams[\"axes.labelsize\"] = fs\n",
    "    mpl.rcParams[\"axes.titlesize\"] = fs\n",
    "    mpl.rcParams[\"xtick.labelsize\"] =  fs\n",
    "    mpl.rcParams[\"ytick.labelsize\"] =  fs\n",
    "    mpl.rcParams[\"legend.fontsize\"] =  fs\n",
    "    mpl.rcParams['font.sans-serif'] = ['Times New Roman']\n",
    "    mpl.rcParams['font.serif'] = ['Times New Roman']\n",
    "    mpl.rcParams['axes.unicode_minus'] = False"
   ]
  },
  {
   "cell_type": "code",
   "execution_count": 3,
   "metadata": {},
   "outputs": [
    {
     "name": "stdout",
     "output_type": "stream",
     "text": [
      "1.3e-05\n"
     ]
    }
   ],
   "source": [
    "Model_0  = pybamm.lithium_ion.DFN()\n",
    "ChemistryChen=pybamm.parameter_sets.Chen2020   # Ren2018  Chen2020_plating\n",
    "param=pybamm.ParameterValues(chemistry=ChemistryChen);\n",
    "\n",
    "EC_ratio_Rio   = param.evaluate(Model_0.param.EC_ratio_Rio)\n",
    "gamma_e_EC_Rio = param.evaluate(Model_0.param.gamma_e_EC_Rio)\n",
    "tau_discharge  = param.evaluate(Model_0.param.tau_discharge)\n",
    "tau_EC_Rio     = param.evaluate(Model_0.param.tau_EC_Rio)\n",
    "Xi             = param.evaluate(Model_0.param.Xi )\n",
    "Vmolar_Li      = param.evaluate(Model_0.param.Vmolar_Li )\n",
    "c_ec_0_dim     = param.evaluate(Model_0.param.c_ec_0_dim )\n",
    "gamma_e        = param.evaluate(Model_0.param.c_ec_0_dim )\n",
    "Vmolar_EC      = param.evaluate(Model_0.param.Vmolar_EC )\n",
    "Vmolar_CH2OCO2Li2 = param.evaluate(Model_0.param.Vmolar_CH2OCO2Li2 )\n",
    "c_e_init_dimensional = param.evaluate(Model_0.param.c_e_init_dimensional )\n",
    "C_e          = param.evaluate(Model_0.param.C_e )\n",
    "e_ratio_Rio  = param.evaluate(Model_0.param.e_ratio_Rio )\n",
    "tau_cross_Rio= param.evaluate(Model_0.param.tau_cross_Rio ) \n",
    "D_EC_Li_cross= param.evaluate(Model_0.param.D_EC_Li_cross ) \n",
    "print(Vmolar_Li )"
   ]
  },
  {
   "cell_type": "code",
   "execution_count": null,
   "metadata": {},
   "outputs": [],
   "source": [
    "# variables\n",
    "tor = variables[\"Electrolyte tortuosity\"]\n",
    "\n",
    "T = variables[\"Cell temperature\"]\n",
    "eps_n = variables[\"Negative electrode porosity\"]\n",
    "\n",
    "sum_s_j = variables[\"Sum of electrolyte reaction source terms\"]\n",
    "sum_s_j.print_name = \"a\"\n",
    "source_terms = sum_s_j /gamma_e\n",
    "\n",
    "\n",
    "j_inner =  variables[\"Inner SEI interfacial current density\"]\n",
    "j_outer =  variables[\"Outer SEI interfacial current density\"]\n",
    "a_n = variables[\"Negative electrode surface area to volume ratio\"]\n",
    "j_SEI = j_inner + j_outer"
   ]
  },
  {
   "cell_type": "code",
   "execution_count": null,
   "metadata": {},
   "outputs": [],
   "source": []
  },
  {
   "cell_type": "code",
   "execution_count": 4,
   "metadata": {},
   "outputs": [],
   "source": [
    "x = pybamm.SpatialVariable(\"x\", domain=[\"negative electrode\"], coord_sys=\"cartesian\")\n",
    "def GetT(x):\n",
    "    return 25; \n",
    "def Getsum_s_j(x):\n",
    "    return (25)*1e-5;  \n",
    "def Gettor(x):\n",
    "    return (25)*0.05;\n",
    "def Geteps_n(x):\n",
    "    return 0.37;\n",
    "def Geta_n(x):\n",
    "    return 1e5;\n",
    "def Getj_SEI(x):\n",
    "    return (25)*5e-5;\n",
    "def Getdiv_Vbox(x):\n",
    "    return 0\n",
    "def Getsign_2_n(x):\n",
    "    return 1\n",
    "\n",
    "div_Vbox = Getdiv_Vbox(x)\n",
    "T = GetT(x)\n",
    "sum_s_j = Getsum_s_j(x)\n",
    "tor = Gettor(x)\n",
    "eps_n = Geteps_n(x)\n",
    "a_n = Geta_n(x)\n",
    "j_SEI = Getj_SEI(x)\n",
    "source_terms = sum_s_j /gamma_e\n",
    "sign_2_n = Getsign_2_n(x)\n"
   ]
  },
  {
   "cell_type": "code",
   "execution_count": 5,
   "metadata": {},
   "outputs": [],
   "source": [
    "# constant definition\n",
    "D_e = 3e-10; D_EC = 5e-10; t_0plus = 0.3; trans_i = -1.4;  D_cross = -1.5e-9; i_app = 4.8;   F = 9.6E4;\n",
    "c_init = 1000; c_EC_init= 4000; c_tot_init = 6000; "
   ]
  },
  {
   "cell_type": "code",
   "execution_count": 13,
   "metadata": {},
   "outputs": [],
   "source": [
    "model = pybamm.BaseModel()\n",
    "\n",
    "\n",
    "eps_c_e  = pybamm.Variable(\"porosity times Li+ Concentration\", domain=\"negative electrode\" )\n",
    "eps_c_EC = pybamm.Variable(\"porosity times EC Concentration\", domain=\"negative electrode\" )\n",
    "\n",
    "c_e  = eps_c_e /eps_n; # c_e = variables[\"Electrolyte concentration\"]\n",
    "c_EC = eps_c_EC/eps_n; \n",
    "\n",
    "\n",
    "\"\"\" model.rhs = {\n",
    "    eps_c_e: -pybamm.div(-tor * D_e * pybamm.grad(c_e)) / C_e \n",
    "            + e_ratio_Rio * gamma_e_EC_Rio * tau_discharge \n",
    "            / tau_cross_Rio * pybamm.div(tor * D_EC_Li_cross * pybamm.grad(c_EC))\n",
    "            + ( 1- t_0plus )  * source_terms \n",
    "            -  sign_2_n * (    c_e_init_dimensional * Vmolar_Li   * source_terms         )\n",
    "            -  (    c_e_init_dimensional / gamma_e * (\n",
    "                Vmolar_EC-0.5*Vmolar_CH2OCO2Li2) * a_n * j_SEI )\n",
    "            - c_e * div_Vbox ,\n",
    "    eps_c_EC:(\n",
    "                EC_ratio_Rio / gamma_e_EC_Rio * tau_discharge  / \n",
    "                tau_cross_Rio * pybamm.div(tor * D_EC_Li_cross * pybamm.grad(c_e))\n",
    "                )\n",
    "            + tau_discharge  / tau_EC_Rio * pybamm.div(tor * D_EC * pybamm.grad(c_EC))\n",
    "            + sign_2_n * (  source_terms / gamma_e / gamma_e_EC_Rio * ( \n",
    "                Xi - Vmolar_Li * c_ec_0_dim )   \n",
    "                )\n",
    "            +  (  \n",
    "                a_n * j_SEI /  gamma_e / gamma_e_EC_Rio *   \n",
    "                ( 1 - Vmolar_EC*c_ec_0_dim - 0.5*Vmolar_CH2OCO2Li2*c_ec_0_dim ) \n",
    "                )\n",
    "    }  \"\"\"\n",
    "\n",
    "model.rhs = {\n",
    "    eps_c_e: -pybamm.div(-tor * D_e * pybamm.grad(c_e)) / C_e \n",
    "            + e_ratio_Rio * gamma_e_EC_Rio * tau_discharge \n",
    "            / tau_cross_Rio * pybamm.div(tor * D_EC_Li_cross * pybamm.grad(c_EC))\n",
    "            ,\n",
    "    eps_c_EC:\n",
    "            tau_discharge  / tau_EC_Rio * pybamm.div(tor * D_EC * pybamm.grad(c_EC))\n",
    "    } \n",
    "\n",
    "# initial conditions\n",
    "model.initial_conditions = {eps_c_e: pybamm.Scalar(370),eps_c_EC: pybamm.Scalar(1120)}\n",
    "# boundary conditions\n",
    "\n",
    "# calculate for boundary conditions:\n",
    "a1 = D_e;                               b1 = D_cross * (c_init/c_tot_init);   c1 = -(1-t_0plus)*i_app/F;\n",
    "a2 = D_cross * (c_EC_init/c_tot_init);  b2 = D_EC;                            c2 = -trans_i*i_app/F;\n",
    "y_temp = (c2 - a2/a1*c1) / (b2 - a2/a1*b1);   x_temp = (c1 - b1*y_temp) / a1\n",
    "\n",
    "\n",
    "model.boundary_conditions = {\n",
    "    c_e: {\n",
    "        \"left\": (pybamm.Scalar(1e-3), \"Neumann\"),\"right\": (pybamm.Scalar(1e-3), \"Neumann\")},  \n",
    "    c_EC: {\n",
    "        \"left\": (pybamm.Scalar(1e-3), \"Neumann\"),\"right\": (pybamm.Scalar(1e-3), \"Neumann\")} }\n",
    "model.variables = {\n",
    "    \"porosity times Li+ Concentration\": eps_c_e, \n",
    "    \"porosity times EC Concentration\": eps_c_EC, }\n",
    "# define geometry\n",
    "\"\"\" x = pybamm.SpatialVariable(\n",
    "    \"x\", domain=[\"negative electrode\"], coord_sys=\"cartesian\"\n",
    ") \"\"\"\n",
    "geometry = {\"negative electrode\": {x: {\"min\": pybamm.Scalar(0), \"max\": pybamm.Scalar(8e-3)}}}\n",
    "# mesh and discretise\n",
    "submesh_types = {\"negative electrode\": pybamm.MeshGenerator(pybamm.Uniform1DSubMesh)}\n",
    "var_pts = {x: 100}\n",
    "mesh = pybamm.Mesh(geometry, submesh_types, var_pts)\n",
    "spatial_methods = {\"negative electrode\": pybamm.FiniteVolume()}\n",
    "disc = pybamm.Discretisation(mesh, spatial_methods)\n",
    "disc.process_model(model);"
   ]
  },
  {
   "cell_type": "code",
   "execution_count": null,
   "metadata": {},
   "outputs": [],
   "source": [
    "RHS=model.rhs # 这里有很多个\n",
    "RHS[list(RHS.keys())[1]].render()\n",
    "\n"
   ]
  },
  {
   "cell_type": "code",
   "execution_count": 14,
   "metadata": {},
   "outputs": [
    {
     "name": "stderr",
     "output_type": "stream",
     "text": [
      "2022-07-13 19:11:31,425 - [WARNING] processed_variable.get_spatial_scale(520): No length scale set for negative electrode. Using default of 1 [m].\n",
      "2022-07-13 19:11:31,437 - [WARNING] processed_variable.get_spatial_scale(520): No length scale set for negative electrode. Using default of 1 [m].\n"
     ]
    }
   ],
   "source": [
    "# solve\n",
    "solver = pybamm.ScipySolver()  #  method='BDF'\n",
    "t = np.linspace(0, 100, 100)\n",
    "solution = solver.solve(model, t)\n",
    "\n",
    "# post-process, so that the solution can be called at any time t or space r\n",
    "# (using interpolation)\n",
    "eps_c_e = solution[\"porosity times Li+ Concentration\"].entries;  \n",
    "eps_c_EC = solution[\"porosity times EC Concentration\"].entries;\n"
   ]
  },
  {
   "cell_type": "code",
   "execution_count": 15,
   "metadata": {},
   "outputs": [
    {
     "name": "stdout",
     "output_type": "stream",
     "text": [
      "[[  370.          1001.68234704  1264.54559041 ...  2440.21249991\n",
      "   2420.12739457  2400.16599377]\n",
      " [  370.           988.24733851  1254.99861249 ...  2438.16917903\n",
      "   2418.10276211  2398.16202897]\n",
      " [  370.           962.41085547  1236.27475643 ...  2434.08356582\n",
      "   2414.05571915  2394.15609711]\n",
      " ...\n",
      " [  370.          -222.40967811  -496.26656976 ... -1694.55893339\n",
      "  -1674.5346423  -1654.6351847 ]\n",
      " [  370.          -248.24188047  -514.9870338  ... -1698.64297397\n",
      "  -1678.57813631 -1658.64148734]\n",
      " [  370.          -261.67680404  -524.53356148 ... -1700.68593841\n",
      "  -1680.60546459 -1660.64529274]]\n",
      "[[1120.         1119.99999978 1119.99999968 ... 1119.99999854\n",
      "  1119.99999854 1119.99999854]\n",
      " [1120.         1119.9999998  1119.99999971 ... 1119.99999857\n",
      "  1119.99999857 1119.99999857]\n",
      " [1120.         1119.99999983 1119.99999973 ... 1119.9999986\n",
      "  1119.9999986  1119.9999986 ]\n",
      " ...\n",
      " [1120.         1120.00000017 1120.00000027 ... 1120.0000014\n",
      "  1120.0000014  1120.0000014 ]\n",
      " [1120.         1120.0000002  1120.00000029 ... 1120.00000143\n",
      "  1120.00000143 1120.00000143]\n",
      " [1120.         1120.00000022 1120.00000032 ... 1120.00000146\n",
      "  1120.00000146 1120.00000146]]\n"
     ]
    }
   ],
   "source": [
    "print(eps_c_e)\n",
    "print(eps_c_EC)"
   ]
  },
  {
   "cell_type": "code",
   "execution_count": null,
   "metadata": {},
   "outputs": [],
   "source": [
    "# solve\n",
    "solver = pybamm.ScipySolver()\n",
    "t = np.linspace(0, 100, 100)\n",
    "solution = solver.solve(model, t)\n",
    "\n",
    "# post-process, so that the solution can be called at any time t or space r\n",
    "# (using interpolation)\n",
    "eps_c_e = solution[\"Li+ Concentration\"];  eps_c_EC = solution[\"EC Concentration\"];\n",
    "\n",
    "# plot\n",
    "fig, (ax1, ax2) = plt.subplots(1, 2, figsize=(13, 5))\n",
    "x= np.linspace(0, 8e-3, 100)\n",
    "ax1.plot(x, eps_c_EC(t=0.01, x=x))\n",
    "ax1.plot(x, eps_c_EC(t=10, x=x))\n",
    "ax1.plot(x, eps_c_EC(t=60, x=x))\n",
    "ax1.plot(x, eps_c_EC(t=80, x=x))\n",
    "ax1.plot(x, eps_c_EC(t=100, x=x))\n",
    "ax1.set_xlabel(\"x\")\n",
    "ax1.set_ylabel(\"Concentration\")\n",
    "ax1.set_title(\"EC Concentration\")\n",
    "\n",
    "\n",
    "ax2.plot(x, eps_c_e(t=0.01, x=x))\n",
    "ax2.plot(x, eps_c_e(t=10, x=x))\n",
    "ax2.plot(x, eps_c_e(t=60, x=x))\n",
    "ax2.plot(x, eps_c_e(t=80, x=x))\n",
    "ax2.plot(x, eps_c_e(t=100, x=x))\n",
    "ax2.set_xlabel(\"x\")\n",
    "ax2.set_ylabel(\"Concentration\")\n",
    "ax2.set_title(\"Li+ Concentration\")\n",
    "plt.tight_layout()\n",
    "plt.show()"
   ]
  },
  {
   "cell_type": "code",
   "execution_count": null,
   "metadata": {},
   "outputs": [],
   "source": []
  },
  {
   "cell_type": "code",
   "execution_count": null,
   "metadata": {},
   "outputs": [],
   "source": []
  },
  {
   "cell_type": "code",
   "execution_count": null,
   "metadata": {},
   "outputs": [],
   "source": [
    "# Global setting Niall's result:\n",
    "#Total_Cycles = 1170; Cycle_bt_RPT = 78; Update_Cycles = 78;  Small_Loop =  int(Cycle_bt_RPT/Update_Cycles);   SaveTimes = int(Total_Cycles/Cycle_bt_RPT);   RPT_Cycles = 1; \n",
    "\n",
    "# Special cases for Non-dry-out model:\n",
    "#Total_Cycles_NonDry = 1170-78;   SaveTimes_NonDry = int(Total_Cycles_NonDry/Cycle_bt_RPT);  \n",
    "\n",
    "#Real_SaveAs_Cycles = 1 # Set this to use it in real experiment so that can really get capacity throughput!\n",
    "V_max = 4.2;        V_min = 2.5;\n",
    "cs_Neg_Init = 28920; Diff_SEI = 1.700000000000002e-20;    R_SEI = 2E5;   Bulk_Sol_Con = 4541.0;\n",
    "Experiment_Long   = pybamm.Experiment( [ (f\"Discharge at 1 C until {V_min} V\", f\"Charge at 0.3 C until {V_max} V\", f\"Hold at {V_max} V until C/5\")    ] * 1 )  \n",
    "Experiment_RPT    = pybamm.Experiment( [ (f\"Discharge at 0.1 C until {V_min} V\",  \"Rest for 6 hours\",  f\"Charge at 0.1 C until {V_max} V\" ) ] * 1 ) \n",
    "Experiment_Breakin= pybamm.Experiment( [ (f\"Discharge at 0.2 C until {V_min} V\",\"Rest for 4 hours\",f\"Charge at 0.2 C until {V_max} V\" , f\"Hold at {V_max} V until C/100\",\"Rest for 2 hours\") *5 + ( f\"Discharge at 0.1 C until {V_min} V\",  \"Rest for 6 hours\",  f\"Charge at 0.1 C until {V_max} V\" ) *1 ] )\n",
    "#BasicPath = 'D:/OneDrive - Imperial College London/PhD Study/Imperial Study/Model/Pybamm Learning/SimDataSave/SolConsumed/';\n",
    "#Target = 'Test 20-6 Update=78/';\n",
    "#if not os.path.exists(BasicPath + Target):\n",
    "#    os.mkdir(BasicPath + Target);\n"
   ]
  },
  {
   "cell_type": "code",
   "execution_count": null,
   "metadata": {},
   "outputs": [],
   "source": [
    "# Run model without electrolyte dry out\n",
    "ChemistryChen=pybamm.parameter_sets.Chen2020  # Ren2018  Chen2020_plating\n",
    "Para_0=pybamm.ParameterValues(chemistry=ChemistryChen);\n",
    "Para_0.update({'SEI resistivity [Ohm.m]':R_SEI}) ;\n",
    "Para_0.update({'Outer SEI solvent diffusivity [m2.s-1]':Diff_SEI});  \n",
    "Para_0.update({'Bulk solvent concentration [mol.m-3]':Bulk_Sol_Con});\n",
    "Para_0.update({'Initial concentration in negative electrode [mol.m-3]':cs_Neg_Init }) # \n",
    "Sol_NonDry=[];  Model_NonDry=[];\n",
    "# First Cycle \n",
    "Model_0  = pybamm.lithium_ion.DFN() # options={\"SEI\": \"interstitial-diffusion limited\",\"SEI film resistance\": \"distributed\",\"SEI porosity change\": \"true\" ,\"lithium plating\": \"irreversible\",\"lithium plating porosity change\": \"true\"}\n",
    "Sim_0    = pybamm.Simulation(Model_0, experiment = Experiment_Long,parameter_values = Para_0,solver = pybamm.CasadiSolver(),)       \n",
    "Sol_0    = Sim_0.solve();"
   ]
  },
  {
   "cell_type": "code",
   "execution_count": null,
   "metadata": {},
   "outputs": [],
   "source": [
    "Model_0.options"
   ]
  },
  {
   "cell_type": "code",
   "execution_count": null,
   "metadata": {},
   "outputs": [],
   "source": [
    "quick_plot = pybamm.QuickPlot(Sol_0) #     \n",
    "quick_plot.dynamic_plot();\n"
   ]
  },
  {
   "cell_type": "code",
   "execution_count": null,
   "metadata": {},
   "outputs": [],
   "source": [
    "\"\"\"Check that the model is not under- or over-determined.\"\"\"\n",
    "# Equations (differential and algebraic)\n",
    "# Get all the variables from differential and algebraic equations\n",
    "vars_in_rhs_keys = set()\n",
    "vars_in_algebraic_keys = set()\n",
    "vars_in_eqns = set()\n",
    "# Get all variables ids from rhs and algebraic keys and equations, and\n",
    "# from boundary conditions\n",
    "# For equations we look through the whole expression tree.\n",
    "# \"Variables\" can be Concatenations so we also have to look in the whole\n",
    "# expression tree\n",
    "unpacker = pybamm.SymbolUnpacker((pybamm.Variable, pybamm.VariableDot))\n",
    "\n",
    "for var, eqn in Model_0.rhs.items():\n",
    "    # Find all variables and variabledot objects\n",
    "    vars_in_rhs_keys_dict = unpacker.unpack_symbol(var)\n",
    "    vars_in_eqns_dict = unpacker.unpack_symbol(eqn)\n",
    "\n",
    "    # Store ids only\n",
    "    # Look only for Variable (not VariableDot) in rhs keys\n",
    "    vars_in_rhs_keys.update(\n",
    "        [\n",
    "            var_id\n",
    "            for var_id, var in vars_in_rhs_keys_dict.items()\n",
    "            if isinstance(var, pybamm.Variable)\n",
    "        ]\n",
    "    )\n",
    "    vars_in_eqns.update(vars_in_eqns_dict.keys())\n",
    "for var, eqn in Model_0.algebraic.items():\n",
    "    # Find all variables and variabledot objects\n",
    "    vars_in_algebraic_keys_dict = unpacker.unpack_symbol(var)\n",
    "    vars_in_eqns_dict = unpacker.unpack_symbol(eqn)\n",
    "\n",
    "    # Store ids only\n",
    "    # Look only for Variable (not VariableDot) in algebraic keys\n",
    "    vars_in_algebraic_keys.update(\n",
    "        [\n",
    "            var_id\n",
    "            for var_id, var in vars_in_algebraic_keys_dict.items()\n",
    "            if isinstance(var, pybamm.Variable)\n",
    "        ]\n",
    "    )\n",
    "    vars_in_eqns.update(vars_in_eqns_dict.keys())\n",
    "for var, side_eqn in Model_0.boundary_conditions.items():\n",
    "    for side, (eqn, typ) in side_eqn.items():\n",
    "        vars_in_eqns_dict = unpacker.unpack_symbol(eqn)\n",
    "        vars_in_eqns.update(vars_in_eqns_dict.keys())\n",
    "\n",
    "# If any keys are repeated between rhs and algebraic then the model is\n",
    "# overdetermined\n",
    "if not set(vars_in_rhs_keys).isdisjoint(vars_in_algebraic_keys):\n",
    "    print(\"model is overdetermined (repeated keys)\")\n",
    "# If any algebraic keys don't appear in the eqns (or bcs) then the model is\n",
    "# overdetermined (but rhs keys can be absent from the eqns, e.g. dcdt = -1 is\n",
    "# fine)\n",
    "# Skip this step after discretisation, as any variables in the equations will\n",
    "# have been discretised to slices but keys will still be variables\n",
    "extra_algebraic_keys = vars_in_algebraic_keys.difference(vars_in_eqns)\n",
    "# If any variables in the equations don't appear in the keys then the model is\n",
    "# underdetermined\n",
    "vars_in_keys = vars_in_rhs_keys.union(vars_in_algebraic_keys)\n",
    "extra_variables_in_equations = vars_in_eqns.difference(vars_in_keys)\n",
    "\n",
    "# get ids of external variables\n",
    "external_ids = {var.id for var in Model_0.external_variables}\n",
    "for var in Model_0.external_variables:\n",
    "    if isinstance(var, pybamm.Concatenation):\n",
    "        child_ids = {child.id for child in var.children}\n",
    "        external_ids = external_ids.union(child_ids)\n",
    "\n",
    "extra_variables = extra_variables_in_equations.difference(external_ids)\n",
    "\n",
    "if extra_variables:\n",
    "    print(\"model is underdetermined (too many variables)\")\n"
   ]
  },
  {
   "cell_type": "code",
   "execution_count": null,
   "metadata": {},
   "outputs": [],
   "source": [
    "for var, eqn in Model_0.rhs.items():\n",
    "    # Find all variables and variabledot objects\n",
    "    vars_in_rhs_keys_dict = unpacker.unpack_symbol(var)\n",
    "    vars_in_eqns_dict = unpacker.unpack_symbol(eqn)\n",
    "    print(vars_in_eqns_dict)\n",
    "    print(vars_in_rhs_keys_dict)\n",
    "    print('z')"
   ]
  },
  {
   "cell_type": "code",
   "execution_count": null,
   "metadata": {},
   "outputs": [],
   "source": [
    "for var in Model_0.external_variables:\n",
    "    print(var)"
   ]
  },
  {
   "cell_type": "code",
   "execution_count": null,
   "metadata": {},
   "outputs": [],
   "source": [
    "print(Model_0.variable_names)\n",
    "for key in Model_0._variables.keys():\n",
    "    print(key)"
   ]
  },
  {
   "cell_type": "code",
   "execution_count": null,
   "metadata": {},
   "outputs": [],
   "source": [
    "#print(Model_0.rhs.items())\n",
    "for var, eqn in Model_0.rhs.items():\n",
    "    print(var)\n",
    "    #print(eqn)\n"
   ]
  },
  {
   "cell_type": "code",
   "execution_count": null,
   "metadata": {},
   "outputs": [],
   "source": [
    "for var, eqn in Model_0.algebraic.items():\n",
    "    print(var)"
   ]
  },
  {
   "cell_type": "code",
   "execution_count": null,
   "metadata": {},
   "outputs": [],
   "source": [
    "print(extra_variables_in_equations)\n",
    "print(extra_variables)\n",
    "print(external_ids)"
   ]
  },
  {
   "cell_type": "code",
   "execution_count": null,
   "metadata": {},
   "outputs": [],
   "source": [
    "Model_0.submodels"
   ]
  }
 ],
 "metadata": {
  "kernelspec": {
   "display_name": "Python 3.9.6 ('envSolCon')",
   "language": "python",
   "name": "python3"
  },
  "language_info": {
   "codemirror_mode": {
    "name": "ipython",
    "version": 3
   },
   "file_extension": ".py",
   "mimetype": "text/x-python",
   "name": "python",
   "nbconvert_exporter": "python",
   "pygments_lexer": "ipython3",
   "version": "3.9.6"
  },
  "orig_nbformat": 4,
  "vscode": {
   "interpreter": {
    "hash": "5ae0c684446e40f7574a1a9821257f2365ba43f34c15f5f2e3dcabca0bad9ab7"
   }
  }
 },
 "nbformat": 4,
 "nbformat_minor": 2
}
