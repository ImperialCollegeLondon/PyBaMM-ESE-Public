{
 "cells": [
  {
   "cell_type": "code",
   "execution_count": 2,
   "metadata": {},
   "outputs": [],
   "source": [
    "import pybamm as pb\n",
    "import numpy as np\n",
    "import matplotlib.pyplot as plt\n",
    "import pandas as pd   ;import numpy as np;import os;import matplotlib.pyplot as plt;import os;\n",
    "from scipy.io import savemat,loadmat;from pybamm import constants,exp;import matplotlib as mpl; fs=17; # or we can set import matplotlib.pyplot as plt then say 'mpl.rc...'\n",
    "for k in range(0,1):\n",
    "    mpl.rcParams[\"axes.labelsize\"] = fs\n",
    "    mpl.rcParams[\"axes.titlesize\"] = fs\n",
    "    mpl.rcParams[\"xtick.labelsize\"] =  fs\n",
    "    mpl.rcParams[\"ytick.labelsize\"] =  fs\n",
    "    mpl.rcParams[\"legend.fontsize\"] =  fs\n",
    "    mpl.rcParams['font.sans-serif'] = ['Times New Roman']\n",
    "    mpl.rcParams['font.serif'] = ['Times New Roman']\n",
    "    mpl.rcParams['axes.unicode_minus'] = False"
   ]
  },
  {
   "cell_type": "code",
   "execution_count": 4,
   "metadata": {},
   "outputs": [],
   "source": [
    "ChemistryChen=pb.parameter_sets.Chen2020  # Ren2018  Chen2020_plating\n",
    "Para_0=pb.ParameterValues(chemistry=ChemistryChen);\n",
    "Model_0  = pb.lithium_ion.DFN() "
   ]
  },
  {
   "cell_type": "code",
   "execution_count": 5,
   "metadata": {},
   "outputs": [
    {
     "ename": "AttributeError",
     "evalue": "'LithiumIonParameters' object has no attribute 'EC_ratio_Rio'",
     "output_type": "error",
     "traceback": [
      "\u001b[1;31m---------------------------------------------------------------------------\u001b[0m",
      "\u001b[1;31mAttributeError\u001b[0m                            Traceback (most recent call last)",
      "\u001b[1;32md:\\GitPyBaMM\\LRH_409\\LRH_409\\envPBGEM\\PyBaMM-GEM\\wip\\Rio_Code\\P3_R0\\Standalone_eqs_cp_from_core.ipynb Cell 3\u001b[0m in \u001b[0;36m<cell line: 63>\u001b[1;34m()\u001b[0m\n\u001b[0;32m     <a href='vscode-notebook-cell:/d%3A/GitPyBaMM/LRH_409/LRH_409/envPBGEM/PyBaMM-GEM/wip/Rio_Code/P3_R0/Standalone_eqs_cp_from_core.ipynb#W1sZmlsZQ%3D%3D?line=59'>60</a>\u001b[0m a_p \u001b[39m=\u001b[39m \u001b[39m3\u001b[39m\u001b[39m*\u001b[39m epislon_p \u001b[39m/\u001b[39m R_p    \u001b[39m# Neg Specific surface area\u001b[39;00m\n\u001b[0;32m     <a href='vscode-notebook-cell:/d%3A/GitPyBaMM/LRH_409/LRH_409/envPBGEM/PyBaMM-GEM/wip/Rio_Code/P3_R0/Standalone_eqs_cp_from_core.ipynb#W1sZmlsZQ%3D%3D?line=60'>61</a>\u001b[0m zero_s \u001b[39m=\u001b[39m pb\u001b[39m.\u001b[39mFullBroadcast(\u001b[39m0\u001b[39m, \u001b[39m\"\u001b[39m\u001b[39mseparator\u001b[39m\u001b[39m\"\u001b[39m)\n\u001b[1;32m---> <a href='vscode-notebook-cell:/d%3A/GitPyBaMM/LRH_409/LRH_409/envPBGEM/PyBaMM-GEM/wip/Rio_Code/P3_R0/Standalone_eqs_cp_from_core.ipynb#W1sZmlsZQ%3D%3D?line=62'>63</a>\u001b[0m EC_ratio_Rio \u001b[39m=\u001b[39m  Para_0\u001b[39m.\u001b[39mevaluate(Model_0\u001b[39m.\u001b[39;49mparam\u001b[39m.\u001b[39;49mEC_ratio_Rio)  \n\u001b[0;32m     <a href='vscode-notebook-cell:/d%3A/GitPyBaMM/LRH_409/LRH_409/envPBGEM/PyBaMM-GEM/wip/Rio_Code/P3_R0/Standalone_eqs_cp_from_core.ipynb#W1sZmlsZQ%3D%3D?line=63'>64</a>\u001b[0m gamma_e_EC_Rio \u001b[39m=\u001b[39m Para_0\u001b[39m.\u001b[39mevaluate(Model_0\u001b[39m.\u001b[39mparam\u001b[39m.\u001b[39mgamma_e_EC_Rio)  \n\u001b[0;32m     <a href='vscode-notebook-cell:/d%3A/GitPyBaMM/LRH_409/LRH_409/envPBGEM/PyBaMM-GEM/wip/Rio_Code/P3_R0/Standalone_eqs_cp_from_core.ipynb#W1sZmlsZQ%3D%3D?line=64'>65</a>\u001b[0m tau_discharge \u001b[39m=\u001b[39m Para_0\u001b[39m.\u001b[39mevaluate(Model_0\u001b[39m.\u001b[39mparam\u001b[39m.\u001b[39mtau_discharge)  \n",
      "File \u001b[1;32md:\\gitpybamm\\lrh_409\\lrh_409\\envpbgem\\pybamm-gem\\pybamm\\parameters\\base_parameters.py:29\u001b[0m, in \u001b[0;36mBaseParameters.__getattribute__\u001b[1;34m(self, name)\u001b[0m\n\u001b[0;32m     22\u001b[0m         name_without_domain \u001b[39m=\u001b[39m name\u001b[39m.\u001b[39mreplace(\u001b[39mf\u001b[39m\u001b[39m\"\u001b[39m\u001b[39m_\u001b[39m\u001b[39m{\u001b[39;00mdomain\u001b[39m}\u001b[39;00m\u001b[39m_\u001b[39m\u001b[39m\"\u001b[39m, \u001b[39m\"\u001b[39m\u001b[39m_\u001b[39m\u001b[39m\"\u001b[39m)\u001b[39m.\u001b[39mreplace(\n\u001b[0;32m     23\u001b[0m             \u001b[39mf\u001b[39m\u001b[39m\"\u001b[39m\u001b[39m_\u001b[39m\u001b[39m{\u001b[39;00mdomain\u001b[39m}\u001b[39;00m\u001b[39m\"\u001b[39m, \u001b[39m\"\u001b[39m\u001b[39m\"\u001b[39m\n\u001b[0;32m     24\u001b[0m         )\n\u001b[0;32m     25\u001b[0m         \u001b[39mraise\u001b[39;00m \u001b[39mAttributeError\u001b[39;00m(\n\u001b[0;32m     26\u001b[0m             \u001b[39mf\u001b[39m\u001b[39m\"\u001b[39m\u001b[39mparam.\u001b[39m\u001b[39m{\u001b[39;00mname\u001b[39m}\u001b[39;00m\u001b[39m does not exist. It may have been renamed to \u001b[39m\u001b[39m\"\u001b[39m\n\u001b[0;32m     27\u001b[0m             \u001b[39mf\u001b[39m\u001b[39m\"\u001b[39m\u001b[39mparam.\u001b[39m\u001b[39m{\u001b[39;00mdomain\u001b[39m}\u001b[39;00m\u001b[39m.\u001b[39m\u001b[39m{\u001b[39;00mname_without_domain\u001b[39m}\u001b[39;00m\u001b[39m\"\u001b[39m\n\u001b[0;32m     28\u001b[0m         )\n\u001b[1;32m---> 29\u001b[0m \u001b[39mraise\u001b[39;00m e\n",
      "File \u001b[1;32md:\\gitpybamm\\lrh_409\\lrh_409\\envpbgem\\pybamm-gem\\pybamm\\parameters\\base_parameters.py:18\u001b[0m, in \u001b[0;36mBaseParameters.__getattribute__\u001b[1;34m(self, name)\u001b[0m\n\u001b[0;32m     13\u001b[0m \u001b[39m\"\"\"\u001b[39;00m\n\u001b[0;32m     14\u001b[0m \u001b[39mRaise more informative error to users when they try to access a\u001b[39;00m\n\u001b[0;32m     15\u001b[0m \u001b[39mnon-existent attribute, which may have recently changed name\u001b[39;00m\n\u001b[0;32m     16\u001b[0m \u001b[39m\"\"\"\u001b[39;00m\n\u001b[0;32m     17\u001b[0m \u001b[39mtry\u001b[39;00m:\n\u001b[1;32m---> 18\u001b[0m     \u001b[39mreturn\u001b[39;00m \u001b[39msuper\u001b[39;49m()\u001b[39m.\u001b[39;49m\u001b[39m__getattribute__\u001b[39;49m(name)\n\u001b[0;32m     19\u001b[0m \u001b[39mexcept\u001b[39;00m \u001b[39mAttributeError\u001b[39;00m \u001b[39mas\u001b[39;00m e:\n\u001b[0;32m     20\u001b[0m     \u001b[39mfor\u001b[39;00m domain \u001b[39min\u001b[39;00m [\u001b[39m\"\u001b[39m\u001b[39mn\u001b[39m\u001b[39m\"\u001b[39m, \u001b[39m\"\u001b[39m\u001b[39ms\u001b[39m\u001b[39m\"\u001b[39m, \u001b[39m\"\u001b[39m\u001b[39mp\u001b[39m\u001b[39m\"\u001b[39m]:\n",
      "\u001b[1;31mAttributeError\u001b[0m: 'LithiumIonParameters' object has no attribute 'EC_ratio_Rio'"
     ]
    }
   ],
   "source": [
    "# parameter - dimensional \n",
    "D_e     = 3e-10;    # Li+ diffusivity in m2/s\n",
    "D_EC    = 5e-10;    # EC  diffusivity in m2/s\n",
    "D_cross = -1.5e-9;  # Cross diffusivity in m2/s\n",
    "\n",
    "t_0plus = 0.3;      # Transference number for Li+\n",
    "trans_i = -1.4;     # Transference number for EC  \n",
    "\n",
    "F = 96485.33;       # Faraday constant in C/mol\n",
    "\n",
    "c_init = 1000;      # Initial Li-ion concentration in electrolyte\n",
    "c_EC_init= 4000;    # Initial EC  concentration in electrolyte \n",
    "c_tot_init = 6000;  # Initial total concentration in electrolyte\n",
    "\n",
    "V_bar_SEI = 9.585e-5;  # SEI partial molar volume in m3/mol\n",
    "V_bar_EC  = 6.667e-5;  # EC  partial molar volume in m3/mol\n",
    "V_bar_Li  = 1.300e-5;  # Li+ partial molar volume in m3/mol\n",
    "\n",
    "b = 1.5;    # Bruggman cofficient\n",
    "\n",
    "R_n       = 5.86e-6   # Mean Neg particle radius in m\n",
    "R_p       = 5.22e-6   # Mean Pos particle radius in m\n",
    "\n",
    "# Should be a variable but now set as constant to simplify\n",
    "epislon_n = 0.25;     # Neg porosity\n",
    "epislon_s = 0.47;     # Sep porosity\n",
    "epislon_p = 0.335;     # Sep porosity\n",
    "\n",
    "epislon_n = pb.FullBroadcast(\n",
    "                pb.Scalar(0.25), \"negative electrode\", )\n",
    "epislon_s = pb.FullBroadcast(\n",
    "        pb.Scalar(0.47), \"separator\", )\n",
    "epislon_p = pb.FullBroadcast(\n",
    "        pb.Scalar(0.335), \"positive electrode\", )\n",
    "epislon = pb.concatenation(epislon_n, epislon_s, epislon_p )\n",
    "\n",
    "# During Discharge: j_int_neg is positive; j_SEI is also positive; \n",
    "# but j_int_pos is negative\n",
    "# Total Neg interfacial current density in A/m2\n",
    "j_tot_n = pb.FullBroadcast(\n",
    "                pb.Scalar(2.1), \"negative electrode\", )\n",
    "j_tot_s = pb.FullBroadcast(\n",
    "        pb.Scalar(0), \"separator\", )\n",
    "# Total Pos interfacial current density in A/m2\n",
    "j_tot_p = pb.FullBroadcast(\n",
    "        pb.Scalar(-1.7), \"positive electrode\", )\n",
    "j_tot = pb.concatenation(j_tot_n, j_tot_s, j_tot_p )\n",
    "\n",
    "j_SEI_n = pb.FullBroadcast(\n",
    "        pb.Scalar(1e-3), \"negative electrode\", )\n",
    "j_SEI_s = pb.FullBroadcast(\n",
    "        pb.Scalar(0), \"separator\", )\n",
    "j_SEI_p = pb.FullBroadcast(\n",
    "        pb.Scalar(0), \"positive electrode\", )\n",
    "j_SEI   = pb.concatenation(j_SEI_n,j_SEI_s,j_SEI_p);      # SEI       interfacial current density in A/m2\n",
    "# based on wip\\Rio_Code\\P3_R0\\Check_eley_current_dens.ipynb\n",
    "i_eley = 50;         # Electrolyte current density [A.m-2]\n",
    "\n",
    "a_n = 3* epislon_n / R_n    # Neg Specific surface area\n",
    "a_p = 3* epislon_p / R_p    # Neg Specific surface area\n",
    "zero_s = pb.FullBroadcast(0, \"separator\")\n",
    "\n",
    "EC_ratio_Rio =  Para_0.evaluate(Model_0.param.EC_ratio_Rio)  \n",
    "gamma_e_EC_Rio = Para_0.evaluate(Model_0.param.gamma_e_EC_Rio)  \n",
    "tau_discharge = Para_0.evaluate(Model_0.param.tau_discharge)  \n",
    "tau_cross_Rio = Para_0.evaluate(Model_0.param.tau_cross_Rio)  \n",
    "D_EC_Li_cross = Para_0.evaluate(Model_0.param.D_EC_Li_cross)  \n",
    "tau_EC_Rio    = Para_0.evaluate(Model_0.param.tau_EC_Rio)  \n",
    "D_EC          = Para_0.evaluate(Model_0.param.D_EC)  \n",
    "Xi            = Para_0.evaluate(Model_0.param.Xi)  \n",
    "Vmolar_Li     = Para_0.evaluate(Model_0.param.Vmolar_Li)  \n",
    "c_ec_0_dim    = Para_0.evaluate(Model_0.param.c_ec_0_dim)  \n",
    "gamma_e       = Para_0.evaluate(Model_0.param.gamma_e)   \n",
    "Vmolar_EC     = Para_0.evaluate(Model_0.param.Vmolar_EC) \n",
    "Vmolar_CH2OCO2Li2= Para_0.evaluate(Model_0.param.Vmolar_CH2OCO2Li2) \n",
    "C_e= Para_0.evaluate(Model_0.param.C_e) \n",
    "e_ratio_Rio = Para_0.evaluate(Model_0.param.e_ratio_Rio) \n",
    "c_e_init_dimensional = Para_0.evaluate(Model_0.param.c_e_init_dimensional) "
   ]
  },
  {
   "cell_type": "code",
   "execution_count": null,
   "metadata": {},
   "outputs": [],
   "source": [
    "sign_2_n = pb.FullBroadcast(\n",
    "        pb.Scalar(1), \"negative electrode\", )\n",
    "sign_2_s = pb.FullBroadcast(\n",
    "        pb.Scalar(0), \"separator\", )\n",
    "sign_2_p = pb.FullBroadcast(\n",
    "        pb.Scalar(0), \"positive electrode\", )\n",
    "sign_2 = pb.concatenation(sign_2_n, sign_2_s, sign_2_p )\n",
    "a = pb.concatenation(a_n, zero_s, a_p)"
   ]
  },
  {
   "cell_type": "code",
   "execution_count": null,
   "metadata": {},
   "outputs": [],
   "source": [
    "model = pb.BaseModel()\n",
    "c_e_n  = pb.Variable(\"Li+ concentration in negative electrode\", domain=\"negative electrode\")\n",
    "c_EC_n = pb.Variable(\"EC concentration in negative electrode\", domain=\"negative electrode\")\n",
    "\n",
    "c_e_s  = pb.Variable(\"Li+ concentration in separator\", domain=\"separator\")\n",
    "c_EC_s = pb.Variable(\"EC concentration in separator\", domain=\"separator\")\n",
    "\n",
    "c_e_p  = pb.Variable(\"Li+ concentration in positive electrode\", domain=\"positive electrode\")\n",
    "c_EC_p = pb.Variable(\"EC concentration in positive electrode\", domain=\"positive electrode\")\n",
    "\n",
    "c_EC = pb.concatenation(c_EC_n, c_EC_s, c_EC_p)\n",
    "c_e  = pb.concatenation(c_e_n, c_e_s, c_e_p)\n",
    "model.variables = {\n",
    "    \"Li+ concentration in negative electrode\":c_e_n,\n",
    "    \"Li+ concentration in separator\":c_e_s,\n",
    "    \"Li+ concentration in positive electrode\":c_e_p,\n",
    "    \"EC concentration in negative electrode\":c_EC_n,\n",
    "    \"EC concentration in separator\":c_EC_s,\n",
    "    \"EC concentration in positive electrode\":c_EC_p,\n",
    "}"
   ]
  },
  {
   "cell_type": "code",
   "execution_count": null,
   "metadata": {},
   "outputs": [],
   "source": [
    "model.variables.update(\n",
    "    {\n",
    "        \"Li+ concentration\": c_e, \n",
    "        \"EC concentration\": c_EC,\n",
    "    }\n",
    ")"
   ]
  },
  {
   "cell_type": "code",
   "execution_count": null,
   "metadata": {},
   "outputs": [
    {
     "name": "stdout",
     "output_type": "stream",
     "text": [
      "dict_keys(['Li+ concentration in negative electrode', 'Li+ concentration in separator', 'Li+ concentration in positive electrode', 'EC concentration in negative electrode', 'EC concentration in separator', 'EC concentration in positive electrode', 'Li+ concentration', 'EC concentration'])\n"
     ]
    }
   ],
   "source": [
    "print(model.variables.keys())"
   ]
  },
  {
   "cell_type": "code",
   "execution_count": null,
   "metadata": {},
   "outputs": [],
   "source": [
    "model.length_scales = {\n",
    "    \"negative electrode\": 8.52e-5,\n",
    "    \"separator\": 1.2e-5,\n",
    "    \"positive electrode\": 7.56e-5,\n",
    "}\n",
    "model.timescale = pb.Scalar(8.52e-5 ** 2 /  D_e) "
   ]
  },
  {
   "cell_type": "code",
   "execution_count": null,
   "metadata": {},
   "outputs": [],
   "source": [
    "model.rhs = {\n",
    "    c_e: \n",
    "    -pb.div(  pb.grad(c_e)) / C_e \n",
    "    + e_ratio_Rio * gamma_e_EC_Rio * tau_discharge \n",
    "    / tau_cross_Rio * pb.div( D_EC_Li_cross * pb.grad(c_EC))\n",
    "    + ( 1-0.4 )  * 1 \n",
    "    -  sign_2 * (    c_e_init_dimensional * Vmolar_Li   * 1         )\n",
    "    -  (    \n",
    "        c_e_init_dimensional / gamma_e * (\n",
    "        Vmolar_EC-0.5*Vmolar_CH2OCO2Li2) * a * 1)  ,\n",
    "\n",
    "    c_EC:\n",
    "    epislon**b *D_cross*(c_EC_init/c_tot_init)*pb.div(pb.grad(c_e))\n",
    "    + epislon**b *D_EC*pb.div(pb.grad(c_EC))\n",
    "    + sign_2 * (\n",
    "        a*trans_i*j_tot/F\n",
    "        +a* (1+trans_i)*j_SEI/F\n",
    "        -a*(j_SEI*V_bar_EC+j_tot*V_bar_Li-0.5*j_SEI*V_bar_SEI)*c_EC_init/F\n",
    "    )\n",
    "} "
   ]
  },
  {
   "cell_type": "code",
   "execution_count": null,
   "metadata": {},
   "outputs": [
    {
     "name": "stdout",
     "output_type": "stream",
     "text": [
      "concatenation(broadcast(3.75e-11), broadcast(9.666472986565472e-11), broadcast(5.816858043652089e-11))\n",
      "concatenation(broadcast(-3.1249999999999995e-11), broadcast(-8.055394155471226e-11), broadcast(-4.847381703043407e-11))\n",
      "concatenation(broadcast(1.9136951216600957), broadcast(-0.0), broadcast(-2.3745495341343483))\n"
     ]
    }
   ],
   "source": [
    "print( epislon**b *D_e )\n",
    "print( epislon**b *D_cross*(c_init/c_tot_init))\n",
    "print( a*(1-t_0plus)*j_tot/F\n",
    "    - a*sign_2*(j_SEI*V_bar_EC+j_tot*V_bar_Li-0.5*j_SEI*V_bar_SEI)*c_init/F)"
   ]
  },
  {
   "cell_type": "code",
   "execution_count": null,
   "metadata": {},
   "outputs": [
    {
     "name": "stdout",
     "output_type": "stream",
     "text": [
      "concatenation(broadcast(-1.2499999999999998e-10), broadcast(-3.2221576621884903e-10), broadcast(-1.9389526812173628e-10))\n",
      "concatenation(broadcast(6.25e-11), broadcast(1.6110788310942454e-10), broadcast(9.694763406086815e-11))\n",
      "concatenation(broadcast(-4.045348278871794), broadcast(0.0), broadcast(0.0))\n"
     ]
    }
   ],
   "source": [
    "print( epislon**b *D_cross*(c_EC_init/c_tot_init) )\n",
    "print( epislon**b *D_EC   )\n",
    "print( sign_2 * (\n",
    "        a*trans_i*j_tot/F\n",
    "        +a* (1+trans_i)*j_SEI/F\n",
    "        -a*(j_SEI*V_bar_EC+j_tot*V_bar_Li-0.5*j_SEI*V_bar_SEI)*c_EC_init/F\n",
    "    ))"
   ]
  },
  {
   "cell_type": "code",
   "execution_count": null,
   "metadata": {},
   "outputs": [],
   "source": [
    "model.initial_conditions = {c_e: pb.Scalar(c_init),c_EC: pb.Scalar(c_EC_init)}\n",
    "\n",
    "model.boundary_conditions = {\n",
    "    c_e: {\"left\": (pb.Scalar(0), \"Neumann\"),\"right\": (pb.Scalar(0), \"Neumann\")},  \n",
    "    c_EC:{\"left\": (pb.Scalar(0), \"Neumann\"),\"right\": (pb.Scalar(0), \"Neumann\")} }\n",
    "# define geometry\n",
    "x_n = pb.SpatialVariable(\n",
    "    \"x_n\", \n",
    "    domain=[\"negative electrode\"], \n",
    "    coord_sys=\"cartesian\"\n",
    ")\n",
    "x_s = pb.SpatialVariable(\n",
    "    \"x_s\", \n",
    "    domain=[\"separator\"], \n",
    "    coord_sys=\"cartesian\"\n",
    ")\n",
    "x_p = pb.SpatialVariable(\n",
    "    \"x_p\", \n",
    "    domain=[\"positive electrode\"], \n",
    "    coord_sys=\"cartesian\"\n",
    ")\n",
    "geometry = {\n",
    "    \"negative electrode\": {x_n: {\"min\": pb.Scalar(0), \"max\": pb.Scalar(8.52e-5)}},\n",
    "    \"separator\":          {x_s: {\"min\": pb.Scalar(8.52e-5), \"max\": pb.Scalar(9.72e-5)}},\n",
    "    \"positive electrode\": {x_p: {\"min\": pb.Scalar(9.72e-5), \"max\": pb.Scalar(17.28e-5)}},\n",
    "}\n",
    "# mesh and discretise ,\"separator\",\"positive electrode\"\n",
    "submesh_types = {\n",
    "    \"negative electrode\": pb.MeshGenerator(pb.Uniform1DSubMesh),\n",
    "    \"separator\": pb.MeshGenerator(pb.Uniform1DSubMesh),\n",
    "    \"positive electrode\": pb.MeshGenerator(pb.Uniform1DSubMesh),\n",
    "}\n",
    "var_pts = {x_n: 20, x_s:20, x_p:20}\n",
    "mesh = pb.Mesh(geometry, submesh_types, var_pts)\n",
    "spatial_methods = {\n",
    "    \"negative electrode\": pb.FiniteVolume(),\n",
    "    \"separator\": pb.FiniteVolume(),\n",
    "    \"positive electrode\": pb.FiniteVolume(),\n",
    "}\n",
    "disc = pb.Discretisation(mesh, spatial_methods)\n",
    "disc.process_model(model);"
   ]
  },
  {
   "cell_type": "code",
   "execution_count": null,
   "metadata": {},
   "outputs": [
    {
     "name": "stdout",
     "output_type": "stream",
     "text": [
      "[ 0.   2.5  5.   7.5 10. ]\n"
     ]
    }
   ],
   "source": [
    "t = np.linspace(0, 10, 5)\n",
    "print(t)"
   ]
  },
  {
   "cell_type": "code",
   "execution_count": null,
   "metadata": {},
   "outputs": [],
   "source": [
    "# solve\n",
    "solver = pb.ScipySolver()\n",
    "#t = np.linspace(0, 100, 50)\n",
    "solution = solver.solve(model, [0,1.2])\n"
   ]
  },
  {
   "cell_type": "code",
   "execution_count": null,
   "metadata": {},
   "outputs": [
    {
     "data": {
      "application/vnd.jupyter.widget-view+json": {
       "model_id": "2192f840b38342b0b4cd92dca5f2c2ed",
       "version_major": 2,
       "version_minor": 0
      },
      "text/plain": [
       "interactive(children=(FloatSlider(value=0.0, description='t', max=1.2, step=0.012), Output()), _dom_classes=('…"
      ]
     },
     "metadata": {},
     "output_type": "display_data"
    },
    {
     "data": {
      "text/plain": [
       "<pybamm.plotting.quick_plot.QuickPlot at 0x16a57822e80>"
      ]
     },
     "execution_count": 54,
     "metadata": {},
     "output_type": "execute_result"
    }
   ],
   "source": [
    "pb.dynamic_plot(\n",
    "    solution,\n",
    "    [\n",
    "        \"Li+ concentration\",\n",
    "        \"EC concentration\",\n",
    "    ],\n",
    ")"
   ]
  },
  {
   "cell_type": "code",
   "execution_count": null,
   "metadata": {},
   "outputs": [],
   "source": []
  }
 ],
 "metadata": {
  "kernelspec": {
   "display_name": "Python 3.9.6 ('envPBGEM')",
   "language": "python",
   "name": "python3"
  },
  "language_info": {
   "codemirror_mode": {
    "name": "ipython",
    "version": 3
   },
   "file_extension": ".py",
   "mimetype": "text/x-python",
   "name": "python",
   "nbconvert_exporter": "python",
   "pygments_lexer": "ipython3",
   "version": "3.9.6"
  },
  "orig_nbformat": 4,
  "vscode": {
   "interpreter": {
    "hash": "83fab7fbb3a8fe7b5910804f702478ef63e2cc6a08d85072a5d68865ed0fd8c7"
   }
  }
 },
 "nbformat": 4,
 "nbformat_minor": 2
}
