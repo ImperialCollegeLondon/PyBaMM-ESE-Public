{
 "cells": [
  {
   "cell_type": "markdown",
   "metadata": {},
   "source": [
    "# This noteboook is to calculate cofficient for double diffusion model"
   ]
  },
  {
   "cell_type": "code",
   "execution_count": 2,
   "metadata": {},
   "outputs": [],
   "source": [
    "import pybamm as pybamm;import pandas as pd;import numpy as np;import os;import matplotlib.pyplot as plt;import os;\n",
    "from scipy.io import savemat,loadmat;from pybamm import constants,exp;import matplotlib as mpl;"
   ]
  },
  {
   "cell_type": "code",
   "execution_count": 3,
   "metadata": {},
   "outputs": [],
   "source": [
    "# \n",
    "D_e     = 3e-10;    # Li+ diffusivity in m2/s\n",
    "D_EC    = 5e-10;    # EC  diffusivity in m2/s\n",
    "D_cross = -1.5e-9;  # Cross diffusivity in m2/s\n",
    "\n",
    "t_0plus = 0.3;      # Transference number for Li+\n",
    "trans_i = -1.4;     # Transference number for EC  \n",
    "\n",
    "F = 96485.33;       # Faraday constant in C/mol\n",
    "\n",
    "c_init = 1000;      # Initial Li+ concentration in electrolyte\n",
    "c_EC_init= 4000;    # Initial EC  concentration in electrolyte \n",
    "c_tot_init = 6000;  # Initial total concentration in electrolyte\n",
    "\n",
    "V_bar_SEI = 9.585e-5;  # SEI partial molar volume in m3/mol\n",
    "V_bar_EC  = 6.667e-5;  # EC  partial molar volume in m3/mol\n",
    "V_bar_Li  = 1.300e-5;  # Li+ partial molar volume in m3/mol\n",
    "\n",
    "b = 1.5;    # Bruggman cofficient\n",
    "\n",
    "R_n       = 5.86e-6   # Mean Neg particle radius in m\n",
    "R_p       = 5.22e-6   # Mean Pos particle radius in m"
   ]
  },
  {
   "cell_type": "code",
   "execution_count": 20,
   "metadata": {},
   "outputs": [],
   "source": [
    "# Should be a variable but now set as constant to simplify\n",
    "epislon_n = 0.25;     # Neg porosity\n",
    "epislon_s = 0.47;     # Sep porosity\n",
    "epislon_p = 0.335;     # Sep porosity\n",
    "\n",
    "# During Discharge: j_int_neg is positive; j_SEI is also positive; but j_int_pos is negative\n",
    "j_tot_n = 2.1;       # Total Neg interfacial current density in A/m2\n",
    "j_tot_p = -1.7;      # Total Pos interfacial current density in A/m2\n",
    "j_SEI   = 1e-3;      # SEI       interfacial current density in A/m2\n",
    "# based on wip\\Rio_Code\\P3_R0\\Check_eley_current_dens.ipynb\n",
    "i_eley = 50;         # Electrolyte current density [A.m-2]\n",
    "\n",
    "a_n = 3* epislon_n / R_n    # Neg Specific surface area\n",
    "a_p = 3* epislon_p / R_p    # Neg Specific surface area\n"
   ]
  },
  {
   "cell_type": "code",
   "execution_count": 17,
   "metadata": {},
   "outputs": [
    {
     "name": "stdout",
     "output_type": "stream",
     "text": [
      "127986.3481228669\n"
     ]
    }
   ],
   "source": [
    "print(a_n)"
   ]
  },
  {
   "cell_type": "code",
   "execution_count": 23,
   "metadata": {},
   "outputs": [
    {
     "name": "stdout",
     "output_type": "stream",
     "text": [
      "-9.375e-12\n",
      "7.8125e-12\n",
      "3.8866012066290286e-05\n",
      "/n\n",
      "-4.5432423036857715e-11\n",
      "3.7860352530714766e-11\n",
      "7.306810268462572e-05\n",
      "/n\n",
      "-1.94864744462345e-11\n",
      "1.6238728705195415e-11\n",
      "5.2080456168828984e-05\n"
     ]
    }
   ],
   "source": [
    "# for Li+\n",
    "print(-epislon_n**(b+1) * D_e )   # for flux\n",
    "print(-epislon_n**(b+1) * D_cross * c_init/c_tot_init )  # for flux\n",
    "print(epislon_n*t_0plus* i_eley / F  )  # for flux\n",
    "print(\"/n\")\n",
    "print(-epislon_s**(b+1) * D_e )   # for flux\n",
    "print(-epislon_s**(b+1) * D_cross * c_init/c_tot_init )  # for flux\n",
    "print(epislon_s*t_0plus* i_eley / F  )  # for flux\n",
    "print(\"/n\")\n",
    "print(-epislon_p**(b+1) * D_e )   # for flux\n",
    "print(-epislon_p**(b+1) * D_cross * c_init/c_tot_init )  # for flux\n",
    "print(epislon_p*t_0plus* i_eley / F  )  # for flux"
   ]
  },
  {
   "cell_type": "code",
   "execution_count": 24,
   "metadata": {},
   "outputs": [
    {
     "name": "stdout",
     "output_type": "stream",
     "text": [
      "3.125e-11\n",
      "-1.5625e-11\n",
      "0.00018137472297602132\n",
      "/n\n",
      "1.5144141012285906e-10\n",
      "-7.572070506142953e-11\n",
      "0.0003409844791949201\n",
      "/n\n",
      "6.495491482078166e-11\n",
      "-3.2477457410390836e-11\n",
      "0.00024304212878786856\n"
     ]
    }
   ],
   "source": [
    "# for EC\n",
    "print(-epislon_n**(b+1) * D_cross * c_EC_init/c_tot_init )  # for flux\n",
    "print(-epislon_n**(b+1) * D_EC )   # for flux\n",
    "print(-epislon_n*trans_i* i_eley / F  )  # for flux\n",
    "\n",
    "print(\"/n\")\n",
    "\n",
    "print(-epislon_s**(b+1) * D_cross * c_EC_init/c_tot_init )  # for flux\n",
    "print(-epislon_s**(b+1) * D_EC )   # for flux\n",
    "print(-epislon_s*trans_i* i_eley / F  )  # for flux\n",
    "\n",
    "print(\"/n\")\n",
    "\n",
    "print(-epislon_p**(b+1) * D_cross * c_EC_init/c_tot_init )  # for flux\n",
    "print(-epislon_p**(b+1) * D_EC )   # for flux\n",
    "print(-epislon_p*trans_i* i_eley / F  )  # for flux"
   ]
  },
  {
   "cell_type": "code",
   "execution_count": 21,
   "metadata": {},
   "outputs": [
    {
     "name": "stdout",
     "output_type": "stream",
     "text": [
      "3.75e-11\n",
      "-9.375e-12\n",
      "-3.125e-11\n",
      "7.8125e-12\n",
      "1.949933028581799\n",
      "0.036237906921703325\n",
      "3.8866012066290286e-05\n"
     ]
    }
   ],
   "source": [
    "# For c_e_n\n",
    "print(epislon_n**b * D_e )\n",
    "\n",
    "\n",
    "print(epislon_n**b * D_cross * c_init/c_tot_init )\n",
    "\n",
    "\n",
    "\n",
    "print(a_n * (1-t_0plus) * j_tot_n / F )\n",
    "\n",
    "print(a_n * (j_SEI*V_bar_EC + j_tot_n*V_bar_Li - 0.5*j_SEI*V_bar_SEI ) * c_init / F )\n",
    "\n"
   ]
  },
  {
   "cell_type": "code",
   "execution_count": 6,
   "metadata": {},
   "outputs": [
    {
     "name": "stdout",
     "output_type": "stream",
     "text": [
      "5.816858043652089e-11\n",
      "-4.8473817030434076e-11\n",
      "-2.3745495341343483\n"
     ]
    }
   ],
   "source": [
    "# For c_e_p\n",
    "print(epislon_p**b * D_e )\n",
    "\n",
    "\n",
    "\n",
    "print(epislon_p**b * D_cross * c_init/c_tot_init )\n",
    "\n",
    "print(a_p * (1-t_0plus) * j_tot_p / F )"
   ]
  },
  {
   "cell_type": "code",
   "execution_count": 7,
   "metadata": {},
   "outputs": [
    {
     "name": "stdout",
     "output_type": "stream",
     "text": [
      "9.666472986565472e-11\n",
      "-8.055394155471226e-11\n"
     ]
    }
   ],
   "source": [
    "# For c_e_s\n",
    "print(epislon_s**b * D_e )\n",
    "\n",
    "print(epislon_s**b * D_cross * c_init/c_tot_init )"
   ]
  },
  {
   "cell_type": "code",
   "execution_count": 8,
   "metadata": {},
   "outputs": [
    {
     "name": "stdout",
     "output_type": "stream",
     "text": [
      "6.25e-11\n",
      "-1.25e-10\n",
      "-3.899866057163598\n",
      "-0.0005305940213828024\n",
      "0.1449516276868133\n",
      "-3.900396651184981\n"
     ]
    }
   ],
   "source": [
    "# For c_EC_n\n",
    "print(epislon_n**b * D_EC )\n",
    "\n",
    "print(epislon_n**b * D_cross * c_EC_init/c_tot_init )\n",
    "\n",
    "print(a_n * trans_i * j_tot_n / F )\n",
    "\n",
    "print(a_n * (trans_i+1) * j_SEI / F )\n",
    "\n",
    "print( a_n * (j_SEI*V_bar_EC + j_tot_n*V_bar_Li - 0.5*j_SEI*V_bar_SEI ) * c_EC_init / F )\n",
    "\n",
    "print(a_n * trans_i * j_tot_n / F + a_n * (trans_i+1) * j_SEI / F )"
   ]
  },
  {
   "cell_type": "code",
   "execution_count": 9,
   "metadata": {},
   "outputs": [
    {
     "name": "stdout",
     "output_type": "stream",
     "text": [
      "9.694763406086815e-11\n",
      "-1.938952681217363e-10\n"
     ]
    }
   ],
   "source": [
    "# For c_EC_p\n",
    "print(epislon_p**b * D_EC )\n",
    "\n",
    "print(epislon_p**b * D_cross * c_EC_init/c_tot_init )\n"
   ]
  },
  {
   "cell_type": "code",
   "execution_count": 10,
   "metadata": {},
   "outputs": [
    {
     "name": "stdout",
     "output_type": "stream",
     "text": [
      "1.6110788310942454e-10\n",
      "-3.2221576621884903e-10\n"
     ]
    }
   ],
   "source": [
    "# For c_EC_s\n",
    "print(epislon_s**b * D_EC )\n",
    "\n",
    "print(epislon_s**b * D_cross * c_EC_init/c_tot_init )"
   ]
  },
  {
   "cell_type": "code",
   "execution_count": 11,
   "metadata": {},
   "outputs": [
    {
     "data": {
      "text/plain": [
       "[1.5e-10, 1.25e-10, 7.656]"
      ]
     },
     "execution_count": 11,
     "metadata": {},
     "output_type": "execute_result"
    }
   ],
   "source": [
    "[3.75E-11/ epislon_n,3.125E-11/ epislon_n,(1.95-0.036)/ epislon_n] "
   ]
  },
  {
   "cell_type": "code",
   "execution_count": 12,
   "metadata": {},
   "outputs": [
    {
     "data": {
      "text/plain": [
       "[1.7373134328358208e-10, -1.4477611940298508e-10, -7.074626865671641]"
      ]
     },
     "execution_count": 12,
     "metadata": {},
     "output_type": "execute_result"
    }
   ],
   "source": [
    "[5.82E-11/ epislon_p,   -4.85e-11/ epislon_p,   -2.37/ epislon_p] "
   ]
  },
  {
   "cell_type": "code",
   "execution_count": 13,
   "metadata": {},
   "outputs": [
    {
     "data": {
      "text/plain": [
       "[2.0574468085106384e-10, -1.7148936170212766e-10]"
      ]
     },
     "execution_count": 13,
     "metadata": {},
     "output_type": "execute_result"
    }
   ],
   "source": [
    "[9.67E-11/ epislon_s,   -8.06e-11/ epislon_s,  ] "
   ]
  },
  {
   "cell_type": "code",
   "execution_count": 14,
   "metadata": {},
   "outputs": [
    {
     "data": {
      "text/plain": [
       "[-5e-10, 2.5e-09, -16.18]"
      ]
     },
     "execution_count": 14,
     "metadata": {},
     "output_type": "execute_result"
    }
   ],
   "source": [
    "[-1.25E-10/ epislon_n,      6.25E-10/ epislon_n,      (-3.9-0.145)/ epislon_n] "
   ]
  },
  {
   "cell_type": "code",
   "execution_count": 15,
   "metadata": {},
   "outputs": [
    {
     "data": {
      "text/plain": [
       "[-5.791044776119403e-10, 2.8925373134328355e-10]"
      ]
     },
     "execution_count": 15,
     "metadata": {},
     "output_type": "execute_result"
    }
   ],
   "source": [
    "[-1.94E-10/ epislon_p,   9.69e-11/ epislon_p] "
   ]
  },
  {
   "cell_type": "code",
   "execution_count": 16,
   "metadata": {},
   "outputs": [
    {
     "data": {
      "text/plain": [
       "[-6.851063829787235e-10, 3.4255319148936177e-10]"
      ]
     },
     "execution_count": 16,
     "metadata": {},
     "output_type": "execute_result"
    }
   ],
   "source": [
    "[  -3.22E-10/ epislon_s,   1.61e-10/ epislon_s,  ] "
   ]
  },
  {
   "cell_type": "code",
   "execution_count": null,
   "metadata": {},
   "outputs": [],
   "source": [
    "# for flux:\n"
   ]
  }
 ],
 "metadata": {
  "kernelspec": {
   "display_name": "Python 3.9.4 ('envECdrag')",
   "language": "python",
   "name": "python3"
  },
  "language_info": {
   "codemirror_mode": {
    "name": "ipython",
    "version": 3
   },
   "file_extension": ".py",
   "mimetype": "text/x-python",
   "name": "python",
   "nbconvert_exporter": "python",
   "pygments_lexer": "ipython3",
   "version": "3.9.4"
  },
  "orig_nbformat": 4,
  "vscode": {
   "interpreter": {
    "hash": "bbe477dd22b81d67e8c3659d09e8d8645a2b2109ce812123ab4a99fd937a7135"
   }
  }
 },
 "nbformat": 4,
 "nbformat_minor": 2
}
