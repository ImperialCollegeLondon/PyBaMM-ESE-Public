{
 "cells": [
  {
   "cell_type": "code",
   "execution_count": 53,
   "metadata": {},
   "outputs": [],
   "source": [
    "import pybamm\n",
    "import numpy as np\n",
    "import matplotlib.pyplot as plt\n",
    "import pandas as pd   ;import numpy as np;import os;import matplotlib.pyplot as plt;import os;\n",
    "from scipy.io import savemat,loadmat;from pybamm import constants,exp;import matplotlib as mpl; fs=17; # or we can set import matplotlib.pyplot as plt then say 'mpl.rc...'\n",
    "for k in range(0,1):\n",
    "    mpl.rcParams[\"axes.labelsize\"] = fs\n",
    "    mpl.rcParams[\"axes.titlesize\"] = fs\n",
    "    mpl.rcParams[\"xtick.labelsize\"] =  fs\n",
    "    mpl.rcParams[\"ytick.labelsize\"] =  fs\n",
    "    mpl.rcParams[\"legend.fontsize\"] =  fs\n",
    "    mpl.rcParams['font.sans-serif'] = ['Times New Roman']\n",
    "    mpl.rcParams['font.serif'] = ['Times New Roman']\n",
    "    mpl.rcParams['axes.unicode_minus'] = False"
   ]
  },
  {
   "cell_type": "code",
   "execution_count": 54,
   "metadata": {},
   "outputs": [],
   "source": [
    "# Use only the derived coefficients\n",
    "# For Li+\n",
    "coffe1_n = pybamm.FullBroadcast(\n",
    "        pybamm.Scalar(3.75e-11), \"negative electrode\", )\n",
    "coffe1_s = pybamm.FullBroadcast(\n",
    "        pybamm.Scalar(9.666472986565472e-11), \"separator\", )\n",
    "coffe1_p = pybamm.FullBroadcast(\n",
    "        pybamm.Scalar(5.816858043652089e-11), \"positive electrode\", )\n",
    "coffe1 = pybamm.concatenation(coffe1_n, coffe1_s, coffe1_p )\n",
    "coffe2_n = pybamm.FullBroadcast(\n",
    "        pybamm.Scalar(-3.1249999999999995e-11), \"negative electrode\", )\n",
    "coffe2_s = pybamm.FullBroadcast(\n",
    "        pybamm.Scalar(-8.055394155471226e-11), \"separator\", )\n",
    "coffe2_p = pybamm.FullBroadcast(\n",
    "        pybamm.Scalar(-4.847381703043407e-11), \"positive electrode\", )\n",
    "coffe2 = pybamm.concatenation(coffe2_n, coffe2_s, coffe2_p )\n",
    "coffe3_n = pybamm.FullBroadcast(\n",
    "        pybamm.Scalar(1.9136951216600957), \"negative electrode\", )\n",
    "coffe3_s = pybamm.FullBroadcast(\n",
    "        pybamm.Scalar(0), \"separator\", )\n",
    "coffe3_p = pybamm.FullBroadcast(\n",
    "        pybamm.Scalar(-2.3745495341343483), \"positive electrode\", )\n",
    "coffe3 = pybamm.concatenation(coffe3_n, coffe3_s, coffe3_p )\n",
    "# For EC\n",
    "coffEC1_n = pybamm.FullBroadcast(\n",
    "        pybamm.Scalar(-1.2499999999999998e-10), \"negative electrode\", )\n",
    "coffEC1_s = pybamm.FullBroadcast(\n",
    "        pybamm.Scalar(-3.2221576621884903e-10), \"separator\", )\n",
    "coffEC1_p = pybamm.FullBroadcast(\n",
    "        pybamm.Scalar(-1.9389526812173628e-10), \"positive electrode\", )\n",
    "coffEC1 = pybamm.concatenation(coffEC1_n, coffEC1_s, coffEC1_p )\n",
    "coffEC2_n = pybamm.FullBroadcast(\n",
    "        pybamm.Scalar(6.25e-11), \"negative electrode\", )\n",
    "coffEC2_s = pybamm.FullBroadcast(\n",
    "        pybamm.Scalar(1.6110788310942454e-10), \"separator\", )\n",
    "coffEC2_p = pybamm.FullBroadcast(\n",
    "        pybamm.Scalar(9.694763406086815e-11), \"positive electrode\", )\n",
    "coffEC2 = pybamm.concatenation(coffEC2_n, coffEC2_s, coffEC2_p )\n",
    "\n",
    "coffEC3_n = pybamm.FullBroadcast(\n",
    "        pybamm.Scalar(-4.045348278871794), \"negative electrode\", )\n",
    "coffEC3_s = pybamm.FullBroadcast(\n",
    "        pybamm.Scalar(0), \"separator\", )\n",
    "coffEC3_p = pybamm.FullBroadcast(\n",
    "        pybamm.Scalar(0), \"positive electrode\", )\n",
    "coffEC3 = pybamm.concatenation(coffEC3_n, coffEC3_s, coffEC3_p )"
   ]
  },
  {
   "cell_type": "code",
   "execution_count": null,
   "metadata": {},
   "outputs": [],
   "source": []
  },
  {
   "cell_type": "code",
   "execution_count": 55,
   "metadata": {},
   "outputs": [],
   "source": [
    "model = pybamm.BaseModel()\n",
    "c_e_n  = pybamm.Variable(\"Li+ concentration in negative electrode\", domain=\"negative electrode\")\n",
    "c_EC_n = pybamm.Variable(\"EC concentration in negative electrode\", domain=\"negative electrode\")\n",
    "\n",
    "c_e_s  = pybamm.Variable(\"Li+ concentration in separator\", domain=\"separator\")\n",
    "c_EC_s = pybamm.Variable(\"EC concentration in separator\", domain=\"separator\")\n",
    "\n",
    "c_e_p  = pybamm.Variable(\"Li+ concentration in positive electrode\", domain=\"positive electrode\")\n",
    "c_EC_p = pybamm.Variable(\"EC concentration in positive electrode\", domain=\"positive electrode\")\n",
    "\n",
    "c_EC = pybamm.concatenation(c_EC_n, c_EC_s, c_EC_p)\n",
    "c_e  = pybamm.concatenation(c_e_n, c_e_s, c_e_p)\n",
    "model.variables = {\n",
    "    \"Li+ concentration in negative electrode\":c_e_n,\n",
    "    \"Li+ concentration in separator\":c_e_s,\n",
    "    \"Li+ concentration in positive electrode\":c_e_p,\n",
    "    \"EC concentration in negative electrode\":c_EC_n,\n",
    "    \"EC concentration in separator\":c_EC_s,\n",
    "    \"EC concentration in positive electrode\":c_EC_p,\n",
    "}"
   ]
  },
  {
   "cell_type": "code",
   "execution_count": 56,
   "metadata": {},
   "outputs": [],
   "source": [
    "model.variables.update(\n",
    "    {\n",
    "        \"Li+ concentration\": c_e, \n",
    "        \"EC concentration\": c_EC,\n",
    "    }\n",
    ")"
   ]
  },
  {
   "cell_type": "code",
   "execution_count": 57,
   "metadata": {},
   "outputs": [
    {
     "name": "stdout",
     "output_type": "stream",
     "text": [
      "dict_keys(['Li+ concentration in negative electrode', 'Li+ concentration in separator', 'Li+ concentration in positive electrode', 'EC concentration in negative electrode', 'EC concentration in separator', 'EC concentration in positive electrode', 'Li+ concentration', 'EC concentration'])\n"
     ]
    }
   ],
   "source": [
    "print(model.variables.keys())"
   ]
  },
  {
   "cell_type": "code",
   "execution_count": 58,
   "metadata": {},
   "outputs": [],
   "source": [
    "model.length_scales = {\n",
    "    \"negative electrode\": 8.52e-5,\n",
    "    \"separator\": 1.2e-5,\n",
    "    \"positive electrode\": 7.56e-5,\n",
    "}\n",
    "D_e     = 3e-10;    # Li+ diffusivity in m2/s\n",
    "model.timescale = pybamm.Scalar(8.52e-5 ** 2 /  D_e) "
   ]
  },
  {
   "cell_type": "code",
   "execution_count": 59,
   "metadata": {},
   "outputs": [],
   "source": [
    "model.rhs = {\n",
    "    c_e: \n",
    "    coffe1  * pybamm.div(pybamm.grad(c_e))\n",
    "    +coffe2 * pybamm.div(pybamm.grad(c_EC))\n",
    "    + coffe3,\n",
    "\n",
    "    c_EC:\n",
    "    coffEC1   * pybamm.div(pybamm.grad(c_e))\n",
    "    + coffEC2 * pybamm.div(pybamm.grad(c_EC))\n",
    "    + coffEC3,\n",
    "} "
   ]
  },
  {
   "cell_type": "code",
   "execution_count": 60,
   "metadata": {},
   "outputs": [
    {
     "name": "stdout",
     "output_type": "stream",
     "text": [
      "concatenation(broadcast(3.75e-11), broadcast(9.666472986565472e-11), broadcast(5.816858043652089e-11))\n"
     ]
    }
   ],
   "source": [
    "print(coffe1)"
   ]
  },
  {
   "cell_type": "code",
   "execution_count": 61,
   "metadata": {},
   "outputs": [],
   "source": [
    "model.initial_conditions = {c_e: pybamm.Scalar(1000),c_EC: pybamm.Scalar(4000)}\n",
    "\n",
    "model.boundary_conditions = {\n",
    "    c_e: {\"left\": (pybamm.Scalar(0), \"Neumann\"),\"right\": (pybamm.Scalar(0), \"Neumann\")},  \n",
    "    c_EC:{\"left\": (pybamm.Scalar(0), \"Neumann\"),\"right\": (pybamm.Scalar(0), \"Neumann\")} }\n",
    "# define geometry\n",
    "x_n = pybamm.SpatialVariable(\n",
    "    \"x_n\", \n",
    "    domain=[\"negative electrode\"], \n",
    "    coord_sys=\"cartesian\"\n",
    ")\n",
    "x_s = pybamm.SpatialVariable(\n",
    "    \"x_s\", \n",
    "    domain=[\"separator\"], \n",
    "    coord_sys=\"cartesian\"\n",
    ")\n",
    "x_p = pybamm.SpatialVariable(\n",
    "    \"x_p\", \n",
    "    domain=[\"positive electrode\"], \n",
    "    coord_sys=\"cartesian\"\n",
    ")\n",
    "geometry = {\n",
    "    \"negative electrode\": {x_n: {\"min\": pybamm.Scalar(0), \"max\": pybamm.Scalar(8.52e-5)}},\n",
    "    \"separator\":          {x_s: {\"min\": pybamm.Scalar(8.52e-5), \"max\": pybamm.Scalar(9.72e-5)}},\n",
    "    \"positive electrode\": {x_p: {\"min\": pybamm.Scalar(9.72e-5), \"max\": pybamm.Scalar(17.28e-5)}},\n",
    "}\n",
    "# mesh and discretise ,\"separator\",\"positive electrode\"\n",
    "submesh_types = {\n",
    "    \"negative electrode\": pybamm.MeshGenerator(pybamm.Uniform1DSubMesh),\n",
    "    \"separator\": pybamm.MeshGenerator(pybamm.Uniform1DSubMesh),\n",
    "    \"positive electrode\": pybamm.MeshGenerator(pybamm.Uniform1DSubMesh),\n",
    "}\n",
    "var_pts = {x_n: 20, x_s: 20, x_p: 20}\n",
    "mesh = pybamm.Mesh(geometry, submesh_types, var_pts)\n",
    "spatial_methods = {\n",
    "    \"negative electrode\": pybamm.FiniteVolume(),\n",
    "    \"separator\": pybamm.FiniteVolume(),\n",
    "    \"positive electrode\": pybamm.FiniteVolume(),\n",
    "}\n",
    "disc = pybamm.Discretisation(mesh, spatial_methods)\n",
    "disc.process_model(model);"
   ]
  },
  {
   "cell_type": "code",
   "execution_count": 63,
   "metadata": {},
   "outputs": [],
   "source": [
    "# solve\n",
    "solver = pybamm.ScipySolver()\n",
    "#t = np.linspace(0, 100, 50)\n",
    "solution = solver.solve(model, [0,1])\n"
   ]
  },
  {
   "cell_type": "code",
   "execution_count": 64,
   "metadata": {},
   "outputs": [
    {
     "data": {
      "application/vnd.jupyter.widget-view+json": {
       "model_id": "9ad8eedbba9b44f1b4693522bccd72b1",
       "version_major": 2,
       "version_minor": 0
      },
      "text/plain": [
       "interactive(children=(FloatSlider(value=0.0, description='t', max=1.0, step=0.01), Output()), _dom_classes=('w…"
      ]
     },
     "metadata": {},
     "output_type": "display_data"
    },
    {
     "data": {
      "text/plain": [
       "<pybamm.plotting.quick_plot.QuickPlot at 0x18aa7dced30>"
      ]
     },
     "execution_count": 64,
     "metadata": {},
     "output_type": "execute_result"
    }
   ],
   "source": [
    "pybamm.dynamic_plot(\n",
    "    solution,\n",
    "    [\n",
    "        \"Li+ concentration\",\n",
    "        \"EC concentration\",\n",
    "    ],\n",
    ")"
   ]
  },
  {
   "cell_type": "code",
   "execution_count": null,
   "metadata": {},
   "outputs": [],
   "source": []
  }
 ],
 "metadata": {
  "kernelspec": {
   "display_name": "Python 3.9.6 ('envPBGEM')",
   "language": "python",
   "name": "python3"
  },
  "language_info": {
   "codemirror_mode": {
    "name": "ipython",
    "version": 3
   },
   "file_extension": ".py",
   "mimetype": "text/x-python",
   "name": "python",
   "nbconvert_exporter": "python",
   "pygments_lexer": "ipython3",
   "version": "3.9.6"
  },
  "orig_nbformat": 4,
  "vscode": {
   "interpreter": {
    "hash": "83fab7fbb3a8fe7b5910804f702478ef63e2cc6a08d85072a5d68865ed0fd8c7"
   }
  }
 },
 "nbformat": 4,
 "nbformat_minor": 2
}
