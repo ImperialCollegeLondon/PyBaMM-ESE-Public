{
 "cells": [
  {
   "cell_type": "code",
   "execution_count": 1,
   "metadata": {},
   "outputs": [],
   "source": [
    "import pybamm\n",
    "import numpy as np\n",
    "import matplotlib.pyplot as plt\n",
    "import pandas as pd   ;import numpy as np;import os;import matplotlib.pyplot as plt;import os;\n",
    "from scipy.io import savemat,loadmat;from pybamm import constants,exp;import matplotlib as mpl; fs=17; # or we can set import matplotlib.pyplot as plt then say 'mpl.rc...'\n",
    "for k in range(0,1):\n",
    "    mpl.rcParams[\"axes.labelsize\"] = fs\n",
    "    mpl.rcParams[\"axes.titlesize\"] = fs\n",
    "    mpl.rcParams[\"xtick.labelsize\"] =  fs\n",
    "    mpl.rcParams[\"ytick.labelsize\"] =  fs\n",
    "    mpl.rcParams[\"legend.fontsize\"] =  fs\n",
    "    mpl.rcParams['font.sans-serif'] = ['Times New Roman']\n",
    "    mpl.rcParams['font.serif'] = ['Times New Roman']\n",
    "    mpl.rcParams['axes.unicode_minus'] = False"
   ]
  },
  {
   "cell_type": "code",
   "execution_count": 2,
   "metadata": {},
   "outputs": [],
   "source": [
    "def RunStandalone(D_e,D_EC,D_cross,t_0plus,trans_i,j_tot_n_num,j_tot_p_num,j_SEI_n_num,i_eley,t_in_s):\n",
    "        F = 96485.33;       # Faraday constant in C/mol\n",
    "\n",
    "        c_init = 1000;      # Initial Li-ion concentration in electrolyte\n",
    "        c_EC_init= 4000;    # Initial EC  concentration in electrolyte \n",
    "        c_tot_init = 6000;  # Initial total concentration in electrolyte\n",
    "\n",
    "        V_bar_SEI = 9.585e-5;  # SEI partial molar volume in m3/mol\n",
    "        V_bar_EC  = 6.667e-5;  # EC  partial molar volume in m3/mol\n",
    "        V_bar_Li  = 1.300e-5;  # Li+ partial molar volume in m3/mol\n",
    "\n",
    "        b = 1.5;    # Bruggman cofficient\n",
    "\n",
    "        R_n       = 5.86e-6   # Mean Neg particle radius in m\n",
    "        R_p       = 5.22e-6   # Mean Pos particle radius in m\n",
    "\n",
    "        # Should be a variable but now set as constant to simplify\n",
    "        epislon_n = 0.25;     # Neg porosity\n",
    "        epislon_s = 0.47;     # Sep porosity\n",
    "        epislon_p = 0.335;     # Sep porosity\n",
    "\n",
    "        epislon_n = pybamm.FullBroadcast(\n",
    "                        pybamm.Scalar(0.25), \"negative electrode\", )\n",
    "        epislon_s = pybamm.FullBroadcast(\n",
    "                pybamm.Scalar(0.47), \"separator\", )\n",
    "        epislon_p = pybamm.FullBroadcast(\n",
    "                pybamm.Scalar(0.335), \"positive electrode\", )\n",
    "        epislon = pybamm.concatenation(epislon_n, epislon_s, epislon_p )\n",
    "\n",
    "        # During Discharge: j_int_neg is positive; j_SEI is also positive; \n",
    "        # but j_int_pos is negative\n",
    "        # Total Neg interfacial current density in A/m2\n",
    "        \n",
    "        j_tot_n = pybamm.FullBroadcast(\n",
    "                        pybamm.Scalar(j_tot_n_num), \"negative electrode\", )\n",
    "        j_tot_s = pybamm.FullBroadcast(\n",
    "                pybamm.Scalar(0), \"separator\", )\n",
    "        # Total Pos interfacial current density in A/m2\n",
    "        j_tot_p = pybamm.FullBroadcast(\n",
    "                pybamm.Scalar(j_tot_p_num), \"positive electrode\", )\n",
    "        j_tot = pybamm.concatenation(j_tot_n, j_tot_s, j_tot_p )\n",
    "\n",
    "        j_SEI_n = pybamm.FullBroadcast(\n",
    "                pybamm.Scalar(j_SEI_n_num), \"negative electrode\", )\n",
    "        j_SEI_s = pybamm.FullBroadcast(\n",
    "                pybamm.Scalar(0), \"separator\", )\n",
    "        j_SEI_p = pybamm.FullBroadcast(\n",
    "                pybamm.Scalar(0), \"positive electrode\", )\n",
    "        j_SEI   = pybamm.concatenation(j_SEI_n,j_SEI_s,j_SEI_p);      # SEI       interfacial current density in A/m2\n",
    "        \n",
    "\n",
    "        a_n = 3* epislon_n / R_n    # Neg Specific surface area\n",
    "        a_p = 3* epislon_p / R_p    # Neg Specific surface area\n",
    "        zero_s = pybamm.FullBroadcast(0, \"separator\")\n",
    "        sign_2_n = pybamm.FullBroadcast(\n",
    "                pybamm.Scalar(1), \"negative electrode\", )\n",
    "        sign_2_s = pybamm.FullBroadcast(\n",
    "                pybamm.Scalar(0), \"separator\", )\n",
    "        sign_2_p = pybamm.FullBroadcast(\n",
    "                pybamm.Scalar(0), \"positive electrode\", )\n",
    "        sign_2 = pybamm.concatenation(sign_2_n, sign_2_s, sign_2_p )\n",
    "        a = pybamm.concatenation(a_n, zero_s, a_p)\n",
    "        model = pybamm.BaseModel()\n",
    "        c_e_n  = pybamm.Variable(\"Li+ concentration in negative electrode\", domain=\"negative electrode\")\n",
    "        c_EC_n = pybamm.Variable(\"EC concentration in negative electrode\", domain=\"negative electrode\")\n",
    "\n",
    "        c_e_s  = pybamm.Variable(\"Li+ concentration in separator\", domain=\"separator\")\n",
    "        c_EC_s = pybamm.Variable(\"EC concentration in separator\", domain=\"separator\")\n",
    "\n",
    "        c_e_p  = pybamm.Variable(\"Li+ concentration in positive electrode\", domain=\"positive electrode\")\n",
    "        c_EC_p = pybamm.Variable(\"EC concentration in positive electrode\", domain=\"positive electrode\")\n",
    "\n",
    "        c_EC = pybamm.concatenation(c_EC_n, c_EC_s, c_EC_p)\n",
    "        c_e  = pybamm.concatenation(c_e_n, c_e_s, c_e_p)\n",
    "        model.variables = {\n",
    "                \"Li+ concentration in negative electrode\":c_e_n,\n",
    "                \"Li+ concentration in separator\":c_e_s,\n",
    "                \"Li+ concentration in positive electrode\":c_e_p,\n",
    "                \"EC concentration in negative electrode\":c_EC_n,\n",
    "                \"EC concentration in separator\":c_EC_s,\n",
    "                \"EC concentration in positive electrode\":c_EC_p,}\n",
    "        model.variables.update({\n",
    "                \"Li+ concentration\": c_e, \n",
    "                \"EC concentration\": c_EC,\n",
    "                \"Porosity times Li+ concentration\": c_e*epislon, \n",
    "                \"Porosity times EC concentration\": c_EC*epislon,\n",
    "                })\n",
    "        model.length_scales = {\n",
    "        \"negative electrode\": 8.52e-5,\n",
    "        \"separator\": 1.2e-5,\n",
    "        \"positive electrode\": 7.56e-5,}\n",
    "        model.timescale = pybamm.Scalar(8.52e-5 ** 2 /  D_e) \n",
    "\n",
    "        # define geometry\n",
    "        x_n = pybamm.SpatialVariable(\n",
    "        \"x_n\", \n",
    "        domain=[\"negative electrode\"], \n",
    "        coord_sys=\"cartesian\"\n",
    "        )\n",
    "        x_s = pybamm.SpatialVariable(\n",
    "        \"x_s\", \n",
    "        domain=[\"separator\"], \n",
    "        coord_sys=\"cartesian\"\n",
    "        )\n",
    "        x_p = pybamm.SpatialVariable(\n",
    "        \"x_p\", \n",
    "        domain=[\"positive electrode\"], \n",
    "        coord_sys=\"cartesian\"\n",
    "        )\n",
    "        x_all  = pybamm.concatenation(x_n, x_s, x_p)\n",
    "        model.rhs = {\n",
    "        c_e: \n",
    "        epislon**b *D_e*pybamm.div(pybamm.grad(c_e))  # \n",
    "        + epislon**b *D_cross/2*(c_init/c_tot_init)*pybamm.div(pybamm.grad(c_EC))#\n",
    "        + a*(1-t_0plus)*j_tot/F \n",
    "        #- a*sign_2*(j_SEI*V_bar_EC+j_tot*V_bar_Li-0.5*j_SEI*V_bar_SEI)*c_init/F  \n",
    "        ,\n",
    "\n",
    "        c_EC:\n",
    "        epislon**b *D_cross/2*(c_EC_init/c_tot_init)*pybamm.div(pybamm.grad(c_e))#\n",
    "        + epislon**b *D_EC*pybamm.div(pybamm.grad(c_EC))#\n",
    "        + sign_2 *    (\n",
    "                a*trans_i*j_tot/F\n",
    "                +a* (1+trans_i)*j_SEI/F\n",
    "        #        -a*(j_SEI*V_bar_EC+j_tot*V_bar_Li-0.5*j_SEI*V_bar_SEI)*c_EC_init/F\n",
    "        ) } \n",
    "        model.initial_conditions = {c_e: pybamm.Scalar(c_init),c_EC: pybamm.Scalar(c_EC_init)}\n",
    "\n",
    "        model.boundary_conditions = {\n",
    "        c_e: {\"left\": (pybamm.Scalar(0), \"Neumann\"),\"right\": (pybamm.Scalar(0), \"Neumann\")},  \n",
    "        c_EC:{\"left\": (pybamm.Scalar(0), \"Neumann\"),\"right\": (pybamm.Scalar(0), \"Neumann\")} }\n",
    "\n",
    "        geometry = {\n",
    "        \"negative electrode\": {x_n: {\"min\": pybamm.Scalar(0), \"max\": pybamm.Scalar(8.52e-5)}},\n",
    "        \"separator\":          {x_s: {\"min\": pybamm.Scalar(8.52e-5), \"max\": pybamm.Scalar(9.72e-5)}},\n",
    "        \"positive electrode\": {x_p: {\"min\": pybamm.Scalar(9.72e-5), \"max\": pybamm.Scalar(17.28e-5)}},\n",
    "        }\n",
    "        # mesh and discretise ,\"separator\",\"positive electrode\"\n",
    "        submesh_types = {\n",
    "        \"negative electrode\": pybamm.MeshGenerator(pybamm.Uniform1DSubMesh),\n",
    "        \"separator\": pybamm.MeshGenerator(pybamm.Uniform1DSubMesh),\n",
    "        \"positive electrode\": pybamm.MeshGenerator(pybamm.Uniform1DSubMesh),\n",
    "        }\n",
    "        var_pts = {x_n: 20, x_s:20, x_p:20}\n",
    "        mesh = pybamm.Mesh(geometry, submesh_types, var_pts)\n",
    "        spatial_methods = {\n",
    "        \"negative electrode\": pybamm.FiniteVolume(),\n",
    "        \"separator\": pybamm.FiniteVolume(),\n",
    "        \"positive electrode\": pybamm.FiniteVolume(),\n",
    "        }\n",
    "        disc = pybamm.Discretisation(mesh, spatial_methods)\n",
    "        disc.process_model(model);\n",
    "        # solve\n",
    "        solver = pybamm.ScipySolver()\n",
    "        solution = solver.solve(model, [0,t_in_s])\n",
    "        pybamm.dynamic_plot(solution,\n",
    "        [\n",
    "                \"Li+ concentration\",\n",
    "                \"EC concentration\",\n",
    "                \"Porosity times Li+ concentration\", \n",
    "                \"Porosity times EC concentration\",\n",
    "        ],)\n",
    "        return"
   ]
  },
  {
   "cell_type": "code",
   "execution_count": 3,
   "metadata": {},
   "outputs": [
    {
     "data": {
      "text/plain": [
       "[<matplotlib.lines.Line2D at 0x27f12d127f0>]"
      ]
     },
     "execution_count": 3,
     "metadata": {},
     "output_type": "execute_result"
    },
    {
     "data": {
      "image/png": "[encoded data removed]",
      "text/plain": [
       "<Figure size 432x288 with 1 Axes>"
      ]
     },
     "metadata": {
      "needs_background": "light"
     },
     "output_type": "display_data"
    }
   ],
   "source": [
    "c_ec_test = np.linspace(0,1e4,100);\n",
    "c_ec_typ = 4541\n",
    "Xi_ec = np.tanh(c_ec_test/4541)   *(-1.4)\n",
    "plt.plot(c_ec_test,Xi_ec)"
   ]
  },
  {
   "cell_type": "code",
   "execution_count": 4,
   "metadata": {},
   "outputs": [
    {
     "data": {
      "application/vnd.jupyter.widget-view+json": {
       "model_id": "a78cd2c80c2e47209d1772b7483acbe9",
       "version_major": 2,
       "version_minor": 0
      },
      "text/plain": [
       "interactive(children=(FloatSlider(value=0.0, description='t', max=8.333333333333332, step=0.08333333333333331)…"
      ]
     },
     "metadata": {},
     "output_type": "display_data"
    }
   ],
   "source": [
    "# parameter - dimensional \n",
    "D_e     = 3e-10;    # Li+ diffusivity in m2/s\n",
    "D_EC    = 5e-10;    # EC  diffusivity in m2/s\n",
    "D_cross = 1.5e-9;  # Cross diffusivity in m2/s\n",
    "# based on wip\\Rio_Code\\P3_R0\\Check_eley_current_dens.ipynb\n",
    "i_eley = 50;         # Electrolyte current density [A.m-2]\n",
    "t_0plus = 0.3;      # Transference number for Li+\n",
    "trans_i = -1.4;     # Transference number for EC  \n",
    "j_tot_n_num = 2.1;j_tot_p_num=-1.7;j_SEI_n_num = 1e-3;\n",
    "t_in_s = 30000\n",
    "RunStandalone(D_e,D_EC,D_cross,t_0plus,trans_i,j_tot_n_num,j_tot_p_num,j_SEI_n_num,i_eley,t_in_s)\n"
   ]
  },
  {
   "cell_type": "markdown",
   "metadata": {},
   "source": [
    "print( epislon**b *D_e )\n",
    "print( epislon**b *D_cross*(c_init/c_tot_init))\n",
    "print( a*(1-t_0plus)*j_tot/F\n",
    "    - a*sign_2*(j_SEI*V_bar_EC+j_tot*V_bar_Li-0.5*j_SEI*V_bar_SEI)*c_init/F)"
   ]
  },
  {
   "cell_type": "markdown",
   "metadata": {},
   "source": [
    "print( epislon**b *D_cross*(c_EC_init/c_tot_init) )\n",
    "print( epislon**b *D_EC   )\n",
    "print( sign_2 * (\n",
    "        a*trans_i*j_tot/F\n",
    "        +a* (1+trans_i)*j_SEI/F\n",
    "        -a*(j_SEI*V_bar_EC+j_tot*V_bar_Li-0.5*j_SEI*V_bar_SEI)*c_EC_init/F\n",
    "    ))"
   ]
  },
  {
   "cell_type": "code",
   "execution_count": 5,
   "metadata": {},
   "outputs": [
    {
     "data": {
      "application/vnd.jupyter.widget-view+json": {
       "model_id": "429967561840427bb7574da71ce5d212",
       "version_major": 2,
       "version_minor": 0
      },
      "text/plain": [
       "interactive(children=(FloatSlider(value=0.0, description='t', max=8.333333333333332, step=0.08333333333333331)…"
      ]
     },
     "metadata": {},
     "output_type": "display_data"
    },
    {
     "data": {
      "application/vnd.jupyter.widget-view+json": {
       "model_id": "13ea811716bd4ab7b00fe310ac238845",
       "version_major": 2,
       "version_minor": 0
      },
      "text/plain": [
       "interactive(children=(FloatSlider(value=0.0, description='t', max=20.0, step=0.2), Output()), _dom_classes=('w…"
      ]
     },
     "metadata": {},
     "output_type": "display_data"
    }
   ],
   "source": [
    "RunStandalone(D_e,D_EC,D_cross,t_0plus,trans_i,j_tot_n_num/100,j_tot_p_num/100,0,i_eley,t_in_s) #\n",
    "RunStandalone(D_e,D_EC,D_cross,t_0plus,trans_i/100,j_tot_n_num,j_tot_p_num,0,i_eley,72000) #\n"
   ]
  },
  {
   "cell_type": "code",
   "execution_count": null,
   "metadata": {},
   "outputs": [],
   "source": []
  },
  {
   "cell_type": "code",
   "execution_count": null,
   "metadata": {},
   "outputs": [],
   "source": []
  }
 ],
 "metadata": {
  "kernelspec": {
   "display_name": "Python 3.9.6 ('envPBGEM')",
   "language": "python",
   "name": "python3"
  },
  "language_info": {
   "codemirror_mode": {
    "name": "ipython",
    "version": 3
   },
   "file_extension": ".py",
   "mimetype": "text/x-python",
   "name": "python",
   "nbconvert_exporter": "python",
   "pygments_lexer": "ipython3",
   "version": "3.9.6"
  },
  "orig_nbformat": 4,
  "vscode": {
   "interpreter": {
    "hash": "83fab7fbb3a8fe7b5910804f702478ef63e2cc6a08d85072a5d68865ed0fd8c7"
   }
  }
 },
 "nbformat": 4,
 "nbformat_minor": 2
}
