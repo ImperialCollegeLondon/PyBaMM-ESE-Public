{
 "cells": [
  {
   "cell_type": "markdown",
   "metadata": {},
   "source": [
    "# Single Particle Model (SPM) "
   ]
  },
  {
   "cell_type": "markdown",
   "metadata": {},
   "source": [
    "## Model Equations"
   ]
  },
  {
   "cell_type": "markdown",
   "metadata": {},
   "source": [
    "The SPM consists of two spherically symmetric diffusion equations: one within a representative negative particle ($\\text{k}=\\text{n}$) and one within a representative positive particle ($\\text{k}=\\text{p}$). In the centre of the particle the standard no-flux condition is imposed. Since the SPM assumes that all particles in an electrode behave in exactly the same way, the flux on the surface of a particle is simply the current $I$ divided by the thickness of the electrode $L_{\\text{k}}$. The concentration of lithium in electrode $\\text{k}$ is denoted $c_{\\text{k}}$ and the current is denoted by $I$. All parameters in the model stated here are dimensionless and are given in terms of dimensional parameters at the end of this notebook. The model equations for the SPM are then: \n",
    "\\begin{align}\n",
    "\\mathcal{C}_{\\text{k}} \\frac{\\partial c_{\\text{s,k}}}{\\partial t} &= -\\frac{1}{r_{\\text{k}}^2} \\frac{\\partial}{\\partial r_{\\text{k}}} \\left(r_{\\text{k}}^2 N_{\\text{s,k}}\\right), \\\\\n",
    "N_{\\text{s,k}} &= -D_{\\text{s,k}}(c_{\\text{s,k}}) \\frac{\\partial c_{\\text{s,k}}}{\\partial r_{\\text{k}}}, \\quad \\text{k} \\in \\text{n, p}, \\end{align}\n",
    "$$\n",
    "N_{\\text{s,k}}\\big|_{r_{\\text{k}}=0} = 0, \\quad \\text{k} \\in \\text{n, p}, \\quad \\ \\ - \\frac{a_{R, \\text{k}}\\gamma_{\\text{k}}}{\\mathcal{C}_{\\text{k}}} N_{\\text{s,k}}\\big|_{r_{\\text{k}}=1} = \n",
    "\\begin{cases}\n",
    "\t\t  \\frac{I}{L_{\\text{n}}}, \\quad &\\text{k}=\\text{n}, \\\\ \n",
    "\t\t  -\\frac{I}{L_{\\text{p}}}, \\quad &\\text{k}=\\text{p}, \n",
    "\\end{cases} \\\\\n",
    "c_{\\text{s,k}}(r_{\\text{k}},0) = c_{\\text{s,k,0}}, \\quad \\text{k} \\in \\text{n, p},$$\n",
    "where $D_{\\text{s,k}}$ is the diffusion coefficient in the solid, $N_{\\text{s,k}}$ denotes the flux of lithium ions in the solid particle within the region $\\text{k}$, and $r_{\\text{k}} \\in[0,1]$ is the radial coordinate of the particle in electrode $\\text{k}$. \n",
    "\n",
    "### Voltage Expression\n",
    "The terminal voltage is obtained from the expression: \n",
    "$$\n",
    "V = U_{\\text{p}}(c_{\\text{p}})\\big|_{r_{\\text{p}}=1} - U_{\\text{n}}(c_{\\text{n}})\\big|_{r_{\\text{n}}=1} -2\\sinh^{-1}\\left(\\frac{I}{j_{\\text{0,p}} L_{\\text{p}}}\\right) - 2\\sinh^{-1}\\left(\\frac{I}{j_{\\text{0,n}} L_{\\text{n}}}\\right)\n",
    "$$\n",
    "with the exchange current densities given by\n",
    "$$j_{\\text{0,k}} =  \\frac{\\gamma_{\\text{k}}}{\\mathcal{C}_{\\text{r,k}}}(c_{\\text{k}})^{1/2}(1-c_{\\text{k}})^{1/2}  $$\n",
    "\n",
    "More details can be found in [[3]](#References)."
   ]
  },
  {
   "cell_type": "markdown",
   "metadata": {},
   "source": [
    "## Example solving SPM using PyBaMM\n",
    "\n",
    "Below we show how to solve the Single Particle Model, using the default geometry, mesh, parameters, discretisation and solver provided with PyBaMM. In this notebook we explicitly handle all the stages of setting up, processing and solving the model in order to explain them in detail. However, it is often simpler in practice to use the `Simulation` class, which handles many of the stages automatically, as shown [here](../simulation-class.ipynb).\n",
    "\n",
    "First we need to import `pybamm`, and then change our working directory to the root of the pybamm folder. "
   ]
  },
  {
   "cell_type": "code",
   "execution_count": 1,
   "metadata": {},
   "outputs": [],
   "source": [
    "import pybamm\n",
    "import numpy as np\n",
    "import os\n",
    "import matplotlib.pyplot as plt\n",
    "os.chdir(pybamm.__path__[0]+'/..')"
   ]
  },
  {
   "cell_type": "markdown",
   "metadata": {},
   "source": [
    "We then create an instance of the SPM:"
   ]
  },
  {
   "cell_type": "code",
   "execution_count": 2,
   "metadata": {},
   "outputs": [],
   "source": [
    "model = pybamm.lithium_ion.SPM()"
   ]
  },
  {
   "cell_type": "markdown",
   "metadata": {},
   "source": [
    "The model object is a subtype of [`pybamm.BaseModel`](https://pybamm.readthedocs.io/en/latest/source/models/base_models/base_model.html), and contains all the equations that define this particular model. For example, the `rhs` dict contained in `model` has a dictionary mapping variables such as $c_n$ to the equation representing its rate of change with time (i.e. $\\partial{c_n}/\\partial{t}$). We can see this explicitly by visualising this entry in the `rhs` dict:"
   ]
  },
  {
   "cell_type": "code",
   "execution_count": 21,
   "metadata": {},
   "outputs": [
    {
     "data": {
      "text/plain": [
       "{'calculate discharge energy': 'false',\n",
       " 'cell geometry': 'arbitrary',\n",
       " 'calculate heat source for isothermal models': 'false',\n",
       " 'convection': 'none',\n",
       " 'current collector': 'uniform',\n",
       " 'dimensionality': 0,\n",
       " 'electrolyte conductivity': 'default',\n",
       " 'hydrolysis': 'false',\n",
       " 'intercalation kinetics': 'symmetric Butler-Volmer',\n",
       " 'interface utilisation': 'full',\n",
       " 'lithium plating': 'none',\n",
       " 'lithium plating porosity change': 'false',\n",
       " 'loss of active material': 'none',\n",
       " 'operating mode': 'current',\n",
       " 'particle': 'Fickian diffusion',\n",
       " 'particle mechanics': 'none',\n",
       " 'particle shape': 'spherical',\n",
       " 'particle size': 'single',\n",
       " 'SEI': 'none',\n",
       " 'SEI film resistance': 'none',\n",
       " 'SEI on cracks': 'false',\n",
       " 'SEI porosity change': 'false',\n",
       " 'stress-induced diffusion': 'false',\n",
       " 'surface form': 'false',\n",
       " 'thermal': 'isothermal',\n",
       " 'total interfacial current density as a state': 'false',\n",
       " 'working electrode': 'both',\n",
       " 'x-average side reactions': 'true',\n",
       " 'external submodels': [],\n",
       " 'timescale': 'default'}"
      ]
     },
     "execution_count": 21,
     "metadata": {},
     "output_type": "execute_result"
    }
   ],
   "source": [
    "model.options"
   ]
  },
  {
   "cell_type": "code",
   "execution_count": 3,
   "metadata": {},
   "outputs": [
    {
     "name": "stderr",
     "output_type": "stream",
     "text": [
      "2022-09-05 15:24:58.644 - [ERROR] symbol.visualise(461): Please install graphviz>=2.42.2 to use dot exporter\n"
     ]
    },
    {
     "name": "stdout",
     "output_type": "stream",
     "text": [
      "rhs equation for variable ' X-averaged negative particle concentration ' is:\n"
     ]
    }
   ],
   "source": [
    "variable = list(model.rhs.keys())[1]\n",
    "equation = list(model.rhs.values())[1]\n",
    "print('rhs equation for variable \\'',variable,'\\' is:')\n",
    "path = 'examples/notebooks/models/'\n",
    "equation.visualise(path+'spm1.png')"
   ]
  },
  {
   "cell_type": "markdown",
   "metadata": {},
   "source": [
    "![](spm1.png)"
   ]
  },
  {
   "cell_type": "markdown",
   "metadata": {},
   "source": [
    "We need a geometry in which to define our model equations. In pybamm this is represented by the [`pybamm.Geometry`](https://pybamm.readthedocs.io/en/latest/source/geometry/geometry.html) class. In this case we use the default geometry object defined by the model"
   ]
  },
  {
   "cell_type": "code",
   "execution_count": 4,
   "metadata": {},
   "outputs": [],
   "source": [
    "geometry = model.default_geometry"
   ]
  },
  {
   "cell_type": "markdown",
   "metadata": {},
   "source": [
    "This geometry object defines a number of domains, each with its own name, spatial variables and min/max limits (the latter are represented as equations similar to the rhs equation shown above). For instance, the SPM has the following domains:"
   ]
  },
  {
   "cell_type": "code",
   "execution_count": 5,
   "metadata": {},
   "outputs": [
    {
     "name": "stdout",
     "output_type": "stream",
     "text": [
      "SPM domains:\n",
      "1. negative electrode with variables:\n",
      "  -( 0 ) <= x_n <= ( Negative electrode thickness [m] / (Negative electrode thickness [m] + Separator thickness [m] + Positive electrode thickness [m]) )\n",
      "2. separator with variables:\n",
      "  -( Negative electrode thickness [m] / (Negative electrode thickness [m] + Separator thickness [m] + Positive electrode thickness [m]) ) <= x_s <= ( Negative electrode thickness [m] / (Negative electrode thickness [m] + Separator thickness [m] + Positive electrode thickness [m]) + Separator thickness [m] / (Negative electrode thickness [m] + Separator thickness [m] + Positive electrode thickness [m]) )\n",
      "3. positive electrode with variables:\n",
      "  -( Negative electrode thickness [m] / (Negative electrode thickness [m] + Separator thickness [m] + Positive electrode thickness [m]) + Separator thickness [m] / (Negative electrode thickness [m] + Separator thickness [m] + Positive electrode thickness [m]) ) <= x_p <= ( 1 )\n",
      "4. negative particle with variables:\n",
      "  -( 0 ) <= r_n <= ( 1 )\n",
      "5. positive particle with variables:\n",
      "  -( 0 ) <= r_p <= ( 1 )\n",
      "6. current collector with variables:\n",
      "z = 1\n"
     ]
    }
   ],
   "source": [
    "print('SPM domains:')\n",
    "for i, (k, v) in enumerate(geometry.items()):\n",
    "    print(str(i+1)+'.',k,'with variables:')\n",
    "    for var, rng in v.items():\n",
    "        if 'min' in rng:\n",
    "            print('  -(',rng['min'],') <=',var,'<= (',rng['max'],')')\n",
    "        else:\n",
    "            print(var, '=', rng['position'])"
   ]
  },
  {
   "cell_type": "markdown",
   "metadata": {},
   "source": [
    "Both the model equations and the geometry include parameters, such as $\\gamma_p$ or $L_p$. We can substitute these symbolic parameters in the model with values by using the [`pybamm.ParameterValues`](https://pybamm.readthedocs.io/en/latest/source/parameters/parameter_values.html) class, which takes either a python dictionary or CSV file with the mapping between parameter names and values. Rather than create our own instance of `pybamm.ParameterValues`, we will use the default parameter set included in the model"
   ]
  },
  {
   "cell_type": "code",
   "execution_count": 6,
   "metadata": {},
   "outputs": [],
   "source": [
    "param = model.default_parameter_values"
   ]
  },
  {
   "cell_type": "markdown",
   "metadata": {},
   "source": [
    "We can then apply this parameter set to the model and geometry"
   ]
  },
  {
   "cell_type": "code",
   "execution_count": 7,
   "metadata": {},
   "outputs": [],
   "source": [
    "param.process_model(model)\n",
    "param.process_geometry(geometry)"
   ]
  },
  {
   "cell_type": "markdown",
   "metadata": {},
   "source": [
    "The next step is to mesh the input geometry. We can do this using the [`pybamm.Mesh`](https://pybamm.readthedocs.io/en/latest/source/meshes/meshes.html) class. This class takes in the geometry of the problem, and also two dictionaries containing the type of mesh to use within each domain of the geometry (i.e. within the positive or negative electrode domains), and the number of mesh points. \n",
    "\n",
    "The default mesh types and the default number of points to use in each variable for the SPM are:"
   ]
  },
  {
   "cell_type": "code",
   "execution_count": 8,
   "metadata": {
    "scrolled": true
   },
   "outputs": [
    {
     "name": "stdout",
     "output_type": "stream",
     "text": [
      "negative electrode is of type Uniform1DSubMesh\n",
      "separator is of type Uniform1DSubMesh\n",
      "positive electrode is of type Uniform1DSubMesh\n",
      "negative particle is of type Uniform1DSubMesh\n",
      "positive particle is of type Uniform1DSubMesh\n",
      "negative particle size is of type Uniform1DSubMesh\n",
      "positive particle size is of type Uniform1DSubMesh\n",
      "current collector is of type SubMesh0D\n",
      "x_n has 20 mesh points\n",
      "x_s has 20 mesh points\n",
      "x_p has 20 mesh points\n",
      "r_n has 20 mesh points\n",
      "r_p has 20 mesh points\n",
      "y has 10 mesh points\n",
      "z has 10 mesh points\n",
      "R_n has 30 mesh points\n",
      "R_p has 30 mesh points\n"
     ]
    }
   ],
   "source": [
    "for k, t in model.default_submesh_types.items():\n",
    "    print(k,'is of type',t.__name__)\n",
    "for var, npts in model.default_var_pts.items():\n",
    "    print(var,'has',npts,'mesh points')"
   ]
  },
  {
   "cell_type": "markdown",
   "metadata": {},
   "source": [
    "With these defaults, we can then create our mesh of the given geometry:"
   ]
  },
  {
   "cell_type": "code",
   "execution_count": 9,
   "metadata": {},
   "outputs": [],
   "source": [
    "mesh = pybamm.Mesh(geometry, model.default_submesh_types, model.default_var_pts)"
   ]
  },
  {
   "cell_type": "markdown",
   "metadata": {},
   "source": [
    "The next step is to discretise the model equations using this mesh. We do this using the [`pybamm.Discretisation`](https://pybamm.readthedocs.io/en/latest/source/spatial_methods/discretisation.html) class, which takes both the mesh we have already created, and a dictionary of spatial methods to use for each geometry domain. For the case of the SPM, we use the following defaults for the spatial discretisation methods:"
   ]
  },
  {
   "cell_type": "code",
   "execution_count": 10,
   "metadata": {},
   "outputs": [
    {
     "name": "stdout",
     "output_type": "stream",
     "text": [
      "macroscale is discretised using FiniteVolume method\n",
      "negative particle is discretised using FiniteVolume method\n",
      "positive particle is discretised using FiniteVolume method\n",
      "negative particle size is discretised using FiniteVolume method\n",
      "positive particle size is discretised using FiniteVolume method\n",
      "current collector is discretised using ZeroDimensionalSpatialMethod method\n"
     ]
    }
   ],
   "source": [
    "for k, method in model.default_spatial_methods.items():\n",
    "    print(k,'is discretised using',method.__class__.__name__,'method')"
   ]
  },
  {
   "cell_type": "markdown",
   "metadata": {},
   "source": [
    "We then create the `pybamm.Discretisation` object, and use this to discretise the model equations"
   ]
  },
  {
   "cell_type": "code",
   "execution_count": 11,
   "metadata": {},
   "outputs": [],
   "source": [
    "disc = pybamm.Discretisation(mesh, model.default_spatial_methods)\n",
    "disc.process_model(model);"
   ]
  },
  {
   "cell_type": "markdown",
   "metadata": {},
   "source": [
    "After this stage, all of the variables in `model` have been discretised into `pybamm.StateVector` objects, and spatial operators have been replaced by matrix-vector multiplications, ready to be evaluated within a time-stepping algorithm of a given solver. For example, the rhs expression for $\\partial{c_n}/\\partial{t}$ that we visualised above is now represented by:"
   ]
  },
  {
   "cell_type": "code",
   "execution_count": 12,
   "metadata": {},
   "outputs": [
    {
     "name": "stderr",
     "output_type": "stream",
     "text": [
      "2022-09-05 15:25:00.008 - [ERROR] symbol.visualise(461): Please install graphviz>=2.42.2 to use dot exporter\n"
     ]
    }
   ],
   "source": [
    "model.concatenated_rhs.children[1].visualise(path+'spm2.png')"
   ]
  },
  {
   "cell_type": "markdown",
   "metadata": {},
   "source": [
    "![](spm2.png)\n",
    "\n",
    "Now we are ready to run the time-stepping routine to solve the model. Once again we use the default ODE solver."
   ]
  },
  {
   "cell_type": "code",
   "execution_count": 13,
   "metadata": {},
   "outputs": [
    {
     "name": "stdout",
     "output_type": "stream",
     "text": [
      "Solving using CasadiSolver solver...\n",
      "Finished.\n"
     ]
    }
   ],
   "source": [
    "# Solve the model at the given time points (in seconds)\n",
    "solver = model.default_solver\n",
    "n = 250\n",
    "t_eval = np.linspace(0, 3600, n)\n",
    "print('Solving using',type(solver).__name__,'solver...')\n",
    "solution = solver.solve(model, t_eval)\n",
    "print('Finished.')"
   ]
  },
  {
   "cell_type": "markdown",
   "metadata": {},
   "source": [
    "Each model in pybamm has a list of relevant variables defined in the model, for use in visualising the model solution or for comparison with other models. The SPM defines the following variables:"
   ]
  },
  {
   "cell_type": "code",
   "execution_count": 14,
   "metadata": {},
   "outputs": [
    {
     "name": "stdout",
     "output_type": "stream",
     "text": [
      "SPM model variables:\n",
      "\t- Time\n",
      "\t- Time [s]\n",
      "\t- Time [min]\n",
      "\t- Time [h]\n",
      "\t- x\n",
      "\t- x [m]\n",
      "\t- x_n\n",
      "\t- x_n [m]\n",
      "\t- x_s\n",
      "\t- x_s [m]\n",
      "\t- x_p\n",
      "\t- x_p [m]\n",
      "\t- r_p\n",
      "\t- r_p [m]\n",
      "\t- r_n\n",
      "\t- r_n [m]\n",
      "\t- Current density variable\n",
      "\t- Total current density\n",
      "\t- Total current density [A.m-2]\n",
      "\t- Current [A]\n",
      "\t- C-rate\n",
      "\t- Discharge capacity [A.h]\n",
      "\t- Porosity\n",
      "\t- Separator porosity\n",
      "\t- Positive electrode porosity\n",
      "\t- X-averaged separator porosity\n",
      "\t- X-averaged positive electrode porosity\n",
      "\t- Negative electrode porosity\n",
      "\t- X-averaged negative electrode porosity\n",
      "\t- Leading-order porosity\n",
      "\t- Leading-order separator porosity\n",
      "\t- Leading-order positive electrode porosity\n",
      "\t- Leading-order x-averaged separator porosity\n",
      "\t- Leading-order x-averaged positive electrode porosity\n",
      "\t- Leading-order negative electrode porosity\n",
      "\t- Leading-order x-averaged negative electrode porosity\n",
      "\t- Porosity change\n",
      "\t- Separator porosity change\n",
      "\t- Positive electrode porosity change\n",
      "\t- X-averaged separator porosity change\n",
      "\t- X-averaged positive electrode porosity change\n",
      "\t- Negative electrode porosity change\n",
      "\t- X-averaged negative electrode porosity change\n",
      "\t- Leading-order x-averaged separator porosity change\n",
      "\t- Leading-order x-averaged positive electrode porosity change\n",
      "\t- Leading-order x-averaged negative electrode porosity change\n",
      "\t- Negative electrode interface utilisation variable\n",
      "\t- X-averaged negative electrode interface utilisation variable\n",
      "\t- Negative electrode interface utilisation\n",
      "\t- X-averaged negative electrode interface utilisation\n",
      "\t- Positive electrode interface utilisation variable\n",
      "\t- X-averaged positive electrode interface utilisation variable\n",
      "\t- Positive electrode interface utilisation\n",
      "\t- X-averaged positive electrode interface utilisation\n",
      "\t- Negative particle crack length [m]\n",
      "\t- Negative particle crack length\n",
      "\t- X-averaged negative particle crack length\n",
      "\t- X-averaged negative particle crack length [m]\n",
      "\t- Negative particle cracking rate\n",
      "\t- X-averaged Negative particle cracking rate\n",
      "\t- Positive particle crack length [m]\n",
      "\t- Positive particle crack length\n",
      "\t- X-averaged positive particle crack length\n",
      "\t- X-averaged positive particle crack length [m]\n",
      "\t- Positive particle cracking rate\n",
      "\t- X-averaged Positive particle cracking rate\n",
      "\t- Negative electrode active material volume fraction\n",
      "\t- X-averaged negative electrode active material volume fraction\n",
      "\t- Negative electrode capacity [A.h]\n",
      "\t- Negative particle radius\n",
      "\t- Negative particle radius [m]\n",
      "\t- Negative electrode surface area to volume ratio\n",
      "\t- Negative electrode surface area to volume ratio [m-1]\n",
      "\t- X-averaged negative electrode surface area to volume ratio\n",
      "\t- X-averaged negative electrode surface area to volume ratio [m-1]\n",
      "\t- Negative electrode active material volume fraction change\n",
      "\t- X-averaged negative electrode active material volume fraction change\n",
      "\t- Positive electrode active material volume fraction\n",
      "\t- X-averaged positive electrode active material volume fraction\n",
      "\t- Positive electrode capacity [A.h]\n",
      "\t- Positive particle radius\n",
      "\t- Positive particle radius [m]\n",
      "\t- Positive electrode surface area to volume ratio\n",
      "\t- Positive electrode surface area to volume ratio [m-1]\n",
      "\t- X-averaged positive electrode surface area to volume ratio\n",
      "\t- X-averaged positive electrode surface area to volume ratio [m-1]\n",
      "\t- Positive electrode active material volume fraction change\n",
      "\t- X-averaged positive electrode active material volume fraction change\n",
      "\t- Positive electrode volume-averaged velocity\n",
      "\t- Positive electrode volume-averaged velocity [m.s-1]\n",
      "\t- Negative electrode volume-averaged velocity\n",
      "\t- Negative electrode volume-averaged velocity [m.s-1]\n",
      "\t- Positive electrode volume-averaged acceleration\n",
      "\t- Positive electrode volume-averaged acceleration [m.s-1]\n",
      "\t- X-averaged positive electrode volume-averaged acceleration\n",
      "\t- X-averaged positive electrode volume-averaged acceleration [m.s-1]\n",
      "\t- Negative electrode volume-averaged acceleration\n",
      "\t- Negative electrode volume-averaged acceleration [m.s-1]\n",
      "\t- X-averaged negative electrode volume-averaged acceleration\n",
      "\t- X-averaged negative electrode volume-averaged acceleration [m.s-1]\n",
      "\t- Positive electrode pressure\n",
      "\t- X-averaged positive electrode pressure\n",
      "\t- Negative electrode pressure\n",
      "\t- X-averaged negative electrode pressure\n",
      "\t- Separator pressure\n",
      "\t- X-averaged separator pressure\n",
      "\t- Separator transverse volume-averaged velocity\n",
      "\t- Positive electrode transverse volume-averaged velocity\n",
      "\t- Separator transverse volume-averaged velocity [m.s-2]\n",
      "\t- Positive electrode transverse volume-averaged velocity [m.s-2]\n",
      "\t- X-averaged separator transverse volume-averaged velocity\n",
      "\t- X-averaged positive electrode transverse volume-averaged velocity\n",
      "\t- X-averaged separator transverse volume-averaged velocity [m.s-2]\n",
      "\t- X-averaged positive electrode transverse volume-averaged velocity [m.s-2]\n",
      "\t- Transverse volume-averaged velocity\n",
      "\t- Transverse volume-averaged velocity [m.s-2]\n",
      "\t- Negative electrode transverse volume-averaged velocity\n",
      "\t- Negative electrode transverse volume-averaged velocity [m.s-2]\n",
      "\t- X-averaged negative electrode transverse volume-averaged velocity\n",
      "\t- X-averaged negative electrode transverse volume-averaged velocity [m.s-2]\n",
      "\t- Separator transverse volume-averaged acceleration\n",
      "\t- Positive electrode transverse volume-averaged acceleration\n",
      "\t- Separator transverse volume-averaged acceleration [m.s-2]\n",
      "\t- Positive electrode transverse volume-averaged acceleration [m.s-2]\n",
      "\t- X-averaged separator transverse volume-averaged acceleration\n",
      "\t- X-averaged positive electrode transverse volume-averaged acceleration\n",
      "\t- X-averaged separator transverse volume-averaged acceleration [m.s-2]\n",
      "\t- X-averaged positive electrode transverse volume-averaged acceleration [m.s-2]\n",
      "\t- Transverse volume-averaged acceleration\n",
      "\t- Transverse volume-averaged acceleration [m.s-2]\n",
      "\t- Negative electrode transverse volume-averaged acceleration\n",
      "\t- Negative electrode transverse volume-averaged acceleration [m.s-2]\n",
      "\t- X-averaged negative electrode transverse volume-averaged acceleration\n",
      "\t- X-averaged negative electrode transverse volume-averaged acceleration [m.s-2]\n",
      "\t- Negative particle concentration\n",
      "\t- Negative particle concentration [mol.m-3]\n",
      "\t- X-averaged negative particle concentration\n",
      "\t- X-averaged negative particle concentration [mol.m-3]\n",
      "\t- R-averaged negative particle concentration\n",
      "\t- R-averaged negative particle concentration [mol.m-3]\n",
      "\t- Average negative particle concentration\n",
      "\t- Average negative particle concentration [mol.m-3]\n",
      "\t- Negative particle surface concentration\n",
      "\t- Negative particle surface concentration [mol.m-3]\n",
      "\t- X-averaged negative particle surface concentration\n",
      "\t- X-averaged negative particle surface concentration [mol.m-3]\n",
      "\t- Negative electrode extent of lithiation\n",
      "\t- X-averaged negative electrode extent of lithiation\n",
      "\t- Minimum negative particle concentration\n",
      "\t- Maximum negative particle concentration\n",
      "\t- Minimum negative particle concentration [mol.m-3]\n",
      "\t- Maximum negative particle concentration [mol.m-3]\n",
      "\t- Minimum negative particle surface concentration\n",
      "\t- Maximum negative particle surface concentration\n",
      "\t- Minimum negative particle surface concentration [mol.m-3]\n",
      "\t- Maximum negative particle surface concentration [mol.m-3]\n",
      "\t- Positive particle concentration\n",
      "\t- Positive particle concentration [mol.m-3]\n",
      "\t- X-averaged positive particle concentration\n",
      "\t- X-averaged positive particle concentration [mol.m-3]\n",
      "\t- R-averaged positive particle concentration\n",
      "\t- R-averaged positive particle concentration [mol.m-3]\n",
      "\t- Average positive particle concentration\n",
      "\t- Average positive particle concentration [mol.m-3]\n",
      "\t- Positive particle surface concentration\n",
      "\t- Positive particle surface concentration [mol.m-3]\n",
      "\t- X-averaged positive particle surface concentration\n",
      "\t- X-averaged positive particle surface concentration [mol.m-3]\n",
      "\t- Positive electrode extent of lithiation\n",
      "\t- X-averaged positive electrode extent of lithiation\n",
      "\t- Minimum positive particle concentration\n",
      "\t- Maximum positive particle concentration\n",
      "\t- Minimum positive particle concentration [mol.m-3]\n",
      "\t- Maximum positive particle concentration [mol.m-3]\n",
      "\t- Minimum positive particle surface concentration\n",
      "\t- Maximum positive particle surface concentration\n",
      "\t- Minimum positive particle surface concentration [mol.m-3]\n",
      "\t- Maximum positive particle surface concentration [mol.m-3]\n",
      "\t- Electrolyte concentration\n",
      "\t- Electrolyte concentration [mol.m-3]\n",
      "\t- Electrolyte concentration [Molar]\n",
      "\t- X-averaged electrolyte concentration\n",
      "\t- X-averaged electrolyte concentration [mol.m-3]\n",
      "\t- X-averaged electrolyte concentration [Molar]\n",
      "\t- Negative electrolyte concentration\n",
      "\t- Negative electrolyte concentration [mol.m-3]\n",
      "\t- Negative electrolyte concentration [Molar]\n",
      "\t- Separator electrolyte concentration\n",
      "\t- Separator electrolyte concentration [mol.m-3]\n",
      "\t- Separator electrolyte concentration [Molar]\n",
      "\t- Positive electrolyte concentration\n",
      "\t- Positive electrolyte concentration [mol.m-3]\n",
      "\t- Positive electrolyte concentration [Molar]\n",
      "\t- X-averaged negative electrolyte concentration\n",
      "\t- X-averaged negative electrolyte concentration [mol.m-3]\n",
      "\t- X-averaged separator electrolyte concentration\n",
      "\t- X-averaged separator electrolyte concentration [mol.m-3]\n",
      "\t- X-averaged positive electrolyte concentration\n",
      "\t- X-averaged positive electrolyte concentration [mol.m-3]\n",
      "\t- Electrolyte flux\n",
      "\t- Electrolyte flux [mol.m-2.s-1]\n",
      "\t- Negative current collector temperature\n",
      "\t- Negative current collector temperature [K]\n",
      "\t- X-averaged negative electrode temperature\n",
      "\t- X-averaged negative electrode temperature [K]\n",
      "\t- Negative electrode temperature\n",
      "\t- Negative electrode temperature [K]\n",
      "\t- X-averaged separator temperature\n",
      "\t- X-averaged separator temperature [K]\n",
      "\t- Separator temperature\n",
      "\t- Separator temperature [K]\n",
      "\t- X-averaged positive electrode temperature\n",
      "\t- X-averaged positive electrode temperature [K]\n",
      "\t- Positive electrode temperature\n",
      "\t- Positive electrode temperature [K]\n",
      "\t- Positive current collector temperature\n",
      "\t- Positive current collector temperature [K]\n",
      "\t- Cell temperature\n",
      "\t- Cell temperature [K]\n",
      "\t- X-averaged cell temperature\n",
      "\t- X-averaged cell temperature [K]\n",
      "\t- Volume-averaged cell temperature\n",
      "\t- Volume-averaged cell temperature [K]\n",
      "\t- Ambient temperature [K]\n",
      "\t- Ambient temperature\n",
      "\t- Negative current collector potential\n",
      "\t- Negative current collector potential [V]\n",
      "\t- Inner SEI thickness\n",
      "\t- Inner SEI thickness [m]\n",
      "\t- Outer SEI thickness\n",
      "\t- Outer SEI thickness [m]\n",
      "\t- X-averaged inner SEI thickness\n",
      "\t- X-averaged inner SEI thickness [m]\n",
      "\t- X-averaged outer SEI thickness\n",
      "\t- X-averaged outer SEI thickness [m]\n",
      "\t- SEI thickness\n",
      "\t- SEI [m]\n",
      "\t- Total SEI thickness\n",
      "\t- Total SEI thickness [m]\n",
      "\t- X-averaged SEI thickness\n",
      "\t- X-averaged SEI thickness [m]\n",
      "\t- X-averaged total SEI thickness\n",
      "\t- X-averaged total SEI thickness [m]\n",
      "\t- X-averaged negative electrode resistance [Ohm.m2]\n",
      "\t- Inner SEI interfacial current density\n",
      "\t- Inner SEI interfacial current density [A.m-2]\n",
      "\t- X-averaged inner SEI interfacial current density\n",
      "\t- X-averaged inner SEI interfacial current density [A.m-2]\n",
      "\t- Outer SEI interfacial current density\n",
      "\t- Outer SEI interfacial current density [A.m-2]\n",
      "\t- X-averaged outer SEI interfacial current density\n",
      "\t- X-averaged outer SEI interfacial current density [A.m-2]\n",
      "\t- SEI interfacial current density\n",
      "\t- SEI interfacial current density [A.m-2]\n",
      "\t- X-averaged SEI interfacial current density\n",
      "\t- X-averaged SEI interfacial current density [A.m-2]\n",
      "\t- Inner SEI on cracks thickness\n",
      "\t- Inner SEI on cracks thickness [m]\n",
      "\t- Outer SEI on cracks thickness\n",
      "\t- Outer SEI on cracks thickness [m]\n",
      "\t- X-averaged inner SEI on cracks thickness\n",
      "\t- X-averaged inner SEI on cracks thickness [m]\n",
      "\t- X-averaged outer SEI on cracks thickness\n",
      "\t- X-averaged outer SEI on cracks thickness [m]\n",
      "\t- SEI on cracks thickness\n",
      "\t- SEI on cracks [m]\n",
      "\t- Total SEI on cracks thickness\n",
      "\t- Total SEI on cracks thickness [m]\n",
      "\t- X-averaged SEI on cracks thickness\n",
      "\t- X-averaged SEI on cracks thickness [m]\n",
      "\t- X-averaged total SEI on cracks thickness\n",
      "\t- X-averaged total SEI on cracks thickness [m]\n",
      "\t- Inner SEI on cracks interfacial current density\n",
      "\t- Inner SEI on cracks interfacial current density [A.m-2]\n",
      "\t- X-averaged inner SEI on cracks interfacial current density\n",
      "\t- X-averaged inner SEI on cracks interfacial current density [A.m-2]\n",
      "\t- Outer SEI on cracks interfacial current density\n",
      "\t- Outer SEI on cracks interfacial current density [A.m-2]\n",
      "\t- X-averaged outer SEI on cracks interfacial current density\n",
      "\t- X-averaged outer SEI on cracks interfacial current density [A.m-2]\n",
      "\t- SEI on cracks interfacial current density\n",
      "\t- SEI on cracks interfacial current density [A.m-2]\n",
      "\t- X-averaged SEI on cracks interfacial current density\n",
      "\t- X-averaged SEI on cracks interfacial current density [A.m-2]\n",
      "\t- Lithium plating concentration\n",
      "\t- Lithium plating concentration [mol.m-3]\n",
      "\t- X-averaged lithium plating concentration\n",
      "\t- X-averaged lithium plating concentration [mol.m-3]\n",
      "\t- Dead lithium concentration\n",
      "\t- Dead lithium concentration [mol.m-3]\n",
      "\t- X-averaged dead lithium concentration\n",
      "\t- X-averaged dead lithium concentration [mol.m-3]\n",
      "\t- Lithium plating thickness\n",
      "\t- Lithium plating thickness [m]\n",
      "\t- X-averaged lithium plating thickness [m]\n",
      "\t- Dead lithium thickness\n",
      "\t- Dead lithium thickness [m]\n",
      "\t- X-averaged dead lithium thickness [m]\n",
      "\t- Loss of lithium to lithium plating [mol]\n",
      "\t- Loss of capacity to lithium plating [A.h]\n",
      "\t- Negative electrode lithium plating reaction overpotential\n",
      "\t- X-averaged negative electrode lithium plating reaction overpotential\n",
      "\t- Negative electrode lithium plating reaction overpotential [V]\n",
      "\t- X-averaged negative electrode lithium plating reaction overpotential [V]\n",
      "\t- Lithium plating interfacial current density\n",
      "\t- Lithium plating interfacial current density [A.m-2]\n",
      "\t- X-averaged lithium plating interfacial current density\n",
      "\t- X-averaged lithium plating interfacial current density [A.m-2]\n",
      "\t- Negative crack surface to volume ratio [m-1]\n",
      "\t- Negative crack surface to volume ratio\n",
      "\t- Negative electrode roughness ratio\n",
      "\t- X-averaged negative electrode roughness ratio\n",
      "\t- Positive crack surface to volume ratio [m-1]\n",
      "\t- Positive crack surface to volume ratio\n",
      "\t- Positive electrode roughness ratio\n",
      "\t- X-averaged positive electrode roughness ratio\n",
      "\t- Electrolyte transport efficiency\n",
      "\t- Positive electrolyte transport efficiency\n",
      "\t- X-averaged positive electrolyte transport efficiency\n",
      "\t- Negative electrolyte transport efficiency\n",
      "\t- X-averaged negative electrolyte transport efficiency\n",
      "\t- Separator transport efficiency\n",
      "\t- X-averaged separator transport efficiency\n",
      "\t- Electrode transport efficiency\n",
      "\t- Positive electrode transport efficiency\n",
      "\t- X-averaged positive electrode transport efficiency\n",
      "\t- Negative electrode transport efficiency\n",
      "\t- X-averaged negative electrode transport efficiency\n",
      "\t- Separator volume-averaged velocity\n",
      "\t- Separator volume-averaged velocity [m.s-1]\n",
      "\t- Separator volume-averaged acceleration\n",
      "\t- Separator volume-averaged acceleration [m.s-1]\n",
      "\t- X-averaged separator volume-averaged acceleration\n",
      "\t- X-averaged separator volume-averaged acceleration [m.s-1]\n",
      "\t- Volume-averaged velocity\n",
      "\t- Volume-averaged velocity [m.s-1]\n",
      "\t- Volume-averaged acceleration\n",
      "\t- X-averaged volume-averaged acceleration\n",
      "\t- Volume-averaged acceleration [m.s-1]\n",
      "\t- X-averaged volume-averaged acceleration [m.s-1]\n",
      "\t- Pressure\n",
      "\t- Negative electrode open circuit potential\n",
      "\t- Negative electrode open circuit potential [V]\n",
      "\t- X-averaged negative electrode open circuit potential\n",
      "\t- X-averaged negative electrode open circuit potential [V]\n",
      "\t- Negative electrode entropic change\n",
      "\t- Negative electrode entropic change [V.K-1]\n",
      "\t- X-averaged negative electrode entropic change\n",
      "\t- X-averaged negative electrode entropic change [V.K-1]\n",
      "\t- Positive electrode open circuit potential\n",
      "\t- Positive electrode open circuit potential [V]\n",
      "\t- X-averaged positive electrode open circuit potential\n",
      "\t- X-averaged positive electrode open circuit potential [V]\n",
      "\t- Positive electrode entropic change\n",
      "\t- Positive electrode entropic change [V.K-1]\n",
      "\t- X-averaged positive electrode entropic change\n",
      "\t- X-averaged positive electrode entropic change [V.K-1]\n",
      "\t- Negative effective diffusivity\n",
      "\t- Negative effective diffusivity [m2.s-1]\n",
      "\t- X-averaged negative effective diffusivity\n",
      "\t- X-averaged negative effective diffusivity [m2.s-1]\n",
      "\t- Negative particle flux\n",
      "\t- X-averaged negative particle flux\n",
      "\t- Negative electrode SOC\n",
      "\t- Negative electrode volume-averaged concentration\n",
      "\t- Negative electrode volume-averaged concentration [mol.m-3]\n",
      "\t- Total lithium in negative electrode [mol]\n",
      "\t- Positive effective diffusivity\n",
      "\t- Positive effective diffusivity [m2.s-1]\n",
      "\t- X-averaged positive effective diffusivity\n",
      "\t- X-averaged positive effective diffusivity [m2.s-1]\n",
      "\t- Positive particle flux\n",
      "\t- X-averaged positive particle flux\n",
      "\t- Positive electrode SOC\n",
      "\t- Positive electrode volume-averaged concentration\n",
      "\t- Positive electrode volume-averaged concentration [mol.m-3]\n",
      "\t- Total lithium in positive electrode [mol]\n",
      "\t- Porosity times concentration\n",
      "\t- Separator porosity times concentration\n",
      "\t- Positive electrode porosity times concentration\n",
      "\t- Negative electrode porosity times concentration\n",
      "\t- Total lithium in electrolyte\n",
      "\t- Total lithium in electrolyte [mol]\n",
      "\t- Ohmic heating\n",
      "\t- Ohmic heating [W.m-3]\n",
      "\t- X-averaged Ohmic heating\n",
      "\t- X-averaged Ohmic heating [W.m-3]\n",
      "\t- Volume-averaged Ohmic heating\n",
      "\t- Volume-averaged Ohmic heating [W.m-3]\n",
      "\t- Irreversible electrochemical heating\n",
      "\t- Irreversible electrochemical heating [W.m-3]\n",
      "\t- X-averaged irreversible electrochemical heating\n",
      "\t- X-averaged irreversible electrochemical heating [W.m-3]\n",
      "\t- Volume-averaged irreversible electrochemical heating\n",
      "\t- Volume-averaged irreversible electrochemical heating[W.m-3]\n",
      "\t- Reversible heating\n",
      "\t- Reversible heating [W.m-3]\n",
      "\t- X-averaged reversible heating\n",
      "\t- X-averaged reversible heating [W.m-3]\n",
      "\t- Volume-averaged reversible heating\n",
      "\t- Volume-averaged reversible heating [W.m-3]\n",
      "\t- Total heating\n",
      "\t- Total heating [W.m-3]\n",
      "\t- X-averaged total heating\n",
      "\t- X-averaged total heating [W.m-3]\n",
      "\t- Volume-averaged total heating\n",
      "\t- Volume-averaged total heating [W.m-3]\n",
      "\t- Current collector current density\n",
      "\t- Current collector current density [A.m-2]\n",
      "\t- Leading-order current collector current density\n",
      "\t- Inner SEI concentration [mol.m-3]\n",
      "\t- X-averaged inner SEI concentration [mol.m-3]\n",
      "\t- Outer SEI concentration [mol.m-3]\n",
      "\t- X-averaged outer SEI concentration [mol.m-3]\n",
      "\t- SEI concentration [mol.m-3]\n",
      "\t- X-averaged SEI concentration [mol.m-3]\n",
      "\t- Loss of lithium to SEI [mol]\n",
      "\t- Loss of capacity to SEI [A.h]\n",
      "\t- X-averaged negative electrode SEI interfacial current density\n",
      "\t- Negative electrode SEI interfacial current density\n",
      "\t- Negative electrode SEI interfacial current density [A.m-2]\n",
      "\t- Negative electrode SEI volumetric interfacial current density\n",
      "\t- X-averaged negative electrode SEI volumetric interfacial current density\n",
      "\t- Negative electrode SEI volumetric interfacial current density [A.m-3]\n",
      "\t- X-averaged negative electrode SEI volumetric interfacial current density [A.m-3]\n",
      "\t- X-averaged positive electrode SEI interfacial current density\n",
      "\t- Positive electrode SEI interfacial current density\n",
      "\t- Positive electrode SEI interfacial current density [A.m-2]\n",
      "\t- X-averaged positive electrode SEI volumetric interfacial current density\n",
      "\t- Positive electrode SEI volumetric interfacial current density\n",
      "\t- Inner SEI on cracks concentration [mol.m-3]\n",
      "\t- X-averaged inner SEI on cracks concentration [mol.m-3]\n",
      "\t- Outer SEI on cracks concentration [mol.m-3]\n",
      "\t- X-averaged outer SEI on cracks concentration [mol.m-3]\n",
      "\t- SEI on cracks concentration [mol.m-3]\n",
      "\t- X-averaged SEI on cracks concentration [mol.m-3]\n",
      "\t- Loss of lithium to SEI on cracks [mol]\n",
      "\t- Loss of capacity to SEI on cracks [A.h]\n",
      "\t- X-averaged negative electrode SEI on cracks interfacial current density\n",
      "\t- Negative electrode SEI on cracks interfacial current density\n",
      "\t- Negative electrode SEI on cracks interfacial current density [A.m-2]\n",
      "\t- Negative electrode SEI on cracks volumetric interfacial current density\n",
      "\t- X-averaged negative electrode SEI on cracks volumetric interfacial current density\n",
      "\t- Negative electrode SEI on cracks volumetric interfacial current density [A.m-3]\n",
      "\t- X-averaged negative electrode SEI on cracks volumetric interfacial current density [A.m-3]\n",
      "\t- X-averaged positive electrode SEI on cracks interfacial current density\n",
      "\t- Positive electrode SEI on cracks interfacial current density\n",
      "\t- Positive electrode SEI on cracks interfacial current density [A.m-2]\n",
      "\t- X-averaged positive electrode SEI on cracks volumetric interfacial current density\n",
      "\t- Positive electrode SEI on cracks volumetric interfacial current density\n",
      "\t- X-averaged negative electrode lithium plating interfacial current density\n",
      "\t- X-averaged positive electrode lithium plating interfacial current density\n",
      "\t- X-averaged positive electrode lithium plating volumetric interfacial current density\n",
      "\t- Negative electrode lithium plating interfacial current density\n",
      "\t- Negative electrode lithium plating interfacial current density [A.m-2]\n",
      "\t- Positive electrode lithium plating interfacial current density\n",
      "\t- Positive electrode lithium plating interfacial current density [A.m-2]\n",
      "\t- Positive electrode lithium plating volumetric interfacial current density\n",
      "\t- Negative electrode lithium plating volumetric interfacial current density\n",
      "\t- X-averaged negative electrode lithium plating volumetric interfacial current density\n",
      "\t- Negative electrode lithium plating volumetric interfacial current density [A.m-3]\n",
      "\t- X-averaged negative electrode lithium plating volumetric interfacial current density [A.m-3]\n",
      "\t- X-averaged negative electrode total interfacial current density\n",
      "\t- X-averaged negative electrode total interfacial current density [A.m-2]\n",
      "\t- SEI film overpotential\n",
      "\t- X-averaged SEI film overpotential\n",
      "\t- SEI film overpotential [V]\n",
      "\t- X-averaged SEI film overpotential [V]\n",
      "\t- Negative electrode exchange current density\n",
      "\t- X-averaged negative electrode exchange current density\n",
      "\t- Negative electrode exchange current density [A.m-2]\n",
      "\t- X-averaged negative electrode exchange current density [A.m-2]\n",
      "\t- Negative electrode reaction overpotential\n",
      "\t- X-averaged negative electrode reaction overpotential\n",
      "\t- Negative electrode reaction overpotential [V]\n",
      "\t- X-averaged negative electrode reaction overpotential [V]\n",
      "\t- X-averaged negative electrode surface potential difference\n",
      "\t- X-averaged negative electrode surface potential difference [V]\n",
      "\t- X-averaged positive electrode total interfacial current density\n",
      "\t- X-averaged positive electrode total interfacial current density [A.m-2]\n",
      "\t- Positive electrode exchange current density\n",
      "\t- X-averaged positive electrode exchange current density\n",
      "\t- Positive electrode exchange current density [A.m-2]\n",
      "\t- X-averaged positive electrode exchange current density [A.m-2]\n",
      "\t- Positive electrode reaction overpotential\n",
      "\t- X-averaged positive electrode reaction overpotential\n",
      "\t- Positive electrode reaction overpotential [V]\n",
      "\t- X-averaged positive electrode reaction overpotential [V]\n",
      "\t- X-averaged positive electrode surface potential difference\n",
      "\t- X-averaged positive electrode surface potential difference [V]\n",
      "\t- Negative electrode interfacial current density\n",
      "\t- X-averaged negative electrode interfacial current density\n",
      "\t- Negative electrode interfacial current density [A.m-2]\n",
      "\t- X-averaged negative electrode interfacial current density [A.m-2]\n",
      "\t- Negative electrode volumetric interfacial current density\n",
      "\t- X-averaged negative electrode volumetric interfacial current density\n",
      "\t- Negative electrode volumetric interfacial current density [A.m-3]\n",
      "\t- X-averaged negative electrode volumetric interfacial current density [A.m-3]\n",
      "\t- Positive electrode interfacial current density\n",
      "\t- X-averaged positive electrode interfacial current density\n",
      "\t- Positive electrode interfacial current density [A.m-2]\n",
      "\t- X-averaged positive electrode interfacial current density [A.m-2]\n",
      "\t- Positive electrode volumetric interfacial current density\n",
      "\t- X-averaged positive electrode volumetric interfacial current density\n",
      "\t- Positive electrode volumetric interfacial current density [A.m-3]\n",
      "\t- X-averaged positive electrode volumetric interfacial current density [A.m-3]\n",
      "\t- Negative electrode potential\n",
      "\t- Negative electrode potential [V]\n",
      "\t- X-averaged negative electrode potential\n",
      "\t- X-averaged negative electrode potential [V]\n",
      "\t- Negative electrode ohmic losses\n",
      "\t- Negative electrode ohmic losses [V]\n",
      "\t- X-averaged negative electrode ohmic losses\n",
      "\t- X-averaged negative electrode ohmic losses [V]\n",
      "\t- Gradient of negative electrode potential\n",
      "\t- Negative electrode current density\n",
      "\t- Negative electrode current density [A.m-2]\n",
      "\t- Negative electrolyte potential\n",
      "\t- Negative electrolyte potential [V]\n",
      "\t- Separator electrolyte potential\n",
      "\t- Separator electrolyte potential [V]\n",
      "\t- Positive electrolyte potential\n",
      "\t- Positive electrolyte potential [V]\n",
      "\t- Electrolyte potential\n",
      "\t- Electrolyte potential [V]\n",
      "\t- X-averaged electrolyte potential\n",
      "\t- X-averaged electrolyte potential [V]\n",
      "\t- X-averaged negative electrolyte potential\n",
      "\t- X-averaged negative electrolyte potential [V]\n",
      "\t- X-averaged separator electrolyte potential\n",
      "\t- X-averaged separator electrolyte potential [V]\n",
      "\t- X-averaged positive electrolyte potential\n",
      "\t- X-averaged positive electrolyte potential [V]\n",
      "\t- X-averaged electrolyte overpotential\n",
      "\t- X-averaged electrolyte overpotential [V]\n",
      "\t- Gradient of separator electrolyte potential\n",
      "\t- Gradient of positive electrolyte potential\n",
      "\t- Gradient of electrolyte potential\n",
      "\t- Gradient of negative electrolyte potential\n",
      "\t- Electrolyte current density\n",
      "\t- Electrolyte current density [A.m-2]\n",
      "\t- Negative electrolyte current density\n",
      "\t- Negative electrolyte current density [A.m-2]\n",
      "\t- Positive electrolyte current density\n",
      "\t- Positive electrolyte current density [A.m-2]\n",
      "\t- X-averaged concentration overpotential\n",
      "\t- X-averaged electrolyte ohmic losses\n",
      "\t- X-averaged concentration overpotential [V]\n",
      "\t- X-averaged electrolyte ohmic losses [V]\n",
      "\t- Negative electrode surface potential difference\n",
      "\t- Negative electrode surface potential difference [V]\n",
      "\t- Sum of electrolyte reaction source terms\n",
      "\t- Sum of positive electrode electrolyte reaction source terms\n",
      "\t- Sum of x-averaged positive electrode electrolyte reaction source terms\n",
      "\t- Sum of interfacial current densities\n",
      "\t- Sum of volumetric interfacial current densities\n",
      "\t- Sum of positive electrode interfacial current densities\n",
      "\t- Sum of x-averaged positive electrode interfacial current densities\n",
      "\t- Sum of positive electrode volumetric interfacial current densities\n",
      "\t- Sum of x-averaged positive electrode volumetric interfacial current densities\n",
      "\t- Sum of negative electrode electrolyte reaction source terms\n",
      "\t- Sum of x-averaged negative electrode electrolyte reaction source terms\n",
      "\t- Sum of negative electrode interfacial current densities\n",
      "\t- Sum of x-averaged negative electrode interfacial current densities\n",
      "\t- Sum of negative electrode volumetric interfacial current densities\n",
      "\t- Sum of x-averaged negative electrode volumetric interfacial current densities\n",
      "\t- Interfacial current density\n",
      "\t- Interfacial current density [A.m-2]\n",
      "\t- Exchange current density\n",
      "\t- Exchange current density [A.m-2]\n",
      "\t- Positive electrode potential\n",
      "\t- Positive electrode potential [V]\n",
      "\t- X-averaged positive electrode potential\n",
      "\t- X-averaged positive electrode potential [V]\n",
      "\t- Positive electrode ohmic losses\n",
      "\t- Positive electrode ohmic losses [V]\n",
      "\t- X-averaged positive electrode ohmic losses\n",
      "\t- X-averaged positive electrode ohmic losses [V]\n",
      "\t- Gradient of positive electrode potential\n",
      "\t- Positive electrode current density\n",
      "\t- Positive electrode current density [A.m-2]\n",
      "\t- Electrode current density\n",
      "\t- Positive current collector potential\n",
      "\t- Positive current collector potential [V]\n",
      "\t- Local voltage\n",
      "\t- Local voltage [V]\n",
      "\t- Terminal voltage\n",
      "\t- Terminal voltage [V]\n",
      "\t- Positive electrode surface potential difference\n",
      "\t- Positive electrode surface potential difference [V]\n",
      "\t- X-averaged open circuit voltage\n",
      "\t- Measured open circuit voltage\n",
      "\t- X-averaged open circuit voltage [V]\n",
      "\t- Measured open circuit voltage [V]\n",
      "\t- X-averaged reaction overpotential\n",
      "\t- X-averaged reaction overpotential [V]\n",
      "\t- X-averaged solid phase ohmic losses\n",
      "\t- X-averaged solid phase ohmic losses [V]\n",
      "\t- X-averaged battery open circuit voltage [V]\n",
      "\t- Measured battery open circuit voltage [V]\n",
      "\t- X-averaged battery reaction overpotential [V]\n",
      "\t- X-averaged battery solid phase ohmic losses [V]\n",
      "\t- X-averaged battery electrolyte ohmic losses [V]\n",
      "\t- X-averaged battery concentration overpotential [V]\n",
      "\t- Battery voltage [V]\n",
      "\t- Change in measured open circuit voltage\n",
      "\t- Change in measured open circuit voltage [V]\n",
      "\t- Local ECM resistance\n",
      "\t- Local ECM resistance [Ohm]\n",
      "\t- Terminal power [W]\n",
      "\t- Power [W]\n",
      "\t- Resistance [Ohm]\n",
      "\t- LAM_ne [%]\n",
      "\t- LAM_pe [%]\n",
      "\t- LLI [%]\n",
      "\t- Loss of active material in negative electrode [%]\n",
      "\t- Loss of active material in positive electrode [%]\n",
      "\t- Loss of lithium inventory [%]\n",
      "\t- Loss of lithium inventory, including electrolyte [%]\n",
      "\t- Total lithium [mol]\n",
      "\t- Total lithium in particles [mol]\n",
      "\t- Total lithium lost [mol]\n",
      "\t- Total lithium lost from particles [mol]\n",
      "\t- Total lithium lost from electrolyte [mol]\n",
      "\t- Total lithium lost to side reactions [mol]\n",
      "\t- Total capacity lost to side reactions [A.h]\n"
     ]
    }
   ],
   "source": [
    "print('SPM model variables:')\n",
    "for v in model.variables.keys():\n",
    "    print('\\t-',v)"
   ]
  },
  {
   "cell_type": "markdown",
   "metadata": {},
   "source": [
    "To help visualise the results, pybamm provides the `pybamm.ProcessedVariable` class, which takes the output of a solver and a variable, and allows the user to evaluate the value of that variable at any given time or $x$ value. These processed variables are automatically created by the solution dictionary."
   ]
  },
  {
   "cell_type": "code",
   "execution_count": 15,
   "metadata": {},
   "outputs": [],
   "source": [
    "voltage = solution['Terminal voltage [V]']\n",
    "c_s_n_surf = solution['Negative particle surface concentration']\n",
    "c_s_p_surf = solution['Positive particle surface concentration']"
   ]
  },
  {
   "cell_type": "markdown",
   "metadata": {},
   "source": [
    "One we have these variables in hand, we can begin generating plots using a library such as Matplotlib. Below we plot the terminal voltage and surface particle concentrations versus time"
   ]
  },
  {
   "cell_type": "code",
   "execution_count": 16,
   "metadata": {},
   "outputs": [
    {
     "data": {
      "image/png": "[encoded data removed]",
      "text/plain": [
       "<Figure size 936x288 with 3 Axes>"
      ]
     },
     "metadata": {
      "needs_background": "light"
     },
     "output_type": "display_data"
    }
   ],
   "source": [
    "t = solution[\"Time [s]\"].entries\n",
    "x = solution[\"x [m]\"].entries[:, 0]\n",
    "f, (ax1, ax2, ax3) = plt.subplots(1, 3, figsize=(13,4))\n",
    "\n",
    "ax1.plot(t, voltage(t))\n",
    "ax1.set_xlabel(r'$Time [s]$')\n",
    "ax1.set_ylabel('Terminal voltage [V]')\n",
    "\n",
    "ax2.plot(t, c_s_n_surf(t=t, x=x[0]))  # can evaluate at arbitrary x (single representative particle)\n",
    "ax2.set_xlabel(r'$Time [s]$')\n",
    "ax2.set_ylabel('Negative particle surface concentration')\n",
    "\n",
    "ax3.plot(t, c_s_p_surf(t=t, x=x[-1]))  # can evaluate at arbitrary x (single representative particle)\n",
    "ax3.set_xlabel(r'$Time [s]$')\n",
    "ax3.set_ylabel('Positive particle surface concentration')\n",
    "\n",
    "plt.tight_layout()\n",
    "plt.show()"
   ]
  },
  {
   "cell_type": "markdown",
   "metadata": {},
   "source": [
    "Some of the output variables are defined over space as well as time. Once option to visualise these variables is to use the `interact` slider widget. Below we plot the negative/positive particle concentration over $r$, using a slider to change the current time point"
   ]
  },
  {
   "cell_type": "code",
   "execution_count": 17,
   "metadata": {},
   "outputs": [],
   "source": [
    "c_s_n = solution['Negative particle concentration']\n",
    "c_s_p = solution['Positive particle concentration']\n",
    "r_n = solution[\"r_n [m]\"].entries[:, 0]\n",
    "r_p = solution[\"r_p [m]\"].entries[:, 0]"
   ]
  },
  {
   "cell_type": "code",
   "execution_count": 18,
   "metadata": {},
   "outputs": [
    {
     "data": {
      "application/vnd.jupyter.widget-view+json": {
       "model_id": "39f473a0fdd44133982ea965ed74b39a",
       "version_major": 2,
       "version_minor": 0
      },
      "text/plain": [
       "interactive(children=(FloatSlider(value=0.0, description='t', max=3600.0, step=10.0), Output()), _dom_classes=…"
      ]
     },
     "metadata": {},
     "output_type": "display_data"
    }
   ],
   "source": [
    "c_s_n = solution['Negative particle concentration']\n",
    "c_s_p = solution['Positive particle concentration']\n",
    "r_n = solution[\"r_n [m]\"].entries[:, 0, 0]\n",
    "r_p = solution[\"r_p [m]\"].entries[:, 0, 0]\n",
    "\n",
    "def plot_concentrations(t):\n",
    "    f, (ax1, ax2) = plt.subplots(1, 2 ,figsize=(10,5))\n",
    "    plot_c_n, = ax1.plot(r_n, c_s_n(r=r_n,t=t,x=x[0]))  # can evaluate at arbitrary x (single representative particle)\n",
    "    plot_c_p, = ax2.plot(r_p, c_s_p(r=r_p,t=t,x=x[-1]))  # can evaluate at arbitrary x (single representative particle)\n",
    "    ax1.set_ylabel('Negative particle concentration')\n",
    "    ax2.set_ylabel('Positive particle concentration')\n",
    "    ax1.set_xlabel(r'$r_n$ [m]')\n",
    "    ax2.set_xlabel(r'$r_p$ [m]')\n",
    "    ax1.set_ylim(0, 1)\n",
    "    ax2.set_ylim(0, 1)\n",
    "    plt.show()\n",
    "    \n",
    "import ipywidgets as widgets\n",
    "widgets.interact(plot_concentrations, t=widgets.FloatSlider(min=0,max=3600,step=10,value=0));\n"
   ]
  },
  {
   "cell_type": "markdown",
   "metadata": {},
   "source": [
    "The QuickPlot class can be used to plot the common set of useful outputs which should give you a good initial overview of the model. The method `Quickplot.dynamic_plot` employs the slider widget.  "
   ]
  },
  {
   "cell_type": "code",
   "execution_count": 19,
   "metadata": {},
   "outputs": [
    {
     "data": {
      "application/vnd.jupyter.widget-view+json": {
       "model_id": "d6905572b6124f9ea0894ab14c7939f9",
       "version_major": 2,
       "version_minor": 0
      },
      "text/plain": [
       "interactive(children=(FloatSlider(value=0.0, description='t', max=1.0, step=0.01), Output()), _dom_classes=('w…"
      ]
     },
     "metadata": {},
     "output_type": "display_data"
    }
   ],
   "source": [
    "quick_plot = pybamm.QuickPlot(solution)\n",
    "quick_plot.dynamic_plot();"
   ]
  },
  {
   "cell_type": "markdown",
   "metadata": {},
   "source": [
    "## Dimensionless Parameters"
   ]
  },
  {
   "cell_type": "markdown",
   "metadata": {},
   "source": [
    "In the table below, we provide the dimensionless parameters in the SPM in terms of the dimensional parameters in LCO.csv. We use a superscript * to indicate dimensional quantities. \n",
    "\n",
    "| Parameter                 | Expression                              |Interpretation                             |\n",
    "|:--------------------------|:----------------------------------------|:------------------------------------------|\n",
    "| $L_{\\text{k}}$            | $L_{\\text{k}}^*/L^*$                    | Ratio of region thickness to cell thickness|\n",
    "|$\\mathcal{C}_{\\text{k}}$   | $\\tau_{\\text{k}}^*/\\tau_{\\text{d}}^*$   | Ratio of solid diffusion and discharge timescales |\n",
    "|$\\mathcal{C}_{\\text{r,k}}$ |$\\tau_{\\text{r,k}}^*/\\tau_{\\text{d}}^*$  |Ratio of reaction and discharge timescales|\n",
    "|$a_{R, \\text{k}}$             |$a_{\\text{k}}^* R_{\\text{k}}^*$          | Product of particle radius and surface area to volume ratio|\n",
    "|$\\gamma_{\\text{k}}$        |$c_{\\text{k,max}}^*/c_{\\text{n,max}}^*$  |Ratio of maximum lithium concentrations in solid|"
   ]
  },
  {
   "cell_type": "markdown",
   "metadata": {},
   "source": [
    "## References\n",
    "\n",
    "The relevant papers for this notebook are:"
   ]
  },
  {
   "cell_type": "code",
   "execution_count": 20,
   "metadata": {},
   "outputs": [
    {
     "name": "stdout",
     "output_type": "stream",
     "text": [
      "[1] Weilong Ai, Ludwig Kraft, Johannes Sturm, Andreas Jossen, and Billy Wu. Electrochemical thermal-mechanical modelling of stress inhomogeneity in lithium-ion pouch cells. Journal of The Electrochemical Society, 167(1):013512, 2019. doi:10.1149/2.0122001JES.\n",
      "[2] Joel A. E. Andersson, Joris Gillis, Greg Horn, James B. Rawlings, and Moritz Diehl. CasADi – A software framework for nonlinear optimization and optimal control. Mathematical Programming Computation, 11(1):1–36, 2019. doi:10.1007/s12532-018-0139-4.\n",
      "[3] Rutooj Deshpande, Mark Verbrugge, Yang-Tse Cheng, John Wang, and Ping Liu. Battery cycle life prediction with coupled chemical degradation and fatigue mechanics. Journal of the Electrochemical Society, 159(10):A1730, 2012. doi:10.1149/2.049210jes.\n",
      "[4] Charles R. Harris, K. Jarrod Millman, Stéfan J. van der Walt, Ralf Gommers, Pauli Virtanen, David Cournapeau, Eric Wieser, Julian Taylor, Sebastian Berg, Nathaniel J. Smith, and others. Array programming with NumPy. Nature, 585(7825):357–362, 2020. doi:10.1038/s41586-020-2649-2.\n",
      "[5] Scott G. Marquis, Valentin Sulzer, Robert Timms, Colin P. Please, and S. Jon Chapman. An asymptotic derivation of a single particle model with electrolyte. Journal of The Electrochemical Society, 166(15):A3693–A3706, 2019. doi:10.1149/2.0341915jes.\n",
      "[6] Valentin Sulzer, Scott G. Marquis, Robert Timms, Martin Robinson, and S. Jon Chapman. Python Battery Mathematical Modelling (PyBaMM). Journal of Open Research Software, 9(1):14, 2021. doi:10.5334/jors.309.\n",
      "\n"
     ]
    }
   ],
   "source": [
    "pybamm.print_citations()"
   ]
  }
 ],
 "metadata": {
  "kernelspec": {
   "display_name": "Python 3.9.6 ('envPBGEM')",
   "language": "python",
   "name": "python3"
  },
  "language_info": {
   "codemirror_mode": {
    "name": "ipython",
    "version": 3
   },
   "file_extension": ".py",
   "mimetype": "text/x-python",
   "name": "python",
   "nbconvert_exporter": "python",
   "pygments_lexer": "ipython3",
   "version": "3.9.6"
  },
  "toc": {
   "base_numbering": 1,
   "nav_menu": {},
   "number_sections": true,
   "sideBar": true,
   "skip_h1_title": false,
   "title_cell": "Table of Contents",
   "title_sidebar": "Contents",
   "toc_cell": false,
   "toc_position": {},
   "toc_section_display": true,
   "toc_window_display": true
  },
  "vscode": {
   "interpreter": {
    "hash": "83fab7fbb3a8fe7b5910804f702478ef63e2cc6a08d85072a5d68865ed0fd8c7"
   }
  }
 },
 "nbformat": 4,
 "nbformat_minor": 2
}
