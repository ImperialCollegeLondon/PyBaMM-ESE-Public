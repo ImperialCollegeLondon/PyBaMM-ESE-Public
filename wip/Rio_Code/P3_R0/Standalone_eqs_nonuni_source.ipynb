{
 "cells": [
  {
   "cell_type": "code",
   "execution_count": 100,
   "metadata": {},
   "outputs": [],
   "source": [
    "import pybamm\n",
    "import numpy as np\n",
    "import matplotlib.pyplot as plt\n",
    "import pandas as pd   ;import numpy as np;import os;import matplotlib.pyplot as plt;import os;\n",
    "from scipy.io import savemat,loadmat;from pybamm import constants,exp;import matplotlib as mpl; fs=17; # or we can set import matplotlib.pyplot as plt then say 'mpl.rc...'\n",
    "for k in range(0,1):\n",
    "    mpl.rcParams[\"axes.labelsize\"] = fs\n",
    "    mpl.rcParams[\"axes.titlesize\"] = fs\n",
    "    mpl.rcParams[\"xtick.labelsize\"] =  fs\n",
    "    mpl.rcParams[\"ytick.labelsize\"] =  fs\n",
    "    mpl.rcParams[\"legend.fontsize\"] =  fs\n",
    "    mpl.rcParams['font.sans-serif'] = ['Times New Roman']\n",
    "    mpl.rcParams['font.serif'] = ['Times New Roman']\n",
    "    mpl.rcParams['axes.unicode_minus'] = False"
   ]
  },
  {
   "cell_type": "code",
   "execution_count": 101,
   "metadata": {},
   "outputs": [],
   "source": [
    "# parameter - dimensional \n",
    "D_e     = 3e-10;    # Li+ diffusivity in m2/s\n",
    "D_EC    = 5e-10;    # EC  diffusivity in m2/s\n",
    "D_cross = -1.5e-9;  # Cross diffusivity in m2/s\n",
    "\n",
    "t_0plus = 0.3;      # Transference number for Li+\n",
    "trans_i = -1.4;     # Transference number for EC  \n",
    "\n",
    "F = 96485.33;       # Faraday constant in C/mol\n",
    "\n",
    "c_init = 1000;      # Initial Li-ion concentration in electrolyte\n",
    "c_EC_init= 4000;    # Initial EC  concentration in electrolyte \n",
    "c_tot_init = 6000;  # Initial total concentration in electrolyte\n",
    "\n",
    "V_bar_SEI = 9.585e-5;  # SEI partial molar volume in m3/mol\n",
    "V_bar_EC  = 6.667e-5;  # EC  partial molar volume in m3/mol\n",
    "V_bar_Li  = 1.300e-5;  # Li+ partial molar volume in m3/mol\n",
    "\n",
    "b = 1.5;    # Bruggman cofficient\n",
    "\n",
    "R_n       = 5.86e-6   # Mean Neg particle radius in m\n",
    "R_p       = 5.22e-6   # Mean Pos particle radius in m\n",
    "\n",
    "# Should be a variable but now set as constant to simplify\n",
    "epislon_n = 0.25;     # Neg porosity\n",
    "epislon_s = 0.47;     # Sep porosity\n",
    "epislon_p = 0.335;     # Sep porosity\n",
    "\n",
    "epislon_n = pybamm.FullBroadcast(\n",
    "                pybamm.Scalar(0.25), \"negative electrode\", )\n",
    "epislon_s = pybamm.FullBroadcast(\n",
    "        pybamm.Scalar(0.47), \"separator\", )\n",
    "epislon_p = pybamm.FullBroadcast(\n",
    "        pybamm.Scalar(0.335), \"positive electrode\", )\n",
    "epislon = pybamm.concatenation(epislon_n, epislon_s, epislon_p )\n",
    "\n",
    "# During Discharge: j_int_neg is positive; j_SEI is also positive; \n",
    "# but j_int_pos is negative\n",
    "# Total Neg interfacial current density in A/m2\n",
    "j_tot_n = pybamm.FullBroadcast(\n",
    "                pybamm.Scalar(2.1), \"negative electrode\", )\n",
    "j_tot_s = pybamm.FullBroadcast(\n",
    "        pybamm.Scalar(0), \"separator\", )\n",
    "# Total Pos interfacial current density in A/m2\n",
    "j_tot_p = pybamm.FullBroadcast(\n",
    "        pybamm.Scalar(-1.7), \"positive electrode\", )\n",
    "j_tot = pybamm.concatenation(j_tot_n, j_tot_s, j_tot_p )\n",
    "\n",
    "j_SEI_n = pybamm.FullBroadcast(\n",
    "        pybamm.Scalar(1e-3), \"negative electrode\", )\n",
    "j_SEI_s = pybamm.FullBroadcast(\n",
    "        pybamm.Scalar(0), \"separator\", )\n",
    "j_SEI_p = pybamm.FullBroadcast(\n",
    "        pybamm.Scalar(0), \"positive electrode\", )\n",
    "j_SEI   = pybamm.concatenation(j_SEI_n,j_SEI_s,j_SEI_p);      # SEI       interfacial current density in A/m2\n",
    "# based on wip\\Rio_Code\\P3_R0\\Check_eley_current_dens.ipynb\n",
    "i_eley = 50;         # Electrolyte current density [A.m-2]\n",
    "\n",
    "a_n = 3* epislon_n / R_n    # Neg Specific surface area\n",
    "a_p = 3* epislon_p / R_p    # Neg Specific surface area\n",
    "zero_s = pybamm.FullBroadcast(0, \"separator\")"
   ]
  },
  {
   "cell_type": "code",
   "execution_count": 102,
   "metadata": {},
   "outputs": [],
   "source": [
    "sign_2_n = pybamm.FullBroadcast(\n",
    "        pybamm.Scalar(1), \"negative electrode\", )\n",
    "sign_2_s = pybamm.FullBroadcast(\n",
    "        pybamm.Scalar(0), \"separator\", )\n",
    "sign_2_p = pybamm.FullBroadcast(\n",
    "        pybamm.Scalar(0), \"positive electrode\", )\n",
    "sign_2 = pybamm.concatenation(sign_2_n, sign_2_s, sign_2_p )\n",
    "a = pybamm.concatenation(a_n, zero_s, a_p)"
   ]
  },
  {
   "cell_type": "code",
   "execution_count": 103,
   "metadata": {},
   "outputs": [],
   "source": [
    "model = pybamm.BaseModel()\n",
    "c_e_n  = pybamm.Variable(\"Li+ concentration in negative electrode\", domain=\"negative electrode\")\n",
    "c_EC_n = pybamm.Variable(\"EC concentration in negative electrode\", domain=\"negative electrode\")\n",
    "\n",
    "c_e_s  = pybamm.Variable(\"Li+ concentration in separator\", domain=\"separator\")\n",
    "c_EC_s = pybamm.Variable(\"EC concentration in separator\", domain=\"separator\")\n",
    "\n",
    "c_e_p  = pybamm.Variable(\"Li+ concentration in positive electrode\", domain=\"positive electrode\")\n",
    "c_EC_p = pybamm.Variable(\"EC concentration in positive electrode\", domain=\"positive electrode\")\n",
    "\n",
    "c_EC = pybamm.concatenation(c_EC_n, c_EC_s, c_EC_p)\n",
    "c_e  = pybamm.concatenation(c_e_n, c_e_s, c_e_p)\n",
    "model.variables = {\n",
    "    \"Li+ concentration in negative electrode\":c_e_n,\n",
    "    \"Li+ concentration in separator\":c_e_s,\n",
    "    \"Li+ concentration in positive electrode\":c_e_p,\n",
    "    \"EC concentration in negative electrode\":c_EC_n,\n",
    "    \"EC concentration in separator\":c_EC_s,\n",
    "    \"EC concentration in positive electrode\":c_EC_p,\n",
    "}"
   ]
  },
  {
   "cell_type": "code",
   "execution_count": 104,
   "metadata": {},
   "outputs": [],
   "source": [
    "model.variables.update(\n",
    "    {\n",
    "        \"Li+ concentration\": c_e, \n",
    "        \"EC concentration\": c_EC,\n",
    "    }\n",
    ")"
   ]
  },
  {
   "cell_type": "code",
   "execution_count": 105,
   "metadata": {},
   "outputs": [
    {
     "name": "stdout",
     "output_type": "stream",
     "text": [
      "dict_keys(['Li+ concentration in negative electrode', 'Li+ concentration in separator', 'Li+ concentration in positive electrode', 'EC concentration in negative electrode', 'EC concentration in separator', 'EC concentration in positive electrode', 'Li+ concentration', 'EC concentration'])\n"
     ]
    }
   ],
   "source": [
    "print(model.variables.keys())"
   ]
  },
  {
   "cell_type": "code",
   "execution_count": 106,
   "metadata": {},
   "outputs": [],
   "source": [
    "model.length_scales = {\n",
    "    \"negative electrode\": 8.52e-5,\n",
    "    \"separator\": 1.2e-5,\n",
    "    \"positive electrode\": 7.56e-5,\n",
    "}\n",
    "model.timescale = pybamm.Scalar(8.52e-5 ** 2 /  D_e) "
   ]
  },
  {
   "cell_type": "code",
   "execution_count": 107,
   "metadata": {},
   "outputs": [],
   "source": [
    "# define geometry\n",
    "x_n = pybamm.SpatialVariable(\n",
    "    \"x_n\", \n",
    "    domain=[\"negative electrode\"], \n",
    "    coord_sys=\"cartesian\"\n",
    ")\n",
    "x_s = pybamm.SpatialVariable(\n",
    "    \"x_s\", \n",
    "    domain=[\"separator\"], \n",
    "    coord_sys=\"cartesian\"\n",
    ")\n",
    "x_p = pybamm.SpatialVariable(\n",
    "    \"x_p\", \n",
    "    domain=[\"positive electrode\"], \n",
    "    coord_sys=\"cartesian\"\n",
    ")\n",
    "x_all  = pybamm.concatenation(x_n, x_s, x_p)\n",
    "model.rhs = {\n",
    "    c_e: \n",
    "    epislon**b *D_e*pybamm.div(pybamm.grad(c_e))\n",
    "    + epislon**b *D_cross*(c_init/c_tot_init)*pybamm.div(pybamm.grad(c_EC))\n",
    "    + a*(1-t_0plus)*j_tot/F *x_all,\n",
    "    #- a*sign_2*(j_SEI*V_bar_EC+j_tot*V_bar_Li-0.5*j_SEI*V_bar_SEI)*c_init/F *x_all ,\n",
    "\n",
    "    c_EC:\n",
    "    epislon**b *D_cross*(c_EC_init/c_tot_init)*pybamm.div(pybamm.grad(c_e))\n",
    "    + epislon**b *D_EC*pybamm.div(pybamm.grad(c_EC))\n",
    "    + sign_2 * x_all * (\n",
    "        a*trans_i*j_tot/F\n",
    "        +a* (1+trans_i)*j_SEI/F\n",
    "    #    -a*(j_SEI*V_bar_EC+j_tot*V_bar_Li-0.5*j_SEI*V_bar_SEI)*c_EC_init/F\n",
    "    )\n",
    "} "
   ]
  },
  {
   "cell_type": "code",
   "execution_count": 108,
   "metadata": {},
   "outputs": [
    {
     "name": "stdout",
     "output_type": "stream",
     "text": [
      "concatenation(broadcast(3.75e-11), broadcast(9.666472986565472e-11), broadcast(5.816858043652089e-11))\n",
      "concatenation(broadcast(-3.1249999999999995e-11), broadcast(-8.055394155471226e-11), broadcast(-4.847381703043407e-11))\n",
      "concatenation(broadcast(1.9136951216600957), broadcast(-0.0), broadcast(-2.3745495341343483))\n"
     ]
    }
   ],
   "source": [
    "print( epislon**b *D_e )\n",
    "print( epislon**b *D_cross*(c_init/c_tot_init))\n",
    "print( a*(1-t_0plus)*j_tot/F\n",
    "    - a*sign_2*(j_SEI*V_bar_EC+j_tot*V_bar_Li-0.5*j_SEI*V_bar_SEI)*c_init/F)"
   ]
  },
  {
   "cell_type": "code",
   "execution_count": 109,
   "metadata": {},
   "outputs": [
    {
     "name": "stdout",
     "output_type": "stream",
     "text": [
      "concatenation(broadcast(-1.2499999999999998e-10), broadcast(-3.2221576621884903e-10), broadcast(-1.9389526812173628e-10))\n",
      "concatenation(broadcast(6.25e-11), broadcast(1.6110788310942454e-10), broadcast(9.694763406086815e-11))\n",
      "concatenation(broadcast(-4.045348278871794), broadcast(0.0), broadcast(0.0))\n"
     ]
    }
   ],
   "source": [
    "print( epislon**b *D_cross*(c_EC_init/c_tot_init) )\n",
    "print( epislon**b *D_EC   )\n",
    "print( sign_2 * (\n",
    "        a*trans_i*j_tot/F\n",
    "        +a* (1+trans_i)*j_SEI/F\n",
    "        -a*(j_SEI*V_bar_EC+j_tot*V_bar_Li-0.5*j_SEI*V_bar_SEI)*c_EC_init/F\n",
    "    ))"
   ]
  },
  {
   "cell_type": "code",
   "execution_count": 110,
   "metadata": {},
   "outputs": [],
   "source": [
    "model.initial_conditions = {c_e: pybamm.Scalar(c_init),c_EC: pybamm.Scalar(c_EC_init)}\n",
    "\n",
    "model.boundary_conditions = {\n",
    "    c_e: {\"left\": (pybamm.Scalar(0), \"Neumann\"),\"right\": (pybamm.Scalar(0), \"Neumann\")},  \n",
    "    c_EC:{\"left\": (pybamm.Scalar(0), \"Neumann\"),\"right\": (pybamm.Scalar(0), \"Neumann\")} }\n",
    "\n",
    "geometry = {\n",
    "    \"negative electrode\": {x_n: {\"min\": pybamm.Scalar(0), \"max\": pybamm.Scalar(8.52e-5)}},\n",
    "    \"separator\":          {x_s: {\"min\": pybamm.Scalar(8.52e-5), \"max\": pybamm.Scalar(9.72e-5)}},\n",
    "    \"positive electrode\": {x_p: {\"min\": pybamm.Scalar(9.72e-5), \"max\": pybamm.Scalar(17.28e-5)}},\n",
    "}\n",
    "# mesh and discretise ,\"separator\",\"positive electrode\"\n",
    "submesh_types = {\n",
    "    \"negative electrode\": pybamm.MeshGenerator(pybamm.Uniform1DSubMesh),\n",
    "    \"separator\": pybamm.MeshGenerator(pybamm.Uniform1DSubMesh),\n",
    "    \"positive electrode\": pybamm.MeshGenerator(pybamm.Uniform1DSubMesh),\n",
    "}\n",
    "var_pts = {x_n: 30, x_s:30, x_p:30}\n",
    "mesh = pybamm.Mesh(geometry, submesh_types, var_pts)\n",
    "spatial_methods = {\n",
    "    \"negative electrode\": pybamm.FiniteVolume(),\n",
    "    \"separator\": pybamm.FiniteVolume(),\n",
    "    \"positive electrode\": pybamm.FiniteVolume(),\n",
    "}\n",
    "disc = pybamm.Discretisation(mesh, spatial_methods)\n",
    "disc.process_model(model);"
   ]
  },
  {
   "cell_type": "code",
   "execution_count": 111,
   "metadata": {},
   "outputs": [
    {
     "name": "stdout",
     "output_type": "stream",
     "text": [
      "[ 0.   2.5  5.   7.5 10. ]\n"
     ]
    }
   ],
   "source": [
    "t = np.linspace(0, 10, 5)\n",
    "print(t)"
   ]
  },
  {
   "cell_type": "code",
   "execution_count": 112,
   "metadata": {},
   "outputs": [],
   "source": [
    "# solve\n",
    "solver = pybamm.ScipySolver()\n",
    "#t = np.linspace(0, 100, 50)\n",
    "solution = solver.solve(model, [0,20])\n"
   ]
  },
  {
   "cell_type": "code",
   "execution_count": 113,
   "metadata": {},
   "outputs": [
    {
     "data": {
      "application/vnd.jupyter.widget-view+json": {
       "model_id": "ed5d0d2bb70f430a9163648c1cf90875",
       "version_major": 2,
       "version_minor": 0
      },
      "text/plain": [
       "interactive(children=(FloatSlider(value=0.0, description='t', max=20.0, step=0.2), Output()), _dom_classes=('w…"
      ]
     },
     "metadata": {},
     "output_type": "display_data"
    },
    {
     "data": {
      "text/plain": [
       "<pybamm.plotting.quick_plot.QuickPlot at 0x1b4a892dc40>"
      ]
     },
     "execution_count": 113,
     "metadata": {},
     "output_type": "execute_result"
    }
   ],
   "source": [
    "pybamm.dynamic_plot(\n",
    "    solution,\n",
    "    [\n",
    "        \"Li+ concentration\",\n",
    "        \"EC concentration\",\n",
    "    ],\n",
    ")"
   ]
  },
  {
   "cell_type": "code",
   "execution_count": null,
   "metadata": {},
   "outputs": [],
   "source": []
  }
 ],
 "metadata": {
  "kernelspec": {
   "display_name": "Python 3.9.6 ('envPBGEM')",
   "language": "python",
   "name": "python3"
  },
  "language_info": {
   "codemirror_mode": {
    "name": "ipython",
    "version": 3
   },
   "file_extension": ".py",
   "mimetype": "text/x-python",
   "name": "python",
   "nbconvert_exporter": "python",
   "pygments_lexer": "ipython3",
   "version": "3.9.6"
  },
  "orig_nbformat": 4,
  "vscode": {
   "interpreter": {
    "hash": "83fab7fbb3a8fe7b5910804f702478ef63e2cc6a08d85072a5d68865ed0fd8c7"
   }
  }
 },
 "nbformat": 4,
 "nbformat_minor": 2
}
