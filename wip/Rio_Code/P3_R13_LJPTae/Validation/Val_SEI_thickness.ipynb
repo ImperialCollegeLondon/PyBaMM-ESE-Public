{
 "cells": [
  {
   "attachments": {},
   "cell_type": "markdown",
   "metadata": {},
   "source": [
    "# this notebook tries to validate the thermal model - all C rate on\n",
    "# split into 2: one for double and one for single"
   ]
  },
  {
   "cell_type": "code",
   "execution_count": 9,
   "metadata": {},
   "outputs": [
    {
     "name": "stdout",
     "output_type": "stream",
     "text": [
      "The autoreload extension is already loaded. To reload it, use:\n",
      "  %reload_ext autoreload\n"
     ]
    }
   ],
   "source": [
    "# magic lines that avoid re-start\n",
    "%load_ext autoreload\n",
    "%autoreload 2"
   ]
  },
  {
   "cell_type": "code",
   "execution_count": 10,
   "metadata": {},
   "outputs": [],
   "source": [
    "import pybamm;import numpy as np;import os;import matplotlib.pyplot as plt;import os;#import imageio\n",
    "from scipy.io import savemat,loadmat;from pybamm import constants,exp,sqrt;\n",
    "import matplotlib as mpl; \n",
    "fs=17; # or we can set import matplotlib.pyplot as plt then say 'mpl.rc...'\n",
    "import openpyxl\n",
    "import traceback\n",
    "import multiprocessing;import pandas as pd;\n",
    "font = {'family' : 'DejaVu Sans','size'   : fs}\n",
    "mpl.rc('font', **font)"
   ]
  },
  {
   "cell_type": "code",
   "execution_count": 11,
   "metadata": {},
   "outputs": [],
   "source": [
    "import sys  \n",
    "str_path_0 = os.path.abspath(os.path.join(pybamm.__path__[0],'..'))\n",
    "str_path_1 = os.path.abspath(os.path.join(str_path_0,\"wip\\Rio_Code\\Fun_P3\"))\n",
    "sys.path.append(str_path_1) \n",
    "from Fun_P3 import *\n",
    "# BasicPath = \"C:/Users/rl1120/OneDrive - Imperial College London/\"  #\n",
    "BasicPath= \"D:/OneDrive - Imperial College London/SimDataSave/P3R13/Validation/\"\n",
    "Target  = 'NonDs_Scan_SEI_only/' \n",
    "if not os.path.exists(BasicPath + Target):\n",
    "   os.mkdir(BasicPath + Target)"
   ]
  },
  {
   "cell_type": "code",
   "execution_count": 12,
   "metadata": {},
   "outputs": [
    {
     "name": "stdout",
     "output_type": "stream",
     "text": [
      "3 3\n"
     ]
    }
   ],
   "source": [
    "# define parameter of double and single \n",
    "Para_dict_Same = {\n",
    "   ################################# Same for single and double:\n",
    "   \"Mesh list\":[ [10,5,10,60,30], ],   # Simon uses 30\n",
    "   \"Para_Set\":[ \"Li2023_ECdrag\",],\n",
    "   # solvent diffusion parameters:\n",
    "   \"EC initial concentration in electrolyte [mol.m-3]\":[3500],\n",
    "   \"Typical EC concentration [mol.m-3]\":[3500,],\n",
    "   # DFN parameter\n",
    "   \"Upper voltage cut-off [V]\":[4.21,],\n",
    "   \"Lower voltage cut-off [V]\":[2.49,],\n",
    "   \"Negative electrode diffusivity [m2.s-1]\":[\n",
    "      \"graphite_LGM50_diffusivity_ORegan2022\",],     # 3.3e-14\n",
    "   \"Positive electrode diffusivity [m2.s-1]\":[\n",
    "      \"nmc_LGM50_diffusivity_ORegan2022\",],          # 4e-15\n",
    "   \"Negative electrode porosity\":[0.21,],\n",
    "   # if want a function, add 'Func', \n",
    "   #    if want a constant, delete Func\n",
    "   # note!!!: Constant will overwrite Func\n",
    "   \"Electrolyte conductivity [S.m-1]\":[\n",
    "      \"electrolyte_conductivity_EC_EMC_3_7_Landesfeind2019_Con\",\n",
    "      ],\n",
    "    \"Electrolyte diffusivity [m2.s-1]\":[\n",
    "      \"electrolyte_diffusivity_EC_EMC_3_7_Landesfeind2019_Con\",],\n",
    "    \"EC transference number\":[\n",
    "      \"EC_transference_number\",],\n",
    "    \"Cation transference number\":[\n",
    "      \"electrolyte_transference_number_EC_EMC_3_7_Landesfeind2019_Con\",],\n",
    "   # general SEI\n",
    "   'SEI resistivity [Ohm.m]':[2E5,],\n",
    "   \"Initial inner SEI thickness [m]\":[1.5e-8,1.5e-7,1.5e-6,],\n",
    "   \"Initial outer SEI thickness [m]\":[2.5e-9,],\n",
    "   # Heat parameter:\n",
    "   \"Total heat transfer coefficient [W.m-2.K-1]\":[300,],\n",
    "   \"Reference temperature [K]\":[298.15,],\n",
    "   \"Ambient temperature [K]\":[298.15,],\n",
    "   \"Initial temperature [K]\":[298.15,],\n",
    "}\n",
    "\n",
    "Para_dict_DD_ONLY = {\n",
    "     \"Model option\":[{\n",
    "         \"solvent diffusion\": \"double spatial consume w refill\",\n",
    "         \"electrolyte conductivity\": \"sol full\"  ,\n",
    "         \"thermal\": \"lumped\"   },],\n",
    "     ################################# Need to be different between single and double:\n",
    "     \"EC Lithium ion cross diffusivity [m2.s-1]\":[\n",
    "        \"Cross_diffusivity_1p5E_10\",], # \"Cross_diffusivity_1p5E_12\",\n",
    "     \"EC diffusivity in electrolyte [m2.s-1]\":[\n",
    "        \"EC_diffusivity_5E_10\"],\n",
    "     \"EC transference number\":[\n",
    "        \"EC_transference_number\",],\n",
    "     \"Measured dLJP_dcEC\": [\"dLJP_Two_Species_dco_Jung2023\",],\n",
    "     \"Measured dLJP_dce\": [\"dLJP_Two_Species_dce_Jung2023\",],\n",
    "}\n",
    "Para_dict_SD_ONLY = {\n",
    "     \"Model option\":[{\n",
    "         \"solvent diffusion\": \"single no consume wo refill\",\n",
    "         \"electrolyte conductivity\": \"full\"  ,\n",
    "         \"thermal\": \"lumped\" },],\n",
    "     ################################# fake, must have only one option\n",
    "     \"EC Lithium ion cross diffusivity [m2.s-1]\":[\n",
    "        \"Cross_diffusivity_1p5E_10\",],\n",
    "     \"EC diffusivity in electrolyte [m2.s-1]\":[\n",
    "        \"EC_diffusivity_5E_10\"],\n",
    "     \"EC transference number\":[\n",
    "        \"EC_transference_number\",],\n",
    "     \"Measured dLJP_dce\":[\"dLJP_One_Specie_dce_Jung2023\",]\n",
    "}\n",
    "Para_dict_DD = {**Para_dict_Same,**Para_dict_DD_ONLY}\n",
    "Para_dict_SD = {**Para_dict_Same,**Para_dict_SD_ONLY}\n",
    "Para_DD = [];  Para_SD=[];\n",
    "recursive_scan(Para_DD,Para_dict_DD, list(Para_dict_DD.keys()), {})\n",
    "recursive_scan(Para_SD,Para_dict_SD, list(Para_dict_SD.keys()), {})\n",
    "print(len(Para_DD),len(Para_SD))"
   ]
  },
  {
   "cell_type": "code",
   "execution_count": 13,
   "metadata": {},
   "outputs": [],
   "source": [
    "# Summarize Exp - plot temperature rise and capacity vs C rate\n",
    "Niall_Crate = [0.2, 0.3, 0.4, 0.5, 1, 2, 3]; \n",
    "Niall_Cap = [ 4.815, 4.75, 4.82, 4.82, 4.64, 3.298, 1.983]; \n",
    "Ruihe_Crate = [0.5, 1.0, 1.25, 1.5, 1.75, 2.0, 2.5, 3.0, 3.5, 4.0]\n",
    "RL_Cap_Cell_1 = [4.715963693555362, 4.612124591646047, 4.525131462728684, 4.357837218694934, 3.9985270604389145, 3.4233452957546677, 2.5758641034678815, 1.988704897546658, 1.6652388357649741, 1.4100456949750437]\n",
    "RL_Cap_Cell_2 = [4.716030959172494, 4.617948432702642, 4.5276396589819425, 4.341444372881664, 3.9091685871110027, 3.286849922924804, 2.4498175045751953, 1.901398288847656, 1.57583310209744, 1.345814775172526]\n",
    "# Biologic temperature:\n",
    "RL_T_Rise_Cell_1 = [1.8637965639005145, 2.6184089732547733, 2.2785406232761183, 2.7299726754489058, 3.4454458756196686, 3.2409775493440662, 4.36836993533397, 4.043625726318339, 4.889784013534822, 5.519928668485186]\n",
    "RL_T_Rise_Cell_2 = [1.6080960965963662, 1.5360009591223402, 2.038724388471504, 2.0249414408349473, 2.984494420154249, 3.5199766991718633, 4.342076997341994, 4.719743013070929, 3.79700883048751, 3.071455647673517]\n",
    "# from 1C to 3C only\n",
    "Pico_T_Rise_Cell_1 =[\n",
    "    26.643-25.982, 26.778-25.974,\n",
    "    27.133-25.889,27.481-25.917,27.6-25.9,\n",
    "    28.023-26,28.229-25.952]\n",
    "Pico_T_Rise_Cell_2 =[\n",
    "    26.411-25.706,26.671-25.681,27.025-25.611,\n",
    "    27.481-25.644,27.7-25.6,28.361-25.739, 28.832-25.633]"
   ]
  },
  {
   "cell_type": "code",
   "execution_count": 14,
   "metadata": {},
   "outputs": [
    {
     "name": "stdout",
     "output_type": "stream",
     "text": [
      "Successfully create a excel file\n",
      "Successfully create a excel file\n"
     ]
    }
   ],
   "source": [
    "# Write scan parameters\n",
    "book_name_xlsx = 'Test.xlsx';sheet_name_xlsx = 'Results';\n",
    "Path_Exp_Crate = \"D:/OneDrive - Imperial College London/SimDataSave/InputData/Ruihe_newLGM50_Crate/\"\n",
    "Path_pack = [BasicPath,Target,Path_Exp_Crate,book_name_xlsx,sheet_name_xlsx,];\n",
    "Index_DD = np.arange(1,len(Para_DD)+1).tolist()  \n",
    "Index_SD = np.arange(1,len(Para_SD)+1).tolist()  \n",
    "str_model_DD = \"Double\";  str_model_SD = \"DFN\"\n",
    "# Write the head for excel file:\n",
    "head_list = list(Para_DD[0].keys())\n",
    "head_list.insert(0,\"Index\");\n",
    "Values_1 = [head_list,];\n",
    "for Scan_i,Para_dict_i in zip(Index_DD,Para_DD):\n",
    "    value_list_temp = list(Para_dict_i.values())\n",
    "    values = []\n",
    "    for value_list_temp_i in value_list_temp:\n",
    "        values.append(str(value_list_temp_i))\n",
    "    values.insert(0,str(Scan_i))\n",
    "    Values_1.append(values)\n",
    "write_excel_xlsx(\n",
    "    BasicPath + Target+ str_model_DD + \"_\" +  book_name_xlsx, \n",
    "    sheet_name_xlsx, Values_1)  \n",
    "# Write the head for excel file:\n",
    "head_list = list(Para_SD[0].keys())\n",
    "head_list.insert(0,\"Index\");\n",
    "Values_1 = [head_list,];\n",
    "for Scan_i,Para_dict_i in zip(Index_SD,Para_SD):\n",
    "    value_list_temp = list(Para_dict_i.values())\n",
    "    values = []\n",
    "    for value_list_temp_i in value_list_temp:\n",
    "        values.append(str(value_list_temp_i))\n",
    "    values.insert(0,str(Scan_i))\n",
    "    Values_1.append(values)\n",
    "write_excel_xlsx(\n",
    "    BasicPath + Target+ str_model_SD + \"_\" + book_name_xlsx, \n",
    "    sheet_name_xlsx, Values_1)        "
   ]
  },
  {
   "cell_type": "code",
   "execution_count": 15,
   "metadata": {},
   "outputs": [],
   "source": [
    "# scan: DD and SD respectively \n",
    "DD_Dis_All = []; SD_Dis_All = [];   Rate_Dis_All =Ruihe_Crate[0:-2:2];  \n",
    "if __name__ == \"__main__\":\n",
    "    pool = multiprocessing.Pool(3)\n",
    "    processes = [pool.apply_async(\n",
    "        Scan_Crate_Dict, \n",
    "        args=(\n",
    "            index_i, Para_dd_i, Path_pack , str_model_DD,\n",
    "            Rate_Dis_All,True,True,\n",
    "         )) \n",
    "         for Para_dd_i,index_i in zip(Para_DD,Index_DD)]\n",
    "    result_DD = [p.get() for p in processes] \n",
    "# Scan SD\n",
    "if __name__ == \"__main__\":\n",
    "    pool = multiprocessing.Pool(3)\n",
    "    processes = [pool.apply_async(\n",
    "        Scan_Crate_Dict, \n",
    "        args=(\n",
    "            index_i, Para_sd_i, Path_pack , str_model_SD,\n",
    "            Rate_Dis_All,True,True,\n",
    "         )   ) \n",
    "         for Para_sd_i,index_i in zip(Para_SD,Index_SD)]\n",
    "    result_SD = [p.get() for p in processes] "
   ]
  },
  {
   "cell_type": "code",
   "execution_count": 17,
   "metadata": {},
   "outputs": [
    {
     "data": {
      "image/png": "[encoded data removed]",
      "text/plain": [
       "<Figure size 669.6x460.8 with 4 Axes>"
      ]
     },
     "metadata": {
      "needs_background": "light"
     },
     "output_type": "display_data"
    }
   ],
   "source": [
    "# compare all results - different scans\n",
    "ls = \"-\"\n",
    "# Compare experiment and modelling result: temperature rise and capacity vs C rate\n",
    "fig, axs = plt.subplots(2,2, figsize=(9.3,6.4),tight_layout=True)\n",
    "# experiment:\n",
    "axs[0,0].plot(Ruihe_Crate, RL_Cap_Cell_1 ,linestyle='none',marker =\"o\", color=\"gray\",) # label=\"Cell-1\"\n",
    "axs[0,0].plot(Ruihe_Crate, RL_Cap_Cell_2 ,linestyle='none',marker =\"s\",color=\"gray\",) # label=\"Cell-2\"\n",
    "axs[0,0].plot(Niall_Crate[3:], Niall_Cap[3:] ,linestyle='none',marker =\"s\",color=\"gray\",) # label=\"Niall\"\n",
    "axs[0,1].plot(Ruihe_Crate, RL_T_Rise_Cell_1 ,linestyle='none',marker =\"o\",color=\"gray\",)  # label=\"Bio-Cell-1\"\n",
    "axs[0,1].plot(Ruihe_Crate, RL_T_Rise_Cell_2 ,linestyle='none',marker =\"s\",color=\"gray\",) # label=\"Bio-Cell-2\"\n",
    "\n",
    "axs[1,0].plot(Ruihe_Crate, RL_Cap_Cell_1 ,linestyle='none',marker =\"o\", color=\"gray\",) # label=\"Cell-1\"\n",
    "axs[1,0].plot(Ruihe_Crate, RL_Cap_Cell_2 ,linestyle='none',marker =\"s\",color=\"gray\",) # label=\"Cell-2\"\n",
    "axs[1,0].plot(Niall_Crate[3:], Niall_Cap[3:] ,linestyle='none',marker =\"s\",color=\"gray\",) # label=\"Niall\"\n",
    "axs[1,1].plot(Ruihe_Crate, RL_T_Rise_Cell_1 ,linestyle='none',marker =\"o\",color=\"gray\",)  # label=\"Bio-Cell-1\"\n",
    "axs[1,1].plot(Ruihe_Crate, RL_T_Rise_Cell_2 ,linestyle='none',marker =\"s\",color=\"gray\",) # label=\"Bio-Cell-2\"\n",
    "# simulation - double\n",
    "cmdd = mpl.cm.get_cmap(\"cool\", len(result_DD)) \n",
    "for i in range(len(result_DD)):\n",
    "    axs[0,0].plot( \n",
    "        result_DD[i][\"Rate_Dis_All\"],result_DD[i][\"Cap_Dis_All\"],\n",
    "        linestyle=ls,marker =\"o\", color=cmdd(i),label=f\"Scan {i+1}\" )\n",
    "    axs[0,1].plot( \n",
    "        result_DD[i][\"Rate_Dis_All\"],result_DD[i][\"Trise_All\"],\n",
    "        linestyle=ls,marker =\"o\", color=cmdd(i),label=f\"Scan {i+1}\" )\n",
    "# simulation - single\n",
    "cmsd = mpl.cm.get_cmap(\"cool\", len(result_SD)) \n",
    "for i in range(len(result_SD)):\n",
    "    axs[1,0].plot( \n",
    "        result_SD[i][\"Rate_Dis_All\"],result_SD[i][\"Cap_Dis_All\"],\n",
    "        linestyle=ls,marker =\"o\", color=cmsd(i),label=f\"Scan {i+1}\" )\n",
    "    axs[1,1].plot( \n",
    "        result_SD[i][\"Rate_Dis_All\"],result_SD[i][\"Trise_All\"]  ,\n",
    "        linestyle=ls,marker =\"o\", color=cmsd(i),label=f\"Scan {i+1}\" )\n",
    "\n",
    "axs[0,0].legend(prop={'family':'DejaVu Sans','size':fs-2},\n",
    "    loc='best',ncol=1,frameon=False,markerscale=1,borderpad=0.2,handlelength=1.0,columnspacing=0.5)\n",
    "axs[1,0].legend(prop={'family':'DejaVu Sans','size':fs-2},\n",
    "    loc='best',ncol=1,frameon=False,markerscale=1,borderpad=0.2,handlelength=1.0,columnspacing=0.5)\n",
    "\n",
    "axs[0,0].set_ylabel(\"Capacity [A.h]\",fontsize=fs-2)\n",
    "axs[0,1].set_ylabel(\"T rise [degC]\",fontsize=fs-2)\n",
    "axs[1,0].set_ylabel(\"Capacity [A.h]\",fontsize=fs-2)\n",
    "axs[1,1].set_ylabel(\"T rise [degC]\",fontsize=fs-2)\n",
    "axs[1,0].set_xlabel(\"C rate\",fontsize=fs-2)\n",
    "axs[1,1].set_xlabel(\"C rate\",fontsize=fs-2)\n",
    "axs[0,0].set_title(\"Double\",loc='center') \n",
    "axs[0,1].set_title(\"Double\",loc='center') \n",
    "axs[1,0].set_title(\"Single\",loc='center') \n",
    "axs[1,1].set_title(\"Single\",loc='center') \n",
    "plt.savefig( BasicPath + Target+ f\"0_Summary_Cap_Trise.png\", dpi=600)   "
   ]
  },
  {
   "cell_type": "code",
   "execution_count": null,
   "metadata": {},
   "outputs": [],
   "source": []
  }
 ],
 "metadata": {
  "kernelspec": {
   "display_name": "envPBGEM",
   "language": "python",
   "name": "python3"
  },
  "language_info": {
   "codemirror_mode": {
    "name": "ipython",
    "version": 3
   },
   "file_extension": ".py",
   "mimetype": "text/x-python",
   "name": "python",
   "nbconvert_exporter": "python",
   "pygments_lexer": "ipython3",
   "version": "3.9.6"
  },
  "orig_nbformat": 4
 },
 "nbformat": 4,
 "nbformat_minor": 2
}
