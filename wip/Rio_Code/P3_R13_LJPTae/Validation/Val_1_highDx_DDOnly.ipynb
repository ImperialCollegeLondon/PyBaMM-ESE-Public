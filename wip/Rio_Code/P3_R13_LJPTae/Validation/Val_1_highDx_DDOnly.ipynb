{
 "cells": [
  {
   "attachments": {},
   "cell_type": "markdown",
   "metadata": {},
   "source": [
    "# this notebook tries to validate the thermal model\n",
    "# start from 3C, high Dx DD only"
   ]
  },
  {
   "cell_type": "code",
   "execution_count": 40,
   "metadata": {},
   "outputs": [
    {
     "name": "stdout",
     "output_type": "stream",
     "text": [
      "The autoreload extension is already loaded. To reload it, use:\n",
      "  %reload_ext autoreload\n"
     ]
    }
   ],
   "source": [
    "# magic lines that avoid re-start\n",
    "%load_ext autoreload\n",
    "%autoreload 2"
   ]
  },
  {
   "cell_type": "code",
   "execution_count": 41,
   "metadata": {},
   "outputs": [],
   "source": [
    "import pybamm;import numpy as np;import os;import matplotlib.pyplot as plt;import os;#import imageio\n",
    "from scipy.io import savemat,loadmat;from pybamm import constants,exp,sqrt;\n",
    "import matplotlib as mpl; \n",
    "fs=17; # or we can set import matplotlib.pyplot as plt then say 'mpl.rc...'\n",
    "import openpyxl\n",
    "import traceback\n",
    "import multiprocessing;import pandas as pd   ;\n",
    "font = {'family' : 'DejaVu Sans','size'   : fs}\n",
    "mpl.rc('font', **font)"
   ]
  },
  {
   "cell_type": "code",
   "execution_count": 42,
   "metadata": {},
   "outputs": [],
   "source": [
    "import sys  \n",
    "str_path_0 = os.path.abspath(os.path.join(pybamm.__path__[0],'..'))\n",
    "str_path_1 = os.path.abspath(os.path.join(str_path_0,\"wip\\Rio_Code\\Fun_P3\"))\n",
    "sys.path.append(str_path_1) \n",
    "from Fun_P3 import *\n",
    "BasicPath = \"D:/OneDrive - Imperial College London/SimDataSave/P3R13/\"  #'D:/OneDrive - Imperial College London/SimDataSave/P3R13/'; \n",
    "Target  = 'Validation/' \n",
    "if not os.path.exists(BasicPath + Target):\n",
    "   os.mkdir(BasicPath + Target)"
   ]
  },
  {
   "cell_type": "code",
   "execution_count": 43,
   "metadata": {},
   "outputs": [],
   "source": [
    "# Define 3 models: normal DFN, single transport by high Dec, double transport\n",
    "Model_DFN  = pybamm.lithium_ion.DFN(options={\n",
    "    \"solvent diffusion\": \"single no consume wo refill\",\n",
    "    \"electrolyte conductivity\": \"full\"  ,\n",
    "    \"thermal\": \"lumped\"}) \n",
    "Model_DD  = pybamm.lithium_ion.DFN(options={\n",
    "    \"solvent diffusion\": \"double spatial consume w refill\",\n",
    "    \"electrolyte conductivity\": \"sol full\"  ,\n",
    "    \"thermal\": \"lumped\"}) \n",
    "Model_All =[  Model_DD ] #  Model_DFN, \n",
    "Str_model =[  'Model_DD' ]\n",
    "Para_All = []\n",
    "for i in range(0,2):\n",
    "    para=pybamm.ParameterValues(\"Li2023_ECdrag\")\n",
    "    para.update({\"EC initial concentration in electrolyte [mol.m-3]\":3500})\n",
    "    para.update({\"Typical EC concentration [mol.m-3]\":3500})\n",
    "    #para.update({\"Background solvent concentration [mol.m-3]\":7000})\n",
    "    #para.update({\"Negative electrode diffusivity [m2.s-1]\":3.3e-14})\n",
    "    #para.update({\"Positive electrode diffusivity [m2.s-1]\":4e-15})\n",
    "    para.update({\"Initial inner SEI thickness [m]\":1e-8})\n",
    "    para.update({\"Initial outer SEI thickness [m]\":1e-8})\n",
    "    para.update({\"Negative electrode porosity\":0.20})\n",
    "    Para_All.append(para)\n",
    "# Landesf - high Dx; \n",
    "Para_All[0].update({\"EC Lithium ion cross diffusivity [m2.s-1]\":Cross_diffusivity_1p5E_10})\n",
    "Para_All[0].update({\"Cation transference number\":electrolyte_transference_number_EC_EMC_3_7_Landesfeind2019_Con})\n",
    "Para_All[0].update({\"Electrolyte conductivity [S.m-1]\":electrolyte_conductivity_EC_EMC_3_7_Landesfeind2019_Con})\n",
    "Para_All[0].update({\"Electrolyte diffusivity [m2.s-1]\":electrolyte_diffusivity_EC_EMC_3_7_Landesfeind2019_Con})\n",
    "# Landesf - low Dx; \n",
    "Para_All[1].update({\"EC Lithium ion cross diffusivity [m2.s-1]\":Cross_diffusivity_1p5E_12})\n",
    "Para_All[1].update({\"Cation transference number\":electrolyte_transference_number_EC_EMC_3_7_Landesfeind2019_Con})\n",
    "Para_All[1].update({\"Electrolyte conductivity [S.m-1]\":electrolyte_conductivity_EC_EMC_3_7_Landesfeind2019_Con})\n",
    "Para_All[1].update({\"Electrolyte diffusivity [m2.s-1]\":electrolyte_diffusivity_EC_EMC_3_7_Landesfeind2019_Con})\n",
    "\n",
    "Str_para = ['Landesf-H Dx', 'Landesf-L Dx',]\n",
    "var_pts = {\n",
    "    \"x_n\": 10,  # negative electrode\n",
    "    \"x_s\": 5,  # separator \n",
    "    \"x_p\": 10,  # positive electrode\n",
    "    \"r_n\": 60,  # negative particle\n",
    "    \"r_p\": 30,  # positive particle\n",
    "}"
   ]
  },
  {
   "cell_type": "code",
   "execution_count": 44,
   "metadata": {},
   "outputs": [
    {
     "name": "stderr",
     "output_type": "stream",
     "text": [
      "At t = 0.00872081 and h = 8.41113e-019, the corrector convergence failed repeatedly or with |h| = hmin.\n"
     ]
    },
    {
     "name": "stdout",
     "output_type": "stream",
     "text": [
      "Finish one cycle\n"
     ]
    },
    {
     "name": "stderr",
     "output_type": "stream",
     "text": [
      "At t = 0.00408357 and h = 2.1649e-018, the corrector convergence failed repeatedly or with |h| = hmin.\n",
      "At t = 0.00408357 and h = 1.26542e-018, the corrector convergence failed repeatedly or with |h| = hmin.\n"
     ]
    },
    {
     "name": "stdout",
     "output_type": "stream",
     "text": [
      "Finish one cycle\n",
      "Doing 1 scan C rate\n"
     ]
    }
   ],
   "source": [
    "# all parameter: 2*2*4*2 = 32\n",
    "TDF_Dis_All = [];Rate_Dis_All = [1,3, ];  Rate_Cha_All = [1 ];\n",
    "k=0\n",
    "for i in range(0,1):\n",
    "    TDF_i_All = []; para = Para_All[i]; str_para = Str_para[i];\n",
    "    for model,str_model in zip(Model_All,Str_model):\n",
    "        TDF_i_All.append(\n",
    "            Scan_Crate(Rate_Dis_All,Rate_Cha_All,model,para,str_model,str_para,var_pts)\n",
    "            )\n",
    "        k += 1\n",
    "        print(f\"Doing {k} scan C rate\")\n",
    "    TDF_Dis_All.append(TDF_i_All)\n",
    "    del TDF_i_All"
   ]
  },
  {
   "cell_type": "code",
   "execution_count": 45,
   "metadata": {},
   "outputs": [],
   "source": [
    "# Read cell-1 and 2 from 0.5C to 4C - done by Ruihe, calanedar age aleady ~98.36% at 0.5C\n",
    "# Read Cell-1 2.5C to 3C:\n",
    "BasicPath = \"D:/OneDrive - Imperial College London/SimDataSave/InputData/\" \n",
    "Target = \"Ruihe_newLGM50_Crate/\"\n",
    "Cell_1_2p5to3C = pd.read_csv(\n",
    "    BasicPath + Target + \"dicharge_2.5C_3C_ch_a_1_CA1.txt\", #engine='python',\n",
    "    encoding = \"shift-jis\",  skiprows = 1,\n",
    "    sep ='\\t', header=None)\n",
    "Cell_1_2p5to3C.head()\n",
    "newNames = [\n",
    "    \"time/s\", \"Ns\",\"Ecell/V\", \"I/mA\", \n",
    "    \"(Q-Qo)/mA.h\", \"Temperature/ｰC\", \n",
    "    \"Q charge/mA.h\",\"Q discharge/mA.h\",\"R/Ohm\"]\n",
    "oldNames = np.arange(9).tolist()\n",
    "Cell_1_2p5to3C=Cell_1_2p5to3C.rename(columns={i:j for i,j in zip(oldNames,newNames)})\n",
    "Cell_1_2p5to3C.head()\n",
    "# Get Cell-1 2.5C and 3C:\n",
    "font = {'family' : 'DejaVu Sans','size'   : 14};   mpl.rc('font', **font)\n",
    "Cell_1_2p5C = Cell_1_2p5to3C[(Cell_1_2p5to3C['Ns']==5)]\n",
    "df_dc4 = Cell_1_2p5to3C[(Cell_1_2p5to3C['Ns']==12)]\n",
    "Cell_1_3C = Cell_1_2p5to3C[(Cell_1_2p5to3C['Ns']==12)]\n",
    "# Read Cell-2 2.5C to 3C:\n",
    "Cell_2_2p5to3C = pd.read_csv(\n",
    "    BasicPath + Target + \"dicharge_2.5C_3C_ch_a_2_CA2.txt\", #engine='python',\n",
    "    encoding = \"shift-jis\",  skiprows = 1,\n",
    "    sep ='\\t', header=None)\n",
    "Cell_2_2p5to3C.head()\n",
    "newNames = [\n",
    "    \"time/s\", \"Ns\",\"Ecell/V\", \"I/mA\", \n",
    "    \"(Q-Qo)/mA.h\", \"Temperature/ｰC\", \n",
    "    \"Q charge/mA.h\",\"Q discharge/mA.h\",\"R/Ohm\"]\n",
    "oldNames = np.arange(9).tolist()\n",
    "Cell_2_2p5to3C=Cell_2_2p5to3C.rename(columns={i:j for i,j in zip(oldNames,newNames)})\n",
    "Cell_2_2p5to3C.head()\n",
    "Cell_2_2p5C = Cell_2_2p5to3C[(Cell_2_2p5to3C['Ns']==5)]\n",
    "df_dc4 = Cell_2_2p5to3C[(Cell_2_2p5to3C['Ns']==12)]\n",
    "Cell_2_3C = Cell_2_2p5to3C[(Cell_2_2p5to3C['Ns']==12)]\n",
    "# Read Cell-1 3.5C to 4C:\n",
    "Cell_1_3p5to4C = pd.read_csv(\n",
    "    BasicPath + Target + \"Discharge_test_3p5_to_4C_A1_CA1.txt\", #engine='python',\n",
    "    encoding = \"shift-jis\",  skiprows = 1,\n",
    "    sep ='\\t', header=None)\n",
    "Cell_1_3p5to4C.head()\n",
    "newNames = [\n",
    "    \"time/s\", \"Ns\",\"Ecell/V\", \"I/mA\", \n",
    "    \"(Q-Qo)/mA.h\", \"Temperature/ｰC\", \n",
    "    \"Q charge/mA.h\",\"Q discharge/mA.h\",\"R/Ohm\"]\n",
    "oldNames = np.arange(9).tolist()\n",
    "Cell_1_3p5to4C=Cell_1_3p5to4C.rename(columns={i:j for i,j in zip(oldNames,newNames)})\n",
    "Cell_1_3p5to4C.head()\n",
    "Cell_1_3p5C = Cell_1_3p5to4C[(Cell_1_3p5to4C['Ns']==5)]\n",
    "df_dc4 = Cell_1_3p5to4C[(Cell_1_3p5to4C['Ns']==12)]\n",
    "Cell_1_4C = Cell_1_3p5to4C[(Cell_1_3p5to4C['Ns']==12)]\n",
    "# Read Cell-2 3.5C to 4C:\n",
    "Cell_2_3p5to4C = pd.read_csv(\n",
    "    BasicPath + Target + \"Discharge_test_3p5_to_4C_A2_CA3.txt\", #engine='python',\n",
    "    encoding = \"shift-jis\",  skiprows = 1,\n",
    "    sep ='\\t', header=None)\n",
    "Cell_2_3p5to4C.head()\n",
    "newNames = [\n",
    "    \"time/s\", \"Ns\",\"Ecell/V\", \"I/mA\", \n",
    "    \"(Q-Qo)/mA.h\", \"Temperature/ｰC\", \n",
    "    \"Q charge/mA.h\",\"Q discharge/mA.h\",\"R/Ohm\"]\n",
    "oldNames = np.arange(9).tolist()\n",
    "Cell_2_3p5to4C=Cell_2_3p5to4C.rename(columns={i:j for i,j in zip(oldNames,newNames)})\n",
    "Cell_2_3p5to4C.head()\n",
    "Cell_2_3p5C = Cell_2_3p5to4C[(Cell_2_3p5to4C['Ns']==5)]\n",
    "df_dc4 = Cell_2_3p5to4C[(Cell_2_3p5to4C['Ns']==12)]\n",
    "Cell_2_4C = Cell_2_3p5to4C[(Cell_2_3p5to4C['Ns']==12)]\n",
    "# Read Cell-2 up to 2C:\n",
    "Cell_2_UpTo2C = pd.read_csv(\n",
    "    BasicPath + Target + \"dicharge_to_2C_ch_a_2_CA2.txt\", #engine='python',\n",
    "    encoding = \"shift-jis\",  skiprows = 1,\n",
    "    sep ='\\t', header=None)\n",
    "Cell_2_UpTo2C.head()\n",
    "newNames = [\n",
    "    \"time/s\", \"Ns\",\"Ecell/V\", \"I/mA\", \n",
    "    \"(Q-Qo)/mA.h\", \"Temperature/ｰC\", \n",
    "    \"Q charge/mA.h\",\"Q discharge/mA.h\",\"R/Ohm\"]\n",
    "oldNames = np.arange(9).tolist()\n",
    "Cell_2_UpTo2C=Cell_2_UpTo2C.rename(columns={i:j for i,j in zip(oldNames,newNames)})\n",
    "Cell_2_UpTo2C.head()\n",
    "\n",
    "Cell_2_0p5C = Cell_2_UpTo2C[(Cell_2_UpTo2C['Ns']==5)]\n",
    "Cell_2_1C = Cell_2_UpTo2C[(Cell_2_UpTo2C['Ns']==12)]\n",
    "Cell_2_1p25C = Cell_2_UpTo2C[(Cell_2_UpTo2C['Ns']==19)]\n",
    "Cell_2_1p5C = Cell_2_UpTo2C[(Cell_2_UpTo2C['Ns']==26)]\n",
    "Cell_2_1p75C = Cell_2_UpTo2C[(Cell_2_UpTo2C['Ns']==33)]\n",
    "Cell_2_2C = Cell_2_UpTo2C[(Cell_2_UpTo2C['Ns']==40)]\n",
    "# Read Cell-1 up to 2C:\n",
    "\n",
    "Cell_1_UpTo2C = pd.read_csv(\n",
    "    BasicPath + Target + \"dicharge_to_2C_ch_a_1_CA1.txt\", #engine='python',\n",
    "    encoding = \"shift-jis\",  skiprows = 1,\n",
    "    sep ='\\t', header=None)\n",
    "Cell_1_UpTo2C.head()\n",
    "newNames = [\n",
    "    \"time/s\", \"Ns\",\"Ecell/V\", \"I/mA\", \n",
    "    \"(Q-Qo)/mA.h\", \"Temperature/ｰC\", \n",
    "    \"Q charge/mA.h\",\"Q discharge/mA.h\",\"R/Ohm\"]\n",
    "oldNames = np.arange(9).tolist()\n",
    "Cell_1_UpTo2C=Cell_1_UpTo2C.rename(columns={i:j for i,j in zip(oldNames,newNames)})\n",
    "Cell_1_UpTo2C.head()\n",
    "\n",
    "Cell_1_0p5C = Cell_1_UpTo2C[(Cell_1_UpTo2C['Ns']==5)]\n",
    "Cell_1_1C = Cell_1_UpTo2C[(Cell_1_UpTo2C['Ns']==12)]\n",
    "Cell_1_1p25C = Cell_1_UpTo2C[(Cell_1_UpTo2C['Ns']==19)]\n",
    "Cell_1_1p5C = Cell_1_UpTo2C[(Cell_1_UpTo2C['Ns']==26)]\n",
    "Cell_1_1p75C = Cell_1_UpTo2C[(Cell_1_UpTo2C['Ns']==33)]\n",
    "Cell_1_2C = Cell_1_UpTo2C[(Cell_1_UpTo2C['Ns']==40)]\n",
    "# collect all together\n",
    "Cell_2_All = [\n",
    "    Cell_2_0p5C,Cell_2_1C,Cell_2_1p25C,Cell_2_1p5C,Cell_2_1p75C,\n",
    "    Cell_2_2C,Cell_2_2p5C,Cell_2_3C,Cell_2_3p5C,Cell_2_4C];\n",
    "Cell_1_All = [\n",
    "    Cell_1_0p5C,Cell_1_1C,Cell_1_1p25C,Cell_1_1p5C,Cell_1_1p75C,\n",
    "    Cell_1_2C,Cell_1_2p5C,Cell_1_3C,Cell_1_3p5C,Cell_1_4C];\n",
    "str_Crate = [\"0.5\",\"1\",\"1.25\",\"1.5\",\"1.75\",\"2\",\"2.5\",\"3\",\"3.5\",\"4\",]"
   ]
  },
  {
   "cell_type": "code",
   "execution_count": null,
   "metadata": {},
   "outputs": [],
   "source": [
    "# Summarize Exp - plot temperature rise and capacity vs C rate\n"
   ]
  },
  {
   "cell_type": "code",
   "execution_count": 51,
   "metadata": {},
   "outputs": [
    {
     "data": {
      "text/plain": [
       "Text(0.5, 0, 'Time [s]')"
      ]
     },
     "execution_count": 51,
     "metadata": {},
     "output_type": "execute_result"
    },
    {
     "data": {
      "image/png": "[encoded data removed]",
      "text/plain": [
       "<Figure size 669.6x230.4 with 2 Axes>"
      ]
     },
     "metadata": {
      "needs_background": "light"
     },
     "output_type": "display_data"
    }
   ],
   "source": [
    "# str_Crate = [\"0.5\",\"1\",\"1.25\",\"1.5\",\"1.75\",\"2\",\"2.5\",\"3\",\"3.5\",\"4\",]\n",
    "# single high Dx: TDF_Dis_All[0][0] low Dx: TDF_Dis_All[1][0]     \n",
    "# double high Dx: TDF_Dis_All[0][1] low Dx: TDF_Dis_All[1][1]   \n",
    "Colors = ['#1f77b4','#2ca02c',  '#d62728', '#ff7f0e'];\n",
    "font = {'family' : 'DejaVu Sans','size'   : 16}\n",
    "mpl.rc('font', **font)\n",
    "Crate_index = 0;   \n",
    "LS = ['-','--','-','--'];\n",
    "fig, axs = plt.subplots(1,2, figsize=(9.3,3.2),tight_layout=True)\n",
    "for i in range(1):\n",
    "    for j in range(1):\n",
    "        sol = TDF_Dis_All[i][j]['MyDict_All'][Crate_index]['Solution']\n",
    "        step =  sol.cycles[0].steps[1]\n",
    "        axs[0].plot(\n",
    "            step['Time [s]'].entries-step['Time [s]'].entries[0], \n",
    "            step[\"Terminal voltage [V]\"].entries,\n",
    "            color=Colors[0],linestyle=LS[0],label=r\"Single-High $D_\\times$\") \n",
    "        axs[1].plot(\n",
    "            step['Time [s]'].entries-step['Time [s]'].entries[0], \n",
    "            step[\"Discharge capacity [A.h]\"].entries-step[\"Discharge capacity [A.h]\"].entries[0],\n",
    "            color=Colors[0],linestyle=LS[0],label=r\"Single-High $D_\\times$\") \n",
    "# str_Crate = [\"0.5\",\"1\",\"1.25\",\"1.5\",\"1.75\",\"2\",\"2.5\",\"3\",\"3.5\",\"4\",]\n",
    "i=1\n",
    "axs[0].plot(\n",
    "    (Cell_1_All[i][\"time/s\"]-Cell_1_All[i][\"time/s\"].iloc[0])/1,\n",
    "    Cell_1_All[i][\"Ecell/V\"],linestyle='--',\n",
    "    color=\"r\",label=f\"{str_Crate[i]} C\")\n",
    "\n",
    "axs[0].set_ylabel(\"Ecell [V]\",fontsize=fs)\n",
    "axs[1].set_xlabel(\"Time [s]\",fontsize=fs)\n",
    "axs[0].set_xlabel(\"Time [s]\",fontsize=fs)\n",
    "\n",
    "#plt.savefig(BasicPath + Target+\"Fig. 2 - 3C discharge vol decompos.png\", dpi=800)"
   ]
  },
  {
   "cell_type": "code",
   "execution_count": 47,
   "metadata": {},
   "outputs": [
    {
     "name": "stdout",
     "output_type": "stream",
     "text": [
      "4.86458787160754\n"
     ]
    },
    {
     "data": {
      "text/plain": [
       "4.61212736701687"
      ]
     },
     "execution_count": 47,
     "metadata": {},
     "output_type": "execute_result"
    }
   ],
   "source": [
    "temp = step[\"Discharge capacity [A.h]\"].entries-step[\"Discharge capacity [A.h]\"].entries[0]\n",
    "print(temp[-1])\n",
    "i=1\n",
    "Cell_1_All[i][\"Q discharge/mA.h\"].iloc[-1]/1e3"
   ]
  },
  {
   "cell_type": "code",
   "execution_count": 52,
   "metadata": {},
   "outputs": [
    {
     "data": {
      "text/plain": [
       "Text(0.5, 0, 'Time [s]')"
      ]
     },
     "execution_count": 52,
     "metadata": {},
     "output_type": "execute_result"
    },
    {
     "data": {
      "image/png": "[encoded data removed]",
      "text/plain": [
       "<Figure size 669.6x230.4 with 2 Axes>"
      ]
     },
     "metadata": {
      "needs_background": "light"
     },
     "output_type": "display_data"
    }
   ],
   "source": [
    "# str_Crate = [\"0.5\",\"1\",\"1.25\",\"1.5\",\"1.75\",\"2\",\"2.5\",\"3\",\"3.5\",\"4\",]\n",
    "# single high Dx: TDF_Dis_All[0][0] low Dx: TDF_Dis_All[1][0]     \n",
    "# double high Dx: TDF_Dis_All[0][1] low Dx: TDF_Dis_All[1][1]   \n",
    "Colors = ['#1f77b4','#2ca02c',  '#d62728', '#ff7f0e'];\n",
    "font = {'family' : 'DejaVu Sans','size'   : 16}\n",
    "mpl.rc('font', **font)\n",
    "Crate_index = 1;   \n",
    "LS = ['-','--','-','--'];\n",
    "fig, axs = plt.subplots(1,2, figsize=(9.3,3.2),tight_layout=True)\n",
    "for i in range(1):\n",
    "    for j in range(1):\n",
    "        sol = TDF_Dis_All[i][j]['MyDict_All'][Crate_index]['Solution']\n",
    "        step =  sol.cycles[0].steps[1]\n",
    "        axs[0].plot(\n",
    "            step['Time [s]'].entries-step['Time [s]'].entries[0], \n",
    "            step[\"Terminal voltage [V]\"].entries,\n",
    "            color=Colors[0],linestyle=LS[0],label=r\"Single-High $D_\\times$\") \n",
    "        axs[1].plot(\n",
    "            step['Time [s]'].entries-step['Time [s]'].entries[0], \n",
    "            #step[\"Discharge capacity [A.h]\"].entries-step[\"Discharge capacity [A.h]\"].entries[0],\n",
    "            step[\"Volume-averaged cell temperature [C]\"].entries ,\n",
    "            color=Colors[0],linestyle=LS[0],label=r\"Single-High $D_\\times$\") \n",
    "# str_Crate = [\"0.5\",\"1\",\"1.25\",\"1.5\",\"1.75\",\"2\",\"2.5\",\"3\",\"3.5\",\"4\",]\n",
    "i=7\n",
    "axs[0].plot(\n",
    "    (Cell_1_All[i][\"time/s\"]-Cell_1_All[i][\"time/s\"].iloc[0])/1,\n",
    "    Cell_1_All[i][\"Ecell/V\"],linestyle='--',\n",
    "    color=\"r\",label=f\"{str_Crate[i]} C\")\n",
    "\n",
    "axs[0].set_ylabel(\"Potential [V]\",fontsize=fs)\n",
    "axs[1].set_xlabel(\"Time [s]\",fontsize=fs)\n",
    "axs[0].set_xlabel(\"Time [s]\",fontsize=fs)\n",
    "\n",
    "#plt.savefig(BasicPath + Target+\"Fig. 2 - 3C discharge vol decompos.png\", dpi=800)"
   ]
  },
  {
   "cell_type": "code",
   "execution_count": 49,
   "metadata": {},
   "outputs": [
    {
     "name": "stdout",
     "output_type": "stream",
     "text": [
      "Ambient temperature\n",
      "Ambient temperature [C]\n",
      "Ambient temperature [K]\n",
      "Cell temperature\n",
      "Cell temperature [C]\n",
      "Cell temperature [K]\n",
      "Negative current collector temperature\n",
      "Negative current collector temperature [C]\n",
      "Negative current collector temperature [K]\n",
      "Negative electrode temperature\n",
      "Negative electrode temperature [C]\n",
      "Negative electrode temperature [K]\n",
      "Positive current collector temperature\n",
      "Positive current collector temperature [C]\n",
      "Positive current collector temperature [K]\n",
      "Positive electrode temperature\n",
      "Positive electrode temperature [C]\n",
      "Positive electrode temperature [K]\n",
      "Separator temperature\n",
      "Separator temperature [C]\n",
      "Separator temperature [K]\n",
      "Volume-averaged cell temperature\n",
      "Volume-averaged cell temperature [C]\n",
      "Volume-averaged cell temperature [K]\n",
      "X-averaged cell temperature\n",
      "X-averaged cell temperature [C]\n",
      "X-averaged cell temperature [K]\n",
      "X-averaged negative electrode temperature\n",
      "X-averaged negative electrode temperature [C]\n",
      "X-averaged negative electrode temperature [K]\n",
      "X-averaged positive electrode temperature\n",
      "X-averaged positive electrode temperature [C]\n",
      "X-averaged positive electrode temperature [K]\n",
      "X-averaged separator temperature\n",
      "X-averaged separator temperature [C]\n",
      "X-averaged separator temperature [K]\n"
     ]
    }
   ],
   "source": [
    "model.variables.search(\"Temperature\")"
   ]
  },
  {
   "cell_type": "code",
   "execution_count": 50,
   "metadata": {},
   "outputs": [
    {
     "name": "stdout",
     "output_type": "stream",
     "text": [
      "15.0\n",
      "-14.983243\n"
     ]
    }
   ],
   "source": [
    "print(step[\"Current [A]\"].entries[-1])\n",
    "print(Cell_1_All[i][\"I/mA\"].iloc[0]/1E3)"
   ]
  }
 ],
 "metadata": {
  "kernelspec": {
   "display_name": "envPBGEM",
   "language": "python",
   "name": "python3"
  },
  "language_info": {
   "codemirror_mode": {
    "name": "ipython",
    "version": 3
   },
   "file_extension": ".py",
   "mimetype": "text/x-python",
   "name": "python",
   "nbconvert_exporter": "python",
   "pygments_lexer": "ipython3",
   "version": "3.9.6"
  },
  "orig_nbformat": 4
 },
 "nbformat": 4,
 "nbformat_minor": 2
}
