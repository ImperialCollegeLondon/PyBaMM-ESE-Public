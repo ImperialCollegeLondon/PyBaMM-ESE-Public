{
 "cells": [
  {
   "cell_type": "markdown",
   "metadata": {},
   "source": [
    "# <a id='toc1_'></a>[this is check the model using no fucntion at all.](#toc0_)"
   ]
  },
  {
   "cell_type": "code",
   "execution_count": 1,
   "metadata": {},
   "outputs": [],
   "source": [
    "import pybamm;import pandas as pd   ;import numpy as np;import os;import matplotlib.pyplot as plt;import os;#import imageio\n",
    "from scipy.io import savemat,loadmat;from pybamm import constants,exp,sqrt;\n",
    "import matplotlib as mpl; \n",
    "fs=17; # or we can set import matplotlib.pyplot as plt then say 'mpl.rc...'\n",
    "import openpyxl\n",
    "import traceback\n",
    "import multiprocessing\n",
    "font = {'family' : 'DejaVu Sans','size'   : fs}\n",
    "mpl.rc('font', **font)"
   ]
  },
  {
   "cell_type": "code",
   "execution_count": 2,
   "metadata": {},
   "outputs": [],
   "source": [
    "import sys  \n",
    "str_path_0 = os.path.abspath(os.path.join(pybamm.__path__[0],'..'))\n",
    "str_path_1 = os.path.abspath(os.path.join(str_path_0,\"wip\\Rio_Code\\Fun_P3\"))\n",
    "sys.path.append(str_path_1) \n",
    "from Fun_P3 import *\n",
    "BasicPath = \"D:/OneDrive - Imperial College London/SimDataSave/P3R13/\" # \\ECEMC_3_7_Poster\n",
    "Target  = 'ECEMC_3_7_Poster/' \n",
    "if not os.path.exists(BasicPath + Target):\n",
    "   os.mkdir(BasicPath + Target)"
   ]
  },
  {
   "cell_type": "code",
   "execution_count": 3,
   "metadata": {},
   "outputs": [],
   "source": [
    "V_max = 4.2;        V_min = 2.5;\n",
    "exp  = pybamm.Experiment(\n",
    "    [ \n",
    "        (f\"Discharge at 1 C until {V_min} V\", \n",
    "        f\"Charge at 3 C until {V_max} V\",  # (5 minute period)\n",
    "        f\"Hold at {V_max} V until C/20\"),] * 1 )  "
   ]
  },
  {
   "cell_type": "code",
   "execution_count": 4,
   "metadata": {},
   "outputs": [
    {
     "name": "stdout",
     "output_type": "stream",
     "text": [
      "Confirm: using interstitial-diffusion limited\n",
      "Confirm: using interstitial-diffusion limited\n",
      "<function dLJP_One_Specie_dce_Jung2023 at 0x000002A8D474C160>\n",
      "<function dLJP_Two_Species_dce_Jung2023 at 0x000002A8D4750CA0>\n"
     ]
    }
   ],
   "source": [
    "# int - Dec=5e-10; single vs double \n",
    "Model_DFN_int  = pybamm.lithium_ion.DFN(options={\n",
    "    \"SEI\":\"interstitial-diffusion limited\",            \n",
    "    \"SEI film resistance\":\"distributed\",          \n",
    "    \"SEI porosity change\":\"true\",   \n",
    "    \"solvent diffusion\": \"single no consume wo refill\",\n",
    "    \"electrolyte conductivity\": \"full\"  ,}) \n",
    "Model_DD_int  = pybamm.lithium_ion.DFN(options={\n",
    "    \"SEI\":\"interstitial-diffusion limited\",           \n",
    "    \"SEI film resistance\":\"distributed\",          \n",
    "    \"SEI porosity change\":\"true\",   \n",
    "    \"solvent diffusion\": \"double no consume wo refill\",\n",
    "    \"electrolyte conductivity\": \"sol full\"  ,}) \n",
    "Model_All_int =[ Model_DFN_int,   Model_DD_int ]\n",
    "Str_model_int =[ 'Model_DFN_int', 'Model_DD_int' ]\n",
    "# Para_All[0]: for single; Para_All[1]: for double\n",
    "para=pybamm.ParameterValues(\"Li2023_ECdrag\")\n",
    "Para_All = []\n",
    "for i in range(0,2):\n",
    "    para=pybamm.ParameterValues(\"Li2023_ECdrag\")\n",
    "    para.update({\"EC initial concentration in electrolyte [mol.m-3]\":3500})\n",
    "    para.update({\"Typical EC concentration [mol.m-3]\":3500})\n",
    "    para.update({'EC diffusivity in SEI [m2.s-1]':5e-20})\n",
    "    para.update({\"EC diffusivity in electrolyte [m2.s-1]\":EC_diffusivity_5E_10})\n",
    "    para.update({'Inner SEI lithium interstitial diffusivity [m2.s-1]':3e-19})\n",
    "    para.update({\"EC Lithium ion cross diffusivity [m2.s-1]\":Cross_diffusivity_1p5E_10})\n",
    "    para.update({\"Cation transference number\":electrolyte_transference_number_EC_EMC_3_7_Landesfeind2019_Con})\n",
    "    para.update({\"Electrolyte conductivity [S.m-1]\":electrolyte_conductivity_EC_EMC_3_7_Landesfeind2019_Con})\n",
    "    para.update({\"Electrolyte diffusivity [m2.s-1]\":electrolyte_diffusivity_EC_EMC_3_7_Landesfeind2019_Con})\n",
    "    Para_All.append(para)\n",
    "Para_All[0].update({\"Measured dLJP_dce\":dLJP_One_Specie_dce_Jung2023})\n",
    "# check \n",
    "print(Para_All[0][\"Measured dLJP_dce\"])\n",
    "print(Para_All[1][\"Measured dLJP_dce\"])\n",
    "Sol_all_int =[];\n",
    "for model,para in zip(Model_All_int,Para_All):\n",
    "    c_e = model.variables[\"Electrolyte concentration [mol.m-3]\"]\n",
    "    c_EC= model.variables[\"EC concentration [mol.m-3]\"]\n",
    "    T = model.variables[\"Cell temperature [K]\"]\n",
    "    D_e = para[\"Electrolyte diffusivity [m2.s-1]\"]\n",
    "    D_EC= para[\"EC diffusivity in electrolyte [m2.s-1]\"]\n",
    "    sigma_e = para[\"Electrolyte conductivity [S.m-1]\"]\n",
    "    Xi = para[\"EC transference number\"]\n",
    "    model.variables[\"Electrolyte diffusivity [m2.s-1]\"] = D_e(c_e,c_EC, T)\n",
    "    model.variables[\"EC diffusivity in electrolyte [m2.s-1]\"] = D_EC(c_e,c_EC, T)\n",
    "    model.variables[\"Electrolyte conductivity [S.m-1]\"] = sigma_e(c_e,c_EC, T)\n",
    "    model.variables[\"EC transference number\"] = Xi(c_e,c_EC, T)\n",
    "    model.variables[\"c(EC) over c(Li+)\"] = c_EC / c_e\n",
    "    t_0plus = para[\"Cation transference number\"]\n",
    "    model.variables[\"Cation transference number\"] = t_0plus(c_e,c_EC, T)\n",
    "\n",
    "    var_pts = {\n",
    "        \"x_n\": 10,  # negative electrode\n",
    "        \"x_s\": 5,  # separator \n",
    "        \"x_p\": 10,  # positive electrode\n",
    "        \"r_n\": 30,  # negative particle\n",
    "        \"r_p\": 20,  # positive particle\n",
    "    }\n",
    "\n",
    "    sim    = pybamm.Simulation(\n",
    "        model, experiment = exp,\n",
    "        parameter_values = para,\n",
    "        solver = pybamm.CasadiSolver(return_solution_if_failed_early=True),\n",
    "        var_pts=var_pts,)       \n",
    "    Sol_all_int.append(sim.solve())"
   ]
  },
  {
   "cell_type": "code",
   "execution_count": 5,
   "metadata": {},
   "outputs": [
    {
     "name": "stdout",
     "output_type": "stream",
     "text": [
      "Confirm: using interstitial-diffusion limited\n",
      "Confirm: using interstitial-diffusion limited\n",
      "<function dLJP_One_Specie_dce_Jung2023 at 0x000002A8D474C160>\n",
      "<function dLJP_Two_Species_dce_Jung2023 at 0x000002A8D4750CA0>\n"
     ]
    }
   ],
   "source": [
    "# int - Dec=3e-10; single vs double \n",
    "Model_DFN_int_lowDx  = pybamm.lithium_ion.DFN(options={\n",
    "    \"SEI\":\"interstitial-diffusion limited\",             \n",
    "    \"SEI film resistance\":\"distributed\",          \n",
    "    \"SEI porosity change\":\"true\",   \n",
    "    \"solvent diffusion\": \"single no consume wo refill\",\n",
    "    \"electrolyte conductivity\": \"full\"  ,}) \n",
    "Model_DD_int_lowDx  = pybamm.lithium_ion.DFN(options={\n",
    "    \"SEI\":\"interstitial-diffusion limited\",             \n",
    "    \"SEI film resistance\":\"distributed\",          \n",
    "    \"SEI porosity change\":\"true\",   \n",
    "    \"solvent diffusion\": \"double no consume wo refill\",\n",
    "    \"electrolyte conductivity\": \"sol full\"  ,}) \n",
    "Model_All_int_lowDx =[ Model_DFN_int_lowDx ,   Model_DD_int_lowDx ]\n",
    "Str_model_int_lowDx =[ 'Model_DFN_int_lowDx', 'Model_DD_int_lowDx' ]\n",
    "# Para_All[0]: for single; Para_All[1]: for double\n",
    "para=pybamm.ParameterValues(\"Li2023_ECdrag\")\n",
    "Para_All = []\n",
    "for i in range(0,2):\n",
    "    para=pybamm.ParameterValues(\"Li2023_ECdrag\")\n",
    "    para.update({\"EC initial concentration in electrolyte [mol.m-3]\":3500})\n",
    "    para.update({\"Typical EC concentration [mol.m-3]\":3500})\n",
    "    para.update({'EC diffusivity in SEI [m2.s-1]':5e-20})\n",
    "    para.update({\"EC diffusivity in electrolyte [m2.s-1]\":EC_diffusivity_5E_10})\n",
    "    para.update({'Inner SEI lithium interstitial diffusivity [m2.s-1]':3e-19})\n",
    "    para.update({\"EC Lithium ion cross diffusivity [m2.s-1]\":Cross_diffusivity_1p5E_12})\n",
    "    para.update({\"Cation transference number\":electrolyte_transference_number_EC_EMC_3_7_Landesfeind2019_Con})\n",
    "    para.update({\"Electrolyte conductivity [S.m-1]\":electrolyte_conductivity_EC_EMC_3_7_Landesfeind2019_Con})\n",
    "    para.update({\"Electrolyte diffusivity [m2.s-1]\":electrolyte_diffusivity_EC_EMC_3_7_Landesfeind2019_Con})\n",
    "    Para_All.append(para)\n",
    "Para_All[0].update({\"Measured dLJP_dce\":dLJP_One_Specie_dce_Jung2023})\n",
    "# check \n",
    "print(Para_All[0][\"Measured dLJP_dce\"])\n",
    "print(Para_All[1][\"Measured dLJP_dce\"])\n",
    "Sol_all_int_lowDx =[];\n",
    "for model,para in zip(Model_All_int_lowDx,Para_All):\n",
    "    c_e = model.variables[\"Electrolyte concentration [mol.m-3]\"]\n",
    "    c_EC= model.variables[\"EC concentration [mol.m-3]\"]\n",
    "    T = model.variables[\"Cell temperature [K]\"]\n",
    "    D_e = para[\"Electrolyte diffusivity [m2.s-1]\"]\n",
    "    D_EC= para[\"EC diffusivity in electrolyte [m2.s-1]\"]\n",
    "    sigma_e = para[\"Electrolyte conductivity [S.m-1]\"]\n",
    "    Xi = para[\"EC transference number\"]\n",
    "    model.variables[\"Electrolyte diffusivity [m2.s-1]\"] = D_e(c_e,c_EC, T)\n",
    "    model.variables[\"EC diffusivity in electrolyte [m2.s-1]\"] = D_EC(c_e,c_EC, T)\n",
    "    model.variables[\"Electrolyte conductivity [S.m-1]\"] = sigma_e(c_e,c_EC, T)\n",
    "    model.variables[\"EC transference number\"] = Xi(c_e,c_EC, T)\n",
    "    model.variables[\"c(EC) over c(Li+)\"] = c_EC / c_e\n",
    "    t_0plus = para[\"Cation transference number\"]\n",
    "    model.variables[\"Cation transference number\"] = t_0plus(c_e,c_EC, T)\n",
    "    var_pts = {\n",
    "        \"x_n\": 10,  # negative electrode\n",
    "        \"x_s\": 5,  # separator \n",
    "        \"x_p\": 10,  # positive electrode\n",
    "        \"r_n\": 30,  # negative particle\n",
    "        \"r_p\": 20,  # positive particle\n",
    "    }\n",
    "    sim    = pybamm.Simulation(\n",
    "        model, experiment = exp,\n",
    "        parameter_values = para,\n",
    "        solver = pybamm.CasadiSolver(return_solution_if_failed_early=True),\n",
    "        var_pts=var_pts,)       \n",
    "    Sol_all_int_lowDx.append(sim.solve())"
   ]
  },
  {
   "cell_type": "code",
   "execution_count": 6,
   "metadata": {},
   "outputs": [
    {
     "name": "stdout",
     "output_type": "stream",
     "text": [
      "EC source term (SEI)\n",
      "Inner SEI concentration [mol.m-3]\n",
      "Inner SEI interfacial current density\n",
      "Inner SEI interfacial current density [A.m-2]\n",
      "Inner SEI on cracks concentration [mol.m-3]\n",
      "Inner SEI on cracks interfacial current density\n",
      "Inner SEI on cracks interfacial current density [A.m-2]\n",
      "Inner SEI on cracks thickness\n",
      "Inner SEI on cracks thickness [m]\n",
      "Inner SEI thickness\n",
      "Inner SEI thickness [m]\n",
      "Loss of capacity to SEI [A.h]\n",
      "Loss of capacity to SEI on cracks [A.h]\n",
      "Loss of lithium to SEI [mol]\n",
      "Loss of lithium to SEI on cracks [mol]\n",
      "Negative electrode SEI interfacial current density\n",
      "Negative electrode SEI interfacial current density [A.m-2]\n",
      "Negative electrode SEI on cracks interfacial current density\n",
      "Negative electrode SEI on cracks interfacial current density [A.m-2]\n",
      "Negative electrode SEI on cracks volumetric interfacial current density\n",
      "Negative electrode SEI on cracks volumetric interfacial current density [A.m-3]\n",
      "Negative electrode SEI volumetric interfacial current density\n",
      "Negative electrode SEI volumetric interfacial current density [A.m-3]\n",
      "Outer SEI concentration [mol.m-3]\n",
      "Outer SEI interfacial current density\n",
      "Outer SEI interfacial current density [A.m-2]\n",
      "Outer SEI on cracks concentration [mol.m-3]\n",
      "Outer SEI on cracks interfacial current density\n",
      "Outer SEI on cracks interfacial current density [A.m-2]\n",
      "Outer SEI on cracks thickness\n",
      "Outer SEI on cracks thickness [m]\n",
      "Outer SEI thickness\n",
      "Outer SEI thickness [m]\n",
      "Positive electrode SEI interfacial current density\n",
      "Positive electrode SEI interfacial current density [A.m-2]\n",
      "Positive electrode SEI on cracks interfacial current density\n",
      "Positive electrode SEI on cracks interfacial current density [A.m-2]\n",
      "Positive electrode SEI on cracks volumetric interfacial current density\n",
      "Positive electrode SEI volumetric interfacial current density\n",
      "SEI [m]\n",
      "SEI concentration [mol.m-3]\n",
      "SEI film overpotential\n",
      "SEI film overpotential [V]\n",
      "SEI interfacial current density\n",
      "SEI interfacial current density [A.m-2]\n",
      "SEI on cracks [m]\n",
      "SEI on cracks concentration [mol.m-3]\n",
      "SEI on cracks interfacial current density\n",
      "SEI on cracks interfacial current density [A.m-2]\n",
      "SEI on cracks thickness\n",
      "SEI thickness\n",
      "Total EC in electrolyte and SEI [mol]\n",
      "Total SEI on cracks thickness\n",
      "Total SEI on cracks thickness [m]\n",
      "Total SEI thickness\n",
      "Total SEI thickness [m]\n",
      "X-averaged SEI concentration [mol.m-3]\n",
      "X-averaged SEI film overpotential\n",
      "X-averaged SEI film overpotential [V]\n",
      "X-averaged SEI interfacial current density\n",
      "X-averaged SEI interfacial current density [A.m-2]\n",
      "X-averaged SEI on cracks concentration [mol.m-3]\n",
      "X-averaged SEI on cracks interfacial current density\n",
      "X-averaged SEI on cracks interfacial current density [A.m-2]\n",
      "X-averaged SEI on cracks thickness\n",
      "X-averaged SEI on cracks thickness [m]\n",
      "X-averaged SEI thickness\n",
      "X-averaged SEI thickness [m]\n",
      "X-averaged inner SEI concentration [mol.m-3]\n",
      "X-averaged inner SEI interfacial current density\n",
      "X-averaged inner SEI interfacial current density [A.m-2]\n",
      "X-averaged inner SEI on cracks concentration [mol.m-3]\n",
      "X-averaged inner SEI on cracks interfacial current density\n",
      "X-averaged inner SEI on cracks interfacial current density [A.m-2]\n",
      "X-averaged inner SEI on cracks thickness\n",
      "X-averaged inner SEI on cracks thickness [m]\n",
      "X-averaged inner SEI thickness\n",
      "X-averaged inner SEI thickness [m]\n",
      "X-averaged negative electrode SEI interfacial current density\n",
      "X-averaged negative electrode SEI on cracks interfacial current density\n",
      "X-averaged negative electrode SEI on cracks volumetric interfacial current density\n",
      "X-averaged negative electrode SEI on cracks volumetric interfacial current density [A.m-3]\n",
      "X-averaged negative electrode SEI volumetric interfacial current density\n",
      "X-averaged negative electrode SEI volumetric interfacial current density [A.m-3]\n",
      "X-averaged outer SEI concentration [mol.m-3]\n",
      "X-averaged outer SEI interfacial current density\n",
      "X-averaged outer SEI interfacial current density [A.m-2]\n",
      "X-averaged outer SEI on cracks concentration [mol.m-3]\n",
      "X-averaged outer SEI on cracks interfacial current density\n",
      "X-averaged outer SEI on cracks interfacial current density [A.m-2]\n",
      "X-averaged outer SEI on cracks thickness\n",
      "X-averaged outer SEI on cracks thickness [m]\n",
      "X-averaged outer SEI thickness\n",
      "X-averaged outer SEI thickness [m]\n",
      "X-averaged positive electrode SEI interfacial current density\n",
      "X-averaged positive electrode SEI on cracks interfacial current density\n",
      "X-averaged positive electrode SEI on cracks volumetric interfacial current density\n",
      "X-averaged positive electrode SEI volumetric interfacial current density\n",
      "X-averaged total SEI on cracks thickness\n",
      "X-averaged total SEI on cracks thickness [m]\n",
      "X-averaged total SEI thickness\n",
      "X-averaged total SEI thickness [m]\n"
     ]
    }
   ],
   "source": [
    "# all solutions to compare:\n",
    "# Sol_all_sol          Str_model_sol\n",
    "# Sol_all_sol_lowDx   Str_model_sol_lowDx\n",
    "# Sol_all_int_lowDx;  Str_model_int_lowDx\n",
    "# Sol_all_int          Str_model_int\n",
    "model.variables.search(\"SEI\")"
   ]
  },
  {
   "cell_type": "code",
   "execution_count": 7,
   "metadata": {},
   "outputs": [
    {
     "ename": "NameError",
     "evalue": "name 'Sol_plt' is not defined",
     "output_type": "error",
     "traceback": [
      "\u001b[1;31m---------------------------------------------------------------------------\u001b[0m",
      "\u001b[1;31mNameError\u001b[0m                                 Traceback (most recent call last)",
      "\u001b[1;32md:\\GitPyBaMM\\LRH_409\\LRH_409\\envSolCon\\PyBaMM-GEM\\wip\\Rio_Code\\P3_R13_LJPTae\\OneCyc\\OneCycAge_poster.ipynb Cell 8\u001b[0m in \u001b[0;36m<cell line: 1>\u001b[1;34m()\u001b[0m\n\u001b[1;32m----> <a href='vscode-notebook-cell:/d%3A/GitPyBaMM/LRH_409/LRH_409/envSolCon/PyBaMM-GEM/wip/Rio_Code/P3_R13_LJPTae/OneCyc/OneCycAge_poster.ipynb#X10sZmlsZQ%3D%3D?line=0'>1</a>\u001b[0m Sol_plt[\u001b[39m3\u001b[39m]\u001b[39m.\u001b[39mcycles[\u001b[39m0\u001b[39m]\u001b[39m.\u001b[39msteps[\u001b[39m1\u001b[39m][\u001b[39m'\u001b[39m\u001b[39mTime [s]\u001b[39m\u001b[39m'\u001b[39m]\u001b[39m.\u001b[39mentries\n",
      "\u001b[1;31mNameError\u001b[0m: name 'Sol_plt' is not defined"
     ]
    }
   ],
   "source": [
    "Sol_plt[3].cycles[0].steps[1]['Time [s]'].entries"
   ]
  },
  {
   "cell_type": "code",
   "execution_count": null,
   "metadata": {},
   "outputs": [
    {
     "name": "stdout",
     "output_type": "stream",
     "text": [
      "[0.0, 60.0, 120.0, 180.00000000000045, 240.0, 300.0, 337.05139725004983]\n",
      "[0.0, 60.0, 120.0, 180.0, 240.0, 300.0, 337.05139725004346]\n",
      "[0.0, 59.999999999999545, 120.0, 180.00000000000045, 240.0, 300.0, 330.18745865982237]\n",
      "[0.0, 60.0, 120.0, 180.0, 240.0, 300.0, 338.65441731341525]\n",
      "[5, 5, 5, 5] 300.0\n"
     ]
    },
    {
     "data": {
      "image/png": "[encoded data removed]",
      "text/plain": [
       "<Figure size 864x252 with 3 Axes>"
      ]
     },
     "metadata": {
      "needs_background": "light"
     },
     "output_type": "display_data"
    }
   ],
   "source": [
    "# plot only things happen during 3C CC charge\n",
    "font = {'family' : 'DejaVu Sans','size'   : 17}\n",
    "mpl.rc('font', **font)\n",
    "def FindClose(time_DD,t_select): # Input must be a list\n",
    "    for i in range(0,len(time_DD)):\n",
    "        if abs(time_DD[i] - t_select)<1e-3:\n",
    "            break\n",
    "    return i\n",
    "Colors = ['#1f77b4', '#ff7f0e', '#2ca02c', '#d62728'];\n",
    "LS = ['-','--','-','--',];MS=['s','^','h']; ms = 8\n",
    "Sol_plt = [Sol_all_int[0],Sol_all_int_lowDx[0],Sol_all_int[1],Sol_all_int_lowDx[1],]\n",
    "t_int_all = []; Index_t_select = []; \n",
    "fig, axs = plt.subplots(1,3, figsize=(12,3.5),tight_layout=True)\n",
    "for i in range(4):\n",
    "    sol = Sol_plt[i]\n",
    "    t_int_all.append((\n",
    "        sol.cycles[0].steps[1]['Time [s]'].entries\n",
    "        - sol.cycles[0].steps[1]['Time [s]'].entries[0]).tolist())\n",
    "    print(t_int_all[-1])\n",
    "t_select = min(t_int_all[0][-2],t_int_all[1][-2],t_int_all[2][-2],t_int_all[3][-2])\n",
    "for i in range(4):\n",
    "    Index_t_select.append(FindClose(t_int_all[i],t_select))\n",
    "print(Index_t_select,t_select)\n",
    "for i in range(4):\n",
    "    sol = Sol_plt[i]\n",
    "    x =   sol.cycles[0].steps[1][\"x [m]\"].entries[:,0]\n",
    "    x_n =   sol.cycles[0].steps[1][\"x_n [m]\"].entries[:,0]\n",
    "    c_EC =   sol.cycles[0].steps[1][\"EC concentration [mol.m-3]\"].entries[:,Index_t_select[i]]\n",
    "    j_SEI =   sol.cycles[0].steps[1][\"Negative electrode SEI interfacial current density [A.m-2]\"].entries[:,Index_t_select[i]]\n",
    "    eta_SEI =   sol.cycles[0].steps[1][\"SEI film overpotential [V]\"].entries[:,Index_t_select[i]]\n",
    "   \n",
    "    axs[0].plot(x*1e6, c_EC/1e3, color=Colors[i],linestyle=LS[i],) # label=r\"Single-High $D_\\times$\" \n",
    "    \n",
    "    axs[1].plot(x_n*1e6, eta_SEI*1e3, color=Colors[i],linestyle=LS[i]) \n",
    "    axs[2].plot(x_n*1e6, abs(j_SEI)*1e3, color=Colors[i],linestyle=LS[i]) \n",
    "\n",
    "    #axs[i].set_title(Title_keys[i],fontdict={'family':'DejaVu Sans','size':fs})\n",
    "    axs[0].set_xlabel(r\"x [$\\mu$m]\",   fontdict={'family':'DejaVu Sans','size':fs})\n",
    "    axs[1].set_xlabel(r\"x-n [$\\mu$m]\",   fontdict={'family':'DejaVu Sans','size':fs})\n",
    "    axs[2].set_xlabel(r\"x-n [$\\mu$m]\",   fontdict={'family':'DejaVu Sans','size':fs})\n",
    "    axs[0].ticklabel_format( \n",
    "        axis='x', style='sci',\n",
    "        scilimits=[-1e3,1e3], useOffset=None, \n",
    "        useLocale=None, useMathText=None)\n",
    "axs[0].set_ylabel(\"c(EC) [M]\")\n",
    "axs[0].set_ylim([2.5,4.9])\n",
    "axs[2].set_ylim([-2.5,75])\n",
    "axs[2].set_ylabel(\"j$_{SEI}$ [mA/m$^{-2}$]\")\n",
    "axs[1].set_ylabel(\"$\\eta$$_{SEI}$ [mV]\")\n",
    "Y_0p = np.arange(2.5,5,0.1)\n",
    "axs[0].plot( 85.2 * np.ones_like(Y_0p),Y_0p,\"k-\",linewidth=0.5,)\n",
    "axs[0].plot((85.2+12 )* np.ones_like(Y_0p),Y_0p, \"k-\",linewidth=0.5,)\n",
    "# 85.2 ; 12; 75.6\n",
    "# plt.savefig(BasicPath + Target+\"3C_c_EC_j_SEI.png\", dpi=800)"
   ]
  },
  {
   "cell_type": "code",
   "execution_count": 9,
   "metadata": {},
   "outputs": [
    {
     "name": "stdout",
     "output_type": "stream",
     "text": [
      "[0.0, 59.999999999999545, 120.0, 179.99999999999955, 240.0, 300.0, 337.05139725005665]\n",
      "[0.0, 59.999999999999545, 120.0, 179.99999999999955, 240.0, 299.99999999999955, 337.05139725004165]\n",
      "[0.0, 59.999999999999545, 120.0, 180.00000000000045, 240.0, 299.99999999999955, 330.18745865982737]\n",
      "[0.0, 59.999999999999545, 120.0, 179.99999999999955, 240.0, 300.0, 338.65441731342344]\n",
      "[5, 5, 5, 5] 299.99999999999955\n"
     ]
    },
    {
     "data": {
      "image/png": "[encoded data removed]",
      "text/plain": [
       "<Figure size 324x252 with 1 Axes>"
      ]
     },
     "metadata": {
      "needs_background": "light"
     },
     "output_type": "display_data"
    }
   ],
   "source": [
    "# plot only things happen during 3C CC charge\n",
    "font = {'family' : 'DejaVu Sans','size'   : 17}\n",
    "mpl.rc('font', **font)\n",
    "def FindClose(time_DD,t_select): # Input must be a list\n",
    "    for i in range(0,len(time_DD)):\n",
    "        if abs(time_DD[i] - t_select)<1e-3:\n",
    "            break\n",
    "    return i\n",
    "Colors = ['#1f77b4', '#ff7f0e', '#2ca02c', '#d62728'];\n",
    "LS = ['-','--','-','--',];MS=['s','^','h']; ms = 8\n",
    "Sol_plt = [Sol_all_int[0],Sol_all_int_lowDx[0],Sol_all_int[1],Sol_all_int_lowDx[1],]\n",
    "t_int_all = []; Index_t_select = []; \n",
    "fig, axs = plt.subplots(figsize=(4.5,3.5),tight_layout=True)\n",
    "for i in range(4):\n",
    "    sol = Sol_plt[i]\n",
    "    t_int_all.append((\n",
    "        sol.cycles[0].steps[1]['Time [s]'].entries\n",
    "        - sol.cycles[0].steps[1]['Time [s]'].entries[0]).tolist())\n",
    "    print(t_int_all[-1])\n",
    "t_select = min(t_int_all[0][-2],t_int_all[1][-2],t_int_all[2][-2],t_int_all[3][-2])\n",
    "for i in range(4):\n",
    "    Index_t_select.append(FindClose(t_int_all[i],t_select))\n",
    "print(Index_t_select,t_select)\n",
    "for i in range(4):\n",
    "    sol = Sol_plt[i]\n",
    "    x =   sol.cycles[0].steps[1][\"x [m]\"].entries[:,0]\n",
    "    x_n =   sol.cycles[0].steps[1][\"x_n [m]\"].entries[:,0]\n",
    "    c_EC =   sol.cycles[0].steps[1][\"EC concentration [mol.m-3]\"].entries[:,Index_t_select[i]]\n",
    "    j_SEI =   sol.cycles[0].steps[1][\"Negative electrode SEI interfacial current density [A.m-2]\"].entries[:,Index_t_select[i]]\n",
    "    eta_SEI =   sol.cycles[0].steps[1][\"SEI film overpotential [V]\"].entries[:,Index_t_select[i]]\n",
    "    axs.plot(x_n*1e6, abs(j_SEI)*1e3, color=Colors[i],linestyle=LS[i]) \n",
    "\n",
    "    axs.set_xlabel(r\"x-n [$\\mu$m]\",   fontdict={'family':'DejaVu Sans','size':fs})\n",
    "    \n",
    "\n",
    "axs.set_ylabel(\"j$_{SEI}$ [mA/m$^{-2}$]\")\n",
    "\n",
    "plt.savefig(BasicPath + Target+\"3C_only_j_SEI.png\", dpi=800)"
   ]
  },
  {
   "cell_type": "code",
   "execution_count": null,
   "metadata": {},
   "outputs": [
    {
     "data": {
      "application/vnd.jupyter.widget-view+json": {
       "model_id": "e3b8063bf8704172a45123b92da6412e",
       "version_major": 2,
       "version_minor": 0
      },
      "text/plain": [
       "interactive(children=(FloatSlider(value=0.0, description='t', max=2.3472502069880488, step=0.02347250206988048…"
      ]
     },
     "metadata": {},
     "output_type": "display_data"
    }
   ],
   "source": [
    "# compare int - Dec\n",
    "Str = [\n",
    "    \"Int-Single-H_Dec\",\"Int-Double-H_Dec\",\n",
    "    \"Int-Single-L_Dec\",\"Int-Double-L_Dec\",]\n",
    "font = {'family' : 'DejaVu Sans','size'   : 12}\n",
    "mpl.rc('font', **font)\n",
    "var_elely = [\n",
    "    \"Terminal voltage [V]\",\n",
    "    \"EC concentration [mol.m-3]\",\n",
    "    #\"Electrolyte concentration [mol.m-3]\",\n",
    "    #\"Electrolyte conductivity [S.m-1]\",\n",
    "    #\"Electrolyte diffusivity [m2.s-1]\",\n",
    "    \"SEI film overpotential [V]\",\n",
    "    \"Negative electrode surface potential difference [V]\",\n",
    "    \"Negative electrode SEI interfacial current density [A.m-2]\",\n",
    "    \"X-averaged SEI interfacial current density [A.m-2]\",\n",
    "]\n",
    "quick_plot = pybamm.QuickPlot(\n",
    "    [\n",
    "        Sol_all_int[0],Sol_all_int[1],\n",
    "        Sol_all_int_lowDx[0],Sol_all_int_lowDx[1],\n",
    "        ], var_elely,\n",
    "    Str,variable_limits='tight',\n",
    "    time_unit='hours',\n",
    "    spatial_unit='mm',     #  (“m”, “mm”, or “um”)\n",
    "    n_rows=2) #figsize = (18,12),\n",
    "quick_plot.dynamic_plot()"
   ]
  },
  {
   "cell_type": "code",
   "execution_count": null,
   "metadata": {},
   "outputs": [
    {
     "ename": "NameError",
     "evalue": "name 'Sol_all' is not defined",
     "output_type": "error",
     "traceback": [
      "\u001b[1;31m---------------------------------------------------------------------------\u001b[0m",
      "\u001b[1;31mNameError\u001b[0m                                 Traceback (most recent call last)",
      "\u001b[1;32md:\\GitPyBaMM\\LRH_409\\LRH_409\\envSolCon\\PyBaMM-GEM\\wip\\Rio_Code\\P3_R13_LJPTae\\OneCyc\\OneCycAge_poster.ipynb Cell 11\u001b[0m in \u001b[0;36m<cell line: 10>\u001b[1;34m()\u001b[0m\n\u001b[0;32m      <a href='vscode-notebook-cell:/d%3A/GitPyBaMM/LRH_409/LRH_409/envSolCon/PyBaMM-GEM/wip/Rio_Code/P3_R13_LJPTae/OneCyc/OneCycAge_poster.ipynb#X15sZmlsZQ%3D%3D?line=1'>2</a>\u001b[0m mpl\u001b[39m.\u001b[39mrc(\u001b[39m'\u001b[39m\u001b[39mfont\u001b[39m\u001b[39m'\u001b[39m, \u001b[39m*\u001b[39m\u001b[39m*\u001b[39mfont)\n\u001b[0;32m      <a href='vscode-notebook-cell:/d%3A/GitPyBaMM/LRH_409/LRH_409/envSolCon/PyBaMM-GEM/wip/Rio_Code/P3_R13_LJPTae/OneCyc/OneCycAge_poster.ipynb#X15sZmlsZQ%3D%3D?line=2'>3</a>\u001b[0m output_variables3 \u001b[39m=\u001b[39m [\n\u001b[0;32m      <a href='vscode-notebook-cell:/d%3A/GitPyBaMM/LRH_409/LRH_409/envSolCon/PyBaMM-GEM/wip/Rio_Code/P3_R13_LJPTae/OneCyc/OneCycAge_poster.ipynb#X15sZmlsZQ%3D%3D?line=3'>4</a>\u001b[0m     \u001b[39m\"\u001b[39m\u001b[39mElectrolyte potential [V]\u001b[39m\u001b[39m\"\u001b[39m,\n\u001b[0;32m      <a href='vscode-notebook-cell:/d%3A/GitPyBaMM/LRH_409/LRH_409/envSolCon/PyBaMM-GEM/wip/Rio_Code/P3_R13_LJPTae/OneCyc/OneCycAge_poster.ipynb#X15sZmlsZQ%3D%3D?line=4'>5</a>\u001b[0m     \u001b[39m\"\u001b[39m\u001b[39mPositive electrode potential [V]\u001b[39m\u001b[39m\"\u001b[39m,\n\u001b[1;32m   (...)\u001b[0m\n\u001b[0;32m      <a href='vscode-notebook-cell:/d%3A/GitPyBaMM/LRH_409/LRH_409/envSolCon/PyBaMM-GEM/wip/Rio_Code/P3_R13_LJPTae/OneCyc/OneCycAge_poster.ipynb#X15sZmlsZQ%3D%3D?line=7'>8</a>\u001b[0m     \u001b[39m\"\u001b[39m\u001b[39mTerminal voltage [V]\u001b[39m\u001b[39m\"\u001b[39m, \n\u001b[0;32m      <a href='vscode-notebook-cell:/d%3A/GitPyBaMM/LRH_409/LRH_409/envSolCon/PyBaMM-GEM/wip/Rio_Code/P3_R13_LJPTae/OneCyc/OneCycAge_poster.ipynb#X15sZmlsZQ%3D%3D?line=8'>9</a>\u001b[0m ]\n\u001b[0;32m     <a href='vscode-notebook-cell:/d%3A/GitPyBaMM/LRH_409/LRH_409/envSolCon/PyBaMM-GEM/wip/Rio_Code/P3_R13_LJPTae/OneCyc/OneCycAge_poster.ipynb#X15sZmlsZQ%3D%3D?line=9'>10</a>\u001b[0m quick_plot \u001b[39m=\u001b[39m pybamm\u001b[39m.\u001b[39mQuickPlot(\n\u001b[1;32m---> <a href='vscode-notebook-cell:/d%3A/GitPyBaMM/LRH_409/LRH_409/envSolCon/PyBaMM-GEM/wip/Rio_Code/P3_R13_LJPTae/OneCyc/OneCycAge_poster.ipynb#X15sZmlsZQ%3D%3D?line=10'>11</a>\u001b[0m     [sol \u001b[39mfor\u001b[39;00m sol \u001b[39min\u001b[39;00m Sol_all], output_variables3,Str_model,variable_limits\u001b[39m=\u001b[39m\u001b[39m'\u001b[39m\u001b[39mfixed\u001b[39m\u001b[39m'\u001b[39m,\n\u001b[0;32m     <a href='vscode-notebook-cell:/d%3A/GitPyBaMM/LRH_409/LRH_409/envSolCon/PyBaMM-GEM/wip/Rio_Code/P3_R13_LJPTae/OneCyc/OneCycAge_poster.ipynb#X15sZmlsZQ%3D%3D?line=11'>12</a>\u001b[0m     time_unit\u001b[39m=\u001b[39m\u001b[39m'\u001b[39m\u001b[39mhours\u001b[39m\u001b[39m'\u001b[39m,\n\u001b[0;32m     <a href='vscode-notebook-cell:/d%3A/GitPyBaMM/LRH_409/LRH_409/envSolCon/PyBaMM-GEM/wip/Rio_Code/P3_R13_LJPTae/OneCyc/OneCycAge_poster.ipynb#X15sZmlsZQ%3D%3D?line=12'>13</a>\u001b[0m     spatial_unit\u001b[39m=\u001b[39m\u001b[39m'\u001b[39m\u001b[39mmm\u001b[39m\u001b[39m'\u001b[39m,     \u001b[39m#  (“m”, “mm”, or “um”)\u001b[39;00m\n\u001b[0;32m     <a href='vscode-notebook-cell:/d%3A/GitPyBaMM/LRH_409/LRH_409/envSolCon/PyBaMM-GEM/wip/Rio_Code/P3_R13_LJPTae/OneCyc/OneCycAge_poster.ipynb#X15sZmlsZQ%3D%3D?line=13'>14</a>\u001b[0m     n_rows\u001b[39m=\u001b[39m\u001b[39m2\u001b[39m) \u001b[39m#figsize = (18,12),\u001b[39;00m\n\u001b[0;32m     <a href='vscode-notebook-cell:/d%3A/GitPyBaMM/LRH_409/LRH_409/envSolCon/PyBaMM-GEM/wip/Rio_Code/P3_R13_LJPTae/OneCyc/OneCycAge_poster.ipynb#X15sZmlsZQ%3D%3D?line=14'>15</a>\u001b[0m quick_plot\u001b[39m.\u001b[39mdynamic_plot()\n",
      "\u001b[1;31mNameError\u001b[0m: name 'Sol_all' is not defined"
     ]
    }
   ],
   "source": [
    "font = {'family' : 'DejaVu Sans','size'   : 17}\n",
    "mpl.rc('font', **font)\n",
    "output_variables3 = [\n",
    "    \"Electrolyte potential [V]\",\n",
    "    \"Positive electrode potential [V]\",\n",
    "    \"Negative electrode potential [V]\",\n",
    "    \"Positive current collector potential [V]\", \n",
    "    \"Terminal voltage [V]\", \n",
    "]\n",
    "quick_plot = pybamm.QuickPlot(\n",
    "    [sol for sol in Sol_all], output_variables3,Str_model,variable_limits='fixed',\n",
    "    time_unit='hours',\n",
    "    spatial_unit='mm',     #  (“m”, “mm”, or “um”)\n",
    "    n_rows=2) #figsize = (18,12),\n",
    "quick_plot.dynamic_plot()"
   ]
  },
  {
   "cell_type": "code",
   "execution_count": null,
   "metadata": {},
   "outputs": [],
   "source": [
    "Colors = ['b','k','r',];LS = ['-','--','-'];MS=['o','^','h'];Str=[ 'DFN',  'Single trans', 'Double trans' ]\n",
    "fig, axs = plt.subplots(2,3, figsize=(10,6),tight_layout=True)\n",
    "Keys_t_var = [\n",
    "    \"Battery voltage [V]\",\n",
    "    \"X-averaged battery reaction overpotential [V]\",\n",
    "    \"X-averaged battery concentration overpotential [V]\",\n",
    "    \"X-averaged EC concentration overpotential [V]\", # Mark Ruihe add\n",
    "    \"X-averaged battery electrolyte ohmic losses [V]\",\n",
    "    \"X-averaged battery solid phase ohmic losses [V]\",\n",
    "]\n",
    "Title_keys = [\n",
    "    \"Battery voltage\",\n",
    "    \"Reaction overpotential\",\n",
    "    \"c(Li+) overpotential\",\n",
    "    \"c(EC) overpotential\",\n",
    "    \"Elely ohmic losses\",\n",
    "    \"Solid ohmic losses\"\n",
    "]\n",
    "for k in range(0,3):\n",
    "    step_no = 1\n",
    "    time_1 = (\n",
    "        Sol_all[k].cycles[0].steps[step_no]['Time [s]'].entries\n",
    "        -Sol_all[k].cycles[0].steps[step_no]['Time [s]'].entries[0] )\n",
    "    for i in range(0,6): # 0 1 2 3 4 5 --> [0,0] [0,1], [0,2], [1,0], [1,1], [1,2]   \n",
    "        var =  Sol_all[k].cycles[0].steps[step_no][Keys_t_var[i]].entries\n",
    "        if i < 3:\n",
    "            m=0; n =i\n",
    "        else:\n",
    "            m=1; n=i-3\n",
    "        axs[m,n].plot(time_1, var,color=Colors[k],linestyle=LS[k],label=Str[k]) # label=\"1st cycle\"\n",
    "        axs[m,n].set_title(Title_keys[i],fontdict={'family':'DejaVu Sans','size':fs-1})\n",
    "        axs[m,n].set_ylabel(\"Potential [V]\",   fontdict={'family':'DejaVu Sans','size':fs})\n",
    "        axs[m,n].set_xlabel('Time [s]',   fontdict={'family':'DejaVu Sans','size':fs})\n",
    "        #axs[m,n].set_ylim(-1.2,0.5)\n",
    "        \n",
    "        labels = axs[m,n].get_xticklabels() + axs[m,n].get_yticklabels(); \n",
    "        [label.set_fontname('DejaVu Sans') for label in labels]\n",
    "        axs[0,0].legend(prop={'family':'DejaVu Sans','size':fs-5},loc='best',frameon=False)  \n",
    "    #axs[0,0].set_ylim(2.49,4.2)"
   ]
  },
  {
   "cell_type": "code",
   "execution_count": null,
   "metadata": {},
   "outputs": [],
   "source": []
  },
  {
   "cell_type": "code",
   "execution_count": null,
   "metadata": {},
   "outputs": [],
   "source": []
  },
  {
   "cell_type": "code",
   "execution_count": null,
   "metadata": {},
   "outputs": [],
   "source": []
  }
 ],
 "metadata": {
  "kernelspec": {
   "display_name": "envSolCon",
   "language": "python",
   "name": "python3"
  },
  "language_info": {
   "codemirror_mode": {
    "name": "ipython",
    "version": 3
   },
   "file_extension": ".py",
   "mimetype": "text/x-python",
   "name": "python",
   "nbconvert_exporter": "python",
   "pygments_lexer": "ipython3",
   "version": "3.9.6"
  },
  "orig_nbformat": 4,
  "vscode": {
   "interpreter": {
    "hash": "5ae0c684446e40f7574a1a9821257f2365ba43f34c15f5f2e3dcabca0bad9ab7"
   }
  }
 },
 "nbformat": 4,
 "nbformat_minor": 2
}
