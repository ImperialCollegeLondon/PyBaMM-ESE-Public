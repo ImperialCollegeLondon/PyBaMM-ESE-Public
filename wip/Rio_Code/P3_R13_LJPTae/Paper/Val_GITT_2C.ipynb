{
 "cells": [
  {
   "attachments": {},
   "cell_type": "markdown",
   "metadata": {},
   "source": [
    "# this notebook produce paper result - 2C GITT validation"
   ]
  },
  {
   "cell_type": "code",
   "execution_count": 93,
   "metadata": {},
   "outputs": [
    {
     "name": "stdout",
     "output_type": "stream",
     "text": [
      "The autoreload extension is already loaded. To reload it, use:\n",
      "  %reload_ext autoreload\n"
     ]
    }
   ],
   "source": [
    "# magic lines that avoid re-start\n",
    "%load_ext autoreload\n",
    "%autoreload 2"
   ]
  },
  {
   "cell_type": "code",
   "execution_count": 94,
   "metadata": {},
   "outputs": [],
   "source": [
    "import pybamm;import numpy as np;import os;import matplotlib.pyplot as plt;import os;#import imageio\n",
    "from scipy.io import savemat,loadmat;from pybamm import constants,exp,sqrt;\n",
    "import matplotlib as mpl; \n",
    "fs=17; # or we can set import matplotlib.pyplot as plt then say 'mpl.rc...'\n",
    "import openpyxl\n",
    "import traceback\n",
    "import multiprocessing;import pandas as pd;\n",
    "font = {'family' : 'DejaVu Sans','size'   : fs}\n",
    "mpl.rc('font', **font)"
   ]
  },
  {
   "cell_type": "code",
   "execution_count": 95,
   "metadata": {},
   "outputs": [],
   "source": [
    "import sys  \n",
    "str_path_0 = os.path.abspath(os.path.join(pybamm.__path__[0],'..'))\n",
    "str_path_1 = os.path.abspath(os.path.join(str_path_0,\"wip\\Rio_Code\\Fun_P3\"))\n",
    "sys.path.append(str_path_1) \n",
    "from Fun_P3 import *\n",
    "# BasicPath = \"C:/Users/rl1120/OneDrive - Imperial College London/\"  #\n",
    "BasicPath= \"D:/OneDrive - Imperial College London/SimDataSave/P3R13/Paper/\"\n",
    "Target  = 'Fig_2_GITT_2C/' \n",
    "if not os.path.exists(BasicPath + Target):\n",
    "   os.mkdir(BasicPath + Target)"
   ]
  },
  {
   "cell_type": "code",
   "execution_count": 96,
   "metadata": {},
   "outputs": [
    {
     "name": "stdout",
     "output_type": "stream",
     "text": [
      "1 1\n"
     ]
    }
   ],
   "source": [
    "# define parameter of double and single \n",
    "Para_dict_Same = {\n",
    "   ################################# Same for single and double:\n",
    "   \"Mesh list\":[ [5,5,5,60,30], ],   # Simon uses 30\n",
    "   \"Para_Set\":[ \"Li2023_ECdrag\",],\n",
    "   # solvent diffusion parameters:\n",
    "   \"EC initial concentration in electrolyte [mol.m-3]\":[3500],\n",
    "   \"Typical EC concentration [mol.m-3]\":[3500,],\n",
    "\n",
    "   \"Negative electrode porosity\":[0.25],\n",
    "   \"SEI resistivity [Ohm.m]\":[2e5,],\n",
    "   \"Initial inner SEI thickness [m]\":[1.2362e-08,],\n",
    "   \"Initial outer SEI thickness [m]\":[1.2362e-08,],\n",
    "   \"Contact resistance [Ohm]\":[6e-3],\n",
    "   \"Cation transference number\":[\n",
    "    \"electrolyte_transference_number_EC_EMC_3_7_Landesfeind2019_Con\"],\n",
    "   \"Electrolyte conductivity [S.m-1]\":[\n",
    "    \"electrolyte_conductivity_EC_EMC_3_7_Landesfeind2019_Con\"],\n",
    "   \"Electrolyte diffusivity [m2.s-1]\":[\n",
    "    \"electrolyte_diffusivity_EC_EMC_3_7_Landesfeind2019_Con\"],\n",
    "   #\"Initial Neg SOC\":[0.93,0.87],\n",
    "}\n",
    "\n",
    "Para_dict_DD_ONLY = {\n",
    "     \"Model option\":[{\n",
    "      \"SEI\": \"constant\",\n",
    "      \"SEI porosity change\": \"true\",\n",
    "      #\"SEI on cracks\": \"true\",\n",
    "      \"solvent diffusion\": \"double spatial consume w refill\",\n",
    "      \"electrolyte conductivity\": \"sol full\"  ,\n",
    "     \"contact resistance\":\"true\",  \n",
    "      },],\n",
    "     ################################# Need to be different between single and double:\n",
    "     \"EC Lithium ion cross diffusivity [m2.s-1]\":[\n",
    "        \"Cross_diffusivity_1p5E_10\",], # \"Cross_diffusivity_1p5E_12\",\n",
    "     \"EC diffusivity in electrolyte [m2.s-1]\":[\n",
    "        \"EC_diffusivity_5E_10\"],\n",
    "     \"EC transference number\":[\n",
    "        \"EC_transference_number\",],\n",
    "     \"Measured dLJP_dcEC\": [\"dLJP_Two_Species_dco_Jung2023\",],\n",
    "     \"Measured dLJP_dce\": [\"dLJP_Two_Species_dce_Jung2023\",],\n",
    "}\n",
    "Para_dict_SD_ONLY = {\n",
    "     \"Model option\":[{\n",
    "      \"SEI\": \"constant\",\n",
    "      \"SEI porosity change\": \"true\",\n",
    "      #\"SEI on cracks\": \"true\",\n",
    "      \"solvent diffusion\": \"single no consume wo refill\",\n",
    "      \"electrolyte conductivity\": \"full\"  ,\n",
    "      \"contact resistance\":\"true\",\n",
    "      },],\n",
    "     ################################# fake, must have only one option\n",
    "     \"EC Lithium ion cross diffusivity [m2.s-1]\":[\n",
    "        \"Cross_diffusivity_1p5E_10\",],\n",
    "     \"EC diffusivity in electrolyte [m2.s-1]\":[\n",
    "        \"EC_diffusivity_5E_10\"],\n",
    "     \"EC transference number\":[\n",
    "        \"EC_transference_number\",],\n",
    "     \"Measured dLJP_dce\":[\"dLJP_One_Specie_dce_Jung2023\",]\n",
    "}\n",
    "Para_dict_DD = {**Para_dict_Same,**Para_dict_DD_ONLY}\n",
    "Para_dict_SD = {**Para_dict_Same,**Para_dict_SD_ONLY}\n",
    "Para_DD = [];  Para_SD=[];\n",
    "recursive_scan(Para_DD,Para_dict_DD, list(Para_dict_DD.keys()), {})\n",
    "recursive_scan(Para_SD,Para_dict_SD, list(Para_dict_SD.keys()), {})\n",
    "print(len(Para_DD),len(Para_SD))"
   ]
  },
  {
   "cell_type": "code",
   "execution_count": 97,
   "metadata": {},
   "outputs": [],
   "source": [
    "# import experimental GITT data from file\n",
    "BasicPath_input = \"D:/OneDrive - Imperial College London/SimDataSave/InputData/\"\n",
    "Target_input = \"GITT/\"\n",
    "GITT_data = pd.read_csv(\n",
    "    BasicPath_input + Target_input + \"2C_GITT_25deg_Niall.csv\", comment=\"#\", header=None\n",
    ").to_numpy()\n",
    "t_exp = GITT_data[:,0]/3600\n",
    "I_exp = -GITT_data[:,3]/1000\n",
    "V_exp = GITT_data[:,2]\n",
    "#Q_exp = GITT_data[:,1]/1000\n",
    "Q_exp = []\n",
    "for i in range (len(t_exp)):\n",
    "    Q_temp = np.trapz(I_exp[0:i],t_exp[0:i])\n",
    "    Q_exp.append(Q_temp)"
   ]
  },
  {
   "cell_type": "code",
   "execution_count": 98,
   "metadata": {},
   "outputs": [],
   "source": [
    "def Scan_GITT(index_i,Para_dd_i):\n",
    "    print('Start Now! Scan %d.' % index_i)  \n",
    "    CyclePack,para_used = Para_init_Dict(Para_dd_i)\n",
    "    [Mesh_list,model_options] = CyclePack\n",
    "    model = pybamm.lithium_ion.DFN(options=model_options)\n",
    "    exp = pybamm.Experiment([(\n",
    "        \"Rest for 60 seconds (1 second period)\", \n",
    "        \"Discharge at 2C for 72 seconds or until 2.5V (0.1 second period)\", \n",
    "        \"Rest for 1 hour (1 second period)\")] * 25,)\n",
    "    var_pts = {\n",
    "        \"x_n\": Mesh_list[0],  # negative electrode\n",
    "        \"x_s\": Mesh_list[1],  # separator \n",
    "        \"x_p\": Mesh_list[2],  # positive electrode\n",
    "        \"r_n\": Mesh_list[3],  # negative particle\n",
    "        \"r_p\": Mesh_list[4],  # positive particle\n",
    "    }\n",
    "    sim    = pybamm.Simulation(\n",
    "        model, experiment = exp,\n",
    "        parameter_values = para_used,\n",
    "        #solver = pybamm.CasadiSolver(return_solution_if_failed_early=True),\n",
    "        var_pts=var_pts,\n",
    "        )       \n",
    "    sol    = sim.solve()\n",
    "    return sol"
   ]
  },
  {
   "cell_type": "code",
   "execution_count": 99,
   "metadata": {},
   "outputs": [
    {
     "name": "stdout",
     "output_type": "stream",
     "text": [
      "Start Now! Scan 1.\n"
     ]
    },
    {
     "name": "stderr",
     "output_type": "stream",
     "text": [
      "At t = 0.00458386, , mxstep steps taken before reaching tout.\n",
      "At t = 0.00458386, , mxstep steps taken before reaching tout.\n",
      "At t = 0.00208945, , mxstep steps taken before reaching tout.\n",
      "At t = 0.00208945, , mxstep steps taken before reaching tout.\n",
      "At t = 0.00208945, , mxstep steps taken before reaching tout.\n",
      "At t = 0.00319926, , mxstep steps taken before reaching tout.\n",
      "At t = 0.00319926, , mxstep steps taken before reaching tout.\n",
      "At t = 0.00249375, , mxstep steps taken before reaching tout.\n",
      "At t = 0.00249375, , mxstep steps taken before reaching tout.\n",
      "At t = 0.00249375, , mxstep steps taken before reaching tout.\n"
     ]
    }
   ],
   "source": [
    "# for DD first:\n",
    "Index_DD = np.arange(1,len(Para_DD)+1).tolist()  \n",
    "Index_SD = np.arange(1,len(Para_SD)+1).tolist()  \n",
    "# scan: DD and SD respectively \n",
    "DD_Dis_All = []; SD_Dis_All = [];  \n",
    "DD_Dis_All.append(  Scan_GITT(1, Para_DD[0])  )"
   ]
  },
  {
   "cell_type": "markdown",
   "metadata": {},
   "source": [
    "for Para_sd_i,index_i in zip(Para_SD,Index_SD):\n",
    "    SD_Dis_All.append(  Scan_GITT(index_i, Para_sd_i)  )"
   ]
  },
  {
   "cell_type": "code",
   "execution_count": 100,
   "metadata": {},
   "outputs": [
    {
     "name": "stdout",
     "output_type": "stream",
     "text": [
      "Start Now! Scan 1.\n"
     ]
    },
    {
     "name": "stderr",
     "output_type": "stream",
     "text": [
      "At t = 0.00457331, , mxstep steps taken before reaching tout.\n",
      "At t = 0.00457331, , mxstep steps taken before reaching tout.\n",
      "psetup failed: .../casadi/interfaces/sundials/idas_interface.cpp:849: Calculating Jacobian failed\n",
      "At t = 0.00207889, , mxstep steps taken before reaching tout.\n",
      "At t = 0.0020789, , mxstep steps taken before reaching tout.\n",
      "At t = 0.0020789, , mxstep steps taken before reaching tout.\n",
      "At t = 0.00319306, , mxstep steps taken before reaching tout.\n",
      "At t = 0.00319306, , mxstep steps taken before reaching tout.\n",
      "At t = 0.00248982, , mxstep steps taken before reaching tout.\n",
      "psetup failed: .../casadi/interfaces/sundials/idas_interface.cpp:849: Calculating Jacobian failed\n",
      "At t = 0.00248982, , mxstep steps taken before reaching tout.\n",
      "psetup failed: .../casadi/interfaces/sundials/idas_interface.cpp:852: Linear solve failed\n",
      "At t = 0.00248982, , mxstep steps taken before reaching tout.\n"
     ]
    }
   ],
   "source": [
    "SD_Dis_All.append(  Scan_GITT(1, Para_SD[0])  )"
   ]
  },
  {
   "cell_type": "code",
   "execution_count": 101,
   "metadata": {},
   "outputs": [
    {
     "data": {
      "image/png": "[encoded data removed]",
      "text/plain": [
       "<Figure size 255.118x170.079 with 1 Axes>"
      ]
     },
     "metadata": {
      "needs_background": "light"
     },
     "output_type": "display_data"
    }
   ],
   "source": [
    "# Fig.1 - (a) Overall:\n",
    "font = {'family' : 'Times New Roman', 'size' : 12}\n",
    "mpl.rc('font', **font)\n",
    "lw=1;\n",
    "Colors = ['#1f77b4','#2ca02c',  '#d62728', '#ff7f0e'];\n",
    "fig, ax = plt.subplots(figsize=(9/2.54,6/2.54),tight_layout=True)\n",
    "ax.plot(\n",
    "    t_exp-t_exp[0],V_exp, color=Colors[0],\n",
    "    linewidth=lw,\n",
    "    linestyle='-',label='Experiment')\n",
    "\n",
    "\"\"\" sol_sd = SD_Dis_All[0]\n",
    "t_seconds = sol_sd[\"Time [s]\"].entries\n",
    "t_hours = (t_seconds - 60) / 3600\n",
    "I = sol_sd[\"Current [A]\"].entries\n",
    "Q = sol_sd[\"Discharge capacity [A.h]\"].entries\n",
    "V = sol_sd[\"Terminal voltage [V]\"].entries\n",
    "ax.plot(t_hours,V,color='r',linewidth=2,  linestyle='--',label='Single') \"\"\"\n",
    "\n",
    "sol_dd = DD_Dis_All[0]\n",
    "t_seconds = sol_dd[\"Time [s]\"].entries\n",
    "t_hours = (t_seconds - 60) / 3600\n",
    "I = sol_dd[\"Current [A]\"].entries\n",
    "Q = sol_dd[\"Discharge capacity [A.h]\"].entries\n",
    "V = sol_dd[\"Terminal voltage [V]\"].entries\n",
    "ax.plot(\n",
    "    t_hours,V,color=Colors[2],linewidth=lw,    \n",
    "    linestyle='-.',label='Model')\n",
    "\n",
    "ax.set_xlabel('Time [h]')\n",
    "ax.set_ylabel('Terminal voltage [V]')\n",
    "plt.xlim(-0.5,27)\n",
    "plt.ylim(2.4,4.21)\n",
    "#ax.set_title('25x1C pulses at 298K, comparison')\n",
    "ax.legend(loc='best',frameon=False)\n",
    "\n",
    "plt.savefig(\n",
    "        BasicPath + Target + \n",
    "        f'Fig_2(a)_GITT_2C_discharge_298K.png',dpi=1000)\n",
    "plt.savefig(\n",
    "        BasicPath + Target + \n",
    "        f'Fig_2(a)_GITT_2C_discharge_298K.svg') "
   ]
  },
  {
   "cell_type": "code",
   "execution_count": 102,
   "metadata": {},
   "outputs": [
    {
     "data": {
      "image/png": "[encoded data removed]",
      "text/plain": [
       "<Figure size 255.118x170.079 with 4 Axes>"
      ]
     },
     "metadata": {},
     "output_type": "display_data"
    }
   ],
   "source": [
    "# Fig.1 - (b) Pulse [1,9,17,25]:\n",
    "# pulse - 1: \n",
    "\n",
    "Pulse =  [0,8,16,24]\n",
    "Ylim = [(3.65,4.21),(3.35,3.95),(2.95,3.65),(2.45,3.25),]\n",
    "fs=12;   lw=1\n",
    "font = {'family' : 'Times New Roman', 'size' : fs}\n",
    "\n",
    "Colors = ['#1f77b4','#2ca02c',  '#d62728', '#ff7f0e'];\n",
    "fig, axs = plt.subplots(2,2,figsize=(9/2.54,6/2.54),tight_layout=True)\n",
    "k=0\n",
    "for i in range(2):\n",
    "    for j in range(2):\n",
    "        axs[i,j].plot(\n",
    "            t_exp-t_exp[0],V_exp, color=Colors[0],\n",
    "            linewidth=lw,\n",
    "            linestyle='-',label='Experiment')\n",
    "        axs[i,j].plot(\n",
    "            t_hours,V,color=Colors[2],linewidth=lw,    \n",
    "            linestyle='-.',label='Model')\n",
    "        t_s=sol_dd.cycles[Pulse[k]][\"Time [h]\"].entries[0]\n",
    "        axs[i,j].set_xlim(t_s-0.02,t_s+0.1)\n",
    "        axs[i,j].set_ylim(Ylim[k])# \n",
    "        axs[i,j].text(\n",
    "            t_s+0.03, np.mean(Ylim[k][:]),\n",
    "            f'Pulse {Pulse[k]+1}',  fontsize=fs+1) \n",
    "        axs[i,j].tick_params(left = False, right = False , labelleft = False ,\n",
    "            labelbottom = False, bottom = False)\n",
    "        k += 1\n",
    "plt.savefig(\n",
    "        BasicPath + Target + \n",
    "        f'Fig_2(b)_GITT_2C_discharge_298K.png',dpi=1000)\n",
    "plt.savefig(\n",
    "        BasicPath + Target + \n",
    "        f'Fig_2(b)_GITT_2C_discharge_298K.svg') "
   ]
  },
  {
   "cell_type": "code",
   "execution_count": 103,
   "metadata": {},
   "outputs": [
    {
     "data": {
      "text/plain": [
       "24.853171791007494"
      ]
     },
     "execution_count": 103,
     "metadata": {},
     "output_type": "execute_result"
    }
   ],
   "source": [
    "t_s"
   ]
  },
  {
   "cell_type": "code",
   "execution_count": 104,
   "metadata": {},
   "outputs": [
    {
     "name": "stdout",
     "output_type": "stream",
     "text": [
      "0.24050699658703073\n",
      "0.24050699658703073\n"
     ]
    },
    {
     "data": {
      "image/png": "[encoded data removed]",
      "text/plain": [
       "<Figure size 432x288 with 1 Axes>"
      ]
     },
     "metadata": {
      "needs_background": "light"
     },
     "output_type": "display_data"
    }
   ],
   "source": [
    "sol = DD_Dis_All[0]\n",
    "t_seconds = sol[\"Time [s]\"].entries\n",
    "t_hours = (t_seconds - 60) / 3600\n",
    "I = sol[\"Current [A]\"].entries\n",
    "Q = sol[\"Discharge capacity [A.h]\"].entries\n",
    "V = sol[\"Terminal voltage [V]\"].entries\n",
    "print(sol[\"Negative electrode porosity\"].entries[0,-1])\n",
    "print(sol[\"Negative electrode porosity\"].entries[0,0])\n",
    "# No zoom in:\n",
    "fig, ax = plt.subplots()\n",
    "ax.plot(t_exp-t_exp[0],V_exp,color='k',linewidth=2,  linestyle='-',label='Experiment')\n",
    "ax.plot(t_hours,V,color='r',linewidth=2,  linestyle='--',label='Simulation')\n",
    "ax.set_xlabel('Time [h]')\n",
    "ax.set_ylabel('Terminal voltage [V]')\n",
    "ax.set_title(f'25x1C pulses at 298K, comparison')\n",
    "ax.legend(loc='best',frameon=False)\n",
    "plt.xlim(2.1,2.42)\n",
    "plt.ylim(3.7,4.11)\n",
    "plt.show()"
   ]
  },
  {
   "cell_type": "code",
   "execution_count": 105,
   "metadata": {},
   "outputs": [
    {
     "ename": "IndexError",
     "evalue": "list index out of range",
     "output_type": "error",
     "traceback": [
      "\u001b[1;31m---------------------------------------------------------------------------\u001b[0m",
      "\u001b[1;31mIndexError\u001b[0m                                Traceback (most recent call last)",
      "\u001b[1;32md:\\GitPyBaMM\\LRH_409\\LRH_409\\envSolCon\\PyBaMM-GEM\\wip\\Rio_Code\\P3_R13_LJPTae\\Paper\\Val_GITT_2C.ipynb Cell 15\u001b[0m in \u001b[0;36m<cell line: 1>\u001b[1;34m()\u001b[0m\n\u001b[1;32m----> <a href='vscode-notebook-cell:/d%3A/GitPyBaMM/LRH_409/LRH_409/envSolCon/PyBaMM-GEM/wip/Rio_Code/P3_R13_LJPTae/Paper/Val_GITT_2C.ipynb#X15sZmlsZQ%3D%3D?line=0'>1</a>\u001b[0m sol \u001b[39m=\u001b[39m DD_Dis_All[\u001b[39m1\u001b[39;49m]\n\u001b[0;32m      <a href='vscode-notebook-cell:/d%3A/GitPyBaMM/LRH_409/LRH_409/envSolCon/PyBaMM-GEM/wip/Rio_Code/P3_R13_LJPTae/Paper/Val_GITT_2C.ipynb#X15sZmlsZQ%3D%3D?line=1'>2</a>\u001b[0m t_seconds \u001b[39m=\u001b[39m sol[\u001b[39m\"\u001b[39m\u001b[39mTime [s]\u001b[39m\u001b[39m\"\u001b[39m]\u001b[39m.\u001b[39mentries\n\u001b[0;32m      <a href='vscode-notebook-cell:/d%3A/GitPyBaMM/LRH_409/LRH_409/envSolCon/PyBaMM-GEM/wip/Rio_Code/P3_R13_LJPTae/Paper/Val_GITT_2C.ipynb#X15sZmlsZQ%3D%3D?line=2'>3</a>\u001b[0m t_hours \u001b[39m=\u001b[39m (t_seconds \u001b[39m-\u001b[39m \u001b[39m60\u001b[39m) \u001b[39m/\u001b[39m \u001b[39m3600\u001b[39m\n",
      "\u001b[1;31mIndexError\u001b[0m: list index out of range"
     ]
    }
   ],
   "source": [
    "sol = DD_Dis_All[1]\n",
    "t_seconds = sol[\"Time [s]\"].entries\n",
    "t_hours = (t_seconds - 60) / 3600\n",
    "I = sol[\"Current [A]\"].entries\n",
    "Q = sol[\"Discharge capacity [A.h]\"].entries\n",
    "V = sol[\"Terminal voltage [V]\"].entries\n",
    "print(sol[\"Negative electrode porosity\"].entries[0,-1])\n",
    "print(sol[\"Negative electrode porosity\"].entries[0,0])\n",
    "# No zoom in:\n",
    "fig, ax = plt.subplots()\n",
    "ax.plot(t_exp-t_exp[0],V_exp,color='k',linewidth=2,  linestyle='-',label='Experiment')\n",
    "ax.plot(t_hours,V,color='r',linewidth=2,  linestyle='--',label='Simulation')\n",
    "ax.set_xlabel('Time [h]')\n",
    "ax.set_ylabel('Terminal voltage [V]')\n",
    "ax.set_title(f'25x1C pulses at 298K, comparison')\n",
    "ax.legend(loc='best',frameon=False)\n",
    "plt.xlim(2.1,2.42)\n",
    "plt.ylim(3.7,4.11)\n",
    "plt.show()"
   ]
  },
  {
   "cell_type": "code",
   "execution_count": null,
   "metadata": {},
   "outputs": [],
   "source": [
    "sol = DD_Dis_All[2]\n",
    "t_seconds = sol[\"Time [s]\"].entries\n",
    "t_hours = (t_seconds - 60) / 3600\n",
    "I = sol[\"Current [A]\"].entries\n",
    "Q = sol[\"Discharge capacity [A.h]\"].entries\n",
    "V = sol[\"Terminal voltage [V]\"].entries\n",
    "print(sol[\"Negative electrode porosity\"].entries[0,-1])\n",
    "print(sol[\"Negative electrode porosity\"].entries[0,0])\n",
    "# No zoom in:\n",
    "fig, ax = plt.subplots()\n",
    "ax.plot(t_exp-t_exp[0],V_exp,color='k',linewidth=2,  linestyle='-',label='Experiment')\n",
    "ax.plot(t_hours,V,color='r',linewidth=2,  linestyle='--',label='Simulation')\n",
    "ax.set_xlabel('Time [h]')\n",
    "ax.set_ylabel('Terminal voltage [V]')\n",
    "ax.set_title(f'25x1C pulses at 298K, comparison')\n",
    "ax.legend(loc='best',frameon=False)\n",
    "plt.xlim(2.1,2.42)\n",
    "plt.ylim(3.7,4.11)\n",
    "plt.show()"
   ]
  },
  {
   "cell_type": "code",
   "execution_count": null,
   "metadata": {},
   "outputs": [],
   "source": [
    "# No zoom in:\n",
    "fig, ax = plt.subplots()\n",
    "ax.plot(t_exp-t_exp[0],V_exp,color='k',linewidth=2,  linestyle='-',label='Experiment')\n",
    "ax.plot(t_hours,V,color='r',linewidth=2,  linestyle='--',label='Simulation')\n",
    "ax.set_xlabel('Time [h]')\n",
    "ax.set_ylabel('Terminal voltage [V]')\n",
    "ax.set_title(f'1st 1C pulses at 298K, comparison')\n",
    "ax.legend(loc='best',frameon=False)\n",
    "plt.xlim(-0.01,0.15)\n",
    "plt.ylim(3.8,4.21)\n",
    "plt.show()"
   ]
  },
  {
   "cell_type": "code",
   "execution_count": null,
   "metadata": {},
   "outputs": [],
   "source": [
    "fig, ax = plt.subplots()\n",
    "ax.plot(t_exp-t_exp[0],V_exp,color='k',linewidth=2,  linestyle='-',label='Experiment')\n",
    "ax.plot(t_hours,V,color='r',linewidth=2,  linestyle='--',label='Simulation')\n",
    "ax.set_xlabel('Time [h]')\n",
    "ax.set_ylabel('Terminal voltage [V]')\n",
    "ax.set_title('2nd 1C pulses at 298K, comparison')\n",
    "ax.legend(loc='best',frameon=False)\n",
    "plt.xlim(1.02,1.151)\n",
    "plt.ylim(3.8,4.21)\n",
    "plt.show()"
   ]
  },
  {
   "cell_type": "code",
   "execution_count": null,
   "metadata": {},
   "outputs": [],
   "source": [
    "# No zoom in:\n",
    "fig, ax = plt.subplots()\n",
    "ax.plot(t_exp-t_exp[0],V_exp,color='k',linewidth=2,  linestyle='-',label='Experiment')\n",
    "ax.plot(t_hours,V,color='r',linewidth=2,  linestyle='--',label='Simulation')\n",
    "ax.set_xlabel('Time [h]')\n",
    "ax.set_ylabel('Terminal voltage [V]')\n",
    "ax.set_title('3rd 1C pulses at 298K, comparison')\n",
    "ax.legend(loc='best',frameon=False)\n",
    "plt.xlim(2.10,2.291)\n",
    "plt.ylim(3.8,4.21)\n",
    "plt.show()"
   ]
  },
  {
   "cell_type": "code",
   "execution_count": null,
   "metadata": {},
   "outputs": [],
   "source": [
    "# No zoom in:\n",
    "fig, ax = plt.subplots()\n",
    "ax.plot(t_exp-t_exp[0],V_exp,color='k',linewidth=2,  linestyle='-',label='Experiment')\n",
    "ax.plot(t_hours,V,color='r',linewidth=2,  linestyle='--',label='Simulation')\n",
    "ax.set_xlabel('Time [h]')\n",
    "ax.set_ylabel('Terminal voltage [V]')\n",
    "ax.set_title('4th 1C pulses at 298K, comparison')\n",
    "ax.legend(loc='best',frameon=False)\n",
    "plt.xlim(3.10,3.591)\n",
    "plt.ylim(3.8,4.21)\n",
    "plt.show()"
   ]
  },
  {
   "cell_type": "markdown",
   "metadata": {},
   "source": [
    "label = [\"Double\",\"Single\"] \n",
    "var = [\n",
    "    \"Battery voltage [V]\",\n",
    "    \"X-averaged battery reaction overpotential [V]\",\n",
    "    \"X-averaged battery concentration overpotential [V]\",\n",
    "    \"X-averaged EC concentration overpotential [V]\", # Mark Ruihe add\n",
    "    \"X-averaged battery electrolyte ohmic losses [V]\",\n",
    "    \"X-averaged battery solid phase ohmic losses [V]\",\n",
    "]\n",
    "quick_plot = pybamm.QuickPlot(\n",
    "    [DD_Dis_All[0],SD_Dis_All[0],], var,label,variable_limits='fixed',\n",
    "    time_unit='hours',n_rows=2) #figsize = (18,12),\n",
    "quick_plot.dynamic_plot()"
   ]
  }
 ],
 "metadata": {
  "kernelspec": {
   "display_name": "envPBGEM",
   "language": "python",
   "name": "python3"
  },
  "language_info": {
   "codemirror_mode": {
    "name": "ipython",
    "version": 3
   },
   "file_extension": ".py",
   "mimetype": "text/x-python",
   "name": "python",
   "nbconvert_exporter": "python",
   "pygments_lexer": "ipython3",
   "version": "3.9.6"
  },
  "orig_nbformat": 4
 },
 "nbformat": 4,
 "nbformat_minor": 2
}
