{
 "cells": [
  {
   "attachments": {},
   "cell_type": "markdown",
   "metadata": {},
   "source": [
    "# this is to show how double transport affect j_SEI, produce Fig. 7"
   ]
  },
  {
   "cell_type": "code",
   "execution_count": 41,
   "metadata": {},
   "outputs": [
    {
     "name": "stdout",
     "output_type": "stream",
     "text": [
      "The autoreload extension is already loaded. To reload it, use:\n",
      "  %reload_ext autoreload\n"
     ]
    }
   ],
   "source": [
    "# magic lines that avoid re-start\n",
    "%load_ext autoreload\n",
    "%autoreload 2"
   ]
  },
  {
   "cell_type": "code",
   "execution_count": 42,
   "metadata": {},
   "outputs": [],
   "source": [
    "import pybamm;import pandas as pd   ;import numpy as np;import os;import matplotlib.pyplot as plt;import os;#import imageio\n",
    "from scipy.io import savemat,loadmat;from pybamm import constants,exp,sqrt;\n",
    "import matplotlib as mpl; \n",
    "fs=17; # or we can set import matplotlib.pyplot as plt then say 'mpl.rc...'\n",
    "import openpyxl\n",
    "import traceback\n",
    "import multiprocessing\n",
    "font = {'family' : 'Times New Roman','size'   : fs}\n",
    "mpl.rc('font', **font)"
   ]
  },
  {
   "cell_type": "code",
   "execution_count": 43,
   "metadata": {},
   "outputs": [],
   "source": [
    "import sys  \n",
    "str_path_0 = os.path.abspath(os.path.join(pybamm.__path__[0],'..'))\n",
    "str_path_1 = os.path.abspath(os.path.join(str_path_0,\"wip\\Rio_Code\\Fun_P3\"))\n",
    "sys.path.append(str_path_1) \n",
    "from Fun_P3 import *\n",
    "BasicPath = \"D:/OneDrive - Imperial College London/SimDataSave/P3R13/Paper/\"  #'D:/OneDrive - Imperial College London/SimDataSave/P3R13/'; \n",
    "Target  = 'OneCycAge_2C/' \n",
    "if not os.path.exists(BasicPath + Target):\n",
    "   os.mkdir(BasicPath + Target)"
   ]
  },
  {
   "cell_type": "code",
   "execution_count": 44,
   "metadata": {},
   "outputs": [
    {
     "name": "stdout",
     "output_type": "stream",
     "text": [
      "2 1\n"
     ]
    }
   ],
   "source": [
    "# define parameter of double and single \n",
    "Para_dict_Same = {\n",
    "   ################################# Same for single and double:\n",
    "   \"Mesh list\":[ [20,10,20,100,30], ],    # Simon uses 30\n",
    "   \"Para_Set\":[ \"Li2023_ECdrag\",],\n",
    "   # solvent diffusion parameters:\n",
    "   \"EC initial concentration in electrolyte [mol.m-3]\":[3500],\n",
    "   \"Typical EC concentration [mol.m-3]\":[3500,],\n",
    "\n",
    "   \"Negative electrode porosity\":[0.25],\n",
    "   \"SEI resistivity [Ohm.m]\":[2e5,],\n",
    "   \"Initial inner SEI thickness [m]\":[1.2362e-08,],\n",
    "   \"Initial outer SEI thickness [m]\":[1.2362e-08,],\n",
    "   \"Contact resistance [Ohm]\":[6e-3],\n",
    "   \"Cation transference number\":[\n",
    "    \"electrolyte_transference_number_EC_EMC_3_7_Landesfeind2019_Con\"],\n",
    "   \"Electrolyte conductivity [S.m-1]\":[\n",
    "    \"electrolyte_conductivity_EC_EMC_3_7_Landesfeind2019_Con\"],\n",
    "   \"Electrolyte diffusivity [m2.s-1]\":[\n",
    "    \"electrolyte_diffusivity_EC_EMC_3_7_Landesfeind2019_Con\"],\n",
    "   # SEI\n",
    "   \"Inner SEI lithium interstitial diffusivity [m2.s-1]\":[1e-17,],\n",
    "}\n",
    "\n",
    "Para_dict_DD_ONLY = {\n",
    "     \"Model option\":[{\n",
    "      \"SEI\":\"interstitial-diffusion limited\",            \n",
    "      \"SEI film resistance\":\"distributed\",          \n",
    "      \"SEI porosity change\":\"true\",   \n",
    "      \"solvent diffusion\": \"double spatial consume w refill\",\n",
    "      \"electrolyte conductivity\": \"sol full\"  ,\n",
    "     \"contact resistance\":\"true\",  \n",
    "      },],\n",
    "     ################################# Need to be different between single and double:\n",
    "     \"EC Lithium ion cross diffusivity [m2.s-1]\":[\n",
    "        \"Cross_diffusivity_1p5E_10\",\"Cross_diffusivity_1p5E_12\",], # \n",
    "     \"EC diffusivity in electrolyte [m2.s-1]\":[\n",
    "        \"EC_diffusivity_5E_10\"],\n",
    "     \"EC transference number\":[\n",
    "        \"EC_transference_number\",],\n",
    "     \"Measured dLJP_dcEC\": [\"dLJP_Two_Species_dco_Jung2023\",],\n",
    "     \"Measured dLJP_dce\": [\"dLJP_Two_Species_dce_Jung2023\",],\n",
    "}\n",
    "Para_dict_SD_ONLY = {\n",
    "     \"Model option\":[{\n",
    "      \"SEI\":\"interstitial-diffusion limited\",            \n",
    "      \"SEI film resistance\":\"distributed\",          \n",
    "      \"SEI porosity change\":\"true\",   \n",
    "      \"solvent diffusion\": \"single no consume wo refill\",\n",
    "      \"electrolyte conductivity\": \"full\"  ,\n",
    "      \"contact resistance\":\"true\",\n",
    "      },],\n",
    "     ################################# fake, must have only one option\n",
    "     \"EC Lithium ion cross diffusivity [m2.s-1]\":[\n",
    "        \"Cross_diffusivity_1p5E_10\"],\n",
    "     \"EC diffusivity in electrolyte [m2.s-1]\":[\n",
    "        \"EC_diffusivity_5E_10\"],\n",
    "     \"EC transference number\":[\n",
    "        \"EC_transference_number\",],\n",
    "     \"Measured dLJP_dce\":[\"dLJP_One_Specie_dce_Jung2023\",]\n",
    "}\n",
    "Para_dict_DD = {**Para_dict_Same,**Para_dict_DD_ONLY}\n",
    "Para_dict_SD = {**Para_dict_Same,**Para_dict_SD_ONLY}\n",
    "Para_DD = [];  Para_SD=[];\n",
    "recursive_scan(Para_DD,Para_dict_DD, list(Para_dict_DD.keys()), {})\n",
    "recursive_scan(Para_SD,Para_dict_SD, list(Para_dict_SD.keys()), {})\n",
    "print(len(Para_DD),len(Para_SD))"
   ]
  },
  {
   "cell_type": "code",
   "execution_count": 45,
   "metadata": {},
   "outputs": [],
   "source": [
    "book_name_xlsx = 'Test.xlsx';sheet_name_xlsx = 'Results';\n",
    "Path_Exp_Crate = \"D:/OneDrive - Imperial College London/SimDataSave/InputData/Ruihe_newLGM50_Crate/\"\n",
    "Path_pack = [BasicPath,Target,Path_Exp_Crate,book_name_xlsx,sheet_name_xlsx,];"
   ]
  },
  {
   "cell_type": "code",
   "execution_count": 46,
   "metadata": {},
   "outputs": [
    {
     "name": "stdout",
     "output_type": "stream",
     "text": [
      "Confirm: using interstitial-diffusion limited\n",
      "Confirm: using interstitial-diffusion limited\n",
      "Confirm: using interstitial-diffusion limited\n"
     ]
    }
   ],
   "source": [
    "# Three set of solution:\n",
    "def Run_OneCycleAge_Dict(index_i, Para_dd_i, Path_pack,):\n",
    "    count_i = int(index_i);\n",
    "    [BasicPath,Target,Path_Exp_Crate,\n",
    "        book_name_xlsx,sheet_name_xlsx,] = Path_pack\n",
    "    ##### Initialise Para_0 and model \n",
    "    CyclePack,para_used = Para_init_Dict(Para_dd_i)\n",
    "    [Mesh_list,model_options] = CyclePack\n",
    "    model = pybamm.lithium_ion.DFN(options=model_options)\n",
    "    str_model_options = str(model_options)\n",
    "    V_max = 4.2;        V_min = 2.5\n",
    "    Exp_1  = pybamm.Experiment(\n",
    "    [ (\n",
    "        f\"Hold at {V_max} V until C/20\",\n",
    "        f\"Discharge at 1 C until {V_min} V\", \n",
    "        f\"Charge at 2 C until {V_max} V (2 second period)\",  # (5 minute period)\n",
    "        f\"Hold at {V_max} V until C/20\"),] * 1 )  \n",
    "\n",
    "    c_e = model.variables[\"Electrolyte concentration [mol.m-3]\"]\n",
    "    c_EC= model.variables[\"EC concentration [mol.m-3]\"]\n",
    "    T = model.variables[\"Cell temperature [K]\"]\n",
    "    D_e = para_used[\"Electrolyte diffusivity [m2.s-1]\"]\n",
    "    D_EC= para_used[\"EC diffusivity in electrolyte [m2.s-1]\"]\n",
    "    sigma_e = para_used[\"Electrolyte conductivity [S.m-1]\"]\n",
    "    dLJP_dcEC = para_used[\"Measured dLJP_dcEC\"] # dLJP_Two_Species_dco_Jung2023(x,y,T): # # ~~~~# x: ce; y: co \n",
    "    dLJP_dce  = para_used[\"Measured dLJP_dce\"]\n",
    "    Xi = para_used[\"EC transference number\"]\n",
    "    model.variables[\"Electrolyte diffusivity [m2.s-1]\"] = D_e(c_e,c_EC, T)\n",
    "    model.variables[\"EC diffusivity in electrolyte [m2.s-1]\"] = D_EC(c_e,c_EC, T)\n",
    "    model.variables[\"Electrolyte conductivity [S.m-1]\"] = sigma_e(c_e,c_EC, T)\n",
    "    model.variables[\"EC transference number\"] = Xi(c_e,c_EC, T)\n",
    "    model.variables[\"c(EC) over c(Li+)\"] = c_EC / c_e\n",
    "    model.variables[\"dLJP_dcEC\"] =  dLJP_dcEC(c_e,c_EC, T)\n",
    "    model.variables[\"dLJP_dce\"] =  dLJP_dce(c_e,c_EC, T)\n",
    "    # molar mass in Taeho's paper: unit: g/mol\n",
    "    M_EMC = 104.105; M_EC = 88.062; M_e = 151.905;\n",
    "    c_EMC = 9778-0.5369*c_e-0.6411*c_EC\n",
    "    model.variables[\"c(EMC) [mol.m-3]\"] =  c_EMC\n",
    "    model.variables[\"EC:EMC wt%\"] =  (c_EC*M_EC) / (c_EMC*M_EMC) \n",
    "    t_0plus = para_used[\"Cation transference number\"]\n",
    "    model.variables[\"Cation transference number\"] = t_0plus(c_e,c_EC, T)\n",
    "    var_pts = {\n",
    "        \"x_n\": Mesh_list[0],  # negative electrode\n",
    "        \"x_s\": Mesh_list[1],  # separator \n",
    "        \"x_p\": Mesh_list[2],  # positive electrode\n",
    "        \"r_n\": Mesh_list[3],  # negative particle\n",
    "        \"r_p\": Mesh_list[4],  # positive particle\n",
    "    }\n",
    "    sim    = pybamm.Simulation(\n",
    "        model, experiment = Exp_1,\n",
    "        parameter_values = para_used,\n",
    "        solver = pybamm.CasadiSolver(return_solution_if_failed_early=True),\n",
    "        var_pts=var_pts,\n",
    "        )       \n",
    "    sol    = sim.solve()\n",
    "    return sol\n",
    " \n",
    "sol_DD_HDx = Run_OneCycleAge_Dict(0.0, Para_DD[0],Path_pack)\n",
    "sol_DD_LDx = Run_OneCycleAge_Dict(1.0, Para_DD[1],Path_pack)\n",
    "sol_SD     = Run_OneCycleAge_Dict(2.0, Para_SD[0],Path_pack)"
   ]
  },
  {
   "cell_type": "code",
   "execution_count": 50,
   "metadata": {},
   "outputs": [
    {
     "name": "stdout",
     "output_type": "stream",
     "text": [
      "[0.0, 2.0, 4.0, 5.999999999999545, 8.0, 10.0, 12.0, 14.0, 15.999999999999545, 18.0, 20.0, 22.0, 24.0, 25.999999999999545, 28.0, 30.0, 32.0, 34.0, 35.999999999999545, 38.0, 40.0, 42.0, 44.0, 45.999999999999545, 48.0, 50.0, 52.0, 54.0, 55.999999999999545, 58.0, 60.0, 62.0, 64.0, 65.99999999999955, 68.0, 70.0, 72.0, 74.0, 75.99999999999955, 78.0, 80.0, 82.0, 84.0, 85.99999999999955, 88.0, 90.0, 92.0, 94.0, 95.99999999999955, 98.0, 100.0, 102.0, 104.0, 105.99999999999955, 108.0, 110.0, 112.0, 114.0, 115.99999999999955, 118.0, 120.0, 122.0, 124.0, 125.99999999999955, 128.0, 130.0, 132.0, 134.0, 135.99999999999955, 138.0, 140.0, 142.0, 144.0, 146.00000000000045, 148.0, 150.0, 152.0, 154.0, 155.99999999999955, 158.0, 160.0, 162.0, 164.0, 166.00000000000045, 168.0, 170.0, 172.0, 174.0, 175.99999999999955, 178.0, 180.0, 182.0, 184.0, 186.00000000000045, 188.0, 190.0, 192.0, 194.0, 195.99999999999955, 197.99999999999955, 200.0, 202.0, 204.0, 206.00000000000045, 207.99999999999955, 210.0, 212.0, 214.0, 216.00000000000045, 217.99999999999955, 220.0, 222.0, 224.0, 226.00000000000045, 227.99999999999955, 230.0, 232.0, 234.0, 236.00000000000045, 237.99999999999955, 240.0, 242.0, 244.0, 246.00000000000045, 247.99999999999955, 250.0, 252.0, 254.0, 256.00000000000045, 257.99999999999955, 260.0, 262.0, 264.0, 266.00000000000045, 267.99999999999955, 270.0, 272.0, 274.0, 276.00000000000045, 277.99999999999955, 280.0, 282.0, 284.0, 286.00000000000045, 287.99999999999955, 290.0, 292.0, 294.0, 296.0, 297.99999999999955, 300.0, 302.0, 304.0, 306.0, 307.99999999999955, 310.0, 312.0, 314.0, 316.0, 317.99999999999955, 320.0, 322.0, 324.0, 326.0, 327.99999999999955, 330.0, 332.0, 334.0, 336.0, 337.99999999999955, 340.0, 342.0, 344.0, 346.0, 347.99999999999955, 350.0, 352.0, 354.0, 356.0, 357.99999999999955, 360.0, 362.0, 364.0, 366.0, 367.99999999999955, 370.0, 372.0, 374.0, 376.0, 377.99999999999955, 380.0, 382.0, 384.0, 386.0, 388.00000000000045, 390.0, 392.0, 394.0, 396.0, 397.99999999999955, 400.0, 402.0, 404.0, 406.0, 408.00000000000045, 410.0, 412.0, 414.0, 416.0, 417.99999999999955, 420.0, 422.0, 424.0, 426.0, 428.00000000000045, 430.0, 432.0, 434.0, 436.0, 437.99999999999955, 440.0, 442.0, 444.0, 446.0, 448.00000000000045, 450.0, 452.0, 454.0, 456.0, 457.99999999999955, 460.0, 462.0, 464.0, 466.0, 468.00000000000045, 470.0, 472.0, 474.0, 476.0, 477.99999999999955, 480.0, 482.0, 484.0, 486.0, 488.00000000000045, 490.0, 492.0, 494.0, 496.0, 497.99999999999955, 500.0, 502.0, 504.0, 506.0, 508.00000000000045, 509.99999999999955, 512.0, 514.0, 516.0, 517.9999999999995, 519.9999999999995, 522.0, 524.0, 526.0, 528.0000000000005, 529.9999999999995, 532.0, 534.0, 536.0, 537.9999999999995, 539.9999999999995, 542.0, 544.0, 546.0, 548.0000000000005, 549.9999999999995, 552.0, 554.0, 556.0, 557.9999999999995, 559.9999999999995, 562.0, 564.0, 566.0, 568.0000000000005, 569.9999999999995, 572.0, 574.0, 576.0, 578.0000000000005, 579.9999999999995, 582.0, 584.0, 586.0, 588.0000000000005, 589.9999999999995, 592.0, 594.0, 596.0, 598.0000000000005, 599.9999999999995, 602.0, 604.0, 606.0, 608.0, 609.9999999999995, 612.0, 614.0, 616.0, 618.0, 620.0, 622.0, 624.0, 626.0, 628.0, 630.0, 632.0, 634.0, 636.0, 638.0, 640.0, 642.0, 644.0, 646.0, 648.0, 650.0, 652.0, 654.0, 656.0, 658.0, 660.0, 662.0, 664.0, 666.0, 668.0, 670.0, 672.0, 674.0, 676.0, 678.0, 680.0, 682.0, 684.0, 686.0, 688.0, 690.0, 692.0, 694.0, 696.0, 698.0, 700.0, 702.0, 704.0, 706.0, 708.0, 710.0, 712.0, 714.0, 716.0, 718.0, 720.0, 722.0, 724.0, 726.0, 728.0, 730.0, 732.0, 734.0, 736.0, 738.0, 740.0, 742.0, 744.0, 746.0, 748.0, 750.0, 752.0, 754.0, 756.0, 758.0, 760.0, 762.0, 764.0, 766.0, 768.0, 770.0, 772.0, 774.0, 776.0, 778.0, 780.0, 782.0, 784.0, 786.0, 788.0, 790.0, 792.0, 794.0, 796.0, 798.0, 800.0, 802.0, 804.0, 806.0, 808.0, 810.0, 812.0, 813.5566910421257]\n",
      "[0.0, 2.0, 4.000000000000455, 5.999999999999545, 8.0, 10.0, 12.0, 14.000000000000455, 15.999999999999545, 18.0, 20.0, 22.0, 24.000000000000455, 25.999999999999545, 28.0, 30.0, 32.0, 34.000000000000455, 35.999999999999545, 38.0, 40.0, 42.0, 44.0, 45.999999999999545, 48.0, 50.0, 52.0, 54.0, 55.999999999999545, 58.0, 60.0, 62.0, 64.0, 65.99999999999955, 68.0, 70.0, 72.0, 74.0, 75.99999999999955, 78.0, 80.0, 82.0, 84.0, 85.99999999999955, 88.0, 90.0, 92.0, 94.0, 96.00000000000045, 98.0, 100.0, 102.0, 104.0, 105.99999999999955, 108.0, 110.0, 112.0, 114.0, 116.00000000000045, 118.0, 120.0, 122.0, 124.0, 125.99999999999955, 128.0, 130.0, 132.0, 134.0, 136.00000000000045, 138.0, 140.0, 142.0, 144.0, 146.00000000000045, 148.0, 150.0, 152.0, 154.0, 156.00000000000045, 158.0, 160.0, 162.0, 164.0, 166.00000000000045, 168.0, 170.0, 172.0, 174.0, 176.00000000000045, 178.0, 180.0, 182.0, 184.0, 186.00000000000045, 188.0, 190.0, 192.0, 194.0, 196.00000000000045, 198.0, 200.0, 202.0, 204.0, 206.00000000000045, 208.0, 210.0, 212.0, 214.0, 216.00000000000045, 218.0, 220.0, 222.0, 224.0, 226.00000000000045, 228.0, 230.0, 232.0, 234.0, 236.00000000000045, 238.0, 240.0, 242.0, 244.0, 246.00000000000045, 247.99999999999955, 250.0, 252.0, 254.0, 256.00000000000045, 257.99999999999955, 260.0, 262.0, 264.0, 266.00000000000045, 267.99999999999955, 270.0, 272.0, 274.0, 276.00000000000045, 277.99999999999955, 280.0, 282.0, 284.0, 286.00000000000045, 287.99999999999955, 290.0, 292.0, 294.0, 296.00000000000045, 297.99999999999955, 300.0, 302.0, 304.0, 306.00000000000045, 307.99999999999955, 310.0, 312.0, 314.0, 316.00000000000045, 318.00000000000045, 320.0, 322.0, 324.0, 326.00000000000045, 327.99999999999955, 330.0, 332.0, 334.0, 336.00000000000045, 338.00000000000045, 340.0, 342.0, 344.0, 346.0, 347.99999999999955, 350.0, 352.0, 354.0, 356.0, 358.00000000000045, 360.0, 362.0, 364.0, 366.0, 367.99999999999955, 370.0, 372.0, 374.0, 376.0, 378.00000000000045, 380.0, 382.0, 384.0, 386.0, 387.99999999999955, 390.0, 392.0, 394.0, 396.0, 398.00000000000045, 400.0, 402.0, 404.0, 406.0, 407.99999999999955, 410.0, 412.0, 414.0, 416.0, 418.00000000000045, 420.0, 422.0, 424.0, 426.0, 428.00000000000045, 430.0, 432.0, 434.0, 436.0, 438.00000000000045, 440.0, 442.0, 444.0, 446.0, 448.00000000000045, 450.0, 452.0, 454.0, 456.0, 458.00000000000045, 460.0, 462.0, 464.0, 466.0, 468.00000000000045, 470.0, 472.0, 474.0, 476.0, 478.00000000000045, 480.0, 482.0, 484.0, 486.0, 488.00000000000045, 490.0, 492.0, 494.0, 496.0, 498.00000000000045, 500.00000000000045, 502.0, 504.0, 506.0, 508.00000000000045, 510.0, 512.0, 514.0, 516.0, 518.0000000000005, 520.0000000000005, 522.0, 524.0, 526.0, 528.0000000000005, 530.0, 532.0, 534.0, 536.0, 538.0000000000005, 540.0000000000005, 542.0, 544.0, 546.0, 548.0000000000005, 550.0, 552.0, 554.0, 556.0, 558.0000000000005, 560.0000000000005, 562.0, 564.0, 566.0, 568.0000000000005, 569.9999999999995, 572.0, 574.0, 576.0, 578.0000000000005, 580.0000000000005, 582.0, 584.0, 586.0, 588.0000000000005, 589.9999999999995, 592.0, 594.0, 596.0, 598.0000000000005, 600.0000000000005, 602.0, 604.0, 606.0, 608.0, 610.0, 612.0, 614.0, 616.0, 618.0, 620.0, 622.0, 624.0, 626.0, 628.0, 630.0, 632.0, 634.0, 636.0, 638.0, 640.0, 642.0, 644.0, 646.0, 648.0, 650.0, 652.0, 654.0, 656.0, 658.0, 660.0, 662.0, 664.0, 666.0, 668.0, 670.0, 672.0, 674.0, 676.0, 678.0, 680.0, 682.0, 684.0, 686.0, 688.0, 690.0, 692.0, 694.0, 696.0, 698.0, 700.0, 702.0, 704.0, 706.0, 708.0, 710.0, 712.0, 714.0, 716.0, 718.0, 720.0, 722.0, 724.0, 726.0, 728.0, 730.0, 732.0, 734.0, 736.0, 738.0, 740.0, 742.0, 744.0, 746.0, 748.0, 750.0, 752.0, 754.0, 756.0, 758.0, 760.0, 762.0, 764.0, 766.0, 768.0, 770.0, 772.0, 774.0, 776.0, 778.0, 780.0, 782.0, 784.0, 786.0, 788.0, 790.0, 792.0, 794.0, 796.0, 798.0, 800.0, 802.0, 804.0, 806.0, 808.0, 810.0, 812.0, 814.0, 816.0, 816.863766053114]\n",
      "[0.0, 2.0000000000004547, 4.000000000000455, 6.0, 8.0, 10.0, 12.000000000000455, 14.000000000000455, 16.0, 18.0, 20.0, 22.000000000000455, 24.000000000000455, 26.0, 28.0, 30.0, 32.000000000000455, 34.000000000000455, 36.0, 38.0, 40.0, 42.000000000000455, 44.000000000000455, 46.0, 48.0, 50.0, 52.000000000000455, 54.000000000000455, 56.0, 58.0, 60.0, 62.0, 64.00000000000045, 66.0, 68.0, 70.0, 72.0, 74.00000000000045, 76.0, 78.0, 80.0, 82.0, 84.00000000000045, 86.0, 88.0, 90.0, 92.0, 94.00000000000045, 96.0, 98.0, 100.0, 102.0, 104.00000000000045, 106.0, 108.0, 110.0, 112.0, 114.00000000000045, 116.0, 118.0, 120.0, 122.0, 124.00000000000045, 126.0, 128.0, 130.0, 132.0, 134.00000000000045, 136.00000000000045, 138.0, 140.0, 142.0, 144.00000000000045, 146.0, 148.0, 150.0, 152.0, 154.00000000000045, 156.00000000000045, 158.0, 160.0, 162.0, 164.00000000000045, 166.0, 168.0, 170.0, 172.0, 174.00000000000045, 176.00000000000045, 178.0, 180.0, 182.0, 184.00000000000045, 186.0, 188.0, 190.0, 192.0, 194.00000000000045, 196.00000000000045, 198.0, 200.0, 202.0, 204.00000000000045, 206.0, 208.0, 210.0, 212.0, 214.00000000000045, 216.00000000000045, 218.0, 220.0, 222.0, 224.00000000000045, 226.00000000000045, 228.0, 230.0, 232.0, 234.00000000000045, 236.00000000000045, 238.0, 240.0, 242.0, 244.00000000000045, 246.00000000000045, 248.0, 250.0, 252.0, 254.00000000000045, 256.00000000000045, 258.0, 260.0, 262.0, 264.00000000000045, 266.00000000000045, 268.0, 270.0, 272.0, 274.00000000000045, 276.00000000000045, 278.0, 280.0, 282.0, 284.00000000000045, 286.00000000000045, 288.0, 290.0, 292.0, 294.00000000000045, 296.00000000000045, 298.0, 300.0, 302.0, 304.00000000000045, 306.00000000000045, 308.0, 310.0, 312.0, 314.00000000000045, 316.00000000000045, 318.0, 320.0, 322.0, 324.00000000000045, 326.00000000000045, 328.0, 330.0, 332.0, 334.00000000000045, 336.00000000000045, 338.0, 340.0, 342.0, 344.00000000000045, 346.00000000000045, 348.0, 350.0, 352.0, 354.00000000000045, 356.00000000000045, 358.0, 360.0, 362.0, 364.0, 366.00000000000045, 368.0, 370.0, 372.0, 374.0, 376.00000000000045, 378.00000000000045, 380.0, 382.0, 384.0, 386.00000000000045, 388.0, 390.0, 392.0, 394.0, 396.00000000000045, 398.00000000000045, 400.0, 402.0, 404.0, 406.00000000000045, 408.0, 410.0, 412.0, 414.0, 416.00000000000045, 418.00000000000045, 420.0, 422.0, 424.0, 426.00000000000045, 428.0, 430.0, 432.0, 434.0, 436.00000000000045, 438.00000000000045, 440.0, 442.0, 444.0, 446.00000000000045, 448.0, 450.0, 452.0, 454.0, 456.00000000000045, 458.00000000000045, 460.0, 462.0, 464.0, 466.00000000000045, 468.0, 470.0, 472.0, 474.0, 476.00000000000045, 478.00000000000045, 480.0, 482.0, 484.0, 486.00000000000045, 488.0, 490.0, 492.0, 494.0, 496.00000000000045, 498.00000000000045, 500.0, 502.0, 504.0, 506.00000000000045, 508.0, 510.0, 512.0, 514.0, 516.0000000000005, 518.0000000000005, 520.0, 522.0, 524.0, 526.0000000000005, 528.0, 530.0, 532.0, 534.0, 536.0000000000005, 538.0000000000005, 540.0, 542.0, 544.0, 546.0000000000005, 548.0, 550.0, 552.0, 554.0, 556.0000000000005, 558.0000000000005, 560.0, 562.0, 564.0, 566.0000000000005, 567.9999999999995, 570.0, 572.0, 574.0, 576.0000000000005, 578.0000000000005, 580.0, 582.0, 584.0, 586.0000000000005, 588.0000000000005, 590.0, 592.0, 594.0, 596.0000000000005, 598.0000000000005, 600.0, 602.0, 604.0, 606.0000000000005, 608.0000000000005, 609.9999999999995, 612.0000000000005, 614.0000000000005, 616.0000000000005, 618.0000000000005, 619.9999999999995, 621.9999999999995, 624.0000000000005, 626.0000000000005, 628.0000000000005, 629.9999999999995, 631.9999999999995, 634.0000000000005, 636.0000000000005, 638.0000000000005, 639.9999999999995, 641.9999999999995, 644.0000000000005, 646.0000000000005, 648.0000000000005, 649.9999999999995, 651.9999999999995, 654.0000000000005, 656.0000000000005, 658.0000000000005, 659.9999999999995, 661.9999999999995, 664.0000000000005, 666.0000000000005, 668.0000000000005, 669.9999999999995, 671.9999999999995, 674.0000000000005, 676.0000000000005, 678.0000000000005, 679.9999999999995, 681.9999999999995, 684.0000000000005, 686.0000000000005, 688.0000000000005, 689.9999999999995, 691.9999999999995, 694.0000000000005, 696.0000000000005, 698.0000000000005, 700.0000000000005, 701.9999999999995, 704.0000000000005, 706.0000000000005, 708.0000000000005, 709.9999999999995, 711.9999999999995, 714.0000000000005, 716.0000000000005, 718.0000000000005, 720.0000000000005, 721.9999999999995, 724.0000000000005, 726.0000000000005, 728.0000000000005, 729.9999999999995, 731.9999999999995, 734.0000000000005, 736.0000000000005, 738.0000000000005, 740.0000000000005, 741.9999999999995, 744.0000000000005, 746.0000000000005, 748.0000000000005, 749.9999999999995, 751.9999999999995, 754.0000000000005, 756.0000000000005, 758.0000000000005, 760.0000000000005, 761.9999999999995, 764.0000000000005, 766.0000000000005, 768.0000000000005, 769.9999999999995, 771.9999999999995, 774.0000000000005, 776.0000000000005, 778.0000000000005, 780.0000000000005, 781.9999999999995, 784.0000000000005, 786.0000000000005, 788.0000000000005, 789.9999999999995, 791.9999999999995, 794.0000000000005, 796.0000000000005, 798.0000000000005, 800.0000000000005, 801.9999999999995, 804.0000000000005, 806.0000000000005, 807.396572321883]\n",
      "[403, 403, 403] 806.0000000000005\n"
     ]
    },
    {
     "data": {
      "image/png": "[encoded data removed]",
      "text/plain": [
       "<Figure size 538.583x155.906 with 3 Axes>"
      ]
     },
     "metadata": {
      "needs_background": "light"
     },
     "output_type": "display_data"
    }
   ],
   "source": [
    "# plot only things happen during 3C CC charge\n",
    "fs = 12; font = {'family' : 'Times New Roman','size'   : fs}\n",
    "mpl.rc('font', **font)\n",
    "def FindClose(time_DD,t_select): # Input must be a list\n",
    "    for i in range(0,len(time_DD)):\n",
    "        if abs(time_DD[i] - t_select)<1e-3:\n",
    "            break\n",
    "    return i\n",
    "Colors = ['#1f77b4','#ff7f0e',  '#d62728', ];\n",
    "LS = ['-','--','-','--',];MS=['s','^','h']; ms = 8\n",
    "Sol_plt = [sol_SD,sol_DD_LDx,sol_DD_HDx,];\n",
    "Str = [\"Single\",r\"Double low D$_\\times$\",r\"Double high D$_\\times$\"]\n",
    "\n",
    "t_int_all = []; Index_t_select = []; \n",
    "\n",
    "for i in range(3):\n",
    "    sol = Sol_plt[i]; step_CC =  sol.cycles[0].steps[2]\n",
    "    t_int_all.append((\n",
    "        step_CC['Time [s]'].entries\n",
    "        - step_CC['Time [s]'].entries[0]).tolist())\n",
    "    print(t_int_all[-1])\n",
    "t_select = min(t_int_all[0][-2],t_int_all[1][-2],t_int_all[2][-2])\n",
    "for i in range(3):\n",
    "    Index_t_select.append(FindClose(t_int_all[i],t_select))\n",
    "print(Index_t_select,t_select)\n",
    "\n",
    "fig, axs = plt.subplots(1,3, figsize=(19/2.54,5.5/2.54),tight_layout=True)\n",
    "for i in range(3):\n",
    "    sol = Sol_plt[i]; step_CC =  sol.cycles[0].steps[2]\n",
    "    x =   step_CC[\"x [m]\"].entries[:,0]\n",
    "    x_n =   step_CC[\"x_n [m]\"].entries[:,0]\n",
    "    c_EC =   step_CC[\"EC concentration [mol.m-3]\"].entries[:,Index_t_select[i]]\n",
    "    j_SEI =   step_CC[\"Negative electrode SEI interfacial current density [A.m-2]\"].entries[:,Index_t_select[i]]\n",
    "    phi_s_phi_e =   step_CC[\"Negative electrode surface potential difference [V]\"].entries[:,Index_t_select[i]]\n",
    "\n",
    "    axs[0].plot(x*1e6, c_EC/1e3, color=Colors[i],linestyle=LS[i],) # label=r\"Single-High $D_\\times$\" \n",
    "    axs[1].plot(x_n*1e6, phi_s_phi_e*1e3, color=Colors[i],linestyle=LS[i]) \n",
    "    axs[2].plot(x_n*1e6, abs(j_SEI)*1e3, color=Colors[i],linestyle=LS[i]) \n",
    "Y_0p = np.arange(-100,200,50)\n",
    "axs[0].plot( 85.2 * np.ones_like(Y_0p),Y_0p,\"k-\",linewidth=0.5,)\n",
    "axs[0].plot((85.2+12 )* np.ones_like(Y_0p),Y_0p, \"k-\",linewidth=0.5,)\n",
    "\n",
    "\n",
    "axs[0].set_xlabel(r\"$\\mathit{x}$ [$\\mu$m]\",   )\n",
    "axs[1].set_xlabel(r\"$\\mathit{x}_\\mathrm{n}$ [$\\mu$m]\",   )\n",
    "axs[2].set_xlabel(r\"$\\mathit{x}_\\mathrm{n}$ [$\\mu$m]\",   )\n",
    "axs[0].set_ylabel(\"$\\mathit{c}$ (EC) [M]\")\n",
    "axs[1].set_ylabel(\"$\\phi$$_\\mathrm{s}$ - $\\phi$$_\\mathrm{e}$ [mV]\")\n",
    "axs[2].set_ylabel(\"$\\mathit{j}_\\mathrm{SEI}$ [mA/m$^{-2}$]\")\n",
    "axs[0].ticklabel_format( \n",
    "    axis='x', style='sci',\n",
    "    scilimits=[-1e3,1e3], useOffset=None, \n",
    "    useLocale=None, useMathText=None)\n",
    "\n",
    "axs[0].set_ylim([2.7,4.7])\n",
    "#axs[1].set_ylim([-90,130])\n",
    "#axs[2].set_ylim([-0.1,75])\n",
    "fig.subplots_adjust(wspace=0, hspace=0)\n",
    "# 85.2 ; 12; 75.6\n",
    "\n",
    "plt.savefig(BasicPath +  Target+ \n",
    "    f\"Fig_6_2C_c_EC_j_SEI.png\", dpi=1000)\n",
    "plt.savefig(BasicPath +  Target+ \n",
    "    f\"Fig_6_2C_c_EC_j_SEI.svg\")   "
   ]
  }
 ],
 "metadata": {
  "kernelspec": {
   "display_name": "envSolCon",
   "language": "python",
   "name": "python3"
  },
  "language_info": {
   "codemirror_mode": {
    "name": "ipython",
    "version": 3
   },
   "file_extension": ".py",
   "mimetype": "text/x-python",
   "name": "python",
   "nbconvert_exporter": "python",
   "pygments_lexer": "ipython3",
   "version": "3.9.6"
  },
  "orig_nbformat": 4,
  "vscode": {
   "interpreter": {
    "hash": "5ae0c684446e40f7574a1a9821257f2365ba43f34c15f5f2e3dcabca0bad9ab7"
   }
  }
 },
 "nbformat": 4,
 "nbformat_minor": 2
}
