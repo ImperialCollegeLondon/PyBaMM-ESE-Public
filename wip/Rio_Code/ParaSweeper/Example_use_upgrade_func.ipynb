{
 "cells": [
  {
   "cell_type": "markdown",
   "metadata": {},
   "source": [
    "## Example notebook to run ParaSweeper"
   ]
  },
  {
   "cell_type": "markdown",
   "metadata": {},
   "source": [
    "### <a id='toc1_1_1_'></a>[Functions to be achieved:](#toc0_)\n",
    "1. reduce ram used; \n",
    "2. reduce code simplicity by building new class; (class: Controller; Path; )\n",
    "3. save more frequently\n",
    "4. reduce test time"
   ]
  },
  {
   "cell_type": "code",
   "execution_count": null,
   "metadata": {},
   "outputs": [],
   "source": [
    "# magic lines that avoid re-start \n",
    "%load_ext autoreload\n",
    "%autoreload 2"
   ]
  },
  {
   "cell_type": "code",
   "execution_count": null,
   "metadata": {},
   "outputs": [],
   "source": [
    "# Load modules\n",
    "import pybamm as pb;import pandas as pd;import numpy as np;\n",
    "import os, json,openpyxl,traceback,multiprocessing,scipy.optimize,sys,gc\n",
    "import matplotlib.pyplot as plt;\n",
    "import pickle,imageio,timeit,random,time, signal\n",
    "from scipy.io import savemat,loadmat;\n",
    "from pybamm import constants,exp;import matplotlib as mpl"
   ]
  },
  {
   "cell_type": "code",
   "execution_count": null,
   "metadata": {},
   "outputs": [],
   "source": [
    "str_path_0 = os.path.abspath(os.path.join(pb.__path__[0],'..'))\n",
    "str_path_1 = os.path.abspath(\n",
    "    os.path.join(str_path_0,\"wip/Rio_Code/ParaSweeper\"))\n",
    "str_path_1"
   ]
  },
  {
   "cell_type": "code",
   "execution_count": null,
   "metadata": {},
   "outputs": [],
   "source": [
    "# reduce variables that require define outside\n",
    "On_HPC = False\n",
    "if On_HPC:\n",
    "    case_no = int(os.environ[\"PBS_ARRAY_INDEX\"])\n",
    "    Path_Input = \"InputData/\" \n",
    "    BasicPath_Save=os.getcwd() \n",
    "else:\n",
    "    str_path_0 = os.path.abspath(os.path.join(pb.__path__[0],'..'))\n",
    "    str_path_1 = os.path.abspath(\n",
    "        os.path.join(str_path_0,\"wip/Rio_Code/Fun_Upgrade\"))\n",
    "    sys.path.append(str_path_1) \n",
    "    \n",
    "    case_no = 6\n",
    "    Path_Input = os.path.expanduser(\n",
    "        \"~/EnvPBGEM_NC/SimSave/InputData/\") # for Linux\n",
    "    BasicPath_Save =  os.path.expanduser(\n",
    "        \"~/EnvPBGEM_NC/SimSave/P2_R9_Dim\")\n",
    "# import all functions \n",
    "from Fun_Upgrade import Run_One_Case\n",
    "from Fun_Upgrade import *\n",
    "from TaskResult import *\n",
    "from TaskConfig import *\n",
    "from Get_input import *"
   ]
  },
  {
   "cell_type": "code",
   "execution_count": null,
   "metadata": {},
   "outputs": [],
   "source": []
  },
  {
   "cell_type": "code",
   "execution_count": null,
   "metadata": {},
   "outputs": [],
   "source": [
    "# define class for all inputs and customized settings:\n",
    "# start to do configuration:\n",
    "path_config = PathConfig(\n",
    "    On_HPC=On_HPC, Path_Input=Path_Input,\n",
    "    BasicPath_Save=BasicPath_Save,\n",
    "    purpose_i=\"Full_Exp1235_NC\", case_no=case_no,\n",
    "    rows_per_file= 1,Scan_end_end= 12,\n",
    "    )\n",
    "global_config = GlobalConfig(\n",
    "    On_HPC=On_HPC, Runshort=True, \n",
    "    Plot_Exp=True, Timeout=True, Return_Sol=True, \n",
    "    Check_Short_Time=True, R_from_GITT=True,\n",
    "    fs=13, dpi=100, Re_No=0, Timelimit=int(3600*48),\n",
    "    Timeout_text = 'I timed out'   )\n",
    "\n",
    "exp_config = ExpConfig()\n",
    "para_config = ParameterConfig()\n",
    "model_config = ModelConfig()\n",
    "expData_config = ExperimentDataConfig(cap_0 = 4.86491)\n",
    "config = TaskConfig(\n",
    "    path_config=path_config, global_config=global_config, \n",
    "    exp_config=exp_config,para_config=para_config,\n",
    "    model_config=model_config,expData_config=expData_config)\n",
    "# Load input file\n",
    "\n",
    "# normal version\n",
    "# Para_dict_list = load_combinations_from_csv(config.path_config.Para_file) \n",
    "\n",
    "# ! For Dan to test:\n",
    "path_csv_special_for_test = str_path_1 + \"/Bundle_6.csv\"\n",
    "Para_dict_list = load_combinations_from_csv(path_csv_special_for_test) \n",
    "pool_no = len(Para_dict_list) # do parallel computing if needed"
   ]
  },
  {
   "cell_type": "code",
   "execution_count": null,
   "metadata": {},
   "outputs": [],
   "source": [
    "Para_dict_list[0]['Mesh list'] = '[5,5,5,60,20]'\n",
    "Para_dict_list[0]"
   ]
  },
  {
   "cell_type": "code",
   "execution_count": null,
   "metadata": {},
   "outputs": [],
   "source": [
    "\n",
    "# Assuming we only do the first one:\n",
    "config.get_para_dictionary(Para_dict_list[0])\n",
    "\n",
    "# config.para_config.Para_dict_i['Exp No.'] = 8\n",
    "\n",
    "config.get_expconfig()\n",
    "config.initialize_experiment_text()\n",
    "config.get_exp_data_config()"
   ]
  },
  {
   "cell_type": "code",
   "execution_count": null,
   "metadata": {},
   "outputs": [],
   "source": [
    "Para_dict_list[0]"
   ]
  },
  {
   "cell_type": "markdown",
   "metadata": {},
   "source": [
    "### Run the model"
   ]
  },
  {
   "cell_type": "code",
   "execution_count": null,
   "metadata": {},
   "outputs": [],
   "source": [
    "# Run the model, assuming only one case:\n",
    "if config.global_config.Re_No == 0:\n",
    "    task_result, config = Run_One_Case(config) \n",
    "elif config.global_config.Re_No > 0:\n",
    "    pass\n"
   ]
  }
 ],
 "metadata": {
  "kernelspec": {
   "display_name": "EnvPBGEM_NC",
   "language": "python",
   "name": "python3"
  },
  "language_info": {
   "codemirror_mode": {
    "name": "ipython",
    "version": 3
   },
   "file_extension": ".py",
   "mimetype": "text/x-python",
   "name": "python",
   "nbconvert_exporter": "python",
   "pygments_lexer": "ipython3",
   "version": "3.10.12"
  }
 },
 "nbformat": 4,
 "nbformat_minor": 2
}
