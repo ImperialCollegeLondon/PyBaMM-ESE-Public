{
 "cells": [
  {
   "cell_type": "markdown",
   "metadata": {},
   "source": [
    "# With De=3e-10,3e-12, and others with Andrew's value"
   ]
  },
  {
   "cell_type": "code",
   "execution_count": 1,
   "metadata": {},
   "outputs": [],
   "source": [
    "import pybamm\n",
    "import numpy as np\n",
    "import matplotlib.pyplot as plt\n",
    "import pandas as pd   ;import numpy as np;import os;import matplotlib.pyplot as plt;import os;\n",
    "from scipy.io import savemat,loadmat;from pybamm import constants,exp,tanh,sqrt;import matplotlib as mpl; fs=17; # or we can set import matplotlib.pyplot as plt then say 'mpl.rc...'\n",
    "for k in range(0,1):\n",
    "    mpl.rcParams[\"axes.labelsize\"] = fs\n",
    "    mpl.rcParams[\"axes.titlesize\"] = fs\n",
    "    mpl.rcParams[\"xtick.labelsize\"] =  fs\n",
    "    mpl.rcParams[\"ytick.labelsize\"] =  fs\n",
    "    mpl.rcParams[\"legend.fontsize\"] =  fs\n",
    "    mpl.rcParams['font.sans-serif'] = ['Times New Roman']\n",
    "    mpl.rcParams['font.serif'] = ['Times New Roman']\n",
    "    mpl.rcParams['axes.unicode_minus'] = False\n",
    "import traceback\n",
    "import imageio.v2 as imageio\n",
    "font = {'family' : 'Times New Roman',\n",
    "        #'weight' : 'bold',\n",
    "        'size'   : fs}\n",
    "mpl.rc('font', **font)"
   ]
  },
  {
   "cell_type": "code",
   "execution_count": 2,
   "metadata": {},
   "outputs": [],
   "source": [
    "V_max = 4.2;        V_min = 2.5;\n",
    "total_cycle = 500; save_at_cycles= 1\n",
    "Experiment_short   = pybamm.Experiment( [ (\n",
    "    f\"Discharge at 1 C until {V_min} V\", \n",
    "    f\"Charge at 1 C until {V_max} V\", \n",
    "    f\"Hold at {V_max} V until C/5\")    ] * 1 ) \n",
    "Experiment_s   = pybamm.Experiment( [ (\n",
    "    f\"Discharge at 1 C for 240 s\", )    ] * 1 )   "
   ]
  },
  {
   "cell_type": "code",
   "execution_count": 3,
   "metadata": {},
   "outputs": [],
   "source": [
    "BasicPath = 'D:/OneDrive - Imperial College London/SimDataSave/P3R5/'; \n",
    "Target  = 'a1_4_dd_De/'\n",
    "if not os.path.exists(BasicPath + Target):\n",
    "    os.mkdir(BasicPath + Target);"
   ]
  },
  {
   "cell_type": "code",
   "execution_count": 4,
   "metadata": {},
   "outputs": [
    {
     "name": "stdout",
     "output_type": "stream",
     "text": [
      "using EC wo refill for Li+\n"
     ]
    }
   ],
   "source": [
    "model = pybamm.lithium_ion.DFN(     \n",
    "    options={  \n",
    "        \"solvent diffusion\": \"EC wo refill\"     } )\n",
    "De_all = [3e-10,3e-11,3e-12]\n",
    "Dcross  = 3e-11\n",
    "Dec     = 5e-10"
   ]
  },
  {
   "cell_type": "markdown",
   "metadata": {},
   "source": [
    "Para_0.search('mole')"
   ]
  },
  {
   "cell_type": "code",
   "execution_count": 5,
   "metadata": {},
   "outputs": [],
   "source": [
    "\n",
    "ChemistryChen=pybamm.parameter_sets.Chen2020 \n",
    "ChemistryChen[\"electrolyte\"] = \"lipf6_Nyman2008Exp\";\n",
    "Para_0=pybamm.ParameterValues(chemistry=ChemistryChen);\n",
    "Para_0['EC transference number'] =     -1.4\n",
    "Para_0['Cation transference number'] =     0.28\n",
    "\n",
    "Para_0['EC Lithium ion cross diffusivity [m2.s-1]'] = Dcross\n",
    "Para_0['Typical EC Lithium ion cross diffusivity [m2.s-1]'] =  Dcross\n",
    "\n",
    "#print(Model_d.options[\"solvent diffusion\"])\n",
    "Para_0['Ratio of lithium moles to SEI moles'] =  1\n",
    "\n",
    "c_e = model.variables[\"Electrolyte concentration [mol.m-3]\"]\n",
    "T = model.variables[\"Cell temperature [K]\"]\n",
    "c_EC = model.variables[\"EC concentration [mol.m-3]\"]\n",
    "model.variables[\"c(EC) over c(Li+)\"] = c_EC / c_e\n",
    "model.variables[\"Electrolyte conductivity [S.m-1]\"] =(\n",
    "    Para_0['Electrolyte conductivity [S.m-1]'](c_e,c_EC, T))\n",
    "    #model.variables[\"Electrolyte diffusivity [m2.s-1]\"] =(\n",
    "    #    Para_0['Electrolyte diffusivity [m2.s-1]'](c_e,c_EC, T))"
   ]
  },
  {
   "cell_type": "markdown",
   "metadata": {},
   "source": [
    "Xi =  list(np.linspace(-1.8, -1.0, 10))\n",
    "print(type(Xi))"
   ]
  },
  {
   "cell_type": "code",
   "execution_count": 6,
   "metadata": {},
   "outputs": [
    {
     "name": "stdout",
     "output_type": "stream",
     "text": [
      "Succeed for De=  3e-10\n"
     ]
    },
    {
     "name": "stderr",
     "output_type": "stream",
     "text": [
      "CasADi -  WARNING(\"roots:g failed: Inf detected for output x, at (row 20, col 0).\") [.../casadi/core/oracle_function.cpp:265]\n",
      "The linesearch algorithm failed with too small a step.\n",
      "The linesearch algorithm failed with too small a step.\n",
      "The linesearch algorithm failed with too small a step.\n",
      "The linesearch algorithm failed with too small a step.\n",
      "The linesearch algorithm failed with too small a step.\n",
      "2022-10-18 13:34:25.880 - [ERROR] callbacks.on_experiment_error(226): Simulation error: Maximum number of decreased steps occurred at t=395.5816687181706. Try solving the model up to this time only or reducing dt_max (currently, dt_max=3.5458164923888056) and/or reducing the size of the time steps or period of the experiment.\n"
     ]
    },
    {
     "name": "stdout",
     "output_type": "stream",
     "text": [
      "Succeed for De=  3e-11\n"
     ]
    },
    {
     "name": "stderr",
     "output_type": "stream",
     "text": [
      "At t = 0.00186075 and h = 5.02671e-012, the corrector convergence failed repeatedly or with |h| = hmin.\n",
      "At t = 0.00210297 and h = 2.29732e-011, the corrector convergence failed repeatedly or with |h| = hmin.\n",
      "At t = 0.00204496 and h = 1.12687e-011, the corrector convergence failed repeatedly or with |h| = hmin.\n",
      "At t = 0.000657921 and h = 6.26875e-013, the corrector convergence failed repeatedly or with |h| = hmin.\n",
      "At t = 0.000615968 and h = 4.93857e-012, the corrector convergence failed repeatedly or with |h| = hmin.\n",
      "At t = 0.000223387 and h = 1.73909e-011, the corrector convergence failed repeatedly or with |h| = hmin.\n"
     ]
    },
    {
     "name": "stdout",
     "output_type": "stream",
     "text": [
      "Succeed for De=  3e-12\n"
     ]
    }
   ],
   "source": [
    "Sim = [];Sol=[]; \n",
    "for De in De_all:\n",
    "    Para_0['EC diffusivity in electrolyte [m2.s-1]'] =  Dec\n",
    "    Para_0['Electrolyte diffusivity [m2.s-1]'] = De\n",
    "    sim = pybamm.Simulation(\n",
    "        model, experiment = Experiment_short,\n",
    "        parameter_values = Para_0,\n",
    "        solver = pybamm.CasadiSolver(),)  \n",
    "    try:\n",
    "        sol = sim.solve(save_at_cycles=save_at_cycles,);\n",
    "    except:\n",
    "        print('Fail for De= ',De)\n",
    "    else:\n",
    "        Sol.append(sol)   \n",
    "        print('Succeed for De= ',De)"
   ]
  },
  {
   "cell_type": "markdown",
   "metadata": {},
   "source": [
    "print(Sol_ddiff[\"Electrolyte conductivity [S.m-1]\"].entries[:,51] )\n",
    "print(Sol_ddiff[\"Electrolyte diffusivity [m2.s-1]\"].entries[:,-1])"
   ]
  },
  {
   "cell_type": "code",
   "execution_count": 7,
   "metadata": {},
   "outputs": [],
   "source": [
    "font = {'family' : 'Times New Roman',\n",
    "        #'weight' : 'bold',\n",
    "        'size'   : 15}\n",
    "mpl.rc('font', **font)"
   ]
  },
  {
   "cell_type": "code",
   "execution_count": 12,
   "metadata": {},
   "outputs": [
    {
     "data": {
      "application/vnd.jupyter.widget-view+json": {
       "model_id": "91d9c4969fef40e396e8f340f8937307",
       "version_major": 2,
       "version_minor": 0
      },
      "text/plain": [
       "interactive(children=(FloatSlider(value=0.0, description='t', max=2.18554631819456, step=0.0218554631819456), …"
      ]
     },
     "metadata": {},
     "output_type": "display_data"
    }
   ],
   "source": [
    "label = [De for De in De_all]\n",
    "output_variables3 = [\n",
    "    \"Terminal voltage [V]\",   \n",
    "    \"Electrolyte potential [V]\",\n",
    "    \"Negative electrode potential [V]\",\n",
    "    \"Positive electrode potential [V]\",\n",
    "]\n",
    "quick_plot = pybamm.QuickPlot(\n",
    "    [sol for sol in Sol], \n",
    "    output_variables3,label,\n",
    "    variable_limits='fixed',time_unit='hours',n_rows=2,\n",
    "    figsize = (12,8)) #     spatial_unit='mm',\n",
    "quick_plot.dynamic_plot();"
   ]
  },
  {
   "cell_type": "code",
   "execution_count": 8,
   "metadata": {},
   "outputs": [
    {
     "data": {
      "application/vnd.jupyter.widget-view+json": {
       "model_id": "ebf6635465e9425295c369add72bb8f2",
       "version_major": 2,
       "version_minor": 0
      },
      "text/plain": [
       "interactive(children=(FloatSlider(value=0.0, description='t', max=2.18554631819456, step=0.0218554631819456), …"
      ]
     },
     "metadata": {},
     "output_type": "display_data"
    }
   ],
   "source": [
    "label = [De for De in De_all]\n",
    "output_variables3 = [\n",
    "    \"Terminal voltage [V]\",   \n",
    "    \"Discharge capacity [A.h]\",\n",
    "    \"EC concentration [mol.m-3]\",\n",
    "    \"Electrolyte concentration [mol.m-3]\",\n",
    "    \"Li+ flux [mol.m-2.s-1]\",\n",
    "    \"EC flux [mol.m-2.s-1]\",\n",
    "]\n",
    "quick_plot = pybamm.QuickPlot(\n",
    "    [sol for sol in Sol], \n",
    "    output_variables3,label,\n",
    "    variable_limits='fixed',time_unit='hours',n_rows=2,\n",
    "    figsize = (12,8)) #     spatial_unit='mm',\n",
    "quick_plot.dynamic_plot();\n",
    "#quick_plot.plot(0.5)\n",
    "#quick_plot.fig.savefig(BasicPath + Target+\"t_0+_three_cases.png\", dpi=600)\n",
    "#quick_plot.create_gif(\n",
    "    #number_of_images=10, duration=2,output_filename=BasicPath + Target+\"concentration and flux.gif\")"
   ]
  },
  {
   "cell_type": "code",
   "execution_count": 9,
   "metadata": {},
   "outputs": [
    {
     "data": {
      "application/vnd.jupyter.widget-view+json": {
       "model_id": "0253d39fd16740178d899c30b5354a77",
       "version_major": 2,
       "version_minor": 0
      },
      "text/plain": [
       "interactive(children=(FloatSlider(value=0.0, description='t', max=2.18554631819456, step=0.0218554631819456), …"
      ]
     },
     "metadata": {},
     "output_type": "display_data"
    }
   ],
   "source": [
    "label = [De for De in De_all]\n",
    "output_variables3 = [\n",
    "    #\"Terminal voltage [V]\",   \n",
    "    \"EC flux [mol.m-2.s-1]\",\n",
    "    \"EC flux by diffusion [mol.m-2.s-1]\",\n",
    "    \"EC flux by migration [mol.m-2.s-1]\",\n",
    "    \"EC flux by Li+ [mol.m-2.s-1]\",\n",
    "    \"Li+ flux [mol.m-2.s-1]\",\n",
    "    \"Li+ flux by diffusion [mol.m-2.s-1]\",\n",
    "    \"Li+ flux by migration [mol.m-2.s-1]\",\n",
    "    \"Li+ flux by solvent [mol.m-2.s-1]\",      \n",
    "]\n",
    "quick_plot = pybamm.QuickPlot(\n",
    "    [sol for sol in Sol], \n",
    "    output_variables3,label,\n",
    "    variable_limits='tight',time_unit='hours',n_rows=2,\n",
    "    figsize = (12,6)) #     spatial_unit='mm',\n",
    "quick_plot.dynamic_plot();\n",
    "#quick_plot.plot(0.5)\n",
    "#quick_plot.fig.savefig(BasicPath + Target+\"t_0+_three_cases.png\", dpi=600)\n",
    "##quick_plot.create_gif(\n",
    "#    #number_of_images=10, duration=2,output_filename=BasicPath + Target+\"flux contribution.gif\")"
   ]
  },
  {
   "cell_type": "code",
   "execution_count": 10,
   "metadata": {},
   "outputs": [
    {
     "data": {
      "application/vnd.jupyter.widget-view+json": {
       "model_id": "1b86f87a769b4405aaffae8fd600bdf3",
       "version_major": 2,
       "version_minor": 0
      },
      "text/plain": [
       "interactive(children=(FloatSlider(value=0.0, description='t', max=2.18554631819456, step=0.0218554631819456), …"
      ]
     },
     "metadata": {},
     "output_type": "display_data"
    }
   ],
   "source": [
    "label = [De for De in De_all]\n",
    "output_variables3 = [\n",
    "    \"Electrolyte concentration\",\n",
    "    \"Minus div Li+ flux\",\n",
    "    \"Li+ source term\",\n",
    "    \"Minus div Li+ flux by diffusion\",\n",
    "    \"Minus div Li+ flux by migration\",\n",
    "    \"Minus div Li+ flux by solvent\",\n",
    "    #\"Li+ source term refill\",\n",
    "]\n",
    "quick_plot = pybamm.QuickPlot(\n",
    "    [sol for sol in Sol], \n",
    "    output_variables3,label,\n",
    "    variable_limits='fixed',time_unit='hours',n_rows=2,\n",
    "    figsize = (12,9)) #     spatial_unit='mm',\n",
    "quick_plot.dynamic_plot();\n",
    "#quick_plot.create_gif(\n",
    "    #number_of_images=10, duration=2,output_filename=BasicPath + Target+\"Li+ rhs contribution.gif\")"
   ]
  },
  {
   "cell_type": "code",
   "execution_count": 11,
   "metadata": {},
   "outputs": [
    {
     "data": {
      "application/vnd.jupyter.widget-view+json": {
       "model_id": "5e878adc4d58466394e843cc4c1e046b",
       "version_major": 2,
       "version_minor": 0
      },
      "text/plain": [
       "interactive(children=(FloatSlider(value=0.0, description='t', max=2.18554631819456, step=0.0218554631819456), …"
      ]
     },
     "metadata": {},
     "output_type": "display_data"
    }
   ],
   "source": [
    "label = [De for De in De_all]\n",
    "output_variables3 = [\n",
    "    \"EC concentration\",\n",
    "    \"EC source term (SEI)\",\n",
    "    \"Minus div EC flux\",\n",
    "    \"Minus div EC flux by diffusion\",\n",
    "    \"Minus div EC flux by migration\",\n",
    "    \"Minus div EC flux by Li+\",\n",
    "    #\"Li+ source term refill\",\n",
    "]\n",
    "quick_plot = pybamm.QuickPlot(\n",
    "    [sol for sol in Sol], \n",
    "    output_variables3,label,\n",
    "    variable_limits='fixed',time_unit='hours',n_rows=2,\n",
    "    figsize = (12,9)) #     spatial_unit='mm',\n",
    "quick_plot.dynamic_plot();\n",
    "#quick_plot.create_gif(\n",
    "    #number_of_images=10, duration=2,output_filename=BasicPath + Target+\"EC rhs contribution.gif\")"
   ]
  }
 ],
 "metadata": {
  "kernelspec": {
   "display_name": "Python 3.9.6 ('envPBGEM')",
   "language": "python",
   "name": "python3"
  },
  "language_info": {
   "codemirror_mode": {
    "name": "ipython",
    "version": 3
   },
   "file_extension": ".py",
   "mimetype": "text/x-python",
   "name": "python",
   "nbconvert_exporter": "python",
   "pygments_lexer": "ipython3",
   "version": "3.9.6"
  },
  "orig_nbformat": 4,
  "vscode": {
   "interpreter": {
    "hash": "83fab7fbb3a8fe7b5910804f702478ef63e2cc6a08d85072a5d68865ed0fd8c7"
   }
  }
 },
 "nbformat": 4,
 "nbformat_minor": 2
}
