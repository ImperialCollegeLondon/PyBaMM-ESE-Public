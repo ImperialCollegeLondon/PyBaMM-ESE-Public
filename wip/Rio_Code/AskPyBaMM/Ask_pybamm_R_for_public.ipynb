{
 "cells": [
  {
   "cell_type": "markdown",
   "metadata": {},
   "source": [
    "# Run DFN and low Neg porosity of 0.1, use two type of electrolyte: Nyman2008 original (apolynomial form) and Nyman2008 exponential (my own extrapolation, based on the fact that at high c(Li+) will ). During discharge, the large c(Li+) will fail all polynomial forms of electrolyte property (diffusivity and conductivity and give wrong results). If we take the form of exponential, that can ensure low diffusivity and conductivity, but that seems to cause some numerical problems."
   ]
  },
  {
   "cell_type": "code",
   "execution_count": 29,
   "metadata": {},
   "outputs": [],
   "source": [
    "# import modules\n",
    "import pybamm\n",
    "import numpy as np;import matplotlib.pyplot as plt;\n",
    "from pybamm import constants,exp,tanh,sqrt;"
   ]
  },
  {
   "cell_type": "code",
   "execution_count": 30,
   "metadata": {},
   "outputs": [
    {
     "name": "stdout",
     "output_type": "stream",
     "text": [
      "5.822927088266968e-10\n",
      "0.03803688841420761\n"
     ]
    }
   ],
   "source": [
    "from pybamm import exp,sqrt\n",
    "def electrolyte_diffusivity_Nyman2008Exp(c_e, T):\n",
    "    D_c_e = (\n",
    "        6 * exp( -1 *(c_e/1000)) \n",
    "        * exp(-5/298.15) \n",
    "        * exp(-95/298.15*(c_e/1000)) * 1e-10 \n",
    "    )\n",
    "    return D_c_e\n",
    "\n",
    "def electrolyte_conductivity_Nyman2008Exp(c_e, T):\n",
    "    sigma_e = (\n",
    "        0.1 * 0.06248 * (1+298.15-0.05559) * \n",
    "        (c_e/1e3) * (1 - 3.084 *sqrt(c_e/1e3) \n",
    "        + 1.33 *(1+ 0.03633 *(exp(1000/298.15))*c_e/1e3)   ) \n",
    "        / (1+(c_e/1e3)**4*( 0.00795 *exp(1000/298.15))) \n",
    "    )\n",
    "    return sigma_e\n",
    "print(electrolyte_diffusivity_Nyman2008Exp(10,298.15))\n",
    "print(electrolyte_conductivity_Nyman2008Exp(10,298.15))\n"
   ]
  },
  {
   "cell_type": "code",
   "execution_count": 31,
   "metadata": {},
   "outputs": [],
   "source": [
    "# set-up and run model\n",
    "V_max = 4.2;        V_min = 2.5;\n",
    "total_cycle = 1; save_at_cycles= 1\n",
    "Experiment_Long   = pybamm.Experiment( [ (\n",
    "    f\"Discharge at 1 C until {V_min} V (1 minutes period)\" , )] * total_cycle ) \n",
    "Experiment_s   = pybamm.Experiment( [ (\n",
    "    f\"Discharge at 1 C for 20 minutes (10 seconds period)\" , )] * total_cycle ) \n",
    "\n",
    "Sim = [];Sol=[]; \n",
    "\n",
    "Para_0 = pybamm.ParameterValues(\"Chen2020\")\n",
    "\n",
    "Para_0['Negative electrode porosity'] =  0.1\n",
    "var = pybamm.standard_spatial_vars  \n",
    "mesh_thick = 30; mesh_par=30;\n",
    "var_pts = {\n",
    "    var.x_n: int(mesh_thick),  \n",
    "    var.x_s: int(20),  \n",
    "    var.x_p: int(mesh_thick),  \n",
    "    var.r_n: int(mesh_par),  \n",
    "    var.r_p: int(mesh_par),  }  \n"
   ]
  },
  {
   "cell_type": "code",
   "execution_count": 32,
   "metadata": {},
   "outputs": [],
   "source": [
    "pybamm.settings.tolerances['D_e__c_e'] = 10"
   ]
  },
  {
   "cell_type": "code",
   "execution_count": 33,
   "metadata": {},
   "outputs": [
    {
     "name": "stdout",
     "output_type": "stream",
     "text": [
      "<pybamm.solvers.solution.Solution object at 0x000002BAF9A8D0A0>\n",
      "Succeed for electrolyte: Poly\n"
     ]
    }
   ],
   "source": [
    "# Run the first model, with Nyman2008 polynimial form\n",
    "model = pybamm.lithium_ion.DFN()\n",
    "c_e = model.variables[\"Electrolyte concentration [mol.m-3]\"]\n",
    "T = model.variables[\"Cell temperature [K]\"]\n",
    "model.variables[\"Electrolyte conductivity [S.m-1]\"] =(\n",
    "    Para_0['Electrolyte conductivity [S.m-1]'](c_e, T))\n",
    "model.variables[\"Electrolyte diffusivity [m2.s-1]\"] =(\n",
    "    Para_0['Electrolyte diffusivity [m2.s-1]'](c_e, T))\n",
    "\n",
    "sim = pybamm.Simulation(\n",
    "    model, experiment = Experiment_Long,\n",
    "    parameter_values = Para_0,\n",
    "    solver = pybamm.CasadiSolver(),\n",
    "    var_pts=var_pts,)  \n",
    "try:\n",
    "    sol = sim.solve(save_at_cycles=save_at_cycles,);\n",
    "    print(sol.cycles[-1].steps[-1]);  # a way to check whether the solution is finalized \n",
    "except:\n",
    "    print('Fail for electrolyte: Poly')\n",
    "else:\n",
    "    Sol.append(sol)   \n",
    "    print('Succeed for electrolyte: Poly')\n"
   ]
  },
  {
   "cell_type": "code",
   "execution_count": 34,
   "metadata": {},
   "outputs": [
    {
     "name": "stdout",
     "output_type": "stream",
     "text": [
      "<pybamm.solvers.solution.Solution object at 0x000002BA812001F0>\n",
      "Succeed for electrolyte: Exp\n"
     ]
    }
   ],
   "source": [
    "# Run the first model, with Nyman2008 exponeitial form\n",
    "model_2 = pybamm.lithium_ion.DFN()\n",
    "Para_0.update({\n",
    "    'Electrolyte conductivity [S.m-1]': \n",
    "    electrolyte_conductivity_Nyman2008Exp})\n",
    "Para_0.update({\n",
    "    'Electrolyte diffusivity [m2.s-1]': \n",
    "    electrolyte_diffusivity_Nyman2008Exp})\n",
    "c_e = model_2.variables[\"Electrolyte concentration [mol.m-3]\"]\n",
    "T = model_2.variables[\"Cell temperature [K]\"]\n",
    "model_2.variables[\"Electrolyte conductivity [S.m-1]\"] =(\n",
    "    Para_0['Electrolyte conductivity [S.m-1]'](c_e, T))\n",
    "model_2.variables[\"Electrolyte diffusivity [m2.s-1]\"] =(\n",
    "    Para_0['Electrolyte diffusivity [m2.s-1]'](c_e, T))\n",
    "\n",
    "sim_2 = pybamm.Simulation(\n",
    "    model_2, experiment = Experiment_Long,\n",
    "    parameter_values = Para_0,\n",
    "    solver = pybamm.CasadiSolver(),\n",
    "    var_pts=var_pts,)  \n",
    "try:\n",
    "    sol_2 = sim_2.solve(save_at_cycles=save_at_cycles,);\n",
    "    print(sol_2.cycles[-1].steps[-1]);  # a way to check whether the solution is finalized \n",
    "except:\n",
    "    print('Fail for electrolyte: Exp')\n",
    "else:\n",
    "    Sol.append(sol_2)   \n",
    "    print('Succeed for electrolyte: Exp')\n"
   ]
  },
  {
   "cell_type": "code",
   "execution_count": 35,
   "metadata": {},
   "outputs": [
    {
     "data": {
      "image/png": "[encoded data removed]",
      "text/plain": [
       "<Figure size 432x288 with 1 Axes>"
      ]
     },
     "metadata": {
      "needs_background": "light"
     },
     "output_type": "display_data"
    },
    {
     "data": {
      "image/png": "[encoded data removed]",
      "text/plain": [
       "<Figure size 432x288 with 1 Axes>"
      ]
     },
     "metadata": {
      "needs_background": "light"
     },
     "output_type": "display_data"
    },
    {
     "data": {
      "text/plain": [
       "<AxesSubplot:>"
      ]
     },
     "execution_count": 35,
     "metadata": {},
     "output_type": "execute_result"
    }
   ],
   "source": [
    "# plot the exponential diffusivity and conductivity \n",
    "c_e_plot = pybamm.linspace(0, 1e4, 1000)\n",
    "signam_exp = pybamm.Array(Para_0.evaluate(electrolyte_conductivity_Nyman2008Exp(c_e_plot,298.15)))\n",
    "diff_exp   = pybamm.Array(Para_0.evaluate(electrolyte_diffusivity_Nyman2008Exp (c_e_plot,298.15)))\n",
    "\n",
    "pybamm.plot(c_e_plot, signam_exp)\n",
    "pybamm.plot(c_e_plot, diff_exp)"
   ]
  },
  {
   "cell_type": "code",
   "execution_count": 36,
   "metadata": {},
   "outputs": [
    {
     "name": "stdout",
     "output_type": "stream",
     "text": [
      "26\n"
     ]
    }
   ],
   "source": [
    "print(len(sol_2[\"Electrolyte conductivity [S.m-1]\"].entries[0,:] ))"
   ]
  },
  {
   "cell_type": "code",
   "execution_count": 40,
   "metadata": {},
   "outputs": [
    {
     "name": "stdout",
     "output_type": "stream",
     "text": [
      "[ 1.12954374e+04  1.13044155e+04  1.13225043e+04  1.13498424e+04\n",
      "  1.13866352e+04  1.14331615e+04  1.14897802e+04  1.15569381e+04\n",
      "  1.16351790e+04  1.17251568e+04  1.18276502e+04  1.19435826e+04\n",
      "  1.20740459e+04  1.22203314e+04  1.23839676e+04  1.25667702e+04\n",
      "  1.27709040e+04  1.29989650e+04  1.32540870e+04  1.35400840e+04\n",
      "  1.38616405e+04  1.42245735e+04  1.46361945e+04  1.51058209e+04\n",
      "  1.56455039e+04  1.62710594e+04  1.70033901e+04  1.78683314e+04\n",
      "  1.88399371e+04  1.89471863e+03  1.89087562e+03  1.88317151e+03\n",
      "  1.87173202e+03  1.85677775e+03  1.83862111e+03  1.81764404e+03\n",
      "  1.79425981e+03  1.76887460e+03  1.74186142e+03  1.71354788e+03\n",
      "  1.68421367e+03  1.65409316e+03  1.62338037e+03  1.59223458e+03\n",
      "  1.56078579e+03  1.52913972e+03  1.49738209e+03  1.46558236e+03\n",
      "  1.43379673e+03  1.40207073e+03  1.37044119e+03  1.33893796e+03\n",
      "  1.30758518e+03  1.27640236e+03  1.24540522e+03  1.21460634e+03\n",
      "  1.18401572e+03  1.15364120e+03  1.12348878e+03  1.09356294e+03\n",
      "  1.06386689e+03  1.03440271e+03  1.00517158e+03  9.76173878e+02\n",
      "  9.47409376e+02  9.18877319e+02  8.90576570e+02  8.62505730e+02\n",
      "  8.34663275e+02  8.07047700e+02  7.79657685e+02  7.52492287e+02\n",
      "  7.25551166e+02  6.98834845e+02  6.72345000e+02  6.46084769e+02\n",
      "  6.20059046e+02  5.94274706e+02  5.68740697e+02  5.43467919e+02\n",
      "  5.18468860e+02  4.93756988e+02  4.69345986e+02  4.45248953e+02\n",
      "  4.21477671e+02  3.98042053e+02  3.74949778e+02  3.52206116e+02\n",
      "  3.29813910e+02  3.07773655e+02  2.86083654e+02  2.64740196e+02\n",
      "  2.43737745e+02  2.23069114e+02  2.02725621e+02  1.82697210e+02\n",
      "  1.62972552e+02  1.43539132e+02  1.24383363e+02  1.05490836e+02\n",
      "  9.54106992e+01  9.41237249e+01  9.28380383e+01  9.15536381e+01\n",
      "  9.02705227e+01  8.89886910e+01  8.77081415e+01  8.64288729e+01\n",
      "  8.51508838e+01  8.38741728e+01  8.25987384e+01  8.13245794e+01\n",
      "  8.00516942e+01  7.87800814e+01  7.75097397e+01  7.62406674e+01\n",
      "  7.49728632e+01  7.37063257e+01  7.24410533e+01  7.11770445e+01\n",
      "  6.92254307e+01  6.66622580e+01  6.41777721e+01  6.17698530e+01\n",
      "  5.94364380e+01  5.71755203e+01  5.49851468e+01  5.28634171e+01\n",
      "  5.08084815e+01  4.88185397e+01  4.68918397e+01  4.50266761e+01\n",
      "  4.32213889e+01  4.14743626e+01  3.97840244e+01  3.81488437e+01\n",
      "  3.65673303e+01  3.50380335e+01  3.35595408e+01  3.21304771e+01\n",
      "  3.07495028e+01  2.94153133e+01  2.81266374e+01  2.68822361e+01\n",
      "  2.56809014e+01  2.45214552e+01  2.34027477e+01  2.23236562e+01\n",
      "  2.12830839e+01  2.02799587e+01  1.93132312e+01  1.83818740e+01\n",
      "  1.74848802e+01  1.66212616e+01  1.57900478e+01  1.49902842e+01\n",
      "  1.42210311e+01  1.34813620e+01  1.27703620e+01  1.20871264e+01\n",
      "  1.14307594e+01  1.08003723e+01  1.01950819e+01  9.61386143e+00\n",
      "  9.05567082e+00  8.51970806e+00  8.00531196e+00  7.51187570e+00\n",
      "  7.03883774e+00  6.58567454e+00  6.15189470e+00  5.73703400e+00\n",
      "  5.34065112e+00  4.96232385e+00  4.60164580e+00  4.25822348e+00\n",
      "  3.93167363e+00  3.62162082e+00  3.32769520e+00  3.04953055e+00\n",
      "  2.78676233e+00  2.53902602e+00  2.30595549e+00  2.08718152e+00\n",
      "  1.88233033e+00  1.69102232e+00  1.51287085e+00  1.34748111e+00\n",
      "  1.19444914e+00  1.05336095e+00  9.23791722e-01  8.05305204e-01\n",
      "  6.97453219e-01  5.99775372e-01  5.11798934e-01  4.33038958e-01\n",
      "  3.62998641e-01  3.01169961e-01  2.47034609e-01  2.00065260e-01\n",
      "  1.59727227e-01  1.25480498e-01  9.67821946e-02  7.30894843e-02\n",
      "  5.38629368e-02  3.85703535e-02  2.66910497e-02  1.77205654e-02\n",
      "  1.11757508e-02  6.60012232e-03  3.56930064e-03  1.69608748e-03\n",
      "  6.33879277e-04  7.29988003e-05 -3.20661179e-04 -6.50544444e-04\n",
      " -9.15581456e-04 -1.11500264e-03 -1.24825683e-03 -1.31498234e-03]\n",
      "[4.32138731e-02 4.31581882e-02 4.30463328e-02 4.28781315e-02\n",
      " 4.26533605e-02 4.23717269e-02 4.20328647e-02 4.16363326e-02\n",
      " 4.11816127e-02 4.06681085e-02 4.00951432e-02 3.94619569e-02\n",
      " 3.87677047e-02 3.80114531e-02 3.71921768e-02 3.63087548e-02\n",
      " 3.53599657e-02 3.43444828e-02 3.32608677e-02 3.21075643e-02\n",
      " 3.08828918e-02 2.95850388e-02 2.82120631e-02 2.67619065e-02\n",
      " 2.52324550e-02 2.36217381e-02 2.19286885e-02 2.01580919e-02\n",
      " 1.84181702e-02 6.34707000e-01 6.36353094e-01 6.39665407e-01\n",
      " 6.44613830e-01 6.51135838e-01 6.59133149e-01 6.68475769e-01\n",
      " 6.79013400e-01 6.90588417e-01 7.03045193e-01 7.16234760e-01\n",
      " 7.30016140e-01 7.44255929e-01 7.58827140e-01 7.73607885e-01\n",
      " 7.88480179e-01 8.03329000e-01 8.18041674e-01 8.32507588e-01\n",
      " 8.46618242e-01 8.60267600e-01 8.73352712e-01 8.85774545e-01\n",
      " 8.97438980e-01 9.08257884e-01 9.18150219e-01 9.27043078e-01\n",
      " 9.34872623e-01 9.41584834e-01 9.47136046e-01 9.51493221e-01\n",
      " 9.54633956e-01 9.56546212e-01 9.57227774e-01 9.56685483e-01\n",
      " 9.54934261e-01 9.51995974e-01 9.47898191e-01 9.42672881e-01\n",
      " 9.36355095e-01 9.28981688e-01 9.20590117e-01 9.11217340e-01\n",
      " 9.00898875e-01 8.89668008e-01 8.77555193e-01 8.64587637e-01\n",
      " 8.50789058e-01 8.36179595e-01 8.20775798e-01 8.04590640e-01\n",
      " 7.87633456e-01 7.69909759e-01 7.51420919e-01 7.32163735e-01\n",
      " 7.12129954e-01 6.91305776e-01 6.69671403e-01 6.47200591e-01\n",
      " 6.23860205e-01 5.99609715e-01 5.74400573e-01 5.48175402e-01\n",
      " 5.20866907e-01 4.92396393e-01 4.62671738e-01 4.31584612e-01\n",
      " 3.99006603e-01 3.64783763e-01 3.28728797e-01 2.90609547e-01\n",
      " 2.69104563e-01 2.66295808e-01 2.63475093e-01 2.60642301e-01\n",
      " 2.57797310e-01 2.54939996e-01 2.52070234e-01 2.49187893e-01\n",
      " 2.46292843e-01 2.43384947e-01 2.40464068e-01 2.37530064e-01\n",
      " 2.34582789e-01 2.31622097e-01 2.28647833e-01 2.25659843e-01\n",
      " 2.22657966e-01 2.19642039e-01 2.16611892e-01 2.13567354e-01\n",
      " 2.08831906e-01 2.02547233e-01 1.96382912e-01 1.90338495e-01\n",
      " 1.84413477e-01 1.78607299e-01 1.72919352e-01 1.67348975e-01\n",
      " 1.61895461e-01 1.56558059e-01 1.51335973e-01 1.46228366e-01\n",
      " 1.41234365e-01 1.36353058e-01 1.31583501e-01 1.26924714e-01\n",
      " 1.22375691e-01 1.17935394e-01 1.13602758e-01 1.09376693e-01\n",
      " 1.05256084e-01 1.01239793e-01 9.73266579e-02 9.35154948e-02\n",
      " 8.98050980e-02 8.61942397e-02 8.26816699e-02 7.92661166e-02\n",
      " 7.59462844e-02 7.27208541e-02 6.95884816e-02 6.65477960e-02\n",
      " 6.35973988e-02 6.07358611e-02 5.79617225e-02 5.52734876e-02\n",
      " 5.26696245e-02 5.01485612e-02 4.77086827e-02 4.53483281e-02\n",
      " 4.30657861e-02 4.08592922e-02 3.87270240e-02 3.66665710e-02\n",
      " 3.46753873e-02 3.27516945e-02 3.08941570e-02 2.91015827e-02\n",
      " 2.73728956e-02 2.57071144e-02 2.41033346e-02 2.25607138e-02\n",
      " 2.10784589e-02 1.96558137e-02 1.82920491e-02 1.69864535e-02\n",
      " 1.57383238e-02 1.45469575e-02 1.34116447e-02 1.23316612e-02\n",
      " 1.13062612e-02 1.03346713e-02 9.41608390e-03 8.54965108e-03\n",
      " 7.73447902e-03 6.96962233e-03 6.25407876e-03 5.58678421e-03\n",
      " 4.96660820e-03 4.39234958e-03 3.86273283e-03 3.37640473e-03\n",
      " 2.93193187e-03 2.52779879e-03 2.16240697e-03 1.83407490e-03\n",
      " 1.54103924e-03 1.28145734e-03 1.05341110e-03 8.54912523e-04\n",
      " 6.83911115e-04 5.38303122e-04 4.15942917e-04 3.14656549e-04\n",
      " 2.32257567e-04 1.66565140e-04 1.15424454e-04 7.67292279e-05\n",
      " 4.84461083e-05 2.86404358e-05 1.55025064e-05 7.37232800e-06\n",
      " 2.75710973e-06 3.17735428e-07            nan            nan\n",
      "            nan            nan            nan            nan]\n"
     ]
    }
   ],
   "source": [
    "print(Sol[1][\"Electrolyte concentration [mol.m-3]\"].entries[:,23] )\n",
    "print(Sol[1][\"Electrolyte conductivity [S.m-1]\"].entries[:,23] )"
   ]
  },
  {
   "cell_type": "code",
   "execution_count": 39,
   "metadata": {},
   "outputs": [
    {
     "data": {
      "application/vnd.jupyter.widget-view+json": {
       "model_id": "80985bb0ab6a4a40b48cc221282f1a08",
       "version_major": 2,
       "version_minor": 0
      },
      "text/plain": [
       "interactive(children=(FloatSlider(value=0.0, description='t', max=58.89045942714018, step=0.5889045942714017),…"
      ]
     },
     "metadata": {},
     "output_type": "display_data"
    }
   ],
   "source": [
    "label = ['Nyman - Poly', 'Nyman - Exp', ]\n",
    "output_variables3 = [\n",
    "    \"Terminal voltage [V]\",   \n",
    "    \"Electrolyte potential [V]\",\n",
    "    \"Electrolyte concentration [mol.m-3]\",\n",
    "    \"Electrolyte flux [mol.m-2.s-1]\",\n",
    "    \"Electrolyte diffusivity [m2.s-1]\",\n",
    "    \"Electrolyte conductivity [S.m-1]\"\n",
    "]\n",
    "quick_plot = pybamm.QuickPlot(\n",
    "    [sol for sol in Sol], \n",
    "    output_variables3,label,\n",
    "    variable_limits='tight',time_unit='minutes',n_rows=2,\n",
    "    figsize = (12,8)) #     spatial_unit='mm',\n",
    "quick_plot.dynamic_plot();\n"
   ]
  }
 ],
 "metadata": {
  "kernelspec": {
   "display_name": "Python 3.9.6 ('envPBGEM')",
   "language": "python",
   "name": "python3"
  },
  "language_info": {
   "codemirror_mode": {
    "name": "ipython",
    "version": 3
   },
   "file_extension": ".py",
   "mimetype": "text/x-python",
   "name": "python",
   "nbconvert_exporter": "python",
   "pygments_lexer": "ipython3",
   "version": "3.9.6"
  },
  "orig_nbformat": 4,
  "vscode": {
   "interpreter": {
    "hash": "83fab7fbb3a8fe7b5910804f702478ef63e2cc6a08d85072a5d68865ed0fd8c7"
   }
  }
 },
 "nbformat": 4,
 "nbformat_minor": 2
}
