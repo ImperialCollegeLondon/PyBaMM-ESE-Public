{
 "cells": [
  {
   "cell_type": "code",
   "execution_count": 20,
   "metadata": {},
   "outputs": [],
   "source": [
    "import pybamm as pb;import pandas as pd   ;import numpy as np;import os;import matplotlib.pyplot as plt;import os;#import imageio\n",
    "from scipy.io import savemat,loadmat;from pybamm import constants,exp;import matplotlib as mpl; fs=17; # or we can set import matplotlib.pyplot as plt then say 'mpl.rc...'\n",
    "for k in range(0,1):\n",
    "    mpl.rcParams[\"axes.labelsize\"] = fs\n",
    "    mpl.rcParams[\"axes.titlesize\"] = fs\n",
    "    mpl.rcParams[\"xtick.labelsize\"] =  fs\n",
    "    mpl.rcParams[\"ytick.labelsize\"] =  fs\n",
    "    mpl.rcParams[\"legend.fontsize\"] =  fs\n",
    "    mpl.rcParams['font.sans-serif'] = ['Times New Roman']\n",
    "    mpl.rcParams['font.serif'] = ['Times New Roman']\n",
    "    mpl.rcParams['axes.unicode_minus'] = False\n",
    "import openpyxl\n",
    "import traceback\n",
    "import multiprocessing"
   ]
  },
  {
   "cell_type": "code",
   "execution_count": 29,
   "metadata": {},
   "outputs": [],
   "source": [
    "import pybamm as pb;\n",
    "V_max = 4.2; V_min = 2.5; \n",
    "exp_RPT_text = [ ( \n",
    "    \"Discharge at 1C for 10 minutes\", ) ] \n",
    "Experiment_RPT = pb.Experiment( exp_RPT_text * 1 ) \n",
    "Model_0 = pb.lithium_ion.DFN() \n",
    "Chemistry=pb.parameter_sets.OKane2022 \n",
    "Para_0=pb.ParameterValues(chemistry=Chemistry) "
   ]
  },
  {
   "cell_type": "code",
   "execution_count": 30,
   "metadata": {},
   "outputs": [],
   "source": [
    "def neg_porosity(x_n):\n",
    "   return 0.25 * (1-x_n/Para_0[\"Negative electrode thickness [m]\"]) +0.05\n",
    "Para_0.update({'Negative electrode porosity': neg_porosity})"
   ]
  },
  {
   "cell_type": "code",
   "execution_count": 31,
   "metadata": {},
   "outputs": [
    {
     "name": "stdout",
     "output_type": "stream",
     "text": [
      "<function neg_porosity at 0x000002B478F38040>\n"
     ]
    }
   ],
   "source": [
    "print(Para_0['Negative electrode porosity']) \n",
    "Sim_0 = pb.Simulation( \n",
    "    Model_0, \n",
    "    experiment = Experiment_RPT, \n",
    "    parameter_values = Para_0, \n",
    "    solver = pb.CasadiSolver(),) \n",
    "Sol_0 = Sim_0.solve(calc_esoh=False)"
   ]
  },
  {
   "cell_type": "code",
   "execution_count": 32,
   "metadata": {},
   "outputs": [
    {
     "data": {
      "application/vnd.jupyter.widget-view+json": {
       "model_id": "3ac545ea2e1a44c19917fa9aaf637140",
       "version_major": 2,
       "version_minor": 0
      },
      "text/plain": [
       "interactive(children=(FloatSlider(value=0.0, description='t', max=0.16666666666666666, step=0.0016666666666666…"
      ]
     },
     "metadata": {},
     "output_type": "display_data"
    }
   ],
   "source": [
    "label = [\"0\",] \n",
    "output_variables3 = [\n",
    "    \"Porosity\",\n",
    "    \"Terminal voltage [V]\", \n",
    "    \"Electrolyte concentration [mol.m-3]\",\n",
    "    \"Electrolyte potential [V]\"\n",
    "]\n",
    "quick_plot = pb.QuickPlot(\n",
    "    [Sol_0,], output_variables3,label,variable_limits='fixed',\n",
    "    time_unit='hours',n_rows=2) #figsize = (18,12),\n",
    "quick_plot.dynamic_plot()"
   ]
  }
 ],
 "metadata": {
  "kernelspec": {
   "display_name": "Python 3.9.4 ('envPBGEM')",
   "language": "python",
   "name": "python3"
  },
  "language_info": {
   "codemirror_mode": {
    "name": "ipython",
    "version": 3
   },
   "file_extension": ".py",
   "mimetype": "text/x-python",
   "name": "python",
   "nbconvert_exporter": "python",
   "pygments_lexer": "ipython3",
   "version": "3.9.4"
  },
  "orig_nbformat": 4,
  "vscode": {
   "interpreter": {
    "hash": "538436ab772540209705689409ae69546dd51073c4c5e92d4121144f40993c02"
   }
  }
 },
 "nbformat": 4,
 "nbformat_minor": 2
}
