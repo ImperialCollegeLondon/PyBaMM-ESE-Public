{
 "cells": [
  {
   "cell_type": "markdown",
   "metadata": {},
   "source": [
    "# main function: run model but able to get the limit of the cell and how it finally die\n",
    "1. run model based on last solution\n",
    "2. try every run model only\n",
    "3. if fail at some point, started the 'conserved' mode, run cycle by cycle (inplace=true), try smarter\n",
    "4. upon limited, try until the final step; further, try upon the final seconds"
   ]
  },
  {
   "cell_type": "code",
   "execution_count": 1,
   "metadata": {},
   "outputs": [],
   "source": [
    "import pybamm as pb;import pandas as pd   ;import numpy as np;import os;import matplotlib.pyplot as plt;import os;#import imageio\n",
    "from scipy.io import savemat,loadmat;from pybamm import constants,exp;import matplotlib as mpl; fs=17; # or we can set import matplotlib.pyplot as plt then say 'mpl.rc...'\n",
    "for k in range(0,1):\n",
    "    mpl.rcParams[\"axes.labelsize\"] = fs\n",
    "    mpl.rcParams[\"axes.titlesize\"] = fs\n",
    "    mpl.rcParams[\"xtick.labelsize\"] =  fs\n",
    "    mpl.rcParams[\"ytick.labelsize\"] =  fs\n",
    "    mpl.rcParams[\"legend.fontsize\"] =  fs\n",
    "    mpl.rcParams['font.sans-serif'] = ['Times New Roman']\n",
    "    mpl.rcParams['font.serif'] = ['Times New Roman']\n",
    "    mpl.rcParams['axes.unicode_minus'] = False\n",
    "import openpyxl\n",
    "import traceback\n",
    "import multiprocessing"
   ]
  },
  {
   "cell_type": "code",
   "execution_count": 4,
   "metadata": {},
   "outputs": [],
   "source": [
    "V_max = 4.2; V_min = 2.5; \n",
    "total_cycle = 8; save_at_cycles= 3; loop_num = int(total_cycle/save_at_cycles);\n",
    "exp_text = [ (f\"Discharge at 1C until {V_min} V\",  \n",
    "        \"Rest for 1 hours (5 minute period)\",  \n",
    "        f\"Charge at 1C until {V_max} V (5 minute period)\" ) ]\n",
    "Experiment = pb.Experiment( exp_text * save_at_cycles ) \n",
    "\n",
    "Chemistry=pb.parameter_sets.OKane2022 \n",
    "Para_0=pb.ParameterValues(chemistry=Chemistry) \n",
    "Para_0.update({\"Upper voltage cut-off [V]\": 4.21})\n",
    "Para_0.update({\"Lower voltage cut-off [V]\": 2.49})\n",
    "Para_0.update({\"Inner SEI reaction proportion\": 0.5})\n",
    "Para_0.update({\"Ratio of lithium moles to SEI moles\": 1})\n",
    "Para_0.update({\"Initial inner SEI thickness [m]\": 2.5E-9})\n",
    "Para_0.update({\"Initial outer SEI thickness [m]\": 2.5E-9})\n",
    "Para_0.update({\"SEI growth activation energy [J.mol-1]\": 38000})\n",
    "Para_0.update(\n",
    "    {\"Outer SEI solvent diffusivity [m2.s-1]\": 1e-17})"
   ]
  },
  {
   "cell_type": "code",
   "execution_count": 5,
   "metadata": {},
   "outputs": [],
   "source": [
    "Model_0 = pb.lithium_ion.DFN(options={\n",
    "    \"SEI\":\"solvent-diffusion limited\",   \n",
    "    \"SEI film resistance\":\"distributed\",          \n",
    "    \"SEI porosity change\":\"true\",      } ) #\n",
    "Sim_0    = pb.Simulation(\n",
    "    Model_0,        experiment = Experiment,\n",
    "    parameter_values = Para_0,\n",
    "    solver = pb.CasadiSolver(),) #mode=\"safe\"\n",
    "Sol_0    = Sim_0.solve(save_at_cycles=save_at_cycles,)"
   ]
  },
  {
   "cell_type": "code",
   "execution_count": 6,
   "metadata": {},
   "outputs": [
    {
     "data": {
      "application/vnd.jupyter.widget-view+json": {
       "model_id": "82a54ad0225d4d0d97ced80f3a809961",
       "version_major": 2,
       "version_minor": 0
      },
      "text/plain": [
       "interactive(children=(FloatSlider(value=0.0, description='t', max=5.714888808360271, step=0.05714888808360272)…"
      ]
     },
     "metadata": {},
     "output_type": "display_data"
    }
   ],
   "source": [
    "label = [\"0\",] \n",
    "output_variables3 = [\n",
    "    \"Electrolyte potential [V]\",\n",
    "    \"Porosity\",\n",
    "    \"Positive electrode potential [V]\",\n",
    "    \"Negative electrode potential [V]\",\n",
    "    \"Positive current collector potential [V]\", \n",
    "    \"Terminal voltage [V]\", \n",
    "]\n",
    "quick_plot = pb.QuickPlot(\n",
    "    [Sol_0,], output_variables3,label,variable_limits='fixed',\n",
    "    time_unit='hours',\n",
    "    spatial_unit='mm',     #  (“m”, “mm”, or “um”)\n",
    "    n_rows=2) #figsize = (18,12),\n",
    "quick_plot.dynamic_plot()"
   ]
  },
  {
   "cell_type": "code",
   "execution_count": null,
   "metadata": {},
   "outputs": [],
   "source": [
    "exp_text = [ (f\"Discharge at 1C until {V_min} V\",  \n",
    "        \"Rest for 1 hours (5 minute period)\",  \n",
    "        f\"Charge at 1C until {V_max} V (5 minute period)\" ) ]\n",
    "Experiment = pb.Experiment( exp_text * save_at_cycles ) "
   ]
  },
  {
   "cell_type": "code",
   "execution_count": null,
   "metadata": {},
   "outputs": [],
   "source": [
    "# Run model based on last solution, and try again:\n",
    "k=0; old_sol = Sol_0; old_model = Model_0; sol_all =[];\n",
    "while k < loop_num-1:  \n",
    "    new_model = old_model.set_initial_conditions_from(old_sol, inplace=False)\n",
    "    new_sim    = pb.Simulation(\n",
    "        new_model,        experiment = Experiment,\n",
    "        parameter_values = Para_0,\n",
    "        solver = pb.CasadiSolver(),) #mode=\"safe\"\n",
    "    try:\n",
    "        new_sol= new_sim.solve(save_at_cycles=save_at_cycles,)\n",
    "        print(new_sol.cycles[-1].steps[-1][\"Ternimal voltage [V]\"].entries[-1])\n",
    "    except: # note that old_sol and old_model are both here now\n",
    "        # if fail, need to run another round of try, how to run conservatively?\n",
    "        print(f'Fail in the No.{k} loop, now try to run conservatively') # f\"Charge at 1C until {V_max} \n",
    "        # run the model agan but with one less cycle\n",
    "        conser_model = old_model.set_initial_conditions_from(old_sol, inplace=False)\n",
    "        conser_Exp = pb.Experiment( exp_text * save_at_cycles-1 ) \n",
    "        conser_sim    = pb.Simulation(\n",
    "            conser_model,        experiment = conser_Exp,\n",
    "            parameter_values = Para_0,\n",
    "            solver = pb.CasadiSolver(),) #mode=\"safe\"\n",
    "        conser_sol= conser_sim.solve()\n",
    "    else:     # if succeed, continue\n",
    "        del old_sol,old_model\n",
    "        old_sol = new_sol.copy(); old_model = new_model.copy();\n",
    "        sol_all.appeng(old_sol); \n",
    "        del new_sol,new_model\n",
    "    \n"
   ]
  },
  {
   "cell_type": "code",
   "execution_count": null,
   "metadata": {},
   "outputs": [],
   "source": []
  }
 ],
 "metadata": {
  "kernelspec": {
   "display_name": "Python 3.9.4 ('envPBGEM')",
   "language": "python",
   "name": "python3"
  },
  "language_info": {
   "codemirror_mode": {
    "name": "ipython",
    "version": 3
   },
   "file_extension": ".py",
   "mimetype": "text/x-python",
   "name": "python",
   "nbconvert_exporter": "python",
   "pygments_lexer": "ipython3",
   "version": "3.9.4"
  },
  "orig_nbformat": 4,
  "vscode": {
   "interpreter": {
    "hash": "538436ab772540209705689409ae69546dd51073c4c5e92d4121144f40993c02"
   }
  }
 },
 "nbformat": 4,
 "nbformat_minor": 2
}
