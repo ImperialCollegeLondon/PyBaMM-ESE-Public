{
 "cells": [
  {
   "cell_type": "code",
   "execution_count": 1,
   "metadata": {},
   "outputs": [],
   "source": [
    "import pybamm as pb;import pandas as pd   ;import numpy as np;import os;import matplotlib.pyplot as plt;import os;#import imageio\n",
    "from scipy.io import savemat,loadmat;from pybamm import constants,exp;import matplotlib as mpl; fs=17; # or we can set import matplotlib.pyplot as plt then say 'mpl.rc...'\n",
    "for k in range(0,1):\n",
    "    mpl.rcParams[\"axes.labelsize\"] = fs\n",
    "    mpl.rcParams[\"axes.titlesize\"] = fs\n",
    "    mpl.rcParams[\"xtick.labelsize\"] =  fs\n",
    "    mpl.rcParams[\"ytick.labelsize\"] =  fs\n",
    "    mpl.rcParams[\"legend.fontsize\"] =  fs\n",
    "    mpl.rcParams['font.sans-serif'] = ['Times New Roman']\n",
    "    mpl.rcParams['font.serif'] = ['Times New Roman']\n",
    "    mpl.rcParams['axes.unicode_minus'] = False\n",
    "import openpyxl\n",
    "import traceback\n",
    "import multiprocessing"
   ]
  },
  {
   "cell_type": "code",
   "execution_count": 2,
   "metadata": {},
   "outputs": [],
   "source": [
    "V_max = 4.2; V_min = 2.5; \n",
    "exp_RPT_text = [ (f\"Discharge at 1C until {V_min} V\",  \n",
    "        \"Rest for 1 hours (5 minute period)\",  \n",
    "        f\"Charge at 1C until {V_max} V (5 minute period)\" ) ]\n",
    "Experiment_RPT = pb.Experiment( exp_RPT_text * 1 ) \n",
    "\n",
    "Chemistry=pb.parameter_sets.OKane2022 \n",
    "\n",
    "Para_0=pb.ParameterValues(chemistry=Chemistry) "
   ]
  },
  {
   "cell_type": "code",
   "execution_count": 3,
   "metadata": {},
   "outputs": [],
   "source": [
    "def neg_porosity(x_n):\n",
    "   return 0.2 * (1-x_n/Para_0[\"Negative electrode thickness [m]\"]) +0.05\n",
    "Para_0.update({'Negative electrode porosity': neg_porosity})\n",
    "Para_0.update({'Lithium plating kinetic rate constant [m.s-1]': 1e-9})"
   ]
  },
  {
   "cell_type": "code",
   "execution_count": 5,
   "metadata": {},
   "outputs": [
    {
     "name": "stderr",
     "output_type": "stream",
     "text": [
      "The linesearch algorithm failed with too small a step.\n",
      "The linesearch algorithm failed with too small a step.\n"
     ]
    }
   ],
   "source": [
    "model_options = {\"lithium plating\":\"partially reversible\"}\n",
    "Model_0 = pb.lithium_ion.DFN(options={\n",
    "        \"lithium plating\": \"partially reversible\"\n",
    "} ) #\n",
    "Sim_0    = pb.Simulation(\n",
    "    Model_0,        experiment = Experiment_RPT,\n",
    "    parameter_values = Para_0,\n",
    "    solver = pb.CasadiSolver(),) #mode=\"safe\"\n",
    "Sol_0    = Sim_0.solve(calc_esoh=False)"
   ]
  },
  {
   "cell_type": "code",
   "execution_count": 17,
   "metadata": {},
   "outputs": [],
   "source": [
    "Para_0['Negative electrode porosity'] = \"[input]\"\n",
    "\n",
    "#inputs={\"Current function [A]\": 1.6}\n",
    "\n",
    "Sim_1   = pb.Simulation(\n",
    "    Model_0,        experiment = Experiment_RPT,\n",
    "    parameter_values = Para_0,\n",
    "    solver = pb.CasadiSolver(),) #mode=\"safe\"\n",
    "Sol_0p05    = Sim_1.solve(\n",
    "    inputs={'Negative electrode porosity':0.05})\n",
    "Sol_0p1    = Sim_1.solve(\n",
    "    inputs={'Negative electrode porosity':0.1})\n",
    "Sol_0p15    = Sim_1.solve(\n",
    "    inputs={'Negative electrode porosity':0.15})"
   ]
  },
  {
   "cell_type": "code",
   "execution_count": 21,
   "metadata": {},
   "outputs": [],
   "source": [
    "Sol_0p06    = Sim_1.solve(inputs={'Negative electrode porosity':0.06})\n",
    "Sol_0p07    = Sim_1.solve(inputs={'Negative electrode porosity':0.07})\n",
    "Sol_0p08    = Sim_1.solve(inputs={'Negative electrode porosity':0.08})\n",
    "Sol_0p09    = Sim_1.solve(inputs={'Negative electrode porosity':0.09})"
   ]
  },
  {
   "cell_type": "code",
   "execution_count": 10,
   "metadata": {},
   "outputs": [
    {
     "name": "stdout",
     "output_type": "stream",
     "text": [
      "Electrolyte potential\n",
      "Electrolyte potential [V]\n",
      "Gradient of electrolyte potential\n",
      "Gradient of negative electrode potential\n",
      "Gradient of negative electrolyte potential\n",
      "Gradient of positive electrode potential\n",
      "Gradient of positive electrolyte potential\n",
      "Gradient of separator electrolyte potential\n",
      "Negative current collector potential\n",
      "Negative current collector potential [V]\n",
      "Negative electrode lithium plating reaction overpotential\n",
      "Negative electrode lithium plating reaction overpotential [V]\n",
      "Negative electrode open circuit potential\n",
      "Negative electrode open circuit potential [V]\n",
      "Negative electrode potential\n",
      "Negative electrode potential [V]\n",
      "Negative electrode reaction overpotential\n",
      "Negative electrode reaction overpotential [V]\n",
      "Negative electrode surface potential difference\n",
      "Negative electrode surface potential difference [V]\n",
      "Negative electrolyte potential\n",
      "Negative electrolyte potential [V]\n",
      "Positive current collector potential\n",
      "Positive current collector potential [V]\n",
      "Positive electrode open circuit potential\n",
      "Positive electrode open circuit potential [V]\n",
      "Positive electrode potential\n",
      "Positive electrode potential [V]\n",
      "Positive electrode reaction overpotential\n",
      "Positive electrode reaction overpotential [V]\n",
      "Positive electrode surface potential difference\n",
      "Positive electrode surface potential difference [V]\n",
      "Positive electrolyte potential\n",
      "Positive electrolyte potential [V]\n",
      "SEI film overpotential\n",
      "SEI film overpotential [V]\n",
      "Separator electrolyte potential\n",
      "Separator electrolyte potential [V]\n",
      "X-averaged SEI film overpotential\n",
      "X-averaged SEI film overpotential [V]\n",
      "X-averaged battery concentration overpotential [V]\n",
      "X-averaged battery reaction overpotential [V]\n",
      "X-averaged concentration overpotential\n",
      "X-averaged concentration overpotential [V]\n",
      "X-averaged electrolyte overpotential\n",
      "X-averaged electrolyte overpotential [V]\n",
      "X-averaged electrolyte potential\n",
      "X-averaged electrolyte potential [V]\n",
      "X-averaged negative electrode lithium plating reaction overpotential\n",
      "X-averaged negative electrode lithium plating reaction overpotential [V]\n",
      "X-averaged negative electrode open circuit potential\n",
      "X-averaged negative electrode open circuit potential [V]\n",
      "X-averaged negative electrode potential\n",
      "X-averaged negative electrode potential [V]\n",
      "X-averaged negative electrode reaction overpotential\n",
      "X-averaged negative electrode reaction overpotential [V]\n",
      "X-averaged negative electrode surface potential difference\n",
      "X-averaged negative electrode surface potential difference [V]\n",
      "X-averaged negative electrolyte potential\n",
      "X-averaged negative electrolyte potential [V]\n",
      "X-averaged positive electrode open circuit potential\n",
      "X-averaged positive electrode open circuit potential [V]\n",
      "X-averaged positive electrode potential\n",
      "X-averaged positive electrode potential [V]\n",
      "X-averaged positive electrode reaction overpotential\n",
      "X-averaged positive electrode reaction overpotential [V]\n",
      "X-averaged positive electrode surface potential difference\n",
      "X-averaged positive electrode surface potential difference [V]\n",
      "X-averaged positive electrolyte potential\n",
      "X-averaged positive electrolyte potential [V]\n",
      "X-averaged reaction overpotential\n",
      "X-averaged reaction overpotential [V]\n",
      "X-averaged separator electrolyte potential\n",
      "X-averaged separator electrolyte potential [V]\n"
     ]
    }
   ],
   "source": [
    "Model_0.variables.search(\"potential\")"
   ]
  },
  {
   "cell_type": "code",
   "execution_count": 24,
   "metadata": {},
   "outputs": [
    {
     "data": {
      "application/vnd.jupyter.widget-view+json": {
       "model_id": "e50312b6bdd34e5b8c7d7a9e4097e009",
       "version_major": 2,
       "version_minor": 0
      },
      "text/plain": [
       "interactive(children=(FloatSlider(value=0.0, description='t', max=2.624852733304113, step=0.02624852733304113)…"
      ]
     },
     "metadata": {},
     "output_type": "display_data"
    }
   ],
   "source": [
    "label = [\"Linear\",\"0.05\",\"0.06\",\"0.07\",\"0.08\",\"0.09\",\"0.10\",\"0.15\"] \n",
    "output_variables3 = [\n",
    "    \"Porosity\",\n",
    "    \"Terminal voltage [V]\", \n",
    "    \"Negative electrode lithium plating reaction overpotential [V]\",\n",
    "    \"Loss of capacity to lithium plating [A.h]\",\n",
    "    \"Lithium plating interfacial current density [A.m-2]\",\n",
    "]\n",
    "quick_plot = pb.QuickPlot(\n",
    "    [Sol_0,Sol_0p05,Sol_0p06,Sol_0p07,Sol_0p08,Sol_0p09,Sol_0p1,Sol_0p15], output_variables3,label,variable_limits='fixed',\n",
    "    time_unit='hours',n_rows=2) #\n",
    "quick_plot.dynamic_plot()"
   ]
  },
  {
   "cell_type": "code",
   "execution_count": 27,
   "metadata": {},
   "outputs": [
    {
     "data": {
      "application/vnd.jupyter.widget-view+json": {
       "model_id": "d2195d4ae26947ce9e7c63c0e725ff68",
       "version_major": 2,
       "version_minor": 0
      },
      "text/plain": [
       "interactive(children=(FloatSlider(value=0.0, description='t', max=2.624852733304113, step=0.02624852733304113)…"
      ]
     },
     "metadata": {},
     "output_type": "display_data"
    }
   ],
   "source": [
    "label = [\"Linear\",\"0.05\",\"0.06\",\"0.07\",\"0.08\",\"0.09\",\"0.10\",\"0.15\"] \n",
    "output_variables3 = [\n",
    "    \"Porosity\",\n",
    "    \"Current [A]\",\n",
    "    \"Terminal voltage [V]\", \n",
    "    \"Positive electrode potential [V]\",\n",
    "    \"Negative electrode potential [V]\",\n",
    "    \"Electrolyte potential [V]\",\n",
    "    \"Negative electrode lithium plating reaction overpotential [V]\",\n",
    "    \"Loss of capacity to lithium plating [A.h]\",\n",
    "    \"Lithium plating interfacial current density [A.m-2]\",\n",
    "]\n",
    "quick_plot = pb.QuickPlot(\n",
    "    [Sol_0,Sol_0p05,Sol_0p06,Sol_0p07,Sol_0p08,Sol_0p09,Sol_0p1,Sol_0p15], output_variables3,label,variable_limits='fixed',\n",
    "    time_unit='hours',n_rows=3,figsize = (28,12),) #\n",
    "quick_plot.dynamic_plot()"
   ]
  },
  {
   "cell_type": "code",
   "execution_count": 30,
   "metadata": {},
   "outputs": [
    {
     "data": {
      "application/vnd.jupyter.widget-view+json": {
       "model_id": "b165ca954e69449eba9cae6611e5d7a9",
       "version_major": 2,
       "version_minor": 0
      },
      "text/plain": [
       "interactive(children=(FloatSlider(value=0.0, description='t', max=2.3893989739113106, step=0.02389398973911310…"
      ]
     },
     "metadata": {},
     "output_type": "display_data"
    }
   ],
   "source": [
    "label = [\"Linear\",\"0.05\"] \n",
    "output_variables3 = [\n",
    "    \"Porosity\",\n",
    "    \"Electrolyte concentration [mol.m-3]\",\n",
    "    \"Terminal voltage [V]\", \n",
    "    \"Positive electrode potential [V]\",\n",
    "    \"Negative electrode potential [V]\",\n",
    "    \"Electrolyte potential [V]\",\n",
    "    \"Negative electrode lithium plating reaction overpotential [V]\",\n",
    "\n",
    "]\n",
    "quick_plot = pb.QuickPlot(\n",
    "    [Sol_0,Sol_0p05,], output_variables3,label,variable_limits='fixed',\n",
    "    time_unit='hours',n_rows=3,) #figsize = (28,12),\n",
    "quick_plot.dynamic_plot()"
   ]
  },
  {
   "cell_type": "code",
   "execution_count": null,
   "metadata": {},
   "outputs": [],
   "source": []
  },
  {
   "cell_type": "code",
   "execution_count": null,
   "metadata": {},
   "outputs": [],
   "source": []
  },
  {
   "cell_type": "code",
   "execution_count": null,
   "metadata": {},
   "outputs": [],
   "source": []
  },
  {
   "cell_type": "code",
   "execution_count": null,
   "metadata": {},
   "outputs": [],
   "source": []
  },
  {
   "cell_type": "code",
   "execution_count": null,
   "metadata": {},
   "outputs": [],
   "source": []
  },
  {
   "cell_type": "code",
   "execution_count": null,
   "metadata": {},
   "outputs": [],
   "source": []
  },
  {
   "cell_type": "code",
   "execution_count": null,
   "metadata": {},
   "outputs": [],
   "source": []
  }
 ],
 "metadata": {
  "kernelspec": {
   "display_name": "envPBGEM",
   "language": "python",
   "name": "python3"
  },
  "language_info": {
   "codemirror_mode": {
    "name": "ipython",
    "version": 3
   },
   "file_extension": ".py",
   "mimetype": "text/x-python",
   "name": "python",
   "nbconvert_exporter": "python",
   "pygments_lexer": "ipython3",
   "version": "3.9.6 (tags/v3.9.6:db3ff76, Jun 28 2021, 15:26:21) [MSC v.1929 64 bit (AMD64)]"
  },
  "orig_nbformat": 4,
  "vscode": {
   "interpreter": {
    "hash": "83fab7fbb3a8fe7b5910804f702478ef63e2cc6a08d85072a5d68865ed0fd8c7"
   }
  }
 },
 "nbformat": 4,
 "nbformat_minor": 2
}
