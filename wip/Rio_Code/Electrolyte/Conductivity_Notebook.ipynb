{
 "cells": [
  {
   "cell_type": "markdown",
   "id": "5e28dd6d-b1eb-4b16-aeec-a553608480eb",
   "metadata": {},
   "source": [
    "# Deriving a function for EC:EMC:LiPF6 conductivity"
   ]
  },
  {
   "cell_type": "code",
   "execution_count": 1,
   "id": "9744e24f-96c3-4a0b-a32b-659cc34b0a72",
   "metadata": {},
   "outputs": [
    {
     "ename": "ModuleNotFoundError",
     "evalue": "No module named 'sklearn'",
     "output_type": "error",
     "traceback": [
      "\u001b[1;31m---------------------------------------------------------------------------\u001b[0m",
      "\u001b[1;31mModuleNotFoundError\u001b[0m                       Traceback (most recent call last)",
      "\u001b[1;32md:\\GitPyBaMM\\LRH_409\\LRH_409\\envSolCon\\PyBaMM-GEM\\wip\\Rio_Code\\Electrolyte\\Conductivity_Notebook.ipynb Cell 2\u001b[0m in \u001b[0;36m<cell line: 6>\u001b[1;34m()\u001b[0m\n\u001b[0;32m      <a href='vscode-notebook-cell:/d%3A/GitPyBaMM/LRH_409/LRH_409/envSolCon/PyBaMM-GEM/wip/Rio_Code/Electrolyte/Conductivity_Notebook.ipynb#W1sZmlsZQ%3D%3D?line=3'>4</a>\u001b[0m \u001b[39mimport\u001b[39;00m \u001b[39mpandas\u001b[39;00m \u001b[39mas\u001b[39;00m \u001b[39mpd\u001b[39;00m\n\u001b[0;32m      <a href='vscode-notebook-cell:/d%3A/GitPyBaMM/LRH_409/LRH_409/envSolCon/PyBaMM-GEM/wip/Rio_Code/Electrolyte/Conductivity_Notebook.ipynb#W1sZmlsZQ%3D%3D?line=4'>5</a>\u001b[0m \u001b[39mimport\u001b[39;00m \u001b[39mmatplotlib\u001b[39;00m\u001b[39m.\u001b[39;00m\u001b[39mpyplot\u001b[39;00m \u001b[39mas\u001b[39;00m \u001b[39mplt\u001b[39;00m\n\u001b[1;32m----> <a href='vscode-notebook-cell:/d%3A/GitPyBaMM/LRH_409/LRH_409/envSolCon/PyBaMM-GEM/wip/Rio_Code/Electrolyte/Conductivity_Notebook.ipynb#W1sZmlsZQ%3D%3D?line=5'>6</a>\u001b[0m \u001b[39mimport\u001b[39;00m \u001b[39msklearn\u001b[39;00m\u001b[39m.\u001b[39;00m\u001b[39mmetrics\u001b[39;00m \u001b[39mas\u001b[39;00m \u001b[39mskmetrics\u001b[39;00m\n\u001b[0;32m      <a href='vscode-notebook-cell:/d%3A/GitPyBaMM/LRH_409/LRH_409/envSolCon/PyBaMM-GEM/wip/Rio_Code/Electrolyte/Conductivity_Notebook.ipynb#W1sZmlsZQ%3D%3D?line=6'>7</a>\u001b[0m \u001b[39mfrom\u001b[39;00m \u001b[39mscipy\u001b[39;00m\u001b[39m.\u001b[39;00m\u001b[39moptimize\u001b[39;00m \u001b[39mimport\u001b[39;00m curve_fit\n\u001b[0;32m      <a href='vscode-notebook-cell:/d%3A/GitPyBaMM/LRH_409/LRH_409/envSolCon/PyBaMM-GEM/wip/Rio_Code/Electrolyte/Conductivity_Notebook.ipynb#W1sZmlsZQ%3D%3D?line=7'>8</a>\u001b[0m \u001b[39mprint\u001b[39m(\u001b[39m'\u001b[39m\u001b[39mPython version\u001b[39m\u001b[39m'\u001b[39m, sys\u001b[39m.\u001b[39mversion)\n",
      "\u001b[1;31mModuleNotFoundError\u001b[0m: No module named 'sklearn'"
     ]
    }
   ],
   "source": [
    "# import packages\n",
    "import os, sys, platform\n",
    "import numpy as np\n",
    "import pandas as pd\n",
    "import matplotlib.pyplot as plt\n",
    "import sklearn.metrics as skmetrics\n",
    "from scipy.optimize import curve_fit\n",
    "print('Python version', sys.version)\n",
    "print('Running on', platform.system())"
   ]
  },
  {
   "cell_type": "code",
   "execution_count": null,
   "id": "76d85eef-237b-449c-b1c3-63577bed1c04",
   "metadata": {},
   "outputs": [],
   "source": [
    "# Load data, where d [=] g/ml, k [=] mS/cm\n",
    "training_file = 'Ternary_Physicochemical_Training.csv'\n",
    "df = pd.read_csv(training_file)\n",
    "df = df[df.Temp==25] #Assuming isothermal model at 25C\n",
    "df = df.reset_index(drop=True)\n",
    "\n",
    "#Calculate molarity \n",
    "MLi = 151.905 #mol/g\n",
    "MEC = 88.06 #mol/g\n",
    "df['cLiPF6'] = df.xLiPF6*df.d*1000/MLi\n",
    "df['cEC'] = df.xEC*df.d*1000/MEC\n",
    "\n",
    "#Write dataframe to do symbolic regression on\n",
    "data_df = pd.DataFrame()\n",
    "data_df['cLi'] = df.cLiPF6*1000 #mol/L -> mol/m3\n",
    "data_df['cEC'] = df.cEC*1000 #mol/L -> mol/m3\n",
    "data_df['T'] = df['Temp']+273.15 #Kelvin\n",
    "data_df['K'] = df.k*100/1000 #mS/cm -> S/m\n",
    "\n",
    "li = data_df['cLi']\n",
    "ec = data_df['cEC']\n",
    "K = data_df['K']"
   ]
  },
  {
   "cell_type": "code",
   "execution_count": null,
   "id": "195b6da4-bd9b-44b7-ac97-4b98c8d70fbb",
   "metadata": {},
   "outputs": [],
   "source": [
    "# 2nd DEGREE POLYNOMIAL MODEL\n",
    "def func(X, b0,b1,b2,b3,b4,b5):\n",
    "    li,ec = X\n",
    "    return b0 + b1*li + b2*ec + b3*li*ec + b4*li*li + b5*ec*ec\n",
    "\n",
    "p0 = [0,0,0,0,0,0]\n",
    "popt, pcov = curve_fit(func, (li,ec), K, p0)\n",
    "\n",
    "y_real = K #actual density\n",
    "y_hat = func((li,ec), *popt) #predicted density\n",
    "\n",
    "mse = skmetrics.mean_squared_error(y_real, y_hat)\n",
    "r2 = skmetrics.r2_score(y_real, y_hat)\n",
    "mape = skmetrics.mean_absolute_percentage_error(y_real, y_hat)\n",
    "\n",
    "print('R2: ')\n",
    "print(r2)\n",
    "print('RMSE: ')\n",
    "print(np.sqrt(mse))\n",
    "\n",
    "plt.plot(li,y_real,'x')\n",
    "plt.plot(li,y_hat,'x')\n",
    "print('')\n",
    "print('PLOT 1: REGRESSION FITTING')\n",
    "print('==========================================')\n",
    "print('conductivity S/m vs LiPF6 conc mol/m3')\n",
    "plt.show()\n",
    "\n",
    "\n",
    "'''\n",
    "VISUALIZING TRENDS:\n",
    "==================================\n",
    "\n",
    "* EC molarity varies between 0 and 12 mol/L\n",
    "* LiPF6 molarity varies between 0 and 2.5 mol/L\n",
    "* This captures the peak conductivity around 6 mol/L EC\n",
    "* Also captures sharp drop off at higher EC content\n",
    "'''\n",
    "\n",
    "ec_list = np.linspace(0,10,6)*1000\n",
    "for i in ec_list:\n",
    "    li_test = np.linspace(0,2500)\n",
    "    ec_test = np.linspace(i,i)\n",
    "    K_test = func((li_test,ec_test), *popt) #predicted density\n",
    "    plt.plot(li_test,K_test,'-',label=str(i))\n",
    "plt.legend()\n",
    "print('')\n",
    "print('PLOT 2: COND VS LI CONC')\n",
    "print('==========================================')\n",
    "print('conductivity S/m vs LiPF6 conc mol/m3')\n",
    "plt.show()\n",
    "\n",
    "\n",
    "li_list = np.linspace(0,2,6)*1000\n",
    "for i in li_list:\n",
    "    li_test = np.linspace(i,i)\n",
    "    ec_test = np.linspace(0,12000)\n",
    "    K_test = func((li_test,ec_test), *popt) #predicted density\n",
    "    plt.plot(ec_test,K_test,'-',label=str(i))\n",
    "plt.legend()\n",
    "print('PLOT 3: COND VS EC CONC @ FIXED LI CONC 1 M')\n",
    "print('==========================================')\n",
    "print('conductivity S/m vs EC conc mol/m3')\n",
    "plt.show()"
   ]
  },
  {
   "cell_type": "code",
   "execution_count": null,
   "id": "c12de244-37c5-4e63-822f-ade886838439",
   "metadata": {},
   "outputs": [],
   "source": [
    "'''\n",
    "Here are the fitted coefficients\n",
    "'''\n",
    "print(popt)"
   ]
  },
  {
   "cell_type": "code",
   "execution_count": null,
   "id": "5b367d27-c5a0-478b-9cff-0bd7a69daccd",
   "metadata": {},
   "outputs": [],
   "source": [
    "'''\n",
    "Here is the overall equation with some possible tweaks\n",
    "\n",
    "li = molarity of LiPF6 in mol/m3\n",
    "ec = molarity of EC in mol/m3\n",
    "cond = conductivity in S/m\n",
    "all fitted at 25 degC\n",
    "'''\n",
    "\n",
    "def get_conductivity(li,ec):\n",
    "    \n",
    "    b0,b1,b2,b3,b4,b5 = np.array([-2.52354874e-01,  1.40212291e-03,  1.14201470e-04, -1.39864475e-08,\n",
    "       -5.37935692e-07, -8.13632416e-09])\n",
    "    \n",
    "    cond = b0 + b1*li + b2*ec + b3*li*ec + b4*li*li + b5*ec*ec\n",
    "    \n",
    "    if cond<0: #catch negative conductivities\n",
    "        cond = 0\n",
    "    if li==0: #catch no charge carriers\n",
    "        cond = 0\n",
    "    \n",
    "    return cond\n",
    "    \n"
   ]
  },
  {
   "cell_type": "code",
   "execution_count": null,
   "id": "a5e1e620-7a06-4e39-98b5-ef31838d1e3f",
   "metadata": {},
   "outputs": [],
   "source": [
    "for i in ec_list:\n",
    "    li_test = np.linspace(0,2500)\n",
    "    ec_test = i\n",
    "    K_test = [get_conductivity(i_li,ec_test) for i_li in li_test] #predicted density\n",
    "    plt.plot(li_test,K_test,'-',label=str(i))\n",
    "plt.legend()\n",
    "print('')\n",
    "print('PLOT 4: COND VS LI CONC')\n",
    "print('==========================================')\n",
    "print('conductivity S/m vs LiPF6 conc mol/m3')\n",
    "plt.show()"
   ]
  },
  {
   "cell_type": "code",
   "execution_count": null,
   "id": "61fb0681-0c80-480c-a37a-c523c8c077c3",
   "metadata": {},
   "outputs": [],
   "source": []
  }
 ],
 "metadata": {
  "kernelspec": {
   "display_name": "envSolCon",
   "language": "python",
   "name": "python3"
  },
  "language_info": {
   "codemirror_mode": {
    "name": "ipython",
    "version": 3
   },
   "file_extension": ".py",
   "mimetype": "text/x-python",
   "name": "python",
   "nbconvert_exporter": "python",
   "pygments_lexer": "ipython3",
   "version": "3.9.6"
  },
  "vscode": {
   "interpreter": {
    "hash": "5ae0c684446e40f7574a1a9821257f2365ba43f34c15f5f2e3dcabca0bad9ab7"
   }
  }
 },
 "nbformat": 4,
 "nbformat_minor": 5
}
