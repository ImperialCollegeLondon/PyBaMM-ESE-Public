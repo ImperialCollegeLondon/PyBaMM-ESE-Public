{
 "cells": [
  {
   "cell_type": "code",
   "execution_count": 1,
   "metadata": {},
   "outputs": [],
   "source": [
    "import pybamm as pb;\n",
    "import matplotlib.pyplot as plt\n",
    "import numpy as np\n"
   ]
  },
  {
   "cell_type": "code",
   "execution_count": 2,
   "metadata": {},
   "outputs": [],
   "source": [
    "\n",
    "model = pb.lithium_ion.DFN()\n",
    "V_max= 4.2; V_min = 2.5;\n",
    "param = pb.ParameterValues(\"Chen2020\")\n",
    "exp_RPT_1C_text = [ ( \n",
    "    f\"Charge at 1C until {V_max} V\",  \n",
    "    f\"Hold at {V_max}V until C/100\",\n",
    "    \"Rest for 1 hours (5 minute period)\",  \n",
    "    f\"Discharge at 1C until {V_min} V (5 minute period)\",  \n",
    "    \"Rest for 1 hours (5 minute period)\",  \n",
    "    f\"Charge at 1C until {V_max} V (5 minute period)\",\n",
    "    ) ] # *1\n",
    "exp_RPT_0p1C_text = [ ( \n",
    "    f\"Charge at 1C until {V_max} V\",  \n",
    "    f\"Hold at {V_max}V until C/100\",\n",
    "    \"Rest for 1 hours (5 minute period)\",  \n",
    "    f\"Discharge at 0.1C until {V_min} V (5 minute period)\",  \n",
    "    \"Rest for 1 hours (5 minute period)\",  \n",
    "    f\"Charge at 0.1C until {V_max} V (5 minute period)\",\n",
    "    ) ] # *1\n",
    "exp_RPT_refill_text = [ (\n",
    "    f\"Charge at 0.3C until {V_max} V\",  \n",
    "    f\"Hold at {V_max}V until C/100\",\n",
    "    \"Rest for 1 hours (5 minute period)\",  \n",
    "    ) ] # * 1\n",
    "exp_RPT_GITT_text = [ (\n",
    "    \"Rest for 60 seconds (0.1 second period)\",  \n",
    "    f\"Discharge at C/2 for 4.8 minutes or until {V_min}V (0.1 second period)\",\n",
    "    \"Rest for 1 hour (5 minute period)\",  \n",
    "    ) ] # * 24\n",
    "exp_preAge_text = [ (    \n",
    "    f\"Discharge at 1C until {V_min}V\", \n",
    "    \"Rest for 3 hours (15 minute period)\",\n",
    "    ) ] # * 1\n",
    "var = pb.standard_spatial_vars  \n",
    "var_pts = {\n",
    "    var.x_n: 5,  \n",
    "    var.x_s: 5,  \n",
    "    var.x_p: 5,  \n",
    "    var.r_n: 30,  \n",
    "    var.r_p: 20,  \n",
    "    }\n",
    "\n",
    "exp_0p1C_GITT    = pb.Experiment( \n",
    "    exp_RPT_0p1C_text*1 \n",
    "    + exp_RPT_refill_text*1\n",
    "    + exp_RPT_GITT_text*24 \n",
    "    #+ exp_preAge_text     \n",
    "    ) \n",
    "exp_0p1C_ONLY    = pb.Experiment( \n",
    "    exp_RPT_0p1C_text*1 \n",
    "    + exp_RPT_refill_text*1\n",
    "    + exp_RPT_GITT_text*24 \n",
    "    #+ exp_preAge_text     \n",
    "    ) \n",
    "exp_1C_GITT    = pb.Experiment( \n",
    "    exp_RPT_1C_text*1 \n",
    "    + exp_RPT_refill_text*1\n",
    "    + exp_RPT_GITT_text*24 \n",
    "    #+ exp_preAge_text     \n",
    "    ) \n",
    "Exps = [exp_0p1C_ONLY,exp_0p1C_GITT,exp_1C_GITT]\n",
    "Sols = []\n",
    "for exp in Exps:     \n",
    "    sim = pb.Simulation(\n",
    "        model,\n",
    "        experiment=exp,\n",
    "        parameter_values=param,\n",
    "        solver=pb.CasadiSolver(),\n",
    "        var_pts = var_pts,)\n",
    "    Sols.append(sim.solve())"
   ]
  },
  {
   "cell_type": "code",
   "execution_count": 3,
   "metadata": {},
   "outputs": [
    {
     "name": "stdout",
     "output_type": "stream",
     "text": [
      "Solution time vector must be strictly increasing\n",
      "Fail to read Discharge capacity in exp_0p1C_ONLY for the 0st time\n",
      "Succeed in reading Discharge capacity in exp_0p1C_ONLY for the 1st time\n",
      "17.776528364078718\n"
     ]
    }
   ],
   "source": [
    "# try 0p1C_ONLY\n",
    "i_try = 0\n",
    "while i_try<3:\n",
    "    try:\n",
    "        getSth = Sols[0][\"Discharge capacity [A.h]\"].entries[-1]\n",
    "    except Exception as e:\n",
    "        print(e)\n",
    "        print(f\"Fail to read Discharge capacity in exp_0p1C_ONLY for the {i_try}st time\")\n",
    "        i_try += 1\n",
    "    else:\n",
    "        print(f\"Succeed in reading Discharge capacity in exp_0p1C_ONLY for the {i_try}st time\")\n",
    "        break\n",
    "print(getSth)"
   ]
  },
  {
   "cell_type": "code",
   "execution_count": 4,
   "metadata": {},
   "outputs": [
    {
     "name": "stdout",
     "output_type": "stream",
     "text": [
      "Solution time vector must be strictly increasing\n",
      "Fail to read Discharge capacity in exp_0p1C_GITT for the 0st time\n",
      "Succeed in reading Discharge capacity in exp_0p1C_GITT for the 1st time\n",
      "17.776528172456622\n"
     ]
    }
   ],
   "source": [
    "# try exp_0p1C_GITT\n",
    "i_try = 0\n",
    "while i_try<3:\n",
    "    try:\n",
    "        getSth = Sols[1][\"Discharge capacity [A.h]\"].entries[-1]\n",
    "    except Exception as e:\n",
    "        print(e)\n",
    "        print(f\"Fail to read Discharge capacity in exp_0p1C_GITT for the {i_try}st time\")\n",
    "        i_try += 1\n",
    "    else:\n",
    "        print(f\"Succeed in reading Discharge capacity in exp_0p1C_GITT for the {i_try}st time\")\n",
    "        break\n",
    "print(getSth)"
   ]
  },
  {
   "cell_type": "code",
   "execution_count": 5,
   "metadata": {},
   "outputs": [
    {
     "name": "stdout",
     "output_type": "stream",
     "text": [
      "Succeed in reading Discharge capacity in exp_1C_GITT for the 0st time\n",
      "7.435502931530116\n"
     ]
    }
   ],
   "source": [
    "# try exp_1C_GITT\n",
    "i_try = 0\n",
    "while i_try<3:\n",
    "    try:\n",
    "        getSth = Sols[2][\"Discharge capacity [A.h]\"].entries[-1]\n",
    "    except Exception as e:\n",
    "        print(e)\n",
    "        print(f\"Fail to read Discharge capacity in exp_1C_GITT for the {i_try}st time\")\n",
    "        i_try += 1\n",
    "    else:\n",
    "        print(f\"Succeed in reading Discharge capacity in exp_1C_GITT for the {i_try}st time\")\n",
    "        break\n",
    "print(getSth)"
   ]
  },
  {
   "cell_type": "code",
   "execution_count": 6,
   "metadata": {},
   "outputs": [
    {
     "name": "stdout",
     "output_type": "stream",
     "text": [
      "0.0\n",
      "0.30413194444443137\n",
      "7.435502931530116\n"
     ]
    }
   ],
   "source": [
    "print(Sols[2].cycles[-1].steps[-1][\"Discharge capacity [A.h]\"].entries[-1])\n",
    "print(Sols[2].cycles[-1][\"Discharge capacity [A.h]\"].entries[-1])\n",
    "print(Sols[2][\"Discharge capacity [A.h]\"].entries[-1])"
   ]
  }
 ],
 "metadata": {
  "kernelspec": {
   "display_name": "envPBGEM",
   "language": "python",
   "name": "python3"
  },
  "language_info": {
   "codemirror_mode": {
    "name": "ipython",
    "version": 3
   },
   "file_extension": ".py",
   "mimetype": "text/x-python",
   "name": "python",
   "nbconvert_exporter": "python",
   "pygments_lexer": "ipython3",
   "version": "3.9.6"
  },
  "orig_nbformat": 4
 },
 "nbformat": 4,
 "nbformat_minor": 2
}
