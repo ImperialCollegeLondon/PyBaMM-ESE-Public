{
 "cells": [
  {
   "cell_type": "code",
   "execution_count": 19,
   "metadata": {},
   "outputs": [],
   "source": [
    "import pybamm;import pandas as pd   ;import numpy as np;import os;import matplotlib.pyplot as plt;import os;#import imageio\n",
    "from scipy.io import savemat,loadmat;from pybamm import constants,exp;\n",
    "import matplotlib as mpl; from textwrap import wrap\n",
    "fs=17; # or we can set import matplotlib.pyplot as plt then say 'mpl.rc...'\n",
    "import openpyxl\n",
    "import traceback\n",
    "import multiprocessing\n",
    "font = {'family' : 'DejaVu Sans','size'   : fs}\n",
    "mpl.rc('font', **font)"
   ]
  },
  {
   "cell_type": "code",
   "execution_count": 38,
   "metadata": {},
   "outputs": [],
   "source": [
    "import random\n",
    "def may_cause_error():\n",
    "\tif (random.random() > 0.8):\n",
    "\t\treturn 1 / 0\n",
    "\telse:\n",
    "\t\treturn 0\n",
    "# 思路：设置若干秒后发出信号量，收到信号量以后抛出异常，在异常捕获语句中保存数据\n",
    "import time, signal\n",
    "\n",
    "'''\n",
    "定义“超时异常”，这个异常被抛出，就表示运行超时/卡住了\n",
    "'''\n",
    "class TimeoutError(Exception):\n",
    "\tpass\n",
    "'''\n",
    "接收到信号，就抛出超时异常\n",
    "'''\t\n",
    "def handle_signal(signal_num, frame):\n",
    "\traise TimeoutError"
   ]
  },
  {
   "cell_type": "code",
   "execution_count": 42,
   "metadata": {},
   "outputs": [
    {
     "data": {
      "text/plain": [
       "0"
      ]
     },
     "execution_count": 42,
     "metadata": {},
     "output_type": "execute_result"
    }
   ],
   "source": [
    "signal.SIGA"
   ]
  },
  {
   "cell_type": "code",
   "execution_count": 50,
   "metadata": {},
   "outputs": [
    {
     "ename": "AttributeError",
     "evalue": "module 'signal' has no attribute 'SIGALRM'",
     "output_type": "error",
     "traceback": [
      "\u001b[1;31m---------------------------------------------------------------------------\u001b[0m",
      "\u001b[1;31mAttributeError\u001b[0m                            Traceback (most recent call last)",
      "\u001b[1;32md:\\GitPyBaMM\\LRH_409\\LRH_409\\envSolCon\\PyBaMM-GEM\\wip\\Rio_Code\\Study\\Learn.ipynb Cell 4\u001b[0m in \u001b[0;36m<cell line: 1>\u001b[1;34m()\u001b[0m\n\u001b[0;32m      <a href='vscode-notebook-cell:/d%3A/GitPyBaMM/LRH_409/LRH_409/envSolCon/PyBaMM-GEM/wip/Rio_Code/Study/Learn.ipynb#W6sZmlsZQ%3D%3D?line=0'>1</a>\u001b[0m \u001b[39mif\u001b[39;00m \u001b[39m__name__\u001b[39m \u001b[39m==\u001b[39m \u001b[39m'\u001b[39m\u001b[39m__main__\u001b[39m\u001b[39m'\u001b[39m:\n\u001b[1;32m----> <a href='vscode-notebook-cell:/d%3A/GitPyBaMM/LRH_409/LRH_409/envSolCon/PyBaMM-GEM/wip/Rio_Code/Study/Learn.ipynb#W6sZmlsZQ%3D%3D?line=1'>2</a>\u001b[0m     signal\u001b[39m.\u001b[39msignal(signal\u001b[39m.\u001b[39;49mSIGALRM, handle_signal)\n\u001b[0;32m      <a href='vscode-notebook-cell:/d%3A/GitPyBaMM/LRH_409/LRH_409/envSolCon/PyBaMM-GEM/wip/Rio_Code/Study/Learn.ipynb#W6sZmlsZQ%3D%3D?line=2'>3</a>\u001b[0m     signal\u001b[39m.\u001b[39malarm(\u001b[39m2\u001b[39m)\n\u001b[0;32m      <a href='vscode-notebook-cell:/d%3A/GitPyBaMM/LRH_409/LRH_409/envSolCon/PyBaMM-GEM/wip/Rio_Code/Study/Learn.ipynb#W6sZmlsZQ%3D%3D?line=3'>4</a>\u001b[0m     \u001b[39mtry\u001b[39;00m:\n",
      "\u001b[1;31mAttributeError\u001b[0m: module 'signal' has no attribute 'SIGALRM'"
     ]
    }
   ],
   "source": [
    "if __name__ == '__main__':\n",
    "    signal.signal(signal.SIGALRM, handle_signal)\n",
    "    signal.alarm(2)\n",
    "    try:\n",
    "        time.sleep(random.uniform(1,3))\n",
    "        may_cause_error()\n",
    "    except (TimeoutError,ZeroDivisionError) as e:\n",
    "        print(e)\n",
    "        print('Save your data here:')\n",
    "    else:\n",
    "        print('Succeed this time!')\n"
   ]
  },
  {
   "cell_type": "code",
   "execution_count": 3,
   "metadata": {},
   "outputs": [],
   "source": [
    "parameter_values = pybamm.ParameterValues(\"Mohtat2020\")\n",
    "parameter_values.update({\"SEI kinetic rate constant [m.s-1]\": 1e-14})\n",
    "dfn = pybamm.lithium_ion.DFN({\"SEI\": \"ec reaction limited\"})\n",
    "param = dfn.param"
   ]
  },
  {
   "cell_type": "code",
   "execution_count": 8,
   "metadata": {},
   "outputs": [
    {
     "name": "stdout",
     "output_type": "stream",
     "text": [
      "5.973262521249683 5.795692012196613 0.19298869951642003\n"
     ]
    }
   ],
   "source": [
    "\n",
    "esoh_solver = pybamm.lithium_ion.ElectrodeSOHSolver(parameter_values, param)\n",
    "\n",
    "Vmin = 3.0\n",
    "Vmax = 4.2\n",
    "Cn = parameter_values.evaluate(param.n.cap_init)\n",
    "Cp = parameter_values.evaluate(param.p.cap_init)\n",
    "n_Li_init = parameter_values.evaluate(param.n_Li_particles_init)\n",
    "print(Cn,Cp,n_Li_init)\n",
    "inputs={ \"V_min\": Vmin, \"V_max\": Vmax, \"C_n\": Cn, \"C_p\": Cp, \"n_Li\": n_Li_init}\n",
    "esoh_sol = esoh_solver.solve(inputs)"
   ]
  },
  {
   "cell_type": "code",
   "execution_count": 17,
   "metadata": {},
   "outputs": [
    {
     "name": "stdout",
     "output_type": "stream",
     "text": [
      "['__add__', '__class__', '__delattr__', '__dict__', '__dir__', '__doc__', '__eq__', '__format__', '__ge__', '__getattribute__', '__getitem__', '__gt__', '__hash__', '__init__', '__init_subclass__', '__le__', '__lt__', '__module__', '__ne__', '__new__', '__radd__', '__reduce__', '__reduce_ex__', '__repr__', '__setattr__', '__sizeof__', '__str__', '__subclasshook__', '__weakref__', '_all_inputs_casadi', '_all_models', '_all_ts', '_all_ys', '_all_ys_and_sens', '_cycles', '_extract_explicit_sensitivities', '_sensitivities', '_sub_solutions', '_summary_variables', '_t', '_t_event', '_termination', '_variables', '_y_event', 'all_inputs', 'all_inputs_casadi', 'all_models', 'all_ts', 'all_ys', 'check_ys_are_not_too_large', 'closest_event_idx', 'copy', 'cycles', 'data', 'extract_explicit_sensitivities', 'extrap_events', 'first_state', 'integration_time', 'last_state', 'length_scales_eval', 'plot', 'process_casadi_var', 'save', 'save_data', 'sensitivities', 'set_summary_variables', 'set_t', 'set_up_time', 'set_y', 'solve_time', 'sub_solutions', 'summary_variables', 't', 't_event', 'termination', 'timescale_eval', 'total_time', 'update', 'y', 'y_event']\n",
      "[0.83337428]\n"
     ]
    }
   ],
   "source": [
    "print(dir(esoh_sol))\n",
    "print(esoh_sol['x_100'].data)"
   ]
  },
  {
   "cell_type": "code",
   "execution_count": 4,
   "metadata": {},
   "outputs": [
    {
     "name": "stdout",
     "output_type": "stream",
     "text": [
      "<class 'pybamm.parameters.lithium_ion_parameters.LithiumIonParameters'>\n",
      "<class 'pybamm.parameters.parameter_values.ParameterValues'>\n"
     ]
    }
   ],
   "source": [
    "print(type(param))\n",
    "print(type(parameter_values))"
   ]
  }
 ],
 "metadata": {
  "kernelspec": {
   "display_name": "Python 3.9.6 ('envSolCon')",
   "language": "python",
   "name": "python3"
  },
  "language_info": {
   "codemirror_mode": {
    "name": "ipython",
    "version": 3
   },
   "file_extension": ".py",
   "mimetype": "text/x-python",
   "name": "python",
   "nbconvert_exporter": "python",
   "pygments_lexer": "ipython3",
   "version": "3.9.6"
  },
  "orig_nbformat": 4,
  "vscode": {
   "interpreter": {
    "hash": "5ae0c684446e40f7574a1a9821257f2365ba43f34c15f5f2e3dcabca0bad9ab7"
   }
  }
 },
 "nbformat": 4,
 "nbformat_minor": 2
}
