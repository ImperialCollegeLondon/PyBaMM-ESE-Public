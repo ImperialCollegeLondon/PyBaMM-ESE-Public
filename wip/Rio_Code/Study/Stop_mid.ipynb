{
 "cells": [
  {
   "cell_type": "code",
   "execution_count": 1,
   "metadata": {},
   "outputs": [],
   "source": [
    "import time\n",
    "import random\n",
    "import datetime\n",
    "\n",
    "class TimeoutException(Exception):\n",
    "    def __init__(self, *args, **kwargs):\n",
    "        Exception.__init__(self, *args, **kwargs)\n",
    "def busy_work():\n",
    "    # Pretend to do something useful\n",
    "    time.sleep(random.uniform(0.3, 0.6))\n"
   ]
  },
  {
   "cell_type": "code",
   "execution_count": 3,
   "metadata": {},
   "outputs": [],
   "source": [
    "def train_loadbatch_from_lists(batch_size, timeout_sec):\n",
    "    time_start = datetime.datetime.now()\n",
    "    batch_xs = []\n",
    "    batch_ys = []\n",
    "\n",
    "    for i in range(0, batch_size+1):\n",
    "        busy_work()\n",
    "        batch_xs.append(i)\n",
    "        batch_ys.append(i)\n",
    "\n",
    "        time_elapsed = datetime.datetime.now() - time_start\n",
    "        print( 'Elapsed:', time_elapsed)\n",
    "        if time_elapsed > timeout_sec:\n",
    "            raise TimeoutException()\n",
    "\n",
    "    return batch_xs, batch_ys\n"
   ]
  },
  {
   "cell_type": "code",
   "execution_count": 9,
   "metadata": {},
   "outputs": [
    {
     "name": "stdout",
     "output_type": "stream",
     "text": [
      "Processing batch\n",
      "Elapsed: 0:00:00.429625\n",
      "Elapsed: 0:00:00.783622\n",
      "Elapsed: 0:00:01.235734\n",
      "Elapsed: 0:00:01.807117\n",
      "Elapsed: 0:00:02.367478\n",
      "Elapsed: 0:00:02.728566\n",
      "Elapsed: 0:00:03.275332\n",
      "Elapsed: 0:00:03.776964\n",
      "Elapsed: 0:00:04.169949\n",
      "Elapsed: 0:00:04.559494\n",
      "Elapsed: 0:00:04.900304\n",
      "Completed successfully\n",
      "[0, 1, 2, 3, 4, 5, 6, 7, 8, 9, 10] [0, 1, 2, 3, 4, 5, 6, 7, 8, 9, 10]\n"
     ]
    }
   ],
   "source": [
    "def main():\n",
    "    timeout_sec = datetime.timedelta(seconds=10)\n",
    "    batch_size = 10\n",
    "    try:\n",
    "        print( 'Processing batch')\n",
    "        batch_xs, batch_ys = train_loadbatch_from_lists(batch_size, timeout_sec)\n",
    "        print( 'Completed successfully')\n",
    "        print (batch_xs, batch_ys)\n",
    "    except TimeoutException:\n",
    "        print ('Timeout after processing N records')\n",
    "\n",
    "if __name__ == '__main__':\n",
    "    main()"
   ]
  }
 ],
 "metadata": {
  "kernelspec": {
   "display_name": "Python 3.9.6 ('envSolCon')",
   "language": "python",
   "name": "python3"
  },
  "language_info": {
   "codemirror_mode": {
    "name": "ipython",
    "version": 3
   },
   "file_extension": ".py",
   "mimetype": "text/x-python",
   "name": "python",
   "nbconvert_exporter": "python",
   "pygments_lexer": "ipython3",
   "version": "3.9.6"
  },
  "orig_nbformat": 4,
  "vscode": {
   "interpreter": {
    "hash": "5ae0c684446e40f7574a1a9821257f2365ba43f34c15f5f2e3dcabca0bad9ab7"
   }
  }
 },
 "nbformat": 4,
 "nbformat_minor": 2
}
