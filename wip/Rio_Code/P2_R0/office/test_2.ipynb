{
 "cells": [
  {
   "cell_type": "code",
   "execution_count": null,
   "metadata": {},
   "outputs": [],
   "source": [
    "# check my initial code raise in GitHub: https://github.com/pybamm-team/PyBaMM/discussions/2040"
   ]
  },
  {
   "cell_type": "code",
   "execution_count": 1,
   "metadata": {},
   "outputs": [],
   "source": [
    "import pybamm as pb;import pandas as pd   ;import numpy as np;import os;import matplotlib.pyplot as plt;import os;\n",
    "from scipy.io import savemat,loadmat;from pybamm import constants,exp;import matplotlib as mpl; fs=17; # or we can set import matplotlib.pyplot as plt then say 'mpl.rc...'\n",
    "for k in range(0,1):\n",
    "    mpl.rcParams[\"axes.labelsize\"] = fs\n",
    "    mpl.rcParams[\"axes.titlesize\"] = fs\n",
    "    mpl.rcParams[\"xtick.labelsize\"] =  fs\n",
    "    mpl.rcParams[\"ytick.labelsize\"] =  fs\n",
    "    mpl.rcParams[\"legend.fontsize\"] =  fs\n",
    "    mpl.rcParams['font.sans-serif'] = ['Times New Roman']\n",
    "    mpl.rcParams['font.serif'] = ['Times New Roman']\n",
    "    mpl.rcParams['axes.unicode_minus'] = False\n",
    "import timeit\n",
    "start = timeit.default_timer()\n"
   ]
  },
  {
   "cell_type": "code",
   "execution_count": 2,
   "metadata": {},
   "outputs": [],
   "source": [
    "Model_0 = pb.lithium_ion.DFN(\n",
    "    options={\n",
    "        \"particle\": \"Fickian diffusion\", \n",
    "        \"SEI\":\"interstitial-diffusion limited\", \n",
    "        \"SEI film resistance\":\"distributed\", \n",
    "        \"SEI porosity change\":\"true\",\n",
    "        \"lithium plating\":\"partially reversible\"\n",
    "    }\n",
    ")"
   ]
  },
  {
   "cell_type": "code",
   "execution_count": 3,
   "metadata": {},
   "outputs": [],
   "source": [
    "V_max = 4.2;        V_min = 2.5;\n",
    "cs_Neg_Init = 28920; Diff_SEI = 1.700000000000002e-20;    R_SEI = 2E5;   Bulk_Sol_Con = 4541.0;\n",
    "\n",
    "chemistry = pb.parameter_sets.Chen2020_coupled\n",
    "Para_0 = pb.ParameterValues(chemistry=chemistry)\n",
    "#Para_0[\"Ambient temperature [K]\"] = pybamm.InputParameter(\"T\")\n",
    "Para_0.update({\"Upper voltage cut-off [V]\": 4.20})\n",
    "Para_0.update({\"Lower voltage cut-off [V]\": 2.50})\n",
    "Para_0.update({'SEI resistivity [Ohm.m]':R_SEI}) ;\n",
    "Para_0.update({'Outer SEI solvent diffusivity [m2.s-1]':Diff_SEI});  \n",
    "Para_0.update({'Bulk solvent concentration [mol.m-3]':Bulk_Sol_Con});\n",
    "Para_0.update({'Initial concentration in negative electrode [mol.m-3]':cs_Neg_Init }) # \n",
    "Para_0.update({\"Lithium plating kinetic rate constant [m.s-1]\": 1E-18})\n",
    "Para_0.update({\"SEI-plating coupling constant [s-1]\": 2E-6})"
   ]
  },
  {
   "cell_type": "code",
   "execution_count": 5,
   "metadata": {},
   "outputs": [],
   "source": [
    "# Write Niall's experiment:\n",
    "V_min = 2.5;  V_max = 4.2;  Update_Cycles = 10; RPT_Cycles = 1; V_max_2 = 4.2+1e-3\n",
    "Experiment_Breakin= pb.Experiment( [    # at 25 degreeC\n",
    "    (f\"Discharge at 0.2 C until {V_min} V\",\n",
    "    \"Rest for 4 hours\",\n",
    "    f\"Charge at 0.2 C until {V_max} V\" , \n",
    "    f\"Hold at {V_max} V until C/100\",\n",
    "    \"Rest for 2 hours\")        ]   *5\n",
    "    )  \n",
    "Experiment_RPT_Long    = pb.Experiment( [      # under 25 degreeC\n",
    "    (\n",
    "        f\"Charge at 0.3 C until {V_max} V\", \n",
    "        f\"Hold at {V_max} V until C/100\",\n",
    "        \"Rest for 2 hours\",  \n",
    "        f\"Discharge at 0.1 C until {V_min} V\",  \n",
    "        \"Rest for 6 hours\",  \n",
    "        f\"Charge at 0.1 C until {V_max} V\",\n",
    "        \"Rest for 10 minutes\",  \n",
    "    ) ] * 1    # Sub-1: C/10 CC\n",
    "    +\n",
    "    [(\n",
    "        #f\"Charge at 0.3 C until {V_max_2} V\", \n",
    "        #f\"Hold at {V_max_2} V until C/100\",\n",
    "        \"Rest for 2 hours\",  \n",
    "        f\"Discharge at 0.5 C until {V_min} V\",  \n",
    "        \"Rest for 6 hours\",  \n",
    "        f\"Charge at 0.5 C until {V_max} V\",\n",
    "        #\"Rest for 30 minutes\",  \n",
    "    ) ] * 1    # Sub-2: C/2 CC\n",
    "    +\n",
    "    [(\n",
    "        #f\"Charge at 0.3 C until {V_max_2} V\", \n",
    "        f\"Hold at {V_max} V until C/100\",\n",
    "        \"Rest for 2 hours\",  \n",
    "    ) ] * 1    # Sub-3-1: Prepare for C/2 GITT\n",
    "    +\n",
    "    [(\n",
    "        f\"Discharge at 0.5 C for 4.8 minutes or until {V_min} V\",                 \n",
    "        \"Rest for 1 hour\",  \n",
    "    ) ] * 12 # 24    # Sub-3-2: Do C/2 GITT - 25 pulses            # how to set jump condition for voltage?\n",
    "    +\n",
    "    [(\n",
    "        \"Rest for 5 hours\",  \n",
    "    ) ] * 1    # Sub-3-3: Post C/2 GITT\n",
    "    +\n",
    "    [(\n",
    "        f\"Charge at 0.3 C until {V_max} V\", \n",
    "        f\"Hold at {V_max} V until C/100\",\n",
    "        \"Rest for 2 hours\",  \n",
    "    ) ] * 1    # Sub-4-1: Prepare for C/2 GITT\n",
    "    +\n",
    "    [(\n",
    "        f\"Discharge at 0.5 C for 24 minutes or until {V_min} V\",                  \n",
    "        \"Rest for 1 hour\",  \n",
    "    ) ] * 2 # 4    # Sub-4-2: Do C/2 GITT - 25 pulses            # how to set jump condition for voltage?\n",
    "    +\n",
    "    [(\n",
    "        \"Rest for 5 hours\",  \n",
    "    )  * 1    # Sub-4-3: Post C/2 GITT    \n",
    "    ] ) \n",
    "\n",
    "Experiment_RPT_Short    = pb.Experiment( [ \n",
    "    (\n",
    "        #f\"Charge at 0.3 C until {V_max} V\", \n",
    "        #f\"Hold at {V_max} V until C/100\",\n",
    "        #\"Rest for 2 hours\",  \n",
    "        f\"Discharge at 0.1 C until {V_min} V\",  \n",
    "        \"Rest for 6 hours\",  \n",
    "        f\"Charge at 0.1 C until {V_max} V\",\n",
    "        #\"Rest for 10 minutes\",  \n",
    "    ) ] * 1    # Sub-1: C/10 CC\n",
    "    +\n",
    "    [(\n",
    "        #f\"Charge at 0.3 C until {V_max_2} V\", \n",
    "        f\"Hold at {V_max} V until C/100\",\n",
    "        \"Rest for 2 hours\",  \n",
    "    ) ] * 1    # Sub-2-1: Prepare for Pulse under load (2.5*30*6+2.5*10*6)*29/3600\n",
    "    +\n",
    "    [(\n",
    "        f\"Discharge at 0.5 C for 30 seconds or until {V_min} V\",                   \n",
    "        f\"Discharge at 0.55 C for 10 seconds or until {V_min} V\",   \n",
    "        f\"Discharge at 0.5 C for 30 seconds or until {V_min} V\",   \n",
    "        f\"Discharge at 0.45 C for 10 seconds or until {V_min} V\",   \n",
    "        f\"Discharge at 0.5 C for 30 seconds or until {V_min} V\",   \n",
    "        f\"Discharge at 0.625 C for 10 seconds or until {V_min} V\",   \n",
    "        f\"Discharge at 0.5 C for 30 seconds or until {V_min} V\",   \n",
    "        f\"Discharge at 0.375 C for 10 seconds or until {V_min} V\", \n",
    "        f\"Discharge at 0.5 C for 30 seconds or until {V_min} V\",   \n",
    "        f\"Discharge at 0.75 C for 10 seconds or until {V_min} V\", \n",
    "        f\"Discharge at 0.5 C for 30 seconds or until {V_min} V\",   \n",
    "        f\"Discharge at 0.25 C for 10 seconds or until {V_min} V\", \n",
    "    )  ]* 29    # Sub-2-2: Do Pulse under load (C/2 average current, discharge)\n",
    "    +\n",
    "    [(\n",
    "        \"Rest for 5 hours\",  \n",
    "    ) ] * 1 \n",
    "    +\n",
    "    [(\n",
    "        f\"Charge at 0.5 C for 30 seconds or until {V_max} V\",                   \n",
    "        f\"Charge at 0.55 C for 10 seconds or until {V_max} V\",   \n",
    "        f\"Charge at 0.5 C for 30 seconds or until {V_max} V\",   \n",
    "        f\"Charge at 0.45 C for 10 seconds or until {V_max} V\",   \n",
    "        f\"Charge at 0.5 C for 30 seconds or until {V_max} V\",   \n",
    "        f\"Charge at 0.625 C for 10 seconds or until {V_max} V\",   \n",
    "        f\"Charge at 0.5 C for 30 seconds or until {V_max} V\",   \n",
    "        f\"Charge at 0.375 C for 10 seconds or until {V_max} V\", \n",
    "        f\"Charge at 0.5 C for 30 seconds or until {V_max} V\",   \n",
    "        f\"Charge at 0.75 C for 10 seconds or until {V_max} V\", \n",
    "        f\"Charge at 0.5 C for 30 seconds or until {V_max} V\",   \n",
    "        f\"Charge at 0.25 C for 10 seconds or until {V_max} V\", \n",
    "    ) ] * 29    # Sub-2-3: Do Pulse under load (C/2 average current, charge)\n",
    "    #+\n",
    "    #[(\n",
    "    #    \"Rest for 10 minutes\",  \n",
    "    #) ] * 1 \n",
    "    +\n",
    "    [(\n",
    "        #f\"Charge at 0.3 C until {V_max_2} V\", \n",
    "        #f\"Hold at {V_max} V until C/100\",\n",
    "        \"Rest for 2 hours\",  \n",
    "    ) ] * 1    # Sub-3-1: Prepare for Pulse under load\n",
    "    + \n",
    "    [(\n",
    "        f\"Discharge at 1 C for 30 seconds or until {V_min} V\",                   \n",
    "        f\"Discharge at 1.1 C for 10 seconds or until {V_min} V\",   \n",
    "        f\"Discharge at 1 C for 30 seconds or until {V_min} V\",   \n",
    "        f\"Discharge at 0.9 C for 10 seconds or until {V_min} V\",   \n",
    "        f\"Discharge at 1 C for 30 seconds or until {V_min} V\",   \n",
    "        f\"Discharge at 1.25 C for 10 seconds or until {V_min} V\",   \n",
    "        f\"Discharge at 1 C for 30 seconds or until {V_min} V\",   \n",
    "        f\"Discharge at 0.75 C for 10 seconds or until {V_min} V\", \n",
    "        f\"Discharge at 1 C for 30 seconds or until {V_min} V\",   \n",
    "        f\"Discharge at 1.5 C for 10 seconds or until {V_min} V\", \n",
    "        f\"Discharge at 1 C for 30 seconds or until {V_min} V\",   \n",
    "        f\"Discharge at 0.5 C for 10 seconds or until {V_min} V\", \n",
    "    ) ] * 14    # Sub-3-2: Do Pulse under load (C/2 average current, discharge)\n",
    "    +\n",
    "    [(\n",
    "        \"Rest for 6 hours\",  \n",
    "    )  * 1 \n",
    "    ] ) \n",
    "\n",
    "Experiment_Full_charge  = pb.Experiment( [    # under 15,25,35 degreeC  , can do this at 25degreeC as a supplementary step!\n",
    "    (\n",
    "        f\"Charge at 0.3 C until {V_max} V\", \n",
    "        f\"Hold at {V_max} V until C/100\",\n",
    "        \"Rest for 4 hours\",  \n",
    "    )  ])  \n",
    "\n",
    "Experiment_Ageing  = pb.Experiment( [         # under 15,25,35 degreeC\n",
    "    (f\"Discharge at 1 C until {V_min} V\", \n",
    "    f\"Charge at 0.3 C until {V_max} V\", \n",
    "    f\"Hold at {V_max} V until C/100\")    \n",
    "    ] * 78 )     # can be changed for update cycles\n",
    "\n"
   ]
  },
  {
   "cell_type": "code",
   "execution_count": 6,
   "metadata": {},
   "outputs": [
    {
     "name": "stderr",
     "output_type": "stream",
     "text": [
      "The linesearch algorithm failed with too small a step.\n",
      "The linesearch algorithm failed with too small a step.\n"
     ]
    }
   ],
   "source": [
    "Sol_NonDry=[];  Model_NonDry=[];\n",
    "Sim_0 = pb.Simulation(\n",
    "    Model_0, experiment = Experiment_Breakin,\n",
    "    parameter_values = Para_0,solver = pb.CasadiSolver(),)       \n",
    "Sol_0 = Sim_0.solve();\n",
    "Sol_NonDry.append(Sol_0); Model_NonDry.append(Model_0);\n"
   ]
  },
  {
   "cell_type": "code",
   "execution_count": 22,
   "metadata": {},
   "outputs": [],
   "source": [
    "# Now try to charge the cell from this point:\n",
    "Experiment_0p3C_charge= pb.Experiment( [ (f\"Charge at 0.3 C for 114 s (1 second period)\", ) ] )\n",
    "Experiment_0p1C_charge= pb.Experiment( [ (f\"Charge at 0.1 C for 114 s (1 second period)\", ) ] )\n",
    "Experiment_0p01C_charge= pb.Experiment( [ (f\"Charge at 0.01 C for 114 s (1 second period)\", ) ] )\n",
    "\n",
    "Model_1 = Model_0.set_initial_conditions_from(Sol_0)\n",
    "sim1 = pb.Simulation(Model_1, parameter_values=Para_0, experiment=Experiment_0p3C_charge)\n",
    "sol1 = sim1.solve()\n",
    "\n",
    "Model_2 = Model_0.set_initial_conditions_from(Sol_0)\n",
    "sim2 = pb.Simulation(Model_2, parameter_values=Para_0, experiment=Experiment_0p1C_charge)\n",
    "sol2 = sim2.solve()\n",
    "\n",
    "Model_3 = Model_0.set_initial_conditions_from(Sol_0)\n",
    "sim3 = pb.Simulation(Model_3, parameter_values=Para_0, experiment=Experiment_0p01C_charge)\n",
    "sol3 = sim3.solve()"
   ]
  },
  {
   "cell_type": "code",
   "execution_count": 23,
   "metadata": {},
   "outputs": [],
   "source": [
    "t_1 = sol1[\"Time [h]\"].entries\n",
    "V_1 = sol1[\"Terminal voltage [V]\"].entries\n",
    "t_2 = sol2[\"Time [h]\"].entries\n",
    "V_2 = sol2[\"Terminal voltage [V]\"].entries\n",
    "t_3 = sol3[\"Time [h]\"].entries\n",
    "V_3 = sol3[\"Terminal voltage [V]\"].entries"
   ]
  },
  {
   "cell_type": "code",
   "execution_count": 34,
   "metadata": {},
   "outputs": [
    {
     "name": "stdout",
     "output_type": "stream",
     "text": [
      "4.208863666496108 4.197452107970379 4.192312811712463\n"
     ]
    }
   ],
   "source": [
    "\n",
    "print(V_1[0],V_2[0],V_3[0])"
   ]
  },
  {
   "cell_type": "code",
   "execution_count": 30,
   "metadata": {},
   "outputs": [
    {
     "data": {
      "text/plain": [
       "<matplotlib.legend.Legend at 0x267f4352820>"
      ]
     },
     "execution_count": 30,
     "metadata": {},
     "output_type": "execute_result"
    },
    {
     "data": {
      "image/png": "[encoded data removed]",
      "text/plain": [
       "<Figure size 432x288 with 1 Axes>"
      ]
     },
     "metadata": {
      "needs_background": "light"
     },
     "output_type": "display_data"
    }
   ],
   "source": [
    "plt.plot(t_1, V_1,label='Charge at 0.3C')\n",
    "plt.plot(t_2, V_2,label='Charge at 0.1C')\n",
    "plt.plot(t_3, V_3,label='Charge at 0.01C')\n",
    "plt.title('Charge after 100%SOC & 4.19174V') \n",
    "plt.legend(prop={'family':'Times New Roman','size':fs-3},loc='best',frameon=False)"
   ]
  },
  {
   "cell_type": "code",
   "execution_count": 7,
   "metadata": {},
   "outputs": [],
   "source": [
    "t = Sol_0[\"Time [h]\"].entries\n",
    "I = Sol_0[\"Current [A]\"].entries\n",
    "Q = Sol_0[\"Discharge capacity [A.h]\"].entries\n",
    "V = Sol_0[\"Terminal voltage [V]\"].entries"
   ]
  },
  {
   "cell_type": "code",
   "execution_count": 11,
   "metadata": {},
   "outputs": [
    {
     "data": {
      "text/plain": [
       "array([4.19942573, 4.19669368, 4.19569814, 4.19502936, 4.19452292,\n",
       "       4.19411771, 4.19378182, 4.1934956 , 4.19324794, 4.19303347,\n",
       "       4.19284913, 4.19269196, 4.19255875, 4.19244639, 4.19235206,\n",
       "       4.19227342, 4.19220854, 4.19215594, 4.19211471, 4.19208453,\n",
       "       4.19206477, 4.19205036, 4.19203358, 4.19201862, 4.19201044,\n",
       "       4.19200392, 4.19199339, 4.19198459, 4.19198219, 4.19198235,\n",
       "       4.19197775, 4.19197208, 4.19197197, 4.19197627, 4.19197698,\n",
       "       4.19197334, 4.19197327, 4.1919787 , 4.19198298, 4.1919808 ,\n",
       "       4.19197873, 4.19198238, 4.19198854, 4.19198815, 4.19198198,\n",
       "       4.19197784, 4.19197612, 4.19197042, 4.19196799, 4.19197692,\n",
       "       4.19199281, 4.19200871, 4.19201595, 4.1920188 , 4.19202617,\n",
       "       4.19203608, 4.19203841, 4.19203187, 4.19202621, 4.19202782,\n",
       "       4.19203453, 4.19203359, 4.19201554, 4.19198592, 4.19195889,\n",
       "       4.19195774, 4.19197538, 4.19198433, 4.19197275, 4.19195065,\n",
       "       4.1919272 , 4.19190498, 4.19188422, 4.19186417, 4.19184326,\n",
       "       4.19181874, 4.19178813, 4.19175948, 4.19174545, 4.19173927,\n",
       "       4.19173564, 4.19173347, 4.19173225, 4.19173167, 4.19173153,\n",
       "       4.19173169, 4.19173205, 4.19173253, 4.19173309, 4.19173369,\n",
       "       4.1917343 , 4.19173491, 4.1917355 , 4.19173606, 4.1917366 ,\n",
       "       4.19173709, 4.19173755, 4.19173798, 4.19173838, 4.19173874,\n",
       "       4.19173906, 4.19173936, 4.19173964, 4.19173988, 4.1917401 ,\n",
       "       4.1917403 , 4.19174048, 4.19174065, 4.1917408 , 4.19174093,\n",
       "       4.19174105, 4.19174116, 4.19174125, 4.19174134, 4.19174142,\n",
       "       4.19174149, 4.19174155, 4.19174161, 4.19174165, 4.1917417 ,\n",
       "       4.19174174])"
      ]
     },
     "execution_count": 11,
     "metadata": {},
     "output_type": "execute_result"
    }
   ],
   "source": [
    "Sol_0.cycles[-1].steps[-1][\"Terminal voltage [V]\"].entries\n",
    "#Sol_0.cycles[-1].steps[-2][\"Terminal voltage [V]\"].entries"
   ]
  },
  {
   "cell_type": "markdown",
   "metadata": {},
   "source": [
    "Clue: for the break-in test, the voltage during the 2hour rest peroid after 4.2V CV hold, decrease from 4.1994V to 4.1917V, decreasing by 8mV\n"
   ]
  },
  {
   "cell_type": "code",
   "execution_count": 8,
   "metadata": {},
   "outputs": [
    {
     "data": {
      "image/png": "[encoded data removed]",
      "text/plain": [
       "<Figure size 432x288 with 2 Axes>"
      ]
     },
     "metadata": {
      "needs_background": "light"
     },
     "output_type": "display_data"
    }
   ],
   "source": [
    "fig, ax1 = plt.subplots()\n",
    "\n",
    "color = 'tab:red'\n",
    "ax1.set_xlabel('Time [h]')\n",
    "ax1.set_ylabel('Terminal voltage [V]', color=color)\n",
    "ax1.set_title('100x0.5C pulses at 318K, simulated')\n",
    "ax1.plot(t, V, color=color)\n",
    "ax1.tick_params(axis='y', labelcolor=color)\n",
    "\n",
    "ax2 = ax1.twinx()  # instantiate a second axes that shares the same x-axis\n",
    "\n",
    "color = 'tab:blue'\n",
    "ax2.set_ylabel('Charge passed [A.h]', color=color)  # we already handled the x-label with ax1\n",
    "ax2.plot(t, Q, color=color)\n",
    "ax2.tick_params(axis='y', labelcolor=color)\n",
    "\n",
    "fig.tight_layout()  # otherwise the right y-label is slightly clipped"
   ]
  },
  {
   "cell_type": "code",
   "execution_count": null,
   "metadata": {},
   "outputs": [],
   "source": []
  },
  {
   "cell_type": "code",
   "execution_count": null,
   "metadata": {},
   "outputs": [],
   "source": []
  },
  {
   "cell_type": "code",
   "execution_count": null,
   "metadata": {},
   "outputs": [],
   "source": []
  }
 ],
 "metadata": {
  "kernelspec": {
   "display_name": "Python 3 (ipykernel)",
   "language": "python",
   "name": "python3"
  },
  "language_info": {
   "codemirror_mode": {
    "name": "ipython",
    "version": 3
   },
   "file_extension": ".py",
   "mimetype": "text/x-python",
   "name": "python",
   "nbconvert_exporter": "python",
   "pygments_lexer": "ipython3",
   "version": "3.9.6"
  }
 },
 "nbformat": 4,
 "nbformat_minor": 4
}
