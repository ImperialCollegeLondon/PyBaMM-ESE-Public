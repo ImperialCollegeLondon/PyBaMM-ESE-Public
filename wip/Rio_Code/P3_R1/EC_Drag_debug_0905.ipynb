{
 "cells": [
  {
   "cell_type": "code",
   "execution_count": 1,
   "metadata": {},
   "outputs": [],
   "source": [
    "# This file aims to debug the newly created solvent diffusion model with EC drag (add one submodel variable for EC concentration)"
   ]
  },
  {
   "cell_type": "code",
   "execution_count": 2,
   "metadata": {},
   "outputs": [],
   "source": [
    "import pybamm as pybamm;import pandas as pd   ;import numpy as np;import os;import matplotlib.pyplot as plt;import os;import imageio\n",
    "from scipy.io import savemat,loadmat;from pybamm import constants,exp;import matplotlib as mpl; fs=17; # or we can set import matplotlib.pyplot as plt then say 'mpl.rc...'\n",
    "for k in range(0,1):\n",
    "    mpl.rcParams[\"axes.labelsize\"] = fs\n",
    "    mpl.rcParams[\"axes.titlesize\"] = fs\n",
    "    mpl.rcParams[\"xtick.labelsize\"] =  fs\n",
    "    mpl.rcParams[\"ytick.labelsize\"] =  fs\n",
    "    mpl.rcParams[\"legend.fontsize\"] =  fs\n",
    "    mpl.rcParams['font.sans-serif'] = ['Times New Roman']\n",
    "    mpl.rcParams['font.serif'] = ['Times New Roman']\n",
    "    mpl.rcParams['axes.unicode_minus'] = False"
   ]
  },
  {
   "cell_type": "code",
   "execution_count": 3,
   "metadata": {},
   "outputs": [],
   "source": [
    "# Global setting Niall's result:\n",
    "#Total_Cycles = 1170; Cycle_bt_RPT = 78; Update_Cycles = 78;  Small_Loop =  int(Cycle_bt_RPT/Update_Cycles);   SaveTimes = int(Total_Cycles/Cycle_bt_RPT);   RPT_Cycles = 1; \n",
    "\n",
    "# Special cases for Non-dry-out model:\n",
    "#Total_Cycles_NonDry = 1170-78;   SaveTimes_NonDry = int(Total_Cycles_NonDry/Cycle_bt_RPT);  \n",
    "\n",
    "#Real_SaveAs_Cycles = 1 # Set this to use it in real experiment so that can really get capacity throughput!\n",
    "V_max = 4.2;        V_min = 2.5;\n",
    "cs_Neg_Init = 28920; Diff_SEI = 1.700000000000002e-20;    R_SEI = 2E5;   Bulk_Sol_Con = 4541.0;\n",
    "Experiment_Long   = pybamm.Experiment( [ (f\"Discharge at 1 C until {V_min} V\", f\"Charge at 0.3 C until {V_max} V\", f\"Hold at {V_max} V until C/5\")    ] * 1 )  \n",
    "Experiment_RPT    = pybamm.Experiment( [ (f\"Discharge at 0.1 C until {V_min} V\",  \"Rest for 6 hours\",  f\"Charge at 0.1 C until {V_max} V\" ) ] * 1 ) \n",
    "Experiment_Breakin= pybamm.Experiment( [ (f\"Discharge at 0.2 C until {V_min} V\",\"Rest for 4 hours\",f\"Charge at 0.2 C until {V_max} V\" , f\"Hold at {V_max} V until C/100\",\"Rest for 2 hours\") *5 + ( f\"Discharge at 0.1 C until {V_min} V\",  \"Rest for 6 hours\",  f\"Charge at 0.1 C until {V_max} V\" ) *1 ] )\n",
    "#BasicPath = 'D:/OneDrive - Imperial College London/PhD Study/Imperial Study/Model/Pybamm Learning/SimDataSave/SolConsumed/';\n",
    "#Target = 'Test 20-6 Update=78/';\n",
    "#if not os.path.exists(BasicPath + Target):\n",
    "#    os.mkdir(BasicPath + Target);"
   ]
  },
  {
   "cell_type": "code",
   "execution_count": 4,
   "metadata": {},
   "outputs": [
    {
     "name": "stdout",
     "output_type": "stream",
     "text": [
      "self.c_ec_0_dim=\n",
      "EC initial concentration in electrolyte [mol.m-3]\n",
      "have you come here?\n",
      "Are you using dingle diffusion?\n"
     ]
    },
    {
     "data": {
      "text/plain": [
       "96485.33212"
      ]
     },
     "execution_count": 4,
     "metadata": {},
     "output_type": "execute_result"
    }
   ],
   "source": [
    "Model_0  = pybamm.lithium_ion.DFN() \n",
    "Model_0.param.F.evaluate()"
   ]
  },
  {
   "cell_type": "code",
   "execution_count": 5,
   "metadata": {},
   "outputs": [],
   "source": [
    "# Run model without electrolyte dry out\n",
    "ChemistryChen=pybamm.parameter_sets.Chen2020  # Ren2018  Chen2020_plating\n",
    "ChemistryChen[\"electrolyte\"] = \"lipf6_Nyman2008_Rio\";\n",
    "Para_0=pybamm.ParameterValues(chemistry=ChemistryChen);"
   ]
  },
  {
   "cell_type": "code",
   "execution_count": 6,
   "metadata": {},
   "outputs": [
    {
     "name": "stdout",
     "output_type": "stream",
     "text": [
      "self.c_ec_0_dim=\n",
      "EC initial concentration in electrolyte [mol.m-3]\n",
      "have you come here?\n",
      "Are you using dingle diffusion?\n"
     ]
    }
   ],
   "source": [
    "Para_0.update({'SEI resistivity [Ohm.m]':R_SEI}) ;\n",
    "Para_0.update({'Bulk solvent concentration [mol.m-3]':Bulk_Sol_Con});\n",
    "Para_0.update({'Electrolyte diffusivity [m2.s-1]':3e-10});\n",
    "Para_0.update({'EC Lithium ion cross diffusivity [m2.s-1]':-1.5e-9/5});\n",
    "Para_0.update({'Typical EC Lithium ion cross diffusivity [m2.s-1]':-1.5e-9/5});\n",
    "Para_0.update({'Initial concentration in negative electrode [mol.m-3]':cs_Neg_Init }) # \n",
    "Sol_NonDry=[];  Model_NonDry=[];\n",
    "# First Cycle \n",
    "Model_0  = pybamm.lithium_ion.DFN(\n",
    "    options={\"solvent diffusion\": \"none\" }\n",
    ") "
   ]
  },
  {
   "cell_type": "code",
   "execution_count": 7,
   "metadata": {},
   "outputs": [
    {
     "name": "stdout",
     "output_type": "stream",
     "text": [
      "EC Lithium ion cross diffusivity [m2.s-1]\t-3e-10\n",
      "EC diffusivity [m2.s-1]\t2e-18\n",
      "EC diffusivity in SEI [m2.s-1]\t2e-18\n",
      "EC diffusivity in electrolyte [m2.s-1]\t5e-10\n",
      "Electrolyte diffusivity [m2.s-1]\t3e-10\n",
      "Inner SEI lithium interstitial diffusivity [m2.s-1]\t1e-20\n",
      "Negative electrode diffusivity [m2.s-1]\t3.3e-14\n",
      "Outer SEI solvent diffusivity [m2.s-1]\t2.5000000000000002e-22\n",
      "Positive electrode diffusivity [m2.s-1]\t4e-15\n",
      "Typical EC Lithium ion cross diffusivity [m2.s-1]\t-3e-10\n",
      "Typical EC diffusivity in SEI [m2.s-1]\t2e-18\n",
      "Typical EC diffusivity in electrolyte [m2.s-1]\t5e-10\n"
     ]
    },
    {
     "data": {
      "text/plain": [
       "numpy.float64"
      ]
     },
     "execution_count": 7,
     "metadata": {},
     "output_type": "execute_result"
    }
   ],
   "source": [
    "Para_0.search(\"diffusivity\")\n",
    "D_ec_dim = Para_0.evaluate(Model_0.param.D_ec_dim)  \n",
    "type(D_ec_dim)"
   ]
  },
  {
   "cell_type": "code",
   "execution_count": 8,
   "metadata": {},
   "outputs": [],
   "source": [
    "#Model_0.latexify()"
   ]
  },
  {
   "cell_type": "code",
   "execution_count": 9,
   "metadata": {},
   "outputs": [],
   "source": [
    "Sim_0    = pybamm.Simulation(\n",
    "    Model_0, experiment = Experiment_Long,\n",
    "    parameter_values = Para_0,\n",
    "    solver = pybamm.CasadiSolver(),)       \n"
   ]
  },
  {
   "cell_type": "code",
   "execution_count": 10,
   "metadata": {},
   "outputs": [
    {
     "name": "stdout",
     "output_type": "stream",
     "text": [
      "<\n"
     ]
    },
    {
     "ename": "NotImplementedError",
     "evalue": "Boolean operator not defined for Symbols.",
     "output_type": "error",
     "traceback": [
      "\u001b[1;31m---------------------------------------------------------------------------\u001b[0m",
      "\u001b[1;31mKeyError\u001b[0m                                  Traceback (most recent call last)",
      "File \u001b[1;32md:\\phd model acer\\envecdrag\\pybamm-gem\\pybamm\\parameters\\parameter_values.py:570\u001b[0m, in \u001b[0;36mParameterValues.process_symbol\u001b[1;34m(self, symbol)\u001b[0m\n\u001b[0;32m    567\u001b[0m \u001b[39mtry\u001b[39;00m:\n\u001b[0;32m    568\u001b[0m     \u001b[39m#print(type(symbol));# Mark Ruihe debug\u001b[39;00m\n\u001b[0;32m    569\u001b[0m     \u001b[39m#print(symbol) # Mark Ruihe debug\u001b[39;00m\n\u001b[1;32m--> 570\u001b[0m     \u001b[39mreturn\u001b[39;00m \u001b[39mself\u001b[39;49m\u001b[39m.\u001b[39;49m_processed_symbols[symbol]\n\u001b[0;32m    571\u001b[0m \u001b[39mexcept\u001b[39;00m \u001b[39mKeyError\u001b[39;00m:\n",
      "\u001b[1;31mKeyError\u001b[0m: Addition(-0x7aa3e693130c7307, +, children=['-div(-concatenation(Negative electrode porosity ** Negative electrode Bruggeman coefficient (electrolyte), Separator porosity ** Separator Bruggeman coefficient (electrolyte), Positive electrode porosity ** Positive electrode Bruggeman coefficient (electrolyte)) * Electrolyte diffusivity [m2.s-1] / Electrolyte diffusivity [m2.s-1] * grad(concatenation(Negative electrode porosity times concentration / Negative electrode porosity, Separator porosity times concentration / Separator porosity, Positive electrode porosity times concentration / Positive electrode porosity)) + (((Negative electrode thickness [m] + Separator thickness [m] + Positive electrode thickness [m]) ** 2.0) / Electrolyte diffusivity [m2.s-1] / (96485.33212 * Maximum concentration in negative electrode [mol.m-3] * (Negative electrode thickness [m] + Separator thickness [m] + Positive electrode thickness [m]) / absolute(Typical current [A] / (Number of electrodes connected in parallel to make a cell * Electrode width [m] * Electrode height [m])))) * Cation transference number * ((Electrolyte conductivity [S.m-1] / (9309419314.306705 * Electrolyte diffusivity [m2.s-1] * Typical electrolyte concentration [mol.m-3] / (8.314462618 * Reference temperature [K]))) * concatenation(Negative electrode porosity ** Negative electrode Bruggeman coefficient (electrolyte), Separator porosity ** Separator Bruggeman coefficient (electrolyte), Positive electrode porosity ** Positive electrode Bruggeman coefficient (electrolyte)) * Typical electrolyte concentration [mol.m-3] / Maximum concentration in negative electrode [mol.m-3] / (((Negative electrode thickness [m] + Separator thickness [m] + Positive electrode thickness [m]) ** 2.0) / Electrolyte diffusivity [m2.s-1] / (96485.33212 * Maximum concentration in negative electrode [mol.m-3] * (Negative electrode thickness [m] + Separator thickness [m] + Positive electrode thickness [m]) / absolute(Typical current [A] / (Number of electrodes connected in parallel to make a cell * Electrode width [m] * Electrode height [m]))))) * (((((2.0 - (2.0 * Cation transference number)) * 1 + dlnf/dlnc + (2.0 - (2.0 * Cation transference number)) * 1 + dlnf/dlnc * (1.0 / Reference temperature [K]) * (Ambient temperature [K] - Reference temperature [K])) / (maximum(concatenation(Negative electrode porosity times concentration / Negative electrode porosity, Separator porosity times concentration / Separator porosity, Positive electrode porosity times concentration / Positive electrode porosity), 0.01))) * grad(concatenation(Negative electrode porosity times concentration / Negative electrode porosity, Separator porosity times concentration / Separator porosity, Positive electrode porosity times concentration / Positive electrode porosity))) - grad(Electrolyte potential(Negative electrolyte potential, Separator electrolyte potential, Positive electrolyte potential))) / (Typical electrolyte concentration [mol.m-3] / Maximum concentration in negative electrode [mol.m-3])) / (((Negative electrode thickness [m] + Separator thickness [m] + Positive electrode thickness [m]) ** 2.0) / Electrolyte diffusivity [m2.s-1] / (96485.33212 * Maximum concentration in negative electrode [mol.m-3] * (Negative electrode thickness [m] + Separator thickness [m] + Positive electrode thickness [m]) / absolute(Typical current [A] / (Number of electrodes connected in parallel to make a cell * Electrode width [m] * Electrode height [m]))))', 'concatenation((3.0 * Negative electrode active material volume fraction / Negative particle radius [m] / (3.0 * yz-average(x-average(Negative electrode active material volume fraction)) / yz-average(x-average(Negative particle radius [m])))) * 2.0 * (maximum(broadcast(1.0), 1e-08)) * Negative electrode exchange-current density [A.m-2] / (Negative electrode exchange-current density [A.m-2] * 2.0) / (96485.33212 * Maximum concentration in negative electrode [mol.m-3] / (Negative electrode exchange-current density [A.m-2] * 2.0 * 3.0 * yz-average(x-average(Negative electrode active material volume fraction)) / yz-average(x-average(Negative particle radius [m]))) / (96485.33212 * Maximum concentration in negative electrode [mol.m-3] * (Negative electrode thickness [m] + Separator thickness [m] + Positive electrode thickness [m]) / absolute(Typical current [A] / (Number of electrodes connected in parallel to make a cell * Electrode width [m] * Electrode height [m])))) * sinh((Negative electrode electrons in reaction / (2.0 + 2.0 * (1.0 / Reference temperature [K]) * (Ambient temperature [K] - Reference temperature [K]))) * (Negative electrode potential - Negative electrolyte potential - ((Negative electrode OCP [V] + 1e-06 * 1.0 / (maximum(minimum(boundary value(Negative particle concentration), 0.9999999999), 1e-10)) + 1e-06 * 1.0 / ((maximum(minimum(boundary value(Negative particle concentration), 0.9999999999), 1e-10)) - 1.0) + (Ambient temperature [K] - Reference temperature [K] + Reference temperature [K] - Reference temperature [K]) * Negative electrode OCP entropic change [V.K-1] - (Negative electrode OCP [V] + 1e-06 * 1.0 / (maximum(minimum(yz-average(x-average(r-average(Initial concentration in negative electrode [mol.m-3] / Maximum concentration in negative electrode [mol.m-3]))), 0.9999999999), 1e-10)) + 1e-06 * 1.0 / ((maximum(minimum(yz-average(x-average(r-average(Initial concentration in negative electrode [mol.m-3] / Maximum concentration in negative electrode [mol.m-3]))), 0.9999999999), 1e-10)) - 1.0))) / (8.617333262281981e-05 * Reference temperature [K])))), broadcast(0.0), (3.0 * Positive electrode active material volume fraction / Positive particle radius [m] / (3.0 * yz-average(x-average(Positive electrode active material volume fraction)) / yz-average(x-average(Positive particle radius [m])))) * 2.0 * (maximum(broadcast(1.0), 1e-08)) * (Maximum concentration in positive electrode [mol.m-3] / Maximum concentration in negative electrode [mol.m-3]) * Positive electrode exchange-current density [A.m-2] / (Positive electrode exchange-current density [A.m-2] * 2.0) / (96485.33212 * Maximum concentration in positive electrode [mol.m-3] / (Positive electrode exchange-current density [A.m-2] * 2.0 * 3.0 * yz-average(x-average(Positive electrode active material volume fraction)) / yz-average(x-average(Positive particle radius [m]))) / (96485.33212 * Maximum concentration in negative electrode [mol.m-3] * (Negative electrode thickness [m] + Separator thickness [m] + Positive electrode thickness [m]) / absolute(Typical current [A] / (Number of electrodes connected in parallel to make a cell * Electrode width [m] * Electrode height [m])))) * sinh((Positive electrode electrons in reaction / (2.0 + 2.0 * (1.0 / Reference temperature [K]) * (Ambient temperature [K] - Reference temperature [K]))) * (Positive electrode potential - Positive electrolyte potential - ((Positive electrode OCP [V] + 1e-06 * 1.0 / (maximum(minimum(boundary value(Positive particle concentration), 0.9999999999), 1e-10)) + 1e-06 * 1.0 / ((maximum(minimum(boundary value(Positive particle concentration), 0.9999999999), 1e-10)) - 1.0) + (Ambient temperature [K] - Reference temperature [K] + Reference temperature [K] - Reference temperature [K]) * Positive electrode OCP entropic change [V.K-1] - (Positive electrode OCP [V] + 1e-06 * 1.0 / (maximum(minimum(yz-average(x-average(r-average(Initial concentration in positive electrode [mol.m-3] / Maximum concentration in positive electrode [mol.m-3]))), 0.9999999999), 1e-10)) + 1e-06 * 1.0 / ((maximum(minimum(yz-average(x-average(r-average(Initial concentration in positive electrode [mol.m-3] / Maximum concentration in positive electrode [mol.m-3]))), 0.9999999999), 1e-10)) - 1.0))) / (8.617333262281981e-05 * Reference temperature [K]))))) / (Typical electrolyte concentration [mol.m-3] / Maximum concentration in negative electrode [mol.m-3])'], domains={'primary': ['negative electrode', 'separator', 'positive electrode'], 'secondary': ['current collector']})",
      "\nDuring handling of the above exception, another exception occurred:\n",
      "\u001b[1;31mKeyError\u001b[0m                                  Traceback (most recent call last)",
      "File \u001b[1;32md:\\phd model acer\\envecdrag\\pybamm-gem\\pybamm\\parameters\\parameter_values.py:570\u001b[0m, in \u001b[0;36mParameterValues.process_symbol\u001b[1;34m(self, symbol)\u001b[0m\n\u001b[0;32m    567\u001b[0m \u001b[39mtry\u001b[39;00m:\n\u001b[0;32m    568\u001b[0m     \u001b[39m#print(type(symbol));# Mark Ruihe debug\u001b[39;00m\n\u001b[0;32m    569\u001b[0m     \u001b[39m#print(symbol) # Mark Ruihe debug\u001b[39;00m\n\u001b[1;32m--> 570\u001b[0m     \u001b[39mreturn\u001b[39;00m \u001b[39mself\u001b[39;49m\u001b[39m.\u001b[39;49m_processed_symbols[symbol]\n\u001b[0;32m    571\u001b[0m \u001b[39mexcept\u001b[39;00m \u001b[39mKeyError\u001b[39;00m:\n",
      "\u001b[1;31mKeyError\u001b[0m: Division(0x4260ba04f222f23f, /, children=['-div(-concatenation(Negative electrode porosity ** Negative electrode Bruggeman coefficient (electrolyte), Separator porosity ** Separator Bruggeman coefficient (electrolyte), Positive electrode porosity ** Positive electrode Bruggeman coefficient (electrolyte)) * Electrolyte diffusivity [m2.s-1] / Electrolyte diffusivity [m2.s-1] * grad(concatenation(Negative electrode porosity times concentration / Negative electrode porosity, Separator porosity times concentration / Separator porosity, Positive electrode porosity times concentration / Positive electrode porosity)) + (((Negative electrode thickness [m] + Separator thickness [m] + Positive electrode thickness [m]) ** 2.0) / Electrolyte diffusivity [m2.s-1] / (96485.33212 * Maximum concentration in negative electrode [mol.m-3] * (Negative electrode thickness [m] + Separator thickness [m] + Positive electrode thickness [m]) / absolute(Typical current [A] / (Number of electrodes connected in parallel to make a cell * Electrode width [m] * Electrode height [m])))) * Cation transference number * ((Electrolyte conductivity [S.m-1] / (9309419314.306705 * Electrolyte diffusivity [m2.s-1] * Typical electrolyte concentration [mol.m-3] / (8.314462618 * Reference temperature [K]))) * concatenation(Negative electrode porosity ** Negative electrode Bruggeman coefficient (electrolyte), Separator porosity ** Separator Bruggeman coefficient (electrolyte), Positive electrode porosity ** Positive electrode Bruggeman coefficient (electrolyte)) * Typical electrolyte concentration [mol.m-3] / Maximum concentration in negative electrode [mol.m-3] / (((Negative electrode thickness [m] + Separator thickness [m] + Positive electrode thickness [m]) ** 2.0) / Electrolyte diffusivity [m2.s-1] / (96485.33212 * Maximum concentration in negative electrode [mol.m-3] * (Negative electrode thickness [m] + Separator thickness [m] + Positive electrode thickness [m]) / absolute(Typical current [A] / (Number of electrodes connected in parallel to make a cell * Electrode width [m] * Electrode height [m]))))) * (((((2.0 - (2.0 * Cation transference number)) * 1 + dlnf/dlnc + (2.0 - (2.0 * Cation transference number)) * 1 + dlnf/dlnc * (1.0 / Reference temperature [K]) * (Ambient temperature [K] - Reference temperature [K])) / (maximum(concatenation(Negative electrode porosity times concentration / Negative electrode porosity, Separator porosity times concentration / Separator porosity, Positive electrode porosity times concentration / Positive electrode porosity), 0.01))) * grad(concatenation(Negative electrode porosity times concentration / Negative electrode porosity, Separator porosity times concentration / Separator porosity, Positive electrode porosity times concentration / Positive electrode porosity))) - grad(Electrolyte potential(Negative electrolyte potential, Separator electrolyte potential, Positive electrolyte potential))) / (Typical electrolyte concentration [mol.m-3] / Maximum concentration in negative electrode [mol.m-3]))', '((Negative electrode thickness [m] + Separator thickness [m] + Positive electrode thickness [m]) ** 2.0) / Electrolyte diffusivity [m2.s-1] / (96485.33212 * Maximum concentration in negative electrode [mol.m-3] * (Negative electrode thickness [m] + Separator thickness [m] + Positive electrode thickness [m]) / absolute(Typical current [A] / (Number of electrodes connected in parallel to make a cell * Electrode width [m] * Electrode height [m])))'], domains={'primary': ['negative electrode', 'separator', 'positive electrode'], 'secondary': ['current collector']})",
      "\nDuring handling of the above exception, another exception occurred:\n",
      "\u001b[1;31mKeyError\u001b[0m                                  Traceback (most recent call last)",
      "File \u001b[1;32md:\\phd model acer\\envecdrag\\pybamm-gem\\pybamm\\parameters\\parameter_values.py:570\u001b[0m, in \u001b[0;36mParameterValues.process_symbol\u001b[1;34m(self, symbol)\u001b[0m\n\u001b[0;32m    567\u001b[0m \u001b[39mtry\u001b[39;00m:\n\u001b[0;32m    568\u001b[0m     \u001b[39m#print(type(symbol));# Mark Ruihe debug\u001b[39;00m\n\u001b[0;32m    569\u001b[0m     \u001b[39m#print(symbol) # Mark Ruihe debug\u001b[39;00m\n\u001b[1;32m--> 570\u001b[0m     \u001b[39mreturn\u001b[39;00m \u001b[39mself\u001b[39;49m\u001b[39m.\u001b[39;49m_processed_symbols[symbol]\n\u001b[0;32m    571\u001b[0m \u001b[39mexcept\u001b[39;00m \u001b[39mKeyError\u001b[39;00m:\n",
      "\u001b[1;31mKeyError\u001b[0m: Negate(0x5ae2eb77d1ed1f99, -, children=['div(-concatenation(Negative electrode porosity ** Negative electrode Bruggeman coefficient (electrolyte), Separator porosity ** Separator Bruggeman coefficient (electrolyte), Positive electrode porosity ** Positive electrode Bruggeman coefficient (electrolyte)) * Electrolyte diffusivity [m2.s-1] / Electrolyte diffusivity [m2.s-1] * grad(concatenation(Negative electrode porosity times concentration / Negative electrode porosity, Separator porosity times concentration / Separator porosity, Positive electrode porosity times concentration / Positive electrode porosity)) + (((Negative electrode thickness [m] + Separator thickness [m] + Positive electrode thickness [m]) ** 2.0) / Electrolyte diffusivity [m2.s-1] / (96485.33212 * Maximum concentration in negative electrode [mol.m-3] * (Negative electrode thickness [m] + Separator thickness [m] + Positive electrode thickness [m]) / absolute(Typical current [A] / (Number of electrodes connected in parallel to make a cell * Electrode width [m] * Electrode height [m])))) * Cation transference number * ((Electrolyte conductivity [S.m-1] / (9309419314.306705 * Electrolyte diffusivity [m2.s-1] * Typical electrolyte concentration [mol.m-3] / (8.314462618 * Reference temperature [K]))) * concatenation(Negative electrode porosity ** Negative electrode Bruggeman coefficient (electrolyte), Separator porosity ** Separator Bruggeman coefficient (electrolyte), Positive electrode porosity ** Positive electrode Bruggeman coefficient (electrolyte)) * Typical electrolyte concentration [mol.m-3] / Maximum concentration in negative electrode [mol.m-3] / (((Negative electrode thickness [m] + Separator thickness [m] + Positive electrode thickness [m]) ** 2.0) / Electrolyte diffusivity [m2.s-1] / (96485.33212 * Maximum concentration in negative electrode [mol.m-3] * (Negative electrode thickness [m] + Separator thickness [m] + Positive electrode thickness [m]) / absolute(Typical current [A] / (Number of electrodes connected in parallel to make a cell * Electrode width [m] * Electrode height [m]))))) * (((((2.0 - (2.0 * Cation transference number)) * 1 + dlnf/dlnc + (2.0 - (2.0 * Cation transference number)) * 1 + dlnf/dlnc * (1.0 / Reference temperature [K]) * (Ambient temperature [K] - Reference temperature [K])) / (maximum(concatenation(Negative electrode porosity times concentration / Negative electrode porosity, Separator porosity times concentration / Separator porosity, Positive electrode porosity times concentration / Positive electrode porosity), 0.01))) * grad(concatenation(Negative electrode porosity times concentration / Negative electrode porosity, Separator porosity times concentration / Separator porosity, Positive electrode porosity times concentration / Positive electrode porosity))) - grad(Electrolyte potential(Negative electrolyte potential, Separator electrolyte potential, Positive electrolyte potential))) / (Typical electrolyte concentration [mol.m-3] / Maximum concentration in negative electrode [mol.m-3]))'], domains={'primary': ['negative electrode', 'separator', 'positive electrode'], 'secondary': ['current collector']})",
      "\nDuring handling of the above exception, another exception occurred:\n",
      "\u001b[1;31mKeyError\u001b[0m                                  Traceback (most recent call last)",
      "File \u001b[1;32md:\\phd model acer\\envecdrag\\pybamm-gem\\pybamm\\parameters\\parameter_values.py:570\u001b[0m, in \u001b[0;36mParameterValues.process_symbol\u001b[1;34m(self, symbol)\u001b[0m\n\u001b[0;32m    567\u001b[0m \u001b[39mtry\u001b[39;00m:\n\u001b[0;32m    568\u001b[0m     \u001b[39m#print(type(symbol));# Mark Ruihe debug\u001b[39;00m\n\u001b[0;32m    569\u001b[0m     \u001b[39m#print(symbol) # Mark Ruihe debug\u001b[39;00m\n\u001b[1;32m--> 570\u001b[0m     \u001b[39mreturn\u001b[39;00m \u001b[39mself\u001b[39;49m\u001b[39m.\u001b[39;49m_processed_symbols[symbol]\n\u001b[0;32m    571\u001b[0m \u001b[39mexcept\u001b[39;00m \u001b[39mKeyError\u001b[39;00m:\n",
      "\u001b[1;31mKeyError\u001b[0m: Divergence(-0x1057ff6322a70c05, div, children=['-concatenation(Negative electrode porosity ** Negative electrode Bruggeman coefficient (electrolyte), Separator porosity ** Separator Bruggeman coefficient (electrolyte), Positive electrode porosity ** Positive electrode Bruggeman coefficient (electrolyte)) * Electrolyte diffusivity [m2.s-1] / Electrolyte diffusivity [m2.s-1] * grad(concatenation(Negative electrode porosity times concentration / Negative electrode porosity, Separator porosity times concentration / Separator porosity, Positive electrode porosity times concentration / Positive electrode porosity)) + (((Negative electrode thickness [m] + Separator thickness [m] + Positive electrode thickness [m]) ** 2.0) / Electrolyte diffusivity [m2.s-1] / (96485.33212 * Maximum concentration in negative electrode [mol.m-3] * (Negative electrode thickness [m] + Separator thickness [m] + Positive electrode thickness [m]) / absolute(Typical current [A] / (Number of electrodes connected in parallel to make a cell * Electrode width [m] * Electrode height [m])))) * Cation transference number * ((Electrolyte conductivity [S.m-1] / (9309419314.306705 * Electrolyte diffusivity [m2.s-1] * Typical electrolyte concentration [mol.m-3] / (8.314462618 * Reference temperature [K]))) * concatenation(Negative electrode porosity ** Negative electrode Bruggeman coefficient (electrolyte), Separator porosity ** Separator Bruggeman coefficient (electrolyte), Positive electrode porosity ** Positive electrode Bruggeman coefficient (electrolyte)) * Typical electrolyte concentration [mol.m-3] / Maximum concentration in negative electrode [mol.m-3] / (((Negative electrode thickness [m] + Separator thickness [m] + Positive electrode thickness [m]) ** 2.0) / Electrolyte diffusivity [m2.s-1] / (96485.33212 * Maximum concentration in negative electrode [mol.m-3] * (Negative electrode thickness [m] + Separator thickness [m] + Positive electrode thickness [m]) / absolute(Typical current [A] / (Number of electrodes connected in parallel to make a cell * Electrode width [m] * Electrode height [m]))))) * (((((2.0 - (2.0 * Cation transference number)) * 1 + dlnf/dlnc + (2.0 - (2.0 * Cation transference number)) * 1 + dlnf/dlnc * (1.0 / Reference temperature [K]) * (Ambient temperature [K] - Reference temperature [K])) / (maximum(concatenation(Negative electrode porosity times concentration / Negative electrode porosity, Separator porosity times concentration / Separator porosity, Positive electrode porosity times concentration / Positive electrode porosity), 0.01))) * grad(concatenation(Negative electrode porosity times concentration / Negative electrode porosity, Separator porosity times concentration / Separator porosity, Positive electrode porosity times concentration / Positive electrode porosity))) - grad(Electrolyte potential(Negative electrolyte potential, Separator electrolyte potential, Positive electrolyte potential))) / (Typical electrolyte concentration [mol.m-3] / Maximum concentration in negative electrode [mol.m-3])'], domains={'primary': ['negative electrode', 'separator', 'positive electrode'], 'secondary': ['current collector']})",
      "\nDuring handling of the above exception, another exception occurred:\n",
      "\u001b[1;31mKeyError\u001b[0m                                  Traceback (most recent call last)",
      "File \u001b[1;32md:\\phd model acer\\envecdrag\\pybamm-gem\\pybamm\\parameters\\parameter_values.py:570\u001b[0m, in \u001b[0;36mParameterValues.process_symbol\u001b[1;34m(self, symbol)\u001b[0m\n\u001b[0;32m    567\u001b[0m \u001b[39mtry\u001b[39;00m:\n\u001b[0;32m    568\u001b[0m     \u001b[39m#print(type(symbol));# Mark Ruihe debug\u001b[39;00m\n\u001b[0;32m    569\u001b[0m     \u001b[39m#print(symbol) # Mark Ruihe debug\u001b[39;00m\n\u001b[1;32m--> 570\u001b[0m     \u001b[39mreturn\u001b[39;00m \u001b[39mself\u001b[39;49m\u001b[39m.\u001b[39;49m_processed_symbols[symbol]\n\u001b[0;32m    571\u001b[0m \u001b[39mexcept\u001b[39;00m \u001b[39mKeyError\u001b[39;00m:\n",
      "\u001b[1;31mKeyError\u001b[0m: Addition(-0x70ce814f3a6451f6, +, children=['-concatenation(Negative electrode porosity ** Negative electrode Bruggeman coefficient (electrolyte), Separator porosity ** Separator Bruggeman coefficient (electrolyte), Positive electrode porosity ** Positive electrode Bruggeman coefficient (electrolyte)) * Electrolyte diffusivity [m2.s-1] / Electrolyte diffusivity [m2.s-1] * grad(concatenation(Negative electrode porosity times concentration / Negative electrode porosity, Separator porosity times concentration / Separator porosity, Positive electrode porosity times concentration / Positive electrode porosity))', '(((Negative electrode thickness [m] + Separator thickness [m] + Positive electrode thickness [m]) ** 2.0) / Electrolyte diffusivity [m2.s-1] / (96485.33212 * Maximum concentration in negative electrode [mol.m-3] * (Negative electrode thickness [m] + Separator thickness [m] + Positive electrode thickness [m]) / absolute(Typical current [A] / (Number of electrodes connected in parallel to make a cell * Electrode width [m] * Electrode height [m])))) * Cation transference number * ((Electrolyte conductivity [S.m-1] / (9309419314.306705 * Electrolyte diffusivity [m2.s-1] * Typical electrolyte concentration [mol.m-3] / (8.314462618 * Reference temperature [K]))) * concatenation(Negative electrode porosity ** Negative electrode Bruggeman coefficient (electrolyte), Separator porosity ** Separator Bruggeman coefficient (electrolyte), Positive electrode porosity ** Positive electrode Bruggeman coefficient (electrolyte)) * Typical electrolyte concentration [mol.m-3] / Maximum concentration in negative electrode [mol.m-3] / (((Negative electrode thickness [m] + Separator thickness [m] + Positive electrode thickness [m]) ** 2.0) / Electrolyte diffusivity [m2.s-1] / (96485.33212 * Maximum concentration in negative electrode [mol.m-3] * (Negative electrode thickness [m] + Separator thickness [m] + Positive electrode thickness [m]) / absolute(Typical current [A] / (Number of electrodes connected in parallel to make a cell * Electrode width [m] * Electrode height [m]))))) * (((((2.0 - (2.0 * Cation transference number)) * 1 + dlnf/dlnc + (2.0 - (2.0 * Cation transference number)) * 1 + dlnf/dlnc * (1.0 / Reference temperature [K]) * (Ambient temperature [K] - Reference temperature [K])) / (maximum(concatenation(Negative electrode porosity times concentration / Negative electrode porosity, Separator porosity times concentration / Separator porosity, Positive electrode porosity times concentration / Positive electrode porosity), 0.01))) * grad(concatenation(Negative electrode porosity times concentration / Negative electrode porosity, Separator porosity times concentration / Separator porosity, Positive electrode porosity times concentration / Positive electrode porosity))) - grad(Electrolyte potential(Negative electrolyte potential, Separator electrolyte potential, Positive electrolyte potential))) / (Typical electrolyte concentration [mol.m-3] / Maximum concentration in negative electrode [mol.m-3])'], domains={'primary': ['negative electrode', 'separator', 'positive electrode'], 'secondary': ['current collector']})",
      "\nDuring handling of the above exception, another exception occurred:\n",
      "\u001b[1;31mKeyError\u001b[0m                                  Traceback (most recent call last)",
      "File \u001b[1;32md:\\phd model acer\\envecdrag\\pybamm-gem\\pybamm\\parameters\\parameter_values.py:570\u001b[0m, in \u001b[0;36mParameterValues.process_symbol\u001b[1;34m(self, symbol)\u001b[0m\n\u001b[0;32m    567\u001b[0m \u001b[39mtry\u001b[39;00m:\n\u001b[0;32m    568\u001b[0m     \u001b[39m#print(type(symbol));# Mark Ruihe debug\u001b[39;00m\n\u001b[0;32m    569\u001b[0m     \u001b[39m#print(symbol) # Mark Ruihe debug\u001b[39;00m\n\u001b[1;32m--> 570\u001b[0m     \u001b[39mreturn\u001b[39;00m \u001b[39mself\u001b[39;49m\u001b[39m.\u001b[39;49m_processed_symbols[symbol]\n\u001b[0;32m    571\u001b[0m \u001b[39mexcept\u001b[39;00m \u001b[39mKeyError\u001b[39;00m:\n",
      "\u001b[1;31mKeyError\u001b[0m: Division(0x1dc6c920bd06795e, /, children=['(((Negative electrode thickness [m] + Separator thickness [m] + Positive electrode thickness [m]) ** 2.0) / Electrolyte diffusivity [m2.s-1] / (96485.33212 * Maximum concentration in negative electrode [mol.m-3] * (Negative electrode thickness [m] + Separator thickness [m] + Positive electrode thickness [m]) / absolute(Typical current [A] / (Number of electrodes connected in parallel to make a cell * Electrode width [m] * Electrode height [m])))) * Cation transference number * ((Electrolyte conductivity [S.m-1] / (9309419314.306705 * Electrolyte diffusivity [m2.s-1] * Typical electrolyte concentration [mol.m-3] / (8.314462618 * Reference temperature [K]))) * concatenation(Negative electrode porosity ** Negative electrode Bruggeman coefficient (electrolyte), Separator porosity ** Separator Bruggeman coefficient (electrolyte), Positive electrode porosity ** Positive electrode Bruggeman coefficient (electrolyte)) * Typical electrolyte concentration [mol.m-3] / Maximum concentration in negative electrode [mol.m-3] / (((Negative electrode thickness [m] + Separator thickness [m] + Positive electrode thickness [m]) ** 2.0) / Electrolyte diffusivity [m2.s-1] / (96485.33212 * Maximum concentration in negative electrode [mol.m-3] * (Negative electrode thickness [m] + Separator thickness [m] + Positive electrode thickness [m]) / absolute(Typical current [A] / (Number of electrodes connected in parallel to make a cell * Electrode width [m] * Electrode height [m]))))) * (((((2.0 - (2.0 * Cation transference number)) * 1 + dlnf/dlnc + (2.0 - (2.0 * Cation transference number)) * 1 + dlnf/dlnc * (1.0 / Reference temperature [K]) * (Ambient temperature [K] - Reference temperature [K])) / (maximum(concatenation(Negative electrode porosity times concentration / Negative electrode porosity, Separator porosity times concentration / Separator porosity, Positive electrode porosity times concentration / Positive electrode porosity), 0.01))) * grad(concatenation(Negative electrode porosity times concentration / Negative electrode porosity, Separator porosity times concentration / Separator porosity, Positive electrode porosity times concentration / Positive electrode porosity))) - grad(Electrolyte potential(Negative electrolyte potential, Separator electrolyte potential, Positive electrolyte potential)))', 'Typical electrolyte concentration [mol.m-3] / Maximum concentration in negative electrode [mol.m-3]'], domains={'primary': ['negative electrode', 'separator', 'positive electrode'], 'secondary': ['current collector']})",
      "\nDuring handling of the above exception, another exception occurred:\n",
      "\u001b[1;31mKeyError\u001b[0m                                  Traceback (most recent call last)",
      "File \u001b[1;32md:\\phd model acer\\envecdrag\\pybamm-gem\\pybamm\\parameters\\parameter_values.py:570\u001b[0m, in \u001b[0;36mParameterValues.process_symbol\u001b[1;34m(self, symbol)\u001b[0m\n\u001b[0;32m    567\u001b[0m \u001b[39mtry\u001b[39;00m:\n\u001b[0;32m    568\u001b[0m     \u001b[39m#print(type(symbol));# Mark Ruihe debug\u001b[39;00m\n\u001b[0;32m    569\u001b[0m     \u001b[39m#print(symbol) # Mark Ruihe debug\u001b[39;00m\n\u001b[1;32m--> 570\u001b[0m     \u001b[39mreturn\u001b[39;00m \u001b[39mself\u001b[39;49m\u001b[39m.\u001b[39;49m_processed_symbols[symbol]\n\u001b[0;32m    571\u001b[0m \u001b[39mexcept\u001b[39;00m \u001b[39mKeyError\u001b[39;00m:\n",
      "\u001b[1;31mKeyError\u001b[0m: Multiplication(-0x3bca0189e52a0836, *, children=['(((Negative electrode thickness [m] + Separator thickness [m] + Positive electrode thickness [m]) ** 2.0) / Electrolyte diffusivity [m2.s-1] / (96485.33212 * Maximum concentration in negative electrode [mol.m-3] * (Negative electrode thickness [m] + Separator thickness [m] + Positive electrode thickness [m]) / absolute(Typical current [A] / (Number of electrodes connected in parallel to make a cell * Electrode width [m] * Electrode height [m])))) * Cation transference number', '((Electrolyte conductivity [S.m-1] / (9309419314.306705 * Electrolyte diffusivity [m2.s-1] * Typical electrolyte concentration [mol.m-3] / (8.314462618 * Reference temperature [K]))) * concatenation(Negative electrode porosity ** Negative electrode Bruggeman coefficient (electrolyte), Separator porosity ** Separator Bruggeman coefficient (electrolyte), Positive electrode porosity ** Positive electrode Bruggeman coefficient (electrolyte)) * Typical electrolyte concentration [mol.m-3] / Maximum concentration in negative electrode [mol.m-3] / (((Negative electrode thickness [m] + Separator thickness [m] + Positive electrode thickness [m]) ** 2.0) / Electrolyte diffusivity [m2.s-1] / (96485.33212 * Maximum concentration in negative electrode [mol.m-3] * (Negative electrode thickness [m] + Separator thickness [m] + Positive electrode thickness [m]) / absolute(Typical current [A] / (Number of electrodes connected in parallel to make a cell * Electrode width [m] * Electrode height [m]))))) * (((((2.0 - (2.0 * Cation transference number)) * 1 + dlnf/dlnc + (2.0 - (2.0 * Cation transference number)) * 1 + dlnf/dlnc * (1.0 / Reference temperature [K]) * (Ambient temperature [K] - Reference temperature [K])) / (maximum(concatenation(Negative electrode porosity times concentration / Negative electrode porosity, Separator porosity times concentration / Separator porosity, Positive electrode porosity times concentration / Positive electrode porosity), 0.01))) * grad(concatenation(Negative electrode porosity times concentration / Negative electrode porosity, Separator porosity times concentration / Separator porosity, Positive electrode porosity times concentration / Positive electrode porosity))) - grad(Electrolyte potential(Negative electrolyte potential, Separator electrolyte potential, Positive electrolyte potential)))'], domains={'primary': ['negative electrode', 'separator', 'positive electrode'], 'secondary': ['current collector']})",
      "\nDuring handling of the above exception, another exception occurred:\n",
      "\u001b[1;31mKeyError\u001b[0m                                  Traceback (most recent call last)",
      "File \u001b[1;32md:\\phd model acer\\envecdrag\\pybamm-gem\\pybamm\\parameters\\parameter_values.py:570\u001b[0m, in \u001b[0;36mParameterValues.process_symbol\u001b[1;34m(self, symbol)\u001b[0m\n\u001b[0;32m    567\u001b[0m \u001b[39mtry\u001b[39;00m:\n\u001b[0;32m    568\u001b[0m     \u001b[39m#print(type(symbol));# Mark Ruihe debug\u001b[39;00m\n\u001b[0;32m    569\u001b[0m     \u001b[39m#print(symbol) # Mark Ruihe debug\u001b[39;00m\n\u001b[1;32m--> 570\u001b[0m     \u001b[39mreturn\u001b[39;00m \u001b[39mself\u001b[39;49m\u001b[39m.\u001b[39;49m_processed_symbols[symbol]\n\u001b[0;32m    571\u001b[0m \u001b[39mexcept\u001b[39;00m \u001b[39mKeyError\u001b[39;00m:\n",
      "\u001b[1;31mKeyError\u001b[0m: Multiplication(0x444c576131d1d7a0, *, children=['(Electrolyte conductivity [S.m-1] / (9309419314.306705 * Electrolyte diffusivity [m2.s-1] * Typical electrolyte concentration [mol.m-3] / (8.314462618 * Reference temperature [K]))) * concatenation(Negative electrode porosity ** Negative electrode Bruggeman coefficient (electrolyte), Separator porosity ** Separator Bruggeman coefficient (electrolyte), Positive electrode porosity ** Positive electrode Bruggeman coefficient (electrolyte)) * Typical electrolyte concentration [mol.m-3] / Maximum concentration in negative electrode [mol.m-3] / (((Negative electrode thickness [m] + Separator thickness [m] + Positive electrode thickness [m]) ** 2.0) / Electrolyte diffusivity [m2.s-1] / (96485.33212 * Maximum concentration in negative electrode [mol.m-3] * (Negative electrode thickness [m] + Separator thickness [m] + Positive electrode thickness [m]) / absolute(Typical current [A] / (Number of electrodes connected in parallel to make a cell * Electrode width [m] * Electrode height [m]))))', '((((2.0 - (2.0 * Cation transference number)) * 1 + dlnf/dlnc + (2.0 - (2.0 * Cation transference number)) * 1 + dlnf/dlnc * (1.0 / Reference temperature [K]) * (Ambient temperature [K] - Reference temperature [K])) / (maximum(concatenation(Negative electrode porosity times concentration / Negative electrode porosity, Separator porosity times concentration / Separator porosity, Positive electrode porosity times concentration / Positive electrode porosity), 0.01))) * grad(concatenation(Negative electrode porosity times concentration / Negative electrode porosity, Separator porosity times concentration / Separator porosity, Positive electrode porosity times concentration / Positive electrode porosity))) - grad(Electrolyte potential(Negative electrolyte potential, Separator electrolyte potential, Positive electrolyte potential))'], domains={'primary': ['negative electrode', 'separator', 'positive electrode'], 'secondary': ['current collector']})",
      "\nDuring handling of the above exception, another exception occurred:\n",
      "\u001b[1;31mKeyError\u001b[0m                                  Traceback (most recent call last)",
      "File \u001b[1;32md:\\phd model acer\\envecdrag\\pybamm-gem\\pybamm\\parameters\\parameter_values.py:570\u001b[0m, in \u001b[0;36mParameterValues.process_symbol\u001b[1;34m(self, symbol)\u001b[0m\n\u001b[0;32m    567\u001b[0m \u001b[39mtry\u001b[39;00m:\n\u001b[0;32m    568\u001b[0m     \u001b[39m#print(type(symbol));# Mark Ruihe debug\u001b[39;00m\n\u001b[0;32m    569\u001b[0m     \u001b[39m#print(symbol) # Mark Ruihe debug\u001b[39;00m\n\u001b[1;32m--> 570\u001b[0m     \u001b[39mreturn\u001b[39;00m \u001b[39mself\u001b[39;49m\u001b[39m.\u001b[39;49m_processed_symbols[symbol]\n\u001b[0;32m    571\u001b[0m \u001b[39mexcept\u001b[39;00m \u001b[39mKeyError\u001b[39;00m:\n",
      "\u001b[1;31mKeyError\u001b[0m: Division(0x59050f291977f843, /, children=['(Electrolyte conductivity [S.m-1] / (9309419314.306705 * Electrolyte diffusivity [m2.s-1] * Typical electrolyte concentration [mol.m-3] / (8.314462618 * Reference temperature [K]))) * concatenation(Negative electrode porosity ** Negative electrode Bruggeman coefficient (electrolyte), Separator porosity ** Separator Bruggeman coefficient (electrolyte), Positive electrode porosity ** Positive electrode Bruggeman coefficient (electrolyte)) * Typical electrolyte concentration [mol.m-3] / Maximum concentration in negative electrode [mol.m-3]', '((Negative electrode thickness [m] + Separator thickness [m] + Positive electrode thickness [m]) ** 2.0) / Electrolyte diffusivity [m2.s-1] / (96485.33212 * Maximum concentration in negative electrode [mol.m-3] * (Negative electrode thickness [m] + Separator thickness [m] + Positive electrode thickness [m]) / absolute(Typical current [A] / (Number of electrodes connected in parallel to make a cell * Electrode width [m] * Electrode height [m])))'], domains={'primary': ['negative electrode', 'separator', 'positive electrode'], 'secondary': ['current collector']})",
      "\nDuring handling of the above exception, another exception occurred:\n",
      "\u001b[1;31mKeyError\u001b[0m                                  Traceback (most recent call last)",
      "File \u001b[1;32md:\\phd model acer\\envecdrag\\pybamm-gem\\pybamm\\parameters\\parameter_values.py:570\u001b[0m, in \u001b[0;36mParameterValues.process_symbol\u001b[1;34m(self, symbol)\u001b[0m\n\u001b[0;32m    567\u001b[0m \u001b[39mtry\u001b[39;00m:\n\u001b[0;32m    568\u001b[0m     \u001b[39m#print(type(symbol));# Mark Ruihe debug\u001b[39;00m\n\u001b[0;32m    569\u001b[0m     \u001b[39m#print(symbol) # Mark Ruihe debug\u001b[39;00m\n\u001b[1;32m--> 570\u001b[0m     \u001b[39mreturn\u001b[39;00m \u001b[39mself\u001b[39;49m\u001b[39m.\u001b[39;49m_processed_symbols[symbol]\n\u001b[0;32m    571\u001b[0m \u001b[39mexcept\u001b[39;00m \u001b[39mKeyError\u001b[39;00m:\n",
      "\u001b[1;31mKeyError\u001b[0m: Multiplication(-0x6dcd7354025eba49, *, children=['(Electrolyte conductivity [S.m-1] / (9309419314.306705 * Electrolyte diffusivity [m2.s-1] * Typical electrolyte concentration [mol.m-3] / (8.314462618 * Reference temperature [K]))) * concatenation(Negative electrode porosity ** Negative electrode Bruggeman coefficient (electrolyte), Separator porosity ** Separator Bruggeman coefficient (electrolyte), Positive electrode porosity ** Positive electrode Bruggeman coefficient (electrolyte))', 'Typical electrolyte concentration [mol.m-3] / Maximum concentration in negative electrode [mol.m-3]'], domains={'primary': ['negative electrode', 'separator', 'positive electrode'], 'secondary': ['current collector']})",
      "\nDuring handling of the above exception, another exception occurred:\n",
      "\u001b[1;31mKeyError\u001b[0m                                  Traceback (most recent call last)",
      "File \u001b[1;32md:\\phd model acer\\envecdrag\\pybamm-gem\\pybamm\\parameters\\parameter_values.py:570\u001b[0m, in \u001b[0;36mParameterValues.process_symbol\u001b[1;34m(self, symbol)\u001b[0m\n\u001b[0;32m    567\u001b[0m \u001b[39mtry\u001b[39;00m:\n\u001b[0;32m    568\u001b[0m     \u001b[39m#print(type(symbol));# Mark Ruihe debug\u001b[39;00m\n\u001b[0;32m    569\u001b[0m     \u001b[39m#print(symbol) # Mark Ruihe debug\u001b[39;00m\n\u001b[1;32m--> 570\u001b[0m     \u001b[39mreturn\u001b[39;00m \u001b[39mself\u001b[39;49m\u001b[39m.\u001b[39;49m_processed_symbols[symbol]\n\u001b[0;32m    571\u001b[0m \u001b[39mexcept\u001b[39;00m \u001b[39mKeyError\u001b[39;00m:\n",
      "\u001b[1;31mKeyError\u001b[0m: Multiplication(0x63f97c0bf80130b1, *, children=['Electrolyte conductivity [S.m-1] / (9309419314.306705 * Electrolyte diffusivity [m2.s-1] * Typical electrolyte concentration [mol.m-3] / (8.314462618 * Reference temperature [K]))', 'concatenation(Negative electrode porosity ** Negative electrode Bruggeman coefficient (electrolyte), Separator porosity ** Separator Bruggeman coefficient (electrolyte), Positive electrode porosity ** Positive electrode Bruggeman coefficient (electrolyte))'], domains={'primary': ['negative electrode', 'separator', 'positive electrode'], 'secondary': ['current collector']})",
      "\nDuring handling of the above exception, another exception occurred:\n",
      "\u001b[1;31mKeyError\u001b[0m                                  Traceback (most recent call last)",
      "File \u001b[1;32md:\\phd model acer\\envecdrag\\pybamm-gem\\pybamm\\parameters\\parameter_values.py:570\u001b[0m, in \u001b[0;36mParameterValues.process_symbol\u001b[1;34m(self, symbol)\u001b[0m\n\u001b[0;32m    567\u001b[0m \u001b[39mtry\u001b[39;00m:\n\u001b[0;32m    568\u001b[0m     \u001b[39m#print(type(symbol));# Mark Ruihe debug\u001b[39;00m\n\u001b[0;32m    569\u001b[0m     \u001b[39m#print(symbol) # Mark Ruihe debug\u001b[39;00m\n\u001b[1;32m--> 570\u001b[0m     \u001b[39mreturn\u001b[39;00m \u001b[39mself\u001b[39;49m\u001b[39m.\u001b[39;49m_processed_symbols[symbol]\n\u001b[0;32m    571\u001b[0m \u001b[39mexcept\u001b[39;00m \u001b[39mKeyError\u001b[39;00m:\n",
      "\u001b[1;31mKeyError\u001b[0m: Division(-0x1f5e5acbdc73029f, /, children=['Electrolyte conductivity [S.m-1]', '9309419314.306705 * Electrolyte diffusivity [m2.s-1] * Typical electrolyte concentration [mol.m-3] / (8.314462618 * Reference temperature [K])'], domains={'primary': ['negative electrode', 'separator', 'positive electrode'], 'secondary': ['current collector']})",
      "\nDuring handling of the above exception, another exception occurred:\n",
      "\u001b[1;31mKeyError\u001b[0m                                  Traceback (most recent call last)",
      "File \u001b[1;32md:\\phd model acer\\envecdrag\\pybamm-gem\\pybamm\\parameters\\parameter_values.py:570\u001b[0m, in \u001b[0;36mParameterValues.process_symbol\u001b[1;34m(self, symbol)\u001b[0m\n\u001b[0;32m    567\u001b[0m \u001b[39mtry\u001b[39;00m:\n\u001b[0;32m    568\u001b[0m     \u001b[39m#print(type(symbol));# Mark Ruihe debug\u001b[39;00m\n\u001b[0;32m    569\u001b[0m     \u001b[39m#print(symbol) # Mark Ruihe debug\u001b[39;00m\n\u001b[1;32m--> 570\u001b[0m     \u001b[39mreturn\u001b[39;00m \u001b[39mself\u001b[39;49m\u001b[39m.\u001b[39;49m_processed_symbols[symbol]\n\u001b[0;32m    571\u001b[0m \u001b[39mexcept\u001b[39;00m \u001b[39mKeyError\u001b[39;00m:\n",
      "\u001b[1;31mKeyError\u001b[0m: FunctionParameter(0x32418281f8b00c58, Electrolyte conductivity [S.m-1], children=['maximum(concatenation(Negative electrode porosity times concentration / Negative electrode porosity, Separator porosity times concentration / Separator porosity, Positive electrode porosity times concentration / Positive electrode porosity) * Typical electrolyte concentration [mol.m-3], 10.0)', 'broadcast(broadcast(Ambient temperature [K] - Reference temperature [K] + Reference temperature [K]))'], domains={'primary': ['negative electrode', 'separator', 'positive electrode'], 'secondary': ['current collector']})",
      "\nDuring handling of the above exception, another exception occurred:\n",
      "\u001b[1;31mNotImplementedError\u001b[0m                       Traceback (most recent call last)",
      "\u001b[1;32md:\\PhD model acer\\envECdrag\\PyBaMM-GEM\\wip\\Rio_Code\\P3_R1\\EC_Drag_debug_0905.ipynb Cell 10\u001b[0m in \u001b[0;36m<cell line: 1>\u001b[1;34m()\u001b[0m\n\u001b[1;32m----> <a href='vscode-notebook-cell:/d%3A/PhD%20model%20acer/envECdrag/PyBaMM-GEM/wip/Rio_Code/P3_R1/EC_Drag_debug_0905.ipynb#X32sZmlsZQ%3D%3D?line=0'>1</a>\u001b[0m Sol_0    \u001b[39m=\u001b[39m Sim_0\u001b[39m.\u001b[39;49msolve()\n",
      "File \u001b[1;32md:\\phd model acer\\envecdrag\\pybamm-gem\\pybamm\\simulation.py:723\u001b[0m, in \u001b[0;36mSimulation.solve\u001b[1;34m(self, t_eval, solver, check_model, save_at_cycles, calc_esoh, starting_solution, initial_soc, callbacks, **kwargs)\u001b[0m\n\u001b[0;32m    721\u001b[0m \u001b[39melif\u001b[39;00m \u001b[39mself\u001b[39m\u001b[39m.\u001b[39moperating_mode \u001b[39m==\u001b[39m \u001b[39m\"\u001b[39m\u001b[39mwith experiment\u001b[39m\u001b[39m\"\u001b[39m:\n\u001b[0;32m    722\u001b[0m     callbacks\u001b[39m.\u001b[39mon_experiment_start(logs)\n\u001b[1;32m--> 723\u001b[0m     \u001b[39mself\u001b[39;49m\u001b[39m.\u001b[39;49mbuild_for_experiment(check_model\u001b[39m=\u001b[39;49mcheck_model)\n\u001b[0;32m    724\u001b[0m     \u001b[39mif\u001b[39;00m t_eval \u001b[39mis\u001b[39;00m \u001b[39mnot\u001b[39;00m \u001b[39mNone\u001b[39;00m:\n\u001b[0;32m    725\u001b[0m         pybamm\u001b[39m.\u001b[39mlogger\u001b[39m.\u001b[39mwarning(\n\u001b[0;32m    726\u001b[0m             \u001b[39m\"\u001b[39m\u001b[39mIgnoring t_eval as solution times are specified by the experiment\u001b[39m\u001b[39m\"\u001b[39m\n\u001b[0;32m    727\u001b[0m         )\n",
      "File \u001b[1;32md:\\phd model acer\\envecdrag\\pybamm-gem\\pybamm\\simulation.py:522\u001b[0m, in \u001b[0;36mSimulation.build_for_experiment\u001b[1;34m(self, check_model)\u001b[0m\n\u001b[0;32m    517\u001b[0m processed_models \u001b[39m=\u001b[39m {}\n\u001b[0;32m    518\u001b[0m \u001b[39mfor\u001b[39;00m op_cond, (\n\u001b[0;32m    519\u001b[0m     unbuilt_model,\n\u001b[0;32m    520\u001b[0m     parameter_values,\n\u001b[0;32m    521\u001b[0m ) \u001b[39min\u001b[39;00m \u001b[39mself\u001b[39m\u001b[39m.\u001b[39mop_conds_to_model_and_param\u001b[39m.\u001b[39mitems():\n\u001b[1;32m--> 522\u001b[0m     model_with_set_params \u001b[39m=\u001b[39m parameter_values\u001b[39m.\u001b[39;49mprocess_model(\n\u001b[0;32m    523\u001b[0m         unbuilt_model, inplace\u001b[39m=\u001b[39;49m\u001b[39mFalse\u001b[39;49;00m\n\u001b[0;32m    524\u001b[0m     )\n\u001b[0;32m    525\u001b[0m     \u001b[39m# It's ok to modify the model with set parameters in place as it's\u001b[39;00m\n\u001b[0;32m    526\u001b[0m     \u001b[39m# not returned anywhere\u001b[39;00m\n\u001b[0;32m    527\u001b[0m     built_model \u001b[39m=\u001b[39m \u001b[39mself\u001b[39m\u001b[39m.\u001b[39m_disc\u001b[39m.\u001b[39mprocess_model(\n\u001b[0;32m    528\u001b[0m         model_with_set_params, inplace\u001b[39m=\u001b[39m\u001b[39mTrue\u001b[39;00m, check_model\u001b[39m=\u001b[39mcheck_model\n\u001b[0;32m    529\u001b[0m     )\n",
      "File \u001b[1;32md:\\phd model acer\\envecdrag\\pybamm-gem\\pybamm\\parameters\\parameter_values.py:405\u001b[0m, in \u001b[0;36mParameterValues.process_model\u001b[1;34m(self, unprocessed_model, inplace)\u001b[0m\n\u001b[0;32m    401\u001b[0m \u001b[39mfor\u001b[39;00m variable, equation \u001b[39min\u001b[39;00m unprocessed_model\u001b[39m.\u001b[39mrhs\u001b[39m.\u001b[39mitems():\n\u001b[0;32m    402\u001b[0m     pybamm\u001b[39m.\u001b[39mlogger\u001b[39m.\u001b[39mverbose(\n\u001b[0;32m    403\u001b[0m         \u001b[39m\"\u001b[39m\u001b[39mProcessing parameters for \u001b[39m\u001b[39m{!r}\u001b[39;00m\u001b[39m (rhs)\u001b[39m\u001b[39m\"\u001b[39m\u001b[39m.\u001b[39mformat(variable)\n\u001b[0;32m    404\u001b[0m     )\n\u001b[1;32m--> 405\u001b[0m     new_rhs[variable] \u001b[39m=\u001b[39m \u001b[39mself\u001b[39;49m\u001b[39m.\u001b[39;49mprocess_symbol(equation)\n\u001b[0;32m    406\u001b[0m model\u001b[39m.\u001b[39mrhs \u001b[39m=\u001b[39m new_rhs\n\u001b[0;32m    408\u001b[0m new_algebraic \u001b[39m=\u001b[39m {}\n",
      "File \u001b[1;32md:\\phd model acer\\envecdrag\\pybamm-gem\\pybamm\\parameters\\parameter_values.py:572\u001b[0m, in \u001b[0;36mParameterValues.process_symbol\u001b[1;34m(self, symbol)\u001b[0m\n\u001b[0;32m    570\u001b[0m     \u001b[39mreturn\u001b[39;00m \u001b[39mself\u001b[39m\u001b[39m.\u001b[39m_processed_symbols[symbol]\n\u001b[0;32m    571\u001b[0m \u001b[39mexcept\u001b[39;00m \u001b[39mKeyError\u001b[39;00m:\n\u001b[1;32m--> 572\u001b[0m     processed_symbol \u001b[39m=\u001b[39m \u001b[39mself\u001b[39;49m\u001b[39m.\u001b[39;49m_process_symbol(symbol)\n\u001b[0;32m    573\u001b[0m     \u001b[39mself\u001b[39m\u001b[39m.\u001b[39m_processed_symbols[symbol] \u001b[39m=\u001b[39m processed_symbol\n\u001b[0;32m    574\u001b[0m     \u001b[39m#print(symbol._print_name)   # Mark Ruihe debug\u001b[39;00m\n",
      "File \u001b[1;32md:\\phd model acer\\envecdrag\\pybamm-gem\\pybamm\\parameters\\parameter_values.py:714\u001b[0m, in \u001b[0;36mParameterValues._process_symbol\u001b[1;34m(self, symbol)\u001b[0m\n\u001b[0;32m    710\u001b[0m     \u001b[39mreturn\u001b[39;00m \u001b[39mself\u001b[39m\u001b[39m.\u001b[39mprocess_symbol(function_out)\n\u001b[0;32m    712\u001b[0m \u001b[39melif\u001b[39;00m \u001b[39misinstance\u001b[39m(symbol, pybamm\u001b[39m.\u001b[39mBinaryOperator):\n\u001b[0;32m    713\u001b[0m     \u001b[39m# process children\u001b[39;00m\n\u001b[1;32m--> 714\u001b[0m     new_left \u001b[39m=\u001b[39m \u001b[39mself\u001b[39;49m\u001b[39m.\u001b[39;49mprocess_symbol(symbol\u001b[39m.\u001b[39;49mleft)\n\u001b[0;32m    715\u001b[0m     new_right \u001b[39m=\u001b[39m \u001b[39mself\u001b[39m\u001b[39m.\u001b[39mprocess_symbol(symbol\u001b[39m.\u001b[39mright)\n\u001b[0;32m    716\u001b[0m     \u001b[39m# make new symbol, ensure domain remains the same\u001b[39;00m\n",
      "File \u001b[1;32md:\\phd model acer\\envecdrag\\pybamm-gem\\pybamm\\parameters\\parameter_values.py:572\u001b[0m, in \u001b[0;36mParameterValues.process_symbol\u001b[1;34m(self, symbol)\u001b[0m\n\u001b[0;32m    570\u001b[0m     \u001b[39mreturn\u001b[39;00m \u001b[39mself\u001b[39m\u001b[39m.\u001b[39m_processed_symbols[symbol]\n\u001b[0;32m    571\u001b[0m \u001b[39mexcept\u001b[39;00m \u001b[39mKeyError\u001b[39;00m:\n\u001b[1;32m--> 572\u001b[0m     processed_symbol \u001b[39m=\u001b[39m \u001b[39mself\u001b[39;49m\u001b[39m.\u001b[39;49m_process_symbol(symbol)\n\u001b[0;32m    573\u001b[0m     \u001b[39mself\u001b[39m\u001b[39m.\u001b[39m_processed_symbols[symbol] \u001b[39m=\u001b[39m processed_symbol\n\u001b[0;32m    574\u001b[0m     \u001b[39m#print(symbol._print_name)   # Mark Ruihe debug\u001b[39;00m\n",
      "File \u001b[1;32md:\\phd model acer\\envecdrag\\pybamm-gem\\pybamm\\parameters\\parameter_values.py:714\u001b[0m, in \u001b[0;36mParameterValues._process_symbol\u001b[1;34m(self, symbol)\u001b[0m\n\u001b[0;32m    710\u001b[0m     \u001b[39mreturn\u001b[39;00m \u001b[39mself\u001b[39m\u001b[39m.\u001b[39mprocess_symbol(function_out)\n\u001b[0;32m    712\u001b[0m \u001b[39melif\u001b[39;00m \u001b[39misinstance\u001b[39m(symbol, pybamm\u001b[39m.\u001b[39mBinaryOperator):\n\u001b[0;32m    713\u001b[0m     \u001b[39m# process children\u001b[39;00m\n\u001b[1;32m--> 714\u001b[0m     new_left \u001b[39m=\u001b[39m \u001b[39mself\u001b[39;49m\u001b[39m.\u001b[39;49mprocess_symbol(symbol\u001b[39m.\u001b[39;49mleft)\n\u001b[0;32m    715\u001b[0m     new_right \u001b[39m=\u001b[39m \u001b[39mself\u001b[39m\u001b[39m.\u001b[39mprocess_symbol(symbol\u001b[39m.\u001b[39mright)\n\u001b[0;32m    716\u001b[0m     \u001b[39m# make new symbol, ensure domain remains the same\u001b[39;00m\n",
      "File \u001b[1;32md:\\phd model acer\\envecdrag\\pybamm-gem\\pybamm\\parameters\\parameter_values.py:572\u001b[0m, in \u001b[0;36mParameterValues.process_symbol\u001b[1;34m(self, symbol)\u001b[0m\n\u001b[0;32m    570\u001b[0m     \u001b[39mreturn\u001b[39;00m \u001b[39mself\u001b[39m\u001b[39m.\u001b[39m_processed_symbols[symbol]\n\u001b[0;32m    571\u001b[0m \u001b[39mexcept\u001b[39;00m \u001b[39mKeyError\u001b[39;00m:\n\u001b[1;32m--> 572\u001b[0m     processed_symbol \u001b[39m=\u001b[39m \u001b[39mself\u001b[39;49m\u001b[39m.\u001b[39;49m_process_symbol(symbol)\n\u001b[0;32m    573\u001b[0m     \u001b[39mself\u001b[39m\u001b[39m.\u001b[39m_processed_symbols[symbol] \u001b[39m=\u001b[39m processed_symbol\n\u001b[0;32m    574\u001b[0m     \u001b[39m#print(symbol._print_name)   # Mark Ruihe debug\u001b[39;00m\n",
      "File \u001b[1;32md:\\phd model acer\\envecdrag\\pybamm-gem\\pybamm\\parameters\\parameter_values.py:723\u001b[0m, in \u001b[0;36mParameterValues._process_symbol\u001b[1;34m(self, symbol)\u001b[0m\n\u001b[0;32m    721\u001b[0m \u001b[39m# Unary operators\u001b[39;00m\n\u001b[0;32m    722\u001b[0m \u001b[39melif\u001b[39;00m \u001b[39misinstance\u001b[39m(symbol, pybamm\u001b[39m.\u001b[39mUnaryOperator):\n\u001b[1;32m--> 723\u001b[0m     new_child \u001b[39m=\u001b[39m \u001b[39mself\u001b[39;49m\u001b[39m.\u001b[39;49mprocess_symbol(symbol\u001b[39m.\u001b[39;49mchild)\n\u001b[0;32m    724\u001b[0m     new_symbol \u001b[39m=\u001b[39m symbol\u001b[39m.\u001b[39m_unary_new_copy(new_child)\n\u001b[0;32m    725\u001b[0m     \u001b[39m# ensure domain remains the same\u001b[39;00m\n",
      "File \u001b[1;32md:\\phd model acer\\envecdrag\\pybamm-gem\\pybamm\\parameters\\parameter_values.py:572\u001b[0m, in \u001b[0;36mParameterValues.process_symbol\u001b[1;34m(self, symbol)\u001b[0m\n\u001b[0;32m    570\u001b[0m     \u001b[39mreturn\u001b[39;00m \u001b[39mself\u001b[39m\u001b[39m.\u001b[39m_processed_symbols[symbol]\n\u001b[0;32m    571\u001b[0m \u001b[39mexcept\u001b[39;00m \u001b[39mKeyError\u001b[39;00m:\n\u001b[1;32m--> 572\u001b[0m     processed_symbol \u001b[39m=\u001b[39m \u001b[39mself\u001b[39;49m\u001b[39m.\u001b[39;49m_process_symbol(symbol)\n\u001b[0;32m    573\u001b[0m     \u001b[39mself\u001b[39m\u001b[39m.\u001b[39m_processed_symbols[symbol] \u001b[39m=\u001b[39m processed_symbol\n\u001b[0;32m    574\u001b[0m     \u001b[39m#print(symbol._print_name)   # Mark Ruihe debug\u001b[39;00m\n",
      "File \u001b[1;32md:\\phd model acer\\envecdrag\\pybamm-gem\\pybamm\\parameters\\parameter_values.py:723\u001b[0m, in \u001b[0;36mParameterValues._process_symbol\u001b[1;34m(self, symbol)\u001b[0m\n\u001b[0;32m    721\u001b[0m \u001b[39m# Unary operators\u001b[39;00m\n\u001b[0;32m    722\u001b[0m \u001b[39melif\u001b[39;00m \u001b[39misinstance\u001b[39m(symbol, pybamm\u001b[39m.\u001b[39mUnaryOperator):\n\u001b[1;32m--> 723\u001b[0m     new_child \u001b[39m=\u001b[39m \u001b[39mself\u001b[39;49m\u001b[39m.\u001b[39;49mprocess_symbol(symbol\u001b[39m.\u001b[39;49mchild)\n\u001b[0;32m    724\u001b[0m     new_symbol \u001b[39m=\u001b[39m symbol\u001b[39m.\u001b[39m_unary_new_copy(new_child)\n\u001b[0;32m    725\u001b[0m     \u001b[39m# ensure domain remains the same\u001b[39;00m\n",
      "File \u001b[1;32md:\\phd model acer\\envecdrag\\pybamm-gem\\pybamm\\parameters\\parameter_values.py:572\u001b[0m, in \u001b[0;36mParameterValues.process_symbol\u001b[1;34m(self, symbol)\u001b[0m\n\u001b[0;32m    570\u001b[0m     \u001b[39mreturn\u001b[39;00m \u001b[39mself\u001b[39m\u001b[39m.\u001b[39m_processed_symbols[symbol]\n\u001b[0;32m    571\u001b[0m \u001b[39mexcept\u001b[39;00m \u001b[39mKeyError\u001b[39;00m:\n\u001b[1;32m--> 572\u001b[0m     processed_symbol \u001b[39m=\u001b[39m \u001b[39mself\u001b[39;49m\u001b[39m.\u001b[39;49m_process_symbol(symbol)\n\u001b[0;32m    573\u001b[0m     \u001b[39mself\u001b[39m\u001b[39m.\u001b[39m_processed_symbols[symbol] \u001b[39m=\u001b[39m processed_symbol\n\u001b[0;32m    574\u001b[0m     \u001b[39m#print(symbol._print_name)   # Mark Ruihe debug\u001b[39;00m\n",
      "File \u001b[1;32md:\\phd model acer\\envecdrag\\pybamm-gem\\pybamm\\parameters\\parameter_values.py:715\u001b[0m, in \u001b[0;36mParameterValues._process_symbol\u001b[1;34m(self, symbol)\u001b[0m\n\u001b[0;32m    712\u001b[0m \u001b[39melif\u001b[39;00m \u001b[39misinstance\u001b[39m(symbol, pybamm\u001b[39m.\u001b[39mBinaryOperator):\n\u001b[0;32m    713\u001b[0m     \u001b[39m# process children\u001b[39;00m\n\u001b[0;32m    714\u001b[0m     new_left \u001b[39m=\u001b[39m \u001b[39mself\u001b[39m\u001b[39m.\u001b[39mprocess_symbol(symbol\u001b[39m.\u001b[39mleft)\n\u001b[1;32m--> 715\u001b[0m     new_right \u001b[39m=\u001b[39m \u001b[39mself\u001b[39;49m\u001b[39m.\u001b[39;49mprocess_symbol(symbol\u001b[39m.\u001b[39;49mright)\n\u001b[0;32m    716\u001b[0m     \u001b[39m# make new symbol, ensure domain remains the same\u001b[39;00m\n\u001b[0;32m    717\u001b[0m     new_symbol \u001b[39m=\u001b[39m symbol\u001b[39m.\u001b[39m_binary_new_copy(new_left, new_right)\n",
      "File \u001b[1;32md:\\phd model acer\\envecdrag\\pybamm-gem\\pybamm\\parameters\\parameter_values.py:572\u001b[0m, in \u001b[0;36mParameterValues.process_symbol\u001b[1;34m(self, symbol)\u001b[0m\n\u001b[0;32m    570\u001b[0m     \u001b[39mreturn\u001b[39;00m \u001b[39mself\u001b[39m\u001b[39m.\u001b[39m_processed_symbols[symbol]\n\u001b[0;32m    571\u001b[0m \u001b[39mexcept\u001b[39;00m \u001b[39mKeyError\u001b[39;00m:\n\u001b[1;32m--> 572\u001b[0m     processed_symbol \u001b[39m=\u001b[39m \u001b[39mself\u001b[39;49m\u001b[39m.\u001b[39;49m_process_symbol(symbol)\n\u001b[0;32m    573\u001b[0m     \u001b[39mself\u001b[39m\u001b[39m.\u001b[39m_processed_symbols[symbol] \u001b[39m=\u001b[39m processed_symbol\n\u001b[0;32m    574\u001b[0m     \u001b[39m#print(symbol._print_name)   # Mark Ruihe debug\u001b[39;00m\n",
      "File \u001b[1;32md:\\phd model acer\\envecdrag\\pybamm-gem\\pybamm\\parameters\\parameter_values.py:714\u001b[0m, in \u001b[0;36mParameterValues._process_symbol\u001b[1;34m(self, symbol)\u001b[0m\n\u001b[0;32m    710\u001b[0m     \u001b[39mreturn\u001b[39;00m \u001b[39mself\u001b[39m\u001b[39m.\u001b[39mprocess_symbol(function_out)\n\u001b[0;32m    712\u001b[0m \u001b[39melif\u001b[39;00m \u001b[39misinstance\u001b[39m(symbol, pybamm\u001b[39m.\u001b[39mBinaryOperator):\n\u001b[0;32m    713\u001b[0m     \u001b[39m# process children\u001b[39;00m\n\u001b[1;32m--> 714\u001b[0m     new_left \u001b[39m=\u001b[39m \u001b[39mself\u001b[39;49m\u001b[39m.\u001b[39;49mprocess_symbol(symbol\u001b[39m.\u001b[39;49mleft)\n\u001b[0;32m    715\u001b[0m     new_right \u001b[39m=\u001b[39m \u001b[39mself\u001b[39m\u001b[39m.\u001b[39mprocess_symbol(symbol\u001b[39m.\u001b[39mright)\n\u001b[0;32m    716\u001b[0m     \u001b[39m# make new symbol, ensure domain remains the same\u001b[39;00m\n",
      "File \u001b[1;32md:\\phd model acer\\envecdrag\\pybamm-gem\\pybamm\\parameters\\parameter_values.py:572\u001b[0m, in \u001b[0;36mParameterValues.process_symbol\u001b[1;34m(self, symbol)\u001b[0m\n\u001b[0;32m    570\u001b[0m     \u001b[39mreturn\u001b[39;00m \u001b[39mself\u001b[39m\u001b[39m.\u001b[39m_processed_symbols[symbol]\n\u001b[0;32m    571\u001b[0m \u001b[39mexcept\u001b[39;00m \u001b[39mKeyError\u001b[39;00m:\n\u001b[1;32m--> 572\u001b[0m     processed_symbol \u001b[39m=\u001b[39m \u001b[39mself\u001b[39;49m\u001b[39m.\u001b[39;49m_process_symbol(symbol)\n\u001b[0;32m    573\u001b[0m     \u001b[39mself\u001b[39m\u001b[39m.\u001b[39m_processed_symbols[symbol] \u001b[39m=\u001b[39m processed_symbol\n\u001b[0;32m    574\u001b[0m     \u001b[39m#print(symbol._print_name)   # Mark Ruihe debug\u001b[39;00m\n",
      "File \u001b[1;32md:\\phd model acer\\envecdrag\\pybamm-gem\\pybamm\\parameters\\parameter_values.py:715\u001b[0m, in \u001b[0;36mParameterValues._process_symbol\u001b[1;34m(self, symbol)\u001b[0m\n\u001b[0;32m    712\u001b[0m \u001b[39melif\u001b[39;00m \u001b[39misinstance\u001b[39m(symbol, pybamm\u001b[39m.\u001b[39mBinaryOperator):\n\u001b[0;32m    713\u001b[0m     \u001b[39m# process children\u001b[39;00m\n\u001b[0;32m    714\u001b[0m     new_left \u001b[39m=\u001b[39m \u001b[39mself\u001b[39m\u001b[39m.\u001b[39mprocess_symbol(symbol\u001b[39m.\u001b[39mleft)\n\u001b[1;32m--> 715\u001b[0m     new_right \u001b[39m=\u001b[39m \u001b[39mself\u001b[39;49m\u001b[39m.\u001b[39;49mprocess_symbol(symbol\u001b[39m.\u001b[39;49mright)\n\u001b[0;32m    716\u001b[0m     \u001b[39m# make new symbol, ensure domain remains the same\u001b[39;00m\n\u001b[0;32m    717\u001b[0m     new_symbol \u001b[39m=\u001b[39m symbol\u001b[39m.\u001b[39m_binary_new_copy(new_left, new_right)\n",
      "File \u001b[1;32md:\\phd model acer\\envecdrag\\pybamm-gem\\pybamm\\parameters\\parameter_values.py:572\u001b[0m, in \u001b[0;36mParameterValues.process_symbol\u001b[1;34m(self, symbol)\u001b[0m\n\u001b[0;32m    570\u001b[0m     \u001b[39mreturn\u001b[39;00m \u001b[39mself\u001b[39m\u001b[39m.\u001b[39m_processed_symbols[symbol]\n\u001b[0;32m    571\u001b[0m \u001b[39mexcept\u001b[39;00m \u001b[39mKeyError\u001b[39;00m:\n\u001b[1;32m--> 572\u001b[0m     processed_symbol \u001b[39m=\u001b[39m \u001b[39mself\u001b[39;49m\u001b[39m.\u001b[39;49m_process_symbol(symbol)\n\u001b[0;32m    573\u001b[0m     \u001b[39mself\u001b[39m\u001b[39m.\u001b[39m_processed_symbols[symbol] \u001b[39m=\u001b[39m processed_symbol\n\u001b[0;32m    574\u001b[0m     \u001b[39m#print(symbol._print_name)   # Mark Ruihe debug\u001b[39;00m\n",
      "File \u001b[1;32md:\\phd model acer\\envecdrag\\pybamm-gem\\pybamm\\parameters\\parameter_values.py:714\u001b[0m, in \u001b[0;36mParameterValues._process_symbol\u001b[1;34m(self, symbol)\u001b[0m\n\u001b[0;32m    710\u001b[0m     \u001b[39mreturn\u001b[39;00m \u001b[39mself\u001b[39m\u001b[39m.\u001b[39mprocess_symbol(function_out)\n\u001b[0;32m    712\u001b[0m \u001b[39melif\u001b[39;00m \u001b[39misinstance\u001b[39m(symbol, pybamm\u001b[39m.\u001b[39mBinaryOperator):\n\u001b[0;32m    713\u001b[0m     \u001b[39m# process children\u001b[39;00m\n\u001b[1;32m--> 714\u001b[0m     new_left \u001b[39m=\u001b[39m \u001b[39mself\u001b[39;49m\u001b[39m.\u001b[39;49mprocess_symbol(symbol\u001b[39m.\u001b[39;49mleft)\n\u001b[0;32m    715\u001b[0m     new_right \u001b[39m=\u001b[39m \u001b[39mself\u001b[39m\u001b[39m.\u001b[39mprocess_symbol(symbol\u001b[39m.\u001b[39mright)\n\u001b[0;32m    716\u001b[0m     \u001b[39m# make new symbol, ensure domain remains the same\u001b[39;00m\n",
      "File \u001b[1;32md:\\phd model acer\\envecdrag\\pybamm-gem\\pybamm\\parameters\\parameter_values.py:572\u001b[0m, in \u001b[0;36mParameterValues.process_symbol\u001b[1;34m(self, symbol)\u001b[0m\n\u001b[0;32m    570\u001b[0m     \u001b[39mreturn\u001b[39;00m \u001b[39mself\u001b[39m\u001b[39m.\u001b[39m_processed_symbols[symbol]\n\u001b[0;32m    571\u001b[0m \u001b[39mexcept\u001b[39;00m \u001b[39mKeyError\u001b[39;00m:\n\u001b[1;32m--> 572\u001b[0m     processed_symbol \u001b[39m=\u001b[39m \u001b[39mself\u001b[39;49m\u001b[39m.\u001b[39;49m_process_symbol(symbol)\n\u001b[0;32m    573\u001b[0m     \u001b[39mself\u001b[39m\u001b[39m.\u001b[39m_processed_symbols[symbol] \u001b[39m=\u001b[39m processed_symbol\n\u001b[0;32m    574\u001b[0m     \u001b[39m#print(symbol._print_name)   # Mark Ruihe debug\u001b[39;00m\n",
      "File \u001b[1;32md:\\phd model acer\\envecdrag\\pybamm-gem\\pybamm\\parameters\\parameter_values.py:714\u001b[0m, in \u001b[0;36mParameterValues._process_symbol\u001b[1;34m(self, symbol)\u001b[0m\n\u001b[0;32m    710\u001b[0m     \u001b[39mreturn\u001b[39;00m \u001b[39mself\u001b[39m\u001b[39m.\u001b[39mprocess_symbol(function_out)\n\u001b[0;32m    712\u001b[0m \u001b[39melif\u001b[39;00m \u001b[39misinstance\u001b[39m(symbol, pybamm\u001b[39m.\u001b[39mBinaryOperator):\n\u001b[0;32m    713\u001b[0m     \u001b[39m# process children\u001b[39;00m\n\u001b[1;32m--> 714\u001b[0m     new_left \u001b[39m=\u001b[39m \u001b[39mself\u001b[39;49m\u001b[39m.\u001b[39;49mprocess_symbol(symbol\u001b[39m.\u001b[39;49mleft)\n\u001b[0;32m    715\u001b[0m     new_right \u001b[39m=\u001b[39m \u001b[39mself\u001b[39m\u001b[39m.\u001b[39mprocess_symbol(symbol\u001b[39m.\u001b[39mright)\n\u001b[0;32m    716\u001b[0m     \u001b[39m# make new symbol, ensure domain remains the same\u001b[39;00m\n",
      "    \u001b[1;31m[... skipping similar frames: ParameterValues.process_symbol at line 572 (3 times), ParameterValues._process_symbol at line 714 (2 times)]\u001b[0m\n",
      "File \u001b[1;32md:\\phd model acer\\envecdrag\\pybamm-gem\\pybamm\\parameters\\parameter_values.py:714\u001b[0m, in \u001b[0;36mParameterValues._process_symbol\u001b[1;34m(self, symbol)\u001b[0m\n\u001b[0;32m    710\u001b[0m     \u001b[39mreturn\u001b[39;00m \u001b[39mself\u001b[39m\u001b[39m.\u001b[39mprocess_symbol(function_out)\n\u001b[0;32m    712\u001b[0m \u001b[39melif\u001b[39;00m \u001b[39misinstance\u001b[39m(symbol, pybamm\u001b[39m.\u001b[39mBinaryOperator):\n\u001b[0;32m    713\u001b[0m     \u001b[39m# process children\u001b[39;00m\n\u001b[1;32m--> 714\u001b[0m     new_left \u001b[39m=\u001b[39m \u001b[39mself\u001b[39;49m\u001b[39m.\u001b[39;49mprocess_symbol(symbol\u001b[39m.\u001b[39;49mleft)\n\u001b[0;32m    715\u001b[0m     new_right \u001b[39m=\u001b[39m \u001b[39mself\u001b[39m\u001b[39m.\u001b[39mprocess_symbol(symbol\u001b[39m.\u001b[39mright)\n\u001b[0;32m    716\u001b[0m     \u001b[39m# make new symbol, ensure domain remains the same\u001b[39;00m\n",
      "File \u001b[1;32md:\\phd model acer\\envecdrag\\pybamm-gem\\pybamm\\parameters\\parameter_values.py:572\u001b[0m, in \u001b[0;36mParameterValues.process_symbol\u001b[1;34m(self, symbol)\u001b[0m\n\u001b[0;32m    570\u001b[0m     \u001b[39mreturn\u001b[39;00m \u001b[39mself\u001b[39m\u001b[39m.\u001b[39m_processed_symbols[symbol]\n\u001b[0;32m    571\u001b[0m \u001b[39mexcept\u001b[39;00m \u001b[39mKeyError\u001b[39;00m:\n\u001b[1;32m--> 572\u001b[0m     processed_symbol \u001b[39m=\u001b[39m \u001b[39mself\u001b[39;49m\u001b[39m.\u001b[39;49m_process_symbol(symbol)\n\u001b[0;32m    573\u001b[0m     \u001b[39mself\u001b[39m\u001b[39m.\u001b[39m_processed_symbols[symbol] \u001b[39m=\u001b[39m processed_symbol\n\u001b[0;32m    574\u001b[0m     \u001b[39m#print(symbol._print_name)   # Mark Ruihe debug\u001b[39;00m\n",
      "File \u001b[1;32md:\\phd model acer\\envecdrag\\pybamm-gem\\pybamm\\parameters\\parameter_values.py:664\u001b[0m, in \u001b[0;36mParameterValues._process_symbol\u001b[1;34m(self, symbol)\u001b[0m\n\u001b[0;32m    661\u001b[0m     function \u001b[39m=\u001b[39m pybamm\u001b[39m.\u001b[39mScalar(function_name, name\u001b[39m=\u001b[39msymbol\u001b[39m.\u001b[39mname)\n\u001b[0;32m    662\u001b[0m \u001b[39melif\u001b[39;00m callable(function_name):\n\u001b[0;32m    663\u001b[0m     \u001b[39m# otherwise evaluate the function to create a new PyBaMM object\u001b[39;00m\n\u001b[1;32m--> 664\u001b[0m     function \u001b[39m=\u001b[39m function_name(\u001b[39m*\u001b[39;49mnew_children)\n\u001b[0;32m    665\u001b[0m     \u001b[39mif\u001b[39;00m (\n\u001b[0;32m    666\u001b[0m         \u001b[39mself\u001b[39m\u001b[39m.\u001b[39m_replace_callable_function_parameters \u001b[39mis\u001b[39;00m \u001b[39mFalse\u001b[39;00m\n\u001b[0;32m    667\u001b[0m         \u001b[39mand\u001b[39;00m \u001b[39mnot\u001b[39;00m \u001b[39misinstance\u001b[39m(\n\u001b[1;32m   (...)\u001b[0m\n\u001b[0;32m    672\u001b[0m     ):\n\u001b[0;32m    673\u001b[0m         \u001b[39m# Special trick for printing in Julia ModelingToolkit format\u001b[39;00m\n\u001b[0;32m    674\u001b[0m         out \u001b[39m=\u001b[39m pybamm\u001b[39m.\u001b[39mFunctionParameter(\n\u001b[0;32m    675\u001b[0m             symbol\u001b[39m.\u001b[39mprint_name, \u001b[39mdict\u001b[39m(\u001b[39mzip\u001b[39m(symbol\u001b[39m.\u001b[39minput_names, new_children))\n\u001b[0;32m    676\u001b[0m         )\n",
      "File \u001b[1;32md:\\phd model acer\\envecdrag\\pybamm-gem\\pybamm\\input\\parameters\\lithium_ion\\electrolytes\\lipf6_Nyman2008_Rio\\electrolyte_conductivity_Nyman2008_Rio.py:25\u001b[0m, in \u001b[0;36melectrolyte_conductivity_Nyman2008_Rio\u001b[1;34m(c_e, T)\u001b[0m\n\u001b[0;32m      2\u001b[0m \u001b[39mdef\u001b[39;00m \u001b[39melectrolyte_conductivity_Nyman2008_Rio\u001b[39m(c_e, T):\n\u001b[0;32m      3\u001b[0m     \u001b[39m\"\"\"\u001b[39;00m\n\u001b[0;32m      4\u001b[0m \u001b[39m    Conductivity of LiPF6 in EC:EMC (3:7) as a function of ion concentration. The data\u001b[39;00m\n\u001b[0;32m      5\u001b[0m \u001b[39m    comes from [1].\u001b[39;00m\n\u001b[1;32m   (...)\u001b[0m\n\u001b[0;32m     23\u001b[0m \u001b[39m        Solid diffusivity\u001b[39;00m\n\u001b[0;32m     24\u001b[0m \u001b[39m    \"\"\"\u001b[39;00m\n\u001b[1;32m---> 25\u001b[0m     \u001b[39mif\u001b[39;00m c_e \u001b[39m<\u001b[39;49m \u001b[39m2000\u001b[39;49m:\n\u001b[0;32m     26\u001b[0m         sigma_e \u001b[39m=\u001b[39m ( \u001b[39m0.1297\u001b[39m \u001b[39m*\u001b[39m (c_e \u001b[39m/\u001b[39m \u001b[39m1000\u001b[39m) \u001b[39m*\u001b[39m\u001b[39m*\u001b[39m \u001b[39m3\u001b[39m \u001b[39m-\u001b[39m \u001b[39m2.51\u001b[39m \u001b[39m*\u001b[39m (c_e \u001b[39m/\u001b[39m \u001b[39m1000\u001b[39m) \u001b[39m*\u001b[39m\u001b[39m*\u001b[39m \u001b[39m1.5\u001b[39m \u001b[39m+\u001b[39m \u001b[39m3.329\u001b[39m \u001b[39m*\u001b[39m (c_e \u001b[39m/\u001b[39m \u001b[39m1000\u001b[39m))\n\u001b[0;32m     27\u001b[0m     \u001b[39melse\u001b[39;00m:\n",
      "File \u001b[1;32md:\\phd model acer\\envecdrag\\pybamm-gem\\pybamm\\expression_tree\\symbol.py:662\u001b[0m, in \u001b[0;36mSymbol.__bool__\u001b[1;34m(self)\u001b[0m\n\u001b[0;32m    659\u001b[0m \u001b[39mdef\u001b[39;00m \u001b[39m__bool__\u001b[39m(\u001b[39mself\u001b[39m):\n\u001b[0;32m    660\u001b[0m     \u001b[39m#print(self._print_name)    # Mark Ruihe debug\u001b[39;00m\n\u001b[0;32m    661\u001b[0m     \u001b[39mprint\u001b[39m(\u001b[39mself\u001b[39m\u001b[39m.\u001b[39m_name)          \u001b[39m# Mark Ruihe debug\u001b[39;00m\n\u001b[1;32m--> 662\u001b[0m     \u001b[39mraise\u001b[39;00m \u001b[39mNotImplementedError\u001b[39;00m(\u001b[39m\"\u001b[39m\u001b[39mBoolean operator not defined for Symbols.\u001b[39m\u001b[39m\"\u001b[39m)\n",
      "\u001b[1;31mNotImplementedError\u001b[0m: Boolean operator not defined for Symbols."
     ]
    }
   ],
   "source": [
    "Sol_0    = Sim_0.solve();"
   ]
  },
  {
   "cell_type": "code",
   "execution_count": null,
   "metadata": {},
   "outputs": [],
   "source": [
    "Model_0.options"
   ]
  },
  {
   "cell_type": "code",
   "execution_count": null,
   "metadata": {},
   "outputs": [],
   "source": [
    "Model_0.variables.search(\"loss of\")"
   ]
  },
  {
   "cell_type": "code",
   "execution_count": null,
   "metadata": {},
   "outputs": [],
   "source": [
    "pybamm.dynamic_plot(\n",
    "    Sol_0,\n",
    "    [\n",
    "        \"Discharge capacity [A.h]\",\n",
    "        \"Terminal voltage [V]\",\n",
    "        \"EC concentration [mol.m-3]\",\n",
    "        \"Electrolyte concentration [mol.m-3]\",\n",
    "        \"SEI interfacial current density [A.m-2]\",\n",
    "        \"Negative electrode interfacial current density [A.m-2]\",\n",
    "        \"Positive electrode interfacial current density [A.m-2]\",\n",
    "        \"Loss of capacity to SEI [A.h]\"\n",
    "    ],\n",
    ")"
   ]
  },
  {
   "cell_type": "code",
   "execution_count": null,
   "metadata": {},
   "outputs": [],
   "source": [
    "quick_plot = pybamm.QuickPlot(Sol_0) #     \n",
    "quick_plot.dynamic_plot();\n"
   ]
  },
  {
   "cell_type": "code",
   "execution_count": null,
   "metadata": {},
   "outputs": [],
   "source": [
    "\"\"\"Check that the model is not under- or over-determined.\"\"\"\n",
    "# Equations (differential and algebraic)\n",
    "# Get all the variables from differential and algebraic equations\n",
    "vars_in_rhs_keys = set()\n",
    "vars_in_algebraic_keys = set()\n",
    "vars_in_eqns = set()\n",
    "# Get all variables ids from rhs and algebraic keys and equations, and\n",
    "# from boundary conditions\n",
    "# For equations we look through the whole expression tree.\n",
    "# \"Variables\" can be Concatenations so we also have to look in the whole\n",
    "# expression tree\n",
    "unpacker = pybamm.SymbolUnpacker((pybamm.Variable, pybamm.VariableDot))\n",
    "\n",
    "for var, eqn in Model_0.rhs.items():\n",
    "    # Find all variables and variabledot objects\n",
    "    vars_in_rhs_keys_dict = unpacker.unpack_symbol(var)\n",
    "    vars_in_eqns_dict = unpacker.unpack_symbol(eqn)\n",
    "\n",
    "    # Store ids only\n",
    "    # Look only for Variable (not VariableDot) in rhs keys\n",
    "    vars_in_rhs_keys.update(\n",
    "        [\n",
    "            var_id\n",
    "            for var_id, var in vars_in_rhs_keys_dict.items()\n",
    "            if isinstance(var, pybamm.Variable)\n",
    "        ]\n",
    "    )\n",
    "    vars_in_eqns.update(vars_in_eqns_dict.keys())\n",
    "for var, eqn in Model_0.algebraic.items():\n",
    "    # Find all variables and variabledot objects\n",
    "    vars_in_algebraic_keys_dict = unpacker.unpack_symbol(var)\n",
    "    vars_in_eqns_dict = unpacker.unpack_symbol(eqn)\n",
    "\n",
    "    # Store ids only\n",
    "    # Look only for Variable (not VariableDot) in algebraic keys\n",
    "    vars_in_algebraic_keys.update(\n",
    "        [\n",
    "            var_id\n",
    "            for var_id, var in vars_in_algebraic_keys_dict.items()\n",
    "            if isinstance(var, pybamm.Variable)\n",
    "        ]\n",
    "    )\n",
    "    vars_in_eqns.update(vars_in_eqns_dict.keys())\n",
    "for var, side_eqn in Model_0.boundary_conditions.items():\n",
    "    for side, (eqn, typ) in side_eqn.items():\n",
    "        vars_in_eqns_dict = unpacker.unpack_symbol(eqn)\n",
    "        vars_in_eqns.update(vars_in_eqns_dict.keys())\n",
    "\n",
    "# If any keys are repeated between rhs and algebraic then the model is\n",
    "# overdetermined\n",
    "if not set(vars_in_rhs_keys).isdisjoint(vars_in_algebraic_keys):\n",
    "    print(\"model is overdetermined (repeated keys)\")\n",
    "# If any algebraic keys don't appear in the eqns (or bcs) then the model is\n",
    "# overdetermined (but rhs keys can be absent from the eqns, e.g. dcdt = -1 is\n",
    "# fine)\n",
    "# Skip this step after discretisation, as any variables in the equations will\n",
    "# have been discretised to slices but keys will still be variables\n",
    "extra_algebraic_keys = vars_in_algebraic_keys.difference(vars_in_eqns)\n",
    "# If any variables in the equations don't appear in the keys then the model is\n",
    "# underdetermined\n",
    "vars_in_keys = vars_in_rhs_keys.union(vars_in_algebraic_keys)\n",
    "extra_variables_in_equations = vars_in_eqns.difference(vars_in_keys)\n",
    "\n",
    "# get ids of external variables\n",
    "external_ids = {var.id for var in Model_0.external_variables}\n",
    "for var in Model_0.external_variables:\n",
    "    if isinstance(var, pybamm.Concatenation):\n",
    "        child_ids = {child.id for child in var.children}\n",
    "        external_ids = external_ids.union(child_ids)\n",
    "\n",
    "extra_variables = extra_variables_in_equations.difference(external_ids)\n",
    "\n",
    "if extra_variables:\n",
    "    print(\"model is underdetermined (too many variables)\")\n"
   ]
  },
  {
   "cell_type": "code",
   "execution_count": null,
   "metadata": {},
   "outputs": [],
   "source": [
    "for var, eqn in Model_0.rhs.items():\n",
    "    # Find all variables and variabledot objects\n",
    "    vars_in_rhs_keys_dict = unpacker.unpack_symbol(var)\n",
    "    vars_in_eqns_dict = unpacker.unpack_symbol(eqn)\n",
    "    print(vars_in_eqns_dict)\n",
    "    print(vars_in_rhs_keys_dict)\n",
    "    print('z')"
   ]
  },
  {
   "cell_type": "code",
   "execution_count": null,
   "metadata": {},
   "outputs": [],
   "source": [
    "for var in Model_0.external_variables:\n",
    "    print(var)"
   ]
  },
  {
   "cell_type": "code",
   "execution_count": null,
   "metadata": {},
   "outputs": [],
   "source": [
    "print(Model_0.variable_names)\n",
    "for key in Model_0._variables.keys():\n",
    "    print(key)"
   ]
  },
  {
   "cell_type": "code",
   "execution_count": null,
   "metadata": {},
   "outputs": [],
   "source": [
    "#print(Model_0.rhs.items())\n",
    "for var, eqn in Model_0.rhs.items():\n",
    "    print(var)\n",
    "    #print(eqn)\n"
   ]
  },
  {
   "cell_type": "code",
   "execution_count": null,
   "metadata": {},
   "outputs": [],
   "source": [
    "for var, eqn in Model_0.algebraic.items():\n",
    "    print(var)"
   ]
  },
  {
   "cell_type": "code",
   "execution_count": null,
   "metadata": {},
   "outputs": [],
   "source": [
    "print(extra_variables_in_equations)\n",
    "print(extra_variables)\n",
    "print(external_ids)"
   ]
  },
  {
   "cell_type": "code",
   "execution_count": null,
   "metadata": {},
   "outputs": [],
   "source": [
    "Model_0.submodels"
   ]
  }
 ],
 "metadata": {
  "kernelspec": {
   "display_name": "Python 3.9.4 ('envECdrag')",
   "language": "python",
   "name": "python3"
  },
  "language_info": {
   "codemirror_mode": {
    "name": "ipython",
    "version": 3
   },
   "file_extension": ".py",
   "mimetype": "text/x-python",
   "name": "python",
   "nbconvert_exporter": "python",
   "pygments_lexer": "ipython3",
   "version": "3.9.4"
  },
  "orig_nbformat": 4,
  "vscode": {
   "interpreter": {
    "hash": "bbe477dd22b81d67e8c3659d09e8d8645a2b2109ce812123ab4a99fd937a7135"
   }
  }
 },
 "nbformat": 4,
 "nbformat_minor": 2
}
