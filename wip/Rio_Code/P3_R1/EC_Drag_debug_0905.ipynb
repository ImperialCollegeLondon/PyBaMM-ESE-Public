{
 "cells": [
  {
   "cell_type": "code",
   "execution_count": 1,
   "metadata": {},
   "outputs": [],
   "source": [
    "# This file aims to debug the newly created solvent diffusion model with EC drag (add one submodel variable for EC concentration)"
   ]
  },
  {
   "cell_type": "code",
   "execution_count": 2,
   "metadata": {},
   "outputs": [],
   "source": [
    "import pybamm as pybamm;import pandas as pd   ;import numpy as np;import os;import matplotlib.pyplot as plt;import os;import imageio\n",
    "from scipy.io import savemat,loadmat;from pybamm import constants,exp;import matplotlib as mpl; fs=17; # or we can set import matplotlib.pyplot as plt then say 'mpl.rc...'\n",
    "for k in range(0,1):\n",
    "    mpl.rcParams[\"axes.labelsize\"] = fs\n",
    "    mpl.rcParams[\"axes.titlesize\"] = fs\n",
    "    mpl.rcParams[\"xtick.labelsize\"] =  fs\n",
    "    mpl.rcParams[\"ytick.labelsize\"] =  fs\n",
    "    mpl.rcParams[\"legend.fontsize\"] =  fs\n",
    "    mpl.rcParams['font.sans-serif'] = ['Times New Roman']\n",
    "    mpl.rcParams['font.serif'] = ['Times New Roman']\n",
    "    mpl.rcParams['axes.unicode_minus'] = False"
   ]
  },
  {
   "cell_type": "code",
   "execution_count": 3,
   "metadata": {},
   "outputs": [],
   "source": [
    "V_max = 4.2;        V_min = 2.5;\n",
    "cs_Neg_Init = 28920; Diff_SEI = 1.700000000000002e-20;    R_SEI = 2E5;   Bulk_Sol_Con = 4541.0;\n",
    "Experiment_Long   = pybamm.Experiment( [ (f\"Discharge at 1 C until {V_min} V\", f\"Charge at 0.3 C until {V_max} V\", f\"Hold at {V_max} V until C/5\")    ] * 1 )  \n",
    "Experiment_RPT    = pybamm.Experiment( [ (f\"Discharge at 0.1 C until {V_min} V\",  \"Rest for 6 hours\",  f\"Charge at 0.1 C until {V_max} V\" ) ] * 1 ) \n",
    "Experiment_Breakin= pybamm.Experiment( [ (f\"Discharge at 0.2 C until {V_min} V\",\"Rest for 4 hours\",f\"Charge at 0.2 C until {V_max} V\" , f\"Hold at {V_max} V until C/100\",\"Rest for 2 hours\") *5 + ( f\"Discharge at 0.1 C until {V_min} V\",  \"Rest for 6 hours\",  f\"Charge at 0.1 C until {V_max} V\" ) *1 ] )\n",
    "#BasicPath = 'D:/OneDrive - Imperial College London/PhD Study/Imperial Study/Model/Pybamm Learning/SimDataSave/SolConsumed/';\n",
    "#Target = 'Test 20-6 Update=78/';\n",
    "#if not os.path.exists(BasicPath + Target):\n",
    "#    os.mkdir(BasicPath + Target);"
   ]
  },
  {
   "cell_type": "code",
   "execution_count": 4,
   "metadata": {},
   "outputs": [
    {
     "data": {
      "text/plain": [
       "96485.33212"
      ]
     },
     "execution_count": 4,
     "metadata": {},
     "output_type": "execute_result"
    }
   ],
   "source": [
    "Model_0  = pybamm.lithium_ion.DFN(options={\"solvent diffusion\": \"EC\" }) \n",
    "Model_0.param.F.evaluate()"
   ]
  },
  {
   "cell_type": "code",
   "execution_count": 5,
   "metadata": {},
   "outputs": [],
   "source": [
    "# First Cycle \n",
    "Model_0  = pybamm.lithium_ion.DFN(\n",
    "    options={\"solvent diffusion\": \"EC\" }\n",
    ") "
   ]
  },
  {
   "cell_type": "code",
   "execution_count": 6,
   "metadata": {},
   "outputs": [],
   "source": [
    "# Run model without electrolyte dry out\n",
    "ChemistryChen=pybamm.parameter_sets.Chen2020  # Ren2018  Chen2020_plating\n",
    "ChemistryChen[\"electrolyte\"] = \"lipf6_Nyman2008_rio\";\n",
    "Para_0=pybamm.ParameterValues(chemistry=ChemistryChen);"
   ]
  },
  {
   "cell_type": "markdown",
   "metadata": {},
   "source": [
    "Para_0.update({'SEI resistivity [Ohm.m]':R_SEI}) ;\n",
    "Para_0.update({'Bulk solvent concentration [mol.m-3]':Bulk_Sol_Con});\n",
    "Para_0.update({'Electrolyte diffusivity [m2.s-1]':3e-10});\n",
    "Para_0.update({'EC Lithium ion cross diffusivity [m2.s-1]':-1.5e-9/5});\n",
    "Para_0.update({'Typical EC Lithium ion cross diffusivity [m2.s-1]':-1.5e-9/5});\n",
    "Para_0.update({'Initial concentration in negative electrode [mol.m-3]':cs_Neg_Init }) # \n",
    "Sol_NonDry=[];  Model_NonDry=[];\n",
    "# First Cycle \n",
    "Model_0  = pybamm.lithium_ion.DFN(\n",
    "    options={\"solvent diffusion\": \"none\" }\n",
    ") "
   ]
  },
  {
   "cell_type": "code",
   "execution_count": 16,
   "metadata": {},
   "outputs": [
    {
     "name": "stdout",
     "output_type": "stream",
     "text": [
      "EC Lithium ion cross diffusivity [m2.s-1]\t-1.5e-09\n",
      "EC diffusivity [m2.s-1]\t2e-18\n",
      "EC diffusivity in SEI [m2.s-1]\t2e-18\n",
      "EC diffusivity in electrolyte [m2.s-1]\t5e-10\n",
      "Electrolyte diffusivity [m2.s-1]\t<function electrolyte_diffusivity_Nyman2008_rio at 0x000001AA32AE4E50>\n",
      "Inner SEI lithium interstitial diffusivity [m2.s-1]\t1e-20\n",
      "Negative electrode diffusivity [m2.s-1]\t3.3e-14\n",
      "Outer SEI solvent diffusivity [m2.s-1]\t2.5000000000000002e-22\n",
      "Positive electrode diffusivity [m2.s-1]\t4e-15\n",
      "Typical EC Lithium ion cross diffusivity [m2.s-1]\t-1.5e-09\n",
      "Typical EC diffusivity in SEI [m2.s-1]\t2e-18\n",
      "Typical EC diffusivity in electrolyte [m2.s-1]\t5e-10\n",
      "4.541\n"
     ]
    }
   ],
   "source": [
    "Para_0.search(\"diffusivity\")\n",
    "gamma_e_ec_Rio = Para_0.evaluate(Model_0.param.gamma_e_ec_Rio)  \n",
    "print(gamma_e_ec_Rio)"
   ]
  },
  {
   "cell_type": "code",
   "execution_count": 8,
   "metadata": {},
   "outputs": [],
   "source": [
    "#Model_0.latexify()"
   ]
  },
  {
   "cell_type": "code",
   "execution_count": 9,
   "metadata": {},
   "outputs": [],
   "source": [
    "Sim_0    = pybamm.Simulation(\n",
    "    Model_0, experiment = Experiment_Long,\n",
    "    parameter_values = Para_0,\n",
    "    solver = pybamm.CasadiSolver(),)       \n"
   ]
  },
  {
   "cell_type": "code",
   "execution_count": 10,
   "metadata": {},
   "outputs": [],
   "source": [
    "Sol_0    = Sim_0.solve();"
   ]
  },
  {
   "cell_type": "code",
   "execution_count": 11,
   "metadata": {},
   "outputs": [
    {
     "data": {
      "text/plain": [
       "{'calculate discharge energy': 'false',\n",
       " 'cell geometry': 'arbitrary',\n",
       " 'calculate heat source for isothermal models': 'false',\n",
       " 'convection': 'none',\n",
       " 'current collector': 'uniform',\n",
       " 'dimensionality': 0,\n",
       " 'electrolyte conductivity': 'default',\n",
       " 'solvent diffusion': 'EC',\n",
       " 'hydrolysis': 'false',\n",
       " 'intercalation kinetics': 'symmetric Butler-Volmer',\n",
       " 'interface utilisation': 'full',\n",
       " 'lithium plating': 'none',\n",
       " 'lithium plating porosity change': 'false',\n",
       " 'loss of active material': 'none',\n",
       " 'operating mode': 'current',\n",
       " 'particle': 'Fickian diffusion',\n",
       " 'particle mechanics': 'none',\n",
       " 'particle shape': 'spherical',\n",
       " 'particle size': 'single',\n",
       " 'SEI': 'none',\n",
       " 'SEI film resistance': 'none',\n",
       " 'SEI on cracks': 'false',\n",
       " 'SEI porosity change': 'false',\n",
       " 'stress-induced diffusion': 'false',\n",
       " 'surface form': 'false',\n",
       " 'thermal': 'isothermal',\n",
       " 'total interfacial current density as a state': 'false',\n",
       " 'working electrode': 'both',\n",
       " 'x-average side reactions': 'false',\n",
       " 'external submodels': [],\n",
       " 'timescale': 'default'}"
      ]
     },
     "execution_count": 11,
     "metadata": {},
     "output_type": "execute_result"
    }
   ],
   "source": [
    "Model_0.options"
   ]
  },
  {
   "cell_type": "code",
   "execution_count": 12,
   "metadata": {},
   "outputs": [
    {
     "name": "stdout",
     "output_type": "stream",
     "text": [
      "Loss of active material in negative electrode [%]\n",
      "Loss of active material in positive electrode [%]\n",
      "Loss of capacity to SEI [A.h]\n",
      "Loss of capacity to SEI on cracks [A.h]\n",
      "Loss of capacity to lithium plating [A.h]\n",
      "Loss of lithium inventory [%]\n",
      "Loss of lithium inventory, including electrolyte [%]\n",
      "Loss of lithium to SEI [mol]\n",
      "Loss of lithium to SEI on cracks [mol]\n",
      "Loss of lithium to lithium plating [mol]\n"
     ]
    }
   ],
   "source": [
    "Model_0.variables.search(\"loss of\")"
   ]
  },
  {
   "cell_type": "code",
   "execution_count": 13,
   "metadata": {},
   "outputs": [
    {
     "data": {
      "application/vnd.jupyter.widget-view+json": {
       "model_id": "b962d99b35304f6a95d52d993053ba03",
       "version_major": 2,
       "version_minor": 0
      },
      "text/plain": [
       "interactive(children=(FloatSlider(value=0.0, description='t', max=4.134631245347678, step=0.04134631245347678)…"
      ]
     },
     "metadata": {},
     "output_type": "display_data"
    },
    {
     "data": {
      "text/plain": [
       "<pybamm.plotting.quick_plot.QuickPlot at 0x1aa32b2e2b0>"
      ]
     },
     "execution_count": 13,
     "metadata": {},
     "output_type": "execute_result"
    }
   ],
   "source": [
    "pybamm.dynamic_plot(\n",
    "    Sol_0,\n",
    "    [\n",
    "        \"Terminal voltage [V]\",\n",
    "        \"EC concentration [mol.m-3]\",\n",
    "        \"Electrolyte concentration [mol.m-3]\",\n",
    "        \"Porosity times EC concentration\",\n",
    "        \"Total EC in electrolyte [mol]\",\n",
    "    ],\n",
    ")"
   ]
  },
  {
   "cell_type": "code",
   "execution_count": 14,
   "metadata": {},
   "outputs": [
    {
     "data": {
      "application/vnd.jupyter.widget-view+json": {
       "model_id": "b35f3ac8532f493cab3fc30217923eb7",
       "version_major": 2,
       "version_minor": 0
      },
      "text/plain": [
       "interactive(children=(FloatSlider(value=0.0, description='t', max=4.134631245347678, step=0.04134631245347678)…"
      ]
     },
     "metadata": {},
     "output_type": "display_data"
    }
   ],
   "source": [
    "quick_plot = pybamm.QuickPlot(Sol_0) #     \n",
    "quick_plot.dynamic_plot();\n"
   ]
  },
  {
   "cell_type": "code",
   "execution_count": 15,
   "metadata": {},
   "outputs": [
    {
     "ename": "AttributeError",
     "evalue": "'set' object has no attribute 'items'",
     "output_type": "error",
     "traceback": [
      "\u001b[1;31m---------------------------------------------------------------------------\u001b[0m",
      "\u001b[1;31mAttributeError\u001b[0m                            Traceback (most recent call last)",
      "\u001b[1;32md:\\PhD model acer\\envECdrag\\PyBaMM-GEM\\wip\\Rio_Code\\P3_R1\\EC_Drag_debug_0905.ipynb Cell 16\u001b[0m in \u001b[0;36m<cell line: 14>\u001b[1;34m()\u001b[0m\n\u001b[0;32m     <a href='vscode-notebook-cell:/d%3A/PhD%20model%20acer/envECdrag/PyBaMM-GEM/wip/Rio_Code/P3_R1/EC_Drag_debug_0905.ipynb#X20sZmlsZQ%3D%3D?line=16'>17</a>\u001b[0m     vars_in_eqns_dict \u001b[39m=\u001b[39m unpacker\u001b[39m.\u001b[39munpack_symbol(eqn)\n\u001b[0;32m     <a href='vscode-notebook-cell:/d%3A/PhD%20model%20acer/envECdrag/PyBaMM-GEM/wip/Rio_Code/P3_R1/EC_Drag_debug_0905.ipynb#X20sZmlsZQ%3D%3D?line=18'>19</a>\u001b[0m     \u001b[39m# Store ids only\u001b[39;00m\n\u001b[0;32m     <a href='vscode-notebook-cell:/d%3A/PhD%20model%20acer/envECdrag/PyBaMM-GEM/wip/Rio_Code/P3_R1/EC_Drag_debug_0905.ipynb#X20sZmlsZQ%3D%3D?line=19'>20</a>\u001b[0m     \u001b[39m# Look only for Variable (not VariableDot) in rhs keys\u001b[39;00m\n\u001b[0;32m     <a href='vscode-notebook-cell:/d%3A/PhD%20model%20acer/envECdrag/PyBaMM-GEM/wip/Rio_Code/P3_R1/EC_Drag_debug_0905.ipynb#X20sZmlsZQ%3D%3D?line=20'>21</a>\u001b[0m     vars_in_rhs_keys\u001b[39m.\u001b[39mupdate(\n\u001b[0;32m     <a href='vscode-notebook-cell:/d%3A/PhD%20model%20acer/envECdrag/PyBaMM-GEM/wip/Rio_Code/P3_R1/EC_Drag_debug_0905.ipynb#X20sZmlsZQ%3D%3D?line=21'>22</a>\u001b[0m         [\n\u001b[0;32m     <a href='vscode-notebook-cell:/d%3A/PhD%20model%20acer/envECdrag/PyBaMM-GEM/wip/Rio_Code/P3_R1/EC_Drag_debug_0905.ipynb#X20sZmlsZQ%3D%3D?line=22'>23</a>\u001b[0m             var_id\n\u001b[1;32m---> <a href='vscode-notebook-cell:/d%3A/PhD%20model%20acer/envECdrag/PyBaMM-GEM/wip/Rio_Code/P3_R1/EC_Drag_debug_0905.ipynb#X20sZmlsZQ%3D%3D?line=23'>24</a>\u001b[0m             \u001b[39mfor\u001b[39;00m var_id, var \u001b[39min\u001b[39;00m vars_in_rhs_keys_dict\u001b[39m.\u001b[39;49mitems()\n\u001b[0;32m     <a href='vscode-notebook-cell:/d%3A/PhD%20model%20acer/envECdrag/PyBaMM-GEM/wip/Rio_Code/P3_R1/EC_Drag_debug_0905.ipynb#X20sZmlsZQ%3D%3D?line=24'>25</a>\u001b[0m             \u001b[39mif\u001b[39;00m \u001b[39misinstance\u001b[39m(var, pybamm\u001b[39m.\u001b[39mVariable)\n\u001b[0;32m     <a href='vscode-notebook-cell:/d%3A/PhD%20model%20acer/envECdrag/PyBaMM-GEM/wip/Rio_Code/P3_R1/EC_Drag_debug_0905.ipynb#X20sZmlsZQ%3D%3D?line=25'>26</a>\u001b[0m         ]\n\u001b[0;32m     <a href='vscode-notebook-cell:/d%3A/PhD%20model%20acer/envECdrag/PyBaMM-GEM/wip/Rio_Code/P3_R1/EC_Drag_debug_0905.ipynb#X20sZmlsZQ%3D%3D?line=26'>27</a>\u001b[0m     )\n\u001b[0;32m     <a href='vscode-notebook-cell:/d%3A/PhD%20model%20acer/envECdrag/PyBaMM-GEM/wip/Rio_Code/P3_R1/EC_Drag_debug_0905.ipynb#X20sZmlsZQ%3D%3D?line=27'>28</a>\u001b[0m     vars_in_eqns\u001b[39m.\u001b[39mupdate(vars_in_eqns_dict\u001b[39m.\u001b[39mkeys())\n\u001b[0;32m     <a href='vscode-notebook-cell:/d%3A/PhD%20model%20acer/envECdrag/PyBaMM-GEM/wip/Rio_Code/P3_R1/EC_Drag_debug_0905.ipynb#X20sZmlsZQ%3D%3D?line=28'>29</a>\u001b[0m \u001b[39mfor\u001b[39;00m var, eqn \u001b[39min\u001b[39;00m Model_0\u001b[39m.\u001b[39malgebraic\u001b[39m.\u001b[39mitems():\n\u001b[0;32m     <a href='vscode-notebook-cell:/d%3A/PhD%20model%20acer/envECdrag/PyBaMM-GEM/wip/Rio_Code/P3_R1/EC_Drag_debug_0905.ipynb#X20sZmlsZQ%3D%3D?line=29'>30</a>\u001b[0m     \u001b[39m# Find all variables and variabledot objects\u001b[39;00m\n",
      "\u001b[1;31mAttributeError\u001b[0m: 'set' object has no attribute 'items'"
     ]
    }
   ],
   "source": [
    "\"\"\"Check that the model is not under- or over-determined.\"\"\"\n",
    "# Equations (differential and algebraic)\n",
    "# Get all the variables from differential and algebraic equations\n",
    "vars_in_rhs_keys = set()\n",
    "vars_in_algebraic_keys = set()\n",
    "vars_in_eqns = set()\n",
    "# Get all variables ids from rhs and algebraic keys and equations, and\n",
    "# from boundary conditions\n",
    "# For equations we look through the whole expression tree.\n",
    "# \"Variables\" can be Concatenations so we also have to look in the whole\n",
    "# expression tree\n",
    "unpacker = pybamm.SymbolUnpacker((pybamm.Variable, pybamm.VariableDot))\n",
    "\n",
    "for var, eqn in Model_0.rhs.items():\n",
    "    # Find all variables and variabledot objects\n",
    "    vars_in_rhs_keys_dict = unpacker.unpack_symbol(var)\n",
    "    vars_in_eqns_dict = unpacker.unpack_symbol(eqn)\n",
    "\n",
    "    # Store ids only\n",
    "    # Look only for Variable (not VariableDot) in rhs keys\n",
    "    vars_in_rhs_keys.update(\n",
    "        [\n",
    "            var_id\n",
    "            for var_id, var in vars_in_rhs_keys_dict.items()\n",
    "            if isinstance(var, pybamm.Variable)\n",
    "        ]\n",
    "    )\n",
    "    vars_in_eqns.update(vars_in_eqns_dict.keys())\n",
    "for var, eqn in Model_0.algebraic.items():\n",
    "    # Find all variables and variabledot objects\n",
    "    vars_in_algebraic_keys_dict = unpacker.unpack_symbol(var)\n",
    "    vars_in_eqns_dict = unpacker.unpack_symbol(eqn)\n",
    "\n",
    "    # Store ids only\n",
    "    # Look only for Variable (not VariableDot) in algebraic keys\n",
    "    vars_in_algebraic_keys.update(\n",
    "        [\n",
    "            var_id\n",
    "            for var_id, var in vars_in_algebraic_keys_dict.items()\n",
    "            if isinstance(var, pybamm.Variable)\n",
    "        ]\n",
    "    )\n",
    "    vars_in_eqns.update(vars_in_eqns_dict.keys())\n",
    "for var, side_eqn in Model_0.boundary_conditions.items():\n",
    "    for side, (eqn, typ) in side_eqn.items():\n",
    "        vars_in_eqns_dict = unpacker.unpack_symbol(eqn)\n",
    "        vars_in_eqns.update(vars_in_eqns_dict.keys())\n",
    "\n",
    "# If any keys are repeated between rhs and algebraic then the model is\n",
    "# overdetermined\n",
    "if not set(vars_in_rhs_keys).isdisjoint(vars_in_algebraic_keys):\n",
    "    print(\"model is overdetermined (repeated keys)\")\n",
    "# If any algebraic keys don't appear in the eqns (or bcs) then the model is\n",
    "# overdetermined (but rhs keys can be absent from the eqns, e.g. dcdt = -1 is\n",
    "# fine)\n",
    "# Skip this step after discretisation, as any variables in the equations will\n",
    "# have been discretised to slices but keys will still be variables\n",
    "extra_algebraic_keys = vars_in_algebraic_keys.difference(vars_in_eqns)\n",
    "# If any variables in the equations don't appear in the keys then the model is\n",
    "# underdetermined\n",
    "vars_in_keys = vars_in_rhs_keys.union(vars_in_algebraic_keys)\n",
    "extra_variables_in_equations = vars_in_eqns.difference(vars_in_keys)\n",
    "\n",
    "# get ids of external variables\n",
    "external_ids = {var.id for var in Model_0.external_variables}\n",
    "for var in Model_0.external_variables:\n",
    "    if isinstance(var, pybamm.Concatenation):\n",
    "        child_ids = {child.id for child in var.children}\n",
    "        external_ids = external_ids.union(child_ids)\n",
    "\n",
    "extra_variables = extra_variables_in_equations.difference(external_ids)\n",
    "\n",
    "if extra_variables:\n",
    "    print(\"model is underdetermined (too many variables)\")\n"
   ]
  },
  {
   "cell_type": "code",
   "execution_count": null,
   "metadata": {},
   "outputs": [],
   "source": [
    "for var, eqn in Model_0.rhs.items():\n",
    "    # Find all variables and variabledot objects\n",
    "    vars_in_rhs_keys_dict = unpacker.unpack_symbol(var)\n",
    "    vars_in_eqns_dict = unpacker.unpack_symbol(eqn)\n",
    "    print(vars_in_eqns_dict)\n",
    "    print(vars_in_rhs_keys_dict)\n",
    "    print('z')"
   ]
  },
  {
   "cell_type": "code",
   "execution_count": null,
   "metadata": {},
   "outputs": [],
   "source": [
    "for var in Model_0.external_variables:\n",
    "    print(var)"
   ]
  },
  {
   "cell_type": "code",
   "execution_count": null,
   "metadata": {},
   "outputs": [],
   "source": [
    "print(Model_0.variable_names)\n",
    "for key in Model_0._variables.keys():\n",
    "    print(key)"
   ]
  },
  {
   "cell_type": "code",
   "execution_count": null,
   "metadata": {},
   "outputs": [],
   "source": [
    "#print(Model_0.rhs.items())\n",
    "for var, eqn in Model_0.rhs.items():\n",
    "    print(var)\n",
    "    #print(eqn)\n"
   ]
  },
  {
   "cell_type": "code",
   "execution_count": null,
   "metadata": {},
   "outputs": [],
   "source": [
    "for var, eqn in Model_0.algebraic.items():\n",
    "    print(var)"
   ]
  },
  {
   "cell_type": "code",
   "execution_count": null,
   "metadata": {},
   "outputs": [],
   "source": [
    "print(extra_variables_in_equations)\n",
    "print(extra_variables)\n",
    "print(external_ids)"
   ]
  },
  {
   "cell_type": "code",
   "execution_count": null,
   "metadata": {},
   "outputs": [],
   "source": [
    "Model_0.submodels"
   ]
  }
 ],
 "metadata": {
  "kernelspec": {
   "display_name": "Python 3.9.4 ('envECdrag')",
   "language": "python",
   "name": "python3"
  },
  "language_info": {
   "codemirror_mode": {
    "name": "ipython",
    "version": 3
   },
   "file_extension": ".py",
   "mimetype": "text/x-python",
   "name": "python",
   "nbconvert_exporter": "python",
   "pygments_lexer": "ipython3",
   "version": "3.9.4"
  },
  "orig_nbformat": 4,
  "vscode": {
   "interpreter": {
    "hash": "bbe477dd22b81d67e8c3659d09e8d8645a2b2109ce812123ab4a99fd937a7135"
   }
  }
 },
 "nbformat": 4,
 "nbformat_minor": 2
}
