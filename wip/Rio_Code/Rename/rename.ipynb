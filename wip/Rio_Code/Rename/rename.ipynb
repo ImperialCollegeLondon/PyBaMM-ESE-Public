{
 "cells": [
  {
   "cell_type": "code",
   "execution_count": 15,
   "metadata": {},
   "outputs": [],
   "source": [
    "import os;\n",
    "import numpy as np\n",
    "\n",
    "\n",
    "def Create_file(purpose_i, original, Case_No):\n",
    "    \n",
    "    BasicPath =  os.path.expanduser(\n",
    "        \"~/EnvPBGEM_NC/SimSave\")\n",
    "    Target = \"/Jobs/\" \n",
    "    \n",
    "\n",
    "    ########### First, change text for .py file\n",
    "    source_file =BasicPath+Target+ f\"{purpose_i}_use_Fun_NC_case_{original}.py\"  # Name of the source .py file\n",
    "    destination_file = BasicPath+Target+ f\"{purpose_i}_use_Fun_NC_case_{Case_No}.py\"  # Name of the destination .py file (copy)\n",
    "    old_text = f\"i_bundle = {original} # int(os.environ\"  # Text to be replaced\n",
    "    new_text = f\"i_bundle = {Case_No} # int(os.environ\"\n",
    "\n",
    "    # Copy the source file to the destination file\n",
    "    os.system(f\"cp {source_file} {destination_file}\")\n",
    "\n",
    "    # Read the contents of the destination file\n",
    "    with open(destination_file, \"r\") as file:\n",
    "        content = file.read()\n",
    "    # Modify the desired parts of the content\n",
    "    modified_content = content.replace(old_text, new_text)\n",
    "    # Write the updated contents to the destination file\n",
    "    with open(destination_file, \"w\") as file:\n",
    "        file.write(modified_content)\n",
    "    print(f\"Finish creating {purpose_i}_use_Fun_NC_case_{Case_No}.py\")\n",
    "\n",
    "\n",
    "\n",
    "\n",
    "\n",
    "    ########### Second, change text for .py file change .pbs file\n",
    "    source_file = BasicPath+Target+f\"{purpose_i}_use_Fun_NC_case_{original}.pbs\"  # Name of the source .pbs file\n",
    "    destination_file = BasicPath+Target+f\"{purpose_i}_use_Fun_NC_case_{Case_No}.pbs\"  # Name of the destination .pbs file (copy)\n",
    "    old_content = f\"python3 {purpose_i}_use_Fun_NC_case_{original}.py\"  # Text to be replaced\n",
    "    new_content = f\"python3 {purpose_i}_use_Fun_NC_case_{Case_No}.py\"  # New text to replace the old_content\n",
    "\n",
    "    # Read the contents of the source file\n",
    "    with open(source_file, \"r\") as file:\n",
    "        content = file.read()\n",
    "    # Modify the desired parts of the content\n",
    "    modified_content = content.replace(old_content, new_content)\n",
    "    # Write the updated contents to the destination file\n",
    "    with open(destination_file, \"w\") as file:\n",
    "        file.write(modified_content)\n",
    "\n",
    "    print(f\"Finish creating {purpose_i}_use_Fun_NC_case_{Case_No}.pbs\")\n",
    "\n",
    "    return \n",
    "\n",
    "\n"
   ]
  },
  {
   "cell_type": "code",
   "execution_count": 16,
   "metadata": {},
   "outputs": [
    {
     "name": "stdout",
     "output_type": "stream",
     "text": [
      "Finish creating Full_Exp2_NC_SA_use_Fun_NC_case_220.py\n",
      "Finish creating Full_Exp2_NC_SA_Case_220.pbs\n",
      "Finish creating Full_Exp2_NC_SA_use_Fun_NC_case_264.py\n",
      "Finish creating Full_Exp2_NC_SA_Case_264.pbs\n"
     ]
    }
   ],
   "source": [
    "\n",
    "original = 10\n",
    "purpose_i = \"Full_Exp2_NC_SA\"\n",
    "Case_List = [220, 264]\n",
    "\n",
    "# create a bunch of files!\n",
    "for Case_No in Case_List:\n",
    "    Create_file(purpose_i, original, Case_No)\n",
    "\n"
   ]
  }
 ],
 "metadata": {
  "kernelspec": {
   "display_name": "EnvPBGEM_NC",
   "language": "python",
   "name": "python3"
  },
  "language_info": {
   "codemirror_mode": {
    "name": "ipython",
    "version": 3
   },
   "file_extension": ".py",
   "mimetype": "text/x-python",
   "name": "python",
   "nbconvert_exporter": "python",
   "pygments_lexer": "ipython3",
   "version": "3.10.12"
  }
 },
 "nbformat": 4,
 "nbformat_minor": 2
}
