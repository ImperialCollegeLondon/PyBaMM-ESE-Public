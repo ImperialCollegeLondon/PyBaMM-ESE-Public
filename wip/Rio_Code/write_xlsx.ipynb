{
 "cells": [
  {
   "cell_type": "code",
   "execution_count": 1,
   "metadata": {},
   "outputs": [],
   "source": [
    "import pybamm as pb;import pandas as pd   ;import numpy as np;import os;import matplotlib.pyplot as plt;import os;#import imageio\n",
    "from scipy.io import savemat,loadmat;from pybamm import constants,exp;import matplotlib as mpl; fs=17; # or we can set import matplotlib.pyplot as plt then say 'mpl.rc...'\n",
    "for k in range(0,1):\n",
    "    mpl.rcParams[\"axes.labelsize\"] = fs\n",
    "    mpl.rcParams[\"axes.titlesize\"] = fs\n",
    "    mpl.rcParams[\"xtick.labelsize\"] =  fs\n",
    "    mpl.rcParams[\"ytick.labelsize\"] =  fs\n",
    "    mpl.rcParams[\"legend.fontsize\"] =  fs\n",
    "    mpl.rcParams['font.sans-serif'] = ['Times New Roman']\n",
    "    mpl.rcParams['font.serif'] = ['Times New Roman']\n",
    "    mpl.rcParams['axes.unicode_minus'] = False\n",
    "# Create GIF\n",
    "def create_gif(image_list, gif_name, ds):\n",
    "    frames = []\n",
    "    for image_name in image_list:\n",
    "        if image_name.endswith('.png'):\n",
    "            print(image_name)\n",
    "            frames.append(imageio.imread(image_name))\n",
    "    # Save them as frames into a gif\n",
    "    imageio.mimsave(gif_name, frames, 'GIF', duration = ds)\n",
    "    return\n",
    "import openpyxl\n",
    " "
   ]
  },
  {
   "cell_type": "code",
   "execution_count": null,
   "metadata": {},
   "outputs": [],
   "source": [
    "# This code aims to teach me how to write, append, and read .xlsx files. \n",
    "# Ref link: https://www.cnblogs.com/wulixia/p/11937989.html"
   ]
  },
  {
   "cell_type": "code",
   "execution_count": null,
   "metadata": {},
   "outputs": [],
   "source": []
  },
  {
   "cell_type": "code",
   "execution_count": 2,
   "metadata": {},
   "outputs": [],
   "source": [
    "def write_excel_xlsx(path, sheet_name, value):\n",
    "    index = len(value)\n",
    "    workbook = openpyxl.Workbook()  # 新建工作簿（默认有一个sheet？）\n",
    "    sheet = workbook.active  # 获得当前活跃的工作页，默认为第一个工作页\n",
    "    sheet.title = sheet_name  # 给sheet页的title赋值\n",
    "    for i in range(0, index):\n",
    "        for j in range(0, len(value[i])):\n",
    "            sheet.cell(row=i + 1, column=j + 1, value=str(value[i][j]))  # 行，列，值 这里是从1开始计数的\n",
    "    workbook.save(path)  # 一定要保存\n",
    "    print(\"xlsx格式表格写入数据成功！\")\n",
    " \n"
   ]
  },
  {
   "cell_type": "code",
   "execution_count": null,
   "metadata": {},
   "outputs": [],
   "source": [
    "\n",
    "data = openpyxl.load_workbook('xlsx格式测试工作簿.xlsx')\n",
    " \n",
    "# 取第一张表\n",
    "sheetnames = data.get_sheet_names()\n",
    "table = data.get_sheet_by_name(sheetnames[0])\n",
    " \n",
    "table = data.active\n",
    "print(table.title)  # 输出表名\n",
    "nrows = table.max_row  # 获得行数\n",
    "ncolumns = table.max_column  # 获得列数\n",
    "values = [['E', 'X', 'C', 'E', 'L'],\n",
    "          [1, 2, 3, 4, 5],\n",
    "          ['a', 'b', 'c', 'd', 'e']]\n",
    "# 注意行业列下标是从1开始的\n",
    "for i in range(1, len(values)+1):\n",
    "    for j in range(1, len(values[i-1])+1):\n",
    "        table.cell(nrows+i, j).value = values[i-1][j-1]\n",
    " \n",
    "data.save('xlsx格式测试工作簿.xlsx')\n",
    " \n",
    "# values = ['E', 'X', 'C', 'E', 'L']\n",
    "# for value in values:\n",
    "#     table.cell(nrows+1, 1).value = value\n",
    "#     nrows = nrows + 1"
   ]
  },
  {
   "cell_type": "code",
   "execution_count": 21,
   "metadata": {},
   "outputs": [
    {
     "name": "stdout",
     "output_type": "stream",
     "text": [
      "xlsx格式表格写入数据成功！\n"
     ]
    }
   ],
   "source": [
    "BasicPath = 'D:/OneDrive - Imperial College London/PhD Study/Imperial Study/Model/Pybamm Learning/SimDataSave/2nd paperTest R1/';\n",
    "Target  = 'Big scan/'\n",
    "if not os.path.exists(BasicPath + Target):\n",
    "    os.mkdir(BasicPath + Target);\n",
    "book_name_xlsx = 'Scan Chen2020_coupled 1170 cycles.xlsx'\n",
    "\n",
    "sheet_name_xlsx = 'Results'\n",
    " \n",
    "value3 = [\n",
    "    [\"Index\", \"cs_Neg_Init\", \"Diff_SEI\", \"R_SEI\", \n",
    "    \"Bulk_Sol_Con\",\"D_Li_inSEI\", \"c_Li_inte_ref\",\n",
    "    \"Couple_SEI_LiP\",\"k_LiP\",\"Cap Loss\",\"LLI to LiP\",\n",
    "    \"LLI to SEI\",\"Vol_Elely_Tot Final\", \"Vol_Elely_JR Final\",\"Width Final\"],\n",
    "    ]\n",
    "write_excel_xlsx(BasicPath + Target+book_name_xlsx, sheet_name_xlsx, value3)"
   ]
  },
  {
   "cell_type": "code",
   "execution_count": 28,
   "metadata": {},
   "outputs": [
    {
     "name": "stdout",
     "output_type": "stream",
     "text": [
      "Results\n"
     ]
    },
    {
     "name": "stderr",
     "output_type": "stream",
     "text": [
      "C:\\Users\\LRH\\AppData\\Local\\Temp/ipykernel_7376/2638982180.py:3: DeprecationWarning: Call to deprecated function get_sheet_by_name (Use wb[sheetname]).\n",
      "  table = data.get_sheet_by_name('Results')\n"
     ]
    }
   ],
   "source": [
    "data = openpyxl.load_workbook(BasicPath + Target+'Scan Chen2020_coupled 1170 cycles.xlsx')\n",
    " \n",
    "table = data.get_sheet_by_name('Results')\n",
    "Diff_SEI = 1.700000000000002e-20; R_SEI = 2E5\n",
    "print(table.title)  # 输出表名\n",
    "nrows = table.max_row  # 获得行数\n",
    "ncolumns = table.max_column  # 获得列数\n",
    "values = [\n",
    "    [\"1\", \"28920\", Diff_SEI, R_SEI, \n",
    "    \"4541\",\"1e-20\", \"15\",\n",
    "    \"2E-6\",\"1E-10\",\"5\",\"1\",\n",
    "    \"2\",\"3.2\", \"3.0\",\"1.5\"],\n",
    "    ]\n",
    "# 注意行业列下标是从1开始的\n",
    "for i in range(1, len(values)+1):\n",
    "    for j in range(1, len(values[i-1])+1):\n",
    "        table.cell(nrows+i, j).value = values[i-1][j-1]\n",
    " \n",
    "data.save(BasicPath + Target+'Scan Chen2020_coupled 1170 cycles.xlsx')"
   ]
  },
  {
   "cell_type": "code",
   "execution_count": null,
   "metadata": {},
   "outputs": [],
   "source": [
    "#使用python在excel表格中增加新的sheet表 https://blog.csdn.net/zh54b5n64vn64654/article/details/81101681\n",
    "import openpyxl\n",
    "wb=openpyxl.load_workbook(r'ex.xlsx')\n",
    "wb.create_sheet(title='Sheet2',index=0)\n",
    "wb.save(r'ex.xlsx')"
   ]
  }
 ],
 "metadata": {
  "interpreter": {
   "hash": "fc6f5866c4918f94eb53c93d14f746872ffffce5b57786478ff61176b201047d"
  },
  "kernelspec": {
   "display_name": "Python 3.9.4 64-bit",
   "language": "python",
   "name": "python3"
  },
  "language_info": {
   "codemirror_mode": {
    "name": "ipython",
    "version": 3
   },
   "file_extension": ".py",
   "mimetype": "text/x-python",
   "name": "python",
   "nbconvert_exporter": "python",
   "pygments_lexer": "ipython3",
   "version": "3.9.4"
  },
  "orig_nbformat": 4
 },
 "nbformat": 4,
 "nbformat_minor": 2
}
