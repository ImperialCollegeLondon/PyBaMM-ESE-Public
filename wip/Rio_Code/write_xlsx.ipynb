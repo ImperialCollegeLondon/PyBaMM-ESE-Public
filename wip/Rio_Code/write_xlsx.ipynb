{
 "cells": [
  {
   "cell_type": "code",
   "execution_count": 1,
   "metadata": {},
   "outputs": [],
   "source": [
    "import pybamm as pb;import pandas as pd   ;import numpy as np;import os;import matplotlib.pyplot as plt;import os;#import imageio\n",
    "from scipy.io import savemat,loadmat;from pybamm import constants,exp;import matplotlib as mpl; fs=17; # or we can set import matplotlib.pyplot as plt then say 'mpl.rc...'\n",
    "for k in range(0,1):\n",
    "    mpl.rcParams[\"axes.labelsize\"] = fs\n",
    "    mpl.rcParams[\"axes.titlesize\"] = fs\n",
    "    mpl.rcParams[\"xtick.labelsize\"] =  fs\n",
    "    mpl.rcParams[\"ytick.labelsize\"] =  fs\n",
    "    mpl.rcParams[\"legend.fontsize\"] =  fs\n",
    "    mpl.rcParams['font.sans-serif'] = ['Times New Roman']\n",
    "    mpl.rcParams['font.serif'] = ['Times New Roman']\n",
    "    mpl.rcParams['axes.unicode_minus'] = False\n",
    "# Create GIF\n",
    "def create_gif(image_list, gif_name, ds):\n",
    "    frames = []\n",
    "    for image_name in image_list:\n",
    "        if image_name.endswith('.png'):\n",
    "            print(image_name)\n",
    "            frames.append(imageio.imread(image_name))\n",
    "    # Save them as frames into a gif\n",
    "    imageio.mimsave(gif_name, frames, 'GIF', duration = ds)\n",
    "    return\n",
    "import openpyxl\n"
   ]
  },
  {
   "cell_type": "code",
   "execution_count": null,
   "metadata": {},
   "outputs": [],
   "source": [
    "# This code aims to teach me how to write, append, and read .xlsx files. \n",
    "# Ref link: https://www.cnblogs.com/wulixia/p/11937989.html"
   ]
  },
  {
   "cell_type": "code",
   "execution_count": 3,
   "metadata": {},
   "outputs": [
    {
     "name": "stdout",
     "output_type": "stream",
     "text": [
      "Total scan case is 10\n"
     ]
    }
   ],
   "source": [
    "# New target: write excel for HPC:\n",
    "# 1. before sweep, write all para into the summary file\n",
    "# 2. after finish, manually all seperate successful excel into the target ones  \n",
    "\n",
    "import sys  \n",
    "str_path_0 = os.path.abspath(os.path.join(pb.__path__[0],'..'))\n",
    "str_path_1 = os.path.abspath(os.path.join(str_path_0,\"wip\\Rio_Code\\Fun_P2\"))\n",
    "sys.path.append(str_path_1) \n",
    "from Fun_P2 import (\n",
    "    GetScan,\n",
    "    recursive_scan,\n",
    "    Para_init,\n",
    "    Run_model_wwo_dry_out ,\n",
    "    Cal_new_con_Update,\n",
    "    Run_Model_Base_On_Last_Solution,\n",
    "    Run_Model_Base_On_Last_Solution_RPT,\n",
    "    write_excel_xlsx,\n",
    "    Get_initial_cap,\n",
    "    Get_initial_cap2,\n",
    "    handle_signal,\n",
    "    Run_P2_till_Fail,\n",
    ")\n",
    "\n",
    "########################  Input  ########################\n",
    "# all values here must be a list, even it is a single object\n",
    "Para_dict_All = {\n",
    "   \"Total ageing cycles\":[234,1170],\n",
    "   \"Ageing cycles between RPT\":[78,],\n",
    "   \"Update cycles for ageing\":[13,],\n",
    "   \"Cycles within RPT\":[2,],\n",
    "   \"Ageing temperature\":[25,],\n",
    "   \"RPT temperature\":[25,],\n",
    "   \"Particle mesh points\":[30,],   # Simon uses 30\n",
    "   #\"Exponential mesh stretch\":[1.0],\n",
    "   \"Para_Set\":[ \"Li2023_Coupled\",],\n",
    "   \"Model option\":[\n",
    "         {\n",
    "            \"calculate discharge energy\":\"true\",\n",
    "            \"particle\": \"Fickian diffusion\",          \n",
    "            \"SEI\":\"ec reaction limited\",   \n",
    "            #\"SEI on cracks\":\"true\",  \n",
    "            \"SEI film resistance\":\"distributed\",          \n",
    "            \"SEI porosity change\":\"true\",      \n",
    "            #\"particle mechanics\":(\"swelling and cracking\", \"swelling only\"), \n",
    "            #\"loss of active material\":\"stress-driven\", \n",
    "            \"lithium plating\":\"partially reversible\"      },\n",
    "         ],\n",
    "   \"Inner SEI reaction proportion\":[0.5,],\n",
    "   \"Ratio of lithium moles to SEI moles\":[2,], # I have always been using 1 for solvent consumption model\n",
    "   \"Initial inner SEI thickness [m]\":[2.5E-9,],\n",
    "   \"Initial outer SEI thickness [m]\":[2.5E-9,],\n",
    "   \"SEI growth activation energy [J.mol-1]\":[38000,],\n",
    "   # Solvent consumption sub-model\n",
    "   \"Initial electrolyte excessive amount ratio\":[2,], # set to <1 for DryOut=Off \n",
    "   \"Current solvent concentration in the reservoir [mol.m-3]\":[4541.0,],\n",
    "   \"Current electrolyte concentration in the reservoir [mol.m-3]\":[1000,],\n",
    "   \"Ratio of Li-ion concentration change in electrolyte consider solvent consumption\":[1.0,],\n",
    "   # DFN parameter\n",
    "   \"Upper voltage cut-off [V]\":[4.21,],\n",
    "   \"Lower voltage cut-off [V]\":[2.49,],\n",
    "\n",
    "   # interstitial-diffusion limited\n",
    "   'Inner SEI lithium interstitial diffusivity [m2.s-1]':[1e-12,],    \n",
    "   'Lithium interstitial reference concentration [mol.m-3]':[15,],\n",
    "   # ec-reaction limited\n",
    "   'EC diffusivity [m2.s-1]':[1e-22,1e-23,1e-24,1e-26,1e-27,],\n",
    "   'SEI kinetic rate constant [m.s-1]':[1e-12,], \n",
    "   'EC initial concentration in electrolyte [mol.m-3]':[4541.0,],\n",
    "   # LiP and coupling with SEI:\n",
    "   \"Dead lithium decay constant [s-1]\":[ 1e-7,],            # default: 1e-6\n",
    "   'Lithium plating kinetic rate constant [m.s-1]':[3E-10,], # default: 1e-9\n",
    "   # Crack model\n",
    "   \"Negative electrode LAM constant proportional term [s-1]\":[ 2.7778e-9,], # default: 2.7778e-07\n",
    "   \"Positive electrode LAM constant proportional term [s-1]\":[ 2.7778e-9,], # default: 2.7778e-07\n",
    "   # make it simple for now,], but may want to have T dependency in the future\n",
    "   \"Negative electrode cracking rate\":[ 3.9e-22,],   # default: function, ~3.9e-20\n",
    "   \"Positive electrode cracking rate\":[ 3.9e-22,],   # default: function, ~3.9e-20\n",
    "   \"Negative electrode volume change\":[ 0.0,],\n",
    "   \"Positive electrode volume change\":[ 0.0,],\n",
    "   \"Initial Neg SOC\":[0.850],    #list(np.linspace(0.84,0.90,6)),\n",
    "   \"Initial Pos SOC\":[0.2705], # list(np.linspace(0.22,0.27,6)),\n",
    "\n",
    "}\n",
    "Para_dict_list = []\n",
    "recursive_scan(Para_dict_list,Para_dict_All, list(Para_dict_All.keys()), {})\n",
    "print(f\"Total scan case is {len(Para_dict_list)}\")"
   ]
  },
  {
   "cell_type": "code",
   "execution_count": 4,
   "metadata": {},
   "outputs": [
    {
     "name": "stdout",
     "output_type": "stream",
     "text": [
      "Successfully create a excel file\n"
     ]
    }
   ],
   "source": [
    "# Wrtie head\n",
    "BasicPath = 'D:/OneDrive - Imperial College London/SimDataSave/P2R7'; \n",
    "#BasicPath=os.getcwd()\n",
    "Target  = '/Test_new_write/'\n",
    "if not os.path.exists(BasicPath + Target):\n",
    "   os.mkdir(BasicPath + Target);\n",
    "book_name_xlsx = 'Test_new_write.xlsx';\n",
    "\n",
    "sheet_name_xlsx = 'Results';\n",
    "\n",
    "Path_pack = [BasicPath,Target,book_name_xlsx,sheet_name_xlsx,];\n",
    "\n"
   ]
  },
  {
   "cell_type": "code",
   "execution_count": 24,
   "metadata": {},
   "outputs": [
    {
     "name": "stdout",
     "output_type": "stream",
     "text": [
      "Successfully create a excel file\n"
     ]
    }
   ],
   "source": [
    "# Write para - 1st round:\n",
    "head_list = list(Para_dict_list[0].keys())\n",
    "head_list.insert(0,\"Index\");\n",
    "head_list.insert(1,\"Dry out\");\n",
    "head_list.extend([ \"exp_AGE_text\", \"exp_RPT_text\",\n",
    "   \"Cap Loss\",\"LLI to LiP\",\n",
    "   \"LLI to SEI\",\"LLI to sei-on-cracks\",\n",
    "   \"LAM to Neg\",\"LAM to Pos\",\n",
    "   \"Vol_Elely_Tot Final\", \"Vol_Elely_JR Final\",\"Width Final\",\"Error\"])\n",
    "# \n",
    "Values_1 = [head_list,];\n",
    "index_list = np.arange(1,len(Para_dict_list)+1,1)\n",
    "for Scan_i,Para_dict_i in zip(index_list,Para_dict_list):\n",
    "    value_list_temp = list(Para_dict_i.values())\n",
    "    values = []\n",
    "    for value_list_temp_i in value_list_temp:\n",
    "        values.append(str(value_list_temp_i))\n",
    "    values.insert(0,str(Scan_i))\n",
    "    Values_1.append(values)\n",
    "write_excel_xlsx(\n",
    "    BasicPath + Target+book_name_xlsx, \n",
    "    sheet_name_xlsx, Values_1)   \n"
   ]
  },
  {
   "cell_type": "code",
   "execution_count": 26,
   "metadata": {},
   "outputs": [
    {
     "name": "stdout",
     "output_type": "stream",
     "text": [
      "Successfuly write results for Scan 1!\n",
      "Successfuly write results for Scan 2!\n"
     ]
    }
   ],
   "source": [
    "Index_List_succeed = [1,2];sheet_name_xlsx = 'Results';\n",
    "for index_i in Index_List_succeed:\n",
    "    try:\n",
    "        old_book = str(index_i) + '_' + book_name_xlsx\n",
    "        data_old = openpyxl.load_workbook(BasicPath + Target + old_book)   \n",
    "        data_tar = openpyxl.load_workbook(BasicPath + Target + book_name_xlsx) \n",
    "\n",
    "        table_old = data_old[str(index_i)]\n",
    "        #print(table_old)\n",
    "        nrows_old = table_old.max_row  # 获得行数\n",
    "        ncolumns_old = table_old.max_column  # 获得列数\n",
    "\n",
    "\n",
    "        table_tar = data_tar[sheet_name_xlsx]\n",
    "        #print(table_tar)\n",
    "        nrows_tar = index_i # Mark!!! Most important changes!\n",
    "        ncolumns_old = table_old.max_column  # 获得列数\n",
    "        #print(nrows_tar,ncolumns_old)\n",
    "        list_old = [];\n",
    "        # print(nrows_old,nrows_tar)\n",
    "        for i in range(1,nrows_old+1):\n",
    "            for j in range(1,ncolumns_old+1):\n",
    "                list_old.append(table_old.cell(row=i,column=j).value)\n",
    "        \n",
    "        list_old = [list_old,]\n",
    "        for i in range(1, len(list_old)+1):\n",
    "            for j in range(1, len(list_old[i-1])+1):\n",
    "                #print(i,j,list_old[i-1][j-1]    )\n",
    "                table_tar.cell(nrows_tar+i, j).value = list_old[i-1][j-1]     \n",
    "        data_tar.save(BasicPath + Target + book_name_xlsx) \n",
    "        data_tar.close()\n",
    "    except:\n",
    "        print(f\"Something goes wrong for Scan {index_i}!\")\n",
    "    else:\n",
    "        print(f\"Successfuly write results for Scan {index_i}!\") \n"
   ]
  },
  {
   "cell_type": "code",
   "execution_count": 25,
   "metadata": {},
   "outputs": [
    {
     "name": "stdout",
     "output_type": "stream",
     "text": [
      "Successfully create a excel file\n",
      "Successfully create a excel file\n"
     ]
    }
   ],
   "source": [
    "values_extra_1 = Values_1[1]\n",
    "values_extra_1.extend([5,0.5])\n",
    "values_extra_2 = Values_1[2]\n",
    "values_extra_2.extend([4,0.4])\n",
    "\n",
    "Succeed_index_1 = 1\n",
    "Succeed_index_2 = 2\n",
    "book_name_xlsx_seperate =   str(Succeed_index_1)+ '_' + book_name_xlsx;\n",
    "sheet_name_xlsx =  str(Succeed_index_1);\n",
    "write_excel_xlsx(\n",
    "    BasicPath + Target+book_name_xlsx_seperate, \n",
    "    sheet_name_xlsx, [values_extra_1,])\n",
    "book_name_xlsx_seperate =   str(Succeed_index_2)+ '_' + book_name_xlsx;\n",
    "sheet_name_xlsx =  str(Succeed_index_2);\n",
    "write_excel_xlsx(\n",
    "    BasicPath + Target+book_name_xlsx_seperate, \n",
    "    sheet_name_xlsx, [values_extra_2,])\n",
    "# write para and results - 2nd round:"
   ]
  },
  {
   "cell_type": "code",
   "execution_count": 2,
   "metadata": {},
   "outputs": [],
   "source": [
    "def write_excel_xlsx(path, sheet_name, value):\n",
    "    index = len(value)\n",
    "    workbook = openpyxl.Workbook()  # 新建工作簿（默认有一个sheet？）\n",
    "    sheet = workbook.active  # 获得当前活跃的工作页，默认为第一个工作页\n",
    "    sheet.title = sheet_name  # 给sheet页的title赋值\n",
    "    for i in range(0, index):\n",
    "        for j in range(0, len(value[i])):\n",
    "            sheet.cell(row=i + 1, column=j + 1, value=str(value[i][j]))  # 行，列，值 这里是从1开始计数的\n",
    "    workbook.save(path)  # 一定要保存\n",
    "    print(\"xlsx格式表格写入数据成功！\")\n",
    " \n"
   ]
  },
  {
   "cell_type": "code",
   "execution_count": null,
   "metadata": {},
   "outputs": [],
   "source": [
    "\n",
    "data = openpyxl.load_workbook('xlsx格式测试工作簿.xlsx')\n",
    " \n",
    "# 取第一张表\n",
    "sheetnames = data.get_sheet_names()\n",
    "table = data.get_sheet_by_name(sheetnames[0])\n",
    " \n",
    "table = data.active\n",
    "print(table.title)  # 输出表名\n",
    "nrows = table.max_row  # 获得行数\n",
    "ncolumns = table.max_column  # 获得列数\n",
    "values = [['E', 'X', 'C', 'E', 'L'],\n",
    "          [1, 2, 3, 4, 5],\n",
    "          ['a', 'b', 'c', 'd', 'e']]\n",
    "# 注意行业列下标是从1开始的\n",
    "for i in range(1, len(values)+1):\n",
    "    for j in range(1, len(values[i-1])+1):\n",
    "        table.cell(nrows+i, j).value = values[i-1][j-1]\n",
    " \n",
    "data.save('xlsx格式测试工作簿.xlsx')\n",
    " \n",
    "# values = ['E', 'X', 'C', 'E', 'L']\n",
    "# for value in values:\n",
    "#     table.cell(nrows+1, 1).value = value\n",
    "#     nrows = nrows + 1"
   ]
  },
  {
   "cell_type": "code",
   "execution_count": 21,
   "metadata": {},
   "outputs": [
    {
     "name": "stdout",
     "output_type": "stream",
     "text": [
      "xlsx格式表格写入数据成功！\n"
     ]
    }
   ],
   "source": [
    "BasicPath = 'D:/OneDrive - Imperial College London/PhD Study/Imperial Study/Model/Pybamm Learning/SimDataSave/2nd paperTest R1/';\n",
    "Target  = 'Big scan/'\n",
    "if not os.path.exists(BasicPath + Target):\n",
    "    os.mkdir(BasicPath + Target);\n",
    "book_name_xlsx = 'Scan Chen2020_coupled 1170 cycles.xlsx'\n",
    "\n",
    "sheet_name_xlsx = 'Results'\n",
    " \n",
    "value3 = [\n",
    "    [\"Index\", \"cs_Neg_Init\", \"Diff_SEI\", \"R_SEI\", \n",
    "    \"Bulk_Sol_Con\",\"D_Li_inSEI\", \"c_Li_inte_ref\",\n",
    "    \"Couple_SEI_LiP\",\"k_LiP\",\"Cap Loss\",\"LLI to LiP\",\n",
    "    \"LLI to SEI\",\"Vol_Elely_Tot Final\", \"Vol_Elely_JR Final\",\"Width Final\"],\n",
    "    ]\n",
    "write_excel_xlsx(BasicPath + Target+book_name_xlsx, sheet_name_xlsx, value3)"
   ]
  },
  {
   "cell_type": "code",
   "execution_count": 28,
   "metadata": {},
   "outputs": [
    {
     "name": "stdout",
     "output_type": "stream",
     "text": [
      "Results\n"
     ]
    },
    {
     "name": "stderr",
     "output_type": "stream",
     "text": [
      "C:\\Users\\LRH\\AppData\\Local\\Temp/ipykernel_7376/2638982180.py:3: DeprecationWarning: Call to deprecated function get_sheet_by_name (Use wb[sheetname]).\n",
      "  table = data.get_sheet_by_name('Results')\n"
     ]
    }
   ],
   "source": [
    "data = openpyxl.load_workbook(BasicPath + Target+'Scan Chen2020_coupled 1170 cycles.xlsx')\n",
    " \n",
    "table = data.get_sheet_by_name('Results')\n",
    "Diff_SEI = 1.700000000000002e-20; R_SEI = 2E5\n",
    "print(table.title)  # 输出表名\n",
    "nrows = table.max_row  # 获得行数\n",
    "ncolumns = table.max_column  # 获得列数\n",
    "values = [\n",
    "    [\"1\", \"28920\", Diff_SEI, R_SEI, \n",
    "    \"4541\",\"1e-20\", \"15\",\n",
    "    \"2E-6\",\"1E-10\",\"5\",\"1\",\n",
    "    \"2\",\"3.2\", \"3.0\",\"1.5\"],\n",
    "    ]\n",
    "# 注意行业列下标是从1开始的\n",
    "for i in range(1, len(values)+1):\n",
    "    for j in range(1, len(values[i-1])+1):\n",
    "        table.cell(nrows+i, j).value = values[i-1][j-1]\n",
    " \n",
    "data.save(BasicPath + Target+'Scan Chen2020_coupled 1170 cycles.xlsx')"
   ]
  },
  {
   "cell_type": "code",
   "execution_count": null,
   "metadata": {},
   "outputs": [],
   "source": [
    "#使用python在excel表格中增加新的sheet表 https://blog.csdn.net/zh54b5n64vn64654/article/details/81101681\n",
    "import openpyxl\n",
    "wb=openpyxl.load_workbook(r'ex.xlsx')\n",
    "wb.create_sheet(title='Sheet2',index=0)\n",
    "wb.save(r'ex.xlsx')"
   ]
  }
 ],
 "metadata": {
  "kernelspec": {
   "display_name": "Python 3.9.4 ('envPBGEM')",
   "language": "python",
   "name": "python3"
  },
  "language_info": {
   "codemirror_mode": {
    "name": "ipython",
    "version": 3
   },
   "file_extension": ".py",
   "mimetype": "text/x-python",
   "name": "python",
   "nbconvert_exporter": "python",
   "pygments_lexer": "ipython3",
   "version": "3.9.4"
  },
  "orig_nbformat": 4,
  "vscode": {
   "interpreter": {
    "hash": "538436ab772540209705689409ae69546dd51073c4c5e92d4121144f40993c02"
   }
  }
 },
 "nbformat": 4,
 "nbformat_minor": 2
}
