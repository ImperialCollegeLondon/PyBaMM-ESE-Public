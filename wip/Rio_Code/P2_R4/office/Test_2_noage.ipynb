{
 "cells": [
  {
   "cell_type": "code",
   "execution_count": 2,
   "metadata": {},
   "outputs": [],
   "source": [
    "import pybamm as pb;import pandas as pd   ;import numpy as np;import os;import matplotlib.pyplot as plt;import os;#import imageio\n",
    "from scipy.io import savemat,loadmat;from pybamm import constants,exp;import matplotlib as mpl; fs=17; # or we can set import matplotlib.pyplot as plt then say 'mpl.rc...'\n",
    "for k in range(0,1):\n",
    "    mpl.rcParams[\"axes.labelsize\"] = fs\n",
    "    mpl.rcParams[\"axes.titlesize\"] = fs\n",
    "    mpl.rcParams[\"xtick.labelsize\"] =  fs\n",
    "    mpl.rcParams[\"ytick.labelsize\"] =  fs\n",
    "    mpl.rcParams[\"legend.fontsize\"] =  fs\n",
    "    mpl.rcParams['font.sans-serif'] = ['Times New Roman']\n",
    "    mpl.rcParams['font.serif'] = ['Times New Roman']\n",
    "    mpl.rcParams['axes.unicode_minus'] = False\n",
    "\n",
    "import openpyxl"
   ]
  },
  {
   "cell_type": "code",
   "execution_count": 3,
   "metadata": {},
   "outputs": [],
   "source": [
    "from pybamm import exp, constants, Parameter\n",
    "def nmc_LGM50_electrolyte_exchange_current_density_ORegan2021_adjust(c_e, c_s_surf, T):\n",
    "    i_ref = 5.028  # (A/m2)\n",
    "    alpha = 0.43\n",
    "    E_r = 2.401e4\n",
    "    arrhenius = exp(E_r / constants.R * (1 / 298.15 - 1 / T))\n",
    "    c_p_max = Parameter(\"Maximum concentration in positive electrode [mol.m-3]\")\n",
    "    c_e_ref = Parameter(\"Typical electrolyte concentration [mol.m-3]\")\n",
    "    return (\n",
    "        i_ref\n",
    "        * arrhenius\n",
    "        * (c_e / c_e_ref) ** (1 - alpha)\n",
    "        * (c_s_surf / c_p_max) ** alpha\n",
    "        * (1 - c_s_surf / c_p_max) ** (1 - alpha))\n",
    "\n",
    "def nmc_LGM50_diffusivity_ORegan2021_adjust(sto, T):\n",
    "    a1 = -0.9231\n",
    "    a2 = -0.4066\n",
    "    a3 = -0.993\n",
    "    b1 = 0.3216\n",
    "    b2 = 0.4532\n",
    "    b3 = 0.8098\n",
    "    c0 = -13.96\n",
    "    c1 = 0.002534\n",
    "    c2 = 0.003926\n",
    "    c3 = 0.09924\n",
    "    d = 1449\n",
    "\n",
    "    D_ref = (\n",
    "        10\n",
    "        ** (\n",
    "            c0\n",
    "            + a1 * exp(-((sto - b1) ** 2) / c1)\n",
    "            + a2 * exp(-((sto - b2) ** 2) / c2)\n",
    "            + a3 * exp(-((sto - b3) ** 2) / c3)\n",
    "        )\n",
    "        * 10  # correcting factor (see O'Regan et al 2021), mark Ruihe change from 2.7 to 10\n",
    "    )\n",
    "\n",
    "    E_D_s = d * constants.R\n",
    "    arrhenius = exp(E_D_s / constants.R * (1 / 298.15 - 1 / T))\n",
    "\n",
    "    return D_ref * arrhenius\n",
    "\n",
    "def graphite_LGM50_diffusivity_ORegan2021_adjust(sto, T):\n",
    "    a0 = 11.17\n",
    "    a1 = -1.553\n",
    "    a2 = -6.136\n",
    "    a3 = -9.725\n",
    "    a4 = 1.85\n",
    "    b1 = 0.2031\n",
    "    b2 = 0.5375\n",
    "    b3 = 0.9144\n",
    "    b4 = 0.5953\n",
    "    c0 = -15.11\n",
    "    c1 = 0.0006091\n",
    "    c2 = 0.06438\n",
    "    c3 = 0.0578\n",
    "    c4 = 0.001356\n",
    "    d = 2092\n",
    "\n",
    "    D_ref = (\n",
    "        10\n",
    "        ** (\n",
    "            a0 * sto\n",
    "            + c0\n",
    "            + a1 * exp(-((sto - b1) ** 2) / c1)\n",
    "            + a2 * exp(-((sto - b2) ** 2) / c2)\n",
    "            + a3 * exp(-((sto - b3) ** 2) / c3)\n",
    "            + a4 * exp(-((sto - b4) ** 2) / c4)\n",
    "        )\n",
    "        * 20  # correcting factor (see O'Regan et al 2021) mark: Ruihe change from 3.0321 \n",
    "    )\n",
    "\n",
    "    E_D_s = d * constants.R\n",
    "    arrhenius = exp(E_D_s / constants.R * (1 / 298.15 - 1 / T))\n",
    "\n",
    "    return D_ref * arrhenius\n",
    "\n",
    "def graphite_LGM50_electrolyte_exchange_current_density_ORegan2021_adjust(c_e, c_s_surf, T):\n",
    "    i_ref = 12.4  # (A/m2) replaced with value from Schmalstieg et al. (2018), from 2.668 \n",
    "    alpha = 0.792\n",
    "    E_r = 4e4\n",
    "    arrhenius = exp(E_r / constants.R * (1 / 298.15 - 1 / T))\n",
    "\n",
    "    c_n_max = Parameter(\"Maximum concentration in negative electrode [mol.m-3]\")\n",
    "    c_e_ref = Parameter(\"Typical electrolyte concentration [mol.m-3]\")\n",
    "\n",
    "    return (\n",
    "        i_ref\n",
    "        * arrhenius\n",
    "        * (c_e / c_e_ref) ** (1 - alpha)\n",
    "        * (c_s_surf / c_n_max) ** alpha\n",
    "        * (1 - c_s_surf / c_n_max) ** (1 - alpha))\n",
    "\n",
    "def nmc_LGM50_electronic_conductivity_ORegan2021_adjust(T):\n",
    "    E_r = 3.5e3\n",
    "    arrhenius = exp(E_r / constants.R * (1 / 298.15 - 1 / T))\n",
    "\n",
    "    sigma = 0.8473 * arrhenius\n",
    "\n",
    "    return sigma\n"
   ]
  },
  {
   "cell_type": "code",
   "execution_count": 4,
   "metadata": {},
   "outputs": [],
   "source": [
    "def RunModel_basedon_last( Sol_old,Model_old,exp_list,cycle_number,  para,var_pts):\n",
    "    Model_new = (\n",
    "        Model_old.set_initial_conditions_from(\n",
    "            Sol_old, inplace=False\n",
    "            ))\n",
    "    Sim_new    = pb.Simulation(\n",
    "        Model_new,        experiment = pb.Experiment( exp_list *cycle_number ),\n",
    "        parameter_values = para,\n",
    "        solver = pb.CasadiSolver(),\n",
    "        var_pts=var_pts,\n",
    "        ) \n",
    "    Sol_new   = Sim_new.solve(calc_esoh=False)\n",
    "    return Sol_new,Model_new"
   ]
  },
  {
   "cell_type": "code",
   "execution_count": 5,
   "metadata": {},
   "outputs": [],
   "source": [
    "# Test this branch - Coupled_RioP2 newly created from Simon's develop branch\n",
    "# Run without dry-out model\n",
    "V_max = 4.2;        V_min = 2.5;   Temper_RPT = 25; \n",
    "Total_Cycles = 10; save_at_cycles = 1;  \n",
    "for i in range(0,1):  # Key scan parameters:\n",
    "    Diff_SEI_i = 1.7e-20; \n",
    "    R_SEI_i = 2E5;   Bulk_Sol_Con_i = 4541.0;\n",
    "    D_Li_inSEI_i = 1e-22;    # default: 1e-20 \n",
    "    c_Li_inte_ref_i = 15;    # default: 15\n",
    "    Diff_EC_i   = 2e-20;       k_SEI_i   = 1e-16;\n",
    "    LAMcr_prop_i=2.7778e-09;   Crack_rate_i=3.9e-20; \n",
    "    Couple_SEI_LiP_i = 1e-6; # default: 1e-6\n",
    "    k_LiP_i = 1E-10;         # default: 1e-10\n",
    "    Temper = 25;\n",
    "    mesh_par = 120;\n",
    "\n",
    "exp_AGE_text = [(f\"Discharge at 1 C until {V_min} V\", \n",
    "        f\"Charge at 0.3 C until {V_max} V\", \n",
    "        f\"Hold at {V_max} V until C/100\"),  ]\n",
    "exp_RPT_text = [ (f\"Discharge at 0.1C until {V_min} V\",  \n",
    "        \"Rest for 6 hours\",  \n",
    "        f\"Charge at 0.1C until {V_max} V\" ) ]\n",
    "\n",
    "for i in range(0,1):  \n",
    "    ChemistryChen=pb.parameter_sets.OKane2022   \n",
    "    #ChemistryChen[\"electrolyte\"] = \"lipf6_Valoen2005\"\n",
    "    Para_0=pb.ParameterValues(chemistry=ChemistryChen)\n",
    "    # DFN parameter\n",
    "    Para_0.update({\"Upper voltage cut-off [V]\": 4.21})\n",
    "    Para_0.update({\"Lower voltage cut-off [V]\": 2.49})\n",
    "    Para_0.update({\"Negative electrode diffusivity [m2.s-1]\": 2e-14})\n",
    "    Para_0.update({\"Positive electrode diffusivity [m2.s-1]\": 1e-14})\n",
    "    # general SEI\n",
    "    Para_0.update({'SEI resistivity [Ohm.m]':R_SEI_i}) ;\n",
    "    # solvent-diffusion limited\n",
    "    Para_0.update({'Outer SEI solvent diffusivity [m2.s-1]':Diff_SEI_i});\n",
    "    Para_0.update({'Bulk solvent concentration [mol.m-3]':Bulk_Sol_Con_i});\n",
    "    # interstitial-diffusion limited\n",
    "    Para_0.update({'Inner SEI lithium interstitial diffusivity [m2.s-1]':D_Li_inSEI_i})       \n",
    "    Para_0.update({'Lithium interstitial reference concentration [mol.m-3]':c_Li_inte_ref_i}) \n",
    "    # ec-reaction limited\n",
    "    Para_0.update({'EC diffusivity [m2.s-1]':Diff_EC_i}) \n",
    "    Para_0.update({'SEI kinetic rate constant [m.s-1]':k_SEI_i}) \n",
    "    Para_0.update({'EC initial concentration in electrolyte [mol.m-3]':Bulk_Sol_Con_i}) \n",
    "    # LiP and coupling with SEI:\n",
    "    Para_0.update({\"Dead lithium decay constant [s-1]\": Couple_SEI_LiP_i})   \n",
    "    Para_0.update({'Lithium plating kinetic rate constant [m.s-1]':k_LiP_i})  \n",
    "    # Crack model\n",
    "    Para_0.update({\"Negative electrode LAM constant proportional term [s-1]\": LAMcr_prop_i})\n",
    "    Para_0.update({\"Positive electrode LAM constant proportional term [s-1]\": LAMcr_prop_i})  \n",
    "    # make it simple for now, but may want to have T dependency in the future\n",
    "    Para_0.update({\"Negative electrode cracking rate\": Crack_rate_i})\n",
    "    Para_0.update({\"Positive electrode cracking rate\": Crack_rate_i})\n",
    "    Para_0.update({\"Negative electrode volume change\": 0.0})\n",
    "    Para_0.update({\"Positive electrode volume change\": 0.0}) \n",
    "    Model_0 = pb.lithium_ion.DFN(      ) #\n",
    "    var = pb.standard_spatial_vars  \n",
    "    var_pts = {\n",
    "        var.x_n: 20,  \n",
    "        var.x_s: 10,  \n",
    "        var.x_p: 20,  \n",
    "        var.r_n: mesh_par,  \n",
    "        var.r_p: mesh_par,  }"
   ]
  },
  {
   "cell_type": "code",
   "execution_count": 6,
   "metadata": {},
   "outputs": [],
   "source": [
    "# Run break-in cycle\n",
    "Sim_Breakin_0    = pb.Simulation(\n",
    "    Model_0,        experiment =  pb.Experiment( exp_RPT_text *2 ),\n",
    "    parameter_values = Para_0,\n",
    "    solver = pb.CasadiSolver(),\n",
    "    var_pts=var_pts,\n",
    "    ) \n",
    "Sol_Breakin_0    = Sim_Breakin_0.solve(calc_esoh=False)"
   ]
  },
  {
   "cell_type": "code",
   "execution_count": 7,
   "metadata": {},
   "outputs": [],
   "source": [
    "# Run 1st age cycle \n",
    "Sol_AGE_1,Model_AGE_1 = RunModel_basedon_last( \n",
    "    Sol_Breakin_0,Model_0,exp_AGE_text,3,  Para_0,var_pts)\n",
    "# Run 1st RPT:\n",
    "Sol_RPT_1,Model_RPT_1 = RunModel_basedon_last( \n",
    "    Sol_AGE_1,Model_AGE_1,exp_RPT_text,2,  Para_0,var_pts)"
   ]
  },
  {
   "cell_type": "code",
   "execution_count": 8,
   "metadata": {},
   "outputs": [],
   "source": [
    "# Run 2nd age cycle \n",
    "Sol_AGE_2,Model_AGE_2 = RunModel_basedon_last( \n",
    "    Sol_RPT_1,Model_RPT_1,exp_AGE_text,3,  Para_0,var_pts)\n",
    "# Run 2nd RPT:\n",
    "Sol_RPT_2,Model_RPT_2 = RunModel_basedon_last( \n",
    "    Sol_AGE_2,Model_AGE_2,exp_RPT_text,2,  Para_0,var_pts)"
   ]
  },
  {
   "cell_type": "code",
   "execution_count": 9,
   "metadata": {},
   "outputs": [],
   "source": [
    "# Run 3rd age cycle \n",
    "Sol_AGE_3,Model_AGE_3 = RunModel_basedon_last( \n",
    "    Sol_RPT_2,Model_RPT_2,exp_AGE_text,3,  Para_0,var_pts)\n",
    "# Run 3rd RPT:\n",
    "Sol_RPT_3,Model_RPT_3 = RunModel_basedon_last( \n",
    "    Sol_AGE_3,Model_AGE_3,exp_RPT_text,2,  Para_0,var_pts)"
   ]
  },
  {
   "cell_type": "code",
   "execution_count": 10,
   "metadata": {},
   "outputs": [],
   "source": [
    "# Run 4th age cycle \n",
    "Sol_AGE_4,Model_AGE_4 = RunModel_basedon_last( \n",
    "    Sol_RPT_3,Model_RPT_3,  exp_AGE_text,3,  Para_0,var_pts)\n",
    "# Run 4th RPT:\n",
    "Sol_RPT_4,Model_RPT_4 = RunModel_basedon_last( \n",
    "    Sol_AGE_4,Model_AGE_4,exp_RPT_text,2,  Para_0,var_pts)\n"
   ]
  },
  {
   "cell_type": "code",
   "execution_count": null,
   "metadata": {},
   "outputs": [],
   "source": [
    "# Run 5th age cycle \n",
    "Sol_AGE_5,Model_AGE_5 = RunModel_basedon_last( \n",
    "    Sol_RPT_4,Model_RPT_4,  exp_AGE_text,3,  Para_0,var_pts)\n",
    "# Run 5th RPT:\n",
    "Sol_RPT_5,Model_RPT_5 = RunModel_basedon_last( \n",
    "    Sol_AGE_5,Model_AGE_5,  exp_RPT_text,2,  Para_0,var_pts)\n"
   ]
  },
  {
   "cell_type": "code",
   "execution_count": null,
   "metadata": {},
   "outputs": [],
   "source": []
  },
  {
   "cell_type": "code",
   "execution_count": null,
   "metadata": {},
   "outputs": [],
   "source": []
  },
  {
   "cell_type": "code",
   "execution_count": null,
   "metadata": {},
   "outputs": [],
   "source": []
  },
  {
   "cell_type": "code",
   "execution_count": 6,
   "metadata": {},
   "outputs": [
    {
     "data": {
      "application/vnd.jupyter.widget-view+json": {
       "model_id": "f40be1b50213407ba8585ec69fcbd8d6",
       "version_major": 2,
       "version_minor": 0
      },
      "text/plain": [
       "interactive(children=(FloatSlider(value=0.0, description='t', max=52.00800167462465, step=0.5200800167462465),…"
      ]
     },
     "metadata": {},
     "output_type": "display_data"
    }
   ],
   "source": [
    "label = [\"0\",] \n",
    "output_variables3 = [\n",
    "                \"Electrolyte potential [V]\",\n",
    "                \"Positive electrode potential [V]\",\n",
    "                \"Negative electrode potential [V]\",\n",
    "                \"Positive current collector potential [V]\", \n",
    "                \"Terminal voltage [V]\", \n",
    "            ]\n",
    "quick_plot = pb.QuickPlot([Sol_Breakin_0], output_variables3,label,variable_limits='tight') #     \n",
    "quick_plot.dynamic_plot();"
   ]
  },
  {
   "cell_type": "code",
   "execution_count": 11,
   "metadata": {},
   "outputs": [
    {
     "data": {
      "text/plain": [
       "[<matplotlib.lines.Line2D at 0x18ca5183d00>]"
      ]
     },
     "execution_count": 11,
     "metadata": {},
     "output_type": "execute_result"
    },
    {
     "data": {
      "image/png": "[encoded data removed]",
      "text/plain": [
       "<Figure size 432x288 with 1 Axes>"
      ]
     },
     "metadata": {
      "needs_background": "light"
     },
     "output_type": "display_data"
    }
   ],
   "source": [
    "plt.plot(Sol_Breakin_0.cycles[0].steps[1][\"Terminal voltage [V]\"].entries,'-o')\n",
    "plt.plot(Sol_Breakin_0.cycles[1].steps[1][\"Terminal voltage [V]\"].entries,'s')"
   ]
  },
  {
   "cell_type": "code",
   "execution_count": null,
   "metadata": {},
   "outputs": [],
   "source": [
    "label = [\"3\",\"4\"] \n",
    "output_variables3 = [\n",
    "                \"Minimum positive particle concentration\",\n",
    "                \"Minimum negative particle concentration\",\n",
    "                \"Maximum positive particle concentration\",\n",
    "                \"Maximum negative particle concentration\",\n",
    "                \"Maximum positive particle surface concentration\",\n",
    "                \"Maximum negative particle surface concentration\",\n",
    "            ]\n",
    "quick_plot = pb.QuickPlot([Sol_Breakin_3,Sol_Breakin_4], output_variables3,label,variable_limits='tight') #     \n",
    "quick_plot.dynamic_plot();"
   ]
  },
  {
   "cell_type": "code",
   "execution_count": null,
   "metadata": {},
   "outputs": [],
   "source": [
    "label = [\"3\",\"4\"] \n",
    "output_variables3 = [\n",
    "                \"Positive particle surface concentration\",\n",
    "                \"Negative particle surface concentration\",\n",
    "                \"X-averaged electrolyte potential\",\n",
    "                \"X-averaged electrolyte potential [V]\"\n",
    "            ]\n",
    "quick_plot = pb.QuickPlot([Sol_Breakin_3,Sol_Breakin_4], output_variables3,label,variable_limits='tight') #     \n",
    "quick_plot.dynamic_plot();"
   ]
  },
  {
   "cell_type": "code",
   "execution_count": null,
   "metadata": {},
   "outputs": [],
   "source": [
    "label = [\"3\", \"4\"] \n",
    "output_variables3 = [\n",
    "                \"Negative electrode roughness ratio\",\n",
    "                \"Positive electrode roughness ratio\",\n",
    "                \"Total SEI on cracks thickness [m]\",\n",
    "                \"X-averaged total SEI on cracks thickness [m]\", \n",
    "                \"X-averaged negative electrode roughness ratio\",\n",
    "                \"Negative electrode capacity [A.h]\",\n",
    "                \"Positive electrode capacity [A.h]\",\n",
    "            ]\n",
    "quick_plot = pb.QuickPlot([Sol_Breakin_3,Sol_Breakin_4], output_variables3,label,variable_limits='tight') #     \n",
    "quick_plot.dynamic_plot();"
   ]
  },
  {
   "cell_type": "code",
   "execution_count": null,
   "metadata": {},
   "outputs": [],
   "source": [
    "label = [\"2\", \"3\"] \n",
    "output_variables3 = [\n",
    "    \"Loss of capacity to SEI [A.h]\",\n",
    "    \"Loss of capacity to dead lithium plating [A.h]\",\n",
    "    \"Loss of capacity to lithium plating [A.h]\",\n",
    "    \"Loss of capacity to SEI on cracks [A.h]\",\n",
    "    ]\n",
    "quick_plot = pb.QuickPlot([Sol_Breakin_2,Sol_Breakin_3], output_variables3,label,variable_limits='tight') #     \n",
    "quick_plot.dynamic_plot();"
   ]
  },
  {
   "cell_type": "code",
   "execution_count": null,
   "metadata": {},
   "outputs": [],
   "source": [
    "label = [\"Sol_0\",\"Sol_1\"] \n",
    "output_variables3 = [\n",
    "                \"Discharge capacity [A.h]\", \n",
    "                \"Negative electrode SOC\",\n",
    "                \"Positive electrode SOC\",\n",
    "                \"Electrolyte potential [V]\",\n",
    "                \"Negative particle surface concentration [mol.m-3]\",\n",
    "                \"Terminal voltage [V]\",\n",
    "                \"SEI interfacial current density [A.m-2]\",\n",
    "                \"Porosity\"\n",
    "            ]\n",
    "quick_plot = pb.QuickPlot([Sol_0,Sol_1], output_variables3,label,variable_limits='tight') #     \n",
    "quick_plot.dynamic_plot();"
   ]
  },
  {
   "cell_type": "code",
   "execution_count": null,
   "metadata": {},
   "outputs": [],
   "source": [
    "label = [\"Diff_Li_SEI = 1e-18\",\"Diff_Li_SEI = 1e-16\"] \n",
    "output_variables3 = [\n",
    "                \"Discharge capacity [A.h]\", \n",
    "                \"Negative electrode SOC\",\n",
    "                \"Positive electrode SOC\",\n",
    "                \"Electrolyte potential [V]\",\n",
    "                \"Negative particle surface concentration [mol.m-3]\",\n",
    "                \"Terminal voltage [V]\",\n",
    "                \"SEI interfacial current density [A.m-2]\",\n",
    "                \"Porosity\"\n",
    "            ]\n",
    "quick_plot = pb.QuickPlot([Sol_0,Sol_1], output_variables3,label,variable_limits='tight') #     \n",
    "quick_plot.dynamic_plot();"
   ]
  },
  {
   "cell_type": "code",
   "execution_count": null,
   "metadata": {},
   "outputs": [],
   "source": []
  }
 ],
 "metadata": {
  "kernelspec": {
   "display_name": "Python 3.9.6 ('envPBGEM')",
   "language": "python",
   "name": "python3"
  },
  "language_info": {
   "codemirror_mode": {
    "name": "ipython",
    "version": 3
   },
   "file_extension": ".py",
   "mimetype": "text/x-python",
   "name": "python",
   "nbconvert_exporter": "python",
   "pygments_lexer": "ipython3",
   "version": "3.9.6"
  },
  "orig_nbformat": 4,
  "vscode": {
   "interpreter": {
    "hash": "83fab7fbb3a8fe7b5910804f702478ef63e2cc6a08d85072a5d68865ed0fd8c7"
   }
  }
 },
 "nbformat": 4,
 "nbformat_minor": 2
}
