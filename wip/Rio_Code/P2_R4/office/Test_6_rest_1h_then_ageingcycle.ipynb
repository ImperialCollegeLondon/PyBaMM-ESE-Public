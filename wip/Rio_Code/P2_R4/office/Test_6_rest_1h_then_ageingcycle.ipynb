{
 "cells": [
  {
   "cell_type": "code",
   "execution_count": 21,
   "metadata": {},
   "outputs": [],
   "source": [
    "import pybamm as pb;import pandas as pd   ;import numpy as np;import os;import matplotlib.pyplot as plt;import os;#import imageio\n",
    "from scipy.io import savemat,loadmat;from pybamm import constants,exp;import matplotlib as mpl; fs=17; # or we can set import matplotlib.pyplot as plt then say 'mpl.rc...'\n",
    "for k in range(0,1):\n",
    "    mpl.rcParams[\"axes.labelsize\"] = fs\n",
    "    mpl.rcParams[\"axes.titlesize\"] = fs\n",
    "    mpl.rcParams[\"xtick.labelsize\"] =  fs\n",
    "    mpl.rcParams[\"ytick.labelsize\"] =  fs\n",
    "    mpl.rcParams[\"legend.fontsize\"] =  fs\n",
    "    mpl.rcParams['font.sans-serif'] = ['Times New Roman']\n",
    "    mpl.rcParams['font.serif'] = ['Times New Roman']\n",
    "    mpl.rcParams['axes.unicode_minus'] = False\n",
    "\n",
    "import openpyxl"
   ]
  },
  {
   "cell_type": "code",
   "execution_count": 22,
   "metadata": {},
   "outputs": [],
   "source": [
    "from pybamm import exp, constants, Parameter\n",
    "def nmc_LGM50_electrolyte_exchange_current_density_ORegan2021_adjust(c_e, c_s_surf, T):\n",
    "    i_ref = 5.028  # (A/m2)\n",
    "    alpha = 0.43\n",
    "    E_r = 2.401e4\n",
    "    arrhenius = exp(E_r / constants.R * (1 / 298.15 - 1 / T))\n",
    "    c_p_max = Parameter(\"Maximum concentration in positive electrode [mol.m-3]\")\n",
    "    c_e_ref = Parameter(\"Typical electrolyte concentration [mol.m-3]\")\n",
    "    return (\n",
    "        i_ref\n",
    "        * arrhenius\n",
    "        * (c_e / c_e_ref) ** (1 - alpha)\n",
    "        * (c_s_surf / c_p_max) ** alpha\n",
    "        * (1 - c_s_surf / c_p_max) ** (1 - alpha))\n",
    "\n",
    "def nmc_LGM50_diffusivity_ORegan2021_adjust(sto, T):\n",
    "    a1 = -0.9231\n",
    "    a2 = -0.4066\n",
    "    a3 = -0.993\n",
    "    b1 = 0.3216\n",
    "    b2 = 0.4532\n",
    "    b3 = 0.8098\n",
    "    c0 = -13.96\n",
    "    c1 = 0.002534\n",
    "    c2 = 0.003926\n",
    "    c3 = 0.09924\n",
    "    d = 1449\n",
    "\n",
    "    D_ref = (\n",
    "        10\n",
    "        ** (\n",
    "            c0\n",
    "            + a1 * exp(-((sto - b1) ** 2) / c1)\n",
    "            + a2 * exp(-((sto - b2) ** 2) / c2)\n",
    "            + a3 * exp(-((sto - b3) ** 2) / c3)\n",
    "        )\n",
    "        * 10  # correcting factor (see O'Regan et al 2021), mark Ruihe change from 2.7 to 10\n",
    "    )\n",
    "\n",
    "    E_D_s = d * constants.R\n",
    "    arrhenius = exp(E_D_s / constants.R * (1 / 298.15 - 1 / T))\n",
    "\n",
    "    return D_ref * arrhenius\n",
    "\n",
    "def graphite_LGM50_diffusivity_ORegan2021_adjust(sto, T):\n",
    "    a0 = 11.17\n",
    "    a1 = -1.553\n",
    "    a2 = -6.136\n",
    "    a3 = -9.725\n",
    "    a4 = 1.85\n",
    "    b1 = 0.2031\n",
    "    b2 = 0.5375\n",
    "    b3 = 0.9144\n",
    "    b4 = 0.5953\n",
    "    c0 = -15.11\n",
    "    c1 = 0.0006091\n",
    "    c2 = 0.06438\n",
    "    c3 = 0.0578\n",
    "    c4 = 0.001356\n",
    "    d = 2092\n",
    "\n",
    "    D_ref = (\n",
    "        10\n",
    "        ** (\n",
    "            a0 * sto\n",
    "            + c0\n",
    "            + a1 * exp(-((sto - b1) ** 2) / c1)\n",
    "            + a2 * exp(-((sto - b2) ** 2) / c2)\n",
    "            + a3 * exp(-((sto - b3) ** 2) / c3)\n",
    "            + a4 * exp(-((sto - b4) ** 2) / c4)\n",
    "        )\n",
    "        * 20  # correcting factor (see O'Regan et al 2021) mark: Ruihe change from 3.0321 \n",
    "    )\n",
    "\n",
    "    E_D_s = d * constants.R\n",
    "    arrhenius = exp(E_D_s / constants.R * (1 / 298.15 - 1 / T))\n",
    "\n",
    "    return D_ref * arrhenius\n",
    "\n",
    "def graphite_LGM50_electrolyte_exchange_current_density_ORegan2021_adjust(c_e, c_s_surf, T):\n",
    "    i_ref = 12.4  # (A/m2) replaced with value from Schmalstieg et al. (2018), from 2.668 \n",
    "    alpha = 0.792\n",
    "    E_r = 4e4\n",
    "    arrhenius = exp(E_r / constants.R * (1 / 298.15 - 1 / T))\n",
    "\n",
    "    c_n_max = Parameter(\"Maximum concentration in negative electrode [mol.m-3]\")\n",
    "    c_e_ref = Parameter(\"Typical electrolyte concentration [mol.m-3]\")\n",
    "\n",
    "    return (\n",
    "        i_ref\n",
    "        * arrhenius\n",
    "        * (c_e / c_e_ref) ** (1 - alpha)\n",
    "        * (c_s_surf / c_n_max) ** alpha\n",
    "        * (1 - c_s_surf / c_n_max) ** (1 - alpha))\n",
    "\n",
    "def nmc_LGM50_electronic_conductivity_ORegan2021_adjust(T):\n",
    "    E_r = 3.5e3\n",
    "    arrhenius = exp(E_r / constants.R * (1 / 298.15 - 1 / T))\n",
    "\n",
    "    sigma = 0.8473 * arrhenius\n",
    "\n",
    "    return sigma\n"
   ]
  },
  {
   "cell_type": "code",
   "execution_count": 23,
   "metadata": {},
   "outputs": [],
   "source": [
    "def RunModel_basedon_last( Sol_old,Model_old,exp_list,cycle_number,  para,var_pts):\n",
    "    Model_new = (\n",
    "        Model_old.set_initial_conditions_from(\n",
    "            Sol_old, inplace=False\n",
    "            ))\n",
    "    Sim_new    = pb.Simulation(\n",
    "        Model_new,        experiment = pb.Experiment( exp_list *cycle_number ),\n",
    "        parameter_values = para,\n",
    "        solver = pb.CasadiSolver(),\n",
    "        var_pts=var_pts,\n",
    "        ) \n",
    "    Sol_new   = Sim_new.solve(calc_esoh=False)\n",
    "    return Sol_new,Model_new"
   ]
  },
  {
   "cell_type": "code",
   "execution_count": 5,
   "metadata": {},
   "outputs": [
    {
     "name": "stdout",
     "output_type": "stream",
     "text": [
      "[1 2 3 4 5]\n",
      "<class 'numpy.ndarray'>\n",
      "1 5\n",
      "2 6\n",
      "3 7\n",
      "4 8\n",
      "5 9\n"
     ]
    }
   ],
   "source": [
    "import numpy as np\n",
    "List = [5,6,7,8,9];\n",
    "index_list = np.arange(1,len(List)+1,1)\n",
    "print(index_list)\n",
    "print(type(index_list))\n",
    "for index_list_i,List_i in zip(index_list,List):\n",
    "    print(index_list_i,List_i)"
   ]
  },
  {
   "cell_type": "code",
   "execution_count": 24,
   "metadata": {},
   "outputs": [],
   "source": [
    "# Test this branch - Coupled_RioP2 newly created from Simon's develop branch\n",
    "# Run without dry-out model\n",
    "V_max = 4.2;        V_min = 2.5;   Temper_RPT = 25; \n",
    "Total_Cycles = 10; save_at_cycles = 1;  \n",
    "for i in range(0,1):  # Key scan parameters:\n",
    "    Diff_SEI_i = 1.7e-24; \n",
    "    R_SEI_i = 2E5;   Bulk_Sol_Con_i = 4541.0;\n",
    "    D_Li_inSEI_i = 1e-22;    # default: 1e-20 \n",
    "    c_Li_inte_ref_i = 15;    # default: 15\n",
    "    Diff_EC_i   = 2e-20;       k_SEI_i   = 1e-19;\n",
    "    LAMcr_prop_i=2.7778e-16;   Crack_rate_i=3.9e-30; \n",
    "    Couple_SEI_LiP_i = 1e-10; # default: 1e-6\n",
    "    k_LiP_i = 1E-12;         # default: 1e-10\n",
    "    Temper = 25;\n",
    "    mesh_par = 120;\n",
    "\n",
    "for i in range(0,1):  \n",
    "    ChemistryChen=pb.parameter_sets.OKane2022   \n",
    "    #ChemistryChen[\"electrolyte\"] = \"lipf6_Valoen2005\"\n",
    "    Para_0=pb.ParameterValues(chemistry=ChemistryChen)\n",
    "    # DFN parameter\n",
    "    Para_0.update({\"Upper voltage cut-off [V]\": 4.5})\n",
    "    Para_0.update({\"Lower voltage cut-off [V]\": 2.0})\n",
    "    Para_0.update({\"Negative electrode diffusivity [m2.s-1]\": 2e-13})\n",
    "    Para_0.update({\"Positive electrode diffusivity [m2.s-1]\": 1e-13})\n",
    "    # general SEI\n",
    "    Para_0.update({'SEI resistivity [Ohm.m]':R_SEI_i}) ;\n",
    "    # solvent-diffusion limited\n",
    "    Para_0.update({'Outer SEI solvent diffusivity [m2.s-1]':Diff_SEI_i});\n",
    "    Para_0.update({'Bulk solvent concentration [mol.m-3]':Bulk_Sol_Con_i});\n",
    "    # interstitial-diffusion limited\n",
    "    Para_0.update({\n",
    "        'Inner SEI lithium interstitial diffusivity [m2.s-1]':\n",
    "        D_Li_inSEI_i})       \n",
    "    Para_0.update({\n",
    "        'Lithium interstitial reference concentration [mol.m-3]':\n",
    "        c_Li_inte_ref_i}) \n",
    "    # ec-reaction limited\n",
    "    Para_0.update({'EC diffusivity [m2.s-1]':Diff_EC_i}) \n",
    "    Para_0.update({'SEI kinetic rate constant [m.s-1]':k_SEI_i}) \n",
    "    Para_0.update({\n",
    "        'EC initial concentration in electrolyte [mol.m-3]':\n",
    "        Bulk_Sol_Con_i}) \n",
    "    # LiP and coupling with SEI:\n",
    "    Para_0.update({\"Dead lithium decay constant [s-1]\": Couple_SEI_LiP_i})   \n",
    "    Para_0.update({'Lithium plating kinetic rate constant [m.s-1]':k_LiP_i})  \n",
    "    # Crack model\n",
    "    Para_0.update({\n",
    "        \"Negative electrode LAM constant proportional term [s-1]\": \n",
    "        LAMcr_prop_i})\n",
    "    Para_0.update({\n",
    "        \"Positive electrode LAM constant proportional term [s-1]\": \n",
    "        LAMcr_prop_i})  \n",
    "    # make it simple for now, but may want to have T dependency in the future\n",
    "    Para_0.update({\n",
    "        \"Negative electrode cracking rate\": Crack_rate_i})\n",
    "    Para_0.update({\n",
    "        \"Positive electrode cracking rate\": Crack_rate_i})\n",
    "    Para_0.update({\"Negative electrode volume change\": 0.0})\n",
    "    Para_0.update({\"Positive electrode volume change\": 0.0}) \n",
    "    Model_0 = pb.lithium_ion.DFN(     \n",
    "        options={\n",
    "            \"particle\": \"Fickian diffusion\",          \n",
    "            \"SEI\":\"solvent-diffusion limited\",   \n",
    "            \"SEI on cracks\":\"true\",  \n",
    "            \"SEI film resistance\":\"distributed\",          \n",
    "            \"SEI porosity change\":\"true\",      \n",
    "            \"particle mechanics\":\"swelling and cracking\",  \n",
    "            \"loss of active material\":\"stress-driven\", \n",
    "            \"lithium plating\":\"partially reversible\"      \n",
    "            } ) #\n",
    "    var = pb.standard_spatial_vars  \n",
    "    var_pts = {\n",
    "        var.x_n: 20,  \n",
    "        var.x_s: 10,  \n",
    "        var.x_p: 20,  \n",
    "        var.r_n: mesh_par,  \n",
    "        var.r_p: mesh_par,  }"
   ]
  },
  {
   "cell_type": "code",
   "execution_count": 25,
   "metadata": {},
   "outputs": [],
   "source": [
    "exp_AGE_text = [(f\"Discharge at 1 C until {V_min} V\", \n",
    "        f\"Charge at 0.3 C until {V_max} V\", \n",
    "        f\"Hold at {V_max} V until C/100\"),  ]\n",
    "exp_RPT_text = [ (f\"Discharge at 0.1C until {V_min} V\",  \n",
    "        \"Rest for 1 hours\",  \n",
    "        f\"Charge at 0.1C until {V_max} V\" ) ]\n",
    "Experiment_Long = pb.Experiment( exp_AGE_text *3 )\n",
    "Experiment_RPT =  pb.Experiment( exp_RPT_text *2 )"
   ]
  },
  {
   "cell_type": "code",
   "execution_count": 26,
   "metadata": {},
   "outputs": [
    {
     "name": "stderr",
     "output_type": "stream",
     "text": [
      "psetup failed: .../casadi/interfaces/sundials/idas_interface.cpp:849: Calculating Jacobian failed\n",
      "psetup failed: .../casadi/interfaces/sundials/idas_interface.cpp:849: Calculating Jacobian failed\n",
      "psetup failed: .../casadi/interfaces/sundials/idas_interface.cpp:849: Calculating Jacobian failed\n"
     ]
    }
   ],
   "source": [
    "# Run break-in cycle step by step:\n",
    "Sim_Breakin_0    = pb.Simulation(\n",
    "    Model_0,        experiment = pb.Experiment( exp_RPT_text *2 ),\n",
    "    parameter_values = Para_0,\n",
    "    solver = pb.CasadiSolver(),\n",
    "    var_pts=var_pts,\n",
    "    ) \n",
    "Sol_Breakin_0    = Sim_Breakin_0.solve(calc_esoh=False)"
   ]
  },
  {
   "cell_type": "code",
   "execution_count": 27,
   "metadata": {},
   "outputs": [],
   "source": [
    "# Run 2nd age cycle\n",
    "Model_Long_1 = (\n",
    "    Model_0.set_initial_conditions_from(\n",
    "        Sol_Breakin_0, inplace=False\n",
    "        ))\n",
    "\n",
    "Sim_Long_1    = pb.Simulation(\n",
    "    Model_Long_1,        experiment = Experiment_Long,\n",
    "    parameter_values = Para_0,\n",
    "    solver = pb.CasadiSolver(),\n",
    "    var_pts=var_pts,\n",
    "    ) \n",
    "Sol_Long_1   = Sim_Long_1.solve(calc_esoh=False)"
   ]
  },
  {
   "cell_type": "code",
   "execution_count": 28,
   "metadata": {},
   "outputs": [
    {
     "name": "stderr",
     "output_type": "stream",
     "text": [
      "psetup failed: .../casadi/interfaces/sundials/idas_interface.cpp:849: Calculating Jacobian failed\n"
     ]
    }
   ],
   "source": [
    "# Run 1st RPT\n",
    "Model_RPT_1 = (\n",
    "    Model_Long_1.set_initial_conditions_from(\n",
    "        Sol_Long_1, inplace=False\n",
    "        ))\n",
    "Sim_RPT_1    = pb.Simulation(\n",
    "    Model_RPT_1,        experiment = Experiment_RPT,\n",
    "    parameter_values = Para_0,\n",
    "    solver = pb.CasadiSolver(),\n",
    "    var_pts=var_pts,\n",
    "    ) \n",
    "Sol_RPT_1   = Sim_RPT_1.solve(calc_esoh=False)"
   ]
  },
  {
   "cell_type": "code",
   "execution_count": 29,
   "metadata": {},
   "outputs": [],
   "source": [
    "# Run 2nd age cycle\n",
    "Model_Long_2 = (\n",
    "    Model_RPT_1.set_initial_conditions_from(\n",
    "        Sol_RPT_1, inplace=False\n",
    "        ))\n",
    "\n",
    "Sim_Long_2    = pb.Simulation(\n",
    "    Model_Long_2,        experiment = Experiment_Long,\n",
    "    parameter_values = Para_0,\n",
    "    solver = pb.CasadiSolver(),\n",
    "    var_pts=var_pts,\n",
    "    ) \n",
    "Sol_Long_2   = Sim_Long_2.solve(calc_esoh=False)"
   ]
  },
  {
   "cell_type": "code",
   "execution_count": 9,
   "metadata": {},
   "outputs": [
    {
     "name": "stderr",
     "output_type": "stream",
     "text": [
      "psetup failed: .../casadi/interfaces/sundials/idas_interface.cpp:849: Calculating Jacobian failed\n"
     ]
    }
   ],
   "source": [
    "# Run 2nd RPT\n",
    "Model_RPT_2 = (\n",
    "    Model_Long_2.set_initial_conditions_from(\n",
    "        Sol_Long_2, inplace=False\n",
    "        ))\n",
    "Sim_RPT_2    = pb.Simulation(\n",
    "    Model_RPT_2,        experiment = Experiment_RPT,\n",
    "    parameter_values = Para_0,\n",
    "    solver = pb.CasadiSolver(),\n",
    "    var_pts=var_pts,\n",
    "    ) \n",
    "Sol_RPT_2   = Sim_RPT_2.solve(calc_esoh=False)"
   ]
  },
  {
   "cell_type": "code",
   "execution_count": 17,
   "metadata": {},
   "outputs": [],
   "source": [
    "# Run 3rd age cycle \n",
    "Model_Long_3 = (\n",
    "    Model_RPT_2.set_initial_conditions_from(\n",
    "        Sol_RPT_2, inplace=False\n",
    "        ))\n",
    "\n",
    "Sim_Long_3    = pb.Simulation(\n",
    "    Model_Long_3,        experiment = Experiment_Long,\n",
    "    parameter_values = Para_0,\n",
    "    solver = pb.CasadiSolver(),\n",
    "    var_pts=var_pts,\n",
    "    ) \n",
    "Sol_Long_3   = Sim_Long_3.solve(calc_esoh=False)"
   ]
  },
  {
   "cell_type": "code",
   "execution_count": 30,
   "metadata": {},
   "outputs": [
    {
     "name": "stderr",
     "output_type": "stream",
     "text": [
      "psetup failed: .../casadi/interfaces/sundials/idas_interface.cpp:849: Calculating Jacobian failed\n",
      "psetup failed: .../casadi/interfaces/sundials/idas_interface.cpp:849: Calculating Jacobian failed\n",
      "psetup failed: .../casadi/interfaces/sundials/idas_interface.cpp:849: Calculating Jacobian failed\n",
      "psetup failed: .../casadi/interfaces/sundials/idas_interface.cpp:849: Calculating Jacobian failed\n",
      "psetup failed: .../casadi/interfaces/sundials/idas_interface.cpp:849: Calculating Jacobian failed\n",
      "psetup failed: .../casadi/interfaces/sundials/idas_interface.cpp:849: Calculating Jacobian failed\n",
      "psetup failed: .../casadi/interfaces/sundials/idas_interface.cpp:849: Calculating Jacobian failed\n",
      "psetup failed: .../casadi/interfaces/sundials/idas_interface.cpp:849: Calculating Jacobian failed\n"
     ]
    }
   ],
   "source": [
    "# Run 3rd RPT:\n",
    "Sol_RPT_3,Model_RPT_3 = RunModel_basedon_last( \n",
    "    Sol_Long_3,Model_Long_3,exp_RPT_text,2,  Para_0,var_pts)\n"
   ]
  },
  {
   "cell_type": "code",
   "execution_count": 31,
   "metadata": {},
   "outputs": [],
   "source": [
    "# Run 4th age cycle \n",
    "Sol_AGE_4,Model_AGE_4 = RunModel_basedon_last( \n",
    "    Sol_RPT_3,Model_RPT_3,  exp_AGE_text,3,  Para_0,var_pts)\n",
    "# Run 4th RPT:\n",
    "Sol_RPT_4,Model_RPT_4 = RunModel_basedon_last( \n",
    "    Sol_AGE_4,Model_AGE_4,exp_RPT_text,2,  Para_0,var_pts)\n"
   ]
  },
  {
   "cell_type": "code",
   "execution_count": 32,
   "metadata": {},
   "outputs": [
    {
     "name": "stderr",
     "output_type": "stream",
     "text": [
      "psetup failed: .../casadi/interfaces/sundials/idas_interface.cpp:849: Calculating Jacobian failed\n",
      "psetup failed: .../casadi/interfaces/sundials/idas_interface.cpp:849: Calculating Jacobian failed\n"
     ]
    }
   ],
   "source": [
    "# Run 5th age cycle \n",
    "Sol_AGE_5,Model_AGE_5 = RunModel_basedon_last( \n",
    "    Sol_RPT_4,Model_RPT_4,  exp_AGE_text,3,  Para_0,var_pts)\n",
    "# Run 5th RPT:\n",
    "Sol_RPT_5,Model_RPT_5 = RunModel_basedon_last( \n",
    "    Sol_AGE_5,Model_AGE_5,  exp_RPT_text,2,  Para_0,var_pts)"
   ]
  },
  {
   "cell_type": "code",
   "execution_count": 35,
   "metadata": {},
   "outputs": [
    {
     "name": "stderr",
     "output_type": "stream",
     "text": [
      "psetup failed: .../casadi/interfaces/sundials/idas_interface.cpp:849: Calculating Jacobian failed\n",
      "psetup failed: .../casadi/interfaces/sundials/idas_interface.cpp:849: Calculating Jacobian failed\n",
      "psetup failed: .../casadi/interfaces/sundials/idas_interface.cpp:849: Calculating Jacobian failed\n"
     ]
    }
   ],
   "source": [
    "# Run 6th age cycle \n",
    "Sol_AGE_6,Model_AGE_6 = RunModel_basedon_last( \n",
    "    Sol_RPT_5,Model_RPT_5,  exp_AGE_text,3,  Para_0,var_pts)\n",
    "# Run 6th RPT:\n",
    "Sol_RPT_6,Model_RPT_6 = RunModel_basedon_last( \n",
    "    Sol_AGE_6,Model_AGE_6,  exp_RPT_text,2,  Para_0,var_pts)"
   ]
  },
  {
   "cell_type": "code",
   "execution_count": 33,
   "metadata": {},
   "outputs": [
    {
     "data": {
      "application/vnd.jupyter.widget-view+json": {
       "model_id": "68f50b7921a7482c9f8532166cf0c955",
       "version_major": 2,
       "version_minor": 0
      },
      "text/plain": [
       "interactive(children=(FloatSlider(value=0.0, description='t', max=42.28467117980714, step=0.42284671179807143)…"
      ]
     },
     "metadata": {},
     "output_type": "display_data"
    }
   ],
   "source": [
    "label = [\"3\",\"4\",\"5\"] \n",
    "output_variables3 = [\n",
    "                \"Negative electrode roughness ratio\",\n",
    "                \"Positive electrode roughness ratio\",\n",
    "                \"Total SEI on cracks thickness [m]\",\n",
    "                \"X-averaged total SEI on cracks thickness [m]\", \n",
    "                \"X-averaged negative electrode roughness ratio\",\n",
    "                \"X-averaged positive electrode roughness ratio\",\n",
    "            ]\n",
    "quick_plot = pb.QuickPlot(\n",
    "    [\n",
    "        Sol_RPT_3,\n",
    "        Sol_RPT_4,\n",
    "        Sol_RPT_5,\n",
    "        ], \n",
    "    output_variables3,label,variable_limits='tight') #     \n",
    "quick_plot.dynamic_plot();"
   ]
  },
  {
   "cell_type": "code",
   "execution_count": 34,
   "metadata": {},
   "outputs": [
    {
     "data": {
      "application/vnd.jupyter.widget-view+json": {
       "model_id": "01350b021828413bbb982937138957e0",
       "version_major": 2,
       "version_minor": 0
      },
      "text/plain": [
       "interactive(children=(FloatSlider(value=0.0, description='t', max=42.28467117980714, step=0.42284671179807143)…"
      ]
     },
     "metadata": {},
     "output_type": "display_data"
    }
   ],
   "source": [
    "label = [\"3\",\"4\",\"5\"] \n",
    "output_variables3 = [\n",
    "                \"Loss of capacity to SEI on cracks [A.h]\",\n",
    "                \"Loss of capacity to SEI [A.h]\",\n",
    "                \"Loss of capacity to lithium plating [A.h]\",\n",
    "            ]\n",
    "quick_plot = pb.QuickPlot(\n",
    "    [\n",
    "        Sol_RPT_3,\n",
    "        Sol_RPT_4,\n",
    "        Sol_RPT_5,\n",
    "        ], \n",
    "    output_variables3,label,variable_limits='tight') #     \n",
    "quick_plot.dynamic_plot();"
   ]
  },
  {
   "cell_type": "code",
   "execution_count": 14,
   "metadata": {},
   "outputs": [
    {
     "data": {
      "application/vnd.jupyter.widget-view+json": {
       "model_id": "97070a447b2a48edb8101e6bed171bab",
       "version_major": 2,
       "version_minor": 0
      },
      "text/plain": [
       "interactive(children=(FloatSlider(value=0.0, description='t', max=21.201722817962366, step=0.21201722817962365…"
      ]
     },
     "metadata": {},
     "output_type": "display_data"
    }
   ],
   "source": [
    "label = [\"1\",\"2\",\"3\"]  #\n",
    "output_variables3 = [\n",
    "                \"Negative electrode capacity [A.h]\",\n",
    "                \"Positive electrode capacity [A.h]\",\n",
    "                \"Terminal voltage [V]\", \n",
    "                \"SEI film overpotential [V]\",\n",
    "                \"X-averaged SEI film overpotential [V]\",\n",
    "            ]\n",
    "quick_plot = pb.QuickPlot(\n",
    "    [\n",
    "        Sol_Breakin_0.cycles[0], # .steps[2]\n",
    "        Sol_RPT_1.cycles[0],\n",
    "        Sol_RPT_2.cycles[0],\n",
    "        ], \n",
    "    output_variables3,label,variable_limits='tight') #     \n",
    "quick_plot.dynamic_plot();"
   ]
  },
  {
   "cell_type": "code",
   "execution_count": 15,
   "metadata": {},
   "outputs": [
    {
     "data": {
      "application/vnd.jupyter.widget-view+json": {
       "model_id": "93709496edc8421a9fcc3dec3691e9b4",
       "version_major": 2,
       "version_minor": 0
      },
      "text/plain": [
       "interactive(children=(FloatSlider(value=0.0, description='t', max=21.201722817962366, step=0.21201722817962365…"
      ]
     },
     "metadata": {},
     "output_type": "display_data"
    }
   ],
   "source": [
    "label = [\"1\",\"2\",\"3\"]  #\n",
    "output_variables3 = [\n",
    "                \"Negative electrode SOC\",\n",
    "                \"Positive electrode SOC\",\n",
    "                \"X-averaged electrolyte potential [V]\",\n",
    "                \"X-averaged positive electrode potential [V]\",\n",
    "                \"X-averaged negative electrode potential [V]\",\n",
    "                \"Electrolyte concentration [mol.m-3]\",\n",
    "                \"Negative electrode reaction overpotential [V]\",      \n",
    "            ]\n",
    "quick_plot = pb.QuickPlot(\n",
    "    [\n",
    "        Sol_Breakin_0.cycles[0], # .steps[2]\n",
    "        Sol_RPT_1.cycles[0],\n",
    "        Sol_RPT_2.cycles[0],\n",
    "        ], \n",
    "    output_variables3,label,variable_limits='tight') #     \n",
    "quick_plot.dynamic_plot();"
   ]
  },
  {
   "cell_type": "code",
   "execution_count": 16,
   "metadata": {},
   "outputs": [
    {
     "data": {
      "application/vnd.jupyter.widget-view+json": {
       "model_id": "ab1996e530df4115bf523014b2599043",
       "version_major": 2,
       "version_minor": 0
      },
      "text/plain": [
       "interactive(children=(FloatSlider(value=0.0, description='t', max=21.201722817962366, step=0.21201722817962365…"
      ]
     },
     "metadata": {},
     "output_type": "display_data"
    }
   ],
   "source": [
    "label = [\"1\",\"2\",\"3\"]  #\n",
    "output_variables3 = [\n",
    "    \"Terminal voltage [V]\", \n",
    "    \"Negative crack surface to volume ratio [m-1]\",\n",
    "    \"Negative electrode SEI on cracks interfacial current density [A.m-2]\",\n",
    "    \"X-averaged SEI on cracks interfacial current density [A.m-2]\",    \n",
    "    \"Negative particle cracking rate\",       \n",
    "    \"Inner SEI on cracks concentration [mol.m-3]\",\n",
    "    \"Outer SEI on cracks concentration [mol.m-3]\",\n",
    "    ]\n",
    "quick_plot = pb.QuickPlot(\n",
    "    [\n",
    "        Sol_Breakin_0.cycles[0], # .steps[2]\n",
    "        Sol_RPT_1.cycles[0],\n",
    "        Sol_RPT_2.cycles[0],\n",
    "        ], \n",
    "    output_variables3,label,variable_limits='tight') #     \n",
    "quick_plot.dynamic_plot();"
   ]
  },
  {
   "cell_type": "code",
   "execution_count": null,
   "metadata": {},
   "outputs": [],
   "source": []
  },
  {
   "cell_type": "code",
   "execution_count": null,
   "metadata": {},
   "outputs": [],
   "source": []
  },
  {
   "cell_type": "code",
   "execution_count": null,
   "metadata": {},
   "outputs": [],
   "source": []
  },
  {
   "cell_type": "code",
   "execution_count": null,
   "metadata": {},
   "outputs": [],
   "source": []
  },
  {
   "cell_type": "code",
   "execution_count": null,
   "metadata": {},
   "outputs": [],
   "source": []
  }
 ],
 "metadata": {
  "kernelspec": {
   "display_name": "Python 3.9.6 ('envPBGEM')",
   "language": "python",
   "name": "python3"
  },
  "language_info": {
   "codemirror_mode": {
    "name": "ipython",
    "version": 3
   },
   "file_extension": ".py",
   "mimetype": "text/x-python",
   "name": "python",
   "nbconvert_exporter": "python",
   "pygments_lexer": "ipython3",
   "version": "3.9.6"
  },
  "orig_nbformat": 4,
  "vscode": {
   "interpreter": {
    "hash": "83fab7fbb3a8fe7b5910804f702478ef63e2cc6a08d85072a5d68865ed0fd8c7"
   }
  }
 },
 "nbformat": 4,
 "nbformat_minor": 2
}
