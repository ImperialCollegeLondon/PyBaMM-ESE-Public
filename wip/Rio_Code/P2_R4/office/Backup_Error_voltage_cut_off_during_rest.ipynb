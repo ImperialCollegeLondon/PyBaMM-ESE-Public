{
 "cells": [
  {
   "cell_type": "code",
   "execution_count": 1,
   "metadata": {},
   "outputs": [],
   "source": [
    "import pybamm as pb;import pandas as pd   ;import numpy as np;import os;import matplotlib.pyplot as plt;import os;#import imageio\n",
    "from scipy.io import savemat,loadmat;from pybamm import constants,exp;import matplotlib as mpl; fs=17; # or we can set import matplotlib.pyplot as plt then say 'mpl.rc...'\n",
    "for k in range(0,1):\n",
    "    mpl.rcParams[\"axes.labelsize\"] = fs\n",
    "    mpl.rcParams[\"axes.titlesize\"] = fs\n",
    "    mpl.rcParams[\"xtick.labelsize\"] =  fs\n",
    "    mpl.rcParams[\"ytick.labelsize\"] =  fs\n",
    "    mpl.rcParams[\"legend.fontsize\"] =  fs\n",
    "    mpl.rcParams['font.sans-serif'] = ['Times New Roman']\n",
    "    mpl.rcParams['font.serif'] = ['Times New Roman']\n",
    "    mpl.rcParams['axes.unicode_minus'] = False\n",
    "\n",
    "import openpyxl"
   ]
  },
  {
   "cell_type": "markdown",
   "metadata": {},
   "source": [
    "# Please read:  2022-08-03\n",
    "This back-up script is to reproduce the errors occur for Coupled_RioP2 branch \n",
    "when I try to run full GEM model with OKANE2022 para and break-in Total_Cycles\n",
    "which is:\n",
    "Experiment_Breakin_0 = pb.Experiment( [\n",
    "    ( f\"Discharge at 0.1C until {V_min} V\",  \n",
    "    \"Rest for 6 hours\",  \n",
    "    f\"Charge at 0.1C until {V_max} V\" )  ] *2 )\n",
    "\n",
    "Errors occur when I rest for 6 hours in the 2nd cycle"
   ]
  },
  {
   "cell_type": "code",
   "execution_count": 2,
   "metadata": {},
   "outputs": [],
   "source": [
    "# Test this branch - Coupled_RioP2 newly created from Simon's develop branch\n",
    "# Run without dry-out model\n",
    "V_max = 4.2;        V_min = 2.5;   Temper_RPT = 25; \n",
    "Total_Cycles = 10; save_at_cycles = 1;  \n",
    "for i in range(0,1):  # Key scan parameters:\n",
    "    Diff_SEI_i = 1.7e-20; \n",
    "    R_SEI_i = 2E5;   Bulk_Sol_Con_i = 4541.0;\n",
    "    D_Li_inSEI_i = 1e-12;    # default: 1e-20 \n",
    "    c_Li_inte_ref_i = 15;    # default: 15\n",
    "    Diff_EC_i   = 2e-20;       k_SEI_i   = 1e-16;\n",
    "    LAMcr_prop_i=2.7778e-07;   Crack_rate_i=3.9e-20; \n",
    "    Couple_SEI_LiP_i = 1e-6; # default: 1e-6\n",
    "    k_LiP_i = 1E-10;         # default: 1e-10\n",
    "    Temper = 25;\n",
    "    mesh_par = 120;\n",
    "     \n",
    "for i in range(0,1):  \n",
    "    ChemistryChen=pb.parameter_sets.OKane2022   \n",
    "    #ChemistryChen[\"electrolyte\"] = \"lipf6_Valoen2005\"\n",
    "    Para_0=pb.ParameterValues(chemistry=ChemistryChen)\n",
    "    # DFN parameter\n",
    "    Para_0.update({\"Upper voltage cut-off [V]\": 4.21})\n",
    "    Para_0.update({\"Lower voltage cut-off [V]\": 2.49})\n",
    "    Para_0.update({\"Negative electrode diffusivity [m2.s-1]\": 2e-13})\n",
    "    Para_0.update({\"Positive electrode diffusivity [m2.s-1]\": 1e-13})\n",
    "    # general SEI\n",
    "    Para_0.update({'SEI resistivity [Ohm.m]':R_SEI_i}) ;\n",
    "    # solvent-diffusion limited\n",
    "    Para_0.update({'Outer SEI solvent diffusivity [m2.s-1]':Diff_SEI_i});\n",
    "    Para_0.update({'Bulk solvent concentration [mol.m-3]':Bulk_Sol_Con_i});\n",
    "    # interstitial-diffusion limited\n",
    "    Para_0.update({'Inner SEI lithium interstitial diffusivity [m2.s-1]':D_Li_inSEI_i})       \n",
    "    Para_0.update({'Lithium interstitial reference concentration [mol.m-3]':c_Li_inte_ref_i}) \n",
    "    # ec-reaction limited\n",
    "    Para_0.update({'EC diffusivity [m2.s-1]':Diff_EC_i}) \n",
    "    Para_0.update({'SEI kinetic rate constant [m.s-1]':k_SEI_i}) \n",
    "    Para_0.update({'EC initial concentration in electrolyte [mol.m-3]':Bulk_Sol_Con_i}) \n",
    "    # LiP and coupling with SEI:\n",
    "    Para_0.update({\"Dead lithium decay constant [s-1]\": Couple_SEI_LiP_i})   \n",
    "    Para_0.update({'Lithium plating kinetic rate constant [m.s-1]':k_LiP_i})  \n",
    "    # Crack model\n",
    "    Para_0.update({\"Negative electrode LAM constant proportional term [s-1]\": LAMcr_prop_i})\n",
    "    Para_0.update({\"Positive electrode LAM constant proportional term [s-1]\": LAMcr_prop_i})  \n",
    "    # make it simple for now, but may want to have T dependency in the future\n",
    "    Para_0.update({\"Negative electrode cracking rate\": Crack_rate_i})\n",
    "    Para_0.update({\"Positive electrode cracking rate\": Crack_rate_i})\n",
    "    Para_0.update({\"Negative electrode volume change\": 0.0})\n",
    "    Para_0.update({\"Positive electrode volume change\": 0.0}) \n",
    "    Model_0 = pb.lithium_ion.DFN(     \n",
    "        options={\n",
    "            \"particle\": \"Fickian diffusion\",          \n",
    "            \"SEI\":\"solvent-diffusion limited\",   \n",
    "            \"SEI on cracks\":\"true\",  \n",
    "            \"SEI film resistance\":\"distributed\",          \n",
    "            \"SEI porosity change\":\"true\",      \n",
    "            \"particle mechanics\":\"swelling and cracking\",  \n",
    "            \"loss of active material\":\"stress-driven\", \n",
    "            \"lithium plating\":\"partially reversible\"      } ) #\n",
    "    var = pb.standard_spatial_vars  \n",
    "    var_pts = {\n",
    "        var.x_n: 20,  \n",
    "        var.x_s: 10,  \n",
    "        var.x_p: 20,  \n",
    "        var.r_n: mesh_par,  \n",
    "        var.r_p: mesh_par,  }"
   ]
  },
  {
   "cell_type": "code",
   "execution_count": 3,
   "metadata": {},
   "outputs": [
    {
     "name": "stderr",
     "output_type": "stream",
     "text": [
      "psetup failed: .../casadi/interfaces/sundials/idas_interface.cpp:849: Calculating Jacobian failed\n",
      "psetup failed: .../casadi/interfaces/sundials/idas_interface.cpp:849: Calculating Jacobian failed\n",
      "psetup failed: .../casadi/interfaces/sundials/idas_interface.cpp:849: Calculating Jacobian failed\n",
      "psetup failed: .../casadi/interfaces/sundials/idas_interface.cpp:849: Calculating Jacobian failed\n",
      "psetup failed: .../casadi/interfaces/sundials/idas_interface.cpp:849: Calculating Jacobian failed\n",
      "psetup failed: .../casadi/interfaces/sundials/idas_interface.cpp:849: Calculating Jacobian failed\n",
      "psetup failed: .../casadi/interfaces/sundials/idas_interface.cpp:849: Calculating Jacobian failed\n",
      "psetup failed: .../casadi/interfaces/sundials/idas_interface.cpp:849: Calculating Jacobian failed\n",
      "psetup failed: .../casadi/interfaces/sundials/idas_interface.cpp:849: Calculating Jacobian failed\n",
      "psetup failed: .../casadi/interfaces/sundials/idas_interface.cpp:849: Calculating Jacobian failed\n",
      "At t = 5.28792e-006 and h = 5.04296e-012, the corrector convergence failed repeatedly or with |h| = hmin.\n",
      "psetup failed: .../casadi/interfaces/sundials/idas_interface.cpp:849: Calculating Jacobian failed\n",
      "psetup failed: .../casadi/interfaces/sundials/idas_interface.cpp:849: Calculating Jacobian failed\n",
      "psetup failed: .../casadi/interfaces/sundials/idas_interface.cpp:849: Calculating Jacobian failed\n",
      "psetup failed: .../casadi/interfaces/sundials/idas_interface.cpp:849: Calculating Jacobian failed\n",
      "psetup failed: .../casadi/interfaces/sundials/idas_interface.cpp:849: Calculating Jacobian failed\n",
      "psetup failed: .../casadi/interfaces/sundials/idas_interface.cpp:849: Calculating Jacobian failed\n",
      "psetup failed: .../casadi/interfaces/sundials/idas_interface.cpp:849: Calculating Jacobian failed\n",
      "psetup failed: .../casadi/interfaces/sundials/idas_interface.cpp:849: Calculating Jacobian failed\n",
      "psetup failed: .../casadi/interfaces/sundials/idas_interface.cpp:849: Calculating Jacobian failed\n",
      "psetup failed: .../casadi/interfaces/sundials/idas_interface.cpp:849: Calculating Jacobian failed\n",
      "At t = 5e-006 and h = 4.76837e-012, the corrector convergence failed repeatedly or with |h| = hmin.\n",
      "psetup failed: .../casadi/interfaces/sundials/idas_interface.cpp:849: Calculating Jacobian failed\n",
      "psetup failed: .../casadi/interfaces/sundials/idas_interface.cpp:849: Calculating Jacobian failed\n",
      "psetup failed: .../casadi/interfaces/sundials/idas_interface.cpp:849: Calculating Jacobian failed\n",
      "psetup failed: .../casadi/interfaces/sundials/idas_interface.cpp:849: Calculating Jacobian failed\n",
      "psetup failed: .../casadi/interfaces/sundials/idas_interface.cpp:849: Calculating Jacobian failed\n",
      "psetup failed: .../casadi/interfaces/sundials/idas_interface.cpp:849: Calculating Jacobian failed\n",
      "psetup failed: .../casadi/interfaces/sundials/idas_interface.cpp:849: Calculating Jacobian failed\n",
      "psetup failed: .../casadi/interfaces/sundials/idas_interface.cpp:849: Calculating Jacobian failed\n",
      "psetup failed: .../casadi/interfaces/sundials/idas_interface.cpp:849: Calculating Jacobian failed\n",
      "psetup failed: .../casadi/interfaces/sundials/idas_interface.cpp:849: Calculating Jacobian failed\n",
      "psetup failed: .../casadi/interfaces/sundials/idas_interface.cpp:849: Calculating Jacobian failed\n",
      "psetup failed: .../casadi/interfaces/sundials/idas_interface.cpp:849: Calculating Jacobian failed\n",
      "psetup failed: .../casadi/interfaces/sundials/idas_interface.cpp:849: Calculating Jacobian failed\n",
      "psetup failed: .../casadi/interfaces/sundials/idas_interface.cpp:849: Calculating Jacobian failed\n",
      "psetup failed: .../casadi/interfaces/sundials/idas_interface.cpp:849: Calculating Jacobian failed\n",
      "psetup failed: .../casadi/interfaces/sundials/idas_interface.cpp:849: Calculating Jacobian failed\n",
      "psetup failed: .../casadi/interfaces/sundials/idas_interface.cpp:849: Calculating Jacobian failed\n",
      "psetup failed: .../casadi/interfaces/sundials/idas_interface.cpp:849: Calculating Jacobian failed\n",
      "psetup failed: .../casadi/interfaces/sundials/idas_interface.cpp:849: Calculating Jacobian failed\n",
      "psetup failed: .../casadi/interfaces/sundials/idas_interface.cpp:849: Calculating Jacobian failed\n",
      "psetup failed: .../casadi/interfaces/sundials/idas_interface.cpp:849: Calculating Jacobian failed\n"
     ]
    }
   ],
   "source": [
    "# Run break-in cycle step by step:\n",
    "Experiment_Breakin_0 = pb.Experiment( [\n",
    "    ( f\"Discharge at 0.1C until {V_min} V\",  \n",
    "    \"Rest for 6 hours\",  \n",
    "    f\"Charge at 0.1C until {V_max} V\" )  ] *1 )\n",
    "Experiment_Breakin_1 = pb.Experiment( [\n",
    "    ( f\"Discharge at 0.1C until {V_min} V\",  )  ] *1 )\n",
    "Experiment_Breakin_2 = pb.Experiment( [\n",
    "    ( \"Rest for 1 hour\",  )  ] *1 )\n",
    "\n",
    "# Run 1st cycle\n",
    "Sim_Breakin_0    = pb.Simulation(\n",
    "    Model_0,        experiment = Experiment_Breakin_0,\n",
    "    parameter_values = Para_0,\n",
    "    solver = pb.CasadiSolver(),\n",
    "    var_pts=var_pts,\n",
    "    ) \n",
    "Sol_Breakin_0    = Sim_Breakin_0.solve(calc_esoh=False)\n",
    "# Run 2nd cycle - diacharge\n",
    "Model_Breakin_1 = Model_0.set_initial_conditions_from(Sol_Breakin_0, inplace=False)\n",
    "\n",
    "Sim_Breakin_1    = pb.Simulation(\n",
    "    Model_Breakin_1,        experiment = Experiment_Breakin_1,\n",
    "    parameter_values = Para_0,\n",
    "    solver = pb.CasadiSolver(),\n",
    "    var_pts=var_pts,\n",
    "    ) \n",
    "Sol_Breakin_1    = Sim_Breakin_1.solve(calc_esoh=False)\n"
   ]
  },
  {
   "cell_type": "code",
   "execution_count": 4,
   "metadata": {},
   "outputs": [],
   "source": [
    "# Run 2nd cycle - rest 1h\n",
    "Model_Breakin_2 = Model_Breakin_1.set_initial_conditions_from(Sol_Breakin_1, inplace=False)\n",
    "\n",
    "Sim_Breakin_2    = pb.Simulation(\n",
    "    Model_Breakin_2,        experiment = Experiment_Breakin_2,\n",
    "    parameter_values = Para_0,\n",
    "    solver = pb.CasadiSolver(),\n",
    "    var_pts=var_pts,\n",
    "    ) \n",
    "Sol_Breakin_2    = Sim_Breakin_2.solve(calc_esoh=False)\n"
   ]
  },
  {
   "cell_type": "code",
   "execution_count": 5,
   "metadata": {},
   "outputs": [
    {
     "name": "stderr",
     "output_type": "stream",
     "text": [
      "psetup failed: .../casadi/interfaces/sundials/idas_interface.cpp:849: Calculating Jacobian failed\n",
      "psetup failed: .../casadi/interfaces/sundials/idas_interface.cpp:849: Calculating Jacobian failed\n"
     ]
    }
   ],
   "source": [
    "Experiment_Breakin_3 = pb.Experiment( [\n",
    "    ( \"Rest for 2 min\",  )  ] *1 )\n",
    "Model_Breakin_3 = Model_Breakin_2.set_initial_conditions_from(Sol_Breakin_2, inplace=False)\n",
    "\n",
    "Sim_Breakin_3    = pb.Simulation(\n",
    "    Model_Breakin_3,        experiment = Experiment_Breakin_3,\n",
    "    parameter_values = Para_0,\n",
    "    solver = pb.CasadiSolver(),\n",
    "    var_pts=var_pts,\n",
    "    ) \n",
    "Sol_Breakin_3    = Sim_Breakin_3.solve(calc_esoh=False)\n"
   ]
  },
  {
   "cell_type": "code",
   "execution_count": 6,
   "metadata": {},
   "outputs": [
    {
     "name": "stderr",
     "output_type": "stream",
     "text": [
      "psetup failed: .../casadi/interfaces/sundials/idas_interface.cpp:849: Calculating Jacobian failed\n",
      "psetup failed: .../casadi/interfaces/sundials/idas_interface.cpp:849: Calculating Jacobian failed\n",
      "psetup failed: .../casadi/interfaces/sundials/idas_interface.cpp:849: Calculating Jacobian failed\n",
      "psetup failed: .../casadi/interfaces/sundials/idas_interface.cpp:849: Calculating Jacobian failed\n",
      "psetup failed: .../casadi/interfaces/sundials/idas_interface.cpp:849: Calculating Jacobian failed\n",
      "The residual routine or the linear setup or solve routine had a recoverable error, but IDACalcIC was unable to recover.\n",
      "psetup failed: .../casadi/interfaces/sundials/idas_interface.cpp:849: Calculating Jacobian failed\n",
      "psetup failed: .../casadi/interfaces/sundials/idas_interface.cpp:849: Calculating Jacobian failed\n",
      "psetup failed: .../casadi/interfaces/sundials/idas_interface.cpp:849: Calculating Jacobian failed\n",
      "psetup failed: .../casadi/interfaces/sundials/idas_interface.cpp:849: Calculating Jacobian failed\n",
      "psetup failed: .../casadi/interfaces/sundials/idas_interface.cpp:849: Calculating Jacobian failed\n",
      "The residual routine or the linear setup or solve routine had a recoverable error, but IDACalcIC was unable to recover.\n",
      "psetup failed: .../casadi/interfaces/sundials/idas_interface.cpp:849: Calculating Jacobian failed\n",
      "psetup failed: .../casadi/interfaces/sundials/idas_interface.cpp:849: Calculating Jacobian failed\n",
      "psetup failed: .../casadi/interfaces/sundials/idas_interface.cpp:849: Calculating Jacobian failed\n",
      "psetup failed: .../casadi/interfaces/sundials/idas_interface.cpp:849: Calculating Jacobian failed\n",
      "psetup failed: .../casadi/interfaces/sundials/idas_interface.cpp:849: Calculating Jacobian failed\n",
      "The residual routine or the linear setup or solve routine had a recoverable error, but IDACalcIC was unable to recover.\n",
      "psetup failed: .../casadi/interfaces/sundials/idas_interface.cpp:849: Calculating Jacobian failed\n",
      "psetup failed: .../casadi/interfaces/sundials/idas_interface.cpp:849: Calculating Jacobian failed\n",
      "psetup failed: .../casadi/interfaces/sundials/idas_interface.cpp:849: Calculating Jacobian failed\n",
      "psetup failed: .../casadi/interfaces/sundials/idas_interface.cpp:849: Calculating Jacobian failed\n",
      "psetup failed: .../casadi/interfaces/sundials/idas_interface.cpp:849: Calculating Jacobian failed\n",
      "The residual routine or the linear setup or solve routine had a recoverable error, but IDACalcIC was unable to recover.\n",
      "psetup failed: .../casadi/interfaces/sundials/idas_interface.cpp:849: Calculating Jacobian failed\n",
      "psetup failed: .../casadi/interfaces/sundials/idas_interface.cpp:849: Calculating Jacobian failed\n",
      "psetup failed: .../casadi/interfaces/sundials/idas_interface.cpp:849: Calculating Jacobian failed\n",
      "psetup failed: .../casadi/interfaces/sundials/idas_interface.cpp:849: Calculating Jacobian failed\n",
      "psetup failed: .../casadi/interfaces/sundials/idas_interface.cpp:849: Calculating Jacobian failed\n",
      "The residual routine or the linear setup or solve routine had a recoverable error, but IDACalcIC was unable to recover.\n"
     ]
    },
    {
     "ename": "SolverError",
     "evalue": "Maximum number of decreased steps occurred at t=0.0. Try solving the model up to this time only or reducing dt_max (currently, dt_max=3.5458164923888056).",
     "output_type": "error",
     "traceback": [
      "\u001b[1;31m---------------------------------------------------------------------------\u001b[0m",
      "\u001b[1;31mSolverError\u001b[0m                               Traceback (most recent call last)",
      "\u001b[1;32md:\\GitPyBaMM\\LRH_409\\LRH_409\\envPBGEM\\PyBaMM-GEM\\wip\\Rio_Code\\P2_R4\\office\\Backup_Error_voltage_cut_off_during_rest.ipynb Cell 7\u001b[0m in \u001b[0;36m<cell line: 11>\u001b[1;34m()\u001b[0m\n\u001b[0;32m      <a href='vscode-notebook-cell:/d%3A/GitPyBaMM/LRH_409/LRH_409/envPBGEM/PyBaMM-GEM/wip/Rio_Code/P2_R4/office/Backup_Error_voltage_cut_off_during_rest.ipynb#ch0000007?line=2'>3</a>\u001b[0m Model_Breakin_4 \u001b[39m=\u001b[39m Model_Breakin_3\u001b[39m.\u001b[39mset_initial_conditions_from(Sol_Breakin_3, inplace\u001b[39m=\u001b[39m\u001b[39mFalse\u001b[39;00m)\n\u001b[0;32m      <a href='vscode-notebook-cell:/d%3A/GitPyBaMM/LRH_409/LRH_409/envPBGEM/PyBaMM-GEM/wip/Rio_Code/P2_R4/office/Backup_Error_voltage_cut_off_during_rest.ipynb#ch0000007?line=4'>5</a>\u001b[0m Sim_Breakin_4    \u001b[39m=\u001b[39m pb\u001b[39m.\u001b[39mSimulation(\n\u001b[0;32m      <a href='vscode-notebook-cell:/d%3A/GitPyBaMM/LRH_409/LRH_409/envPBGEM/PyBaMM-GEM/wip/Rio_Code/P2_R4/office/Backup_Error_voltage_cut_off_during_rest.ipynb#ch0000007?line=5'>6</a>\u001b[0m     Model_Breakin_4,        experiment \u001b[39m=\u001b[39m Experiment_Breakin_4,\n\u001b[0;32m      <a href='vscode-notebook-cell:/d%3A/GitPyBaMM/LRH_409/LRH_409/envPBGEM/PyBaMM-GEM/wip/Rio_Code/P2_R4/office/Backup_Error_voltage_cut_off_during_rest.ipynb#ch0000007?line=6'>7</a>\u001b[0m     parameter_values \u001b[39m=\u001b[39m Para_0,\n\u001b[0;32m      <a href='vscode-notebook-cell:/d%3A/GitPyBaMM/LRH_409/LRH_409/envPBGEM/PyBaMM-GEM/wip/Rio_Code/P2_R4/office/Backup_Error_voltage_cut_off_during_rest.ipynb#ch0000007?line=7'>8</a>\u001b[0m     solver \u001b[39m=\u001b[39m pb\u001b[39m.\u001b[39mCasadiSolver(),\n\u001b[0;32m      <a href='vscode-notebook-cell:/d%3A/GitPyBaMM/LRH_409/LRH_409/envPBGEM/PyBaMM-GEM/wip/Rio_Code/P2_R4/office/Backup_Error_voltage_cut_off_during_rest.ipynb#ch0000007?line=8'>9</a>\u001b[0m     var_pts\u001b[39m=\u001b[39mvar_pts,\n\u001b[0;32m     <a href='vscode-notebook-cell:/d%3A/GitPyBaMM/LRH_409/LRH_409/envPBGEM/PyBaMM-GEM/wip/Rio_Code/P2_R4/office/Backup_Error_voltage_cut_off_during_rest.ipynb#ch0000007?line=9'>10</a>\u001b[0m     ) \n\u001b[1;32m---> <a href='vscode-notebook-cell:/d%3A/GitPyBaMM/LRH_409/LRH_409/envPBGEM/PyBaMM-GEM/wip/Rio_Code/P2_R4/office/Backup_Error_voltage_cut_off_during_rest.ipynb#ch0000007?line=10'>11</a>\u001b[0m Sol_Breakin_4    \u001b[39m=\u001b[39m Sim_Breakin_4\u001b[39m.\u001b[39;49msolve(calc_esoh\u001b[39m=\u001b[39;49m\u001b[39mFalse\u001b[39;49;00m)\n",
      "File \u001b[1;32md:\\gitpybamm\\lrh_409\\lrh_409\\envpbgem\\pybamm-gem\\pybamm\\simulation.py:843\u001b[0m, in \u001b[0;36mSimulation.solve\u001b[1;34m(self, t_eval, solver, check_model, save_at_cycles, calc_esoh, starting_solution, initial_soc, callbacks, **kwargs)\u001b[0m\n\u001b[0;32m    841\u001b[0m \u001b[39m# If none of the cycles worked, raise an error\u001b[39;00m\n\u001b[0;32m    842\u001b[0m \u001b[39mif\u001b[39;00m cycle_num \u001b[39m==\u001b[39m \u001b[39m1\u001b[39m \u001b[39mand\u001b[39;00m step_num \u001b[39m==\u001b[39m \u001b[39m1\u001b[39m:\n\u001b[1;32m--> 843\u001b[0m     \u001b[39mraise\u001b[39;00m e\n\u001b[0;32m    844\u001b[0m \u001b[39m# Otherwise, just stop this cycle\u001b[39;00m\n\u001b[0;32m    845\u001b[0m \u001b[39mbreak\u001b[39;00m\n",
      "File \u001b[1;32md:\\gitpybamm\\lrh_409\\lrh_409\\envpbgem\\pybamm-gem\\pybamm\\simulation.py:829\u001b[0m, in \u001b[0;36mSimulation.solve\u001b[1;34m(self, t_eval, solver, check_model, save_at_cycles, calc_esoh, starting_solution, initial_soc, callbacks, **kwargs)\u001b[0m\n\u001b[0;32m    827\u001b[0m npts \u001b[39m=\u001b[39m \u001b[39mmax\u001b[39m(\u001b[39mint\u001b[39m(\u001b[39mround\u001b[39m(dt \u001b[39m/\u001b[39m exp_inputs[\u001b[39m\"\u001b[39m\u001b[39mperiod\u001b[39m\u001b[39m\"\u001b[39m])) \u001b[39m+\u001b[39m \u001b[39m1\u001b[39m, \u001b[39m2\u001b[39m)\n\u001b[0;32m    828\u001b[0m \u001b[39mtry\u001b[39;00m:\n\u001b[1;32m--> 829\u001b[0m     step_solution \u001b[39m=\u001b[39m solver\u001b[39m.\u001b[39mstep(\n\u001b[0;32m    830\u001b[0m         current_solution,\n\u001b[0;32m    831\u001b[0m         model,\n\u001b[0;32m    832\u001b[0m         dt,\n\u001b[0;32m    833\u001b[0m         npts\u001b[39m=\u001b[39mnpts,\n\u001b[0;32m    834\u001b[0m         save\u001b[39m=\u001b[39m\u001b[39mFalse\u001b[39;00m,\n\u001b[0;32m    835\u001b[0m         \u001b[39m*\u001b[39m\u001b[39m*\u001b[39mkwargs,\n\u001b[0;32m    836\u001b[0m     )\n\u001b[0;32m    837\u001b[0m \u001b[39mexcept\u001b[39;00m pybamm\u001b[39m.\u001b[39mSolverError \u001b[39mas\u001b[39;00m e:\n\u001b[0;32m    838\u001b[0m     logs[\u001b[39m\"\u001b[39m\u001b[39merror\u001b[39m\u001b[39m\"\u001b[39m] \u001b[39m=\u001b[39m e\n",
      "File \u001b[1;32md:\\gitpybamm\\lrh_409\\lrh_409\\envpbgem\\pybamm-gem\\pybamm\\solvers\\base_solver.py:1319\u001b[0m, in \u001b[0;36mBaseSolver.step\u001b[1;34m(self, old_solution, model, dt, npts, external_variables, inputs, save)\u001b[0m\n\u001b[0;32m   1312\u001b[0m pybamm\u001b[39m.\u001b[39mlogger\u001b[39m.\u001b[39mverbose(\n\u001b[0;32m   1313\u001b[0m     \u001b[39m\"\u001b[39m\u001b[39mStepping for \u001b[39m\u001b[39m{:.0f}\u001b[39;00m\u001b[39m < t < \u001b[39m\u001b[39m{:.0f}\u001b[39;00m\u001b[39m\"\u001b[39m\u001b[39m.\u001b[39mformat(\n\u001b[0;32m   1314\u001b[0m         t \u001b[39m*\u001b[39m model\u001b[39m.\u001b[39mtimescale_eval,\n\u001b[0;32m   1315\u001b[0m         (t \u001b[39m+\u001b[39m dt_dimensionless) \u001b[39m*\u001b[39m model\u001b[39m.\u001b[39mtimescale_eval,\n\u001b[0;32m   1316\u001b[0m     )\n\u001b[0;32m   1317\u001b[0m )\n\u001b[0;32m   1318\u001b[0m timer\u001b[39m.\u001b[39mreset()\n\u001b[1;32m-> 1319\u001b[0m solution \u001b[39m=\u001b[39m \u001b[39mself\u001b[39;49m\u001b[39m.\u001b[39;49m_integrate(model, t_eval, ext_and_inputs)\n\u001b[0;32m   1320\u001b[0m solution\u001b[39m.\u001b[39msolve_time \u001b[39m=\u001b[39m timer\u001b[39m.\u001b[39mtime()\n\u001b[0;32m   1322\u001b[0m \u001b[39m# Check if extrapolation occurred\u001b[39;00m\n",
      "File \u001b[1;32md:\\gitpybamm\\lrh_409\\lrh_409\\envpbgem\\pybamm-gem\\pybamm\\solvers\\casadi_solver.py:264\u001b[0m, in \u001b[0;36mCasadiSolver._integrate\u001b[1;34m(self, model, t_eval, inputs_dict)\u001b[0m\n\u001b[0;32m    262\u001b[0m     count \u001b[39m+\u001b[39m\u001b[39m=\u001b[39m \u001b[39m1\u001b[39m\n\u001b[0;32m    263\u001b[0m     \u001b[39mif\u001b[39;00m count \u001b[39m>\u001b[39m\u001b[39m=\u001b[39m \u001b[39mself\u001b[39m\u001b[39m.\u001b[39mmax_step_decrease_count:\n\u001b[1;32m--> 264\u001b[0m         \u001b[39mraise\u001b[39;00m pybamm\u001b[39m.\u001b[39mSolverError(\n\u001b[0;32m    265\u001b[0m             \u001b[39m\"\u001b[39m\u001b[39mMaximum number of decreased steps occurred at t=\u001b[39m\u001b[39m{}\u001b[39;00m\u001b[39m. Try \u001b[39m\u001b[39m\"\u001b[39m\n\u001b[0;32m    266\u001b[0m             \u001b[39m\"\u001b[39m\u001b[39msolving the model up to this time only or reducing dt_max \u001b[39m\u001b[39m\"\u001b[39m\n\u001b[0;32m    267\u001b[0m             \u001b[39m\"\u001b[39m\u001b[39m(currently, dt_max=\u001b[39m\u001b[39m{}\u001b[39;00m\u001b[39m).\u001b[39m\u001b[39m\"\u001b[39m\n\u001b[0;32m    268\u001b[0m             \u001b[39m\"\u001b[39m\u001b[39m\"\u001b[39m\u001b[39m.\u001b[39mformat(\n\u001b[0;32m    269\u001b[0m                 t \u001b[39m*\u001b[39m model\u001b[39m.\u001b[39mtimescale_eval, dt_max \u001b[39m*\u001b[39m model\u001b[39m.\u001b[39mtimescale_eval\n\u001b[0;32m    270\u001b[0m             )\n\u001b[0;32m    271\u001b[0m         )\n\u001b[0;32m    272\u001b[0m \u001b[39m# Check if the sign of an event changes, if so find an accurate\u001b[39;00m\n\u001b[0;32m    273\u001b[0m \u001b[39m# termination point and exit\u001b[39;00m\n\u001b[0;32m    274\u001b[0m current_step_sol \u001b[39m=\u001b[39m \u001b[39mself\u001b[39m\u001b[39m.\u001b[39m_solve_for_event(\n\u001b[0;32m    275\u001b[0m     current_step_sol, init_event_signs\n\u001b[0;32m    276\u001b[0m )\n",
      "\u001b[1;31mSolverError\u001b[0m: Maximum number of decreased steps occurred at t=0.0. Try solving the model up to this time only or reducing dt_max (currently, dt_max=3.5458164923888056)."
     ]
    }
   ],
   "source": [
    "Experiment_Breakin_4 = pb.Experiment( [\n",
    "    ( \"Rest for 0.01 s\",  )  ] *1 )\n",
    "Model_Breakin_4 = Model_Breakin_3.set_initial_conditions_from(Sol_Breakin_3, inplace=False)\n",
    "\n",
    "Sim_Breakin_4    = pb.Simulation(\n",
    "    Model_Breakin_4,        experiment = Experiment_Breakin_4,\n",
    "    parameter_values = Para_0,\n",
    "    solver = pb.CasadiSolver(),\n",
    "    var_pts=var_pts,\n",
    "    ) \n",
    "Sol_Breakin_4    = Sim_Breakin_4.solve(calc_esoh=False)\n"
   ]
  },
  {
   "cell_type": "code",
   "execution_count": 7,
   "metadata": {},
   "outputs": [
    {
     "name": "stdout",
     "output_type": "stream",
     "text": [
      "[2.54307523 2.54303804 2.54300086]\n",
      "[2.53508658 2.5444107  2.54502107 2.54513074 2.54513457 2.54511244\n",
      " 2.54508259 2.54504956 2.54501487 2.5449792  2.5449429  2.54490619\n",
      " 2.54486921 2.54483204 2.54479475 2.54475738 2.54471995 2.54468248\n",
      " 2.54464499 2.54460748 2.54456996 2.54453245 2.54449493 2.54445741\n",
      " 2.5444199  2.5443824  2.5443449  2.54430741 2.54426993 2.54423245\n",
      " 2.54419499 2.54415753 2.54412008 2.54408264 2.54404522 2.54400779\n",
      " 2.54397038 2.54393298 2.54389559 2.5438582  2.54382083 2.54378346\n",
      " 2.5437461  2.54370876 2.54367142 2.54363409 2.54359677 2.54355946\n",
      " 2.54352215 2.54348486 2.54344757 2.5434103  2.54337303 2.54333578\n",
      " 2.54329853 2.54326129 2.54322406 2.54318684 2.54314962 2.54311242\n",
      " 2.54307523]\n"
     ]
    }
   ],
   "source": [
    "print(Sol_Breakin_3[\"Terminal voltage [V]\"].entries)\n",
    "print(Sol_Breakin_2[\"Terminal voltage [V]\"].entries)"
   ]
  },
  {
   "cell_type": "code",
   "execution_count": 8,
   "metadata": {},
   "outputs": [
    {
     "data": {
      "application/vnd.jupyter.widget-view+json": {
       "model_id": "132532f1733b44ae983751df9fc14685",
       "version_major": 2,
       "version_minor": 0
      },
      "text/plain": [
       "interactive(children=(FloatSlider(value=0.0, description='t', max=1.0, step=0.01), Output()), _dom_classes=('w…"
      ]
     },
     "metadata": {},
     "output_type": "display_data"
    }
   ],
   "source": [
    "label = [\"2\",\"3\"] \n",
    "output_variables3 = [\n",
    "                \"Electrolyte potential [V]\",\n",
    "                \"Positive electrode potential [V]\",\n",
    "                \"Negative electrode potential [V]\",\n",
    "                \"Positive current collector potential [V]\", \n",
    "                \"Terminal voltage [V]\", \n",
    "            ]\n",
    "quick_plot = pb.QuickPlot([Sol_Breakin_2,Sol_Breakin_3], output_variables3,label,variable_limits='tight') #     \n",
    "quick_plot.dynamic_plot();"
   ]
  },
  {
   "cell_type": "code",
   "execution_count": 9,
   "metadata": {},
   "outputs": [
    {
     "data": {
      "application/vnd.jupyter.widget-view+json": {
       "model_id": "b84d0b6601db419c8b0053722cee99a2",
       "version_major": 2,
       "version_minor": 0
      },
      "text/plain": [
       "interactive(children=(FloatSlider(value=0.0, description='t', max=1.0, step=0.01), Output()), _dom_classes=('w…"
      ]
     },
     "metadata": {},
     "output_type": "display_data"
    }
   ],
   "source": [
    "label = [\"2\",\"3\"] \n",
    "output_variables3 = [\n",
    "                \"Minimum positive particle concentration\",\n",
    "                \"Minimum negative particle concentration\",\n",
    "                \"Maximum positive particle concentration\",\n",
    "                \"Maximum negative particle concentration\",\n",
    "                \"Maximum positive particle surface concentration\",\n",
    "                \"Maximum negative particle surface concentration\",\n",
    "            ]\n",
    "quick_plot = pb.QuickPlot([Sol_Breakin_2,Sol_Breakin_3], output_variables3,label,variable_limits='tight') #     \n",
    "quick_plot.dynamic_plot();"
   ]
  },
  {
   "cell_type": "code",
   "execution_count": 10,
   "metadata": {},
   "outputs": [
    {
     "data": {
      "application/vnd.jupyter.widget-view+json": {
       "model_id": "94b1be45a63242a18264a0a3ad7cf14b",
       "version_major": 2,
       "version_minor": 0
      },
      "text/plain": [
       "interactive(children=(FloatSlider(value=0.0, description='t', max=1.0, step=0.01), Output()), _dom_classes=('w…"
      ]
     },
     "metadata": {},
     "output_type": "display_data"
    }
   ],
   "source": [
    "label = [\"2\",\"3\"] \n",
    "output_variables3 = [\n",
    "                \"Positive particle surface concentration\",\n",
    "                \"Negative particle surface concentration\",\n",
    "                \"X-averaged electrolyte potential\",\n",
    "                \"X-averaged electrolyte potential [V]\"\n",
    "            ]\n",
    "quick_plot = pb.QuickPlot([Sol_Breakin_2,Sol_Breakin_3], output_variables3,label,variable_limits='tight') #     \n",
    "quick_plot.dynamic_plot();"
   ]
  },
  {
   "cell_type": "code",
   "execution_count": 11,
   "metadata": {},
   "outputs": [
    {
     "data": {
      "application/vnd.jupyter.widget-view+json": {
       "model_id": "a94cc309752b4cef8a42aede3695df6f",
       "version_major": 2,
       "version_minor": 0
      },
      "text/plain": [
       "interactive(children=(FloatSlider(value=0.0, description='t', max=1.0, step=0.01), Output()), _dom_classes=('w…"
      ]
     },
     "metadata": {},
     "output_type": "display_data"
    }
   ],
   "source": [
    "label = [\"2\", \"3\"] \n",
    "output_variables3 = [\n",
    "                \"Negative electrode roughness ratio\",\n",
    "                \"Positive electrode roughness ratio\",\n",
    "                \"Total SEI on cracks thickness [m]\",\n",
    "                \"X-averaged total SEI on cracks thickness [m]\", \n",
    "                \"X-averaged negative electrode roughness ratio\",\n",
    "                \"Negative electrode capacity [A.h]\",\n",
    "                \"Positive electrode capacity [A.h]\",\n",
    "            ]\n",
    "quick_plot = pb.QuickPlot([Sol_Breakin_2,Sol_Breakin_3], output_variables3,label,variable_limits='tight') #     \n",
    "quick_plot.dynamic_plot();"
   ]
  },
  {
   "cell_type": "code",
   "execution_count": null,
   "metadata": {},
   "outputs": [],
   "source": []
  },
  {
   "cell_type": "code",
   "execution_count": null,
   "metadata": {},
   "outputs": [],
   "source": []
  }
 ],
 "metadata": {
  "kernelspec": {
   "display_name": "Python 3.9.6 ('envPBGEM')",
   "language": "python",
   "name": "python3"
  },
  "language_info": {
   "codemirror_mode": {
    "name": "ipython",
    "version": 3
   },
   "file_extension": ".py",
   "mimetype": "text/x-python",
   "name": "python",
   "nbconvert_exporter": "python",
   "pygments_lexer": "ipython3",
   "version": "3.9.6"
  },
  "orig_nbformat": 4,
  "vscode": {
   "interpreter": {
    "hash": "83fab7fbb3a8fe7b5910804f702478ef63e2cc6a08d85072a5d68865ed0fd8c7"
   }
  }
 },
 "nbformat": 4,
 "nbformat_minor": 2
}
