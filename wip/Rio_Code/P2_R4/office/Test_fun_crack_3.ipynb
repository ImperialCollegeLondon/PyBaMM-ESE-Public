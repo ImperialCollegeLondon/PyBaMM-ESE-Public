{
 "cells": [
  {
   "cell_type": "code",
   "execution_count": 1,
   "metadata": {},
   "outputs": [],
   "source": [
    "import pybamm as pb;import pandas as pd   ;import numpy as np;import os;import matplotlib.pyplot as plt;import os;#import imageio\n",
    "from scipy.io import savemat,loadmat;from pybamm import constants,exp;import matplotlib as mpl; fs=17; # or we can set import matplotlib.pyplot as plt then say 'mpl.rc...'\n",
    "for k in range(0,1):\n",
    "    mpl.rcParams[\"axes.labelsize\"] = fs\n",
    "    mpl.rcParams[\"axes.titlesize\"] = fs\n",
    "    mpl.rcParams[\"xtick.labelsize\"] =  fs\n",
    "    mpl.rcParams[\"ytick.labelsize\"] =  fs\n",
    "    mpl.rcParams[\"legend.fontsize\"] =  fs\n",
    "    mpl.rcParams['font.sans-serif'] = ['Times New Roman']\n",
    "    mpl.rcParams['font.serif'] = ['Times New Roman']\n",
    "    mpl.rcParams['axes.unicode_minus'] = False\n",
    "import openpyxl\n",
    "import traceback\n",
    "import multiprocessing"
   ]
  },
  {
   "cell_type": "markdown",
   "metadata": {},
   "source": [
    "# How to know what variables are used as initial conditions?\n",
    "\"\"\" var varies a lot for the different options used!\n",
    "Check def set_initial_conditions_from(self, solution, inplace=True):\n",
    " in pybamm\\models\\base_model.py  \"\"\"\n",
    "Model_0 = pb.lithium_ion.DFN(     \n",
    "                options={\n",
    "                    \"particle\": \"Fickian diffusion\",          \n",
    "                    \"SEI\":\"solvent-diffusion limited\",   \n",
    "                    \"SEI on cracks\":\"true\",  \n",
    "                    \"SEI film resistance\":\"distributed\",          \n",
    "                    \"SEI porosity change\":\"true\",      \n",
    "                    \"particle mechanics\":\"swelling and cracking\",  \n",
    "                    \"loss of active material\":\"stress-driven\", \n",
    "                    \"lithium plating\":\"partially reversible\"      } ) #\n",
    "for var, equation in Model_0.initial_conditions.items():\n",
    "    print(var)\n"
   ]
  },
  {
   "cell_type": "code",
   "execution_count": null,
   "metadata": {},
   "outputs": [],
   "source": [
    "# Add funtion to sys.path\n",
    "os.chdir(pb.__path__[0]+'/..')   \n",
    "# pb.__path__[0] allow us to location path without concerning different machine\n",
    "import sys  \n",
    "sys.path.append(os.path.join(os.getcwd(),'wip\\Rio_Code\\Fun_P2'))  \n",
    "# sys.path.append(os.path.join(pb.__path__[0]+'/..','wip\\Rio_Code\\Fun_P2'))  \n",
    "from Fun_P2_Union_crack import (\n",
    "    GetScan,\n",
    "    Run_model_w_dry_out ,\n",
    "    Run_model_wo_Dry_out,\n",
    "    Cal_new_con_Update,\n",
    "    Run_Model_Base_On_Last_Solution,\n",
    "    Run_Model_Base_On_Last_Solution_RPT,\n",
    "    write_excel_xlsx,)"
   ]
  },
  {
   "cell_type": "code",
   "execution_count": null,
   "metadata": {},
   "outputs": [],
   "source": [
    "# Run model with dry-out:\n",
    "for i in range(0,1):  \n",
    "    Total_Cycles = 4; Cycle_bt_RPT = 2; Update_Cycles = 2;  \n",
    "    CyclePack = [Total_Cycles,Cycle_bt_RPT,Update_Cycles];\n",
    "    # Key scan parameters:\n",
    "    Ratio_excess = [2.00,];\n",
    "    cs_Neg_Init = [29866,];      # default: 29866\n",
    "    Diff_SEI = [1.7e-19,1.7e-20,1.7e-21];   \n",
    "    R_SEI = [2E5,];   \n",
    "    Bulk_Sol_Con =[ 4541.0,];\n",
    "    D_Li_inSEI = [  1.0e-20,];    # default: 1e-20 \n",
    "    c_Li_inte_ref = [15,];    # default: 15\n",
    "    Diff_EC = [2e-20,];       # default 2e-18\n",
    "    k_SEI   = [1e-16,];       # default 1e-12\n",
    "    LAMcr_prop=[2.7778e-07,2.7778e-08,2.7778e-09,];       # default 2.7778e-07\n",
    "    Crack_rate=[3.9e-19,3.9e-20,3.9e-21]     # default 3.9e-20\n",
    "    Couple_SEI_LiP = [1e-6,1e-7,1e-8,]; # default: 1e-6\n",
    "    k_LiP = [1E-10];         # default: 1e-10\n",
    "    Temper = [25,]; \n",
    "    MESH_PAR = [120,];\n",
    "\n",
    "    (TotalScan, DatePack_scan) = GetScan(Ratio_excess,cs_Neg_Init,Diff_SEI,\n",
    "        R_SEI,Bulk_Sol_Con,D_Li_inSEI,c_Li_inte_ref,\n",
    "        Diff_EC,k_SEI,LAMcr_prop,Crack_rate,\n",
    "        Couple_SEI_LiP,k_LiP,Temper,MESH_PAR);\n",
    "    BasicPath = 'D:/OneDrive - Imperial College London/SimDataSave/P2R3'; \n",
    "    #BasicPath=os.getcwd()\n",
    "    Target  = '/Test_crack_11/'\n",
    "    if not os.path.exists(BasicPath + Target):\n",
    "        os.mkdir(BasicPath + Target);\n",
    "    book_name_xlsx = 'Solv_SEI_4cycles.xlsx';\n",
    "\n",
    "    sheet_name_xlsx = 'Results'\n",
    "    value3 = [\n",
    "        [\"Index\", \"Ratio_ex\",\"cs_Neg_Init\", \"Diff_SEI\", \"R_SEI\", \n",
    "        \"Bulk_Sol_Con\",\"D_Li_inSEI\", \"c_Li_inte_ref\",\n",
    "        \"Diff_EC\",\"k_SEI\",\"LAMcr_prop\",\"Crack_rate\",\n",
    "        \"Couple_SEI_LiP\",\"k_LiP\",\"Temper_i\",\"mesh_par\",\n",
    "        \"Cap Loss\",\"LLI to LiP\",\n",
    "        \"LLI to SEI\",\"LLI to sei-on-cracks\",\n",
    "        \"LAM Neg\", \"LAM Pos\", \n",
    "        \"Vol_Elely_Tot Final\", \"Vol_Elely_JR Final\",\"Width Final\",\"Error\"],\n",
    "        ]\n",
    "    write_excel_xlsx(BasicPath + Target+book_name_xlsx, sheet_name_xlsx, value3)\n",
    "\n",
    "\"\"\" for DatePack_scan_jj in DatePack_scan:\n",
    "    Run_model_w_dry_out(\n",
    "            CyclePack , DatePack_scan_jj, BasicPath , Target, book_name_xlsx,\n",
    "        )  \"\"\"\n",
    "if __name__ == \"__main__\":\n",
    "    pool = multiprocessing.Pool(4)\n",
    "    processes = [pool.apply_async(\n",
    "        Run_model_w_dry_out, \n",
    "        args=(\n",
    "            CyclePack , DatePack_scan_jj, BasicPath , Target, book_name_xlsx,\n",
    "        )\n",
    "            ) \n",
    "            for DatePack_scan_jj in DatePack_scan]\n",
    "    result = [p.get() for p in processes]\n",
    "\n"
   ]
  },
  {
   "cell_type": "code",
   "execution_count": null,
   "metadata": {},
   "outputs": [],
   "source": []
  }
 ],
 "metadata": {
  "kernelspec": {
   "display_name": "Python 3.9.6 ('envPBGEM')",
   "language": "python",
   "name": "python3"
  },
  "language_info": {
   "codemirror_mode": {
    "name": "ipython",
    "version": 3
   },
   "file_extension": ".py",
   "mimetype": "text/x-python",
   "name": "python",
   "nbconvert_exporter": "python",
   "pygments_lexer": "ipython3",
   "version": "3.9.6"
  },
  "orig_nbformat": 4,
  "vscode": {
   "interpreter": {
    "hash": "83fab7fbb3a8fe7b5910804f702478ef63e2cc6a08d85072a5d68865ed0fd8c7"
   }
  }
 },
 "nbformat": 4,
 "nbformat_minor": 2
}
