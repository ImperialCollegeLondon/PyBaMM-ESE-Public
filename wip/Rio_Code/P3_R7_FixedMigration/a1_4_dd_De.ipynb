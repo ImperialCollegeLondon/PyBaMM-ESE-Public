{
 "cells": [
  {
   "cell_type": "markdown",
   "metadata": {},
   "source": [
    "# With De=3e-10,3e-12, and others with Andrew's value"
   ]
  },
  {
   "cell_type": "code",
   "execution_count": 1,
   "metadata": {},
   "outputs": [],
   "source": [
    "import pybamm\n",
    "import numpy as np\n",
    "import matplotlib.pyplot as plt\n",
    "import pandas as pd   ;import numpy as np;import os;import matplotlib.pyplot as plt;import os;\n",
    "from scipy.io import savemat,loadmat;from pybamm import constants,exp,tanh,sqrt;import matplotlib as mpl; fs=17; # or we can set import matplotlib.pyplot as plt then say 'mpl.rc...'\n",
    "import traceback\n",
    "import imageio.v2 as imageio\n",
    "font = {'family' : 'Times New Roman',\n",
    "        #'weight' : 'bold',\n",
    "        'size'   : fs}\n",
    "mpl.rc('font', **font)"
   ]
  },
  {
   "cell_type": "code",
   "execution_count": 2,
   "metadata": {},
   "outputs": [],
   "source": [
    "V_max = 4.2;        V_min = 2.5;\n",
    "total_cycle = 500; save_at_cycles= 1\n",
    "Experiment_short   = pybamm.Experiment( [ (\n",
    "    f\"Discharge at 1 C until {V_min} V\", \n",
    "    f\"Charge at 1 C until {V_max} V\", \n",
    "    f\"Hold at {V_max} V until C/5\")    ] * 1 ) \n",
    "Experiment_s   = pybamm.Experiment( [ (\n",
    "    f\"Discharge at 1 C for 240 s\", )    ] * 1 )   "
   ]
  },
  {
   "cell_type": "code",
   "execution_count": 3,
   "metadata": {},
   "outputs": [],
   "source": [
    "BasicPath = 'D:/OneDrive - Imperial College London/SimDataSave/P3R7/'; \n",
    "Target  = 'a1_4_dd_De/'\n",
    "if not os.path.exists(BasicPath + Target):\n",
    "    os.mkdir(BasicPath + Target);"
   ]
  },
  {
   "cell_type": "code",
   "execution_count": 4,
   "metadata": {},
   "outputs": [
    {
     "name": "stdout",
     "output_type": "stream",
     "text": [
      "using EC wo refill for Li+\n"
     ]
    }
   ],
   "source": [
    "model = pybamm.lithium_ion.DFN(     \n",
    "    options={  \n",
    "        \"solvent diffusion\": \"EC wo refill\"     } )\n",
    "De_all = [3e-10,3e-11,3e-12]\n",
    "Dcross  = 3e-11\n",
    "Dec     = 5e-10"
   ]
  },
  {
   "cell_type": "markdown",
   "metadata": {},
   "source": [
    "Para_0.search('mole')"
   ]
  },
  {
   "cell_type": "code",
   "execution_count": 5,
   "metadata": {},
   "outputs": [],
   "source": [
    "\n",
    "ChemistryChen=pybamm.parameter_sets.Chen2020 \n",
    "ChemistryChen[\"electrolyte\"] = \"lipf6_Nyman2008Exp\";\n",
    "Para_0=pybamm.ParameterValues(chemistry=ChemistryChen);\n",
    "Para_0['EC transference number'] =     -1.4\n",
    "Para_0['Cation transference number'] =     0.28\n",
    "\n",
    "Para_0['EC Lithium ion cross diffusivity [m2.s-1]'] = Dcross\n",
    "Para_0['Typical EC Lithium ion cross diffusivity [m2.s-1]'] =  Dcross\n",
    "\n",
    "#print(Model_d.options[\"solvent diffusion\"])\n",
    "Para_0['Ratio of lithium moles to SEI moles'] =  1\n",
    "\n",
    "c_e = model.variables[\"Electrolyte concentration [mol.m-3]\"]\n",
    "T = model.variables[\"Cell temperature [K]\"]\n",
    "c_EC = model.variables[\"EC concentration [mol.m-3]\"]\n",
    "model.variables[\"c(EC) over c(Li+)\"] = c_EC / c_e\n",
    "model.variables[\"Electrolyte conductivity [S.m-1]\"] =(\n",
    "    Para_0['Electrolyte conductivity [S.m-1]'](c_e,c_EC, T))\n",
    "    #model.variables[\"Electrolyte diffusivity [m2.s-1]\"] =(\n",
    "    #    Para_0['Electrolyte diffusivity [m2.s-1]'](c_e,c_EC, T))"
   ]
  },
  {
   "cell_type": "markdown",
   "metadata": {},
   "source": [
    "Xi =  list(np.linspace(-1.8, -1.0, 10))\n",
    "print(type(Xi))"
   ]
  },
  {
   "cell_type": "code",
   "execution_count": 6,
   "metadata": {},
   "outputs": [
    {
     "name": "stdout",
     "output_type": "stream",
     "text": [
      "Succeed for De=  3e-10\n"
     ]
    },
    {
     "name": "stderr",
     "output_type": "stream",
     "text": [
      "psetup failed: .../casadi/interfaces/sundials/idas_interface.cpp:849: Calculating Jacobian failed\n",
      "At t = 0.00416598 and h = 4.13639e-010, the corrector convergence failed repeatedly or with |h| = hmin.\n",
      "psetup failed: .../casadi/interfaces/sundials/idas_interface.cpp:849: Calculating Jacobian failed\n",
      "psetup failed: .../casadi/interfaces/sundials/idas_interface.cpp:852: Linear solve failed\n",
      "At t = 0.00416598 and h = 4.13639e-010, the corrector convergence failed repeatedly or with |h| = hmin.\n",
      "CasADi -  WARNING(\"roots:g failed: Inf detected for output x, at (row 20, col 0).\") [.../casadi/core/oracle_function.cpp:265]\n",
      "The linesearch algorithm failed with too small a step.\n",
      "The linesearch algorithm failed with too small a step.\n",
      "The linesearch algorithm failed with too small a step.\n",
      "The linesearch algorithm failed with too small a step.\n",
      "The linesearch algorithm failed with too small a step.\n",
      "2022-10-21 11:16:17.928 - [ERROR] callbacks.on_experiment_error(226): Simulation error: Maximum number of decreased steps occurred at t=339.2012473540269. Try solving the model up to this time only or reducing dt_max (currently, dt_max=3.5458164923888056) and/or reducing the size of the time steps or period of the experiment.\n"
     ]
    },
    {
     "name": "stdout",
     "output_type": "stream",
     "text": [
      "Succeed for De=  3e-11\n"
     ]
    },
    {
     "name": "stderr",
     "output_type": "stream",
     "text": [
      "At t = 0.00157305 and h = 8.7545e-012, the corrector convergence failed repeatedly or with |h| = hmin.\n",
      "2022-10-21 11:16:23.216 - [ERROR] callbacks.on_experiment_error(226): Simulation error: .../casadi/interfaces/sundials/idas_interface.cpp:591: IDASolve returned \"IDA_CONV_FAIL\". Consult IDAS documentation.\n"
     ]
    },
    {
     "name": "stdout",
     "output_type": "stream",
     "text": [
      "Fail for De=  3e-12\n"
     ]
    }
   ],
   "source": [
    "Sim = [];Sol=[]; \n",
    "for De in De_all:\n",
    "    Para_0['EC diffusivity in electrolyte [m2.s-1]'] =  Dec\n",
    "    Para_0['Electrolyte diffusivity [m2.s-1]'] = De\n",
    "    sim = pybamm.Simulation(\n",
    "        model, experiment = Experiment_short,\n",
    "        parameter_values = Para_0,\n",
    "        solver = pybamm.CasadiSolver(),)  \n",
    "    try:\n",
    "        sol = sim.solve(save_at_cycles=save_at_cycles,);\n",
    "    except:\n",
    "        print('Fail for De= ',De)\n",
    "    else:\n",
    "        Sol.append(sol)   \n",
    "        print('Succeed for De= ',De)"
   ]
  },
  {
   "cell_type": "markdown",
   "metadata": {},
   "source": [
    "print(Sol_ddiff[\"Electrolyte conductivity [S.m-1]\"].entries[:,51] )\n",
    "print(Sol_ddiff[\"Electrolyte diffusivity [m2.s-1]\"].entries[:,-1])"
   ]
  },
  {
   "cell_type": "code",
   "execution_count": 7,
   "metadata": {},
   "outputs": [],
   "source": [
    "font = {'family' : 'Times New Roman',\n",
    "        #'weight' : 'bold',\n",
    "        'size'   : 15}\n",
    "mpl.rc('font', **font)"
   ]
  },
  {
   "cell_type": "code",
   "execution_count": 8,
   "metadata": {},
   "outputs": [
    {
     "ename": "ValueError",
     "evalue": "labels '[3e-10, 3e-11, 3e-12]' have different length to models '['Doyle-Fuller-Newman model', 'Doyle-Fuller-Newman model']'",
     "output_type": "error",
     "traceback": [
      "\u001b[1;31m---------------------------------------------------------------------------\u001b[0m",
      "\u001b[1;31mValueError\u001b[0m                                Traceback (most recent call last)",
      "\u001b[1;32md:\\GitPyBaMM\\LRH_409\\LRH_409\\envPBGEM\\PyBaMM-GEM\\wip\\Rio_Code\\P3_R7_FixedMigration\\a1_4_dd_De.ipynb Cell 12\u001b[0m in \u001b[0;36m<cell line: 8>\u001b[1;34m()\u001b[0m\n\u001b[0;32m      <a href='vscode-notebook-cell:/d%3A/GitPyBaMM/LRH_409/LRH_409/envPBGEM/PyBaMM-GEM/wip/Rio_Code/P3_R7_FixedMigration/a1_4_dd_De.ipynb#X14sZmlsZQ%3D%3D?line=0'>1</a>\u001b[0m label \u001b[39m=\u001b[39m [De \u001b[39mfor\u001b[39;00m De \u001b[39min\u001b[39;00m De_all]\n\u001b[0;32m      <a href='vscode-notebook-cell:/d%3A/GitPyBaMM/LRH_409/LRH_409/envPBGEM/PyBaMM-GEM/wip/Rio_Code/P3_R7_FixedMigration/a1_4_dd_De.ipynb#X14sZmlsZQ%3D%3D?line=1'>2</a>\u001b[0m output_variables3 \u001b[39m=\u001b[39m [\n\u001b[0;32m      <a href='vscode-notebook-cell:/d%3A/GitPyBaMM/LRH_409/LRH_409/envPBGEM/PyBaMM-GEM/wip/Rio_Code/P3_R7_FixedMigration/a1_4_dd_De.ipynb#X14sZmlsZQ%3D%3D?line=2'>3</a>\u001b[0m     \u001b[39m\"\u001b[39m\u001b[39mTerminal voltage [V]\u001b[39m\u001b[39m\"\u001b[39m,   \n\u001b[0;32m      <a href='vscode-notebook-cell:/d%3A/GitPyBaMM/LRH_409/LRH_409/envPBGEM/PyBaMM-GEM/wip/Rio_Code/P3_R7_FixedMigration/a1_4_dd_De.ipynb#X14sZmlsZQ%3D%3D?line=3'>4</a>\u001b[0m     \u001b[39m\"\u001b[39m\u001b[39mElectrolyte potential [V]\u001b[39m\u001b[39m\"\u001b[39m,\n\u001b[0;32m      <a href='vscode-notebook-cell:/d%3A/GitPyBaMM/LRH_409/LRH_409/envPBGEM/PyBaMM-GEM/wip/Rio_Code/P3_R7_FixedMigration/a1_4_dd_De.ipynb#X14sZmlsZQ%3D%3D?line=4'>5</a>\u001b[0m     \u001b[39m\"\u001b[39m\u001b[39mNegative electrode potential [V]\u001b[39m\u001b[39m\"\u001b[39m,\n\u001b[0;32m      <a href='vscode-notebook-cell:/d%3A/GitPyBaMM/LRH_409/LRH_409/envPBGEM/PyBaMM-GEM/wip/Rio_Code/P3_R7_FixedMigration/a1_4_dd_De.ipynb#X14sZmlsZQ%3D%3D?line=5'>6</a>\u001b[0m     \u001b[39m\"\u001b[39m\u001b[39mPositive electrode potential [V]\u001b[39m\u001b[39m\"\u001b[39m,\n\u001b[0;32m      <a href='vscode-notebook-cell:/d%3A/GitPyBaMM/LRH_409/LRH_409/envPBGEM/PyBaMM-GEM/wip/Rio_Code/P3_R7_FixedMigration/a1_4_dd_De.ipynb#X14sZmlsZQ%3D%3D?line=6'>7</a>\u001b[0m ]\n\u001b[1;32m----> <a href='vscode-notebook-cell:/d%3A/GitPyBaMM/LRH_409/LRH_409/envPBGEM/PyBaMM-GEM/wip/Rio_Code/P3_R7_FixedMigration/a1_4_dd_De.ipynb#X14sZmlsZQ%3D%3D?line=7'>8</a>\u001b[0m quick_plot \u001b[39m=\u001b[39m pybamm\u001b[39m.\u001b[39;49mQuickPlot(\n\u001b[0;32m      <a href='vscode-notebook-cell:/d%3A/GitPyBaMM/LRH_409/LRH_409/envPBGEM/PyBaMM-GEM/wip/Rio_Code/P3_R7_FixedMigration/a1_4_dd_De.ipynb#X14sZmlsZQ%3D%3D?line=8'>9</a>\u001b[0m     [sol \u001b[39mfor\u001b[39;49;00m sol \u001b[39min\u001b[39;49;00m Sol], \n\u001b[0;32m     <a href='vscode-notebook-cell:/d%3A/GitPyBaMM/LRH_409/LRH_409/envPBGEM/PyBaMM-GEM/wip/Rio_Code/P3_R7_FixedMigration/a1_4_dd_De.ipynb#X14sZmlsZQ%3D%3D?line=9'>10</a>\u001b[0m     output_variables3,label,\n\u001b[0;32m     <a href='vscode-notebook-cell:/d%3A/GitPyBaMM/LRH_409/LRH_409/envPBGEM/PyBaMM-GEM/wip/Rio_Code/P3_R7_FixedMigration/a1_4_dd_De.ipynb#X14sZmlsZQ%3D%3D?line=10'>11</a>\u001b[0m     variable_limits\u001b[39m=\u001b[39;49m\u001b[39m'\u001b[39;49m\u001b[39mfixed\u001b[39;49m\u001b[39m'\u001b[39;49m,time_unit\u001b[39m=\u001b[39;49m\u001b[39m'\u001b[39;49m\u001b[39mhours\u001b[39;49m\u001b[39m'\u001b[39;49m,n_rows\u001b[39m=\u001b[39;49m\u001b[39m2\u001b[39;49m,\n\u001b[0;32m     <a href='vscode-notebook-cell:/d%3A/GitPyBaMM/LRH_409/LRH_409/envPBGEM/PyBaMM-GEM/wip/Rio_Code/P3_R7_FixedMigration/a1_4_dd_De.ipynb#X14sZmlsZQ%3D%3D?line=11'>12</a>\u001b[0m     figsize \u001b[39m=\u001b[39;49m (\u001b[39m12\u001b[39;49m,\u001b[39m8\u001b[39;49m)) \u001b[39m#     spatial_unit='mm',\u001b[39;00m\n\u001b[0;32m     <a href='vscode-notebook-cell:/d%3A/GitPyBaMM/LRH_409/LRH_409/envPBGEM/PyBaMM-GEM/wip/Rio_Code/P3_R7_FixedMigration/a1_4_dd_De.ipynb#X14sZmlsZQ%3D%3D?line=12'>13</a>\u001b[0m quick_plot\u001b[39m.\u001b[39mdynamic_plot()\n",
      "File \u001b[1;32md:\\gitpybamm\\lrh_409\\lrh_409\\envpbgem\\pybamm-gem\\pybamm\\plotting\\quick_plot.py:129\u001b[0m, in \u001b[0;36mQuickPlot.__init__\u001b[1;34m(self, solutions, output_variables, labels, colors, linestyles, figsize, n_rows, time_unit, spatial_unit, variable_limits)\u001b[0m\n\u001b[0;32m    127\u001b[0m \u001b[39melse\u001b[39;00m:\n\u001b[0;32m    128\u001b[0m     \u001b[39mif\u001b[39;00m \u001b[39mlen\u001b[39m(labels) \u001b[39m!=\u001b[39m \u001b[39mlen\u001b[39m(models):\n\u001b[1;32m--> 129\u001b[0m         \u001b[39mraise\u001b[39;00m \u001b[39mValueError\u001b[39;00m(\n\u001b[0;32m    130\u001b[0m             \u001b[39m\"\u001b[39m\u001b[39mlabels \u001b[39m\u001b[39m'\u001b[39m\u001b[39m{}\u001b[39;00m\u001b[39m'\u001b[39m\u001b[39m have different length to models \u001b[39m\u001b[39m'\u001b[39m\u001b[39m{}\u001b[39;00m\u001b[39m'\u001b[39m\u001b[39m\"\u001b[39m\u001b[39m.\u001b[39mformat(\n\u001b[0;32m    131\u001b[0m                 labels, [model\u001b[39m.\u001b[39mname \u001b[39mfor\u001b[39;00m model \u001b[39min\u001b[39;00m models]\n\u001b[0;32m    132\u001b[0m             )\n\u001b[0;32m    133\u001b[0m         )\n\u001b[0;32m    134\u001b[0m     \u001b[39mself\u001b[39m\u001b[39m.\u001b[39mlabels \u001b[39m=\u001b[39m labels\n\u001b[0;32m    136\u001b[0m \u001b[39m# Set colors, linestyles, figsize, axis limits\u001b[39;00m\n\u001b[0;32m    137\u001b[0m \u001b[39m# call LoopList to make sure list index never runs out\u001b[39;00m\n",
      "\u001b[1;31mValueError\u001b[0m: labels '[3e-10, 3e-11, 3e-12]' have different length to models '['Doyle-Fuller-Newman model', 'Doyle-Fuller-Newman model']'"
     ]
    }
   ],
   "source": [
    "label = [De for De in De_all]\n",
    "output_variables3 = [\n",
    "    \"Terminal voltage [V]\",   \n",
    "    \"Electrolyte potential [V]\",\n",
    "    \"Negative electrode potential [V]\",\n",
    "    \"Positive electrode potential [V]\",\n",
    "]\n",
    "quick_plot = pybamm.QuickPlot(\n",
    "    [sol for sol in Sol], \n",
    "    output_variables3,label,\n",
    "    variable_limits='fixed',time_unit='hours',n_rows=2,\n",
    "    figsize = (12,8)) #     spatial_unit='mm',\n",
    "quick_plot.dynamic_plot();"
   ]
  },
  {
   "cell_type": "code",
   "execution_count": null,
   "metadata": {},
   "outputs": [],
   "source": [
    "label = [De for De in De_all]\n",
    "output_variables3 = [\n",
    "    \"Terminal voltage [V]\",   \n",
    "    \"Discharge capacity [A.h]\",\n",
    "    \"EC concentration [mol.m-3]\",\n",
    "    \"Electrolyte concentration [mol.m-3]\",\n",
    "    \"Li+ flux [mol.m-2.s-1]\",\n",
    "    \"EC flux [mol.m-2.s-1]\",\n",
    "]\n",
    "quick_plot = pybamm.QuickPlot(\n",
    "    [sol for sol in Sol], \n",
    "    output_variables3,label,\n",
    "    variable_limits='fixed',time_unit='hours',n_rows=2,\n",
    "    figsize = (12,8)) #     spatial_unit='mm',\n",
    "quick_plot.dynamic_plot();\n",
    "#quick_plot.plot(0.5)\n",
    "#quick_plot.fig.savefig(BasicPath + Target+\"t_0+_three_cases.png\", dpi=600)\n",
    "#quick_plot.create_gif(\n",
    "    #number_of_images=10, duration=2,output_filename=BasicPath + Target+\"concentration and flux.gif\")"
   ]
  },
  {
   "cell_type": "code",
   "execution_count": null,
   "metadata": {},
   "outputs": [],
   "source": [
    "label = [De for De in De_all]\n",
    "output_variables3 = [\n",
    "    #\"Terminal voltage [V]\",   \n",
    "    \"EC flux [mol.m-2.s-1]\",\n",
    "    \"EC flux by diffusion [mol.m-2.s-1]\",\n",
    "    \"EC flux by migration [mol.m-2.s-1]\",\n",
    "    \"EC flux by Li+ [mol.m-2.s-1]\",\n",
    "    \"Li+ flux [mol.m-2.s-1]\",\n",
    "    \"Li+ flux by diffusion [mol.m-2.s-1]\",\n",
    "    \"Li+ flux by migration [mol.m-2.s-1]\",\n",
    "    \"Li+ flux by solvent [mol.m-2.s-1]\",      \n",
    "]\n",
    "quick_plot = pybamm.QuickPlot(\n",
    "    [sol for sol in Sol], \n",
    "    output_variables3,label,\n",
    "    variable_limits='tight',time_unit='hours',n_rows=2,\n",
    "    figsize = (12,6)) #     spatial_unit='mm',\n",
    "quick_plot.dynamic_plot();\n",
    "#quick_plot.plot(0.5)\n",
    "#quick_plot.fig.savefig(BasicPath + Target+\"t_0+_three_cases.png\", dpi=600)\n",
    "##quick_plot.create_gif(\n",
    "#    #number_of_images=10, duration=2,output_filename=BasicPath + Target+\"flux contribution.gif\")"
   ]
  },
  {
   "cell_type": "code",
   "execution_count": null,
   "metadata": {},
   "outputs": [],
   "source": [
    "label = [De for De in De_all]\n",
    "output_variables3 = [\n",
    "    \"Electrolyte concentration\",\n",
    "    \"Minus div Li+ flux\",\n",
    "    \"Li+ source term\",\n",
    "    \"Minus div Li+ flux by diffusion\",\n",
    "    \"Minus div Li+ flux by migration\",\n",
    "    \"Minus div Li+ flux by solvent\",\n",
    "    #\"Li+ source term refill\",\n",
    "]\n",
    "quick_plot = pybamm.QuickPlot(\n",
    "    [sol for sol in Sol], \n",
    "    output_variables3,label,\n",
    "    variable_limits='fixed',time_unit='hours',n_rows=2,\n",
    "    figsize = (12,9)) #     spatial_unit='mm',\n",
    "quick_plot.dynamic_plot();\n",
    "#quick_plot.create_gif(\n",
    "    #number_of_images=10, duration=2,output_filename=BasicPath + Target+\"Li+ rhs contribution.gif\")"
   ]
  },
  {
   "cell_type": "code",
   "execution_count": null,
   "metadata": {},
   "outputs": [],
   "source": [
    "label = [De for De in De_all]\n",
    "output_variables3 = [\n",
    "    \"EC concentration\",\n",
    "    \"EC source term (SEI)\",\n",
    "    \"Minus div EC flux\",\n",
    "    \"Minus div EC flux by diffusion\",\n",
    "    \"Minus div EC flux by migration\",\n",
    "    \"Minus div EC flux by Li+\",\n",
    "    #\"Li+ source term refill\",\n",
    "]\n",
    "quick_plot = pybamm.QuickPlot(\n",
    "    [sol for sol in Sol], \n",
    "    output_variables3,label,\n",
    "    variable_limits='fixed',time_unit='hours',n_rows=2,\n",
    "    figsize = (12,9)) #     spatial_unit='mm',\n",
    "quick_plot.dynamic_plot();\n",
    "#quick_plot.create_gif(\n",
    "    #number_of_images=10, duration=2,output_filename=BasicPath + Target+\"EC rhs contribution.gif\")"
   ]
  }
 ],
 "metadata": {
  "kernelspec": {
   "display_name": "Python 3.9.6 ('envPBGEM')",
   "language": "python",
   "name": "python3"
  },
  "language_info": {
   "codemirror_mode": {
    "name": "ipython",
    "version": 3
   },
   "file_extension": ".py",
   "mimetype": "text/x-python",
   "name": "python",
   "nbconvert_exporter": "python",
   "pygments_lexer": "ipython3",
   "version": "3.9.6"
  },
  "orig_nbformat": 4,
  "vscode": {
   "interpreter": {
    "hash": "83fab7fbb3a8fe7b5910804f702478ef63e2cc6a08d85072a5d68865ed0fd8c7"
   }
  }
 },
 "nbformat": 4,
 "nbformat_minor": 2
}
