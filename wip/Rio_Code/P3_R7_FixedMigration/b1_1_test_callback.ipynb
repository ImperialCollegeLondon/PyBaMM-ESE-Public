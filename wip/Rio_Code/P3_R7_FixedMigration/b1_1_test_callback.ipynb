{
 "cells": [
  {
   "cell_type": "markdown",
   "metadata": {},
   "source": [
    "# With Dec=5e-10, and others with Andrew's value, add a tanh on conductivity try to stop negative c(EC)"
   ]
  },
  {
   "cell_type": "code",
   "execution_count": 1,
   "metadata": {},
   "outputs": [],
   "source": [
    "import pybamm\n",
    "import numpy as np\n",
    "import matplotlib.pyplot as plt\n",
    "import pandas as pd   ;import numpy as np;import os;import matplotlib.pyplot as plt;import os;\n",
    "from scipy.io import savemat,loadmat;from pybamm import constants,exp,tanh,sqrt;import matplotlib as mpl; fs=17; # or we can set import matplotlib.pyplot as plt then say 'mpl.rc...'\n",
    "import traceback\n",
    "import imageio.v2 as imageio\n"
   ]
  },
  {
   "cell_type": "code",
   "execution_count": 2,
   "metadata": {},
   "outputs": [],
   "source": [
    "import sys  \n",
    "str_path_0 = os.path.abspath(os.path.join(pybamm.__path__[0],'..'))\n",
    "str_path_1 = os.path.abspath(os.path.join(str_path_0,\"wip\\Rio_Code\\Fun_P3\"))\n",
    "sys.path.append(str_path_1) \n",
    "from Fun_P3 import (\n",
    "    PlotDynamics,\n",
    "    Plot_Loc_Var,\n",
    "    Plot_Loc_Var_sol,\n",
    "    Plot_Single_Static,\n",
    ")"
   ]
  },
  {
   "cell_type": "code",
   "execution_count": 3,
   "metadata": {},
   "outputs": [],
   "source": [
    "def electrolyte_conductivity_Nyman2008Exp_wEC(c_e,c_EC, T):\n",
    "    x = c_EC / c_e\n",
    "    coff = 1  \n",
    "    ratio = ( coff/2 + coff/2 *  tanh((x-4.541*0.5)*1.5))\n",
    "    sigma_e = (\n",
    "        ratio * (\n",
    "        0.1 * 0.06248 * (1+298.15-0.05559) * \n",
    "        (c_e/1e3) * (1 - 3.084 *sqrt(c_e/1e3) \n",
    "        + 1.33 *(1+ 0.03633 *(exp(1000/298.15))*c_e/1e3)   ) \n",
    "        / (1+(c_e/1e3)**4*( 0.00795 *exp(1000/298.15))) )\n",
    "    )\n",
    "    return sigma_e\n",
    "def electrolyte_conductivity_Nyman2008Exp(c_e,c_EC, T):\n",
    "    sigma_e = (\n",
    "        (\n",
    "        0.1 * 0.06248 * (1+298.15-0.05559) * \n",
    "        (c_e/1e3) * (1 - 3.084 *sqrt(c_e/1e3) \n",
    "        + 1.33 *(1+ 0.03633 *(exp(1000/298.15))*c_e/1e3)   ) \n",
    "        / (1+(c_e/1e3)**4*( 0.00795 *exp(1000/298.15))) )\n",
    "    )\n",
    "    return sigma_e"
   ]
  },
  {
   "cell_type": "code",
   "execution_count": 4,
   "metadata": {},
   "outputs": [],
   "source": [
    "V_max = 4.2;        V_min = 2.5;\n",
    "total_cycle = 500; save_at_cycles= 1\n",
    "Experiment_short   = pybamm.Experiment( [ (\n",
    "    f\"Discharge at 1 C until {V_min} V\", \n",
    "    f\"Charge at 1 C until {V_max} V\", \n",
    "    f\"Hold at {V_max} V until C/5\")    ] * 1 ) \n",
    "Experiment_s   = pybamm.Experiment( [ (\n",
    "    f\"Discharge at 1 C for 240 s\", )    ] * 1 )   "
   ]
  },
  {
   "cell_type": "code",
   "execution_count": 5,
   "metadata": {},
   "outputs": [],
   "source": [
    "BasicPath = 'D:/OneDrive - Imperial College London/SimDataSave/P3R7/'; \n",
    "Target  = 'b1_1_test_callback/'\n",
    "if not os.path.exists(BasicPath + Target):\n",
    "    os.mkdir(BasicPath + Target);"
   ]
  },
  {
   "cell_type": "code",
   "execution_count": 6,
   "metadata": {},
   "outputs": [],
   "source": [
    "De = 3e-10;Dec = 5e-10; Dcross  = 3e-11; Xi=-1.4; t_0plus=0.28"
   ]
  },
  {
   "cell_type": "code",
   "execution_count": 7,
   "metadata": {},
   "outputs": [],
   "source": [
    "class RioCallback(pybamm.callbacks.Callback):\n",
    "    def __init__(self, logfile=None):\n",
    "        self.logfile = logfile\n",
    "        self.success  = True\n",
    "        if logfile is None:\n",
    "            # Use pybamm's logger, which prints to command line\n",
    "            self.logger = pybamm.logger\n",
    "        else:\n",
    "            # Use a custom logger, this will have its own level so set it to the same\n",
    "            # level as the pybamm logger (users can override this)\n",
    "            self.logger = pybamm.get_new_logger(__name__, logfile)\n",
    "            self.logger.setLevel(pybamm.logger.level)\n",
    "    \n",
    "    def on_experiment_error(self, logs):\n",
    "        self.success  = False\n",
    "    def on_experiment_infeasible(self, logs):\n",
    "        self.success  = False"
   ]
  },
  {
   "cell_type": "code",
   "execution_count": 8,
   "metadata": {},
   "outputs": [],
   "source": [
    "ChemistryChen=pybamm.parameter_sets.Chen2020 \n",
    "ChemistryChen[\"electrolyte\"] = \"lipf6_Nyman2008Exp\";\n",
    "Para = []\n",
    "for i in range(0,2):\n",
    "    Para_0=pybamm.ParameterValues(chemistry=ChemistryChen);\n",
    "    Para_0['EC transference number'] =    Xi\n",
    "    Para_0['Cation transference number'] =     t_0plus\n",
    "    Para_0['EC Lithium ion cross diffusivity [m2.s-1]'] = Dcross\n",
    "    Para_0['Typical EC Lithium ion cross diffusivity [m2.s-1]'] =  Dcross\n",
    "    Para_0['Electrolyte diffusivity [m2.s-1]'] =  De\n",
    "    Para_0['EC diffusivity in electrolyte [m2.s-1]'] =  Dec\n",
    "    Para_0['Ratio of lithium moles to SEI moles'] =  1\n",
    "    Para_0['Negative electrode porosity'] = 0.05\n",
    "    Para.append(Para_0)\n",
    "Para[0].update({\n",
    "    'Electrolyte conductivity [S.m-1]':\n",
    "    electrolyte_conductivity_Nyman2008Exp_wEC}, )\n",
    "Para[1].update({\n",
    "    'Electrolyte conductivity [S.m-1]':\n",
    "    electrolyte_conductivity_Nyman2008Exp}, )"
   ]
  },
  {
   "cell_type": "code",
   "execution_count": 12,
   "metadata": {},
   "outputs": [
    {
     "name": "stdout",
     "output_type": "stream",
     "text": [
      "using EC wo refill for Li+\n"
     ]
    },
    {
     "name": "stderr",
     "output_type": "stream",
     "text": [
      "The linesearch algorithm failed with too small a step.\n",
      "The linesearch algorithm failed with too small a step.\n",
      "The linesearch algorithm failed with too small a step.\n"
     ]
    },
    {
     "name": "stdout",
     "output_type": "stream",
     "text": [
      "Succeed for Electrolyte conductivity=  electrolyte_conductivity_Nyman2008Exp_wEC\n",
      "using EC wo refill for Li+\n"
     ]
    },
    {
     "name": "stderr",
     "output_type": "stream",
     "text": [
      "The linesearch algorithm failed with too small a step.\n",
      "The linesearch algorithm failed with too small a step.\n",
      "The linesearch algorithm failed with too small a step.\n",
      "The linesearch algorithm failed with too small a step.\n",
      "The linesearch algorithm failed with too small a step.\n",
      "2022-10-26 16:25:25.518 - [ERROR] callbacks.on_experiment_error(226): Simulation error: Maximum number of decreased steps occurred at t=2541.4197788726665. Try solving the model up to this time only or reducing dt_max (currently, dt_max=3.5458164923888056) and/or reducing the size of the time steps or period of the experiment.\n"
     ]
    },
    {
     "name": "stdout",
     "output_type": "stream",
     "text": [
      "Fail for Electrolyte conductivity=  electrolyte_conductivity_Nyman2008Exp\n"
     ]
    }
   ],
   "source": [
    "Sim = [];Sol=[]; \n",
    "for Para_i in Para: \n",
    "    model = pybamm.lithium_ion.DFN(     \n",
    "        options={  \n",
    "            \"solvent diffusion\": \"EC wo refill\"     } )\n",
    "    c_e = model.variables[\"Electrolyte concentration [mol.m-3]\"]\n",
    "    T = model.variables[\"Cell temperature [K]\"]\n",
    "    c_EC = model.variables[\"EC concentration [mol.m-3]\"]\n",
    "    model.variables[\"c(EC) over c(Li+)\"] = c_EC / c_e\n",
    "    model.variables[\"Electrolyte conductivity [S.m-1]\"] =(\n",
    "        Para_i['Electrolyte conductivity [S.m-1]'](c_e,c_EC, T))\n",
    "    rioCall = RioCallback()  # define callback\n",
    "    sim = pybamm.Simulation(\n",
    "        model, experiment = Experiment_short,\n",
    "        parameter_values = Para_i,\n",
    "        solver = pybamm.CasadiSolver(),)  \n",
    "    try:\n",
    "        sol = sim.solve(\n",
    "            save_at_cycles=save_at_cycles,\n",
    "            callbacks=rioCall);\n",
    "        if rioCall.success == False:\n",
    "            1/0\n",
    "    except:\n",
    "        print(\n",
    "            'Fail for Electrolyte conductivity= ',\n",
    "            Para_i['Electrolyte conductivity [S.m-1]'].__name__)\n",
    "    else:\n",
    "        Sol.append(sol)   \n",
    "        print(\n",
    "            'Succeed for Electrolyte conductivity= ',\n",
    "            Para_i['Electrolyte conductivity [S.m-1]'].__name__)"
   ]
  },
  {
   "cell_type": "markdown",
   "metadata": {},
   "source": [
    "print(Sol_ddiff[\"Electrolyte conductivity [S.m-1]\"].entries[:,51] )\n",
    "print(Sol_ddiff[\"Electrolyte diffusivity [m2.s-1]\"].entries[:,-1])"
   ]
  },
  {
   "cell_type": "code",
   "execution_count": null,
   "metadata": {},
   "outputs": [],
   "source": [
    "fs = 17\n",
    "font = {'family' : 'DejaVu Sans','size': fs}\n",
    "mpl.rc('font', **font)"
   ]
  },
  {
   "cell_type": "code",
   "execution_count": null,
   "metadata": {},
   "outputs": [],
   "source": [
    "Sigma_e = [\"Exp with EC tanh\",\"Exp without EC tanh\",]\n",
    "str = \"Electrolyte conductivity\""
   ]
  },
  {
   "cell_type": "code",
   "execution_count": null,
   "metadata": {},
   "outputs": [],
   "source": [
    "label = [str+\"=\"+Sigma for Sigma in Sigma_e]\n",
    "output_variables3 = [\n",
    "    \"Terminal voltage [V]\",\n",
    "    #\"Negative electrode potential [V]\",\n",
    "    \"Negative electrode current density\",\n",
    "    \"Electrolyte potential [V]\",\n",
    "    \"Electrolyte current density [A.m-2]\",\n",
    "    'Electrolyte conductivity [S.m-1]',\n",
    "    #\"Sum of positive electrode interfacial current densities\",\n",
    "\n",
    "    #\"Li+ source term refill\",\n",
    "]\n",
    "quick_plot = pybamm.QuickPlot(\n",
    "    [sol for sol in Sol], \n",
    "    output_variables3,label,\n",
    "    variable_limits='tight',time_unit='hours',n_rows=2,\n",
    "    figsize = (12,9)) #     spatial_unit='mm',\n",
    "quick_plot.dynamic_plot();"
   ]
  },
  {
   "cell_type": "code",
   "execution_count": null,
   "metadata": {},
   "outputs": [],
   "source": [
    "# post-processing with function - dynamic plots\n",
    "PlotDynamics(Sol,str,Sigma_e,BasicPath , Target,\"True\",17)"
   ]
  },
  {
   "cell_type": "code",
   "execution_count": null,
   "metadata": {},
   "outputs": [],
   "source": [
    "# static plot: loop all single case\n",
    "cycle = 0; step_CD = 0;   step_CC = 1; step_CV = 2; \n",
    "Plot_Single_Static(\n",
    "    Sol,str,cycle, step_CD, \n",
    "    Sigma_e,BasicPath , \n",
    "    Target,\"True\",'cool',17,200)\n"
   ]
  }
 ],
 "metadata": {
  "kernelspec": {
   "display_name": "Python 3.9.6 ('envPBGEM')",
   "language": "python",
   "name": "python3"
  },
  "language_info": {
   "codemirror_mode": {
    "name": "ipython",
    "version": 3
   },
   "file_extension": ".py",
   "mimetype": "text/x-python",
   "name": "python",
   "nbconvert_exporter": "python",
   "pygments_lexer": "ipython3",
   "version": "3.9.6"
  },
  "orig_nbformat": 4,
  "vscode": {
   "interpreter": {
    "hash": "83fab7fbb3a8fe7b5910804f702478ef63e2cc6a08d85072a5d68865ed0fd8c7"
   }
  }
 },
 "nbformat": 4,
 "nbformat_minor": 2
}
