{
 "cells": [
  {
   "cell_type": "markdown",
   "metadata": {},
   "source": [
    "# With Dec=5e-10, and others with Andrew's value, add a tanh on conductivity try to stop negative c(EC)"
   ]
  },
  {
   "cell_type": "code",
   "execution_count": 1,
   "metadata": {},
   "outputs": [],
   "source": [
    "import pybamm\n",
    "import numpy as np\n",
    "import matplotlib.pyplot as plt\n",
    "import pandas as pd   ;import numpy as np;import os;import matplotlib.pyplot as plt;import os;\n",
    "from scipy.io import savemat,loadmat;from pybamm import constants,exp,tanh,sqrt;import matplotlib as mpl; fs=17; # or we can set import matplotlib.pyplot as plt then say 'mpl.rc...'\n",
    "import traceback\n",
    "import imageio.v2 as imageio\n"
   ]
  },
  {
   "cell_type": "code",
   "execution_count": 2,
   "metadata": {},
   "outputs": [],
   "source": [
    "import sys  \n",
    "str_path_0 = os.path.abspath(os.path.join(pybamm.__path__[0],'..'))\n",
    "str_path_1 = os.path.abspath(os.path.join(str_path_0,\"wip\\Rio_Code\\Fun_P2\"))\n",
    "sys.path.append(str_path_1) \n",
    "from Fun_P2_Crack_simp import (\n",
    "    GetScan,\n",
    "    recursive_scan,\n",
    "    GetSol_dict,\n",
    "    Para_init,\n",
    "    Run_model_wwo_dry_out ,\n",
    "    Cal_new_con_Update,\n",
    "    Run_Model_Base_On_Last_Solution,\n",
    "    Run_Model_Base_On_Last_Solution_RPT,\n",
    "    write_excel_xlsx,\n",
    "    Get_initial_cap,\n",
    "    Get_initial_cap2\n",
    ")"
   ]
  },
  {
   "cell_type": "code",
   "execution_count": 3,
   "metadata": {},
   "outputs": [],
   "source": [
    "def electrolyte_conductivity_Nyman2008Exp_wEC(c_e,c_EC, T):\n",
    "    x = c_EC / c_e\n",
    "    coff = 1  \n",
    "    ratio = ( coff/2 + coff/2 *  tanh((x-4.541*0.5)*1.5))\n",
    "    sigma_e = (\n",
    "        ratio * (\n",
    "        0.1 * 0.06248 * (1+298.15-0.05559) * \n",
    "        (c_e/1e3) * (1 - 3.084 *sqrt(c_e/1e3) \n",
    "        + 1.33 *(1+ 0.03633 *(exp(1000/298.15))*c_e/1e3)   ) \n",
    "        / (1+(c_e/1e3)**4*( 0.00795 *exp(1000/298.15))) )\n",
    "    )\n",
    "    return sigma_e\n",
    "def electrolyte_conductivity_Nyman2008Exp(c_e,c_EC, T):\n",
    "    sigma_e = (\n",
    "        (\n",
    "        0.1 * 0.06248 * (1+298.15-0.05559) * \n",
    "        (c_e/1e3) * (1 - 3.084 *sqrt(c_e/1e3) \n",
    "        + 1.33 *(1+ 0.03633 *(exp(1000/298.15))*c_e/1e3)   ) \n",
    "        / (1+(c_e/1e3)**4*( 0.00795 *exp(1000/298.15))) )\n",
    "    )\n",
    "    return sigma_e"
   ]
  },
  {
   "cell_type": "code",
   "execution_count": 4,
   "metadata": {},
   "outputs": [],
   "source": [
    "V_max = 4.2;        V_min = 2.5; D_ec_sei = 1e-19;\n",
    "total_cycle = 200; save_at_cycles= 20\n",
    "Experiment_Long   = pybamm.Experiment( [ (\n",
    "    f\"Discharge at 1 C until {V_min} V\", \n",
    "    f\"Charge at 1 C until {V_max} V\", \n",
    "    f\"Hold at {V_max} V until C/5\")    ] * total_cycle ) \n",
    "Experiment_s   = pybamm.Experiment( [ (\n",
    "    f\"Discharge at 1 C for 240 s\", )    ] * 1 )   "
   ]
  },
  {
   "cell_type": "code",
   "execution_count": 5,
   "metadata": {},
   "outputs": [],
   "source": [
    "BasicPath = 'D:/OneDrive - Imperial College London/SimDataSave/P3R7/'; \n",
    "Target  = 'a3_2_Long_Dsol=1e-19_add_tanh_conduct/'\n",
    "if not os.path.exists(BasicPath + Target):\n",
    "    os.mkdir(BasicPath + Target);"
   ]
  },
  {
   "cell_type": "code",
   "execution_count": 6,
   "metadata": {},
   "outputs": [],
   "source": [
    "De = 3e-10;Dec = 5e-10; Dcross  = 3e-11; Xi=-1.4; t_0plus=0.28"
   ]
  },
  {
   "cell_type": "code",
   "execution_count": 8,
   "metadata": {},
   "outputs": [
    {
     "name": "stdout",
     "output_type": "stream",
     "text": [
      "Confirm: using solvent-diffusion limited\n",
      "using EC wo refill for Li+\n",
      "Confirm: using solvent-diffusion limited\n",
      "using EC w refill for Li+\n",
      "Confirm: using solvent-diffusion limited\n"
     ]
    }
   ],
   "source": [
    "Model_d = pybamm.lithium_ion.DFN(     \n",
    "    options={\n",
    "        \"SEI\":\"solvent-diffusion limited\",          \n",
    "        \"SEI film resistance\":\"distributed\",          \n",
    "        \"SEI porosity change\":\"true\",     \n",
    "        \"solvent diffusion\": \"EC wo refill\"     } )\n",
    "Model_dre = pybamm.lithium_ion.DFN(     \n",
    "    options={\n",
    "        \"SEI\":\"solvent-diffusion limited\",          \n",
    "        \"SEI film resistance\":\"distributed\",          \n",
    "        \"SEI porosity change\":\"true\",     \n",
    "        \"solvent diffusion\": \"EC w refill\"     } )\n",
    "Model_s = pybamm.lithium_ion.DFN(     \n",
    "    options={\n",
    "        \"SEI\":\"solvent-diffusion limited\",          \n",
    "        \"SEI film resistance\":\"distributed\",          \n",
    "        \"SEI porosity change\":\"true\",     \n",
    "        \"solvent diffusion\": \"none\"     } )\n",
    "Models = [Model_s,Model_d,Model_dre]\n",
    "ChemistryChen=pybamm.parameter_sets.Chen2020 \n",
    "ChemistryChen[\"electrolyte\"] = \"lipf6_Nyman2008Exp\";\n",
    "Para_0=pybamm.ParameterValues(chemistry=ChemistryChen);\n",
    "Para_0['EC transference number'] =    Xi\n",
    "Para_0['Cation transference number'] =     t_0plus\n",
    "Para_0['EC Lithium ion cross diffusivity [m2.s-1]'] = Dcross\n",
    "Para_0['Typical EC Lithium ion cross diffusivity [m2.s-1]'] =  Dcross\n",
    "Para_0['EC diffusivity in electrolyte [m2.s-1]'] =  Dec\n",
    "Para_0['Ratio of lithium moles to SEI moles'] =  1\n",
    "Para_0['EC diffusivity in SEI [m2.s-1]'] =  D_ec_sei\n",
    "Para_0.update({\n",
    "    'Electrolyte conductivity [S.m-1]':\n",
    "    electrolyte_conductivity_Nyman2008Exp_wEC}, )\n",
    "Para_0['Ratio of lithium moles to SEI moles'] =  1\n",
    "for model in Models:\n",
    "    c_e = model.variables[\"Electrolyte concentration [mol.m-3]\"]\n",
    "    T = model.variables[\"Cell temperature [K]\"]\n",
    "    c_EC = model.variables[\"EC concentration [mol.m-3]\"]\n",
    "    model.variables[\"c(EC) over c(Li+)\"] = c_EC / c_e\n",
    "    model.variables[\"Electrolyte conductivity [S.m-1]\"] =(\n",
    "        Para_0['Electrolyte conductivity [S.m-1]'](c_e,c_EC, T))\n",
    "    model.variables[\"Electrolyte diffusivity [m2.s-1]\"] =(\n",
    "        Para_0['Electrolyte diffusivity [m2.s-1]'](c_e,c_EC, T))"
   ]
  },
  {
   "cell_type": "markdown",
   "metadata": {},
   "source": [
    "Xi =  list(np.linspace(-1.8, -1.0, 10))\n",
    "print(type(Xi))"
   ]
  },
  {
   "cell_type": "code",
   "execution_count": 10,
   "metadata": {},
   "outputs": [],
   "source": [
    "Sim = [];Sol=[]; \n",
    "for model in Models:\n",
    "    var = pybamm.standard_spatial_vars  \n",
    "    mesh_thick = 20; mesh_par=20;\n",
    "    var_pts = {\n",
    "        var.x_n: int(mesh_thick),  \n",
    "        var.x_s: int(mesh_thick),  \n",
    "        var.x_p: int(mesh_thick),  \n",
    "        var.r_n: int(mesh_par),  \n",
    "        var.r_p: int(mesh_par),  }  \n",
    "    sim = pybamm.Simulation(\n",
    "        model, experiment = Experiment_Long,\n",
    "        parameter_values = Para_0,\n",
    "        solver = pybamm.CasadiSolver(),\n",
    "        #var_pts=var_pts,\n",
    "        )  \n",
    "    try:\n",
    "        sol = sim.solve(save_at_cycles=save_at_cycles,);\n",
    "        # check whether the solution is finalized \n",
    "        print(sol.cycles[total_cycle-1].steps[-1][\"Terminal voltage [V]\"].entries[-1])\n",
    "    except:\n",
    "        print('Fail for model option: ',model.options[\"solvent diffusion\"])\n",
    "    else:\n",
    "        Sol.append(sol)   \n",
    "        print('Succeed for model option: ',model.options[\"solvent diffusion\"])"
   ]
  },
  {
   "cell_type": "markdown",
   "metadata": {},
   "source": [
    "print(Sol_ddiff[\"Electrolyte conductivity [S.m-1]\"].entries[:,51] )\n",
    "print(Sol_ddiff[\"Electrolyte diffusivity [m2.s-1]\"].entries[:,-1])"
   ]
  },
  {
   "cell_type": "code",
   "execution_count": null,
   "metadata": {},
   "outputs": [],
   "source": [
    "# post-processing - define dictionary\n",
    "########################  Output  ########################\n",
    "keys_loc_RPT = [ # MAY WANT TO SELECT AGEING CYCLE later\n",
    "    # Default output:\n",
    "    \"x [m]\",\n",
    "    \"x_n [m]\",\n",
    "    \"x_s [m]\",\n",
    "    \"x_p [m]\",\n",
    "    # default: end; \n",
    "    \"CDend Porosity\",\n",
    "    \"CDend Negative electrode interfacial current density [A.m-2]\",\n",
    "    \"CDend Electrolyte potential [V]\",\n",
    "    \"CDend Negative electrode reaction overpotential [V]\",\n",
    "    \"CDend Negative particle surface concentration [mol.m-3]\",\n",
    "\n",
    "    \"CDend Electrolyte diffusivity [m2.s-1]\",\n",
    "    \"CDend Electrolyte conductivity [S.m-1]\",\n",
    "\n",
    "    \"CDend EC concentration [mol.m-3]\",\n",
    "    \"CDend Electrolyte concentration [mol.m-3]\",\n",
    "\n",
    "    \"CDend EC flux [mol.m-2.s-1]\",\n",
    "    \"CDend EC flux by diffusion [mol.m-2.s-1]\",\n",
    "    \"CDend EC flux by migration [mol.m-2.s-1]\",\n",
    "    \"CDend EC flux by Li+ [mol.m-2.s-1]\",\n",
    "    \"CDend Li+ flux [mol.m-2.s-1]\",\n",
    "    \"CDend Li+ flux by diffusion [mol.m-2.s-1]\",\n",
    "    \"CDend Li+ flux by migration [mol.m-2.s-1]\",\n",
    "    \"CDend Li+ flux by solvent [mol.m-2.s-1]\",\n",
    "]\n",
    "keys_tim_RPT = [\n",
    "    # default: CD\n",
    "    \"CD Time [h]\",\n",
    "    \"CD Terminal voltage [V]\",\n",
    "]\n",
    "keys_cyc_RPT = [   # default: CDend\n",
    "    \"Discharge capacity [A.h]\",\n",
    "    \"CDend Loss of capacity to SEI [A.h]\",\n",
    "    \"CDend Total lithium in electrolyte [mol]\",\n",
    "    \"CDend Total EC in electrolyte [mol]\",\n",
    "    \"CDend Total EC in electrolyte and SEI [mol]\",\n",
    "]\n",
    "keys_all_RPT = [keys_loc_RPT,keys_tim_RPT,keys_cyc_RPT];"
   ]
  },
  {
   "cell_type": "code",
   "execution_count": null,
   "metadata": {},
   "outputs": [],
   "source": [
    "cycle_no_long = np.arange(0,total_cycle,save_at_cycles);\n",
    "#cycle_no_long[0] = 0;\n",
    "print(cycle_no_long);\n",
    "print(cycle_no_long[0:-3])\n"
   ]
  },
  {
   "cell_type": "code",
   "execution_count": null,
   "metadata": {},
   "outputs": [],
   "source": [
    "sol_s = Sol[0]; cycle_no_s = cycle_no_long[0:-6]\n",
    "step_CD = 0;step_CC=1;step_CV = 2;\n",
    "my_dict_s = {}; \n",
    "for keys in keys_all_RPT:\n",
    "    for key in keys:\n",
    "        my_dict_s[key]=[];\n",
    "for cycle_i in cycle_no_s:\n",
    "    my_dict_s_old = my_dict_s; del my_dict_s\n",
    "    my_dict_s = GetSol_dict (my_dict_s_old,keys_all_RPT, sol_s, \n",
    "        cycle_i, step_CD , step_CC , -1, step_CV   )\n"
   ]
  },
  {
   "cell_type": "code",
   "execution_count": null,
   "metadata": {},
   "outputs": [],
   "source": [
    "sol_d = Sol[1]; cycle_no_d = cycle_no_long\n",
    "my_dict_d = {}; \n",
    "for keys in keys_all_RPT:\n",
    "    for key in keys:\n",
    "        my_dict_d[key]=[];\n",
    "for cycle_i in cycle_no_d:\n",
    "    my_dict_d_old = my_dict_d; del my_dict_d\n",
    "    my_dict_d = GetSol_dict (my_dict_d_old,keys_all_RPT, sol_d, \n",
    "        cycle_i, step_CD , step_CC , -1, step_CV   )\n"
   ]
  },
  {
   "cell_type": "code",
   "execution_count": null,
   "metadata": {},
   "outputs": [],
   "source": [
    "sol_dre = Sol[2]; cycle_no_dre =  cycle_no_long[0:-5]\n",
    "my_dict_dre = {}; \n",
    "for keys in keys_all_RPT:\n",
    "    for key in keys:\n",
    "        my_dict_dre[key]=[];\n",
    "for cycle_i in cycle_no_dre:\n",
    "    my_dict_dre_old = my_dict_dre; del my_dict_dre\n",
    "    my_dict_dre = GetSol_dict (\n",
    "        my_dict_dre_old,keys_all_RPT, sol_dre , \n",
    "        cycle_i, step_CD , step_CC , -1, step_CV   )   \n"
   ]
  },
  {
   "cell_type": "code",
   "execution_count": null,
   "metadata": {},
   "outputs": [],
   "source": [
    "my_dict_all = [my_dict_s,my_dict_d,my_dict_dre]\n",
    "cycle_no_all = [cycle_no_s,cycle_no_d,cycle_no_dre]"
   ]
  },
  {
   "cell_type": "code",
   "execution_count": null,
   "metadata": {},
   "outputs": [],
   "source": [
    "fs=17;Num_subplot = 3;\n",
    "LS=['--','-.','-']; MA = ['o', 's', 'h',] \n",
    "fig, axs = plt.subplots(1,Num_subplot, figsize=(18,4.8),tight_layout=True)\n",
    "for model,my_dict,ls,ma,cycle_no in zip(Models,my_dict_all,LS,MA,cycle_no_all):\n",
    "    axs[0].plot(\n",
    "        cycle_no, \n",
    "        my_dict[\"CDend Total lithium in electrolyte [mol]\"],marker = ma, \n",
    "        linestyle=ls,\n",
    "        label=model.options[\"solvent diffusion\"] )\n",
    "    axs[1].plot(\n",
    "        cycle_no, \n",
    "        my_dict[\"CDend Total EC in electrolyte [mol]\"] ,marker = ma, \n",
    "        linestyle=ls,\n",
    "        label=model.options[\"solvent diffusion\"] )\n",
    "    axs[2].plot(\n",
    "        cycle_no, \n",
    "        my_dict[\"CDend Total EC in electrolyte and SEI [mol]\"] ,marker = ma, \n",
    "        linestyle=ls,\n",
    "        label=model.options[\"solvent diffusion\"] )\n",
    "for i in range(0,Num_subplot):\n",
    "    axs[i].set_xlabel(\"Cycle numbers\",   fontdict={'family':'DejaVu Sans','size':fs})\n",
    "    axs[i].set_ylabel(\"EC amount [mol]\",   fontdict={'family':'DejaVu Sans','size':fs})\n",
    "    labels = axs[i].get_xticklabels() + axs[i].get_yticklabels(); [label.set_fontname('DejaVu Sans') for label in labels]\n",
    "    axs[i].tick_params(labelcolor='k', labelsize=fs, width=1) ;  del labels;\n",
    "    axs[i].legend(prop={'family':'DejaVu Sans','size':fs-2},loc='best',frameon=False)\n",
    "   \n",
    "axs[0].set_title(\"Total Li in electrolyte\",   fontdict={'family':'DejaVu Sans','size':fs+1})\n",
    "axs[1].set_title(\"Total EC in electrolyte\",   fontdict={'family':'DejaVu Sans','size':fs+1})\n",
    "axs[2].set_title(\"Total EC in electrolyte and SEI\",   fontdict={'family':'DejaVu Sans','size':fs+1})\n",
    "axs[0].set_ylabel(\"Li amount [mol]\",   fontdict={'family':'DejaVu Sans','size':fs+1})"
   ]
  },
  {
   "cell_type": "code",
   "execution_count": null,
   "metadata": {},
   "outputs": [],
   "source": [
    "fs=17;Num_subplot = 2;\n",
    "fig, axs = plt.subplots(1,Num_subplot, figsize=(12,4.8),tight_layout=True)\n",
    "for model,my_dict,cycle_no in zip(Models,my_dict_all,cycle_no_all):\n",
    "    axs[0].plot(\n",
    "        cycle_no, \n",
    "        my_dict[\"Discharge capacity [A.h]\"],'-o', \n",
    "        label=model.options[\"solvent diffusion\"] )\n",
    "    axs[1].plot(\n",
    "        cycle_no, \n",
    "        my_dict[\"CDend Loss of capacity to SEI [A.h]\"] ,'-o', \n",
    "        label=model.options[\"solvent diffusion\"] )\n",
    "for i in range(0,Num_subplot):\n",
    "    axs[i].set_xlabel(\"Cycle numbers\",   fontdict={'family':'DejaVu Sans','size':fs})\n",
    "    axs[i].set_ylabel(\"Capacity [A.h]\",   fontdict={'family':'DejaVu Sans','size':fs})\n",
    "    labels = axs[i].get_xticklabels() + axs[i].get_yticklabels(); [label.set_fontname('DejaVu Sans') for label in labels]\n",
    "    axs[i].tick_params(labelcolor='k', labelsize=fs, width=1) ;  del labels;\n",
    "    axs[i].legend(prop={'family':'DejaVu Sans','size':fs-2},loc='best',frameon=False)\n",
    "    axs[i].set_title(\"Discharge capacity\",   fontdict={'family':'DejaVu Sans','size':fs+1})\n",
    "axs[1].set_title(\"Capacity loss to SEI\",   fontdict={'family':'DejaVu Sans','size':fs+1})"
   ]
  },
  {
   "cell_type": "code",
   "execution_count": null,
   "metadata": {},
   "outputs": [],
   "source": [
    "# Plot a pair of loc dependent varibles\n",
    "def Plot_Loc_Var( key_all, my_dict,colormap ): # for my_dict only\n",
    "    Num_subplot = len(key_all); # must have 2+ keys\n",
    "    fig, axs = plt.subplots(1,Num_subplot, figsize=(7*Num_subplot,5),tight_layout=True)\n",
    "    for i in range(0,Num_subplot):\n",
    "        cmap_i = mpl.cm.get_cmap(colormap, len(my_dict[ key_all[i]] ) ) \n",
    "        if 'Negative' in key_all[i] or 'negative' in key_all[i]:\n",
    "            x_loc = \"x_n [m]\";\n",
    "        elif 'Positive' in key_all[i] or 'positive' in key_all[i]:\n",
    "            x_loc = \"x_p [m]\";\n",
    "        elif 'Seperator' in key_all[i] or 'seperator' in key_all[i]:\n",
    "            x_loc = \"x_s [m]\";\n",
    "        else:\n",
    "            x_loc = \"x [m]\";\n",
    "        for j in range(0,len(my_dict[ key_all[i] ])):\n",
    "            axs[i].plot(\n",
    "                my_dict[x_loc], \n",
    "                my_dict[ key_all[i] ][j],'-',\n",
    "                color=cmap_i(j),)\n",
    "            axs[i].set_title(key_all[i] ,   fontdict={'family':'DejaVu Sans','size':fs-1})\n",
    "            #axs[1].set_ylabel(\"Potential [V]\",   fontdict={'family':'DejaVu Sans','size':fs})\n",
    "            axs[i].set_xlabel(x_loc,   fontdict={'family':'DejaVu Sans','size':fs})\n",
    "            labels = axs[i].get_xticklabels() + axs[i].get_yticklabels(); \n",
    "            [label.set_fontname('DejaVu Sans') for label in labels]\n",
    "            axs[i].tick_params(labelcolor='k', labelsize=fs, width=1) ;  del labels;\n",
    "            axs[i].ticklabel_format( axis='x', style='sci',scilimits=[-0.01,0.01], useOffset=None, useLocale=None, useMathText=None)\n",
    "            #axs[i].legend(prop={'family':'DejaVu Sans','size':fs-2},loc='best',frameon=False)  \n",
    "    return\n",
    "# need to add judgement for what kind of x to be chosen"
   ]
  },
  {
   "cell_type": "code",
   "execution_count": null,
   "metadata": {},
   "outputs": [],
   "source": [
    "# Plot a pair of loc dependent varibles - within one step\n",
    "def Plot_Loc_Var_sol( sol,x_loc_all, key_all, cycle, step,colormap  ): # for initial solution object\n",
    "    Num_subplot = len(key_all); # must have 2+ keys\n",
    "    fig, axs = plt.subplots(1,Num_subplot, figsize=(7*Num_subplot,5),tight_layout=True)\n",
    "    for i in range(0,Num_subplot):\n",
    "        x_loc=x_loc_all[i]; key=key_all[i];\n",
    "        LinesNmum = len(sol.cycles[cycle].steps[step][key].entries[0,:] )\n",
    "        cmap_i = mpl.cm.get_cmap(colormap, LinesNmum) \n",
    "        for j in range(0,LinesNmum):\n",
    "            axs[i].plot(\n",
    "                sol.cycles[cycle].steps[step][x_loc].entries[:,0], \n",
    "                sol.cycles[cycle].steps[step][key].entries[:,j], '-',\n",
    "                color=cmap_i(j),)\n",
    "            axs[i].set_title(key ,   fontdict={'family':'DejaVu Sans','size':fs-1})\n",
    "            #axs[1].set_ylabel(\"Potential [V]\",   fontdict={'family':'DejaVu Sans','size':fs})\n",
    "            axs[i].set_xlabel(x_loc,   fontdict={'family':'DejaVu Sans','size':fs})\n",
    "            \n",
    "            labels = axs[i].get_xticklabels() + axs[i].get_yticklabels(); [label.set_fontname('DejaVu Sans') for label in labels]\n",
    "            \n",
    "            axs[i].tick_params(labelcolor='k', labelsize=fs, width=1) ;  del labels;\n",
    "            axs[i].ticklabel_format( axis='x', style='sci',scilimits=[-0.01,0.01], useOffset=None, useLocale=None, useMathText=None)\n",
    "            #axs[i].legend(prop={'family':'DejaVu Sans','size':fs-2},loc='best',frameon=False)  \n",
    "    return "
   ]
  }
 ],
 "metadata": {
  "kernelspec": {
   "display_name": "Python 3.9.6 ('envPBGEM')",
   "language": "python",
   "name": "python3"
  },
  "language_info": {
   "codemirror_mode": {
    "name": "ipython",
    "version": 3
   },
   "file_extension": ".py",
   "mimetype": "text/x-python",
   "name": "python",
   "nbconvert_exporter": "python",
   "pygments_lexer": "ipython3",
   "version": "3.9.6"
  },
  "orig_nbformat": 4,
  "vscode": {
   "interpreter": {
    "hash": "83fab7fbb3a8fe7b5910804f702478ef63e2cc6a08d85072a5d68865ed0fd8c7"
   }
  }
 },
 "nbformat": 4,
 "nbformat_minor": 2
}
