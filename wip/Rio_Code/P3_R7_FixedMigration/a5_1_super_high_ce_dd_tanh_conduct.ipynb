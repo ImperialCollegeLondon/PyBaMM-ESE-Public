{
 "cells": [
  {
   "cell_type": "code",
   "execution_count": 1,
   "metadata": {},
   "outputs": [
    {
     "name": "stdout",
     "output_type": "stream",
     "text": [
      "4.82236794e-10\n",
      "0.0307801297\n"
     ]
    }
   ],
   "source": [
    "# import modules\n",
    "import pybamm\n",
    "import numpy as np;import matplotlib.pyplot as plt;\n",
    "from pybamm import constants,exp,tanh,sqrt;\n",
    "\n",
    "from pybamm import exp,sqrt\n",
    "def electrolyte_diffusivity_Nyman2008Constant(c_e, c_EC,T):\n",
    "    D_c_e = (\n",
    "        (c_e <= 2000) * (\n",
    "            8.794e-11 * (c_e / 1000) ** 2 - 3.972e-10 * (c_e / 1000) + 4.862e-10) \n",
    "        + (c_e > 2000) * (\n",
    "        8.794e-11 * (2000 / 1000) ** 2 - 3.972e-10 * (2000 / 1000) + 4.862e-10)\n",
    "    )\n",
    "    return D_c_e\n",
    "\n",
    "def electrolyte_conductivity_Nyman2008Constant(c_e,c_EC, T):\n",
    "    sigma_e = (c_e <= 2000) * (\n",
    "        0.1297 * (c_e / 1000) ** 3 - 2.51 * (c_e / 1000) ** 1.5 + 3.329 * (c_e / 1000)\n",
    "    ) + (c_e > 2000) *  (\n",
    "        0.1297 * (2000 / 1000) ** 3 - 2.51 * (2000 / 1000) ** 1.5 + 3.329 * (2000 / 1000)\n",
    "    )\n",
    "    return sigma_e\n",
    "def electrolyte_conductivity_Nyman2008Constant_wEC(c_e,c_EC, T):\n",
    "    x = c_EC / c_e\n",
    "    coff = 1  \n",
    "    ratio = ( coff/2 + coff/2 *  tanh((x-4.541*0.5)*1.5))\n",
    "    sigma_e = ratio * ((c_e <= 2000) * (\n",
    "        0.1297 * (c_e / 1000) ** 3 - 2.51 * (c_e / 1000) ** 1.5 + 3.329 * (c_e / 1000)\n",
    "    ) + (c_e > 2000) *  (\n",
    "        0.1297 * (2000 / 1000) ** 3 - 2.51 * (2000 / 1000) ** 1.5 + 3.329 * (2000 / 1000)\n",
    "    ))\n",
    "    return sigma_e\n",
    "print(electrolyte_diffusivity_Nyman2008Constant(10,4541,298.15))\n",
    "print(electrolyte_conductivity_Nyman2008Constant(10,4541,298.15))\n"
   ]
  },
  {
   "cell_type": "code",
   "execution_count": 2,
   "metadata": {},
   "outputs": [],
   "source": [
    "\n",
    "# set-up and run model\n",
    "V_max = 4.2;        V_min = 2.5;\n",
    "total_cycle = 1; save_at_cycles= 1\n",
    "Experiment_Long   = pybamm.Experiment( [ (\n",
    "    f\"Discharge at 1 C until {V_min} V (1 minutes period)\" , )] * total_cycle ) \n",
    "Experiment_s   = pybamm.Experiment( [ (\n",
    "    f\"Discharge at 1 C for 20 minutes (10 seconds period)\" , )] * total_cycle ) \n",
    "\n",
    "Sim = [];Sol=[]; \n",
    "\n",
    "ChemistryChen=pybamm.parameter_sets.Chen2020 \n",
    "ChemistryChen[\"electrolyte\"] = \"lipf6_Nyman2008_rio\";\n",
    "Para_0=pybamm.ParameterValues(chemistry=ChemistryChen);\n",
    "\n",
    "Para_0['Negative electrode porosity'] =  0.1\n",
    "var = pybamm.standard_spatial_vars  \n",
    "mesh_thick = 30; mesh_par=30;\n",
    "var_pts = {\n",
    "    var.x_n: int(mesh_thick),  \n",
    "    var.x_s: int(20),  \n",
    "    var.x_p: int(mesh_thick),  \n",
    "    var.r_n: int(mesh_par),  \n",
    "    var.r_p: int(mesh_par),  }  \n",
    "\n",
    "pybamm.settings.tolerances['D_e__c_e'] = 10\n"
   ]
  },
  {
   "cell_type": "code",
   "execution_count": 3,
   "metadata": {},
   "outputs": [
    {
     "name": "stdout",
     "output_type": "stream",
     "text": [
      "using EC wo refill for Li+\n",
      "<pybamm.solvers.solution.Solution object at 0x0000028CF546C6A0>\n",
      "Succeed for electrolyte: Poly\n"
     ]
    }
   ],
   "source": [
    "\n",
    "# Run the first model, with Nyman2008 polynimial form\n",
    "model = pybamm.lithium_ion.DFN(\n",
    "    options={\n",
    "        \"solvent diffusion\": \"EC wo refill\"     } )\n",
    "c_e = model.variables[\"Electrolyte concentration [mol.m-3]\"]\n",
    "c_EC = model.variables[\"EC concentration [mol.m-3]\"]\n",
    "T = model.variables[\"Cell temperature [K]\"]\n",
    "model.variables[\"Electrolyte conductivity [S.m-1]\"] =(\n",
    "    Para_0['Electrolyte conductivity [S.m-1]'](c_e, c_EC,T))\n",
    "model.variables[\"Electrolyte diffusivity [m2.s-1]\"] =(\n",
    "    Para_0['Electrolyte diffusivity [m2.s-1]'](c_e, c_EC,T))\n",
    "\n",
    "sim = pybamm.Simulation(\n",
    "    model, experiment = Experiment_Long,\n",
    "    parameter_values = Para_0,\n",
    "    solver = pybamm.CasadiSolver(),\n",
    "    var_pts=var_pts,)  \n",
    "try:\n",
    "    sol = sim.solve(save_at_cycles=save_at_cycles,);\n",
    "    print(sol.cycles[-1].steps[-1]);  # a way to check whether the solution is finalized \n",
    "except:\n",
    "    print('Fail for electrolyte: Poly')\n",
    "else:\n",
    "    Sol.append(sol)   \n",
    "    print('Succeed for electrolyte: Poly')\n"
   ]
  },
  {
   "cell_type": "code",
   "execution_count": 4,
   "metadata": {},
   "outputs": [
    {
     "name": "stdout",
     "output_type": "stream",
     "text": [
      "using EC wo refill for Li+\n",
      "<pybamm.solvers.solution.Solution object at 0x0000028CF67DADF0>\n",
      "Succeed for electrolyte: Constant\n"
     ]
    }
   ],
   "source": [
    "# Run the second model, with Nyman2008 constant form\n",
    "model_2 = pybamm.lithium_ion.DFN(\n",
    "    options={\n",
    "        \"solvent diffusion\": \"EC wo refill\"} )\n",
    "Para_0.update({\n",
    "    'Electrolyte conductivity [S.m-1]': \n",
    "    electrolyte_conductivity_Nyman2008Constant})\n",
    "Para_0.update({\n",
    "    'Electrolyte diffusivity [m2.s-1]': \n",
    "    electrolyte_diffusivity_Nyman2008Constant})\n",
    "c_e = model_2.variables[\"Electrolyte concentration [mol.m-3]\"]\n",
    "c_EC = model_2.variables[\"EC concentration [mol.m-3]\"]\n",
    "T = model_2.variables[\"Cell temperature [K]\"]\n",
    "model_2.variables[\"Electrolyte conductivity [S.m-1]\"] =(\n",
    "    Para_0['Electrolyte conductivity [S.m-1]'](c_e,c_EC, T))\n",
    "model_2.variables[\"Electrolyte diffusivity [m2.s-1]\"] =(\n",
    "    Para_0['Electrolyte diffusivity [m2.s-1]'](c_e,c_EC, T))\n",
    "\n",
    "sim_2 = pybamm.Simulation(\n",
    "    model_2, experiment = Experiment_Long,\n",
    "    parameter_values = Para_0,\n",
    "    solver = pybamm.CasadiSolver(),\n",
    "    var_pts=var_pts,)  \n",
    "try:\n",
    "    sol_2 = sim_2.solve(save_at_cycles=save_at_cycles,);\n",
    "    print(sol_2.cycles[-1].steps[-1]);  # a way to check whether the solution is finalized \n",
    "except:\n",
    "    print('Fail for electrolyte: Constant')\n",
    "else:\n",
    "    Sol.append(sol_2)   \n",
    "    print('Succeed for electrolyte: Constant')\n"
   ]
  },
  {
   "cell_type": "code",
   "execution_count": 5,
   "metadata": {},
   "outputs": [
    {
     "name": "stdout",
     "output_type": "stream",
     "text": [
      "using EC wo refill for Li+\n",
      "<pybamm.solvers.solution.Solution object at 0x0000028CF6F20DF0>\n",
      "Succeed for electrolyte: Constant\n"
     ]
    }
   ],
   "source": [
    "# Run the _3 model, with Nyman2008 constant_wEC form\n",
    "model_3 = pybamm.lithium_ion.DFN(\n",
    "    options={\n",
    "        \"solvent diffusion\": \"EC wo refill\"} )\n",
    "Para_0.update({\n",
    "    'Electrolyte conductivity [S.m-1]': \n",
    "    electrolyte_conductivity_Nyman2008Constant_wEC})\n",
    "Para_0.update({\n",
    "    'Electrolyte diffusivity [m2.s-1]': \n",
    "    electrolyte_diffusivity_Nyman2008Constant})\n",
    "c_e = model_3.variables[\"Electrolyte concentration [mol.m-3]\"]\n",
    "c_EC = model_3.variables[\"EC concentration [mol.m-3]\"]\n",
    "T = model_3.variables[\"Cell temperature [K]\"]\n",
    "model_3.variables[\"Electrolyte conductivity [S.m-1]\"] =(\n",
    "    Para_0['Electrolyte conductivity [S.m-1]'](c_e,c_EC, T))\n",
    "model_3.variables[\"Electrolyte diffusivity [m2.s-1]\"] =(\n",
    "    Para_0['Electrolyte diffusivity [m2.s-1]'](c_e,c_EC, T))\n",
    "\n",
    "sim_3 = pybamm.Simulation(\n",
    "    model_3, experiment = Experiment_Long,\n",
    "    parameter_values = Para_0,\n",
    "    solver = pybamm.CasadiSolver(),\n",
    "    var_pts=var_pts,)  \n",
    "try:\n",
    "    sol_3 = sim_3.solve(save_at_cycles=save_at_cycles,);\n",
    "    print(sol_3.cycles[-1].steps[-1]);  # a way to check whether the solution is finalized \n",
    "except:\n",
    "    print('Fail for electrolyte: Constant')\n",
    "else:\n",
    "    Sol.append(sol_3)   \n",
    "    print('Succeed for electrolyte: Constant')\n"
   ]
  },
  {
   "cell_type": "code",
   "execution_count": 6,
   "metadata": {},
   "outputs": [
    {
     "name": "stdout",
     "output_type": "stream",
     "text": [
      "[2.69161751 2.68217028 2.66327942 2.63495231 2.59720032 2.55003922\n",
      " 2.49348972 2.42757827 2.35233817 2.26781119 2.17404988 2.07112088\n",
      " 1.95910992 1.8381294  1.70833041 1.56992231 1.42320643 1.26863707\n",
      " 1.10694086 0.9393737  0.7683563  0.599423   0.45017736 0.44868112\n",
      " 0.7314624  0.89322823 0.94505846 0.94375355 0.90638659 0.84040497\n",
      " 0.79529097 0.79339129 0.79148241 0.78956435 0.78763714 0.78570079\n",
      " 0.78375535 0.78180082 0.77983724 0.77786462 0.77588299 0.77389237\n",
      " 0.77189279 0.76988426 0.76786681 0.76584045 0.76380521 0.76176111\n",
      " 0.75970816 0.7576464  0.74936156 0.73497477 0.72069946 0.70657964\n",
      " 0.69265674 0.67896981 0.66555568 0.65244917 0.63968318 0.62728885\n",
      " 0.61529564 0.60373142 0.59262252 0.58199381 0.57186871 0.56226928\n",
      " 0.55321617 0.54472869 0.5368248  0.52952112 0.5228329  0.51677405\n",
      " 0.51135709 0.50659318 0.50249206 0.49906208 0.49631013 0.49424166\n",
      " 0.49286067 0.49216966]\n",
      "[4453.34079024 4450.28989652 4444.16595578 4434.92398699 4422.49474181\n",
      " 4406.78241596 4387.66133725 4364.97136275 4338.51158365 4308.03173771\n",
      " 4273.22042089 4233.68869662 4188.9468833  4138.37088888 4081.15191792\n",
      " 4016.21854749 3942.11042199 3856.76160855 3757.10092837 3638.23933552\n",
      " 3491.57448854 3299.326503   3011.4238293  2405.9528762  1703.43753799\n",
      " 1296.82222501 1049.51505158  860.96606041  704.40342034  568.3894854\n",
      "  502.62467718  500.1280344   497.63784243  495.15406101  492.67665024\n",
      "  490.20557064  487.7407831   485.2822489   482.82992967  480.38378744\n",
      "  477.9437846   475.50988389  473.0820484   470.66024161  468.24442729\n",
      "  465.83456961  463.43063303  461.03258238  458.64038279  456.25399974\n",
      "  446.82220982  431.00672954  415.95986754  401.6512101   388.05299101\n",
      "  375.13982051  362.8884504   351.27756978  340.28762672  329.90067221\n",
      "  320.10022314  310.87114172  302.19952916  294.07263163  286.4787571\n",
      "  279.40720152  272.84818333  266.79278525  261.23290254  256.16119697\n",
      "  251.57105586  247.4565557   243.81242976  240.63403945  237.91734885\n",
      "  235.65890235  233.85580482  232.50570444  231.60677763  231.15771616]\n"
     ]
    }
   ],
   "source": [
    "print(Sol[0][\"Electrolyte conductivity [S.m-1]\"].entries[:,-1])\n",
    "print(Sol[0][\"Electrolyte concentration [mol.m-3]\"].entries[:,-1])"
   ]
  },
  {
   "cell_type": "code",
   "execution_count": 7,
   "metadata": {},
   "outputs": [
    {
     "name": "stdout",
     "output_type": "stream",
     "text": [
      "[0.00532659 0.00531895 0.00530372 0.00528098 0.00525087 0.00521356\n",
      " 0.00516929 0.00511832 0.00506099 0.00499769 0.00492892 0.00485532\n",
      " 0.00477774 0.00469746 0.00461651 0.00453845 0.00447    0.0044255\n",
      " 0.00444221 0.00466771 0.00615849 0.01063063 0.02596515 0.1135425\n",
      " 0.58037064 0.87995627 0.94549341 0.93946501 0.90038894 0.83586647\n",
      " 0.79242493 0.79059911 0.78876397 0.78691953 0.7850658  0.78320278\n",
      " 0.78133048 0.77944892 0.7775581  0.77565804 0.77374874 0.77183021\n",
      " 0.76990246 0.76796551 0.76601935 0.764064   0.76209946 0.76012574\n",
      " 0.75814286 0.75615081 0.74814449 0.73427779 0.72055414 0.70701329\n",
      " 0.69369247 0.68062662 0.6678486  0.65538928 0.64327774 0.63154132\n",
      " 0.62020578 0.60929532 0.59883266 0.5888391  0.57933459 0.57033771\n",
      " 0.56186575 0.55393472 0.54655935 0.53975315 0.53352837 0.52789607\n",
      " 0.52286607 0.51844701 0.51464633 0.51147027 0.50892392 0.50701118\n",
      " 0.5057348  0.50509638]\n",
      "[4087.93107763 4090.01637498 4094.19036554 4100.45943719 4108.83272716\n",
      " 4119.32162891 4131.93889787 4146.69706436 4163.60560239 4182.66580738\n",
      " 4203.86136741 4227.14067119 4252.38288795 4279.33128137 4307.4580233\n",
      " 4335.67889232 4361.71386346 4380.48540937 4378.9531187  4310.4002519\n",
      " 3946.85877323 3380.36581619 2729.04802619 2030.19556811 1498.88438114\n",
      " 1207.90185105 1000.03881731  832.17630843  688.45011564  561.11292949\n",
      "  498.86508252  496.4917491   494.12298918  491.75878052  489.399101\n",
      "  487.0439287   484.69324187  482.34701891  480.00523839  477.66787905\n",
      "  475.33491979  473.00633965  470.68211786  468.36223378  466.04666693\n",
      "  463.73539698  461.42840377  459.12566726  456.82716759  454.53288501\n",
      "  445.4572753   430.25765899  415.80979021  402.08266082  389.04804035\n",
      "  376.68017292  364.95551592  353.85251385  343.35140201  333.43403576\n",
      "  324.08374167  315.28518755  307.02426885  299.28800938  292.06447436\n",
      "  285.34269455  279.11259988  273.36496162  268.09134201  263.28405068\n",
      "  258.93610683  255.04120688  251.59369675  248.58854858  246.02134125\n",
      "  243.88824462  242.18600712  240.91194661  240.0639443   239.64044193]\n"
     ]
    }
   ],
   "source": [
    "print(Sol[-1][\"Electrolyte conductivity [S.m-1]\"].entries[:,-1])\n",
    "print(Sol[-1][\"Electrolyte concentration [mol.m-3]\"].entries[:,-1])"
   ]
  },
  {
   "cell_type": "code",
   "execution_count": 11,
   "metadata": {},
   "outputs": [
    {
     "data": {
      "application/vnd.jupyter.widget-view+json": {
       "model_id": "b57ef11cdbdf4a1b96feabd9833a4e4a",
       "version_major": 2,
       "version_minor": 0
      },
      "text/plain": [
       "interactive(children=(FloatSlider(value=0.0, description='t', max=58.87749847444097, step=0.5887749847444097),…"
      ]
     },
     "metadata": {},
     "output_type": "display_data"
    }
   ],
   "source": [
    "fs=17; \n",
    "import matplotlib as mpl; \n",
    "font = {'family' : 'DejaVu Sans','size'   : fs}\n",
    "mpl.rc('font', **font)\n",
    "label = ['Nyman - Poly', 'Nyman - Constant', 'Nyman - Constant w EC', ]\n",
    "output_variables3 = [\n",
    "    \"Terminal voltage [V]\",   \n",
    "    \"Electrolyte potential [V]\",\n",
    "    \"Electrolyte concentration [mol.m-3]\",\n",
    "    \"Li+ flux [mol.m-2.s-1]\",\n",
    "    \"Electrolyte diffusivity [m2.s-1]\",\n",
    "    \"Electrolyte conductivity [S.m-1]\"\n",
    "]\n",
    "quick_plot = pybamm.QuickPlot(\n",
    "    [sol for sol in Sol], \n",
    "    output_variables3,label,\n",
    "    variable_limits='tight',time_unit='minutes',n_rows=2,\n",
    "    figsize = (12,8)) #     spatial_unit='mm',\n",
    "quick_plot.dynamic_plot();\n"
   ]
  },
  {
   "cell_type": "code",
   "execution_count": 12,
   "metadata": {},
   "outputs": [
    {
     "data": {
      "application/vnd.jupyter.widget-view+json": {
       "model_id": "a0fbace332204ba4a5cc928233c767eb",
       "version_major": 2,
       "version_minor": 0
      },
      "text/plain": [
       "interactive(children=(FloatSlider(value=0.0, description='t', max=58.87749847444097, step=0.5887749847444097),…"
      ]
     },
     "metadata": {},
     "output_type": "display_data"
    }
   ],
   "source": [
    "\n",
    "label = ['Nyman - Poly', 'Nyman - Constant', 'Nyman - Constant w EC', ]\n",
    "output_variables3 = [\n",
    "    \"Terminal voltage [V]\",\n",
    "    \"Positive electrode potential [V]\",\n",
    "    \"Positive electrode current density [A.m-2]\",\n",
    "    \"Electrolyte potential [V]\",\n",
    "    \"Electrolyte current density [A.m-2]\",\n",
    "    \"Sum of positive electrode interfacial current densities\",\n",
    "]\n",
    "quick_plot = pybamm.QuickPlot(\n",
    "    [sol for sol in Sol], \n",
    "    output_variables3,label,\n",
    "    variable_limits='tight',time_unit='minutes',n_rows=2,\n",
    "    figsize = (12,8)) #     spatial_unit='mm',\n",
    "quick_plot.dynamic_plot();\n"
   ]
  }
 ],
 "metadata": {
  "kernelspec": {
   "display_name": "Python 3.9.6 ('envPBGEM')",
   "language": "python",
   "name": "python3"
  },
  "language_info": {
   "codemirror_mode": {
    "name": "ipython",
    "version": 3
   },
   "file_extension": ".py",
   "mimetype": "text/x-python",
   "name": "python",
   "nbconvert_exporter": "python",
   "pygments_lexer": "ipython3",
   "version": "3.9.6"
  },
  "orig_nbformat": 4,
  "vscode": {
   "interpreter": {
    "hash": "83fab7fbb3a8fe7b5910804f702478ef63e2cc6a08d85072a5d68865ed0fd8c7"
   }
  }
 },
 "nbformat": 4,
 "nbformat_minor": 2
}
