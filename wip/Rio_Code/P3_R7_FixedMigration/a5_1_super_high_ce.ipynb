{
 "cells": [
  {
   "cell_type": "code",
   "execution_count": 1,
   "metadata": {},
   "outputs": [
    {
     "name": "stdout",
     "output_type": "stream",
     "text": [
      "4.82236794e-10\n",
      "0.0307801297\n"
     ]
    }
   ],
   "source": [
    "# import modules\n",
    "import pybamm\n",
    "import numpy as np;import matplotlib.pyplot as plt;\n",
    "from pybamm import constants,exp,tanh,sqrt;\n",
    "\n",
    "from pybamm import exp,sqrt\n",
    "def electrolyte_diffusivity_Nyman2008Constant(c_e, c_EC,T):\n",
    "    D_c_e = (\n",
    "        (c_e <= 2000) * (\n",
    "            8.794e-11 * (c_e / 1000) ** 2 - 3.972e-10 * (c_e / 1000) + 4.862e-10) \n",
    "        + (c_e > 2000) * (\n",
    "        8.794e-11 * (2000 / 1000) ** 2 - 3.972e-10 * (2000 / 1000) + 4.862e-10)\n",
    "    )\n",
    "    return D_c_e\n",
    "\n",
    "def electrolyte_conductivity_Nyman2008Constant(c_e,c_EC, T):\n",
    "    sigma_e = (c_e <= 2000) * (\n",
    "        0.1297 * (c_e / 1000) ** 3 - 2.51 * (c_e / 1000) ** 1.5 + 3.329 * (c_e / 1000)\n",
    "    ) + (c_e > 2000) *  (\n",
    "        0.1297 * (2000 / 1000) ** 3 - 2.51 * (2000 / 1000) ** 1.5 + 3.329 * (2000 / 1000)\n",
    "    )\n",
    "    return sigma_e\n",
    "print(electrolyte_diffusivity_Nyman2008Constant(10,4541,298.15))\n",
    "print(electrolyte_conductivity_Nyman2008Constant(10,4541,298.15))\n"
   ]
  },
  {
   "cell_type": "code",
   "execution_count": 2,
   "metadata": {},
   "outputs": [],
   "source": [
    "\n",
    "# set-up and run model\n",
    "V_max = 4.2;        V_min = 2.5;\n",
    "total_cycle = 1; save_at_cycles= 1\n",
    "Experiment_Long   = pybamm.Experiment( [ (\n",
    "    f\"Discharge at 1 C until {V_min} V (1 minutes period)\" , )] * total_cycle ) \n",
    "Experiment_s   = pybamm.Experiment( [ (\n",
    "    f\"Discharge at 1 C for 20 minutes (10 seconds period)\" , )] * total_cycle ) \n",
    "\n",
    "Sim = [];Sol=[]; \n",
    "\n",
    "ChemistryChen=pybamm.parameter_sets.Chen2020 \n",
    "ChemistryChen[\"electrolyte\"] = \"lipf6_Nyman2008_rio\";\n",
    "Para_0=pybamm.ParameterValues(chemistry=ChemistryChen);\n",
    "\n",
    "Para_0['Negative electrode porosity'] =  0.1\n",
    "var = pybamm.standard_spatial_vars  \n",
    "mesh_thick = 30; mesh_par=30;\n",
    "var_pts = {\n",
    "    var.x_n: int(mesh_thick),  \n",
    "    var.x_s: int(20),  \n",
    "    var.x_p: int(mesh_thick),  \n",
    "    var.r_n: int(mesh_par),  \n",
    "    var.r_p: int(mesh_par),  }  \n",
    "\n",
    "pybamm.settings.tolerances['D_e__c_e'] = 10\n"
   ]
  },
  {
   "cell_type": "code",
   "execution_count": 3,
   "metadata": {},
   "outputs": [
    {
     "name": "stdout",
     "output_type": "stream",
     "text": [
      "<pybamm.solvers.solution.Solution object at 0x00000173CC1AB9A0>\n",
      "Succeed for electrolyte: Poly\n"
     ]
    }
   ],
   "source": [
    "\n",
    "# Run the first model, with Nyman2008 polynimial form\n",
    "model = pybamm.lithium_ion.DFN()\n",
    "c_e = model.variables[\"Electrolyte concentration [mol.m-3]\"]\n",
    "c_EC = model.variables[\"EC concentration [mol.m-3]\"]\n",
    "T = model.variables[\"Cell temperature [K]\"]\n",
    "model.variables[\"Electrolyte conductivity [S.m-1]\"] =(\n",
    "    Para_0['Electrolyte conductivity [S.m-1]'](c_e, c_EC,T))\n",
    "model.variables[\"Electrolyte diffusivity [m2.s-1]\"] =(\n",
    "    Para_0['Electrolyte diffusivity [m2.s-1]'](c_e, c_EC,T))\n",
    "\n",
    "sim = pybamm.Simulation(\n",
    "    model, experiment = Experiment_Long,\n",
    "    parameter_values = Para_0,\n",
    "    solver = pybamm.CasadiSolver(),\n",
    "    var_pts=var_pts,)  \n",
    "try:\n",
    "    sol = sim.solve(save_at_cycles=save_at_cycles,);\n",
    "    print(sol.cycles[-1].steps[-1]);  # a way to check whether the solution is finalized \n",
    "except:\n",
    "    print('Fail for electrolyte: Poly')\n",
    "else:\n",
    "    Sol.append(sol)   \n",
    "    print('Succeed for electrolyte: Poly')\n"
   ]
  },
  {
   "cell_type": "code",
   "execution_count": 4,
   "metadata": {},
   "outputs": [
    {
     "name": "stdout",
     "output_type": "stream",
     "text": [
      "<pybamm.solvers.solution.Solution object at 0x00000173CD4CF0A0>\n",
      "Succeed for electrolyte: Constant\n"
     ]
    }
   ],
   "source": [
    "# Run the first model, with Nyman2008 exponeitial form\n",
    "model_2 = pybamm.lithium_ion.DFN()\n",
    "Para_0.update({\n",
    "    'Electrolyte conductivity [S.m-1]': \n",
    "    electrolyte_conductivity_Nyman2008Constant})\n",
    "Para_0.update({\n",
    "    'Electrolyte diffusivity [m2.s-1]': \n",
    "    electrolyte_diffusivity_Nyman2008Constant})\n",
    "c_e = model_2.variables[\"Electrolyte concentration [mol.m-3]\"]\n",
    "c_EC = model.variables[\"EC concentration [mol.m-3]\"]\n",
    "T = model_2.variables[\"Cell temperature [K]\"]\n",
    "model_2.variables[\"Electrolyte conductivity [S.m-1]\"] =(\n",
    "    Para_0['Electrolyte conductivity [S.m-1]'](c_e,c_EC, T))\n",
    "model_2.variables[\"Electrolyte diffusivity [m2.s-1]\"] =(\n",
    "    Para_0['Electrolyte diffusivity [m2.s-1]'](c_e,c_EC, T))\n",
    "\n",
    "sim_2 = pybamm.Simulation(\n",
    "    model_2, experiment = Experiment_Long,\n",
    "    parameter_values = Para_0,\n",
    "    solver = pybamm.CasadiSolver(),\n",
    "    var_pts=var_pts,)  \n",
    "try:\n",
    "    sol_2 = sim_2.solve(save_at_cycles=save_at_cycles,);\n",
    "    print(sol_2.cycles[-1].steps[-1]);  # a way to check whether the solution is finalized \n",
    "except:\n",
    "    print('Fail for electrolyte: Constant')\n",
    "else:\n",
    "    Sol.append(sol_2)   \n",
    "    print('Succeed for electrolyte: Constant')\n"
   ]
  },
  {
   "cell_type": "code",
   "execution_count": 10,
   "metadata": {},
   "outputs": [
    {
     "name": "stdout",
     "output_type": "stream",
     "text": [
      "[2.3210205  2.31228375 2.29481611 2.26862951 2.2337424  2.19018033\n",
      " 2.13797691 2.07717517 2.00782939 1.93000786 1.8437967  1.74930554\n",
      " 1.64667596 1.5360946  1.41781399 1.29218752 1.15973072 1.02123691\n",
      " 0.87801457 0.73243763 0.5894674  0.46230464 0.40901407 0.58513846\n",
      " 0.81236412 0.91151796 0.94712983 0.94356241 0.91096714 0.85442148\n",
      " 0.81592336 0.81429867 0.81266613 0.81102576 0.80937759 0.80772163\n",
      " 0.80605791 0.80438645 0.80270726 0.80102037 0.7993258  0.79762357\n",
      " 0.79591369 0.79419618 0.79247107 0.79073838 0.78899811 0.78725029\n",
      " 0.78549494 0.78373208 0.77664694 0.76434887 0.752149   0.74008507\n",
      " 0.72819259 0.71650499 0.70505381 0.69386877 0.68297795 0.67240784\n",
      " 0.66218346 0.65232839 0.64286487 0.63381382 0.6251949  0.61702653\n",
      " 0.60932591 0.60210907 0.59539085 0.58918494 0.58350385 0.57835896\n",
      " 0.57376046 0.56971742 0.5662377  0.56332805 0.56099398 0.55923987\n",
      " 0.55806888 0.557483  ]\n",
      "[4327.31441956 4324.17086076 4317.85945041 4308.33081317 4295.508807\n",
      " 4279.28783617 4259.52894308 4236.05434077 4208.63987391 4177.00463199\n",
      " 4140.79652217 4099.57192907 4052.7664336  3999.65151797 3939.26838268\n",
      " 3870.32252434 3791.00696899 3698.68592509 3589.27829366 3455.90810762\n",
      " 3285.40607207 3046.44526841 2632.09477837 2025.4731175  1518.79821267\n",
      " 1232.03021444 1025.76673592  859.43680185  717.44742733  592.05925491\n",
      "  531.02988919  528.70101748  526.37776311  524.06009347  521.74797625\n",
      "  519.44137944  517.14027131  514.84462042  512.55439563  510.26956604\n",
      "  507.99010107  505.71597039  503.44714393  501.18359191  498.92528481\n",
      "  496.67219335  494.42428852  492.18154157  489.943924    487.71140753\n",
      "  478.88239978  464.07118323  449.96794366  436.54618816  423.78164945\n",
      "  411.65206874  400.13700638  389.2176762   378.8768001   369.09848015\n",
      "  359.86808572  351.17215361  342.99829972  335.33514046  328.17222305\n",
      "  321.49996333  315.30959042  309.59309735  304.34319698  299.55328268\n",
      "  295.21739324  291.33018158  287.88688685  284.88330963  282.31578995\n",
      "  280.18118783  278.47686612  277.20067549  276.3509414   275.92645285]\n"
     ]
    }
   ],
   "source": [
    "print(Sol[0][\"Electrolyte conductivity [S.m-1]\"].entries[:,-1])\n",
    "print(Sol[0][\"Electrolyte concentration [mol.m-3]\"].entries[:,-1])"
   ]
  },
  {
   "cell_type": "code",
   "execution_count": 9,
   "metadata": {},
   "outputs": [
    {
     "name": "stdout",
     "output_type": "stream",
     "text": [
      "[0.59624792 0.59624792 0.59624792 0.59624792 0.59624792 0.59624792\n",
      " 0.59624792 0.59624792 0.59624792 0.59624792 0.59624792 0.59624792\n",
      " 0.59624792 0.59624792 0.59624792 0.59624792 0.59624792 0.59624792\n",
      " 0.59624792 0.78021067 0.89989171 0.94426257 0.94654367 0.91969659\n",
      " 0.87014507 0.80142739 0.71550696 0.61329986 0.49483327 0.3590902\n",
      " 0.28094701 0.27771077 0.27446565 0.27121159 0.26794851 0.26467638\n",
      " 0.26139512 0.25810467 0.25480496 0.25149594 0.24817752 0.24484964\n",
      " 0.24151224 0.23816522 0.23480852 0.23144206 0.22806575 0.22467951\n",
      " 0.22128326 0.21787691 0.20420804 0.18084448 0.15804267 0.13589104\n",
      " 0.11449207 0.09396773 0.07446855 0.05618973 0.03940509 0.02454385\n",
      " 0.01240545 0.00373877        nan        nan        nan        nan\n",
      "        nan        nan        nan        nan        nan        nan\n",
      "        nan        nan        nan        nan        nan        nan\n",
      "        nan        nan]\n",
      "[ 9.45704628e+03  9.40956928e+03  9.31489640e+03  9.17354225e+03\n",
      "  8.98616400e+03  8.75344202e+03  8.47595293e+03  8.15406736e+03\n",
      "  7.78792377e+03  7.37756761e+03  6.92338810e+03  6.42689729e+03\n",
      "  5.89140263e+03  5.32174865e+03  4.72328700e+03  4.10102092e+03\n",
      "  3.45922718e+03  2.80137009e+03  2.13014228e+03  1.59440618e+03\n",
      "  1.27437075e+03  1.05721141e+03  8.87202464e+02  7.44927413e+02\n",
      "  6.21183593e+02  5.10819419e+02  4.10634335e+02  3.18492288e+02\n",
      "  2.32891399e+02  1.52733569e+02  1.12964431e+02  1.11403188e+02\n",
      "  1.09844173e+02  1.08287379e+02  1.06732798e+02  1.05180424e+02\n",
      "  1.03630250e+02  1.02082268e+02  1.00536470e+02  9.89928508e+01\n",
      "  9.74514023e+01  9.59121176e+01  9.43749898e+01  9.28400119e+01\n",
      "  9.13071770e+01  8.97764781e+01  8.82479086e+01  8.67214615e+01\n",
      "  8.51971301e+01  8.36749077e+01  7.76330114e+01  6.75488866e+01\n",
      "  5.79982124e+01  4.89919003e+01  4.05453480e+01  3.26799878e+01\n",
      "  2.54258467e+01  1.88262234e+01  1.29476578e+01  7.90238149e+00\n",
      "  3.91088333e+00  1.15259373e+00 -4.53280875e-01 -2.04287551e+00\n",
      " -3.59749565e+00 -5.10098515e+00 -6.53844273e+00 -7.89703005e+00\n",
      " -9.16688412e+00 -1.03412646e+01 -1.14156614e+01 -1.23871534e+01\n",
      " -1.32537976e+01 -1.40142918e+01 -1.46676922e+01 -1.52133632e+01\n",
      " -1.56507865e+01 -1.59794889e+01 -1.61990367e+01 -1.63090006e+01]\n"
     ]
    }
   ],
   "source": [
    "print(Sol[-1][\"Electrolyte conductivity [S.m-1]\"].entries[:,-1])\n",
    "print(Sol[-1][\"Electrolyte concentration [mol.m-3]\"].entries[:,-1])"
   ]
  },
  {
   "cell_type": "code",
   "execution_count": 5,
   "metadata": {},
   "outputs": [
    {
     "data": {
      "application/vnd.jupyter.widget-view+json": {
       "model_id": "fb429a79e2924bbbb7ee087039dedce8",
       "version_major": 2,
       "version_minor": 0
      },
      "text/plain": [
       "interactive(children=(FloatSlider(value=0.0, description='t', max=58.89902678996891, step=0.5889902678996891),…"
      ]
     },
     "metadata": {},
     "output_type": "display_data"
    }
   ],
   "source": [
    "\n",
    "label = ['Nyman - Poly', 'Nyman - Constant', ]\n",
    "output_variables3 = [\n",
    "    \"Terminal voltage [V]\",   \n",
    "    \"Electrolyte potential [V]\",\n",
    "    \"Electrolyte concentration [mol.m-3]\",\n",
    "    \"Li+ flux [mol.m-2.s-1]\",\n",
    "    \"Electrolyte diffusivity [m2.s-1]\",\n",
    "    \"Electrolyte conductivity [S.m-1]\"\n",
    "]\n",
    "quick_plot = pybamm.QuickPlot(\n",
    "    [sol for sol in Sol], \n",
    "    output_variables3,label,\n",
    "    variable_limits='tight',time_unit='minutes',n_rows=2,\n",
    "    figsize = (12,8)) #     spatial_unit='mm',\n",
    "quick_plot.dynamic_plot();\n"
   ]
  }
 ],
 "metadata": {
  "kernelspec": {
   "display_name": "Python 3.9.6 ('envPBGEM')",
   "language": "python",
   "name": "python3"
  },
  "language_info": {
   "codemirror_mode": {
    "name": "ipython",
    "version": 3
   },
   "file_extension": ".py",
   "mimetype": "text/x-python",
   "name": "python",
   "nbconvert_exporter": "python",
   "pygments_lexer": "ipython3",
   "version": "3.9.6"
  },
  "orig_nbformat": 4,
  "vscode": {
   "interpreter": {
    "hash": "83fab7fbb3a8fe7b5910804f702478ef63e2cc6a08d85072a5d68865ed0fd8c7"
   }
  }
 },
 "nbformat": 4,
 "nbformat_minor": 2
}
