{
 "cells": [
  {
   "cell_type": "code",
   "execution_count": 143,
   "metadata": {},
   "outputs": [],
   "source": [
    "# step 1: import modules\n",
    "import pybamm;from pybamm import constants,exp,tanh,sqrt;\n",
    "import numpy as np\n",
    "import matplotlib.pyplot as plt;import matplotlib as mpl;\n",
    "import pandas as pd   ;import numpy as np;import os;import os;\n",
    "from scipy.io import savemat,loadmat; \n",
    "import traceback;import imageio.v2 as imageio\n",
    "import sys  \n",
    "str_path_0 = os.path.abspath(os.path.join(pybamm.__path__[0],'..'))\n",
    "str_path_1 = os.path.abspath(os.path.join(str_path_0,\"wip\\Rio_Code\\Fun_P3\"))\n",
    "sys.path.append(str_path_1) \n",
    "from Fun_P3 import (\n",
    "    PlotDynamics,\n",
    "    Plot_Loc_Var,\n",
    "    Plot_Loc_Var_sol,\n",
    "    Plot_Single_Static,\n",
    "    may_cause_error,\n",
    ")\n",
    "fs=17; \n",
    "font = {'family' : 'DejaVu Sans','size'   : fs}\n",
    "mpl.rc('font', **font)"
   ]
  },
  {
   "cell_type": "code",
   "execution_count": 144,
   "metadata": {},
   "outputs": [],
   "source": [
    "def electrolyte_conductivity_Nyman2008Exp_wEC(c_e,c_EC, T):\n",
    "    x = c_EC / c_e\n",
    "    coff = 1  \n",
    "    ratio = ( coff/2 + coff/2 *  tanh((x-4.541*0.5)*1.5))\n",
    "    sigma_e = (\n",
    "        ratio * (\n",
    "        0.1 * 0.06248 * (1+298.15-0.05559) * \n",
    "        (c_e/1e3) * (1 - 3.084 *sqrt(c_e/1e3) \n",
    "        + 1.33 *(1+ 0.03633 *(exp(1000/298.15))*c_e/1e3)   ) \n",
    "        / (1+(c_e/1e3)**4*( 0.00795 *exp(1000/298.15))) )\n",
    "    )\n",
    "    return sigma_e\n",
    "def electrolyte_conductivity_Nyman2008Exp_wcEC(c_e,c_EC, T): # with constant c_EC\n",
    "    x = 4541 / c_e\n",
    "    coff = 1  \n",
    "    ratio = ( coff/2 + coff/2 *  tanh((x-4.541*0.5)*1.5))\n",
    "    sigma_e = (\n",
    "        ratio * (\n",
    "        0.1 * 0.06248 * (1+298.15-0.05559) * \n",
    "        (c_e/1e3) * (1 - 3.084 *sqrt(c_e/1e3) \n",
    "        + 1.33 *(1+ 0.03633 *(exp(1000/298.15))*c_e/1e3)   ) \n",
    "        / (1+(c_e/1e3)**4*( 0.00795 *exp(1000/298.15))) )\n",
    "    )\n",
    "    return sigma_e\n",
    "class RioCallback(pybamm.callbacks.Callback):\n",
    "    def __init__(self, logfile=None):\n",
    "        self.logfile = logfile\n",
    "        self.success  = True\n",
    "        if logfile is None:\n",
    "            # Use pybamm's logger, which prints to command line\n",
    "            self.logger = pybamm.logger\n",
    "        else:\n",
    "            # Use a custom logger, this will have its own level so set it to the same\n",
    "            # level as the pybamm logger (users can override this)\n",
    "            self.logger = pybamm.get_new_logger(__name__, logfile)\n",
    "            self.logger.setLevel(pybamm.logger.level)\n",
    "    \n",
    "    def on_experiment_error(self, logs):\n",
    "        self.success  = False\n",
    "    def on_experiment_infeasible(self, logs):\n",
    "        self.success  = False"
   ]
  },
  {
   "cell_type": "code",
   "execution_count": 145,
   "metadata": {},
   "outputs": [
    {
     "name": "stdout",
     "output_type": "stream",
     "text": [
      "Confirm: using solvent-diffusion limited\n",
      "using EC wo refill for Li+\n"
     ]
    }
   ],
   "source": [
    "# Step 2: model parameters\n",
    "De = 3e-10;Dec = 5e-10; Dcross  = 3e-11; Xi=-1.4; t_0plus=0.28\n",
    "D_ec_sei=5e-21; # \n",
    "model_0 = pybamm.lithium_ion.DFN(     \n",
    "    options={\n",
    "        \"SEI\":\"solvent-diffusion limited\",          \n",
    "        \"SEI film resistance\":\"distributed\",          \n",
    "        \"SEI porosity change\":\"true\",     \n",
    "        \"solvent diffusion\": \"EC wo refill\"     } )\n",
    "ChemistryChen=pybamm.parameter_sets.Chen2020 \n",
    "ChemistryChen[\"electrolyte\"] = \"lipf6_Nyman2008Exp\";\n",
    "Para_0=pybamm.ParameterValues(chemistry=ChemistryChen);\n",
    "Para_0['EC transference number'] =    Xi\n",
    "Para_0['Cation transference number'] =     t_0plus\n",
    "Para_0['EC Lithium ion cross diffusivity [m2.s-1]'] = Dcross\n",
    "Para_0['Typical EC Lithium ion cross diffusivity [m2.s-1]'] =  Dcross\n",
    "Para_0['EC diffusivity in electrolyte [m2.s-1]'] =  Dec\n",
    "Para_0['Ratio of lithium moles to SEI moles'] =  1\n",
    "Para_0['EC diffusivity in SEI [m2.s-1]'] =  D_ec_sei\n",
    "Para_0.update({\n",
    "    'Electrolyte conductivity [S.m-1]':\n",
    "    electrolyte_conductivity_Nyman2008Exp_wEC}, )\n",
    "Para_0['Ratio of lithium moles to SEI moles'] =  1\n",
    "Para_0.update({\"Upper voltage cut-off [V]\": 4.22})\n",
    "Para_0.update({\"Lower voltage cut-off [V]\": 2.48})\n",
    "\n",
    "c_e = model_0.variables[\"Electrolyte concentration [mol.m-3]\"]\n",
    "T = model_0.variables[\"Cell temperature [K]\"]\n",
    "c_EC = model_0.variables[\"EC concentration [mol.m-3]\"]\n",
    "model_0.variables[\"c(EC) over c(Li+)\"] = c_EC / c_e\n",
    "model_0.variables[\"Electrolyte conductivity [S.m-1]\"] =(\n",
    "    Para_0['Electrolyte conductivity [S.m-1]'](c_e,c_EC, T))\n",
    "model_0.variables[\"Electrolyte diffusivity [m2.s-1]\"] =(\n",
    "    Para_0['Electrolyte diffusivity [m2.s-1]'](c_e,c_EC, T))"
   ]
  },
  {
   "cell_type": "code",
   "execution_count": 146,
   "metadata": {},
   "outputs": [],
   "source": [
    "BasicPath = 'D:/OneDrive - Imperial College London/SimDataSave/P3R7/'; \n",
    "Target  = 'a4_1_base_run_to_fail/'\n",
    "if not os.path.exists(BasicPath + Target):\n",
    "    os.mkdir(BasicPath + Target);"
   ]
  },
  {
   "cell_type": "code",
   "execution_count": 147,
   "metadata": {},
   "outputs": [],
   "source": [
    "# Report two bugs here (may be ): dynamic plot cannot sincerely refelct what is in the "
   ]
  },
  {
   "cell_type": "code",
   "execution_count": 148,
   "metadata": {},
   "outputs": [],
   "source": [
    "# Plot a pair of loc dependent varibles - within one step\n",
    "def Plot_Loc_Var_sol( sol,x_loc_all, key_all, cycle, step,colormap  ): # for initial solution object\n",
    "    Num_subplot = len(key_all); # must have 2+ keys\n",
    "    fig, axs = plt.subplots(1,Num_subplot, figsize=(7*Num_subplot,5),tight_layout=True)\n",
    "    for i in range(0,Num_subplot):\n",
    "        x_loc=x_loc_all[i]; key=key_all[i];\n",
    "        LinesNmum = len(sol.cycles[cycle].steps[step][key].entries[0,:] )\n",
    "        cmap_i = mpl.cm.get_cmap(colormap, LinesNmum) \n",
    "        for j in range(0,LinesNmum):\n",
    "            axs[i].plot(\n",
    "                sol.cycles[cycle].steps[step][x_loc].entries[:,0], \n",
    "                sol.cycles[cycle].steps[step][key].entries[:,j], '-',\n",
    "                color=cmap_i(j),)\n",
    "            axs[i].set_title(key ,   fontdict={'family':'DejaVu Sans','size':fs-1})\n",
    "            #axs[1].set_ylabel(\"Potential [V]\",   fontdict={'family':'DejaVu Sans','size':fs})\n",
    "            axs[i].set_xlabel(x_loc,   fontdict={'family':'DejaVu Sans','size':fs})\n",
    "            \n",
    "            labels = axs[i].get_xticklabels() + axs[i].get_yticklabels(); [label.set_fontname('DejaVu Sans') for label in labels]\n",
    "            \n",
    "            axs[i].tick_params(labelcolor='k', labelsize=fs, width=1) ;  del labels;\n",
    "            axs[i].ticklabel_format( axis='x', style='sci',scilimits=[-0.01,0.01], useOffset=None, useLocale=None, useMathText=None)\n",
    "            #axs[i].legend(prop={'family':'DejaVu Sans','size':fs-2},loc='best',frameon=False)  \n",
    "    return "
   ]
  },
  {
   "cell_type": "code",
   "execution_count": 149,
   "metadata": {},
   "outputs": [
    {
     "name": "stdout",
     "output_type": "stream",
     "text": [
      "try to run 100 cycles\n",
      "Succeed! Now it is the 100th cycles\n",
      "try to run 100 cycles\n"
     ]
    },
    {
     "name": "stderr",
     "output_type": "stream",
     "text": [
      "2022-10-27 00:42:20.381 - [WARNING] callbacks.on_experiment_infeasible(233): \n",
      "\n",
      "\tExperiment is infeasible: 'event: Maximum voltage' was triggered during 'Rest for 1 hours'. The returned solution only contains up to step 2 of cycle 50. \n"
     ]
    },
    {
     "name": "stdout",
     "output_type": "stream",
     "text": [
      "Failed and shorten cycles\n",
      "try to run 10 cycles\n",
      "Succeed! Now it is the 110th cycles\n",
      "try to run 10 cycles\n",
      "Succeed! Now it is the 120th cycles\n",
      "try to run 10 cycles\n",
      "Succeed! Now it is the 130th cycles\n",
      "try to run 10 cycles\n",
      "Succeed! Now it is the 140th cycles\n",
      "try to run 10 cycles\n"
     ]
    },
    {
     "name": "stderr",
     "output_type": "stream",
     "text": [
      "2022-10-27 00:45:36.007 - [WARNING] callbacks.on_experiment_infeasible(233): \n",
      "\n",
      "\tExperiment is infeasible: 'event: Maximum voltage' was triggered during 'Rest for 1 hours'. The returned solution only contains up to step 2 of cycle 10. \n"
     ]
    },
    {
     "name": "stdout",
     "output_type": "stream",
     "text": [
      "Failed and shorten cycles\n",
      "try to run 1 cycles\n",
      "Succeed! Now it is the 141th cycles\n",
      "try to run 1 cycles\n",
      "Succeed! Now it is the 142th cycles\n",
      "try to run 1 cycles\n",
      "Succeed! Now it is the 143th cycles\n",
      "try to run 1 cycles\n",
      "Succeed! Now it is the 144th cycles\n",
      "try to run 1 cycles\n",
      "Succeed! Now it is the 145th cycles\n",
      "try to run 1 cycles\n",
      "Succeed! Now it is the 146th cycles\n",
      "try to run 1 cycles\n",
      "Succeed! Now it is the 147th cycles\n",
      "try to run 1 cycles\n",
      "Succeed! Now it is the 148th cycles\n",
      "try to run 1 cycles\n",
      "Succeed! Now it is the 149th cycles\n",
      "try to run 1 cycles\n"
     ]
    },
    {
     "name": "stderr",
     "output_type": "stream",
     "text": [
      "2022-10-27 00:46:37.071 - [WARNING] callbacks.on_experiment_infeasible(233): \n",
      "\n",
      "\tExperiment is infeasible: 'event: Maximum voltage' was triggered during 'Rest for 1 hours'. The returned solution only contains up to step 2 of cycle 1. \n"
     ]
    },
    {
     "name": "stdout",
     "output_type": "stream",
     "text": [
      "Failed and shorten cycles\n",
      "try to run 1 cycles\n",
      "Succeed! Now it is the 150th cycles\n",
      "Succeed a single step and switch to next step normally\n",
      "try to run 1 cycles\n"
     ]
    },
    {
     "name": "stderr",
     "output_type": "stream",
     "text": [
      "2022-10-27 00:46:43.576 - [WARNING] callbacks.on_experiment_infeasible(233): \n",
      "\n",
      "\tExperiment is infeasible: 'event: Maximum voltage' was triggered during 'Rest for 1 hours'. The returned solution only contains up to step 1 of cycle 1. \n"
     ]
    },
    {
     "name": "stdout",
     "output_type": "stream",
     "text": [
      "Failed and shorten cycles\n",
      "try to run 1 cycles\n",
      "Succeed! Now it is the 151th cycles\n",
      "Finish last single step and Exit as no options left\n"
     ]
    }
   ],
   "source": [
    "# Step 3: run set up model_0 and parameters:\n",
    "V_max = 4.2;        V_min = 2.5; \n",
    "exp_text_1 = [ (\n",
    "    f\"Discharge at 1C until {V_min} V\",  \n",
    "    \"Rest for 1 hours\",  \n",
    "    f\"Charge at 1C until {V_max} V\" ) ]\n",
    "exp_text_CD = [ (f\"Discharge at 1C until {V_min} V\",   ) ]\n",
    "exp_text_RE = [ (\"Rest for 1 hours\", ) ]\n",
    "exp_text_CC = [ (f\"Charge at 1C until {V_max} V\" ) ]\n",
    "# further Steps if we can catch the seconds information:\n",
    "ExpList     = [\n",
    "    exp_text_1,exp_text_1,exp_text_1,\n",
    "    exp_text_CD,exp_text_RE,exp_text_CC];\n",
    "SaveAsList  = [\n",
    "    100,       10,  1, \n",
    "    1, 1,1];\n",
    "Succ_Cyc = []; Sol_All = [];    # contains all solutions and corresponding cycles\n",
    "tot_target_cyc = 200\n",
    "i = 0;step_switch = 0\n",
    "while (i < tot_target_cyc):\n",
    "    print('try to run %d cycles' % SaveAsList[step_switch])\n",
    "    expe_i    = pybamm.Experiment( \n",
    "        ExpList[step_switch] * \n",
    "        SaveAsList[step_switch]) \n",
    "    # inherit previous resuls or run model from scratch\n",
    "    try:   # run the model\n",
    "        if i == 0: # first time or never succeed, run model from scratch:\n",
    "            rioCall = RioCallback()  # define callback\n",
    "            sim_0    = pybamm.Simulation(\n",
    "                model_0,        experiment = expe_i,\n",
    "                parameter_values = Para_0,\n",
    "                solver = pybamm.CasadiSolver(),\n",
    "                #var_pts=var_pts,\n",
    "                #submesh_types=submesh_types\n",
    "                ) #mode=\"safe\"\n",
    "            sol_0    = sim_0.solve(\n",
    "                calc_esoh=False,\n",
    "                save_at_cycles = SaveAsList[step_switch],\n",
    "                callbacks=rioCall)\n",
    "            \n",
    "        else: # succeeded before, \n",
    "            model_new = model_old.set_initial_conditions_from(\n",
    "                sol_old, inplace=False)\n",
    "            rioCall = RioCallback()  # define callback\n",
    "            sim_new    = pybamm.Simulation(\n",
    "                model_new,        experiment = expe_i,\n",
    "                parameter_values = Para_0,\n",
    "                solver = pybamm.CasadiSolver(),\n",
    "                #var_pts=var_pts,\n",
    "                #submesh_types=submesh_types\n",
    "                ) #mode=\"safe\"\n",
    "            sol_new    = sim_new.solve(\n",
    "                calc_esoh=False,\n",
    "                save_at_cycles = SaveAsList[step_switch],\n",
    "                callbacks=rioCall)   \n",
    "        if rioCall.success == False:\n",
    "            1/0\n",
    "    except:\n",
    "        print('Failed and shorten cycles')\n",
    "        step_switch += 1\n",
    "        if (step_switch >= len(SaveAsList)):\n",
    "            print('Exit as no options left')\n",
    "            break\n",
    "    else:        \n",
    "        if i == 0: \n",
    "            model_old = model_0; sol_old = sol_0    \n",
    "        else: \n",
    "            model_old = model_new; sol_old = sol_new\n",
    "            del model_new,sol_new\n",
    "        Sol_All.append(sol_old);\n",
    "        Succ_Cyc.append(SaveAsList[step_switch])\n",
    "        i += SaveAsList[step_switch]\n",
    "        print('Succeed! Now it is the %dth cycles' % i)  \n",
    "        if step_switch <= 2:\n",
    "            step_switch += 0\n",
    "        elif step_switch > 2 and step_switch < len(SaveAsList)-1:\n",
    "            step_switch += 1\n",
    "            print('Succeed a single step and switch to next step normally')\n",
    "        else:\n",
    "            print('Finish last single step and Exit as no options left')\n",
    "            break\n",
    "\n"
   ]
  },
  {
   "cell_type": "code",
   "execution_count": 150,
   "metadata": {},
   "outputs": [
    {
     "name": "stdout",
     "output_type": "stream",
     "text": [
      "voltage of the final 2 steps (discharge and rest)\n"
     ]
    },
    {
     "ename": "IndexError",
     "evalue": "list index out of range",
     "output_type": "error",
     "traceback": [
      "\u001b[1;31m---------------------------------------------------------------------------\u001b[0m",
      "\u001b[1;31mIndexError\u001b[0m                                Traceback (most recent call last)",
      "\u001b[1;32md:\\GitPyBaMM\\LRH_409\\LRH_409\\envPBGEM\\PyBaMM-GEM\\wip\\Rio_Code\\P3_R7_FixedMigration\\a4_1_base_run_to_fail.ipynb Cell 9\u001b[0m in \u001b[0;36m<cell line: 5>\u001b[1;34m()\u001b[0m\n\u001b[0;32m      <a href='vscode-notebook-cell:/d%3A/GitPyBaMM/LRH_409/LRH_409/envPBGEM/PyBaMM-GEM/wip/Rio_Code/P3_R7_FixedMigration/a4_1_base_run_to_fail.ipynb#X44sZmlsZQ%3D%3D?line=0'>1</a>\u001b[0m \u001b[39m# Sol_All[-1] contains the 140th to 150th cycles, \u001b[39;00m\n\u001b[0;32m      <a href='vscode-notebook-cell:/d%3A/GitPyBaMM/LRH_409/LRH_409/envPBGEM/PyBaMM-GEM/wip/Rio_Code/P3_R7_FixedMigration/a4_1_base_run_to_fail.ipynb#X44sZmlsZQ%3D%3D?line=1'>2</a>\u001b[0m \u001b[39m# among which the 150th cycles only contains the first 2 cycles\u001b[39;00m\n\u001b[0;32m      <a href='vscode-notebook-cell:/d%3A/GitPyBaMM/LRH_409/LRH_409/envPBGEM/PyBaMM-GEM/wip/Rio_Code/P3_R7_FixedMigration/a4_1_base_run_to_fail.ipynb#X44sZmlsZQ%3D%3D?line=3'>4</a>\u001b[0m \u001b[39mprint\u001b[39m(\u001b[39m\"\u001b[39m\u001b[39mvoltage of the final 2 steps (discharge and rest)\u001b[39m\u001b[39m\"\u001b[39m)\n\u001b[1;32m----> <a href='vscode-notebook-cell:/d%3A/GitPyBaMM/LRH_409/LRH_409/envPBGEM/PyBaMM-GEM/wip/Rio_Code/P3_R7_FixedMigration/a4_1_base_run_to_fail.ipynb#X44sZmlsZQ%3D%3D?line=4'>5</a>\u001b[0m \u001b[39mprint\u001b[39m(Sol_All[\u001b[39m-\u001b[39;49m\u001b[39m1\u001b[39;49m]\u001b[39m.\u001b[39;49mcycles[\u001b[39m9\u001b[39;49m]\u001b[39m.\u001b[39msteps[\u001b[39m0\u001b[39m][\u001b[39m\"\u001b[39m\u001b[39mTerminal voltage [V]\u001b[39m\u001b[39m\"\u001b[39m]\u001b[39m.\u001b[39mentries)\n\u001b[0;32m      <a href='vscode-notebook-cell:/d%3A/GitPyBaMM/LRH_409/LRH_409/envPBGEM/PyBaMM-GEM/wip/Rio_Code/P3_R7_FixedMigration/a4_1_base_run_to_fail.ipynb#X44sZmlsZQ%3D%3D?line=5'>6</a>\u001b[0m \u001b[39mprint\u001b[39m(Sol_All[\u001b[39m-\u001b[39m\u001b[39m1\u001b[39m]\u001b[39m.\u001b[39mcycles[\u001b[39m9\u001b[39m]\u001b[39m.\u001b[39msteps[\u001b[39m1\u001b[39m][\u001b[39m\"\u001b[39m\u001b[39mTerminal voltage [V]\u001b[39m\u001b[39m\"\u001b[39m]\u001b[39m.\u001b[39mentries)\n\u001b[0;32m      <a href='vscode-notebook-cell:/d%3A/GitPyBaMM/LRH_409/LRH_409/envPBGEM/PyBaMM-GEM/wip/Rio_Code/P3_R7_FixedMigration/a4_1_base_run_to_fail.ipynb#X44sZmlsZQ%3D%3D?line=6'>7</a>\u001b[0m \u001b[39mprint\u001b[39m (\u001b[39m\"\u001b[39m\u001b[39mcurrent is\u001b[39m\u001b[39m\"\u001b[39m)\n",
      "\u001b[1;31mIndexError\u001b[0m: list index out of range"
     ]
    }
   ],
   "source": [
    "# Sol_All[-1] contains the 140th to 150th cycles, \n",
    "# among which the 150th cycles only contains the first 2 cycles\n",
    "\n",
    "print(\"voltage of the final 2 steps (discharge and rest)\")\n",
    "print(Sol_All[-1].cycles[9].steps[0][\"Terminal voltage [V]\"].entries)\n",
    "print(Sol_All[-1].cycles[9].steps[1][\"Terminal voltage [V]\"].entries)\n",
    "print (\"current is\")\n",
    "print(Sol_All[-1].cycles[9].steps[0][\"Current [A]\"].entries)\n",
    "print(Sol_All[-1].cycles[9].steps[1][\"Current [A]\"].entries)\n",
    "print(\"Porosity times concentration\") \n",
    "print(Sol_All[-1].cycles[9].steps[0][\"Porosity times concentration\"].entries)\n",
    "print(Sol_All[-1].cycles[9].steps[1][\"Porosity times concentration\"].entries)\n"
   ]
  },
  {
   "cell_type": "code",
   "execution_count": 151,
   "metadata": {},
   "outputs": [
    {
     "data": {
      "text/plain": [
       "[<pybamm.solvers.solution.Solution at 0x25f1ff40040>,\n",
       " <pybamm.solvers.solution.Solution at 0x25f50179730>,\n",
       " <pybamm.solvers.solution.Solution at 0x25f4b385a60>]"
      ]
     },
     "execution_count": 151,
     "metadata": {},
     "output_type": "execute_result"
    }
   ],
   "source": [
    "Sol_All[1].cycles[0].steps"
   ]
  },
  {
   "cell_type": "code",
   "execution_count": null,
   "metadata": {},
   "outputs": [],
   "source": [
    "print(len(Sol_All))\n",
    "print(Succ_Cyc)\n",
    "print(Sol_All)"
   ]
  },
  {
   "cell_type": "code",
   "execution_count": null,
   "metadata": {},
   "outputs": [],
   "source": [
    "Sol_All[-1].cycles"
   ]
  },
  {
   "cell_type": "code",
   "execution_count": 152,
   "metadata": {},
   "outputs": [
    {
     "data": {
      "application/vnd.jupyter.widget-view+json": {
       "model_id": "42d0716332464096a2734b23eec61374",
       "version_major": 2,
       "version_minor": 0
      },
      "text/plain": [
       "interactive(children=(FloatSlider(value=0.0, description='t', max=0.6016389253336181, step=0.00601638925333618…"
      ]
     },
     "metadata": {},
     "output_type": "display_data"
    }
   ],
   "source": [
    "output_variables3 = [\n",
    "    \"Terminal voltage [V]\",\n",
    "    \"Current [A]\",\n",
    "    \"Electrolyte concentration\",\n",
    "    \"Minus div Li+ flux\",\n",
    "    \"Li+ source term\",\n",
    "    \"Minus div Li+ flux by diffusion\",\n",
    "    \"Minus div Li+ flux by migration\",\n",
    "    \"Minus div Li+ flux by solvent\",\n",
    "    \"EC concentration\",\n",
    "    \"Minus div EC flux by diffusion\",\n",
    "    \"Minus div EC flux by migration\",\n",
    "    \"Minus div EC flux by Li+\",\n",
    "]\n",
    "quick_plot = pybamm.QuickPlot(\n",
    "    Sol_All[14].cycles[-1],\n",
    "    output_variables3,\n",
    "    variable_limits='tight',time_unit='hours',n_rows=3,\n",
    "    figsize = (16,12)) #     spatial_unit='mm',\n",
    "quick_plot.dynamic_plot();"
   ]
  },
  {
   "cell_type": "code",
   "execution_count": 153,
   "metadata": {},
   "outputs": [
    {
     "data": {
      "application/vnd.jupyter.widget-view+json": {
       "model_id": "68ef5c748d8845e9b31af14572ebe194",
       "version_major": 2,
       "version_minor": 0
      },
      "text/plain": [
       "interactive(children=(FloatSlider(value=0.0, description='t', max=2.2037579950660486, step=0.02203757995066048…"
      ]
     },
     "metadata": {},
     "output_type": "display_data"
    }
   ],
   "source": [
    "output_variables3 = [\n",
    "    \"Terminal voltage [V]\",\n",
    "    \"Discharge capacity [A.h]\",\n",
    "    #\"Negative electrode potential [V]\",\n",
    "    \"Negative electrode porosity\",\n",
    "    \"Porosity times concentration\",\n",
    "    \"Electrolyte potential [V]\",\n",
    "    \"Electrolyte current density [A.m-2]\",\n",
    "    'Electrolyte conductivity [S.m-1]',\n",
    "    \"Electrolyte concentration [mol.m-3]\",\n",
    "    #\"Sum of positive electrode interfacial current densities\",\n",
    "\n",
    "    #\"Li+ source term refill\",\n",
    "]\n",
    "quick_plot = pybamm.QuickPlot(\n",
    "    Sol_All[13].cycles[-1],\n",
    "    output_variables3,\n",
    "    variable_limits='fixed',time_unit='hours',n_rows=2,\n",
    "    figsize = (16,9)) #     spatial_unit='mm',\n",
    "quick_plot.dynamic_plot();"
   ]
  },
  {
   "cell_type": "code",
   "execution_count": null,
   "metadata": {},
   "outputs": [],
   "source": [
    "# PLOT for discharge step of the last solution\n",
    "fs = 21\n",
    "font = {'family' : 'DejaVu Sans','size'   : fs}\n",
    "mpl.rc('font', **font)\n",
    "Plot_Loc_Var_sol(\n",
    "    Sol_All[-1],\n",
    "    [\"x [m]\",\"x [m]\",\"x [m]\",\"x [m]\"], \n",
    "    [\n",
    "        \"Electrolyte concentration [mol.m-3]\",\n",
    "        \"EC concentration [mol.m-3]\",\n",
    "        \"Electrolyte potential [V]\",\n",
    "        \"Electrolyte conductivity [S.m-1]\",],\n",
    "    -1,0,'cool')\n",
    "Plot_Loc_Var_sol(\n",
    "    Sol_All[-1],\n",
    "    [\"x_n [m]\",\"x_s [m]\",\"x_p [m]\"], \n",
    "    [\n",
    "        \"Negative electrode porosity times concentration\",\n",
    "        \"Separator porosity times concentration\",\n",
    "        \"Positive electrode porosity times concentration\",],\n",
    "    -1,0,'cool')\n"
   ]
  },
  {
   "cell_type": "code",
   "execution_count": null,
   "metadata": {},
   "outputs": [],
   "source": [
    "# PLOT for rest step of the last solution\n",
    "fs = 21\n",
    "font = {'family' : 'DejaVu Sans','size'   : fs}\n",
    "mpl.rc('font', **font)\n",
    "Plot_Loc_Var_sol(\n",
    "    Sol_All[-1],\n",
    "    [\"x [m]\",\"x [m]\",\"x [m]\",\"x [m]\"], \n",
    "    [\n",
    "        \"Electrolyte concentration [mol.m-3]\",\n",
    "        \"EC concentration [mol.m-3]\",\n",
    "        \"Electrolyte potential [V]\",\n",
    "        \"Electrolyte conductivity [S.m-1]\",],\n",
    "    -1,1,'cool')\n",
    "Plot_Loc_Var_sol(\n",
    "    Sol_All[-1],\n",
    "    [\"x_n [m]\",\"x_s [m]\",\"x_p [m]\"], \n",
    "    [\n",
    "        \"Negative electrode porosity times concentration\",\n",
    "        \"Separator porosity times concentration\",\n",
    "        \"Positive electrode porosity times concentration\",],\n",
    "    -1,1,'cool')\n",
    "# some wired things happen during rest, making electrolyte concentration very high "
   ]
  },
  {
   "cell_type": "code",
   "execution_count": null,
   "metadata": {},
   "outputs": [],
   "source": [
    "# analyse the flux contribution for the rest period:\n",
    "print(\"c(Li+) and flux\")\n",
    "Plot_Loc_Var_sol(\n",
    "    Sol_All[-1],\n",
    "    [\"x [m]\",\"x [m]\",\"x [m]\",], \n",
    "        [\"Electrolyte concentration\",\n",
    "        \"Minus div Li+ flux\",\n",
    "        \"Li+ source term\",],\n",
    "    -1,1,'cool')\n",
    "print(\"Li+ flux breakdown\")\n",
    "Plot_Loc_Var_sol(\n",
    "    Sol_All[-1],\n",
    "    [\"x [m]\",\"x [m]\",\"x [m]\",], \n",
    "        [\"Minus div Li+ flux by diffusion\",\n",
    "        \"Minus div Li+ flux by migration\",\n",
    "        \"Minus div Li+ flux by solvent\",],\n",
    "    -1,1,'cool')\n",
    "print(\"c(EC) and flux\")\n",
    "Plot_Loc_Var_sol(\n",
    "    Sol_All[-1],\n",
    "    [\"x [m]\",\"x [m]\",\"x [m]\",], \n",
    "        [\"EC concentration\",\n",
    "        \"c(EC) over c(Li+)\",\n",
    "        \"Minus div EC flux\",], \n",
    "    -1,1,'cool')\n",
    "print(\"EC flux breakdown\")\n",
    "Plot_Loc_Var_sol(\n",
    "    Sol_All[-1],\n",
    "    [\"x [m]\",\"x [m]\",\"x [m]\",], \n",
    "        [\"Minus div EC flux by diffusion\",\n",
    "        \"Minus div EC flux by migration\",\n",
    "        \"Minus div EC flux by Li+\",], \n",
    "    -1,1,'cool')"
   ]
  },
  {
   "cell_type": "code",
   "execution_count": null,
   "metadata": {},
   "outputs": [],
   "source": [
    "# analyse the flux contribution for the discharge period:\n",
    "print(\"c(Li+) and flux\")\n",
    "Plot_Loc_Var_sol(\n",
    "    Sol_All[-1],\n",
    "    [\"x [m]\",\"x [m]\",\"x [m]\",], \n",
    "        [\"Electrolyte concentration\",\n",
    "        \"Minus div Li+ flux\",\n",
    "        \"Li+ source term\",],\n",
    "    -1,0,'cool')\n",
    "print(\"Li+ flux breakdown\")\n",
    "Plot_Loc_Var_sol(\n",
    "    Sol_All[-1],\n",
    "    [\"x [m]\",\"x [m]\",\"x [m]\",], \n",
    "        [\"Minus div Li+ flux by diffusion\",\n",
    "        \"Minus div Li+ flux by migration\",\n",
    "        \"Minus div Li+ flux by solvent\",],\n",
    "    -1,0,'cool')\n",
    "print(\"c(EC) and flux\")\n",
    "Plot_Loc_Var_sol(\n",
    "    Sol_All[-1],\n",
    "    [\"x [m]\",\"x [m]\",\"x [m]\",], \n",
    "        [\"EC concentration\",\n",
    "        \"c(EC) over c(Li+)\",\n",
    "        \"Minus div EC flux\",], \n",
    "    -1,0,'cool')\n",
    "print(\"EC flux breakdown\")\n",
    "Plot_Loc_Var_sol(\n",
    "    Sol_All[-1],\n",
    "    [\"x [m]\",\"x [m]\",\"x [m]\",], \n",
    "        [\"Minus div EC flux by diffusion\",\n",
    "        \"Minus div EC flux by migration\",\n",
    "        \"Minus div EC flux by Li+\",], \n",
    "    -1,0,'cool')"
   ]
  },
  {
   "cell_type": "code",
   "execution_count": null,
   "metadata": {},
   "outputs": [],
   "source": [
    "print(Sol_All[-1].cycles[-1].steps[1][\"Electrolyte conductivity [S.m-1]\"].entries[:,-1])\n"
   ]
  },
  {
   "cell_type": "code",
   "execution_count": null,
   "metadata": {},
   "outputs": [],
   "source": [
    "print(Sol_All[-1].cycles[-1].steps[0][\"Electrolyte current density\"].entries[:,-1])\n",
    "\n",
    "print(Sol_All[-1].cycles[-1].steps[1][\"Electrolyte current density\"].entries[:,-1])\n",
    "\n",
    "#print(Sol_All[-1].cycles[-1].steps[1][\"Electrolyte current density\"].entries[:,0])"
   ]
  },
  {
   "cell_type": "code",
   "execution_count": null,
   "metadata": {},
   "outputs": [],
   "source": [
    "# step 4: core: a big loop to run model_0 until it fail\n",
    "# target: change steps; print out the limit;\n",
    "# todo in the future: catch the wrong message time and use it to fast loction failure point\n",
    "# sample information o catch: \n",
    "# Simulation error: Maximum number of decreased steps occurred at t=106279.54960562677.\n",
    "#  D_ec_sei=1e-20; is a nice value to catch errors, can run about 30 1C cycles, "
   ]
  },
  {
   "cell_type": "code",
   "execution_count": null,
   "metadata": {},
   "outputs": [],
   "source": [
    "# step 5: post-proessing: for only 1C discharge, print the last 1C dischagre capacity, \n",
    "# then critical variables as static lines or dynamic plots in the last cycle \n",
    "# for ageing with RPT, print the last RPT, then discharge capacity in every ageing cycle, \n",
    "# then for last cycle, critical variables\n",
    "# critical variables should include: terminal voltage, electrolyte potential; porosity; \n",
    "# electrolyte diffusivity and conductivity; electrode soc,  "
   ]
  }
 ],
 "metadata": {
  "kernelspec": {
   "display_name": "Python 3.9.6 ('envPBGEM')",
   "language": "python",
   "name": "python3"
  },
  "language_info": {
   "codemirror_mode": {
    "name": "ipython",
    "version": 3
   },
   "file_extension": ".py",
   "mimetype": "text/x-python",
   "name": "python",
   "nbconvert_exporter": "python",
   "pygments_lexer": "ipython3",
   "version": "3.9.6"
  },
  "orig_nbformat": 4,
  "vscode": {
   "interpreter": {
    "hash": "83fab7fbb3a8fe7b5910804f702478ef63e2cc6a08d85072a5d68865ed0fd8c7"
   }
  }
 },
 "nbformat": 4,
 "nbformat_minor": 2
}
