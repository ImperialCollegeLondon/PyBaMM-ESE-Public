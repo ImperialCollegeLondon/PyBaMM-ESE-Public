{
 "cells": [
  {
   "cell_type": "code",
   "execution_count": 1,
   "metadata": {},
   "outputs": [],
   "source": [
    "# check whether Li+ is increased in electrolyte with replenishment "
   ]
  },
  {
   "cell_type": "code",
   "execution_count": 2,
   "metadata": {},
   "outputs": [],
   "source": [
    "import pybamm as pybamm;import pandas as pd   ;import numpy as np;import os;import matplotlib.pyplot as plt;import os; #import imageio\n",
    "from scipy.io import savemat,loadmat;from pybamm import constants,exp;import matplotlib as mpl; fs=17; # or we can set import matplotlib.pyplot as plt then say 'mpl.rc...'\n",
    "for k in range(0,1):\n",
    "    mpl.rcParams[\"axes.labelsize\"] = fs\n",
    "    mpl.rcParams[\"axes.titlesize\"] = fs\n",
    "    mpl.rcParams[\"xtick.labelsize\"] =  fs\n",
    "    mpl.rcParams[\"ytick.labelsize\"] =  fs\n",
    "    mpl.rcParams[\"legend.fontsize\"] =  fs\n",
    "    mpl.rcParams['font.sans-serif'] = ['Times New Roman']\n",
    "    mpl.rcParams['font.serif'] = ['Times New Roman']\n",
    "    mpl.rcParams['axes.unicode_minus'] = False"
   ]
  },
  {
   "cell_type": "code",
   "execution_count": 3,
   "metadata": {},
   "outputs": [],
   "source": [
    "V_max = 4.2;        V_min = 2.5;\n",
    "Diff_SEI = 1.700000000000002e-20;    R_SEI = 2E5;   Bulk_Sol_Con = 4541.0;\n",
    "Experiment_Long   = pybamm.Experiment( [ (\n",
    "    f\"Discharge at 1 C until {V_min} V\", \n",
    "    f\"Charge at 0.3 C until {V_max} V\", \n",
    "    f\"Hold at {V_max} V until C/5\")    ] * 1 )  "
   ]
  },
  {
   "cell_type": "code",
   "execution_count": 4,
   "metadata": {},
   "outputs": [
    {
     "name": "stdout",
     "output_type": "stream",
     "text": [
      "Confirm: using interstitial-diffusion limited\n",
      "have you come here?\n",
      "Confirm: using interstitial-diffusion limited\n"
     ]
    }
   ],
   "source": [
    "Model_0 = pybamm.lithium_ion.DFN(     \n",
    "    options={\n",
    "        \"SEI\":\"interstitial-diffusion limited\",          \n",
    "        \"SEI film resistance\":\"distributed\",          \n",
    "        \"SEI porosity change\":\"true\",               \n",
    "        \"solvent diffusion\": \"EC\"     } )\n",
    "Model_1 = pybamm.lithium_ion.DFN(     \n",
    "    options={      \n",
    "        \"SEI\":\"interstitial-diffusion limited\",          \n",
    "        \"SEI film resistance\":\"distributed\",          \n",
    "        \"SEI porosity change\":\"true\",   \n",
    "        \"solvent diffusion\": \"none\"     } )\n",
    "ChemistryChen=pybamm.parameter_sets.Chen2020 \n",
    "ChemistryChen[\"electrolyte\"] = \"lipf6_Nyman2008_rio\";\n",
    "Para_0=pybamm.ParameterValues(chemistry=ChemistryChen);\n",
    "\n",
    "Para_0['EC Lithium ion cross diffusivity [m2.s-1]'] =   \"[input]\";\n",
    "Para_0['Typical EC Lithium ion cross diffusivity [m2.s-1]'] =   \"[input]\";\n",
    "Para_0['EC transference number'] =   \"[input]\";\n",
    "Para_0['EC diffusivity [m2.s-1]'] =   \"[input]\";\n",
    "Para_0['Electrolyte diffusivity [m2.s-1]'] =   \"[input]\";"
   ]
  },
  {
   "cell_type": "markdown",
   "metadata": {},
   "source": [
    "Para_0.search(\"diffusivity\")\n",
    "gamma_e_ec_Rio = Para_0.evaluate(Model_0.param.gamma_e_ec_Rio)  \n",
    "print(gamma_e_ec_Rio)"
   ]
  },
  {
   "cell_type": "code",
   "execution_count": 5,
   "metadata": {},
   "outputs": [],
   "source": [
    "Sim_0    = pybamm.Simulation(\n",
    "    Model_0, experiment = Experiment_Long,\n",
    "    parameter_values = Para_0,\n",
    "    solver = pybamm.CasadiSolver(),)       \n",
    "Sol_0    = Sim_0.solve(\n",
    "    inputs={\n",
    "        \"EC transference number\":-1.4,\n",
    "        \"EC Lithium ion cross diffusivity [m2.s-1]\":1.5e-9/1e2,\n",
    "        \"Typical EC Lithium ion cross diffusivity [m2.s-1]\":1.5e-9/1e2,\n",
    "        \"EC diffusivity in electrolyte [m2.s-1]\":5E-12,\n",
    "        \"Electrolyte diffusivity [m2.s-1]\":3E-10,\n",
    "        });\n",
    "Sim_1    = pybamm.Simulation(\n",
    "    Model_1, experiment = Experiment_Long,\n",
    "    parameter_values = Para_0,\n",
    "    solver = pybamm.CasadiSolver(),)       \n",
    "Sol_1    = Sim_1.solve(\n",
    "    inputs={\n",
    "        \"EC transference number\":-1.4,\n",
    "        \"EC Lithium ion cross diffusivity [m2.s-1]\":1.5e-9/1e2,\n",
    "        \"Typical EC Lithium ion cross diffusivity [m2.s-1]\":1.5e-9/1e2,\n",
    "        \"EC diffusivity in electrolyte [m2.s-1]\":5E-12,\n",
    "        \"Electrolyte diffusivity [m2.s-1]\":3E-10,\n",
    "        });"
   ]
  },
  {
   "cell_type": "code",
   "execution_count": 6,
   "metadata": {},
   "outputs": [
    {
     "name": "stdout",
     "output_type": "stream",
     "text": [
      "Current collector current density\n",
      "Current collector current density [A.m-2]\n",
      "Current density variable\n",
      "Electrode current density\n",
      "Electrolyte current density\n",
      "Electrolyte current density [A.m-2]\n",
      "Exchange current density\n",
      "Exchange current density [A.m-2]\n",
      "Inner SEI interfacial current density\n",
      "Inner SEI interfacial current density [A.m-2]\n",
      "Inner SEI on cracks interfacial current density\n",
      "Inner SEI on cracks interfacial current density [A.m-2]\n",
      "Interfacial current density\n",
      "Interfacial current density [A.m-2]\n",
      "Leading-order current collector current density\n",
      "Lithium plating interfacial current density\n",
      "Lithium plating interfacial current density [A.m-2]\n",
      "Negative electrode SEI interfacial current density\n",
      "Negative electrode SEI interfacial current density [A.m-2]\n",
      "Negative electrode SEI on cracks interfacial current density\n",
      "Negative electrode SEI on cracks interfacial current density [A.m-2]\n",
      "Negative electrode SEI on cracks volumetric interfacial current density\n",
      "Negative electrode SEI on cracks volumetric interfacial current density [A.m-3]\n",
      "Negative electrode SEI volumetric interfacial current density\n",
      "Negative electrode SEI volumetric interfacial current density [A.m-3]\n",
      "Negative electrode current density\n",
      "Negative electrode current density [A.m-2]\n",
      "Negative electrode exchange current density\n",
      "Negative electrode exchange current density [A.m-2]\n",
      "Negative electrode interfacial current density\n",
      "Negative electrode interfacial current density [A.m-2]\n",
      "Negative electrode lithium plating interfacial current density\n",
      "Negative electrode lithium plating interfacial current density [A.m-2]\n",
      "Negative electrode lithium plating volumetric interfacial current density\n",
      "Negative electrode lithium plating volumetric interfacial current density [A.m-3]\n",
      "Negative electrode volumetric interfacial current density\n",
      "Negative electrode volumetric interfacial current density [A.m-3]\n",
      "Outer SEI interfacial current density\n",
      "Outer SEI interfacial current density [A.m-2]\n",
      "Outer SEI on cracks interfacial current density\n",
      "Outer SEI on cracks interfacial current density [A.m-2]\n",
      "Positive electrode SEI interfacial current density\n",
      "Positive electrode SEI interfacial current density [A.m-2]\n",
      "Positive electrode SEI on cracks interfacial current density\n",
      "Positive electrode SEI on cracks interfacial current density [A.m-2]\n",
      "Positive electrode SEI on cracks volumetric interfacial current density\n",
      "Positive electrode SEI volumetric interfacial current density\n",
      "Positive electrode current density\n",
      "Positive electrode current density [A.m-2]\n",
      "Positive electrode exchange current density\n",
      "Positive electrode exchange current density [A.m-2]\n",
      "Positive electrode interfacial current density\n",
      "Positive electrode interfacial current density [A.m-2]\n",
      "Positive electrode lithium plating interfacial current density\n",
      "Positive electrode lithium plating interfacial current density [A.m-2]\n",
      "Positive electrode lithium plating volumetric interfacial current density\n",
      "Positive electrode volumetric interfacial current density\n",
      "Positive electrode volumetric interfacial current density [A.m-3]\n",
      "SEI interfacial current density\n",
      "SEI interfacial current density [A.m-2]\n",
      "SEI on cracks interfacial current density\n",
      "SEI on cracks interfacial current density [A.m-2]\n",
      "Total current density\n",
      "Total current density [A.m-2]\n",
      "Total negative electrode interfacial current density variable\n",
      "Total positive electrode interfacial current density variable\n",
      "X-averaged SEI interfacial current density\n",
      "X-averaged SEI interfacial current density [A.m-2]\n",
      "X-averaged SEI on cracks interfacial current density\n",
      "X-averaged SEI on cracks interfacial current density [A.m-2]\n",
      "X-averaged inner SEI interfacial current density\n",
      "X-averaged inner SEI interfacial current density [A.m-2]\n",
      "X-averaged inner SEI on cracks interfacial current density\n",
      "X-averaged inner SEI on cracks interfacial current density [A.m-2]\n",
      "X-averaged lithium plating interfacial current density\n",
      "X-averaged lithium plating interfacial current density [A.m-2]\n",
      "X-averaged negative electrode SEI interfacial current density\n",
      "X-averaged negative electrode SEI on cracks interfacial current density\n",
      "X-averaged negative electrode SEI on cracks volumetric interfacial current density\n",
      "X-averaged negative electrode SEI on cracks volumetric interfacial current density [A.m-3]\n",
      "X-averaged negative electrode SEI volumetric interfacial current density\n",
      "X-averaged negative electrode SEI volumetric interfacial current density [A.m-3]\n",
      "X-averaged negative electrode exchange current density\n",
      "X-averaged negative electrode exchange current density [A.m-2]\n",
      "X-averaged negative electrode interfacial current density\n",
      "X-averaged negative electrode interfacial current density [A.m-2]\n",
      "X-averaged negative electrode lithium plating interfacial current density\n",
      "X-averaged negative electrode lithium plating volumetric interfacial current density\n",
      "X-averaged negative electrode lithium plating volumetric interfacial current density [A.m-3]\n",
      "X-averaged negative electrode total interfacial current density\n",
      "X-averaged negative electrode total interfacial current density [A.m-2]\n",
      "X-averaged negative electrode volumetric interfacial current density\n",
      "X-averaged negative electrode volumetric interfacial current density [A.m-3]\n",
      "X-averaged outer SEI interfacial current density\n",
      "X-averaged outer SEI interfacial current density [A.m-2]\n",
      "X-averaged outer SEI on cracks interfacial current density\n",
      "X-averaged outer SEI on cracks interfacial current density [A.m-2]\n",
      "X-averaged positive electrode SEI interfacial current density\n",
      "X-averaged positive electrode SEI on cracks interfacial current density\n",
      "X-averaged positive electrode SEI on cracks volumetric interfacial current density\n",
      "X-averaged positive electrode SEI volumetric interfacial current density\n",
      "X-averaged positive electrode exchange current density\n",
      "X-averaged positive electrode exchange current density [A.m-2]\n",
      "X-averaged positive electrode interfacial current density\n",
      "X-averaged positive electrode interfacial current density [A.m-2]\n",
      "X-averaged positive electrode lithium plating interfacial current density\n",
      "X-averaged positive electrode lithium plating volumetric interfacial current density\n",
      "X-averaged positive electrode total interfacial current density\n",
      "X-averaged positive electrode total interfacial current density [A.m-2]\n",
      "X-averaged positive electrode volumetric interfacial current density\n",
      "X-averaged positive electrode volumetric interfacial current density [A.m-3]\n"
     ]
    }
   ],
   "source": [
    "Model_0.variables.search('current density')"
   ]
  },
  {
   "cell_type": "code",
   "execution_count": 7,
   "metadata": {},
   "outputs": [
    {
     "data": {
      "image/png": "[encoded data removed]",
      "text/plain": [
       "<Figure size 1296x345.6 with 3 Axes>"
      ]
     },
     "metadata": {
      "needs_background": "light"
     },
     "output_type": "display_data"
    }
   ],
   "source": [
    "Li_eley = Sol_0[\"Total lithium in electrolyte [mol]\"].entries\n",
    "EC_eley = Sol_0[\"Total EC in electrolyte [mol]\"].entries\n",
    "EC_eleySEI = Sol_0[\"Total EC in electrolyte and SEI [mol]\"].entries\n",
    "t = Sol_0[\"Time [h]\"].entries\n",
    "LLI_SEI = Sol_0[\"Loss of lithium to SEI [mol]\"].entries\n",
    "\n",
    "\n",
    "fig, axs = plt.subplots(1,3, figsize=(18,4.8),tight_layout=True)\n",
    "axs[0].plot(t, EC_eley,'-o',label=\"EC in electrolyte\")\n",
    "axs[0].plot(t, EC_eleySEI,'-^',label=\"EC in electrolyte and SEI\"  )\n",
    "axs[1].plot(t, LLI_SEI,'-o',label=\"LLI to SEI\" )\n",
    "axs[1].plot(t, EC_eley[0]-EC_eley,'-o',label=\"EC loss\" )\n",
    "axs[2].plot(t, Li_eley,'-o',label=\"Li in electrolyte\" )\n",
    "for i in range(0,3):\n",
    "    axs[i].set_xlabel(\"Time [h]\",   fontdict={'family':'DejaVu Sans','size':fs})\n",
    "    axs[i].set_ylabel(\"Amount [mol]\",   fontdict={'family':'DejaVu Sans','size':fs})\n",
    "    \n",
    "    labels = axs[i].get_xticklabels() + axs[i].get_yticklabels(); [label.set_fontname('DejaVu Sans') for label in labels]\n",
    "    axs[i].tick_params(labelcolor='k', labelsize=fs, width=1) ;  del labels;\n",
    "    axs[i].legend(prop={'family':'DejaVu Sans','size':fs-2},loc='best',frameon=False)    \n"
   ]
  },
  {
   "cell_type": "code",
   "execution_count": 8,
   "metadata": {},
   "outputs": [
    {
     "data": {
      "application/vnd.jupyter.widget-view+json": {
       "model_id": "f76a5067ddef4645a089db78996dd6aa",
       "version_major": 2,
       "version_minor": 0
      },
      "text/plain": [
       "interactive(children=(FloatSlider(value=0.0, description='t', max=4.143940501257977, step=0.04143940501257977)…"
      ]
     },
     "metadata": {},
     "output_type": "display_data"
    }
   ],
   "source": [
    "label = [\"SEI + double diffusion\",\"SEI + single diffusion\",] \n",
    "output_variables3 = [\n",
    "    \"Terminal voltage [V]\",   \n",
    "    \"EC concentration [mol.m-3]\",\n",
    "    #\"Electrolyte concentration [mol.m-3]\",\n",
    "    \"Total EC in electrolyte [mol]\",\n",
    "    \"Total EC in electrolyte and SEI [mol]\",\n",
    "    \"Total lithium in electrolyte [mol]\",\n",
    "    #\"Loss of capacity to SEI [A.h]\",\n",
    "    \"Loss of lithium to SEI [mol]\",\n",
    "]\n",
    "quick_plot = pybamm.QuickPlot([Sol_0,Sol_1], output_variables3,label,) #     variable_limits='tight'\n",
    "quick_plot.dynamic_plot();"
   ]
  },
  {
   "cell_type": "code",
   "execution_count": 9,
   "metadata": {},
   "outputs": [
    {
     "data": {
      "application/vnd.jupyter.widget-view+json": {
       "model_id": "3a43182d8f944a298baf1eecfd98f8d5",
       "version_major": 2,
       "version_minor": 0
      },
      "text/plain": [
       "interactive(children=(FloatSlider(value=0.0, description='t', max=4.143940501257977, step=0.04143940501257977)…"
      ]
     },
     "metadata": {},
     "output_type": "display_data"
    }
   ],
   "source": [
    "label = [\"SEI + double diffusion\",\"SEI + single diffusion\",] \n",
    "output_variables3 = [\n",
    "    \"Terminal voltage [V]\",   \n",
    "    \"Negative electrode SEI interfacial current density [A.m-2]\",\n",
    "]\n",
    "quick_plot = pybamm.QuickPlot([Sol_0,Sol_1], output_variables3,label,) #     variable_limits='tight'\n",
    "quick_plot.dynamic_plot();"
   ]
  },
  {
   "cell_type": "code",
   "execution_count": 10,
   "metadata": {},
   "outputs": [
    {
     "data": {
      "application/vnd.jupyter.widget-view+json": {
       "model_id": "377c8db3c21b489daa82c05de63e9a15",
       "version_major": 2,
       "version_minor": 0
      },
      "text/plain": [
       "interactive(children=(FloatSlider(value=0.0, description='t', max=4.143940501257977, step=0.04143940501257977)…"
      ]
     },
     "metadata": {},
     "output_type": "display_data"
    }
   ],
   "source": [
    "label = [\"SEI + double diffusion\",\"SEI + single diffusion\",] \n",
    "output_variables3 = [\n",
    "    \"Total lithium in electrolyte [mol]\",   \n",
    "    \"Total lithium lost from electrolyte [mol]\",\n",
    "    \"Total lithium [mol]\",\n",
    "]\n",
    "quick_plot = pybamm.QuickPlot([Sol_0,Sol_1], output_variables3,label,) #     variable_limits='tight'\n",
    "quick_plot.dynamic_plot();\n"
   ]
  }
 ],
 "metadata": {
  "kernelspec": {
   "display_name": "Python 3.9.6 ('envPBGEM')",
   "language": "python",
   "name": "python3"
  },
  "language_info": {
   "codemirror_mode": {
    "name": "ipython",
    "version": 3
   },
   "file_extension": ".py",
   "mimetype": "text/x-python",
   "name": "python",
   "nbconvert_exporter": "python",
   "pygments_lexer": "ipython3",
   "version": "3.9.6"
  },
  "orig_nbformat": 4,
  "vscode": {
   "interpreter": {
    "hash": "83fab7fbb3a8fe7b5910804f702478ef63e2cc6a08d85072a5d68865ed0fd8c7"
   }
  }
 },
 "nbformat": 4,
 "nbformat_minor": 2
}
