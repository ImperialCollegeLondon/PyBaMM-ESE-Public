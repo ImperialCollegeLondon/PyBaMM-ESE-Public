{
 "cells": [
  {
   "cell_type": "code",
   "execution_count": 1,
   "metadata": {},
   "outputs": [],
   "source": [
    "# start to let c_EC affect j_SEI - start from solvent diffusion limited\n",
    "# how?  \n",
    "# 1. change: elif self.options[\"SEI\"] == \"solvent-diffusion limited\": in sei_growth.py\n",
    "# 2. change: self.C_sei_solvent in lithium_ion_parameters.py\n",
    "# 3. now have long term cycling "
   ]
  },
  {
   "cell_type": "code",
   "execution_count": 2,
   "metadata": {},
   "outputs": [],
   "source": [
    "import pybamm as pybamm;import pandas as pd   ;import numpy as np;import os;import matplotlib.pyplot as plt;import os; #import imageio\n",
    "from scipy.io import savemat,loadmat;from pybamm import constants,exp;import matplotlib as mpl; fs=17; # or we can set import matplotlib.pyplot as plt then say 'mpl.rc...'\n",
    "for k in range(0,1):\n",
    "    mpl.rcParams[\"axes.labelsize\"] = fs\n",
    "    mpl.rcParams[\"axes.titlesize\"] = fs\n",
    "    mpl.rcParams[\"xtick.labelsize\"] =  fs\n",
    "    mpl.rcParams[\"ytick.labelsize\"] =  fs\n",
    "    mpl.rcParams[\"legend.fontsize\"] =  fs\n",
    "    mpl.rcParams['font.sans-serif'] = ['Times New Roman']\n",
    "    mpl.rcParams['font.serif'] = ['Times New Roman']\n",
    "    mpl.rcParams['axes.unicode_minus'] = False"
   ]
  },
  {
   "cell_type": "code",
   "execution_count": 3,
   "metadata": {},
   "outputs": [],
   "source": [
    "V_max = 4.2;        V_min = 2.5;\n",
    "Diff_SEI = 1.700000000000002e-20;    R_SEI = 2E5;   Bulk_Sol_Con = 4541.0;\n",
    "Experiment_Long   = pybamm.Experiment( [ (\n",
    "    f\"Discharge at 1 C until {V_min} V\", \n",
    "    f\"Charge at 0.3 C until {V_max} V\", \n",
    "    f\"Hold at {V_max} V until C/5\")    ] * 20 )  \n",
    "save_at_cycles= 5"
   ]
  },
  {
   "cell_type": "code",
   "execution_count": 4,
   "metadata": {},
   "outputs": [
    {
     "name": "stdout",
     "output_type": "stream",
     "text": [
      "Confirm: using solvent-diffusion limited\n",
      "have you come here?\n",
      "Confirm: using solvent-diffusion limited\n"
     ]
    }
   ],
   "source": [
    "Model_0 = pybamm.lithium_ion.DFN(     \n",
    "    options={\n",
    "        \"SEI\":\"solvent-diffusion limited\",          \n",
    "        \"SEI film resistance\":\"distributed\",          \n",
    "        \"SEI porosity change\":\"true\",               \n",
    "        \"solvent diffusion\": \"EC\"     } )\n",
    "Model_1 = pybamm.lithium_ion.DFN(     \n",
    "    options={      \n",
    "        \"SEI\":\"solvent-diffusion limited\",          \n",
    "        \"SEI film resistance\":\"distributed\",          \n",
    "        \"SEI porosity change\":\"true\",   \n",
    "        \"solvent diffusion\": \"none\"     } )\n",
    "ChemistryChen=pybamm.parameter_sets.Chen2020 \n",
    "ChemistryChen[\"electrolyte\"] = \"lipf6_Nyman2008_rio\";\n",
    "Para_0=pybamm.ParameterValues(chemistry=ChemistryChen);\n",
    "\n",
    "Para_0.update({'EC transference number':-1.4})\n",
    "Para_0.update({'EC Lithium ion cross diffusivity [m2.s-1]':1.5e-9/1e2})\n",
    "Para_0.update({'Typical EC Lithium ion cross diffusivity [m2.s-1]':1.5e-9/1e2})\n",
    "Para_0.update({'EC diffusivity in electrolyte [m2.s-1]':3E-10})\n",
    "Para_0.update({'Electrolyte diffusivity [m2.s-1]':3e-10})"
   ]
  },
  {
   "cell_type": "code",
   "execution_count": 5,
   "metadata": {},
   "outputs": [],
   "source": [
    "# control SEI rate\n",
    "Para_0.update({'Outer SEI solvent diffusivity [m2.s-1]':4e-19})"
   ]
  },
  {
   "cell_type": "markdown",
   "metadata": {},
   "source": [
    "Para_0.search(\"diffusivity\")\n",
    "gamma_e_ec_Rio = Para_0.evaluate(Model_0.param.gamma_e_ec_Rio)  \n",
    "print(gamma_e_ec_Rio)"
   ]
  },
  {
   "cell_type": "code",
   "execution_count": 6,
   "metadata": {},
   "outputs": [],
   "source": [
    "Sim_0    = pybamm.Simulation(\n",
    "    Model_0, experiment = Experiment_Long,\n",
    "    parameter_values = Para_0,\n",
    "    solver = pybamm.CasadiSolver(),)       \n",
    "Sol_0    = Sim_0.solve(save_at_cycles=save_at_cycles,);\n",
    "Sim_1    = pybamm.Simulation(\n",
    "    Model_1, experiment = Experiment_Long,\n",
    "    parameter_values = Para_0,\n",
    "    solver = pybamm.CasadiSolver(),)       \n",
    "Sol_1    = Sim_1.solve(save_at_cycles=save_at_cycles,);"
   ]
  },
  {
   "cell_type": "code",
   "execution_count": 7,
   "metadata": {},
   "outputs": [
    {
     "name": "stdout",
     "output_type": "stream",
     "text": [
      "Loss of active material in negative electrode [%]\n",
      "Loss of active material in positive electrode [%]\n",
      "Loss of capacity to SEI [A.h]\n",
      "Loss of capacity to SEI on cracks [A.h]\n",
      "Loss of capacity to lithium plating [A.h]\n",
      "Loss of lithium inventory [%]\n",
      "Loss of lithium inventory, including electrolyte [%]\n",
      "Loss of lithium to SEI [mol]\n",
      "Loss of lithium to SEI on cracks [mol]\n",
      "Loss of lithium to lithium plating [mol]\n"
     ]
    }
   ],
   "source": [
    "Model_0.variables.search('loss of')"
   ]
  },
  {
   "cell_type": "code",
   "execution_count": 8,
   "metadata": {},
   "outputs": [
    {
     "name": "stdout",
     "output_type": "stream",
     "text": [
      "[4541. 4541. 4541. 4541. 4541. 4541. 4541. 4541. 4541. 4541. 4541. 4541.\n",
      " 4541. 4541. 4541. 4541. 4541. 4541. 4541. 4541. 4541. 4541. 4541. 4541.\n",
      " 4541. 4541. 4541. 4541. 4541. 4541. 4541. 4541. 4541. 4541. 4541. 4541.\n",
      " 4541. 4541. 4541. 4541. 4541. 4541. 4541. 4541. 4541. 4541. 4541. 4541.\n",
      " 4541. 4541. 4541. 4541. 4541. 4541. 4541. 4541. 4541. 4541. 4541. 4541.]\n",
      "[4541. 4541. 4541. 4541. 4541. 4541. 4541. 4541. 4541. 4541. 4541. 4541.\n",
      " 4541. 4541. 4541. 4541. 4541. 4541. 4541. 4541. 4541. 4541. 4541. 4541.\n",
      " 4541. 4541. 4541. 4541. 4541. 4541. 4541. 4541. 4541. 4541. 4541. 4541.\n",
      " 4541. 4541. 4541. 4541. 4541. 4541. 4541. 4541. 4541. 4541. 4541. 4541.\n",
      " 4541. 4541. 4541. 4541. 4541. 4541. 4541. 4541. 4541. 4541. 4541. 4541.]\n"
     ]
    }
   ],
   "source": [
    "print(Sol_1.cycles[-1][\"EC concentration [mol.m-3]\"].entries[:,-1])\n",
    "print(Sol_1.cycles[0][\"EC concentration [mol.m-3]\"].entries[:,-1])"
   ]
  },
  {
   "cell_type": "code",
   "execution_count": 11,
   "metadata": {},
   "outputs": [
    {
     "data": {
      "application/vnd.jupyter.widget-view+json": {
       "model_id": "87edc97fd4424c6d83936f06755fb566",
       "version_major": 2,
       "version_minor": 0
      },
      "text/plain": [
       "interactive(children=(FloatSlider(value=0.0, description='t', max=76.28450366357507, step=0.7628450366357507),…"
      ]
     },
     "metadata": {},
     "output_type": "display_data"
    }
   ],
   "source": [
    "label = [\"SEI + double diffusion\",\"SEI + single diffusion\",] \n",
    "output_variables3 = [\n",
    "    \"Terminal voltage [V]\",   \n",
    "    \"EC concentration [mol.m-3]\",\n",
    "    \"Electrolyte concentration [mol.m-3]\",\n",
    "    \"Total EC in electrolyte [mol]\",\n",
    "    #\"Total lithium in electrolyte [mol]\",\n",
    "    \"Loss of capacity to SEI [A.h]\",\n",
    "    #\"Discharge capacity [A.h]\",\n",
    "    \"Total EC in electrolyte and SEI [mol]\",\n",
    "]\n",
    "quick_plot = pybamm.QuickPlot([Sol_0,Sol_1], output_variables3,label,) #     variable_limits='tight'\n",
    "quick_plot.dynamic_plot();"
   ]
  },
  {
   "cell_type": "code",
   "execution_count": 10,
   "metadata": {},
   "outputs": [
    {
     "ename": "ValueError",
     "evalue": "x and y must have same first dimension, but have shapes (1,) and (1165,)",
     "output_type": "error",
     "traceback": [
      "\u001b[1;31m---------------------------------------------------------------------------\u001b[0m",
      "\u001b[1;31mValueError\u001b[0m                                Traceback (most recent call last)",
      "\u001b[1;32md:\\GitPyBaMM\\LRH_409\\LRH_409\\envPBGEM\\PyBaMM-GEM\\wip\\Rio_Code\\P3_R2_withSEI\\a4_relate_long_cycle.ipynb Cell 11\u001b[0m in \u001b[0;36m<cell line: 3>\u001b[1;34m()\u001b[0m\n\u001b[0;32m      <a href='vscode-notebook-cell:/d%3A/GitPyBaMM/LRH_409/LRH_409/envPBGEM/PyBaMM-GEM/wip/Rio_Code/P3_R2_withSEI/a4_relate_long_cycle.ipynb#X15sZmlsZQ%3D%3D?line=0'>1</a>\u001b[0m total_EC_w_SEI \u001b[39m=\u001b[39m Sol_0[\u001b[39m\"\u001b[39m\u001b[39mTotal EC in electrolyte [mol]\u001b[39m\u001b[39m\"\u001b[39m]\u001b[39m.\u001b[39mentries \u001b[39m+\u001b[39m Sol_0[\u001b[39m\"\u001b[39m\u001b[39mLoss of lithium to SEI [mol]\u001b[39m\u001b[39m\"\u001b[39m]\u001b[39m.\u001b[39mentries\n\u001b[0;32m      <a href='vscode-notebook-cell:/d%3A/GitPyBaMM/LRH_409/LRH_409/envPBGEM/PyBaMM-GEM/wip/Rio_Code/P3_R2_withSEI/a4_relate_long_cycle.ipynb#X15sZmlsZQ%3D%3D?line=1'>2</a>\u001b[0m Time \u001b[39m=\u001b[39m Sol_0[\u001b[39m\"\u001b[39m\u001b[39mTime [h]\u001b[39m\u001b[39m\"\u001b[39m]\n\u001b[1;32m----> <a href='vscode-notebook-cell:/d%3A/GitPyBaMM/LRH_409/LRH_409/envPBGEM/PyBaMM-GEM/wip/Rio_Code/P3_R2_withSEI/a4_relate_long_cycle.ipynb#X15sZmlsZQ%3D%3D?line=2'>3</a>\u001b[0m plt\u001b[39m.\u001b[39;49mplot(Time,total_EC_w_SEI)\n",
      "File \u001b[1;32md:\\GitPyBaMM\\LRH_409\\LRH_409\\envPBGEM\\lib\\site-packages\\matplotlib\\pyplot.py:2769\u001b[0m, in \u001b[0;36mplot\u001b[1;34m(scalex, scaley, data, *args, **kwargs)\u001b[0m\n\u001b[0;32m   2767\u001b[0m \u001b[39m@_copy_docstring_and_deprecators\u001b[39m(Axes\u001b[39m.\u001b[39mplot)\n\u001b[0;32m   2768\u001b[0m \u001b[39mdef\u001b[39;00m \u001b[39mplot\u001b[39m(\u001b[39m*\u001b[39margs, scalex\u001b[39m=\u001b[39m\u001b[39mTrue\u001b[39;00m, scaley\u001b[39m=\u001b[39m\u001b[39mTrue\u001b[39;00m, data\u001b[39m=\u001b[39m\u001b[39mNone\u001b[39;00m, \u001b[39m*\u001b[39m\u001b[39m*\u001b[39mkwargs):\n\u001b[1;32m-> 2769\u001b[0m     \u001b[39mreturn\u001b[39;00m gca()\u001b[39m.\u001b[39mplot(\n\u001b[0;32m   2770\u001b[0m         \u001b[39m*\u001b[39margs, scalex\u001b[39m=\u001b[39mscalex, scaley\u001b[39m=\u001b[39mscaley,\n\u001b[0;32m   2771\u001b[0m         \u001b[39m*\u001b[39m\u001b[39m*\u001b[39m({\u001b[39m\"\u001b[39m\u001b[39mdata\u001b[39m\u001b[39m\"\u001b[39m: data} \u001b[39mif\u001b[39;00m data \u001b[39mis\u001b[39;00m \u001b[39mnot\u001b[39;00m \u001b[39mNone\u001b[39;00m \u001b[39melse\u001b[39;00m {}), \u001b[39m*\u001b[39m\u001b[39m*\u001b[39mkwargs)\n",
      "File \u001b[1;32md:\\GitPyBaMM\\LRH_409\\LRH_409\\envPBGEM\\lib\\site-packages\\matplotlib\\axes\\_axes.py:1632\u001b[0m, in \u001b[0;36mAxes.plot\u001b[1;34m(self, scalex, scaley, data, *args, **kwargs)\u001b[0m\n\u001b[0;32m   1390\u001b[0m \u001b[39m\"\"\"\u001b[39;00m\n\u001b[0;32m   1391\u001b[0m \u001b[39mPlot y versus x as lines and/or markers.\u001b[39;00m\n\u001b[0;32m   1392\u001b[0m \n\u001b[1;32m   (...)\u001b[0m\n\u001b[0;32m   1629\u001b[0m \u001b[39m(``'green'``) or hex strings (``'#008000'``).\u001b[39;00m\n\u001b[0;32m   1630\u001b[0m \u001b[39m\"\"\"\u001b[39;00m\n\u001b[0;32m   1631\u001b[0m kwargs \u001b[39m=\u001b[39m cbook\u001b[39m.\u001b[39mnormalize_kwargs(kwargs, mlines\u001b[39m.\u001b[39mLine2D)\n\u001b[1;32m-> 1632\u001b[0m lines \u001b[39m=\u001b[39m [\u001b[39m*\u001b[39m\u001b[39mself\u001b[39m\u001b[39m.\u001b[39m_get_lines(\u001b[39m*\u001b[39margs, data\u001b[39m=\u001b[39mdata, \u001b[39m*\u001b[39m\u001b[39m*\u001b[39mkwargs)]\n\u001b[0;32m   1633\u001b[0m \u001b[39mfor\u001b[39;00m line \u001b[39min\u001b[39;00m lines:\n\u001b[0;32m   1634\u001b[0m     \u001b[39mself\u001b[39m\u001b[39m.\u001b[39madd_line(line)\n",
      "File \u001b[1;32md:\\GitPyBaMM\\LRH_409\\LRH_409\\envPBGEM\\lib\\site-packages\\matplotlib\\axes\\_base.py:312\u001b[0m, in \u001b[0;36m_process_plot_var_args.__call__\u001b[1;34m(self, data, *args, **kwargs)\u001b[0m\n\u001b[0;32m    310\u001b[0m     this \u001b[39m+\u001b[39m\u001b[39m=\u001b[39m args[\u001b[39m0\u001b[39m],\n\u001b[0;32m    311\u001b[0m     args \u001b[39m=\u001b[39m args[\u001b[39m1\u001b[39m:]\n\u001b[1;32m--> 312\u001b[0m \u001b[39myield from\u001b[39;00m \u001b[39mself\u001b[39;49m\u001b[39m.\u001b[39;49m_plot_args(this, kwargs)\n",
      "File \u001b[1;32md:\\GitPyBaMM\\LRH_409\\LRH_409\\envPBGEM\\lib\\site-packages\\matplotlib\\axes\\_base.py:498\u001b[0m, in \u001b[0;36m_process_plot_var_args._plot_args\u001b[1;34m(self, tup, kwargs, return_kwargs)\u001b[0m\n\u001b[0;32m    495\u001b[0m     \u001b[39mself\u001b[39m\u001b[39m.\u001b[39maxes\u001b[39m.\u001b[39myaxis\u001b[39m.\u001b[39mupdate_units(y)\n\u001b[0;32m    497\u001b[0m \u001b[39mif\u001b[39;00m x\u001b[39m.\u001b[39mshape[\u001b[39m0\u001b[39m] \u001b[39m!=\u001b[39m y\u001b[39m.\u001b[39mshape[\u001b[39m0\u001b[39m]:\n\u001b[1;32m--> 498\u001b[0m     \u001b[39mraise\u001b[39;00m \u001b[39mValueError\u001b[39;00m(\u001b[39mf\u001b[39m\u001b[39m\"\u001b[39m\u001b[39mx and y must have same first dimension, but \u001b[39m\u001b[39m\"\u001b[39m\n\u001b[0;32m    499\u001b[0m                      \u001b[39mf\u001b[39m\u001b[39m\"\u001b[39m\u001b[39mhave shapes \u001b[39m\u001b[39m{\u001b[39;00mx\u001b[39m.\u001b[39mshape\u001b[39m}\u001b[39;00m\u001b[39m and \u001b[39m\u001b[39m{\u001b[39;00my\u001b[39m.\u001b[39mshape\u001b[39m}\u001b[39;00m\u001b[39m\"\u001b[39m)\n\u001b[0;32m    500\u001b[0m \u001b[39mif\u001b[39;00m x\u001b[39m.\u001b[39mndim \u001b[39m>\u001b[39m \u001b[39m2\u001b[39m \u001b[39mor\u001b[39;00m y\u001b[39m.\u001b[39mndim \u001b[39m>\u001b[39m \u001b[39m2\u001b[39m:\n\u001b[0;32m    501\u001b[0m     \u001b[39mraise\u001b[39;00m \u001b[39mValueError\u001b[39;00m(\u001b[39mf\u001b[39m\u001b[39m\"\u001b[39m\u001b[39mx and y can be no greater than 2D, but have \u001b[39m\u001b[39m\"\u001b[39m\n\u001b[0;32m    502\u001b[0m                      \u001b[39mf\u001b[39m\u001b[39m\"\u001b[39m\u001b[39mshapes \u001b[39m\u001b[39m{\u001b[39;00mx\u001b[39m.\u001b[39mshape\u001b[39m}\u001b[39;00m\u001b[39m and \u001b[39m\u001b[39m{\u001b[39;00my\u001b[39m.\u001b[39mshape\u001b[39m}\u001b[39;00m\u001b[39m\"\u001b[39m)\n",
      "\u001b[1;31mValueError\u001b[0m: x and y must have same first dimension, but have shapes (1,) and (1165,)"
     ]
    },
    {
     "data": {
      "image/png": "[encoded data removed]",
      "text/plain": [
       "<Figure size 432x288 with 1 Axes>"
      ]
     },
     "metadata": {
      "needs_background": "light"
     },
     "output_type": "display_data"
    }
   ],
   "source": [
    "total_EC_w_SEI = Sol_0[\"Total EC in electrolyte [mol]\"].entries + Sol_0[\"Loss of lithium to SEI [mol]\"].entries\n",
    "Time = Sol_0[\"Time [h]\"]\n",
    "plt.plot(Time,total_EC_w_SEI)"
   ]
  },
  {
   "cell_type": "code",
   "execution_count": null,
   "metadata": {},
   "outputs": [],
   "source": [
    "label = [\"SEI + double diffusion\",\"SEI + single diffusion\",] \n",
    "output_variables3 = [\n",
    "    #\"Terminal voltage [V]\",   \n",
    "    \"Negative electrode SEI interfacial current density [A.m-2]\",\n",
    "]\n",
    "quick_plot = pybamm.QuickPlot([Sol_0,Sol_1], output_variables3,label,) #     variable_limits='tight'\n",
    "quick_plot.dynamic_plot();"
   ]
  },
  {
   "cell_type": "code",
   "execution_count": null,
   "metadata": {},
   "outputs": [],
   "source": []
  }
 ],
 "metadata": {
  "kernelspec": {
   "display_name": "Python 3.9.6 ('envPBGEM')",
   "language": "python",
   "name": "python3"
  },
  "language_info": {
   "codemirror_mode": {
    "name": "ipython",
    "version": 3
   },
   "file_extension": ".py",
   "mimetype": "text/x-python",
   "name": "python",
   "nbconvert_exporter": "python",
   "pygments_lexer": "ipython3",
   "version": "3.9.6"
  },
  "orig_nbformat": 4,
  "vscode": {
   "interpreter": {
    "hash": "83fab7fbb3a8fe7b5910804f702478ef63e2cc6a08d85072a5d68865ed0fd8c7"
   }
  }
 },
 "nbformat": 4,
 "nbformat_minor": 2
}
