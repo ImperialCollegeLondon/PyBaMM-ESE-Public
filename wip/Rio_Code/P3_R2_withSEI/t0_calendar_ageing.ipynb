{
 "cells": [
  {
   "cell_type": "code",
   "execution_count": 1,
   "metadata": {},
   "outputs": [],
   "source": [
    "# This is copied from examples\\scripts\\calendar_ageing.py"
   ]
  },
  {
   "cell_type": "code",
   "execution_count": 2,
   "metadata": {},
   "outputs": [
    {
     "name": "stderr",
     "output_type": "stream",
     "text": [
      "2022-09-12 11:00:09.553 - [INFO] base_model._build_model(573): Start building Single Particle Model with electrolyte\n",
      "2022-09-12 11:00:09.645 - [INFO] base_battery_model.build_model(879): Finish building Single Particle Model with electrolyte\n",
      "2022-09-12 11:00:09.677 - [INFO] base_model._build_model(573): Start building Doyle-Fuller-Newman model\n",
      "2022-09-12 11:00:09.744 - [INFO] base_battery_model.build_model(879): Finish building Doyle-Fuller-Newman model\n"
     ]
    },
    {
     "name": "stdout",
     "output_type": "stream",
     "text": [
      "Confirm: using solvent-diffusion limited\n",
      "Confirm: using solvent-diffusion limited\n"
     ]
    }
   ],
   "source": [
    "import pybamm as pb\n",
    "import numpy as np\n",
    "\n",
    "pb.set_logging_level(\"INFO\")\n",
    "\n",
    "models = [\n",
    "    pb.lithium_ion.SPMe({\n",
    "        \"SEI\": \"solvent-diffusion limited\",\n",
    "        \"solvent diffusion\": \"EC\"\n",
    "        }),\n",
    "    pb.lithium_ion.DFN({\n",
    "        \"SEI\": \"solvent-diffusion limited\",\n",
    "        \"solvent diffusion\": \"none\"\n",
    "        }),\n",
    "]\n"
   ]
  },
  {
   "cell_type": "code",
   "execution_count": 4,
   "metadata": {},
   "outputs": [
    {
     "name": "stderr",
     "output_type": "stream",
     "text": [
      "2022-09-12 11:00:24.411 - [INFO] parameter_values.process_model(380): Start setting parameters for Single Particle Model with electrolyte\n",
      "2022-09-12 11:00:24.532 - [INFO] parameter_values.process_model(483): Finish setting parameters for Single Particle Model with electrolyte\n",
      "2022-09-12 11:00:24.533 - [INFO] discretisation.process_model(137): Start discretising Single Particle Model with electrolyte\n",
      "2022-09-12 11:00:24.931 - [INFO] discretisation.process_model(254): Finish discretising Single Particle Model with electrolyte\n",
      "2022-09-12 11:00:24.932 - [INFO] base_solver.solve(880): Start solving Single Particle Model with electrolyte with CasADi solver with 'fast' mode\n",
      "2022-09-12 11:00:24.935 - [INFO] base_solver.set_up(109): Start solver set-up\n",
      "2022-09-12 11:00:24.987 - [INFO] base_solver.set_up(730): Finish solver set-up\n",
      "2022-09-12 11:00:25.015 - [INFO] base_solver.solve(1153): Finish solving Single Particle Model with electrolyte (the solver successfully reached the end of the integration interval)\n",
      "2022-09-12 11:00:25.016 - [INFO] base_solver.solve(1154): Set-up time: 52.195 ms, Solve time: 27.030 ms (of which integration time: 10.682 ms), Total time: 79.225 ms\n",
      "2022-09-12 11:00:25.054 - [INFO] parameter_values.process_model(380): Start setting parameters for Doyle-Fuller-Newman model\n",
      "2022-09-12 11:00:25.142 - [INFO] parameter_values.process_model(483): Finish setting parameters for Doyle-Fuller-Newman model\n",
      "2022-09-12 11:00:25.143 - [INFO] discretisation.process_model(137): Start discretising Doyle-Fuller-Newman model\n",
      "2022-09-12 11:00:25.639 - [INFO] discretisation.process_model(254): Finish discretising Doyle-Fuller-Newman model\n",
      "2022-09-12 11:00:25.640 - [INFO] base_solver.solve(880): Start solving Doyle-Fuller-Newman model with CasADi solver with 'fast' mode\n",
      "2022-09-12 11:00:25.644 - [INFO] base_solver.set_up(109): Start solver set-up\n",
      "2022-09-12 11:00:25.833 - [INFO] base_solver.set_up(730): Finish solver set-up\n",
      "2022-09-12 11:00:26.010 - [INFO] base_solver.solve(1153): Finish solving Doyle-Fuller-Newman model (the solver successfully reached the end of the integration interval)\n",
      "2022-09-12 11:00:26.011 - [INFO] base_solver.solve(1154): Set-up time: 190.441 ms, Solve time: 175.882 ms (of which integration time: 86.317 ms), Total time: 366.323 ms\n"
     ]
    },
    {
     "data": {
      "application/vnd.jupyter.widget-view+json": {
       "model_id": "e000fbb0265046a9a587dbcf039f3023",
       "version_major": 2,
       "version_minor": 0
      },
      "text/plain": [
       "interactive(children=(FloatSlider(value=0.0, description='t', max=8760.0, step=87.6), Output()), _dom_classes=…"
      ]
     },
     "metadata": {},
     "output_type": "display_data"
    },
    {
     "data": {
      "text/plain": [
       "<pybamm.plotting.quick_plot.QuickPlot at 0x279a013d5b0>"
      ]
     },
     "execution_count": 4,
     "metadata": {},
     "output_type": "execute_result"
    }
   ],
   "source": [
    "sims = []\n",
    "for model in models:\n",
    "\n",
    "    ChemistryChen=pb.parameter_sets.Chen2020 \n",
    "    ChemistryChen[\"electrolyte\"] = \"lipf6_Nyman2008_rio\";\n",
    "    Para_0=pb.ParameterValues(chemistry=ChemistryChen);\n",
    "\n",
    "    Para_0.update({'EC transference number':-1.4})\n",
    "    Para_0.update({'EC Lithium ion cross diffusivity [m2.s-1]':1.5e-9/1e2})\n",
    "    Para_0.update({'Typical EC Lithium ion cross diffusivity [m2.s-1]':1.5e-9/1e2})\n",
    "    Para_0.update({'EC diffusivity in electrolyte [m2.s-1]':3E-10})\n",
    "    Para_0.update({'Electrolyte diffusivity [m2.s-1]':3e-10})\n",
    "\n",
    "    Para_0[\"Current function [A]\"] = 0\n",
    "\n",
    "    sim = pb.Simulation(model, parameter_values=Para_0)\n",
    "\n",
    "    solver = pb.CasadiSolver(mode=\"fast\")\n",
    "\n",
    "    years = 1\n",
    "    days = years * 365\n",
    "    hours = days * 24\n",
    "    minutes = hours * 60\n",
    "    seconds = minutes * 60\n",
    "\n",
    "    t_eval = np.linspace(0, seconds, 100)\n",
    "\n",
    "    sim.solve(t_eval=t_eval, solver=solver)\n",
    "    sims.append(sim)\n"
   ]
  },
  {
   "cell_type": "code",
   "execution_count": 5,
   "metadata": {},
   "outputs": [
    {
     "data": {
      "application/vnd.jupyter.widget-view+json": {
       "model_id": "bef4bbfda6694ddd838b10e5bc5dd60a",
       "version_major": 2,
       "version_minor": 0
      },
      "text/plain": [
       "interactive(children=(FloatSlider(value=0.0, description='t', max=8760.0, step=87.6), Output()), _dom_classes=…"
      ]
     },
     "metadata": {},
     "output_type": "display_data"
    },
    {
     "data": {
      "text/plain": [
       "<pybamm.plotting.quick_plot.QuickPlot at 0x279a3847df0>"
      ]
     },
     "execution_count": 5,
     "metadata": {},
     "output_type": "execute_result"
    }
   ],
   "source": [
    "\n",
    "pb.dynamic_plot(\n",
    "    sims,\n",
    "    [\n",
    "        \"Terminal voltage [V]\",\n",
    "        \"Negative particle surface concentration\",\n",
    "        \"X-averaged negative particle surface concentration\",\n",
    "        \"Electrolyte concentration [mol.m-3]\",\n",
    "        \"Loss of capacity to SEI [A.h]\",\n",
    "        \"X-averaged total SEI thickness [m]\",\n",
    "        \"X-averaged total SEI thickness\",\n",
    "        \"X-averaged SEI concentration [mol.m-3]\",\n",
    "        \"Sum of x-averaged negative electrode interfacial current densities\",\n",
    "        \"Loss of lithium inventory [%]\",\n",
    "        [\"Total lithium lost [mol]\", \"Loss of lithium to SEI [mol]\"],\n",
    "    ],\n",
    ")\n"
   ]
  }
 ],
 "metadata": {
  "kernelspec": {
   "display_name": "Python 3.9.6 ('envPBGEM')",
   "language": "python",
   "name": "python3"
  },
  "language_info": {
   "codemirror_mode": {
    "name": "ipython",
    "version": 3
   },
   "file_extension": ".py",
   "mimetype": "text/x-python",
   "name": "python",
   "nbconvert_exporter": "python",
   "pygments_lexer": "ipython3",
   "version": "3.9.6"
  },
  "orig_nbformat": 4,
  "vscode": {
   "interpreter": {
    "hash": "83fab7fbb3a8fe7b5910804f702478ef63e2cc6a08d85072a5d68865ed0fd8c7"
   }
  }
 },
 "nbformat": 4,
 "nbformat_minor": 2
}
