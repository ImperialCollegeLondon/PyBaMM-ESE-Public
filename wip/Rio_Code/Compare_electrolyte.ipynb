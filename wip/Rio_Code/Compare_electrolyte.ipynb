{
 "cells": [
  {
   "cell_type": "code",
   "execution_count": 1,
   "metadata": {},
   "outputs": [],
   "source": [
    "for i in range(0,1):\n",
    "    import pybamm as pb\n",
    "    import pandas as pd   \n",
    "    import numpy as np\n",
    "    import os\n",
    "    import matplotlib.pyplot as plt\n",
    "    from scipy.io import savemat,loadmat\n",
    "    from pybamm import constants,exp,sqrt\n",
    "    import matplotlib as mpl; fs=17; # or we can set import matplotlib.pyplot as plt then say 'mpl.rc...'\n",
    "    mpl.rcParams[\"axes.labelsize\"] = fs\n",
    "    mpl.rcParams[\"axes.titlesize\"] = fs\n",
    "    mpl.rcParams[\"xtick.labelsize\"] =  fs\n",
    "    mpl.rcParams[\"ytick.labelsize\"] =  fs\n",
    "    mpl.rcParams[\"legend.fontsize\"] =  fs\n",
    "    mpl.rcParams['font.sans-serif'] = ['Times New Roman']\n",
    "    mpl.rcParams['font.serif'] = ['Times New Roman']\n",
    "    mpl.rcParams['axes.unicode_minus'] = False"
   ]
  },
  {
   "cell_type": "code",
   "execution_count": null,
   "metadata": {},
   "outputs": [
    {
     "ename": "",
     "evalue": "",
     "output_type": "error",
     "traceback": [
      "\u001b[1;31mFailed to start the Kernel. \n",
      "\u001b[1;31mIndentationError: unexpected indent. \n",
      "\u001b[1;31mView Jupyter <a href='command:jupyter.viewOutput'>log</a> for further details."
     ]
    }
   ],
   "source": [
    "# Define electrolyte diffusivity and conductivity\n",
    "def electrolyte_diffusivity_Nyman2008(c_e, T):\n",
    "    D_c_e = 8.794e-11 * (c_e / 1000) ** 2 - 3.972e-10 * (c_e / 1000) + 4.862e-10\n",
    "    return D_c_e    \n",
    "def electrolyte_conductivity_Nyman2008(c_e, T):\n",
    "    sigma_e = (0.1297 * (c_e / 1000) ** 3 - 2.51 * (c_e / 1000) ** 1.5 + 3.329 * (c_e / 1000))\n",
    "    return sigma_e\n",
    "\n",
    "def electrolyte_conductivity_Valoen2005(c_e, T):   # valid concentration: 0~4000 mol/m3\n",
    "    sigma_e = 0.1 * (-10.5 + 0.668*(1e-3*c_e) + 0.494*(1e-6*c_e**2) + 0.074*T - 0.0178*(1e-3*c_e)*T - 8.86e-4*(1e-6*c_e**2)*T - 6.96e-5*T**2 + 2.8E-5*(1E-3*c_e)*T**2 ) **2 * (1e-3*c_e)\n",
    "    return sigma_e\n",
    "def electrolyte_diffusivity_Valoen2005(c_e, T):\n",
    "    D_c_e = 1e-4 * 10**(-4.43 - 54/(T - 229 - 0.005*c_e) - 2.2e-4 * c_e   )\n",
    "    return D_c_e\n",
    "\n",
    "def electrolyte_conductivity_Ecker2015(c_e, T):\n",
    "    # mol/m^3 to mol/l\n",
    "    cm = 1e-3 * c_e\n",
    "    # value at T = 296K\n",
    "    sigma_e_296 = 0.2667 * cm ** 3 - 1.2983 * cm ** 2 + 1.7919 * cm + 0.1726\n",
    "    # Add temperature dependence\n",
    "    E_k_e = 1.71e4\n",
    "    C = 296 * exp(E_k_e / (constants.R * 296))\n",
    "    sigma_e = C * sigma_e_296 * exp(-E_k_e / (constants.R * T)) / T\n",
    "    return sigma_e.value\n",
    "def electrolyte_diffusivity_Ecker2015(c_e, T):\n",
    "    # mol/m^3 to mol/l\n",
    "    cm = 1e-3 * c_e\n",
    "    # value at T = 296K\n",
    "    sigma_e_296 = 0.2667 * cm ** 3 - 1.2983 * cm ** 2 + 1.7919 * cm + 0.1726\n",
    "    # add temperature dependence\n",
    "    E_k_e = 1.71e4\n",
    "    C = 296 * exp(E_k_e / (constants.R * 296))\n",
    "    sigma_e = C * sigma_e_296 * exp(-E_k_e / (constants.R * T)) / T\n",
    "    D_c_e = (constants.k_b / (constants.F * constants.q_e)) * sigma_e * T / c_e\n",
    "    return D_c_e.value\n",
    "\n",
    "def electrolyte_conductivity_Ding2001(c_e, c_EC,  T):\n",
    "    # c_e is lithium ion concentration in electrolyte in mol/m3, need to change to mol/kg\n",
    "    # also be careful that T here is deg, while others are K\n",
    "    rho_electrolyte = 1300 # in kg/m3\n",
    "    c_e_kg = c_e / rho_electrolyte     # in mol/kg \n",
    "    M_LiPF6 = 151.905/1000  # kg/mol\n",
    "    M_EC = 88.062/1000  # kg/mol\n",
    "    M_EMC = 104.104/1000 # kg/mol\n",
    "    x_EC = 1 / (1+ ( rho_electrolyte - c_e*M_LiPF6 - c_EC*M_EC  )/M_EMC/c_EC   )\n",
    "    kai = -3.37115 + 12.5608*c_e_kg - 7.89593*c_e_kg**2 + 3.51922*c_e_kg**3-1.15471*c_e_kg**4 +18.1863*x_EC - 6.22756*c_e_kg*x_EC - 13.6916*c_e_kg**2*x_EC +8.43904*c_e_kg**3*x_EC - 7.83732*x_EC**2 + 19.607*c_e_kg*x_EC**2  - 18.4529*c_e_kg**2*x_EC**2 -30.6369*x_EC**3 + 29.2*c_e_kg*x_EC**3 - 0.0429918*T + 0.180877*c_e_kg*T -0.0836202*c_e_kg**2*T + 0.0230098*c_e_kg**3*T + 0.195946*T*x_EC +0.0676686*c_e_kg*x_EC*T - 0.14134*c_e_kg**2*x_EC*T + 0.147429*x_EC**2*T  +0.173059*c_e_kg*x_EC**2*T - 0.51634*x_EC**3*T - 0.000223097*T**2 +0.000111233*c_e_kg*T**2 + 0.0000495286*c_e_kg**2*T**2  +0.000952777*x_EC*T**2 + 0.00117334 *c_e_kg*x_EC*T**2-0.000619157*x_EC**2*T**2 - 3.46897E-7*T**3 - 2.75041E-6*c_e_kg*T**3 -5.57653E-6*x_EC*T**3 \n",
    "    return kai "
   ]
  },
  {
   "cell_type": "code",
   "execution_count": null,
   "metadata": {},
   "outputs": [
    {
     "ename": "",
     "evalue": "",
     "output_type": "error",
     "traceback": [
      "\u001b[1;31mFailed to start the Kernel. \n",
      "\u001b[1;31mIndentationError: unexpected indent. \n",
      "\u001b[1;31mView Jupyter <a href='command:jupyter.viewOutput'>log</a> for further details."
     ]
    }
   ],
   "source": [
    "np.sqrt(2)"
   ]
  },
  {
   "cell_type": "code",
   "execution_count": null,
   "metadata": {},
   "outputs": [
    {
     "ename": "",
     "evalue": "",
     "output_type": "error",
     "traceback": [
      "\u001b[1;31mFailed to start the Kernel. \n",
      "\u001b[1;31mIndentationError: unexpected indent. \n",
      "\u001b[1;31mView Jupyter <a href='command:jupyter.viewOutput'>log</a> for further details."
     ]
    }
   ],
   "source": [
    "def electrolyte_conductivity_base_Landesfeind2019(c_e, T, coeffs):\n",
    "    c = c_e / 1000  # mol.m-3 -> mol.l\n",
    "    p1, p2, p3, p4, p5, p6 = coeffs\n",
    "    A = p1 * (1 + (T - p2))\n",
    "    B = 1 + p3 * np.sqrt(c) + p4 * (1 + p5 * np.exp(1000 / T)) * c\n",
    "    C = 1 + c ** 4 * (p6 * np.exp(1000 / T))\n",
    "    sigma_e = A * c * B / C  # mS.cm-1\n",
    "\n",
    "    return sigma_e / 10\n",
    "\n",
    "def electrolyte_diffusivity_base_Landesfeind2019(c_e, T, coeffs):\n",
    "    c = c_e / 1000  # mol.m-3 -> mol.l\n",
    "    p1, p2, p3, p4 = coeffs\n",
    "    A = p1 * exp(p2 * c)\n",
    "    B = exp(p3 / T)\n",
    "    C = exp(p4 * c / T)\n",
    "    D_e = A * B * C * 1e-10  # m2/s\n",
    "\n",
    "    return D_e\n",
    "\n",
    "def electrolyte_TDF_base_Landesfeind2019(c_e, T, coeffs):\n",
    "    c = c_e / 1000  # mol.m-3 -> mol.l\n",
    "    p1, p2, p3, p4, p5, p6, p7, p8, p9 = coeffs\n",
    "    tdf = (\n",
    "        p1\n",
    "        + p2 * c\n",
    "        + p3 * T\n",
    "        + p4 * c ** 2\n",
    "        + p5 * c * T\n",
    "        + p6 * T ** 2\n",
    "        + p7 * c ** 3\n",
    "        + p8 * c ** 2 * T\n",
    "        + p9 * c * T ** 2\n",
    "    )\n",
    "    return tdf\n",
    "\n",
    "def electrolyte_transference_number_base_Landesfeind2019(c_e, T, coeffs):\n",
    "    c = c_e / 1000  # mol.m-3 -> mol.l\n",
    "    p1, p2, p3, p4, p5, p6, p7, p8, p9 = coeffs\n",
    "    tplus = (\n",
    "        p1\n",
    "        + p2 * c\n",
    "        + p3 * T\n",
    "        + p4 * c ** 2\n",
    "        + p5 * c * T\n",
    "        + p6 * T ** 2\n",
    "        + p7 * c ** 3\n",
    "        + p8 * c ** 2 * T\n",
    "        + p9 * c * T ** 2\n",
    "    )\n",
    "\n",
    "    return tplus\n",
    "def electrolyte_conductivity_EC_DMC_1_1_Landesfeind2019(c_e, T):\n",
    "\n",
    "    coeffs = np.array([7.98e-1, 2.28e2, -1.22, 5.09e-1, -4e-3, 3.79e-3])\n",
    "\n",
    "    return electrolyte_conductivity_base_Landesfeind2019(c_e, T, coeffs)\n",
    "def electrolyte_diffusivity_EC_DMC_1_1_Landesfeind2019(c_e, T):\n",
    "\n",
    "    coeffs = np.array([1.47e3, 1.33, -1.69e3, -5.63e2])\n",
    "\n",
    "    return electrolyte_diffusivity_base_Landesfeind2019(c_e, T, coeffs)\n"
   ]
  },
  {
   "cell_type": "code",
   "execution_count": null,
   "metadata": {},
   "outputs": [
    {
     "ename": "",
     "evalue": "",
     "output_type": "error",
     "traceback": [
      "\u001b[1;31mFailed to start the Kernel. \n",
      "\u001b[1;31mIndentationError: unexpected indent. \n",
      "\u001b[1;31mView Jupyter <a href='command:jupyter.viewOutput'>log</a> for further details."
     ]
    }
   ],
   "source": []
  }
 ],
 "metadata": {
  "kernelspec": {
   "display_name": "envPBGEM",
   "language": "python",
   "name": "python3"
  },
  "language_info": {
   "codemirror_mode": {
    "name": "ipython",
    "version": 3
   },
   "file_extension": ".py",
   "mimetype": "text/x-python",
   "name": "python",
   "nbconvert_exporter": "python",
   "pygments_lexer": "ipython3",
   "version": "3.9.6"
  },
  "orig_nbformat": 4,
  "vscode": {
   "interpreter": {
    "hash": "83fab7fbb3a8fe7b5910804f702478ef63e2cc6a08d85072a5d68865ed0fd8c7"
   }
  }
 },
 "nbformat": 4,
 "nbformat_minor": 2
}
