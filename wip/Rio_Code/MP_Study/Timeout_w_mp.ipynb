{
 "cells": [
  {
   "cell_type": "code",
   "execution_count": 1,
   "metadata": {},
   "outputs": [],
   "source": [
    "import time, random\n",
    "from multiprocessing import Pool   "
   ]
  },
  {
   "cell_type": "code",
   "execution_count": 4,
   "metadata": {},
   "outputs": [],
   "source": [
    "# 这个类就是个筐，各种参数都可以往里装\n",
    "class TaskConfig:\n",
    "    def __init__(self, id, seconds):\n",
    "        self.id = id\n",
    "        # 运行参数\n",
    "        self.seconds = seconds\n",
    "# 运行结果（这里只考虑正常结果，也可以加上异常结果，用一个bool变量来区分成功和失败）\n",
    "class TaskResult:\n",
    "    def __init__(self, id, result):\n",
    "        self.id = id\n",
    "        self.result = result    \n",
    "# 模拟耗时很长的任务\n",
    "def run_sim(config):\n",
    "    time.sleep(config.seconds)\n",
    "    result = 'Task %d finished after %d seconds' % (config.id, config.seconds) \n",
    "    return TaskResult(config.id, result)\n",
    "# 生成配置的函数，每个任务随机取参数1~10   \n",
    "def gen_config(id):\n",
    "    time_length = random.randint(1,7)\n",
    "    print('Task %d need %d seconds to finish' % (id, time_length) )\n",
    "    return TaskConfig(id, time_length)\n",
    "def run_a_round(configs):\n",
    "    worker_pool = Pool(processes=len(configs))  \n",
    "    async_results = []\n",
    "    for config in configs:\n",
    "        async_result = worker_pool.apply_async(run_sim, (config,))\n",
    "        async_results.append(async_result)\n",
    "    # 不再允许提交任务\n",
    "    worker_pool.close()\n",
    "    # 设置5秒超时，主进程负责每1秒检查一次任务是否完成\n",
    "    TIMEOUT = 10\n",
    "    for i in range(TIMEOUT):\n",
    "        time.sleep(1)\n",
    "        all_ready = all([async_result.ready() for async_result in async_results])\n",
    "        if all_ready:\n",
    "            break          \n",
    "    # 要么全部完成，要么超时\n",
    "    task_results = []\n",
    "    for i, async_result in enumerate(async_results):\n",
    "        if async_result.ready():\n",
    "            task_result = async_result.get()\n",
    "            print(task_result.result)\n",
    "            task_results.append(task_result)\n",
    "        else:\n",
    "            print('Task %d timeout' % i)    \n",
    "    # 关闭进程池释放资源\n",
    "    worker_pool.terminate()  \n",
    "    return task_results"
   ]
  },
  {
   "cell_type": "code",
   "execution_count": 5,
   "metadata": {},
   "outputs": [
    {
     "name": "stdout",
     "output_type": "stream",
     "text": [
      "Task 0 need 6 seconds to finish\n",
      "Task 1 need 4 seconds to finish\n",
      "Task 2 need 3 seconds to finish\n",
      "--- round 1 ---\n",
      "Task 0 timeout\n",
      "Task 1 timeout\n",
      "Task 2 timeout\n"
     ]
    }
   ],
   "source": [
    "    \n",
    "if __name__ == '__main__': \n",
    "    # 初始化10个任务\n",
    "    task_configs = [gen_config(i) for i in range(3)]\n",
    "    \n",
    "    # 跑到没有任务可跑为止，最多跑三轮\n",
    "    round_cnt = 1\n",
    "    while len(task_configs) > 0 and round_cnt <= 3:\n",
    "        print('--- round %d ---' % round_cnt)\n",
    "        task_results = run_a_round(task_configs)\n",
    "        # 根据结果更新下一轮参数\n",
    "        task_configs = [gen_config(task_result.id) for task_result in task_results]\n",
    "        \n",
    "        round_cnt += 1\n",
    "    \n",
    "    "
   ]
  }
 ],
 "metadata": {
  "kernelspec": {
   "display_name": "envPBGEM",
   "language": "python",
   "name": "python3"
  },
  "language_info": {
   "codemirror_mode": {
    "name": "ipython",
    "version": 3
   },
   "file_extension": ".py",
   "mimetype": "text/x-python",
   "name": "python",
   "nbconvert_exporter": "python",
   "pygments_lexer": "ipython3",
   "version": "3.10.10"
  },
  "orig_nbformat": 4
 },
 "nbformat": 4,
 "nbformat_minor": 2
}
