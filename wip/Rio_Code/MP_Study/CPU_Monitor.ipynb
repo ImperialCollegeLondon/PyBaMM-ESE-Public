{
 "cells": [
  {
   "cell_type": "code",
   "execution_count": null,
   "metadata": {},
   "outputs": [],
   "source": [
    "import psutil\n",
    "import os\n",
    "import time"
   ]
  },
  {
   "cell_type": "code",
   "execution_count": null,
   "metadata": {},
   "outputs": [],
   "source": [
    "BasicPath = 'D:/OneDrive - Imperial College London/PhD Study/Imperial Study/Model/Pybamm Learning/SimDataSave/';\n",
    "Target = 'CPU_Monitor/';\n",
    "if not os.path.exists(BasicPath + Target):\n",
    "    os.mkdir(BasicPath + Target);"
   ]
  },
  {
   "cell_type": "code",
   "execution_count": 27,
   "metadata": {},
   "outputs": [],
   "source": [
    "interval = 3 # polling seconds\n",
    "with open(BasicPath + Target+\"Acer_monitor\"  + \".csv\", \"a+\") as f:\n",
    "    f.write(\"time,cpu%,mem%\\n\") # titles\n",
    "    i = 0\n",
    "    while i<120:\n",
    "        current_time = time.strftime('%Y%m%d-%H%M%S',time.localtime(time.time()))\n",
    "        cpu_percent = psutil.cpu_percent()  # better set interval second to calculate like:  p.cpu_percent(interval=0.5)\n",
    "        phymem = psutil.virtual_memory()\n",
    "        usedmem = int(phymem.used / 1024 / 1024 )\n",
    "        totalmem = int(phymem.total / 1024 / 1024)\n",
    "        phymemPercent = \"{:.2f}\".format(float(usedmem/totalmem * 100))\n",
    "        mem_percent = phymemPercent\n",
    "        line = current_time + ',' + str(cpu_percent) + ',' + str(mem_percent)\n",
    "        f.write(line + \"\\n\")\n",
    "        time.sleep(interval)\n",
    "        i = i+1;"
   ]
  },
  {
   "cell_type": "code",
   "execution_count": null,
   "metadata": {},
   "outputs": [],
   "source": []
  }
 ],
 "metadata": {
  "kernelspec": {
   "display_name": "Python 3.9.4 64-bit",
   "language": "python",
   "name": "python3"
  },
  "language_info": {
   "codemirror_mode": {
    "name": "ipython",
    "version": 3
   },
   "file_extension": ".py",
   "mimetype": "text/x-python",
   "name": "python",
   "nbconvert_exporter": "python",
   "pygments_lexer": "ipython3",
   "version": "3.9.4"
  },
  "orig_nbformat": 4,
  "vscode": {
   "interpreter": {
    "hash": "fc6f5866c4918f94eb53c93d14f746872ffffce5b57786478ff61176b201047d"
   }
  }
 },
 "nbformat": 4,
 "nbformat_minor": 2
}
