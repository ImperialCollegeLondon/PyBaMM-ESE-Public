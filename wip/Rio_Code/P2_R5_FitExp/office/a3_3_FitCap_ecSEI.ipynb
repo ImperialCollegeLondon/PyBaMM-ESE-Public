{
 "cells": [
  {
   "cell_type": "markdown",
   "metadata": {},
   "source": [
    "# This code is to use the Get_initial_cap to Get initial capacity to be Niall's 4.86Ah"
   ]
  },
  {
   "cell_type": "code",
   "execution_count": 1,
   "metadata": {},
   "outputs": [],
   "source": [
    "import pybamm as pb;import pandas as pd   ;import numpy as np;import os;import matplotlib.pyplot as plt;import os;#import imageio\n",
    "from scipy.io import savemat,loadmat;from pybamm import constants,exp;import matplotlib as mpl; fs=17; # or we can set import matplotlib.pyplot as plt then say 'mpl.rc...'\n",
    "for k in range(0,1):\n",
    "    mpl.rcParams[\"axes.labelsize\"] = fs\n",
    "    mpl.rcParams[\"axes.titlesize\"] = fs\n",
    "    mpl.rcParams[\"xtick.labelsize\"] =  fs\n",
    "    mpl.rcParams[\"ytick.labelsize\"] =  fs\n",
    "    mpl.rcParams[\"legend.fontsize\"] =  fs\n",
    "    mpl.rcParams['font.sans-serif'] = ['Times New Roman']\n",
    "    mpl.rcParams['font.serif'] = ['Times New Roman']\n",
    "    mpl.rcParams['axes.unicode_minus'] = False\n",
    "import openpyxl\n",
    "import traceback\n",
    "import multiprocessing\n",
    "import scipy.optimize"
   ]
  },
  {
   "cell_type": "code",
   "execution_count": 2,
   "metadata": {},
   "outputs": [],
   "source": [
    "import sys  \n",
    "str_path_0 = os.path.abspath(os.path.join(pb.__path__[0],'..'))\n",
    "str_path_1 = os.path.abspath(os.path.join(str_path_0,\"wip\\Rio_Code\\Fun_P2\"))\n",
    "sys.path.append(str_path_1) \n",
    "from Fun_P2_Crack_simp import (\n",
    "    GetScan,\n",
    "    recursive_scan,\n",
    "    Para_init,\n",
    "    Run_model_wwo_dry_out ,\n",
    "    Cal_new_con_Update,\n",
    "    Run_Model_Base_On_Last_Solution,\n",
    "    Run_Model_Base_On_Last_Solution_RPT,\n",
    "    write_excel_xlsx,\n",
    "    Get_initial_cap,\n",
    "    Get_initial_cap2\n",
    ")"
   ]
  },
  {
   "cell_type": "code",
   "execution_count": 29,
   "metadata": {},
   "outputs": [],
   "source": [
    "########################  Input  ########################\n",
    "\"\"\" 12 \n",
    "[4.8728428390998655, 4.858536253367931] \n",
    "[0.8519999999999996, 0.8471043791226032] \n",
    "[0.2700000000000001, 0.2710723194914279]\"\"\"\n",
    "\n",
    "# all values here must be a list, even it is a single object\n",
    "Para_dict_All = {\n",
    "   \"Total ageing cycles\":[1170,],\n",
    "   \"Ageing cycles between RPT\":[78,],\n",
    "   \"Update cycles for ageing\":[26,],\n",
    "   \"Cycles within RPT\":[2,],\n",
    "   \"Ageing temperature\":[40,],\n",
    "   \"RPT temperature\":[25,],\n",
    "   \"Particle mesh points\":[30,],   # Simon uses 30\n",
    "   #\"Exponential mesh stretch\":[1.0,],\n",
    "   \"Para_Set\":[ \"OKane2022\",],\n",
    "   \"electrolyte\":[\"lipf6_Nyman2008\"],\n",
    "   \"Model option\":[\n",
    "         {\n",
    "            \"calculate discharge energy\":\"true\",\n",
    "            \"particle\": \"Fickian diffusion\",          \n",
    "            \"SEI\":\"ec reaction limited\",   \n",
    "            \"SEI on cracks\":\"true\",  \n",
    "            \"SEI film resistance\":\"distributed\",          \n",
    "            \"SEI porosity change\":\"true\",      \n",
    "            \"particle mechanics\":(\"swelling and cracking\", \"swelling only\"), \n",
    "            \"loss of active material\":\"stress-driven\", \n",
    "            \"lithium plating\":\"partially reversible\"      },\n",
    "         ],\n",
    "   \"Initial Neg SOC\":[0.850],    #list(np.linspace(0.84,0.90,6)),\n",
    "   \"Initial Pos SOC\":[0.270], # list(np.linspace(0.22,0.27,6)),\n",
    "\n",
    "   # Solvent consumption sub-model\n",
    "   \"Initial electrolyte excessive amount ratio\":[1.05,], # set to <1 for DryOut=Off \n",
    "   \"Current solvent concentration in the reservoir [mol.m-3]\":[4541.0,],\n",
    "   \"Current electrolyte concentration in the reservoir [mol.m-3]\":[1000,],\n",
    "   \"Ratio of Li-ion concentration change in electrolyte consider solvent consumption\":[1.0,],\n",
    "   # DFN parameter\n",
    "   \"Upper voltage cut-off [V]\":[4.21,],\n",
    "   \"Lower voltage cut-off [V]\":[2.49,],\n",
    "   #\"Negative electrode diffusivity [m2.s-1]\":[2e-13,], # default: a function, about 3.3e-14\n",
    "   #\"Positive electrode diffusivity [m2.s-1]\":[1e-13,], # default: 4e-15\n",
    "   \n",
    "   # general SEI\n",
    "   'SEI resistivity [Ohm.m]':[2E5,],\n",
    "   # solvent-diffusion limited\n",
    "   'Outer SEI solvent diffusivity [m2.s-1]':[2.5e-22],       # default: 2.5e-22\n",
    "   'Bulk solvent concentration [mol.m-3]':[4541.0,],          # default: 4541.0\n",
    "   # interstitial-diffusion limited\n",
    "   'Inner SEI lithium interstitial diffusivity [m2.s-1]':[1e-24,],    \n",
    "   'Lithium interstitial reference concentration [mol.m-3]':[5,],\n",
    "   # ec reaction limited\n",
    "   'EC diffusivity [m2.s-1]':[2e-24,],\n",
    "   'SEI kinetic rate constant [m.s-1]':[1e-21,], \n",
    "   'EC initial concentration in electrolyte [mol.m-3]':[4541.0,],\n",
    "   # LiP and coupling with SEI:\n",
    "   \"Dead lithium decay constant [s-1]\":[ 1e-6,],            # default: 1e-6\n",
    "   'Lithium plating kinetic rate constant [m.s-1]':[1E-9,], # default: 1e-9\n",
    "   # Crack model\n",
    "   \"Negative electrode cracking rate\":[ 3.9e-23,],   # default: function, ~3.9e-20\n",
    "   \"Positive electrode cracking rate\":[ 3.9e-23,],   # default: function, ~3.9e-20\n",
    "   \"Negative electrode LAM constant proportional term [s-1]\":[ 2.7778e-9,], # default: 2.7778e-07\n",
    "   \"Positive electrode LAM constant proportional term [s-1]\":[ 2.7778e-9,], # default: 2.7778e-07\n",
    "   \"Negative electrode volume change\":[ 0.0,],\n",
    "   \"Positive electrode volume change\":[ 0.0,],\n",
    "}\n",
    "Para_dict_list = []\n",
    "recursive_scan(Para_dict_list,Para_dict_All, list(Para_dict_All.keys()), {})\n"
   ]
  },
  {
   "cell_type": "code",
   "execution_count": 30,
   "metadata": {},
   "outputs": [
    {
     "data": {
      "text/plain": [
       "' 12 [4.8728428390998655, 4.858536253367931] \\n[0.8519999999999996, 0.8471043791226032] \\n[0.2700000000000001, 0.2710723194914279] '"
      ]
     },
     "execution_count": 30,
     "metadata": {},
     "output_type": "execute_result"
    }
   ],
   "source": [
    "\n",
    "Sol_0,Cap, Neg1SOC, Pos1SOC = Get_initial_cap2( Para_dict_list[0])\n",
    "\n",
    "\"\"\" 12 [4.8728428390998655, 4.858536253367931] \n",
    "[0.8519999999999996, 0.8471043791226032] \n",
    "[0.2700000000000001, 0.2710723194914279] \"\"\""
   ]
  },
  {
   "cell_type": "code",
   "execution_count": 10,
   "metadata": {},
   "outputs": [],
   "source": [
    "Sol_1,Cap_1, Neg1SOC_1, Pos1SOC_1 = Get_initial_cap( \n",
    "    Para_dict_list[0],0.8475919170851502, 0.27107950262336467)"
   ]
  },
  {
   "cell_type": "code",
   "execution_count": 31,
   "metadata": {},
   "outputs": [
    {
     "name": "stdout",
     "output_type": "stream",
     "text": [
      "[4.8669675882704935, 4.85770148502827] [0.8499999999999999, 0.8466091819217438] [0.2700000000000001, 0.27104388986279115]\n"
     ]
    }
   ],
   "source": [
    "print(Cap, Neg1SOC, Pos1SOC)\n"
   ]
  },
  {
   "cell_type": "code",
   "execution_count": 13,
   "metadata": {},
   "outputs": [
    {
     "name": "stdout",
     "output_type": "stream",
     "text": [
      "[4.847578140038379, 4.84304912627537] [0.8475919170851502, 0.8443830729054909] [0.2710795026233647, 0.2710329108290157]\n"
     ]
    }
   ],
   "source": [
    "print(Cap_1, Neg1SOC_1, Pos1SOC_1)"
   ]
  },
  {
   "cell_type": "code",
   "execution_count": 14,
   "metadata": {},
   "outputs": [
    {
     "data": {
      "application/vnd.jupyter.widget-view+json": {
       "model_id": "72623adef27c436daa0ea70539e6eabe",
       "version_major": 2,
       "version_minor": 0
      },
      "text/plain": [
       "interactive(children=(FloatSlider(value=0.0, description='t', max=40.929005378689396, step=0.409290053786894),…"
      ]
     },
     "metadata": {},
     "output_type": "display_data"
    }
   ],
   "source": [
    "# Quick plot\n",
    "label = [\"Sol_0\",\"Sol_1\"] \n",
    "output_variables3 = [\n",
    "    \"Negative electrode capacity [A.h]\",\n",
    "    \"Positive electrode capacity [A.h]\",\n",
    "    \"Loss of capacity to lithium plating [A.h]\",\n",
    "    \"Loss of capacity to SEI [A.h]\",\n",
    "    \"Loss of capacity to SEI on cracks [A.h]\",\n",
    "    \n",
    "]\n",
    "quick_plot = pb.QuickPlot([Sol_0,Sol_1], output_variables3,label,variable_limits='fixed') #     \n",
    "quick_plot.dynamic_plot();"
   ]
  },
  {
   "cell_type": "code",
   "execution_count": 9,
   "metadata": {},
   "outputs": [
    {
     "name": "stdout",
     "output_type": "stream",
     "text": [
      "0.7899796861353955\n",
      "0.7899796861353955\n",
      "0.27043296728207994\n",
      "0.27043296728207994\n"
     ]
    }
   ],
   "source": [
    "print(Sol_0.cycles[1].steps[0][\"Negative electrode SOC\"].entries[0])\n",
    "print(Sol_0.cycles[1][\"Negative electrode SOC\"].entries[0])\n",
    "print(Sol_0.cycles[1].steps[0][\"Positive electrode SOC\"].entries[0])\n",
    "print(Sol_0.cycles[1][\"Positive electrode SOC\"].entries[0])\n"
   ]
  }
 ],
 "metadata": {
  "kernelspec": {
   "display_name": "Python 3.9.4 ('envPBGEM')",
   "language": "python",
   "name": "python3"
  },
  "language_info": {
   "codemirror_mode": {
    "name": "ipython",
    "version": 3
   },
   "file_extension": ".py",
   "mimetype": "text/x-python",
   "name": "python",
   "nbconvert_exporter": "python",
   "pygments_lexer": "ipython3",
   "version": "3.9.4"
  },
  "orig_nbformat": 4,
  "vscode": {
   "interpreter": {
    "hash": "538436ab772540209705689409ae69546dd51073c4c5e92d4121144f40993c02"
   }
  }
 },
 "nbformat": 4,
 "nbformat_minor": 2
}
