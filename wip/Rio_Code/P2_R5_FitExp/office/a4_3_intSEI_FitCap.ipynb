{
 "cells": [
  {
   "cell_type": "code",
   "execution_count": 19,
   "metadata": {},
   "outputs": [],
   "source": [
    "import pybamm as pb;import pandas as pd   ;import numpy as np;import os;import matplotlib.pyplot as plt;import os;#import imageio\n",
    "from scipy.io import savemat,loadmat;from pybamm import constants,exp;import matplotlib as mpl; fs=17; # or we can set import matplotlib.pyplot as plt then say 'mpl.rc...'\n",
    "for k in range(0,1):\n",
    "    mpl.rcParams[\"axes.labelsize\"] = fs\n",
    "    mpl.rcParams[\"axes.titlesize\"] = fs\n",
    "    mpl.rcParams[\"xtick.labelsize\"] =  fs\n",
    "    mpl.rcParams[\"ytick.labelsize\"] =  fs\n",
    "    mpl.rcParams[\"legend.fontsize\"] =  fs\n",
    "    mpl.rcParams['font.sans-serif'] = ['Times New Roman']\n",
    "    mpl.rcParams['font.serif'] = ['Times New Roman']\n",
    "    mpl.rcParams['axes.unicode_minus'] = False\n",
    "import openpyxl\n",
    "import traceback\n",
    "import multiprocessing\n",
    "import scipy.optimize"
   ]
  },
  {
   "cell_type": "code",
   "execution_count": 20,
   "metadata": {},
   "outputs": [],
   "source": [
    "import sys  \n",
    "str_path_0 = os.path.abspath(os.path.join(pb.__path__[0],'..'))\n",
    "str_path_1 = os.path.abspath(os.path.join(str_path_0,\"wip\\Rio_Code\\Fun_P2\"))\n",
    "sys.path.append(str_path_1) \n",
    "from Fun_P2_Crack_simp import (\n",
    "    GetScan,\n",
    "    recursive_scan,\n",
    "    Para_init,\n",
    "    Run_model_wwo_dry_out ,\n",
    "    Cal_new_con_Update,\n",
    "    Run_Model_Base_On_Last_Solution,\n",
    "    Run_Model_Base_On_Last_Solution_RPT,\n",
    "    write_excel_xlsx,\n",
    "    Get_initial_cap,\n",
    "    Get_initial_cap2,\n",
    "    handle_signal\n",
    ")"
   ]
  },
  {
   "cell_type": "code",
   "execution_count": 27,
   "metadata": {},
   "outputs": [],
   "source": [
    "########################  Input  ########################\n",
    "# all values here must be a list, even it is a single object\n",
    "Para_dict_All = {\n",
    "   \"Total ageing cycles\":[1170,],\n",
    "   \"Ageing cycles between RPT\":[78,],\n",
    "   \"Update cycles for ageing\":[26,],\n",
    "   \"Cycles within RPT\":[2,],\n",
    "   \"Ageing temperature\":[40,],\n",
    "   \"RPT temperature\":[25,],\n",
    "   \"Particle mesh points\":[30,],   # Simon uses 30\n",
    "   \"Exponential mesh stretch\":[1.0],\n",
    "   \"Para_Set\":[ \"OKane2022\",],\n",
    "   \"sei\":[\"OKane2022\"],\n",
    "   #\"electrolyte\":[\"lipf6_OKane2022\"],\n",
    "   \"Model option\":[\n",
    "         {\n",
    "            \"calculate discharge energy\":\"true\",\n",
    "            \"particle\": \"Fickian diffusion\",          \n",
    "            \"SEI\":\"interstitial-diffusion limited\",   \n",
    "            \"SEI on cracks\":\"true\",  \n",
    "            \"SEI film resistance\":\"distributed\",          \n",
    "            \"SEI porosity change\":\"true\",      \n",
    "            \"particle mechanics\":(\"swelling and cracking\", \"swelling only\"), \n",
    "            \"loss of active material\":\"stress-driven\", \n",
    "            \"lithium plating\":\"partially reversible\"      },\n",
    "         ],\n",
    "   \"Inner SEI reaction proportion\":[0.5,],\n",
    "   \"Ratio of lithium moles to SEI moles\":[1,], # I have always been using 1 for solvent consumption model\n",
    "   \"Initial inner SEI thickness [m]\":[2.5E-9,],\n",
    "   \"Initial outer SEI thickness [m]\":[2.5E-9,],\n",
    "   \"SEI growth activation energy [J.mol-1]\":[38000,],\n",
    "   \"Inner SEI lithium interstitial diffusivity [m2.s-1]\":[1e-24],\n",
    "   \"Initial Neg SOC\":[0.850,0.849],    #list(np.linspace(0.84,0.90,6)),\n",
    "   \"Initial Pos SOC\":[0.2705, 0.270], # list(np.linspace(0.22,0.27,6)),\n",
    "}\n",
    "Para_dict_list = []\n",
    "recursive_scan(Para_dict_list,Para_dict_All, list(Para_dict_All.keys()), {})\n"
   ]
  },
  {
   "cell_type": "code",
   "execution_count": 28,
   "metadata": {},
   "outputs": [
    {
     "data": {
      "text/plain": [
       "27"
      ]
     },
     "execution_count": 28,
     "metadata": {},
     "output_type": "execute_result"
    }
   ],
   "source": [
    "len(Para_dict_list))"
   ]
  },
  {
   "cell_type": "markdown",
   "metadata": {},
   "source": [
    "for i in range(0,len(Para_dict_list)):\n",
    "    print(Para_dict_list[i])"
   ]
  },
  {
   "cell_type": "code",
   "execution_count": 23,
   "metadata": {},
   "outputs": [
    {
     "name": "stdout",
     "output_type": "stream",
     "text": [
      "4\n"
     ]
    },
    {
     "name": "stderr",
     "output_type": "stream",
     "text": [
      "At t = 0.122969 and h = 2.85014e-015, the corrector convergence failed repeatedly or with |h| = hmin.\n",
      "At t = 0.119789 and h = 8.81615e-015, the corrector convergence failed repeatedly or with |h| = hmin.\n"
     ]
    },
    {
     "name": "stdout",
     "output_type": "stream",
     "text": [
      "succeed in index =  0\n"
     ]
    },
    {
     "name": "stderr",
     "output_type": "stream",
     "text": [
      "At t = 0.122969 and h = 1.10484e-014, the corrector convergence failed repeatedly or with |h| = hmin.\n",
      "At t = 0.117078 and h = 7.2887e-015, the corrector convergence failed repeatedly or with |h| = hmin.\n"
     ]
    },
    {
     "name": "stdout",
     "output_type": "stream",
     "text": [
      "succeed in index =  1\n"
     ]
    },
    {
     "name": "stderr",
     "output_type": "stream",
     "text": [
      "At t = 0.119271 and h = 1.22221e-014, the corrector convergence failed repeatedly or with |h| = hmin.\n",
      "At t = 0.116169 and h = 2.56872e-018, the corrector convergence failed repeatedly or with |h| = hmin.\n"
     ]
    },
    {
     "name": "stdout",
     "output_type": "stream",
     "text": [
      "succeed in index =  2\n"
     ]
    },
    {
     "name": "stderr",
     "output_type": "stream",
     "text": [
      "At t = 0.119269 and h = 5.38143e-018, the corrector convergence failed repeatedly or with |h| = hmin.\n",
      "At t = 0.113459 and h = 4.75679e-015, the corrector convergence failed repeatedly or with |h| = hmin.\n"
     ]
    },
    {
     "name": "stdout",
     "output_type": "stream",
     "text": [
      "succeed in index =  3\n"
     ]
    }
   ],
   "source": [
    "print(len(Para_dict_list))\n",
    "Sol=[];Cap=[]; Neg1SOC=[]; Pos1SOC=[];\n",
    "for index in range(0,len(Para_dict_list)):\n",
    "    try:\n",
    "        Sol_0,Cap_0, Neg1SOC_0, Pos1SOC_0 = Get_initial_cap2( Para_dict_list[index])\n",
    "        Sol.append(Sol_0);Cap.append(Cap_0);\n",
    "        Neg1SOC.append(Neg1SOC_0);Pos1SOC.append(Pos1SOC_0)\n",
    "    except:\n",
    "        print(\"fail in index = \", index)\n",
    "    else:\n",
    "        print( \"succeed in index = \",  index)"
   ]
  },
  {
   "cell_type": "code",
   "execution_count": 24,
   "metadata": {},
   "outputs": [
    {
     "name": "stdout",
     "output_type": "stream",
     "text": [
      "[[4.86683378485454, 4.861826795616365], [4.866943394773526, 4.857663793432799], [4.861153473329149, 4.856270967072653], [4.861262670576986, 4.8521073932633465]]\n",
      "[[0.8499999999999999, 0.8473380498407365], [0.8499999999999999, 0.846606759658858], [0.8490000000000003, 0.8463620431339477], [0.8490000000000003, 0.8456304516509913]]\n",
      "[[0.27050000000000013, 0.2710547989477764], [0.2700000000000001, 0.27104407372757783], [0.27050000000000013, 0.27104045682225825], [0.2700000000000001, 0.2710299201057749]]\n"
     ]
    }
   ],
   "source": [
    "print(Cap)\n",
    "print(Neg1SOC)\n",
    "print(Pos1SOC)"
   ]
  },
  {
   "cell_type": "code",
   "execution_count": null,
   "metadata": {},
   "outputs": [],
   "source": []
  },
  {
   "cell_type": "code",
   "execution_count": 25,
   "metadata": {},
   "outputs": [
    {
     "data": {
      "application/vnd.jupyter.widget-view+json": {
       "model_id": "1cc8753a9ddc484a94842af8e3af2474",
       "version_major": 2,
       "version_minor": 0
      },
      "text/plain": [
       "interactive(children=(FloatSlider(value=0.0, description='t', max=40.904955501711164, step=0.40904955501711165…"
      ]
     },
     "metadata": {},
     "output_type": "display_data"
    }
   ],
   "source": [
    "# Quick plot\n",
    "label = [\"0\",\"1\",] \n",
    "output_variables3 = [\n",
    "    \"Discharge capacity [A.h]\",\n",
    "    \"Negative electrode capacity [A.h]\",\n",
    "    \"Positive electrode capacity [A.h]\",\n",
    "    \"Loss of capacity to SEI [A.h]\",\n",
    "\n",
    "    \n",
    "]\n",
    "quick_plot = pb.QuickPlot([Sol[0],Sol[1],], output_variables3,label,variable_limits='fixed') #     \n",
    "quick_plot.dynamic_plot();"
   ]
  },
  {
   "cell_type": "code",
   "execution_count": null,
   "metadata": {},
   "outputs": [],
   "source": []
  },
  {
   "cell_type": "code",
   "execution_count": null,
   "metadata": {},
   "outputs": [],
   "source": []
  },
  {
   "cell_type": "code",
   "execution_count": null,
   "metadata": {},
   "outputs": [],
   "source": []
  },
  {
   "cell_type": "code",
   "execution_count": null,
   "metadata": {},
   "outputs": [],
   "source": []
  },
  {
   "cell_type": "code",
   "execution_count": null,
   "metadata": {},
   "outputs": [],
   "source": []
  },
  {
   "cell_type": "code",
   "execution_count": null,
   "metadata": {},
   "outputs": [],
   "source": []
  },
  {
   "cell_type": "code",
   "execution_count": 26,
   "metadata": {},
   "outputs": [
    {
     "ename": "NameError",
     "evalue": "name 'Sol_1' is not defined",
     "output_type": "error",
     "traceback": [
      "\u001b[1;31m---------------------------------------------------------------------------\u001b[0m",
      "\u001b[1;31mNameError\u001b[0m                                 Traceback (most recent call last)",
      "\u001b[1;32md:\\PhD model acer\\envPBGEM\\PyBaMM-GEM\\wip\\Rio_Code\\P2_R5_FitExp\\office\\a4_3_intSEI_FitCap.ipynb Cell 16\u001b[0m in \u001b[0;36m<cell line: 11>\u001b[1;34m()\u001b[0m\n\u001b[0;32m      <a href='vscode-notebook-cell:/d%3A/PhD%20model%20acer/envPBGEM/PyBaMM-GEM/wip/Rio_Code/P2_R5_FitExp/office/a4_3_intSEI_FitCap.ipynb#X14sZmlsZQ%3D%3D?line=1'>2</a>\u001b[0m label \u001b[39m=\u001b[39m [\u001b[39m\"\u001b[39m\u001b[39mSol_0\u001b[39m\u001b[39m\"\u001b[39m,\u001b[39m\"\u001b[39m\u001b[39mSol_1\u001b[39m\u001b[39m\"\u001b[39m] \n\u001b[0;32m      <a href='vscode-notebook-cell:/d%3A/PhD%20model%20acer/envPBGEM/PyBaMM-GEM/wip/Rio_Code/P2_R5_FitExp/office/a4_3_intSEI_FitCap.ipynb#X14sZmlsZQ%3D%3D?line=2'>3</a>\u001b[0m output_variables3 \u001b[39m=\u001b[39m [\n\u001b[0;32m      <a href='vscode-notebook-cell:/d%3A/PhD%20model%20acer/envPBGEM/PyBaMM-GEM/wip/Rio_Code/P2_R5_FitExp/office/a4_3_intSEI_FitCap.ipynb#X14sZmlsZQ%3D%3D?line=3'>4</a>\u001b[0m     \u001b[39m\"\u001b[39m\u001b[39mNegative electrode capacity [A.h]\u001b[39m\u001b[39m\"\u001b[39m,\n\u001b[0;32m      <a href='vscode-notebook-cell:/d%3A/PhD%20model%20acer/envPBGEM/PyBaMM-GEM/wip/Rio_Code/P2_R5_FitExp/office/a4_3_intSEI_FitCap.ipynb#X14sZmlsZQ%3D%3D?line=4'>5</a>\u001b[0m     \u001b[39m\"\u001b[39m\u001b[39mPositive electrode capacity [A.h]\u001b[39m\u001b[39m\"\u001b[39m,\n\u001b[1;32m   (...)\u001b[0m\n\u001b[0;32m      <a href='vscode-notebook-cell:/d%3A/PhD%20model%20acer/envPBGEM/PyBaMM-GEM/wip/Rio_Code/P2_R5_FitExp/office/a4_3_intSEI_FitCap.ipynb#X14sZmlsZQ%3D%3D?line=8'>9</a>\u001b[0m     \n\u001b[0;32m     <a href='vscode-notebook-cell:/d%3A/PhD%20model%20acer/envPBGEM/PyBaMM-GEM/wip/Rio_Code/P2_R5_FitExp/office/a4_3_intSEI_FitCap.ipynb#X14sZmlsZQ%3D%3D?line=9'>10</a>\u001b[0m ]\n\u001b[1;32m---> <a href='vscode-notebook-cell:/d%3A/PhD%20model%20acer/envPBGEM/PyBaMM-GEM/wip/Rio_Code/P2_R5_FitExp/office/a4_3_intSEI_FitCap.ipynb#X14sZmlsZQ%3D%3D?line=10'>11</a>\u001b[0m quick_plot \u001b[39m=\u001b[39m pb\u001b[39m.\u001b[39mQuickPlot([Sol_0,Sol_1], output_variables3,label,variable_limits\u001b[39m=\u001b[39m\u001b[39m'\u001b[39m\u001b[39mfixed\u001b[39m\u001b[39m'\u001b[39m) \u001b[39m#     \u001b[39;00m\n\u001b[0;32m     <a href='vscode-notebook-cell:/d%3A/PhD%20model%20acer/envPBGEM/PyBaMM-GEM/wip/Rio_Code/P2_R5_FitExp/office/a4_3_intSEI_FitCap.ipynb#X14sZmlsZQ%3D%3D?line=11'>12</a>\u001b[0m quick_plot\u001b[39m.\u001b[39mdynamic_plot()\n",
      "\u001b[1;31mNameError\u001b[0m: name 'Sol_1' is not defined"
     ]
    }
   ],
   "source": [
    "# Quick plot\n",
    "label = [\"Sol_0\",\"Sol_1\"] \n",
    "output_variables3 = [\n",
    "    \"Negative electrode capacity [A.h]\",\n",
    "    \"Positive electrode capacity [A.h]\",\n",
    "    \"Loss of capacity to lithium plating [A.h]\",\n",
    "    \"Loss of capacity to SEI [A.h]\",\n",
    "    \"Loss of capacity to SEI on cracks [A.h]\",\n",
    "    \n",
    "]\n",
    "quick_plot = pb.QuickPlot([Sol_0,Sol_1], output_variables3,label,variable_limits='fixed') #     \n",
    "quick_plot.dynamic_plot();"
   ]
  },
  {
   "cell_type": "code",
   "execution_count": null,
   "metadata": {},
   "outputs": [],
   "source": [
    "print(Sol_0.cycles[1].steps[0][\"Negative electrode SOC\"].entries[0])\n",
    "print(Sol_0.cycles[1][\"Negative electrode SOC\"].entries[0])\n",
    "print(Sol_0.cycles[1].steps[0][\"Positive electrode SOC\"].entries[0])\n",
    "print(Sol_0.cycles[1][\"Positive electrode SOC\"].entries[0])\n"
   ]
  }
 ],
 "metadata": {
  "kernelspec": {
   "display_name": "Python 3.9.4 ('envPBGEM')",
   "language": "python",
   "name": "python3"
  },
  "language_info": {
   "codemirror_mode": {
    "name": "ipython",
    "version": 3
   },
   "file_extension": ".py",
   "mimetype": "text/x-python",
   "name": "python",
   "nbconvert_exporter": "python",
   "pygments_lexer": "ipython3",
   "version": "3.9.4"
  },
  "orig_nbformat": 4,
  "vscode": {
   "interpreter": {
    "hash": "538436ab772540209705689409ae69546dd51073c4c5e92d4121144f40993c02"
   }
  }
 },
 "nbformat": 4,
 "nbformat_minor": 2
}
