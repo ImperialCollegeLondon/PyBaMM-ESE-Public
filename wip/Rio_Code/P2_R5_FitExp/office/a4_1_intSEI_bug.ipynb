{
 "cells": [
  {
   "cell_type": "code",
   "execution_count": 1,
   "metadata": {},
   "outputs": [],
   "source": [
    "import pybamm as pb;import pandas as pd   ;import numpy as np;import os;import matplotlib.pyplot as plt;import os;#import imageio\n",
    "from scipy.io import savemat,loadmat;from pybamm import constants,exp;import matplotlib as mpl; fs=17; # or we can set import matplotlib.pyplot as plt then say 'mpl.rc...'\n",
    "for k in range(0,1):\n",
    "    mpl.rcParams[\"axes.labelsize\"] = fs\n",
    "    mpl.rcParams[\"axes.titlesize\"] = fs\n",
    "    mpl.rcParams[\"xtick.labelsize\"] =  fs\n",
    "    mpl.rcParams[\"ytick.labelsize\"] =  fs\n",
    "    mpl.rcParams[\"legend.fontsize\"] =  fs\n",
    "    mpl.rcParams['font.sans-serif'] = ['Times New Roman']\n",
    "    mpl.rcParams['font.serif'] = ['Times New Roman']\n",
    "    mpl.rcParams['axes.unicode_minus'] = False\n",
    "import openpyxl\n",
    "import traceback\n",
    "import multiprocessing\n",
    "import scipy.optimize"
   ]
  },
  {
   "cell_type": "code",
   "execution_count": 2,
   "metadata": {},
   "outputs": [],
   "source": [
    "import sys  \n",
    "str_path_0 = os.path.abspath(os.path.join(pb.__path__[0],'..'))\n",
    "str_path_1 = os.path.abspath(os.path.join(str_path_0,\"wip\\Rio_Code\\Fun_P2\"))\n",
    "sys.path.append(str_path_1) \n",
    "from Fun_P2_Crack_simp import (\n",
    "    GetScan,\n",
    "    recursive_scan,\n",
    "    Para_init,\n",
    "    Run_model_wwo_dry_out ,\n",
    "    Cal_new_con_Update,\n",
    "    Run_Model_Base_On_Last_Solution,\n",
    "    Run_Model_Base_On_Last_Solution_RPT,\n",
    "    write_excel_xlsx,\n",
    "    Get_initial_cap,\n",
    "    Get_initial_cap2\n",
    ")"
   ]
  },
  {
   "cell_type": "code",
   "execution_count": 3,
   "metadata": {},
   "outputs": [],
   "source": [
    "########################  Input  ########################\n",
    "# all values here must be a list, even it is a single object\n",
    "Para_dict_All = {\n",
    "   \"Total ageing cycles\":[1170,],\n",
    "   \"Ageing cycles between RPT\":[78,],\n",
    "   \"Update cycles for ageing\":[26,],\n",
    "   \"Cycles within RPT\":[1,],\n",
    "   \"Ageing temperature\":[40,],\n",
    "   \"RPT temperature\":[25,],\n",
    "   \"Particle mesh points\":[30,],   # Simon uses 30\n",
    "   \"Exponential mesh stretch\":[1.0,1.5],\n",
    "   \"Para_Set\":[ \"OKane2022\",],\n",
    "   \"sei\":[\"example\",\"OKane2022\"],\n",
    "   #\"electrolyte\":[\"lipf6_OKane2022\"],\n",
    "   \"Model option\":[\n",
    "         {\n",
    "            \"calculate discharge energy\":\"true\",\n",
    "            \"particle\": \"Fickian diffusion\",          \n",
    "            \"SEI\":\"interstitial-diffusion limited\",   \n",
    "            \"SEI on cracks\":\"true\",  \n",
    "            \"SEI film resistance\":\"distributed\",          \n",
    "            \"SEI porosity change\":\"true\",      \n",
    "            \"particle mechanics\":(\"swelling and cracking\", \"swelling only\"), \n",
    "            \"loss of active material\":\"stress-driven\", \n",
    "            \"lithium plating\":\"partially reversible\"      },\n",
    "         ],\n",
    "   #\"Initial Neg SOC\":[0.853],    #list(np.linspace(0.84,0.90,6)),\n",
    "   #\"Initial Pos SOC\":[0.270], # list(np.linspace(0.22,0.27,6)),\n",
    "}\n",
    "Para_dict_list = []\n",
    "recursive_scan(Para_dict_list,Para_dict_All, list(Para_dict_All.keys()), {})\n"
   ]
  },
  {
   "cell_type": "code",
   "execution_count": 4,
   "metadata": {},
   "outputs": [
    {
     "name": "stdout",
     "output_type": "stream",
     "text": [
      "4\n"
     ]
    }
   ],
   "source": [
    "print(len(Para_dict_list))"
   ]
  },
  {
   "cell_type": "code",
   "execution_count": 5,
   "metadata": {},
   "outputs": [
    {
     "name": "stderr",
     "output_type": "stream",
     "text": [
      "CasADi -  WARNING(\"roots:jac_f_z failed: NaN detected for output jac_x_x0, at nonzero index 0 (row 0, col 0).\") [.../casadi/core/oracle_function.cpp:265]\n",
      "2022-10-10 22:58:14.870 - [ERROR] callbacks.on_experiment_error(226): Simulation error: Could not find consistent states: \n",
      "                    Could not find acceptable solution: solver terminated\n",
      "                    successfully, but maximum solution error (inf)\n",
      "                    above tolerance (1e-06)\n",
      "                    \n"
     ]
    },
    {
     "ename": "SolverError",
     "evalue": "Could not find consistent states: \n                    Could not find acceptable solution: solver terminated\n                    successfully, but maximum solution error (inf)\n                    above tolerance (1e-06)\n                    ",
     "output_type": "error",
     "traceback": [
      "\u001b[1;31m---------------------------------------------------------------------------\u001b[0m",
      "\u001b[1;31mSolverError\u001b[0m                               Traceback (most recent call last)",
      "File \u001b[1;32md:\\phd model acer\\envpbgem\\pybamm-gem\\pybamm\\solvers\\base_solver.py:641\u001b[0m, in \u001b[0;36mBaseSolver.calculate_consistent_state\u001b[1;34m(self, model, time, inputs)\u001b[0m\n\u001b[0;32m    640\u001b[0m \u001b[39mtry\u001b[39;00m:\n\u001b[1;32m--> 641\u001b[0m     root_sol \u001b[39m=\u001b[39m \u001b[39mself\u001b[39;49m\u001b[39m.\u001b[39;49mroot_method\u001b[39m.\u001b[39;49m_integrate(model, np\u001b[39m.\u001b[39;49marray([time]), inputs)\n\u001b[0;32m    642\u001b[0m \u001b[39mexcept\u001b[39;00m pybamm\u001b[39m.\u001b[39mSolverError \u001b[39mas\u001b[39;00m e:\n",
      "File \u001b[1;32md:\\phd model acer\\envpbgem\\pybamm-gem\\pybamm\\solvers\\casadi_algebraic_solver.py:180\u001b[0m, in \u001b[0;36mCasadiAlgebraicSolver._integrate\u001b[1;34m(self, model, t_eval, inputs_dict)\u001b[0m\n\u001b[0;32m    179\u001b[0m     \u001b[39melse\u001b[39;00m:\n\u001b[1;32m--> 180\u001b[0m         \u001b[39mraise\u001b[39;00m pybamm\u001b[39m.\u001b[39mSolverError(\n\u001b[0;32m    181\u001b[0m             \u001b[39m\"\"\"\u001b[39;00m\n\u001b[0;32m    182\u001b[0m \u001b[39m            Could not find acceptable solution: solver terminated\u001b[39;00m\n\u001b[0;32m    183\u001b[0m \u001b[39m            successfully, but maximum solution error ({})\u001b[39;00m\n\u001b[0;32m    184\u001b[0m \u001b[39m            above tolerance ({})\u001b[39;00m\n\u001b[0;32m    185\u001b[0m \u001b[39m            \"\"\"\u001b[39;00m\u001b[39m.\u001b[39mformat(\n\u001b[0;32m    186\u001b[0m                 casadi\u001b[39m.\u001b[39mmmax(casadi\u001b[39m.\u001b[39mfabs(fun)), \u001b[39mself\u001b[39m\u001b[39m.\u001b[39mtol\n\u001b[0;32m    187\u001b[0m             )\n\u001b[0;32m    188\u001b[0m         )\n\u001b[0;32m    190\u001b[0m \u001b[39m# Concatenate differential part\u001b[39;00m\n",
      "\u001b[1;31mSolverError\u001b[0m: \n                    Could not find acceptable solution: solver terminated\n                    successfully, but maximum solution error (inf)\n                    above tolerance (1e-06)\n                    ",
      "\nDuring handling of the above exception, another exception occurred:\n",
      "\u001b[1;31mSolverError\u001b[0m                               Traceback (most recent call last)",
      "\u001b[1;32md:\\PhD model acer\\envPBGEM\\PyBaMM-GEM\\wip\\Rio_Code\\P2_R5_FitExp\\office\\a4_1_intSEI_bug.ipynb Cell 5\u001b[0m in \u001b[0;36m<cell line: 1>\u001b[1;34m()\u001b[0m\n\u001b[1;32m----> <a href='vscode-notebook-cell:/d%3A/PhD%20model%20acer/envPBGEM/PyBaMM-GEM/wip/Rio_Code/P2_R5_FitExp/office/a4_1_intSEI_bug.ipynb#X11sZmlsZQ%3D%3D?line=0'>1</a>\u001b[0m Sol_0,Cap_0, Neg1SOC_0, Pos1SOC_0 \u001b[39m=\u001b[39m Get_initial_cap2( Para_dict_list[\u001b[39m0\u001b[39;49m])\n",
      "File \u001b[1;32md:\\phd model acer\\envpbgem\\pybamm-gem\\wip\\Rio_Code\\Fun_P2\\Fun_P2_Crack_simp.py:752\u001b[0m, in \u001b[0;36mGet_initial_cap2\u001b[1;34m(Para_dict_i)\u001b[0m\n\u001b[0;32m    744\u001b[0m     submesh_types[\u001b[39m\"\u001b[39m\u001b[39mpositive particle\u001b[39m\u001b[39m\"\u001b[39m] \u001b[39m=\u001b[39m particle_mesh \n\u001b[0;32m    746\u001b[0m Sim_0    \u001b[39m=\u001b[39m pb\u001b[39m.\u001b[39mSimulation(\n\u001b[0;32m    747\u001b[0m         Model_0,        experiment \u001b[39m=\u001b[39m Experiment_RPT,\n\u001b[0;32m    748\u001b[0m         parameter_values \u001b[39m=\u001b[39m Para_0,\n\u001b[0;32m    749\u001b[0m         solver \u001b[39m=\u001b[39m pb\u001b[39m.\u001b[39mCasadiSolver(),\n\u001b[0;32m    750\u001b[0m         var_pts\u001b[39m=\u001b[39mvar_pts,\n\u001b[0;32m    751\u001b[0m         submesh_types\u001b[39m=\u001b[39msubmesh_types) \u001b[39m#mode=\"safe\"\u001b[39;00m\n\u001b[1;32m--> 752\u001b[0m Sol_0    \u001b[39m=\u001b[39m Sim_0\u001b[39m.\u001b[39;49msolve(calc_esoh\u001b[39m=\u001b[39;49m\u001b[39mFalse\u001b[39;49;00m)\n\u001b[0;32m    754\u001b[0m Cap \u001b[39m=\u001b[39m [];  Neg1SOC\u001b[39m=\u001b[39m[]; Pos1SOC \u001b[39m=\u001b[39m [];\n\u001b[0;32m    756\u001b[0m \u001b[39mfor\u001b[39;00m i \u001b[39min\u001b[39;00m \u001b[39mrange\u001b[39m(\u001b[39m0\u001b[39m,RPT_Cycles):\n",
      "File \u001b[1;32md:\\phd model acer\\envpbgem\\pybamm-gem\\pybamm\\simulation.py:848\u001b[0m, in \u001b[0;36mSimulation.solve\u001b[1;34m(self, t_eval, solver, check_model, save_at_cycles, calc_esoh, starting_solution, initial_soc, callbacks, **kwargs)\u001b[0m\n\u001b[0;32m    846\u001b[0m \u001b[39m# If none of the cycles worked, raise an error\u001b[39;00m\n\u001b[0;32m    847\u001b[0m \u001b[39mif\u001b[39;00m cycle_num \u001b[39m==\u001b[39m \u001b[39m1\u001b[39m \u001b[39mand\u001b[39;00m step_num \u001b[39m==\u001b[39m \u001b[39m1\u001b[39m:\n\u001b[1;32m--> 848\u001b[0m     \u001b[39mraise\u001b[39;00m error\n\u001b[0;32m    849\u001b[0m \u001b[39m# Otherwise, just stop this cycle\u001b[39;00m\n\u001b[0;32m    850\u001b[0m \u001b[39mbreak\u001b[39;00m\n",
      "File \u001b[1;32md:\\phd model acer\\envpbgem\\pybamm-gem\\pybamm\\simulation.py:826\u001b[0m, in \u001b[0;36mSimulation.solve\u001b[1;34m(self, t_eval, solver, check_model, save_at_cycles, calc_esoh, starting_solution, initial_soc, callbacks, **kwargs)\u001b[0m\n\u001b[0;32m    824\u001b[0m npts \u001b[39m=\u001b[39m \u001b[39mmax\u001b[39m(\u001b[39mint\u001b[39m(\u001b[39mround\u001b[39m(dt \u001b[39m/\u001b[39m exp_inputs[\u001b[39m\"\u001b[39m\u001b[39mperiod\u001b[39m\u001b[39m\"\u001b[39m])) \u001b[39m+\u001b[39m \u001b[39m1\u001b[39m, \u001b[39m2\u001b[39m)\n\u001b[0;32m    825\u001b[0m \u001b[39mtry\u001b[39;00m:\n\u001b[1;32m--> 826\u001b[0m     step_solution \u001b[39m=\u001b[39m solver\u001b[39m.\u001b[39mstep(\n\u001b[0;32m    827\u001b[0m         current_solution,\n\u001b[0;32m    828\u001b[0m         model,\n\u001b[0;32m    829\u001b[0m         dt,\n\u001b[0;32m    830\u001b[0m         npts\u001b[39m=\u001b[39mnpts,\n\u001b[0;32m    831\u001b[0m         save\u001b[39m=\u001b[39m\u001b[39mFalse\u001b[39;00m,\n\u001b[0;32m    832\u001b[0m         \u001b[39m*\u001b[39m\u001b[39m*\u001b[39mkwargs,\n\u001b[0;32m    833\u001b[0m     )\n\u001b[0;32m    834\u001b[0m \u001b[39mexcept\u001b[39;00m pybamm\u001b[39m.\u001b[39mSolverError \u001b[39mas\u001b[39;00m error:\n\u001b[0;32m    835\u001b[0m     \u001b[39mif\u001b[39;00m (\n\u001b[0;32m    836\u001b[0m         \u001b[39m\"\u001b[39m\u001b[39mnon-positive at initial conditions\u001b[39m\u001b[39m\"\u001b[39m \u001b[39min\u001b[39;00m error\u001b[39m.\u001b[39mmessage\n\u001b[0;32m    837\u001b[0m         \u001b[39mand\u001b[39;00m \u001b[39m\"\u001b[39m\u001b[39m[experiment]\u001b[39m\u001b[39m\"\u001b[39m \u001b[39min\u001b[39;00m error\u001b[39m.\u001b[39mmessage\n\u001b[0;32m    838\u001b[0m     ):\n",
      "File \u001b[1;32md:\\phd model acer\\envpbgem\\pybamm-gem\\pybamm\\solvers\\base_solver.py:1189\u001b[0m, in \u001b[0;36mBaseSolver.step\u001b[1;34m(self, old_solution, model, dt, npts, external_variables, inputs, save)\u001b[0m\n\u001b[0;32m   1186\u001b[0m set_up_time \u001b[39m=\u001b[39m timer\u001b[39m.\u001b[39mtime()\n\u001b[0;32m   1188\u001b[0m \u001b[39m# (Re-)calculate consistent initial conditions\u001b[39;00m\n\u001b[1;32m-> 1189\u001b[0m \u001b[39mself\u001b[39;49m\u001b[39m.\u001b[39;49m_set_initial_conditions(model, ext_and_inputs, update_rhs\u001b[39m=\u001b[39;49m\u001b[39mFalse\u001b[39;49;00m)\n\u001b[0;32m   1191\u001b[0m \u001b[39m# Non-dimensionalise dt\u001b[39;00m\n\u001b[0;32m   1192\u001b[0m dt_dimensionless \u001b[39m=\u001b[39m dt \u001b[39m/\u001b[39m model\u001b[39m.\u001b[39mtimescale_eval\n",
      "File \u001b[1;32md:\\phd model acer\\envpbgem\\pybamm-gem\\pybamm\\solvers\\base_solver.py:612\u001b[0m, in \u001b[0;36mBaseSolver._set_initial_conditions\u001b[1;34m(self, model, inputs_dict, update_rhs)\u001b[0m\n\u001b[0;32m    608\u001b[0m         \u001b[39melse\u001b[39;00m:\n\u001b[0;32m    609\u001b[0m             model\u001b[39m.\u001b[39my0 \u001b[39m=\u001b[39m np\u001b[39m.\u001b[39mvstack(\n\u001b[0;32m    610\u001b[0m                 (y0_from_inputs[:len_rhs], y0_from_model[len_rhs:])\n\u001b[0;32m    611\u001b[0m             )\n\u001b[1;32m--> 612\u001b[0m     y0 \u001b[39m=\u001b[39m \u001b[39mself\u001b[39;49m\u001b[39m.\u001b[39;49mcalculate_consistent_state(model, \u001b[39m0\u001b[39;49m, inputs_dict)\n\u001b[0;32m    613\u001b[0m \u001b[39m# Make y0 a function of inputs if doing symbolic with casadi\u001b[39;00m\n\u001b[0;32m    614\u001b[0m model\u001b[39m.\u001b[39my0 \u001b[39m=\u001b[39m y0\n",
      "File \u001b[1;32md:\\phd model acer\\envpbgem\\pybamm-gem\\pybamm\\solvers\\base_solver.py:643\u001b[0m, in \u001b[0;36mBaseSolver.calculate_consistent_state\u001b[1;34m(self, model, time, inputs)\u001b[0m\n\u001b[0;32m    641\u001b[0m     root_sol \u001b[39m=\u001b[39m \u001b[39mself\u001b[39m\u001b[39m.\u001b[39mroot_method\u001b[39m.\u001b[39m_integrate(model, np\u001b[39m.\u001b[39marray([time]), inputs)\n\u001b[0;32m    642\u001b[0m \u001b[39mexcept\u001b[39;00m pybamm\u001b[39m.\u001b[39mSolverError \u001b[39mas\u001b[39;00m e:\n\u001b[1;32m--> 643\u001b[0m     \u001b[39mraise\u001b[39;00m pybamm\u001b[39m.\u001b[39mSolverError(\n\u001b[0;32m    644\u001b[0m         \u001b[39m\"\u001b[39m\u001b[39mCould not find consistent states: \u001b[39m\u001b[39m{}\u001b[39;00m\u001b[39m\"\u001b[39m\u001b[39m.\u001b[39mformat(e\u001b[39m.\u001b[39margs[\u001b[39m0\u001b[39m])\n\u001b[0;32m    645\u001b[0m     )\n\u001b[0;32m    646\u001b[0m pybamm\u001b[39m.\u001b[39mlogger\u001b[39m.\u001b[39mdebug(\u001b[39m\"\u001b[39m\u001b[39mFound consistent states\u001b[39m\u001b[39m\"\u001b[39m)\n\u001b[0;32m    648\u001b[0m y0 \u001b[39m=\u001b[39m root_sol\u001b[39m.\u001b[39mall_ys[\u001b[39m0\u001b[39m]\n",
      "\u001b[1;31mSolverError\u001b[0m: Could not find consistent states: \n                    Could not find acceptable solution: solver terminated\n                    successfully, but maximum solution error (inf)\n                    above tolerance (1e-06)\n                    "
     ]
    }
   ],
   "source": [
    "Sol_0,Cap_0, Neg1SOC_0, Pos1SOC_0 = Get_initial_cap2( Para_dict_list[0])\n"
   ]
  },
  {
   "cell_type": "code",
   "execution_count": 9,
   "metadata": {},
   "outputs": [
    {
     "name": "stdout",
     "output_type": "stream",
     "text": [
      "1.0\n",
      "OKane2022\n",
      "1.0\n",
      "example\n"
     ]
    }
   ],
   "source": [
    "print( Para_dict_list[1][\"Exponential mesh stretch\"]) #sei\n",
    "print( Para_dict_list[1][\"sei\"]) #sei\n",
    "print( Para_dict_list[0][\"Exponential mesh stretch\"]) #sei\n",
    "print( Para_dict_list[0][\"sei\"]) #sei"
   ]
  },
  {
   "cell_type": "code",
   "execution_count": 6,
   "metadata": {},
   "outputs": [],
   "source": [
    "Sol_1,Cap_1, Neg1SOC_1, Pos1SOC_1 = Get_initial_cap2( Para_dict_list[1])\n"
   ]
  },
  {
   "cell_type": "code",
   "execution_count": 7,
   "metadata": {},
   "outputs": [
    {
     "name": "stderr",
     "output_type": "stream",
     "text": [
      "CasADi -  WARNING(\"roots:jac_f_z failed: NaN detected for output jac_x_x0, at nonzero index 0 (row 0, col 0).\") [.../casadi/core/oracle_function.cpp:265]\n",
      "2022-10-10 22:59:58.520 - [ERROR] callbacks.on_experiment_error(226): Simulation error: Could not find consistent states: \n",
      "                    Could not find acceptable solution: solver terminated\n",
      "                    successfully, but maximum solution error (inf)\n",
      "                    above tolerance (1e-06)\n",
      "                    \n"
     ]
    },
    {
     "ename": "SolverError",
     "evalue": "Could not find consistent states: \n                    Could not find acceptable solution: solver terminated\n                    successfully, but maximum solution error (inf)\n                    above tolerance (1e-06)\n                    ",
     "output_type": "error",
     "traceback": [
      "\u001b[1;31m---------------------------------------------------------------------------\u001b[0m",
      "\u001b[1;31mSolverError\u001b[0m                               Traceback (most recent call last)",
      "File \u001b[1;32md:\\phd model acer\\envpbgem\\pybamm-gem\\pybamm\\solvers\\base_solver.py:641\u001b[0m, in \u001b[0;36mBaseSolver.calculate_consistent_state\u001b[1;34m(self, model, time, inputs)\u001b[0m\n\u001b[0;32m    640\u001b[0m \u001b[39mtry\u001b[39;00m:\n\u001b[1;32m--> 641\u001b[0m     root_sol \u001b[39m=\u001b[39m \u001b[39mself\u001b[39;49m\u001b[39m.\u001b[39;49mroot_method\u001b[39m.\u001b[39;49m_integrate(model, np\u001b[39m.\u001b[39;49marray([time]), inputs)\n\u001b[0;32m    642\u001b[0m \u001b[39mexcept\u001b[39;00m pybamm\u001b[39m.\u001b[39mSolverError \u001b[39mas\u001b[39;00m e:\n",
      "File \u001b[1;32md:\\phd model acer\\envpbgem\\pybamm-gem\\pybamm\\solvers\\casadi_algebraic_solver.py:180\u001b[0m, in \u001b[0;36mCasadiAlgebraicSolver._integrate\u001b[1;34m(self, model, t_eval, inputs_dict)\u001b[0m\n\u001b[0;32m    179\u001b[0m     \u001b[39melse\u001b[39;00m:\n\u001b[1;32m--> 180\u001b[0m         \u001b[39mraise\u001b[39;00m pybamm\u001b[39m.\u001b[39mSolverError(\n\u001b[0;32m    181\u001b[0m             \u001b[39m\"\"\"\u001b[39;00m\n\u001b[0;32m    182\u001b[0m \u001b[39m            Could not find acceptable solution: solver terminated\u001b[39;00m\n\u001b[0;32m    183\u001b[0m \u001b[39m            successfully, but maximum solution error ({})\u001b[39;00m\n\u001b[0;32m    184\u001b[0m \u001b[39m            above tolerance ({})\u001b[39;00m\n\u001b[0;32m    185\u001b[0m \u001b[39m            \"\"\"\u001b[39;00m\u001b[39m.\u001b[39mformat(\n\u001b[0;32m    186\u001b[0m                 casadi\u001b[39m.\u001b[39mmmax(casadi\u001b[39m.\u001b[39mfabs(fun)), \u001b[39mself\u001b[39m\u001b[39m.\u001b[39mtol\n\u001b[0;32m    187\u001b[0m             )\n\u001b[0;32m    188\u001b[0m         )\n\u001b[0;32m    190\u001b[0m \u001b[39m# Concatenate differential part\u001b[39;00m\n",
      "\u001b[1;31mSolverError\u001b[0m: \n                    Could not find acceptable solution: solver terminated\n                    successfully, but maximum solution error (inf)\n                    above tolerance (1e-06)\n                    ",
      "\nDuring handling of the above exception, another exception occurred:\n",
      "\u001b[1;31mSolverError\u001b[0m                               Traceback (most recent call last)",
      "\u001b[1;32md:\\PhD model acer\\envPBGEM\\PyBaMM-GEM\\wip\\Rio_Code\\P2_R5_FitExp\\office\\a4_1_intSEI_bug.ipynb Cell 8\u001b[0m in \u001b[0;36m<cell line: 1>\u001b[1;34m()\u001b[0m\n\u001b[1;32m----> <a href='vscode-notebook-cell:/d%3A/PhD%20model%20acer/envPBGEM/PyBaMM-GEM/wip/Rio_Code/P2_R5_FitExp/office/a4_1_intSEI_bug.ipynb#X21sZmlsZQ%3D%3D?line=0'>1</a>\u001b[0m Sol_2,Cap_2, Neg1SOC_2, Pos1SOC_2 \u001b[39m=\u001b[39m Get_initial_cap2( Para_dict_list[\u001b[39m2\u001b[39;49m])\n",
      "File \u001b[1;32md:\\phd model acer\\envpbgem\\pybamm-gem\\wip\\Rio_Code\\Fun_P2\\Fun_P2_Crack_simp.py:752\u001b[0m, in \u001b[0;36mGet_initial_cap2\u001b[1;34m(Para_dict_i)\u001b[0m\n\u001b[0;32m    744\u001b[0m     submesh_types[\u001b[39m\"\u001b[39m\u001b[39mpositive particle\u001b[39m\u001b[39m\"\u001b[39m] \u001b[39m=\u001b[39m particle_mesh \n\u001b[0;32m    746\u001b[0m Sim_0    \u001b[39m=\u001b[39m pb\u001b[39m.\u001b[39mSimulation(\n\u001b[0;32m    747\u001b[0m         Model_0,        experiment \u001b[39m=\u001b[39m Experiment_RPT,\n\u001b[0;32m    748\u001b[0m         parameter_values \u001b[39m=\u001b[39m Para_0,\n\u001b[0;32m    749\u001b[0m         solver \u001b[39m=\u001b[39m pb\u001b[39m.\u001b[39mCasadiSolver(),\n\u001b[0;32m    750\u001b[0m         var_pts\u001b[39m=\u001b[39mvar_pts,\n\u001b[0;32m    751\u001b[0m         submesh_types\u001b[39m=\u001b[39msubmesh_types) \u001b[39m#mode=\"safe\"\u001b[39;00m\n\u001b[1;32m--> 752\u001b[0m Sol_0    \u001b[39m=\u001b[39m Sim_0\u001b[39m.\u001b[39;49msolve(calc_esoh\u001b[39m=\u001b[39;49m\u001b[39mFalse\u001b[39;49;00m)\n\u001b[0;32m    754\u001b[0m Cap \u001b[39m=\u001b[39m [];  Neg1SOC\u001b[39m=\u001b[39m[]; Pos1SOC \u001b[39m=\u001b[39m [];\n\u001b[0;32m    756\u001b[0m \u001b[39mfor\u001b[39;00m i \u001b[39min\u001b[39;00m \u001b[39mrange\u001b[39m(\u001b[39m0\u001b[39m,RPT_Cycles):\n",
      "File \u001b[1;32md:\\phd model acer\\envpbgem\\pybamm-gem\\pybamm\\simulation.py:848\u001b[0m, in \u001b[0;36mSimulation.solve\u001b[1;34m(self, t_eval, solver, check_model, save_at_cycles, calc_esoh, starting_solution, initial_soc, callbacks, **kwargs)\u001b[0m\n\u001b[0;32m    846\u001b[0m \u001b[39m# If none of the cycles worked, raise an error\u001b[39;00m\n\u001b[0;32m    847\u001b[0m \u001b[39mif\u001b[39;00m cycle_num \u001b[39m==\u001b[39m \u001b[39m1\u001b[39m \u001b[39mand\u001b[39;00m step_num \u001b[39m==\u001b[39m \u001b[39m1\u001b[39m:\n\u001b[1;32m--> 848\u001b[0m     \u001b[39mraise\u001b[39;00m error\n\u001b[0;32m    849\u001b[0m \u001b[39m# Otherwise, just stop this cycle\u001b[39;00m\n\u001b[0;32m    850\u001b[0m \u001b[39mbreak\u001b[39;00m\n",
      "File \u001b[1;32md:\\phd model acer\\envpbgem\\pybamm-gem\\pybamm\\simulation.py:826\u001b[0m, in \u001b[0;36mSimulation.solve\u001b[1;34m(self, t_eval, solver, check_model, save_at_cycles, calc_esoh, starting_solution, initial_soc, callbacks, **kwargs)\u001b[0m\n\u001b[0;32m    824\u001b[0m npts \u001b[39m=\u001b[39m \u001b[39mmax\u001b[39m(\u001b[39mint\u001b[39m(\u001b[39mround\u001b[39m(dt \u001b[39m/\u001b[39m exp_inputs[\u001b[39m\"\u001b[39m\u001b[39mperiod\u001b[39m\u001b[39m\"\u001b[39m])) \u001b[39m+\u001b[39m \u001b[39m1\u001b[39m, \u001b[39m2\u001b[39m)\n\u001b[0;32m    825\u001b[0m \u001b[39mtry\u001b[39;00m:\n\u001b[1;32m--> 826\u001b[0m     step_solution \u001b[39m=\u001b[39m solver\u001b[39m.\u001b[39mstep(\n\u001b[0;32m    827\u001b[0m         current_solution,\n\u001b[0;32m    828\u001b[0m         model,\n\u001b[0;32m    829\u001b[0m         dt,\n\u001b[0;32m    830\u001b[0m         npts\u001b[39m=\u001b[39mnpts,\n\u001b[0;32m    831\u001b[0m         save\u001b[39m=\u001b[39m\u001b[39mFalse\u001b[39;00m,\n\u001b[0;32m    832\u001b[0m         \u001b[39m*\u001b[39m\u001b[39m*\u001b[39mkwargs,\n\u001b[0;32m    833\u001b[0m     )\n\u001b[0;32m    834\u001b[0m \u001b[39mexcept\u001b[39;00m pybamm\u001b[39m.\u001b[39mSolverError \u001b[39mas\u001b[39;00m error:\n\u001b[0;32m    835\u001b[0m     \u001b[39mif\u001b[39;00m (\n\u001b[0;32m    836\u001b[0m         \u001b[39m\"\u001b[39m\u001b[39mnon-positive at initial conditions\u001b[39m\u001b[39m\"\u001b[39m \u001b[39min\u001b[39;00m error\u001b[39m.\u001b[39mmessage\n\u001b[0;32m    837\u001b[0m         \u001b[39mand\u001b[39;00m \u001b[39m\"\u001b[39m\u001b[39m[experiment]\u001b[39m\u001b[39m\"\u001b[39m \u001b[39min\u001b[39;00m error\u001b[39m.\u001b[39mmessage\n\u001b[0;32m    838\u001b[0m     ):\n",
      "File \u001b[1;32md:\\phd model acer\\envpbgem\\pybamm-gem\\pybamm\\solvers\\base_solver.py:1189\u001b[0m, in \u001b[0;36mBaseSolver.step\u001b[1;34m(self, old_solution, model, dt, npts, external_variables, inputs, save)\u001b[0m\n\u001b[0;32m   1186\u001b[0m set_up_time \u001b[39m=\u001b[39m timer\u001b[39m.\u001b[39mtime()\n\u001b[0;32m   1188\u001b[0m \u001b[39m# (Re-)calculate consistent initial conditions\u001b[39;00m\n\u001b[1;32m-> 1189\u001b[0m \u001b[39mself\u001b[39;49m\u001b[39m.\u001b[39;49m_set_initial_conditions(model, ext_and_inputs, update_rhs\u001b[39m=\u001b[39;49m\u001b[39mFalse\u001b[39;49;00m)\n\u001b[0;32m   1191\u001b[0m \u001b[39m# Non-dimensionalise dt\u001b[39;00m\n\u001b[0;32m   1192\u001b[0m dt_dimensionless \u001b[39m=\u001b[39m dt \u001b[39m/\u001b[39m model\u001b[39m.\u001b[39mtimescale_eval\n",
      "File \u001b[1;32md:\\phd model acer\\envpbgem\\pybamm-gem\\pybamm\\solvers\\base_solver.py:612\u001b[0m, in \u001b[0;36mBaseSolver._set_initial_conditions\u001b[1;34m(self, model, inputs_dict, update_rhs)\u001b[0m\n\u001b[0;32m    608\u001b[0m         \u001b[39melse\u001b[39;00m:\n\u001b[0;32m    609\u001b[0m             model\u001b[39m.\u001b[39my0 \u001b[39m=\u001b[39m np\u001b[39m.\u001b[39mvstack(\n\u001b[0;32m    610\u001b[0m                 (y0_from_inputs[:len_rhs], y0_from_model[len_rhs:])\n\u001b[0;32m    611\u001b[0m             )\n\u001b[1;32m--> 612\u001b[0m     y0 \u001b[39m=\u001b[39m \u001b[39mself\u001b[39;49m\u001b[39m.\u001b[39;49mcalculate_consistent_state(model, \u001b[39m0\u001b[39;49m, inputs_dict)\n\u001b[0;32m    613\u001b[0m \u001b[39m# Make y0 a function of inputs if doing symbolic with casadi\u001b[39;00m\n\u001b[0;32m    614\u001b[0m model\u001b[39m.\u001b[39my0 \u001b[39m=\u001b[39m y0\n",
      "File \u001b[1;32md:\\phd model acer\\envpbgem\\pybamm-gem\\pybamm\\solvers\\base_solver.py:643\u001b[0m, in \u001b[0;36mBaseSolver.calculate_consistent_state\u001b[1;34m(self, model, time, inputs)\u001b[0m\n\u001b[0;32m    641\u001b[0m     root_sol \u001b[39m=\u001b[39m \u001b[39mself\u001b[39m\u001b[39m.\u001b[39mroot_method\u001b[39m.\u001b[39m_integrate(model, np\u001b[39m.\u001b[39marray([time]), inputs)\n\u001b[0;32m    642\u001b[0m \u001b[39mexcept\u001b[39;00m pybamm\u001b[39m.\u001b[39mSolverError \u001b[39mas\u001b[39;00m e:\n\u001b[1;32m--> 643\u001b[0m     \u001b[39mraise\u001b[39;00m pybamm\u001b[39m.\u001b[39mSolverError(\n\u001b[0;32m    644\u001b[0m         \u001b[39m\"\u001b[39m\u001b[39mCould not find consistent states: \u001b[39m\u001b[39m{}\u001b[39;00m\u001b[39m\"\u001b[39m\u001b[39m.\u001b[39mformat(e\u001b[39m.\u001b[39margs[\u001b[39m0\u001b[39m])\n\u001b[0;32m    645\u001b[0m     )\n\u001b[0;32m    646\u001b[0m pybamm\u001b[39m.\u001b[39mlogger\u001b[39m.\u001b[39mdebug(\u001b[39m\"\u001b[39m\u001b[39mFound consistent states\u001b[39m\u001b[39m\"\u001b[39m)\n\u001b[0;32m    648\u001b[0m y0 \u001b[39m=\u001b[39m root_sol\u001b[39m.\u001b[39mall_ys[\u001b[39m0\u001b[39m]\n",
      "\u001b[1;31mSolverError\u001b[0m: Could not find consistent states: \n                    Could not find acceptable solution: solver terminated\n                    successfully, but maximum solution error (inf)\n                    above tolerance (1e-06)\n                    "
     ]
    }
   ],
   "source": [
    "Sol_2,Cap_2, Neg1SOC_2, Pos1SOC_2 = Get_initial_cap2( Para_dict_list[2])\n"
   ]
  },
  {
   "cell_type": "code",
   "execution_count": 8,
   "metadata": {},
   "outputs": [],
   "source": [
    "Sol_3,Cap_3, Neg1SOC_3, Pos1SOC_3 = Get_initial_cap2( Para_dict_list[3])\n"
   ]
  },
  {
   "cell_type": "code",
   "execution_count": null,
   "metadata": {},
   "outputs": [],
   "source": []
  },
  {
   "cell_type": "code",
   "execution_count": null,
   "metadata": {},
   "outputs": [],
   "source": []
  },
  {
   "cell_type": "code",
   "execution_count": null,
   "metadata": {},
   "outputs": [],
   "source": []
  },
  {
   "cell_type": "code",
   "execution_count": null,
   "metadata": {},
   "outputs": [],
   "source": []
  },
  {
   "cell_type": "code",
   "execution_count": null,
   "metadata": {},
   "outputs": [],
   "source": []
  },
  {
   "cell_type": "code",
   "execution_count": null,
   "metadata": {},
   "outputs": [],
   "source": []
  },
  {
   "cell_type": "code",
   "execution_count": null,
   "metadata": {},
   "outputs": [],
   "source": []
  },
  {
   "cell_type": "code",
   "execution_count": null,
   "metadata": {},
   "outputs": [],
   "source": [
    "# Quick plot\n",
    "label = [\"Sol_0\",\"Sol_1\"] \n",
    "output_variables3 = [\n",
    "    \"Negative electrode capacity [A.h]\",\n",
    "    \"Positive electrode capacity [A.h]\",\n",
    "    \"Loss of capacity to lithium plating [A.h]\",\n",
    "    \"Loss of capacity to SEI [A.h]\",\n",
    "    \"Loss of capacity to SEI on cracks [A.h]\",\n",
    "    \n",
    "]\n",
    "quick_plot = pb.QuickPlot([Sol_0,Sol_1], output_variables3,label,variable_limits='fixed') #     \n",
    "quick_plot.dynamic_plot();"
   ]
  },
  {
   "cell_type": "code",
   "execution_count": null,
   "metadata": {},
   "outputs": [],
   "source": [
    "print(Sol_0.cycles[1].steps[0][\"Negative electrode SOC\"].entries[0])\n",
    "print(Sol_0.cycles[1][\"Negative electrode SOC\"].entries[0])\n",
    "print(Sol_0.cycles[1].steps[0][\"Positive electrode SOC\"].entries[0])\n",
    "print(Sol_0.cycles[1][\"Positive electrode SOC\"].entries[0])\n"
   ]
  }
 ],
 "metadata": {
  "kernelspec": {
   "display_name": "Python 3.9.6 ('envSolCon')",
   "language": "python",
   "name": "python3"
  },
  "language_info": {
   "codemirror_mode": {
    "name": "ipython",
    "version": 3
   },
   "file_extension": ".py",
   "mimetype": "text/x-python",
   "name": "python",
   "nbconvert_exporter": "python",
   "pygments_lexer": "ipython3",
   "version": "3.9.6"
  },
  "orig_nbformat": 4,
  "vscode": {
   "interpreter": {
    "hash": "5ae0c684446e40f7574a1a9821257f2365ba43f34c15f5f2e3dcabca0bad9ab7"
   }
  }
 },
 "nbformat": 4,
 "nbformat_minor": 2
}
