{
 "cells": [
  {
   "cell_type": "code",
   "execution_count": 1,
   "metadata": {},
   "outputs": [],
   "source": [
    "import pybamm as pb;import pandas as pd   ;import numpy as np;import os;import matplotlib.pyplot as plt;import os;#import imageio\n",
    "from scipy.io import savemat,loadmat;from pybamm import constants,exp;import matplotlib as mpl; fs=17; # or we can set import matplotlib.pyplot as plt then say 'mpl.rc...'\n",
    "for k in range(0,1):\n",
    "    mpl.rcParams[\"axes.labelsize\"] = fs\n",
    "    mpl.rcParams[\"axes.titlesize\"] = fs\n",
    "    mpl.rcParams[\"xtick.labelsize\"] =  fs\n",
    "    mpl.rcParams[\"ytick.labelsize\"] =  fs\n",
    "    mpl.rcParams[\"legend.fontsize\"] =  fs\n",
    "    mpl.rcParams['font.sans-serif'] = ['Times New Roman']\n",
    "    mpl.rcParams['font.serif'] = ['Times New Roman']\n",
    "    mpl.rcParams['axes.unicode_minus'] = False\n",
    "import openpyxl\n",
    "import traceback\n",
    "import multiprocessing\n",
    "import scipy.optimize"
   ]
  },
  {
   "cell_type": "code",
   "execution_count": 2,
   "metadata": {},
   "outputs": [],
   "source": [
    "Chemistry=pb.parameter_sets.OKane2022 # Chen2020 # \n",
    "#Chemistry[\"electrolyte\"] = \"lipf6_Nyman2008\"\n",
    "#Chemistry[\"negative electrode\"] = \"graphite_Chen2020\"\n",
    "Chemistry[\"sei\"] = \"example\"\n",
    "Para_0=pb.ParameterValues(chemistry=Chemistry)\n",
    "model_options={\n",
    "    \"calculate discharge energy\":\"true\",\n",
    "    \"particle\": \"Fickian diffusion\",          \n",
    "    \"SEI\":\"interstitial-diffusion limited\",   \n",
    "    \"SEI on cracks\":\"true\",  \n",
    "    \"SEI film resistance\":\"distributed\",          \n",
    "    \"SEI porosity change\":\"true\",      \n",
    "    \"particle mechanics\":(\"swelling and cracking\", \"swelling only\"), \n",
    "    \"loss of active material\":\"stress-driven\", \n",
    "    \"lithium plating\":\"partially reversible\"      \n",
    "}\n",
    "Model_0 = pb.lithium_ion.DFN(options=model_options ) #\n",
    "#Para_0.update( {\"Inner SEI reaction proportion\":0.5})\n",
    "#Para_0.update( {\"Initial inner SEI thickness [m]\":2.5E-9})\n",
    "#Para_0.update( {\"Initial outer SEI thickness [m]\":2.5E-9})\n",
    "#Para_0.update( {\"Ratio of lithium moles to SEI moles\":2})\n",
    "\"\"\" Neg1SOC_in = 0.850;Pos1SOC_in=0.270\n",
    "c_Neg1SOC_in = (\n",
    "    Para_0[\"Maximum concentration in negative electrode [mol.m-3]\"]\n",
    "    *Neg1SOC_in)\n",
    "c_Pos1SOC_in = (\n",
    "    Para_0[\"Maximum concentration in positive electrode [mol.m-3]\"]\n",
    "    *Pos1SOC_in)\n",
    "Para_0.update(\n",
    "    {\"Initial concentration in negative electrode [mol.m-3]\":\n",
    "    c_Neg1SOC_in})\n",
    "Para_0.update(\n",
    "    {\"Initial concentration in positive electrode [mol.m-3]\":\n",
    "    c_Pos1SOC_in}) \n",
    "Para_0.update(\n",
    "    {\"Negative electrode cracking rate\":\n",
    "    3.9e-25}) \n",
    "Para_0.update(\n",
    "    {\"Positive electrode cracking rate\":\n",
    "    3.9e-25})  \"\"\"\n",
    "var = pb.standard_spatial_vars  \n",
    "var_pts = {\n",
    "    var.x_n: 20,  \n",
    "    var.x_s: 10,  \n",
    "    var.x_p: 20,  \n",
    "    var.r_n: int(30),  \n",
    "    var.r_p: int(30),  }       \n",
    "submesh_types = Model_0.default_submesh_types\n",
    "particle_mesh = pb.MeshGenerator(\n",
    "    pb.Exponential1DSubMesh, \n",
    "    submesh_params={\"side\": \"right\", \"stretch\": 1.5})\n",
    "submesh_types[\"negative particle\"] = particle_mesh\n",
    "submesh_types[\"positive particle\"] = particle_mesh \n",
    "V_max = 4.2;        \n",
    "V_min = 2.5; \n",
    "exp_RPT_text = [ (\n",
    "    f\"Discharge at 0.1C until {V_min} V\",  \n",
    "    \"Rest for 1 hours\",  \n",
    "    f\"Charge at 0.1C until {V_max} V\" ) ] # (5 minute period)\n",
    "exp_RPT_s = [ (\n",
    "    f\"Discharge at 0.1C for 10 s\",  ) ] \n",
    "RPT_Cycles=1\n",
    "Experiment_RPT    = pb.Experiment( exp_RPT_text * RPT_Cycles     ) \n",
    "Experiment_s    = pb.Experiment( exp_RPT_s * RPT_Cycles     ) \n",
    "Sim_0    = pb.Simulation(\n",
    "    Model_0,        experiment = Experiment_RPT,\n",
    "    parameter_values = Para_0,\n",
    "    solver = pb.CasadiSolver(),\n",
    "    var_pts=var_pts,\n",
    "    submesh_types=submesh_types\n",
    "    ) #mode=\"safe\"\n",
    "Sol_0    = Sim_0.solve(calc_esoh=False)"
   ]
  },
  {
   "cell_type": "code",
   "execution_count": 3,
   "metadata": {},
   "outputs": [
    {
     "data": {
      "application/vnd.jupyter.widget-view+json": {
       "model_id": "c33a77633baf4e43946a4a92cd815e3a",
       "version_major": 2,
       "version_minor": 0
      },
      "text/plain": [
       "interactive(children=(FloatSlider(value=0.0, description='t', max=21.592712580266888, step=0.21592712580266887…"
      ]
     },
     "metadata": {},
     "output_type": "display_data"
    }
   ],
   "source": [
    "# Quick plot\n",
    "label = [\"Sol_0\"] \n",
    "output_variables3 = [\n",
    "    \"Terminal voltage [V]\",\n",
    "    \"Negative electrode capacity [A.h]\",\n",
    "    \"Positive electrode capacity [A.h]\",\n",
    "    \"Loss of capacity to lithium plating [A.h]\",\n",
    "    \"Loss of capacity to SEI [A.h]\",\n",
    "    \"Loss of capacity to SEI on cracks [A.h]\",\n",
    "    \"Negative electrode SOC\",\n",
    "    \"Positive electrode SOC\",\n",
    "    \n",
    "]\n",
    "quick_plot = pb.QuickPlot([Sol_0], output_variables3,label,variable_limits='fixed') #     \n",
    "quick_plot.dynamic_plot();"
   ]
  },
  {
   "cell_type": "code",
   "execution_count": null,
   "metadata": {},
   "outputs": [],
   "source": []
  },
  {
   "cell_type": "code",
   "execution_count": null,
   "metadata": {},
   "outputs": [],
   "source": []
  },
  {
   "cell_type": "code",
   "execution_count": null,
   "metadata": {},
   "outputs": [],
   "source": []
  }
 ],
 "metadata": {
  "kernelspec": {
   "display_name": "Python 3.9.4 ('envPBGEM')",
   "language": "python",
   "name": "python3"
  },
  "language_info": {
   "codemirror_mode": {
    "name": "ipython",
    "version": 3
   },
   "file_extension": ".py",
   "mimetype": "text/x-python",
   "name": "python",
   "nbconvert_exporter": "python",
   "pygments_lexer": "ipython3",
   "version": "3.9.4"
  },
  "orig_nbformat": 4,
  "vscode": {
   "interpreter": {
    "hash": "538436ab772540209705689409ae69546dd51073c4c5e92d4121144f40993c02"
   }
  }
 },
 "nbformat": 4,
 "nbformat_minor": 2
}
