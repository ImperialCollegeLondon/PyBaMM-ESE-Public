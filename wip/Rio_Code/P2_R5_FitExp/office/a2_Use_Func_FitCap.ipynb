{
 "cells": [
  {
   "cell_type": "markdown",
   "metadata": {},
   "source": [
    "# This code is to use the Get_initial_cap to Get initial capacity to be Niall's 4.86Ah"
   ]
  },
  {
   "cell_type": "code",
   "execution_count": 1,
   "metadata": {},
   "outputs": [],
   "source": [
    "import pybamm as pb;import pandas as pd   ;import numpy as np;import os;import matplotlib.pyplot as plt;import os;#import imageio\n",
    "from scipy.io import savemat,loadmat;from pybamm import constants,exp;import matplotlib as mpl; fs=17; # or we can set import matplotlib.pyplot as plt then say 'mpl.rc...'\n",
    "for k in range(0,1):\n",
    "    mpl.rcParams[\"axes.labelsize\"] = fs\n",
    "    mpl.rcParams[\"axes.titlesize\"] = fs\n",
    "    mpl.rcParams[\"xtick.labelsize\"] =  fs\n",
    "    mpl.rcParams[\"ytick.labelsize\"] =  fs\n",
    "    mpl.rcParams[\"legend.fontsize\"] =  fs\n",
    "    mpl.rcParams['font.sans-serif'] = ['Times New Roman']\n",
    "    mpl.rcParams['font.serif'] = ['Times New Roman']\n",
    "    mpl.rcParams['axes.unicode_minus'] = False\n",
    "import openpyxl\n",
    "import traceback\n",
    "import multiprocessing\n",
    "import scipy.optimize"
   ]
  },
  {
   "cell_type": "code",
   "execution_count": 2,
   "metadata": {},
   "outputs": [],
   "source": [
    "import sys  \n",
    "str_path_0 = os.path.abspath(os.path.join(pb.__path__[0],'..'))\n",
    "str_path_1 = os.path.abspath(os.path.join(str_path_0,\"wip\\Rio_Code\\Fun_P2\"))\n",
    "sys.path.append(str_path_1) \n",
    "from Fun_P2_Crack_simp import (\n",
    "    GetScan,\n",
    "    recursive_scan,\n",
    "    Para_init,\n",
    "    Run_model_wwo_dry_out ,\n",
    "    Cal_new_con_Update,\n",
    "    Run_Model_Base_On_Last_Solution,\n",
    "    Run_Model_Base_On_Last_Solution_RPT,\n",
    "    write_excel_xlsx,\n",
    "    Get_initial_cap,\n",
    "    Get_initial_cap2\n",
    ")"
   ]
  },
  {
   "cell_type": "code",
   "execution_count": 3,
   "metadata": {},
   "outputs": [],
   "source": [
    "########################  Input  ########################\n",
    "\"\"\" 12 \n",
    "[4.8728428390998655, 4.858536253367931] \n",
    "[0.8519999999999996, 0.8471043791226032] \n",
    "[0.2700000000000001, 0.2710723194914279]\"\"\"\n",
    "\n",
    "# all values here must be a list, even it is a single object\n",
    "Para_dict_All = {\n",
    "   \"Total ageing cycles\":[1170,],\n",
    "   \"Ageing cycles between RPT\":[78,],\n",
    "   \"Update cycles for ageing\":[26,],\n",
    "   \"Cycles within RPT\":[3,],\n",
    "   \"Ageing temperature\":[40,],\n",
    "   \"RPT temperature\":[25,],\n",
    "   \"Particle mesh points\":[30,],   # Simon uses 30\n",
    "   #\"Exponential mesh stretch\":[1.0,],\n",
    "   \"Para_Set\":[ \"OKane2022\",],\n",
    "   \"electrolyte\":[\"lipf6_Nyman2008\"],\n",
    "   \"Model option\":[\n",
    "         {\n",
    "            \"calculate discharge energy\":\"true\",\n",
    "            \"particle\": \"Fickian diffusion\",          \n",
    "            \"SEI\":\"solvent-diffusion limited\",   \n",
    "            \"SEI on cracks\":\"true\",  \n",
    "            \"SEI film resistance\":\"distributed\",          \n",
    "            \"SEI porosity change\":\"true\",      \n",
    "            \"particle mechanics\":(\"swelling and cracking\", \"swelling only\"), \n",
    "            \"loss of active material\":\"stress-driven\", \n",
    "            \"lithium plating\":\"partially reversible\"      },\n",
    "         ],\n",
    "   \"Initial Neg SOC\":[0.8471043791226032,],    #list(np.linspace(0.84,0.90,6)),\n",
    "   \"Initial Pos SOC\":[0.2710723194914279], # list(np.linspace(0.22,0.27,6)),\n",
    "   # Solvent consumption sub-model\n",
    "   \"Initial electrolyte excessive amount ratio\":[1.05,], # set to <1 for DryOut=Off \n",
    "   \"Current solvent concentration in the reservoir [mol.m-3]\":[4541.0,],\n",
    "   \"Current electrolyte concentration in the reservoir [mol.m-3]\":[1000,],\n",
    "   \"Ratio of Li-ion concentration change in electrolyte consider solvent consumption\":[1.0,],\n",
    "   # DFN parameter\n",
    "   \"Upper voltage cut-off [V]\":[4.21,],\n",
    "   \"Lower voltage cut-off [V]\":[2.49,],\n",
    "   #\"Negative electrode diffusivity [m2.s-1]\":[2e-13,], # default: a function, about 3.3e-14\n",
    "   #\"Positive electrode diffusivity [m2.s-1]\":[1e-13,], # default: 4e-15\n",
    "   \n",
    "   # general SEI\n",
    "   'SEI resistivity [Ohm.m]':[2E5,],\n",
    "   # solvent-diffusion limited\n",
    "   'Outer SEI solvent diffusivity [m2.s-1]':[2.5e-22],       # default: 2.5e-22\n",
    "   'Bulk solvent concentration [mol.m-3]':[4541.0,],          # default: 4541.0\n",
    "   # interstitial-diffusion limited\n",
    "   'Inner SEI lithium interstitial diffusivity [m2.s-1]':[1e-12,],    \n",
    "   'Lithium interstitial reference concentration [mol.m-3]':[15,],\n",
    "   # ec-reaction limited\n",
    "   'EC diffusivity [m2.s-1]':[2e-20,],\n",
    "   'SEI kinetic rate constant [m.s-1]':[1e-19,], \n",
    "   'EC initial concentration in electrolyte [mol.m-3]':[4541.0,],\n",
    "   # LiP and coupling with SEI:\n",
    "   \"Dead lithium decay constant [s-1]\":[ 1e-6,],            # default: 1e-6\n",
    "   'Lithium plating kinetic rate constant [m.s-1]':[1E-9,], # default: 1e-9\n",
    "   # Crack model\n",
    "   \"Negative electrode LAM constant proportional term [s-1]\":[ 2.7778e-9,], # default: 2.7778e-07\n",
    "   \"Positive electrode LAM constant proportional term [s-1]\":[ 2.7778e-9,], # default: 2.7778e-07\n",
    "   \"Negative electrode volume change\":[ 0.0,],\n",
    "   \"Positive electrode volume change\":[ 0.0,],\n",
    "}\n",
    "Para_dict_list = []\n",
    "recursive_scan(Para_dict_list,Para_dict_All, list(Para_dict_All.keys()), {})\n"
   ]
  },
  {
   "cell_type": "code",
   "execution_count": 4,
   "metadata": {},
   "outputs": [
    {
     "name": "stdout",
     "output_type": "stream",
     "text": [
      "[{'Total ageing cycles': 1170, 'Ageing cycles between RPT': 78, 'Update cycles for ageing': 26, 'Cycles within RPT': 3, 'Ageing temperature': 40, 'RPT temperature': 25, 'Particle mesh points': 30, 'Para_Set': 'OKane2022', 'electrolyte': 'lipf6_Nyman2008', 'Model option': {'calculate discharge energy': 'true', 'particle': 'Fickian diffusion', 'SEI': 'solvent-diffusion limited', 'SEI on cracks': 'true', 'SEI film resistance': 'distributed', 'SEI porosity change': 'true', 'particle mechanics': ('swelling and cracking', 'swelling only'), 'loss of active material': 'stress-driven', 'lithium plating': 'partially reversible'}, 'Initial Neg SOC': 0.8471043791226032, 'Initial Pos SOC': 0.2710723194914279, 'Initial electrolyte excessive amount ratio': 1.05, 'Current solvent concentration in the reservoir [mol.m-3]': 4541.0, 'Current electrolyte concentration in the reservoir [mol.m-3]': 1000, 'Ratio of Li-ion concentration change in electrolyte consider solvent consumption': 1.0, 'Upper voltage cut-off [V]': 4.21, 'Lower voltage cut-off [V]': 2.49, 'SEI resistivity [Ohm.m]': 200000.0, 'Outer SEI solvent diffusivity [m2.s-1]': 2.5e-22, 'Bulk solvent concentration [mol.m-3]': 4541.0, 'Inner SEI lithium interstitial diffusivity [m2.s-1]': 1e-12, 'Lithium interstitial reference concentration [mol.m-3]': 15, 'EC diffusivity [m2.s-1]': 2e-20, 'SEI kinetic rate constant [m.s-1]': 1e-19, 'EC initial concentration in electrolyte [mol.m-3]': 4541.0, 'Dead lithium decay constant [s-1]': 1e-06, 'Lithium plating kinetic rate constant [m.s-1]': 1e-09, 'Negative electrode LAM constant proportional term [s-1]': 2.7778e-09, 'Positive electrode LAM constant proportional term [s-1]': 2.7778e-09, 'Negative electrode volume change': 0.0, 'Positive electrode volume change': 0.0}]\n"
     ]
    }
   ],
   "source": [
    "print(Para_dict_list)"
   ]
  },
  {
   "cell_type": "code",
   "execution_count": 5,
   "metadata": {},
   "outputs": [
    {
     "name": "stderr",
     "output_type": "stream",
     "text": [
      "psetup failed: .../casadi/interfaces/sundials/idas_interface.cpp:849: Calculating Jacobian failed\n",
      "psetup failed: .../casadi/interfaces/sundials/idas_interface.cpp:849: Calculating Jacobian failed\n",
      "psetup failed: .../casadi/interfaces/sundials/idas_interface.cpp:849: Calculating Jacobian failed\n",
      "psetup failed: .../casadi/interfaces/sundials/idas_interface.cpp:849: Calculating Jacobian failed\n",
      "psetup failed: .../casadi/interfaces/sundials/idas_interface.cpp:849: Calculating Jacobian failed\n",
      "The residual routine or the linear setup or solve routine had a recoverable error, but IDACalcIC was unable to recover.\n",
      "psetup failed: .../casadi/interfaces/sundials/idas_interface.cpp:849: Calculating Jacobian failed\n",
      "psetup failed: .../casadi/interfaces/sundials/idas_interface.cpp:849: Calculating Jacobian failed\n",
      "psetup failed: .../casadi/interfaces/sundials/idas_interface.cpp:849: Calculating Jacobian failed\n",
      "psetup failed: .../casadi/interfaces/sundials/idas_interface.cpp:849: Calculating Jacobian failed\n",
      "psetup failed: .../casadi/interfaces/sundials/idas_interface.cpp:849: Calculating Jacobian failed\n",
      "The residual routine or the linear setup or solve routine had a recoverable error, but IDACalcIC was unable to recover.\n",
      "psetup failed: .../casadi/interfaces/sundials/idas_interface.cpp:849: Calculating Jacobian failed\n",
      "psetup failed: .../casadi/interfaces/sundials/idas_interface.cpp:849: Calculating Jacobian failed\n",
      "psetup failed: .../casadi/interfaces/sundials/idas_interface.cpp:849: Calculating Jacobian failed\n",
      "psetup failed: .../casadi/interfaces/sundials/idas_interface.cpp:849: Calculating Jacobian failed\n",
      "psetup failed: .../casadi/interfaces/sundials/idas_interface.cpp:849: Calculating Jacobian failed\n",
      "The residual routine or the linear setup or solve routine had a recoverable error, but IDACalcIC was unable to recover.\n",
      "psetup failed: .../casadi/interfaces/sundials/idas_interface.cpp:849: Calculating Jacobian failed\n",
      "psetup failed: .../casadi/interfaces/sundials/idas_interface.cpp:849: Calculating Jacobian failed\n",
      "psetup failed: .../casadi/interfaces/sundials/idas_interface.cpp:849: Calculating Jacobian failed\n",
      "psetup failed: .../casadi/interfaces/sundials/idas_interface.cpp:849: Calculating Jacobian failed\n",
      "psetup failed: .../casadi/interfaces/sundials/idas_interface.cpp:849: Calculating Jacobian failed\n",
      "The residual routine or the linear setup or solve routine had a recoverable error, but IDACalcIC was unable to recover.\n",
      "psetup failed: .../casadi/interfaces/sundials/idas_interface.cpp:849: Calculating Jacobian failed\n",
      "psetup failed: .../casadi/interfaces/sundials/idas_interface.cpp:849: Calculating Jacobian failed\n",
      "psetup failed: .../casadi/interfaces/sundials/idas_interface.cpp:849: Calculating Jacobian failed\n",
      "psetup failed: .../casadi/interfaces/sundials/idas_interface.cpp:849: Calculating Jacobian failed\n",
      "psetup failed: .../casadi/interfaces/sundials/idas_interface.cpp:849: Calculating Jacobian failed\n",
      "The residual routine or the linear setup or solve routine had a recoverable error, but IDACalcIC was unable to recover.\n",
      "2022-10-14 15:00:56.095 - [ERROR] callbacks.on_experiment_error(226): Simulation error: Maximum number of decreased steps occurred at t=0.0. Try solving the model up to this time only or reducing dt_max (currently, dt_max=56.81250000000035) and/or reducing the size of the time steps or period of the experiment.\n"
     ]
    }
   ],
   "source": [
    "# scan:\n",
    "index_xlsx = 0; # DryOut option merge to Initial electrolyte excessive amount ratio: On and Off\n",
    "Cap_all = [];  Neg1SOC_all=[]; Pos1SOC_all= []; Index_all = []\n",
    "for Para_dict_i in Para_dict_list:\n",
    "   index_xlsx += 1;\n",
    "   try:\n",
    "      Cap, Neg1SOC, Pos1SOC = Get_initial_cap2(Para_dict_i, )\n",
    "   except:\n",
    "      pass\n",
    "   else:\n",
    "      Cap_all .append(Cap);\n",
    "      Neg1SOC_all.append(Neg1SOC)\n",
    "      Pos1SOC_all.append(Pos1SOC)\n",
    "      Index_all.append(index_xlsx)\n"
   ]
  },
  {
   "cell_type": "code",
   "execution_count": 6,
   "metadata": {},
   "outputs": [
    {
     "name": "stdout",
     "output_type": "stream",
     "text": [
      "[]\n"
     ]
    }
   ],
   "source": [
    "print(Index_all)"
   ]
  },
  {
   "cell_type": "code",
   "execution_count": 7,
   "metadata": {},
   "outputs": [],
   "source": [
    "for Index,Cap,Neg1SOC,Pos1SOC in zip(Index_all,Cap_all,Neg1SOC_all,Pos1SOC_all):\n",
    "      print(\n",
    "            Index,Cap,\n",
    "            Neg1SOC,Pos1SOC,)"
   ]
  },
  {
   "cell_type": "code",
   "execution_count": 8,
   "metadata": {},
   "outputs": [],
   "source": [
    "def Fit_cap ( SOC ):\n",
    "    Neg1SOC_i, Pos1SOC_i   = SOC\n",
    "    print('Currently initial SOC is', Neg1SOC_i, \" for Neg and \", Pos1SOC_i , \" for Pos\")\n",
    "    try:\n",
    "        Sol_0, Cap, Neg1SOC, Pos1SOC = Get_initial_cap(\n",
    "            Para_dict_list[0], Neg1SOC_i, Pos1SOC_i\n",
    "        )\n",
    "        print(type(Cap))\n",
    "        print(Cap)\n",
    "        cap_0 = Cap[-1];\n",
    "        error = (cap_0-4.86)*(cap_0-4.86)\n",
    "    except:\n",
    "        cap_0 = 0;\n",
    "        error = 1\n",
    "    else:\n",
    "        pass\n",
    "    return error"
   ]
  },
  {
   "cell_type": "code",
   "execution_count": 9,
   "metadata": {},
   "outputs": [
    {
     "name": "stdout",
     "output_type": "stream",
     "text": [
      "starting SOC is 0.8247802586006052  for Neg and  0.21737831934937263  for Pos\n",
      "Currently initial SOC is 0.8247802586006052  for Neg and  0.21737831934937263  for Pos\n"
     ]
    },
    {
     "name": "stderr",
     "output_type": "stream",
     "text": [
      "2022-10-14 15:00:59.995 - [ERROR] callbacks.on_experiment_error(226): Simulation error: Events ['Maximum voltage'] are non-positive at initial conditions\n"
     ]
    },
    {
     "name": "stdout",
     "output_type": "stream",
     "text": [
      "Currently initial SOC is 0.8247802686006053  for Neg and  0.21737831934937263  for Pos\n"
     ]
    },
    {
     "name": "stderr",
     "output_type": "stream",
     "text": [
      "2022-10-14 15:01:03.325 - [ERROR] callbacks.on_experiment_error(226): Simulation error: Events ['Maximum voltage'] are non-positive at initial conditions\n"
     ]
    },
    {
     "name": "stdout",
     "output_type": "stream",
     "text": [
      "Currently initial SOC is 0.8247802586006052  for Neg and  0.21737832934937262  for Pos\n"
     ]
    },
    {
     "name": "stderr",
     "output_type": "stream",
     "text": [
      "2022-10-14 15:01:06.673 - [ERROR] callbacks.on_experiment_error(226): Simulation error: Events ['Maximum voltage'] are non-positive at initial conditions\n"
     ]
    }
   ],
   "source": [
    "NegSOC_bounds = (0.8,  0.99);\n",
    "PosSOC_bounds = (0.15, 0.40);\n",
    "Neg1SOC = np.random.uniform(\n",
    "    low=NegSOC_bounds[0], \n",
    "    high=NegSOC_bounds[1])\n",
    "Pos1SOC = np.random.uniform(\n",
    "    low=PosSOC_bounds[0], \n",
    "    high=PosSOC_bounds[1])\n",
    "\n",
    "print('starting SOC is', Neg1SOC, \" for Neg and \", Pos1SOC , \" for Pos\")\n",
    "res = scipy.optimize.minimize(\n",
    "    Fit_cap, [Neg1SOC,Pos1SOC], \n",
    "    bounds=[NegSOC_bounds,PosSOC_bounds],\n",
    "    tol = 1e-2,\n",
    "    #, jac=True\n",
    ")\n"
   ]
  },
  {
   "cell_type": "code",
   "execution_count": 10,
   "metadata": {},
   "outputs": [
    {
     "name": "stderr",
     "output_type": "stream",
     "text": [
      "psetup failed: .../casadi/interfaces/sundials/idas_interface.cpp:849: Calculating Jacobian failed\n",
      "psetup failed: .../casadi/interfaces/sundials/idas_interface.cpp:849: Calculating Jacobian failed\n",
      "psetup failed: .../casadi/interfaces/sundials/idas_interface.cpp:849: Calculating Jacobian failed\n",
      "psetup failed: .../casadi/interfaces/sundials/idas_interface.cpp:849: Calculating Jacobian failed\n",
      "psetup failed: .../casadi/interfaces/sundials/idas_interface.cpp:849: Calculating Jacobian failed\n",
      "The residual routine or the linear setup or solve routine had a recoverable error, but IDACalcIC was unable to recover.\n",
      "psetup failed: .../casadi/interfaces/sundials/idas_interface.cpp:849: Calculating Jacobian failed\n",
      "psetup failed: .../casadi/interfaces/sundials/idas_interface.cpp:849: Calculating Jacobian failed\n",
      "psetup failed: .../casadi/interfaces/sundials/idas_interface.cpp:849: Calculating Jacobian failed\n",
      "psetup failed: .../casadi/interfaces/sundials/idas_interface.cpp:849: Calculating Jacobian failed\n",
      "psetup failed: .../casadi/interfaces/sundials/idas_interface.cpp:849: Calculating Jacobian failed\n",
      "The residual routine or the linear setup or solve routine had a recoverable error, but IDACalcIC was unable to recover.\n",
      "psetup failed: .../casadi/interfaces/sundials/idas_interface.cpp:849: Calculating Jacobian failed\n",
      "psetup failed: .../casadi/interfaces/sundials/idas_interface.cpp:849: Calculating Jacobian failed\n",
      "psetup failed: .../casadi/interfaces/sundials/idas_interface.cpp:849: Calculating Jacobian failed\n",
      "psetup failed: .../casadi/interfaces/sundials/idas_interface.cpp:849: Calculating Jacobian failed\n",
      "psetup failed: .../casadi/interfaces/sundials/idas_interface.cpp:849: Calculating Jacobian failed\n",
      "The residual routine or the linear setup or solve routine had a recoverable error, but IDACalcIC was unable to recover.\n",
      "psetup failed: .../casadi/interfaces/sundials/idas_interface.cpp:849: Calculating Jacobian failed\n",
      "psetup failed: .../casadi/interfaces/sundials/idas_interface.cpp:849: Calculating Jacobian failed\n",
      "psetup failed: .../casadi/interfaces/sundials/idas_interface.cpp:849: Calculating Jacobian failed\n",
      "psetup failed: .../casadi/interfaces/sundials/idas_interface.cpp:849: Calculating Jacobian failed\n",
      "psetup failed: .../casadi/interfaces/sundials/idas_interface.cpp:849: Calculating Jacobian failed\n",
      "The residual routine or the linear setup or solve routine had a recoverable error, but IDACalcIC was unable to recover.\n",
      "psetup failed: .../casadi/interfaces/sundials/idas_interface.cpp:849: Calculating Jacobian failed\n",
      "psetup failed: .../casadi/interfaces/sundials/idas_interface.cpp:849: Calculating Jacobian failed\n",
      "psetup failed: .../casadi/interfaces/sundials/idas_interface.cpp:849: Calculating Jacobian failed\n",
      "psetup failed: .../casadi/interfaces/sundials/idas_interface.cpp:849: Calculating Jacobian failed\n",
      "psetup failed: .../casadi/interfaces/sundials/idas_interface.cpp:849: Calculating Jacobian failed\n",
      "The residual routine or the linear setup or solve routine had a recoverable error, but IDACalcIC was unable to recover.\n",
      "2022-10-14 15:01:10.458 - [ERROR] callbacks.on_experiment_error(226): Simulation error: Maximum number of decreased steps occurred at t=0.0. Try solving the model up to this time only or reducing dt_max (currently, dt_max=56.81250000000035) and/or reducing the size of the time steps or period of the experiment.\n"
     ]
    },
    {
     "ename": "SolverError",
     "evalue": "Maximum number of decreased steps occurred at t=0.0. Try solving the model up to this time only or reducing dt_max (currently, dt_max=56.81250000000035) and/or reducing the size of the time steps or period of the experiment.",
     "output_type": "error",
     "traceback": [
      "\u001b[1;31m---------------------------------------------------------------------------\u001b[0m",
      "\u001b[1;31mSolverError\u001b[0m                               Traceback (most recent call last)",
      "\u001b[1;32md:\\GitPyBaMM\\LRH_409\\LRH_409\\envSolCon\\PyBaMM-GEM\\wip\\Rio_Code\\P2_R5_FitExp\\office\\a2_Use_Func_FitCap.ipynb Cell 11\u001b[0m in \u001b[0;36m<cell line: 1>\u001b[1;34m()\u001b[0m\n\u001b[1;32m----> <a href='vscode-notebook-cell:/d%3A/GitPyBaMM/LRH_409/LRH_409/envSolCon/PyBaMM-GEM/wip/Rio_Code/P2_R5_FitExp/office/a2_Use_Func_FitCap.ipynb#X13sZmlsZQ%3D%3D?line=0'>1</a>\u001b[0m Cap, Neg1SOC, Pos1SOC \u001b[39m=\u001b[39m Get_initial_cap2(\n\u001b[0;32m      <a href='vscode-notebook-cell:/d%3A/GitPyBaMM/LRH_409/LRH_409/envSolCon/PyBaMM-GEM/wip/Rio_Code/P2_R5_FitExp/office/a2_Use_Func_FitCap.ipynb#X13sZmlsZQ%3D%3D?line=1'>2</a>\u001b[0m             Para_dict_list[\u001b[39m0\u001b[39;49m]\n\u001b[0;32m      <a href='vscode-notebook-cell:/d%3A/GitPyBaMM/LRH_409/LRH_409/envSolCon/PyBaMM-GEM/wip/Rio_Code/P2_R5_FitExp/office/a2_Use_Func_FitCap.ipynb#X13sZmlsZQ%3D%3D?line=2'>3</a>\u001b[0m         )\n\u001b[0;32m      <a href='vscode-notebook-cell:/d%3A/GitPyBaMM/LRH_409/LRH_409/envSolCon/PyBaMM-GEM/wip/Rio_Code/P2_R5_FitExp/office/a2_Use_Func_FitCap.ipynb#X13sZmlsZQ%3D%3D?line=3'>4</a>\u001b[0m \u001b[39m\"\"\" 12 [4.8728428390998655, 4.858536253367931] \u001b[39;00m\n\u001b[0;32m      <a href='vscode-notebook-cell:/d%3A/GitPyBaMM/LRH_409/LRH_409/envSolCon/PyBaMM-GEM/wip/Rio_Code/P2_R5_FitExp/office/a2_Use_Func_FitCap.ipynb#X13sZmlsZQ%3D%3D?line=4'>5</a>\u001b[0m \u001b[39m[0.8519999999999996, 0.8471043791226032] \u001b[39;00m\n\u001b[0;32m      <a href='vscode-notebook-cell:/d%3A/GitPyBaMM/LRH_409/LRH_409/envSolCon/PyBaMM-GEM/wip/Rio_Code/P2_R5_FitExp/office/a2_Use_Func_FitCap.ipynb#X13sZmlsZQ%3D%3D?line=5'>6</a>\u001b[0m \u001b[39m[0.2700000000000001, 0.2710723194914279] \"\"\"\u001b[39;00m\n",
      "File \u001b[1;32md:\\gitpybamm\\lrh_409\\lrh_409\\envsolcon\\pybamm-gem\\wip\\Rio_Code\\Fun_P2\\Fun_P2_Crack_simp.py:756\u001b[0m, in \u001b[0;36mGet_initial_cap2\u001b[1;34m(Para_dict_i)\u001b[0m\n\u001b[0;32m    748\u001b[0m     submesh_types[\u001b[39m\"\u001b[39m\u001b[39mpositive particle\u001b[39m\u001b[39m\"\u001b[39m] \u001b[39m=\u001b[39m particle_mesh \n\u001b[0;32m    750\u001b[0m Sim_0    \u001b[39m=\u001b[39m pb\u001b[39m.\u001b[39mSimulation(\n\u001b[0;32m    751\u001b[0m         Model_0,        experiment \u001b[39m=\u001b[39m Experiment_RPT,\n\u001b[0;32m    752\u001b[0m         parameter_values \u001b[39m=\u001b[39m Para_0,\n\u001b[0;32m    753\u001b[0m         solver \u001b[39m=\u001b[39m pb\u001b[39m.\u001b[39mCasadiSolver(),\n\u001b[0;32m    754\u001b[0m         var_pts\u001b[39m=\u001b[39mvar_pts,\n\u001b[0;32m    755\u001b[0m         submesh_types\u001b[39m=\u001b[39msubmesh_types) \u001b[39m#mode=\"safe\"\u001b[39;00m\n\u001b[1;32m--> 756\u001b[0m Sol_0    \u001b[39m=\u001b[39m Sim_0\u001b[39m.\u001b[39;49msolve(calc_esoh\u001b[39m=\u001b[39;49m\u001b[39mFalse\u001b[39;49;00m)\n\u001b[0;32m    758\u001b[0m Cap \u001b[39m=\u001b[39m [];  Neg1SOC\u001b[39m=\u001b[39m[]; Pos1SOC \u001b[39m=\u001b[39m [];\n\u001b[0;32m    760\u001b[0m \u001b[39mfor\u001b[39;00m i \u001b[39min\u001b[39;00m \u001b[39mrange\u001b[39m(\u001b[39m0\u001b[39m,RPT_Cycles):\n",
      "File \u001b[1;32md:\\gitpybamm\\lrh_409\\lrh_409\\envsolcon\\pybamm-gem\\pybamm\\simulation.py:848\u001b[0m, in \u001b[0;36mSimulation.solve\u001b[1;34m(self, t_eval, solver, check_model, save_at_cycles, calc_esoh, starting_solution, initial_soc, callbacks, **kwargs)\u001b[0m\n\u001b[0;32m    846\u001b[0m \u001b[39m# If none of the cycles worked, raise an error\u001b[39;00m\n\u001b[0;32m    847\u001b[0m \u001b[39mif\u001b[39;00m cycle_num \u001b[39m==\u001b[39m \u001b[39m1\u001b[39m \u001b[39mand\u001b[39;00m step_num \u001b[39m==\u001b[39m \u001b[39m1\u001b[39m:\n\u001b[1;32m--> 848\u001b[0m     \u001b[39mraise\u001b[39;00m error\n\u001b[0;32m    849\u001b[0m \u001b[39m# Otherwise, just stop this cycle\u001b[39;00m\n\u001b[0;32m    850\u001b[0m \u001b[39mbreak\u001b[39;00m\n",
      "File \u001b[1;32md:\\gitpybamm\\lrh_409\\lrh_409\\envsolcon\\pybamm-gem\\pybamm\\simulation.py:826\u001b[0m, in \u001b[0;36mSimulation.solve\u001b[1;34m(self, t_eval, solver, check_model, save_at_cycles, calc_esoh, starting_solution, initial_soc, callbacks, **kwargs)\u001b[0m\n\u001b[0;32m    824\u001b[0m npts \u001b[39m=\u001b[39m \u001b[39mmax\u001b[39m(\u001b[39mint\u001b[39m(\u001b[39mround\u001b[39m(dt \u001b[39m/\u001b[39m exp_inputs[\u001b[39m\"\u001b[39m\u001b[39mperiod\u001b[39m\u001b[39m\"\u001b[39m])) \u001b[39m+\u001b[39m \u001b[39m1\u001b[39m, \u001b[39m2\u001b[39m)\n\u001b[0;32m    825\u001b[0m \u001b[39mtry\u001b[39;00m:\n\u001b[1;32m--> 826\u001b[0m     step_solution \u001b[39m=\u001b[39m solver\u001b[39m.\u001b[39mstep(\n\u001b[0;32m    827\u001b[0m         current_solution,\n\u001b[0;32m    828\u001b[0m         model,\n\u001b[0;32m    829\u001b[0m         dt,\n\u001b[0;32m    830\u001b[0m         npts\u001b[39m=\u001b[39mnpts,\n\u001b[0;32m    831\u001b[0m         save\u001b[39m=\u001b[39m\u001b[39mFalse\u001b[39;00m,\n\u001b[0;32m    832\u001b[0m         \u001b[39m*\u001b[39m\u001b[39m*\u001b[39mkwargs,\n\u001b[0;32m    833\u001b[0m     )\n\u001b[0;32m    834\u001b[0m \u001b[39mexcept\u001b[39;00m pybamm\u001b[39m.\u001b[39mSolverError \u001b[39mas\u001b[39;00m error:\n\u001b[0;32m    835\u001b[0m     \u001b[39mif\u001b[39;00m (\n\u001b[0;32m    836\u001b[0m         \u001b[39m\"\u001b[39m\u001b[39mnon-positive at initial conditions\u001b[39m\u001b[39m\"\u001b[39m \u001b[39min\u001b[39;00m error\u001b[39m.\u001b[39mmessage\n\u001b[0;32m    837\u001b[0m         \u001b[39mand\u001b[39;00m \u001b[39m\"\u001b[39m\u001b[39m[experiment]\u001b[39m\u001b[39m\"\u001b[39m \u001b[39min\u001b[39;00m error\u001b[39m.\u001b[39mmessage\n\u001b[0;32m    838\u001b[0m     ):\n",
      "File \u001b[1;32md:\\gitpybamm\\lrh_409\\lrh_409\\envsolcon\\pybamm-gem\\pybamm\\solvers\\base_solver.py:1206\u001b[0m, in \u001b[0;36mBaseSolver.step\u001b[1;34m(self, old_solution, model, dt, npts, external_variables, inputs, save)\u001b[0m\n\u001b[0;32m   1199\u001b[0m pybamm\u001b[39m.\u001b[39mlogger\u001b[39m.\u001b[39mverbose(\n\u001b[0;32m   1200\u001b[0m     \u001b[39m\"\u001b[39m\u001b[39mStepping for \u001b[39m\u001b[39m{:.0f}\u001b[39;00m\u001b[39m < t < \u001b[39m\u001b[39m{:.0f}\u001b[39;00m\u001b[39m\"\u001b[39m\u001b[39m.\u001b[39mformat(\n\u001b[0;32m   1201\u001b[0m         t \u001b[39m*\u001b[39m model\u001b[39m.\u001b[39mtimescale_eval,\n\u001b[0;32m   1202\u001b[0m         (t \u001b[39m+\u001b[39m dt_dimensionless) \u001b[39m*\u001b[39m model\u001b[39m.\u001b[39mtimescale_eval,\n\u001b[0;32m   1203\u001b[0m     )\n\u001b[0;32m   1204\u001b[0m )\n\u001b[0;32m   1205\u001b[0m timer\u001b[39m.\u001b[39mreset()\n\u001b[1;32m-> 1206\u001b[0m solution \u001b[39m=\u001b[39m \u001b[39mself\u001b[39;49m\u001b[39m.\u001b[39;49m_integrate(model, t_eval, ext_and_inputs)\n\u001b[0;32m   1207\u001b[0m solution\u001b[39m.\u001b[39msolve_time \u001b[39m=\u001b[39m timer\u001b[39m.\u001b[39mtime()\n\u001b[0;32m   1209\u001b[0m \u001b[39m# Check if extrapolation occurred\u001b[39;00m\n",
      "File \u001b[1;32md:\\gitpybamm\\lrh_409\\lrh_409\\envsolcon\\pybamm-gem\\pybamm\\solvers\\casadi_solver.py:234\u001b[0m, in \u001b[0;36mCasadiSolver._integrate\u001b[1;34m(self, model, t_eval, inputs_dict)\u001b[0m\n\u001b[0;32m    232\u001b[0m         t_dim \u001b[39m=\u001b[39m t \u001b[39m*\u001b[39m model\u001b[39m.\u001b[39mtimescale_eval\n\u001b[0;32m    233\u001b[0m         dt_max_dim \u001b[39m=\u001b[39m dt_max \u001b[39m*\u001b[39m model\u001b[39m.\u001b[39mtimescale_eval\n\u001b[1;32m--> 234\u001b[0m         \u001b[39mraise\u001b[39;00m pybamm\u001b[39m.\u001b[39mSolverError(\n\u001b[0;32m    235\u001b[0m             \u001b[39mf\u001b[39m\u001b[39m\"\u001b[39m\u001b[39mMaximum number of decreased steps occurred at t=\u001b[39m\u001b[39m{\u001b[39;00mt_dim\u001b[39m}\u001b[39;00m\u001b[39m. \u001b[39m\u001b[39m\"\u001b[39m\n\u001b[0;32m    236\u001b[0m             \u001b[39m\"\u001b[39m\u001b[39mTry solving the model up to this time only or reducing \u001b[39m\u001b[39m\"\u001b[39m\n\u001b[0;32m    237\u001b[0m             \u001b[39mf\u001b[39m\u001b[39m\"\u001b[39m\u001b[39mdt_max (currently, dt_max=\u001b[39m\u001b[39m{\u001b[39;00mdt_max_dim\u001b[39m}\u001b[39;00m\u001b[39m) and/or reducing \u001b[39m\u001b[39m\"\u001b[39m\n\u001b[0;32m    238\u001b[0m             \u001b[39m\"\u001b[39m\u001b[39mthe size of the time steps or period of the experiment.\u001b[39m\u001b[39m\"\u001b[39m\n\u001b[0;32m    239\u001b[0m         )\n\u001b[0;32m    240\u001b[0m \u001b[39m# Check if the sign of an event changes, if so find an accurate\u001b[39;00m\n\u001b[0;32m    241\u001b[0m \u001b[39m# termination point and exit\u001b[39;00m\n\u001b[0;32m    242\u001b[0m current_step_sol \u001b[39m=\u001b[39m \u001b[39mself\u001b[39m\u001b[39m.\u001b[39m_solve_for_event(current_step_sol)\n",
      "\u001b[1;31mSolverError\u001b[0m: Maximum number of decreased steps occurred at t=0.0. Try solving the model up to this time only or reducing dt_max (currently, dt_max=56.81250000000035) and/or reducing the size of the time steps or period of the experiment."
     ]
    }
   ],
   "source": [
    "Cap, Neg1SOC, Pos1SOC = Get_initial_cap2(\n",
    "            Para_dict_list[0]\n",
    "        )\n",
    "\"\"\" 12 [4.8728428390998655, 4.858536253367931] \n",
    "[0.8519999999999996, 0.8471043791226032] \n",
    "[0.2700000000000001, 0.2710723194914279] \"\"\""
   ]
  },
  {
   "cell_type": "code",
   "execution_count": null,
   "metadata": {},
   "outputs": [],
   "source": [
    "print(Cap, Neg1SOC, Pos1SOC)"
   ]
  },
  {
   "cell_type": "code",
   "execution_count": null,
   "metadata": {},
   "outputs": [],
   "source": []
  }
 ],
 "metadata": {
  "kernelspec": {
   "display_name": "Python 3.9.4 ('envPBGEM')",
   "language": "python",
   "name": "python3"
  },
  "language_info": {
   "codemirror_mode": {
    "name": "ipython",
    "version": 3
   },
   "file_extension": ".py",
   "mimetype": "text/x-python",
   "name": "python",
   "nbconvert_exporter": "python",
   "pygments_lexer": "ipython3",
   "version": "3.9.4"
  },
  "orig_nbformat": 4,
  "vscode": {
   "interpreter": {
    "hash": "538436ab772540209705689409ae69546dd51073c4c5e92d4121144f40993c02"
   }
  }
 },
 "nbformat": 4,
 "nbformat_minor": 2
}
