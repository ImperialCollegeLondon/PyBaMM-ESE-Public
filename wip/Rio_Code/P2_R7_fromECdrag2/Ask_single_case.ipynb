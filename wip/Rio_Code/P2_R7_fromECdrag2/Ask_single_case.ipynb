{
 "cells": [
  {
   "cell_type": "code",
   "execution_count": 1,
   "metadata": {},
   "outputs": [],
   "source": [
    "import pybamm \n",
    "import matplotlib as mpl\n",
    "fs=17;\n",
    "font = {'family' : 'DejaVu Sans','size'   : fs}\n",
    "mpl.rc('font', **font)"
   ]
  },
  {
   "cell_type": "code",
   "execution_count": 2,
   "metadata": {},
   "outputs": [
    {
     "name": "stdout",
     "output_type": "stream",
     "text": [
      "d:\\gitpybamm\\lrh_409\\lrh_409\\envpbgem\\pybamm-gem\\pybamm\\input\\parameters\\lithium_ion\n"
     ]
    }
   ],
   "source": [
    "V_max = 4.0;  V_min = 2.7; \n",
    "model_0 = pybamm.lithium_ion.DFN(options={\n",
    "    \"calculate discharge energy\":\"true\", },)\n",
    "exp_AGE_text = [(f\"Discharge at 1 C until {V_min} V\", \n",
    "    f\"Charge at 1 C until {V_max} V\", ),  ]\n",
    "Experiment    = pybamm.Experiment( exp_AGE_text * 1)\n",
    "Para_0 = pybamm.ParameterValues(\"Li2023_Coupled\" )\n",
    "\n",
    "Sim_0= pybamm.Simulation(\n",
    "    model_0,\n",
    "    experiment = Experiment, \n",
    "    parameter_values=Para_0, \n",
    "    solver = pybamm.CasadiSolver(),)\n",
    "Sol_0 = Sim_0.solve(calc_esoh=False,) \n",
    "\n",
    "model_1 = model_0.set_initial_conditions_from(Sol_0, inplace=False)\n",
    "Sim_1= pybamm.Simulation(\n",
    "    model_1,\n",
    "    experiment = Experiment, \n",
    "    parameter_values=Para_0, \n",
    "    solver = pybamm.CasadiSolver(),)\n",
    "Sol_1 = Sim_1.solve(calc_esoh=False,) \n",
    "\n",
    "model_2 = model_0.set_initial_conditions_from(Sol_1, inplace=False)\n",
    "Sim_2= pybamm.Simulation(\n",
    "    model_2,\n",
    "    experiment = Experiment, \n",
    "    parameter_values=Para_0, \n",
    "    solver = pybamm.CasadiSolver(),)\n",
    "Sol_2 = Sim_2.solve(calc_esoh=False,) \n"
   ]
  },
  {
   "cell_type": "code",
   "execution_count": 9,
   "metadata": {},
   "outputs": [],
   "source": [
    "V_max = 4.0;  V_min = 2.7; \n",
    "model_0 = pybamm.lithium_ion.DFN(options={\n",
    "    \"calculate discharge energy\":\"true\", },)\n",
    "exp_AGE_text = [(f\"Discharge at 1 C until {V_min} V\", \n",
    "    f\"Charge at 1 C until {V_max} V\", ),  ]\n",
    "Experiment    = pybamm.Experiment( exp_AGE_text * 1)\n",
    "Para_0 = pybamm.ParameterValues(\"OKane2023\" )\n",
    "\n",
    "Sim_0= pybamm.Simulation(\n",
    "    model_0,\n",
    "    experiment = Experiment, \n",
    "    parameter_values=Para_0, \n",
    "    solver = pybamm.CasadiSolver(),)\n",
    "Sol_0 = Sim_0.solve(calc_esoh=False,) \n",
    "\n",
    "model_1 = model_0.set_initial_conditions_from(Sol_0, inplace=False)\n",
    "Sim_1= pybamm.Simulation(\n",
    "    model_1,\n",
    "    experiment = Experiment, \n",
    "    parameter_values=Para_0, \n",
    "    solver = pybamm.CasadiSolver(),)\n",
    "Sol_1 = Sim_1.solve(calc_esoh=False,) \n",
    "\n",
    "model_2 = model_0.set_initial_conditions_from(Sol_1, inplace=False)\n",
    "Sim_2= pybamm.Simulation(\n",
    "    model_2,\n",
    "    experiment = Experiment, \n",
    "    parameter_values=Para_0, \n",
    "    solver = pybamm.CasadiSolver(),)\n",
    "Sol_2 = Sim_2.solve(calc_esoh=False,) \n"
   ]
  },
  {
   "cell_type": "code",
   "execution_count": 21,
   "metadata": {},
   "outputs": [
    {
     "name": "stdout",
     "output_type": "stream",
     "text": [
      "5.827615068509378\n",
      "8.7323185203129\n",
      "8.7323185203129\n",
      "5.827615068509379\n"
     ]
    }
   ],
   "source": [
    "# determine cs_max and cs_int\n",
    "L_pos = Para_0[\"Positive electrode thickness [m]\"]\n",
    "L_neg = Para_0[\"Negative electrode thickness [m]\"]\n",
    "eps_pos = Para_0[\"Positive electrode active material volume fraction\"]\n",
    "eps_neg = Para_0[\"Negative electrode active material volume fraction\"]\n",
    "F = Para_0.evaluate(model_0.param.F)  \n",
    "A_cc = Para_0.evaluate(model_0.param.A_cc)  \n",
    "cs_pos_max = Para_0[\"Maximum concentration in positive electrode [mol.m-3]\"]\n",
    "cs_neg_max = Para_0[\"Maximum concentration in negative electrode [mol.m-3]\"]\n",
    "print(Sol_0[\"Negative electrode capacity [A.h]\"].entries[0])\n",
    "print(Sol_0[\"Positive electrode capacity [A.h]\"].entries[0])\n",
    "\"\"\" \n",
    "Based on pybamm, electrode capacity is:\n",
    "C = (\n",
    "    pybamm.yz_average(eps_solid_av)\n",
    "    * L\n",
    "    * param.A_cc\n",
    "    * c_s_max\n",
    "    * param.F\n",
    "    / 3600\n",
    ") \"\"\"\n",
    "cap_pos = eps_pos*L_pos*A_cc*cs_pos_max*F/3600\n",
    "cap_neg = eps_neg*L_neg*A_cc*cs_neg_max*F/3600\n",
    "print(cap_pos)\n",
    "print(cap_neg)"
   ]
  },
  {
   "cell_type": "code",
   "execution_count": 23,
   "metadata": {},
   "outputs": [
    {
     "name": "stdout",
     "output_type": "stream",
     "text": [
      "40663.316804288836 63104.0\n",
      "30133.12254682243 33133.0\n"
     ]
    }
   ],
   "source": [
    "cap_pos_exp = 5626.98140256469/1000;\n",
    "cap_neg_exp = 5299.98005055691/1000;\n",
    "cs_pos_max_exp = cap_pos_exp / (eps_pos*L_pos*A_cc*F/3600)\n",
    "cs_neg_max_exp = cap_neg_exp / (eps_neg*L_neg*A_cc*F/3600)\n",
    "print(cs_pos_max_exp,cs_pos_max)\n",
    "print(cs_neg_max_exp,cs_neg_max)"
   ]
  },
  {
   "cell_type": "code",
   "execution_count": 7,
   "metadata": {},
   "outputs": [
    {
     "data": {
      "application/vnd.jupyter.widget-view+json": {
       "model_id": "63a2939b8b3541318e01ece3132630c7",
       "version_major": 2,
       "version_minor": 0
      },
      "text/plain": [
       "interactive(children=(FloatSlider(value=0.0, description='t', max=1.746530625277651, step=0.017465306252776508…"
      ]
     },
     "metadata": {},
     "output_type": "display_data"
    }
   ],
   "source": [
    "\n",
    "label = [\"Sol_0\",\"Sol_1\",\"Sol_2\",] \n",
    "output_variables3 = [\n",
    "    \"Positive electrode capacity [A.h]\",\n",
    "    \"Negative electrode capacity [A.h]\", \n",
    "    \"Terminal voltage [V]\", \n",
    "]\n",
    "quick_plot = pybamm.QuickPlot(\n",
    "    [Sol_0,Sol_1,Sol_2,], output_variables3,label,variable_limits='fixed',\n",
    "    time_unit='hours',n_rows=1) #figsize = (18,12),\n",
    "quick_plot.dynamic_plot()"
   ]
  },
  {
   "cell_type": "code",
   "execution_count": 6,
   "metadata": {},
   "outputs": [
    {
     "data": {
      "application/vnd.jupyter.widget-view+json": {
       "model_id": "5fe622f3acf24aeb84ffbcb33dae9fb9",
       "version_major": 2,
       "version_minor": 0
      },
      "text/plain": [
       "interactive(children=(FloatSlider(value=0.0, description='t', max=1.5167622460072738, step=0.01516762246007273…"
      ]
     },
     "metadata": {},
     "output_type": "display_data"
    }
   ],
   "source": [
    "label = [\"Sol_2 whole\",\"Sol_2 cycles\",\"Sol_2 steps\",] \n",
    "quick_plot = pybamm.QuickPlot(\n",
    "    [Sol_2,Sol_2.cycles[0],Sol_2.cycles[0].steps[0]], output_variables3,label,variable_limits='fixed',\n",
    "    time_unit='hours',n_rows=1) \n",
    "quick_plot.dynamic_plot()"
   ]
  }
 ],
 "metadata": {
  "kernelspec": {
   "display_name": "Python 3.9.6 ('envPBGEM')",
   "language": "python",
   "name": "python3"
  },
  "language_info": {
   "codemirror_mode": {
    "name": "ipython",
    "version": 3
   },
   "file_extension": ".py",
   "mimetype": "text/x-python",
   "name": "python",
   "nbconvert_exporter": "python",
   "pygments_lexer": "ipython3",
   "version": "3.9.6 (tags/v3.9.6:db3ff76, Jun 28 2021, 15:26:21) [MSC v.1929 64 bit (AMD64)]"
  },
  "orig_nbformat": 4,
  "vscode": {
   "interpreter": {
    "hash": "83fab7fbb3a8fe7b5910804f702478ef63e2cc6a08d85072a5d68865ed0fd8c7"
   }
  }
 },
 "nbformat": 4,
 "nbformat_minor": 2
}
