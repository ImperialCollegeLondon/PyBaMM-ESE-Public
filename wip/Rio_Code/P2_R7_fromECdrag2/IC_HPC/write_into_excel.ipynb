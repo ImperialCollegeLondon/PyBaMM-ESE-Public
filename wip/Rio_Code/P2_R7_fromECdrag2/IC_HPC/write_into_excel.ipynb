{
 "cells": [
  {
   "cell_type": "code",
   "execution_count": 1,
   "metadata": {},
   "outputs": [],
   "source": [
    "import pybamm as pb;import pandas as pd   ;import numpy as np;import os;import matplotlib.pyplot as plt;import os;#import imageio\n",
    "from scipy.io import savemat,loadmat;from pybamm import constants,exp;import matplotlib as mpl; fs=17; # or we can set import matplotlib.pyplot as plt then say 'mpl.rc...'\n",
    "import openpyxl\n",
    "import traceback\n",
    "import multiprocessing\n",
    "import scipy.optimize\n",
    "import random;import time, signal\n",
    "fs=17;\n",
    "font = {'family' : 'DejaVu Sans','size'   : fs}\n",
    "mpl.rc('font', **font)\n",
    "\n",
    "import sys  \n",
    "str_path_0 = os.path.abspath(os.path.join(pb.__path__[0],'..'))\n",
    "str_path_1 = os.path.abspath(os.path.join(str_path_0,\"wip\\Rio_Code\\Fun_P2\"))\n",
    "sys.path.append(str_path_1) \n",
    "from Fun_P2 import (\n",
    "    GetScan,\n",
    "    recursive_scan,\n",
    "    Para_init,\n",
    "    Run_model_wwo_dry_out ,\n",
    "    Cal_new_con_Update,\n",
    "    Run_Model_Base_On_Last_Solution,\n",
    "    Run_Model_Base_On_Last_Solution_RPT,\n",
    "    write_excel_xlsx,\n",
    "    Get_initial_cap,\n",
    "    Get_initial_cap2,\n",
    "    handle_signal,\n",
    "    Run_P2_till_Fail,\n",
    ")"
   ]
  },
  {
   "cell_type": "code",
   "execution_count": 4,
   "metadata": {},
   "outputs": [
    {
     "name": "stdout",
     "output_type": "stream",
     "text": [
      "<class 'list'>\n"
     ]
    }
   ],
   "source": [
    "BasicPath = 'D:/OneDrive - Imperial College London/SimDataSave/P2R7/P2_Long_221114'\n",
    "#BasicPath=os.getcwd() \\a2_1_sol_long_3\n",
    "Target  = '/a2_1_sol_long_6/'\n",
    "if not os.path.exists(BasicPath + Target):\n",
    "   os.mkdir(BasicPath + Target);\n",
    "book_name_xlsx = 'a2_1_6.xlsx';\n",
    "\n",
    "sheet_name_xlsx = 'Results';\n",
    "\n",
    "Path_pack = [BasicPath,Target,book_name_xlsx,sheet_name_xlsx,];\n",
    "index_list = np.arange(1,25,1).tolist()\n",
    "print(type(index_list))"
   ]
  },
  {
   "cell_type": "code",
   "execution_count": 5,
   "metadata": {},
   "outputs": [
    {
     "name": "stdout",
     "output_type": "stream",
     "text": [
      "Something goes wrong for Scan 1!\n",
      "Something goes wrong for Scan 2!\n",
      "Successfuly write results for Scan 3!\n",
      "Something goes wrong for Scan 4!\n",
      "Something goes wrong for Scan 5!\n",
      "Something goes wrong for Scan 6!\n",
      "Something goes wrong for Scan 7!\n",
      "Something goes wrong for Scan 8!\n",
      "Something goes wrong for Scan 9!\n",
      "Something goes wrong for Scan 10!\n",
      "Something goes wrong for Scan 11!\n",
      "Something goes wrong for Scan 12!\n",
      "Something goes wrong for Scan 13!\n",
      "Something goes wrong for Scan 14!\n",
      "Something goes wrong for Scan 15!\n",
      "Something goes wrong for Scan 16!\n",
      "Something goes wrong for Scan 17!\n",
      "Something goes wrong for Scan 18!\n",
      "Something goes wrong for Scan 19!\n",
      "Something goes wrong for Scan 20!\n",
      "Something goes wrong for Scan 21!\n",
      "Something goes wrong for Scan 22!\n",
      "Something goes wrong for Scan 23!\n",
      "Something goes wrong for Scan 24!\n"
     ]
    },
    {
     "name": "stderr",
     "output_type": "stream",
     "text": [
      "C:\\Users\\rl1120\\AppData\\Local\\Temp\\ipykernel_4996\\2129864516.py:11: DeprecationWarning: Call to deprecated function get_sheet_by_name (Use wb[sheetname]).\n",
      "  table_old = data_old.get_sheet_by_name(str(index_list_i))\n",
      "C:\\Users\\rl1120\\AppData\\Local\\Temp\\ipykernel_4996\\2129864516.py:16: DeprecationWarning: Call to deprecated function get_sheet_by_name (Use wb[sheetname]).\n",
      "  table_tar = data_tar.get_sheet_by_name(sheet_name_xlsx)\n"
     ]
    }
   ],
   "source": [
    "# Write all seperate excel files into a big file:\n",
    "for index_list_i in index_list:\n",
    "    #print(index_list_i)\n",
    "    try:\n",
    "        old_book = str(index_list_i) + '_' + book_name_xlsx\n",
    "        #print(old_book)\n",
    "        #open excel:\n",
    "        data_old = openpyxl.load_workbook(BasicPath + Target + old_book)   \n",
    "        data_tar = openpyxl.load_workbook(BasicPath + Target + book_name_xlsx) \n",
    "\n",
    "        table_old = data_old.get_sheet_by_name(str(index_list_i))\n",
    "        nrows_old = table_old.max_row  # 获得行数\n",
    "        ncolumns_old = table_old.max_column  # 获得列数\n",
    "\n",
    "\n",
    "        table_tar = data_tar.get_sheet_by_name(sheet_name_xlsx)\n",
    "        nrows_tar = table_tar.max_row  # 获得行数\n",
    "        ncolumns_old = table_old.max_column  # 获得列数\n",
    "        list_old = [];\n",
    "        #print(nrows_old,nrows_tar)\n",
    "        for i in range(1,nrows_old+1):\n",
    "            for j in range(1,ncolumns_old+1):\n",
    "                list_old.append(table_old.cell(row=i,column=j).value)\n",
    "        \n",
    "        list_old = [list_old,]\n",
    "        for i in range(1, len(list_old)+1):\n",
    "                for j in range(1, len(list_old[i-1])+1):\n",
    "                    #print(i,j,list_old[i-1][j-1]    )\n",
    "                    table_tar.cell(nrows_tar+i, j).value = list_old[i-1][j-1]     \n",
    "        data_tar.save(BasicPath + Target + book_name_xlsx) \n",
    "        data_tar.close()\n",
    "    except:\n",
    "        print(f\"Something goes wrong for Scan {index_list_i}!\")\n",
    "    else:\n",
    "        print(f\"Successfuly write results for Scan {index_list_i}!\") "
   ]
  },
  {
   "cell_type": "code",
   "execution_count": 7,
   "metadata": {},
   "outputs": [
    {
     "name": "stdout",
     "output_type": "stream",
     "text": [
      "Total scan case is 8\n"
     ]
    }
   ],
   "source": [
    "# see how many scans do we have?\n",
    "########################  Input  ########################\n",
    "# all values here must be a list, even it is a single object\n",
    "Para_dict_All = {\n",
    "   \"Total ageing cycles\":[1170,],\n",
    "   \"Ageing cycles between RPT\":[78,],\n",
    "   \"Update cycles for ageing\":[13,],\n",
    "   \"Cycles within RPT\":[2,],\n",
    "   \"Ageing temperature\":[25,],\n",
    "   \"RPT temperature\":[25,],\n",
    "   \"Particle mesh points\":[30,],   # Simon uses 30\n",
    "   #\"Exponential mesh stretch\":[1.0],\n",
    "   \"Para_Set\":[ \"Li2023_Coupled\",],\n",
    "   \"Model option\":[\n",
    "         {\n",
    "            \"calculate discharge energy\":\"true\",\n",
    "            \"particle\": \"Fickian diffusion\",          \n",
    "            \"SEI\":\"ec reaction limited\",   \n",
    "            \"SEI on cracks\":\"true\",  \n",
    "            \"SEI film resistance\":\"distributed\",          \n",
    "            \"SEI porosity change\":\"true\",      \n",
    "            \"particle mechanics\":(\"swelling and cracking\", \"swelling only\"), \n",
    "            \"loss of active material\":\"stress-driven\", \n",
    "            \"lithium plating\":\"partially reversible\"      },\n",
    "         ],\n",
    "   \"Inner SEI reaction proportion\":[0.5,],\n",
    "   \"Ratio of lithium moles to SEI moles\":[1.25, 2,], # I have always been using 1 for solvent consumption model\n",
    "   \"Initial inner SEI thickness [m]\":[2.5E-9,],\n",
    "   \"Initial outer SEI thickness [m]\":[2.5E-9,],\n",
    "   \"SEI growth activation energy [J.mol-1]\":[38000,],\n",
    "   # Solvent consumption sub-model\n",
    "   \"Initial electrolyte excessive amount ratio\":[1.25, 2.0,], # set to <1 for DryOut=Off \n",
    "   \"Current solvent concentration in the reservoir [mol.m-3]\":[4541.0,],\n",
    "   \"Current electrolyte concentration in the reservoir [mol.m-3]\":[1000,],\n",
    "   \"Ratio of Li-ion concentration change in electrolyte consider solvent consumption\":[1.0,],\n",
    "   # DFN parameter\n",
    "   \"Upper voltage cut-off [V]\":[4.21,],\n",
    "   \"Lower voltage cut-off [V]\":[2.49,],\n",
    "\n",
    "   # interstitial-diffusion limited\n",
    "   'Inner SEI lithium interstitial diffusivity [m2.s-1]':[1e-12,],    \n",
    "   'Lithium interstitial reference concentration [mol.m-3]':[15,],\n",
    "   # ec-reaction limited\n",
    "   'EC diffusivity [m2.s-1]':[3e-21,5e-21,],\n",
    "   'SEI kinetic rate constant [m.s-1]':[1e-12,], \n",
    "   'EC initial concentration in electrolyte [mol.m-3]':[4541.0,],\n",
    "   # LiP and coupling with SEI:\n",
    "   \"Dead lithium decay constant [s-1]\":[ 1e-7,],             # default: 1e-6\n",
    "   'Lithium plating kinetic rate constant [m.s-1]':[3E-10,], # default: 1e-9\n",
    "   # Crack model\n",
    "   \"Negative electrode LAM constant proportional term [s-1]\":[ 2.7778e-9,], # default: 2.7778e-07\n",
    "   \"Positive electrode LAM constant proportional term [s-1]\":[ 2.7778e-9,], # default: 2.7778e-07\n",
    "   # make it simple for now,], but may want to have T dependency in the future\n",
    "   \"Negative electrode cracking rate\":[ 3.9e-22,],   # default: function, ~3.9e-20\n",
    "   \"Positive electrode cracking rate\":[ 3.9e-22,],   # default: function, ~3.9e-20\n",
    "   \"Negative electrode volume change\":[ 0.0,],\n",
    "   \"Positive electrode volume change\":[ 0.0,],\n",
    "   \"Initial Neg SOC\":[0.850],    #list(np.linspace(0.84,0.90,6)),\n",
    "   \"Initial Pos SOC\":[0.2705], # list(np.linspace(0.22,0.27,6)),\n",
    "\n",
    "}\n",
    "Para_dict_list = []\n",
    "recursive_scan(Para_dict_list,Para_dict_All, list(Para_dict_All.keys()), {})\n",
    "print(f\"Total scan case is {len(Para_dict_list)}\")"
   ]
  }
 ],
 "metadata": {
  "kernelspec": {
   "display_name": "Python 3.9.6 ('envPBGEM')",
   "language": "python",
   "name": "python3"
  },
  "language_info": {
   "codemirror_mode": {
    "name": "ipython",
    "version": 3
   },
   "file_extension": ".py",
   "mimetype": "text/x-python",
   "name": "python",
   "nbconvert_exporter": "python",
   "pygments_lexer": "ipython3",
   "version": "3.9.6"
  },
  "orig_nbformat": 4,
  "vscode": {
   "interpreter": {
    "hash": "83fab7fbb3a8fe7b5910804f702478ef63e2cc6a08d85072a5d68865ed0fd8c7"
   }
  }
 },
 "nbformat": 4,
 "nbformat_minor": 2
}
