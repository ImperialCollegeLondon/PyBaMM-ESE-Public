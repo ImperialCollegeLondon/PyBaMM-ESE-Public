{
 "cells": [
  {
   "cell_type": "code",
   "execution_count": 4,
   "metadata": {},
   "outputs": [],
   "source": [
    "import pybamm as pb;import pandas as pd   ;import numpy as np;import os;import matplotlib.pyplot as plt;import os;#import imageio\n",
    "from scipy.io import savemat,loadmat;from pybamm import constants,exp;import matplotlib as mpl; fs=17; # or we can set import matplotlib.pyplot as plt then say 'mpl.rc...'\n",
    "import openpyxl;import traceback\n",
    "import multiprocessing\n",
    "fs=17;font = {'family' : 'DejaVu Sans','size'   : fs}\n",
    "mpl.rc('font', **font)"
   ]
  },
  {
   "cell_type": "code",
   "execution_count": 5,
   "metadata": {},
   "outputs": [],
   "source": [
    "def Effect_Acc(width):\n",
    "    V_max = 4.2; V_min = 2.5; \n",
    "    exp_RPT_text = [ (f\"Discharge at 1C until {V_min} V\",  \n",
    "            \"Rest for 1 hours (5 minute period)\",  \n",
    "            f\"Charge at 1C until {V_max} V (5 minute period)\" ) ]\n",
    "    Experiment_RPT = pb.Experiment( exp_RPT_text * 1 ) \n",
    "    Para_0 = pb.ParameterValues(\"Li2023_Coupled\" )\n",
    "    Para_0.update({'Electrode width [m]': width})\n",
    "    Model_0 = pb.lithium_ion.DFN() \n",
    "    Sim_1   = pb.Simulation(\n",
    "        Model_0,        experiment = Experiment_RPT,\n",
    "        parameter_values = Para_0,\n",
    "        solver = pb.CasadiSolver(),) #mode=\"safe\"\n",
    "    Sol_1    = Sim_1.solve(calc_esoh=False)\n",
    "    return Sol_1"
   ]
  },
  {
   "cell_type": "code",
   "execution_count": 6,
   "metadata": {},
   "outputs": [],
   "source": [
    "Sol_1p58 = Effect_Acc(1.58)"
   ]
  },
  {
   "cell_type": "code",
   "execution_count": 7,
   "metadata": {},
   "outputs": [],
   "source": [
    "Sol_1p2 = Effect_Acc(1.2)\n",
    "Sol_0p8 = Effect_Acc(0.8)"
   ]
  },
  {
   "cell_type": "markdown",
   "metadata": {},
   "source": [
    "Sol_0p06    = Sim_1.solve(inputs={'Electrode width [m]':0.06})\n",
    "Sol_0p07    = Sim_1.solve(inputs={'Electrode width [m]':0.07})\n",
    "Sol_0p08    = Sim_1.solve(inputs={'Electrode width [m]':0.08})\n",
    "Sol_0p09    = Sim_1.solve(inputs={'Electrode width [m]':0.09})"
   ]
  },
  {
   "cell_type": "code",
   "execution_count": 10,
   "metadata": {},
   "outputs": [
    {
     "name": "stdout",
     "output_type": "stream",
     "text": [
      "Discharge capacity [A.h]\n",
      "Loss of capacity to SEI [A.h]\n",
      "Loss of capacity to SEI on cracks [A.h]\n",
      "Loss of capacity to dead lithium plating [A.h]\n",
      "Loss of capacity to lithium plating [A.h]\n",
      "Negative electrode capacity [A.h]\n",
      "Positive electrode capacity [A.h]\n",
      "Throughput capacity [A.h]\n",
      "Total capacity lost to side reactions [A.h]\n"
     ]
    }
   ],
   "source": [
    "Model_0 = pb.lithium_ion.DFN() \n",
    "Model_0.variables.search(\"capacity\")"
   ]
  },
  {
   "cell_type": "code",
   "execution_count": 14,
   "metadata": {},
   "outputs": [
    {
     "data": {
      "application/vnd.jupyter.widget-view+json": {
       "model_id": "225796caec83406fb27d78ecfe03ccdf",
       "version_major": 2,
       "version_minor": 0
      },
      "text/plain": [
       "interactive(children=(FloatSlider(value=0.0, description='t', max=3.0250879832351627, step=0.03025087983235162…"
      ]
     },
     "metadata": {},
     "output_type": "display_data"
    }
   ],
   "source": [
    "fs=15;font = {'family' : 'DejaVu Sans','size'   : fs}\n",
    "mpl.rc('font', **font)\n",
    "label = [\"Width = 1.58 [m]\",\"Width = 1.20 [m]\",\"Width = 0.80 [m]\"] \n",
    "output_variables3 = [\n",
    "    \"Discharge capacity [A.h]\",\n",
    "    \"Negative electrode capacity [A.h]\",\n",
    "    \"Positive electrode capacity [A.h]\",\n",
    "    \"Terminal voltage [V]\", \n",
    "    \"Current [A]\",\n",
    "    \"Interfacial current density [A.m-2]\",\n",
    "]\n",
    "quick_plot = pb.QuickPlot(\n",
    "    [Sol_1p58,Sol_1p2,Sol_0p8], output_variables3,label,variable_limits='tight',\n",
    "    time_unit='hours',n_rows=2) #\n",
    "quick_plot.dynamic_plot()"
   ]
  },
  {
   "cell_type": "code",
   "execution_count": null,
   "metadata": {},
   "outputs": [],
   "source": []
  },
  {
   "cell_type": "code",
   "execution_count": null,
   "metadata": {},
   "outputs": [],
   "source": []
  },
  {
   "cell_type": "code",
   "execution_count": null,
   "metadata": {},
   "outputs": [],
   "source": []
  }
 ],
 "metadata": {
  "kernelspec": {
   "display_name": "envPBGEM",
   "language": "python",
   "name": "python3"
  },
  "language_info": {
   "codemirror_mode": {
    "name": "ipython",
    "version": 3
   },
   "file_extension": ".py",
   "mimetype": "text/x-python",
   "name": "python",
   "nbconvert_exporter": "python",
   "pygments_lexer": "ipython3",
   "version": "3.9.6"
  },
  "orig_nbformat": 4,
  "vscode": {
   "interpreter": {
    "hash": "83fab7fbb3a8fe7b5910804f702478ef63e2cc6a08d85072a5d68865ed0fd8c7"
   }
  }
 },
 "nbformat": 4,
 "nbformat_minor": 2
}
