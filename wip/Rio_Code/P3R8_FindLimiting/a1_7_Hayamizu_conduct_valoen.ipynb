{
 "cells": [
  {
   "cell_type": "markdown",
   "metadata": {},
   "source": [
    "# With Dec=5e-10, and others with Andrew's value, add a tanh500 funtion on conductivity to check effect of "
   ]
  },
  {
   "cell_type": "code",
   "execution_count": 1,
   "metadata": {},
   "outputs": [],
   "source": [
    "import pybamm\n",
    "import numpy as np\n",
    "import matplotlib.pyplot as plt\n",
    "import pandas as pd   ;import numpy as np;import os;import matplotlib.pyplot as plt;import os;\n",
    "from scipy.io import savemat,loadmat;from pybamm import constants,exp,tanh,sqrt;import matplotlib as mpl;  # or we can set import matplotlib.pyplot as plt then say 'mpl.rc...'\n",
    "import traceback\n",
    "import imageio.v2 as imageio\n",
    "fs=17;\n",
    "font = {'family' : 'DejaVu Sans','size'   : fs}\n",
    "mpl.rc('font', **font)"
   ]
  },
  {
   "cell_type": "code",
   "execution_count": 2,
   "metadata": {},
   "outputs": [],
   "source": [
    "# DEFINE my callback:\n",
    "class RioCallback(pybamm.callbacks.Callback):\n",
    "    def __init__(self, logfile=None):\n",
    "        self.logfile = logfile\n",
    "        self.success  = True\n",
    "        if logfile is None:\n",
    "            # Use pybamm's logger, which prints to command line\n",
    "            self.logger = pybamm.logger\n",
    "        else:\n",
    "            # Use a custom logger, this will have its own level so set it to the same\n",
    "            # level as the pybamm logger (users can override this)\n",
    "            self.logger = pybamm.get_new_logger(__name__, logfile)\n",
    "            self.logger.setLevel(pybamm.logger.level)\n",
    "    \n",
    "    def on_experiment_error(self, logs):\n",
    "        self.success  = False\n",
    "    def on_experiment_infeasible(self, logs):\n",
    "        self.success  = False"
   ]
  },
  {
   "cell_type": "code",
   "execution_count": 3,
   "metadata": {},
   "outputs": [],
   "source": [
    "import sys  \n",
    "str_path_0 = os.path.abspath(os.path.join(pybamm.__path__[0],'..'))\n",
    "str_path_1 = os.path.abspath(os.path.join(str_path_0,\"wip\\Rio_Code\\Fun_P3\"))\n",
    "sys.path.append(str_path_1) \n",
    "from Fun_P3 import (\n",
    "    PlotDynamics,\n",
    "    Plot_Loc_Var,\n",
    "    Plot_Loc_Var_sol,\n",
    "    Plot_Single_Static,\n",
    ")"
   ]
  },
  {
   "cell_type": "code",
   "execution_count": 4,
   "metadata": {},
   "outputs": [],
   "source": [
    "def electrolyte_conductivity_Valoen2005Constant_wEC(c_e,c_EC, T):# Mark Ruihe change\n",
    "    # mol/m3 to molar\n",
    "    c_e = c_e / 1000\n",
    "    sigma = (c_e <= 4.5) * (\n",
    "        (1e-3 / 1e-2) * (\n",
    "        c_e\n",
    "        * (\n",
    "            (-10.5 + 0.0740 * T - 6.96e-5 * T ** 2)\n",
    "            + c_e * (0.668 - 0.0178 * T + 2.80e-5 * T ** 2)\n",
    "            + c_e ** 2 * (0.494 - 8.86e-4 * T)\n",
    "        )\n",
    "        ** 2\n",
    "    )) + (c_e > 4.5) *  (\n",
    "        (1e-3 / 1e-2) * (\n",
    "        4.5\n",
    "        * (\n",
    "            (-10.5 + 0.0740 * T - 6.96e-5 * T ** 2)\n",
    "            + 4.5 * (0.668 - 0.0178 * T + 2.80e-5 * T ** 2)\n",
    "            + 4.5 ** 2 * (0.494 - 8.86e-4 * T)\n",
    "        )\n",
    "        ** 2\n",
    "    ))\n",
    "    a=1.092; b=-6.497e-6; c=-0.7877; d=-0.0004808\n",
    "    ratio= (\n",
    "        a*exp(b*c_EC)+c*exp(d*c_EC) )\n",
    "    return sigma*ratio\n"
   ]
  },
  {
   "cell_type": "code",
   "execution_count": 5,
   "metadata": {},
   "outputs": [],
   "source": [
    "V_max = 4.2;        V_min = 2.5;\n",
    "total_cycle = 30; save_at_cycles= 1\n",
    "Experiment_Long   = pybamm.Experiment( [ (\n",
    "    f\"Discharge at 1 C until {V_min} V\", \n",
    "    f\"Charge at 1 C until {V_max} V\", \n",
    "    f\"Hold at {V_max} V until C/5\")    ] * 1 ) \n",
    "Experiment_s   = pybamm.Experiment( [ (\n",
    "    f\"Discharge at 1 C for 240 s\", )    ] * 1 )  \n"
   ]
  },
  {
   "cell_type": "code",
   "execution_count": 6,
   "metadata": {},
   "outputs": [],
   "source": [
    "BasicPath = 'D:/OneDrive - Imperial College London/SimDataSave/P3R8/'; \n",
    "Target  = 'a1_7_Hayamizu_conduct_valoen/'\n",
    "if not os.path.exists(BasicPath + Target):\n",
    "    os.mkdir(BasicPath + Target);"
   ]
  },
  {
   "cell_type": "code",
   "execution_count": 7,
   "metadata": {},
   "outputs": [
    {
     "name": "stdout",
     "output_type": "stream",
     "text": [
      "using EC wo refill for Li+\n"
     ]
    }
   ],
   "source": [
    "Model_d = pybamm.lithium_ion.DFN(     \n",
    "    options={\n",
    "        \"solvent diffusion\": \"EC wo refill\"     } )\n",
    "Model_s = pybamm.lithium_ion.DFN(     \n",
    "    options={\n",
    "        \"solvent diffusion\": \"none\"     } )\n"
   ]
  },
  {
   "cell_type": "markdown",
   "metadata": {},
   "source": [
    "Para_0.search('mole')"
   ]
  },
  {
   "cell_type": "code",
   "execution_count": 8,
   "metadata": {},
   "outputs": [],
   "source": [
    "Models = [Model_s,Model_d]\n",
    "ChemistryChen=pybamm.parameter_sets.Chen2020 \n",
    "ChemistryChen[\"electrolyte\"] = \"lipf6_Valoen2005Constant\";\n",
    "Para_0=pybamm.ParameterValues(chemistry=ChemistryChen);\n",
    "De = 3e-10;Dec = 5e-10; Dcross  = 3e-11; Xi=-1.4; t_0plus=0.28 \n",
    "Para_0['EC transference number'] =    Xi\n",
    "Para_0['Cation transference number'] =     t_0plus\n",
    "Para_0['EC Lithium ion cross diffusivity [m2.s-1]'] = Dcross\n",
    "Para_0['EC diffusivity in electrolyte [m2.s-1]'] =  Dec\n",
    "Para_0['Ratio of lithium moles to SEI moles'] =  1\n",
    "Para_0.update({\"Upper voltage cut-off [V]\": 4.22})\n",
    "Para_0.update({\"Lower voltage cut-off [V]\": 2.48})\n",
    "Para_0['Negative electrode porosity'] = 0.12\n",
    "Para_0.update({\n",
    "    'Electrolyte conductivity [S.m-1]':\n",
    "    electrolyte_conductivity_Valoen2005Constant_wEC}, )\n",
    "\n",
    "for model in Models:\n",
    "    c_e = model.variables[\"Electrolyte concentration [mol.m-3]\"]\n",
    "    T = model.variables[\"Cell temperature [K]\"]\n",
    "    c_EC = model.variables[\"EC concentration [mol.m-3]\"]\n",
    "    model.variables[\"c(EC) over c(Li+)\"] = c_EC / c_e\n",
    "    model.variables[\"Electrolyte conductivity [S.m-1]\"] =(\n",
    "        Para_0['Electrolyte conductivity [S.m-1]'](c_e,c_EC, T))\n",
    "    model.variables[\"Electrolyte diffusivity [m2.s-1]\"] =(\n",
    "        Para_0['Electrolyte diffusivity [m2.s-1]'](c_e,c_EC, T))"
   ]
  },
  {
   "cell_type": "markdown",
   "metadata": {},
   "source": [
    "rioCall = RioCallback()  # define callback\n",
    "sol = sim.solve(\n",
    "            save_at_cycles=save_at_cycles,\n",
    "            callbacks=rioCall);"
   ]
  },
  {
   "cell_type": "code",
   "execution_count": 9,
   "metadata": {},
   "outputs": [
    {
     "name": "stdout",
     "output_type": "stream",
     "text": [
      "Succeed for model option:  none\n",
      "Succeed for model option:  EC wo refill\n"
     ]
    }
   ],
   "source": [
    "Sim = [];Sol=[]; \n",
    "for model in Models:\n",
    "    var = pybamm.standard_spatial_vars  \n",
    "    mesh_thick = 60; mesh_par=30;\n",
    "    var_pts = {\n",
    "        var.x_n: int(mesh_thick),  \n",
    "        var.x_s: int(mesh_thick),  \n",
    "        var.x_p: int(mesh_thick),  \n",
    "        var.r_n: int(mesh_par),  \n",
    "        var.r_p: int(mesh_par),  }  \n",
    "    sim = pybamm.Simulation(\n",
    "        model, experiment = Experiment_Long,\n",
    "        parameter_values = Para_0,\n",
    "        solver = pybamm.CasadiSolver(),\n",
    "        #var_pts=var_pts,\n",
    "        )  \n",
    "    try:\n",
    "        rioCall = RioCallback()  # define callback\n",
    "        sol = sim.solve(\n",
    "            save_at_cycles=save_at_cycles,\n",
    "            callbacks=rioCall);\n",
    "        # check whether the solution is finalized \n",
    "        if rioCall.success == False:\n",
    "            1/0\n",
    "    except:\n",
    "        print('Fail for model option: ',model.options[\"solvent diffusion\"])\n",
    "    else:\n",
    "        Sol.append(sol)   \n",
    "        print('Succeed for model option: ',model.options[\"solvent diffusion\"])"
   ]
  },
  {
   "cell_type": "code",
   "execution_count": 16,
   "metadata": {},
   "outputs": [],
   "source": [
    "fs = 17\n",
    "font = {'family' : 'DejaVu Sans','size': fs}\n",
    "mpl.rc('font', **font)"
   ]
  },
  {
   "cell_type": "code",
   "execution_count": 17,
   "metadata": {},
   "outputs": [
    {
     "data": {
      "application/vnd.jupyter.widget-view+json": {
       "model_id": "6e19281a7c9f4f9c81b343f6da901ad6",
       "version_major": 2,
       "version_minor": 0
      },
      "text/plain": [
       "interactive(children=(FloatSlider(value=0.0, description='t', max=2.2708006590327594, step=0.02270800659032759…"
      ]
     },
     "metadata": {},
     "output_type": "display_data"
    }
   ],
   "source": [
    "label = [model.options[\"solvent diffusion\"] for model in Models]\n",
    "output_variables3 = [\n",
    "    \"Terminal voltage [V]\",\n",
    "    #\"Discharge capacity [A.h]\",\n",
    "    \"Electrolyte potential [V]\",\n",
    "    #\"Electrolyte current density [A.m-2]\",\n",
    "    'Electrolyte conductivity [S.m-1]',\n",
    "    \"Electrolyte concentration [mol.m-3]\",\n",
    "    \"EC concentration [mol.m-3]\",\n",
    "    \"c(EC) over c(Li+)\",\n",
    "]\n",
    "quick_plot = pybamm.QuickPlot(\n",
    "    [sol for sol in Sol], \n",
    "    output_variables3,label,\n",
    "    variable_limits='fixed',time_unit='hours',n_rows=2,\n",
    "    figsize = (12,9)) #     spatial_unit='mm',\n",
    "quick_plot.dynamic_plot();"
   ]
  },
  {
   "cell_type": "code",
   "execution_count": 12,
   "metadata": {},
   "outputs": [
    {
     "data": {
      "application/vnd.jupyter.widget-view+json": {
       "model_id": "165fd953624d45a68542383bf4829372",
       "version_major": 2,
       "version_minor": 0
      },
      "text/plain": [
       "interactive(children=(FloatSlider(value=0.0, description='t', max=2.2708006590327594, step=0.02270800659032759…"
      ]
     },
     "metadata": {},
     "output_type": "display_data"
    }
   ],
   "source": [
    "label = [model.options[\"solvent diffusion\"] for model in Models]\n",
    "output_variables3 = [\n",
    "    \"Terminal voltage [V]\",   \n",
    "    \"Discharge capacity [A.h]\",\n",
    "    \"EC concentration [mol.m-3]\",\n",
    "    \"Electrolyte concentration [mol.m-3]\",\n",
    "    \"Li+ flux [mol.m-2.s-1]\",\n",
    "    \"EC flux [mol.m-2.s-1]\",\n",
    "]\n",
    "quick_plot = pybamm.QuickPlot(\n",
    "    [sol for sol in Sol], \n",
    "    output_variables3,label,\n",
    "    variable_limits='fixed',time_unit='hours',n_rows=2,\n",
    "    figsize = (12,8)) #     spatial_unit='mm',\n",
    "quick_plot.dynamic_plot();\n",
    "#quick_plot.plot(0.5)\n",
    "#quick_plot.fig.savefig(BasicPath + Target+\"t_0+_three_cases.png\", dpi=600)\n",
    "#quick_plot.create_gif(\n",
    "#    number_of_images=10, duration=2,output_filename=BasicPath + Target+\"concentration and flux.gif\")"
   ]
  },
  {
   "cell_type": "code",
   "execution_count": 13,
   "metadata": {},
   "outputs": [
    {
     "data": {
      "application/vnd.jupyter.widget-view+json": {
       "model_id": "5b6eee2c32254832b320f12c403e1f1e",
       "version_major": 2,
       "version_minor": 0
      },
      "text/plain": [
       "interactive(children=(FloatSlider(value=0.0, description='t', max=2.2708006590327594, step=0.02270800659032759…"
      ]
     },
     "metadata": {},
     "output_type": "display_data"
    }
   ],
   "source": [
    "label = [model.options[\"solvent diffusion\"] for model in Models]\n",
    "output_variables3 = [\n",
    "    #\"Terminal voltage [V]\",   \n",
    "    \"EC flux [mol.m-2.s-1]\",\n",
    "    \"EC flux by diffusion [mol.m-2.s-1]\",\n",
    "    \"EC flux by migration [mol.m-2.s-1]\",\n",
    "    \"EC flux by Li+ [mol.m-2.s-1]\",\n",
    "    \"Li+ flux [mol.m-2.s-1]\",\n",
    "    \"Li+ flux by diffusion [mol.m-2.s-1]\",\n",
    "    \"Li+ flux by migration [mol.m-2.s-1]\",\n",
    "    \"Li+ flux by solvent [mol.m-2.s-1]\",      \n",
    "]\n",
    "quick_plot = pybamm.QuickPlot(\n",
    "    [sol for sol in Sol], \n",
    "    output_variables3,label,\n",
    "    variable_limits='fixed',time_unit='hours',n_rows=2,\n",
    "    figsize = (12,6)) #     spatial_unit='mm',\n",
    "quick_plot.dynamic_plot();\n",
    "#quick_plot.plot(0.5)\n",
    "#quick_plot.fig.savefig(BasicPath + Target+\"t_0+_three_cases.png\", dpi=600)\n",
    "#quick_plot.create_gif(\n",
    "#    number_of_images=10, duration=2,output_filename=BasicPath + Target+\"flux contribution.gif\")"
   ]
  },
  {
   "cell_type": "code",
   "execution_count": 14,
   "metadata": {},
   "outputs": [
    {
     "data": {
      "application/vnd.jupyter.widget-view+json": {
       "model_id": "a8e48426b862461b871679ac226a325f",
       "version_major": 2,
       "version_minor": 0
      },
      "text/plain": [
       "interactive(children=(FloatSlider(value=0.0, description='t', max=2.2708006590327594, step=0.02270800659032759…"
      ]
     },
     "metadata": {},
     "output_type": "display_data"
    }
   ],
   "source": [
    "font = {'family' : 'DejaVu Sans','size':19}\n",
    "mpl.rc('font', **font)\n",
    "label = [model.options[\"solvent diffusion\"] for model in Models]\n",
    "output_variables3 = [\n",
    "    \"Electrolyte concentration\",\n",
    "    \"Minus div Li+ flux\",\n",
    "    \"Li+ source term\",\n",
    "    \"Li+ source term refill\",\n",
    "    \"Minus div Li+ flux by diffusion\",\n",
    "    \"Minus div Li+ flux by migration\",\n",
    "    \"Minus div Li+ flux by solvent\",\n",
    "]\n",
    "quick_plot = pybamm.QuickPlot(\n",
    "    [sol for sol in Sol], \n",
    "    output_variables3,label,\n",
    "    variable_limits='fixed',time_unit='hours',n_rows=3,\n",
    "    figsize = (12,12)) #     spatial_unit='mm',\n",
    "quick_plot.dynamic_plot();\n",
    "#quick_plot.create_gif(\n",
    "#    number_of_images=10, duration=2,output_filename=BasicPath + Target+\"Li+ rhs contribution.gif\")"
   ]
  },
  {
   "cell_type": "code",
   "execution_count": 15,
   "metadata": {},
   "outputs": [
    {
     "data": {
      "application/vnd.jupyter.widget-view+json": {
       "model_id": "760b1f6a967e4ab7af414c1c65040df3",
       "version_major": 2,
       "version_minor": 0
      },
      "text/plain": [
       "interactive(children=(FloatSlider(value=0.0, description='t', max=2.2708006590327594, step=0.02270800659032759…"
      ]
     },
     "metadata": {},
     "output_type": "display_data"
    }
   ],
   "source": [
    "label = [model.options[\"solvent diffusion\"] for model in Models]\n",
    "output_variables3 = [\n",
    "    \"EC concentration\",\n",
    "    \"EC source term (SEI)\",\n",
    "    \"EC source term refill\",\n",
    "    \"Minus div EC flux\",\n",
    "    \"Minus div EC flux by diffusion\",\n",
    "    \"Minus div EC flux by migration\",\n",
    "    \"Minus div EC flux by Li+\",\n",
    "]\n",
    "quick_plot = pybamm.QuickPlot(\n",
    "    [sol for sol in Sol], \n",
    "    output_variables3,label,\n",
    "    variable_limits='tight',time_unit='hours',n_rows=3,\n",
    "    figsize = (12,12)) #     spatial_unit='mm',\n",
    "quick_plot.dynamic_plot();\n",
    "#quick_plot.create_gif(\n",
    "#    number_of_images=10, duration=2,output_filename=BasicPath + Target+\"EC rhs contribution.gif\")"
   ]
  }
 ],
 "metadata": {
  "kernelspec": {
   "display_name": "Python 3.9.6 ('envPBGEM')",
   "language": "python",
   "name": "python3"
  },
  "language_info": {
   "codemirror_mode": {
    "name": "ipython",
    "version": 3
   },
   "file_extension": ".py",
   "mimetype": "text/x-python",
   "name": "python",
   "nbconvert_exporter": "python",
   "pygments_lexer": "ipython3",
   "version": "3.9.6"
  },
  "orig_nbformat": 4,
  "vscode": {
   "interpreter": {
    "hash": "83fab7fbb3a8fe7b5910804f702478ef63e2cc6a08d85072a5d68865ed0fd8c7"
   }
  }
 },
 "nbformat": 4,
 "nbformat_minor": 2
}
