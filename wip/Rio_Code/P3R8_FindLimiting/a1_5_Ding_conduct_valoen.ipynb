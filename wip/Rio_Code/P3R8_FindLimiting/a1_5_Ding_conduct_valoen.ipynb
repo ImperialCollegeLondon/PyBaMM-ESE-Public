{
 "cells": [
  {
   "cell_type": "markdown",
   "metadata": {},
   "source": [
    "# With Dec=5e-10, and others with Andrew's value, add a tanh500 funtion on conductivity to check effect of "
   ]
  },
  {
   "cell_type": "code",
   "execution_count": 86,
   "metadata": {},
   "outputs": [],
   "source": [
    "import pybamm\n",
    "import numpy as np\n",
    "import matplotlib.pyplot as plt\n",
    "import pandas as pd   ;import numpy as np;import os;import matplotlib.pyplot as plt;import os;\n",
    "from scipy.io import savemat,loadmat;from pybamm import constants,exp,tanh,sqrt;import matplotlib as mpl;  # or we can set import matplotlib.pyplot as plt then say 'mpl.rc...'\n",
    "import traceback\n",
    "import imageio.v2 as imageio\n",
    "fs=17;\n",
    "font = {'family' : 'DejaVu Sans','size'   : fs}\n",
    "mpl.rc('font', **font)"
   ]
  },
  {
   "cell_type": "code",
   "execution_count": 87,
   "metadata": {},
   "outputs": [],
   "source": [
    "# DEFINE my callback:\n",
    "class RioCallback(pybamm.callbacks.Callback):\n",
    "    def __init__(self, logfile=None):\n",
    "        self.logfile = logfile\n",
    "        self.success  = True\n",
    "        if logfile is None:\n",
    "            # Use pybamm's logger, which prints to command line\n",
    "            self.logger = pybamm.logger\n",
    "        else:\n",
    "            # Use a custom logger, this will have its own level so set it to the same\n",
    "            # level as the pybamm logger (users can override this)\n",
    "            self.logger = pybamm.get_new_logger(__name__, logfile)\n",
    "            self.logger.setLevel(pybamm.logger.level)\n",
    "    \n",
    "    def on_experiment_error(self, logs):\n",
    "        self.success  = False\n",
    "    def on_experiment_infeasible(self, logs):\n",
    "        self.success  = False"
   ]
  },
  {
   "cell_type": "code",
   "execution_count": 88,
   "metadata": {},
   "outputs": [],
   "source": [
    "import sys  \n",
    "str_path_0 = os.path.abspath(os.path.join(pybamm.__path__[0],'..'))\n",
    "str_path_1 = os.path.abspath(os.path.join(str_path_0,\"wip\\Rio_Code\\Fun_P3\"))\n",
    "sys.path.append(str_path_1) \n",
    "from Fun_P3 import (\n",
    "    PlotDynamics,\n",
    "    Plot_Loc_Var,\n",
    "    Plot_Loc_Var_sol,\n",
    "    Plot_Single_Static,\n",
    ")"
   ]
  },
  {
   "cell_type": "code",
   "execution_count": 89,
   "metadata": {},
   "outputs": [],
   "source": [
    "def electrolyte_conductivity_Ding2001(c_e, c_EC,  T):\n",
    "    # c_e is lithium ion concentration in electrolyte in mol/m3, need to change to mol/kg\n",
    "    # also be careful that T here is deg, while others are K\n",
    "    T = T - 273.15\n",
    "    rho_electrolyte = 1300 # in kg/m3\n",
    "    c_e_kg = c_e / rho_electrolyte     # in mol/kg \n",
    "    M_LiPF6 = 151.905/1000  # kg/mol\n",
    "    M_EC = 88.062/1000  # kg/mol\n",
    "    M_EMC = 104.104/1000 # kg/mol\n",
    "    x_EC = M_EMC / (  rho_electrolyte/c_EC - (M_EC-M_EMC)  )\n",
    "    kai = -3.37115 + 12.5608*c_e_kg - 7.89593*c_e_kg**2 + 3.51922*c_e_kg**3-1.15471*c_e_kg**4 +18.1863*x_EC - 6.22756*c_e_kg*x_EC - 13.6916*c_e_kg**2*x_EC +8.43904*c_e_kg**3*x_EC - 7.83732*x_EC**2 + 19.607*c_e_kg*x_EC**2  - 18.4529*c_e_kg**2*x_EC**2 -30.6369*x_EC**3 + 29.2*c_e_kg*x_EC**3 - 0.0429918*T + 0.180877*c_e_kg*T -0.0836202*c_e_kg**2*T + 0.0230098*c_e_kg**3*T + 0.195946*T*x_EC +0.0676686*c_e_kg*x_EC*T - 0.14134*c_e_kg**2*x_EC*T + 0.147429*x_EC**2*T  +0.173059*c_e_kg*x_EC**2*T - 0.51634*x_EC**3*T - 0.000223097*T**2 +0.000111233*c_e_kg*T**2 + 0.0000495286*c_e_kg**2*T**2  +0.000952777*x_EC*T**2 + 0.00117334 *c_e_kg*x_EC*T**2-0.000619157*x_EC**2*T**2 - 3.46897E-7*T**3 - 2.75041E-6*c_e_kg*T**3 -5.57653E-6*x_EC*T**3 \n",
    "    return kai / 10 \n"
   ]
  },
  {
   "cell_type": "code",
   "execution_count": 105,
   "metadata": {},
   "outputs": [
    {
     "name": "stdout",
     "output_type": "stream",
     "text": [
      "0.04542254320819423\n",
      "0.0576346730192884\n",
      "0.4407507292641313\n"
     ]
    }
   ],
   "source": [
    "print(4/88.062)\n",
    "print(6/104.104)\n",
    "print( 4/88.062 /  (4/88.062+ 6/104.104) )"
   ]
  },
  {
   "cell_type": "code",
   "execution_count": 90,
   "metadata": {},
   "outputs": [],
   "source": [
    "V_max = 4.2;        V_min = 2.5;\n",
    "total_cycle = 30; save_at_cycles= 1\n",
    "Experiment_Long   = pybamm.Experiment( [ (\n",
    "    f\"Discharge at 1 C until {V_min} V\", \n",
    "    f\"Charge at 1 C until {V_max} V\", \n",
    "    f\"Hold at {V_max} V until C/5\")    ] * 1 ) \n",
    "Experiment_s   = pybamm.Experiment( [ (\n",
    "    f\"Discharge at 1 C for 240 s\", )    ] * 1 )  \n"
   ]
  },
  {
   "cell_type": "code",
   "execution_count": 91,
   "metadata": {},
   "outputs": [],
   "source": [
    "BasicPath = 'D:/OneDrive - Imperial College London/SimDataSave/P3R8/'; \n",
    "Target  = 'a1_5_Ding_conduct_valoen/'\n",
    "if not os.path.exists(BasicPath + Target):\n",
    "    os.mkdir(BasicPath + Target);"
   ]
  },
  {
   "cell_type": "code",
   "execution_count": 92,
   "metadata": {},
   "outputs": [
    {
     "name": "stdout",
     "output_type": "stream",
     "text": [
      "using EC wo refill for Li+\n"
     ]
    }
   ],
   "source": [
    "Model_d = pybamm.lithium_ion.DFN(     \n",
    "    options={\n",
    "        \"solvent diffusion\": \"EC wo refill\"     } )\n",
    "Model_s = pybamm.lithium_ion.DFN(     \n",
    "    options={\n",
    "        \"solvent diffusion\": \"none\"     } )\n"
   ]
  },
  {
   "cell_type": "markdown",
   "metadata": {},
   "source": [
    "Para_0.search('mole')"
   ]
  },
  {
   "cell_type": "code",
   "execution_count": 93,
   "metadata": {},
   "outputs": [],
   "source": [
    "Models = [Model_s,Model_d]\n",
    "ChemistryChen=pybamm.parameter_sets.Chen2020 \n",
    "ChemistryChen[\"electrolyte\"] = \"lipf6_Valoen2005\";\n",
    "Para_0=pybamm.ParameterValues(chemistry=ChemistryChen);\n",
    "De = 3e-10;Dec = 5e-10; Dcross  = 3e-11; Xi=-1.4; t_0plus=0.28 \n",
    "Para_0['EC transference number'] =    Xi\n",
    "Para_0['Cation transference number'] =     t_0plus\n",
    "Para_0['EC Lithium ion cross diffusivity [m2.s-1]'] = Dcross\n",
    "Para_0['EC diffusivity in electrolyte [m2.s-1]'] =  Dec\n",
    "Para_0['Ratio of lithium moles to SEI moles'] =  1\n",
    "Para_0.update({\"Upper voltage cut-off [V]\": 4.22})\n",
    "Para_0.update({\"Lower voltage cut-off [V]\": 2.48})\n",
    "Para_0['Negative electrode porosity'] = 0.12 # 0.15 works,  0.1 fails\n",
    "Para_0.update({\n",
    "    'Electrolyte conductivity [S.m-1]':\n",
    "    electrolyte_conductivity_Ding2001}, )\n",
    "\n",
    "for model in Models:\n",
    "    c_e = model.variables[\"Electrolyte concentration [mol.m-3]\"]\n",
    "    T = model.variables[\"Cell temperature [K]\"]\n",
    "    c_EC = model.variables[\"EC concentration [mol.m-3]\"]\n",
    "    model.variables[\"c(EC) over c(Li+)\"] = c_EC / c_e\n",
    "    model.variables[\"Electrolyte conductivity [S.m-1]\"] =(\n",
    "        Para_0['Electrolyte conductivity [S.m-1]'](c_e,c_EC, T))\n",
    "    model.variables[\"Electrolyte diffusivity [m2.s-1]\"] =(\n",
    "        Para_0['Electrolyte diffusivity [m2.s-1]'](c_e,c_EC, T))"
   ]
  },
  {
   "cell_type": "markdown",
   "metadata": {},
   "source": [
    "rioCall = RioCallback()  # define callback\n",
    "sol = sim.solve(\n",
    "            save_at_cycles=save_at_cycles,\n",
    "            callbacks=rioCall);"
   ]
  },
  {
   "cell_type": "code",
   "execution_count": 94,
   "metadata": {},
   "outputs": [
    {
     "name": "stdout",
     "output_type": "stream",
     "text": [
      "Succeed for model option:  none\n",
      "Succeed for model option:  EC wo refill\n"
     ]
    }
   ],
   "source": [
    "Sim = [];Sol=[]; \n",
    "for model in Models:\n",
    "    var = pybamm.standard_spatial_vars  \n",
    "    mesh_thick = 60; mesh_par=30;\n",
    "    var_pts = {\n",
    "        var.x_n: int(mesh_thick),  \n",
    "        var.x_s: int(mesh_thick),  \n",
    "        var.x_p: int(mesh_thick),  \n",
    "        var.r_n: int(mesh_par),  \n",
    "        var.r_p: int(mesh_par),  }  \n",
    "    sim = pybamm.Simulation(\n",
    "        model, experiment = Experiment_Long,\n",
    "        parameter_values = Para_0,\n",
    "        solver = pybamm.CasadiSolver(),\n",
    "        var_pts=var_pts,\n",
    "        )  \n",
    "    try:\n",
    "        rioCall = RioCallback()  # define callback\n",
    "        sol = sim.solve(\n",
    "            save_at_cycles=save_at_cycles,\n",
    "            callbacks=rioCall);\n",
    "        # check whether the solution is finalized \n",
    "        if rioCall.success == False:\n",
    "            1/0\n",
    "    except:\n",
    "        print('Fail for model option: ',model.options[\"solvent diffusion\"])\n",
    "    else:\n",
    "        Sol.append(sol)   \n",
    "        print('Succeed for model option: ',model.options[\"solvent diffusion\"])"
   ]
  },
  {
   "cell_type": "code",
   "execution_count": 109,
   "metadata": {},
   "outputs": [],
   "source": [
    "fs = 17\n",
    "font = {'family' : 'DejaVu Sans','size': fs}\n",
    "mpl.rc('font', **font)"
   ]
  },
  {
   "cell_type": "code",
   "execution_count": 110,
   "metadata": {},
   "outputs": [
    {
     "data": {
      "application/vnd.jupyter.widget-view+json": {
       "model_id": "9d9bbdbeb56240359f650953b349f0f5",
       "version_major": 2,
       "version_minor": 0
      },
      "text/plain": [
       "interactive(children=(FloatSlider(value=0.0, description='t', max=2.290962503106624, step=0.02290962503106624)…"
      ]
     },
     "metadata": {},
     "output_type": "display_data"
    }
   ],
   "source": [
    "label = [model.options[\"solvent diffusion\"] for model in Models]\n",
    "output_variables3 = [\n",
    "    \"Terminal voltage [V]\",\n",
    "    #\"Discharge capacity [A.h]\",\n",
    "    \"Electrolyte potential [V]\",\n",
    "    #\"Electrolyte current density [A.m-2]\",\n",
    "    'Electrolyte conductivity [S.m-1]',\n",
    "    \"Electrolyte concentration [mol.m-3]\",\n",
    "    \"EC concentration [mol.m-3]\",\n",
    "    \"c(EC) over c(Li+)\",\n",
    "]\n",
    "quick_plot = pybamm.QuickPlot(\n",
    "    [sol for sol in Sol], \n",
    "    output_variables3,label,\n",
    "    variable_limits='fixed',time_unit='hours',n_rows=2,\n",
    "    figsize = (12,9)) #     spatial_unit='mm',\n",
    "quick_plot.dynamic_plot();"
   ]
  },
  {
   "cell_type": "code",
   "execution_count": 97,
   "metadata": {},
   "outputs": [
    {
     "data": {
      "application/vnd.jupyter.widget-view+json": {
       "model_id": "be673a2c22f34d9bbf86dda67dbd4fd6",
       "version_major": 2,
       "version_minor": 0
      },
      "text/plain": [
       "interactive(children=(FloatSlider(value=0.0, description='t', max=2.290962503106624, step=0.02290962503106624)…"
      ]
     },
     "metadata": {},
     "output_type": "display_data"
    }
   ],
   "source": [
    "label = [model.options[\"solvent diffusion\"] for model in Models]\n",
    "output_variables3 = [\n",
    "    \"Terminal voltage [V]\",   \n",
    "    \"Discharge capacity [A.h]\",\n",
    "    \"EC concentration [mol.m-3]\",\n",
    "    \"Electrolyte concentration [mol.m-3]\",\n",
    "    \"Li+ flux [mol.m-2.s-1]\",\n",
    "    \"EC flux [mol.m-2.s-1]\",\n",
    "]\n",
    "quick_plot = pybamm.QuickPlot(\n",
    "    [sol for sol in Sol], \n",
    "    output_variables3,label,\n",
    "    variable_limits='fixed',time_unit='hours',n_rows=2,\n",
    "    figsize = (12,8)) #     spatial_unit='mm',\n",
    "quick_plot.dynamic_plot();\n",
    "#quick_plot.plot(0.5)\n",
    "#quick_plot.fig.savefig(BasicPath + Target+\"t_0+_three_cases.png\", dpi=600)\n",
    "#quick_plot.create_gif(\n",
    "#    number_of_images=10, duration=2,output_filename=BasicPath + Target+\"concentration and flux.gif\")"
   ]
  },
  {
   "cell_type": "code",
   "execution_count": 98,
   "metadata": {},
   "outputs": [
    {
     "data": {
      "application/vnd.jupyter.widget-view+json": {
       "model_id": "5433a26c680b495594cb9384a6b7d74b",
       "version_major": 2,
       "version_minor": 0
      },
      "text/plain": [
       "interactive(children=(FloatSlider(value=0.0, description='t', max=2.290962503106624, step=0.02290962503106624)…"
      ]
     },
     "metadata": {},
     "output_type": "display_data"
    }
   ],
   "source": [
    "label = [model.options[\"solvent diffusion\"] for model in Models]\n",
    "output_variables3 = [\n",
    "    #\"Terminal voltage [V]\",   \n",
    "    \"EC flux [mol.m-2.s-1]\",\n",
    "    \"EC flux by diffusion [mol.m-2.s-1]\",\n",
    "    \"EC flux by migration [mol.m-2.s-1]\",\n",
    "    \"EC flux by Li+ [mol.m-2.s-1]\",\n",
    "    \"Li+ flux [mol.m-2.s-1]\",\n",
    "    \"Li+ flux by diffusion [mol.m-2.s-1]\",\n",
    "    \"Li+ flux by migration [mol.m-2.s-1]\",\n",
    "    \"Li+ flux by solvent [mol.m-2.s-1]\",      \n",
    "]\n",
    "quick_plot = pybamm.QuickPlot(\n",
    "    [sol for sol in Sol], \n",
    "    output_variables3,label,\n",
    "    variable_limits='fixed',time_unit='hours',n_rows=2,\n",
    "    figsize = (12,6)) #     spatial_unit='mm',\n",
    "quick_plot.dynamic_plot();\n",
    "#quick_plot.plot(0.5)\n",
    "#quick_plot.fig.savefig(BasicPath + Target+\"t_0+_three_cases.png\", dpi=600)\n",
    "#quick_plot.create_gif(\n",
    "#    number_of_images=10, duration=2,output_filename=BasicPath + Target+\"flux contribution.gif\")"
   ]
  },
  {
   "cell_type": "code",
   "execution_count": 99,
   "metadata": {},
   "outputs": [
    {
     "data": {
      "application/vnd.jupyter.widget-view+json": {
       "model_id": "44b0fbea5c404b0a9c86dd1a52c012de",
       "version_major": 2,
       "version_minor": 0
      },
      "text/plain": [
       "interactive(children=(FloatSlider(value=0.0, description='t', max=2.290962503106624, step=0.02290962503106624)…"
      ]
     },
     "metadata": {},
     "output_type": "display_data"
    }
   ],
   "source": [
    "font = {'family' : 'DejaVu Sans','size':19}\n",
    "mpl.rc('font', **font)\n",
    "label = [model.options[\"solvent diffusion\"] for model in Models]\n",
    "output_variables3 = [\n",
    "    \"Electrolyte concentration\",\n",
    "    \"Minus div Li+ flux\",\n",
    "    \"Li+ source term\",\n",
    "    \"Li+ source term refill\",\n",
    "    \"Minus div Li+ flux by diffusion\",\n",
    "    \"Minus div Li+ flux by migration\",\n",
    "    \"Minus div Li+ flux by solvent\",\n",
    "]\n",
    "quick_plot = pybamm.QuickPlot(\n",
    "    [sol for sol in Sol], \n",
    "    output_variables3,label,\n",
    "    variable_limits='fixed',time_unit='hours',n_rows=3,\n",
    "    figsize = (12,12)) #     spatial_unit='mm',\n",
    "quick_plot.dynamic_plot();\n",
    "#quick_plot.create_gif(\n",
    "#    number_of_images=10, duration=2,output_filename=BasicPath + Target+\"Li+ rhs contribution.gif\")"
   ]
  },
  {
   "cell_type": "code",
   "execution_count": 100,
   "metadata": {},
   "outputs": [
    {
     "data": {
      "application/vnd.jupyter.widget-view+json": {
       "model_id": "1fd2ce7c2ef3497081d338d88e1c20c2",
       "version_major": 2,
       "version_minor": 0
      },
      "text/plain": [
       "interactive(children=(FloatSlider(value=0.0, description='t', max=2.290962503106624, step=0.02290962503106624)…"
      ]
     },
     "metadata": {},
     "output_type": "display_data"
    }
   ],
   "source": [
    "label = [model.options[\"solvent diffusion\"] for model in Models]\n",
    "output_variables3 = [\n",
    "    \"EC concentration\",\n",
    "    \"EC source term (SEI)\",\n",
    "    \"EC source term refill\",\n",
    "    \"Minus div EC flux\",\n",
    "    \"Minus div EC flux by diffusion\",\n",
    "    \"Minus div EC flux by migration\",\n",
    "    \"Minus div EC flux by Li+\",\n",
    "]\n",
    "quick_plot = pybamm.QuickPlot(\n",
    "    [sol for sol in Sol], \n",
    "    output_variables3,label,\n",
    "    variable_limits='tight',time_unit='hours',n_rows=3,\n",
    "    figsize = (12,12)) #     spatial_unit='mm',\n",
    "quick_plot.dynamic_plot();\n",
    "#quick_plot.create_gif(\n",
    "#    number_of_images=10, duration=2,output_filename=BasicPath + Target+\"EC rhs contribution.gif\")"
   ]
  }
 ],
 "metadata": {
  "kernelspec": {
   "display_name": "Python 3.9.6 ('envPBGEM')",
   "language": "python",
   "name": "python3"
  },
  "language_info": {
   "codemirror_mode": {
    "name": "ipython",
    "version": 3
   },
   "file_extension": ".py",
   "mimetype": "text/x-python",
   "name": "python",
   "nbconvert_exporter": "python",
   "pygments_lexer": "ipython3",
   "version": "3.9.6"
  },
  "orig_nbformat": 4,
  "vscode": {
   "interpreter": {
    "hash": "83fab7fbb3a8fe7b5910804f702478ef63e2cc6a08d85072a5d68865ed0fd8c7"
   }
  }
 },
 "nbformat": 4,
 "nbformat_minor": 2
}
