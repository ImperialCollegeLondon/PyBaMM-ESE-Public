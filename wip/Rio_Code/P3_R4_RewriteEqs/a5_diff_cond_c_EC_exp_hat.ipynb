{
 "cells": [
  {
   "cell_type": "markdown",
   "metadata": {},
   "source": [
    "# add c_EC as one of the inputs for diffusivity and conductivity; use exponeitial extrapolation for Nyman2008 and make the added function a hat rather than tanh"
   ]
  },
  {
   "cell_type": "code",
   "execution_count": 1,
   "metadata": {},
   "outputs": [],
   "source": [
    "import pybamm\n",
    "import numpy as np\n",
    "import matplotlib.pyplot as plt\n",
    "import pandas as pd   ;import numpy as np;import os;import matplotlib.pyplot as plt;import os;\n",
    "from scipy.io import savemat,loadmat;from pybamm import constants,exp,tanh,sqrt;import matplotlib as mpl; fs=17; # or we can set import matplotlib.pyplot as plt then say 'mpl.rc...'\n",
    "for k in range(0,1):\n",
    "    mpl.rcParams[\"axes.labelsize\"] = fs\n",
    "    mpl.rcParams[\"axes.titlesize\"] = fs\n",
    "    mpl.rcParams[\"xtick.labelsize\"] =  fs\n",
    "    mpl.rcParams[\"ytick.labelsize\"] =  fs\n",
    "    mpl.rcParams[\"legend.fontsize\"] =  fs\n",
    "    mpl.rcParams['font.sans-serif'] = ['Times New Roman']\n",
    "    mpl.rcParams['font.serif'] = ['Times New Roman']\n",
    "    mpl.rcParams['axes.unicode_minus'] = False\n",
    "import traceback"
   ]
  },
  {
   "cell_type": "code",
   "execution_count": 2,
   "metadata": {},
   "outputs": [],
   "source": [
    "# define function:\n",
    "def electrolyte_conductivity_Nyman2008_wEC(c_e,c_EC, T):\n",
    "    x = c_EC / c_e\n",
    "    coff = 1\n",
    "    sigma_e = (\n",
    "        ((-(0.0+ coff/2 + coff/2 *  tanh((x-4.541*1.5)/1.5))) +\n",
    "        ( coff/2 + coff/2 *  tanh((x-4.541*0.5)/1.5)) ) * \n",
    "        (\n",
    "        0.1 * 0.06248 * (1+298.15-0.05559) * \n",
    "        (c_e/1e3) * (1 - 3.084 *sqrt(c_e/1e3) \n",
    "        + 1.33 *(1+ 0.03633 *(exp(1000/298.15))*c_e/1e3)   ) \n",
    "        / (1+(c_e/1e3)**4*( 0.00795 *exp(1000/298.15))) )  )\n",
    "    return sigma_e\n",
    "def electrolyte_diffusivity_Nyman2008_wEC(c_e, c_EC,T):\n",
    "    x = c_EC / c_e\n",
    "    coff = 1\n",
    "    D_c_e = (\n",
    "        #((-(0.0+ coff/2 + coff/2 *  tanh((x-4.541*1.5)/1.5))) +\n",
    "        #( coff/2 + coff/2 *  tanh((x-4.541*0.5)/1.5)) ) * \n",
    "        (6 * exp( -1 *(c_e/1000)) \n",
    "        * exp(-5/298.15) \n",
    "        * exp(-95/298.15*(c_e/1000)) * 1e-10 ) )\n",
    "    return D_c_e\n"
   ]
  },
  {
   "cell_type": "code",
   "execution_count": 3,
   "metadata": {},
   "outputs": [],
   "source": [
    "V_max = 4.2;        V_min = 2.5;\n",
    "Diff_SEI = 1.7e-20;    R_SEI = 2E5;   Bulk_Sol_Con = 4541.0;\n",
    "Experiment_Long   = pybamm.Experiment( [ (\n",
    "    f\"Discharge at 1 C until {V_min} V\", \n",
    "    f\"Charge at 0.3 C until {V_max} V\", \n",
    "    f\"Hold at {V_max} V until C/5\")    ] * 1 ) \n",
    "Experiment_s   = pybamm.Experiment( [ (\n",
    "    f\"Discharge at 1 C for 240 s\", )    ] * 1 )   "
   ]
  },
  {
   "cell_type": "code",
   "execution_count": 4,
   "metadata": {},
   "outputs": [],
   "source": [
    "BasicPath = 'D:/OneDrive - Imperial College London/SimDataSave/P3R4/'; \n",
    "Target  = 'a2_Diff_Cond_c_EC/'\n",
    "if not os.path.exists(BasicPath + Target):\n",
    "    os.mkdir(BasicPath + Target);"
   ]
  },
  {
   "cell_type": "code",
   "execution_count": 5,
   "metadata": {},
   "outputs": [
    {
     "name": "stdout",
     "output_type": "stream",
     "text": [
      "using EC wo refill for Li+\n"
     ]
    }
   ],
   "source": [
    "Model_ddiff = pybamm.lithium_ion.DFN(     \n",
    "    options={\"solvent diffusion\": \"EC wo refill\"     } )\n",
    "Model_sdiff = pybamm.lithium_ion.DFN(     \n",
    "    options={\"solvent diffusion\": \"none\"     } )\n",
    "ChemistryChen=pybamm.parameter_sets.Chen2020 \n",
    "ChemistryChen[\"electrolyte\"] = \"lipf6_Nyman2008_rio\";\n",
    "Para_0=pybamm.ParameterValues(chemistry=ChemistryChen);\n",
    "\n",
    "\n",
    "Para_0['EC Lithium ion cross diffusivity [m2.s-1]'] = \"[input]\" # 1.5e-9/1e2;\n",
    "Para_0['Typical EC Lithium ion cross diffusivity [m2.s-1]'] =   1.5e-9/1e2\n",
    "Para_0['EC transference number'] =     \"[input]\" # -1.4\n",
    "Para_0['EC diffusivity in electrolyte [m2.s-1]'] =   \"[input]\" # 5E-12;\n",
    "Para_0.update(\n",
    "    {'Electrolyte diffusivity [m2.s-1]':\n",
    "    electrolyte_diffusivity_Nyman2008_wEC})\n",
    "Para_0.update(\n",
    "    {'Electrolyte conductivity [S.m-1]':\n",
    "    electrolyte_conductivity_Nyman2008_wEC})\n",
    "c_e_ddiff = Model_ddiff.variables[\"Electrolyte concentration [mol.m-3]\"]\n",
    "T_ddiff = Model_ddiff.variables[\"Cell temperature [K]\"]\n",
    "c_EC_ddiff = Model_ddiff.variables[\"EC concentration [mol.m-3]\"]\n",
    "Model_ddiff.variables[\"c(EC) over c(Li+)\"] = c_EC_ddiff / c_e_ddiff\n",
    "Model_ddiff.variables[\"Electrolyte conductivity [S.m-1]\"] =electrolyte_conductivity_Nyman2008_wEC(c_e_ddiff,c_EC_ddiff, T_ddiff)\n",
    "Model_ddiff.variables[\"Electrolyte diffusivity [m2.s-1]\"] =electrolyte_diffusivity_Nyman2008_wEC(c_e_ddiff,c_EC_ddiff, T_ddiff)"
   ]
  },
  {
   "cell_type": "code",
   "execution_count": 6,
   "metadata": {},
   "outputs": [],
   "source": [
    "Sim_ddiff    = pybamm.Simulation(\n",
    "    Model_ddiff, experiment = Experiment_Long,\n",
    "    parameter_values = Para_0,\n",
    "    solver = pybamm.CasadiSolver(),)   \n",
    "Sol_ddiff    = Sim_ddiff.solve(\n",
    "    inputs={\n",
    "        \"EC transference number\":-1.4,\n",
    "        \"Cation transference number\":0.28,\n",
    "        \"EC Lithium ion cross diffusivity [m2.s-1]\":1.5e-10,\n",
    "        \"EC diffusivity in electrolyte [m2.s-1]\":5e-10,});"
   ]
  },
  {
   "cell_type": "code",
   "execution_count": 7,
   "metadata": {},
   "outputs": [
    {
     "name": "stdout",
     "output_type": "stream",
     "text": [
      "Electrolyte potential\n",
      "Electrolyte potential [V]\n",
      "Gradient of electrolyte potential\n",
      "Gradient of negative electrode potential\n",
      "Gradient of negative electrolyte potential\n",
      "Gradient of positive electrode potential\n",
      "Gradient of positive electrolyte potential\n",
      "Gradient of separator electrolyte potential\n",
      "Negative current collector potential\n",
      "Negative current collector potential [V]\n",
      "Negative electrode lithium plating reaction overpotential\n",
      "Negative electrode lithium plating reaction overpotential [V]\n",
      "Negative electrode open circuit potential\n",
      "Negative electrode open circuit potential [V]\n",
      "Negative electrode potential\n",
      "Negative electrode potential [V]\n",
      "Negative electrode reaction overpotential\n",
      "Negative electrode reaction overpotential [V]\n",
      "Negative electrode surface potential difference\n",
      "Negative electrode surface potential difference [V]\n",
      "Negative electrolyte potential\n",
      "Negative electrolyte potential [V]\n",
      "Positive current collector potential\n",
      "Positive current collector potential [V]\n",
      "Positive electrode open circuit potential\n",
      "Positive electrode open circuit potential [V]\n",
      "Positive electrode potential\n",
      "Positive electrode potential [V]\n",
      "Positive electrode reaction overpotential\n",
      "Positive electrode reaction overpotential [V]\n",
      "Positive electrode surface potential difference\n",
      "Positive electrode surface potential difference [V]\n",
      "Positive electrolyte potential\n",
      "Positive electrolyte potential [V]\n",
      "SEI film overpotential\n",
      "SEI film overpotential [V]\n",
      "Separator electrolyte potential\n",
      "Separator electrolyte potential [V]\n",
      "X-averaged SEI film overpotential\n",
      "X-averaged SEI film overpotential [V]\n",
      "X-averaged battery concentration overpotential [V]\n",
      "X-averaged battery reaction overpotential [V]\n",
      "X-averaged concentration overpotential\n",
      "X-averaged concentration overpotential [V]\n",
      "X-averaged electrolyte overpotential\n",
      "X-averaged electrolyte overpotential [V]\n",
      "X-averaged electrolyte potential\n",
      "X-averaged electrolyte potential [V]\n",
      "X-averaged negative electrode lithium plating reaction overpotential\n",
      "X-averaged negative electrode lithium plating reaction overpotential [V]\n",
      "X-averaged negative electrode open circuit potential\n",
      "X-averaged negative electrode open circuit potential [V]\n",
      "X-averaged negative electrode potential\n",
      "X-averaged negative electrode potential [V]\n",
      "X-averaged negative electrode reaction overpotential\n",
      "X-averaged negative electrode reaction overpotential [V]\n",
      "X-averaged negative electrode surface potential difference\n",
      "X-averaged negative electrode surface potential difference [V]\n",
      "X-averaged negative electrolyte potential\n",
      "X-averaged negative electrolyte potential [V]\n",
      "X-averaged positive electrode open circuit potential\n",
      "X-averaged positive electrode open circuit potential [V]\n",
      "X-averaged positive electrode potential\n",
      "X-averaged positive electrode potential [V]\n",
      "X-averaged positive electrode reaction overpotential\n",
      "X-averaged positive electrode reaction overpotential [V]\n",
      "X-averaged positive electrode surface potential difference\n",
      "X-averaged positive electrode surface potential difference [V]\n",
      "X-averaged positive electrolyte potential\n",
      "X-averaged positive electrolyte potential [V]\n",
      "X-averaged reaction overpotential\n",
      "X-averaged reaction overpotential [V]\n",
      "X-averaged separator electrolyte potential\n",
      "X-averaged separator electrolyte potential [V]\n"
     ]
    }
   ],
   "source": [
    "Model_ddiff.variables.search(\"potential\")"
   ]
  },
  {
   "cell_type": "code",
   "execution_count": 8,
   "metadata": {},
   "outputs": [
    {
     "name": "stdout",
     "output_type": "stream",
     "text": [
      "[0.16727267 0.17627466 0.19434671 0.22165489 0.25841968 0.30472971\n",
      " 0.36024401 0.42387894 0.49359678 0.56639703 0.63855565 0.70606933\n",
      " 0.76517448 0.81276962 0.84659978 0.86514343 0.86722869 0.85146583\n",
      " 0.81564139 0.75638085 0.71314553 0.70832326 0.70341952 0.69843428\n",
      " 0.69336755 0.68821942 0.68299001 0.67767948 0.67228808 0.6668161\n",
      " 0.66126391 0.65563193 0.64992066 0.64413068 0.63826264 0.63231725\n",
      " 0.62629533 0.62019778 0.61402556 0.60777974 0.5710048  0.50223119\n",
      " 0.43378272 0.36858154 0.30897693 0.25646094 0.21162699 0.17432537\n",
      " 0.14391086 0.11948664 0.10009156 0.08481814 0.07287247 0.06359426\n",
      " 0.05645392 0.05103881 0.04703608 0.04421625 0.04241948 0.04154517]\n",
      "[1.91045859e-10 1.90882182e-10 1.90554718e-10 1.90063258e-10\n",
      " 1.89407494e-10 1.88587040e-10 1.87601446e-10 1.86450226e-10\n",
      " 1.85132891e-10 1.83648984e-10 1.81998132e-10 1.80180104e-10\n",
      " 1.78194882e-10 1.76042751e-10 1.73724398e-10 1.71241046e-10\n",
      " 1.68594608e-10 1.65787876e-10 1.62824754e-10 1.59710539e-10\n",
      " 1.58001279e-10 1.57823250e-10 1.57645210e-10 1.57467157e-10\n",
      " 1.57289094e-10 1.57111021e-10 1.56932939e-10 1.56754847e-10\n",
      " 1.56576748e-10 1.56398640e-10 1.56220526e-10 1.56042405e-10\n",
      " 1.55864278e-10 1.55686146e-10 1.55508009e-10 1.55329869e-10\n",
      " 1.55151725e-10 1.54973579e-10 1.54795430e-10 1.54617280e-10\n",
      " 1.53592651e-10 1.51811079e-10 1.50114973e-10 1.48506098e-10\n",
      " 1.46986103e-10 1.45556515e-10 1.44218724e-10 1.42973973e-10\n",
      " 1.41823352e-10 1.40767788e-10 1.39808039e-10 1.38944687e-10\n",
      " 1.38178132e-10 1.37508590e-10 1.36936094e-10 1.36460483e-10\n",
      " 1.36081414e-10 1.35798356e-10 1.35610597e-10 1.35517247e-10]\n"
     ]
    }
   ],
   "source": [
    "print(Sol_ddiff[\"Electrolyte conductivity [S.m-1]\"].entries[:,51] )\n",
    "print(Sol_ddiff[\"Electrolyte diffusivity [m2.s-1]\"].entries[:,-1])"
   ]
  },
  {
   "cell_type": "code",
   "execution_count": 9,
   "metadata": {},
   "outputs": [],
   "source": [
    "font = {'family' : 'Times New Roman',\n",
    "        #'weight' : 'bold',\n",
    "        'size'   : 18}\n",
    "mpl.rc('font', **font)"
   ]
  },
  {
   "cell_type": "code",
   "execution_count": 10,
   "metadata": {},
   "outputs": [
    {
     "data": {
      "application/vnd.jupyter.widget-view+json": {
       "model_id": "962c2effd99a492ea52fa79f66edeb3e",
       "version_major": 2,
       "version_minor": 0
      },
      "text/plain": [
       "interactive(children=(FloatSlider(value=0.0, description='t', max=4.127123076880398, step=0.041271230768803985…"
      ]
     },
     "metadata": {},
     "output_type": "display_data"
    }
   ],
   "source": [
    "label = [\"ddiff\"] \n",
    "output_variables3 = [\n",
    "    \"Terminal voltage [V]\",   \n",
    "    #\"Current [A]\",\n",
    "    \"EC concentration [mol.m-3]\",\n",
    "    \"Electrolyte concentration [mol.m-3]\",\n",
    "    \"c(EC) over c(Li+)\",\n",
    "    #\"Loss of capacity to SEI [A.h]\",\n",
    "    \"Li+ flux [mol.m-2.s-1]\",\n",
    "    \"EC flux [mol.m-2.s-1]\",\n",
    "    \"Electrolyte conductivity [S.m-1]\",\n",
    "    \"Electrolyte diffusivity [m2.s-1]\",\n",
    "]\n",
    "quick_plot = pybamm.QuickPlot([\n",
    "    Sol_ddiff\n",
    "    ], output_variables3,label,\n",
    "    variable_limits='fixed',time_unit='hours',n_rows=2,\n",
    "    figsize = (16,6)) #     spatial_unit='mm',\n",
    "quick_plot.dynamic_plot();\n",
    "#quick_plot.create_gif(\n",
    "#    number_of_images=10, duration=2,output_filename=BasicPath + Target+\"fixed_add c_EC as tanh hat.gif\")"
   ]
  },
  {
   "cell_type": "code",
   "execution_count": 11,
   "metadata": {},
   "outputs": [
    {
     "data": {
      "application/vnd.jupyter.widget-view+json": {
       "model_id": "6b7ba8e2e21b4e41b23a350154a0c415",
       "version_major": 2,
       "version_minor": 0
      },
      "text/plain": [
       "interactive(children=(FloatSlider(value=0.0, description='t', max=4.127123076880398, step=0.041271230768803985…"
      ]
     },
     "metadata": {},
     "output_type": "display_data"
    }
   ],
   "source": [
    "label = [\"Sol_ddiff\"] \n",
    "output_variables3 = [\n",
    "    \"Terminal voltage [V]\",   \n",
    "    [\"EC flux [mol.m-2.s-1]\",\"EC flux by diffusion [mol.m-2.s-1]\",\n",
    "        \"EC flux by migration [mol.m-2.s-1]\",\"EC flux by Li+ [mol.m-2.s-1]\"],\n",
    "    [\"Li+ flux [mol.m-2.s-1]\",\"Li+ flux by diffusion [mol.m-2.s-1]\",\n",
    "        \"Li+ flux by migration [mol.m-2.s-1]\",\"Li+ flux by solvent [mol.m-2.s-1]\"],    \n",
    "]\n",
    "quick_plot = pybamm.QuickPlot([\n",
    "    Sol_ddiff,\n",
    "    ], output_variables3,label,\n",
    "    variable_limits='fixed',time_unit='hours',n_rows=1,\n",
    "    figsize = (16,6)) #     spatial_unit='mm',\n",
    "quick_plot.dynamic_plot();"
   ]
  },
  {
   "cell_type": "code",
   "execution_count": 12,
   "metadata": {},
   "outputs": [
    {
     "data": {
      "application/vnd.jupyter.widget-view+json": {
       "model_id": "de47ef75655d4896834ad61f8b0fb310",
       "version_major": 2,
       "version_minor": 0
      },
      "text/plain": [
       "interactive(children=(FloatSlider(value=0.0, description='t', max=4.127123076880398, step=0.041271230768803985…"
      ]
     },
     "metadata": {},
     "output_type": "display_data"
    }
   ],
   "source": [
    "label = [\"Sol_ddiff\"] \n",
    "output_variables3 = [\n",
    "    \"Terminal voltage [V]\",   \n",
    "    \"Electrolyte potential [V]\",\n",
    "    \"Positive electrode potential [V]\",\n",
    "    \"Negative electrode SOC\",\n",
    "    \"Positive electrode SOC\",\n",
    "    \"Porosity times concentration\",\n",
    "    \"eps_c_e rhs\",\n",
    "    \"Minus div Li+ flux\",\n",
    "    \"Li+ source term\",\n",
    "]\n",
    "quick_plot = pybamm.QuickPlot([\n",
    "    Sol_ddiff,\n",
    "    ], output_variables3,label,\n",
    "    variable_limits='fixed',time_unit='hours',n_rows=3,\n",
    "    figsize = (16,12)) #     spatial_unit='mm',\n",
    "quick_plot.dynamic_plot();\n"
   ]
  },
  {
   "cell_type": "code",
   "execution_count": 13,
   "metadata": {},
   "outputs": [
    {
     "data": {
      "application/vnd.jupyter.widget-view+json": {
       "model_id": "ece8b7c08ce94fdb8c2085ca5aca717b",
       "version_major": 2,
       "version_minor": 0
      },
      "text/plain": [
       "interactive(children=(FloatSlider(value=0.0, description='t', max=4.127123076880398, step=0.041271230768803985…"
      ]
     },
     "metadata": {},
     "output_type": "display_data"
    }
   ],
   "source": [
    "label = [\"ddiff\"] \n",
    "output_variables3 = [\n",
    "    \"Terminal voltage [V]\",   \n",
    "    #\"Current [A]\",\n",
    "    \"EC concentration [mol.m-3]\",\n",
    "    \"Electrolyte concentration [mol.m-3]\",\n",
    "    \"c(EC) over c(Li+)\",\n",
    "    #\"Loss of capacity to SEI [A.h]\",\n",
    "    \"Li+ flux [mol.m-2.s-1]\",\n",
    "    \"EC flux [mol.m-2.s-1]\",\n",
    "    \"Electrolyte conductivity [S.m-1]\",\n",
    "    \"Electrolyte diffusivity [m2.s-1]\",\n",
    "]\n",
    "quick_plot = pybamm.QuickPlot([\n",
    "    Sol_ddiff\n",
    "    ], output_variables3,label,\n",
    "    variable_limits='tight',time_unit='hours',n_rows=2,\n",
    "    figsize = (16,6)) #     spatial_unit='mm',\n",
    "quick_plot.dynamic_plot();\n",
    "#quick_plot.create_gif(\n",
    "#    number_of_images=10, duration=2,output_filename=BasicPath + Target+\"add c_EC as tanh hat.gif\")"
   ]
  }
 ],
 "metadata": {
  "kernelspec": {
   "display_name": "Python 3.9.6 ('envPBGEM')",
   "language": "python",
   "name": "python3"
  },
  "language_info": {
   "codemirror_mode": {
    "name": "ipython",
    "version": 3
   },
   "file_extension": ".py",
   "mimetype": "text/x-python",
   "name": "python",
   "nbconvert_exporter": "python",
   "pygments_lexer": "ipython3",
   "version": "3.9.6"
  },
  "orig_nbformat": 4,
  "vscode": {
   "interpreter": {
    "hash": "83fab7fbb3a8fe7b5910804f702478ef63e2cc6a08d85072a5d68865ed0fd8c7"
   }
  }
 },
 "nbformat": 4,
 "nbformat_minor": 2
}
