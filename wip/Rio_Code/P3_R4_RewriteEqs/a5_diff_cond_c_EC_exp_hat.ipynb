{
 "cells": [
  {
   "cell_type": "markdown",
   "metadata": {},
   "source": [
    "# add c_EC as one of the inputs for diffusivity and conductivity; use exponeitial extrapolation for Nyman2008 and make the added function a hat rather than tanh"
   ]
  },
  {
   "cell_type": "code",
   "execution_count": 1,
   "metadata": {},
   "outputs": [],
   "source": [
    "import pybamm\n",
    "import numpy as np\n",
    "import matplotlib.pyplot as plt\n",
    "import pandas as pd   ;import numpy as np;import os;import matplotlib.pyplot as plt;import os;\n",
    "from scipy.io import savemat,loadmat;from pybamm import constants,exp,tanh,sqrt;import matplotlib as mpl; fs=17; # or we can set import matplotlib.pyplot as plt then say 'mpl.rc...'\n",
    "for k in range(0,1):\n",
    "    mpl.rcParams[\"axes.labelsize\"] = fs\n",
    "    mpl.rcParams[\"axes.titlesize\"] = fs\n",
    "    mpl.rcParams[\"xtick.labelsize\"] =  fs\n",
    "    mpl.rcParams[\"ytick.labelsize\"] =  fs\n",
    "    mpl.rcParams[\"legend.fontsize\"] =  fs\n",
    "    mpl.rcParams['font.sans-serif'] = ['Times New Roman']\n",
    "    mpl.rcParams['font.serif'] = ['Times New Roman']\n",
    "    mpl.rcParams['axes.unicode_minus'] = False\n",
    "import traceback"
   ]
  },
  {
   "cell_type": "code",
   "execution_count": 2,
   "metadata": {},
   "outputs": [],
   "source": [
    "# define function:\n",
    "def electrolyte_conductivity_Nyman2008_wEC(c_e,c_EC, T):\n",
    "    x = c_EC / c_e\n",
    "    coff = 1\n",
    "    sigma_e = (\n",
    "        ((-(0.0+ coff/2 + coff/2 *  tanh((x-4.541*1.5)/1.5))) +\n",
    "        ( coff/2 + coff/2 *  tanh((x-4.541*0.5)/1.5)) ) * \n",
    "        (\n",
    "        0.1 * 0.06248 * (1+298.15-0.05559) * \n",
    "        (c_e/1e3) * (1 - 3.084 *sqrt(c_e/1e3) \n",
    "        + 1.33 *(1+ 0.03633 *(exp(1000/298.15))*c_e/1e3)   ) \n",
    "        / (1+(c_e/1e3)**4*( 0.00795 *exp(1000/298.15))) )  )\n",
    "    return sigma_e\n",
    "def electrolyte_diffusivity_Nyman2008_wEC(c_e, c_EC,T):\n",
    "    x = c_EC / c_e\n",
    "    coff = 1\n",
    "    D_c_e = (\n",
    "        #( 0.00+ coff/2 + coff/2 *  tanh((x-2.7705)*2) )  * \n",
    "        (6 * exp( -1 *(c_e/1000)) \n",
    "        * exp(-5/298.15) \n",
    "        * exp(-95/298.15*(c_e/1000)) * 1e-10 ) )\n",
    "    return D_c_e\n"
   ]
  },
  {
   "cell_type": "code",
   "execution_count": 3,
   "metadata": {},
   "outputs": [],
   "source": [
    "V_max = 4.2;        V_min = 2.5;\n",
    "Diff_SEI = 1.7e-20;    R_SEI = 2E5;   Bulk_Sol_Con = 4541.0;\n",
    "Experiment_Long   = pybamm.Experiment( [ (\n",
    "    f\"Discharge at 1 C until {V_min} V\", \n",
    "    f\"Charge at 0.3 C until {V_max} V\", \n",
    "    f\"Hold at {V_max} V until C/5\")    ] * 1 ) \n",
    "Experiment_s   = pybamm.Experiment( [ (\n",
    "    f\"Discharge at 1 C for 240 s\", )    ] * 1 )   "
   ]
  },
  {
   "cell_type": "code",
   "execution_count": 4,
   "metadata": {},
   "outputs": [],
   "source": [
    "BasicPath = 'D:/OneDrive - Imperial College London/SimDataSave/P3R4/'; \n",
    "Target  = 'a2_Diff_Cond_c_EC/'\n",
    "if not os.path.exists(BasicPath + Target):\n",
    "    os.mkdir(BasicPath + Target);"
   ]
  },
  {
   "cell_type": "code",
   "execution_count": 5,
   "metadata": {},
   "outputs": [
    {
     "name": "stdout",
     "output_type": "stream",
     "text": [
      "using EC wo refill for Li+\n"
     ]
    }
   ],
   "source": [
    "Model_ddiff = pybamm.lithium_ion.DFN(     \n",
    "    options={\"solvent diffusion\": \"EC wo refill\"     } )\n",
    "Model_sdiff = pybamm.lithium_ion.DFN(     \n",
    "    options={\"solvent diffusion\": \"none\"     } )\n",
    "ChemistryChen=pybamm.parameter_sets.Chen2020 \n",
    "ChemistryChen[\"electrolyte\"] = \"lipf6_Nyman2008_rio\";\n",
    "Para_0=pybamm.ParameterValues(chemistry=ChemistryChen);\n",
    "\n",
    "\n",
    "Para_0['EC Lithium ion cross diffusivity [m2.s-1]'] = \"[input]\" # 1.5e-9/1e2;\n",
    "Para_0['Typical EC Lithium ion cross diffusivity [m2.s-1]'] =   1.5e-9/1e2\n",
    "Para_0['EC transference number'] =     \"[input]\" # -1.4\n",
    "Para_0['EC diffusivity in electrolyte [m2.s-1]'] =   \"[input]\" # 5E-12;\n",
    "Para_0.update(\n",
    "    {'Electrolyte diffusivity [m2.s-1]':\n",
    "    electrolyte_diffusivity_Nyman2008_wEC})\n",
    "Para_0.update(\n",
    "    {'Electrolyte conductivity [S.m-1]':\n",
    "    electrolyte_conductivity_Nyman2008_wEC})\n",
    "c_e_ddiff = Model_ddiff.variables[\"Electrolyte concentration [mol.m-3]\"]\n",
    "T_ddiff = Model_ddiff.variables[\"Cell temperature [K]\"]\n",
    "c_EC_ddiff = Model_ddiff.variables[\"EC concentration [mol.m-3]\"]\n",
    "Model_ddiff.variables[\"c(EC) over c(Li+)\"] = c_EC_ddiff / c_e_ddiff\n",
    "Model_ddiff.variables[\"Electrolyte conductivity [S.m-1]\"] =electrolyte_conductivity_Nyman2008_wEC(c_e_ddiff,c_EC_ddiff, T_ddiff)\n",
    "Model_ddiff.variables[\"Electrolyte diffusivity [m2.s-1]\"] =electrolyte_diffusivity_Nyman2008_wEC(c_e_ddiff,c_EC_ddiff, T_ddiff)"
   ]
  },
  {
   "cell_type": "code",
   "execution_count": 8,
   "metadata": {},
   "outputs": [],
   "source": [
    "Sim_ddiff    = pybamm.Simulation(\n",
    "    Model_ddiff, experiment = Experiment_Long,\n",
    "    parameter_values = Para_0,\n",
    "    solver = pybamm.CasadiSolver(),)   \n",
    "Sol_ddiff    = Sim_ddiff.solve(\n",
    "    inputs={\n",
    "        \"EC transference number\":-1.4,\n",
    "        \"Cation transference number\":0.28,\n",
    "        \"EC Lithium ion cross diffusivity [m2.s-1]\":1.5e-10,\n",
    "        \"EC diffusivity in electrolyte [m2.s-1]\":5e-10,});"
   ]
  },
  {
   "cell_type": "code",
   "execution_count": 7,
   "metadata": {},
   "outputs": [
    {
     "name": "stdout",
     "output_type": "stream",
     "text": [
      "Succeed for:  Xi= -1.5 t_0plus= 0.28 D_cross= 1.5e-16 D_ec= 5e-10\n",
      "Succeed for:  Xi= -1.5 t_0plus= 0.28 D_cross= 1.5e-14 D_ec= 5e-10\n",
      "Succeed for:  Xi= -1.5 t_0plus= 0.28 D_cross= 1.5e-12 D_ec= 5e-10\n",
      "Succeed for:  Xi= -1.5 t_0plus= 0.28 D_cross= 1.5e-10 D_ec= 5e-10\n"
     ]
    },
    {
     "name": "stderr",
     "output_type": "stream",
     "text": [
      "At t = 1.39729e-006 and h = 9.17449e-121, the corrector convergence failed repeatedly or with |h| = hmin.\n",
      "At t = 1.39863e-006 and h = 8.96449e-087, the corrector convergence failed repeatedly or with |h| = hmin.\n",
      "At t = 1.38704e-006 and h = 6.87334e-036, the corrector convergence failed repeatedly or with |h| = hmin.\n",
      "At t = 1.39624e-006 and h = 9.92377e-108, the corrector convergence failed repeatedly or with |h| = hmin.\n",
      "At t = 1.38817e-006 and h = 1.08679e-119, the corrector convergence failed repeatedly or with |h| = hmin.\n",
      "2022-10-06 15:57:36.504 - [ERROR] callbacks.on_experiment_error(226): Simulation error: Maximum number of decreased steps occurred at t=0.0. Try solving the model up to this time only or reducing dt_max (currently, dt_max=3.5458164923888056) and/or reducing the size of the time steps or period of the experiment.\n"
     ]
    },
    {
     "name": "stdout",
     "output_type": "stream",
     "text": [
      "Traceback (most recent call last):\n",
      "  File \"C:\\Users\\rl1120\\AppData\\Local\\Temp\\ipykernel_26412\\576364207.py\", line 15, in <cell line: 12>\n",
      "    Sol_ddiff    = Sim_ddiff.solve(\n",
      "  File \"d:\\gitpybamm\\lrh_409\\lrh_409\\envsolcon\\pybamm-gem\\pybamm\\simulation.py\", line 843, in solve\n",
      "    raise e\n",
      "  File \"d:\\gitpybamm\\lrh_409\\lrh_409\\envsolcon\\pybamm-gem\\pybamm\\simulation.py\", line 829, in solve\n",
      "    step_solution = solver.step(\n",
      "  File \"d:\\gitpybamm\\lrh_409\\lrh_409\\envsolcon\\pybamm-gem\\pybamm\\solvers\\base_solver.py\", line 1322, in step\n",
      "    solution = self._integrate(model, t_eval, ext_and_inputs)\n",
      "  File \"d:\\gitpybamm\\lrh_409\\lrh_409\\envsolcon\\pybamm-gem\\pybamm\\solvers\\casadi_solver.py\", line 266, in _integrate\n",
      "    raise pybamm.SolverError(\n",
      "pybamm.expression_tree.exceptions.SolverError: Maximum number of decreased steps occurred at t=0.0. Try solving the model up to this time only or reducing dt_max (currently, dt_max=3.5458164923888056) and/or reducing the size of the time steps or period of the experiment.\n",
      "\n",
      "Fail for:  Xi= -1.5 t_0plus= 0.28 D_cross= 1.5e-09 D_ec= 5e-10\n",
      "Succeed for:  Xi= -1.45 t_0plus= 0.28 D_cross= 1.5e-16 D_ec= 5e-10\n",
      "Succeed for:  Xi= -1.45 t_0plus= 0.28 D_cross= 1.5e-14 D_ec= 5e-10\n",
      "Succeed for:  Xi= -1.45 t_0plus= 0.28 D_cross= 1.5e-12 D_ec= 5e-10\n",
      "Succeed for:  Xi= -1.45 t_0plus= 0.28 D_cross= 1.5e-10 D_ec= 5e-10\n"
     ]
    },
    {
     "name": "stderr",
     "output_type": "stream",
     "text": [
      "At t = 1.77261e-006 and h = 1.60809e-107, the corrector convergence failed repeatedly or with |h| = hmin.\n",
      "At t = 1.78646e-006 and h = 1.9855e-047, the corrector convergence failed repeatedly or with |h| = hmin.\n",
      "At t = 1.79463e-006 and h = 2.53832e-089, the corrector convergence failed repeatedly or with |h| = hmin.\n",
      "At t = 1.78001e-006 and h = 9.42135e-026, the corrector convergence failed repeatedly or with |h| = hmin.\n",
      "At t = 1.78357e-006 and h = 2.27735e-159, the corrector convergence failed repeatedly or with |h| = hmin.\n",
      "2022-10-06 15:58:02.261 - [ERROR] callbacks.on_experiment_error(226): Simulation error: Maximum number of decreased steps occurred at t=0.0. Try solving the model up to this time only or reducing dt_max (currently, dt_max=3.5458164923888056) and/or reducing the size of the time steps or period of the experiment.\n"
     ]
    },
    {
     "name": "stdout",
     "output_type": "stream",
     "text": [
      "Traceback (most recent call last):\n",
      "  File \"C:\\Users\\rl1120\\AppData\\Local\\Temp\\ipykernel_26412\\576364207.py\", line 15, in <cell line: 12>\n",
      "    Sol_ddiff    = Sim_ddiff.solve(\n",
      "  File \"d:\\gitpybamm\\lrh_409\\lrh_409\\envsolcon\\pybamm-gem\\pybamm\\simulation.py\", line 843, in solve\n",
      "    raise e\n",
      "  File \"d:\\gitpybamm\\lrh_409\\lrh_409\\envsolcon\\pybamm-gem\\pybamm\\simulation.py\", line 829, in solve\n",
      "    step_solution = solver.step(\n",
      "  File \"d:\\gitpybamm\\lrh_409\\lrh_409\\envsolcon\\pybamm-gem\\pybamm\\solvers\\base_solver.py\", line 1322, in step\n",
      "    solution = self._integrate(model, t_eval, ext_and_inputs)\n",
      "  File \"d:\\gitpybamm\\lrh_409\\lrh_409\\envsolcon\\pybamm-gem\\pybamm\\solvers\\casadi_solver.py\", line 266, in _integrate\n",
      "    raise pybamm.SolverError(\n",
      "pybamm.expression_tree.exceptions.SolverError: Maximum number of decreased steps occurred at t=0.0. Try solving the model up to this time only or reducing dt_max (currently, dt_max=3.5458164923888056) and/or reducing the size of the time steps or period of the experiment.\n",
      "\n",
      "Fail for:  Xi= -1.45 t_0plus= 0.28 D_cross= 1.5e-09 D_ec= 5e-10\n",
      "Succeed for:  Xi= -1.4 t_0plus= 0.28 D_cross= 1.5e-16 D_ec= 5e-10\n",
      "Succeed for:  Xi= -1.4 t_0plus= 0.28 D_cross= 1.5e-14 D_ec= 5e-10\n",
      "Succeed for:  Xi= -1.4 t_0plus= 0.28 D_cross= 1.5e-12 D_ec= 5e-10\n",
      "Succeed for:  Xi= -1.4 t_0plus= 0.28 D_cross= 1.5e-10 D_ec= 5e-10\n"
     ]
    },
    {
     "name": "stderr",
     "output_type": "stream",
     "text": [
      "At t = 1.79194e-006 and h = 3.01854e-109, the corrector convergence failed repeatedly or with |h| = hmin.\n",
      "At t = 1.78963e-006 and h = 8.81234e-019, the corrector convergence failed repeatedly or with |h| = hmin.\n",
      "At t = 1.79132e-006 and h = 1.49243e-023, the corrector convergence failed repeatedly or with |h| = hmin.\n",
      "At t = 1.80132e-006 and h = 1.93003e-071, the corrector convergence failed repeatedly or with |h| = hmin.\n",
      "At t = 1.8048e-006 and h = 2.0179e-059, the corrector convergence failed repeatedly or with |h| = hmin.\n",
      "2022-10-06 15:58:27.704 - [ERROR] callbacks.on_experiment_error(226): Simulation error: Maximum number of decreased steps occurred at t=0.0. Try solving the model up to this time only or reducing dt_max (currently, dt_max=3.5458164923888056) and/or reducing the size of the time steps or period of the experiment.\n"
     ]
    },
    {
     "name": "stdout",
     "output_type": "stream",
     "text": [
      "Traceback (most recent call last):\n",
      "  File \"C:\\Users\\rl1120\\AppData\\Local\\Temp\\ipykernel_26412\\576364207.py\", line 15, in <cell line: 12>\n",
      "    Sol_ddiff    = Sim_ddiff.solve(\n",
      "  File \"d:\\gitpybamm\\lrh_409\\lrh_409\\envsolcon\\pybamm-gem\\pybamm\\simulation.py\", line 843, in solve\n",
      "    raise e\n",
      "  File \"d:\\gitpybamm\\lrh_409\\lrh_409\\envsolcon\\pybamm-gem\\pybamm\\simulation.py\", line 829, in solve\n",
      "    step_solution = solver.step(\n",
      "  File \"d:\\gitpybamm\\lrh_409\\lrh_409\\envsolcon\\pybamm-gem\\pybamm\\solvers\\base_solver.py\", line 1322, in step\n",
      "    solution = self._integrate(model, t_eval, ext_and_inputs)\n",
      "  File \"d:\\gitpybamm\\lrh_409\\lrh_409\\envsolcon\\pybamm-gem\\pybamm\\solvers\\casadi_solver.py\", line 266, in _integrate\n",
      "    raise pybamm.SolverError(\n",
      "pybamm.expression_tree.exceptions.SolverError: Maximum number of decreased steps occurred at t=0.0. Try solving the model up to this time only or reducing dt_max (currently, dt_max=3.5458164923888056) and/or reducing the size of the time steps or period of the experiment.\n",
      "\n",
      "Fail for:  Xi= -1.4 t_0plus= 0.28 D_cross= 1.5e-09 D_ec= 5e-10\n",
      "Succeed for:  Xi= -1.35 t_0plus= 0.28 D_cross= 1.5e-16 D_ec= 5e-10\n",
      "Succeed for:  Xi= -1.35 t_0plus= 0.28 D_cross= 1.5e-14 D_ec= 5e-10\n",
      "Succeed for:  Xi= -1.35 t_0plus= 0.28 D_cross= 1.5e-12 D_ec= 5e-10\n",
      "Succeed for:  Xi= -1.35 t_0plus= 0.28 D_cross= 1.5e-10 D_ec= 5e-10\n"
     ]
    },
    {
     "name": "stderr",
     "output_type": "stream",
     "text": [
      "At t = 1.45739e-006 and h = 8.49031e-040, the corrector convergence failed repeatedly or with |h| = hmin.\n",
      "At t = 1.42747e-006 and h = 6.57757e-121, the corrector convergence failed repeatedly or with |h| = hmin.\n",
      "At t = 1.43466e-006 and h = 1.8261e-039, the corrector convergence failed repeatedly or with |h| = hmin.\n",
      "At t = 1.47949e-006 and h = 1.81491e-061, the corrector convergence failed repeatedly or with |h| = hmin.\n",
      "At t = 1.55389e-006 and h = 5.03859e-021, the corrector convergence failed repeatedly or with |h| = hmin.\n",
      "2022-10-06 15:58:51.424 - [ERROR] callbacks.on_experiment_error(226): Simulation error: Maximum number of decreased steps occurred at t=0.0. Try solving the model up to this time only or reducing dt_max (currently, dt_max=3.5458164923888056) and/or reducing the size of the time steps or period of the experiment.\n"
     ]
    },
    {
     "name": "stdout",
     "output_type": "stream",
     "text": [
      "Traceback (most recent call last):\n",
      "  File \"C:\\Users\\rl1120\\AppData\\Local\\Temp\\ipykernel_26412\\576364207.py\", line 15, in <cell line: 12>\n",
      "    Sol_ddiff    = Sim_ddiff.solve(\n",
      "  File \"d:\\gitpybamm\\lrh_409\\lrh_409\\envsolcon\\pybamm-gem\\pybamm\\simulation.py\", line 843, in solve\n",
      "    raise e\n",
      "  File \"d:\\gitpybamm\\lrh_409\\lrh_409\\envsolcon\\pybamm-gem\\pybamm\\simulation.py\", line 829, in solve\n",
      "    step_solution = solver.step(\n",
      "  File \"d:\\gitpybamm\\lrh_409\\lrh_409\\envsolcon\\pybamm-gem\\pybamm\\solvers\\base_solver.py\", line 1322, in step\n",
      "    solution = self._integrate(model, t_eval, ext_and_inputs)\n",
      "  File \"d:\\gitpybamm\\lrh_409\\lrh_409\\envsolcon\\pybamm-gem\\pybamm\\solvers\\casadi_solver.py\", line 266, in _integrate\n",
      "    raise pybamm.SolverError(\n",
      "pybamm.expression_tree.exceptions.SolverError: Maximum number of decreased steps occurred at t=0.0. Try solving the model up to this time only or reducing dt_max (currently, dt_max=3.5458164923888056) and/or reducing the size of the time steps or period of the experiment.\n",
      "\n",
      "Fail for:  Xi= -1.35 t_0plus= 0.28 D_cross= 1.5e-09 D_ec= 5e-10\n",
      "Succeed for:  Xi= -1.3 t_0plus= 0.28 D_cross= 1.5e-16 D_ec= 5e-10\n",
      "Succeed for:  Xi= -1.3 t_0plus= 0.28 D_cross= 1.5e-14 D_ec= 5e-10\n",
      "Succeed for:  Xi= -1.3 t_0plus= 0.28 D_cross= 1.5e-12 D_ec= 5e-10\n",
      "Succeed for:  Xi= -1.3 t_0plus= 0.28 D_cross= 1.5e-10 D_ec= 5e-10\n"
     ]
    },
    {
     "name": "stderr",
     "output_type": "stream",
     "text": [
      "At t = 1.53325e-006 and h = 3.62629e-160, the corrector convergence failed repeatedly or with |h| = hmin.\n",
      "At t = 1.53533e-006 and h = 5.65718e-033, the corrector convergence failed repeatedly or with |h| = hmin.\n",
      "At t = 1.52936e-006 and h = 6.22035e-023, the corrector convergence failed repeatedly or with |h| = hmin.\n",
      "At t = 1.53521e-006 and h = 1.01508e-030, the corrector convergence failed repeatedly or with |h| = hmin.\n",
      "At t = 1.529e-006 and h = 1.08164e-084, the corrector convergence failed repeatedly or with |h| = hmin.\n",
      "2022-10-06 15:59:15.672 - [ERROR] callbacks.on_experiment_error(226): Simulation error: Maximum number of decreased steps occurred at t=0.0. Try solving the model up to this time only or reducing dt_max (currently, dt_max=3.5458164923888056) and/or reducing the size of the time steps or period of the experiment.\n"
     ]
    },
    {
     "name": "stdout",
     "output_type": "stream",
     "text": [
      "Traceback (most recent call last):\n",
      "  File \"C:\\Users\\rl1120\\AppData\\Local\\Temp\\ipykernel_26412\\576364207.py\", line 15, in <cell line: 12>\n",
      "    Sol_ddiff    = Sim_ddiff.solve(\n",
      "  File \"d:\\gitpybamm\\lrh_409\\lrh_409\\envsolcon\\pybamm-gem\\pybamm\\simulation.py\", line 843, in solve\n",
      "    raise e\n",
      "  File \"d:\\gitpybamm\\lrh_409\\lrh_409\\envsolcon\\pybamm-gem\\pybamm\\simulation.py\", line 829, in solve\n",
      "    step_solution = solver.step(\n",
      "  File \"d:\\gitpybamm\\lrh_409\\lrh_409\\envsolcon\\pybamm-gem\\pybamm\\solvers\\base_solver.py\", line 1322, in step\n",
      "    solution = self._integrate(model, t_eval, ext_and_inputs)\n",
      "  File \"d:\\gitpybamm\\lrh_409\\lrh_409\\envsolcon\\pybamm-gem\\pybamm\\solvers\\casadi_solver.py\", line 266, in _integrate\n",
      "    raise pybamm.SolverError(\n",
      "pybamm.expression_tree.exceptions.SolverError: Maximum number of decreased steps occurred at t=0.0. Try solving the model up to this time only or reducing dt_max (currently, dt_max=3.5458164923888056) and/or reducing the size of the time steps or period of the experiment.\n",
      "\n",
      "Fail for:  Xi= -1.3 t_0plus= 0.28 D_cross= 1.5e-09 D_ec= 5e-10\n"
     ]
    }
   ],
   "source": [
    "Sim_ddiff    = pybamm.Simulation(\n",
    "    Model_ddiff, experiment = Experiment_Long,\n",
    "    parameter_values = Para_0,\n",
    "    solver = pybamm.CasadiSolver(),)   \n",
    "index_c = 5\n",
    "Xi =  list(np.linspace(-1.5, -1.3,index_c));\n",
    "t_0plus = list(np.linspace(0.01, 0.3, index_c));\n",
    "D_cross = [1.5e-16, 1.5e-14, 1.5e-12, 1.5e-10, 1.5e-9];\n",
    "D_ec = list(np.linspace(5e-14, 5e-10, index_c));\n",
    "Set_succ = []; Set_fail = []; ErrorMess = [];\n",
    "t_0plus_i = 0.28;  D_ec_i = 5e-10; \n",
    "for Xi_i in Xi:\n",
    "    for D_cross_i in D_cross:\n",
    "            try:\n",
    "                Sol_ddiff    = Sim_ddiff.solve(\n",
    "                    inputs={\n",
    "                        \"EC transference number\":Xi_i,\n",
    "                        \"Cation transference number\":t_0plus_i,\n",
    "                        \"EC Lithium ion cross diffusivity [m2.s-1]\":D_cross_i,\n",
    "                        \"EC diffusivity in electrolyte [m2.s-1]\":D_ec_i,});\n",
    "            except:\n",
    "                str_error = traceback.format_exc()  \n",
    "                print(str_error)\n",
    "                ErrorMess.append(str_error)\n",
    "                print(\"Fail for: \", \n",
    "                'Xi=',Xi_i, \"t_0plus=\",t_0plus_i, \n",
    "                \"D_cross=\",D_cross_i, \"D_ec=\", D_ec_i );\n",
    "                Set_fail.append([Xi_i,t_0plus_i,D_cross_i,D_ec_i])\n",
    "\n",
    "            else:\n",
    "                print(\"Succeed for: \", \n",
    "                'Xi=',Xi_i, \"t_0plus=\",t_0plus_i, \n",
    "                \"D_cross=\",D_cross_i, \"D_ec=\", D_ec_i );\n",
    "                Set_succ.append([Xi_i,t_0plus_i,D_cross_i,D_ec_i])\n",
    "            "
   ]
  },
  {
   "cell_type": "code",
   "execution_count": null,
   "metadata": {},
   "outputs": [],
   "source": [
    "Model_ddiff.variables.search(\"potential\")"
   ]
  },
  {
   "cell_type": "code",
   "execution_count": 28,
   "metadata": {},
   "outputs": [
    {
     "name": "stdout",
     "output_type": "stream",
     "text": [
      "[8.67916594e-08 4.60756039e-01 4.73533886e-01 4.83082544e-01\n",
      " 4.89548651e-01 4.93048054e-01 4.93670934e-01 4.91486092e-01\n",
      " 4.86544183e-01 4.78879732e-01 4.68511787e-01 4.55443129e-01\n",
      " 4.39658034e-01 4.21118612e-01 3.99759666e-01 3.75481755e-01\n",
      " 3.48141696e-01 3.17538947e-01 2.83394836e-01 2.45318491e-01\n",
      " 2.23043210e-01 2.20700963e-01 2.18341711e-01 2.15965301e-01\n",
      " 2.13571577e-01 2.11160381e-01 2.08731547e-01 2.06284910e-01\n",
      " 2.03820298e-01 2.01337534e-01 1.98836440e-01 1.96316829e-01\n",
      " 1.93778512e-01 1.91221296e-01 1.88644979e-01 1.86049356e-01\n",
      " 1.83434217e-01 1.80799344e-01 1.78144515e-01 1.75469499e-01\n",
      " 1.59917414e-01 1.35649862e-01 1.14942121e-01 9.73908492e-02\n",
      " 8.26018576e-02 7.02014059e-02 5.98438393e-02 5.12158663e-02\n",
      " 4.40379640e-02 3.80634899e-02 3.30714740e-02 2.88878424e-02\n",
      " 2.53899439e-02 2.24857105e-02 2.01048347e-02 1.81932332e-02\n",
      " 1.67094707e-02 1.56224242e-02 1.49097716e-02 1.45570386e-02]\n",
      "[1.43882302e-43 0.00000000e+00 0.00000000e+00 0.00000000e+00\n",
      " 0.00000000e+00 0.00000000e+00 0.00000000e+00 0.00000000e+00\n",
      " 0.00000000e+00 0.00000000e+00 0.00000000e+00 0.00000000e+00\n",
      " 0.00000000e+00 0.00000000e+00 0.00000000e+00 0.00000000e+00\n",
      " 0.00000000e+00 0.00000000e+00 0.00000000e+00 0.00000000e+00\n",
      " 0.00000000e+00 0.00000000e+00 0.00000000e+00 0.00000000e+00\n",
      " 0.00000000e+00 0.00000000e+00 0.00000000e+00 0.00000000e+00\n",
      " 0.00000000e+00 0.00000000e+00 0.00000000e+00 0.00000000e+00\n",
      " 0.00000000e+00 0.00000000e+00 0.00000000e+00 0.00000000e+00\n",
      " 0.00000000e+00 0.00000000e+00 0.00000000e+00 0.00000000e+00\n",
      " 0.00000000e+00 0.00000000e+00 5.87519789e-10 5.84563547e-10\n",
      " 5.82024636e-10 5.79831706e-10 5.77927087e-10 5.76270240e-10\n",
      " 5.74828240e-10 5.73573704e-10 5.72483734e-10 5.71539267e-10\n",
      " 5.70724641e-10 5.70027296e-10 5.69437553e-10 5.68948465e-10\n",
      " 5.68555714e-10 5.68257537e-10 5.68054685e-10 5.67950399e-10]\n"
     ]
    }
   ],
   "source": [
    "print(Sol_ddiff[\"Electrolyte conductivity [S.m-1]\"].entries[:,51] )\n",
    "print(Sol_ddiff[\"Electrolyte diffusivity [m2.s-1]\"].entries[:,-1])"
   ]
  },
  {
   "cell_type": "code",
   "execution_count": 14,
   "metadata": {},
   "outputs": [],
   "source": [
    "font = {'family' : 'Times New Roman',\n",
    "        #'weight' : 'bold',\n",
    "        'size'   : 18}\n",
    "mpl.rc('font', **font)"
   ]
  },
  {
   "cell_type": "code",
   "execution_count": 19,
   "metadata": {},
   "outputs": [
    {
     "data": {
      "application/vnd.jupyter.widget-view+json": {
       "model_id": "0f25d7c9ed1d4f15ae86bae354726df8",
       "version_major": 2,
       "version_minor": 0
      },
      "text/plain": [
       "interactive(children=(FloatSlider(value=0.0, description='t', max=4.127123076880167, step=0.041271230768801674…"
      ]
     },
     "metadata": {},
     "output_type": "display_data"
    }
   ],
   "source": [
    "label = [\"ddiff\"] \n",
    "output_variables3 = [\n",
    "    \"Terminal voltage [V]\",   \n",
    "    #\"Current [A]\",\n",
    "    \"EC concentration [mol.m-3]\",\n",
    "    \"Electrolyte concentration [mol.m-3]\",\n",
    "    \"c(EC) over c(Li+)\",\n",
    "    #\"Loss of capacity to SEI [A.h]\",\n",
    "    \"Li+ flux [mol.m-2.s-1]\",\n",
    "    \"EC flux [mol.m-2.s-1]\",\n",
    "    \"Electrolyte conductivity [S.m-1]\",\n",
    "    \"Electrolyte diffusivity [m2.s-1]\",\n",
    "]\n",
    "quick_plot = pybamm.QuickPlot([\n",
    "    Sol_ddiff\n",
    "    ], output_variables3,label,\n",
    "    variable_limits='fixed',time_unit='hours',n_rows=2,\n",
    "    figsize = (16,6)) #     spatial_unit='mm',\n",
    "quick_plot.dynamic_plot();\n",
    "quick_plot.create_gif(\n",
    "    number_of_images=10, duration=2,output_filename=BasicPath + Target+\"fixed_add c_EC as tanh hat.gif\")"
   ]
  },
  {
   "cell_type": "code",
   "execution_count": 16,
   "metadata": {},
   "outputs": [
    {
     "data": {
      "application/vnd.jupyter.widget-view+json": {
       "model_id": "131aa6badb8146168b5dd266ca5227d1",
       "version_major": 2,
       "version_minor": 0
      },
      "text/plain": [
       "interactive(children=(FloatSlider(value=0.0, description='t', max=4.127123076880167, step=0.041271230768801674…"
      ]
     },
     "metadata": {},
     "output_type": "display_data"
    }
   ],
   "source": [
    "label = [\"Sol_ddiff\"] \n",
    "output_variables3 = [\n",
    "    \"Terminal voltage [V]\",   \n",
    "    [\"EC flux [mol.m-2.s-1]\",\"EC flux by diffusion [mol.m-2.s-1]\",\n",
    "        \"EC flux by migration [mol.m-2.s-1]\",\"EC flux by Li+ [mol.m-2.s-1]\"],\n",
    "    [\"Li+ flux [mol.m-2.s-1]\",\"Li+ flux by diffusion [mol.m-2.s-1]\",\n",
    "        \"Li+ flux by migration [mol.m-2.s-1]\",\"Li+ flux by solvent [mol.m-2.s-1]\"],    \n",
    "]\n",
    "quick_plot = pybamm.QuickPlot([\n",
    "    Sol_ddiff,\n",
    "    ], output_variables3,label,\n",
    "    variable_limits='fixed',time_unit='hours',n_rows=1,\n",
    "    figsize = (16,6)) #     spatial_unit='mm',\n",
    "quick_plot.dynamic_plot();"
   ]
  },
  {
   "cell_type": "code",
   "execution_count": 17,
   "metadata": {},
   "outputs": [
    {
     "data": {
      "application/vnd.jupyter.widget-view+json": {
       "model_id": "28a2e5e774cc4fbb90c19dbc7d84fcbd",
       "version_major": 2,
       "version_minor": 0
      },
      "text/plain": [
       "interactive(children=(FloatSlider(value=0.0, description='t', max=4.127123076880167, step=0.041271230768801674…"
      ]
     },
     "metadata": {},
     "output_type": "display_data"
    }
   ],
   "source": [
    "label = [\"Sol_ddiff\"] \n",
    "output_variables3 = [\n",
    "    \"Terminal voltage [V]\",   \n",
    "    \"Electrolyte potential [V]\",\n",
    "    \"Positive electrode potential [V]\",\n",
    "    \"Negative electrode SOC\",\n",
    "    \"Positive electrode SOC\",\n",
    "    \"Porosity times concentration\",\n",
    "    \"eps_c_e rhs\",\n",
    "    \"Minus div Li+ flux\",\n",
    "    \"Li+ source term\",\n",
    "]\n",
    "quick_plot = pybamm.QuickPlot([\n",
    "    Sol_ddiff,\n",
    "    ], output_variables3,label,\n",
    "    variable_limits='fixed',time_unit='hours',n_rows=3,\n",
    "    figsize = (16,12)) #     spatial_unit='mm',\n",
    "quick_plot.dynamic_plot();\n"
   ]
  },
  {
   "cell_type": "code",
   "execution_count": 18,
   "metadata": {},
   "outputs": [
    {
     "data": {
      "application/vnd.jupyter.widget-view+json": {
       "model_id": "aa040aec652f4e8bb38c6e38c91779ef",
       "version_major": 2,
       "version_minor": 0
      },
      "text/plain": [
       "interactive(children=(FloatSlider(value=0.0, description='t', max=4.127123076880167, step=0.041271230768801674…"
      ]
     },
     "metadata": {},
     "output_type": "display_data"
    }
   ],
   "source": [
    "label = [\"ddiff\"] \n",
    "output_variables3 = [\n",
    "    \"Terminal voltage [V]\",   \n",
    "    #\"Current [A]\",\n",
    "    \"EC concentration [mol.m-3]\",\n",
    "    \"Electrolyte concentration [mol.m-3]\",\n",
    "    \"c(EC) over c(Li+)\",\n",
    "    #\"Loss of capacity to SEI [A.h]\",\n",
    "    \"Li+ flux [mol.m-2.s-1]\",\n",
    "    \"EC flux [mol.m-2.s-1]\",\n",
    "    \"Electrolyte conductivity [S.m-1]\",\n",
    "    \"Electrolyte diffusivity [m2.s-1]\",\n",
    "]\n",
    "quick_plot = pybamm.QuickPlot([\n",
    "    Sol_ddiff\n",
    "    ], output_variables3,label,\n",
    "    variable_limits='tight',time_unit='hours',n_rows=2,\n",
    "    figsize = (16,6)) #     spatial_unit='mm',\n",
    "quick_plot.dynamic_plot();\n",
    "#quick_plot.create_gif(\n",
    "#    number_of_images=10, duration=2,output_filename=BasicPath + Target+\"add c_EC as tanh hat.gif\")"
   ]
  }
 ],
 "metadata": {
  "kernelspec": {
   "display_name": "Python 3.9.6 ('envSolCon')",
   "language": "python",
   "name": "python3"
  },
  "language_info": {
   "codemirror_mode": {
    "name": "ipython",
    "version": 3
   },
   "file_extension": ".py",
   "mimetype": "text/x-python",
   "name": "python",
   "nbconvert_exporter": "python",
   "pygments_lexer": "ipython3",
   "version": "3.9.6"
  },
  "orig_nbformat": 4,
  "vscode": {
   "interpreter": {
    "hash": "5ae0c684446e40f7574a1a9821257f2365ba43f34c15f5f2e3dcabca0bad9ab7"
   }
  }
 },
 "nbformat": 4,
 "nbformat_minor": 2
}
