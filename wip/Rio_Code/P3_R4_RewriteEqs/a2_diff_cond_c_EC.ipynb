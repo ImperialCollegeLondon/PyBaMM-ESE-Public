{
 "cells": [
  {
   "cell_type": "markdown",
   "metadata": {},
   "source": [
    "# add c_EC as one of the inputs for diffusivity and conductivity"
   ]
  },
  {
   "cell_type": "code",
   "execution_count": 1,
   "metadata": {},
   "outputs": [],
   "source": [
    "import pybamm\n",
    "import numpy as np\n",
    "import matplotlib.pyplot as plt\n",
    "import pandas as pd   ;import numpy as np;import os;import matplotlib.pyplot as plt;import os;\n",
    "from scipy.io import savemat,loadmat;from pybamm import constants,exp,tanh;import matplotlib as mpl; fs=17; # or we can set import matplotlib.pyplot as plt then say 'mpl.rc...'\n",
    "for k in range(0,1):\n",
    "    mpl.rcParams[\"axes.labelsize\"] = fs\n",
    "    mpl.rcParams[\"axes.titlesize\"] = fs\n",
    "    mpl.rcParams[\"xtick.labelsize\"] =  fs\n",
    "    mpl.rcParams[\"ytick.labelsize\"] =  fs\n",
    "    mpl.rcParams[\"legend.fontsize\"] =  fs\n",
    "    mpl.rcParams['font.sans-serif'] = ['Times New Roman']\n",
    "    mpl.rcParams['font.serif'] = ['Times New Roman']\n",
    "    mpl.rcParams['axes.unicode_minus'] = False"
   ]
  },
  {
   "cell_type": "code",
   "execution_count": 2,
   "metadata": {},
   "outputs": [],
   "source": [
    "# define function:\n",
    "def electrolyte_conductivity_Nyman2008_wEC(c_e,c_EC, T):\n",
    "    x = c_EC / c_e\n",
    "    coff = 0.9\n",
    "    sigma_e = (\n",
    "        (0.1+ coff/2 + coff/2 *  tanh((x-2.7705)*2)) * \n",
    "        (0.1297 * (c_e / 1000) ** 3 - 2.51 * (c_e / 1000) ** 1.5 + 3.329 * (c_e / 1000)) )\n",
    "    return sigma_e\n",
    "def electrolyte_diffusivity_Nyman2008_wEC(c_e, c_EC,T):\n",
    "    x = c_EC / c_e\n",
    "    coff = 0.9\n",
    "    D_c_e = (\n",
    "        ( 0.1+ coff/2 + coff/2 *  tanh((x-2.7705)*2) )  * \n",
    "        (8.794e-11 * (c_e / 1000) ** 2 - 3.972e-10 * (c_e / 1000) + 4.862e-10) )\n",
    "    return D_c_e\n"
   ]
  },
  {
   "cell_type": "code",
   "execution_count": 3,
   "metadata": {},
   "outputs": [],
   "source": [
    "V_max = 4.2;        V_min = 2.5;\n",
    "Diff_SEI = 1.7e-20;    R_SEI = 2E5;   Bulk_Sol_Con = 4541.0;\n",
    "Experiment_Long   = pybamm.Experiment( [ (\n",
    "    f\"Discharge at 1 C until {V_min} V\", \n",
    "    f\"Charge at 0.3 C until {V_max} V\", \n",
    "    f\"Hold at {V_max} V until C/5\")    ] * 1 ) \n",
    "Experiment_s   = pybamm.Experiment( [ (\n",
    "    f\"Discharge at 1 C for 197 s\", )    ] * 1 )   "
   ]
  },
  {
   "cell_type": "code",
   "execution_count": 4,
   "metadata": {},
   "outputs": [],
   "source": [
    "BasicPath = 'D:/OneDrive - Imperial College London/SimDataSave/P3R4/'; \n",
    "Target  = 'a2_Diff_Cond_c_EC/'\n",
    "if not os.path.exists(BasicPath + Target):\n",
    "    os.mkdir(BasicPath + Target);"
   ]
  },
  {
   "cell_type": "code",
   "execution_count": 5,
   "metadata": {},
   "outputs": [
    {
     "ename": "AttributeError",
     "evalue": "'OneSolventDiffusion_wo_Refill' object has no attribute 'phase_param'",
     "output_type": "error",
     "traceback": [
      "\u001b[1;31m---------------------------------------------------------------------------\u001b[0m",
      "\u001b[1;31mAttributeError\u001b[0m                            Traceback (most recent call last)",
      "\u001b[1;32md:\\PhD model acer\\envECdrag\\PyBaMM-GEM\\wip\\Rio_Code\\P3_R4_RewriteEqs\\a2_diff_cond_c_EC.ipynb Cell 6\u001b[0m in \u001b[0;36m<cell line: 1>\u001b[1;34m()\u001b[0m\n\u001b[1;32m----> <a href='vscode-notebook-cell:/d%3A/PhD%20model%20acer/envECdrag/PyBaMM-GEM/wip/Rio_Code/P3_R4_RewriteEqs/a2_diff_cond_c_EC.ipynb#W5sZmlsZQ%3D%3D?line=0'>1</a>\u001b[0m Model_ddiff \u001b[39m=\u001b[39m pybamm\u001b[39m.\u001b[39;49mlithium_ion\u001b[39m.\u001b[39;49mDFN(     \n\u001b[0;32m      <a href='vscode-notebook-cell:/d%3A/PhD%20model%20acer/envECdrag/PyBaMM-GEM/wip/Rio_Code/P3_R4_RewriteEqs/a2_diff_cond_c_EC.ipynb#W5sZmlsZQ%3D%3D?line=1'>2</a>\u001b[0m     options\u001b[39m=\u001b[39;49m{\u001b[39m\"\u001b[39;49m\u001b[39msolvent diffusion\u001b[39;49m\u001b[39m\"\u001b[39;49m: \u001b[39m\"\u001b[39;49m\u001b[39mEC wo refill\u001b[39;49m\u001b[39m\"\u001b[39;49m     } )\n\u001b[0;32m      <a href='vscode-notebook-cell:/d%3A/PhD%20model%20acer/envECdrag/PyBaMM-GEM/wip/Rio_Code/P3_R4_RewriteEqs/a2_diff_cond_c_EC.ipynb#W5sZmlsZQ%3D%3D?line=2'>3</a>\u001b[0m Model_sdiff \u001b[39m=\u001b[39m pybamm\u001b[39m.\u001b[39mlithium_ion\u001b[39m.\u001b[39mDFN(     \n\u001b[0;32m      <a href='vscode-notebook-cell:/d%3A/PhD%20model%20acer/envECdrag/PyBaMM-GEM/wip/Rio_Code/P3_R4_RewriteEqs/a2_diff_cond_c_EC.ipynb#W5sZmlsZQ%3D%3D?line=3'>4</a>\u001b[0m     options\u001b[39m=\u001b[39m{\u001b[39m\"\u001b[39m\u001b[39msolvent diffusion\u001b[39m\u001b[39m\"\u001b[39m: \u001b[39m\"\u001b[39m\u001b[39mnone\u001b[39m\u001b[39m\"\u001b[39m     } )\n\u001b[0;32m      <a href='vscode-notebook-cell:/d%3A/PhD%20model%20acer/envECdrag/PyBaMM-GEM/wip/Rio_Code/P3_R4_RewriteEqs/a2_diff_cond_c_EC.ipynb#W5sZmlsZQ%3D%3D?line=5'>6</a>\u001b[0m Para_0\u001b[39m=\u001b[39mpybamm\u001b[39m.\u001b[39mParameterValues(\u001b[39m\"\u001b[39m\u001b[39mLi2023_ECdrag\u001b[39m\u001b[39m\"\u001b[39m);\n",
      "File \u001b[1;32md:\\phd model acer\\envecdrag\\pybamm-gem\\pybamm\\models\\full_battery_models\\lithium_ion\\dfn.py:46\u001b[0m, in \u001b[0;36mDFN.__init__\u001b[1;34m(self, options, name, build)\u001b[0m\n\u001b[0;32m     43\u001b[0m \u001b[39mself\u001b[39m\u001b[39m.\u001b[39mx_average \u001b[39m=\u001b[39m \u001b[39mFalse\u001b[39;00m\n\u001b[0;32m     44\u001b[0m \u001b[39msuper\u001b[39m()\u001b[39m.\u001b[39m\u001b[39m__init__\u001b[39m(options, name)\n\u001b[1;32m---> 46\u001b[0m \u001b[39mself\u001b[39;49m\u001b[39m.\u001b[39;49mset_submodels(build)\n\u001b[0;32m     48\u001b[0m pybamm\u001b[39m.\u001b[39mcitations\u001b[39m.\u001b[39mregister(\u001b[39m\"\u001b[39m\u001b[39mDoyle1993\u001b[39m\u001b[39m\"\u001b[39m)\n",
      "File \u001b[1;32md:\\phd model acer\\envecdrag\\pybamm-gem\\pybamm\\models\\full_battery_models\\lithium_ion\\base_lithium_ion_model.py:78\u001b[0m, in \u001b[0;36mBaseModel.set_submodels\u001b[1;34m(self, build)\u001b[0m\n\u001b[0;32m     75\u001b[0m \u001b[39mself\u001b[39m\u001b[39m.\u001b[39mset_total_interface_submodel()\n\u001b[0;32m     77\u001b[0m \u001b[39mif\u001b[39;00m build:\n\u001b[1;32m---> 78\u001b[0m     \u001b[39mself\u001b[39;49m\u001b[39m.\u001b[39;49mbuild_model()\n",
      "File \u001b[1;32md:\\phd model acer\\envecdrag\\pybamm-gem\\pybamm\\models\\full_battery_models\\base_battery_model.py:1009\u001b[0m, in \u001b[0;36mBaseBatteryModel.build_model\u001b[1;34m(self)\u001b[0m\n\u001b[0;32m   1006\u001b[0m \u001b[39mdef\u001b[39;00m \u001b[39mbuild_model\u001b[39m(\u001b[39mself\u001b[39m):\n\u001b[0;32m   1007\u001b[0m \n\u001b[0;32m   1008\u001b[0m     \u001b[39m# Build model variables and equations\u001b[39;00m\n\u001b[1;32m-> 1009\u001b[0m     \u001b[39mself\u001b[39;49m\u001b[39m.\u001b[39;49m_build_model()\n\u001b[0;32m   1011\u001b[0m     \u001b[39m# Set battery specific variables\u001b[39;00m\n\u001b[0;32m   1012\u001b[0m     pybamm\u001b[39m.\u001b[39mlogger\u001b[39m.\u001b[39mdebug(\u001b[39m\"\u001b[39m\u001b[39mSetting voltage variables (\u001b[39m\u001b[39m{}\u001b[39;00m\u001b[39m)\u001b[39m\u001b[39m\"\u001b[39m\u001b[39m.\u001b[39mformat(\u001b[39mself\u001b[39m\u001b[39m.\u001b[39mname))\n",
      "File \u001b[1;32md:\\phd model acer\\envecdrag\\pybamm-gem\\pybamm\\models\\base_model.py:578\u001b[0m, in \u001b[0;36mBaseModel._build_model\u001b[1;34m(self)\u001b[0m\n\u001b[0;32m    575\u001b[0m \u001b[39mif\u001b[39;00m \u001b[39mself\u001b[39m\u001b[39m.\u001b[39m_built_fundamental_and_external \u001b[39mis\u001b[39;00m \u001b[39mFalse\u001b[39;00m:\n\u001b[0;32m    576\u001b[0m     \u001b[39mself\u001b[39m\u001b[39m.\u001b[39mbuild_fundamental_and_external()\n\u001b[1;32m--> 578\u001b[0m \u001b[39mself\u001b[39;49m\u001b[39m.\u001b[39;49mbuild_coupled_variables()\n\u001b[0;32m    580\u001b[0m \u001b[39mself\u001b[39m\u001b[39m.\u001b[39mbuild_model_equations()\n",
      "File \u001b[1;32md:\\phd model acer\\envecdrag\\pybamm-gem\\pybamm\\models\\full_battery_models\\base_battery_model.py:947\u001b[0m, in \u001b[0;36mBaseBatteryModel.build_coupled_variables\u001b[1;34m(self)\u001b[0m\n\u001b[0;32m    940\u001b[0m pybamm\u001b[39m.\u001b[39mlogger\u001b[39m.\u001b[39mdebug(\n\u001b[0;32m    941\u001b[0m     \u001b[39m\"\u001b[39m\u001b[39mGetting coupled variables for \u001b[39m\u001b[39m{}\u001b[39;00m\u001b[39m submodel (\u001b[39m\u001b[39m{}\u001b[39;00m\u001b[39m)\u001b[39m\u001b[39m\"\u001b[39m\u001b[39m.\u001b[39mformat(\n\u001b[0;32m    942\u001b[0m         submodel_name, \u001b[39mself\u001b[39m\u001b[39m.\u001b[39mname\n\u001b[0;32m    943\u001b[0m     )\n\u001b[0;32m    944\u001b[0m )\n\u001b[0;32m    945\u001b[0m \u001b[39mtry\u001b[39;00m:\n\u001b[0;32m    946\u001b[0m     \u001b[39mself\u001b[39m\u001b[39m.\u001b[39mvariables\u001b[39m.\u001b[39mupdate(\n\u001b[1;32m--> 947\u001b[0m         submodel\u001b[39m.\u001b[39;49mget_coupled_variables(\u001b[39mself\u001b[39;49m\u001b[39m.\u001b[39;49mvariables)\n\u001b[0;32m    948\u001b[0m     )\n\u001b[0;32m    949\u001b[0m     submodels\u001b[39m.\u001b[39mremove(submodel_name)\n\u001b[0;32m    950\u001b[0m \u001b[39mexcept\u001b[39;00m \u001b[39mKeyError\u001b[39;00m \u001b[39mas\u001b[39;00m key:\n",
      "File \u001b[1;32md:\\phd model acer\\envecdrag\\pybamm-gem\\pybamm\\models\\submodels\\solvent_diffusion\\one_solvent_diffusion_wo_Re.py:101\u001b[0m, in \u001b[0;36mOneSolventDiffusion_wo_Refill.get_coupled_variables\u001b[1;34m(self, variables)\u001b[0m\n\u001b[0;32m     98\u001b[0m j_sign_SEI \u001b[39m=\u001b[39m pybamm\u001b[39m.\u001b[39mconcatenation(j_SEI, sign_2_s, sign_2_p )\n\u001b[0;32m    100\u001b[0m \u001b[39m## EC:lithium:SEI=2:2:1    ; change to EC:lithium:SEI=2:1:1 for now\u001b[39;00m\n\u001b[1;32m--> 101\u001b[0m ratio_sei_li \u001b[39m=\u001b[39m \u001b[39m-\u001b[39m \u001b[39m1\u001b[39m\u001b[39m/\u001b[39m\u001b[39mself\u001b[39;49m\u001b[39m.\u001b[39;49mphase_param\u001b[39m.\u001b[39mz_sei  ; \u001b[39m# change to 1 for now , initially is 0.5\u001b[39;00m\n\u001b[0;32m    102\u001b[0m ratio_ec_li  \u001b[39m=\u001b[39m \u001b[39m1\u001b[39m ; \n\u001b[0;32m    104\u001b[0m source_terms_ec \u001b[39m=\u001b[39m (\n\u001b[0;32m    105\u001b[0m     a \u001b[39m*\u001b[39m j_sign_SEI \u001b[39m/\u001b[39m param\u001b[39m.\u001b[39mgamma_e \n\u001b[0;32m    106\u001b[0m     \u001b[39m/\u001b[39m param\u001b[39m.\u001b[39mgamma_e_ec_Rio \u001b[39m*\u001b[39m ratio_ec_li)\n",
      "\u001b[1;31mAttributeError\u001b[0m: 'OneSolventDiffusion_wo_Refill' object has no attribute 'phase_param'"
     ]
    }
   ],
   "source": [
    "Model_ddiff = pybamm.lithium_ion.DFN(     \n",
    "    options={\"solvent diffusion\": \"EC wo refill\"     } )\n",
    "Model_sdiff = pybamm.lithium_ion.DFN(     \n",
    "    options={\"solvent diffusion\": \"none\"     } )\n",
    "\n",
    "Para_0=pybamm.ParameterValues(\"Li2023_ECdrag\");\n",
    "\n",
    "\n",
    "Para_0['EC Lithium ion cross diffusivity [m2.s-1]'] = 1.5e-9/1e2;\n",
    "Para_0['Typical EC Lithium ion cross diffusivity [m2.s-1]'] =   1.5e-9/1e2\n",
    "Para_0['EC transference number'] =    -1.4\n",
    "Para_0['EC diffusivity in electrolyte [m2.s-1]'] =  5E-12;\n",
    "Para_0.update(\n",
    "    {'Electrolyte diffusivity [m2.s-1]':\n",
    "    electrolyte_diffusivity_Nyman2008_wEC})\n",
    "Para_0.update(\n",
    "    {'Electrolyte conductivity [S.m-1]':\n",
    "    electrolyte_conductivity_Nyman2008_wEC})\n",
    "c_e_ddiff = Model_ddiff.variables[\"Electrolyte concentration [mol.m-3]\"]\n",
    "T_ddiff = Model_ddiff.variables[\"Cell temperature [K]\"]\n",
    "c_EC_ddiff = Model_ddiff.variables[\"EC concentration [mol.m-3]\"]\n",
    "Model_ddiff.variables[\"c(EC) over c(Li+)\"] = c_EC_ddiff / c_e_ddiff\n",
    "Model_ddiff.variables[\"Electrolyte conductivity [S.m-1]\"] =electrolyte_conductivity_Nyman2008_wEC(c_e_ddiff,c_EC_ddiff, T_ddiff)\n",
    "Model_ddiff.variables[\"Electrolyte diffusivity [m2.s-1]\"] =electrolyte_diffusivity_Nyman2008_wEC(c_e_ddiff,c_EC_ddiff, T_ddiff)"
   ]
  },
  {
   "cell_type": "code",
   "execution_count": null,
   "metadata": {},
   "outputs": [],
   "source": [
    "Sim_Landes_ddiff    = pybamm.Simulation(\n",
    "    Model_ddiff, experiment = Experiment_Long,\n",
    "    parameter_values = Para_0,\n",
    "    solver = pybamm.CasadiSolver(),)   \n",
    "Sim_Landes_sdiff    = pybamm.Simulation(\n",
    "    Model_sdiff, experiment = Experiment_Long,\n",
    "    parameter_values = Para_0,\n",
    "    solver = pybamm.CasadiSolver(),)  \n",
    "Sol_Landes_ddiff    = Sim_Landes_ddiff.solve();\n",
    "Sol_Landes_sdiff    = Sim_Landes_sdiff.solve();"
   ]
  },
  {
   "cell_type": "code",
   "execution_count": null,
   "metadata": {},
   "outputs": [],
   "source": [
    "Sol_Landes_ddiff[\"Electrolyte conductivity [S.m-1]\"].entries[:,-1] "
   ]
  },
  {
   "cell_type": "code",
   "execution_count": null,
   "metadata": {},
   "outputs": [],
   "source": [
    "font = {'family' : 'Times New Roman',\n",
    "        #'weight' : 'bold',\n",
    "        'size'   : 18}\n",
    "mpl.rc('font', **font)"
   ]
  },
  {
   "cell_type": "code",
   "execution_count": null,
   "metadata": {},
   "outputs": [],
   "source": [
    "label = [\"Landes_ddiff\"] \n",
    "output_variables3 = [\n",
    "    \"Terminal voltage [V]\",   \n",
    "    #\"Current [A]\",\n",
    "    \"EC concentration [mol.m-3]\",\n",
    "    \"Electrolyte concentration [mol.m-3]\",\n",
    "    \"c(EC) over c(Li+)\",\n",
    "    #\"Loss of capacity to SEI [A.h]\",\n",
    "    \"Li+ flux [mol.m-2.s-1]\",\n",
    "    \"EC flux [mol.m-2.s-1]\",\n",
    "    \"Electrolyte conductivity [S.m-1]\",\n",
    "    \"Electrolyte diffusivity [m2.s-1]\",\n",
    "]\n",
    "quick_plot = pybamm.QuickPlot([\n",
    "    Sol_Landes_ddiff\n",
    "    ], output_variables3,label,\n",
    "    variable_limits='fixed',time_unit='hours',n_rows=2,\n",
    "    figsize = (16,6)) #     spatial_unit='mm',\n",
    "quick_plot.dynamic_plot();\n",
    "quick_plot.create_gif(\n",
    "    number_of_images=10, duration=2,output_filename=BasicPath + Target+\"fixed_add c_EC as tanh.gif\")"
   ]
  },
  {
   "cell_type": "code",
   "execution_count": null,
   "metadata": {},
   "outputs": [],
   "source": [
    "label = [\"Landes_ddiff\"] \n",
    "output_variables3 = [\n",
    "    \"Terminal voltage [V]\",   \n",
    "    #\"Current [A]\",\n",
    "    \"EC concentration [mol.m-3]\",\n",
    "    \"Electrolyte concentration [mol.m-3]\",\n",
    "    \"c(EC) over c(Li+)\",\n",
    "    #\"Loss of capacity to SEI [A.h]\",\n",
    "    \"Li+ flux [mol.m-2.s-1]\",\n",
    "    \"EC flux [mol.m-2.s-1]\",\n",
    "    \"Electrolyte conductivity [S.m-1]\",\n",
    "    \"Electrolyte diffusivity [m2.s-1]\",\n",
    "]\n",
    "quick_plot = pybamm.QuickPlot([\n",
    "    Sol_Landes_ddiff\n",
    "    ], output_variables3,label,\n",
    "    variable_limits='tight',time_unit='hours',n_rows=2,\n",
    "    figsize = (16,6)) #     spatial_unit='mm',\n",
    "quick_plot.dynamic_plot();\n",
    "quick_plot.create_gif(\n",
    "    number_of_images=10, duration=2,output_filename=BasicPath + Target+\"add c_EC as tanh.gif\")"
   ]
  }
 ],
 "metadata": {
  "kernelspec": {
   "display_name": "Python 3.9.4 ('envECdrag')",
   "language": "python",
   "name": "python3"
  },
  "language_info": {
   "codemirror_mode": {
    "name": "ipython",
    "version": 3
   },
   "file_extension": ".py",
   "mimetype": "text/x-python",
   "name": "python",
   "nbconvert_exporter": "python",
   "pygments_lexer": "ipython3",
   "version": "3.9.4"
  },
  "orig_nbformat": 4,
  "vscode": {
   "interpreter": {
    "hash": "bbe477dd22b81d67e8c3659d09e8d8645a2b2109ce812123ab4a99fd937a7135"
   }
  }
 },
 "nbformat": 4,
 "nbformat_minor": 2
}
