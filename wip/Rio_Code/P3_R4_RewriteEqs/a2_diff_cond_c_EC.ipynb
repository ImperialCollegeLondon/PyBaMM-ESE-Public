{
 "cells": [
  {
   "cell_type": "markdown",
   "metadata": {},
   "source": [
    "# add c_EC as one of the inputs for diffusivity and conductivity"
   ]
  },
  {
   "cell_type": "code",
   "execution_count": 39,
   "metadata": {},
   "outputs": [],
   "source": [
    "import pybamm\n",
    "import numpy as np\n",
    "import matplotlib.pyplot as plt\n",
    "import pandas as pd   ;import numpy as np;import os;import matplotlib.pyplot as plt;import os;\n",
    "from scipy.io import savemat,loadmat;from pybamm import constants,exp,tanh;import matplotlib as mpl; fs=17; # or we can set import matplotlib.pyplot as plt then say 'mpl.rc...'\n",
    "for k in range(0,1):\n",
    "    mpl.rcParams[\"axes.labelsize\"] = fs\n",
    "    mpl.rcParams[\"axes.titlesize\"] = fs\n",
    "    mpl.rcParams[\"xtick.labelsize\"] =  fs\n",
    "    mpl.rcParams[\"ytick.labelsize\"] =  fs\n",
    "    mpl.rcParams[\"legend.fontsize\"] =  fs\n",
    "    mpl.rcParams['font.sans-serif'] = ['Times New Roman']\n",
    "    mpl.rcParams['font.serif'] = ['Times New Roman']\n",
    "    mpl.rcParams['axes.unicode_minus'] = False"
   ]
  },
  {
   "cell_type": "code",
   "execution_count": 40,
   "metadata": {},
   "outputs": [],
   "source": [
    "# define function:\n",
    "def electrolyte_conductivity_Nyman2008_wEC(c_e,c_EC, T):\n",
    "    x = c_EC / c_e\n",
    "    coff = 0.9\n",
    "    sigma_e = (\n",
    "        (0.1+ coff/2 + coff/2 *  tanh((x-2.7705)*2)) * \n",
    "        (0.1297 * (c_e / 1000) ** 3 - 2.51 * (c_e / 1000) ** 1.5 + 3.329 * (c_e / 1000)) )\n",
    "    return sigma_e\n",
    "def electrolyte_diffusivity_Nyman2008_wEC(c_e, c_EC,T):\n",
    "    x = c_EC / c_e\n",
    "    coff = 0.9\n",
    "    D_c_e = (\n",
    "        ( 0.1+ coff/2 + coff/2 *  tanh((x-2.7705)*2) )  * \n",
    "        (8.794e-11 * (c_e / 1000) ** 2 - 3.972e-10 * (c_e / 1000) + 4.862e-10) )\n",
    "    return D_c_e\n"
   ]
  },
  {
   "cell_type": "code",
   "execution_count": 41,
   "metadata": {},
   "outputs": [],
   "source": [
    "V_max = 4.2;        V_min = 2.5;\n",
    "Diff_SEI = 1.7e-20;    R_SEI = 2E5;   Bulk_Sol_Con = 4541.0;\n",
    "Experiment_Long   = pybamm.Experiment( [ (\n",
    "    f\"Discharge at 1 C until {V_min} V\", \n",
    "    f\"Charge at 0.3 C until {V_max} V\", \n",
    "    f\"Hold at {V_max} V until C/5\")    ] * 1 ) \n",
    "Experiment_s   = pybamm.Experiment( [ (\n",
    "    f\"Discharge at 1 C for 197 s\", )    ] * 1 )   "
   ]
  },
  {
   "cell_type": "code",
   "execution_count": 52,
   "metadata": {},
   "outputs": [],
   "source": [
    "BasicPath = 'D:/OneDrive - Imperial College London/SimDataSave/P3R4/'; \n",
    "Target  = 'a2_Diff_Cond_c_EC/'\n",
    "if not os.path.exists(BasicPath + Target):\n",
    "    os.mkdir(BasicPath + Target);"
   ]
  },
  {
   "cell_type": "code",
   "execution_count": 42,
   "metadata": {},
   "outputs": [
    {
     "name": "stdout",
     "output_type": "stream",
     "text": [
      "using EC wo refill for Li+\n"
     ]
    }
   ],
   "source": [
    "Model_ddiff = pybamm.lithium_ion.DFN(     \n",
    "    options={\"solvent diffusion\": \"EC wo refill\"     } )\n",
    "Model_sdiff = pybamm.lithium_ion.DFN(     \n",
    "    options={\"solvent diffusion\": \"none\"     } )\n",
    "ChemistryChen=pybamm.parameter_sets.Chen2020 \n",
    "ChemistryChen[\"electrolyte\"] = \"lipf6_Nyman2008_rio\";\n",
    "Para_0=pybamm.ParameterValues(chemistry=ChemistryChen);\n",
    "\n",
    "\n",
    "Para_0['EC Lithium ion cross diffusivity [m2.s-1]'] = 1.5e-9/1e2;\n",
    "Para_0['Typical EC Lithium ion cross diffusivity [m2.s-1]'] =   1.5e-9/1e2\n",
    "Para_0['EC transference number'] =    -1.4\n",
    "Para_0['EC diffusivity in electrolyte [m2.s-1]'] =  5E-12;\n",
    "Para_0.update(\n",
    "    {'Electrolyte diffusivity [m2.s-1]':\n",
    "    electrolyte_diffusivity_Nyman2008_wEC})\n",
    "Para_0.update(\n",
    "    {'Electrolyte conductivity [S.m-1]':\n",
    "    electrolyte_conductivity_Nyman2008_wEC})\n",
    "c_e_ddiff = Model_ddiff.variables[\"Electrolyte concentration [mol.m-3]\"]\n",
    "T_ddiff = Model_ddiff.variables[\"Cell temperature [K]\"]\n",
    "c_EC_ddiff = Model_ddiff.variables[\"EC concentration [mol.m-3]\"]\n",
    "Model_ddiff.variables[\"c(EC) over c(Li+)\"] = c_EC_ddiff / c_e_ddiff\n",
    "Model_ddiff.variables[\"Electrolyte conductivity [S.m-1]\"] =electrolyte_conductivity_Nyman2008_wEC(c_e_ddiff,c_EC_ddiff, T_ddiff)\n",
    "Model_ddiff.variables[\"Electrolyte diffusivity [m2.s-1]\"] =electrolyte_diffusivity_Nyman2008_wEC(c_e_ddiff,c_EC_ddiff, T_ddiff)"
   ]
  },
  {
   "cell_type": "code",
   "execution_count": 43,
   "metadata": {},
   "outputs": [],
   "source": [
    "Sim_Landes_ddiff    = pybamm.Simulation(\n",
    "    Model_ddiff, experiment = Experiment_Long,\n",
    "    parameter_values = Para_0,\n",
    "    solver = pybamm.CasadiSolver(),)   \n",
    "Sim_Landes_sdiff    = pybamm.Simulation(\n",
    "    Model_sdiff, experiment = Experiment_Long,\n",
    "    parameter_values = Para_0,\n",
    "    solver = pybamm.CasadiSolver(),)  \n",
    "Sol_Landes_ddiff    = Sim_Landes_ddiff.solve();\n",
    "Sol_Landes_sdiff    = Sim_Landes_sdiff.solve();"
   ]
  },
  {
   "cell_type": "code",
   "execution_count": 44,
   "metadata": {},
   "outputs": [
    {
     "data": {
      "text/plain": [
       "array([0.09495118, 0.09495266, 0.09495539, 0.09495892, 0.09496264,\n",
       "       0.09496575, 0.09496741, 0.09496668, 0.0949627 , 0.09495466,\n",
       "       0.09494191, 0.09492404, 0.094901  , 0.0948733 , 0.09484259,\n",
       "       0.09482894, 0.09634441, 0.21846665, 0.89895695, 0.94721124,\n",
       "       0.94768721, 0.94769777, 0.94770612, 0.94771277, 0.9477181 ,\n",
       "       0.94772242, 0.94772597, 0.94772891, 0.94773139, 0.94773353,\n",
       "       0.94773541, 0.94773709, 0.94773862, 0.94774004, 0.94774138,\n",
       "       0.94774267, 0.94774392, 0.94774514, 0.94774635, 0.94774754,\n",
       "       0.94775418, 0.94777001, 0.94778908, 0.94781072, 0.94783421,\n",
       "       0.94785893, 0.94788429, 0.94790975, 0.94793484, 0.94795915,\n",
       "       0.94798231, 0.94800399, 0.94802393, 0.94804189, 0.94805766,\n",
       "       0.94807108, 0.94808201, 0.94809033, 0.94809595, 0.94809878])"
      ]
     },
     "execution_count": 44,
     "metadata": {},
     "output_type": "execute_result"
    }
   ],
   "source": [
    "Sol_Landes_ddiff[\"Electrolyte conductivity [S.m-1]\"].entries[:,-1] "
   ]
  },
  {
   "cell_type": "code",
   "execution_count": 48,
   "metadata": {},
   "outputs": [],
   "source": [
    "font = {'family' : 'Times New Roman',\n",
    "        #'weight' : 'bold',\n",
    "        'size'   : 18}\n",
    "mpl.rc('font', **font)"
   ]
  },
  {
   "cell_type": "code",
   "execution_count": 54,
   "metadata": {},
   "outputs": [
    {
     "data": {
      "application/vnd.jupyter.widget-view+json": {
       "model_id": "3e8b41fd807a48c387d29e53ec77e427",
       "version_major": 2,
       "version_minor": 0
      },
      "text/plain": [
       "interactive(children=(FloatSlider(value=0.0, description='t', max=4.06927203993791, step=0.040692720399379094)…"
      ]
     },
     "metadata": {},
     "output_type": "display_data"
    }
   ],
   "source": [
    "label = [\"Landes_ddiff\"] \n",
    "output_variables3 = [\n",
    "    \"Terminal voltage [V]\",   \n",
    "    #\"Current [A]\",\n",
    "    \"EC concentration [mol.m-3]\",\n",
    "    \"Electrolyte concentration [mol.m-3]\",\n",
    "    \"c(EC) over c(Li+)\",\n",
    "    #\"Loss of capacity to SEI [A.h]\",\n",
    "    \"Li+ flux [mol.m-2.s-1]\",\n",
    "    \"EC flux [mol.m-2.s-1]\",\n",
    "    \"Electrolyte conductivity [S.m-1]\",\n",
    "    \"Electrolyte diffusivity [m2.s-1]\",\n",
    "]\n",
    "quick_plot = pybamm.QuickPlot([\n",
    "    Sol_Landes_ddiff\n",
    "    ], output_variables3,label,\n",
    "    variable_limits='fixed',time_unit='hours',n_rows=2,\n",
    "    figsize = (16,6)) #     spatial_unit='mm',\n",
    "quick_plot.dynamic_plot();\n",
    "quick_plot.create_gif(\n",
    "    number_of_images=10, duration=2,output_filename=BasicPath + Target+\"fixed_add c_EC as tanh.gif\")"
   ]
  },
  {
   "cell_type": "code",
   "execution_count": 53,
   "metadata": {},
   "outputs": [
    {
     "data": {
      "application/vnd.jupyter.widget-view+json": {
       "model_id": "a9b651bd963e494b8ded11b963869da8",
       "version_major": 2,
       "version_minor": 0
      },
      "text/plain": [
       "interactive(children=(FloatSlider(value=0.0, description='t', max=4.06927203993791, step=0.040692720399379094)…"
      ]
     },
     "metadata": {},
     "output_type": "display_data"
    }
   ],
   "source": [
    "label = [\"Landes_ddiff\"] \n",
    "output_variables3 = [\n",
    "    \"Terminal voltage [V]\",   \n",
    "    #\"Current [A]\",\n",
    "    \"EC concentration [mol.m-3]\",\n",
    "    \"Electrolyte concentration [mol.m-3]\",\n",
    "    \"c(EC) over c(Li+)\",\n",
    "    #\"Loss of capacity to SEI [A.h]\",\n",
    "    \"Li+ flux [mol.m-2.s-1]\",\n",
    "    \"EC flux [mol.m-2.s-1]\",\n",
    "    \"Electrolyte conductivity [S.m-1]\",\n",
    "    \"Electrolyte diffusivity [m2.s-1]\",\n",
    "]\n",
    "quick_plot = pybamm.QuickPlot([\n",
    "    Sol_Landes_ddiff\n",
    "    ], output_variables3,label,\n",
    "    variable_limits='tight',time_unit='hours',n_rows=2,\n",
    "    figsize = (16,6)) #     spatial_unit='mm',\n",
    "quick_plot.dynamic_plot();\n",
    "quick_plot.create_gif(\n",
    "    number_of_images=10, duration=2,output_filename=BasicPath + Target+\"add c_EC as tanh.gif\")"
   ]
  }
 ],
 "metadata": {
  "kernelspec": {
   "display_name": "Python 3.9.6 ('envSolCon')",
   "language": "python",
   "name": "python3"
  },
  "language_info": {
   "codemirror_mode": {
    "name": "ipython",
    "version": 3
   },
   "file_extension": ".py",
   "mimetype": "text/x-python",
   "name": "python",
   "nbconvert_exporter": "python",
   "pygments_lexer": "ipython3",
   "version": "3.9.6"
  },
  "orig_nbformat": 4,
  "vscode": {
   "interpreter": {
    "hash": "5ae0c684446e40f7574a1a9821257f2365ba43f34c15f5f2e3dcabca0bad9ab7"
   }
  }
 },
 "nbformat": 4,
 "nbformat_minor": 2
}
