{
 "cells": [
  {
   "cell_type": "markdown",
   "metadata": {},
   "source": [
    "# add c_EC as one of the inputs for diffusivity and conductivity"
   ]
  },
  {
   "cell_type": "code",
   "execution_count": 1,
   "metadata": {},
   "outputs": [],
   "source": [
    "import pybamm\n",
    "import numpy as np\n",
    "import matplotlib.pyplot as plt\n",
    "import pandas as pd   ;import numpy as np;import os;import matplotlib.pyplot as plt;import os;\n",
    "from scipy.io import savemat,loadmat;from pybamm import constants,exp,tanh;import matplotlib as mpl; fs=17; # or we can set import matplotlib.pyplot as plt then say 'mpl.rc...'\n",
    "for k in range(0,1):\n",
    "    mpl.rcParams[\"axes.labelsize\"] = fs\n",
    "    mpl.rcParams[\"axes.titlesize\"] = fs\n",
    "    mpl.rcParams[\"xtick.labelsize\"] =  fs\n",
    "    mpl.rcParams[\"ytick.labelsize\"] =  fs\n",
    "    mpl.rcParams[\"legend.fontsize\"] =  fs\n",
    "    mpl.rcParams['font.sans-serif'] = ['Times New Roman']\n",
    "    mpl.rcParams['font.serif'] = ['Times New Roman']\n",
    "    mpl.rcParams['axes.unicode_minus'] = False"
   ]
  },
  {
   "cell_type": "code",
   "execution_count": 2,
   "metadata": {},
   "outputs": [],
   "source": [
    "# define function:\n",
    "def electrolyte_conductivity_Nyman2008_wEC(c_e,c_EC, T):\n",
    "    x = c_EC / c_e\n",
    "    \"\"\" index = np.piecewise(\n",
    "        x, \n",
    "        [x < 0, ((x >= 0) & (x < 4.541)), x >= 4.541], \n",
    "        [lambda x : 0, lambda x : 1/4.541*x, lambda x : 1]) \"\"\"\n",
    "    sigma_e = (\n",
    "        (c_EC <= 4541) * (x/4.541) * (\n",
    "        0.1297 * (c_e / 1000) ** 3 - 2.51 * (c_e / 1000) ** 1.5 + 3.329 * (c_e / 1000)) \n",
    "        + (c_EC > 4541) * (\n",
    "        0.1297 * (c_e / 1000) ** 3 - 2.51 * (c_e / 1000) ** 1.5 + 3.329 * (c_e / 1000))\n",
    "    )\n",
    "    return sigma_e\n",
    "def electrolyte_diffusivity_Nyman2008_wEC(c_e, c_EC,T):\n",
    "    x = c_EC / c_e\n",
    "    \"\"\" index = np.piecewise(\n",
    "        x, \n",
    "        [x < 0, ((x >= 0) & (x < 4.541)), x >= 4.541], \n",
    "        [lambda x : 0, lambda x : 1/4.541*x, lambda x : 1]) \"\"\"\n",
    "    D_c_e = (\n",
    "        (c_EC <= 4541) * (1/4.541*x) * (\n",
    "        8.794e-11 * (c_e / 1000) ** 2 - 3.972e-10 * (c_e / 1000) + 4.862e-10) \n",
    "        +  (c_EC > 4541) *  (\n",
    "        8.794e-11 * (c_e / 1000) ** 2 - 3.972e-10 * (c_e / 1000) + 4.862e-10)\n",
    "    )\n",
    "    return D_c_e\n"
   ]
  },
  {
   "cell_type": "code",
   "execution_count": 3,
   "metadata": {},
   "outputs": [],
   "source": [
    "V_max = 4.2;        V_min = 2.5;\n",
    "Diff_SEI = 1.7e-20;    R_SEI = 2E5;   Bulk_Sol_Con = 4541.0;\n",
    "Experiment_Long   = pybamm.Experiment( [ (\n",
    "    f\"Discharge at 1 C until {V_min} V\", \n",
    "    f\"Charge at 0.3 C until {V_max} V\", \n",
    "    f\"Hold at {V_max} V until C/5\")    ] * 1 ) \n",
    "Experiment_s   = pybamm.Experiment( [ (\n",
    "    f\"Discharge at 1 C for 197 s\", )    ] * 1 )   "
   ]
  },
  {
   "cell_type": "code",
   "execution_count": 4,
   "metadata": {},
   "outputs": [],
   "source": [
    "BasicPath = 'D:/OneDrive - Imperial College London/SimDataSave/P3R4/'; \n",
    "Target  = 'a2_Diff_Cond_c_EC/'\n",
    "if not os.path.exists(BasicPath + Target):\n",
    "    os.mkdir(BasicPath + Target);"
   ]
  },
  {
   "cell_type": "code",
   "execution_count": 5,
   "metadata": {},
   "outputs": [
    {
     "name": "stdout",
     "output_type": "stream",
     "text": [
      "using EC wo refill for Li+\n",
      "using EC w refill for Li+\n"
     ]
    }
   ],
   "source": [
    "Model_ddiff = pybamm.lithium_ion.DFN(     \n",
    "    options={\"solvent diffusion\": \"EC wo refill\"     } )\n",
    "Model_sdiff = pybamm.lithium_ion.DFN(     \n",
    "    options={\"solvent diffusion\": \"EC w refill\"     } )\n",
    "ChemistryChen=pybamm.parameter_sets.Chen2020 \n",
    "ChemistryChen[\"electrolyte\"] = \"lipf6_Nyman2008_rio\";\n",
    "Para_0=pybamm.ParameterValues(chemistry=ChemistryChen);\n",
    "\n",
    "\n",
    "Para_0['EC Lithium ion cross diffusivity [m2.s-1]'] = 1.5e-9/1e2;\n",
    "Para_0['Typical EC Lithium ion cross diffusivity [m2.s-1]'] =   1.5e-9/1e2\n",
    "Para_0['EC transference number'] =    -1.4\n",
    "Para_0['EC diffusivity in electrolyte [m2.s-1]'] =  5E-12;\n",
    "\"\"\" Para_0.update(\n",
    "    {'Electrolyte diffusivity [m2.s-1]':\n",
    "    electrolyte_diffusivity_Nyman2008_wEC})\n",
    "Para_0.update(\n",
    "    {'Electrolyte conductivity [S.m-1]':\n",
    "    electrolyte_conductivity_Nyman2008_wEC}) \"\"\"\n",
    "c_e_ddiff = Model_ddiff.variables[\"Electrolyte concentration [mol.m-3]\"]\n",
    "T_ddiff = Model_ddiff.variables[\"Cell temperature [K]\"]\n",
    "c_EC_ddiff = Model_ddiff.variables[\"EC concentration [mol.m-3]\"]\n",
    "\n",
    "\n",
    "c_e_sdiff = Model_sdiff.variables[\"Electrolyte concentration [mol.m-3]\"]\n",
    "T_sdiff = Model_sdiff.variables[\"Cell temperature [K]\"]\n",
    "c_EC_sdiff = Model_sdiff.variables[\"EC concentration [mol.m-3]\"]\n",
    "\n",
    "\n",
    "Model_ddiff.variables[\"c(EC) over c(Li+)\"] = c_EC_ddiff / c_e_ddiff\n",
    "#Model_ddiff.variables[\"Electrolyte conductivity [S.m-1]\"] =electrolyte_conductivity_Nyman2008_wEC(c_e_ddiff,c_EC_ddiff, T_ddiff)\n",
    "#Model_ddiff.variables[\"Electrolyte diffusivity [m2.s-1]\"] =electrolyte_diffusivity_Nyman2008_wEC(c_e_ddiff,c_EC_ddiff, T_ddiff)\n",
    "Model_ddiff.variables[\"Electrolyte conductivity [S.m-1]\"] =Para_0['Electrolyte conductivity [S.m-1]'](c_e_ddiff,c_EC_ddiff, T_ddiff)\n",
    "Model_ddiff.variables[\"Electrolyte diffusivity [m2.s-1]\"] =Para_0['Electrolyte diffusivity [m2.s-1]'](c_e_ddiff,c_EC_ddiff, T_ddiff)\n",
    "Model_sdiff.variables[\"c(EC) over c(Li+)\"] = c_EC_sdiff / c_e_sdiff\n",
    "#Model_sdiff.variables[\"Electrolyte conductivity [S.m-1]\"] =electrolyte_conductivity_Nyman2008_wEC(c_e_sdiff,c_EC_sdiff, T_sdiff)\n",
    "#Model_sdiff.variables[\"Electrolyte diffusivity [m2.s-1]\"] =electrolyte_diffusivity_Nyman2008_wEC(c_e_sdiff,c_EC_sdiff, T_sdiff)\n",
    "Model_sdiff.variables[\"Electrolyte conductivity [S.m-1]\"] =Para_0['Electrolyte conductivity [S.m-1]'](c_e_sdiff,c_EC_sdiff, T_sdiff)\n",
    "Model_sdiff.variables[\"Electrolyte diffusivity [m2.s-1]\"] =Para_0['Electrolyte diffusivity [m2.s-1]'](c_e_sdiff,c_EC_sdiff, T_sdiff)"
   ]
  },
  {
   "cell_type": "code",
   "execution_count": 6,
   "metadata": {},
   "outputs": [],
   "source": [
    "Sim_Landes_ddiff    = pybamm.Simulation(\n",
    "    Model_ddiff, experiment = Experiment_Long,\n",
    "    parameter_values = Para_0,\n",
    "    solver = pybamm.CasadiSolver(),)   \n",
    "Sim_Landes_sdiff    = pybamm.Simulation(\n",
    "    Model_sdiff, experiment = Experiment_Long,\n",
    "    parameter_values = Para_0,\n",
    "    solver = pybamm.CasadiSolver(),)  \n",
    "Sol_Landes_ddiff    = Sim_Landes_ddiff.solve();\n",
    "Sol_Landes_sdiff    = Sim_Landes_sdiff.solve();"
   ]
  },
  {
   "cell_type": "code",
   "execution_count": 7,
   "metadata": {},
   "outputs": [
    {
     "data": {
      "text/plain": [
       "array([0.94700724, 0.9470191 , 0.94704275, 0.94707807, 0.94712485,\n",
       "       0.94718279, 0.9472515 , 0.94733049, 0.94741912, 0.9475166 ,\n",
       "       0.94762203, 0.94773429, 0.94785212, 0.94797409, 0.94809862,\n",
       "       0.94822401, 0.94834844, 0.94847007, 0.94858705, 0.94869758,\n",
       "       0.94875234, 0.94875793, 0.94876351, 0.94876909, 0.94877466,\n",
       "       0.94878022, 0.94878576, 0.94879129, 0.9487968 , 0.9488023 ,\n",
       "       0.94880777, 0.94881323, 0.94881866, 0.94882406, 0.94882944,\n",
       "       0.9488348 , 0.94884012, 0.94884541, 0.94885067, 0.9488559 ,\n",
       "       0.94888543, 0.94893891, 0.94899077, 0.94904039, 0.94908732,\n",
       "       0.94913124, 0.94917192, 0.94920926, 0.9492432 , 0.94927377,\n",
       "       0.94930104, 0.9493251 , 0.94934606, 0.94936405, 0.9493792 ,\n",
       "       0.94939163, 0.94940145, 0.94940874, 0.94941356, 0.94941597])"
      ]
     },
     "execution_count": 7,
     "metadata": {},
     "output_type": "execute_result"
    }
   ],
   "source": [
    "Sol_Landes_ddiff[\"Electrolyte conductivity [S.m-1]\"].entries[:,-1] "
   ]
  },
  {
   "cell_type": "code",
   "execution_count": 8,
   "metadata": {},
   "outputs": [],
   "source": [
    "font = {'family' : 'Times New Roman',\n",
    "        #'weight' : 'bold',\n",
    "        'size'   : 18}\n",
    "mpl.rc('font', **font)"
   ]
  },
  {
   "cell_type": "code",
   "execution_count": 9,
   "metadata": {},
   "outputs": [
    {
     "data": {
      "application/vnd.jupyter.widget-view+json": {
       "model_id": "f81f50c661ae41bdab8ce5f2b94e9dcd",
       "version_major": 2,
       "version_minor": 0
      },
      "text/plain": [
       "interactive(children=(FloatSlider(value=0.0, description='t', max=4.1620043951311505, step=0.04162004395131150…"
      ]
     },
     "metadata": {},
     "output_type": "display_data"
    }
   ],
   "source": [
    "label = [\"without refill\",\"with refill\",] \n",
    "output_variables3 = [\n",
    "    \"Terminal voltage [V]\",   \n",
    "    #\"Current [A]\",\n",
    "    \"EC concentration [mol.m-3]\",\n",
    "    \"Electrolyte concentration [mol.m-3]\",\n",
    "    \"c(EC) over c(Li+)\",\n",
    "    #\"Loss of capacity to SEI [A.h]\",\n",
    "    \"Li+ flux [mol.m-2.s-1]\",\n",
    "    \"EC flux [mol.m-2.s-1]\",\n",
    "    \"Electrolyte conductivity [S.m-1]\",\n",
    "    \"Electrolyte diffusivity [m2.s-1]\",\n",
    "]\n",
    "quick_plot = pybamm.QuickPlot([\n",
    "    Sol_Landes_ddiff,Sol_Landes_sdiff\n",
    "    ], output_variables3,label,\n",
    "    variable_limits='fixed',time_unit='hours',n_rows=2,\n",
    "    figsize = (16,6)) #     spatial_unit='mm',\n",
    "quick_plot.dynamic_plot();\n",
    "#quick_plot.create_gif(\n",
    "#    number_of_images=10, duration=2,output_filename=BasicPath + Target+\"fixed_add c_EC as linear.gif\")"
   ]
  }
 ],
 "metadata": {
  "kernelspec": {
   "display_name": "Python 3.9.6 ('envPBGEM')",
   "language": "python",
   "name": "python3"
  },
  "language_info": {
   "codemirror_mode": {
    "name": "ipython",
    "version": 3
   },
   "file_extension": ".py",
   "mimetype": "text/x-python",
   "name": "python",
   "nbconvert_exporter": "python",
   "pygments_lexer": "ipython3",
   "version": "3.9.6"
  },
  "orig_nbformat": 4,
  "vscode": {
   "interpreter": {
    "hash": "83fab7fbb3a8fe7b5910804f702478ef63e2cc6a08d85072a5d68865ed0fd8c7"
   }
  }
 },
 "nbformat": 4,
 "nbformat_minor": 2
}
