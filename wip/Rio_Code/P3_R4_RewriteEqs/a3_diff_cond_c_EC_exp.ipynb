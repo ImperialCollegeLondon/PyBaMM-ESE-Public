{
 "cells": [
  {
   "cell_type": "markdown",
   "metadata": {},
   "source": [
    "# add c_EC as one of the inputs for diffusivity and conductivity; use exponeitial extrapolation for Nyman2008 and make the added function a Guass rather than tanh"
   ]
  },
  {
   "cell_type": "code",
   "execution_count": 1,
   "metadata": {},
   "outputs": [],
   "source": [
    "import pybamm\n",
    "import numpy as np\n",
    "import matplotlib.pyplot as plt\n",
    "import pandas as pd   ;import numpy as np;import os;import matplotlib.pyplot as plt;import os;\n",
    "from scipy.io import savemat,loadmat;from pybamm import constants,exp,tanh,sqrt;import matplotlib as mpl; fs=17; # or we can set import matplotlib.pyplot as plt then say 'mpl.rc...'\n",
    "for k in range(0,1):\n",
    "    mpl.rcParams[\"axes.labelsize\"] = fs\n",
    "    mpl.rcParams[\"axes.titlesize\"] = fs\n",
    "    mpl.rcParams[\"xtick.labelsize\"] =  fs\n",
    "    mpl.rcParams[\"ytick.labelsize\"] =  fs\n",
    "    mpl.rcParams[\"legend.fontsize\"] =  fs\n",
    "    mpl.rcParams['font.sans-serif'] = ['Times New Roman']\n",
    "    mpl.rcParams['font.serif'] = ['Times New Roman']\n",
    "    mpl.rcParams['axes.unicode_minus'] = False\n",
    "import traceback"
   ]
  },
  {
   "cell_type": "code",
   "execution_count": 2,
   "metadata": {},
   "outputs": [],
   "source": [
    "# define function:\n",
    "def electrolyte_conductivity_Nyman2008_wEC(c_e,c_EC, T):\n",
    "    x = c_EC / c_e\n",
    "    coff = 1\n",
    "    sigma_e = (\n",
    "        (0.00+ coff/2 + coff/2 *  tanh((x-2.7705)*2)) * \n",
    "        (\n",
    "        0.1 * 0.06248 * (1+298.15-0.05559) * \n",
    "        (c_e/1e3) * (1 - 3.084 *sqrt(c_e/1e3) \n",
    "        + 1.33 *(1+ 0.03633 *(exp(1000/298.15))*c_e/1e3)   ) \n",
    "        / (1+(c_e/1e3)**4*( 0.00795 *exp(1000/298.15))) )  )\n",
    "    return sigma_e\n",
    "def electrolyte_diffusivity_Nyman2008_wEC(c_e, c_EC,T):\n",
    "    x = c_EC / c_e\n",
    "    coff = 1\n",
    "    D_c_e = (\n",
    "        ( 0.00+ coff/2 + coff/2 *  tanh((x-2.7705)*2) )  * \n",
    "        (6 * exp( -1 *(c_e/1000)) \n",
    "        * exp(-5/298.15) \n",
    "        * exp(-95/298.15*(c_e/1000)) * 1e-10 ) )\n",
    "    return D_c_e\n"
   ]
  },
  {
   "cell_type": "code",
   "execution_count": 3,
   "metadata": {},
   "outputs": [],
   "source": [
    "V_max = 4.2;        V_min = 2.5;\n",
    "Diff_SEI = 1.7e-20;    R_SEI = 2E5;   Bulk_Sol_Con = 4541.0;\n",
    "Experiment_Long   = pybamm.Experiment( [ (\n",
    "    f\"Discharge at 1 C until {V_min} V\", \n",
    "    f\"Charge at 0.3 C until {V_max} V\", \n",
    "    f\"Hold at {V_max} V until C/5\")    ] * 1 ) \n",
    "Experiment_s   = pybamm.Experiment( [ (\n",
    "    f\"Discharge at 1 C for 240 s\", )    ] * 1 )   "
   ]
  },
  {
   "cell_type": "code",
   "execution_count": 4,
   "metadata": {},
   "outputs": [],
   "source": [
    "BasicPath = 'D:/OneDrive - Imperial College London/SimDataSave/P3R4/'; \n",
    "Target  = 'a2_Diff_Cond_c_EC/'\n",
    "if not os.path.exists(BasicPath + Target):\n",
    "    os.mkdir(BasicPath + Target);"
   ]
  },
  {
   "cell_type": "code",
   "execution_count": 5,
   "metadata": {},
   "outputs": [
    {
     "name": "stdout",
     "output_type": "stream",
     "text": [
      "using EC wo refill for Li+\n"
     ]
    }
   ],
   "source": [
    "Model_ddiff = pybamm.lithium_ion.DFN(     \n",
    "    options={\"solvent diffusion\": \"EC wo refill\"     } )\n",
    "Model_sdiff = pybamm.lithium_ion.DFN(     \n",
    "    options={\"solvent diffusion\": \"none\"     } )\n",
    "ChemistryChen=pybamm.parameter_sets.Chen2020 \n",
    "ChemistryChen[\"electrolyte\"] = \"lipf6_Nyman2008_rio\";\n",
    "Para_0=pybamm.ParameterValues(chemistry=ChemistryChen);\n",
    "\n",
    "\n",
    "Para_0['EC Lithium ion cross diffusivity [m2.s-1]'] = \"[input]\" # 1.5e-9/1e2;\n",
    "Para_0['Typical EC Lithium ion cross diffusivity [m2.s-1]'] =   1.5e-9/1e2\n",
    "Para_0['EC transference number'] =     \"[input]\" # -1.4\n",
    "Para_0['EC diffusivity in electrolyte [m2.s-1]'] =   \"[input]\" # 5E-12;\n",
    "Para_0.update(\n",
    "    {'Electrolyte diffusivity [m2.s-1]':\n",
    "    electrolyte_diffusivity_Nyman2008_wEC})\n",
    "Para_0.update(\n",
    "    {'Electrolyte conductivity [S.m-1]':\n",
    "    electrolyte_conductivity_Nyman2008_wEC})\n",
    "c_e_ddiff = Model_ddiff.variables[\"Electrolyte concentration [mol.m-3]\"]\n",
    "T_ddiff = Model_ddiff.variables[\"Cell temperature [K]\"]\n",
    "c_EC_ddiff = Model_ddiff.variables[\"EC concentration [mol.m-3]\"]\n",
    "Model_ddiff.variables[\"c(EC) over c(Li+)\"] = c_EC_ddiff / c_e_ddiff\n",
    "Model_ddiff.variables[\"Electrolyte conductivity [S.m-1]\"] =electrolyte_conductivity_Nyman2008_wEC(c_e_ddiff,c_EC_ddiff, T_ddiff)\n",
    "Model_ddiff.variables[\"Electrolyte diffusivity [m2.s-1]\"] =electrolyte_diffusivity_Nyman2008_wEC(c_e_ddiff,c_EC_ddiff, T_ddiff)"
   ]
  },
  {
   "cell_type": "code",
   "execution_count": 6,
   "metadata": {},
   "outputs": [
    {
     "name": "stdout",
     "output_type": "stream",
     "text": [
      "<class 'list'>\n"
     ]
    }
   ],
   "source": [
    "Xi =  list(np.linspace(-1.8, -1.0, 10))\n",
    "print(type(Xi))"
   ]
  },
  {
   "cell_type": "code",
   "execution_count": 15,
   "metadata": {},
   "outputs": [
    {
     "data": {
      "text/plain": [
       "45"
      ]
     },
     "execution_count": 15,
     "metadata": {},
     "output_type": "execute_result"
    }
   ],
   "source": [
    "len(Set_succ)\n",
    "len(Set_fail)"
   ]
  },
  {
   "cell_type": "code",
   "execution_count": null,
   "metadata": {},
   "outputs": [],
   "source": [
    "Succeed for:  Xi= -1.8 t_0plus= 0.01 D_cross= 1.5e-18 D_ec= 3.750125e-10"
   ]
  },
  {
   "cell_type": "code",
   "execution_count": 34,
   "metadata": {},
   "outputs": [],
   "source": [
    "Sol_ddiff    = Sim_ddiff.solve(\n",
    "    inputs={\n",
    "        \"EC transference number\":-1.4,\n",
    "        \"Cation transference number\":0.28,\n",
    "        \"EC Lithium ion cross diffusivity [m2.s-1]\":5e-14,\n",
    "        \"EC diffusivity in electrolyte [m2.s-1]\":5e-10,});"
   ]
  },
  {
   "cell_type": "code",
   "execution_count": 13,
   "metadata": {},
   "outputs": [
    {
     "name": "stdout",
     "output_type": "stream",
     "text": [
      "Succeed for:  Xi= -1.8 t_0plus= 0.01 D_cross= 1.5e-18 D_ec= 5e-14\n",
      "Succeed for:  Xi= -1.8 t_0plus= 0.01 D_cross= 1.5e-18 D_ec= 1.250375e-10\n"
     ]
    },
    {
     "name": "stderr",
     "output_type": "stream",
     "text": [
      "The linesearch algorithm failed with too small a step.\n",
      "The linesearch algorithm failed with too small a step.\n"
     ]
    },
    {
     "name": "stdout",
     "output_type": "stream",
     "text": [
      "Succeed for:  Xi= -1.8 t_0plus= 0.01 D_cross= 1.5e-18 D_ec= 2.50025e-10\n"
     ]
    },
    {
     "name": "stderr",
     "output_type": "stream",
     "text": [
      "The linesearch algorithm failed with too small a step.\n",
      "The linesearch algorithm failed with too small a step.\n",
      "The linesearch algorithm failed with too small a step.\n",
      "The linesearch algorithm failed with too small a step.\n",
      "2022-10-06 13:00:33.848 - [ERROR] callbacks.on_experiment_error(226): Simulation error: Maximum number of decreased steps occurred at t=3057.756394458103. Try solving the model up to this time only or reducing dt_max (currently, dt_max=7.091632984777611) and/or reducing the size of the time steps or period of the experiment.\n"
     ]
    },
    {
     "name": "stdout",
     "output_type": "stream",
     "text": [
      "Succeed for:  Xi= -1.8 t_0plus= 0.01 D_cross= 1.5e-18 D_ec= 3.750125e-10\n"
     ]
    },
    {
     "name": "stderr",
     "output_type": "stream",
     "text": [
      "The linesearch algorithm failed with too small a step.\n",
      "The linesearch algorithm failed with too small a step.\n",
      "The linesearch algorithm failed with too small a step.\n"
     ]
    },
    {
     "name": "stdout",
     "output_type": "stream",
     "text": [
      "Succeed for:  Xi= -1.8 t_0plus= 0.01 D_cross= 1.5e-18 D_ec= 5e-10\n"
     ]
    },
    {
     "name": "stderr",
     "output_type": "stream",
     "text": [
      "psetup failed: .../casadi/interfaces/sundials/idas_interface.cpp:849: Calculating Jacobian failed\n",
      "psetup failed: .../casadi/interfaces/sundials/idas_interface.cpp:849: Calculating Jacobian failed\n",
      "At t = 0.00362728 and h = 1.976e-012, the corrector convergence failed repeatedly or with |h| = hmin.\n",
      "At t = 0.00336633 and h = 4.6855e-013, the corrector convergence failed repeatedly or with |h| = hmin.\n",
      "At t = 0.000903199 and h = 2.8596e-013, the corrector convergence failed repeatedly or with |h| = hmin.\n",
      "At t = 0.00089185 and h = 3.61506e-013, the corrector convergence failed repeatedly or with |h| = hmin.\n",
      "At t = 0.000913843 and h = 1.05878e-013, the corrector convergence failed repeatedly or with |h| = hmin.\n",
      "At t = 0.000716557 and h = 1.89226e-013, the corrector convergence failed repeatedly or with |h| = hmin.\n",
      "At t = 0.000716019 and h = 5.41661e-015, the corrector convergence failed repeatedly or with |h| = hmin.\n",
      "At t = 0.000739646 and h = 2.87672e-013, the corrector convergence failed repeatedly or with |h| = hmin.\n",
      "2022-10-06 13:01:16.975 - [ERROR] callbacks.on_experiment_error(226): Simulation error: Maximum number of decreased steps occurred at t=91.23752813767511. Try solving the model up to this time only or reducing dt_max (currently, dt_max=7.091632984777611) and/or reducing the size of the time steps or period of the experiment.\n"
     ]
    },
    {
     "name": "stdout",
     "output_type": "stream",
     "text": [
      "Succeed for:  Xi= -1.8 t_0plus= 0.01 D_cross= 3.750001125e-12 D_ec= 5e-14\n",
      "Succeed for:  Xi= -1.8 t_0plus= 0.01 D_cross= 3.750001125e-12 D_ec= 1.250375e-10\n"
     ]
    },
    {
     "name": "stderr",
     "output_type": "stream",
     "text": [
      "The linesearch algorithm failed with too small a step.\n",
      "The linesearch algorithm failed with too small a step.\n"
     ]
    },
    {
     "name": "stdout",
     "output_type": "stream",
     "text": [
      "Succeed for:  Xi= -1.8 t_0plus= 0.01 D_cross= 3.750001125e-12 D_ec= 2.50025e-10\n"
     ]
    },
    {
     "name": "stderr",
     "output_type": "stream",
     "text": [
      "The linesearch algorithm failed with too small a step.\n",
      "The linesearch algorithm failed with too small a step.\n",
      "The linesearch algorithm failed with too small a step.\n",
      "The linesearch algorithm failed with too small a step.\n",
      "2022-10-06 13:01:38.331 - [ERROR] callbacks.on_experiment_error(226): Simulation error: Maximum number of decreased steps occurred at t=2946.6244214689877. Try solving the model up to this time only or reducing dt_max (currently, dt_max=7.091632984777611) and/or reducing the size of the time steps or period of the experiment.\n"
     ]
    },
    {
     "name": "stdout",
     "output_type": "stream",
     "text": [
      "Succeed for:  Xi= -1.8 t_0plus= 0.01 D_cross= 3.750001125e-12 D_ec= 3.750125e-10\n",
      "Succeed for:  Xi= -1.8 t_0plus= 0.01 D_cross= 3.750001125e-12 D_ec= 5e-10\n"
     ]
    },
    {
     "name": "stderr",
     "output_type": "stream",
     "text": [
      "At t = 0.00112539 and h = 2.49427e-014, the corrector convergence failed repeatedly or with |h| = hmin.\n",
      "psetup failed: .../casadi/interfaces/sundials/idas_interface.cpp:849: Calculating Jacobian failed\n",
      "psetup failed: .../casadi/interfaces/sundials/idas_interface.cpp:852: Linear solve failed\n",
      "At t = 0.0012076 and h = 1.26277e-013, the corrector convergence failed repeatedly or with |h| = hmin.\n",
      "psetup failed: .../casadi/interfaces/sundials/idas_interface.cpp:849: Calculating Jacobian failed\n",
      "At t = 0.00116542 and h = 4.15835e-014, the corrector convergence failed repeatedly or with |h| = hmin.\n",
      "At t = 0.00120399 and h = 1.87572e-014, the corrector convergence failed repeatedly or with |h| = hmin.\n",
      "2022-10-06 13:01:54.335 - [ERROR] callbacks.on_experiment_error(226): Simulation error: Maximum number of decreased steps occurred at t=60.0. Try solving the model up to this time only or reducing dt_max (currently, dt_max=7.091632984777611) and/or reducing the size of the time steps or period of the experiment.\n"
     ]
    },
    {
     "name": "stdout",
     "output_type": "stream",
     "text": [
      "Traceback (most recent call last):\n",
      "  File \"C:\\Users\\rl1120\\AppData\\Local\\Temp\\ipykernel_16444\\920439172.py\", line 16, in <cell line: 11>\n",
      "    Sol_ddiff    = Sim_ddiff.solve(\n",
      "  File \"d:\\gitpybamm\\lrh_409\\lrh_409\\envsolcon\\pybamm-gem\\pybamm\\simulation.py\", line 843, in solve\n",
      "    raise e\n",
      "  File \"d:\\gitpybamm\\lrh_409\\lrh_409\\envsolcon\\pybamm-gem\\pybamm\\simulation.py\", line 829, in solve\n",
      "    step_solution = solver.step(\n",
      "  File \"d:\\gitpybamm\\lrh_409\\lrh_409\\envsolcon\\pybamm-gem\\pybamm\\solvers\\base_solver.py\", line 1322, in step\n",
      "    solution = self._integrate(model, t_eval, ext_and_inputs)\n",
      "  File \"d:\\gitpybamm\\lrh_409\\lrh_409\\envsolcon\\pybamm-gem\\pybamm\\solvers\\casadi_solver.py\", line 266, in _integrate\n",
      "    raise pybamm.SolverError(\n",
      "pybamm.expression_tree.exceptions.SolverError: Maximum number of decreased steps occurred at t=60.0. Try solving the model up to this time only or reducing dt_max (currently, dt_max=7.091632984777611) and/or reducing the size of the time steps or period of the experiment.\n",
      "\n",
      "Fail for:  Xi= -1.8 t_0plus= 0.01 D_cross= 7.500000749999999e-12 D_ec= 5e-14\n",
      "Succeed for:  Xi= -1.8 t_0plus= 0.01 D_cross= 7.500000749999999e-12 D_ec= 1.250375e-10\n"
     ]
    },
    {
     "name": "stderr",
     "output_type": "stream",
     "text": [
      "At t = 0.00473036 and h = 3.83515e-011, the corrector convergence failed repeatedly or with |h| = hmin.\n",
      "2022-10-06 13:02:05.358 - [ERROR] callbacks.on_experiment_error(226): Simulation error: .../casadi/interfaces/sundials/idas_interface.cpp:591: IDASolve returned \"IDA_CONV_FAIL\". Consult IDAS documentation.\n"
     ]
    },
    {
     "name": "stdout",
     "output_type": "stream",
     "text": [
      "Succeed for:  Xi= -1.8 t_0plus= 0.01 D_cross= 7.500000749999999e-12 D_ec= 2.50025e-10\n"
     ]
    },
    {
     "name": "stderr",
     "output_type": "stream",
     "text": [
      "The linesearch algorithm failed with too small a step.\n",
      "The linesearch algorithm failed with too small a step.\n",
      "The linesearch algorithm failed with too small a step.\n",
      "2022-10-06 13:02:12.795 - [ERROR] callbacks.on_experiment_error(226): Simulation error: .../casadi/interfaces/sundials/idas_interface.cpp:591: IDACalcIC returned \"IDA_LINESEARCH_FAIL\". Consult IDAS documentation.\n"
     ]
    },
    {
     "name": "stdout",
     "output_type": "stream",
     "text": [
      "Succeed for:  Xi= -1.8 t_0plus= 0.01 D_cross= 7.500000749999999e-12 D_ec= 3.750125e-10\n",
      "Succeed for:  Xi= -1.8 t_0plus= 0.01 D_cross= 7.500000749999999e-12 D_ec= 5e-10\n"
     ]
    },
    {
     "name": "stderr",
     "output_type": "stream",
     "text": [
      "psetup failed: .../casadi/interfaces/sundials/idas_interface.cpp:849: Calculating Jacobian failed\n",
      "At t = 0.00290589 and h = 4.32199e-015, the corrector convergence failed repeatedly or with |h| = hmin.\n",
      "psetup failed: .../casadi/interfaces/sundials/idas_interface.cpp:849: Calculating Jacobian failed\n",
      "At t = 0.00290104 and h = 8.31943e-015, the corrector convergence failed repeatedly or with |h| = hmin.\n",
      "psetup failed: .../casadi/interfaces/sundials/idas_interface.cpp:849: Calculating Jacobian failed\n",
      "psetup failed: .../casadi/interfaces/sundials/idas_interface.cpp:849: Calculating Jacobian failed\n",
      "psetup failed: .../casadi/interfaces/sundials/idas_interface.cpp:849: Calculating Jacobian failed\n",
      "psetup failed: .../casadi/interfaces/sundials/idas_interface.cpp:849: Calculating Jacobian failed\n",
      "psetup failed: .../casadi/interfaces/sundials/idas_interface.cpp:849: Calculating Jacobian failed\n",
      "psetup failed: .../casadi/interfaces/sundials/idas_interface.cpp:849: Calculating Jacobian failed\n",
      "psetup failed: .../casadi/interfaces/sundials/idas_interface.cpp:849: Calculating Jacobian failed\n",
      "psetup failed: .../casadi/interfaces/sundials/idas_interface.cpp:849: Calculating Jacobian failed\n",
      "psetup failed: .../casadi/interfaces/sundials/idas_interface.cpp:849: Calculating Jacobian failed\n",
      "psetup failed: .../casadi/interfaces/sundials/idas_interface.cpp:849: Calculating Jacobian failed\n",
      "psetup failed: .../casadi/interfaces/sundials/idas_interface.cpp:849: Calculating Jacobian failed\n",
      "psetup failed: .../casadi/interfaces/sundials/idas_interface.cpp:849: Calculating Jacobian failed\n",
      "psetup failed: .../casadi/interfaces/sundials/idas_interface.cpp:849: Calculating Jacobian failed\n",
      "psetup failed: .../casadi/interfaces/sundials/idas_interface.cpp:849: Calculating Jacobian failed\n",
      "psetup failed: .../casadi/interfaces/sundials/idas_interface.cpp:849: Calculating Jacobian failed\n",
      "At t = 0.000416314 and h = 4.94616e-014, the corrector convergence failed repeatedly or with |h| = hmin.\n",
      "At t = 0.000400502 and h = 2.96462e-015, the corrector convergence failed repeatedly or with |h| = hmin.\n",
      "psetup failed: .../casadi/interfaces/sundials/idas_interface.cpp:849: Calculating Jacobian failed\n",
      "At t = 0.000411039 and h = 7.6466e-016, the corrector convergence failed repeatedly or with |h| = hmin.\n",
      "psetup failed: .../casadi/interfaces/sundials/idas_interface.cpp:849: Calculating Jacobian failed\n",
      "At t = 9.86044e-005 and h = 7.62643e-016, the corrector convergence failed repeatedly or with |h| = hmin.\n",
      "psetup failed: .../casadi/interfaces/sundials/idas_interface.cpp:849: Calculating Jacobian failed\n",
      "At t = 9.34346e-005 and h = 5.82976e-015, the corrector convergence failed repeatedly or with |h| = hmin.\n",
      "At t = 1.46599e-005 and h = 1.21006e-015, the corrector convergence failed repeatedly or with |h| = hmin.\n",
      "At t = 1.19057e-005 and h = 1.27392e-015, the corrector convergence failed repeatedly or with |h| = hmin.\n",
      "At t = 1.68042e-005 and h = 1.99654e-014, the corrector convergence failed repeatedly or with |h| = hmin.\n",
      "At t = 1.56681e-005 and h = 2.96151e-014, the corrector convergence failed repeatedly or with |h| = hmin.\n",
      "At t = 1.72722e-005 and h = 1.32152e-014, the corrector convergence failed repeatedly or with |h| = hmin.\n",
      "2022-10-06 13:02:43.407 - [ERROR] callbacks.on_experiment_error(226): Simulation error: Maximum number of decreased steps occurred at t=32.774926486579375. Try solving the model up to this time only or reducing dt_max (currently, dt_max=3.5458164923888056) and/or reducing the size of the time steps or period of the experiment.\n"
     ]
    },
    {
     "name": "stdout",
     "output_type": "stream",
     "text": [
      "Succeed for:  Xi= -1.8 t_0plus= 0.01 D_cross= 1.1250000375e-11 D_ec= 5e-14\n",
      "Succeed for:  Xi= -1.8 t_0plus= 0.01 D_cross= 1.1250000375e-11 D_ec= 1.250375e-10\n"
     ]
    },
    {
     "name": "stderr",
     "output_type": "stream",
     "text": [
      "The linesearch algorithm failed with too small a step.\n",
      "The linesearch algorithm failed with too small a step.\n"
     ]
    },
    {
     "name": "stdout",
     "output_type": "stream",
     "text": [
      "Succeed for:  Xi= -1.8 t_0plus= 0.01 D_cross= 1.1250000375e-11 D_ec= 2.50025e-10\n",
      "Succeed for:  Xi= -1.8 t_0plus= 0.01 D_cross= 1.1250000375e-11 D_ec= 3.750125e-10\n"
     ]
    },
    {
     "name": "stderr",
     "output_type": "stream",
     "text": [
      "The linesearch algorithm failed with too small a step.\n",
      "The linesearch algorithm failed with too small a step.\n"
     ]
    },
    {
     "name": "stdout",
     "output_type": "stream",
     "text": [
      "Succeed for:  Xi= -1.8 t_0plus= 0.01 D_cross= 1.1250000375e-11 D_ec= 5e-10\n"
     ]
    },
    {
     "name": "stderr",
     "output_type": "stream",
     "text": [
      "psetup failed: .../casadi/interfaces/sundials/idas_interface.cpp:852: Linear solve failed\n",
      "psetup failed: .../casadi/interfaces/sundials/idas_interface.cpp:852: Linear solve failed\n",
      "At t = 0.00109815 and h = 4.88756e-026, the corrector convergence failed repeatedly or with |h| = hmin.\n",
      "psetup failed: .../casadi/interfaces/sundials/idas_interface.cpp:849: Calculating Jacobian failed\n",
      "psetup failed: .../casadi/interfaces/sundials/idas_interface.cpp:849: Calculating Jacobian failed\n",
      "psetup failed: .../casadi/interfaces/sundials/idas_interface.cpp:849: Calculating Jacobian failed\n",
      "psetup failed: .../casadi/interfaces/sundials/idas_interface.cpp:849: Calculating Jacobian failed\n",
      "psetup failed: .../casadi/interfaces/sundials/idas_interface.cpp:849: Calculating Jacobian failed\n",
      "psetup failed: .../casadi/interfaces/sundials/idas_interface.cpp:849: Calculating Jacobian failed\n",
      "psetup failed: .../casadi/interfaces/sundials/idas_interface.cpp:849: Calculating Jacobian failed\n",
      "psetup failed: .../casadi/interfaces/sundials/idas_interface.cpp:849: Calculating Jacobian failed\n",
      "psetup failed: .../casadi/interfaces/sundials/idas_interface.cpp:849: Calculating Jacobian failed\n",
      "psetup failed: .../casadi/interfaces/sundials/idas_interface.cpp:849: Calculating Jacobian failed\n",
      "At t = 0.00110568 and h = 6.89619e-014, the corrector convergence failed repeatedly or with |h| = hmin.\n",
      "psetup failed: .../casadi/interfaces/sundials/idas_interface.cpp:852: Linear solve failed\n",
      "At t = 0.00109794 and h = 9.27076e-017, the corrector convergence failed repeatedly or with |h| = hmin.\n",
      "At t = 0.0010979 and h = 7.57125e-016, the corrector convergence failed repeatedly or with |h| = hmin.\n",
      "2022-10-06 13:03:14.621 - [ERROR] callbacks.on_experiment_error(226): Simulation error: Maximum number of decreased steps occurred at t=0.0. Try solving the model up to this time only or reducing dt_max (currently, dt_max=7.091632984777611) and/or reducing the size of the time steps or period of the experiment.\n"
     ]
    },
    {
     "name": "stdout",
     "output_type": "stream",
     "text": [
      "Traceback (most recent call last):\n",
      "  File \"C:\\Users\\rl1120\\AppData\\Local\\Temp\\ipykernel_16444\\920439172.py\", line 16, in <cell line: 11>\n",
      "    Sol_ddiff    = Sim_ddiff.solve(\n",
      "  File \"d:\\gitpybamm\\lrh_409\\lrh_409\\envsolcon\\pybamm-gem\\pybamm\\simulation.py\", line 843, in solve\n",
      "    raise e\n",
      "  File \"d:\\gitpybamm\\lrh_409\\lrh_409\\envsolcon\\pybamm-gem\\pybamm\\simulation.py\", line 829, in solve\n",
      "    step_solution = solver.step(\n",
      "  File \"d:\\gitpybamm\\lrh_409\\lrh_409\\envsolcon\\pybamm-gem\\pybamm\\solvers\\base_solver.py\", line 1322, in step\n",
      "    solution = self._integrate(model, t_eval, ext_and_inputs)\n",
      "  File \"d:\\gitpybamm\\lrh_409\\lrh_409\\envsolcon\\pybamm-gem\\pybamm\\solvers\\casadi_solver.py\", line 266, in _integrate\n",
      "    raise pybamm.SolverError(\n",
      "pybamm.expression_tree.exceptions.SolverError: Maximum number of decreased steps occurred at t=0.0. Try solving the model up to this time only or reducing dt_max (currently, dt_max=7.091632984777611) and/or reducing the size of the time steps or period of the experiment.\n",
      "\n",
      "Fail for:  Xi= -1.8 t_0plus= 0.01 D_cross= 1.5e-11 D_ec= 5e-14\n",
      "Succeed for:  Xi= -1.8 t_0plus= 0.01 D_cross= 1.5e-11 D_ec= 1.250375e-10\n"
     ]
    },
    {
     "name": "stderr",
     "output_type": "stream",
     "text": [
      "At t = 0.00257449 and h = 2.4693e-011, the corrector convergence failed repeatedly or with |h| = hmin.\n"
     ]
    },
    {
     "name": "stdout",
     "output_type": "stream",
     "text": [
      "Succeed for:  Xi= -1.8 t_0plus= 0.01 D_cross= 1.5e-11 D_ec= 2.50025e-10\n",
      "Succeed for:  Xi= -1.8 t_0plus= 0.01 D_cross= 1.5e-11 D_ec= 3.750125e-10\n",
      "Succeed for:  Xi= -1.8 t_0plus= 0.01 D_cross= 1.5e-11 D_ec= 5e-10\n",
      "Succeed for:  Xi= -1.8 t_0plus= 0.08249999999999999 D_cross= 1.5e-18 D_ec= 5e-14\n",
      "Succeed for:  Xi= -1.8 t_0plus= 0.08249999999999999 D_cross= 1.5e-18 D_ec= 1.250375e-10\n"
     ]
    },
    {
     "name": "stderr",
     "output_type": "stream",
     "text": [
      "The linesearch algorithm failed with too small a step.\n",
      "The linesearch algorithm failed with too small a step.\n"
     ]
    },
    {
     "name": "stdout",
     "output_type": "stream",
     "text": [
      "Succeed for:  Xi= -1.8 t_0plus= 0.08249999999999999 D_cross= 1.5e-18 D_ec= 2.50025e-10\n"
     ]
    },
    {
     "name": "stderr",
     "output_type": "stream",
     "text": [
      "The linesearch algorithm failed with too small a step.\n",
      "The linesearch algorithm failed with too small a step.\n",
      "The linesearch algorithm failed with too small a step.\n",
      "The linesearch algorithm failed with too small a step.\n",
      "2022-10-06 13:04:16.400 - [ERROR] callbacks.on_experiment_error(226): Simulation error: Maximum number of decreased steps occurred at t=3057.756394458103. Try solving the model up to this time only or reducing dt_max (currently, dt_max=7.091632984777611) and/or reducing the size of the time steps or period of the experiment.\n"
     ]
    },
    {
     "name": "stdout",
     "output_type": "stream",
     "text": [
      "Succeed for:  Xi= -1.8 t_0plus= 0.08249999999999999 D_cross= 1.5e-18 D_ec= 3.750125e-10\n"
     ]
    },
    {
     "name": "stderr",
     "output_type": "stream",
     "text": [
      "The linesearch algorithm failed with too small a step.\n",
      "The linesearch algorithm failed with too small a step.\n",
      "The linesearch algorithm failed with too small a step.\n"
     ]
    },
    {
     "name": "stdout",
     "output_type": "stream",
     "text": [
      "Succeed for:  Xi= -1.8 t_0plus= 0.08249999999999999 D_cross= 1.5e-18 D_ec= 5e-10\n"
     ]
    },
    {
     "name": "stderr",
     "output_type": "stream",
     "text": [
      "psetup failed: .../casadi/interfaces/sundials/idas_interface.cpp:849: Calculating Jacobian failed\n",
      "psetup failed: .../casadi/interfaces/sundials/idas_interface.cpp:849: Calculating Jacobian failed\n",
      "At t = 0.00362728 and h = 1.976e-012, the corrector convergence failed repeatedly or with |h| = hmin.\n",
      "At t = 0.00336633 and h = 4.6855e-013, the corrector convergence failed repeatedly or with |h| = hmin.\n",
      "At t = 0.000903199 and h = 2.8596e-013, the corrector convergence failed repeatedly or with |h| = hmin.\n",
      "At t = 0.00089185 and h = 3.61506e-013, the corrector convergence failed repeatedly or with |h| = hmin.\n",
      "At t = 0.000913843 and h = 1.05878e-013, the corrector convergence failed repeatedly or with |h| = hmin.\n",
      "At t = 0.000716557 and h = 1.89226e-013, the corrector convergence failed repeatedly or with |h| = hmin.\n",
      "At t = 0.000716019 and h = 5.41661e-015, the corrector convergence failed repeatedly or with |h| = hmin.\n",
      "At t = 0.000739646 and h = 2.87672e-013, the corrector convergence failed repeatedly or with |h| = hmin.\n",
      "2022-10-06 13:04:56.738 - [ERROR] callbacks.on_experiment_error(226): Simulation error: Maximum number of decreased steps occurred at t=91.23752813767511. Try solving the model up to this time only or reducing dt_max (currently, dt_max=7.091632984777611) and/or reducing the size of the time steps or period of the experiment.\n"
     ]
    },
    {
     "name": "stdout",
     "output_type": "stream",
     "text": [
      "Succeed for:  Xi= -1.8 t_0plus= 0.08249999999999999 D_cross= 3.750001125e-12 D_ec= 5e-14\n",
      "Succeed for:  Xi= -1.8 t_0plus= 0.08249999999999999 D_cross= 3.750001125e-12 D_ec= 1.250375e-10\n"
     ]
    },
    {
     "name": "stderr",
     "output_type": "stream",
     "text": [
      "The linesearch algorithm failed with too small a step.\n",
      "The linesearch algorithm failed with too small a step.\n"
     ]
    },
    {
     "name": "stdout",
     "output_type": "stream",
     "text": [
      "Succeed for:  Xi= -1.8 t_0plus= 0.08249999999999999 D_cross= 3.750001125e-12 D_ec= 2.50025e-10\n"
     ]
    },
    {
     "name": "stderr",
     "output_type": "stream",
     "text": [
      "The linesearch algorithm failed with too small a step.\n",
      "The linesearch algorithm failed with too small a step.\n",
      "The linesearch algorithm failed with too small a step.\n",
      "The linesearch algorithm failed with too small a step.\n",
      "2022-10-06 13:05:19.618 - [ERROR] callbacks.on_experiment_error(226): Simulation error: Maximum number of decreased steps occurred at t=2946.6244214689877. Try solving the model up to this time only or reducing dt_max (currently, dt_max=7.091632984777611) and/or reducing the size of the time steps or period of the experiment.\n"
     ]
    },
    {
     "name": "stdout",
     "output_type": "stream",
     "text": [
      "Succeed for:  Xi= -1.8 t_0plus= 0.08249999999999999 D_cross= 3.750001125e-12 D_ec= 3.750125e-10\n",
      "Succeed for:  Xi= -1.8 t_0plus= 0.08249999999999999 D_cross= 3.750001125e-12 D_ec= 5e-10\n"
     ]
    },
    {
     "name": "stderr",
     "output_type": "stream",
     "text": [
      "At t = 0.00112539 and h = 2.49427e-014, the corrector convergence failed repeatedly or with |h| = hmin.\n",
      "psetup failed: .../casadi/interfaces/sundials/idas_interface.cpp:849: Calculating Jacobian failed\n",
      "psetup failed: .../casadi/interfaces/sundials/idas_interface.cpp:852: Linear solve failed\n",
      "At t = 0.0012076 and h = 1.26277e-013, the corrector convergence failed repeatedly or with |h| = hmin.\n",
      "psetup failed: .../casadi/interfaces/sundials/idas_interface.cpp:849: Calculating Jacobian failed\n",
      "At t = 0.00116542 and h = 4.15835e-014, the corrector convergence failed repeatedly or with |h| = hmin.\n",
      "At t = 0.00120399 and h = 1.87572e-014, the corrector convergence failed repeatedly or with |h| = hmin.\n",
      "2022-10-06 13:05:38.175 - [ERROR] callbacks.on_experiment_error(226): Simulation error: Maximum number of decreased steps occurred at t=60.0. Try solving the model up to this time only or reducing dt_max (currently, dt_max=7.091632984777611) and/or reducing the size of the time steps or period of the experiment.\n"
     ]
    },
    {
     "name": "stdout",
     "output_type": "stream",
     "text": [
      "Traceback (most recent call last):\n",
      "  File \"C:\\Users\\rl1120\\AppData\\Local\\Temp\\ipykernel_16444\\920439172.py\", line 16, in <cell line: 11>\n",
      "    Sol_ddiff    = Sim_ddiff.solve(\n",
      "  File \"d:\\gitpybamm\\lrh_409\\lrh_409\\envsolcon\\pybamm-gem\\pybamm\\simulation.py\", line 843, in solve\n",
      "    raise e\n",
      "  File \"d:\\gitpybamm\\lrh_409\\lrh_409\\envsolcon\\pybamm-gem\\pybamm\\simulation.py\", line 829, in solve\n",
      "    step_solution = solver.step(\n",
      "  File \"d:\\gitpybamm\\lrh_409\\lrh_409\\envsolcon\\pybamm-gem\\pybamm\\solvers\\base_solver.py\", line 1322, in step\n",
      "    solution = self._integrate(model, t_eval, ext_and_inputs)\n",
      "  File \"d:\\gitpybamm\\lrh_409\\lrh_409\\envsolcon\\pybamm-gem\\pybamm\\solvers\\casadi_solver.py\", line 266, in _integrate\n",
      "    raise pybamm.SolverError(\n",
      "pybamm.expression_tree.exceptions.SolverError: Maximum number of decreased steps occurred at t=60.0. Try solving the model up to this time only or reducing dt_max (currently, dt_max=7.091632984777611) and/or reducing the size of the time steps or period of the experiment.\n",
      "\n",
      "Fail for:  Xi= -1.8 t_0plus= 0.08249999999999999 D_cross= 7.500000749999999e-12 D_ec= 5e-14\n",
      "Succeed for:  Xi= -1.8 t_0plus= 0.08249999999999999 D_cross= 7.500000749999999e-12 D_ec= 1.250375e-10\n"
     ]
    },
    {
     "name": "stderr",
     "output_type": "stream",
     "text": [
      "At t = 0.00473036 and h = 3.83515e-011, the corrector convergence failed repeatedly or with |h| = hmin.\n",
      "2022-10-06 13:05:50.602 - [ERROR] callbacks.on_experiment_error(226): Simulation error: .../casadi/interfaces/sundials/idas_interface.cpp:591: IDASolve returned \"IDA_CONV_FAIL\". Consult IDAS documentation.\n"
     ]
    },
    {
     "name": "stdout",
     "output_type": "stream",
     "text": [
      "Succeed for:  Xi= -1.8 t_0plus= 0.08249999999999999 D_cross= 7.500000749999999e-12 D_ec= 2.50025e-10\n"
     ]
    },
    {
     "name": "stderr",
     "output_type": "stream",
     "text": [
      "The linesearch algorithm failed with too small a step.\n",
      "The linesearch algorithm failed with too small a step.\n",
      "The linesearch algorithm failed with too small a step.\n",
      "2022-10-06 13:05:59.044 - [ERROR] callbacks.on_experiment_error(226): Simulation error: .../casadi/interfaces/sundials/idas_interface.cpp:591: IDACalcIC returned \"IDA_LINESEARCH_FAIL\". Consult IDAS documentation.\n"
     ]
    },
    {
     "name": "stdout",
     "output_type": "stream",
     "text": [
      "Succeed for:  Xi= -1.8 t_0plus= 0.08249999999999999 D_cross= 7.500000749999999e-12 D_ec= 3.750125e-10\n",
      "Succeed for:  Xi= -1.8 t_0plus= 0.08249999999999999 D_cross= 7.500000749999999e-12 D_ec= 5e-10\n"
     ]
    },
    {
     "name": "stderr",
     "output_type": "stream",
     "text": [
      "psetup failed: .../casadi/interfaces/sundials/idas_interface.cpp:849: Calculating Jacobian failed\n",
      "At t = 0.00290589 and h = 4.32199e-015, the corrector convergence failed repeatedly or with |h| = hmin.\n",
      "psetup failed: .../casadi/interfaces/sundials/idas_interface.cpp:849: Calculating Jacobian failed\n",
      "At t = 0.00290104 and h = 8.31943e-015, the corrector convergence failed repeatedly or with |h| = hmin.\n",
      "psetup failed: .../casadi/interfaces/sundials/idas_interface.cpp:849: Calculating Jacobian failed\n",
      "psetup failed: .../casadi/interfaces/sundials/idas_interface.cpp:849: Calculating Jacobian failed\n",
      "psetup failed: .../casadi/interfaces/sundials/idas_interface.cpp:849: Calculating Jacobian failed\n",
      "psetup failed: .../casadi/interfaces/sundials/idas_interface.cpp:849: Calculating Jacobian failed\n",
      "psetup failed: .../casadi/interfaces/sundials/idas_interface.cpp:849: Calculating Jacobian failed\n",
      "psetup failed: .../casadi/interfaces/sundials/idas_interface.cpp:849: Calculating Jacobian failed\n",
      "psetup failed: .../casadi/interfaces/sundials/idas_interface.cpp:849: Calculating Jacobian failed\n",
      "psetup failed: .../casadi/interfaces/sundials/idas_interface.cpp:849: Calculating Jacobian failed\n",
      "psetup failed: .../casadi/interfaces/sundials/idas_interface.cpp:849: Calculating Jacobian failed\n",
      "psetup failed: .../casadi/interfaces/sundials/idas_interface.cpp:849: Calculating Jacobian failed\n",
      "psetup failed: .../casadi/interfaces/sundials/idas_interface.cpp:849: Calculating Jacobian failed\n",
      "psetup failed: .../casadi/interfaces/sundials/idas_interface.cpp:849: Calculating Jacobian failed\n",
      "psetup failed: .../casadi/interfaces/sundials/idas_interface.cpp:849: Calculating Jacobian failed\n",
      "psetup failed: .../casadi/interfaces/sundials/idas_interface.cpp:849: Calculating Jacobian failed\n",
      "psetup failed: .../casadi/interfaces/sundials/idas_interface.cpp:849: Calculating Jacobian failed\n",
      "At t = 0.000416314 and h = 4.94616e-014, the corrector convergence failed repeatedly or with |h| = hmin.\n",
      "At t = 0.000400502 and h = 2.96462e-015, the corrector convergence failed repeatedly or with |h| = hmin.\n",
      "psetup failed: .../casadi/interfaces/sundials/idas_interface.cpp:849: Calculating Jacobian failed\n",
      "At t = 0.000411039 and h = 7.6466e-016, the corrector convergence failed repeatedly or with |h| = hmin.\n",
      "psetup failed: .../casadi/interfaces/sundials/idas_interface.cpp:849: Calculating Jacobian failed\n",
      "At t = 9.86044e-005 and h = 7.62643e-016, the corrector convergence failed repeatedly or with |h| = hmin.\n",
      "psetup failed: .../casadi/interfaces/sundials/idas_interface.cpp:849: Calculating Jacobian failed\n",
      "At t = 9.34346e-005 and h = 5.82976e-015, the corrector convergence failed repeatedly or with |h| = hmin.\n",
      "At t = 1.46599e-005 and h = 1.21006e-015, the corrector convergence failed repeatedly or with |h| = hmin.\n",
      "At t = 1.19057e-005 and h = 1.27392e-015, the corrector convergence failed repeatedly or with |h| = hmin.\n",
      "At t = 1.68042e-005 and h = 1.99654e-014, the corrector convergence failed repeatedly or with |h| = hmin.\n",
      "At t = 1.56681e-005 and h = 2.96151e-014, the corrector convergence failed repeatedly or with |h| = hmin.\n",
      "At t = 1.72722e-005 and h = 1.32152e-014, the corrector convergence failed repeatedly or with |h| = hmin.\n",
      "2022-10-06 13:06:31.741 - [ERROR] callbacks.on_experiment_error(226): Simulation error: Maximum number of decreased steps occurred at t=32.774926486579375. Try solving the model up to this time only or reducing dt_max (currently, dt_max=3.5458164923888056) and/or reducing the size of the time steps or period of the experiment.\n"
     ]
    },
    {
     "name": "stdout",
     "output_type": "stream",
     "text": [
      "Succeed for:  Xi= -1.8 t_0plus= 0.08249999999999999 D_cross= 1.1250000375e-11 D_ec= 5e-14\n",
      "Succeed for:  Xi= -1.8 t_0plus= 0.08249999999999999 D_cross= 1.1250000375e-11 D_ec= 1.250375e-10\n"
     ]
    },
    {
     "name": "stderr",
     "output_type": "stream",
     "text": [
      "The linesearch algorithm failed with too small a step.\n",
      "The linesearch algorithm failed with too small a step.\n"
     ]
    },
    {
     "name": "stdout",
     "output_type": "stream",
     "text": [
      "Succeed for:  Xi= -1.8 t_0plus= 0.08249999999999999 D_cross= 1.1250000375e-11 D_ec= 2.50025e-10\n",
      "Succeed for:  Xi= -1.8 t_0plus= 0.08249999999999999 D_cross= 1.1250000375e-11 D_ec= 3.750125e-10\n"
     ]
    },
    {
     "name": "stderr",
     "output_type": "stream",
     "text": [
      "The linesearch algorithm failed with too small a step.\n",
      "The linesearch algorithm failed with too small a step.\n"
     ]
    },
    {
     "name": "stdout",
     "output_type": "stream",
     "text": [
      "Succeed for:  Xi= -1.8 t_0plus= 0.08249999999999999 D_cross= 1.1250000375e-11 D_ec= 5e-10\n"
     ]
    },
    {
     "name": "stderr",
     "output_type": "stream",
     "text": [
      "psetup failed: .../casadi/interfaces/sundials/idas_interface.cpp:852: Linear solve failed\n",
      "psetup failed: .../casadi/interfaces/sundials/idas_interface.cpp:852: Linear solve failed\n",
      "At t = 0.00109815 and h = 4.88756e-026, the corrector convergence failed repeatedly or with |h| = hmin.\n",
      "psetup failed: .../casadi/interfaces/sundials/idas_interface.cpp:849: Calculating Jacobian failed\n",
      "psetup failed: .../casadi/interfaces/sundials/idas_interface.cpp:849: Calculating Jacobian failed\n",
      "psetup failed: .../casadi/interfaces/sundials/idas_interface.cpp:849: Calculating Jacobian failed\n",
      "psetup failed: .../casadi/interfaces/sundials/idas_interface.cpp:849: Calculating Jacobian failed\n",
      "psetup failed: .../casadi/interfaces/sundials/idas_interface.cpp:849: Calculating Jacobian failed\n",
      "psetup failed: .../casadi/interfaces/sundials/idas_interface.cpp:849: Calculating Jacobian failed\n",
      "psetup failed: .../casadi/interfaces/sundials/idas_interface.cpp:849: Calculating Jacobian failed\n",
      "psetup failed: .../casadi/interfaces/sundials/idas_interface.cpp:849: Calculating Jacobian failed\n",
      "psetup failed: .../casadi/interfaces/sundials/idas_interface.cpp:849: Calculating Jacobian failed\n",
      "psetup failed: .../casadi/interfaces/sundials/idas_interface.cpp:849: Calculating Jacobian failed\n",
      "At t = 0.00110568 and h = 6.89619e-014, the corrector convergence failed repeatedly or with |h| = hmin.\n",
      "psetup failed: .../casadi/interfaces/sundials/idas_interface.cpp:852: Linear solve failed\n",
      "At t = 0.00109794 and h = 9.27076e-017, the corrector convergence failed repeatedly or with |h| = hmin.\n",
      "At t = 0.0010979 and h = 7.57125e-016, the corrector convergence failed repeatedly or with |h| = hmin.\n",
      "2022-10-06 13:07:04.510 - [ERROR] callbacks.on_experiment_error(226): Simulation error: Maximum number of decreased steps occurred at t=0.0. Try solving the model up to this time only or reducing dt_max (currently, dt_max=7.091632984777611) and/or reducing the size of the time steps or period of the experiment.\n"
     ]
    },
    {
     "name": "stdout",
     "output_type": "stream",
     "text": [
      "Traceback (most recent call last):\n",
      "  File \"C:\\Users\\rl1120\\AppData\\Local\\Temp\\ipykernel_16444\\920439172.py\", line 16, in <cell line: 11>\n",
      "    Sol_ddiff    = Sim_ddiff.solve(\n",
      "  File \"d:\\gitpybamm\\lrh_409\\lrh_409\\envsolcon\\pybamm-gem\\pybamm\\simulation.py\", line 843, in solve\n",
      "    raise e\n",
      "  File \"d:\\gitpybamm\\lrh_409\\lrh_409\\envsolcon\\pybamm-gem\\pybamm\\simulation.py\", line 829, in solve\n",
      "    step_solution = solver.step(\n",
      "  File \"d:\\gitpybamm\\lrh_409\\lrh_409\\envsolcon\\pybamm-gem\\pybamm\\solvers\\base_solver.py\", line 1322, in step\n",
      "    solution = self._integrate(model, t_eval, ext_and_inputs)\n",
      "  File \"d:\\gitpybamm\\lrh_409\\lrh_409\\envsolcon\\pybamm-gem\\pybamm\\solvers\\casadi_solver.py\", line 266, in _integrate\n",
      "    raise pybamm.SolverError(\n",
      "pybamm.expression_tree.exceptions.SolverError: Maximum number of decreased steps occurred at t=0.0. Try solving the model up to this time only or reducing dt_max (currently, dt_max=7.091632984777611) and/or reducing the size of the time steps or period of the experiment.\n",
      "\n",
      "Fail for:  Xi= -1.8 t_0plus= 0.08249999999999999 D_cross= 1.5e-11 D_ec= 5e-14\n",
      "Succeed for:  Xi= -1.8 t_0plus= 0.08249999999999999 D_cross= 1.5e-11 D_ec= 1.250375e-10\n"
     ]
    },
    {
     "name": "stderr",
     "output_type": "stream",
     "text": [
      "At t = 0.00257449 and h = 2.4693e-011, the corrector convergence failed repeatedly or with |h| = hmin.\n"
     ]
    },
    {
     "name": "stdout",
     "output_type": "stream",
     "text": [
      "Succeed for:  Xi= -1.8 t_0plus= 0.08249999999999999 D_cross= 1.5e-11 D_ec= 2.50025e-10\n",
      "Succeed for:  Xi= -1.8 t_0plus= 0.08249999999999999 D_cross= 1.5e-11 D_ec= 3.750125e-10\n",
      "Succeed for:  Xi= -1.8 t_0plus= 0.08249999999999999 D_cross= 1.5e-11 D_ec= 5e-10\n",
      "Succeed for:  Xi= -1.8 t_0plus= 0.155 D_cross= 1.5e-18 D_ec= 5e-14\n",
      "Succeed for:  Xi= -1.8 t_0plus= 0.155 D_cross= 1.5e-18 D_ec= 1.250375e-10\n"
     ]
    },
    {
     "name": "stderr",
     "output_type": "stream",
     "text": [
      "The linesearch algorithm failed with too small a step.\n",
      "The linesearch algorithm failed with too small a step.\n"
     ]
    },
    {
     "name": "stdout",
     "output_type": "stream",
     "text": [
      "Succeed for:  Xi= -1.8 t_0plus= 0.155 D_cross= 1.5e-18 D_ec= 2.50025e-10\n"
     ]
    },
    {
     "name": "stderr",
     "output_type": "stream",
     "text": [
      "The linesearch algorithm failed with too small a step.\n",
      "The linesearch algorithm failed with too small a step.\n",
      "The linesearch algorithm failed with too small a step.\n",
      "The linesearch algorithm failed with too small a step.\n",
      "2022-10-06 13:08:05.023 - [ERROR] callbacks.on_experiment_error(226): Simulation error: Maximum number of decreased steps occurred at t=3057.756394458103. Try solving the model up to this time only or reducing dt_max (currently, dt_max=7.091632984777611) and/or reducing the size of the time steps or period of the experiment.\n"
     ]
    },
    {
     "name": "stdout",
     "output_type": "stream",
     "text": [
      "Succeed for:  Xi= -1.8 t_0plus= 0.155 D_cross= 1.5e-18 D_ec= 3.750125e-10\n"
     ]
    },
    {
     "name": "stderr",
     "output_type": "stream",
     "text": [
      "The linesearch algorithm failed with too small a step.\n",
      "The linesearch algorithm failed with too small a step.\n",
      "The linesearch algorithm failed with too small a step.\n"
     ]
    },
    {
     "name": "stdout",
     "output_type": "stream",
     "text": [
      "Succeed for:  Xi= -1.8 t_0plus= 0.155 D_cross= 1.5e-18 D_ec= 5e-10\n"
     ]
    },
    {
     "name": "stderr",
     "output_type": "stream",
     "text": [
      "psetup failed: .../casadi/interfaces/sundials/idas_interface.cpp:849: Calculating Jacobian failed\n",
      "psetup failed: .../casadi/interfaces/sundials/idas_interface.cpp:849: Calculating Jacobian failed\n",
      "At t = 0.00362728 and h = 1.976e-012, the corrector convergence failed repeatedly or with |h| = hmin.\n",
      "At t = 0.00336633 and h = 4.6855e-013, the corrector convergence failed repeatedly or with |h| = hmin.\n",
      "At t = 0.000903199 and h = 2.8596e-013, the corrector convergence failed repeatedly or with |h| = hmin.\n",
      "At t = 0.00089185 and h = 3.61506e-013, the corrector convergence failed repeatedly or with |h| = hmin.\n",
      "At t = 0.000913843 and h = 1.05878e-013, the corrector convergence failed repeatedly or with |h| = hmin.\n",
      "At t = 0.000716557 and h = 1.89226e-013, the corrector convergence failed repeatedly or with |h| = hmin.\n",
      "At t = 0.000716019 and h = 5.41661e-015, the corrector convergence failed repeatedly or with |h| = hmin.\n",
      "At t = 0.000739646 and h = 2.87672e-013, the corrector convergence failed repeatedly or with |h| = hmin.\n",
      "2022-10-06 13:08:55.270 - [ERROR] callbacks.on_experiment_error(226): Simulation error: Maximum number of decreased steps occurred at t=91.23752813767511. Try solving the model up to this time only or reducing dt_max (currently, dt_max=7.091632984777611) and/or reducing the size of the time steps or period of the experiment.\n"
     ]
    },
    {
     "name": "stdout",
     "output_type": "stream",
     "text": [
      "Succeed for:  Xi= -1.8 t_0plus= 0.155 D_cross= 3.750001125e-12 D_ec= 5e-14\n",
      "Succeed for:  Xi= -1.8 t_0plus= 0.155 D_cross= 3.750001125e-12 D_ec= 1.250375e-10\n"
     ]
    },
    {
     "name": "stderr",
     "output_type": "stream",
     "text": [
      "The linesearch algorithm failed with too small a step.\n",
      "The linesearch algorithm failed with too small a step.\n"
     ]
    },
    {
     "name": "stdout",
     "output_type": "stream",
     "text": [
      "Succeed for:  Xi= -1.8 t_0plus= 0.155 D_cross= 3.750001125e-12 D_ec= 2.50025e-10\n"
     ]
    },
    {
     "name": "stderr",
     "output_type": "stream",
     "text": [
      "The linesearch algorithm failed with too small a step.\n",
      "The linesearch algorithm failed with too small a step.\n",
      "The linesearch algorithm failed with too small a step.\n",
      "The linesearch algorithm failed with too small a step.\n",
      "2022-10-06 13:09:17.215 - [ERROR] callbacks.on_experiment_error(226): Simulation error: Maximum number of decreased steps occurred at t=2946.6244214689877. Try solving the model up to this time only or reducing dt_max (currently, dt_max=7.091632984777611) and/or reducing the size of the time steps or period of the experiment.\n"
     ]
    },
    {
     "name": "stdout",
     "output_type": "stream",
     "text": [
      "Succeed for:  Xi= -1.8 t_0plus= 0.155 D_cross= 3.750001125e-12 D_ec= 3.750125e-10\n",
      "Succeed for:  Xi= -1.8 t_0plus= 0.155 D_cross= 3.750001125e-12 D_ec= 5e-10\n"
     ]
    },
    {
     "name": "stderr",
     "output_type": "stream",
     "text": [
      "At t = 0.00112539 and h = 2.49427e-014, the corrector convergence failed repeatedly or with |h| = hmin.\n",
      "psetup failed: .../casadi/interfaces/sundials/idas_interface.cpp:849: Calculating Jacobian failed\n",
      "psetup failed: .../casadi/interfaces/sundials/idas_interface.cpp:852: Linear solve failed\n",
      "At t = 0.0012076 and h = 1.26277e-013, the corrector convergence failed repeatedly or with |h| = hmin.\n",
      "psetup failed: .../casadi/interfaces/sundials/idas_interface.cpp:849: Calculating Jacobian failed\n",
      "At t = 0.00116542 and h = 4.15835e-014, the corrector convergence failed repeatedly or with |h| = hmin.\n",
      "At t = 0.00120399 and h = 1.87572e-014, the corrector convergence failed repeatedly or with |h| = hmin.\n",
      "2022-10-06 13:09:33.653 - [ERROR] callbacks.on_experiment_error(226): Simulation error: Maximum number of decreased steps occurred at t=60.0. Try solving the model up to this time only or reducing dt_max (currently, dt_max=7.091632984777611) and/or reducing the size of the time steps or period of the experiment.\n"
     ]
    },
    {
     "name": "stdout",
     "output_type": "stream",
     "text": [
      "Traceback (most recent call last):\n",
      "  File \"C:\\Users\\rl1120\\AppData\\Local\\Temp\\ipykernel_16444\\920439172.py\", line 16, in <cell line: 11>\n",
      "    Sol_ddiff    = Sim_ddiff.solve(\n",
      "  File \"d:\\gitpybamm\\lrh_409\\lrh_409\\envsolcon\\pybamm-gem\\pybamm\\simulation.py\", line 843, in solve\n",
      "    raise e\n",
      "  File \"d:\\gitpybamm\\lrh_409\\lrh_409\\envsolcon\\pybamm-gem\\pybamm\\simulation.py\", line 829, in solve\n",
      "    step_solution = solver.step(\n",
      "  File \"d:\\gitpybamm\\lrh_409\\lrh_409\\envsolcon\\pybamm-gem\\pybamm\\solvers\\base_solver.py\", line 1322, in step\n",
      "    solution = self._integrate(model, t_eval, ext_and_inputs)\n",
      "  File \"d:\\gitpybamm\\lrh_409\\lrh_409\\envsolcon\\pybamm-gem\\pybamm\\solvers\\casadi_solver.py\", line 266, in _integrate\n",
      "    raise pybamm.SolverError(\n",
      "pybamm.expression_tree.exceptions.SolverError: Maximum number of decreased steps occurred at t=60.0. Try solving the model up to this time only or reducing dt_max (currently, dt_max=7.091632984777611) and/or reducing the size of the time steps or period of the experiment.\n",
      "\n",
      "Fail for:  Xi= -1.8 t_0plus= 0.155 D_cross= 7.500000749999999e-12 D_ec= 5e-14\n",
      "Succeed for:  Xi= -1.8 t_0plus= 0.155 D_cross= 7.500000749999999e-12 D_ec= 1.250375e-10\n"
     ]
    },
    {
     "name": "stderr",
     "output_type": "stream",
     "text": [
      "At t = 0.00473036 and h = 3.83515e-011, the corrector convergence failed repeatedly or with |h| = hmin.\n",
      "2022-10-06 13:09:48.675 - [ERROR] callbacks.on_experiment_error(226): Simulation error: .../casadi/interfaces/sundials/idas_interface.cpp:591: IDASolve returned \"IDA_CONV_FAIL\". Consult IDAS documentation.\n"
     ]
    },
    {
     "name": "stdout",
     "output_type": "stream",
     "text": [
      "Succeed for:  Xi= -1.8 t_0plus= 0.155 D_cross= 7.500000749999999e-12 D_ec= 2.50025e-10\n"
     ]
    },
    {
     "name": "stderr",
     "output_type": "stream",
     "text": [
      "The linesearch algorithm failed with too small a step.\n",
      "The linesearch algorithm failed with too small a step.\n",
      "The linesearch algorithm failed with too small a step.\n",
      "2022-10-06 13:09:59.540 - [ERROR] callbacks.on_experiment_error(226): Simulation error: .../casadi/interfaces/sundials/idas_interface.cpp:591: IDACalcIC returned \"IDA_LINESEARCH_FAIL\". Consult IDAS documentation.\n"
     ]
    },
    {
     "name": "stdout",
     "output_type": "stream",
     "text": [
      "Succeed for:  Xi= -1.8 t_0plus= 0.155 D_cross= 7.500000749999999e-12 D_ec= 3.750125e-10\n",
      "Succeed for:  Xi= -1.8 t_0plus= 0.155 D_cross= 7.500000749999999e-12 D_ec= 5e-10\n"
     ]
    },
    {
     "name": "stderr",
     "output_type": "stream",
     "text": [
      "psetup failed: .../casadi/interfaces/sundials/idas_interface.cpp:849: Calculating Jacobian failed\n",
      "At t = 0.00290589 and h = 4.32199e-015, the corrector convergence failed repeatedly or with |h| = hmin.\n",
      "psetup failed: .../casadi/interfaces/sundials/idas_interface.cpp:849: Calculating Jacobian failed\n",
      "At t = 0.00290104 and h = 8.31943e-015, the corrector convergence failed repeatedly or with |h| = hmin.\n",
      "psetup failed: .../casadi/interfaces/sundials/idas_interface.cpp:849: Calculating Jacobian failed\n",
      "psetup failed: .../casadi/interfaces/sundials/idas_interface.cpp:849: Calculating Jacobian failed\n",
      "psetup failed: .../casadi/interfaces/sundials/idas_interface.cpp:849: Calculating Jacobian failed\n",
      "psetup failed: .../casadi/interfaces/sundials/idas_interface.cpp:849: Calculating Jacobian failed\n",
      "psetup failed: .../casadi/interfaces/sundials/idas_interface.cpp:849: Calculating Jacobian failed\n",
      "psetup failed: .../casadi/interfaces/sundials/idas_interface.cpp:849: Calculating Jacobian failed\n",
      "psetup failed: .../casadi/interfaces/sundials/idas_interface.cpp:849: Calculating Jacobian failed\n",
      "psetup failed: .../casadi/interfaces/sundials/idas_interface.cpp:849: Calculating Jacobian failed\n",
      "psetup failed: .../casadi/interfaces/sundials/idas_interface.cpp:849: Calculating Jacobian failed\n",
      "psetup failed: .../casadi/interfaces/sundials/idas_interface.cpp:849: Calculating Jacobian failed\n",
      "psetup failed: .../casadi/interfaces/sundials/idas_interface.cpp:849: Calculating Jacobian failed\n",
      "psetup failed: .../casadi/interfaces/sundials/idas_interface.cpp:849: Calculating Jacobian failed\n",
      "psetup failed: .../casadi/interfaces/sundials/idas_interface.cpp:849: Calculating Jacobian failed\n",
      "psetup failed: .../casadi/interfaces/sundials/idas_interface.cpp:849: Calculating Jacobian failed\n",
      "psetup failed: .../casadi/interfaces/sundials/idas_interface.cpp:849: Calculating Jacobian failed\n",
      "At t = 0.000416314 and h = 4.94616e-014, the corrector convergence failed repeatedly or with |h| = hmin.\n",
      "At t = 0.000400502 and h = 2.96462e-015, the corrector convergence failed repeatedly or with |h| = hmin.\n",
      "psetup failed: .../casadi/interfaces/sundials/idas_interface.cpp:849: Calculating Jacobian failed\n",
      "At t = 0.000411039 and h = 7.6466e-016, the corrector convergence failed repeatedly or with |h| = hmin.\n",
      "psetup failed: .../casadi/interfaces/sundials/idas_interface.cpp:849: Calculating Jacobian failed\n",
      "At t = 9.86044e-005 and h = 7.62643e-016, the corrector convergence failed repeatedly or with |h| = hmin.\n",
      "psetup failed: .../casadi/interfaces/sundials/idas_interface.cpp:849: Calculating Jacobian failed\n",
      "At t = 9.34346e-005 and h = 5.82976e-015, the corrector convergence failed repeatedly or with |h| = hmin.\n",
      "At t = 1.46599e-005 and h = 1.21006e-015, the corrector convergence failed repeatedly or with |h| = hmin.\n",
      "At t = 1.19057e-005 and h = 1.27392e-015, the corrector convergence failed repeatedly or with |h| = hmin.\n",
      "At t = 1.68042e-005 and h = 1.99654e-014, the corrector convergence failed repeatedly or with |h| = hmin.\n",
      "At t = 1.56681e-005 and h = 2.96151e-014, the corrector convergence failed repeatedly or with |h| = hmin.\n",
      "At t = 1.72722e-005 and h = 1.32152e-014, the corrector convergence failed repeatedly or with |h| = hmin.\n",
      "2022-10-06 13:10:30.942 - [ERROR] callbacks.on_experiment_error(226): Simulation error: Maximum number of decreased steps occurred at t=32.774926486579375. Try solving the model up to this time only or reducing dt_max (currently, dt_max=3.5458164923888056) and/or reducing the size of the time steps or period of the experiment.\n"
     ]
    },
    {
     "name": "stdout",
     "output_type": "stream",
     "text": [
      "Succeed for:  Xi= -1.8 t_0plus= 0.155 D_cross= 1.1250000375e-11 D_ec= 5e-14\n",
      "Succeed for:  Xi= -1.8 t_0plus= 0.155 D_cross= 1.1250000375e-11 D_ec= 1.250375e-10\n"
     ]
    },
    {
     "name": "stderr",
     "output_type": "stream",
     "text": [
      "The linesearch algorithm failed with too small a step.\n",
      "The linesearch algorithm failed with too small a step.\n"
     ]
    },
    {
     "name": "stdout",
     "output_type": "stream",
     "text": [
      "Succeed for:  Xi= -1.8 t_0plus= 0.155 D_cross= 1.1250000375e-11 D_ec= 2.50025e-10\n",
      "Succeed for:  Xi= -1.8 t_0plus= 0.155 D_cross= 1.1250000375e-11 D_ec= 3.750125e-10\n"
     ]
    },
    {
     "name": "stderr",
     "output_type": "stream",
     "text": [
      "The linesearch algorithm failed with too small a step.\n",
      "The linesearch algorithm failed with too small a step.\n"
     ]
    },
    {
     "name": "stdout",
     "output_type": "stream",
     "text": [
      "Succeed for:  Xi= -1.8 t_0plus= 0.155 D_cross= 1.1250000375e-11 D_ec= 5e-10\n"
     ]
    },
    {
     "name": "stderr",
     "output_type": "stream",
     "text": [
      "psetup failed: .../casadi/interfaces/sundials/idas_interface.cpp:852: Linear solve failed\n",
      "psetup failed: .../casadi/interfaces/sundials/idas_interface.cpp:852: Linear solve failed\n",
      "At t = 0.00109815 and h = 4.88756e-026, the corrector convergence failed repeatedly or with |h| = hmin.\n",
      "psetup failed: .../casadi/interfaces/sundials/idas_interface.cpp:849: Calculating Jacobian failed\n",
      "psetup failed: .../casadi/interfaces/sundials/idas_interface.cpp:849: Calculating Jacobian failed\n",
      "psetup failed: .../casadi/interfaces/sundials/idas_interface.cpp:849: Calculating Jacobian failed\n",
      "psetup failed: .../casadi/interfaces/sundials/idas_interface.cpp:849: Calculating Jacobian failed\n",
      "psetup failed: .../casadi/interfaces/sundials/idas_interface.cpp:849: Calculating Jacobian failed\n",
      "psetup failed: .../casadi/interfaces/sundials/idas_interface.cpp:849: Calculating Jacobian failed\n",
      "psetup failed: .../casadi/interfaces/sundials/idas_interface.cpp:849: Calculating Jacobian failed\n",
      "psetup failed: .../casadi/interfaces/sundials/idas_interface.cpp:849: Calculating Jacobian failed\n",
      "psetup failed: .../casadi/interfaces/sundials/idas_interface.cpp:849: Calculating Jacobian failed\n",
      "psetup failed: .../casadi/interfaces/sundials/idas_interface.cpp:849: Calculating Jacobian failed\n",
      "At t = 0.00110568 and h = 6.89619e-014, the corrector convergence failed repeatedly or with |h| = hmin.\n",
      "psetup failed: .../casadi/interfaces/sundials/idas_interface.cpp:852: Linear solve failed\n",
      "At t = 0.00109794 and h = 9.27076e-017, the corrector convergence failed repeatedly or with |h| = hmin.\n",
      "At t = 0.0010979 and h = 7.57125e-016, the corrector convergence failed repeatedly or with |h| = hmin.\n",
      "2022-10-06 13:11:03.256 - [ERROR] callbacks.on_experiment_error(226): Simulation error: Maximum number of decreased steps occurred at t=0.0. Try solving the model up to this time only or reducing dt_max (currently, dt_max=7.091632984777611) and/or reducing the size of the time steps or period of the experiment.\n"
     ]
    },
    {
     "name": "stdout",
     "output_type": "stream",
     "text": [
      "Traceback (most recent call last):\n",
      "  File \"C:\\Users\\rl1120\\AppData\\Local\\Temp\\ipykernel_16444\\920439172.py\", line 16, in <cell line: 11>\n",
      "    Sol_ddiff    = Sim_ddiff.solve(\n",
      "  File \"d:\\gitpybamm\\lrh_409\\lrh_409\\envsolcon\\pybamm-gem\\pybamm\\simulation.py\", line 843, in solve\n",
      "    raise e\n",
      "  File \"d:\\gitpybamm\\lrh_409\\lrh_409\\envsolcon\\pybamm-gem\\pybamm\\simulation.py\", line 829, in solve\n",
      "    step_solution = solver.step(\n",
      "  File \"d:\\gitpybamm\\lrh_409\\lrh_409\\envsolcon\\pybamm-gem\\pybamm\\solvers\\base_solver.py\", line 1322, in step\n",
      "    solution = self._integrate(model, t_eval, ext_and_inputs)\n",
      "  File \"d:\\gitpybamm\\lrh_409\\lrh_409\\envsolcon\\pybamm-gem\\pybamm\\solvers\\casadi_solver.py\", line 266, in _integrate\n",
      "    raise pybamm.SolverError(\n",
      "pybamm.expression_tree.exceptions.SolverError: Maximum number of decreased steps occurred at t=0.0. Try solving the model up to this time only or reducing dt_max (currently, dt_max=7.091632984777611) and/or reducing the size of the time steps or period of the experiment.\n",
      "\n",
      "Fail for:  Xi= -1.8 t_0plus= 0.155 D_cross= 1.5e-11 D_ec= 5e-14\n",
      "Succeed for:  Xi= -1.8 t_0plus= 0.155 D_cross= 1.5e-11 D_ec= 1.250375e-10\n"
     ]
    },
    {
     "name": "stderr",
     "output_type": "stream",
     "text": [
      "At t = 0.00257449 and h = 2.4693e-011, the corrector convergence failed repeatedly or with |h| = hmin.\n"
     ]
    },
    {
     "name": "stdout",
     "output_type": "stream",
     "text": [
      "Succeed for:  Xi= -1.8 t_0plus= 0.155 D_cross= 1.5e-11 D_ec= 2.50025e-10\n",
      "Succeed for:  Xi= -1.8 t_0plus= 0.155 D_cross= 1.5e-11 D_ec= 3.750125e-10\n",
      "Succeed for:  Xi= -1.8 t_0plus= 0.155 D_cross= 1.5e-11 D_ec= 5e-10\n",
      "Succeed for:  Xi= -1.8 t_0plus= 0.22749999999999998 D_cross= 1.5e-18 D_ec= 5e-14\n",
      "Succeed for:  Xi= -1.8 t_0plus= 0.22749999999999998 D_cross= 1.5e-18 D_ec= 1.250375e-10\n"
     ]
    },
    {
     "name": "stderr",
     "output_type": "stream",
     "text": [
      "The linesearch algorithm failed with too small a step.\n",
      "The linesearch algorithm failed with too small a step.\n"
     ]
    },
    {
     "name": "stdout",
     "output_type": "stream",
     "text": [
      "Succeed for:  Xi= -1.8 t_0plus= 0.22749999999999998 D_cross= 1.5e-18 D_ec= 2.50025e-10\n"
     ]
    },
    {
     "name": "stderr",
     "output_type": "stream",
     "text": [
      "The linesearch algorithm failed with too small a step.\n",
      "The linesearch algorithm failed with too small a step.\n",
      "The linesearch algorithm failed with too small a step.\n",
      "The linesearch algorithm failed with too small a step.\n",
      "2022-10-06 13:12:21.502 - [ERROR] callbacks.on_experiment_error(226): Simulation error: Maximum number of decreased steps occurred at t=3057.756394458103. Try solving the model up to this time only or reducing dt_max (currently, dt_max=7.091632984777611) and/or reducing the size of the time steps or period of the experiment.\n"
     ]
    },
    {
     "name": "stdout",
     "output_type": "stream",
     "text": [
      "Succeed for:  Xi= -1.8 t_0plus= 0.22749999999999998 D_cross= 1.5e-18 D_ec= 3.750125e-10\n"
     ]
    },
    {
     "name": "stderr",
     "output_type": "stream",
     "text": [
      "The linesearch algorithm failed with too small a step.\n",
      "The linesearch algorithm failed with too small a step.\n",
      "The linesearch algorithm failed with too small a step.\n"
     ]
    },
    {
     "name": "stdout",
     "output_type": "stream",
     "text": [
      "Succeed for:  Xi= -1.8 t_0plus= 0.22749999999999998 D_cross= 1.5e-18 D_ec= 5e-10\n"
     ]
    },
    {
     "name": "stderr",
     "output_type": "stream",
     "text": [
      "psetup failed: .../casadi/interfaces/sundials/idas_interface.cpp:849: Calculating Jacobian failed\n",
      "psetup failed: .../casadi/interfaces/sundials/idas_interface.cpp:849: Calculating Jacobian failed\n",
      "At t = 0.00362728 and h = 1.976e-012, the corrector convergence failed repeatedly or with |h| = hmin.\n",
      "At t = 0.00336633 and h = 4.6855e-013, the corrector convergence failed repeatedly or with |h| = hmin.\n",
      "At t = 0.000903199 and h = 2.8596e-013, the corrector convergence failed repeatedly or with |h| = hmin.\n",
      "At t = 0.00089185 and h = 3.61506e-013, the corrector convergence failed repeatedly or with |h| = hmin.\n",
      "At t = 0.000913843 and h = 1.05878e-013, the corrector convergence failed repeatedly or with |h| = hmin.\n",
      "At t = 0.000716557 and h = 1.89226e-013, the corrector convergence failed repeatedly or with |h| = hmin.\n",
      "At t = 0.000716019 and h = 5.41661e-015, the corrector convergence failed repeatedly or with |h| = hmin.\n",
      "At t = 0.000739646 and h = 2.87672e-013, the corrector convergence failed repeatedly or with |h| = hmin.\n",
      "2022-10-06 13:13:12.810 - [ERROR] callbacks.on_experiment_error(226): Simulation error: Maximum number of decreased steps occurred at t=91.23752813767511. Try solving the model up to this time only or reducing dt_max (currently, dt_max=7.091632984777611) and/or reducing the size of the time steps or period of the experiment.\n"
     ]
    },
    {
     "name": "stdout",
     "output_type": "stream",
     "text": [
      "Succeed for:  Xi= -1.8 t_0plus= 0.22749999999999998 D_cross= 3.750001125e-12 D_ec= 5e-14\n",
      "Succeed for:  Xi= -1.8 t_0plus= 0.22749999999999998 D_cross= 3.750001125e-12 D_ec= 1.250375e-10\n"
     ]
    },
    {
     "name": "stderr",
     "output_type": "stream",
     "text": [
      "The linesearch algorithm failed with too small a step.\n",
      "The linesearch algorithm failed with too small a step.\n"
     ]
    },
    {
     "name": "stdout",
     "output_type": "stream",
     "text": [
      "Succeed for:  Xi= -1.8 t_0plus= 0.22749999999999998 D_cross= 3.750001125e-12 D_ec= 2.50025e-10\n"
     ]
    },
    {
     "name": "stderr",
     "output_type": "stream",
     "text": [
      "The linesearch algorithm failed with too small a step.\n",
      "The linesearch algorithm failed with too small a step.\n",
      "The linesearch algorithm failed with too small a step.\n",
      "The linesearch algorithm failed with too small a step.\n",
      "2022-10-06 13:13:38.749 - [ERROR] callbacks.on_experiment_error(226): Simulation error: Maximum number of decreased steps occurred at t=2946.6244214689877. Try solving the model up to this time only or reducing dt_max (currently, dt_max=7.091632984777611) and/or reducing the size of the time steps or period of the experiment.\n"
     ]
    },
    {
     "name": "stdout",
     "output_type": "stream",
     "text": [
      "Succeed for:  Xi= -1.8 t_0plus= 0.22749999999999998 D_cross= 3.750001125e-12 D_ec= 3.750125e-10\n",
      "Succeed for:  Xi= -1.8 t_0plus= 0.22749999999999998 D_cross= 3.750001125e-12 D_ec= 5e-10\n"
     ]
    },
    {
     "name": "stderr",
     "output_type": "stream",
     "text": [
      "At t = 0.00112539 and h = 2.49427e-014, the corrector convergence failed repeatedly or with |h| = hmin.\n",
      "psetup failed: .../casadi/interfaces/sundials/idas_interface.cpp:849: Calculating Jacobian failed\n",
      "psetup failed: .../casadi/interfaces/sundials/idas_interface.cpp:852: Linear solve failed\n",
      "At t = 0.0012076 and h = 1.26277e-013, the corrector convergence failed repeatedly or with |h| = hmin.\n",
      "psetup failed: .../casadi/interfaces/sundials/idas_interface.cpp:849: Calculating Jacobian failed\n",
      "At t = 0.00116542 and h = 4.15835e-014, the corrector convergence failed repeatedly or with |h| = hmin.\n",
      "At t = 0.00120399 and h = 1.87572e-014, the corrector convergence failed repeatedly or with |h| = hmin.\n",
      "2022-10-06 13:13:56.271 - [ERROR] callbacks.on_experiment_error(226): Simulation error: Maximum number of decreased steps occurred at t=60.0. Try solving the model up to this time only or reducing dt_max (currently, dt_max=7.091632984777611) and/or reducing the size of the time steps or period of the experiment.\n"
     ]
    },
    {
     "name": "stdout",
     "output_type": "stream",
     "text": [
      "Traceback (most recent call last):\n",
      "  File \"C:\\Users\\rl1120\\AppData\\Local\\Temp\\ipykernel_16444\\920439172.py\", line 16, in <cell line: 11>\n",
      "    Sol_ddiff    = Sim_ddiff.solve(\n",
      "  File \"d:\\gitpybamm\\lrh_409\\lrh_409\\envsolcon\\pybamm-gem\\pybamm\\simulation.py\", line 843, in solve\n",
      "    raise e\n",
      "  File \"d:\\gitpybamm\\lrh_409\\lrh_409\\envsolcon\\pybamm-gem\\pybamm\\simulation.py\", line 829, in solve\n",
      "    step_solution = solver.step(\n",
      "  File \"d:\\gitpybamm\\lrh_409\\lrh_409\\envsolcon\\pybamm-gem\\pybamm\\solvers\\base_solver.py\", line 1322, in step\n",
      "    solution = self._integrate(model, t_eval, ext_and_inputs)\n",
      "  File \"d:\\gitpybamm\\lrh_409\\lrh_409\\envsolcon\\pybamm-gem\\pybamm\\solvers\\casadi_solver.py\", line 266, in _integrate\n",
      "    raise pybamm.SolverError(\n",
      "pybamm.expression_tree.exceptions.SolverError: Maximum number of decreased steps occurred at t=60.0. Try solving the model up to this time only or reducing dt_max (currently, dt_max=7.091632984777611) and/or reducing the size of the time steps or period of the experiment.\n",
      "\n",
      "Fail for:  Xi= -1.8 t_0plus= 0.22749999999999998 D_cross= 7.500000749999999e-12 D_ec= 5e-14\n",
      "Succeed for:  Xi= -1.8 t_0plus= 0.22749999999999998 D_cross= 7.500000749999999e-12 D_ec= 1.250375e-10\n"
     ]
    },
    {
     "name": "stderr",
     "output_type": "stream",
     "text": [
      "At t = 0.00473036 and h = 3.83515e-011, the corrector convergence failed repeatedly or with |h| = hmin.\n",
      "2022-10-06 13:14:08.516 - [ERROR] callbacks.on_experiment_error(226): Simulation error: .../casadi/interfaces/sundials/idas_interface.cpp:591: IDASolve returned \"IDA_CONV_FAIL\". Consult IDAS documentation.\n"
     ]
    },
    {
     "name": "stdout",
     "output_type": "stream",
     "text": [
      "Succeed for:  Xi= -1.8 t_0plus= 0.22749999999999998 D_cross= 7.500000749999999e-12 D_ec= 2.50025e-10\n"
     ]
    },
    {
     "name": "stderr",
     "output_type": "stream",
     "text": [
      "The linesearch algorithm failed with too small a step.\n",
      "The linesearch algorithm failed with too small a step.\n",
      "The linesearch algorithm failed with too small a step.\n",
      "2022-10-06 13:14:17.237 - [ERROR] callbacks.on_experiment_error(226): Simulation error: .../casadi/interfaces/sundials/idas_interface.cpp:591: IDACalcIC returned \"IDA_LINESEARCH_FAIL\". Consult IDAS documentation.\n"
     ]
    },
    {
     "name": "stdout",
     "output_type": "stream",
     "text": [
      "Succeed for:  Xi= -1.8 t_0plus= 0.22749999999999998 D_cross= 7.500000749999999e-12 D_ec= 3.750125e-10\n",
      "Succeed for:  Xi= -1.8 t_0plus= 0.22749999999999998 D_cross= 7.500000749999999e-12 D_ec= 5e-10\n"
     ]
    },
    {
     "name": "stderr",
     "output_type": "stream",
     "text": [
      "psetup failed: .../casadi/interfaces/sundials/idas_interface.cpp:849: Calculating Jacobian failed\n",
      "At t = 0.00290589 and h = 4.32199e-015, the corrector convergence failed repeatedly or with |h| = hmin.\n",
      "psetup failed: .../casadi/interfaces/sundials/idas_interface.cpp:849: Calculating Jacobian failed\n",
      "At t = 0.00290104 and h = 8.31943e-015, the corrector convergence failed repeatedly or with |h| = hmin.\n",
      "psetup failed: .../casadi/interfaces/sundials/idas_interface.cpp:849: Calculating Jacobian failed\n",
      "psetup failed: .../casadi/interfaces/sundials/idas_interface.cpp:849: Calculating Jacobian failed\n",
      "psetup failed: .../casadi/interfaces/sundials/idas_interface.cpp:849: Calculating Jacobian failed\n",
      "psetup failed: .../casadi/interfaces/sundials/idas_interface.cpp:849: Calculating Jacobian failed\n",
      "psetup failed: .../casadi/interfaces/sundials/idas_interface.cpp:849: Calculating Jacobian failed\n",
      "psetup failed: .../casadi/interfaces/sundials/idas_interface.cpp:849: Calculating Jacobian failed\n",
      "psetup failed: .../casadi/interfaces/sundials/idas_interface.cpp:849: Calculating Jacobian failed\n",
      "psetup failed: .../casadi/interfaces/sundials/idas_interface.cpp:849: Calculating Jacobian failed\n",
      "psetup failed: .../casadi/interfaces/sundials/idas_interface.cpp:849: Calculating Jacobian failed\n",
      "psetup failed: .../casadi/interfaces/sundials/idas_interface.cpp:849: Calculating Jacobian failed\n",
      "psetup failed: .../casadi/interfaces/sundials/idas_interface.cpp:849: Calculating Jacobian failed\n",
      "psetup failed: .../casadi/interfaces/sundials/idas_interface.cpp:849: Calculating Jacobian failed\n",
      "psetup failed: .../casadi/interfaces/sundials/idas_interface.cpp:849: Calculating Jacobian failed\n",
      "psetup failed: .../casadi/interfaces/sundials/idas_interface.cpp:849: Calculating Jacobian failed\n",
      "psetup failed: .../casadi/interfaces/sundials/idas_interface.cpp:849: Calculating Jacobian failed\n",
      "At t = 0.000416314 and h = 4.94616e-014, the corrector convergence failed repeatedly or with |h| = hmin.\n",
      "At t = 0.000400502 and h = 2.96462e-015, the corrector convergence failed repeatedly or with |h| = hmin.\n",
      "psetup failed: .../casadi/interfaces/sundials/idas_interface.cpp:849: Calculating Jacobian failed\n",
      "At t = 0.000411039 and h = 7.6466e-016, the corrector convergence failed repeatedly or with |h| = hmin.\n",
      "psetup failed: .../casadi/interfaces/sundials/idas_interface.cpp:849: Calculating Jacobian failed\n",
      "At t = 9.86044e-005 and h = 7.62643e-016, the corrector convergence failed repeatedly or with |h| = hmin.\n",
      "psetup failed: .../casadi/interfaces/sundials/idas_interface.cpp:849: Calculating Jacobian failed\n",
      "At t = 9.34346e-005 and h = 5.82976e-015, the corrector convergence failed repeatedly or with |h| = hmin.\n",
      "At t = 1.46599e-005 and h = 1.21006e-015, the corrector convergence failed repeatedly or with |h| = hmin.\n",
      "At t = 1.19057e-005 and h = 1.27392e-015, the corrector convergence failed repeatedly or with |h| = hmin.\n",
      "At t = 1.68042e-005 and h = 1.99654e-014, the corrector convergence failed repeatedly or with |h| = hmin.\n",
      "At t = 1.56681e-005 and h = 2.96151e-014, the corrector convergence failed repeatedly or with |h| = hmin.\n",
      "At t = 1.72722e-005 and h = 1.32152e-014, the corrector convergence failed repeatedly or with |h| = hmin.\n",
      "2022-10-06 13:14:52.703 - [ERROR] callbacks.on_experiment_error(226): Simulation error: Maximum number of decreased steps occurred at t=32.774926486579375. Try solving the model up to this time only or reducing dt_max (currently, dt_max=3.5458164923888056) and/or reducing the size of the time steps or period of the experiment.\n"
     ]
    },
    {
     "name": "stdout",
     "output_type": "stream",
     "text": [
      "Succeed for:  Xi= -1.8 t_0plus= 0.22749999999999998 D_cross= 1.1250000375e-11 D_ec= 5e-14\n",
      "Succeed for:  Xi= -1.8 t_0plus= 0.22749999999999998 D_cross= 1.1250000375e-11 D_ec= 1.250375e-10\n"
     ]
    },
    {
     "name": "stderr",
     "output_type": "stream",
     "text": [
      "The linesearch algorithm failed with too small a step.\n",
      "The linesearch algorithm failed with too small a step.\n"
     ]
    },
    {
     "name": "stdout",
     "output_type": "stream",
     "text": [
      "Succeed for:  Xi= -1.8 t_0plus= 0.22749999999999998 D_cross= 1.1250000375e-11 D_ec= 2.50025e-10\n",
      "Succeed for:  Xi= -1.8 t_0plus= 0.22749999999999998 D_cross= 1.1250000375e-11 D_ec= 3.750125e-10\n"
     ]
    },
    {
     "name": "stderr",
     "output_type": "stream",
     "text": [
      "The linesearch algorithm failed with too small a step.\n",
      "The linesearch algorithm failed with too small a step.\n"
     ]
    },
    {
     "name": "stdout",
     "output_type": "stream",
     "text": [
      "Succeed for:  Xi= -1.8 t_0plus= 0.22749999999999998 D_cross= 1.1250000375e-11 D_ec= 5e-10\n"
     ]
    },
    {
     "name": "stderr",
     "output_type": "stream",
     "text": [
      "psetup failed: .../casadi/interfaces/sundials/idas_interface.cpp:852: Linear solve failed\n",
      "psetup failed: .../casadi/interfaces/sundials/idas_interface.cpp:852: Linear solve failed\n",
      "At t = 0.00109815 and h = 4.88756e-026, the corrector convergence failed repeatedly or with |h| = hmin.\n",
      "psetup failed: .../casadi/interfaces/sundials/idas_interface.cpp:849: Calculating Jacobian failed\n",
      "psetup failed: .../casadi/interfaces/sundials/idas_interface.cpp:849: Calculating Jacobian failed\n",
      "psetup failed: .../casadi/interfaces/sundials/idas_interface.cpp:849: Calculating Jacobian failed\n",
      "psetup failed: .../casadi/interfaces/sundials/idas_interface.cpp:849: Calculating Jacobian failed\n",
      "psetup failed: .../casadi/interfaces/sundials/idas_interface.cpp:849: Calculating Jacobian failed\n",
      "psetup failed: .../casadi/interfaces/sundials/idas_interface.cpp:849: Calculating Jacobian failed\n",
      "psetup failed: .../casadi/interfaces/sundials/idas_interface.cpp:849: Calculating Jacobian failed\n",
      "psetup failed: .../casadi/interfaces/sundials/idas_interface.cpp:849: Calculating Jacobian failed\n",
      "psetup failed: .../casadi/interfaces/sundials/idas_interface.cpp:849: Calculating Jacobian failed\n",
      "psetup failed: .../casadi/interfaces/sundials/idas_interface.cpp:849: Calculating Jacobian failed\n",
      "At t = 0.00110568 and h = 6.89619e-014, the corrector convergence failed repeatedly or with |h| = hmin.\n",
      "psetup failed: .../casadi/interfaces/sundials/idas_interface.cpp:852: Linear solve failed\n",
      "At t = 0.00109794 and h = 9.27076e-017, the corrector convergence failed repeatedly or with |h| = hmin.\n",
      "At t = 0.0010979 and h = 7.57125e-016, the corrector convergence failed repeatedly or with |h| = hmin.\n",
      "2022-10-06 13:15:26.852 - [ERROR] callbacks.on_experiment_error(226): Simulation error: Maximum number of decreased steps occurred at t=0.0. Try solving the model up to this time only or reducing dt_max (currently, dt_max=7.091632984777611) and/or reducing the size of the time steps or period of the experiment.\n"
     ]
    },
    {
     "name": "stdout",
     "output_type": "stream",
     "text": [
      "Traceback (most recent call last):\n",
      "  File \"C:\\Users\\rl1120\\AppData\\Local\\Temp\\ipykernel_16444\\920439172.py\", line 16, in <cell line: 11>\n",
      "    Sol_ddiff    = Sim_ddiff.solve(\n",
      "  File \"d:\\gitpybamm\\lrh_409\\lrh_409\\envsolcon\\pybamm-gem\\pybamm\\simulation.py\", line 843, in solve\n",
      "    raise e\n",
      "  File \"d:\\gitpybamm\\lrh_409\\lrh_409\\envsolcon\\pybamm-gem\\pybamm\\simulation.py\", line 829, in solve\n",
      "    step_solution = solver.step(\n",
      "  File \"d:\\gitpybamm\\lrh_409\\lrh_409\\envsolcon\\pybamm-gem\\pybamm\\solvers\\base_solver.py\", line 1322, in step\n",
      "    solution = self._integrate(model, t_eval, ext_and_inputs)\n",
      "  File \"d:\\gitpybamm\\lrh_409\\lrh_409\\envsolcon\\pybamm-gem\\pybamm\\solvers\\casadi_solver.py\", line 266, in _integrate\n",
      "    raise pybamm.SolverError(\n",
      "pybamm.expression_tree.exceptions.SolverError: Maximum number of decreased steps occurred at t=0.0. Try solving the model up to this time only or reducing dt_max (currently, dt_max=7.091632984777611) and/or reducing the size of the time steps or period of the experiment.\n",
      "\n",
      "Fail for:  Xi= -1.8 t_0plus= 0.22749999999999998 D_cross= 1.5e-11 D_ec= 5e-14\n",
      "Succeed for:  Xi= -1.8 t_0plus= 0.22749999999999998 D_cross= 1.5e-11 D_ec= 1.250375e-10\n"
     ]
    },
    {
     "name": "stderr",
     "output_type": "stream",
     "text": [
      "At t = 0.00257449 and h = 2.4693e-011, the corrector convergence failed repeatedly or with |h| = hmin.\n"
     ]
    },
    {
     "name": "stdout",
     "output_type": "stream",
     "text": [
      "Succeed for:  Xi= -1.8 t_0plus= 0.22749999999999998 D_cross= 1.5e-11 D_ec= 2.50025e-10\n",
      "Succeed for:  Xi= -1.8 t_0plus= 0.22749999999999998 D_cross= 1.5e-11 D_ec= 3.750125e-10\n",
      "Succeed for:  Xi= -1.8 t_0plus= 0.22749999999999998 D_cross= 1.5e-11 D_ec= 5e-10\n",
      "Succeed for:  Xi= -1.8 t_0plus= 0.3 D_cross= 1.5e-18 D_ec= 5e-14\n",
      "Succeed for:  Xi= -1.8 t_0plus= 0.3 D_cross= 1.5e-18 D_ec= 1.250375e-10\n"
     ]
    },
    {
     "name": "stderr",
     "output_type": "stream",
     "text": [
      "The linesearch algorithm failed with too small a step.\n",
      "The linesearch algorithm failed with too small a step.\n"
     ]
    },
    {
     "name": "stdout",
     "output_type": "stream",
     "text": [
      "Succeed for:  Xi= -1.8 t_0plus= 0.3 D_cross= 1.5e-18 D_ec= 2.50025e-10\n"
     ]
    },
    {
     "name": "stderr",
     "output_type": "stream",
     "text": [
      "The linesearch algorithm failed with too small a step.\n",
      "The linesearch algorithm failed with too small a step.\n",
      "The linesearch algorithm failed with too small a step.\n",
      "The linesearch algorithm failed with too small a step.\n",
      "2022-10-06 13:16:38.215 - [ERROR] callbacks.on_experiment_error(226): Simulation error: Maximum number of decreased steps occurred at t=3057.756394458103. Try solving the model up to this time only or reducing dt_max (currently, dt_max=7.091632984777611) and/or reducing the size of the time steps or period of the experiment.\n"
     ]
    },
    {
     "name": "stdout",
     "output_type": "stream",
     "text": [
      "Succeed for:  Xi= -1.8 t_0plus= 0.3 D_cross= 1.5e-18 D_ec= 3.750125e-10\n"
     ]
    },
    {
     "name": "stderr",
     "output_type": "stream",
     "text": [
      "The linesearch algorithm failed with too small a step.\n",
      "The linesearch algorithm failed with too small a step.\n",
      "The linesearch algorithm failed with too small a step.\n"
     ]
    },
    {
     "name": "stdout",
     "output_type": "stream",
     "text": [
      "Succeed for:  Xi= -1.8 t_0plus= 0.3 D_cross= 1.5e-18 D_ec= 5e-10\n"
     ]
    },
    {
     "name": "stderr",
     "output_type": "stream",
     "text": [
      "psetup failed: .../casadi/interfaces/sundials/idas_interface.cpp:849: Calculating Jacobian failed\n",
      "psetup failed: .../casadi/interfaces/sundials/idas_interface.cpp:849: Calculating Jacobian failed\n",
      "At t = 0.00362728 and h = 1.976e-012, the corrector convergence failed repeatedly or with |h| = hmin.\n",
      "At t = 0.00336633 and h = 4.6855e-013, the corrector convergence failed repeatedly or with |h| = hmin.\n",
      "At t = 0.000903199 and h = 2.8596e-013, the corrector convergence failed repeatedly or with |h| = hmin.\n",
      "At t = 0.00089185 and h = 3.61506e-013, the corrector convergence failed repeatedly or with |h| = hmin.\n",
      "At t = 0.000913843 and h = 1.05878e-013, the corrector convergence failed repeatedly or with |h| = hmin.\n",
      "At t = 0.000716557 and h = 1.89226e-013, the corrector convergence failed repeatedly or with |h| = hmin.\n",
      "At t = 0.000716019 and h = 5.41661e-015, the corrector convergence failed repeatedly or with |h| = hmin.\n",
      "At t = 0.000739646 and h = 2.87672e-013, the corrector convergence failed repeatedly or with |h| = hmin.\n",
      "2022-10-06 13:17:24.536 - [ERROR] callbacks.on_experiment_error(226): Simulation error: Maximum number of decreased steps occurred at t=91.23752813767511. Try solving the model up to this time only or reducing dt_max (currently, dt_max=7.091632984777611) and/or reducing the size of the time steps or period of the experiment.\n"
     ]
    },
    {
     "name": "stdout",
     "output_type": "stream",
     "text": [
      "Succeed for:  Xi= -1.8 t_0plus= 0.3 D_cross= 3.750001125e-12 D_ec= 5e-14\n",
      "Succeed for:  Xi= -1.8 t_0plus= 0.3 D_cross= 3.750001125e-12 D_ec= 1.250375e-10\n"
     ]
    },
    {
     "name": "stderr",
     "output_type": "stream",
     "text": [
      "The linesearch algorithm failed with too small a step.\n",
      "The linesearch algorithm failed with too small a step.\n"
     ]
    },
    {
     "name": "stdout",
     "output_type": "stream",
     "text": [
      "Succeed for:  Xi= -1.8 t_0plus= 0.3 D_cross= 3.750001125e-12 D_ec= 2.50025e-10\n"
     ]
    },
    {
     "name": "stderr",
     "output_type": "stream",
     "text": [
      "The linesearch algorithm failed with too small a step.\n",
      "The linesearch algorithm failed with too small a step.\n",
      "The linesearch algorithm failed with too small a step.\n",
      "The linesearch algorithm failed with too small a step.\n",
      "2022-10-06 13:17:47.589 - [ERROR] callbacks.on_experiment_error(226): Simulation error: Maximum number of decreased steps occurred at t=2946.6244214689877. Try solving the model up to this time only or reducing dt_max (currently, dt_max=7.091632984777611) and/or reducing the size of the time steps or period of the experiment.\n"
     ]
    },
    {
     "name": "stdout",
     "output_type": "stream",
     "text": [
      "Succeed for:  Xi= -1.8 t_0plus= 0.3 D_cross= 3.750001125e-12 D_ec= 3.750125e-10\n",
      "Succeed for:  Xi= -1.8 t_0plus= 0.3 D_cross= 3.750001125e-12 D_ec= 5e-10\n"
     ]
    },
    {
     "name": "stderr",
     "output_type": "stream",
     "text": [
      "At t = 0.00112539 and h = 2.49427e-014, the corrector convergence failed repeatedly or with |h| = hmin.\n",
      "psetup failed: .../casadi/interfaces/sundials/idas_interface.cpp:849: Calculating Jacobian failed\n",
      "psetup failed: .../casadi/interfaces/sundials/idas_interface.cpp:852: Linear solve failed\n",
      "At t = 0.0012076 and h = 1.26277e-013, the corrector convergence failed repeatedly or with |h| = hmin.\n",
      "psetup failed: .../casadi/interfaces/sundials/idas_interface.cpp:849: Calculating Jacobian failed\n",
      "At t = 0.00116542 and h = 4.15835e-014, the corrector convergence failed repeatedly or with |h| = hmin.\n",
      "At t = 0.00120399 and h = 1.87572e-014, the corrector convergence failed repeatedly or with |h| = hmin.\n",
      "2022-10-06 13:18:05.039 - [ERROR] callbacks.on_experiment_error(226): Simulation error: Maximum number of decreased steps occurred at t=60.0. Try solving the model up to this time only or reducing dt_max (currently, dt_max=7.091632984777611) and/or reducing the size of the time steps or period of the experiment.\n"
     ]
    },
    {
     "name": "stdout",
     "output_type": "stream",
     "text": [
      "Traceback (most recent call last):\n",
      "  File \"C:\\Users\\rl1120\\AppData\\Local\\Temp\\ipykernel_16444\\920439172.py\", line 16, in <cell line: 11>\n",
      "    Sol_ddiff    = Sim_ddiff.solve(\n",
      "  File \"d:\\gitpybamm\\lrh_409\\lrh_409\\envsolcon\\pybamm-gem\\pybamm\\simulation.py\", line 843, in solve\n",
      "    raise e\n",
      "  File \"d:\\gitpybamm\\lrh_409\\lrh_409\\envsolcon\\pybamm-gem\\pybamm\\simulation.py\", line 829, in solve\n",
      "    step_solution = solver.step(\n",
      "  File \"d:\\gitpybamm\\lrh_409\\lrh_409\\envsolcon\\pybamm-gem\\pybamm\\solvers\\base_solver.py\", line 1322, in step\n",
      "    solution = self._integrate(model, t_eval, ext_and_inputs)\n",
      "  File \"d:\\gitpybamm\\lrh_409\\lrh_409\\envsolcon\\pybamm-gem\\pybamm\\solvers\\casadi_solver.py\", line 266, in _integrate\n",
      "    raise pybamm.SolverError(\n",
      "pybamm.expression_tree.exceptions.SolverError: Maximum number of decreased steps occurred at t=60.0. Try solving the model up to this time only or reducing dt_max (currently, dt_max=7.091632984777611) and/or reducing the size of the time steps or period of the experiment.\n",
      "\n",
      "Fail for:  Xi= -1.8 t_0plus= 0.3 D_cross= 7.500000749999999e-12 D_ec= 5e-14\n",
      "Succeed for:  Xi= -1.8 t_0plus= 0.3 D_cross= 7.500000749999999e-12 D_ec= 1.250375e-10\n"
     ]
    },
    {
     "name": "stderr",
     "output_type": "stream",
     "text": [
      "At t = 0.00473036 and h = 3.83515e-011, the corrector convergence failed repeatedly or with |h| = hmin.\n",
      "2022-10-06 13:18:17.053 - [ERROR] callbacks.on_experiment_error(226): Simulation error: .../casadi/interfaces/sundials/idas_interface.cpp:591: IDASolve returned \"IDA_CONV_FAIL\". Consult IDAS documentation.\n"
     ]
    },
    {
     "name": "stdout",
     "output_type": "stream",
     "text": [
      "Succeed for:  Xi= -1.8 t_0plus= 0.3 D_cross= 7.500000749999999e-12 D_ec= 2.50025e-10\n"
     ]
    },
    {
     "name": "stderr",
     "output_type": "stream",
     "text": [
      "The linesearch algorithm failed with too small a step.\n",
      "The linesearch algorithm failed with too small a step.\n",
      "The linesearch algorithm failed with too small a step.\n",
      "2022-10-06 13:18:25.650 - [ERROR] callbacks.on_experiment_error(226): Simulation error: .../casadi/interfaces/sundials/idas_interface.cpp:591: IDACalcIC returned \"IDA_LINESEARCH_FAIL\". Consult IDAS documentation.\n"
     ]
    },
    {
     "name": "stdout",
     "output_type": "stream",
     "text": [
      "Succeed for:  Xi= -1.8 t_0plus= 0.3 D_cross= 7.500000749999999e-12 D_ec= 3.750125e-10\n",
      "Succeed for:  Xi= -1.8 t_0plus= 0.3 D_cross= 7.500000749999999e-12 D_ec= 5e-10\n"
     ]
    },
    {
     "name": "stderr",
     "output_type": "stream",
     "text": [
      "psetup failed: .../casadi/interfaces/sundials/idas_interface.cpp:849: Calculating Jacobian failed\n",
      "At t = 0.00290589 and h = 4.32199e-015, the corrector convergence failed repeatedly or with |h| = hmin.\n",
      "psetup failed: .../casadi/interfaces/sundials/idas_interface.cpp:849: Calculating Jacobian failed\n",
      "At t = 0.00290104 and h = 8.31943e-015, the corrector convergence failed repeatedly or with |h| = hmin.\n",
      "psetup failed: .../casadi/interfaces/sundials/idas_interface.cpp:849: Calculating Jacobian failed\n",
      "psetup failed: .../casadi/interfaces/sundials/idas_interface.cpp:849: Calculating Jacobian failed\n",
      "psetup failed: .../casadi/interfaces/sundials/idas_interface.cpp:849: Calculating Jacobian failed\n",
      "psetup failed: .../casadi/interfaces/sundials/idas_interface.cpp:849: Calculating Jacobian failed\n",
      "psetup failed: .../casadi/interfaces/sundials/idas_interface.cpp:849: Calculating Jacobian failed\n",
      "psetup failed: .../casadi/interfaces/sundials/idas_interface.cpp:849: Calculating Jacobian failed\n",
      "psetup failed: .../casadi/interfaces/sundials/idas_interface.cpp:849: Calculating Jacobian failed\n",
      "psetup failed: .../casadi/interfaces/sundials/idas_interface.cpp:849: Calculating Jacobian failed\n",
      "psetup failed: .../casadi/interfaces/sundials/idas_interface.cpp:849: Calculating Jacobian failed\n",
      "psetup failed: .../casadi/interfaces/sundials/idas_interface.cpp:849: Calculating Jacobian failed\n",
      "psetup failed: .../casadi/interfaces/sundials/idas_interface.cpp:849: Calculating Jacobian failed\n",
      "psetup failed: .../casadi/interfaces/sundials/idas_interface.cpp:849: Calculating Jacobian failed\n",
      "psetup failed: .../casadi/interfaces/sundials/idas_interface.cpp:849: Calculating Jacobian failed\n",
      "psetup failed: .../casadi/interfaces/sundials/idas_interface.cpp:849: Calculating Jacobian failed\n",
      "psetup failed: .../casadi/interfaces/sundials/idas_interface.cpp:849: Calculating Jacobian failed\n",
      "At t = 0.000416314 and h = 4.94616e-014, the corrector convergence failed repeatedly or with |h| = hmin.\n",
      "At t = 0.000400502 and h = 2.96462e-015, the corrector convergence failed repeatedly or with |h| = hmin.\n",
      "psetup failed: .../casadi/interfaces/sundials/idas_interface.cpp:849: Calculating Jacobian failed\n",
      "At t = 0.000411039 and h = 7.6466e-016, the corrector convergence failed repeatedly or with |h| = hmin.\n",
      "psetup failed: .../casadi/interfaces/sundials/idas_interface.cpp:849: Calculating Jacobian failed\n",
      "At t = 9.86044e-005 and h = 7.62643e-016, the corrector convergence failed repeatedly or with |h| = hmin.\n",
      "psetup failed: .../casadi/interfaces/sundials/idas_interface.cpp:849: Calculating Jacobian failed\n",
      "At t = 9.34346e-005 and h = 5.82976e-015, the corrector convergence failed repeatedly or with |h| = hmin.\n",
      "At t = 1.46599e-005 and h = 1.21006e-015, the corrector convergence failed repeatedly or with |h| = hmin.\n",
      "At t = 1.19057e-005 and h = 1.27392e-015, the corrector convergence failed repeatedly or with |h| = hmin.\n",
      "At t = 1.68042e-005 and h = 1.99654e-014, the corrector convergence failed repeatedly or with |h| = hmin.\n",
      "At t = 1.56681e-005 and h = 2.96151e-014, the corrector convergence failed repeatedly or with |h| = hmin.\n",
      "At t = 1.72722e-005 and h = 1.32152e-014, the corrector convergence failed repeatedly or with |h| = hmin.\n",
      "2022-10-06 13:18:59.896 - [ERROR] callbacks.on_experiment_error(226): Simulation error: Maximum number of decreased steps occurred at t=32.774926486579375. Try solving the model up to this time only or reducing dt_max (currently, dt_max=3.5458164923888056) and/or reducing the size of the time steps or period of the experiment.\n"
     ]
    },
    {
     "name": "stdout",
     "output_type": "stream",
     "text": [
      "Succeed for:  Xi= -1.8 t_0plus= 0.3 D_cross= 1.1250000375e-11 D_ec= 5e-14\n",
      "Succeed for:  Xi= -1.8 t_0plus= 0.3 D_cross= 1.1250000375e-11 D_ec= 1.250375e-10\n"
     ]
    },
    {
     "name": "stderr",
     "output_type": "stream",
     "text": [
      "The linesearch algorithm failed with too small a step.\n",
      "The linesearch algorithm failed with too small a step.\n"
     ]
    },
    {
     "name": "stdout",
     "output_type": "stream",
     "text": [
      "Succeed for:  Xi= -1.8 t_0plus= 0.3 D_cross= 1.1250000375e-11 D_ec= 2.50025e-10\n",
      "Succeed for:  Xi= -1.8 t_0plus= 0.3 D_cross= 1.1250000375e-11 D_ec= 3.750125e-10\n"
     ]
    },
    {
     "name": "stderr",
     "output_type": "stream",
     "text": [
      "The linesearch algorithm failed with too small a step.\n",
      "The linesearch algorithm failed with too small a step.\n"
     ]
    },
    {
     "name": "stdout",
     "output_type": "stream",
     "text": [
      "Succeed for:  Xi= -1.8 t_0plus= 0.3 D_cross= 1.1250000375e-11 D_ec= 5e-10\n"
     ]
    },
    {
     "name": "stderr",
     "output_type": "stream",
     "text": [
      "psetup failed: .../casadi/interfaces/sundials/idas_interface.cpp:852: Linear solve failed\n",
      "psetup failed: .../casadi/interfaces/sundials/idas_interface.cpp:852: Linear solve failed\n",
      "At t = 0.00109815 and h = 4.88756e-026, the corrector convergence failed repeatedly or with |h| = hmin.\n",
      "psetup failed: .../casadi/interfaces/sundials/idas_interface.cpp:849: Calculating Jacobian failed\n",
      "psetup failed: .../casadi/interfaces/sundials/idas_interface.cpp:849: Calculating Jacobian failed\n",
      "psetup failed: .../casadi/interfaces/sundials/idas_interface.cpp:849: Calculating Jacobian failed\n",
      "psetup failed: .../casadi/interfaces/sundials/idas_interface.cpp:849: Calculating Jacobian failed\n",
      "psetup failed: .../casadi/interfaces/sundials/idas_interface.cpp:849: Calculating Jacobian failed\n",
      "psetup failed: .../casadi/interfaces/sundials/idas_interface.cpp:849: Calculating Jacobian failed\n",
      "psetup failed: .../casadi/interfaces/sundials/idas_interface.cpp:849: Calculating Jacobian failed\n",
      "psetup failed: .../casadi/interfaces/sundials/idas_interface.cpp:849: Calculating Jacobian failed\n",
      "psetup failed: .../casadi/interfaces/sundials/idas_interface.cpp:849: Calculating Jacobian failed\n",
      "psetup failed: .../casadi/interfaces/sundials/idas_interface.cpp:849: Calculating Jacobian failed\n",
      "At t = 0.00110568 and h = 6.89619e-014, the corrector convergence failed repeatedly or with |h| = hmin.\n",
      "psetup failed: .../casadi/interfaces/sundials/idas_interface.cpp:852: Linear solve failed\n",
      "At t = 0.00109794 and h = 9.27076e-017, the corrector convergence failed repeatedly or with |h| = hmin.\n",
      "At t = 0.0010979 and h = 7.57125e-016, the corrector convergence failed repeatedly or with |h| = hmin.\n",
      "2022-10-06 13:19:32.733 - [ERROR] callbacks.on_experiment_error(226): Simulation error: Maximum number of decreased steps occurred at t=0.0. Try solving the model up to this time only or reducing dt_max (currently, dt_max=7.091632984777611) and/or reducing the size of the time steps or period of the experiment.\n"
     ]
    },
    {
     "name": "stdout",
     "output_type": "stream",
     "text": [
      "Traceback (most recent call last):\n",
      "  File \"C:\\Users\\rl1120\\AppData\\Local\\Temp\\ipykernel_16444\\920439172.py\", line 16, in <cell line: 11>\n",
      "    Sol_ddiff    = Sim_ddiff.solve(\n",
      "  File \"d:\\gitpybamm\\lrh_409\\lrh_409\\envsolcon\\pybamm-gem\\pybamm\\simulation.py\", line 843, in solve\n",
      "    raise e\n",
      "  File \"d:\\gitpybamm\\lrh_409\\lrh_409\\envsolcon\\pybamm-gem\\pybamm\\simulation.py\", line 829, in solve\n",
      "    step_solution = solver.step(\n",
      "  File \"d:\\gitpybamm\\lrh_409\\lrh_409\\envsolcon\\pybamm-gem\\pybamm\\solvers\\base_solver.py\", line 1322, in step\n",
      "    solution = self._integrate(model, t_eval, ext_and_inputs)\n",
      "  File \"d:\\gitpybamm\\lrh_409\\lrh_409\\envsolcon\\pybamm-gem\\pybamm\\solvers\\casadi_solver.py\", line 266, in _integrate\n",
      "    raise pybamm.SolverError(\n",
      "pybamm.expression_tree.exceptions.SolverError: Maximum number of decreased steps occurred at t=0.0. Try solving the model up to this time only or reducing dt_max (currently, dt_max=7.091632984777611) and/or reducing the size of the time steps or period of the experiment.\n",
      "\n",
      "Fail for:  Xi= -1.8 t_0plus= 0.3 D_cross= 1.5e-11 D_ec= 5e-14\n",
      "Succeed for:  Xi= -1.8 t_0plus= 0.3 D_cross= 1.5e-11 D_ec= 1.250375e-10\n"
     ]
    },
    {
     "name": "stderr",
     "output_type": "stream",
     "text": [
      "At t = 0.00257449 and h = 2.4693e-011, the corrector convergence failed repeatedly or with |h| = hmin.\n"
     ]
    },
    {
     "name": "stdout",
     "output_type": "stream",
     "text": [
      "Succeed for:  Xi= -1.8 t_0plus= 0.3 D_cross= 1.5e-11 D_ec= 2.50025e-10\n",
      "Succeed for:  Xi= -1.8 t_0plus= 0.3 D_cross= 1.5e-11 D_ec= 3.750125e-10\n",
      "Succeed for:  Xi= -1.8 t_0plus= 0.3 D_cross= 1.5e-11 D_ec= 5e-10\n"
     ]
    },
    {
     "name": "stderr",
     "output_type": "stream",
     "text": [
      "psetup failed: .../casadi/interfaces/sundials/idas_interface.cpp:849: Calculating Jacobian failed\n",
      "psetup failed: .../casadi/interfaces/sundials/idas_interface.cpp:849: Calculating Jacobian failed\n",
      "psetup failed: .../casadi/interfaces/sundials/idas_interface.cpp:849: Calculating Jacobian failed\n",
      "psetup failed: .../casadi/interfaces/sundials/idas_interface.cpp:849: Calculating Jacobian failed\n",
      "At t = 0.00422356 and h = 4.89328e-018, the corrector convergence failed repeatedly or with |h| = hmin.\n",
      "psetup failed: .../casadi/interfaces/sundials/idas_interface.cpp:849: Calculating Jacobian failed\n",
      "psetup failed: .../casadi/interfaces/sundials/idas_interface.cpp:849: Calculating Jacobian failed\n",
      "psetup failed: .../casadi/interfaces/sundials/idas_interface.cpp:849: Calculating Jacobian failed\n",
      "psetup failed: .../casadi/interfaces/sundials/idas_interface.cpp:849: Calculating Jacobian failed\n",
      "At t = 0.00422357 and h = 4.54914e-019, the corrector convergence failed repeatedly or with |h| = hmin.\n",
      "CasADi -  WARNING(\"roots:g failed: Inf detected for output x, at (row 20, col 0).\") [.../casadi/core/oracle_function.cpp:265]\n"
     ]
    },
    {
     "name": "stdout",
     "output_type": "stream",
     "text": [
      "Succeed for:  Xi= -1.6 t_0plus= 0.01 D_cross= 1.5e-18 D_ec= 5e-14\n",
      "Succeed for:  Xi= -1.6 t_0plus= 0.01 D_cross= 1.5e-18 D_ec= 1.250375e-10\n",
      "Succeed for:  Xi= -1.6 t_0plus= 0.01 D_cross= 1.5e-18 D_ec= 2.50025e-10\n",
      "Succeed for:  Xi= -1.6 t_0plus= 0.01 D_cross= 1.5e-18 D_ec= 3.750125e-10\n"
     ]
    },
    {
     "name": "stderr",
     "output_type": "stream",
     "text": [
      "The linesearch algorithm failed with too small a step.\n",
      "The linesearch algorithm failed with too small a step.\n",
      "The linesearch algorithm failed with too small a step.\n",
      "The linesearch algorithm failed with too small a step.\n",
      "2022-10-06 13:20:41.762 - [ERROR] callbacks.on_experiment_error(226): Simulation error: Maximum number of decreased steps occurred at t=2836.396685737494. Try solving the model up to this time only or reducing dt_max (currently, dt_max=7.091632984777611) and/or reducing the size of the time steps or period of the experiment.\n"
     ]
    },
    {
     "name": "stdout",
     "output_type": "stream",
     "text": [
      "Succeed for:  Xi= -1.6 t_0plus= 0.01 D_cross= 1.5e-18 D_ec= 5e-10\n"
     ]
    },
    {
     "name": "stderr",
     "output_type": "stream",
     "text": [
      "At t = 0.00435476 and h = 1.75233e-013, the corrector convergence failed repeatedly or with |h| = hmin.\n",
      "At t = 0.00447974 and h = 1.39652e-013, the corrector convergence failed repeatedly or with |h| = hmin.\n",
      "At t = 0.00204425 and h = 1.02455e-013, the corrector convergence failed repeatedly or with |h| = hmin.\n",
      "At t = 0.000741724 and h = 1.99431e-013, the corrector convergence failed repeatedly or with |h| = hmin.\n",
      "At t = 0.000745667 and h = 4.45604e-013, the corrector convergence failed repeatedly or with |h| = hmin.\n",
      "At t = 0.000742687 and h = 3.96952e-013, the corrector convergence failed repeatedly or with |h| = hmin.\n",
      "At t = 0.000760742 and h = 1.40407e-013, the corrector convergence failed repeatedly or with |h| = hmin.\n",
      "2022-10-06 13:21:04.846 - [ERROR] callbacks.on_experiment_error(226): Simulation error: Maximum number of decreased steps occurred at t=101.4042175786639. Try solving the model up to this time only or reducing dt_max (currently, dt_max=7.091632984777611) and/or reducing the size of the time steps or period of the experiment.\n"
     ]
    },
    {
     "name": "stdout",
     "output_type": "stream",
     "text": [
      "Succeed for:  Xi= -1.6 t_0plus= 0.01 D_cross= 3.750001125e-12 D_ec= 5e-14\n",
      "Succeed for:  Xi= -1.6 t_0plus= 0.01 D_cross= 3.750001125e-12 D_ec= 1.250375e-10\n"
     ]
    },
    {
     "name": "stderr",
     "output_type": "stream",
     "text": [
      "The linesearch algorithm failed with too small a step.\n",
      "The linesearch algorithm failed with too small a step.\n",
      "The linesearch algorithm failed with too small a step.\n"
     ]
    },
    {
     "name": "stdout",
     "output_type": "stream",
     "text": [
      "Succeed for:  Xi= -1.6 t_0plus= 0.01 D_cross= 3.750001125e-12 D_ec= 2.50025e-10\n"
     ]
    },
    {
     "name": "stderr",
     "output_type": "stream",
     "text": [
      "The linesearch algorithm failed with too small a step.\n",
      "The linesearch algorithm failed with too small a step.\n",
      "At t = 0 and h = 1.82249e-013, the error test failed repeatedly or with |h| = hmin.\n"
     ]
    },
    {
     "name": "stdout",
     "output_type": "stream",
     "text": [
      "Succeed for:  Xi= -1.6 t_0plus= 0.01 D_cross= 3.750001125e-12 D_ec= 3.750125e-10\n",
      "Succeed for:  Xi= -1.6 t_0plus= 0.01 D_cross= 3.750001125e-12 D_ec= 5e-10\n"
     ]
    },
    {
     "name": "stderr",
     "output_type": "stream",
     "text": [
      "psetup failed: .../casadi/interfaces/sundials/idas_interface.cpp:849: Calculating Jacobian failed\n",
      "At t = 0.00183412 and h = 1.57039e-013, the corrector convergence failed repeatedly or with |h| = hmin.\n",
      "psetup failed: .../casadi/interfaces/sundials/idas_interface.cpp:852: Linear solve failed\n",
      "At t = 0.00190093 and h = 1.10972e-013, the corrector convergence failed repeatedly or with |h| = hmin.\n",
      "At t = 0.00183167 and h = 2.89919e-013, the corrector convergence failed repeatedly or with |h| = hmin.\n",
      "At t = 0.000651539 and h = 3.93465e-014, the corrector convergence failed repeatedly or with |h| = hmin.\n",
      "At t = 0.000598445 and h = 1.81961e-013, the corrector convergence failed repeatedly or with |h| = hmin.\n",
      "psetup failed: .../casadi/interfaces/sundials/idas_interface.cpp:849: Calculating Jacobian failed\n",
      "psetup failed: .../casadi/interfaces/sundials/idas_interface.cpp:849: Calculating Jacobian failed\n",
      "psetup failed: .../casadi/interfaces/sundials/idas_interface.cpp:852: Linear solve failed\n",
      "At t = 0.000435836 and h = 9.25278e-014, the corrector convergence failed repeatedly or with |h| = hmin.\n",
      "At t = 0.000384044 and h = 1.59325e-013, the corrector convergence failed repeatedly or with |h| = hmin.\n",
      "At t = 0.000423516 and h = 5.10371e-014, the corrector convergence failed repeatedly or with |h| = hmin.\n",
      "At t = 0.000419453 and h = 6.19495e-014, the corrector convergence failed repeatedly or with |h| = hmin.\n",
      "At t = 0.000419755 and h = 9.41881e-014, the corrector convergence failed repeatedly or with |h| = hmin.\n",
      "2022-10-06 13:22:15.422 - [ERROR] callbacks.on_experiment_error(226): Simulation error: Maximum number of decreased steps occurred at t=76.67688223887008. Try solving the model up to this time only or reducing dt_max (currently, dt_max=3.5458164923888056) and/or reducing the size of the time steps or period of the experiment.\n"
     ]
    },
    {
     "name": "stdout",
     "output_type": "stream",
     "text": [
      "Succeed for:  Xi= -1.6 t_0plus= 0.01 D_cross= 7.500000749999999e-12 D_ec= 5e-14\n",
      "Succeed for:  Xi= -1.6 t_0plus= 0.01 D_cross= 7.500000749999999e-12 D_ec= 1.250375e-10\n",
      "Succeed for:  Xi= -1.6 t_0plus= 0.01 D_cross= 7.500000749999999e-12 D_ec= 2.50025e-10\n",
      "Succeed for:  Xi= -1.6 t_0plus= 0.01 D_cross= 7.500000749999999e-12 D_ec= 3.750125e-10\n",
      "Succeed for:  Xi= -1.6 t_0plus= 0.01 D_cross= 7.500000749999999e-12 D_ec= 5e-10\n"
     ]
    },
    {
     "name": "stderr",
     "output_type": "stream",
     "text": [
      "At t = 0.00295515 and h = 1.84631e-016, the corrector convergence failed repeatedly or with |h| = hmin.\n",
      "At t = 0.00295841 and h = 4.40262e-017, the corrector convergence failed repeatedly or with |h| = hmin.\n",
      "At t = 0.000459428 and h = 3.56761e-015, the corrector convergence failed repeatedly or with |h| = hmin.\n",
      "psetup failed: .../casadi/interfaces/sundials/idas_interface.cpp:849: Calculating Jacobian failed\n",
      "At t = 0.000454865 and h = 2.16443e-015, the corrector convergence failed repeatedly or with |h| = hmin.\n",
      "At t = 0.000459955 and h = 2.62845e-014, the corrector convergence failed repeatedly or with |h| = hmin.\n",
      "At t = 0.000142144 and h = 2.22596e-015, the corrector convergence failed repeatedly or with |h| = hmin.\n",
      "psetup failed: .../casadi/interfaces/sundials/idas_interface.cpp:849: Calculating Jacobian failed\n",
      "At t = 0.00015248 and h = 3.14258e-015, the corrector convergence failed repeatedly or with |h| = hmin.\n",
      "At t = 6.87211e-005 and h = 3.57187e-014, the corrector convergence failed repeatedly or with |h| = hmin.\n",
      "psetup failed: .../casadi/interfaces/sundials/idas_interface.cpp:849: Calculating Jacobian failed\n",
      "At t = 2.65812e-005 and h = 3.39763e-014, the corrector convergence failed repeatedly or with |h| = hmin.\n",
      "The linesearch algorithm failed with too small a step.\n",
      "The linesearch algorithm failed with too small a step.\n",
      "The linesearch algorithm failed with too small a step.\n",
      "The linesearch algorithm failed with too small a step.\n",
      "The linesearch algorithm failed with too small a step.\n",
      "2022-10-06 13:23:03.459 - [ERROR] callbacks.on_experiment_error(226): Simulation error: Maximum number of decreased steps occurred at t=33.390392454726324. Try solving the model up to this time only or reducing dt_max (currently, dt_max=3.5458164923888056) and/or reducing the size of the time steps or period of the experiment.\n"
     ]
    },
    {
     "name": "stdout",
     "output_type": "stream",
     "text": [
      "Succeed for:  Xi= -1.6 t_0plus= 0.01 D_cross= 1.1250000375e-11 D_ec= 5e-14\n",
      "Succeed for:  Xi= -1.6 t_0plus= 0.01 D_cross= 1.1250000375e-11 D_ec= 1.250375e-10\n"
     ]
    },
    {
     "name": "stderr",
     "output_type": "stream",
     "text": [
      "The linesearch algorithm failed with too small a step.\n",
      "The linesearch algorithm failed with too small a step.\n"
     ]
    },
    {
     "name": "stdout",
     "output_type": "stream",
     "text": [
      "Succeed for:  Xi= -1.6 t_0plus= 0.01 D_cross= 1.1250000375e-11 D_ec= 2.50025e-10\n"
     ]
    },
    {
     "name": "stderr",
     "output_type": "stream",
     "text": [
      "The linesearch algorithm failed with too small a step.\n",
      "The linesearch algorithm failed with too small a step.\n"
     ]
    },
    {
     "name": "stdout",
     "output_type": "stream",
     "text": [
      "Succeed for:  Xi= -1.6 t_0plus= 0.01 D_cross= 1.1250000375e-11 D_ec= 3.750125e-10\n"
     ]
    },
    {
     "name": "stderr",
     "output_type": "stream",
     "text": [
      "The linesearch algorithm failed with too small a step.\n",
      "The linesearch algorithm failed with too small a step.\n"
     ]
    },
    {
     "name": "stdout",
     "output_type": "stream",
     "text": [
      "Succeed for:  Xi= -1.6 t_0plus= 0.01 D_cross= 1.1250000375e-11 D_ec= 5e-10\n"
     ]
    },
    {
     "name": "stderr",
     "output_type": "stream",
     "text": [
      "At t = 0.00112725 and h = 1.55935e-018, the corrector convergence failed repeatedly or with |h| = hmin.\n",
      "At t = 0.00112301 and h = 1.45235e-020, the corrector convergence failed repeatedly or with |h| = hmin.\n",
      "At t = 0.00112301 and h = 1.45053e-020, the corrector convergence failed repeatedly or with |h| = hmin.\n",
      "psetup failed: .../casadi/interfaces/sundials/idas_interface.cpp:852: Linear solve failed\n",
      "psetup failed: .../casadi/interfaces/sundials/idas_interface.cpp:849: Calculating Jacobian failed\n",
      "At t = 0.00112425 and h = 6.71233e-017, the corrector convergence failed repeatedly or with |h| = hmin.\n",
      "2022-10-06 13:23:46.768 - [ERROR] callbacks.on_experiment_error(226): Simulation error: Maximum number of decreased steps occurred at t=0.0. Try solving the model up to this time only or reducing dt_max (currently, dt_max=7.091632984777611) and/or reducing the size of the time steps or period of the experiment.\n"
     ]
    },
    {
     "name": "stdout",
     "output_type": "stream",
     "text": [
      "Traceback (most recent call last):\n",
      "  File \"C:\\Users\\rl1120\\AppData\\Local\\Temp\\ipykernel_16444\\920439172.py\", line 16, in <cell line: 11>\n",
      "    Sol_ddiff    = Sim_ddiff.solve(\n",
      "  File \"d:\\gitpybamm\\lrh_409\\lrh_409\\envsolcon\\pybamm-gem\\pybamm\\simulation.py\", line 843, in solve\n",
      "    raise e\n",
      "  File \"d:\\gitpybamm\\lrh_409\\lrh_409\\envsolcon\\pybamm-gem\\pybamm\\simulation.py\", line 829, in solve\n",
      "    step_solution = solver.step(\n",
      "  File \"d:\\gitpybamm\\lrh_409\\lrh_409\\envsolcon\\pybamm-gem\\pybamm\\solvers\\base_solver.py\", line 1322, in step\n",
      "    solution = self._integrate(model, t_eval, ext_and_inputs)\n",
      "  File \"d:\\gitpybamm\\lrh_409\\lrh_409\\envsolcon\\pybamm-gem\\pybamm\\solvers\\casadi_solver.py\", line 266, in _integrate\n",
      "    raise pybamm.SolverError(\n",
      "pybamm.expression_tree.exceptions.SolverError: Maximum number of decreased steps occurred at t=0.0. Try solving the model up to this time only or reducing dt_max (currently, dt_max=7.091632984777611) and/or reducing the size of the time steps or period of the experiment.\n",
      "\n",
      "Fail for:  Xi= -1.6 t_0plus= 0.01 D_cross= 1.5e-11 D_ec= 5e-14\n",
      "Succeed for:  Xi= -1.6 t_0plus= 0.01 D_cross= 1.5e-11 D_ec= 1.250375e-10\n",
      "Succeed for:  Xi= -1.6 t_0plus= 0.01 D_cross= 1.5e-11 D_ec= 2.50025e-10\n",
      "Succeed for:  Xi= -1.6 t_0plus= 0.01 D_cross= 1.5e-11 D_ec= 3.750125e-10\n",
      "Succeed for:  Xi= -1.6 t_0plus= 0.01 D_cross= 1.5e-11 D_ec= 5e-10\n"
     ]
    },
    {
     "name": "stderr",
     "output_type": "stream",
     "text": [
      "psetup failed: .../casadi/interfaces/sundials/idas_interface.cpp:849: Calculating Jacobian failed\n",
      "psetup failed: .../casadi/interfaces/sundials/idas_interface.cpp:849: Calculating Jacobian failed\n",
      "psetup failed: .../casadi/interfaces/sundials/idas_interface.cpp:849: Calculating Jacobian failed\n",
      "psetup failed: .../casadi/interfaces/sundials/idas_interface.cpp:849: Calculating Jacobian failed\n",
      "At t = 0.00422356 and h = 4.89328e-018, the corrector convergence failed repeatedly or with |h| = hmin.\n",
      "psetup failed: .../casadi/interfaces/sundials/idas_interface.cpp:849: Calculating Jacobian failed\n",
      "psetup failed: .../casadi/interfaces/sundials/idas_interface.cpp:849: Calculating Jacobian failed\n",
      "psetup failed: .../casadi/interfaces/sundials/idas_interface.cpp:849: Calculating Jacobian failed\n",
      "psetup failed: .../casadi/interfaces/sundials/idas_interface.cpp:849: Calculating Jacobian failed\n",
      "At t = 0.00422357 and h = 4.54914e-019, the corrector convergence failed repeatedly or with |h| = hmin.\n",
      "CasADi -  WARNING(\"roots:g failed: Inf detected for output x, at (row 20, col 0).\") [.../casadi/core/oracle_function.cpp:265]\n"
     ]
    },
    {
     "name": "stdout",
     "output_type": "stream",
     "text": [
      "Succeed for:  Xi= -1.6 t_0plus= 0.08249999999999999 D_cross= 1.5e-18 D_ec= 5e-14\n",
      "Succeed for:  Xi= -1.6 t_0plus= 0.08249999999999999 D_cross= 1.5e-18 D_ec= 1.250375e-10\n",
      "Succeed for:  Xi= -1.6 t_0plus= 0.08249999999999999 D_cross= 1.5e-18 D_ec= 2.50025e-10\n",
      "Succeed for:  Xi= -1.6 t_0plus= 0.08249999999999999 D_cross= 1.5e-18 D_ec= 3.750125e-10\n"
     ]
    },
    {
     "name": "stderr",
     "output_type": "stream",
     "text": [
      "The linesearch algorithm failed with too small a step.\n",
      "The linesearch algorithm failed with too small a step.\n",
      "The linesearch algorithm failed with too small a step.\n",
      "The linesearch algorithm failed with too small a step.\n",
      "2022-10-06 13:25:06.136 - [ERROR] callbacks.on_experiment_error(226): Simulation error: Maximum number of decreased steps occurred at t=2836.396685737494. Try solving the model up to this time only or reducing dt_max (currently, dt_max=7.091632984777611) and/or reducing the size of the time steps or period of the experiment.\n"
     ]
    },
    {
     "name": "stdout",
     "output_type": "stream",
     "text": [
      "Succeed for:  Xi= -1.6 t_0plus= 0.08249999999999999 D_cross= 1.5e-18 D_ec= 5e-10\n"
     ]
    },
    {
     "name": "stderr",
     "output_type": "stream",
     "text": [
      "At t = 0.00435476 and h = 1.75233e-013, the corrector convergence failed repeatedly or with |h| = hmin.\n",
      "At t = 0.00447974 and h = 1.39652e-013, the corrector convergence failed repeatedly or with |h| = hmin.\n",
      "At t = 0.00204425 and h = 1.02455e-013, the corrector convergence failed repeatedly or with |h| = hmin.\n",
      "At t = 0.000741724 and h = 1.99431e-013, the corrector convergence failed repeatedly or with |h| = hmin.\n",
      "At t = 0.000745667 and h = 4.45604e-013, the corrector convergence failed repeatedly or with |h| = hmin.\n",
      "At t = 0.000742687 and h = 3.96952e-013, the corrector convergence failed repeatedly or with |h| = hmin.\n",
      "At t = 0.000760742 and h = 1.40407e-013, the corrector convergence failed repeatedly or with |h| = hmin.\n",
      "2022-10-06 13:25:33.347 - [ERROR] callbacks.on_experiment_error(226): Simulation error: Maximum number of decreased steps occurred at t=101.4042175786639. Try solving the model up to this time only or reducing dt_max (currently, dt_max=7.091632984777611) and/or reducing the size of the time steps or period of the experiment.\n"
     ]
    },
    {
     "name": "stdout",
     "output_type": "stream",
     "text": [
      "Succeed for:  Xi= -1.6 t_0plus= 0.08249999999999999 D_cross= 3.750001125e-12 D_ec= 5e-14\n",
      "Succeed for:  Xi= -1.6 t_0plus= 0.08249999999999999 D_cross= 3.750001125e-12 D_ec= 1.250375e-10\n"
     ]
    },
    {
     "name": "stderr",
     "output_type": "stream",
     "text": [
      "The linesearch algorithm failed with too small a step.\n",
      "The linesearch algorithm failed with too small a step.\n",
      "The linesearch algorithm failed with too small a step.\n"
     ]
    },
    {
     "name": "stdout",
     "output_type": "stream",
     "text": [
      "Succeed for:  Xi= -1.6 t_0plus= 0.08249999999999999 D_cross= 3.750001125e-12 D_ec= 2.50025e-10\n"
     ]
    },
    {
     "name": "stderr",
     "output_type": "stream",
     "text": [
      "The linesearch algorithm failed with too small a step.\n",
      "The linesearch algorithm failed with too small a step.\n",
      "At t = 0 and h = 1.82249e-013, the error test failed repeatedly or with |h| = hmin.\n"
     ]
    },
    {
     "name": "stdout",
     "output_type": "stream",
     "text": [
      "Succeed for:  Xi= -1.6 t_0plus= 0.08249999999999999 D_cross= 3.750001125e-12 D_ec= 3.750125e-10\n",
      "Succeed for:  Xi= -1.6 t_0plus= 0.08249999999999999 D_cross= 3.750001125e-12 D_ec= 5e-10\n"
     ]
    },
    {
     "name": "stderr",
     "output_type": "stream",
     "text": [
      "psetup failed: .../casadi/interfaces/sundials/idas_interface.cpp:849: Calculating Jacobian failed\n",
      "At t = 0.00183412 and h = 1.57039e-013, the corrector convergence failed repeatedly or with |h| = hmin.\n",
      "psetup failed: .../casadi/interfaces/sundials/idas_interface.cpp:852: Linear solve failed\n",
      "At t = 0.00190093 and h = 1.10972e-013, the corrector convergence failed repeatedly or with |h| = hmin.\n",
      "At t = 0.00183167 and h = 2.89919e-013, the corrector convergence failed repeatedly or with |h| = hmin.\n",
      "At t = 0.000651539 and h = 3.93465e-014, the corrector convergence failed repeatedly or with |h| = hmin.\n",
      "At t = 0.000598445 and h = 1.81961e-013, the corrector convergence failed repeatedly or with |h| = hmin.\n",
      "psetup failed: .../casadi/interfaces/sundials/idas_interface.cpp:849: Calculating Jacobian failed\n",
      "psetup failed: .../casadi/interfaces/sundials/idas_interface.cpp:849: Calculating Jacobian failed\n",
      "psetup failed: .../casadi/interfaces/sundials/idas_interface.cpp:852: Linear solve failed\n",
      "At t = 0.000435836 and h = 9.25278e-014, the corrector convergence failed repeatedly or with |h| = hmin.\n",
      "At t = 0.000384044 and h = 1.59325e-013, the corrector convergence failed repeatedly or with |h| = hmin.\n",
      "At t = 0.000423516 and h = 5.10371e-014, the corrector convergence failed repeatedly or with |h| = hmin.\n",
      "At t = 0.000419453 and h = 6.19495e-014, the corrector convergence failed repeatedly or with |h| = hmin.\n",
      "At t = 0.000419755 and h = 9.41881e-014, the corrector convergence failed repeatedly or with |h| = hmin.\n",
      "2022-10-06 13:26:57.550 - [ERROR] callbacks.on_experiment_error(226): Simulation error: Maximum number of decreased steps occurred at t=76.67688223887008. Try solving the model up to this time only or reducing dt_max (currently, dt_max=3.5458164923888056) and/or reducing the size of the time steps or period of the experiment.\n"
     ]
    },
    {
     "name": "stdout",
     "output_type": "stream",
     "text": [
      "Succeed for:  Xi= -1.6 t_0plus= 0.08249999999999999 D_cross= 7.500000749999999e-12 D_ec= 5e-14\n",
      "Succeed for:  Xi= -1.6 t_0plus= 0.08249999999999999 D_cross= 7.500000749999999e-12 D_ec= 1.250375e-10\n",
      "Succeed for:  Xi= -1.6 t_0plus= 0.08249999999999999 D_cross= 7.500000749999999e-12 D_ec= 2.50025e-10\n",
      "Succeed for:  Xi= -1.6 t_0plus= 0.08249999999999999 D_cross= 7.500000749999999e-12 D_ec= 3.750125e-10\n",
      "Succeed for:  Xi= -1.6 t_0plus= 0.08249999999999999 D_cross= 7.500000749999999e-12 D_ec= 5e-10\n"
     ]
    },
    {
     "name": "stderr",
     "output_type": "stream",
     "text": [
      "At t = 0.00295515 and h = 1.84631e-016, the corrector convergence failed repeatedly or with |h| = hmin.\n",
      "At t = 0.00295841 and h = 4.40262e-017, the corrector convergence failed repeatedly or with |h| = hmin.\n",
      "At t = 0.000459428 and h = 3.56761e-015, the corrector convergence failed repeatedly or with |h| = hmin.\n",
      "psetup failed: .../casadi/interfaces/sundials/idas_interface.cpp:849: Calculating Jacobian failed\n",
      "At t = 0.000454865 and h = 2.16443e-015, the corrector convergence failed repeatedly or with |h| = hmin.\n",
      "At t = 0.000459955 and h = 2.62845e-014, the corrector convergence failed repeatedly or with |h| = hmin.\n",
      "At t = 0.000142144 and h = 2.22596e-015, the corrector convergence failed repeatedly or with |h| = hmin.\n",
      "psetup failed: .../casadi/interfaces/sundials/idas_interface.cpp:849: Calculating Jacobian failed\n",
      "At t = 0.00015248 and h = 3.14258e-015, the corrector convergence failed repeatedly or with |h| = hmin.\n",
      "At t = 6.87211e-005 and h = 3.57187e-014, the corrector convergence failed repeatedly or with |h| = hmin.\n",
      "psetup failed: .../casadi/interfaces/sundials/idas_interface.cpp:849: Calculating Jacobian failed\n",
      "At t = 2.65812e-005 and h = 3.39763e-014, the corrector convergence failed repeatedly or with |h| = hmin.\n",
      "The linesearch algorithm failed with too small a step.\n",
      "The linesearch algorithm failed with too small a step.\n",
      "The linesearch algorithm failed with too small a step.\n",
      "The linesearch algorithm failed with too small a step.\n",
      "The linesearch algorithm failed with too small a step.\n",
      "2022-10-06 13:27:40.441 - [ERROR] callbacks.on_experiment_error(226): Simulation error: Maximum number of decreased steps occurred at t=33.390392454726324. Try solving the model up to this time only or reducing dt_max (currently, dt_max=3.5458164923888056) and/or reducing the size of the time steps or period of the experiment.\n"
     ]
    },
    {
     "name": "stdout",
     "output_type": "stream",
     "text": [
      "Succeed for:  Xi= -1.6 t_0plus= 0.08249999999999999 D_cross= 1.1250000375e-11 D_ec= 5e-14\n",
      "Succeed for:  Xi= -1.6 t_0plus= 0.08249999999999999 D_cross= 1.1250000375e-11 D_ec= 1.250375e-10\n"
     ]
    },
    {
     "name": "stderr",
     "output_type": "stream",
     "text": [
      "The linesearch algorithm failed with too small a step.\n",
      "The linesearch algorithm failed with too small a step.\n"
     ]
    },
    {
     "name": "stdout",
     "output_type": "stream",
     "text": [
      "Succeed for:  Xi= -1.6 t_0plus= 0.08249999999999999 D_cross= 1.1250000375e-11 D_ec= 2.50025e-10\n"
     ]
    },
    {
     "name": "stderr",
     "output_type": "stream",
     "text": [
      "The linesearch algorithm failed with too small a step.\n",
      "The linesearch algorithm failed with too small a step.\n"
     ]
    },
    {
     "name": "stdout",
     "output_type": "stream",
     "text": [
      "Succeed for:  Xi= -1.6 t_0plus= 0.08249999999999999 D_cross= 1.1250000375e-11 D_ec= 3.750125e-10\n"
     ]
    },
    {
     "name": "stderr",
     "output_type": "stream",
     "text": [
      "The linesearch algorithm failed with too small a step.\n",
      "The linesearch algorithm failed with too small a step.\n"
     ]
    },
    {
     "name": "stdout",
     "output_type": "stream",
     "text": [
      "Succeed for:  Xi= -1.6 t_0plus= 0.08249999999999999 D_cross= 1.1250000375e-11 D_ec= 5e-10\n"
     ]
    },
    {
     "name": "stderr",
     "output_type": "stream",
     "text": [
      "At t = 0.00112725 and h = 1.55935e-018, the corrector convergence failed repeatedly or with |h| = hmin.\n",
      "At t = 0.00112301 and h = 1.45235e-020, the corrector convergence failed repeatedly or with |h| = hmin.\n",
      "At t = 0.00112301 and h = 1.45053e-020, the corrector convergence failed repeatedly or with |h| = hmin.\n",
      "psetup failed: .../casadi/interfaces/sundials/idas_interface.cpp:852: Linear solve failed\n",
      "psetup failed: .../casadi/interfaces/sundials/idas_interface.cpp:849: Calculating Jacobian failed\n",
      "At t = 0.00112425 and h = 6.71233e-017, the corrector convergence failed repeatedly or with |h| = hmin.\n",
      "2022-10-06 13:28:15.202 - [ERROR] callbacks.on_experiment_error(226): Simulation error: Maximum number of decreased steps occurred at t=0.0. Try solving the model up to this time only or reducing dt_max (currently, dt_max=7.091632984777611) and/or reducing the size of the time steps or period of the experiment.\n"
     ]
    },
    {
     "name": "stdout",
     "output_type": "stream",
     "text": [
      "Traceback (most recent call last):\n",
      "  File \"C:\\Users\\rl1120\\AppData\\Local\\Temp\\ipykernel_16444\\920439172.py\", line 16, in <cell line: 11>\n",
      "    Sol_ddiff    = Sim_ddiff.solve(\n",
      "  File \"d:\\gitpybamm\\lrh_409\\lrh_409\\envsolcon\\pybamm-gem\\pybamm\\simulation.py\", line 843, in solve\n",
      "    raise e\n",
      "  File \"d:\\gitpybamm\\lrh_409\\lrh_409\\envsolcon\\pybamm-gem\\pybamm\\simulation.py\", line 829, in solve\n",
      "    step_solution = solver.step(\n",
      "  File \"d:\\gitpybamm\\lrh_409\\lrh_409\\envsolcon\\pybamm-gem\\pybamm\\solvers\\base_solver.py\", line 1322, in step\n",
      "    solution = self._integrate(model, t_eval, ext_and_inputs)\n",
      "  File \"d:\\gitpybamm\\lrh_409\\lrh_409\\envsolcon\\pybamm-gem\\pybamm\\solvers\\casadi_solver.py\", line 266, in _integrate\n",
      "    raise pybamm.SolverError(\n",
      "pybamm.expression_tree.exceptions.SolverError: Maximum number of decreased steps occurred at t=0.0. Try solving the model up to this time only or reducing dt_max (currently, dt_max=7.091632984777611) and/or reducing the size of the time steps or period of the experiment.\n",
      "\n",
      "Fail for:  Xi= -1.6 t_0plus= 0.08249999999999999 D_cross= 1.5e-11 D_ec= 5e-14\n",
      "Succeed for:  Xi= -1.6 t_0plus= 0.08249999999999999 D_cross= 1.5e-11 D_ec= 1.250375e-10\n",
      "Succeed for:  Xi= -1.6 t_0plus= 0.08249999999999999 D_cross= 1.5e-11 D_ec= 2.50025e-10\n",
      "Succeed for:  Xi= -1.6 t_0plus= 0.08249999999999999 D_cross= 1.5e-11 D_ec= 3.750125e-10\n",
      "Succeed for:  Xi= -1.6 t_0plus= 0.08249999999999999 D_cross= 1.5e-11 D_ec= 5e-10\n"
     ]
    },
    {
     "name": "stderr",
     "output_type": "stream",
     "text": [
      "psetup failed: .../casadi/interfaces/sundials/idas_interface.cpp:849: Calculating Jacobian failed\n",
      "psetup failed: .../casadi/interfaces/sundials/idas_interface.cpp:849: Calculating Jacobian failed\n",
      "psetup failed: .../casadi/interfaces/sundials/idas_interface.cpp:849: Calculating Jacobian failed\n",
      "psetup failed: .../casadi/interfaces/sundials/idas_interface.cpp:849: Calculating Jacobian failed\n",
      "At t = 0.00422356 and h = 4.89328e-018, the corrector convergence failed repeatedly or with |h| = hmin.\n",
      "psetup failed: .../casadi/interfaces/sundials/idas_interface.cpp:849: Calculating Jacobian failed\n",
      "psetup failed: .../casadi/interfaces/sundials/idas_interface.cpp:849: Calculating Jacobian failed\n",
      "psetup failed: .../casadi/interfaces/sundials/idas_interface.cpp:849: Calculating Jacobian failed\n",
      "psetup failed: .../casadi/interfaces/sundials/idas_interface.cpp:849: Calculating Jacobian failed\n",
      "At t = 0.00422357 and h = 4.54914e-019, the corrector convergence failed repeatedly or with |h| = hmin.\n",
      "CasADi -  WARNING(\"roots:g failed: Inf detected for output x, at (row 20, col 0).\") [.../casadi/core/oracle_function.cpp:265]\n"
     ]
    },
    {
     "name": "stdout",
     "output_type": "stream",
     "text": [
      "Succeed for:  Xi= -1.6 t_0plus= 0.155 D_cross= 1.5e-18 D_ec= 5e-14\n",
      "Succeed for:  Xi= -1.6 t_0plus= 0.155 D_cross= 1.5e-18 D_ec= 1.250375e-10\n",
      "Succeed for:  Xi= -1.6 t_0plus= 0.155 D_cross= 1.5e-18 D_ec= 2.50025e-10\n",
      "Succeed for:  Xi= -1.6 t_0plus= 0.155 D_cross= 1.5e-18 D_ec= 3.750125e-10\n"
     ]
    },
    {
     "name": "stderr",
     "output_type": "stream",
     "text": [
      "The linesearch algorithm failed with too small a step.\n",
      "The linesearch algorithm failed with too small a step.\n",
      "The linesearch algorithm failed with too small a step.\n",
      "The linesearch algorithm failed with too small a step.\n",
      "2022-10-06 13:29:14.498 - [ERROR] callbacks.on_experiment_error(226): Simulation error: Maximum number of decreased steps occurred at t=2836.396685737494. Try solving the model up to this time only or reducing dt_max (currently, dt_max=7.091632984777611) and/or reducing the size of the time steps or period of the experiment.\n"
     ]
    },
    {
     "name": "stdout",
     "output_type": "stream",
     "text": [
      "Succeed for:  Xi= -1.6 t_0plus= 0.155 D_cross= 1.5e-18 D_ec= 5e-10\n"
     ]
    },
    {
     "name": "stderr",
     "output_type": "stream",
     "text": [
      "At t = 0.00435476 and h = 1.75233e-013, the corrector convergence failed repeatedly or with |h| = hmin.\n",
      "At t = 0.00447974 and h = 1.39652e-013, the corrector convergence failed repeatedly or with |h| = hmin.\n",
      "At t = 0.00204425 and h = 1.02455e-013, the corrector convergence failed repeatedly or with |h| = hmin.\n",
      "At t = 0.000741724 and h = 1.99431e-013, the corrector convergence failed repeatedly or with |h| = hmin.\n",
      "At t = 0.000745667 and h = 4.45604e-013, the corrector convergence failed repeatedly or with |h| = hmin.\n",
      "At t = 0.000742687 and h = 3.96952e-013, the corrector convergence failed repeatedly or with |h| = hmin.\n",
      "At t = 0.000760742 and h = 1.40407e-013, the corrector convergence failed repeatedly or with |h| = hmin.\n",
      "2022-10-06 13:29:34.637 - [ERROR] callbacks.on_experiment_error(226): Simulation error: Maximum number of decreased steps occurred at t=101.4042175786639. Try solving the model up to this time only or reducing dt_max (currently, dt_max=7.091632984777611) and/or reducing the size of the time steps or period of the experiment.\n"
     ]
    },
    {
     "name": "stdout",
     "output_type": "stream",
     "text": [
      "Succeed for:  Xi= -1.6 t_0plus= 0.155 D_cross= 3.750001125e-12 D_ec= 5e-14\n",
      "Succeed for:  Xi= -1.6 t_0plus= 0.155 D_cross= 3.750001125e-12 D_ec= 1.250375e-10\n"
     ]
    },
    {
     "name": "stderr",
     "output_type": "stream",
     "text": [
      "The linesearch algorithm failed with too small a step.\n",
      "The linesearch algorithm failed with too small a step.\n",
      "The linesearch algorithm failed with too small a step.\n"
     ]
    },
    {
     "name": "stdout",
     "output_type": "stream",
     "text": [
      "Succeed for:  Xi= -1.6 t_0plus= 0.155 D_cross= 3.750001125e-12 D_ec= 2.50025e-10\n"
     ]
    },
    {
     "name": "stderr",
     "output_type": "stream",
     "text": [
      "The linesearch algorithm failed with too small a step.\n",
      "The linesearch algorithm failed with too small a step.\n",
      "At t = 0 and h = 1.82249e-013, the error test failed repeatedly or with |h| = hmin.\n"
     ]
    },
    {
     "name": "stdout",
     "output_type": "stream",
     "text": [
      "Succeed for:  Xi= -1.6 t_0plus= 0.155 D_cross= 3.750001125e-12 D_ec= 3.750125e-10\n",
      "Succeed for:  Xi= -1.6 t_0plus= 0.155 D_cross= 3.750001125e-12 D_ec= 5e-10\n"
     ]
    },
    {
     "name": "stderr",
     "output_type": "stream",
     "text": [
      "psetup failed: .../casadi/interfaces/sundials/idas_interface.cpp:849: Calculating Jacobian failed\n",
      "At t = 0.00183412 and h = 1.57039e-013, the corrector convergence failed repeatedly or with |h| = hmin.\n",
      "psetup failed: .../casadi/interfaces/sundials/idas_interface.cpp:852: Linear solve failed\n",
      "At t = 0.00190093 and h = 1.10972e-013, the corrector convergence failed repeatedly or with |h| = hmin.\n",
      "At t = 0.00183167 and h = 2.89919e-013, the corrector convergence failed repeatedly or with |h| = hmin.\n",
      "At t = 0.000651539 and h = 3.93465e-014, the corrector convergence failed repeatedly or with |h| = hmin.\n",
      "At t = 0.000598445 and h = 1.81961e-013, the corrector convergence failed repeatedly or with |h| = hmin.\n",
      "psetup failed: .../casadi/interfaces/sundials/idas_interface.cpp:849: Calculating Jacobian failed\n",
      "psetup failed: .../casadi/interfaces/sundials/idas_interface.cpp:849: Calculating Jacobian failed\n",
      "psetup failed: .../casadi/interfaces/sundials/idas_interface.cpp:852: Linear solve failed\n",
      "At t = 0.000435836 and h = 9.25278e-014, the corrector convergence failed repeatedly or with |h| = hmin.\n",
      "At t = 0.000384044 and h = 1.59325e-013, the corrector convergence failed repeatedly or with |h| = hmin.\n",
      "At t = 0.000423516 and h = 5.10371e-014, the corrector convergence failed repeatedly or with |h| = hmin.\n",
      "At t = 0.000419453 and h = 6.19495e-014, the corrector convergence failed repeatedly or with |h| = hmin.\n",
      "At t = 0.000419755 and h = 9.41881e-014, the corrector convergence failed repeatedly or with |h| = hmin.\n",
      "2022-10-06 13:30:36.750 - [ERROR] callbacks.on_experiment_error(226): Simulation error: Maximum number of decreased steps occurred at t=76.67688223887008. Try solving the model up to this time only or reducing dt_max (currently, dt_max=3.5458164923888056) and/or reducing the size of the time steps or period of the experiment.\n"
     ]
    },
    {
     "name": "stdout",
     "output_type": "stream",
     "text": [
      "Succeed for:  Xi= -1.6 t_0plus= 0.155 D_cross= 7.500000749999999e-12 D_ec= 5e-14\n",
      "Succeed for:  Xi= -1.6 t_0plus= 0.155 D_cross= 7.500000749999999e-12 D_ec= 1.250375e-10\n",
      "Succeed for:  Xi= -1.6 t_0plus= 0.155 D_cross= 7.500000749999999e-12 D_ec= 2.50025e-10\n",
      "Succeed for:  Xi= -1.6 t_0plus= 0.155 D_cross= 7.500000749999999e-12 D_ec= 3.750125e-10\n",
      "Succeed for:  Xi= -1.6 t_0plus= 0.155 D_cross= 7.500000749999999e-12 D_ec= 5e-10\n"
     ]
    },
    {
     "name": "stderr",
     "output_type": "stream",
     "text": [
      "At t = 0.00295515 and h = 1.84631e-016, the corrector convergence failed repeatedly or with |h| = hmin.\n",
      "At t = 0.00295841 and h = 4.40262e-017, the corrector convergence failed repeatedly or with |h| = hmin.\n",
      "At t = 0.000459428 and h = 3.56761e-015, the corrector convergence failed repeatedly or with |h| = hmin.\n",
      "psetup failed: .../casadi/interfaces/sundials/idas_interface.cpp:849: Calculating Jacobian failed\n",
      "At t = 0.000454865 and h = 2.16443e-015, the corrector convergence failed repeatedly or with |h| = hmin.\n",
      "At t = 0.000459955 and h = 2.62845e-014, the corrector convergence failed repeatedly or with |h| = hmin.\n",
      "At t = 0.000142144 and h = 2.22596e-015, the corrector convergence failed repeatedly or with |h| = hmin.\n",
      "psetup failed: .../casadi/interfaces/sundials/idas_interface.cpp:849: Calculating Jacobian failed\n",
      "At t = 0.00015248 and h = 3.14258e-015, the corrector convergence failed repeatedly or with |h| = hmin.\n",
      "At t = 6.87211e-005 and h = 3.57187e-014, the corrector convergence failed repeatedly or with |h| = hmin.\n",
      "psetup failed: .../casadi/interfaces/sundials/idas_interface.cpp:849: Calculating Jacobian failed\n",
      "At t = 2.65812e-005 and h = 3.39763e-014, the corrector convergence failed repeatedly or with |h| = hmin.\n",
      "The linesearch algorithm failed with too small a step.\n",
      "The linesearch algorithm failed with too small a step.\n",
      "The linesearch algorithm failed with too small a step.\n",
      "The linesearch algorithm failed with too small a step.\n",
      "The linesearch algorithm failed with too small a step.\n",
      "2022-10-06 13:31:16.685 - [ERROR] callbacks.on_experiment_error(226): Simulation error: Maximum number of decreased steps occurred at t=33.390392454726324. Try solving the model up to this time only or reducing dt_max (currently, dt_max=3.5458164923888056) and/or reducing the size of the time steps or period of the experiment.\n"
     ]
    },
    {
     "name": "stdout",
     "output_type": "stream",
     "text": [
      "Succeed for:  Xi= -1.6 t_0plus= 0.155 D_cross= 1.1250000375e-11 D_ec= 5e-14\n",
      "Succeed for:  Xi= -1.6 t_0plus= 0.155 D_cross= 1.1250000375e-11 D_ec= 1.250375e-10\n"
     ]
    },
    {
     "name": "stderr",
     "output_type": "stream",
     "text": [
      "The linesearch algorithm failed with too small a step.\n",
      "The linesearch algorithm failed with too small a step.\n"
     ]
    },
    {
     "name": "stdout",
     "output_type": "stream",
     "text": [
      "Succeed for:  Xi= -1.6 t_0plus= 0.155 D_cross= 1.1250000375e-11 D_ec= 2.50025e-10\n"
     ]
    },
    {
     "name": "stderr",
     "output_type": "stream",
     "text": [
      "The linesearch algorithm failed with too small a step.\n",
      "The linesearch algorithm failed with too small a step.\n"
     ]
    },
    {
     "name": "stdout",
     "output_type": "stream",
     "text": [
      "Succeed for:  Xi= -1.6 t_0plus= 0.155 D_cross= 1.1250000375e-11 D_ec= 3.750125e-10\n"
     ]
    },
    {
     "name": "stderr",
     "output_type": "stream",
     "text": [
      "The linesearch algorithm failed with too small a step.\n",
      "The linesearch algorithm failed with too small a step.\n"
     ]
    },
    {
     "name": "stdout",
     "output_type": "stream",
     "text": [
      "Succeed for:  Xi= -1.6 t_0plus= 0.155 D_cross= 1.1250000375e-11 D_ec= 5e-10\n"
     ]
    },
    {
     "name": "stderr",
     "output_type": "stream",
     "text": [
      "At t = 0.00112725 and h = 1.55935e-018, the corrector convergence failed repeatedly or with |h| = hmin.\n",
      "At t = 0.00112301 and h = 1.45235e-020, the corrector convergence failed repeatedly or with |h| = hmin.\n",
      "At t = 0.00112301 and h = 1.45053e-020, the corrector convergence failed repeatedly or with |h| = hmin.\n",
      "psetup failed: .../casadi/interfaces/sundials/idas_interface.cpp:852: Linear solve failed\n",
      "psetup failed: .../casadi/interfaces/sundials/idas_interface.cpp:849: Calculating Jacobian failed\n",
      "At t = 0.00112425 and h = 6.71233e-017, the corrector convergence failed repeatedly or with |h| = hmin.\n",
      "2022-10-06 13:31:52.848 - [ERROR] callbacks.on_experiment_error(226): Simulation error: Maximum number of decreased steps occurred at t=0.0. Try solving the model up to this time only or reducing dt_max (currently, dt_max=7.091632984777611) and/or reducing the size of the time steps or period of the experiment.\n"
     ]
    },
    {
     "name": "stdout",
     "output_type": "stream",
     "text": [
      "Traceback (most recent call last):\n",
      "  File \"C:\\Users\\rl1120\\AppData\\Local\\Temp\\ipykernel_16444\\920439172.py\", line 16, in <cell line: 11>\n",
      "    Sol_ddiff    = Sim_ddiff.solve(\n",
      "  File \"d:\\gitpybamm\\lrh_409\\lrh_409\\envsolcon\\pybamm-gem\\pybamm\\simulation.py\", line 843, in solve\n",
      "    raise e\n",
      "  File \"d:\\gitpybamm\\lrh_409\\lrh_409\\envsolcon\\pybamm-gem\\pybamm\\simulation.py\", line 829, in solve\n",
      "    step_solution = solver.step(\n",
      "  File \"d:\\gitpybamm\\lrh_409\\lrh_409\\envsolcon\\pybamm-gem\\pybamm\\solvers\\base_solver.py\", line 1322, in step\n",
      "    solution = self._integrate(model, t_eval, ext_and_inputs)\n",
      "  File \"d:\\gitpybamm\\lrh_409\\lrh_409\\envsolcon\\pybamm-gem\\pybamm\\solvers\\casadi_solver.py\", line 266, in _integrate\n",
      "    raise pybamm.SolverError(\n",
      "pybamm.expression_tree.exceptions.SolverError: Maximum number of decreased steps occurred at t=0.0. Try solving the model up to this time only or reducing dt_max (currently, dt_max=7.091632984777611) and/or reducing the size of the time steps or period of the experiment.\n",
      "\n",
      "Fail for:  Xi= -1.6 t_0plus= 0.155 D_cross= 1.5e-11 D_ec= 5e-14\n",
      "Succeed for:  Xi= -1.6 t_0plus= 0.155 D_cross= 1.5e-11 D_ec= 1.250375e-10\n",
      "Succeed for:  Xi= -1.6 t_0plus= 0.155 D_cross= 1.5e-11 D_ec= 2.50025e-10\n",
      "Succeed for:  Xi= -1.6 t_0plus= 0.155 D_cross= 1.5e-11 D_ec= 3.750125e-10\n",
      "Succeed for:  Xi= -1.6 t_0plus= 0.155 D_cross= 1.5e-11 D_ec= 5e-10\n"
     ]
    },
    {
     "name": "stderr",
     "output_type": "stream",
     "text": [
      "psetup failed: .../casadi/interfaces/sundials/idas_interface.cpp:849: Calculating Jacobian failed\n",
      "psetup failed: .../casadi/interfaces/sundials/idas_interface.cpp:849: Calculating Jacobian failed\n",
      "psetup failed: .../casadi/interfaces/sundials/idas_interface.cpp:849: Calculating Jacobian failed\n",
      "psetup failed: .../casadi/interfaces/sundials/idas_interface.cpp:849: Calculating Jacobian failed\n",
      "At t = 0.00422356 and h = 4.89328e-018, the corrector convergence failed repeatedly or with |h| = hmin.\n",
      "psetup failed: .../casadi/interfaces/sundials/idas_interface.cpp:849: Calculating Jacobian failed\n",
      "psetup failed: .../casadi/interfaces/sundials/idas_interface.cpp:849: Calculating Jacobian failed\n",
      "psetup failed: .../casadi/interfaces/sundials/idas_interface.cpp:849: Calculating Jacobian failed\n",
      "psetup failed: .../casadi/interfaces/sundials/idas_interface.cpp:849: Calculating Jacobian failed\n",
      "At t = 0.00422357 and h = 4.54914e-019, the corrector convergence failed repeatedly or with |h| = hmin.\n",
      "CasADi -  WARNING(\"roots:g failed: Inf detected for output x, at (row 20, col 0).\") [.../casadi/core/oracle_function.cpp:265]\n"
     ]
    },
    {
     "name": "stdout",
     "output_type": "stream",
     "text": [
      "Succeed for:  Xi= -1.6 t_0plus= 0.22749999999999998 D_cross= 1.5e-18 D_ec= 5e-14\n",
      "Succeed for:  Xi= -1.6 t_0plus= 0.22749999999999998 D_cross= 1.5e-18 D_ec= 1.250375e-10\n",
      "Succeed for:  Xi= -1.6 t_0plus= 0.22749999999999998 D_cross= 1.5e-18 D_ec= 2.50025e-10\n",
      "Succeed for:  Xi= -1.6 t_0plus= 0.22749999999999998 D_cross= 1.5e-18 D_ec= 3.750125e-10\n"
     ]
    },
    {
     "name": "stderr",
     "output_type": "stream",
     "text": [
      "The linesearch algorithm failed with too small a step.\n",
      "The linesearch algorithm failed with too small a step.\n",
      "The linesearch algorithm failed with too small a step.\n",
      "The linesearch algorithm failed with too small a step.\n",
      "2022-10-06 13:32:51.250 - [ERROR] callbacks.on_experiment_error(226): Simulation error: Maximum number of decreased steps occurred at t=2836.396685737494. Try solving the model up to this time only or reducing dt_max (currently, dt_max=7.091632984777611) and/or reducing the size of the time steps or period of the experiment.\n"
     ]
    },
    {
     "name": "stdout",
     "output_type": "stream",
     "text": [
      "Succeed for:  Xi= -1.6 t_0plus= 0.22749999999999998 D_cross= 1.5e-18 D_ec= 5e-10\n"
     ]
    },
    {
     "name": "stderr",
     "output_type": "stream",
     "text": [
      "At t = 0.00435476 and h = 1.75233e-013, the corrector convergence failed repeatedly or with |h| = hmin.\n",
      "At t = 0.00447974 and h = 1.39652e-013, the corrector convergence failed repeatedly or with |h| = hmin.\n",
      "At t = 0.00204425 and h = 1.02455e-013, the corrector convergence failed repeatedly or with |h| = hmin.\n",
      "At t = 0.000741724 and h = 1.99431e-013, the corrector convergence failed repeatedly or with |h| = hmin.\n",
      "At t = 0.000745667 and h = 4.45604e-013, the corrector convergence failed repeatedly or with |h| = hmin.\n",
      "At t = 0.000742687 and h = 3.96952e-013, the corrector convergence failed repeatedly or with |h| = hmin.\n",
      "At t = 0.000760742 and h = 1.40407e-013, the corrector convergence failed repeatedly or with |h| = hmin.\n",
      "2022-10-06 13:33:11.727 - [ERROR] callbacks.on_experiment_error(226): Simulation error: Maximum number of decreased steps occurred at t=101.4042175786639. Try solving the model up to this time only or reducing dt_max (currently, dt_max=7.091632984777611) and/or reducing the size of the time steps or period of the experiment.\n"
     ]
    },
    {
     "name": "stdout",
     "output_type": "stream",
     "text": [
      "Succeed for:  Xi= -1.6 t_0plus= 0.22749999999999998 D_cross= 3.750001125e-12 D_ec= 5e-14\n",
      "Succeed for:  Xi= -1.6 t_0plus= 0.22749999999999998 D_cross= 3.750001125e-12 D_ec= 1.250375e-10\n"
     ]
    },
    {
     "name": "stderr",
     "output_type": "stream",
     "text": [
      "The linesearch algorithm failed with too small a step.\n",
      "The linesearch algorithm failed with too small a step.\n",
      "The linesearch algorithm failed with too small a step.\n"
     ]
    },
    {
     "name": "stdout",
     "output_type": "stream",
     "text": [
      "Succeed for:  Xi= -1.6 t_0plus= 0.22749999999999998 D_cross= 3.750001125e-12 D_ec= 2.50025e-10\n"
     ]
    },
    {
     "name": "stderr",
     "output_type": "stream",
     "text": [
      "The linesearch algorithm failed with too small a step.\n",
      "The linesearch algorithm failed with too small a step.\n",
      "At t = 0 and h = 1.82249e-013, the error test failed repeatedly or with |h| = hmin.\n"
     ]
    },
    {
     "name": "stdout",
     "output_type": "stream",
     "text": [
      "Succeed for:  Xi= -1.6 t_0plus= 0.22749999999999998 D_cross= 3.750001125e-12 D_ec= 3.750125e-10\n",
      "Succeed for:  Xi= -1.6 t_0plus= 0.22749999999999998 D_cross= 3.750001125e-12 D_ec= 5e-10\n"
     ]
    },
    {
     "name": "stderr",
     "output_type": "stream",
     "text": [
      "psetup failed: .../casadi/interfaces/sundials/idas_interface.cpp:849: Calculating Jacobian failed\n",
      "At t = 0.00183412 and h = 1.57039e-013, the corrector convergence failed repeatedly or with |h| = hmin.\n",
      "psetup failed: .../casadi/interfaces/sundials/idas_interface.cpp:852: Linear solve failed\n",
      "At t = 0.00190093 and h = 1.10972e-013, the corrector convergence failed repeatedly or with |h| = hmin.\n",
      "At t = 0.00183167 and h = 2.89919e-013, the corrector convergence failed repeatedly or with |h| = hmin.\n",
      "At t = 0.000651539 and h = 3.93465e-014, the corrector convergence failed repeatedly or with |h| = hmin.\n",
      "At t = 0.000598445 and h = 1.81961e-013, the corrector convergence failed repeatedly or with |h| = hmin.\n",
      "psetup failed: .../casadi/interfaces/sundials/idas_interface.cpp:849: Calculating Jacobian failed\n",
      "psetup failed: .../casadi/interfaces/sundials/idas_interface.cpp:849: Calculating Jacobian failed\n",
      "psetup failed: .../casadi/interfaces/sundials/idas_interface.cpp:852: Linear solve failed\n",
      "At t = 0.000435836 and h = 9.25278e-014, the corrector convergence failed repeatedly or with |h| = hmin.\n",
      "At t = 0.000384044 and h = 1.59325e-013, the corrector convergence failed repeatedly or with |h| = hmin.\n",
      "At t = 0.000423516 and h = 5.10371e-014, the corrector convergence failed repeatedly or with |h| = hmin.\n",
      "At t = 0.000419453 and h = 6.19495e-014, the corrector convergence failed repeatedly or with |h| = hmin.\n",
      "At t = 0.000419755 and h = 9.41881e-014, the corrector convergence failed repeatedly or with |h| = hmin.\n",
      "2022-10-06 13:34:13.129 - [ERROR] callbacks.on_experiment_error(226): Simulation error: Maximum number of decreased steps occurred at t=76.67688223887008. Try solving the model up to this time only or reducing dt_max (currently, dt_max=3.5458164923888056) and/or reducing the size of the time steps or period of the experiment.\n"
     ]
    },
    {
     "name": "stdout",
     "output_type": "stream",
     "text": [
      "Succeed for:  Xi= -1.6 t_0plus= 0.22749999999999998 D_cross= 7.500000749999999e-12 D_ec= 5e-14\n",
      "Succeed for:  Xi= -1.6 t_0plus= 0.22749999999999998 D_cross= 7.500000749999999e-12 D_ec= 1.250375e-10\n",
      "Succeed for:  Xi= -1.6 t_0plus= 0.22749999999999998 D_cross= 7.500000749999999e-12 D_ec= 2.50025e-10\n",
      "Succeed for:  Xi= -1.6 t_0plus= 0.22749999999999998 D_cross= 7.500000749999999e-12 D_ec= 3.750125e-10\n",
      "Succeed for:  Xi= -1.6 t_0plus= 0.22749999999999998 D_cross= 7.500000749999999e-12 D_ec= 5e-10\n"
     ]
    },
    {
     "name": "stderr",
     "output_type": "stream",
     "text": [
      "At t = 0.00295515 and h = 1.84631e-016, the corrector convergence failed repeatedly or with |h| = hmin.\n",
      "At t = 0.00295841 and h = 4.40262e-017, the corrector convergence failed repeatedly or with |h| = hmin.\n",
      "At t = 0.000459428 and h = 3.56761e-015, the corrector convergence failed repeatedly or with |h| = hmin.\n",
      "psetup failed: .../casadi/interfaces/sundials/idas_interface.cpp:849: Calculating Jacobian failed\n",
      "At t = 0.000454865 and h = 2.16443e-015, the corrector convergence failed repeatedly or with |h| = hmin.\n",
      "At t = 0.000459955 and h = 2.62845e-014, the corrector convergence failed repeatedly or with |h| = hmin.\n",
      "At t = 0.000142144 and h = 2.22596e-015, the corrector convergence failed repeatedly or with |h| = hmin.\n",
      "psetup failed: .../casadi/interfaces/sundials/idas_interface.cpp:849: Calculating Jacobian failed\n",
      "At t = 0.00015248 and h = 3.14258e-015, the corrector convergence failed repeatedly or with |h| = hmin.\n",
      "At t = 6.87211e-005 and h = 3.57187e-014, the corrector convergence failed repeatedly or with |h| = hmin.\n",
      "psetup failed: .../casadi/interfaces/sundials/idas_interface.cpp:849: Calculating Jacobian failed\n",
      "At t = 2.65812e-005 and h = 3.39763e-014, the corrector convergence failed repeatedly or with |h| = hmin.\n",
      "The linesearch algorithm failed with too small a step.\n",
      "The linesearch algorithm failed with too small a step.\n",
      "The linesearch algorithm failed with too small a step.\n",
      "The linesearch algorithm failed with too small a step.\n",
      "The linesearch algorithm failed with too small a step.\n",
      "2022-10-06 13:34:59.207 - [ERROR] callbacks.on_experiment_error(226): Simulation error: Maximum number of decreased steps occurred at t=33.390392454726324. Try solving the model up to this time only or reducing dt_max (currently, dt_max=3.5458164923888056) and/or reducing the size of the time steps or period of the experiment.\n"
     ]
    },
    {
     "name": "stdout",
     "output_type": "stream",
     "text": [
      "Succeed for:  Xi= -1.6 t_0plus= 0.22749999999999998 D_cross= 1.1250000375e-11 D_ec= 5e-14\n",
      "Succeed for:  Xi= -1.6 t_0plus= 0.22749999999999998 D_cross= 1.1250000375e-11 D_ec= 1.250375e-10\n"
     ]
    },
    {
     "name": "stderr",
     "output_type": "stream",
     "text": [
      "The linesearch algorithm failed with too small a step.\n",
      "The linesearch algorithm failed with too small a step.\n"
     ]
    },
    {
     "name": "stdout",
     "output_type": "stream",
     "text": [
      "Succeed for:  Xi= -1.6 t_0plus= 0.22749999999999998 D_cross= 1.1250000375e-11 D_ec= 2.50025e-10\n"
     ]
    },
    {
     "name": "stderr",
     "output_type": "stream",
     "text": [
      "The linesearch algorithm failed with too small a step.\n",
      "The linesearch algorithm failed with too small a step.\n"
     ]
    },
    {
     "name": "stdout",
     "output_type": "stream",
     "text": [
      "Succeed for:  Xi= -1.6 t_0plus= 0.22749999999999998 D_cross= 1.1250000375e-11 D_ec= 3.750125e-10\n"
     ]
    },
    {
     "name": "stderr",
     "output_type": "stream",
     "text": [
      "The linesearch algorithm failed with too small a step.\n",
      "The linesearch algorithm failed with too small a step.\n"
     ]
    },
    {
     "name": "stdout",
     "output_type": "stream",
     "text": [
      "Succeed for:  Xi= -1.6 t_0plus= 0.22749999999999998 D_cross= 1.1250000375e-11 D_ec= 5e-10\n"
     ]
    },
    {
     "name": "stderr",
     "output_type": "stream",
     "text": [
      "At t = 0.00112725 and h = 1.55935e-018, the corrector convergence failed repeatedly or with |h| = hmin.\n",
      "At t = 0.00112301 and h = 1.45235e-020, the corrector convergence failed repeatedly or with |h| = hmin.\n",
      "At t = 0.00112301 and h = 1.45053e-020, the corrector convergence failed repeatedly or with |h| = hmin.\n",
      "psetup failed: .../casadi/interfaces/sundials/idas_interface.cpp:852: Linear solve failed\n",
      "psetup failed: .../casadi/interfaces/sundials/idas_interface.cpp:849: Calculating Jacobian failed\n",
      "At t = 0.00112425 and h = 6.71233e-017, the corrector convergence failed repeatedly or with |h| = hmin.\n",
      "2022-10-06 13:35:39.700 - [ERROR] callbacks.on_experiment_error(226): Simulation error: Maximum number of decreased steps occurred at t=0.0. Try solving the model up to this time only or reducing dt_max (currently, dt_max=7.091632984777611) and/or reducing the size of the time steps or period of the experiment.\n"
     ]
    },
    {
     "name": "stdout",
     "output_type": "stream",
     "text": [
      "Traceback (most recent call last):\n",
      "  File \"C:\\Users\\rl1120\\AppData\\Local\\Temp\\ipykernel_16444\\920439172.py\", line 16, in <cell line: 11>\n",
      "    Sol_ddiff    = Sim_ddiff.solve(\n",
      "  File \"d:\\gitpybamm\\lrh_409\\lrh_409\\envsolcon\\pybamm-gem\\pybamm\\simulation.py\", line 843, in solve\n",
      "    raise e\n",
      "  File \"d:\\gitpybamm\\lrh_409\\lrh_409\\envsolcon\\pybamm-gem\\pybamm\\simulation.py\", line 829, in solve\n",
      "    step_solution = solver.step(\n",
      "  File \"d:\\gitpybamm\\lrh_409\\lrh_409\\envsolcon\\pybamm-gem\\pybamm\\solvers\\base_solver.py\", line 1322, in step\n",
      "    solution = self._integrate(model, t_eval, ext_and_inputs)\n",
      "  File \"d:\\gitpybamm\\lrh_409\\lrh_409\\envsolcon\\pybamm-gem\\pybamm\\solvers\\casadi_solver.py\", line 266, in _integrate\n",
      "    raise pybamm.SolverError(\n",
      "pybamm.expression_tree.exceptions.SolverError: Maximum number of decreased steps occurred at t=0.0. Try solving the model up to this time only or reducing dt_max (currently, dt_max=7.091632984777611) and/or reducing the size of the time steps or period of the experiment.\n",
      "\n",
      "Fail for:  Xi= -1.6 t_0plus= 0.22749999999999998 D_cross= 1.5e-11 D_ec= 5e-14\n",
      "Succeed for:  Xi= -1.6 t_0plus= 0.22749999999999998 D_cross= 1.5e-11 D_ec= 1.250375e-10\n",
      "Succeed for:  Xi= -1.6 t_0plus= 0.22749999999999998 D_cross= 1.5e-11 D_ec= 2.50025e-10\n",
      "Succeed for:  Xi= -1.6 t_0plus= 0.22749999999999998 D_cross= 1.5e-11 D_ec= 3.750125e-10\n",
      "Succeed for:  Xi= -1.6 t_0plus= 0.22749999999999998 D_cross= 1.5e-11 D_ec= 5e-10\n"
     ]
    },
    {
     "name": "stderr",
     "output_type": "stream",
     "text": [
      "psetup failed: .../casadi/interfaces/sundials/idas_interface.cpp:849: Calculating Jacobian failed\n",
      "psetup failed: .../casadi/interfaces/sundials/idas_interface.cpp:849: Calculating Jacobian failed\n",
      "psetup failed: .../casadi/interfaces/sundials/idas_interface.cpp:849: Calculating Jacobian failed\n",
      "psetup failed: .../casadi/interfaces/sundials/idas_interface.cpp:849: Calculating Jacobian failed\n",
      "At t = 0.00422356 and h = 4.89328e-018, the corrector convergence failed repeatedly or with |h| = hmin.\n",
      "psetup failed: .../casadi/interfaces/sundials/idas_interface.cpp:849: Calculating Jacobian failed\n",
      "psetup failed: .../casadi/interfaces/sundials/idas_interface.cpp:849: Calculating Jacobian failed\n",
      "psetup failed: .../casadi/interfaces/sundials/idas_interface.cpp:849: Calculating Jacobian failed\n",
      "psetup failed: .../casadi/interfaces/sundials/idas_interface.cpp:849: Calculating Jacobian failed\n",
      "At t = 0.00422357 and h = 4.54914e-019, the corrector convergence failed repeatedly or with |h| = hmin.\n",
      "CasADi -  WARNING(\"roots:g failed: Inf detected for output x, at (row 20, col 0).\") [.../casadi/core/oracle_function.cpp:265]\n"
     ]
    },
    {
     "name": "stdout",
     "output_type": "stream",
     "text": [
      "Succeed for:  Xi= -1.6 t_0plus= 0.3 D_cross= 1.5e-18 D_ec= 5e-14\n",
      "Succeed for:  Xi= -1.6 t_0plus= 0.3 D_cross= 1.5e-18 D_ec= 1.250375e-10\n",
      "Succeed for:  Xi= -1.6 t_0plus= 0.3 D_cross= 1.5e-18 D_ec= 2.50025e-10\n",
      "Succeed for:  Xi= -1.6 t_0plus= 0.3 D_cross= 1.5e-18 D_ec= 3.750125e-10\n"
     ]
    },
    {
     "name": "stderr",
     "output_type": "stream",
     "text": [
      "The linesearch algorithm failed with too small a step.\n",
      "The linesearch algorithm failed with too small a step.\n",
      "The linesearch algorithm failed with too small a step.\n",
      "The linesearch algorithm failed with too small a step.\n",
      "2022-10-06 13:36:47.759 - [ERROR] callbacks.on_experiment_error(226): Simulation error: Maximum number of decreased steps occurred at t=2836.396685737494. Try solving the model up to this time only or reducing dt_max (currently, dt_max=7.091632984777611) and/or reducing the size of the time steps or period of the experiment.\n"
     ]
    },
    {
     "name": "stdout",
     "output_type": "stream",
     "text": [
      "Succeed for:  Xi= -1.6 t_0plus= 0.3 D_cross= 1.5e-18 D_ec= 5e-10\n"
     ]
    },
    {
     "name": "stderr",
     "output_type": "stream",
     "text": [
      "At t = 0.00435476 and h = 1.75233e-013, the corrector convergence failed repeatedly or with |h| = hmin.\n",
      "At t = 0.00447974 and h = 1.39652e-013, the corrector convergence failed repeatedly or with |h| = hmin.\n",
      "At t = 0.00204425 and h = 1.02455e-013, the corrector convergence failed repeatedly or with |h| = hmin.\n",
      "At t = 0.000741724 and h = 1.99431e-013, the corrector convergence failed repeatedly or with |h| = hmin.\n",
      "At t = 0.000745667 and h = 4.45604e-013, the corrector convergence failed repeatedly or with |h| = hmin.\n",
      "At t = 0.000742687 and h = 3.96952e-013, the corrector convergence failed repeatedly or with |h| = hmin.\n",
      "At t = 0.000760742 and h = 1.40407e-013, the corrector convergence failed repeatedly or with |h| = hmin.\n",
      "2022-10-06 13:37:13.080 - [ERROR] callbacks.on_experiment_error(226): Simulation error: Maximum number of decreased steps occurred at t=101.4042175786639. Try solving the model up to this time only or reducing dt_max (currently, dt_max=7.091632984777611) and/or reducing the size of the time steps or period of the experiment.\n"
     ]
    },
    {
     "name": "stdout",
     "output_type": "stream",
     "text": [
      "Succeed for:  Xi= -1.6 t_0plus= 0.3 D_cross= 3.750001125e-12 D_ec= 5e-14\n",
      "Succeed for:  Xi= -1.6 t_0plus= 0.3 D_cross= 3.750001125e-12 D_ec= 1.250375e-10\n"
     ]
    },
    {
     "name": "stderr",
     "output_type": "stream",
     "text": [
      "The linesearch algorithm failed with too small a step.\n",
      "The linesearch algorithm failed with too small a step.\n",
      "The linesearch algorithm failed with too small a step.\n"
     ]
    },
    {
     "name": "stdout",
     "output_type": "stream",
     "text": [
      "Succeed for:  Xi= -1.6 t_0plus= 0.3 D_cross= 3.750001125e-12 D_ec= 2.50025e-10\n"
     ]
    },
    {
     "name": "stderr",
     "output_type": "stream",
     "text": [
      "The linesearch algorithm failed with too small a step.\n",
      "The linesearch algorithm failed with too small a step.\n",
      "At t = 0 and h = 1.82249e-013, the error test failed repeatedly or with |h| = hmin.\n"
     ]
    },
    {
     "name": "stdout",
     "output_type": "stream",
     "text": [
      "Succeed for:  Xi= -1.6 t_0plus= 0.3 D_cross= 3.750001125e-12 D_ec= 3.750125e-10\n",
      "Succeed for:  Xi= -1.6 t_0plus= 0.3 D_cross= 3.750001125e-12 D_ec= 5e-10\n"
     ]
    },
    {
     "name": "stderr",
     "output_type": "stream",
     "text": [
      "psetup failed: .../casadi/interfaces/sundials/idas_interface.cpp:849: Calculating Jacobian failed\n",
      "At t = 0.00183412 and h = 1.57039e-013, the corrector convergence failed repeatedly or with |h| = hmin.\n",
      "psetup failed: .../casadi/interfaces/sundials/idas_interface.cpp:852: Linear solve failed\n",
      "At t = 0.00190093 and h = 1.10972e-013, the corrector convergence failed repeatedly or with |h| = hmin.\n",
      "At t = 0.00183167 and h = 2.89919e-013, the corrector convergence failed repeatedly or with |h| = hmin.\n",
      "At t = 0.000651539 and h = 3.93465e-014, the corrector convergence failed repeatedly or with |h| = hmin.\n",
      "At t = 0.000598445 and h = 1.81961e-013, the corrector convergence failed repeatedly or with |h| = hmin.\n",
      "psetup failed: .../casadi/interfaces/sundials/idas_interface.cpp:849: Calculating Jacobian failed\n",
      "psetup failed: .../casadi/interfaces/sundials/idas_interface.cpp:849: Calculating Jacobian failed\n",
      "psetup failed: .../casadi/interfaces/sundials/idas_interface.cpp:852: Linear solve failed\n",
      "At t = 0.000435836 and h = 9.25278e-014, the corrector convergence failed repeatedly or with |h| = hmin.\n",
      "At t = 0.000384044 and h = 1.59325e-013, the corrector convergence failed repeatedly or with |h| = hmin.\n",
      "At t = 0.000423516 and h = 5.10371e-014, the corrector convergence failed repeatedly or with |h| = hmin.\n",
      "At t = 0.000419453 and h = 6.19495e-014, the corrector convergence failed repeatedly or with |h| = hmin.\n",
      "At t = 0.000419755 and h = 9.41881e-014, the corrector convergence failed repeatedly or with |h| = hmin.\n",
      "2022-10-06 13:38:27.175 - [ERROR] callbacks.on_experiment_error(226): Simulation error: Maximum number of decreased steps occurred at t=76.67688223887008. Try solving the model up to this time only or reducing dt_max (currently, dt_max=3.5458164923888056) and/or reducing the size of the time steps or period of the experiment.\n"
     ]
    },
    {
     "name": "stdout",
     "output_type": "stream",
     "text": [
      "Succeed for:  Xi= -1.6 t_0plus= 0.3 D_cross= 7.500000749999999e-12 D_ec= 5e-14\n",
      "Succeed for:  Xi= -1.6 t_0plus= 0.3 D_cross= 7.500000749999999e-12 D_ec= 1.250375e-10\n",
      "Succeed for:  Xi= -1.6 t_0plus= 0.3 D_cross= 7.500000749999999e-12 D_ec= 2.50025e-10\n",
      "Succeed for:  Xi= -1.6 t_0plus= 0.3 D_cross= 7.500000749999999e-12 D_ec= 3.750125e-10\n",
      "Succeed for:  Xi= -1.6 t_0plus= 0.3 D_cross= 7.500000749999999e-12 D_ec= 5e-10\n"
     ]
    },
    {
     "name": "stderr",
     "output_type": "stream",
     "text": [
      "At t = 0.00295515 and h = 1.84631e-016, the corrector convergence failed repeatedly or with |h| = hmin.\n",
      "At t = 0.00295841 and h = 4.40262e-017, the corrector convergence failed repeatedly or with |h| = hmin.\n",
      "At t = 0.000459428 and h = 3.56761e-015, the corrector convergence failed repeatedly or with |h| = hmin.\n",
      "psetup failed: .../casadi/interfaces/sundials/idas_interface.cpp:849: Calculating Jacobian failed\n",
      "At t = 0.000454865 and h = 2.16443e-015, the corrector convergence failed repeatedly or with |h| = hmin.\n",
      "At t = 0.000459955 and h = 2.62845e-014, the corrector convergence failed repeatedly or with |h| = hmin.\n",
      "At t = 0.000142144 and h = 2.22596e-015, the corrector convergence failed repeatedly or with |h| = hmin.\n",
      "psetup failed: .../casadi/interfaces/sundials/idas_interface.cpp:849: Calculating Jacobian failed\n",
      "At t = 0.00015248 and h = 3.14258e-015, the corrector convergence failed repeatedly or with |h| = hmin.\n",
      "At t = 6.87211e-005 and h = 3.57187e-014, the corrector convergence failed repeatedly or with |h| = hmin.\n",
      "psetup failed: .../casadi/interfaces/sundials/idas_interface.cpp:849: Calculating Jacobian failed\n",
      "At t = 2.65812e-005 and h = 3.39763e-014, the corrector convergence failed repeatedly or with |h| = hmin.\n",
      "The linesearch algorithm failed with too small a step.\n",
      "The linesearch algorithm failed with too small a step.\n",
      "The linesearch algorithm failed with too small a step.\n",
      "The linesearch algorithm failed with too small a step.\n",
      "The linesearch algorithm failed with too small a step.\n",
      "2022-10-06 13:39:15.906 - [ERROR] callbacks.on_experiment_error(226): Simulation error: Maximum number of decreased steps occurred at t=33.390392454726324. Try solving the model up to this time only or reducing dt_max (currently, dt_max=3.5458164923888056) and/or reducing the size of the time steps or period of the experiment.\n"
     ]
    },
    {
     "name": "stdout",
     "output_type": "stream",
     "text": [
      "Succeed for:  Xi= -1.6 t_0plus= 0.3 D_cross= 1.1250000375e-11 D_ec= 5e-14\n",
      "Succeed for:  Xi= -1.6 t_0plus= 0.3 D_cross= 1.1250000375e-11 D_ec= 1.250375e-10\n"
     ]
    },
    {
     "name": "stderr",
     "output_type": "stream",
     "text": [
      "The linesearch algorithm failed with too small a step.\n",
      "The linesearch algorithm failed with too small a step.\n"
     ]
    },
    {
     "name": "stdout",
     "output_type": "stream",
     "text": [
      "Succeed for:  Xi= -1.6 t_0plus= 0.3 D_cross= 1.1250000375e-11 D_ec= 2.50025e-10\n"
     ]
    },
    {
     "name": "stderr",
     "output_type": "stream",
     "text": [
      "The linesearch algorithm failed with too small a step.\n",
      "The linesearch algorithm failed with too small a step.\n"
     ]
    },
    {
     "name": "stdout",
     "output_type": "stream",
     "text": [
      "Succeed for:  Xi= -1.6 t_0plus= 0.3 D_cross= 1.1250000375e-11 D_ec= 3.750125e-10\n"
     ]
    },
    {
     "name": "stderr",
     "output_type": "stream",
     "text": [
      "The linesearch algorithm failed with too small a step.\n",
      "The linesearch algorithm failed with too small a step.\n"
     ]
    },
    {
     "name": "stdout",
     "output_type": "stream",
     "text": [
      "Succeed for:  Xi= -1.6 t_0plus= 0.3 D_cross= 1.1250000375e-11 D_ec= 5e-10\n"
     ]
    },
    {
     "name": "stderr",
     "output_type": "stream",
     "text": [
      "At t = 0.00112725 and h = 1.55935e-018, the corrector convergence failed repeatedly or with |h| = hmin.\n",
      "At t = 0.00112301 and h = 1.45235e-020, the corrector convergence failed repeatedly or with |h| = hmin.\n",
      "At t = 0.00112301 and h = 1.45053e-020, the corrector convergence failed repeatedly or with |h| = hmin.\n",
      "psetup failed: .../casadi/interfaces/sundials/idas_interface.cpp:852: Linear solve failed\n",
      "psetup failed: .../casadi/interfaces/sundials/idas_interface.cpp:849: Calculating Jacobian failed\n",
      "At t = 0.00112425 and h = 6.71233e-017, the corrector convergence failed repeatedly or with |h| = hmin.\n",
      "2022-10-06 13:39:57.778 - [ERROR] callbacks.on_experiment_error(226): Simulation error: Maximum number of decreased steps occurred at t=0.0. Try solving the model up to this time only or reducing dt_max (currently, dt_max=7.091632984777611) and/or reducing the size of the time steps or period of the experiment.\n"
     ]
    },
    {
     "name": "stdout",
     "output_type": "stream",
     "text": [
      "Traceback (most recent call last):\n",
      "  File \"C:\\Users\\rl1120\\AppData\\Local\\Temp\\ipykernel_16444\\920439172.py\", line 16, in <cell line: 11>\n",
      "    Sol_ddiff    = Sim_ddiff.solve(\n",
      "  File \"d:\\gitpybamm\\lrh_409\\lrh_409\\envsolcon\\pybamm-gem\\pybamm\\simulation.py\", line 843, in solve\n",
      "    raise e\n",
      "  File \"d:\\gitpybamm\\lrh_409\\lrh_409\\envsolcon\\pybamm-gem\\pybamm\\simulation.py\", line 829, in solve\n",
      "    step_solution = solver.step(\n",
      "  File \"d:\\gitpybamm\\lrh_409\\lrh_409\\envsolcon\\pybamm-gem\\pybamm\\solvers\\base_solver.py\", line 1322, in step\n",
      "    solution = self._integrate(model, t_eval, ext_and_inputs)\n",
      "  File \"d:\\gitpybamm\\lrh_409\\lrh_409\\envsolcon\\pybamm-gem\\pybamm\\solvers\\casadi_solver.py\", line 266, in _integrate\n",
      "    raise pybamm.SolverError(\n",
      "pybamm.expression_tree.exceptions.SolverError: Maximum number of decreased steps occurred at t=0.0. Try solving the model up to this time only or reducing dt_max (currently, dt_max=7.091632984777611) and/or reducing the size of the time steps or period of the experiment.\n",
      "\n",
      "Fail for:  Xi= -1.6 t_0plus= 0.3 D_cross= 1.5e-11 D_ec= 5e-14\n",
      "Succeed for:  Xi= -1.6 t_0plus= 0.3 D_cross= 1.5e-11 D_ec= 1.250375e-10\n",
      "Succeed for:  Xi= -1.6 t_0plus= 0.3 D_cross= 1.5e-11 D_ec= 2.50025e-10\n",
      "Succeed for:  Xi= -1.6 t_0plus= 0.3 D_cross= 1.5e-11 D_ec= 3.750125e-10\n",
      "Succeed for:  Xi= -1.6 t_0plus= 0.3 D_cross= 1.5e-11 D_ec= 5e-10\n"
     ]
    },
    {
     "name": "stderr",
     "output_type": "stream",
     "text": [
      "CasADi -  WARNING(\"roots:g failed: Inf detected for output x, at (row 20, col 0).\") [.../casadi/core/oracle_function.cpp:265]\n"
     ]
    },
    {
     "name": "stdout",
     "output_type": "stream",
     "text": [
      "Succeed for:  Xi= -1.4 t_0plus= 0.01 D_cross= 1.5e-18 D_ec= 5e-14\n",
      "Succeed for:  Xi= -1.4 t_0plus= 0.01 D_cross= 1.5e-18 D_ec= 1.250375e-10\n"
     ]
    },
    {
     "name": "stderr",
     "output_type": "stream",
     "text": [
      "The linesearch algorithm failed with too small a step.\n",
      "The linesearch algorithm failed with too small a step.\n"
     ]
    },
    {
     "name": "stdout",
     "output_type": "stream",
     "text": [
      "Succeed for:  Xi= -1.4 t_0plus= 0.01 D_cross= 1.5e-18 D_ec= 2.50025e-10\n"
     ]
    },
    {
     "name": "stderr",
     "output_type": "stream",
     "text": [
      "The linesearch algorithm failed with too small a step.\n",
      "The linesearch algorithm failed with too small a step.\n"
     ]
    },
    {
     "name": "stdout",
     "output_type": "stream",
     "text": [
      "Succeed for:  Xi= -1.4 t_0plus= 0.01 D_cross= 1.5e-18 D_ec= 3.750125e-10\n",
      "Succeed for:  Xi= -1.4 t_0plus= 0.01 D_cross= 1.5e-18 D_ec= 5e-10\n"
     ]
    },
    {
     "name": "stderr",
     "output_type": "stream",
     "text": [
      "At t = 0.000826375 and h = 3.03683e-013, the corrector convergence failed repeatedly or with |h| = hmin.\n",
      "At t = 0.000735835 and h = 3.36396e-013, the corrector convergence failed repeatedly or with |h| = hmin.\n",
      "At t = 0.000737429 and h = 2.2226e-013, the corrector convergence failed repeatedly or with |h| = hmin.\n",
      "At t = 0.000802933 and h = 2.41591e-013, the corrector convergence failed repeatedly or with |h| = hmin.\n",
      "2022-10-06 13:41:22.718 - [ERROR] callbacks.on_experiment_error(226): Simulation error: Maximum number of decreased steps occurred at t=115.54912569329367. Try solving the model up to this time only or reducing dt_max (currently, dt_max=7.091632984777611) and/or reducing the size of the time steps or period of the experiment.\n"
     ]
    },
    {
     "name": "stdout",
     "output_type": "stream",
     "text": [
      "Succeed for:  Xi= -1.4 t_0plus= 0.01 D_cross= 3.750001125e-12 D_ec= 5e-14\n",
      "Succeed for:  Xi= -1.4 t_0plus= 0.01 D_cross= 3.750001125e-12 D_ec= 1.250375e-10\n"
     ]
    },
    {
     "name": "stderr",
     "output_type": "stream",
     "text": [
      "At t = 0.00248959 and h = 1.11758e-011, the corrector convergence failed repeatedly or with |h| = hmin.\n",
      "The linesearch algorithm failed with too small a step.\n",
      "The linesearch algorithm failed with too small a step.\n",
      "The linesearch algorithm failed with too small a step.\n",
      "The linesearch algorithm failed with too small a step.\n",
      "2022-10-06 13:41:31.653 - [ERROR] callbacks.on_experiment_error(226): Simulation error: Maximum number of decreased steps occurred at t=2940.6519010136517. Try solving the model up to this time only or reducing dt_max (currently, dt_max=7.091632984777611) and/or reducing the size of the time steps or period of the experiment.\n"
     ]
    },
    {
     "name": "stdout",
     "output_type": "stream",
     "text": [
      "Succeed for:  Xi= -1.4 t_0plus= 0.01 D_cross= 3.750001125e-12 D_ec= 2.50025e-10\n",
      "Succeed for:  Xi= -1.4 t_0plus= 0.01 D_cross= 3.750001125e-12 D_ec= 3.750125e-10\n",
      "Succeed for:  Xi= -1.4 t_0plus= 0.01 D_cross= 3.750001125e-12 D_ec= 5e-10\n"
     ]
    },
    {
     "name": "stderr",
     "output_type": "stream",
     "text": [
      "At t = 0.00279102 and h = 5.60861e-015, the corrector convergence failed repeatedly or with |h| = hmin.\n",
      "psetup failed: .../casadi/interfaces/sundials/idas_interface.cpp:849: Calculating Jacobian failed\n",
      "At t = 0.0027251 and h = 2.43245e-013, the corrector convergence failed repeatedly or with |h| = hmin.\n",
      "At t = 0.000419924 and h = 1.98485e-014, the corrector convergence failed repeatedly or with |h| = hmin.\n",
      "At t = 0.0003523 and h = 2.95355e-013, the corrector convergence failed repeatedly or with |h| = hmin.\n",
      "At t = 0.000413833 and h = 3.54011e-014, the corrector convergence failed repeatedly or with |h| = hmin.\n",
      "At t = 0.000420045 and h = 7.99108e-014, the corrector convergence failed repeatedly or with |h| = hmin.\n",
      "At t = 0.000420205 and h = 2.49543e-014, the corrector convergence failed repeatedly or with |h| = hmin.\n",
      "2022-10-06 13:42:00.974 - [ERROR] callbacks.on_experiment_error(226): Simulation error: Maximum number of decreased steps occurred at t=86.82059823166557. Try solving the model up to this time only or reducing dt_max (currently, dt_max=3.5458164923888056) and/or reducing the size of the time steps or period of the experiment.\n"
     ]
    },
    {
     "name": "stdout",
     "output_type": "stream",
     "text": [
      "Succeed for:  Xi= -1.4 t_0plus= 0.01 D_cross= 7.500000749999999e-12 D_ec= 5e-14\n",
      "Succeed for:  Xi= -1.4 t_0plus= 0.01 D_cross= 7.500000749999999e-12 D_ec= 1.250375e-10\n",
      "Succeed for:  Xi= -1.4 t_0plus= 0.01 D_cross= 7.500000749999999e-12 D_ec= 2.50025e-10\n",
      "Succeed for:  Xi= -1.4 t_0plus= 0.01 D_cross= 7.500000749999999e-12 D_ec= 3.750125e-10\n",
      "Succeed for:  Xi= -1.4 t_0plus= 0.01 D_cross= 7.500000749999999e-12 D_ec= 5e-10\n"
     ]
    },
    {
     "name": "stderr",
     "output_type": "stream",
     "text": [
      "At t = 0.00302348 and h = 1.91741e-014, the corrector convergence failed repeatedly or with |h| = hmin.\n",
      "psetup failed: .../casadi/interfaces/sundials/idas_interface.cpp:849: Calculating Jacobian failed\n",
      "psetup failed: .../casadi/interfaces/sundials/idas_interface.cpp:849: Calculating Jacobian failed\n",
      "At t = 0.0030191 and h = 1.28247e-014, the corrector convergence failed repeatedly or with |h| = hmin.\n",
      "At t = 0.000528359 and h = 3.77275e-015, the corrector convergence failed repeatedly or with |h| = hmin.\n",
      "At t = 0.00051811 and h = 2.17252e-015, the corrector convergence failed repeatedly or with |h| = hmin.\n",
      "At t = 0.000528138 and h = 1.41418e-014, the corrector convergence failed repeatedly or with |h| = hmin.\n",
      "psetup failed: .../casadi/interfaces/sundials/idas_interface.cpp:849: Calculating Jacobian failed\n",
      "psetup failed: .../casadi/interfaces/sundials/idas_interface.cpp:849: Calculating Jacobian failed\n",
      "psetup failed: .../casadi/interfaces/sundials/idas_interface.cpp:849: Calculating Jacobian failed\n",
      "psetup failed: .../casadi/interfaces/sundials/idas_interface.cpp:849: Calculating Jacobian failed\n",
      "psetup failed: .../casadi/interfaces/sundials/idas_interface.cpp:849: Calculating Jacobian failed\n",
      "psetup failed: .../casadi/interfaces/sundials/idas_interface.cpp:849: Calculating Jacobian failed\n",
      "psetup failed: .../casadi/interfaces/sundials/idas_interface.cpp:849: Calculating Jacobian failed\n",
      "psetup failed: .../casadi/interfaces/sundials/idas_interface.cpp:849: Calculating Jacobian failed\n",
      "psetup failed: .../casadi/interfaces/sundials/idas_interface.cpp:849: Calculating Jacobian failed\n",
      "psetup failed: .../casadi/interfaces/sundials/idas_interface.cpp:849: Calculating Jacobian failed\n",
      "At t = 0.00021656 and h = 3.77045e-014, the corrector convergence failed repeatedly or with |h| = hmin.\n",
      "At t = 4.90902e-005 and h = 5.48169e-016, the corrector convergence failed repeatedly or with |h| = hmin.\n",
      "psetup failed: .../casadi/interfaces/sundials/idas_interface.cpp:849: Calculating Jacobian failed\n",
      "At t = 5.96892e-005 and h = 1.2551e-014, the corrector convergence failed repeatedly or with |h| = hmin.\n",
      "The linesearch algorithm failed with too small a step.\n",
      "The linesearch algorithm failed with too small a step.\n",
      "The linesearch algorithm failed with too small a step.\n",
      "The linesearch algorithm failed with too small a step.\n",
      "The linesearch algorithm failed with too small a step.\n",
      "2022-10-06 13:42:47.500 - [ERROR] callbacks.on_experiment_error(226): Simulation error: Maximum number of decreased steps occurred at t=34.10749942572009. Try solving the model up to this time only or reducing dt_max (currently, dt_max=3.5458164923888056) and/or reducing the size of the time steps or period of the experiment.\n"
     ]
    },
    {
     "name": "stdout",
     "output_type": "stream",
     "text": [
      "Succeed for:  Xi= -1.4 t_0plus= 0.01 D_cross= 1.1250000375e-11 D_ec= 5e-14\n",
      "Succeed for:  Xi= -1.4 t_0plus= 0.01 D_cross= 1.1250000375e-11 D_ec= 1.250375e-10\n"
     ]
    },
    {
     "name": "stderr",
     "output_type": "stream",
     "text": [
      "The linesearch algorithm failed with too small a step.\n",
      "The linesearch algorithm failed with too small a step.\n"
     ]
    },
    {
     "name": "stdout",
     "output_type": "stream",
     "text": [
      "Succeed for:  Xi= -1.4 t_0plus= 0.01 D_cross= 1.1250000375e-11 D_ec= 2.50025e-10\n",
      "Succeed for:  Xi= -1.4 t_0plus= 0.01 D_cross= 1.1250000375e-11 D_ec= 3.750125e-10\n"
     ]
    },
    {
     "name": "stderr",
     "output_type": "stream",
     "text": [
      "The linesearch algorithm failed with too small a step.\n",
      "The linesearch algorithm failed with too small a step.\n"
     ]
    },
    {
     "name": "stdout",
     "output_type": "stream",
     "text": [
      "Succeed for:  Xi= -1.4 t_0plus= 0.01 D_cross= 1.1250000375e-11 D_ec= 5e-10\n"
     ]
    },
    {
     "name": "stderr",
     "output_type": "stream",
     "text": [
      "psetup failed: .../casadi/interfaces/sundials/idas_interface.cpp:849: Calculating Jacobian failed\n",
      "At t = 0.00114456 and h = 1.80604e-015, the corrector convergence failed repeatedly or with |h| = hmin.\n",
      "psetup failed: .../casadi/interfaces/sundials/idas_interface.cpp:852: Linear solve failed\n",
      "psetup failed: .../casadi/interfaces/sundials/idas_interface.cpp:852: Linear solve failed\n",
      "At t = 0.0011338 and h = 4.92032e-015, the corrector convergence failed repeatedly or with |h| = hmin.\n",
      "At t = 0.00113753 and h = 3.64749e-016, the corrector convergence failed repeatedly or with |h| = hmin.\n",
      "psetup failed: .../casadi/interfaces/sundials/idas_interface.cpp:852: Linear solve failed\n",
      "psetup failed: .../casadi/interfaces/sundials/idas_interface.cpp:852: Linear solve failed\n",
      "psetup failed: .../casadi/interfaces/sundials/idas_interface.cpp:852: Linear solve failed\n",
      "At t = 0.00113372 and h = 5.68217e-015, the corrector convergence failed repeatedly or with |h| = hmin.\n",
      "2022-10-06 13:43:26.983 - [ERROR] callbacks.on_experiment_error(226): Simulation error: Maximum number of decreased steps occurred at t=0.0. Try solving the model up to this time only or reducing dt_max (currently, dt_max=7.091632984777611) and/or reducing the size of the time steps or period of the experiment.\n"
     ]
    },
    {
     "name": "stdout",
     "output_type": "stream",
     "text": [
      "Traceback (most recent call last):\n",
      "  File \"C:\\Users\\rl1120\\AppData\\Local\\Temp\\ipykernel_16444\\920439172.py\", line 16, in <cell line: 11>\n",
      "    Sol_ddiff    = Sim_ddiff.solve(\n",
      "  File \"d:\\gitpybamm\\lrh_409\\lrh_409\\envsolcon\\pybamm-gem\\pybamm\\simulation.py\", line 843, in solve\n",
      "    raise e\n",
      "  File \"d:\\gitpybamm\\lrh_409\\lrh_409\\envsolcon\\pybamm-gem\\pybamm\\simulation.py\", line 829, in solve\n",
      "    step_solution = solver.step(\n",
      "  File \"d:\\gitpybamm\\lrh_409\\lrh_409\\envsolcon\\pybamm-gem\\pybamm\\solvers\\base_solver.py\", line 1322, in step\n",
      "    solution = self._integrate(model, t_eval, ext_and_inputs)\n",
      "  File \"d:\\gitpybamm\\lrh_409\\lrh_409\\envsolcon\\pybamm-gem\\pybamm\\solvers\\casadi_solver.py\", line 266, in _integrate\n",
      "    raise pybamm.SolverError(\n",
      "pybamm.expression_tree.exceptions.SolverError: Maximum number of decreased steps occurred at t=0.0. Try solving the model up to this time only or reducing dt_max (currently, dt_max=7.091632984777611) and/or reducing the size of the time steps or period of the experiment.\n",
      "\n",
      "Fail for:  Xi= -1.4 t_0plus= 0.01 D_cross= 1.5e-11 D_ec= 5e-14\n",
      "Succeed for:  Xi= -1.4 t_0plus= 0.01 D_cross= 1.5e-11 D_ec= 1.250375e-10\n"
     ]
    },
    {
     "name": "stderr",
     "output_type": "stream",
     "text": [
      "At t = 0.00211322 and h = 1.2965e-011, the corrector convergence failed repeatedly or with |h| = hmin.\n",
      "At t = 0.00211178 and h = 1.26218e-011, the corrector convergence failed repeatedly or with |h| = hmin.\n",
      "2022-10-06 13:43:40.747 - [ERROR] callbacks.on_experiment_error(226): Simulation error: .../casadi/interfaces/sundials/idas_interface.cpp:591: IDASolve returned \"IDA_CONV_FAIL\". Consult IDAS documentation.\n"
     ]
    },
    {
     "name": "stdout",
     "output_type": "stream",
     "text": [
      "Traceback (most recent call last):\n",
      "  File \"d:\\gitpybamm\\lrh_409\\lrh_409\\envsolcon\\pybamm-gem\\pybamm\\solvers\\casadi_solver.py\", line 690, in _run_integrator\n",
      "    casadi_sol = integrator(\n",
      "  File \"d:\\GitPyBaMM\\LRH_409\\LRH_409\\envSolCon\\lib\\site-packages\\casadi\\casadi.py\", line 13453, in __call__\n",
      "    return self.call(kwargs)\n",
      "  File \"d:\\GitPyBaMM\\LRH_409\\LRH_409\\envSolCon\\lib\\site-packages\\casadi\\casadi.py\", line 12324, in call\n",
      "    return _casadi.Function_call(self, *args)\n",
      "RuntimeError: .../casadi/interfaces/sundials/idas_interface.cpp:591: IDASolve returned \"IDA_CONV_FAIL\". Consult IDAS documentation.\n",
      "\n",
      "During handling of the above exception, another exception occurred:\n",
      "\n",
      "Traceback (most recent call last):\n",
      "  File \"C:\\Users\\rl1120\\AppData\\Local\\Temp\\ipykernel_16444\\920439172.py\", line 16, in <cell line: 11>\n",
      "    Sol_ddiff    = Sim_ddiff.solve(\n",
      "  File \"d:\\gitpybamm\\lrh_409\\lrh_409\\envsolcon\\pybamm-gem\\pybamm\\simulation.py\", line 843, in solve\n",
      "    raise e\n",
      "  File \"d:\\gitpybamm\\lrh_409\\lrh_409\\envsolcon\\pybamm-gem\\pybamm\\simulation.py\", line 829, in solve\n",
      "    step_solution = solver.step(\n",
      "  File \"d:\\gitpybamm\\lrh_409\\lrh_409\\envsolcon\\pybamm-gem\\pybamm\\solvers\\base_solver.py\", line 1322, in step\n",
      "    solution = self._integrate(model, t_eval, ext_and_inputs)\n",
      "  File \"d:\\gitpybamm\\lrh_409\\lrh_409\\envsolcon\\pybamm-gem\\pybamm\\solvers\\casadi_solver.py\", line 274, in _integrate\n",
      "    current_step_sol = self._solve_for_event(\n",
      "  File \"d:\\gitpybamm\\lrh_409\\lrh_409\\envsolcon\\pybamm-gem\\pybamm\\solvers\\casadi_solver.py\", line 437, in _solve_for_event\n",
      "    dense_step_sol = self._run_integrator(\n",
      "  File \"d:\\gitpybamm\\lrh_409\\lrh_409\\envsolcon\\pybamm-gem\\pybamm\\solvers\\casadi_solver.py\", line 743, in _run_integrator\n",
      "    raise pybamm.SolverError(e.args[0])\n",
      "pybamm.expression_tree.exceptions.SolverError: .../casadi/interfaces/sundials/idas_interface.cpp:591: IDASolve returned \"IDA_CONV_FAIL\". Consult IDAS documentation.\n",
      "\n",
      "Fail for:  Xi= -1.4 t_0plus= 0.01 D_cross= 1.5e-11 D_ec= 2.50025e-10\n",
      "Succeed for:  Xi= -1.4 t_0plus= 0.01 D_cross= 1.5e-11 D_ec= 3.750125e-10\n",
      "Succeed for:  Xi= -1.4 t_0plus= 0.01 D_cross= 1.5e-11 D_ec= 5e-10\n"
     ]
    },
    {
     "name": "stderr",
     "output_type": "stream",
     "text": [
      "CasADi -  WARNING(\"roots:g failed: Inf detected for output x, at (row 20, col 0).\") [.../casadi/core/oracle_function.cpp:265]\n"
     ]
    },
    {
     "name": "stdout",
     "output_type": "stream",
     "text": [
      "Succeed for:  Xi= -1.4 t_0plus= 0.08249999999999999 D_cross= 1.5e-18 D_ec= 5e-14\n",
      "Succeed for:  Xi= -1.4 t_0plus= 0.08249999999999999 D_cross= 1.5e-18 D_ec= 1.250375e-10\n"
     ]
    },
    {
     "name": "stderr",
     "output_type": "stream",
     "text": [
      "The linesearch algorithm failed with too small a step.\n",
      "The linesearch algorithm failed with too small a step.\n"
     ]
    },
    {
     "name": "stdout",
     "output_type": "stream",
     "text": [
      "Succeed for:  Xi= -1.4 t_0plus= 0.08249999999999999 D_cross= 1.5e-18 D_ec= 2.50025e-10\n"
     ]
    },
    {
     "name": "stderr",
     "output_type": "stream",
     "text": [
      "The linesearch algorithm failed with too small a step.\n",
      "The linesearch algorithm failed with too small a step.\n"
     ]
    },
    {
     "name": "stdout",
     "output_type": "stream",
     "text": [
      "Succeed for:  Xi= -1.4 t_0plus= 0.08249999999999999 D_cross= 1.5e-18 D_ec= 3.750125e-10\n",
      "Succeed for:  Xi= -1.4 t_0plus= 0.08249999999999999 D_cross= 1.5e-18 D_ec= 5e-10\n"
     ]
    },
    {
     "name": "stderr",
     "output_type": "stream",
     "text": [
      "At t = 0.000826375 and h = 3.03683e-013, the corrector convergence failed repeatedly or with |h| = hmin.\n",
      "At t = 0.000735835 and h = 3.36396e-013, the corrector convergence failed repeatedly or with |h| = hmin.\n",
      "At t = 0.000737429 and h = 2.2226e-013, the corrector convergence failed repeatedly or with |h| = hmin.\n",
      "At t = 0.000802933 and h = 2.41591e-013, the corrector convergence failed repeatedly or with |h| = hmin.\n",
      "2022-10-06 13:44:49.375 - [ERROR] callbacks.on_experiment_error(226): Simulation error: Maximum number of decreased steps occurred at t=115.54912569329367. Try solving the model up to this time only or reducing dt_max (currently, dt_max=7.091632984777611) and/or reducing the size of the time steps or period of the experiment.\n"
     ]
    },
    {
     "name": "stdout",
     "output_type": "stream",
     "text": [
      "Succeed for:  Xi= -1.4 t_0plus= 0.08249999999999999 D_cross= 3.750001125e-12 D_ec= 5e-14\n",
      "Succeed for:  Xi= -1.4 t_0plus= 0.08249999999999999 D_cross= 3.750001125e-12 D_ec= 1.250375e-10\n"
     ]
    },
    {
     "name": "stderr",
     "output_type": "stream",
     "text": [
      "At t = 0.00248959 and h = 1.11758e-011, the corrector convergence failed repeatedly or with |h| = hmin.\n",
      "The linesearch algorithm failed with too small a step.\n",
      "The linesearch algorithm failed with too small a step.\n",
      "The linesearch algorithm failed with too small a step.\n",
      "The linesearch algorithm failed with too small a step.\n",
      "2022-10-06 13:44:58.455 - [ERROR] callbacks.on_experiment_error(226): Simulation error: Maximum number of decreased steps occurred at t=2940.6519010136517. Try solving the model up to this time only or reducing dt_max (currently, dt_max=7.091632984777611) and/or reducing the size of the time steps or period of the experiment.\n"
     ]
    },
    {
     "name": "stdout",
     "output_type": "stream",
     "text": [
      "Succeed for:  Xi= -1.4 t_0plus= 0.08249999999999999 D_cross= 3.750001125e-12 D_ec= 2.50025e-10\n",
      "Succeed for:  Xi= -1.4 t_0plus= 0.08249999999999999 D_cross= 3.750001125e-12 D_ec= 3.750125e-10\n",
      "Succeed for:  Xi= -1.4 t_0plus= 0.08249999999999999 D_cross= 3.750001125e-12 D_ec= 5e-10\n"
     ]
    },
    {
     "name": "stderr",
     "output_type": "stream",
     "text": [
      "At t = 0.00279102 and h = 5.60861e-015, the corrector convergence failed repeatedly or with |h| = hmin.\n",
      "psetup failed: .../casadi/interfaces/sundials/idas_interface.cpp:849: Calculating Jacobian failed\n",
      "At t = 0.0027251 and h = 2.43245e-013, the corrector convergence failed repeatedly or with |h| = hmin.\n",
      "At t = 0.000419924 and h = 1.98485e-014, the corrector convergence failed repeatedly or with |h| = hmin.\n",
      "At t = 0.0003523 and h = 2.95355e-013, the corrector convergence failed repeatedly or with |h| = hmin.\n",
      "At t = 0.000413833 and h = 3.54011e-014, the corrector convergence failed repeatedly or with |h| = hmin.\n",
      "At t = 0.000420045 and h = 7.99108e-014, the corrector convergence failed repeatedly or with |h| = hmin.\n",
      "At t = 0.000420205 and h = 2.49543e-014, the corrector convergence failed repeatedly or with |h| = hmin.\n",
      "2022-10-06 13:45:29.798 - [ERROR] callbacks.on_experiment_error(226): Simulation error: Maximum number of decreased steps occurred at t=86.82059823166557. Try solving the model up to this time only or reducing dt_max (currently, dt_max=3.5458164923888056) and/or reducing the size of the time steps or period of the experiment.\n"
     ]
    },
    {
     "name": "stdout",
     "output_type": "stream",
     "text": [
      "Succeed for:  Xi= -1.4 t_0plus= 0.08249999999999999 D_cross= 7.500000749999999e-12 D_ec= 5e-14\n",
      "Succeed for:  Xi= -1.4 t_0plus= 0.08249999999999999 D_cross= 7.500000749999999e-12 D_ec= 1.250375e-10\n",
      "Succeed for:  Xi= -1.4 t_0plus= 0.08249999999999999 D_cross= 7.500000749999999e-12 D_ec= 2.50025e-10\n",
      "Succeed for:  Xi= -1.4 t_0plus= 0.08249999999999999 D_cross= 7.500000749999999e-12 D_ec= 3.750125e-10\n",
      "Succeed for:  Xi= -1.4 t_0plus= 0.08249999999999999 D_cross= 7.500000749999999e-12 D_ec= 5e-10\n"
     ]
    },
    {
     "name": "stderr",
     "output_type": "stream",
     "text": [
      "At t = 0.00302348 and h = 1.91741e-014, the corrector convergence failed repeatedly or with |h| = hmin.\n",
      "psetup failed: .../casadi/interfaces/sundials/idas_interface.cpp:849: Calculating Jacobian failed\n",
      "psetup failed: .../casadi/interfaces/sundials/idas_interface.cpp:849: Calculating Jacobian failed\n",
      "At t = 0.0030191 and h = 1.28247e-014, the corrector convergence failed repeatedly or with |h| = hmin.\n",
      "At t = 0.000528359 and h = 3.77275e-015, the corrector convergence failed repeatedly or with |h| = hmin.\n",
      "At t = 0.00051811 and h = 2.17252e-015, the corrector convergence failed repeatedly or with |h| = hmin.\n",
      "At t = 0.000528138 and h = 1.41418e-014, the corrector convergence failed repeatedly or with |h| = hmin.\n",
      "psetup failed: .../casadi/interfaces/sundials/idas_interface.cpp:849: Calculating Jacobian failed\n",
      "psetup failed: .../casadi/interfaces/sundials/idas_interface.cpp:849: Calculating Jacobian failed\n",
      "psetup failed: .../casadi/interfaces/sundials/idas_interface.cpp:849: Calculating Jacobian failed\n",
      "psetup failed: .../casadi/interfaces/sundials/idas_interface.cpp:849: Calculating Jacobian failed\n",
      "psetup failed: .../casadi/interfaces/sundials/idas_interface.cpp:849: Calculating Jacobian failed\n",
      "psetup failed: .../casadi/interfaces/sundials/idas_interface.cpp:849: Calculating Jacobian failed\n",
      "psetup failed: .../casadi/interfaces/sundials/idas_interface.cpp:849: Calculating Jacobian failed\n",
      "psetup failed: .../casadi/interfaces/sundials/idas_interface.cpp:849: Calculating Jacobian failed\n",
      "psetup failed: .../casadi/interfaces/sundials/idas_interface.cpp:849: Calculating Jacobian failed\n",
      "psetup failed: .../casadi/interfaces/sundials/idas_interface.cpp:849: Calculating Jacobian failed\n",
      "At t = 0.00021656 and h = 3.77045e-014, the corrector convergence failed repeatedly or with |h| = hmin.\n",
      "At t = 4.90902e-005 and h = 5.48169e-016, the corrector convergence failed repeatedly or with |h| = hmin.\n",
      "psetup failed: .../casadi/interfaces/sundials/idas_interface.cpp:849: Calculating Jacobian failed\n",
      "At t = 5.96892e-005 and h = 1.2551e-014, the corrector convergence failed repeatedly or with |h| = hmin.\n",
      "The linesearch algorithm failed with too small a step.\n",
      "The linesearch algorithm failed with too small a step.\n",
      "The linesearch algorithm failed with too small a step.\n",
      "The linesearch algorithm failed with too small a step.\n",
      "The linesearch algorithm failed with too small a step.\n",
      "2022-10-06 13:46:19.224 - [ERROR] callbacks.on_experiment_error(226): Simulation error: Maximum number of decreased steps occurred at t=34.10749942572009. Try solving the model up to this time only or reducing dt_max (currently, dt_max=3.5458164923888056) and/or reducing the size of the time steps or period of the experiment.\n"
     ]
    },
    {
     "name": "stdout",
     "output_type": "stream",
     "text": [
      "Succeed for:  Xi= -1.4 t_0plus= 0.08249999999999999 D_cross= 1.1250000375e-11 D_ec= 5e-14\n",
      "Succeed for:  Xi= -1.4 t_0plus= 0.08249999999999999 D_cross= 1.1250000375e-11 D_ec= 1.250375e-10\n"
     ]
    },
    {
     "name": "stderr",
     "output_type": "stream",
     "text": [
      "The linesearch algorithm failed with too small a step.\n",
      "The linesearch algorithm failed with too small a step.\n"
     ]
    },
    {
     "name": "stdout",
     "output_type": "stream",
     "text": [
      "Succeed for:  Xi= -1.4 t_0plus= 0.08249999999999999 D_cross= 1.1250000375e-11 D_ec= 2.50025e-10\n",
      "Succeed for:  Xi= -1.4 t_0plus= 0.08249999999999999 D_cross= 1.1250000375e-11 D_ec= 3.750125e-10\n"
     ]
    },
    {
     "name": "stderr",
     "output_type": "stream",
     "text": [
      "The linesearch algorithm failed with too small a step.\n",
      "The linesearch algorithm failed with too small a step.\n"
     ]
    },
    {
     "name": "stdout",
     "output_type": "stream",
     "text": [
      "Succeed for:  Xi= -1.4 t_0plus= 0.08249999999999999 D_cross= 1.1250000375e-11 D_ec= 5e-10\n"
     ]
    },
    {
     "name": "stderr",
     "output_type": "stream",
     "text": [
      "psetup failed: .../casadi/interfaces/sundials/idas_interface.cpp:849: Calculating Jacobian failed\n",
      "At t = 0.00114456 and h = 1.80604e-015, the corrector convergence failed repeatedly or with |h| = hmin.\n",
      "psetup failed: .../casadi/interfaces/sundials/idas_interface.cpp:852: Linear solve failed\n",
      "psetup failed: .../casadi/interfaces/sundials/idas_interface.cpp:852: Linear solve failed\n",
      "At t = 0.0011338 and h = 4.92032e-015, the corrector convergence failed repeatedly or with |h| = hmin.\n",
      "At t = 0.00113753 and h = 3.64749e-016, the corrector convergence failed repeatedly or with |h| = hmin.\n",
      "psetup failed: .../casadi/interfaces/sundials/idas_interface.cpp:852: Linear solve failed\n",
      "psetup failed: .../casadi/interfaces/sundials/idas_interface.cpp:852: Linear solve failed\n",
      "psetup failed: .../casadi/interfaces/sundials/idas_interface.cpp:852: Linear solve failed\n",
      "At t = 0.00113372 and h = 5.68217e-015, the corrector convergence failed repeatedly or with |h| = hmin.\n",
      "2022-10-06 13:46:57.985 - [ERROR] callbacks.on_experiment_error(226): Simulation error: Maximum number of decreased steps occurred at t=0.0. Try solving the model up to this time only or reducing dt_max (currently, dt_max=7.091632984777611) and/or reducing the size of the time steps or period of the experiment.\n"
     ]
    },
    {
     "name": "stdout",
     "output_type": "stream",
     "text": [
      "Traceback (most recent call last):\n",
      "  File \"C:\\Users\\rl1120\\AppData\\Local\\Temp\\ipykernel_16444\\920439172.py\", line 16, in <cell line: 11>\n",
      "    Sol_ddiff    = Sim_ddiff.solve(\n",
      "  File \"d:\\gitpybamm\\lrh_409\\lrh_409\\envsolcon\\pybamm-gem\\pybamm\\simulation.py\", line 843, in solve\n",
      "    raise e\n",
      "  File \"d:\\gitpybamm\\lrh_409\\lrh_409\\envsolcon\\pybamm-gem\\pybamm\\simulation.py\", line 829, in solve\n",
      "    step_solution = solver.step(\n",
      "  File \"d:\\gitpybamm\\lrh_409\\lrh_409\\envsolcon\\pybamm-gem\\pybamm\\solvers\\base_solver.py\", line 1322, in step\n",
      "    solution = self._integrate(model, t_eval, ext_and_inputs)\n",
      "  File \"d:\\gitpybamm\\lrh_409\\lrh_409\\envsolcon\\pybamm-gem\\pybamm\\solvers\\casadi_solver.py\", line 266, in _integrate\n",
      "    raise pybamm.SolverError(\n",
      "pybamm.expression_tree.exceptions.SolverError: Maximum number of decreased steps occurred at t=0.0. Try solving the model up to this time only or reducing dt_max (currently, dt_max=7.091632984777611) and/or reducing the size of the time steps or period of the experiment.\n",
      "\n",
      "Fail for:  Xi= -1.4 t_0plus= 0.08249999999999999 D_cross= 1.5e-11 D_ec= 5e-14\n",
      "Succeed for:  Xi= -1.4 t_0plus= 0.08249999999999999 D_cross= 1.5e-11 D_ec= 1.250375e-10\n"
     ]
    },
    {
     "name": "stderr",
     "output_type": "stream",
     "text": [
      "At t = 0.00211322 and h = 1.2965e-011, the corrector convergence failed repeatedly or with |h| = hmin.\n",
      "At t = 0.00211178 and h = 1.26218e-011, the corrector convergence failed repeatedly or with |h| = hmin.\n",
      "2022-10-06 13:47:14.970 - [ERROR] callbacks.on_experiment_error(226): Simulation error: .../casadi/interfaces/sundials/idas_interface.cpp:591: IDASolve returned \"IDA_CONV_FAIL\". Consult IDAS documentation.\n"
     ]
    },
    {
     "name": "stdout",
     "output_type": "stream",
     "text": [
      "Traceback (most recent call last):\n",
      "  File \"d:\\gitpybamm\\lrh_409\\lrh_409\\envsolcon\\pybamm-gem\\pybamm\\solvers\\casadi_solver.py\", line 690, in _run_integrator\n",
      "    casadi_sol = integrator(\n",
      "  File \"d:\\GitPyBaMM\\LRH_409\\LRH_409\\envSolCon\\lib\\site-packages\\casadi\\casadi.py\", line 13453, in __call__\n",
      "    return self.call(kwargs)\n",
      "  File \"d:\\GitPyBaMM\\LRH_409\\LRH_409\\envSolCon\\lib\\site-packages\\casadi\\casadi.py\", line 12324, in call\n",
      "    return _casadi.Function_call(self, *args)\n",
      "RuntimeError: .../casadi/interfaces/sundials/idas_interface.cpp:591: IDASolve returned \"IDA_CONV_FAIL\". Consult IDAS documentation.\n",
      "\n",
      "During handling of the above exception, another exception occurred:\n",
      "\n",
      "Traceback (most recent call last):\n",
      "  File \"C:\\Users\\rl1120\\AppData\\Local\\Temp\\ipykernel_16444\\920439172.py\", line 16, in <cell line: 11>\n",
      "    Sol_ddiff    = Sim_ddiff.solve(\n",
      "  File \"d:\\gitpybamm\\lrh_409\\lrh_409\\envsolcon\\pybamm-gem\\pybamm\\simulation.py\", line 843, in solve\n",
      "    raise e\n",
      "  File \"d:\\gitpybamm\\lrh_409\\lrh_409\\envsolcon\\pybamm-gem\\pybamm\\simulation.py\", line 829, in solve\n",
      "    step_solution = solver.step(\n",
      "  File \"d:\\gitpybamm\\lrh_409\\lrh_409\\envsolcon\\pybamm-gem\\pybamm\\solvers\\base_solver.py\", line 1322, in step\n",
      "    solution = self._integrate(model, t_eval, ext_and_inputs)\n",
      "  File \"d:\\gitpybamm\\lrh_409\\lrh_409\\envsolcon\\pybamm-gem\\pybamm\\solvers\\casadi_solver.py\", line 274, in _integrate\n",
      "    current_step_sol = self._solve_for_event(\n",
      "  File \"d:\\gitpybamm\\lrh_409\\lrh_409\\envsolcon\\pybamm-gem\\pybamm\\solvers\\casadi_solver.py\", line 437, in _solve_for_event\n",
      "    dense_step_sol = self._run_integrator(\n",
      "  File \"d:\\gitpybamm\\lrh_409\\lrh_409\\envsolcon\\pybamm-gem\\pybamm\\solvers\\casadi_solver.py\", line 743, in _run_integrator\n",
      "    raise pybamm.SolverError(e.args[0])\n",
      "pybamm.expression_tree.exceptions.SolverError: .../casadi/interfaces/sundials/idas_interface.cpp:591: IDASolve returned \"IDA_CONV_FAIL\". Consult IDAS documentation.\n",
      "\n",
      "Fail for:  Xi= -1.4 t_0plus= 0.08249999999999999 D_cross= 1.5e-11 D_ec= 2.50025e-10\n",
      "Succeed for:  Xi= -1.4 t_0plus= 0.08249999999999999 D_cross= 1.5e-11 D_ec= 3.750125e-10\n",
      "Succeed for:  Xi= -1.4 t_0plus= 0.08249999999999999 D_cross= 1.5e-11 D_ec= 5e-10\n"
     ]
    },
    {
     "name": "stderr",
     "output_type": "stream",
     "text": [
      "CasADi -  WARNING(\"roots:g failed: Inf detected for output x, at (row 20, col 0).\") [.../casadi/core/oracle_function.cpp:265]\n"
     ]
    },
    {
     "name": "stdout",
     "output_type": "stream",
     "text": [
      "Succeed for:  Xi= -1.4 t_0plus= 0.155 D_cross= 1.5e-18 D_ec= 5e-14\n",
      "Succeed for:  Xi= -1.4 t_0plus= 0.155 D_cross= 1.5e-18 D_ec= 1.250375e-10\n"
     ]
    },
    {
     "name": "stderr",
     "output_type": "stream",
     "text": [
      "The linesearch algorithm failed with too small a step.\n",
      "The linesearch algorithm failed with too small a step.\n"
     ]
    },
    {
     "name": "stdout",
     "output_type": "stream",
     "text": [
      "Succeed for:  Xi= -1.4 t_0plus= 0.155 D_cross= 1.5e-18 D_ec= 2.50025e-10\n"
     ]
    },
    {
     "name": "stderr",
     "output_type": "stream",
     "text": [
      "The linesearch algorithm failed with too small a step.\n",
      "The linesearch algorithm failed with too small a step.\n"
     ]
    },
    {
     "name": "stdout",
     "output_type": "stream",
     "text": [
      "Succeed for:  Xi= -1.4 t_0plus= 0.155 D_cross= 1.5e-18 D_ec= 3.750125e-10\n",
      "Succeed for:  Xi= -1.4 t_0plus= 0.155 D_cross= 1.5e-18 D_ec= 5e-10\n"
     ]
    },
    {
     "name": "stderr",
     "output_type": "stream",
     "text": [
      "At t = 0.000826375 and h = 3.03683e-013, the corrector convergence failed repeatedly or with |h| = hmin.\n",
      "At t = 0.000735835 and h = 3.36396e-013, the corrector convergence failed repeatedly or with |h| = hmin.\n",
      "At t = 0.000737429 and h = 2.2226e-013, the corrector convergence failed repeatedly or with |h| = hmin.\n",
      "At t = 0.000802933 and h = 2.41591e-013, the corrector convergence failed repeatedly or with |h| = hmin.\n",
      "2022-10-06 13:48:23.390 - [ERROR] callbacks.on_experiment_error(226): Simulation error: Maximum number of decreased steps occurred at t=115.54912569329367. Try solving the model up to this time only or reducing dt_max (currently, dt_max=7.091632984777611) and/or reducing the size of the time steps or period of the experiment.\n"
     ]
    },
    {
     "name": "stdout",
     "output_type": "stream",
     "text": [
      "Succeed for:  Xi= -1.4 t_0plus= 0.155 D_cross= 3.750001125e-12 D_ec= 5e-14\n",
      "Succeed for:  Xi= -1.4 t_0plus= 0.155 D_cross= 3.750001125e-12 D_ec= 1.250375e-10\n"
     ]
    },
    {
     "name": "stderr",
     "output_type": "stream",
     "text": [
      "At t = 0.00248959 and h = 1.11758e-011, the corrector convergence failed repeatedly or with |h| = hmin.\n",
      "The linesearch algorithm failed with too small a step.\n",
      "The linesearch algorithm failed with too small a step.\n",
      "The linesearch algorithm failed with too small a step.\n",
      "The linesearch algorithm failed with too small a step.\n",
      "2022-10-06 13:48:31.584 - [ERROR] callbacks.on_experiment_error(226): Simulation error: Maximum number of decreased steps occurred at t=2940.6519010136517. Try solving the model up to this time only or reducing dt_max (currently, dt_max=7.091632984777611) and/or reducing the size of the time steps or period of the experiment.\n"
     ]
    },
    {
     "name": "stdout",
     "output_type": "stream",
     "text": [
      "Succeed for:  Xi= -1.4 t_0plus= 0.155 D_cross= 3.750001125e-12 D_ec= 2.50025e-10\n",
      "Succeed for:  Xi= -1.4 t_0plus= 0.155 D_cross= 3.750001125e-12 D_ec= 3.750125e-10\n",
      "Succeed for:  Xi= -1.4 t_0plus= 0.155 D_cross= 3.750001125e-12 D_ec= 5e-10\n"
     ]
    },
    {
     "name": "stderr",
     "output_type": "stream",
     "text": [
      "At t = 0.00279102 and h = 5.60861e-015, the corrector convergence failed repeatedly or with |h| = hmin.\n",
      "psetup failed: .../casadi/interfaces/sundials/idas_interface.cpp:849: Calculating Jacobian failed\n",
      "At t = 0.0027251 and h = 2.43245e-013, the corrector convergence failed repeatedly or with |h| = hmin.\n",
      "At t = 0.000419924 and h = 1.98485e-014, the corrector convergence failed repeatedly or with |h| = hmin.\n",
      "At t = 0.0003523 and h = 2.95355e-013, the corrector convergence failed repeatedly or with |h| = hmin.\n",
      "At t = 0.000413833 and h = 3.54011e-014, the corrector convergence failed repeatedly or with |h| = hmin.\n",
      "At t = 0.000420045 and h = 7.99108e-014, the corrector convergence failed repeatedly or with |h| = hmin.\n",
      "At t = 0.000420205 and h = 2.49543e-014, the corrector convergence failed repeatedly or with |h| = hmin.\n",
      "2022-10-06 13:48:57.547 - [ERROR] callbacks.on_experiment_error(226): Simulation error: Maximum number of decreased steps occurred at t=86.82059823166557. Try solving the model up to this time only or reducing dt_max (currently, dt_max=3.5458164923888056) and/or reducing the size of the time steps or period of the experiment.\n"
     ]
    },
    {
     "name": "stdout",
     "output_type": "stream",
     "text": [
      "Succeed for:  Xi= -1.4 t_0plus= 0.155 D_cross= 7.500000749999999e-12 D_ec= 5e-14\n",
      "Succeed for:  Xi= -1.4 t_0plus= 0.155 D_cross= 7.500000749999999e-12 D_ec= 1.250375e-10\n",
      "Succeed for:  Xi= -1.4 t_0plus= 0.155 D_cross= 7.500000749999999e-12 D_ec= 2.50025e-10\n",
      "Succeed for:  Xi= -1.4 t_0plus= 0.155 D_cross= 7.500000749999999e-12 D_ec= 3.750125e-10\n",
      "Succeed for:  Xi= -1.4 t_0plus= 0.155 D_cross= 7.500000749999999e-12 D_ec= 5e-10\n"
     ]
    },
    {
     "name": "stderr",
     "output_type": "stream",
     "text": [
      "At t = 0.00302348 and h = 1.91741e-014, the corrector convergence failed repeatedly or with |h| = hmin.\n",
      "psetup failed: .../casadi/interfaces/sundials/idas_interface.cpp:849: Calculating Jacobian failed\n",
      "psetup failed: .../casadi/interfaces/sundials/idas_interface.cpp:849: Calculating Jacobian failed\n",
      "At t = 0.0030191 and h = 1.28247e-014, the corrector convergence failed repeatedly or with |h| = hmin.\n",
      "At t = 0.000528359 and h = 3.77275e-015, the corrector convergence failed repeatedly or with |h| = hmin.\n",
      "At t = 0.00051811 and h = 2.17252e-015, the corrector convergence failed repeatedly or with |h| = hmin.\n",
      "At t = 0.000528138 and h = 1.41418e-014, the corrector convergence failed repeatedly or with |h| = hmin.\n",
      "psetup failed: .../casadi/interfaces/sundials/idas_interface.cpp:849: Calculating Jacobian failed\n",
      "psetup failed: .../casadi/interfaces/sundials/idas_interface.cpp:849: Calculating Jacobian failed\n",
      "psetup failed: .../casadi/interfaces/sundials/idas_interface.cpp:849: Calculating Jacobian failed\n",
      "psetup failed: .../casadi/interfaces/sundials/idas_interface.cpp:849: Calculating Jacobian failed\n",
      "psetup failed: .../casadi/interfaces/sundials/idas_interface.cpp:849: Calculating Jacobian failed\n",
      "psetup failed: .../casadi/interfaces/sundials/idas_interface.cpp:849: Calculating Jacobian failed\n",
      "psetup failed: .../casadi/interfaces/sundials/idas_interface.cpp:849: Calculating Jacobian failed\n",
      "psetup failed: .../casadi/interfaces/sundials/idas_interface.cpp:849: Calculating Jacobian failed\n",
      "psetup failed: .../casadi/interfaces/sundials/idas_interface.cpp:849: Calculating Jacobian failed\n",
      "psetup failed: .../casadi/interfaces/sundials/idas_interface.cpp:849: Calculating Jacobian failed\n",
      "At t = 0.00021656 and h = 3.77045e-014, the corrector convergence failed repeatedly or with |h| = hmin.\n",
      "At t = 4.90902e-005 and h = 5.48169e-016, the corrector convergence failed repeatedly or with |h| = hmin.\n",
      "psetup failed: .../casadi/interfaces/sundials/idas_interface.cpp:849: Calculating Jacobian failed\n",
      "At t = 5.96892e-005 and h = 1.2551e-014, the corrector convergence failed repeatedly or with |h| = hmin.\n",
      "The linesearch algorithm failed with too small a step.\n",
      "The linesearch algorithm failed with too small a step.\n",
      "The linesearch algorithm failed with too small a step.\n",
      "The linesearch algorithm failed with too small a step.\n",
      "The linesearch algorithm failed with too small a step.\n",
      "2022-10-06 13:49:40.802 - [ERROR] callbacks.on_experiment_error(226): Simulation error: Maximum number of decreased steps occurred at t=34.10749942572009. Try solving the model up to this time only or reducing dt_max (currently, dt_max=3.5458164923888056) and/or reducing the size of the time steps or period of the experiment.\n"
     ]
    },
    {
     "name": "stdout",
     "output_type": "stream",
     "text": [
      "Succeed for:  Xi= -1.4 t_0plus= 0.155 D_cross= 1.1250000375e-11 D_ec= 5e-14\n",
      "Succeed for:  Xi= -1.4 t_0plus= 0.155 D_cross= 1.1250000375e-11 D_ec= 1.250375e-10\n"
     ]
    },
    {
     "name": "stderr",
     "output_type": "stream",
     "text": [
      "The linesearch algorithm failed with too small a step.\n",
      "The linesearch algorithm failed with too small a step.\n"
     ]
    },
    {
     "name": "stdout",
     "output_type": "stream",
     "text": [
      "Succeed for:  Xi= -1.4 t_0plus= 0.155 D_cross= 1.1250000375e-11 D_ec= 2.50025e-10\n",
      "Succeed for:  Xi= -1.4 t_0plus= 0.155 D_cross= 1.1250000375e-11 D_ec= 3.750125e-10\n"
     ]
    },
    {
     "name": "stderr",
     "output_type": "stream",
     "text": [
      "The linesearch algorithm failed with too small a step.\n",
      "The linesearch algorithm failed with too small a step.\n"
     ]
    },
    {
     "name": "stdout",
     "output_type": "stream",
     "text": [
      "Succeed for:  Xi= -1.4 t_0plus= 0.155 D_cross= 1.1250000375e-11 D_ec= 5e-10\n"
     ]
    },
    {
     "name": "stderr",
     "output_type": "stream",
     "text": [
      "psetup failed: .../casadi/interfaces/sundials/idas_interface.cpp:849: Calculating Jacobian failed\n",
      "At t = 0.00114456 and h = 1.80604e-015, the corrector convergence failed repeatedly or with |h| = hmin.\n",
      "psetup failed: .../casadi/interfaces/sundials/idas_interface.cpp:852: Linear solve failed\n",
      "psetup failed: .../casadi/interfaces/sundials/idas_interface.cpp:852: Linear solve failed\n",
      "At t = 0.0011338 and h = 4.92032e-015, the corrector convergence failed repeatedly or with |h| = hmin.\n",
      "At t = 0.00113753 and h = 3.64749e-016, the corrector convergence failed repeatedly or with |h| = hmin.\n",
      "psetup failed: .../casadi/interfaces/sundials/idas_interface.cpp:852: Linear solve failed\n",
      "psetup failed: .../casadi/interfaces/sundials/idas_interface.cpp:852: Linear solve failed\n",
      "psetup failed: .../casadi/interfaces/sundials/idas_interface.cpp:852: Linear solve failed\n",
      "At t = 0.00113372 and h = 5.68217e-015, the corrector convergence failed repeatedly or with |h| = hmin.\n",
      "2022-10-06 13:50:16.559 - [ERROR] callbacks.on_experiment_error(226): Simulation error: Maximum number of decreased steps occurred at t=0.0. Try solving the model up to this time only or reducing dt_max (currently, dt_max=7.091632984777611) and/or reducing the size of the time steps or period of the experiment.\n"
     ]
    },
    {
     "name": "stdout",
     "output_type": "stream",
     "text": [
      "Traceback (most recent call last):\n",
      "  File \"C:\\Users\\rl1120\\AppData\\Local\\Temp\\ipykernel_16444\\920439172.py\", line 16, in <cell line: 11>\n",
      "    Sol_ddiff    = Sim_ddiff.solve(\n",
      "  File \"d:\\gitpybamm\\lrh_409\\lrh_409\\envsolcon\\pybamm-gem\\pybamm\\simulation.py\", line 843, in solve\n",
      "    raise e\n",
      "  File \"d:\\gitpybamm\\lrh_409\\lrh_409\\envsolcon\\pybamm-gem\\pybamm\\simulation.py\", line 829, in solve\n",
      "    step_solution = solver.step(\n",
      "  File \"d:\\gitpybamm\\lrh_409\\lrh_409\\envsolcon\\pybamm-gem\\pybamm\\solvers\\base_solver.py\", line 1322, in step\n",
      "    solution = self._integrate(model, t_eval, ext_and_inputs)\n",
      "  File \"d:\\gitpybamm\\lrh_409\\lrh_409\\envsolcon\\pybamm-gem\\pybamm\\solvers\\casadi_solver.py\", line 266, in _integrate\n",
      "    raise pybamm.SolverError(\n",
      "pybamm.expression_tree.exceptions.SolverError: Maximum number of decreased steps occurred at t=0.0. Try solving the model up to this time only or reducing dt_max (currently, dt_max=7.091632984777611) and/or reducing the size of the time steps or period of the experiment.\n",
      "\n",
      "Fail for:  Xi= -1.4 t_0plus= 0.155 D_cross= 1.5e-11 D_ec= 5e-14\n",
      "Succeed for:  Xi= -1.4 t_0plus= 0.155 D_cross= 1.5e-11 D_ec= 1.250375e-10\n"
     ]
    },
    {
     "name": "stderr",
     "output_type": "stream",
     "text": [
      "At t = 0.00211322 and h = 1.2965e-011, the corrector convergence failed repeatedly or with |h| = hmin.\n",
      "At t = 0.00211178 and h = 1.26218e-011, the corrector convergence failed repeatedly or with |h| = hmin.\n",
      "2022-10-06 13:50:29.111 - [ERROR] callbacks.on_experiment_error(226): Simulation error: .../casadi/interfaces/sundials/idas_interface.cpp:591: IDASolve returned \"IDA_CONV_FAIL\". Consult IDAS documentation.\n"
     ]
    },
    {
     "name": "stdout",
     "output_type": "stream",
     "text": [
      "Traceback (most recent call last):\n",
      "  File \"d:\\gitpybamm\\lrh_409\\lrh_409\\envsolcon\\pybamm-gem\\pybamm\\solvers\\casadi_solver.py\", line 690, in _run_integrator\n",
      "    casadi_sol = integrator(\n",
      "  File \"d:\\GitPyBaMM\\LRH_409\\LRH_409\\envSolCon\\lib\\site-packages\\casadi\\casadi.py\", line 13453, in __call__\n",
      "    return self.call(kwargs)\n",
      "  File \"d:\\GitPyBaMM\\LRH_409\\LRH_409\\envSolCon\\lib\\site-packages\\casadi\\casadi.py\", line 12324, in call\n",
      "    return _casadi.Function_call(self, *args)\n",
      "RuntimeError: .../casadi/interfaces/sundials/idas_interface.cpp:591: IDASolve returned \"IDA_CONV_FAIL\". Consult IDAS documentation.\n",
      "\n",
      "During handling of the above exception, another exception occurred:\n",
      "\n",
      "Traceback (most recent call last):\n",
      "  File \"C:\\Users\\rl1120\\AppData\\Local\\Temp\\ipykernel_16444\\920439172.py\", line 16, in <cell line: 11>\n",
      "    Sol_ddiff    = Sim_ddiff.solve(\n",
      "  File \"d:\\gitpybamm\\lrh_409\\lrh_409\\envsolcon\\pybamm-gem\\pybamm\\simulation.py\", line 843, in solve\n",
      "    raise e\n",
      "  File \"d:\\gitpybamm\\lrh_409\\lrh_409\\envsolcon\\pybamm-gem\\pybamm\\simulation.py\", line 829, in solve\n",
      "    step_solution = solver.step(\n",
      "  File \"d:\\gitpybamm\\lrh_409\\lrh_409\\envsolcon\\pybamm-gem\\pybamm\\solvers\\base_solver.py\", line 1322, in step\n",
      "    solution = self._integrate(model, t_eval, ext_and_inputs)\n",
      "  File \"d:\\gitpybamm\\lrh_409\\lrh_409\\envsolcon\\pybamm-gem\\pybamm\\solvers\\casadi_solver.py\", line 274, in _integrate\n",
      "    current_step_sol = self._solve_for_event(\n",
      "  File \"d:\\gitpybamm\\lrh_409\\lrh_409\\envsolcon\\pybamm-gem\\pybamm\\solvers\\casadi_solver.py\", line 437, in _solve_for_event\n",
      "    dense_step_sol = self._run_integrator(\n",
      "  File \"d:\\gitpybamm\\lrh_409\\lrh_409\\envsolcon\\pybamm-gem\\pybamm\\solvers\\casadi_solver.py\", line 743, in _run_integrator\n",
      "    raise pybamm.SolverError(e.args[0])\n",
      "pybamm.expression_tree.exceptions.SolverError: .../casadi/interfaces/sundials/idas_interface.cpp:591: IDASolve returned \"IDA_CONV_FAIL\". Consult IDAS documentation.\n",
      "\n",
      "Fail for:  Xi= -1.4 t_0plus= 0.155 D_cross= 1.5e-11 D_ec= 2.50025e-10\n",
      "Succeed for:  Xi= -1.4 t_0plus= 0.155 D_cross= 1.5e-11 D_ec= 3.750125e-10\n",
      "Succeed for:  Xi= -1.4 t_0plus= 0.155 D_cross= 1.5e-11 D_ec= 5e-10\n"
     ]
    },
    {
     "name": "stderr",
     "output_type": "stream",
     "text": [
      "CasADi -  WARNING(\"roots:g failed: Inf detected for output x, at (row 20, col 0).\") [.../casadi/core/oracle_function.cpp:265]\n"
     ]
    },
    {
     "name": "stdout",
     "output_type": "stream",
     "text": [
      "Succeed for:  Xi= -1.4 t_0plus= 0.22749999999999998 D_cross= 1.5e-18 D_ec= 5e-14\n",
      "Succeed for:  Xi= -1.4 t_0plus= 0.22749999999999998 D_cross= 1.5e-18 D_ec= 1.250375e-10\n"
     ]
    },
    {
     "name": "stderr",
     "output_type": "stream",
     "text": [
      "The linesearch algorithm failed with too small a step.\n",
      "The linesearch algorithm failed with too small a step.\n"
     ]
    },
    {
     "name": "stdout",
     "output_type": "stream",
     "text": [
      "Succeed for:  Xi= -1.4 t_0plus= 0.22749999999999998 D_cross= 1.5e-18 D_ec= 2.50025e-10\n"
     ]
    },
    {
     "name": "stderr",
     "output_type": "stream",
     "text": [
      "The linesearch algorithm failed with too small a step.\n",
      "The linesearch algorithm failed with too small a step.\n"
     ]
    },
    {
     "name": "stdout",
     "output_type": "stream",
     "text": [
      "Succeed for:  Xi= -1.4 t_0plus= 0.22749999999999998 D_cross= 1.5e-18 D_ec= 3.750125e-10\n",
      "Succeed for:  Xi= -1.4 t_0plus= 0.22749999999999998 D_cross= 1.5e-18 D_ec= 5e-10\n"
     ]
    },
    {
     "name": "stderr",
     "output_type": "stream",
     "text": [
      "At t = 0.000826375 and h = 3.03683e-013, the corrector convergence failed repeatedly or with |h| = hmin.\n",
      "At t = 0.000735835 and h = 3.36396e-013, the corrector convergence failed repeatedly or with |h| = hmin.\n",
      "At t = 0.000737429 and h = 2.2226e-013, the corrector convergence failed repeatedly or with |h| = hmin.\n",
      "At t = 0.000802933 and h = 2.41591e-013, the corrector convergence failed repeatedly or with |h| = hmin.\n",
      "2022-10-06 13:51:33.652 - [ERROR] callbacks.on_experiment_error(226): Simulation error: Maximum number of decreased steps occurred at t=115.54912569329367. Try solving the model up to this time only or reducing dt_max (currently, dt_max=7.091632984777611) and/or reducing the size of the time steps or period of the experiment.\n"
     ]
    },
    {
     "name": "stdout",
     "output_type": "stream",
     "text": [
      "Succeed for:  Xi= -1.4 t_0plus= 0.22749999999999998 D_cross= 3.750001125e-12 D_ec= 5e-14\n",
      "Succeed for:  Xi= -1.4 t_0plus= 0.22749999999999998 D_cross= 3.750001125e-12 D_ec= 1.250375e-10\n"
     ]
    },
    {
     "name": "stderr",
     "output_type": "stream",
     "text": [
      "At t = 0.00248959 and h = 1.11758e-011, the corrector convergence failed repeatedly or with |h| = hmin.\n",
      "The linesearch algorithm failed with too small a step.\n",
      "The linesearch algorithm failed with too small a step.\n",
      "The linesearch algorithm failed with too small a step.\n",
      "The linesearch algorithm failed with too small a step.\n",
      "2022-10-06 13:51:43.290 - [ERROR] callbacks.on_experiment_error(226): Simulation error: Maximum number of decreased steps occurred at t=2940.6519010136517. Try solving the model up to this time only or reducing dt_max (currently, dt_max=7.091632984777611) and/or reducing the size of the time steps or period of the experiment.\n"
     ]
    },
    {
     "name": "stdout",
     "output_type": "stream",
     "text": [
      "Succeed for:  Xi= -1.4 t_0plus= 0.22749999999999998 D_cross= 3.750001125e-12 D_ec= 2.50025e-10\n",
      "Succeed for:  Xi= -1.4 t_0plus= 0.22749999999999998 D_cross= 3.750001125e-12 D_ec= 3.750125e-10\n",
      "Succeed for:  Xi= -1.4 t_0plus= 0.22749999999999998 D_cross= 3.750001125e-12 D_ec= 5e-10\n"
     ]
    },
    {
     "name": "stderr",
     "output_type": "stream",
     "text": [
      "At t = 0.00279102 and h = 5.60861e-015, the corrector convergence failed repeatedly or with |h| = hmin.\n",
      "psetup failed: .../casadi/interfaces/sundials/idas_interface.cpp:849: Calculating Jacobian failed\n",
      "At t = 0.0027251 and h = 2.43245e-013, the corrector convergence failed repeatedly or with |h| = hmin.\n",
      "At t = 0.000419924 and h = 1.98485e-014, the corrector convergence failed repeatedly or with |h| = hmin.\n",
      "At t = 0.0003523 and h = 2.95355e-013, the corrector convergence failed repeatedly or with |h| = hmin.\n",
      "At t = 0.000413833 and h = 3.54011e-014, the corrector convergence failed repeatedly or with |h| = hmin.\n",
      "At t = 0.000420045 and h = 7.99108e-014, the corrector convergence failed repeatedly or with |h| = hmin.\n",
      "At t = 0.000420205 and h = 2.49543e-014, the corrector convergence failed repeatedly or with |h| = hmin.\n",
      "2022-10-06 13:52:13.326 - [ERROR] callbacks.on_experiment_error(226): Simulation error: Maximum number of decreased steps occurred at t=86.82059823166557. Try solving the model up to this time only or reducing dt_max (currently, dt_max=3.5458164923888056) and/or reducing the size of the time steps or period of the experiment.\n"
     ]
    },
    {
     "name": "stdout",
     "output_type": "stream",
     "text": [
      "Succeed for:  Xi= -1.4 t_0plus= 0.22749999999999998 D_cross= 7.500000749999999e-12 D_ec= 5e-14\n",
      "Succeed for:  Xi= -1.4 t_0plus= 0.22749999999999998 D_cross= 7.500000749999999e-12 D_ec= 1.250375e-10\n",
      "Succeed for:  Xi= -1.4 t_0plus= 0.22749999999999998 D_cross= 7.500000749999999e-12 D_ec= 2.50025e-10\n",
      "Succeed for:  Xi= -1.4 t_0plus= 0.22749999999999998 D_cross= 7.500000749999999e-12 D_ec= 3.750125e-10\n",
      "Succeed for:  Xi= -1.4 t_0plus= 0.22749999999999998 D_cross= 7.500000749999999e-12 D_ec= 5e-10\n"
     ]
    },
    {
     "name": "stderr",
     "output_type": "stream",
     "text": [
      "At t = 0.00302348 and h = 1.91741e-014, the corrector convergence failed repeatedly or with |h| = hmin.\n",
      "psetup failed: .../casadi/interfaces/sundials/idas_interface.cpp:849: Calculating Jacobian failed\n",
      "psetup failed: .../casadi/interfaces/sundials/idas_interface.cpp:849: Calculating Jacobian failed\n",
      "At t = 0.0030191 and h = 1.28247e-014, the corrector convergence failed repeatedly or with |h| = hmin.\n",
      "At t = 0.000528359 and h = 3.77275e-015, the corrector convergence failed repeatedly or with |h| = hmin.\n",
      "At t = 0.00051811 and h = 2.17252e-015, the corrector convergence failed repeatedly or with |h| = hmin.\n",
      "At t = 0.000528138 and h = 1.41418e-014, the corrector convergence failed repeatedly or with |h| = hmin.\n",
      "psetup failed: .../casadi/interfaces/sundials/idas_interface.cpp:849: Calculating Jacobian failed\n",
      "psetup failed: .../casadi/interfaces/sundials/idas_interface.cpp:849: Calculating Jacobian failed\n",
      "psetup failed: .../casadi/interfaces/sundials/idas_interface.cpp:849: Calculating Jacobian failed\n",
      "psetup failed: .../casadi/interfaces/sundials/idas_interface.cpp:849: Calculating Jacobian failed\n",
      "psetup failed: .../casadi/interfaces/sundials/idas_interface.cpp:849: Calculating Jacobian failed\n",
      "psetup failed: .../casadi/interfaces/sundials/idas_interface.cpp:849: Calculating Jacobian failed\n",
      "psetup failed: .../casadi/interfaces/sundials/idas_interface.cpp:849: Calculating Jacobian failed\n",
      "psetup failed: .../casadi/interfaces/sundials/idas_interface.cpp:849: Calculating Jacobian failed\n",
      "psetup failed: .../casadi/interfaces/sundials/idas_interface.cpp:849: Calculating Jacobian failed\n",
      "psetup failed: .../casadi/interfaces/sundials/idas_interface.cpp:849: Calculating Jacobian failed\n",
      "At t = 0.00021656 and h = 3.77045e-014, the corrector convergence failed repeatedly or with |h| = hmin.\n",
      "At t = 4.90902e-005 and h = 5.48169e-016, the corrector convergence failed repeatedly or with |h| = hmin.\n",
      "psetup failed: .../casadi/interfaces/sundials/idas_interface.cpp:849: Calculating Jacobian failed\n",
      "At t = 5.96892e-005 and h = 1.2551e-014, the corrector convergence failed repeatedly or with |h| = hmin.\n",
      "The linesearch algorithm failed with too small a step.\n",
      "The linesearch algorithm failed with too small a step.\n",
      "The linesearch algorithm failed with too small a step.\n",
      "The linesearch algorithm failed with too small a step.\n",
      "The linesearch algorithm failed with too small a step.\n",
      "2022-10-06 13:53:00.913 - [ERROR] callbacks.on_experiment_error(226): Simulation error: Maximum number of decreased steps occurred at t=34.10749942572009. Try solving the model up to this time only or reducing dt_max (currently, dt_max=3.5458164923888056) and/or reducing the size of the time steps or period of the experiment.\n"
     ]
    },
    {
     "name": "stdout",
     "output_type": "stream",
     "text": [
      "Succeed for:  Xi= -1.4 t_0plus= 0.22749999999999998 D_cross= 1.1250000375e-11 D_ec= 5e-14\n",
      "Succeed for:  Xi= -1.4 t_0plus= 0.22749999999999998 D_cross= 1.1250000375e-11 D_ec= 1.250375e-10\n"
     ]
    },
    {
     "name": "stderr",
     "output_type": "stream",
     "text": [
      "The linesearch algorithm failed with too small a step.\n",
      "The linesearch algorithm failed with too small a step.\n"
     ]
    },
    {
     "name": "stdout",
     "output_type": "stream",
     "text": [
      "Succeed for:  Xi= -1.4 t_0plus= 0.22749999999999998 D_cross= 1.1250000375e-11 D_ec= 2.50025e-10\n",
      "Succeed for:  Xi= -1.4 t_0plus= 0.22749999999999998 D_cross= 1.1250000375e-11 D_ec= 3.750125e-10\n"
     ]
    },
    {
     "name": "stderr",
     "output_type": "stream",
     "text": [
      "The linesearch algorithm failed with too small a step.\n",
      "The linesearch algorithm failed with too small a step.\n"
     ]
    },
    {
     "name": "stdout",
     "output_type": "stream",
     "text": [
      "Succeed for:  Xi= -1.4 t_0plus= 0.22749999999999998 D_cross= 1.1250000375e-11 D_ec= 5e-10\n"
     ]
    },
    {
     "name": "stderr",
     "output_type": "stream",
     "text": [
      "psetup failed: .../casadi/interfaces/sundials/idas_interface.cpp:849: Calculating Jacobian failed\n",
      "At t = 0.00114456 and h = 1.80604e-015, the corrector convergence failed repeatedly or with |h| = hmin.\n",
      "psetup failed: .../casadi/interfaces/sundials/idas_interface.cpp:852: Linear solve failed\n",
      "psetup failed: .../casadi/interfaces/sundials/idas_interface.cpp:852: Linear solve failed\n",
      "At t = 0.0011338 and h = 4.92032e-015, the corrector convergence failed repeatedly or with |h| = hmin.\n",
      "At t = 0.00113753 and h = 3.64749e-016, the corrector convergence failed repeatedly or with |h| = hmin.\n",
      "psetup failed: .../casadi/interfaces/sundials/idas_interface.cpp:852: Linear solve failed\n",
      "psetup failed: .../casadi/interfaces/sundials/idas_interface.cpp:852: Linear solve failed\n",
      "psetup failed: .../casadi/interfaces/sundials/idas_interface.cpp:852: Linear solve failed\n",
      "At t = 0.00113372 and h = 5.68217e-015, the corrector convergence failed repeatedly or with |h| = hmin.\n",
      "2022-10-06 13:53:40.110 - [ERROR] callbacks.on_experiment_error(226): Simulation error: Maximum number of decreased steps occurred at t=0.0. Try solving the model up to this time only or reducing dt_max (currently, dt_max=7.091632984777611) and/or reducing the size of the time steps or period of the experiment.\n"
     ]
    },
    {
     "name": "stdout",
     "output_type": "stream",
     "text": [
      "Traceback (most recent call last):\n",
      "  File \"C:\\Users\\rl1120\\AppData\\Local\\Temp\\ipykernel_16444\\920439172.py\", line 16, in <cell line: 11>\n",
      "    Sol_ddiff    = Sim_ddiff.solve(\n",
      "  File \"d:\\gitpybamm\\lrh_409\\lrh_409\\envsolcon\\pybamm-gem\\pybamm\\simulation.py\", line 843, in solve\n",
      "    raise e\n",
      "  File \"d:\\gitpybamm\\lrh_409\\lrh_409\\envsolcon\\pybamm-gem\\pybamm\\simulation.py\", line 829, in solve\n",
      "    step_solution = solver.step(\n",
      "  File \"d:\\gitpybamm\\lrh_409\\lrh_409\\envsolcon\\pybamm-gem\\pybamm\\solvers\\base_solver.py\", line 1322, in step\n",
      "    solution = self._integrate(model, t_eval, ext_and_inputs)\n",
      "  File \"d:\\gitpybamm\\lrh_409\\lrh_409\\envsolcon\\pybamm-gem\\pybamm\\solvers\\casadi_solver.py\", line 266, in _integrate\n",
      "    raise pybamm.SolverError(\n",
      "pybamm.expression_tree.exceptions.SolverError: Maximum number of decreased steps occurred at t=0.0. Try solving the model up to this time only or reducing dt_max (currently, dt_max=7.091632984777611) and/or reducing the size of the time steps or period of the experiment.\n",
      "\n",
      "Fail for:  Xi= -1.4 t_0plus= 0.22749999999999998 D_cross= 1.5e-11 D_ec= 5e-14\n",
      "Succeed for:  Xi= -1.4 t_0plus= 0.22749999999999998 D_cross= 1.5e-11 D_ec= 1.250375e-10\n"
     ]
    },
    {
     "name": "stderr",
     "output_type": "stream",
     "text": [
      "At t = 0.00211322 and h = 1.2965e-011, the corrector convergence failed repeatedly or with |h| = hmin.\n",
      "At t = 0.00211178 and h = 1.26218e-011, the corrector convergence failed repeatedly or with |h| = hmin.\n",
      "2022-10-06 13:53:54.396 - [ERROR] callbacks.on_experiment_error(226): Simulation error: .../casadi/interfaces/sundials/idas_interface.cpp:591: IDASolve returned \"IDA_CONV_FAIL\". Consult IDAS documentation.\n"
     ]
    },
    {
     "name": "stdout",
     "output_type": "stream",
     "text": [
      "Traceback (most recent call last):\n",
      "  File \"d:\\gitpybamm\\lrh_409\\lrh_409\\envsolcon\\pybamm-gem\\pybamm\\solvers\\casadi_solver.py\", line 690, in _run_integrator\n",
      "    casadi_sol = integrator(\n",
      "  File \"d:\\GitPyBaMM\\LRH_409\\LRH_409\\envSolCon\\lib\\site-packages\\casadi\\casadi.py\", line 13453, in __call__\n",
      "    return self.call(kwargs)\n",
      "  File \"d:\\GitPyBaMM\\LRH_409\\LRH_409\\envSolCon\\lib\\site-packages\\casadi\\casadi.py\", line 12324, in call\n",
      "    return _casadi.Function_call(self, *args)\n",
      "RuntimeError: .../casadi/interfaces/sundials/idas_interface.cpp:591: IDASolve returned \"IDA_CONV_FAIL\". Consult IDAS documentation.\n",
      "\n",
      "During handling of the above exception, another exception occurred:\n",
      "\n",
      "Traceback (most recent call last):\n",
      "  File \"C:\\Users\\rl1120\\AppData\\Local\\Temp\\ipykernel_16444\\920439172.py\", line 16, in <cell line: 11>\n",
      "    Sol_ddiff    = Sim_ddiff.solve(\n",
      "  File \"d:\\gitpybamm\\lrh_409\\lrh_409\\envsolcon\\pybamm-gem\\pybamm\\simulation.py\", line 843, in solve\n",
      "    raise e\n",
      "  File \"d:\\gitpybamm\\lrh_409\\lrh_409\\envsolcon\\pybamm-gem\\pybamm\\simulation.py\", line 829, in solve\n",
      "    step_solution = solver.step(\n",
      "  File \"d:\\gitpybamm\\lrh_409\\lrh_409\\envsolcon\\pybamm-gem\\pybamm\\solvers\\base_solver.py\", line 1322, in step\n",
      "    solution = self._integrate(model, t_eval, ext_and_inputs)\n",
      "  File \"d:\\gitpybamm\\lrh_409\\lrh_409\\envsolcon\\pybamm-gem\\pybamm\\solvers\\casadi_solver.py\", line 274, in _integrate\n",
      "    current_step_sol = self._solve_for_event(\n",
      "  File \"d:\\gitpybamm\\lrh_409\\lrh_409\\envsolcon\\pybamm-gem\\pybamm\\solvers\\casadi_solver.py\", line 437, in _solve_for_event\n",
      "    dense_step_sol = self._run_integrator(\n",
      "  File \"d:\\gitpybamm\\lrh_409\\lrh_409\\envsolcon\\pybamm-gem\\pybamm\\solvers\\casadi_solver.py\", line 743, in _run_integrator\n",
      "    raise pybamm.SolverError(e.args[0])\n",
      "pybamm.expression_tree.exceptions.SolverError: .../casadi/interfaces/sundials/idas_interface.cpp:591: IDASolve returned \"IDA_CONV_FAIL\". Consult IDAS documentation.\n",
      "\n",
      "Fail for:  Xi= -1.4 t_0plus= 0.22749999999999998 D_cross= 1.5e-11 D_ec= 2.50025e-10\n",
      "Succeed for:  Xi= -1.4 t_0plus= 0.22749999999999998 D_cross= 1.5e-11 D_ec= 3.750125e-10\n",
      "Succeed for:  Xi= -1.4 t_0plus= 0.22749999999999998 D_cross= 1.5e-11 D_ec= 5e-10\n"
     ]
    },
    {
     "name": "stderr",
     "output_type": "stream",
     "text": [
      "CasADi -  WARNING(\"roots:g failed: Inf detected for output x, at (row 20, col 0).\") [.../casadi/core/oracle_function.cpp:265]\n"
     ]
    },
    {
     "name": "stdout",
     "output_type": "stream",
     "text": [
      "Succeed for:  Xi= -1.4 t_0plus= 0.3 D_cross= 1.5e-18 D_ec= 5e-14\n",
      "Succeed for:  Xi= -1.4 t_0plus= 0.3 D_cross= 1.5e-18 D_ec= 1.250375e-10\n"
     ]
    },
    {
     "name": "stderr",
     "output_type": "stream",
     "text": [
      "The linesearch algorithm failed with too small a step.\n",
      "The linesearch algorithm failed with too small a step.\n"
     ]
    },
    {
     "name": "stdout",
     "output_type": "stream",
     "text": [
      "Succeed for:  Xi= -1.4 t_0plus= 0.3 D_cross= 1.5e-18 D_ec= 2.50025e-10\n"
     ]
    },
    {
     "name": "stderr",
     "output_type": "stream",
     "text": [
      "The linesearch algorithm failed with too small a step.\n",
      "The linesearch algorithm failed with too small a step.\n"
     ]
    },
    {
     "name": "stdout",
     "output_type": "stream",
     "text": [
      "Succeed for:  Xi= -1.4 t_0plus= 0.3 D_cross= 1.5e-18 D_ec= 3.750125e-10\n",
      "Succeed for:  Xi= -1.4 t_0plus= 0.3 D_cross= 1.5e-18 D_ec= 5e-10\n"
     ]
    },
    {
     "name": "stderr",
     "output_type": "stream",
     "text": [
      "At t = 0.000826375 and h = 3.03683e-013, the corrector convergence failed repeatedly or with |h| = hmin.\n",
      "At t = 0.000735835 and h = 3.36396e-013, the corrector convergence failed repeatedly or with |h| = hmin.\n",
      "At t = 0.000737429 and h = 2.2226e-013, the corrector convergence failed repeatedly or with |h| = hmin.\n",
      "At t = 0.000802933 and h = 2.41591e-013, the corrector convergence failed repeatedly or with |h| = hmin.\n",
      "2022-10-06 13:55:05.608 - [ERROR] callbacks.on_experiment_error(226): Simulation error: Maximum number of decreased steps occurred at t=115.54912569329367. Try solving the model up to this time only or reducing dt_max (currently, dt_max=7.091632984777611) and/or reducing the size of the time steps or period of the experiment.\n"
     ]
    },
    {
     "name": "stdout",
     "output_type": "stream",
     "text": [
      "Succeed for:  Xi= -1.4 t_0plus= 0.3 D_cross= 3.750001125e-12 D_ec= 5e-14\n",
      "Succeed for:  Xi= -1.4 t_0plus= 0.3 D_cross= 3.750001125e-12 D_ec= 1.250375e-10\n"
     ]
    },
    {
     "name": "stderr",
     "output_type": "stream",
     "text": [
      "At t = 0.00248959 and h = 1.11758e-011, the corrector convergence failed repeatedly or with |h| = hmin.\n",
      "The linesearch algorithm failed with too small a step.\n",
      "The linesearch algorithm failed with too small a step.\n",
      "The linesearch algorithm failed with too small a step.\n",
      "The linesearch algorithm failed with too small a step.\n",
      "2022-10-06 13:55:14.314 - [ERROR] callbacks.on_experiment_error(226): Simulation error: Maximum number of decreased steps occurred at t=2940.6519010136517. Try solving the model up to this time only or reducing dt_max (currently, dt_max=7.091632984777611) and/or reducing the size of the time steps or period of the experiment.\n"
     ]
    },
    {
     "name": "stdout",
     "output_type": "stream",
     "text": [
      "Succeed for:  Xi= -1.4 t_0plus= 0.3 D_cross= 3.750001125e-12 D_ec= 2.50025e-10\n",
      "Succeed for:  Xi= -1.4 t_0plus= 0.3 D_cross= 3.750001125e-12 D_ec= 3.750125e-10\n",
      "Succeed for:  Xi= -1.4 t_0plus= 0.3 D_cross= 3.750001125e-12 D_ec= 5e-10\n"
     ]
    },
    {
     "name": "stderr",
     "output_type": "stream",
     "text": [
      "At t = 0.00279102 and h = 5.60861e-015, the corrector convergence failed repeatedly or with |h| = hmin.\n",
      "psetup failed: .../casadi/interfaces/sundials/idas_interface.cpp:849: Calculating Jacobian failed\n",
      "At t = 0.0027251 and h = 2.43245e-013, the corrector convergence failed repeatedly or with |h| = hmin.\n",
      "At t = 0.000419924 and h = 1.98485e-014, the corrector convergence failed repeatedly or with |h| = hmin.\n",
      "At t = 0.0003523 and h = 2.95355e-013, the corrector convergence failed repeatedly or with |h| = hmin.\n",
      "At t = 0.000413833 and h = 3.54011e-014, the corrector convergence failed repeatedly or with |h| = hmin.\n",
      "At t = 0.000420045 and h = 7.99108e-014, the corrector convergence failed repeatedly or with |h| = hmin.\n",
      "At t = 0.000420205 and h = 2.49543e-014, the corrector convergence failed repeatedly or with |h| = hmin.\n",
      "2022-10-06 13:55:43.869 - [ERROR] callbacks.on_experiment_error(226): Simulation error: Maximum number of decreased steps occurred at t=86.82059823166557. Try solving the model up to this time only or reducing dt_max (currently, dt_max=3.5458164923888056) and/or reducing the size of the time steps or period of the experiment.\n"
     ]
    },
    {
     "name": "stdout",
     "output_type": "stream",
     "text": [
      "Succeed for:  Xi= -1.4 t_0plus= 0.3 D_cross= 7.500000749999999e-12 D_ec= 5e-14\n",
      "Succeed for:  Xi= -1.4 t_0plus= 0.3 D_cross= 7.500000749999999e-12 D_ec= 1.250375e-10\n",
      "Succeed for:  Xi= -1.4 t_0plus= 0.3 D_cross= 7.500000749999999e-12 D_ec= 2.50025e-10\n",
      "Succeed for:  Xi= -1.4 t_0plus= 0.3 D_cross= 7.500000749999999e-12 D_ec= 3.750125e-10\n",
      "Succeed for:  Xi= -1.4 t_0plus= 0.3 D_cross= 7.500000749999999e-12 D_ec= 5e-10\n"
     ]
    },
    {
     "name": "stderr",
     "output_type": "stream",
     "text": [
      "At t = 0.00302348 and h = 1.91741e-014, the corrector convergence failed repeatedly or with |h| = hmin.\n",
      "psetup failed: .../casadi/interfaces/sundials/idas_interface.cpp:849: Calculating Jacobian failed\n",
      "psetup failed: .../casadi/interfaces/sundials/idas_interface.cpp:849: Calculating Jacobian failed\n",
      "At t = 0.0030191 and h = 1.28247e-014, the corrector convergence failed repeatedly or with |h| = hmin.\n",
      "At t = 0.000528359 and h = 3.77275e-015, the corrector convergence failed repeatedly or with |h| = hmin.\n",
      "At t = 0.00051811 and h = 2.17252e-015, the corrector convergence failed repeatedly or with |h| = hmin.\n",
      "At t = 0.000528138 and h = 1.41418e-014, the corrector convergence failed repeatedly or with |h| = hmin.\n",
      "psetup failed: .../casadi/interfaces/sundials/idas_interface.cpp:849: Calculating Jacobian failed\n",
      "psetup failed: .../casadi/interfaces/sundials/idas_interface.cpp:849: Calculating Jacobian failed\n",
      "psetup failed: .../casadi/interfaces/sundials/idas_interface.cpp:849: Calculating Jacobian failed\n",
      "psetup failed: .../casadi/interfaces/sundials/idas_interface.cpp:849: Calculating Jacobian failed\n",
      "psetup failed: .../casadi/interfaces/sundials/idas_interface.cpp:849: Calculating Jacobian failed\n",
      "psetup failed: .../casadi/interfaces/sundials/idas_interface.cpp:849: Calculating Jacobian failed\n",
      "psetup failed: .../casadi/interfaces/sundials/idas_interface.cpp:849: Calculating Jacobian failed\n",
      "psetup failed: .../casadi/interfaces/sundials/idas_interface.cpp:849: Calculating Jacobian failed\n",
      "psetup failed: .../casadi/interfaces/sundials/idas_interface.cpp:849: Calculating Jacobian failed\n",
      "psetup failed: .../casadi/interfaces/sundials/idas_interface.cpp:849: Calculating Jacobian failed\n",
      "At t = 0.00021656 and h = 3.77045e-014, the corrector convergence failed repeatedly or with |h| = hmin.\n",
      "At t = 4.90902e-005 and h = 5.48169e-016, the corrector convergence failed repeatedly or with |h| = hmin.\n",
      "psetup failed: .../casadi/interfaces/sundials/idas_interface.cpp:849: Calculating Jacobian failed\n",
      "At t = 5.96892e-005 and h = 1.2551e-014, the corrector convergence failed repeatedly or with |h| = hmin.\n",
      "The linesearch algorithm failed with too small a step.\n",
      "The linesearch algorithm failed with too small a step.\n",
      "The linesearch algorithm failed with too small a step.\n",
      "The linesearch algorithm failed with too small a step.\n",
      "The linesearch algorithm failed with too small a step.\n",
      "2022-10-06 13:56:34.349 - [ERROR] callbacks.on_experiment_error(226): Simulation error: Maximum number of decreased steps occurred at t=34.10749942572009. Try solving the model up to this time only or reducing dt_max (currently, dt_max=3.5458164923888056) and/or reducing the size of the time steps or period of the experiment.\n"
     ]
    },
    {
     "name": "stdout",
     "output_type": "stream",
     "text": [
      "Succeed for:  Xi= -1.4 t_0plus= 0.3 D_cross= 1.1250000375e-11 D_ec= 5e-14\n",
      "Succeed for:  Xi= -1.4 t_0plus= 0.3 D_cross= 1.1250000375e-11 D_ec= 1.250375e-10\n"
     ]
    },
    {
     "name": "stderr",
     "output_type": "stream",
     "text": [
      "The linesearch algorithm failed with too small a step.\n",
      "The linesearch algorithm failed with too small a step.\n"
     ]
    },
    {
     "name": "stdout",
     "output_type": "stream",
     "text": [
      "Succeed for:  Xi= -1.4 t_0plus= 0.3 D_cross= 1.1250000375e-11 D_ec= 2.50025e-10\n",
      "Succeed for:  Xi= -1.4 t_0plus= 0.3 D_cross= 1.1250000375e-11 D_ec= 3.750125e-10\n"
     ]
    },
    {
     "name": "stderr",
     "output_type": "stream",
     "text": [
      "The linesearch algorithm failed with too small a step.\n",
      "The linesearch algorithm failed with too small a step.\n"
     ]
    },
    {
     "name": "stdout",
     "output_type": "stream",
     "text": [
      "Succeed for:  Xi= -1.4 t_0plus= 0.3 D_cross= 1.1250000375e-11 D_ec= 5e-10\n"
     ]
    },
    {
     "name": "stderr",
     "output_type": "stream",
     "text": [
      "psetup failed: .../casadi/interfaces/sundials/idas_interface.cpp:849: Calculating Jacobian failed\n",
      "At t = 0.00114456 and h = 1.80604e-015, the corrector convergence failed repeatedly or with |h| = hmin.\n",
      "psetup failed: .../casadi/interfaces/sundials/idas_interface.cpp:852: Linear solve failed\n",
      "psetup failed: .../casadi/interfaces/sundials/idas_interface.cpp:852: Linear solve failed\n",
      "At t = 0.0011338 and h = 4.92032e-015, the corrector convergence failed repeatedly or with |h| = hmin.\n",
      "At t = 0.00113753 and h = 3.64749e-016, the corrector convergence failed repeatedly or with |h| = hmin.\n",
      "psetup failed: .../casadi/interfaces/sundials/idas_interface.cpp:852: Linear solve failed\n",
      "psetup failed: .../casadi/interfaces/sundials/idas_interface.cpp:852: Linear solve failed\n",
      "psetup failed: .../casadi/interfaces/sundials/idas_interface.cpp:852: Linear solve failed\n",
      "At t = 0.00113372 and h = 5.68217e-015, the corrector convergence failed repeatedly or with |h| = hmin.\n",
      "2022-10-06 13:57:11.925 - [ERROR] callbacks.on_experiment_error(226): Simulation error: Maximum number of decreased steps occurred at t=0.0. Try solving the model up to this time only or reducing dt_max (currently, dt_max=7.091632984777611) and/or reducing the size of the time steps or period of the experiment.\n"
     ]
    },
    {
     "name": "stdout",
     "output_type": "stream",
     "text": [
      "Traceback (most recent call last):\n",
      "  File \"C:\\Users\\rl1120\\AppData\\Local\\Temp\\ipykernel_16444\\920439172.py\", line 16, in <cell line: 11>\n",
      "    Sol_ddiff    = Sim_ddiff.solve(\n",
      "  File \"d:\\gitpybamm\\lrh_409\\lrh_409\\envsolcon\\pybamm-gem\\pybamm\\simulation.py\", line 843, in solve\n",
      "    raise e\n",
      "  File \"d:\\gitpybamm\\lrh_409\\lrh_409\\envsolcon\\pybamm-gem\\pybamm\\simulation.py\", line 829, in solve\n",
      "    step_solution = solver.step(\n",
      "  File \"d:\\gitpybamm\\lrh_409\\lrh_409\\envsolcon\\pybamm-gem\\pybamm\\solvers\\base_solver.py\", line 1322, in step\n",
      "    solution = self._integrate(model, t_eval, ext_and_inputs)\n",
      "  File \"d:\\gitpybamm\\lrh_409\\lrh_409\\envsolcon\\pybamm-gem\\pybamm\\solvers\\casadi_solver.py\", line 266, in _integrate\n",
      "    raise pybamm.SolverError(\n",
      "pybamm.expression_tree.exceptions.SolverError: Maximum number of decreased steps occurred at t=0.0. Try solving the model up to this time only or reducing dt_max (currently, dt_max=7.091632984777611) and/or reducing the size of the time steps or period of the experiment.\n",
      "\n",
      "Fail for:  Xi= -1.4 t_0plus= 0.3 D_cross= 1.5e-11 D_ec= 5e-14\n",
      "Succeed for:  Xi= -1.4 t_0plus= 0.3 D_cross= 1.5e-11 D_ec= 1.250375e-10\n"
     ]
    },
    {
     "name": "stderr",
     "output_type": "stream",
     "text": [
      "At t = 0.00211322 and h = 1.2965e-011, the corrector convergence failed repeatedly or with |h| = hmin.\n",
      "At t = 0.00211178 and h = 1.26218e-011, the corrector convergence failed repeatedly or with |h| = hmin.\n",
      "2022-10-06 13:57:33.227 - [ERROR] callbacks.on_experiment_error(226): Simulation error: .../casadi/interfaces/sundials/idas_interface.cpp:591: IDASolve returned \"IDA_CONV_FAIL\". Consult IDAS documentation.\n"
     ]
    },
    {
     "name": "stdout",
     "output_type": "stream",
     "text": [
      "Traceback (most recent call last):\n",
      "  File \"d:\\gitpybamm\\lrh_409\\lrh_409\\envsolcon\\pybamm-gem\\pybamm\\solvers\\casadi_solver.py\", line 690, in _run_integrator\n",
      "    casadi_sol = integrator(\n",
      "  File \"d:\\GitPyBaMM\\LRH_409\\LRH_409\\envSolCon\\lib\\site-packages\\casadi\\casadi.py\", line 13453, in __call__\n",
      "    return self.call(kwargs)\n",
      "  File \"d:\\GitPyBaMM\\LRH_409\\LRH_409\\envSolCon\\lib\\site-packages\\casadi\\casadi.py\", line 12324, in call\n",
      "    return _casadi.Function_call(self, *args)\n",
      "RuntimeError: .../casadi/interfaces/sundials/idas_interface.cpp:591: IDASolve returned \"IDA_CONV_FAIL\". Consult IDAS documentation.\n",
      "\n",
      "During handling of the above exception, another exception occurred:\n",
      "\n",
      "Traceback (most recent call last):\n",
      "  File \"C:\\Users\\rl1120\\AppData\\Local\\Temp\\ipykernel_16444\\920439172.py\", line 16, in <cell line: 11>\n",
      "    Sol_ddiff    = Sim_ddiff.solve(\n",
      "  File \"d:\\gitpybamm\\lrh_409\\lrh_409\\envsolcon\\pybamm-gem\\pybamm\\simulation.py\", line 843, in solve\n",
      "    raise e\n",
      "  File \"d:\\gitpybamm\\lrh_409\\lrh_409\\envsolcon\\pybamm-gem\\pybamm\\simulation.py\", line 829, in solve\n",
      "    step_solution = solver.step(\n",
      "  File \"d:\\gitpybamm\\lrh_409\\lrh_409\\envsolcon\\pybamm-gem\\pybamm\\solvers\\base_solver.py\", line 1322, in step\n",
      "    solution = self._integrate(model, t_eval, ext_and_inputs)\n",
      "  File \"d:\\gitpybamm\\lrh_409\\lrh_409\\envsolcon\\pybamm-gem\\pybamm\\solvers\\casadi_solver.py\", line 274, in _integrate\n",
      "    current_step_sol = self._solve_for_event(\n",
      "  File \"d:\\gitpybamm\\lrh_409\\lrh_409\\envsolcon\\pybamm-gem\\pybamm\\solvers\\casadi_solver.py\", line 437, in _solve_for_event\n",
      "    dense_step_sol = self._run_integrator(\n",
      "  File \"d:\\gitpybamm\\lrh_409\\lrh_409\\envsolcon\\pybamm-gem\\pybamm\\solvers\\casadi_solver.py\", line 743, in _run_integrator\n",
      "    raise pybamm.SolverError(e.args[0])\n",
      "pybamm.expression_tree.exceptions.SolverError: .../casadi/interfaces/sundials/idas_interface.cpp:591: IDASolve returned \"IDA_CONV_FAIL\". Consult IDAS documentation.\n",
      "\n",
      "Fail for:  Xi= -1.4 t_0plus= 0.3 D_cross= 1.5e-11 D_ec= 2.50025e-10\n",
      "Succeed for:  Xi= -1.4 t_0plus= 0.3 D_cross= 1.5e-11 D_ec= 3.750125e-10\n",
      "Succeed for:  Xi= -1.4 t_0plus= 0.3 D_cross= 1.5e-11 D_ec= 5e-10\n",
      "Succeed for:  Xi= -1.2 t_0plus= 0.01 D_cross= 1.5e-18 D_ec= 5e-14\n",
      "Succeed for:  Xi= -1.2 t_0plus= 0.01 D_cross= 1.5e-18 D_ec= 1.250375e-10\n"
     ]
    },
    {
     "name": "stderr",
     "output_type": "stream",
     "text": [
      "The linesearch algorithm failed with too small a step.\n",
      "The linesearch algorithm failed with too small a step.\n",
      "The linesearch algorithm failed with too small a step.\n",
      "The linesearch algorithm failed with too small a step.\n",
      "2022-10-06 13:58:10.533 - [ERROR] callbacks.on_experiment_error(226): Simulation error: Maximum number of decreased steps occurred at t=3057.2835537222745. Try solving the model up to this time only or reducing dt_max (currently, dt_max=7.091632984777611) and/or reducing the size of the time steps or period of the experiment.\n"
     ]
    },
    {
     "name": "stdout",
     "output_type": "stream",
     "text": [
      "Succeed for:  Xi= -1.2 t_0plus= 0.01 D_cross= 1.5e-18 D_ec= 2.50025e-10\n"
     ]
    },
    {
     "name": "stderr",
     "output_type": "stream",
     "text": [
      "The linesearch algorithm failed with too small a step.\n",
      "The linesearch algorithm failed with too small a step.\n",
      "The linesearch algorithm failed with too small a step.\n"
     ]
    },
    {
     "name": "stdout",
     "output_type": "stream",
     "text": [
      "Succeed for:  Xi= -1.2 t_0plus= 0.01 D_cross= 1.5e-18 D_ec= 3.750125e-10\n"
     ]
    },
    {
     "name": "stderr",
     "output_type": "stream",
     "text": [
      "The linesearch algorithm failed with too small a step.\n",
      "The linesearch algorithm failed with too small a step.\n"
     ]
    },
    {
     "name": "stdout",
     "output_type": "stream",
     "text": [
      "Succeed for:  Xi= -1.2 t_0plus= 0.01 D_cross= 1.5e-18 D_ec= 5e-10\n"
     ]
    },
    {
     "name": "stderr",
     "output_type": "stream",
     "text": [
      "psetup failed: .../casadi/interfaces/sundials/idas_interface.cpp:849: Calculating Jacobian failed\n",
      "psetup failed: .../casadi/interfaces/sundials/idas_interface.cpp:849: Calculating Jacobian failed\n",
      "psetup failed: .../casadi/interfaces/sundials/idas_interface.cpp:852: Linear solve failed\n",
      "At t = 0.00478668 and h = 4.67151e-016, the corrector convergence failed repeatedly or with |h| = hmin.\n",
      "At t = 0.00474032 and h = 1.36167e-014, the corrector convergence failed repeatedly or with |h| = hmin.\n",
      "At t = 0.00224026 and h = 1.83743e-016, the corrector convergence failed repeatedly or with |h| = hmin.\n",
      "psetup failed: .../casadi/interfaces/sundials/idas_interface.cpp:849: Calculating Jacobian failed\n",
      "psetup failed: .../casadi/interfaces/sundials/idas_interface.cpp:849: Calculating Jacobian failed\n",
      "At t = 0.00103961 and h = 1.18945e-013, the corrector convergence failed repeatedly or with |h| = hmin.\n",
      "At t = 0.00036489 and h = 6.35239e-014, the corrector convergence failed repeatedly or with |h| = hmin.\n",
      "At t = 6.68495e-005 and h = 1.57085e-015, the corrector convergence failed repeatedly or with |h| = hmin.\n",
      "psetup failed: .../casadi/interfaces/sundials/idas_interface.cpp:849: Calculating Jacobian failed\n",
      "psetup failed: .../casadi/interfaces/sundials/idas_interface.cpp:849: Calculating Jacobian failed\n",
      "At t = 8.02973e-005 and h = 1.4943e-014, the corrector convergence failed repeatedly or with |h| = hmin.\n",
      "psetup failed: .../casadi/interfaces/sundials/idas_interface.cpp:849: Calculating Jacobian failed\n",
      "psetup failed: .../casadi/interfaces/sundials/idas_interface.cpp:849: Calculating Jacobian failed\n",
      "psetup failed: .../casadi/interfaces/sundials/idas_interface.cpp:849: Calculating Jacobian failed\n",
      "psetup failed: .../casadi/interfaces/sundials/idas_interface.cpp:849: Calculating Jacobian failed\n",
      "psetup failed: .../casadi/interfaces/sundials/idas_interface.cpp:849: Calculating Jacobian failed\n",
      "psetup failed: .../casadi/interfaces/sundials/idas_interface.cpp:849: Calculating Jacobian failed\n",
      "psetup failed: .../casadi/interfaces/sundials/idas_interface.cpp:849: Calculating Jacobian failed\n",
      "psetup failed: .../casadi/interfaces/sundials/idas_interface.cpp:849: Calculating Jacobian failed\n",
      "psetup failed: .../casadi/interfaces/sundials/idas_interface.cpp:849: Calculating Jacobian failed\n",
      "psetup failed: .../casadi/interfaces/sundials/idas_interface.cpp:849: Calculating Jacobian failed\n",
      "At t = 6.69122e-005 and h = 5.78823e-014, the corrector convergence failed repeatedly or with |h| = hmin.\n",
      "psetup failed: .../casadi/interfaces/sundials/idas_interface.cpp:849: Calculating Jacobian failed\n",
      "At t = 6.71584e-005 and h = 1.01155e-014, the corrector convergence failed repeatedly or with |h| = hmin.\n",
      "At t = 6.68143e-005 and h = 6.64592e-014, the corrector convergence failed repeatedly or with |h| = hmin.\n",
      "2022-10-06 13:58:52.437 - [ERROR] callbacks.on_experiment_error(226): Simulation error: Maximum number of decreased steps occurred at t=113.02743573851058. Try solving the model up to this time only or reducing dt_max (currently, dt_max=3.5458164923888056) and/or reducing the size of the time steps or period of the experiment.\n"
     ]
    },
    {
     "name": "stdout",
     "output_type": "stream",
     "text": [
      "Succeed for:  Xi= -1.2 t_0plus= 0.01 D_cross= 3.750001125e-12 D_ec= 5e-14\n",
      "Succeed for:  Xi= -1.2 t_0plus= 0.01 D_cross= 3.750001125e-12 D_ec= 1.250375e-10\n"
     ]
    },
    {
     "name": "stderr",
     "output_type": "stream",
     "text": [
      "The linesearch algorithm failed with too small a step.\n",
      "The linesearch algorithm failed with too small a step.\n",
      "The linesearch algorithm failed with too small a step.\n",
      "The linesearch algorithm failed with too small a step.\n",
      "The linesearch algorithm failed with too small a step.\n",
      "2022-10-06 13:58:59.194 - [ERROR] callbacks.on_experiment_error(226): Simulation error: Maximum number of decreased steps occurred at t=2886.862710582763. Try solving the model up to this time only or reducing dt_max (currently, dt_max=3.5458164923888056) and/or reducing the size of the time steps or period of the experiment.\n"
     ]
    },
    {
     "name": "stdout",
     "output_type": "stream",
     "text": [
      "Succeed for:  Xi= -1.2 t_0plus= 0.01 D_cross= 3.750001125e-12 D_ec= 2.50025e-10\n",
      "Succeed for:  Xi= -1.2 t_0plus= 0.01 D_cross= 3.750001125e-12 D_ec= 3.750125e-10\n"
     ]
    },
    {
     "name": "stderr",
     "output_type": "stream",
     "text": [
      "At t = 0.00284689 and h = 1.82767e-011, the corrector convergence failed repeatedly or with |h| = hmin.\n",
      "The linesearch algorithm failed with too small a step.\n",
      "The linesearch algorithm failed with too small a step.\n",
      "The linesearch algorithm failed with too small a step.\n"
     ]
    },
    {
     "name": "stdout",
     "output_type": "stream",
     "text": [
      "Succeed for:  Xi= -1.2 t_0plus= 0.01 D_cross= 3.750001125e-12 D_ec= 5e-10\n"
     ]
    },
    {
     "name": "stderr",
     "output_type": "stream",
     "text": [
      "psetup failed: .../casadi/interfaces/sundials/idas_interface.cpp:849: Calculating Jacobian failed\n",
      "psetup failed: .../casadi/interfaces/sundials/idas_interface.cpp:852: Linear solve failed\n",
      "At t = 0.00400595 and h = 3.42308e-014, the corrector convergence failed repeatedly or with |h| = hmin.\n",
      "At t = 0.00390289 and h = 4.29163e-013, the corrector convergence failed repeatedly or with |h| = hmin.\n",
      "At t = 0.00145286 and h = 3.61509e-013, the corrector convergence failed repeatedly or with |h| = hmin.\n",
      "At t = 0.000424778 and h = 4.45331e-014, the corrector convergence failed repeatedly or with |h| = hmin.\n",
      "At t = 0.000425252 and h = 2.64511e-015, the corrector convergence failed repeatedly or with |h| = hmin.\n",
      "At t = 0.000425058 and h = 5.27331e-014, the corrector convergence failed repeatedly or with |h| = hmin.\n",
      "psetup failed: .../casadi/interfaces/sundials/idas_interface.cpp:852: Linear solve failed\n",
      "At t = 0.000425054 and h = 9.98768e-014, the corrector convergence failed repeatedly or with |h| = hmin.\n",
      "At t = 0.000388201 and h = 2.09934e-013, the corrector convergence failed repeatedly or with |h| = hmin.\n",
      "2022-10-06 13:59:39.821 - [ERROR] callbacks.on_experiment_error(226): Simulation error: Maximum number of decreased steps occurred at t=100.53344253274648. Try solving the model up to this time only or reducing dt_max (currently, dt_max=3.5458164923888056) and/or reducing the size of the time steps or period of the experiment.\n"
     ]
    },
    {
     "name": "stdout",
     "output_type": "stream",
     "text": [
      "Succeed for:  Xi= -1.2 t_0plus= 0.01 D_cross= 7.500000749999999e-12 D_ec= 5e-14\n"
     ]
    },
    {
     "name": "stderr",
     "output_type": "stream",
     "text": [
      "At t = 0.00317752 and h = 1.66962e-010, the corrector convergence failed repeatedly or with |h| = hmin.\n",
      "At t = 0.00317755 and h = 1.66959e-010, the corrector convergence failed repeatedly or with |h| = hmin.\n"
     ]
    },
    {
     "name": "stdout",
     "output_type": "stream",
     "text": [
      "Succeed for:  Xi= -1.2 t_0plus= 0.01 D_cross= 7.500000749999999e-12 D_ec= 1.250375e-10\n"
     ]
    },
    {
     "name": "stderr",
     "output_type": "stream",
     "text": [
      "At t = 0.00528273 and h = 4.95482e-012, the corrector convergence failed repeatedly or with |h| = hmin.\n"
     ]
    },
    {
     "name": "stdout",
     "output_type": "stream",
     "text": [
      "Succeed for:  Xi= -1.2 t_0plus= 0.01 D_cross= 7.500000749999999e-12 D_ec= 2.50025e-10\n"
     ]
    },
    {
     "name": "stderr",
     "output_type": "stream",
     "text": [
      "The linesearch algorithm failed with too small a step.\n",
      "The linesearch algorithm failed with too small a step.\n",
      "The linesearch algorithm failed with too small a step.\n"
     ]
    },
    {
     "name": "stdout",
     "output_type": "stream",
     "text": [
      "Succeed for:  Xi= -1.2 t_0plus= 0.01 D_cross= 7.500000749999999e-12 D_ec= 3.750125e-10\n",
      "Succeed for:  Xi= -1.2 t_0plus= 0.01 D_cross= 7.500000749999999e-12 D_ec= 5e-10\n"
     ]
    },
    {
     "name": "stderr",
     "output_type": "stream",
     "text": [
      "psetup failed: .../casadi/interfaces/sundials/idas_interface.cpp:849: Calculating Jacobian failed\n",
      "psetup failed: .../casadi/interfaces/sundials/idas_interface.cpp:849: Calculating Jacobian failed\n",
      "At t = 0.00309594 and h = 1.2771e-014, the corrector convergence failed repeatedly or with |h| = hmin.\n",
      "At t = 0.00309909 and h = 1.51318e-014, the corrector convergence failed repeatedly or with |h| = hmin.\n",
      "At t = 0.000604239 and h = 3.4602e-015, the corrector convergence failed repeatedly or with |h| = hmin.\n",
      "psetup failed: .../casadi/interfaces/sundials/idas_interface.cpp:849: Calculating Jacobian failed\n",
      "At t = 0.000604297 and h = 5.79285e-016, the corrector convergence failed repeatedly or with |h| = hmin.\n",
      "psetup failed: .../casadi/interfaces/sundials/idas_interface.cpp:849: Calculating Jacobian failed\n",
      "psetup failed: .../casadi/interfaces/sundials/idas_interface.cpp:849: Calculating Jacobian failed\n",
      "At t = 0.000595348 and h = 6.40328e-015, the corrector convergence failed repeatedly or with |h| = hmin.\n",
      "psetup failed: .../casadi/interfaces/sundials/idas_interface.cpp:849: Calculating Jacobian failed\n",
      "psetup failed: .../casadi/interfaces/sundials/idas_interface.cpp:849: Calculating Jacobian failed\n",
      "psetup failed: .../casadi/interfaces/sundials/idas_interface.cpp:849: Calculating Jacobian failed\n",
      "psetup failed: .../casadi/interfaces/sundials/idas_interface.cpp:849: Calculating Jacobian failed\n",
      "psetup failed: .../casadi/interfaces/sundials/idas_interface.cpp:849: Calculating Jacobian failed\n",
      "psetup failed: .../casadi/interfaces/sundials/idas_interface.cpp:849: Calculating Jacobian failed\n",
      "psetup failed: .../casadi/interfaces/sundials/idas_interface.cpp:849: Calculating Jacobian failed\n",
      "psetup failed: .../casadi/interfaces/sundials/idas_interface.cpp:849: Calculating Jacobian failed\n",
      "psetup failed: .../casadi/interfaces/sundials/idas_interface.cpp:849: Calculating Jacobian failed\n",
      "psetup failed: .../casadi/interfaces/sundials/idas_interface.cpp:849: Calculating Jacobian failed\n",
      "psetup failed: .../casadi/interfaces/sundials/idas_interface.cpp:849: Calculating Jacobian failed\n",
      "psetup failed: .../casadi/interfaces/sundials/idas_interface.cpp:849: Calculating Jacobian failed\n",
      "psetup failed: .../casadi/interfaces/sundials/idas_interface.cpp:849: Calculating Jacobian failed\n",
      "psetup failed: .../casadi/interfaces/sundials/idas_interface.cpp:849: Calculating Jacobian failed\n",
      "psetup failed: .../casadi/interfaces/sundials/idas_interface.cpp:849: Calculating Jacobian failed\n",
      "psetup failed: .../casadi/interfaces/sundials/idas_interface.cpp:849: Calculating Jacobian failed\n",
      "At t = 0.000298034 and h = 5.78124e-014, the corrector convergence failed repeatedly or with |h| = hmin.\n",
      "At t = 0.000129746 and h = 4.23782e-015, the corrector convergence failed repeatedly or with |h| = hmin.\n",
      "At t = 5.14447e-005 and h = 3.48972e-015, the corrector convergence failed repeatedly or with |h| = hmin.\n",
      "The linesearch algorithm failed with too small a step.\n",
      "The linesearch algorithm failed with too small a step.\n",
      "The linesearch algorithm failed with too small a step.\n",
      "The linesearch algorithm failed with too small a step.\n",
      "The linesearch algorithm failed with too small a step.\n",
      "2022-10-06 14:00:26.501 - [ERROR] callbacks.on_experiment_error(226): Simulation error: Maximum number of decreased steps occurred at t=34.96722469616582. Try solving the model up to this time only or reducing dt_max (currently, dt_max=3.5458164923888056) and/or reducing the size of the time steps or period of the experiment.\n"
     ]
    },
    {
     "name": "stdout",
     "output_type": "stream",
     "text": [
      "Succeed for:  Xi= -1.2 t_0plus= 0.01 D_cross= 1.1250000375e-11 D_ec= 5e-14\n"
     ]
    },
    {
     "name": "stderr",
     "output_type": "stream",
     "text": [
      "At t = 0.00113752 and h = 6.65981e-012, the corrector convergence failed repeatedly or with |h| = hmin.\n",
      "2022-10-06 14:00:29.765 - [ERROR] callbacks.on_experiment_error(226): Simulation error: .../casadi/interfaces/sundials/idas_interface.cpp:591: IDASolve returned \"IDA_CONV_FAIL\". Consult IDAS documentation.\n"
     ]
    },
    {
     "name": "stdout",
     "output_type": "stream",
     "text": [
      "Traceback (most recent call last):\n",
      "  File \"d:\\gitpybamm\\lrh_409\\lrh_409\\envsolcon\\pybamm-gem\\pybamm\\solvers\\casadi_solver.py\", line 690, in _run_integrator\n",
      "    casadi_sol = integrator(\n",
      "  File \"d:\\GitPyBaMM\\LRH_409\\LRH_409\\envSolCon\\lib\\site-packages\\casadi\\casadi.py\", line 13453, in __call__\n",
      "    return self.call(kwargs)\n",
      "  File \"d:\\GitPyBaMM\\LRH_409\\LRH_409\\envSolCon\\lib\\site-packages\\casadi\\casadi.py\", line 12324, in call\n",
      "    return _casadi.Function_call(self, *args)\n",
      "RuntimeError: .../casadi/interfaces/sundials/idas_interface.cpp:591: IDASolve returned \"IDA_CONV_FAIL\". Consult IDAS documentation.\n",
      "\n",
      "During handling of the above exception, another exception occurred:\n",
      "\n",
      "Traceback (most recent call last):\n",
      "  File \"C:\\Users\\rl1120\\AppData\\Local\\Temp\\ipykernel_16444\\920439172.py\", line 16, in <cell line: 11>\n",
      "    Sol_ddiff    = Sim_ddiff.solve(\n",
      "  File \"d:\\gitpybamm\\lrh_409\\lrh_409\\envsolcon\\pybamm-gem\\pybamm\\simulation.py\", line 843, in solve\n",
      "    raise e\n",
      "  File \"d:\\gitpybamm\\lrh_409\\lrh_409\\envsolcon\\pybamm-gem\\pybamm\\simulation.py\", line 829, in solve\n",
      "    step_solution = solver.step(\n",
      "  File \"d:\\gitpybamm\\lrh_409\\lrh_409\\envsolcon\\pybamm-gem\\pybamm\\solvers\\base_solver.py\", line 1322, in step\n",
      "    solution = self._integrate(model, t_eval, ext_and_inputs)\n",
      "  File \"d:\\gitpybamm\\lrh_409\\lrh_409\\envsolcon\\pybamm-gem\\pybamm\\solvers\\casadi_solver.py\", line 274, in _integrate\n",
      "    current_step_sol = self._solve_for_event(\n",
      "  File \"d:\\gitpybamm\\lrh_409\\lrh_409\\envsolcon\\pybamm-gem\\pybamm\\solvers\\casadi_solver.py\", line 437, in _solve_for_event\n",
      "    dense_step_sol = self._run_integrator(\n",
      "  File \"d:\\gitpybamm\\lrh_409\\lrh_409\\envsolcon\\pybamm-gem\\pybamm\\solvers\\casadi_solver.py\", line 743, in _run_integrator\n",
      "    raise pybamm.SolverError(e.args[0])\n",
      "pybamm.expression_tree.exceptions.SolverError: .../casadi/interfaces/sundials/idas_interface.cpp:591: IDASolve returned \"IDA_CONV_FAIL\". Consult IDAS documentation.\n",
      "\n",
      "Fail for:  Xi= -1.2 t_0plus= 0.01 D_cross= 1.1250000375e-11 D_ec= 1.250375e-10\n",
      "Succeed for:  Xi= -1.2 t_0plus= 0.01 D_cross= 1.1250000375e-11 D_ec= 2.50025e-10\n",
      "Succeed for:  Xi= -1.2 t_0plus= 0.01 D_cross= 1.1250000375e-11 D_ec= 3.750125e-10\n"
     ]
    },
    {
     "name": "stderr",
     "output_type": "stream",
     "text": [
      "The linesearch algorithm failed with too small a step.\n",
      "The linesearch algorithm failed with too small a step.\n"
     ]
    },
    {
     "name": "stdout",
     "output_type": "stream",
     "text": [
      "Succeed for:  Xi= -1.2 t_0plus= 0.01 D_cross= 1.1250000375e-11 D_ec= 5e-10\n"
     ]
    },
    {
     "name": "stderr",
     "output_type": "stream",
     "text": [
      "At t = 0.0011635 and h = 1.79916e-015, the corrector convergence failed repeatedly or with |h| = hmin.\n",
      "psetup failed: .../casadi/interfaces/sundials/idas_interface.cpp:852: Linear solve failed\n",
      "At t = 0.0011635 and h = 5.77554e-016, the corrector convergence failed repeatedly or with |h| = hmin.\n",
      "psetup failed: .../casadi/interfaces/sundials/idas_interface.cpp:852: Linear solve failed\n",
      "psetup failed: .../casadi/interfaces/sundials/idas_interface.cpp:852: Linear solve failed\n",
      "psetup failed: .../casadi/interfaces/sundials/idas_interface.cpp:849: Calculating Jacobian failed\n",
      "psetup failed: .../casadi/interfaces/sundials/idas_interface.cpp:852: Linear solve failed\n",
      "psetup failed: .../casadi/interfaces/sundials/idas_interface.cpp:852: Linear solve failed\n",
      "psetup failed: .../casadi/interfaces/sundials/idas_interface.cpp:852: Linear solve failed\n",
      "psetup failed: .../casadi/interfaces/sundials/idas_interface.cpp:852: Linear solve failed\n",
      "At t = 0.00115639 and h = 1.4446e-021, the corrector convergence failed repeatedly or with |h| = hmin.\n",
      "psetup failed: .../casadi/interfaces/sundials/idas_interface.cpp:852: Linear solve failed\n",
      "psetup failed: .../casadi/interfaces/sundials/idas_interface.cpp:852: Linear solve failed\n",
      "psetup failed: .../casadi/interfaces/sundials/idas_interface.cpp:852: Linear solve failed\n",
      "At t = 0.0011635 and h = 1.11027e-015, the corrector convergence failed repeatedly or with |h| = hmin.\n",
      "2022-10-06 14:00:59.992 - [ERROR] callbacks.on_experiment_error(226): Simulation error: Maximum number of decreased steps occurred at t=0.0. Try solving the model up to this time only or reducing dt_max (currently, dt_max=7.091632984777611) and/or reducing the size of the time steps or period of the experiment.\n"
     ]
    },
    {
     "name": "stdout",
     "output_type": "stream",
     "text": [
      "Traceback (most recent call last):\n",
      "  File \"C:\\Users\\rl1120\\AppData\\Local\\Temp\\ipykernel_16444\\920439172.py\", line 16, in <cell line: 11>\n",
      "    Sol_ddiff    = Sim_ddiff.solve(\n",
      "  File \"d:\\gitpybamm\\lrh_409\\lrh_409\\envsolcon\\pybamm-gem\\pybamm\\simulation.py\", line 843, in solve\n",
      "    raise e\n",
      "  File \"d:\\gitpybamm\\lrh_409\\lrh_409\\envsolcon\\pybamm-gem\\pybamm\\simulation.py\", line 829, in solve\n",
      "    step_solution = solver.step(\n",
      "  File \"d:\\gitpybamm\\lrh_409\\lrh_409\\envsolcon\\pybamm-gem\\pybamm\\solvers\\base_solver.py\", line 1322, in step\n",
      "    solution = self._integrate(model, t_eval, ext_and_inputs)\n",
      "  File \"d:\\gitpybamm\\lrh_409\\lrh_409\\envsolcon\\pybamm-gem\\pybamm\\solvers\\casadi_solver.py\", line 266, in _integrate\n",
      "    raise pybamm.SolverError(\n",
      "pybamm.expression_tree.exceptions.SolverError: Maximum number of decreased steps occurred at t=0.0. Try solving the model up to this time only or reducing dt_max (currently, dt_max=7.091632984777611) and/or reducing the size of the time steps or period of the experiment.\n",
      "\n",
      "Fail for:  Xi= -1.2 t_0plus= 0.01 D_cross= 1.5e-11 D_ec= 5e-14\n"
     ]
    },
    {
     "name": "stderr",
     "output_type": "stream",
     "text": [
      "The linesearch algorithm failed with too small a step.\n",
      "The linesearch algorithm failed with too small a step.\n",
      "The linesearch algorithm failed with too small a step.\n",
      "2022-10-06 14:01:06.241 - [ERROR] callbacks.on_experiment_error(226): Simulation error: .../casadi/interfaces/sundials/idas_interface.cpp:591: IDACalcIC returned \"IDA_LINESEARCH_FAIL\". Consult IDAS documentation.\n"
     ]
    },
    {
     "name": "stdout",
     "output_type": "stream",
     "text": [
      "Succeed for:  Xi= -1.2 t_0plus= 0.01 D_cross= 1.5e-11 D_ec= 1.250375e-10\n",
      "Succeed for:  Xi= -1.2 t_0plus= 0.01 D_cross= 1.5e-11 D_ec= 2.50025e-10\n",
      "Succeed for:  Xi= -1.2 t_0plus= 0.01 D_cross= 1.5e-11 D_ec= 3.750125e-10\n",
      "Succeed for:  Xi= -1.2 t_0plus= 0.01 D_cross= 1.5e-11 D_ec= 5e-10\n",
      "Succeed for:  Xi= -1.2 t_0plus= 0.08249999999999999 D_cross= 1.5e-18 D_ec= 5e-14\n",
      "Succeed for:  Xi= -1.2 t_0plus= 0.08249999999999999 D_cross= 1.5e-18 D_ec= 1.250375e-10\n"
     ]
    },
    {
     "name": "stderr",
     "output_type": "stream",
     "text": [
      "The linesearch algorithm failed with too small a step.\n",
      "The linesearch algorithm failed with too small a step.\n",
      "The linesearch algorithm failed with too small a step.\n",
      "The linesearch algorithm failed with too small a step.\n",
      "2022-10-06 14:01:40.876 - [ERROR] callbacks.on_experiment_error(226): Simulation error: Maximum number of decreased steps occurred at t=3057.2835537222745. Try solving the model up to this time only or reducing dt_max (currently, dt_max=7.091632984777611) and/or reducing the size of the time steps or period of the experiment.\n"
     ]
    },
    {
     "name": "stdout",
     "output_type": "stream",
     "text": [
      "Succeed for:  Xi= -1.2 t_0plus= 0.08249999999999999 D_cross= 1.5e-18 D_ec= 2.50025e-10\n"
     ]
    },
    {
     "name": "stderr",
     "output_type": "stream",
     "text": [
      "The linesearch algorithm failed with too small a step.\n",
      "The linesearch algorithm failed with too small a step.\n",
      "The linesearch algorithm failed with too small a step.\n"
     ]
    },
    {
     "name": "stdout",
     "output_type": "stream",
     "text": [
      "Succeed for:  Xi= -1.2 t_0plus= 0.08249999999999999 D_cross= 1.5e-18 D_ec= 3.750125e-10\n"
     ]
    },
    {
     "name": "stderr",
     "output_type": "stream",
     "text": [
      "The linesearch algorithm failed with too small a step.\n",
      "The linesearch algorithm failed with too small a step.\n"
     ]
    },
    {
     "name": "stdout",
     "output_type": "stream",
     "text": [
      "Succeed for:  Xi= -1.2 t_0plus= 0.08249999999999999 D_cross= 1.5e-18 D_ec= 5e-10\n"
     ]
    },
    {
     "name": "stderr",
     "output_type": "stream",
     "text": [
      "psetup failed: .../casadi/interfaces/sundials/idas_interface.cpp:849: Calculating Jacobian failed\n",
      "psetup failed: .../casadi/interfaces/sundials/idas_interface.cpp:849: Calculating Jacobian failed\n",
      "psetup failed: .../casadi/interfaces/sundials/idas_interface.cpp:852: Linear solve failed\n",
      "At t = 0.00478668 and h = 4.67151e-016, the corrector convergence failed repeatedly or with |h| = hmin.\n",
      "At t = 0.00474032 and h = 1.36167e-014, the corrector convergence failed repeatedly or with |h| = hmin.\n",
      "At t = 0.00224026 and h = 1.83743e-016, the corrector convergence failed repeatedly or with |h| = hmin.\n",
      "psetup failed: .../casadi/interfaces/sundials/idas_interface.cpp:849: Calculating Jacobian failed\n",
      "psetup failed: .../casadi/interfaces/sundials/idas_interface.cpp:849: Calculating Jacobian failed\n",
      "At t = 0.00103961 and h = 1.18945e-013, the corrector convergence failed repeatedly or with |h| = hmin.\n",
      "At t = 0.00036489 and h = 6.35239e-014, the corrector convergence failed repeatedly or with |h| = hmin.\n",
      "At t = 6.68495e-005 and h = 1.57085e-015, the corrector convergence failed repeatedly or with |h| = hmin.\n",
      "psetup failed: .../casadi/interfaces/sundials/idas_interface.cpp:849: Calculating Jacobian failed\n",
      "psetup failed: .../casadi/interfaces/sundials/idas_interface.cpp:849: Calculating Jacobian failed\n",
      "At t = 8.02973e-005 and h = 1.4943e-014, the corrector convergence failed repeatedly or with |h| = hmin.\n",
      "psetup failed: .../casadi/interfaces/sundials/idas_interface.cpp:849: Calculating Jacobian failed\n",
      "psetup failed: .../casadi/interfaces/sundials/idas_interface.cpp:849: Calculating Jacobian failed\n",
      "psetup failed: .../casadi/interfaces/sundials/idas_interface.cpp:849: Calculating Jacobian failed\n",
      "psetup failed: .../casadi/interfaces/sundials/idas_interface.cpp:849: Calculating Jacobian failed\n",
      "psetup failed: .../casadi/interfaces/sundials/idas_interface.cpp:849: Calculating Jacobian failed\n",
      "psetup failed: .../casadi/interfaces/sundials/idas_interface.cpp:849: Calculating Jacobian failed\n",
      "psetup failed: .../casadi/interfaces/sundials/idas_interface.cpp:849: Calculating Jacobian failed\n",
      "psetup failed: .../casadi/interfaces/sundials/idas_interface.cpp:849: Calculating Jacobian failed\n",
      "psetup failed: .../casadi/interfaces/sundials/idas_interface.cpp:849: Calculating Jacobian failed\n",
      "psetup failed: .../casadi/interfaces/sundials/idas_interface.cpp:849: Calculating Jacobian failed\n",
      "At t = 6.69122e-005 and h = 5.78823e-014, the corrector convergence failed repeatedly or with |h| = hmin.\n",
      "psetup failed: .../casadi/interfaces/sundials/idas_interface.cpp:849: Calculating Jacobian failed\n",
      "At t = 6.71584e-005 and h = 1.01155e-014, the corrector convergence failed repeatedly or with |h| = hmin.\n",
      "At t = 6.68143e-005 and h = 6.64592e-014, the corrector convergence failed repeatedly or with |h| = hmin.\n",
      "2022-10-06 14:02:26.286 - [ERROR] callbacks.on_experiment_error(226): Simulation error: Maximum number of decreased steps occurred at t=113.02743573851058. Try solving the model up to this time only or reducing dt_max (currently, dt_max=3.5458164923888056) and/or reducing the size of the time steps or period of the experiment.\n"
     ]
    },
    {
     "name": "stdout",
     "output_type": "stream",
     "text": [
      "Succeed for:  Xi= -1.2 t_0plus= 0.08249999999999999 D_cross= 3.750001125e-12 D_ec= 5e-14\n",
      "Succeed for:  Xi= -1.2 t_0plus= 0.08249999999999999 D_cross= 3.750001125e-12 D_ec= 1.250375e-10\n"
     ]
    },
    {
     "name": "stderr",
     "output_type": "stream",
     "text": [
      "The linesearch algorithm failed with too small a step.\n",
      "The linesearch algorithm failed with too small a step.\n",
      "The linesearch algorithm failed with too small a step.\n",
      "The linesearch algorithm failed with too small a step.\n",
      "The linesearch algorithm failed with too small a step.\n",
      "2022-10-06 14:02:34.767 - [ERROR] callbacks.on_experiment_error(226): Simulation error: Maximum number of decreased steps occurred at t=2886.862710582763. Try solving the model up to this time only or reducing dt_max (currently, dt_max=3.5458164923888056) and/or reducing the size of the time steps or period of the experiment.\n"
     ]
    },
    {
     "name": "stdout",
     "output_type": "stream",
     "text": [
      "Succeed for:  Xi= -1.2 t_0plus= 0.08249999999999999 D_cross= 3.750001125e-12 D_ec= 2.50025e-10\n",
      "Succeed for:  Xi= -1.2 t_0plus= 0.08249999999999999 D_cross= 3.750001125e-12 D_ec= 3.750125e-10\n"
     ]
    },
    {
     "name": "stderr",
     "output_type": "stream",
     "text": [
      "At t = 0.00284689 and h = 1.82767e-011, the corrector convergence failed repeatedly or with |h| = hmin.\n",
      "The linesearch algorithm failed with too small a step.\n",
      "The linesearch algorithm failed with too small a step.\n",
      "The linesearch algorithm failed with too small a step.\n"
     ]
    },
    {
     "name": "stdout",
     "output_type": "stream",
     "text": [
      "Succeed for:  Xi= -1.2 t_0plus= 0.08249999999999999 D_cross= 3.750001125e-12 D_ec= 5e-10\n"
     ]
    },
    {
     "name": "stderr",
     "output_type": "stream",
     "text": [
      "psetup failed: .../casadi/interfaces/sundials/idas_interface.cpp:849: Calculating Jacobian failed\n",
      "psetup failed: .../casadi/interfaces/sundials/idas_interface.cpp:852: Linear solve failed\n",
      "At t = 0.00400595 and h = 3.42308e-014, the corrector convergence failed repeatedly or with |h| = hmin.\n",
      "At t = 0.00390289 and h = 4.29163e-013, the corrector convergence failed repeatedly or with |h| = hmin.\n",
      "At t = 0.00145286 and h = 3.61509e-013, the corrector convergence failed repeatedly or with |h| = hmin.\n",
      "At t = 0.000424778 and h = 4.45331e-014, the corrector convergence failed repeatedly or with |h| = hmin.\n",
      "At t = 0.000425252 and h = 2.64511e-015, the corrector convergence failed repeatedly or with |h| = hmin.\n",
      "At t = 0.000425058 and h = 5.27331e-014, the corrector convergence failed repeatedly or with |h| = hmin.\n",
      "psetup failed: .../casadi/interfaces/sundials/idas_interface.cpp:852: Linear solve failed\n",
      "At t = 0.000425054 and h = 9.98768e-014, the corrector convergence failed repeatedly or with |h| = hmin.\n",
      "At t = 0.000388201 and h = 2.09934e-013, the corrector convergence failed repeatedly or with |h| = hmin.\n",
      "2022-10-06 14:03:15.354 - [ERROR] callbacks.on_experiment_error(226): Simulation error: Maximum number of decreased steps occurred at t=100.53344253274648. Try solving the model up to this time only or reducing dt_max (currently, dt_max=3.5458164923888056) and/or reducing the size of the time steps or period of the experiment.\n"
     ]
    },
    {
     "name": "stdout",
     "output_type": "stream",
     "text": [
      "Succeed for:  Xi= -1.2 t_0plus= 0.08249999999999999 D_cross= 7.500000749999999e-12 D_ec= 5e-14\n"
     ]
    },
    {
     "name": "stderr",
     "output_type": "stream",
     "text": [
      "At t = 0.00317752 and h = 1.66962e-010, the corrector convergence failed repeatedly or with |h| = hmin.\n",
      "At t = 0.00317755 and h = 1.66959e-010, the corrector convergence failed repeatedly or with |h| = hmin.\n"
     ]
    },
    {
     "name": "stdout",
     "output_type": "stream",
     "text": [
      "Succeed for:  Xi= -1.2 t_0plus= 0.08249999999999999 D_cross= 7.500000749999999e-12 D_ec= 1.250375e-10\n"
     ]
    },
    {
     "name": "stderr",
     "output_type": "stream",
     "text": [
      "At t = 0.00528273 and h = 4.95482e-012, the corrector convergence failed repeatedly or with |h| = hmin.\n"
     ]
    },
    {
     "name": "stdout",
     "output_type": "stream",
     "text": [
      "Succeed for:  Xi= -1.2 t_0plus= 0.08249999999999999 D_cross= 7.500000749999999e-12 D_ec= 2.50025e-10\n"
     ]
    },
    {
     "name": "stderr",
     "output_type": "stream",
     "text": [
      "The linesearch algorithm failed with too small a step.\n",
      "The linesearch algorithm failed with too small a step.\n",
      "The linesearch algorithm failed with too small a step.\n"
     ]
    },
    {
     "name": "stdout",
     "output_type": "stream",
     "text": [
      "Succeed for:  Xi= -1.2 t_0plus= 0.08249999999999999 D_cross= 7.500000749999999e-12 D_ec= 3.750125e-10\n",
      "Succeed for:  Xi= -1.2 t_0plus= 0.08249999999999999 D_cross= 7.500000749999999e-12 D_ec= 5e-10\n"
     ]
    },
    {
     "name": "stderr",
     "output_type": "stream",
     "text": [
      "psetup failed: .../casadi/interfaces/sundials/idas_interface.cpp:849: Calculating Jacobian failed\n",
      "psetup failed: .../casadi/interfaces/sundials/idas_interface.cpp:849: Calculating Jacobian failed\n",
      "At t = 0.00309594 and h = 1.2771e-014, the corrector convergence failed repeatedly or with |h| = hmin.\n",
      "At t = 0.00309909 and h = 1.51318e-014, the corrector convergence failed repeatedly or with |h| = hmin.\n",
      "At t = 0.000604239 and h = 3.4602e-015, the corrector convergence failed repeatedly or with |h| = hmin.\n",
      "psetup failed: .../casadi/interfaces/sundials/idas_interface.cpp:849: Calculating Jacobian failed\n",
      "At t = 0.000604297 and h = 5.79285e-016, the corrector convergence failed repeatedly or with |h| = hmin.\n",
      "psetup failed: .../casadi/interfaces/sundials/idas_interface.cpp:849: Calculating Jacobian failed\n",
      "psetup failed: .../casadi/interfaces/sundials/idas_interface.cpp:849: Calculating Jacobian failed\n",
      "At t = 0.000595348 and h = 6.40328e-015, the corrector convergence failed repeatedly or with |h| = hmin.\n",
      "psetup failed: .../casadi/interfaces/sundials/idas_interface.cpp:849: Calculating Jacobian failed\n",
      "psetup failed: .../casadi/interfaces/sundials/idas_interface.cpp:849: Calculating Jacobian failed\n",
      "psetup failed: .../casadi/interfaces/sundials/idas_interface.cpp:849: Calculating Jacobian failed\n",
      "psetup failed: .../casadi/interfaces/sundials/idas_interface.cpp:849: Calculating Jacobian failed\n",
      "psetup failed: .../casadi/interfaces/sundials/idas_interface.cpp:849: Calculating Jacobian failed\n",
      "psetup failed: .../casadi/interfaces/sundials/idas_interface.cpp:849: Calculating Jacobian failed\n",
      "psetup failed: .../casadi/interfaces/sundials/idas_interface.cpp:849: Calculating Jacobian failed\n",
      "psetup failed: .../casadi/interfaces/sundials/idas_interface.cpp:849: Calculating Jacobian failed\n",
      "psetup failed: .../casadi/interfaces/sundials/idas_interface.cpp:849: Calculating Jacobian failed\n",
      "psetup failed: .../casadi/interfaces/sundials/idas_interface.cpp:849: Calculating Jacobian failed\n",
      "psetup failed: .../casadi/interfaces/sundials/idas_interface.cpp:849: Calculating Jacobian failed\n",
      "psetup failed: .../casadi/interfaces/sundials/idas_interface.cpp:849: Calculating Jacobian failed\n",
      "psetup failed: .../casadi/interfaces/sundials/idas_interface.cpp:849: Calculating Jacobian failed\n",
      "psetup failed: .../casadi/interfaces/sundials/idas_interface.cpp:849: Calculating Jacobian failed\n",
      "psetup failed: .../casadi/interfaces/sundials/idas_interface.cpp:849: Calculating Jacobian failed\n",
      "psetup failed: .../casadi/interfaces/sundials/idas_interface.cpp:849: Calculating Jacobian failed\n",
      "At t = 0.000298034 and h = 5.78124e-014, the corrector convergence failed repeatedly or with |h| = hmin.\n",
      "At t = 0.000129746 and h = 4.23782e-015, the corrector convergence failed repeatedly or with |h| = hmin.\n",
      "At t = 5.14447e-005 and h = 3.48972e-015, the corrector convergence failed repeatedly or with |h| = hmin.\n",
      "The linesearch algorithm failed with too small a step.\n",
      "The linesearch algorithm failed with too small a step.\n",
      "The linesearch algorithm failed with too small a step.\n",
      "The linesearch algorithm failed with too small a step.\n",
      "The linesearch algorithm failed with too small a step.\n",
      "2022-10-06 14:04:07.275 - [ERROR] callbacks.on_experiment_error(226): Simulation error: Maximum number of decreased steps occurred at t=34.96722469616582. Try solving the model up to this time only or reducing dt_max (currently, dt_max=3.5458164923888056) and/or reducing the size of the time steps or period of the experiment.\n"
     ]
    },
    {
     "name": "stdout",
     "output_type": "stream",
     "text": [
      "Succeed for:  Xi= -1.2 t_0plus= 0.08249999999999999 D_cross= 1.1250000375e-11 D_ec= 5e-14\n"
     ]
    },
    {
     "name": "stderr",
     "output_type": "stream",
     "text": [
      "At t = 0.00113752 and h = 6.65981e-012, the corrector convergence failed repeatedly or with |h| = hmin.\n",
      "2022-10-06 14:04:10.042 - [ERROR] callbacks.on_experiment_error(226): Simulation error: .../casadi/interfaces/sundials/idas_interface.cpp:591: IDASolve returned \"IDA_CONV_FAIL\". Consult IDAS documentation.\n"
     ]
    },
    {
     "name": "stdout",
     "output_type": "stream",
     "text": [
      "Traceback (most recent call last):\n",
      "  File \"d:\\gitpybamm\\lrh_409\\lrh_409\\envsolcon\\pybamm-gem\\pybamm\\solvers\\casadi_solver.py\", line 690, in _run_integrator\n",
      "    casadi_sol = integrator(\n",
      "  File \"d:\\GitPyBaMM\\LRH_409\\LRH_409\\envSolCon\\lib\\site-packages\\casadi\\casadi.py\", line 13453, in __call__\n",
      "    return self.call(kwargs)\n",
      "  File \"d:\\GitPyBaMM\\LRH_409\\LRH_409\\envSolCon\\lib\\site-packages\\casadi\\casadi.py\", line 12324, in call\n",
      "    return _casadi.Function_call(self, *args)\n",
      "RuntimeError: .../casadi/interfaces/sundials/idas_interface.cpp:591: IDASolve returned \"IDA_CONV_FAIL\". Consult IDAS documentation.\n",
      "\n",
      "During handling of the above exception, another exception occurred:\n",
      "\n",
      "Traceback (most recent call last):\n",
      "  File \"C:\\Users\\rl1120\\AppData\\Local\\Temp\\ipykernel_16444\\920439172.py\", line 16, in <cell line: 11>\n",
      "    Sol_ddiff    = Sim_ddiff.solve(\n",
      "  File \"d:\\gitpybamm\\lrh_409\\lrh_409\\envsolcon\\pybamm-gem\\pybamm\\simulation.py\", line 843, in solve\n",
      "    raise e\n",
      "  File \"d:\\gitpybamm\\lrh_409\\lrh_409\\envsolcon\\pybamm-gem\\pybamm\\simulation.py\", line 829, in solve\n",
      "    step_solution = solver.step(\n",
      "  File \"d:\\gitpybamm\\lrh_409\\lrh_409\\envsolcon\\pybamm-gem\\pybamm\\solvers\\base_solver.py\", line 1322, in step\n",
      "    solution = self._integrate(model, t_eval, ext_and_inputs)\n",
      "  File \"d:\\gitpybamm\\lrh_409\\lrh_409\\envsolcon\\pybamm-gem\\pybamm\\solvers\\casadi_solver.py\", line 274, in _integrate\n",
      "    current_step_sol = self._solve_for_event(\n",
      "  File \"d:\\gitpybamm\\lrh_409\\lrh_409\\envsolcon\\pybamm-gem\\pybamm\\solvers\\casadi_solver.py\", line 437, in _solve_for_event\n",
      "    dense_step_sol = self._run_integrator(\n",
      "  File \"d:\\gitpybamm\\lrh_409\\lrh_409\\envsolcon\\pybamm-gem\\pybamm\\solvers\\casadi_solver.py\", line 743, in _run_integrator\n",
      "    raise pybamm.SolverError(e.args[0])\n",
      "pybamm.expression_tree.exceptions.SolverError: .../casadi/interfaces/sundials/idas_interface.cpp:591: IDASolve returned \"IDA_CONV_FAIL\". Consult IDAS documentation.\n",
      "\n",
      "Fail for:  Xi= -1.2 t_0plus= 0.08249999999999999 D_cross= 1.1250000375e-11 D_ec= 1.250375e-10\n",
      "Succeed for:  Xi= -1.2 t_0plus= 0.08249999999999999 D_cross= 1.1250000375e-11 D_ec= 2.50025e-10\n",
      "Succeed for:  Xi= -1.2 t_0plus= 0.08249999999999999 D_cross= 1.1250000375e-11 D_ec= 3.750125e-10\n"
     ]
    },
    {
     "name": "stderr",
     "output_type": "stream",
     "text": [
      "The linesearch algorithm failed with too small a step.\n",
      "The linesearch algorithm failed with too small a step.\n"
     ]
    },
    {
     "name": "stdout",
     "output_type": "stream",
     "text": [
      "Succeed for:  Xi= -1.2 t_0plus= 0.08249999999999999 D_cross= 1.1250000375e-11 D_ec= 5e-10\n"
     ]
    },
    {
     "name": "stderr",
     "output_type": "stream",
     "text": [
      "At t = 0.0011635 and h = 1.79916e-015, the corrector convergence failed repeatedly or with |h| = hmin.\n",
      "psetup failed: .../casadi/interfaces/sundials/idas_interface.cpp:852: Linear solve failed\n",
      "At t = 0.0011635 and h = 5.77554e-016, the corrector convergence failed repeatedly or with |h| = hmin.\n",
      "psetup failed: .../casadi/interfaces/sundials/idas_interface.cpp:852: Linear solve failed\n",
      "psetup failed: .../casadi/interfaces/sundials/idas_interface.cpp:852: Linear solve failed\n",
      "psetup failed: .../casadi/interfaces/sundials/idas_interface.cpp:849: Calculating Jacobian failed\n",
      "psetup failed: .../casadi/interfaces/sundials/idas_interface.cpp:852: Linear solve failed\n",
      "psetup failed: .../casadi/interfaces/sundials/idas_interface.cpp:852: Linear solve failed\n",
      "psetup failed: .../casadi/interfaces/sundials/idas_interface.cpp:852: Linear solve failed\n",
      "psetup failed: .../casadi/interfaces/sundials/idas_interface.cpp:852: Linear solve failed\n",
      "At t = 0.00115639 and h = 1.4446e-021, the corrector convergence failed repeatedly or with |h| = hmin.\n",
      "psetup failed: .../casadi/interfaces/sundials/idas_interface.cpp:852: Linear solve failed\n",
      "psetup failed: .../casadi/interfaces/sundials/idas_interface.cpp:852: Linear solve failed\n",
      "psetup failed: .../casadi/interfaces/sundials/idas_interface.cpp:852: Linear solve failed\n",
      "At t = 0.0011635 and h = 1.11027e-015, the corrector convergence failed repeatedly or with |h| = hmin.\n",
      "2022-10-06 14:04:40.096 - [ERROR] callbacks.on_experiment_error(226): Simulation error: Maximum number of decreased steps occurred at t=0.0. Try solving the model up to this time only or reducing dt_max (currently, dt_max=7.091632984777611) and/or reducing the size of the time steps or period of the experiment.\n"
     ]
    },
    {
     "name": "stdout",
     "output_type": "stream",
     "text": [
      "Traceback (most recent call last):\n",
      "  File \"C:\\Users\\rl1120\\AppData\\Local\\Temp\\ipykernel_16444\\920439172.py\", line 16, in <cell line: 11>\n",
      "    Sol_ddiff    = Sim_ddiff.solve(\n",
      "  File \"d:\\gitpybamm\\lrh_409\\lrh_409\\envsolcon\\pybamm-gem\\pybamm\\simulation.py\", line 843, in solve\n",
      "    raise e\n",
      "  File \"d:\\gitpybamm\\lrh_409\\lrh_409\\envsolcon\\pybamm-gem\\pybamm\\simulation.py\", line 829, in solve\n",
      "    step_solution = solver.step(\n",
      "  File \"d:\\gitpybamm\\lrh_409\\lrh_409\\envsolcon\\pybamm-gem\\pybamm\\solvers\\base_solver.py\", line 1322, in step\n",
      "    solution = self._integrate(model, t_eval, ext_and_inputs)\n",
      "  File \"d:\\gitpybamm\\lrh_409\\lrh_409\\envsolcon\\pybamm-gem\\pybamm\\solvers\\casadi_solver.py\", line 266, in _integrate\n",
      "    raise pybamm.SolverError(\n",
      "pybamm.expression_tree.exceptions.SolverError: Maximum number of decreased steps occurred at t=0.0. Try solving the model up to this time only or reducing dt_max (currently, dt_max=7.091632984777611) and/or reducing the size of the time steps or period of the experiment.\n",
      "\n",
      "Fail for:  Xi= -1.2 t_0plus= 0.08249999999999999 D_cross= 1.5e-11 D_ec= 5e-14\n"
     ]
    },
    {
     "name": "stderr",
     "output_type": "stream",
     "text": [
      "The linesearch algorithm failed with too small a step.\n",
      "The linesearch algorithm failed with too small a step.\n",
      "The linesearch algorithm failed with too small a step.\n",
      "2022-10-06 14:04:46.784 - [ERROR] callbacks.on_experiment_error(226): Simulation error: .../casadi/interfaces/sundials/idas_interface.cpp:591: IDACalcIC returned \"IDA_LINESEARCH_FAIL\". Consult IDAS documentation.\n"
     ]
    },
    {
     "name": "stdout",
     "output_type": "stream",
     "text": [
      "Succeed for:  Xi= -1.2 t_0plus= 0.08249999999999999 D_cross= 1.5e-11 D_ec= 1.250375e-10\n",
      "Succeed for:  Xi= -1.2 t_0plus= 0.08249999999999999 D_cross= 1.5e-11 D_ec= 2.50025e-10\n",
      "Succeed for:  Xi= -1.2 t_0plus= 0.08249999999999999 D_cross= 1.5e-11 D_ec= 3.750125e-10\n",
      "Succeed for:  Xi= -1.2 t_0plus= 0.08249999999999999 D_cross= 1.5e-11 D_ec= 5e-10\n",
      "Succeed for:  Xi= -1.2 t_0plus= 0.155 D_cross= 1.5e-18 D_ec= 5e-14\n",
      "Succeed for:  Xi= -1.2 t_0plus= 0.155 D_cross= 1.5e-18 D_ec= 1.250375e-10\n"
     ]
    },
    {
     "name": "stderr",
     "output_type": "stream",
     "text": [
      "The linesearch algorithm failed with too small a step.\n",
      "The linesearch algorithm failed with too small a step.\n",
      "The linesearch algorithm failed with too small a step.\n",
      "The linesearch algorithm failed with too small a step.\n",
      "2022-10-06 14:05:25.309 - [ERROR] callbacks.on_experiment_error(226): Simulation error: Maximum number of decreased steps occurred at t=3057.2835537222745. Try solving the model up to this time only or reducing dt_max (currently, dt_max=7.091632984777611) and/or reducing the size of the time steps or period of the experiment.\n"
     ]
    },
    {
     "name": "stdout",
     "output_type": "stream",
     "text": [
      "Succeed for:  Xi= -1.2 t_0plus= 0.155 D_cross= 1.5e-18 D_ec= 2.50025e-10\n"
     ]
    },
    {
     "name": "stderr",
     "output_type": "stream",
     "text": [
      "The linesearch algorithm failed with too small a step.\n",
      "The linesearch algorithm failed with too small a step.\n",
      "The linesearch algorithm failed with too small a step.\n"
     ]
    },
    {
     "name": "stdout",
     "output_type": "stream",
     "text": [
      "Succeed for:  Xi= -1.2 t_0plus= 0.155 D_cross= 1.5e-18 D_ec= 3.750125e-10\n"
     ]
    },
    {
     "name": "stderr",
     "output_type": "stream",
     "text": [
      "The linesearch algorithm failed with too small a step.\n",
      "The linesearch algorithm failed with too small a step.\n"
     ]
    },
    {
     "name": "stdout",
     "output_type": "stream",
     "text": [
      "Succeed for:  Xi= -1.2 t_0plus= 0.155 D_cross= 1.5e-18 D_ec= 5e-10\n"
     ]
    },
    {
     "name": "stderr",
     "output_type": "stream",
     "text": [
      "psetup failed: .../casadi/interfaces/sundials/idas_interface.cpp:849: Calculating Jacobian failed\n",
      "psetup failed: .../casadi/interfaces/sundials/idas_interface.cpp:849: Calculating Jacobian failed\n",
      "psetup failed: .../casadi/interfaces/sundials/idas_interface.cpp:852: Linear solve failed\n",
      "At t = 0.00478668 and h = 4.67151e-016, the corrector convergence failed repeatedly or with |h| = hmin.\n",
      "At t = 0.00474032 and h = 1.36167e-014, the corrector convergence failed repeatedly or with |h| = hmin.\n",
      "At t = 0.00224026 and h = 1.83743e-016, the corrector convergence failed repeatedly or with |h| = hmin.\n",
      "psetup failed: .../casadi/interfaces/sundials/idas_interface.cpp:849: Calculating Jacobian failed\n",
      "psetup failed: .../casadi/interfaces/sundials/idas_interface.cpp:849: Calculating Jacobian failed\n",
      "At t = 0.00103961 and h = 1.18945e-013, the corrector convergence failed repeatedly or with |h| = hmin.\n",
      "At t = 0.00036489 and h = 6.35239e-014, the corrector convergence failed repeatedly or with |h| = hmin.\n",
      "At t = 6.68495e-005 and h = 1.57085e-015, the corrector convergence failed repeatedly or with |h| = hmin.\n",
      "psetup failed: .../casadi/interfaces/sundials/idas_interface.cpp:849: Calculating Jacobian failed\n",
      "psetup failed: .../casadi/interfaces/sundials/idas_interface.cpp:849: Calculating Jacobian failed\n",
      "At t = 8.02973e-005 and h = 1.4943e-014, the corrector convergence failed repeatedly or with |h| = hmin.\n",
      "psetup failed: .../casadi/interfaces/sundials/idas_interface.cpp:849: Calculating Jacobian failed\n",
      "psetup failed: .../casadi/interfaces/sundials/idas_interface.cpp:849: Calculating Jacobian failed\n",
      "psetup failed: .../casadi/interfaces/sundials/idas_interface.cpp:849: Calculating Jacobian failed\n",
      "psetup failed: .../casadi/interfaces/sundials/idas_interface.cpp:849: Calculating Jacobian failed\n",
      "psetup failed: .../casadi/interfaces/sundials/idas_interface.cpp:849: Calculating Jacobian failed\n",
      "psetup failed: .../casadi/interfaces/sundials/idas_interface.cpp:849: Calculating Jacobian failed\n",
      "psetup failed: .../casadi/interfaces/sundials/idas_interface.cpp:849: Calculating Jacobian failed\n",
      "psetup failed: .../casadi/interfaces/sundials/idas_interface.cpp:849: Calculating Jacobian failed\n",
      "psetup failed: .../casadi/interfaces/sundials/idas_interface.cpp:849: Calculating Jacobian failed\n",
      "psetup failed: .../casadi/interfaces/sundials/idas_interface.cpp:849: Calculating Jacobian failed\n",
      "At t = 6.69122e-005 and h = 5.78823e-014, the corrector convergence failed repeatedly or with |h| = hmin.\n",
      "psetup failed: .../casadi/interfaces/sundials/idas_interface.cpp:849: Calculating Jacobian failed\n",
      "At t = 6.71584e-005 and h = 1.01155e-014, the corrector convergence failed repeatedly or with |h| = hmin.\n",
      "At t = 6.68143e-005 and h = 6.64592e-014, the corrector convergence failed repeatedly or with |h| = hmin.\n",
      "2022-10-06 14:06:13.840 - [ERROR] callbacks.on_experiment_error(226): Simulation error: Maximum number of decreased steps occurred at t=113.02743573851058. Try solving the model up to this time only or reducing dt_max (currently, dt_max=3.5458164923888056) and/or reducing the size of the time steps or period of the experiment.\n"
     ]
    },
    {
     "name": "stdout",
     "output_type": "stream",
     "text": [
      "Succeed for:  Xi= -1.2 t_0plus= 0.155 D_cross= 3.750001125e-12 D_ec= 5e-14\n",
      "Succeed for:  Xi= -1.2 t_0plus= 0.155 D_cross= 3.750001125e-12 D_ec= 1.250375e-10\n"
     ]
    },
    {
     "name": "stderr",
     "output_type": "stream",
     "text": [
      "The linesearch algorithm failed with too small a step.\n",
      "The linesearch algorithm failed with too small a step.\n",
      "The linesearch algorithm failed with too small a step.\n",
      "The linesearch algorithm failed with too small a step.\n",
      "The linesearch algorithm failed with too small a step.\n",
      "2022-10-06 14:06:21.903 - [ERROR] callbacks.on_experiment_error(226): Simulation error: Maximum number of decreased steps occurred at t=2886.862710582763. Try solving the model up to this time only or reducing dt_max (currently, dt_max=3.5458164923888056) and/or reducing the size of the time steps or period of the experiment.\n"
     ]
    },
    {
     "name": "stdout",
     "output_type": "stream",
     "text": [
      "Succeed for:  Xi= -1.2 t_0plus= 0.155 D_cross= 3.750001125e-12 D_ec= 2.50025e-10\n",
      "Succeed for:  Xi= -1.2 t_0plus= 0.155 D_cross= 3.750001125e-12 D_ec= 3.750125e-10\n"
     ]
    },
    {
     "name": "stderr",
     "output_type": "stream",
     "text": [
      "At t = 0.00284689 and h = 1.82767e-011, the corrector convergence failed repeatedly or with |h| = hmin.\n",
      "The linesearch algorithm failed with too small a step.\n",
      "The linesearch algorithm failed with too small a step.\n",
      "The linesearch algorithm failed with too small a step.\n"
     ]
    },
    {
     "name": "stdout",
     "output_type": "stream",
     "text": [
      "Succeed for:  Xi= -1.2 t_0plus= 0.155 D_cross= 3.750001125e-12 D_ec= 5e-10\n"
     ]
    },
    {
     "name": "stderr",
     "output_type": "stream",
     "text": [
      "psetup failed: .../casadi/interfaces/sundials/idas_interface.cpp:849: Calculating Jacobian failed\n",
      "psetup failed: .../casadi/interfaces/sundials/idas_interface.cpp:852: Linear solve failed\n",
      "At t = 0.00400595 and h = 3.42308e-014, the corrector convergence failed repeatedly or with |h| = hmin.\n",
      "At t = 0.00390289 and h = 4.29163e-013, the corrector convergence failed repeatedly or with |h| = hmin.\n",
      "At t = 0.00145286 and h = 3.61509e-013, the corrector convergence failed repeatedly or with |h| = hmin.\n",
      "At t = 0.000424778 and h = 4.45331e-014, the corrector convergence failed repeatedly or with |h| = hmin.\n",
      "At t = 0.000425252 and h = 2.64511e-015, the corrector convergence failed repeatedly or with |h| = hmin.\n",
      "At t = 0.000425058 and h = 5.27331e-014, the corrector convergence failed repeatedly or with |h| = hmin.\n",
      "psetup failed: .../casadi/interfaces/sundials/idas_interface.cpp:852: Linear solve failed\n",
      "At t = 0.000425054 and h = 9.98768e-014, the corrector convergence failed repeatedly or with |h| = hmin.\n",
      "At t = 0.000388201 and h = 2.09934e-013, the corrector convergence failed repeatedly or with |h| = hmin.\n",
      "2022-10-06 14:07:05.997 - [ERROR] callbacks.on_experiment_error(226): Simulation error: Maximum number of decreased steps occurred at t=100.53344253274648. Try solving the model up to this time only or reducing dt_max (currently, dt_max=3.5458164923888056) and/or reducing the size of the time steps or period of the experiment.\n"
     ]
    },
    {
     "name": "stdout",
     "output_type": "stream",
     "text": [
      "Succeed for:  Xi= -1.2 t_0plus= 0.155 D_cross= 7.500000749999999e-12 D_ec= 5e-14\n"
     ]
    },
    {
     "name": "stderr",
     "output_type": "stream",
     "text": [
      "At t = 0.00317752 and h = 1.66962e-010, the corrector convergence failed repeatedly or with |h| = hmin.\n",
      "At t = 0.00317755 and h = 1.66959e-010, the corrector convergence failed repeatedly or with |h| = hmin.\n"
     ]
    },
    {
     "name": "stdout",
     "output_type": "stream",
     "text": [
      "Succeed for:  Xi= -1.2 t_0plus= 0.155 D_cross= 7.500000749999999e-12 D_ec= 1.250375e-10\n"
     ]
    },
    {
     "name": "stderr",
     "output_type": "stream",
     "text": [
      "At t = 0.00528273 and h = 4.95482e-012, the corrector convergence failed repeatedly or with |h| = hmin.\n"
     ]
    },
    {
     "name": "stdout",
     "output_type": "stream",
     "text": [
      "Succeed for:  Xi= -1.2 t_0plus= 0.155 D_cross= 7.500000749999999e-12 D_ec= 2.50025e-10\n"
     ]
    },
    {
     "name": "stderr",
     "output_type": "stream",
     "text": [
      "The linesearch algorithm failed with too small a step.\n",
      "The linesearch algorithm failed with too small a step.\n",
      "The linesearch algorithm failed with too small a step.\n"
     ]
    },
    {
     "name": "stdout",
     "output_type": "stream",
     "text": [
      "Succeed for:  Xi= -1.2 t_0plus= 0.155 D_cross= 7.500000749999999e-12 D_ec= 3.750125e-10\n",
      "Succeed for:  Xi= -1.2 t_0plus= 0.155 D_cross= 7.500000749999999e-12 D_ec= 5e-10\n"
     ]
    },
    {
     "name": "stderr",
     "output_type": "stream",
     "text": [
      "psetup failed: .../casadi/interfaces/sundials/idas_interface.cpp:849: Calculating Jacobian failed\n",
      "psetup failed: .../casadi/interfaces/sundials/idas_interface.cpp:849: Calculating Jacobian failed\n",
      "At t = 0.00309594 and h = 1.2771e-014, the corrector convergence failed repeatedly or with |h| = hmin.\n",
      "At t = 0.00309909 and h = 1.51318e-014, the corrector convergence failed repeatedly or with |h| = hmin.\n",
      "At t = 0.000604239 and h = 3.4602e-015, the corrector convergence failed repeatedly or with |h| = hmin.\n",
      "psetup failed: .../casadi/interfaces/sundials/idas_interface.cpp:849: Calculating Jacobian failed\n",
      "At t = 0.000604297 and h = 5.79285e-016, the corrector convergence failed repeatedly or with |h| = hmin.\n",
      "psetup failed: .../casadi/interfaces/sundials/idas_interface.cpp:849: Calculating Jacobian failed\n",
      "psetup failed: .../casadi/interfaces/sundials/idas_interface.cpp:849: Calculating Jacobian failed\n",
      "At t = 0.000595348 and h = 6.40328e-015, the corrector convergence failed repeatedly or with |h| = hmin.\n",
      "psetup failed: .../casadi/interfaces/sundials/idas_interface.cpp:849: Calculating Jacobian failed\n",
      "psetup failed: .../casadi/interfaces/sundials/idas_interface.cpp:849: Calculating Jacobian failed\n",
      "psetup failed: .../casadi/interfaces/sundials/idas_interface.cpp:849: Calculating Jacobian failed\n",
      "psetup failed: .../casadi/interfaces/sundials/idas_interface.cpp:849: Calculating Jacobian failed\n",
      "psetup failed: .../casadi/interfaces/sundials/idas_interface.cpp:849: Calculating Jacobian failed\n",
      "psetup failed: .../casadi/interfaces/sundials/idas_interface.cpp:849: Calculating Jacobian failed\n",
      "psetup failed: .../casadi/interfaces/sundials/idas_interface.cpp:849: Calculating Jacobian failed\n",
      "psetup failed: .../casadi/interfaces/sundials/idas_interface.cpp:849: Calculating Jacobian failed\n",
      "psetup failed: .../casadi/interfaces/sundials/idas_interface.cpp:849: Calculating Jacobian failed\n",
      "psetup failed: .../casadi/interfaces/sundials/idas_interface.cpp:849: Calculating Jacobian failed\n",
      "psetup failed: .../casadi/interfaces/sundials/idas_interface.cpp:849: Calculating Jacobian failed\n",
      "psetup failed: .../casadi/interfaces/sundials/idas_interface.cpp:849: Calculating Jacobian failed\n",
      "psetup failed: .../casadi/interfaces/sundials/idas_interface.cpp:849: Calculating Jacobian failed\n",
      "psetup failed: .../casadi/interfaces/sundials/idas_interface.cpp:849: Calculating Jacobian failed\n",
      "psetup failed: .../casadi/interfaces/sundials/idas_interface.cpp:849: Calculating Jacobian failed\n",
      "psetup failed: .../casadi/interfaces/sundials/idas_interface.cpp:849: Calculating Jacobian failed\n",
      "At t = 0.000298034 and h = 5.78124e-014, the corrector convergence failed repeatedly or with |h| = hmin.\n",
      "At t = 0.000129746 and h = 4.23782e-015, the corrector convergence failed repeatedly or with |h| = hmin.\n",
      "At t = 5.14447e-005 and h = 3.48972e-015, the corrector convergence failed repeatedly or with |h| = hmin.\n",
      "The linesearch algorithm failed with too small a step.\n",
      "The linesearch algorithm failed with too small a step.\n",
      "The linesearch algorithm failed with too small a step.\n",
      "The linesearch algorithm failed with too small a step.\n",
      "The linesearch algorithm failed with too small a step.\n",
      "2022-10-06 14:08:01.280 - [ERROR] callbacks.on_experiment_error(226): Simulation error: Maximum number of decreased steps occurred at t=34.96722469616582. Try solving the model up to this time only or reducing dt_max (currently, dt_max=3.5458164923888056) and/or reducing the size of the time steps or period of the experiment.\n"
     ]
    },
    {
     "name": "stdout",
     "output_type": "stream",
     "text": [
      "Succeed for:  Xi= -1.2 t_0plus= 0.155 D_cross= 1.1250000375e-11 D_ec= 5e-14\n"
     ]
    },
    {
     "name": "stderr",
     "output_type": "stream",
     "text": [
      "At t = 0.00113752 and h = 6.65981e-012, the corrector convergence failed repeatedly or with |h| = hmin.\n",
      "2022-10-06 14:08:04.164 - [ERROR] callbacks.on_experiment_error(226): Simulation error: .../casadi/interfaces/sundials/idas_interface.cpp:591: IDASolve returned \"IDA_CONV_FAIL\". Consult IDAS documentation.\n"
     ]
    },
    {
     "name": "stdout",
     "output_type": "stream",
     "text": [
      "Traceback (most recent call last):\n",
      "  File \"d:\\gitpybamm\\lrh_409\\lrh_409\\envsolcon\\pybamm-gem\\pybamm\\solvers\\casadi_solver.py\", line 690, in _run_integrator\n",
      "    casadi_sol = integrator(\n",
      "  File \"d:\\GitPyBaMM\\LRH_409\\LRH_409\\envSolCon\\lib\\site-packages\\casadi\\casadi.py\", line 13453, in __call__\n",
      "    return self.call(kwargs)\n",
      "  File \"d:\\GitPyBaMM\\LRH_409\\LRH_409\\envSolCon\\lib\\site-packages\\casadi\\casadi.py\", line 12324, in call\n",
      "    return _casadi.Function_call(self, *args)\n",
      "RuntimeError: .../casadi/interfaces/sundials/idas_interface.cpp:591: IDASolve returned \"IDA_CONV_FAIL\". Consult IDAS documentation.\n",
      "\n",
      "During handling of the above exception, another exception occurred:\n",
      "\n",
      "Traceback (most recent call last):\n",
      "  File \"C:\\Users\\rl1120\\AppData\\Local\\Temp\\ipykernel_16444\\920439172.py\", line 16, in <cell line: 11>\n",
      "    Sol_ddiff    = Sim_ddiff.solve(\n",
      "  File \"d:\\gitpybamm\\lrh_409\\lrh_409\\envsolcon\\pybamm-gem\\pybamm\\simulation.py\", line 843, in solve\n",
      "    raise e\n",
      "  File \"d:\\gitpybamm\\lrh_409\\lrh_409\\envsolcon\\pybamm-gem\\pybamm\\simulation.py\", line 829, in solve\n",
      "    step_solution = solver.step(\n",
      "  File \"d:\\gitpybamm\\lrh_409\\lrh_409\\envsolcon\\pybamm-gem\\pybamm\\solvers\\base_solver.py\", line 1322, in step\n",
      "    solution = self._integrate(model, t_eval, ext_and_inputs)\n",
      "  File \"d:\\gitpybamm\\lrh_409\\lrh_409\\envsolcon\\pybamm-gem\\pybamm\\solvers\\casadi_solver.py\", line 274, in _integrate\n",
      "    current_step_sol = self._solve_for_event(\n",
      "  File \"d:\\gitpybamm\\lrh_409\\lrh_409\\envsolcon\\pybamm-gem\\pybamm\\solvers\\casadi_solver.py\", line 437, in _solve_for_event\n",
      "    dense_step_sol = self._run_integrator(\n",
      "  File \"d:\\gitpybamm\\lrh_409\\lrh_409\\envsolcon\\pybamm-gem\\pybamm\\solvers\\casadi_solver.py\", line 743, in _run_integrator\n",
      "    raise pybamm.SolverError(e.args[0])\n",
      "pybamm.expression_tree.exceptions.SolverError: .../casadi/interfaces/sundials/idas_interface.cpp:591: IDASolve returned \"IDA_CONV_FAIL\". Consult IDAS documentation.\n",
      "\n",
      "Fail for:  Xi= -1.2 t_0plus= 0.155 D_cross= 1.1250000375e-11 D_ec= 1.250375e-10\n",
      "Succeed for:  Xi= -1.2 t_0plus= 0.155 D_cross= 1.1250000375e-11 D_ec= 2.50025e-10\n",
      "Succeed for:  Xi= -1.2 t_0plus= 0.155 D_cross= 1.1250000375e-11 D_ec= 3.750125e-10\n"
     ]
    },
    {
     "name": "stderr",
     "output_type": "stream",
     "text": [
      "The linesearch algorithm failed with too small a step.\n",
      "The linesearch algorithm failed with too small a step.\n"
     ]
    },
    {
     "name": "stdout",
     "output_type": "stream",
     "text": [
      "Succeed for:  Xi= -1.2 t_0plus= 0.155 D_cross= 1.1250000375e-11 D_ec= 5e-10\n"
     ]
    },
    {
     "name": "stderr",
     "output_type": "stream",
     "text": [
      "At t = 0.0011635 and h = 1.79916e-015, the corrector convergence failed repeatedly or with |h| = hmin.\n",
      "psetup failed: .../casadi/interfaces/sundials/idas_interface.cpp:852: Linear solve failed\n",
      "At t = 0.0011635 and h = 5.77554e-016, the corrector convergence failed repeatedly or with |h| = hmin.\n",
      "psetup failed: .../casadi/interfaces/sundials/idas_interface.cpp:852: Linear solve failed\n",
      "psetup failed: .../casadi/interfaces/sundials/idas_interface.cpp:852: Linear solve failed\n",
      "psetup failed: .../casadi/interfaces/sundials/idas_interface.cpp:849: Calculating Jacobian failed\n",
      "psetup failed: .../casadi/interfaces/sundials/idas_interface.cpp:852: Linear solve failed\n",
      "psetup failed: .../casadi/interfaces/sundials/idas_interface.cpp:852: Linear solve failed\n",
      "psetup failed: .../casadi/interfaces/sundials/idas_interface.cpp:852: Linear solve failed\n",
      "psetup failed: .../casadi/interfaces/sundials/idas_interface.cpp:852: Linear solve failed\n",
      "At t = 0.00115639 and h = 1.4446e-021, the corrector convergence failed repeatedly or with |h| = hmin.\n",
      "psetup failed: .../casadi/interfaces/sundials/idas_interface.cpp:852: Linear solve failed\n",
      "psetup failed: .../casadi/interfaces/sundials/idas_interface.cpp:852: Linear solve failed\n",
      "psetup failed: .../casadi/interfaces/sundials/idas_interface.cpp:852: Linear solve failed\n",
      "At t = 0.0011635 and h = 1.11027e-015, the corrector convergence failed repeatedly or with |h| = hmin.\n",
      "2022-10-06 14:08:36.071 - [ERROR] callbacks.on_experiment_error(226): Simulation error: Maximum number of decreased steps occurred at t=0.0. Try solving the model up to this time only or reducing dt_max (currently, dt_max=7.091632984777611) and/or reducing the size of the time steps or period of the experiment.\n"
     ]
    },
    {
     "name": "stdout",
     "output_type": "stream",
     "text": [
      "Traceback (most recent call last):\n",
      "  File \"C:\\Users\\rl1120\\AppData\\Local\\Temp\\ipykernel_16444\\920439172.py\", line 16, in <cell line: 11>\n",
      "    Sol_ddiff    = Sim_ddiff.solve(\n",
      "  File \"d:\\gitpybamm\\lrh_409\\lrh_409\\envsolcon\\pybamm-gem\\pybamm\\simulation.py\", line 843, in solve\n",
      "    raise e\n",
      "  File \"d:\\gitpybamm\\lrh_409\\lrh_409\\envsolcon\\pybamm-gem\\pybamm\\simulation.py\", line 829, in solve\n",
      "    step_solution = solver.step(\n",
      "  File \"d:\\gitpybamm\\lrh_409\\lrh_409\\envsolcon\\pybamm-gem\\pybamm\\solvers\\base_solver.py\", line 1322, in step\n",
      "    solution = self._integrate(model, t_eval, ext_and_inputs)\n",
      "  File \"d:\\gitpybamm\\lrh_409\\lrh_409\\envsolcon\\pybamm-gem\\pybamm\\solvers\\casadi_solver.py\", line 266, in _integrate\n",
      "    raise pybamm.SolverError(\n",
      "pybamm.expression_tree.exceptions.SolverError: Maximum number of decreased steps occurred at t=0.0. Try solving the model up to this time only or reducing dt_max (currently, dt_max=7.091632984777611) and/or reducing the size of the time steps or period of the experiment.\n",
      "\n",
      "Fail for:  Xi= -1.2 t_0plus= 0.155 D_cross= 1.5e-11 D_ec= 5e-14\n"
     ]
    },
    {
     "name": "stderr",
     "output_type": "stream",
     "text": [
      "The linesearch algorithm failed with too small a step.\n",
      "The linesearch algorithm failed with too small a step.\n",
      "The linesearch algorithm failed with too small a step.\n",
      "2022-10-06 14:08:42.956 - [ERROR] callbacks.on_experiment_error(226): Simulation error: .../casadi/interfaces/sundials/idas_interface.cpp:591: IDACalcIC returned \"IDA_LINESEARCH_FAIL\". Consult IDAS documentation.\n"
     ]
    },
    {
     "name": "stdout",
     "output_type": "stream",
     "text": [
      "Succeed for:  Xi= -1.2 t_0plus= 0.155 D_cross= 1.5e-11 D_ec= 1.250375e-10\n",
      "Succeed for:  Xi= -1.2 t_0plus= 0.155 D_cross= 1.5e-11 D_ec= 2.50025e-10\n",
      "Succeed for:  Xi= -1.2 t_0plus= 0.155 D_cross= 1.5e-11 D_ec= 3.750125e-10\n",
      "Succeed for:  Xi= -1.2 t_0plus= 0.155 D_cross= 1.5e-11 D_ec= 5e-10\n",
      "Succeed for:  Xi= -1.2 t_0plus= 0.22749999999999998 D_cross= 1.5e-18 D_ec= 5e-14\n",
      "Succeed for:  Xi= -1.2 t_0plus= 0.22749999999999998 D_cross= 1.5e-18 D_ec= 1.250375e-10\n"
     ]
    },
    {
     "name": "stderr",
     "output_type": "stream",
     "text": [
      "The linesearch algorithm failed with too small a step.\n",
      "The linesearch algorithm failed with too small a step.\n",
      "The linesearch algorithm failed with too small a step.\n",
      "The linesearch algorithm failed with too small a step.\n",
      "2022-10-06 14:09:26.150 - [ERROR] callbacks.on_experiment_error(226): Simulation error: Maximum number of decreased steps occurred at t=3057.2835537222745. Try solving the model up to this time only or reducing dt_max (currently, dt_max=7.091632984777611) and/or reducing the size of the time steps or period of the experiment.\n"
     ]
    },
    {
     "name": "stdout",
     "output_type": "stream",
     "text": [
      "Succeed for:  Xi= -1.2 t_0plus= 0.22749999999999998 D_cross= 1.5e-18 D_ec= 2.50025e-10\n"
     ]
    },
    {
     "name": "stderr",
     "output_type": "stream",
     "text": [
      "The linesearch algorithm failed with too small a step.\n",
      "The linesearch algorithm failed with too small a step.\n",
      "The linesearch algorithm failed with too small a step.\n"
     ]
    },
    {
     "name": "stdout",
     "output_type": "stream",
     "text": [
      "Succeed for:  Xi= -1.2 t_0plus= 0.22749999999999998 D_cross= 1.5e-18 D_ec= 3.750125e-10\n"
     ]
    },
    {
     "name": "stderr",
     "output_type": "stream",
     "text": [
      "The linesearch algorithm failed with too small a step.\n",
      "The linesearch algorithm failed with too small a step.\n"
     ]
    },
    {
     "name": "stdout",
     "output_type": "stream",
     "text": [
      "Succeed for:  Xi= -1.2 t_0plus= 0.22749999999999998 D_cross= 1.5e-18 D_ec= 5e-10\n"
     ]
    },
    {
     "name": "stderr",
     "output_type": "stream",
     "text": [
      "psetup failed: .../casadi/interfaces/sundials/idas_interface.cpp:849: Calculating Jacobian failed\n",
      "psetup failed: .../casadi/interfaces/sundials/idas_interface.cpp:849: Calculating Jacobian failed\n",
      "psetup failed: .../casadi/interfaces/sundials/idas_interface.cpp:852: Linear solve failed\n",
      "At t = 0.00478668 and h = 4.67151e-016, the corrector convergence failed repeatedly or with |h| = hmin.\n",
      "At t = 0.00474032 and h = 1.36167e-014, the corrector convergence failed repeatedly or with |h| = hmin.\n",
      "At t = 0.00224026 and h = 1.83743e-016, the corrector convergence failed repeatedly or with |h| = hmin.\n",
      "psetup failed: .../casadi/interfaces/sundials/idas_interface.cpp:849: Calculating Jacobian failed\n",
      "psetup failed: .../casadi/interfaces/sundials/idas_interface.cpp:849: Calculating Jacobian failed\n",
      "At t = 0.00103961 and h = 1.18945e-013, the corrector convergence failed repeatedly or with |h| = hmin.\n",
      "At t = 0.00036489 and h = 6.35239e-014, the corrector convergence failed repeatedly or with |h| = hmin.\n",
      "At t = 6.68495e-005 and h = 1.57085e-015, the corrector convergence failed repeatedly or with |h| = hmin.\n",
      "psetup failed: .../casadi/interfaces/sundials/idas_interface.cpp:849: Calculating Jacobian failed\n",
      "psetup failed: .../casadi/interfaces/sundials/idas_interface.cpp:849: Calculating Jacobian failed\n",
      "At t = 8.02973e-005 and h = 1.4943e-014, the corrector convergence failed repeatedly or with |h| = hmin.\n",
      "psetup failed: .../casadi/interfaces/sundials/idas_interface.cpp:849: Calculating Jacobian failed\n",
      "psetup failed: .../casadi/interfaces/sundials/idas_interface.cpp:849: Calculating Jacobian failed\n",
      "psetup failed: .../casadi/interfaces/sundials/idas_interface.cpp:849: Calculating Jacobian failed\n",
      "psetup failed: .../casadi/interfaces/sundials/idas_interface.cpp:849: Calculating Jacobian failed\n",
      "psetup failed: .../casadi/interfaces/sundials/idas_interface.cpp:849: Calculating Jacobian failed\n",
      "psetup failed: .../casadi/interfaces/sundials/idas_interface.cpp:849: Calculating Jacobian failed\n",
      "psetup failed: .../casadi/interfaces/sundials/idas_interface.cpp:849: Calculating Jacobian failed\n",
      "psetup failed: .../casadi/interfaces/sundials/idas_interface.cpp:849: Calculating Jacobian failed\n",
      "psetup failed: .../casadi/interfaces/sundials/idas_interface.cpp:849: Calculating Jacobian failed\n",
      "psetup failed: .../casadi/interfaces/sundials/idas_interface.cpp:849: Calculating Jacobian failed\n",
      "At t = 6.69122e-005 and h = 5.78823e-014, the corrector convergence failed repeatedly or with |h| = hmin.\n",
      "psetup failed: .../casadi/interfaces/sundials/idas_interface.cpp:849: Calculating Jacobian failed\n",
      "At t = 6.71584e-005 and h = 1.01155e-014, the corrector convergence failed repeatedly or with |h| = hmin.\n",
      "At t = 6.68143e-005 and h = 6.64592e-014, the corrector convergence failed repeatedly or with |h| = hmin.\n",
      "2022-10-06 14:10:14.358 - [ERROR] callbacks.on_experiment_error(226): Simulation error: Maximum number of decreased steps occurred at t=113.02743573851058. Try solving the model up to this time only or reducing dt_max (currently, dt_max=3.5458164923888056) and/or reducing the size of the time steps or period of the experiment.\n"
     ]
    },
    {
     "name": "stdout",
     "output_type": "stream",
     "text": [
      "Succeed for:  Xi= -1.2 t_0plus= 0.22749999999999998 D_cross= 3.750001125e-12 D_ec= 5e-14\n",
      "Succeed for:  Xi= -1.2 t_0plus= 0.22749999999999998 D_cross= 3.750001125e-12 D_ec= 1.250375e-10\n"
     ]
    },
    {
     "name": "stderr",
     "output_type": "stream",
     "text": [
      "The linesearch algorithm failed with too small a step.\n",
      "The linesearch algorithm failed with too small a step.\n",
      "The linesearch algorithm failed with too small a step.\n",
      "The linesearch algorithm failed with too small a step.\n",
      "The linesearch algorithm failed with too small a step.\n",
      "2022-10-06 14:10:21.687 - [ERROR] callbacks.on_experiment_error(226): Simulation error: Maximum number of decreased steps occurred at t=2886.862710582763. Try solving the model up to this time only or reducing dt_max (currently, dt_max=3.5458164923888056) and/or reducing the size of the time steps or period of the experiment.\n"
     ]
    },
    {
     "name": "stdout",
     "output_type": "stream",
     "text": [
      "Succeed for:  Xi= -1.2 t_0plus= 0.22749999999999998 D_cross= 3.750001125e-12 D_ec= 2.50025e-10\n",
      "Succeed for:  Xi= -1.2 t_0plus= 0.22749999999999998 D_cross= 3.750001125e-12 D_ec= 3.750125e-10\n"
     ]
    },
    {
     "name": "stderr",
     "output_type": "stream",
     "text": [
      "At t = 0.00284689 and h = 1.82767e-011, the corrector convergence failed repeatedly or with |h| = hmin.\n",
      "The linesearch algorithm failed with too small a step.\n",
      "The linesearch algorithm failed with too small a step.\n",
      "The linesearch algorithm failed with too small a step.\n"
     ]
    },
    {
     "name": "stdout",
     "output_type": "stream",
     "text": [
      "Succeed for:  Xi= -1.2 t_0plus= 0.22749999999999998 D_cross= 3.750001125e-12 D_ec= 5e-10\n"
     ]
    },
    {
     "name": "stderr",
     "output_type": "stream",
     "text": [
      "psetup failed: .../casadi/interfaces/sundials/idas_interface.cpp:849: Calculating Jacobian failed\n",
      "psetup failed: .../casadi/interfaces/sundials/idas_interface.cpp:852: Linear solve failed\n",
      "At t = 0.00400595 and h = 3.42308e-014, the corrector convergence failed repeatedly or with |h| = hmin.\n",
      "At t = 0.00390289 and h = 4.29163e-013, the corrector convergence failed repeatedly or with |h| = hmin.\n",
      "At t = 0.00145286 and h = 3.61509e-013, the corrector convergence failed repeatedly or with |h| = hmin.\n",
      "At t = 0.000424778 and h = 4.45331e-014, the corrector convergence failed repeatedly or with |h| = hmin.\n",
      "At t = 0.000425252 and h = 2.64511e-015, the corrector convergence failed repeatedly or with |h| = hmin.\n",
      "At t = 0.000425058 and h = 5.27331e-014, the corrector convergence failed repeatedly or with |h| = hmin.\n",
      "psetup failed: .../casadi/interfaces/sundials/idas_interface.cpp:852: Linear solve failed\n",
      "At t = 0.000425054 and h = 9.98768e-014, the corrector convergence failed repeatedly or with |h| = hmin.\n",
      "At t = 0.000388201 and h = 2.09934e-013, the corrector convergence failed repeatedly or with |h| = hmin.\n",
      "2022-10-06 14:11:02.603 - [ERROR] callbacks.on_experiment_error(226): Simulation error: Maximum number of decreased steps occurred at t=100.53344253274648. Try solving the model up to this time only or reducing dt_max (currently, dt_max=3.5458164923888056) and/or reducing the size of the time steps or period of the experiment.\n"
     ]
    },
    {
     "name": "stdout",
     "output_type": "stream",
     "text": [
      "Succeed for:  Xi= -1.2 t_0plus= 0.22749999999999998 D_cross= 7.500000749999999e-12 D_ec= 5e-14\n"
     ]
    },
    {
     "name": "stderr",
     "output_type": "stream",
     "text": [
      "At t = 0.00317752 and h = 1.66962e-010, the corrector convergence failed repeatedly or with |h| = hmin.\n",
      "At t = 0.00317755 and h = 1.66959e-010, the corrector convergence failed repeatedly or with |h| = hmin.\n"
     ]
    },
    {
     "name": "stdout",
     "output_type": "stream",
     "text": [
      "Succeed for:  Xi= -1.2 t_0plus= 0.22749999999999998 D_cross= 7.500000749999999e-12 D_ec= 1.250375e-10\n"
     ]
    },
    {
     "name": "stderr",
     "output_type": "stream",
     "text": [
      "At t = 0.00528273 and h = 4.95482e-012, the corrector convergence failed repeatedly or with |h| = hmin.\n"
     ]
    },
    {
     "name": "stdout",
     "output_type": "stream",
     "text": [
      "Succeed for:  Xi= -1.2 t_0plus= 0.22749999999999998 D_cross= 7.500000749999999e-12 D_ec= 2.50025e-10\n"
     ]
    },
    {
     "name": "stderr",
     "output_type": "stream",
     "text": [
      "The linesearch algorithm failed with too small a step.\n",
      "The linesearch algorithm failed with too small a step.\n",
      "The linesearch algorithm failed with too small a step.\n"
     ]
    },
    {
     "name": "stdout",
     "output_type": "stream",
     "text": [
      "Succeed for:  Xi= -1.2 t_0plus= 0.22749999999999998 D_cross= 7.500000749999999e-12 D_ec= 3.750125e-10\n",
      "Succeed for:  Xi= -1.2 t_0plus= 0.22749999999999998 D_cross= 7.500000749999999e-12 D_ec= 5e-10\n"
     ]
    },
    {
     "name": "stderr",
     "output_type": "stream",
     "text": [
      "psetup failed: .../casadi/interfaces/sundials/idas_interface.cpp:849: Calculating Jacobian failed\n",
      "psetup failed: .../casadi/interfaces/sundials/idas_interface.cpp:849: Calculating Jacobian failed\n",
      "At t = 0.00309594 and h = 1.2771e-014, the corrector convergence failed repeatedly or with |h| = hmin.\n",
      "At t = 0.00309909 and h = 1.51318e-014, the corrector convergence failed repeatedly or with |h| = hmin.\n",
      "At t = 0.000604239 and h = 3.4602e-015, the corrector convergence failed repeatedly or with |h| = hmin.\n",
      "psetup failed: .../casadi/interfaces/sundials/idas_interface.cpp:849: Calculating Jacobian failed\n",
      "At t = 0.000604297 and h = 5.79285e-016, the corrector convergence failed repeatedly or with |h| = hmin.\n",
      "psetup failed: .../casadi/interfaces/sundials/idas_interface.cpp:849: Calculating Jacobian failed\n",
      "psetup failed: .../casadi/interfaces/sundials/idas_interface.cpp:849: Calculating Jacobian failed\n",
      "At t = 0.000595348 and h = 6.40328e-015, the corrector convergence failed repeatedly or with |h| = hmin.\n",
      "psetup failed: .../casadi/interfaces/sundials/idas_interface.cpp:849: Calculating Jacobian failed\n",
      "psetup failed: .../casadi/interfaces/sundials/idas_interface.cpp:849: Calculating Jacobian failed\n",
      "psetup failed: .../casadi/interfaces/sundials/idas_interface.cpp:849: Calculating Jacobian failed\n",
      "psetup failed: .../casadi/interfaces/sundials/idas_interface.cpp:849: Calculating Jacobian failed\n",
      "psetup failed: .../casadi/interfaces/sundials/idas_interface.cpp:849: Calculating Jacobian failed\n",
      "psetup failed: .../casadi/interfaces/sundials/idas_interface.cpp:849: Calculating Jacobian failed\n",
      "psetup failed: .../casadi/interfaces/sundials/idas_interface.cpp:849: Calculating Jacobian failed\n",
      "psetup failed: .../casadi/interfaces/sundials/idas_interface.cpp:849: Calculating Jacobian failed\n",
      "psetup failed: .../casadi/interfaces/sundials/idas_interface.cpp:849: Calculating Jacobian failed\n",
      "psetup failed: .../casadi/interfaces/sundials/idas_interface.cpp:849: Calculating Jacobian failed\n",
      "psetup failed: .../casadi/interfaces/sundials/idas_interface.cpp:849: Calculating Jacobian failed\n",
      "psetup failed: .../casadi/interfaces/sundials/idas_interface.cpp:849: Calculating Jacobian failed\n",
      "psetup failed: .../casadi/interfaces/sundials/idas_interface.cpp:849: Calculating Jacobian failed\n",
      "psetup failed: .../casadi/interfaces/sundials/idas_interface.cpp:849: Calculating Jacobian failed\n",
      "psetup failed: .../casadi/interfaces/sundials/idas_interface.cpp:849: Calculating Jacobian failed\n",
      "psetup failed: .../casadi/interfaces/sundials/idas_interface.cpp:849: Calculating Jacobian failed\n",
      "At t = 0.000298034 and h = 5.78124e-014, the corrector convergence failed repeatedly or with |h| = hmin.\n",
      "At t = 0.000129746 and h = 4.23782e-015, the corrector convergence failed repeatedly or with |h| = hmin.\n",
      "At t = 5.14447e-005 and h = 3.48972e-015, the corrector convergence failed repeatedly or with |h| = hmin.\n",
      "The linesearch algorithm failed with too small a step.\n",
      "The linesearch algorithm failed with too small a step.\n",
      "The linesearch algorithm failed with too small a step.\n",
      "The linesearch algorithm failed with too small a step.\n",
      "The linesearch algorithm failed with too small a step.\n",
      "2022-10-06 14:11:50.684 - [ERROR] callbacks.on_experiment_error(226): Simulation error: Maximum number of decreased steps occurred at t=34.96722469616582. Try solving the model up to this time only or reducing dt_max (currently, dt_max=3.5458164923888056) and/or reducing the size of the time steps or period of the experiment.\n"
     ]
    },
    {
     "name": "stdout",
     "output_type": "stream",
     "text": [
      "Succeed for:  Xi= -1.2 t_0plus= 0.22749999999999998 D_cross= 1.1250000375e-11 D_ec= 5e-14\n"
     ]
    },
    {
     "name": "stderr",
     "output_type": "stream",
     "text": [
      "At t = 0.00113752 and h = 6.65981e-012, the corrector convergence failed repeatedly or with |h| = hmin.\n",
      "2022-10-06 14:11:53.522 - [ERROR] callbacks.on_experiment_error(226): Simulation error: .../casadi/interfaces/sundials/idas_interface.cpp:591: IDASolve returned \"IDA_CONV_FAIL\". Consult IDAS documentation.\n"
     ]
    },
    {
     "name": "stdout",
     "output_type": "stream",
     "text": [
      "Traceback (most recent call last):\n",
      "  File \"d:\\gitpybamm\\lrh_409\\lrh_409\\envsolcon\\pybamm-gem\\pybamm\\solvers\\casadi_solver.py\", line 690, in _run_integrator\n",
      "    casadi_sol = integrator(\n",
      "  File \"d:\\GitPyBaMM\\LRH_409\\LRH_409\\envSolCon\\lib\\site-packages\\casadi\\casadi.py\", line 13453, in __call__\n",
      "    return self.call(kwargs)\n",
      "  File \"d:\\GitPyBaMM\\LRH_409\\LRH_409\\envSolCon\\lib\\site-packages\\casadi\\casadi.py\", line 12324, in call\n",
      "    return _casadi.Function_call(self, *args)\n",
      "RuntimeError: .../casadi/interfaces/sundials/idas_interface.cpp:591: IDASolve returned \"IDA_CONV_FAIL\". Consult IDAS documentation.\n",
      "\n",
      "During handling of the above exception, another exception occurred:\n",
      "\n",
      "Traceback (most recent call last):\n",
      "  File \"C:\\Users\\rl1120\\AppData\\Local\\Temp\\ipykernel_16444\\920439172.py\", line 16, in <cell line: 11>\n",
      "    Sol_ddiff    = Sim_ddiff.solve(\n",
      "  File \"d:\\gitpybamm\\lrh_409\\lrh_409\\envsolcon\\pybamm-gem\\pybamm\\simulation.py\", line 843, in solve\n",
      "    raise e\n",
      "  File \"d:\\gitpybamm\\lrh_409\\lrh_409\\envsolcon\\pybamm-gem\\pybamm\\simulation.py\", line 829, in solve\n",
      "    step_solution = solver.step(\n",
      "  File \"d:\\gitpybamm\\lrh_409\\lrh_409\\envsolcon\\pybamm-gem\\pybamm\\solvers\\base_solver.py\", line 1322, in step\n",
      "    solution = self._integrate(model, t_eval, ext_and_inputs)\n",
      "  File \"d:\\gitpybamm\\lrh_409\\lrh_409\\envsolcon\\pybamm-gem\\pybamm\\solvers\\casadi_solver.py\", line 274, in _integrate\n",
      "    current_step_sol = self._solve_for_event(\n",
      "  File \"d:\\gitpybamm\\lrh_409\\lrh_409\\envsolcon\\pybamm-gem\\pybamm\\solvers\\casadi_solver.py\", line 437, in _solve_for_event\n",
      "    dense_step_sol = self._run_integrator(\n",
      "  File \"d:\\gitpybamm\\lrh_409\\lrh_409\\envsolcon\\pybamm-gem\\pybamm\\solvers\\casadi_solver.py\", line 743, in _run_integrator\n",
      "    raise pybamm.SolverError(e.args[0])\n",
      "pybamm.expression_tree.exceptions.SolverError: .../casadi/interfaces/sundials/idas_interface.cpp:591: IDASolve returned \"IDA_CONV_FAIL\". Consult IDAS documentation.\n",
      "\n",
      "Fail for:  Xi= -1.2 t_0plus= 0.22749999999999998 D_cross= 1.1250000375e-11 D_ec= 1.250375e-10\n",
      "Succeed for:  Xi= -1.2 t_0plus= 0.22749999999999998 D_cross= 1.1250000375e-11 D_ec= 2.50025e-10\n",
      "Succeed for:  Xi= -1.2 t_0plus= 0.22749999999999998 D_cross= 1.1250000375e-11 D_ec= 3.750125e-10\n"
     ]
    },
    {
     "name": "stderr",
     "output_type": "stream",
     "text": [
      "The linesearch algorithm failed with too small a step.\n",
      "The linesearch algorithm failed with too small a step.\n"
     ]
    },
    {
     "name": "stdout",
     "output_type": "stream",
     "text": [
      "Succeed for:  Xi= -1.2 t_0plus= 0.22749999999999998 D_cross= 1.1250000375e-11 D_ec= 5e-10\n"
     ]
    },
    {
     "name": "stderr",
     "output_type": "stream",
     "text": [
      "At t = 0.0011635 and h = 1.79916e-015, the corrector convergence failed repeatedly or with |h| = hmin.\n",
      "psetup failed: .../casadi/interfaces/sundials/idas_interface.cpp:852: Linear solve failed\n",
      "At t = 0.0011635 and h = 5.77554e-016, the corrector convergence failed repeatedly or with |h| = hmin.\n",
      "psetup failed: .../casadi/interfaces/sundials/idas_interface.cpp:852: Linear solve failed\n",
      "psetup failed: .../casadi/interfaces/sundials/idas_interface.cpp:852: Linear solve failed\n",
      "psetup failed: .../casadi/interfaces/sundials/idas_interface.cpp:849: Calculating Jacobian failed\n",
      "psetup failed: .../casadi/interfaces/sundials/idas_interface.cpp:852: Linear solve failed\n",
      "psetup failed: .../casadi/interfaces/sundials/idas_interface.cpp:852: Linear solve failed\n",
      "psetup failed: .../casadi/interfaces/sundials/idas_interface.cpp:852: Linear solve failed\n",
      "psetup failed: .../casadi/interfaces/sundials/idas_interface.cpp:852: Linear solve failed\n",
      "At t = 0.00115639 and h = 1.4446e-021, the corrector convergence failed repeatedly or with |h| = hmin.\n",
      "psetup failed: .../casadi/interfaces/sundials/idas_interface.cpp:852: Linear solve failed\n",
      "psetup failed: .../casadi/interfaces/sundials/idas_interface.cpp:852: Linear solve failed\n",
      "psetup failed: .../casadi/interfaces/sundials/idas_interface.cpp:852: Linear solve failed\n",
      "At t = 0.0011635 and h = 1.11027e-015, the corrector convergence failed repeatedly or with |h| = hmin.\n",
      "2022-10-06 14:12:23.326 - [ERROR] callbacks.on_experiment_error(226): Simulation error: Maximum number of decreased steps occurred at t=0.0. Try solving the model up to this time only or reducing dt_max (currently, dt_max=7.091632984777611) and/or reducing the size of the time steps or period of the experiment.\n"
     ]
    },
    {
     "name": "stdout",
     "output_type": "stream",
     "text": [
      "Traceback (most recent call last):\n",
      "  File \"C:\\Users\\rl1120\\AppData\\Local\\Temp\\ipykernel_16444\\920439172.py\", line 16, in <cell line: 11>\n",
      "    Sol_ddiff    = Sim_ddiff.solve(\n",
      "  File \"d:\\gitpybamm\\lrh_409\\lrh_409\\envsolcon\\pybamm-gem\\pybamm\\simulation.py\", line 843, in solve\n",
      "    raise e\n",
      "  File \"d:\\gitpybamm\\lrh_409\\lrh_409\\envsolcon\\pybamm-gem\\pybamm\\simulation.py\", line 829, in solve\n",
      "    step_solution = solver.step(\n",
      "  File \"d:\\gitpybamm\\lrh_409\\lrh_409\\envsolcon\\pybamm-gem\\pybamm\\solvers\\base_solver.py\", line 1322, in step\n",
      "    solution = self._integrate(model, t_eval, ext_and_inputs)\n",
      "  File \"d:\\gitpybamm\\lrh_409\\lrh_409\\envsolcon\\pybamm-gem\\pybamm\\solvers\\casadi_solver.py\", line 266, in _integrate\n",
      "    raise pybamm.SolverError(\n",
      "pybamm.expression_tree.exceptions.SolverError: Maximum number of decreased steps occurred at t=0.0. Try solving the model up to this time only or reducing dt_max (currently, dt_max=7.091632984777611) and/or reducing the size of the time steps or period of the experiment.\n",
      "\n",
      "Fail for:  Xi= -1.2 t_0plus= 0.22749999999999998 D_cross= 1.5e-11 D_ec= 5e-14\n"
     ]
    },
    {
     "name": "stderr",
     "output_type": "stream",
     "text": [
      "The linesearch algorithm failed with too small a step.\n",
      "The linesearch algorithm failed with too small a step.\n",
      "The linesearch algorithm failed with too small a step.\n",
      "2022-10-06 14:12:29.850 - [ERROR] callbacks.on_experiment_error(226): Simulation error: .../casadi/interfaces/sundials/idas_interface.cpp:591: IDACalcIC returned \"IDA_LINESEARCH_FAIL\". Consult IDAS documentation.\n"
     ]
    },
    {
     "name": "stdout",
     "output_type": "stream",
     "text": [
      "Succeed for:  Xi= -1.2 t_0plus= 0.22749999999999998 D_cross= 1.5e-11 D_ec= 1.250375e-10\n",
      "Succeed for:  Xi= -1.2 t_0plus= 0.22749999999999998 D_cross= 1.5e-11 D_ec= 2.50025e-10\n",
      "Succeed for:  Xi= -1.2 t_0plus= 0.22749999999999998 D_cross= 1.5e-11 D_ec= 3.750125e-10\n",
      "Succeed for:  Xi= -1.2 t_0plus= 0.22749999999999998 D_cross= 1.5e-11 D_ec= 5e-10\n",
      "Succeed for:  Xi= -1.2 t_0plus= 0.3 D_cross= 1.5e-18 D_ec= 5e-14\n",
      "Succeed for:  Xi= -1.2 t_0plus= 0.3 D_cross= 1.5e-18 D_ec= 1.250375e-10\n"
     ]
    },
    {
     "name": "stderr",
     "output_type": "stream",
     "text": [
      "The linesearch algorithm failed with too small a step.\n",
      "The linesearch algorithm failed with too small a step.\n",
      "The linesearch algorithm failed with too small a step.\n",
      "The linesearch algorithm failed with too small a step.\n",
      "2022-10-06 14:13:04.789 - [ERROR] callbacks.on_experiment_error(226): Simulation error: Maximum number of decreased steps occurred at t=3057.2835537222745. Try solving the model up to this time only or reducing dt_max (currently, dt_max=7.091632984777611) and/or reducing the size of the time steps or period of the experiment.\n"
     ]
    },
    {
     "name": "stdout",
     "output_type": "stream",
     "text": [
      "Succeed for:  Xi= -1.2 t_0plus= 0.3 D_cross= 1.5e-18 D_ec= 2.50025e-10\n"
     ]
    },
    {
     "name": "stderr",
     "output_type": "stream",
     "text": [
      "The linesearch algorithm failed with too small a step.\n",
      "The linesearch algorithm failed with too small a step.\n",
      "The linesearch algorithm failed with too small a step.\n"
     ]
    },
    {
     "name": "stdout",
     "output_type": "stream",
     "text": [
      "Succeed for:  Xi= -1.2 t_0plus= 0.3 D_cross= 1.5e-18 D_ec= 3.750125e-10\n"
     ]
    },
    {
     "name": "stderr",
     "output_type": "stream",
     "text": [
      "The linesearch algorithm failed with too small a step.\n",
      "The linesearch algorithm failed with too small a step.\n"
     ]
    },
    {
     "name": "stdout",
     "output_type": "stream",
     "text": [
      "Succeed for:  Xi= -1.2 t_0plus= 0.3 D_cross= 1.5e-18 D_ec= 5e-10\n"
     ]
    },
    {
     "name": "stderr",
     "output_type": "stream",
     "text": [
      "psetup failed: .../casadi/interfaces/sundials/idas_interface.cpp:849: Calculating Jacobian failed\n",
      "psetup failed: .../casadi/interfaces/sundials/idas_interface.cpp:849: Calculating Jacobian failed\n",
      "psetup failed: .../casadi/interfaces/sundials/idas_interface.cpp:852: Linear solve failed\n",
      "At t = 0.00478668 and h = 4.67151e-016, the corrector convergence failed repeatedly or with |h| = hmin.\n",
      "At t = 0.00474032 and h = 1.36167e-014, the corrector convergence failed repeatedly or with |h| = hmin.\n",
      "At t = 0.00224026 and h = 1.83743e-016, the corrector convergence failed repeatedly or with |h| = hmin.\n",
      "psetup failed: .../casadi/interfaces/sundials/idas_interface.cpp:849: Calculating Jacobian failed\n",
      "psetup failed: .../casadi/interfaces/sundials/idas_interface.cpp:849: Calculating Jacobian failed\n",
      "At t = 0.00103961 and h = 1.18945e-013, the corrector convergence failed repeatedly or with |h| = hmin.\n",
      "At t = 0.00036489 and h = 6.35239e-014, the corrector convergence failed repeatedly or with |h| = hmin.\n",
      "At t = 6.68495e-005 and h = 1.57085e-015, the corrector convergence failed repeatedly or with |h| = hmin.\n",
      "psetup failed: .../casadi/interfaces/sundials/idas_interface.cpp:849: Calculating Jacobian failed\n",
      "psetup failed: .../casadi/interfaces/sundials/idas_interface.cpp:849: Calculating Jacobian failed\n",
      "At t = 8.02973e-005 and h = 1.4943e-014, the corrector convergence failed repeatedly or with |h| = hmin.\n",
      "psetup failed: .../casadi/interfaces/sundials/idas_interface.cpp:849: Calculating Jacobian failed\n",
      "psetup failed: .../casadi/interfaces/sundials/idas_interface.cpp:849: Calculating Jacobian failed\n",
      "psetup failed: .../casadi/interfaces/sundials/idas_interface.cpp:849: Calculating Jacobian failed\n",
      "psetup failed: .../casadi/interfaces/sundials/idas_interface.cpp:849: Calculating Jacobian failed\n",
      "psetup failed: .../casadi/interfaces/sundials/idas_interface.cpp:849: Calculating Jacobian failed\n",
      "psetup failed: .../casadi/interfaces/sundials/idas_interface.cpp:849: Calculating Jacobian failed\n",
      "psetup failed: .../casadi/interfaces/sundials/idas_interface.cpp:849: Calculating Jacobian failed\n",
      "psetup failed: .../casadi/interfaces/sundials/idas_interface.cpp:849: Calculating Jacobian failed\n",
      "psetup failed: .../casadi/interfaces/sundials/idas_interface.cpp:849: Calculating Jacobian failed\n",
      "psetup failed: .../casadi/interfaces/sundials/idas_interface.cpp:849: Calculating Jacobian failed\n",
      "At t = 6.69122e-005 and h = 5.78823e-014, the corrector convergence failed repeatedly or with |h| = hmin.\n",
      "psetup failed: .../casadi/interfaces/sundials/idas_interface.cpp:849: Calculating Jacobian failed\n",
      "At t = 6.71584e-005 and h = 1.01155e-014, the corrector convergence failed repeatedly or with |h| = hmin.\n",
      "At t = 6.68143e-005 and h = 6.64592e-014, the corrector convergence failed repeatedly or with |h| = hmin.\n",
      "2022-10-06 14:13:50.762 - [ERROR] callbacks.on_experiment_error(226): Simulation error: Maximum number of decreased steps occurred at t=113.02743573851058. Try solving the model up to this time only or reducing dt_max (currently, dt_max=3.5458164923888056) and/or reducing the size of the time steps or period of the experiment.\n"
     ]
    },
    {
     "name": "stdout",
     "output_type": "stream",
     "text": [
      "Succeed for:  Xi= -1.2 t_0plus= 0.3 D_cross= 3.750001125e-12 D_ec= 5e-14\n",
      "Succeed for:  Xi= -1.2 t_0plus= 0.3 D_cross= 3.750001125e-12 D_ec= 1.250375e-10\n"
     ]
    },
    {
     "name": "stderr",
     "output_type": "stream",
     "text": [
      "The linesearch algorithm failed with too small a step.\n",
      "The linesearch algorithm failed with too small a step.\n",
      "The linesearch algorithm failed with too small a step.\n",
      "The linesearch algorithm failed with too small a step.\n",
      "The linesearch algorithm failed with too small a step.\n",
      "2022-10-06 14:13:58.168 - [ERROR] callbacks.on_experiment_error(226): Simulation error: Maximum number of decreased steps occurred at t=2886.862710582763. Try solving the model up to this time only or reducing dt_max (currently, dt_max=3.5458164923888056) and/or reducing the size of the time steps or period of the experiment.\n"
     ]
    },
    {
     "name": "stdout",
     "output_type": "stream",
     "text": [
      "Succeed for:  Xi= -1.2 t_0plus= 0.3 D_cross= 3.750001125e-12 D_ec= 2.50025e-10\n",
      "Succeed for:  Xi= -1.2 t_0plus= 0.3 D_cross= 3.750001125e-12 D_ec= 3.750125e-10\n"
     ]
    },
    {
     "name": "stderr",
     "output_type": "stream",
     "text": [
      "At t = 0.00284689 and h = 1.82767e-011, the corrector convergence failed repeatedly or with |h| = hmin.\n",
      "The linesearch algorithm failed with too small a step.\n",
      "The linesearch algorithm failed with too small a step.\n",
      "The linesearch algorithm failed with too small a step.\n"
     ]
    },
    {
     "name": "stdout",
     "output_type": "stream",
     "text": [
      "Succeed for:  Xi= -1.2 t_0plus= 0.3 D_cross= 3.750001125e-12 D_ec= 5e-10\n"
     ]
    },
    {
     "name": "stderr",
     "output_type": "stream",
     "text": [
      "psetup failed: .../casadi/interfaces/sundials/idas_interface.cpp:849: Calculating Jacobian failed\n",
      "psetup failed: .../casadi/interfaces/sundials/idas_interface.cpp:852: Linear solve failed\n",
      "At t = 0.00400595 and h = 3.42308e-014, the corrector convergence failed repeatedly or with |h| = hmin.\n",
      "At t = 0.00390289 and h = 4.29163e-013, the corrector convergence failed repeatedly or with |h| = hmin.\n",
      "At t = 0.00145286 and h = 3.61509e-013, the corrector convergence failed repeatedly or with |h| = hmin.\n",
      "At t = 0.000424778 and h = 4.45331e-014, the corrector convergence failed repeatedly or with |h| = hmin.\n",
      "At t = 0.000425252 and h = 2.64511e-015, the corrector convergence failed repeatedly or with |h| = hmin.\n",
      "At t = 0.000425058 and h = 5.27331e-014, the corrector convergence failed repeatedly or with |h| = hmin.\n",
      "psetup failed: .../casadi/interfaces/sundials/idas_interface.cpp:852: Linear solve failed\n",
      "At t = 0.000425054 and h = 9.98768e-014, the corrector convergence failed repeatedly or with |h| = hmin.\n",
      "At t = 0.000388201 and h = 2.09934e-013, the corrector convergence failed repeatedly or with |h| = hmin.\n",
      "2022-10-06 14:14:41.014 - [ERROR] callbacks.on_experiment_error(226): Simulation error: Maximum number of decreased steps occurred at t=100.53344253274648. Try solving the model up to this time only or reducing dt_max (currently, dt_max=3.5458164923888056) and/or reducing the size of the time steps or period of the experiment.\n"
     ]
    },
    {
     "name": "stdout",
     "output_type": "stream",
     "text": [
      "Succeed for:  Xi= -1.2 t_0plus= 0.3 D_cross= 7.500000749999999e-12 D_ec= 5e-14\n"
     ]
    },
    {
     "name": "stderr",
     "output_type": "stream",
     "text": [
      "At t = 0.00317752 and h = 1.66962e-010, the corrector convergence failed repeatedly or with |h| = hmin.\n",
      "At t = 0.00317755 and h = 1.66959e-010, the corrector convergence failed repeatedly or with |h| = hmin.\n"
     ]
    },
    {
     "name": "stdout",
     "output_type": "stream",
     "text": [
      "Succeed for:  Xi= -1.2 t_0plus= 0.3 D_cross= 7.500000749999999e-12 D_ec= 1.250375e-10\n"
     ]
    },
    {
     "name": "stderr",
     "output_type": "stream",
     "text": [
      "At t = 0.00528273 and h = 4.95482e-012, the corrector convergence failed repeatedly or with |h| = hmin.\n"
     ]
    },
    {
     "name": "stdout",
     "output_type": "stream",
     "text": [
      "Succeed for:  Xi= -1.2 t_0plus= 0.3 D_cross= 7.500000749999999e-12 D_ec= 2.50025e-10\n"
     ]
    },
    {
     "name": "stderr",
     "output_type": "stream",
     "text": [
      "The linesearch algorithm failed with too small a step.\n",
      "The linesearch algorithm failed with too small a step.\n",
      "The linesearch algorithm failed with too small a step.\n"
     ]
    },
    {
     "name": "stdout",
     "output_type": "stream",
     "text": [
      "Succeed for:  Xi= -1.2 t_0plus= 0.3 D_cross= 7.500000749999999e-12 D_ec= 3.750125e-10\n",
      "Succeed for:  Xi= -1.2 t_0plus= 0.3 D_cross= 7.500000749999999e-12 D_ec= 5e-10\n"
     ]
    },
    {
     "name": "stderr",
     "output_type": "stream",
     "text": [
      "psetup failed: .../casadi/interfaces/sundials/idas_interface.cpp:849: Calculating Jacobian failed\n",
      "psetup failed: .../casadi/interfaces/sundials/idas_interface.cpp:849: Calculating Jacobian failed\n",
      "At t = 0.00309594 and h = 1.2771e-014, the corrector convergence failed repeatedly or with |h| = hmin.\n",
      "At t = 0.00309909 and h = 1.51318e-014, the corrector convergence failed repeatedly or with |h| = hmin.\n",
      "At t = 0.000604239 and h = 3.4602e-015, the corrector convergence failed repeatedly or with |h| = hmin.\n",
      "psetup failed: .../casadi/interfaces/sundials/idas_interface.cpp:849: Calculating Jacobian failed\n",
      "At t = 0.000604297 and h = 5.79285e-016, the corrector convergence failed repeatedly or with |h| = hmin.\n",
      "psetup failed: .../casadi/interfaces/sundials/idas_interface.cpp:849: Calculating Jacobian failed\n",
      "psetup failed: .../casadi/interfaces/sundials/idas_interface.cpp:849: Calculating Jacobian failed\n",
      "At t = 0.000595348 and h = 6.40328e-015, the corrector convergence failed repeatedly or with |h| = hmin.\n",
      "psetup failed: .../casadi/interfaces/sundials/idas_interface.cpp:849: Calculating Jacobian failed\n",
      "psetup failed: .../casadi/interfaces/sundials/idas_interface.cpp:849: Calculating Jacobian failed\n",
      "psetup failed: .../casadi/interfaces/sundials/idas_interface.cpp:849: Calculating Jacobian failed\n",
      "psetup failed: .../casadi/interfaces/sundials/idas_interface.cpp:849: Calculating Jacobian failed\n",
      "psetup failed: .../casadi/interfaces/sundials/idas_interface.cpp:849: Calculating Jacobian failed\n",
      "psetup failed: .../casadi/interfaces/sundials/idas_interface.cpp:849: Calculating Jacobian failed\n",
      "psetup failed: .../casadi/interfaces/sundials/idas_interface.cpp:849: Calculating Jacobian failed\n",
      "psetup failed: .../casadi/interfaces/sundials/idas_interface.cpp:849: Calculating Jacobian failed\n",
      "psetup failed: .../casadi/interfaces/sundials/idas_interface.cpp:849: Calculating Jacobian failed\n",
      "psetup failed: .../casadi/interfaces/sundials/idas_interface.cpp:849: Calculating Jacobian failed\n",
      "psetup failed: .../casadi/interfaces/sundials/idas_interface.cpp:849: Calculating Jacobian failed\n",
      "psetup failed: .../casadi/interfaces/sundials/idas_interface.cpp:849: Calculating Jacobian failed\n",
      "psetup failed: .../casadi/interfaces/sundials/idas_interface.cpp:849: Calculating Jacobian failed\n",
      "psetup failed: .../casadi/interfaces/sundials/idas_interface.cpp:849: Calculating Jacobian failed\n",
      "psetup failed: .../casadi/interfaces/sundials/idas_interface.cpp:849: Calculating Jacobian failed\n",
      "psetup failed: .../casadi/interfaces/sundials/idas_interface.cpp:849: Calculating Jacobian failed\n",
      "At t = 0.000298034 and h = 5.78124e-014, the corrector convergence failed repeatedly or with |h| = hmin.\n",
      "At t = 0.000129746 and h = 4.23782e-015, the corrector convergence failed repeatedly or with |h| = hmin.\n",
      "At t = 5.14447e-005 and h = 3.48972e-015, the corrector convergence failed repeatedly or with |h| = hmin.\n",
      "The linesearch algorithm failed with too small a step.\n",
      "The linesearch algorithm failed with too small a step.\n",
      "The linesearch algorithm failed with too small a step.\n",
      "The linesearch algorithm failed with too small a step.\n",
      "The linesearch algorithm failed with too small a step.\n",
      "2022-10-06 14:15:26.606 - [ERROR] callbacks.on_experiment_error(226): Simulation error: Maximum number of decreased steps occurred at t=34.96722469616582. Try solving the model up to this time only or reducing dt_max (currently, dt_max=3.5458164923888056) and/or reducing the size of the time steps or period of the experiment.\n"
     ]
    },
    {
     "name": "stdout",
     "output_type": "stream",
     "text": [
      "Succeed for:  Xi= -1.2 t_0plus= 0.3 D_cross= 1.1250000375e-11 D_ec= 5e-14\n"
     ]
    },
    {
     "name": "stderr",
     "output_type": "stream",
     "text": [
      "At t = 0.00113752 and h = 6.65981e-012, the corrector convergence failed repeatedly or with |h| = hmin.\n",
      "2022-10-06 14:15:29.482 - [ERROR] callbacks.on_experiment_error(226): Simulation error: .../casadi/interfaces/sundials/idas_interface.cpp:591: IDASolve returned \"IDA_CONV_FAIL\". Consult IDAS documentation.\n"
     ]
    },
    {
     "name": "stdout",
     "output_type": "stream",
     "text": [
      "Traceback (most recent call last):\n",
      "  File \"d:\\gitpybamm\\lrh_409\\lrh_409\\envsolcon\\pybamm-gem\\pybamm\\solvers\\casadi_solver.py\", line 690, in _run_integrator\n",
      "    casadi_sol = integrator(\n",
      "  File \"d:\\GitPyBaMM\\LRH_409\\LRH_409\\envSolCon\\lib\\site-packages\\casadi\\casadi.py\", line 13453, in __call__\n",
      "    return self.call(kwargs)\n",
      "  File \"d:\\GitPyBaMM\\LRH_409\\LRH_409\\envSolCon\\lib\\site-packages\\casadi\\casadi.py\", line 12324, in call\n",
      "    return _casadi.Function_call(self, *args)\n",
      "RuntimeError: .../casadi/interfaces/sundials/idas_interface.cpp:591: IDASolve returned \"IDA_CONV_FAIL\". Consult IDAS documentation.\n",
      "\n",
      "During handling of the above exception, another exception occurred:\n",
      "\n",
      "Traceback (most recent call last):\n",
      "  File \"C:\\Users\\rl1120\\AppData\\Local\\Temp\\ipykernel_16444\\920439172.py\", line 16, in <cell line: 11>\n",
      "    Sol_ddiff    = Sim_ddiff.solve(\n",
      "  File \"d:\\gitpybamm\\lrh_409\\lrh_409\\envsolcon\\pybamm-gem\\pybamm\\simulation.py\", line 843, in solve\n",
      "    raise e\n",
      "  File \"d:\\gitpybamm\\lrh_409\\lrh_409\\envsolcon\\pybamm-gem\\pybamm\\simulation.py\", line 829, in solve\n",
      "    step_solution = solver.step(\n",
      "  File \"d:\\gitpybamm\\lrh_409\\lrh_409\\envsolcon\\pybamm-gem\\pybamm\\solvers\\base_solver.py\", line 1322, in step\n",
      "    solution = self._integrate(model, t_eval, ext_and_inputs)\n",
      "  File \"d:\\gitpybamm\\lrh_409\\lrh_409\\envsolcon\\pybamm-gem\\pybamm\\solvers\\casadi_solver.py\", line 274, in _integrate\n",
      "    current_step_sol = self._solve_for_event(\n",
      "  File \"d:\\gitpybamm\\lrh_409\\lrh_409\\envsolcon\\pybamm-gem\\pybamm\\solvers\\casadi_solver.py\", line 437, in _solve_for_event\n",
      "    dense_step_sol = self._run_integrator(\n",
      "  File \"d:\\gitpybamm\\lrh_409\\lrh_409\\envsolcon\\pybamm-gem\\pybamm\\solvers\\casadi_solver.py\", line 743, in _run_integrator\n",
      "    raise pybamm.SolverError(e.args[0])\n",
      "pybamm.expression_tree.exceptions.SolverError: .../casadi/interfaces/sundials/idas_interface.cpp:591: IDASolve returned \"IDA_CONV_FAIL\". Consult IDAS documentation.\n",
      "\n",
      "Fail for:  Xi= -1.2 t_0plus= 0.3 D_cross= 1.1250000375e-11 D_ec= 1.250375e-10\n",
      "Succeed for:  Xi= -1.2 t_0plus= 0.3 D_cross= 1.1250000375e-11 D_ec= 2.50025e-10\n",
      "Succeed for:  Xi= -1.2 t_0plus= 0.3 D_cross= 1.1250000375e-11 D_ec= 3.750125e-10\n"
     ]
    },
    {
     "name": "stderr",
     "output_type": "stream",
     "text": [
      "The linesearch algorithm failed with too small a step.\n",
      "The linesearch algorithm failed with too small a step.\n"
     ]
    },
    {
     "name": "stdout",
     "output_type": "stream",
     "text": [
      "Succeed for:  Xi= -1.2 t_0plus= 0.3 D_cross= 1.1250000375e-11 D_ec= 5e-10\n"
     ]
    },
    {
     "name": "stderr",
     "output_type": "stream",
     "text": [
      "At t = 0.0011635 and h = 1.79916e-015, the corrector convergence failed repeatedly or with |h| = hmin.\n",
      "psetup failed: .../casadi/interfaces/sundials/idas_interface.cpp:852: Linear solve failed\n",
      "At t = 0.0011635 and h = 5.77554e-016, the corrector convergence failed repeatedly or with |h| = hmin.\n",
      "psetup failed: .../casadi/interfaces/sundials/idas_interface.cpp:852: Linear solve failed\n",
      "psetup failed: .../casadi/interfaces/sundials/idas_interface.cpp:852: Linear solve failed\n",
      "psetup failed: .../casadi/interfaces/sundials/idas_interface.cpp:849: Calculating Jacobian failed\n",
      "psetup failed: .../casadi/interfaces/sundials/idas_interface.cpp:852: Linear solve failed\n",
      "psetup failed: .../casadi/interfaces/sundials/idas_interface.cpp:852: Linear solve failed\n",
      "psetup failed: .../casadi/interfaces/sundials/idas_interface.cpp:852: Linear solve failed\n",
      "psetup failed: .../casadi/interfaces/sundials/idas_interface.cpp:852: Linear solve failed\n",
      "At t = 0.00115639 and h = 1.4446e-021, the corrector convergence failed repeatedly or with |h| = hmin.\n",
      "psetup failed: .../casadi/interfaces/sundials/idas_interface.cpp:852: Linear solve failed\n",
      "psetup failed: .../casadi/interfaces/sundials/idas_interface.cpp:852: Linear solve failed\n",
      "psetup failed: .../casadi/interfaces/sundials/idas_interface.cpp:852: Linear solve failed\n",
      "At t = 0.0011635 and h = 1.11027e-015, the corrector convergence failed repeatedly or with |h| = hmin.\n",
      "2022-10-06 14:15:57.774 - [ERROR] callbacks.on_experiment_error(226): Simulation error: Maximum number of decreased steps occurred at t=0.0. Try solving the model up to this time only or reducing dt_max (currently, dt_max=7.091632984777611) and/or reducing the size of the time steps or period of the experiment.\n"
     ]
    },
    {
     "name": "stdout",
     "output_type": "stream",
     "text": [
      "Traceback (most recent call last):\n",
      "  File \"C:\\Users\\rl1120\\AppData\\Local\\Temp\\ipykernel_16444\\920439172.py\", line 16, in <cell line: 11>\n",
      "    Sol_ddiff    = Sim_ddiff.solve(\n",
      "  File \"d:\\gitpybamm\\lrh_409\\lrh_409\\envsolcon\\pybamm-gem\\pybamm\\simulation.py\", line 843, in solve\n",
      "    raise e\n",
      "  File \"d:\\gitpybamm\\lrh_409\\lrh_409\\envsolcon\\pybamm-gem\\pybamm\\simulation.py\", line 829, in solve\n",
      "    step_solution = solver.step(\n",
      "  File \"d:\\gitpybamm\\lrh_409\\lrh_409\\envsolcon\\pybamm-gem\\pybamm\\solvers\\base_solver.py\", line 1322, in step\n",
      "    solution = self._integrate(model, t_eval, ext_and_inputs)\n",
      "  File \"d:\\gitpybamm\\lrh_409\\lrh_409\\envsolcon\\pybamm-gem\\pybamm\\solvers\\casadi_solver.py\", line 266, in _integrate\n",
      "    raise pybamm.SolverError(\n",
      "pybamm.expression_tree.exceptions.SolverError: Maximum number of decreased steps occurred at t=0.0. Try solving the model up to this time only or reducing dt_max (currently, dt_max=7.091632984777611) and/or reducing the size of the time steps or period of the experiment.\n",
      "\n",
      "Fail for:  Xi= -1.2 t_0plus= 0.3 D_cross= 1.5e-11 D_ec= 5e-14\n"
     ]
    },
    {
     "name": "stderr",
     "output_type": "stream",
     "text": [
      "The linesearch algorithm failed with too small a step.\n",
      "The linesearch algorithm failed with too small a step.\n",
      "The linesearch algorithm failed with too small a step.\n",
      "2022-10-06 14:16:03.537 - [ERROR] callbacks.on_experiment_error(226): Simulation error: .../casadi/interfaces/sundials/idas_interface.cpp:591: IDACalcIC returned \"IDA_LINESEARCH_FAIL\". Consult IDAS documentation.\n"
     ]
    },
    {
     "name": "stdout",
     "output_type": "stream",
     "text": [
      "Succeed for:  Xi= -1.2 t_0plus= 0.3 D_cross= 1.5e-11 D_ec= 1.250375e-10\n",
      "Succeed for:  Xi= -1.2 t_0plus= 0.3 D_cross= 1.5e-11 D_ec= 2.50025e-10\n",
      "Succeed for:  Xi= -1.2 t_0plus= 0.3 D_cross= 1.5e-11 D_ec= 3.750125e-10\n",
      "Succeed for:  Xi= -1.2 t_0plus= 0.3 D_cross= 1.5e-11 D_ec= 5e-10\n"
     ]
    },
    {
     "name": "stderr",
     "output_type": "stream",
     "text": [
      "At t = 0.00442645 and h = 7.3982e-020, the corrector convergence failed repeatedly or with |h| = hmin.\n",
      "At t = 0.00442645 and h = 3.89589e-019, the corrector convergence failed repeatedly or with |h| = hmin.\n"
     ]
    },
    {
     "name": "stdout",
     "output_type": "stream",
     "text": [
      "Succeed for:  Xi= -1.0 t_0plus= 0.01 D_cross= 1.5e-18 D_ec= 5e-14\n"
     ]
    },
    {
     "name": "stderr",
     "output_type": "stream",
     "text": [
      "At t = 0.00471814 and h = 4.99113e-011, the corrector convergence failed repeatedly or with |h| = hmin.\n",
      "The linesearch algorithm failed with too small a step.\n",
      "The linesearch algorithm failed with too small a step.\n"
     ]
    },
    {
     "name": "stdout",
     "output_type": "stream",
     "text": [
      "Succeed for:  Xi= -1.0 t_0plus= 0.01 D_cross= 1.5e-18 D_ec= 1.250375e-10\n",
      "Succeed for:  Xi= -1.0 t_0plus= 0.01 D_cross= 1.5e-18 D_ec= 2.50025e-10\n"
     ]
    },
    {
     "name": "stderr",
     "output_type": "stream",
     "text": [
      "The linesearch algorithm failed with too small a step.\n"
     ]
    },
    {
     "name": "stdout",
     "output_type": "stream",
     "text": [
      "Succeed for:  Xi= -1.0 t_0plus= 0.01 D_cross= 1.5e-18 D_ec= 3.750125e-10\n"
     ]
    },
    {
     "name": "stderr",
     "output_type": "stream",
     "text": [
      "The linesearch algorithm failed with too small a step.\n",
      "The linesearch algorithm failed with too small a step.\n",
      "At t = 0 and h = 1.15868e-014, the error test failed repeatedly or with |h| = hmin.\n"
     ]
    },
    {
     "name": "stdout",
     "output_type": "stream",
     "text": [
      "Succeed for:  Xi= -1.0 t_0plus= 0.01 D_cross= 1.5e-18 D_ec= 5e-10\n"
     ]
    },
    {
     "name": "stderr",
     "output_type": "stream",
     "text": [
      "At t = 0.00158839 and h = 9.47268e-016, the corrector convergence failed repeatedly or with |h| = hmin.\n",
      "psetup failed: .../casadi/interfaces/sundials/idas_interface.cpp:849: Calculating Jacobian failed\n",
      "At t = 0.00161956 and h = 4.19313e-014, the corrector convergence failed repeatedly or with |h| = hmin.\n",
      "At t = 0.0015883 and h = 6.34003e-014, the corrector convergence failed repeatedly or with |h| = hmin.\n",
      "At t = 0.000339683 and h = 1.62631e-014, the corrector convergence failed repeatedly or with |h| = hmin.\n",
      "psetup failed: .../casadi/interfaces/sundials/idas_interface.cpp:849: Calculating Jacobian failed\n",
      "At t = 0.000389236 and h = 4.70968e-017, the corrector convergence failed repeatedly or with |h| = hmin.\n",
      "psetup failed: .../casadi/interfaces/sundials/idas_interface.cpp:849: Calculating Jacobian failed\n",
      "psetup failed: .../casadi/interfaces/sundials/idas_interface.cpp:849: Calculating Jacobian failed\n",
      "psetup failed: .../casadi/interfaces/sundials/idas_interface.cpp:849: Calculating Jacobian failed\n",
      "psetup failed: .../casadi/interfaces/sundials/idas_interface.cpp:849: Calculating Jacobian failed\n",
      "psetup failed: .../casadi/interfaces/sundials/idas_interface.cpp:849: Calculating Jacobian failed\n",
      "psetup failed: .../casadi/interfaces/sundials/idas_interface.cpp:849: Calculating Jacobian failed\n",
      "At t = 0.000116533 and h = 3.74367e-014, the corrector convergence failed repeatedly or with |h| = hmin.\n",
      "At t = 6.74108e-005 and h = 4.78153e-014, the corrector convergence failed repeatedly or with |h| = hmin.\n",
      "psetup failed: .../casadi/interfaces/sundials/idas_interface.cpp:849: Calculating Jacobian failed\n",
      "At t = 6.74453e-005 and h = 3.82664e-015, the corrector convergence failed repeatedly or with |h| = hmin.\n",
      "At t = 8.21086e-005 and h = 2.05897e-015, the corrector convergence failed repeatedly or with |h| = hmin.\n",
      "At t = 6.84635e-005 and h = 7.60264e-014, the corrector convergence failed repeatedly or with |h| = hmin.\n",
      "2022-10-06 14:17:31.398 - [ERROR] callbacks.on_experiment_error(226): Simulation error: Maximum number of decreased steps occurred at t=137.2617783923506. Try solving the model up to this time only or reducing dt_max (currently, dt_max=3.5458164923888056) and/or reducing the size of the time steps or period of the experiment.\n"
     ]
    },
    {
     "name": "stdout",
     "output_type": "stream",
     "text": [
      "Succeed for:  Xi= -1.0 t_0plus= 0.01 D_cross= 3.750001125e-12 D_ec= 5e-14\n"
     ]
    },
    {
     "name": "stderr",
     "output_type": "stream",
     "text": [
      "The linesearch algorithm failed with too small a step.\n",
      "The linesearch algorithm failed with too small a step.\n",
      "The linesearch algorithm failed with too small a step.\n",
      "The linesearch algorithm failed with too small a step.\n",
      "The linesearch algorithm failed with too small a step.\n",
      "2022-10-06 14:17:34.256 - [ERROR] callbacks.on_experiment_error(226): Simulation error: Maximum number of decreased steps occurred at t=2930.3952768061995. Try solving the model up to this time only or reducing dt_max (currently, dt_max=3.5458164923888056) and/or reducing the size of the time steps or period of the experiment.\n"
     ]
    },
    {
     "name": "stdout",
     "output_type": "stream",
     "text": [
      "Succeed for:  Xi= -1.0 t_0plus= 0.01 D_cross= 3.750001125e-12 D_ec= 1.250375e-10\n"
     ]
    },
    {
     "name": "stderr",
     "output_type": "stream",
     "text": [
      "The linesearch algorithm failed with too small a step.\n",
      "The linesearch algorithm failed with too small a step.\n",
      "The linesearch algorithm failed with too small a step.\n",
      "The linesearch algorithm failed with too small a step.\n",
      "The linesearch algorithm failed with too small a step.\n",
      "2022-10-06 14:17:37.118 - [ERROR] callbacks.on_experiment_error(226): Simulation error: Maximum number of decreased steps occurred at t=2689.1814264408017. Try solving the model up to this time only or reducing dt_max (currently, dt_max=3.5458164923888056) and/or reducing the size of the time steps or period of the experiment.\n"
     ]
    },
    {
     "name": "stdout",
     "output_type": "stream",
     "text": [
      "Succeed for:  Xi= -1.0 t_0plus= 0.01 D_cross= 3.750001125e-12 D_ec= 2.50025e-10\n"
     ]
    },
    {
     "name": "stderr",
     "output_type": "stream",
     "text": [
      "The linesearch algorithm failed with too small a step.\n",
      "The linesearch algorithm failed with too small a step.\n",
      "The linesearch algorithm failed with too small a step.\n",
      "The linesearch algorithm failed with too small a step.\n",
      "The linesearch algorithm failed with too small a step.\n",
      "2022-10-06 14:17:39.515 - [ERROR] callbacks.on_experiment_error(226): Simulation error: Maximum number of decreased steps occurred at t=2689.3786677443136. Try solving the model up to this time only or reducing dt_max (currently, dt_max=3.5458164923888056) and/or reducing the size of the time steps or period of the experiment.\n"
     ]
    },
    {
     "name": "stdout",
     "output_type": "stream",
     "text": [
      "Succeed for:  Xi= -1.0 t_0plus= 0.01 D_cross= 3.750001125e-12 D_ec= 3.750125e-10\n",
      "Succeed for:  Xi= -1.0 t_0plus= 0.01 D_cross= 3.750001125e-12 D_ec= 5e-10\n"
     ]
    },
    {
     "name": "stderr",
     "output_type": "stream",
     "text": [
      "At t = 0.00047255 and h = 1.60492e-013, the corrector convergence failed repeatedly or with |h| = hmin.\n",
      "At t = 0.000432859 and h = 2.11405e-013, the corrector convergence failed repeatedly or with |h| = hmin.\n",
      "psetup failed: .../casadi/interfaces/sundials/idas_interface.cpp:849: Calculating Jacobian failed\n",
      "At t = 0.000471659 and h = 3.01444e-013, the corrector convergence failed repeatedly or with |h| = hmin.\n",
      "psetup failed: .../casadi/interfaces/sundials/idas_interface.cpp:849: Calculating Jacobian failed\n",
      "At t = 0.000472088 and h = 3.41097e-013, the corrector convergence failed repeatedly or with |h| = hmin.\n",
      "At t = 0.000434426 and h = 3.4024e-013, the corrector convergence failed repeatedly or with |h| = hmin.\n",
      "2022-10-06 14:17:53.131 - [ERROR] callbacks.on_experiment_error(226): Simulation error: Maximum number of decreased steps occurred at t=120.0. Try solving the model up to this time only or reducing dt_max (currently, dt_max=3.5458164923888056) and/or reducing the size of the time steps or period of the experiment.\n"
     ]
    },
    {
     "name": "stdout",
     "output_type": "stream",
     "text": [
      "Traceback (most recent call last):\n",
      "  File \"C:\\Users\\rl1120\\AppData\\Local\\Temp\\ipykernel_16444\\920439172.py\", line 16, in <cell line: 11>\n",
      "    Sol_ddiff    = Sim_ddiff.solve(\n",
      "  File \"d:\\gitpybamm\\lrh_409\\lrh_409\\envsolcon\\pybamm-gem\\pybamm\\simulation.py\", line 843, in solve\n",
      "    raise e\n",
      "  File \"d:\\gitpybamm\\lrh_409\\lrh_409\\envsolcon\\pybamm-gem\\pybamm\\simulation.py\", line 829, in solve\n",
      "    step_solution = solver.step(\n",
      "  File \"d:\\gitpybamm\\lrh_409\\lrh_409\\envsolcon\\pybamm-gem\\pybamm\\solvers\\base_solver.py\", line 1322, in step\n",
      "    solution = self._integrate(model, t_eval, ext_and_inputs)\n",
      "  File \"d:\\gitpybamm\\lrh_409\\lrh_409\\envsolcon\\pybamm-gem\\pybamm\\solvers\\casadi_solver.py\", line 266, in _integrate\n",
      "    raise pybamm.SolverError(\n",
      "pybamm.expression_tree.exceptions.SolverError: Maximum number of decreased steps occurred at t=120.0. Try solving the model up to this time only or reducing dt_max (currently, dt_max=3.5458164923888056) and/or reducing the size of the time steps or period of the experiment.\n",
      "\n",
      "Fail for:  Xi= -1.0 t_0plus= 0.01 D_cross= 7.500000749999999e-12 D_ec= 5e-14\n"
     ]
    },
    {
     "name": "stderr",
     "output_type": "stream",
     "text": [
      "The linesearch algorithm failed with too small a step.\n",
      "The linesearch algorithm failed with too small a step.\n"
     ]
    },
    {
     "name": "stdout",
     "output_type": "stream",
     "text": [
      "Succeed for:  Xi= -1.0 t_0plus= 0.01 D_cross= 7.500000749999999e-12 D_ec= 1.250375e-10\n"
     ]
    },
    {
     "name": "stderr",
     "output_type": "stream",
     "text": [
      "The linesearch algorithm failed with too small a step.\n",
      "The linesearch algorithm failed with too small a step.\n"
     ]
    },
    {
     "name": "stdout",
     "output_type": "stream",
     "text": [
      "Succeed for:  Xi= -1.0 t_0plus= 0.01 D_cross= 7.500000749999999e-12 D_ec= 2.50025e-10\n"
     ]
    },
    {
     "name": "stderr",
     "output_type": "stream",
     "text": [
      "The linesearch algorithm failed with too small a step.\n",
      "The linesearch algorithm failed with too small a step.\n",
      "The linesearch algorithm failed with too small a step.\n",
      "The linesearch algorithm failed with too small a step.\n",
      "The linesearch algorithm failed with too small a step.\n",
      "2022-10-06 14:18:08.756 - [ERROR] callbacks.on_experiment_error(226): Simulation error: Maximum number of decreased steps occurred at t=2336.799748532315. Try solving the model up to this time only or reducing dt_max (currently, dt_max=3.5458164923888056) and/or reducing the size of the time steps or period of the experiment.\n"
     ]
    },
    {
     "name": "stdout",
     "output_type": "stream",
     "text": [
      "Succeed for:  Xi= -1.0 t_0plus= 0.01 D_cross= 7.500000749999999e-12 D_ec= 3.750125e-10\n"
     ]
    },
    {
     "name": "stderr",
     "output_type": "stream",
     "text": [
      "The linesearch algorithm failed with too small a step.\n",
      "The linesearch algorithm failed with too small a step.\n"
     ]
    },
    {
     "name": "stdout",
     "output_type": "stream",
     "text": [
      "Succeed for:  Xi= -1.0 t_0plus= 0.01 D_cross= 7.500000749999999e-12 D_ec= 5e-10\n"
     ]
    },
    {
     "name": "stderr",
     "output_type": "stream",
     "text": [
      "At t = 0.00319491 and h = 3.25352e-015, the corrector convergence failed repeatedly or with |h| = hmin.\n",
      "psetup failed: .../casadi/interfaces/sundials/idas_interface.cpp:849: Calculating Jacobian failed\n",
      "psetup failed: .../casadi/interfaces/sundials/idas_interface.cpp:849: Calculating Jacobian failed\n",
      "psetup failed: .../casadi/interfaces/sundials/idas_interface.cpp:849: Calculating Jacobian failed\n",
      "psetup failed: .../casadi/interfaces/sundials/idas_interface.cpp:849: Calculating Jacobian failed\n",
      "At t = 0.00320901 and h = 5.21087e-018, the corrector convergence failed repeatedly or with |h| = hmin.\n",
      "At t = 0.000699373 and h = 1.70339e-015, the corrector convergence failed repeatedly or with |h| = hmin.\n",
      "At t = 0.000700278 and h = 2.09451e-016, the corrector convergence failed repeatedly or with |h| = hmin.\n",
      "psetup failed: .../casadi/interfaces/sundials/idas_interface.cpp:849: Calculating Jacobian failed\n",
      "psetup failed: .../casadi/interfaces/sundials/idas_interface.cpp:849: Calculating Jacobian failed\n",
      "At t = 6.71305e-005 and h = 1.8949e-014, the corrector convergence failed repeatedly or with |h| = hmin.\n",
      "At t = 7.51231e-005 and h = 2.7586e-014, the corrector convergence failed repeatedly or with |h| = hmin.\n",
      "At t = 7.47619e-005 and h = 1.62336e-014, the corrector convergence failed repeatedly or with |h| = hmin.\n",
      "At t = 2.25719e-005 and h = 3.99811e-015, the corrector convergence failed repeatedly or with |h| = hmin.\n",
      "psetup failed: .../casadi/interfaces/sundials/idas_interface.cpp:849: Calculating Jacobian failed\n",
      "psetup failed: .../casadi/interfaces/sundials/idas_interface.cpp:849: Calculating Jacobian failed\n",
      "psetup failed: .../casadi/interfaces/sundials/idas_interface.cpp:849: Calculating Jacobian failed\n",
      "psetup failed: .../casadi/interfaces/sundials/idas_interface.cpp:849: Calculating Jacobian failed\n",
      "psetup failed: .../casadi/interfaces/sundials/idas_interface.cpp:849: Calculating Jacobian failed\n",
      "psetup failed: .../casadi/interfaces/sundials/idas_interface.cpp:849: Calculating Jacobian failed\n",
      "psetup failed: .../casadi/interfaces/sundials/idas_interface.cpp:849: Calculating Jacobian failed\n",
      "psetup failed: .../casadi/interfaces/sundials/idas_interface.cpp:849: Calculating Jacobian failed\n",
      "psetup failed: .../casadi/interfaces/sundials/idas_interface.cpp:849: Calculating Jacobian failed\n",
      "psetup failed: .../casadi/interfaces/sundials/idas_interface.cpp:849: Calculating Jacobian failed\n",
      "At t = 1.54869e-005 and h = 4.86298e-014, the corrector convergence failed repeatedly or with |h| = hmin.\n",
      "psetup failed: .../casadi/interfaces/sundials/idas_interface.cpp:849: Calculating Jacobian failed\n",
      "At t = 1.73219e-005 and h = 2.59514e-014, the corrector convergence failed repeatedly or with |h| = hmin.\n",
      "psetup failed: .../casadi/interfaces/sundials/idas_interface.cpp:849: Calculating Jacobian failed\n",
      "At t = 2.25294e-005 and h = 1.34568e-016, the corrector convergence failed repeatedly or with |h| = hmin.\n",
      "psetup failed: .../casadi/interfaces/sundials/idas_interface.cpp:849: Calculating Jacobian failed\n",
      "psetup failed: .../casadi/interfaces/sundials/idas_interface.cpp:849: Calculating Jacobian failed\n",
      "At t = 2.25e-005 and h = 1.29451e-014, the corrector convergence failed repeatedly or with |h| = hmin.\n",
      "2022-10-06 14:19:01.932 - [ERROR] callbacks.on_experiment_error(226): Simulation error: Maximum number of decreased steps occurred at t=36.044715194713184. Try solving the model up to this time only or reducing dt_max (currently, dt_max=3.5458164923888056) and/or reducing the size of the time steps or period of the experiment.\n"
     ]
    },
    {
     "name": "stdout",
     "output_type": "stream",
     "text": [
      "Succeed for:  Xi= -1.0 t_0plus= 0.01 D_cross= 1.1250000375e-11 D_ec= 5e-14\n",
      "Succeed for:  Xi= -1.0 t_0plus= 0.01 D_cross= 1.1250000375e-11 D_ec= 1.250375e-10\n",
      "Succeed for:  Xi= -1.0 t_0plus= 0.01 D_cross= 1.1250000375e-11 D_ec= 2.50025e-10\n",
      "Succeed for:  Xi= -1.0 t_0plus= 0.01 D_cross= 1.1250000375e-11 D_ec= 3.750125e-10\n",
      "Succeed for:  Xi= -1.0 t_0plus= 0.01 D_cross= 1.1250000375e-11 D_ec= 5e-10\n"
     ]
    },
    {
     "name": "stderr",
     "output_type": "stream",
     "text": [
      "psetup failed: .../casadi/interfaces/sundials/idas_interface.cpp:852: Linear solve failed\n",
      "At t = 0.00118884 and h = 2.77904e-016, the corrector convergence failed repeatedly or with |h| = hmin.\n",
      "psetup failed: .../casadi/interfaces/sundials/idas_interface.cpp:852: Linear solve failed\n",
      "At t = 0.00118561 and h = 3.94023e-015, the corrector convergence failed repeatedly or with |h| = hmin.\n",
      "psetup failed: .../casadi/interfaces/sundials/idas_interface.cpp:852: Linear solve failed\n",
      "At t = 0.0011828 and h = 2.94795e-017, the corrector convergence failed repeatedly or with |h| = hmin.\n",
      "psetup failed: .../casadi/interfaces/sundials/idas_interface.cpp:852: Linear solve failed\n",
      "psetup failed: .../casadi/interfaces/sundials/idas_interface.cpp:852: Linear solve failed\n",
      "psetup failed: .../casadi/interfaces/sundials/idas_interface.cpp:849: Calculating Jacobian failed\n",
      "psetup failed: .../casadi/interfaces/sundials/idas_interface.cpp:852: Linear solve failed\n",
      "psetup failed: .../casadi/interfaces/sundials/idas_interface.cpp:852: Linear solve failed\n",
      "At t = 0.00118233 and h = 1.81387e-021, the corrector convergence failed repeatedly or with |h| = hmin.\n",
      "2022-10-06 14:19:37.324 - [ERROR] callbacks.on_experiment_error(226): Simulation error: Maximum number of decreased steps occurred at t=0.0. Try solving the model up to this time only or reducing dt_max (currently, dt_max=7.091632984777611) and/or reducing the size of the time steps or period of the experiment.\n"
     ]
    },
    {
     "name": "stdout",
     "output_type": "stream",
     "text": [
      "Traceback (most recent call last):\n",
      "  File \"C:\\Users\\rl1120\\AppData\\Local\\Temp\\ipykernel_16444\\920439172.py\", line 16, in <cell line: 11>\n",
      "    Sol_ddiff    = Sim_ddiff.solve(\n",
      "  File \"d:\\gitpybamm\\lrh_409\\lrh_409\\envsolcon\\pybamm-gem\\pybamm\\simulation.py\", line 843, in solve\n",
      "    raise e\n",
      "  File \"d:\\gitpybamm\\lrh_409\\lrh_409\\envsolcon\\pybamm-gem\\pybamm\\simulation.py\", line 829, in solve\n",
      "    step_solution = solver.step(\n",
      "  File \"d:\\gitpybamm\\lrh_409\\lrh_409\\envsolcon\\pybamm-gem\\pybamm\\solvers\\base_solver.py\", line 1322, in step\n",
      "    solution = self._integrate(model, t_eval, ext_and_inputs)\n",
      "  File \"d:\\gitpybamm\\lrh_409\\lrh_409\\envsolcon\\pybamm-gem\\pybamm\\solvers\\casadi_solver.py\", line 266, in _integrate\n",
      "    raise pybamm.SolverError(\n",
      "pybamm.expression_tree.exceptions.SolverError: Maximum number of decreased steps occurred at t=0.0. Try solving the model up to this time only or reducing dt_max (currently, dt_max=7.091632984777611) and/or reducing the size of the time steps or period of the experiment.\n",
      "\n",
      "Fail for:  Xi= -1.0 t_0plus= 0.01 D_cross= 1.5e-11 D_ec= 5e-14\n"
     ]
    },
    {
     "name": "stderr",
     "output_type": "stream",
     "text": [
      "2022-10-06 14:19:39.766 - [WARNING] callbacks.on_experiment_infeasible(233): \n",
      "\n",
      "\tExperiment is infeasible: 'event: Maximum voltage' was triggered during 'Discharge at 1 C until 2.5 V'. The returned solution only contains up to step 1 of cycle 1. \n"
     ]
    },
    {
     "name": "stdout",
     "output_type": "stream",
     "text": [
      "Succeed for:  Xi= -1.0 t_0plus= 0.01 D_cross= 1.5e-11 D_ec= 1.250375e-10\n",
      "Succeed for:  Xi= -1.0 t_0plus= 0.01 D_cross= 1.5e-11 D_ec= 2.50025e-10\n",
      "Succeed for:  Xi= -1.0 t_0plus= 0.01 D_cross= 1.5e-11 D_ec= 3.750125e-10\n",
      "Succeed for:  Xi= -1.0 t_0plus= 0.01 D_cross= 1.5e-11 D_ec= 5e-10\n"
     ]
    },
    {
     "name": "stderr",
     "output_type": "stream",
     "text": [
      "At t = 0.00442645 and h = 7.3982e-020, the corrector convergence failed repeatedly or with |h| = hmin.\n",
      "At t = 0.00442645 and h = 3.89589e-019, the corrector convergence failed repeatedly or with |h| = hmin.\n"
     ]
    },
    {
     "name": "stdout",
     "output_type": "stream",
     "text": [
      "Succeed for:  Xi= -1.0 t_0plus= 0.08249999999999999 D_cross= 1.5e-18 D_ec= 5e-14\n"
     ]
    },
    {
     "name": "stderr",
     "output_type": "stream",
     "text": [
      "At t = 0.00471814 and h = 4.99113e-011, the corrector convergence failed repeatedly or with |h| = hmin.\n",
      "The linesearch algorithm failed with too small a step.\n",
      "The linesearch algorithm failed with too small a step.\n"
     ]
    },
    {
     "name": "stdout",
     "output_type": "stream",
     "text": [
      "Succeed for:  Xi= -1.0 t_0plus= 0.08249999999999999 D_cross= 1.5e-18 D_ec= 1.250375e-10\n",
      "Succeed for:  Xi= -1.0 t_0plus= 0.08249999999999999 D_cross= 1.5e-18 D_ec= 2.50025e-10\n"
     ]
    },
    {
     "name": "stderr",
     "output_type": "stream",
     "text": [
      "The linesearch algorithm failed with too small a step.\n"
     ]
    },
    {
     "name": "stdout",
     "output_type": "stream",
     "text": [
      "Succeed for:  Xi= -1.0 t_0plus= 0.08249999999999999 D_cross= 1.5e-18 D_ec= 3.750125e-10\n"
     ]
    },
    {
     "name": "stderr",
     "output_type": "stream",
     "text": [
      "The linesearch algorithm failed with too small a step.\n",
      "The linesearch algorithm failed with too small a step.\n",
      "At t = 0 and h = 1.15868e-014, the error test failed repeatedly or with |h| = hmin.\n"
     ]
    },
    {
     "name": "stdout",
     "output_type": "stream",
     "text": [
      "Succeed for:  Xi= -1.0 t_0plus= 0.08249999999999999 D_cross= 1.5e-18 D_ec= 5e-10\n"
     ]
    },
    {
     "name": "stderr",
     "output_type": "stream",
     "text": [
      "At t = 0.00158839 and h = 9.47268e-016, the corrector convergence failed repeatedly or with |h| = hmin.\n",
      "psetup failed: .../casadi/interfaces/sundials/idas_interface.cpp:849: Calculating Jacobian failed\n",
      "At t = 0.00161956 and h = 4.19313e-014, the corrector convergence failed repeatedly or with |h| = hmin.\n",
      "At t = 0.0015883 and h = 6.34003e-014, the corrector convergence failed repeatedly or with |h| = hmin.\n",
      "At t = 0.000339683 and h = 1.62631e-014, the corrector convergence failed repeatedly or with |h| = hmin.\n",
      "psetup failed: .../casadi/interfaces/sundials/idas_interface.cpp:849: Calculating Jacobian failed\n",
      "At t = 0.000389236 and h = 4.70968e-017, the corrector convergence failed repeatedly or with |h| = hmin.\n",
      "psetup failed: .../casadi/interfaces/sundials/idas_interface.cpp:849: Calculating Jacobian failed\n",
      "psetup failed: .../casadi/interfaces/sundials/idas_interface.cpp:849: Calculating Jacobian failed\n",
      "psetup failed: .../casadi/interfaces/sundials/idas_interface.cpp:849: Calculating Jacobian failed\n",
      "psetup failed: .../casadi/interfaces/sundials/idas_interface.cpp:849: Calculating Jacobian failed\n",
      "psetup failed: .../casadi/interfaces/sundials/idas_interface.cpp:849: Calculating Jacobian failed\n",
      "psetup failed: .../casadi/interfaces/sundials/idas_interface.cpp:849: Calculating Jacobian failed\n",
      "At t = 0.000116533 and h = 3.74367e-014, the corrector convergence failed repeatedly or with |h| = hmin.\n",
      "At t = 6.74108e-005 and h = 4.78153e-014, the corrector convergence failed repeatedly or with |h| = hmin.\n",
      "psetup failed: .../casadi/interfaces/sundials/idas_interface.cpp:849: Calculating Jacobian failed\n",
      "At t = 6.74453e-005 and h = 3.82664e-015, the corrector convergence failed repeatedly or with |h| = hmin.\n",
      "At t = 8.21086e-005 and h = 2.05897e-015, the corrector convergence failed repeatedly or with |h| = hmin.\n",
      "At t = 6.84635e-005 and h = 7.60264e-014, the corrector convergence failed repeatedly or with |h| = hmin.\n",
      "2022-10-06 14:21:33.576 - [ERROR] callbacks.on_experiment_error(226): Simulation error: Maximum number of decreased steps occurred at t=137.2617783923506. Try solving the model up to this time only or reducing dt_max (currently, dt_max=3.5458164923888056) and/or reducing the size of the time steps or period of the experiment.\n"
     ]
    },
    {
     "name": "stdout",
     "output_type": "stream",
     "text": [
      "Succeed for:  Xi= -1.0 t_0plus= 0.08249999999999999 D_cross= 3.750001125e-12 D_ec= 5e-14\n"
     ]
    },
    {
     "name": "stderr",
     "output_type": "stream",
     "text": [
      "The linesearch algorithm failed with too small a step.\n",
      "The linesearch algorithm failed with too small a step.\n",
      "The linesearch algorithm failed with too small a step.\n",
      "The linesearch algorithm failed with too small a step.\n",
      "The linesearch algorithm failed with too small a step.\n",
      "2022-10-06 14:21:36.126 - [ERROR] callbacks.on_experiment_error(226): Simulation error: Maximum number of decreased steps occurred at t=2930.3952768061995. Try solving the model up to this time only or reducing dt_max (currently, dt_max=3.5458164923888056) and/or reducing the size of the time steps or period of the experiment.\n"
     ]
    },
    {
     "name": "stdout",
     "output_type": "stream",
     "text": [
      "Succeed for:  Xi= -1.0 t_0plus= 0.08249999999999999 D_cross= 3.750001125e-12 D_ec= 1.250375e-10\n"
     ]
    },
    {
     "name": "stderr",
     "output_type": "stream",
     "text": [
      "The linesearch algorithm failed with too small a step.\n",
      "The linesearch algorithm failed with too small a step.\n",
      "The linesearch algorithm failed with too small a step.\n",
      "The linesearch algorithm failed with too small a step.\n",
      "The linesearch algorithm failed with too small a step.\n",
      "2022-10-06 14:21:38.906 - [ERROR] callbacks.on_experiment_error(226): Simulation error: Maximum number of decreased steps occurred at t=2689.1814264408017. Try solving the model up to this time only or reducing dt_max (currently, dt_max=3.5458164923888056) and/or reducing the size of the time steps or period of the experiment.\n"
     ]
    },
    {
     "name": "stdout",
     "output_type": "stream",
     "text": [
      "Succeed for:  Xi= -1.0 t_0plus= 0.08249999999999999 D_cross= 3.750001125e-12 D_ec= 2.50025e-10\n"
     ]
    },
    {
     "name": "stderr",
     "output_type": "stream",
     "text": [
      "The linesearch algorithm failed with too small a step.\n",
      "The linesearch algorithm failed with too small a step.\n",
      "The linesearch algorithm failed with too small a step.\n",
      "The linesearch algorithm failed with too small a step.\n",
      "The linesearch algorithm failed with too small a step.\n",
      "2022-10-06 14:21:41.623 - [ERROR] callbacks.on_experiment_error(226): Simulation error: Maximum number of decreased steps occurred at t=2689.3786677443136. Try solving the model up to this time only or reducing dt_max (currently, dt_max=3.5458164923888056) and/or reducing the size of the time steps or period of the experiment.\n"
     ]
    },
    {
     "name": "stdout",
     "output_type": "stream",
     "text": [
      "Succeed for:  Xi= -1.0 t_0plus= 0.08249999999999999 D_cross= 3.750001125e-12 D_ec= 3.750125e-10\n",
      "Succeed for:  Xi= -1.0 t_0plus= 0.08249999999999999 D_cross= 3.750001125e-12 D_ec= 5e-10\n"
     ]
    },
    {
     "name": "stderr",
     "output_type": "stream",
     "text": [
      "At t = 0.00047255 and h = 1.60492e-013, the corrector convergence failed repeatedly or with |h| = hmin.\n",
      "At t = 0.000432859 and h = 2.11405e-013, the corrector convergence failed repeatedly or with |h| = hmin.\n",
      "psetup failed: .../casadi/interfaces/sundials/idas_interface.cpp:849: Calculating Jacobian failed\n",
      "At t = 0.000471659 and h = 3.01444e-013, the corrector convergence failed repeatedly or with |h| = hmin.\n",
      "psetup failed: .../casadi/interfaces/sundials/idas_interface.cpp:849: Calculating Jacobian failed\n",
      "At t = 0.000472088 and h = 3.41097e-013, the corrector convergence failed repeatedly or with |h| = hmin.\n",
      "At t = 0.000434426 and h = 3.4024e-013, the corrector convergence failed repeatedly or with |h| = hmin.\n",
      "2022-10-06 14:21:56.918 - [ERROR] callbacks.on_experiment_error(226): Simulation error: Maximum number of decreased steps occurred at t=120.0. Try solving the model up to this time only or reducing dt_max (currently, dt_max=3.5458164923888056) and/or reducing the size of the time steps or period of the experiment.\n"
     ]
    },
    {
     "name": "stdout",
     "output_type": "stream",
     "text": [
      "Traceback (most recent call last):\n",
      "  File \"C:\\Users\\rl1120\\AppData\\Local\\Temp\\ipykernel_16444\\920439172.py\", line 16, in <cell line: 11>\n",
      "    Sol_ddiff    = Sim_ddiff.solve(\n",
      "  File \"d:\\gitpybamm\\lrh_409\\lrh_409\\envsolcon\\pybamm-gem\\pybamm\\simulation.py\", line 843, in solve\n",
      "    raise e\n",
      "  File \"d:\\gitpybamm\\lrh_409\\lrh_409\\envsolcon\\pybamm-gem\\pybamm\\simulation.py\", line 829, in solve\n",
      "    step_solution = solver.step(\n",
      "  File \"d:\\gitpybamm\\lrh_409\\lrh_409\\envsolcon\\pybamm-gem\\pybamm\\solvers\\base_solver.py\", line 1322, in step\n",
      "    solution = self._integrate(model, t_eval, ext_and_inputs)\n",
      "  File \"d:\\gitpybamm\\lrh_409\\lrh_409\\envsolcon\\pybamm-gem\\pybamm\\solvers\\casadi_solver.py\", line 266, in _integrate\n",
      "    raise pybamm.SolverError(\n",
      "pybamm.expression_tree.exceptions.SolverError: Maximum number of decreased steps occurred at t=120.0. Try solving the model up to this time only or reducing dt_max (currently, dt_max=3.5458164923888056) and/or reducing the size of the time steps or period of the experiment.\n",
      "\n",
      "Fail for:  Xi= -1.0 t_0plus= 0.08249999999999999 D_cross= 7.500000749999999e-12 D_ec= 5e-14\n"
     ]
    },
    {
     "name": "stderr",
     "output_type": "stream",
     "text": [
      "The linesearch algorithm failed with too small a step.\n",
      "The linesearch algorithm failed with too small a step.\n"
     ]
    },
    {
     "name": "stdout",
     "output_type": "stream",
     "text": [
      "Succeed for:  Xi= -1.0 t_0plus= 0.08249999999999999 D_cross= 7.500000749999999e-12 D_ec= 1.250375e-10\n"
     ]
    },
    {
     "name": "stderr",
     "output_type": "stream",
     "text": [
      "The linesearch algorithm failed with too small a step.\n",
      "The linesearch algorithm failed with too small a step.\n"
     ]
    },
    {
     "name": "stdout",
     "output_type": "stream",
     "text": [
      "Succeed for:  Xi= -1.0 t_0plus= 0.08249999999999999 D_cross= 7.500000749999999e-12 D_ec= 2.50025e-10\n"
     ]
    },
    {
     "name": "stderr",
     "output_type": "stream",
     "text": [
      "The linesearch algorithm failed with too small a step.\n",
      "The linesearch algorithm failed with too small a step.\n",
      "The linesearch algorithm failed with too small a step.\n",
      "The linesearch algorithm failed with too small a step.\n",
      "The linesearch algorithm failed with too small a step.\n",
      "2022-10-06 14:22:14.885 - [ERROR] callbacks.on_experiment_error(226): Simulation error: Maximum number of decreased steps occurred at t=2336.799748532315. Try solving the model up to this time only or reducing dt_max (currently, dt_max=3.5458164923888056) and/or reducing the size of the time steps or period of the experiment.\n"
     ]
    },
    {
     "name": "stdout",
     "output_type": "stream",
     "text": [
      "Succeed for:  Xi= -1.0 t_0plus= 0.08249999999999999 D_cross= 7.500000749999999e-12 D_ec= 3.750125e-10\n"
     ]
    },
    {
     "name": "stderr",
     "output_type": "stream",
     "text": [
      "The linesearch algorithm failed with too small a step.\n",
      "The linesearch algorithm failed with too small a step.\n"
     ]
    },
    {
     "name": "stdout",
     "output_type": "stream",
     "text": [
      "Succeed for:  Xi= -1.0 t_0plus= 0.08249999999999999 D_cross= 7.500000749999999e-12 D_ec= 5e-10\n"
     ]
    },
    {
     "name": "stderr",
     "output_type": "stream",
     "text": [
      "At t = 0.00319491 and h = 3.25352e-015, the corrector convergence failed repeatedly or with |h| = hmin.\n",
      "psetup failed: .../casadi/interfaces/sundials/idas_interface.cpp:849: Calculating Jacobian failed\n",
      "psetup failed: .../casadi/interfaces/sundials/idas_interface.cpp:849: Calculating Jacobian failed\n",
      "psetup failed: .../casadi/interfaces/sundials/idas_interface.cpp:849: Calculating Jacobian failed\n",
      "psetup failed: .../casadi/interfaces/sundials/idas_interface.cpp:849: Calculating Jacobian failed\n",
      "At t = 0.00320901 and h = 5.21087e-018, the corrector convergence failed repeatedly or with |h| = hmin.\n",
      "At t = 0.000699373 and h = 1.70339e-015, the corrector convergence failed repeatedly or with |h| = hmin.\n",
      "At t = 0.000700278 and h = 2.09451e-016, the corrector convergence failed repeatedly or with |h| = hmin.\n",
      "psetup failed: .../casadi/interfaces/sundials/idas_interface.cpp:849: Calculating Jacobian failed\n",
      "psetup failed: .../casadi/interfaces/sundials/idas_interface.cpp:849: Calculating Jacobian failed\n",
      "At t = 6.71305e-005 and h = 1.8949e-014, the corrector convergence failed repeatedly or with |h| = hmin.\n",
      "At t = 7.51231e-005 and h = 2.7586e-014, the corrector convergence failed repeatedly or with |h| = hmin.\n",
      "At t = 7.47619e-005 and h = 1.62336e-014, the corrector convergence failed repeatedly or with |h| = hmin.\n",
      "At t = 2.25719e-005 and h = 3.99811e-015, the corrector convergence failed repeatedly or with |h| = hmin.\n",
      "psetup failed: .../casadi/interfaces/sundials/idas_interface.cpp:849: Calculating Jacobian failed\n",
      "psetup failed: .../casadi/interfaces/sundials/idas_interface.cpp:849: Calculating Jacobian failed\n",
      "psetup failed: .../casadi/interfaces/sundials/idas_interface.cpp:849: Calculating Jacobian failed\n",
      "psetup failed: .../casadi/interfaces/sundials/idas_interface.cpp:849: Calculating Jacobian failed\n",
      "psetup failed: .../casadi/interfaces/sundials/idas_interface.cpp:849: Calculating Jacobian failed\n",
      "psetup failed: .../casadi/interfaces/sundials/idas_interface.cpp:849: Calculating Jacobian failed\n",
      "psetup failed: .../casadi/interfaces/sundials/idas_interface.cpp:849: Calculating Jacobian failed\n",
      "psetup failed: .../casadi/interfaces/sundials/idas_interface.cpp:849: Calculating Jacobian failed\n",
      "psetup failed: .../casadi/interfaces/sundials/idas_interface.cpp:849: Calculating Jacobian failed\n",
      "psetup failed: .../casadi/interfaces/sundials/idas_interface.cpp:849: Calculating Jacobian failed\n",
      "At t = 1.54869e-005 and h = 4.86298e-014, the corrector convergence failed repeatedly or with |h| = hmin.\n",
      "psetup failed: .../casadi/interfaces/sundials/idas_interface.cpp:849: Calculating Jacobian failed\n",
      "At t = 1.73219e-005 and h = 2.59514e-014, the corrector convergence failed repeatedly or with |h| = hmin.\n",
      "psetup failed: .../casadi/interfaces/sundials/idas_interface.cpp:849: Calculating Jacobian failed\n",
      "At t = 2.25294e-005 and h = 1.34568e-016, the corrector convergence failed repeatedly or with |h| = hmin.\n",
      "psetup failed: .../casadi/interfaces/sundials/idas_interface.cpp:849: Calculating Jacobian failed\n",
      "psetup failed: .../casadi/interfaces/sundials/idas_interface.cpp:849: Calculating Jacobian failed\n",
      "At t = 2.25e-005 and h = 1.29451e-014, the corrector convergence failed repeatedly or with |h| = hmin.\n",
      "2022-10-06 14:23:02.692 - [ERROR] callbacks.on_experiment_error(226): Simulation error: Maximum number of decreased steps occurred at t=36.044715194713184. Try solving the model up to this time only or reducing dt_max (currently, dt_max=3.5458164923888056) and/or reducing the size of the time steps or period of the experiment.\n"
     ]
    },
    {
     "name": "stdout",
     "output_type": "stream",
     "text": [
      "Succeed for:  Xi= -1.0 t_0plus= 0.08249999999999999 D_cross= 1.1250000375e-11 D_ec= 5e-14\n",
      "Succeed for:  Xi= -1.0 t_0plus= 0.08249999999999999 D_cross= 1.1250000375e-11 D_ec= 1.250375e-10\n",
      "Succeed for:  Xi= -1.0 t_0plus= 0.08249999999999999 D_cross= 1.1250000375e-11 D_ec= 2.50025e-10\n",
      "Succeed for:  Xi= -1.0 t_0plus= 0.08249999999999999 D_cross= 1.1250000375e-11 D_ec= 3.750125e-10\n",
      "Succeed for:  Xi= -1.0 t_0plus= 0.08249999999999999 D_cross= 1.1250000375e-11 D_ec= 5e-10\n"
     ]
    },
    {
     "name": "stderr",
     "output_type": "stream",
     "text": [
      "psetup failed: .../casadi/interfaces/sundials/idas_interface.cpp:852: Linear solve failed\n",
      "At t = 0.00118884 and h = 2.77904e-016, the corrector convergence failed repeatedly or with |h| = hmin.\n",
      "psetup failed: .../casadi/interfaces/sundials/idas_interface.cpp:852: Linear solve failed\n",
      "At t = 0.00118561 and h = 3.94023e-015, the corrector convergence failed repeatedly or with |h| = hmin.\n",
      "psetup failed: .../casadi/interfaces/sundials/idas_interface.cpp:852: Linear solve failed\n",
      "At t = 0.0011828 and h = 2.94795e-017, the corrector convergence failed repeatedly or with |h| = hmin.\n",
      "psetup failed: .../casadi/interfaces/sundials/idas_interface.cpp:852: Linear solve failed\n",
      "psetup failed: .../casadi/interfaces/sundials/idas_interface.cpp:852: Linear solve failed\n",
      "psetup failed: .../casadi/interfaces/sundials/idas_interface.cpp:849: Calculating Jacobian failed\n",
      "psetup failed: .../casadi/interfaces/sundials/idas_interface.cpp:852: Linear solve failed\n",
      "psetup failed: .../casadi/interfaces/sundials/idas_interface.cpp:852: Linear solve failed\n",
      "At t = 0.00118233 and h = 1.81387e-021, the corrector convergence failed repeatedly or with |h| = hmin.\n",
      "2022-10-06 14:23:35.199 - [ERROR] callbacks.on_experiment_error(226): Simulation error: Maximum number of decreased steps occurred at t=0.0. Try solving the model up to this time only or reducing dt_max (currently, dt_max=7.091632984777611) and/or reducing the size of the time steps or period of the experiment.\n"
     ]
    },
    {
     "name": "stdout",
     "output_type": "stream",
     "text": [
      "Traceback (most recent call last):\n",
      "  File \"C:\\Users\\rl1120\\AppData\\Local\\Temp\\ipykernel_16444\\920439172.py\", line 16, in <cell line: 11>\n",
      "    Sol_ddiff    = Sim_ddiff.solve(\n",
      "  File \"d:\\gitpybamm\\lrh_409\\lrh_409\\envsolcon\\pybamm-gem\\pybamm\\simulation.py\", line 843, in solve\n",
      "    raise e\n",
      "  File \"d:\\gitpybamm\\lrh_409\\lrh_409\\envsolcon\\pybamm-gem\\pybamm\\simulation.py\", line 829, in solve\n",
      "    step_solution = solver.step(\n",
      "  File \"d:\\gitpybamm\\lrh_409\\lrh_409\\envsolcon\\pybamm-gem\\pybamm\\solvers\\base_solver.py\", line 1322, in step\n",
      "    solution = self._integrate(model, t_eval, ext_and_inputs)\n",
      "  File \"d:\\gitpybamm\\lrh_409\\lrh_409\\envsolcon\\pybamm-gem\\pybamm\\solvers\\casadi_solver.py\", line 266, in _integrate\n",
      "    raise pybamm.SolverError(\n",
      "pybamm.expression_tree.exceptions.SolverError: Maximum number of decreased steps occurred at t=0.0. Try solving the model up to this time only or reducing dt_max (currently, dt_max=7.091632984777611) and/or reducing the size of the time steps or period of the experiment.\n",
      "\n",
      "Fail for:  Xi= -1.0 t_0plus= 0.08249999999999999 D_cross= 1.5e-11 D_ec= 5e-14\n"
     ]
    },
    {
     "name": "stderr",
     "output_type": "stream",
     "text": [
      "2022-10-06 14:23:37.565 - [WARNING] callbacks.on_experiment_infeasible(233): \n",
      "\n",
      "\tExperiment is infeasible: 'event: Maximum voltage' was triggered during 'Discharge at 1 C until 2.5 V'. The returned solution only contains up to step 1 of cycle 1. \n"
     ]
    },
    {
     "name": "stdout",
     "output_type": "stream",
     "text": [
      "Succeed for:  Xi= -1.0 t_0plus= 0.08249999999999999 D_cross= 1.5e-11 D_ec= 1.250375e-10\n",
      "Succeed for:  Xi= -1.0 t_0plus= 0.08249999999999999 D_cross= 1.5e-11 D_ec= 2.50025e-10\n",
      "Succeed for:  Xi= -1.0 t_0plus= 0.08249999999999999 D_cross= 1.5e-11 D_ec= 3.750125e-10\n",
      "Succeed for:  Xi= -1.0 t_0plus= 0.08249999999999999 D_cross= 1.5e-11 D_ec= 5e-10\n"
     ]
    },
    {
     "name": "stderr",
     "output_type": "stream",
     "text": [
      "At t = 0.00442645 and h = 7.3982e-020, the corrector convergence failed repeatedly or with |h| = hmin.\n",
      "At t = 0.00442645 and h = 3.89589e-019, the corrector convergence failed repeatedly or with |h| = hmin.\n"
     ]
    },
    {
     "name": "stdout",
     "output_type": "stream",
     "text": [
      "Succeed for:  Xi= -1.0 t_0plus= 0.155 D_cross= 1.5e-18 D_ec= 5e-14\n"
     ]
    },
    {
     "name": "stderr",
     "output_type": "stream",
     "text": [
      "At t = 0.00471814 and h = 4.99113e-011, the corrector convergence failed repeatedly or with |h| = hmin.\n",
      "The linesearch algorithm failed with too small a step.\n",
      "The linesearch algorithm failed with too small a step.\n"
     ]
    },
    {
     "name": "stdout",
     "output_type": "stream",
     "text": [
      "Succeed for:  Xi= -1.0 t_0plus= 0.155 D_cross= 1.5e-18 D_ec= 1.250375e-10\n",
      "Succeed for:  Xi= -1.0 t_0plus= 0.155 D_cross= 1.5e-18 D_ec= 2.50025e-10\n"
     ]
    },
    {
     "name": "stderr",
     "output_type": "stream",
     "text": [
      "The linesearch algorithm failed with too small a step.\n"
     ]
    },
    {
     "name": "stdout",
     "output_type": "stream",
     "text": [
      "Succeed for:  Xi= -1.0 t_0plus= 0.155 D_cross= 1.5e-18 D_ec= 3.750125e-10\n"
     ]
    },
    {
     "name": "stderr",
     "output_type": "stream",
     "text": [
      "The linesearch algorithm failed with too small a step.\n",
      "The linesearch algorithm failed with too small a step.\n",
      "At t = 0 and h = 1.15868e-014, the error test failed repeatedly or with |h| = hmin.\n"
     ]
    },
    {
     "name": "stdout",
     "output_type": "stream",
     "text": [
      "Succeed for:  Xi= -1.0 t_0plus= 0.155 D_cross= 1.5e-18 D_ec= 5e-10\n"
     ]
    },
    {
     "name": "stderr",
     "output_type": "stream",
     "text": [
      "At t = 0.00158839 and h = 9.47268e-016, the corrector convergence failed repeatedly or with |h| = hmin.\n",
      "psetup failed: .../casadi/interfaces/sundials/idas_interface.cpp:849: Calculating Jacobian failed\n",
      "At t = 0.00161956 and h = 4.19313e-014, the corrector convergence failed repeatedly or with |h| = hmin.\n",
      "At t = 0.0015883 and h = 6.34003e-014, the corrector convergence failed repeatedly or with |h| = hmin.\n",
      "At t = 0.000339683 and h = 1.62631e-014, the corrector convergence failed repeatedly or with |h| = hmin.\n",
      "psetup failed: .../casadi/interfaces/sundials/idas_interface.cpp:849: Calculating Jacobian failed\n",
      "At t = 0.000389236 and h = 4.70968e-017, the corrector convergence failed repeatedly or with |h| = hmin.\n",
      "psetup failed: .../casadi/interfaces/sundials/idas_interface.cpp:849: Calculating Jacobian failed\n",
      "psetup failed: .../casadi/interfaces/sundials/idas_interface.cpp:849: Calculating Jacobian failed\n",
      "psetup failed: .../casadi/interfaces/sundials/idas_interface.cpp:849: Calculating Jacobian failed\n",
      "psetup failed: .../casadi/interfaces/sundials/idas_interface.cpp:849: Calculating Jacobian failed\n",
      "psetup failed: .../casadi/interfaces/sundials/idas_interface.cpp:849: Calculating Jacobian failed\n",
      "psetup failed: .../casadi/interfaces/sundials/idas_interface.cpp:849: Calculating Jacobian failed\n",
      "At t = 0.000116533 and h = 3.74367e-014, the corrector convergence failed repeatedly or with |h| = hmin.\n",
      "At t = 6.74108e-005 and h = 4.78153e-014, the corrector convergence failed repeatedly or with |h| = hmin.\n",
      "psetup failed: .../casadi/interfaces/sundials/idas_interface.cpp:849: Calculating Jacobian failed\n",
      "At t = 6.74453e-005 and h = 3.82664e-015, the corrector convergence failed repeatedly or with |h| = hmin.\n",
      "At t = 8.21086e-005 and h = 2.05897e-015, the corrector convergence failed repeatedly or with |h| = hmin.\n",
      "At t = 6.84635e-005 and h = 7.60264e-014, the corrector convergence failed repeatedly or with |h| = hmin.\n",
      "2022-10-06 14:25:09.268 - [ERROR] callbacks.on_experiment_error(226): Simulation error: Maximum number of decreased steps occurred at t=137.2617783923506. Try solving the model up to this time only or reducing dt_max (currently, dt_max=3.5458164923888056) and/or reducing the size of the time steps or period of the experiment.\n"
     ]
    },
    {
     "name": "stdout",
     "output_type": "stream",
     "text": [
      "Succeed for:  Xi= -1.0 t_0plus= 0.155 D_cross= 3.750001125e-12 D_ec= 5e-14\n"
     ]
    },
    {
     "name": "stderr",
     "output_type": "stream",
     "text": [
      "The linesearch algorithm failed with too small a step.\n",
      "The linesearch algorithm failed with too small a step.\n",
      "The linesearch algorithm failed with too small a step.\n",
      "The linesearch algorithm failed with too small a step.\n",
      "The linesearch algorithm failed with too small a step.\n",
      "2022-10-06 14:25:11.789 - [ERROR] callbacks.on_experiment_error(226): Simulation error: Maximum number of decreased steps occurred at t=2930.3952768061995. Try solving the model up to this time only or reducing dt_max (currently, dt_max=3.5458164923888056) and/or reducing the size of the time steps or period of the experiment.\n"
     ]
    },
    {
     "name": "stdout",
     "output_type": "stream",
     "text": [
      "Succeed for:  Xi= -1.0 t_0plus= 0.155 D_cross= 3.750001125e-12 D_ec= 1.250375e-10\n"
     ]
    },
    {
     "name": "stderr",
     "output_type": "stream",
     "text": [
      "The linesearch algorithm failed with too small a step.\n",
      "The linesearch algorithm failed with too small a step.\n",
      "The linesearch algorithm failed with too small a step.\n",
      "The linesearch algorithm failed with too small a step.\n",
      "The linesearch algorithm failed with too small a step.\n",
      "2022-10-06 14:25:14.552 - [ERROR] callbacks.on_experiment_error(226): Simulation error: Maximum number of decreased steps occurred at t=2689.1814264408017. Try solving the model up to this time only or reducing dt_max (currently, dt_max=3.5458164923888056) and/or reducing the size of the time steps or period of the experiment.\n"
     ]
    },
    {
     "name": "stdout",
     "output_type": "stream",
     "text": [
      "Succeed for:  Xi= -1.0 t_0plus= 0.155 D_cross= 3.750001125e-12 D_ec= 2.50025e-10\n"
     ]
    },
    {
     "name": "stderr",
     "output_type": "stream",
     "text": [
      "The linesearch algorithm failed with too small a step.\n",
      "The linesearch algorithm failed with too small a step.\n",
      "The linesearch algorithm failed with too small a step.\n",
      "The linesearch algorithm failed with too small a step.\n",
      "The linesearch algorithm failed with too small a step.\n",
      "2022-10-06 14:25:17.227 - [ERROR] callbacks.on_experiment_error(226): Simulation error: Maximum number of decreased steps occurred at t=2689.3786677443136. Try solving the model up to this time only or reducing dt_max (currently, dt_max=3.5458164923888056) and/or reducing the size of the time steps or period of the experiment.\n"
     ]
    },
    {
     "name": "stdout",
     "output_type": "stream",
     "text": [
      "Succeed for:  Xi= -1.0 t_0plus= 0.155 D_cross= 3.750001125e-12 D_ec= 3.750125e-10\n",
      "Succeed for:  Xi= -1.0 t_0plus= 0.155 D_cross= 3.750001125e-12 D_ec= 5e-10\n"
     ]
    },
    {
     "name": "stderr",
     "output_type": "stream",
     "text": [
      "At t = 0.00047255 and h = 1.60492e-013, the corrector convergence failed repeatedly or with |h| = hmin.\n",
      "At t = 0.000432859 and h = 2.11405e-013, the corrector convergence failed repeatedly or with |h| = hmin.\n",
      "psetup failed: .../casadi/interfaces/sundials/idas_interface.cpp:849: Calculating Jacobian failed\n",
      "At t = 0.000471659 and h = 3.01444e-013, the corrector convergence failed repeatedly or with |h| = hmin.\n",
      "psetup failed: .../casadi/interfaces/sundials/idas_interface.cpp:849: Calculating Jacobian failed\n",
      "At t = 0.000472088 and h = 3.41097e-013, the corrector convergence failed repeatedly or with |h| = hmin.\n",
      "At t = 0.000434426 and h = 3.4024e-013, the corrector convergence failed repeatedly or with |h| = hmin.\n",
      "2022-10-06 14:25:32.848 - [ERROR] callbacks.on_experiment_error(226): Simulation error: Maximum number of decreased steps occurred at t=120.0. Try solving the model up to this time only or reducing dt_max (currently, dt_max=3.5458164923888056) and/or reducing the size of the time steps or period of the experiment.\n"
     ]
    },
    {
     "name": "stdout",
     "output_type": "stream",
     "text": [
      "Traceback (most recent call last):\n",
      "  File \"C:\\Users\\rl1120\\AppData\\Local\\Temp\\ipykernel_16444\\920439172.py\", line 16, in <cell line: 11>\n",
      "    Sol_ddiff    = Sim_ddiff.solve(\n",
      "  File \"d:\\gitpybamm\\lrh_409\\lrh_409\\envsolcon\\pybamm-gem\\pybamm\\simulation.py\", line 843, in solve\n",
      "    raise e\n",
      "  File \"d:\\gitpybamm\\lrh_409\\lrh_409\\envsolcon\\pybamm-gem\\pybamm\\simulation.py\", line 829, in solve\n",
      "    step_solution = solver.step(\n",
      "  File \"d:\\gitpybamm\\lrh_409\\lrh_409\\envsolcon\\pybamm-gem\\pybamm\\solvers\\base_solver.py\", line 1322, in step\n",
      "    solution = self._integrate(model, t_eval, ext_and_inputs)\n",
      "  File \"d:\\gitpybamm\\lrh_409\\lrh_409\\envsolcon\\pybamm-gem\\pybamm\\solvers\\casadi_solver.py\", line 266, in _integrate\n",
      "    raise pybamm.SolverError(\n",
      "pybamm.expression_tree.exceptions.SolverError: Maximum number of decreased steps occurred at t=120.0. Try solving the model up to this time only or reducing dt_max (currently, dt_max=3.5458164923888056) and/or reducing the size of the time steps or period of the experiment.\n",
      "\n",
      "Fail for:  Xi= -1.0 t_0plus= 0.155 D_cross= 7.500000749999999e-12 D_ec= 5e-14\n"
     ]
    },
    {
     "name": "stderr",
     "output_type": "stream",
     "text": [
      "The linesearch algorithm failed with too small a step.\n",
      "The linesearch algorithm failed with too small a step.\n"
     ]
    },
    {
     "name": "stdout",
     "output_type": "stream",
     "text": [
      "Succeed for:  Xi= -1.0 t_0plus= 0.155 D_cross= 7.500000749999999e-12 D_ec= 1.250375e-10\n"
     ]
    },
    {
     "name": "stderr",
     "output_type": "stream",
     "text": [
      "The linesearch algorithm failed with too small a step.\n",
      "The linesearch algorithm failed with too small a step.\n"
     ]
    },
    {
     "name": "stdout",
     "output_type": "stream",
     "text": [
      "Succeed for:  Xi= -1.0 t_0plus= 0.155 D_cross= 7.500000749999999e-12 D_ec= 2.50025e-10\n"
     ]
    },
    {
     "name": "stderr",
     "output_type": "stream",
     "text": [
      "The linesearch algorithm failed with too small a step.\n",
      "The linesearch algorithm failed with too small a step.\n",
      "The linesearch algorithm failed with too small a step.\n",
      "The linesearch algorithm failed with too small a step.\n",
      "The linesearch algorithm failed with too small a step.\n",
      "2022-10-06 14:25:50.866 - [ERROR] callbacks.on_experiment_error(226): Simulation error: Maximum number of decreased steps occurred at t=2336.799748532315. Try solving the model up to this time only or reducing dt_max (currently, dt_max=3.5458164923888056) and/or reducing the size of the time steps or period of the experiment.\n"
     ]
    },
    {
     "name": "stdout",
     "output_type": "stream",
     "text": [
      "Succeed for:  Xi= -1.0 t_0plus= 0.155 D_cross= 7.500000749999999e-12 D_ec= 3.750125e-10\n"
     ]
    },
    {
     "name": "stderr",
     "output_type": "stream",
     "text": [
      "The linesearch algorithm failed with too small a step.\n",
      "The linesearch algorithm failed with too small a step.\n"
     ]
    },
    {
     "name": "stdout",
     "output_type": "stream",
     "text": [
      "Succeed for:  Xi= -1.0 t_0plus= 0.155 D_cross= 7.500000749999999e-12 D_ec= 5e-10\n"
     ]
    },
    {
     "name": "stderr",
     "output_type": "stream",
     "text": [
      "At t = 0.00319491 and h = 3.25352e-015, the corrector convergence failed repeatedly or with |h| = hmin.\n",
      "psetup failed: .../casadi/interfaces/sundials/idas_interface.cpp:849: Calculating Jacobian failed\n",
      "psetup failed: .../casadi/interfaces/sundials/idas_interface.cpp:849: Calculating Jacobian failed\n",
      "psetup failed: .../casadi/interfaces/sundials/idas_interface.cpp:849: Calculating Jacobian failed\n",
      "psetup failed: .../casadi/interfaces/sundials/idas_interface.cpp:849: Calculating Jacobian failed\n",
      "At t = 0.00320901 and h = 5.21087e-018, the corrector convergence failed repeatedly or with |h| = hmin.\n",
      "At t = 0.000699373 and h = 1.70339e-015, the corrector convergence failed repeatedly or with |h| = hmin.\n",
      "At t = 0.000700278 and h = 2.09451e-016, the corrector convergence failed repeatedly or with |h| = hmin.\n",
      "psetup failed: .../casadi/interfaces/sundials/idas_interface.cpp:849: Calculating Jacobian failed\n",
      "psetup failed: .../casadi/interfaces/sundials/idas_interface.cpp:849: Calculating Jacobian failed\n",
      "At t = 6.71305e-005 and h = 1.8949e-014, the corrector convergence failed repeatedly or with |h| = hmin.\n",
      "At t = 7.51231e-005 and h = 2.7586e-014, the corrector convergence failed repeatedly or with |h| = hmin.\n",
      "At t = 7.47619e-005 and h = 1.62336e-014, the corrector convergence failed repeatedly or with |h| = hmin.\n",
      "At t = 2.25719e-005 and h = 3.99811e-015, the corrector convergence failed repeatedly or with |h| = hmin.\n",
      "psetup failed: .../casadi/interfaces/sundials/idas_interface.cpp:849: Calculating Jacobian failed\n",
      "psetup failed: .../casadi/interfaces/sundials/idas_interface.cpp:849: Calculating Jacobian failed\n",
      "psetup failed: .../casadi/interfaces/sundials/idas_interface.cpp:849: Calculating Jacobian failed\n",
      "psetup failed: .../casadi/interfaces/sundials/idas_interface.cpp:849: Calculating Jacobian failed\n",
      "psetup failed: .../casadi/interfaces/sundials/idas_interface.cpp:849: Calculating Jacobian failed\n",
      "psetup failed: .../casadi/interfaces/sundials/idas_interface.cpp:849: Calculating Jacobian failed\n",
      "psetup failed: .../casadi/interfaces/sundials/idas_interface.cpp:849: Calculating Jacobian failed\n",
      "psetup failed: .../casadi/interfaces/sundials/idas_interface.cpp:849: Calculating Jacobian failed\n",
      "psetup failed: .../casadi/interfaces/sundials/idas_interface.cpp:849: Calculating Jacobian failed\n",
      "psetup failed: .../casadi/interfaces/sundials/idas_interface.cpp:849: Calculating Jacobian failed\n",
      "At t = 1.54869e-005 and h = 4.86298e-014, the corrector convergence failed repeatedly or with |h| = hmin.\n",
      "psetup failed: .../casadi/interfaces/sundials/idas_interface.cpp:849: Calculating Jacobian failed\n",
      "At t = 1.73219e-005 and h = 2.59514e-014, the corrector convergence failed repeatedly or with |h| = hmin.\n",
      "psetup failed: .../casadi/interfaces/sundials/idas_interface.cpp:849: Calculating Jacobian failed\n",
      "At t = 2.25294e-005 and h = 1.34568e-016, the corrector convergence failed repeatedly or with |h| = hmin.\n",
      "psetup failed: .../casadi/interfaces/sundials/idas_interface.cpp:849: Calculating Jacobian failed\n",
      "psetup failed: .../casadi/interfaces/sundials/idas_interface.cpp:849: Calculating Jacobian failed\n",
      "At t = 2.25e-005 and h = 1.29451e-014, the corrector convergence failed repeatedly or with |h| = hmin.\n",
      "2022-10-06 14:26:34.619 - [ERROR] callbacks.on_experiment_error(226): Simulation error: Maximum number of decreased steps occurred at t=36.044715194713184. Try solving the model up to this time only or reducing dt_max (currently, dt_max=3.5458164923888056) and/or reducing the size of the time steps or period of the experiment.\n"
     ]
    },
    {
     "name": "stdout",
     "output_type": "stream",
     "text": [
      "Succeed for:  Xi= -1.0 t_0plus= 0.155 D_cross= 1.1250000375e-11 D_ec= 5e-14\n",
      "Succeed for:  Xi= -1.0 t_0plus= 0.155 D_cross= 1.1250000375e-11 D_ec= 1.250375e-10\n",
      "Succeed for:  Xi= -1.0 t_0plus= 0.155 D_cross= 1.1250000375e-11 D_ec= 2.50025e-10\n",
      "Succeed for:  Xi= -1.0 t_0plus= 0.155 D_cross= 1.1250000375e-11 D_ec= 3.750125e-10\n",
      "Succeed for:  Xi= -1.0 t_0plus= 0.155 D_cross= 1.1250000375e-11 D_ec= 5e-10\n"
     ]
    },
    {
     "name": "stderr",
     "output_type": "stream",
     "text": [
      "psetup failed: .../casadi/interfaces/sundials/idas_interface.cpp:852: Linear solve failed\n",
      "At t = 0.00118884 and h = 2.77904e-016, the corrector convergence failed repeatedly or with |h| = hmin.\n",
      "psetup failed: .../casadi/interfaces/sundials/idas_interface.cpp:852: Linear solve failed\n",
      "At t = 0.00118561 and h = 3.94023e-015, the corrector convergence failed repeatedly or with |h| = hmin.\n",
      "psetup failed: .../casadi/interfaces/sundials/idas_interface.cpp:852: Linear solve failed\n",
      "At t = 0.0011828 and h = 2.94795e-017, the corrector convergence failed repeatedly or with |h| = hmin.\n",
      "psetup failed: .../casadi/interfaces/sundials/idas_interface.cpp:852: Linear solve failed\n",
      "psetup failed: .../casadi/interfaces/sundials/idas_interface.cpp:852: Linear solve failed\n",
      "psetup failed: .../casadi/interfaces/sundials/idas_interface.cpp:849: Calculating Jacobian failed\n",
      "psetup failed: .../casadi/interfaces/sundials/idas_interface.cpp:852: Linear solve failed\n",
      "psetup failed: .../casadi/interfaces/sundials/idas_interface.cpp:852: Linear solve failed\n",
      "At t = 0.00118233 and h = 1.81387e-021, the corrector convergence failed repeatedly or with |h| = hmin.\n",
      "2022-10-06 14:27:05.229 - [ERROR] callbacks.on_experiment_error(226): Simulation error: Maximum number of decreased steps occurred at t=0.0. Try solving the model up to this time only or reducing dt_max (currently, dt_max=7.091632984777611) and/or reducing the size of the time steps or period of the experiment.\n"
     ]
    },
    {
     "name": "stdout",
     "output_type": "stream",
     "text": [
      "Traceback (most recent call last):\n",
      "  File \"C:\\Users\\rl1120\\AppData\\Local\\Temp\\ipykernel_16444\\920439172.py\", line 16, in <cell line: 11>\n",
      "    Sol_ddiff    = Sim_ddiff.solve(\n",
      "  File \"d:\\gitpybamm\\lrh_409\\lrh_409\\envsolcon\\pybamm-gem\\pybamm\\simulation.py\", line 843, in solve\n",
      "    raise e\n",
      "  File \"d:\\gitpybamm\\lrh_409\\lrh_409\\envsolcon\\pybamm-gem\\pybamm\\simulation.py\", line 829, in solve\n",
      "    step_solution = solver.step(\n",
      "  File \"d:\\gitpybamm\\lrh_409\\lrh_409\\envsolcon\\pybamm-gem\\pybamm\\solvers\\base_solver.py\", line 1322, in step\n",
      "    solution = self._integrate(model, t_eval, ext_and_inputs)\n",
      "  File \"d:\\gitpybamm\\lrh_409\\lrh_409\\envsolcon\\pybamm-gem\\pybamm\\solvers\\casadi_solver.py\", line 266, in _integrate\n",
      "    raise pybamm.SolverError(\n",
      "pybamm.expression_tree.exceptions.SolverError: Maximum number of decreased steps occurred at t=0.0. Try solving the model up to this time only or reducing dt_max (currently, dt_max=7.091632984777611) and/or reducing the size of the time steps or period of the experiment.\n",
      "\n",
      "Fail for:  Xi= -1.0 t_0plus= 0.155 D_cross= 1.5e-11 D_ec= 5e-14\n"
     ]
    },
    {
     "name": "stderr",
     "output_type": "stream",
     "text": [
      "2022-10-06 14:27:07.547 - [WARNING] callbacks.on_experiment_infeasible(233): \n",
      "\n",
      "\tExperiment is infeasible: 'event: Maximum voltage' was triggered during 'Discharge at 1 C until 2.5 V'. The returned solution only contains up to step 1 of cycle 1. \n"
     ]
    },
    {
     "name": "stdout",
     "output_type": "stream",
     "text": [
      "Succeed for:  Xi= -1.0 t_0plus= 0.155 D_cross= 1.5e-11 D_ec= 1.250375e-10\n",
      "Succeed for:  Xi= -1.0 t_0plus= 0.155 D_cross= 1.5e-11 D_ec= 2.50025e-10\n",
      "Succeed for:  Xi= -1.0 t_0plus= 0.155 D_cross= 1.5e-11 D_ec= 3.750125e-10\n",
      "Succeed for:  Xi= -1.0 t_0plus= 0.155 D_cross= 1.5e-11 D_ec= 5e-10\n"
     ]
    },
    {
     "name": "stderr",
     "output_type": "stream",
     "text": [
      "At t = 0.00442645 and h = 7.3982e-020, the corrector convergence failed repeatedly or with |h| = hmin.\n",
      "At t = 0.00442645 and h = 3.89589e-019, the corrector convergence failed repeatedly or with |h| = hmin.\n"
     ]
    },
    {
     "name": "stdout",
     "output_type": "stream",
     "text": [
      "Succeed for:  Xi= -1.0 t_0plus= 0.22749999999999998 D_cross= 1.5e-18 D_ec= 5e-14\n"
     ]
    },
    {
     "name": "stderr",
     "output_type": "stream",
     "text": [
      "At t = 0.00471814 and h = 4.99113e-011, the corrector convergence failed repeatedly or with |h| = hmin.\n",
      "The linesearch algorithm failed with too small a step.\n",
      "The linesearch algorithm failed with too small a step.\n"
     ]
    },
    {
     "name": "stdout",
     "output_type": "stream",
     "text": [
      "Succeed for:  Xi= -1.0 t_0plus= 0.22749999999999998 D_cross= 1.5e-18 D_ec= 1.250375e-10\n",
      "Succeed for:  Xi= -1.0 t_0plus= 0.22749999999999998 D_cross= 1.5e-18 D_ec= 2.50025e-10\n"
     ]
    },
    {
     "name": "stderr",
     "output_type": "stream",
     "text": [
      "The linesearch algorithm failed with too small a step.\n"
     ]
    },
    {
     "name": "stdout",
     "output_type": "stream",
     "text": [
      "Succeed for:  Xi= -1.0 t_0plus= 0.22749999999999998 D_cross= 1.5e-18 D_ec= 3.750125e-10\n"
     ]
    },
    {
     "name": "stderr",
     "output_type": "stream",
     "text": [
      "The linesearch algorithm failed with too small a step.\n",
      "The linesearch algorithm failed with too small a step.\n",
      "At t = 0 and h = 1.15868e-014, the error test failed repeatedly or with |h| = hmin.\n"
     ]
    },
    {
     "name": "stdout",
     "output_type": "stream",
     "text": [
      "Succeed for:  Xi= -1.0 t_0plus= 0.22749999999999998 D_cross= 1.5e-18 D_ec= 5e-10\n"
     ]
    },
    {
     "name": "stderr",
     "output_type": "stream",
     "text": [
      "At t = 0.00158839 and h = 9.47268e-016, the corrector convergence failed repeatedly or with |h| = hmin.\n",
      "psetup failed: .../casadi/interfaces/sundials/idas_interface.cpp:849: Calculating Jacobian failed\n",
      "At t = 0.00161956 and h = 4.19313e-014, the corrector convergence failed repeatedly or with |h| = hmin.\n",
      "At t = 0.0015883 and h = 6.34003e-014, the corrector convergence failed repeatedly or with |h| = hmin.\n",
      "At t = 0.000339683 and h = 1.62631e-014, the corrector convergence failed repeatedly or with |h| = hmin.\n",
      "psetup failed: .../casadi/interfaces/sundials/idas_interface.cpp:849: Calculating Jacobian failed\n",
      "At t = 0.000389236 and h = 4.70968e-017, the corrector convergence failed repeatedly or with |h| = hmin.\n",
      "psetup failed: .../casadi/interfaces/sundials/idas_interface.cpp:849: Calculating Jacobian failed\n",
      "psetup failed: .../casadi/interfaces/sundials/idas_interface.cpp:849: Calculating Jacobian failed\n",
      "psetup failed: .../casadi/interfaces/sundials/idas_interface.cpp:849: Calculating Jacobian failed\n",
      "psetup failed: .../casadi/interfaces/sundials/idas_interface.cpp:849: Calculating Jacobian failed\n",
      "psetup failed: .../casadi/interfaces/sundials/idas_interface.cpp:849: Calculating Jacobian failed\n",
      "psetup failed: .../casadi/interfaces/sundials/idas_interface.cpp:849: Calculating Jacobian failed\n",
      "At t = 0.000116533 and h = 3.74367e-014, the corrector convergence failed repeatedly or with |h| = hmin.\n",
      "At t = 6.74108e-005 and h = 4.78153e-014, the corrector convergence failed repeatedly or with |h| = hmin.\n",
      "psetup failed: .../casadi/interfaces/sundials/idas_interface.cpp:849: Calculating Jacobian failed\n",
      "At t = 6.74453e-005 and h = 3.82664e-015, the corrector convergence failed repeatedly or with |h| = hmin.\n",
      "At t = 8.21086e-005 and h = 2.05897e-015, the corrector convergence failed repeatedly or with |h| = hmin.\n",
      "At t = 6.84635e-005 and h = 7.60264e-014, the corrector convergence failed repeatedly or with |h| = hmin.\n",
      "2022-10-06 14:28:54.614 - [ERROR] callbacks.on_experiment_error(226): Simulation error: Maximum number of decreased steps occurred at t=137.2617783923506. Try solving the model up to this time only or reducing dt_max (currently, dt_max=3.5458164923888056) and/or reducing the size of the time steps or period of the experiment.\n"
     ]
    },
    {
     "name": "stdout",
     "output_type": "stream",
     "text": [
      "Succeed for:  Xi= -1.0 t_0plus= 0.22749999999999998 D_cross= 3.750001125e-12 D_ec= 5e-14\n"
     ]
    },
    {
     "name": "stderr",
     "output_type": "stream",
     "text": [
      "The linesearch algorithm failed with too small a step.\n",
      "The linesearch algorithm failed with too small a step.\n",
      "The linesearch algorithm failed with too small a step.\n",
      "The linesearch algorithm failed with too small a step.\n",
      "The linesearch algorithm failed with too small a step.\n",
      "2022-10-06 14:28:57.658 - [ERROR] callbacks.on_experiment_error(226): Simulation error: Maximum number of decreased steps occurred at t=2930.3952768061995. Try solving the model up to this time only or reducing dt_max (currently, dt_max=3.5458164923888056) and/or reducing the size of the time steps or period of the experiment.\n"
     ]
    },
    {
     "name": "stdout",
     "output_type": "stream",
     "text": [
      "Succeed for:  Xi= -1.0 t_0plus= 0.22749999999999998 D_cross= 3.750001125e-12 D_ec= 1.250375e-10\n"
     ]
    },
    {
     "name": "stderr",
     "output_type": "stream",
     "text": [
      "The linesearch algorithm failed with too small a step.\n",
      "The linesearch algorithm failed with too small a step.\n",
      "The linesearch algorithm failed with too small a step.\n",
      "The linesearch algorithm failed with too small a step.\n",
      "The linesearch algorithm failed with too small a step.\n",
      "2022-10-06 14:29:01.425 - [ERROR] callbacks.on_experiment_error(226): Simulation error: Maximum number of decreased steps occurred at t=2689.1814264408017. Try solving the model up to this time only or reducing dt_max (currently, dt_max=3.5458164923888056) and/or reducing the size of the time steps or period of the experiment.\n"
     ]
    },
    {
     "name": "stdout",
     "output_type": "stream",
     "text": [
      "Succeed for:  Xi= -1.0 t_0plus= 0.22749999999999998 D_cross= 3.750001125e-12 D_ec= 2.50025e-10\n"
     ]
    },
    {
     "name": "stderr",
     "output_type": "stream",
     "text": [
      "The linesearch algorithm failed with too small a step.\n",
      "The linesearch algorithm failed with too small a step.\n",
      "The linesearch algorithm failed with too small a step.\n",
      "The linesearch algorithm failed with too small a step.\n",
      "The linesearch algorithm failed with too small a step.\n",
      "2022-10-06 14:29:04.105 - [ERROR] callbacks.on_experiment_error(226): Simulation error: Maximum number of decreased steps occurred at t=2689.3786677443136. Try solving the model up to this time only or reducing dt_max (currently, dt_max=3.5458164923888056) and/or reducing the size of the time steps or period of the experiment.\n"
     ]
    },
    {
     "name": "stdout",
     "output_type": "stream",
     "text": [
      "Succeed for:  Xi= -1.0 t_0plus= 0.22749999999999998 D_cross= 3.750001125e-12 D_ec= 3.750125e-10\n",
      "Succeed for:  Xi= -1.0 t_0plus= 0.22749999999999998 D_cross= 3.750001125e-12 D_ec= 5e-10\n"
     ]
    },
    {
     "name": "stderr",
     "output_type": "stream",
     "text": [
      "At t = 0.00047255 and h = 1.60492e-013, the corrector convergence failed repeatedly or with |h| = hmin.\n",
      "At t = 0.000432859 and h = 2.11405e-013, the corrector convergence failed repeatedly or with |h| = hmin.\n",
      "psetup failed: .../casadi/interfaces/sundials/idas_interface.cpp:849: Calculating Jacobian failed\n",
      "At t = 0.000471659 and h = 3.01444e-013, the corrector convergence failed repeatedly or with |h| = hmin.\n",
      "psetup failed: .../casadi/interfaces/sundials/idas_interface.cpp:849: Calculating Jacobian failed\n",
      "At t = 0.000472088 and h = 3.41097e-013, the corrector convergence failed repeatedly or with |h| = hmin.\n",
      "At t = 0.000434426 and h = 3.4024e-013, the corrector convergence failed repeatedly or with |h| = hmin.\n",
      "2022-10-06 14:29:19.376 - [ERROR] callbacks.on_experiment_error(226): Simulation error: Maximum number of decreased steps occurred at t=120.0. Try solving the model up to this time only or reducing dt_max (currently, dt_max=3.5458164923888056) and/or reducing the size of the time steps or period of the experiment.\n"
     ]
    },
    {
     "name": "stdout",
     "output_type": "stream",
     "text": [
      "Traceback (most recent call last):\n",
      "  File \"C:\\Users\\rl1120\\AppData\\Local\\Temp\\ipykernel_16444\\920439172.py\", line 16, in <cell line: 11>\n",
      "    Sol_ddiff    = Sim_ddiff.solve(\n",
      "  File \"d:\\gitpybamm\\lrh_409\\lrh_409\\envsolcon\\pybamm-gem\\pybamm\\simulation.py\", line 843, in solve\n",
      "    raise e\n",
      "  File \"d:\\gitpybamm\\lrh_409\\lrh_409\\envsolcon\\pybamm-gem\\pybamm\\simulation.py\", line 829, in solve\n",
      "    step_solution = solver.step(\n",
      "  File \"d:\\gitpybamm\\lrh_409\\lrh_409\\envsolcon\\pybamm-gem\\pybamm\\solvers\\base_solver.py\", line 1322, in step\n",
      "    solution = self._integrate(model, t_eval, ext_and_inputs)\n",
      "  File \"d:\\gitpybamm\\lrh_409\\lrh_409\\envsolcon\\pybamm-gem\\pybamm\\solvers\\casadi_solver.py\", line 266, in _integrate\n",
      "    raise pybamm.SolverError(\n",
      "pybamm.expression_tree.exceptions.SolverError: Maximum number of decreased steps occurred at t=120.0. Try solving the model up to this time only or reducing dt_max (currently, dt_max=3.5458164923888056) and/or reducing the size of the time steps or period of the experiment.\n",
      "\n",
      "Fail for:  Xi= -1.0 t_0plus= 0.22749999999999998 D_cross= 7.500000749999999e-12 D_ec= 5e-14\n"
     ]
    },
    {
     "name": "stderr",
     "output_type": "stream",
     "text": [
      "The linesearch algorithm failed with too small a step.\n",
      "The linesearch algorithm failed with too small a step.\n"
     ]
    },
    {
     "name": "stdout",
     "output_type": "stream",
     "text": [
      "Succeed for:  Xi= -1.0 t_0plus= 0.22749999999999998 D_cross= 7.500000749999999e-12 D_ec= 1.250375e-10\n"
     ]
    },
    {
     "name": "stderr",
     "output_type": "stream",
     "text": [
      "The linesearch algorithm failed with too small a step.\n",
      "The linesearch algorithm failed with too small a step.\n"
     ]
    },
    {
     "name": "stdout",
     "output_type": "stream",
     "text": [
      "Succeed for:  Xi= -1.0 t_0plus= 0.22749999999999998 D_cross= 7.500000749999999e-12 D_ec= 2.50025e-10\n"
     ]
    },
    {
     "name": "stderr",
     "output_type": "stream",
     "text": [
      "The linesearch algorithm failed with too small a step.\n",
      "The linesearch algorithm failed with too small a step.\n",
      "The linesearch algorithm failed with too small a step.\n",
      "The linesearch algorithm failed with too small a step.\n",
      "The linesearch algorithm failed with too small a step.\n",
      "2022-10-06 14:29:35.111 - [ERROR] callbacks.on_experiment_error(226): Simulation error: Maximum number of decreased steps occurred at t=2336.799748532315. Try solving the model up to this time only or reducing dt_max (currently, dt_max=3.5458164923888056) and/or reducing the size of the time steps or period of the experiment.\n"
     ]
    },
    {
     "name": "stdout",
     "output_type": "stream",
     "text": [
      "Succeed for:  Xi= -1.0 t_0plus= 0.22749999999999998 D_cross= 7.500000749999999e-12 D_ec= 3.750125e-10\n"
     ]
    },
    {
     "name": "stderr",
     "output_type": "stream",
     "text": [
      "The linesearch algorithm failed with too small a step.\n",
      "The linesearch algorithm failed with too small a step.\n"
     ]
    },
    {
     "name": "stdout",
     "output_type": "stream",
     "text": [
      "Succeed for:  Xi= -1.0 t_0plus= 0.22749999999999998 D_cross= 7.500000749999999e-12 D_ec= 5e-10\n"
     ]
    },
    {
     "name": "stderr",
     "output_type": "stream",
     "text": [
      "At t = 0.00319491 and h = 3.25352e-015, the corrector convergence failed repeatedly or with |h| = hmin.\n",
      "psetup failed: .../casadi/interfaces/sundials/idas_interface.cpp:849: Calculating Jacobian failed\n",
      "psetup failed: .../casadi/interfaces/sundials/idas_interface.cpp:849: Calculating Jacobian failed\n",
      "psetup failed: .../casadi/interfaces/sundials/idas_interface.cpp:849: Calculating Jacobian failed\n",
      "psetup failed: .../casadi/interfaces/sundials/idas_interface.cpp:849: Calculating Jacobian failed\n",
      "At t = 0.00320901 and h = 5.21087e-018, the corrector convergence failed repeatedly or with |h| = hmin.\n",
      "At t = 0.000699373 and h = 1.70339e-015, the corrector convergence failed repeatedly or with |h| = hmin.\n",
      "At t = 0.000700278 and h = 2.09451e-016, the corrector convergence failed repeatedly or with |h| = hmin.\n",
      "psetup failed: .../casadi/interfaces/sundials/idas_interface.cpp:849: Calculating Jacobian failed\n",
      "psetup failed: .../casadi/interfaces/sundials/idas_interface.cpp:849: Calculating Jacobian failed\n",
      "At t = 6.71305e-005 and h = 1.8949e-014, the corrector convergence failed repeatedly or with |h| = hmin.\n",
      "At t = 7.51231e-005 and h = 2.7586e-014, the corrector convergence failed repeatedly or with |h| = hmin.\n",
      "At t = 7.47619e-005 and h = 1.62336e-014, the corrector convergence failed repeatedly or with |h| = hmin.\n",
      "At t = 2.25719e-005 and h = 3.99811e-015, the corrector convergence failed repeatedly or with |h| = hmin.\n",
      "psetup failed: .../casadi/interfaces/sundials/idas_interface.cpp:849: Calculating Jacobian failed\n",
      "psetup failed: .../casadi/interfaces/sundials/idas_interface.cpp:849: Calculating Jacobian failed\n",
      "psetup failed: .../casadi/interfaces/sundials/idas_interface.cpp:849: Calculating Jacobian failed\n",
      "psetup failed: .../casadi/interfaces/sundials/idas_interface.cpp:849: Calculating Jacobian failed\n",
      "psetup failed: .../casadi/interfaces/sundials/idas_interface.cpp:849: Calculating Jacobian failed\n",
      "psetup failed: .../casadi/interfaces/sundials/idas_interface.cpp:849: Calculating Jacobian failed\n",
      "psetup failed: .../casadi/interfaces/sundials/idas_interface.cpp:849: Calculating Jacobian failed\n",
      "psetup failed: .../casadi/interfaces/sundials/idas_interface.cpp:849: Calculating Jacobian failed\n",
      "psetup failed: .../casadi/interfaces/sundials/idas_interface.cpp:849: Calculating Jacobian failed\n",
      "psetup failed: .../casadi/interfaces/sundials/idas_interface.cpp:849: Calculating Jacobian failed\n",
      "At t = 1.54869e-005 and h = 4.86298e-014, the corrector convergence failed repeatedly or with |h| = hmin.\n",
      "psetup failed: .../casadi/interfaces/sundials/idas_interface.cpp:849: Calculating Jacobian failed\n",
      "At t = 1.73219e-005 and h = 2.59514e-014, the corrector convergence failed repeatedly or with |h| = hmin.\n",
      "psetup failed: .../casadi/interfaces/sundials/idas_interface.cpp:849: Calculating Jacobian failed\n",
      "At t = 2.25294e-005 and h = 1.34568e-016, the corrector convergence failed repeatedly or with |h| = hmin.\n",
      "psetup failed: .../casadi/interfaces/sundials/idas_interface.cpp:849: Calculating Jacobian failed\n",
      "psetup failed: .../casadi/interfaces/sundials/idas_interface.cpp:849: Calculating Jacobian failed\n",
      "At t = 2.25e-005 and h = 1.29451e-014, the corrector convergence failed repeatedly or with |h| = hmin.\n",
      "2022-10-06 14:30:20.327 - [ERROR] callbacks.on_experiment_error(226): Simulation error: Maximum number of decreased steps occurred at t=36.044715194713184. Try solving the model up to this time only or reducing dt_max (currently, dt_max=3.5458164923888056) and/or reducing the size of the time steps or period of the experiment.\n"
     ]
    },
    {
     "name": "stdout",
     "output_type": "stream",
     "text": [
      "Succeed for:  Xi= -1.0 t_0plus= 0.22749999999999998 D_cross= 1.1250000375e-11 D_ec= 5e-14\n",
      "Succeed for:  Xi= -1.0 t_0plus= 0.22749999999999998 D_cross= 1.1250000375e-11 D_ec= 1.250375e-10\n",
      "Succeed for:  Xi= -1.0 t_0plus= 0.22749999999999998 D_cross= 1.1250000375e-11 D_ec= 2.50025e-10\n",
      "Succeed for:  Xi= -1.0 t_0plus= 0.22749999999999998 D_cross= 1.1250000375e-11 D_ec= 3.750125e-10\n",
      "Succeed for:  Xi= -1.0 t_0plus= 0.22749999999999998 D_cross= 1.1250000375e-11 D_ec= 5e-10\n"
     ]
    },
    {
     "name": "stderr",
     "output_type": "stream",
     "text": [
      "psetup failed: .../casadi/interfaces/sundials/idas_interface.cpp:852: Linear solve failed\n",
      "At t = 0.00118884 and h = 2.77904e-016, the corrector convergence failed repeatedly or with |h| = hmin.\n",
      "psetup failed: .../casadi/interfaces/sundials/idas_interface.cpp:852: Linear solve failed\n",
      "At t = 0.00118561 and h = 3.94023e-015, the corrector convergence failed repeatedly or with |h| = hmin.\n",
      "psetup failed: .../casadi/interfaces/sundials/idas_interface.cpp:852: Linear solve failed\n",
      "At t = 0.0011828 and h = 2.94795e-017, the corrector convergence failed repeatedly or with |h| = hmin.\n",
      "psetup failed: .../casadi/interfaces/sundials/idas_interface.cpp:852: Linear solve failed\n",
      "psetup failed: .../casadi/interfaces/sundials/idas_interface.cpp:852: Linear solve failed\n",
      "psetup failed: .../casadi/interfaces/sundials/idas_interface.cpp:849: Calculating Jacobian failed\n",
      "psetup failed: .../casadi/interfaces/sundials/idas_interface.cpp:852: Linear solve failed\n",
      "psetup failed: .../casadi/interfaces/sundials/idas_interface.cpp:852: Linear solve failed\n",
      "At t = 0.00118233 and h = 1.81387e-021, the corrector convergence failed repeatedly or with |h| = hmin.\n",
      "2022-10-06 14:30:51.962 - [ERROR] callbacks.on_experiment_error(226): Simulation error: Maximum number of decreased steps occurred at t=0.0. Try solving the model up to this time only or reducing dt_max (currently, dt_max=7.091632984777611) and/or reducing the size of the time steps or period of the experiment.\n"
     ]
    },
    {
     "name": "stdout",
     "output_type": "stream",
     "text": [
      "Traceback (most recent call last):\n",
      "  File \"C:\\Users\\rl1120\\AppData\\Local\\Temp\\ipykernel_16444\\920439172.py\", line 16, in <cell line: 11>\n",
      "    Sol_ddiff    = Sim_ddiff.solve(\n",
      "  File \"d:\\gitpybamm\\lrh_409\\lrh_409\\envsolcon\\pybamm-gem\\pybamm\\simulation.py\", line 843, in solve\n",
      "    raise e\n",
      "  File \"d:\\gitpybamm\\lrh_409\\lrh_409\\envsolcon\\pybamm-gem\\pybamm\\simulation.py\", line 829, in solve\n",
      "    step_solution = solver.step(\n",
      "  File \"d:\\gitpybamm\\lrh_409\\lrh_409\\envsolcon\\pybamm-gem\\pybamm\\solvers\\base_solver.py\", line 1322, in step\n",
      "    solution = self._integrate(model, t_eval, ext_and_inputs)\n",
      "  File \"d:\\gitpybamm\\lrh_409\\lrh_409\\envsolcon\\pybamm-gem\\pybamm\\solvers\\casadi_solver.py\", line 266, in _integrate\n",
      "    raise pybamm.SolverError(\n",
      "pybamm.expression_tree.exceptions.SolverError: Maximum number of decreased steps occurred at t=0.0. Try solving the model up to this time only or reducing dt_max (currently, dt_max=7.091632984777611) and/or reducing the size of the time steps or period of the experiment.\n",
      "\n",
      "Fail for:  Xi= -1.0 t_0plus= 0.22749999999999998 D_cross= 1.5e-11 D_ec= 5e-14\n"
     ]
    },
    {
     "name": "stderr",
     "output_type": "stream",
     "text": [
      "2022-10-06 14:30:54.181 - [WARNING] callbacks.on_experiment_infeasible(233): \n",
      "\n",
      "\tExperiment is infeasible: 'event: Maximum voltage' was triggered during 'Discharge at 1 C until 2.5 V'. The returned solution only contains up to step 1 of cycle 1. \n"
     ]
    },
    {
     "name": "stdout",
     "output_type": "stream",
     "text": [
      "Succeed for:  Xi= -1.0 t_0plus= 0.22749999999999998 D_cross= 1.5e-11 D_ec= 1.250375e-10\n",
      "Succeed for:  Xi= -1.0 t_0plus= 0.22749999999999998 D_cross= 1.5e-11 D_ec= 2.50025e-10\n",
      "Succeed for:  Xi= -1.0 t_0plus= 0.22749999999999998 D_cross= 1.5e-11 D_ec= 3.750125e-10\n",
      "Succeed for:  Xi= -1.0 t_0plus= 0.22749999999999998 D_cross= 1.5e-11 D_ec= 5e-10\n"
     ]
    },
    {
     "name": "stderr",
     "output_type": "stream",
     "text": [
      "At t = 0.00442645 and h = 7.3982e-020, the corrector convergence failed repeatedly or with |h| = hmin.\n",
      "At t = 0.00442645 and h = 3.89589e-019, the corrector convergence failed repeatedly or with |h| = hmin.\n"
     ]
    },
    {
     "name": "stdout",
     "output_type": "stream",
     "text": [
      "Succeed for:  Xi= -1.0 t_0plus= 0.3 D_cross= 1.5e-18 D_ec= 5e-14\n"
     ]
    },
    {
     "name": "stderr",
     "output_type": "stream",
     "text": [
      "At t = 0.00471814 and h = 4.99113e-011, the corrector convergence failed repeatedly or with |h| = hmin.\n",
      "The linesearch algorithm failed with too small a step.\n",
      "The linesearch algorithm failed with too small a step.\n"
     ]
    },
    {
     "name": "stdout",
     "output_type": "stream",
     "text": [
      "Succeed for:  Xi= -1.0 t_0plus= 0.3 D_cross= 1.5e-18 D_ec= 1.250375e-10\n",
      "Succeed for:  Xi= -1.0 t_0plus= 0.3 D_cross= 1.5e-18 D_ec= 2.50025e-10\n"
     ]
    },
    {
     "name": "stderr",
     "output_type": "stream",
     "text": [
      "The linesearch algorithm failed with too small a step.\n"
     ]
    },
    {
     "name": "stdout",
     "output_type": "stream",
     "text": [
      "Succeed for:  Xi= -1.0 t_0plus= 0.3 D_cross= 1.5e-18 D_ec= 3.750125e-10\n"
     ]
    },
    {
     "name": "stderr",
     "output_type": "stream",
     "text": [
      "The linesearch algorithm failed with too small a step.\n",
      "The linesearch algorithm failed with too small a step.\n",
      "At t = 0 and h = 1.15868e-014, the error test failed repeatedly or with |h| = hmin.\n"
     ]
    },
    {
     "name": "stdout",
     "output_type": "stream",
     "text": [
      "Succeed for:  Xi= -1.0 t_0plus= 0.3 D_cross= 1.5e-18 D_ec= 5e-10\n"
     ]
    },
    {
     "name": "stderr",
     "output_type": "stream",
     "text": [
      "At t = 0.00158839 and h = 9.47268e-016, the corrector convergence failed repeatedly or with |h| = hmin.\n",
      "psetup failed: .../casadi/interfaces/sundials/idas_interface.cpp:849: Calculating Jacobian failed\n",
      "At t = 0.00161956 and h = 4.19313e-014, the corrector convergence failed repeatedly or with |h| = hmin.\n",
      "At t = 0.0015883 and h = 6.34003e-014, the corrector convergence failed repeatedly or with |h| = hmin.\n",
      "At t = 0.000339683 and h = 1.62631e-014, the corrector convergence failed repeatedly or with |h| = hmin.\n",
      "psetup failed: .../casadi/interfaces/sundials/idas_interface.cpp:849: Calculating Jacobian failed\n",
      "At t = 0.000389236 and h = 4.70968e-017, the corrector convergence failed repeatedly or with |h| = hmin.\n",
      "psetup failed: .../casadi/interfaces/sundials/idas_interface.cpp:849: Calculating Jacobian failed\n",
      "psetup failed: .../casadi/interfaces/sundials/idas_interface.cpp:849: Calculating Jacobian failed\n",
      "psetup failed: .../casadi/interfaces/sundials/idas_interface.cpp:849: Calculating Jacobian failed\n",
      "psetup failed: .../casadi/interfaces/sundials/idas_interface.cpp:849: Calculating Jacobian failed\n",
      "psetup failed: .../casadi/interfaces/sundials/idas_interface.cpp:849: Calculating Jacobian failed\n",
      "psetup failed: .../casadi/interfaces/sundials/idas_interface.cpp:849: Calculating Jacobian failed\n",
      "At t = 0.000116533 and h = 3.74367e-014, the corrector convergence failed repeatedly or with |h| = hmin.\n",
      "At t = 6.74108e-005 and h = 4.78153e-014, the corrector convergence failed repeatedly or with |h| = hmin.\n",
      "psetup failed: .../casadi/interfaces/sundials/idas_interface.cpp:849: Calculating Jacobian failed\n",
      "At t = 6.74453e-005 and h = 3.82664e-015, the corrector convergence failed repeatedly or with |h| = hmin.\n",
      "At t = 8.21086e-005 and h = 2.05897e-015, the corrector convergence failed repeatedly or with |h| = hmin.\n",
      "At t = 6.84635e-005 and h = 7.60264e-014, the corrector convergence failed repeatedly or with |h| = hmin.\n",
      "2022-10-06 14:32:26.732 - [ERROR] callbacks.on_experiment_error(226): Simulation error: Maximum number of decreased steps occurred at t=137.2617783923506. Try solving the model up to this time only or reducing dt_max (currently, dt_max=3.5458164923888056) and/or reducing the size of the time steps or period of the experiment.\n"
     ]
    },
    {
     "name": "stdout",
     "output_type": "stream",
     "text": [
      "Succeed for:  Xi= -1.0 t_0plus= 0.3 D_cross= 3.750001125e-12 D_ec= 5e-14\n"
     ]
    },
    {
     "name": "stderr",
     "output_type": "stream",
     "text": [
      "The linesearch algorithm failed with too small a step.\n",
      "The linesearch algorithm failed with too small a step.\n",
      "The linesearch algorithm failed with too small a step.\n",
      "The linesearch algorithm failed with too small a step.\n",
      "The linesearch algorithm failed with too small a step.\n",
      "2022-10-06 14:32:29.198 - [ERROR] callbacks.on_experiment_error(226): Simulation error: Maximum number of decreased steps occurred at t=2930.3952768061995. Try solving the model up to this time only or reducing dt_max (currently, dt_max=3.5458164923888056) and/or reducing the size of the time steps or period of the experiment.\n"
     ]
    },
    {
     "name": "stdout",
     "output_type": "stream",
     "text": [
      "Succeed for:  Xi= -1.0 t_0plus= 0.3 D_cross= 3.750001125e-12 D_ec= 1.250375e-10\n"
     ]
    },
    {
     "name": "stderr",
     "output_type": "stream",
     "text": [
      "The linesearch algorithm failed with too small a step.\n",
      "The linesearch algorithm failed with too small a step.\n",
      "The linesearch algorithm failed with too small a step.\n",
      "The linesearch algorithm failed with too small a step.\n",
      "The linesearch algorithm failed with too small a step.\n",
      "2022-10-06 14:32:31.942 - [ERROR] callbacks.on_experiment_error(226): Simulation error: Maximum number of decreased steps occurred at t=2689.1814264408017. Try solving the model up to this time only or reducing dt_max (currently, dt_max=3.5458164923888056) and/or reducing the size of the time steps or period of the experiment.\n"
     ]
    },
    {
     "name": "stdout",
     "output_type": "stream",
     "text": [
      "Succeed for:  Xi= -1.0 t_0plus= 0.3 D_cross= 3.750001125e-12 D_ec= 2.50025e-10\n"
     ]
    },
    {
     "name": "stderr",
     "output_type": "stream",
     "text": [
      "The linesearch algorithm failed with too small a step.\n",
      "The linesearch algorithm failed with too small a step.\n",
      "The linesearch algorithm failed with too small a step.\n",
      "The linesearch algorithm failed with too small a step.\n",
      "The linesearch algorithm failed with too small a step.\n",
      "2022-10-06 14:32:34.555 - [ERROR] callbacks.on_experiment_error(226): Simulation error: Maximum number of decreased steps occurred at t=2689.3786677443136. Try solving the model up to this time only or reducing dt_max (currently, dt_max=3.5458164923888056) and/or reducing the size of the time steps or period of the experiment.\n"
     ]
    },
    {
     "name": "stdout",
     "output_type": "stream",
     "text": [
      "Succeed for:  Xi= -1.0 t_0plus= 0.3 D_cross= 3.750001125e-12 D_ec= 3.750125e-10\n",
      "Succeed for:  Xi= -1.0 t_0plus= 0.3 D_cross= 3.750001125e-12 D_ec= 5e-10\n"
     ]
    },
    {
     "name": "stderr",
     "output_type": "stream",
     "text": [
      "At t = 0.00047255 and h = 1.60492e-013, the corrector convergence failed repeatedly or with |h| = hmin.\n",
      "At t = 0.000432859 and h = 2.11405e-013, the corrector convergence failed repeatedly or with |h| = hmin.\n",
      "psetup failed: .../casadi/interfaces/sundials/idas_interface.cpp:849: Calculating Jacobian failed\n",
      "At t = 0.000471659 and h = 3.01444e-013, the corrector convergence failed repeatedly or with |h| = hmin.\n",
      "psetup failed: .../casadi/interfaces/sundials/idas_interface.cpp:849: Calculating Jacobian failed\n",
      "At t = 0.000472088 and h = 3.41097e-013, the corrector convergence failed repeatedly or with |h| = hmin.\n",
      "At t = 0.000434426 and h = 3.4024e-013, the corrector convergence failed repeatedly or with |h| = hmin.\n",
      "2022-10-06 14:32:49.255 - [ERROR] callbacks.on_experiment_error(226): Simulation error: Maximum number of decreased steps occurred at t=120.0. Try solving the model up to this time only or reducing dt_max (currently, dt_max=3.5458164923888056) and/or reducing the size of the time steps or period of the experiment.\n"
     ]
    },
    {
     "name": "stdout",
     "output_type": "stream",
     "text": [
      "Traceback (most recent call last):\n",
      "  File \"C:\\Users\\rl1120\\AppData\\Local\\Temp\\ipykernel_16444\\920439172.py\", line 16, in <cell line: 11>\n",
      "    Sol_ddiff    = Sim_ddiff.solve(\n",
      "  File \"d:\\gitpybamm\\lrh_409\\lrh_409\\envsolcon\\pybamm-gem\\pybamm\\simulation.py\", line 843, in solve\n",
      "    raise e\n",
      "  File \"d:\\gitpybamm\\lrh_409\\lrh_409\\envsolcon\\pybamm-gem\\pybamm\\simulation.py\", line 829, in solve\n",
      "    step_solution = solver.step(\n",
      "  File \"d:\\gitpybamm\\lrh_409\\lrh_409\\envsolcon\\pybamm-gem\\pybamm\\solvers\\base_solver.py\", line 1322, in step\n",
      "    solution = self._integrate(model, t_eval, ext_and_inputs)\n",
      "  File \"d:\\gitpybamm\\lrh_409\\lrh_409\\envsolcon\\pybamm-gem\\pybamm\\solvers\\casadi_solver.py\", line 266, in _integrate\n",
      "    raise pybamm.SolverError(\n",
      "pybamm.expression_tree.exceptions.SolverError: Maximum number of decreased steps occurred at t=120.0. Try solving the model up to this time only or reducing dt_max (currently, dt_max=3.5458164923888056) and/or reducing the size of the time steps or period of the experiment.\n",
      "\n",
      "Fail for:  Xi= -1.0 t_0plus= 0.3 D_cross= 7.500000749999999e-12 D_ec= 5e-14\n"
     ]
    },
    {
     "name": "stderr",
     "output_type": "stream",
     "text": [
      "The linesearch algorithm failed with too small a step.\n",
      "The linesearch algorithm failed with too small a step.\n"
     ]
    },
    {
     "name": "stdout",
     "output_type": "stream",
     "text": [
      "Succeed for:  Xi= -1.0 t_0plus= 0.3 D_cross= 7.500000749999999e-12 D_ec= 1.250375e-10\n"
     ]
    },
    {
     "name": "stderr",
     "output_type": "stream",
     "text": [
      "The linesearch algorithm failed with too small a step.\n",
      "The linesearch algorithm failed with too small a step.\n"
     ]
    },
    {
     "name": "stdout",
     "output_type": "stream",
     "text": [
      "Succeed for:  Xi= -1.0 t_0plus= 0.3 D_cross= 7.500000749999999e-12 D_ec= 2.50025e-10\n"
     ]
    },
    {
     "name": "stderr",
     "output_type": "stream",
     "text": [
      "The linesearch algorithm failed with too small a step.\n",
      "The linesearch algorithm failed with too small a step.\n",
      "The linesearch algorithm failed with too small a step.\n",
      "The linesearch algorithm failed with too small a step.\n",
      "The linesearch algorithm failed with too small a step.\n",
      "2022-10-06 14:33:05.159 - [ERROR] callbacks.on_experiment_error(226): Simulation error: Maximum number of decreased steps occurred at t=2336.799748532315. Try solving the model up to this time only or reducing dt_max (currently, dt_max=3.5458164923888056) and/or reducing the size of the time steps or period of the experiment.\n"
     ]
    },
    {
     "name": "stdout",
     "output_type": "stream",
     "text": [
      "Succeed for:  Xi= -1.0 t_0plus= 0.3 D_cross= 7.500000749999999e-12 D_ec= 3.750125e-10\n"
     ]
    },
    {
     "name": "stderr",
     "output_type": "stream",
     "text": [
      "The linesearch algorithm failed with too small a step.\n",
      "The linesearch algorithm failed with too small a step.\n"
     ]
    },
    {
     "name": "stdout",
     "output_type": "stream",
     "text": [
      "Succeed for:  Xi= -1.0 t_0plus= 0.3 D_cross= 7.500000749999999e-12 D_ec= 5e-10\n"
     ]
    },
    {
     "name": "stderr",
     "output_type": "stream",
     "text": [
      "At t = 0.00319491 and h = 3.25352e-015, the corrector convergence failed repeatedly or with |h| = hmin.\n",
      "psetup failed: .../casadi/interfaces/sundials/idas_interface.cpp:849: Calculating Jacobian failed\n",
      "psetup failed: .../casadi/interfaces/sundials/idas_interface.cpp:849: Calculating Jacobian failed\n",
      "psetup failed: .../casadi/interfaces/sundials/idas_interface.cpp:849: Calculating Jacobian failed\n",
      "psetup failed: .../casadi/interfaces/sundials/idas_interface.cpp:849: Calculating Jacobian failed\n",
      "At t = 0.00320901 and h = 5.21087e-018, the corrector convergence failed repeatedly or with |h| = hmin.\n",
      "At t = 0.000699373 and h = 1.70339e-015, the corrector convergence failed repeatedly or with |h| = hmin.\n",
      "At t = 0.000700278 and h = 2.09451e-016, the corrector convergence failed repeatedly or with |h| = hmin.\n",
      "psetup failed: .../casadi/interfaces/sundials/idas_interface.cpp:849: Calculating Jacobian failed\n",
      "psetup failed: .../casadi/interfaces/sundials/idas_interface.cpp:849: Calculating Jacobian failed\n",
      "At t = 6.71305e-005 and h = 1.8949e-014, the corrector convergence failed repeatedly or with |h| = hmin.\n",
      "At t = 7.51231e-005 and h = 2.7586e-014, the corrector convergence failed repeatedly or with |h| = hmin.\n",
      "At t = 7.47619e-005 and h = 1.62336e-014, the corrector convergence failed repeatedly or with |h| = hmin.\n",
      "At t = 2.25719e-005 and h = 3.99811e-015, the corrector convergence failed repeatedly or with |h| = hmin.\n",
      "psetup failed: .../casadi/interfaces/sundials/idas_interface.cpp:849: Calculating Jacobian failed\n",
      "psetup failed: .../casadi/interfaces/sundials/idas_interface.cpp:849: Calculating Jacobian failed\n",
      "psetup failed: .../casadi/interfaces/sundials/idas_interface.cpp:849: Calculating Jacobian failed\n",
      "psetup failed: .../casadi/interfaces/sundials/idas_interface.cpp:849: Calculating Jacobian failed\n",
      "psetup failed: .../casadi/interfaces/sundials/idas_interface.cpp:849: Calculating Jacobian failed\n",
      "psetup failed: .../casadi/interfaces/sundials/idas_interface.cpp:849: Calculating Jacobian failed\n",
      "psetup failed: .../casadi/interfaces/sundials/idas_interface.cpp:849: Calculating Jacobian failed\n",
      "psetup failed: .../casadi/interfaces/sundials/idas_interface.cpp:849: Calculating Jacobian failed\n",
      "psetup failed: .../casadi/interfaces/sundials/idas_interface.cpp:849: Calculating Jacobian failed\n",
      "psetup failed: .../casadi/interfaces/sundials/idas_interface.cpp:849: Calculating Jacobian failed\n",
      "At t = 1.54869e-005 and h = 4.86298e-014, the corrector convergence failed repeatedly or with |h| = hmin.\n",
      "psetup failed: .../casadi/interfaces/sundials/idas_interface.cpp:849: Calculating Jacobian failed\n",
      "At t = 1.73219e-005 and h = 2.59514e-014, the corrector convergence failed repeatedly or with |h| = hmin.\n",
      "psetup failed: .../casadi/interfaces/sundials/idas_interface.cpp:849: Calculating Jacobian failed\n",
      "At t = 2.25294e-005 and h = 1.34568e-016, the corrector convergence failed repeatedly or with |h| = hmin.\n",
      "psetup failed: .../casadi/interfaces/sundials/idas_interface.cpp:849: Calculating Jacobian failed\n",
      "psetup failed: .../casadi/interfaces/sundials/idas_interface.cpp:849: Calculating Jacobian failed\n",
      "At t = 2.25e-005 and h = 1.29451e-014, the corrector convergence failed repeatedly or with |h| = hmin.\n",
      "2022-10-06 14:33:50.260 - [ERROR] callbacks.on_experiment_error(226): Simulation error: Maximum number of decreased steps occurred at t=36.044715194713184. Try solving the model up to this time only or reducing dt_max (currently, dt_max=3.5458164923888056) and/or reducing the size of the time steps or period of the experiment.\n"
     ]
    },
    {
     "name": "stdout",
     "output_type": "stream",
     "text": [
      "Succeed for:  Xi= -1.0 t_0plus= 0.3 D_cross= 1.1250000375e-11 D_ec= 5e-14\n",
      "Succeed for:  Xi= -1.0 t_0plus= 0.3 D_cross= 1.1250000375e-11 D_ec= 1.250375e-10\n",
      "Succeed for:  Xi= -1.0 t_0plus= 0.3 D_cross= 1.1250000375e-11 D_ec= 2.50025e-10\n",
      "Succeed for:  Xi= -1.0 t_0plus= 0.3 D_cross= 1.1250000375e-11 D_ec= 3.750125e-10\n",
      "Succeed for:  Xi= -1.0 t_0plus= 0.3 D_cross= 1.1250000375e-11 D_ec= 5e-10\n"
     ]
    },
    {
     "name": "stderr",
     "output_type": "stream",
     "text": [
      "psetup failed: .../casadi/interfaces/sundials/idas_interface.cpp:852: Linear solve failed\n",
      "At t = 0.00118884 and h = 2.77904e-016, the corrector convergence failed repeatedly or with |h| = hmin.\n",
      "psetup failed: .../casadi/interfaces/sundials/idas_interface.cpp:852: Linear solve failed\n",
      "At t = 0.00118561 and h = 3.94023e-015, the corrector convergence failed repeatedly or with |h| = hmin.\n",
      "psetup failed: .../casadi/interfaces/sundials/idas_interface.cpp:852: Linear solve failed\n",
      "At t = 0.0011828 and h = 2.94795e-017, the corrector convergence failed repeatedly or with |h| = hmin.\n",
      "psetup failed: .../casadi/interfaces/sundials/idas_interface.cpp:852: Linear solve failed\n",
      "psetup failed: .../casadi/interfaces/sundials/idas_interface.cpp:852: Linear solve failed\n",
      "psetup failed: .../casadi/interfaces/sundials/idas_interface.cpp:849: Calculating Jacobian failed\n",
      "psetup failed: .../casadi/interfaces/sundials/idas_interface.cpp:852: Linear solve failed\n",
      "psetup failed: .../casadi/interfaces/sundials/idas_interface.cpp:852: Linear solve failed\n",
      "At t = 0.00118233 and h = 1.81387e-021, the corrector convergence failed repeatedly or with |h| = hmin.\n",
      "2022-10-06 14:34:20.895 - [ERROR] callbacks.on_experiment_error(226): Simulation error: Maximum number of decreased steps occurred at t=0.0. Try solving the model up to this time only or reducing dt_max (currently, dt_max=7.091632984777611) and/or reducing the size of the time steps or period of the experiment.\n"
     ]
    },
    {
     "name": "stdout",
     "output_type": "stream",
     "text": [
      "Traceback (most recent call last):\n",
      "  File \"C:\\Users\\rl1120\\AppData\\Local\\Temp\\ipykernel_16444\\920439172.py\", line 16, in <cell line: 11>\n",
      "    Sol_ddiff    = Sim_ddiff.solve(\n",
      "  File \"d:\\gitpybamm\\lrh_409\\lrh_409\\envsolcon\\pybamm-gem\\pybamm\\simulation.py\", line 843, in solve\n",
      "    raise e\n",
      "  File \"d:\\gitpybamm\\lrh_409\\lrh_409\\envsolcon\\pybamm-gem\\pybamm\\simulation.py\", line 829, in solve\n",
      "    step_solution = solver.step(\n",
      "  File \"d:\\gitpybamm\\lrh_409\\lrh_409\\envsolcon\\pybamm-gem\\pybamm\\solvers\\base_solver.py\", line 1322, in step\n",
      "    solution = self._integrate(model, t_eval, ext_and_inputs)\n",
      "  File \"d:\\gitpybamm\\lrh_409\\lrh_409\\envsolcon\\pybamm-gem\\pybamm\\solvers\\casadi_solver.py\", line 266, in _integrate\n",
      "    raise pybamm.SolverError(\n",
      "pybamm.expression_tree.exceptions.SolverError: Maximum number of decreased steps occurred at t=0.0. Try solving the model up to this time only or reducing dt_max (currently, dt_max=7.091632984777611) and/or reducing the size of the time steps or period of the experiment.\n",
      "\n",
      "Fail for:  Xi= -1.0 t_0plus= 0.3 D_cross= 1.5e-11 D_ec= 5e-14\n"
     ]
    },
    {
     "name": "stderr",
     "output_type": "stream",
     "text": [
      "2022-10-06 14:34:23.173 - [WARNING] callbacks.on_experiment_infeasible(233): \n",
      "\n",
      "\tExperiment is infeasible: 'event: Maximum voltage' was triggered during 'Discharge at 1 C until 2.5 V'. The returned solution only contains up to step 1 of cycle 1. \n"
     ]
    },
    {
     "name": "stdout",
     "output_type": "stream",
     "text": [
      "Succeed for:  Xi= -1.0 t_0plus= 0.3 D_cross= 1.5e-11 D_ec= 1.250375e-10\n",
      "Succeed for:  Xi= -1.0 t_0plus= 0.3 D_cross= 1.5e-11 D_ec= 2.50025e-10\n",
      "Succeed for:  Xi= -1.0 t_0plus= 0.3 D_cross= 1.5e-11 D_ec= 3.750125e-10\n",
      "Succeed for:  Xi= -1.0 t_0plus= 0.3 D_cross= 1.5e-11 D_ec= 5e-10\n"
     ]
    }
   ],
   "source": [
    "Sim_ddiff    = pybamm.Simulation(\n",
    "    Model_ddiff, experiment = Experiment_Long,\n",
    "    parameter_values = Para_0,\n",
    "    solver = pybamm.CasadiSolver(),)   \n",
    "index_c = 5\n",
    "Xi =  list(np.linspace(-1.8, -1.0, index_c));\n",
    "t_0plus = list(np.linspace(0.01, 0.3, index_c));\n",
    "D_cross = list(np.linspace(1.5e-18, 1.5e-11,index_c));\n",
    "D_ec = list(np.linspace(5e-14, 5e-10, index_c));\n",
    "Set_succ = []; Set_fail = []; ErrorMess = [];\n",
    "t_0plus_i = 0.28;  D_ec_i = 5e-10; \n",
    "for Xi_i in Xi:\n",
    "    for t_0plus_i in t_0plus:\n",
    "        for D_cross_i in D_cross:\n",
    "                for D_ec_i in D_ec:\n",
    "                    try:\n",
    "                        Sol_ddiff    = Sim_ddiff.solve(\n",
    "                            inputs={\n",
    "                                \"EC transference number\":Xi_i,\n",
    "                                \"Cation transference number\":t_0plus_i,\n",
    "                                \"EC Lithium ion cross diffusivity [m2.s-1]\":D_cross_i,\n",
    "                                \"EC diffusivity in electrolyte [m2.s-1]\":D_ec_i,});\n",
    "                    except:\n",
    "                        str_error = traceback.format_exc()  \n",
    "                        print(str_error)\n",
    "                        ErrorMess.append(str_error)\n",
    "                        print(\"Fail for: \", \n",
    "                        'Xi=',Xi_i, \"t_0plus=\",t_0plus_i, \n",
    "                        \"D_cross=\",D_cross_i, \"D_ec=\", D_ec_i );\n",
    "                        Set_fail.append([Xi_i,t_0plus_i,D_cross_i,D_ec_i])\n",
    "\n",
    "                    else:\n",
    "                        print(\"Succeed for: \", \n",
    "                        'Xi=',Xi_i, \"t_0plus=\",t_0plus_i, \n",
    "                        \"D_cross=\",D_cross_i, \"D_ec=\", D_ec_i );\n",
    "                        Set_succ.append([Xi_i,t_0plus_i,D_cross_i,D_ec_i])\n",
    "            "
   ]
  },
  {
   "cell_type": "code",
   "execution_count": null,
   "metadata": {},
   "outputs": [],
   "source": [
    "Model_ddiff.variables.search(\"potential\")"
   ]
  },
  {
   "cell_type": "code",
   "execution_count": 28,
   "metadata": {},
   "outputs": [
    {
     "name": "stdout",
     "output_type": "stream",
     "text": [
      "[8.67916594e-08 4.60756039e-01 4.73533886e-01 4.83082544e-01\n",
      " 4.89548651e-01 4.93048054e-01 4.93670934e-01 4.91486092e-01\n",
      " 4.86544183e-01 4.78879732e-01 4.68511787e-01 4.55443129e-01\n",
      " 4.39658034e-01 4.21118612e-01 3.99759666e-01 3.75481755e-01\n",
      " 3.48141696e-01 3.17538947e-01 2.83394836e-01 2.45318491e-01\n",
      " 2.23043210e-01 2.20700963e-01 2.18341711e-01 2.15965301e-01\n",
      " 2.13571577e-01 2.11160381e-01 2.08731547e-01 2.06284910e-01\n",
      " 2.03820298e-01 2.01337534e-01 1.98836440e-01 1.96316829e-01\n",
      " 1.93778512e-01 1.91221296e-01 1.88644979e-01 1.86049356e-01\n",
      " 1.83434217e-01 1.80799344e-01 1.78144515e-01 1.75469499e-01\n",
      " 1.59917414e-01 1.35649862e-01 1.14942121e-01 9.73908492e-02\n",
      " 8.26018576e-02 7.02014059e-02 5.98438393e-02 5.12158663e-02\n",
      " 4.40379640e-02 3.80634899e-02 3.30714740e-02 2.88878424e-02\n",
      " 2.53899439e-02 2.24857105e-02 2.01048347e-02 1.81932332e-02\n",
      " 1.67094707e-02 1.56224242e-02 1.49097716e-02 1.45570386e-02]\n",
      "[1.43882302e-43 0.00000000e+00 0.00000000e+00 0.00000000e+00\n",
      " 0.00000000e+00 0.00000000e+00 0.00000000e+00 0.00000000e+00\n",
      " 0.00000000e+00 0.00000000e+00 0.00000000e+00 0.00000000e+00\n",
      " 0.00000000e+00 0.00000000e+00 0.00000000e+00 0.00000000e+00\n",
      " 0.00000000e+00 0.00000000e+00 0.00000000e+00 0.00000000e+00\n",
      " 0.00000000e+00 0.00000000e+00 0.00000000e+00 0.00000000e+00\n",
      " 0.00000000e+00 0.00000000e+00 0.00000000e+00 0.00000000e+00\n",
      " 0.00000000e+00 0.00000000e+00 0.00000000e+00 0.00000000e+00\n",
      " 0.00000000e+00 0.00000000e+00 0.00000000e+00 0.00000000e+00\n",
      " 0.00000000e+00 0.00000000e+00 0.00000000e+00 0.00000000e+00\n",
      " 0.00000000e+00 0.00000000e+00 5.87519789e-10 5.84563547e-10\n",
      " 5.82024636e-10 5.79831706e-10 5.77927087e-10 5.76270240e-10\n",
      " 5.74828240e-10 5.73573704e-10 5.72483734e-10 5.71539267e-10\n",
      " 5.70724641e-10 5.70027296e-10 5.69437553e-10 5.68948465e-10\n",
      " 5.68555714e-10 5.68257537e-10 5.68054685e-10 5.67950399e-10]\n"
     ]
    }
   ],
   "source": [
    "print(Sol_ddiff[\"Electrolyte conductivity [S.m-1]\"].entries[:,51] )\n",
    "print(Sol_ddiff[\"Electrolyte diffusivity [m2.s-1]\"].entries[:,-1])"
   ]
  },
  {
   "cell_type": "code",
   "execution_count": 30,
   "metadata": {},
   "outputs": [],
   "source": [
    "font = {'family' : 'Times New Roman',\n",
    "        #'weight' : 'bold',\n",
    "        'size'   : 18}\n",
    "mpl.rc('font', **font)"
   ]
  },
  {
   "cell_type": "code",
   "execution_count": 35,
   "metadata": {},
   "outputs": [
    {
     "data": {
      "application/vnd.jupyter.widget-view+json": {
       "model_id": "9d75440e28844a0a8e2970cb17fc1a73",
       "version_major": 2,
       "version_minor": 0
      },
      "text/plain": [
       "interactive(children=(FloatSlider(value=0.0, description='t', max=3.254714235538407, step=0.03254714235538407)…"
      ]
     },
     "metadata": {},
     "output_type": "display_data"
    }
   ],
   "source": [
    "label = [\"ddiff\"] \n",
    "output_variables3 = [\n",
    "    \"Terminal voltage [V]\",   \n",
    "    #\"Current [A]\",\n",
    "    \"EC concentration [mol.m-3]\",\n",
    "    \"Electrolyte concentration [mol.m-3]\",\n",
    "    \"c(EC) over c(Li+)\",\n",
    "    #\"Loss of capacity to SEI [A.h]\",\n",
    "    \"Li+ flux [mol.m-2.s-1]\",\n",
    "    \"EC flux [mol.m-2.s-1]\",\n",
    "    \"Electrolyte conductivity [S.m-1]\",\n",
    "    \"Electrolyte diffusivity [m2.s-1]\",\n",
    "]\n",
    "quick_plot = pybamm.QuickPlot([\n",
    "    Sol_ddiff\n",
    "    ], output_variables3,label,\n",
    "    variable_limits='tight',time_unit='hours',n_rows=2,\n",
    "    figsize = (16,6)) #     spatial_unit='mm',\n",
    "quick_plot.dynamic_plot();\n",
    "#quick_plot.create_gif(\n",
    "#    number_of_images=10, duration=2,output_filename=BasicPath + Target+\"fixed_add c_EC as tanh (0-1).gif\")"
   ]
  },
  {
   "cell_type": "code",
   "execution_count": 32,
   "metadata": {},
   "outputs": [
    {
     "data": {
      "application/vnd.jupyter.widget-view+json": {
       "model_id": "47f20ccba264442884ca67c2533f465a",
       "version_major": 2,
       "version_minor": 0
      },
      "text/plain": [
       "interactive(children=(FloatSlider(value=0.0, description='t', max=3.651721474386636, step=0.03651721474386636)…"
      ]
     },
     "metadata": {},
     "output_type": "display_data"
    }
   ],
   "source": [
    "label = [\"Sol_ddiff\"] \n",
    "output_variables3 = [\n",
    "    \"Terminal voltage [V]\",   \n",
    "    [\"EC flux [mol.m-2.s-1]\",\"EC flux by diffusion [mol.m-2.s-1]\",\n",
    "        \"EC flux by migration [mol.m-2.s-1]\",\"EC flux by Li+ [mol.m-2.s-1]\"],\n",
    "    [\"Li+ flux [mol.m-2.s-1]\",\"Li+ flux by diffusion [mol.m-2.s-1]\",\n",
    "        \"Li+ flux by migration [mol.m-2.s-1]\",\"Li+ flux by solvent [mol.m-2.s-1]\"],    \n",
    "]\n",
    "quick_plot = pybamm.QuickPlot([\n",
    "    Sol_ddiff,\n",
    "    ], output_variables3,label,\n",
    "    variable_limits='fixed',time_unit='hours',n_rows=1,\n",
    "    figsize = (16,6)) #     spatial_unit='mm',\n",
    "quick_plot.dynamic_plot();"
   ]
  },
  {
   "cell_type": "code",
   "execution_count": 33,
   "metadata": {},
   "outputs": [
    {
     "data": {
      "application/vnd.jupyter.widget-view+json": {
       "model_id": "18a5ab3681c9402499cab13db43bfb3e",
       "version_major": 2,
       "version_minor": 0
      },
      "text/plain": [
       "interactive(children=(FloatSlider(value=0.0, description='t', max=3.651721474386636, step=0.03651721474386636)…"
      ]
     },
     "metadata": {},
     "output_type": "display_data"
    }
   ],
   "source": [
    "label = [\"Sol_ddiff\"] \n",
    "output_variables3 = [\n",
    "    \"Terminal voltage [V]\",   \n",
    "    \"Electrolyte potential [V]\",\n",
    "    \"Positive electrode potential [V]\",\n",
    "    \"Negative electrode SOC\",\n",
    "    \"Positive electrode SOC\",\n",
    "    \"Porosity times concentration\",\n",
    "    \"eps_c_e rhs\",\n",
    "    \"Minus div Li+ flux\",\n",
    "    \"Li+ source term\",\n",
    "]\n",
    "quick_plot = pybamm.QuickPlot([\n",
    "    Sol_ddiff,\n",
    "    ], output_variables3,label,\n",
    "    variable_limits='fixed',time_unit='hours',n_rows=3,\n",
    "    figsize = (16,12)) #     spatial_unit='mm',\n",
    "quick_plot.dynamic_plot();\n"
   ]
  },
  {
   "cell_type": "code",
   "execution_count": null,
   "metadata": {},
   "outputs": [],
   "source": [
    "label = [\"ddiff\"] \n",
    "output_variables3 = [\n",
    "    \"Terminal voltage [V]\",   \n",
    "    #\"Current [A]\",\n",
    "    \"EC concentration [mol.m-3]\",\n",
    "    \"Electrolyte concentration [mol.m-3]\",\n",
    "    \"c(EC) over c(Li+)\",\n",
    "    #\"Loss of capacity to SEI [A.h]\",\n",
    "    \"Li+ flux [mol.m-2.s-1]\",\n",
    "    \"EC flux [mol.m-2.s-1]\",\n",
    "    \"Electrolyte conductivity [S.m-1]\",\n",
    "    \"Electrolyte diffusivity [m2.s-1]\",\n",
    "]\n",
    "quick_plot = pybamm.QuickPlot([\n",
    "    Sol_ddiff\n",
    "    ], output_variables3,label,\n",
    "    variable_limits='tight',time_unit='hours',n_rows=2,\n",
    "    figsize = (16,6)) #     spatial_unit='mm',\n",
    "quick_plot.dynamic_plot();\n",
    "#quick_plot.create_gif(\n",
    "#    number_of_images=10, duration=2,output_filename=BasicPath + Target+\"add c_EC as tanh (0-1).gif\")"
   ]
  }
 ],
 "metadata": {
  "kernelspec": {
   "display_name": "Python 3.9.6 ('envSolCon')",
   "language": "python",
   "name": "python3"
  },
  "language_info": {
   "codemirror_mode": {
    "name": "ipython",
    "version": 3
   },
   "file_extension": ".py",
   "mimetype": "text/x-python",
   "name": "python",
   "nbconvert_exporter": "python",
   "pygments_lexer": "ipython3",
   "version": "3.9.6"
  },
  "orig_nbformat": 4,
  "vscode": {
   "interpreter": {
    "hash": "5ae0c684446e40f7574a1a9821257f2365ba43f34c15f5f2e3dcabca0bad9ab7"
   }
  }
 },
 "nbformat": 4,
 "nbformat_minor": 2
}
