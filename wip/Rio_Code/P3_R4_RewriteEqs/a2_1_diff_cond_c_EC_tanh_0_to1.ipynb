{
 "cells": [
  {
   "cell_type": "markdown",
   "metadata": {},
   "source": [
    "# add c_EC as one of the inputs for diffusivity and conductivity"
   ]
  },
  {
   "cell_type": "code",
   "execution_count": 23,
   "metadata": {},
   "outputs": [],
   "source": [
    "import pybamm\n",
    "import numpy as np\n",
    "import matplotlib.pyplot as plt\n",
    "import pandas as pd   ;import numpy as np;import os;import matplotlib.pyplot as plt;import os;\n",
    "from scipy.io import savemat,loadmat;from pybamm import constants,exp,tanh;import matplotlib as mpl; fs=17; # or we can set import matplotlib.pyplot as plt then say 'mpl.rc...'\n",
    "for k in range(0,1):\n",
    "    mpl.rcParams[\"axes.labelsize\"] = fs\n",
    "    mpl.rcParams[\"axes.titlesize\"] = fs\n",
    "    mpl.rcParams[\"xtick.labelsize\"] =  fs\n",
    "    mpl.rcParams[\"ytick.labelsize\"] =  fs\n",
    "    mpl.rcParams[\"legend.fontsize\"] =  fs\n",
    "    mpl.rcParams['font.sans-serif'] = ['Times New Roman']\n",
    "    mpl.rcParams['font.serif'] = ['Times New Roman']\n",
    "    mpl.rcParams['axes.unicode_minus'] = False"
   ]
  },
  {
   "cell_type": "code",
   "execution_count": 24,
   "metadata": {},
   "outputs": [],
   "source": [
    "# define function:\n",
    "def electrolyte_conductivity_Nyman2008_wEC(c_e,c_EC, T):\n",
    "    x = c_EC / c_e\n",
    "    coff = 1\n",
    "    sigma_e = (\n",
    "        (0.00+ coff/2 + coff/2 *  tanh((x-2.7705)*2)) * \n",
    "        (0.1297 * (c_e / 1000) ** 3 - 2.51 * (c_e / 1000) ** 1.5 + 3.329 * (c_e / 1000)) )\n",
    "    return sigma_e\n",
    "def electrolyte_diffusivity_Nyman2008_wEC(c_e, c_EC,T):\n",
    "    x = c_EC / c_e\n",
    "    coff = 1\n",
    "    D_c_e = (\n",
    "        ( 0.00+ coff/2 + coff/2 *  tanh((x-2.7705)*2) )  * \n",
    "        (8.794e-11 * (c_e / 1000) ** 2 - 3.972e-10 * (c_e / 1000) + 4.862e-10) )\n",
    "    return D_c_e\n"
   ]
  },
  {
   "cell_type": "code",
   "execution_count": 25,
   "metadata": {},
   "outputs": [],
   "source": [
    "V_max = 4.2;        V_min = 2.5;\n",
    "Diff_SEI = 1.7e-20;    R_SEI = 2E5;   Bulk_Sol_Con = 4541.0;\n",
    "Experiment_Long   = pybamm.Experiment( [ (\n",
    "    f\"Discharge at 1 C until {V_min} V\", \n",
    "    f\"Charge at 0.3 C until {V_max} V\", \n",
    "    f\"Hold at {V_max} V until C/5\")    ] * 1 ) \n",
    "Experiment_s   = pybamm.Experiment( [ (\n",
    "    f\"Discharge at 1 C for 239 s\", )    ] * 1 )   "
   ]
  },
  {
   "cell_type": "code",
   "execution_count": 26,
   "metadata": {},
   "outputs": [],
   "source": [
    "BasicPath = 'D:/OneDrive - Imperial College London/SimDataSave/P3R4/'; \n",
    "Target  = 'a2_Diff_Cond_c_EC/'\n",
    "if not os.path.exists(BasicPath + Target):\n",
    "    os.mkdir(BasicPath + Target);"
   ]
  },
  {
   "cell_type": "code",
   "execution_count": 27,
   "metadata": {},
   "outputs": [
    {
     "name": "stdout",
     "output_type": "stream",
     "text": [
      "using EC wo refill for Li+\n"
     ]
    }
   ],
   "source": [
    "Model_ddiff = pybamm.lithium_ion.DFN(     \n",
    "    options={\"solvent diffusion\": \"EC wo refill\"     } )\n",
    "Model_sdiff = pybamm.lithium_ion.DFN(     \n",
    "    options={\"solvent diffusion\": \"none\"     } )\n",
    "ChemistryChen=pybamm.parameter_sets.Chen2020 \n",
    "ChemistryChen[\"electrolyte\"] = \"lipf6_Nyman2008_rio\";\n",
    "Para_0=pybamm.ParameterValues(chemistry=ChemistryChen);\n",
    "\n",
    "\n",
    "Para_0['EC Lithium ion cross diffusivity [m2.s-1]'] = 1.5e-9/1e2;\n",
    "Para_0['Typical EC Lithium ion cross diffusivity [m2.s-1]'] =   1.5e-9/1e2\n",
    "Para_0['EC transference number'] =    -1.4\n",
    "Para_0['EC diffusivity in electrolyte [m2.s-1]'] =  5E-12;\n",
    "Para_0.update(\n",
    "    {'Electrolyte diffusivity [m2.s-1]':\n",
    "    electrolyte_diffusivity_Nyman2008_wEC})\n",
    "Para_0.update(\n",
    "    {'Electrolyte conductivity [S.m-1]':\n",
    "    electrolyte_conductivity_Nyman2008_wEC})\n",
    "c_e_ddiff = Model_ddiff.variables[\"Electrolyte concentration [mol.m-3]\"]\n",
    "T_ddiff = Model_ddiff.variables[\"Cell temperature [K]\"]\n",
    "c_EC_ddiff = Model_ddiff.variables[\"EC concentration [mol.m-3]\"]\n",
    "Model_ddiff.variables[\"c(EC) over c(Li+)\"] = c_EC_ddiff / c_e_ddiff\n",
    "Model_ddiff.variables[\"Electrolyte conductivity [S.m-1]\"] =electrolyte_conductivity_Nyman2008_wEC(c_e_ddiff,c_EC_ddiff, T_ddiff)\n",
    "Model_ddiff.variables[\"Electrolyte diffusivity [m2.s-1]\"] =electrolyte_diffusivity_Nyman2008_wEC(c_e_ddiff,c_EC_ddiff, T_ddiff)"
   ]
  },
  {
   "cell_type": "code",
   "execution_count": 38,
   "metadata": {},
   "outputs": [
    {
     "name": "stderr",
     "output_type": "stream",
     "text": [
      "psetup failed: .../casadi/interfaces/sundials/idas_interface.cpp:849: Calculating Jacobian failed\n",
      "psetup failed: .../casadi/interfaces/sundials/idas_interface.cpp:849: Calculating Jacobian failed\n",
      "psetup failed: .../casadi/interfaces/sundials/idas_interface.cpp:849: Calculating Jacobian failed\n",
      "psetup failed: .../casadi/interfaces/sundials/idas_interface.cpp:849: Calculating Jacobian failed\n",
      "psetup failed: .../casadi/interfaces/sundials/idas_interface.cpp:852: Linear solve failed\n",
      "At t = 0.00100051 and h = 4.17859e-015, the corrector convergence failed repeatedly or with |h| = hmin.\n",
      "psetup failed: .../casadi/interfaces/sundials/idas_interface.cpp:849: Calculating Jacobian failed\n",
      "psetup failed: .../casadi/interfaces/sundials/idas_interface.cpp:849: Calculating Jacobian failed\n",
      "psetup failed: .../casadi/interfaces/sundials/idas_interface.cpp:849: Calculating Jacobian failed\n",
      "At t = 0.00100007 and h = 1.29359e-014, the corrector convergence failed repeatedly or with |h| = hmin.\n",
      "psetup failed: .../casadi/interfaces/sundials/idas_interface.cpp:849: Calculating Jacobian failed\n",
      "psetup failed: .../casadi/interfaces/sundials/idas_interface.cpp:849: Calculating Jacobian failed\n",
      "psetup failed: .../casadi/interfaces/sundials/idas_interface.cpp:849: Calculating Jacobian failed\n",
      "psetup failed: .../casadi/interfaces/sundials/idas_interface.cpp:849: Calculating Jacobian failed\n",
      "psetup failed: .../casadi/interfaces/sundials/idas_interface.cpp:849: Calculating Jacobian failed\n",
      "psetup failed: .../casadi/interfaces/sundials/idas_interface.cpp:849: Calculating Jacobian failed\n",
      "At t = 0.00100052 and h = 6.01708e-014, the corrector convergence failed repeatedly or with |h| = hmin.\n",
      "psetup failed: .../casadi/interfaces/sundials/idas_interface.cpp:849: Calculating Jacobian failed\n",
      "psetup failed: .../casadi/interfaces/sundials/idas_interface.cpp:849: Calculating Jacobian failed\n",
      "psetup failed: .../casadi/interfaces/sundials/idas_interface.cpp:849: Calculating Jacobian failed\n",
      "psetup failed: .../casadi/interfaces/sundials/idas_interface.cpp:849: Calculating Jacobian failed\n",
      "At t = 0.00100024 and h = 2.13674e-015, the corrector convergence failed repeatedly or with |h| = hmin.\n",
      "2022-10-06 10:39:09.008 - [ERROR] callbacks.on_experiment_error(226): Simulation error: Maximum number of decreased steps occurred at t=240.0. Try solving the model up to this time only or reducing dt_max (currently, dt_max=7.091632984777611) and/or reducing the size of the time steps or period of the experiment.\n"
     ]
    },
    {
     "ename": "SolverError",
     "evalue": "Maximum number of decreased steps occurred at t=240.0. Try solving the model up to this time only or reducing dt_max (currently, dt_max=7.091632984777611) and/or reducing the size of the time steps or period of the experiment.",
     "output_type": "error",
     "traceback": [
      "\u001b[1;31m---------------------------------------------------------------------------\u001b[0m",
      "\u001b[1;31mSolverError\u001b[0m                               Traceback (most recent call last)",
      "\u001b[1;32md:\\GitPyBaMM\\LRH_409\\LRH_409\\envSolCon\\PyBaMM-GEM\\wip\\Rio_Code\\P3_R4_RewriteEqs\\a2_1_diff_cond_c_EC_tanh_0_to1.ipynb Cell 7\u001b[0m in \u001b[0;36m<cell line: 16>\u001b[1;34m()\u001b[0m\n\u001b[0;32m      <a href='vscode-notebook-cell:/d%3A/GitPyBaMM/LRH_409/LRH_409/envSolCon/PyBaMM-GEM/wip/Rio_Code/P3_R4_RewriteEqs/a2_1_diff_cond_c_EC_tanh_0_to1.ipynb#W6sZmlsZQ%3D%3D?line=7'>8</a>\u001b[0m Sim_Landes_ddiff    \u001b[39m=\u001b[39m pybamm\u001b[39m.\u001b[39mSimulation(\n\u001b[0;32m      <a href='vscode-notebook-cell:/d%3A/GitPyBaMM/LRH_409/LRH_409/envSolCon/PyBaMM-GEM/wip/Rio_Code/P3_R4_RewriteEqs/a2_1_diff_cond_c_EC_tanh_0_to1.ipynb#W6sZmlsZQ%3D%3D?line=8'>9</a>\u001b[0m     Model_ddiff, experiment \u001b[39m=\u001b[39m Experiment_Long,\n\u001b[0;32m     <a href='vscode-notebook-cell:/d%3A/GitPyBaMM/LRH_409/LRH_409/envSolCon/PyBaMM-GEM/wip/Rio_Code/P3_R4_RewriteEqs/a2_1_diff_cond_c_EC_tanh_0_to1.ipynb#W6sZmlsZQ%3D%3D?line=9'>10</a>\u001b[0m     parameter_values \u001b[39m=\u001b[39m Para_0,\n\u001b[0;32m     <a href='vscode-notebook-cell:/d%3A/GitPyBaMM/LRH_409/LRH_409/envSolCon/PyBaMM-GEM/wip/Rio_Code/P3_R4_RewriteEqs/a2_1_diff_cond_c_EC_tanh_0_to1.ipynb#W6sZmlsZQ%3D%3D?line=10'>11</a>\u001b[0m     solver \u001b[39m=\u001b[39m pybamm\u001b[39m.\u001b[39mCasadiSolver(),)   \n\u001b[0;32m     <a href='vscode-notebook-cell:/d%3A/GitPyBaMM/LRH_409/LRH_409/envSolCon/PyBaMM-GEM/wip/Rio_Code/P3_R4_RewriteEqs/a2_1_diff_cond_c_EC_tanh_0_to1.ipynb#W6sZmlsZQ%3D%3D?line=11'>12</a>\u001b[0m Sim_Landes_sdiff    \u001b[39m=\u001b[39m pybamm\u001b[39m.\u001b[39mSimulation(\n\u001b[0;32m     <a href='vscode-notebook-cell:/d%3A/GitPyBaMM/LRH_409/LRH_409/envSolCon/PyBaMM-GEM/wip/Rio_Code/P3_R4_RewriteEqs/a2_1_diff_cond_c_EC_tanh_0_to1.ipynb#W6sZmlsZQ%3D%3D?line=12'>13</a>\u001b[0m     Model_sdiff, experiment \u001b[39m=\u001b[39m Experiment_Long,\n\u001b[0;32m     <a href='vscode-notebook-cell:/d%3A/GitPyBaMM/LRH_409/LRH_409/envSolCon/PyBaMM-GEM/wip/Rio_Code/P3_R4_RewriteEqs/a2_1_diff_cond_c_EC_tanh_0_to1.ipynb#W6sZmlsZQ%3D%3D?line=13'>14</a>\u001b[0m     parameter_values \u001b[39m=\u001b[39m Para_0,\n\u001b[0;32m     <a href='vscode-notebook-cell:/d%3A/GitPyBaMM/LRH_409/LRH_409/envSolCon/PyBaMM-GEM/wip/Rio_Code/P3_R4_RewriteEqs/a2_1_diff_cond_c_EC_tanh_0_to1.ipynb#W6sZmlsZQ%3D%3D?line=14'>15</a>\u001b[0m     solver \u001b[39m=\u001b[39m pybamm\u001b[39m.\u001b[39mCasadiSolver(),)  \n\u001b[1;32m---> <a href='vscode-notebook-cell:/d%3A/GitPyBaMM/LRH_409/LRH_409/envSolCon/PyBaMM-GEM/wip/Rio_Code/P3_R4_RewriteEqs/a2_1_diff_cond_c_EC_tanh_0_to1.ipynb#W6sZmlsZQ%3D%3D?line=15'>16</a>\u001b[0m Sol_Landes_ddiff    \u001b[39m=\u001b[39m Sim_Landes_ddiff\u001b[39m.\u001b[39;49msolve();\n\u001b[0;32m     <a href='vscode-notebook-cell:/d%3A/GitPyBaMM/LRH_409/LRH_409/envSolCon/PyBaMM-GEM/wip/Rio_Code/P3_R4_RewriteEqs/a2_1_diff_cond_c_EC_tanh_0_to1.ipynb#W6sZmlsZQ%3D%3D?line=16'>17</a>\u001b[0m Sol_Landes_sdiff    \u001b[39m=\u001b[39m Sim_Landes_sdiff\u001b[39m.\u001b[39msolve()\n",
      "File \u001b[1;32md:\\gitpybamm\\lrh_409\\lrh_409\\envsolcon\\pybamm-gem\\pybamm\\simulation.py:843\u001b[0m, in \u001b[0;36mSimulation.solve\u001b[1;34m(self, t_eval, solver, check_model, save_at_cycles, calc_esoh, starting_solution, initial_soc, callbacks, **kwargs)\u001b[0m\n\u001b[0;32m    841\u001b[0m \u001b[39m# If none of the cycles worked, raise an error\u001b[39;00m\n\u001b[0;32m    842\u001b[0m \u001b[39mif\u001b[39;00m cycle_num \u001b[39m==\u001b[39m \u001b[39m1\u001b[39m \u001b[39mand\u001b[39;00m step_num \u001b[39m==\u001b[39m \u001b[39m1\u001b[39m:\n\u001b[1;32m--> 843\u001b[0m     \u001b[39mraise\u001b[39;00m e\n\u001b[0;32m    844\u001b[0m \u001b[39m# Otherwise, just stop this cycle\u001b[39;00m\n\u001b[0;32m    845\u001b[0m \u001b[39mbreak\u001b[39;00m\n",
      "File \u001b[1;32md:\\gitpybamm\\lrh_409\\lrh_409\\envsolcon\\pybamm-gem\\pybamm\\simulation.py:829\u001b[0m, in \u001b[0;36mSimulation.solve\u001b[1;34m(self, t_eval, solver, check_model, save_at_cycles, calc_esoh, starting_solution, initial_soc, callbacks, **kwargs)\u001b[0m\n\u001b[0;32m    827\u001b[0m npts \u001b[39m=\u001b[39m \u001b[39mmax\u001b[39m(\u001b[39mint\u001b[39m(\u001b[39mround\u001b[39m(dt \u001b[39m/\u001b[39m exp_inputs[\u001b[39m\"\u001b[39m\u001b[39mperiod\u001b[39m\u001b[39m\"\u001b[39m])) \u001b[39m+\u001b[39m \u001b[39m1\u001b[39m, \u001b[39m2\u001b[39m)\n\u001b[0;32m    828\u001b[0m \u001b[39mtry\u001b[39;00m:\n\u001b[1;32m--> 829\u001b[0m     step_solution \u001b[39m=\u001b[39m solver\u001b[39m.\u001b[39mstep(\n\u001b[0;32m    830\u001b[0m         current_solution,\n\u001b[0;32m    831\u001b[0m         model,\n\u001b[0;32m    832\u001b[0m         dt,\n\u001b[0;32m    833\u001b[0m         npts\u001b[39m=\u001b[39mnpts,\n\u001b[0;32m    834\u001b[0m         save\u001b[39m=\u001b[39m\u001b[39mFalse\u001b[39;00m,\n\u001b[0;32m    835\u001b[0m         \u001b[39m*\u001b[39m\u001b[39m*\u001b[39mkwargs,\n\u001b[0;32m    836\u001b[0m     )\n\u001b[0;32m    837\u001b[0m \u001b[39mexcept\u001b[39;00m pybamm\u001b[39m.\u001b[39mSolverError \u001b[39mas\u001b[39;00m e:\n\u001b[0;32m    838\u001b[0m     logs[\u001b[39m\"\u001b[39m\u001b[39merror\u001b[39m\u001b[39m\"\u001b[39m] \u001b[39m=\u001b[39m e\n",
      "File \u001b[1;32md:\\gitpybamm\\lrh_409\\lrh_409\\envsolcon\\pybamm-gem\\pybamm\\solvers\\base_solver.py:1322\u001b[0m, in \u001b[0;36mBaseSolver.step\u001b[1;34m(self, old_solution, model, dt, npts, external_variables, inputs, save)\u001b[0m\n\u001b[0;32m   1315\u001b[0m pybamm\u001b[39m.\u001b[39mlogger\u001b[39m.\u001b[39mverbose(\n\u001b[0;32m   1316\u001b[0m     \u001b[39m\"\u001b[39m\u001b[39mStepping for \u001b[39m\u001b[39m{:.0f}\u001b[39;00m\u001b[39m < t < \u001b[39m\u001b[39m{:.0f}\u001b[39;00m\u001b[39m\"\u001b[39m\u001b[39m.\u001b[39mformat(\n\u001b[0;32m   1317\u001b[0m         t \u001b[39m*\u001b[39m model\u001b[39m.\u001b[39mtimescale_eval,\n\u001b[0;32m   1318\u001b[0m         (t \u001b[39m+\u001b[39m dt_dimensionless) \u001b[39m*\u001b[39m model\u001b[39m.\u001b[39mtimescale_eval,\n\u001b[0;32m   1319\u001b[0m     )\n\u001b[0;32m   1320\u001b[0m )\n\u001b[0;32m   1321\u001b[0m timer\u001b[39m.\u001b[39mreset()\n\u001b[1;32m-> 1322\u001b[0m solution \u001b[39m=\u001b[39m \u001b[39mself\u001b[39;49m\u001b[39m.\u001b[39;49m_integrate(model, t_eval, ext_and_inputs)\n\u001b[0;32m   1323\u001b[0m solution\u001b[39m.\u001b[39msolve_time \u001b[39m=\u001b[39m timer\u001b[39m.\u001b[39mtime()\n\u001b[0;32m   1325\u001b[0m \u001b[39m# Check if extrapolation occurred\u001b[39;00m\n",
      "File \u001b[1;32md:\\gitpybamm\\lrh_409\\lrh_409\\envsolcon\\pybamm-gem\\pybamm\\solvers\\casadi_solver.py:266\u001b[0m, in \u001b[0;36mCasadiSolver._integrate\u001b[1;34m(self, model, t_eval, inputs_dict)\u001b[0m\n\u001b[0;32m    264\u001b[0m         t_dim \u001b[39m=\u001b[39m t \u001b[39m*\u001b[39m model\u001b[39m.\u001b[39mtimescale_eval\n\u001b[0;32m    265\u001b[0m         dt_max_dim \u001b[39m=\u001b[39m dt_max \u001b[39m*\u001b[39m model\u001b[39m.\u001b[39mtimescale_eval\n\u001b[1;32m--> 266\u001b[0m         \u001b[39mraise\u001b[39;00m pybamm\u001b[39m.\u001b[39mSolverError(\n\u001b[0;32m    267\u001b[0m             \u001b[39mf\u001b[39m\u001b[39m\"\u001b[39m\u001b[39mMaximum number of decreased steps occurred at t=\u001b[39m\u001b[39m{\u001b[39;00mt_dim\u001b[39m}\u001b[39;00m\u001b[39m. \u001b[39m\u001b[39m\"\u001b[39m\n\u001b[0;32m    268\u001b[0m             \u001b[39m\"\u001b[39m\u001b[39mTry solving the model up to this time only or reducing \u001b[39m\u001b[39m\"\u001b[39m\n\u001b[0;32m    269\u001b[0m             \u001b[39mf\u001b[39m\u001b[39m\"\u001b[39m\u001b[39mdt_max (currently, dt_max=\u001b[39m\u001b[39m{\u001b[39;00mdt_max_dim\u001b[39m}\u001b[39;00m\u001b[39m) and/or reducing \u001b[39m\u001b[39m\"\u001b[39m\n\u001b[0;32m    270\u001b[0m             \u001b[39m\"\u001b[39m\u001b[39mthe size of the time steps or period of the experiment.\u001b[39m\u001b[39m\"\u001b[39m\n\u001b[0;32m    271\u001b[0m         )\n\u001b[0;32m    272\u001b[0m \u001b[39m# Check if the sign of an event changes, if so find an accurate\u001b[39;00m\n\u001b[0;32m    273\u001b[0m \u001b[39m# termination point and exit\u001b[39;00m\n\u001b[0;32m    274\u001b[0m current_step_sol \u001b[39m=\u001b[39m \u001b[39mself\u001b[39m\u001b[39m.\u001b[39m_solve_for_event(\n\u001b[0;32m    275\u001b[0m     current_step_sol, init_event_signs\n\u001b[0;32m    276\u001b[0m )\n",
      "\u001b[1;31mSolverError\u001b[0m: Maximum number of decreased steps occurred at t=240.0. Try solving the model up to this time only or reducing dt_max (currently, dt_max=7.091632984777611) and/or reducing the size of the time steps or period of the experiment."
     ]
    }
   ],
   "source": [
    "var = pybamm.standard_spatial_vars  \n",
    "var_pts = {\n",
    "    var.x_n: 150,  \n",
    "    var.x_s: 150,  \n",
    "    var.x_p: 150,  \n",
    "    var.r_n: 150,  \n",
    "    var.r_p: 150,  }\n",
    "Sim_Landes_ddiff    = pybamm.Simulation(\n",
    "    Model_ddiff, experiment = Experiment_Long,\n",
    "    parameter_values = Para_0,\n",
    "    solver = pybamm.CasadiSolver(),)   \n",
    "Sim_Landes_sdiff    = pybamm.Simulation(\n",
    "    Model_sdiff, experiment = Experiment_Long,\n",
    "    parameter_values = Para_0,\n",
    "    solver = pybamm.CasadiSolver(),)  \n",
    "Sol_Landes_ddiff    = Sim_Landes_ddiff.solve();\n",
    "Sol_Landes_sdiff    = Sim_Landes_sdiff.solve();"
   ]
  },
  {
   "cell_type": "code",
   "execution_count": 29,
   "metadata": {},
   "outputs": [
    {
     "name": "stdout",
     "output_type": "stream",
     "text": [
      "Electrolyte potential\n",
      "Electrolyte potential [V]\n",
      "Gradient of electrolyte potential\n",
      "Gradient of negative electrode potential\n",
      "Gradient of negative electrolyte potential\n",
      "Gradient of positive electrode potential\n",
      "Gradient of positive electrolyte potential\n",
      "Gradient of separator electrolyte potential\n",
      "Negative current collector potential\n",
      "Negative current collector potential [V]\n",
      "Negative electrode lithium plating reaction overpotential\n",
      "Negative electrode lithium plating reaction overpotential [V]\n",
      "Negative electrode open circuit potential\n",
      "Negative electrode open circuit potential [V]\n",
      "Negative electrode potential\n",
      "Negative electrode potential [V]\n",
      "Negative electrode reaction overpotential\n",
      "Negative electrode reaction overpotential [V]\n",
      "Negative electrode surface potential difference\n",
      "Negative electrode surface potential difference [V]\n",
      "Negative electrolyte potential\n",
      "Negative electrolyte potential [V]\n",
      "Positive current collector potential\n",
      "Positive current collector potential [V]\n",
      "Positive electrode open circuit potential\n",
      "Positive electrode open circuit potential [V]\n",
      "Positive electrode potential\n",
      "Positive electrode potential [V]\n",
      "Positive electrode reaction overpotential\n",
      "Positive electrode reaction overpotential [V]\n",
      "Positive electrode surface potential difference\n",
      "Positive electrode surface potential difference [V]\n",
      "Positive electrolyte potential\n",
      "Positive electrolyte potential [V]\n",
      "SEI film overpotential\n",
      "SEI film overpotential [V]\n",
      "Separator electrolyte potential\n",
      "Separator electrolyte potential [V]\n",
      "X-averaged SEI film overpotential\n",
      "X-averaged SEI film overpotential [V]\n",
      "X-averaged battery concentration overpotential [V]\n",
      "X-averaged battery reaction overpotential [V]\n",
      "X-averaged concentration overpotential\n",
      "X-averaged concentration overpotential [V]\n",
      "X-averaged electrolyte overpotential\n",
      "X-averaged electrolyte overpotential [V]\n",
      "X-averaged electrolyte potential\n",
      "X-averaged electrolyte potential [V]\n",
      "X-averaged negative electrode lithium plating reaction overpotential\n",
      "X-averaged negative electrode lithium plating reaction overpotential [V]\n",
      "X-averaged negative electrode open circuit potential\n",
      "X-averaged negative electrode open circuit potential [V]\n",
      "X-averaged negative electrode potential\n",
      "X-averaged negative electrode potential [V]\n",
      "X-averaged negative electrode reaction overpotential\n",
      "X-averaged negative electrode reaction overpotential [V]\n",
      "X-averaged negative electrode surface potential difference\n",
      "X-averaged negative electrode surface potential difference [V]\n",
      "X-averaged negative electrolyte potential\n",
      "X-averaged negative electrolyte potential [V]\n",
      "X-averaged positive electrode open circuit potential\n",
      "X-averaged positive electrode open circuit potential [V]\n",
      "X-averaged positive electrode potential\n",
      "X-averaged positive electrode potential [V]\n",
      "X-averaged positive electrode reaction overpotential\n",
      "X-averaged positive electrode reaction overpotential [V]\n",
      "X-averaged positive electrode surface potential difference\n",
      "X-averaged positive electrode surface potential difference [V]\n",
      "X-averaged positive electrolyte potential\n",
      "X-averaged positive electrolyte potential [V]\n",
      "X-averaged reaction overpotential\n",
      "X-averaged reaction overpotential [V]\n",
      "X-averaged separator electrolyte potential\n",
      "X-averaged separator electrolyte potential [V]\n"
     ]
    }
   ],
   "source": [
    "Model_ddiff.variables.search(\"potential\")"
   ]
  },
  {
   "cell_type": "code",
   "execution_count": 30,
   "metadata": {},
   "outputs": [
    {
     "name": "stdout",
     "output_type": "stream",
     "text": [
      "[0.44572009 0.44753365 0.4512694  0.45714198 0.46546062 0.47659778\n",
      " 0.49092464 0.50870787 0.52998428 0.55446178 0.58150608 0.61023397\n",
      " 0.63966798 0.66887733 0.69705852 0.72355419 0.74782903 0.76937312\n",
      " 0.78571562 0.62689655 0.09782264 0.08712451 0.07855803 0.07205283\n",
      " 0.06722248 0.0635383  0.06052543 0.05786104 0.05537623 0.05299548\n",
      " 0.05068836 0.04844286 0.04625341 0.04411648 0.04202911 0.03998859\n",
      " 0.03799229 0.03603765 0.03412215 0.03224327 0.02259669 0.01307427\n",
      " 0.00796612 0.00602704 0.00596573 0.0086971  0.01588449 0.03131188\n",
      " 0.05039588 0.06262107 0.06710057 0.06789837 0.067116   0.06511103\n",
      " 0.06109496 0.0534821  0.04194129 0.02995409 0.02137987 0.0169702 ]\n",
      "[3.98251112e-11 3.96398143e-11 3.92921851e-11 3.88303353e-11\n",
      " 3.83311416e-11 3.79035259e-11 3.76882248e-11 3.78496409e-11\n",
      " 3.85562026e-11 3.99508577e-11 4.21214621e-11 4.50842624e-11\n",
      " 4.87864959e-11 5.31222781e-11 5.79505724e-11 6.31072552e-11\n",
      " 6.84085963e-11 7.36421101e-11 7.83663368e-11 6.50825637e-11\n",
      " 1.04091397e-11 9.46937550e-12 8.74342003e-12 8.23544986e-12\n",
      " 7.91186795e-12 7.71814607e-12 7.60124649e-12 7.52296081e-12\n",
      " 7.46241363e-12 7.40993395e-12 7.36155478e-12 7.31575914e-12\n",
      " 7.27193608e-12 7.22977942e-12 7.18908797e-12 7.14970894e-12\n",
      " 7.11152434e-12 7.07444734e-12 7.03842019e-12 7.00341195e-12\n",
      " 6.93481911e-12 7.42855947e-12 8.53382506e-12 1.18094369e-11\n",
      " 1.93209948e-11 3.96978475e-11 8.71059877e-11 1.87254135e-10\n",
      " 3.14524554e-10 4.01288482e-10 4.38818069e-10 4.51687212e-10\n",
      " 4.53120389e-10 4.45256822e-10 4.22512022e-10 3.73625356e-10\n",
      " 2.95839038e-10 2.13316763e-10 1.53603339e-10 1.22626641e-10]\n"
     ]
    }
   ],
   "source": [
    "print(Sol_Landes_ddiff[\"Electrolyte conductivity [S.m-1]\"].entries[:,-1] )\n",
    "print(Sol_Landes_ddiff[\"Electrolyte diffusivity [m2.s-1]\"].entries[:,-1])"
   ]
  },
  {
   "cell_type": "code",
   "execution_count": 31,
   "metadata": {},
   "outputs": [],
   "source": [
    "font = {'family' : 'Times New Roman',\n",
    "        #'weight' : 'bold',\n",
    "        'size'   : 18}\n",
    "mpl.rc('font', **font)"
   ]
  },
  {
   "cell_type": "code",
   "execution_count": 32,
   "metadata": {},
   "outputs": [
    {
     "data": {
      "application/vnd.jupyter.widget-view+json": {
       "model_id": "e22c3142ec7443838cf8579a98a980d0",
       "version_major": 2,
       "version_minor": 0
      },
      "text/plain": [
       "interactive(children=(FloatSlider(value=0.0, description='t', max=0.06638888888888889, step=0.0006638888888888…"
      ]
     },
     "metadata": {},
     "output_type": "display_data"
    }
   ],
   "source": [
    "label = [\"Landes_ddiff\"] \n",
    "output_variables3 = [\n",
    "    \"Terminal voltage [V]\",   \n",
    "    #\"Current [A]\",\n",
    "    \"EC concentration [mol.m-3]\",\n",
    "    \"Electrolyte concentration [mol.m-3]\",\n",
    "    \"c(EC) over c(Li+)\",\n",
    "    #\"Loss of capacity to SEI [A.h]\",\n",
    "    \"Li+ flux [mol.m-2.s-1]\",\n",
    "    \"EC flux [mol.m-2.s-1]\",\n",
    "    \"Electrolyte conductivity [S.m-1]\",\n",
    "    \"Electrolyte diffusivity [m2.s-1]\",\n",
    "]\n",
    "quick_plot = pybamm.QuickPlot([\n",
    "    Sol_Landes_ddiff\n",
    "    ], output_variables3,label,\n",
    "    variable_limits='fixed',time_unit='hours',n_rows=2,\n",
    "    figsize = (16,6)) #     spatial_unit='mm',\n",
    "quick_plot.dynamic_plot();\n",
    "#quick_plot.create_gif(\n",
    "#    number_of_images=10, duration=2,output_filename=BasicPath + Target+\"fixed_add c_EC as tanh (0-1).gif\")"
   ]
  },
  {
   "cell_type": "code",
   "execution_count": 33,
   "metadata": {},
   "outputs": [
    {
     "data": {
      "application/vnd.jupyter.widget-view+json": {
       "model_id": "77f6ce449a554b2e9ab2116889e155b8",
       "version_major": 2,
       "version_minor": 0
      },
      "text/plain": [
       "interactive(children=(FloatSlider(value=0.0, description='t', max=0.06638888888888889, step=0.0006638888888888…"
      ]
     },
     "metadata": {},
     "output_type": "display_data"
    }
   ],
   "source": [
    "label = [\"Sol_Landes_ddiff\"] \n",
    "output_variables3 = [\n",
    "    \"Terminal voltage [V]\",   \n",
    "    [\"EC flux [mol.m-2.s-1]\",\"EC flux by diffusion [mol.m-2.s-1]\",\n",
    "        \"EC flux by migration [mol.m-2.s-1]\",\"EC flux by Li+ [mol.m-2.s-1]\"],\n",
    "    [\"Li+ flux [mol.m-2.s-1]\",\"Li+ flux by diffusion [mol.m-2.s-1]\",\n",
    "        \"Li+ flux by migration [mol.m-2.s-1]\",\"Li+ flux by solvent [mol.m-2.s-1]\"],    \n",
    "]\n",
    "quick_plot = pybamm.QuickPlot([\n",
    "    Sol_Landes_ddiff,\n",
    "    ], output_variables3,label,\n",
    "    variable_limits='fixed',time_unit='hours',n_rows=1,\n",
    "    figsize = (16,6)) #     spatial_unit='mm',\n",
    "quick_plot.dynamic_plot();"
   ]
  },
  {
   "cell_type": "code",
   "execution_count": 34,
   "metadata": {},
   "outputs": [
    {
     "data": {
      "application/vnd.jupyter.widget-view+json": {
       "model_id": "f8b7f084d94a4886b39f085e20d1b2ac",
       "version_major": 2,
       "version_minor": 0
      },
      "text/plain": [
       "interactive(children=(FloatSlider(value=0.0, description='t', max=0.06638888888888889, step=0.0006638888888888…"
      ]
     },
     "metadata": {},
     "output_type": "display_data"
    }
   ],
   "source": [
    "label = [\"Sol_Landes_ddiff\"] \n",
    "output_variables3 = [\n",
    "    \"Terminal voltage [V]\",   \n",
    "    \"Electrolyte potential [V]\",\n",
    "    \"Positive electrode potential [V]\",\n",
    "    \"Negative electrode SOC\",\n",
    "    \"Positive electrode SOC\",\n",
    "    \"Porosity times concentration\",\n",
    "    \"eps_c_e rhs\",\n",
    "    \"Minus div Li+ flux\",\n",
    "    \"Li+ source term\",\n",
    "]\n",
    "quick_plot = pybamm.QuickPlot([\n",
    "    Sol_Landes_ddiff,\n",
    "    ], output_variables3,label,\n",
    "    variable_limits='fixed',time_unit='hours',n_rows=3,\n",
    "    figsize = (16,12)) #     spatial_unit='mm',\n",
    "quick_plot.dynamic_plot();\n"
   ]
  },
  {
   "cell_type": "code",
   "execution_count": 35,
   "metadata": {},
   "outputs": [
    {
     "data": {
      "application/vnd.jupyter.widget-view+json": {
       "model_id": "481fd130bb1c449e8085b74a448a1c4e",
       "version_major": 2,
       "version_minor": 0
      },
      "text/plain": [
       "interactive(children=(FloatSlider(value=0.0, description='t', max=0.06638888888888889, step=0.0006638888888888…"
      ]
     },
     "metadata": {},
     "output_type": "display_data"
    }
   ],
   "source": [
    "label = [\"Landes_ddiff\"] \n",
    "output_variables3 = [\n",
    "    \"Terminal voltage [V]\",   \n",
    "    #\"Current [A]\",\n",
    "    \"EC concentration [mol.m-3]\",\n",
    "    \"Electrolyte concentration [mol.m-3]\",\n",
    "    \"c(EC) over c(Li+)\",\n",
    "    #\"Loss of capacity to SEI [A.h]\",\n",
    "    \"Li+ flux [mol.m-2.s-1]\",\n",
    "    \"EC flux [mol.m-2.s-1]\",\n",
    "    \"Electrolyte conductivity [S.m-1]\",\n",
    "    \"Electrolyte diffusivity [m2.s-1]\",\n",
    "]\n",
    "quick_plot = pybamm.QuickPlot([\n",
    "    Sol_Landes_ddiff\n",
    "    ], output_variables3,label,\n",
    "    variable_limits='tight',time_unit='hours',n_rows=2,\n",
    "    figsize = (16,6)) #     spatial_unit='mm',\n",
    "quick_plot.dynamic_plot();\n",
    "#quick_plot.create_gif(\n",
    "#    number_of_images=10, duration=2,output_filename=BasicPath + Target+\"add c_EC as tanh (0-1).gif\")"
   ]
  }
 ],
 "metadata": {
  "kernelspec": {
   "display_name": "Python 3.9.6 ('envPBGEM')",
   "language": "python",
   "name": "python3"
  },
  "language_info": {
   "codemirror_mode": {
    "name": "ipython",
    "version": 3
   },
   "file_extension": ".py",
   "mimetype": "text/x-python",
   "name": "python",
   "nbconvert_exporter": "python",
   "pygments_lexer": "ipython3",
   "version": "3.9.6"
  },
  "orig_nbformat": 4,
  "vscode": {
   "interpreter": {
    "hash": "83fab7fbb3a8fe7b5910804f702478ef63e2cc6a08d85072a5d68865ed0fd8c7"
   }
  }
 },
 "nbformat": 4,
 "nbformat_minor": 2
}
