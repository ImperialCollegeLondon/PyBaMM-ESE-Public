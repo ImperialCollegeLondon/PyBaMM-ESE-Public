{
 "cells": [
  {
   "cell_type": "markdown",
   "metadata": {},
   "source": [
    "# add c_EC as one of the inputs for diffusivity and conductivity; use exponeitial extrapolation for Nyman2008 and make the added function a tanh, use andrew properties"
   ]
  },
  {
   "cell_type": "code",
   "execution_count": 15,
   "metadata": {},
   "outputs": [],
   "source": [
    "import pybamm\n",
    "import numpy as np\n",
    "import matplotlib.pyplot as plt\n",
    "import pandas as pd   ;import numpy as np;import os;import matplotlib.pyplot as plt;import os;\n",
    "from scipy.io import savemat,loadmat;from pybamm import constants,exp,tanh,sqrt;import matplotlib as mpl; fs=17; # or we can set import matplotlib.pyplot as plt then say 'mpl.rc...'\n",
    "for k in range(0,1):\n",
    "    mpl.rcParams[\"axes.labelsize\"] = fs\n",
    "    mpl.rcParams[\"axes.titlesize\"] = fs\n",
    "    mpl.rcParams[\"xtick.labelsize\"] =  fs\n",
    "    mpl.rcParams[\"ytick.labelsize\"] =  fs\n",
    "    mpl.rcParams[\"legend.fontsize\"] =  fs\n",
    "    mpl.rcParams['font.sans-serif'] = ['Times New Roman']\n",
    "    mpl.rcParams['font.serif'] = ['Times New Roman']\n",
    "    mpl.rcParams['axes.unicode_minus'] = False\n",
    "import traceback"
   ]
  },
  {
   "cell_type": "code",
   "execution_count": 16,
   "metadata": {},
   "outputs": [],
   "source": [
    "# define function:\n",
    "def electrolyte_conductivity_Nyman2008_wEC(c_e,c_EC, T):\n",
    "    x = c_EC / c_e\n",
    "    coff = 1\n",
    "    sigma_e = (\n",
    "        (0.00+ coff/2 + coff/2 *  tanh((x-2.7705)*2)) * \n",
    "        (\n",
    "        0.1 * 0.06248 * (1+298.15-0.05559) * \n",
    "        (c_e/1e3) * (1 - 3.084 *sqrt(c_e/1e3) \n",
    "        + 1.33 *(1+ 0.03633 *(exp(1000/298.15))*c_e/1e3)   ) \n",
    "        / (1+(c_e/1e3)**4*( 0.00795 *exp(1000/298.15))) )  )\n",
    "    return sigma_e\n",
    "def electrolyte_diffusivity_Nyman2008_wEC(c_e, c_EC,T):\n",
    "    x = c_EC / c_e\n",
    "    coff = 1\n",
    "    D_c_e = (\n",
    "        ( 0.00+ coff/2 + coff/2 *  tanh((x-2.7705)*2) )  * \n",
    "        (6 * exp( -1 *(c_e/1000)) \n",
    "        * exp(-5/298.15) \n",
    "        * exp(-95/298.15*(c_e/1000)) * 1e-10 ) )\n",
    "    return D_c_e\n"
   ]
  },
  {
   "cell_type": "code",
   "execution_count": 17,
   "metadata": {},
   "outputs": [],
   "source": [
    "V_max = 4.2;        V_min = 2.5;\n",
    "Diff_SEI = 1.7e-20;    R_SEI = 2E5;   Bulk_Sol_Con = 4541.0;\n",
    "Experiment_Long   = pybamm.Experiment( [ (\n",
    "    f\"Discharge at 1 C until {V_min} V\", \n",
    "    f\"Charge at 0.3 C until {V_max} V\", \n",
    "    f\"Hold at {V_max} V until C/5\")    ] * 1 ) \n",
    "Experiment_s   = pybamm.Experiment( [ (\n",
    "    f\"Discharge at 1 C for 240 s\", )    ] * 1 )   "
   ]
  },
  {
   "cell_type": "code",
   "execution_count": 18,
   "metadata": {},
   "outputs": [],
   "source": [
    "BasicPath = 'D:/OneDrive - Imperial College London/SimDataSave/P3R4/'; \n",
    "Target  = 'a2_Diff_Cond_c_EC/'\n",
    "if not os.path.exists(BasicPath + Target):\n",
    "    os.mkdir(BasicPath + Target);"
   ]
  },
  {
   "cell_type": "code",
   "execution_count": 19,
   "metadata": {},
   "outputs": [
    {
     "name": "stdout",
     "output_type": "stream",
     "text": [
      "using EC wo refill for Li+\n"
     ]
    }
   ],
   "source": [
    "Model_ddiff = pybamm.lithium_ion.DFN(     \n",
    "    options={\"solvent diffusion\": \"EC wo refill\"     } )\n",
    "Model_sdiff = pybamm.lithium_ion.DFN(     \n",
    "    options={\"solvent diffusion\": \"none\"     } )\n",
    "ChemistryChen=pybamm.parameter_sets.Chen2020 \n",
    "ChemistryChen[\"electrolyte\"] = \"lipf6_Nyman2008_rio\";\n",
    "Para_0=pybamm.ParameterValues(chemistry=ChemistryChen);\n",
    "\n",
    "\n",
    "Para_0['EC Lithium ion cross diffusivity [m2.s-1]'] = \"[input]\" # 1.5e-9/1e2;\n",
    "Para_0['Typical EC Lithium ion cross diffusivity [m2.s-1]'] =   1.5e-9/1e2\n",
    "Para_0['EC transference number'] =     \"[input]\" # -1.4\n",
    "Para_0['EC diffusivity in electrolyte [m2.s-1]'] =   \"[input]\" # 5E-12;\n",
    "Para_0.update(\n",
    "    {'Electrolyte diffusivity [m2.s-1]':\n",
    "    3e-10})\n",
    "Para_0.update(\n",
    "    {'Electrolyte conductivity [S.m-1]':\n",
    "    electrolyte_conductivity_Nyman2008_wEC})\n",
    "c_e_ddiff = Model_ddiff.variables[\"Electrolyte concentration [mol.m-3]\"]\n",
    "T_ddiff = Model_ddiff.variables[\"Cell temperature [K]\"]\n",
    "c_EC_ddiff = Model_ddiff.variables[\"EC concentration [mol.m-3]\"]\n",
    "Model_ddiff.variables[\"c(EC) over c(Li+)\"] = c_EC_ddiff / c_e_ddiff\n",
    "Model_ddiff.variables[\"Electrolyte conductivity [S.m-1]\"] =electrolyte_conductivity_Nyman2008_wEC(c_e_ddiff,c_EC_ddiff, T_ddiff)\n",
    "Model_ddiff.variables[\"Electrolyte diffusivity [m2.s-1]\"] =electrolyte_diffusivity_Nyman2008_wEC(c_e_ddiff,c_EC_ddiff, T_ddiff)"
   ]
  },
  {
   "cell_type": "markdown",
   "metadata": {},
   "source": [
    "Succeed for:  Xi= -1.8 t_0plus= 0.01 D_cross= 1.5e-18 D_ec= 3.750125e-10"
   ]
  },
  {
   "cell_type": "code",
   "execution_count": 26,
   "metadata": {},
   "outputs": [
    {
     "name": "stderr",
     "output_type": "stream",
     "text": [
      "The linesearch algorithm failed with too small a step.\n"
     ]
    }
   ],
   "source": [
    "Sol_ddiff    = Sim_ddiff.solve(\n",
    "    inputs={\n",
    "        \"EC transference number\":-1.35,\n",
    "        \"Cation transference number\":0.28,\n",
    "        \"EC Lithium ion cross diffusivity [m2.s-1]\":0,\n",
    "        \"EC diffusivity in electrolyte [m2.s-1]\":5e-10,});"
   ]
  },
  {
   "cell_type": "code",
   "execution_count": null,
   "metadata": {},
   "outputs": [],
   "source": [
    "print(Set_succ)"
   ]
  },
  {
   "cell_type": "code",
   "execution_count": null,
   "metadata": {},
   "outputs": [],
   "source": [
    "Sim_ddiff    = pybamm.Simulation(\n",
    "    Model_ddiff, experiment = Experiment_Long,\n",
    "    parameter_values = Para_0,\n",
    "    solver = pybamm.CasadiSolver(),)   \n",
    "index_c = 5\n",
    "Xi =  list(np.linspace(-1.5, -1.3,index_c));\n",
    "t_0plus = list(np.linspace(0.01, 0.3, index_c));\n",
    "D_cross = list(np.linspace(0, 1.5e-9,9));\n",
    "D_ec = list(np.linspace(5e-14, 5e-10, index_c));\n",
    "Set_succ = []; Set_fail = []; ErrorMess = [];\n",
    "t_0plus_i = 0.28;  D_ec_i = 5e-10; \n",
    "for Xi_i in Xi:\n",
    "    for D_cross_i in D_cross:\n",
    "            try:\n",
    "                Sol_ddiff    = Sim_ddiff.solve(\n",
    "                    inputs={\n",
    "                        \"EC transference number\":Xi_i,\n",
    "                        \"Cation transference number\":t_0plus_i,\n",
    "                        \"EC Lithium ion cross diffusivity [m2.s-1]\":D_cross_i,\n",
    "                        \"EC diffusivity in electrolyte [m2.s-1]\":D_ec_i,});\n",
    "            except:\n",
    "                str_error = traceback.format_exc()  \n",
    "                print(str_error)\n",
    "                ErrorMess.append(str_error)\n",
    "                print(\"Fail for: \", \n",
    "                'Xi=',Xi_i, \"t_0plus=\",t_0plus_i, \n",
    "                \"D_cross=\",D_cross_i, \"D_ec=\", D_ec_i );\n",
    "                Set_fail.append([Xi_i,t_0plus_i,D_cross_i,D_ec_i])\n",
    "\n",
    "            else:\n",
    "                print(\"Succeed for: \", \n",
    "                'Xi=',Xi_i, \"t_0plus=\",t_0plus_i, \n",
    "                \"D_cross=\",D_cross_i, \"D_ec=\", D_ec_i );\n",
    "                Set_succ.append([Xi_i,t_0plus_i,D_cross_i,D_ec_i])\n",
    "            "
   ]
  },
  {
   "cell_type": "code",
   "execution_count": null,
   "metadata": {},
   "outputs": [],
   "source": [
    "Model_ddiff.variables.search(\"potential\")"
   ]
  },
  {
   "cell_type": "code",
   "execution_count": null,
   "metadata": {},
   "outputs": [],
   "source": [
    "print(Sol_ddiff[\"Electrolyte conductivity [S.m-1]\"].entries[:,51] )\n",
    "print(Sol_ddiff[\"Electrolyte diffusivity [m2.s-1]\"].entries[:,-1])"
   ]
  },
  {
   "cell_type": "code",
   "execution_count": 27,
   "metadata": {},
   "outputs": [],
   "source": [
    "font = {'family' : 'Times New Roman',\n",
    "        #'weight' : 'bold',\n",
    "        'size'   : 18}\n",
    "mpl.rc('font', **font)"
   ]
  },
  {
   "cell_type": "code",
   "execution_count": 28,
   "metadata": {},
   "outputs": [
    {
     "data": {
      "application/vnd.jupyter.widget-view+json": {
       "model_id": "57ed1ff33f094daab880967b936c9a71",
       "version_major": 2,
       "version_minor": 0
      },
      "text/plain": [
       "interactive(children=(FloatSlider(value=0.0, description='t', max=3.25169569451806, step=0.0325169569451806), …"
      ]
     },
     "metadata": {},
     "output_type": "display_data"
    }
   ],
   "source": [
    "label = [\"ddiff\"] \n",
    "output_variables3 = [\n",
    "    \"Terminal voltage [V]\",   \n",
    "    #\"Current [A]\",\n",
    "    \"EC concentration [mol.m-3]\",\n",
    "    \"Electrolyte concentration [mol.m-3]\",\n",
    "    \"c(EC) over c(Li+)\",\n",
    "    #\"Loss of capacity to SEI [A.h]\",\n",
    "    \"Li+ flux [mol.m-2.s-1]\",\n",
    "    \"EC flux [mol.m-2.s-1]\",\n",
    "    \"Electrolyte conductivity [S.m-1]\",\n",
    "    \"Electrolyte diffusivity [m2.s-1]\",\n",
    "]\n",
    "quick_plot = pybamm.QuickPlot([\n",
    "    Sol_ddiff\n",
    "    ], output_variables3,label,\n",
    "    variable_limits='tight',time_unit='hours',n_rows=2,\n",
    "    figsize = (16,6)) #     spatial_unit='mm',\n",
    "quick_plot.dynamic_plot();\n",
    "#quick_plot.create_gif(\n",
    "#    number_of_images=10, duration=2,output_filename=BasicPath + Target+\"fixed_add c_EC as tanh (0-1).gif\")"
   ]
  },
  {
   "cell_type": "code",
   "execution_count": 29,
   "metadata": {},
   "outputs": [
    {
     "data": {
      "application/vnd.jupyter.widget-view+json": {
       "model_id": "b7d0d5614801442a9481c684ebf56edd",
       "version_major": 2,
       "version_minor": 0
      },
      "text/plain": [
       "interactive(children=(FloatSlider(value=0.0, description='t', max=3.25169569451806, step=0.0325169569451806), …"
      ]
     },
     "metadata": {},
     "output_type": "display_data"
    }
   ],
   "source": [
    "label = [\"Sol_ddiff\"] \n",
    "output_variables3 = [\n",
    "    \"Terminal voltage [V]\",   \n",
    "    [\"EC flux [mol.m-2.s-1]\",\"EC flux by diffusion [mol.m-2.s-1]\",\n",
    "        \"EC flux by migration [mol.m-2.s-1]\",\"EC flux by Li+ [mol.m-2.s-1]\"],\n",
    "    [\"Li+ flux [mol.m-2.s-1]\",\"Li+ flux by diffusion [mol.m-2.s-1]\",\n",
    "        \"Li+ flux by migration [mol.m-2.s-1]\",\"Li+ flux by solvent [mol.m-2.s-1]\"],    \n",
    "]\n",
    "quick_plot = pybamm.QuickPlot([\n",
    "    Sol_ddiff,\n",
    "    ], output_variables3,label,\n",
    "    variable_limits='fixed',time_unit='hours',n_rows=1,\n",
    "    figsize = (16,6)) #     spatial_unit='mm',\n",
    "quick_plot.dynamic_plot();"
   ]
  },
  {
   "cell_type": "code",
   "execution_count": 30,
   "metadata": {},
   "outputs": [
    {
     "data": {
      "application/vnd.jupyter.widget-view+json": {
       "model_id": "e40761b8a6034c528cfce5f38d6aaed8",
       "version_major": 2,
       "version_minor": 0
      },
      "text/plain": [
       "interactive(children=(FloatSlider(value=0.0, description='t', max=3.25169569451806, step=0.0325169569451806), …"
      ]
     },
     "metadata": {},
     "output_type": "display_data"
    }
   ],
   "source": [
    "label = [\"Sol_ddiff\"] \n",
    "output_variables3 = [\n",
    "    \"Terminal voltage [V]\",   \n",
    "    \"Electrolyte potential [V]\",\n",
    "    \"Positive electrode potential [V]\",\n",
    "    \"Negative electrode SOC\",\n",
    "    \"Positive electrode SOC\",\n",
    "    \"Porosity times concentration\",\n",
    "    \"eps_c_e rhs\",\n",
    "    \"Minus div Li+ flux\",\n",
    "    \"Li+ source term\",\n",
    "]\n",
    "quick_plot = pybamm.QuickPlot([\n",
    "    Sol_ddiff,\n",
    "    ], output_variables3,label,\n",
    "    variable_limits='fixed',time_unit='hours',n_rows=3,\n",
    "    figsize = (16,12)) #     spatial_unit='mm',\n",
    "quick_plot.dynamic_plot();\n"
   ]
  },
  {
   "cell_type": "code",
   "execution_count": 31,
   "metadata": {},
   "outputs": [
    {
     "data": {
      "application/vnd.jupyter.widget-view+json": {
       "model_id": "07307378a20b40e4a1d61b1c6bba14a9",
       "version_major": 2,
       "version_minor": 0
      },
      "text/plain": [
       "interactive(children=(FloatSlider(value=0.0, description='t', max=3.25169569451806, step=0.0325169569451806), …"
      ]
     },
     "metadata": {},
     "output_type": "display_data"
    }
   ],
   "source": [
    "label = [\"ddiff\"] \n",
    "output_variables3 = [\n",
    "    \"Terminal voltage [V]\",   \n",
    "    #\"Current [A]\",\n",
    "    \"EC concentration [mol.m-3]\",\n",
    "    \"Electrolyte concentration [mol.m-3]\",\n",
    "    \"c(EC) over c(Li+)\",\n",
    "    #\"Loss of capacity to SEI [A.h]\",\n",
    "    \"Li+ flux [mol.m-2.s-1]\",\n",
    "    \"EC flux [mol.m-2.s-1]\",\n",
    "    \"Electrolyte conductivity [S.m-1]\",\n",
    "    \"Electrolyte diffusivity [m2.s-1]\",\n",
    "]\n",
    "quick_plot = pybamm.QuickPlot([\n",
    "    Sol_ddiff\n",
    "    ], output_variables3,label,\n",
    "    variable_limits='tight',time_unit='hours',n_rows=2,\n",
    "    figsize = (16,6)) #     spatial_unit='mm',\n",
    "quick_plot.dynamic_plot();\n",
    "#quick_plot.create_gif(\n",
    "#    number_of_images=10, duration=2,output_filename=BasicPath + Target+\"add c_EC as tanh (0-1).gif\")"
   ]
  }
 ],
 "metadata": {
  "kernelspec": {
   "display_name": "Python 3.9.6 ('envSolCon')",
   "language": "python",
   "name": "python3"
  },
  "language_info": {
   "codemirror_mode": {
    "name": "ipython",
    "version": 3
   },
   "file_extension": ".py",
   "mimetype": "text/x-python",
   "name": "python",
   "nbconvert_exporter": "python",
   "pygments_lexer": "ipython3",
   "version": "3.9.6"
  },
  "orig_nbformat": 4,
  "vscode": {
   "interpreter": {
    "hash": "5ae0c684446e40f7574a1a9821257f2365ba43f34c15f5f2e3dcabca0bad9ab7"
   }
  }
 },
 "nbformat": 4,
 "nbformat_minor": 2
}
