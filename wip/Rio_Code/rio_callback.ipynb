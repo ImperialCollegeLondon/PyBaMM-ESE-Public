{
 "cells": [
  {
   "cell_type": "code",
   "execution_count": 3,
   "metadata": {},
   "outputs": [],
   "source": [
    "import pybamm\n",
    "\n",
    "model = pybamm.lithium_ion.DFN()\n",
    "ChemistryChen=pybamm.parameter_sets.Chen2020 \n",
    "ChemistryChen[\"electrolyte\"] = \"lipf6_Nyman2008_rio\";\n",
    "Para_0=pybamm.ParameterValues(chemistry=ChemistryChen);\n",
    "experiment = pybamm.Experiment([\n",
    "        (\n",
    "            \"Discharge at C/5 for 10 hours or until 3.3 V\",\n",
    "            \"Charge at 1 A until 4.1 V\",\n",
    "            \"Hold at 4.1 V until 10 mA\",\n",
    "        ),\n",
    "    ]\n",
    "    * 3\n",
    ")\n",
    "sim = pybamm.Simulation(model, experiment=experiment,parameter_values = Para_0,\n",
    "        solver = pybamm.CasadiSolver(),)"
   ]
  },
  {
   "cell_type": "code",
   "execution_count": 4,
   "metadata": {},
   "outputs": [
    {
     "name": "stderr",
     "output_type": "stream",
     "text": [
      "2022-10-26 15:20:25.499 - [NOTICE] callbacks.on_cycle_start(174): Cycle 1/3 (26.079 ms elapsed) --------------------\n",
      "2022-10-26 15:20:25.500 - [NOTICE] callbacks.on_step_start(182): Cycle 1/3, step 1/3: Discharge at C/5 for 10 hours or until 3.3 V\n",
      "2022-10-26 15:20:28.875 - [NOTICE] callbacks.on_step_start(182): Cycle 1/3, step 2/3: Charge at 1 A until 4.1 V\n",
      "2022-10-26 15:20:31.556 - [NOTICE] callbacks.on_step_start(182): Cycle 1/3, step 3/3: Hold at 4.1 V until 10 mA\n",
      "2022-10-26 15:20:35.047 - [NOTICE] callbacks.on_cycle_start(174): Cycle 2/3 (9.574 s elapsed) --------------------\n",
      "2022-10-26 15:20:35.048 - [NOTICE] callbacks.on_step_start(182): Cycle 2/3, step 1/3: Discharge at C/5 for 10 hours or until 3.3 V\n",
      "2022-10-26 15:20:37.953 - [NOTICE] callbacks.on_step_start(182): Cycle 2/3, step 2/3: Charge at 1 A until 4.1 V\n",
      "2022-10-26 15:20:40.627 - [NOTICE] callbacks.on_step_start(182): Cycle 2/3, step 3/3: Hold at 4.1 V until 10 mA\n",
      "2022-10-26 15:20:43.843 - [NOTICE] callbacks.on_cycle_start(174): Cycle 3/3 (18.369 s elapsed) --------------------\n",
      "2022-10-26 15:20:43.844 - [NOTICE] callbacks.on_step_start(182): Cycle 3/3, step 1/3: Discharge at C/5 for 10 hours or until 3.3 V\n",
      "2022-10-26 15:20:46.673 - [NOTICE] callbacks.on_step_start(182): Cycle 3/3, step 2/3: Charge at 1 A until 4.1 V\n",
      "2022-10-26 15:20:49.068 - [NOTICE] callbacks.on_step_start(182): Cycle 3/3, step 3/3: Hold at 4.1 V until 10 mA\n",
      "2022-10-26 15:20:51.677 - [NOTICE] callbacks.on_experiment_end(222): Finish experiment simulation, took 26.203 s\n"
     ]
    }
   ],
   "source": [
    "pybamm.set_logging_level(\"NOTICE\")\n",
    "sim.solve();"
   ]
  },
  {
   "cell_type": "code",
   "execution_count": 5,
   "metadata": {},
   "outputs": [],
   "source": [
    "callback = pybamm.callbacks.LoggingCallback(\"output.log\")\n",
    "sim.solve(callbacks=callback);"
   ]
  },
  {
   "cell_type": "code",
   "execution_count": 6,
   "metadata": {},
   "outputs": [
    {
     "data": {
      "text/plain": [
       "pybamm.callbacks.LoggingCallback"
      ]
     },
     "execution_count": 6,
     "metadata": {},
     "output_type": "execute_result"
    }
   ],
   "source": [
    "type(callback)"
   ]
  },
  {
   "cell_type": "code",
   "execution_count": 7,
   "metadata": {},
   "outputs": [],
   "source": [
    "class CustomCallback(pybamm.callbacks.Callback):\n",
    "    def on_experiment_end(self, logs):\n",
    "        print(f\"We are at the end of the simulation. Logs are {logs}\")"
   ]
  },
  {
   "cell_type": "code",
   "execution_count": 8,
   "metadata": {},
   "outputs": [
    {
     "name": "stderr",
     "output_type": "stream",
     "text": [
      "2022-10-26 15:22:26.082 - [NOTICE] callbacks.on_cycle_start(174): Cycle 1/3 (28.700 us elapsed) --------------------\n",
      "2022-10-26 15:22:26.083 - [NOTICE] callbacks.on_step_start(182): Cycle 1/3, step 1/3: Discharge at C/5 for 10 hours or until 3.3 V\n",
      "2022-10-26 15:22:29.294 - [NOTICE] callbacks.on_step_start(182): Cycle 1/3, step 2/3: Charge at 1 A until 4.1 V\n",
      "2022-10-26 15:22:31.826 - [NOTICE] callbacks.on_step_start(182): Cycle 1/3, step 3/3: Hold at 4.1 V until 10 mA\n",
      "2022-10-26 15:22:34.562 - [NOTICE] callbacks.on_cycle_start(174): Cycle 2/3 (8.480 s elapsed) --------------------\n",
      "2022-10-26 15:22:34.563 - [NOTICE] callbacks.on_step_start(182): Cycle 2/3, step 1/3: Discharge at C/5 for 10 hours or until 3.3 V\n",
      "2022-10-26 15:22:37.298 - [NOTICE] callbacks.on_step_start(182): Cycle 2/3, step 2/3: Charge at 1 A until 4.1 V\n",
      "2022-10-26 15:22:39.693 - [NOTICE] callbacks.on_step_start(182): Cycle 2/3, step 3/3: Hold at 4.1 V until 10 mA\n",
      "2022-10-26 15:22:42.374 - [NOTICE] callbacks.on_cycle_start(174): Cycle 3/3 (16.292 s elapsed) --------------------\n",
      "2022-10-26 15:22:42.374 - [NOTICE] callbacks.on_step_start(182): Cycle 3/3, step 1/3: Discharge at C/5 for 10 hours or until 3.3 V\n",
      "2022-10-26 15:22:45.136 - [NOTICE] callbacks.on_step_start(182): Cycle 3/3, step 2/3: Charge at 1 A until 4.1 V\n",
      "2022-10-26 15:22:47.801 - [NOTICE] callbacks.on_step_start(182): Cycle 3/3, step 3/3: Hold at 4.1 V until 10 mA\n",
      "2022-10-26 15:22:50.439 - [NOTICE] callbacks.on_experiment_end(222): Finish experiment simulation, took 24.357 s\n"
     ]
    },
    {
     "name": "stdout",
     "output_type": "stream",
     "text": [
      "We are at the end of the simulation. Logs are {'stopping conditions': {'voltage': None, 'capacity': None}, 'cycle number': (3, 3), 'elapsed time': pybamm.TimerTime(24.3566414), 'step number': (3, 3), 'step operating conditions': 'Hold at 4.1 V until 10 mA', 'termination': 'event: Current cut-off (negative) [A] [experiment]', 'summary variables': {'Minimum measured discharge capacity [A.h]': 0.4035610768223854, 'Maximum measured discharge capacity [A.h]': 4.4737261006997215, 'Measured capacity [A.h]': 4.070165023877336, 'Minimum voltage [V]': 3.300009999999999, 'Maximum voltage [V]': 4.1, 'Positive electrode capacity [A.h]': 8.7323185203129, 'Change in positive electrode capacity [A.h]': 0.0, 'Loss of active material in positive electrode [%]': 0.0, 'Change in loss of active material in positive electrode [%]': 0.0, 'Loss of lithium inventory [%]': 0.0, 'Change in loss of lithium inventory [%]': 0.0, 'Loss of lithium inventory, including electrolyte [%]': 7.771561172376096e-14, 'Change in loss of lithium inventory, including electrolyte [%]': 1.4432899320127035e-13, 'Total lithium [mol]': 0.2893338150923998, 'Change in total lithium [mol]': -4.440892098500626e-16, 'Total lithium in electrolyte [mol]': 0.005367718199999733, 'Change in total lithium in electrolyte [mol]': -4.692427002517263e-16, 'Total lithium in positive electrode [mol]': 0.1030269928758144, 'Change in total lithium in positive electrode [mol]': -3.704120343783757e-12, 'Total lithium in particles [mol]': 0.28396609689240004, 'Change in total lithium in particles [mol]': 0.0, 'Total lithium lost [mol]': 2.220446049250313e-16, 'Change in total lithium lost [mol]': 4.440892098500626e-16, 'Total lithium lost from particles [mol]': 0.0, 'Change in total lithium lost from particles [mol]': 0.0, 'Total lithium lost from electrolyte [mol]': 2.671474153004283e-16, 'Change in total lithium lost from electrolyte [mol]': 4.692427002517263e-16, 'Loss of lithium to SEI [mol]': 0.0, 'Change in loss of lithium to SEI [mol]': 0.0, 'Loss of capacity to SEI [A.h]': 0.0, 'Change in loss of capacity to SEI [A.h]': 0.0, 'Total lithium lost to side reactions [mol]': 0.0, 'Change in total lithium lost to side reactions [mol]': 0.0, 'Total capacity lost to side reactions [A.h]': 0.0, 'Change in total capacity lost to side reactions [A.h]': 0.0, 'Local ECM resistance [Ohm]': -0.04534201210821036, 'Change in local ECM resistance [Ohm]': -0.08319669180459603, 'Negative electrode capacity [A.h]': 5.827615068509378, 'Change in negative electrode capacity [A.h]': 0.0, 'Loss of active material in negative electrode [%]': 0.0, 'Change in loss of active material in negative electrode [%]': 0.0, 'Total lithium in negative electrode [mol]': 0.1809391040165856, 'Change in total lithium in negative electrode [mol]': 3.704064832632525e-12, 'Loss of lithium to lithium plating [mol]': 0.0, 'Change in loss of lithium to lithium plating [mol]': 0.0, 'Loss of capacity to lithium plating [A.h]': 0.0, 'Change in loss of capacity to lithium plating [A.h]': 0.0, 'Loss of lithium to SEI on cracks [mol]': 0.0, 'Change in loss of lithium to SEI on cracks [mol]': 0.0, 'Loss of capacity to SEI on cracks [A.h]': 0.0, 'Change in loss of capacity to SEI on cracks [A.h]': 0.0, 'C': 5.153154978862174, 'Capacity [A.h]': 5.153154978862174, 'x_100': 0.9106121196114553, 'y_100': 0.2638491800715492, 'x_0': 0.02634730145141194, 'y_0': 0.8539736661258582, 'Un(x_100)': 0.09200991198467501, 'Up(y_100)': 4.292009911984677, 'Un(x_0)': 1.1054311043614165, 'Up(y_0)': 3.6054311043614162, 'Up(y_0) - Un(x_0)': 2.5, 'Up(y_100) - Un(x_100)': 4.200000000000002, 'n_Li_100': 0.28396609689240004, 'n_Li_0': 0.28396609689240004, 'n_Li': 0.28396609689240004, 'C_n': 5.827615068509378, 'C_p': 8.7323185203129, 'C_n * (x_100 - x_0)': 5.153154978862174, 'C_p * (y_100 - y_0)': 5.153154978862174}}\n"
     ]
    }
   ],
   "source": [
    "rioCall = CustomCallback()\n",
    "sim.solve(callbacks=rioCall);"
   ]
  },
  {
   "cell_type": "code",
   "execution_count": 14,
   "metadata": {},
   "outputs": [
    {
     "name": "stdout",
     "output_type": "stream",
     "text": [
      "['__class__', '__delattr__', '__dict__', '__dir__', '__doc__', '__eq__', '__format__', '__ge__', '__getattribute__', '__gt__', '__hash__', '__init__', '__init_subclass__', '__le__', '__lt__', '__module__', '__ne__', '__new__', '__reduce__', '__reduce_ex__', '__repr__', '__setattr__', '__sizeof__', '__str__', '__subclasshook__', '__weakref__', 'on_cycle_end', 'on_cycle_start', 'on_experiment_end', 'on_experiment_error', 'on_experiment_infeasible', 'on_experiment_start', 'on_step_end', 'on_step_start']\n",
      "<bound method Callback.on_experiment_infeasible of <__main__.CustomCallback object at 0x000001C957F102E0>>\n"
     ]
    }
   ],
   "source": [
    "type(rioCall)\n",
    "print(dir(rioCall))\n",
    "print(rioCall.on_experiment_infeasible)"
   ]
  },
  {
   "cell_type": "code",
   "execution_count": 17,
   "metadata": {},
   "outputs": [
    {
     "name": "stderr",
     "output_type": "stream",
     "text": [
      "2022-10-26 15:38:25.183 - [NOTICE] callbacks.on_cycle_start(174): Cycle 1/3 (31.600 us elapsed) --------------------\n",
      "2022-10-26 15:38:25.184 - [NOTICE] callbacks.on_step_start(182): Cycle 1/3, step 1/3: Discharge at C/5 for 10 hours or until 3.3 V\n",
      "2022-10-26 15:38:28.377 - [NOTICE] callbacks.on_step_start(182): Cycle 1/3, step 2/3: Charge at 1 A until 4.1 V\n",
      "2022-10-26 15:38:30.827 - [NOTICE] callbacks.on_step_start(182): Cycle 1/3, step 3/3: Hold at 4.1 V until 10 mA\n",
      "2022-10-26 15:38:33.483 - [NOTICE] callbacks.on_cycle_start(174): Cycle 2/3 (8.301 s elapsed) --------------------\n",
      "2022-10-26 15:38:33.484 - [NOTICE] callbacks.on_step_start(182): Cycle 2/3, step 1/3: Discharge at C/5 for 10 hours or until 3.3 V\n",
      "2022-10-26 15:38:36.145 - [NOTICE] callbacks.on_step_start(182): Cycle 2/3, step 2/3: Charge at 1 A until 4.1 V\n",
      "2022-10-26 15:38:38.482 - [NOTICE] callbacks.on_step_start(182): Cycle 2/3, step 3/3: Hold at 4.1 V until 10 mA\n",
      "2022-10-26 15:38:41.119 - [NOTICE] callbacks.on_cycle_start(174): Cycle 3/3 (15.937 s elapsed) --------------------\n",
      "2022-10-26 15:38:41.120 - [NOTICE] callbacks.on_step_start(182): Cycle 3/3, step 1/3: Discharge at C/5 for 10 hours or until 3.3 V\n",
      "2022-10-26 15:38:43.809 - [NOTICE] callbacks.on_step_start(182): Cycle 3/3, step 2/3: Charge at 1 A until 4.1 V\n",
      "2022-10-26 15:38:46.289 - [NOTICE] callbacks.on_step_start(182): Cycle 3/3, step 3/3: Hold at 4.1 V until 10 mA\n",
      "2022-10-26 15:38:48.929 - [NOTICE] callbacks.on_experiment_end(222): Finish experiment simulation, took 23.747 s\n"
     ]
    }
   ],
   "source": [
    "class RioCallback(pybamm.callbacks.Callback):\n",
    "    def __init__(self, logfile=None):\n",
    "        self.logfile = logfile\n",
    "        self.success  = True\n",
    "        if logfile is None:\n",
    "            # Use pybamm's logger, which prints to command line\n",
    "            self.logger = pybamm.logger\n",
    "        else:\n",
    "            # Use a custom logger, this will have its own level so set it to the same\n",
    "            # level as the pybamm logger (users can override this)\n",
    "            self.logger = pybamm.get_new_logger(__name__, logfile)\n",
    "            self.logger.setLevel(pybamm.logger.level)\n",
    "    \n",
    "    def on_experiment_error(self, logs):\n",
    "        self.success  = False\n",
    "    def on_experiment_infeasible(self, logs):\n",
    "        self.success  = False\n",
    "rioCall = RioCallback()\n",
    "sim.solve(callbacks=rioCall);"
   ]
  },
  {
   "cell_type": "code",
   "execution_count": 18,
   "metadata": {},
   "outputs": [
    {
     "data": {
      "text/plain": [
       "True"
      ]
     },
     "execution_count": 18,
     "metadata": {},
     "output_type": "execute_result"
    }
   ],
   "source": [
    "rioCall.success"
   ]
  }
 ],
 "metadata": {
  "kernelspec": {
   "display_name": "Python 3.9.6 ('envPBGEM')",
   "language": "python",
   "name": "python3"
  },
  "language_info": {
   "codemirror_mode": {
    "name": "ipython",
    "version": 3
   },
   "file_extension": ".py",
   "mimetype": "text/x-python",
   "name": "python",
   "nbconvert_exporter": "python",
   "pygments_lexer": "ipython3",
   "version": "3.9.6"
  },
  "orig_nbformat": 4,
  "vscode": {
   "interpreter": {
    "hash": "83fab7fbb3a8fe7b5910804f702478ef63e2cc6a08d85072a5d68865ed0fd8c7"
   }
  }
 },
 "nbformat": 4,
 "nbformat_minor": 2
}
