{
 "cells": [
  {
   "cell_type": "markdown",
   "metadata": {},
   "source": [
    "# <a id='toc1_'></a>[Degradation Mode Analysis (DMA) Example Notebook](#toc0_)\n",
    "\n",
    "#### <a id='toc1_1_1_1_'></a>[Niall Kirkaldy, Feb 2022](#toc0_)"
   ]
  },
  {
   "cell_type": "markdown",
   "metadata": {},
   "source": [
    "### <a id='toc1_1_2_'></a>[Notes on how to use this notebook](#toc0_)\n",
    "\n",
    "This notebook was made to demonstrate how to use the DMA functions contained within the \"NDK_functions_Degradation_Modes_composites\" module. There are accompanying full cell datasets at different states of health for the LG M50T cell, as well as 1/2 cell datasets to be used in the fitting process.\n",
    "\n",
    "If the entire set of folders from GitHub are saved locally, you just need to change the directory/filepath listed in the sys.path function below, and everything else should work."
   ]
  },
  {
   "cell_type": "code",
   "execution_count": null,
   "metadata": {},
   "outputs": [],
   "source": [
    "# This is only here to direct python to find where the \n",
    "\n",
    "import sys\n",
    "sys.path.insert(0, r'C:\\Users\\Niall\\OneDrive - Imperial College London\\Work\\GitHub\\Echem-analysis-functions\\Data Analysis Functions')\n",
    "\n",
    "import warnings\n",
    "warnings.simplefilter('ignore', FutureWarning)\n",
    "\n",
    "# Standard python libraries required for this to work\n",
    "import pandas as pd\n",
    "import matplotlib.pyplot as plt\n",
    "from matplotlib.widgets import Slider, Button\n",
    "from matplotlib.lines import Line2D\n",
    "import numpy as np\n",
    "from scipy import optimize\n",
    "\n",
    "# Some modules I wrote which contain functions used for data processing/analysis\n",
    "import NDK_functions_Biologic_loading as bl\n",
    "import NDK_functions_Degradation_Modes as dm\n",
    "import NDK_functions_Degradation_Modes_composites as dmc\n",
    "\n",
    "# To graph the results within the Notebook\n",
    "%matplotlib notebook"
   ]
  },
  {
   "cell_type": "code",
   "execution_count": null,
   "metadata": {},
   "outputs": [],
   "source": [
    "# Load reference 1/2 cell datasets for each electrode/component (1 for PE, 2 for NE)\n",
    "PE_OCV = pd.read_csv('Example Data/Reference half-cell data/LGM50_NMC_PE_lithiation_OCV_v2.csv', index_col=0)\n",
    "NE_LGM50_OCV = pd.read_csv('Example Data/Reference half-cell data/LGM50_SiGr_NE_delithiation_OCV.csv', index_col=0)\n",
    "NE_Gr_OCV = pd.read_csv('Example Data/Reference half-cell data/Gr_NE_OCV_delithiation.csv', index_col=0)\n",
    "NE_Si_OCV = pd.read_csv('Example Data/Reference half-cell data/Si_NE_OCV_delithiation_NEW(pure-Si(100mV)cycle2).csv', index_col=0)"
   ]
  },
  {
   "cell_type": "code",
   "execution_count": null,
   "metadata": {},
   "outputs": [],
   "source": [
    "# Load full cell datasets to be analysed (a BoL dataset and some aged cell datasets)\n",
    "cellBOL = bl.combo_function_fast('Example Data/Reference full-cell data/NDK - LG M50 deg - example - rpt0.mpt')\n",
    "cellMOL = bl.combo_function_fast('Example Data/Reference full-cell data/NDK - LG M50 deg - example - rpt5.mpt')\n",
    "cellEOL = bl.combo_function_fast('Example Data/Reference full-cell data/NDK - LG M50 deg - example - rpt10.mpt')\n",
    "cell_extraDeg = bl.combo_function_fast(\n",
    "    'Example Data/Reference full-cell data/NDK - LG M50 deg - extra_degraded_example.mpt')\n",
    "# combine the full cell data into a list\n",
    "cellData = [cellBOL, cellMOL, cellEOL]"
   ]
  },
  {
   "cell_type": "code",
   "execution_count": null,
   "metadata": {
    "scrolled": false
   },
   "outputs": [],
   "source": [
    "# Show some of the data (not necessary, but useful to check it has loaded ok)\n",
    "cellBOL.plot('Time (s)', 'Voltage (V)')"
   ]
  },
  {
   "cell_type": "code",
   "execution_count": null,
   "metadata": {},
   "outputs": [],
   "source": [
    "# Plot of the discharge voltage curves for the 3 datasets being analysed\n",
    "fig_V_curves, ax = plt.subplots()\n",
    "\n",
    "for cell, label_name in zip(cellData, ['BoL', 'MoL', 'EoL']):\n",
    "    data_to_plot = cell[cell['Current (mA)'] < 0]\n",
    "    data_to_plot.plot('Charge (mA.h)', 'Voltage (V)', ax=ax, label=label_name)\n",
    "\n",
    "cell_extraDeg_plot = cell_extraDeg[cell_extraDeg['Current (mA)'] < 0]\n",
    "cell_extraDeg_plot.plot('Charge (mA.h)', 'Voltage (V)', ax=ax, label='Extra deg.')\n",
    "ax.set_ylabel('Voltage (V)')\n",
    "\n",
    "fig_V_curves.tight_layout()"
   ]
  },
  {
   "cell_type": "markdown",
   "metadata": {},
   "source": [
    "## <a id='toc1_2_'></a>[Traditional DMA (using full cell data alongside 1 NE and 1 PE curve)](#toc0_)\n",
    "\n",
    "\n",
    "This first section does 'traditional' OCV fitting to determine the degradation modes. These functions are contained within NDK_functions_Degradation_Modes.\n",
    "\n",
    "The OCV-fitting process involves using individual potential vs SOC datasets for each electrode (PE and NE) to recreate the full cell voltage curve. The optimisation function adjusts 4 variables (upper and lower lithiation fractions of each electrode) to change the calculated full cell voltage curve until it matches the measured full cell curve. The final values of those 4 variables can then be used to calculate the capacities of the PE and NE, as well as the 'offset' between them.\n",
    "\n",
    "By repeating the process using full cell voltage curves at different SoHs, we can track how those capacities/offsets change as the cell ages. Those changes are then called degradation modes.\n",
    "\n",
    "A limitation of using this 'traditional' method is that it assumes that there are no changes to the 1/2 potential vs SoH curves as the cell ages, and that ageing simply causes them to 'shrink' in the x-axis (capacity). However, this is not necessarily accurate, particularly for cells which have composite electrodes (i.e. more than one active material present in either the PE or NE). In this case, you are better off using the functions contained in NDK_functions_Degradation_Modes_composites instead. Details of this are listed in the second section.\n",
    "\n",
    "-----------------------------------\n",
    "#### <a id='toc1_2_1_1_'></a>[Important note: the 'lithiation fraction' calculated for the PE here is actually 1 - lithiation fraction](#toc0_)\n",
    "i.e. if the PE is Lix[Ni0.8Mn0.1Co0.1O2], then here we are talking about 1-x\n",
    "\n",
    "--------------------------------------"
   ]
  },
  {
   "cell_type": "markdown",
   "metadata": {},
   "source": [
    "### <a id='toc1_2_2_'></a>[Adjust values for the 4 fitting parameters and see how the full cell voltage curve changes](#toc0_)\n",
    "\n",
    "Here we make an interactive plot which displays a calculated full cell voltage curve based on input values for our 4 fitting parameters (upper/lower lithitation fractions of each electrode). The calculated voltage curve is plotted alongside the experimentally measured curve to aid understanding.\n"
   ]
  },
  {
   "cell_type": "code",
   "execution_count": null,
   "metadata": {},
   "outputs": [],
   "source": [
    "# Format some data for the graph below. This is not required for the 'DM_calc' function.\n",
    "discharge_cellBOL = cellBOL.copy()\n",
    "\n",
    "discharge_cellBOL = discharge_cellBOL[discharge_cellBOL['Current (mA)']<0].loc[:, ['Charge (mA.h)', 'Voltage (V)']]\n",
    "discharge_cellBOL.reset_index(inplace=True, drop=True)\n",
    "discharge_cellBOL['SOC (%)'] = 1 - discharge_cellBOL['Charge (mA.h)']/discharge_cellBOL['Charge (mA.h)'].max()"
   ]
  },
  {
   "cell_type": "code",
   "execution_count": null,
   "metadata": {},
   "outputs": [],
   "source": [
    "\"\"\"An interactive plot showing how changing the lithiation fractions of each electrode affects the voltage curve.\n",
    "Move the slider bars beneath the graph to adjust each parameter and observe the outcome on the graph\"\"\"\n",
    "\n",
    "# Define initial parameters\n",
    "init_PE_lo = 0.1\n",
    "init_NE_lo = 0.01\n",
    "init_PE_hi = 0.98\n",
    "init_NE_hi = 0.88\n",
    "\n",
    "cell_cap = discharge_cellBOL['Charge (mA.h)'].max()\n",
    "cell_z_values = discharge_cellBOL['SOC (%)']\n",
    "\n",
    "PE_x_values = PE_OCV['z']*cell_cap / (init_PE_hi - init_PE_lo)\n",
    "PE_cap = PE_x_values.max()\n",
    "PE_y_values = PE_OCV['OCV']\n",
    "NE_caps = (NE_LGM50_OCV['z']*cell_cap / (init_NE_hi - init_NE_lo))\n",
    "NE_cap = NE_caps.max()\n",
    "NE_x_values = NE_caps + (init_PE_lo * PE_x_values.max()) - (init_NE_lo * NE_caps.max())\n",
    "NE_y_values = NE_LGM50_OCV['OCV']\n",
    "cell_x_values = cell_z_values * cell_cap + (init_PE_lo * PE_x_values.max())\n",
    "cell_curve, _, _ = dm.calc_full_cell_OCV_standalone([NE_LGM50_OCV, PE_OCV], cell_z_values, init_PE_lo, init_NE_lo, init_PE_hi, init_NE_hi)\n",
    "cell_y_values = cell_curve['OCV']\n",
    "\n",
    "cell_meas_x_vals = cell_x_values\n",
    "cell_meas_y_vals = discharge_cellBOL['Voltage (V)']\n",
    "\n",
    "fig_DM_example_slider, ax = plt.subplots()\n",
    "\n",
    "line_PE, = plt.plot(PE_x_values, PE_y_values, lw=2, label='PE')\n",
    "line_NE, = plt.plot(NE_x_values, NE_y_values, lw=2, label='NE')\n",
    "line_cell_meas, = plt.plot(cell_meas_x_vals, cell_meas_y_vals, lw=2, label='Cell(meas.)', c='k')\n",
    "line_cell, = plt.plot(cell_x_values, cell_y_values, lw=2, label='Cell', ls='--', c='r')\n",
    "lo_line = plt.axvline(cell_x_values.min())\n",
    "hi_line = plt.axvline(cell_x_values.max())\n",
    "\n",
    "ax.set_xlabel('Capacity (mA h)')\n",
    "ax.set_ylabel('Voltage (V)')\n",
    "\n",
    "ann = ax.annotate(f'PE_cap: {round(PE_cap, 2)}\\n NE_cap: {round(NE_cap, 2)}',\n",
    "            xy=(0.25,0.25), xycoords='axes fraction',\n",
    "               xytext=(0.25,0.25), textcoords='axes fraction', horizontalalignment='left',verticalalignment='bottom', fontsize=11)\n",
    "\n",
    "# adjust the main plot to make room for the sliders\n",
    "plt.subplots_adjust(bottom=0.35)\n",
    "\n",
    "# Make a horizontal slider to control the frequency.\n",
    "ax_PE_lo = plt.axes([0.15, 0.2, 0.65, 0.03])\n",
    "PE_lo_slider = Slider(\n",
    "    ax=ax_PE_lo,\n",
    "    label='PE_lo',\n",
    "    valmin=0.001,\n",
    "    valmax=1.00,\n",
    "    valinit=init_PE_lo,\n",
    ")\n",
    "\n",
    "ax_NE_lo = plt.axes([0.15, 0.15, 0.65, 0.03])\n",
    "NE_lo_slider = Slider(\n",
    "    ax=ax_NE_lo,\n",
    "    label='NE_lo',\n",
    "    valmin=0.001,\n",
    "    valmax=1.00,\n",
    "    valinit=init_NE_lo,\n",
    ")\n",
    "\n",
    "ax_PE_hi = plt.axes([0.15, 0.1, 0.65, 0.03])\n",
    "PE_hi_slider = Slider(\n",
    "    ax=ax_PE_hi,\n",
    "    label='PE_hi',\n",
    "    valmin=0.001,\n",
    "    valmax=1.00,\n",
    "    valinit=init_PE_hi,\n",
    ")\n",
    "\n",
    "ax_NE_hi = plt.axes([0.15, 0.05, 0.65, 0.03])\n",
    "NE_hi_slider = Slider(\n",
    "    ax=ax_NE_hi,\n",
    "    label='NE_hi',\n",
    "    valmin=0.001,\n",
    "    valmax=1.00,\n",
    "    valinit=init_NE_hi,\n",
    ")\n",
    "\n",
    " \n",
    "# The function to be called anytime a slider's value changes\n",
    "def update(val):\n",
    "    PE_x_values_update = PE_OCV['z']*cell_cap / (PE_hi_slider.val - PE_lo_slider.val)\n",
    "    PE_capacity = PE_x_values_update.max()\n",
    "    line_PE.set_data(PE_x_values_update, PE_y_values)\n",
    "    NE_caps_update = (NE_LGM50_OCV['z']*cell_cap / (NE_hi_slider.val - NE_lo_slider.val))\n",
    "    NE_capacity = NE_caps_update.max()\n",
    "    NE_x_values_update = NE_caps_update + (PE_lo_slider.val * PE_x_values_update.max()) - (NE_lo_slider.val * NE_caps_update.max())\n",
    "    line_NE.set_data(NE_x_values_update, NE_y_values)\n",
    "    cell_curve_update, _, _ = dm.calc_full_cell_OCV_standalone([NE_LGM50_OCV, PE_OCV], cell_z_values, PE_lo_slider.val, NE_lo_slider.val, PE_hi_slider.val, NE_hi_slider.val)\n",
    "    cell_x_values_update = cell_z_values * cell_cap + (PE_lo_slider.val * PE_x_values_update.max())\n",
    "    cell_y_values_update = cell_curve_update['OCV']\n",
    "    line_cell_meas.set_data(cell_x_values_update, cell_meas_y_vals)\n",
    "    line_cell.set_data(cell_x_values_update, cell_y_values_update)\n",
    "    lo_line.set_xdata(cell_x_values_update.min())\n",
    "    hi_line.set_xdata(cell_x_values_update.max())\n",
    "    ann.set_text(f'PE_cap: {round(PE_capacity, 2)}\\n NE_cap: {round(NE_capacity, 2)}')\n",
    "    fig.draw()\n",
    "\n",
    "\n",
    "# register the update function with each slider\n",
    "PE_lo_slider.on_changed(update)\n",
    "NE_lo_slider.on_changed(update)\n",
    "PE_hi_slider.on_changed(update)\n",
    "NE_hi_slider.on_changed(update)\n",
    "\n",
    "#lines = [Line2D([0], [0], color=c, linewidth=3) for c in ['C0', 'C1']]\n",
    "#labels = ['Calculated', 'Measured']\n",
    "#ax.get_legend().remove()\n",
    "ax.legend(loc='right')\n",
    "ax.set_xlim(-200, 7000)\n",
    "ax.grid(True)\n",
    "\n",
    "plt.show()"
   ]
  },
  {
   "cell_type": "code",
   "execution_count": null,
   "metadata": {},
   "outputs": [],
   "source": [
    "\"\"\"An interactive plot showing how changing the lithiation fractions of each electrode affects the voltage curve.\n",
    "Move the slider bars beneath the graph to adjust each parameter and observe the outcome on the graph\"\"\"\n",
    "\n",
    "# Define initial parameters\n",
    "init_PE_lo = 0.1\n",
    "init_NE_lo = 0.01\n",
    "init_PE_hi = 0.98\n",
    "init_NE_hi = 0.88\n",
    "\n",
    "x_values = discharge_cellBOL['SOC (%)']\n",
    "cell_curve, _, _ = dm.calc_full_cell_OCV_standalone([NE_LGM50_OCV, PE_OCV], x_values, init_PE_lo, init_NE_lo, init_PE_hi, init_NE_hi)\n",
    "y_values = cell_curve['OCV']\n",
    "\n",
    "fig_DM_example_slider, ax = plt.subplots()\n",
    "\n",
    "line, = plt.plot(x_values, y_values, lw=2, label='Calculated')\n",
    "discharge_cellBOL.plot('SOC (%)', 'Voltage (V)', ax=ax, label='Measured')\n",
    "ax.set_xlabel('SoC (%)')\n",
    "ax.set_ylabel('Voltage (V)')\n",
    "\n",
    "# adjust the main plot to make room for the sliders\n",
    "plt.subplots_adjust(bottom=0.35)\n",
    "\n",
    "# Make a horizontal slider to control the frequency.\n",
    "ax_PE_lo = plt.axes([0.15, 0.2, 0.65, 0.03])\n",
    "PE_lo_slider = Slider(\n",
    "    ax=ax_PE_lo,\n",
    "    label='PE_lo',\n",
    "    valmin=0.001,\n",
    "    valmax=1.00,\n",
    "    valinit=init_PE_lo,\n",
    ")\n",
    "\n",
    "ax_NE_lo = plt.axes([0.15, 0.15, 0.65, 0.03])\n",
    "NE_lo_slider = Slider(\n",
    "    ax=ax_NE_lo,\n",
    "    label='NE_lo',\n",
    "    valmin=0.001,\n",
    "    valmax=1.00,\n",
    "    valinit=init_NE_lo,\n",
    ")\n",
    "\n",
    "ax_PE_hi = plt.axes([0.15, 0.1, 0.65, 0.03])\n",
    "PE_hi_slider = Slider(\n",
    "    ax=ax_PE_hi,\n",
    "    label='PE_hi',\n",
    "    valmin=0.001,\n",
    "    valmax=1.00,\n",
    "    valinit=init_PE_hi,\n",
    ")\n",
    "\n",
    "ax_NE_hi = plt.axes([0.15, 0.05, 0.65, 0.03])\n",
    "NE_hi_slider = Slider(\n",
    "    ax=ax_NE_hi,\n",
    "    label='NE_hi',\n",
    "    valmin=0.001,\n",
    "    valmax=1.00,\n",
    "    valinit=init_NE_hi,\n",
    ")\n",
    "\n",
    " \n",
    "# The function to be called anytime a slider's value changes\n",
    "def update(val):\n",
    "    cell_curve_update, _, _ = dm.calc_full_cell_OCV_standalone([NE_LGM50_OCV, PE_OCV], x_values, PE_lo_slider.val, NE_lo_slider.val, PE_hi_slider.val, NE_hi_slider.val)\n",
    "    y_values_update = cell_curve_update['OCV']\n",
    "    line.set_ydata(y_values_update)\n",
    "    fig.canvas.draw_idle()\n",
    "\n",
    "\n",
    "# register the update function with each slider\n",
    "PE_lo_slider.on_changed(update)\n",
    "NE_lo_slider.on_changed(update)\n",
    "PE_hi_slider.on_changed(update)\n",
    "NE_hi_slider.on_changed(update)\n",
    "\n",
    "lines = [Line2D([0], [0], color=c, linewidth=3) for c in ['C0', 'C1']]\n",
    "labels = ['Calculated', 'Measured']\n",
    "ax.get_legend().remove()\n",
    "ax.legend(lines, labels)\n",
    "\n",
    "plt.show()"
   ]
  },
  {
   "cell_type": "markdown",
   "metadata": {},
   "source": [
    "### <a id='toc1_2_3_'></a>[Perform the OCV fitting/optimisation process to find the 'best' parameters, then plug into the above function](#toc0_)\n",
    "\n",
    "Here we use the OCV-fitting function called 'stoich_OCV_fit' to determine values for the 4 parameters which result in the best fit to the experimental data (via a non-linear least squares optimisation).\n",
    "\n",
    "We then plug those fitted parameters into the full cell voltage calculation function used above ('calc_full_cell_OCV_standalone') and plot the results alongside the experimentally measured data."
   ]
  },
  {
   "cell_type": "code",
   "execution_count": null,
   "metadata": {},
   "outputs": [],
   "source": [
    "OCV_fitted_params, _, _ = dm.stoich_OCV_fit(NE_LGM50_OCV, PE_OCV, discharge_cellBOL)\n",
    "\n",
    "cell_curve, _, _ = dm.calc_full_cell_OCV_standalone([NE_LGM50_OCV, PE_OCV], discharge_cellBOL['SOC (%)'], *OCV_fitted_params)\n",
    "\n",
    "ax=cell_curve.plot('SOC (%)', 'OCV', label='Calculated')\n",
    "discharge_cellBOL.plot('SOC (%)', 'Voltage (V)', ax=ax, label='Measured')"
   ]
  },
  {
   "cell_type": "code",
   "execution_count": null,
   "metadata": {},
   "outputs": [],
   "source": [
    "print(f'PE_lo: {OCV_fitted_params[0]}\\n'\n",
    "      f'NE_lo: {OCV_fitted_params[1]}\\n'\n",
    "      f'PE_hi: {OCV_fitted_params[2]}\\n'\n",
    "      f'NE_hi: {OCV_fitted_params[3]}')"
   ]
  },
  {
   "cell_type": "markdown",
   "metadata": {},
   "source": [
    "### <a id='toc1_2_4_'></a>[Repeat, but use EoL data instead of BoL](#toc0_)\n",
    "\n",
    "Here we copy what was done above, but using the end of life full cell data instead of the beginning of life stuff."
   ]
  },
  {
   "cell_type": "code",
   "execution_count": null,
   "metadata": {},
   "outputs": [],
   "source": [
    "# Format some data for the graph below. This is not required for the 'DM_calc' function.\n",
    "discharge_cellEOL = cellEOL.copy()\n",
    "\n",
    "discharge_cellEOL = discharge_cellEOL[discharge_cellEOL['Current (mA)']<0].loc[:, ['Charge (mA.h)', 'Voltage (V)']]\n",
    "discharge_cellEOL.reset_index(inplace=True, drop=True)\n",
    "discharge_cellEOL['SOC (%)'] = 1 - discharge_cellEOL['Charge (mA.h)']/discharge_cellEOL['Charge (mA.h)'].max()"
   ]
  },
  {
   "cell_type": "code",
   "execution_count": null,
   "metadata": {},
   "outputs": [],
   "source": [
    "OCV_fitted_params_EoL, _, _ = dm.stoich_OCV_fit(NE_LGM50_OCV, PE_OCV, discharge_cellEOL)\n",
    "\n",
    "cell_curve_EoL, _, _ = dm.calc_full_cell_OCV_standalone([NE_LGM50_OCV, PE_OCV], discharge_cellEOL['SOC (%)'], *OCV_fitted_params_EoL)\n",
    "\n",
    "ax=cell_curve_EoL.plot('SOC (%)', 'OCV', label='Calculated')\n",
    "discharge_cellEOL.plot('SOC (%)', 'Voltage (V)', ax=ax, label='Measured')"
   ]
  },
  {
   "cell_type": "code",
   "execution_count": null,
   "metadata": {},
   "outputs": [],
   "source": [
    "print(f'PE_lo: {OCV_fitted_params_EoL[0]}\\n'\n",
    "      f'NE_lo: {OCV_fitted_params_EoL[1]}\\n'\n",
    "      f'PE_hi: {OCV_fitted_params_EoL[2]}\\n'\n",
    "      f'NE_hi: {OCV_fitted_params_EoL[3]}')"
   ]
  },
  {
   "cell_type": "markdown",
   "metadata": {},
   "source": [
    "### <a id='toc1_2_5_'></a>[Repeat, but for a cell which has had lots of silicon loss](#toc0_)\n",
    "\n",
    "Here we copy what was done above, but using the data for a cell which has been cycled specifically to degrade the silicon content."
   ]
  },
  {
   "cell_type": "code",
   "execution_count": null,
   "metadata": {},
   "outputs": [],
   "source": [
    "# Format some data for the graph below. This is not required for the 'DM_calc' function.\n",
    "discharge_cellExtra = cell_extraDeg.copy()\n",
    "\n",
    "discharge_cellExtra = discharge_cellExtra[discharge_cellExtra['Current (mA)']<0].loc[:, ['Charge (mA.h)', 'Voltage (V)']]\n",
    "discharge_cellExtra.reset_index(inplace=True, drop=True)\n",
    "discharge_cellExtra['SOC (%)'] = 1 - discharge_cellExtra['Charge (mA.h)']/discharge_cellExtra['Charge (mA.h)'].max()"
   ]
  },
  {
   "cell_type": "code",
   "execution_count": null,
   "metadata": {},
   "outputs": [],
   "source": [
    "OCV_fitted_params_Extra, _, _ = dm.stoich_OCV_fit(NE_LGM50_OCV, PE_OCV, discharge_cellExtra)\n",
    "\n",
    "cell_curve_Extra, _, _ = dm.calc_full_cell_OCV_standalone([NE_LGM50_OCV, PE_OCV], discharge_cellExtra['SOC (%)'], *OCV_fitted_params_Extra)\n",
    "\n",
    "ax=cell_curve_Extra.plot('SOC (%)', 'OCV', label='Calculated')\n",
    "discharge_cellExtra.plot('SOC (%)', 'Voltage (V)', ax=ax, label='Measured')"
   ]
  },
  {
   "cell_type": "code",
   "execution_count": null,
   "metadata": {},
   "outputs": [],
   "source": [
    "print(f'PE_lo: {OCV_fitted_params_Extra[0]}\\n'\n",
    "      f'NE_lo: {OCV_fitted_params_Extra[1]}\\n'\n",
    "      f'PE_hi: {OCV_fitted_params_Extra[2]}\\n'\n",
    "      f'NE_hi: {OCV_fitted_params_Extra[3]}')"
   ]
  },
  {
   "cell_type": "markdown",
   "metadata": {},
   "source": [
    "### <a id='toc1_2_6_'></a>[The results here are poor](#toc0_)\n",
    "\n",
    "This shows that we cannot recreate the end of life voltage curve using the beginning of life 1/2 cell data. As discussed in the intro, this is largely due to the fact that our cell has a composite negative electrode (graphite and silicon). The two components of the electrode age at different rates, leading to changes in the potential vs SoC curve. This cannot be accounted for using the functions above, but can be if we use the functions contained in 'NDK_functions_Degradation_Modes_composites' (see below in section 2).\n",
    "\n",
    "However, if we wanted to, we coud still use this traditional method to calculate the DMs using the 'DM_calc' function. You do not have to have run any of the previous code to run this function.\n"
   ]
  },
  {
   "cell_type": "markdown",
   "metadata": {},
   "source": [
    "### <a id='toc1_2_7_'></a>[DMA for the cell at different SoHs](#toc0_)\n",
    "\n",
    "Although the fit of the degraded cell is clearly poor in this case, we can still perform the DMA. The results are obviously inaccurate in this case, as demostrated by negative values of LAM-PE. However, for a cell without a composite electrode the fit should be decent.\n",
    "\n",
    "Here we use the 'DM_calc' function on the 3 full-cell datasets (BoL, MoL, EoL) to determine the DMs. There are two outputs from this function, both of which are pandas DataFrame objects. The first lists the relevant DMs, with one row for each full-cell dataset analysed. The second contains the individual capacities etc from each component (i.e. one step further back than the DMs).\n",
    "\n",
    "These are plotted here, with data tables shown underneath."
   ]
  },
  {
   "cell_type": "code",
   "execution_count": null,
   "metadata": {},
   "outputs": [],
   "source": [
    "\n",
    "trad_DMs, trad_stoichs = dm.DM_calc(NE_LGM50_OCV, PE_OCV, cellData[0], cellData[1:])\n",
    "\n",
    "trad_DMs.plot()\n"
   ]
  },
  {
   "cell_type": "code",
   "execution_count": null,
   "metadata": {},
   "outputs": [],
   "source": [
    "trad_DMs"
   ]
  },
  {
   "cell_type": "code",
   "execution_count": null,
   "metadata": {},
   "outputs": [],
   "source": [
    "trad_stoichs"
   ]
  },
  {
   "cell_type": "markdown",
   "metadata": {},
   "source": [
    "## <a id='toc1_3_'></a>[DMA for composites (using full cell data alongside 2 NE and 1 PE curve)](#toc0_)\n",
    "\n",
    "\n",
    "This second section does a modified version of OCV fitting to determine the degradation modes. These functions are contained within NDK_functions_Degradation_Modes.\n",
    "\n",
    "As before, the OCV-fitting process involves adjusting the upper/lower lithitation fractions of each electrode to recreate the full cell voltage curve. However, in this case we don't use a 'fixed' NE potential vs SoC curve, and instead dynamically create a new curve at each stage of the fitting process.\n",
    "\n",
    "The potential vs capacity curve of a composite electrode is the sum of the two components (summing Q as a function of V). We can therefore calculate a composite electrode potential vs capacity curve if we have:\n",
    "* Potential vs SoC curves for the two components (in this case Si and Gr)\n",
    "* The capacity (or capacity fraction) of each component\n",
    "\n",
    "We then have: Q<sub>Comp</sub>(V) = Q<sub>Gr</sub>(V) + Q<sub>Si</sub>(V)\n",
    "\n",
    "and we know that the capacity fractions of graphite and silicon sum to unity: CapFrac<sub>Gr</sub> + CapFrac<sub>Si</sub> = 1\n",
    "\n",
    "We can then make a composite curve for any desired composition, or we can determine the composition of a measured potential vs capacity curve by doing a non-linear least squares optimisation.\n",
    "\n",
    "Whereas previously the full cell optimisation function adjusts 4 variables (upper and lower lithiation fractions of each electrode) to change the calculated full cell voltage curve, here we add in another variable (fraction of Gr). By including this in the optimisation, we allow the NE curve to be updated at each iteration of the fit until the full cell voltage curve matches the measured full cell curve. The final values of those 5 variables can then be used to calculate the capacities of the PE and NE, and 'offset', but also the capacity of each component of the NE.\n",
    "\n",
    "By repeating the process using full cell voltage curves at different SoHs, we can track how those capacities/offsets change as the cell ages. Those changes are then called degradation modes. Instead of just LAM-PE, LAM-NE, and LLI, we now also have LAM-NE-Gr and LAM-NE-Si.\n",
    "\n",
    "By treating the two components of the composite electrode separately, we overcome the limitation of the 'traditional' method in not allowing the 1/2 cell curves to vary as the cell degrades. This results in a better fit for the experimental data, and also gives us better insight into how the different materials are degrading.\n"
   ]
  },
  {
   "cell_type": "markdown",
   "metadata": {},
   "source": [
    "### <a id='toc1_3_1_'></a>[Plot Potential vs Lithiation fraction curves for a range of compositions](#toc0_)\n",
    "\n",
    "Here we calculate V vs z curves for a range of compositions of NE, from pure graphite (Gr_fraction = 1) to pure silicon (Gr_fraction = 0).\n",
    "\n",
    "Alongside these, the experimentally measured V vs z curve of the NE from the LG M50 is plotted for reference."
   ]
  },
  {
   "cell_type": "code",
   "execution_count": null,
   "metadata": {},
   "outputs": [],
   "source": [
    "# The functions used in the next couple of boxes do not need to be used when analysing a full-cell curve\n",
    "Gr_comp_format, Si_comp_format, V_range_format = dmc.format_el_component_data1(\n",
    "    NE_Gr_OCV, NE_Si_OCV)\n",
    "calculated_curves = [\n",
    "    dmc.calc_electrode_curve(\n",
    "    Gr_comp_format, Si_comp_format, \n",
    "    Gr_fraction, V_range_format) \n",
    "    for Gr_fraction in np.arange(0,1.1,0.1)]\n",
    "\n",
    "fig_calc_composite_curves, ax = plt.subplots()\n",
    "\n",
    "for comp_curve, frac in zip(calculated_curves, np.arange(0,1.1,0.1)):\n",
    "    comp_curve.plot(ax=ax, c='C3', alpha=(frac*0.8 + 0.2), label=f'Gr_fract: {frac}')\n",
    "    \n",
    "NE_LGM50_OCV.plot('z', 'OCV', ax=ax, c='k', ls='--', label='LG M50 NE')\n",
    "\n",
    "ax.set_ylabel('Potential vs Li/Li+ (V)')\n",
    "\n",
    "fig_calc_composite_curves.tight_layout()"
   ]
  },
  {
   "cell_type": "code",
   "execution_count": null,
   "metadata": {},
   "outputs": [],
   "source": [
    "fitted_Gr_fraction, _ = dmc.composite_fit(NE_Gr_OCV, NE_Si_OCV, NE_LGM50_OCV)\n",
    "\n",
    "fitted_NE_curve = dmc.calc_electrode_curve(Gr_comp_format, Si_comp_format, fitted_Gr_fraction, V_range_format)\n",
    "\n",
    "fig_fitted_composite_curve, ax = plt.subplots()\n",
    "\n",
    "fitted_NE_curve.plot(ax=ax, c='C3', label='Fitted Curve')    \n",
    "NE_LGM50_OCV.plot('z', 'OCV', ax=ax, c='k', ls='--', label='LG M50 NE')\n",
    "\n",
    "ax.set_ylabel('Potential vs Li/Li+ (V)')\n",
    "ax.annotate(f'Gr_fraction: {fitted_Gr_fraction}',\n",
    "            xy=(0.35,0.2), xycoords='axes fraction',\n",
    "               xytext=(0.35,0.2), textcoords='axes fraction', horizontalalignment='left',verticalalignment='bottom', fontsize=15)\n",
    "\n",
    "\n",
    "fig_fitted_composite_curve.tight_layout()"
   ]
  },
  {
   "cell_type": "markdown",
   "metadata": {},
   "source": [
    "### <a id='toc1_3_2_'></a>[OCV-fitting using separate NE components](#toc0_)"
   ]
  },
  {
   "cell_type": "markdown",
   "metadata": {},
   "source": [
    "Perform the multi-component OCV-fitting, and compare results to the 'traditional' fit and the experimentally measured curves for the beginning of life data.\n",
    "\n",
    "Below you can use the interactive plot to see how adjusting the **5** parameters changes the shape of the full-cell voltage curve.\n"
   ]
  },
  {
   "cell_type": "code",
   "execution_count": null,
   "metadata": {},
   "outputs": [],
   "source": [
    "\"\"\"An interactive plot showing how changing the lithiation fractions of each electrode affects the voltage curve.\n",
    "Move the slider bars beneath the graph to adjust each parameter and observe the outcome on the graph\"\"\"\n",
    "\n",
    "# Define initial parameters\n",
    "init_PE_lo = 0.20\n",
    "init_NE_lo = 0.001\n",
    "init_PE_hi = 0.98\n",
    "init_NE_hi = 0.72\n",
    "init_Gr = 1.0\n",
    "\n",
    "x_values = discharge_cellExtra['SOC (%)']\n",
    "cell_curve, _, _, _ = dmc.calc_full_cell_OCV_multi_standalone(NE_Gr_OCV, NE_Si_OCV, PE_OCV, x_values, init_PE_lo, init_NE_lo, init_PE_hi, init_NE_hi, init_Gr)\n",
    "y_values = cell_curve['OCV']\n",
    "\n",
    "neg_el_curve = dmc.calc_electrode_curve(Gr_comp_format, Si_comp_format, init_Gr, V_range_format)\n",
    "\n",
    "fig_DM_example_slider_2, ax = plt.subplots(3,1, figsize=(8,8))\n",
    "\n",
    "PE_OCV.plot('z', 'OCV', ax=ax[0])\n",
    "ax[0].set_xlabel('1-lithitation fraction')\n",
    "ax[0].set_ylabel('Potential vs Li/Li+ (V)')\n",
    "\n",
    "plt.sca(ax[1])\n",
    "line_NE, = plt.plot(neg_el_curve.index, neg_el_curve['OCV'], lw=2, label='Calculated')\n",
    "ax[1].set_xlabel('lithitation fraction')\n",
    "ax[1].set_ylabel('Potential vs Li/Li+ (V)')\n",
    "\n",
    "plt.sca(ax[2])\n",
    "line, = plt.plot(x_values, y_values, lw=2, label='Calculated')\n",
    "discharge_cellExtra.plot('SOC (%)', 'Voltage (V)', ax=ax[2], label='Measured')\n",
    "ax[2].set_xlabel('SoC (%)')\n",
    "ax[2].set_ylabel('Voltage (V)')\n",
    "\n",
    "# adjust the main plot to make room for the sliders\n",
    "plt.subplots_adjust(bottom=0.31)\n",
    "\n",
    "# Make a horizontal slider to control the frequency.\n",
    "ax_PE_lo = plt.axes([0.15, 0.22, 0.65, 0.03])\n",
    "PE_lo_slider = Slider(\n",
    "    ax=ax_PE_lo,\n",
    "    label='PE_lo',\n",
    "    valmin=0.0001,\n",
    "    valmax=1.00,\n",
    "    valinit=init_PE_lo,\n",
    ")\n",
    "\n",
    "ax_NE_lo = plt.axes([0.15, 0.18, 0.65, 0.03])\n",
    "NE_lo_slider = Slider(\n",
    "    ax=ax_NE_lo,\n",
    "    label='NE_lo',\n",
    "    valmin=0.0001,\n",
    "    valmax=1.00,\n",
    "    valinit=init_NE_lo,\n",
    ")\n",
    "\n",
    "ax_PE_hi = plt.axes([0.15, 0.14, 0.65, 0.03])\n",
    "PE_hi_slider = Slider(\n",
    "    ax=ax_PE_hi,\n",
    "    label='PE_hi',\n",
    "    valmin=0.0001,\n",
    "    valmax=1.00,\n",
    "    valinit=init_PE_hi,\n",
    ")\n",
    "\n",
    "ax_NE_hi = plt.axes([0.15, 0.1, 0.65, 0.03])\n",
    "NE_hi_slider = Slider(\n",
    "    ax=ax_NE_hi,\n",
    "    label='NE_hi',\n",
    "    valmin=0.0001,\n",
    "    valmax=1.00,\n",
    "    valinit=init_NE_hi,\n",
    ")\n",
    "\n",
    "ax_Gr = plt.axes([0.15, 0.06, 0.65, 0.03])\n",
    "Gr_slider = Slider(\n",
    "    ax=ax_Gr,\n",
    "    label='Gr_fract',\n",
    "    valmin=0.0001,\n",
    "    valmax=1.00,\n",
    "    valinit=init_Gr,\n",
    ")\n",
    "\n",
    " \n",
    "# The function to be called anytime a slider's value changes\n",
    "def update(val):\n",
    "    neg_el_curve_update = dmc.calc_electrode_curve(Gr_comp_format, Si_comp_format, Gr_slider.val, V_range_format)\n",
    "    neg_el_curve_update.reset_index(inplace=True)\n",
    "    neg_el_x_update = neg_el_curve_update['z']\n",
    "    neg_el_y_update = neg_el_curve_update['OCV']\n",
    "    line_NE.set_data(neg_el_x_update, neg_el_y_update)\n",
    "    \n",
    "    cell_curve_update, _, _, _ = dmc.calc_full_cell_OCV_multi_standalone(NE_Gr_OCV, NE_Si_OCV, PE_OCV, x_values, PE_lo_slider.val, NE_lo_slider.val, PE_hi_slider.val, NE_hi_slider.val, Gr_slider.val)\n",
    "    y_values_update = cell_curve_update['OCV']\n",
    "    line.set_ydata(y_values_update)\n",
    "    plt.draw()\n",
    "\n",
    "# register the update function with each slider\n",
    "PE_lo_slider.on_changed(update)\n",
    "NE_lo_slider.on_changed(update)\n",
    "PE_hi_slider.on_changed(update)\n",
    "NE_hi_slider.on_changed(update)\n",
    "Gr_slider.on_changed(update)\n",
    "\n",
    "lines = [Line2D([0], [0], color=c, linewidth=3) for c in ['C0', 'C1']]\n",
    "labels = ['Calculated', 'Measured']\n",
    "ax[2].get_legend().remove()\n",
    "ax[2].legend(lines, labels)\n",
    "\n",
    "\n",
    "plt.show()"
   ]
  },
  {
   "cell_type": "code",
   "execution_count": null,
   "metadata": {},
   "outputs": [],
   "source": [
    "\"\"\"An interactive plot showing how changing the lithiation fractions of each electrode affects the voltage curve.\n",
    "Move the slider bars beneath the graph to adjust each parameter and observe the outcome on the graph\"\"\"\n",
    "\n",
    "# Define initial parameters\n",
    "init_PE_lo = 0.20\n",
    "init_NE_lo = 0.001\n",
    "init_PE_hi = 0.98\n",
    "init_NE_hi = 0.72\n",
    "init_Gr = 1.0\n",
    "\n",
    "x_values = discharge_cellExtra['SOC (%)']\n",
    "cell_curve, _, _, _ = dmc.calc_full_cell_OCV_multi_standalone(NE_Gr_OCV, NE_Si_OCV, PE_OCV, x_values, init_PE_lo, init_NE_lo, init_PE_hi, init_NE_hi, init_Gr)\n",
    "y_values = cell_curve['OCV']\n",
    "\n",
    "fig_DM_example_slider_2, ax = plt.subplots()\n",
    "\n",
    "line, = plt.plot(x_values, y_values, lw=2, label='Calculated')\n",
    "discharge_cellExtra.plot('SOC (%)', 'Voltage (V)', ax=ax, label='Measured')\n",
    "ax.set_xlabel('SoC (%)')\n",
    "ax.set_ylabel('Voltage (V)')\n",
    "\n",
    "# adjust the main plot to make room for the sliders\n",
    "plt.subplots_adjust(bottom=0.35)\n",
    "\n",
    "# Make a horizontal slider to control the frequency.\n",
    "ax_PE_lo = plt.axes([0.15, 0.22, 0.65, 0.03])\n",
    "PE_lo_slider = Slider(\n",
    "    ax=ax_PE_lo,\n",
    "    label='PE_lo',\n",
    "    valmin=0.001,\n",
    "    valmax=1.00,\n",
    "    valinit=init_PE_lo,\n",
    ")\n",
    "\n",
    "ax_NE_lo = plt.axes([0.15, 0.18, 0.65, 0.03])\n",
    "NE_lo_slider = Slider(\n",
    "    ax=ax_NE_lo,\n",
    "    label='NE_lo',\n",
    "    valmin=0.001,\n",
    "    valmax=1.00,\n",
    "    valinit=init_NE_lo,\n",
    ")\n",
    "\n",
    "ax_PE_hi = plt.axes([0.15, 0.14, 0.65, 0.03])\n",
    "PE_hi_slider = Slider(\n",
    "    ax=ax_PE_hi,\n",
    "    label='PE_hi',\n",
    "    valmin=0.001,\n",
    "    valmax=1.00,\n",
    "    valinit=init_PE_hi,\n",
    ")\n",
    "\n",
    "ax_NE_hi = plt.axes([0.15, 0.1, 0.65, 0.03])\n",
    "NE_hi_slider = Slider(\n",
    "    ax=ax_NE_hi,\n",
    "    label='NE_hi',\n",
    "    valmin=0.01,\n",
    "    valmax=1.00,\n",
    "    valinit=init_NE_hi,\n",
    ")\n",
    "\n",
    "ax_Gr = plt.axes([0.15, 0.06, 0.65, 0.03])\n",
    "Gr_slider = Slider(\n",
    "    ax=ax_Gr,\n",
    "    label='Gr_fract',\n",
    "    valmin=0.001,\n",
    "    valmax=1.00,\n",
    "    valinit=init_Gr,\n",
    ")\n",
    "\n",
    " \n",
    "# The function to be called anytime a slider's value changes\n",
    "def update(val):\n",
    "    cell_curve_update, _, _, _ = dmc.calc_full_cell_OCV_multi_standalone(NE_Gr_OCV, NE_Si_OCV, PE_OCV, x_values, PE_lo_slider.val, NE_lo_slider.val, PE_hi_slider.val, NE_hi_slider.val, Gr_slider.val)\n",
    "    y_values_update = cell_curve_update['OCV']\n",
    "    line.set_ydata(y_values_update)\n",
    "    fig.canvas.draw_idle()\n",
    "\n",
    "# register the update function with each slider\n",
    "PE_lo_slider.on_changed(update)\n",
    "NE_lo_slider.on_changed(update)\n",
    "PE_hi_slider.on_changed(update)\n",
    "NE_hi_slider.on_changed(update)\n",
    "Gr_slider.on_changed(update)\n",
    "\n",
    "lines = [Line2D([0], [0], color=c, linewidth=3) for c in ['C0', 'C1']]\n",
    "labels = ['Calculated', 'Measured']\n",
    "ax.get_legend().remove()\n",
    "ax.legend(lines, labels)\n",
    "\n",
    "plt.show()"
   ]
  },
  {
   "cell_type": "code",
   "execution_count": null,
   "metadata": {},
   "outputs": [],
   "source": [
    "composite_fitted_params, _, _ = dmc.stoich_OCV_fit_multi_comp(NE_Gr_OCV, NE_Si_OCV, PE_OCV, discharge_cellBOL)\n",
    "\n",
    "comp_cell_curve, _, _, _ = dmc.calc_full_cell_OCV_multi_standalone(NE_Gr_OCV, NE_Si_OCV, PE_OCV, discharge_cellBOL['SOC (%)'], *composite_fitted_params)\n",
    "\n",
    "fitted_Gr_fract = composite_fitted_params[4].round(4)\n",
    "fitted_Si_fract = 1-fitted_Gr_fract\n",
    "\n",
    "ax=cell_curve.plot('SOC (%)', 'OCV', label='Traditional_fit', ls='--', c='r')\n",
    "discharge_cellBOL.plot('SOC (%)', 'Voltage (V)', ax=ax, label='Measured', c='k')\n",
    "comp_cell_curve.plot('SOC (%)', 'OCV', ax=ax, label='Composite_fit', ls=':')\n",
    "\n",
    "ax.set_title('BoL')\n",
    "ax.set_ylabel('Voltage (V)')\n",
    "ax.annotate(f'Gr_fraction: {fitted_Gr_fract}\\n Si_fraction: {fitted_Si_fract}',\n",
    "            xy=(0.35,0.2), xycoords='axes fraction',\n",
    "               xytext=(0.35,0.2), textcoords='axes fraction', horizontalalignment='left',verticalalignment='bottom', fontsize=15)"
   ]
  },
  {
   "cell_type": "markdown",
   "metadata": {},
   "source": [
    "### <a id='toc1_3_3_'></a>[Repeat OCV-fitting for EoL](#toc0_)"
   ]
  },
  {
   "cell_type": "markdown",
   "metadata": {},
   "source": [
    "Same as above but using the end of life data."
   ]
  },
  {
   "cell_type": "code",
   "execution_count": null,
   "metadata": {},
   "outputs": [],
   "source": [
    "composite_fitted_params_EoL, _, _ = dmc.stoich_OCV_fit_multi_comp(\n",
    "   NE_Gr_OCV, NE_Si_OCV, PE_OCV, discharge_cellEOL)\n",
    "\n",
    "comp_cell_curve_EoL, _, _, _ = dmc.calc_full_cell_OCV_multi_standalone(NE_Gr_OCV, NE_Si_OCV, PE_OCV, discharge_cellEOL['SOC (%)'], *composite_fitted_params_EoL)\n",
    "\n",
    "fitted_Gr_fract = composite_fitted_params_EoL[4].round(4)\n",
    "fitted_Si_fract = 1-fitted_Gr_fract\n",
    "\n",
    "ax=cell_curve_EoL.plot('SOC (%)', 'OCV', label='Traditional_fit', ls='--', c='r')\n",
    "discharge_cellEOL.plot('SOC (%)', 'Voltage (V)', ax=ax, label='Measured', c='k')\n",
    "comp_cell_curve_EoL.plot('SOC (%)', 'OCV', ax=ax, label='Composite_fit', ls=':')\n",
    "\n",
    "ax.set_title('EoL')\n",
    "ax.set_ylabel('Voltage (V)')\n",
    "ax.annotate(f'Gr_fraction: {fitted_Gr_fract}\\n Si_fraction: {fitted_Si_fract}',\n",
    "            xy=(0.35,0.2), xycoords='axes fraction',\n",
    "               xytext=(0.35,0.2), textcoords='axes fraction', horizontalalignment='left',verticalalignment='bottom', fontsize=15)"
   ]
  },
  {
   "cell_type": "markdown",
   "metadata": {},
   "source": [
    "The resulting fit is slightly better than that achieved by the traditional means for this dataset (especially at low SoC). The difference between the two becomes greater when you have greater rates of degradation for one component over another (i.e. if you've lost lost of silicon but not much graphite)."
   ]
  },
  {
   "cell_type": "markdown",
   "metadata": {},
   "source": [
    "### Repeat OCV-fitting for cell with lots of silicon loss"
   ]
  },
  {
   "cell_type": "markdown",
   "metadata": {},
   "source": [
    "Same as above but using the data from the cell which has been aged to specifically degrade silicon. Here we expect that the shape of the NE curve has changed dramatically due to a change in Gr:Si composition, and that our new OCV-fitting method will give better results than the 'traditional' one."
   ]
  },
  {
   "cell_type": "code",
   "execution_count": null,
   "metadata": {},
   "outputs": [],
   "source": [
    "composite_fitted_params_Extra, _, _ = dmc.stoich_OCV_fit_multi_comp(NE_Gr_OCV, NE_Si_OCV, PE_OCV, discharge_cellExtra, z_guess=[0.2, 0.001, 0.98, 0.72, 1.0])\n",
    "\n",
    "comp_cell_curve_Extra, _, _, _ = dmc.calc_full_cell_OCV_multi_standalone(NE_Gr_OCV, NE_Si_OCV, PE_OCV, discharge_cellExtra['SOC (%)'], *composite_fitted_params_Extra)\n",
    "\n",
    "fitted_Gr_fract = composite_fitted_params_Extra[4].round(4)\n",
    "fitted_Si_fract = (1-fitted_Gr_fract).round(4)\n",
    "\n",
    "ax=cell_curve_Extra.plot('SOC (%)', 'OCV', label='Traditional_fit', ls='--', c='r')\n",
    "discharge_cellExtra.plot('SOC (%)', 'Voltage (V)', ax=ax, label='Measured', c='k')\n",
    "comp_cell_curve_Extra.plot('SOC (%)', 'OCV', ax=ax, label='Composite_fit', ls=':')\n",
    "\n",
    "ax.set_title('EoL')\n",
    "ax.set_ylabel('Voltage (V)')\n",
    "ax.annotate(f'Gr_fraction: {fitted_Gr_fract}\\n Si_fraction: {fitted_Si_fract}',\n",
    "            xy=(0.35,0.2), xycoords='axes fraction',\n",
    "               xytext=(0.35,0.2), textcoords='axes fraction', horizontalalignment='left',verticalalignment='bottom', fontsize=15)"
   ]
  },
  {
   "cell_type": "code",
   "execution_count": null,
   "metadata": {},
   "outputs": [],
   "source": [
    "print(f'PE_lo: {composite_fitted_params_Extra[0]}\\n'\n",
    "      f'NE_lo: {composite_fitted_params_Extra[1]}\\n'\n",
    "      f'PE_hi: {composite_fitted_params_Extra[2]}\\n'\n",
    "      f'NE_hi: {composite_fitted_params_Extra[3]}\\n'\n",
    "      f'Gr_fract: {composite_fitted_params_Extra[4]}')"
   ]
  },
  {
   "cell_type": "markdown",
   "metadata": {},
   "source": [
    "The resulting fit is definitely better than that achieved by the traditional means for this dataset (especially at low SoC). The fitted parameters indicate that the silicon content in the NE has reduced from about **15%** at BoL to only **1%** here. That's quite a lot of LAM-NE-Si...\n",
    "\n",
    "-------------\n",
    "***Note:***\n",
    "The optimisation can sometimes get stuck in a local minimum if the initial guess of parameters isn't good, but performs much more robustly if we carry forward parameters from the previous SoH.\n",
    "\n",
    "-----------\n",
    "\n"
   ]
  },
  {
   "cell_type": "markdown",
   "metadata": {},
   "source": [
    "### DMA using the composite fit"
   ]
  },
  {
   "cell_type": "markdown",
   "metadata": {},
   "source": [
    "The \"DM_calc_multi_comp_long\" function outputs 3 pandas DataFrame objects. They contain:\n",
    "* **DM_data**: Values such as LAM and LLI for each of the full cell datasets input into the function. Each row is a different SoH, all relative to the BoL values.\n",
    "* **stoic_data**: Values of capacity and offset of each of the electrode components (1 step back from DMs).\n",
    "* **error_data**: RMSE values (in Volts) for the fit at each SoH."
   ]
  },
  {
   "cell_type": "code",
   "execution_count": null,
   "metadata": {},
   "outputs": [],
   "source": [
    "# Analayse the 3 datasets using the DMA function\n",
    "DM_data, stoic_data, error_data = dmc.DM_calc_multi_comp_long(\n",
    "    NE_Gr_OCV, NE_Si_OCV, PE_OCV, cellData[0], cellData[1:])"
   ]
  },
  {
   "cell_type": "code",
   "execution_count": null,
   "metadata": {},
   "outputs": [],
   "source": [
    "# Inspect one of the output DataFrames\n",
    "DM_data.head()"
   ]
  },
  {
   "cell_type": "markdown",
   "metadata": {},
   "source": [
    "### Differences from using the 'traditional' method\n",
    "\n",
    "We can see that that values of our DMs are different to the ones computed previously using the 'traditional' method, and that we no longer have issues of negative LAM occuring. We also now have two new outputs, LAM-NE-Gr and LAM-NE-Si, so we can see how the two components of the NE have aged. Here we see that the silicon degrades to a much larger extent than the graphite.\n",
    "\n",
    "### Note\n",
    "In this example, we don't know what has happened to the cell between each of the 3 stages of SoH (i.e. the number of ageing cycles or charge throughput etc.). However, if you do know that, you can replace the x-axis of the plot below to get a more representative view."
   ]
  },
  {
   "cell_type": "code",
   "execution_count": null,
   "metadata": {},
   "outputs": [],
   "source": [
    "# Plot the output data from the DMA function\n",
    "fig_DMA_output, ax = plt.subplots(3,1, sharex=True, figsize=(8,8))\n",
    "\n",
    "DM_data.plot(ax=ax[0], marker='o')\n",
    "stoic_data.plot(ax=ax[1], marker='o')\n",
    "error_data.plot(ax=ax[2], marker='o')\n",
    "\n",
    "ax[0].set_ylabel('DM Fraction')\n",
    "ax[1].set_ylabel('Capacity (mA h)')\n",
    "ax[2].set_ylabel('RMSE (V)')\n",
    "ax[2].set_xlabel('Dataset number')\n",
    "\n",
    "fig_DMA_output.tight_layout()"
   ]
  },
  {
   "cell_type": "code",
   "execution_count": null,
   "metadata": {},
   "outputs": [],
   "source": []
  }
 ],
 "metadata": {
  "kernelspec": {
   "display_name": "Python 3.9.6 ('envPBGEM')",
   "language": "python",
   "name": "python3"
  },
  "language_info": {
   "codemirror_mode": {
    "name": "ipython",
    "version": 3
   },
   "file_extension": ".py",
   "mimetype": "text/x-python",
   "name": "python",
   "nbconvert_exporter": "python",
   "pygments_lexer": "ipython3",
   "version": "3.9.6"
  },
  "vscode": {
   "interpreter": {
    "hash": "83fab7fbb3a8fe7b5910804f702478ef63e2cc6a08d85072a5d68865ed0fd8c7"
   }
  }
 },
 "nbformat": 4,
 "nbformat_minor": 4
}
