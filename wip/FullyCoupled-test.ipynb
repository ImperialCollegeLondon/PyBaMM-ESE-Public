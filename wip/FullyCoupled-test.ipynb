{
 "cells": [
  {
   "cell_type": "code",
   "execution_count": 1,
   "id": "technical-connection",
   "metadata": {},
   "outputs": [],
   "source": [
    "#%pip install pybamm -q    # install PyBaMM if it is not installed\n",
    "#import os\n",
    "import matplotlib.pyplot as plt\n",
    "import numpy as np\n",
    "import pybamm\n",
    "import pandas as pd\n",
    "import timeit\n",
    "start = timeit.default_timer()\n",
    "#os.chdir(pybamm.__path__[0]+'/..')\n",
    "# pybamm.set_logging_level(\"INFO\")"
   ]
  },
  {
   "cell_type": "code",
   "execution_count": 2,
   "id": "beneficial-radar",
   "metadata": {},
   "outputs": [],
   "source": [
    "model = pybamm.lithium_ion.DFN(\n",
    "    options={\n",
    "        \"particle\": \"Fickian diffusion\", \n",
    "        \"SEI\":\"none\", \n",
    "        \"SEI film resistance\":\"none\", \n",
    "        \"SEI porosity change\":\"false\",\n",
    "        \"particle cracking\":\"none\",\n",
    "        \"loss of active material\":\"none\",\n",
    "        \"lithium plating\": \"none\",\n",
    "    }\n",
    ")"
   ]
  },
  {
   "cell_type": "code",
   "execution_count": 3,
   "id": "aging-sacrifice",
   "metadata": {},
   "outputs": [],
   "source": [
    "chemistry = pybamm.parameter_sets.Chen2020\n",
    "param = pybamm.ParameterValues(chemistry=chemistry)\n",
    "param.update({\"Upper voltage cut-off [V]\": 4.21})\n",
    "# param.update({\"Inner SEI reaction proportion\":0})\n",
    "# param.update({\"Initial inner SEI thickness [m]\":0})\n",
    "# param.update({\"Initial outer SEI thickness [m]\": 5e-9})\n",
    "# param.update({\"Ratio of inner and outer SEI exchange current densities\": 0 })\n",
    "# param.update({\"Negative electrode cracking rate\":3.9e-20})\n",
    "# param.update({\"Outer SEI solvent diffusivity [m2.s-1]\": 2.5e-22})\n",
    "# param.update({\"Lithium plating kinetic rate constant [m.s-1]\": 1E-9})\n",
    "# param.update({\"SEI-plating coupling constant [s-1]\": 1E-6})"
   ]
  },
  {
   "cell_type": "code",
   "execution_count": 4,
   "id": "everyday-invitation",
   "metadata": {},
   "outputs": [],
   "source": [
    "total_cycles=10\n",
    "exp = pybamm.Experiment([\"Hold at 4.2V until C/100\", \"Rest for 4 hours\"] + [(\"Discharge at 1C until 2.5V\",\n",
    "    \"Charge at 0.3C until 4.2V\", \"Hold at 4.2V until C/100\",),\n",
    "]*total_cycles,use_simulation_setup_type='old')"
   ]
  },
  {
   "cell_type": "code",
   "execution_count": 5,
   "id": "sitting-berlin",
   "metadata": {},
   "outputs": [
    {
     "name": "stdout",
     "output_type": "stream",
     "text": [
      "running time: 358.3641910000006s\n"
     ]
    }
   ],
   "source": [
    "sim1 = pybamm.Simulation(\n",
    "    model, \n",
    "    experiment=exp,\n",
    "    parameter_values=param,\n",
    "    solver=pybamm.CasadiSolver(),\n",
    ")\n",
    "solution1 = sim1.solve()\n",
    "\n",
    "stop = timeit.default_timer()\n",
    "print('running time: ' + str(stop - start) +'s') \n",
    "#solution1.save('/mnt/e/pybamm_data/FullyCoupled_reference.pkl')"
   ]
  },
  {
   "cell_type": "code",
   "execution_count": 6,
   "id": "supreme-brown",
   "metadata": {},
   "outputs": [
    {
     "data": {
      "image/png": "[encoded data removed]",
      "text/plain": [
       "<Figure size 432x288 with 1 Axes>"
      ]
     },
     "metadata": {
      "needs_background": "light"
     },
     "output_type": "display_data"
    }
   ],
   "source": [
    "cycle_number = []\n",
    "Qdis_delta = []\n",
    "for i in range(total_cycles):\n",
    "    Qdis = solution1.cycles[i+2].steps[0][\"Discharge capacity [A.h]\"].entries\n",
    "    Qdis_delta.append(Qdis[-1] - Qdis[0])\n",
    "    cycle_number.append(i)\n",
    "#plt.rcParams.update({'font.size': 16})\n",
    "fig, ax = plt.subplots()\n",
    "ax.plot(cycle_number, Qdis_delta, color=\"blue\")\n",
    "plt.xlabel(\"Cycle number\")\n",
    "plt.ylabel(\"Discharge capacity [A.h]\")\n",
    "#fig.savefig('/mnt/e/pybamm_data/FullyCoupled_reference_cycles.pdf')\n",
    "plt.show()\n",
    "M_cycles = np.array([cycle_number,Qdis_delta])\n",
    "#np.savetxt(\"/mnt/e/pybamm_data/FullyCoupled_reference_cycles.txt\",M_cycles,delimiter=\",\")"
   ]
  },
  {
   "cell_type": "code",
   "execution_count": null,
   "id": "surrounded-brisbane",
   "metadata": {},
   "outputs": [],
   "source": []
  }
 ],
 "metadata": {
  "kernelspec": {
   "display_name": "Python 3",
   "language": "python",
   "name": "python3"
  },
  "language_info": {
   "codemirror_mode": {
    "name": "ipython",
    "version": 3
   },
   "file_extension": ".py",
   "mimetype": "text/x-python",
   "name": "python",
   "nbconvert_exporter": "python",
   "pygments_lexer": "ipython3",
   "version": "3.7.5"
  }
 },
 "nbformat": 4,
 "nbformat_minor": 5
}
