{
 "cells": [
  {
   "cell_type": "markdown",
   "metadata": {},
   "source": [
    "## Example notebook to run ParaSweeper"
   ]
  },
  {
   "cell_type": "markdown",
   "metadata": {},
   "source": [
    "### <a id='toc1_1_1_'></a>[Functions to be achieved:](#toc0_)\n",
    "1. reduce ram used; \n",
    "2. reduce code simplicity by building new class; (class: Controller; Path; )\n",
    "3. save more frequently\n",
    "4. reduce test time"
   ]
  },
  {
   "cell_type": "code",
   "execution_count": 88,
   "metadata": {},
   "outputs": [
    {
     "name": "stdout",
     "output_type": "stream",
     "text": [
      "The autoreload extension is already loaded. To reload it, use:\n",
      "  %reload_ext autoreload\n"
     ]
    }
   ],
   "source": [
    "# magic lines that avoid re-start \n",
    "%load_ext autoreload\n",
    "%autoreload 2"
   ]
  },
  {
   "cell_type": "code",
   "execution_count": 89,
   "metadata": {},
   "outputs": [],
   "source": [
    "# Load modules\n",
    "import pybamm as pb;import pandas as pd;import numpy as np;\n",
    "import os, json,openpyxl,traceback,multiprocessing,scipy.optimize,sys,gc\n",
    "import matplotlib.pyplot as plt;\n",
    "import pickle,imageio,timeit,random,time, signal\n",
    "from scipy.io import savemat,loadmat;\n",
    "from pybamm import constants,exp;import matplotlib as mpl"
   ]
  },
  {
   "cell_type": "code",
   "execution_count": 90,
   "metadata": {},
   "outputs": [
    {
     "data": {
      "text/plain": [
       "'/ParaSweeper'"
      ]
     },
     "execution_count": 90,
     "metadata": {},
     "output_type": "execute_result"
    }
   ],
   "source": [
    "str_path_0 = os.path.abspath(os.path.join(pb.__path__[0],'..'))\n",
    "str_path_1 = os.path.abspath(\n",
    "    os.path.join(str_path_0,\"/ParaSweeper\"))\n",
    "str_path_1"
   ]
  },
  {
   "cell_type": "code",
   "execution_count": 91,
   "metadata": {},
   "outputs": [],
   "source": [
    "# reduce variables that require define outside\n",
    "On_HPC = False\n",
    "if On_HPC:\n",
    "    case_no = int(os.environ[\"PBS_ARRAY_INDEX\"])\n",
    "    Path_Input = \"InputData/\" \n",
    "    BasicPath_Save=os.getcwd() \n",
    "else:\n",
    "    str_path_0 = os.path.abspath(os.path.join(pb.__path__[0],'..'))\n",
    "    str_path_1 = os.path.abspath(\n",
    "        os.path.join(str_path_0,\"ParaSweeper\"))\n",
    "    sys.path.append(str_path_1) \n",
    "    \n",
    "    case_no = 6\n",
    "    #### Note: you will need to change these two paths to fit your system. \n",
    "    Path_Input = os.path.expanduser(\n",
    "        \"~/EnvPBGEM_NC/SimSave/InputData/\") # for experimental data, like Niall's ageing experiment\n",
    "    BasicPath_Save =  os.path.expanduser(\n",
    "        \"~/EnvPBGEM_NC/SimSave/P2_R9_Dim\") # path to save simulation results\n",
    "# import all functions \n",
    "from main import run_one_case\n",
    "from main import *\n",
    "from TaskResult import *\n",
    "from TaskConfig import *\n",
    "from get_input_para import *"
   ]
  },
  {
   "cell_type": "code",
   "execution_count": null,
   "metadata": {},
   "outputs": [],
   "source": []
  },
  {
   "cell_type": "code",
   "execution_count": 92,
   "metadata": {},
   "outputs": [
    {
     "name": "stdout",
     "output_type": "stream",
     "text": [
      "Total scan case is 1\n"
     ]
    }
   ],
   "source": [
    "# define class for all inputs and customized settings:\n",
    "# start to do configuration:\n",
    "path_config = PathConfig(\n",
    "    On_HPC=On_HPC, Path_Input=Path_Input,\n",
    "    BasicPath_Save=BasicPath_Save,\n",
    "    purpose_i=\"Full_Exp1235_NC\", case_no=case_no,\n",
    "    rows_per_file= 1,Scan_end_end= 12,\n",
    "    )\n",
    "global_config = GlobalConfig(\n",
    "    On_HPC=On_HPC, Runshort=True, \n",
    "    Plot_Exp=True, Timeout=True, Return_Sol=True, \n",
    "    Check_Short_Time=True, R_from_GITT=True,\n",
    "    fs=13, dpi=100, Re_No=0, Timelimit=int(3600*48),\n",
    "    Timeout_text = 'I timed out'   )\n",
    "\n",
    "exp_config = ExpConfig()\n",
    "para_config = ParameterConfig()\n",
    "model_config = ModelConfig()\n",
    "expData_config = ExperimentDataConfig(cap_0 = 4.86491)\n",
    "config = TaskConfig(\n",
    "    path_config=path_config, global_config=global_config, \n",
    "    exp_config=exp_config,para_config=para_config,\n",
    "    model_config=model_config,expData_config=expData_config, Scan_No=case_no)\n",
    "\n",
    "# Load input file\n",
    "\n",
    "# normal version\n",
    "# Para_dict_list = load_combinations_from_csv(config.path_config.Para_file) \n",
    "\n",
    "# for demo purpose only\n",
    "path_csv_special_for_test = str_path_1 + \"/Bundle_6.csv\"\n",
    "Para_dict_list = load_combinations_from_csv(path_csv_special_for_test) \n",
    "pool_no = len(Para_dict_list) # do parallel computing if needed"
   ]
  },
  {
   "cell_type": "code",
   "execution_count": 93,
   "metadata": {},
   "outputs": [
    {
     "data": {
      "text/plain": [
       "{'Scan No': 6,\n",
       " 'Exp No.': 6,\n",
       " 'Ageing temperature': 40,\n",
       " 'Mesh list': '[5,5,5,60,20]',\n",
       " 'Inner SEI lithium interstitial diffusivity [m2.s-1]': 9.81e-19,\n",
       " 'Dead lithium decay constant [s-1]': 1e-07,\n",
       " 'Lithium plating kinetic rate constant [m.s-1]': 1e-10,\n",
       " 'Negative electrode LAM constant proportional term [s-1]': 2.84e-09,\n",
       " 'Positive electrode LAM constant proportional term [s-1]': 2.98e-18,\n",
       " 'Negative electrode cracking rate': 5.29e-25,\n",
       " 'Outer SEI partial molar volume [m3.mol-1]': 5.22e-05,\n",
       " 'SEI growth activation energy [J.mol-1]': 5000.0,\n",
       " 'Negative cracking growth activation energy [J.mol-1]': 0.0,\n",
       " 'Negative electrode diffusivity activation energy [J.mol-1]': 20000.0,\n",
       " 'Positive electrode diffusivity activation energy [J.mol-1]': 12000.0,\n",
       " 'Initial electrolyte excessive amount ratio': 1.0,\n",
       " 'Cycles within RPT': 1,\n",
       " 'RPT temperature': 25,\n",
       " 'Para_Set': 'OKane2023',\n",
       " 'Model option': \"{'SEI': 'interstitial-diffusion limited', 'SEI on cracks': 'true', 'lithium plating': 'partially reversible', 'lithium plating porosity change': 'true', 'particle mechanics': ('swelling and cracking', 'swelling only'), 'loss of active material': 'stress-driven', 'contact resistance': 'true', 'open-circuit potential': 'current sigmoid', 'SEI film resistance': 'distributed', 'SEI porosity change': 'true', 'thermal': 'lumped'}\",\n",
       " 'Negative electrode diffusivity [m2.s-1]': 3.3e-14,\n",
       " 'Positive electrode diffusivity [m2.s-1]': 4e-15}"
      ]
     },
     "execution_count": 93,
     "metadata": {},
     "output_type": "execute_result"
    }
   ],
   "source": [
    "# hack the input to make demo quicker:\n",
    "Para_dict_list[0]['Mesh list'] = '[5,5,5,60,20]'\n",
    "Para_dict_list[0][\"Negative electrode diffusivity [m2.s-1]\"] = 3.3e-14\n",
    "Para_dict_list[0][\"Positive electrode diffusivity [m2.s-1]\"] = 4e-15\n",
    "Para_dict_list[0]['Exp No.'] = 6 # in this case, no experiment data needed\n",
    "Para_dict_list[0]"
   ]
  },
  {
   "cell_type": "code",
   "execution_count": 94,
   "metadata": {},
   "outputs": [
    {
     "name": "stdout",
     "output_type": "stream",
     "text": [
      "Aging T is 40degC\n"
     ]
    }
   ],
   "source": [
    "\n",
    "# Assuming we only do the first one:\n",
    "config.get_para_dictionary(Para_dict_list[0])\n",
    "\n",
    "# config.para_config.Para_dict_i['Exp No.'] = 8\n",
    "\n",
    "config.get_expconfig()\n",
    "config.initialize_experiment_text()\n",
    "config.get_exp_data_config()"
   ]
  },
  {
   "cell_type": "markdown",
   "metadata": {},
   "source": [
    "### Run the model"
   ]
  },
  {
   "cell_type": "code",
   "execution_count": 95,
   "metadata": {},
   "outputs": [
    {
     "name": "stdout",
     "output_type": "stream",
     "text": [
      "Start Now! Scan 6 Re 0\n",
      "Has Overwritten Initial outer SEI thickness [m] to be \n",
      "        9.23e-09 and Negative electrode \n",
      "        porosity to be 0.235 to account for initial \n",
      "        capacity loss of 0.135 Ah\n",
      "Initial electrolyte amount is  5.236163896909271 mL\n",
      "Scan 6 Re 0: Spent 1.417 ms on Initialization, DryOut = On\n"
     ]
    },
    {
     "name": "stdout",
     "output_type": "stream",
     "text": [
      "\n",
      "Succeed to run break in for the 0th time with perturbation of 0.00e+00Ah\n",
      "\n",
      "Scan 6 Re 0: Finish break-in cycle within 50.111 s\n",
      "Scan 6 Re 0: Finish post-process for break-in cycle within 1.947 s\n",
      "Electrolyte is being squeezed out, check plated lithium (active and dead)\n"
     ]
    },
    {
     "name": "stderr",
     "output_type": "stream",
     "text": [
      "At t = 314.598 and h = 6.61298e-12, the corrector convergence failed repeatedly or with |h| = hmin.\n"
     ]
    },
    {
     "name": "stdout",
     "output_type": "stream",
     "text": [
      "Succeed to run the ageing set for 1 cycles the 1th time\n",
      "Scan 6 Re 0: Finish No.\n",
      "              0 \n",
      "              ageing cycles within 19.069 s\n",
      "Scan 6 Re 0: Finish post-process for \n",
      "              No. 1 \n",
      "              ageing cycles within 155.827 ms\n",
      "Succeed to run RPT for the 1th time\n",
      "Scan 6 Re 0: Finish No.\"\n",
      "            1\"\n",
      "            RPT cycles within 44.934 s\n",
      "Scan 6 Re 0: Finish post-process for No.\n",
      "            1 \n",
      "            RPT cycles within 2.223 s\n",
      "Scan 6 Re 0: Getting extra variables within 1.950 ms\n",
      "Scan 6 Re 0: Finish all plots within 5.488 s\n",
      "Electrolyte is being squeezed out, check plated lithium (active and dead)\n",
      "Scan 6 Re 0: Save Early for RPT 0 within 439.347 ms\n"
     ]
    },
    {
     "name": "stderr",
     "output_type": "stream",
     "text": [
      "At t = 314.26 and h = 2.71212e-11, the corrector convergence failed repeatedly or with |h| = hmin.\n"
     ]
    },
    {
     "name": "stdout",
     "output_type": "stream",
     "text": [
      "Succeed to run the ageing set for 1 cycles the 1th time\n",
      "Scan 6 Re 0: Finish No.\n",
      "              1 \n",
      "              ageing cycles within 15.715 s\n",
      "Scan 6 Re 0: Finish post-process for \n",
      "              No. 2 \n",
      "              ageing cycles within 178.859 ms\n",
      "Succeed to run RPT for the 1th time\n",
      "Scan 6 Re 0: Finish No.\"\n",
      "            2\"\n",
      "            RPT cycles within 41.911 s\n",
      "Scan 6 Re 0: Finish post-process for No.\n",
      "            2 \n",
      "            RPT cycles within 2.433 s\n",
      "Scan 6 Re 0: Getting extra variables within 1.088 ms\n",
      "Scan 6 Re 0: Finish all plots within 5.441 s\n",
      "Electrolyte is being squeezed out, check plated lithium (active and dead)\n",
      "Scan 6 Re 0: Save Early for RPT 1 within 445.082 ms\n",
      "Scan 6 Re 0: Finish all plots within 5.436 s\n",
      "Scan 6 Re 0: Try saving within 60.676 ms\n",
      "Succeed doing something in 3 minutes, 16 seconds\n",
      "This is the end of No. 6 scan, Re 0\n"
     ]
    }
   ],
   "source": [
    "# Run the model, assuming only one case:\n",
    "if config.global_config.Re_No == 0:\n",
    "    task_result, config = run_one_case(config) \n",
    "elif config.global_config.Re_No > 0:\n",
    "    pass\n"
   ]
  }
 ],
 "metadata": {
  "kernelspec": {
   "display_name": "EnvPBGEM_NC",
   "language": "python",
   "name": "python3"
  },
  "language_info": {
   "codemirror_mode": {
    "name": "ipython",
    "version": 3
   },
   "file_extension": ".py",
   "mimetype": "text/x-python",
   "name": "python",
   "nbconvert_exporter": "python",
   "pygments_lexer": "ipython3",
   "version": "3.10.12"
  }
 },
 "nbformat": 4,
 "nbformat_minor": 2
}
